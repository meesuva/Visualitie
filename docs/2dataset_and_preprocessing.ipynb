{
 "cells": [
  {
   "cell_type": "code",
   "execution_count": 2,
   "id": "5750d8e7",
   "metadata": {},
   "outputs": [
    {
     "ename": "ModuleNotFoundError",
     "evalue": "No module named 'pandas'",
     "output_type": "error",
     "traceback": [
      "\u001b[1;31m---------------------------------------------------------------------------\u001b[0m",
      "\u001b[1;31mModuleNotFoundError\u001b[0m                       Traceback (most recent call last)",
      "Cell \u001b[1;32mIn[2], line 1\u001b[0m\n\u001b[1;32m----> 1\u001b[0m \u001b[38;5;28;01mimport\u001b[39;00m\u001b[38;5;250m \u001b[39m\u001b[38;5;21;01mpandas\u001b[39;00m\u001b[38;5;250m \u001b[39m\u001b[38;5;28;01mas\u001b[39;00m\u001b[38;5;250m \u001b[39m\u001b[38;5;21;01mpd\u001b[39;00m\n\u001b[0;32m      2\u001b[0m \u001b[38;5;28;01mimport\u001b[39;00m\u001b[38;5;250m \u001b[39m\u001b[38;5;21;01mre\u001b[39;00m\n\u001b[0;32m      4\u001b[0m \u001b[38;5;66;03m#\u001b[39;00m\n",
      "\u001b[1;31mModuleNotFoundError\u001b[0m: No module named 'pandas'"
     ]
    }
   ],
   "source": [
    "import pandas as pd\n",
    "import re\n",
    "\n",
    "#\n",
    "df_happy = pd.read_csv('../../../../2019happy.csv')\n",
    "df_happy.columns = df_happy.columns.str.strip()\n",
    "df_happy = df_happy.rename(columns={\n",
    "    'Country or region': 'Country',\n",
    "    'Score':             'Happiness',\n",
    "    'Social support':    'Social_support'\n",
    "})\n",
    "df_happy['Year'] = 2019\n",
    "\n",
    "#\n",
    "df = pd.read_csv('../../../../WDI_new.csv')\n",
    "df.columns = df.columns.str.strip()\n",
    "df = df.rename(columns={'Country Name':'Country','Series Code':'Series_Code'})\n",
    "\n",
    "#\n",
    "year_cols = [c for c in df.columns if re.match(r'\\d{4} \\[YR\\d{4}\\]', c)]\n",
    "year_map = {c: c.split(' ')[0] for c in year_cols}\n",
    "df = df.rename(columns=year_map)\n",
    "df_long = df.melt(\n",
    "    id_vars=['Country','Series_Code'],\n",
    "    value_vars=list(year_map.values()),\n",
    "    var_name='Year', value_name='Value'\n",
    ")\n",
    "df_long['Year'] = df_long['Year'].astype(int)\n",
    "df_long['Value'] = pd.to_numeric(df_long['Value'], errors='coerce')\n",
    "\n",
    "#\n",
    "wanted = {\n",
    "    \"NY.GDP.PCAP.KN\":    \"GDP_per_capita\",\n",
    "    \"NY.GNP.PCAP.KN\":    \"GNI_per_capita\",\n",
    "    \"SI.POV.GINI\":       \"Gini_index\",\n",
    "    \"SP.DYN.LE00.IN\":    \"Life_expectancy\",\n",
    "    \"SL.UEM.TOTL.NE.ZS\": \"Unemployment_rate\",\n",
    "    \"SE.XPD.TOTL.GB.ZS\": \"Edu_expenditure_pct\" \n",
    "}\n",
    "w19 = df_long[(df_long['Year']==2019) & \n",
    "             (df_long['Series_Code'].isin(wanted))]\n",
    "wide = (\n",
    "    w19.pivot_table(\n",
    "        index=['Country','Year'],\n",
    "        columns='Series_Code',\n",
    "        values='Value',\n",
    "        aggfunc='first'\n",
    "    )\n",
    "    .rename(columns=wanted)\n",
    "    .reset_index()\n",
    ")\n",
    "\n",
    "# \n",
    "df_final = pd.merge(df_happy[['Country','Year','Happiness']],\n",
    "                    wide, on=['Country','Year'], how='inner')\n",
    "\n",
    "df_final.index = df_final.index + 1\n",
    "display(df_final.head())"
   ]
  }
 ],
 "metadata": {
  "kernelspec": {
   "display_name": "jupyterbook",
   "language": "python",
   "name": "python3"
  },
  "language_info": {
   "codemirror_mode": {
    "name": "ipython",
    "version": 3
   },
   "file_extension": ".py",
   "mimetype": "text/x-python",
   "name": "python",
   "nbconvert_exporter": "python",
   "pygments_lexer": "ipython3",
   "version": "3.10.16"
  }
 },
 "nbformat": 4,
 "nbformat_minor": 5
}
