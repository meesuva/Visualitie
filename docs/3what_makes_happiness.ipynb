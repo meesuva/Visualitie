{
 "cells": [
  {
   "cell_type": "markdown",
   "id": "f45842d4",
   "metadata": {},
   "source": [
    "# What makes Happiness?"
   ]
  },
  {
   "cell_type": "markdown",
   "id": "f70591b2",
   "metadata": {},
   "source": [
    "For a long time, people have been interested in what makes us happy and how we can improve well-being in society. One big question is whether having more money or wealth actually makes people happier, or if there are other things that matter more. We often hear the saying “money can’t buy happiness,” but the real answer is a bit more complicated than that.\n",
    "\n",
    "In this data story, we will explore how happiness relates to different economic and social factors using information from the World Happiness Report 2019 and World Development Indicators. This report looks at how happy people are in different countries and compares that with demographic variables like GDP per capita, Gross National Income (GNI), the gini index, unemployment rates, education levels, and life expectancy.\n",
    "\n",
    "We want to find out if richer countries really have happier people, and if so, how strong this connection is. But we will also look beyond money to see how things like having a job, going to school, and living a long, healthy life affect happiness. For example, being unemployed might make people less happy even if their country is wealthy, and having a good education could improve well-being in ways that money alone can’t.\n",
    "\n",
    "First, we will compare happiness scores with income indicators like GDP per capita and GNI. Then, we will analyze how unemployment rates relate to happiness. After that, we will look at the gini index, education and life expectancy to see how these factors could affect happiness scores across countries.\n",
    "\n",
    "By comparing these different aspects, we hope to better understand what really contributes to happiness around the world. This will help us see whether the saying “money buys happiness” really holds. And if it doesn’t hold, we could find out what does make happiness.\n"
   ]
  },
  {
   "cell_type": "markdown",
   "id": "623446df",
   "metadata": {},
   "source": [
    "It is often proposed that greater national wealth leads to higher levels of happiness among citizens. To see wether they are correlated, we analysed how average happiness scores relate to three key economic indicators: Gross Domestic Product (GDP), Gross National Income (GNI), and the Gini Index (Income inequality).\n",
    "\n",
    "The trendlines suggest that countries with higher GDP and GNI often report higher happiness levels. This supports the general belief that wealth leads to happiness due to the fact that wealth increases access to basic needs, and social stability, factors that are positively associated with well-being and happiness. However, the relationship is not linear, and several wealthy countries show only moderate happiness scores, this suggests other factors are still extremely relevant and happiness cannot be predicted by looking at wealth alone. Correlation does not imply causation, and the observed pattern may be influenced by unmeasured factors.\n",
    "\n",
    "The third plot, Happiness vs Gini Index, presents a different insight. Within this dataset, a negative correlation is visible, with happiness tending to decline as income inequality (measured by the Gini Index) increases. . In other words, even among wealthier nations, greater inequality is associated with lower average happiness. This aligns with findings by researchers such as Oishi et al., (2011), who in their research found that americans reported being happier on average in years where the national income inequality was less. This suggests income inequality might be a factor which has impact on the happiness . However income inequality may be acting as a substitute for how people perceive the fairness in society and the level of social mobility people have. Happiness is also a subjective measurement, and cultural differences in how inequality is perceived can vary widely, potentially affecting how people respond in surveys.\n",
    "\n",
    "The plots suggest that while wealth does matter, its distribution may be even more of a factor. Factors such as income equality are likely important to how people will respond to questions about their happiness. "
   ]
  },
  {
   "cell_type": "code",
   "execution_count": 10,
   "id": "4d5f346a",
   "metadata": {},
   "outputs": [
    {
     "data": {
      "text/html": [
       "        <script type=\"text/javascript\">\n",
       "        window.PlotlyConfig = {MathJaxConfig: 'local'};\n",
       "        if (window.MathJax && window.MathJax.Hub && window.MathJax.Hub.Config) {window.MathJax.Hub.Config({SVG: {font: \"STIX-Web\"}});}\n",
       "        if (typeof require !== 'undefined') {\n",
       "        require.undef(\"plotly\");\n",
       "        requirejs.config({\n",
       "            paths: {\n",
       "                'plotly': ['https://cdn.plot.ly/plotly-2.35.2.min']\n",
       "            }\n",
       "        });\n",
       "        require(['plotly'], function(Plotly) {\n",
       "            window._Plotly = Plotly;\n",
       "        });\n",
       "        }\n",
       "        </script>\n",
       "        "
      ]
     },
     "metadata": {},
     "output_type": "display_data"
    },
    {
     "data": {
      "application/vnd.plotly.v1+json": {
       "config": {
        "linkText": "Export to plot.ly",
        "plotlyServerURL": "https://plot.ly",
        "showLink": false
       },
       "data": [
        {
         "customdata": [
          1,
          2,
          3,
          4,
          5,
          6,
          7,
          8,
          9,
          10,
          11,
          12,
          13,
          14,
          15,
          16,
          17,
          18,
          19,
          20,
          21,
          22,
          23,
          24,
          25,
          26,
          27,
          28,
          29,
          30,
          31,
          32,
          33,
          34,
          35,
          36,
          37,
          38,
          39,
          40,
          41,
          42,
          43,
          44,
          45,
          46,
          47,
          48,
          49,
          50,
          51,
          52,
          53,
          54,
          55,
          56,
          57,
          58,
          59,
          60,
          61,
          62,
          63,
          64,
          65,
          66,
          67,
          68,
          69,
          70,
          71,
          72,
          73,
          74,
          75,
          76,
          77,
          78,
          79,
          79,
          81,
          82,
          83,
          84,
          85,
          86,
          87,
          88,
          89,
          90,
          91,
          92,
          93,
          94,
          95,
          96,
          97,
          98,
          99,
          100,
          101,
          102,
          103,
          104,
          105,
          106,
          107,
          108,
          109,
          110,
          111,
          112,
          113,
          114,
          115,
          116,
          117,
          118,
          119,
          120,
          121,
          122,
          123,
          124,
          125,
          126,
          127,
          128,
          129,
          130,
          131,
          132
         ],
         "hovertemplate": "Country: %{text}<br>Rank: %{customdata} out of 133<br>GDP (US$): %{x:$,.0f}<br>Happiness: %{y:.2f}<extra></extra>",
         "mode": "markers",
         "name": "GDP (US$)",
         "text": [
          "Finland",
          "Denmark",
          "Norway",
          "Iceland",
          "Netherlands",
          "Switzerland",
          "Sweden",
          "New Zealand",
          "Canada",
          "Austria",
          "Australia",
          "Costa Rica",
          "Israel",
          "Luxembourg",
          "United Kingdom",
          "Ireland",
          "Germany",
          "Belgium",
          "United States",
          "United Arab Emirates",
          "Malta",
          "Mexico",
          "France",
          "Chile",
          "Guatemala",
          "Saudi Arabia",
          "Qatar",
          "Spain",
          "Panama",
          "Brazil",
          "Uruguay",
          "Singapore",
          "El Salvador",
          "Italy",
          "Bahrain",
          "Poland",
          "Uzbekistan",
          "Lithuania",
          "Colombia",
          "Slovenia",
          "Nicaragua",
          "Kosovo",
          "Argentina",
          "Romania",
          "Cyprus",
          "Ecuador",
          "Kuwait",
          "Thailand",
          "Latvia",
          "Estonia",
          "Jamaica",
          "Mauritius",
          "Japan",
          "Honduras",
          "Kazakhstan",
          "Bolivia",
          "Hungary",
          "Paraguay",
          "Peru",
          "Portugal",
          "Pakistan",
          "Philippines",
          "Serbia",
          "Moldova",
          "Libya",
          "Montenegro",
          "Tajikistan",
          "Croatia",
          "Dominican Republic",
          "Bosnia and Herzegovina",
          "Malaysia",
          "Belarus",
          "Greece",
          "Mongolia",
          "North Macedonia",
          "Nigeria",
          "Turkmenistan",
          "Algeria",
          "Morocco",
          "Azerbaijan",
          "Lebanon",
          "Indonesia",
          "China",
          "Bhutan",
          "Cameroon",
          "Bulgaria",
          "Ghana",
          "Nepal",
          "Jordan",
          "Benin",
          "Gabon",
          "South Africa",
          "Albania",
          "Cambodia",
          "Senegal",
          "Somalia",
          "Namibia",
          "Niger",
          "Burkina Faso",
          "Armenia",
          "Guinea",
          "Georgia",
          "Kenya",
          "Mauritania",
          "Mozambique",
          "Tunisia",
          "Bangladesh",
          "Iraq",
          "Mali",
          "Sierra Leone",
          "Sri Lanka",
          "Myanmar",
          "Chad",
          "Ukraine",
          "Ethiopia",
          "Uganda",
          "Zambia",
          "Togo",
          "India",
          "Liberia",
          "Comoros",
          "Madagascar",
          "Lesotho",
          "Burundi",
          "Zimbabwe",
          "Haiti",
          "Botswana",
          "Malawi",
          "Rwanda",
          "Tanzania",
          "Afghanistan",
          "Central African Republic"
         ],
         "type": "scatter",
         "visible": true,
         "x": [
          267014821129.411,
          345401473012.615,
          408742840909.091,
          24681343649.2952,
          928903005576.469,
          721369112726.724,
          532169294165.94,
          212846907683.439,
          1743725183672.52,
          442983642371.842,
          1392723834562.64,
          64417670521.3545,
          399651065197.871,
          69890505323.5842,
          2851407164907.81,
          407124824064.995,
          3957208055215.68,
          536726344405.489,
          21539982000000,
          417989721734.494,
          16337793530.7788,
          1304106203694.81,
          2722793515171.76,
          278285058719.466,
          77172317258.6478,
          838564800000,
          176371267689.082,
          1403496387686.27,
          69778991200,
          1873288205186.45,
          62222325807.0578,
          376901649222.451,
          26881140000,
          2019606796583.53,
          40446808510.6383,
          602683770144.88,
          67293639798.3996,
          55122066225.796,
          323031701192.84,
          53909922735.545,
          12699028889.666,
          7899737577.47286,
          447754683615.225,
          251677082534.495,
          26196667099.5303,
          107595829000,
          140856394870.02,
          543976691793.886,
          33099503950.847,
          31873748770.0313,
          15830766570.7266,
          14436346979.6355,
          5117993853016.51,
          24882225741.8119,
          181667184854.501,
          40895322843.7851,
          164020460331.659,
          37925338329.1494,
          228346006003.648,
          240115970063.019,
          320909472770.669,
          376823402244.928,
          53864693664.5568,
          11736797054.6965,
          69254496471.6938,
          5542054181.12616,
          8300813599.3084,
          61467582193.6824,
          88941372558.2397,
          20482608755.379,
          365177721021.516,
          64410122847.3508,
          207305649887.019,
          14206359017.5143,
          12606338448.547,
          474517490844.461,
          45232857142.8571,
          193459662090.677,
          128920266409.458,
          48174235294.1176,
          51605959131.2741,
          1119099871385.79,
          14279968506271.7,
          2735683570.28851,
          39667757527.6578,
          68631726289.2794,
          68337969247.7067,
          34186180699.0255,
          44503006338.0282,
          14391686309.033,
          16874405465.391,
          389330032224.269,
          15585105131.0644,
          36685356407.7206,
          23403995992.1354,
          8655023960.002,
          12541928303.48,
          12889555561.2299,
          16032813503.3707,
          13619290539.2116,
          13442861496.4454,
          17638337116.9126,
          100378436207.371,
          7894764885.82312,
          15512759046.672,
          41905642418.825,
          351231654603.692,
          233636097800.338,
          17280250810.0321,
          6523577590.38319,
          89014978344.1404,
          75065106227.6892,
          11314951091.7283,
          153883047509.577,
          95912607722.3032,
          35348155095.4215,
          23308667781.2258,
          6992700101.37188,
          2835606256558.19,
          3319596500,
          1195019531.9011,
          14104664678.5063,
          2390702295.82777,
          2576518879.82353,
          25717409842.4479,
          15016090929.5125,
          16725908148.5481,
          11051865579.8121,
          10349300380.33,
          61026731925.9213,
          18799444490.1128,
          2221301351.43918
         ],
         "y": [
          7.769,
          7.6,
          7.554,
          7.494,
          7.488,
          7.48,
          7.343,
          7.307,
          7.278,
          7.246,
          7.228,
          7.167,
          7.139,
          7.09,
          7.054,
          7.021,
          6.985,
          6.923,
          6.892,
          6.825,
          6.726,
          6.595,
          6.592,
          6.444,
          6.436,
          6.375,
          6.374,
          6.354,
          6.321,
          6.3,
          6.293,
          6.262,
          6.253,
          6.223,
          6.199,
          6.182,
          6.174,
          6.149,
          6.125,
          6.118,
          6.105,
          6.1,
          6.086,
          6.07,
          6.046,
          6.028,
          6.021,
          6.008,
          5.94,
          5.893,
          5.89,
          5.888,
          5.886,
          5.86,
          5.809,
          5.779,
          5.758,
          5.743,
          5.697,
          5.693,
          5.653,
          5.631,
          5.603,
          5.529,
          5.525,
          5.523,
          5.467,
          5.432,
          5.425,
          5.386,
          5.339,
          5.323,
          5.287,
          5.285,
          5.274,
          5.265,
          5.247,
          5.211,
          5.208,
          5.208,
          5.197,
          5.192,
          5.191,
          5.082,
          5.044,
          5.011,
          4.996,
          4.913,
          4.906,
          4.883,
          4.799,
          4.722,
          4.719,
          4.7,
          4.681,
          4.668,
          4.639,
          4.628,
          4.587,
          4.559,
          4.534,
          4.519,
          4.509,
          4.49,
          4.466,
          4.461,
          4.456,
          4.437,
          4.39,
          4.374,
          4.366,
          4.36,
          4.35,
          4.332,
          4.286,
          4.189,
          4.107,
          4.085,
          4.015,
          3.975,
          3.973,
          3.933,
          3.802,
          3.775,
          3.663,
          3.597,
          3.488,
          3.41,
          3.334,
          3.231,
          3.203,
          3.083
         ]
        },
        {
         "customdata": [
          1,
          2,
          3,
          4,
          5,
          6,
          7,
          8,
          9,
          10,
          11,
          12,
          13,
          14,
          15,
          16,
          17,
          18,
          19,
          20,
          21,
          22,
          23,
          24,
          25,
          26,
          27,
          28,
          29,
          30,
          31,
          32,
          33,
          34,
          35,
          36,
          37,
          38,
          39,
          40,
          41,
          42,
          43,
          44,
          45,
          46,
          47,
          48,
          49,
          50,
          51,
          52,
          53,
          54,
          55,
          56,
          57,
          58,
          59,
          60,
          61,
          62,
          63,
          64,
          65,
          66,
          67,
          68,
          69,
          70,
          71,
          72,
          73,
          74,
          75,
          76,
          77,
          78,
          79,
          79,
          81,
          82,
          83,
          84,
          85,
          86,
          87,
          88,
          89,
          90,
          91,
          92,
          93,
          94,
          95,
          96,
          97,
          98,
          99,
          100,
          101,
          102,
          103,
          104,
          105,
          106,
          107,
          108,
          109,
          110,
          111,
          112,
          113,
          114,
          115,
          116,
          117,
          118,
          119,
          120,
          121,
          122,
          123,
          124,
          125,
          126,
          127,
          128,
          129,
          130,
          131,
          132
         ],
         "hovertemplate": "Country: %{text}<br>Rank: %{customdata} out of 133<br>GNI (US$): %{x:$,.0f}<br>Happiness: %{y:.2f}<extra></extra>",
         "mode": "markers",
         "name": "GNI (US$)",
         "text": [
          "Finland",
          "Denmark",
          "Norway",
          "Iceland",
          "Netherlands",
          "Switzerland",
          "Sweden",
          "New Zealand",
          "Canada",
          "Austria",
          "Australia",
          "Costa Rica",
          "Israel",
          "Luxembourg",
          "United Kingdom",
          "Ireland",
          "Germany",
          "Belgium",
          "United States",
          "United Arab Emirates",
          "Malta",
          "Mexico",
          "France",
          "Chile",
          "Guatemala",
          "Saudi Arabia",
          "Qatar",
          "Spain",
          "Panama",
          "Brazil",
          "Uruguay",
          "Singapore",
          "El Salvador",
          "Italy",
          "Bahrain",
          "Poland",
          "Uzbekistan",
          "Lithuania",
          "Colombia",
          "Slovenia",
          "Nicaragua",
          "Kosovo",
          "Argentina",
          "Romania",
          "Cyprus",
          "Ecuador",
          "Kuwait",
          "Thailand",
          "Latvia",
          "Estonia",
          "Jamaica",
          "Mauritius",
          "Japan",
          "Honduras",
          "Kazakhstan",
          "Bolivia",
          "Hungary",
          "Paraguay",
          "Peru",
          "Portugal",
          "Pakistan",
          "Philippines",
          "Serbia",
          "Moldova",
          "Libya",
          "Montenegro",
          "Tajikistan",
          "Croatia",
          "Dominican Republic",
          "Bosnia and Herzegovina",
          "Malaysia",
          "Belarus",
          "Greece",
          "Mongolia",
          "North Macedonia",
          "Nigeria",
          "Turkmenistan",
          "Algeria",
          "Morocco",
          "Azerbaijan",
          "Lebanon",
          "Indonesia",
          "China",
          "Bhutan",
          "Cameroon",
          "Bulgaria",
          "Ghana",
          "Nepal",
          "Jordan",
          "Benin",
          "Gabon",
          "South Africa",
          "Albania",
          "Cambodia",
          "Senegal",
          "Somalia",
          "Namibia",
          "Niger",
          "Burkina Faso",
          "Armenia",
          "Guinea",
          "Georgia",
          "Kenya",
          "Mauritania",
          "Mozambique",
          "Tunisia",
          "Bangladesh",
          "Iraq",
          "Mali",
          "Sierra Leone",
          "Sri Lanka",
          "Myanmar",
          "Chad",
          "Ukraine",
          "Ethiopia",
          "Uganda",
          "Zambia",
          "Togo",
          "India",
          "Liberia",
          "Comoros",
          "Madagascar",
          "Lesotho",
          "Burundi",
          "Zimbabwe",
          "Haiti",
          "Botswana",
          "Malawi",
          "Rwanda",
          "Tanzania",
          "Afghanistan",
          "Central African Republic"
         ],
         "type": "scatter",
         "visible": false,
         "x": [
          269899706941.176,
          355443582780.668,
          421234090909.091,
          25374511608.1548,
          891679358650.979,
          696318048854.117,
          547611418095.424,
          207518405665.816,
          1722945761061.66,
          443323100627.45,
          1345853874492.3,
          60575320937.0316,
          397736725276.623,
          47877349992.9411,
          2848530128634.05,
          309776780487.207,
          4034728306596.07,
          541049419119.999,
          21764838000000,
          420051262918.973,
          14798835701.3958,
          1267424146058.02,
          2787416524619.6,
          267848366678.638,
          75768261350.5168,
          846719422506.667,
          171961652307.692,
          1396786257474.51,
          65459457700,
          1822994396029.28,
          59174795690.0189,
          333217559842.775,
          25540040000,
          2027301728521.57,
          38186170212.766,
          577797688425.851,
          68029857950.0186,
          52901803474.7058,
          315981529469.142,
          53555776974.3685,
          12232628822.9947,
          8079554105.61387,
          430166792070.565,
          248106362712.884,
          24793491597.2219,
          104536017000,
          161059878933.509,
          523977887377.21,
          33726980608.3372,
          30681549837.647,
          15389266570.7267,
          15153839975.8896,
          5318494421653.03,
          22895236635.6885,
          158974562541.081,
          40059428632.4971,
          159691089245.166,
          36767424995.415,
          220088217727.993,
          233752871351.921,
          315299473058.399,
          414552288030.862,
          51089361866.0137,
          12351757049.22,
          71084266693.7479,
          5604334042.31501,
          9631287021.79045,
          61266599944.4728,
          84872472558.5555,
          20448097002.6662,
          355643356741.268,
          62499831005.415,
          203407936304.627,
          12634360587.8507,
          12024667114.9758,
          465356470849.403,
          44588356857.1429,
          189548593096.822,
          126978615953.539,
          46318529411.7647,
          50358759131.2741,
          1085078650200.79,
          14239959159195.7,
          2506135794.93877,
          38825035814.2222,
          66479976532.5396,
          65527721243.3015,
          34539791626.5539,
          44510471126.7606,
          14320887673.9726,
          15511133840.5581,
          379611912078.734,
          15383523591.8511,
          35040667434.0951,
          22793623628.4741,
          8619332513.2951,
          12234173555.5494,
          13479237677.1727,
          15326465624.9088,
          13807148386.5538,
          13328776519.4144,
          16841958711.6913,
          98773632628.9327,
          7798537820.05985,
          15236312737.5433,
          40813336000.5153,
          365618637342.157,
          232469897800.338,
          16584807149.3751,
          6453832475.36326,
          86545573251.9399,
          72641276228.2097,
          11140998348.157,
          155795133939.49,
          95323016753.8224,
          34432253660.8401,
          22904080806.827,
          7014819501.26785,
          2808367623254.15,
          2965834700,
          1200664052.32512,
          13612309667.8372,
          2852674377.63294,
          2583934017.97374,
          25261574788.7573,
          15065747025.9284,
          16776578168.9193,
          10785451582.33,
          10001278819.8817,
          60012994185.1719,
          19080662010.7479,
          2386023468.72084
         ],
         "y": [
          7.769,
          7.6,
          7.554,
          7.494,
          7.488,
          7.48,
          7.343,
          7.307,
          7.278,
          7.246,
          7.228,
          7.167,
          7.139,
          7.09,
          7.054,
          7.021,
          6.985,
          6.923,
          6.892,
          6.825,
          6.726,
          6.595,
          6.592,
          6.444,
          6.436,
          6.375,
          6.374,
          6.354,
          6.321,
          6.3,
          6.293,
          6.262,
          6.253,
          6.223,
          6.199,
          6.182,
          6.174,
          6.149,
          6.125,
          6.118,
          6.105,
          6.1,
          6.086,
          6.07,
          6.046,
          6.028,
          6.021,
          6.008,
          5.94,
          5.893,
          5.89,
          5.888,
          5.886,
          5.86,
          5.809,
          5.779,
          5.758,
          5.743,
          5.697,
          5.693,
          5.653,
          5.631,
          5.603,
          5.529,
          5.525,
          5.523,
          5.467,
          5.432,
          5.425,
          5.386,
          5.339,
          5.323,
          5.287,
          5.285,
          5.274,
          5.265,
          5.247,
          5.211,
          5.208,
          5.208,
          5.197,
          5.192,
          5.191,
          5.082,
          5.044,
          5.011,
          4.996,
          4.913,
          4.906,
          4.883,
          4.799,
          4.722,
          4.719,
          4.7,
          4.681,
          4.668,
          4.639,
          4.628,
          4.587,
          4.559,
          4.534,
          4.519,
          4.509,
          4.49,
          4.466,
          4.461,
          4.456,
          4.437,
          4.39,
          4.374,
          4.366,
          4.36,
          4.35,
          4.332,
          4.286,
          4.189,
          4.107,
          4.085,
          4.015,
          3.975,
          3.973,
          3.933,
          3.802,
          3.775,
          3.663,
          3.597,
          3.488,
          3.41,
          3.334,
          3.231,
          3.203,
          3.083
         ]
        },
        {
         "customdata": [
          1,
          2,
          3,
          5,
          6,
          7,
          9,
          10,
          12,
          13,
          14,
          15,
          16,
          17,
          18,
          19,
          21,
          23,
          28,
          29,
          30,
          31,
          33,
          34,
          36,
          38,
          39,
          40,
          42,
          43,
          44,
          45,
          46,
          48,
          49,
          50,
          53,
          54,
          55,
          56,
          57,
          58,
          59,
          60,
          63,
          64,
          66,
          68,
          69,
          72,
          73,
          75,
          82,
          83,
          86,
          93,
          100,
          102,
          104,
          105,
          111,
          114,
          116,
          125,
          128
         ],
         "hovertemplate": "Country: %{text}<br>Rank: %{customdata} out of 133<br>Gini Index: %{x:.2f}<br>Happiness: %{y:.2f}<extra></extra>",
         "mode": "markers",
         "name": "Gini Index",
         "text": [
          "Finland",
          "Denmark",
          "Norway",
          "Netherlands",
          "Switzerland",
          "Sweden",
          "Canada",
          "Austria",
          "Costa Rica",
          "Israel",
          "Luxembourg",
          "United Kingdom",
          "Ireland",
          "Germany",
          "Belgium",
          "United States",
          "Malta",
          "France",
          "Spain",
          "Panama",
          "Brazil",
          "Uruguay",
          "El Salvador",
          "Italy",
          "Poland",
          "Lithuania",
          "Colombia",
          "Slovenia",
          "Kosovo",
          "Argentina",
          "Romania",
          "Cyprus",
          "Ecuador",
          "Thailand",
          "Latvia",
          "Estonia",
          "Japan",
          "Honduras",
          "Kazakhstan",
          "Bolivia",
          "Hungary",
          "Paraguay",
          "Peru",
          "Portugal",
          "Serbia",
          "Moldova",
          "Montenegro",
          "Croatia",
          "Dominican Republic",
          "Belarus",
          "Greece",
          "North Macedonia",
          "Indonesia",
          "China",
          "Bulgaria",
          "Albania",
          "Armenia",
          "Georgia",
          "Mauritania",
          "Mozambique",
          "Sri Lanka",
          "Ukraine",
          "Uganda",
          "Zimbabwe",
          "Malawi"
         ],
         "type": "scatter",
         "visible": false,
         "x": [
          27.7,
          27.7,
          27.7,
          29.2,
          34,
          29.3,
          31.7,
          30.2,
          48.2,
          38.3,
          34.2,
          32.8,
          30.3,
          31.8,
          27.2,
          41.9,
          31,
          31.2,
          34.3,
          49.8,
          53.5,
          39.7,
          38.8,
          34.6,
          28.8,
          35.3,
          51.3,
          24.4,
          40.2,
          43.3,
          34.8,
          31.2,
          45.7,
          34.9,
          34.5,
          30.8,
          33,
          48.2,
          28,
          41.6,
          30,
          45.7,
          41.5,
          32.8,
          34.5,
          26,
          35.7,
          28.9,
          41.9,
          25.3,
          33.1,
          33.5,
          35.4,
          38.2,
          40.3,
          30.1,
          30,
          35.9,
          32,
          50.3,
          37.7,
          26.6,
          42.7,
          50.3,
          38.5
         ],
         "y": [
          7.769,
          7.6,
          7.554,
          7.488,
          7.48,
          7.343,
          7.278,
          7.246,
          7.167,
          7.139,
          7.09,
          7.054,
          7.021,
          6.985,
          6.923,
          6.892,
          6.726,
          6.592,
          6.354,
          6.321,
          6.3,
          6.293,
          6.253,
          6.223,
          6.182,
          6.149,
          6.125,
          6.118,
          6.1,
          6.086,
          6.07,
          6.046,
          6.028,
          6.008,
          5.94,
          5.893,
          5.886,
          5.86,
          5.809,
          5.779,
          5.758,
          5.743,
          5.697,
          5.693,
          5.603,
          5.529,
          5.523,
          5.432,
          5.425,
          5.323,
          5.287,
          5.274,
          5.192,
          5.191,
          5.011,
          4.719,
          4.559,
          4.519,
          4.49,
          4.466,
          4.366,
          4.332,
          4.189,
          3.663,
          3.41
         ]
        },
        {
         "hoverinfo": "skip",
         "line": {
          "color": "blue",
          "dash": "dash"
         },
         "mode": "lines",
         "name": "GDP Trend",
         "type": "scatter",
         "visible": true,
         "x": [
          1195019531.9011,
          218758524385.1142,
          436322029238.32733,
          653885534091.5404,
          871449038944.7535,
          1089012543797.9667,
          1306576048651.1797,
          1524139553504.3928,
          1741703058357.606,
          1959266563210.819,
          2176830068064.0322,
          2394393572917.245,
          2611957077770.458,
          2829520582623.6714,
          3047084087476.8843,
          3264647592330.0977,
          3482211097183.3105,
          3699774602036.5234,
          3917338106889.737,
          4134901611742.9497,
          4352465116596.163,
          4570028621449.377,
          4787592126302.59,
          5005155631155.803,
          5222719136009.016,
          5440282640862.229,
          5657846145715.442,
          5875409650568.655,
          6092973155421.868,
          6310536660275.081,
          6528100165128.295,
          6745663669981.508,
          6963227174834.721,
          7180790679687.934,
          7398354184541.146,
          7615917689394.36,
          7833481194247.573,
          8051044699100.786,
          8268608203953.999,
          8486171708807.213,
          8703735213660.426,
          8921298718513.637,
          9138862223366.852,
          9356425728220.064,
          9573989233073.277,
          9791552737926.49,
          10009116242779.703,
          10226679747632.916,
          10444243252486.129,
          10661806757339.342,
          10879370262192.555,
          11096933767045.77,
          11314497271898.982,
          11532060776752.195,
          11749624281605.408,
          11967187786458.621,
          12184751291311.834,
          12402314796165.047,
          12619878301018.26,
          12837441805871.473,
          13055005310724.688,
          13272568815577.9,
          13490132320431.113,
          13707695825284.326,
          13925259330137.54,
          14142822834990.752,
          14360386339843.965,
          14577949844697.178,
          14795513349550.39,
          15013076854403.605,
          15230640359256.818,
          15448203864110.031,
          15665767368963.244,
          15883330873816.457,
          16100894378669.67,
          16318457883522.883,
          16536021388376.096,
          16753584893229.309,
          16971148398082.523,
          17188711902935.736,
          17406275407788.95,
          17623838912642.164,
          17841402417495.375,
          18058965922348.59,
          18276529427201.805,
          18494092932055.016,
          18711656436908.23,
          18929219941761.44,
          19146783446614.656,
          19364346951467.867,
          19581910456321.082,
          19799473961174.293,
          20017037466027.508,
          20234600970880.723,
          20452164475733.934,
          20669727980587.15,
          20887291485440.36,
          21104854990293.574,
          21322418495146.785,
          21539982000000
         ],
         "y": [
          4.089328978079798,
          5.8192090691168765,
          6.048455631215706,
          6.182784243278842,
          6.278155346291822,
          6.35215754273084,
          6.4126354235049785,
          6.463776704626801,
          6.508082336995992,
          6.547166066071654,
          6.58213004468271,
          6.613760560124586,
          6.64263827669642,
          6.66920421895361,
          6.693801242375091,
          6.7167011672928485,
          6.738123140951881,
          6.758246424941802,
          6.777219523176047,
          6.795166839368857,
          6.812193625347932,
          6.828389721135455,
          6.843832424392252,
          6.858588721649955,
          6.872717044439897,
          6.88626866677436,
          6.899288828436134,
          6.911817646203147,
          6.923890859307997,
          6.935540444051702,
          6.946795124199394,
          6.957680797670511,
          6.968220895475,
          6.9784366854095055,
          6.988347530411309,
          6.997971109458639,
          7.007323607349758,
          7.016419878478326,
          7.025273588766925,
          7.033897339163611,
          7.042302773502808,
          7.050500673047523,
          7.058501039638914,
          7.066313169061928,
          7.0739457159768175,
          7.081406751553917,
          7.08870381477408,
          7.095843958212235,
          7.102833789001048,
          7.1096795055710675,
          7.116386930679344,
          7.122961541167578,
          7.1294084948308605,
          7.135732654727265,
          7.141938611215336,
          7.148030701969622,
          7.154013030192905,
          7.1598894812165845,
          7.165663737657502,
          7.171339293279196,
          7.176919465688304,
          7.182407407981614,
          7.187806119446153,
          7.193118455403232,
          7.198347136277338,
          7.203494755961982,
          7.208563789546904,
          7.213556600464271,
          7.218475447105506,
          7.223322488955127,
          7.228099792283281,
          7.232809335434554,
          7.237453013746913,
          7.242032644131406,
          7.24654996934032,
          7.251006661948871,
          7.255404328073201,
          7.259744510845362,
          7.264028693664123,
          7.2682583032386905,
          7.272434712441013,
          7.27655924298092,
          7.2806331679171326,
          7.284657714016104,
          7.288634063969598,
          7.292563358481056,
          7.29644669822995,
          7.30028514572259,
          7.304079727037172,
          7.307831433470234,
          7.31154122309113,
          7.315210022210618,
          7.31883872676921,
          7.322428203650459,
          7.325979291924034,
          7.329492804023001,
          7.332969526859497,
          7.3364102228825665,
          7.33981563108177,
          7.343186467939846
         ]
        },
        {
         "hoverinfo": "skip",
         "line": {
          "color": "blue",
          "dash": "dash"
         },
         "mode": "lines",
         "name": "GNI Trend",
         "type": "scatter",
         "visible": false,
         "x": [
          1200664052.32512,
          221035384617.4532,
          440870105182.58124,
          660704825747.7092,
          880539546312.8373,
          1100374266877.9653,
          1320208987443.0935,
          1540043708008.2217,
          1759878428573.3496,
          1979713149138.4775,
          2199547869703.6055,
          2419382590268.734,
          2639217310833.862,
          2859052031398.9897,
          3078886751964.118,
          3298721472529.246,
          3518556193094.374,
          3738390913659.502,
          3958225634224.63,
          4178060354789.7583,
          4397895075354.886,
          4617729795920.015,
          4837564516485.143,
          5057399237050.2705,
          5277233957615.398,
          5497068678180.526,
          5716903398745.654,
          5936738119310.782,
          6156572839875.911,
          6376407560441.039,
          6596242281006.167,
          6816077001571.295,
          7035911722136.423,
          7255746442701.551,
          7475581163266.679,
          7695415883831.807,
          7915250604396.935,
          8135085324962.063,
          8354920045527.191,
          8574754766092.319,
          8794589486657.447,
          9014424207222.574,
          9234258927787.703,
          9454093648352.83,
          9673928368917.959,
          9893763089483.086,
          10113597810048.215,
          10333432530613.342,
          10553267251178.47,
          10773101971743.6,
          10992936692308.727,
          11212771412873.855,
          11432606133438.982,
          11652440854004.111,
          11872275574569.238,
          12092110295134.367,
          12311945015699.496,
          12531779736264.623,
          12751614456829.752,
          12971449177394.879,
          13191283897960.008,
          13411118618525.135,
          13630953339090.264,
          13850788059655.39,
          14070622780220.52,
          14290457500785.648,
          14510292221350.775,
          14730126941915.904,
          14949961662481.031,
          15169796383046.16,
          15389631103611.287,
          15609465824176.416,
          15829300544741.543,
          16049135265306.672,
          16268969985871.8,
          16488804706436.928,
          16708639427002.057,
          16928474147567.184,
          17148308868132.312,
          17368143588697.44,
          17587978309262.568,
          17807813029827.695,
          18027647750392.824,
          18247482470957.953,
          18467317191523.082,
          18687151912088.207,
          18906986632653.336,
          19126821353218.465,
          19346656073783.594,
          19566490794348.723,
          19786325514913.848,
          20006160235478.977,
          20225994956044.105,
          20445829676609.234,
          20665664397174.36,
          20885499117739.49,
          21105333838304.617,
          21325168558869.746,
          21545003279434.875,
          21764838000000
         ],
         "y": [
          4.108063119577743,
          5.826344715568766,
          6.053812967186733,
          6.187098289575287,
          6.2817283186218695,
          6.355155337332668,
          6.415163080600376,
          6.465906759584547,
          6.509867905868871,
          6.548647731287138,
          6.583339826800572,
          6.614724370644792,
          6.643377515092663,
          6.669736857391676,
          6.6941425883832775,
          6.716864415688246,
          6.738119783134488,
          6.758086558848376,
          6.776912092316012,
          6.794719820132176,
          6.81161417586231,
          6.8276843010595645,
          6.843006892409395,
          6.857648415621082,
          6.87166684790777,
          6.885113064605843,
          6.898031953733424,
          6.910463320132054,
          6.922442625131543,
          6.934001596386027,
          6.945168734301994,
          6.955969735411408,
          6.966427848517521,
          6.9765641760300365,
          6.986397930310492,
          6.995946652855162,
          7.005226402598662,
          7.014251918415992,
          7.023036759952511,
          7.031593430160296,
          7.039933482320404,
          7.04806761384998,
          7.056005748805301,
          7.063757110676958,
          7.071330286816497,
          7.0787332856230325,
          7.085973587444792,
          7.0930581900066585,
          7.099993649055312,
          7.106786114813664,
          7.113441364752662,
          7.119964833118027,
          7.126361637590049,
          7.132636603404155,
          7.13879428521701,
          7.144838986966416,
          7.150774779941905,
          7.15660551925604,
          7.162334858883357,
          7.1679662654138365,
          7.173503030650572,
          7.178948283166237,
          7.184304998919968,
          7.1895760110248546,
          7.1947640187463,
          7.199871595802813,
          7.204901198033115,
          7.209855170486765,
          7.214735753989533,
          7.219545091229531,
          7.2242852324054745,
          7.228958140474365,
          7.233565696032175,
          7.238109701857937,
          7.242591887148695,
          7.247013911470235,
          7.251377368446171,
          7.2556837892058965,
          7.259934645610105,
          7.264131353270852,
          7.268275274381661,
          7.2723677203718715,
          7.27640995439811,
          7.280403193684785,
          7.284348611724425,
          7.288247340347814,
          7.292100471673068,
          7.295909059942048,
          7.299674123251835,
          7.303396645188382,
          7.307077576368892,
          7.310717835898998,
          7.3143183127503,
          7.317879867063443,
          7.321403331381527,
          7.324889511818228,
          7.328339189164794,
          7.331753119939657,
          7.3351320373842395,
          7.338476652408188
         ]
        },
        {
         "hoverinfo": "skip",
         "line": {
          "color": "blue",
          "dash": "dash"
         },
         "mode": "lines",
         "name": "Gini Trend",
         "type": "scatter",
         "visible": false,
         "x": [
          24.4,
          24.69393939393939,
          24.987878787878785,
          25.28181818181818,
          25.575757575757574,
          25.869696969696967,
          26.163636363636364,
          26.457575757575757,
          26.75151515151515,
          27.045454545454543,
          27.339393939393936,
          27.633333333333333,
          27.927272727272726,
          28.22121212121212,
          28.515151515151516,
          28.80909090909091,
          29.1030303030303,
          29.396969696969695,
          29.690909090909088,
          29.984848484848484,
          30.278787878787877,
          30.57272727272727,
          30.866666666666667,
          31.16060606060606,
          31.454545454545453,
          31.748484848484846,
          32.04242424242424,
          32.336363636363636,
          32.630303030303025,
          32.92424242424242,
          33.21818181818182,
          33.512121212121215,
          33.806060606060605,
          34.099999999999994,
          34.39393939393939,
          34.68787878787879,
          34.981818181818184,
          35.275757575757574,
          35.56969696969697,
          35.86363636363636,
          36.157575757575756,
          36.45151515151515,
          36.74545454545454,
          37.03939393939394,
          37.33333333333333,
          37.627272727272725,
          37.92121212121212,
          38.21515151515152,
          38.50909090909091,
          38.8030303030303,
          39.096969696969694,
          39.39090909090909,
          39.68484848484849,
          39.97878787878788,
          40.27272727272727,
          40.56666666666666,
          40.86060606060606,
          41.154545454545456,
          41.448484848484846,
          41.74242424242424,
          42.03636363636363,
          42.33030303030303,
          42.624242424242425,
          42.91818181818182,
          43.21212121212121,
          43.5060606060606,
          43.8,
          44.093939393939394,
          44.38787878787879,
          44.68181818181818,
          44.97575757575758,
          45.269696969696966,
          45.56363636363636,
          45.85757575757576,
          46.15151515151515,
          46.445454545454545,
          46.739393939393935,
          47.03333333333333,
          47.32727272727273,
          47.621212121212125,
          47.915151515151514,
          48.209090909090904,
          48.5030303030303,
          48.7969696969697,
          49.09090909090909,
          49.38484848484848,
          49.67878787878788,
          49.97272727272727,
          50.266666666666666,
          50.56060606060606,
          50.85454545454545,
          51.14848484848485,
          51.44242424242424,
          51.736363636363635,
          52.03030303030303,
          52.32424242424243,
          52.61818181818182,
          52.91212121212121,
          53.2060606060606,
          53.5
         ],
         "y": [
          6.314007829996349,
          6.3048336647035566,
          6.295659499410764,
          6.286485334117971,
          6.277311168825179,
          6.268137003532386,
          6.258962838239594,
          6.249788672946801,
          6.2406145076540085,
          6.231440342361216,
          6.222266177068423,
          6.213092011775631,
          6.203917846482838,
          6.194743681190046,
          6.185569515897253,
          6.17639535060446,
          6.167221185311668,
          6.158047020018875,
          6.148872854726083,
          6.13969868943329,
          6.1305245241404975,
          6.121350358847705,
          6.112176193554912,
          6.10300202826212,
          6.093827862969327,
          6.084653697676535,
          6.075479532383742,
          6.0663053670909495,
          6.057131201798157,
          6.047957036505364,
          6.038782871212572,
          6.029608705919778,
          6.020434540626987,
          6.011260375334194,
          6.002086210041401,
          5.992912044748608,
          5.983737879455815,
          5.974563714163023,
          5.96538954887023,
          5.956215383577438,
          5.947041218284645,
          5.9378670529918525,
          5.92869288769906,
          5.919518722406267,
          5.910344557113475,
          5.901170391820682,
          5.89199622652789,
          5.882822061235097,
          5.873647895942304,
          5.864473730649512,
          5.855299565356719,
          5.846125400063927,
          5.836951234771134,
          5.8277770694783415,
          5.818602904185549,
          5.809428738892756,
          5.800254573599964,
          5.791080408307171,
          5.781906243014379,
          5.772732077721586,
          5.7635579124287935,
          5.754383747136001,
          5.745209581843208,
          5.736035416550415,
          5.726861251257623,
          5.7176870859648306,
          5.708512920672038,
          5.6993387553792445,
          5.690164590086452,
          5.68099042479366,
          5.671816259500867,
          5.662642094208075,
          5.653467928915282,
          5.644293763622489,
          5.6351195983296964,
          5.625945433036904,
          5.616771267744111,
          5.607597102451319,
          5.598422937158526,
          5.5892487718657335,
          5.580074606572941,
          5.570900441280148,
          5.561726275987356,
          5.552552110694563,
          5.543377945401771,
          5.534203780108978,
          5.5250296148161855,
          5.515855449523393,
          5.5066812842306,
          5.497507118937808,
          5.488332953645015,
          5.479158788352223,
          5.46998462305943,
          5.460810457766637,
          5.451636292473845,
          5.442462127181052,
          5.43328796188826,
          5.424113796595467,
          5.4149396313026745,
          5.405765466009882
         ]
        }
       ],
       "layout": {
        "height": 600,
        "margin": {
         "t": 80
        },
        "sliders": [
         {
          "active": 0,
          "currentvalue": {
           "prefix": "Metric: "
          },
          "pad": {
           "t": 50
          },
          "steps": [
           {
            "args": [
             {
              "visible": [
               true,
               false,
               false
              ]
             },
             {
              "title": "Happiness vs GDP (current US$)",
              "xaxis": {
               "title": "GDP (current US$)",
               "type": "log"
              },
              "yaxis": {
               "title": "Happiness"
              }
             }
            ],
            "label": "GDP (US$)",
            "method": "update"
           },
           {
            "args": [
             {
              "visible": [
               false,
               true,
               false
              ]
             },
             {
              "title": "Happiness vs GNI (current US$)",
              "xaxis": {
               "title": "GNI (current US$)",
               "type": "log"
              },
              "yaxis": {
               "title": "Happiness"
              }
             }
            ],
            "label": "GNI (US$)",
            "method": "update"
           },
           {
            "args": [
             {
              "visible": [
               false,
               false,
               true
              ]
             },
             {
              "title": "Happiness vs Gini Index",
              "xaxis": {
               "title": "Gini Index",
               "type": "linear"
              },
              "yaxis": {
               "title": "Happiness"
              }
             }
            ],
            "label": "Gini Index",
            "method": "update"
           }
          ]
         }
        ],
        "template": {
         "data": {
          "bar": [
           {
            "error_x": {
             "color": "#2a3f5f"
            },
            "error_y": {
             "color": "#2a3f5f"
            },
            "marker": {
             "line": {
              "color": "#E5ECF6",
              "width": 0.5
             },
             "pattern": {
              "fillmode": "overlay",
              "size": 10,
              "solidity": 0.2
             }
            },
            "type": "bar"
           }
          ],
          "barpolar": [
           {
            "marker": {
             "line": {
              "color": "#E5ECF6",
              "width": 0.5
             },
             "pattern": {
              "fillmode": "overlay",
              "size": 10,
              "solidity": 0.2
             }
            },
            "type": "barpolar"
           }
          ],
          "carpet": [
           {
            "aaxis": {
             "endlinecolor": "#2a3f5f",
             "gridcolor": "white",
             "linecolor": "white",
             "minorgridcolor": "white",
             "startlinecolor": "#2a3f5f"
            },
            "baxis": {
             "endlinecolor": "#2a3f5f",
             "gridcolor": "white",
             "linecolor": "white",
             "minorgridcolor": "white",
             "startlinecolor": "#2a3f5f"
            },
            "type": "carpet"
           }
          ],
          "choropleth": [
           {
            "colorbar": {
             "outlinewidth": 0,
             "ticks": ""
            },
            "type": "choropleth"
           }
          ],
          "contour": [
           {
            "colorbar": {
             "outlinewidth": 0,
             "ticks": ""
            },
            "colorscale": [
             [
              0,
              "#0d0887"
             ],
             [
              0.1111111111111111,
              "#46039f"
             ],
             [
              0.2222222222222222,
              "#7201a8"
             ],
             [
              0.3333333333333333,
              "#9c179e"
             ],
             [
              0.4444444444444444,
              "#bd3786"
             ],
             [
              0.5555555555555556,
              "#d8576b"
             ],
             [
              0.6666666666666666,
              "#ed7953"
             ],
             [
              0.7777777777777778,
              "#fb9f3a"
             ],
             [
              0.8888888888888888,
              "#fdca26"
             ],
             [
              1,
              "#f0f921"
             ]
            ],
            "type": "contour"
           }
          ],
          "contourcarpet": [
           {
            "colorbar": {
             "outlinewidth": 0,
             "ticks": ""
            },
            "type": "contourcarpet"
           }
          ],
          "heatmap": [
           {
            "colorbar": {
             "outlinewidth": 0,
             "ticks": ""
            },
            "colorscale": [
             [
              0,
              "#0d0887"
             ],
             [
              0.1111111111111111,
              "#46039f"
             ],
             [
              0.2222222222222222,
              "#7201a8"
             ],
             [
              0.3333333333333333,
              "#9c179e"
             ],
             [
              0.4444444444444444,
              "#bd3786"
             ],
             [
              0.5555555555555556,
              "#d8576b"
             ],
             [
              0.6666666666666666,
              "#ed7953"
             ],
             [
              0.7777777777777778,
              "#fb9f3a"
             ],
             [
              0.8888888888888888,
              "#fdca26"
             ],
             [
              1,
              "#f0f921"
             ]
            ],
            "type": "heatmap"
           }
          ],
          "heatmapgl": [
           {
            "colorbar": {
             "outlinewidth": 0,
             "ticks": ""
            },
            "colorscale": [
             [
              0,
              "#0d0887"
             ],
             [
              0.1111111111111111,
              "#46039f"
             ],
             [
              0.2222222222222222,
              "#7201a8"
             ],
             [
              0.3333333333333333,
              "#9c179e"
             ],
             [
              0.4444444444444444,
              "#bd3786"
             ],
             [
              0.5555555555555556,
              "#d8576b"
             ],
             [
              0.6666666666666666,
              "#ed7953"
             ],
             [
              0.7777777777777778,
              "#fb9f3a"
             ],
             [
              0.8888888888888888,
              "#fdca26"
             ],
             [
              1,
              "#f0f921"
             ]
            ],
            "type": "heatmapgl"
           }
          ],
          "histogram": [
           {
            "marker": {
             "pattern": {
              "fillmode": "overlay",
              "size": 10,
              "solidity": 0.2
             }
            },
            "type": "histogram"
           }
          ],
          "histogram2d": [
           {
            "colorbar": {
             "outlinewidth": 0,
             "ticks": ""
            },
            "colorscale": [
             [
              0,
              "#0d0887"
             ],
             [
              0.1111111111111111,
              "#46039f"
             ],
             [
              0.2222222222222222,
              "#7201a8"
             ],
             [
              0.3333333333333333,
              "#9c179e"
             ],
             [
              0.4444444444444444,
              "#bd3786"
             ],
             [
              0.5555555555555556,
              "#d8576b"
             ],
             [
              0.6666666666666666,
              "#ed7953"
             ],
             [
              0.7777777777777778,
              "#fb9f3a"
             ],
             [
              0.8888888888888888,
              "#fdca26"
             ],
             [
              1,
              "#f0f921"
             ]
            ],
            "type": "histogram2d"
           }
          ],
          "histogram2dcontour": [
           {
            "colorbar": {
             "outlinewidth": 0,
             "ticks": ""
            },
            "colorscale": [
             [
              0,
              "#0d0887"
             ],
             [
              0.1111111111111111,
              "#46039f"
             ],
             [
              0.2222222222222222,
              "#7201a8"
             ],
             [
              0.3333333333333333,
              "#9c179e"
             ],
             [
              0.4444444444444444,
              "#bd3786"
             ],
             [
              0.5555555555555556,
              "#d8576b"
             ],
             [
              0.6666666666666666,
              "#ed7953"
             ],
             [
              0.7777777777777778,
              "#fb9f3a"
             ],
             [
              0.8888888888888888,
              "#fdca26"
             ],
             [
              1,
              "#f0f921"
             ]
            ],
            "type": "histogram2dcontour"
           }
          ],
          "mesh3d": [
           {
            "colorbar": {
             "outlinewidth": 0,
             "ticks": ""
            },
            "type": "mesh3d"
           }
          ],
          "parcoords": [
           {
            "line": {
             "colorbar": {
              "outlinewidth": 0,
              "ticks": ""
             }
            },
            "type": "parcoords"
           }
          ],
          "pie": [
           {
            "automargin": true,
            "type": "pie"
           }
          ],
          "scatter": [
           {
            "fillpattern": {
             "fillmode": "overlay",
             "size": 10,
             "solidity": 0.2
            },
            "type": "scatter"
           }
          ],
          "scatter3d": [
           {
            "line": {
             "colorbar": {
              "outlinewidth": 0,
              "ticks": ""
             }
            },
            "marker": {
             "colorbar": {
              "outlinewidth": 0,
              "ticks": ""
             }
            },
            "type": "scatter3d"
           }
          ],
          "scattercarpet": [
           {
            "marker": {
             "colorbar": {
              "outlinewidth": 0,
              "ticks": ""
             }
            },
            "type": "scattercarpet"
           }
          ],
          "scattergeo": [
           {
            "marker": {
             "colorbar": {
              "outlinewidth": 0,
              "ticks": ""
             }
            },
            "type": "scattergeo"
           }
          ],
          "scattergl": [
           {
            "marker": {
             "colorbar": {
              "outlinewidth": 0,
              "ticks": ""
             }
            },
            "type": "scattergl"
           }
          ],
          "scattermapbox": [
           {
            "marker": {
             "colorbar": {
              "outlinewidth": 0,
              "ticks": ""
             }
            },
            "type": "scattermapbox"
           }
          ],
          "scatterpolar": [
           {
            "marker": {
             "colorbar": {
              "outlinewidth": 0,
              "ticks": ""
             }
            },
            "type": "scatterpolar"
           }
          ],
          "scatterpolargl": [
           {
            "marker": {
             "colorbar": {
              "outlinewidth": 0,
              "ticks": ""
             }
            },
            "type": "scatterpolargl"
           }
          ],
          "scatterternary": [
           {
            "marker": {
             "colorbar": {
              "outlinewidth": 0,
              "ticks": ""
             }
            },
            "type": "scatterternary"
           }
          ],
          "surface": [
           {
            "colorbar": {
             "outlinewidth": 0,
             "ticks": ""
            },
            "colorscale": [
             [
              0,
              "#0d0887"
             ],
             [
              0.1111111111111111,
              "#46039f"
             ],
             [
              0.2222222222222222,
              "#7201a8"
             ],
             [
              0.3333333333333333,
              "#9c179e"
             ],
             [
              0.4444444444444444,
              "#bd3786"
             ],
             [
              0.5555555555555556,
              "#d8576b"
             ],
             [
              0.6666666666666666,
              "#ed7953"
             ],
             [
              0.7777777777777778,
              "#fb9f3a"
             ],
             [
              0.8888888888888888,
              "#fdca26"
             ],
             [
              1,
              "#f0f921"
             ]
            ],
            "type": "surface"
           }
          ],
          "table": [
           {
            "cells": {
             "fill": {
              "color": "#EBF0F8"
             },
             "line": {
              "color": "white"
             }
            },
            "header": {
             "fill": {
              "color": "#C8D4E3"
             },
             "line": {
              "color": "white"
             }
            },
            "type": "table"
           }
          ]
         },
         "layout": {
          "annotationdefaults": {
           "arrowcolor": "#2a3f5f",
           "arrowhead": 0,
           "arrowwidth": 1
          },
          "autotypenumbers": "strict",
          "coloraxis": {
           "colorbar": {
            "outlinewidth": 0,
            "ticks": ""
           }
          },
          "colorscale": {
           "diverging": [
            [
             0,
             "#8e0152"
            ],
            [
             0.1,
             "#c51b7d"
            ],
            [
             0.2,
             "#de77ae"
            ],
            [
             0.3,
             "#f1b6da"
            ],
            [
             0.4,
             "#fde0ef"
            ],
            [
             0.5,
             "#f7f7f7"
            ],
            [
             0.6,
             "#e6f5d0"
            ],
            [
             0.7,
             "#b8e186"
            ],
            [
             0.8,
             "#7fbc41"
            ],
            [
             0.9,
             "#4d9221"
            ],
            [
             1,
             "#276419"
            ]
           ],
           "sequential": [
            [
             0,
             "#0d0887"
            ],
            [
             0.1111111111111111,
             "#46039f"
            ],
            [
             0.2222222222222222,
             "#7201a8"
            ],
            [
             0.3333333333333333,
             "#9c179e"
            ],
            [
             0.4444444444444444,
             "#bd3786"
            ],
            [
             0.5555555555555556,
             "#d8576b"
            ],
            [
             0.6666666666666666,
             "#ed7953"
            ],
            [
             0.7777777777777778,
             "#fb9f3a"
            ],
            [
             0.8888888888888888,
             "#fdca26"
            ],
            [
             1,
             "#f0f921"
            ]
           ],
           "sequentialminus": [
            [
             0,
             "#0d0887"
            ],
            [
             0.1111111111111111,
             "#46039f"
            ],
            [
             0.2222222222222222,
             "#7201a8"
            ],
            [
             0.3333333333333333,
             "#9c179e"
            ],
            [
             0.4444444444444444,
             "#bd3786"
            ],
            [
             0.5555555555555556,
             "#d8576b"
            ],
            [
             0.6666666666666666,
             "#ed7953"
            ],
            [
             0.7777777777777778,
             "#fb9f3a"
            ],
            [
             0.8888888888888888,
             "#fdca26"
            ],
            [
             1,
             "#f0f921"
            ]
           ]
          },
          "colorway": [
           "#636efa",
           "#EF553B",
           "#00cc96",
           "#ab63fa",
           "#FFA15A",
           "#19d3f3",
           "#FF6692",
           "#B6E880",
           "#FF97FF",
           "#FECB52"
          ],
          "font": {
           "color": "#2a3f5f"
          },
          "geo": {
           "bgcolor": "white",
           "lakecolor": "white",
           "landcolor": "#E5ECF6",
           "showlakes": true,
           "showland": true,
           "subunitcolor": "white"
          },
          "hoverlabel": {
           "align": "left"
          },
          "hovermode": "closest",
          "mapbox": {
           "style": "light"
          },
          "paper_bgcolor": "white",
          "plot_bgcolor": "#E5ECF6",
          "polar": {
           "angularaxis": {
            "gridcolor": "white",
            "linecolor": "white",
            "ticks": ""
           },
           "bgcolor": "#E5ECF6",
           "radialaxis": {
            "gridcolor": "white",
            "linecolor": "white",
            "ticks": ""
           }
          },
          "scene": {
           "xaxis": {
            "backgroundcolor": "#E5ECF6",
            "gridcolor": "white",
            "gridwidth": 2,
            "linecolor": "white",
            "showbackground": true,
            "ticks": "",
            "zerolinecolor": "white"
           },
           "yaxis": {
            "backgroundcolor": "#E5ECF6",
            "gridcolor": "white",
            "gridwidth": 2,
            "linecolor": "white",
            "showbackground": true,
            "ticks": "",
            "zerolinecolor": "white"
           },
           "zaxis": {
            "backgroundcolor": "#E5ECF6",
            "gridcolor": "white",
            "gridwidth": 2,
            "linecolor": "white",
            "showbackground": true,
            "ticks": "",
            "zerolinecolor": "white"
           }
          },
          "shapedefaults": {
           "line": {
            "color": "#2a3f5f"
           }
          },
          "ternary": {
           "aaxis": {
            "gridcolor": "white",
            "linecolor": "white",
            "ticks": ""
           },
           "baxis": {
            "gridcolor": "white",
            "linecolor": "white",
            "ticks": ""
           },
           "bgcolor": "#E5ECF6",
           "caxis": {
            "gridcolor": "white",
            "linecolor": "white",
            "ticks": ""
           }
          },
          "title": {
           "x": 0.05
          },
          "xaxis": {
           "automargin": true,
           "gridcolor": "white",
           "linecolor": "white",
           "ticks": "",
           "title": {
            "standoff": 15
           },
           "zerolinecolor": "white",
           "zerolinewidth": 2
          },
          "yaxis": {
           "automargin": true,
           "gridcolor": "white",
           "linecolor": "white",
           "ticks": "",
           "title": {
            "standoff": 15
           },
           "zerolinecolor": "white",
           "zerolinewidth": 2
          }
         }
        },
        "title": {
         "text": "Happiness vs GDP (current US$)"
        },
        "width": 900,
        "xaxis": {
         "title": {
          "text": "GDP (current US$)"
         },
         "type": "log"
        },
        "yaxis": {
         "title": {
          "text": "Happiness"
         }
        }
       }
      },
      "text/html": [
       "<div>                            <div id=\"dfaa0f90-5d38-410d-b586-5176fa318f64\" class=\"plotly-graph-div\" style=\"height:600px; width:900px;\"></div>            <script type=\"text/javascript\">                require([\"plotly\"], function(Plotly) {                    window.PLOTLYENV=window.PLOTLYENV || {};                                    if (document.getElementById(\"dfaa0f90-5d38-410d-b586-5176fa318f64\")) {                    Plotly.newPlot(                        \"dfaa0f90-5d38-410d-b586-5176fa318f64\",                        [{\"customdata\":[1,2,3,4,5,6,7,8,9,10,11,12,13,14,15,16,17,18,19,20,21,22,23,24,25,26,27,28,29,30,31,32,33,34,35,36,37,38,39,40,41,42,43,44,45,46,47,48,49,50,51,52,53,54,55,56,57,58,59,60,61,62,63,64,65,66,67,68,69,70,71,72,73,74,75,76,77,78,79,79,81,82,83,84,85,86,87,88,89,90,91,92,93,94,95,96,97,98,99,100,101,102,103,104,105,106,107,108,109,110,111,112,113,114,115,116,117,118,119,120,121,122,123,124,125,126,127,128,129,130,131,132],\"hovertemplate\":\"Country: %{text}\\u003cbr\\u003eRank: %{customdata} out of 133\\u003cbr\\u003eGDP (US$): %{x:$,.0f}\\u003cbr\\u003eHappiness: %{y:.2f}\\u003cextra\\u003e\\u003c\\u002fextra\\u003e\",\"mode\":\"markers\",\"name\":\"GDP (US$)\",\"text\":[\"Finland\",\"Denmark\",\"Norway\",\"Iceland\",\"Netherlands\",\"Switzerland\",\"Sweden\",\"New Zealand\",\"Canada\",\"Austria\",\"Australia\",\"Costa Rica\",\"Israel\",\"Luxembourg\",\"United Kingdom\",\"Ireland\",\"Germany\",\"Belgium\",\"United States\",\"United Arab Emirates\",\"Malta\",\"Mexico\",\"France\",\"Chile\",\"Guatemala\",\"Saudi Arabia\",\"Qatar\",\"Spain\",\"Panama\",\"Brazil\",\"Uruguay\",\"Singapore\",\"El Salvador\",\"Italy\",\"Bahrain\",\"Poland\",\"Uzbekistan\",\"Lithuania\",\"Colombia\",\"Slovenia\",\"Nicaragua\",\"Kosovo\",\"Argentina\",\"Romania\",\"Cyprus\",\"Ecuador\",\"Kuwait\",\"Thailand\",\"Latvia\",\"Estonia\",\"Jamaica\",\"Mauritius\",\"Japan\",\"Honduras\",\"Kazakhstan\",\"Bolivia\",\"Hungary\",\"Paraguay\",\"Peru\",\"Portugal\",\"Pakistan\",\"Philippines\",\"Serbia\",\"Moldova\",\"Libya\",\"Montenegro\",\"Tajikistan\",\"Croatia\",\"Dominican Republic\",\"Bosnia and Herzegovina\",\"Malaysia\",\"Belarus\",\"Greece\",\"Mongolia\",\"North Macedonia\",\"Nigeria\",\"Turkmenistan\",\"Algeria\",\"Morocco\",\"Azerbaijan\",\"Lebanon\",\"Indonesia\",\"China\",\"Bhutan\",\"Cameroon\",\"Bulgaria\",\"Ghana\",\"Nepal\",\"Jordan\",\"Benin\",\"Gabon\",\"South Africa\",\"Albania\",\"Cambodia\",\"Senegal\",\"Somalia\",\"Namibia\",\"Niger\",\"Burkina Faso\",\"Armenia\",\"Guinea\",\"Georgia\",\"Kenya\",\"Mauritania\",\"Mozambique\",\"Tunisia\",\"Bangladesh\",\"Iraq\",\"Mali\",\"Sierra Leone\",\"Sri Lanka\",\"Myanmar\",\"Chad\",\"Ukraine\",\"Ethiopia\",\"Uganda\",\"Zambia\",\"Togo\",\"India\",\"Liberia\",\"Comoros\",\"Madagascar\",\"Lesotho\",\"Burundi\",\"Zimbabwe\",\"Haiti\",\"Botswana\",\"Malawi\",\"Rwanda\",\"Tanzania\",\"Afghanistan\",\"Central African Republic\"],\"visible\":true,\"x\":[267014821129.411,345401473012.615,408742840909.091,24681343649.2952,928903005576.469,721369112726.724,532169294165.94,212846907683.439,1743725183672.52,442983642371.842,1392723834562.64,64417670521.3545,399651065197.871,69890505323.5842,2851407164907.81,407124824064.995,3957208055215.68,536726344405.489,21539982000000.0,417989721734.494,16337793530.7788,1304106203694.81,2722793515171.76,278285058719.466,77172317258.6478,838564800000.0,176371267689.082,1403496387686.27,69778991200.0,1873288205186.45,62222325807.0578,376901649222.451,26881140000.0,2019606796583.53,40446808510.6383,602683770144.88,67293639798.3996,55122066225.796,323031701192.84,53909922735.545,12699028889.666,7899737577.47286,447754683615.225,251677082534.495,26196667099.5303,107595829000.0,140856394870.02,543976691793.886,33099503950.847,31873748770.0313,15830766570.7266,14436346979.6355,5117993853016.51,24882225741.8119,181667184854.501,40895322843.7851,164020460331.659,37925338329.1494,228346006003.648,240115970063.019,320909472770.669,376823402244.928,53864693664.5568,11736797054.6965,69254496471.6938,5542054181.12616,8300813599.3084,61467582193.6824,88941372558.2397,20482608755.379,365177721021.516,64410122847.3508,207305649887.019,14206359017.5143,12606338448.547,474517490844.461,45232857142.8571,193459662090.677,128920266409.458,48174235294.1176,51605959131.2741,1119099871385.79,14279968506271.7,2735683570.28851,39667757527.6578,68631726289.2794,68337969247.7067,34186180699.0255,44503006338.0282,14391686309.033,16874405465.391,389330032224.269,15585105131.0644,36685356407.7206,23403995992.1354,8655023960.002,12541928303.48,12889555561.2299,16032813503.3707,13619290539.2116,13442861496.4454,17638337116.9126,100378436207.371,7894764885.82312,15512759046.672,41905642418.825,351231654603.692,233636097800.338,17280250810.0321,6523577590.38319,89014978344.1404,75065106227.6892,11314951091.7283,153883047509.577,95912607722.3032,35348155095.4215,23308667781.2258,6992700101.37188,2835606256558.19,3319596500.0,1195019531.9011,14104664678.5063,2390702295.82777,2576518879.82353,25717409842.4479,15016090929.5125,16725908148.5481,11051865579.8121,10349300380.33,61026731925.9213,18799444490.1128,2221301351.43918],\"y\":[7.769,7.6,7.554,7.494,7.488,7.48,7.343,7.307,7.278,7.246,7.228,7.167,7.139,7.09,7.054,7.021,6.985,6.923,6.892,6.825,6.726,6.595,6.592,6.444,6.436,6.375,6.374,6.354,6.321,6.3,6.293,6.262,6.253,6.223,6.199,6.182,6.174,6.149,6.125,6.118,6.105,6.1,6.086,6.07,6.046,6.028,6.021,6.008,5.94,5.893,5.89,5.888,5.886,5.86,5.809,5.779,5.758,5.743,5.697,5.693,5.653,5.631,5.603,5.529,5.525,5.523,5.467,5.432,5.425,5.386,5.339,5.323,5.287,5.285,5.274,5.265,5.247,5.211,5.208,5.208,5.197,5.192,5.191,5.082,5.044,5.011,4.996,4.913,4.906,4.883,4.799,4.722,4.719,4.7,4.681,4.668,4.639,4.628,4.587,4.559,4.534,4.519,4.509,4.49,4.466,4.461,4.456,4.437,4.39,4.374,4.366,4.36,4.35,4.332,4.286,4.189,4.107,4.085,4.015,3.975,3.973,3.933,3.802,3.775,3.663,3.597,3.488,3.41,3.334,3.231,3.203,3.083],\"type\":\"scatter\"},{\"customdata\":[1,2,3,4,5,6,7,8,9,10,11,12,13,14,15,16,17,18,19,20,21,22,23,24,25,26,27,28,29,30,31,32,33,34,35,36,37,38,39,40,41,42,43,44,45,46,47,48,49,50,51,52,53,54,55,56,57,58,59,60,61,62,63,64,65,66,67,68,69,70,71,72,73,74,75,76,77,78,79,79,81,82,83,84,85,86,87,88,89,90,91,92,93,94,95,96,97,98,99,100,101,102,103,104,105,106,107,108,109,110,111,112,113,114,115,116,117,118,119,120,121,122,123,124,125,126,127,128,129,130,131,132],\"hovertemplate\":\"Country: %{text}\\u003cbr\\u003eRank: %{customdata} out of 133\\u003cbr\\u003eGNI (US$): %{x:$,.0f}\\u003cbr\\u003eHappiness: %{y:.2f}\\u003cextra\\u003e\\u003c\\u002fextra\\u003e\",\"mode\":\"markers\",\"name\":\"GNI (US$)\",\"text\":[\"Finland\",\"Denmark\",\"Norway\",\"Iceland\",\"Netherlands\",\"Switzerland\",\"Sweden\",\"New Zealand\",\"Canada\",\"Austria\",\"Australia\",\"Costa Rica\",\"Israel\",\"Luxembourg\",\"United Kingdom\",\"Ireland\",\"Germany\",\"Belgium\",\"United States\",\"United Arab Emirates\",\"Malta\",\"Mexico\",\"France\",\"Chile\",\"Guatemala\",\"Saudi Arabia\",\"Qatar\",\"Spain\",\"Panama\",\"Brazil\",\"Uruguay\",\"Singapore\",\"El Salvador\",\"Italy\",\"Bahrain\",\"Poland\",\"Uzbekistan\",\"Lithuania\",\"Colombia\",\"Slovenia\",\"Nicaragua\",\"Kosovo\",\"Argentina\",\"Romania\",\"Cyprus\",\"Ecuador\",\"Kuwait\",\"Thailand\",\"Latvia\",\"Estonia\",\"Jamaica\",\"Mauritius\",\"Japan\",\"Honduras\",\"Kazakhstan\",\"Bolivia\",\"Hungary\",\"Paraguay\",\"Peru\",\"Portugal\",\"Pakistan\",\"Philippines\",\"Serbia\",\"Moldova\",\"Libya\",\"Montenegro\",\"Tajikistan\",\"Croatia\",\"Dominican Republic\",\"Bosnia and Herzegovina\",\"Malaysia\",\"Belarus\",\"Greece\",\"Mongolia\",\"North Macedonia\",\"Nigeria\",\"Turkmenistan\",\"Algeria\",\"Morocco\",\"Azerbaijan\",\"Lebanon\",\"Indonesia\",\"China\",\"Bhutan\",\"Cameroon\",\"Bulgaria\",\"Ghana\",\"Nepal\",\"Jordan\",\"Benin\",\"Gabon\",\"South Africa\",\"Albania\",\"Cambodia\",\"Senegal\",\"Somalia\",\"Namibia\",\"Niger\",\"Burkina Faso\",\"Armenia\",\"Guinea\",\"Georgia\",\"Kenya\",\"Mauritania\",\"Mozambique\",\"Tunisia\",\"Bangladesh\",\"Iraq\",\"Mali\",\"Sierra Leone\",\"Sri Lanka\",\"Myanmar\",\"Chad\",\"Ukraine\",\"Ethiopia\",\"Uganda\",\"Zambia\",\"Togo\",\"India\",\"Liberia\",\"Comoros\",\"Madagascar\",\"Lesotho\",\"Burundi\",\"Zimbabwe\",\"Haiti\",\"Botswana\",\"Malawi\",\"Rwanda\",\"Tanzania\",\"Afghanistan\",\"Central African Republic\"],\"visible\":false,\"x\":[269899706941.176,355443582780.668,421234090909.091,25374511608.1548,891679358650.979,696318048854.117,547611418095.424,207518405665.816,1722945761061.66,443323100627.45,1345853874492.3,60575320937.0316,397736725276.623,47877349992.9411,2848530128634.05,309776780487.207,4034728306596.07,541049419119.999,21764838000000.0,420051262918.973,14798835701.3958,1267424146058.02,2787416524619.6,267848366678.638,75768261350.5168,846719422506.667,171961652307.692,1396786257474.51,65459457700.0,1822994396029.28,59174795690.0189,333217559842.775,25540040000.0,2027301728521.57,38186170212.766,577797688425.851,68029857950.0186,52901803474.7058,315981529469.142,53555776974.3685,12232628822.9947,8079554105.61387,430166792070.565,248106362712.884,24793491597.2219,104536017000.0,161059878933.509,523977887377.21,33726980608.3372,30681549837.647,15389266570.7267,15153839975.8896,5318494421653.03,22895236635.6885,158974562541.081,40059428632.4971,159691089245.166,36767424995.415,220088217727.993,233752871351.921,315299473058.399,414552288030.862,51089361866.0137,12351757049.22,71084266693.7479,5604334042.31501,9631287021.79045,61266599944.4728,84872472558.5555,20448097002.6662,355643356741.268,62499831005.415,203407936304.627,12634360587.8507,12024667114.9758,465356470849.403,44588356857.1429,189548593096.822,126978615953.539,46318529411.7647,50358759131.2741,1085078650200.79,14239959159195.7,2506135794.93877,38825035814.2222,66479976532.5396,65527721243.3015,34539791626.5539,44510471126.7606,14320887673.9726,15511133840.5581,379611912078.734,15383523591.8511,35040667434.0951,22793623628.4741,8619332513.2951,12234173555.5494,13479237677.1727,15326465624.9088,13807148386.5538,13328776519.4144,16841958711.6913,98773632628.9327,7798537820.05985,15236312737.5433,40813336000.5153,365618637342.157,232469897800.338,16584807149.3751,6453832475.36326,86545573251.9399,72641276228.2097,11140998348.157,155795133939.49,95323016753.8224,34432253660.8401,22904080806.827,7014819501.26785,2808367623254.15,2965834700.0,1200664052.32512,13612309667.8372,2852674377.63294,2583934017.97374,25261574788.7573,15065747025.9284,16776578168.9193,10785451582.33,10001278819.8817,60012994185.1719,19080662010.7479,2386023468.72084],\"y\":[7.769,7.6,7.554,7.494,7.488,7.48,7.343,7.307,7.278,7.246,7.228,7.167,7.139,7.09,7.054,7.021,6.985,6.923,6.892,6.825,6.726,6.595,6.592,6.444,6.436,6.375,6.374,6.354,6.321,6.3,6.293,6.262,6.253,6.223,6.199,6.182,6.174,6.149,6.125,6.118,6.105,6.1,6.086,6.07,6.046,6.028,6.021,6.008,5.94,5.893,5.89,5.888,5.886,5.86,5.809,5.779,5.758,5.743,5.697,5.693,5.653,5.631,5.603,5.529,5.525,5.523,5.467,5.432,5.425,5.386,5.339,5.323,5.287,5.285,5.274,5.265,5.247,5.211,5.208,5.208,5.197,5.192,5.191,5.082,5.044,5.011,4.996,4.913,4.906,4.883,4.799,4.722,4.719,4.7,4.681,4.668,4.639,4.628,4.587,4.559,4.534,4.519,4.509,4.49,4.466,4.461,4.456,4.437,4.39,4.374,4.366,4.36,4.35,4.332,4.286,4.189,4.107,4.085,4.015,3.975,3.973,3.933,3.802,3.775,3.663,3.597,3.488,3.41,3.334,3.231,3.203,3.083],\"type\":\"scatter\"},{\"customdata\":[1,2,3,5,6,7,9,10,12,13,14,15,16,17,18,19,21,23,28,29,30,31,33,34,36,38,39,40,42,43,44,45,46,48,49,50,53,54,55,56,57,58,59,60,63,64,66,68,69,72,73,75,82,83,86,93,100,102,104,105,111,114,116,125,128],\"hovertemplate\":\"Country: %{text}\\u003cbr\\u003eRank: %{customdata} out of 133\\u003cbr\\u003eGini Index: %{x:.2f}\\u003cbr\\u003eHappiness: %{y:.2f}\\u003cextra\\u003e\\u003c\\u002fextra\\u003e\",\"mode\":\"markers\",\"name\":\"Gini Index\",\"text\":[\"Finland\",\"Denmark\",\"Norway\",\"Netherlands\",\"Switzerland\",\"Sweden\",\"Canada\",\"Austria\",\"Costa Rica\",\"Israel\",\"Luxembourg\",\"United Kingdom\",\"Ireland\",\"Germany\",\"Belgium\",\"United States\",\"Malta\",\"France\",\"Spain\",\"Panama\",\"Brazil\",\"Uruguay\",\"El Salvador\",\"Italy\",\"Poland\",\"Lithuania\",\"Colombia\",\"Slovenia\",\"Kosovo\",\"Argentina\",\"Romania\",\"Cyprus\",\"Ecuador\",\"Thailand\",\"Latvia\",\"Estonia\",\"Japan\",\"Honduras\",\"Kazakhstan\",\"Bolivia\",\"Hungary\",\"Paraguay\",\"Peru\",\"Portugal\",\"Serbia\",\"Moldova\",\"Montenegro\",\"Croatia\",\"Dominican Republic\",\"Belarus\",\"Greece\",\"North Macedonia\",\"Indonesia\",\"China\",\"Bulgaria\",\"Albania\",\"Armenia\",\"Georgia\",\"Mauritania\",\"Mozambique\",\"Sri Lanka\",\"Ukraine\",\"Uganda\",\"Zimbabwe\",\"Malawi\"],\"visible\":false,\"x\":[27.7,27.7,27.7,29.2,34.0,29.3,31.7,30.2,48.2,38.3,34.2,32.8,30.3,31.8,27.2,41.9,31.0,31.2,34.3,49.8,53.5,39.7,38.8,34.6,28.8,35.3,51.3,24.4,40.2,43.3,34.8,31.2,45.7,34.9,34.5,30.8,33.0,48.2,28.0,41.6,30.0,45.7,41.5,32.8,34.5,26.0,35.7,28.9,41.9,25.3,33.1,33.5,35.4,38.2,40.3,30.1,30.0,35.9,32.0,50.3,37.7,26.6,42.7,50.3,38.5],\"y\":[7.769,7.6,7.554,7.488,7.48,7.343,7.278,7.246,7.167,7.139,7.09,7.054,7.021,6.985,6.923,6.892,6.726,6.592,6.354,6.321,6.3,6.293,6.253,6.223,6.182,6.149,6.125,6.118,6.1,6.086,6.07,6.046,6.028,6.008,5.94,5.893,5.886,5.86,5.809,5.779,5.758,5.743,5.697,5.693,5.603,5.529,5.523,5.432,5.425,5.323,5.287,5.274,5.192,5.191,5.011,4.719,4.559,4.519,4.49,4.466,4.366,4.332,4.189,3.663,3.41],\"type\":\"scatter\"},{\"hoverinfo\":\"skip\",\"line\":{\"color\":\"blue\",\"dash\":\"dash\"},\"mode\":\"lines\",\"name\":\"GDP Trend\",\"visible\":true,\"x\":[1195019531.9011,218758524385.1142,436322029238.32733,653885534091.5404,871449038944.7535,1089012543797.9667,1306576048651.1797,1524139553504.3928,1741703058357.606,1959266563210.819,2176830068064.0322,2394393572917.245,2611957077770.458,2829520582623.6714,3047084087476.8843,3264647592330.0977,3482211097183.3105,3699774602036.5234,3917338106889.737,4134901611742.9497,4352465116596.163,4570028621449.377,4787592126302.59,5005155631155.803,5222719136009.016,5440282640862.229,5657846145715.442,5875409650568.655,6092973155421.868,6310536660275.081,6528100165128.295,6745663669981.508,6963227174834.721,7180790679687.934,7398354184541.146,7615917689394.36,7833481194247.573,8051044699100.786,8268608203953.999,8486171708807.213,8703735213660.426,8921298718513.637,9138862223366.852,9356425728220.064,9573989233073.277,9791552737926.49,10009116242779.703,10226679747632.916,10444243252486.129,10661806757339.342,10879370262192.555,11096933767045.77,11314497271898.982,11532060776752.195,11749624281605.408,11967187786458.621,12184751291311.834,12402314796165.047,12619878301018.26,12837441805871.473,13055005310724.688,13272568815577.9,13490132320431.113,13707695825284.326,13925259330137.54,14142822834990.752,14360386339843.965,14577949844697.178,14795513349550.39,15013076854403.605,15230640359256.818,15448203864110.031,15665767368963.244,15883330873816.457,16100894378669.67,16318457883522.883,16536021388376.096,16753584893229.309,16971148398082.523,17188711902935.736,17406275407788.95,17623838912642.164,17841402417495.375,18058965922348.59,18276529427201.805,18494092932055.016,18711656436908.23,18929219941761.44,19146783446614.656,19364346951467.867,19581910456321.082,19799473961174.293,20017037466027.508,20234600970880.723,20452164475733.934,20669727980587.15,20887291485440.36,21104854990293.574,21322418495146.785,21539982000000.0],\"y\":[4.089328978079798,5.8192090691168765,6.048455631215706,6.182784243278842,6.278155346291822,6.35215754273084,6.4126354235049785,6.463776704626801,6.508082336995992,6.547166066071654,6.58213004468271,6.613760560124586,6.64263827669642,6.66920421895361,6.693801242375091,6.7167011672928485,6.738123140951881,6.758246424941802,6.777219523176047,6.795166839368857,6.812193625347932,6.828389721135455,6.843832424392252,6.858588721649955,6.872717044439897,6.88626866677436,6.899288828436134,6.911817646203147,6.923890859307997,6.935540444051702,6.946795124199394,6.957680797670511,6.968220895475,6.9784366854095055,6.988347530411309,6.997971109458639,7.007323607349758,7.016419878478326,7.025273588766925,7.033897339163611,7.042302773502808,7.050500673047523,7.058501039638914,7.066313169061928,7.0739457159768175,7.081406751553917,7.08870381477408,7.095843958212235,7.102833789001048,7.1096795055710675,7.116386930679344,7.122961541167578,7.1294084948308605,7.135732654727265,7.141938611215336,7.148030701969622,7.154013030192905,7.1598894812165845,7.165663737657502,7.171339293279196,7.176919465688304,7.182407407981614,7.187806119446153,7.193118455403232,7.198347136277338,7.203494755961982,7.208563789546904,7.213556600464271,7.218475447105506,7.223322488955127,7.228099792283281,7.232809335434554,7.237453013746913,7.242032644131406,7.24654996934032,7.251006661948871,7.255404328073201,7.259744510845362,7.264028693664123,7.2682583032386905,7.272434712441013,7.27655924298092,7.2806331679171326,7.284657714016104,7.288634063969598,7.292563358481056,7.29644669822995,7.30028514572259,7.304079727037172,7.307831433470234,7.31154122309113,7.315210022210618,7.31883872676921,7.322428203650459,7.325979291924034,7.329492804023001,7.332969526859497,7.3364102228825665,7.33981563108177,7.343186467939846],\"type\":\"scatter\"},{\"hoverinfo\":\"skip\",\"line\":{\"color\":\"blue\",\"dash\":\"dash\"},\"mode\":\"lines\",\"name\":\"GNI Trend\",\"visible\":false,\"x\":[1200664052.32512,221035384617.4532,440870105182.58124,660704825747.7092,880539546312.8373,1100374266877.9653,1320208987443.0935,1540043708008.2217,1759878428573.3496,1979713149138.4775,2199547869703.6055,2419382590268.734,2639217310833.862,2859052031398.9897,3078886751964.118,3298721472529.246,3518556193094.374,3738390913659.502,3958225634224.63,4178060354789.7583,4397895075354.886,4617729795920.015,4837564516485.143,5057399237050.2705,5277233957615.398,5497068678180.526,5716903398745.654,5936738119310.782,6156572839875.911,6376407560441.039,6596242281006.167,6816077001571.295,7035911722136.423,7255746442701.551,7475581163266.679,7695415883831.807,7915250604396.935,8135085324962.063,8354920045527.191,8574754766092.319,8794589486657.447,9014424207222.574,9234258927787.703,9454093648352.83,9673928368917.959,9893763089483.086,10113597810048.215,10333432530613.342,10553267251178.47,10773101971743.6,10992936692308.727,11212771412873.855,11432606133438.982,11652440854004.111,11872275574569.238,12092110295134.367,12311945015699.496,12531779736264.623,12751614456829.752,12971449177394.879,13191283897960.008,13411118618525.135,13630953339090.264,13850788059655.39,14070622780220.52,14290457500785.648,14510292221350.775,14730126941915.904,14949961662481.031,15169796383046.16,15389631103611.287,15609465824176.416,15829300544741.543,16049135265306.672,16268969985871.8,16488804706436.928,16708639427002.057,16928474147567.184,17148308868132.312,17368143588697.44,17587978309262.568,17807813029827.695,18027647750392.824,18247482470957.953,18467317191523.082,18687151912088.207,18906986632653.336,19126821353218.465,19346656073783.594,19566490794348.723,19786325514913.848,20006160235478.977,20225994956044.105,20445829676609.234,20665664397174.36,20885499117739.49,21105333838304.617,21325168558869.746,21545003279434.875,21764838000000.0],\"y\":[4.108063119577743,5.826344715568766,6.053812967186733,6.187098289575287,6.2817283186218695,6.355155337332668,6.415163080600376,6.465906759584547,6.509867905868871,6.548647731287138,6.583339826800572,6.614724370644792,6.643377515092663,6.669736857391676,6.6941425883832775,6.716864415688246,6.738119783134488,6.758086558848376,6.776912092316012,6.794719820132176,6.81161417586231,6.8276843010595645,6.843006892409395,6.857648415621082,6.87166684790777,6.885113064605843,6.898031953733424,6.910463320132054,6.922442625131543,6.934001596386027,6.945168734301994,6.955969735411408,6.966427848517521,6.9765641760300365,6.986397930310492,6.995946652855162,7.005226402598662,7.014251918415992,7.023036759952511,7.031593430160296,7.039933482320404,7.04806761384998,7.056005748805301,7.063757110676958,7.071330286816497,7.0787332856230325,7.085973587444792,7.0930581900066585,7.099993649055312,7.106786114813664,7.113441364752662,7.119964833118027,7.126361637590049,7.132636603404155,7.13879428521701,7.144838986966416,7.150774779941905,7.15660551925604,7.162334858883357,7.1679662654138365,7.173503030650572,7.178948283166237,7.184304998919968,7.1895760110248546,7.1947640187463,7.199871595802813,7.204901198033115,7.209855170486765,7.214735753989533,7.219545091229531,7.2242852324054745,7.228958140474365,7.233565696032175,7.238109701857937,7.242591887148695,7.247013911470235,7.251377368446171,7.2556837892058965,7.259934645610105,7.264131353270852,7.268275274381661,7.2723677203718715,7.27640995439811,7.280403193684785,7.284348611724425,7.288247340347814,7.292100471673068,7.295909059942048,7.299674123251835,7.303396645188382,7.307077576368892,7.310717835898998,7.3143183127503,7.317879867063443,7.321403331381527,7.324889511818228,7.328339189164794,7.331753119939657,7.3351320373842395,7.338476652408188],\"type\":\"scatter\"},{\"hoverinfo\":\"skip\",\"line\":{\"color\":\"blue\",\"dash\":\"dash\"},\"mode\":\"lines\",\"name\":\"Gini Trend\",\"visible\":false,\"x\":[24.4,24.69393939393939,24.987878787878785,25.28181818181818,25.575757575757574,25.869696969696967,26.163636363636364,26.457575757575757,26.75151515151515,27.045454545454543,27.339393939393936,27.633333333333333,27.927272727272726,28.22121212121212,28.515151515151516,28.80909090909091,29.1030303030303,29.396969696969695,29.690909090909088,29.984848484848484,30.278787878787877,30.57272727272727,30.866666666666667,31.16060606060606,31.454545454545453,31.748484848484846,32.04242424242424,32.336363636363636,32.630303030303025,32.92424242424242,33.21818181818182,33.512121212121215,33.806060606060605,34.099999999999994,34.39393939393939,34.68787878787879,34.981818181818184,35.275757575757574,35.56969696969697,35.86363636363636,36.157575757575756,36.45151515151515,36.74545454545454,37.03939393939394,37.33333333333333,37.627272727272725,37.92121212121212,38.21515151515152,38.50909090909091,38.8030303030303,39.096969696969694,39.39090909090909,39.68484848484849,39.97878787878788,40.27272727272727,40.56666666666666,40.86060606060606,41.154545454545456,41.448484848484846,41.74242424242424,42.03636363636363,42.33030303030303,42.624242424242425,42.91818181818182,43.21212121212121,43.5060606060606,43.8,44.093939393939394,44.38787878787879,44.68181818181818,44.97575757575758,45.269696969696966,45.56363636363636,45.85757575757576,46.15151515151515,46.445454545454545,46.739393939393935,47.03333333333333,47.32727272727273,47.621212121212125,47.915151515151514,48.209090909090904,48.5030303030303,48.7969696969697,49.09090909090909,49.38484848484848,49.67878787878788,49.97272727272727,50.266666666666666,50.56060606060606,50.85454545454545,51.14848484848485,51.44242424242424,51.736363636363635,52.03030303030303,52.32424242424243,52.61818181818182,52.91212121212121,53.2060606060606,53.5],\"y\":[6.314007829996349,6.3048336647035566,6.295659499410764,6.286485334117971,6.277311168825179,6.268137003532386,6.258962838239594,6.249788672946801,6.2406145076540085,6.231440342361216,6.222266177068423,6.213092011775631,6.203917846482838,6.194743681190046,6.185569515897253,6.17639535060446,6.167221185311668,6.158047020018875,6.148872854726083,6.13969868943329,6.1305245241404975,6.121350358847705,6.112176193554912,6.10300202826212,6.093827862969327,6.084653697676535,6.075479532383742,6.0663053670909495,6.057131201798157,6.047957036505364,6.038782871212572,6.029608705919778,6.020434540626987,6.011260375334194,6.002086210041401,5.992912044748608,5.983737879455815,5.974563714163023,5.96538954887023,5.956215383577438,5.947041218284645,5.9378670529918525,5.92869288769906,5.919518722406267,5.910344557113475,5.901170391820682,5.89199622652789,5.882822061235097,5.873647895942304,5.864473730649512,5.855299565356719,5.846125400063927,5.836951234771134,5.8277770694783415,5.818602904185549,5.809428738892756,5.800254573599964,5.791080408307171,5.781906243014379,5.772732077721586,5.7635579124287935,5.754383747136001,5.745209581843208,5.736035416550415,5.726861251257623,5.7176870859648306,5.708512920672038,5.6993387553792445,5.690164590086452,5.68099042479366,5.671816259500867,5.662642094208075,5.653467928915282,5.644293763622489,5.6351195983296964,5.625945433036904,5.616771267744111,5.607597102451319,5.598422937158526,5.5892487718657335,5.580074606572941,5.570900441280148,5.561726275987356,5.552552110694563,5.543377945401771,5.534203780108978,5.5250296148161855,5.515855449523393,5.5066812842306,5.497507118937808,5.488332953645015,5.479158788352223,5.46998462305943,5.460810457766637,5.451636292473845,5.442462127181052,5.43328796188826,5.424113796595467,5.4149396313026745,5.405765466009882],\"type\":\"scatter\"}],                        {\"height\":600,\"margin\":{\"t\":80},\"sliders\":[{\"active\":0,\"currentvalue\":{\"prefix\":\"Metric: \"},\"pad\":{\"t\":50},\"steps\":[{\"args\":[{\"visible\":[true,false,false]},{\"title\":\"Happiness vs GDP (current US$)\",\"xaxis\":{\"title\":\"GDP (current US$)\",\"type\":\"log\"},\"yaxis\":{\"title\":\"Happiness\"}}],\"label\":\"GDP (US$)\",\"method\":\"update\"},{\"args\":[{\"visible\":[false,true,false]},{\"title\":\"Happiness vs GNI (current US$)\",\"xaxis\":{\"title\":\"GNI (current US$)\",\"type\":\"log\"},\"yaxis\":{\"title\":\"Happiness\"}}],\"label\":\"GNI (US$)\",\"method\":\"update\"},{\"args\":[{\"visible\":[false,false,true]},{\"title\":\"Happiness vs Gini Index\",\"xaxis\":{\"title\":\"Gini Index\",\"type\":\"linear\"},\"yaxis\":{\"title\":\"Happiness\"}}],\"label\":\"Gini Index\",\"method\":\"update\"}]}],\"template\":{\"data\":{\"barpolar\":[{\"marker\":{\"line\":{\"color\":\"#E5ECF6\",\"width\":0.5},\"pattern\":{\"fillmode\":\"overlay\",\"size\":10,\"solidity\":0.2}},\"type\":\"barpolar\"}],\"bar\":[{\"error_x\":{\"color\":\"#2a3f5f\"},\"error_y\":{\"color\":\"#2a3f5f\"},\"marker\":{\"line\":{\"color\":\"#E5ECF6\",\"width\":0.5},\"pattern\":{\"fillmode\":\"overlay\",\"size\":10,\"solidity\":0.2}},\"type\":\"bar\"}],\"carpet\":[{\"aaxis\":{\"endlinecolor\":\"#2a3f5f\",\"gridcolor\":\"white\",\"linecolor\":\"white\",\"minorgridcolor\":\"white\",\"startlinecolor\":\"#2a3f5f\"},\"baxis\":{\"endlinecolor\":\"#2a3f5f\",\"gridcolor\":\"white\",\"linecolor\":\"white\",\"minorgridcolor\":\"white\",\"startlinecolor\":\"#2a3f5f\"},\"type\":\"carpet\"}],\"choropleth\":[{\"colorbar\":{\"outlinewidth\":0,\"ticks\":\"\"},\"type\":\"choropleth\"}],\"contourcarpet\":[{\"colorbar\":{\"outlinewidth\":0,\"ticks\":\"\"},\"type\":\"contourcarpet\"}],\"contour\":[{\"colorbar\":{\"outlinewidth\":0,\"ticks\":\"\"},\"colorscale\":[[0.0,\"#0d0887\"],[0.1111111111111111,\"#46039f\"],[0.2222222222222222,\"#7201a8\"],[0.3333333333333333,\"#9c179e\"],[0.4444444444444444,\"#bd3786\"],[0.5555555555555556,\"#d8576b\"],[0.6666666666666666,\"#ed7953\"],[0.7777777777777778,\"#fb9f3a\"],[0.8888888888888888,\"#fdca26\"],[1.0,\"#f0f921\"]],\"type\":\"contour\"}],\"heatmapgl\":[{\"colorbar\":{\"outlinewidth\":0,\"ticks\":\"\"},\"colorscale\":[[0.0,\"#0d0887\"],[0.1111111111111111,\"#46039f\"],[0.2222222222222222,\"#7201a8\"],[0.3333333333333333,\"#9c179e\"],[0.4444444444444444,\"#bd3786\"],[0.5555555555555556,\"#d8576b\"],[0.6666666666666666,\"#ed7953\"],[0.7777777777777778,\"#fb9f3a\"],[0.8888888888888888,\"#fdca26\"],[1.0,\"#f0f921\"]],\"type\":\"heatmapgl\"}],\"heatmap\":[{\"colorbar\":{\"outlinewidth\":0,\"ticks\":\"\"},\"colorscale\":[[0.0,\"#0d0887\"],[0.1111111111111111,\"#46039f\"],[0.2222222222222222,\"#7201a8\"],[0.3333333333333333,\"#9c179e\"],[0.4444444444444444,\"#bd3786\"],[0.5555555555555556,\"#d8576b\"],[0.6666666666666666,\"#ed7953\"],[0.7777777777777778,\"#fb9f3a\"],[0.8888888888888888,\"#fdca26\"],[1.0,\"#f0f921\"]],\"type\":\"heatmap\"}],\"histogram2dcontour\":[{\"colorbar\":{\"outlinewidth\":0,\"ticks\":\"\"},\"colorscale\":[[0.0,\"#0d0887\"],[0.1111111111111111,\"#46039f\"],[0.2222222222222222,\"#7201a8\"],[0.3333333333333333,\"#9c179e\"],[0.4444444444444444,\"#bd3786\"],[0.5555555555555556,\"#d8576b\"],[0.6666666666666666,\"#ed7953\"],[0.7777777777777778,\"#fb9f3a\"],[0.8888888888888888,\"#fdca26\"],[1.0,\"#f0f921\"]],\"type\":\"histogram2dcontour\"}],\"histogram2d\":[{\"colorbar\":{\"outlinewidth\":0,\"ticks\":\"\"},\"colorscale\":[[0.0,\"#0d0887\"],[0.1111111111111111,\"#46039f\"],[0.2222222222222222,\"#7201a8\"],[0.3333333333333333,\"#9c179e\"],[0.4444444444444444,\"#bd3786\"],[0.5555555555555556,\"#d8576b\"],[0.6666666666666666,\"#ed7953\"],[0.7777777777777778,\"#fb9f3a\"],[0.8888888888888888,\"#fdca26\"],[1.0,\"#f0f921\"]],\"type\":\"histogram2d\"}],\"histogram\":[{\"marker\":{\"pattern\":{\"fillmode\":\"overlay\",\"size\":10,\"solidity\":0.2}},\"type\":\"histogram\"}],\"mesh3d\":[{\"colorbar\":{\"outlinewidth\":0,\"ticks\":\"\"},\"type\":\"mesh3d\"}],\"parcoords\":[{\"line\":{\"colorbar\":{\"outlinewidth\":0,\"ticks\":\"\"}},\"type\":\"parcoords\"}],\"pie\":[{\"automargin\":true,\"type\":\"pie\"}],\"scatter3d\":[{\"line\":{\"colorbar\":{\"outlinewidth\":0,\"ticks\":\"\"}},\"marker\":{\"colorbar\":{\"outlinewidth\":0,\"ticks\":\"\"}},\"type\":\"scatter3d\"}],\"scattercarpet\":[{\"marker\":{\"colorbar\":{\"outlinewidth\":0,\"ticks\":\"\"}},\"type\":\"scattercarpet\"}],\"scattergeo\":[{\"marker\":{\"colorbar\":{\"outlinewidth\":0,\"ticks\":\"\"}},\"type\":\"scattergeo\"}],\"scattergl\":[{\"marker\":{\"colorbar\":{\"outlinewidth\":0,\"ticks\":\"\"}},\"type\":\"scattergl\"}],\"scattermapbox\":[{\"marker\":{\"colorbar\":{\"outlinewidth\":0,\"ticks\":\"\"}},\"type\":\"scattermapbox\"}],\"scatterpolargl\":[{\"marker\":{\"colorbar\":{\"outlinewidth\":0,\"ticks\":\"\"}},\"type\":\"scatterpolargl\"}],\"scatterpolar\":[{\"marker\":{\"colorbar\":{\"outlinewidth\":0,\"ticks\":\"\"}},\"type\":\"scatterpolar\"}],\"scatter\":[{\"fillpattern\":{\"fillmode\":\"overlay\",\"size\":10,\"solidity\":0.2},\"type\":\"scatter\"}],\"scatterternary\":[{\"marker\":{\"colorbar\":{\"outlinewidth\":0,\"ticks\":\"\"}},\"type\":\"scatterternary\"}],\"surface\":[{\"colorbar\":{\"outlinewidth\":0,\"ticks\":\"\"},\"colorscale\":[[0.0,\"#0d0887\"],[0.1111111111111111,\"#46039f\"],[0.2222222222222222,\"#7201a8\"],[0.3333333333333333,\"#9c179e\"],[0.4444444444444444,\"#bd3786\"],[0.5555555555555556,\"#d8576b\"],[0.6666666666666666,\"#ed7953\"],[0.7777777777777778,\"#fb9f3a\"],[0.8888888888888888,\"#fdca26\"],[1.0,\"#f0f921\"]],\"type\":\"surface\"}],\"table\":[{\"cells\":{\"fill\":{\"color\":\"#EBF0F8\"},\"line\":{\"color\":\"white\"}},\"header\":{\"fill\":{\"color\":\"#C8D4E3\"},\"line\":{\"color\":\"white\"}},\"type\":\"table\"}]},\"layout\":{\"annotationdefaults\":{\"arrowcolor\":\"#2a3f5f\",\"arrowhead\":0,\"arrowwidth\":1},\"autotypenumbers\":\"strict\",\"coloraxis\":{\"colorbar\":{\"outlinewidth\":0,\"ticks\":\"\"}},\"colorscale\":{\"diverging\":[[0,\"#8e0152\"],[0.1,\"#c51b7d\"],[0.2,\"#de77ae\"],[0.3,\"#f1b6da\"],[0.4,\"#fde0ef\"],[0.5,\"#f7f7f7\"],[0.6,\"#e6f5d0\"],[0.7,\"#b8e186\"],[0.8,\"#7fbc41\"],[0.9,\"#4d9221\"],[1,\"#276419\"]],\"sequential\":[[0.0,\"#0d0887\"],[0.1111111111111111,\"#46039f\"],[0.2222222222222222,\"#7201a8\"],[0.3333333333333333,\"#9c179e\"],[0.4444444444444444,\"#bd3786\"],[0.5555555555555556,\"#d8576b\"],[0.6666666666666666,\"#ed7953\"],[0.7777777777777778,\"#fb9f3a\"],[0.8888888888888888,\"#fdca26\"],[1.0,\"#f0f921\"]],\"sequentialminus\":[[0.0,\"#0d0887\"],[0.1111111111111111,\"#46039f\"],[0.2222222222222222,\"#7201a8\"],[0.3333333333333333,\"#9c179e\"],[0.4444444444444444,\"#bd3786\"],[0.5555555555555556,\"#d8576b\"],[0.6666666666666666,\"#ed7953\"],[0.7777777777777778,\"#fb9f3a\"],[0.8888888888888888,\"#fdca26\"],[1.0,\"#f0f921\"]]},\"colorway\":[\"#636efa\",\"#EF553B\",\"#00cc96\",\"#ab63fa\",\"#FFA15A\",\"#19d3f3\",\"#FF6692\",\"#B6E880\",\"#FF97FF\",\"#FECB52\"],\"font\":{\"color\":\"#2a3f5f\"},\"geo\":{\"bgcolor\":\"white\",\"lakecolor\":\"white\",\"landcolor\":\"#E5ECF6\",\"showlakes\":true,\"showland\":true,\"subunitcolor\":\"white\"},\"hoverlabel\":{\"align\":\"left\"},\"hovermode\":\"closest\",\"mapbox\":{\"style\":\"light\"},\"paper_bgcolor\":\"white\",\"plot_bgcolor\":\"#E5ECF6\",\"polar\":{\"angularaxis\":{\"gridcolor\":\"white\",\"linecolor\":\"white\",\"ticks\":\"\"},\"bgcolor\":\"#E5ECF6\",\"radialaxis\":{\"gridcolor\":\"white\",\"linecolor\":\"white\",\"ticks\":\"\"}},\"scene\":{\"xaxis\":{\"backgroundcolor\":\"#E5ECF6\",\"gridcolor\":\"white\",\"gridwidth\":2,\"linecolor\":\"white\",\"showbackground\":true,\"ticks\":\"\",\"zerolinecolor\":\"white\"},\"yaxis\":{\"backgroundcolor\":\"#E5ECF6\",\"gridcolor\":\"white\",\"gridwidth\":2,\"linecolor\":\"white\",\"showbackground\":true,\"ticks\":\"\",\"zerolinecolor\":\"white\"},\"zaxis\":{\"backgroundcolor\":\"#E5ECF6\",\"gridcolor\":\"white\",\"gridwidth\":2,\"linecolor\":\"white\",\"showbackground\":true,\"ticks\":\"\",\"zerolinecolor\":\"white\"}},\"shapedefaults\":{\"line\":{\"color\":\"#2a3f5f\"}},\"ternary\":{\"aaxis\":{\"gridcolor\":\"white\",\"linecolor\":\"white\",\"ticks\":\"\"},\"baxis\":{\"gridcolor\":\"white\",\"linecolor\":\"white\",\"ticks\":\"\"},\"bgcolor\":\"#E5ECF6\",\"caxis\":{\"gridcolor\":\"white\",\"linecolor\":\"white\",\"ticks\":\"\"}},\"title\":{\"x\":0.05},\"xaxis\":{\"automargin\":true,\"gridcolor\":\"white\",\"linecolor\":\"white\",\"ticks\":\"\",\"title\":{\"standoff\":15},\"zerolinecolor\":\"white\",\"zerolinewidth\":2},\"yaxis\":{\"automargin\":true,\"gridcolor\":\"white\",\"linecolor\":\"white\",\"ticks\":\"\",\"title\":{\"standoff\":15},\"zerolinecolor\":\"white\",\"zerolinewidth\":2}}},\"title\":{\"text\":\"Happiness vs GDP (current US$)\"},\"width\":900,\"xaxis\":{\"title\":{\"text\":\"GDP (current US$)\"},\"type\":\"log\"},\"yaxis\":{\"title\":{\"text\":\"Happiness\"}}},                        {\"responsive\": true}                    ).then(function(){\n",
       "                            \n",
       "var gd = document.getElementById('dfaa0f90-5d38-410d-b586-5176fa318f64');\n",
       "var x = new MutationObserver(function (mutations, observer) {{\n",
       "        var display = window.getComputedStyle(gd).display;\n",
       "        if (!display || display === 'none') {{\n",
       "            console.log([gd, 'removed!']);\n",
       "            Plotly.purge(gd);\n",
       "            observer.disconnect();\n",
       "        }}\n",
       "}});\n",
       "\n",
       "// Listen for the removal of the full notebook cells\n",
       "var notebookContainer = gd.closest('#notebook-container');\n",
       "if (notebookContainer) {{\n",
       "    x.observe(notebookContainer, {childList: true});\n",
       "}}\n",
       "\n",
       "// Listen for the clearing of the current output cell\n",
       "var outputEl = gd.closest('.output');\n",
       "if (outputEl) {{\n",
       "    x.observe(outputEl, {childList: true});\n",
       "}}\n",
       "\n",
       "                        })                };                });            </script>        </div>"
      ]
     },
     "metadata": {},
     "output_type": "display_data"
    }
   ],
   "source": [
    "import pandas as pd\n",
    "import numpy as np\n",
    "import plotly.graph_objects as go\n",
    "from plotly.offline import init_notebook_mode, iplot\n",
    "from sklearn.linear_model import LinearRegression\n",
    "\n",
    "init_notebook_mode(connected=True)\n",
    "\n",
    "df = pd.read_csv('final.csv')\n",
    "\n",
    "df['Happiness_rank'] = df['Happiness'].rank(method='min', ascending=False).astype(int)\n",
    "total_countries = df['Country'].nunique()\n",
    "\n",
    "df_gdp  = df.dropna(subset=['GDP_current_usd', 'Happiness', 'Country', 'Happiness_rank'])\n",
    "df_gni  = df.dropna(subset=['GNI_current_usd', 'Happiness', 'Country', 'Happiness_rank'])\n",
    "df_gini = df.dropna(subset=['Gini_index',       'Happiness', 'Country', 'Happiness_rank'])\n",
    "\n",
    "def add_trend_line(fig, x, y, name, color, visible=True):\n",
    "    \n",
    "    x_vals = np.log(x) if name in ['GDP', 'GNI'] else x\n",
    "    x_vals = x_vals.values.reshape(-1, 1)\n",
    "    y_vals = y.values.reshape(-1, 1)\n",
    "    \n",
    "    model = LinearRegression()\n",
    "    model.fit(x_vals, y_vals)\n",
    "    \n",
    "    \n",
    "    x_trend = np.linspace(min(x), max(x), 100)\n",
    "    x_trend_input = np.log(x_trend) if name in ['GDP', 'GNI'] else x_trend\n",
    "    \n",
    "    y_trend = model.predict(x_trend_input.reshape(-1, 1)).flatten()\n",
    "    \n",
    "    fig.add_trace(\n",
    "        go.Scatter(\n",
    "            x=x_trend,\n",
    "            y=y_trend,\n",
    "            mode='lines',\n",
    "            name=f'{name} Trend',\n",
    "            line=dict(color=color, dash='dash'),\n",
    "            visible=visible,\n",
    "            hoverinfo='skip'\n",
    "        )\n",
    "    )\n",
    "\n",
    "trace_gdp = go.Scatter(\n",
    "    x=df_gdp['GDP_current_usd'],\n",
    "    y=df_gdp['Happiness'],\n",
    "    mode='markers',\n",
    "    name='GDP (US$)',\n",
    "    visible=True,\n",
    "    text=df_gdp['Country'],\n",
    "    customdata=df_gdp['Happiness_rank'],\n",
    "    hovertemplate=(\n",
    "        \"Country: %{text}<br>\"\n",
    "        f\"Rank: %{{customdata}} out of {total_countries}<br>\"\n",
    "        \"GDP (US$): %{x:$,.0f}<br>\"\n",
    "        \"Happiness: %{y:.2f}<extra></extra>\"\n",
    "    )\n",
    ")\n",
    "\n",
    "trace_gni = go.Scatter(\n",
    "    x=df_gni['GNI_current_usd'],\n",
    "    y=df_gni['Happiness'],\n",
    "    mode='markers',\n",
    "    name='GNI (US$)',\n",
    "    visible=False,\n",
    "    text=df_gni['Country'],\n",
    "    customdata=df_gni['Happiness_rank'],\n",
    "    hovertemplate=(\n",
    "        \"Country: %{text}<br>\"\n",
    "        f\"Rank: %{{customdata}} out of {total_countries}<br>\"\n",
    "        \"GNI (US$): %{x:$,.0f}<br>\"\n",
    "        \"Happiness: %{y:.2f}<extra></extra>\"\n",
    "    )\n",
    ")\n",
    "\n",
    "trace_gini = go.Scatter(\n",
    "    x=df_gini['Gini_index'],\n",
    "    y=df_gini['Happiness'],\n",
    "    mode='markers',\n",
    "    name='Gini Index',\n",
    "    visible=False,\n",
    "    text=df_gini['Country'],\n",
    "    customdata=df_gini['Happiness_rank'],\n",
    "    hovertemplate=(\n",
    "        \"Country: %{text}<br>\"\n",
    "        f\"Rank: %{{customdata}} out of {total_countries}<br>\"\n",
    "        \"Gini Index: %{x:.2f}<br>\"\n",
    "        \"Happiness: %{y:.2f}<extra></extra>\"\n",
    "    )\n",
    ")\n",
    "\n",
    "fig = go.Figure(data=[trace_gdp, trace_gni, trace_gini])\n",
    "\n",
    "add_trend_line(fig, df_gdp['GDP_current_usd'], df_gdp['Happiness'], 'GDP', 'blue', True)\n",
    "add_trend_line(fig, df_gni['GNI_current_usd'], df_gni['Happiness'], 'GNI', 'blue', False)\n",
    "add_trend_line(fig, df_gini['Gini_index'], df_gini['Happiness'], 'Gini', 'blue', False)\n",
    "\n",
    "steps = [\n",
    "    dict(\n",
    "        method='update',\n",
    "        label='GDP (US$)',\n",
    "        args=[\n",
    "            {'visible': [True, False, False]},\n",
    "            {\n",
    "                'title': 'Happiness vs GDP (current US$)',\n",
    "                'xaxis': {'title': 'GDP (current US$)', 'type': 'log'},\n",
    "                'yaxis': {'title': 'Happiness'}\n",
    "            }\n",
    "        ]\n",
    "    ),\n",
    "    dict(\n",
    "        method='update',\n",
    "        label='GNI (US$)',\n",
    "        args=[\n",
    "            {'visible': [False, True, False]},\n",
    "            {\n",
    "                'title': 'Happiness vs GNI (current US$)',\n",
    "                'xaxis': {'title': 'GNI (current US$)', 'type': 'log'},\n",
    "                'yaxis': {'title': 'Happiness'}\n",
    "            }\n",
    "        ]\n",
    "    ),\n",
    "    dict(\n",
    "        method='update',\n",
    "        label='Gini Index',\n",
    "        args=[\n",
    "            {'visible': [False, False, True]},\n",
    "            {\n",
    "                'title': 'Happiness vs Gini Index',\n",
    "                'xaxis': {'title': 'Gini Index', 'type': 'linear'},\n",
    "                'yaxis': {'title': 'Happiness'}\n",
    "            }\n",
    "        ]\n",
    "    )\n",
    "]\n",
    "\n",
    "fig.update_layout(\n",
    "    sliders=[dict(\n",
    "        active=0,\n",
    "        currentvalue={'prefix': 'Metric: '},\n",
    "        pad={'t': 50},\n",
    "        steps=steps\n",
    "    )],\n",
    "    title=\"Happiness vs GDP (current US$)\",\n",
    "    width=900,\n",
    "    height=600,\n",
    "    margin={'t':80},\n",
    "    xaxis=dict(\n",
    "        title='GDP (current US$)',\n",
    "        type='log'\n",
    "    ),\n",
    "    yaxis=dict(\n",
    "        title='Happiness'\n",
    "    )\n",
    ")\n",
    "\n",
    "iplot(fig)\n"
   ]
  },
  {
   "cell_type": "code",
   "execution_count": 8,
   "id": "1d91aaa7",
   "metadata": {},
   "outputs": [
    {
     "data": {
      "text/html": [
       "        <script type=\"text/javascript\">\n",
       "        window.PlotlyConfig = {MathJaxConfig: 'local'};\n",
       "        if (window.MathJax && window.MathJax.Hub && window.MathJax.Hub.Config) {window.MathJax.Hub.Config({SVG: {font: \"STIX-Web\"}});}\n",
       "        if (typeof require !== 'undefined') {\n",
       "        require.undef(\"plotly\");\n",
       "        requirejs.config({\n",
       "            paths: {\n",
       "                'plotly': ['https://cdn.plot.ly/plotly-2.35.2.min']\n",
       "            }\n",
       "        });\n",
       "        require(['plotly'], function(Plotly) {\n",
       "            window._Plotly = Plotly;\n",
       "        });\n",
       "        }\n",
       "        </script>\n",
       "        "
      ]
     },
     "metadata": {},
     "output_type": "display_data"
    },
    {
     "data": {
      "application/vnd.plotly.v1+json": {
       "config": {
        "linkText": "Export to plot.ly",
        "plotlyServerURL": "https://plot.ly",
        "showLink": false
       },
       "data": [
        {
         "customdata": [
          1,
          2,
          3,
          4,
          5,
          6,
          7,
          8,
          9,
          10,
          11,
          12,
          13,
          14,
          15,
          16,
          17,
          18,
          19,
          20,
          21,
          23,
          24,
          25,
          27,
          28,
          29,
          30,
          31,
          32,
          33,
          34,
          35,
          36,
          37,
          38,
          40,
          41,
          43,
          44,
          45,
          46,
          47,
          48,
          49,
          50,
          51,
          52,
          53,
          54,
          55,
          56,
          57,
          58,
          59,
          60,
          61,
          62,
          63,
          64,
          67,
          68,
          69,
          70,
          71,
          72,
          73,
          74,
          76,
          77,
          78,
          79,
          79,
          81,
          82,
          83,
          84,
          85,
          86,
          87,
          88,
          89,
          90,
          91,
          92,
          93,
          94,
          95,
          97,
          98,
          99,
          100,
          101,
          102,
          103,
          104,
          105,
          106,
          107,
          109,
          110,
          112,
          113,
          114,
          115,
          116,
          117,
          118,
          119,
          120,
          122,
          123,
          124,
          126,
          127,
          129,
          130,
          132
         ],
         "hovertemplate": "Country: %{text}<br>Rank: %{customdata} out of 133<br>Education Expenditure: %{x:.1f}% of GDP<br>Happiness: %{y:.2f}<extra></extra>",
         "mode": "markers",
         "name": "Education Expenditure",
         "text": [
          "Finland",
          "Denmark",
          "Norway",
          "Iceland",
          "Netherlands",
          "Switzerland",
          "Sweden",
          "New Zealand",
          "Canada",
          "Austria",
          "Australia",
          "Costa Rica",
          "Israel",
          "Luxembourg",
          "United Kingdom",
          "Ireland",
          "Germany",
          "Belgium",
          "United States",
          "United Arab Emirates",
          "Malta",
          "France",
          "Chile",
          "Guatemala",
          "Qatar",
          "Spain",
          "Panama",
          "Brazil",
          "Uruguay",
          "Singapore",
          "El Salvador",
          "Italy",
          "Bahrain",
          "Poland",
          "Uzbekistan",
          "Lithuania",
          "Slovenia",
          "Nicaragua",
          "Argentina",
          "Romania",
          "Cyprus",
          "Ecuador",
          "Kuwait",
          "Thailand",
          "Latvia",
          "Estonia",
          "Jamaica",
          "Mauritius",
          "Japan",
          "Honduras",
          "Kazakhstan",
          "Bolivia",
          "Hungary",
          "Paraguay",
          "Peru",
          "Portugal",
          "Pakistan",
          "Philippines",
          "Serbia",
          "Moldova",
          "Tajikistan",
          "Croatia",
          "Dominican Republic",
          "Bosnia and Herzegovina",
          "Malaysia",
          "Belarus",
          "Greece",
          "Mongolia",
          "Nigeria",
          "Turkmenistan",
          "Algeria",
          "Morocco",
          "Azerbaijan",
          "Lebanon",
          "Indonesia",
          "China",
          "Bhutan",
          "Cameroon",
          "Bulgaria",
          "Ghana",
          "Nepal",
          "Jordan",
          "Benin",
          "Gabon",
          "South Africa",
          "Albania",
          "Cambodia",
          "Senegal",
          "Namibia",
          "Niger",
          "Burkina Faso",
          "Armenia",
          "Guinea",
          "Georgia",
          "Kenya",
          "Mauritania",
          "Mozambique",
          "Tunisia",
          "Bangladesh",
          "Mali",
          "Sierra Leone",
          "Myanmar",
          "Chad",
          "Ukraine",
          "Ethiopia",
          "Uganda",
          "Zambia",
          "Togo",
          "India",
          "Liberia",
          "Madagascar",
          "Lesotho",
          "Burundi",
          "Haiti",
          "Botswana",
          "Rwanda",
          "Tanzania",
          "Central African Republic"
         ],
         "type": "scatter",
         "visible": true,
         "x": [
          6.41695022583008,
          7.25505018234253,
          7.8645601272583,
          7.60129976272583,
          5.15986013412476,
          5.01438999176025,
          7.63851022720337,
          5.17797994613647,
          4.77293014526367,
          5.21779012680054,
          5.50858879089355,
          6.73808002471924,
          6.04147005081177,
          3.73606991767883,
          5.26115989685059,
          3.2961699962616,
          5.11552000045776,
          6.33397006988525,
          4.95746994018555,
          3.86020994186401,
          4.8993501663208,
          5.35443019866943,
          5.62630987167358,
          3.19297003746033,
          2.80378007888794,
          4.23021984100342,
          3.09329414367676,
          5.96346998214722,
          4.62833976745605,
          2.72951006889343,
          3.38710999488831,
          4.09527015686035,
          2.38460445404053,
          4.67881011962891,
          6.29534673690796,
          3.9640998840332,
          4.89153003692627,
          4.59991979598999,
          4.7716498374939,
          3.56695008277893,
          5.21260023117065,
          4.2457799911499,
          6.72789573669434,
          3.02221417427063,
          4.43584012985229,
          5.26041984558105,
          5.16364002227783,
          4.54195022583008,
          3.15533995628357,
          5.93245983123779,
          3.35382127761841,
          8.09103965759277,
          4.22488021850586,
          3.48983025550842,
          3.822429895401,
          4.63002014160156,
          2.21491765975952,
          3.40748643875122,
          3.61647009849548,
          6.22576999664307,
          5.48427629470825,
          3.92007994651794,
          4.04276895523071,
          4.04449987411499,
          3.97953963279724,
          4.97948980331421,
          3.58612990379333,
          3.65236973762512,
          0.358478993177414,
          3.12054991722107,
          5.57536554336548,
          5.00325679779053,
          3.1764600276947,
          2.60026550292969,
          0.964399099349976,
          4.05939483642578,
          4.50982761383057,
          3.04739952087402,
          4.19902992248535,
          3.15307116508484,
          3.48568081855774,
          2.98847007751465,
          2.96520113945007,
          2.8743097782135,
          5.91158008575439,
          3.91623997688293,
          2.82565474510193,
          5.03527021408081,
          9.32253170013428,
          3.52622723579407,
          5.40713691711426,
          2.57191228866577,
          1.85812997817993,
          3.82985997200012,
          5.37359189987183,
          1.82317996025085,
          6.2863941192627,
          6.1737322807312,
          1.68138802051544,
          3.55504989624023,
          7.44701194763184,
          1.99976003170013,
          2.37245798110962,
          5.44129991531372,
          4.48086929321289,
          2.30828070640564,
          4.41824007034302,
          4.20166826248169,
          3.89732360839844,
          2.16508197784424,
          3.01338386535645,
          7.19406890869141,
          5.34668445587158,
          1.75941300392151,
          8.39899635314941,
          3.23868060112,
          3.59683632850647,
          1.76792073249817
         ],
         "y": [
          7.769,
          7.6,
          7.554,
          7.494,
          7.488,
          7.48,
          7.343,
          7.307,
          7.278,
          7.246,
          7.228,
          7.167,
          7.139,
          7.09,
          7.054,
          7.021,
          6.985,
          6.923,
          6.892,
          6.825,
          6.726,
          6.592,
          6.444,
          6.436,
          6.374,
          6.354,
          6.321,
          6.3,
          6.293,
          6.262,
          6.253,
          6.223,
          6.199,
          6.182,
          6.174,
          6.149,
          6.118,
          6.105,
          6.086,
          6.07,
          6.046,
          6.028,
          6.021,
          6.008,
          5.94,
          5.893,
          5.89,
          5.888,
          5.886,
          5.86,
          5.809,
          5.779,
          5.758,
          5.743,
          5.697,
          5.693,
          5.653,
          5.631,
          5.603,
          5.529,
          5.467,
          5.432,
          5.425,
          5.386,
          5.339,
          5.323,
          5.287,
          5.285,
          5.265,
          5.247,
          5.211,
          5.208,
          5.208,
          5.197,
          5.192,
          5.191,
          5.082,
          5.044,
          5.011,
          4.996,
          4.913,
          4.906,
          4.883,
          4.799,
          4.722,
          4.719,
          4.7,
          4.681,
          4.639,
          4.628,
          4.587,
          4.559,
          4.534,
          4.519,
          4.509,
          4.49,
          4.466,
          4.461,
          4.456,
          4.39,
          4.374,
          4.36,
          4.35,
          4.332,
          4.286,
          4.189,
          4.107,
          4.085,
          4.015,
          3.975,
          3.933,
          3.802,
          3.775,
          3.597,
          3.488,
          3.334,
          3.231,
          3.083
         ]
        },
        {
         "customdata": [
          1,
          2,
          3,
          4,
          5,
          6,
          7,
          8,
          9,
          10,
          11,
          12,
          13,
          14,
          15,
          16,
          17,
          18,
          19,
          20,
          21,
          22,
          23,
          24,
          25,
          26,
          27,
          28,
          29,
          30,
          31,
          32,
          33,
          34,
          36,
          37,
          38,
          39,
          40,
          42,
          43,
          44,
          45,
          46,
          48,
          49,
          50,
          51,
          52,
          53,
          54,
          55,
          56,
          57,
          58,
          59,
          60,
          61,
          62,
          63,
          64,
          66,
          68,
          69,
          70,
          71,
          72,
          73,
          74,
          75,
          76,
          79,
          81,
          82,
          83,
          84,
          86,
          89,
          90,
          92,
          93,
          94,
          95,
          96,
          98,
          99,
          100,
          101,
          102,
          103,
          104,
          106,
          109,
          111,
          112,
          114,
          116,
          117,
          118,
          119,
          123,
          125,
          127,
          129
         ],
         "hovertemplate": "Country: %{text}<br>Rank: %{customdata} out of 133<br>Unemployment Rate: %{x:.1f}%<br>Happiness: %{y:.2f}<extra></extra>",
         "mode": "markers",
         "name": "Unemployment Rate",
         "text": [
          "Finland",
          "Denmark",
          "Norway",
          "Iceland",
          "Netherlands",
          "Switzerland",
          "Sweden",
          "New Zealand",
          "Canada",
          "Austria",
          "Australia",
          "Costa Rica",
          "Israel",
          "Luxembourg",
          "United Kingdom",
          "Ireland",
          "Germany",
          "Belgium",
          "United States",
          "United Arab Emirates",
          "Malta",
          "Mexico",
          "France",
          "Chile",
          "Guatemala",
          "Saudi Arabia",
          "Qatar",
          "Spain",
          "Panama",
          "Brazil",
          "Uruguay",
          "Singapore",
          "El Salvador",
          "Italy",
          "Poland",
          "Uzbekistan",
          "Lithuania",
          "Colombia",
          "Slovenia",
          "Kosovo",
          "Argentina",
          "Romania",
          "Cyprus",
          "Ecuador",
          "Thailand",
          "Latvia",
          "Estonia",
          "Jamaica",
          "Mauritius",
          "Japan",
          "Honduras",
          "Kazakhstan",
          "Bolivia",
          "Hungary",
          "Paraguay",
          "Peru",
          "Portugal",
          "Pakistan",
          "Philippines",
          "Serbia",
          "Moldova",
          "Montenegro",
          "Croatia",
          "Dominican Republic",
          "Bosnia and Herzegovina",
          "Malaysia",
          "Belarus",
          "Greece",
          "Mongolia",
          "North Macedonia",
          "Nigeria",
          "Azerbaijan",
          "Lebanon",
          "Indonesia",
          "China",
          "Bhutan",
          "Bulgaria",
          "Jordan",
          "Benin",
          "South Africa",
          "Albania",
          "Cambodia",
          "Senegal",
          "Somalia",
          "Niger",
          "Burkina Faso",
          "Armenia",
          "Guinea",
          "Georgia",
          "Kenya",
          "Mauritania",
          "Tunisia",
          "Mali",
          "Sri Lanka",
          "Myanmar",
          "Ukraine",
          "Uganda",
          "Zambia",
          "Togo",
          "India",
          "Lesotho",
          "Zimbabwe",
          "Botswana",
          "Rwanda"
         ],
         "type": "scatter",
         "visible": false,
         "x": [
          6.695,
          5.018,
          3.684,
          3.507,
          3.379,
          4.394,
          6.833,
          4.109,
          5.69,
          4.56,
          5.143,
          10.807,
          3.731,
          5.592,
          3.657,
          4.95,
          3.163,
          5.364,
          3.669,
          2.331,
          3.627,
          3.477,
          8.415,
          7.493,
          2.193,
          5.636,
          0.1,
          14.105,
          6.409,
          11.936,
          8.836,
          3.1,
          4.17,
          9.952,
          3.267,
          8.98,
          6.255,
          10.28,
          4.446,
          25.069,
          9.843,
          3.912,
          7.155,
          3.812,
          0.716,
          6.312,
          4.514,
          4.987,
          6.331,
          2.351,
          5.698,
          4.8,
          3.682,
          3.419,
          6.595,
          3.379,
          6.464,
          4.83,
          2.237,
          10.395,
          1.502,
          15.128,
          6.617,
          6.356,
          15.692,
          3.26,
          4.165,
          17.045,
          9.024,
          17.414,
          10.695,
          5,
          11.301,
          3.59,
          5.15,
          2.72,
          4.23,
          16.801,
          1.214,
          28.468,
          11.466,
          0.499,
          2.863,
          18.828,
          0.532,
          1.56,
          9.794,
          5.018,
          11.565,
          5.014,
          10.416,
          17.153,
          3.29,
          4.67,
          0.407,
          8.194,
          2.563,
          5.538,
          2.036,
          6.51,
          16.876,
          7.373,
          20.094,
          11.236
         ],
         "y": [
          7.769,
          7.6,
          7.554,
          7.494,
          7.488,
          7.48,
          7.343,
          7.307,
          7.278,
          7.246,
          7.228,
          7.167,
          7.139,
          7.09,
          7.054,
          7.021,
          6.985,
          6.923,
          6.892,
          6.825,
          6.726,
          6.595,
          6.592,
          6.444,
          6.436,
          6.375,
          6.374,
          6.354,
          6.321,
          6.3,
          6.293,
          6.262,
          6.253,
          6.223,
          6.182,
          6.174,
          6.149,
          6.125,
          6.118,
          6.1,
          6.086,
          6.07,
          6.046,
          6.028,
          6.008,
          5.94,
          5.893,
          5.89,
          5.888,
          5.886,
          5.86,
          5.809,
          5.779,
          5.758,
          5.743,
          5.697,
          5.693,
          5.653,
          5.631,
          5.603,
          5.529,
          5.523,
          5.432,
          5.425,
          5.386,
          5.339,
          5.323,
          5.287,
          5.285,
          5.274,
          5.265,
          5.208,
          5.197,
          5.192,
          5.191,
          5.082,
          5.011,
          4.906,
          4.883,
          4.722,
          4.719,
          4.7,
          4.681,
          4.668,
          4.628,
          4.587,
          4.559,
          4.534,
          4.519,
          4.509,
          4.49,
          4.461,
          4.39,
          4.366,
          4.36,
          4.332,
          4.189,
          4.107,
          4.085,
          4.015,
          3.802,
          3.663,
          3.488,
          3.334
         ]
        },
        {
         "customdata": [
          1,
          2,
          3,
          4,
          5,
          6,
          7,
          8,
          9,
          10,
          11,
          12,
          13,
          14,
          15,
          16,
          17,
          18,
          19,
          20,
          21,
          22,
          23,
          24,
          25,
          26,
          27,
          28,
          29,
          30,
          31,
          32,
          33,
          34,
          35,
          36,
          37,
          38,
          39,
          40,
          41,
          42,
          43,
          44,
          45,
          46,
          47,
          48,
          49,
          50,
          51,
          52,
          53,
          54,
          55,
          56,
          57,
          58,
          59,
          60,
          61,
          62,
          63,
          64,
          65,
          66,
          67,
          68,
          69,
          70,
          71,
          72,
          73,
          74,
          75,
          76,
          77,
          78,
          79,
          79,
          81,
          82,
          83,
          84,
          85,
          86,
          87,
          88,
          89,
          90,
          91,
          92,
          93,
          94,
          95,
          96,
          97,
          98,
          99,
          100,
          101,
          102,
          103,
          104,
          105,
          106,
          107,
          108,
          109,
          110,
          111,
          112,
          113,
          114,
          115,
          116,
          117,
          118,
          119,
          120,
          121,
          122,
          123,
          124,
          125,
          126,
          127,
          128,
          129,
          130,
          131,
          132,
          133
         ],
         "hovertemplate": "Country: %{text}<br>Rank: %{customdata} out of 133<br>Life Expectancy: %{x:.1f} years<br>Happiness: %{y:.2f}<extra></extra>",
         "mode": "markers",
         "name": "Life Expectancy",
         "text": [
          "Finland",
          "Denmark",
          "Norway",
          "Iceland",
          "Netherlands",
          "Switzerland",
          "Sweden",
          "New Zealand",
          "Canada",
          "Austria",
          "Australia",
          "Costa Rica",
          "Israel",
          "Luxembourg",
          "United Kingdom",
          "Ireland",
          "Germany",
          "Belgium",
          "United States",
          "United Arab Emirates",
          "Malta",
          "Mexico",
          "France",
          "Chile",
          "Guatemala",
          "Saudi Arabia",
          "Qatar",
          "Spain",
          "Panama",
          "Brazil",
          "Uruguay",
          "Singapore",
          "El Salvador",
          "Italy",
          "Bahrain",
          "Poland",
          "Uzbekistan",
          "Lithuania",
          "Colombia",
          "Slovenia",
          "Nicaragua",
          "Kosovo",
          "Argentina",
          "Romania",
          "Cyprus",
          "Ecuador",
          "Kuwait",
          "Thailand",
          "Latvia",
          "Estonia",
          "Jamaica",
          "Mauritius",
          "Japan",
          "Honduras",
          "Kazakhstan",
          "Bolivia",
          "Hungary",
          "Paraguay",
          "Peru",
          "Portugal",
          "Pakistan",
          "Philippines",
          "Serbia",
          "Moldova",
          "Libya",
          "Montenegro",
          "Tajikistan",
          "Croatia",
          "Dominican Republic",
          "Bosnia and Herzegovina",
          "Malaysia",
          "Belarus",
          "Greece",
          "Mongolia",
          "North Macedonia",
          "Nigeria",
          "Turkmenistan",
          "Algeria",
          "Morocco",
          "Azerbaijan",
          "Lebanon",
          "Indonesia",
          "China",
          "Bhutan",
          "Cameroon",
          "Bulgaria",
          "Ghana",
          "Nepal",
          "Jordan",
          "Benin",
          "Gabon",
          "South Africa",
          "Albania",
          "Cambodia",
          "Senegal",
          "Somalia",
          "Namibia",
          "Niger",
          "Burkina Faso",
          "Armenia",
          "Guinea",
          "Georgia",
          "Kenya",
          "Mauritania",
          "Mozambique",
          "Tunisia",
          "Bangladesh",
          "Iraq",
          "Mali",
          "Sierra Leone",
          "Sri Lanka",
          "Myanmar",
          "Chad",
          "Ukraine",
          "Ethiopia",
          "Uganda",
          "Zambia",
          "Togo",
          "India",
          "Liberia",
          "Comoros",
          "Madagascar",
          "Lesotho",
          "Burundi",
          "Zimbabwe",
          "Haiti",
          "Botswana",
          "Malawi",
          "Rwanda",
          "Tanzania",
          "Afghanistan",
          "Central African Republic",
          "South Sudan"
         ],
         "type": "scatter",
         "visible": false,
         "x": [
          81.9829268292683,
          81.4512195121951,
          82.9585365853659,
          83.1634146341463,
          82.1121951219512,
          83.9048780487805,
          83.109756097561,
          82.0560975609756,
          82.1636585365854,
          81.8951219512195,
          82.9,
          80.296,
          82.8048780487805,
          82.6390243902439,
          81.3691219512195,
          82.7024390243903,
          81.2926829268293,
          81.9951219512195,
          78.7878048780488,
          82.596,
          82.6585365853659,
          74.53,
          82.8268292682927,
          80.324,
          71.639,
          78.313,
          82.945,
          83.8317073170732,
          78.514,
          75.809,
          77.503,
          83.5951219512195,
          71.725,
          83.4975609756098,
          80.471,
          77.9048780487805,
          72.093,
          76.2829268292683,
          76.793,
          81.5292682926829,
          73.764,
          77.249,
          76.847,
          75.6073170731707,
          81.454,
          77.286,
          81.969756097561,
          77.197,
          75.3878048780488,
          78.6463414634147,
          71.532,
          74.2358536585366,
          84.3563414634146,
          72.124,
          73.658,
          67.82,
          76.3195121951219,
          73.668,
          76.275,
          81.6756097560976,
          66.729,
          69.68,
          75.9365853658537,
          70.181,
          72.941,
          76.6829268292683,
          70.962,
          78.2243902439024,
          73.112,
          77.394,
          75.9,
          74.2268292682927,
          81.6390243902439,
          71.0531707317073,
          76.6024390243903,
          53.009,
          69.405,
          75.682,
          74.245,
          73.29,
          78.208,
          70.349,
          77.94,
          72.005,
          61.695,
          75.1121951219512,
          64.455,
          69.299,
          76.865,
          59.888,
          67.337,
          66.071,
          79.467,
          70.127,
          67.668,
          57.249,
          63.546,
          60.031,
          60.184,
          76.2219512195122,
          59.379,
          74.165,
          62.939,
          67.64,
          61.306,
          75.599,
          72.625,
          71.245,
          59.217,
          59.593,
          76.698,
          66.457,
          52.993,
          73.92,
          65.741,
          66.354,
          62.914,
          61.055,
          70.746,
          61.232,
          65.662,
          63.504,
          55.249,
          62.18,
          61.06,
          64.328,
          67.167,
          64.995,
          66.691,
          66.007,
          62.941,
          31.53,
          58.129
         ],
         "y": [
          7.769,
          7.6,
          7.554,
          7.494,
          7.488,
          7.48,
          7.343,
          7.307,
          7.278,
          7.246,
          7.228,
          7.167,
          7.139,
          7.09,
          7.054,
          7.021,
          6.985,
          6.923,
          6.892,
          6.825,
          6.726,
          6.595,
          6.592,
          6.444,
          6.436,
          6.375,
          6.374,
          6.354,
          6.321,
          6.3,
          6.293,
          6.262,
          6.253,
          6.223,
          6.199,
          6.182,
          6.174,
          6.149,
          6.125,
          6.118,
          6.105,
          6.1,
          6.086,
          6.07,
          6.046,
          6.028,
          6.021,
          6.008,
          5.94,
          5.893,
          5.89,
          5.888,
          5.886,
          5.86,
          5.809,
          5.779,
          5.758,
          5.743,
          5.697,
          5.693,
          5.653,
          5.631,
          5.603,
          5.529,
          5.525,
          5.523,
          5.467,
          5.432,
          5.425,
          5.386,
          5.339,
          5.323,
          5.287,
          5.285,
          5.274,
          5.265,
          5.247,
          5.211,
          5.208,
          5.208,
          5.197,
          5.192,
          5.191,
          5.082,
          5.044,
          5.011,
          4.996,
          4.913,
          4.906,
          4.883,
          4.799,
          4.722,
          4.719,
          4.7,
          4.681,
          4.668,
          4.639,
          4.628,
          4.587,
          4.559,
          4.534,
          4.519,
          4.509,
          4.49,
          4.466,
          4.461,
          4.456,
          4.437,
          4.39,
          4.374,
          4.366,
          4.36,
          4.35,
          4.332,
          4.286,
          4.189,
          4.107,
          4.085,
          4.015,
          3.975,
          3.973,
          3.933,
          3.802,
          3.775,
          3.663,
          3.597,
          3.488,
          3.41,
          3.334,
          3.231,
          3.203,
          3.083,
          2.853
         ]
        }
       ],
       "layout": {
        "height": 600,
        "margin": {
         "t": 80
        },
        "sliders": [
         {
          "active": 0,
          "currentvalue": {
           "prefix": "Metric: "
          },
          "pad": {
           "t": 50
          },
          "steps": [
           {
            "args": [
             {
              "visible": [
               true,
               false,
               false
              ]
             },
             {
              "title": "Happiness vs Education Expenditure",
              "xaxis": {
               "title": "Education Expenditure (% of GDP)",
               "type": "linear"
              },
              "yaxis": {
               "title": "Happiness"
              }
             }
            ],
            "label": "Education Expenditure",
            "method": "update"
           },
           {
            "args": [
             {
              "visible": [
               false,
               true,
               false
              ]
             },
             {
              "title": "Happiness vs Unemployment Rate",
              "xaxis": {
               "title": "Unemployment Rate (%)",
               "type": "linear"
              },
              "yaxis": {
               "title": "Happiness"
              }
             }
            ],
            "label": "Unemployment Rate",
            "method": "update"
           },
           {
            "args": [
             {
              "visible": [
               false,
               false,
               true
              ]
             },
             {
              "title": "Happiness vs Life Expectancy",
              "xaxis": {
               "title": "Life Expectancy (years)",
               "type": "linear"
              },
              "yaxis": {
               "title": "Happiness"
              }
             }
            ],
            "label": "Life Expectancy",
            "method": "update"
           }
          ]
         }
        ],
        "template": {
         "data": {
          "bar": [
           {
            "error_x": {
             "color": "#2a3f5f"
            },
            "error_y": {
             "color": "#2a3f5f"
            },
            "marker": {
             "line": {
              "color": "#E5ECF6",
              "width": 0.5
             },
             "pattern": {
              "fillmode": "overlay",
              "size": 10,
              "solidity": 0.2
             }
            },
            "type": "bar"
           }
          ],
          "barpolar": [
           {
            "marker": {
             "line": {
              "color": "#E5ECF6",
              "width": 0.5
             },
             "pattern": {
              "fillmode": "overlay",
              "size": 10,
              "solidity": 0.2
             }
            },
            "type": "barpolar"
           }
          ],
          "carpet": [
           {
            "aaxis": {
             "endlinecolor": "#2a3f5f",
             "gridcolor": "white",
             "linecolor": "white",
             "minorgridcolor": "white",
             "startlinecolor": "#2a3f5f"
            },
            "baxis": {
             "endlinecolor": "#2a3f5f",
             "gridcolor": "white",
             "linecolor": "white",
             "minorgridcolor": "white",
             "startlinecolor": "#2a3f5f"
            },
            "type": "carpet"
           }
          ],
          "choropleth": [
           {
            "colorbar": {
             "outlinewidth": 0,
             "ticks": ""
            },
            "type": "choropleth"
           }
          ],
          "contour": [
           {
            "colorbar": {
             "outlinewidth": 0,
             "ticks": ""
            },
            "colorscale": [
             [
              0,
              "#0d0887"
             ],
             [
              0.1111111111111111,
              "#46039f"
             ],
             [
              0.2222222222222222,
              "#7201a8"
             ],
             [
              0.3333333333333333,
              "#9c179e"
             ],
             [
              0.4444444444444444,
              "#bd3786"
             ],
             [
              0.5555555555555556,
              "#d8576b"
             ],
             [
              0.6666666666666666,
              "#ed7953"
             ],
             [
              0.7777777777777778,
              "#fb9f3a"
             ],
             [
              0.8888888888888888,
              "#fdca26"
             ],
             [
              1,
              "#f0f921"
             ]
            ],
            "type": "contour"
           }
          ],
          "contourcarpet": [
           {
            "colorbar": {
             "outlinewidth": 0,
             "ticks": ""
            },
            "type": "contourcarpet"
           }
          ],
          "heatmap": [
           {
            "colorbar": {
             "outlinewidth": 0,
             "ticks": ""
            },
            "colorscale": [
             [
              0,
              "#0d0887"
             ],
             [
              0.1111111111111111,
              "#46039f"
             ],
             [
              0.2222222222222222,
              "#7201a8"
             ],
             [
              0.3333333333333333,
              "#9c179e"
             ],
             [
              0.4444444444444444,
              "#bd3786"
             ],
             [
              0.5555555555555556,
              "#d8576b"
             ],
             [
              0.6666666666666666,
              "#ed7953"
             ],
             [
              0.7777777777777778,
              "#fb9f3a"
             ],
             [
              0.8888888888888888,
              "#fdca26"
             ],
             [
              1,
              "#f0f921"
             ]
            ],
            "type": "heatmap"
           }
          ],
          "heatmapgl": [
           {
            "colorbar": {
             "outlinewidth": 0,
             "ticks": ""
            },
            "colorscale": [
             [
              0,
              "#0d0887"
             ],
             [
              0.1111111111111111,
              "#46039f"
             ],
             [
              0.2222222222222222,
              "#7201a8"
             ],
             [
              0.3333333333333333,
              "#9c179e"
             ],
             [
              0.4444444444444444,
              "#bd3786"
             ],
             [
              0.5555555555555556,
              "#d8576b"
             ],
             [
              0.6666666666666666,
              "#ed7953"
             ],
             [
              0.7777777777777778,
              "#fb9f3a"
             ],
             [
              0.8888888888888888,
              "#fdca26"
             ],
             [
              1,
              "#f0f921"
             ]
            ],
            "type": "heatmapgl"
           }
          ],
          "histogram": [
           {
            "marker": {
             "pattern": {
              "fillmode": "overlay",
              "size": 10,
              "solidity": 0.2
             }
            },
            "type": "histogram"
           }
          ],
          "histogram2d": [
           {
            "colorbar": {
             "outlinewidth": 0,
             "ticks": ""
            },
            "colorscale": [
             [
              0,
              "#0d0887"
             ],
             [
              0.1111111111111111,
              "#46039f"
             ],
             [
              0.2222222222222222,
              "#7201a8"
             ],
             [
              0.3333333333333333,
              "#9c179e"
             ],
             [
              0.4444444444444444,
              "#bd3786"
             ],
             [
              0.5555555555555556,
              "#d8576b"
             ],
             [
              0.6666666666666666,
              "#ed7953"
             ],
             [
              0.7777777777777778,
              "#fb9f3a"
             ],
             [
              0.8888888888888888,
              "#fdca26"
             ],
             [
              1,
              "#f0f921"
             ]
            ],
            "type": "histogram2d"
           }
          ],
          "histogram2dcontour": [
           {
            "colorbar": {
             "outlinewidth": 0,
             "ticks": ""
            },
            "colorscale": [
             [
              0,
              "#0d0887"
             ],
             [
              0.1111111111111111,
              "#46039f"
             ],
             [
              0.2222222222222222,
              "#7201a8"
             ],
             [
              0.3333333333333333,
              "#9c179e"
             ],
             [
              0.4444444444444444,
              "#bd3786"
             ],
             [
              0.5555555555555556,
              "#d8576b"
             ],
             [
              0.6666666666666666,
              "#ed7953"
             ],
             [
              0.7777777777777778,
              "#fb9f3a"
             ],
             [
              0.8888888888888888,
              "#fdca26"
             ],
             [
              1,
              "#f0f921"
             ]
            ],
            "type": "histogram2dcontour"
           }
          ],
          "mesh3d": [
           {
            "colorbar": {
             "outlinewidth": 0,
             "ticks": ""
            },
            "type": "mesh3d"
           }
          ],
          "parcoords": [
           {
            "line": {
             "colorbar": {
              "outlinewidth": 0,
              "ticks": ""
             }
            },
            "type": "parcoords"
           }
          ],
          "pie": [
           {
            "automargin": true,
            "type": "pie"
           }
          ],
          "scatter": [
           {
            "fillpattern": {
             "fillmode": "overlay",
             "size": 10,
             "solidity": 0.2
            },
            "type": "scatter"
           }
          ],
          "scatter3d": [
           {
            "line": {
             "colorbar": {
              "outlinewidth": 0,
              "ticks": ""
             }
            },
            "marker": {
             "colorbar": {
              "outlinewidth": 0,
              "ticks": ""
             }
            },
            "type": "scatter3d"
           }
          ],
          "scattercarpet": [
           {
            "marker": {
             "colorbar": {
              "outlinewidth": 0,
              "ticks": ""
             }
            },
            "type": "scattercarpet"
           }
          ],
          "scattergeo": [
           {
            "marker": {
             "colorbar": {
              "outlinewidth": 0,
              "ticks": ""
             }
            },
            "type": "scattergeo"
           }
          ],
          "scattergl": [
           {
            "marker": {
             "colorbar": {
              "outlinewidth": 0,
              "ticks": ""
             }
            },
            "type": "scattergl"
           }
          ],
          "scattermapbox": [
           {
            "marker": {
             "colorbar": {
              "outlinewidth": 0,
              "ticks": ""
             }
            },
            "type": "scattermapbox"
           }
          ],
          "scatterpolar": [
           {
            "marker": {
             "colorbar": {
              "outlinewidth": 0,
              "ticks": ""
             }
            },
            "type": "scatterpolar"
           }
          ],
          "scatterpolargl": [
           {
            "marker": {
             "colorbar": {
              "outlinewidth": 0,
              "ticks": ""
             }
            },
            "type": "scatterpolargl"
           }
          ],
          "scatterternary": [
           {
            "marker": {
             "colorbar": {
              "outlinewidth": 0,
              "ticks": ""
             }
            },
            "type": "scatterternary"
           }
          ],
          "surface": [
           {
            "colorbar": {
             "outlinewidth": 0,
             "ticks": ""
            },
            "colorscale": [
             [
              0,
              "#0d0887"
             ],
             [
              0.1111111111111111,
              "#46039f"
             ],
             [
              0.2222222222222222,
              "#7201a8"
             ],
             [
              0.3333333333333333,
              "#9c179e"
             ],
             [
              0.4444444444444444,
              "#bd3786"
             ],
             [
              0.5555555555555556,
              "#d8576b"
             ],
             [
              0.6666666666666666,
              "#ed7953"
             ],
             [
              0.7777777777777778,
              "#fb9f3a"
             ],
             [
              0.8888888888888888,
              "#fdca26"
             ],
             [
              1,
              "#f0f921"
             ]
            ],
            "type": "surface"
           }
          ],
          "table": [
           {
            "cells": {
             "fill": {
              "color": "#EBF0F8"
             },
             "line": {
              "color": "white"
             }
            },
            "header": {
             "fill": {
              "color": "#C8D4E3"
             },
             "line": {
              "color": "white"
             }
            },
            "type": "table"
           }
          ]
         },
         "layout": {
          "annotationdefaults": {
           "arrowcolor": "#2a3f5f",
           "arrowhead": 0,
           "arrowwidth": 1
          },
          "autotypenumbers": "strict",
          "coloraxis": {
           "colorbar": {
            "outlinewidth": 0,
            "ticks": ""
           }
          },
          "colorscale": {
           "diverging": [
            [
             0,
             "#8e0152"
            ],
            [
             0.1,
             "#c51b7d"
            ],
            [
             0.2,
             "#de77ae"
            ],
            [
             0.3,
             "#f1b6da"
            ],
            [
             0.4,
             "#fde0ef"
            ],
            [
             0.5,
             "#f7f7f7"
            ],
            [
             0.6,
             "#e6f5d0"
            ],
            [
             0.7,
             "#b8e186"
            ],
            [
             0.8,
             "#7fbc41"
            ],
            [
             0.9,
             "#4d9221"
            ],
            [
             1,
             "#276419"
            ]
           ],
           "sequential": [
            [
             0,
             "#0d0887"
            ],
            [
             0.1111111111111111,
             "#46039f"
            ],
            [
             0.2222222222222222,
             "#7201a8"
            ],
            [
             0.3333333333333333,
             "#9c179e"
            ],
            [
             0.4444444444444444,
             "#bd3786"
            ],
            [
             0.5555555555555556,
             "#d8576b"
            ],
            [
             0.6666666666666666,
             "#ed7953"
            ],
            [
             0.7777777777777778,
             "#fb9f3a"
            ],
            [
             0.8888888888888888,
             "#fdca26"
            ],
            [
             1,
             "#f0f921"
            ]
           ],
           "sequentialminus": [
            [
             0,
             "#0d0887"
            ],
            [
             0.1111111111111111,
             "#46039f"
            ],
            [
             0.2222222222222222,
             "#7201a8"
            ],
            [
             0.3333333333333333,
             "#9c179e"
            ],
            [
             0.4444444444444444,
             "#bd3786"
            ],
            [
             0.5555555555555556,
             "#d8576b"
            ],
            [
             0.6666666666666666,
             "#ed7953"
            ],
            [
             0.7777777777777778,
             "#fb9f3a"
            ],
            [
             0.8888888888888888,
             "#fdca26"
            ],
            [
             1,
             "#f0f921"
            ]
           ]
          },
          "colorway": [
           "#636efa",
           "#EF553B",
           "#00cc96",
           "#ab63fa",
           "#FFA15A",
           "#19d3f3",
           "#FF6692",
           "#B6E880",
           "#FF97FF",
           "#FECB52"
          ],
          "font": {
           "color": "#2a3f5f"
          },
          "geo": {
           "bgcolor": "white",
           "lakecolor": "white",
           "landcolor": "#E5ECF6",
           "showlakes": true,
           "showland": true,
           "subunitcolor": "white"
          },
          "hoverlabel": {
           "align": "left"
          },
          "hovermode": "closest",
          "mapbox": {
           "style": "light"
          },
          "paper_bgcolor": "white",
          "plot_bgcolor": "#E5ECF6",
          "polar": {
           "angularaxis": {
            "gridcolor": "white",
            "linecolor": "white",
            "ticks": ""
           },
           "bgcolor": "#E5ECF6",
           "radialaxis": {
            "gridcolor": "white",
            "linecolor": "white",
            "ticks": ""
           }
          },
          "scene": {
           "xaxis": {
            "backgroundcolor": "#E5ECF6",
            "gridcolor": "white",
            "gridwidth": 2,
            "linecolor": "white",
            "showbackground": true,
            "ticks": "",
            "zerolinecolor": "white"
           },
           "yaxis": {
            "backgroundcolor": "#E5ECF6",
            "gridcolor": "white",
            "gridwidth": 2,
            "linecolor": "white",
            "showbackground": true,
            "ticks": "",
            "zerolinecolor": "white"
           },
           "zaxis": {
            "backgroundcolor": "#E5ECF6",
            "gridcolor": "white",
            "gridwidth": 2,
            "linecolor": "white",
            "showbackground": true,
            "ticks": "",
            "zerolinecolor": "white"
           }
          },
          "shapedefaults": {
           "line": {
            "color": "#2a3f5f"
           }
          },
          "ternary": {
           "aaxis": {
            "gridcolor": "white",
            "linecolor": "white",
            "ticks": ""
           },
           "baxis": {
            "gridcolor": "white",
            "linecolor": "white",
            "ticks": ""
           },
           "bgcolor": "#E5ECF6",
           "caxis": {
            "gridcolor": "white",
            "linecolor": "white",
            "ticks": ""
           }
          },
          "title": {
           "x": 0.05
          },
          "xaxis": {
           "automargin": true,
           "gridcolor": "white",
           "linecolor": "white",
           "ticks": "",
           "title": {
            "standoff": 15
           },
           "zerolinecolor": "white",
           "zerolinewidth": 2
          },
          "yaxis": {
           "automargin": true,
           "gridcolor": "white",
           "linecolor": "white",
           "ticks": "",
           "title": {
            "standoff": 15
           },
           "zerolinecolor": "white",
           "zerolinewidth": 2
          }
         }
        },
        "title": {
         "text": "Happiness vs Education Expenditure"
        },
        "width": 900
       }
      },
      "text/html": [
       "<div>                            <div id=\"32060443-cce6-4427-a5cf-b1c225527b0b\" class=\"plotly-graph-div\" style=\"height:600px; width:900px;\"></div>            <script type=\"text/javascript\">                require([\"plotly\"], function(Plotly) {                    window.PLOTLYENV=window.PLOTLYENV || {};                                    if (document.getElementById(\"32060443-cce6-4427-a5cf-b1c225527b0b\")) {                    Plotly.newPlot(                        \"32060443-cce6-4427-a5cf-b1c225527b0b\",                        [{\"customdata\":[1,2,3,4,5,6,7,8,9,10,11,12,13,14,15,16,17,18,19,20,21,23,24,25,27,28,29,30,31,32,33,34,35,36,37,38,40,41,43,44,45,46,47,48,49,50,51,52,53,54,55,56,57,58,59,60,61,62,63,64,67,68,69,70,71,72,73,74,76,77,78,79,79,81,82,83,84,85,86,87,88,89,90,91,92,93,94,95,97,98,99,100,101,102,103,104,105,106,107,109,110,112,113,114,115,116,117,118,119,120,122,123,124,126,127,129,130,132],\"hovertemplate\":\"Country: %{text}\\u003cbr\\u003eRank: %{customdata} out of 133\\u003cbr\\u003eEducation Expenditure: %{x:.1f}% of GDP\\u003cbr\\u003eHappiness: %{y:.2f}\\u003cextra\\u003e\\u003c\\u002fextra\\u003e\",\"mode\":\"markers\",\"name\":\"Education Expenditure\",\"text\":[\"Finland\",\"Denmark\",\"Norway\",\"Iceland\",\"Netherlands\",\"Switzerland\",\"Sweden\",\"New Zealand\",\"Canada\",\"Austria\",\"Australia\",\"Costa Rica\",\"Israel\",\"Luxembourg\",\"United Kingdom\",\"Ireland\",\"Germany\",\"Belgium\",\"United States\",\"United Arab Emirates\",\"Malta\",\"France\",\"Chile\",\"Guatemala\",\"Qatar\",\"Spain\",\"Panama\",\"Brazil\",\"Uruguay\",\"Singapore\",\"El Salvador\",\"Italy\",\"Bahrain\",\"Poland\",\"Uzbekistan\",\"Lithuania\",\"Slovenia\",\"Nicaragua\",\"Argentina\",\"Romania\",\"Cyprus\",\"Ecuador\",\"Kuwait\",\"Thailand\",\"Latvia\",\"Estonia\",\"Jamaica\",\"Mauritius\",\"Japan\",\"Honduras\",\"Kazakhstan\",\"Bolivia\",\"Hungary\",\"Paraguay\",\"Peru\",\"Portugal\",\"Pakistan\",\"Philippines\",\"Serbia\",\"Moldova\",\"Tajikistan\",\"Croatia\",\"Dominican Republic\",\"Bosnia and Herzegovina\",\"Malaysia\",\"Belarus\",\"Greece\",\"Mongolia\",\"Nigeria\",\"Turkmenistan\",\"Algeria\",\"Morocco\",\"Azerbaijan\",\"Lebanon\",\"Indonesia\",\"China\",\"Bhutan\",\"Cameroon\",\"Bulgaria\",\"Ghana\",\"Nepal\",\"Jordan\",\"Benin\",\"Gabon\",\"South Africa\",\"Albania\",\"Cambodia\",\"Senegal\",\"Namibia\",\"Niger\",\"Burkina Faso\",\"Armenia\",\"Guinea\",\"Georgia\",\"Kenya\",\"Mauritania\",\"Mozambique\",\"Tunisia\",\"Bangladesh\",\"Mali\",\"Sierra Leone\",\"Myanmar\",\"Chad\",\"Ukraine\",\"Ethiopia\",\"Uganda\",\"Zambia\",\"Togo\",\"India\",\"Liberia\",\"Madagascar\",\"Lesotho\",\"Burundi\",\"Haiti\",\"Botswana\",\"Rwanda\",\"Tanzania\",\"Central African Republic\"],\"visible\":true,\"x\":[6.41695022583008,7.25505018234253,7.8645601272583,7.60129976272583,5.15986013412476,5.01438999176025,7.63851022720337,5.17797994613647,4.77293014526367,5.21779012680054,5.50858879089355,6.73808002471924,6.04147005081177,3.73606991767883,5.26115989685059,3.2961699962616,5.11552000045776,6.33397006988525,4.95746994018555,3.86020994186401,4.8993501663208,5.35443019866943,5.62630987167358,3.19297003746033,2.80378007888794,4.23021984100342,3.09329414367676,5.96346998214722,4.62833976745605,2.72951006889343,3.38710999488831,4.09527015686035,2.38460445404053,4.67881011962891,6.29534673690796,3.9640998840332,4.89153003692627,4.59991979598999,4.7716498374939,3.56695008277893,5.21260023117065,4.2457799911499,6.72789573669434,3.02221417427063,4.43584012985229,5.26041984558105,5.16364002227783,4.54195022583008,3.15533995628357,5.93245983123779,3.35382127761841,8.09103965759277,4.22488021850586,3.48983025550842,3.822429895401,4.63002014160156,2.21491765975952,3.40748643875122,3.61647009849548,6.22576999664307,5.48427629470825,3.92007994651794,4.04276895523071,4.04449987411499,3.97953963279724,4.97948980331421,3.58612990379333,3.65236973762512,0.358478993177414,3.12054991722107,5.57536554336548,5.00325679779053,3.1764600276947,2.60026550292969,0.964399099349976,4.05939483642578,4.50982761383057,3.04739952087402,4.19902992248535,3.15307116508484,3.48568081855774,2.98847007751465,2.96520113945007,2.8743097782135,5.91158008575439,3.91623997688293,2.82565474510193,5.03527021408081,9.32253170013428,3.52622723579407,5.40713691711426,2.57191228866577,1.85812997817993,3.82985997200012,5.37359189987183,1.82317996025085,6.2863941192627,6.1737322807312,1.68138802051544,3.55504989624023,7.44701194763184,1.99976003170013,2.37245798110962,5.44129991531372,4.48086929321289,2.30828070640564,4.41824007034302,4.20166826248169,3.89732360839844,2.16508197784424,3.01338386535645,7.19406890869141,5.34668445587158,1.75941300392151,8.39899635314941,3.23868060112,3.59683632850647,1.76792073249817],\"y\":[7.769,7.6,7.554,7.494,7.488,7.48,7.343,7.307,7.278,7.246,7.228,7.167,7.139,7.09,7.054,7.021,6.985,6.923,6.892,6.825,6.726,6.592,6.444,6.436,6.374,6.354,6.321,6.3,6.293,6.262,6.253,6.223,6.199,6.182,6.174,6.149,6.118,6.105,6.086,6.07,6.046,6.028,6.021,6.008,5.94,5.893,5.89,5.888,5.886,5.86,5.809,5.779,5.758,5.743,5.697,5.693,5.653,5.631,5.603,5.529,5.467,5.432,5.425,5.386,5.339,5.323,5.287,5.285,5.265,5.247,5.211,5.208,5.208,5.197,5.192,5.191,5.082,5.044,5.011,4.996,4.913,4.906,4.883,4.799,4.722,4.719,4.7,4.681,4.639,4.628,4.587,4.559,4.534,4.519,4.509,4.49,4.466,4.461,4.456,4.39,4.374,4.36,4.35,4.332,4.286,4.189,4.107,4.085,4.015,3.975,3.933,3.802,3.775,3.597,3.488,3.334,3.231,3.083],\"type\":\"scatter\"},{\"customdata\":[1,2,3,4,5,6,7,8,9,10,11,12,13,14,15,16,17,18,19,20,21,22,23,24,25,26,27,28,29,30,31,32,33,34,36,37,38,39,40,42,43,44,45,46,48,49,50,51,52,53,54,55,56,57,58,59,60,61,62,63,64,66,68,69,70,71,72,73,74,75,76,79,81,82,83,84,86,89,90,92,93,94,95,96,98,99,100,101,102,103,104,106,109,111,112,114,116,117,118,119,123,125,127,129],\"hovertemplate\":\"Country: %{text}\\u003cbr\\u003eRank: %{customdata} out of 133\\u003cbr\\u003eUnemployment Rate: %{x:.1f}%\\u003cbr\\u003eHappiness: %{y:.2f}\\u003cextra\\u003e\\u003c\\u002fextra\\u003e\",\"mode\":\"markers\",\"name\":\"Unemployment Rate\",\"text\":[\"Finland\",\"Denmark\",\"Norway\",\"Iceland\",\"Netherlands\",\"Switzerland\",\"Sweden\",\"New Zealand\",\"Canada\",\"Austria\",\"Australia\",\"Costa Rica\",\"Israel\",\"Luxembourg\",\"United Kingdom\",\"Ireland\",\"Germany\",\"Belgium\",\"United States\",\"United Arab Emirates\",\"Malta\",\"Mexico\",\"France\",\"Chile\",\"Guatemala\",\"Saudi Arabia\",\"Qatar\",\"Spain\",\"Panama\",\"Brazil\",\"Uruguay\",\"Singapore\",\"El Salvador\",\"Italy\",\"Poland\",\"Uzbekistan\",\"Lithuania\",\"Colombia\",\"Slovenia\",\"Kosovo\",\"Argentina\",\"Romania\",\"Cyprus\",\"Ecuador\",\"Thailand\",\"Latvia\",\"Estonia\",\"Jamaica\",\"Mauritius\",\"Japan\",\"Honduras\",\"Kazakhstan\",\"Bolivia\",\"Hungary\",\"Paraguay\",\"Peru\",\"Portugal\",\"Pakistan\",\"Philippines\",\"Serbia\",\"Moldova\",\"Montenegro\",\"Croatia\",\"Dominican Republic\",\"Bosnia and Herzegovina\",\"Malaysia\",\"Belarus\",\"Greece\",\"Mongolia\",\"North Macedonia\",\"Nigeria\",\"Azerbaijan\",\"Lebanon\",\"Indonesia\",\"China\",\"Bhutan\",\"Bulgaria\",\"Jordan\",\"Benin\",\"South Africa\",\"Albania\",\"Cambodia\",\"Senegal\",\"Somalia\",\"Niger\",\"Burkina Faso\",\"Armenia\",\"Guinea\",\"Georgia\",\"Kenya\",\"Mauritania\",\"Tunisia\",\"Mali\",\"Sri Lanka\",\"Myanmar\",\"Ukraine\",\"Uganda\",\"Zambia\",\"Togo\",\"India\",\"Lesotho\",\"Zimbabwe\",\"Botswana\",\"Rwanda\"],\"visible\":false,\"x\":[6.695,5.018,3.684,3.507,3.379,4.394,6.833,4.109,5.69,4.56,5.143,10.807,3.731,5.592,3.657,4.95,3.163,5.364,3.669,2.331,3.627,3.477,8.415,7.493,2.193,5.636,0.1,14.105,6.409,11.936,8.836,3.1,4.17,9.952,3.267,8.98,6.255,10.28,4.446,25.069,9.843,3.912,7.155,3.812,0.716,6.312,4.514,4.987,6.331,2.351,5.698,4.8,3.682,3.419,6.595,3.379,6.464,4.83,2.237,10.395,1.502,15.128,6.617,6.356,15.692,3.26,4.165,17.045,9.024,17.414,10.695,5.0,11.301,3.59,5.15,2.72,4.23,16.801,1.214,28.468,11.466,0.499,2.863,18.828,0.532,1.56,9.794,5.018,11.565,5.014,10.416,17.153,3.29,4.67,0.407,8.194,2.563,5.538,2.036,6.51,16.876,7.373,20.094,11.236],\"y\":[7.769,7.6,7.554,7.494,7.488,7.48,7.343,7.307,7.278,7.246,7.228,7.167,7.139,7.09,7.054,7.021,6.985,6.923,6.892,6.825,6.726,6.595,6.592,6.444,6.436,6.375,6.374,6.354,6.321,6.3,6.293,6.262,6.253,6.223,6.182,6.174,6.149,6.125,6.118,6.1,6.086,6.07,6.046,6.028,6.008,5.94,5.893,5.89,5.888,5.886,5.86,5.809,5.779,5.758,5.743,5.697,5.693,5.653,5.631,5.603,5.529,5.523,5.432,5.425,5.386,5.339,5.323,5.287,5.285,5.274,5.265,5.208,5.197,5.192,5.191,5.082,5.011,4.906,4.883,4.722,4.719,4.7,4.681,4.668,4.628,4.587,4.559,4.534,4.519,4.509,4.49,4.461,4.39,4.366,4.36,4.332,4.189,4.107,4.085,4.015,3.802,3.663,3.488,3.334],\"type\":\"scatter\"},{\"customdata\":[1,2,3,4,5,6,7,8,9,10,11,12,13,14,15,16,17,18,19,20,21,22,23,24,25,26,27,28,29,30,31,32,33,34,35,36,37,38,39,40,41,42,43,44,45,46,47,48,49,50,51,52,53,54,55,56,57,58,59,60,61,62,63,64,65,66,67,68,69,70,71,72,73,74,75,76,77,78,79,79,81,82,83,84,85,86,87,88,89,90,91,92,93,94,95,96,97,98,99,100,101,102,103,104,105,106,107,108,109,110,111,112,113,114,115,116,117,118,119,120,121,122,123,124,125,126,127,128,129,130,131,132,133],\"hovertemplate\":\"Country: %{text}\\u003cbr\\u003eRank: %{customdata} out of 133\\u003cbr\\u003eLife Expectancy: %{x:.1f} years\\u003cbr\\u003eHappiness: %{y:.2f}\\u003cextra\\u003e\\u003c\\u002fextra\\u003e\",\"mode\":\"markers\",\"name\":\"Life Expectancy\",\"text\":[\"Finland\",\"Denmark\",\"Norway\",\"Iceland\",\"Netherlands\",\"Switzerland\",\"Sweden\",\"New Zealand\",\"Canada\",\"Austria\",\"Australia\",\"Costa Rica\",\"Israel\",\"Luxembourg\",\"United Kingdom\",\"Ireland\",\"Germany\",\"Belgium\",\"United States\",\"United Arab Emirates\",\"Malta\",\"Mexico\",\"France\",\"Chile\",\"Guatemala\",\"Saudi Arabia\",\"Qatar\",\"Spain\",\"Panama\",\"Brazil\",\"Uruguay\",\"Singapore\",\"El Salvador\",\"Italy\",\"Bahrain\",\"Poland\",\"Uzbekistan\",\"Lithuania\",\"Colombia\",\"Slovenia\",\"Nicaragua\",\"Kosovo\",\"Argentina\",\"Romania\",\"Cyprus\",\"Ecuador\",\"Kuwait\",\"Thailand\",\"Latvia\",\"Estonia\",\"Jamaica\",\"Mauritius\",\"Japan\",\"Honduras\",\"Kazakhstan\",\"Bolivia\",\"Hungary\",\"Paraguay\",\"Peru\",\"Portugal\",\"Pakistan\",\"Philippines\",\"Serbia\",\"Moldova\",\"Libya\",\"Montenegro\",\"Tajikistan\",\"Croatia\",\"Dominican Republic\",\"Bosnia and Herzegovina\",\"Malaysia\",\"Belarus\",\"Greece\",\"Mongolia\",\"North Macedonia\",\"Nigeria\",\"Turkmenistan\",\"Algeria\",\"Morocco\",\"Azerbaijan\",\"Lebanon\",\"Indonesia\",\"China\",\"Bhutan\",\"Cameroon\",\"Bulgaria\",\"Ghana\",\"Nepal\",\"Jordan\",\"Benin\",\"Gabon\",\"South Africa\",\"Albania\",\"Cambodia\",\"Senegal\",\"Somalia\",\"Namibia\",\"Niger\",\"Burkina Faso\",\"Armenia\",\"Guinea\",\"Georgia\",\"Kenya\",\"Mauritania\",\"Mozambique\",\"Tunisia\",\"Bangladesh\",\"Iraq\",\"Mali\",\"Sierra Leone\",\"Sri Lanka\",\"Myanmar\",\"Chad\",\"Ukraine\",\"Ethiopia\",\"Uganda\",\"Zambia\",\"Togo\",\"India\",\"Liberia\",\"Comoros\",\"Madagascar\",\"Lesotho\",\"Burundi\",\"Zimbabwe\",\"Haiti\",\"Botswana\",\"Malawi\",\"Rwanda\",\"Tanzania\",\"Afghanistan\",\"Central African Republic\",\"South Sudan\"],\"visible\":false,\"x\":[81.9829268292683,81.4512195121951,82.9585365853659,83.1634146341463,82.1121951219512,83.9048780487805,83.109756097561,82.0560975609756,82.1636585365854,81.8951219512195,82.9,80.296,82.8048780487805,82.6390243902439,81.3691219512195,82.7024390243903,81.2926829268293,81.9951219512195,78.7878048780488,82.596,82.6585365853659,74.53,82.8268292682927,80.324,71.639,78.313,82.945,83.8317073170732,78.514,75.809,77.503,83.5951219512195,71.725,83.4975609756098,80.471,77.9048780487805,72.093,76.2829268292683,76.793,81.5292682926829,73.764,77.249,76.847,75.6073170731707,81.454,77.286,81.969756097561,77.197,75.3878048780488,78.6463414634147,71.532,74.2358536585366,84.3563414634146,72.124,73.658,67.82,76.3195121951219,73.668,76.275,81.6756097560976,66.729,69.68,75.9365853658537,70.181,72.941,76.6829268292683,70.962,78.2243902439024,73.112,77.394,75.9,74.2268292682927,81.6390243902439,71.0531707317073,76.6024390243903,53.009,69.405,75.682,74.245,73.29,78.208,70.349,77.94,72.005,61.695,75.1121951219512,64.455,69.299,76.865,59.888,67.337,66.071,79.467,70.127,67.668,57.249,63.546,60.031,60.184,76.2219512195122,59.379,74.165,62.939,67.64,61.306,75.599,72.625,71.245,59.217,59.593,76.698,66.457,52.993,73.92,65.741,66.354,62.914,61.055,70.746,61.232,65.662,63.504,55.249,62.18,61.06,64.328,67.167,64.995,66.691,66.007,62.941,31.53,58.129],\"y\":[7.769,7.6,7.554,7.494,7.488,7.48,7.343,7.307,7.278,7.246,7.228,7.167,7.139,7.09,7.054,7.021,6.985,6.923,6.892,6.825,6.726,6.595,6.592,6.444,6.436,6.375,6.374,6.354,6.321,6.3,6.293,6.262,6.253,6.223,6.199,6.182,6.174,6.149,6.125,6.118,6.105,6.1,6.086,6.07,6.046,6.028,6.021,6.008,5.94,5.893,5.89,5.888,5.886,5.86,5.809,5.779,5.758,5.743,5.697,5.693,5.653,5.631,5.603,5.529,5.525,5.523,5.467,5.432,5.425,5.386,5.339,5.323,5.287,5.285,5.274,5.265,5.247,5.211,5.208,5.208,5.197,5.192,5.191,5.082,5.044,5.011,4.996,4.913,4.906,4.883,4.799,4.722,4.719,4.7,4.681,4.668,4.639,4.628,4.587,4.559,4.534,4.519,4.509,4.49,4.466,4.461,4.456,4.437,4.39,4.374,4.366,4.36,4.35,4.332,4.286,4.189,4.107,4.085,4.015,3.975,3.973,3.933,3.802,3.775,3.663,3.597,3.488,3.41,3.334,3.231,3.203,3.083,2.853],\"type\":\"scatter\"}],                        {\"height\":600,\"margin\":{\"t\":80},\"sliders\":[{\"active\":0,\"currentvalue\":{\"prefix\":\"Metric: \"},\"pad\":{\"t\":50},\"steps\":[{\"args\":[{\"visible\":[true,false,false]},{\"title\":\"Happiness vs Education Expenditure\",\"xaxis\":{\"title\":\"Education Expenditure (% of GDP)\",\"type\":\"linear\"},\"yaxis\":{\"title\":\"Happiness\"}}],\"label\":\"Education Expenditure\",\"method\":\"update\"},{\"args\":[{\"visible\":[false,true,false]},{\"title\":\"Happiness vs Unemployment Rate\",\"xaxis\":{\"title\":\"Unemployment Rate (%)\",\"type\":\"linear\"},\"yaxis\":{\"title\":\"Happiness\"}}],\"label\":\"Unemployment Rate\",\"method\":\"update\"},{\"args\":[{\"visible\":[false,false,true]},{\"title\":\"Happiness vs Life Expectancy\",\"xaxis\":{\"title\":\"Life Expectancy (years)\",\"type\":\"linear\"},\"yaxis\":{\"title\":\"Happiness\"}}],\"label\":\"Life Expectancy\",\"method\":\"update\"}]}],\"template\":{\"data\":{\"barpolar\":[{\"marker\":{\"line\":{\"color\":\"#E5ECF6\",\"width\":0.5},\"pattern\":{\"fillmode\":\"overlay\",\"size\":10,\"solidity\":0.2}},\"type\":\"barpolar\"}],\"bar\":[{\"error_x\":{\"color\":\"#2a3f5f\"},\"error_y\":{\"color\":\"#2a3f5f\"},\"marker\":{\"line\":{\"color\":\"#E5ECF6\",\"width\":0.5},\"pattern\":{\"fillmode\":\"overlay\",\"size\":10,\"solidity\":0.2}},\"type\":\"bar\"}],\"carpet\":[{\"aaxis\":{\"endlinecolor\":\"#2a3f5f\",\"gridcolor\":\"white\",\"linecolor\":\"white\",\"minorgridcolor\":\"white\",\"startlinecolor\":\"#2a3f5f\"},\"baxis\":{\"endlinecolor\":\"#2a3f5f\",\"gridcolor\":\"white\",\"linecolor\":\"white\",\"minorgridcolor\":\"white\",\"startlinecolor\":\"#2a3f5f\"},\"type\":\"carpet\"}],\"choropleth\":[{\"colorbar\":{\"outlinewidth\":0,\"ticks\":\"\"},\"type\":\"choropleth\"}],\"contourcarpet\":[{\"colorbar\":{\"outlinewidth\":0,\"ticks\":\"\"},\"type\":\"contourcarpet\"}],\"contour\":[{\"colorbar\":{\"outlinewidth\":0,\"ticks\":\"\"},\"colorscale\":[[0.0,\"#0d0887\"],[0.1111111111111111,\"#46039f\"],[0.2222222222222222,\"#7201a8\"],[0.3333333333333333,\"#9c179e\"],[0.4444444444444444,\"#bd3786\"],[0.5555555555555556,\"#d8576b\"],[0.6666666666666666,\"#ed7953\"],[0.7777777777777778,\"#fb9f3a\"],[0.8888888888888888,\"#fdca26\"],[1.0,\"#f0f921\"]],\"type\":\"contour\"}],\"heatmapgl\":[{\"colorbar\":{\"outlinewidth\":0,\"ticks\":\"\"},\"colorscale\":[[0.0,\"#0d0887\"],[0.1111111111111111,\"#46039f\"],[0.2222222222222222,\"#7201a8\"],[0.3333333333333333,\"#9c179e\"],[0.4444444444444444,\"#bd3786\"],[0.5555555555555556,\"#d8576b\"],[0.6666666666666666,\"#ed7953\"],[0.7777777777777778,\"#fb9f3a\"],[0.8888888888888888,\"#fdca26\"],[1.0,\"#f0f921\"]],\"type\":\"heatmapgl\"}],\"heatmap\":[{\"colorbar\":{\"outlinewidth\":0,\"ticks\":\"\"},\"colorscale\":[[0.0,\"#0d0887\"],[0.1111111111111111,\"#46039f\"],[0.2222222222222222,\"#7201a8\"],[0.3333333333333333,\"#9c179e\"],[0.4444444444444444,\"#bd3786\"],[0.5555555555555556,\"#d8576b\"],[0.6666666666666666,\"#ed7953\"],[0.7777777777777778,\"#fb9f3a\"],[0.8888888888888888,\"#fdca26\"],[1.0,\"#f0f921\"]],\"type\":\"heatmap\"}],\"histogram2dcontour\":[{\"colorbar\":{\"outlinewidth\":0,\"ticks\":\"\"},\"colorscale\":[[0.0,\"#0d0887\"],[0.1111111111111111,\"#46039f\"],[0.2222222222222222,\"#7201a8\"],[0.3333333333333333,\"#9c179e\"],[0.4444444444444444,\"#bd3786\"],[0.5555555555555556,\"#d8576b\"],[0.6666666666666666,\"#ed7953\"],[0.7777777777777778,\"#fb9f3a\"],[0.8888888888888888,\"#fdca26\"],[1.0,\"#f0f921\"]],\"type\":\"histogram2dcontour\"}],\"histogram2d\":[{\"colorbar\":{\"outlinewidth\":0,\"ticks\":\"\"},\"colorscale\":[[0.0,\"#0d0887\"],[0.1111111111111111,\"#46039f\"],[0.2222222222222222,\"#7201a8\"],[0.3333333333333333,\"#9c179e\"],[0.4444444444444444,\"#bd3786\"],[0.5555555555555556,\"#d8576b\"],[0.6666666666666666,\"#ed7953\"],[0.7777777777777778,\"#fb9f3a\"],[0.8888888888888888,\"#fdca26\"],[1.0,\"#f0f921\"]],\"type\":\"histogram2d\"}],\"histogram\":[{\"marker\":{\"pattern\":{\"fillmode\":\"overlay\",\"size\":10,\"solidity\":0.2}},\"type\":\"histogram\"}],\"mesh3d\":[{\"colorbar\":{\"outlinewidth\":0,\"ticks\":\"\"},\"type\":\"mesh3d\"}],\"parcoords\":[{\"line\":{\"colorbar\":{\"outlinewidth\":0,\"ticks\":\"\"}},\"type\":\"parcoords\"}],\"pie\":[{\"automargin\":true,\"type\":\"pie\"}],\"scatter3d\":[{\"line\":{\"colorbar\":{\"outlinewidth\":0,\"ticks\":\"\"}},\"marker\":{\"colorbar\":{\"outlinewidth\":0,\"ticks\":\"\"}},\"type\":\"scatter3d\"}],\"scattercarpet\":[{\"marker\":{\"colorbar\":{\"outlinewidth\":0,\"ticks\":\"\"}},\"type\":\"scattercarpet\"}],\"scattergeo\":[{\"marker\":{\"colorbar\":{\"outlinewidth\":0,\"ticks\":\"\"}},\"type\":\"scattergeo\"}],\"scattergl\":[{\"marker\":{\"colorbar\":{\"outlinewidth\":0,\"ticks\":\"\"}},\"type\":\"scattergl\"}],\"scattermapbox\":[{\"marker\":{\"colorbar\":{\"outlinewidth\":0,\"ticks\":\"\"}},\"type\":\"scattermapbox\"}],\"scatterpolargl\":[{\"marker\":{\"colorbar\":{\"outlinewidth\":0,\"ticks\":\"\"}},\"type\":\"scatterpolargl\"}],\"scatterpolar\":[{\"marker\":{\"colorbar\":{\"outlinewidth\":0,\"ticks\":\"\"}},\"type\":\"scatterpolar\"}],\"scatter\":[{\"fillpattern\":{\"fillmode\":\"overlay\",\"size\":10,\"solidity\":0.2},\"type\":\"scatter\"}],\"scatterternary\":[{\"marker\":{\"colorbar\":{\"outlinewidth\":0,\"ticks\":\"\"}},\"type\":\"scatterternary\"}],\"surface\":[{\"colorbar\":{\"outlinewidth\":0,\"ticks\":\"\"},\"colorscale\":[[0.0,\"#0d0887\"],[0.1111111111111111,\"#46039f\"],[0.2222222222222222,\"#7201a8\"],[0.3333333333333333,\"#9c179e\"],[0.4444444444444444,\"#bd3786\"],[0.5555555555555556,\"#d8576b\"],[0.6666666666666666,\"#ed7953\"],[0.7777777777777778,\"#fb9f3a\"],[0.8888888888888888,\"#fdca26\"],[1.0,\"#f0f921\"]],\"type\":\"surface\"}],\"table\":[{\"cells\":{\"fill\":{\"color\":\"#EBF0F8\"},\"line\":{\"color\":\"white\"}},\"header\":{\"fill\":{\"color\":\"#C8D4E3\"},\"line\":{\"color\":\"white\"}},\"type\":\"table\"}]},\"layout\":{\"annotationdefaults\":{\"arrowcolor\":\"#2a3f5f\",\"arrowhead\":0,\"arrowwidth\":1},\"autotypenumbers\":\"strict\",\"coloraxis\":{\"colorbar\":{\"outlinewidth\":0,\"ticks\":\"\"}},\"colorscale\":{\"diverging\":[[0,\"#8e0152\"],[0.1,\"#c51b7d\"],[0.2,\"#de77ae\"],[0.3,\"#f1b6da\"],[0.4,\"#fde0ef\"],[0.5,\"#f7f7f7\"],[0.6,\"#e6f5d0\"],[0.7,\"#b8e186\"],[0.8,\"#7fbc41\"],[0.9,\"#4d9221\"],[1,\"#276419\"]],\"sequential\":[[0.0,\"#0d0887\"],[0.1111111111111111,\"#46039f\"],[0.2222222222222222,\"#7201a8\"],[0.3333333333333333,\"#9c179e\"],[0.4444444444444444,\"#bd3786\"],[0.5555555555555556,\"#d8576b\"],[0.6666666666666666,\"#ed7953\"],[0.7777777777777778,\"#fb9f3a\"],[0.8888888888888888,\"#fdca26\"],[1.0,\"#f0f921\"]],\"sequentialminus\":[[0.0,\"#0d0887\"],[0.1111111111111111,\"#46039f\"],[0.2222222222222222,\"#7201a8\"],[0.3333333333333333,\"#9c179e\"],[0.4444444444444444,\"#bd3786\"],[0.5555555555555556,\"#d8576b\"],[0.6666666666666666,\"#ed7953\"],[0.7777777777777778,\"#fb9f3a\"],[0.8888888888888888,\"#fdca26\"],[1.0,\"#f0f921\"]]},\"colorway\":[\"#636efa\",\"#EF553B\",\"#00cc96\",\"#ab63fa\",\"#FFA15A\",\"#19d3f3\",\"#FF6692\",\"#B6E880\",\"#FF97FF\",\"#FECB52\"],\"font\":{\"color\":\"#2a3f5f\"},\"geo\":{\"bgcolor\":\"white\",\"lakecolor\":\"white\",\"landcolor\":\"#E5ECF6\",\"showlakes\":true,\"showland\":true,\"subunitcolor\":\"white\"},\"hoverlabel\":{\"align\":\"left\"},\"hovermode\":\"closest\",\"mapbox\":{\"style\":\"light\"},\"paper_bgcolor\":\"white\",\"plot_bgcolor\":\"#E5ECF6\",\"polar\":{\"angularaxis\":{\"gridcolor\":\"white\",\"linecolor\":\"white\",\"ticks\":\"\"},\"bgcolor\":\"#E5ECF6\",\"radialaxis\":{\"gridcolor\":\"white\",\"linecolor\":\"white\",\"ticks\":\"\"}},\"scene\":{\"xaxis\":{\"backgroundcolor\":\"#E5ECF6\",\"gridcolor\":\"white\",\"gridwidth\":2,\"linecolor\":\"white\",\"showbackground\":true,\"ticks\":\"\",\"zerolinecolor\":\"white\"},\"yaxis\":{\"backgroundcolor\":\"#E5ECF6\",\"gridcolor\":\"white\",\"gridwidth\":2,\"linecolor\":\"white\",\"showbackground\":true,\"ticks\":\"\",\"zerolinecolor\":\"white\"},\"zaxis\":{\"backgroundcolor\":\"#E5ECF6\",\"gridcolor\":\"white\",\"gridwidth\":2,\"linecolor\":\"white\",\"showbackground\":true,\"ticks\":\"\",\"zerolinecolor\":\"white\"}},\"shapedefaults\":{\"line\":{\"color\":\"#2a3f5f\"}},\"ternary\":{\"aaxis\":{\"gridcolor\":\"white\",\"linecolor\":\"white\",\"ticks\":\"\"},\"baxis\":{\"gridcolor\":\"white\",\"linecolor\":\"white\",\"ticks\":\"\"},\"bgcolor\":\"#E5ECF6\",\"caxis\":{\"gridcolor\":\"white\",\"linecolor\":\"white\",\"ticks\":\"\"}},\"title\":{\"x\":0.05},\"xaxis\":{\"automargin\":true,\"gridcolor\":\"white\",\"linecolor\":\"white\",\"ticks\":\"\",\"title\":{\"standoff\":15},\"zerolinecolor\":\"white\",\"zerolinewidth\":2},\"yaxis\":{\"automargin\":true,\"gridcolor\":\"white\",\"linecolor\":\"white\",\"ticks\":\"\",\"title\":{\"standoff\":15},\"zerolinecolor\":\"white\",\"zerolinewidth\":2}}},\"title\":{\"text\":\"Happiness vs Education Expenditure\"},\"width\":900},                        {\"responsive\": true}                    ).then(function(){\n",
       "                            \n",
       "var gd = document.getElementById('32060443-cce6-4427-a5cf-b1c225527b0b');\n",
       "var x = new MutationObserver(function (mutations, observer) {{\n",
       "        var display = window.getComputedStyle(gd).display;\n",
       "        if (!display || display === 'none') {{\n",
       "            console.log([gd, 'removed!']);\n",
       "            Plotly.purge(gd);\n",
       "            observer.disconnect();\n",
       "        }}\n",
       "}});\n",
       "\n",
       "// Listen for the removal of the full notebook cells\n",
       "var notebookContainer = gd.closest('#notebook-container');\n",
       "if (notebookContainer) {{\n",
       "    x.observe(notebookContainer, {childList: true});\n",
       "}}\n",
       "\n",
       "// Listen for the clearing of the current output cell\n",
       "var outputEl = gd.closest('.output');\n",
       "if (outputEl) {{\n",
       "    x.observe(outputEl, {childList: true});\n",
       "}}\n",
       "\n",
       "                        })                };                });            </script>        </div>"
      ]
     },
     "metadata": {},
     "output_type": "display_data"
    }
   ],
   "source": [
    "import pandas as pd\n",
    "import plotly.graph_objects as go\n",
    "from plotly.offline import init_notebook_mode, iplot\n",
    "\n",
    "init_notebook_mode(connected=True)\n",
    "\n",
    "df = pd.read_csv('final.csv')\n",
    "\n",
    "df['Happiness_rank'] = df['Happiness'].rank(method='min', ascending=False).astype(int)\n",
    "total_countries = df['Country'].nunique()\n",
    "\n",
    "df_edu   = df.dropna(subset=['Edu_expenditure_pct', 'Happiness', 'Country', 'Happiness_rank'])\n",
    "df_unemp = df.dropna(subset=['Unemployment_rate',    'Happiness', 'Country', 'Happiness_rank'])\n",
    "df_le    = df.dropna(subset=['Life_expectancy',      'Happiness', 'Country', 'Happiness_rank'])\n",
    "\n",
    "trace_edu = go.Scatter(\n",
    "    x=df_edu['Edu_expenditure_pct'],\n",
    "    y=df_edu['Happiness'],\n",
    "    mode='markers',\n",
    "    name='Education Expenditure',\n",
    "    visible=True,\n",
    "    text=df_edu['Country'],\n",
    "    customdata=df_edu['Happiness_rank'],\n",
    "    hovertemplate=(\n",
    "        \"Country: %{text}<br>\"\n",
    "        f\"Rank: %{{customdata}} out of {total_countries}<br>\"\n",
    "        \"Education Expenditure: %{x:.1f}% of GDP<br>\"\n",
    "        \"Happiness: %{y:.2f}<extra></extra>\"\n",
    "    )\n",
    ")\n",
    "\n",
    "trace_unemp = go.Scatter(\n",
    "    x=df_unemp['Unemployment_rate'],\n",
    "    y=df_unemp['Happiness'],\n",
    "    mode='markers',\n",
    "    name='Unemployment Rate',\n",
    "    visible=False,\n",
    "    text=df_unemp['Country'],\n",
    "    customdata=df_unemp['Happiness_rank'],\n",
    "    hovertemplate=(\n",
    "        \"Country: %{text}<br>\"\n",
    "        f\"Rank: %{{customdata}} out of {total_countries}<br>\"\n",
    "        \"Unemployment Rate: %{x:.1f}%<br>\"\n",
    "        \"Happiness: %{y:.2f}<extra></extra>\"\n",
    "    )\n",
    ")\n",
    "\n",
    "trace_le = go.Scatter(\n",
    "    x=df_le['Life_expectancy'],\n",
    "    y=df_le['Happiness'],\n",
    "    mode='markers',\n",
    "    name='Life Expectancy',\n",
    "    visible=False,\n",
    "    text=df_le['Country'],\n",
    "    customdata=df_le['Happiness_rank'],\n",
    "    hovertemplate=(\n",
    "        \"Country: %{text}<br>\"\n",
    "        f\"Rank: %{{customdata}} out of {total_countries}<br>\"\n",
    "        \"Life Expectancy: %{x:.1f} years<br>\"\n",
    "        \"Happiness: %{y:.2f}<extra></extra>\"\n",
    "    )\n",
    ")\n",
    "\n",
    "fig = go.Figure(data=[trace_edu, trace_unemp, trace_le])\n",
    "\n",
    "steps = [\n",
    "    dict(\n",
    "        method='update',\n",
    "        label='Education Expenditure',\n",
    "        args=[\n",
    "            {'visible': [True, False, False]},\n",
    "            {\n",
    "                'title': 'Happiness vs Education Expenditure',\n",
    "                'xaxis': {'title': 'Education Expenditure (% of GDP)', 'type': 'linear'},\n",
    "                'yaxis': {'title': 'Happiness'}\n",
    "            }\n",
    "        ]\n",
    "    ),\n",
    "    dict(\n",
    "        method='update',\n",
    "        label='Unemployment Rate',\n",
    "        args=[\n",
    "            {'visible': [False, True, False]},\n",
    "            {\n",
    "                'title': 'Happiness vs Unemployment Rate',\n",
    "                'xaxis': {'title': 'Unemployment Rate (%)', 'type': 'linear'},\n",
    "                'yaxis': {'title': 'Happiness'}\n",
    "            }\n",
    "        ]\n",
    "    ),\n",
    "    dict(\n",
    "        method='update',\n",
    "        label='Life Expectancy',\n",
    "        args=[\n",
    "            {'visible': [False, False, True]},\n",
    "            {\n",
    "                'title': 'Happiness vs Life Expectancy',\n",
    "                'xaxis': {'title': 'Life Expectancy (years)', 'type': 'linear'},\n",
    "                'yaxis': {'title': 'Happiness'}\n",
    "            }\n",
    "        ]\n",
    "    )\n",
    "]\n",
    "\n",
    "fig.update_layout(\n",
    "    sliders=[dict(\n",
    "        active=0,\n",
    "        currentvalue={'prefix': 'Metric: '},\n",
    "        pad={'t': 50},\n",
    "        steps=steps\n",
    "    )],\n",
    "    title=\"Happiness vs Education Expenditure\",\n",
    "    width=900,\n",
    "    height=600,\n",
    "    margin={'t':80}\n",
    ")\n",
    "\n",
    "iplot(fig)\n"
   ]
  },
  {
   "cell_type": "code",
   "execution_count": 2,
   "id": "22749a1f",
   "metadata": {},
   "outputs": [
    {
     "data": {
      "application/vnd.plotly.v1+json": {
       "config": {
        "plotlyServerURL": "https://plot.ly"
       },
       "data": [
        {
         "coloraxis": "coloraxis",
         "geo": "geo",
         "hovertemplate": "<b>%{hovertext}</b><br><br>Country=%{location}<br>Happiness=%{z}<extra></extra>",
         "hovertext": [
          "Finland",
          "Denmark",
          "Norway",
          "Iceland",
          "Netherlands",
          "Switzerland",
          "Sweden",
          "New Zealand",
          "Canada",
          "Austria",
          "Australia",
          "Costa Rica",
          "Israel",
          "Luxembourg",
          "United Kingdom",
          "Ireland",
          "Germany",
          "Belgium",
          "United States",
          "United Arab Emirates",
          "Malta",
          "Mexico",
          "France",
          "Chile",
          "Guatemala",
          "Saudi Arabia",
          "Qatar",
          "Spain",
          "Panama",
          "Brazil",
          "Uruguay",
          "Singapore",
          "El Salvador",
          "Italy",
          "Bahrain",
          "Poland",
          "Uzbekistan",
          "Lithuania",
          "Colombia",
          "Slovenia",
          "Nicaragua",
          "Kosovo",
          "Argentina",
          "Romania",
          "Cyprus",
          "Ecuador",
          "Kuwait",
          "Thailand",
          "Latvia",
          "Estonia",
          "Jamaica",
          "Mauritius",
          "Japan",
          "Honduras",
          "Kazakhstan",
          "Bolivia",
          "Hungary",
          "Paraguay",
          "Peru",
          "Portugal",
          "Pakistan",
          "Philippines",
          "Serbia",
          "Moldova",
          "Libya",
          "Montenegro",
          "Tajikistan",
          "Croatia",
          "Dominican Republic",
          "Bosnia and Herzegovina",
          "Malaysia",
          "Belarus",
          "Greece",
          "Mongolia",
          "North Macedonia",
          "Nigeria",
          "Turkmenistan",
          "Algeria",
          "Morocco",
          "Azerbaijan",
          "Lebanon",
          "Indonesia",
          "China",
          "Bhutan",
          "Cameroon",
          "Bulgaria",
          "Ghana",
          "Nepal",
          "Jordan",
          "Benin",
          "Gabon",
          "South Africa",
          "Albania",
          "Cambodia",
          "Senegal",
          "Somalia",
          "Namibia",
          "Niger",
          "Burkina Faso",
          "Armenia",
          "Guinea",
          "Georgia",
          "Kenya",
          "Mauritania",
          "Mozambique",
          "Tunisia",
          "Bangladesh",
          "Iraq",
          "Mali",
          "Sierra Leone",
          "Sri Lanka",
          "Myanmar",
          "Chad",
          "Ukraine",
          "Ethiopia",
          "Uganda",
          "Zambia",
          "Togo",
          "India",
          "Liberia",
          "Comoros",
          "Madagascar",
          "Lesotho",
          "Burundi",
          "Zimbabwe",
          "Haiti",
          "Botswana",
          "Malawi",
          "Rwanda",
          "Tanzania",
          "Afghanistan",
          "Central African Republic",
          "South Sudan"
         ],
         "locationmode": "country names",
         "locations": [
          "Finland",
          "Denmark",
          "Norway",
          "Iceland",
          "Netherlands",
          "Switzerland",
          "Sweden",
          "New Zealand",
          "Canada",
          "Austria",
          "Australia",
          "Costa Rica",
          "Israel",
          "Luxembourg",
          "United Kingdom",
          "Ireland",
          "Germany",
          "Belgium",
          "United States",
          "United Arab Emirates",
          "Malta",
          "Mexico",
          "France",
          "Chile",
          "Guatemala",
          "Saudi Arabia",
          "Qatar",
          "Spain",
          "Panama",
          "Brazil",
          "Uruguay",
          "Singapore",
          "El Salvador",
          "Italy",
          "Bahrain",
          "Poland",
          "Uzbekistan",
          "Lithuania",
          "Colombia",
          "Slovenia",
          "Nicaragua",
          "Kosovo",
          "Argentina",
          "Romania",
          "Cyprus",
          "Ecuador",
          "Kuwait",
          "Thailand",
          "Latvia",
          "Estonia",
          "Jamaica",
          "Mauritius",
          "Japan",
          "Honduras",
          "Kazakhstan",
          "Bolivia",
          "Hungary",
          "Paraguay",
          "Peru",
          "Portugal",
          "Pakistan",
          "Philippines",
          "Serbia",
          "Moldova",
          "Libya",
          "Montenegro",
          "Tajikistan",
          "Croatia",
          "Dominican Republic",
          "Bosnia and Herzegovina",
          "Malaysia",
          "Belarus",
          "Greece",
          "Mongolia",
          "North Macedonia",
          "Nigeria",
          "Turkmenistan",
          "Algeria",
          "Morocco",
          "Azerbaijan",
          "Lebanon",
          "Indonesia",
          "China",
          "Bhutan",
          "Cameroon",
          "Bulgaria",
          "Ghana",
          "Nepal",
          "Jordan",
          "Benin",
          "Gabon",
          "South Africa",
          "Albania",
          "Cambodia",
          "Senegal",
          "Somalia",
          "Namibia",
          "Niger",
          "Burkina Faso",
          "Armenia",
          "Guinea",
          "Georgia",
          "Kenya",
          "Mauritania",
          "Mozambique",
          "Tunisia",
          "Bangladesh",
          "Iraq",
          "Mali",
          "Sierra Leone",
          "Sri Lanka",
          "Myanmar",
          "Chad",
          "Ukraine",
          "Ethiopia",
          "Uganda",
          "Zambia",
          "Togo",
          "India",
          "Liberia",
          "Comoros",
          "Madagascar",
          "Lesotho",
          "Burundi",
          "Zimbabwe",
          "Haiti",
          "Botswana",
          "Malawi",
          "Rwanda",
          "Tanzania",
          "Afghanistan",
          "Central African Republic",
          "South Sudan"
         ],
         "name": "",
         "type": "choropleth",
         "z": [
          7.769,
          7.6,
          7.554,
          7.494,
          7.488,
          7.48,
          7.343,
          7.307,
          7.278,
          7.246,
          7.228,
          7.167,
          7.139,
          7.09,
          7.054,
          7.021,
          6.985,
          6.923,
          6.892,
          6.825,
          6.726,
          6.595,
          6.592,
          6.444,
          6.436,
          6.375,
          6.374,
          6.354,
          6.321,
          6.3,
          6.293,
          6.262,
          6.253,
          6.223,
          6.199,
          6.182,
          6.174,
          6.149,
          6.125,
          6.118,
          6.105,
          6.1,
          6.086,
          6.07,
          6.046,
          6.028,
          6.021,
          6.008,
          5.94,
          5.893,
          5.89,
          5.888,
          5.886,
          5.86,
          5.809,
          5.779,
          5.758,
          5.743,
          5.697,
          5.693,
          5.653,
          5.631,
          5.603,
          5.529,
          5.525,
          5.523,
          5.467,
          5.432,
          5.425,
          5.386,
          5.339,
          5.323,
          5.287,
          5.285,
          5.274,
          5.265,
          5.247,
          5.211,
          5.208,
          5.208,
          5.197,
          5.192,
          5.191,
          5.082,
          5.044,
          5.011,
          4.996,
          4.913,
          4.906,
          4.883,
          4.799,
          4.722,
          4.719,
          4.7,
          4.681,
          4.668,
          4.639,
          4.628,
          4.587,
          4.559,
          4.534,
          4.519,
          4.509,
          4.49,
          4.466,
          4.461,
          4.456,
          4.437,
          4.39,
          4.374,
          4.366,
          4.36,
          4.35,
          4.332,
          4.286,
          4.189,
          4.107,
          4.085,
          4.015,
          3.975,
          3.973,
          3.933,
          3.802,
          3.775,
          3.663,
          3.597,
          3.488,
          3.41,
          3.334,
          3.231,
          3.203,
          3.083,
          2.853
         ]
        }
       ],
       "layout": {
        "coloraxis": {
         "colorbar": {
          "title": {
           "text": "Happiness"
          }
         },
         "colorscale": [
          [
           0,
           "#0d0887"
          ],
          [
           0.1111111111111111,
           "#46039f"
          ],
          [
           0.2222222222222222,
           "#7201a8"
          ],
          [
           0.3333333333333333,
           "#9c179e"
          ],
          [
           0.4444444444444444,
           "#bd3786"
          ],
          [
           0.5555555555555556,
           "#d8576b"
          ],
          [
           0.6666666666666666,
           "#ed7953"
          ],
          [
           0.7777777777777778,
           "#fb9f3a"
          ],
          [
           0.8888888888888888,
           "#fdca26"
          ],
          [
           1,
           "#f0f921"
          ]
         ]
        },
        "geo": {
         "center": {},
         "domain": {
          "x": [
           0,
           1
          ],
          "y": [
           0,
           1
          ]
         },
         "projection": {
          "type": "natural earth"
         },
         "showcoastlines": true,
         "showframe": false
        },
        "height": 600,
        "legend": {
         "tracegroupgap": 0
        },
        "margin": {
         "b": 0,
         "l": 0,
         "r": 0,
         "t": 60
        },
        "template": {
         "data": {
          "bar": [
           {
            "error_x": {
             "color": "#2a3f5f"
            },
            "error_y": {
             "color": "#2a3f5f"
            },
            "marker": {
             "line": {
              "color": "#E5ECF6",
              "width": 0.5
             },
             "pattern": {
              "fillmode": "overlay",
              "size": 10,
              "solidity": 0.2
             }
            },
            "type": "bar"
           }
          ],
          "barpolar": [
           {
            "marker": {
             "line": {
              "color": "#E5ECF6",
              "width": 0.5
             },
             "pattern": {
              "fillmode": "overlay",
              "size": 10,
              "solidity": 0.2
             }
            },
            "type": "barpolar"
           }
          ],
          "carpet": [
           {
            "aaxis": {
             "endlinecolor": "#2a3f5f",
             "gridcolor": "white",
             "linecolor": "white",
             "minorgridcolor": "white",
             "startlinecolor": "#2a3f5f"
            },
            "baxis": {
             "endlinecolor": "#2a3f5f",
             "gridcolor": "white",
             "linecolor": "white",
             "minorgridcolor": "white",
             "startlinecolor": "#2a3f5f"
            },
            "type": "carpet"
           }
          ],
          "choropleth": [
           {
            "colorbar": {
             "outlinewidth": 0,
             "ticks": ""
            },
            "type": "choropleth"
           }
          ],
          "contour": [
           {
            "colorbar": {
             "outlinewidth": 0,
             "ticks": ""
            },
            "colorscale": [
             [
              0,
              "#0d0887"
             ],
             [
              0.1111111111111111,
              "#46039f"
             ],
             [
              0.2222222222222222,
              "#7201a8"
             ],
             [
              0.3333333333333333,
              "#9c179e"
             ],
             [
              0.4444444444444444,
              "#bd3786"
             ],
             [
              0.5555555555555556,
              "#d8576b"
             ],
             [
              0.6666666666666666,
              "#ed7953"
             ],
             [
              0.7777777777777778,
              "#fb9f3a"
             ],
             [
              0.8888888888888888,
              "#fdca26"
             ],
             [
              1,
              "#f0f921"
             ]
            ],
            "type": "contour"
           }
          ],
          "contourcarpet": [
           {
            "colorbar": {
             "outlinewidth": 0,
             "ticks": ""
            },
            "type": "contourcarpet"
           }
          ],
          "heatmap": [
           {
            "colorbar": {
             "outlinewidth": 0,
             "ticks": ""
            },
            "colorscale": [
             [
              0,
              "#0d0887"
             ],
             [
              0.1111111111111111,
              "#46039f"
             ],
             [
              0.2222222222222222,
              "#7201a8"
             ],
             [
              0.3333333333333333,
              "#9c179e"
             ],
             [
              0.4444444444444444,
              "#bd3786"
             ],
             [
              0.5555555555555556,
              "#d8576b"
             ],
             [
              0.6666666666666666,
              "#ed7953"
             ],
             [
              0.7777777777777778,
              "#fb9f3a"
             ],
             [
              0.8888888888888888,
              "#fdca26"
             ],
             [
              1,
              "#f0f921"
             ]
            ],
            "type": "heatmap"
           }
          ],
          "heatmapgl": [
           {
            "colorbar": {
             "outlinewidth": 0,
             "ticks": ""
            },
            "colorscale": [
             [
              0,
              "#0d0887"
             ],
             [
              0.1111111111111111,
              "#46039f"
             ],
             [
              0.2222222222222222,
              "#7201a8"
             ],
             [
              0.3333333333333333,
              "#9c179e"
             ],
             [
              0.4444444444444444,
              "#bd3786"
             ],
             [
              0.5555555555555556,
              "#d8576b"
             ],
             [
              0.6666666666666666,
              "#ed7953"
             ],
             [
              0.7777777777777778,
              "#fb9f3a"
             ],
             [
              0.8888888888888888,
              "#fdca26"
             ],
             [
              1,
              "#f0f921"
             ]
            ],
            "type": "heatmapgl"
           }
          ],
          "histogram": [
           {
            "marker": {
             "pattern": {
              "fillmode": "overlay",
              "size": 10,
              "solidity": 0.2
             }
            },
            "type": "histogram"
           }
          ],
          "histogram2d": [
           {
            "colorbar": {
             "outlinewidth": 0,
             "ticks": ""
            },
            "colorscale": [
             [
              0,
              "#0d0887"
             ],
             [
              0.1111111111111111,
              "#46039f"
             ],
             [
              0.2222222222222222,
              "#7201a8"
             ],
             [
              0.3333333333333333,
              "#9c179e"
             ],
             [
              0.4444444444444444,
              "#bd3786"
             ],
             [
              0.5555555555555556,
              "#d8576b"
             ],
             [
              0.6666666666666666,
              "#ed7953"
             ],
             [
              0.7777777777777778,
              "#fb9f3a"
             ],
             [
              0.8888888888888888,
              "#fdca26"
             ],
             [
              1,
              "#f0f921"
             ]
            ],
            "type": "histogram2d"
           }
          ],
          "histogram2dcontour": [
           {
            "colorbar": {
             "outlinewidth": 0,
             "ticks": ""
            },
            "colorscale": [
             [
              0,
              "#0d0887"
             ],
             [
              0.1111111111111111,
              "#46039f"
             ],
             [
              0.2222222222222222,
              "#7201a8"
             ],
             [
              0.3333333333333333,
              "#9c179e"
             ],
             [
              0.4444444444444444,
              "#bd3786"
             ],
             [
              0.5555555555555556,
              "#d8576b"
             ],
             [
              0.6666666666666666,
              "#ed7953"
             ],
             [
              0.7777777777777778,
              "#fb9f3a"
             ],
             [
              0.8888888888888888,
              "#fdca26"
             ],
             [
              1,
              "#f0f921"
             ]
            ],
            "type": "histogram2dcontour"
           }
          ],
          "mesh3d": [
           {
            "colorbar": {
             "outlinewidth": 0,
             "ticks": ""
            },
            "type": "mesh3d"
           }
          ],
          "parcoords": [
           {
            "line": {
             "colorbar": {
              "outlinewidth": 0,
              "ticks": ""
             }
            },
            "type": "parcoords"
           }
          ],
          "pie": [
           {
            "automargin": true,
            "type": "pie"
           }
          ],
          "scatter": [
           {
            "fillpattern": {
             "fillmode": "overlay",
             "size": 10,
             "solidity": 0.2
            },
            "type": "scatter"
           }
          ],
          "scatter3d": [
           {
            "line": {
             "colorbar": {
              "outlinewidth": 0,
              "ticks": ""
             }
            },
            "marker": {
             "colorbar": {
              "outlinewidth": 0,
              "ticks": ""
             }
            },
            "type": "scatter3d"
           }
          ],
          "scattercarpet": [
           {
            "marker": {
             "colorbar": {
              "outlinewidth": 0,
              "ticks": ""
             }
            },
            "type": "scattercarpet"
           }
          ],
          "scattergeo": [
           {
            "marker": {
             "colorbar": {
              "outlinewidth": 0,
              "ticks": ""
             }
            },
            "type": "scattergeo"
           }
          ],
          "scattergl": [
           {
            "marker": {
             "colorbar": {
              "outlinewidth": 0,
              "ticks": ""
             }
            },
            "type": "scattergl"
           }
          ],
          "scattermapbox": [
           {
            "marker": {
             "colorbar": {
              "outlinewidth": 0,
              "ticks": ""
             }
            },
            "type": "scattermapbox"
           }
          ],
          "scatterpolar": [
           {
            "marker": {
             "colorbar": {
              "outlinewidth": 0,
              "ticks": ""
             }
            },
            "type": "scatterpolar"
           }
          ],
          "scatterpolargl": [
           {
            "marker": {
             "colorbar": {
              "outlinewidth": 0,
              "ticks": ""
             }
            },
            "type": "scatterpolargl"
           }
          ],
          "scatterternary": [
           {
            "marker": {
             "colorbar": {
              "outlinewidth": 0,
              "ticks": ""
             }
            },
            "type": "scatterternary"
           }
          ],
          "surface": [
           {
            "colorbar": {
             "outlinewidth": 0,
             "ticks": ""
            },
            "colorscale": [
             [
              0,
              "#0d0887"
             ],
             [
              0.1111111111111111,
              "#46039f"
             ],
             [
              0.2222222222222222,
              "#7201a8"
             ],
             [
              0.3333333333333333,
              "#9c179e"
             ],
             [
              0.4444444444444444,
              "#bd3786"
             ],
             [
              0.5555555555555556,
              "#d8576b"
             ],
             [
              0.6666666666666666,
              "#ed7953"
             ],
             [
              0.7777777777777778,
              "#fb9f3a"
             ],
             [
              0.8888888888888888,
              "#fdca26"
             ],
             [
              1,
              "#f0f921"
             ]
            ],
            "type": "surface"
           }
          ],
          "table": [
           {
            "cells": {
             "fill": {
              "color": "#EBF0F8"
             },
             "line": {
              "color": "white"
             }
            },
            "header": {
             "fill": {
              "color": "#C8D4E3"
             },
             "line": {
              "color": "white"
             }
            },
            "type": "table"
           }
          ]
         },
         "layout": {
          "annotationdefaults": {
           "arrowcolor": "#2a3f5f",
           "arrowhead": 0,
           "arrowwidth": 1
          },
          "autotypenumbers": "strict",
          "coloraxis": {
           "colorbar": {
            "outlinewidth": 0,
            "ticks": ""
           }
          },
          "colorscale": {
           "diverging": [
            [
             0,
             "#8e0152"
            ],
            [
             0.1,
             "#c51b7d"
            ],
            [
             0.2,
             "#de77ae"
            ],
            [
             0.3,
             "#f1b6da"
            ],
            [
             0.4,
             "#fde0ef"
            ],
            [
             0.5,
             "#f7f7f7"
            ],
            [
             0.6,
             "#e6f5d0"
            ],
            [
             0.7,
             "#b8e186"
            ],
            [
             0.8,
             "#7fbc41"
            ],
            [
             0.9,
             "#4d9221"
            ],
            [
             1,
             "#276419"
            ]
           ],
           "sequential": [
            [
             0,
             "#0d0887"
            ],
            [
             0.1111111111111111,
             "#46039f"
            ],
            [
             0.2222222222222222,
             "#7201a8"
            ],
            [
             0.3333333333333333,
             "#9c179e"
            ],
            [
             0.4444444444444444,
             "#bd3786"
            ],
            [
             0.5555555555555556,
             "#d8576b"
            ],
            [
             0.6666666666666666,
             "#ed7953"
            ],
            [
             0.7777777777777778,
             "#fb9f3a"
            ],
            [
             0.8888888888888888,
             "#fdca26"
            ],
            [
             1,
             "#f0f921"
            ]
           ],
           "sequentialminus": [
            [
             0,
             "#0d0887"
            ],
            [
             0.1111111111111111,
             "#46039f"
            ],
            [
             0.2222222222222222,
             "#7201a8"
            ],
            [
             0.3333333333333333,
             "#9c179e"
            ],
            [
             0.4444444444444444,
             "#bd3786"
            ],
            [
             0.5555555555555556,
             "#d8576b"
            ],
            [
             0.6666666666666666,
             "#ed7953"
            ],
            [
             0.7777777777777778,
             "#fb9f3a"
            ],
            [
             0.8888888888888888,
             "#fdca26"
            ],
            [
             1,
             "#f0f921"
            ]
           ]
          },
          "colorway": [
           "#636efa",
           "#EF553B",
           "#00cc96",
           "#ab63fa",
           "#FFA15A",
           "#19d3f3",
           "#FF6692",
           "#B6E880",
           "#FF97FF",
           "#FECB52"
          ],
          "font": {
           "color": "#2a3f5f"
          },
          "geo": {
           "bgcolor": "white",
           "lakecolor": "white",
           "landcolor": "#E5ECF6",
           "showlakes": true,
           "showland": true,
           "subunitcolor": "white"
          },
          "hoverlabel": {
           "align": "left"
          },
          "hovermode": "closest",
          "mapbox": {
           "style": "light"
          },
          "paper_bgcolor": "white",
          "plot_bgcolor": "#E5ECF6",
          "polar": {
           "angularaxis": {
            "gridcolor": "white",
            "linecolor": "white",
            "ticks": ""
           },
           "bgcolor": "#E5ECF6",
           "radialaxis": {
            "gridcolor": "white",
            "linecolor": "white",
            "ticks": ""
           }
          },
          "scene": {
           "xaxis": {
            "backgroundcolor": "#E5ECF6",
            "gridcolor": "white",
            "gridwidth": 2,
            "linecolor": "white",
            "showbackground": true,
            "ticks": "",
            "zerolinecolor": "white"
           },
           "yaxis": {
            "backgroundcolor": "#E5ECF6",
            "gridcolor": "white",
            "gridwidth": 2,
            "linecolor": "white",
            "showbackground": true,
            "ticks": "",
            "zerolinecolor": "white"
           },
           "zaxis": {
            "backgroundcolor": "#E5ECF6",
            "gridcolor": "white",
            "gridwidth": 2,
            "linecolor": "white",
            "showbackground": true,
            "ticks": "",
            "zerolinecolor": "white"
           }
          },
          "shapedefaults": {
           "line": {
            "color": "#2a3f5f"
           }
          },
          "ternary": {
           "aaxis": {
            "gridcolor": "white",
            "linecolor": "white",
            "ticks": ""
           },
           "baxis": {
            "gridcolor": "white",
            "linecolor": "white",
            "ticks": ""
           },
           "bgcolor": "#E5ECF6",
           "caxis": {
            "gridcolor": "white",
            "linecolor": "white",
            "ticks": ""
           }
          },
          "title": {
           "x": 0.05
          },
          "xaxis": {
           "automargin": true,
           "gridcolor": "white",
           "linecolor": "white",
           "ticks": "",
           "title": {
            "standoff": 15
           },
           "zerolinecolor": "white",
           "zerolinewidth": 2
          },
          "yaxis": {
           "automargin": true,
           "gridcolor": "white",
           "linecolor": "white",
           "ticks": "",
           "title": {
            "standoff": 15
           },
           "zerolinecolor": "white",
           "zerolinewidth": 2
          }
         }
        },
        "title": {
         "text": "World Happiness Score by Country"
        },
        "width": 1200
       }
      },
      "text/html": [
       "<div>                            <div id=\"21046883-d367-4df3-a1c8-b92d8aaa3405\" class=\"plotly-graph-div\" style=\"height:600px; width:1200px;\"></div>            <script type=\"text/javascript\">                require([\"plotly\"], function(Plotly) {                    window.PLOTLYENV=window.PLOTLYENV || {};                                    if (document.getElementById(\"21046883-d367-4df3-a1c8-b92d8aaa3405\")) {                    Plotly.newPlot(                        \"21046883-d367-4df3-a1c8-b92d8aaa3405\",                        [{\"coloraxis\":\"coloraxis\",\"geo\":\"geo\",\"hovertemplate\":\"\\u003cb\\u003e%{hovertext}\\u003c\\u002fb\\u003e\\u003cbr\\u003e\\u003cbr\\u003eCountry=%{location}\\u003cbr\\u003eHappiness=%{z}\\u003cextra\\u003e\\u003c\\u002fextra\\u003e\",\"hovertext\":[\"Finland\",\"Denmark\",\"Norway\",\"Iceland\",\"Netherlands\",\"Switzerland\",\"Sweden\",\"New Zealand\",\"Canada\",\"Austria\",\"Australia\",\"Costa Rica\",\"Israel\",\"Luxembourg\",\"United Kingdom\",\"Ireland\",\"Germany\",\"Belgium\",\"United States\",\"United Arab Emirates\",\"Malta\",\"Mexico\",\"France\",\"Chile\",\"Guatemala\",\"Saudi Arabia\",\"Qatar\",\"Spain\",\"Panama\",\"Brazil\",\"Uruguay\",\"Singapore\",\"El Salvador\",\"Italy\",\"Bahrain\",\"Poland\",\"Uzbekistan\",\"Lithuania\",\"Colombia\",\"Slovenia\",\"Nicaragua\",\"Kosovo\",\"Argentina\",\"Romania\",\"Cyprus\",\"Ecuador\",\"Kuwait\",\"Thailand\",\"Latvia\",\"Estonia\",\"Jamaica\",\"Mauritius\",\"Japan\",\"Honduras\",\"Kazakhstan\",\"Bolivia\",\"Hungary\",\"Paraguay\",\"Peru\",\"Portugal\",\"Pakistan\",\"Philippines\",\"Serbia\",\"Moldova\",\"Libya\",\"Montenegro\",\"Tajikistan\",\"Croatia\",\"Dominican Republic\",\"Bosnia and Herzegovina\",\"Malaysia\",\"Belarus\",\"Greece\",\"Mongolia\",\"North Macedonia\",\"Nigeria\",\"Turkmenistan\",\"Algeria\",\"Morocco\",\"Azerbaijan\",\"Lebanon\",\"Indonesia\",\"China\",\"Bhutan\",\"Cameroon\",\"Bulgaria\",\"Ghana\",\"Nepal\",\"Jordan\",\"Benin\",\"Gabon\",\"South Africa\",\"Albania\",\"Cambodia\",\"Senegal\",\"Somalia\",\"Namibia\",\"Niger\",\"Burkina Faso\",\"Armenia\",\"Guinea\",\"Georgia\",\"Kenya\",\"Mauritania\",\"Mozambique\",\"Tunisia\",\"Bangladesh\",\"Iraq\",\"Mali\",\"Sierra Leone\",\"Sri Lanka\",\"Myanmar\",\"Chad\",\"Ukraine\",\"Ethiopia\",\"Uganda\",\"Zambia\",\"Togo\",\"India\",\"Liberia\",\"Comoros\",\"Madagascar\",\"Lesotho\",\"Burundi\",\"Zimbabwe\",\"Haiti\",\"Botswana\",\"Malawi\",\"Rwanda\",\"Tanzania\",\"Afghanistan\",\"Central African Republic\",\"South Sudan\"],\"locationmode\":\"country names\",\"locations\":[\"Finland\",\"Denmark\",\"Norway\",\"Iceland\",\"Netherlands\",\"Switzerland\",\"Sweden\",\"New Zealand\",\"Canada\",\"Austria\",\"Australia\",\"Costa Rica\",\"Israel\",\"Luxembourg\",\"United Kingdom\",\"Ireland\",\"Germany\",\"Belgium\",\"United States\",\"United Arab Emirates\",\"Malta\",\"Mexico\",\"France\",\"Chile\",\"Guatemala\",\"Saudi Arabia\",\"Qatar\",\"Spain\",\"Panama\",\"Brazil\",\"Uruguay\",\"Singapore\",\"El Salvador\",\"Italy\",\"Bahrain\",\"Poland\",\"Uzbekistan\",\"Lithuania\",\"Colombia\",\"Slovenia\",\"Nicaragua\",\"Kosovo\",\"Argentina\",\"Romania\",\"Cyprus\",\"Ecuador\",\"Kuwait\",\"Thailand\",\"Latvia\",\"Estonia\",\"Jamaica\",\"Mauritius\",\"Japan\",\"Honduras\",\"Kazakhstan\",\"Bolivia\",\"Hungary\",\"Paraguay\",\"Peru\",\"Portugal\",\"Pakistan\",\"Philippines\",\"Serbia\",\"Moldova\",\"Libya\",\"Montenegro\",\"Tajikistan\",\"Croatia\",\"Dominican Republic\",\"Bosnia and Herzegovina\",\"Malaysia\",\"Belarus\",\"Greece\",\"Mongolia\",\"North Macedonia\",\"Nigeria\",\"Turkmenistan\",\"Algeria\",\"Morocco\",\"Azerbaijan\",\"Lebanon\",\"Indonesia\",\"China\",\"Bhutan\",\"Cameroon\",\"Bulgaria\",\"Ghana\",\"Nepal\",\"Jordan\",\"Benin\",\"Gabon\",\"South Africa\",\"Albania\",\"Cambodia\",\"Senegal\",\"Somalia\",\"Namibia\",\"Niger\",\"Burkina Faso\",\"Armenia\",\"Guinea\",\"Georgia\",\"Kenya\",\"Mauritania\",\"Mozambique\",\"Tunisia\",\"Bangladesh\",\"Iraq\",\"Mali\",\"Sierra Leone\",\"Sri Lanka\",\"Myanmar\",\"Chad\",\"Ukraine\",\"Ethiopia\",\"Uganda\",\"Zambia\",\"Togo\",\"India\",\"Liberia\",\"Comoros\",\"Madagascar\",\"Lesotho\",\"Burundi\",\"Zimbabwe\",\"Haiti\",\"Botswana\",\"Malawi\",\"Rwanda\",\"Tanzania\",\"Afghanistan\",\"Central African Republic\",\"South Sudan\"],\"name\":\"\",\"z\":[7.769,7.6,7.554,7.494,7.488,7.48,7.343,7.307,7.278,7.246,7.228,7.167,7.139,7.09,7.054,7.021,6.985,6.923,6.892,6.825,6.726,6.595,6.592,6.444,6.436,6.375,6.374,6.354,6.321,6.3,6.293,6.262,6.253,6.223,6.199,6.182,6.174,6.149,6.125,6.118,6.105,6.1,6.086,6.07,6.046,6.028,6.021,6.008,5.94,5.893,5.89,5.888,5.886,5.86,5.809,5.779,5.758,5.743,5.697,5.693,5.653,5.631,5.603,5.529,5.525,5.523,5.467,5.432,5.425,5.386,5.339,5.323,5.287,5.285,5.274,5.265,5.247,5.211,5.208,5.208,5.197,5.192,5.191,5.082,5.044,5.011,4.996,4.913,4.906,4.883,4.799,4.722,4.719,4.7,4.681,4.668,4.639,4.628,4.587,4.559,4.534,4.519,4.509,4.49,4.466,4.461,4.456,4.437,4.39,4.374,4.366,4.36,4.35,4.332,4.286,4.189,4.107,4.085,4.015,3.975,3.973,3.933,3.802,3.775,3.663,3.597,3.488,3.41,3.334,3.231,3.203,3.083,2.853],\"type\":\"choropleth\"}],                        {\"template\":{\"data\":{\"histogram2dcontour\":[{\"type\":\"histogram2dcontour\",\"colorbar\":{\"outlinewidth\":0,\"ticks\":\"\"},\"colorscale\":[[0.0,\"#0d0887\"],[0.1111111111111111,\"#46039f\"],[0.2222222222222222,\"#7201a8\"],[0.3333333333333333,\"#9c179e\"],[0.4444444444444444,\"#bd3786\"],[0.5555555555555556,\"#d8576b\"],[0.6666666666666666,\"#ed7953\"],[0.7777777777777778,\"#fb9f3a\"],[0.8888888888888888,\"#fdca26\"],[1.0,\"#f0f921\"]]}],\"choropleth\":[{\"type\":\"choropleth\",\"colorbar\":{\"outlinewidth\":0,\"ticks\":\"\"}}],\"histogram2d\":[{\"type\":\"histogram2d\",\"colorbar\":{\"outlinewidth\":0,\"ticks\":\"\"},\"colorscale\":[[0.0,\"#0d0887\"],[0.1111111111111111,\"#46039f\"],[0.2222222222222222,\"#7201a8\"],[0.3333333333333333,\"#9c179e\"],[0.4444444444444444,\"#bd3786\"],[0.5555555555555556,\"#d8576b\"],[0.6666666666666666,\"#ed7953\"],[0.7777777777777778,\"#fb9f3a\"],[0.8888888888888888,\"#fdca26\"],[1.0,\"#f0f921\"]]}],\"heatmap\":[{\"type\":\"heatmap\",\"colorbar\":{\"outlinewidth\":0,\"ticks\":\"\"},\"colorscale\":[[0.0,\"#0d0887\"],[0.1111111111111111,\"#46039f\"],[0.2222222222222222,\"#7201a8\"],[0.3333333333333333,\"#9c179e\"],[0.4444444444444444,\"#bd3786\"],[0.5555555555555556,\"#d8576b\"],[0.6666666666666666,\"#ed7953\"],[0.7777777777777778,\"#fb9f3a\"],[0.8888888888888888,\"#fdca26\"],[1.0,\"#f0f921\"]]}],\"heatmapgl\":[{\"type\":\"heatmapgl\",\"colorbar\":{\"outlinewidth\":0,\"ticks\":\"\"},\"colorscale\":[[0.0,\"#0d0887\"],[0.1111111111111111,\"#46039f\"],[0.2222222222222222,\"#7201a8\"],[0.3333333333333333,\"#9c179e\"],[0.4444444444444444,\"#bd3786\"],[0.5555555555555556,\"#d8576b\"],[0.6666666666666666,\"#ed7953\"],[0.7777777777777778,\"#fb9f3a\"],[0.8888888888888888,\"#fdca26\"],[1.0,\"#f0f921\"]]}],\"contourcarpet\":[{\"type\":\"contourcarpet\",\"colorbar\":{\"outlinewidth\":0,\"ticks\":\"\"}}],\"contour\":[{\"type\":\"contour\",\"colorbar\":{\"outlinewidth\":0,\"ticks\":\"\"},\"colorscale\":[[0.0,\"#0d0887\"],[0.1111111111111111,\"#46039f\"],[0.2222222222222222,\"#7201a8\"],[0.3333333333333333,\"#9c179e\"],[0.4444444444444444,\"#bd3786\"],[0.5555555555555556,\"#d8576b\"],[0.6666666666666666,\"#ed7953\"],[0.7777777777777778,\"#fb9f3a\"],[0.8888888888888888,\"#fdca26\"],[1.0,\"#f0f921\"]]}],\"surface\":[{\"type\":\"surface\",\"colorbar\":{\"outlinewidth\":0,\"ticks\":\"\"},\"colorscale\":[[0.0,\"#0d0887\"],[0.1111111111111111,\"#46039f\"],[0.2222222222222222,\"#7201a8\"],[0.3333333333333333,\"#9c179e\"],[0.4444444444444444,\"#bd3786\"],[0.5555555555555556,\"#d8576b\"],[0.6666666666666666,\"#ed7953\"],[0.7777777777777778,\"#fb9f3a\"],[0.8888888888888888,\"#fdca26\"],[1.0,\"#f0f921\"]]}],\"mesh3d\":[{\"type\":\"mesh3d\",\"colorbar\":{\"outlinewidth\":0,\"ticks\":\"\"}}],\"scatter\":[{\"fillpattern\":{\"fillmode\":\"overlay\",\"size\":10,\"solidity\":0.2},\"type\":\"scatter\"}],\"parcoords\":[{\"type\":\"parcoords\",\"line\":{\"colorbar\":{\"outlinewidth\":0,\"ticks\":\"\"}}}],\"scatterpolargl\":[{\"type\":\"scatterpolargl\",\"marker\":{\"colorbar\":{\"outlinewidth\":0,\"ticks\":\"\"}}}],\"bar\":[{\"error_x\":{\"color\":\"#2a3f5f\"},\"error_y\":{\"color\":\"#2a3f5f\"},\"marker\":{\"line\":{\"color\":\"#E5ECF6\",\"width\":0.5},\"pattern\":{\"fillmode\":\"overlay\",\"size\":10,\"solidity\":0.2}},\"type\":\"bar\"}],\"scattergeo\":[{\"type\":\"scattergeo\",\"marker\":{\"colorbar\":{\"outlinewidth\":0,\"ticks\":\"\"}}}],\"scatterpolar\":[{\"type\":\"scatterpolar\",\"marker\":{\"colorbar\":{\"outlinewidth\":0,\"ticks\":\"\"}}}],\"histogram\":[{\"marker\":{\"pattern\":{\"fillmode\":\"overlay\",\"size\":10,\"solidity\":0.2}},\"type\":\"histogram\"}],\"scattergl\":[{\"type\":\"scattergl\",\"marker\":{\"colorbar\":{\"outlinewidth\":0,\"ticks\":\"\"}}}],\"scatter3d\":[{\"type\":\"scatter3d\",\"line\":{\"colorbar\":{\"outlinewidth\":0,\"ticks\":\"\"}},\"marker\":{\"colorbar\":{\"outlinewidth\":0,\"ticks\":\"\"}}}],\"scattermapbox\":[{\"type\":\"scattermapbox\",\"marker\":{\"colorbar\":{\"outlinewidth\":0,\"ticks\":\"\"}}}],\"scatterternary\":[{\"type\":\"scatterternary\",\"marker\":{\"colorbar\":{\"outlinewidth\":0,\"ticks\":\"\"}}}],\"scattercarpet\":[{\"type\":\"scattercarpet\",\"marker\":{\"colorbar\":{\"outlinewidth\":0,\"ticks\":\"\"}}}],\"carpet\":[{\"aaxis\":{\"endlinecolor\":\"#2a3f5f\",\"gridcolor\":\"white\",\"linecolor\":\"white\",\"minorgridcolor\":\"white\",\"startlinecolor\":\"#2a3f5f\"},\"baxis\":{\"endlinecolor\":\"#2a3f5f\",\"gridcolor\":\"white\",\"linecolor\":\"white\",\"minorgridcolor\":\"white\",\"startlinecolor\":\"#2a3f5f\"},\"type\":\"carpet\"}],\"table\":[{\"cells\":{\"fill\":{\"color\":\"#EBF0F8\"},\"line\":{\"color\":\"white\"}},\"header\":{\"fill\":{\"color\":\"#C8D4E3\"},\"line\":{\"color\":\"white\"}},\"type\":\"table\"}],\"barpolar\":[{\"marker\":{\"line\":{\"color\":\"#E5ECF6\",\"width\":0.5},\"pattern\":{\"fillmode\":\"overlay\",\"size\":10,\"solidity\":0.2}},\"type\":\"barpolar\"}],\"pie\":[{\"automargin\":true,\"type\":\"pie\"}]},\"layout\":{\"autotypenumbers\":\"strict\",\"colorway\":[\"#636efa\",\"#EF553B\",\"#00cc96\",\"#ab63fa\",\"#FFA15A\",\"#19d3f3\",\"#FF6692\",\"#B6E880\",\"#FF97FF\",\"#FECB52\"],\"font\":{\"color\":\"#2a3f5f\"},\"hovermode\":\"closest\",\"hoverlabel\":{\"align\":\"left\"},\"paper_bgcolor\":\"white\",\"plot_bgcolor\":\"#E5ECF6\",\"polar\":{\"bgcolor\":\"#E5ECF6\",\"angularaxis\":{\"gridcolor\":\"white\",\"linecolor\":\"white\",\"ticks\":\"\"},\"radialaxis\":{\"gridcolor\":\"white\",\"linecolor\":\"white\",\"ticks\":\"\"}},\"ternary\":{\"bgcolor\":\"#E5ECF6\",\"aaxis\":{\"gridcolor\":\"white\",\"linecolor\":\"white\",\"ticks\":\"\"},\"baxis\":{\"gridcolor\":\"white\",\"linecolor\":\"white\",\"ticks\":\"\"},\"caxis\":{\"gridcolor\":\"white\",\"linecolor\":\"white\",\"ticks\":\"\"}},\"coloraxis\":{\"colorbar\":{\"outlinewidth\":0,\"ticks\":\"\"}},\"colorscale\":{\"sequential\":[[0.0,\"#0d0887\"],[0.1111111111111111,\"#46039f\"],[0.2222222222222222,\"#7201a8\"],[0.3333333333333333,\"#9c179e\"],[0.4444444444444444,\"#bd3786\"],[0.5555555555555556,\"#d8576b\"],[0.6666666666666666,\"#ed7953\"],[0.7777777777777778,\"#fb9f3a\"],[0.8888888888888888,\"#fdca26\"],[1.0,\"#f0f921\"]],\"sequentialminus\":[[0.0,\"#0d0887\"],[0.1111111111111111,\"#46039f\"],[0.2222222222222222,\"#7201a8\"],[0.3333333333333333,\"#9c179e\"],[0.4444444444444444,\"#bd3786\"],[0.5555555555555556,\"#d8576b\"],[0.6666666666666666,\"#ed7953\"],[0.7777777777777778,\"#fb9f3a\"],[0.8888888888888888,\"#fdca26\"],[1.0,\"#f0f921\"]],\"diverging\":[[0,\"#8e0152\"],[0.1,\"#c51b7d\"],[0.2,\"#de77ae\"],[0.3,\"#f1b6da\"],[0.4,\"#fde0ef\"],[0.5,\"#f7f7f7\"],[0.6,\"#e6f5d0\"],[0.7,\"#b8e186\"],[0.8,\"#7fbc41\"],[0.9,\"#4d9221\"],[1,\"#276419\"]]},\"xaxis\":{\"gridcolor\":\"white\",\"linecolor\":\"white\",\"ticks\":\"\",\"title\":{\"standoff\":15},\"zerolinecolor\":\"white\",\"automargin\":true,\"zerolinewidth\":2},\"yaxis\":{\"gridcolor\":\"white\",\"linecolor\":\"white\",\"ticks\":\"\",\"title\":{\"standoff\":15},\"zerolinecolor\":\"white\",\"automargin\":true,\"zerolinewidth\":2},\"scene\":{\"xaxis\":{\"backgroundcolor\":\"#E5ECF6\",\"gridcolor\":\"white\",\"linecolor\":\"white\",\"showbackground\":true,\"ticks\":\"\",\"zerolinecolor\":\"white\",\"gridwidth\":2},\"yaxis\":{\"backgroundcolor\":\"#E5ECF6\",\"gridcolor\":\"white\",\"linecolor\":\"white\",\"showbackground\":true,\"ticks\":\"\",\"zerolinecolor\":\"white\",\"gridwidth\":2},\"zaxis\":{\"backgroundcolor\":\"#E5ECF6\",\"gridcolor\":\"white\",\"linecolor\":\"white\",\"showbackground\":true,\"ticks\":\"\",\"zerolinecolor\":\"white\",\"gridwidth\":2}},\"shapedefaults\":{\"line\":{\"color\":\"#2a3f5f\"}},\"annotationdefaults\":{\"arrowcolor\":\"#2a3f5f\",\"arrowhead\":0,\"arrowwidth\":1},\"geo\":{\"bgcolor\":\"white\",\"landcolor\":\"#E5ECF6\",\"subunitcolor\":\"white\",\"showland\":true,\"showlakes\":true,\"lakecolor\":\"white\"},\"title\":{\"x\":0.05},\"mapbox\":{\"style\":\"light\"}}},\"geo\":{\"domain\":{\"x\":[0.0,1.0],\"y\":[0.0,1.0]},\"center\":{},\"projection\":{\"type\":\"natural earth\"},\"showframe\":false,\"showcoastlines\":true},\"coloraxis\":{\"colorbar\":{\"title\":{\"text\":\"Happiness\"}},\"colorscale\":[[0.0,\"#0d0887\"],[0.1111111111111111,\"#46039f\"],[0.2222222222222222,\"#7201a8\"],[0.3333333333333333,\"#9c179e\"],[0.4444444444444444,\"#bd3786\"],[0.5555555555555556,\"#d8576b\"],[0.6666666666666666,\"#ed7953\"],[0.7777777777777778,\"#fb9f3a\"],[0.8888888888888888,\"#fdca26\"],[1.0,\"#f0f921\"]]},\"legend\":{\"tracegroupgap\":0},\"title\":{\"text\":\"World Happiness Score by Country\"},\"height\":600,\"width\":1200,\"margin\":{\"r\":0,\"t\":60,\"l\":0,\"b\":0}},                        {\"responsive\": true}                    ).then(function(){\n",
       "                            \n",
       "var gd = document.getElementById('21046883-d367-4df3-a1c8-b92d8aaa3405');\n",
       "var x = new MutationObserver(function (mutations, observer) {{\n",
       "        var display = window.getComputedStyle(gd).display;\n",
       "        if (!display || display === 'none') {{\n",
       "            console.log([gd, 'removed!']);\n",
       "            Plotly.purge(gd);\n",
       "            observer.disconnect();\n",
       "        }}\n",
       "}});\n",
       "\n",
       "// Listen for the removal of the full notebook cells\n",
       "var notebookContainer = gd.closest('#notebook-container');\n",
       "if (notebookContainer) {{\n",
       "    x.observe(notebookContainer, {childList: true});\n",
       "}}\n",
       "\n",
       "// Listen for the clearing of the current output cell\n",
       "var outputEl = gd.closest('.output');\n",
       "if (outputEl) {{\n",
       "    x.observe(outputEl, {childList: true});\n",
       "}}\n",
       "\n",
       "                        })                };                });            </script>        </div>"
      ]
     },
     "metadata": {},
     "output_type": "display_data"
    }
   ],
   "source": [
    "import pandas as pd\n",
    "import plotly.express as px\n",
    "\n",
    "df = pd.read_csv('final.csv')\n",
    "\n",
    "fig = px.choropleth(\n",
    "    df,\n",
    "    locations='Country',\n",
    "    locationmode='country names',\n",
    "    color='Happiness',\n",
    "    hover_name='Country',\n",
    "    color_continuous_scale='Plasma',\n",
    "    title='World Happiness Score by Country',\n",
    "    width=1200,\n",
    "    height=600\n",
    ")\n",
    "\n",
    "fig.update_layout(\n",
    "    geo=dict(\n",
    "        showframe=False,\n",
    "        showcoastlines=True,\n",
    "        projection_type='natural earth'\n",
    "    ),\n",
    "    margin={\"r\":0,\"t\":60,\"l\":0,\"b\":0}\n",
    ")\n",
    "\n",
    "fig.show()\n"
   ]
  },
  {
   "cell_type": "code",
   "execution_count": null,
   "id": "934fee4f",
   "metadata": {},
   "outputs": [],
   "source": []
  }
 ],
 "metadata": {
  "kernelspec": {
   "display_name": "base",
   "language": "python",
   "name": "python3"
  },
  "language_info": {
   "codemirror_mode": {
    "name": "ipython",
    "version": 3
   },
   "file_extension": ".py",
   "mimetype": "text/x-python",
   "name": "python",
   "nbconvert_exporter": "python",
   "pygments_lexer": "ipython3",
   "version": "3.12.7"
  }
 },
 "nbformat": 4,
 "nbformat_minor": 5
}
