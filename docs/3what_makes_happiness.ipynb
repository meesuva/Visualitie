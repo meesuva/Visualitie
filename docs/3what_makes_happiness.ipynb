{
 "cells": [
  {
   "cell_type": "markdown",
   "id": "f45842d4",
   "metadata": {},
   "source": [
    "# What makes Happiness?"
   ]
  },
  {
   "cell_type": "markdown",
   "id": "f70591b2",
   "metadata": {},
   "source": [
    "For a long time, people have been interested in what makes us happy and how we can improve well-being in society. One big question is whether having more money or wealth actually makes people happier, or if there are other things that matter more. We often hear the saying “money can’t buy happiness,” but the real answer is a bit more complicated than that.\n",
    "\n",
    "In this data story, we will explore how happiness relates to different economic and social factors using information from the World Happiness Report 2019 and World Development Indicators. This report looks at how happy people are in different countries and compares that with demographic variables like GDP per capita, Gross National Income (GNI), the gini index, unemployment rates, education levels, and life expectancy.\n",
    "\n",
    "We want to find out if richer countries really have happier people, and if so, how strong this connection is. But we will also look beyond money to see how things like having a job, going to school, and living a long, healthy life affect happiness. For example, being unemployed might make people less happy even if their country is wealthy, and having a good education could improve well-being in ways that money alone can’t.\n",
    "\n",
    "First, we will compare happiness scores with income indicators like GDP per capita and GNI. Then, we will analyze how unemployment rates relate to happiness. After that, we will look at the gini index, education and life expectancy to see how these factors could affect happiness scores across countries.\n",
    "\n",
    "By comparing these different aspects, we hope to better understand what really contributes to happiness around the world. This will help us see whether the saying “money buys happiness” really holds. And if it doesn’t hold, we could find out what does contribute to happiness.\n"
   ]
  },
  {
   "cell_type": "markdown",
   "id": "623446df",
   "metadata": {},
   "source": [
    "**Money does buy happiness**\n",
    "\n",
    "It is often proposed that greater national wealth leads to higher levels of happiness among citizens. To see wether they are correlated, we analysed how average happiness scores relate to three key economic indicators: Gross Domestic Product (GDP), Gross National Income (GNI), and the Gini Index (Income inequality).\n",
    "\n",
    "\n",
    "\n",
    "The trendlines suggest that countries with higher GDP and GNI often report higher happiness levels. As one moves along the GDP and GNI axis more countries appear above the trendline and less appear below it. This supports the general belief that wealth leads to happiness due to the fact that wealth increases access to basic needs, and social stability, factors that are positively associated with well-being and happiness. However, the relationship is not linear, and several wealthy countries show only moderate happiness scores, this suggests other factors are still extremely relevant and happiness cannot be predicted by looking at wealth alone. Correlation does not imply causation, and the observed pattern may be influenced by unmeasured factors.\n",
    "\n",
    "The third plot, Happiness vs Gini Index, presents a different insight. Within this dataset, a negative correlation is visible, with happiness tending to decline as income inequality (measured by the Gini Index) increases. . In other words, even among wealthier nations, greater inequality is associated with lower average happiness. This aligns with findings by researchers such as Oishi et al., (2011), who in their research found that americans reported being happier on average in years when the national income inequality was less. This suggests income inequality might be a factor which has impact on the happiness . However income inequality may be acting as a substitute for how people perceive the fairness in society and the level of social mobility people have. Happiness is also a subjective measurement, and cultural differences in how inequality is perceived can vary widely, potentially affecting how people respond in surveys.\n",
    "\n",
    "The plots suggest that while wealth does matter, its distribution may be even more of a factor. Factors such as income equality are likely important to how people will respond to questions about their happiness. "
   ]
  },
  {
   "cell_type": "code",
   "execution_count": 8,
   "id": "cdcbbf04",
   "metadata": {},
   "outputs": [
    {
     "data": {
      "application/vnd.plotly.v1+json": {
       "config": {
        "plotlyServerURL": "https://plot.ly"
       },
       "data": [
        {
         "coloraxis": "coloraxis",
         "geo": "geo",
         "hovertemplate": "<b>%{hovertext}</b><br><br>Country=%{location}<br>Happiness=%{z}<extra></extra>",
         "hovertext": [
          "Finland",
          "Denmark",
          "Norway",
          "Iceland",
          "Netherlands",
          "Switzerland",
          "Sweden",
          "New Zealand",
          "Canada",
          "Austria",
          "Australia",
          "Costa Rica",
          "Israel",
          "Luxembourg",
          "United Kingdom",
          "Ireland",
          "Germany",
          "Belgium",
          "United States",
          "United Arab Emirates",
          "Malta",
          "Mexico",
          "France",
          "Chile",
          "Guatemala",
          "Saudi Arabia",
          "Qatar",
          "Spain",
          "Panama",
          "Brazil",
          "Uruguay",
          "Singapore",
          "El Salvador",
          "Italy",
          "Bahrain",
          "Poland",
          "Uzbekistan",
          "Lithuania",
          "Colombia",
          "Slovenia",
          "Nicaragua",
          "Kosovo",
          "Argentina",
          "Romania",
          "Cyprus",
          "Ecuador",
          "Kuwait",
          "Thailand",
          "Latvia",
          "Estonia",
          "Jamaica",
          "Mauritius",
          "Japan",
          "Honduras",
          "Kazakhstan",
          "Bolivia",
          "Hungary",
          "Paraguay",
          "Peru",
          "Portugal",
          "Pakistan",
          "Philippines",
          "Serbia",
          "Moldova",
          "Libya",
          "Montenegro",
          "Tajikistan",
          "Croatia",
          "Dominican Republic",
          "Bosnia and Herzegovina",
          "Malaysia",
          "Belarus",
          "Greece",
          "Mongolia",
          "North Macedonia",
          "Nigeria",
          "Turkmenistan",
          "Algeria",
          "Morocco",
          "Azerbaijan",
          "Lebanon",
          "Indonesia",
          "China",
          "Bhutan",
          "Cameroon",
          "Bulgaria",
          "Ghana",
          "Nepal",
          "Jordan",
          "Benin",
          "Gabon",
          "South Africa",
          "Albania",
          "Cambodia",
          "Senegal",
          "Somalia",
          "Namibia",
          "Niger",
          "Burkina Faso",
          "Armenia",
          "Guinea",
          "Georgia",
          "Kenya",
          "Mauritania",
          "Mozambique",
          "Tunisia",
          "Bangladesh",
          "Iraq",
          "Mali",
          "Sierra Leone",
          "Sri Lanka",
          "Myanmar",
          "Chad",
          "Ukraine",
          "Ethiopia",
          "Uganda",
          "Zambia",
          "Togo",
          "India",
          "Liberia",
          "Comoros",
          "Madagascar",
          "Lesotho",
          "Burundi",
          "Zimbabwe",
          "Haiti",
          "Botswana",
          "Malawi",
          "Rwanda",
          "Tanzania",
          "Afghanistan",
          "Central African Republic",
          "South Sudan"
         ],
         "locationmode": "country names",
         "locations": [
          "Finland",
          "Denmark",
          "Norway",
          "Iceland",
          "Netherlands",
          "Switzerland",
          "Sweden",
          "New Zealand",
          "Canada",
          "Austria",
          "Australia",
          "Costa Rica",
          "Israel",
          "Luxembourg",
          "United Kingdom",
          "Ireland",
          "Germany",
          "Belgium",
          "United States",
          "United Arab Emirates",
          "Malta",
          "Mexico",
          "France",
          "Chile",
          "Guatemala",
          "Saudi Arabia",
          "Qatar",
          "Spain",
          "Panama",
          "Brazil",
          "Uruguay",
          "Singapore",
          "El Salvador",
          "Italy",
          "Bahrain",
          "Poland",
          "Uzbekistan",
          "Lithuania",
          "Colombia",
          "Slovenia",
          "Nicaragua",
          "Kosovo",
          "Argentina",
          "Romania",
          "Cyprus",
          "Ecuador",
          "Kuwait",
          "Thailand",
          "Latvia",
          "Estonia",
          "Jamaica",
          "Mauritius",
          "Japan",
          "Honduras",
          "Kazakhstan",
          "Bolivia",
          "Hungary",
          "Paraguay",
          "Peru",
          "Portugal",
          "Pakistan",
          "Philippines",
          "Serbia",
          "Moldova",
          "Libya",
          "Montenegro",
          "Tajikistan",
          "Croatia",
          "Dominican Republic",
          "Bosnia and Herzegovina",
          "Malaysia",
          "Belarus",
          "Greece",
          "Mongolia",
          "North Macedonia",
          "Nigeria",
          "Turkmenistan",
          "Algeria",
          "Morocco",
          "Azerbaijan",
          "Lebanon",
          "Indonesia",
          "China",
          "Bhutan",
          "Cameroon",
          "Bulgaria",
          "Ghana",
          "Nepal",
          "Jordan",
          "Benin",
          "Gabon",
          "South Africa",
          "Albania",
          "Cambodia",
          "Senegal",
          "Somalia",
          "Namibia",
          "Niger",
          "Burkina Faso",
          "Armenia",
          "Guinea",
          "Georgia",
          "Kenya",
          "Mauritania",
          "Mozambique",
          "Tunisia",
          "Bangladesh",
          "Iraq",
          "Mali",
          "Sierra Leone",
          "Sri Lanka",
          "Myanmar",
          "Chad",
          "Ukraine",
          "Ethiopia",
          "Uganda",
          "Zambia",
          "Togo",
          "India",
          "Liberia",
          "Comoros",
          "Madagascar",
          "Lesotho",
          "Burundi",
          "Zimbabwe",
          "Haiti",
          "Botswana",
          "Malawi",
          "Rwanda",
          "Tanzania",
          "Afghanistan",
          "Central African Republic",
          "South Sudan"
         ],
         "name": "",
         "type": "choropleth",
         "z": {
          "bdata": "+n5qvHQTH0BmZmZmZmYeQJ7vp8ZLNx5AYOXQItv5HUDByqFFtvMdQOxRuB6F6x1ArBxaZDtfHUDufD81XjodQOkmMQisHB1AlkOLbOf7HEC28/3UeOkcQF66SQwCqxxAdZMYBFaOHEBcj8L1KFwcQJ7vp8ZLNxxAL90kBoEVHEBxPQrXo/AbQP7UeOkmsRtAxSCwcmiRG0DNzMzMzEwbQIGVQ4ts5xpA4XoUrkdhGkCR7Xw/NV4aQC2yne+nxhlAWDm0yHa+GUAAAAAAAIAZQOXQItv5fhlA0SLb+X5qGUBiEFg5tEgZQDMzMzMzMxlAeekmMQgsGUA/NV66SQwZQFCNl24SAxlAMQisHFrkGECyne+nxssYQO58PzVeuhhAGQRWDi2yGEB/arx0k5gYQAAAAAAAgBhARrbz/dR4GEDsUbgehWsYQGZmZmZmZhhA8tJNYhBYGEBI4XoUrkcYQMl2vp8aLxhA6SYxCKwcGEAv3SQGgRUYQNV46SYxCBhAw/UoXI/CF0DfT42XbpIXQI/C9ShcjxdAWmQ730+NF0AlBoGVQ4sXQHE9CtejcBdAI9v5fmo8F0AEVg4tsh0XQNV46SYxCBdARrbz/dT4FkB9PzVeuskWQBKDwMqhxRZA6SYxCKycFkCgGi/dJIYWQLbz/dR4aRZABFYOLbIdFkCamZmZmRkWQGQ730+NFxZAke18PzXeFUDufD81XroVQDMzMzMzsxVAJQaBlUOLFUBCYOXQIlsVQJhuEoPAShVA2c73U+MlFUCkcD0K1yMVQH9qvHSTGBVAj8L1KFwPFUCwcmiR7fwUQPLSTWIQ2BRAokW28/3UFECiRbbz/dQUQH0/NV66yRRA+FPjpZvEFEDdJAaBlcMUQIcW2c73UxRAkxgEVg4tFEAlBoGVQwsUQJZDi2zn+xNA9P3UeOmmE0A5tMh2vp8TQNV46SYxiBNAGQRWDi0yE0AX2c73U+MSQMdLN4lB4BJAzczMzMzMEkDTTWIQWLkSQHnpJjEIrBJAdZMYBFaOEkBQjZduEoMSQAwCK4cWWRJAI9v5fmo8EkCJQWDl0CISQPp+arx0ExJA8KfGSzcJEkD2KFyPwvURQHe+nxov3RFA8tJNYhDYEUBt5/up8dIRQHNoke18vxFAj8L1KFyPEUDl0CLb+X4RQBBYObTIdhFAcT0K16NwEUBmZmZmZmYRQIcW2c73UxFAvp8aL90kEUCoxks3icEQQCGwcmiRbRBA16NwPQpXEECPwvUoXA8QQM3MzMzMzA9AYhBYObTID0AQWDm0yHYPQNEi2/l+ag5AMzMzMzMzDkDn+6nx0k0NQC2yne+nxgxAgZVDi2znC0BI4XoUrkcLQHnpJjEIrApADAIrhxbZCUA5tMh2vp8JQESLbOf7qQhAbef7qfHSBkA=",
          "dtype": "f8"
         }
        }
       ],
       "layout": {
        "coloraxis": {
         "cmax": 10,
         "cmin": 1,
         "colorbar": {
          "bgcolor": "#EAF4F4",
          "orientation": "h",
          "outlinecolor": "black",
          "outlinewidth": 1,
          "thickness": 15,
          "ticklen": 0,
          "tickvals": [
           1,
           4,
           7,
           10
          ],
          "title": {
           "text": "Happiness"
          },
          "x": 0.5,
          "xanchor": "center",
          "y": 1.02,
          "yanchor": "bottom"
         },
         "colorscale": [
          [
           0,
           "#440154"
          ],
          [
           0.1111111111111111,
           "#482878"
          ],
          [
           0.2222222222222222,
           "#3e4989"
          ],
          [
           0.3333333333333333,
           "#31688e"
          ],
          [
           0.4444444444444444,
           "#26828e"
          ],
          [
           0.5555555555555556,
           "#1f9e89"
          ],
          [
           0.6666666666666666,
           "#35b779"
          ],
          [
           0.7777777777777778,
           "#6ece58"
          ],
          [
           0.8888888888888888,
           "#b5de2b"
          ],
          [
           1,
           "#fde725"
          ]
         ]
        },
        "geo": {
         "bgcolor": "#EAF4F4",
         "center": {},
         "domain": {
          "x": [
           0,
           1
          ],
          "y": [
           0,
           1
          ]
         },
         "oceancolor": "lightblue",
         "projection": {
          "type": "natural earth"
         },
         "showcoastlines": true,
         "showframe": false,
         "showocean": true
        },
        "height": 500,
        "legend": {
         "tracegroupgap": 0
        },
        "margin": {
         "b": 0,
         "l": 0,
         "r": 0,
         "t": 60
        },
        "paper_bgcolor": "#EAF4F4",
        "plot_bgcolor": "#EAF4F4",
        "template": {
         "data": {
          "bar": [
           {
            "error_x": {
             "color": "#2a3f5f"
            },
            "error_y": {
             "color": "#2a3f5f"
            },
            "marker": {
             "line": {
              "color": "#E5ECF6",
              "width": 0.5
             },
             "pattern": {
              "fillmode": "overlay",
              "size": 10,
              "solidity": 0.2
             }
            },
            "type": "bar"
           }
          ],
          "barpolar": [
           {
            "marker": {
             "line": {
              "color": "#E5ECF6",
              "width": 0.5
             },
             "pattern": {
              "fillmode": "overlay",
              "size": 10,
              "solidity": 0.2
             }
            },
            "type": "barpolar"
           }
          ],
          "carpet": [
           {
            "aaxis": {
             "endlinecolor": "#2a3f5f",
             "gridcolor": "white",
             "linecolor": "white",
             "minorgridcolor": "white",
             "startlinecolor": "#2a3f5f"
            },
            "baxis": {
             "endlinecolor": "#2a3f5f",
             "gridcolor": "white",
             "linecolor": "white",
             "minorgridcolor": "white",
             "startlinecolor": "#2a3f5f"
            },
            "type": "carpet"
           }
          ],
          "choropleth": [
           {
            "colorbar": {
             "outlinewidth": 0,
             "ticks": ""
            },
            "type": "choropleth"
           }
          ],
          "contour": [
           {
            "colorbar": {
             "outlinewidth": 0,
             "ticks": ""
            },
            "colorscale": [
             [
              0,
              "#0d0887"
             ],
             [
              0.1111111111111111,
              "#46039f"
             ],
             [
              0.2222222222222222,
              "#7201a8"
             ],
             [
              0.3333333333333333,
              "#9c179e"
             ],
             [
              0.4444444444444444,
              "#bd3786"
             ],
             [
              0.5555555555555556,
              "#d8576b"
             ],
             [
              0.6666666666666666,
              "#ed7953"
             ],
             [
              0.7777777777777778,
              "#fb9f3a"
             ],
             [
              0.8888888888888888,
              "#fdca26"
             ],
             [
              1,
              "#f0f921"
             ]
            ],
            "type": "contour"
           }
          ],
          "contourcarpet": [
           {
            "colorbar": {
             "outlinewidth": 0,
             "ticks": ""
            },
            "type": "contourcarpet"
           }
          ],
          "heatmap": [
           {
            "colorbar": {
             "outlinewidth": 0,
             "ticks": ""
            },
            "colorscale": [
             [
              0,
              "#0d0887"
             ],
             [
              0.1111111111111111,
              "#46039f"
             ],
             [
              0.2222222222222222,
              "#7201a8"
             ],
             [
              0.3333333333333333,
              "#9c179e"
             ],
             [
              0.4444444444444444,
              "#bd3786"
             ],
             [
              0.5555555555555556,
              "#d8576b"
             ],
             [
              0.6666666666666666,
              "#ed7953"
             ],
             [
              0.7777777777777778,
              "#fb9f3a"
             ],
             [
              0.8888888888888888,
              "#fdca26"
             ],
             [
              1,
              "#f0f921"
             ]
            ],
            "type": "heatmap"
           }
          ],
          "histogram": [
           {
            "marker": {
             "pattern": {
              "fillmode": "overlay",
              "size": 10,
              "solidity": 0.2
             }
            },
            "type": "histogram"
           }
          ],
          "histogram2d": [
           {
            "colorbar": {
             "outlinewidth": 0,
             "ticks": ""
            },
            "colorscale": [
             [
              0,
              "#0d0887"
             ],
             [
              0.1111111111111111,
              "#46039f"
             ],
             [
              0.2222222222222222,
              "#7201a8"
             ],
             [
              0.3333333333333333,
              "#9c179e"
             ],
             [
              0.4444444444444444,
              "#bd3786"
             ],
             [
              0.5555555555555556,
              "#d8576b"
             ],
             [
              0.6666666666666666,
              "#ed7953"
             ],
             [
              0.7777777777777778,
              "#fb9f3a"
             ],
             [
              0.8888888888888888,
              "#fdca26"
             ],
             [
              1,
              "#f0f921"
             ]
            ],
            "type": "histogram2d"
           }
          ],
          "histogram2dcontour": [
           {
            "colorbar": {
             "outlinewidth": 0,
             "ticks": ""
            },
            "colorscale": [
             [
              0,
              "#0d0887"
             ],
             [
              0.1111111111111111,
              "#46039f"
             ],
             [
              0.2222222222222222,
              "#7201a8"
             ],
             [
              0.3333333333333333,
              "#9c179e"
             ],
             [
              0.4444444444444444,
              "#bd3786"
             ],
             [
              0.5555555555555556,
              "#d8576b"
             ],
             [
              0.6666666666666666,
              "#ed7953"
             ],
             [
              0.7777777777777778,
              "#fb9f3a"
             ],
             [
              0.8888888888888888,
              "#fdca26"
             ],
             [
              1,
              "#f0f921"
             ]
            ],
            "type": "histogram2dcontour"
           }
          ],
          "mesh3d": [
           {
            "colorbar": {
             "outlinewidth": 0,
             "ticks": ""
            },
            "type": "mesh3d"
           }
          ],
          "parcoords": [
           {
            "line": {
             "colorbar": {
              "outlinewidth": 0,
              "ticks": ""
             }
            },
            "type": "parcoords"
           }
          ],
          "pie": [
           {
            "automargin": true,
            "type": "pie"
           }
          ],
          "scatter": [
           {
            "fillpattern": {
             "fillmode": "overlay",
             "size": 10,
             "solidity": 0.2
            },
            "type": "scatter"
           }
          ],
          "scatter3d": [
           {
            "line": {
             "colorbar": {
              "outlinewidth": 0,
              "ticks": ""
             }
            },
            "marker": {
             "colorbar": {
              "outlinewidth": 0,
              "ticks": ""
             }
            },
            "type": "scatter3d"
           }
          ],
          "scattercarpet": [
           {
            "marker": {
             "colorbar": {
              "outlinewidth": 0,
              "ticks": ""
             }
            },
            "type": "scattercarpet"
           }
          ],
          "scattergeo": [
           {
            "marker": {
             "colorbar": {
              "outlinewidth": 0,
              "ticks": ""
             }
            },
            "type": "scattergeo"
           }
          ],
          "scattergl": [
           {
            "marker": {
             "colorbar": {
              "outlinewidth": 0,
              "ticks": ""
             }
            },
            "type": "scattergl"
           }
          ],
          "scattermap": [
           {
            "marker": {
             "colorbar": {
              "outlinewidth": 0,
              "ticks": ""
             }
            },
            "type": "scattermap"
           }
          ],
          "scattermapbox": [
           {
            "marker": {
             "colorbar": {
              "outlinewidth": 0,
              "ticks": ""
             }
            },
            "type": "scattermapbox"
           }
          ],
          "scatterpolar": [
           {
            "marker": {
             "colorbar": {
              "outlinewidth": 0,
              "ticks": ""
             }
            },
            "type": "scatterpolar"
           }
          ],
          "scatterpolargl": [
           {
            "marker": {
             "colorbar": {
              "outlinewidth": 0,
              "ticks": ""
             }
            },
            "type": "scatterpolargl"
           }
          ],
          "scatterternary": [
           {
            "marker": {
             "colorbar": {
              "outlinewidth": 0,
              "ticks": ""
             }
            },
            "type": "scatterternary"
           }
          ],
          "surface": [
           {
            "colorbar": {
             "outlinewidth": 0,
             "ticks": ""
            },
            "colorscale": [
             [
              0,
              "#0d0887"
             ],
             [
              0.1111111111111111,
              "#46039f"
             ],
             [
              0.2222222222222222,
              "#7201a8"
             ],
             [
              0.3333333333333333,
              "#9c179e"
             ],
             [
              0.4444444444444444,
              "#bd3786"
             ],
             [
              0.5555555555555556,
              "#d8576b"
             ],
             [
              0.6666666666666666,
              "#ed7953"
             ],
             [
              0.7777777777777778,
              "#fb9f3a"
             ],
             [
              0.8888888888888888,
              "#fdca26"
             ],
             [
              1,
              "#f0f921"
             ]
            ],
            "type": "surface"
           }
          ],
          "table": [
           {
            "cells": {
             "fill": {
              "color": "#EBF0F8"
             },
             "line": {
              "color": "white"
             }
            },
            "header": {
             "fill": {
              "color": "#C8D4E3"
             },
             "line": {
              "color": "white"
             }
            },
            "type": "table"
           }
          ]
         },
         "layout": {
          "annotationdefaults": {
           "arrowcolor": "#2a3f5f",
           "arrowhead": 0,
           "arrowwidth": 1
          },
          "autotypenumbers": "strict",
          "coloraxis": {
           "colorbar": {
            "outlinewidth": 0,
            "ticks": ""
           }
          },
          "colorscale": {
           "diverging": [
            [
             0,
             "#8e0152"
            ],
            [
             0.1,
             "#c51b7d"
            ],
            [
             0.2,
             "#de77ae"
            ],
            [
             0.3,
             "#f1b6da"
            ],
            [
             0.4,
             "#fde0ef"
            ],
            [
             0.5,
             "#f7f7f7"
            ],
            [
             0.6,
             "#e6f5d0"
            ],
            [
             0.7,
             "#b8e186"
            ],
            [
             0.8,
             "#7fbc41"
            ],
            [
             0.9,
             "#4d9221"
            ],
            [
             1,
             "#276419"
            ]
           ],
           "sequential": [
            [
             0,
             "#0d0887"
            ],
            [
             0.1111111111111111,
             "#46039f"
            ],
            [
             0.2222222222222222,
             "#7201a8"
            ],
            [
             0.3333333333333333,
             "#9c179e"
            ],
            [
             0.4444444444444444,
             "#bd3786"
            ],
            [
             0.5555555555555556,
             "#d8576b"
            ],
            [
             0.6666666666666666,
             "#ed7953"
            ],
            [
             0.7777777777777778,
             "#fb9f3a"
            ],
            [
             0.8888888888888888,
             "#fdca26"
            ],
            [
             1,
             "#f0f921"
            ]
           ],
           "sequentialminus": [
            [
             0,
             "#0d0887"
            ],
            [
             0.1111111111111111,
             "#46039f"
            ],
            [
             0.2222222222222222,
             "#7201a8"
            ],
            [
             0.3333333333333333,
             "#9c179e"
            ],
            [
             0.4444444444444444,
             "#bd3786"
            ],
            [
             0.5555555555555556,
             "#d8576b"
            ],
            [
             0.6666666666666666,
             "#ed7953"
            ],
            [
             0.7777777777777778,
             "#fb9f3a"
            ],
            [
             0.8888888888888888,
             "#fdca26"
            ],
            [
             1,
             "#f0f921"
            ]
           ]
          },
          "colorway": [
           "#636efa",
           "#EF553B",
           "#00cc96",
           "#ab63fa",
           "#FFA15A",
           "#19d3f3",
           "#FF6692",
           "#B6E880",
           "#FF97FF",
           "#FECB52"
          ],
          "font": {
           "color": "#2a3f5f"
          },
          "geo": {
           "bgcolor": "white",
           "lakecolor": "white",
           "landcolor": "#E5ECF6",
           "showlakes": true,
           "showland": true,
           "subunitcolor": "white"
          },
          "hoverlabel": {
           "align": "left"
          },
          "hovermode": "closest",
          "mapbox": {
           "style": "light"
          },
          "paper_bgcolor": "white",
          "plot_bgcolor": "#E5ECF6",
          "polar": {
           "angularaxis": {
            "gridcolor": "white",
            "linecolor": "white",
            "ticks": ""
           },
           "bgcolor": "#E5ECF6",
           "radialaxis": {
            "gridcolor": "white",
            "linecolor": "white",
            "ticks": ""
           }
          },
          "scene": {
           "xaxis": {
            "backgroundcolor": "#E5ECF6",
            "gridcolor": "white",
            "gridwidth": 2,
            "linecolor": "white",
            "showbackground": true,
            "ticks": "",
            "zerolinecolor": "white"
           },
           "yaxis": {
            "backgroundcolor": "#E5ECF6",
            "gridcolor": "white",
            "gridwidth": 2,
            "linecolor": "white",
            "showbackground": true,
            "ticks": "",
            "zerolinecolor": "white"
           },
           "zaxis": {
            "backgroundcolor": "#E5ECF6",
            "gridcolor": "white",
            "gridwidth": 2,
            "linecolor": "white",
            "showbackground": true,
            "ticks": "",
            "zerolinecolor": "white"
           }
          },
          "shapedefaults": {
           "line": {
            "color": "#2a3f5f"
           }
          },
          "ternary": {
           "aaxis": {
            "gridcolor": "white",
            "linecolor": "white",
            "ticks": ""
           },
           "baxis": {
            "gridcolor": "white",
            "linecolor": "white",
            "ticks": ""
           },
           "bgcolor": "#E5ECF6",
           "caxis": {
            "gridcolor": "white",
            "linecolor": "white",
            "ticks": ""
           }
          },
          "title": {
           "x": 0.05
          },
          "xaxis": {
           "automargin": true,
           "gridcolor": "white",
           "linecolor": "white",
           "ticks": "",
           "title": {
            "standoff": 15
           },
           "zerolinecolor": "white",
           "zerolinewidth": 2
          },
          "yaxis": {
           "automargin": true,
           "gridcolor": "white",
           "linecolor": "white",
           "ticks": "",
           "title": {
            "standoff": 15
           },
           "zerolinecolor": "white",
           "zerolinewidth": 2
          }
         }
        },
        "title": {
         "text": "World Happiness Score by Country",
         "x": 0.5
        },
        "width": 750
       }
      },
      "text/html": [
       "<div>            <script src=\"https://cdnjs.cloudflare.com/ajax/libs/mathjax/2.7.5/MathJax.js?config=TeX-AMS-MML_SVG\"></script><script type=\"text/javascript\">if (window.MathJax && window.MathJax.Hub && window.MathJax.Hub.Config) {window.MathJax.Hub.Config({SVG: {font: \"STIX-Web\"}});}</script>                <script type=\"text/javascript\">window.PlotlyConfig = {MathJaxConfig: 'local'};</script>\n",
       "        <script charset=\"utf-8\" src=\"https://cdn.plot.ly/plotly-3.0.1.min.js\"></script>                <div id=\"08b10843-b1e0-4ec9-b11d-2a88ae3fe004\" class=\"plotly-graph-div\" style=\"height:500px; width:750px;\"></div>            <script type=\"text/javascript\">                window.PLOTLYENV=window.PLOTLYENV || {};                                if (document.getElementById(\"08b10843-b1e0-4ec9-b11d-2a88ae3fe004\")) {                    Plotly.newPlot(                        \"08b10843-b1e0-4ec9-b11d-2a88ae3fe004\",                        [{\"coloraxis\":\"coloraxis\",\"geo\":\"geo\",\"hovertemplate\":\"\\u003cb\\u003e%{hovertext}\\u003c\\u002fb\\u003e\\u003cbr\\u003e\\u003cbr\\u003eCountry=%{location}\\u003cbr\\u003eHappiness=%{z}\\u003cextra\\u003e\\u003c\\u002fextra\\u003e\",\"hovertext\":[\"Finland\",\"Denmark\",\"Norway\",\"Iceland\",\"Netherlands\",\"Switzerland\",\"Sweden\",\"New Zealand\",\"Canada\",\"Austria\",\"Australia\",\"Costa Rica\",\"Israel\",\"Luxembourg\",\"United Kingdom\",\"Ireland\",\"Germany\",\"Belgium\",\"United States\",\"United Arab Emirates\",\"Malta\",\"Mexico\",\"France\",\"Chile\",\"Guatemala\",\"Saudi Arabia\",\"Qatar\",\"Spain\",\"Panama\",\"Brazil\",\"Uruguay\",\"Singapore\",\"El Salvador\",\"Italy\",\"Bahrain\",\"Poland\",\"Uzbekistan\",\"Lithuania\",\"Colombia\",\"Slovenia\",\"Nicaragua\",\"Kosovo\",\"Argentina\",\"Romania\",\"Cyprus\",\"Ecuador\",\"Kuwait\",\"Thailand\",\"Latvia\",\"Estonia\",\"Jamaica\",\"Mauritius\",\"Japan\",\"Honduras\",\"Kazakhstan\",\"Bolivia\",\"Hungary\",\"Paraguay\",\"Peru\",\"Portugal\",\"Pakistan\",\"Philippines\",\"Serbia\",\"Moldova\",\"Libya\",\"Montenegro\",\"Tajikistan\",\"Croatia\",\"Dominican Republic\",\"Bosnia and Herzegovina\",\"Malaysia\",\"Belarus\",\"Greece\",\"Mongolia\",\"North Macedonia\",\"Nigeria\",\"Turkmenistan\",\"Algeria\",\"Morocco\",\"Azerbaijan\",\"Lebanon\",\"Indonesia\",\"China\",\"Bhutan\",\"Cameroon\",\"Bulgaria\",\"Ghana\",\"Nepal\",\"Jordan\",\"Benin\",\"Gabon\",\"South Africa\",\"Albania\",\"Cambodia\",\"Senegal\",\"Somalia\",\"Namibia\",\"Niger\",\"Burkina Faso\",\"Armenia\",\"Guinea\",\"Georgia\",\"Kenya\",\"Mauritania\",\"Mozambique\",\"Tunisia\",\"Bangladesh\",\"Iraq\",\"Mali\",\"Sierra Leone\",\"Sri Lanka\",\"Myanmar\",\"Chad\",\"Ukraine\",\"Ethiopia\",\"Uganda\",\"Zambia\",\"Togo\",\"India\",\"Liberia\",\"Comoros\",\"Madagascar\",\"Lesotho\",\"Burundi\",\"Zimbabwe\",\"Haiti\",\"Botswana\",\"Malawi\",\"Rwanda\",\"Tanzania\",\"Afghanistan\",\"Central African Republic\",\"South Sudan\"],\"locationmode\":\"country names\",\"locations\":[\"Finland\",\"Denmark\",\"Norway\",\"Iceland\",\"Netherlands\",\"Switzerland\",\"Sweden\",\"New Zealand\",\"Canada\",\"Austria\",\"Australia\",\"Costa Rica\",\"Israel\",\"Luxembourg\",\"United Kingdom\",\"Ireland\",\"Germany\",\"Belgium\",\"United States\",\"United Arab Emirates\",\"Malta\",\"Mexico\",\"France\",\"Chile\",\"Guatemala\",\"Saudi Arabia\",\"Qatar\",\"Spain\",\"Panama\",\"Brazil\",\"Uruguay\",\"Singapore\",\"El Salvador\",\"Italy\",\"Bahrain\",\"Poland\",\"Uzbekistan\",\"Lithuania\",\"Colombia\",\"Slovenia\",\"Nicaragua\",\"Kosovo\",\"Argentina\",\"Romania\",\"Cyprus\",\"Ecuador\",\"Kuwait\",\"Thailand\",\"Latvia\",\"Estonia\",\"Jamaica\",\"Mauritius\",\"Japan\",\"Honduras\",\"Kazakhstan\",\"Bolivia\",\"Hungary\",\"Paraguay\",\"Peru\",\"Portugal\",\"Pakistan\",\"Philippines\",\"Serbia\",\"Moldova\",\"Libya\",\"Montenegro\",\"Tajikistan\",\"Croatia\",\"Dominican Republic\",\"Bosnia and Herzegovina\",\"Malaysia\",\"Belarus\",\"Greece\",\"Mongolia\",\"North Macedonia\",\"Nigeria\",\"Turkmenistan\",\"Algeria\",\"Morocco\",\"Azerbaijan\",\"Lebanon\",\"Indonesia\",\"China\",\"Bhutan\",\"Cameroon\",\"Bulgaria\",\"Ghana\",\"Nepal\",\"Jordan\",\"Benin\",\"Gabon\",\"South Africa\",\"Albania\",\"Cambodia\",\"Senegal\",\"Somalia\",\"Namibia\",\"Niger\",\"Burkina Faso\",\"Armenia\",\"Guinea\",\"Georgia\",\"Kenya\",\"Mauritania\",\"Mozambique\",\"Tunisia\",\"Bangladesh\",\"Iraq\",\"Mali\",\"Sierra Leone\",\"Sri Lanka\",\"Myanmar\",\"Chad\",\"Ukraine\",\"Ethiopia\",\"Uganda\",\"Zambia\",\"Togo\",\"India\",\"Liberia\",\"Comoros\",\"Madagascar\",\"Lesotho\",\"Burundi\",\"Zimbabwe\",\"Haiti\",\"Botswana\",\"Malawi\",\"Rwanda\",\"Tanzania\",\"Afghanistan\",\"Central African Republic\",\"South Sudan\"],\"name\":\"\",\"z\":{\"dtype\":\"f8\",\"bdata\":\"+n5qvHQTH0BmZmZmZmYeQJ7vp8ZLNx5AYOXQItv5HUDByqFFtvMdQOxRuB6F6x1ArBxaZDtfHUDufD81XjodQOkmMQisHB1AlkOLbOf7HEC28\\u002f3UeOkcQF66SQwCqxxAdZMYBFaOHEBcj8L1KFwcQJ7vp8ZLNxxAL90kBoEVHEBxPQrXo\\u002fAbQP7UeOkmsRtAxSCwcmiRG0DNzMzMzEwbQIGVQ4ts5xpA4XoUrkdhGkCR7Xw\\u002fNV4aQC2yne+nxhlAWDm0yHa+GUAAAAAAAIAZQOXQItv5fhlA0SLb+X5qGUBiEFg5tEgZQDMzMzMzMxlAeekmMQgsGUA\\u002fNV66SQwZQFCNl24SAxlAMQisHFrkGECyne+nxssYQO58PzVeuhhAGQRWDi2yGEB\\u002farx0k5gYQAAAAAAAgBhARrbz\\u002fdR4GEDsUbgehWsYQGZmZmZmZhhA8tJNYhBYGEBI4XoUrkcYQMl2vp8aLxhA6SYxCKwcGEAv3SQGgRUYQNV46SYxCBhAw\\u002fUoXI\\u002fCF0DfT42XbpIXQI\\u002fC9ShcjxdAWmQ730+NF0AlBoGVQ4sXQHE9CtejcBdAI9v5fmo8F0AEVg4tsh0XQNV46SYxCBdARrbz\\u002fdT4FkB9PzVeuskWQBKDwMqhxRZA6SYxCKycFkCgGi\\u002fdJIYWQLbz\\u002fdR4aRZABFYOLbIdFkCamZmZmRkWQGQ730+NFxZAke18PzXeFUDufD81XroVQDMzMzMzsxVAJQaBlUOLFUBCYOXQIlsVQJhuEoPAShVA2c73U+MlFUCkcD0K1yMVQH9qvHSTGBVAj8L1KFwPFUCwcmiR7fwUQPLSTWIQ2BRAokW28\\u002f3UFECiRbbz\\u002fdQUQH0\\u002fNV66yRRA+FPjpZvEFEDdJAaBlcMUQIcW2c73UxRAkxgEVg4tFEAlBoGVQwsUQJZDi2zn+xNA9P3UeOmmE0A5tMh2vp8TQNV46SYxiBNAGQRWDi0yE0AX2c73U+MSQMdLN4lB4BJAzczMzMzMEkDTTWIQWLkSQHnpJjEIrBJAdZMYBFaOEkBQjZduEoMSQAwCK4cWWRJAI9v5fmo8EkCJQWDl0CISQPp+arx0ExJA8KfGSzcJEkD2KFyPwvURQHe+nxov3RFA8tJNYhDYEUBt5\\u002fup8dIRQHNoke18vxFAj8L1KFyPEUDl0CLb+X4RQBBYObTIdhFAcT0K16NwEUBmZmZmZmYRQIcW2c73UxFAvp8aL90kEUCoxks3icEQQCGwcmiRbRBA16NwPQpXEECPwvUoXA8QQM3MzMzMzA9AYhBYObTID0AQWDm0yHYPQNEi2\\u002fl+ag5AMzMzMzMzDkDn+6nx0k0NQC2yne+nxgxAgZVDi2znC0BI4XoUrkcLQHnpJjEIrApADAIrhxbZCUA5tMh2vp8JQESLbOf7qQhAbef7qfHSBkA=\"},\"type\":\"choropleth\"}],                        {\"template\":{\"data\":{\"histogram2dcontour\":[{\"type\":\"histogram2dcontour\",\"colorbar\":{\"outlinewidth\":0,\"ticks\":\"\"},\"colorscale\":[[0.0,\"#0d0887\"],[0.1111111111111111,\"#46039f\"],[0.2222222222222222,\"#7201a8\"],[0.3333333333333333,\"#9c179e\"],[0.4444444444444444,\"#bd3786\"],[0.5555555555555556,\"#d8576b\"],[0.6666666666666666,\"#ed7953\"],[0.7777777777777778,\"#fb9f3a\"],[0.8888888888888888,\"#fdca26\"],[1.0,\"#f0f921\"]]}],\"choropleth\":[{\"type\":\"choropleth\",\"colorbar\":{\"outlinewidth\":0,\"ticks\":\"\"}}],\"histogram2d\":[{\"type\":\"histogram2d\",\"colorbar\":{\"outlinewidth\":0,\"ticks\":\"\"},\"colorscale\":[[0.0,\"#0d0887\"],[0.1111111111111111,\"#46039f\"],[0.2222222222222222,\"#7201a8\"],[0.3333333333333333,\"#9c179e\"],[0.4444444444444444,\"#bd3786\"],[0.5555555555555556,\"#d8576b\"],[0.6666666666666666,\"#ed7953\"],[0.7777777777777778,\"#fb9f3a\"],[0.8888888888888888,\"#fdca26\"],[1.0,\"#f0f921\"]]}],\"heatmap\":[{\"type\":\"heatmap\",\"colorbar\":{\"outlinewidth\":0,\"ticks\":\"\"},\"colorscale\":[[0.0,\"#0d0887\"],[0.1111111111111111,\"#46039f\"],[0.2222222222222222,\"#7201a8\"],[0.3333333333333333,\"#9c179e\"],[0.4444444444444444,\"#bd3786\"],[0.5555555555555556,\"#d8576b\"],[0.6666666666666666,\"#ed7953\"],[0.7777777777777778,\"#fb9f3a\"],[0.8888888888888888,\"#fdca26\"],[1.0,\"#f0f921\"]]}],\"contourcarpet\":[{\"type\":\"contourcarpet\",\"colorbar\":{\"outlinewidth\":0,\"ticks\":\"\"}}],\"contour\":[{\"type\":\"contour\",\"colorbar\":{\"outlinewidth\":0,\"ticks\":\"\"},\"colorscale\":[[0.0,\"#0d0887\"],[0.1111111111111111,\"#46039f\"],[0.2222222222222222,\"#7201a8\"],[0.3333333333333333,\"#9c179e\"],[0.4444444444444444,\"#bd3786\"],[0.5555555555555556,\"#d8576b\"],[0.6666666666666666,\"#ed7953\"],[0.7777777777777778,\"#fb9f3a\"],[0.8888888888888888,\"#fdca26\"],[1.0,\"#f0f921\"]]}],\"surface\":[{\"type\":\"surface\",\"colorbar\":{\"outlinewidth\":0,\"ticks\":\"\"},\"colorscale\":[[0.0,\"#0d0887\"],[0.1111111111111111,\"#46039f\"],[0.2222222222222222,\"#7201a8\"],[0.3333333333333333,\"#9c179e\"],[0.4444444444444444,\"#bd3786\"],[0.5555555555555556,\"#d8576b\"],[0.6666666666666666,\"#ed7953\"],[0.7777777777777778,\"#fb9f3a\"],[0.8888888888888888,\"#fdca26\"],[1.0,\"#f0f921\"]]}],\"mesh3d\":[{\"type\":\"mesh3d\",\"colorbar\":{\"outlinewidth\":0,\"ticks\":\"\"}}],\"scatter\":[{\"fillpattern\":{\"fillmode\":\"overlay\",\"size\":10,\"solidity\":0.2},\"type\":\"scatter\"}],\"parcoords\":[{\"type\":\"parcoords\",\"line\":{\"colorbar\":{\"outlinewidth\":0,\"ticks\":\"\"}}}],\"scatterpolargl\":[{\"type\":\"scatterpolargl\",\"marker\":{\"colorbar\":{\"outlinewidth\":0,\"ticks\":\"\"}}}],\"bar\":[{\"error_x\":{\"color\":\"#2a3f5f\"},\"error_y\":{\"color\":\"#2a3f5f\"},\"marker\":{\"line\":{\"color\":\"#E5ECF6\",\"width\":0.5},\"pattern\":{\"fillmode\":\"overlay\",\"size\":10,\"solidity\":0.2}},\"type\":\"bar\"}],\"scattergeo\":[{\"type\":\"scattergeo\",\"marker\":{\"colorbar\":{\"outlinewidth\":0,\"ticks\":\"\"}}}],\"scatterpolar\":[{\"type\":\"scatterpolar\",\"marker\":{\"colorbar\":{\"outlinewidth\":0,\"ticks\":\"\"}}}],\"histogram\":[{\"marker\":{\"pattern\":{\"fillmode\":\"overlay\",\"size\":10,\"solidity\":0.2}},\"type\":\"histogram\"}],\"scattergl\":[{\"type\":\"scattergl\",\"marker\":{\"colorbar\":{\"outlinewidth\":0,\"ticks\":\"\"}}}],\"scatter3d\":[{\"type\":\"scatter3d\",\"line\":{\"colorbar\":{\"outlinewidth\":0,\"ticks\":\"\"}},\"marker\":{\"colorbar\":{\"outlinewidth\":0,\"ticks\":\"\"}}}],\"scattermap\":[{\"type\":\"scattermap\",\"marker\":{\"colorbar\":{\"outlinewidth\":0,\"ticks\":\"\"}}}],\"scattermapbox\":[{\"type\":\"scattermapbox\",\"marker\":{\"colorbar\":{\"outlinewidth\":0,\"ticks\":\"\"}}}],\"scatterternary\":[{\"type\":\"scatterternary\",\"marker\":{\"colorbar\":{\"outlinewidth\":0,\"ticks\":\"\"}}}],\"scattercarpet\":[{\"type\":\"scattercarpet\",\"marker\":{\"colorbar\":{\"outlinewidth\":0,\"ticks\":\"\"}}}],\"carpet\":[{\"aaxis\":{\"endlinecolor\":\"#2a3f5f\",\"gridcolor\":\"white\",\"linecolor\":\"white\",\"minorgridcolor\":\"white\",\"startlinecolor\":\"#2a3f5f\"},\"baxis\":{\"endlinecolor\":\"#2a3f5f\",\"gridcolor\":\"white\",\"linecolor\":\"white\",\"minorgridcolor\":\"white\",\"startlinecolor\":\"#2a3f5f\"},\"type\":\"carpet\"}],\"table\":[{\"cells\":{\"fill\":{\"color\":\"#EBF0F8\"},\"line\":{\"color\":\"white\"}},\"header\":{\"fill\":{\"color\":\"#C8D4E3\"},\"line\":{\"color\":\"white\"}},\"type\":\"table\"}],\"barpolar\":[{\"marker\":{\"line\":{\"color\":\"#E5ECF6\",\"width\":0.5},\"pattern\":{\"fillmode\":\"overlay\",\"size\":10,\"solidity\":0.2}},\"type\":\"barpolar\"}],\"pie\":[{\"automargin\":true,\"type\":\"pie\"}]},\"layout\":{\"autotypenumbers\":\"strict\",\"colorway\":[\"#636efa\",\"#EF553B\",\"#00cc96\",\"#ab63fa\",\"#FFA15A\",\"#19d3f3\",\"#FF6692\",\"#B6E880\",\"#FF97FF\",\"#FECB52\"],\"font\":{\"color\":\"#2a3f5f\"},\"hovermode\":\"closest\",\"hoverlabel\":{\"align\":\"left\"},\"paper_bgcolor\":\"white\",\"plot_bgcolor\":\"#E5ECF6\",\"polar\":{\"bgcolor\":\"#E5ECF6\",\"angularaxis\":{\"gridcolor\":\"white\",\"linecolor\":\"white\",\"ticks\":\"\"},\"radialaxis\":{\"gridcolor\":\"white\",\"linecolor\":\"white\",\"ticks\":\"\"}},\"ternary\":{\"bgcolor\":\"#E5ECF6\",\"aaxis\":{\"gridcolor\":\"white\",\"linecolor\":\"white\",\"ticks\":\"\"},\"baxis\":{\"gridcolor\":\"white\",\"linecolor\":\"white\",\"ticks\":\"\"},\"caxis\":{\"gridcolor\":\"white\",\"linecolor\":\"white\",\"ticks\":\"\"}},\"coloraxis\":{\"colorbar\":{\"outlinewidth\":0,\"ticks\":\"\"}},\"colorscale\":{\"sequential\":[[0.0,\"#0d0887\"],[0.1111111111111111,\"#46039f\"],[0.2222222222222222,\"#7201a8\"],[0.3333333333333333,\"#9c179e\"],[0.4444444444444444,\"#bd3786\"],[0.5555555555555556,\"#d8576b\"],[0.6666666666666666,\"#ed7953\"],[0.7777777777777778,\"#fb9f3a\"],[0.8888888888888888,\"#fdca26\"],[1.0,\"#f0f921\"]],\"sequentialminus\":[[0.0,\"#0d0887\"],[0.1111111111111111,\"#46039f\"],[0.2222222222222222,\"#7201a8\"],[0.3333333333333333,\"#9c179e\"],[0.4444444444444444,\"#bd3786\"],[0.5555555555555556,\"#d8576b\"],[0.6666666666666666,\"#ed7953\"],[0.7777777777777778,\"#fb9f3a\"],[0.8888888888888888,\"#fdca26\"],[1.0,\"#f0f921\"]],\"diverging\":[[0,\"#8e0152\"],[0.1,\"#c51b7d\"],[0.2,\"#de77ae\"],[0.3,\"#f1b6da\"],[0.4,\"#fde0ef\"],[0.5,\"#f7f7f7\"],[0.6,\"#e6f5d0\"],[0.7,\"#b8e186\"],[0.8,\"#7fbc41\"],[0.9,\"#4d9221\"],[1,\"#276419\"]]},\"xaxis\":{\"gridcolor\":\"white\",\"linecolor\":\"white\",\"ticks\":\"\",\"title\":{\"standoff\":15},\"zerolinecolor\":\"white\",\"automargin\":true,\"zerolinewidth\":2},\"yaxis\":{\"gridcolor\":\"white\",\"linecolor\":\"white\",\"ticks\":\"\",\"title\":{\"standoff\":15},\"zerolinecolor\":\"white\",\"automargin\":true,\"zerolinewidth\":2},\"scene\":{\"xaxis\":{\"backgroundcolor\":\"#E5ECF6\",\"gridcolor\":\"white\",\"linecolor\":\"white\",\"showbackground\":true,\"ticks\":\"\",\"zerolinecolor\":\"white\",\"gridwidth\":2},\"yaxis\":{\"backgroundcolor\":\"#E5ECF6\",\"gridcolor\":\"white\",\"linecolor\":\"white\",\"showbackground\":true,\"ticks\":\"\",\"zerolinecolor\":\"white\",\"gridwidth\":2},\"zaxis\":{\"backgroundcolor\":\"#E5ECF6\",\"gridcolor\":\"white\",\"linecolor\":\"white\",\"showbackground\":true,\"ticks\":\"\",\"zerolinecolor\":\"white\",\"gridwidth\":2}},\"shapedefaults\":{\"line\":{\"color\":\"#2a3f5f\"}},\"annotationdefaults\":{\"arrowcolor\":\"#2a3f5f\",\"arrowhead\":0,\"arrowwidth\":1},\"geo\":{\"bgcolor\":\"white\",\"landcolor\":\"#E5ECF6\",\"subunitcolor\":\"white\",\"showland\":true,\"showlakes\":true,\"lakecolor\":\"white\"},\"title\":{\"x\":0.05},\"mapbox\":{\"style\":\"light\"}}},\"geo\":{\"domain\":{\"x\":[0.0,1.0],\"y\":[0.0,1.0]},\"center\":{},\"projection\":{\"type\":\"natural earth\"},\"showframe\":false,\"showcoastlines\":true,\"showocean\":true,\"oceancolor\":\"lightblue\",\"bgcolor\":\"#EAF4F4\"},\"coloraxis\":{\"colorbar\":{\"title\":{\"text\":\"Happiness\"},\"tickvals\":[1,4,7,10],\"orientation\":\"h\",\"yanchor\":\"bottom\",\"y\":1.02,\"xanchor\":\"center\",\"x\":0.5,\"thickness\":15,\"ticklen\":0,\"outlinewidth\":1,\"outlinecolor\":\"black\",\"bgcolor\":\"#EAF4F4\"},\"colorscale\":[[0.0,\"#440154\"],[0.1111111111111111,\"#482878\"],[0.2222222222222222,\"#3e4989\"],[0.3333333333333333,\"#31688e\"],[0.4444444444444444,\"#26828e\"],[0.5555555555555556,\"#1f9e89\"],[0.6666666666666666,\"#35b779\"],[0.7777777777777778,\"#6ece58\"],[0.8888888888888888,\"#b5de2b\"],[1.0,\"#fde725\"]],\"cmin\":1,\"cmax\":10},\"legend\":{\"tracegroupgap\":0},\"title\":{\"text\":\"World Happiness Score by Country\",\"x\":0.5},\"height\":500,\"width\":750,\"margin\":{\"r\":0,\"t\":60,\"l\":0,\"b\":0},\"paper_bgcolor\":\"#EAF4F4\",\"plot_bgcolor\":\"#EAF4F4\"},                        {\"responsive\": true}                    ).then(function(){\n",
       "                            \n",
       "var gd = document.getElementById('08b10843-b1e0-4ec9-b11d-2a88ae3fe004');\n",
       "var x = new MutationObserver(function (mutations, observer) {{\n",
       "        var display = window.getComputedStyle(gd).display;\n",
       "        if (!display || display === 'none') {{\n",
       "            console.log([gd, 'removed!']);\n",
       "            Plotly.purge(gd);\n",
       "            observer.disconnect();\n",
       "        }}\n",
       "}});\n",
       "\n",
       "// Listen for the removal of the full notebook cells\n",
       "var notebookContainer = gd.closest('#notebook-container');\n",
       "if (notebookContainer) {{\n",
       "    x.observe(notebookContainer, {childList: true});\n",
       "}}\n",
       "\n",
       "// Listen for the clearing of the current output cell\n",
       "var outputEl = gd.closest('.output');\n",
       "if (outputEl) {{\n",
       "    x.observe(outputEl, {childList: true});\n",
       "}}\n",
       "\n",
       "                        })                };            </script>        </div>"
      ]
     },
     "metadata": {},
     "output_type": "display_data"
    }
   ],
   "source": [
    "import pandas as pd\n",
    "import plotly.express as px\n",
    "\n",
    "df = pd.read_csv('final.csv')\n",
    "\n",
    "fig = px.choropleth(\n",
    "    df,\n",
    "    locations='Country',\n",
    "    locationmode='country names',\n",
    "    color='Happiness',\n",
    "    hover_name='Country',\n",
    "    color_continuous_scale='Viridis',\n",
    "    range_color=(1, 10),\n",
    "    title='World Happiness Score by Country',\n",
    "    width=750,\n",
    "    height=500\n",
    ")\n",
    "\n",
    "fig.update_layout(\n",
    "    geo=dict(\n",
    "        showframe=False,\n",
    "        showcoastlines=True,\n",
    "        projection_type='natural earth',\n",
    "        showocean=True,\n",
    "        oceancolor='lightblue',\n",
    "        bgcolor='#EAF4F4'              \n",
    "    ),\n",
    "    coloraxis_colorbar=dict(\n",
    "        tickvals=[1, 4, 7, 10],\n",
    "        orientation='h',\n",
    "        yanchor='bottom',\n",
    "        y=1.02,\n",
    "        xanchor='center',\n",
    "        x=0.5,\n",
    "        thickness=15,\n",
    "        ticklen=0,\n",
    "        outlinewidth=1,\n",
    "        outlinecolor='black',\n",
    "        bgcolor='#EAF4F4'\n",
    "    ),\n",
    "    title_x=0.5,\n",
    "    paper_bgcolor='#EAF4F4',\n",
    "    plot_bgcolor='#EAF4F4',\n",
    "    margin={\"r\":0,\"t\":60,\"l\":0,\"b\":0}\n",
    ")\n",
    "\n",
    "fig.show()\n"
   ]
  },
  {
   "cell_type": "code",
   "execution_count": 9,
   "id": "4d5f346a",
   "metadata": {
    "tags": [
     "remove-input"
    ]
   },
   "outputs": [
    {
     "data": {
      "text/html": [
       "        <script type=\"text/javascript\">\n",
       "        window.PlotlyConfig = {MathJaxConfig: 'local'};\n",
       "        if (window.MathJax && window.MathJax.Hub && window.MathJax.Hub.Config) {window.MathJax.Hub.Config({SVG: {font: \"STIX-Web\"}});}\n",
       "        </script>\n",
       "        <script type=\"module\">import \"https://cdn.plot.ly/plotly-3.0.1.min\"</script>\n",
       "        "
      ]
     },
     "metadata": {},
     "output_type": "display_data"
    },
    {
     "data": {
      "application/vnd.plotly.v1+json": {
       "config": {
        "plotlyServerURL": "https://plot.ly"
       },
       "data": [
        {
         "customdata": {
          "bdata": "AQACAAMABQAGAAcACQAKAAwADQAOAA8AEAARABIAEwAVABcAHAAdAB4AHwAhACIAJAAmACcAKAAqACsALAAtAC4AMAAxADIANQA2ADcAOAA5ADoAOwA8AD8AQABCAEQARQBIAEkASwBSAFMAVgBdAGQAZgBoAGkAbwByAHQAfQCAAA==",
          "dtype": "i2"
         },
         "hovertemplate": "Country: %{text}<br>Rank: %{customdata} out of 133<br>Gini Index: %{x:.1f}<br>Happiness: %{y:.2f}<extra></extra>",
         "mode": "markers",
         "name": "Gini Index",
         "text": [
          "Finland",
          "Denmark",
          "Norway",
          "Netherlands",
          "Switzerland",
          "Sweden",
          "Canada",
          "Austria",
          "Costa Rica",
          "Israel",
          "Luxembourg",
          "United Kingdom",
          "Ireland",
          "Germany",
          "Belgium",
          "United States",
          "Malta",
          "France",
          "Spain",
          "Panama",
          "Brazil",
          "Uruguay",
          "El Salvador",
          "Italy",
          "Poland",
          "Lithuania",
          "Colombia",
          "Slovenia",
          "Kosovo",
          "Argentina",
          "Romania",
          "Cyprus",
          "Ecuador",
          "Thailand",
          "Latvia",
          "Estonia",
          "Japan",
          "Honduras",
          "Kazakhstan",
          "Bolivia",
          "Hungary",
          "Paraguay",
          "Peru",
          "Portugal",
          "Serbia",
          "Moldova",
          "Montenegro",
          "Croatia",
          "Dominican Republic",
          "Belarus",
          "Greece",
          "North Macedonia",
          "Indonesia",
          "China",
          "Bulgaria",
          "Albania",
          "Armenia",
          "Georgia",
          "Mauritania",
          "Mozambique",
          "Sri Lanka",
          "Ukraine",
          "Uganda",
          "Zimbabwe",
          "Malawi"
         ],
         "type": "scatter",
         "visible": true,
         "x": {
          "bdata": "MzMzMzOzO0AzMzMzM7M7QDMzMzMzsztAMzMzMzMzPUAAAAAAAABBQM3MzMzMTD1AMzMzMzOzP0AzMzMzMzM+QJqZmZmZGUhAZmZmZmYmQ0CamZmZmRlBQGZmZmZmZkBAzczMzMxMPkDNzMzMzMw/QDMzMzMzMztAMzMzMzPzREAAAAAAAAA/QDMzMzMzMz9AZmZmZmYmQUBmZmZmZuZIQAAAAAAAwEpAmpmZmZnZQ0BmZmZmZmZDQM3MzMzMTEFAzczMzMzMPEBmZmZmZqZBQGZmZmZmpklAZmZmZmZmOECamZmZmRlEQGZmZmZmpkVAZmZmZmZmQUAzMzMzMzM/QJqZmZmZ2UZAMzMzMzNzQUAAAAAAAEBBQM3MzMzMzD5AAAAAAACAQECamZmZmRlIQAAAAAAAADxAzczMzMzMREAAAAAAAAA+QJqZmZmZ2UZAAAAAAADAREBmZmZmZmZAQAAAAAAAQEFAAAAAAAAAOkCamZmZmdlBQGZmZmZm5jxAMzMzMzPzREDNzMzMzEw5QM3MzMzMjEBAAAAAAADAQEAzMzMzM7NBQJqZmZmZGUNAZmZmZmYmRECamZmZmRk+QAAAAAAAAD5AMzMzMzPzQUAAAAAAAABAQGZmZmZmJklAmpmZmZnZQkCamZmZmZk6QJqZmZmZWUVAZmZmZmYmSUAAAAAAAEBDQA==",
          "dtype": "f8"
         },
         "y": {
          "bdata": "+n5qvHQTH0BmZmZmZmYeQJ7vp8ZLNx5AwcqhRbbzHUDsUbgehesdQKwcWmQ7Xx1A6SYxCKwcHUCWQ4ts5/scQF66SQwCqxxAdZMYBFaOHEBcj8L1KFwcQJ7vp8ZLNxxAL90kBoEVHEBxPQrXo/AbQP7UeOkmsRtAxSCwcmiRG0CBlUOLbOcaQJHtfD81XhpA0SLb+X5qGUBiEFg5tEgZQDMzMzMzMxlAeekmMQgsGUBQjZduEgMZQDEIrBxa5BhA7nw/NV66GEB/arx0k5gYQAAAAAAAgBhARrbz/dR4GEBmZmZmZmYYQPLSTWIQWBhASOF6FK5HGEDJdr6fGi8YQOkmMQisHBhA1XjpJjEIGEDD9Shcj8IXQN9PjZdukhdAJQaBlUOLF0BxPQrXo3AXQCPb+X5qPBdABFYOLbIdF0DVeOkmMQgXQEa28/3U+BZAfT81XrrJFkASg8DKocUWQLbz/dR4aRZABFYOLbIdFkBkO99PjRcWQO58PzVeuhVAMzMzMzOzFUCYbhKDwEoVQNnO91PjJRVAf2q8dJMYFUD4U+Olm8QUQN0kBoGVwxRAJQaBlUMLFEDHSzeJQeASQCPb+X5qPBJA+n5qvHQTEkD2KFyPwvURQHe+nxov3RFAEFg5tMh2EUCHFtnO91MRQKjGSzeJwRBA5/up8dJNDUBI4XoUrkcLQA==",
          "dtype": "f8"
         }
        },
        {
         "customdata": {
          "bdata": "AQACAAMABAAFAAYABwAIAAkACgALAAwADQAOAA8AEAARABIAEwAUABUAFgAXABgAGQAaABsAHAAdAB4AHwAgACEAIgAjACQAJQAmACcAKAApACoAKwAsAC0ALgAvADAAMQAyADMANAA1ADYANwA4ADkAOgA7ADwAPQA+AD8AQABBAEIAQwBEAEUARgBHAEgASQBKAEsATABNAE4ATwBPAFEAUgBTAFQAVQBWAFcAWABZAFoAWwBcAF0AXgBfAGAAYQBiAGMAZABlAGYAZwBoAGkAagBrAGwAbQBuAG8AcABxAHIAcwB0AHUAdgB3AHgAeQB6AHsAfAB9AH4AfwCAAIEAggCDAIQA",
          "dtype": "i2"
         },
         "hovertemplate": "Country: %{text}<br>Rank: %{customdata} out of 133<br>GDP per Capita: $%{x:,.0f}<br>Happiness: %{y:.2f}<extra></extra>",
         "mode": "markers",
         "name": "GDP per Capita",
         "text": [
          "Finland",
          "Denmark",
          "Norway",
          "Iceland",
          "Netherlands",
          "Switzerland",
          "Sweden",
          "New Zealand",
          "Canada",
          "Austria",
          "Australia",
          "Costa Rica",
          "Israel",
          "Luxembourg",
          "United Kingdom",
          "Ireland",
          "Germany",
          "Belgium",
          "United States",
          "United Arab Emirates",
          "Malta",
          "Mexico",
          "France",
          "Chile",
          "Guatemala",
          "Saudi Arabia",
          "Qatar",
          "Spain",
          "Panama",
          "Brazil",
          "Uruguay",
          "Singapore",
          "El Salvador",
          "Italy",
          "Bahrain",
          "Poland",
          "Uzbekistan",
          "Lithuania",
          "Colombia",
          "Slovenia",
          "Nicaragua",
          "Kosovo",
          "Argentina",
          "Romania",
          "Cyprus",
          "Ecuador",
          "Kuwait",
          "Thailand",
          "Latvia",
          "Estonia",
          "Jamaica",
          "Mauritius",
          "Japan",
          "Honduras",
          "Kazakhstan",
          "Bolivia",
          "Hungary",
          "Paraguay",
          "Peru",
          "Portugal",
          "Pakistan",
          "Philippines",
          "Serbia",
          "Moldova",
          "Libya",
          "Montenegro",
          "Tajikistan",
          "Croatia",
          "Dominican Republic",
          "Bosnia and Herzegovina",
          "Malaysia",
          "Belarus",
          "Greece",
          "Mongolia",
          "North Macedonia",
          "Nigeria",
          "Turkmenistan",
          "Algeria",
          "Morocco",
          "Azerbaijan",
          "Lebanon",
          "Indonesia",
          "China",
          "Bhutan",
          "Cameroon",
          "Bulgaria",
          "Ghana",
          "Nepal",
          "Jordan",
          "Benin",
          "Gabon",
          "South Africa",
          "Albania",
          "Cambodia",
          "Senegal",
          "Somalia",
          "Namibia",
          "Niger",
          "Burkina Faso",
          "Armenia",
          "Guinea",
          "Georgia",
          "Kenya",
          "Mauritania",
          "Mozambique",
          "Tunisia",
          "Bangladesh",
          "Iraq",
          "Mali",
          "Sierra Leone",
          "Sri Lanka",
          "Myanmar",
          "Chad",
          "Ukraine",
          "Ethiopia",
          "Uganda",
          "Zambia",
          "Togo",
          "India",
          "Liberia",
          "Comoros",
          "Madagascar",
          "Lesotho",
          "Burundi",
          "Zimbabwe",
          "Haiti",
          "Botswana",
          "Malawi",
          "Rwanda",
          "Tanzania",
          "Afghanistan",
          "Central African Republic"
         ],
         "type": "scatter",
         "visible": false,
         "x": {
          "bdata": "C9KMRVJp5kAId2ftU+PrQHugFZiEuvJAti3KbK0S7EAVxhaCwAzoQJCIKZE6RfVAN/3Zj5v06UCetdsuf9njQCTW4lOJBeZAp3Sw/tG65kCXkA96l8XsQJEPejbTJslA3J2129Qw40BGlPYGajX6QJynOuRHEOdAMj1hCdPT8kDu68A59JXlQOOqsu/M/+RAat5xihH77UCrWz0nhNnkQIBIv3130txA+mGE8LjXw0APnDOiJubiQG9kHvlLn8pA1NfzNR8rsEAsfeiCvlPXQGrBi77O+O5Aj6UPXeig20C/gjRjRXnOQDvgumK4IcFA5bM8D5xX0UD3zJIAtfLtQJz4akcdL7BAzF1LyBtt30COzCN/akrYQEAwR4+nus1AMpI9Qr12qUB/wW7YXiDRQH7IW672J7lAQ8U4f8th10Dh8e1ds4+fQNQP6iIRe7BAAyZw6zLRyEC4rwPnPAPGQHEbDeBx9NtAlnmrrmNTt0DF/rJ7DvXZQOXtCKeJIrlArfpcbTHwzUATRN0H+BjUQF5pGamnqbRACFVq9nhmxUBfB84ZeZnhQG1y+KQ7H6NAFhObj9d2xUA+ITtvw5CpQF9BmrHMdc1A0jb+RIljuECnIhXGQuK5QOlILv9LENVAar+1E1WXmEAtr1xvw++rQOYjKenB1rpAZcOaylrdqkA3iNaKNCDBQGH7yRgvBL5AVHHjFmPxkUABNbVsnZjMQJ63sdn9AcBActwpHUzPtUD5FADjfUvFQHwo0ZK/e7hABoGVQyvE0kBZTdcT0fGwQDUqcLKVSbdAFCLgEBL/okB9z0iEKj66QLMKmwGqQLJAp5IBoHpJqkDovTEEdOS0QDTY1HkMgL9AUfaWcs4VrkAXDoRkwdXDQDunWaDFFqtAvr9Be0X5lkBIGXEBZAfAQPksz4M7OZ9ASiTRy3jUkEBLyt3nIJ6uQPJetTKxaJFAIZOMnJGhukCkUuxo1JC3QKUuGcdEvrFA6s9+pEhhn0CALa9cb46VQMjyCTTz6H5A3uUivheTsEADKnf6fKGAQAhCDTosaIZAnrRwWXX3sEDeAZ60YPOMQEvLSL3Pb7NAndoZpta2mUD4VE57ihSZQG7dzVMdSYNAbLHbZ/U6sEAiUz4E1XCYQNtOWyMmIrNAiCk2i1zGh0ABbECE6DCQQICdmzZvarFAmYOgo/WDlkDEsS5u47aDQApI+x8ovKJAGDhF7Bg0iED/sKVHg8eMQCJPkq65VJRAaE6o8RxUiUD1nsppH0CeQI7aDleY5YNA3Esao3W1lUCBXyNJcDR9QP94r1r5Q5BAtRH0vABccECInpRJPRmVQAUYlj+vyZVAdT48S7gnu0BwWSoU7s6BQLwGfekdVYtAMVwdABFvkEBZs4Rr5G6BQEnFtZA2HXlA",
          "dtype": "f8"
         },
         "y": {
          "bdata": "+n5qvHQTH0BmZmZmZmYeQJ7vp8ZLNx5AYOXQItv5HUDByqFFtvMdQOxRuB6F6x1ArBxaZDtfHUDufD81XjodQOkmMQisHB1AlkOLbOf7HEC28/3UeOkcQF66SQwCqxxAdZMYBFaOHEBcj8L1KFwcQJ7vp8ZLNxxAL90kBoEVHEBxPQrXo/AbQP7UeOkmsRtAxSCwcmiRG0DNzMzMzEwbQIGVQ4ts5xpA4XoUrkdhGkCR7Xw/NV4aQC2yne+nxhlAWDm0yHa+GUAAAAAAAIAZQOXQItv5fhlA0SLb+X5qGUBiEFg5tEgZQDMzMzMzMxlAeekmMQgsGUA/NV66SQwZQFCNl24SAxlAMQisHFrkGECyne+nxssYQO58PzVeuhhAGQRWDi2yGEB/arx0k5gYQAAAAAAAgBhARrbz/dR4GEDsUbgehWsYQGZmZmZmZhhA8tJNYhBYGEBI4XoUrkcYQMl2vp8aLxhA6SYxCKwcGEAv3SQGgRUYQNV46SYxCBhAw/UoXI/CF0DfT42XbpIXQI/C9ShcjxdAWmQ730+NF0AlBoGVQ4sXQHE9CtejcBdAI9v5fmo8F0AEVg4tsh0XQNV46SYxCBdARrbz/dT4FkB9PzVeuskWQBKDwMqhxRZA6SYxCKycFkCgGi/dJIYWQLbz/dR4aRZABFYOLbIdFkCamZmZmRkWQGQ730+NFxZAke18PzXeFUDufD81XroVQDMzMzMzsxVAJQaBlUOLFUBCYOXQIlsVQJhuEoPAShVA2c73U+MlFUCkcD0K1yMVQH9qvHSTGBVAj8L1KFwPFUCwcmiR7fwUQPLSTWIQ2BRAokW28/3UFECiRbbz/dQUQH0/NV66yRRA+FPjpZvEFEDdJAaBlcMUQIcW2c73UxRAkxgEVg4tFEAlBoGVQwsUQJZDi2zn+xNA9P3UeOmmE0A5tMh2vp8TQNV46SYxiBNAGQRWDi0yE0AX2c73U+MSQMdLN4lB4BJAzczMzMzMEkDTTWIQWLkSQHnpJjEIrBJAdZMYBFaOEkBQjZduEoMSQAwCK4cWWRJAI9v5fmo8EkCJQWDl0CISQPp+arx0ExJA8KfGSzcJEkD2KFyPwvURQHe+nxov3RFA8tJNYhDYEUBt5/up8dIRQHNoke18vxFAj8L1KFyPEUDl0CLb+X4RQBBYObTIdhFAcT0K16NwEUBmZmZmZmYRQIcW2c73UxFAvp8aL90kEUCoxks3icEQQCGwcmiRbRBA16NwPQpXEECPwvUoXA8QQM3MzMzMzA9AYhBYObTID0AQWDm0yHYPQNEi2/l+ag5AMzMzMzMzDkDn+6nx0k0NQC2yne+nxgxAgZVDi2znC0BI4XoUrkcLQHnpJjEIrApADAIrhxbZCUA5tMh2vp8JQESLbOf7qQhA",
          "dtype": "f8"
         }
        },
        {
         "customdata": {
          "bdata": "AQACAAMABQAGAAcACAAJAAoACwAMAA0ADgAPABAAEQASABMAFAAVABYAFwAYABkAHAAdAB4AHwAhACIAIwAkACYAJwAoACkAKgArACwALQAuAC8AMQAyADMANAA1ADYANwA4ADkAOgA7ADwAPQA+AD8AQABBAEIAQwBEAEUARgBHAEgASQBKAEsATgBPAFEAUgBTAFQAVQBWAFcAWABaAFsAXABdAF4AXwBgAGEAYgBjAGQAZQBmAGcAaABpAGoAbABtAG4AbwBxAHIAcwB0AHYAdwB5AHoAewB8AH0AfgB/AIEAggCEAA==",
          "dtype": "i2"
         },
         "hovertemplate": "Country: %{text}<br>Rank: %{customdata} out of 133<br>GNI per Capita: $%{x:,.0f}<br>Happiness: %{y:.2f}<extra></extra>",
         "mode": "markers",
         "name": "GNI per Capita",
         "text": [
          "Finland",
          "Denmark",
          "Norway",
          "Netherlands",
          "Switzerland",
          "Sweden",
          "New Zealand",
          "Canada",
          "Austria",
          "Australia",
          "Costa Rica",
          "Israel",
          "Luxembourg",
          "United Kingdom",
          "Ireland",
          "Germany",
          "Belgium",
          "United States",
          "United Arab Emirates",
          "Malta",
          "Mexico",
          "France",
          "Chile",
          "Guatemala",
          "Spain",
          "Panama",
          "Brazil",
          "Uruguay",
          "El Salvador",
          "Italy",
          "Bahrain",
          "Poland",
          "Lithuania",
          "Colombia",
          "Slovenia",
          "Nicaragua",
          "Kosovo",
          "Argentina",
          "Romania",
          "Cyprus",
          "Ecuador",
          "Kuwait",
          "Latvia",
          "Estonia",
          "Jamaica",
          "Mauritius",
          "Japan",
          "Honduras",
          "Kazakhstan",
          "Bolivia",
          "Hungary",
          "Paraguay",
          "Peru",
          "Portugal",
          "Pakistan",
          "Philippines",
          "Serbia",
          "Moldova",
          "Libya",
          "Montenegro",
          "Tajikistan",
          "Croatia",
          "Dominican Republic",
          "Bosnia and Herzegovina",
          "Malaysia",
          "Belarus",
          "Greece",
          "Mongolia",
          "North Macedonia",
          "Algeria",
          "Morocco",
          "Lebanon",
          "Indonesia",
          "China",
          "Bhutan",
          "Cameroon",
          "Bulgaria",
          "Ghana",
          "Nepal",
          "Benin",
          "Gabon",
          "South Africa",
          "Albania",
          "Cambodia",
          "Senegal",
          "Somalia",
          "Namibia",
          "Niger",
          "Burkina Faso",
          "Armenia",
          "Guinea",
          "Georgia",
          "Kenya",
          "Mauritania",
          "Mozambique",
          "Tunisia",
          "Iraq",
          "Mali",
          "Sierra Leone",
          "Sri Lanka",
          "Chad",
          "Ukraine",
          "Ethiopia",
          "Uganda",
          "Togo",
          "India",
          "Comoros",
          "Madagascar",
          "Lesotho",
          "Burundi",
          "Zimbabwe",
          "Haiti",
          "Botswana",
          "Rwanda",
          "Tanzania",
          "Central African Republic"
         ],
         "type": "scatter",
         "visible": false,
         "x": {
          "bdata": "SL99HTiZ5kAQkgVMgJXsQE9AE2GM9vJA9fOmIiUo50AWMIFbKg/0QIW2nEulm+pAsBu2LfT740BEaW/wt+jlQJgXYB/whOZASfQyimJ57EBo0NA/ObjHQLbWFwmlZ+NASBtHrNZ68UDXNO84qPvmQOQUHcmkLuxA7BLVWwvx5UAt7GmHMUvlQLG/7J5MUu5A0csolqz05EBznUZaJAnaQHB4QURiRcNAmZ6wxPpO40AH8BZI+JzJQBPvAE9avq9AN8MN+B5k20C7Cik/warMQKn26Xh4rMBAfsaFAyt20EATRN0HAMKuQJWfVPuCyN9Ay2d5Hkzq1kCJeyx94H7MQJbP8jxAXdBANUBpqPGYuEAhWcAEDkfXQNjyyvX2ap5ATmA6rcvbsEA2WaMeYtLHQPGAsilXr8VA08H6P4Vv2kBRg2kY0qe2QDj4wmS0391AC7WmeeeAz0CEEmbaVLnTQCeIug/8ErRAHsTOFJpuxkBiodY0OTriQK8I/reSoKFAXMtkOAJCwkAvou2YsgSpQFvTvOPEZcxAVcA9z9+jt0C2SxsOg++4QIiAQ6hIp9RAV8wIbw8nmECHvyZrRKquQCQrvwzqdblAxD4BFPtKrED2C3bDxnTBQK2+uirAXr5Ayy2thmQIlUB3Z+22R4DMQOgwX16UjL5Apki+EnTFtUBF8L+VkMTEQKjixi12vbdAdAzIXn040kA/cQD9TrGtQL0eTIqzJrZAfXpsy6DhsUBZbf5fxeOpQF3hXS4Cqr5AqFSJsjcqrUCoHf6a9MfDQGN+bmiy4KhA3UQtza15lkCYF2AfFQK/QGCxhoss8Z1AWaSJd0AEkUCbr5KPjVKRQGghAaMLXbdAfR8OEsp4t0DTakjcs4axQFSOyeJu6Z1A2ZQrvJv8lEBCIadUrsd+QBlybD0nI7BAOSxotatlgUD2P2WhklyFQD5eSIdbOrFATosLUX+1jEDPo+L/eo2yQElNu5g2SZlA0xIroyGmmEDGRf8Vs/KCQMbdIFr7oq9AtXBZhT0Es0D1udqKPdeGQADICRMGBZBAjBGJQqvusEDP7W8ajGCDQOlg/Z9T/aJAr+DITQ4OiECc0NojugCMQJZl4xywaIlAxoUDIan2nUBmE2BYLtCVQG24frDiNHxAqYO8Hmx9k0A9x5EY7mlwQLHeqBWmnJRA+FJ40HzdlUAoJ9pVYCi7QGRiqeRybIpASPje30AskECUhhqFROt6QA==",
          "dtype": "f8"
         },
         "y": {
          "bdata": "+n5qvHQTH0BmZmZmZmYeQJ7vp8ZLNx5AwcqhRbbzHUDsUbgehesdQKwcWmQ7Xx1A7nw/NV46HUDpJjEIrBwdQJZDi2zn+xxAtvP91HjpHEBeukkMAqscQHWTGARWjhxAXI/C9ShcHECe76fGSzccQC/dJAaBFRxAcT0K16PwG0D+1HjpJrEbQMUgsHJokRtAzczMzMxMG0CBlUOLbOcaQOF6FK5HYRpAke18PzVeGkAtsp3vp8YZQFg5tMh2vhlA0SLb+X5qGUBiEFg5tEgZQDMzMzMzMxlAeekmMQgsGUBQjZduEgMZQDEIrBxa5BhAsp3vp8bLGEDufD81XroYQH9qvHSTmBhAAAAAAACAGEBGtvP91HgYQOxRuB6FaxhAZmZmZmZmGEDy0k1iEFgYQEjhehSuRxhAyXa+nxovGEDpJjEIrBwYQC/dJAaBFRhAw/UoXI/CF0DfT42XbpIXQI/C9ShcjxdAWmQ730+NF0AlBoGVQ4sXQHE9CtejcBdAI9v5fmo8F0AEVg4tsh0XQNV46SYxCBdARrbz/dT4FkB9PzVeuskWQBKDwMqhxRZA6SYxCKycFkCgGi/dJIYWQLbz/dR4aRZABFYOLbIdFkCamZmZmRkWQGQ730+NFxZAke18PzXeFUDufD81XroVQDMzMzMzsxVAJQaBlUOLFUBCYOXQIlsVQJhuEoPAShVA2c73U+MlFUCkcD0K1yMVQH9qvHSTGBVA8tJNYhDYFECiRbbz/dQUQH0/NV66yRRA+FPjpZvEFEDdJAaBlcMUQIcW2c73UxRAkxgEVg4tFEAlBoGVQwsUQJZDi2zn+xNA9P3UeOmmE0DVeOkmMYgTQBkEVg4tMhNAF9nO91PjEkDHSzeJQeASQM3MzMzMzBJA001iEFi5EkB56SYxCKwSQHWTGARWjhJAUI2XbhKDEkAMAiuHFlkSQCPb+X5qPBJAiUFg5dAiEkD6fmq8dBMSQPCnxks3CRJA9ihcj8L1EUB3vp8aL90RQPLSTWIQ2BFAc2iR7Xy/EUCPwvUoXI8RQOXQItv5fhFAEFg5tMh2EUBmZmZmZmYRQIcW2c73UxFAvp8aL90kEUCoxks3icEQQNejcD0KVxBAj8L1KFwPEEBiEFg5tMgPQBBYObTIdg9A0SLb+X5qDkAzMzMzMzMOQOf7qfHSTQ1ALbKd76fGDECBlUOLbOcLQHnpJjEIrApADAIrhxbZCUBEi2zn+6kIQA==",
          "dtype": "f8"
         }
        },
        {
         "hoverinfo": "skip",
         "line": {
          "color": "blue",
          "dash": "dash"
         },
         "mode": "lines",
         "name": "Trend Line",
         "type": "scatter",
         "visible": true,
         "x": {
          "bdata": "ZmZmZmZmOEAxYBoDprE4QPxZzp/l/DhAyFOCPCVIOUCTTTbZZJM5QF5H6nWk3jlAKkGeEuQpOkD1OlKvI3U6QMA0BkxjwDpAiy666KILO0BWKG6F4lY7QCIiIiIiojtA7RvWvmHtO0C4FYpboTg8QIQPPvjggzxATwnylCDPPEAaA6YxYBo9QOX8Wc6fZT1AsPYNa9+wPUB88MEHH/w9QEfqdaReRz5AEuQpQZ6SPkDe3d3d3d0+QKnXkXodKT9AdNFFF110P0A/y/mznL8/QIXiVihuBUBAa9+w9g0rQEBQ3ArFrVBAQDbZZJNNdkBAHNa+Ye2bQEAC0xgwjcFAQOfPcv4s50BAzMzMzMwMQUCyySabbDJBQJjGgGkMWEFAfsPaN6x9QUBjwDQGTKNBQEm9jtTryEFALrrooovuQUAUt0JxKxRCQPqznD/LOUJA37D2DWtfQkDFrVDcCoVCQKqqqqqqqkJAkKcEeUrQQkB2pF5H6vVCQFyhuBWKG0NAQZ4S5ClBQ0Amm2yyyWZDQAyYxoBpjENA8pQgTwmyQ0DYkXodqddDQL2O1OtI/UNAo4suuugiRECIiIiIiEhEQG6F4lYobkRAVII8JciTREA5f5bzZ7lEQB988MEH30RABHlKkKcERUDqdaReRypFQNBy/iznT0VAtm9Y+4Z1RUCbbLLJJptFQIBpDJjGwEVAZmZmZmbmRUBMY8A0BgxGQDJgGgOmMUZAF1100UVXRkD9Wc6f5XxGQOJWKG6FokZAyFOCPCXIRkCuUNwKxe1GQJNNNtlkE0dAeUqQpwQ5R0BeR+p1pF5HQEREREREhEdAKkGeEuSpR0AQPvjgg89HQPU6Uq8j9UdA2jesfcMaSEDANAZMY0BIQKYxYBoDZkhAjC666KKLSEBxKxS3QrFIQFcoboXi1khAPCXIU4L8SEAiIiIiIiJJQAgffPDBR0lA7RvWvmFtSUDTGDCNAZNJQLgViluhuElAnhLkKUHeSUCEDz744ANKQGoMmMaAKUpATwnylCBPSkA0BkxjwHRKQBoDpjFgmkpAAAAAAADASkA=",
          "dtype": "f8"
         },
         "y": {
          "bdata": "yxbCRItBGUCJfPJQJjgZQEfiIl3BLhlABEhTaVwlGUDCrYN19xsZQIATtIGSEhlAPnnkjS0JGUD83hSayP8YQLpERaZj9hhAeKp1sv7sGEA2EKa+meMYQPR11so02hhAstsG18/QGEBwQTfjascYQC6nZ+8FvhhA7AyY+6C0GECqcsgHPKsYQGjY+BPXoRhAJj4pIHKYGEDjo1ksDY8YQKEJijiohRhAX2+6REN8GEAd1epQ3nIYQNs6G115aRhAmaBLaRRgGEBXBnx1r1YYQBVsrIFKTRhA09HcjeVDGECRNw2agDoYQE+dPaYbMRhADQNusrYnGEDKaJ6+UR4YQInOzsrsFBhARzT/1ocLGEAEmi/jIgIYQML/X++9+BdAgGWQ+1jvF0A+y8AH9OUXQPww8ROP3BdAupYhICrTF0B4/FEsxckXQDZigjhgwBdA9MeyRPu2F0CyLeNQlq0XQHCTE10xpBdALvlDacyaF0DsXnR1Z5EXQKrEpIECiBdAaCrVjZ1+F0AmkAWaOHUXQOT1NabTaxdAoltmsm5iF0BfwZa+CVkXQB0nx8qkTxdA24z31j9GF0CZ8ifj2jwXQFdYWO91MxdAFb6I+xAqF0DTI7kHrCAXQJGJ6RNHFxdAT+8ZIOINF0ANVUosfQQXQMu6ejgY+xZAiCCrRLPxFkBHhttQTugWQAXsC13p3hZAwlE8aYTVFkCAt2x1H8wWQD4dnYG6whZA/ILNjVW5FkC66P2Z8K8WQHhOLqaLphZANrResiadFkD0GY++wZMWQLJ/v8pcihZAcOXv1veAFkAuSyDjkncWQOywUO8tbhZAqhaB+8hkFkBofLEHZFsWQCbi4RP/URZA5EcSIJpIFkCirUIsNT8WQGATczjQNRZAHXmjRGssFkDb3tNQBiMWQJlEBF2hGRZAV6o0aTwQFkAVEGV11wYWQNN1lYFy/RVAkdvFjQ30FUBPQfaZqOoVQA2nJqZD4RVAywxXst7XFUCJcoe+ec4VQEbYt8oUxRVABT7o1q+7FUDDoxjjSrIVQIAJSe/lqBVAPm95+4CfFUA=",
          "dtype": "f8"
         }
        },
        {
         "hoverinfo": "skip",
         "line": {
          "color": "blue",
          "dash": "dash"
         },
         "mode": "lines",
         "name": "Trend Line",
         "type": "scatter",
         "visible": false,
         "x": {
          "bdata": "tRH0vABccEC9vp3y0v2UQIc8/9pS8qJAr5mvPLxlq0Br+y/PkuyxQP8pCIBHJrZAk1jgMPxfukAnh7jhsJm+QN5aSMmyacFAKHK0IY2Gw0ByiSB6Z6PFQLygjNJBwMdABrj4KhzdyUBQz2SD9vnLQJrm0NvQFs5A8n4emtUZ0ECXilTGQijRQDyWivKvNtJA4aHAHh1F00CGrfZKilPUQCu5LHf3YdVA0MRio2Rw1kB10JjP0X7XQBrczvs+jdhAv+cEKKyb2UBk8zpUGaraQAn/cICGuNtArgqnrPPG3EBTFt3YYNXdQPghEwXO495AnS1JMTvy30ChnL8uVIDgQHOi2sSKB+FARaj1WsGO4UAYrhDx9xXiQOuzK4cuneJAvblGHWUk40CPv2Gzm6vjQGLFfEnSMuRANcuX3wi65EAH0bJ1P0HlQNnWzQt2yOVArNzooaxP5kB/4gM449bmQFHoHs4ZXudAI+45ZFDl50D281T6hmzoQMn5b5C98+hAm/+KJvR66UBtBaa8KgLqQEALwVJhiepAExHc6JcQ60DlFvd+zpfrQLccEhUFH+xAiiItqzum7EBdKEhBci3tQC8uY9eotO1AATR+bd877kDUOZkDFsPuQKc/tJlMSu9AeUXPL4PR70CmJfXiXCzwQJCoAi74b/BAeSsQeZOz8EBirh3ELvfwQEsxKw/KOvFANLQ4WmV+8UAeN0alAMLxQAe6U/CbBfJA8DxhOzdJ8kDav26G0ozyQMNCfNFt0PJArMWJHAkU80CVSJdnpFfzQH7LpLI/m/NAaE6y/dre80BR0b9IdiL0QDpUzZMRZvRAJNfa3qyp9EANWugpSO30QPbc9XTjMPVA318DwH509UDI4hALGrj1QLJlHla1+/VAm+groVA/9kCEazns64L2QG7uRjeHxvZAV3FUgiIK90BA9GHNvU33QCl3bxhZkfdAEvp8Y/TU90D8fIqujxj4QOX/l/kqXPhAzoKlRMaf+EC4BbOPYeP4QKGIwNr8JvlAigvOJZhq+UBzjttwM675QFwR6bvO8flARpT2Bmo1+kA=",
          "dtype": "f8"
         },
         "y": {
          "bdata": "K/UVNcGCE0AYLFDuwa4TQARjiqfC2hNA8ZnEYMMGFEDd0P4ZxDIUQMoHOdPEXhRAtj5zjMWKFECjda1FxrYUQI+s5/7G4hRAfOMhuMcOFUBoGlxxyDoVQFVRlirJZhVAQYjQ48mSFUAuvwqdyr4VQBr2RFbL6hVABy1/D8wWFkDzY7nIzEIWQOCa84HNbhZAzNEtO86aFkC5CGj0zsYWQKU/oq3P8hZAknbcZtAeF0B+rRYg0UoXQGrkUNnRdhdAVxuLktKiF0BEUsVL084XQDCJ/wTU+hdAHMA5vtQmGEAJ93N31VIYQPYtrjDWfhhA4mTo6daqGEDOmyKj19YYQLvSXFzYAhlApwmXFdkuGUCUQNHO2VoZQIB3C4jahhlAba5FQduyGUBZ5X/6294ZQEYcurPcChpAMlP0bN02GkAeii4m3mIaQAvBaN/ejhpA+PeimN+6GkDkLt1R4OYaQNBlFwvhEhtAvZxRxOE+G0Cq04t94mobQJYKxjbjlhtAgkEA8OPCG0BueDqp5O4bQFyvdGLlGhxASOauG+ZGHEA0HenU5nIcQCBUI47nnhxADotdR+jKHED6wZcA6fYcQOb40bnpIh1A0i8Mc+pOHUC/ZkYs63odQKydgOXrph1AmNS6nuzSHUCFC/VX7f4dQHJCLxHuKh5AXnlpyu5WHkBKsKOD74IeQDfn3Tzwrh5AIx4Y9vDaHkAQVVKv8QYfQPyLjGjyMh9A6MLGIfNeH0DW+QDb84ofQMIwO5T0th9Armd1TfXiH0BNz1cDewcgQMTq9F97HSBAOgaSvHszIECwIS8ZfEkgQCY9zHV8XyBAnVhp0nx1IEATdAYvfYsgQImPo4t9oSBA/6pA6H23IEB2xt1Efs0gQOzheqF+4yBAYv0X/n75IEDYGLVafw8hQE80Urd/JSFAxU/vE4A7IUA7a4xwgFEhQLGGKc2AZyFAJ6LGKYF9IUCevWOGgZMhQBTZAOOBqSFAivSdP4K/IUAAEDucgtUhQHcr2PiC6yFA7UZ1VYMBIkBjYhKygxciQNl9rw6ELSJAUJlMa4RDIkA=",
          "dtype": "f8"
         }
        },
        {
         "hoverinfo": "skip",
         "line": {
          "color": "blue",
          "dash": "dash"
         },
         "mode": "lines",
         "name": "Trend Line",
         "type": "scatter",
         "visible": false,
         "x": {
          "bdata": "PceRGO5pcEAPe7ASkweRQE+EPJ+q9J1AyEbkFeFwpUBoSyrcbOerQAQoOFH8LrFAVCpbNEJqtECkLH4XiKW3QPQuofrN4LpARDHE3RMcvkDKmXPgrKvAQPIaBdJPScJAGpyWw/Lmw0BCHSi1lYTFQGqeuaY4IsdAkh9LmNu/yEC6oNyJfl3KQOIhbnsh+8tACqP/bMSYzUAyJJFeZzbPQK1SESgFatBAQRPaoNY40UDV06IZqAfSQGmUa5J51tJA/VQ0C0ul00CRFf2DHHTUQCXWxfztQtVAuZaOdb8R1kBNV1fukODWQOEXIGdir9dAddjo3zN+2EAJmbFYBU3ZQJ1ZetHWG9pAMRpDSqjq2kDF2gvDebnbQFmb1DtLiNxA7VudtBxX3UCBHGYt7iXeQBXdLqa/9N5AqZ33HpHD30AeL+BLMUngQGiPRAiasOBAsu+oxAIY4UD8Tw2Ba3/hQEawcT3U5uFAkBDW+TxO4kDacDq2pbXiQCTRnnIOHeNAbjEDL3eE40C4kWfr3+vjQALyy6dIU+RATFIwZLG65ECWspQgGiLlQOAS+dyCieVAKnNdmevw5UB008FVVFjmQL4zJhK9v+ZACJSKziUn50BS9O6Kjo7nQJxUU0f39edA5rS3A2Bd6EAwFRzAyMToQHp1gHwxLOlAxNXkOJqT6UAONkn1AvvpQFiWrbFrYupAovYRbtTJ6kDsVnYqPTHrQDa32ualmOtAgBc/ow4A7EDKd6Nfd2fsQBTYBxzgzuxAXjhs2Eg27UComNCUsZ3tQPL4NFEaBe5APFmZDYNs7kCGuf3J69PuQNAZYoZUO+9AGnrGQr2i70AybZX/EgXwQFedx13HOPBAfM35u3ts8ECh/SsaMKDwQMYtXnjk0/BA612Q1pgH8UAQjsI0TTvxQDW+9JIBb/FAWu4m8bWi8UB/HllPatbxQKROi60eCvJAyX69C9M98kDuru9ph3HyQBPfIcg7pfJAOA9UJvDY8kBdP4aEpAzzQIJvuOJYQPNAp5/qQA1080DMzxyfwafzQPH/Tv112/NAFjCBWyoP9EA=",
          "dtype": "f8"
         },
         "y": {
          "bdata": "5UdzCkR0E0CTnc9qYZoTQEDzK8t+wBNA7kiIK5zmE0CcnuSLuQwUQEr0QOzWMhRA90mdTPRYFECln/msEX8UQFP1VQ0vpRRAAUuybUzLFECuoA7OafEUQFz2ai6HFxVACkzHjqQ9FUC4oSPvwWMVQGb3f0/fiRVAE03cr/yvFUDBojgQGtYVQG/4lHA3/BVAHE7x0FQiFkDKo00xckgWQHj5qZGPbhZAJk8G8qyUFkDUpGJSyroWQIH6vrLn4BZAL1AbEwUHF0DdpXdzIi0XQIv709M/UxdAOFEwNF15F0DmpoyUep8XQJT86PSXxRdAQlJFVbXrF0Dvp6G10hEYQJ39/RXwNxhAS1Nadg1eGED5qLbWKoQYQKb+EjdIqhhAVFRvl2XQGEACqsv3gvYYQLD/J1igHBlAXlWEuL1CGUALq+AY22gZQLkAPXn4jhlAZlaZ2RW1GUAUrPU5M9sZQMIBUppQARpAcFeu+m0nGkAerQpbi00aQMsCZ7uocxpAeVjDG8aZGkAnrh98478aQNQDfNwA5hpAglnYPB4MG0AwrzSdOzIbQN4Ekf1YWBtAjFrtXXZ+G0A6sEm+k6QbQOcFph6xyhtAlVsCf87wG0BCsV7f6xYcQPAGuz8JPRxAnlwXoCZjHEBMsnMARIkcQPoH0GBhrxxAqF0swX7VHEBVs4ghnPscQAMJ5YG5IR1AsF5B4tZHHUBetJ1C9G0dQAwK+qIRlB1Aul9WAy+6HUBotbJjTOAdQBYLD8RpBh5Aw2BrJIcsHkBxtseEpFIeQB4MJOXBeB5AzGGARd+eHkB6t9yl/MQeQCgNOQYa6x5A1mKVZjcRH0CEuPHGVDcfQDIOTidyXR9A32Oqh4+DH0CNuQborKkfQDoPY0jKzx9A6GS/qOf1H0BL3Y2EAg4gQCIIvDQRISBA+TLq5B80IEDQXRiVLkcgQKaIRkU9WiBAfrN09UttIEBU3qKlWoAgQCsJ0VVpkyBAAjT/BXimIEDZXi22hrkgQLCJW2aVzCBAh7SJFqTfIEBe37fGsvIgQDQK5nbBBSFACzUUJ9AYIUA=",
          "dtype": "f8"
         }
        }
       ],
       "layout": {
        "autosize": false,
        "height": 600,
        "hoverlabel": {
         "font": {
          "color": "black",
          "size": 12
         }
        },
        "legend": {
         "borderwidth": 0,
         "font": {
          "color": "black",
          "size": 12
         },
         "x": 0.01,
         "y": 0.99
        },
        "margin": {
         "b": 80,
         "l": 80,
         "r": 80,
         "t": 80
        },
        "paper_bgcolor": "#EDF1EC",
        "plot_bgcolor": "#EDF1EC",
        "showlegend": true,
        "sliders": [
         {
          "active": 0,
          "currentvalue": {
           "prefix": "Metric: "
          },
          "len": 0.9,
          "pad": {
           "t": 50
          },
          "steps": [
           {
            "args": [
             {
              "visible": [
               true,
               false,
               false,
               true,
               false,
               false
              ]
             },
             {
              "title": {
               "text": "Happiness vs Gini Index"
              },
              "xaxis": {
               "fixedrange": true,
               "range": [
                24.4,
                53.5
               ],
               "title": "Gini Index"
              },
              "yaxis": {
               "fixedrange": true,
               "range": [
                1,
                10
               ],
               "title": "Happiness"
              }
             }
            ],
            "label": "Gini Index",
            "method": "update"
           },
           {
            "args": [
             {
              "visible": [
               false,
               true,
               false,
               false,
               true,
               false
              ]
             },
             {
              "title": {
               "text": "Happiness vs GDP per Capita"
              },
              "xaxis": {
               "fixedrange": true,
               "range": [
                -5092.69364579,
                112705.07052599
               ],
               "title": "GDP per Capita (USD)"
              },
              "yaxis": {
               "fixedrange": true,
               "range": [
                1,
                10
               ],
               "title": "Happiness"
              }
             }
            ],
            "label": "GDP per Capita",
            "method": "update"
           },
           {
            "args": [
             {
              "visible": [
               false,
               false,
               true,
               false,
               false,
               true
              ]
             },
             {
              "title": {
               "text": "Happiness vs GNI per Capita"
              },
              "xaxis": {
               "fixedrange": true,
               "range": [
                -3832.380706655,
                86257.648675555
               ],
               "title": "GNI per Capita (USD)"
              },
              "yaxis": {
               "fixedrange": true,
               "range": [
                1,
                10
               ],
               "title": "Happiness"
              }
             }
            ],
            "label": "GNI per Capita",
            "method": "update"
           }
          ],
          "x": 0.1,
          "xanchor": "left"
         }
        ],
        "template": {
         "data": {
          "bar": [
           {
            "error_x": {
             "color": "#2a3f5f"
            },
            "error_y": {
             "color": "#2a3f5f"
            },
            "marker": {
             "line": {
              "color": "#E5ECF6",
              "width": 0.5
             },
             "pattern": {
              "fillmode": "overlay",
              "size": 10,
              "solidity": 0.2
             }
            },
            "type": "bar"
           }
          ],
          "barpolar": [
           {
            "marker": {
             "line": {
              "color": "#E5ECF6",
              "width": 0.5
             },
             "pattern": {
              "fillmode": "overlay",
              "size": 10,
              "solidity": 0.2
             }
            },
            "type": "barpolar"
           }
          ],
          "carpet": [
           {
            "aaxis": {
             "endlinecolor": "#2a3f5f",
             "gridcolor": "white",
             "linecolor": "white",
             "minorgridcolor": "white",
             "startlinecolor": "#2a3f5f"
            },
            "baxis": {
             "endlinecolor": "#2a3f5f",
             "gridcolor": "white",
             "linecolor": "white",
             "minorgridcolor": "white",
             "startlinecolor": "#2a3f5f"
            },
            "type": "carpet"
           }
          ],
          "choropleth": [
           {
            "colorbar": {
             "outlinewidth": 0,
             "ticks": ""
            },
            "type": "choropleth"
           }
          ],
          "contour": [
           {
            "colorbar": {
             "outlinewidth": 0,
             "ticks": ""
            },
            "colorscale": [
             [
              0,
              "#0d0887"
             ],
             [
              0.1111111111111111,
              "#46039f"
             ],
             [
              0.2222222222222222,
              "#7201a8"
             ],
             [
              0.3333333333333333,
              "#9c179e"
             ],
             [
              0.4444444444444444,
              "#bd3786"
             ],
             [
              0.5555555555555556,
              "#d8576b"
             ],
             [
              0.6666666666666666,
              "#ed7953"
             ],
             [
              0.7777777777777778,
              "#fb9f3a"
             ],
             [
              0.8888888888888888,
              "#fdca26"
             ],
             [
              1,
              "#f0f921"
             ]
            ],
            "type": "contour"
           }
          ],
          "contourcarpet": [
           {
            "colorbar": {
             "outlinewidth": 0,
             "ticks": ""
            },
            "type": "contourcarpet"
           }
          ],
          "heatmap": [
           {
            "colorbar": {
             "outlinewidth": 0,
             "ticks": ""
            },
            "colorscale": [
             [
              0,
              "#0d0887"
             ],
             [
              0.1111111111111111,
              "#46039f"
             ],
             [
              0.2222222222222222,
              "#7201a8"
             ],
             [
              0.3333333333333333,
              "#9c179e"
             ],
             [
              0.4444444444444444,
              "#bd3786"
             ],
             [
              0.5555555555555556,
              "#d8576b"
             ],
             [
              0.6666666666666666,
              "#ed7953"
             ],
             [
              0.7777777777777778,
              "#fb9f3a"
             ],
             [
              0.8888888888888888,
              "#fdca26"
             ],
             [
              1,
              "#f0f921"
             ]
            ],
            "type": "heatmap"
           }
          ],
          "histogram": [
           {
            "marker": {
             "pattern": {
              "fillmode": "overlay",
              "size": 10,
              "solidity": 0.2
             }
            },
            "type": "histogram"
           }
          ],
          "histogram2d": [
           {
            "colorbar": {
             "outlinewidth": 0,
             "ticks": ""
            },
            "colorscale": [
             [
              0,
              "#0d0887"
             ],
             [
              0.1111111111111111,
              "#46039f"
             ],
             [
              0.2222222222222222,
              "#7201a8"
             ],
             [
              0.3333333333333333,
              "#9c179e"
             ],
             [
              0.4444444444444444,
              "#bd3786"
             ],
             [
              0.5555555555555556,
              "#d8576b"
             ],
             [
              0.6666666666666666,
              "#ed7953"
             ],
             [
              0.7777777777777778,
              "#fb9f3a"
             ],
             [
              0.8888888888888888,
              "#fdca26"
             ],
             [
              1,
              "#f0f921"
             ]
            ],
            "type": "histogram2d"
           }
          ],
          "histogram2dcontour": [
           {
            "colorbar": {
             "outlinewidth": 0,
             "ticks": ""
            },
            "colorscale": [
             [
              0,
              "#0d0887"
             ],
             [
              0.1111111111111111,
              "#46039f"
             ],
             [
              0.2222222222222222,
              "#7201a8"
             ],
             [
              0.3333333333333333,
              "#9c179e"
             ],
             [
              0.4444444444444444,
              "#bd3786"
             ],
             [
              0.5555555555555556,
              "#d8576b"
             ],
             [
              0.6666666666666666,
              "#ed7953"
             ],
             [
              0.7777777777777778,
              "#fb9f3a"
             ],
             [
              0.8888888888888888,
              "#fdca26"
             ],
             [
              1,
              "#f0f921"
             ]
            ],
            "type": "histogram2dcontour"
           }
          ],
          "mesh3d": [
           {
            "colorbar": {
             "outlinewidth": 0,
             "ticks": ""
            },
            "type": "mesh3d"
           }
          ],
          "parcoords": [
           {
            "line": {
             "colorbar": {
              "outlinewidth": 0,
              "ticks": ""
             }
            },
            "type": "parcoords"
           }
          ],
          "pie": [
           {
            "automargin": true,
            "type": "pie"
           }
          ],
          "scatter": [
           {
            "fillpattern": {
             "fillmode": "overlay",
             "size": 10,
             "solidity": 0.2
            },
            "type": "scatter"
           }
          ],
          "scatter3d": [
           {
            "line": {
             "colorbar": {
              "outlinewidth": 0,
              "ticks": ""
             }
            },
            "marker": {
             "colorbar": {
              "outlinewidth": 0,
              "ticks": ""
             }
            },
            "type": "scatter3d"
           }
          ],
          "scattercarpet": [
           {
            "marker": {
             "colorbar": {
              "outlinewidth": 0,
              "ticks": ""
             }
            },
            "type": "scattercarpet"
           }
          ],
          "scattergeo": [
           {
            "marker": {
             "colorbar": {
              "outlinewidth": 0,
              "ticks": ""
             }
            },
            "type": "scattergeo"
           }
          ],
          "scattergl": [
           {
            "marker": {
             "colorbar": {
              "outlinewidth": 0,
              "ticks": ""
             }
            },
            "type": "scattergl"
           }
          ],
          "scattermap": [
           {
            "marker": {
             "colorbar": {
              "outlinewidth": 0,
              "ticks": ""
             }
            },
            "type": "scattermap"
           }
          ],
          "scattermapbox": [
           {
            "marker": {
             "colorbar": {
              "outlinewidth": 0,
              "ticks": ""
             }
            },
            "type": "scattermapbox"
           }
          ],
          "scatterpolar": [
           {
            "marker": {
             "colorbar": {
              "outlinewidth": 0,
              "ticks": ""
             }
            },
            "type": "scatterpolar"
           }
          ],
          "scatterpolargl": [
           {
            "marker": {
             "colorbar": {
              "outlinewidth": 0,
              "ticks": ""
             }
            },
            "type": "scatterpolargl"
           }
          ],
          "scatterternary": [
           {
            "marker": {
             "colorbar": {
              "outlinewidth": 0,
              "ticks": ""
             }
            },
            "type": "scatterternary"
           }
          ],
          "surface": [
           {
            "colorbar": {
             "outlinewidth": 0,
             "ticks": ""
            },
            "colorscale": [
             [
              0,
              "#0d0887"
             ],
             [
              0.1111111111111111,
              "#46039f"
             ],
             [
              0.2222222222222222,
              "#7201a8"
             ],
             [
              0.3333333333333333,
              "#9c179e"
             ],
             [
              0.4444444444444444,
              "#bd3786"
             ],
             [
              0.5555555555555556,
              "#d8576b"
             ],
             [
              0.6666666666666666,
              "#ed7953"
             ],
             [
              0.7777777777777778,
              "#fb9f3a"
             ],
             [
              0.8888888888888888,
              "#fdca26"
             ],
             [
              1,
              "#f0f921"
             ]
            ],
            "type": "surface"
           }
          ],
          "table": [
           {
            "cells": {
             "fill": {
              "color": "#EBF0F8"
             },
             "line": {
              "color": "white"
             }
            },
            "header": {
             "fill": {
              "color": "#C8D4E3"
             },
             "line": {
              "color": "white"
             }
            },
            "type": "table"
           }
          ]
         },
         "layout": {
          "annotationdefaults": {
           "arrowcolor": "#2a3f5f",
           "arrowhead": 0,
           "arrowwidth": 1
          },
          "autotypenumbers": "strict",
          "coloraxis": {
           "colorbar": {
            "outlinewidth": 0,
            "ticks": ""
           }
          },
          "colorscale": {
           "diverging": [
            [
             0,
             "#8e0152"
            ],
            [
             0.1,
             "#c51b7d"
            ],
            [
             0.2,
             "#de77ae"
            ],
            [
             0.3,
             "#f1b6da"
            ],
            [
             0.4,
             "#fde0ef"
            ],
            [
             0.5,
             "#f7f7f7"
            ],
            [
             0.6,
             "#e6f5d0"
            ],
            [
             0.7,
             "#b8e186"
            ],
            [
             0.8,
             "#7fbc41"
            ],
            [
             0.9,
             "#4d9221"
            ],
            [
             1,
             "#276419"
            ]
           ],
           "sequential": [
            [
             0,
             "#0d0887"
            ],
            [
             0.1111111111111111,
             "#46039f"
            ],
            [
             0.2222222222222222,
             "#7201a8"
            ],
            [
             0.3333333333333333,
             "#9c179e"
            ],
            [
             0.4444444444444444,
             "#bd3786"
            ],
            [
             0.5555555555555556,
             "#d8576b"
            ],
            [
             0.6666666666666666,
             "#ed7953"
            ],
            [
             0.7777777777777778,
             "#fb9f3a"
            ],
            [
             0.8888888888888888,
             "#fdca26"
            ],
            [
             1,
             "#f0f921"
            ]
           ],
           "sequentialminus": [
            [
             0,
             "#0d0887"
            ],
            [
             0.1111111111111111,
             "#46039f"
            ],
            [
             0.2222222222222222,
             "#7201a8"
            ],
            [
             0.3333333333333333,
             "#9c179e"
            ],
            [
             0.4444444444444444,
             "#bd3786"
            ],
            [
             0.5555555555555556,
             "#d8576b"
            ],
            [
             0.6666666666666666,
             "#ed7953"
            ],
            [
             0.7777777777777778,
             "#fb9f3a"
            ],
            [
             0.8888888888888888,
             "#fdca26"
            ],
            [
             1,
             "#f0f921"
            ]
           ]
          },
          "colorway": [
           "#636efa",
           "#EF553B",
           "#00cc96",
           "#ab63fa",
           "#FFA15A",
           "#19d3f3",
           "#FF6692",
           "#B6E880",
           "#FF97FF",
           "#FECB52"
          ],
          "font": {
           "color": "#2a3f5f"
          },
          "geo": {
           "bgcolor": "white",
           "lakecolor": "white",
           "landcolor": "#E5ECF6",
           "showlakes": true,
           "showland": true,
           "subunitcolor": "white"
          },
          "hoverlabel": {
           "align": "left"
          },
          "hovermode": "closest",
          "mapbox": {
           "style": "light"
          },
          "paper_bgcolor": "white",
          "plot_bgcolor": "#E5ECF6",
          "polar": {
           "angularaxis": {
            "gridcolor": "white",
            "linecolor": "white",
            "ticks": ""
           },
           "bgcolor": "#E5ECF6",
           "radialaxis": {
            "gridcolor": "white",
            "linecolor": "white",
            "ticks": ""
           }
          },
          "scene": {
           "xaxis": {
            "backgroundcolor": "#E5ECF6",
            "gridcolor": "white",
            "gridwidth": 2,
            "linecolor": "white",
            "showbackground": true,
            "ticks": "",
            "zerolinecolor": "white"
           },
           "yaxis": {
            "backgroundcolor": "#E5ECF6",
            "gridcolor": "white",
            "gridwidth": 2,
            "linecolor": "white",
            "showbackground": true,
            "ticks": "",
            "zerolinecolor": "white"
           },
           "zaxis": {
            "backgroundcolor": "#E5ECF6",
            "gridcolor": "white",
            "gridwidth": 2,
            "linecolor": "white",
            "showbackground": true,
            "ticks": "",
            "zerolinecolor": "white"
           }
          },
          "shapedefaults": {
           "line": {
            "color": "#2a3f5f"
           }
          },
          "ternary": {
           "aaxis": {
            "gridcolor": "white",
            "linecolor": "white",
            "ticks": ""
           },
           "baxis": {
            "gridcolor": "white",
            "linecolor": "white",
            "ticks": ""
           },
           "bgcolor": "#E5ECF6",
           "caxis": {
            "gridcolor": "white",
            "linecolor": "white",
            "ticks": ""
           }
          },
          "title": {
           "x": 0.05
          },
          "xaxis": {
           "automargin": true,
           "gridcolor": "white",
           "linecolor": "white",
           "ticks": "",
           "title": {
            "standoff": 15
           },
           "zerolinecolor": "white",
           "zerolinewidth": 2
          },
          "yaxis": {
           "automargin": true,
           "gridcolor": "white",
           "linecolor": "white",
           "ticks": "",
           "title": {
            "standoff": 15
           },
           "zerolinecolor": "white",
           "zerolinewidth": 2
          }
         }
        },
        "title": {
         "font": {
          "color": "black"
         },
         "text": "Happiness vs Gini Index"
        },
        "width": 800,
        "xaxis": {
         "automargin": false,
         "fixedrange": true,
         "range": [
          24.4,
          53.5
         ],
         "tickfont": {
          "color": "black",
          "size": 12
         },
         "title": {
          "font": {
           "color": "black",
           "size": 14
          },
          "text": "Gini Index"
         }
        },
        "yaxis": {
         "automargin": false,
         "autorange": false,
         "dtick": 1,
         "fixedrange": true,
         "range": [
          1,
          10
         ],
         "tickfont": {
          "color": "black",
          "size": 12
         },
         "tickmode": "linear",
         "title": {
          "font": {
           "color": "black",
           "size": 14
          },
          "text": "Happiness"
         }
        }
       }
      },
      "text/html": [
       "<div>            <script src=\"https://cdnjs.cloudflare.com/ajax/libs/mathjax/2.7.5/MathJax.js?config=TeX-AMS-MML_SVG\"></script><script type=\"text/javascript\">if (window.MathJax && window.MathJax.Hub && window.MathJax.Hub.Config) {window.MathJax.Hub.Config({SVG: {font: \"STIX-Web\"}});}</script>                <script type=\"text/javascript\">window.PlotlyConfig = {MathJaxConfig: 'local'};</script>\n",
       "        <script charset=\"utf-8\" src=\"https://cdn.plot.ly/plotly-3.0.1.min.js\"></script>                <div id=\"06186d24-e400-4588-b223-40860e30d949\" class=\"plotly-graph-div\" style=\"height:600px; width:800px;\"></div>            <script type=\"text/javascript\">                window.PLOTLYENV=window.PLOTLYENV || {};                                if (document.getElementById(\"06186d24-e400-4588-b223-40860e30d949\")) {                    Plotly.newPlot(                        \"06186d24-e400-4588-b223-40860e30d949\",                        [{\"customdata\":{\"dtype\":\"i2\",\"bdata\":\"AQACAAMABQAGAAcACQAKAAwADQAOAA8AEAARABIAEwAVABcAHAAdAB4AHwAhACIAJAAmACcAKAAqACsALAAtAC4AMAAxADIANQA2ADcAOAA5ADoAOwA8AD8AQABCAEQARQBIAEkASwBSAFMAVgBdAGQAZgBoAGkAbwByAHQAfQCAAA==\"},\"hovertemplate\":\"Country: %{text}\\u003cbr\\u003eRank: %{customdata} out of 133\\u003cbr\\u003eGini Index: %{x:.1f}\\u003cbr\\u003eHappiness: %{y:.2f}\\u003cextra\\u003e\\u003c\\u002fextra\\u003e\",\"mode\":\"markers\",\"name\":\"Gini Index\",\"text\":[\"Finland\",\"Denmark\",\"Norway\",\"Netherlands\",\"Switzerland\",\"Sweden\",\"Canada\",\"Austria\",\"Costa Rica\",\"Israel\",\"Luxembourg\",\"United Kingdom\",\"Ireland\",\"Germany\",\"Belgium\",\"United States\",\"Malta\",\"France\",\"Spain\",\"Panama\",\"Brazil\",\"Uruguay\",\"El Salvador\",\"Italy\",\"Poland\",\"Lithuania\",\"Colombia\",\"Slovenia\",\"Kosovo\",\"Argentina\",\"Romania\",\"Cyprus\",\"Ecuador\",\"Thailand\",\"Latvia\",\"Estonia\",\"Japan\",\"Honduras\",\"Kazakhstan\",\"Bolivia\",\"Hungary\",\"Paraguay\",\"Peru\",\"Portugal\",\"Serbia\",\"Moldova\",\"Montenegro\",\"Croatia\",\"Dominican Republic\",\"Belarus\",\"Greece\",\"North Macedonia\",\"Indonesia\",\"China\",\"Bulgaria\",\"Albania\",\"Armenia\",\"Georgia\",\"Mauritania\",\"Mozambique\",\"Sri Lanka\",\"Ukraine\",\"Uganda\",\"Zimbabwe\",\"Malawi\"],\"visible\":true,\"x\":{\"dtype\":\"f8\",\"bdata\":\"MzMzMzOzO0AzMzMzM7M7QDMzMzMzsztAMzMzMzMzPUAAAAAAAABBQM3MzMzMTD1AMzMzMzOzP0AzMzMzMzM+QJqZmZmZGUhAZmZmZmYmQ0CamZmZmRlBQGZmZmZmZkBAzczMzMxMPkDNzMzMzMw\\u002fQDMzMzMzMztAMzMzMzPzREAAAAAAAAA\\u002fQDMzMzMzMz9AZmZmZmYmQUBmZmZmZuZIQAAAAAAAwEpAmpmZmZnZQ0BmZmZmZmZDQM3MzMzMTEFAzczMzMzMPEBmZmZmZqZBQGZmZmZmpklAZmZmZmZmOECamZmZmRlEQGZmZmZmpkVAZmZmZmZmQUAzMzMzMzM\\u002fQJqZmZmZ2UZAMzMzMzNzQUAAAAAAAEBBQM3MzMzMzD5AAAAAAACAQECamZmZmRlIQAAAAAAAADxAzczMzMzMREAAAAAAAAA+QJqZmZmZ2UZAAAAAAADAREBmZmZmZmZAQAAAAAAAQEFAAAAAAAAAOkCamZmZmdlBQGZmZmZm5jxAMzMzMzPzREDNzMzMzEw5QM3MzMzMjEBAAAAAAADAQEAzMzMzM7NBQJqZmZmZGUNAZmZmZmYmRECamZmZmRk+QAAAAAAAAD5AMzMzMzPzQUAAAAAAAABAQGZmZmZmJklAmpmZmZnZQkCamZmZmZk6QJqZmZmZWUVAZmZmZmYmSUAAAAAAAEBDQA==\"},\"y\":{\"dtype\":\"f8\",\"bdata\":\"+n5qvHQTH0BmZmZmZmYeQJ7vp8ZLNx5AwcqhRbbzHUDsUbgehesdQKwcWmQ7Xx1A6SYxCKwcHUCWQ4ts5\\u002fscQF66SQwCqxxAdZMYBFaOHEBcj8L1KFwcQJ7vp8ZLNxxAL90kBoEVHEBxPQrXo\\u002fAbQP7UeOkmsRtAxSCwcmiRG0CBlUOLbOcaQJHtfD81XhpA0SLb+X5qGUBiEFg5tEgZQDMzMzMzMxlAeekmMQgsGUBQjZduEgMZQDEIrBxa5BhA7nw\\u002fNV66GEB\\u002farx0k5gYQAAAAAAAgBhARrbz\\u002fdR4GEBmZmZmZmYYQPLSTWIQWBhASOF6FK5HGEDJdr6fGi8YQOkmMQisHBhA1XjpJjEIGEDD9Shcj8IXQN9PjZdukhdAJQaBlUOLF0BxPQrXo3AXQCPb+X5qPBdABFYOLbIdF0DVeOkmMQgXQEa28\\u002f3U+BZAfT81XrrJFkASg8DKocUWQLbz\\u002fdR4aRZABFYOLbIdFkBkO99PjRcWQO58PzVeuhVAMzMzMzOzFUCYbhKDwEoVQNnO91PjJRVAf2q8dJMYFUD4U+Olm8QUQN0kBoGVwxRAJQaBlUMLFEDHSzeJQeASQCPb+X5qPBJA+n5qvHQTEkD2KFyPwvURQHe+nxov3RFAEFg5tMh2EUCHFtnO91MRQKjGSzeJwRBA5\\u002fup8dJNDUBI4XoUrkcLQA==\"},\"type\":\"scatter\"},{\"customdata\":{\"dtype\":\"i2\",\"bdata\":\"AQACAAMABAAFAAYABwAIAAkACgALAAwADQAOAA8AEAARABIAEwAUABUAFgAXABgAGQAaABsAHAAdAB4AHwAgACEAIgAjACQAJQAmACcAKAApACoAKwAsAC0ALgAvADAAMQAyADMANAA1ADYANwA4ADkAOgA7ADwAPQA+AD8AQABBAEIAQwBEAEUARgBHAEgASQBKAEsATABNAE4ATwBPAFEAUgBTAFQAVQBWAFcAWABZAFoAWwBcAF0AXgBfAGAAYQBiAGMAZABlAGYAZwBoAGkAagBrAGwAbQBuAG8AcABxAHIAcwB0AHUAdgB3AHgAeQB6AHsAfAB9AH4AfwCAAIEAggCDAIQA\"},\"hovertemplate\":\"Country: %{text}\\u003cbr\\u003eRank: %{customdata} out of 133\\u003cbr\\u003eGDP per Capita: $%{x:,.0f}\\u003cbr\\u003eHappiness: %{y:.2f}\\u003cextra\\u003e\\u003c\\u002fextra\\u003e\",\"mode\":\"markers\",\"name\":\"GDP per Capita\",\"text\":[\"Finland\",\"Denmark\",\"Norway\",\"Iceland\",\"Netherlands\",\"Switzerland\",\"Sweden\",\"New Zealand\",\"Canada\",\"Austria\",\"Australia\",\"Costa Rica\",\"Israel\",\"Luxembourg\",\"United Kingdom\",\"Ireland\",\"Germany\",\"Belgium\",\"United States\",\"United Arab Emirates\",\"Malta\",\"Mexico\",\"France\",\"Chile\",\"Guatemala\",\"Saudi Arabia\",\"Qatar\",\"Spain\",\"Panama\",\"Brazil\",\"Uruguay\",\"Singapore\",\"El Salvador\",\"Italy\",\"Bahrain\",\"Poland\",\"Uzbekistan\",\"Lithuania\",\"Colombia\",\"Slovenia\",\"Nicaragua\",\"Kosovo\",\"Argentina\",\"Romania\",\"Cyprus\",\"Ecuador\",\"Kuwait\",\"Thailand\",\"Latvia\",\"Estonia\",\"Jamaica\",\"Mauritius\",\"Japan\",\"Honduras\",\"Kazakhstan\",\"Bolivia\",\"Hungary\",\"Paraguay\",\"Peru\",\"Portugal\",\"Pakistan\",\"Philippines\",\"Serbia\",\"Moldova\",\"Libya\",\"Montenegro\",\"Tajikistan\",\"Croatia\",\"Dominican Republic\",\"Bosnia and Herzegovina\",\"Malaysia\",\"Belarus\",\"Greece\",\"Mongolia\",\"North Macedonia\",\"Nigeria\",\"Turkmenistan\",\"Algeria\",\"Morocco\",\"Azerbaijan\",\"Lebanon\",\"Indonesia\",\"China\",\"Bhutan\",\"Cameroon\",\"Bulgaria\",\"Ghana\",\"Nepal\",\"Jordan\",\"Benin\",\"Gabon\",\"South Africa\",\"Albania\",\"Cambodia\",\"Senegal\",\"Somalia\",\"Namibia\",\"Niger\",\"Burkina Faso\",\"Armenia\",\"Guinea\",\"Georgia\",\"Kenya\",\"Mauritania\",\"Mozambique\",\"Tunisia\",\"Bangladesh\",\"Iraq\",\"Mali\",\"Sierra Leone\",\"Sri Lanka\",\"Myanmar\",\"Chad\",\"Ukraine\",\"Ethiopia\",\"Uganda\",\"Zambia\",\"Togo\",\"India\",\"Liberia\",\"Comoros\",\"Madagascar\",\"Lesotho\",\"Burundi\",\"Zimbabwe\",\"Haiti\",\"Botswana\",\"Malawi\",\"Rwanda\",\"Tanzania\",\"Afghanistan\",\"Central African Republic\"],\"visible\":false,\"x\":{\"dtype\":\"f8\",\"bdata\":\"C9KMRVJp5kAId2ftU+PrQHugFZiEuvJAti3KbK0S7EAVxhaCwAzoQJCIKZE6RfVAN\\u002f3Zj5v06UCetdsuf9njQCTW4lOJBeZAp3Sw\\u002ftG65kCXkA96l8XsQJEPejbTJslA3J2129Qw40BGlPYGajX6QJynOuRHEOdAMj1hCdPT8kDu68A59JXlQOOqsu\\u002fM\\u002f+RAat5xihH77UCrWz0nhNnkQIBIv3130txA+mGE8LjXw0APnDOiJubiQG9kHvlLn8pA1NfzNR8rsEAsfeiCvlPXQGrBi77O+O5Aj6UPXeig20C\\u002fgjRjRXnOQDvgumK4IcFA5bM8D5xX0UD3zJIAtfLtQJz4akcdL7BAzF1LyBtt30COzCN\\u002fakrYQEAwR4+nus1AMpI9Qr12qUB\\u002fwW7YXiDRQH7IW672J7lAQ8U4f8th10Dh8e1ds4+fQNQP6iIRe7BAAyZw6zLRyEC4rwPnPAPGQHEbDeBx9NtAlnmrrmNTt0DF\\u002frJ7DvXZQOXtCKeJIrlArfpcbTHwzUATRN0H+BjUQF5pGamnqbRACFVq9nhmxUBfB84ZeZnhQG1y+KQ7H6NAFhObj9d2xUA+ITtvw5CpQF9BmrHMdc1A0jb+RIljuECnIhXGQuK5QOlILv9LENVAar+1E1WXmEAtr1xvw++rQOYjKenB1rpAZcOaylrdqkA3iNaKNCDBQGH7yRgvBL5AVHHjFmPxkUABNbVsnZjMQJ63sdn9AcBActwpHUzPtUD5FADjfUvFQHwo0ZK\\u002fe7hABoGVQyvE0kBZTdcT0fGwQDUqcLKVSbdAFCLgEBL\\u002fokB9z0iEKj66QLMKmwGqQLJAp5IBoHpJqkDovTEEdOS0QDTY1HkMgL9AUfaWcs4VrkAXDoRkwdXDQDunWaDFFqtAvr9Be0X5lkBIGXEBZAfAQPksz4M7OZ9ASiTRy3jUkEBLyt3nIJ6uQPJetTKxaJFAIZOMnJGhukCkUuxo1JC3QKUuGcdEvrFA6s9+pEhhn0CALa9cb46VQMjyCTTz6H5A3uUivheTsEADKnf6fKGAQAhCDTosaIZAnrRwWXX3sEDeAZ60YPOMQEvLSL3Pb7NAndoZpta2mUD4VE57ihSZQG7dzVMdSYNAbLHbZ\\u002fU6sEAiUz4E1XCYQNtOWyMmIrNAiCk2i1zGh0ABbECE6DCQQICdmzZvarFAmYOgo\\u002fWDlkDEsS5u47aDQApI+x8ovKJAGDhF7Bg0iED\\u002fsKVHg8eMQCJPkq65VJRAaE6o8RxUiUD1nsppH0CeQI7aDleY5YNA3Esao3W1lUCBXyNJcDR9QP94r1r5Q5BAtRH0vABccECInpRJPRmVQAUYlj+vyZVAdT48S7gnu0BwWSoU7s6BQLwGfekdVYtAMVwdABFvkEBZs4Rr5G6BQEnFtZA2HXlA\"},\"y\":{\"dtype\":\"f8\",\"bdata\":\"+n5qvHQTH0BmZmZmZmYeQJ7vp8ZLNx5AYOXQItv5HUDByqFFtvMdQOxRuB6F6x1ArBxaZDtfHUDufD81XjodQOkmMQisHB1AlkOLbOf7HEC28\\u002f3UeOkcQF66SQwCqxxAdZMYBFaOHEBcj8L1KFwcQJ7vp8ZLNxxAL90kBoEVHEBxPQrXo\\u002fAbQP7UeOkmsRtAxSCwcmiRG0DNzMzMzEwbQIGVQ4ts5xpA4XoUrkdhGkCR7Xw\\u002fNV4aQC2yne+nxhlAWDm0yHa+GUAAAAAAAIAZQOXQItv5fhlA0SLb+X5qGUBiEFg5tEgZQDMzMzMzMxlAeekmMQgsGUA\\u002fNV66SQwZQFCNl24SAxlAMQisHFrkGECyne+nxssYQO58PzVeuhhAGQRWDi2yGEB\\u002farx0k5gYQAAAAAAAgBhARrbz\\u002fdR4GEDsUbgehWsYQGZmZmZmZhhA8tJNYhBYGEBI4XoUrkcYQMl2vp8aLxhA6SYxCKwcGEAv3SQGgRUYQNV46SYxCBhAw\\u002fUoXI\\u002fCF0DfT42XbpIXQI\\u002fC9ShcjxdAWmQ730+NF0AlBoGVQ4sXQHE9CtejcBdAI9v5fmo8F0AEVg4tsh0XQNV46SYxCBdARrbz\\u002fdT4FkB9PzVeuskWQBKDwMqhxRZA6SYxCKycFkCgGi\\u002fdJIYWQLbz\\u002fdR4aRZABFYOLbIdFkCamZmZmRkWQGQ730+NFxZAke18PzXeFUDufD81XroVQDMzMzMzsxVAJQaBlUOLFUBCYOXQIlsVQJhuEoPAShVA2c73U+MlFUCkcD0K1yMVQH9qvHSTGBVAj8L1KFwPFUCwcmiR7fwUQPLSTWIQ2BRAokW28\\u002f3UFECiRbbz\\u002fdQUQH0\\u002fNV66yRRA+FPjpZvEFEDdJAaBlcMUQIcW2c73UxRAkxgEVg4tFEAlBoGVQwsUQJZDi2zn+xNA9P3UeOmmE0A5tMh2vp8TQNV46SYxiBNAGQRWDi0yE0AX2c73U+MSQMdLN4lB4BJAzczMzMzMEkDTTWIQWLkSQHnpJjEIrBJAdZMYBFaOEkBQjZduEoMSQAwCK4cWWRJAI9v5fmo8EkCJQWDl0CISQPp+arx0ExJA8KfGSzcJEkD2KFyPwvURQHe+nxov3RFA8tJNYhDYEUBt5\\u002fup8dIRQHNoke18vxFAj8L1KFyPEUDl0CLb+X4RQBBYObTIdhFAcT0K16NwEUBmZmZmZmYRQIcW2c73UxFAvp8aL90kEUCoxks3icEQQCGwcmiRbRBA16NwPQpXEECPwvUoXA8QQM3MzMzMzA9AYhBYObTID0AQWDm0yHYPQNEi2\\u002fl+ag5AMzMzMzMzDkDn+6nx0k0NQC2yne+nxgxAgZVDi2znC0BI4XoUrkcLQHnpJjEIrApADAIrhxbZCUA5tMh2vp8JQESLbOf7qQhA\"},\"type\":\"scatter\"},{\"customdata\":{\"dtype\":\"i2\",\"bdata\":\"AQACAAMABQAGAAcACAAJAAoACwAMAA0ADgAPABAAEQASABMAFAAVABYAFwAYABkAHAAdAB4AHwAhACIAIwAkACYAJwAoACkAKgArACwALQAuAC8AMQAyADMANAA1ADYANwA4ADkAOgA7ADwAPQA+AD8AQABBAEIAQwBEAEUARgBHAEgASQBKAEsATgBPAFEAUgBTAFQAVQBWAFcAWABaAFsAXABdAF4AXwBgAGEAYgBjAGQAZQBmAGcAaABpAGoAbABtAG4AbwBxAHIAcwB0AHYAdwB5AHoAewB8AH0AfgB\\u002fAIEAggCEAA==\"},\"hovertemplate\":\"Country: %{text}\\u003cbr\\u003eRank: %{customdata} out of 133\\u003cbr\\u003eGNI per Capita: $%{x:,.0f}\\u003cbr\\u003eHappiness: %{y:.2f}\\u003cextra\\u003e\\u003c\\u002fextra\\u003e\",\"mode\":\"markers\",\"name\":\"GNI per Capita\",\"text\":[\"Finland\",\"Denmark\",\"Norway\",\"Netherlands\",\"Switzerland\",\"Sweden\",\"New Zealand\",\"Canada\",\"Austria\",\"Australia\",\"Costa Rica\",\"Israel\",\"Luxembourg\",\"United Kingdom\",\"Ireland\",\"Germany\",\"Belgium\",\"United States\",\"United Arab Emirates\",\"Malta\",\"Mexico\",\"France\",\"Chile\",\"Guatemala\",\"Spain\",\"Panama\",\"Brazil\",\"Uruguay\",\"El Salvador\",\"Italy\",\"Bahrain\",\"Poland\",\"Lithuania\",\"Colombia\",\"Slovenia\",\"Nicaragua\",\"Kosovo\",\"Argentina\",\"Romania\",\"Cyprus\",\"Ecuador\",\"Kuwait\",\"Latvia\",\"Estonia\",\"Jamaica\",\"Mauritius\",\"Japan\",\"Honduras\",\"Kazakhstan\",\"Bolivia\",\"Hungary\",\"Paraguay\",\"Peru\",\"Portugal\",\"Pakistan\",\"Philippines\",\"Serbia\",\"Moldova\",\"Libya\",\"Montenegro\",\"Tajikistan\",\"Croatia\",\"Dominican Republic\",\"Bosnia and Herzegovina\",\"Malaysia\",\"Belarus\",\"Greece\",\"Mongolia\",\"North Macedonia\",\"Algeria\",\"Morocco\",\"Lebanon\",\"Indonesia\",\"China\",\"Bhutan\",\"Cameroon\",\"Bulgaria\",\"Ghana\",\"Nepal\",\"Benin\",\"Gabon\",\"South Africa\",\"Albania\",\"Cambodia\",\"Senegal\",\"Somalia\",\"Namibia\",\"Niger\",\"Burkina Faso\",\"Armenia\",\"Guinea\",\"Georgia\",\"Kenya\",\"Mauritania\",\"Mozambique\",\"Tunisia\",\"Iraq\",\"Mali\",\"Sierra Leone\",\"Sri Lanka\",\"Chad\",\"Ukraine\",\"Ethiopia\",\"Uganda\",\"Togo\",\"India\",\"Comoros\",\"Madagascar\",\"Lesotho\",\"Burundi\",\"Zimbabwe\",\"Haiti\",\"Botswana\",\"Rwanda\",\"Tanzania\",\"Central African Republic\"],\"visible\":false,\"x\":{\"dtype\":\"f8\",\"bdata\":\"SL99HTiZ5kAQkgVMgJXsQE9AE2GM9vJA9fOmIiUo50AWMIFbKg\\u002f0QIW2nEulm+pAsBu2LfT740BEaW\\u002fwt+jlQJgXYB\\u002fwhOZASfQyimJ57EBo0NA\\u002fObjHQLbWFwmlZ+NASBtHrNZ68UDXNO84qPvmQOQUHcmkLuxA7BLVWwvx5UAt7GmHMUvlQLG\\u002f7J5MUu5A0csolqz05EBznUZaJAnaQHB4QURiRcNAmZ6wxPpO40AH8BZI+JzJQBPvAE9avq9AN8MN+B5k20C7Cik\\u002fwarMQKn26Xh4rMBAfsaFAyt20EATRN0HAMKuQJWfVPuCyN9Ay2d5Hkzq1kCJeyx94H7MQJbP8jxAXdBANUBpqPGYuEAhWcAEDkfXQNjyyvX2ap5ATmA6rcvbsEA2WaMeYtLHQPGAsilXr8VA08H6P4Vv2kBRg2kY0qe2QDj4wmS0391AC7WmeeeAz0CEEmbaVLnTQCeIug\\u002f8ErRAHsTOFJpuxkBiodY0OTriQK8I\\u002freSoKFAXMtkOAJCwkAvou2YsgSpQFvTvOPEZcxAVcA9z9+jt0C2SxsOg++4QIiAQ6hIp9RAV8wIbw8nmECHvyZrRKquQCQrvwzqdblAxD4BFPtKrED2C3bDxnTBQK2+uirAXr5Ayy2thmQIlUB3Z+22R4DMQOgwX16UjL5Apki+EnTFtUBF8L+VkMTEQKjixi12vbdAdAzIXn040kA\\u002fcQD9TrGtQL0eTIqzJrZAfXpsy6DhsUBZbf5fxeOpQF3hXS4Cqr5AqFSJsjcqrUCoHf6a9MfDQGN+bmiy4KhA3UQtza15lkCYF2AfFQK\\u002fQGCxhoss8Z1AWaSJd0AEkUCbr5KPjVKRQGghAaMLXbdAfR8OEsp4t0DTakjcs4axQFSOyeJu6Z1A2ZQrvJv8lEBCIadUrsd+QBlybD0nI7BAOSxotatlgUD2P2WhklyFQD5eSIdbOrFATosLUX+1jEDPo+L\\u002feo2yQElNu5g2SZlA0xIroyGmmEDGRf8Vs\\u002fKCQMbdIFr7oq9AtXBZhT0Es0D1udqKPdeGQADICRMGBZBAjBGJQqvusEDP7W8ajGCDQOlg\\u002fZ9T\\u002faJAr+DITQ4OiECc0NojugCMQJZl4xywaIlAxoUDIan2nUBmE2BYLtCVQG24frDiNHxAqYO8Hmx9k0A9x5EY7mlwQLHeqBWmnJRA+FJ40HzdlUAoJ9pVYCi7QGRiqeRybIpASPje30AskECUhhqFROt6QA==\"},\"y\":{\"dtype\":\"f8\",\"bdata\":\"+n5qvHQTH0BmZmZmZmYeQJ7vp8ZLNx5AwcqhRbbzHUDsUbgehesdQKwcWmQ7Xx1A7nw\\u002fNV46HUDpJjEIrBwdQJZDi2zn+xxAtvP91HjpHEBeukkMAqscQHWTGARWjhxAXI\\u002fC9ShcHECe76fGSzccQC\\u002fdJAaBFRxAcT0K16PwG0D+1HjpJrEbQMUgsHJokRtAzczMzMxMG0CBlUOLbOcaQOF6FK5HYRpAke18PzVeGkAtsp3vp8YZQFg5tMh2vhlA0SLb+X5qGUBiEFg5tEgZQDMzMzMzMxlAeekmMQgsGUBQjZduEgMZQDEIrBxa5BhAsp3vp8bLGEDufD81XroYQH9qvHSTmBhAAAAAAACAGEBGtvP91HgYQOxRuB6FaxhAZmZmZmZmGEDy0k1iEFgYQEjhehSuRxhAyXa+nxovGEDpJjEIrBwYQC\\u002fdJAaBFRhAw\\u002fUoXI\\u002fCF0DfT42XbpIXQI\\u002fC9ShcjxdAWmQ730+NF0AlBoGVQ4sXQHE9CtejcBdAI9v5fmo8F0AEVg4tsh0XQNV46SYxCBdARrbz\\u002fdT4FkB9PzVeuskWQBKDwMqhxRZA6SYxCKycFkCgGi\\u002fdJIYWQLbz\\u002fdR4aRZABFYOLbIdFkCamZmZmRkWQGQ730+NFxZAke18PzXeFUDufD81XroVQDMzMzMzsxVAJQaBlUOLFUBCYOXQIlsVQJhuEoPAShVA2c73U+MlFUCkcD0K1yMVQH9qvHSTGBVA8tJNYhDYFECiRbbz\\u002fdQUQH0\\u002fNV66yRRA+FPjpZvEFEDdJAaBlcMUQIcW2c73UxRAkxgEVg4tFEAlBoGVQwsUQJZDi2zn+xNA9P3UeOmmE0DVeOkmMYgTQBkEVg4tMhNAF9nO91PjEkDHSzeJQeASQM3MzMzMzBJA001iEFi5EkB56SYxCKwSQHWTGARWjhJAUI2XbhKDEkAMAiuHFlkSQCPb+X5qPBJAiUFg5dAiEkD6fmq8dBMSQPCnxks3CRJA9ihcj8L1EUB3vp8aL90RQPLSTWIQ2BFAc2iR7Xy\\u002fEUCPwvUoXI8RQOXQItv5fhFAEFg5tMh2EUBmZmZmZmYRQIcW2c73UxFAvp8aL90kEUCoxks3icEQQNejcD0KVxBAj8L1KFwPEEBiEFg5tMgPQBBYObTIdg9A0SLb+X5qDkAzMzMzMzMOQOf7qfHSTQ1ALbKd76fGDECBlUOLbOcLQHnpJjEIrApADAIrhxbZCUBEi2zn+6kIQA==\"},\"type\":\"scatter\"},{\"hoverinfo\":\"skip\",\"line\":{\"color\":\"blue\",\"dash\":\"dash\"},\"mode\":\"lines\",\"name\":\"Trend Line\",\"visible\":true,\"x\":{\"dtype\":\"f8\",\"bdata\":\"ZmZmZmZmOEAxYBoDprE4QPxZzp\\u002fl\\u002fDhAyFOCPCVIOUCTTTbZZJM5QF5H6nWk3jlAKkGeEuQpOkD1OlKvI3U6QMA0BkxjwDpAiy666KILO0BWKG6F4lY7QCIiIiIiojtA7RvWvmHtO0C4FYpboTg8QIQPPvjggzxATwnylCDPPEAaA6YxYBo9QOX8Wc6fZT1AsPYNa9+wPUB88MEHH\\u002fw9QEfqdaReRz5AEuQpQZ6SPkDe3d3d3d0+QKnXkXodKT9AdNFFF110P0A\\u002fy\\u002fmznL8\\u002fQIXiVihuBUBAa9+w9g0rQEBQ3ArFrVBAQDbZZJNNdkBAHNa+Ye2bQEAC0xgwjcFAQOfPcv4s50BAzMzMzMwMQUCyySabbDJBQJjGgGkMWEFAfsPaN6x9QUBjwDQGTKNBQEm9jtTryEFALrrooovuQUAUt0JxKxRCQPqznD\\u002fLOUJA37D2DWtfQkDFrVDcCoVCQKqqqqqqqkJAkKcEeUrQQkB2pF5H6vVCQFyhuBWKG0NAQZ4S5ClBQ0Amm2yyyWZDQAyYxoBpjENA8pQgTwmyQ0DYkXodqddDQL2O1OtI\\u002fUNAo4suuugiRECIiIiIiEhEQG6F4lYobkRAVII8JciTREA5f5bzZ7lEQB988MEH30RABHlKkKcERUDqdaReRypFQNBy\\u002fiznT0VAtm9Y+4Z1RUCbbLLJJptFQIBpDJjGwEVAZmZmZmbmRUBMY8A0BgxGQDJgGgOmMUZAF1100UVXRkD9Wc6f5XxGQOJWKG6FokZAyFOCPCXIRkCuUNwKxe1GQJNNNtlkE0dAeUqQpwQ5R0BeR+p1pF5HQEREREREhEdAKkGeEuSpR0AQPvjgg89HQPU6Uq8j9UdA2jesfcMaSEDANAZMY0BIQKYxYBoDZkhAjC666KKLSEBxKxS3QrFIQFcoboXi1khAPCXIU4L8SEAiIiIiIiJJQAgffPDBR0lA7RvWvmFtSUDTGDCNAZNJQLgViluhuElAnhLkKUHeSUCEDz744ANKQGoMmMaAKUpATwnylCBPSkA0BkxjwHRKQBoDpjFgmkpAAAAAAADASkA=\"},\"y\":{\"dtype\":\"f8\",\"bdata\":\"yxbCRItBGUCJfPJQJjgZQEfiIl3BLhlABEhTaVwlGUDCrYN19xsZQIATtIGSEhlAPnnkjS0JGUD83hSayP8YQLpERaZj9hhAeKp1sv7sGEA2EKa+meMYQPR11so02hhAstsG18\\u002fQGEBwQTfjascYQC6nZ+8FvhhA7AyY+6C0GECqcsgHPKsYQGjY+BPXoRhAJj4pIHKYGEDjo1ksDY8YQKEJijiohRhAX2+6REN8GEAd1epQ3nIYQNs6G115aRhAmaBLaRRgGEBXBnx1r1YYQBVsrIFKTRhA09HcjeVDGECRNw2agDoYQE+dPaYbMRhADQNusrYnGEDKaJ6+UR4YQInOzsrsFBhARzT\\u002f1ocLGEAEmi\\u002fjIgIYQML\\u002fX++9+BdAgGWQ+1jvF0A+y8AH9OUXQPww8ROP3BdAupYhICrTF0B4\\u002fFEsxckXQDZigjhgwBdA9MeyRPu2F0CyLeNQlq0XQHCTE10xpBdALvlDacyaF0DsXnR1Z5EXQKrEpIECiBdAaCrVjZ1+F0AmkAWaOHUXQOT1NabTaxdAoltmsm5iF0BfwZa+CVkXQB0nx8qkTxdA24z31j9GF0CZ8ifj2jwXQFdYWO91MxdAFb6I+xAqF0DTI7kHrCAXQJGJ6RNHFxdAT+8ZIOINF0ANVUosfQQXQMu6ejgY+xZAiCCrRLPxFkBHhttQTugWQAXsC13p3hZAwlE8aYTVFkCAt2x1H8wWQD4dnYG6whZA\\u002fILNjVW5FkC66P2Z8K8WQHhOLqaLphZANrResiadFkD0GY++wZMWQLJ\\u002fv8pcihZAcOXv1veAFkAuSyDjkncWQOywUO8tbhZAqhaB+8hkFkBofLEHZFsWQCbi4RP\\u002fURZA5EcSIJpIFkCirUIsNT8WQGATczjQNRZAHXmjRGssFkDb3tNQBiMWQJlEBF2hGRZAV6o0aTwQFkAVEGV11wYWQNN1lYFy\\u002fRVAkdvFjQ30FUBPQfaZqOoVQA2nJqZD4RVAywxXst7XFUCJcoe+ec4VQEbYt8oUxRVABT7o1q+7FUDDoxjjSrIVQIAJSe\\u002flqBVAPm95+4CfFUA=\"},\"type\":\"scatter\"},{\"hoverinfo\":\"skip\",\"line\":{\"color\":\"blue\",\"dash\":\"dash\"},\"mode\":\"lines\",\"name\":\"Trend Line\",\"visible\":false,\"x\":{\"dtype\":\"f8\",\"bdata\":\"tRH0vABccEC9vp3y0v2UQIc8\\u002f9pS8qJAr5mvPLxlq0Br+y\\u002fPkuyxQP8pCIBHJrZAk1jgMPxfukAnh7jhsJm+QN5aSMmyacFAKHK0IY2Gw0ByiSB6Z6PFQLygjNJBwMdABrj4KhzdyUBQz2SD9vnLQJrm0NvQFs5A8n4emtUZ0ECXilTGQijRQDyWivKvNtJA4aHAHh1F00CGrfZKilPUQCu5LHf3YdVA0MRio2Rw1kB10JjP0X7XQBrczvs+jdhAv+cEKKyb2UBk8zpUGaraQAn\\u002fcICGuNtArgqnrPPG3EBTFt3YYNXdQPghEwXO495AnS1JMTvy30ChnL8uVIDgQHOi2sSKB+FARaj1WsGO4UAYrhDx9xXiQOuzK4cuneJAvblGHWUk40CPv2Gzm6vjQGLFfEnSMuRANcuX3wi65EAH0bJ1P0HlQNnWzQt2yOVArNzooaxP5kB\\u002f4gM449bmQFHoHs4ZXudAI+45ZFDl50D281T6hmzoQMn5b5C98+hAm\\u002f+KJvR66UBtBaa8KgLqQEALwVJhiepAExHc6JcQ60DlFvd+zpfrQLccEhUFH+xAiiItqzum7EBdKEhBci3tQC8uY9eotO1AATR+bd877kDUOZkDFsPuQKc\\u002ftJlMSu9AeUXPL4PR70CmJfXiXCzwQJCoAi74b\\u002fBAeSsQeZOz8EBirh3ELvfwQEsxKw\\u002fKOvFANLQ4WmV+8UAeN0alAMLxQAe6U\\u002fCbBfJA8DxhOzdJ8kDav26G0ozyQMNCfNFt0PJArMWJHAkU80CVSJdnpFfzQH7LpLI\\u002fm\\u002fNAaE6y\\u002fdre80BR0b9IdiL0QDpUzZMRZvRAJNfa3qyp9EANWugpSO30QPbc9XTjMPVA318DwH509UDI4hALGrj1QLJlHla1+\\u002fVAm+groVA\\u002f9kCEazns64L2QG7uRjeHxvZAV3FUgiIK90BA9GHNvU33QCl3bxhZkfdAEvp8Y\\u002fTU90D8fIqujxj4QOX\\u002fl\\u002fkqXPhAzoKlRMaf+EC4BbOPYeP4QKGIwNr8JvlAigvOJZhq+UBzjttwM675QFwR6bvO8flARpT2Bmo1+kA=\"},\"y\":{\"dtype\":\"f8\",\"bdata\":\"K\\u002fUVNcGCE0AYLFDuwa4TQARjiqfC2hNA8ZnEYMMGFEDd0P4ZxDIUQMoHOdPEXhRAtj5zjMWKFECjda1FxrYUQI+s5\\u002f7G4hRAfOMhuMcOFUBoGlxxyDoVQFVRlirJZhVAQYjQ48mSFUAuvwqdyr4VQBr2RFbL6hVABy1\\u002fD8wWFkDzY7nIzEIWQOCa84HNbhZAzNEtO86aFkC5CGj0zsYWQKU\\u002foq3P8hZAknbcZtAeF0B+rRYg0UoXQGrkUNnRdhdAVxuLktKiF0BEUsVL084XQDCJ\\u002fwTU+hdAHMA5vtQmGEAJ93N31VIYQPYtrjDWfhhA4mTo6daqGEDOmyKj19YYQLvSXFzYAhlApwmXFdkuGUCUQNHO2VoZQIB3C4jahhlAba5FQduyGUBZ5X\\u002f6294ZQEYcurPcChpAMlP0bN02GkAeii4m3mIaQAvBaN\\u002fejhpA+PeimN+6GkDkLt1R4OYaQNBlFwvhEhtAvZxRxOE+G0Cq04t94mobQJYKxjbjlhtAgkEA8OPCG0BueDqp5O4bQFyvdGLlGhxASOauG+ZGHEA0HenU5nIcQCBUI47nnhxADotdR+jKHED6wZcA6fYcQOb40bnpIh1A0i8Mc+pOHUC\\u002fZkYs63odQKydgOXrph1AmNS6nuzSHUCFC\\u002fVX7f4dQHJCLxHuKh5AXnlpyu5WHkBKsKOD74IeQDfn3Tzwrh5AIx4Y9vDaHkAQVVKv8QYfQPyLjGjyMh9A6MLGIfNeH0DW+QDb84ofQMIwO5T0th9Armd1TfXiH0BNz1cDewcgQMTq9F97HSBAOgaSvHszIECwIS8ZfEkgQCY9zHV8XyBAnVhp0nx1IEATdAYvfYsgQImPo4t9oSBA\\u002f6pA6H23IEB2xt1Efs0gQOzheqF+4yBAYv0X\\u002fn75IEDYGLVafw8hQE80Urd\\u002fJSFAxU\\u002fvE4A7IUA7a4xwgFEhQLGGKc2AZyFAJ6LGKYF9IUCevWOGgZMhQBTZAOOBqSFAivSdP4K\\u002fIUAAEDucgtUhQHcr2PiC6yFA7UZ1VYMBIkBjYhKygxciQNl9rw6ELSJAUJlMa4RDIkA=\"},\"type\":\"scatter\"},{\"hoverinfo\":\"skip\",\"line\":{\"color\":\"blue\",\"dash\":\"dash\"},\"mode\":\"lines\",\"name\":\"Trend Line\",\"visible\":false,\"x\":{\"dtype\":\"f8\",\"bdata\":\"PceRGO5pcEAPe7ASkweRQE+EPJ+q9J1AyEbkFeFwpUBoSyrcbOerQAQoOFH8LrFAVCpbNEJqtECkLH4XiKW3QPQuofrN4LpARDHE3RMcvkDKmXPgrKvAQPIaBdJPScJAGpyWw\\u002fLmw0BCHSi1lYTFQGqeuaY4IsdAkh9LmNu\\u002fyEC6oNyJfl3KQOIhbnsh+8tACqP\\u002fbMSYzUAyJJFeZzbPQK1SESgFatBAQRPaoNY40UDV06IZqAfSQGmUa5J51tJA\\u002fVQ0C0ul00CRFf2DHHTUQCXWxfztQtVAuZaOdb8R1kBNV1fukODWQOEXIGdir9dAddjo3zN+2EAJmbFYBU3ZQJ1ZetHWG9pAMRpDSqjq2kDF2gvDebnbQFmb1DtLiNxA7VudtBxX3UCBHGYt7iXeQBXdLqa\\u002f9N5AqZ33HpHD30AeL+BLMUngQGiPRAiasOBAsu+oxAIY4UD8Tw2Ba3\\u002fhQEawcT3U5uFAkBDW+TxO4kDacDq2pbXiQCTRnnIOHeNAbjEDL3eE40C4kWfr3+vjQALyy6dIU+RATFIwZLG65ECWspQgGiLlQOAS+dyCieVAKnNdmevw5UB008FVVFjmQL4zJhK9v+ZACJSKziUn50BS9O6Kjo7nQJxUU0f39edA5rS3A2Bd6EAwFRzAyMToQHp1gHwxLOlAxNXkOJqT6UAONkn1AvvpQFiWrbFrYupAovYRbtTJ6kDsVnYqPTHrQDa32ualmOtAgBc\\u002fow4A7EDKd6Nfd2fsQBTYBxzgzuxAXjhs2Eg27UComNCUsZ3tQPL4NFEaBe5APFmZDYNs7kCGuf3J69PuQNAZYoZUO+9AGnrGQr2i70AybZX\\u002fEgXwQFedx13HOPBAfM35u3ts8ECh\\u002fSsaMKDwQMYtXnjk0\\u002fBA612Q1pgH8UAQjsI0TTvxQDW+9JIBb\\u002fFAWu4m8bWi8UB\\u002fHllPatbxQKROi60eCvJAyX69C9M98kDuru9ph3HyQBPfIcg7pfJAOA9UJvDY8kBdP4aEpAzzQIJvuOJYQPNAp5\\u002fqQA1080DMzxyfwafzQPH\\u002fTv112\\u002fNAFjCBWyoP9EA=\"},\"y\":{\"dtype\":\"f8\",\"bdata\":\"5UdzCkR0E0CTnc9qYZoTQEDzK8t+wBNA7kiIK5zmE0CcnuSLuQwUQEr0QOzWMhRA90mdTPRYFECln\\u002fmsEX8UQFP1VQ0vpRRAAUuybUzLFECuoA7OafEUQFz2ai6HFxVACkzHjqQ9FUC4oSPvwWMVQGb3f0\\u002ffiRVAE03cr\\u002fyvFUDBojgQGtYVQG\\u002f4lHA3\\u002fBVAHE7x0FQiFkDKo00xckgWQHj5qZGPbhZAJk8G8qyUFkDUpGJSyroWQIH6vrLn4BZAL1AbEwUHF0DdpXdzIi0XQIv709M\\u002fUxdAOFEwNF15F0DmpoyUep8XQJT86PSXxRdAQlJFVbXrF0Dvp6G10hEYQJ39\\u002fRXwNxhAS1Nadg1eGED5qLbWKoQYQKb+EjdIqhhAVFRvl2XQGEACqsv3gvYYQLD\\u002fJ1igHBlAXlWEuL1CGUALq+AY22gZQLkAPXn4jhlAZlaZ2RW1GUAUrPU5M9sZQMIBUppQARpAcFeu+m0nGkAerQpbi00aQMsCZ7uocxpAeVjDG8aZGkAnrh98478aQNQDfNwA5hpAglnYPB4MG0AwrzSdOzIbQN4Ekf1YWBtAjFrtXXZ+G0A6sEm+k6QbQOcFph6xyhtAlVsCf87wG0BCsV7f6xYcQPAGuz8JPRxAnlwXoCZjHEBMsnMARIkcQPoH0GBhrxxAqF0swX7VHEBVs4ghnPscQAMJ5YG5IR1AsF5B4tZHHUBetJ1C9G0dQAwK+qIRlB1Aul9WAy+6HUBotbJjTOAdQBYLD8RpBh5Aw2BrJIcsHkBxtseEpFIeQB4MJOXBeB5AzGGARd+eHkB6t9yl\\u002fMQeQCgNOQYa6x5A1mKVZjcRH0CEuPHGVDcfQDIOTidyXR9A32Oqh4+DH0CNuQborKkfQDoPY0jKzx9A6GS\\u002fqOf1H0BL3Y2EAg4gQCIIvDQRISBA+TLq5B80IEDQXRiVLkcgQKaIRkU9WiBAfrN09UttIEBU3qKlWoAgQCsJ0VVpkyBAAjT\\u002fBXimIEDZXi22hrkgQLCJW2aVzCBAh7SJFqTfIEBe37fGsvIgQDQK5nbBBSFACzUUJ9AYIUA=\"},\"type\":\"scatter\"}],                        {\"template\":{\"data\":{\"histogram2dcontour\":[{\"type\":\"histogram2dcontour\",\"colorbar\":{\"outlinewidth\":0,\"ticks\":\"\"},\"colorscale\":[[0.0,\"#0d0887\"],[0.1111111111111111,\"#46039f\"],[0.2222222222222222,\"#7201a8\"],[0.3333333333333333,\"#9c179e\"],[0.4444444444444444,\"#bd3786\"],[0.5555555555555556,\"#d8576b\"],[0.6666666666666666,\"#ed7953\"],[0.7777777777777778,\"#fb9f3a\"],[0.8888888888888888,\"#fdca26\"],[1.0,\"#f0f921\"]]}],\"choropleth\":[{\"type\":\"choropleth\",\"colorbar\":{\"outlinewidth\":0,\"ticks\":\"\"}}],\"histogram2d\":[{\"type\":\"histogram2d\",\"colorbar\":{\"outlinewidth\":0,\"ticks\":\"\"},\"colorscale\":[[0.0,\"#0d0887\"],[0.1111111111111111,\"#46039f\"],[0.2222222222222222,\"#7201a8\"],[0.3333333333333333,\"#9c179e\"],[0.4444444444444444,\"#bd3786\"],[0.5555555555555556,\"#d8576b\"],[0.6666666666666666,\"#ed7953\"],[0.7777777777777778,\"#fb9f3a\"],[0.8888888888888888,\"#fdca26\"],[1.0,\"#f0f921\"]]}],\"heatmap\":[{\"type\":\"heatmap\",\"colorbar\":{\"outlinewidth\":0,\"ticks\":\"\"},\"colorscale\":[[0.0,\"#0d0887\"],[0.1111111111111111,\"#46039f\"],[0.2222222222222222,\"#7201a8\"],[0.3333333333333333,\"#9c179e\"],[0.4444444444444444,\"#bd3786\"],[0.5555555555555556,\"#d8576b\"],[0.6666666666666666,\"#ed7953\"],[0.7777777777777778,\"#fb9f3a\"],[0.8888888888888888,\"#fdca26\"],[1.0,\"#f0f921\"]]}],\"contourcarpet\":[{\"type\":\"contourcarpet\",\"colorbar\":{\"outlinewidth\":0,\"ticks\":\"\"}}],\"contour\":[{\"type\":\"contour\",\"colorbar\":{\"outlinewidth\":0,\"ticks\":\"\"},\"colorscale\":[[0.0,\"#0d0887\"],[0.1111111111111111,\"#46039f\"],[0.2222222222222222,\"#7201a8\"],[0.3333333333333333,\"#9c179e\"],[0.4444444444444444,\"#bd3786\"],[0.5555555555555556,\"#d8576b\"],[0.6666666666666666,\"#ed7953\"],[0.7777777777777778,\"#fb9f3a\"],[0.8888888888888888,\"#fdca26\"],[1.0,\"#f0f921\"]]}],\"surface\":[{\"type\":\"surface\",\"colorbar\":{\"outlinewidth\":0,\"ticks\":\"\"},\"colorscale\":[[0.0,\"#0d0887\"],[0.1111111111111111,\"#46039f\"],[0.2222222222222222,\"#7201a8\"],[0.3333333333333333,\"#9c179e\"],[0.4444444444444444,\"#bd3786\"],[0.5555555555555556,\"#d8576b\"],[0.6666666666666666,\"#ed7953\"],[0.7777777777777778,\"#fb9f3a\"],[0.8888888888888888,\"#fdca26\"],[1.0,\"#f0f921\"]]}],\"mesh3d\":[{\"type\":\"mesh3d\",\"colorbar\":{\"outlinewidth\":0,\"ticks\":\"\"}}],\"scatter\":[{\"fillpattern\":{\"fillmode\":\"overlay\",\"size\":10,\"solidity\":0.2},\"type\":\"scatter\"}],\"parcoords\":[{\"type\":\"parcoords\",\"line\":{\"colorbar\":{\"outlinewidth\":0,\"ticks\":\"\"}}}],\"scatterpolargl\":[{\"type\":\"scatterpolargl\",\"marker\":{\"colorbar\":{\"outlinewidth\":0,\"ticks\":\"\"}}}],\"bar\":[{\"error_x\":{\"color\":\"#2a3f5f\"},\"error_y\":{\"color\":\"#2a3f5f\"},\"marker\":{\"line\":{\"color\":\"#E5ECF6\",\"width\":0.5},\"pattern\":{\"fillmode\":\"overlay\",\"size\":10,\"solidity\":0.2}},\"type\":\"bar\"}],\"scattergeo\":[{\"type\":\"scattergeo\",\"marker\":{\"colorbar\":{\"outlinewidth\":0,\"ticks\":\"\"}}}],\"scatterpolar\":[{\"type\":\"scatterpolar\",\"marker\":{\"colorbar\":{\"outlinewidth\":0,\"ticks\":\"\"}}}],\"histogram\":[{\"marker\":{\"pattern\":{\"fillmode\":\"overlay\",\"size\":10,\"solidity\":0.2}},\"type\":\"histogram\"}],\"scattergl\":[{\"type\":\"scattergl\",\"marker\":{\"colorbar\":{\"outlinewidth\":0,\"ticks\":\"\"}}}],\"scatter3d\":[{\"type\":\"scatter3d\",\"line\":{\"colorbar\":{\"outlinewidth\":0,\"ticks\":\"\"}},\"marker\":{\"colorbar\":{\"outlinewidth\":0,\"ticks\":\"\"}}}],\"scattermap\":[{\"type\":\"scattermap\",\"marker\":{\"colorbar\":{\"outlinewidth\":0,\"ticks\":\"\"}}}],\"scattermapbox\":[{\"type\":\"scattermapbox\",\"marker\":{\"colorbar\":{\"outlinewidth\":0,\"ticks\":\"\"}}}],\"scatterternary\":[{\"type\":\"scatterternary\",\"marker\":{\"colorbar\":{\"outlinewidth\":0,\"ticks\":\"\"}}}],\"scattercarpet\":[{\"type\":\"scattercarpet\",\"marker\":{\"colorbar\":{\"outlinewidth\":0,\"ticks\":\"\"}}}],\"carpet\":[{\"aaxis\":{\"endlinecolor\":\"#2a3f5f\",\"gridcolor\":\"white\",\"linecolor\":\"white\",\"minorgridcolor\":\"white\",\"startlinecolor\":\"#2a3f5f\"},\"baxis\":{\"endlinecolor\":\"#2a3f5f\",\"gridcolor\":\"white\",\"linecolor\":\"white\",\"minorgridcolor\":\"white\",\"startlinecolor\":\"#2a3f5f\"},\"type\":\"carpet\"}],\"table\":[{\"cells\":{\"fill\":{\"color\":\"#EBF0F8\"},\"line\":{\"color\":\"white\"}},\"header\":{\"fill\":{\"color\":\"#C8D4E3\"},\"line\":{\"color\":\"white\"}},\"type\":\"table\"}],\"barpolar\":[{\"marker\":{\"line\":{\"color\":\"#E5ECF6\",\"width\":0.5},\"pattern\":{\"fillmode\":\"overlay\",\"size\":10,\"solidity\":0.2}},\"type\":\"barpolar\"}],\"pie\":[{\"automargin\":true,\"type\":\"pie\"}]},\"layout\":{\"autotypenumbers\":\"strict\",\"colorway\":[\"#636efa\",\"#EF553B\",\"#00cc96\",\"#ab63fa\",\"#FFA15A\",\"#19d3f3\",\"#FF6692\",\"#B6E880\",\"#FF97FF\",\"#FECB52\"],\"font\":{\"color\":\"#2a3f5f\"},\"hovermode\":\"closest\",\"hoverlabel\":{\"align\":\"left\"},\"paper_bgcolor\":\"white\",\"plot_bgcolor\":\"#E5ECF6\",\"polar\":{\"bgcolor\":\"#E5ECF6\",\"angularaxis\":{\"gridcolor\":\"white\",\"linecolor\":\"white\",\"ticks\":\"\"},\"radialaxis\":{\"gridcolor\":\"white\",\"linecolor\":\"white\",\"ticks\":\"\"}},\"ternary\":{\"bgcolor\":\"#E5ECF6\",\"aaxis\":{\"gridcolor\":\"white\",\"linecolor\":\"white\",\"ticks\":\"\"},\"baxis\":{\"gridcolor\":\"white\",\"linecolor\":\"white\",\"ticks\":\"\"},\"caxis\":{\"gridcolor\":\"white\",\"linecolor\":\"white\",\"ticks\":\"\"}},\"coloraxis\":{\"colorbar\":{\"outlinewidth\":0,\"ticks\":\"\"}},\"colorscale\":{\"sequential\":[[0.0,\"#0d0887\"],[0.1111111111111111,\"#46039f\"],[0.2222222222222222,\"#7201a8\"],[0.3333333333333333,\"#9c179e\"],[0.4444444444444444,\"#bd3786\"],[0.5555555555555556,\"#d8576b\"],[0.6666666666666666,\"#ed7953\"],[0.7777777777777778,\"#fb9f3a\"],[0.8888888888888888,\"#fdca26\"],[1.0,\"#f0f921\"]],\"sequentialminus\":[[0.0,\"#0d0887\"],[0.1111111111111111,\"#46039f\"],[0.2222222222222222,\"#7201a8\"],[0.3333333333333333,\"#9c179e\"],[0.4444444444444444,\"#bd3786\"],[0.5555555555555556,\"#d8576b\"],[0.6666666666666666,\"#ed7953\"],[0.7777777777777778,\"#fb9f3a\"],[0.8888888888888888,\"#fdca26\"],[1.0,\"#f0f921\"]],\"diverging\":[[0,\"#8e0152\"],[0.1,\"#c51b7d\"],[0.2,\"#de77ae\"],[0.3,\"#f1b6da\"],[0.4,\"#fde0ef\"],[0.5,\"#f7f7f7\"],[0.6,\"#e6f5d0\"],[0.7,\"#b8e186\"],[0.8,\"#7fbc41\"],[0.9,\"#4d9221\"],[1,\"#276419\"]]},\"xaxis\":{\"gridcolor\":\"white\",\"linecolor\":\"white\",\"ticks\":\"\",\"title\":{\"standoff\":15},\"zerolinecolor\":\"white\",\"automargin\":true,\"zerolinewidth\":2},\"yaxis\":{\"gridcolor\":\"white\",\"linecolor\":\"white\",\"ticks\":\"\",\"title\":{\"standoff\":15},\"zerolinecolor\":\"white\",\"automargin\":true,\"zerolinewidth\":2},\"scene\":{\"xaxis\":{\"backgroundcolor\":\"#E5ECF6\",\"gridcolor\":\"white\",\"linecolor\":\"white\",\"showbackground\":true,\"ticks\":\"\",\"zerolinecolor\":\"white\",\"gridwidth\":2},\"yaxis\":{\"backgroundcolor\":\"#E5ECF6\",\"gridcolor\":\"white\",\"linecolor\":\"white\",\"showbackground\":true,\"ticks\":\"\",\"zerolinecolor\":\"white\",\"gridwidth\":2},\"zaxis\":{\"backgroundcolor\":\"#E5ECF6\",\"gridcolor\":\"white\",\"linecolor\":\"white\",\"showbackground\":true,\"ticks\":\"\",\"zerolinecolor\":\"white\",\"gridwidth\":2}},\"shapedefaults\":{\"line\":{\"color\":\"#2a3f5f\"}},\"annotationdefaults\":{\"arrowcolor\":\"#2a3f5f\",\"arrowhead\":0,\"arrowwidth\":1},\"geo\":{\"bgcolor\":\"white\",\"landcolor\":\"#E5ECF6\",\"subunitcolor\":\"white\",\"showland\":true,\"showlakes\":true,\"lakecolor\":\"white\"},\"title\":{\"x\":0.05},\"mapbox\":{\"style\":\"light\"}}},\"title\":{\"font\":{\"color\":\"black\"},\"text\":\"Happiness vs Gini Index\"},\"margin\":{\"t\":80,\"b\":80,\"l\":80,\"r\":80},\"xaxis\":{\"title\":{\"font\":{\"size\":14,\"color\":\"black\"},\"text\":\"Gini Index\"},\"tickfont\":{\"size\":12,\"color\":\"black\"},\"range\":[24.4,53.5],\"fixedrange\":true,\"automargin\":false},\"yaxis\":{\"title\":{\"font\":{\"size\":14,\"color\":\"black\"},\"text\":\"Happiness\"},\"tickfont\":{\"size\":12,\"color\":\"black\"},\"range\":[1,10],\"fixedrange\":true,\"tickmode\":\"linear\",\"dtick\":1,\"automargin\":false,\"autorange\":false},\"hoverlabel\":{\"font\":{\"size\":12,\"color\":\"black\"}},\"legend\":{\"font\":{\"size\":12,\"color\":\"black\"},\"x\":0.01,\"y\":0.99,\"borderwidth\":0},\"paper_bgcolor\":\"#EDF1EC\",\"plot_bgcolor\":\"#EDF1EC\",\"sliders\":[{\"active\":0,\"currentvalue\":{\"prefix\":\"Metric: \"},\"len\":0.9,\"pad\":{\"t\":50},\"steps\":[{\"args\":[{\"visible\":[true,false,false,true,false,false]},{\"title\":{\"text\":\"Happiness vs Gini Index\"},\"xaxis\":{\"title\":\"Gini Index\",\"range\":[24.4,53.5],\"fixedrange\":true},\"yaxis\":{\"title\":\"Happiness\",\"range\":[1,10],\"fixedrange\":true}}],\"label\":\"Gini Index\",\"method\":\"update\"},{\"args\":[{\"visible\":[false,true,false,false,true,false]},{\"title\":{\"text\":\"Happiness vs GDP per Capita\"},\"xaxis\":{\"title\":\"GDP per Capita (USD)\",\"range\":[-5092.69364579,112705.07052599],\"fixedrange\":true},\"yaxis\":{\"title\":\"Happiness\",\"range\":[1,10],\"fixedrange\":true}}],\"label\":\"GDP per Capita\",\"method\":\"update\"},{\"args\":[{\"visible\":[false,false,true,false,false,true]},{\"title\":{\"text\":\"Happiness vs GNI per Capita\"},\"xaxis\":{\"title\":\"GNI per Capita (USD)\",\"range\":[-3832.380706655,86257.648675555],\"fixedrange\":true},\"yaxis\":{\"title\":\"Happiness\",\"range\":[1,10],\"fixedrange\":true}}],\"label\":\"GNI per Capita\",\"method\":\"update\"}],\"x\":0.1,\"xanchor\":\"left\"}],\"width\":800,\"height\":600,\"autosize\":false,\"showlegend\":true},                        {\"responsive\": true}                    ).then(function(){\n",
       "                            \n",
       "var gd = document.getElementById('06186d24-e400-4588-b223-40860e30d949');\n",
       "var x = new MutationObserver(function (mutations, observer) {{\n",
       "        var display = window.getComputedStyle(gd).display;\n",
       "        if (!display || display === 'none') {{\n",
       "            console.log([gd, 'removed!']);\n",
       "            Plotly.purge(gd);\n",
       "            observer.disconnect();\n",
       "        }}\n",
       "}});\n",
       "\n",
       "// Listen for the removal of the full notebook cells\n",
       "var notebookContainer = gd.closest('#notebook-container');\n",
       "if (notebookContainer) {{\n",
       "    x.observe(notebookContainer, {childList: true});\n",
       "}}\n",
       "\n",
       "// Listen for the clearing of the current output cell\n",
       "var outputEl = gd.closest('.output');\n",
       "if (outputEl) {{\n",
       "    x.observe(outputEl, {childList: true});\n",
       "}}\n",
       "\n",
       "                        })                };            </script>        </div>"
      ]
     },
     "metadata": {},
     "output_type": "display_data"
    }
   ],
   "source": [
    "import pandas as pd\n",
    "import numpy as np\n",
    "import plotly.graph_objects as go\n",
    "from plotly.offline import init_notebook_mode, iplot\n",
    "\n",
    "init_notebook_mode(connected=True)\n",
    "\n",
    "df = pd.read_csv('final.csv')\n",
    "\n",
    "df['Happiness_rank'] = df['Happiness'].rank(method='min', ascending=False).astype(int)\n",
    "total_countries = df['Country'].nunique()\n",
    "\n",
    "df_gini = df.dropna(subset=['Gini_index', 'Happiness', 'Country', 'Happiness_rank'])\n",
    "df_gdp  = df.dropna(subset=['GDP_current_usd', 'Happiness', 'Country', 'Happiness_rank'])\n",
    "df_gni  = df.dropna(subset=['GNI_current_usd', 'Happiness', 'Country', 'Happiness_rank'])\n",
    "\n",
    "def buffer_range(series, buffer_ratio=0.05):\n",
    "    min_val = series.min()\n",
    "    max_val = series.max()\n",
    "    buffer = (max_val - min_val) * buffer_ratio\n",
    "    return [min_val - buffer, max_val + buffer]\n",
    "\n",
    "x_range_gini = [df_gini['Gini_index'].min(), df_gini['Gini_index'].max()]\n",
    "x_range_gdp = buffer_range(df_gdp['GDP_current_usd'])\n",
    "x_range_gni = buffer_range(df_gni['GNI_current_usd'])\n",
    "y_range = [1, 10]\n",
    "\n",
    "def add_trend_trace(x, y, color, visible=True):\n",
    "    x_vals = x.values\n",
    "    y_vals = y.values\n",
    "    slope, intercept = np.polyfit(x_vals, y_vals, 1)\n",
    "    x_trend = np.linspace(min(x_vals), max(x_vals), 100)\n",
    "    y_trend = slope * x_trend + intercept\n",
    "    \n",
    "    return go.Scatter(\n",
    "        x=x_trend,\n",
    "        y=y_trend,\n",
    "        mode='lines',\n",
    "        line=dict(color=color, dash='dash'),\n",
    "        name='Trend Line',\n",
    "        visible=visible,\n",
    "        hoverinfo='skip'\n",
    "    )\n",
    "\n",
    "trace_gini = go.Scatter(\n",
    "    x=df_gini['Gini_index'],\n",
    "    y=df_gini['Happiness'],\n",
    "    mode='markers',\n",
    "    name='Gini Index',\n",
    "    visible=True,\n",
    "    text=df_gini['Country'],\n",
    "    customdata=df_gini['Happiness_rank'],\n",
    "    hovertemplate=(\n",
    "        \"Country: %{text}<br>\"\n",
    "        f\"Rank: %{{customdata}} out of {total_countries}<br>\"\n",
    "        \"Gini Index: %{x:.1f}<br>\"\n",
    "        \"Happiness: %{y:.2f}<extra></extra>\"\n",
    "    )\n",
    ")\n",
    "\n",
    "trace_gdp = go.Scatter(\n",
    "    x=df_gdp['GDP_current_usd'],\n",
    "    y=df_gdp['Happiness'],\n",
    "    mode='markers',\n",
    "    name='GDP per Capita',\n",
    "    visible=False,\n",
    "    text=df_gdp['Country'],\n",
    "    customdata=df_gdp['Happiness_rank'],\n",
    "    hovertemplate=(\n",
    "        \"Country: %{text}<br>\"\n",
    "        f\"Rank: %{{customdata}} out of {total_countries}<br>\"\n",
    "        \"GDP per Capita: $%{x:,.0f}<br>\"\n",
    "        \"Happiness: %{y:.2f}<extra></extra>\"\n",
    "    )\n",
    ")\n",
    "\n",
    "trace_gni = go.Scatter(\n",
    "    x=df_gni['GNI_current_usd'],\n",
    "    y=df_gni['Happiness'],\n",
    "    mode='markers',\n",
    "    name='GNI per Capita',\n",
    "    visible=False,\n",
    "    text=df_gni['Country'],\n",
    "    customdata=df_gni['Happiness_rank'],\n",
    "    hovertemplate=(\n",
    "        \"Country: %{text}<br>\"\n",
    "        f\"Rank: %{{customdata}} out of {total_countries}<br>\"\n",
    "        \"GNI per Capita: $%{x:,.0f}<br>\"\n",
    "        \"Happiness: %{y:.2f}<extra></extra>\"\n",
    "    )\n",
    ")\n",
    "\n",
    "trend_gini = add_trend_trace(df_gini['Gini_index'], df_gini['Happiness'], 'blue', True)\n",
    "trend_gdp  = add_trend_trace(df_gdp['GDP_current_usd'], df_gdp['Happiness'], 'blue', False)\n",
    "trend_gni  = add_trend_trace(df_gni['GNI_current_usd'], df_gni['Happiness'], 'blue', False)\n",
    "\n",
    "fig = go.Figure(data=[trace_gini, trace_gdp, trace_gni, trend_gini, trend_gdp, trend_gni])\n",
    "\n",
    "steps = [\n",
    "    dict(method='update', label='Gini Index',\n",
    "         args=[{'visible': [True, False, False, True, False, False]},\n",
    "               {'title': {'text': 'Happiness vs Gini Index'},\n",
    "                'xaxis': {'title': 'Gini Index', 'range': x_range_gini, 'fixedrange': True},\n",
    "                'yaxis': {'title': 'Happiness', 'range': y_range, 'fixedrange': True}}]),\n",
    "    dict(method='update', label='GDP per Capita',\n",
    "         args=[{'visible': [False, True, False, False, True, False]},\n",
    "               {'title': {'text': 'Happiness vs GDP per Capita'},\n",
    "                'xaxis': {'title': 'GDP per Capita (USD)', 'range': x_range_gdp, 'fixedrange': True},\n",
    "                'yaxis': {'title': 'Happiness', 'range': y_range, 'fixedrange': True}}]),\n",
    "    dict(method='update', label='GNI per Capita',\n",
    "         args=[{'visible': [False, False, True, False, False, True]},\n",
    "               {'title': {'text': 'Happiness vs GNI per Capita'},\n",
    "                'xaxis': {'title': 'GNI per Capita (USD)', 'range': x_range_gni, 'fixedrange': True},\n",
    "                'yaxis': {'title': 'Happiness', 'range': y_range, 'fixedrange': True}}])\n",
    "]\n",
    "\n",
    "fig.update_layout(\n",
    "    paper_bgcolor='#EDF1EC',\n",
    "    plot_bgcolor='#EDF1EC',\n",
    "    sliders=[dict(\n",
    "        active=0,\n",
    "        currentvalue={'prefix': 'Metric: '},\n",
    "        pad={'t': 50},\n",
    "        steps=steps,\n",
    "        len=0.9,\n",
    "        x=0.1,\n",
    "        xanchor='left'\n",
    "    )],\n",
    "    title={'text': \"Happiness vs Gini Index\"},\n",
    "    title_font_color='black',\n",
    "    width=800,\n",
    "    height=600,\n",
    "    autosize=False,\n",
    "    margin=dict(t=80, b=80, l=80, r=80),\n",
    "    xaxis=dict(\n",
    "        title=dict(text='Gini Index', font=dict(size=14, color='black')),\n",
    "        range=x_range_gini,\n",
    "        fixedrange=True,\n",
    "        tickfont=dict(size=12, color='black'),\n",
    "        automargin=False\n",
    "    ),\n",
    "    yaxis=dict(\n",
    "        title=dict(text='Happiness', font=dict(size=14, color='black')),\n",
    "        range=y_range,\n",
    "        fixedrange=True,\n",
    "        tickmode='linear',\n",
    "        dtick=1,\n",
    "        tickfont=dict(size=12, color='black'),\n",
    "        automargin=False,\n",
    "        autorange=False\n",
    "    ),\n",
    "    hoverlabel=dict(font=dict(size=12, color='black')),\n",
    "    showlegend=True,\n",
    "    legend=dict(\n",
    "        font=dict(size=12, color='black'),\n",
    "        x=0.01, y=0.99,\n",
    "        borderwidth=0,\n",
    "    )\n",
    ")\n",
    "\n",
    "fig.show()\n"
   ]
  },
  {
   "cell_type": "markdown",
   "id": "4a112e79",
   "metadata": {},
   "source": [
    "The figure below shows a graph with the ranking of Gini index, GDP and GNI compared to the happiness. This way a mismatch can be seen and the amount of extreme cases is visible. When the mismatch is >30, the line turns red. For the gini index this is slightly difference, the line is red when the mismatch is >20. This is because there is a lot of missing data for gini index, so the sample rate is smaller. Therefore a mismatch of >30 has a way bigger impact than it has for GDP or GNI. The plot about the gini index and happiness shows a large amount of mismatches between the two variables suggesting the correlation between the two might not be as strong as it seemed from previous representations. This is in stark contrast to the plots about GDP per capita and GNI per capita, these variables seem te accurately predict and match their respective ranking within the happiness index. This suggests a positive correlation between the GDP per capita and GNI per capita, and thus the wealth, and the happiness reported in a country."
   ]
  },
  {
   "cell_type": "code",
   "execution_count": 10,
   "id": "555c71a5",
   "metadata": {
    "tags": [
     "remove-input"
    ]
   },
   "outputs": [
    {
     "data": {
      "application/vnd.plotly.v1+json": {
       "config": {
        "plotlyServerURL": "https://plot.ly"
       },
       "data": [
        {
         "hoverinfo": "text",
         "hovertext": "Slovenia<br>Gini Index Rank: 1<br>Happiness Rank: 28<br>Mismatch: 27",
         "line": {
          "color": "#D81B60",
          "width": 2
         },
         "mode": "lines+markers",
         "name": "Slovenia",
         "type": "scatter",
         "x": [
          "Gini Index Rank",
          "Happiness Rank"
         ],
         "y": [
          1,
          28
         ]
        },
        {
         "hoverinfo": "text",
         "hovertext": "Belarus<br>Gini Index Rank: 2<br>Happiness Rank: 50<br>Mismatch: 48",
         "line": {
          "color": "#D81B60",
          "width": 2
         },
         "mode": "lines+markers",
         "name": "Belarus",
         "type": "scatter",
         "x": [
          "Gini Index Rank",
          "Happiness Rank"
         ],
         "y": [
          2,
          50
         ]
        },
        {
         "hoverinfo": "text",
         "hovertext": "Moldova<br>Gini Index Rank: 3<br>Happiness Rank: 46<br>Mismatch: 43",
         "line": {
          "color": "#D81B60",
          "width": 2
         },
         "mode": "lines+markers",
         "name": "Moldova",
         "type": "scatter",
         "x": [
          "Gini Index Rank",
          "Happiness Rank"
         ],
         "y": [
          3,
          46
         ]
        },
        {
         "hoverinfo": "text",
         "hovertext": "Ukraine<br>Gini Index Rank: 4<br>Happiness Rank: 62<br>Mismatch: 58",
         "line": {
          "color": "#D81B60",
          "width": 2
         },
         "mode": "lines+markers",
         "name": "Ukraine",
         "type": "scatter",
         "x": [
          "Gini Index Rank",
          "Happiness Rank"
         ],
         "y": [
          4,
          62
         ]
        },
        {
         "hoverinfo": "text",
         "hovertext": "Belgium<br>Gini Index Rank: 5<br>Happiness Rank: 15<br>Mismatch: 10",
         "line": {
          "color": "#1E88E5",
          "width": 2
         },
         "mode": "lines+markers",
         "name": "Belgium",
         "type": "scatter",
         "x": [
          "Gini Index Rank",
          "Happiness Rank"
         ],
         "y": [
          5,
          15
         ]
        },
        {
         "hoverinfo": "text",
         "hovertext": "Denmark<br>Gini Index Rank: 6<br>Happiness Rank: 2<br>Mismatch: 4",
         "line": {
          "color": "#1E88E5",
          "width": 2
         },
         "mode": "lines+markers",
         "name": "Denmark",
         "type": "scatter",
         "x": [
          "Gini Index Rank",
          "Happiness Rank"
         ],
         "y": [
          6,
          2
         ]
        },
        {
         "hoverinfo": "text",
         "hovertext": "Finland<br>Gini Index Rank: 7<br>Happiness Rank: 1<br>Mismatch: 6",
         "line": {
          "color": "#1E88E5",
          "width": 2
         },
         "mode": "lines+markers",
         "name": "Finland",
         "type": "scatter",
         "x": [
          "Gini Index Rank",
          "Happiness Rank"
         ],
         "y": [
          7,
          1
         ]
        },
        {
         "hoverinfo": "text",
         "hovertext": "Norway<br>Gini Index Rank: 8<br>Happiness Rank: 3<br>Mismatch: 5",
         "line": {
          "color": "#1E88E5",
          "width": 2
         },
         "mode": "lines+markers",
         "name": "Norway",
         "type": "scatter",
         "x": [
          "Gini Index Rank",
          "Happiness Rank"
         ],
         "y": [
          8,
          3
         ]
        },
        {
         "hoverinfo": "text",
         "hovertext": "Kazakhstan<br>Gini Index Rank: 9<br>Happiness Rank: 39<br>Mismatch: 30",
         "line": {
          "color": "#D81B60",
          "width": 2
         },
         "mode": "lines+markers",
         "name": "Kazakhstan",
         "type": "scatter",
         "x": [
          "Gini Index Rank",
          "Happiness Rank"
         ],
         "y": [
          9,
          39
         ]
        },
        {
         "hoverinfo": "text",
         "hovertext": "Poland<br>Gini Index Rank: 10<br>Happiness Rank: 25<br>Mismatch: 15",
         "line": {
          "color": "#1E88E5",
          "width": 2
         },
         "mode": "lines+markers",
         "name": "Poland",
         "type": "scatter",
         "x": [
          "Gini Index Rank",
          "Happiness Rank"
         ],
         "y": [
          10,
          25
         ]
        },
        {
         "hoverinfo": "text",
         "hovertext": "Croatia<br>Gini Index Rank: 11<br>Happiness Rank: 48<br>Mismatch: 37",
         "line": {
          "color": "#D81B60",
          "width": 2
         },
         "mode": "lines+markers",
         "name": "Croatia",
         "type": "scatter",
         "x": [
          "Gini Index Rank",
          "Happiness Rank"
         ],
         "y": [
          11,
          48
         ]
        },
        {
         "hoverinfo": "text",
         "hovertext": "Netherlands<br>Gini Index Rank: 12<br>Happiness Rank: 4<br>Mismatch: 8",
         "line": {
          "color": "#1E88E5",
          "width": 2
         },
         "mode": "lines+markers",
         "name": "Netherlands",
         "type": "scatter",
         "x": [
          "Gini Index Rank",
          "Happiness Rank"
         ],
         "y": [
          12,
          4
         ]
        },
        {
         "hoverinfo": "text",
         "hovertext": "Sweden<br>Gini Index Rank: 13<br>Happiness Rank: 6<br>Mismatch: 7",
         "line": {
          "color": "#1E88E5",
          "width": 2
         },
         "mode": "lines+markers",
         "name": "Sweden",
         "type": "scatter",
         "x": [
          "Gini Index Rank",
          "Happiness Rank"
         ],
         "y": [
          13,
          6
         ]
        },
        {
         "hoverinfo": "text",
         "hovertext": "Armenia<br>Gini Index Rank: 14<br>Happiness Rank: 57<br>Mismatch: 43",
         "line": {
          "color": "#D81B60",
          "width": 2
         },
         "mode": "lines+markers",
         "name": "Armenia",
         "type": "scatter",
         "x": [
          "Gini Index Rank",
          "Happiness Rank"
         ],
         "y": [
          14,
          57
         ]
        },
        {
         "hoverinfo": "text",
         "hovertext": "Hungary<br>Gini Index Rank: 15<br>Happiness Rank: 41<br>Mismatch: 26",
         "line": {
          "color": "#D81B60",
          "width": 2
         },
         "mode": "lines+markers",
         "name": "Hungary",
         "type": "scatter",
         "x": [
          "Gini Index Rank",
          "Happiness Rank"
         ],
         "y": [
          15,
          41
         ]
        },
        {
         "hoverinfo": "text",
         "hovertext": "Albania<br>Gini Index Rank: 16<br>Happiness Rank: 56<br>Mismatch: 40",
         "line": {
          "color": "#D81B60",
          "width": 2
         },
         "mode": "lines+markers",
         "name": "Albania",
         "type": "scatter",
         "x": [
          "Gini Index Rank",
          "Happiness Rank"
         ],
         "y": [
          16,
          56
         ]
        },
        {
         "hoverinfo": "text",
         "hovertext": "Austria<br>Gini Index Rank: 17<br>Happiness Rank: 8<br>Mismatch: 9",
         "line": {
          "color": "#1E88E5",
          "width": 2
         },
         "mode": "lines+markers",
         "name": "Austria",
         "type": "scatter",
         "x": [
          "Gini Index Rank",
          "Happiness Rank"
         ],
         "y": [
          17,
          8
         ]
        },
        {
         "hoverinfo": "text",
         "hovertext": "Ireland<br>Gini Index Rank: 18<br>Happiness Rank: 13<br>Mismatch: 5",
         "line": {
          "color": "#1E88E5",
          "width": 2
         },
         "mode": "lines+markers",
         "name": "Ireland",
         "type": "scatter",
         "x": [
          "Gini Index Rank",
          "Happiness Rank"
         ],
         "y": [
          18,
          13
         ]
        },
        {
         "hoverinfo": "text",
         "hovertext": "Estonia<br>Gini Index Rank: 19<br>Happiness Rank: 36<br>Mismatch: 17",
         "line": {
          "color": "#D81B60",
          "width": 2
         },
         "mode": "lines+markers",
         "name": "Estonia",
         "type": "scatter",
         "x": [
          "Gini Index Rank",
          "Happiness Rank"
         ],
         "y": [
          19,
          36
         ]
        },
        {
         "hoverinfo": "text",
         "hovertext": "Malta<br>Gini Index Rank: 20<br>Happiness Rank: 17<br>Mismatch: 3",
         "line": {
          "color": "#1E88E5",
          "width": 2
         },
         "mode": "lines+markers",
         "name": "Malta",
         "type": "scatter",
         "x": [
          "Gini Index Rank",
          "Happiness Rank"
         ],
         "y": [
          20,
          17
         ]
        },
        {
         "hoverinfo": "text",
         "hovertext": "Cyprus<br>Gini Index Rank: 21<br>Happiness Rank: 32<br>Mismatch: 11",
         "line": {
          "color": "#1E88E5",
          "width": 2
         },
         "mode": "lines+markers",
         "name": "Cyprus",
         "type": "scatter",
         "x": [
          "Gini Index Rank",
          "Happiness Rank"
         ],
         "y": [
          21,
          32
         ]
        },
        {
         "hoverinfo": "text",
         "hovertext": "France<br>Gini Index Rank: 22<br>Happiness Rank: 18<br>Mismatch: 4",
         "line": {
          "color": "#1E88E5",
          "width": 2
         },
         "mode": "lines+markers",
         "name": "France",
         "type": "scatter",
         "x": [
          "Gini Index Rank",
          "Happiness Rank"
         ],
         "y": [
          22,
          18
         ]
        },
        {
         "hoverinfo": "text",
         "hovertext": "Canada<br>Gini Index Rank: 23<br>Happiness Rank: 7<br>Mismatch: 16",
         "line": {
          "color": "#D81B60",
          "width": 2
         },
         "mode": "lines+markers",
         "name": "Canada",
         "type": "scatter",
         "x": [
          "Gini Index Rank",
          "Happiness Rank"
         ],
         "y": [
          23,
          7
         ]
        },
        {
         "hoverinfo": "text",
         "hovertext": "Germany<br>Gini Index Rank: 24<br>Happiness Rank: 14<br>Mismatch: 10",
         "line": {
          "color": "#1E88E5",
          "width": 2
         },
         "mode": "lines+markers",
         "name": "Germany",
         "type": "scatter",
         "x": [
          "Gini Index Rank",
          "Happiness Rank"
         ],
         "y": [
          24,
          14
         ]
        },
        {
         "hoverinfo": "text",
         "hovertext": "Mauritania<br>Gini Index Rank: 25<br>Happiness Rank: 59<br>Mismatch: 34",
         "line": {
          "color": "#D81B60",
          "width": 2
         },
         "mode": "lines+markers",
         "name": "Mauritania",
         "type": "scatter",
         "x": [
          "Gini Index Rank",
          "Happiness Rank"
         ],
         "y": [
          25,
          59
         ]
        },
        {
         "hoverinfo": "text",
         "hovertext": "Portugal<br>Gini Index Rank: 26<br>Happiness Rank: 44<br>Mismatch: 18",
         "line": {
          "color": "#D81B60",
          "width": 2
         },
         "mode": "lines+markers",
         "name": "Portugal",
         "type": "scatter",
         "x": [
          "Gini Index Rank",
          "Happiness Rank"
         ],
         "y": [
          26,
          44
         ]
        },
        {
         "hoverinfo": "text",
         "hovertext": "United Kingdom<br>Gini Index Rank: 27<br>Happiness Rank: 12<br>Mismatch: 15",
         "line": {
          "color": "#1E88E5",
          "width": 2
         },
         "mode": "lines+markers",
         "name": "United Kingdom",
         "type": "scatter",
         "x": [
          "Gini Index Rank",
          "Happiness Rank"
         ],
         "y": [
          27,
          12
         ]
        },
        {
         "hoverinfo": "text",
         "hovertext": "Japan<br>Gini Index Rank: 28<br>Happiness Rank: 37<br>Mismatch: 9",
         "line": {
          "color": "#1E88E5",
          "width": 2
         },
         "mode": "lines+markers",
         "name": "Japan",
         "type": "scatter",
         "x": [
          "Gini Index Rank",
          "Happiness Rank"
         ],
         "y": [
          28,
          37
         ]
        },
        {
         "hoverinfo": "text",
         "hovertext": "Greece<br>Gini Index Rank: 29<br>Happiness Rank: 51<br>Mismatch: 22",
         "line": {
          "color": "#D81B60",
          "width": 2
         },
         "mode": "lines+markers",
         "name": "Greece",
         "type": "scatter",
         "x": [
          "Gini Index Rank",
          "Happiness Rank"
         ],
         "y": [
          29,
          51
         ]
        },
        {
         "hoverinfo": "text",
         "hovertext": "North Macedonia<br>Gini Index Rank: 30<br>Happiness Rank: 52<br>Mismatch: 22",
         "line": {
          "color": "#D81B60",
          "width": 2
         },
         "mode": "lines+markers",
         "name": "North Macedonia",
         "type": "scatter",
         "x": [
          "Gini Index Rank",
          "Happiness Rank"
         ],
         "y": [
          30,
          52
         ]
        },
        {
         "hoverinfo": "text",
         "hovertext": "Switzerland<br>Gini Index Rank: 31<br>Happiness Rank: 5<br>Mismatch: 26",
         "line": {
          "color": "#D81B60",
          "width": 2
         },
         "mode": "lines+markers",
         "name": "Switzerland",
         "type": "scatter",
         "x": [
          "Gini Index Rank",
          "Happiness Rank"
         ],
         "y": [
          31,
          5
         ]
        },
        {
         "hoverinfo": "text",
         "hovertext": "Luxembourg<br>Gini Index Rank: 32<br>Happiness Rank: 11<br>Mismatch: 21",
         "line": {
          "color": "#D81B60",
          "width": 2
         },
         "mode": "lines+markers",
         "name": "Luxembourg",
         "type": "scatter",
         "x": [
          "Gini Index Rank",
          "Happiness Rank"
         ],
         "y": [
          32,
          11
         ]
        },
        {
         "hoverinfo": "text",
         "hovertext": "Spain<br>Gini Index Rank: 33<br>Happiness Rank: 19<br>Mismatch: 14",
         "line": {
          "color": "#1E88E5",
          "width": 2
         },
         "mode": "lines+markers",
         "name": "Spain",
         "type": "scatter",
         "x": [
          "Gini Index Rank",
          "Happiness Rank"
         ],
         "y": [
          33,
          19
         ]
        },
        {
         "hoverinfo": "text",
         "hovertext": "Latvia<br>Gini Index Rank: 34<br>Happiness Rank: 35<br>Mismatch: 1",
         "line": {
          "color": "#1E88E5",
          "width": 2
         },
         "mode": "lines+markers",
         "name": "Latvia",
         "type": "scatter",
         "x": [
          "Gini Index Rank",
          "Happiness Rank"
         ],
         "y": [
          34,
          35
         ]
        },
        {
         "hoverinfo": "text",
         "hovertext": "Serbia<br>Gini Index Rank: 35<br>Happiness Rank: 45<br>Mismatch: 10",
         "line": {
          "color": "#1E88E5",
          "width": 2
         },
         "mode": "lines+markers",
         "name": "Serbia",
         "type": "scatter",
         "x": [
          "Gini Index Rank",
          "Happiness Rank"
         ],
         "y": [
          35,
          45
         ]
        },
        {
         "hoverinfo": "text",
         "hovertext": "Italy<br>Gini Index Rank: 36<br>Happiness Rank: 24<br>Mismatch: 12",
         "line": {
          "color": "#1E88E5",
          "width": 2
         },
         "mode": "lines+markers",
         "name": "Italy",
         "type": "scatter",
         "x": [
          "Gini Index Rank",
          "Happiness Rank"
         ],
         "y": [
          36,
          24
         ]
        },
        {
         "hoverinfo": "text",
         "hovertext": "Romania<br>Gini Index Rank: 37<br>Happiness Rank: 31<br>Mismatch: 6",
         "line": {
          "color": "#1E88E5",
          "width": 2
         },
         "mode": "lines+markers",
         "name": "Romania",
         "type": "scatter",
         "x": [
          "Gini Index Rank",
          "Happiness Rank"
         ],
         "y": [
          37,
          31
         ]
        },
        {
         "hoverinfo": "text",
         "hovertext": "Thailand<br>Gini Index Rank: 38<br>Happiness Rank: 34<br>Mismatch: 4",
         "line": {
          "color": "#1E88E5",
          "width": 2
         },
         "mode": "lines+markers",
         "name": "Thailand",
         "type": "scatter",
         "x": [
          "Gini Index Rank",
          "Happiness Rank"
         ],
         "y": [
          38,
          34
         ]
        },
        {
         "hoverinfo": "text",
         "hovertext": "Lithuania<br>Gini Index Rank: 39<br>Happiness Rank: 26<br>Mismatch: 13",
         "line": {
          "color": "#1E88E5",
          "width": 2
         },
         "mode": "lines+markers",
         "name": "Lithuania",
         "type": "scatter",
         "x": [
          "Gini Index Rank",
          "Happiness Rank"
         ],
         "y": [
          39,
          26
         ]
        },
        {
         "hoverinfo": "text",
         "hovertext": "Indonesia<br>Gini Index Rank: 40<br>Happiness Rank: 53<br>Mismatch: 13",
         "line": {
          "color": "#1E88E5",
          "width": 2
         },
         "mode": "lines+markers",
         "name": "Indonesia",
         "type": "scatter",
         "x": [
          "Gini Index Rank",
          "Happiness Rank"
         ],
         "y": [
          40,
          53
         ]
        },
        {
         "hoverinfo": "text",
         "hovertext": "Montenegro<br>Gini Index Rank: 41<br>Happiness Rank: 47<br>Mismatch: 6",
         "line": {
          "color": "#1E88E5",
          "width": 2
         },
         "mode": "lines+markers",
         "name": "Montenegro",
         "type": "scatter",
         "x": [
          "Gini Index Rank",
          "Happiness Rank"
         ],
         "y": [
          41,
          47
         ]
        },
        {
         "hoverinfo": "text",
         "hovertext": "Georgia<br>Gini Index Rank: 42<br>Happiness Rank: 58<br>Mismatch: 16",
         "line": {
          "color": "#D81B60",
          "width": 2
         },
         "mode": "lines+markers",
         "name": "Georgia",
         "type": "scatter",
         "x": [
          "Gini Index Rank",
          "Happiness Rank"
         ],
         "y": [
          42,
          58
         ]
        },
        {
         "hoverinfo": "text",
         "hovertext": "Sri Lanka<br>Gini Index Rank: 43<br>Happiness Rank: 61<br>Mismatch: 18",
         "line": {
          "color": "#D81B60",
          "width": 2
         },
         "mode": "lines+markers",
         "name": "Sri Lanka",
         "type": "scatter",
         "x": [
          "Gini Index Rank",
          "Happiness Rank"
         ],
         "y": [
          43,
          61
         ]
        },
        {
         "hoverinfo": "text",
         "hovertext": "China<br>Gini Index Rank: 44<br>Happiness Rank: 54<br>Mismatch: 10",
         "line": {
          "color": "#1E88E5",
          "width": 2
         },
         "mode": "lines+markers",
         "name": "China",
         "type": "scatter",
         "x": [
          "Gini Index Rank",
          "Happiness Rank"
         ],
         "y": [
          44,
          54
         ]
        },
        {
         "hoverinfo": "text",
         "hovertext": "Israel<br>Gini Index Rank: 45<br>Happiness Rank: 10<br>Mismatch: 35",
         "line": {
          "color": "#D81B60",
          "width": 2
         },
         "mode": "lines+markers",
         "name": "Israel",
         "type": "scatter",
         "x": [
          "Gini Index Rank",
          "Happiness Rank"
         ],
         "y": [
          45,
          10
         ]
        },
        {
         "hoverinfo": "text",
         "hovertext": "Malawi<br>Gini Index Rank: 46<br>Happiness Rank: 65<br>Mismatch: 19",
         "line": {
          "color": "#D81B60",
          "width": 2
         },
         "mode": "lines+markers",
         "name": "Malawi",
         "type": "scatter",
         "x": [
          "Gini Index Rank",
          "Happiness Rank"
         ],
         "y": [
          46,
          65
         ]
        },
        {
         "hoverinfo": "text",
         "hovertext": "El Salvador<br>Gini Index Rank: 47<br>Happiness Rank: 23<br>Mismatch: 24",
         "line": {
          "color": "#D81B60",
          "width": 2
         },
         "mode": "lines+markers",
         "name": "El Salvador",
         "type": "scatter",
         "x": [
          "Gini Index Rank",
          "Happiness Rank"
         ],
         "y": [
          47,
          23
         ]
        },
        {
         "hoverinfo": "text",
         "hovertext": "Uruguay<br>Gini Index Rank: 48<br>Happiness Rank: 22<br>Mismatch: 26",
         "line": {
          "color": "#D81B60",
          "width": 2
         },
         "mode": "lines+markers",
         "name": "Uruguay",
         "type": "scatter",
         "x": [
          "Gini Index Rank",
          "Happiness Rank"
         ],
         "y": [
          48,
          22
         ]
        },
        {
         "hoverinfo": "text",
         "hovertext": "Kosovo<br>Gini Index Rank: 49<br>Happiness Rank: 29<br>Mismatch: 20",
         "line": {
          "color": "#D81B60",
          "width": 2
         },
         "mode": "lines+markers",
         "name": "Kosovo",
         "type": "scatter",
         "x": [
          "Gini Index Rank",
          "Happiness Rank"
         ],
         "y": [
          49,
          29
         ]
        },
        {
         "hoverinfo": "text",
         "hovertext": "Bulgaria<br>Gini Index Rank: 50<br>Happiness Rank: 55<br>Mismatch: 5",
         "line": {
          "color": "#1E88E5",
          "width": 2
         },
         "mode": "lines+markers",
         "name": "Bulgaria",
         "type": "scatter",
         "x": [
          "Gini Index Rank",
          "Happiness Rank"
         ],
         "y": [
          50,
          55
         ]
        },
        {
         "hoverinfo": "text",
         "hovertext": "Peru<br>Gini Index Rank: 51<br>Happiness Rank: 43<br>Mismatch: 8",
         "line": {
          "color": "#1E88E5",
          "width": 2
         },
         "mode": "lines+markers",
         "name": "Peru",
         "type": "scatter",
         "x": [
          "Gini Index Rank",
          "Happiness Rank"
         ],
         "y": [
          51,
          43
         ]
        },
        {
         "hoverinfo": "text",
         "hovertext": "Bolivia<br>Gini Index Rank: 52<br>Happiness Rank: 40<br>Mismatch: 12",
         "line": {
          "color": "#1E88E5",
          "width": 2
         },
         "mode": "lines+markers",
         "name": "Bolivia",
         "type": "scatter",
         "x": [
          "Gini Index Rank",
          "Happiness Rank"
         ],
         "y": [
          52,
          40
         ]
        },
        {
         "hoverinfo": "text",
         "hovertext": "Dominican Republic<br>Gini Index Rank: 53<br>Happiness Rank: 49<br>Mismatch: 4",
         "line": {
          "color": "#1E88E5",
          "width": 2
         },
         "mode": "lines+markers",
         "name": "Dominican Republic",
         "type": "scatter",
         "x": [
          "Gini Index Rank",
          "Happiness Rank"
         ],
         "y": [
          53,
          49
         ]
        },
        {
         "hoverinfo": "text",
         "hovertext": "United States<br>Gini Index Rank: 54<br>Happiness Rank: 16<br>Mismatch: 38",
         "line": {
          "color": "#D81B60",
          "width": 2
         },
         "mode": "lines+markers",
         "name": "United States",
         "type": "scatter",
         "x": [
          "Gini Index Rank",
          "Happiness Rank"
         ],
         "y": [
          54,
          16
         ]
        },
        {
         "hoverinfo": "text",
         "hovertext": "Uganda<br>Gini Index Rank: 55<br>Happiness Rank: 63<br>Mismatch: 8",
         "line": {
          "color": "#1E88E5",
          "width": 2
         },
         "mode": "lines+markers",
         "name": "Uganda",
         "type": "scatter",
         "x": [
          "Gini Index Rank",
          "Happiness Rank"
         ],
         "y": [
          55,
          63
         ]
        },
        {
         "hoverinfo": "text",
         "hovertext": "Argentina<br>Gini Index Rank: 56<br>Happiness Rank: 30<br>Mismatch: 26",
         "line": {
          "color": "#D81B60",
          "width": 2
         },
         "mode": "lines+markers",
         "name": "Argentina",
         "type": "scatter",
         "x": [
          "Gini Index Rank",
          "Happiness Rank"
         ],
         "y": [
          56,
          30
         ]
        },
        {
         "hoverinfo": "text",
         "hovertext": "Ecuador<br>Gini Index Rank: 57<br>Happiness Rank: 33<br>Mismatch: 24",
         "line": {
          "color": "#D81B60",
          "width": 2
         },
         "mode": "lines+markers",
         "name": "Ecuador",
         "type": "scatter",
         "x": [
          "Gini Index Rank",
          "Happiness Rank"
         ],
         "y": [
          57,
          33
         ]
        },
        {
         "hoverinfo": "text",
         "hovertext": "Paraguay<br>Gini Index Rank: 58<br>Happiness Rank: 42<br>Mismatch: 16",
         "line": {
          "color": "#D81B60",
          "width": 2
         },
         "mode": "lines+markers",
         "name": "Paraguay",
         "type": "scatter",
         "x": [
          "Gini Index Rank",
          "Happiness Rank"
         ],
         "y": [
          58,
          42
         ]
        },
        {
         "hoverinfo": "text",
         "hovertext": "Costa Rica<br>Gini Index Rank: 59<br>Happiness Rank: 9<br>Mismatch: 50",
         "line": {
          "color": "#D81B60",
          "width": 2
         },
         "mode": "lines+markers",
         "name": "Costa Rica",
         "type": "scatter",
         "x": [
          "Gini Index Rank",
          "Happiness Rank"
         ],
         "y": [
          59,
          9
         ]
        },
        {
         "hoverinfo": "text",
         "hovertext": "Honduras<br>Gini Index Rank: 60<br>Happiness Rank: 38<br>Mismatch: 22",
         "line": {
          "color": "#D81B60",
          "width": 2
         },
         "mode": "lines+markers",
         "name": "Honduras",
         "type": "scatter",
         "x": [
          "Gini Index Rank",
          "Happiness Rank"
         ],
         "y": [
          60,
          38
         ]
        },
        {
         "hoverinfo": "text",
         "hovertext": "Panama<br>Gini Index Rank: 61<br>Happiness Rank: 20<br>Mismatch: 41",
         "line": {
          "color": "#D81B60",
          "width": 2
         },
         "mode": "lines+markers",
         "name": "Panama",
         "type": "scatter",
         "x": [
          "Gini Index Rank",
          "Happiness Rank"
         ],
         "y": [
          61,
          20
         ]
        },
        {
         "hoverinfo": "text",
         "hovertext": "Mozambique<br>Gini Index Rank: 62<br>Happiness Rank: 60<br>Mismatch: 2",
         "line": {
          "color": "#1E88E5",
          "width": 2
         },
         "mode": "lines+markers",
         "name": "Mozambique",
         "type": "scatter",
         "x": [
          "Gini Index Rank",
          "Happiness Rank"
         ],
         "y": [
          62,
          60
         ]
        },
        {
         "hoverinfo": "text",
         "hovertext": "Zimbabwe<br>Gini Index Rank: 63<br>Happiness Rank: 64<br>Mismatch: 1",
         "line": {
          "color": "#1E88E5",
          "width": 2
         },
         "mode": "lines+markers",
         "name": "Zimbabwe",
         "type": "scatter",
         "x": [
          "Gini Index Rank",
          "Happiness Rank"
         ],
         "y": [
          63,
          64
         ]
        },
        {
         "hoverinfo": "text",
         "hovertext": "Colombia<br>Gini Index Rank: 64<br>Happiness Rank: 27<br>Mismatch: 37",
         "line": {
          "color": "#D81B60",
          "width": 2
         },
         "mode": "lines+markers",
         "name": "Colombia",
         "type": "scatter",
         "x": [
          "Gini Index Rank",
          "Happiness Rank"
         ],
         "y": [
          64,
          27
         ]
        },
        {
         "hoverinfo": "text",
         "hovertext": "Brazil<br>Gini Index Rank: 65<br>Happiness Rank: 21<br>Mismatch: 44",
         "line": {
          "color": "#D81B60",
          "width": 2
         },
         "mode": "lines+markers",
         "name": "Brazil",
         "type": "scatter",
         "x": [
          "Gini Index Rank",
          "Happiness Rank"
         ],
         "y": [
          65,
          21
         ]
        },
        {
         "hoverinfo": "text",
         "hovertext": "Luxembourg<br>GDP Rank: 1<br>Happiness Rank: 14<br>Mismatch: 13",
         "line": {
          "color": "#1E88E5",
          "width": 2
         },
         "mode": "lines+markers",
         "name": "Luxembourg",
         "type": "scatter",
         "visible": false,
         "x": [
          "GDP Rank",
          "Happiness Rank"
         ],
         "y": [
          1,
          14
         ]
        },
        {
         "hoverinfo": "text",
         "hovertext": "Switzerland<br>GDP Rank: 2<br>Happiness Rank: 6<br>Mismatch: 4",
         "line": {
          "color": "#1E88E5",
          "width": 2
         },
         "mode": "lines+markers",
         "name": "Switzerland",
         "type": "scatter",
         "visible": false,
         "x": [
          "GDP Rank",
          "Happiness Rank"
         ],
         "y": [
          2,
          6
         ]
        },
        {
         "hoverinfo": "text",
         "hovertext": "Ireland<br>GDP Rank: 3<br>Happiness Rank: 16<br>Mismatch: 13",
         "line": {
          "color": "#1E88E5",
          "width": 2
         },
         "mode": "lines+markers",
         "name": "Ireland",
         "type": "scatter",
         "visible": false,
         "x": [
          "GDP Rank",
          "Happiness Rank"
         ],
         "y": [
          3,
          16
         ]
        },
        {
         "hoverinfo": "text",
         "hovertext": "Norway<br>GDP Rank: 4<br>Happiness Rank: 3<br>Mismatch: 1",
         "line": {
          "color": "#1E88E5",
          "width": 2
         },
         "mode": "lines+markers",
         "name": "Norway",
         "type": "scatter",
         "visible": false,
         "x": [
          "GDP Rank",
          "Happiness Rank"
         ],
         "y": [
          4,
          3
         ]
        },
        {
         "hoverinfo": "text",
         "hovertext": "Qatar<br>GDP Rank: 5<br>Happiness Rank: 27<br>Mismatch: 22",
         "line": {
          "color": "#1E88E5",
          "width": 2
         },
         "mode": "lines+markers",
         "name": "Qatar",
         "type": "scatter",
         "visible": false,
         "x": [
          "GDP Rank",
          "Happiness Rank"
         ],
         "y": [
          5,
          27
         ]
        },
        {
         "hoverinfo": "text",
         "hovertext": "United States<br>GDP Rank: 6<br>Happiness Rank: 19<br>Mismatch: 13",
         "line": {
          "color": "#1E88E5",
          "width": 2
         },
         "mode": "lines+markers",
         "name": "United States",
         "type": "scatter",
         "visible": false,
         "x": [
          "GDP Rank",
          "Happiness Rank"
         ],
         "y": [
          6,
          19
         ]
        },
        {
         "hoverinfo": "text",
         "hovertext": "Singapore<br>GDP Rank: 7<br>Happiness Rank: 32<br>Mismatch: 25",
         "line": {
          "color": "#1E88E5",
          "width": 2
         },
         "mode": "lines+markers",
         "name": "Singapore",
         "type": "scatter",
         "visible": false,
         "x": [
          "GDP Rank",
          "Happiness Rank"
         ],
         "y": [
          7,
          32
         ]
        },
        {
         "hoverinfo": "text",
         "hovertext": "Australia<br>GDP Rank: 8<br>Happiness Rank: 11<br>Mismatch: 3",
         "line": {
          "color": "#1E88E5",
          "width": 2
         },
         "mode": "lines+markers",
         "name": "Australia",
         "type": "scatter",
         "visible": false,
         "x": [
          "GDP Rank",
          "Happiness Rank"
         ],
         "y": [
          8,
          11
         ]
        },
        {
         "hoverinfo": "text",
         "hovertext": "Iceland<br>GDP Rank: 9<br>Happiness Rank: 4<br>Mismatch: 5",
         "line": {
          "color": "#1E88E5",
          "width": 2
         },
         "mode": "lines+markers",
         "name": "Iceland",
         "type": "scatter",
         "visible": false,
         "x": [
          "GDP Rank",
          "Happiness Rank"
         ],
         "y": [
          9,
          4
         ]
        },
        {
         "hoverinfo": "text",
         "hovertext": "Denmark<br>GDP Rank: 10<br>Happiness Rank: 2<br>Mismatch: 8",
         "line": {
          "color": "#1E88E5",
          "width": 2
         },
         "mode": "lines+markers",
         "name": "Denmark",
         "type": "scatter",
         "visible": false,
         "x": [
          "GDP Rank",
          "Happiness Rank"
         ],
         "y": [
          10,
          2
         ]
        },
        {
         "hoverinfo": "text",
         "hovertext": "Sweden<br>GDP Rank: 11<br>Happiness Rank: 7<br>Mismatch: 4",
         "line": {
          "color": "#1E88E5",
          "width": 2
         },
         "mode": "lines+markers",
         "name": "Sweden",
         "type": "scatter",
         "visible": false,
         "x": [
          "GDP Rank",
          "Happiness Rank"
         ],
         "y": [
          11,
          7
         ]
        },
        {
         "hoverinfo": "text",
         "hovertext": "Netherlands<br>GDP Rank: 12<br>Happiness Rank: 5<br>Mismatch: 7",
         "line": {
          "color": "#1E88E5",
          "width": 2
         },
         "mode": "lines+markers",
         "name": "Netherlands",
         "type": "scatter",
         "visible": false,
         "x": [
          "GDP Rank",
          "Happiness Rank"
         ],
         "y": [
          12,
          5
         ]
        },
        {
         "hoverinfo": "text",
         "hovertext": "United Kingdom<br>GDP Rank: 13<br>Happiness Rank: 15<br>Mismatch: 2",
         "line": {
          "color": "#1E88E5",
          "width": 2
         },
         "mode": "lines+markers",
         "name": "United Kingdom",
         "type": "scatter",
         "visible": false,
         "x": [
          "GDP Rank",
          "Happiness Rank"
         ],
         "y": [
          13,
          15
         ]
        },
        {
         "hoverinfo": "text",
         "hovertext": "Austria<br>GDP Rank: 14<br>Happiness Rank: 10<br>Mismatch: 4",
         "line": {
          "color": "#1E88E5",
          "width": 2
         },
         "mode": "lines+markers",
         "name": "Austria",
         "type": "scatter",
         "visible": false,
         "x": [
          "GDP Rank",
          "Happiness Rank"
         ],
         "y": [
          14,
          10
         ]
        },
        {
         "hoverinfo": "text",
         "hovertext": "Finland<br>GDP Rank: 15<br>Happiness Rank: 1<br>Mismatch: 14",
         "line": {
          "color": "#1E88E5",
          "width": 2
         },
         "mode": "lines+markers",
         "name": "Finland",
         "type": "scatter",
         "visible": false,
         "x": [
          "GDP Rank",
          "Happiness Rank"
         ],
         "y": [
          15,
          1
         ]
        },
        {
         "hoverinfo": "text",
         "hovertext": "Canada<br>GDP Rank: 16<br>Happiness Rank: 9<br>Mismatch: 7",
         "line": {
          "color": "#1E88E5",
          "width": 2
         },
         "mode": "lines+markers",
         "name": "Canada",
         "type": "scatter",
         "visible": false,
         "x": [
          "GDP Rank",
          "Happiness Rank"
         ],
         "y": [
          16,
          9
         ]
        },
        {
         "hoverinfo": "text",
         "hovertext": "Germany<br>GDP Rank: 17<br>Happiness Rank: 17<br>Mismatch: 0",
         "line": {
          "color": "#1E88E5",
          "width": 2
         },
         "mode": "lines+markers",
         "name": "Germany",
         "type": "scatter",
         "visible": false,
         "x": [
          "GDP Rank",
          "Happiness Rank"
         ],
         "y": [
          17,
          17
         ]
        },
        {
         "hoverinfo": "text",
         "hovertext": "Belgium<br>GDP Rank: 18<br>Happiness Rank: 18<br>Mismatch: 0",
         "line": {
          "color": "#1E88E5",
          "width": 2
         },
         "mode": "lines+markers",
         "name": "Belgium",
         "type": "scatter",
         "visible": false,
         "x": [
          "GDP Rank",
          "Happiness Rank"
         ],
         "y": [
          18,
          18
         ]
        },
        {
         "hoverinfo": "text",
         "hovertext": "United Arab Emirates<br>GDP Rank: 19<br>Happiness Rank: 20<br>Mismatch: 1",
         "line": {
          "color": "#1E88E5",
          "width": 2
         },
         "mode": "lines+markers",
         "name": "United Arab Emirates",
         "type": "scatter",
         "visible": false,
         "x": [
          "GDP Rank",
          "Happiness Rank"
         ],
         "y": [
          19,
          20
         ]
        },
        {
         "hoverinfo": "text",
         "hovertext": "New Zealand<br>GDP Rank: 20<br>Happiness Rank: 8<br>Mismatch: 12",
         "line": {
          "color": "#1E88E5",
          "width": 2
         },
         "mode": "lines+markers",
         "name": "New Zealand",
         "type": "scatter",
         "visible": false,
         "x": [
          "GDP Rank",
          "Happiness Rank"
         ],
         "y": [
          20,
          8
         ]
        },
        {
         "hoverinfo": "text",
         "hovertext": "Israel<br>GDP Rank: 21<br>Happiness Rank: 13<br>Mismatch: 8",
         "line": {
          "color": "#1E88E5",
          "width": 2
         },
         "mode": "lines+markers",
         "name": "Israel",
         "type": "scatter",
         "visible": false,
         "x": [
          "GDP Rank",
          "Happiness Rank"
         ],
         "y": [
          21,
          13
         ]
        },
        {
         "hoverinfo": "text",
         "hovertext": "France<br>GDP Rank: 22<br>Happiness Rank: 23<br>Mismatch: 1",
         "line": {
          "color": "#1E88E5",
          "width": 2
         },
         "mode": "lines+markers",
         "name": "France",
         "type": "scatter",
         "visible": false,
         "x": [
          "GDP Rank",
          "Happiness Rank"
         ],
         "y": [
          22,
          23
         ]
        },
        {
         "hoverinfo": "text",
         "hovertext": "Japan<br>GDP Rank: 23<br>Happiness Rank: 53<br>Mismatch: 30",
         "line": {
          "color": "#1E88E5",
          "width": 2
         },
         "mode": "lines+markers",
         "name": "Japan",
         "type": "scatter",
         "visible": false,
         "x": [
          "GDP Rank",
          "Happiness Rank"
         ],
         "y": [
          23,
          53
         ]
        },
        {
         "hoverinfo": "text",
         "hovertext": "Italy<br>GDP Rank: 24<br>Happiness Rank: 34<br>Mismatch: 10",
         "line": {
          "color": "#1E88E5",
          "width": 2
         },
         "mode": "lines+markers",
         "name": "Italy",
         "type": "scatter",
         "visible": false,
         "x": [
          "GDP Rank",
          "Happiness Rank"
         ],
         "y": [
          24,
          34
         ]
        },
        {
         "hoverinfo": "text",
         "hovertext": "Malta<br>GDP Rank: 25<br>Happiness Rank: 21<br>Mismatch: 4",
         "line": {
          "color": "#1E88E5",
          "width": 2
         },
         "mode": "lines+markers",
         "name": "Malta",
         "type": "scatter",
         "visible": false,
         "x": [
          "GDP Rank",
          "Happiness Rank"
         ],
         "y": [
          25,
          21
         ]
        },
        {
         "hoverinfo": "text",
         "hovertext": "Cyprus<br>GDP Rank: 26<br>Happiness Rank: 45<br>Mismatch: 19",
         "line": {
          "color": "#1E88E5",
          "width": 2
         },
         "mode": "lines+markers",
         "name": "Cyprus",
         "type": "scatter",
         "visible": false,
         "x": [
          "GDP Rank",
          "Happiness Rank"
         ],
         "y": [
          26,
          45
         ]
        },
        {
         "hoverinfo": "text",
         "hovertext": "Spain<br>GDP Rank: 27<br>Happiness Rank: 28<br>Mismatch: 1",
         "line": {
          "color": "#1E88E5",
          "width": 2
         },
         "mode": "lines+markers",
         "name": "Spain",
         "type": "scatter",
         "visible": false,
         "x": [
          "GDP Rank",
          "Happiness Rank"
         ],
         "y": [
          27,
          28
         ]
        },
        {
         "hoverinfo": "text",
         "hovertext": "Kuwait<br>GDP Rank: 28<br>Happiness Rank: 47<br>Mismatch: 19",
         "line": {
          "color": "#1E88E5",
          "width": 2
         },
         "mode": "lines+markers",
         "name": "Kuwait",
         "type": "scatter",
         "visible": false,
         "x": [
          "GDP Rank",
          "Happiness Rank"
         ],
         "y": [
          28,
          47
         ]
        },
        {
         "hoverinfo": "text",
         "hovertext": "Bahrain<br>GDP Rank: 29<br>Happiness Rank: 35<br>Mismatch: 6",
         "line": {
          "color": "#1E88E5",
          "width": 2
         },
         "mode": "lines+markers",
         "name": "Bahrain",
         "type": "scatter",
         "visible": false,
         "x": [
          "GDP Rank",
          "Happiness Rank"
         ],
         "y": [
          29,
          35
         ]
        },
        {
         "hoverinfo": "text",
         "hovertext": "Slovenia<br>GDP Rank: 30<br>Happiness Rank: 40<br>Mismatch: 10",
         "line": {
          "color": "#1E88E5",
          "width": 2
         },
         "mode": "lines+markers",
         "name": "Slovenia",
         "type": "scatter",
         "visible": false,
         "x": [
          "GDP Rank",
          "Happiness Rank"
         ],
         "y": [
          30,
          40
         ]
        },
        {
         "hoverinfo": "text",
         "hovertext": "Saudi Arabia<br>GDP Rank: 31<br>Happiness Rank: 26<br>Mismatch: 5",
         "line": {
          "color": "#1E88E5",
          "width": 2
         },
         "mode": "lines+markers",
         "name": "Saudi Arabia",
         "type": "scatter",
         "visible": false,
         "x": [
          "GDP Rank",
          "Happiness Rank"
         ],
         "y": [
          31,
          26
         ]
        },
        {
         "hoverinfo": "text",
         "hovertext": "Portugal<br>GDP Rank: 32<br>Happiness Rank: 60<br>Mismatch: 28",
         "line": {
          "color": "#1E88E5",
          "width": 2
         },
         "mode": "lines+markers",
         "name": "Portugal",
         "type": "scatter",
         "visible": false,
         "x": [
          "GDP Rank",
          "Happiness Rank"
         ],
         "y": [
          32,
          60
         ]
        },
        {
         "hoverinfo": "text",
         "hovertext": "Estonia<br>GDP Rank: 33<br>Happiness Rank: 50<br>Mismatch: 17",
         "line": {
          "color": "#1E88E5",
          "width": 2
         },
         "mode": "lines+markers",
         "name": "Estonia",
         "type": "scatter",
         "visible": false,
         "x": [
          "GDP Rank",
          "Happiness Rank"
         ],
         "y": [
          33,
          50
         ]
        },
        {
         "hoverinfo": "text",
         "hovertext": "Greece<br>GDP Rank: 34<br>Happiness Rank: 73<br>Mismatch: 39",
         "line": {
          "color": "#D81B60",
          "width": 2
         },
         "mode": "lines+markers",
         "name": "Greece",
         "type": "scatter",
         "visible": false,
         "x": [
          "GDP Rank",
          "Happiness Rank"
         ],
         "y": [
          34,
          73
         ]
        },
        {
         "hoverinfo": "text",
         "hovertext": "Uruguay<br>GDP Rank: 35<br>Happiness Rank: 31<br>Mismatch: 4",
         "line": {
          "color": "#1E88E5",
          "width": 2
         },
         "mode": "lines+markers",
         "name": "Uruguay",
         "type": "scatter",
         "visible": false,
         "x": [
          "GDP Rank",
          "Happiness Rank"
         ],
         "y": [
          35,
          31
         ]
        },
        {
         "hoverinfo": "text",
         "hovertext": "Lithuania<br>GDP Rank: 36<br>Happiness Rank: 38<br>Mismatch: 2",
         "line": {
          "color": "#1E88E5",
          "width": 2
         },
         "mode": "lines+markers",
         "name": "Lithuania",
         "type": "scatter",
         "visible": false,
         "x": [
          "GDP Rank",
          "Happiness Rank"
         ],
         "y": [
          36,
          38
         ]
        },
        {
         "hoverinfo": "text",
         "hovertext": "Panama<br>GDP Rank: 37<br>Happiness Rank: 29<br>Mismatch: 8",
         "line": {
          "color": "#1E88E5",
          "width": 2
         },
         "mode": "lines+markers",
         "name": "Panama",
         "type": "scatter",
         "visible": false,
         "x": [
          "GDP Rank",
          "Happiness Rank"
         ],
         "y": [
          37,
          29
         ]
        },
        {
         "hoverinfo": "text",
         "hovertext": "Latvia<br>GDP Rank: 38<br>Happiness Rank: 49<br>Mismatch: 11",
         "line": {
          "color": "#1E88E5",
          "width": 2
         },
         "mode": "lines+markers",
         "name": "Latvia",
         "type": "scatter",
         "visible": false,
         "x": [
          "GDP Rank",
          "Happiness Rank"
         ],
         "y": [
          38,
          49
         ]
        },
        {
         "hoverinfo": "text",
         "hovertext": "Poland<br>GDP Rank: 39<br>Happiness Rank: 36<br>Mismatch: 3",
         "line": {
          "color": "#1E88E5",
          "width": 2
         },
         "mode": "lines+markers",
         "name": "Poland",
         "type": "scatter",
         "visible": false,
         "x": [
          "GDP Rank",
          "Happiness Rank"
         ],
         "y": [
          39,
          36
         ]
        },
        {
         "hoverinfo": "text",
         "hovertext": "Hungary<br>GDP Rank: 40<br>Happiness Rank: 57<br>Mismatch: 17",
         "line": {
          "color": "#1E88E5",
          "width": 2
         },
         "mode": "lines+markers",
         "name": "Hungary",
         "type": "scatter",
         "visible": false,
         "x": [
          "GDP Rank",
          "Happiness Rank"
         ],
         "y": [
          40,
          57
         ]
        },
        {
         "hoverinfo": "text",
         "hovertext": "Croatia<br>GDP Rank: 41<br>Happiness Rank: 68<br>Mismatch: 27",
         "line": {
          "color": "#1E88E5",
          "width": 2
         },
         "mode": "lines+markers",
         "name": "Croatia",
         "type": "scatter",
         "visible": false,
         "x": [
          "GDP Rank",
          "Happiness Rank"
         ],
         "y": [
          41,
          68
         ]
        },
        {
         "hoverinfo": "text",
         "hovertext": "Chile<br>GDP Rank: 42<br>Happiness Rank: 24<br>Mismatch: 18",
         "line": {
          "color": "#1E88E5",
          "width": 2
         },
         "mode": "lines+markers",
         "name": "Chile",
         "type": "scatter",
         "visible": false,
         "x": [
          "GDP Rank",
          "Happiness Rank"
         ],
         "y": [
          42,
          24
         ]
        },
        {
         "hoverinfo": "text",
         "hovertext": "Costa Rica<br>GDP Rank: 43<br>Happiness Rank: 12<br>Mismatch: 31",
         "line": {
          "color": "#D81B60",
          "width": 2
         },
         "mode": "lines+markers",
         "name": "Costa Rica",
         "type": "scatter",
         "visible": false,
         "x": [
          "GDP Rank",
          "Happiness Rank"
         ],
         "y": [
          43,
          12
         ]
        },
        {
         "hoverinfo": "text",
         "hovertext": "Argentina<br>GDP Rank: 44<br>Happiness Rank: 43<br>Mismatch: 1",
         "line": {
          "color": "#1E88E5",
          "width": 2
         },
         "mode": "lines+markers",
         "name": "Argentina",
         "type": "scatter",
         "visible": false,
         "x": [
          "GDP Rank",
          "Happiness Rank"
         ],
         "y": [
          44,
          43
         ]
        },
        {
         "hoverinfo": "text",
         "hovertext": "Romania<br>GDP Rank: 45<br>Happiness Rank: 44<br>Mismatch: 1",
         "line": {
          "color": "#1E88E5",
          "width": 2
         },
         "mode": "lines+markers",
         "name": "Romania",
         "type": "scatter",
         "visible": false,
         "x": [
          "GDP Rank",
          "Happiness Rank"
         ],
         "y": [
          45,
          44
         ]
        },
        {
         "hoverinfo": "text",
         "hovertext": "Kazakhstan<br>GDP Rank: 46<br>Happiness Rank: 55<br>Mismatch: 9",
         "line": {
          "color": "#1E88E5",
          "width": 2
         },
         "mode": "lines+markers",
         "name": "Kazakhstan",
         "type": "scatter",
         "visible": false,
         "x": [
          "GDP Rank",
          "Happiness Rank"
         ],
         "y": [
          46,
          55
         ]
        },
        {
         "hoverinfo": "text",
         "hovertext": "Mauritius<br>GDP Rank: 47<br>Happiness Rank: 52<br>Mismatch: 5",
         "line": {
          "color": "#1E88E5",
          "width": 2
         },
         "mode": "lines+markers",
         "name": "Mauritius",
         "type": "scatter",
         "visible": false,
         "x": [
          "GDP Rank",
          "Happiness Rank"
         ],
         "y": [
          47,
          52
         ]
        },
        {
         "hoverinfo": "text",
         "hovertext": "Malaysia<br>GDP Rank: 48<br>Happiness Rank: 71<br>Mismatch: 23",
         "line": {
          "color": "#1E88E5",
          "width": 2
         },
         "mode": "lines+markers",
         "name": "Malaysia",
         "type": "scatter",
         "visible": false,
         "x": [
          "GDP Rank",
          "Happiness Rank"
         ],
         "y": [
          48,
          71
         ]
        },
        {
         "hoverinfo": "text",
         "hovertext": "Mexico<br>GDP Rank: 49<br>Happiness Rank: 22<br>Mismatch: 27",
         "line": {
          "color": "#1E88E5",
          "width": 2
         },
         "mode": "lines+markers",
         "name": "Mexico",
         "type": "scatter",
         "visible": false,
         "x": [
          "GDP Rank",
          "Happiness Rank"
         ],
         "y": [
          49,
          22
         ]
        },
        {
         "hoverinfo": "text",
         "hovertext": "China<br>GDP Rank: 50<br>Happiness Rank: 83<br>Mismatch: 33",
         "line": {
          "color": "#D81B60",
          "width": 2
         },
         "mode": "lines+markers",
         "name": "China",
         "type": "scatter",
         "visible": false,
         "x": [
          "GDP Rank",
          "Happiness Rank"
         ],
         "y": [
          50,
          83
         ]
        },
        {
         "hoverinfo": "text",
         "hovertext": "Brazil<br>GDP Rank: 51<br>Happiness Rank: 30<br>Mismatch: 21",
         "line": {
          "color": "#1E88E5",
          "width": 2
         },
         "mode": "lines+markers",
         "name": "Brazil",
         "type": "scatter",
         "visible": false,
         "x": [
          "GDP Rank",
          "Happiness Rank"
         ],
         "y": [
          51,
          30
         ]
        },
        {
         "hoverinfo": "text",
         "hovertext": "Libya<br>GDP Rank: 52<br>Happiness Rank: 65<br>Mismatch: 13",
         "line": {
          "color": "#1E88E5",
          "width": 2
         },
         "mode": "lines+markers",
         "name": "Libya",
         "type": "scatter",
         "visible": false,
         "x": [
          "GDP Rank",
          "Happiness Rank"
         ],
         "y": [
          52,
          65
         ]
        },
        {
         "hoverinfo": "text",
         "hovertext": "Bulgaria<br>GDP Rank: 53<br>Happiness Rank: 86<br>Mismatch: 33",
         "line": {
          "color": "#D81B60",
          "width": 2
         },
         "mode": "lines+markers",
         "name": "Bulgaria",
         "type": "scatter",
         "visible": false,
         "x": [
          "GDP Rank",
          "Happiness Rank"
         ],
         "y": [
          53,
          86
         ]
        },
        {
         "hoverinfo": "text",
         "hovertext": "Dominican Republic<br>GDP Rank: 54<br>Happiness Rank: 69<br>Mismatch: 15",
         "line": {
          "color": "#1E88E5",
          "width": 2
         },
         "mode": "lines+markers",
         "name": "Dominican Republic",
         "type": "scatter",
         "visible": false,
         "x": [
          "GDP Rank",
          "Happiness Rank"
         ],
         "y": [
          54,
          69
         ]
        },
        {
         "hoverinfo": "text",
         "hovertext": "Lebanon<br>GDP Rank: 55<br>Happiness Rank: 81<br>Mismatch: 26",
         "line": {
          "color": "#1E88E5",
          "width": 2
         },
         "mode": "lines+markers",
         "name": "Lebanon",
         "type": "scatter",
         "visible": false,
         "x": [
          "GDP Rank",
          "Happiness Rank"
         ],
         "y": [
          55,
          81
         ]
        },
        {
         "hoverinfo": "text",
         "hovertext": "Montenegro<br>GDP Rank: 56<br>Happiness Rank: 66<br>Mismatch: 10",
         "line": {
          "color": "#1E88E5",
          "width": 2
         },
         "mode": "lines+markers",
         "name": "Montenegro",
         "type": "scatter",
         "visible": false,
         "x": [
          "GDP Rank",
          "Happiness Rank"
         ],
         "y": [
          56,
          66
         ]
        },
        {
         "hoverinfo": "text",
         "hovertext": "Botswana<br>GDP Rank: 57<br>Happiness Rank: 127<br>Mismatch: 70",
         "line": {
          "color": "#D81B60",
          "width": 2
         },
         "mode": "lines+markers",
         "name": "Botswana",
         "type": "scatter",
         "visible": false,
         "x": [
          "GDP Rank",
          "Happiness Rank"
         ],
         "y": [
          57,
          127
         ]
        },
        {
         "hoverinfo": "text",
         "hovertext": "Serbia<br>GDP Rank: 58<br>Happiness Rank: 63<br>Mismatch: 5",
         "line": {
          "color": "#1E88E5",
          "width": 2
         },
         "mode": "lines+markers",
         "name": "Serbia",
         "type": "scatter",
         "visible": false,
         "x": [
          "GDP Rank",
          "Happiness Rank"
         ],
         "y": [
          58,
          63
         ]
        },
        {
         "hoverinfo": "text",
         "hovertext": "Gabon<br>GDP Rank: 59<br>Happiness Rank: 91<br>Mismatch: 32",
         "line": {
          "color": "#D81B60",
          "width": 2
         },
         "mode": "lines+markers",
         "name": "Gabon",
         "type": "scatter",
         "visible": false,
         "x": [
          "GDP Rank",
          "Happiness Rank"
         ],
         "y": [
          59,
          91
         ]
        },
        {
         "hoverinfo": "text",
         "hovertext": "Turkmenistan<br>GDP Rank: 60<br>Happiness Rank: 77<br>Mismatch: 17",
         "line": {
          "color": "#1E88E5",
          "width": 2
         },
         "mode": "lines+markers",
         "name": "Turkmenistan",
         "type": "scatter",
         "visible": false,
         "x": [
          "GDP Rank",
          "Happiness Rank"
         ],
         "y": [
          60,
          77
         ]
        },
        {
         "hoverinfo": "text",
         "hovertext": "Peru<br>GDP Rank: 61<br>Happiness Rank: 59<br>Mismatch: 2",
         "line": {
          "color": "#1E88E5",
          "width": 2
         },
         "mode": "lines+markers",
         "name": "Peru",
         "type": "scatter",
         "visible": false,
         "x": [
          "GDP Rank",
          "Happiness Rank"
         ],
         "y": [
          61,
          59
         ]
        },
        {
         "hoverinfo": "text",
         "hovertext": "Colombia<br>GDP Rank: 62<br>Happiness Rank: 39<br>Mismatch: 23",
         "line": {
          "color": "#1E88E5",
          "width": 2
         },
         "mode": "lines+markers",
         "name": "Colombia",
         "type": "scatter",
         "visible": false,
         "x": [
          "GDP Rank",
          "Happiness Rank"
         ],
         "y": [
          62,
          39
         ]
        },
        {
         "hoverinfo": "text",
         "hovertext": "Thailand<br>GDP Rank: 63<br>Happiness Rank: 48<br>Mismatch: 15",
         "line": {
          "color": "#1E88E5",
          "width": 2
         },
         "mode": "lines+markers",
         "name": "Thailand",
         "type": "scatter",
         "visible": false,
         "x": [
          "GDP Rank",
          "Happiness Rank"
         ],
         "y": [
          63,
          48
         ]
        },
        {
         "hoverinfo": "text",
         "hovertext": "Belarus<br>GDP Rank: 64<br>Happiness Rank: 72<br>Mismatch: 8",
         "line": {
          "color": "#1E88E5",
          "width": 2
         },
         "mode": "lines+markers",
         "name": "Belarus",
         "type": "scatter",
         "visible": false,
         "x": [
          "GDP Rank",
          "Happiness Rank"
         ],
         "y": [
          64,
          72
         ]
        },
        {
         "hoverinfo": "text",
         "hovertext": "Paraguay<br>GDP Rank: 65<br>Happiness Rank: 58<br>Mismatch: 7",
         "line": {
          "color": "#1E88E5",
          "width": 2
         },
         "mode": "lines+markers",
         "name": "Paraguay",
         "type": "scatter",
         "visible": false,
         "x": [
          "GDP Rank",
          "Happiness Rank"
         ],
         "y": [
          65,
          58
         ]
        },
        {
         "hoverinfo": "text",
         "hovertext": "South Africa<br>GDP Rank: 66<br>Happiness Rank: 92<br>Mismatch: 26",
         "line": {
          "color": "#1E88E5",
          "width": 2
         },
         "mode": "lines+markers",
         "name": "South Africa",
         "type": "scatter",
         "visible": false,
         "x": [
          "GDP Rank",
          "Happiness Rank"
         ],
         "y": [
          66,
          92
         ]
        },
        {
         "hoverinfo": "text",
         "hovertext": "Ecuador<br>GDP Rank: 67<br>Happiness Rank: 46<br>Mismatch: 21",
         "line": {
          "color": "#1E88E5",
          "width": 2
         },
         "mode": "lines+markers",
         "name": "Ecuador",
         "type": "scatter",
         "visible": false,
         "x": [
          "GDP Rank",
          "Happiness Rank"
         ],
         "y": [
          67,
          46
         ]
        },
        {
         "hoverinfo": "text",
         "hovertext": "North Macedonia<br>GDP Rank: 68<br>Happiness Rank: 75<br>Mismatch: 7",
         "line": {
          "color": "#1E88E5",
          "width": 2
         },
         "mode": "lines+markers",
         "name": "North Macedonia",
         "type": "scatter",
         "visible": false,
         "x": [
          "GDP Rank",
          "Happiness Rank"
         ],
         "y": [
          68,
          75
         ]
        },
        {
         "hoverinfo": "text",
         "hovertext": "Bosnia and Herzegovina<br>GDP Rank: 69<br>Happiness Rank: 70<br>Mismatch: 1",
         "line": {
          "color": "#1E88E5",
          "width": 2
         },
         "mode": "lines+markers",
         "name": "Bosnia and Herzegovina",
         "type": "scatter",
         "visible": false,
         "x": [
          "GDP Rank",
          "Happiness Rank"
         ],
         "y": [
          69,
          70
         ]
        },
        {
         "hoverinfo": "text",
         "hovertext": "Azerbaijan<br>GDP Rank: 70<br>Happiness Rank: 79<br>Mismatch: 9",
         "line": {
          "color": "#1E88E5",
          "width": 2
         },
         "mode": "lines+markers",
         "name": "Azerbaijan",
         "type": "scatter",
         "visible": false,
         "x": [
          "GDP Rank",
          "Happiness Rank"
         ],
         "y": [
          70,
          79
         ]
        },
        {
         "hoverinfo": "text",
         "hovertext": "Jamaica<br>GDP Rank: 71<br>Happiness Rank: 51<br>Mismatch: 20",
         "line": {
          "color": "#1E88E5",
          "width": 2
         },
         "mode": "lines+markers",
         "name": "Jamaica",
         "type": "scatter",
         "visible": false,
         "x": [
          "GDP Rank",
          "Happiness Rank"
         ],
         "y": [
          71,
          51
         ]
        },
        {
         "hoverinfo": "text",
         "hovertext": "Georgia<br>GDP Rank: 72<br>Happiness Rank: 102<br>Mismatch: 30",
         "line": {
          "color": "#1E88E5",
          "width": 2
         },
         "mode": "lines+markers",
         "name": "Georgia",
         "type": "scatter",
         "visible": false,
         "x": [
          "GDP Rank",
          "Happiness Rank"
         ],
         "y": [
          72,
          102
         ]
        },
        {
         "hoverinfo": "text",
         "hovertext": "Iraq<br>GDP Rank: 73<br>Happiness Rank: 108<br>Mismatch: 35",
         "line": {
          "color": "#D81B60",
          "width": 2
         },
         "mode": "lines+markers",
         "name": "Iraq",
         "type": "scatter",
         "visible": false,
         "x": [
          "GDP Rank",
          "Happiness Rank"
         ],
         "y": [
          73,
          108
         ]
        },
        {
         "hoverinfo": "text",
         "hovertext": "Algeria<br>GDP Rank: 74<br>Happiness Rank: 78<br>Mismatch: 4",
         "line": {
          "color": "#1E88E5",
          "width": 2
         },
         "mode": "lines+markers",
         "name": "Algeria",
         "type": "scatter",
         "visible": false,
         "x": [
          "GDP Rank",
          "Happiness Rank"
         ],
         "y": [
          74,
          78
         ]
        },
        {
         "hoverinfo": "text",
         "hovertext": "Albania<br>GDP Rank: 75<br>Happiness Rank: 93<br>Mismatch: 18",
         "line": {
          "color": "#1E88E5",
          "width": 2
         },
         "mode": "lines+markers",
         "name": "Albania",
         "type": "scatter",
         "visible": false,
         "x": [
          "GDP Rank",
          "Happiness Rank"
         ],
         "y": [
          75,
          93
         ]
        },
        {
         "hoverinfo": "text",
         "hovertext": "Sri Lanka<br>GDP Rank: 76<br>Happiness Rank: 111<br>Mismatch: 35",
         "line": {
          "color": "#D81B60",
          "width": 2
         },
         "mode": "lines+markers",
         "name": "Sri Lanka",
         "type": "scatter",
         "visible": false,
         "x": [
          "GDP Rank",
          "Happiness Rank"
         ],
         "y": [
          76,
          111
         ]
        },
        {
         "hoverinfo": "text",
         "hovertext": "Armenia<br>GDP Rank: 77<br>Happiness Rank: 100<br>Mismatch: 23",
         "line": {
          "color": "#1E88E5",
          "width": 2
         },
         "mode": "lines+markers",
         "name": "Armenia",
         "type": "scatter",
         "visible": false,
         "x": [
          "GDP Rank",
          "Happiness Rank"
         ],
         "y": [
          77,
          100
         ]
        },
        {
         "hoverinfo": "text",
         "hovertext": "Mongolia<br>GDP Rank: 78<br>Happiness Rank: 74<br>Mismatch: 4",
         "line": {
          "color": "#1E88E5",
          "width": 2
         },
         "mode": "lines+markers",
         "name": "Mongolia",
         "type": "scatter",
         "visible": false,
         "x": [
          "GDP Rank",
          "Happiness Rank"
         ],
         "y": [
          78,
          74
         ]
        },
        {
         "hoverinfo": "text",
         "hovertext": "Namibia<br>GDP Rank: 79<br>Happiness Rank: 97<br>Mismatch: 18",
         "line": {
          "color": "#1E88E5",
          "width": 2
         },
         "mode": "lines+markers",
         "name": "Namibia",
         "type": "scatter",
         "visible": false,
         "x": [
          "GDP Rank",
          "Happiness Rank"
         ],
         "y": [
          79,
          97
         ]
        },
        {
         "hoverinfo": "text",
         "hovertext": "Kosovo<br>GDP Rank: 80<br>Happiness Rank: 42<br>Mismatch: 38",
         "line": {
          "color": "#D81B60",
          "width": 2
         },
         "mode": "lines+markers",
         "name": "Kosovo",
         "type": "scatter",
         "visible": false,
         "x": [
          "GDP Rank",
          "Happiness Rank"
         ],
         "y": [
          80,
          42
         ]
        },
        {
         "hoverinfo": "text",
         "hovertext": "Tunisia<br>GDP Rank: 81<br>Happiness Rank: 106<br>Mismatch: 25",
         "line": {
          "color": "#1E88E5",
          "width": 2
         },
         "mode": "lines+markers",
         "name": "Tunisia",
         "type": "scatter",
         "visible": false,
         "x": [
          "GDP Rank",
          "Happiness Rank"
         ],
         "y": [
          81,
          106
         ]
        },
        {
         "hoverinfo": "text",
         "hovertext": "El Salvador<br>GDP Rank: 82<br>Happiness Rank: 33<br>Mismatch: 49",
         "line": {
          "color": "#D81B60",
          "width": 2
         },
         "mode": "lines+markers",
         "name": "El Salvador",
         "type": "scatter",
         "visible": false,
         "x": [
          "GDP Rank",
          "Happiness Rank"
         ],
         "y": [
          82,
          33
         ]
        },
        {
         "hoverinfo": "text",
         "hovertext": "Guatemala<br>GDP Rank: 83<br>Happiness Rank: 25<br>Mismatch: 58",
         "line": {
          "color": "#D81B60",
          "width": 2
         },
         "mode": "lines+markers",
         "name": "Guatemala",
         "type": "scatter",
         "visible": false,
         "x": [
          "GDP Rank",
          "Happiness Rank"
         ],
         "y": [
          83,
          25
         ]
        },
        {
         "hoverinfo": "text",
         "hovertext": "Jordan<br>GDP Rank: 84<br>Happiness Rank: 89<br>Mismatch: 5",
         "line": {
          "color": "#1E88E5",
          "width": 2
         },
         "mode": "lines+markers",
         "name": "Jordan",
         "type": "scatter",
         "visible": false,
         "x": [
          "GDP Rank",
          "Happiness Rank"
         ],
         "y": [
          84,
          89
         ]
        },
        {
         "hoverinfo": "text",
         "hovertext": "Indonesia<br>GDP Rank: 85<br>Happiness Rank: 82<br>Mismatch: 3",
         "line": {
          "color": "#1E88E5",
          "width": 2
         },
         "mode": "lines+markers",
         "name": "Indonesia",
         "type": "scatter",
         "visible": false,
         "x": [
          "GDP Rank",
          "Happiness Rank"
         ],
         "y": [
          85,
          82
         ]
        },
        {
         "hoverinfo": "text",
         "hovertext": "Philippines<br>GDP Rank: 86<br>Happiness Rank: 62<br>Mismatch: 24",
         "line": {
          "color": "#1E88E5",
          "width": 2
         },
         "mode": "lines+markers",
         "name": "Philippines",
         "type": "scatter",
         "visible": false,
         "x": [
          "GDP Rank",
          "Happiness Rank"
         ],
         "y": [
          86,
          62
         ]
        },
        {
         "hoverinfo": "text",
         "hovertext": "Bhutan<br>GDP Rank: 87<br>Happiness Rank: 84<br>Mismatch: 3",
         "line": {
          "color": "#1E88E5",
          "width": 2
         },
         "mode": "lines+markers",
         "name": "Bhutan",
         "type": "scatter",
         "visible": false,
         "x": [
          "GDP Rank",
          "Happiness Rank"
         ],
         "y": [
          87,
          84
         ]
        },
        {
         "hoverinfo": "text",
         "hovertext": "Moldova<br>GDP Rank: 88<br>Happiness Rank: 64<br>Mismatch: 24",
         "line": {
          "color": "#1E88E5",
          "width": 2
         },
         "mode": "lines+markers",
         "name": "Moldova",
         "type": "scatter",
         "visible": false,
         "x": [
          "GDP Rank",
          "Happiness Rank"
         ],
         "y": [
          88,
          64
         ]
        },
        {
         "hoverinfo": "text",
         "hovertext": "Morocco<br>GDP Rank: 89<br>Happiness Rank: 79<br>Mismatch: 10",
         "line": {
          "color": "#1E88E5",
          "width": 2
         },
         "mode": "lines+markers",
         "name": "Morocco",
         "type": "scatter",
         "visible": false,
         "x": [
          "GDP Rank",
          "Happiness Rank"
         ],
         "y": [
          89,
          79
         ]
        },
        {
         "hoverinfo": "text",
         "hovertext": "Bolivia<br>GDP Rank: 90<br>Happiness Rank: 56<br>Mismatch: 34",
         "line": {
          "color": "#D81B60",
          "width": 2
         },
         "mode": "lines+markers",
         "name": "Bolivia",
         "type": "scatter",
         "visible": false,
         "x": [
          "GDP Rank",
          "Happiness Rank"
         ],
         "y": [
          90,
          56
         ]
        },
        {
         "hoverinfo": "text",
         "hovertext": "Uzbekistan<br>GDP Rank: 91<br>Happiness Rank: 37<br>Mismatch: 54",
         "line": {
          "color": "#D81B60",
          "width": 2
         },
         "mode": "lines+markers",
         "name": "Uzbekistan",
         "type": "scatter",
         "visible": false,
         "x": [
          "GDP Rank",
          "Happiness Rank"
         ],
         "y": [
          91,
          37
         ]
        },
        {
         "hoverinfo": "text",
         "hovertext": "Honduras<br>GDP Rank: 92<br>Happiness Rank: 54<br>Mismatch: 38",
         "line": {
          "color": "#D81B60",
          "width": 2
         },
         "mode": "lines+markers",
         "name": "Honduras",
         "type": "scatter",
         "visible": false,
         "x": [
          "GDP Rank",
          "Happiness Rank"
         ],
         "y": [
          92,
          54
         ]
        },
        {
         "hoverinfo": "text",
         "hovertext": "Nigeria<br>GDP Rank: 93<br>Happiness Rank: 76<br>Mismatch: 17",
         "line": {
          "color": "#1E88E5",
          "width": 2
         },
         "mode": "lines+markers",
         "name": "Nigeria",
         "type": "scatter",
         "visible": false,
         "x": [
          "GDP Rank",
          "Happiness Rank"
         ],
         "y": [
          93,
          76
         ]
        },
        {
         "hoverinfo": "text",
         "hovertext": "Ukraine<br>GDP Rank: 94<br>Happiness Rank: 114<br>Mismatch: 20",
         "line": {
          "color": "#1E88E5",
          "width": 2
         },
         "mode": "lines+markers",
         "name": "Ukraine",
         "type": "scatter",
         "visible": false,
         "x": [
          "GDP Rank",
          "Happiness Rank"
         ],
         "y": [
          94,
          114
         ]
        },
        {
         "hoverinfo": "text",
         "hovertext": "Nicaragua<br>GDP Rank: 95<br>Happiness Rank: 41<br>Mismatch: 54",
         "line": {
          "color": "#D81B60",
          "width": 2
         },
         "mode": "lines+markers",
         "name": "Nicaragua",
         "type": "scatter",
         "visible": false,
         "x": [
          "GDP Rank",
          "Happiness Rank"
         ],
         "y": [
          95,
          41
         ]
        },
        {
         "hoverinfo": "text",
         "hovertext": "Cambodia<br>GDP Rank: 96<br>Happiness Rank: 94<br>Mismatch: 2",
         "line": {
          "color": "#1E88E5",
          "width": 2
         },
         "mode": "lines+markers",
         "name": "Cambodia",
         "type": "scatter",
         "visible": false,
         "x": [
          "GDP Rank",
          "Happiness Rank"
         ],
         "y": [
          96,
          94
         ]
        },
        {
         "hoverinfo": "text",
         "hovertext": "Ghana<br>GDP Rank: 97<br>Happiness Rank: 87<br>Mismatch: 10",
         "line": {
          "color": "#1E88E5",
          "width": 2
         },
         "mode": "lines+markers",
         "name": "Ghana",
         "type": "scatter",
         "visible": false,
         "x": [
          "GDP Rank",
          "Happiness Rank"
         ],
         "y": [
          97,
          87
         ]
        },
        {
         "hoverinfo": "text",
         "hovertext": "India<br>GDP Rank: 98<br>Happiness Rank: 119<br>Mismatch: 21",
         "line": {
          "color": "#1E88E5",
          "width": 2
         },
         "mode": "lines+markers",
         "name": "India",
         "type": "scatter",
         "visible": false,
         "x": [
          "GDP Rank",
          "Happiness Rank"
         ],
         "y": [
          98,
          119
         ]
        },
        {
         "hoverinfo": "text",
         "hovertext": "Kenya<br>GDP Rank: 99<br>Happiness Rank: 103<br>Mismatch: 4",
         "line": {
          "color": "#1E88E5",
          "width": 2
         },
         "mode": "lines+markers",
         "name": "Kenya",
         "type": "scatter",
         "visible": false,
         "x": [
          "GDP Rank",
          "Happiness Rank"
         ],
         "y": [
          99,
          103
         ]
        },
        {
         "hoverinfo": "text",
         "hovertext": "Mauritania<br>GDP Rank: 100<br>Happiness Rank: 104<br>Mismatch: 4",
         "line": {
          "color": "#1E88E5",
          "width": 2
         },
         "mode": "lines+markers",
         "name": "Mauritania",
         "type": "scatter",
         "visible": false,
         "x": [
          "GDP Rank",
          "Happiness Rank"
         ],
         "y": [
          100,
          104
         ]
        },
        {
         "hoverinfo": "text",
         "hovertext": "Pakistan<br>GDP Rank: 101<br>Happiness Rank: 61<br>Mismatch: 40",
         "line": {
          "color": "#D81B60",
          "width": 2
         },
         "mode": "lines+markers",
         "name": "Pakistan",
         "type": "scatter",
         "visible": false,
         "x": [
          "GDP Rank",
          "Happiness Rank"
         ],
         "y": [
          101,
          61
         ]
        },
        {
         "hoverinfo": "text",
         "hovertext": "Bangladesh<br>GDP Rank: 102<br>Happiness Rank: 107<br>Mismatch: 5",
         "line": {
          "color": "#1E88E5",
          "width": 2
         },
         "mode": "lines+markers",
         "name": "Bangladesh",
         "type": "scatter",
         "visible": false,
         "x": [
          "GDP Rank",
          "Happiness Rank"
         ],
         "y": [
          102,
          107
         ]
        },
        {
         "hoverinfo": "text",
         "hovertext": "Cameroon<br>GDP Rank: 103<br>Happiness Rank: 85<br>Mismatch: 18",
         "line": {
          "color": "#1E88E5",
          "width": 2
         },
         "mode": "lines+markers",
         "name": "Cameroon",
         "type": "scatter",
         "visible": false,
         "x": [
          "GDP Rank",
          "Happiness Rank"
         ],
         "y": [
          103,
          85
         ]
        },
        {
         "hoverinfo": "text",
         "hovertext": "Myanmar<br>GDP Rank: 104<br>Happiness Rank: 112<br>Mismatch: 8",
         "line": {
          "color": "#1E88E5",
          "width": 2
         },
         "mode": "lines+markers",
         "name": "Myanmar",
         "type": "scatter",
         "visible": false,
         "x": [
          "GDP Rank",
          "Happiness Rank"
         ],
         "y": [
          104,
          112
         ]
        },
        {
         "hoverinfo": "text",
         "hovertext": "Haiti<br>GDP Rank: 105<br>Happiness Rank: 126<br>Mismatch: 21",
         "line": {
          "color": "#1E88E5",
          "width": 2
         },
         "mode": "lines+markers",
         "name": "Haiti",
         "type": "scatter",
         "visible": false,
         "x": [
          "GDP Rank",
          "Happiness Rank"
         ],
         "y": [
          105,
          126
         ]
        },
        {
         "hoverinfo": "text",
         "hovertext": "Comoros<br>GDP Rank: 106<br>Happiness Rank: 121<br>Mismatch: 15",
         "line": {
          "color": "#1E88E5",
          "width": 2
         },
         "mode": "lines+markers",
         "name": "Comoros",
         "type": "scatter",
         "visible": false,
         "x": [
          "GDP Rank",
          "Happiness Rank"
         ],
         "y": [
          106,
          121
         ]
        },
        {
         "hoverinfo": "text",
         "hovertext": "Senegal<br>GDP Rank: 107<br>Happiness Rank: 95<br>Mismatch: 12",
         "line": {
          "color": "#1E88E5",
          "width": 2
         },
         "mode": "lines+markers",
         "name": "Senegal",
         "type": "scatter",
         "visible": false,
         "x": [
          "GDP Rank",
          "Happiness Rank"
         ],
         "y": [
          107,
          95
         ]
        },
        {
         "hoverinfo": "text",
         "hovertext": "Zimbabwe<br>GDP Rank: 108<br>Happiness Rank: 125<br>Mismatch: 17",
         "line": {
          "color": "#1E88E5",
          "width": 2
         },
         "mode": "lines+markers",
         "name": "Zimbabwe",
         "type": "scatter",
         "visible": false,
         "x": [
          "GDP Rank",
          "Happiness Rank"
         ],
         "y": [
          108,
          125
         ]
        },
        {
         "hoverinfo": "text",
         "hovertext": "Zambia<br>GDP Rank: 109<br>Happiness Rank: 117<br>Mismatch: 8",
         "line": {
          "color": "#1E88E5",
          "width": 2
         },
         "mode": "lines+markers",
         "name": "Zambia",
         "type": "scatter",
         "visible": false,
         "x": [
          "GDP Rank",
          "Happiness Rank"
         ],
         "y": [
          109,
          117
         ]
        },
        {
         "hoverinfo": "text",
         "hovertext": "Tajikistan<br>GDP Rank: 110<br>Happiness Rank: 67<br>Mismatch: 43",
         "line": {
          "color": "#D81B60",
          "width": 2
         },
         "mode": "lines+markers",
         "name": "Tajikistan",
         "type": "scatter",
         "visible": false,
         "x": [
          "GDP Rank",
          "Happiness Rank"
         ],
         "y": [
          110,
          67
         ]
        },
        {
         "hoverinfo": "text",
         "hovertext": "Benin<br>GDP Rank: 111<br>Happiness Rank: 90<br>Mismatch: 21",
         "line": {
          "color": "#1E88E5",
          "width": 2
         },
         "mode": "lines+markers",
         "name": "Benin",
         "type": "scatter",
         "visible": false,
         "x": [
          "GDP Rank",
          "Happiness Rank"
         ],
         "y": [
          111,
          90
         ]
        },
        {
         "hoverinfo": "text",
         "hovertext": "Nepal<br>GDP Rank: 112<br>Happiness Rank: 88<br>Mismatch: 24",
         "line": {
          "color": "#1E88E5",
          "width": 2
         },
         "mode": "lines+markers",
         "name": "Nepal",
         "type": "scatter",
         "visible": false,
         "x": [
          "GDP Rank",
          "Happiness Rank"
         ],
         "y": [
          112,
          88
         ]
        },
        {
         "hoverinfo": "text",
         "hovertext": "Tanzania<br>GDP Rank: 113<br>Happiness Rank: 130<br>Mismatch: 17",
         "line": {
          "color": "#1E88E5",
          "width": 2
         },
         "mode": "lines+markers",
         "name": "Tanzania",
         "type": "scatter",
         "visible": false,
         "x": [
          "GDP Rank",
          "Happiness Rank"
         ],
         "y": [
          113,
          130
         ]
        },
        {
         "hoverinfo": "text",
         "hovertext": "Lesotho<br>GDP Rank: 114<br>Happiness Rank: 123<br>Mismatch: 9",
         "line": {
          "color": "#1E88E5",
          "width": 2
         },
         "mode": "lines+markers",
         "name": "Lesotho",
         "type": "scatter",
         "visible": false,
         "x": [
          "GDP Rank",
          "Happiness Rank"
         ],
         "y": [
          114,
          123
         ]
        },
        {
         "hoverinfo": "text",
         "hovertext": "Sierra Leone<br>GDP Rank: 115<br>Happiness Rank: 110<br>Mismatch: 5",
         "line": {
          "color": "#1E88E5",
          "width": 2
         },
         "mode": "lines+markers",
         "name": "Sierra Leone",
         "type": "scatter",
         "visible": false,
         "x": [
          "GDP Rank",
          "Happiness Rank"
         ],
         "y": [
          115,
          110
         ]
        },
        {
         "hoverinfo": "text",
         "hovertext": "Guinea<br>GDP Rank: 116<br>Happiness Rank: 101<br>Mismatch: 15",
         "line": {
          "color": "#1E88E5",
          "width": 2
         },
         "mode": "lines+markers",
         "name": "Guinea",
         "type": "scatter",
         "visible": false,
         "x": [
          "GDP Rank",
          "Happiness Rank"
         ],
         "y": [
          116,
          101
         ]
        },
        {
         "hoverinfo": "text",
         "hovertext": "Uganda<br>GDP Rank: 117<br>Happiness Rank: 116<br>Mismatch: 1",
         "line": {
          "color": "#1E88E5",
          "width": 2
         },
         "mode": "lines+markers",
         "name": "Uganda",
         "type": "scatter",
         "visible": false,
         "x": [
          "GDP Rank",
          "Happiness Rank"
         ],
         "y": [
          117,
          116
         ]
        },
        {
         "hoverinfo": "text",
         "hovertext": "Rwanda<br>GDP Rank: 118<br>Happiness Rank: 129<br>Mismatch: 11",
         "line": {
          "color": "#1E88E5",
          "width": 2
         },
         "mode": "lines+markers",
         "name": "Rwanda",
         "type": "scatter",
         "visible": false,
         "x": [
          "GDP Rank",
          "Happiness Rank"
         ],
         "y": [
          118,
          129
         ]
        },
        {
         "hoverinfo": "text",
         "hovertext": "Togo<br>GDP Rank: 119<br>Happiness Rank: 118<br>Mismatch: 1",
         "line": {
          "color": "#1E88E5",
          "width": 2
         },
         "mode": "lines+markers",
         "name": "Togo",
         "type": "scatter",
         "visible": false,
         "x": [
          "GDP Rank",
          "Happiness Rank"
         ],
         "y": [
          119,
          118
         ]
        },
        {
         "hoverinfo": "text",
         "hovertext": "Ethiopia<br>GDP Rank: 120<br>Happiness Rank: 115<br>Mismatch: 5",
         "line": {
          "color": "#1E88E5",
          "width": 2
         },
         "mode": "lines+markers",
         "name": "Ethiopia",
         "type": "scatter",
         "visible": false,
         "x": [
          "GDP Rank",
          "Happiness Rank"
         ],
         "y": [
          120,
          115
         ]
        },
        {
         "hoverinfo": "text",
         "hovertext": "Mali<br>GDP Rank: 121<br>Happiness Rank: 109<br>Mismatch: 12",
         "line": {
          "color": "#1E88E5",
          "width": 2
         },
         "mode": "lines+markers",
         "name": "Mali",
         "type": "scatter",
         "visible": false,
         "x": [
          "GDP Rank",
          "Happiness Rank"
         ],
         "y": [
          121,
          109
         ]
        },
        {
         "hoverinfo": "text",
         "hovertext": "Burkina Faso<br>GDP Rank: 122<br>Happiness Rank: 99<br>Mismatch: 23",
         "line": {
          "color": "#1E88E5",
          "width": 2
         },
         "mode": "lines+markers",
         "name": "Burkina Faso",
         "type": "scatter",
         "visible": false,
         "x": [
          "GDP Rank",
          "Happiness Rank"
         ],
         "y": [
          122,
          99
         ]
        },
        {
         "hoverinfo": "text",
         "hovertext": "Liberia<br>GDP Rank: 123<br>Happiness Rank: 120<br>Mismatch: 3",
         "line": {
          "color": "#1E88E5",
          "width": 2
         },
         "mode": "lines+markers",
         "name": "Liberia",
         "type": "scatter",
         "visible": false,
         "x": [
          "GDP Rank",
          "Happiness Rank"
         ],
         "y": [
          123,
          120
         ]
        },
        {
         "hoverinfo": "text",
         "hovertext": "Chad<br>GDP Rank: 124<br>Happiness Rank: 113<br>Mismatch: 11",
         "line": {
          "color": "#1E88E5",
          "width": 2
         },
         "mode": "lines+markers",
         "name": "Chad",
         "type": "scatter",
         "visible": false,
         "x": [
          "GDP Rank",
          "Happiness Rank"
         ],
         "y": [
          124,
          113
         ]
        },
        {
         "hoverinfo": "text",
         "hovertext": "Mozambique<br>GDP Rank: 125<br>Happiness Rank: 105<br>Mismatch: 20",
         "line": {
          "color": "#1E88E5",
          "width": 2
         },
         "mode": "lines+markers",
         "name": "Mozambique",
         "type": "scatter",
         "visible": false,
         "x": [
          "GDP Rank",
          "Happiness Rank"
         ],
         "y": [
          125,
          105
         ]
        },
        {
         "hoverinfo": "text",
         "hovertext": "Malawi<br>GDP Rank: 126<br>Happiness Rank: 128<br>Mismatch: 2",
         "line": {
          "color": "#1E88E5",
          "width": 2
         },
         "mode": "lines+markers",
         "name": "Malawi",
         "type": "scatter",
         "visible": false,
         "x": [
          "GDP Rank",
          "Happiness Rank"
         ],
         "y": [
          126,
          128
         ]
        },
        {
         "hoverinfo": "text",
         "hovertext": "Afghanistan<br>GDP Rank: 127<br>Happiness Rank: 131<br>Mismatch: 4",
         "line": {
          "color": "#1E88E5",
          "width": 2
         },
         "mode": "lines+markers",
         "name": "Afghanistan",
         "type": "scatter",
         "visible": false,
         "x": [
          "GDP Rank",
          "Happiness Rank"
         ],
         "y": [
          127,
          131
         ]
        },
        {
         "hoverinfo": "text",
         "hovertext": "Niger<br>GDP Rank: 128<br>Happiness Rank: 98<br>Mismatch: 30",
         "line": {
          "color": "#1E88E5",
          "width": 2
         },
         "mode": "lines+markers",
         "name": "Niger",
         "type": "scatter",
         "visible": false,
         "x": [
          "GDP Rank",
          "Happiness Rank"
         ],
         "y": [
          128,
          98
         ]
        },
        {
         "hoverinfo": "text",
         "hovertext": "Somalia<br>GDP Rank: 129<br>Happiness Rank: 96<br>Mismatch: 33",
         "line": {
          "color": "#D81B60",
          "width": 2
         },
         "mode": "lines+markers",
         "name": "Somalia",
         "type": "scatter",
         "visible": false,
         "x": [
          "GDP Rank",
          "Happiness Rank"
         ],
         "y": [
          129,
          96
         ]
        },
        {
         "hoverinfo": "text",
         "hovertext": "Madagascar<br>GDP Rank: 130<br>Happiness Rank: 122<br>Mismatch: 8",
         "line": {
          "color": "#1E88E5",
          "width": 2
         },
         "mode": "lines+markers",
         "name": "Madagascar",
         "type": "scatter",
         "visible": false,
         "x": [
          "GDP Rank",
          "Happiness Rank"
         ],
         "y": [
          130,
          122
         ]
        },
        {
         "hoverinfo": "text",
         "hovertext": "Central African Republic<br>GDP Rank: 131<br>Happiness Rank: 132<br>Mismatch: 1",
         "line": {
          "color": "#1E88E5",
          "width": 2
         },
         "mode": "lines+markers",
         "name": "Central African Republic",
         "type": "scatter",
         "visible": false,
         "x": [
          "GDP Rank",
          "Happiness Rank"
         ],
         "y": [
          131,
          132
         ]
        },
        {
         "hoverinfo": "text",
         "hovertext": "Burundi<br>GDP Rank: 132<br>Happiness Rank: 124<br>Mismatch: 8",
         "line": {
          "color": "#1E88E5",
          "width": 2
         },
         "mode": "lines+markers",
         "name": "Burundi",
         "type": "scatter",
         "visible": false,
         "x": [
          "GDP Rank",
          "Happiness Rank"
         ],
         "y": [
          132,
          124
         ]
        },
        {
         "hoverinfo": "text",
         "hovertext": "Switzerland<br>GNI Rank: 1<br>Happiness Rank: 5<br>Mismatch: 4",
         "line": {
          "color": "#1E88E5",
          "width": 2
         },
         "mode": "lines+markers",
         "name": "Switzerland",
         "type": "scatter",
         "visible": false,
         "x": [
          "GNI Rank",
          "Happiness Rank"
         ],
         "y": [
          1,
          5
         ]
        },
        {
         "hoverinfo": "text",
         "hovertext": "Norway<br>GNI Rank: 2<br>Happiness Rank: 3<br>Mismatch: 1",
         "line": {
          "color": "#1E88E5",
          "width": 2
         },
         "mode": "lines+markers",
         "name": "Norway",
         "type": "scatter",
         "visible": false,
         "x": [
          "GNI Rank",
          "Happiness Rank"
         ],
         "y": [
          2,
          3
         ]
        },
        {
         "hoverinfo": "text",
         "hovertext": "Luxembourg<br>GNI Rank: 3<br>Happiness Rank: 13<br>Mismatch: 10",
         "line": {
          "color": "#1E88E5",
          "width": 2
         },
         "mode": "lines+markers",
         "name": "Luxembourg",
         "type": "scatter",
         "visible": false,
         "x": [
          "GNI Rank",
          "Happiness Rank"
         ],
         "y": [
          3,
          13
         ]
        },
        {
         "hoverinfo": "text",
         "hovertext": "United States<br>GNI Rank: 4<br>Happiness Rank: 18<br>Mismatch: 14",
         "line": {
          "color": "#1E88E5",
          "width": 2
         },
         "mode": "lines+markers",
         "name": "United States",
         "type": "scatter",
         "visible": false,
         "x": [
          "GNI Rank",
          "Happiness Rank"
         ],
         "y": [
          4,
          18
         ]
        },
        {
         "hoverinfo": "text",
         "hovertext": "Denmark<br>GNI Rank: 5<br>Happiness Rank: 2<br>Mismatch: 3",
         "line": {
          "color": "#1E88E5",
          "width": 2
         },
         "mode": "lines+markers",
         "name": "Denmark",
         "type": "scatter",
         "visible": false,
         "x": [
          "GNI Rank",
          "Happiness Rank"
         ],
         "y": [
          5,
          2
         ]
        },
        {
         "hoverinfo": "text",
         "hovertext": "Australia<br>GNI Rank: 6<br>Happiness Rank: 10<br>Mismatch: 4",
         "line": {
          "color": "#1E88E5",
          "width": 2
         },
         "mode": "lines+markers",
         "name": "Australia",
         "type": "scatter",
         "visible": false,
         "x": [
          "GNI Rank",
          "Happiness Rank"
         ],
         "y": [
          6,
          10
         ]
        },
        {
         "hoverinfo": "text",
         "hovertext": "Ireland<br>GNI Rank: 7<br>Happiness Rank: 15<br>Mismatch: 8",
         "line": {
          "color": "#1E88E5",
          "width": 2
         },
         "mode": "lines+markers",
         "name": "Ireland",
         "type": "scatter",
         "visible": false,
         "x": [
          "GNI Rank",
          "Happiness Rank"
         ],
         "y": [
          7,
          15
         ]
        },
        {
         "hoverinfo": "text",
         "hovertext": "Sweden<br>GNI Rank: 8<br>Happiness Rank: 6<br>Mismatch: 2",
         "line": {
          "color": "#1E88E5",
          "width": 2
         },
         "mode": "lines+markers",
         "name": "Sweden",
         "type": "scatter",
         "visible": false,
         "x": [
          "GNI Rank",
          "Happiness Rank"
         ],
         "y": [
          8,
          6
         ]
        },
        {
         "hoverinfo": "text",
         "hovertext": "Netherlands<br>GNI Rank: 9<br>Happiness Rank: 4<br>Mismatch: 5",
         "line": {
          "color": "#1E88E5",
          "width": 2
         },
         "mode": "lines+markers",
         "name": "Netherlands",
         "type": "scatter",
         "visible": false,
         "x": [
          "GNI Rank",
          "Happiness Rank"
         ],
         "y": [
          9,
          4
         ]
        },
        {
         "hoverinfo": "text",
         "hovertext": "United Kingdom<br>GNI Rank: 10<br>Happiness Rank: 14<br>Mismatch: 4",
         "line": {
          "color": "#1E88E5",
          "width": 2
         },
         "mode": "lines+markers",
         "name": "United Kingdom",
         "type": "scatter",
         "visible": false,
         "x": [
          "GNI Rank",
          "Happiness Rank"
         ],
         "y": [
          10,
          14
         ]
        },
        {
         "hoverinfo": "text",
         "hovertext": "Finland<br>GNI Rank: 11<br>Happiness Rank: 1<br>Mismatch: 10",
         "line": {
          "color": "#1E88E5",
          "width": 2
         },
         "mode": "lines+markers",
         "name": "Finland",
         "type": "scatter",
         "visible": false,
         "x": [
          "GNI Rank",
          "Happiness Rank"
         ],
         "y": [
          11,
          1
         ]
        },
        {
         "hoverinfo": "text",
         "hovertext": "Austria<br>GNI Rank: 12<br>Happiness Rank: 9<br>Mismatch: 3",
         "line": {
          "color": "#1E88E5",
          "width": 2
         },
         "mode": "lines+markers",
         "name": "Austria",
         "type": "scatter",
         "visible": false,
         "x": [
          "GNI Rank",
          "Happiness Rank"
         ],
         "y": [
          12,
          9
         ]
        },
        {
         "hoverinfo": "text",
         "hovertext": "Germany<br>GNI Rank: 13<br>Happiness Rank: 16<br>Mismatch: 3",
         "line": {
          "color": "#1E88E5",
          "width": 2
         },
         "mode": "lines+markers",
         "name": "Germany",
         "type": "scatter",
         "visible": false,
         "x": [
          "GNI Rank",
          "Happiness Rank"
         ],
         "y": [
          13,
          16
         ]
        },
        {
         "hoverinfo": "text",
         "hovertext": "Canada<br>GNI Rank: 14<br>Happiness Rank: 8<br>Mismatch: 6",
         "line": {
          "color": "#1E88E5",
          "width": 2
         },
         "mode": "lines+markers",
         "name": "Canada",
         "type": "scatter",
         "visible": false,
         "x": [
          "GNI Rank",
          "Happiness Rank"
         ],
         "y": [
          14,
          8
         ]
        },
        {
         "hoverinfo": "text",
         "hovertext": "Belgium<br>GNI Rank: 15<br>Happiness Rank: 17<br>Mismatch: 2",
         "line": {
          "color": "#1E88E5",
          "width": 2
         },
         "mode": "lines+markers",
         "name": "Belgium",
         "type": "scatter",
         "visible": false,
         "x": [
          "GNI Rank",
          "Happiness Rank"
         ],
         "y": [
          15,
          17
         ]
        },
        {
         "hoverinfo": "text",
         "hovertext": "United Arab Emirates<br>GNI Rank: 16<br>Happiness Rank: 19<br>Mismatch: 3",
         "line": {
          "color": "#1E88E5",
          "width": 2
         },
         "mode": "lines+markers",
         "name": "United Arab Emirates",
         "type": "scatter",
         "visible": false,
         "x": [
          "GNI Rank",
          "Happiness Rank"
         ],
         "y": [
          16,
          19
         ]
        },
        {
         "hoverinfo": "text",
         "hovertext": "New Zealand<br>GNI Rank: 17<br>Happiness Rank: 7<br>Mismatch: 10",
         "line": {
          "color": "#1E88E5",
          "width": 2
         },
         "mode": "lines+markers",
         "name": "New Zealand",
         "type": "scatter",
         "visible": false,
         "x": [
          "GNI Rank",
          "Happiness Rank"
         ],
         "y": [
          17,
          7
         ]
        },
        {
         "hoverinfo": "text",
         "hovertext": "Israel<br>GNI Rank: 18<br>Happiness Rank: 12<br>Mismatch: 6",
         "line": {
          "color": "#1E88E5",
          "width": 2
         },
         "mode": "lines+markers",
         "name": "Israel",
         "type": "scatter",
         "visible": false,
         "x": [
          "GNI Rank",
          "Happiness Rank"
         ],
         "y": [
          18,
          12
         ]
        },
        {
         "hoverinfo": "text",
         "hovertext": "France<br>GNI Rank: 19<br>Happiness Rank: 22<br>Mismatch: 3",
         "line": {
          "color": "#1E88E5",
          "width": 2
         },
         "mode": "lines+markers",
         "name": "France",
         "type": "scatter",
         "visible": false,
         "x": [
          "GNI Rank",
          "Happiness Rank"
         ],
         "y": [
          19,
          22
         ]
        },
        {
         "hoverinfo": "text",
         "hovertext": "Japan<br>GNI Rank: 20<br>Happiness Rank: 47<br>Mismatch: 27",
         "line": {
          "color": "#1E88E5",
          "width": 2
         },
         "mode": "lines+markers",
         "name": "Japan",
         "type": "scatter",
         "visible": false,
         "x": [
          "GNI Rank",
          "Happiness Rank"
         ],
         "y": [
          20,
          47
         ]
        },
        {
         "hoverinfo": "text",
         "hovertext": "Italy<br>GNI Rank: 21<br>Happiness Rank: 30<br>Mismatch: 9",
         "line": {
          "color": "#1E88E5",
          "width": 2
         },
         "mode": "lines+markers",
         "name": "Italy",
         "type": "scatter",
         "visible": false,
         "x": [
          "GNI Rank",
          "Happiness Rank"
         ],
         "y": [
          21,
          30
         ]
        },
        {
         "hoverinfo": "text",
         "hovertext": "Kuwait<br>GNI Rank: 22<br>Happiness Rank: 42<br>Mismatch: 20",
         "line": {
          "color": "#1E88E5",
          "width": 2
         },
         "mode": "lines+markers",
         "name": "Kuwait",
         "type": "scatter",
         "visible": false,
         "x": [
          "GNI Rank",
          "Happiness Rank"
         ],
         "y": [
          22,
          42
         ]
        },
        {
         "hoverinfo": "text",
         "hovertext": "Spain<br>GNI Rank: 23<br>Happiness Rank: 25<br>Mismatch: 2",
         "line": {
          "color": "#1E88E5",
          "width": 2
         },
         "mode": "lines+markers",
         "name": "Spain",
         "type": "scatter",
         "visible": false,
         "x": [
          "GNI Rank",
          "Happiness Rank"
         ],
         "y": [
          23,
          25
         ]
        },
        {
         "hoverinfo": "text",
         "hovertext": "Cyprus<br>GNI Rank: 24<br>Happiness Rank: 40<br>Mismatch: 16",
         "line": {
          "color": "#1E88E5",
          "width": 2
         },
         "mode": "lines+markers",
         "name": "Cyprus",
         "type": "scatter",
         "visible": false,
         "x": [
          "GNI Rank",
          "Happiness Rank"
         ],
         "y": [
          24,
          40
         ]
        },
        {
         "hoverinfo": "text",
         "hovertext": "Malta<br>GNI Rank: 25<br>Happiness Rank: 20<br>Mismatch: 5",
         "line": {
          "color": "#1E88E5",
          "width": 2
         },
         "mode": "lines+markers",
         "name": "Malta",
         "type": "scatter",
         "visible": false,
         "x": [
          "GNI Rank",
          "Happiness Rank"
         ],
         "y": [
          25,
          20
         ]
        },
        {
         "hoverinfo": "text",
         "hovertext": "Slovenia<br>GNI Rank: 26<br>Happiness Rank: 35<br>Mismatch: 9",
         "line": {
          "color": "#1E88E5",
          "width": 2
         },
         "mode": "lines+markers",
         "name": "Slovenia",
         "type": "scatter",
         "visible": false,
         "x": [
          "GNI Rank",
          "Happiness Rank"
         ],
         "y": [
          26,
          35
         ]
        },
        {
         "hoverinfo": "text",
         "hovertext": "Bahrain<br>GNI Rank: 27<br>Happiness Rank: 31<br>Mismatch: 4",
         "line": {
          "color": "#1E88E5",
          "width": 2
         },
         "mode": "lines+markers",
         "name": "Bahrain",
         "type": "scatter",
         "visible": false,
         "x": [
          "GNI Rank",
          "Happiness Rank"
         ],
         "y": [
          27,
          31
         ]
        },
        {
         "hoverinfo": "text",
         "hovertext": "Portugal<br>GNI Rank: 28<br>Happiness Rank: 54<br>Mismatch: 26",
         "line": {
          "color": "#1E88E5",
          "width": 2
         },
         "mode": "lines+markers",
         "name": "Portugal",
         "type": "scatter",
         "visible": false,
         "x": [
          "GNI Rank",
          "Happiness Rank"
         ],
         "y": [
          28,
          54
         ]
        },
        {
         "hoverinfo": "text",
         "hovertext": "Estonia<br>GNI Rank: 29<br>Happiness Rank: 44<br>Mismatch: 15",
         "line": {
          "color": "#1E88E5",
          "width": 2
         },
         "mode": "lines+markers",
         "name": "Estonia",
         "type": "scatter",
         "visible": false,
         "x": [
          "GNI Rank",
          "Happiness Rank"
         ],
         "y": [
          29,
          44
         ]
        },
        {
         "hoverinfo": "text",
         "hovertext": "Greece<br>GNI Rank: 30<br>Happiness Rank: 67<br>Mismatch: 37",
         "line": {
          "color": "#D81B60",
          "width": 2
         },
         "mode": "lines+markers",
         "name": "Greece",
         "type": "scatter",
         "visible": false,
         "x": [
          "GNI Rank",
          "Happiness Rank"
         ],
         "y": [
          30,
          67
         ]
        },
        {
         "hoverinfo": "text",
         "hovertext": "Uruguay<br>GNI Rank: 31<br>Happiness Rank: 28<br>Mismatch: 3",
         "line": {
          "color": "#1E88E5",
          "width": 2
         },
         "mode": "lines+markers",
         "name": "Uruguay",
         "type": "scatter",
         "visible": false,
         "x": [
          "GNI Rank",
          "Happiness Rank"
         ],
         "y": [
          31,
          28
         ]
        },
        {
         "hoverinfo": "text",
         "hovertext": "Lithuania<br>GNI Rank: 32<br>Happiness Rank: 33<br>Mismatch: 1",
         "line": {
          "color": "#1E88E5",
          "width": 2
         },
         "mode": "lines+markers",
         "name": "Lithuania",
         "type": "scatter",
         "visible": false,
         "x": [
          "GNI Rank",
          "Happiness Rank"
         ],
         "y": [
          32,
          33
         ]
        },
        {
         "hoverinfo": "text",
         "hovertext": "Latvia<br>GNI Rank: 33<br>Happiness Rank: 43<br>Mismatch: 10",
         "line": {
          "color": "#1E88E5",
          "width": 2
         },
         "mode": "lines+markers",
         "name": "Latvia",
         "type": "scatter",
         "visible": false,
         "x": [
          "GNI Rank",
          "Happiness Rank"
         ],
         "y": [
          33,
          43
         ]
        },
        {
         "hoverinfo": "text",
         "hovertext": "Panama<br>GNI Rank: 34<br>Happiness Rank: 26<br>Mismatch: 8",
         "line": {
          "color": "#1E88E5",
          "width": 2
         },
         "mode": "lines+markers",
         "name": "Panama",
         "type": "scatter",
         "visible": false,
         "x": [
          "GNI Rank",
          "Happiness Rank"
         ],
         "y": [
          34,
          26
         ]
        },
        {
         "hoverinfo": "text",
         "hovertext": "Croatia<br>GNI Rank: 35<br>Happiness Rank: 62<br>Mismatch: 27",
         "line": {
          "color": "#1E88E5",
          "width": 2
         },
         "mode": "lines+markers",
         "name": "Croatia",
         "type": "scatter",
         "visible": false,
         "x": [
          "GNI Rank",
          "Happiness Rank"
         ],
         "y": [
          35,
          62
         ]
        },
        {
         "hoverinfo": "text",
         "hovertext": "Poland<br>GNI Rank: 36<br>Happiness Rank: 32<br>Mismatch: 4",
         "line": {
          "color": "#1E88E5",
          "width": 2
         },
         "mode": "lines+markers",
         "name": "Poland",
         "type": "scatter",
         "visible": false,
         "x": [
          "GNI Rank",
          "Happiness Rank"
         ],
         "y": [
          36,
          32
         ]
        },
        {
         "hoverinfo": "text",
         "hovertext": "Hungary<br>GNI Rank: 37<br>Happiness Rank: 51<br>Mismatch: 14",
         "line": {
          "color": "#1E88E5",
          "width": 2
         },
         "mode": "lines+markers",
         "name": "Hungary",
         "type": "scatter",
         "visible": false,
         "x": [
          "GNI Rank",
          "Happiness Rank"
         ],
         "y": [
          37,
          51
         ]
        },
        {
         "hoverinfo": "text",
         "hovertext": "Chile<br>GNI Rank: 38<br>Happiness Rank: 23<br>Mismatch: 15",
         "line": {
          "color": "#1E88E5",
          "width": 2
         },
         "mode": "lines+markers",
         "name": "Chile",
         "type": "scatter",
         "visible": false,
         "x": [
          "GNI Rank",
          "Happiness Rank"
         ],
         "y": [
          38,
          23
         ]
        },
        {
         "hoverinfo": "text",
         "hovertext": "Argentina<br>GNI Rank: 39<br>Happiness Rank: 38<br>Mismatch: 1",
         "line": {
          "color": "#1E88E5",
          "width": 2
         },
         "mode": "lines+markers",
         "name": "Argentina",
         "type": "scatter",
         "visible": false,
         "x": [
          "GNI Rank",
          "Happiness Rank"
         ],
         "y": [
          39,
          38
         ]
        },
        {
         "hoverinfo": "text",
         "hovertext": "Costa Rica<br>GNI Rank: 40<br>Happiness Rank: 11<br>Mismatch: 29",
         "line": {
          "color": "#1E88E5",
          "width": 2
         },
         "mode": "lines+markers",
         "name": "Costa Rica",
         "type": "scatter",
         "visible": false,
         "x": [
          "GNI Rank",
          "Happiness Rank"
         ],
         "y": [
          40,
          11
         ]
        },
        {
         "hoverinfo": "text",
         "hovertext": "Mauritius<br>GNI Rank: 41<br>Happiness Rank: 46<br>Mismatch: 5",
         "line": {
          "color": "#1E88E5",
          "width": 2
         },
         "mode": "lines+markers",
         "name": "Mauritius",
         "type": "scatter",
         "visible": false,
         "x": [
          "GNI Rank",
          "Happiness Rank"
         ],
         "y": [
          41,
          46
         ]
        },
        {
         "hoverinfo": "text",
         "hovertext": "Romania<br>GNI Rank: 42<br>Happiness Rank: 39<br>Mismatch: 3",
         "line": {
          "color": "#1E88E5",
          "width": 2
         },
         "mode": "lines+markers",
         "name": "Romania",
         "type": "scatter",
         "visible": false,
         "x": [
          "GNI Rank",
          "Happiness Rank"
         ],
         "y": [
          42,
          39
         ]
        },
        {
         "hoverinfo": "text",
         "hovertext": "Malaysia<br>GNI Rank: 43<br>Happiness Rank: 65<br>Mismatch: 22",
         "line": {
          "color": "#1E88E5",
          "width": 2
         },
         "mode": "lines+markers",
         "name": "Malaysia",
         "type": "scatter",
         "visible": false,
         "x": [
          "GNI Rank",
          "Happiness Rank"
         ],
         "y": [
          43,
          65
         ]
        },
        {
         "hoverinfo": "text",
         "hovertext": "China<br>GNI Rank: 44<br>Happiness Rank: 74<br>Mismatch: 30",
         "line": {
          "color": "#1E88E5",
          "width": 2
         },
         "mode": "lines+markers",
         "name": "China",
         "type": "scatter",
         "visible": false,
         "x": [
          "GNI Rank",
          "Happiness Rank"
         ],
         "y": [
          44,
          74
         ]
        },
        {
         "hoverinfo": "text",
         "hovertext": "Mexico<br>GNI Rank: 45<br>Happiness Rank: 21<br>Mismatch: 24",
         "line": {
          "color": "#1E88E5",
          "width": 2
         },
         "mode": "lines+markers",
         "name": "Mexico",
         "type": "scatter",
         "visible": false,
         "x": [
          "GNI Rank",
          "Happiness Rank"
         ],
         "y": [
          45,
          21
         ]
        },
        {
         "hoverinfo": "text",
         "hovertext": "Kazakhstan<br>GNI Rank: 46<br>Happiness Rank: 49<br>Mismatch: 3",
         "line": {
          "color": "#1E88E5",
          "width": 2
         },
         "mode": "lines+markers",
         "name": "Kazakhstan",
         "type": "scatter",
         "visible": false,
         "x": [
          "GNI Rank",
          "Happiness Rank"
         ],
         "y": [
          46,
          49
         ]
        },
        {
         "hoverinfo": "text",
         "hovertext": "Libya<br>GNI Rank: 47<br>Happiness Rank: 59<br>Mismatch: 12",
         "line": {
          "color": "#1E88E5",
          "width": 2
         },
         "mode": "lines+markers",
         "name": "Libya",
         "type": "scatter",
         "visible": false,
         "x": [
          "GNI Rank",
          "Happiness Rank"
         ],
         "y": [
          47,
          59
         ]
        },
        {
         "hoverinfo": "text",
         "hovertext": "Brazil<br>GNI Rank: 48<br>Happiness Rank: 27<br>Mismatch: 21",
         "line": {
          "color": "#1E88E5",
          "width": 2
         },
         "mode": "lines+markers",
         "name": "Brazil",
         "type": "scatter",
         "visible": false,
         "x": [
          "GNI Rank",
          "Happiness Rank"
         ],
         "y": [
          48,
          27
         ]
        },
        {
         "hoverinfo": "text",
         "hovertext": "Bulgaria<br>GNI Rank: 49<br>Happiness Rank: 77<br>Mismatch: 28",
         "line": {
          "color": "#1E88E5",
          "width": 2
         },
         "mode": "lines+markers",
         "name": "Bulgaria",
         "type": "scatter",
         "visible": false,
         "x": [
          "GNI Rank",
          "Happiness Rank"
         ],
         "y": [
          49,
          77
         ]
        },
        {
         "hoverinfo": "text",
         "hovertext": "Lebanon<br>GNI Rank: 50<br>Happiness Rank: 72<br>Mismatch: 22",
         "line": {
          "color": "#1E88E5",
          "width": 2
         },
         "mode": "lines+markers",
         "name": "Lebanon",
         "type": "scatter",
         "visible": false,
         "x": [
          "GNI Rank",
          "Happiness Rank"
         ],
         "y": [
          50,
          72
         ]
        },
        {
         "hoverinfo": "text",
         "hovertext": "Dominican Republic<br>GNI Rank: 51<br>Happiness Rank: 63<br>Mismatch: 12",
         "line": {
          "color": "#1E88E5",
          "width": 2
         },
         "mode": "lines+markers",
         "name": "Dominican Republic",
         "type": "scatter",
         "visible": false,
         "x": [
          "GNI Rank",
          "Happiness Rank"
         ],
         "y": [
          51,
          63
         ]
        },
        {
         "hoverinfo": "text",
         "hovertext": "Montenegro<br>GNI Rank: 52<br>Happiness Rank: 60<br>Mismatch: 8",
         "line": {
          "color": "#1E88E5",
          "width": 2
         },
         "mode": "lines+markers",
         "name": "Montenegro",
         "type": "scatter",
         "visible": false,
         "x": [
          "GNI Rank",
          "Happiness Rank"
         ],
         "y": [
          52,
          60
         ]
        },
        {
         "hoverinfo": "text",
         "hovertext": "Botswana<br>GNI Rank: 53<br>Happiness Rank: 113<br>Mismatch: 60",
         "line": {
          "color": "#D81B60",
          "width": 2
         },
         "mode": "lines+markers",
         "name": "Botswana",
         "type": "scatter",
         "visible": false,
         "x": [
          "GNI Rank",
          "Happiness Rank"
         ],
         "y": [
          53,
          113
         ]
        },
        {
         "hoverinfo": "text",
         "hovertext": "Serbia<br>GNI Rank: 54<br>Happiness Rank: 57<br>Mismatch: 3",
         "line": {
          "color": "#1E88E5",
          "width": 2
         },
         "mode": "lines+markers",
         "name": "Serbia",
         "type": "scatter",
         "visible": false,
         "x": [
          "GNI Rank",
          "Happiness Rank"
         ],
         "y": [
          54,
          57
         ]
        },
        {
         "hoverinfo": "text",
         "hovertext": "Peru<br>GNI Rank: 55<br>Happiness Rank: 53<br>Mismatch: 2",
         "line": {
          "color": "#1E88E5",
          "width": 2
         },
         "mode": "lines+markers",
         "name": "Peru",
         "type": "scatter",
         "visible": false,
         "x": [
          "GNI Rank",
          "Happiness Rank"
         ],
         "y": [
          55,
          53
         ]
        },
        {
         "hoverinfo": "text",
         "hovertext": "Colombia<br>GNI Rank: 56<br>Happiness Rank: 34<br>Mismatch: 22",
         "line": {
          "color": "#1E88E5",
          "width": 2
         },
         "mode": "lines+markers",
         "name": "Colombia",
         "type": "scatter",
         "visible": false,
         "x": [
          "GNI Rank",
          "Happiness Rank"
         ],
         "y": [
          56,
          34
         ]
        },
        {
         "hoverinfo": "text",
         "hovertext": "Belarus<br>GNI Rank: 57<br>Happiness Rank: 66<br>Mismatch: 9",
         "line": {
          "color": "#1E88E5",
          "width": 2
         },
         "mode": "lines+markers",
         "name": "Belarus",
         "type": "scatter",
         "visible": false,
         "x": [
          "GNI Rank",
          "Happiness Rank"
         ],
         "y": [
          57,
          66
         ]
        },
        {
         "hoverinfo": "text",
         "hovertext": "Paraguay<br>GNI Rank: 58<br>Happiness Rank: 52<br>Mismatch: 6",
         "line": {
          "color": "#1E88E5",
          "width": 2
         },
         "mode": "lines+markers",
         "name": "Paraguay",
         "type": "scatter",
         "visible": false,
         "x": [
          "GNI Rank",
          "Happiness Rank"
         ],
         "y": [
          58,
          52
         ]
        },
        {
         "hoverinfo": "text",
         "hovertext": "South Africa<br>GNI Rank: 59<br>Happiness Rank: 82<br>Mismatch: 23",
         "line": {
          "color": "#1E88E5",
          "width": 2
         },
         "mode": "lines+markers",
         "name": "South Africa",
         "type": "scatter",
         "visible": false,
         "x": [
          "GNI Rank",
          "Happiness Rank"
         ],
         "y": [
          59,
          82
         ]
        },
        {
         "hoverinfo": "text",
         "hovertext": "Gabon<br>GNI Rank: 60<br>Happiness Rank: 81<br>Mismatch: 21",
         "line": {
          "color": "#1E88E5",
          "width": 2
         },
         "mode": "lines+markers",
         "name": "Gabon",
         "type": "scatter",
         "visible": false,
         "x": [
          "GNI Rank",
          "Happiness Rank"
         ],
         "y": [
          60,
          81
         ]
        },
        {
         "hoverinfo": "text",
         "hovertext": "Ecuador<br>GNI Rank: 61<br>Happiness Rank: 41<br>Mismatch: 20",
         "line": {
          "color": "#1E88E5",
          "width": 2
         },
         "mode": "lines+markers",
         "name": "Ecuador",
         "type": "scatter",
         "visible": false,
         "x": [
          "GNI Rank",
          "Happiness Rank"
         ],
         "y": [
          61,
          41
         ]
        },
        {
         "hoverinfo": "text",
         "hovertext": "North Macedonia<br>GNI Rank: 62<br>Happiness Rank: 69<br>Mismatch: 7",
         "line": {
          "color": "#1E88E5",
          "width": 2
         },
         "mode": "lines+markers",
         "name": "North Macedonia",
         "type": "scatter",
         "visible": false,
         "x": [
          "GNI Rank",
          "Happiness Rank"
         ],
         "y": [
          62,
          69
         ]
        },
        {
         "hoverinfo": "text",
         "hovertext": "Bosnia and Herzegovina<br>GNI Rank: 63<br>Happiness Rank: 64<br>Mismatch: 1",
         "line": {
          "color": "#1E88E5",
          "width": 2
         },
         "mode": "lines+markers",
         "name": "Bosnia and Herzegovina",
         "type": "scatter",
         "visible": false,
         "x": [
          "GNI Rank",
          "Happiness Rank"
         ],
         "y": [
          63,
          64
         ]
        },
        {
         "hoverinfo": "text",
         "hovertext": "Jamaica<br>GNI Rank: 64<br>Happiness Rank: 45<br>Mismatch: 19",
         "line": {
          "color": "#1E88E5",
          "width": 2
         },
         "mode": "lines+markers",
         "name": "Jamaica",
         "type": "scatter",
         "visible": false,
         "x": [
          "GNI Rank",
          "Happiness Rank"
         ],
         "y": [
          64,
          45
         ]
        },
        {
         "hoverinfo": "text",
         "hovertext": "Iraq<br>GNI Rank: 65<br>Happiness Rank: 97<br>Mismatch: 32",
         "line": {
          "color": "#D81B60",
          "width": 2
         },
         "mode": "lines+markers",
         "name": "Iraq",
         "type": "scatter",
         "visible": false,
         "x": [
          "GNI Rank",
          "Happiness Rank"
         ],
         "y": [
          65,
          97
         ]
        },
        {
         "hoverinfo": "text",
         "hovertext": "Georgia<br>GNI Rank: 66<br>Happiness Rank: 92<br>Mismatch: 26",
         "line": {
          "color": "#1E88E5",
          "width": 2
         },
         "mode": "lines+markers",
         "name": "Georgia",
         "type": "scatter",
         "visible": false,
         "x": [
          "GNI Rank",
          "Happiness Rank"
         ],
         "y": [
          66,
          92
         ]
        },
        {
         "hoverinfo": "text",
         "hovertext": "Algeria<br>GNI Rank: 67<br>Happiness Rank: 70<br>Mismatch: 3",
         "line": {
          "color": "#1E88E5",
          "width": 2
         },
         "mode": "lines+markers",
         "name": "Algeria",
         "type": "scatter",
         "visible": false,
         "x": [
          "GNI Rank",
          "Happiness Rank"
         ],
         "y": [
          67,
          70
         ]
        },
        {
         "hoverinfo": "text",
         "hovertext": "Albania<br>GNI Rank: 68<br>Happiness Rank: 83<br>Mismatch: 15",
         "line": {
          "color": "#1E88E5",
          "width": 2
         },
         "mode": "lines+markers",
         "name": "Albania",
         "type": "scatter",
         "visible": false,
         "x": [
          "GNI Rank",
          "Happiness Rank"
         ],
         "y": [
          68,
          83
         ]
        },
        {
         "hoverinfo": "text",
         "hovertext": "Armenia<br>GNI Rank: 69<br>Happiness Rank: 90<br>Mismatch: 21",
         "line": {
          "color": "#1E88E5",
          "width": 2
         },
         "mode": "lines+markers",
         "name": "Armenia",
         "type": "scatter",
         "visible": false,
         "x": [
          "GNI Rank",
          "Happiness Rank"
         ],
         "y": [
          69,
          90
         ]
        },
        {
         "hoverinfo": "text",
         "hovertext": "Sri Lanka<br>GNI Rank: 70<br>Happiness Rank: 100<br>Mismatch: 30",
         "line": {
          "color": "#1E88E5",
          "width": 2
         },
         "mode": "lines+markers",
         "name": "Sri Lanka",
         "type": "scatter",
         "visible": false,
         "x": [
          "GNI Rank",
          "Happiness Rank"
         ],
         "y": [
          70,
          100
         ]
        },
        {
         "hoverinfo": "text",
         "hovertext": "Kosovo<br>GNI Rank: 71<br>Happiness Rank: 37<br>Mismatch: 34",
         "line": {
          "color": "#D81B60",
          "width": 2
         },
         "mode": "lines+markers",
         "name": "Kosovo",
         "type": "scatter",
         "visible": false,
         "x": [
          "GNI Rank",
          "Happiness Rank"
         ],
         "y": [
          71,
          37
         ]
        },
        {
         "hoverinfo": "text",
         "hovertext": "Namibia<br>GNI Rank: 72<br>Happiness Rank: 87<br>Mismatch: 15",
         "line": {
          "color": "#1E88E5",
          "width": 2
         },
         "mode": "lines+markers",
         "name": "Namibia",
         "type": "scatter",
         "visible": false,
         "x": [
          "GNI Rank",
          "Happiness Rank"
         ],
         "y": [
          72,
          87
         ]
        },
        {
         "hoverinfo": "text",
         "hovertext": "Guatemala<br>GNI Rank: 73<br>Happiness Rank: 24<br>Mismatch: 49",
         "line": {
          "color": "#D81B60",
          "width": 2
         },
         "mode": "lines+markers",
         "name": "Guatemala",
         "type": "scatter",
         "visible": false,
         "x": [
          "GNI Rank",
          "Happiness Rank"
         ],
         "y": [
          73,
          24
         ]
        },
        {
         "hoverinfo": "text",
         "hovertext": "Tunisia<br>GNI Rank: 74<br>Happiness Rank: 96<br>Mismatch: 22",
         "line": {
          "color": "#1E88E5",
          "width": 2
         },
         "mode": "lines+markers",
         "name": "Tunisia",
         "type": "scatter",
         "visible": false,
         "x": [
          "GNI Rank",
          "Happiness Rank"
         ],
         "y": [
          74,
          96
         ]
        },
        {
         "hoverinfo": "text",
         "hovertext": "El Salvador<br>GNI Rank: 75<br>Happiness Rank: 29<br>Mismatch: 46",
         "line": {
          "color": "#D81B60",
          "width": 2
         },
         "mode": "lines+markers",
         "name": "El Salvador",
         "type": "scatter",
         "visible": false,
         "x": [
          "GNI Rank",
          "Happiness Rank"
         ],
         "y": [
          75,
          29
         ]
        },
        {
         "hoverinfo": "text",
         "hovertext": "Philippines<br>GNI Rank: 76<br>Happiness Rank: 56<br>Mismatch: 20",
         "line": {
          "color": "#1E88E5",
          "width": 2
         },
         "mode": "lines+markers",
         "name": "Philippines",
         "type": "scatter",
         "visible": false,
         "x": [
          "GNI Rank",
          "Happiness Rank"
         ],
         "y": [
          76,
          56
         ]
        },
        {
         "hoverinfo": "text",
         "hovertext": "Mongolia<br>GNI Rank: 77<br>Happiness Rank: 68<br>Mismatch: 9",
         "line": {
          "color": "#1E88E5",
          "width": 2
         },
         "mode": "lines+markers",
         "name": "Mongolia",
         "type": "scatter",
         "visible": false,
         "x": [
          "GNI Rank",
          "Happiness Rank"
         ],
         "y": [
          77,
          68
         ]
        },
        {
         "hoverinfo": "text",
         "hovertext": "Indonesia<br>GNI Rank: 78<br>Happiness Rank: 73<br>Mismatch: 5",
         "line": {
          "color": "#1E88E5",
          "width": 2
         },
         "mode": "lines+markers",
         "name": "Indonesia",
         "type": "scatter",
         "visible": false,
         "x": [
          "GNI Rank",
          "Happiness Rank"
         ],
         "y": [
          78,
          73
         ]
        },
        {
         "hoverinfo": "text",
         "hovertext": "Moldova<br>GNI Rank: 79<br>Happiness Rank: 58<br>Mismatch: 21",
         "line": {
          "color": "#1E88E5",
          "width": 2
         },
         "mode": "lines+markers",
         "name": "Moldova",
         "type": "scatter",
         "visible": false,
         "x": [
          "GNI Rank",
          "Happiness Rank"
         ],
         "y": [
          79,
          58
         ]
        },
        {
         "hoverinfo": "text",
         "hovertext": "Morocco<br>GNI Rank: 80<br>Happiness Rank: 71<br>Mismatch: 9",
         "line": {
          "color": "#1E88E5",
          "width": 2
         },
         "mode": "lines+markers",
         "name": "Morocco",
         "type": "scatter",
         "visible": false,
         "x": [
          "GNI Rank",
          "Happiness Rank"
         ],
         "y": [
          80,
          71
         ]
        },
        {
         "hoverinfo": "text",
         "hovertext": "Bolivia<br>GNI Rank: 81<br>Happiness Rank: 50<br>Mismatch: 31",
         "line": {
          "color": "#D81B60",
          "width": 2
         },
         "mode": "lines+markers",
         "name": "Bolivia",
         "type": "scatter",
         "visible": false,
         "x": [
          "GNI Rank",
          "Happiness Rank"
         ],
         "y": [
          81,
          50
         ]
        },
        {
         "hoverinfo": "text",
         "hovertext": "Bhutan<br>GNI Rank: 82<br>Happiness Rank: 75<br>Mismatch: 7",
         "line": {
          "color": "#1E88E5",
          "width": 2
         },
         "mode": "lines+markers",
         "name": "Bhutan",
         "type": "scatter",
         "visible": false,
         "x": [
          "GNI Rank",
          "Happiness Rank"
         ],
         "y": [
          82,
          75
         ]
        },
        {
         "hoverinfo": "text",
         "hovertext": "Ukraine<br>GNI Rank: 83<br>Happiness Rank: 102<br>Mismatch: 19",
         "line": {
          "color": "#1E88E5",
          "width": 2
         },
         "mode": "lines+markers",
         "name": "Ukraine",
         "type": "scatter",
         "visible": false,
         "x": [
          "GNI Rank",
          "Happiness Rank"
         ],
         "y": [
          83,
          102
         ]
        },
        {
         "hoverinfo": "text",
         "hovertext": "Honduras<br>GNI Rank: 84<br>Happiness Rank: 48<br>Mismatch: 36",
         "line": {
          "color": "#D81B60",
          "width": 2
         },
         "mode": "lines+markers",
         "name": "Honduras",
         "type": "scatter",
         "visible": false,
         "x": [
          "GNI Rank",
          "Happiness Rank"
         ],
         "y": [
          84,
          48
         ]
        },
        {
         "hoverinfo": "text",
         "hovertext": "Nicaragua<br>GNI Rank: 85<br>Happiness Rank: 36<br>Mismatch: 49",
         "line": {
          "color": "#D81B60",
          "width": 2
         },
         "mode": "lines+markers",
         "name": "Nicaragua",
         "type": "scatter",
         "visible": false,
         "x": [
          "GNI Rank",
          "Happiness Rank"
         ],
         "y": [
          85,
          36
         ]
        },
        {
         "hoverinfo": "text",
         "hovertext": "India<br>GNI Rank: 86<br>Happiness Rank: 106<br>Mismatch: 20",
         "line": {
          "color": "#1E88E5",
          "width": 2
         },
         "mode": "lines+markers",
         "name": "India",
         "type": "scatter",
         "visible": false,
         "x": [
          "GNI Rank",
          "Happiness Rank"
         ],
         "y": [
          86,
          106
         ]
        },
        {
         "hoverinfo": "text",
         "hovertext": "Ghana<br>GNI Rank: 87<br>Happiness Rank: 78<br>Mismatch: 9",
         "line": {
          "color": "#1E88E5",
          "width": 2
         },
         "mode": "lines+markers",
         "name": "Ghana",
         "type": "scatter",
         "visible": false,
         "x": [
          "GNI Rank",
          "Happiness Rank"
         ],
         "y": [
          87,
          78
         ]
        },
        {
         "hoverinfo": "text",
         "hovertext": "Cambodia<br>GNI Rank: 88<br>Happiness Rank: 84<br>Mismatch: 4",
         "line": {
          "color": "#1E88E5",
          "width": 2
         },
         "mode": "lines+markers",
         "name": "Cambodia",
         "type": "scatter",
         "visible": false,
         "x": [
          "GNI Rank",
          "Happiness Rank"
         ],
         "y": [
          88,
          84
         ]
        },
        {
         "hoverinfo": "text",
         "hovertext": "Kenya<br>GNI Rank: 89<br>Happiness Rank: 93<br>Mismatch: 4",
         "line": {
          "color": "#1E88E5",
          "width": 2
         },
         "mode": "lines+markers",
         "name": "Kenya",
         "type": "scatter",
         "visible": false,
         "x": [
          "GNI Rank",
          "Happiness Rank"
         ],
         "y": [
          89,
          93
         ]
        },
        {
         "hoverinfo": "text",
         "hovertext": "Mauritania<br>GNI Rank: 90<br>Happiness Rank: 94<br>Mismatch: 4",
         "line": {
          "color": "#1E88E5",
          "width": 2
         },
         "mode": "lines+markers",
         "name": "Mauritania",
         "type": "scatter",
         "visible": false,
         "x": [
          "GNI Rank",
          "Happiness Rank"
         ],
         "y": [
          90,
          94
         ]
        },
        {
         "hoverinfo": "text",
         "hovertext": "Pakistan<br>GNI Rank: 91<br>Happiness Rank: 55<br>Mismatch: 36",
         "line": {
          "color": "#D81B60",
          "width": 2
         },
         "mode": "lines+markers",
         "name": "Pakistan",
         "type": "scatter",
         "visible": false,
         "x": [
          "GNI Rank",
          "Happiness Rank"
         ],
         "y": [
          91,
          55
         ]
        },
        {
         "hoverinfo": "text",
         "hovertext": "Cameroon<br>GNI Rank: 92<br>Happiness Rank: 76<br>Mismatch: 16",
         "line": {
          "color": "#1E88E5",
          "width": 2
         },
         "mode": "lines+markers",
         "name": "Cameroon",
         "type": "scatter",
         "visible": false,
         "x": [
          "GNI Rank",
          "Happiness Rank"
         ],
         "y": [
          92,
          76
         ]
        },
        {
         "hoverinfo": "text",
         "hovertext": "Haiti<br>GNI Rank: 93<br>Happiness Rank: 112<br>Mismatch: 19",
         "line": {
          "color": "#1E88E5",
          "width": 2
         },
         "mode": "lines+markers",
         "name": "Haiti",
         "type": "scatter",
         "visible": false,
         "x": [
          "GNI Rank",
          "Happiness Rank"
         ],
         "y": [
          93,
          112
         ]
        },
        {
         "hoverinfo": "text",
         "hovertext": "Comoros<br>GNI Rank: 94<br>Happiness Rank: 107<br>Mismatch: 13",
         "line": {
          "color": "#1E88E5",
          "width": 2
         },
         "mode": "lines+markers",
         "name": "Comoros",
         "type": "scatter",
         "visible": false,
         "x": [
          "GNI Rank",
          "Happiness Rank"
         ],
         "y": [
          94,
          107
         ]
        },
        {
         "hoverinfo": "text",
         "hovertext": "Tajikistan<br>GNI Rank: 95<br>Happiness Rank: 61<br>Mismatch: 34",
         "line": {
          "color": "#D81B60",
          "width": 2
         },
         "mode": "lines+markers",
         "name": "Tajikistan",
         "type": "scatter",
         "visible": false,
         "x": [
          "GNI Rank",
          "Happiness Rank"
         ],
         "y": [
          95,
          61
         ]
        },
        {
         "hoverinfo": "text",
         "hovertext": "Senegal<br>GNI Rank: 96<br>Happiness Rank: 85<br>Mismatch: 11",
         "line": {
          "color": "#1E88E5",
          "width": 2
         },
         "mode": "lines+markers",
         "name": "Senegal",
         "type": "scatter",
         "visible": false,
         "x": [
          "GNI Rank",
          "Happiness Rank"
         ],
         "y": [
          96,
          85
         ]
        },
        {
         "hoverinfo": "text",
         "hovertext": "Zimbabwe<br>GNI Rank: 97<br>Happiness Rank: 111<br>Mismatch: 14",
         "line": {
          "color": "#1E88E5",
          "width": 2
         },
         "mode": "lines+markers",
         "name": "Zimbabwe",
         "type": "scatter",
         "visible": false,
         "x": [
          "GNI Rank",
          "Happiness Rank"
         ],
         "y": [
          97,
          111
         ]
        },
        {
         "hoverinfo": "text",
         "hovertext": "Lesotho<br>GNI Rank: 98<br>Happiness Rank: 109<br>Mismatch: 11",
         "line": {
          "color": "#1E88E5",
          "width": 2
         },
         "mode": "lines+markers",
         "name": "Lesotho",
         "type": "scatter",
         "visible": false,
         "x": [
          "GNI Rank",
          "Happiness Rank"
         ],
         "y": [
          98,
          109
         ]
        },
        {
         "hoverinfo": "text",
         "hovertext": "Benin<br>GNI Rank: 99<br>Happiness Rank: 80<br>Mismatch: 19",
         "line": {
          "color": "#1E88E5",
          "width": 2
         },
         "mode": "lines+markers",
         "name": "Benin",
         "type": "scatter",
         "visible": false,
         "x": [
          "GNI Rank",
          "Happiness Rank"
         ],
         "y": [
          99,
          80
         ]
        },
        {
         "hoverinfo": "text",
         "hovertext": "Nepal<br>GNI Rank: 100<br>Happiness Rank: 79<br>Mismatch: 21",
         "line": {
          "color": "#1E88E5",
          "width": 2
         },
         "mode": "lines+markers",
         "name": "Nepal",
         "type": "scatter",
         "visible": false,
         "x": [
          "GNI Rank",
          "Happiness Rank"
         ],
         "y": [
          100,
          79
         ]
        },
        {
         "hoverinfo": "text",
         "hovertext": "Tanzania<br>GNI Rank: 101<br>Happiness Rank: 115<br>Mismatch: 14",
         "line": {
          "color": "#1E88E5",
          "width": 2
         },
         "mode": "lines+markers",
         "name": "Tanzania",
         "type": "scatter",
         "visible": false,
         "x": [
          "GNI Rank",
          "Happiness Rank"
         ],
         "y": [
          101,
          115
         ]
        },
        {
         "hoverinfo": "text",
         "hovertext": "Sierra Leone<br>GNI Rank: 102<br>Happiness Rank: 99<br>Mismatch: 3",
         "line": {
          "color": "#1E88E5",
          "width": 2
         },
         "mode": "lines+markers",
         "name": "Sierra Leone",
         "type": "scatter",
         "visible": false,
         "x": [
          "GNI Rank",
          "Happiness Rank"
         ],
         "y": [
          102,
          99
         ]
        },
        {
         "hoverinfo": "text",
         "hovertext": "Guinea<br>GNI Rank: 103<br>Happiness Rank: 91<br>Mismatch: 12",
         "line": {
          "color": "#1E88E5",
          "width": 2
         },
         "mode": "lines+markers",
         "name": "Guinea",
         "type": "scatter",
         "visible": false,
         "x": [
          "GNI Rank",
          "Happiness Rank"
         ],
         "y": [
          103,
          91
         ]
        },
        {
         "hoverinfo": "text",
         "hovertext": "Uganda<br>GNI Rank: 104<br>Happiness Rank: 104<br>Mismatch: 0",
         "line": {
          "color": "#1E88E5",
          "width": 2
         },
         "mode": "lines+markers",
         "name": "Uganda",
         "type": "scatter",
         "visible": false,
         "x": [
          "GNI Rank",
          "Happiness Rank"
         ],
         "y": [
          104,
          104
         ]
        },
        {
         "hoverinfo": "text",
         "hovertext": "Rwanda<br>GNI Rank: 105<br>Happiness Rank: 114<br>Mismatch: 9",
         "line": {
          "color": "#1E88E5",
          "width": 2
         },
         "mode": "lines+markers",
         "name": "Rwanda",
         "type": "scatter",
         "visible": false,
         "x": [
          "GNI Rank",
          "Happiness Rank"
         ],
         "y": [
          105,
          114
         ]
        },
        {
         "hoverinfo": "text",
         "hovertext": "Togo<br>GNI Rank: 106<br>Happiness Rank: 105<br>Mismatch: 1",
         "line": {
          "color": "#1E88E5",
          "width": 2
         },
         "mode": "lines+markers",
         "name": "Togo",
         "type": "scatter",
         "visible": false,
         "x": [
          "GNI Rank",
          "Happiness Rank"
         ],
         "y": [
          106,
          105
         ]
        },
        {
         "hoverinfo": "text",
         "hovertext": "Ethiopia<br>GNI Rank: 107<br>Happiness Rank: 103<br>Mismatch: 4",
         "line": {
          "color": "#1E88E5",
          "width": 2
         },
         "mode": "lines+markers",
         "name": "Ethiopia",
         "type": "scatter",
         "visible": false,
         "x": [
          "GNI Rank",
          "Happiness Rank"
         ],
         "y": [
          107,
          103
         ]
        },
        {
         "hoverinfo": "text",
         "hovertext": "Mali<br>GNI Rank: 108<br>Happiness Rank: 98<br>Mismatch: 10",
         "line": {
          "color": "#1E88E5",
          "width": 2
         },
         "mode": "lines+markers",
         "name": "Mali",
         "type": "scatter",
         "visible": false,
         "x": [
          "GNI Rank",
          "Happiness Rank"
         ],
         "y": [
          108,
          98
         ]
        },
        {
         "hoverinfo": "text",
         "hovertext": "Burkina Faso<br>GNI Rank: 109<br>Happiness Rank: 89<br>Mismatch: 20",
         "line": {
          "color": "#1E88E5",
          "width": 2
         },
         "mode": "lines+markers",
         "name": "Burkina Faso",
         "type": "scatter",
         "visible": false,
         "x": [
          "GNI Rank",
          "Happiness Rank"
         ],
         "y": [
          109,
          89
         ]
        },
        {
         "hoverinfo": "text",
         "hovertext": "Chad<br>GNI Rank: 110<br>Happiness Rank: 101<br>Mismatch: 9",
         "line": {
          "color": "#1E88E5",
          "width": 2
         },
         "mode": "lines+markers",
         "name": "Chad",
         "type": "scatter",
         "visible": false,
         "x": [
          "GNI Rank",
          "Happiness Rank"
         ],
         "y": [
          110,
          101
         ]
        },
        {
         "hoverinfo": "text",
         "hovertext": "Mozambique<br>GNI Rank: 111<br>Happiness Rank: 95<br>Mismatch: 16",
         "line": {
          "color": "#1E88E5",
          "width": 2
         },
         "mode": "lines+markers",
         "name": "Mozambique",
         "type": "scatter",
         "visible": false,
         "x": [
          "GNI Rank",
          "Happiness Rank"
         ],
         "y": [
          111,
          95
         ]
        },
        {
         "hoverinfo": "text",
         "hovertext": "Niger<br>GNI Rank: 112<br>Happiness Rank: 88<br>Mismatch: 24",
         "line": {
          "color": "#1E88E5",
          "width": 2
         },
         "mode": "lines+markers",
         "name": "Niger",
         "type": "scatter",
         "visible": false,
         "x": [
          "GNI Rank",
          "Happiness Rank"
         ],
         "y": [
          112,
          88
         ]
        },
        {
         "hoverinfo": "text",
         "hovertext": "Somalia<br>GNI Rank: 113<br>Happiness Rank: 86<br>Mismatch: 27",
         "line": {
          "color": "#1E88E5",
          "width": 2
         },
         "mode": "lines+markers",
         "name": "Somalia",
         "type": "scatter",
         "visible": false,
         "x": [
          "GNI Rank",
          "Happiness Rank"
         ],
         "y": [
          113,
          86
         ]
        },
        {
         "hoverinfo": "text",
         "hovertext": "Madagascar<br>GNI Rank: 114<br>Happiness Rank: 108<br>Mismatch: 6",
         "line": {
          "color": "#1E88E5",
          "width": 2
         },
         "mode": "lines+markers",
         "name": "Madagascar",
         "type": "scatter",
         "visible": false,
         "x": [
          "GNI Rank",
          "Happiness Rank"
         ],
         "y": [
          114,
          108
         ]
        },
        {
         "hoverinfo": "text",
         "hovertext": "Central African Republic<br>GNI Rank: 115<br>Happiness Rank: 116<br>Mismatch: 1",
         "line": {
          "color": "#1E88E5",
          "width": 2
         },
         "mode": "lines+markers",
         "name": "Central African Republic",
         "type": "scatter",
         "visible": false,
         "x": [
          "GNI Rank",
          "Happiness Rank"
         ],
         "y": [
          115,
          116
         ]
        },
        {
         "hoverinfo": "text",
         "hovertext": "Burundi<br>GNI Rank: 116<br>Happiness Rank: 110<br>Mismatch: 6",
         "line": {
          "color": "#1E88E5",
          "width": 2
         },
         "mode": "lines+markers",
         "name": "Burundi",
         "type": "scatter",
         "visible": false,
         "x": [
          "GNI Rank",
          "Happiness Rank"
         ],
         "y": [
          116,
          110
         ]
        }
       ],
       "layout": {
        "annotations": [
         {
          "align": "left",
          "bgcolor": "#D81B60",
          "bordercolor": "black",
          "borderwidth": 1,
          "font": {
           "color": "white",
           "size": 12
          },
          "showarrow": false,
          "text": "Mismatch > 20:<br><b>33</b>",
          "x": 1.05,
          "xref": "paper",
          "y": 1.05,
          "yref": "paper"
         }
        ],
        "height": 800,
        "margin": {
         "b": 80,
         "l": 80,
         "r": 100,
         "t": 80
        },
        "paper_bgcolor": "#EDF1EC",
        "plot_bgcolor": "#EDF1EC",
        "showlegend": false,
        "sliders": [
         {
          "active": 0,
          "currentvalue": {
           "prefix": "Metric: "
          },
          "len": 0.9,
          "pad": {
           "t": 50
          },
          "steps": [
           {
            "args": [
             {
              "visible": [
               true,
               true,
               true,
               true,
               true,
               true,
               true,
               true,
               true,
               true,
               true,
               true,
               true,
               true,
               true,
               true,
               true,
               true,
               true,
               true,
               true,
               true,
               true,
               true,
               true,
               true,
               true,
               true,
               true,
               true,
               true,
               true,
               true,
               true,
               true,
               true,
               true,
               true,
               true,
               true,
               true,
               true,
               true,
               true,
               true,
               true,
               true,
               true,
               true,
               true,
               true,
               true,
               true,
               true,
               true,
               true,
               true,
               true,
               true,
               true,
               true,
               true,
               true,
               true,
               true,
               false,
               false,
               false,
               false,
               false,
               false,
               false,
               false,
               false,
               false,
               false,
               false,
               false,
               false,
               false,
               false,
               false,
               false,
               false,
               false,
               false,
               false,
               false,
               false,
               false,
               false,
               false,
               false,
               false,
               false,
               false,
               false,
               false,
               false,
               false,
               false,
               false,
               false,
               false,
               false,
               false,
               false,
               false,
               false,
               false,
               false,
               false,
               false,
               false,
               false,
               false,
               false,
               false,
               false,
               false,
               false,
               false,
               false,
               false,
               false,
               false,
               false,
               false,
               false,
               false,
               false,
               false,
               false,
               false,
               false,
               false,
               false,
               false,
               false,
               false,
               false,
               false,
               false,
               false,
               false,
               false,
               false,
               false,
               false,
               false,
               false,
               false,
               false,
               false,
               false,
               false,
               false,
               false,
               false,
               false,
               false,
               false,
               false,
               false,
               false,
               false,
               false,
               false,
               false,
               false,
               false,
               false,
               false,
               false,
               false,
               false,
               false,
               false,
               false,
               false,
               false,
               false,
               false,
               false,
               false,
               false,
               false,
               false,
               false,
               false,
               false,
               false,
               false,
               false,
               false,
               false,
               false,
               false,
               false,
               false,
               false,
               false,
               false,
               false,
               false,
               false,
               false,
               false,
               false,
               false,
               false,
               false,
               false,
               false,
               false,
               false,
               false,
               false,
               false,
               false,
               false,
               false,
               false,
               false,
               false,
               false,
               false,
               false,
               false,
               false,
               false,
               false,
               false,
               false,
               false,
               false,
               false,
               false,
               false,
               false,
               false,
               false,
               false,
               false,
               false,
               false,
               false,
               false,
               false,
               false,
               false,
               false,
               false,
               false,
               false,
               false,
               false,
               false,
               false,
               false,
               false,
               false,
               false,
               false,
               false,
               false,
               false,
               false,
               false,
               false,
               false,
               false,
               false,
               false,
               false,
               false,
               false,
               false,
               false,
               false,
               false,
               false,
               false,
               false,
               false,
               false,
               false,
               false,
               false,
               false,
               false,
               false,
               false,
               false,
               false,
               false,
               false,
               false,
               false,
               false,
               false,
               false,
               false,
               false,
               false,
               false,
               false,
               false,
               false,
               false,
               false,
               false,
               false
              ]
             },
             {
              "annotations": [
               {
                "align": "left",
                "bgcolor": "#D81B60",
                "bordercolor": "black",
                "borderwidth": 1,
                "font": {
                 "color": "white",
                 "size": 12
                },
                "showarrow": false,
                "text": "Mismatch > 20:<br><b>33</b>",
                "x": 1.05,
                "xref": "paper",
                "y": 1.05,
                "yref": "paper"
               }
              ],
              "title": "Gini Index vs Happiness Rankings",
              "xaxis": {
               "tickvals": [
                "Gini Index Rank",
                "Happiness Rank"
               ],
               "title": ""
              },
              "yaxis": {
               "autorange": "reversed",
               "title": "Rank (1 = Best)"
              }
             }
            ],
            "label": "Gini Index",
            "method": "update"
           },
           {
            "args": [
             {
              "visible": [
               false,
               false,
               false,
               false,
               false,
               false,
               false,
               false,
               false,
               false,
               false,
               false,
               false,
               false,
               false,
               false,
               false,
               false,
               false,
               false,
               false,
               false,
               false,
               false,
               false,
               false,
               false,
               false,
               false,
               false,
               false,
               false,
               false,
               false,
               false,
               false,
               false,
               false,
               false,
               false,
               false,
               false,
               false,
               false,
               false,
               false,
               false,
               false,
               false,
               false,
               false,
               false,
               false,
               false,
               false,
               false,
               false,
               false,
               false,
               false,
               false,
               false,
               false,
               false,
               false,
               true,
               true,
               true,
               true,
               true,
               true,
               true,
               true,
               true,
               true,
               true,
               true,
               true,
               true,
               true,
               true,
               true,
               true,
               true,
               true,
               true,
               true,
               true,
               true,
               true,
               true,
               true,
               true,
               true,
               true,
               true,
               true,
               true,
               true,
               true,
               true,
               true,
               true,
               true,
               true,
               true,
               true,
               true,
               true,
               true,
               true,
               true,
               true,
               true,
               true,
               true,
               true,
               true,
               true,
               true,
               true,
               true,
               true,
               true,
               true,
               true,
               true,
               true,
               true,
               true,
               true,
               true,
               true,
               true,
               true,
               true,
               true,
               true,
               true,
               true,
               true,
               true,
               true,
               true,
               true,
               true,
               true,
               true,
               true,
               true,
               true,
               true,
               true,
               true,
               true,
               true,
               true,
               true,
               true,
               true,
               true,
               true,
               true,
               true,
               true,
               true,
               true,
               true,
               true,
               true,
               true,
               true,
               true,
               true,
               true,
               true,
               true,
               true,
               true,
               true,
               true,
               true,
               true,
               true,
               true,
               true,
               true,
               true,
               true,
               true,
               true,
               true,
               true,
               true,
               true,
               true,
               true,
               false,
               false,
               false,
               false,
               false,
               false,
               false,
               false,
               false,
               false,
               false,
               false,
               false,
               false,
               false,
               false,
               false,
               false,
               false,
               false,
               false,
               false,
               false,
               false,
               false,
               false,
               false,
               false,
               false,
               false,
               false,
               false,
               false,
               false,
               false,
               false,
               false,
               false,
               false,
               false,
               false,
               false,
               false,
               false,
               false,
               false,
               false,
               false,
               false,
               false,
               false,
               false,
               false,
               false,
               false,
               false,
               false,
               false,
               false,
               false,
               false,
               false,
               false,
               false,
               false,
               false,
               false,
               false,
               false,
               false,
               false,
               false,
               false,
               false,
               false,
               false,
               false,
               false,
               false,
               false,
               false,
               false,
               false,
               false,
               false,
               false,
               false,
               false,
               false,
               false,
               false,
               false,
               false,
               false,
               false,
               false,
               false,
               false,
               false,
               false,
               false,
               false,
               false,
               false,
               false,
               false,
               false,
               false,
               false,
               false,
               false,
               false,
               false,
               false,
               false,
               false
              ]
             },
             {
              "annotations": [
               {
                "align": "left",
                "bgcolor": "#D81B60",
                "bordercolor": "black",
                "borderwidth": 1,
                "font": {
                 "color": "white",
                 "size": 12
                },
                "showarrow": false,
                "text": "Mismatch > 30:<br><b>18</b>",
                "x": 1.05,
                "xref": "paper",
                "y": 1.05,
                "yref": "paper"
               }
              ],
              "title": "GDP vs Happiness Rankings",
              "xaxis": {
               "tickvals": [
                "GDP Rank",
                "Happiness Rank"
               ],
               "title": ""
              },
              "yaxis": {
               "autorange": "reversed",
               "title": "Rank (1 = Best)"
              }
             }
            ],
            "label": "GDP",
            "method": "update"
           },
           {
            "args": [
             {
              "visible": [
               false,
               false,
               false,
               false,
               false,
               false,
               false,
               false,
               false,
               false,
               false,
               false,
               false,
               false,
               false,
               false,
               false,
               false,
               false,
               false,
               false,
               false,
               false,
               false,
               false,
               false,
               false,
               false,
               false,
               false,
               false,
               false,
               false,
               false,
               false,
               false,
               false,
               false,
               false,
               false,
               false,
               false,
               false,
               false,
               false,
               false,
               false,
               false,
               false,
               false,
               false,
               false,
               false,
               false,
               false,
               false,
               false,
               false,
               false,
               false,
               false,
               false,
               false,
               false,
               false,
               false,
               false,
               false,
               false,
               false,
               false,
               false,
               false,
               false,
               false,
               false,
               false,
               false,
               false,
               false,
               false,
               false,
               false,
               false,
               false,
               false,
               false,
               false,
               false,
               false,
               false,
               false,
               false,
               false,
               false,
               false,
               false,
               false,
               false,
               false,
               false,
               false,
               false,
               false,
               false,
               false,
               false,
               false,
               false,
               false,
               false,
               false,
               false,
               false,
               false,
               false,
               false,
               false,
               false,
               false,
               false,
               false,
               false,
               false,
               false,
               false,
               false,
               false,
               false,
               false,
               false,
               false,
               false,
               false,
               false,
               false,
               false,
               false,
               false,
               false,
               false,
               false,
               false,
               false,
               false,
               false,
               false,
               false,
               false,
               false,
               false,
               false,
               false,
               false,
               false,
               false,
               false,
               false,
               false,
               false,
               false,
               false,
               false,
               false,
               false,
               false,
               false,
               false,
               false,
               false,
               false,
               false,
               false,
               false,
               false,
               false,
               false,
               false,
               false,
               false,
               false,
               false,
               false,
               false,
               false,
               false,
               false,
               false,
               false,
               false,
               false,
               false,
               false,
               false,
               false,
               false,
               false,
               true,
               true,
               true,
               true,
               true,
               true,
               true,
               true,
               true,
               true,
               true,
               true,
               true,
               true,
               true,
               true,
               true,
               true,
               true,
               true,
               true,
               true,
               true,
               true,
               true,
               true,
               true,
               true,
               true,
               true,
               true,
               true,
               true,
               true,
               true,
               true,
               true,
               true,
               true,
               true,
               true,
               true,
               true,
               true,
               true,
               true,
               true,
               true,
               true,
               true,
               true,
               true,
               true,
               true,
               true,
               true,
               true,
               true,
               true,
               true,
               true,
               true,
               true,
               true,
               true,
               true,
               true,
               true,
               true,
               true,
               true,
               true,
               true,
               true,
               true,
               true,
               true,
               true,
               true,
               true,
               true,
               true,
               true,
               true,
               true,
               true,
               true,
               true,
               true,
               true,
               true,
               true,
               true,
               true,
               true,
               true,
               true,
               true,
               true,
               true,
               true,
               true,
               true,
               true,
               true,
               true,
               true,
               true,
               true,
               true,
               true,
               true,
               true,
               true,
               true,
               true
              ]
             },
             {
              "annotations": [
               {
                "align": "left",
                "bgcolor": "#D81B60",
                "bordercolor": "black",
                "borderwidth": 1,
                "font": {
                 "color": "white",
                 "size": 12
                },
                "showarrow": false,
                "text": "Mismatch > 30:<br><b>11</b>",
                "x": 1.05,
                "xref": "paper",
                "y": 1.05,
                "yref": "paper"
               }
              ],
              "title": "GNI vs Happiness Rankings",
              "xaxis": {
               "tickvals": [
                "GNI Rank",
                "Happiness Rank"
               ],
               "title": ""
              },
              "yaxis": {
               "autorange": "reversed",
               "title": "Rank (1 = Best)"
              }
             }
            ],
            "label": "GNI",
            "method": "update"
           }
          ],
          "x": 0.1,
          "xanchor": "left"
         }
        ],
        "template": {
         "data": {
          "bar": [
           {
            "error_x": {
             "color": "#2a3f5f"
            },
            "error_y": {
             "color": "#2a3f5f"
            },
            "marker": {
             "line": {
              "color": "#E5ECF6",
              "width": 0.5
             },
             "pattern": {
              "fillmode": "overlay",
              "size": 10,
              "solidity": 0.2
             }
            },
            "type": "bar"
           }
          ],
          "barpolar": [
           {
            "marker": {
             "line": {
              "color": "#E5ECF6",
              "width": 0.5
             },
             "pattern": {
              "fillmode": "overlay",
              "size": 10,
              "solidity": 0.2
             }
            },
            "type": "barpolar"
           }
          ],
          "carpet": [
           {
            "aaxis": {
             "endlinecolor": "#2a3f5f",
             "gridcolor": "white",
             "linecolor": "white",
             "minorgridcolor": "white",
             "startlinecolor": "#2a3f5f"
            },
            "baxis": {
             "endlinecolor": "#2a3f5f",
             "gridcolor": "white",
             "linecolor": "white",
             "minorgridcolor": "white",
             "startlinecolor": "#2a3f5f"
            },
            "type": "carpet"
           }
          ],
          "choropleth": [
           {
            "colorbar": {
             "outlinewidth": 0,
             "ticks": ""
            },
            "type": "choropleth"
           }
          ],
          "contour": [
           {
            "colorbar": {
             "outlinewidth": 0,
             "ticks": ""
            },
            "colorscale": [
             [
              0,
              "#0d0887"
             ],
             [
              0.1111111111111111,
              "#46039f"
             ],
             [
              0.2222222222222222,
              "#7201a8"
             ],
             [
              0.3333333333333333,
              "#9c179e"
             ],
             [
              0.4444444444444444,
              "#bd3786"
             ],
             [
              0.5555555555555556,
              "#d8576b"
             ],
             [
              0.6666666666666666,
              "#ed7953"
             ],
             [
              0.7777777777777778,
              "#fb9f3a"
             ],
             [
              0.8888888888888888,
              "#fdca26"
             ],
             [
              1,
              "#f0f921"
             ]
            ],
            "type": "contour"
           }
          ],
          "contourcarpet": [
           {
            "colorbar": {
             "outlinewidth": 0,
             "ticks": ""
            },
            "type": "contourcarpet"
           }
          ],
          "heatmap": [
           {
            "colorbar": {
             "outlinewidth": 0,
             "ticks": ""
            },
            "colorscale": [
             [
              0,
              "#0d0887"
             ],
             [
              0.1111111111111111,
              "#46039f"
             ],
             [
              0.2222222222222222,
              "#7201a8"
             ],
             [
              0.3333333333333333,
              "#9c179e"
             ],
             [
              0.4444444444444444,
              "#bd3786"
             ],
             [
              0.5555555555555556,
              "#d8576b"
             ],
             [
              0.6666666666666666,
              "#ed7953"
             ],
             [
              0.7777777777777778,
              "#fb9f3a"
             ],
             [
              0.8888888888888888,
              "#fdca26"
             ],
             [
              1,
              "#f0f921"
             ]
            ],
            "type": "heatmap"
           }
          ],
          "histogram": [
           {
            "marker": {
             "pattern": {
              "fillmode": "overlay",
              "size": 10,
              "solidity": 0.2
             }
            },
            "type": "histogram"
           }
          ],
          "histogram2d": [
           {
            "colorbar": {
             "outlinewidth": 0,
             "ticks": ""
            },
            "colorscale": [
             [
              0,
              "#0d0887"
             ],
             [
              0.1111111111111111,
              "#46039f"
             ],
             [
              0.2222222222222222,
              "#7201a8"
             ],
             [
              0.3333333333333333,
              "#9c179e"
             ],
             [
              0.4444444444444444,
              "#bd3786"
             ],
             [
              0.5555555555555556,
              "#d8576b"
             ],
             [
              0.6666666666666666,
              "#ed7953"
             ],
             [
              0.7777777777777778,
              "#fb9f3a"
             ],
             [
              0.8888888888888888,
              "#fdca26"
             ],
             [
              1,
              "#f0f921"
             ]
            ],
            "type": "histogram2d"
           }
          ],
          "histogram2dcontour": [
           {
            "colorbar": {
             "outlinewidth": 0,
             "ticks": ""
            },
            "colorscale": [
             [
              0,
              "#0d0887"
             ],
             [
              0.1111111111111111,
              "#46039f"
             ],
             [
              0.2222222222222222,
              "#7201a8"
             ],
             [
              0.3333333333333333,
              "#9c179e"
             ],
             [
              0.4444444444444444,
              "#bd3786"
             ],
             [
              0.5555555555555556,
              "#d8576b"
             ],
             [
              0.6666666666666666,
              "#ed7953"
             ],
             [
              0.7777777777777778,
              "#fb9f3a"
             ],
             [
              0.8888888888888888,
              "#fdca26"
             ],
             [
              1,
              "#f0f921"
             ]
            ],
            "type": "histogram2dcontour"
           }
          ],
          "mesh3d": [
           {
            "colorbar": {
             "outlinewidth": 0,
             "ticks": ""
            },
            "type": "mesh3d"
           }
          ],
          "parcoords": [
           {
            "line": {
             "colorbar": {
              "outlinewidth": 0,
              "ticks": ""
             }
            },
            "type": "parcoords"
           }
          ],
          "pie": [
           {
            "automargin": true,
            "type": "pie"
           }
          ],
          "scatter": [
           {
            "fillpattern": {
             "fillmode": "overlay",
             "size": 10,
             "solidity": 0.2
            },
            "type": "scatter"
           }
          ],
          "scatter3d": [
           {
            "line": {
             "colorbar": {
              "outlinewidth": 0,
              "ticks": ""
             }
            },
            "marker": {
             "colorbar": {
              "outlinewidth": 0,
              "ticks": ""
             }
            },
            "type": "scatter3d"
           }
          ],
          "scattercarpet": [
           {
            "marker": {
             "colorbar": {
              "outlinewidth": 0,
              "ticks": ""
             }
            },
            "type": "scattercarpet"
           }
          ],
          "scattergeo": [
           {
            "marker": {
             "colorbar": {
              "outlinewidth": 0,
              "ticks": ""
             }
            },
            "type": "scattergeo"
           }
          ],
          "scattergl": [
           {
            "marker": {
             "colorbar": {
              "outlinewidth": 0,
              "ticks": ""
             }
            },
            "type": "scattergl"
           }
          ],
          "scattermap": [
           {
            "marker": {
             "colorbar": {
              "outlinewidth": 0,
              "ticks": ""
             }
            },
            "type": "scattermap"
           }
          ],
          "scattermapbox": [
           {
            "marker": {
             "colorbar": {
              "outlinewidth": 0,
              "ticks": ""
             }
            },
            "type": "scattermapbox"
           }
          ],
          "scatterpolar": [
           {
            "marker": {
             "colorbar": {
              "outlinewidth": 0,
              "ticks": ""
             }
            },
            "type": "scatterpolar"
           }
          ],
          "scatterpolargl": [
           {
            "marker": {
             "colorbar": {
              "outlinewidth": 0,
              "ticks": ""
             }
            },
            "type": "scatterpolargl"
           }
          ],
          "scatterternary": [
           {
            "marker": {
             "colorbar": {
              "outlinewidth": 0,
              "ticks": ""
             }
            },
            "type": "scatterternary"
           }
          ],
          "surface": [
           {
            "colorbar": {
             "outlinewidth": 0,
             "ticks": ""
            },
            "colorscale": [
             [
              0,
              "#0d0887"
             ],
             [
              0.1111111111111111,
              "#46039f"
             ],
             [
              0.2222222222222222,
              "#7201a8"
             ],
             [
              0.3333333333333333,
              "#9c179e"
             ],
             [
              0.4444444444444444,
              "#bd3786"
             ],
             [
              0.5555555555555556,
              "#d8576b"
             ],
             [
              0.6666666666666666,
              "#ed7953"
             ],
             [
              0.7777777777777778,
              "#fb9f3a"
             ],
             [
              0.8888888888888888,
              "#fdca26"
             ],
             [
              1,
              "#f0f921"
             ]
            ],
            "type": "surface"
           }
          ],
          "table": [
           {
            "cells": {
             "fill": {
              "color": "#EBF0F8"
             },
             "line": {
              "color": "white"
             }
            },
            "header": {
             "fill": {
              "color": "#C8D4E3"
             },
             "line": {
              "color": "white"
             }
            },
            "type": "table"
           }
          ]
         },
         "layout": {
          "annotationdefaults": {
           "arrowcolor": "#2a3f5f",
           "arrowhead": 0,
           "arrowwidth": 1
          },
          "autotypenumbers": "strict",
          "coloraxis": {
           "colorbar": {
            "outlinewidth": 0,
            "ticks": ""
           }
          },
          "colorscale": {
           "diverging": [
            [
             0,
             "#8e0152"
            ],
            [
             0.1,
             "#c51b7d"
            ],
            [
             0.2,
             "#de77ae"
            ],
            [
             0.3,
             "#f1b6da"
            ],
            [
             0.4,
             "#fde0ef"
            ],
            [
             0.5,
             "#f7f7f7"
            ],
            [
             0.6,
             "#e6f5d0"
            ],
            [
             0.7,
             "#b8e186"
            ],
            [
             0.8,
             "#7fbc41"
            ],
            [
             0.9,
             "#4d9221"
            ],
            [
             1,
             "#276419"
            ]
           ],
           "sequential": [
            [
             0,
             "#0d0887"
            ],
            [
             0.1111111111111111,
             "#46039f"
            ],
            [
             0.2222222222222222,
             "#7201a8"
            ],
            [
             0.3333333333333333,
             "#9c179e"
            ],
            [
             0.4444444444444444,
             "#bd3786"
            ],
            [
             0.5555555555555556,
             "#d8576b"
            ],
            [
             0.6666666666666666,
             "#ed7953"
            ],
            [
             0.7777777777777778,
             "#fb9f3a"
            ],
            [
             0.8888888888888888,
             "#fdca26"
            ],
            [
             1,
             "#f0f921"
            ]
           ],
           "sequentialminus": [
            [
             0,
             "#0d0887"
            ],
            [
             0.1111111111111111,
             "#46039f"
            ],
            [
             0.2222222222222222,
             "#7201a8"
            ],
            [
             0.3333333333333333,
             "#9c179e"
            ],
            [
             0.4444444444444444,
             "#bd3786"
            ],
            [
             0.5555555555555556,
             "#d8576b"
            ],
            [
             0.6666666666666666,
             "#ed7953"
            ],
            [
             0.7777777777777778,
             "#fb9f3a"
            ],
            [
             0.8888888888888888,
             "#fdca26"
            ],
            [
             1,
             "#f0f921"
            ]
           ]
          },
          "colorway": [
           "#636efa",
           "#EF553B",
           "#00cc96",
           "#ab63fa",
           "#FFA15A",
           "#19d3f3",
           "#FF6692",
           "#B6E880",
           "#FF97FF",
           "#FECB52"
          ],
          "font": {
           "color": "#2a3f5f"
          },
          "geo": {
           "bgcolor": "white",
           "lakecolor": "white",
           "landcolor": "#E5ECF6",
           "showlakes": true,
           "showland": true,
           "subunitcolor": "white"
          },
          "hoverlabel": {
           "align": "left"
          },
          "hovermode": "closest",
          "mapbox": {
           "style": "light"
          },
          "paper_bgcolor": "white",
          "plot_bgcolor": "#E5ECF6",
          "polar": {
           "angularaxis": {
            "gridcolor": "white",
            "linecolor": "white",
            "ticks": ""
           },
           "bgcolor": "#E5ECF6",
           "radialaxis": {
            "gridcolor": "white",
            "linecolor": "white",
            "ticks": ""
           }
          },
          "scene": {
           "xaxis": {
            "backgroundcolor": "#E5ECF6",
            "gridcolor": "white",
            "gridwidth": 2,
            "linecolor": "white",
            "showbackground": true,
            "ticks": "",
            "zerolinecolor": "white"
           },
           "yaxis": {
            "backgroundcolor": "#E5ECF6",
            "gridcolor": "white",
            "gridwidth": 2,
            "linecolor": "white",
            "showbackground": true,
            "ticks": "",
            "zerolinecolor": "white"
           },
           "zaxis": {
            "backgroundcolor": "#E5ECF6",
            "gridcolor": "white",
            "gridwidth": 2,
            "linecolor": "white",
            "showbackground": true,
            "ticks": "",
            "zerolinecolor": "white"
           }
          },
          "shapedefaults": {
           "line": {
            "color": "#2a3f5f"
           }
          },
          "ternary": {
           "aaxis": {
            "gridcolor": "white",
            "linecolor": "white",
            "ticks": ""
           },
           "baxis": {
            "gridcolor": "white",
            "linecolor": "white",
            "ticks": ""
           },
           "bgcolor": "#E5ECF6",
           "caxis": {
            "gridcolor": "white",
            "linecolor": "white",
            "ticks": ""
           }
          },
          "title": {
           "x": 0.05
          },
          "xaxis": {
           "automargin": true,
           "gridcolor": "white",
           "linecolor": "white",
           "ticks": "",
           "title": {
            "standoff": 15
           },
           "zerolinecolor": "white",
           "zerolinewidth": 2
          },
          "yaxis": {
           "automargin": true,
           "gridcolor": "white",
           "linecolor": "white",
           "ticks": "",
           "title": {
            "standoff": 15
           },
           "zerolinecolor": "white",
           "zerolinewidth": 2
          }
         }
        },
        "title": {
         "text": "Gini Index vs Happiness Rankings"
        },
        "width": 750,
        "xaxis": {
         "tickvals": [
          "Gini Index Rank",
          "Happiness Rank"
         ],
         "title": {
          "text": ""
         }
        },
        "yaxis": {
         "autorange": "reversed"
        }
       }
      },
      "text/html": [
       "<div>            <script src=\"https://cdnjs.cloudflare.com/ajax/libs/mathjax/2.7.5/MathJax.js?config=TeX-AMS-MML_SVG\"></script><script type=\"text/javascript\">if (window.MathJax && window.MathJax.Hub && window.MathJax.Hub.Config) {window.MathJax.Hub.Config({SVG: {font: \"STIX-Web\"}});}</script>                <script type=\"text/javascript\">window.PlotlyConfig = {MathJaxConfig: 'local'};</script>\n",
       "        <script charset=\"utf-8\" src=\"https://cdn.plot.ly/plotly-3.0.1.min.js\"></script>                <div id=\"b649257e-ef93-4484-8328-1af000b15720\" class=\"plotly-graph-div\" style=\"height:800px; width:750px;\"></div>            <script type=\"text/javascript\">                window.PLOTLYENV=window.PLOTLYENV || {};                                if (document.getElementById(\"b649257e-ef93-4484-8328-1af000b15720\")) {                    Plotly.newPlot(                        \"b649257e-ef93-4484-8328-1af000b15720\",                        [{\"hoverinfo\":\"text\",\"hovertext\":\"Slovenia\\u003cbr\\u003eGini Index Rank: 1\\u003cbr\\u003eHappiness Rank: 28\\u003cbr\\u003eMismatch: 27\",\"line\":{\"color\":\"#D81B60\",\"width\":2},\"mode\":\"lines+markers\",\"name\":\"Slovenia\",\"x\":[\"Gini Index Rank\",\"Happiness Rank\"],\"y\":[1,28],\"type\":\"scatter\"},{\"hoverinfo\":\"text\",\"hovertext\":\"Belarus\\u003cbr\\u003eGini Index Rank: 2\\u003cbr\\u003eHappiness Rank: 50\\u003cbr\\u003eMismatch: 48\",\"line\":{\"color\":\"#D81B60\",\"width\":2},\"mode\":\"lines+markers\",\"name\":\"Belarus\",\"x\":[\"Gini Index Rank\",\"Happiness Rank\"],\"y\":[2,50],\"type\":\"scatter\"},{\"hoverinfo\":\"text\",\"hovertext\":\"Moldova\\u003cbr\\u003eGini Index Rank: 3\\u003cbr\\u003eHappiness Rank: 46\\u003cbr\\u003eMismatch: 43\",\"line\":{\"color\":\"#D81B60\",\"width\":2},\"mode\":\"lines+markers\",\"name\":\"Moldova\",\"x\":[\"Gini Index Rank\",\"Happiness Rank\"],\"y\":[3,46],\"type\":\"scatter\"},{\"hoverinfo\":\"text\",\"hovertext\":\"Ukraine\\u003cbr\\u003eGini Index Rank: 4\\u003cbr\\u003eHappiness Rank: 62\\u003cbr\\u003eMismatch: 58\",\"line\":{\"color\":\"#D81B60\",\"width\":2},\"mode\":\"lines+markers\",\"name\":\"Ukraine\",\"x\":[\"Gini Index Rank\",\"Happiness Rank\"],\"y\":[4,62],\"type\":\"scatter\"},{\"hoverinfo\":\"text\",\"hovertext\":\"Belgium\\u003cbr\\u003eGini Index Rank: 5\\u003cbr\\u003eHappiness Rank: 15\\u003cbr\\u003eMismatch: 10\",\"line\":{\"color\":\"#1E88E5\",\"width\":2},\"mode\":\"lines+markers\",\"name\":\"Belgium\",\"x\":[\"Gini Index Rank\",\"Happiness Rank\"],\"y\":[5,15],\"type\":\"scatter\"},{\"hoverinfo\":\"text\",\"hovertext\":\"Denmark\\u003cbr\\u003eGini Index Rank: 6\\u003cbr\\u003eHappiness Rank: 2\\u003cbr\\u003eMismatch: 4\",\"line\":{\"color\":\"#1E88E5\",\"width\":2},\"mode\":\"lines+markers\",\"name\":\"Denmark\",\"x\":[\"Gini Index Rank\",\"Happiness Rank\"],\"y\":[6,2],\"type\":\"scatter\"},{\"hoverinfo\":\"text\",\"hovertext\":\"Finland\\u003cbr\\u003eGini Index Rank: 7\\u003cbr\\u003eHappiness Rank: 1\\u003cbr\\u003eMismatch: 6\",\"line\":{\"color\":\"#1E88E5\",\"width\":2},\"mode\":\"lines+markers\",\"name\":\"Finland\",\"x\":[\"Gini Index Rank\",\"Happiness Rank\"],\"y\":[7,1],\"type\":\"scatter\"},{\"hoverinfo\":\"text\",\"hovertext\":\"Norway\\u003cbr\\u003eGini Index Rank: 8\\u003cbr\\u003eHappiness Rank: 3\\u003cbr\\u003eMismatch: 5\",\"line\":{\"color\":\"#1E88E5\",\"width\":2},\"mode\":\"lines+markers\",\"name\":\"Norway\",\"x\":[\"Gini Index Rank\",\"Happiness Rank\"],\"y\":[8,3],\"type\":\"scatter\"},{\"hoverinfo\":\"text\",\"hovertext\":\"Kazakhstan\\u003cbr\\u003eGini Index Rank: 9\\u003cbr\\u003eHappiness Rank: 39\\u003cbr\\u003eMismatch: 30\",\"line\":{\"color\":\"#D81B60\",\"width\":2},\"mode\":\"lines+markers\",\"name\":\"Kazakhstan\",\"x\":[\"Gini Index Rank\",\"Happiness Rank\"],\"y\":[9,39],\"type\":\"scatter\"},{\"hoverinfo\":\"text\",\"hovertext\":\"Poland\\u003cbr\\u003eGini Index Rank: 10\\u003cbr\\u003eHappiness Rank: 25\\u003cbr\\u003eMismatch: 15\",\"line\":{\"color\":\"#1E88E5\",\"width\":2},\"mode\":\"lines+markers\",\"name\":\"Poland\",\"x\":[\"Gini Index Rank\",\"Happiness Rank\"],\"y\":[10,25],\"type\":\"scatter\"},{\"hoverinfo\":\"text\",\"hovertext\":\"Croatia\\u003cbr\\u003eGini Index Rank: 11\\u003cbr\\u003eHappiness Rank: 48\\u003cbr\\u003eMismatch: 37\",\"line\":{\"color\":\"#D81B60\",\"width\":2},\"mode\":\"lines+markers\",\"name\":\"Croatia\",\"x\":[\"Gini Index Rank\",\"Happiness Rank\"],\"y\":[11,48],\"type\":\"scatter\"},{\"hoverinfo\":\"text\",\"hovertext\":\"Netherlands\\u003cbr\\u003eGini Index Rank: 12\\u003cbr\\u003eHappiness Rank: 4\\u003cbr\\u003eMismatch: 8\",\"line\":{\"color\":\"#1E88E5\",\"width\":2},\"mode\":\"lines+markers\",\"name\":\"Netherlands\",\"x\":[\"Gini Index Rank\",\"Happiness Rank\"],\"y\":[12,4],\"type\":\"scatter\"},{\"hoverinfo\":\"text\",\"hovertext\":\"Sweden\\u003cbr\\u003eGini Index Rank: 13\\u003cbr\\u003eHappiness Rank: 6\\u003cbr\\u003eMismatch: 7\",\"line\":{\"color\":\"#1E88E5\",\"width\":2},\"mode\":\"lines+markers\",\"name\":\"Sweden\",\"x\":[\"Gini Index Rank\",\"Happiness Rank\"],\"y\":[13,6],\"type\":\"scatter\"},{\"hoverinfo\":\"text\",\"hovertext\":\"Armenia\\u003cbr\\u003eGini Index Rank: 14\\u003cbr\\u003eHappiness Rank: 57\\u003cbr\\u003eMismatch: 43\",\"line\":{\"color\":\"#D81B60\",\"width\":2},\"mode\":\"lines+markers\",\"name\":\"Armenia\",\"x\":[\"Gini Index Rank\",\"Happiness Rank\"],\"y\":[14,57],\"type\":\"scatter\"},{\"hoverinfo\":\"text\",\"hovertext\":\"Hungary\\u003cbr\\u003eGini Index Rank: 15\\u003cbr\\u003eHappiness Rank: 41\\u003cbr\\u003eMismatch: 26\",\"line\":{\"color\":\"#D81B60\",\"width\":2},\"mode\":\"lines+markers\",\"name\":\"Hungary\",\"x\":[\"Gini Index Rank\",\"Happiness Rank\"],\"y\":[15,41],\"type\":\"scatter\"},{\"hoverinfo\":\"text\",\"hovertext\":\"Albania\\u003cbr\\u003eGini Index Rank: 16\\u003cbr\\u003eHappiness Rank: 56\\u003cbr\\u003eMismatch: 40\",\"line\":{\"color\":\"#D81B60\",\"width\":2},\"mode\":\"lines+markers\",\"name\":\"Albania\",\"x\":[\"Gini Index Rank\",\"Happiness Rank\"],\"y\":[16,56],\"type\":\"scatter\"},{\"hoverinfo\":\"text\",\"hovertext\":\"Austria\\u003cbr\\u003eGini Index Rank: 17\\u003cbr\\u003eHappiness Rank: 8\\u003cbr\\u003eMismatch: 9\",\"line\":{\"color\":\"#1E88E5\",\"width\":2},\"mode\":\"lines+markers\",\"name\":\"Austria\",\"x\":[\"Gini Index Rank\",\"Happiness Rank\"],\"y\":[17,8],\"type\":\"scatter\"},{\"hoverinfo\":\"text\",\"hovertext\":\"Ireland\\u003cbr\\u003eGini Index Rank: 18\\u003cbr\\u003eHappiness Rank: 13\\u003cbr\\u003eMismatch: 5\",\"line\":{\"color\":\"#1E88E5\",\"width\":2},\"mode\":\"lines+markers\",\"name\":\"Ireland\",\"x\":[\"Gini Index Rank\",\"Happiness Rank\"],\"y\":[18,13],\"type\":\"scatter\"},{\"hoverinfo\":\"text\",\"hovertext\":\"Estonia\\u003cbr\\u003eGini Index Rank: 19\\u003cbr\\u003eHappiness Rank: 36\\u003cbr\\u003eMismatch: 17\",\"line\":{\"color\":\"#D81B60\",\"width\":2},\"mode\":\"lines+markers\",\"name\":\"Estonia\",\"x\":[\"Gini Index Rank\",\"Happiness Rank\"],\"y\":[19,36],\"type\":\"scatter\"},{\"hoverinfo\":\"text\",\"hovertext\":\"Malta\\u003cbr\\u003eGini Index Rank: 20\\u003cbr\\u003eHappiness Rank: 17\\u003cbr\\u003eMismatch: 3\",\"line\":{\"color\":\"#1E88E5\",\"width\":2},\"mode\":\"lines+markers\",\"name\":\"Malta\",\"x\":[\"Gini Index Rank\",\"Happiness Rank\"],\"y\":[20,17],\"type\":\"scatter\"},{\"hoverinfo\":\"text\",\"hovertext\":\"Cyprus\\u003cbr\\u003eGini Index Rank: 21\\u003cbr\\u003eHappiness Rank: 32\\u003cbr\\u003eMismatch: 11\",\"line\":{\"color\":\"#1E88E5\",\"width\":2},\"mode\":\"lines+markers\",\"name\":\"Cyprus\",\"x\":[\"Gini Index Rank\",\"Happiness Rank\"],\"y\":[21,32],\"type\":\"scatter\"},{\"hoverinfo\":\"text\",\"hovertext\":\"France\\u003cbr\\u003eGini Index Rank: 22\\u003cbr\\u003eHappiness Rank: 18\\u003cbr\\u003eMismatch: 4\",\"line\":{\"color\":\"#1E88E5\",\"width\":2},\"mode\":\"lines+markers\",\"name\":\"France\",\"x\":[\"Gini Index Rank\",\"Happiness Rank\"],\"y\":[22,18],\"type\":\"scatter\"},{\"hoverinfo\":\"text\",\"hovertext\":\"Canada\\u003cbr\\u003eGini Index Rank: 23\\u003cbr\\u003eHappiness Rank: 7\\u003cbr\\u003eMismatch: 16\",\"line\":{\"color\":\"#D81B60\",\"width\":2},\"mode\":\"lines+markers\",\"name\":\"Canada\",\"x\":[\"Gini Index Rank\",\"Happiness Rank\"],\"y\":[23,7],\"type\":\"scatter\"},{\"hoverinfo\":\"text\",\"hovertext\":\"Germany\\u003cbr\\u003eGini Index Rank: 24\\u003cbr\\u003eHappiness Rank: 14\\u003cbr\\u003eMismatch: 10\",\"line\":{\"color\":\"#1E88E5\",\"width\":2},\"mode\":\"lines+markers\",\"name\":\"Germany\",\"x\":[\"Gini Index Rank\",\"Happiness Rank\"],\"y\":[24,14],\"type\":\"scatter\"},{\"hoverinfo\":\"text\",\"hovertext\":\"Mauritania\\u003cbr\\u003eGini Index Rank: 25\\u003cbr\\u003eHappiness Rank: 59\\u003cbr\\u003eMismatch: 34\",\"line\":{\"color\":\"#D81B60\",\"width\":2},\"mode\":\"lines+markers\",\"name\":\"Mauritania\",\"x\":[\"Gini Index Rank\",\"Happiness Rank\"],\"y\":[25,59],\"type\":\"scatter\"},{\"hoverinfo\":\"text\",\"hovertext\":\"Portugal\\u003cbr\\u003eGini Index Rank: 26\\u003cbr\\u003eHappiness Rank: 44\\u003cbr\\u003eMismatch: 18\",\"line\":{\"color\":\"#D81B60\",\"width\":2},\"mode\":\"lines+markers\",\"name\":\"Portugal\",\"x\":[\"Gini Index Rank\",\"Happiness Rank\"],\"y\":[26,44],\"type\":\"scatter\"},{\"hoverinfo\":\"text\",\"hovertext\":\"United Kingdom\\u003cbr\\u003eGini Index Rank: 27\\u003cbr\\u003eHappiness Rank: 12\\u003cbr\\u003eMismatch: 15\",\"line\":{\"color\":\"#1E88E5\",\"width\":2},\"mode\":\"lines+markers\",\"name\":\"United Kingdom\",\"x\":[\"Gini Index Rank\",\"Happiness Rank\"],\"y\":[27,12],\"type\":\"scatter\"},{\"hoverinfo\":\"text\",\"hovertext\":\"Japan\\u003cbr\\u003eGini Index Rank: 28\\u003cbr\\u003eHappiness Rank: 37\\u003cbr\\u003eMismatch: 9\",\"line\":{\"color\":\"#1E88E5\",\"width\":2},\"mode\":\"lines+markers\",\"name\":\"Japan\",\"x\":[\"Gini Index Rank\",\"Happiness Rank\"],\"y\":[28,37],\"type\":\"scatter\"},{\"hoverinfo\":\"text\",\"hovertext\":\"Greece\\u003cbr\\u003eGini Index Rank: 29\\u003cbr\\u003eHappiness Rank: 51\\u003cbr\\u003eMismatch: 22\",\"line\":{\"color\":\"#D81B60\",\"width\":2},\"mode\":\"lines+markers\",\"name\":\"Greece\",\"x\":[\"Gini Index Rank\",\"Happiness Rank\"],\"y\":[29,51],\"type\":\"scatter\"},{\"hoverinfo\":\"text\",\"hovertext\":\"North Macedonia\\u003cbr\\u003eGini Index Rank: 30\\u003cbr\\u003eHappiness Rank: 52\\u003cbr\\u003eMismatch: 22\",\"line\":{\"color\":\"#D81B60\",\"width\":2},\"mode\":\"lines+markers\",\"name\":\"North Macedonia\",\"x\":[\"Gini Index Rank\",\"Happiness Rank\"],\"y\":[30,52],\"type\":\"scatter\"},{\"hoverinfo\":\"text\",\"hovertext\":\"Switzerland\\u003cbr\\u003eGini Index Rank: 31\\u003cbr\\u003eHappiness Rank: 5\\u003cbr\\u003eMismatch: 26\",\"line\":{\"color\":\"#D81B60\",\"width\":2},\"mode\":\"lines+markers\",\"name\":\"Switzerland\",\"x\":[\"Gini Index Rank\",\"Happiness Rank\"],\"y\":[31,5],\"type\":\"scatter\"},{\"hoverinfo\":\"text\",\"hovertext\":\"Luxembourg\\u003cbr\\u003eGini Index Rank: 32\\u003cbr\\u003eHappiness Rank: 11\\u003cbr\\u003eMismatch: 21\",\"line\":{\"color\":\"#D81B60\",\"width\":2},\"mode\":\"lines+markers\",\"name\":\"Luxembourg\",\"x\":[\"Gini Index Rank\",\"Happiness Rank\"],\"y\":[32,11],\"type\":\"scatter\"},{\"hoverinfo\":\"text\",\"hovertext\":\"Spain\\u003cbr\\u003eGini Index Rank: 33\\u003cbr\\u003eHappiness Rank: 19\\u003cbr\\u003eMismatch: 14\",\"line\":{\"color\":\"#1E88E5\",\"width\":2},\"mode\":\"lines+markers\",\"name\":\"Spain\",\"x\":[\"Gini Index Rank\",\"Happiness Rank\"],\"y\":[33,19],\"type\":\"scatter\"},{\"hoverinfo\":\"text\",\"hovertext\":\"Latvia\\u003cbr\\u003eGini Index Rank: 34\\u003cbr\\u003eHappiness Rank: 35\\u003cbr\\u003eMismatch: 1\",\"line\":{\"color\":\"#1E88E5\",\"width\":2},\"mode\":\"lines+markers\",\"name\":\"Latvia\",\"x\":[\"Gini Index Rank\",\"Happiness Rank\"],\"y\":[34,35],\"type\":\"scatter\"},{\"hoverinfo\":\"text\",\"hovertext\":\"Serbia\\u003cbr\\u003eGini Index Rank: 35\\u003cbr\\u003eHappiness Rank: 45\\u003cbr\\u003eMismatch: 10\",\"line\":{\"color\":\"#1E88E5\",\"width\":2},\"mode\":\"lines+markers\",\"name\":\"Serbia\",\"x\":[\"Gini Index Rank\",\"Happiness Rank\"],\"y\":[35,45],\"type\":\"scatter\"},{\"hoverinfo\":\"text\",\"hovertext\":\"Italy\\u003cbr\\u003eGini Index Rank: 36\\u003cbr\\u003eHappiness Rank: 24\\u003cbr\\u003eMismatch: 12\",\"line\":{\"color\":\"#1E88E5\",\"width\":2},\"mode\":\"lines+markers\",\"name\":\"Italy\",\"x\":[\"Gini Index Rank\",\"Happiness Rank\"],\"y\":[36,24],\"type\":\"scatter\"},{\"hoverinfo\":\"text\",\"hovertext\":\"Romania\\u003cbr\\u003eGini Index Rank: 37\\u003cbr\\u003eHappiness Rank: 31\\u003cbr\\u003eMismatch: 6\",\"line\":{\"color\":\"#1E88E5\",\"width\":2},\"mode\":\"lines+markers\",\"name\":\"Romania\",\"x\":[\"Gini Index Rank\",\"Happiness Rank\"],\"y\":[37,31],\"type\":\"scatter\"},{\"hoverinfo\":\"text\",\"hovertext\":\"Thailand\\u003cbr\\u003eGini Index Rank: 38\\u003cbr\\u003eHappiness Rank: 34\\u003cbr\\u003eMismatch: 4\",\"line\":{\"color\":\"#1E88E5\",\"width\":2},\"mode\":\"lines+markers\",\"name\":\"Thailand\",\"x\":[\"Gini Index Rank\",\"Happiness Rank\"],\"y\":[38,34],\"type\":\"scatter\"},{\"hoverinfo\":\"text\",\"hovertext\":\"Lithuania\\u003cbr\\u003eGini Index Rank: 39\\u003cbr\\u003eHappiness Rank: 26\\u003cbr\\u003eMismatch: 13\",\"line\":{\"color\":\"#1E88E5\",\"width\":2},\"mode\":\"lines+markers\",\"name\":\"Lithuania\",\"x\":[\"Gini Index Rank\",\"Happiness Rank\"],\"y\":[39,26],\"type\":\"scatter\"},{\"hoverinfo\":\"text\",\"hovertext\":\"Indonesia\\u003cbr\\u003eGini Index Rank: 40\\u003cbr\\u003eHappiness Rank: 53\\u003cbr\\u003eMismatch: 13\",\"line\":{\"color\":\"#1E88E5\",\"width\":2},\"mode\":\"lines+markers\",\"name\":\"Indonesia\",\"x\":[\"Gini Index Rank\",\"Happiness Rank\"],\"y\":[40,53],\"type\":\"scatter\"},{\"hoverinfo\":\"text\",\"hovertext\":\"Montenegro\\u003cbr\\u003eGini Index Rank: 41\\u003cbr\\u003eHappiness Rank: 47\\u003cbr\\u003eMismatch: 6\",\"line\":{\"color\":\"#1E88E5\",\"width\":2},\"mode\":\"lines+markers\",\"name\":\"Montenegro\",\"x\":[\"Gini Index Rank\",\"Happiness Rank\"],\"y\":[41,47],\"type\":\"scatter\"},{\"hoverinfo\":\"text\",\"hovertext\":\"Georgia\\u003cbr\\u003eGini Index Rank: 42\\u003cbr\\u003eHappiness Rank: 58\\u003cbr\\u003eMismatch: 16\",\"line\":{\"color\":\"#D81B60\",\"width\":2},\"mode\":\"lines+markers\",\"name\":\"Georgia\",\"x\":[\"Gini Index Rank\",\"Happiness Rank\"],\"y\":[42,58],\"type\":\"scatter\"},{\"hoverinfo\":\"text\",\"hovertext\":\"Sri Lanka\\u003cbr\\u003eGini Index Rank: 43\\u003cbr\\u003eHappiness Rank: 61\\u003cbr\\u003eMismatch: 18\",\"line\":{\"color\":\"#D81B60\",\"width\":2},\"mode\":\"lines+markers\",\"name\":\"Sri Lanka\",\"x\":[\"Gini Index Rank\",\"Happiness Rank\"],\"y\":[43,61],\"type\":\"scatter\"},{\"hoverinfo\":\"text\",\"hovertext\":\"China\\u003cbr\\u003eGini Index Rank: 44\\u003cbr\\u003eHappiness Rank: 54\\u003cbr\\u003eMismatch: 10\",\"line\":{\"color\":\"#1E88E5\",\"width\":2},\"mode\":\"lines+markers\",\"name\":\"China\",\"x\":[\"Gini Index Rank\",\"Happiness Rank\"],\"y\":[44,54],\"type\":\"scatter\"},{\"hoverinfo\":\"text\",\"hovertext\":\"Israel\\u003cbr\\u003eGini Index Rank: 45\\u003cbr\\u003eHappiness Rank: 10\\u003cbr\\u003eMismatch: 35\",\"line\":{\"color\":\"#D81B60\",\"width\":2},\"mode\":\"lines+markers\",\"name\":\"Israel\",\"x\":[\"Gini Index Rank\",\"Happiness Rank\"],\"y\":[45,10],\"type\":\"scatter\"},{\"hoverinfo\":\"text\",\"hovertext\":\"Malawi\\u003cbr\\u003eGini Index Rank: 46\\u003cbr\\u003eHappiness Rank: 65\\u003cbr\\u003eMismatch: 19\",\"line\":{\"color\":\"#D81B60\",\"width\":2},\"mode\":\"lines+markers\",\"name\":\"Malawi\",\"x\":[\"Gini Index Rank\",\"Happiness Rank\"],\"y\":[46,65],\"type\":\"scatter\"},{\"hoverinfo\":\"text\",\"hovertext\":\"El Salvador\\u003cbr\\u003eGini Index Rank: 47\\u003cbr\\u003eHappiness Rank: 23\\u003cbr\\u003eMismatch: 24\",\"line\":{\"color\":\"#D81B60\",\"width\":2},\"mode\":\"lines+markers\",\"name\":\"El Salvador\",\"x\":[\"Gini Index Rank\",\"Happiness Rank\"],\"y\":[47,23],\"type\":\"scatter\"},{\"hoverinfo\":\"text\",\"hovertext\":\"Uruguay\\u003cbr\\u003eGini Index Rank: 48\\u003cbr\\u003eHappiness Rank: 22\\u003cbr\\u003eMismatch: 26\",\"line\":{\"color\":\"#D81B60\",\"width\":2},\"mode\":\"lines+markers\",\"name\":\"Uruguay\",\"x\":[\"Gini Index Rank\",\"Happiness Rank\"],\"y\":[48,22],\"type\":\"scatter\"},{\"hoverinfo\":\"text\",\"hovertext\":\"Kosovo\\u003cbr\\u003eGini Index Rank: 49\\u003cbr\\u003eHappiness Rank: 29\\u003cbr\\u003eMismatch: 20\",\"line\":{\"color\":\"#D81B60\",\"width\":2},\"mode\":\"lines+markers\",\"name\":\"Kosovo\",\"x\":[\"Gini Index Rank\",\"Happiness Rank\"],\"y\":[49,29],\"type\":\"scatter\"},{\"hoverinfo\":\"text\",\"hovertext\":\"Bulgaria\\u003cbr\\u003eGini Index Rank: 50\\u003cbr\\u003eHappiness Rank: 55\\u003cbr\\u003eMismatch: 5\",\"line\":{\"color\":\"#1E88E5\",\"width\":2},\"mode\":\"lines+markers\",\"name\":\"Bulgaria\",\"x\":[\"Gini Index Rank\",\"Happiness Rank\"],\"y\":[50,55],\"type\":\"scatter\"},{\"hoverinfo\":\"text\",\"hovertext\":\"Peru\\u003cbr\\u003eGini Index Rank: 51\\u003cbr\\u003eHappiness Rank: 43\\u003cbr\\u003eMismatch: 8\",\"line\":{\"color\":\"#1E88E5\",\"width\":2},\"mode\":\"lines+markers\",\"name\":\"Peru\",\"x\":[\"Gini Index Rank\",\"Happiness Rank\"],\"y\":[51,43],\"type\":\"scatter\"},{\"hoverinfo\":\"text\",\"hovertext\":\"Bolivia\\u003cbr\\u003eGini Index Rank: 52\\u003cbr\\u003eHappiness Rank: 40\\u003cbr\\u003eMismatch: 12\",\"line\":{\"color\":\"#1E88E5\",\"width\":2},\"mode\":\"lines+markers\",\"name\":\"Bolivia\",\"x\":[\"Gini Index Rank\",\"Happiness Rank\"],\"y\":[52,40],\"type\":\"scatter\"},{\"hoverinfo\":\"text\",\"hovertext\":\"Dominican Republic\\u003cbr\\u003eGini Index Rank: 53\\u003cbr\\u003eHappiness Rank: 49\\u003cbr\\u003eMismatch: 4\",\"line\":{\"color\":\"#1E88E5\",\"width\":2},\"mode\":\"lines+markers\",\"name\":\"Dominican Republic\",\"x\":[\"Gini Index Rank\",\"Happiness Rank\"],\"y\":[53,49],\"type\":\"scatter\"},{\"hoverinfo\":\"text\",\"hovertext\":\"United States\\u003cbr\\u003eGini Index Rank: 54\\u003cbr\\u003eHappiness Rank: 16\\u003cbr\\u003eMismatch: 38\",\"line\":{\"color\":\"#D81B60\",\"width\":2},\"mode\":\"lines+markers\",\"name\":\"United States\",\"x\":[\"Gini Index Rank\",\"Happiness Rank\"],\"y\":[54,16],\"type\":\"scatter\"},{\"hoverinfo\":\"text\",\"hovertext\":\"Uganda\\u003cbr\\u003eGini Index Rank: 55\\u003cbr\\u003eHappiness Rank: 63\\u003cbr\\u003eMismatch: 8\",\"line\":{\"color\":\"#1E88E5\",\"width\":2},\"mode\":\"lines+markers\",\"name\":\"Uganda\",\"x\":[\"Gini Index Rank\",\"Happiness Rank\"],\"y\":[55,63],\"type\":\"scatter\"},{\"hoverinfo\":\"text\",\"hovertext\":\"Argentina\\u003cbr\\u003eGini Index Rank: 56\\u003cbr\\u003eHappiness Rank: 30\\u003cbr\\u003eMismatch: 26\",\"line\":{\"color\":\"#D81B60\",\"width\":2},\"mode\":\"lines+markers\",\"name\":\"Argentina\",\"x\":[\"Gini Index Rank\",\"Happiness Rank\"],\"y\":[56,30],\"type\":\"scatter\"},{\"hoverinfo\":\"text\",\"hovertext\":\"Ecuador\\u003cbr\\u003eGini Index Rank: 57\\u003cbr\\u003eHappiness Rank: 33\\u003cbr\\u003eMismatch: 24\",\"line\":{\"color\":\"#D81B60\",\"width\":2},\"mode\":\"lines+markers\",\"name\":\"Ecuador\",\"x\":[\"Gini Index Rank\",\"Happiness Rank\"],\"y\":[57,33],\"type\":\"scatter\"},{\"hoverinfo\":\"text\",\"hovertext\":\"Paraguay\\u003cbr\\u003eGini Index Rank: 58\\u003cbr\\u003eHappiness Rank: 42\\u003cbr\\u003eMismatch: 16\",\"line\":{\"color\":\"#D81B60\",\"width\":2},\"mode\":\"lines+markers\",\"name\":\"Paraguay\",\"x\":[\"Gini Index Rank\",\"Happiness Rank\"],\"y\":[58,42],\"type\":\"scatter\"},{\"hoverinfo\":\"text\",\"hovertext\":\"Costa Rica\\u003cbr\\u003eGini Index Rank: 59\\u003cbr\\u003eHappiness Rank: 9\\u003cbr\\u003eMismatch: 50\",\"line\":{\"color\":\"#D81B60\",\"width\":2},\"mode\":\"lines+markers\",\"name\":\"Costa Rica\",\"x\":[\"Gini Index Rank\",\"Happiness Rank\"],\"y\":[59,9],\"type\":\"scatter\"},{\"hoverinfo\":\"text\",\"hovertext\":\"Honduras\\u003cbr\\u003eGini Index Rank: 60\\u003cbr\\u003eHappiness Rank: 38\\u003cbr\\u003eMismatch: 22\",\"line\":{\"color\":\"#D81B60\",\"width\":2},\"mode\":\"lines+markers\",\"name\":\"Honduras\",\"x\":[\"Gini Index Rank\",\"Happiness Rank\"],\"y\":[60,38],\"type\":\"scatter\"},{\"hoverinfo\":\"text\",\"hovertext\":\"Panama\\u003cbr\\u003eGini Index Rank: 61\\u003cbr\\u003eHappiness Rank: 20\\u003cbr\\u003eMismatch: 41\",\"line\":{\"color\":\"#D81B60\",\"width\":2},\"mode\":\"lines+markers\",\"name\":\"Panama\",\"x\":[\"Gini Index Rank\",\"Happiness Rank\"],\"y\":[61,20],\"type\":\"scatter\"},{\"hoverinfo\":\"text\",\"hovertext\":\"Mozambique\\u003cbr\\u003eGini Index Rank: 62\\u003cbr\\u003eHappiness Rank: 60\\u003cbr\\u003eMismatch: 2\",\"line\":{\"color\":\"#1E88E5\",\"width\":2},\"mode\":\"lines+markers\",\"name\":\"Mozambique\",\"x\":[\"Gini Index Rank\",\"Happiness Rank\"],\"y\":[62,60],\"type\":\"scatter\"},{\"hoverinfo\":\"text\",\"hovertext\":\"Zimbabwe\\u003cbr\\u003eGini Index Rank: 63\\u003cbr\\u003eHappiness Rank: 64\\u003cbr\\u003eMismatch: 1\",\"line\":{\"color\":\"#1E88E5\",\"width\":2},\"mode\":\"lines+markers\",\"name\":\"Zimbabwe\",\"x\":[\"Gini Index Rank\",\"Happiness Rank\"],\"y\":[63,64],\"type\":\"scatter\"},{\"hoverinfo\":\"text\",\"hovertext\":\"Colombia\\u003cbr\\u003eGini Index Rank: 64\\u003cbr\\u003eHappiness Rank: 27\\u003cbr\\u003eMismatch: 37\",\"line\":{\"color\":\"#D81B60\",\"width\":2},\"mode\":\"lines+markers\",\"name\":\"Colombia\",\"x\":[\"Gini Index Rank\",\"Happiness Rank\"],\"y\":[64,27],\"type\":\"scatter\"},{\"hoverinfo\":\"text\",\"hovertext\":\"Brazil\\u003cbr\\u003eGini Index Rank: 65\\u003cbr\\u003eHappiness Rank: 21\\u003cbr\\u003eMismatch: 44\",\"line\":{\"color\":\"#D81B60\",\"width\":2},\"mode\":\"lines+markers\",\"name\":\"Brazil\",\"x\":[\"Gini Index Rank\",\"Happiness Rank\"],\"y\":[65,21],\"type\":\"scatter\"},{\"hoverinfo\":\"text\",\"hovertext\":\"Luxembourg\\u003cbr\\u003eGDP Rank: 1\\u003cbr\\u003eHappiness Rank: 14\\u003cbr\\u003eMismatch: 13\",\"line\":{\"color\":\"#1E88E5\",\"width\":2},\"mode\":\"lines+markers\",\"name\":\"Luxembourg\",\"visible\":false,\"x\":[\"GDP Rank\",\"Happiness Rank\"],\"y\":[1,14],\"type\":\"scatter\"},{\"hoverinfo\":\"text\",\"hovertext\":\"Switzerland\\u003cbr\\u003eGDP Rank: 2\\u003cbr\\u003eHappiness Rank: 6\\u003cbr\\u003eMismatch: 4\",\"line\":{\"color\":\"#1E88E5\",\"width\":2},\"mode\":\"lines+markers\",\"name\":\"Switzerland\",\"visible\":false,\"x\":[\"GDP Rank\",\"Happiness Rank\"],\"y\":[2,6],\"type\":\"scatter\"},{\"hoverinfo\":\"text\",\"hovertext\":\"Ireland\\u003cbr\\u003eGDP Rank: 3\\u003cbr\\u003eHappiness Rank: 16\\u003cbr\\u003eMismatch: 13\",\"line\":{\"color\":\"#1E88E5\",\"width\":2},\"mode\":\"lines+markers\",\"name\":\"Ireland\",\"visible\":false,\"x\":[\"GDP Rank\",\"Happiness Rank\"],\"y\":[3,16],\"type\":\"scatter\"},{\"hoverinfo\":\"text\",\"hovertext\":\"Norway\\u003cbr\\u003eGDP Rank: 4\\u003cbr\\u003eHappiness Rank: 3\\u003cbr\\u003eMismatch: 1\",\"line\":{\"color\":\"#1E88E5\",\"width\":2},\"mode\":\"lines+markers\",\"name\":\"Norway\",\"visible\":false,\"x\":[\"GDP Rank\",\"Happiness Rank\"],\"y\":[4,3],\"type\":\"scatter\"},{\"hoverinfo\":\"text\",\"hovertext\":\"Qatar\\u003cbr\\u003eGDP Rank: 5\\u003cbr\\u003eHappiness Rank: 27\\u003cbr\\u003eMismatch: 22\",\"line\":{\"color\":\"#1E88E5\",\"width\":2},\"mode\":\"lines+markers\",\"name\":\"Qatar\",\"visible\":false,\"x\":[\"GDP Rank\",\"Happiness Rank\"],\"y\":[5,27],\"type\":\"scatter\"},{\"hoverinfo\":\"text\",\"hovertext\":\"United States\\u003cbr\\u003eGDP Rank: 6\\u003cbr\\u003eHappiness Rank: 19\\u003cbr\\u003eMismatch: 13\",\"line\":{\"color\":\"#1E88E5\",\"width\":2},\"mode\":\"lines+markers\",\"name\":\"United States\",\"visible\":false,\"x\":[\"GDP Rank\",\"Happiness Rank\"],\"y\":[6,19],\"type\":\"scatter\"},{\"hoverinfo\":\"text\",\"hovertext\":\"Singapore\\u003cbr\\u003eGDP Rank: 7\\u003cbr\\u003eHappiness Rank: 32\\u003cbr\\u003eMismatch: 25\",\"line\":{\"color\":\"#1E88E5\",\"width\":2},\"mode\":\"lines+markers\",\"name\":\"Singapore\",\"visible\":false,\"x\":[\"GDP Rank\",\"Happiness Rank\"],\"y\":[7,32],\"type\":\"scatter\"},{\"hoverinfo\":\"text\",\"hovertext\":\"Australia\\u003cbr\\u003eGDP Rank: 8\\u003cbr\\u003eHappiness Rank: 11\\u003cbr\\u003eMismatch: 3\",\"line\":{\"color\":\"#1E88E5\",\"width\":2},\"mode\":\"lines+markers\",\"name\":\"Australia\",\"visible\":false,\"x\":[\"GDP Rank\",\"Happiness Rank\"],\"y\":[8,11],\"type\":\"scatter\"},{\"hoverinfo\":\"text\",\"hovertext\":\"Iceland\\u003cbr\\u003eGDP Rank: 9\\u003cbr\\u003eHappiness Rank: 4\\u003cbr\\u003eMismatch: 5\",\"line\":{\"color\":\"#1E88E5\",\"width\":2},\"mode\":\"lines+markers\",\"name\":\"Iceland\",\"visible\":false,\"x\":[\"GDP Rank\",\"Happiness Rank\"],\"y\":[9,4],\"type\":\"scatter\"},{\"hoverinfo\":\"text\",\"hovertext\":\"Denmark\\u003cbr\\u003eGDP Rank: 10\\u003cbr\\u003eHappiness Rank: 2\\u003cbr\\u003eMismatch: 8\",\"line\":{\"color\":\"#1E88E5\",\"width\":2},\"mode\":\"lines+markers\",\"name\":\"Denmark\",\"visible\":false,\"x\":[\"GDP Rank\",\"Happiness Rank\"],\"y\":[10,2],\"type\":\"scatter\"},{\"hoverinfo\":\"text\",\"hovertext\":\"Sweden\\u003cbr\\u003eGDP Rank: 11\\u003cbr\\u003eHappiness Rank: 7\\u003cbr\\u003eMismatch: 4\",\"line\":{\"color\":\"#1E88E5\",\"width\":2},\"mode\":\"lines+markers\",\"name\":\"Sweden\",\"visible\":false,\"x\":[\"GDP Rank\",\"Happiness Rank\"],\"y\":[11,7],\"type\":\"scatter\"},{\"hoverinfo\":\"text\",\"hovertext\":\"Netherlands\\u003cbr\\u003eGDP Rank: 12\\u003cbr\\u003eHappiness Rank: 5\\u003cbr\\u003eMismatch: 7\",\"line\":{\"color\":\"#1E88E5\",\"width\":2},\"mode\":\"lines+markers\",\"name\":\"Netherlands\",\"visible\":false,\"x\":[\"GDP Rank\",\"Happiness Rank\"],\"y\":[12,5],\"type\":\"scatter\"},{\"hoverinfo\":\"text\",\"hovertext\":\"United Kingdom\\u003cbr\\u003eGDP Rank: 13\\u003cbr\\u003eHappiness Rank: 15\\u003cbr\\u003eMismatch: 2\",\"line\":{\"color\":\"#1E88E5\",\"width\":2},\"mode\":\"lines+markers\",\"name\":\"United Kingdom\",\"visible\":false,\"x\":[\"GDP Rank\",\"Happiness Rank\"],\"y\":[13,15],\"type\":\"scatter\"},{\"hoverinfo\":\"text\",\"hovertext\":\"Austria\\u003cbr\\u003eGDP Rank: 14\\u003cbr\\u003eHappiness Rank: 10\\u003cbr\\u003eMismatch: 4\",\"line\":{\"color\":\"#1E88E5\",\"width\":2},\"mode\":\"lines+markers\",\"name\":\"Austria\",\"visible\":false,\"x\":[\"GDP Rank\",\"Happiness Rank\"],\"y\":[14,10],\"type\":\"scatter\"},{\"hoverinfo\":\"text\",\"hovertext\":\"Finland\\u003cbr\\u003eGDP Rank: 15\\u003cbr\\u003eHappiness Rank: 1\\u003cbr\\u003eMismatch: 14\",\"line\":{\"color\":\"#1E88E5\",\"width\":2},\"mode\":\"lines+markers\",\"name\":\"Finland\",\"visible\":false,\"x\":[\"GDP Rank\",\"Happiness Rank\"],\"y\":[15,1],\"type\":\"scatter\"},{\"hoverinfo\":\"text\",\"hovertext\":\"Canada\\u003cbr\\u003eGDP Rank: 16\\u003cbr\\u003eHappiness Rank: 9\\u003cbr\\u003eMismatch: 7\",\"line\":{\"color\":\"#1E88E5\",\"width\":2},\"mode\":\"lines+markers\",\"name\":\"Canada\",\"visible\":false,\"x\":[\"GDP Rank\",\"Happiness Rank\"],\"y\":[16,9],\"type\":\"scatter\"},{\"hoverinfo\":\"text\",\"hovertext\":\"Germany\\u003cbr\\u003eGDP Rank: 17\\u003cbr\\u003eHappiness Rank: 17\\u003cbr\\u003eMismatch: 0\",\"line\":{\"color\":\"#1E88E5\",\"width\":2},\"mode\":\"lines+markers\",\"name\":\"Germany\",\"visible\":false,\"x\":[\"GDP Rank\",\"Happiness Rank\"],\"y\":[17,17],\"type\":\"scatter\"},{\"hoverinfo\":\"text\",\"hovertext\":\"Belgium\\u003cbr\\u003eGDP Rank: 18\\u003cbr\\u003eHappiness Rank: 18\\u003cbr\\u003eMismatch: 0\",\"line\":{\"color\":\"#1E88E5\",\"width\":2},\"mode\":\"lines+markers\",\"name\":\"Belgium\",\"visible\":false,\"x\":[\"GDP Rank\",\"Happiness Rank\"],\"y\":[18,18],\"type\":\"scatter\"},{\"hoverinfo\":\"text\",\"hovertext\":\"United Arab Emirates\\u003cbr\\u003eGDP Rank: 19\\u003cbr\\u003eHappiness Rank: 20\\u003cbr\\u003eMismatch: 1\",\"line\":{\"color\":\"#1E88E5\",\"width\":2},\"mode\":\"lines+markers\",\"name\":\"United Arab Emirates\",\"visible\":false,\"x\":[\"GDP Rank\",\"Happiness Rank\"],\"y\":[19,20],\"type\":\"scatter\"},{\"hoverinfo\":\"text\",\"hovertext\":\"New Zealand\\u003cbr\\u003eGDP Rank: 20\\u003cbr\\u003eHappiness Rank: 8\\u003cbr\\u003eMismatch: 12\",\"line\":{\"color\":\"#1E88E5\",\"width\":2},\"mode\":\"lines+markers\",\"name\":\"New Zealand\",\"visible\":false,\"x\":[\"GDP Rank\",\"Happiness Rank\"],\"y\":[20,8],\"type\":\"scatter\"},{\"hoverinfo\":\"text\",\"hovertext\":\"Israel\\u003cbr\\u003eGDP Rank: 21\\u003cbr\\u003eHappiness Rank: 13\\u003cbr\\u003eMismatch: 8\",\"line\":{\"color\":\"#1E88E5\",\"width\":2},\"mode\":\"lines+markers\",\"name\":\"Israel\",\"visible\":false,\"x\":[\"GDP Rank\",\"Happiness Rank\"],\"y\":[21,13],\"type\":\"scatter\"},{\"hoverinfo\":\"text\",\"hovertext\":\"France\\u003cbr\\u003eGDP Rank: 22\\u003cbr\\u003eHappiness Rank: 23\\u003cbr\\u003eMismatch: 1\",\"line\":{\"color\":\"#1E88E5\",\"width\":2},\"mode\":\"lines+markers\",\"name\":\"France\",\"visible\":false,\"x\":[\"GDP Rank\",\"Happiness Rank\"],\"y\":[22,23],\"type\":\"scatter\"},{\"hoverinfo\":\"text\",\"hovertext\":\"Japan\\u003cbr\\u003eGDP Rank: 23\\u003cbr\\u003eHappiness Rank: 53\\u003cbr\\u003eMismatch: 30\",\"line\":{\"color\":\"#1E88E5\",\"width\":2},\"mode\":\"lines+markers\",\"name\":\"Japan\",\"visible\":false,\"x\":[\"GDP Rank\",\"Happiness Rank\"],\"y\":[23,53],\"type\":\"scatter\"},{\"hoverinfo\":\"text\",\"hovertext\":\"Italy\\u003cbr\\u003eGDP Rank: 24\\u003cbr\\u003eHappiness Rank: 34\\u003cbr\\u003eMismatch: 10\",\"line\":{\"color\":\"#1E88E5\",\"width\":2},\"mode\":\"lines+markers\",\"name\":\"Italy\",\"visible\":false,\"x\":[\"GDP Rank\",\"Happiness Rank\"],\"y\":[24,34],\"type\":\"scatter\"},{\"hoverinfo\":\"text\",\"hovertext\":\"Malta\\u003cbr\\u003eGDP Rank: 25\\u003cbr\\u003eHappiness Rank: 21\\u003cbr\\u003eMismatch: 4\",\"line\":{\"color\":\"#1E88E5\",\"width\":2},\"mode\":\"lines+markers\",\"name\":\"Malta\",\"visible\":false,\"x\":[\"GDP Rank\",\"Happiness Rank\"],\"y\":[25,21],\"type\":\"scatter\"},{\"hoverinfo\":\"text\",\"hovertext\":\"Cyprus\\u003cbr\\u003eGDP Rank: 26\\u003cbr\\u003eHappiness Rank: 45\\u003cbr\\u003eMismatch: 19\",\"line\":{\"color\":\"#1E88E5\",\"width\":2},\"mode\":\"lines+markers\",\"name\":\"Cyprus\",\"visible\":false,\"x\":[\"GDP Rank\",\"Happiness Rank\"],\"y\":[26,45],\"type\":\"scatter\"},{\"hoverinfo\":\"text\",\"hovertext\":\"Spain\\u003cbr\\u003eGDP Rank: 27\\u003cbr\\u003eHappiness Rank: 28\\u003cbr\\u003eMismatch: 1\",\"line\":{\"color\":\"#1E88E5\",\"width\":2},\"mode\":\"lines+markers\",\"name\":\"Spain\",\"visible\":false,\"x\":[\"GDP Rank\",\"Happiness Rank\"],\"y\":[27,28],\"type\":\"scatter\"},{\"hoverinfo\":\"text\",\"hovertext\":\"Kuwait\\u003cbr\\u003eGDP Rank: 28\\u003cbr\\u003eHappiness Rank: 47\\u003cbr\\u003eMismatch: 19\",\"line\":{\"color\":\"#1E88E5\",\"width\":2},\"mode\":\"lines+markers\",\"name\":\"Kuwait\",\"visible\":false,\"x\":[\"GDP Rank\",\"Happiness Rank\"],\"y\":[28,47],\"type\":\"scatter\"},{\"hoverinfo\":\"text\",\"hovertext\":\"Bahrain\\u003cbr\\u003eGDP Rank: 29\\u003cbr\\u003eHappiness Rank: 35\\u003cbr\\u003eMismatch: 6\",\"line\":{\"color\":\"#1E88E5\",\"width\":2},\"mode\":\"lines+markers\",\"name\":\"Bahrain\",\"visible\":false,\"x\":[\"GDP Rank\",\"Happiness Rank\"],\"y\":[29,35],\"type\":\"scatter\"},{\"hoverinfo\":\"text\",\"hovertext\":\"Slovenia\\u003cbr\\u003eGDP Rank: 30\\u003cbr\\u003eHappiness Rank: 40\\u003cbr\\u003eMismatch: 10\",\"line\":{\"color\":\"#1E88E5\",\"width\":2},\"mode\":\"lines+markers\",\"name\":\"Slovenia\",\"visible\":false,\"x\":[\"GDP Rank\",\"Happiness Rank\"],\"y\":[30,40],\"type\":\"scatter\"},{\"hoverinfo\":\"text\",\"hovertext\":\"Saudi Arabia\\u003cbr\\u003eGDP Rank: 31\\u003cbr\\u003eHappiness Rank: 26\\u003cbr\\u003eMismatch: 5\",\"line\":{\"color\":\"#1E88E5\",\"width\":2},\"mode\":\"lines+markers\",\"name\":\"Saudi Arabia\",\"visible\":false,\"x\":[\"GDP Rank\",\"Happiness Rank\"],\"y\":[31,26],\"type\":\"scatter\"},{\"hoverinfo\":\"text\",\"hovertext\":\"Portugal\\u003cbr\\u003eGDP Rank: 32\\u003cbr\\u003eHappiness Rank: 60\\u003cbr\\u003eMismatch: 28\",\"line\":{\"color\":\"#1E88E5\",\"width\":2},\"mode\":\"lines+markers\",\"name\":\"Portugal\",\"visible\":false,\"x\":[\"GDP Rank\",\"Happiness Rank\"],\"y\":[32,60],\"type\":\"scatter\"},{\"hoverinfo\":\"text\",\"hovertext\":\"Estonia\\u003cbr\\u003eGDP Rank: 33\\u003cbr\\u003eHappiness Rank: 50\\u003cbr\\u003eMismatch: 17\",\"line\":{\"color\":\"#1E88E5\",\"width\":2},\"mode\":\"lines+markers\",\"name\":\"Estonia\",\"visible\":false,\"x\":[\"GDP Rank\",\"Happiness Rank\"],\"y\":[33,50],\"type\":\"scatter\"},{\"hoverinfo\":\"text\",\"hovertext\":\"Greece\\u003cbr\\u003eGDP Rank: 34\\u003cbr\\u003eHappiness Rank: 73\\u003cbr\\u003eMismatch: 39\",\"line\":{\"color\":\"#D81B60\",\"width\":2},\"mode\":\"lines+markers\",\"name\":\"Greece\",\"visible\":false,\"x\":[\"GDP Rank\",\"Happiness Rank\"],\"y\":[34,73],\"type\":\"scatter\"},{\"hoverinfo\":\"text\",\"hovertext\":\"Uruguay\\u003cbr\\u003eGDP Rank: 35\\u003cbr\\u003eHappiness Rank: 31\\u003cbr\\u003eMismatch: 4\",\"line\":{\"color\":\"#1E88E5\",\"width\":2},\"mode\":\"lines+markers\",\"name\":\"Uruguay\",\"visible\":false,\"x\":[\"GDP Rank\",\"Happiness Rank\"],\"y\":[35,31],\"type\":\"scatter\"},{\"hoverinfo\":\"text\",\"hovertext\":\"Lithuania\\u003cbr\\u003eGDP Rank: 36\\u003cbr\\u003eHappiness Rank: 38\\u003cbr\\u003eMismatch: 2\",\"line\":{\"color\":\"#1E88E5\",\"width\":2},\"mode\":\"lines+markers\",\"name\":\"Lithuania\",\"visible\":false,\"x\":[\"GDP Rank\",\"Happiness Rank\"],\"y\":[36,38],\"type\":\"scatter\"},{\"hoverinfo\":\"text\",\"hovertext\":\"Panama\\u003cbr\\u003eGDP Rank: 37\\u003cbr\\u003eHappiness Rank: 29\\u003cbr\\u003eMismatch: 8\",\"line\":{\"color\":\"#1E88E5\",\"width\":2},\"mode\":\"lines+markers\",\"name\":\"Panama\",\"visible\":false,\"x\":[\"GDP Rank\",\"Happiness Rank\"],\"y\":[37,29],\"type\":\"scatter\"},{\"hoverinfo\":\"text\",\"hovertext\":\"Latvia\\u003cbr\\u003eGDP Rank: 38\\u003cbr\\u003eHappiness Rank: 49\\u003cbr\\u003eMismatch: 11\",\"line\":{\"color\":\"#1E88E5\",\"width\":2},\"mode\":\"lines+markers\",\"name\":\"Latvia\",\"visible\":false,\"x\":[\"GDP Rank\",\"Happiness Rank\"],\"y\":[38,49],\"type\":\"scatter\"},{\"hoverinfo\":\"text\",\"hovertext\":\"Poland\\u003cbr\\u003eGDP Rank: 39\\u003cbr\\u003eHappiness Rank: 36\\u003cbr\\u003eMismatch: 3\",\"line\":{\"color\":\"#1E88E5\",\"width\":2},\"mode\":\"lines+markers\",\"name\":\"Poland\",\"visible\":false,\"x\":[\"GDP Rank\",\"Happiness Rank\"],\"y\":[39,36],\"type\":\"scatter\"},{\"hoverinfo\":\"text\",\"hovertext\":\"Hungary\\u003cbr\\u003eGDP Rank: 40\\u003cbr\\u003eHappiness Rank: 57\\u003cbr\\u003eMismatch: 17\",\"line\":{\"color\":\"#1E88E5\",\"width\":2},\"mode\":\"lines+markers\",\"name\":\"Hungary\",\"visible\":false,\"x\":[\"GDP Rank\",\"Happiness Rank\"],\"y\":[40,57],\"type\":\"scatter\"},{\"hoverinfo\":\"text\",\"hovertext\":\"Croatia\\u003cbr\\u003eGDP Rank: 41\\u003cbr\\u003eHappiness Rank: 68\\u003cbr\\u003eMismatch: 27\",\"line\":{\"color\":\"#1E88E5\",\"width\":2},\"mode\":\"lines+markers\",\"name\":\"Croatia\",\"visible\":false,\"x\":[\"GDP Rank\",\"Happiness Rank\"],\"y\":[41,68],\"type\":\"scatter\"},{\"hoverinfo\":\"text\",\"hovertext\":\"Chile\\u003cbr\\u003eGDP Rank: 42\\u003cbr\\u003eHappiness Rank: 24\\u003cbr\\u003eMismatch: 18\",\"line\":{\"color\":\"#1E88E5\",\"width\":2},\"mode\":\"lines+markers\",\"name\":\"Chile\",\"visible\":false,\"x\":[\"GDP Rank\",\"Happiness Rank\"],\"y\":[42,24],\"type\":\"scatter\"},{\"hoverinfo\":\"text\",\"hovertext\":\"Costa Rica\\u003cbr\\u003eGDP Rank: 43\\u003cbr\\u003eHappiness Rank: 12\\u003cbr\\u003eMismatch: 31\",\"line\":{\"color\":\"#D81B60\",\"width\":2},\"mode\":\"lines+markers\",\"name\":\"Costa Rica\",\"visible\":false,\"x\":[\"GDP Rank\",\"Happiness Rank\"],\"y\":[43,12],\"type\":\"scatter\"},{\"hoverinfo\":\"text\",\"hovertext\":\"Argentina\\u003cbr\\u003eGDP Rank: 44\\u003cbr\\u003eHappiness Rank: 43\\u003cbr\\u003eMismatch: 1\",\"line\":{\"color\":\"#1E88E5\",\"width\":2},\"mode\":\"lines+markers\",\"name\":\"Argentina\",\"visible\":false,\"x\":[\"GDP Rank\",\"Happiness Rank\"],\"y\":[44,43],\"type\":\"scatter\"},{\"hoverinfo\":\"text\",\"hovertext\":\"Romania\\u003cbr\\u003eGDP Rank: 45\\u003cbr\\u003eHappiness Rank: 44\\u003cbr\\u003eMismatch: 1\",\"line\":{\"color\":\"#1E88E5\",\"width\":2},\"mode\":\"lines+markers\",\"name\":\"Romania\",\"visible\":false,\"x\":[\"GDP Rank\",\"Happiness Rank\"],\"y\":[45,44],\"type\":\"scatter\"},{\"hoverinfo\":\"text\",\"hovertext\":\"Kazakhstan\\u003cbr\\u003eGDP Rank: 46\\u003cbr\\u003eHappiness Rank: 55\\u003cbr\\u003eMismatch: 9\",\"line\":{\"color\":\"#1E88E5\",\"width\":2},\"mode\":\"lines+markers\",\"name\":\"Kazakhstan\",\"visible\":false,\"x\":[\"GDP Rank\",\"Happiness Rank\"],\"y\":[46,55],\"type\":\"scatter\"},{\"hoverinfo\":\"text\",\"hovertext\":\"Mauritius\\u003cbr\\u003eGDP Rank: 47\\u003cbr\\u003eHappiness Rank: 52\\u003cbr\\u003eMismatch: 5\",\"line\":{\"color\":\"#1E88E5\",\"width\":2},\"mode\":\"lines+markers\",\"name\":\"Mauritius\",\"visible\":false,\"x\":[\"GDP Rank\",\"Happiness Rank\"],\"y\":[47,52],\"type\":\"scatter\"},{\"hoverinfo\":\"text\",\"hovertext\":\"Malaysia\\u003cbr\\u003eGDP Rank: 48\\u003cbr\\u003eHappiness Rank: 71\\u003cbr\\u003eMismatch: 23\",\"line\":{\"color\":\"#1E88E5\",\"width\":2},\"mode\":\"lines+markers\",\"name\":\"Malaysia\",\"visible\":false,\"x\":[\"GDP Rank\",\"Happiness Rank\"],\"y\":[48,71],\"type\":\"scatter\"},{\"hoverinfo\":\"text\",\"hovertext\":\"Mexico\\u003cbr\\u003eGDP Rank: 49\\u003cbr\\u003eHappiness Rank: 22\\u003cbr\\u003eMismatch: 27\",\"line\":{\"color\":\"#1E88E5\",\"width\":2},\"mode\":\"lines+markers\",\"name\":\"Mexico\",\"visible\":false,\"x\":[\"GDP Rank\",\"Happiness Rank\"],\"y\":[49,22],\"type\":\"scatter\"},{\"hoverinfo\":\"text\",\"hovertext\":\"China\\u003cbr\\u003eGDP Rank: 50\\u003cbr\\u003eHappiness Rank: 83\\u003cbr\\u003eMismatch: 33\",\"line\":{\"color\":\"#D81B60\",\"width\":2},\"mode\":\"lines+markers\",\"name\":\"China\",\"visible\":false,\"x\":[\"GDP Rank\",\"Happiness Rank\"],\"y\":[50,83],\"type\":\"scatter\"},{\"hoverinfo\":\"text\",\"hovertext\":\"Brazil\\u003cbr\\u003eGDP Rank: 51\\u003cbr\\u003eHappiness Rank: 30\\u003cbr\\u003eMismatch: 21\",\"line\":{\"color\":\"#1E88E5\",\"width\":2},\"mode\":\"lines+markers\",\"name\":\"Brazil\",\"visible\":false,\"x\":[\"GDP Rank\",\"Happiness Rank\"],\"y\":[51,30],\"type\":\"scatter\"},{\"hoverinfo\":\"text\",\"hovertext\":\"Libya\\u003cbr\\u003eGDP Rank: 52\\u003cbr\\u003eHappiness Rank: 65\\u003cbr\\u003eMismatch: 13\",\"line\":{\"color\":\"#1E88E5\",\"width\":2},\"mode\":\"lines+markers\",\"name\":\"Libya\",\"visible\":false,\"x\":[\"GDP Rank\",\"Happiness Rank\"],\"y\":[52,65],\"type\":\"scatter\"},{\"hoverinfo\":\"text\",\"hovertext\":\"Bulgaria\\u003cbr\\u003eGDP Rank: 53\\u003cbr\\u003eHappiness Rank: 86\\u003cbr\\u003eMismatch: 33\",\"line\":{\"color\":\"#D81B60\",\"width\":2},\"mode\":\"lines+markers\",\"name\":\"Bulgaria\",\"visible\":false,\"x\":[\"GDP Rank\",\"Happiness Rank\"],\"y\":[53,86],\"type\":\"scatter\"},{\"hoverinfo\":\"text\",\"hovertext\":\"Dominican Republic\\u003cbr\\u003eGDP Rank: 54\\u003cbr\\u003eHappiness Rank: 69\\u003cbr\\u003eMismatch: 15\",\"line\":{\"color\":\"#1E88E5\",\"width\":2},\"mode\":\"lines+markers\",\"name\":\"Dominican Republic\",\"visible\":false,\"x\":[\"GDP Rank\",\"Happiness Rank\"],\"y\":[54,69],\"type\":\"scatter\"},{\"hoverinfo\":\"text\",\"hovertext\":\"Lebanon\\u003cbr\\u003eGDP Rank: 55\\u003cbr\\u003eHappiness Rank: 81\\u003cbr\\u003eMismatch: 26\",\"line\":{\"color\":\"#1E88E5\",\"width\":2},\"mode\":\"lines+markers\",\"name\":\"Lebanon\",\"visible\":false,\"x\":[\"GDP Rank\",\"Happiness Rank\"],\"y\":[55,81],\"type\":\"scatter\"},{\"hoverinfo\":\"text\",\"hovertext\":\"Montenegro\\u003cbr\\u003eGDP Rank: 56\\u003cbr\\u003eHappiness Rank: 66\\u003cbr\\u003eMismatch: 10\",\"line\":{\"color\":\"#1E88E5\",\"width\":2},\"mode\":\"lines+markers\",\"name\":\"Montenegro\",\"visible\":false,\"x\":[\"GDP Rank\",\"Happiness Rank\"],\"y\":[56,66],\"type\":\"scatter\"},{\"hoverinfo\":\"text\",\"hovertext\":\"Botswana\\u003cbr\\u003eGDP Rank: 57\\u003cbr\\u003eHappiness Rank: 127\\u003cbr\\u003eMismatch: 70\",\"line\":{\"color\":\"#D81B60\",\"width\":2},\"mode\":\"lines+markers\",\"name\":\"Botswana\",\"visible\":false,\"x\":[\"GDP Rank\",\"Happiness Rank\"],\"y\":[57,127],\"type\":\"scatter\"},{\"hoverinfo\":\"text\",\"hovertext\":\"Serbia\\u003cbr\\u003eGDP Rank: 58\\u003cbr\\u003eHappiness Rank: 63\\u003cbr\\u003eMismatch: 5\",\"line\":{\"color\":\"#1E88E5\",\"width\":2},\"mode\":\"lines+markers\",\"name\":\"Serbia\",\"visible\":false,\"x\":[\"GDP Rank\",\"Happiness Rank\"],\"y\":[58,63],\"type\":\"scatter\"},{\"hoverinfo\":\"text\",\"hovertext\":\"Gabon\\u003cbr\\u003eGDP Rank: 59\\u003cbr\\u003eHappiness Rank: 91\\u003cbr\\u003eMismatch: 32\",\"line\":{\"color\":\"#D81B60\",\"width\":2},\"mode\":\"lines+markers\",\"name\":\"Gabon\",\"visible\":false,\"x\":[\"GDP Rank\",\"Happiness Rank\"],\"y\":[59,91],\"type\":\"scatter\"},{\"hoverinfo\":\"text\",\"hovertext\":\"Turkmenistan\\u003cbr\\u003eGDP Rank: 60\\u003cbr\\u003eHappiness Rank: 77\\u003cbr\\u003eMismatch: 17\",\"line\":{\"color\":\"#1E88E5\",\"width\":2},\"mode\":\"lines+markers\",\"name\":\"Turkmenistan\",\"visible\":false,\"x\":[\"GDP Rank\",\"Happiness Rank\"],\"y\":[60,77],\"type\":\"scatter\"},{\"hoverinfo\":\"text\",\"hovertext\":\"Peru\\u003cbr\\u003eGDP Rank: 61\\u003cbr\\u003eHappiness Rank: 59\\u003cbr\\u003eMismatch: 2\",\"line\":{\"color\":\"#1E88E5\",\"width\":2},\"mode\":\"lines+markers\",\"name\":\"Peru\",\"visible\":false,\"x\":[\"GDP Rank\",\"Happiness Rank\"],\"y\":[61,59],\"type\":\"scatter\"},{\"hoverinfo\":\"text\",\"hovertext\":\"Colombia\\u003cbr\\u003eGDP Rank: 62\\u003cbr\\u003eHappiness Rank: 39\\u003cbr\\u003eMismatch: 23\",\"line\":{\"color\":\"#1E88E5\",\"width\":2},\"mode\":\"lines+markers\",\"name\":\"Colombia\",\"visible\":false,\"x\":[\"GDP Rank\",\"Happiness Rank\"],\"y\":[62,39],\"type\":\"scatter\"},{\"hoverinfo\":\"text\",\"hovertext\":\"Thailand\\u003cbr\\u003eGDP Rank: 63\\u003cbr\\u003eHappiness Rank: 48\\u003cbr\\u003eMismatch: 15\",\"line\":{\"color\":\"#1E88E5\",\"width\":2},\"mode\":\"lines+markers\",\"name\":\"Thailand\",\"visible\":false,\"x\":[\"GDP Rank\",\"Happiness Rank\"],\"y\":[63,48],\"type\":\"scatter\"},{\"hoverinfo\":\"text\",\"hovertext\":\"Belarus\\u003cbr\\u003eGDP Rank: 64\\u003cbr\\u003eHappiness Rank: 72\\u003cbr\\u003eMismatch: 8\",\"line\":{\"color\":\"#1E88E5\",\"width\":2},\"mode\":\"lines+markers\",\"name\":\"Belarus\",\"visible\":false,\"x\":[\"GDP Rank\",\"Happiness Rank\"],\"y\":[64,72],\"type\":\"scatter\"},{\"hoverinfo\":\"text\",\"hovertext\":\"Paraguay\\u003cbr\\u003eGDP Rank: 65\\u003cbr\\u003eHappiness Rank: 58\\u003cbr\\u003eMismatch: 7\",\"line\":{\"color\":\"#1E88E5\",\"width\":2},\"mode\":\"lines+markers\",\"name\":\"Paraguay\",\"visible\":false,\"x\":[\"GDP Rank\",\"Happiness Rank\"],\"y\":[65,58],\"type\":\"scatter\"},{\"hoverinfo\":\"text\",\"hovertext\":\"South Africa\\u003cbr\\u003eGDP Rank: 66\\u003cbr\\u003eHappiness Rank: 92\\u003cbr\\u003eMismatch: 26\",\"line\":{\"color\":\"#1E88E5\",\"width\":2},\"mode\":\"lines+markers\",\"name\":\"South Africa\",\"visible\":false,\"x\":[\"GDP Rank\",\"Happiness Rank\"],\"y\":[66,92],\"type\":\"scatter\"},{\"hoverinfo\":\"text\",\"hovertext\":\"Ecuador\\u003cbr\\u003eGDP Rank: 67\\u003cbr\\u003eHappiness Rank: 46\\u003cbr\\u003eMismatch: 21\",\"line\":{\"color\":\"#1E88E5\",\"width\":2},\"mode\":\"lines+markers\",\"name\":\"Ecuador\",\"visible\":false,\"x\":[\"GDP Rank\",\"Happiness Rank\"],\"y\":[67,46],\"type\":\"scatter\"},{\"hoverinfo\":\"text\",\"hovertext\":\"North Macedonia\\u003cbr\\u003eGDP Rank: 68\\u003cbr\\u003eHappiness Rank: 75\\u003cbr\\u003eMismatch: 7\",\"line\":{\"color\":\"#1E88E5\",\"width\":2},\"mode\":\"lines+markers\",\"name\":\"North Macedonia\",\"visible\":false,\"x\":[\"GDP Rank\",\"Happiness Rank\"],\"y\":[68,75],\"type\":\"scatter\"},{\"hoverinfo\":\"text\",\"hovertext\":\"Bosnia and Herzegovina\\u003cbr\\u003eGDP Rank: 69\\u003cbr\\u003eHappiness Rank: 70\\u003cbr\\u003eMismatch: 1\",\"line\":{\"color\":\"#1E88E5\",\"width\":2},\"mode\":\"lines+markers\",\"name\":\"Bosnia and Herzegovina\",\"visible\":false,\"x\":[\"GDP Rank\",\"Happiness Rank\"],\"y\":[69,70],\"type\":\"scatter\"},{\"hoverinfo\":\"text\",\"hovertext\":\"Azerbaijan\\u003cbr\\u003eGDP Rank: 70\\u003cbr\\u003eHappiness Rank: 79\\u003cbr\\u003eMismatch: 9\",\"line\":{\"color\":\"#1E88E5\",\"width\":2},\"mode\":\"lines+markers\",\"name\":\"Azerbaijan\",\"visible\":false,\"x\":[\"GDP Rank\",\"Happiness Rank\"],\"y\":[70,79],\"type\":\"scatter\"},{\"hoverinfo\":\"text\",\"hovertext\":\"Jamaica\\u003cbr\\u003eGDP Rank: 71\\u003cbr\\u003eHappiness Rank: 51\\u003cbr\\u003eMismatch: 20\",\"line\":{\"color\":\"#1E88E5\",\"width\":2},\"mode\":\"lines+markers\",\"name\":\"Jamaica\",\"visible\":false,\"x\":[\"GDP Rank\",\"Happiness Rank\"],\"y\":[71,51],\"type\":\"scatter\"},{\"hoverinfo\":\"text\",\"hovertext\":\"Georgia\\u003cbr\\u003eGDP Rank: 72\\u003cbr\\u003eHappiness Rank: 102\\u003cbr\\u003eMismatch: 30\",\"line\":{\"color\":\"#1E88E5\",\"width\":2},\"mode\":\"lines+markers\",\"name\":\"Georgia\",\"visible\":false,\"x\":[\"GDP Rank\",\"Happiness Rank\"],\"y\":[72,102],\"type\":\"scatter\"},{\"hoverinfo\":\"text\",\"hovertext\":\"Iraq\\u003cbr\\u003eGDP Rank: 73\\u003cbr\\u003eHappiness Rank: 108\\u003cbr\\u003eMismatch: 35\",\"line\":{\"color\":\"#D81B60\",\"width\":2},\"mode\":\"lines+markers\",\"name\":\"Iraq\",\"visible\":false,\"x\":[\"GDP Rank\",\"Happiness Rank\"],\"y\":[73,108],\"type\":\"scatter\"},{\"hoverinfo\":\"text\",\"hovertext\":\"Algeria\\u003cbr\\u003eGDP Rank: 74\\u003cbr\\u003eHappiness Rank: 78\\u003cbr\\u003eMismatch: 4\",\"line\":{\"color\":\"#1E88E5\",\"width\":2},\"mode\":\"lines+markers\",\"name\":\"Algeria\",\"visible\":false,\"x\":[\"GDP Rank\",\"Happiness Rank\"],\"y\":[74,78],\"type\":\"scatter\"},{\"hoverinfo\":\"text\",\"hovertext\":\"Albania\\u003cbr\\u003eGDP Rank: 75\\u003cbr\\u003eHappiness Rank: 93\\u003cbr\\u003eMismatch: 18\",\"line\":{\"color\":\"#1E88E5\",\"width\":2},\"mode\":\"lines+markers\",\"name\":\"Albania\",\"visible\":false,\"x\":[\"GDP Rank\",\"Happiness Rank\"],\"y\":[75,93],\"type\":\"scatter\"},{\"hoverinfo\":\"text\",\"hovertext\":\"Sri Lanka\\u003cbr\\u003eGDP Rank: 76\\u003cbr\\u003eHappiness Rank: 111\\u003cbr\\u003eMismatch: 35\",\"line\":{\"color\":\"#D81B60\",\"width\":2},\"mode\":\"lines+markers\",\"name\":\"Sri Lanka\",\"visible\":false,\"x\":[\"GDP Rank\",\"Happiness Rank\"],\"y\":[76,111],\"type\":\"scatter\"},{\"hoverinfo\":\"text\",\"hovertext\":\"Armenia\\u003cbr\\u003eGDP Rank: 77\\u003cbr\\u003eHappiness Rank: 100\\u003cbr\\u003eMismatch: 23\",\"line\":{\"color\":\"#1E88E5\",\"width\":2},\"mode\":\"lines+markers\",\"name\":\"Armenia\",\"visible\":false,\"x\":[\"GDP Rank\",\"Happiness Rank\"],\"y\":[77,100],\"type\":\"scatter\"},{\"hoverinfo\":\"text\",\"hovertext\":\"Mongolia\\u003cbr\\u003eGDP Rank: 78\\u003cbr\\u003eHappiness Rank: 74\\u003cbr\\u003eMismatch: 4\",\"line\":{\"color\":\"#1E88E5\",\"width\":2},\"mode\":\"lines+markers\",\"name\":\"Mongolia\",\"visible\":false,\"x\":[\"GDP Rank\",\"Happiness Rank\"],\"y\":[78,74],\"type\":\"scatter\"},{\"hoverinfo\":\"text\",\"hovertext\":\"Namibia\\u003cbr\\u003eGDP Rank: 79\\u003cbr\\u003eHappiness Rank: 97\\u003cbr\\u003eMismatch: 18\",\"line\":{\"color\":\"#1E88E5\",\"width\":2},\"mode\":\"lines+markers\",\"name\":\"Namibia\",\"visible\":false,\"x\":[\"GDP Rank\",\"Happiness Rank\"],\"y\":[79,97],\"type\":\"scatter\"},{\"hoverinfo\":\"text\",\"hovertext\":\"Kosovo\\u003cbr\\u003eGDP Rank: 80\\u003cbr\\u003eHappiness Rank: 42\\u003cbr\\u003eMismatch: 38\",\"line\":{\"color\":\"#D81B60\",\"width\":2},\"mode\":\"lines+markers\",\"name\":\"Kosovo\",\"visible\":false,\"x\":[\"GDP Rank\",\"Happiness Rank\"],\"y\":[80,42],\"type\":\"scatter\"},{\"hoverinfo\":\"text\",\"hovertext\":\"Tunisia\\u003cbr\\u003eGDP Rank: 81\\u003cbr\\u003eHappiness Rank: 106\\u003cbr\\u003eMismatch: 25\",\"line\":{\"color\":\"#1E88E5\",\"width\":2},\"mode\":\"lines+markers\",\"name\":\"Tunisia\",\"visible\":false,\"x\":[\"GDP Rank\",\"Happiness Rank\"],\"y\":[81,106],\"type\":\"scatter\"},{\"hoverinfo\":\"text\",\"hovertext\":\"El Salvador\\u003cbr\\u003eGDP Rank: 82\\u003cbr\\u003eHappiness Rank: 33\\u003cbr\\u003eMismatch: 49\",\"line\":{\"color\":\"#D81B60\",\"width\":2},\"mode\":\"lines+markers\",\"name\":\"El Salvador\",\"visible\":false,\"x\":[\"GDP Rank\",\"Happiness Rank\"],\"y\":[82,33],\"type\":\"scatter\"},{\"hoverinfo\":\"text\",\"hovertext\":\"Guatemala\\u003cbr\\u003eGDP Rank: 83\\u003cbr\\u003eHappiness Rank: 25\\u003cbr\\u003eMismatch: 58\",\"line\":{\"color\":\"#D81B60\",\"width\":2},\"mode\":\"lines+markers\",\"name\":\"Guatemala\",\"visible\":false,\"x\":[\"GDP Rank\",\"Happiness Rank\"],\"y\":[83,25],\"type\":\"scatter\"},{\"hoverinfo\":\"text\",\"hovertext\":\"Jordan\\u003cbr\\u003eGDP Rank: 84\\u003cbr\\u003eHappiness Rank: 89\\u003cbr\\u003eMismatch: 5\",\"line\":{\"color\":\"#1E88E5\",\"width\":2},\"mode\":\"lines+markers\",\"name\":\"Jordan\",\"visible\":false,\"x\":[\"GDP Rank\",\"Happiness Rank\"],\"y\":[84,89],\"type\":\"scatter\"},{\"hoverinfo\":\"text\",\"hovertext\":\"Indonesia\\u003cbr\\u003eGDP Rank: 85\\u003cbr\\u003eHappiness Rank: 82\\u003cbr\\u003eMismatch: 3\",\"line\":{\"color\":\"#1E88E5\",\"width\":2},\"mode\":\"lines+markers\",\"name\":\"Indonesia\",\"visible\":false,\"x\":[\"GDP Rank\",\"Happiness Rank\"],\"y\":[85,82],\"type\":\"scatter\"},{\"hoverinfo\":\"text\",\"hovertext\":\"Philippines\\u003cbr\\u003eGDP Rank: 86\\u003cbr\\u003eHappiness Rank: 62\\u003cbr\\u003eMismatch: 24\",\"line\":{\"color\":\"#1E88E5\",\"width\":2},\"mode\":\"lines+markers\",\"name\":\"Philippines\",\"visible\":false,\"x\":[\"GDP Rank\",\"Happiness Rank\"],\"y\":[86,62],\"type\":\"scatter\"},{\"hoverinfo\":\"text\",\"hovertext\":\"Bhutan\\u003cbr\\u003eGDP Rank: 87\\u003cbr\\u003eHappiness Rank: 84\\u003cbr\\u003eMismatch: 3\",\"line\":{\"color\":\"#1E88E5\",\"width\":2},\"mode\":\"lines+markers\",\"name\":\"Bhutan\",\"visible\":false,\"x\":[\"GDP Rank\",\"Happiness Rank\"],\"y\":[87,84],\"type\":\"scatter\"},{\"hoverinfo\":\"text\",\"hovertext\":\"Moldova\\u003cbr\\u003eGDP Rank: 88\\u003cbr\\u003eHappiness Rank: 64\\u003cbr\\u003eMismatch: 24\",\"line\":{\"color\":\"#1E88E5\",\"width\":2},\"mode\":\"lines+markers\",\"name\":\"Moldova\",\"visible\":false,\"x\":[\"GDP Rank\",\"Happiness Rank\"],\"y\":[88,64],\"type\":\"scatter\"},{\"hoverinfo\":\"text\",\"hovertext\":\"Morocco\\u003cbr\\u003eGDP Rank: 89\\u003cbr\\u003eHappiness Rank: 79\\u003cbr\\u003eMismatch: 10\",\"line\":{\"color\":\"#1E88E5\",\"width\":2},\"mode\":\"lines+markers\",\"name\":\"Morocco\",\"visible\":false,\"x\":[\"GDP Rank\",\"Happiness Rank\"],\"y\":[89,79],\"type\":\"scatter\"},{\"hoverinfo\":\"text\",\"hovertext\":\"Bolivia\\u003cbr\\u003eGDP Rank: 90\\u003cbr\\u003eHappiness Rank: 56\\u003cbr\\u003eMismatch: 34\",\"line\":{\"color\":\"#D81B60\",\"width\":2},\"mode\":\"lines+markers\",\"name\":\"Bolivia\",\"visible\":false,\"x\":[\"GDP Rank\",\"Happiness Rank\"],\"y\":[90,56],\"type\":\"scatter\"},{\"hoverinfo\":\"text\",\"hovertext\":\"Uzbekistan\\u003cbr\\u003eGDP Rank: 91\\u003cbr\\u003eHappiness Rank: 37\\u003cbr\\u003eMismatch: 54\",\"line\":{\"color\":\"#D81B60\",\"width\":2},\"mode\":\"lines+markers\",\"name\":\"Uzbekistan\",\"visible\":false,\"x\":[\"GDP Rank\",\"Happiness Rank\"],\"y\":[91,37],\"type\":\"scatter\"},{\"hoverinfo\":\"text\",\"hovertext\":\"Honduras\\u003cbr\\u003eGDP Rank: 92\\u003cbr\\u003eHappiness Rank: 54\\u003cbr\\u003eMismatch: 38\",\"line\":{\"color\":\"#D81B60\",\"width\":2},\"mode\":\"lines+markers\",\"name\":\"Honduras\",\"visible\":false,\"x\":[\"GDP Rank\",\"Happiness Rank\"],\"y\":[92,54],\"type\":\"scatter\"},{\"hoverinfo\":\"text\",\"hovertext\":\"Nigeria\\u003cbr\\u003eGDP Rank: 93\\u003cbr\\u003eHappiness Rank: 76\\u003cbr\\u003eMismatch: 17\",\"line\":{\"color\":\"#1E88E5\",\"width\":2},\"mode\":\"lines+markers\",\"name\":\"Nigeria\",\"visible\":false,\"x\":[\"GDP Rank\",\"Happiness Rank\"],\"y\":[93,76],\"type\":\"scatter\"},{\"hoverinfo\":\"text\",\"hovertext\":\"Ukraine\\u003cbr\\u003eGDP Rank: 94\\u003cbr\\u003eHappiness Rank: 114\\u003cbr\\u003eMismatch: 20\",\"line\":{\"color\":\"#1E88E5\",\"width\":2},\"mode\":\"lines+markers\",\"name\":\"Ukraine\",\"visible\":false,\"x\":[\"GDP Rank\",\"Happiness Rank\"],\"y\":[94,114],\"type\":\"scatter\"},{\"hoverinfo\":\"text\",\"hovertext\":\"Nicaragua\\u003cbr\\u003eGDP Rank: 95\\u003cbr\\u003eHappiness Rank: 41\\u003cbr\\u003eMismatch: 54\",\"line\":{\"color\":\"#D81B60\",\"width\":2},\"mode\":\"lines+markers\",\"name\":\"Nicaragua\",\"visible\":false,\"x\":[\"GDP Rank\",\"Happiness Rank\"],\"y\":[95,41],\"type\":\"scatter\"},{\"hoverinfo\":\"text\",\"hovertext\":\"Cambodia\\u003cbr\\u003eGDP Rank: 96\\u003cbr\\u003eHappiness Rank: 94\\u003cbr\\u003eMismatch: 2\",\"line\":{\"color\":\"#1E88E5\",\"width\":2},\"mode\":\"lines+markers\",\"name\":\"Cambodia\",\"visible\":false,\"x\":[\"GDP Rank\",\"Happiness Rank\"],\"y\":[96,94],\"type\":\"scatter\"},{\"hoverinfo\":\"text\",\"hovertext\":\"Ghana\\u003cbr\\u003eGDP Rank: 97\\u003cbr\\u003eHappiness Rank: 87\\u003cbr\\u003eMismatch: 10\",\"line\":{\"color\":\"#1E88E5\",\"width\":2},\"mode\":\"lines+markers\",\"name\":\"Ghana\",\"visible\":false,\"x\":[\"GDP Rank\",\"Happiness Rank\"],\"y\":[97,87],\"type\":\"scatter\"},{\"hoverinfo\":\"text\",\"hovertext\":\"India\\u003cbr\\u003eGDP Rank: 98\\u003cbr\\u003eHappiness Rank: 119\\u003cbr\\u003eMismatch: 21\",\"line\":{\"color\":\"#1E88E5\",\"width\":2},\"mode\":\"lines+markers\",\"name\":\"India\",\"visible\":false,\"x\":[\"GDP Rank\",\"Happiness Rank\"],\"y\":[98,119],\"type\":\"scatter\"},{\"hoverinfo\":\"text\",\"hovertext\":\"Kenya\\u003cbr\\u003eGDP Rank: 99\\u003cbr\\u003eHappiness Rank: 103\\u003cbr\\u003eMismatch: 4\",\"line\":{\"color\":\"#1E88E5\",\"width\":2},\"mode\":\"lines+markers\",\"name\":\"Kenya\",\"visible\":false,\"x\":[\"GDP Rank\",\"Happiness Rank\"],\"y\":[99,103],\"type\":\"scatter\"},{\"hoverinfo\":\"text\",\"hovertext\":\"Mauritania\\u003cbr\\u003eGDP Rank: 100\\u003cbr\\u003eHappiness Rank: 104\\u003cbr\\u003eMismatch: 4\",\"line\":{\"color\":\"#1E88E5\",\"width\":2},\"mode\":\"lines+markers\",\"name\":\"Mauritania\",\"visible\":false,\"x\":[\"GDP Rank\",\"Happiness Rank\"],\"y\":[100,104],\"type\":\"scatter\"},{\"hoverinfo\":\"text\",\"hovertext\":\"Pakistan\\u003cbr\\u003eGDP Rank: 101\\u003cbr\\u003eHappiness Rank: 61\\u003cbr\\u003eMismatch: 40\",\"line\":{\"color\":\"#D81B60\",\"width\":2},\"mode\":\"lines+markers\",\"name\":\"Pakistan\",\"visible\":false,\"x\":[\"GDP Rank\",\"Happiness Rank\"],\"y\":[101,61],\"type\":\"scatter\"},{\"hoverinfo\":\"text\",\"hovertext\":\"Bangladesh\\u003cbr\\u003eGDP Rank: 102\\u003cbr\\u003eHappiness Rank: 107\\u003cbr\\u003eMismatch: 5\",\"line\":{\"color\":\"#1E88E5\",\"width\":2},\"mode\":\"lines+markers\",\"name\":\"Bangladesh\",\"visible\":false,\"x\":[\"GDP Rank\",\"Happiness Rank\"],\"y\":[102,107],\"type\":\"scatter\"},{\"hoverinfo\":\"text\",\"hovertext\":\"Cameroon\\u003cbr\\u003eGDP Rank: 103\\u003cbr\\u003eHappiness Rank: 85\\u003cbr\\u003eMismatch: 18\",\"line\":{\"color\":\"#1E88E5\",\"width\":2},\"mode\":\"lines+markers\",\"name\":\"Cameroon\",\"visible\":false,\"x\":[\"GDP Rank\",\"Happiness Rank\"],\"y\":[103,85],\"type\":\"scatter\"},{\"hoverinfo\":\"text\",\"hovertext\":\"Myanmar\\u003cbr\\u003eGDP Rank: 104\\u003cbr\\u003eHappiness Rank: 112\\u003cbr\\u003eMismatch: 8\",\"line\":{\"color\":\"#1E88E5\",\"width\":2},\"mode\":\"lines+markers\",\"name\":\"Myanmar\",\"visible\":false,\"x\":[\"GDP Rank\",\"Happiness Rank\"],\"y\":[104,112],\"type\":\"scatter\"},{\"hoverinfo\":\"text\",\"hovertext\":\"Haiti\\u003cbr\\u003eGDP Rank: 105\\u003cbr\\u003eHappiness Rank: 126\\u003cbr\\u003eMismatch: 21\",\"line\":{\"color\":\"#1E88E5\",\"width\":2},\"mode\":\"lines+markers\",\"name\":\"Haiti\",\"visible\":false,\"x\":[\"GDP Rank\",\"Happiness Rank\"],\"y\":[105,126],\"type\":\"scatter\"},{\"hoverinfo\":\"text\",\"hovertext\":\"Comoros\\u003cbr\\u003eGDP Rank: 106\\u003cbr\\u003eHappiness Rank: 121\\u003cbr\\u003eMismatch: 15\",\"line\":{\"color\":\"#1E88E5\",\"width\":2},\"mode\":\"lines+markers\",\"name\":\"Comoros\",\"visible\":false,\"x\":[\"GDP Rank\",\"Happiness Rank\"],\"y\":[106,121],\"type\":\"scatter\"},{\"hoverinfo\":\"text\",\"hovertext\":\"Senegal\\u003cbr\\u003eGDP Rank: 107\\u003cbr\\u003eHappiness Rank: 95\\u003cbr\\u003eMismatch: 12\",\"line\":{\"color\":\"#1E88E5\",\"width\":2},\"mode\":\"lines+markers\",\"name\":\"Senegal\",\"visible\":false,\"x\":[\"GDP Rank\",\"Happiness Rank\"],\"y\":[107,95],\"type\":\"scatter\"},{\"hoverinfo\":\"text\",\"hovertext\":\"Zimbabwe\\u003cbr\\u003eGDP Rank: 108\\u003cbr\\u003eHappiness Rank: 125\\u003cbr\\u003eMismatch: 17\",\"line\":{\"color\":\"#1E88E5\",\"width\":2},\"mode\":\"lines+markers\",\"name\":\"Zimbabwe\",\"visible\":false,\"x\":[\"GDP Rank\",\"Happiness Rank\"],\"y\":[108,125],\"type\":\"scatter\"},{\"hoverinfo\":\"text\",\"hovertext\":\"Zambia\\u003cbr\\u003eGDP Rank: 109\\u003cbr\\u003eHappiness Rank: 117\\u003cbr\\u003eMismatch: 8\",\"line\":{\"color\":\"#1E88E5\",\"width\":2},\"mode\":\"lines+markers\",\"name\":\"Zambia\",\"visible\":false,\"x\":[\"GDP Rank\",\"Happiness Rank\"],\"y\":[109,117],\"type\":\"scatter\"},{\"hoverinfo\":\"text\",\"hovertext\":\"Tajikistan\\u003cbr\\u003eGDP Rank: 110\\u003cbr\\u003eHappiness Rank: 67\\u003cbr\\u003eMismatch: 43\",\"line\":{\"color\":\"#D81B60\",\"width\":2},\"mode\":\"lines+markers\",\"name\":\"Tajikistan\",\"visible\":false,\"x\":[\"GDP Rank\",\"Happiness Rank\"],\"y\":[110,67],\"type\":\"scatter\"},{\"hoverinfo\":\"text\",\"hovertext\":\"Benin\\u003cbr\\u003eGDP Rank: 111\\u003cbr\\u003eHappiness Rank: 90\\u003cbr\\u003eMismatch: 21\",\"line\":{\"color\":\"#1E88E5\",\"width\":2},\"mode\":\"lines+markers\",\"name\":\"Benin\",\"visible\":false,\"x\":[\"GDP Rank\",\"Happiness Rank\"],\"y\":[111,90],\"type\":\"scatter\"},{\"hoverinfo\":\"text\",\"hovertext\":\"Nepal\\u003cbr\\u003eGDP Rank: 112\\u003cbr\\u003eHappiness Rank: 88\\u003cbr\\u003eMismatch: 24\",\"line\":{\"color\":\"#1E88E5\",\"width\":2},\"mode\":\"lines+markers\",\"name\":\"Nepal\",\"visible\":false,\"x\":[\"GDP Rank\",\"Happiness Rank\"],\"y\":[112,88],\"type\":\"scatter\"},{\"hoverinfo\":\"text\",\"hovertext\":\"Tanzania\\u003cbr\\u003eGDP Rank: 113\\u003cbr\\u003eHappiness Rank: 130\\u003cbr\\u003eMismatch: 17\",\"line\":{\"color\":\"#1E88E5\",\"width\":2},\"mode\":\"lines+markers\",\"name\":\"Tanzania\",\"visible\":false,\"x\":[\"GDP Rank\",\"Happiness Rank\"],\"y\":[113,130],\"type\":\"scatter\"},{\"hoverinfo\":\"text\",\"hovertext\":\"Lesotho\\u003cbr\\u003eGDP Rank: 114\\u003cbr\\u003eHappiness Rank: 123\\u003cbr\\u003eMismatch: 9\",\"line\":{\"color\":\"#1E88E5\",\"width\":2},\"mode\":\"lines+markers\",\"name\":\"Lesotho\",\"visible\":false,\"x\":[\"GDP Rank\",\"Happiness Rank\"],\"y\":[114,123],\"type\":\"scatter\"},{\"hoverinfo\":\"text\",\"hovertext\":\"Sierra Leone\\u003cbr\\u003eGDP Rank: 115\\u003cbr\\u003eHappiness Rank: 110\\u003cbr\\u003eMismatch: 5\",\"line\":{\"color\":\"#1E88E5\",\"width\":2},\"mode\":\"lines+markers\",\"name\":\"Sierra Leone\",\"visible\":false,\"x\":[\"GDP Rank\",\"Happiness Rank\"],\"y\":[115,110],\"type\":\"scatter\"},{\"hoverinfo\":\"text\",\"hovertext\":\"Guinea\\u003cbr\\u003eGDP Rank: 116\\u003cbr\\u003eHappiness Rank: 101\\u003cbr\\u003eMismatch: 15\",\"line\":{\"color\":\"#1E88E5\",\"width\":2},\"mode\":\"lines+markers\",\"name\":\"Guinea\",\"visible\":false,\"x\":[\"GDP Rank\",\"Happiness Rank\"],\"y\":[116,101],\"type\":\"scatter\"},{\"hoverinfo\":\"text\",\"hovertext\":\"Uganda\\u003cbr\\u003eGDP Rank: 117\\u003cbr\\u003eHappiness Rank: 116\\u003cbr\\u003eMismatch: 1\",\"line\":{\"color\":\"#1E88E5\",\"width\":2},\"mode\":\"lines+markers\",\"name\":\"Uganda\",\"visible\":false,\"x\":[\"GDP Rank\",\"Happiness Rank\"],\"y\":[117,116],\"type\":\"scatter\"},{\"hoverinfo\":\"text\",\"hovertext\":\"Rwanda\\u003cbr\\u003eGDP Rank: 118\\u003cbr\\u003eHappiness Rank: 129\\u003cbr\\u003eMismatch: 11\",\"line\":{\"color\":\"#1E88E5\",\"width\":2},\"mode\":\"lines+markers\",\"name\":\"Rwanda\",\"visible\":false,\"x\":[\"GDP Rank\",\"Happiness Rank\"],\"y\":[118,129],\"type\":\"scatter\"},{\"hoverinfo\":\"text\",\"hovertext\":\"Togo\\u003cbr\\u003eGDP Rank: 119\\u003cbr\\u003eHappiness Rank: 118\\u003cbr\\u003eMismatch: 1\",\"line\":{\"color\":\"#1E88E5\",\"width\":2},\"mode\":\"lines+markers\",\"name\":\"Togo\",\"visible\":false,\"x\":[\"GDP Rank\",\"Happiness Rank\"],\"y\":[119,118],\"type\":\"scatter\"},{\"hoverinfo\":\"text\",\"hovertext\":\"Ethiopia\\u003cbr\\u003eGDP Rank: 120\\u003cbr\\u003eHappiness Rank: 115\\u003cbr\\u003eMismatch: 5\",\"line\":{\"color\":\"#1E88E5\",\"width\":2},\"mode\":\"lines+markers\",\"name\":\"Ethiopia\",\"visible\":false,\"x\":[\"GDP Rank\",\"Happiness Rank\"],\"y\":[120,115],\"type\":\"scatter\"},{\"hoverinfo\":\"text\",\"hovertext\":\"Mali\\u003cbr\\u003eGDP Rank: 121\\u003cbr\\u003eHappiness Rank: 109\\u003cbr\\u003eMismatch: 12\",\"line\":{\"color\":\"#1E88E5\",\"width\":2},\"mode\":\"lines+markers\",\"name\":\"Mali\",\"visible\":false,\"x\":[\"GDP Rank\",\"Happiness Rank\"],\"y\":[121,109],\"type\":\"scatter\"},{\"hoverinfo\":\"text\",\"hovertext\":\"Burkina Faso\\u003cbr\\u003eGDP Rank: 122\\u003cbr\\u003eHappiness Rank: 99\\u003cbr\\u003eMismatch: 23\",\"line\":{\"color\":\"#1E88E5\",\"width\":2},\"mode\":\"lines+markers\",\"name\":\"Burkina Faso\",\"visible\":false,\"x\":[\"GDP Rank\",\"Happiness Rank\"],\"y\":[122,99],\"type\":\"scatter\"},{\"hoverinfo\":\"text\",\"hovertext\":\"Liberia\\u003cbr\\u003eGDP Rank: 123\\u003cbr\\u003eHappiness Rank: 120\\u003cbr\\u003eMismatch: 3\",\"line\":{\"color\":\"#1E88E5\",\"width\":2},\"mode\":\"lines+markers\",\"name\":\"Liberia\",\"visible\":false,\"x\":[\"GDP Rank\",\"Happiness Rank\"],\"y\":[123,120],\"type\":\"scatter\"},{\"hoverinfo\":\"text\",\"hovertext\":\"Chad\\u003cbr\\u003eGDP Rank: 124\\u003cbr\\u003eHappiness Rank: 113\\u003cbr\\u003eMismatch: 11\",\"line\":{\"color\":\"#1E88E5\",\"width\":2},\"mode\":\"lines+markers\",\"name\":\"Chad\",\"visible\":false,\"x\":[\"GDP Rank\",\"Happiness Rank\"],\"y\":[124,113],\"type\":\"scatter\"},{\"hoverinfo\":\"text\",\"hovertext\":\"Mozambique\\u003cbr\\u003eGDP Rank: 125\\u003cbr\\u003eHappiness Rank: 105\\u003cbr\\u003eMismatch: 20\",\"line\":{\"color\":\"#1E88E5\",\"width\":2},\"mode\":\"lines+markers\",\"name\":\"Mozambique\",\"visible\":false,\"x\":[\"GDP Rank\",\"Happiness Rank\"],\"y\":[125,105],\"type\":\"scatter\"},{\"hoverinfo\":\"text\",\"hovertext\":\"Malawi\\u003cbr\\u003eGDP Rank: 126\\u003cbr\\u003eHappiness Rank: 128\\u003cbr\\u003eMismatch: 2\",\"line\":{\"color\":\"#1E88E5\",\"width\":2},\"mode\":\"lines+markers\",\"name\":\"Malawi\",\"visible\":false,\"x\":[\"GDP Rank\",\"Happiness Rank\"],\"y\":[126,128],\"type\":\"scatter\"},{\"hoverinfo\":\"text\",\"hovertext\":\"Afghanistan\\u003cbr\\u003eGDP Rank: 127\\u003cbr\\u003eHappiness Rank: 131\\u003cbr\\u003eMismatch: 4\",\"line\":{\"color\":\"#1E88E5\",\"width\":2},\"mode\":\"lines+markers\",\"name\":\"Afghanistan\",\"visible\":false,\"x\":[\"GDP Rank\",\"Happiness Rank\"],\"y\":[127,131],\"type\":\"scatter\"},{\"hoverinfo\":\"text\",\"hovertext\":\"Niger\\u003cbr\\u003eGDP Rank: 128\\u003cbr\\u003eHappiness Rank: 98\\u003cbr\\u003eMismatch: 30\",\"line\":{\"color\":\"#1E88E5\",\"width\":2},\"mode\":\"lines+markers\",\"name\":\"Niger\",\"visible\":false,\"x\":[\"GDP Rank\",\"Happiness Rank\"],\"y\":[128,98],\"type\":\"scatter\"},{\"hoverinfo\":\"text\",\"hovertext\":\"Somalia\\u003cbr\\u003eGDP Rank: 129\\u003cbr\\u003eHappiness Rank: 96\\u003cbr\\u003eMismatch: 33\",\"line\":{\"color\":\"#D81B60\",\"width\":2},\"mode\":\"lines+markers\",\"name\":\"Somalia\",\"visible\":false,\"x\":[\"GDP Rank\",\"Happiness Rank\"],\"y\":[129,96],\"type\":\"scatter\"},{\"hoverinfo\":\"text\",\"hovertext\":\"Madagascar\\u003cbr\\u003eGDP Rank: 130\\u003cbr\\u003eHappiness Rank: 122\\u003cbr\\u003eMismatch: 8\",\"line\":{\"color\":\"#1E88E5\",\"width\":2},\"mode\":\"lines+markers\",\"name\":\"Madagascar\",\"visible\":false,\"x\":[\"GDP Rank\",\"Happiness Rank\"],\"y\":[130,122],\"type\":\"scatter\"},{\"hoverinfo\":\"text\",\"hovertext\":\"Central African Republic\\u003cbr\\u003eGDP Rank: 131\\u003cbr\\u003eHappiness Rank: 132\\u003cbr\\u003eMismatch: 1\",\"line\":{\"color\":\"#1E88E5\",\"width\":2},\"mode\":\"lines+markers\",\"name\":\"Central African Republic\",\"visible\":false,\"x\":[\"GDP Rank\",\"Happiness Rank\"],\"y\":[131,132],\"type\":\"scatter\"},{\"hoverinfo\":\"text\",\"hovertext\":\"Burundi\\u003cbr\\u003eGDP Rank: 132\\u003cbr\\u003eHappiness Rank: 124\\u003cbr\\u003eMismatch: 8\",\"line\":{\"color\":\"#1E88E5\",\"width\":2},\"mode\":\"lines+markers\",\"name\":\"Burundi\",\"visible\":false,\"x\":[\"GDP Rank\",\"Happiness Rank\"],\"y\":[132,124],\"type\":\"scatter\"},{\"hoverinfo\":\"text\",\"hovertext\":\"Switzerland\\u003cbr\\u003eGNI Rank: 1\\u003cbr\\u003eHappiness Rank: 5\\u003cbr\\u003eMismatch: 4\",\"line\":{\"color\":\"#1E88E5\",\"width\":2},\"mode\":\"lines+markers\",\"name\":\"Switzerland\",\"visible\":false,\"x\":[\"GNI Rank\",\"Happiness Rank\"],\"y\":[1,5],\"type\":\"scatter\"},{\"hoverinfo\":\"text\",\"hovertext\":\"Norway\\u003cbr\\u003eGNI Rank: 2\\u003cbr\\u003eHappiness Rank: 3\\u003cbr\\u003eMismatch: 1\",\"line\":{\"color\":\"#1E88E5\",\"width\":2},\"mode\":\"lines+markers\",\"name\":\"Norway\",\"visible\":false,\"x\":[\"GNI Rank\",\"Happiness Rank\"],\"y\":[2,3],\"type\":\"scatter\"},{\"hoverinfo\":\"text\",\"hovertext\":\"Luxembourg\\u003cbr\\u003eGNI Rank: 3\\u003cbr\\u003eHappiness Rank: 13\\u003cbr\\u003eMismatch: 10\",\"line\":{\"color\":\"#1E88E5\",\"width\":2},\"mode\":\"lines+markers\",\"name\":\"Luxembourg\",\"visible\":false,\"x\":[\"GNI Rank\",\"Happiness Rank\"],\"y\":[3,13],\"type\":\"scatter\"},{\"hoverinfo\":\"text\",\"hovertext\":\"United States\\u003cbr\\u003eGNI Rank: 4\\u003cbr\\u003eHappiness Rank: 18\\u003cbr\\u003eMismatch: 14\",\"line\":{\"color\":\"#1E88E5\",\"width\":2},\"mode\":\"lines+markers\",\"name\":\"United States\",\"visible\":false,\"x\":[\"GNI Rank\",\"Happiness Rank\"],\"y\":[4,18],\"type\":\"scatter\"},{\"hoverinfo\":\"text\",\"hovertext\":\"Denmark\\u003cbr\\u003eGNI Rank: 5\\u003cbr\\u003eHappiness Rank: 2\\u003cbr\\u003eMismatch: 3\",\"line\":{\"color\":\"#1E88E5\",\"width\":2},\"mode\":\"lines+markers\",\"name\":\"Denmark\",\"visible\":false,\"x\":[\"GNI Rank\",\"Happiness Rank\"],\"y\":[5,2],\"type\":\"scatter\"},{\"hoverinfo\":\"text\",\"hovertext\":\"Australia\\u003cbr\\u003eGNI Rank: 6\\u003cbr\\u003eHappiness Rank: 10\\u003cbr\\u003eMismatch: 4\",\"line\":{\"color\":\"#1E88E5\",\"width\":2},\"mode\":\"lines+markers\",\"name\":\"Australia\",\"visible\":false,\"x\":[\"GNI Rank\",\"Happiness Rank\"],\"y\":[6,10],\"type\":\"scatter\"},{\"hoverinfo\":\"text\",\"hovertext\":\"Ireland\\u003cbr\\u003eGNI Rank: 7\\u003cbr\\u003eHappiness Rank: 15\\u003cbr\\u003eMismatch: 8\",\"line\":{\"color\":\"#1E88E5\",\"width\":2},\"mode\":\"lines+markers\",\"name\":\"Ireland\",\"visible\":false,\"x\":[\"GNI Rank\",\"Happiness Rank\"],\"y\":[7,15],\"type\":\"scatter\"},{\"hoverinfo\":\"text\",\"hovertext\":\"Sweden\\u003cbr\\u003eGNI Rank: 8\\u003cbr\\u003eHappiness Rank: 6\\u003cbr\\u003eMismatch: 2\",\"line\":{\"color\":\"#1E88E5\",\"width\":2},\"mode\":\"lines+markers\",\"name\":\"Sweden\",\"visible\":false,\"x\":[\"GNI Rank\",\"Happiness Rank\"],\"y\":[8,6],\"type\":\"scatter\"},{\"hoverinfo\":\"text\",\"hovertext\":\"Netherlands\\u003cbr\\u003eGNI Rank: 9\\u003cbr\\u003eHappiness Rank: 4\\u003cbr\\u003eMismatch: 5\",\"line\":{\"color\":\"#1E88E5\",\"width\":2},\"mode\":\"lines+markers\",\"name\":\"Netherlands\",\"visible\":false,\"x\":[\"GNI Rank\",\"Happiness Rank\"],\"y\":[9,4],\"type\":\"scatter\"},{\"hoverinfo\":\"text\",\"hovertext\":\"United Kingdom\\u003cbr\\u003eGNI Rank: 10\\u003cbr\\u003eHappiness Rank: 14\\u003cbr\\u003eMismatch: 4\",\"line\":{\"color\":\"#1E88E5\",\"width\":2},\"mode\":\"lines+markers\",\"name\":\"United Kingdom\",\"visible\":false,\"x\":[\"GNI Rank\",\"Happiness Rank\"],\"y\":[10,14],\"type\":\"scatter\"},{\"hoverinfo\":\"text\",\"hovertext\":\"Finland\\u003cbr\\u003eGNI Rank: 11\\u003cbr\\u003eHappiness Rank: 1\\u003cbr\\u003eMismatch: 10\",\"line\":{\"color\":\"#1E88E5\",\"width\":2},\"mode\":\"lines+markers\",\"name\":\"Finland\",\"visible\":false,\"x\":[\"GNI Rank\",\"Happiness Rank\"],\"y\":[11,1],\"type\":\"scatter\"},{\"hoverinfo\":\"text\",\"hovertext\":\"Austria\\u003cbr\\u003eGNI Rank: 12\\u003cbr\\u003eHappiness Rank: 9\\u003cbr\\u003eMismatch: 3\",\"line\":{\"color\":\"#1E88E5\",\"width\":2},\"mode\":\"lines+markers\",\"name\":\"Austria\",\"visible\":false,\"x\":[\"GNI Rank\",\"Happiness Rank\"],\"y\":[12,9],\"type\":\"scatter\"},{\"hoverinfo\":\"text\",\"hovertext\":\"Germany\\u003cbr\\u003eGNI Rank: 13\\u003cbr\\u003eHappiness Rank: 16\\u003cbr\\u003eMismatch: 3\",\"line\":{\"color\":\"#1E88E5\",\"width\":2},\"mode\":\"lines+markers\",\"name\":\"Germany\",\"visible\":false,\"x\":[\"GNI Rank\",\"Happiness Rank\"],\"y\":[13,16],\"type\":\"scatter\"},{\"hoverinfo\":\"text\",\"hovertext\":\"Canada\\u003cbr\\u003eGNI Rank: 14\\u003cbr\\u003eHappiness Rank: 8\\u003cbr\\u003eMismatch: 6\",\"line\":{\"color\":\"#1E88E5\",\"width\":2},\"mode\":\"lines+markers\",\"name\":\"Canada\",\"visible\":false,\"x\":[\"GNI Rank\",\"Happiness Rank\"],\"y\":[14,8],\"type\":\"scatter\"},{\"hoverinfo\":\"text\",\"hovertext\":\"Belgium\\u003cbr\\u003eGNI Rank: 15\\u003cbr\\u003eHappiness Rank: 17\\u003cbr\\u003eMismatch: 2\",\"line\":{\"color\":\"#1E88E5\",\"width\":2},\"mode\":\"lines+markers\",\"name\":\"Belgium\",\"visible\":false,\"x\":[\"GNI Rank\",\"Happiness Rank\"],\"y\":[15,17],\"type\":\"scatter\"},{\"hoverinfo\":\"text\",\"hovertext\":\"United Arab Emirates\\u003cbr\\u003eGNI Rank: 16\\u003cbr\\u003eHappiness Rank: 19\\u003cbr\\u003eMismatch: 3\",\"line\":{\"color\":\"#1E88E5\",\"width\":2},\"mode\":\"lines+markers\",\"name\":\"United Arab Emirates\",\"visible\":false,\"x\":[\"GNI Rank\",\"Happiness Rank\"],\"y\":[16,19],\"type\":\"scatter\"},{\"hoverinfo\":\"text\",\"hovertext\":\"New Zealand\\u003cbr\\u003eGNI Rank: 17\\u003cbr\\u003eHappiness Rank: 7\\u003cbr\\u003eMismatch: 10\",\"line\":{\"color\":\"#1E88E5\",\"width\":2},\"mode\":\"lines+markers\",\"name\":\"New Zealand\",\"visible\":false,\"x\":[\"GNI Rank\",\"Happiness Rank\"],\"y\":[17,7],\"type\":\"scatter\"},{\"hoverinfo\":\"text\",\"hovertext\":\"Israel\\u003cbr\\u003eGNI Rank: 18\\u003cbr\\u003eHappiness Rank: 12\\u003cbr\\u003eMismatch: 6\",\"line\":{\"color\":\"#1E88E5\",\"width\":2},\"mode\":\"lines+markers\",\"name\":\"Israel\",\"visible\":false,\"x\":[\"GNI Rank\",\"Happiness Rank\"],\"y\":[18,12],\"type\":\"scatter\"},{\"hoverinfo\":\"text\",\"hovertext\":\"France\\u003cbr\\u003eGNI Rank: 19\\u003cbr\\u003eHappiness Rank: 22\\u003cbr\\u003eMismatch: 3\",\"line\":{\"color\":\"#1E88E5\",\"width\":2},\"mode\":\"lines+markers\",\"name\":\"France\",\"visible\":false,\"x\":[\"GNI Rank\",\"Happiness Rank\"],\"y\":[19,22],\"type\":\"scatter\"},{\"hoverinfo\":\"text\",\"hovertext\":\"Japan\\u003cbr\\u003eGNI Rank: 20\\u003cbr\\u003eHappiness Rank: 47\\u003cbr\\u003eMismatch: 27\",\"line\":{\"color\":\"#1E88E5\",\"width\":2},\"mode\":\"lines+markers\",\"name\":\"Japan\",\"visible\":false,\"x\":[\"GNI Rank\",\"Happiness Rank\"],\"y\":[20,47],\"type\":\"scatter\"},{\"hoverinfo\":\"text\",\"hovertext\":\"Italy\\u003cbr\\u003eGNI Rank: 21\\u003cbr\\u003eHappiness Rank: 30\\u003cbr\\u003eMismatch: 9\",\"line\":{\"color\":\"#1E88E5\",\"width\":2},\"mode\":\"lines+markers\",\"name\":\"Italy\",\"visible\":false,\"x\":[\"GNI Rank\",\"Happiness Rank\"],\"y\":[21,30],\"type\":\"scatter\"},{\"hoverinfo\":\"text\",\"hovertext\":\"Kuwait\\u003cbr\\u003eGNI Rank: 22\\u003cbr\\u003eHappiness Rank: 42\\u003cbr\\u003eMismatch: 20\",\"line\":{\"color\":\"#1E88E5\",\"width\":2},\"mode\":\"lines+markers\",\"name\":\"Kuwait\",\"visible\":false,\"x\":[\"GNI Rank\",\"Happiness Rank\"],\"y\":[22,42],\"type\":\"scatter\"},{\"hoverinfo\":\"text\",\"hovertext\":\"Spain\\u003cbr\\u003eGNI Rank: 23\\u003cbr\\u003eHappiness Rank: 25\\u003cbr\\u003eMismatch: 2\",\"line\":{\"color\":\"#1E88E5\",\"width\":2},\"mode\":\"lines+markers\",\"name\":\"Spain\",\"visible\":false,\"x\":[\"GNI Rank\",\"Happiness Rank\"],\"y\":[23,25],\"type\":\"scatter\"},{\"hoverinfo\":\"text\",\"hovertext\":\"Cyprus\\u003cbr\\u003eGNI Rank: 24\\u003cbr\\u003eHappiness Rank: 40\\u003cbr\\u003eMismatch: 16\",\"line\":{\"color\":\"#1E88E5\",\"width\":2},\"mode\":\"lines+markers\",\"name\":\"Cyprus\",\"visible\":false,\"x\":[\"GNI Rank\",\"Happiness Rank\"],\"y\":[24,40],\"type\":\"scatter\"},{\"hoverinfo\":\"text\",\"hovertext\":\"Malta\\u003cbr\\u003eGNI Rank: 25\\u003cbr\\u003eHappiness Rank: 20\\u003cbr\\u003eMismatch: 5\",\"line\":{\"color\":\"#1E88E5\",\"width\":2},\"mode\":\"lines+markers\",\"name\":\"Malta\",\"visible\":false,\"x\":[\"GNI Rank\",\"Happiness Rank\"],\"y\":[25,20],\"type\":\"scatter\"},{\"hoverinfo\":\"text\",\"hovertext\":\"Slovenia\\u003cbr\\u003eGNI Rank: 26\\u003cbr\\u003eHappiness Rank: 35\\u003cbr\\u003eMismatch: 9\",\"line\":{\"color\":\"#1E88E5\",\"width\":2},\"mode\":\"lines+markers\",\"name\":\"Slovenia\",\"visible\":false,\"x\":[\"GNI Rank\",\"Happiness Rank\"],\"y\":[26,35],\"type\":\"scatter\"},{\"hoverinfo\":\"text\",\"hovertext\":\"Bahrain\\u003cbr\\u003eGNI Rank: 27\\u003cbr\\u003eHappiness Rank: 31\\u003cbr\\u003eMismatch: 4\",\"line\":{\"color\":\"#1E88E5\",\"width\":2},\"mode\":\"lines+markers\",\"name\":\"Bahrain\",\"visible\":false,\"x\":[\"GNI Rank\",\"Happiness Rank\"],\"y\":[27,31],\"type\":\"scatter\"},{\"hoverinfo\":\"text\",\"hovertext\":\"Portugal\\u003cbr\\u003eGNI Rank: 28\\u003cbr\\u003eHappiness Rank: 54\\u003cbr\\u003eMismatch: 26\",\"line\":{\"color\":\"#1E88E5\",\"width\":2},\"mode\":\"lines+markers\",\"name\":\"Portugal\",\"visible\":false,\"x\":[\"GNI Rank\",\"Happiness Rank\"],\"y\":[28,54],\"type\":\"scatter\"},{\"hoverinfo\":\"text\",\"hovertext\":\"Estonia\\u003cbr\\u003eGNI Rank: 29\\u003cbr\\u003eHappiness Rank: 44\\u003cbr\\u003eMismatch: 15\",\"line\":{\"color\":\"#1E88E5\",\"width\":2},\"mode\":\"lines+markers\",\"name\":\"Estonia\",\"visible\":false,\"x\":[\"GNI Rank\",\"Happiness Rank\"],\"y\":[29,44],\"type\":\"scatter\"},{\"hoverinfo\":\"text\",\"hovertext\":\"Greece\\u003cbr\\u003eGNI Rank: 30\\u003cbr\\u003eHappiness Rank: 67\\u003cbr\\u003eMismatch: 37\",\"line\":{\"color\":\"#D81B60\",\"width\":2},\"mode\":\"lines+markers\",\"name\":\"Greece\",\"visible\":false,\"x\":[\"GNI Rank\",\"Happiness Rank\"],\"y\":[30,67],\"type\":\"scatter\"},{\"hoverinfo\":\"text\",\"hovertext\":\"Uruguay\\u003cbr\\u003eGNI Rank: 31\\u003cbr\\u003eHappiness Rank: 28\\u003cbr\\u003eMismatch: 3\",\"line\":{\"color\":\"#1E88E5\",\"width\":2},\"mode\":\"lines+markers\",\"name\":\"Uruguay\",\"visible\":false,\"x\":[\"GNI Rank\",\"Happiness Rank\"],\"y\":[31,28],\"type\":\"scatter\"},{\"hoverinfo\":\"text\",\"hovertext\":\"Lithuania\\u003cbr\\u003eGNI Rank: 32\\u003cbr\\u003eHappiness Rank: 33\\u003cbr\\u003eMismatch: 1\",\"line\":{\"color\":\"#1E88E5\",\"width\":2},\"mode\":\"lines+markers\",\"name\":\"Lithuania\",\"visible\":false,\"x\":[\"GNI Rank\",\"Happiness Rank\"],\"y\":[32,33],\"type\":\"scatter\"},{\"hoverinfo\":\"text\",\"hovertext\":\"Latvia\\u003cbr\\u003eGNI Rank: 33\\u003cbr\\u003eHappiness Rank: 43\\u003cbr\\u003eMismatch: 10\",\"line\":{\"color\":\"#1E88E5\",\"width\":2},\"mode\":\"lines+markers\",\"name\":\"Latvia\",\"visible\":false,\"x\":[\"GNI Rank\",\"Happiness Rank\"],\"y\":[33,43],\"type\":\"scatter\"},{\"hoverinfo\":\"text\",\"hovertext\":\"Panama\\u003cbr\\u003eGNI Rank: 34\\u003cbr\\u003eHappiness Rank: 26\\u003cbr\\u003eMismatch: 8\",\"line\":{\"color\":\"#1E88E5\",\"width\":2},\"mode\":\"lines+markers\",\"name\":\"Panama\",\"visible\":false,\"x\":[\"GNI Rank\",\"Happiness Rank\"],\"y\":[34,26],\"type\":\"scatter\"},{\"hoverinfo\":\"text\",\"hovertext\":\"Croatia\\u003cbr\\u003eGNI Rank: 35\\u003cbr\\u003eHappiness Rank: 62\\u003cbr\\u003eMismatch: 27\",\"line\":{\"color\":\"#1E88E5\",\"width\":2},\"mode\":\"lines+markers\",\"name\":\"Croatia\",\"visible\":false,\"x\":[\"GNI Rank\",\"Happiness Rank\"],\"y\":[35,62],\"type\":\"scatter\"},{\"hoverinfo\":\"text\",\"hovertext\":\"Poland\\u003cbr\\u003eGNI Rank: 36\\u003cbr\\u003eHappiness Rank: 32\\u003cbr\\u003eMismatch: 4\",\"line\":{\"color\":\"#1E88E5\",\"width\":2},\"mode\":\"lines+markers\",\"name\":\"Poland\",\"visible\":false,\"x\":[\"GNI Rank\",\"Happiness Rank\"],\"y\":[36,32],\"type\":\"scatter\"},{\"hoverinfo\":\"text\",\"hovertext\":\"Hungary\\u003cbr\\u003eGNI Rank: 37\\u003cbr\\u003eHappiness Rank: 51\\u003cbr\\u003eMismatch: 14\",\"line\":{\"color\":\"#1E88E5\",\"width\":2},\"mode\":\"lines+markers\",\"name\":\"Hungary\",\"visible\":false,\"x\":[\"GNI Rank\",\"Happiness Rank\"],\"y\":[37,51],\"type\":\"scatter\"},{\"hoverinfo\":\"text\",\"hovertext\":\"Chile\\u003cbr\\u003eGNI Rank: 38\\u003cbr\\u003eHappiness Rank: 23\\u003cbr\\u003eMismatch: 15\",\"line\":{\"color\":\"#1E88E5\",\"width\":2},\"mode\":\"lines+markers\",\"name\":\"Chile\",\"visible\":false,\"x\":[\"GNI Rank\",\"Happiness Rank\"],\"y\":[38,23],\"type\":\"scatter\"},{\"hoverinfo\":\"text\",\"hovertext\":\"Argentina\\u003cbr\\u003eGNI Rank: 39\\u003cbr\\u003eHappiness Rank: 38\\u003cbr\\u003eMismatch: 1\",\"line\":{\"color\":\"#1E88E5\",\"width\":2},\"mode\":\"lines+markers\",\"name\":\"Argentina\",\"visible\":false,\"x\":[\"GNI Rank\",\"Happiness Rank\"],\"y\":[39,38],\"type\":\"scatter\"},{\"hoverinfo\":\"text\",\"hovertext\":\"Costa Rica\\u003cbr\\u003eGNI Rank: 40\\u003cbr\\u003eHappiness Rank: 11\\u003cbr\\u003eMismatch: 29\",\"line\":{\"color\":\"#1E88E5\",\"width\":2},\"mode\":\"lines+markers\",\"name\":\"Costa Rica\",\"visible\":false,\"x\":[\"GNI Rank\",\"Happiness Rank\"],\"y\":[40,11],\"type\":\"scatter\"},{\"hoverinfo\":\"text\",\"hovertext\":\"Mauritius\\u003cbr\\u003eGNI Rank: 41\\u003cbr\\u003eHappiness Rank: 46\\u003cbr\\u003eMismatch: 5\",\"line\":{\"color\":\"#1E88E5\",\"width\":2},\"mode\":\"lines+markers\",\"name\":\"Mauritius\",\"visible\":false,\"x\":[\"GNI Rank\",\"Happiness Rank\"],\"y\":[41,46],\"type\":\"scatter\"},{\"hoverinfo\":\"text\",\"hovertext\":\"Romania\\u003cbr\\u003eGNI Rank: 42\\u003cbr\\u003eHappiness Rank: 39\\u003cbr\\u003eMismatch: 3\",\"line\":{\"color\":\"#1E88E5\",\"width\":2},\"mode\":\"lines+markers\",\"name\":\"Romania\",\"visible\":false,\"x\":[\"GNI Rank\",\"Happiness Rank\"],\"y\":[42,39],\"type\":\"scatter\"},{\"hoverinfo\":\"text\",\"hovertext\":\"Malaysia\\u003cbr\\u003eGNI Rank: 43\\u003cbr\\u003eHappiness Rank: 65\\u003cbr\\u003eMismatch: 22\",\"line\":{\"color\":\"#1E88E5\",\"width\":2},\"mode\":\"lines+markers\",\"name\":\"Malaysia\",\"visible\":false,\"x\":[\"GNI Rank\",\"Happiness Rank\"],\"y\":[43,65],\"type\":\"scatter\"},{\"hoverinfo\":\"text\",\"hovertext\":\"China\\u003cbr\\u003eGNI Rank: 44\\u003cbr\\u003eHappiness Rank: 74\\u003cbr\\u003eMismatch: 30\",\"line\":{\"color\":\"#1E88E5\",\"width\":2},\"mode\":\"lines+markers\",\"name\":\"China\",\"visible\":false,\"x\":[\"GNI Rank\",\"Happiness Rank\"],\"y\":[44,74],\"type\":\"scatter\"},{\"hoverinfo\":\"text\",\"hovertext\":\"Mexico\\u003cbr\\u003eGNI Rank: 45\\u003cbr\\u003eHappiness Rank: 21\\u003cbr\\u003eMismatch: 24\",\"line\":{\"color\":\"#1E88E5\",\"width\":2},\"mode\":\"lines+markers\",\"name\":\"Mexico\",\"visible\":false,\"x\":[\"GNI Rank\",\"Happiness Rank\"],\"y\":[45,21],\"type\":\"scatter\"},{\"hoverinfo\":\"text\",\"hovertext\":\"Kazakhstan\\u003cbr\\u003eGNI Rank: 46\\u003cbr\\u003eHappiness Rank: 49\\u003cbr\\u003eMismatch: 3\",\"line\":{\"color\":\"#1E88E5\",\"width\":2},\"mode\":\"lines+markers\",\"name\":\"Kazakhstan\",\"visible\":false,\"x\":[\"GNI Rank\",\"Happiness Rank\"],\"y\":[46,49],\"type\":\"scatter\"},{\"hoverinfo\":\"text\",\"hovertext\":\"Libya\\u003cbr\\u003eGNI Rank: 47\\u003cbr\\u003eHappiness Rank: 59\\u003cbr\\u003eMismatch: 12\",\"line\":{\"color\":\"#1E88E5\",\"width\":2},\"mode\":\"lines+markers\",\"name\":\"Libya\",\"visible\":false,\"x\":[\"GNI Rank\",\"Happiness Rank\"],\"y\":[47,59],\"type\":\"scatter\"},{\"hoverinfo\":\"text\",\"hovertext\":\"Brazil\\u003cbr\\u003eGNI Rank: 48\\u003cbr\\u003eHappiness Rank: 27\\u003cbr\\u003eMismatch: 21\",\"line\":{\"color\":\"#1E88E5\",\"width\":2},\"mode\":\"lines+markers\",\"name\":\"Brazil\",\"visible\":false,\"x\":[\"GNI Rank\",\"Happiness Rank\"],\"y\":[48,27],\"type\":\"scatter\"},{\"hoverinfo\":\"text\",\"hovertext\":\"Bulgaria\\u003cbr\\u003eGNI Rank: 49\\u003cbr\\u003eHappiness Rank: 77\\u003cbr\\u003eMismatch: 28\",\"line\":{\"color\":\"#1E88E5\",\"width\":2},\"mode\":\"lines+markers\",\"name\":\"Bulgaria\",\"visible\":false,\"x\":[\"GNI Rank\",\"Happiness Rank\"],\"y\":[49,77],\"type\":\"scatter\"},{\"hoverinfo\":\"text\",\"hovertext\":\"Lebanon\\u003cbr\\u003eGNI Rank: 50\\u003cbr\\u003eHappiness Rank: 72\\u003cbr\\u003eMismatch: 22\",\"line\":{\"color\":\"#1E88E5\",\"width\":2},\"mode\":\"lines+markers\",\"name\":\"Lebanon\",\"visible\":false,\"x\":[\"GNI Rank\",\"Happiness Rank\"],\"y\":[50,72],\"type\":\"scatter\"},{\"hoverinfo\":\"text\",\"hovertext\":\"Dominican Republic\\u003cbr\\u003eGNI Rank: 51\\u003cbr\\u003eHappiness Rank: 63\\u003cbr\\u003eMismatch: 12\",\"line\":{\"color\":\"#1E88E5\",\"width\":2},\"mode\":\"lines+markers\",\"name\":\"Dominican Republic\",\"visible\":false,\"x\":[\"GNI Rank\",\"Happiness Rank\"],\"y\":[51,63],\"type\":\"scatter\"},{\"hoverinfo\":\"text\",\"hovertext\":\"Montenegro\\u003cbr\\u003eGNI Rank: 52\\u003cbr\\u003eHappiness Rank: 60\\u003cbr\\u003eMismatch: 8\",\"line\":{\"color\":\"#1E88E5\",\"width\":2},\"mode\":\"lines+markers\",\"name\":\"Montenegro\",\"visible\":false,\"x\":[\"GNI Rank\",\"Happiness Rank\"],\"y\":[52,60],\"type\":\"scatter\"},{\"hoverinfo\":\"text\",\"hovertext\":\"Botswana\\u003cbr\\u003eGNI Rank: 53\\u003cbr\\u003eHappiness Rank: 113\\u003cbr\\u003eMismatch: 60\",\"line\":{\"color\":\"#D81B60\",\"width\":2},\"mode\":\"lines+markers\",\"name\":\"Botswana\",\"visible\":false,\"x\":[\"GNI Rank\",\"Happiness Rank\"],\"y\":[53,113],\"type\":\"scatter\"},{\"hoverinfo\":\"text\",\"hovertext\":\"Serbia\\u003cbr\\u003eGNI Rank: 54\\u003cbr\\u003eHappiness Rank: 57\\u003cbr\\u003eMismatch: 3\",\"line\":{\"color\":\"#1E88E5\",\"width\":2},\"mode\":\"lines+markers\",\"name\":\"Serbia\",\"visible\":false,\"x\":[\"GNI Rank\",\"Happiness Rank\"],\"y\":[54,57],\"type\":\"scatter\"},{\"hoverinfo\":\"text\",\"hovertext\":\"Peru\\u003cbr\\u003eGNI Rank: 55\\u003cbr\\u003eHappiness Rank: 53\\u003cbr\\u003eMismatch: 2\",\"line\":{\"color\":\"#1E88E5\",\"width\":2},\"mode\":\"lines+markers\",\"name\":\"Peru\",\"visible\":false,\"x\":[\"GNI Rank\",\"Happiness Rank\"],\"y\":[55,53],\"type\":\"scatter\"},{\"hoverinfo\":\"text\",\"hovertext\":\"Colombia\\u003cbr\\u003eGNI Rank: 56\\u003cbr\\u003eHappiness Rank: 34\\u003cbr\\u003eMismatch: 22\",\"line\":{\"color\":\"#1E88E5\",\"width\":2},\"mode\":\"lines+markers\",\"name\":\"Colombia\",\"visible\":false,\"x\":[\"GNI Rank\",\"Happiness Rank\"],\"y\":[56,34],\"type\":\"scatter\"},{\"hoverinfo\":\"text\",\"hovertext\":\"Belarus\\u003cbr\\u003eGNI Rank: 57\\u003cbr\\u003eHappiness Rank: 66\\u003cbr\\u003eMismatch: 9\",\"line\":{\"color\":\"#1E88E5\",\"width\":2},\"mode\":\"lines+markers\",\"name\":\"Belarus\",\"visible\":false,\"x\":[\"GNI Rank\",\"Happiness Rank\"],\"y\":[57,66],\"type\":\"scatter\"},{\"hoverinfo\":\"text\",\"hovertext\":\"Paraguay\\u003cbr\\u003eGNI Rank: 58\\u003cbr\\u003eHappiness Rank: 52\\u003cbr\\u003eMismatch: 6\",\"line\":{\"color\":\"#1E88E5\",\"width\":2},\"mode\":\"lines+markers\",\"name\":\"Paraguay\",\"visible\":false,\"x\":[\"GNI Rank\",\"Happiness Rank\"],\"y\":[58,52],\"type\":\"scatter\"},{\"hoverinfo\":\"text\",\"hovertext\":\"South Africa\\u003cbr\\u003eGNI Rank: 59\\u003cbr\\u003eHappiness Rank: 82\\u003cbr\\u003eMismatch: 23\",\"line\":{\"color\":\"#1E88E5\",\"width\":2},\"mode\":\"lines+markers\",\"name\":\"South Africa\",\"visible\":false,\"x\":[\"GNI Rank\",\"Happiness Rank\"],\"y\":[59,82],\"type\":\"scatter\"},{\"hoverinfo\":\"text\",\"hovertext\":\"Gabon\\u003cbr\\u003eGNI Rank: 60\\u003cbr\\u003eHappiness Rank: 81\\u003cbr\\u003eMismatch: 21\",\"line\":{\"color\":\"#1E88E5\",\"width\":2},\"mode\":\"lines+markers\",\"name\":\"Gabon\",\"visible\":false,\"x\":[\"GNI Rank\",\"Happiness Rank\"],\"y\":[60,81],\"type\":\"scatter\"},{\"hoverinfo\":\"text\",\"hovertext\":\"Ecuador\\u003cbr\\u003eGNI Rank: 61\\u003cbr\\u003eHappiness Rank: 41\\u003cbr\\u003eMismatch: 20\",\"line\":{\"color\":\"#1E88E5\",\"width\":2},\"mode\":\"lines+markers\",\"name\":\"Ecuador\",\"visible\":false,\"x\":[\"GNI Rank\",\"Happiness Rank\"],\"y\":[61,41],\"type\":\"scatter\"},{\"hoverinfo\":\"text\",\"hovertext\":\"North Macedonia\\u003cbr\\u003eGNI Rank: 62\\u003cbr\\u003eHappiness Rank: 69\\u003cbr\\u003eMismatch: 7\",\"line\":{\"color\":\"#1E88E5\",\"width\":2},\"mode\":\"lines+markers\",\"name\":\"North Macedonia\",\"visible\":false,\"x\":[\"GNI Rank\",\"Happiness Rank\"],\"y\":[62,69],\"type\":\"scatter\"},{\"hoverinfo\":\"text\",\"hovertext\":\"Bosnia and Herzegovina\\u003cbr\\u003eGNI Rank: 63\\u003cbr\\u003eHappiness Rank: 64\\u003cbr\\u003eMismatch: 1\",\"line\":{\"color\":\"#1E88E5\",\"width\":2},\"mode\":\"lines+markers\",\"name\":\"Bosnia and Herzegovina\",\"visible\":false,\"x\":[\"GNI Rank\",\"Happiness Rank\"],\"y\":[63,64],\"type\":\"scatter\"},{\"hoverinfo\":\"text\",\"hovertext\":\"Jamaica\\u003cbr\\u003eGNI Rank: 64\\u003cbr\\u003eHappiness Rank: 45\\u003cbr\\u003eMismatch: 19\",\"line\":{\"color\":\"#1E88E5\",\"width\":2},\"mode\":\"lines+markers\",\"name\":\"Jamaica\",\"visible\":false,\"x\":[\"GNI Rank\",\"Happiness Rank\"],\"y\":[64,45],\"type\":\"scatter\"},{\"hoverinfo\":\"text\",\"hovertext\":\"Iraq\\u003cbr\\u003eGNI Rank: 65\\u003cbr\\u003eHappiness Rank: 97\\u003cbr\\u003eMismatch: 32\",\"line\":{\"color\":\"#D81B60\",\"width\":2},\"mode\":\"lines+markers\",\"name\":\"Iraq\",\"visible\":false,\"x\":[\"GNI Rank\",\"Happiness Rank\"],\"y\":[65,97],\"type\":\"scatter\"},{\"hoverinfo\":\"text\",\"hovertext\":\"Georgia\\u003cbr\\u003eGNI Rank: 66\\u003cbr\\u003eHappiness Rank: 92\\u003cbr\\u003eMismatch: 26\",\"line\":{\"color\":\"#1E88E5\",\"width\":2},\"mode\":\"lines+markers\",\"name\":\"Georgia\",\"visible\":false,\"x\":[\"GNI Rank\",\"Happiness Rank\"],\"y\":[66,92],\"type\":\"scatter\"},{\"hoverinfo\":\"text\",\"hovertext\":\"Algeria\\u003cbr\\u003eGNI Rank: 67\\u003cbr\\u003eHappiness Rank: 70\\u003cbr\\u003eMismatch: 3\",\"line\":{\"color\":\"#1E88E5\",\"width\":2},\"mode\":\"lines+markers\",\"name\":\"Algeria\",\"visible\":false,\"x\":[\"GNI Rank\",\"Happiness Rank\"],\"y\":[67,70],\"type\":\"scatter\"},{\"hoverinfo\":\"text\",\"hovertext\":\"Albania\\u003cbr\\u003eGNI Rank: 68\\u003cbr\\u003eHappiness Rank: 83\\u003cbr\\u003eMismatch: 15\",\"line\":{\"color\":\"#1E88E5\",\"width\":2},\"mode\":\"lines+markers\",\"name\":\"Albania\",\"visible\":false,\"x\":[\"GNI Rank\",\"Happiness Rank\"],\"y\":[68,83],\"type\":\"scatter\"},{\"hoverinfo\":\"text\",\"hovertext\":\"Armenia\\u003cbr\\u003eGNI Rank: 69\\u003cbr\\u003eHappiness Rank: 90\\u003cbr\\u003eMismatch: 21\",\"line\":{\"color\":\"#1E88E5\",\"width\":2},\"mode\":\"lines+markers\",\"name\":\"Armenia\",\"visible\":false,\"x\":[\"GNI Rank\",\"Happiness Rank\"],\"y\":[69,90],\"type\":\"scatter\"},{\"hoverinfo\":\"text\",\"hovertext\":\"Sri Lanka\\u003cbr\\u003eGNI Rank: 70\\u003cbr\\u003eHappiness Rank: 100\\u003cbr\\u003eMismatch: 30\",\"line\":{\"color\":\"#1E88E5\",\"width\":2},\"mode\":\"lines+markers\",\"name\":\"Sri Lanka\",\"visible\":false,\"x\":[\"GNI Rank\",\"Happiness Rank\"],\"y\":[70,100],\"type\":\"scatter\"},{\"hoverinfo\":\"text\",\"hovertext\":\"Kosovo\\u003cbr\\u003eGNI Rank: 71\\u003cbr\\u003eHappiness Rank: 37\\u003cbr\\u003eMismatch: 34\",\"line\":{\"color\":\"#D81B60\",\"width\":2},\"mode\":\"lines+markers\",\"name\":\"Kosovo\",\"visible\":false,\"x\":[\"GNI Rank\",\"Happiness Rank\"],\"y\":[71,37],\"type\":\"scatter\"},{\"hoverinfo\":\"text\",\"hovertext\":\"Namibia\\u003cbr\\u003eGNI Rank: 72\\u003cbr\\u003eHappiness Rank: 87\\u003cbr\\u003eMismatch: 15\",\"line\":{\"color\":\"#1E88E5\",\"width\":2},\"mode\":\"lines+markers\",\"name\":\"Namibia\",\"visible\":false,\"x\":[\"GNI Rank\",\"Happiness Rank\"],\"y\":[72,87],\"type\":\"scatter\"},{\"hoverinfo\":\"text\",\"hovertext\":\"Guatemala\\u003cbr\\u003eGNI Rank: 73\\u003cbr\\u003eHappiness Rank: 24\\u003cbr\\u003eMismatch: 49\",\"line\":{\"color\":\"#D81B60\",\"width\":2},\"mode\":\"lines+markers\",\"name\":\"Guatemala\",\"visible\":false,\"x\":[\"GNI Rank\",\"Happiness Rank\"],\"y\":[73,24],\"type\":\"scatter\"},{\"hoverinfo\":\"text\",\"hovertext\":\"Tunisia\\u003cbr\\u003eGNI Rank: 74\\u003cbr\\u003eHappiness Rank: 96\\u003cbr\\u003eMismatch: 22\",\"line\":{\"color\":\"#1E88E5\",\"width\":2},\"mode\":\"lines+markers\",\"name\":\"Tunisia\",\"visible\":false,\"x\":[\"GNI Rank\",\"Happiness Rank\"],\"y\":[74,96],\"type\":\"scatter\"},{\"hoverinfo\":\"text\",\"hovertext\":\"El Salvador\\u003cbr\\u003eGNI Rank: 75\\u003cbr\\u003eHappiness Rank: 29\\u003cbr\\u003eMismatch: 46\",\"line\":{\"color\":\"#D81B60\",\"width\":2},\"mode\":\"lines+markers\",\"name\":\"El Salvador\",\"visible\":false,\"x\":[\"GNI Rank\",\"Happiness Rank\"],\"y\":[75,29],\"type\":\"scatter\"},{\"hoverinfo\":\"text\",\"hovertext\":\"Philippines\\u003cbr\\u003eGNI Rank: 76\\u003cbr\\u003eHappiness Rank: 56\\u003cbr\\u003eMismatch: 20\",\"line\":{\"color\":\"#1E88E5\",\"width\":2},\"mode\":\"lines+markers\",\"name\":\"Philippines\",\"visible\":false,\"x\":[\"GNI Rank\",\"Happiness Rank\"],\"y\":[76,56],\"type\":\"scatter\"},{\"hoverinfo\":\"text\",\"hovertext\":\"Mongolia\\u003cbr\\u003eGNI Rank: 77\\u003cbr\\u003eHappiness Rank: 68\\u003cbr\\u003eMismatch: 9\",\"line\":{\"color\":\"#1E88E5\",\"width\":2},\"mode\":\"lines+markers\",\"name\":\"Mongolia\",\"visible\":false,\"x\":[\"GNI Rank\",\"Happiness Rank\"],\"y\":[77,68],\"type\":\"scatter\"},{\"hoverinfo\":\"text\",\"hovertext\":\"Indonesia\\u003cbr\\u003eGNI Rank: 78\\u003cbr\\u003eHappiness Rank: 73\\u003cbr\\u003eMismatch: 5\",\"line\":{\"color\":\"#1E88E5\",\"width\":2},\"mode\":\"lines+markers\",\"name\":\"Indonesia\",\"visible\":false,\"x\":[\"GNI Rank\",\"Happiness Rank\"],\"y\":[78,73],\"type\":\"scatter\"},{\"hoverinfo\":\"text\",\"hovertext\":\"Moldova\\u003cbr\\u003eGNI Rank: 79\\u003cbr\\u003eHappiness Rank: 58\\u003cbr\\u003eMismatch: 21\",\"line\":{\"color\":\"#1E88E5\",\"width\":2},\"mode\":\"lines+markers\",\"name\":\"Moldova\",\"visible\":false,\"x\":[\"GNI Rank\",\"Happiness Rank\"],\"y\":[79,58],\"type\":\"scatter\"},{\"hoverinfo\":\"text\",\"hovertext\":\"Morocco\\u003cbr\\u003eGNI Rank: 80\\u003cbr\\u003eHappiness Rank: 71\\u003cbr\\u003eMismatch: 9\",\"line\":{\"color\":\"#1E88E5\",\"width\":2},\"mode\":\"lines+markers\",\"name\":\"Morocco\",\"visible\":false,\"x\":[\"GNI Rank\",\"Happiness Rank\"],\"y\":[80,71],\"type\":\"scatter\"},{\"hoverinfo\":\"text\",\"hovertext\":\"Bolivia\\u003cbr\\u003eGNI Rank: 81\\u003cbr\\u003eHappiness Rank: 50\\u003cbr\\u003eMismatch: 31\",\"line\":{\"color\":\"#D81B60\",\"width\":2},\"mode\":\"lines+markers\",\"name\":\"Bolivia\",\"visible\":false,\"x\":[\"GNI Rank\",\"Happiness Rank\"],\"y\":[81,50],\"type\":\"scatter\"},{\"hoverinfo\":\"text\",\"hovertext\":\"Bhutan\\u003cbr\\u003eGNI Rank: 82\\u003cbr\\u003eHappiness Rank: 75\\u003cbr\\u003eMismatch: 7\",\"line\":{\"color\":\"#1E88E5\",\"width\":2},\"mode\":\"lines+markers\",\"name\":\"Bhutan\",\"visible\":false,\"x\":[\"GNI Rank\",\"Happiness Rank\"],\"y\":[82,75],\"type\":\"scatter\"},{\"hoverinfo\":\"text\",\"hovertext\":\"Ukraine\\u003cbr\\u003eGNI Rank: 83\\u003cbr\\u003eHappiness Rank: 102\\u003cbr\\u003eMismatch: 19\",\"line\":{\"color\":\"#1E88E5\",\"width\":2},\"mode\":\"lines+markers\",\"name\":\"Ukraine\",\"visible\":false,\"x\":[\"GNI Rank\",\"Happiness Rank\"],\"y\":[83,102],\"type\":\"scatter\"},{\"hoverinfo\":\"text\",\"hovertext\":\"Honduras\\u003cbr\\u003eGNI Rank: 84\\u003cbr\\u003eHappiness Rank: 48\\u003cbr\\u003eMismatch: 36\",\"line\":{\"color\":\"#D81B60\",\"width\":2},\"mode\":\"lines+markers\",\"name\":\"Honduras\",\"visible\":false,\"x\":[\"GNI Rank\",\"Happiness Rank\"],\"y\":[84,48],\"type\":\"scatter\"},{\"hoverinfo\":\"text\",\"hovertext\":\"Nicaragua\\u003cbr\\u003eGNI Rank: 85\\u003cbr\\u003eHappiness Rank: 36\\u003cbr\\u003eMismatch: 49\",\"line\":{\"color\":\"#D81B60\",\"width\":2},\"mode\":\"lines+markers\",\"name\":\"Nicaragua\",\"visible\":false,\"x\":[\"GNI Rank\",\"Happiness Rank\"],\"y\":[85,36],\"type\":\"scatter\"},{\"hoverinfo\":\"text\",\"hovertext\":\"India\\u003cbr\\u003eGNI Rank: 86\\u003cbr\\u003eHappiness Rank: 106\\u003cbr\\u003eMismatch: 20\",\"line\":{\"color\":\"#1E88E5\",\"width\":2},\"mode\":\"lines+markers\",\"name\":\"India\",\"visible\":false,\"x\":[\"GNI Rank\",\"Happiness Rank\"],\"y\":[86,106],\"type\":\"scatter\"},{\"hoverinfo\":\"text\",\"hovertext\":\"Ghana\\u003cbr\\u003eGNI Rank: 87\\u003cbr\\u003eHappiness Rank: 78\\u003cbr\\u003eMismatch: 9\",\"line\":{\"color\":\"#1E88E5\",\"width\":2},\"mode\":\"lines+markers\",\"name\":\"Ghana\",\"visible\":false,\"x\":[\"GNI Rank\",\"Happiness Rank\"],\"y\":[87,78],\"type\":\"scatter\"},{\"hoverinfo\":\"text\",\"hovertext\":\"Cambodia\\u003cbr\\u003eGNI Rank: 88\\u003cbr\\u003eHappiness Rank: 84\\u003cbr\\u003eMismatch: 4\",\"line\":{\"color\":\"#1E88E5\",\"width\":2},\"mode\":\"lines+markers\",\"name\":\"Cambodia\",\"visible\":false,\"x\":[\"GNI Rank\",\"Happiness Rank\"],\"y\":[88,84],\"type\":\"scatter\"},{\"hoverinfo\":\"text\",\"hovertext\":\"Kenya\\u003cbr\\u003eGNI Rank: 89\\u003cbr\\u003eHappiness Rank: 93\\u003cbr\\u003eMismatch: 4\",\"line\":{\"color\":\"#1E88E5\",\"width\":2},\"mode\":\"lines+markers\",\"name\":\"Kenya\",\"visible\":false,\"x\":[\"GNI Rank\",\"Happiness Rank\"],\"y\":[89,93],\"type\":\"scatter\"},{\"hoverinfo\":\"text\",\"hovertext\":\"Mauritania\\u003cbr\\u003eGNI Rank: 90\\u003cbr\\u003eHappiness Rank: 94\\u003cbr\\u003eMismatch: 4\",\"line\":{\"color\":\"#1E88E5\",\"width\":2},\"mode\":\"lines+markers\",\"name\":\"Mauritania\",\"visible\":false,\"x\":[\"GNI Rank\",\"Happiness Rank\"],\"y\":[90,94],\"type\":\"scatter\"},{\"hoverinfo\":\"text\",\"hovertext\":\"Pakistan\\u003cbr\\u003eGNI Rank: 91\\u003cbr\\u003eHappiness Rank: 55\\u003cbr\\u003eMismatch: 36\",\"line\":{\"color\":\"#D81B60\",\"width\":2},\"mode\":\"lines+markers\",\"name\":\"Pakistan\",\"visible\":false,\"x\":[\"GNI Rank\",\"Happiness Rank\"],\"y\":[91,55],\"type\":\"scatter\"},{\"hoverinfo\":\"text\",\"hovertext\":\"Cameroon\\u003cbr\\u003eGNI Rank: 92\\u003cbr\\u003eHappiness Rank: 76\\u003cbr\\u003eMismatch: 16\",\"line\":{\"color\":\"#1E88E5\",\"width\":2},\"mode\":\"lines+markers\",\"name\":\"Cameroon\",\"visible\":false,\"x\":[\"GNI Rank\",\"Happiness Rank\"],\"y\":[92,76],\"type\":\"scatter\"},{\"hoverinfo\":\"text\",\"hovertext\":\"Haiti\\u003cbr\\u003eGNI Rank: 93\\u003cbr\\u003eHappiness Rank: 112\\u003cbr\\u003eMismatch: 19\",\"line\":{\"color\":\"#1E88E5\",\"width\":2},\"mode\":\"lines+markers\",\"name\":\"Haiti\",\"visible\":false,\"x\":[\"GNI Rank\",\"Happiness Rank\"],\"y\":[93,112],\"type\":\"scatter\"},{\"hoverinfo\":\"text\",\"hovertext\":\"Comoros\\u003cbr\\u003eGNI Rank: 94\\u003cbr\\u003eHappiness Rank: 107\\u003cbr\\u003eMismatch: 13\",\"line\":{\"color\":\"#1E88E5\",\"width\":2},\"mode\":\"lines+markers\",\"name\":\"Comoros\",\"visible\":false,\"x\":[\"GNI Rank\",\"Happiness Rank\"],\"y\":[94,107],\"type\":\"scatter\"},{\"hoverinfo\":\"text\",\"hovertext\":\"Tajikistan\\u003cbr\\u003eGNI Rank: 95\\u003cbr\\u003eHappiness Rank: 61\\u003cbr\\u003eMismatch: 34\",\"line\":{\"color\":\"#D81B60\",\"width\":2},\"mode\":\"lines+markers\",\"name\":\"Tajikistan\",\"visible\":false,\"x\":[\"GNI Rank\",\"Happiness Rank\"],\"y\":[95,61],\"type\":\"scatter\"},{\"hoverinfo\":\"text\",\"hovertext\":\"Senegal\\u003cbr\\u003eGNI Rank: 96\\u003cbr\\u003eHappiness Rank: 85\\u003cbr\\u003eMismatch: 11\",\"line\":{\"color\":\"#1E88E5\",\"width\":2},\"mode\":\"lines+markers\",\"name\":\"Senegal\",\"visible\":false,\"x\":[\"GNI Rank\",\"Happiness Rank\"],\"y\":[96,85],\"type\":\"scatter\"},{\"hoverinfo\":\"text\",\"hovertext\":\"Zimbabwe\\u003cbr\\u003eGNI Rank: 97\\u003cbr\\u003eHappiness Rank: 111\\u003cbr\\u003eMismatch: 14\",\"line\":{\"color\":\"#1E88E5\",\"width\":2},\"mode\":\"lines+markers\",\"name\":\"Zimbabwe\",\"visible\":false,\"x\":[\"GNI Rank\",\"Happiness Rank\"],\"y\":[97,111],\"type\":\"scatter\"},{\"hoverinfo\":\"text\",\"hovertext\":\"Lesotho\\u003cbr\\u003eGNI Rank: 98\\u003cbr\\u003eHappiness Rank: 109\\u003cbr\\u003eMismatch: 11\",\"line\":{\"color\":\"#1E88E5\",\"width\":2},\"mode\":\"lines+markers\",\"name\":\"Lesotho\",\"visible\":false,\"x\":[\"GNI Rank\",\"Happiness Rank\"],\"y\":[98,109],\"type\":\"scatter\"},{\"hoverinfo\":\"text\",\"hovertext\":\"Benin\\u003cbr\\u003eGNI Rank: 99\\u003cbr\\u003eHappiness Rank: 80\\u003cbr\\u003eMismatch: 19\",\"line\":{\"color\":\"#1E88E5\",\"width\":2},\"mode\":\"lines+markers\",\"name\":\"Benin\",\"visible\":false,\"x\":[\"GNI Rank\",\"Happiness Rank\"],\"y\":[99,80],\"type\":\"scatter\"},{\"hoverinfo\":\"text\",\"hovertext\":\"Nepal\\u003cbr\\u003eGNI Rank: 100\\u003cbr\\u003eHappiness Rank: 79\\u003cbr\\u003eMismatch: 21\",\"line\":{\"color\":\"#1E88E5\",\"width\":2},\"mode\":\"lines+markers\",\"name\":\"Nepal\",\"visible\":false,\"x\":[\"GNI Rank\",\"Happiness Rank\"],\"y\":[100,79],\"type\":\"scatter\"},{\"hoverinfo\":\"text\",\"hovertext\":\"Tanzania\\u003cbr\\u003eGNI Rank: 101\\u003cbr\\u003eHappiness Rank: 115\\u003cbr\\u003eMismatch: 14\",\"line\":{\"color\":\"#1E88E5\",\"width\":2},\"mode\":\"lines+markers\",\"name\":\"Tanzania\",\"visible\":false,\"x\":[\"GNI Rank\",\"Happiness Rank\"],\"y\":[101,115],\"type\":\"scatter\"},{\"hoverinfo\":\"text\",\"hovertext\":\"Sierra Leone\\u003cbr\\u003eGNI Rank: 102\\u003cbr\\u003eHappiness Rank: 99\\u003cbr\\u003eMismatch: 3\",\"line\":{\"color\":\"#1E88E5\",\"width\":2},\"mode\":\"lines+markers\",\"name\":\"Sierra Leone\",\"visible\":false,\"x\":[\"GNI Rank\",\"Happiness Rank\"],\"y\":[102,99],\"type\":\"scatter\"},{\"hoverinfo\":\"text\",\"hovertext\":\"Guinea\\u003cbr\\u003eGNI Rank: 103\\u003cbr\\u003eHappiness Rank: 91\\u003cbr\\u003eMismatch: 12\",\"line\":{\"color\":\"#1E88E5\",\"width\":2},\"mode\":\"lines+markers\",\"name\":\"Guinea\",\"visible\":false,\"x\":[\"GNI Rank\",\"Happiness Rank\"],\"y\":[103,91],\"type\":\"scatter\"},{\"hoverinfo\":\"text\",\"hovertext\":\"Uganda\\u003cbr\\u003eGNI Rank: 104\\u003cbr\\u003eHappiness Rank: 104\\u003cbr\\u003eMismatch: 0\",\"line\":{\"color\":\"#1E88E5\",\"width\":2},\"mode\":\"lines+markers\",\"name\":\"Uganda\",\"visible\":false,\"x\":[\"GNI Rank\",\"Happiness Rank\"],\"y\":[104,104],\"type\":\"scatter\"},{\"hoverinfo\":\"text\",\"hovertext\":\"Rwanda\\u003cbr\\u003eGNI Rank: 105\\u003cbr\\u003eHappiness Rank: 114\\u003cbr\\u003eMismatch: 9\",\"line\":{\"color\":\"#1E88E5\",\"width\":2},\"mode\":\"lines+markers\",\"name\":\"Rwanda\",\"visible\":false,\"x\":[\"GNI Rank\",\"Happiness Rank\"],\"y\":[105,114],\"type\":\"scatter\"},{\"hoverinfo\":\"text\",\"hovertext\":\"Togo\\u003cbr\\u003eGNI Rank: 106\\u003cbr\\u003eHappiness Rank: 105\\u003cbr\\u003eMismatch: 1\",\"line\":{\"color\":\"#1E88E5\",\"width\":2},\"mode\":\"lines+markers\",\"name\":\"Togo\",\"visible\":false,\"x\":[\"GNI Rank\",\"Happiness Rank\"],\"y\":[106,105],\"type\":\"scatter\"},{\"hoverinfo\":\"text\",\"hovertext\":\"Ethiopia\\u003cbr\\u003eGNI Rank: 107\\u003cbr\\u003eHappiness Rank: 103\\u003cbr\\u003eMismatch: 4\",\"line\":{\"color\":\"#1E88E5\",\"width\":2},\"mode\":\"lines+markers\",\"name\":\"Ethiopia\",\"visible\":false,\"x\":[\"GNI Rank\",\"Happiness Rank\"],\"y\":[107,103],\"type\":\"scatter\"},{\"hoverinfo\":\"text\",\"hovertext\":\"Mali\\u003cbr\\u003eGNI Rank: 108\\u003cbr\\u003eHappiness Rank: 98\\u003cbr\\u003eMismatch: 10\",\"line\":{\"color\":\"#1E88E5\",\"width\":2},\"mode\":\"lines+markers\",\"name\":\"Mali\",\"visible\":false,\"x\":[\"GNI Rank\",\"Happiness Rank\"],\"y\":[108,98],\"type\":\"scatter\"},{\"hoverinfo\":\"text\",\"hovertext\":\"Burkina Faso\\u003cbr\\u003eGNI Rank: 109\\u003cbr\\u003eHappiness Rank: 89\\u003cbr\\u003eMismatch: 20\",\"line\":{\"color\":\"#1E88E5\",\"width\":2},\"mode\":\"lines+markers\",\"name\":\"Burkina Faso\",\"visible\":false,\"x\":[\"GNI Rank\",\"Happiness Rank\"],\"y\":[109,89],\"type\":\"scatter\"},{\"hoverinfo\":\"text\",\"hovertext\":\"Chad\\u003cbr\\u003eGNI Rank: 110\\u003cbr\\u003eHappiness Rank: 101\\u003cbr\\u003eMismatch: 9\",\"line\":{\"color\":\"#1E88E5\",\"width\":2},\"mode\":\"lines+markers\",\"name\":\"Chad\",\"visible\":false,\"x\":[\"GNI Rank\",\"Happiness Rank\"],\"y\":[110,101],\"type\":\"scatter\"},{\"hoverinfo\":\"text\",\"hovertext\":\"Mozambique\\u003cbr\\u003eGNI Rank: 111\\u003cbr\\u003eHappiness Rank: 95\\u003cbr\\u003eMismatch: 16\",\"line\":{\"color\":\"#1E88E5\",\"width\":2},\"mode\":\"lines+markers\",\"name\":\"Mozambique\",\"visible\":false,\"x\":[\"GNI Rank\",\"Happiness Rank\"],\"y\":[111,95],\"type\":\"scatter\"},{\"hoverinfo\":\"text\",\"hovertext\":\"Niger\\u003cbr\\u003eGNI Rank: 112\\u003cbr\\u003eHappiness Rank: 88\\u003cbr\\u003eMismatch: 24\",\"line\":{\"color\":\"#1E88E5\",\"width\":2},\"mode\":\"lines+markers\",\"name\":\"Niger\",\"visible\":false,\"x\":[\"GNI Rank\",\"Happiness Rank\"],\"y\":[112,88],\"type\":\"scatter\"},{\"hoverinfo\":\"text\",\"hovertext\":\"Somalia\\u003cbr\\u003eGNI Rank: 113\\u003cbr\\u003eHappiness Rank: 86\\u003cbr\\u003eMismatch: 27\",\"line\":{\"color\":\"#1E88E5\",\"width\":2},\"mode\":\"lines+markers\",\"name\":\"Somalia\",\"visible\":false,\"x\":[\"GNI Rank\",\"Happiness Rank\"],\"y\":[113,86],\"type\":\"scatter\"},{\"hoverinfo\":\"text\",\"hovertext\":\"Madagascar\\u003cbr\\u003eGNI Rank: 114\\u003cbr\\u003eHappiness Rank: 108\\u003cbr\\u003eMismatch: 6\",\"line\":{\"color\":\"#1E88E5\",\"width\":2},\"mode\":\"lines+markers\",\"name\":\"Madagascar\",\"visible\":false,\"x\":[\"GNI Rank\",\"Happiness Rank\"],\"y\":[114,108],\"type\":\"scatter\"},{\"hoverinfo\":\"text\",\"hovertext\":\"Central African Republic\\u003cbr\\u003eGNI Rank: 115\\u003cbr\\u003eHappiness Rank: 116\\u003cbr\\u003eMismatch: 1\",\"line\":{\"color\":\"#1E88E5\",\"width\":2},\"mode\":\"lines+markers\",\"name\":\"Central African Republic\",\"visible\":false,\"x\":[\"GNI Rank\",\"Happiness Rank\"],\"y\":[115,116],\"type\":\"scatter\"},{\"hoverinfo\":\"text\",\"hovertext\":\"Burundi\\u003cbr\\u003eGNI Rank: 116\\u003cbr\\u003eHappiness Rank: 110\\u003cbr\\u003eMismatch: 6\",\"line\":{\"color\":\"#1E88E5\",\"width\":2},\"mode\":\"lines+markers\",\"name\":\"Burundi\",\"visible\":false,\"x\":[\"GNI Rank\",\"Happiness Rank\"],\"y\":[116,110],\"type\":\"scatter\"}],                        {\"template\":{\"data\":{\"histogram2dcontour\":[{\"type\":\"histogram2dcontour\",\"colorbar\":{\"outlinewidth\":0,\"ticks\":\"\"},\"colorscale\":[[0.0,\"#0d0887\"],[0.1111111111111111,\"#46039f\"],[0.2222222222222222,\"#7201a8\"],[0.3333333333333333,\"#9c179e\"],[0.4444444444444444,\"#bd3786\"],[0.5555555555555556,\"#d8576b\"],[0.6666666666666666,\"#ed7953\"],[0.7777777777777778,\"#fb9f3a\"],[0.8888888888888888,\"#fdca26\"],[1.0,\"#f0f921\"]]}],\"choropleth\":[{\"type\":\"choropleth\",\"colorbar\":{\"outlinewidth\":0,\"ticks\":\"\"}}],\"histogram2d\":[{\"type\":\"histogram2d\",\"colorbar\":{\"outlinewidth\":0,\"ticks\":\"\"},\"colorscale\":[[0.0,\"#0d0887\"],[0.1111111111111111,\"#46039f\"],[0.2222222222222222,\"#7201a8\"],[0.3333333333333333,\"#9c179e\"],[0.4444444444444444,\"#bd3786\"],[0.5555555555555556,\"#d8576b\"],[0.6666666666666666,\"#ed7953\"],[0.7777777777777778,\"#fb9f3a\"],[0.8888888888888888,\"#fdca26\"],[1.0,\"#f0f921\"]]}],\"heatmap\":[{\"type\":\"heatmap\",\"colorbar\":{\"outlinewidth\":0,\"ticks\":\"\"},\"colorscale\":[[0.0,\"#0d0887\"],[0.1111111111111111,\"#46039f\"],[0.2222222222222222,\"#7201a8\"],[0.3333333333333333,\"#9c179e\"],[0.4444444444444444,\"#bd3786\"],[0.5555555555555556,\"#d8576b\"],[0.6666666666666666,\"#ed7953\"],[0.7777777777777778,\"#fb9f3a\"],[0.8888888888888888,\"#fdca26\"],[1.0,\"#f0f921\"]]}],\"contourcarpet\":[{\"type\":\"contourcarpet\",\"colorbar\":{\"outlinewidth\":0,\"ticks\":\"\"}}],\"contour\":[{\"type\":\"contour\",\"colorbar\":{\"outlinewidth\":0,\"ticks\":\"\"},\"colorscale\":[[0.0,\"#0d0887\"],[0.1111111111111111,\"#46039f\"],[0.2222222222222222,\"#7201a8\"],[0.3333333333333333,\"#9c179e\"],[0.4444444444444444,\"#bd3786\"],[0.5555555555555556,\"#d8576b\"],[0.6666666666666666,\"#ed7953\"],[0.7777777777777778,\"#fb9f3a\"],[0.8888888888888888,\"#fdca26\"],[1.0,\"#f0f921\"]]}],\"surface\":[{\"type\":\"surface\",\"colorbar\":{\"outlinewidth\":0,\"ticks\":\"\"},\"colorscale\":[[0.0,\"#0d0887\"],[0.1111111111111111,\"#46039f\"],[0.2222222222222222,\"#7201a8\"],[0.3333333333333333,\"#9c179e\"],[0.4444444444444444,\"#bd3786\"],[0.5555555555555556,\"#d8576b\"],[0.6666666666666666,\"#ed7953\"],[0.7777777777777778,\"#fb9f3a\"],[0.8888888888888888,\"#fdca26\"],[1.0,\"#f0f921\"]]}],\"mesh3d\":[{\"type\":\"mesh3d\",\"colorbar\":{\"outlinewidth\":0,\"ticks\":\"\"}}],\"scatter\":[{\"fillpattern\":{\"fillmode\":\"overlay\",\"size\":10,\"solidity\":0.2},\"type\":\"scatter\"}],\"parcoords\":[{\"type\":\"parcoords\",\"line\":{\"colorbar\":{\"outlinewidth\":0,\"ticks\":\"\"}}}],\"scatterpolargl\":[{\"type\":\"scatterpolargl\",\"marker\":{\"colorbar\":{\"outlinewidth\":0,\"ticks\":\"\"}}}],\"bar\":[{\"error_x\":{\"color\":\"#2a3f5f\"},\"error_y\":{\"color\":\"#2a3f5f\"},\"marker\":{\"line\":{\"color\":\"#E5ECF6\",\"width\":0.5},\"pattern\":{\"fillmode\":\"overlay\",\"size\":10,\"solidity\":0.2}},\"type\":\"bar\"}],\"scattergeo\":[{\"type\":\"scattergeo\",\"marker\":{\"colorbar\":{\"outlinewidth\":0,\"ticks\":\"\"}}}],\"scatterpolar\":[{\"type\":\"scatterpolar\",\"marker\":{\"colorbar\":{\"outlinewidth\":0,\"ticks\":\"\"}}}],\"histogram\":[{\"marker\":{\"pattern\":{\"fillmode\":\"overlay\",\"size\":10,\"solidity\":0.2}},\"type\":\"histogram\"}],\"scattergl\":[{\"type\":\"scattergl\",\"marker\":{\"colorbar\":{\"outlinewidth\":0,\"ticks\":\"\"}}}],\"scatter3d\":[{\"type\":\"scatter3d\",\"line\":{\"colorbar\":{\"outlinewidth\":0,\"ticks\":\"\"}},\"marker\":{\"colorbar\":{\"outlinewidth\":0,\"ticks\":\"\"}}}],\"scattermap\":[{\"type\":\"scattermap\",\"marker\":{\"colorbar\":{\"outlinewidth\":0,\"ticks\":\"\"}}}],\"scattermapbox\":[{\"type\":\"scattermapbox\",\"marker\":{\"colorbar\":{\"outlinewidth\":0,\"ticks\":\"\"}}}],\"scatterternary\":[{\"type\":\"scatterternary\",\"marker\":{\"colorbar\":{\"outlinewidth\":0,\"ticks\":\"\"}}}],\"scattercarpet\":[{\"type\":\"scattercarpet\",\"marker\":{\"colorbar\":{\"outlinewidth\":0,\"ticks\":\"\"}}}],\"carpet\":[{\"aaxis\":{\"endlinecolor\":\"#2a3f5f\",\"gridcolor\":\"white\",\"linecolor\":\"white\",\"minorgridcolor\":\"white\",\"startlinecolor\":\"#2a3f5f\"},\"baxis\":{\"endlinecolor\":\"#2a3f5f\",\"gridcolor\":\"white\",\"linecolor\":\"white\",\"minorgridcolor\":\"white\",\"startlinecolor\":\"#2a3f5f\"},\"type\":\"carpet\"}],\"table\":[{\"cells\":{\"fill\":{\"color\":\"#EBF0F8\"},\"line\":{\"color\":\"white\"}},\"header\":{\"fill\":{\"color\":\"#C8D4E3\"},\"line\":{\"color\":\"white\"}},\"type\":\"table\"}],\"barpolar\":[{\"marker\":{\"line\":{\"color\":\"#E5ECF6\",\"width\":0.5},\"pattern\":{\"fillmode\":\"overlay\",\"size\":10,\"solidity\":0.2}},\"type\":\"barpolar\"}],\"pie\":[{\"automargin\":true,\"type\":\"pie\"}]},\"layout\":{\"autotypenumbers\":\"strict\",\"colorway\":[\"#636efa\",\"#EF553B\",\"#00cc96\",\"#ab63fa\",\"#FFA15A\",\"#19d3f3\",\"#FF6692\",\"#B6E880\",\"#FF97FF\",\"#FECB52\"],\"font\":{\"color\":\"#2a3f5f\"},\"hovermode\":\"closest\",\"hoverlabel\":{\"align\":\"left\"},\"paper_bgcolor\":\"white\",\"plot_bgcolor\":\"#E5ECF6\",\"polar\":{\"bgcolor\":\"#E5ECF6\",\"angularaxis\":{\"gridcolor\":\"white\",\"linecolor\":\"white\",\"ticks\":\"\"},\"radialaxis\":{\"gridcolor\":\"white\",\"linecolor\":\"white\",\"ticks\":\"\"}},\"ternary\":{\"bgcolor\":\"#E5ECF6\",\"aaxis\":{\"gridcolor\":\"white\",\"linecolor\":\"white\",\"ticks\":\"\"},\"baxis\":{\"gridcolor\":\"white\",\"linecolor\":\"white\",\"ticks\":\"\"},\"caxis\":{\"gridcolor\":\"white\",\"linecolor\":\"white\",\"ticks\":\"\"}},\"coloraxis\":{\"colorbar\":{\"outlinewidth\":0,\"ticks\":\"\"}},\"colorscale\":{\"sequential\":[[0.0,\"#0d0887\"],[0.1111111111111111,\"#46039f\"],[0.2222222222222222,\"#7201a8\"],[0.3333333333333333,\"#9c179e\"],[0.4444444444444444,\"#bd3786\"],[0.5555555555555556,\"#d8576b\"],[0.6666666666666666,\"#ed7953\"],[0.7777777777777778,\"#fb9f3a\"],[0.8888888888888888,\"#fdca26\"],[1.0,\"#f0f921\"]],\"sequentialminus\":[[0.0,\"#0d0887\"],[0.1111111111111111,\"#46039f\"],[0.2222222222222222,\"#7201a8\"],[0.3333333333333333,\"#9c179e\"],[0.4444444444444444,\"#bd3786\"],[0.5555555555555556,\"#d8576b\"],[0.6666666666666666,\"#ed7953\"],[0.7777777777777778,\"#fb9f3a\"],[0.8888888888888888,\"#fdca26\"],[1.0,\"#f0f921\"]],\"diverging\":[[0,\"#8e0152\"],[0.1,\"#c51b7d\"],[0.2,\"#de77ae\"],[0.3,\"#f1b6da\"],[0.4,\"#fde0ef\"],[0.5,\"#f7f7f7\"],[0.6,\"#e6f5d0\"],[0.7,\"#b8e186\"],[0.8,\"#7fbc41\"],[0.9,\"#4d9221\"],[1,\"#276419\"]]},\"xaxis\":{\"gridcolor\":\"white\",\"linecolor\":\"white\",\"ticks\":\"\",\"title\":{\"standoff\":15},\"zerolinecolor\":\"white\",\"automargin\":true,\"zerolinewidth\":2},\"yaxis\":{\"gridcolor\":\"white\",\"linecolor\":\"white\",\"ticks\":\"\",\"title\":{\"standoff\":15},\"zerolinecolor\":\"white\",\"automargin\":true,\"zerolinewidth\":2},\"scene\":{\"xaxis\":{\"backgroundcolor\":\"#E5ECF6\",\"gridcolor\":\"white\",\"linecolor\":\"white\",\"showbackground\":true,\"ticks\":\"\",\"zerolinecolor\":\"white\",\"gridwidth\":2},\"yaxis\":{\"backgroundcolor\":\"#E5ECF6\",\"gridcolor\":\"white\",\"linecolor\":\"white\",\"showbackground\":true,\"ticks\":\"\",\"zerolinecolor\":\"white\",\"gridwidth\":2},\"zaxis\":{\"backgroundcolor\":\"#E5ECF6\",\"gridcolor\":\"white\",\"linecolor\":\"white\",\"showbackground\":true,\"ticks\":\"\",\"zerolinecolor\":\"white\",\"gridwidth\":2}},\"shapedefaults\":{\"line\":{\"color\":\"#2a3f5f\"}},\"annotationdefaults\":{\"arrowcolor\":\"#2a3f5f\",\"arrowhead\":0,\"arrowwidth\":1},\"geo\":{\"bgcolor\":\"white\",\"landcolor\":\"#E5ECF6\",\"subunitcolor\":\"white\",\"showland\":true,\"showlakes\":true,\"lakecolor\":\"white\"},\"title\":{\"x\":0.05},\"mapbox\":{\"style\":\"light\"}}},\"yaxis\":{\"autorange\":\"reversed\"},\"margin\":{\"t\":80,\"b\":80,\"l\":80,\"r\":100},\"xaxis\":{\"title\":{\"text\":\"\"},\"tickvals\":[\"Gini Index Rank\",\"Happiness Rank\"]},\"sliders\":[{\"active\":0,\"currentvalue\":{\"prefix\":\"Metric: \"},\"len\":0.9,\"pad\":{\"t\":50},\"steps\":[{\"args\":[{\"visible\":[true,true,true,true,true,true,true,true,true,true,true,true,true,true,true,true,true,true,true,true,true,true,true,true,true,true,true,true,true,true,true,true,true,true,true,true,true,true,true,true,true,true,true,true,true,true,true,true,true,true,true,true,true,true,true,true,true,true,true,true,true,true,true,true,true,false,false,false,false,false,false,false,false,false,false,false,false,false,false,false,false,false,false,false,false,false,false,false,false,false,false,false,false,false,false,false,false,false,false,false,false,false,false,false,false,false,false,false,false,false,false,false,false,false,false,false,false,false,false,false,false,false,false,false,false,false,false,false,false,false,false,false,false,false,false,false,false,false,false,false,false,false,false,false,false,false,false,false,false,false,false,false,false,false,false,false,false,false,false,false,false,false,false,false,false,false,false,false,false,false,false,false,false,false,false,false,false,false,false,false,false,false,false,false,false,false,false,false,false,false,false,false,false,false,false,false,false,false,false,false,false,false,false,false,false,false,false,false,false,false,false,false,false,false,false,false,false,false,false,false,false,false,false,false,false,false,false,false,false,false,false,false,false,false,false,false,false,false,false,false,false,false,false,false,false,false,false,false,false,false,false,false,false,false,false,false,false,false,false,false,false,false,false,false,false,false,false,false,false,false,false,false,false,false,false,false,false,false,false,false,false,false,false,false,false,false,false,false,false,false,false,false,false,false,false,false,false,false,false,false,false,false,false,false,false,false,false,false,false,false,false,false,false]},{\"title\":\"Gini Index vs Happiness Rankings\",\"xaxis\":{\"title\":\"\",\"tickvals\":[\"Gini Index Rank\",\"Happiness Rank\"]},\"yaxis\":{\"title\":\"Rank (1 = Best)\",\"autorange\":\"reversed\"},\"annotations\":[{\"x\":1.05,\"y\":1.05,\"xref\":\"paper\",\"yref\":\"paper\",\"showarrow\":false,\"align\":\"left\",\"bgcolor\":\"#D81B60\",\"font\":{\"color\":\"white\",\"size\":12},\"text\":\"Mismatch \\u003e 20:\\u003cbr\\u003e\\u003cb\\u003e33\\u003c\\u002fb\\u003e\",\"bordercolor\":\"black\",\"borderwidth\":1}]}],\"label\":\"Gini Index\",\"method\":\"update\"},{\"args\":[{\"visible\":[false,false,false,false,false,false,false,false,false,false,false,false,false,false,false,false,false,false,false,false,false,false,false,false,false,false,false,false,false,false,false,false,false,false,false,false,false,false,false,false,false,false,false,false,false,false,false,false,false,false,false,false,false,false,false,false,false,false,false,false,false,false,false,false,false,true,true,true,true,true,true,true,true,true,true,true,true,true,true,true,true,true,true,true,true,true,true,true,true,true,true,true,true,true,true,true,true,true,true,true,true,true,true,true,true,true,true,true,true,true,true,true,true,true,true,true,true,true,true,true,true,true,true,true,true,true,true,true,true,true,true,true,true,true,true,true,true,true,true,true,true,true,true,true,true,true,true,true,true,true,true,true,true,true,true,true,true,true,true,true,true,true,true,true,true,true,true,true,true,true,true,true,true,true,true,true,true,true,true,true,true,true,true,true,true,true,true,true,true,true,true,true,true,true,true,true,true,false,false,false,false,false,false,false,false,false,false,false,false,false,false,false,false,false,false,false,false,false,false,false,false,false,false,false,false,false,false,false,false,false,false,false,false,false,false,false,false,false,false,false,false,false,false,false,false,false,false,false,false,false,false,false,false,false,false,false,false,false,false,false,false,false,false,false,false,false,false,false,false,false,false,false,false,false,false,false,false,false,false,false,false,false,false,false,false,false,false,false,false,false,false,false,false,false,false,false,false,false,false,false,false,false,false,false,false,false,false,false,false,false,false,false,false]},{\"title\":\"GDP vs Happiness Rankings\",\"xaxis\":{\"title\":\"\",\"tickvals\":[\"GDP Rank\",\"Happiness Rank\"]},\"yaxis\":{\"title\":\"Rank (1 = Best)\",\"autorange\":\"reversed\"},\"annotations\":[{\"x\":1.05,\"y\":1.05,\"xref\":\"paper\",\"yref\":\"paper\",\"showarrow\":false,\"align\":\"left\",\"bgcolor\":\"#D81B60\",\"font\":{\"color\":\"white\",\"size\":12},\"text\":\"Mismatch \\u003e 30:\\u003cbr\\u003e\\u003cb\\u003e18\\u003c\\u002fb\\u003e\",\"bordercolor\":\"black\",\"borderwidth\":1}]}],\"label\":\"GDP\",\"method\":\"update\"},{\"args\":[{\"visible\":[false,false,false,false,false,false,false,false,false,false,false,false,false,false,false,false,false,false,false,false,false,false,false,false,false,false,false,false,false,false,false,false,false,false,false,false,false,false,false,false,false,false,false,false,false,false,false,false,false,false,false,false,false,false,false,false,false,false,false,false,false,false,false,false,false,false,false,false,false,false,false,false,false,false,false,false,false,false,false,false,false,false,false,false,false,false,false,false,false,false,false,false,false,false,false,false,false,false,false,false,false,false,false,false,false,false,false,false,false,false,false,false,false,false,false,false,false,false,false,false,false,false,false,false,false,false,false,false,false,false,false,false,false,false,false,false,false,false,false,false,false,false,false,false,false,false,false,false,false,false,false,false,false,false,false,false,false,false,false,false,false,false,false,false,false,false,false,false,false,false,false,false,false,false,false,false,false,false,false,false,false,false,false,false,false,false,false,false,false,false,false,false,false,false,false,false,false,true,true,true,true,true,true,true,true,true,true,true,true,true,true,true,true,true,true,true,true,true,true,true,true,true,true,true,true,true,true,true,true,true,true,true,true,true,true,true,true,true,true,true,true,true,true,true,true,true,true,true,true,true,true,true,true,true,true,true,true,true,true,true,true,true,true,true,true,true,true,true,true,true,true,true,true,true,true,true,true,true,true,true,true,true,true,true,true,true,true,true,true,true,true,true,true,true,true,true,true,true,true,true,true,true,true,true,true,true,true,true,true,true,true,true,true]},{\"title\":\"GNI vs Happiness Rankings\",\"xaxis\":{\"title\":\"\",\"tickvals\":[\"GNI Rank\",\"Happiness Rank\"]},\"yaxis\":{\"title\":\"Rank (1 = Best)\",\"autorange\":\"reversed\"},\"annotations\":[{\"x\":1.05,\"y\":1.05,\"xref\":\"paper\",\"yref\":\"paper\",\"showarrow\":false,\"align\":\"left\",\"bgcolor\":\"#D81B60\",\"font\":{\"color\":\"white\",\"size\":12},\"text\":\"Mismatch \\u003e 30:\\u003cbr\\u003e\\u003cb\\u003e11\\u003c\\u002fb\\u003e\",\"bordercolor\":\"black\",\"borderwidth\":1}]}],\"label\":\"GNI\",\"method\":\"update\"}],\"x\":0.1,\"xanchor\":\"left\"}],\"showlegend\":false,\"height\":800,\"width\":750,\"title\":{\"text\":\"Gini Index vs Happiness Rankings\"},\"annotations\":[{\"align\":\"left\",\"bgcolor\":\"#D81B60\",\"bordercolor\":\"black\",\"borderwidth\":1,\"font\":{\"color\":\"white\",\"size\":12},\"showarrow\":false,\"text\":\"Mismatch \\u003e 20:\\u003cbr\\u003e\\u003cb\\u003e33\\u003c\\u002fb\\u003e\",\"x\":1.05,\"xref\":\"paper\",\"y\":1.05,\"yref\":\"paper\"}],\"paper_bgcolor\":\"#EDF1EC\",\"plot_bgcolor\":\"#EDF1EC\"},                        {\"responsive\": true}                    ).then(function(){\n",
       "                            \n",
       "var gd = document.getElementById('b649257e-ef93-4484-8328-1af000b15720');\n",
       "var x = new MutationObserver(function (mutations, observer) {{\n",
       "        var display = window.getComputedStyle(gd).display;\n",
       "        if (!display || display === 'none') {{\n",
       "            console.log([gd, 'removed!']);\n",
       "            Plotly.purge(gd);\n",
       "            observer.disconnect();\n",
       "        }}\n",
       "}});\n",
       "\n",
       "// Listen for the removal of the full notebook cells\n",
       "var notebookContainer = gd.closest('#notebook-container');\n",
       "if (notebookContainer) {{\n",
       "    x.observe(notebookContainer, {childList: true});\n",
       "}}\n",
       "\n",
       "// Listen for the clearing of the current output cell\n",
       "var outputEl = gd.closest('.output');\n",
       "if (outputEl) {{\n",
       "    x.observe(outputEl, {childList: true});\n",
       "}}\n",
       "\n",
       "                        })                };            </script>        </div>"
      ]
     },
     "metadata": {},
     "output_type": "display_data"
    }
   ],
   "source": [
    "import pandas as pd\n",
    "import plotly.graph_objects as go\n",
    "\n",
    "df = pd.read_csv('final.csv')\n",
    "df['Country'] = df['Country'].str.strip()\n",
    "\n",
    "def prepare_rankings(df, metric_col, ascending_rank):\n",
    "    df_filtered = df.dropna(subset=[metric_col, 'Happiness']).copy()\n",
    "    df_filtered = df_filtered.sort_values(by=[metric_col, 'Country'], ascending=[ascending_rank, True])\n",
    "    df_filtered[f'{metric_col} Rank'] = df_filtered[metric_col].rank(method='first', ascending=ascending_rank).astype(int)\n",
    "    df_filtered['Happiness Rank'] = df_filtered['Happiness'].rank(method='min', ascending=False).astype(int)\n",
    "    df_filtered['Mismatch'] = (df_filtered[f'{metric_col} Rank'] - df_filtered['Happiness Rank']).abs()\n",
    "    return df_filtered\n",
    "\n",
    "def create_slope_traces(df_metric, metric_col, display_name, mismatch_threshold):\n",
    "    traces = []\n",
    "    for _, row in df_metric.iterrows():\n",
    "        color = '#1E88E5' if row['Mismatch'] <= mismatch_threshold else '#D81B60'\n",
    "        hovertext = (\n",
    "            f\"{row['Country']}<br>\"\n",
    "            f\"{display_name} Rank: {row[f'{metric_col} Rank']}<br>\"\n",
    "            f\"Happiness Rank: {row['Happiness Rank']}<br>\"\n",
    "            f\"Mismatch: {row['Mismatch']}\"\n",
    "        )\n",
    "        traces.append(go.Scatter(\n",
    "            x=[f'{display_name} Rank', 'Happiness Rank'],\n",
    "            y=[row[f'{metric_col} Rank'], row['Happiness Rank']],\n",
    "            mode='lines+markers',\n",
    "            line=dict(color=color, width=2),\n",
    "            name=row['Country'],\n",
    "            hoverinfo='text',\n",
    "            hovertext=hovertext\n",
    "        ))\n",
    "    return traces\n",
    "\n",
    "df_gini = prepare_rankings(df, 'Gini_index', ascending_rank=True)\n",
    "df_gdp = prepare_rankings(df, 'GDP_current_usd', ascending_rank=False)\n",
    "df_gni = prepare_rankings(df, 'GNI_current_usd', ascending_rank=False)\n",
    "\n",
    "red_gini = (df_gini['Mismatch'] > 15).sum()\n",
    "red_gdp = (df_gdp['Mismatch'] > 30).sum()\n",
    "red_gni = (df_gni['Mismatch'] > 30).sum()\n",
    "\n",
    "traces_gini = create_slope_traces(df_gini, 'Gini_index', 'Gini Index', mismatch_threshold=15)\n",
    "traces_gdp = create_slope_traces(df_gdp, 'GDP_current_usd', 'GDP', mismatch_threshold=30)\n",
    "traces_gni = create_slope_traces(df_gni, 'GNI_current_usd', 'GNI', mismatch_threshold=30)\n",
    "\n",
    "fig = go.Figure(data=traces_gini)\n",
    "for trace in traces_gdp + traces_gni:\n",
    "    trace.visible = False\n",
    "    fig.add_trace(trace)\n",
    "\n",
    "steps = []\n",
    "total_traces = len(traces_gini) + len(traces_gdp) + len(traces_gni)\n",
    "start_idx = 0\n",
    "metrics = [\n",
    "    ('Gini Index', traces_gini, 20, red_gini),\n",
    "    ('GDP', traces_gdp, 30, red_gdp),\n",
    "    ('GNI', traces_gni, 30, red_gni)\n",
    "]\n",
    "\n",
    "for metric_name, traces_metric, threshold, red_count in metrics:\n",
    "    visible = [False] * total_traces\n",
    "    for i in range(len(traces_metric)):\n",
    "        visible[start_idx + i] = True\n",
    "    step = dict(\n",
    "        method='update',\n",
    "        label=metric_name,\n",
    "        args=[\n",
    "            {'visible': visible},\n",
    "            {'title': f'{metric_name} vs Happiness Rankings',\n",
    "             'xaxis': {'title': '', 'tickvals': [f'{metric_name} Rank', 'Happiness Rank']},\n",
    "             'yaxis': {'title': 'Rank (1 = Best)', 'autorange': 'reversed'},\n",
    "             'annotations': [dict(\n",
    "                 x=1.05,\n",
    "                 y=1.05,\n",
    "                 xref='paper',\n",
    "                 yref='paper',\n",
    "                 showarrow=False,\n",
    "                 align='left',\n",
    "                 bgcolor='#D81B60',\n",
    "                 font=dict(color='white', size=12),\n",
    "                 text=f'Mismatch > {threshold}:<br><b>{red_count}</b>',\n",
    "                 bordercolor='black',\n",
    "                 borderwidth=1\n",
    "             )]\n",
    "            }\n",
    "        ]\n",
    "    )\n",
    "    steps.append(step)\n",
    "    start_idx += len(traces_metric)\n",
    "\n",
    "fig.update_layout(\n",
    "    sliders=[dict(\n",
    "        active=0,\n",
    "        currentvalue={\"prefix\": \"Metric: \"},\n",
    "        pad={\"t\": 50},\n",
    "        steps=steps,\n",
    "        len=0.9,\n",
    "        x=0.1,\n",
    "        xanchor='left'\n",
    "    )],\n",
    "    yaxis=dict(autorange='reversed'),\n",
    "    showlegend=False,\n",
    "    height=800,\n",
    "    width=750,\n",
    "    margin=dict(t=80, b=80, l=80, r=100),\n",
    "    title='Gini Index vs Happiness Rankings',\n",
    "    xaxis={'title': '', 'tickvals': ['Gini Index Rank', 'Happiness Rank']},\n",
    "    annotations=[dict(\n",
    "        x=1.05,\n",
    "        y=1.05,\n",
    "        xref='paper',\n",
    "        yref='paper',\n",
    "        showarrow=False,\n",
    "        align='left',\n",
    "        bgcolor='#D81B60',\n",
    "        font=dict(color='white', size=12),\n",
    "        text=f'Mismatch > 20:<br><b>{red_gini}</b>',\n",
    "        bordercolor='black',\n",
    "        borderwidth=1\n",
    "    )],\n",
    "    paper_bgcolor='#EDF1EC',\n",
    "    plot_bgcolor='#EDF1EC'\n",
    ")\n",
    "\n",
    "fig.show()"
   ]
  },
  {
   "cell_type": "markdown",
   "id": "ec017c70",
   "metadata": {},
   "source": [
    "**Money does not buy happiness**\n",
    "\n",
    "Economic wealth could explain some of the variation in national happiness. However, other societal indicators may offer different insights. To further investigate the what influences the way people perceive their happiness, we examined its relationship with education expenditure, unemployment rate, and life expectancy.\n",
    "\n",
    "In the plot about Happiness vs Education Expenditure, there is a slight positive trend. Countries that allocate a higher percentage of their GDP to education generally report higher happiness levels according to the dataset. It suggests that investment in quality education contributes to societal well-being and happiness.\n",
    "\n",
    "The plot about Happiness vs Unemployment Rate has a slight negative trendline: as unemployment increases, average happiness declines according to the dataset. This is a result in line with previous research like Winkelmann (2014), which found that unemployment consistently and significantly reduces life satisfaction and caused a reduction in the happiness score recorded, which might be due to the economic insecurity and the psychological toll of uncertainty.\n",
    "\n",
    "In the plot about Happiness vs Life Expectancy, a positive correlation can be read from the regression line. Countries where people live longer also tend to report higher happiness scores. This relationship is likely tied to broader indicators of public health and quality of life. As with education, longer life expectancy reflects better healthcare systems, better nutrition, and a better environments, all of this tends to go hand-in-hand with happiness."
   ]
  },
  {
   "cell_type": "code",
   "execution_count": 11,
   "id": "1d91aaa7",
   "metadata": {
    "tags": [
     "remove-input"
    ]
   },
   "outputs": [
    {
     "data": {
      "text/html": [
       "        <script type=\"text/javascript\">\n",
       "        window.PlotlyConfig = {MathJaxConfig: 'local'};\n",
       "        if (window.MathJax && window.MathJax.Hub && window.MathJax.Hub.Config) {window.MathJax.Hub.Config({SVG: {font: \"STIX-Web\"}});}\n",
       "        </script>\n",
       "        <script type=\"module\">import \"https://cdn.plot.ly/plotly-3.0.1.min\"</script>\n",
       "        "
      ]
     },
     "metadata": {},
     "output_type": "display_data"
    },
    {
     "data": {
      "application/vnd.plotly.v1+json": {
       "config": {
        "linkText": "Export to plot.ly",
        "plotlyServerURL": "https://plot.ly",
        "showLink": false
       },
       "data": [
        {
         "customdata": {
          "bdata": "AQACAAMABAAFAAYABwAIAAkACgALAAwADQAOAA8AEAARABIAEwAUABUAFgAXABgAGQAaABsAHAAdAB4AHwAgACEAIgAjACQAJQAmACcAKAApACoAKwAsAC0ALgAvADAAMQAyADMANAA1ADYANwA4ADkAOgA7ADwAPQA+AD8AQABBAEIAQwBEAEUARgBHAEgASQBKAEsATABNAE4ATwBPAFEAUgBTAFQAVQBWAFcAWABZAFoAWwBcAF0AXgBfAGAAYQBiAGMAZABlAGYAZwBoAGkAagBrAGwAbQBuAG8AcABxAHIAcwB0AHUAdgB3AHgAeQB6AHsAfAB9AH4AfwCAAIEAggCDAIQAhQA=",
          "dtype": "i2"
         },
         "hovertemplate": "Country: %{text}<br>Rank: %{customdata} out of 133<br>Life Expectancy: %{x:.1f} years<br>Happiness: %{y:.2f}<extra></extra>",
         "mode": "markers",
         "name": "Life Expectancy",
         "text": [
          "Finland",
          "Denmark",
          "Norway",
          "Iceland",
          "Netherlands",
          "Switzerland",
          "Sweden",
          "New Zealand",
          "Canada",
          "Austria",
          "Australia",
          "Costa Rica",
          "Israel",
          "Luxembourg",
          "United Kingdom",
          "Ireland",
          "Germany",
          "Belgium",
          "United States",
          "United Arab Emirates",
          "Malta",
          "Mexico",
          "France",
          "Chile",
          "Guatemala",
          "Saudi Arabia",
          "Qatar",
          "Spain",
          "Panama",
          "Brazil",
          "Uruguay",
          "Singapore",
          "El Salvador",
          "Italy",
          "Bahrain",
          "Poland",
          "Uzbekistan",
          "Lithuania",
          "Colombia",
          "Slovenia",
          "Nicaragua",
          "Kosovo",
          "Argentina",
          "Romania",
          "Cyprus",
          "Ecuador",
          "Kuwait",
          "Thailand",
          "Latvia",
          "Estonia",
          "Jamaica",
          "Mauritius",
          "Japan",
          "Honduras",
          "Kazakhstan",
          "Bolivia",
          "Hungary",
          "Paraguay",
          "Peru",
          "Portugal",
          "Pakistan",
          "Philippines",
          "Serbia",
          "Moldova",
          "Libya",
          "Montenegro",
          "Tajikistan",
          "Croatia",
          "Dominican Republic",
          "Bosnia and Herzegovina",
          "Malaysia",
          "Belarus",
          "Greece",
          "Mongolia",
          "North Macedonia",
          "Nigeria",
          "Turkmenistan",
          "Algeria",
          "Morocco",
          "Azerbaijan",
          "Lebanon",
          "Indonesia",
          "China",
          "Bhutan",
          "Cameroon",
          "Bulgaria",
          "Ghana",
          "Nepal",
          "Jordan",
          "Benin",
          "Gabon",
          "South Africa",
          "Albania",
          "Cambodia",
          "Senegal",
          "Somalia",
          "Namibia",
          "Niger",
          "Burkina Faso",
          "Armenia",
          "Guinea",
          "Georgia",
          "Kenya",
          "Mauritania",
          "Mozambique",
          "Tunisia",
          "Bangladesh",
          "Iraq",
          "Mali",
          "Sierra Leone",
          "Sri Lanka",
          "Myanmar",
          "Chad",
          "Ukraine",
          "Ethiopia",
          "Uganda",
          "Zambia",
          "Togo",
          "India",
          "Liberia",
          "Comoros",
          "Madagascar",
          "Lesotho",
          "Burundi",
          "Zimbabwe",
          "Haiti",
          "Botswana",
          "Malawi",
          "Rwanda",
          "Tanzania",
          "Afghanistan",
          "Central African Republic",
          "South Sudan"
         ],
         "type": "scatter",
         "visible": true,
         "x": {
          "bdata": "gE3vReh+VEAZscvH4FxUQHCE2qlYvVRAbuKiYnXKVEDuynA0LodUQJHnn4Xp+VRAVgJzPgbHVEB3ZTgal4NUQLZAq2F5ilRAokuTrUl5VECamZmZmblUQG3n+6nxElRAK4E5H4OzVEBeGY7G5ahUQBbfq7GfV1RAZZXKwvSsVECjHC9Ru1JUQAiy+ROwf1RAq84oZWuyU0CgGi/dJKZUQD1Rp3YlqlRAUrgeheuhUkCjgVDF6rRUQNv5fmq8FFRAN4lBYOXoUUB56SYxCJRTQBSuR+F6vFRAm89WsTr1VEA3iUFg5aBTQLKd76fG81JA1XjpJjFgU0BvGGB6FuZUQGZmZmZm7lFAaDcCCtjfVECgGi/dJB5UQJHnn4XpeVNAy6FFtvMFUkCzgCJ5GxJTQJhuEoPAMlNACBcbiN9hVEA3iUFg5XBSQA4tsp3vT1NAke18PzU2U0D2fGpI3uZSQJMYBFYOXVRA/Knx0k1SU0AtpuN7EH5UQPhT46WbTFNAEjWPy9HYUkDuL5KoXalTQDVeukkM4lFA4hXzORiPUkArOmlMzhZVQA4tsp3vB1JAJzEIrBxqUkAUrkfhevRQQBNrTONyFFNAmG4Sg8BqUkCamZmZmRFTQL0DuDA9a1RALbKd76euUEDsUbgehWtRQPmDwwPx+1JA3SQGgZWLUUBOYhBYOTxSQE0avBK1K1NAIbByaJG9UUDdleFoXI5TQLpJDAIrR1JA8KfGSzdZU0CamZmZmflSQDwb6l6EjlJAXhmOxuVoVEAWnTQmZ8NRQP8uZFyOJlNA/tR46SaBSkBSuB6F61lRQM/3U+Ol61JASOF6FK6PUkDD9Shcj1JSQFpkO99PjVNAdZMYBFaWUUBcj8L1KHxTQLgehetRAFJAKVyPwvXYTkDuynA0LsdSQIXrUbgeHVBAQmDl0CJTUUCPwvUoXDdTQIts5/up8U1AIbByaJHVUEAGgZVDi4RQQNnO91Pj3VNA46WbxCCIUUCYbhKDwOpQQB1aZDvfn0xA2c73U+PFT0CHFtnO9wNOQGQ730+NF05ARM3jcjQOU0CNl24Sg7BNQMP1KFyPilJA1XjpJjF4T0ApXI/C9ehQQLpJDAIrp05AdZMYBFbmUkAAAAAAAChSQEjhehSuz1FAsp3vp8abTUCWQ4ts58tNQOkmMQisLFNAaJHtfD+dUEDJdr6fGn9KQHsUrkfhelJAgZVDi2xvUEAtsp3vp5ZQQKJFtvP9dE9A16NwPQqHTkA5tMh2vq9RQARWDi2ynU5A7nw/NV5qUECNl24Sg8BPQB1aZDvfn0tA16NwPQoXT0BI4XoUrodOQKJFtvP9FFBAppvEILDKUEBI4XoUrj9QQE5iEFg5rFBAnMQgsHKAUECcxCCwcnhPQEjhehSuhz9AjZduEoMQTUA=",
          "dtype": "f8"
         },
         "y": {
          "bdata": "+n5qvHQTH0BmZmZmZmYeQJ7vp8ZLNx5AYOXQItv5HUDByqFFtvMdQOxRuB6F6x1ArBxaZDtfHUDufD81XjodQOkmMQisHB1AlkOLbOf7HEC28/3UeOkcQF66SQwCqxxAdZMYBFaOHEBcj8L1KFwcQJ7vp8ZLNxxAL90kBoEVHEBxPQrXo/AbQP7UeOkmsRtAxSCwcmiRG0DNzMzMzEwbQIGVQ4ts5xpA4XoUrkdhGkCR7Xw/NV4aQC2yne+nxhlAWDm0yHa+GUAAAAAAAIAZQOXQItv5fhlA0SLb+X5qGUBiEFg5tEgZQDMzMzMzMxlAeekmMQgsGUA/NV66SQwZQFCNl24SAxlAMQisHFrkGECyne+nxssYQO58PzVeuhhAGQRWDi2yGEB/arx0k5gYQAAAAAAAgBhARrbz/dR4GEDsUbgehWsYQGZmZmZmZhhA8tJNYhBYGEBI4XoUrkcYQMl2vp8aLxhA6SYxCKwcGEAv3SQGgRUYQNV46SYxCBhAw/UoXI/CF0DfT42XbpIXQI/C9ShcjxdAWmQ730+NF0AlBoGVQ4sXQHE9CtejcBdAI9v5fmo8F0AEVg4tsh0XQNV46SYxCBdARrbz/dT4FkB9PzVeuskWQBKDwMqhxRZA6SYxCKycFkCgGi/dJIYWQLbz/dR4aRZABFYOLbIdFkCamZmZmRkWQGQ730+NFxZAke18PzXeFUDufD81XroVQDMzMzMzsxVAJQaBlUOLFUBCYOXQIlsVQJhuEoPAShVA2c73U+MlFUCkcD0K1yMVQH9qvHSTGBVAj8L1KFwPFUCwcmiR7fwUQPLSTWIQ2BRAokW28/3UFECiRbbz/dQUQH0/NV66yRRA+FPjpZvEFEDdJAaBlcMUQIcW2c73UxRAkxgEVg4tFEAlBoGVQwsUQJZDi2zn+xNA9P3UeOmmE0A5tMh2vp8TQNV46SYxiBNAGQRWDi0yE0AX2c73U+MSQMdLN4lB4BJAzczMzMzMEkDTTWIQWLkSQHnpJjEIrBJAdZMYBFaOEkBQjZduEoMSQAwCK4cWWRJAI9v5fmo8EkCJQWDl0CISQPp+arx0ExJA8KfGSzcJEkD2KFyPwvURQHe+nxov3RFA8tJNYhDYEUBt5/up8dIRQHNoke18vxFAj8L1KFyPEUDl0CLb+X4RQBBYObTIdhFAcT0K16NwEUBmZmZmZmYRQIcW2c73UxFAvp8aL90kEUCoxks3icEQQCGwcmiRbRBA16NwPQpXEECPwvUoXA8QQM3MzMzMzA9AYhBYObTID0AQWDm0yHYPQNEi2/l+ag5AMzMzMzMzDkDn+6nx0k0NQC2yne+nxgxAgZVDi2znC0BI4XoUrkcLQHnpJjEIrApADAIrhxbZCUA5tMh2vp8JQESLbOf7qQhAbef7qfHSBkA=",
          "dtype": "f8"
         }
        },
        {
         "customdata": {
          "bdata": "AQACAAMABAAFAAYABwAIAAkACgALAAwADQAOAA8AEAARABIAEwAUABUAFgAXABgAGQAaABsAHAAdAB4AHwAgACEAIgAkACUAJgAnACgAKgArACwALQAuADAAMQAyADMANAA1ADYANwA4ADkAOgA7ADwAPQA+AD8AQABCAEQARQBGAEcASABJAEoASwBMAE8AUQBSAFMAVABWAFkAWgBcAF0AXgBfAGAAYgBjAGQAZQBmAGcAaABqAG0AbwBwAHIAdAB1AHYAdwB7AH0AfwCBAA==",
          "dtype": "i2"
         },
         "hovertemplate": "Country: %{text}<br>Rank: %{customdata} out of 133<br>Unemployment Rate: %{x:.1f}%<br>Happiness: %{y:.2f}<extra></extra>",
         "mode": "markers",
         "name": "Unemployment Rate",
         "text": [
          "Finland",
          "Denmark",
          "Norway",
          "Iceland",
          "Netherlands",
          "Switzerland",
          "Sweden",
          "New Zealand",
          "Canada",
          "Austria",
          "Australia",
          "Costa Rica",
          "Israel",
          "Luxembourg",
          "United Kingdom",
          "Ireland",
          "Germany",
          "Belgium",
          "United States",
          "United Arab Emirates",
          "Malta",
          "Mexico",
          "France",
          "Chile",
          "Guatemala",
          "Saudi Arabia",
          "Qatar",
          "Spain",
          "Panama",
          "Brazil",
          "Uruguay",
          "Singapore",
          "El Salvador",
          "Italy",
          "Poland",
          "Uzbekistan",
          "Lithuania",
          "Colombia",
          "Slovenia",
          "Kosovo",
          "Argentina",
          "Romania",
          "Cyprus",
          "Ecuador",
          "Thailand",
          "Latvia",
          "Estonia",
          "Jamaica",
          "Mauritius",
          "Japan",
          "Honduras",
          "Kazakhstan",
          "Bolivia",
          "Hungary",
          "Paraguay",
          "Peru",
          "Portugal",
          "Pakistan",
          "Philippines",
          "Serbia",
          "Moldova",
          "Montenegro",
          "Croatia",
          "Dominican Republic",
          "Bosnia and Herzegovina",
          "Malaysia",
          "Belarus",
          "Greece",
          "Mongolia",
          "North Macedonia",
          "Nigeria",
          "Azerbaijan",
          "Lebanon",
          "Indonesia",
          "China",
          "Bhutan",
          "Bulgaria",
          "Jordan",
          "Benin",
          "South Africa",
          "Albania",
          "Cambodia",
          "Senegal",
          "Somalia",
          "Niger",
          "Burkina Faso",
          "Armenia",
          "Guinea",
          "Georgia",
          "Kenya",
          "Mauritania",
          "Tunisia",
          "Mali",
          "Sri Lanka",
          "Myanmar",
          "Ukraine",
          "Uganda",
          "Zambia",
          "Togo",
          "India",
          "Lesotho",
          "Zimbabwe",
          "Botswana",
          "Rwanda"
         ],
         "type": "scatter",
         "visible": false,
         "x": {
          "bdata": "SOF6FK7HGkDfT42XbhIUQEa28/3UeA1AdZMYBFYODEDVeOkmMQgLQPp+arx0kxFAokW28/1UG0BWDi2ynW8QQMP1KFyPwhZAPQrXo3A9EkDfT42XbpIUQHe+nxovnSVADAIrhxbZDUCR7Xw/NV4WQKjGSzeJQQ1AzczMzMzME0Dn+6nx0k0JQNv5fmq8dBVAJzEIrBxaDUDZzvdT46UCQGq8dJMYBA1AN4lBYOXQC0AUrkfhetQgQEa28/3U+B1AJQaBlUOLAUAlBoGVQ4sWQJqZmZmZmbk/9ihcj8I1LECJQWDl0KIZQKwcWmQ73ydAeekmMQisIUDNzMzMzMwIQK5H4XoUrhBAgZVDi2znI0CJQWDl0CIKQPYoXI/C9SFAhetRuB4FGUCPwvUoXI8kQGIQWDm0yBFAi2zn+6kROUBWDi2yna8jQLKd76fGSw9AH4XrUbieHEDl0CLb+X4OQLbz/dR46eY/c2iR7Xw/GUB1kxgEVg4SQKabxCCw8hNAbef7qfFSGUACK4cW2c4CQJhuEoPAyhZAMzMzMzMzE0Db+X5qvHQNQCcxCKwcWgtA4XoUrkdhGkDVeOkmMQgLQEJg5dAi2xlAUrgehetRE0BMN4lBYOUBQArXo3A9yiRA1XjpJjEI+D+oxks3iUEuQCuHFtnOdxpABoGVQ4tsGUD8qfHSTWIvQBSuR+F6FApAKVyPwvWoEEDsUbgehQsxQD81XrpJDCJARIts5/tpMUCkcD0K12MlQAAAAAAAABRAJzEIrByaJkC4HoXrUbgMQJqZmZmZmRRAw/UoXI/CBUDsUbgehesQQJMYBFYOzTBABoGVQ4ts8z8rhxbZznc8QDvfT42X7iZAVg4tsp3v3z+BlUOLbOcGQIcW2c730zJAoBov3SQG4T/2KFyPwvX4P0oMAiuHliNA30+Nl24SFEDhehSuRyEnQHWTGARWDhRAokW28/3UJEC6SQwCKycxQFK4HoXrUQpArkfhehSuEkA/NV66SQzaPxfZzvdTYyBAGy/dJAaBBED0/dR46SYWQH0/NV66SQBACtejcD0KGkDHSzeJQeAwQMuhRbbzfR1A8tJNYhAYNEBGtvP91HgmQA==",
          "dtype": "f8"
         },
         "y": {
          "bdata": "+n5qvHQTH0BmZmZmZmYeQJ7vp8ZLNx5AYOXQItv5HUDByqFFtvMdQOxRuB6F6x1ArBxaZDtfHUDufD81XjodQOkmMQisHB1AlkOLbOf7HEC28/3UeOkcQF66SQwCqxxAdZMYBFaOHEBcj8L1KFwcQJ7vp8ZLNxxAL90kBoEVHEBxPQrXo/AbQP7UeOkmsRtAxSCwcmiRG0DNzMzMzEwbQIGVQ4ts5xpA4XoUrkdhGkCR7Xw/NV4aQC2yne+nxhlAWDm0yHa+GUAAAAAAAIAZQOXQItv5fhlA0SLb+X5qGUBiEFg5tEgZQDMzMzMzMxlAeekmMQgsGUA/NV66SQwZQFCNl24SAxlAMQisHFrkGEDufD81XroYQBkEVg4tshhAf2q8dJOYGEAAAAAAAIAYQEa28/3UeBhAZmZmZmZmGEDy0k1iEFgYQEjhehSuRxhAyXa+nxovGEDpJjEIrBwYQNV46SYxCBhAw/UoXI/CF0DfT42XbpIXQI/C9ShcjxdAWmQ730+NF0AlBoGVQ4sXQHE9CtejcBdAI9v5fmo8F0AEVg4tsh0XQNV46SYxCBdARrbz/dT4FkB9PzVeuskWQBKDwMqhxRZA6SYxCKycFkCgGi/dJIYWQLbz/dR4aRZABFYOLbIdFkBkO99PjRcWQO58PzVeuhVAMzMzMzOzFUAlBoGVQ4sVQEJg5dAiWxVAmG4Sg8BKFUDZzvdT4yUVQKRwPQrXIxVAf2q8dJMYFUCPwvUoXA8VQKJFtvP91BRAfT81XrrJFED4U+Olm8QUQN0kBoGVwxRAhxbZzvdTFEAlBoGVQwsUQDm0yHa+nxNA1XjpJjGIE0AX2c73U+MSQMdLN4lB4BJAzczMzMzMEkDTTWIQWLkSQHnpJjEIrBJAUI2XbhKDEkAMAiuHFlkSQCPb+X5qPBJAiUFg5dAiEkD6fmq8dBMSQPCnxks3CRJA9ihcj8L1EUDy0k1iENgRQI/C9ShcjxFAEFg5tMh2EUBxPQrXo3ARQIcW2c73UxFAqMZLN4nBEEAhsHJokW0QQNejcD0KVxBAj8L1KFwPEEDRItv5fmoOQOf7qfHSTQ1AgZVDi2znC0B56SYxCKwKQA==",
          "dtype": "f8"
         }
        },
        {
         "customdata": {
          "bdata": "AQACAAMABAAFAAYABwAIAAkACgALAAwADQAOAA8AEAARABIAEwAUABUAFwAYABkAGwAcAB0AHgAfACAAIQAiACMAJAAlACYAKAApACsALAAtAC4ALwAwADEAMgAzADQANQA2ADcAOAA5ADoAOwA8AD0APgA/AEAAQwBEAEUARgBHAEgASQBKAEwATQBOAE8ATwBRAFIAUwBUAFUAVgBXAFgAWQBaAFsAXABdAF4AXwBhAGIAYwBkAGUAZgBnAGgAaQBqAGsAbQBuAHAAcQByAHMAdAB1AHYAdwB4AHoAewB8AH4AfwCBAIIAhAA=",
          "dtype": "i2"
         },
         "hovertemplate": "Country: %{text}<br>Rank: %{customdata} out of 133<br>Education Expenditure: %{x:.2f}% of GDP<br>Happiness: %{y:.2f}<extra></extra>",
         "mode": "markers",
         "name": "Education Expenditure",
         "text": [
          "Finland",
          "Denmark",
          "Norway",
          "Iceland",
          "Netherlands",
          "Switzerland",
          "Sweden",
          "New Zealand",
          "Canada",
          "Austria",
          "Australia",
          "Costa Rica",
          "Israel",
          "Luxembourg",
          "United Kingdom",
          "Ireland",
          "Germany",
          "Belgium",
          "United States",
          "United Arab Emirates",
          "Malta",
          "France",
          "Chile",
          "Guatemala",
          "Qatar",
          "Spain",
          "Panama",
          "Brazil",
          "Uruguay",
          "Singapore",
          "El Salvador",
          "Italy",
          "Bahrain",
          "Poland",
          "Uzbekistan",
          "Lithuania",
          "Slovenia",
          "Nicaragua",
          "Argentina",
          "Romania",
          "Cyprus",
          "Ecuador",
          "Kuwait",
          "Thailand",
          "Latvia",
          "Estonia",
          "Jamaica",
          "Mauritius",
          "Japan",
          "Honduras",
          "Kazakhstan",
          "Bolivia",
          "Hungary",
          "Paraguay",
          "Peru",
          "Portugal",
          "Pakistan",
          "Philippines",
          "Serbia",
          "Moldova",
          "Tajikistan",
          "Croatia",
          "Dominican Republic",
          "Bosnia and Herzegovina",
          "Malaysia",
          "Belarus",
          "Greece",
          "Mongolia",
          "Nigeria",
          "Turkmenistan",
          "Algeria",
          "Morocco",
          "Azerbaijan",
          "Lebanon",
          "Indonesia",
          "China",
          "Bhutan",
          "Cameroon",
          "Bulgaria",
          "Ghana",
          "Nepal",
          "Jordan",
          "Benin",
          "Gabon",
          "South Africa",
          "Albania",
          "Cambodia",
          "Senegal",
          "Namibia",
          "Niger",
          "Burkina Faso",
          "Armenia",
          "Guinea",
          "Georgia",
          "Kenya",
          "Mauritania",
          "Mozambique",
          "Tunisia",
          "Bangladesh",
          "Mali",
          "Sierra Leone",
          "Myanmar",
          "Chad",
          "Ukraine",
          "Ethiopia",
          "Uganda",
          "Zambia",
          "Togo",
          "India",
          "Liberia",
          "Madagascar",
          "Lesotho",
          "Burundi",
          "Haiti",
          "Botswana",
          "Rwanda",
          "Tanzania",
          "Central African Republic"
         ],
         "type": "scatter",
         "visible": false,
         "x": {
          "bdata": "U+sCAPWqGUCKHfrfKwUdQPuP+z9PdR9A0LUEILtnHkBR2/1fsqMUQGoeBEC8DhRAk4H8n9WNHkDHp/1fQLYUQFx4+/96FxNAP20DYATfFEAn1AGAywgWQM7SBEDL8xpA2zsDIHcqGEAECQugeOMNQCGRAoBtCxVA+QL3X45eCkC8IvjfSnYUQKn4AUD8VRlA9c/8/3LUE0AmrATAteEOQBp9+j/vmBNA2a0FwO9qFUCYmwVgV4EWQOsu8N8ziwlAstkDQCRuBkD48P+/vusQQEUbCwARvwhAiXj935faF0BAKvh/a4MSQGCpA2AJ1gVAedYDIM0YC0AuZgKAjmEQQIWb/n+rEwNAFmAGABq3EkDNlAFgby4ZQPHb/v95tg9ARUQBQO2QE0AGLABgUWYSQNKD918rFhNAjJgHIB2JDEB0Ef3fs9kUQLls/b+t+xBAU0AFgF3pGkCEs/affi0IQJ2JAuBMvhFAijIHgKsKFUAVOvs/kacUQFPrAgD1KhJAs0H23yI+CUAt6vu/1roXQIQcDUCg1ApAgH8DwJwuIEBBfQgAR+YQQPXjECAs6wtAwjjyH1aUDkBZ2AYAJIUSQEVDCMAmuAFASYwIQIhCC0Cv+e7fh+4MQM8hBkAw5xhAHwMFIObvFUA1kBDgUlwPQFAJ/J/LKxBARQb+X5EtEEB89wbgGNYPQBia+l//6hNA2BkH4GSwDEB24QygDTgNQJs7z99R8dY/dGf43+L2CECcuPmfLE0WQEWZA8BVAxRAbn0K4GNpCUB6agIAWM0EQFTmz39b3O4/Za/4/9E8EEAt6QJAEAoSQBpUBAATYQhAZ6n3f87LEEDAFf1ffTkJQCsyD6Cs4gtAM60QAGPoB0AdifBfu7gHQAeq+B+W/gZALzgEQHWlF0C4BQSgdVQPQG1//N/wmgZAl5z+3x0kFEC52P7fIqUiQGcTB6C2NQxAfQn+f+igFUDoewvARpMEQJyi83/muv0/7f7/n42jDkC3MwLgjn4VQOzC7r++K/0/p3z7f0QlGUAxngTg5rEYQHBMISD35vo/4L73/71wDEA0UwaAvckdQEubFGAE//8/yDv8P8v6AkA+nPof5MMVQLJX/P9o7BFA9Q/y31t3AkBlG/ofR6wRQIK59x+CzhBAT0/y/7ctD0AYWgWAFlIBQK3A8/9oGwhANk0FALrGHEDKNAJAAWMVQNVkBUCOJvw/b7f+P0nMIECD4Ptf0egJQCP1ECBSxgxAH8TdP2dJ/D8=",
          "dtype": "f8"
         },
         "y": {
          "bdata": "+n5qvHQTH0BmZmZmZmYeQJ7vp8ZLNx5AYOXQItv5HUDByqFFtvMdQOxRuB6F6x1ArBxaZDtfHUDufD81XjodQOkmMQisHB1AlkOLbOf7HEC28/3UeOkcQF66SQwCqxxAdZMYBFaOHEBcj8L1KFwcQJ7vp8ZLNxxAL90kBoEVHEBxPQrXo/AbQP7UeOkmsRtAxSCwcmiRG0DNzMzMzEwbQIGVQ4ts5xpAke18PzVeGkAtsp3vp8YZQFg5tMh2vhlA5dAi2/l+GUDRItv5fmoZQGIQWDm0SBlAMzMzMzMzGUB56SYxCCwZQD81XrpJDBlAUI2XbhIDGUAxCKwcWuQYQLKd76fGyxhA7nw/NV66GEAZBFYOLbIYQH9qvHSTmBhARrbz/dR4GEDsUbgehWsYQPLSTWIQWBhASOF6FK5HGEDJdr6fGi8YQOkmMQisHBhAL90kBoEVGEDVeOkmMQgYQMP1KFyPwhdA30+Nl26SF0CPwvUoXI8XQFpkO99PjRdAJQaBlUOLF0BxPQrXo3AXQCPb+X5qPBdABFYOLbIdF0DVeOkmMQgXQEa28/3U+BZAfT81XrrJFkASg8DKocUWQOkmMQisnBZAoBov3SSGFkC28/3UeGkWQARWDi2yHRZAke18PzXeFUDufD81XroVQDMzMzMzsxVAJQaBlUOLFUBCYOXQIlsVQJhuEoPAShVA2c73U+MlFUCkcD0K1yMVQI/C9ShcDxVAsHJoke38FEDy0k1iENgUQKJFtvP91BRAokW28/3UFEB9PzVeuskUQPhT46WbxBRA3SQGgZXDFECHFtnO91MUQJMYBFYOLRRAJQaBlUMLFECWQ4ts5/sTQPT91HjpphNAObTIdr6fE0DVeOkmMYgTQBkEVg4tMhNAF9nO91PjEkDHSzeJQeASQM3MzMzMzBJA001iEFi5EkB1kxgEVo4SQFCNl24SgxJADAIrhxZZEkAj2/l+ajwSQIlBYOXQIhJA+n5qvHQTEkDwp8ZLNwkSQPYoXI/C9RFAd76fGi/dEUDy0k1iENgRQG3n+6nx0hFAj8L1KFyPEUDl0CLb+X4RQHE9CtejcBFAZmZmZmZmEUCHFtnO91MRQL6fGi/dJBFAqMZLN4nBEEAhsHJokW0QQNejcD0KVxBAj8L1KFwPEEDNzMzMzMwPQBBYObTIdg9A0SLb+X5qDkAzMzMzMzMOQC2yne+nxgxAgZVDi2znC0B56SYxCKwKQAwCK4cW2QlARIts5/upCEA=",
          "dtype": "f8"
         }
        },
        {
         "hoverinfo": "skip",
         "line": {
          "color": "blue",
          "dash": "dash"
         },
         "mode": "lines",
         "name": "Trend Line",
         "type": "scatter",
         "visible": true,
         "x": {
          "bdata": "SOF6FK6HP0ByLYIGJAhAQEDqxgJxTEBADqcL/72QQEDcY1D7CtVAQKoglfdXGUFAeN3Z86RdQUBHmh7w8aFBQBVXY+w+5kFA4xOo6IsqQkCx0Ozk2G5CQH+NMeEls0JATUp23XL3QkAbB7vZvztDQOnD/9UMgENAt4BE0lnEQ0CFPYnOpghEQFP6zcrzTERAIrcSx0CRREDwc1fDjdVEQL4wnL/aGUVAjO3guydeRUBaqiW4dKJFQChnarTB5kVA9iOvsA4rRkDE4POsW29GQJKdOKmos0ZAYFp9pfX3RkAuF8KhQjxHQPzTBp6PgEdAypBLmtzER0CYTZCWKQlIQGYK1ZJ2TUhANMcZj8ORSEAChF6LENZIQNBAo4ddGklAn/3ng6peSUBtuiyA96JJQDt3cXxE50lACTS2eJErSkDX8Pp03m9KQKWtP3ErtEpAdGqEbXj4SkBCJ8lpxTxLQBDkDWYSgUtA3qBSYl/FS0CsXZderAlMQHoa3Fr5TUxASNcgV0aSTEAWlGVTk9ZMQORQqk/gGk1Asg3vSy1fTUCAyjNIeqNNQE6HeETH501AHES9QBQsTkDqAAI9YXBOQLi9RjmutE5AhnqLNfv4TkBUN9AxSD1PQCL0FC6VgU9A8bBZKuLFT0DgNk+TFwVQQEaVcRE+J1BArvOTj2RJUEAUUrYNi2tQQHyw2IuxjVBA4g77CdivUEBKbR2I/tFQQLDLPwYl9FBAGCpihEsWUUB+iIQCcjhRQObmpoCYWlFATUXJ/r58UUC0o+t85Z5RQBsCDvsLwVFAgmAweTLjUUDpvlL3WAVSQFAddXV/J1JAt3uX86VJUkAe2rlxzGtSQIU43O/yjVJA7Jb+bRmwUkBT9SDsP9JSQLpTQ2pm9FJAIrJl6IwWU0CIEIhmszhTQPBuquTZWlNAVs3MYgB9U0C+K+/gJp9TQCSKEV9NwVNAjOgz3XPjU0DyRlZbmgVUQFqleNnAJ1RAwAObV+dJVEAoYr3VDWxUQI7A31M0jlRA9h4C0lqwVEBdfSRQgdJUQMTbRs6n9FRAKzppTM4WVUA=",
          "dtype": "f8"
         },
         "y": {
          "bdata": "5okjeck39D/sPfJ7Jxb1P/LxwH6F9PU/9qWPgePS9j/8WV6EQbH3PwIOLYefj/g/BsL7if1t+T8QdsqMW0z6PxQqmY+5Kvs/Gt5nkhcJ/D8gkjaVdef8PyRGBZjTxf0/KvrTmjGk/j8wrqKdj4L/PxqxONB2MABAHQug0aWfAEAfZQfT1A4BQCO/btQDfgFAJxnW1TLtAUApcz3XYVwCQC3NpNiQywJALycM2r86A0AxgXPb7qkDQDXb2twdGQRANzVC3kyIBEA5j6nfe/cEQD3pEOGqZgVAP0N44tnVBUBBnd/jCEUGQEX3RuU3tAZAR1Gu5mYjB0BJqxXolZIHQE0FfenEAQhAT1/k6vNwCEBRuUvsIuAIQFUTs+1RTwlAWW0a74C+CUBbx4Hwry0KQF0h6fHenApAYXtQ8w0MC0Bj1bf0PHsLQGUvH/Zr6gtAa4mG95pZDEBt4+34ycgMQG89Vfr4Nw1Ac5e8+yenDUB18SP9VhYOQHdLi/6FhQ5Ae6Xy/7T0DkB9/1kB5GMPQH9ZwQIT0w9AwlkUAiEhEEDCBsiCuFgQQMSzewNQkBBAxmAvhOfHEEDGDeMEf/8QQMi6loUWNxFAymdKBq5uEUDKFP6GRaYRQMzBsQfd3RFAzm5liHQVEkDQGxkJDE0SQNDIzImjhBJA0nWACju8EkDSIjSL0vMSQNbP5wtqKxNA1nybjAFjE0DYKU8NmZoTQNjWAo4w0hNA2oO2DsgJFEDaMGqPX0EUQN7dHRD3eBRA3orRkI6wFEDgN4URJugUQOLkOJK9HxVA4pHsElVXFUDkPqCT7I4VQObrUxSExhVA5pgHlRv+FUDoRbsVszUWQOrybpZKbRZA6p8iF+KkFkDsTNaXedwWQO75iRgRFBdA8KY9mahLF0DwU/EZQIMXQPQApZrXuhdA8q1YG2/yF0D2WgycBioYQPYHwByeYRhA+LRznTWZGED4YScezdAYQPoO255kCBlA+ruOH/w/GUD+aEKgk3cZQP4V9iArrxlAAMOpocLmGUACcF0iWh4aQAIdEaPxVRpABMrEI4mNGkA=",
          "dtype": "f8"
         }
        },
        {
         "hoverinfo": "skip",
         "line": {
          "color": "blue",
          "dash": "dash"
         },
         "mode": "lines",
         "name": "Trend Line",
         "type": "scatter",
         "visible": false,
         "x": {
          "bdata": "mpmZmZmZuT/wK2wlKb3YP734OPL1ieU/gtu7UVe17j8kX59YXPDzP4bQYAgNhvg/6UEiuL0b/T+m2fEzt9gAQFeS0ouPIwNACEuz42duBUC5A5Q7QLkHQGu8dJMYBApAHHVV6/BODEDNLTZDyZkOQD9zi81QchBAl897+byXEUDwK2wlKb0SQEmIXFGV4hNAoeRMfQEIFUD6QD2pbS0WQFKdLdXZUhdAq/kdAUZ4GEAEVg4tsp0ZQFyy/lgewxpAtQ7vhIroG0AOa9+w9g0dQGbHz9xiMx5AvyPACM9YH0AMQFiaHT8gQDhuULDT0SBAZJxIxolkIUCRykDcP/chQL34OPL1iSJA6SYxCKwcI0AWVSkeYq8jQEKDITQYQiRAbrEZSs7UJECb3xFghGclQMcNCnY6+iVA8zsCjPCMJkAfavqhph8nQEyY8rdcsidAeMbqzRJFKECk9OLjyNcoQNEi2/l+ailA/VDTDzX9KUApf8sl648qQFatwzuhIitAgtu7UVe1K0CuCbRnDUgsQNs3rH3D2ixAB2akk3ltLUAzlJypLwAuQGDClL/lki5AjPCM1ZslL0C4HoXrUbgvQHOmvgCEJTBAib26C99uMECf1LYWOrgwQLXrsiGVATFAywKvLPBKMUDiGas3S5QxQPgwp0Km3TFADkijTQEnMkAkX59YXHAyQDp2m2O3uTJAUI2XbhIDM0BmpJN5bUwzQH27j4TIlTNAk9KLjyPfM0Cp6Yeafig0QL8AhKXZcTRA1ReAsDS7NEDrLny7jwQ1QAJGeMbqTTVAGF100UWXNUAudHDcoOA1QESLbOf7KTZAWqJo8lZzNkBwuWT9sbw2QIbQYAgNBjdAnedcE2hPN0Cz/lgew5g3QMkVVSke4jdA3yxRNHkrOED1Q00/1HQ4QAtbSUovvjhAInJFVYoHOUA4iUFg5VA5QE6gPWtAmjlAZLc5dpvjOUB6zjWB9iw6QJDlMYxRdjpAp/wtl6y/OkC9EyqiBwk7QNMqJq1iUjtA6UEiuL2bO0D/WB7DGOU7QBVwGs5zLjxAK4cW2c53PEA=",
          "dtype": "f8"
         },
         "y": {
          "bdata": "hEJFZB9GGEB6D5dWbzcYQHDc6Ei/KBhAZqk6Ow8aGEBcdowtXwsYQFJD3h+v/BdASRAwEv/tF0A/3YEET98XQDWq0/ae0BdAK3cl6e7BF0AhRHfbPrMXQBcRyc2OpBdADd4awN6VF0ADq2yyLocXQPl3vqR+eBdA70QQl85pF0DlEWKJHlsXQNves3tuTBdA0qsFbr49F0DIeFdgDi8XQL5FqVJeIBdAtBL7RK4RF0Cq30w3/gIXQKCsnilO9BZAlnnwG57lFkCMRkIO7tYWQIITlAA+yBZAeODl8o25FkBurTfl3aoWQGR6idctnBZAW0fbyX2NFkBRFC28zX4WQEfhfq4dcBZAPa7QoG1hFkAzeyKTvVIWQClIdIUNRBZAHxXGd101FkAV4hdqrSYWQAuvaVz9FxZAAXy7Tk0JFkD3SA1BnfoVQO0VXzPt6xVA5OKwJT3dFUDarwIYjc4VQNB8VArdvxVAxkmm/CyxFUC8FvjufKIVQLLjSeHMkxVAqLCb0xyFFUCefe3FbHYVQJRKP7i8ZxVAiheRqgxZFUCA5OKcXEoVQHaxNI+sOxVAbH6GgfwsFUBjS9hzTB4VQFgYKmacDxVAT+V7WOwAFUBFss1KPPIUQDt/Hz2M4xRAMUxxL9zUFEAnGcMhLMYUQB3mFBR8txRAE7NmBsyoFEAJgLj4G5oUQP9MCutrixRA9hlc3bt8FEDs5q3PC24UQOKz/8FbXxRA2IBRtKtQFEDOTaOm+0EUQMQa9ZhLMxRAuudGi5skFECwtJh96xUUQKaB6m87BxRAnE48Yov4E0CSG45U2+kTQIjo30Yr2xNAfrUxOXvME0B0goMry70TQGtP1R0brxNAYBwnEGugE0BX6XgCu5ETQE22yvQKgxNAQ4Mc51p0E0A5UG7ZqmUTQC8dwMv6VhNAJeoRvkpIE0Abt2OwmjkTQBGEtaLqKhNACFEHlTocE0D+HVmHig0TQPTqqnna/hJA6rf8ayrwEkDghE5eeuESQNZRoFDK0hJAzB7yQhrEEkDC60M1arUSQLi4lSe6phJAroXnGQqYEkA=",
          "dtype": "f8"
         }
        },
        {
         "hoverinfo": "skip",
         "line": {
          "color": "blue",
          "dash": "dash"
         },
         "mode": "lines",
         "name": "Trend Line",
         "type": "scatter",
         "visible": false,
         "x": {
          "bdata": "mzvP31Hx1j/sT/tE07zcPx+yE1UqROE/SLypB+sp5D9wxj+6qw/nP5rQ1Wxs9ek/wtprHy3b7D/q5AHS7cDvP4r3S0JXU/E/nvyWmzfG8j+zAeL0Fzn0P8cGLU74q/U/2wt4p9ge9z/wEMMAuZH4PwQWDlqZBPo/GRtZs3l3+z8tIKQMWur8P0El72U6Xf4/Vio6vxrQ/z+1l0KMfaEAQD8a6LjtWgFAyZyN5V0UAkBTHzMSzs0CQN2h2D4+hwNAZyR+a65ABEDypiOYHvoEQHwpycSOswVABqxu8f5sBkCQLhQebyYHQBqxuUrf3wdApTNfd0+ZCEAvtgSkv1IJQLk4qtAvDApAQ7tP/Z/FCkDNPfUpEH8LQFjAmlaAOAxA4kJAg/DxDEBsxeWvYKsNQPZHi9zQZA5AgMowCUEeD0ALTdY1sdcPQMvnPbGQSBBAEKmQx0ilEEBVauPdAAIRQJorNvS4XhFA3+yICnG7EUAkrtsgKRgSQGlvLjfhdBJArjCBTZnREkD08dNjUS4TQDmzJnoJixNAfnR5kMHnE0DDNcymeUQUQAj3Hr0xoRRATbhx0+n9FECSecTpoVoVQNc6FwBatxVAHPxpFhIUFkBhvbwsynAWQKd+D0OCzRZA7D9iWToqF0AxAbVv8oYXQHbCB4aq4xdAu4NanGJAGEAARa2yGp0YQEUGAMnS+RhAisdS34pWGUDPiKX1QrMZQBRK+Av7DxpAWQtLIrNsGkCfzJ04a8kaQOSN8E4jJhtAKU9DZduCG0BuEJZ7k98bQLPR6JFLPBxA+JI7qAOZHEA9VI6+u/UcQIIV4dRzUh1Ax9Yz6yuvHUAMmIYB5AseQFJZ2RecaB5AlxosLlTFHkDc235EDCIfQCGd0VrEfh9AZl4kcXzbH0DVj7tDGhwgQHjw5E52SiBAGlEOWtJ4IEC9sTdlLqcgQGASYXCK1SBAAnOKe+YDIUCl07OGQjIhQEc03ZGeYCFA6pQGnfqOIUCM9S+oVr0hQC9WWbOy6yFA0baCvg4aIkB0F6zJakgiQBd41dTGdiJAudj+3yKlIkA=",
          "dtype": "f8"
         },
         "y": {
          "bdata": "fdxkf2u2EkDyIkpGdcoSQGZpLw1/3hJA268U1IjyEkBP9vmakgYTQMQ832GcGhNAOIPEKKYuE0Ctyanvr0ITQCEQj7a5VhNAllZ0fcNqE0AKnVlEzX4TQH/jPgvXkhNA8ykk0uCmE0BocAmZ6roTQNy27l/0zhNAUf3TJv7iE0DFQ7ntB/cTQDqKnrQRCxRArtCDexsfFEAjF2lCJTMUQJddTgkvRxRADKQz0DhbFECA6hiXQm8UQPQw/l1MgxRAaXfjJFaXFEDevcjrX6sUQFIErrJpvxRAx0qTeXPTFEA7kXhAfecUQLDXXQeH+xRAJB5DzpAPFUCZZCiVmiMVQA2rDVykNxVAgvHyIq5LFUD2N9jpt18VQGt+vbDBcxVA38Sid8uHFUBUC4g+1ZsVQMhRbQXfrxVAPJhSzOjDFUCx3jeT8tcVQCYlHVr86xVAmmsCIQYAFkAPsufnDxQWQIP4zK4ZKBZA+D6ydSM8FkBshZc8LVAWQOHLfAM3ZBZAVRJiykB4FkDKWEeRSowWQD6fLFhUoBZAs+URH160FkAnLPflZ8gWQJxy3Kxx3BZAELnBc3vwFkCF/6Y6hQQXQPlFjAGPGBdAboxxyJgsF0Di0laPokAXQFcZPFasVBdAy18hHbZoF0BApgbkv3wXQLTs66rJkBdAKTPRcdOkF0CdebY43bgXQBLAm//mzBdAhgaBxvDgF0D7TGaN+vQXQG+TS1QECRhA5NkwGw4dGEBYIBbiFzEYQM1m+6ghRRhAQa3gbytZGEC288U2NW0YQCo6q/0+gRhAn4CQxEiVGEATx3WLUqkYQIgNW1JcvRhA/FNAGWbRGEBxmiXgb+UYQOXgCqd5+RhAWifwbYMNGUDObdU0jSEZQEO0uvuWNRlAt/qfwqBJGUAsQYWJql0ZQKCHalC0cRlAFM5PF76FGUCJFDXex5kZQP5aGqXRrRlAcqH/a9vBGUDn5+Qy5dUZQFsuyvnu6RlA0HSvwPj9GUBEu5SHAhIaQLkBek4MJhpALUhfFRY6GkCijkTcH04aQBbVKaMpYhpAihsPajN2GkA=",
          "dtype": "f8"
         }
        }
       ],
       "layout": {
        "autosize": false,
        "height": 600,
        "hoverlabel": {
         "font": {
          "size": 12
         }
        },
        "legend": {
         "borderwidth": 0,
         "font": {
          "size": 12
         },
         "x": 0.01,
         "y": 0.99
        },
        "margin": {
         "b": 80,
         "l": 80,
         "r": 80,
         "t": 80
        },
        "paper_bgcolor": "#EDF1EC",
        "plot_bgcolor": "#EDF1EC",
        "showlegend": true,
        "sliders": [
         {
          "active": 0,
          "currentvalue": {
           "prefix": "Metric: "
          },
          "len": 0.9,
          "pad": {
           "t": 50
          },
          "steps": [
           {
            "args": [
             {
              "visible": [
               true,
               false,
               false,
               true,
               false,
               false
              ]
             },
             {
              "title": {
               "text": "Happiness vs Life Expectancy"
              },
              "xaxis": {
               "fixedrange": true,
               "range": [
                31.53,
                84.35634146
               ],
               "title": "Life Expectancy (years)"
              },
              "yaxis": {
               "fixedrange": true,
               "range": [
                1,
                10
               ],
               "title": "Happiness"
              }
             }
            ],
            "label": "Life Expectancy",
            "method": "update"
           },
           {
            "args": [
             {
              "visible": [
               false,
               true,
               false,
               false,
               true,
               false
              ]
             },
             {
              "title": {
               "text": "Happiness vs Unemployment Rate"
              },
              "xaxis": {
               "fixedrange": true,
               "range": [
                0.1,
                28.468
               ],
               "title": "Unemployment Rate (%)"
              },
              "yaxis": {
               "fixedrange": true,
               "range": [
                1,
                10
               ],
               "title": "Happiness"
              }
             }
            ],
            "label": "Unemployment Rate",
            "method": "update"
           },
           {
            "args": [
             {
              "visible": [
               false,
               false,
               true,
               false,
               false,
               true
              ]
             },
             {
              "title": {
               "text": "Happiness vs Education Expenditure"
              },
              "xaxis": {
               "fixedrange": true,
               "range": [
                0.358478993,
                9.3225317
               ],
               "title": "Education Expenditure (% of GDP)"
              },
              "yaxis": {
               "fixedrange": true,
               "range": [
                1,
                10
               ],
               "title": "Happiness"
              }
             }
            ],
            "label": "Education Expenditure",
            "method": "update"
           }
          ],
          "x": 0.1,
          "xanchor": "left"
         }
        ],
        "template": {
         "data": {
          "bar": [
           {
            "error_x": {
             "color": "#2a3f5f"
            },
            "error_y": {
             "color": "#2a3f5f"
            },
            "marker": {
             "line": {
              "color": "#E5ECF6",
              "width": 0.5
             },
             "pattern": {
              "fillmode": "overlay",
              "size": 10,
              "solidity": 0.2
             }
            },
            "type": "bar"
           }
          ],
          "barpolar": [
           {
            "marker": {
             "line": {
              "color": "#E5ECF6",
              "width": 0.5
             },
             "pattern": {
              "fillmode": "overlay",
              "size": 10,
              "solidity": 0.2
             }
            },
            "type": "barpolar"
           }
          ],
          "carpet": [
           {
            "aaxis": {
             "endlinecolor": "#2a3f5f",
             "gridcolor": "white",
             "linecolor": "white",
             "minorgridcolor": "white",
             "startlinecolor": "#2a3f5f"
            },
            "baxis": {
             "endlinecolor": "#2a3f5f",
             "gridcolor": "white",
             "linecolor": "white",
             "minorgridcolor": "white",
             "startlinecolor": "#2a3f5f"
            },
            "type": "carpet"
           }
          ],
          "choropleth": [
           {
            "colorbar": {
             "outlinewidth": 0,
             "ticks": ""
            },
            "type": "choropleth"
           }
          ],
          "contour": [
           {
            "colorbar": {
             "outlinewidth": 0,
             "ticks": ""
            },
            "colorscale": [
             [
              0,
              "#0d0887"
             ],
             [
              0.1111111111111111,
              "#46039f"
             ],
             [
              0.2222222222222222,
              "#7201a8"
             ],
             [
              0.3333333333333333,
              "#9c179e"
             ],
             [
              0.4444444444444444,
              "#bd3786"
             ],
             [
              0.5555555555555556,
              "#d8576b"
             ],
             [
              0.6666666666666666,
              "#ed7953"
             ],
             [
              0.7777777777777778,
              "#fb9f3a"
             ],
             [
              0.8888888888888888,
              "#fdca26"
             ],
             [
              1,
              "#f0f921"
             ]
            ],
            "type": "contour"
           }
          ],
          "contourcarpet": [
           {
            "colorbar": {
             "outlinewidth": 0,
             "ticks": ""
            },
            "type": "contourcarpet"
           }
          ],
          "heatmap": [
           {
            "colorbar": {
             "outlinewidth": 0,
             "ticks": ""
            },
            "colorscale": [
             [
              0,
              "#0d0887"
             ],
             [
              0.1111111111111111,
              "#46039f"
             ],
             [
              0.2222222222222222,
              "#7201a8"
             ],
             [
              0.3333333333333333,
              "#9c179e"
             ],
             [
              0.4444444444444444,
              "#bd3786"
             ],
             [
              0.5555555555555556,
              "#d8576b"
             ],
             [
              0.6666666666666666,
              "#ed7953"
             ],
             [
              0.7777777777777778,
              "#fb9f3a"
             ],
             [
              0.8888888888888888,
              "#fdca26"
             ],
             [
              1,
              "#f0f921"
             ]
            ],
            "type": "heatmap"
           }
          ],
          "histogram": [
           {
            "marker": {
             "pattern": {
              "fillmode": "overlay",
              "size": 10,
              "solidity": 0.2
             }
            },
            "type": "histogram"
           }
          ],
          "histogram2d": [
           {
            "colorbar": {
             "outlinewidth": 0,
             "ticks": ""
            },
            "colorscale": [
             [
              0,
              "#0d0887"
             ],
             [
              0.1111111111111111,
              "#46039f"
             ],
             [
              0.2222222222222222,
              "#7201a8"
             ],
             [
              0.3333333333333333,
              "#9c179e"
             ],
             [
              0.4444444444444444,
              "#bd3786"
             ],
             [
              0.5555555555555556,
              "#d8576b"
             ],
             [
              0.6666666666666666,
              "#ed7953"
             ],
             [
              0.7777777777777778,
              "#fb9f3a"
             ],
             [
              0.8888888888888888,
              "#fdca26"
             ],
             [
              1,
              "#f0f921"
             ]
            ],
            "type": "histogram2d"
           }
          ],
          "histogram2dcontour": [
           {
            "colorbar": {
             "outlinewidth": 0,
             "ticks": ""
            },
            "colorscale": [
             [
              0,
              "#0d0887"
             ],
             [
              0.1111111111111111,
              "#46039f"
             ],
             [
              0.2222222222222222,
              "#7201a8"
             ],
             [
              0.3333333333333333,
              "#9c179e"
             ],
             [
              0.4444444444444444,
              "#bd3786"
             ],
             [
              0.5555555555555556,
              "#d8576b"
             ],
             [
              0.6666666666666666,
              "#ed7953"
             ],
             [
              0.7777777777777778,
              "#fb9f3a"
             ],
             [
              0.8888888888888888,
              "#fdca26"
             ],
             [
              1,
              "#f0f921"
             ]
            ],
            "type": "histogram2dcontour"
           }
          ],
          "mesh3d": [
           {
            "colorbar": {
             "outlinewidth": 0,
             "ticks": ""
            },
            "type": "mesh3d"
           }
          ],
          "parcoords": [
           {
            "line": {
             "colorbar": {
              "outlinewidth": 0,
              "ticks": ""
             }
            },
            "type": "parcoords"
           }
          ],
          "pie": [
           {
            "automargin": true,
            "type": "pie"
           }
          ],
          "scatter": [
           {
            "fillpattern": {
             "fillmode": "overlay",
             "size": 10,
             "solidity": 0.2
            },
            "type": "scatter"
           }
          ],
          "scatter3d": [
           {
            "line": {
             "colorbar": {
              "outlinewidth": 0,
              "ticks": ""
             }
            },
            "marker": {
             "colorbar": {
              "outlinewidth": 0,
              "ticks": ""
             }
            },
            "type": "scatter3d"
           }
          ],
          "scattercarpet": [
           {
            "marker": {
             "colorbar": {
              "outlinewidth": 0,
              "ticks": ""
             }
            },
            "type": "scattercarpet"
           }
          ],
          "scattergeo": [
           {
            "marker": {
             "colorbar": {
              "outlinewidth": 0,
              "ticks": ""
             }
            },
            "type": "scattergeo"
           }
          ],
          "scattergl": [
           {
            "marker": {
             "colorbar": {
              "outlinewidth": 0,
              "ticks": ""
             }
            },
            "type": "scattergl"
           }
          ],
          "scattermap": [
           {
            "marker": {
             "colorbar": {
              "outlinewidth": 0,
              "ticks": ""
             }
            },
            "type": "scattermap"
           }
          ],
          "scattermapbox": [
           {
            "marker": {
             "colorbar": {
              "outlinewidth": 0,
              "ticks": ""
             }
            },
            "type": "scattermapbox"
           }
          ],
          "scatterpolar": [
           {
            "marker": {
             "colorbar": {
              "outlinewidth": 0,
              "ticks": ""
             }
            },
            "type": "scatterpolar"
           }
          ],
          "scatterpolargl": [
           {
            "marker": {
             "colorbar": {
              "outlinewidth": 0,
              "ticks": ""
             }
            },
            "type": "scatterpolargl"
           }
          ],
          "scatterternary": [
           {
            "marker": {
             "colorbar": {
              "outlinewidth": 0,
              "ticks": ""
             }
            },
            "type": "scatterternary"
           }
          ],
          "surface": [
           {
            "colorbar": {
             "outlinewidth": 0,
             "ticks": ""
            },
            "colorscale": [
             [
              0,
              "#0d0887"
             ],
             [
              0.1111111111111111,
              "#46039f"
             ],
             [
              0.2222222222222222,
              "#7201a8"
             ],
             [
              0.3333333333333333,
              "#9c179e"
             ],
             [
              0.4444444444444444,
              "#bd3786"
             ],
             [
              0.5555555555555556,
              "#d8576b"
             ],
             [
              0.6666666666666666,
              "#ed7953"
             ],
             [
              0.7777777777777778,
              "#fb9f3a"
             ],
             [
              0.8888888888888888,
              "#fdca26"
             ],
             [
              1,
              "#f0f921"
             ]
            ],
            "type": "surface"
           }
          ],
          "table": [
           {
            "cells": {
             "fill": {
              "color": "#EBF0F8"
             },
             "line": {
              "color": "white"
             }
            },
            "header": {
             "fill": {
              "color": "#C8D4E3"
             },
             "line": {
              "color": "white"
             }
            },
            "type": "table"
           }
          ]
         },
         "layout": {
          "annotationdefaults": {
           "arrowcolor": "#2a3f5f",
           "arrowhead": 0,
           "arrowwidth": 1
          },
          "autotypenumbers": "strict",
          "coloraxis": {
           "colorbar": {
            "outlinewidth": 0,
            "ticks": ""
           }
          },
          "colorscale": {
           "diverging": [
            [
             0,
             "#8e0152"
            ],
            [
             0.1,
             "#c51b7d"
            ],
            [
             0.2,
             "#de77ae"
            ],
            [
             0.3,
             "#f1b6da"
            ],
            [
             0.4,
             "#fde0ef"
            ],
            [
             0.5,
             "#f7f7f7"
            ],
            [
             0.6,
             "#e6f5d0"
            ],
            [
             0.7,
             "#b8e186"
            ],
            [
             0.8,
             "#7fbc41"
            ],
            [
             0.9,
             "#4d9221"
            ],
            [
             1,
             "#276419"
            ]
           ],
           "sequential": [
            [
             0,
             "#0d0887"
            ],
            [
             0.1111111111111111,
             "#46039f"
            ],
            [
             0.2222222222222222,
             "#7201a8"
            ],
            [
             0.3333333333333333,
             "#9c179e"
            ],
            [
             0.4444444444444444,
             "#bd3786"
            ],
            [
             0.5555555555555556,
             "#d8576b"
            ],
            [
             0.6666666666666666,
             "#ed7953"
            ],
            [
             0.7777777777777778,
             "#fb9f3a"
            ],
            [
             0.8888888888888888,
             "#fdca26"
            ],
            [
             1,
             "#f0f921"
            ]
           ],
           "sequentialminus": [
            [
             0,
             "#0d0887"
            ],
            [
             0.1111111111111111,
             "#46039f"
            ],
            [
             0.2222222222222222,
             "#7201a8"
            ],
            [
             0.3333333333333333,
             "#9c179e"
            ],
            [
             0.4444444444444444,
             "#bd3786"
            ],
            [
             0.5555555555555556,
             "#d8576b"
            ],
            [
             0.6666666666666666,
             "#ed7953"
            ],
            [
             0.7777777777777778,
             "#fb9f3a"
            ],
            [
             0.8888888888888888,
             "#fdca26"
            ],
            [
             1,
             "#f0f921"
            ]
           ]
          },
          "colorway": [
           "#636efa",
           "#EF553B",
           "#00cc96",
           "#ab63fa",
           "#FFA15A",
           "#19d3f3",
           "#FF6692",
           "#B6E880",
           "#FF97FF",
           "#FECB52"
          ],
          "font": {
           "color": "#2a3f5f"
          },
          "geo": {
           "bgcolor": "white",
           "lakecolor": "white",
           "landcolor": "#E5ECF6",
           "showlakes": true,
           "showland": true,
           "subunitcolor": "white"
          },
          "hoverlabel": {
           "align": "left"
          },
          "hovermode": "closest",
          "mapbox": {
           "style": "light"
          },
          "paper_bgcolor": "white",
          "plot_bgcolor": "#E5ECF6",
          "polar": {
           "angularaxis": {
            "gridcolor": "white",
            "linecolor": "white",
            "ticks": ""
           },
           "bgcolor": "#E5ECF6",
           "radialaxis": {
            "gridcolor": "white",
            "linecolor": "white",
            "ticks": ""
           }
          },
          "scene": {
           "xaxis": {
            "backgroundcolor": "#E5ECF6",
            "gridcolor": "white",
            "gridwidth": 2,
            "linecolor": "white",
            "showbackground": true,
            "ticks": "",
            "zerolinecolor": "white"
           },
           "yaxis": {
            "backgroundcolor": "#E5ECF6",
            "gridcolor": "white",
            "gridwidth": 2,
            "linecolor": "white",
            "showbackground": true,
            "ticks": "",
            "zerolinecolor": "white"
           },
           "zaxis": {
            "backgroundcolor": "#E5ECF6",
            "gridcolor": "white",
            "gridwidth": 2,
            "linecolor": "white",
            "showbackground": true,
            "ticks": "",
            "zerolinecolor": "white"
           }
          },
          "shapedefaults": {
           "line": {
            "color": "#2a3f5f"
           }
          },
          "ternary": {
           "aaxis": {
            "gridcolor": "white",
            "linecolor": "white",
            "ticks": ""
           },
           "baxis": {
            "gridcolor": "white",
            "linecolor": "white",
            "ticks": ""
           },
           "bgcolor": "#E5ECF6",
           "caxis": {
            "gridcolor": "white",
            "linecolor": "white",
            "ticks": ""
           }
          },
          "title": {
           "x": 0.05
          },
          "xaxis": {
           "automargin": true,
           "gridcolor": "white",
           "linecolor": "white",
           "ticks": "",
           "title": {
            "standoff": 15
           },
           "zerolinecolor": "white",
           "zerolinewidth": 2
          },
          "yaxis": {
           "automargin": true,
           "gridcolor": "white",
           "linecolor": "white",
           "ticks": "",
           "title": {
            "standoff": 15
           },
           "zerolinecolor": "white",
           "zerolinewidth": 2
          }
         }
        },
        "title": {
         "text": "Happiness vs Life Expectancy"
        },
        "width": 800,
        "xaxis": {
         "fixedrange": true,
         "range": [
          31.53,
          84.35634146
         ],
         "tickfont": {
          "size": 12
         },
         "title": {
          "font": {
           "size": 14
          },
          "text": "Life Expectancy (years)"
         }
        },
        "yaxis": {
         "dtick": 1,
         "fixedrange": true,
         "range": [
          1,
          10
         ],
         "tickfont": {
          "size": 12
         },
         "tickmode": "linear",
         "title": {
          "font": {
           "size": 14
          },
          "text": "Happiness"
         }
        }
       }
      },
      "text/html": [
       "<div>            <script src=\"https://cdnjs.cloudflare.com/ajax/libs/mathjax/2.7.5/MathJax.js?config=TeX-AMS-MML_SVG\"></script><script type=\"text/javascript\">if (window.MathJax && window.MathJax.Hub && window.MathJax.Hub.Config) {window.MathJax.Hub.Config({SVG: {font: \"STIX-Web\"}});}</script>                <script type=\"text/javascript\">window.PlotlyConfig = {MathJaxConfig: 'local'};</script>\n",
       "        <script charset=\"utf-8\" src=\"https://cdn.plot.ly/plotly-3.0.1.min.js\"></script>                <div id=\"1d222feb-e6f4-4c37-ad29-fc26cfe7d877\" class=\"plotly-graph-div\" style=\"height:600px; width:800px;\"></div>            <script type=\"text/javascript\">                window.PLOTLYENV=window.PLOTLYENV || {};                                if (document.getElementById(\"1d222feb-e6f4-4c37-ad29-fc26cfe7d877\")) {                    Plotly.newPlot(                        \"1d222feb-e6f4-4c37-ad29-fc26cfe7d877\",                        [{\"customdata\":{\"dtype\":\"i2\",\"bdata\":\"AQACAAMABAAFAAYABwAIAAkACgALAAwADQAOAA8AEAARABIAEwAUABUAFgAXABgAGQAaABsAHAAdAB4AHwAgACEAIgAjACQAJQAmACcAKAApACoAKwAsAC0ALgAvADAAMQAyADMANAA1ADYANwA4ADkAOgA7ADwAPQA+AD8AQABBAEIAQwBEAEUARgBHAEgASQBKAEsATABNAE4ATwBPAFEAUgBTAFQAVQBWAFcAWABZAFoAWwBcAF0AXgBfAGAAYQBiAGMAZABlAGYAZwBoAGkAagBrAGwAbQBuAG8AcABxAHIAcwB0AHUAdgB3AHgAeQB6AHsAfAB9AH4AfwCAAIEAggCDAIQAhQA=\"},\"hovertemplate\":\"Country: %{text}\\u003cbr\\u003eRank: %{customdata} out of 133\\u003cbr\\u003eLife Expectancy: %{x:.1f} years\\u003cbr\\u003eHappiness: %{y:.2f}\\u003cextra\\u003e\\u003c\\u002fextra\\u003e\",\"mode\":\"markers\",\"name\":\"Life Expectancy\",\"text\":[\"Finland\",\"Denmark\",\"Norway\",\"Iceland\",\"Netherlands\",\"Switzerland\",\"Sweden\",\"New Zealand\",\"Canada\",\"Austria\",\"Australia\",\"Costa Rica\",\"Israel\",\"Luxembourg\",\"United Kingdom\",\"Ireland\",\"Germany\",\"Belgium\",\"United States\",\"United Arab Emirates\",\"Malta\",\"Mexico\",\"France\",\"Chile\",\"Guatemala\",\"Saudi Arabia\",\"Qatar\",\"Spain\",\"Panama\",\"Brazil\",\"Uruguay\",\"Singapore\",\"El Salvador\",\"Italy\",\"Bahrain\",\"Poland\",\"Uzbekistan\",\"Lithuania\",\"Colombia\",\"Slovenia\",\"Nicaragua\",\"Kosovo\",\"Argentina\",\"Romania\",\"Cyprus\",\"Ecuador\",\"Kuwait\",\"Thailand\",\"Latvia\",\"Estonia\",\"Jamaica\",\"Mauritius\",\"Japan\",\"Honduras\",\"Kazakhstan\",\"Bolivia\",\"Hungary\",\"Paraguay\",\"Peru\",\"Portugal\",\"Pakistan\",\"Philippines\",\"Serbia\",\"Moldova\",\"Libya\",\"Montenegro\",\"Tajikistan\",\"Croatia\",\"Dominican Republic\",\"Bosnia and Herzegovina\",\"Malaysia\",\"Belarus\",\"Greece\",\"Mongolia\",\"North Macedonia\",\"Nigeria\",\"Turkmenistan\",\"Algeria\",\"Morocco\",\"Azerbaijan\",\"Lebanon\",\"Indonesia\",\"China\",\"Bhutan\",\"Cameroon\",\"Bulgaria\",\"Ghana\",\"Nepal\",\"Jordan\",\"Benin\",\"Gabon\",\"South Africa\",\"Albania\",\"Cambodia\",\"Senegal\",\"Somalia\",\"Namibia\",\"Niger\",\"Burkina Faso\",\"Armenia\",\"Guinea\",\"Georgia\",\"Kenya\",\"Mauritania\",\"Mozambique\",\"Tunisia\",\"Bangladesh\",\"Iraq\",\"Mali\",\"Sierra Leone\",\"Sri Lanka\",\"Myanmar\",\"Chad\",\"Ukraine\",\"Ethiopia\",\"Uganda\",\"Zambia\",\"Togo\",\"India\",\"Liberia\",\"Comoros\",\"Madagascar\",\"Lesotho\",\"Burundi\",\"Zimbabwe\",\"Haiti\",\"Botswana\",\"Malawi\",\"Rwanda\",\"Tanzania\",\"Afghanistan\",\"Central African Republic\",\"South Sudan\"],\"visible\":true,\"x\":{\"dtype\":\"f8\",\"bdata\":\"gE3vReh+VEAZscvH4FxUQHCE2qlYvVRAbuKiYnXKVEDuynA0LodUQJHnn4Xp+VRAVgJzPgbHVEB3ZTgal4NUQLZAq2F5ilRAokuTrUl5VECamZmZmblUQG3n+6nxElRAK4E5H4OzVEBeGY7G5ahUQBbfq7GfV1RAZZXKwvSsVECjHC9Ru1JUQAiy+ROwf1RAq84oZWuyU0CgGi\\u002fdJKZUQD1Rp3YlqlRAUrgeheuhUkCjgVDF6rRUQNv5fmq8FFRAN4lBYOXoUUB56SYxCJRTQBSuR+F6vFRAm89WsTr1VEA3iUFg5aBTQLKd76fG81JA1XjpJjFgU0BvGGB6FuZUQGZmZmZm7lFAaDcCCtjfVECgGi\\u002fdJB5UQJHnn4XpeVNAy6FFtvMFUkCzgCJ5GxJTQJhuEoPAMlNACBcbiN9hVEA3iUFg5XBSQA4tsp3vT1NAke18PzU2U0D2fGpI3uZSQJMYBFYOXVRA\\u002fKnx0k1SU0AtpuN7EH5UQPhT46WbTFNAEjWPy9HYUkDuL5KoXalTQDVeukkM4lFA4hXzORiPUkArOmlMzhZVQA4tsp3vB1JAJzEIrBxqUkAUrkfhevRQQBNrTONyFFNAmG4Sg8BqUkCamZmZmRFTQL0DuDA9a1RALbKd76euUEDsUbgehWtRQPmDwwPx+1JA3SQGgZWLUUBOYhBYOTxSQE0avBK1K1NAIbByaJG9UUDdleFoXI5TQLpJDAIrR1JA8KfGSzdZU0CamZmZmflSQDwb6l6EjlJAXhmOxuVoVEAWnTQmZ8NRQP8uZFyOJlNA\\u002ftR46SaBSkBSuB6F61lRQM\\u002f3U+Ol61JASOF6FK6PUkDD9Shcj1JSQFpkO99PjVNAdZMYBFaWUUBcj8L1KHxTQLgehetRAFJAKVyPwvXYTkDuynA0LsdSQIXrUbgeHVBAQmDl0CJTUUCPwvUoXDdTQIts5\\u002fup8U1AIbByaJHVUEAGgZVDi4RQQNnO91Pj3VNA46WbxCCIUUCYbhKDwOpQQB1aZDvfn0xA2c73U+PFT0CHFtnO9wNOQGQ730+NF05ARM3jcjQOU0CNl24Sg7BNQMP1KFyPilJA1XjpJjF4T0ApXI\\u002fC9ehQQLpJDAIrp05AdZMYBFbmUkAAAAAAAChSQEjhehSuz1FAsp3vp8abTUCWQ4ts58tNQOkmMQisLFNAaJHtfD+dUEDJdr6fGn9KQHsUrkfhelJAgZVDi2xvUEAtsp3vp5ZQQKJFtvP9dE9A16NwPQqHTkA5tMh2vq9RQARWDi2ynU5A7nw\\u002fNV5qUECNl24Sg8BPQB1aZDvfn0tA16NwPQoXT0BI4XoUrodOQKJFtvP9FFBAppvEILDKUEBI4XoUrj9QQE5iEFg5rFBAnMQgsHKAUECcxCCwcnhPQEjhehSuhz9AjZduEoMQTUA=\"},\"y\":{\"dtype\":\"f8\",\"bdata\":\"+n5qvHQTH0BmZmZmZmYeQJ7vp8ZLNx5AYOXQItv5HUDByqFFtvMdQOxRuB6F6x1ArBxaZDtfHUDufD81XjodQOkmMQisHB1AlkOLbOf7HEC28\\u002f3UeOkcQF66SQwCqxxAdZMYBFaOHEBcj8L1KFwcQJ7vp8ZLNxxAL90kBoEVHEBxPQrXo\\u002fAbQP7UeOkmsRtAxSCwcmiRG0DNzMzMzEwbQIGVQ4ts5xpA4XoUrkdhGkCR7Xw\\u002fNV4aQC2yne+nxhlAWDm0yHa+GUAAAAAAAIAZQOXQItv5fhlA0SLb+X5qGUBiEFg5tEgZQDMzMzMzMxlAeekmMQgsGUA\\u002fNV66SQwZQFCNl24SAxlAMQisHFrkGECyne+nxssYQO58PzVeuhhAGQRWDi2yGEB\\u002farx0k5gYQAAAAAAAgBhARrbz\\u002fdR4GEDsUbgehWsYQGZmZmZmZhhA8tJNYhBYGEBI4XoUrkcYQMl2vp8aLxhA6SYxCKwcGEAv3SQGgRUYQNV46SYxCBhAw\\u002fUoXI\\u002fCF0DfT42XbpIXQI\\u002fC9ShcjxdAWmQ730+NF0AlBoGVQ4sXQHE9CtejcBdAI9v5fmo8F0AEVg4tsh0XQNV46SYxCBdARrbz\\u002fdT4FkB9PzVeuskWQBKDwMqhxRZA6SYxCKycFkCgGi\\u002fdJIYWQLbz\\u002fdR4aRZABFYOLbIdFkCamZmZmRkWQGQ730+NFxZAke18PzXeFUDufD81XroVQDMzMzMzsxVAJQaBlUOLFUBCYOXQIlsVQJhuEoPAShVA2c73U+MlFUCkcD0K1yMVQH9qvHSTGBVAj8L1KFwPFUCwcmiR7fwUQPLSTWIQ2BRAokW28\\u002f3UFECiRbbz\\u002fdQUQH0\\u002fNV66yRRA+FPjpZvEFEDdJAaBlcMUQIcW2c73UxRAkxgEVg4tFEAlBoGVQwsUQJZDi2zn+xNA9P3UeOmmE0A5tMh2vp8TQNV46SYxiBNAGQRWDi0yE0AX2c73U+MSQMdLN4lB4BJAzczMzMzMEkDTTWIQWLkSQHnpJjEIrBJAdZMYBFaOEkBQjZduEoMSQAwCK4cWWRJAI9v5fmo8EkCJQWDl0CISQPp+arx0ExJA8KfGSzcJEkD2KFyPwvURQHe+nxov3RFA8tJNYhDYEUBt5\\u002fup8dIRQHNoke18vxFAj8L1KFyPEUDl0CLb+X4RQBBYObTIdhFAcT0K16NwEUBmZmZmZmYRQIcW2c73UxFAvp8aL90kEUCoxks3icEQQCGwcmiRbRBA16NwPQpXEECPwvUoXA8QQM3MzMzMzA9AYhBYObTID0AQWDm0yHYPQNEi2\\u002fl+ag5AMzMzMzMzDkDn+6nx0k0NQC2yne+nxgxAgZVDi2znC0BI4XoUrkcLQHnpJjEIrApADAIrhxbZCUA5tMh2vp8JQESLbOf7qQhAbef7qfHSBkA=\"},\"type\":\"scatter\"},{\"customdata\":{\"dtype\":\"i2\",\"bdata\":\"AQACAAMABAAFAAYABwAIAAkACgALAAwADQAOAA8AEAARABIAEwAUABUAFgAXABgAGQAaABsAHAAdAB4AHwAgACEAIgAkACUAJgAnACgAKgArACwALQAuADAAMQAyADMANAA1ADYANwA4ADkAOgA7ADwAPQA+AD8AQABCAEQARQBGAEcASABJAEoASwBMAE8AUQBSAFMAVABWAFkAWgBcAF0AXgBfAGAAYgBjAGQAZQBmAGcAaABqAG0AbwBwAHIAdAB1AHYAdwB7AH0AfwCBAA==\"},\"hovertemplate\":\"Country: %{text}\\u003cbr\\u003eRank: %{customdata} out of 133\\u003cbr\\u003eUnemployment Rate: %{x:.1f}%\\u003cbr\\u003eHappiness: %{y:.2f}\\u003cextra\\u003e\\u003c\\u002fextra\\u003e\",\"mode\":\"markers\",\"name\":\"Unemployment Rate\",\"text\":[\"Finland\",\"Denmark\",\"Norway\",\"Iceland\",\"Netherlands\",\"Switzerland\",\"Sweden\",\"New Zealand\",\"Canada\",\"Austria\",\"Australia\",\"Costa Rica\",\"Israel\",\"Luxembourg\",\"United Kingdom\",\"Ireland\",\"Germany\",\"Belgium\",\"United States\",\"United Arab Emirates\",\"Malta\",\"Mexico\",\"France\",\"Chile\",\"Guatemala\",\"Saudi Arabia\",\"Qatar\",\"Spain\",\"Panama\",\"Brazil\",\"Uruguay\",\"Singapore\",\"El Salvador\",\"Italy\",\"Poland\",\"Uzbekistan\",\"Lithuania\",\"Colombia\",\"Slovenia\",\"Kosovo\",\"Argentina\",\"Romania\",\"Cyprus\",\"Ecuador\",\"Thailand\",\"Latvia\",\"Estonia\",\"Jamaica\",\"Mauritius\",\"Japan\",\"Honduras\",\"Kazakhstan\",\"Bolivia\",\"Hungary\",\"Paraguay\",\"Peru\",\"Portugal\",\"Pakistan\",\"Philippines\",\"Serbia\",\"Moldova\",\"Montenegro\",\"Croatia\",\"Dominican Republic\",\"Bosnia and Herzegovina\",\"Malaysia\",\"Belarus\",\"Greece\",\"Mongolia\",\"North Macedonia\",\"Nigeria\",\"Azerbaijan\",\"Lebanon\",\"Indonesia\",\"China\",\"Bhutan\",\"Bulgaria\",\"Jordan\",\"Benin\",\"South Africa\",\"Albania\",\"Cambodia\",\"Senegal\",\"Somalia\",\"Niger\",\"Burkina Faso\",\"Armenia\",\"Guinea\",\"Georgia\",\"Kenya\",\"Mauritania\",\"Tunisia\",\"Mali\",\"Sri Lanka\",\"Myanmar\",\"Ukraine\",\"Uganda\",\"Zambia\",\"Togo\",\"India\",\"Lesotho\",\"Zimbabwe\",\"Botswana\",\"Rwanda\"],\"visible\":false,\"x\":{\"dtype\":\"f8\",\"bdata\":\"SOF6FK7HGkDfT42XbhIUQEa28\\u002f3UeA1AdZMYBFYODEDVeOkmMQgLQPp+arx0kxFAokW28\\u002f1UG0BWDi2ynW8QQMP1KFyPwhZAPQrXo3A9EkDfT42XbpIUQHe+nxovnSVADAIrhxbZDUCR7Xw\\u002fNV4WQKjGSzeJQQ1AzczMzMzME0Dn+6nx0k0JQNv5fmq8dBVAJzEIrBxaDUDZzvdT46UCQGq8dJMYBA1AN4lBYOXQC0AUrkfhetQgQEa28\\u002f3U+B1AJQaBlUOLAUAlBoGVQ4sWQJqZmZmZmbk\\u002f9ihcj8I1LECJQWDl0KIZQKwcWmQ73ydAeekmMQisIUDNzMzMzMwIQK5H4XoUrhBAgZVDi2znI0CJQWDl0CIKQPYoXI\\u002fC9SFAhetRuB4FGUCPwvUoXI8kQGIQWDm0yBFAi2zn+6kROUBWDi2yna8jQLKd76fGSw9AH4XrUbieHEDl0CLb+X4OQLbz\\u002fdR46eY\\u002fc2iR7Xw\\u002fGUB1kxgEVg4SQKabxCCw8hNAbef7qfFSGUACK4cW2c4CQJhuEoPAyhZAMzMzMzMzE0Db+X5qvHQNQCcxCKwcWgtA4XoUrkdhGkDVeOkmMQgLQEJg5dAi2xlAUrgehetRE0BMN4lBYOUBQArXo3A9yiRA1XjpJjEI+D+oxks3iUEuQCuHFtnOdxpABoGVQ4tsGUD8qfHSTWIvQBSuR+F6FApAKVyPwvWoEEDsUbgehQsxQD81XrpJDCJARIts5\\u002ftpMUCkcD0K12MlQAAAAAAAABRAJzEIrByaJkC4HoXrUbgMQJqZmZmZmRRAw\\u002fUoXI\\u002fCBUDsUbgehesQQJMYBFYOzTBABoGVQ4ts8z8rhxbZznc8QDvfT42X7iZAVg4tsp3v3z+BlUOLbOcGQIcW2c730zJAoBov3SQG4T\\u002f2KFyPwvX4P0oMAiuHliNA30+Nl24SFEDhehSuRyEnQHWTGARWDhRAokW28\\u002f3UJEC6SQwCKycxQFK4HoXrUQpArkfhehSuEkA\\u002fNV66SQzaPxfZzvdTYyBAGy\\u002fdJAaBBED0\\u002fdR46SYWQH0\\u002fNV66SQBACtejcD0KGkDHSzeJQeAwQMuhRbbzfR1A8tJNYhAYNEBGtvP91HgmQA==\"},\"y\":{\"dtype\":\"f8\",\"bdata\":\"+n5qvHQTH0BmZmZmZmYeQJ7vp8ZLNx5AYOXQItv5HUDByqFFtvMdQOxRuB6F6x1ArBxaZDtfHUDufD81XjodQOkmMQisHB1AlkOLbOf7HEC28\\u002f3UeOkcQF66SQwCqxxAdZMYBFaOHEBcj8L1KFwcQJ7vp8ZLNxxAL90kBoEVHEBxPQrXo\\u002fAbQP7UeOkmsRtAxSCwcmiRG0DNzMzMzEwbQIGVQ4ts5xpA4XoUrkdhGkCR7Xw\\u002fNV4aQC2yne+nxhlAWDm0yHa+GUAAAAAAAIAZQOXQItv5fhlA0SLb+X5qGUBiEFg5tEgZQDMzMzMzMxlAeekmMQgsGUA\\u002fNV66SQwZQFCNl24SAxlAMQisHFrkGEDufD81XroYQBkEVg4tshhAf2q8dJOYGEAAAAAAAIAYQEa28\\u002f3UeBhAZmZmZmZmGEDy0k1iEFgYQEjhehSuRxhAyXa+nxovGEDpJjEIrBwYQNV46SYxCBhAw\\u002fUoXI\\u002fCF0DfT42XbpIXQI\\u002fC9ShcjxdAWmQ730+NF0AlBoGVQ4sXQHE9CtejcBdAI9v5fmo8F0AEVg4tsh0XQNV46SYxCBdARrbz\\u002fdT4FkB9PzVeuskWQBKDwMqhxRZA6SYxCKycFkCgGi\\u002fdJIYWQLbz\\u002fdR4aRZABFYOLbIdFkBkO99PjRcWQO58PzVeuhVAMzMzMzOzFUAlBoGVQ4sVQEJg5dAiWxVAmG4Sg8BKFUDZzvdT4yUVQKRwPQrXIxVAf2q8dJMYFUCPwvUoXA8VQKJFtvP91BRAfT81XrrJFED4U+Olm8QUQN0kBoGVwxRAhxbZzvdTFEAlBoGVQwsUQDm0yHa+nxNA1XjpJjGIE0AX2c73U+MSQMdLN4lB4BJAzczMzMzMEkDTTWIQWLkSQHnpJjEIrBJAUI2XbhKDEkAMAiuHFlkSQCPb+X5qPBJAiUFg5dAiEkD6fmq8dBMSQPCnxks3CRJA9ihcj8L1EUDy0k1iENgRQI\\u002fC9ShcjxFAEFg5tMh2EUBxPQrXo3ARQIcW2c73UxFAqMZLN4nBEEAhsHJokW0QQNejcD0KVxBAj8L1KFwPEEDRItv5fmoOQOf7qfHSTQ1AgZVDi2znC0B56SYxCKwKQA==\"},\"type\":\"scatter\"},{\"customdata\":{\"dtype\":\"i2\",\"bdata\":\"AQACAAMABAAFAAYABwAIAAkACgALAAwADQAOAA8AEAARABIAEwAUABUAFwAYABkAGwAcAB0AHgAfACAAIQAiACMAJAAlACYAKAApACsALAAtAC4ALwAwADEAMgAzADQANQA2ADcAOAA5ADoAOwA8AD0APgA\\u002fAEAAQwBEAEUARgBHAEgASQBKAEwATQBOAE8ATwBRAFIAUwBUAFUAVgBXAFgAWQBaAFsAXABdAF4AXwBhAGIAYwBkAGUAZgBnAGgAaQBqAGsAbQBuAHAAcQByAHMAdAB1AHYAdwB4AHoAewB8AH4AfwCBAIIAhAA=\"},\"hovertemplate\":\"Country: %{text}\\u003cbr\\u003eRank: %{customdata} out of 133\\u003cbr\\u003eEducation Expenditure: %{x:.2f}% of GDP\\u003cbr\\u003eHappiness: %{y:.2f}\\u003cextra\\u003e\\u003c\\u002fextra\\u003e\",\"mode\":\"markers\",\"name\":\"Education Expenditure\",\"text\":[\"Finland\",\"Denmark\",\"Norway\",\"Iceland\",\"Netherlands\",\"Switzerland\",\"Sweden\",\"New Zealand\",\"Canada\",\"Austria\",\"Australia\",\"Costa Rica\",\"Israel\",\"Luxembourg\",\"United Kingdom\",\"Ireland\",\"Germany\",\"Belgium\",\"United States\",\"United Arab Emirates\",\"Malta\",\"France\",\"Chile\",\"Guatemala\",\"Qatar\",\"Spain\",\"Panama\",\"Brazil\",\"Uruguay\",\"Singapore\",\"El Salvador\",\"Italy\",\"Bahrain\",\"Poland\",\"Uzbekistan\",\"Lithuania\",\"Slovenia\",\"Nicaragua\",\"Argentina\",\"Romania\",\"Cyprus\",\"Ecuador\",\"Kuwait\",\"Thailand\",\"Latvia\",\"Estonia\",\"Jamaica\",\"Mauritius\",\"Japan\",\"Honduras\",\"Kazakhstan\",\"Bolivia\",\"Hungary\",\"Paraguay\",\"Peru\",\"Portugal\",\"Pakistan\",\"Philippines\",\"Serbia\",\"Moldova\",\"Tajikistan\",\"Croatia\",\"Dominican Republic\",\"Bosnia and Herzegovina\",\"Malaysia\",\"Belarus\",\"Greece\",\"Mongolia\",\"Nigeria\",\"Turkmenistan\",\"Algeria\",\"Morocco\",\"Azerbaijan\",\"Lebanon\",\"Indonesia\",\"China\",\"Bhutan\",\"Cameroon\",\"Bulgaria\",\"Ghana\",\"Nepal\",\"Jordan\",\"Benin\",\"Gabon\",\"South Africa\",\"Albania\",\"Cambodia\",\"Senegal\",\"Namibia\",\"Niger\",\"Burkina Faso\",\"Armenia\",\"Guinea\",\"Georgia\",\"Kenya\",\"Mauritania\",\"Mozambique\",\"Tunisia\",\"Bangladesh\",\"Mali\",\"Sierra Leone\",\"Myanmar\",\"Chad\",\"Ukraine\",\"Ethiopia\",\"Uganda\",\"Zambia\",\"Togo\",\"India\",\"Liberia\",\"Madagascar\",\"Lesotho\",\"Burundi\",\"Haiti\",\"Botswana\",\"Rwanda\",\"Tanzania\",\"Central African Republic\"],\"visible\":false,\"x\":{\"dtype\":\"f8\",\"bdata\":\"U+sCAPWqGUCKHfrfKwUdQPuP+z9PdR9A0LUEILtnHkBR2\\u002f1fsqMUQGoeBEC8DhRAk4H8n9WNHkDHp\\u002f1fQLYUQFx4+\\u002f96FxNAP20DYATfFEAn1AGAywgWQM7SBEDL8xpA2zsDIHcqGEAECQugeOMNQCGRAoBtCxVA+QL3X45eCkC8IvjfSnYUQKn4AUD8VRlA9c\\u002f8\\u002f3LUE0AmrATAteEOQBp9+j\\u002fvmBNA2a0FwO9qFUCYmwVgV4EWQOsu8N8ziwlAstkDQCRuBkD48P+\\u002fvusQQEUbCwARvwhAiXj935faF0BAKvh\\u002fa4MSQGCpA2AJ1gVAedYDIM0YC0AuZgKAjmEQQIWb\\u002fn+rEwNAFmAGABq3EkDNlAFgby4ZQPHb\\u002fv95tg9ARUQBQO2QE0AGLABgUWYSQNKD918rFhNAjJgHIB2JDEB0Ef3fs9kUQLls\\u002fb+t+xBAU0AFgF3pGkCEs\\u002faffi0IQJ2JAuBMvhFAijIHgKsKFUAVOvs\\u002fkacUQFPrAgD1KhJAs0H23yI+CUAt6vu\\u002f1roXQIQcDUCg1ApAgH8DwJwuIEBBfQgAR+YQQPXjECAs6wtAwjjyH1aUDkBZ2AYAJIUSQEVDCMAmuAFASYwIQIhCC0Cv+e7fh+4MQM8hBkAw5xhAHwMFIObvFUA1kBDgUlwPQFAJ\\u002fJ\\u002fLKxBARQb+X5EtEEB89wbgGNYPQBia+l\\u002f\\u002f6hNA2BkH4GSwDEB24QygDTgNQJs7z99R8dY\\u002fdGf43+L2CECcuPmfLE0WQEWZA8BVAxRAbn0K4GNpCUB6agIAWM0EQFTmz39b3O4\\u002fZa\\u002f4\\u002f9E8EEAt6QJAEAoSQBpUBAATYQhAZ6n3f87LEEDAFf1ffTkJQCsyD6Cs4gtAM60QAGPoB0AdifBfu7gHQAeq+B+W\\u002fgZALzgEQHWlF0C4BQSgdVQPQG1\\u002f\\u002fN\\u002fwmgZAl5z+3x0kFEC52P7fIqUiQGcTB6C2NQxAfQn+f+igFUDoewvARpMEQJyi83\\u002fmuv0\\u002f7f7\\u002fn42jDkC3MwLgjn4VQOzC7r++K\\u002f0\\u002fp3z7f0QlGUAxngTg5rEYQHBMISD35vo\\u002f4L73\\u002f71wDEA0UwaAvckdQEubFGAE\\u002f\\u002f8\\u002fyDv8P8v6AkA+nPof5MMVQLJX\\u002fP9o7BFA9Q\\u002fy31t3AkBlG\\u002fofR6wRQIK59x+CzhBAT0\\u002fy\\u002f7ctD0AYWgWAFlIBQK3A8\\u002f9oGwhANk0FALrGHEDKNAJAAWMVQNVkBUCOJvw\\u002fb7f+P0nMIECD4Ptf0egJQCP1ECBSxgxAH8TdP2dJ\\u002fD8=\"},\"y\":{\"dtype\":\"f8\",\"bdata\":\"+n5qvHQTH0BmZmZmZmYeQJ7vp8ZLNx5AYOXQItv5HUDByqFFtvMdQOxRuB6F6x1ArBxaZDtfHUDufD81XjodQOkmMQisHB1AlkOLbOf7HEC28\\u002f3UeOkcQF66SQwCqxxAdZMYBFaOHEBcj8L1KFwcQJ7vp8ZLNxxAL90kBoEVHEBxPQrXo\\u002fAbQP7UeOkmsRtAxSCwcmiRG0DNzMzMzEwbQIGVQ4ts5xpAke18PzVeGkAtsp3vp8YZQFg5tMh2vhlA5dAi2\\u002fl+GUDRItv5fmoZQGIQWDm0SBlAMzMzMzMzGUB56SYxCCwZQD81XrpJDBlAUI2XbhIDGUAxCKwcWuQYQLKd76fGyxhA7nw\\u002fNV66GEAZBFYOLbIYQH9qvHSTmBhARrbz\\u002fdR4GEDsUbgehWsYQPLSTWIQWBhASOF6FK5HGEDJdr6fGi8YQOkmMQisHBhAL90kBoEVGEDVeOkmMQgYQMP1KFyPwhdA30+Nl26SF0CPwvUoXI8XQFpkO99PjRdAJQaBlUOLF0BxPQrXo3AXQCPb+X5qPBdABFYOLbIdF0DVeOkmMQgXQEa28\\u002f3U+BZAfT81XrrJFkASg8DKocUWQOkmMQisnBZAoBov3SSGFkC28\\u002f3UeGkWQARWDi2yHRZAke18PzXeFUDufD81XroVQDMzMzMzsxVAJQaBlUOLFUBCYOXQIlsVQJhuEoPAShVA2c73U+MlFUCkcD0K1yMVQI\\u002fC9ShcDxVAsHJoke38FEDy0k1iENgUQKJFtvP91BRAokW28\\u002f3UFEB9PzVeuskUQPhT46WbxBRA3SQGgZXDFECHFtnO91MUQJMYBFYOLRRAJQaBlUMLFECWQ4ts5\\u002fsTQPT91HjpphNAObTIdr6fE0DVeOkmMYgTQBkEVg4tMhNAF9nO91PjEkDHSzeJQeASQM3MzMzMzBJA001iEFi5EkB1kxgEVo4SQFCNl24SgxJADAIrhxZZEkAj2\\u002fl+ajwSQIlBYOXQIhJA+n5qvHQTEkDwp8ZLNwkSQPYoXI\\u002fC9RFAd76fGi\\u002fdEUDy0k1iENgRQG3n+6nx0hFAj8L1KFyPEUDl0CLb+X4RQHE9CtejcBFAZmZmZmZmEUCHFtnO91MRQL6fGi\\u002fdJBFAqMZLN4nBEEAhsHJokW0QQNejcD0KVxBAj8L1KFwPEEDNzMzMzMwPQBBYObTIdg9A0SLb+X5qDkAzMzMzMzMOQC2yne+nxgxAgZVDi2znC0B56SYxCKwKQAwCK4cW2QlARIts5\\u002fupCEA=\"},\"type\":\"scatter\"},{\"hoverinfo\":\"skip\",\"line\":{\"color\":\"blue\",\"dash\":\"dash\"},\"mode\":\"lines\",\"name\":\"Trend Line\",\"visible\":true,\"x\":{\"dtype\":\"f8\",\"bdata\":\"SOF6FK6HP0ByLYIGJAhAQEDqxgJxTEBADqcL\\u002f72QQEDcY1D7CtVAQKoglfdXGUFAeN3Z86RdQUBHmh7w8aFBQBVXY+w+5kFA4xOo6IsqQkCx0Ozk2G5CQH+NMeEls0JATUp23XL3QkAbB7vZvztDQOnD\\u002f9UMgENAt4BE0lnEQ0CFPYnOpghEQFP6zcrzTERAIrcSx0CRREDwc1fDjdVEQL4wnL\\u002faGUVAjO3guydeRUBaqiW4dKJFQChnarTB5kVA9iOvsA4rRkDE4POsW29GQJKdOKmos0ZAYFp9pfX3RkAuF8KhQjxHQPzTBp6PgEdAypBLmtzER0CYTZCWKQlIQGYK1ZJ2TUhANMcZj8ORSEAChF6LENZIQNBAo4ddGklAn\\u002f3ng6peSUBtuiyA96JJQDt3cXxE50lACTS2eJErSkDX8Pp03m9KQKWtP3ErtEpAdGqEbXj4SkBCJ8lpxTxLQBDkDWYSgUtA3qBSYl\\u002fFS0CsXZderAlMQHoa3Fr5TUxASNcgV0aSTEAWlGVTk9ZMQORQqk\\u002fgGk1Asg3vSy1fTUCAyjNIeqNNQE6HeETH501AHES9QBQsTkDqAAI9YXBOQLi9RjmutE5AhnqLNfv4TkBUN9AxSD1PQCL0FC6VgU9A8bBZKuLFT0DgNk+TFwVQQEaVcRE+J1BArvOTj2RJUEAUUrYNi2tQQHyw2IuxjVBA4g77CdivUEBKbR2I\\u002ftFQQLDLPwYl9FBAGCpihEsWUUB+iIQCcjhRQObmpoCYWlFATUXJ\\u002fr58UUC0o+t85Z5RQBsCDvsLwVFAgmAweTLjUUDpvlL3WAVSQFAddXV\\u002fJ1JAt3uX86VJUkAe2rlxzGtSQIU43O\\u002fyjVJA7Jb+bRmwUkBT9SDsP9JSQLpTQ2pm9FJAIrJl6IwWU0CIEIhmszhTQPBuquTZWlNAVs3MYgB9U0C+K+\\u002fgJp9TQCSKEV9NwVNAjOgz3XPjU0DyRlZbmgVUQFqleNnAJ1RAwAObV+dJVEAoYr3VDWxUQI7A31M0jlRA9h4C0lqwVEBdfSRQgdJUQMTbRs6n9FRAKzppTM4WVUA=\"},\"y\":{\"dtype\":\"f8\",\"bdata\":\"5okjeck39D\\u002fsPfJ7Jxb1P\\u002fLxwH6F9PU\\u002f9qWPgePS9j\\u002f8WV6EQbH3PwIOLYefj\\u002fg\\u002fBsL7if1t+T8QdsqMW0z6PxQqmY+5Kvs\\u002fGt5nkhcJ\\u002fD8gkjaVdef8PyRGBZjTxf0\\u002fKvrTmjGk\\u002fj8wrqKdj4L\\u002fPxqxONB2MABAHQug0aWfAEAfZQfT1A4BQCO\\u002fbtQDfgFAJxnW1TLtAUApcz3XYVwCQC3NpNiQywJALycM2r86A0AxgXPb7qkDQDXb2twdGQRANzVC3kyIBEA5j6nfe\\u002fcEQD3pEOGqZgVAP0N44tnVBUBBnd\\u002fjCEUGQEX3RuU3tAZAR1Gu5mYjB0BJqxXolZIHQE0FfenEAQhAT1\\u002fk6vNwCEBRuUvsIuAIQFUTs+1RTwlAWW0a74C+CUBbx4Hwry0KQF0h6fHenApAYXtQ8w0MC0Bj1bf0PHsLQGUvH\\u002fZr6gtAa4mG95pZDEBt4+34ycgMQG89Vfr4Nw1Ac5e8+yenDUB18SP9VhYOQHdLi\\u002f6FhQ5Ae6Xy\\u002f7T0DkB9\\u002f1kB5GMPQH9ZwQIT0w9AwlkUAiEhEEDCBsiCuFgQQMSzewNQkBBAxmAvhOfHEEDGDeMEf\\u002f8QQMi6loUWNxFAymdKBq5uEUDKFP6GRaYRQMzBsQfd3RFAzm5liHQVEkDQGxkJDE0SQNDIzImjhBJA0nWACju8EkDSIjSL0vMSQNbP5wtqKxNA1nybjAFjE0DYKU8NmZoTQNjWAo4w0hNA2oO2DsgJFEDaMGqPX0EUQN7dHRD3eBRA3orRkI6wFEDgN4URJugUQOLkOJK9HxVA4pHsElVXFUDkPqCT7I4VQObrUxSExhVA5pgHlRv+FUDoRbsVszUWQOrybpZKbRZA6p8iF+KkFkDsTNaXedwWQO75iRgRFBdA8KY9mahLF0DwU\\u002fEZQIMXQPQApZrXuhdA8q1YG2\\u002fyF0D2WgycBioYQPYHwByeYRhA+LRznTWZGED4YScezdAYQPoO255kCBlA+ruOH\\u002fw\\u002fGUD+aEKgk3cZQP4V9iArrxlAAMOpocLmGUACcF0iWh4aQAIdEaPxVRpABMrEI4mNGkA=\"},\"type\":\"scatter\"},{\"hoverinfo\":\"skip\",\"line\":{\"color\":\"blue\",\"dash\":\"dash\"},\"mode\":\"lines\",\"name\":\"Trend Line\",\"visible\":false,\"x\":{\"dtype\":\"f8\",\"bdata\":\"mpmZmZmZuT\\u002fwK2wlKb3YP734OPL1ieU\\u002fgtu7UVe17j8kX59YXPDzP4bQYAgNhvg\\u002f6UEiuL0b\\u002fT+m2fEzt9gAQFeS0ouPIwNACEuz42duBUC5A5Q7QLkHQGu8dJMYBApAHHVV6\\u002fBODEDNLTZDyZkOQD9zi81QchBAl897+byXEUDwK2wlKb0SQEmIXFGV4hNAoeRMfQEIFUD6QD2pbS0WQFKdLdXZUhdAq\\u002fkdAUZ4GEAEVg4tsp0ZQFyy\\u002flgewxpAtQ7vhIroG0AOa9+w9g0dQGbHz9xiMx5AvyPACM9YH0AMQFiaHT8gQDhuULDT0SBAZJxIxolkIUCRykDcP\\u002fchQL34OPL1iSJA6SYxCKwcI0AWVSkeYq8jQEKDITQYQiRAbrEZSs7UJECb3xFghGclQMcNCnY6+iVA8zsCjPCMJkAfavqhph8nQEyY8rdcsidAeMbqzRJFKECk9OLjyNcoQNEi2\\u002fl+ailA\\u002fVDTDzX9KUApf8sl648qQFatwzuhIitAgtu7UVe1K0CuCbRnDUgsQNs3rH3D2ixAB2akk3ltLUAzlJypLwAuQGDClL\\u002flki5AjPCM1ZslL0C4HoXrUbgvQHOmvgCEJTBAib26C99uMECf1LYWOrgwQLXrsiGVATFAywKvLPBKMUDiGas3S5QxQPgwp0Km3TFADkijTQEnMkAkX59YXHAyQDp2m2O3uTJAUI2XbhIDM0BmpJN5bUwzQH27j4TIlTNAk9KLjyPfM0Cp6Yeafig0QL8AhKXZcTRA1ReAsDS7NEDrLny7jwQ1QAJGeMbqTTVAGF100UWXNUAudHDcoOA1QESLbOf7KTZAWqJo8lZzNkBwuWT9sbw2QIbQYAgNBjdAnedcE2hPN0Cz\\u002flgew5g3QMkVVSke4jdA3yxRNHkrOED1Q00\\u002f1HQ4QAtbSUovvjhAInJFVYoHOUA4iUFg5VA5QE6gPWtAmjlAZLc5dpvjOUB6zjWB9iw6QJDlMYxRdjpAp\\u002fwtl6y\\u002fOkC9EyqiBwk7QNMqJq1iUjtA6UEiuL2bO0D\\u002fWB7DGOU7QBVwGs5zLjxAK4cW2c53PEA=\"},\"y\":{\"dtype\":\"f8\",\"bdata\":\"hEJFZB9GGEB6D5dWbzcYQHDc6Ei\\u002fKBhAZqk6Ow8aGEBcdowtXwsYQFJD3h+v\\u002fBdASRAwEv\\u002ftF0A\\u002f3YEET98XQDWq0\\u002fae0BdAK3cl6e7BF0AhRHfbPrMXQBcRyc2OpBdADd4awN6VF0ADq2yyLocXQPl3vqR+eBdA70QQl85pF0DlEWKJHlsXQNves3tuTBdA0qsFbr49F0DIeFdgDi8XQL5FqVJeIBdAtBL7RK4RF0Cq30w3\\u002fgIXQKCsnilO9BZAlnnwG57lFkCMRkIO7tYWQIITlAA+yBZAeODl8o25FkBurTfl3aoWQGR6idctnBZAW0fbyX2NFkBRFC28zX4WQEfhfq4dcBZAPa7QoG1hFkAzeyKTvVIWQClIdIUNRBZAHxXGd101FkAV4hdqrSYWQAuvaVz9FxZAAXy7Tk0JFkD3SA1BnfoVQO0VXzPt6xVA5OKwJT3dFUDarwIYjc4VQNB8VArdvxVAxkmm\\u002fCyxFUC8FvjufKIVQLLjSeHMkxVAqLCb0xyFFUCefe3FbHYVQJRKP7i8ZxVAiheRqgxZFUCA5OKcXEoVQHaxNI+sOxVAbH6GgfwsFUBjS9hzTB4VQFgYKmacDxVAT+V7WOwAFUBFss1KPPIUQDt\\u002fHz2M4xRAMUxxL9zUFEAnGcMhLMYUQB3mFBR8txRAE7NmBsyoFEAJgLj4G5oUQP9MCutrixRA9hlc3bt8FEDs5q3PC24UQOKz\\u002f8FbXxRA2IBRtKtQFEDOTaOm+0EUQMQa9ZhLMxRAuudGi5skFECwtJh96xUUQKaB6m87BxRAnE48Yov4E0CSG45U2+kTQIjo30Yr2xNAfrUxOXvME0B0goMry70TQGtP1R0brxNAYBwnEGugE0BX6XgCu5ETQE22yvQKgxNAQ4Mc51p0E0A5UG7ZqmUTQC8dwMv6VhNAJeoRvkpIE0Abt2OwmjkTQBGEtaLqKhNACFEHlTocE0D+HVmHig0TQPTqqnna\\u002fhJA6rf8ayrwEkDghE5eeuESQNZRoFDK0hJAzB7yQhrEEkDC60M1arUSQLi4lSe6phJAroXnGQqYEkA=\"},\"type\":\"scatter\"},{\"hoverinfo\":\"skip\",\"line\":{\"color\":\"blue\",\"dash\":\"dash\"},\"mode\":\"lines\",\"name\":\"Trend Line\",\"visible\":false,\"x\":{\"dtype\":\"f8\",\"bdata\":\"mzvP31Hx1j\\u002fsT\\u002ftE07zcPx+yE1UqROE\\u002fSLypB+sp5D9wxj+6qw\\u002fnP5rQ1Wxs9ek\\u002fwtprHy3b7D\\u002fq5AHS7cDvP4r3S0JXU\\u002fE\\u002fnvyWmzfG8j+zAeL0Fzn0P8cGLU74q\\u002fU\\u002f2wt4p9ge9z\\u002fwEMMAuZH4PwQWDlqZBPo\\u002fGRtZs3l3+z8tIKQMWur8P0El72U6Xf4\\u002fVio6vxrQ\\u002fz+1l0KMfaEAQD8a6LjtWgFAyZyN5V0UAkBTHzMSzs0CQN2h2D4+hwNAZyR+a65ABEDypiOYHvoEQHwpycSOswVABqxu8f5sBkCQLhQebyYHQBqxuUrf3wdApTNfd0+ZCEAvtgSkv1IJQLk4qtAvDApAQ7tP\\u002fZ\\u002fFCkDNPfUpEH8LQFjAmlaAOAxA4kJAg\\u002fDxDEBsxeWvYKsNQPZHi9zQZA5AgMowCUEeD0ALTdY1sdcPQMvnPbGQSBBAEKmQx0ilEEBVauPdAAIRQJorNvS4XhFA3+yICnG7EUAkrtsgKRgSQGlvLjfhdBJArjCBTZnREkD08dNjUS4TQDmzJnoJixNAfnR5kMHnE0DDNcymeUQUQAj3Hr0xoRRATbhx0+n9FECSecTpoVoVQNc6FwBatxVAHPxpFhIUFkBhvbwsynAWQKd+D0OCzRZA7D9iWToqF0AxAbVv8oYXQHbCB4aq4xdAu4NanGJAGEAARa2yGp0YQEUGAMnS+RhAisdS34pWGUDPiKX1QrMZQBRK+Av7DxpAWQtLIrNsGkCfzJ04a8kaQOSN8E4jJhtAKU9DZduCG0BuEJZ7k98bQLPR6JFLPBxA+JI7qAOZHEA9VI6+u\\u002fUcQIIV4dRzUh1Ax9Yz6yuvHUAMmIYB5AseQFJZ2RecaB5AlxosLlTFHkDc235EDCIfQCGd0VrEfh9AZl4kcXzbH0DVj7tDGhwgQHjw5E52SiBAGlEOWtJ4IEC9sTdlLqcgQGASYXCK1SBAAnOKe+YDIUCl07OGQjIhQEc03ZGeYCFA6pQGnfqOIUCM9S+oVr0hQC9WWbOy6yFA0baCvg4aIkB0F6zJakgiQBd41dTGdiJAudj+3yKlIkA=\"},\"y\":{\"dtype\":\"f8\",\"bdata\":\"fdxkf2u2EkDyIkpGdcoSQGZpLw1\\u002f3hJA268U1IjyEkBP9vmakgYTQMQ832GcGhNAOIPEKKYuE0Ctyanvr0ITQCEQj7a5VhNAllZ0fcNqE0AKnVlEzX4TQH\\u002fjPgvXkhNA8ykk0uCmE0BocAmZ6roTQNy27l\\u002f0zhNAUf3TJv7iE0DFQ7ntB\\u002fcTQDqKnrQRCxRArtCDexsfFEAjF2lCJTMUQJddTgkvRxRADKQz0DhbFECA6hiXQm8UQPQw\\u002fl1MgxRAaXfjJFaXFEDevcjrX6sUQFIErrJpvxRAx0qTeXPTFEA7kXhAfecUQLDXXQeH+xRAJB5DzpAPFUCZZCiVmiMVQA2rDVykNxVAgvHyIq5LFUD2N9jpt18VQGt+vbDBcxVA38Sid8uHFUBUC4g+1ZsVQMhRbQXfrxVAPJhSzOjDFUCx3jeT8tcVQCYlHVr86xVAmmsCIQYAFkAPsufnDxQWQIP4zK4ZKBZA+D6ydSM8FkBshZc8LVAWQOHLfAM3ZBZAVRJiykB4FkDKWEeRSowWQD6fLFhUoBZAs+URH160FkAnLPflZ8gWQJxy3Kxx3BZAELnBc3vwFkCF\\u002f6Y6hQQXQPlFjAGPGBdAboxxyJgsF0Di0laPokAXQFcZPFasVBdAy18hHbZoF0BApgbkv3wXQLTs66rJkBdAKTPRcdOkF0CdebY43bgXQBLAm\\u002f\\u002fmzBdAhgaBxvDgF0D7TGaN+vQXQG+TS1QECRhA5NkwGw4dGEBYIBbiFzEYQM1m+6ghRRhAQa3gbytZGEC288U2NW0YQCo6q\\u002f0+gRhAn4CQxEiVGEATx3WLUqkYQIgNW1JcvRhA\\u002fFNAGWbRGEBxmiXgb+UYQOXgCqd5+RhAWifwbYMNGUDObdU0jSEZQEO0uvuWNRlAt\\u002fqfwqBJGUAsQYWJql0ZQKCHalC0cRlAFM5PF76FGUCJFDXex5kZQP5aGqXRrRlAcqH\\u002fa9vBGUDn5+Qy5dUZQFsuyvnu6RlA0HSvwPj9GUBEu5SHAhIaQLkBek4MJhpALUhfFRY6GkCijkTcH04aQBbVKaMpYhpAihsPajN2GkA=\"},\"type\":\"scatter\"}],                        {\"autosize\":false,\"height\":600,\"hoverlabel\":{\"font\":{\"size\":12}},\"legend\":{\"borderwidth\":0,\"font\":{\"size\":12},\"x\":0.01,\"y\":0.99},\"margin\":{\"b\":80,\"l\":80,\"r\":80,\"t\":80},\"paper_bgcolor\":\"#EDF1EC\",\"plot_bgcolor\":\"#EDF1EC\",\"showlegend\":true,\"sliders\":[{\"active\":0,\"currentvalue\":{\"prefix\":\"Metric: \"},\"len\":0.9,\"pad\":{\"t\":50},\"steps\":[{\"args\":[{\"visible\":[true,false,false,true,false,false]},{\"xaxis\":{\"title\":\"Life Expectancy (years)\",\"range\":[31.53,84.35634146],\"fixedrange\":true},\"yaxis\":{\"title\":\"Happiness\",\"range\":[1,10],\"fixedrange\":true},\"title\":{\"text\":\"Happiness vs Life Expectancy\"}}],\"label\":\"Life Expectancy\",\"method\":\"update\"},{\"args\":[{\"visible\":[false,true,false,false,true,false]},{\"xaxis\":{\"title\":\"Unemployment Rate (%)\",\"range\":[0.1,28.468],\"fixedrange\":true},\"yaxis\":{\"title\":\"Happiness\",\"range\":[1,10],\"fixedrange\":true},\"title\":{\"text\":\"Happiness vs Unemployment Rate\"}}],\"label\":\"Unemployment Rate\",\"method\":\"update\"},{\"args\":[{\"visible\":[false,false,true,false,false,true]},{\"xaxis\":{\"title\":\"Education Expenditure (% of GDP)\",\"range\":[0.358478993,9.3225317],\"fixedrange\":true},\"yaxis\":{\"title\":\"Happiness\",\"range\":[1,10],\"fixedrange\":true},\"title\":{\"text\":\"Happiness vs Education Expenditure\"}}],\"label\":\"Education Expenditure\",\"method\":\"update\"}],\"x\":0.1,\"xanchor\":\"left\"}],\"template\":{\"data\":{\"barpolar\":[{\"marker\":{\"line\":{\"color\":\"#E5ECF6\",\"width\":0.5},\"pattern\":{\"fillmode\":\"overlay\",\"size\":10,\"solidity\":0.2}},\"type\":\"barpolar\"}],\"bar\":[{\"error_x\":{\"color\":\"#2a3f5f\"},\"error_y\":{\"color\":\"#2a3f5f\"},\"marker\":{\"line\":{\"color\":\"#E5ECF6\",\"width\":0.5},\"pattern\":{\"fillmode\":\"overlay\",\"size\":10,\"solidity\":0.2}},\"type\":\"bar\"}],\"carpet\":[{\"aaxis\":{\"endlinecolor\":\"#2a3f5f\",\"gridcolor\":\"white\",\"linecolor\":\"white\",\"minorgridcolor\":\"white\",\"startlinecolor\":\"#2a3f5f\"},\"baxis\":{\"endlinecolor\":\"#2a3f5f\",\"gridcolor\":\"white\",\"linecolor\":\"white\",\"minorgridcolor\":\"white\",\"startlinecolor\":\"#2a3f5f\"},\"type\":\"carpet\"}],\"choropleth\":[{\"colorbar\":{\"outlinewidth\":0,\"ticks\":\"\"},\"type\":\"choropleth\"}],\"contourcarpet\":[{\"colorbar\":{\"outlinewidth\":0,\"ticks\":\"\"},\"type\":\"contourcarpet\"}],\"contour\":[{\"colorbar\":{\"outlinewidth\":0,\"ticks\":\"\"},\"colorscale\":[[0.0,\"#0d0887\"],[0.1111111111111111,\"#46039f\"],[0.2222222222222222,\"#7201a8\"],[0.3333333333333333,\"#9c179e\"],[0.4444444444444444,\"#bd3786\"],[0.5555555555555556,\"#d8576b\"],[0.6666666666666666,\"#ed7953\"],[0.7777777777777778,\"#fb9f3a\"],[0.8888888888888888,\"#fdca26\"],[1.0,\"#f0f921\"]],\"type\":\"contour\"}],\"heatmap\":[{\"colorbar\":{\"outlinewidth\":0,\"ticks\":\"\"},\"colorscale\":[[0.0,\"#0d0887\"],[0.1111111111111111,\"#46039f\"],[0.2222222222222222,\"#7201a8\"],[0.3333333333333333,\"#9c179e\"],[0.4444444444444444,\"#bd3786\"],[0.5555555555555556,\"#d8576b\"],[0.6666666666666666,\"#ed7953\"],[0.7777777777777778,\"#fb9f3a\"],[0.8888888888888888,\"#fdca26\"],[1.0,\"#f0f921\"]],\"type\":\"heatmap\"}],\"histogram2dcontour\":[{\"colorbar\":{\"outlinewidth\":0,\"ticks\":\"\"},\"colorscale\":[[0.0,\"#0d0887\"],[0.1111111111111111,\"#46039f\"],[0.2222222222222222,\"#7201a8\"],[0.3333333333333333,\"#9c179e\"],[0.4444444444444444,\"#bd3786\"],[0.5555555555555556,\"#d8576b\"],[0.6666666666666666,\"#ed7953\"],[0.7777777777777778,\"#fb9f3a\"],[0.8888888888888888,\"#fdca26\"],[1.0,\"#f0f921\"]],\"type\":\"histogram2dcontour\"}],\"histogram2d\":[{\"colorbar\":{\"outlinewidth\":0,\"ticks\":\"\"},\"colorscale\":[[0.0,\"#0d0887\"],[0.1111111111111111,\"#46039f\"],[0.2222222222222222,\"#7201a8\"],[0.3333333333333333,\"#9c179e\"],[0.4444444444444444,\"#bd3786\"],[0.5555555555555556,\"#d8576b\"],[0.6666666666666666,\"#ed7953\"],[0.7777777777777778,\"#fb9f3a\"],[0.8888888888888888,\"#fdca26\"],[1.0,\"#f0f921\"]],\"type\":\"histogram2d\"}],\"histogram\":[{\"marker\":{\"pattern\":{\"fillmode\":\"overlay\",\"size\":10,\"solidity\":0.2}},\"type\":\"histogram\"}],\"mesh3d\":[{\"colorbar\":{\"outlinewidth\":0,\"ticks\":\"\"},\"type\":\"mesh3d\"}],\"parcoords\":[{\"line\":{\"colorbar\":{\"outlinewidth\":0,\"ticks\":\"\"}},\"type\":\"parcoords\"}],\"pie\":[{\"automargin\":true,\"type\":\"pie\"}],\"scatter3d\":[{\"line\":{\"colorbar\":{\"outlinewidth\":0,\"ticks\":\"\"}},\"marker\":{\"colorbar\":{\"outlinewidth\":0,\"ticks\":\"\"}},\"type\":\"scatter3d\"}],\"scattercarpet\":[{\"marker\":{\"colorbar\":{\"outlinewidth\":0,\"ticks\":\"\"}},\"type\":\"scattercarpet\"}],\"scattergeo\":[{\"marker\":{\"colorbar\":{\"outlinewidth\":0,\"ticks\":\"\"}},\"type\":\"scattergeo\"}],\"scattergl\":[{\"marker\":{\"colorbar\":{\"outlinewidth\":0,\"ticks\":\"\"}},\"type\":\"scattergl\"}],\"scattermapbox\":[{\"marker\":{\"colorbar\":{\"outlinewidth\":0,\"ticks\":\"\"}},\"type\":\"scattermapbox\"}],\"scattermap\":[{\"marker\":{\"colorbar\":{\"outlinewidth\":0,\"ticks\":\"\"}},\"type\":\"scattermap\"}],\"scatterpolargl\":[{\"marker\":{\"colorbar\":{\"outlinewidth\":0,\"ticks\":\"\"}},\"type\":\"scatterpolargl\"}],\"scatterpolar\":[{\"marker\":{\"colorbar\":{\"outlinewidth\":0,\"ticks\":\"\"}},\"type\":\"scatterpolar\"}],\"scatter\":[{\"fillpattern\":{\"fillmode\":\"overlay\",\"size\":10,\"solidity\":0.2},\"type\":\"scatter\"}],\"scatterternary\":[{\"marker\":{\"colorbar\":{\"outlinewidth\":0,\"ticks\":\"\"}},\"type\":\"scatterternary\"}],\"surface\":[{\"colorbar\":{\"outlinewidth\":0,\"ticks\":\"\"},\"colorscale\":[[0.0,\"#0d0887\"],[0.1111111111111111,\"#46039f\"],[0.2222222222222222,\"#7201a8\"],[0.3333333333333333,\"#9c179e\"],[0.4444444444444444,\"#bd3786\"],[0.5555555555555556,\"#d8576b\"],[0.6666666666666666,\"#ed7953\"],[0.7777777777777778,\"#fb9f3a\"],[0.8888888888888888,\"#fdca26\"],[1.0,\"#f0f921\"]],\"type\":\"surface\"}],\"table\":[{\"cells\":{\"fill\":{\"color\":\"#EBF0F8\"},\"line\":{\"color\":\"white\"}},\"header\":{\"fill\":{\"color\":\"#C8D4E3\"},\"line\":{\"color\":\"white\"}},\"type\":\"table\"}]},\"layout\":{\"annotationdefaults\":{\"arrowcolor\":\"#2a3f5f\",\"arrowhead\":0,\"arrowwidth\":1},\"autotypenumbers\":\"strict\",\"coloraxis\":{\"colorbar\":{\"outlinewidth\":0,\"ticks\":\"\"}},\"colorscale\":{\"diverging\":[[0,\"#8e0152\"],[0.1,\"#c51b7d\"],[0.2,\"#de77ae\"],[0.3,\"#f1b6da\"],[0.4,\"#fde0ef\"],[0.5,\"#f7f7f7\"],[0.6,\"#e6f5d0\"],[0.7,\"#b8e186\"],[0.8,\"#7fbc41\"],[0.9,\"#4d9221\"],[1,\"#276419\"]],\"sequential\":[[0.0,\"#0d0887\"],[0.1111111111111111,\"#46039f\"],[0.2222222222222222,\"#7201a8\"],[0.3333333333333333,\"#9c179e\"],[0.4444444444444444,\"#bd3786\"],[0.5555555555555556,\"#d8576b\"],[0.6666666666666666,\"#ed7953\"],[0.7777777777777778,\"#fb9f3a\"],[0.8888888888888888,\"#fdca26\"],[1.0,\"#f0f921\"]],\"sequentialminus\":[[0.0,\"#0d0887\"],[0.1111111111111111,\"#46039f\"],[0.2222222222222222,\"#7201a8\"],[0.3333333333333333,\"#9c179e\"],[0.4444444444444444,\"#bd3786\"],[0.5555555555555556,\"#d8576b\"],[0.6666666666666666,\"#ed7953\"],[0.7777777777777778,\"#fb9f3a\"],[0.8888888888888888,\"#fdca26\"],[1.0,\"#f0f921\"]]},\"colorway\":[\"#636efa\",\"#EF553B\",\"#00cc96\",\"#ab63fa\",\"#FFA15A\",\"#19d3f3\",\"#FF6692\",\"#B6E880\",\"#FF97FF\",\"#FECB52\"],\"font\":{\"color\":\"#2a3f5f\"},\"geo\":{\"bgcolor\":\"white\",\"lakecolor\":\"white\",\"landcolor\":\"#E5ECF6\",\"showlakes\":true,\"showland\":true,\"subunitcolor\":\"white\"},\"hoverlabel\":{\"align\":\"left\"},\"hovermode\":\"closest\",\"mapbox\":{\"style\":\"light\"},\"paper_bgcolor\":\"white\",\"plot_bgcolor\":\"#E5ECF6\",\"polar\":{\"angularaxis\":{\"gridcolor\":\"white\",\"linecolor\":\"white\",\"ticks\":\"\"},\"bgcolor\":\"#E5ECF6\",\"radialaxis\":{\"gridcolor\":\"white\",\"linecolor\":\"white\",\"ticks\":\"\"}},\"scene\":{\"xaxis\":{\"backgroundcolor\":\"#E5ECF6\",\"gridcolor\":\"white\",\"gridwidth\":2,\"linecolor\":\"white\",\"showbackground\":true,\"ticks\":\"\",\"zerolinecolor\":\"white\"},\"yaxis\":{\"backgroundcolor\":\"#E5ECF6\",\"gridcolor\":\"white\",\"gridwidth\":2,\"linecolor\":\"white\",\"showbackground\":true,\"ticks\":\"\",\"zerolinecolor\":\"white\"},\"zaxis\":{\"backgroundcolor\":\"#E5ECF6\",\"gridcolor\":\"white\",\"gridwidth\":2,\"linecolor\":\"white\",\"showbackground\":true,\"ticks\":\"\",\"zerolinecolor\":\"white\"}},\"shapedefaults\":{\"line\":{\"color\":\"#2a3f5f\"}},\"ternary\":{\"aaxis\":{\"gridcolor\":\"white\",\"linecolor\":\"white\",\"ticks\":\"\"},\"baxis\":{\"gridcolor\":\"white\",\"linecolor\":\"white\",\"ticks\":\"\"},\"bgcolor\":\"#E5ECF6\",\"caxis\":{\"gridcolor\":\"white\",\"linecolor\":\"white\",\"ticks\":\"\"}},\"title\":{\"x\":0.05},\"xaxis\":{\"automargin\":true,\"gridcolor\":\"white\",\"linecolor\":\"white\",\"ticks\":\"\",\"title\":{\"standoff\":15},\"zerolinecolor\":\"white\",\"zerolinewidth\":2},\"yaxis\":{\"automargin\":true,\"gridcolor\":\"white\",\"linecolor\":\"white\",\"ticks\":\"\",\"title\":{\"standoff\":15},\"zerolinecolor\":\"white\",\"zerolinewidth\":2}}},\"title\":{\"text\":\"Happiness vs Life Expectancy\"},\"width\":800,\"xaxis\":{\"fixedrange\":true,\"range\":[31.53,84.35634146],\"tickfont\":{\"size\":12},\"title\":{\"font\":{\"size\":14},\"text\":\"Life Expectancy (years)\"}},\"yaxis\":{\"dtick\":1,\"fixedrange\":true,\"range\":[1,10],\"tickfont\":{\"size\":12},\"tickmode\":\"linear\",\"title\":{\"font\":{\"size\":14},\"text\":\"Happiness\"}}},                        {\"responsive\": true}                    ).then(function(){\n",
       "                            \n",
       "var gd = document.getElementById('1d222feb-e6f4-4c37-ad29-fc26cfe7d877');\n",
       "var x = new MutationObserver(function (mutations, observer) {{\n",
       "        var display = window.getComputedStyle(gd).display;\n",
       "        if (!display || display === 'none') {{\n",
       "            console.log([gd, 'removed!']);\n",
       "            Plotly.purge(gd);\n",
       "            observer.disconnect();\n",
       "        }}\n",
       "}});\n",
       "\n",
       "// Listen for the removal of the full notebook cells\n",
       "var notebookContainer = gd.closest('#notebook-container');\n",
       "if (notebookContainer) {{\n",
       "    x.observe(notebookContainer, {childList: true});\n",
       "}}\n",
       "\n",
       "// Listen for the clearing of the current output cell\n",
       "var outputEl = gd.closest('.output');\n",
       "if (outputEl) {{\n",
       "    x.observe(outputEl, {childList: true});\n",
       "}}\n",
       "\n",
       "                        })                };            </script>        </div>"
      ]
     },
     "metadata": {},
     "output_type": "display_data"
    }
   ],
   "source": [
    "import pandas as pd\n",
    "import numpy as np\n",
    "import plotly.graph_objects as go\n",
    "from plotly.offline import init_notebook_mode, iplot\n",
    "\n",
    "init_notebook_mode(connected=True)\n",
    "\n",
    "df = pd.read_csv('final.csv')\n",
    "\n",
    "df['Happiness_rank'] = df['Happiness'].rank(method='min', ascending=False).astype(int)\n",
    "total_countries = df['Country'].nunique()\n",
    "\n",
    "df_life = df.dropna(subset=['Life_expectancy', 'Happiness', 'Country', 'Happiness_rank'])\n",
    "df_unemp = df.dropna(subset=['Unemployment_rate', 'Happiness', 'Country', 'Happiness_rank'])\n",
    "df_edu = df.dropna(subset=['Edu_expenditure_pct', 'Happiness', 'Country', 'Happiness_rank'])\n",
    "\n",
    "x_range_life = [df_life['Life_expectancy'].min(), df_life['Life_expectancy'].max()]\n",
    "x_range_unemp = [df_unemp['Unemployment_rate'].min(), df_unemp['Unemployment_rate'].max()]\n",
    "x_range_edu = [df_edu['Edu_expenditure_pct'].min(), df_edu['Edu_expenditure_pct'].max()]\n",
    "y_range = [1, 10]\n",
    "\n",
    "def add_trend_trace(x, y, color, visible=True):\n",
    "    x_vals = x.values\n",
    "    y_vals = y.values\n",
    "    slope, intercept = np.polyfit(x_vals, y_vals, 1)\n",
    "    x_trend = np.linspace(min(x_vals), max(x_vals), 100)\n",
    "    y_trend = slope * x_trend + intercept\n",
    "    return go.Scatter(\n",
    "        x=x_trend,\n",
    "        y=y_trend,\n",
    "        mode='lines',\n",
    "        line=dict(color=color, dash='dash'),\n",
    "        name='Trend Line',\n",
    "        visible=visible,\n",
    "        hoverinfo='skip'\n",
    "    )\n",
    "\n",
    "trace_life = go.Scatter(\n",
    "    x=df_life['Life_expectancy'],\n",
    "    y=df_life['Happiness'],\n",
    "    mode='markers',\n",
    "    name='Life Expectancy',\n",
    "    visible=True,\n",
    "    text=df_life['Country'],\n",
    "    customdata=df_life['Happiness_rank'],\n",
    "    hovertemplate=(\n",
    "        \"Country: %{text}<br>\"\n",
    "        f\"Rank: %{{customdata}} out of {total_countries}<br>\"\n",
    "        \"Life Expectancy: %{x:.1f} years<br>\"\n",
    "        \"Happiness: %{y:.2f}<extra></extra>\"\n",
    "    )\n",
    ")\n",
    "\n",
    "trace_unemp = go.Scatter(\n",
    "    x=df_unemp['Unemployment_rate'],\n",
    "    y=df_unemp['Happiness'],\n",
    "    mode='markers',\n",
    "    name='Unemployment Rate',\n",
    "    visible=False,\n",
    "    text=df_unemp['Country'],\n",
    "    customdata=df_unemp['Happiness_rank'],\n",
    "    hovertemplate=(\n",
    "        \"Country: %{text}<br>\"\n",
    "        f\"Rank: %{{customdata}} out of {total_countries}<br>\"\n",
    "        \"Unemployment Rate: %{x:.1f}%<br>\"\n",
    "        \"Happiness: %{y:.2f}<extra></extra>\"\n",
    "    )\n",
    ")\n",
    "\n",
    "trace_edu = go.Scatter(\n",
    "    x=df_edu['Edu_expenditure_pct'],\n",
    "    y=df_edu['Happiness'],\n",
    "    mode='markers',\n",
    "    name='Education Expenditure',\n",
    "    visible=False,\n",
    "    text=df_edu['Country'],\n",
    "    customdata=df_edu['Happiness_rank'],\n",
    "    hovertemplate=(\n",
    "        \"Country: %{text}<br>\"\n",
    "        f\"Rank: %{{customdata}} out of {total_countries}<br>\"\n",
    "        \"Education Expenditure: %{x:.2f}% of GDP<br>\"\n",
    "        \"Happiness: %{y:.2f}<extra></extra>\"\n",
    "    )\n",
    ")\n",
    "\n",
    "trend_life = add_trend_trace(df_life['Life_expectancy'], df_life['Happiness'], 'blue', True)\n",
    "trend_unemp = add_trend_trace(df_unemp['Unemployment_rate'], df_unemp['Happiness'], 'blue', False)\n",
    "trend_edu = add_trend_trace(df_edu['Edu_expenditure_pct'], df_edu['Happiness'], 'blue', False)\n",
    "\n",
    "fig = go.Figure(data=[\n",
    "    trace_life, trace_unemp, trace_edu,\n",
    "    trend_life, trend_unemp, trend_edu\n",
    "])\n",
    "\n",
    "steps = [\n",
    "    dict(method='update', label='Life Expectancy',\n",
    "         args=[{'visible': [True, False, False, True, False, False]},\n",
    "               {'xaxis': {'title': 'Life Expectancy (years)', 'range': x_range_life, 'fixedrange': True},\n",
    "                'yaxis': {'title': 'Happiness', 'range': y_range, 'fixedrange': True},\n",
    "                'title': {'text': 'Happiness vs Life Expectancy'}}]),\n",
    "    dict(method='update', label='Unemployment Rate',\n",
    "         args=[{'visible': [False, True, False, False, True, False]},\n",
    "               {'xaxis': {'title': 'Unemployment Rate (%)', 'range': x_range_unemp, 'fixedrange': True},\n",
    "                'yaxis': {'title': 'Happiness', 'range': y_range, 'fixedrange': True},\n",
    "                'title': {'text': 'Happiness vs Unemployment Rate'}}]),\n",
    "    dict(method='update', label='Education Expenditure',\n",
    "         args=[{'visible': [False, False, True, False, False, True]},\n",
    "               {'xaxis': {'title': 'Education Expenditure (% of GDP)', 'range': x_range_edu, 'fixedrange': True},\n",
    "                'yaxis': {'title': 'Happiness', 'range': y_range, 'fixedrange': True},\n",
    "                'title': {'text': 'Happiness vs Education Expenditure'}}])\n",
    "]\n",
    "\n",
    "fig.update_layout(\n",
    "    sliders=[dict(\n",
    "        active=0,\n",
    "        currentvalue={'prefix': 'Metric: '},\n",
    "        pad={'t': 50},\n",
    "        steps=steps,\n",
    "        len=0.9,\n",
    "        x=0.1,\n",
    "        xanchor='left'\n",
    "    )],\n",
    "    title=\"Happiness vs Life Expectancy\",\n",
    "    width=800,\n",
    "    height=600,\n",
    "    autosize=False,\n",
    "    margin=dict(t=80, b=80, l=80, r=80),\n",
    "    xaxis=dict(\n",
    "        title=dict(text='Life Expectancy (years)', font=dict(size=14)),\n",
    "        range=x_range_life,\n",
    "        fixedrange=True,\n",
    "        tickfont=dict(size=12)\n",
    "    ),\n",
    "    yaxis=dict(\n",
    "        title=dict(text='Happiness', font=dict(size=14)),\n",
    "        range=y_range,\n",
    "        fixedrange=True,\n",
    "        tickmode='linear',\n",
    "        dtick=1,\n",
    "        tickfont=dict(size=12)\n",
    "    ),\n",
    "    hoverlabel=dict(font=dict(size=12)),\n",
    "    showlegend=True,\n",
    "    legend=dict(\n",
    "        font=dict(size=12),\n",
    "        x=0.01, y=0.99,\n",
    "        borderwidth=0\n",
    "    ),\n",
    "    paper_bgcolor='#EDF1EC',\n",
    "    plot_bgcolor='#EDF1EC'\n",
    ")\n",
    "\n",
    "iplot(fig)\n"
   ]
  },
  {
   "cell_type": "markdown",
   "id": "fba82f1d",
   "metadata": {},
   "source": [
    "The figure below shows a graph with the ranking of Life expectancy, Unemployment rate and Educational expenditure compared to the happiness. The plot showing life expectancy versus happiness contains a large amount of seemingly random mismatches suggesting the correlation between the two variables not quite strong. The plot showing unemployment rate versus happiness shows a comparatively large amount of mismatches where high ranking countries in one variable seem to be low comparatively low ranked in the other. This suggests a negative correlation between unemployment rate and happiness. The connection between happiness and education expenditure seems low due to the fact that the countries that have high/low spending on education can either have a very low happiness ranking or a very high one unrelated to their education spending. The top country in education spending, Namibia has a happiness ranking of 89 for example.\n",
    "Compared to the economic mismatch graph, this one shows a similar pattern: red lines are abundant, suggesting that single metrics (whether income or life expectancy) fail to fully explain happiness. Both graphs point to the same conclusion—happiness is multidimensional."
   ]
  },
  {
   "cell_type": "code",
   "execution_count": 12,
   "id": "49849b85",
   "metadata": {
    "tags": [
     "remove-input"
    ]
   },
   "outputs": [
    {
     "data": {
      "application/vnd.plotly.v1+json": {
       "config": {
        "plotlyServerURL": "https://plot.ly"
       },
       "data": [
        {
         "hoverinfo": "text",
         "hovertext": "Japan<br>Life expectancy Rank: 1<br>Happiness Rank: 53<br>Mismatch: 52",
         "line": {
          "color": "#D81B60",
          "width": 2
         },
         "mode": "lines+markers",
         "name": "Japan",
         "type": "scatter",
         "x": [
          "Life expectancy Rank",
          "Happiness Rank"
         ],
         "y": [
          1,
          53
         ]
        },
        {
         "hoverinfo": "text",
         "hovertext": "Switzerland<br>Life expectancy Rank: 2<br>Happiness Rank: 6<br>Mismatch: 4",
         "line": {
          "color": "#1E88E5",
          "width": 2
         },
         "mode": "lines+markers",
         "name": "Switzerland",
         "type": "scatter",
         "x": [
          "Life expectancy Rank",
          "Happiness Rank"
         ],
         "y": [
          2,
          6
         ]
        },
        {
         "hoverinfo": "text",
         "hovertext": "Spain<br>Life expectancy Rank: 3<br>Happiness Rank: 28<br>Mismatch: 25",
         "line": {
          "color": "#D81B60",
          "width": 2
         },
         "mode": "lines+markers",
         "name": "Spain",
         "type": "scatter",
         "x": [
          "Life expectancy Rank",
          "Happiness Rank"
         ],
         "y": [
          3,
          28
         ]
        },
        {
         "hoverinfo": "text",
         "hovertext": "Singapore<br>Life expectancy Rank: 4<br>Happiness Rank: 32<br>Mismatch: 28",
         "line": {
          "color": "#D81B60",
          "width": 2
         },
         "mode": "lines+markers",
         "name": "Singapore",
         "type": "scatter",
         "x": [
          "Life expectancy Rank",
          "Happiness Rank"
         ],
         "y": [
          4,
          32
         ]
        },
        {
         "hoverinfo": "text",
         "hovertext": "Italy<br>Life expectancy Rank: 5<br>Happiness Rank: 34<br>Mismatch: 29",
         "line": {
          "color": "#D81B60",
          "width": 2
         },
         "mode": "lines+markers",
         "name": "Italy",
         "type": "scatter",
         "x": [
          "Life expectancy Rank",
          "Happiness Rank"
         ],
         "y": [
          5,
          34
         ]
        },
        {
         "hoverinfo": "text",
         "hovertext": "Iceland<br>Life expectancy Rank: 6<br>Happiness Rank: 4<br>Mismatch: 2",
         "line": {
          "color": "#1E88E5",
          "width": 2
         },
         "mode": "lines+markers",
         "name": "Iceland",
         "type": "scatter",
         "x": [
          "Life expectancy Rank",
          "Happiness Rank"
         ],
         "y": [
          6,
          4
         ]
        },
        {
         "hoverinfo": "text",
         "hovertext": "Sweden<br>Life expectancy Rank: 7<br>Happiness Rank: 7<br>Mismatch: 0",
         "line": {
          "color": "#1E88E5",
          "width": 2
         },
         "mode": "lines+markers",
         "name": "Sweden",
         "type": "scatter",
         "x": [
          "Life expectancy Rank",
          "Happiness Rank"
         ],
         "y": [
          7,
          7
         ]
        },
        {
         "hoverinfo": "text",
         "hovertext": "Norway<br>Life expectancy Rank: 8<br>Happiness Rank: 3<br>Mismatch: 5",
         "line": {
          "color": "#1E88E5",
          "width": 2
         },
         "mode": "lines+markers",
         "name": "Norway",
         "type": "scatter",
         "x": [
          "Life expectancy Rank",
          "Happiness Rank"
         ],
         "y": [
          8,
          3
         ]
        },
        {
         "hoverinfo": "text",
         "hovertext": "Qatar<br>Life expectancy Rank: 9<br>Happiness Rank: 27<br>Mismatch: 18",
         "line": {
          "color": "#D81B60",
          "width": 2
         },
         "mode": "lines+markers",
         "name": "Qatar",
         "type": "scatter",
         "x": [
          "Life expectancy Rank",
          "Happiness Rank"
         ],
         "y": [
          9,
          27
         ]
        },
        {
         "hoverinfo": "text",
         "hovertext": "Australia<br>Life expectancy Rank: 10<br>Happiness Rank: 11<br>Mismatch: 1",
         "line": {
          "color": "#1E88E5",
          "width": 2
         },
         "mode": "lines+markers",
         "name": "Australia",
         "type": "scatter",
         "x": [
          "Life expectancy Rank",
          "Happiness Rank"
         ],
         "y": [
          10,
          11
         ]
        },
        {
         "hoverinfo": "text",
         "hovertext": "France<br>Life expectancy Rank: 11<br>Happiness Rank: 23<br>Mismatch: 12",
         "line": {
          "color": "#1E88E5",
          "width": 2
         },
         "mode": "lines+markers",
         "name": "France",
         "type": "scatter",
         "x": [
          "Life expectancy Rank",
          "Happiness Rank"
         ],
         "y": [
          11,
          23
         ]
        },
        {
         "hoverinfo": "text",
         "hovertext": "Israel<br>Life expectancy Rank: 12<br>Happiness Rank: 13<br>Mismatch: 1",
         "line": {
          "color": "#1E88E5",
          "width": 2
         },
         "mode": "lines+markers",
         "name": "Israel",
         "type": "scatter",
         "x": [
          "Life expectancy Rank",
          "Happiness Rank"
         ],
         "y": [
          12,
          13
         ]
        },
        {
         "hoverinfo": "text",
         "hovertext": "Ireland<br>Life expectancy Rank: 13<br>Happiness Rank: 16<br>Mismatch: 3",
         "line": {
          "color": "#1E88E5",
          "width": 2
         },
         "mode": "lines+markers",
         "name": "Ireland",
         "type": "scatter",
         "x": [
          "Life expectancy Rank",
          "Happiness Rank"
         ],
         "y": [
          13,
          16
         ]
        },
        {
         "hoverinfo": "text",
         "hovertext": "Malta<br>Life expectancy Rank: 14<br>Happiness Rank: 21<br>Mismatch: 7",
         "line": {
          "color": "#1E88E5",
          "width": 2
         },
         "mode": "lines+markers",
         "name": "Malta",
         "type": "scatter",
         "x": [
          "Life expectancy Rank",
          "Happiness Rank"
         ],
         "y": [
          14,
          21
         ]
        },
        {
         "hoverinfo": "text",
         "hovertext": "Luxembourg<br>Life expectancy Rank: 15<br>Happiness Rank: 14<br>Mismatch: 1",
         "line": {
          "color": "#1E88E5",
          "width": 2
         },
         "mode": "lines+markers",
         "name": "Luxembourg",
         "type": "scatter",
         "x": [
          "Life expectancy Rank",
          "Happiness Rank"
         ],
         "y": [
          15,
          14
         ]
        },
        {
         "hoverinfo": "text",
         "hovertext": "United Arab Emirates<br>Life expectancy Rank: 16<br>Happiness Rank: 20<br>Mismatch: 4",
         "line": {
          "color": "#1E88E5",
          "width": 2
         },
         "mode": "lines+markers",
         "name": "United Arab Emirates",
         "type": "scatter",
         "x": [
          "Life expectancy Rank",
          "Happiness Rank"
         ],
         "y": [
          16,
          20
         ]
        },
        {
         "hoverinfo": "text",
         "hovertext": "Canada<br>Life expectancy Rank: 17<br>Happiness Rank: 9<br>Mismatch: 8",
         "line": {
          "color": "#1E88E5",
          "width": 2
         },
         "mode": "lines+markers",
         "name": "Canada",
         "type": "scatter",
         "x": [
          "Life expectancy Rank",
          "Happiness Rank"
         ],
         "y": [
          17,
          9
         ]
        },
        {
         "hoverinfo": "text",
         "hovertext": "Netherlands<br>Life expectancy Rank: 18<br>Happiness Rank: 5<br>Mismatch: 13",
         "line": {
          "color": "#1E88E5",
          "width": 2
         },
         "mode": "lines+markers",
         "name": "Netherlands",
         "type": "scatter",
         "x": [
          "Life expectancy Rank",
          "Happiness Rank"
         ],
         "y": [
          18,
          5
         ]
        },
        {
         "hoverinfo": "text",
         "hovertext": "New Zealand<br>Life expectancy Rank: 19<br>Happiness Rank: 8<br>Mismatch: 11",
         "line": {
          "color": "#1E88E5",
          "width": 2
         },
         "mode": "lines+markers",
         "name": "New Zealand",
         "type": "scatter",
         "x": [
          "Life expectancy Rank",
          "Happiness Rank"
         ],
         "y": [
          19,
          8
         ]
        },
        {
         "hoverinfo": "text",
         "hovertext": "Belgium<br>Life expectancy Rank: 20<br>Happiness Rank: 18<br>Mismatch: 2",
         "line": {
          "color": "#1E88E5",
          "width": 2
         },
         "mode": "lines+markers",
         "name": "Belgium",
         "type": "scatter",
         "x": [
          "Life expectancy Rank",
          "Happiness Rank"
         ],
         "y": [
          20,
          18
         ]
        },
        {
         "hoverinfo": "text",
         "hovertext": "Finland<br>Life expectancy Rank: 21<br>Happiness Rank: 1<br>Mismatch: 20",
         "line": {
          "color": "#D81B60",
          "width": 2
         },
         "mode": "lines+markers",
         "name": "Finland",
         "type": "scatter",
         "x": [
          "Life expectancy Rank",
          "Happiness Rank"
         ],
         "y": [
          21,
          1
         ]
        },
        {
         "hoverinfo": "text",
         "hovertext": "Kuwait<br>Life expectancy Rank: 22<br>Happiness Rank: 47<br>Mismatch: 25",
         "line": {
          "color": "#D81B60",
          "width": 2
         },
         "mode": "lines+markers",
         "name": "Kuwait",
         "type": "scatter",
         "x": [
          "Life expectancy Rank",
          "Happiness Rank"
         ],
         "y": [
          22,
          47
         ]
        },
        {
         "hoverinfo": "text",
         "hovertext": "Austria<br>Life expectancy Rank: 23<br>Happiness Rank: 10<br>Mismatch: 13",
         "line": {
          "color": "#1E88E5",
          "width": 2
         },
         "mode": "lines+markers",
         "name": "Austria",
         "type": "scatter",
         "x": [
          "Life expectancy Rank",
          "Happiness Rank"
         ],
         "y": [
          23,
          10
         ]
        },
        {
         "hoverinfo": "text",
         "hovertext": "Portugal<br>Life expectancy Rank: 24<br>Happiness Rank: 60<br>Mismatch: 36",
         "line": {
          "color": "#D81B60",
          "width": 2
         },
         "mode": "lines+markers",
         "name": "Portugal",
         "type": "scatter",
         "x": [
          "Life expectancy Rank",
          "Happiness Rank"
         ],
         "y": [
          24,
          60
         ]
        },
        {
         "hoverinfo": "text",
         "hovertext": "Greece<br>Life expectancy Rank: 25<br>Happiness Rank: 73<br>Mismatch: 48",
         "line": {
          "color": "#D81B60",
          "width": 2
         },
         "mode": "lines+markers",
         "name": "Greece",
         "type": "scatter",
         "x": [
          "Life expectancy Rank",
          "Happiness Rank"
         ],
         "y": [
          25,
          73
         ]
        },
        {
         "hoverinfo": "text",
         "hovertext": "Slovenia<br>Life expectancy Rank: 26<br>Happiness Rank: 40<br>Mismatch: 14",
         "line": {
          "color": "#1E88E5",
          "width": 2
         },
         "mode": "lines+markers",
         "name": "Slovenia",
         "type": "scatter",
         "x": [
          "Life expectancy Rank",
          "Happiness Rank"
         ],
         "y": [
          26,
          40
         ]
        },
        {
         "hoverinfo": "text",
         "hovertext": "Cyprus<br>Life expectancy Rank: 27<br>Happiness Rank: 45<br>Mismatch: 18",
         "line": {
          "color": "#D81B60",
          "width": 2
         },
         "mode": "lines+markers",
         "name": "Cyprus",
         "type": "scatter",
         "x": [
          "Life expectancy Rank",
          "Happiness Rank"
         ],
         "y": [
          27,
          45
         ]
        },
        {
         "hoverinfo": "text",
         "hovertext": "Denmark<br>Life expectancy Rank: 28<br>Happiness Rank: 2<br>Mismatch: 26",
         "line": {
          "color": "#D81B60",
          "width": 2
         },
         "mode": "lines+markers",
         "name": "Denmark",
         "type": "scatter",
         "x": [
          "Life expectancy Rank",
          "Happiness Rank"
         ],
         "y": [
          28,
          2
         ]
        },
        {
         "hoverinfo": "text",
         "hovertext": "United Kingdom<br>Life expectancy Rank: 29<br>Happiness Rank: 15<br>Mismatch: 14",
         "line": {
          "color": "#1E88E5",
          "width": 2
         },
         "mode": "lines+markers",
         "name": "United Kingdom",
         "type": "scatter",
         "x": [
          "Life expectancy Rank",
          "Happiness Rank"
         ],
         "y": [
          29,
          15
         ]
        },
        {
         "hoverinfo": "text",
         "hovertext": "Germany<br>Life expectancy Rank: 30<br>Happiness Rank: 17<br>Mismatch: 13",
         "line": {
          "color": "#1E88E5",
          "width": 2
         },
         "mode": "lines+markers",
         "name": "Germany",
         "type": "scatter",
         "x": [
          "Life expectancy Rank",
          "Happiness Rank"
         ],
         "y": [
          30,
          17
         ]
        },
        {
         "hoverinfo": "text",
         "hovertext": "Bahrain<br>Life expectancy Rank: 31<br>Happiness Rank: 35<br>Mismatch: 4",
         "line": {
          "color": "#1E88E5",
          "width": 2
         },
         "mode": "lines+markers",
         "name": "Bahrain",
         "type": "scatter",
         "x": [
          "Life expectancy Rank",
          "Happiness Rank"
         ],
         "y": [
          31,
          35
         ]
        },
        {
         "hoverinfo": "text",
         "hovertext": "Chile<br>Life expectancy Rank: 32<br>Happiness Rank: 24<br>Mismatch: 8",
         "line": {
          "color": "#1E88E5",
          "width": 2
         },
         "mode": "lines+markers",
         "name": "Chile",
         "type": "scatter",
         "x": [
          "Life expectancy Rank",
          "Happiness Rank"
         ],
         "y": [
          32,
          24
         ]
        },
        {
         "hoverinfo": "text",
         "hovertext": "Costa Rica<br>Life expectancy Rank: 33<br>Happiness Rank: 12<br>Mismatch: 21",
         "line": {
          "color": "#D81B60",
          "width": 2
         },
         "mode": "lines+markers",
         "name": "Costa Rica",
         "type": "scatter",
         "x": [
          "Life expectancy Rank",
          "Happiness Rank"
         ],
         "y": [
          33,
          12
         ]
        },
        {
         "hoverinfo": "text",
         "hovertext": "Albania<br>Life expectancy Rank: 34<br>Happiness Rank: 93<br>Mismatch: 59",
         "line": {
          "color": "#D81B60",
          "width": 2
         },
         "mode": "lines+markers",
         "name": "Albania",
         "type": "scatter",
         "x": [
          "Life expectancy Rank",
          "Happiness Rank"
         ],
         "y": [
          34,
          93
         ]
        },
        {
         "hoverinfo": "text",
         "hovertext": "United States<br>Life expectancy Rank: 35<br>Happiness Rank: 19<br>Mismatch: 16",
         "line": {
          "color": "#D81B60",
          "width": 2
         },
         "mode": "lines+markers",
         "name": "United States",
         "type": "scatter",
         "x": [
          "Life expectancy Rank",
          "Happiness Rank"
         ],
         "y": [
          35,
          19
         ]
        },
        {
         "hoverinfo": "text",
         "hovertext": "Estonia<br>Life expectancy Rank: 36<br>Happiness Rank: 50<br>Mismatch: 14",
         "line": {
          "color": "#1E88E5",
          "width": 2
         },
         "mode": "lines+markers",
         "name": "Estonia",
         "type": "scatter",
         "x": [
          "Life expectancy Rank",
          "Happiness Rank"
         ],
         "y": [
          36,
          50
         ]
        },
        {
         "hoverinfo": "text",
         "hovertext": "Panama<br>Life expectancy Rank: 37<br>Happiness Rank: 29<br>Mismatch: 8",
         "line": {
          "color": "#1E88E5",
          "width": 2
         },
         "mode": "lines+markers",
         "name": "Panama",
         "type": "scatter",
         "x": [
          "Life expectancy Rank",
          "Happiness Rank"
         ],
         "y": [
          37,
          29
         ]
        },
        {
         "hoverinfo": "text",
         "hovertext": "Saudi Arabia<br>Life expectancy Rank: 38<br>Happiness Rank: 26<br>Mismatch: 12",
         "line": {
          "color": "#1E88E5",
          "width": 2
         },
         "mode": "lines+markers",
         "name": "Saudi Arabia",
         "type": "scatter",
         "x": [
          "Life expectancy Rank",
          "Happiness Rank"
         ],
         "y": [
          38,
          26
         ]
        },
        {
         "hoverinfo": "text",
         "hovertext": "Croatia<br>Life expectancy Rank: 39<br>Happiness Rank: 68<br>Mismatch: 29",
         "line": {
          "color": "#D81B60",
          "width": 2
         },
         "mode": "lines+markers",
         "name": "Croatia",
         "type": "scatter",
         "x": [
          "Life expectancy Rank",
          "Happiness Rank"
         ],
         "y": [
          39,
          68
         ]
        },
        {
         "hoverinfo": "text",
         "hovertext": "Lebanon<br>Life expectancy Rank: 40<br>Happiness Rank: 81<br>Mismatch: 41",
         "line": {
          "color": "#D81B60",
          "width": 2
         },
         "mode": "lines+markers",
         "name": "Lebanon",
         "type": "scatter",
         "x": [
          "Life expectancy Rank",
          "Happiness Rank"
         ],
         "y": [
          40,
          81
         ]
        },
        {
         "hoverinfo": "text",
         "hovertext": "China<br>Life expectancy Rank: 41<br>Happiness Rank: 83<br>Mismatch: 42",
         "line": {
          "color": "#D81B60",
          "width": 2
         },
         "mode": "lines+markers",
         "name": "China",
         "type": "scatter",
         "x": [
          "Life expectancy Rank",
          "Happiness Rank"
         ],
         "y": [
          41,
          83
         ]
        },
        {
         "hoverinfo": "text",
         "hovertext": "Poland<br>Life expectancy Rank: 42<br>Happiness Rank: 36<br>Mismatch: 6",
         "line": {
          "color": "#1E88E5",
          "width": 2
         },
         "mode": "lines+markers",
         "name": "Poland",
         "type": "scatter",
         "x": [
          "Life expectancy Rank",
          "Happiness Rank"
         ],
         "y": [
          42,
          36
         ]
        },
        {
         "hoverinfo": "text",
         "hovertext": "Uruguay<br>Life expectancy Rank: 43<br>Happiness Rank: 31<br>Mismatch: 12",
         "line": {
          "color": "#1E88E5",
          "width": 2
         },
         "mode": "lines+markers",
         "name": "Uruguay",
         "type": "scatter",
         "x": [
          "Life expectancy Rank",
          "Happiness Rank"
         ],
         "y": [
          43,
          31
         ]
        },
        {
         "hoverinfo": "text",
         "hovertext": "Bosnia and Herzegovina<br>Life expectancy Rank: 44<br>Happiness Rank: 70<br>Mismatch: 26",
         "line": {
          "color": "#D81B60",
          "width": 2
         },
         "mode": "lines+markers",
         "name": "Bosnia and Herzegovina",
         "type": "scatter",
         "x": [
          "Life expectancy Rank",
          "Happiness Rank"
         ],
         "y": [
          44,
          70
         ]
        },
        {
         "hoverinfo": "text",
         "hovertext": "Ecuador<br>Life expectancy Rank: 45<br>Happiness Rank: 46<br>Mismatch: 1",
         "line": {
          "color": "#1E88E5",
          "width": 2
         },
         "mode": "lines+markers",
         "name": "Ecuador",
         "type": "scatter",
         "x": [
          "Life expectancy Rank",
          "Happiness Rank"
         ],
         "y": [
          45,
          46
         ]
        },
        {
         "hoverinfo": "text",
         "hovertext": "Kosovo<br>Life expectancy Rank: 46<br>Happiness Rank: 42<br>Mismatch: 4",
         "line": {
          "color": "#1E88E5",
          "width": 2
         },
         "mode": "lines+markers",
         "name": "Kosovo",
         "type": "scatter",
         "x": [
          "Life expectancy Rank",
          "Happiness Rank"
         ],
         "y": [
          46,
          42
         ]
        },
        {
         "hoverinfo": "text",
         "hovertext": "Thailand<br>Life expectancy Rank: 47<br>Happiness Rank: 48<br>Mismatch: 1",
         "line": {
          "color": "#1E88E5",
          "width": 2
         },
         "mode": "lines+markers",
         "name": "Thailand",
         "type": "scatter",
         "x": [
          "Life expectancy Rank",
          "Happiness Rank"
         ],
         "y": [
          47,
          48
         ]
        },
        {
         "hoverinfo": "text",
         "hovertext": "Jordan<br>Life expectancy Rank: 48<br>Happiness Rank: 89<br>Mismatch: 41",
         "line": {
          "color": "#D81B60",
          "width": 2
         },
         "mode": "lines+markers",
         "name": "Jordan",
         "type": "scatter",
         "x": [
          "Life expectancy Rank",
          "Happiness Rank"
         ],
         "y": [
          48,
          89
         ]
        },
        {
         "hoverinfo": "text",
         "hovertext": "Argentina<br>Life expectancy Rank: 49<br>Happiness Rank: 43<br>Mismatch: 6",
         "line": {
          "color": "#1E88E5",
          "width": 2
         },
         "mode": "lines+markers",
         "name": "Argentina",
         "type": "scatter",
         "x": [
          "Life expectancy Rank",
          "Happiness Rank"
         ],
         "y": [
          49,
          43
         ]
        },
        {
         "hoverinfo": "text",
         "hovertext": "Colombia<br>Life expectancy Rank: 50<br>Happiness Rank: 39<br>Mismatch: 11",
         "line": {
          "color": "#1E88E5",
          "width": 2
         },
         "mode": "lines+markers",
         "name": "Colombia",
         "type": "scatter",
         "x": [
          "Life expectancy Rank",
          "Happiness Rank"
         ],
         "y": [
          50,
          39
         ]
        },
        {
         "hoverinfo": "text",
         "hovertext": "Sri Lanka<br>Life expectancy Rank: 51<br>Happiness Rank: 111<br>Mismatch: 60",
         "line": {
          "color": "#D81B60",
          "width": 2
         },
         "mode": "lines+markers",
         "name": "Sri Lanka",
         "type": "scatter",
         "x": [
          "Life expectancy Rank",
          "Happiness Rank"
         ],
         "y": [
          51,
          111
         ]
        },
        {
         "hoverinfo": "text",
         "hovertext": "Montenegro<br>Life expectancy Rank: 52<br>Happiness Rank: 66<br>Mismatch: 14",
         "line": {
          "color": "#1E88E5",
          "width": 2
         },
         "mode": "lines+markers",
         "name": "Montenegro",
         "type": "scatter",
         "x": [
          "Life expectancy Rank",
          "Happiness Rank"
         ],
         "y": [
          52,
          66
         ]
        },
        {
         "hoverinfo": "text",
         "hovertext": "North Macedonia<br>Life expectancy Rank: 53<br>Happiness Rank: 75<br>Mismatch: 22",
         "line": {
          "color": "#D81B60",
          "width": 2
         },
         "mode": "lines+markers",
         "name": "North Macedonia",
         "type": "scatter",
         "x": [
          "Life expectancy Rank",
          "Happiness Rank"
         ],
         "y": [
          53,
          75
         ]
        },
        {
         "hoverinfo": "text",
         "hovertext": "Hungary<br>Life expectancy Rank: 54<br>Happiness Rank: 57<br>Mismatch: 3",
         "line": {
          "color": "#1E88E5",
          "width": 2
         },
         "mode": "lines+markers",
         "name": "Hungary",
         "type": "scatter",
         "x": [
          "Life expectancy Rank",
          "Happiness Rank"
         ],
         "y": [
          54,
          57
         ]
        },
        {
         "hoverinfo": "text",
         "hovertext": "Lithuania<br>Life expectancy Rank: 55<br>Happiness Rank: 38<br>Mismatch: 17",
         "line": {
          "color": "#D81B60",
          "width": 2
         },
         "mode": "lines+markers",
         "name": "Lithuania",
         "type": "scatter",
         "x": [
          "Life expectancy Rank",
          "Happiness Rank"
         ],
         "y": [
          55,
          38
         ]
        },
        {
         "hoverinfo": "text",
         "hovertext": "Peru<br>Life expectancy Rank: 56<br>Happiness Rank: 59<br>Mismatch: 3",
         "line": {
          "color": "#1E88E5",
          "width": 2
         },
         "mode": "lines+markers",
         "name": "Peru",
         "type": "scatter",
         "x": [
          "Life expectancy Rank",
          "Happiness Rank"
         ],
         "y": [
          56,
          59
         ]
        },
        {
         "hoverinfo": "text",
         "hovertext": "Armenia<br>Life expectancy Rank: 57<br>Happiness Rank: 100<br>Mismatch: 43",
         "line": {
          "color": "#D81B60",
          "width": 2
         },
         "mode": "lines+markers",
         "name": "Armenia",
         "type": "scatter",
         "x": [
          "Life expectancy Rank",
          "Happiness Rank"
         ],
         "y": [
          57,
          100
         ]
        },
        {
         "hoverinfo": "text",
         "hovertext": "Serbia<br>Life expectancy Rank: 58<br>Happiness Rank: 63<br>Mismatch: 5",
         "line": {
          "color": "#1E88E5",
          "width": 2
         },
         "mode": "lines+markers",
         "name": "Serbia",
         "type": "scatter",
         "x": [
          "Life expectancy Rank",
          "Happiness Rank"
         ],
         "y": [
          58,
          63
         ]
        },
        {
         "hoverinfo": "text",
         "hovertext": "Malaysia<br>Life expectancy Rank: 59<br>Happiness Rank: 71<br>Mismatch: 12",
         "line": {
          "color": "#1E88E5",
          "width": 2
         },
         "mode": "lines+markers",
         "name": "Malaysia",
         "type": "scatter",
         "x": [
          "Life expectancy Rank",
          "Happiness Rank"
         ],
         "y": [
          59,
          71
         ]
        },
        {
         "hoverinfo": "text",
         "hovertext": "Brazil<br>Life expectancy Rank: 60<br>Happiness Rank: 30<br>Mismatch: 30",
         "line": {
          "color": "#D81B60",
          "width": 2
         },
         "mode": "lines+markers",
         "name": "Brazil",
         "type": "scatter",
         "x": [
          "Life expectancy Rank",
          "Happiness Rank"
         ],
         "y": [
          60,
          30
         ]
        },
        {
         "hoverinfo": "text",
         "hovertext": "Algeria<br>Life expectancy Rank: 61<br>Happiness Rank: 78<br>Mismatch: 17",
         "line": {
          "color": "#D81B60",
          "width": 2
         },
         "mode": "lines+markers",
         "name": "Algeria",
         "type": "scatter",
         "x": [
          "Life expectancy Rank",
          "Happiness Rank"
         ],
         "y": [
          61,
          78
         ]
        },
        {
         "hoverinfo": "text",
         "hovertext": "Romania<br>Life expectancy Rank: 62<br>Happiness Rank: 44<br>Mismatch: 18",
         "line": {
          "color": "#D81B60",
          "width": 2
         },
         "mode": "lines+markers",
         "name": "Romania",
         "type": "scatter",
         "x": [
          "Life expectancy Rank",
          "Happiness Rank"
         ],
         "y": [
          62,
          44
         ]
        },
        {
         "hoverinfo": "text",
         "hovertext": "Tunisia<br>Life expectancy Rank: 63<br>Happiness Rank: 106<br>Mismatch: 43",
         "line": {
          "color": "#D81B60",
          "width": 2
         },
         "mode": "lines+markers",
         "name": "Tunisia",
         "type": "scatter",
         "x": [
          "Life expectancy Rank",
          "Happiness Rank"
         ],
         "y": [
          63,
          106
         ]
        },
        {
         "hoverinfo": "text",
         "hovertext": "Latvia<br>Life expectancy Rank: 64<br>Happiness Rank: 49<br>Mismatch: 15",
         "line": {
          "color": "#1E88E5",
          "width": 2
         },
         "mode": "lines+markers",
         "name": "Latvia",
         "type": "scatter",
         "x": [
          "Life expectancy Rank",
          "Happiness Rank"
         ],
         "y": [
          64,
          49
         ]
        },
        {
         "hoverinfo": "text",
         "hovertext": "Bulgaria<br>Life expectancy Rank: 65<br>Happiness Rank: 86<br>Mismatch: 21",
         "line": {
          "color": "#D81B60",
          "width": 2
         },
         "mode": "lines+markers",
         "name": "Bulgaria",
         "type": "scatter",
         "x": [
          "Life expectancy Rank",
          "Happiness Rank"
         ],
         "y": [
          65,
          86
         ]
        },
        {
         "hoverinfo": "text",
         "hovertext": "Mexico<br>Life expectancy Rank: 66<br>Happiness Rank: 22<br>Mismatch: 44",
         "line": {
          "color": "#D81B60",
          "width": 2
         },
         "mode": "lines+markers",
         "name": "Mexico",
         "type": "scatter",
         "x": [
          "Life expectancy Rank",
          "Happiness Rank"
         ],
         "y": [
          66,
          22
         ]
        },
        {
         "hoverinfo": "text",
         "hovertext": "Morocco<br>Life expectancy Rank: 67<br>Happiness Rank: 79<br>Mismatch: 12",
         "line": {
          "color": "#1E88E5",
          "width": 2
         },
         "mode": "lines+markers",
         "name": "Morocco",
         "type": "scatter",
         "x": [
          "Life expectancy Rank",
          "Happiness Rank"
         ],
         "y": [
          67,
          79
         ]
        },
        {
         "hoverinfo": "text",
         "hovertext": "Mauritius<br>Life expectancy Rank: 68<br>Happiness Rank: 52<br>Mismatch: 16",
         "line": {
          "color": "#D81B60",
          "width": 2
         },
         "mode": "lines+markers",
         "name": "Mauritius",
         "type": "scatter",
         "x": [
          "Life expectancy Rank",
          "Happiness Rank"
         ],
         "y": [
          68,
          52
         ]
        },
        {
         "hoverinfo": "text",
         "hovertext": "Belarus<br>Life expectancy Rank: 69<br>Happiness Rank: 72<br>Mismatch: 3",
         "line": {
          "color": "#1E88E5",
          "width": 2
         },
         "mode": "lines+markers",
         "name": "Belarus",
         "type": "scatter",
         "x": [
          "Life expectancy Rank",
          "Happiness Rank"
         ],
         "y": [
          69,
          72
         ]
        },
        {
         "hoverinfo": "text",
         "hovertext": "Georgia<br>Life expectancy Rank: 70<br>Happiness Rank: 102<br>Mismatch: 32",
         "line": {
          "color": "#D81B60",
          "width": 2
         },
         "mode": "lines+markers",
         "name": "Georgia",
         "type": "scatter",
         "x": [
          "Life expectancy Rank",
          "Happiness Rank"
         ],
         "y": [
          70,
          102
         ]
        },
        {
         "hoverinfo": "text",
         "hovertext": "Ukraine<br>Life expectancy Rank: 71<br>Happiness Rank: 114<br>Mismatch: 43",
         "line": {
          "color": "#D81B60",
          "width": 2
         },
         "mode": "lines+markers",
         "name": "Ukraine",
         "type": "scatter",
         "x": [
          "Life expectancy Rank",
          "Happiness Rank"
         ],
         "y": [
          71,
          114
         ]
        },
        {
         "hoverinfo": "text",
         "hovertext": "Nicaragua<br>Life expectancy Rank: 72<br>Happiness Rank: 41<br>Mismatch: 31",
         "line": {
          "color": "#D81B60",
          "width": 2
         },
         "mode": "lines+markers",
         "name": "Nicaragua",
         "type": "scatter",
         "x": [
          "Life expectancy Rank",
          "Happiness Rank"
         ],
         "y": [
          72,
          41
         ]
        },
        {
         "hoverinfo": "text",
         "hovertext": "Paraguay<br>Life expectancy Rank: 73<br>Happiness Rank: 58<br>Mismatch: 15",
         "line": {
          "color": "#1E88E5",
          "width": 2
         },
         "mode": "lines+markers",
         "name": "Paraguay",
         "type": "scatter",
         "x": [
          "Life expectancy Rank",
          "Happiness Rank"
         ],
         "y": [
          73,
          58
         ]
        },
        {
         "hoverinfo": "text",
         "hovertext": "Kazakhstan<br>Life expectancy Rank: 74<br>Happiness Rank: 55<br>Mismatch: 19",
         "line": {
          "color": "#D81B60",
          "width": 2
         },
         "mode": "lines+markers",
         "name": "Kazakhstan",
         "type": "scatter",
         "x": [
          "Life expectancy Rank",
          "Happiness Rank"
         ],
         "y": [
          74,
          55
         ]
        },
        {
         "hoverinfo": "text",
         "hovertext": "Azerbaijan<br>Life expectancy Rank: 75<br>Happiness Rank: 79<br>Mismatch: 4",
         "line": {
          "color": "#1E88E5",
          "width": 2
         },
         "mode": "lines+markers",
         "name": "Azerbaijan",
         "type": "scatter",
         "x": [
          "Life expectancy Rank",
          "Happiness Rank"
         ],
         "y": [
          75,
          79
         ]
        },
        {
         "hoverinfo": "text",
         "hovertext": "Dominican Republic<br>Life expectancy Rank: 76<br>Happiness Rank: 69<br>Mismatch: 7",
         "line": {
          "color": "#1E88E5",
          "width": 2
         },
         "mode": "lines+markers",
         "name": "Dominican Republic",
         "type": "scatter",
         "x": [
          "Life expectancy Rank",
          "Happiness Rank"
         ],
         "y": [
          76,
          69
         ]
        },
        {
         "hoverinfo": "text",
         "hovertext": "Libya<br>Life expectancy Rank: 77<br>Happiness Rank: 65<br>Mismatch: 12",
         "line": {
          "color": "#1E88E5",
          "width": 2
         },
         "mode": "lines+markers",
         "name": "Libya",
         "type": "scatter",
         "x": [
          "Life expectancy Rank",
          "Happiness Rank"
         ],
         "y": [
          77,
          65
         ]
        },
        {
         "hoverinfo": "text",
         "hovertext": "Bangladesh<br>Life expectancy Rank: 78<br>Happiness Rank: 107<br>Mismatch: 29",
         "line": {
          "color": "#D81B60",
          "width": 2
         },
         "mode": "lines+markers",
         "name": "Bangladesh",
         "type": "scatter",
         "x": [
          "Life expectancy Rank",
          "Happiness Rank"
         ],
         "y": [
          78,
          107
         ]
        },
        {
         "hoverinfo": "text",
         "hovertext": "Honduras<br>Life expectancy Rank: 79<br>Happiness Rank: 54<br>Mismatch: 25",
         "line": {
          "color": "#D81B60",
          "width": 2
         },
         "mode": "lines+markers",
         "name": "Honduras",
         "type": "scatter",
         "x": [
          "Life expectancy Rank",
          "Happiness Rank"
         ],
         "y": [
          79,
          54
         ]
        },
        {
         "hoverinfo": "text",
         "hovertext": "Uzbekistan<br>Life expectancy Rank: 80<br>Happiness Rank: 37<br>Mismatch: 43",
         "line": {
          "color": "#D81B60",
          "width": 2
         },
         "mode": "lines+markers",
         "name": "Uzbekistan",
         "type": "scatter",
         "x": [
          "Life expectancy Rank",
          "Happiness Rank"
         ],
         "y": [
          80,
          37
         ]
        },
        {
         "hoverinfo": "text",
         "hovertext": "Bhutan<br>Life expectancy Rank: 81<br>Happiness Rank: 84<br>Mismatch: 3",
         "line": {
          "color": "#1E88E5",
          "width": 2
         },
         "mode": "lines+markers",
         "name": "Bhutan",
         "type": "scatter",
         "x": [
          "Life expectancy Rank",
          "Happiness Rank"
         ],
         "y": [
          81,
          84
         ]
        },
        {
         "hoverinfo": "text",
         "hovertext": "El Salvador<br>Life expectancy Rank: 82<br>Happiness Rank: 33<br>Mismatch: 49",
         "line": {
          "color": "#D81B60",
          "width": 2
         },
         "mode": "lines+markers",
         "name": "El Salvador",
         "type": "scatter",
         "x": [
          "Life expectancy Rank",
          "Happiness Rank"
         ],
         "y": [
          82,
          33
         ]
        },
        {
         "hoverinfo": "text",
         "hovertext": "Guatemala<br>Life expectancy Rank: 83<br>Happiness Rank: 25<br>Mismatch: 58",
         "line": {
          "color": "#D81B60",
          "width": 2
         },
         "mode": "lines+markers",
         "name": "Guatemala",
         "type": "scatter",
         "x": [
          "Life expectancy Rank",
          "Happiness Rank"
         ],
         "y": [
          83,
          25
         ]
        },
        {
         "hoverinfo": "text",
         "hovertext": "Jamaica<br>Life expectancy Rank: 84<br>Happiness Rank: 51<br>Mismatch: 33",
         "line": {
          "color": "#D81B60",
          "width": 2
         },
         "mode": "lines+markers",
         "name": "Jamaica",
         "type": "scatter",
         "x": [
          "Life expectancy Rank",
          "Happiness Rank"
         ],
         "y": [
          84,
          51
         ]
        },
        {
         "hoverinfo": "text",
         "hovertext": "Iraq<br>Life expectancy Rank: 85<br>Happiness Rank: 108<br>Mismatch: 23",
         "line": {
          "color": "#D81B60",
          "width": 2
         },
         "mode": "lines+markers",
         "name": "Iraq",
         "type": "scatter",
         "x": [
          "Life expectancy Rank",
          "Happiness Rank"
         ],
         "y": [
          85,
          108
         ]
        },
        {
         "hoverinfo": "text",
         "hovertext": "Mongolia<br>Life expectancy Rank: 86<br>Happiness Rank: 74<br>Mismatch: 12",
         "line": {
          "color": "#1E88E5",
          "width": 2
         },
         "mode": "lines+markers",
         "name": "Mongolia",
         "type": "scatter",
         "x": [
          "Life expectancy Rank",
          "Happiness Rank"
         ],
         "y": [
          86,
          74
         ]
        },
        {
         "hoverinfo": "text",
         "hovertext": "Tajikistan<br>Life expectancy Rank: 87<br>Happiness Rank: 67<br>Mismatch: 20",
         "line": {
          "color": "#D81B60",
          "width": 2
         },
         "mode": "lines+markers",
         "name": "Tajikistan",
         "type": "scatter",
         "x": [
          "Life expectancy Rank",
          "Happiness Rank"
         ],
         "y": [
          87,
          67
         ]
        },
        {
         "hoverinfo": "text",
         "hovertext": "India<br>Life expectancy Rank: 88<br>Happiness Rank: 119<br>Mismatch: 31",
         "line": {
          "color": "#D81B60",
          "width": 2
         },
         "mode": "lines+markers",
         "name": "India",
         "type": "scatter",
         "x": [
          "Life expectancy Rank",
          "Happiness Rank"
         ],
         "y": [
          88,
          119
         ]
        },
        {
         "hoverinfo": "text",
         "hovertext": "Indonesia<br>Life expectancy Rank: 89<br>Happiness Rank: 82<br>Mismatch: 7",
         "line": {
          "color": "#1E88E5",
          "width": 2
         },
         "mode": "lines+markers",
         "name": "Indonesia",
         "type": "scatter",
         "x": [
          "Life expectancy Rank",
          "Happiness Rank"
         ],
         "y": [
          89,
          82
         ]
        },
        {
         "hoverinfo": "text",
         "hovertext": "Moldova<br>Life expectancy Rank: 90<br>Happiness Rank: 64<br>Mismatch: 26",
         "line": {
          "color": "#D81B60",
          "width": 2
         },
         "mode": "lines+markers",
         "name": "Moldova",
         "type": "scatter",
         "x": [
          "Life expectancy Rank",
          "Happiness Rank"
         ],
         "y": [
          90,
          64
         ]
        },
        {
         "hoverinfo": "text",
         "hovertext": "Cambodia<br>Life expectancy Rank: 91<br>Happiness Rank: 94<br>Mismatch: 3",
         "line": {
          "color": "#1E88E5",
          "width": 2
         },
         "mode": "lines+markers",
         "name": "Cambodia",
         "type": "scatter",
         "x": [
          "Life expectancy Rank",
          "Happiness Rank"
         ],
         "y": [
          91,
          94
         ]
        },
        {
         "hoverinfo": "text",
         "hovertext": "Philippines<br>Life expectancy Rank: 92<br>Happiness Rank: 62<br>Mismatch: 30",
         "line": {
          "color": "#D81B60",
          "width": 2
         },
         "mode": "lines+markers",
         "name": "Philippines",
         "type": "scatter",
         "x": [
          "Life expectancy Rank",
          "Happiness Rank"
         ],
         "y": [
          92,
          62
         ]
        },
        {
         "hoverinfo": "text",
         "hovertext": "Turkmenistan<br>Life expectancy Rank: 93<br>Happiness Rank: 77<br>Mismatch: 16",
         "line": {
          "color": "#D81B60",
          "width": 2
         },
         "mode": "lines+markers",
         "name": "Turkmenistan",
         "type": "scatter",
         "x": [
          "Life expectancy Rank",
          "Happiness Rank"
         ],
         "y": [
          93,
          77
         ]
        },
        {
         "hoverinfo": "text",
         "hovertext": "Nepal<br>Life expectancy Rank: 94<br>Happiness Rank: 88<br>Mismatch: 6",
         "line": {
          "color": "#1E88E5",
          "width": 2
         },
         "mode": "lines+markers",
         "name": "Nepal",
         "type": "scatter",
         "x": [
          "Life expectancy Rank",
          "Happiness Rank"
         ],
         "y": [
          94,
          88
         ]
        },
        {
         "hoverinfo": "text",
         "hovertext": "Bolivia<br>Life expectancy Rank: 95<br>Happiness Rank: 56<br>Mismatch: 39",
         "line": {
          "color": "#D81B60",
          "width": 2
         },
         "mode": "lines+markers",
         "name": "Bolivia",
         "type": "scatter",
         "x": [
          "Life expectancy Rank",
          "Happiness Rank"
         ],
         "y": [
          95,
          56
         ]
        },
        {
         "hoverinfo": "text",
         "hovertext": "Senegal<br>Life expectancy Rank: 96<br>Happiness Rank: 95<br>Mismatch: 1",
         "line": {
          "color": "#1E88E5",
          "width": 2
         },
         "mode": "lines+markers",
         "name": "Senegal",
         "type": "scatter",
         "x": [
          "Life expectancy Rank",
          "Happiness Rank"
         ],
         "y": [
          96,
          95
         ]
        },
        {
         "hoverinfo": "text",
         "hovertext": "Mauritania<br>Life expectancy Rank: 97<br>Happiness Rank: 104<br>Mismatch: 7",
         "line": {
          "color": "#1E88E5",
          "width": 2
         },
         "mode": "lines+markers",
         "name": "Mauritania",
         "type": "scatter",
         "x": [
          "Life expectancy Rank",
          "Happiness Rank"
         ],
         "y": [
          97,
          104
         ]
        },
        {
         "hoverinfo": "text",
         "hovertext": "Gabon<br>Life expectancy Rank: 98<br>Happiness Rank: 91<br>Mismatch: 7",
         "line": {
          "color": "#1E88E5",
          "width": 2
         },
         "mode": "lines+markers",
         "name": "Gabon",
         "type": "scatter",
         "x": [
          "Life expectancy Rank",
          "Happiness Rank"
         ],
         "y": [
          98,
          91
         ]
        },
        {
         "hoverinfo": "text",
         "hovertext": "Botswana<br>Life expectancy Rank: 99<br>Happiness Rank: 127<br>Mismatch: 28",
         "line": {
          "color": "#D81B60",
          "width": 2
         },
         "mode": "lines+markers",
         "name": "Botswana",
         "type": "scatter",
         "x": [
          "Life expectancy Rank",
          "Happiness Rank"
         ],
         "y": [
          99,
          127
         ]
        },
        {
         "hoverinfo": "text",
         "hovertext": "Pakistan<br>Life expectancy Rank: 100<br>Happiness Rank: 61<br>Mismatch: 39",
         "line": {
          "color": "#D81B60",
          "width": 2
         },
         "mode": "lines+markers",
         "name": "Pakistan",
         "type": "scatter",
         "x": [
          "Life expectancy Rank",
          "Happiness Rank"
         ],
         "y": [
          100,
          61
         ]
        },
        {
         "hoverinfo": "text",
         "hovertext": "Rwanda<br>Life expectancy Rank: 101<br>Happiness Rank: 129<br>Mismatch: 28",
         "line": {
          "color": "#D81B60",
          "width": 2
         },
         "mode": "lines+markers",
         "name": "Rwanda",
         "type": "scatter",
         "x": [
          "Life expectancy Rank",
          "Happiness Rank"
         ],
         "y": [
          101,
          129
         ]
        },
        {
         "hoverinfo": "text",
         "hovertext": "Myanmar<br>Life expectancy Rank: 102<br>Happiness Rank: 112<br>Mismatch: 10",
         "line": {
          "color": "#1E88E5",
          "width": 2
         },
         "mode": "lines+markers",
         "name": "Myanmar",
         "type": "scatter",
         "x": [
          "Life expectancy Rank",
          "Happiness Rank"
         ],
         "y": [
          102,
          112
         ]
        },
        {
         "hoverinfo": "text",
         "hovertext": "Uganda<br>Life expectancy Rank: 103<br>Happiness Rank: 116<br>Mismatch: 13",
         "line": {
          "color": "#1E88E5",
          "width": 2
         },
         "mode": "lines+markers",
         "name": "Uganda",
         "type": "scatter",
         "x": [
          "Life expectancy Rank",
          "Happiness Rank"
         ],
         "y": [
          103,
          116
         ]
        },
        {
         "hoverinfo": "text",
         "hovertext": "South Africa<br>Life expectancy Rank: 104<br>Happiness Rank: 92<br>Mismatch: 12",
         "line": {
          "color": "#1E88E5",
          "width": 2
         },
         "mode": "lines+markers",
         "name": "South Africa",
         "type": "scatter",
         "x": [
          "Life expectancy Rank",
          "Happiness Rank"
         ],
         "y": [
          104,
          92
         ]
        },
        {
         "hoverinfo": "text",
         "hovertext": "Tanzania<br>Life expectancy Rank: 105<br>Happiness Rank: 130<br>Mismatch: 25",
         "line": {
          "color": "#D81B60",
          "width": 2
         },
         "mode": "lines+markers",
         "name": "Tanzania",
         "type": "scatter",
         "x": [
          "Life expectancy Rank",
          "Happiness Rank"
         ],
         "y": [
          105,
          130
         ]
        },
        {
         "hoverinfo": "text",
         "hovertext": "Ethiopia<br>Life expectancy Rank: 106<br>Happiness Rank: 115<br>Mismatch: 9",
         "line": {
          "color": "#1E88E5",
          "width": 2
         },
         "mode": "lines+markers",
         "name": "Ethiopia",
         "type": "scatter",
         "x": [
          "Life expectancy Rank",
          "Happiness Rank"
         ],
         "y": [
          106,
          115
         ]
        },
        {
         "hoverinfo": "text",
         "hovertext": "Comoros<br>Life expectancy Rank: 107<br>Happiness Rank: 121<br>Mismatch: 14",
         "line": {
          "color": "#1E88E5",
          "width": 2
         },
         "mode": "lines+markers",
         "name": "Comoros",
         "type": "scatter",
         "x": [
          "Life expectancy Rank",
          "Happiness Rank"
         ],
         "y": [
          107,
          121
         ]
        },
        {
         "hoverinfo": "text",
         "hovertext": "Malawi<br>Life expectancy Rank: 108<br>Happiness Rank: 128<br>Mismatch: 20",
         "line": {
          "color": "#D81B60",
          "width": 2
         },
         "mode": "lines+markers",
         "name": "Malawi",
         "type": "scatter",
         "x": [
          "Life expectancy Rank",
          "Happiness Rank"
         ],
         "y": [
          108,
          128
         ]
        },
        {
         "hoverinfo": "text",
         "hovertext": "Ghana<br>Life expectancy Rank: 109<br>Happiness Rank: 87<br>Mismatch: 22",
         "line": {
          "color": "#D81B60",
          "width": 2
         },
         "mode": "lines+markers",
         "name": "Ghana",
         "type": "scatter",
         "x": [
          "Life expectancy Rank",
          "Happiness Rank"
         ],
         "y": [
          109,
          87
         ]
        },
        {
         "hoverinfo": "text",
         "hovertext": "Haiti<br>Life expectancy Rank: 110<br>Happiness Rank: 126<br>Mismatch: 16",
         "line": {
          "color": "#D81B60",
          "width": 2
         },
         "mode": "lines+markers",
         "name": "Haiti",
         "type": "scatter",
         "x": [
          "Life expectancy Rank",
          "Happiness Rank"
         ],
         "y": [
          110,
          126
         ]
        },
        {
         "hoverinfo": "text",
         "hovertext": "Namibia<br>Life expectancy Rank: 111<br>Happiness Rank: 97<br>Mismatch: 14",
         "line": {
          "color": "#1E88E5",
          "width": 2
         },
         "mode": "lines+markers",
         "name": "Namibia",
         "type": "scatter",
         "x": [
          "Life expectancy Rank",
          "Happiness Rank"
         ],
         "y": [
          111,
          97
         ]
        },
        {
         "hoverinfo": "text",
         "hovertext": "Madagascar<br>Life expectancy Rank: 112<br>Happiness Rank: 122<br>Mismatch: 10",
         "line": {
          "color": "#1E88E5",
          "width": 2
         },
         "mode": "lines+markers",
         "name": "Madagascar",
         "type": "scatter",
         "x": [
          "Life expectancy Rank",
          "Happiness Rank"
         ],
         "y": [
          112,
          122
         ]
        },
        {
         "hoverinfo": "text",
         "hovertext": "Afghanistan<br>Life expectancy Rank: 113<br>Happiness Rank: 131<br>Mismatch: 18",
         "line": {
          "color": "#D81B60",
          "width": 2
         },
         "mode": "lines+markers",
         "name": "Afghanistan",
         "type": "scatter",
         "x": [
          "Life expectancy Rank",
          "Happiness Rank"
         ],
         "y": [
          113,
          131
         ]
        },
        {
         "hoverinfo": "text",
         "hovertext": "Kenya<br>Life expectancy Rank: 114<br>Happiness Rank: 103<br>Mismatch: 11",
         "line": {
          "color": "#1E88E5",
          "width": 2
         },
         "mode": "lines+markers",
         "name": "Kenya",
         "type": "scatter",
         "x": [
          "Life expectancy Rank",
          "Happiness Rank"
         ],
         "y": [
          114,
          103
         ]
        },
        {
         "hoverinfo": "text",
         "hovertext": "Zambia<br>Life expectancy Rank: 115<br>Happiness Rank: 117<br>Mismatch: 2",
         "line": {
          "color": "#1E88E5",
          "width": 2
         },
         "mode": "lines+markers",
         "name": "Zambia",
         "type": "scatter",
         "x": [
          "Life expectancy Rank",
          "Happiness Rank"
         ],
         "y": [
          115,
          117
         ]
        },
        {
         "hoverinfo": "text",
         "hovertext": "Burundi<br>Life expectancy Rank: 116<br>Happiness Rank: 124<br>Mismatch: 8",
         "line": {
          "color": "#1E88E5",
          "width": 2
         },
         "mode": "lines+markers",
         "name": "Burundi",
         "type": "scatter",
         "x": [
          "Life expectancy Rank",
          "Happiness Rank"
         ],
         "y": [
          116,
          124
         ]
        },
        {
         "hoverinfo": "text",
         "hovertext": "Cameroon<br>Life expectancy Rank: 117<br>Happiness Rank: 85<br>Mismatch: 32",
         "line": {
          "color": "#D81B60",
          "width": 2
         },
         "mode": "lines+markers",
         "name": "Cameroon",
         "type": "scatter",
         "x": [
          "Life expectancy Rank",
          "Happiness Rank"
         ],
         "y": [
          117,
          85
         ]
        },
        {
         "hoverinfo": "text",
         "hovertext": "Mozambique<br>Life expectancy Rank: 118<br>Happiness Rank: 105<br>Mismatch: 13",
         "line": {
          "color": "#1E88E5",
          "width": 2
         },
         "mode": "lines+markers",
         "name": "Mozambique",
         "type": "scatter",
         "x": [
          "Life expectancy Rank",
          "Happiness Rank"
         ],
         "y": [
          118,
          105
         ]
        },
        {
         "hoverinfo": "text",
         "hovertext": "Liberia<br>Life expectancy Rank: 119<br>Happiness Rank: 120<br>Mismatch: 1",
         "line": {
          "color": "#1E88E5",
          "width": 2
         },
         "mode": "lines+markers",
         "name": "Liberia",
         "type": "scatter",
         "x": [
          "Life expectancy Rank",
          "Happiness Rank"
         ],
         "y": [
          119,
          120
         ]
        },
        {
         "hoverinfo": "text",
         "hovertext": "Zimbabwe<br>Life expectancy Rank: 120<br>Happiness Rank: 125<br>Mismatch: 5",
         "line": {
          "color": "#1E88E5",
          "width": 2
         },
         "mode": "lines+markers",
         "name": "Zimbabwe",
         "type": "scatter",
         "x": [
          "Life expectancy Rank",
          "Happiness Rank"
         ],
         "y": [
          120,
          125
         ]
        },
        {
         "hoverinfo": "text",
         "hovertext": "Togo<br>Life expectancy Rank: 121<br>Happiness Rank: 118<br>Mismatch: 3",
         "line": {
          "color": "#1E88E5",
          "width": 2
         },
         "mode": "lines+markers",
         "name": "Togo",
         "type": "scatter",
         "x": [
          "Life expectancy Rank",
          "Happiness Rank"
         ],
         "y": [
          121,
          118
         ]
        },
        {
         "hoverinfo": "text",
         "hovertext": "Burkina Faso<br>Life expectancy Rank: 122<br>Happiness Rank: 99<br>Mismatch: 23",
         "line": {
          "color": "#D81B60",
          "width": 2
         },
         "mode": "lines+markers",
         "name": "Burkina Faso",
         "type": "scatter",
         "x": [
          "Life expectancy Rank",
          "Happiness Rank"
         ],
         "y": [
          122,
          99
         ]
        },
        {
         "hoverinfo": "text",
         "hovertext": "Niger<br>Life expectancy Rank: 123<br>Happiness Rank: 98<br>Mismatch: 25",
         "line": {
          "color": "#D81B60",
          "width": 2
         },
         "mode": "lines+markers",
         "name": "Niger",
         "type": "scatter",
         "x": [
          "Life expectancy Rank",
          "Happiness Rank"
         ],
         "y": [
          123,
          98
         ]
        },
        {
         "hoverinfo": "text",
         "hovertext": "Benin<br>Life expectancy Rank: 124<br>Happiness Rank: 90<br>Mismatch: 34",
         "line": {
          "color": "#D81B60",
          "width": 2
         },
         "mode": "lines+markers",
         "name": "Benin",
         "type": "scatter",
         "x": [
          "Life expectancy Rank",
          "Happiness Rank"
         ],
         "y": [
          124,
          90
         ]
        },
        {
         "hoverinfo": "text",
         "hovertext": "Sierra Leone<br>Life expectancy Rank: 125<br>Happiness Rank: 110<br>Mismatch: 15",
         "line": {
          "color": "#1E88E5",
          "width": 2
         },
         "mode": "lines+markers",
         "name": "Sierra Leone",
         "type": "scatter",
         "x": [
          "Life expectancy Rank",
          "Happiness Rank"
         ],
         "y": [
          125,
          110
         ]
        },
        {
         "hoverinfo": "text",
         "hovertext": "Guinea<br>Life expectancy Rank: 126<br>Happiness Rank: 101<br>Mismatch: 25",
         "line": {
          "color": "#D81B60",
          "width": 2
         },
         "mode": "lines+markers",
         "name": "Guinea",
         "type": "scatter",
         "x": [
          "Life expectancy Rank",
          "Happiness Rank"
         ],
         "y": [
          126,
          101
         ]
        },
        {
         "hoverinfo": "text",
         "hovertext": "Mali<br>Life expectancy Rank: 127<br>Happiness Rank: 109<br>Mismatch: 18",
         "line": {
          "color": "#D81B60",
          "width": 2
         },
         "mode": "lines+markers",
         "name": "Mali",
         "type": "scatter",
         "x": [
          "Life expectancy Rank",
          "Happiness Rank"
         ],
         "y": [
          127,
          109
         ]
        },
        {
         "hoverinfo": "text",
         "hovertext": "South Sudan<br>Life expectancy Rank: 128<br>Happiness Rank: 133<br>Mismatch: 5",
         "line": {
          "color": "#1E88E5",
          "width": 2
         },
         "mode": "lines+markers",
         "name": "South Sudan",
         "type": "scatter",
         "x": [
          "Life expectancy Rank",
          "Happiness Rank"
         ],
         "y": [
          128,
          133
         ]
        },
        {
         "hoverinfo": "text",
         "hovertext": "Somalia<br>Life expectancy Rank: 129<br>Happiness Rank: 96<br>Mismatch: 33",
         "line": {
          "color": "#D81B60",
          "width": 2
         },
         "mode": "lines+markers",
         "name": "Somalia",
         "type": "scatter",
         "x": [
          "Life expectancy Rank",
          "Happiness Rank"
         ],
         "y": [
          129,
          96
         ]
        },
        {
         "hoverinfo": "text",
         "hovertext": "Lesotho<br>Life expectancy Rank: 130<br>Happiness Rank: 123<br>Mismatch: 7",
         "line": {
          "color": "#1E88E5",
          "width": 2
         },
         "mode": "lines+markers",
         "name": "Lesotho",
         "type": "scatter",
         "x": [
          "Life expectancy Rank",
          "Happiness Rank"
         ],
         "y": [
          130,
          123
         ]
        },
        {
         "hoverinfo": "text",
         "hovertext": "Nigeria<br>Life expectancy Rank: 131<br>Happiness Rank: 76<br>Mismatch: 55",
         "line": {
          "color": "#D81B60",
          "width": 2
         },
         "mode": "lines+markers",
         "name": "Nigeria",
         "type": "scatter",
         "x": [
          "Life expectancy Rank",
          "Happiness Rank"
         ],
         "y": [
          131,
          76
         ]
        },
        {
         "hoverinfo": "text",
         "hovertext": "Chad<br>Life expectancy Rank: 132<br>Happiness Rank: 113<br>Mismatch: 19",
         "line": {
          "color": "#D81B60",
          "width": 2
         },
         "mode": "lines+markers",
         "name": "Chad",
         "type": "scatter",
         "x": [
          "Life expectancy Rank",
          "Happiness Rank"
         ],
         "y": [
          132,
          113
         ]
        },
        {
         "hoverinfo": "text",
         "hovertext": "Central African Republic<br>Life expectancy Rank: 133<br>Happiness Rank: 132<br>Mismatch: 1",
         "line": {
          "color": "#1E88E5",
          "width": 2
         },
         "mode": "lines+markers",
         "name": "Central African Republic",
         "type": "scatter",
         "x": [
          "Life expectancy Rank",
          "Happiness Rank"
         ],
         "y": [
          133,
          132
         ]
        },
        {
         "hoverinfo": "text",
         "hovertext": "Qatar<br>Unemployment rate Rank: 1<br>Happiness Rank: 27<br>Mismatch: 26",
         "line": {
          "color": "#1E88E5",
          "width": 2
         },
         "mode": "lines+markers",
         "name": "Qatar",
         "type": "scatter",
         "visible": false,
         "x": [
          "Unemployment rate Rank",
          "Happiness Rank"
         ],
         "y": [
          1,
          27
         ]
        },
        {
         "hoverinfo": "text",
         "hovertext": "Myanmar<br>Unemployment rate Rank: 2<br>Happiness Rank: 95<br>Mismatch: 93",
         "line": {
          "color": "#D81B60",
          "width": 2
         },
         "mode": "lines+markers",
         "name": "Myanmar",
         "type": "scatter",
         "visible": false,
         "x": [
          "Unemployment rate Rank",
          "Happiness Rank"
         ],
         "y": [
          2,
          95
         ]
        },
        {
         "hoverinfo": "text",
         "hovertext": "Cambodia<br>Unemployment rate Rank: 3<br>Happiness Rank: 82<br>Mismatch: 79",
         "line": {
          "color": "#D81B60",
          "width": 2
         },
         "mode": "lines+markers",
         "name": "Cambodia",
         "type": "scatter",
         "visible": false,
         "x": [
          "Unemployment rate Rank",
          "Happiness Rank"
         ],
         "y": [
          3,
          82
         ]
        },
        {
         "hoverinfo": "text",
         "hovertext": "Niger<br>Unemployment rate Rank: 4<br>Happiness Rank: 85<br>Mismatch: 81",
         "line": {
          "color": "#D81B60",
          "width": 2
         },
         "mode": "lines+markers",
         "name": "Niger",
         "type": "scatter",
         "visible": false,
         "x": [
          "Unemployment rate Rank",
          "Happiness Rank"
         ],
         "y": [
          4,
          85
         ]
        },
        {
         "hoverinfo": "text",
         "hovertext": "Thailand<br>Unemployment rate Rank: 5<br>Happiness Rank: 45<br>Mismatch: 40",
         "line": {
          "color": "#D81B60",
          "width": 2
         },
         "mode": "lines+markers",
         "name": "Thailand",
         "type": "scatter",
         "visible": false,
         "x": [
          "Unemployment rate Rank",
          "Happiness Rank"
         ],
         "y": [
          5,
          45
         ]
        },
        {
         "hoverinfo": "text",
         "hovertext": "Benin<br>Unemployment rate Rank: 6<br>Happiness Rank: 79<br>Mismatch: 73",
         "line": {
          "color": "#D81B60",
          "width": 2
         },
         "mode": "lines+markers",
         "name": "Benin",
         "type": "scatter",
         "visible": false,
         "x": [
          "Unemployment rate Rank",
          "Happiness Rank"
         ],
         "y": [
          6,
          79
         ]
        },
        {
         "hoverinfo": "text",
         "hovertext": "Moldova<br>Unemployment rate Rank: 7<br>Happiness Rank: 61<br>Mismatch: 54",
         "line": {
          "color": "#D81B60",
          "width": 2
         },
         "mode": "lines+markers",
         "name": "Moldova",
         "type": "scatter",
         "visible": false,
         "x": [
          "Unemployment rate Rank",
          "Happiness Rank"
         ],
         "y": [
          7,
          61
         ]
        },
        {
         "hoverinfo": "text",
         "hovertext": "Burkina Faso<br>Unemployment rate Rank: 8<br>Happiness Rank: 86<br>Mismatch: 78",
         "line": {
          "color": "#D81B60",
          "width": 2
         },
         "mode": "lines+markers",
         "name": "Burkina Faso",
         "type": "scatter",
         "visible": false,
         "x": [
          "Unemployment rate Rank",
          "Happiness Rank"
         ],
         "y": [
          8,
          86
         ]
        },
        {
         "hoverinfo": "text",
         "hovertext": "Togo<br>Unemployment rate Rank: 9<br>Happiness Rank: 99<br>Mismatch: 90",
         "line": {
          "color": "#D81B60",
          "width": 2
         },
         "mode": "lines+markers",
         "name": "Togo",
         "type": "scatter",
         "visible": false,
         "x": [
          "Unemployment rate Rank",
          "Happiness Rank"
         ],
         "y": [
          9,
          99
         ]
        },
        {
         "hoverinfo": "text",
         "hovertext": "Guatemala<br>Unemployment rate Rank: 10<br>Happiness Rank: 25<br>Mismatch: 15",
         "line": {
          "color": "#1E88E5",
          "width": 2
         },
         "mode": "lines+markers",
         "name": "Guatemala",
         "type": "scatter",
         "visible": false,
         "x": [
          "Unemployment rate Rank",
          "Happiness Rank"
         ],
         "y": [
          10,
          25
         ]
        },
        {
         "hoverinfo": "text",
         "hovertext": "Philippines<br>Unemployment rate Rank: 11<br>Happiness Rank: 59<br>Mismatch: 48",
         "line": {
          "color": "#D81B60",
          "width": 2
         },
         "mode": "lines+markers",
         "name": "Philippines",
         "type": "scatter",
         "visible": false,
         "x": [
          "Unemployment rate Rank",
          "Happiness Rank"
         ],
         "y": [
          11,
          59
         ]
        },
        {
         "hoverinfo": "text",
         "hovertext": "United Arab Emirates<br>Unemployment rate Rank: 12<br>Happiness Rank: 20<br>Mismatch: 8",
         "line": {
          "color": "#1E88E5",
          "width": 2
         },
         "mode": "lines+markers",
         "name": "United Arab Emirates",
         "type": "scatter",
         "visible": false,
         "x": [
          "Unemployment rate Rank",
          "Happiness Rank"
         ],
         "y": [
          12,
          20
         ]
        },
        {
         "hoverinfo": "text",
         "hovertext": "Japan<br>Unemployment rate Rank: 13<br>Happiness Rank: 50<br>Mismatch: 37",
         "line": {
          "color": "#D81B60",
          "width": 2
         },
         "mode": "lines+markers",
         "name": "Japan",
         "type": "scatter",
         "visible": false,
         "x": [
          "Unemployment rate Rank",
          "Happiness Rank"
         ],
         "y": [
          13,
          50
         ]
        },
        {
         "hoverinfo": "text",
         "hovertext": "Uganda<br>Unemployment rate Rank: 14<br>Happiness Rank: 97<br>Mismatch: 83",
         "line": {
          "color": "#D81B60",
          "width": 2
         },
         "mode": "lines+markers",
         "name": "Uganda",
         "type": "scatter",
         "visible": false,
         "x": [
          "Unemployment rate Rank",
          "Happiness Rank"
         ],
         "y": [
          14,
          97
         ]
        },
        {
         "hoverinfo": "text",
         "hovertext": "Bhutan<br>Unemployment rate Rank: 15<br>Happiness Rank: 76<br>Mismatch: 61",
         "line": {
          "color": "#D81B60",
          "width": 2
         },
         "mode": "lines+markers",
         "name": "Bhutan",
         "type": "scatter",
         "visible": false,
         "x": [
          "Unemployment rate Rank",
          "Happiness Rank"
         ],
         "y": [
          15,
          76
         ]
        },
        {
         "hoverinfo": "text",
         "hovertext": "Senegal<br>Unemployment rate Rank: 16<br>Happiness Rank: 83<br>Mismatch: 67",
         "line": {
          "color": "#D81B60",
          "width": 2
         },
         "mode": "lines+markers",
         "name": "Senegal",
         "type": "scatter",
         "visible": false,
         "x": [
          "Unemployment rate Rank",
          "Happiness Rank"
         ],
         "y": [
          16,
          83
         ]
        },
        {
         "hoverinfo": "text",
         "hovertext": "Singapore<br>Unemployment rate Rank: 17<br>Happiness Rank: 32<br>Mismatch: 15",
         "line": {
          "color": "#1E88E5",
          "width": 2
         },
         "mode": "lines+markers",
         "name": "Singapore",
         "type": "scatter",
         "visible": false,
         "x": [
          "Unemployment rate Rank",
          "Happiness Rank"
         ],
         "y": [
          17,
          32
         ]
        },
        {
         "hoverinfo": "text",
         "hovertext": "Germany<br>Unemployment rate Rank: 18<br>Happiness Rank: 17<br>Mismatch: 1",
         "line": {
          "color": "#1E88E5",
          "width": 2
         },
         "mode": "lines+markers",
         "name": "Germany",
         "type": "scatter",
         "visible": false,
         "x": [
          "Unemployment rate Rank",
          "Happiness Rank"
         ],
         "y": [
          18,
          17
         ]
        },
        {
         "hoverinfo": "text",
         "hovertext": "Malaysia<br>Unemployment rate Rank: 19<br>Happiness Rank: 66<br>Mismatch: 47",
         "line": {
          "color": "#D81B60",
          "width": 2
         },
         "mode": "lines+markers",
         "name": "Malaysia",
         "type": "scatter",
         "visible": false,
         "x": [
          "Unemployment rate Rank",
          "Happiness Rank"
         ],
         "y": [
          19,
          66
         ]
        },
        {
         "hoverinfo": "text",
         "hovertext": "Poland<br>Unemployment rate Rank: 20<br>Happiness Rank: 35<br>Mismatch: 15",
         "line": {
          "color": "#1E88E5",
          "width": 2
         },
         "mode": "lines+markers",
         "name": "Poland",
         "type": "scatter",
         "visible": false,
         "x": [
          "Unemployment rate Rank",
          "Happiness Rank"
         ],
         "y": [
          20,
          35
         ]
        },
        {
         "hoverinfo": "text",
         "hovertext": "Mali<br>Unemployment rate Rank: 21<br>Happiness Rank: 93<br>Mismatch: 72",
         "line": {
          "color": "#D81B60",
          "width": 2
         },
         "mode": "lines+markers",
         "name": "Mali",
         "type": "scatter",
         "visible": false,
         "x": [
          "Unemployment rate Rank",
          "Happiness Rank"
         ],
         "y": [
          21,
          93
         ]
        },
        {
         "hoverinfo": "text",
         "hovertext": "Netherlands<br>Unemployment rate Rank: 22<br>Happiness Rank: 5<br>Mismatch: 17",
         "line": {
          "color": "#1E88E5",
          "width": 2
         },
         "mode": "lines+markers",
         "name": "Netherlands",
         "type": "scatter",
         "visible": false,
         "x": [
          "Unemployment rate Rank",
          "Happiness Rank"
         ],
         "y": [
          22,
          5
         ]
        },
        {
         "hoverinfo": "text",
         "hovertext": "Peru<br>Unemployment rate Rank: 23<br>Happiness Rank: 56<br>Mismatch: 33",
         "line": {
          "color": "#D81B60",
          "width": 2
         },
         "mode": "lines+markers",
         "name": "Peru",
         "type": "scatter",
         "visible": false,
         "x": [
          "Unemployment rate Rank",
          "Happiness Rank"
         ],
         "y": [
          23,
          56
         ]
        },
        {
         "hoverinfo": "text",
         "hovertext": "Hungary<br>Unemployment rate Rank: 24<br>Happiness Rank: 54<br>Mismatch: 30",
         "line": {
          "color": "#1E88E5",
          "width": 2
         },
         "mode": "lines+markers",
         "name": "Hungary",
         "type": "scatter",
         "visible": false,
         "x": [
          "Unemployment rate Rank",
          "Happiness Rank"
         ],
         "y": [
          24,
          54
         ]
        },
        {
         "hoverinfo": "text",
         "hovertext": "Mexico<br>Unemployment rate Rank: 25<br>Happiness Rank: 22<br>Mismatch: 3",
         "line": {
          "color": "#1E88E5",
          "width": 2
         },
         "mode": "lines+markers",
         "name": "Mexico",
         "type": "scatter",
         "visible": false,
         "x": [
          "Unemployment rate Rank",
          "Happiness Rank"
         ],
         "y": [
          25,
          22
         ]
        },
        {
         "hoverinfo": "text",
         "hovertext": "Iceland<br>Unemployment rate Rank: 26<br>Happiness Rank: 4<br>Mismatch: 22",
         "line": {
          "color": "#1E88E5",
          "width": 2
         },
         "mode": "lines+markers",
         "name": "Iceland",
         "type": "scatter",
         "visible": false,
         "x": [
          "Unemployment rate Rank",
          "Happiness Rank"
         ],
         "y": [
          26,
          4
         ]
        },
        {
         "hoverinfo": "text",
         "hovertext": "Indonesia<br>Unemployment rate Rank: 27<br>Happiness Rank: 74<br>Mismatch: 47",
         "line": {
          "color": "#D81B60",
          "width": 2
         },
         "mode": "lines+markers",
         "name": "Indonesia",
         "type": "scatter",
         "visible": false,
         "x": [
          "Unemployment rate Rank",
          "Happiness Rank"
         ],
         "y": [
          27,
          74
         ]
        },
        {
         "hoverinfo": "text",
         "hovertext": "Malta<br>Unemployment rate Rank: 28<br>Happiness Rank: 21<br>Mismatch: 7",
         "line": {
          "color": "#1E88E5",
          "width": 2
         },
         "mode": "lines+markers",
         "name": "Malta",
         "type": "scatter",
         "visible": false,
         "x": [
          "Unemployment rate Rank",
          "Happiness Rank"
         ],
         "y": [
          28,
          21
         ]
        },
        {
         "hoverinfo": "text",
         "hovertext": "United Kingdom<br>Unemployment rate Rank: 29<br>Happiness Rank: 15<br>Mismatch: 14",
         "line": {
          "color": "#1E88E5",
          "width": 2
         },
         "mode": "lines+markers",
         "name": "United Kingdom",
         "type": "scatter",
         "visible": false,
         "x": [
          "Unemployment rate Rank",
          "Happiness Rank"
         ],
         "y": [
          29,
          15
         ]
        },
        {
         "hoverinfo": "text",
         "hovertext": "United States<br>Unemployment rate Rank: 30<br>Happiness Rank: 19<br>Mismatch: 11",
         "line": {
          "color": "#1E88E5",
          "width": 2
         },
         "mode": "lines+markers",
         "name": "United States",
         "type": "scatter",
         "visible": false,
         "x": [
          "Unemployment rate Rank",
          "Happiness Rank"
         ],
         "y": [
          30,
          19
         ]
        },
        {
         "hoverinfo": "text",
         "hovertext": "Bolivia<br>Unemployment rate Rank: 31<br>Happiness Rank: 53<br>Mismatch: 22",
         "line": {
          "color": "#1E88E5",
          "width": 2
         },
         "mode": "lines+markers",
         "name": "Bolivia",
         "type": "scatter",
         "visible": false,
         "x": [
          "Unemployment rate Rank",
          "Happiness Rank"
         ],
         "y": [
          31,
          53
         ]
        },
        {
         "hoverinfo": "text",
         "hovertext": "Norway<br>Unemployment rate Rank: 32<br>Happiness Rank: 3<br>Mismatch: 29",
         "line": {
          "color": "#1E88E5",
          "width": 2
         },
         "mode": "lines+markers",
         "name": "Norway",
         "type": "scatter",
         "visible": false,
         "x": [
          "Unemployment rate Rank",
          "Happiness Rank"
         ],
         "y": [
          32,
          3
         ]
        },
        {
         "hoverinfo": "text",
         "hovertext": "Israel<br>Unemployment rate Rank: 33<br>Happiness Rank: 13<br>Mismatch: 20",
         "line": {
          "color": "#1E88E5",
          "width": 2
         },
         "mode": "lines+markers",
         "name": "Israel",
         "type": "scatter",
         "visible": false,
         "x": [
          "Unemployment rate Rank",
          "Happiness Rank"
         ],
         "y": [
          33,
          13
         ]
        },
        {
         "hoverinfo": "text",
         "hovertext": "Ecuador<br>Unemployment rate Rank: 34<br>Happiness Rank: 44<br>Mismatch: 10",
         "line": {
          "color": "#1E88E5",
          "width": 2
         },
         "mode": "lines+markers",
         "name": "Ecuador",
         "type": "scatter",
         "visible": false,
         "x": [
          "Unemployment rate Rank",
          "Happiness Rank"
         ],
         "y": [
          34,
          44
         ]
        },
        {
         "hoverinfo": "text",
         "hovertext": "Romania<br>Unemployment rate Rank: 35<br>Happiness Rank: 42<br>Mismatch: 7",
         "line": {
          "color": "#1E88E5",
          "width": 2
         },
         "mode": "lines+markers",
         "name": "Romania",
         "type": "scatter",
         "visible": false,
         "x": [
          "Unemployment rate Rank",
          "Happiness Rank"
         ],
         "y": [
          35,
          42
         ]
        },
        {
         "hoverinfo": "text",
         "hovertext": "New Zealand<br>Unemployment rate Rank: 36<br>Happiness Rank: 8<br>Mismatch: 28",
         "line": {
          "color": "#1E88E5",
          "width": 2
         },
         "mode": "lines+markers",
         "name": "New Zealand",
         "type": "scatter",
         "visible": false,
         "x": [
          "Unemployment rate Rank",
          "Happiness Rank"
         ],
         "y": [
          36,
          8
         ]
        },
        {
         "hoverinfo": "text",
         "hovertext": "Belarus<br>Unemployment rate Rank: 37<br>Happiness Rank: 67<br>Mismatch: 30",
         "line": {
          "color": "#1E88E5",
          "width": 2
         },
         "mode": "lines+markers",
         "name": "Belarus",
         "type": "scatter",
         "visible": false,
         "x": [
          "Unemployment rate Rank",
          "Happiness Rank"
         ],
         "y": [
          37,
          67
         ]
        },
        {
         "hoverinfo": "text",
         "hovertext": "El Salvador<br>Unemployment rate Rank: 38<br>Happiness Rank: 33<br>Mismatch: 5",
         "line": {
          "color": "#1E88E5",
          "width": 2
         },
         "mode": "lines+markers",
         "name": "El Salvador",
         "type": "scatter",
         "visible": false,
         "x": [
          "Unemployment rate Rank",
          "Happiness Rank"
         ],
         "y": [
          38,
          33
         ]
        },
        {
         "hoverinfo": "text",
         "hovertext": "Bulgaria<br>Unemployment rate Rank: 39<br>Happiness Rank: 77<br>Mismatch: 38",
         "line": {
          "color": "#D81B60",
          "width": 2
         },
         "mode": "lines+markers",
         "name": "Bulgaria",
         "type": "scatter",
         "visible": false,
         "x": [
          "Unemployment rate Rank",
          "Happiness Rank"
         ],
         "y": [
          39,
          77
         ]
        },
        {
         "hoverinfo": "text",
         "hovertext": "Switzerland<br>Unemployment rate Rank: 40<br>Happiness Rank: 6<br>Mismatch: 34",
         "line": {
          "color": "#D81B60",
          "width": 2
         },
         "mode": "lines+markers",
         "name": "Switzerland",
         "type": "scatter",
         "visible": false,
         "x": [
          "Unemployment rate Rank",
          "Happiness Rank"
         ],
         "y": [
          40,
          6
         ]
        },
        {
         "hoverinfo": "text",
         "hovertext": "Slovenia<br>Unemployment rate Rank: 41<br>Happiness Rank: 39<br>Mismatch: 2",
         "line": {
          "color": "#1E88E5",
          "width": 2
         },
         "mode": "lines+markers",
         "name": "Slovenia",
         "type": "scatter",
         "visible": false,
         "x": [
          "Unemployment rate Rank",
          "Happiness Rank"
         ],
         "y": [
          41,
          39
         ]
        },
        {
         "hoverinfo": "text",
         "hovertext": "Estonia<br>Unemployment rate Rank: 42<br>Happiness Rank: 47<br>Mismatch: 5",
         "line": {
          "color": "#1E88E5",
          "width": 2
         },
         "mode": "lines+markers",
         "name": "Estonia",
         "type": "scatter",
         "visible": false,
         "x": [
          "Unemployment rate Rank",
          "Happiness Rank"
         ],
         "y": [
          42,
          47
         ]
        },
        {
         "hoverinfo": "text",
         "hovertext": "Austria<br>Unemployment rate Rank: 43<br>Happiness Rank: 10<br>Mismatch: 33",
         "line": {
          "color": "#D81B60",
          "width": 2
         },
         "mode": "lines+markers",
         "name": "Austria",
         "type": "scatter",
         "visible": false,
         "x": [
          "Unemployment rate Rank",
          "Happiness Rank"
         ],
         "y": [
          43,
          10
         ]
        },
        {
         "hoverinfo": "text",
         "hovertext": "Sri Lanka<br>Unemployment rate Rank: 44<br>Happiness Rank: 94<br>Mismatch: 50",
         "line": {
          "color": "#D81B60",
          "width": 2
         },
         "mode": "lines+markers",
         "name": "Sri Lanka",
         "type": "scatter",
         "visible": false,
         "x": [
          "Unemployment rate Rank",
          "Happiness Rank"
         ],
         "y": [
          44,
          94
         ]
        },
        {
         "hoverinfo": "text",
         "hovertext": "Kazakhstan<br>Unemployment rate Rank: 45<br>Happiness Rank: 52<br>Mismatch: 7",
         "line": {
          "color": "#1E88E5",
          "width": 2
         },
         "mode": "lines+markers",
         "name": "Kazakhstan",
         "type": "scatter",
         "visible": false,
         "x": [
          "Unemployment rate Rank",
          "Happiness Rank"
         ],
         "y": [
          45,
          52
         ]
        },
        {
         "hoverinfo": "text",
         "hovertext": "Pakistan<br>Unemployment rate Rank: 46<br>Happiness Rank: 58<br>Mismatch: 12",
         "line": {
          "color": "#1E88E5",
          "width": 2
         },
         "mode": "lines+markers",
         "name": "Pakistan",
         "type": "scatter",
         "visible": false,
         "x": [
          "Unemployment rate Rank",
          "Happiness Rank"
         ],
         "y": [
          46,
          58
         ]
        },
        {
         "hoverinfo": "text",
         "hovertext": "Ireland<br>Unemployment rate Rank: 47<br>Happiness Rank: 16<br>Mismatch: 31",
         "line": {
          "color": "#D81B60",
          "width": 2
         },
         "mode": "lines+markers",
         "name": "Ireland",
         "type": "scatter",
         "visible": false,
         "x": [
          "Unemployment rate Rank",
          "Happiness Rank"
         ],
         "y": [
          47,
          16
         ]
        },
        {
         "hoverinfo": "text",
         "hovertext": "Jamaica<br>Unemployment rate Rank: 48<br>Happiness Rank: 48<br>Mismatch: 0",
         "line": {
          "color": "#1E88E5",
          "width": 2
         },
         "mode": "lines+markers",
         "name": "Jamaica",
         "type": "scatter",
         "visible": false,
         "x": [
          "Unemployment rate Rank",
          "Happiness Rank"
         ],
         "y": [
          48,
          48
         ]
        },
        {
         "hoverinfo": "text",
         "hovertext": "Azerbaijan<br>Unemployment rate Rank: 49<br>Happiness Rank: 72<br>Mismatch: 23",
         "line": {
          "color": "#1E88E5",
          "width": 2
         },
         "mode": "lines+markers",
         "name": "Azerbaijan",
         "type": "scatter",
         "visible": false,
         "x": [
          "Unemployment rate Rank",
          "Happiness Rank"
         ],
         "y": [
          49,
          72
         ]
        },
        {
         "hoverinfo": "text",
         "hovertext": "Kenya<br>Unemployment rate Rank: 50<br>Happiness Rank: 90<br>Mismatch: 40",
         "line": {
          "color": "#D81B60",
          "width": 2
         },
         "mode": "lines+markers",
         "name": "Kenya",
         "type": "scatter",
         "visible": false,
         "x": [
          "Unemployment rate Rank",
          "Happiness Rank"
         ],
         "y": [
          50,
          90
         ]
        },
        {
         "hoverinfo": "text",
         "hovertext": "Denmark<br>Unemployment rate Rank: 51<br>Happiness Rank: 2<br>Mismatch: 49",
         "line": {
          "color": "#D81B60",
          "width": 2
         },
         "mode": "lines+markers",
         "name": "Denmark",
         "type": "scatter",
         "visible": false,
         "x": [
          "Unemployment rate Rank",
          "Happiness Rank"
         ],
         "y": [
          51,
          2
         ]
        },
        {
         "hoverinfo": "text",
         "hovertext": "Guinea<br>Unemployment rate Rank: 52<br>Happiness Rank: 88<br>Mismatch: 36",
         "line": {
          "color": "#D81B60",
          "width": 2
         },
         "mode": "lines+markers",
         "name": "Guinea",
         "type": "scatter",
         "visible": false,
         "x": [
          "Unemployment rate Rank",
          "Happiness Rank"
         ],
         "y": [
          52,
          88
         ]
        },
        {
         "hoverinfo": "text",
         "hovertext": "Australia<br>Unemployment rate Rank: 53<br>Happiness Rank: 11<br>Mismatch: 42",
         "line": {
          "color": "#D81B60",
          "width": 2
         },
         "mode": "lines+markers",
         "name": "Australia",
         "type": "scatter",
         "visible": false,
         "x": [
          "Unemployment rate Rank",
          "Happiness Rank"
         ],
         "y": [
          53,
          11
         ]
        },
        {
         "hoverinfo": "text",
         "hovertext": "China<br>Unemployment rate Rank: 54<br>Happiness Rank: 75<br>Mismatch: 21",
         "line": {
          "color": "#1E88E5",
          "width": 2
         },
         "mode": "lines+markers",
         "name": "China",
         "type": "scatter",
         "visible": false,
         "x": [
          "Unemployment rate Rank",
          "Happiness Rank"
         ],
         "y": [
          54,
          75
         ]
        },
        {
         "hoverinfo": "text",
         "hovertext": "Belgium<br>Unemployment rate Rank: 55<br>Happiness Rank: 18<br>Mismatch: 37",
         "line": {
          "color": "#D81B60",
          "width": 2
         },
         "mode": "lines+markers",
         "name": "Belgium",
         "type": "scatter",
         "visible": false,
         "x": [
          "Unemployment rate Rank",
          "Happiness Rank"
         ],
         "y": [
          55,
          18
         ]
        },
        {
         "hoverinfo": "text",
         "hovertext": "Zambia<br>Unemployment rate Rank: 56<br>Happiness Rank: 98<br>Mismatch: 42",
         "line": {
          "color": "#D81B60",
          "width": 2
         },
         "mode": "lines+markers",
         "name": "Zambia",
         "type": "scatter",
         "visible": false,
         "x": [
          "Unemployment rate Rank",
          "Happiness Rank"
         ],
         "y": [
          56,
          98
         ]
        },
        {
         "hoverinfo": "text",
         "hovertext": "Luxembourg<br>Unemployment rate Rank: 57<br>Happiness Rank: 14<br>Mismatch: 43",
         "line": {
          "color": "#D81B60",
          "width": 2
         },
         "mode": "lines+markers",
         "name": "Luxembourg",
         "type": "scatter",
         "visible": false,
         "x": [
          "Unemployment rate Rank",
          "Happiness Rank"
         ],
         "y": [
          57,
          14
         ]
        },
        {
         "hoverinfo": "text",
         "hovertext": "Saudi Arabia<br>Unemployment rate Rank: 58<br>Happiness Rank: 26<br>Mismatch: 32",
         "line": {
          "color": "#D81B60",
          "width": 2
         },
         "mode": "lines+markers",
         "name": "Saudi Arabia",
         "type": "scatter",
         "visible": false,
         "x": [
          "Unemployment rate Rank",
          "Happiness Rank"
         ],
         "y": [
          58,
          26
         ]
        },
        {
         "hoverinfo": "text",
         "hovertext": "Canada<br>Unemployment rate Rank: 59<br>Happiness Rank: 9<br>Mismatch: 50",
         "line": {
          "color": "#D81B60",
          "width": 2
         },
         "mode": "lines+markers",
         "name": "Canada",
         "type": "scatter",
         "visible": false,
         "x": [
          "Unemployment rate Rank",
          "Happiness Rank"
         ],
         "y": [
          59,
          9
         ]
        },
        {
         "hoverinfo": "text",
         "hovertext": "Honduras<br>Unemployment rate Rank: 60<br>Happiness Rank: 51<br>Mismatch: 9",
         "line": {
          "color": "#1E88E5",
          "width": 2
         },
         "mode": "lines+markers",
         "name": "Honduras",
         "type": "scatter",
         "visible": false,
         "x": [
          "Unemployment rate Rank",
          "Happiness Rank"
         ],
         "y": [
          60,
          51
         ]
        },
        {
         "hoverinfo": "text",
         "hovertext": "Lithuania<br>Unemployment rate Rank: 61<br>Happiness Rank: 37<br>Mismatch: 24",
         "line": {
          "color": "#1E88E5",
          "width": 2
         },
         "mode": "lines+markers",
         "name": "Lithuania",
         "type": "scatter",
         "visible": false,
         "x": [
          "Unemployment rate Rank",
          "Happiness Rank"
         ],
         "y": [
          61,
          37
         ]
        },
        {
         "hoverinfo": "text",
         "hovertext": "Latvia<br>Unemployment rate Rank: 62<br>Happiness Rank: 46<br>Mismatch: 16",
         "line": {
          "color": "#1E88E5",
          "width": 2
         },
         "mode": "lines+markers",
         "name": "Latvia",
         "type": "scatter",
         "visible": false,
         "x": [
          "Unemployment rate Rank",
          "Happiness Rank"
         ],
         "y": [
          62,
          46
         ]
        },
        {
         "hoverinfo": "text",
         "hovertext": "Mauritius<br>Unemployment rate Rank: 63<br>Happiness Rank: 49<br>Mismatch: 14",
         "line": {
          "color": "#1E88E5",
          "width": 2
         },
         "mode": "lines+markers",
         "name": "Mauritius",
         "type": "scatter",
         "visible": false,
         "x": [
          "Unemployment rate Rank",
          "Happiness Rank"
         ],
         "y": [
          63,
          49
         ]
        },
        {
         "hoverinfo": "text",
         "hovertext": "Dominican Republic<br>Unemployment rate Rank: 64<br>Happiness Rank: 64<br>Mismatch: 0",
         "line": {
          "color": "#1E88E5",
          "width": 2
         },
         "mode": "lines+markers",
         "name": "Dominican Republic",
         "type": "scatter",
         "visible": false,
         "x": [
          "Unemployment rate Rank",
          "Happiness Rank"
         ],
         "y": [
          64,
          64
         ]
        },
        {
         "hoverinfo": "text",
         "hovertext": "Panama<br>Unemployment rate Rank: 65<br>Happiness Rank: 29<br>Mismatch: 36",
         "line": {
          "color": "#D81B60",
          "width": 2
         },
         "mode": "lines+markers",
         "name": "Panama",
         "type": "scatter",
         "visible": false,
         "x": [
          "Unemployment rate Rank",
          "Happiness Rank"
         ],
         "y": [
          65,
          29
         ]
        },
        {
         "hoverinfo": "text",
         "hovertext": "Portugal<br>Unemployment rate Rank: 66<br>Happiness Rank: 57<br>Mismatch: 9",
         "line": {
          "color": "#1E88E5",
          "width": 2
         },
         "mode": "lines+markers",
         "name": "Portugal",
         "type": "scatter",
         "visible": false,
         "x": [
          "Unemployment rate Rank",
          "Happiness Rank"
         ],
         "y": [
          66,
          57
         ]
        },
        {
         "hoverinfo": "text",
         "hovertext": "India<br>Unemployment rate Rank: 67<br>Happiness Rank: 100<br>Mismatch: 33",
         "line": {
          "color": "#D81B60",
          "width": 2
         },
         "mode": "lines+markers",
         "name": "India",
         "type": "scatter",
         "visible": false,
         "x": [
          "Unemployment rate Rank",
          "Happiness Rank"
         ],
         "y": [
          67,
          100
         ]
        },
        {
         "hoverinfo": "text",
         "hovertext": "Paraguay<br>Unemployment rate Rank: 68<br>Happiness Rank: 55<br>Mismatch: 13",
         "line": {
          "color": "#1E88E5",
          "width": 2
         },
         "mode": "lines+markers",
         "name": "Paraguay",
         "type": "scatter",
         "visible": false,
         "x": [
          "Unemployment rate Rank",
          "Happiness Rank"
         ],
         "y": [
          68,
          55
         ]
        },
        {
         "hoverinfo": "text",
         "hovertext": "Croatia<br>Unemployment rate Rank: 69<br>Happiness Rank: 63<br>Mismatch: 6",
         "line": {
          "color": "#1E88E5",
          "width": 2
         },
         "mode": "lines+markers",
         "name": "Croatia",
         "type": "scatter",
         "visible": false,
         "x": [
          "Unemployment rate Rank",
          "Happiness Rank"
         ],
         "y": [
          69,
          63
         ]
        },
        {
         "hoverinfo": "text",
         "hovertext": "Finland<br>Unemployment rate Rank: 70<br>Happiness Rank: 1<br>Mismatch: 69",
         "line": {
          "color": "#D81B60",
          "width": 2
         },
         "mode": "lines+markers",
         "name": "Finland",
         "type": "scatter",
         "visible": false,
         "x": [
          "Unemployment rate Rank",
          "Happiness Rank"
         ],
         "y": [
          70,
          1
         ]
        },
        {
         "hoverinfo": "text",
         "hovertext": "Sweden<br>Unemployment rate Rank: 71<br>Happiness Rank: 7<br>Mismatch: 64",
         "line": {
          "color": "#D81B60",
          "width": 2
         },
         "mode": "lines+markers",
         "name": "Sweden",
         "type": "scatter",
         "visible": false,
         "x": [
          "Unemployment rate Rank",
          "Happiness Rank"
         ],
         "y": [
          71,
          7
         ]
        },
        {
         "hoverinfo": "text",
         "hovertext": "Cyprus<br>Unemployment rate Rank: 72<br>Happiness Rank: 43<br>Mismatch: 29",
         "line": {
          "color": "#1E88E5",
          "width": 2
         },
         "mode": "lines+markers",
         "name": "Cyprus",
         "type": "scatter",
         "visible": false,
         "x": [
          "Unemployment rate Rank",
          "Happiness Rank"
         ],
         "y": [
          72,
          43
         ]
        },
        {
         "hoverinfo": "text",
         "hovertext": "Zimbabwe<br>Unemployment rate Rank: 73<br>Happiness Rank: 102<br>Mismatch: 29",
         "line": {
          "color": "#1E88E5",
          "width": 2
         },
         "mode": "lines+markers",
         "name": "Zimbabwe",
         "type": "scatter",
         "visible": false,
         "x": [
          "Unemployment rate Rank",
          "Happiness Rank"
         ],
         "y": [
          73,
          102
         ]
        },
        {
         "hoverinfo": "text",
         "hovertext": "Chile<br>Unemployment rate Rank: 74<br>Happiness Rank: 24<br>Mismatch: 50",
         "line": {
          "color": "#D81B60",
          "width": 2
         },
         "mode": "lines+markers",
         "name": "Chile",
         "type": "scatter",
         "visible": false,
         "x": [
          "Unemployment rate Rank",
          "Happiness Rank"
         ],
         "y": [
          74,
          24
         ]
        },
        {
         "hoverinfo": "text",
         "hovertext": "Ukraine<br>Unemployment rate Rank: 75<br>Happiness Rank: 96<br>Mismatch: 21",
         "line": {
          "color": "#1E88E5",
          "width": 2
         },
         "mode": "lines+markers",
         "name": "Ukraine",
         "type": "scatter",
         "visible": false,
         "x": [
          "Unemployment rate Rank",
          "Happiness Rank"
         ],
         "y": [
          75,
          96
         ]
        },
        {
         "hoverinfo": "text",
         "hovertext": "France<br>Unemployment rate Rank: 76<br>Happiness Rank: 23<br>Mismatch: 53",
         "line": {
          "color": "#D81B60",
          "width": 2
         },
         "mode": "lines+markers",
         "name": "France",
         "type": "scatter",
         "visible": false,
         "x": [
          "Unemployment rate Rank",
          "Happiness Rank"
         ],
         "y": [
          76,
          23
         ]
        },
        {
         "hoverinfo": "text",
         "hovertext": "Uruguay<br>Unemployment rate Rank: 77<br>Happiness Rank: 31<br>Mismatch: 46",
         "line": {
          "color": "#D81B60",
          "width": 2
         },
         "mode": "lines+markers",
         "name": "Uruguay",
         "type": "scatter",
         "visible": false,
         "x": [
          "Unemployment rate Rank",
          "Happiness Rank"
         ],
         "y": [
          77,
          31
         ]
        },
        {
         "hoverinfo": "text",
         "hovertext": "Uzbekistan<br>Unemployment rate Rank: 78<br>Happiness Rank: 36<br>Mismatch: 42",
         "line": {
          "color": "#D81B60",
          "width": 2
         },
         "mode": "lines+markers",
         "name": "Uzbekistan",
         "type": "scatter",
         "visible": false,
         "x": [
          "Unemployment rate Rank",
          "Happiness Rank"
         ],
         "y": [
          78,
          36
         ]
        },
        {
         "hoverinfo": "text",
         "hovertext": "Mongolia<br>Unemployment rate Rank: 79<br>Happiness Rank: 69<br>Mismatch: 10",
         "line": {
          "color": "#1E88E5",
          "width": 2
         },
         "mode": "lines+markers",
         "name": "Mongolia",
         "type": "scatter",
         "visible": false,
         "x": [
          "Unemployment rate Rank",
          "Happiness Rank"
         ],
         "y": [
          79,
          69
         ]
        },
        {
         "hoverinfo": "text",
         "hovertext": "Armenia<br>Unemployment rate Rank: 80<br>Happiness Rank: 87<br>Mismatch: 7",
         "line": {
          "color": "#1E88E5",
          "width": 2
         },
         "mode": "lines+markers",
         "name": "Armenia",
         "type": "scatter",
         "visible": false,
         "x": [
          "Unemployment rate Rank",
          "Happiness Rank"
         ],
         "y": [
          80,
          87
         ]
        },
        {
         "hoverinfo": "text",
         "hovertext": "Argentina<br>Unemployment rate Rank: 81<br>Happiness Rank: 41<br>Mismatch: 40",
         "line": {
          "color": "#D81B60",
          "width": 2
         },
         "mode": "lines+markers",
         "name": "Argentina",
         "type": "scatter",
         "visible": false,
         "x": [
          "Unemployment rate Rank",
          "Happiness Rank"
         ],
         "y": [
          81,
          41
         ]
        },
        {
         "hoverinfo": "text",
         "hovertext": "Italy<br>Unemployment rate Rank: 82<br>Happiness Rank: 34<br>Mismatch: 48",
         "line": {
          "color": "#D81B60",
          "width": 2
         },
         "mode": "lines+markers",
         "name": "Italy",
         "type": "scatter",
         "visible": false,
         "x": [
          "Unemployment rate Rank",
          "Happiness Rank"
         ],
         "y": [
          82,
          34
         ]
        },
        {
         "hoverinfo": "text",
         "hovertext": "Colombia<br>Unemployment rate Rank: 83<br>Happiness Rank: 38<br>Mismatch: 45",
         "line": {
          "color": "#D81B60",
          "width": 2
         },
         "mode": "lines+markers",
         "name": "Colombia",
         "type": "scatter",
         "visible": false,
         "x": [
          "Unemployment rate Rank",
          "Happiness Rank"
         ],
         "y": [
          83,
          38
         ]
        },
        {
         "hoverinfo": "text",
         "hovertext": "Serbia<br>Unemployment rate Rank: 84<br>Happiness Rank: 60<br>Mismatch: 24",
         "line": {
          "color": "#1E88E5",
          "width": 2
         },
         "mode": "lines+markers",
         "name": "Serbia",
         "type": "scatter",
         "visible": false,
         "x": [
          "Unemployment rate Rank",
          "Happiness Rank"
         ],
         "y": [
          84,
          60
         ]
        },
        {
         "hoverinfo": "text",
         "hovertext": "Mauritania<br>Unemployment rate Rank: 85<br>Happiness Rank: 91<br>Mismatch: 6",
         "line": {
          "color": "#1E88E5",
          "width": 2
         },
         "mode": "lines+markers",
         "name": "Mauritania",
         "type": "scatter",
         "visible": false,
         "x": [
          "Unemployment rate Rank",
          "Happiness Rank"
         ],
         "y": [
          85,
          91
         ]
        },
        {
         "hoverinfo": "text",
         "hovertext": "Nigeria<br>Unemployment rate Rank: 86<br>Happiness Rank: 71<br>Mismatch: 15",
         "line": {
          "color": "#1E88E5",
          "width": 2
         },
         "mode": "lines+markers",
         "name": "Nigeria",
         "type": "scatter",
         "visible": false,
         "x": [
          "Unemployment rate Rank",
          "Happiness Rank"
         ],
         "y": [
          86,
          71
         ]
        },
        {
         "hoverinfo": "text",
         "hovertext": "Costa Rica<br>Unemployment rate Rank: 87<br>Happiness Rank: 12<br>Mismatch: 75",
         "line": {
          "color": "#D81B60",
          "width": 2
         },
         "mode": "lines+markers",
         "name": "Costa Rica",
         "type": "scatter",
         "visible": false,
         "x": [
          "Unemployment rate Rank",
          "Happiness Rank"
         ],
         "y": [
          87,
          12
         ]
        },
        {
         "hoverinfo": "text",
         "hovertext": "Rwanda<br>Unemployment rate Rank: 88<br>Happiness Rank: 104<br>Mismatch: 16",
         "line": {
          "color": "#1E88E5",
          "width": 2
         },
         "mode": "lines+markers",
         "name": "Rwanda",
         "type": "scatter",
         "visible": false,
         "x": [
          "Unemployment rate Rank",
          "Happiness Rank"
         ],
         "y": [
          88,
          104
         ]
        },
        {
         "hoverinfo": "text",
         "hovertext": "Lebanon<br>Unemployment rate Rank: 89<br>Happiness Rank: 73<br>Mismatch: 16",
         "line": {
          "color": "#1E88E5",
          "width": 2
         },
         "mode": "lines+markers",
         "name": "Lebanon",
         "type": "scatter",
         "visible": false,
         "x": [
          "Unemployment rate Rank",
          "Happiness Rank"
         ],
         "y": [
          89,
          73
         ]
        },
        {
         "hoverinfo": "text",
         "hovertext": "Albania<br>Unemployment rate Rank: 90<br>Happiness Rank: 81<br>Mismatch: 9",
         "line": {
          "color": "#1E88E5",
          "width": 2
         },
         "mode": "lines+markers",
         "name": "Albania",
         "type": "scatter",
         "visible": false,
         "x": [
          "Unemployment rate Rank",
          "Happiness Rank"
         ],
         "y": [
          90,
          81
         ]
        },
        {
         "hoverinfo": "text",
         "hovertext": "Georgia<br>Unemployment rate Rank: 91<br>Happiness Rank: 89<br>Mismatch: 2",
         "line": {
          "color": "#1E88E5",
          "width": 2
         },
         "mode": "lines+markers",
         "name": "Georgia",
         "type": "scatter",
         "visible": false,
         "x": [
          "Unemployment rate Rank",
          "Happiness Rank"
         ],
         "y": [
          91,
          89
         ]
        },
        {
         "hoverinfo": "text",
         "hovertext": "Brazil<br>Unemployment rate Rank: 92<br>Happiness Rank: 30<br>Mismatch: 62",
         "line": {
          "color": "#D81B60",
          "width": 2
         },
         "mode": "lines+markers",
         "name": "Brazil",
         "type": "scatter",
         "visible": false,
         "x": [
          "Unemployment rate Rank",
          "Happiness Rank"
         ],
         "y": [
          92,
          30
         ]
        },
        {
         "hoverinfo": "text",
         "hovertext": "Spain<br>Unemployment rate Rank: 93<br>Happiness Rank: 28<br>Mismatch: 65",
         "line": {
          "color": "#D81B60",
          "width": 2
         },
         "mode": "lines+markers",
         "name": "Spain",
         "type": "scatter",
         "visible": false,
         "x": [
          "Unemployment rate Rank",
          "Happiness Rank"
         ],
         "y": [
          93,
          28
         ]
        },
        {
         "hoverinfo": "text",
         "hovertext": "Montenegro<br>Unemployment rate Rank: 94<br>Happiness Rank: 62<br>Mismatch: 32",
         "line": {
          "color": "#D81B60",
          "width": 2
         },
         "mode": "lines+markers",
         "name": "Montenegro",
         "type": "scatter",
         "visible": false,
         "x": [
          "Unemployment rate Rank",
          "Happiness Rank"
         ],
         "y": [
          94,
          62
         ]
        },
        {
         "hoverinfo": "text",
         "hovertext": "Bosnia and Herzegovina<br>Unemployment rate Rank: 95<br>Happiness Rank: 65<br>Mismatch: 30",
         "line": {
          "color": "#1E88E5",
          "width": 2
         },
         "mode": "lines+markers",
         "name": "Bosnia and Herzegovina",
         "type": "scatter",
         "visible": false,
         "x": [
          "Unemployment rate Rank",
          "Happiness Rank"
         ],
         "y": [
          95,
          65
         ]
        },
        {
         "hoverinfo": "text",
         "hovertext": "Jordan<br>Unemployment rate Rank: 96<br>Happiness Rank: 78<br>Mismatch: 18",
         "line": {
          "color": "#1E88E5",
          "width": 2
         },
         "mode": "lines+markers",
         "name": "Jordan",
         "type": "scatter",
         "visible": false,
         "x": [
          "Unemployment rate Rank",
          "Happiness Rank"
         ],
         "y": [
          96,
          78
         ]
        },
        {
         "hoverinfo": "text",
         "hovertext": "Lesotho<br>Unemployment rate Rank: 97<br>Happiness Rank: 101<br>Mismatch: 4",
         "line": {
          "color": "#1E88E5",
          "width": 2
         },
         "mode": "lines+markers",
         "name": "Lesotho",
         "type": "scatter",
         "visible": false,
         "x": [
          "Unemployment rate Rank",
          "Happiness Rank"
         ],
         "y": [
          97,
          101
         ]
        },
        {
         "hoverinfo": "text",
         "hovertext": "Greece<br>Unemployment rate Rank: 98<br>Happiness Rank: 68<br>Mismatch: 30",
         "line": {
          "color": "#1E88E5",
          "width": 2
         },
         "mode": "lines+markers",
         "name": "Greece",
         "type": "scatter",
         "visible": false,
         "x": [
          "Unemployment rate Rank",
          "Happiness Rank"
         ],
         "y": [
          98,
          68
         ]
        },
        {
         "hoverinfo": "text",
         "hovertext": "Tunisia<br>Unemployment rate Rank: 99<br>Happiness Rank: 92<br>Mismatch: 7",
         "line": {
          "color": "#1E88E5",
          "width": 2
         },
         "mode": "lines+markers",
         "name": "Tunisia",
         "type": "scatter",
         "visible": false,
         "x": [
          "Unemployment rate Rank",
          "Happiness Rank"
         ],
         "y": [
          99,
          92
         ]
        },
        {
         "hoverinfo": "text",
         "hovertext": "North Macedonia<br>Unemployment rate Rank: 100<br>Happiness Rank: 70<br>Mismatch: 30",
         "line": {
          "color": "#1E88E5",
          "width": 2
         },
         "mode": "lines+markers",
         "name": "North Macedonia",
         "type": "scatter",
         "visible": false,
         "x": [
          "Unemployment rate Rank",
          "Happiness Rank"
         ],
         "y": [
          100,
          70
         ]
        },
        {
         "hoverinfo": "text",
         "hovertext": "Somalia<br>Unemployment rate Rank: 101<br>Happiness Rank: 84<br>Mismatch: 17",
         "line": {
          "color": "#1E88E5",
          "width": 2
         },
         "mode": "lines+markers",
         "name": "Somalia",
         "type": "scatter",
         "visible": false,
         "x": [
          "Unemployment rate Rank",
          "Happiness Rank"
         ],
         "y": [
          101,
          84
         ]
        },
        {
         "hoverinfo": "text",
         "hovertext": "Botswana<br>Unemployment rate Rank: 102<br>Happiness Rank: 103<br>Mismatch: 1",
         "line": {
          "color": "#1E88E5",
          "width": 2
         },
         "mode": "lines+markers",
         "name": "Botswana",
         "type": "scatter",
         "visible": false,
         "x": [
          "Unemployment rate Rank",
          "Happiness Rank"
         ],
         "y": [
          102,
          103
         ]
        },
        {
         "hoverinfo": "text",
         "hovertext": "Kosovo<br>Unemployment rate Rank: 103<br>Happiness Rank: 40<br>Mismatch: 63",
         "line": {
          "color": "#D81B60",
          "width": 2
         },
         "mode": "lines+markers",
         "name": "Kosovo",
         "type": "scatter",
         "visible": false,
         "x": [
          "Unemployment rate Rank",
          "Happiness Rank"
         ],
         "y": [
          103,
          40
         ]
        },
        {
         "hoverinfo": "text",
         "hovertext": "South Africa<br>Unemployment rate Rank: 104<br>Happiness Rank: 80<br>Mismatch: 24",
         "line": {
          "color": "#1E88E5",
          "width": 2
         },
         "mode": "lines+markers",
         "name": "South Africa",
         "type": "scatter",
         "visible": false,
         "x": [
          "Unemployment rate Rank",
          "Happiness Rank"
         ],
         "y": [
          104,
          80
         ]
        },
        {
         "hoverinfo": "text",
         "hovertext": "Namibia<br>Education expenditure Rank: 1<br>Happiness Rank: 89<br>Mismatch: 88",
         "line": {
          "color": "#D81B60",
          "width": 2
         },
         "mode": "lines+markers",
         "name": "Namibia",
         "type": "scatter",
         "visible": false,
         "x": [
          "Education expenditure Rank",
          "Happiness Rank"
         ],
         "y": [
          1,
          89
         ]
        },
        {
         "hoverinfo": "text",
         "hovertext": "Botswana<br>Education expenditure Rank: 2<br>Happiness Rank: 115<br>Mismatch: 113",
         "line": {
          "color": "#D81B60",
          "width": 2
         },
         "mode": "lines+markers",
         "name": "Botswana",
         "type": "scatter",
         "visible": false,
         "x": [
          "Education expenditure Rank",
          "Happiness Rank"
         ],
         "y": [
          2,
          115
         ]
        },
        {
         "hoverinfo": "text",
         "hovertext": "Bolivia<br>Education expenditure Rank: 3<br>Happiness Rank: 52<br>Mismatch: 49",
         "line": {
          "color": "#D81B60",
          "width": 2
         },
         "mode": "lines+markers",
         "name": "Bolivia",
         "type": "scatter",
         "visible": false,
         "x": [
          "Education expenditure Rank",
          "Happiness Rank"
         ],
         "y": [
          3,
          52
         ]
        },
        {
         "hoverinfo": "text",
         "hovertext": "Norway<br>Education expenditure Rank: 4<br>Happiness Rank: 3<br>Mismatch: 1",
         "line": {
          "color": "#1E88E5",
          "width": 2
         },
         "mode": "lines+markers",
         "name": "Norway",
         "type": "scatter",
         "visible": false,
         "x": [
          "Education expenditure Rank",
          "Happiness Rank"
         ],
         "y": [
          4,
          3
         ]
        },
        {
         "hoverinfo": "text",
         "hovertext": "Sweden<br>Education expenditure Rank: 5<br>Happiness Rank: 7<br>Mismatch: 2",
         "line": {
          "color": "#1E88E5",
          "width": 2
         },
         "mode": "lines+markers",
         "name": "Sweden",
         "type": "scatter",
         "visible": false,
         "x": [
          "Education expenditure Rank",
          "Happiness Rank"
         ],
         "y": [
          5,
          7
         ]
        },
        {
         "hoverinfo": "text",
         "hovertext": "Iceland<br>Education expenditure Rank: 6<br>Happiness Rank: 4<br>Mismatch: 2",
         "line": {
          "color": "#1E88E5",
          "width": 2
         },
         "mode": "lines+markers",
         "name": "Iceland",
         "type": "scatter",
         "visible": false,
         "x": [
          "Education expenditure Rank",
          "Happiness Rank"
         ],
         "y": [
          6,
          4
         ]
        },
        {
         "hoverinfo": "text",
         "hovertext": "Sierra Leone<br>Education expenditure Rank: 7<br>Happiness Rank: 101<br>Mismatch: 94",
         "line": {
          "color": "#D81B60",
          "width": 2
         },
         "mode": "lines+markers",
         "name": "Sierra Leone",
         "type": "scatter",
         "visible": false,
         "x": [
          "Education expenditure Rank",
          "Happiness Rank"
         ],
         "y": [
          7,
          101
         ]
        },
        {
         "hoverinfo": "text",
         "hovertext": "Denmark<br>Education expenditure Rank: 8<br>Happiness Rank: 2<br>Mismatch: 6",
         "line": {
          "color": "#1E88E5",
          "width": 2
         },
         "mode": "lines+markers",
         "name": "Denmark",
         "type": "scatter",
         "visible": false,
         "x": [
          "Education expenditure Rank",
          "Happiness Rank"
         ],
         "y": [
          8,
          2
         ]
        },
        {
         "hoverinfo": "text",
         "hovertext": "Lesotho<br>Education expenditure Rank: 9<br>Happiness Rank: 112<br>Mismatch: 103",
         "line": {
          "color": "#D81B60",
          "width": 2
         },
         "mode": "lines+markers",
         "name": "Lesotho",
         "type": "scatter",
         "visible": false,
         "x": [
          "Education expenditure Rank",
          "Happiness Rank"
         ],
         "y": [
          9,
          112
         ]
        },
        {
         "hoverinfo": "text",
         "hovertext": "Costa Rica<br>Education expenditure Rank: 10<br>Happiness Rank: 12<br>Mismatch: 2",
         "line": {
          "color": "#1E88E5",
          "width": 2
         },
         "mode": "lines+markers",
         "name": "Costa Rica",
         "type": "scatter",
         "visible": false,
         "x": [
          "Education expenditure Rank",
          "Happiness Rank"
         ],
         "y": [
          10,
          12
         ]
        },
        {
         "hoverinfo": "text",
         "hovertext": "Kuwait<br>Education expenditure Rank: 11<br>Happiness Rank: 43<br>Mismatch: 32",
         "line": {
          "color": "#D81B60",
          "width": 2
         },
         "mode": "lines+markers",
         "name": "Kuwait",
         "type": "scatter",
         "visible": false,
         "x": [
          "Education expenditure Rank",
          "Happiness Rank"
         ],
         "y": [
          11,
          43
         ]
        },
        {
         "hoverinfo": "text",
         "hovertext": "Finland<br>Education expenditure Rank: 12<br>Happiness Rank: 1<br>Mismatch: 11",
         "line": {
          "color": "#1E88E5",
          "width": 2
         },
         "mode": "lines+markers",
         "name": "Finland",
         "type": "scatter",
         "visible": false,
         "x": [
          "Education expenditure Rank",
          "Happiness Rank"
         ],
         "y": [
          12,
          1
         ]
        },
        {
         "hoverinfo": "text",
         "hovertext": "Belgium<br>Education expenditure Rank: 13<br>Happiness Rank: 18<br>Mismatch: 5",
         "line": {
          "color": "#1E88E5",
          "width": 2
         },
         "mode": "lines+markers",
         "name": "Belgium",
         "type": "scatter",
         "visible": false,
         "x": [
          "Education expenditure Rank",
          "Happiness Rank"
         ],
         "y": [
          13,
          18
         ]
        },
        {
         "hoverinfo": "text",
         "hovertext": "Uzbekistan<br>Education expenditure Rank: 14<br>Happiness Rank: 35<br>Mismatch: 21",
         "line": {
          "color": "#1E88E5",
          "width": 2
         },
         "mode": "lines+markers",
         "name": "Uzbekistan",
         "type": "scatter",
         "visible": false,
         "x": [
          "Education expenditure Rank",
          "Happiness Rank"
         ],
         "y": [
          14,
          35
         ]
        },
        {
         "hoverinfo": "text",
         "hovertext": "Mozambique<br>Education expenditure Rank: 15<br>Happiness Rank: 97<br>Mismatch: 82",
         "line": {
          "color": "#D81B60",
          "width": 2
         },
         "mode": "lines+markers",
         "name": "Mozambique",
         "type": "scatter",
         "visible": false,
         "x": [
          "Education expenditure Rank",
          "Happiness Rank"
         ],
         "y": [
          15,
          97
         ]
        },
        {
         "hoverinfo": "text",
         "hovertext": "Moldova<br>Education expenditure Rank: 16<br>Happiness Rank: 60<br>Mismatch: 44",
         "line": {
          "color": "#D81B60",
          "width": 2
         },
         "mode": "lines+markers",
         "name": "Moldova",
         "type": "scatter",
         "visible": false,
         "x": [
          "Education expenditure Rank",
          "Happiness Rank"
         ],
         "y": [
          16,
          60
         ]
        },
        {
         "hoverinfo": "text",
         "hovertext": "Tunisia<br>Education expenditure Rank: 17<br>Happiness Rank: 98<br>Mismatch: 81",
         "line": {
          "color": "#D81B60",
          "width": 2
         },
         "mode": "lines+markers",
         "name": "Tunisia",
         "type": "scatter",
         "visible": false,
         "x": [
          "Education expenditure Rank",
          "Happiness Rank"
         ],
         "y": [
          17,
          98
         ]
        },
        {
         "hoverinfo": "text",
         "hovertext": "Israel<br>Education expenditure Rank: 18<br>Happiness Rank: 13<br>Mismatch: 5",
         "line": {
          "color": "#1E88E5",
          "width": 2
         },
         "mode": "lines+markers",
         "name": "Israel",
         "type": "scatter",
         "visible": false,
         "x": [
          "Education expenditure Rank",
          "Happiness Rank"
         ],
         "y": [
          18,
          13
         ]
        },
        {
         "hoverinfo": "text",
         "hovertext": "Brazil<br>Education expenditure Rank: 19<br>Happiness Rank: 28<br>Mismatch: 9",
         "line": {
          "color": "#1E88E5",
          "width": 2
         },
         "mode": "lines+markers",
         "name": "Brazil",
         "type": "scatter",
         "visible": false,
         "x": [
          "Education expenditure Rank",
          "Happiness Rank"
         ],
         "y": [
          19,
          28
         ]
        },
        {
         "hoverinfo": "text",
         "hovertext": "Honduras<br>Education expenditure Rank: 20<br>Happiness Rank: 50<br>Mismatch: 30",
         "line": {
          "color": "#1E88E5",
          "width": 2
         },
         "mode": "lines+markers",
         "name": "Honduras",
         "type": "scatter",
         "visible": false,
         "x": [
          "Education expenditure Rank",
          "Happiness Rank"
         ],
         "y": [
          20,
          50
         ]
        },
        {
         "hoverinfo": "text",
         "hovertext": "South Africa<br>Education expenditure Rank: 21<br>Happiness Rank: 85<br>Mismatch: 64",
         "line": {
          "color": "#D81B60",
          "width": 2
         },
         "mode": "lines+markers",
         "name": "South Africa",
         "type": "scatter",
         "visible": false,
         "x": [
          "Education expenditure Rank",
          "Happiness Rank"
         ],
         "y": [
          21,
          85
         ]
        },
        {
         "hoverinfo": "text",
         "hovertext": "Chile<br>Education expenditure Rank: 22<br>Happiness Rank: 23<br>Mismatch: 1",
         "line": {
          "color": "#1E88E5",
          "width": 2
         },
         "mode": "lines+markers",
         "name": "Chile",
         "type": "scatter",
         "visible": false,
         "x": [
          "Education expenditure Rank",
          "Happiness Rank"
         ],
         "y": [
          22,
          23
         ]
        },
        {
         "hoverinfo": "text",
         "hovertext": "Algeria<br>Education expenditure Rank: 23<br>Happiness Rank: 71<br>Mismatch: 48",
         "line": {
          "color": "#D81B60",
          "width": 2
         },
         "mode": "lines+markers",
         "name": "Algeria",
         "type": "scatter",
         "visible": false,
         "x": [
          "Education expenditure Rank",
          "Happiness Rank"
         ],
         "y": [
          23,
          71
         ]
        },
        {
         "hoverinfo": "text",
         "hovertext": "Australia<br>Education expenditure Rank: 24<br>Happiness Rank: 11<br>Mismatch: 13",
         "line": {
          "color": "#1E88E5",
          "width": 2
         },
         "mode": "lines+markers",
         "name": "Australia",
         "type": "scatter",
         "visible": false,
         "x": [
          "Education expenditure Rank",
          "Happiness Rank"
         ],
         "y": [
          24,
          11
         ]
        },
        {
         "hoverinfo": "text",
         "hovertext": "Tajikistan<br>Education expenditure Rank: 25<br>Happiness Rank: 61<br>Mismatch: 36",
         "line": {
          "color": "#D81B60",
          "width": 2
         },
         "mode": "lines+markers",
         "name": "Tajikistan",
         "type": "scatter",
         "visible": false,
         "x": [
          "Education expenditure Rank",
          "Happiness Rank"
         ],
         "y": [
          25,
          61
         ]
        },
        {
         "hoverinfo": "text",
         "hovertext": "Ukraine<br>Education expenditure Rank: 26<br>Happiness Rank: 104<br>Mismatch: 78",
         "line": {
          "color": "#D81B60",
          "width": 2
         },
         "mode": "lines+markers",
         "name": "Ukraine",
         "type": "scatter",
         "visible": false,
         "x": [
          "Education expenditure Rank",
          "Happiness Rank"
         ],
         "y": [
          26,
          104
         ]
        },
        {
         "hoverinfo": "text",
         "hovertext": "Burkina Faso<br>Education expenditure Rank: 27<br>Happiness Rank: 91<br>Mismatch: 64",
         "line": {
          "color": "#D81B60",
          "width": 2
         },
         "mode": "lines+markers",
         "name": "Burkina Faso",
         "type": "scatter",
         "visible": false,
         "x": [
          "Education expenditure Rank",
          "Happiness Rank"
         ],
         "y": [
          27,
          91
         ]
        },
        {
         "hoverinfo": "text",
         "hovertext": "Kenya<br>Education expenditure Rank: 28<br>Happiness Rank: 95<br>Mismatch: 67",
         "line": {
          "color": "#D81B60",
          "width": 2
         },
         "mode": "lines+markers",
         "name": "Kenya",
         "type": "scatter",
         "visible": false,
         "x": [
          "Education expenditure Rank",
          "Happiness Rank"
         ],
         "y": [
          28,
          95
         ]
        },
        {
         "hoverinfo": "text",
         "hovertext": "France<br>Education expenditure Rank: 29<br>Happiness Rank: 22<br>Mismatch: 7",
         "line": {
          "color": "#1E88E5",
          "width": 2
         },
         "mode": "lines+markers",
         "name": "France",
         "type": "scatter",
         "visible": false,
         "x": [
          "Education expenditure Rank",
          "Happiness Rank"
         ],
         "y": [
          29,
          22
         ]
        },
        {
         "hoverinfo": "text",
         "hovertext": "Burundi<br>Education expenditure Rank: 30<br>Happiness Rank: 113<br>Mismatch: 83",
         "line": {
          "color": "#D81B60",
          "width": 2
         },
         "mode": "lines+markers",
         "name": "Burundi",
         "type": "scatter",
         "visible": false,
         "x": [
          "Education expenditure Rank",
          "Happiness Rank"
         ],
         "y": [
          30,
          113
         ]
        },
        {
         "hoverinfo": "text",
         "hovertext": "United Kingdom<br>Education expenditure Rank: 31<br>Happiness Rank: 15<br>Mismatch: 16",
         "line": {
          "color": "#1E88E5",
          "width": 2
         },
         "mode": "lines+markers",
         "name": "United Kingdom",
         "type": "scatter",
         "visible": false,
         "x": [
          "Education expenditure Rank",
          "Happiness Rank"
         ],
         "y": [
          31,
          15
         ]
        },
        {
         "hoverinfo": "text",
         "hovertext": "Estonia<br>Education expenditure Rank: 32<br>Happiness Rank: 46<br>Mismatch: 14",
         "line": {
          "color": "#1E88E5",
          "width": 2
         },
         "mode": "lines+markers",
         "name": "Estonia",
         "type": "scatter",
         "visible": false,
         "x": [
          "Education expenditure Rank",
          "Happiness Rank"
         ],
         "y": [
          32,
          46
         ]
        },
        {
         "hoverinfo": "text",
         "hovertext": "Austria<br>Education expenditure Rank: 33<br>Happiness Rank: 10<br>Mismatch: 23",
         "line": {
          "color": "#1E88E5",
          "width": 2
         },
         "mode": "lines+markers",
         "name": "Austria",
         "type": "scatter",
         "visible": false,
         "x": [
          "Education expenditure Rank",
          "Happiness Rank"
         ],
         "y": [
          33,
          10
         ]
        },
        {
         "hoverinfo": "text",
         "hovertext": "Cyprus<br>Education expenditure Rank: 34<br>Happiness Rank: 41<br>Mismatch: 7",
         "line": {
          "color": "#1E88E5",
          "width": 2
         },
         "mode": "lines+markers",
         "name": "Cyprus",
         "type": "scatter",
         "visible": false,
         "x": [
          "Education expenditure Rank",
          "Happiness Rank"
         ],
         "y": [
          34,
          41
         ]
        },
        {
         "hoverinfo": "text",
         "hovertext": "New Zealand<br>Education expenditure Rank: 35<br>Happiness Rank: 8<br>Mismatch: 27",
         "line": {
          "color": "#1E88E5",
          "width": 2
         },
         "mode": "lines+markers",
         "name": "New Zealand",
         "type": "scatter",
         "visible": false,
         "x": [
          "Education expenditure Rank",
          "Happiness Rank"
         ],
         "y": [
          35,
          8
         ]
        },
        {
         "hoverinfo": "text",
         "hovertext": "Jamaica<br>Education expenditure Rank: 36<br>Happiness Rank: 47<br>Mismatch: 11",
         "line": {
          "color": "#1E88E5",
          "width": 2
         },
         "mode": "lines+markers",
         "name": "Jamaica",
         "type": "scatter",
         "visible": false,
         "x": [
          "Education expenditure Rank",
          "Happiness Rank"
         ],
         "y": [
          36,
          47
         ]
        },
        {
         "hoverinfo": "text",
         "hovertext": "Netherlands<br>Education expenditure Rank: 37<br>Happiness Rank: 5<br>Mismatch: 32",
         "line": {
          "color": "#D81B60",
          "width": 2
         },
         "mode": "lines+markers",
         "name": "Netherlands",
         "type": "scatter",
         "visible": false,
         "x": [
          "Education expenditure Rank",
          "Happiness Rank"
         ],
         "y": [
          37,
          5
         ]
        },
        {
         "hoverinfo": "text",
         "hovertext": "Germany<br>Education expenditure Rank: 38<br>Happiness Rank: 17<br>Mismatch: 21",
         "line": {
          "color": "#1E88E5",
          "width": 2
         },
         "mode": "lines+markers",
         "name": "Germany",
         "type": "scatter",
         "visible": false,
         "x": [
          "Education expenditure Rank",
          "Happiness Rank"
         ],
         "y": [
          38,
          17
         ]
        },
        {
         "hoverinfo": "text",
         "hovertext": "Senegal<br>Education expenditure Rank: 39<br>Happiness Rank: 88<br>Mismatch: 49",
         "line": {
          "color": "#D81B60",
          "width": 2
         },
         "mode": "lines+markers",
         "name": "Senegal",
         "type": "scatter",
         "visible": false,
         "x": [
          "Education expenditure Rank",
          "Happiness Rank"
         ],
         "y": [
          39,
          88
         ]
        },
        {
         "hoverinfo": "text",
         "hovertext": "Switzerland<br>Education expenditure Rank: 40<br>Happiness Rank: 6<br>Mismatch: 34",
         "line": {
          "color": "#D81B60",
          "width": 2
         },
         "mode": "lines+markers",
         "name": "Switzerland",
         "type": "scatter",
         "visible": false,
         "x": [
          "Education expenditure Rank",
          "Happiness Rank"
         ],
         "y": [
          40,
          6
         ]
        },
        {
         "hoverinfo": "text",
         "hovertext": "Morocco<br>Education expenditure Rank: 41<br>Happiness Rank: 72<br>Mismatch: 31",
         "line": {
          "color": "#D81B60",
          "width": 2
         },
         "mode": "lines+markers",
         "name": "Morocco",
         "type": "scatter",
         "visible": false,
         "x": [
          "Education expenditure Rank",
          "Happiness Rank"
         ],
         "y": [
          41,
          72
         ]
        },
        {
         "hoverinfo": "text",
         "hovertext": "Belarus<br>Education expenditure Rank: 42<br>Happiness Rank: 66<br>Mismatch: 24",
         "line": {
          "color": "#1E88E5",
          "width": 2
         },
         "mode": "lines+markers",
         "name": "Belarus",
         "type": "scatter",
         "visible": false,
         "x": [
          "Education expenditure Rank",
          "Happiness Rank"
         ],
         "y": [
          42,
          66
         ]
        },
        {
         "hoverinfo": "text",
         "hovertext": "United States<br>Education expenditure Rank: 43<br>Happiness Rank: 19<br>Mismatch: 24",
         "line": {
          "color": "#1E88E5",
          "width": 2
         },
         "mode": "lines+markers",
         "name": "United States",
         "type": "scatter",
         "visible": false,
         "x": [
          "Education expenditure Rank",
          "Happiness Rank"
         ],
         "y": [
          43,
          19
         ]
        },
        {
         "hoverinfo": "text",
         "hovertext": "Malta<br>Education expenditure Rank: 44<br>Happiness Rank: 21<br>Mismatch: 23",
         "line": {
          "color": "#1E88E5",
          "width": 2
         },
         "mode": "lines+markers",
         "name": "Malta",
         "type": "scatter",
         "visible": false,
         "x": [
          "Education expenditure Rank",
          "Happiness Rank"
         ],
         "y": [
          44,
          21
         ]
        },
        {
         "hoverinfo": "text",
         "hovertext": "Slovenia<br>Education expenditure Rank: 45<br>Happiness Rank: 37<br>Mismatch: 8",
         "line": {
          "color": "#1E88E5",
          "width": 2
         },
         "mode": "lines+markers",
         "name": "Slovenia",
         "type": "scatter",
         "visible": false,
         "x": [
          "Education expenditure Rank",
          "Happiness Rank"
         ],
         "y": [
          45,
          37
         ]
        },
        {
         "hoverinfo": "text",
         "hovertext": "Canada<br>Education expenditure Rank: 46<br>Happiness Rank: 9<br>Mismatch: 37",
         "line": {
          "color": "#D81B60",
          "width": 2
         },
         "mode": "lines+markers",
         "name": "Canada",
         "type": "scatter",
         "visible": false,
         "x": [
          "Education expenditure Rank",
          "Happiness Rank"
         ],
         "y": [
          46,
          9
         ]
        },
        {
         "hoverinfo": "text",
         "hovertext": "Argentina<br>Education expenditure Rank: 47<br>Happiness Rank: 39<br>Mismatch: 8",
         "line": {
          "color": "#1E88E5",
          "width": 2
         },
         "mode": "lines+markers",
         "name": "Argentina",
         "type": "scatter",
         "visible": false,
         "x": [
          "Education expenditure Rank",
          "Happiness Rank"
         ],
         "y": [
          47,
          39
         ]
        },
        {
         "hoverinfo": "text",
         "hovertext": "Poland<br>Education expenditure Rank: 48<br>Happiness Rank: 34<br>Mismatch: 14",
         "line": {
          "color": "#1E88E5",
          "width": 2
         },
         "mode": "lines+markers",
         "name": "Poland",
         "type": "scatter",
         "visible": false,
         "x": [
          "Education expenditure Rank",
          "Happiness Rank"
         ],
         "y": [
          48,
          34
         ]
        },
        {
         "hoverinfo": "text",
         "hovertext": "Portugal<br>Education expenditure Rank: 49<br>Happiness Rank: 56<br>Mismatch: 7",
         "line": {
          "color": "#1E88E5",
          "width": 2
         },
         "mode": "lines+markers",
         "name": "Portugal",
         "type": "scatter",
         "visible": false,
         "x": [
          "Education expenditure Rank",
          "Happiness Rank"
         ],
         "y": [
          49,
          56
         ]
        },
        {
         "hoverinfo": "text",
         "hovertext": "Uruguay<br>Education expenditure Rank: 50<br>Happiness Rank: 29<br>Mismatch: 21",
         "line": {
          "color": "#1E88E5",
          "width": 2
         },
         "mode": "lines+markers",
         "name": "Uruguay",
         "type": "scatter",
         "visible": false,
         "x": [
          "Education expenditure Rank",
          "Happiness Rank"
         ],
         "y": [
          50,
          29
         ]
        },
        {
         "hoverinfo": "text",
         "hovertext": "Nicaragua<br>Education expenditure Rank: 51<br>Happiness Rank: 38<br>Mismatch: 13",
         "line": {
          "color": "#1E88E5",
          "width": 2
         },
         "mode": "lines+markers",
         "name": "Nicaragua",
         "type": "scatter",
         "visible": false,
         "x": [
          "Education expenditure Rank",
          "Happiness Rank"
         ],
         "y": [
          51,
          38
         ]
        },
        {
         "hoverinfo": "text",
         "hovertext": "Mauritius<br>Education expenditure Rank: 52<br>Happiness Rank: 48<br>Mismatch: 4",
         "line": {
          "color": "#1E88E5",
          "width": 2
         },
         "mode": "lines+markers",
         "name": "Mauritius",
         "type": "scatter",
         "visible": false,
         "x": [
          "Education expenditure Rank",
          "Happiness Rank"
         ],
         "y": [
          52,
          48
         ]
        },
        {
         "hoverinfo": "text",
         "hovertext": "Bhutan<br>Education expenditure Rank: 53<br>Happiness Rank: 77<br>Mismatch: 24",
         "line": {
          "color": "#1E88E5",
          "width": 2
         },
         "mode": "lines+markers",
         "name": "Bhutan",
         "type": "scatter",
         "visible": false,
         "x": [
          "Education expenditure Rank",
          "Happiness Rank"
         ],
         "y": [
          53,
          77
         ]
        },
        {
         "hoverinfo": "text",
         "hovertext": "Ethiopia<br>Education expenditure Rank: 54<br>Happiness Rank: 105<br>Mismatch: 51",
         "line": {
          "color": "#D81B60",
          "width": 2
         },
         "mode": "lines+markers",
         "name": "Ethiopia",
         "type": "scatter",
         "visible": false,
         "x": [
          "Education expenditure Rank",
          "Happiness Rank"
         ],
         "y": [
          54,
          105
         ]
        },
        {
         "hoverinfo": "text",
         "hovertext": "Latvia<br>Education expenditure Rank: 55<br>Happiness Rank: 45<br>Mismatch: 10",
         "line": {
          "color": "#1E88E5",
          "width": 2
         },
         "mode": "lines+markers",
         "name": "Latvia",
         "type": "scatter",
         "visible": false,
         "x": [
          "Education expenditure Rank",
          "Happiness Rank"
         ],
         "y": [
          55,
          45
         ]
        },
        {
         "hoverinfo": "text",
         "hovertext": "Zambia<br>Education expenditure Rank: 56<br>Happiness Rank: 107<br>Mismatch: 51",
         "line": {
          "color": "#D81B60",
          "width": 2
         },
         "mode": "lines+markers",
         "name": "Zambia",
         "type": "scatter",
         "visible": false,
         "x": [
          "Education expenditure Rank",
          "Happiness Rank"
         ],
         "y": [
          56,
          107
         ]
        },
        {
         "hoverinfo": "text",
         "hovertext": "Ecuador<br>Education expenditure Rank: 57<br>Happiness Rank: 42<br>Mismatch: 15",
         "line": {
          "color": "#1E88E5",
          "width": 2
         },
         "mode": "lines+markers",
         "name": "Ecuador",
         "type": "scatter",
         "visible": false,
         "x": [
          "Education expenditure Rank",
          "Happiness Rank"
         ],
         "y": [
          57,
          42
         ]
        },
        {
         "hoverinfo": "text",
         "hovertext": "Spain<br>Education expenditure Rank: 58<br>Happiness Rank: 26<br>Mismatch: 32",
         "line": {
          "color": "#D81B60",
          "width": 2
         },
         "mode": "lines+markers",
         "name": "Spain",
         "type": "scatter",
         "visible": false,
         "x": [
          "Education expenditure Rank",
          "Happiness Rank"
         ],
         "y": [
          58,
          26
         ]
        },
        {
         "hoverinfo": "text",
         "hovertext": "Hungary<br>Education expenditure Rank: 59<br>Happiness Rank: 53<br>Mismatch: 6",
         "line": {
          "color": "#1E88E5",
          "width": 2
         },
         "mode": "lines+markers",
         "name": "Hungary",
         "type": "scatter",
         "visible": false,
         "x": [
          "Education expenditure Rank",
          "Happiness Rank"
         ],
         "y": [
          59,
          53
         ]
        },
        {
         "hoverinfo": "text",
         "hovertext": "Togo<br>Education expenditure Rank: 60<br>Happiness Rank: 108<br>Mismatch: 48",
         "line": {
          "color": "#D81B60",
          "width": 2
         },
         "mode": "lines+markers",
         "name": "Togo",
         "type": "scatter",
         "visible": false,
         "x": [
          "Education expenditure Rank",
          "Happiness Rank"
         ],
         "y": [
          60,
          108
         ]
        },
        {
         "hoverinfo": "text",
         "hovertext": "Bulgaria<br>Education expenditure Rank: 61<br>Happiness Rank: 79<br>Mismatch: 18",
         "line": {
          "color": "#1E88E5",
          "width": 2
         },
         "mode": "lines+markers",
         "name": "Bulgaria",
         "type": "scatter",
         "visible": false,
         "x": [
          "Education expenditure Rank",
          "Happiness Rank"
         ],
         "y": [
          61,
          79
         ]
        },
        {
         "hoverinfo": "text",
         "hovertext": "Italy<br>Education expenditure Rank: 62<br>Happiness Rank: 32<br>Mismatch: 30",
         "line": {
          "color": "#1E88E5",
          "width": 2
         },
         "mode": "lines+markers",
         "name": "Italy",
         "type": "scatter",
         "visible": false,
         "x": [
          "Education expenditure Rank",
          "Happiness Rank"
         ],
         "y": [
          62,
          32
         ]
        },
        {
         "hoverinfo": "text",
         "hovertext": "China<br>Education expenditure Rank: 63<br>Happiness Rank: 76<br>Mismatch: 13",
         "line": {
          "color": "#1E88E5",
          "width": 2
         },
         "mode": "lines+markers",
         "name": "China",
         "type": "scatter",
         "visible": false,
         "x": [
          "Education expenditure Rank",
          "Happiness Rank"
         ],
         "y": [
          63,
          76
         ]
        },
        {
         "hoverinfo": "text",
         "hovertext": "Bosnia and Herzegovina<br>Education expenditure Rank: 64<br>Happiness Rank: 64<br>Mismatch: 0",
         "line": {
          "color": "#1E88E5",
          "width": 2
         },
         "mode": "lines+markers",
         "name": "Bosnia and Herzegovina",
         "type": "scatter",
         "visible": false,
         "x": [
          "Education expenditure Rank",
          "Happiness Rank"
         ],
         "y": [
          64,
          64
         ]
        },
        {
         "hoverinfo": "text",
         "hovertext": "Dominican Republic<br>Education expenditure Rank: 65<br>Happiness Rank: 63<br>Mismatch: 2",
         "line": {
          "color": "#1E88E5",
          "width": 2
         },
         "mode": "lines+markers",
         "name": "Dominican Republic",
         "type": "scatter",
         "visible": false,
         "x": [
          "Education expenditure Rank",
          "Happiness Rank"
         ],
         "y": [
          65,
          63
         ]
        },
        {
         "hoverinfo": "text",
         "hovertext": "Malaysia<br>Education expenditure Rank: 66<br>Happiness Rank: 65<br>Mismatch: 1",
         "line": {
          "color": "#1E88E5",
          "width": 2
         },
         "mode": "lines+markers",
         "name": "Malaysia",
         "type": "scatter",
         "visible": false,
         "x": [
          "Education expenditure Rank",
          "Happiness Rank"
         ],
         "y": [
          66,
          65
         ]
        },
        {
         "hoverinfo": "text",
         "hovertext": "Lithuania<br>Education expenditure Rank: 67<br>Happiness Rank: 36<br>Mismatch: 31",
         "line": {
          "color": "#D81B60",
          "width": 2
         },
         "mode": "lines+markers",
         "name": "Lithuania",
         "type": "scatter",
         "visible": false,
         "x": [
          "Education expenditure Rank",
          "Happiness Rank"
         ],
         "y": [
          67,
          36
         ]
        },
        {
         "hoverinfo": "text",
         "hovertext": "Croatia<br>Education expenditure Rank: 68<br>Happiness Rank: 62<br>Mismatch: 6",
         "line": {
          "color": "#1E88E5",
          "width": 2
         },
         "mode": "lines+markers",
         "name": "Croatia",
         "type": "scatter",
         "visible": false,
         "x": [
          "Education expenditure Rank",
          "Happiness Rank"
         ],
         "y": [
          68,
          62
         ]
        },
        {
         "hoverinfo": "text",
         "hovertext": "Albania<br>Education expenditure Rank: 69<br>Happiness Rank: 86<br>Mismatch: 17",
         "line": {
          "color": "#1E88E5",
          "width": 2
         },
         "mode": "lines+markers",
         "name": "Albania",
         "type": "scatter",
         "visible": false,
         "x": [
          "Education expenditure Rank",
          "Happiness Rank"
         ],
         "y": [
          69,
          86
         ]
        },
        {
         "hoverinfo": "text",
         "hovertext": "India<br>Education expenditure Rank: 70<br>Happiness Rank: 109<br>Mismatch: 39",
         "line": {
          "color": "#D81B60",
          "width": 2
         },
         "mode": "lines+markers",
         "name": "India",
         "type": "scatter",
         "visible": false,
         "x": [
          "Education expenditure Rank",
          "Happiness Rank"
         ],
         "y": [
          70,
          109
         ]
        },
        {
         "hoverinfo": "text",
         "hovertext": "United Arab Emirates<br>Education expenditure Rank: 71<br>Happiness Rank: 20<br>Mismatch: 51",
         "line": {
          "color": "#D81B60",
          "width": 2
         },
         "mode": "lines+markers",
         "name": "United Arab Emirates",
         "type": "scatter",
         "visible": false,
         "x": [
          "Education expenditure Rank",
          "Happiness Rank"
         ],
         "y": [
          71,
          20
         ]
        },
        {
         "hoverinfo": "text",
         "hovertext": "Georgia<br>Education expenditure Rank: 72<br>Happiness Rank: 94<br>Mismatch: 22",
         "line": {
          "color": "#1E88E5",
          "width": 2
         },
         "mode": "lines+markers",
         "name": "Georgia",
         "type": "scatter",
         "visible": false,
         "x": [
          "Education expenditure Rank",
          "Happiness Rank"
         ],
         "y": [
          72,
          94
         ]
        },
        {
         "hoverinfo": "text",
         "hovertext": "Peru<br>Education expenditure Rank: 73<br>Happiness Rank: 55<br>Mismatch: 18",
         "line": {
          "color": "#1E88E5",
          "width": 2
         },
         "mode": "lines+markers",
         "name": "Peru",
         "type": "scatter",
         "visible": false,
         "x": [
          "Education expenditure Rank",
          "Happiness Rank"
         ],
         "y": [
          73,
          55
         ]
        },
        {
         "hoverinfo": "text",
         "hovertext": "Luxembourg<br>Education expenditure Rank: 74<br>Happiness Rank: 14<br>Mismatch: 60",
         "line": {
          "color": "#D81B60",
          "width": 2
         },
         "mode": "lines+markers",
         "name": "Luxembourg",
         "type": "scatter",
         "visible": false,
         "x": [
          "Education expenditure Rank",
          "Happiness Rank"
         ],
         "y": [
          74,
          14
         ]
        },
        {
         "hoverinfo": "text",
         "hovertext": "Mongolia<br>Education expenditure Rank: 75<br>Happiness Rank: 68<br>Mismatch: 7",
         "line": {
          "color": "#1E88E5",
          "width": 2
         },
         "mode": "lines+markers",
         "name": "Mongolia",
         "type": "scatter",
         "visible": false,
         "x": [
          "Education expenditure Rank",
          "Happiness Rank"
         ],
         "y": [
          75,
          68
         ]
        },
        {
         "hoverinfo": "text",
         "hovertext": "Serbia<br>Education expenditure Rank: 76<br>Happiness Rank: 59<br>Mismatch: 17",
         "line": {
          "color": "#1E88E5",
          "width": 2
         },
         "mode": "lines+markers",
         "name": "Serbia",
         "type": "scatter",
         "visible": false,
         "x": [
          "Education expenditure Rank",
          "Happiness Rank"
         ],
         "y": [
          76,
          59
         ]
        },
        {
         "hoverinfo": "text",
         "hovertext": "Tanzania<br>Education expenditure Rank: 77<br>Happiness Rank: 117<br>Mismatch: 40",
         "line": {
          "color": "#D81B60",
          "width": 2
         },
         "mode": "lines+markers",
         "name": "Tanzania",
         "type": "scatter",
         "visible": false,
         "x": [
          "Education expenditure Rank",
          "Happiness Rank"
         ],
         "y": [
          77,
          117
         ]
        },
        {
         "hoverinfo": "text",
         "hovertext": "Greece<br>Education expenditure Rank: 78<br>Happiness Rank: 67<br>Mismatch: 11",
         "line": {
          "color": "#1E88E5",
          "width": 2
         },
         "mode": "lines+markers",
         "name": "Greece",
         "type": "scatter",
         "visible": false,
         "x": [
          "Education expenditure Rank",
          "Happiness Rank"
         ],
         "y": [
          78,
          67
         ]
        },
        {
         "hoverinfo": "text",
         "hovertext": "Romania<br>Education expenditure Rank: 79<br>Happiness Rank: 40<br>Mismatch: 39",
         "line": {
          "color": "#D81B60",
          "width": 2
         },
         "mode": "lines+markers",
         "name": "Romania",
         "type": "scatter",
         "visible": false,
         "x": [
          "Education expenditure Rank",
          "Happiness Rank"
         ],
         "y": [
          79,
          40
         ]
        },
        {
         "hoverinfo": "text",
         "hovertext": "Mali<br>Education expenditure Rank: 80<br>Happiness Rank: 100<br>Mismatch: 20",
         "line": {
          "color": "#1E88E5",
          "width": 2
         },
         "mode": "lines+markers",
         "name": "Mali",
         "type": "scatter",
         "visible": false,
         "x": [
          "Education expenditure Rank",
          "Happiness Rank"
         ],
         "y": [
          80,
          100
         ]
        },
        {
         "hoverinfo": "text",
         "hovertext": "Niger<br>Education expenditure Rank: 81<br>Happiness Rank: 90<br>Mismatch: 9",
         "line": {
          "color": "#1E88E5",
          "width": 2
         },
         "mode": "lines+markers",
         "name": "Niger",
         "type": "scatter",
         "visible": false,
         "x": [
          "Education expenditure Rank",
          "Happiness Rank"
         ],
         "y": [
          81,
          90
         ]
        },
        {
         "hoverinfo": "text",
         "hovertext": "Paraguay<br>Education expenditure Rank: 82<br>Happiness Rank: 54<br>Mismatch: 28",
         "line": {
          "color": "#1E88E5",
          "width": 2
         },
         "mode": "lines+markers",
         "name": "Paraguay",
         "type": "scatter",
         "visible": false,
         "x": [
          "Education expenditure Rank",
          "Happiness Rank"
         ],
         "y": [
          82,
          54
         ]
        },
        {
         "hoverinfo": "text",
         "hovertext": "Nepal<br>Education expenditure Rank: 83<br>Happiness Rank: 81<br>Mismatch: 2",
         "line": {
          "color": "#1E88E5",
          "width": 2
         },
         "mode": "lines+markers",
         "name": "Nepal",
         "type": "scatter",
         "visible": false,
         "x": [
          "Education expenditure Rank",
          "Happiness Rank"
         ],
         "y": [
          83,
          81
         ]
        },
        {
         "hoverinfo": "text",
         "hovertext": "Philippines<br>Education expenditure Rank: 84<br>Happiness Rank: 58<br>Mismatch: 26",
         "line": {
          "color": "#1E88E5",
          "width": 2
         },
         "mode": "lines+markers",
         "name": "Philippines",
         "type": "scatter",
         "visible": false,
         "x": [
          "Education expenditure Rank",
          "Happiness Rank"
         ],
         "y": [
          84,
          58
         ]
        },
        {
         "hoverinfo": "text",
         "hovertext": "El Salvador<br>Education expenditure Rank: 85<br>Happiness Rank: 31<br>Mismatch: 54",
         "line": {
          "color": "#D81B60",
          "width": 2
         },
         "mode": "lines+markers",
         "name": "El Salvador",
         "type": "scatter",
         "visible": false,
         "x": [
          "Education expenditure Rank",
          "Happiness Rank"
         ],
         "y": [
          85,
          31
         ]
        },
        {
         "hoverinfo": "text",
         "hovertext": "Kazakhstan<br>Education expenditure Rank: 86<br>Happiness Rank: 51<br>Mismatch: 35",
         "line": {
          "color": "#D81B60",
          "width": 2
         },
         "mode": "lines+markers",
         "name": "Kazakhstan",
         "type": "scatter",
         "visible": false,
         "x": [
          "Education expenditure Rank",
          "Happiness Rank"
         ],
         "y": [
          86,
          51
         ]
        },
        {
         "hoverinfo": "text",
         "hovertext": "Ireland<br>Education expenditure Rank: 87<br>Happiness Rank: 16<br>Mismatch: 71",
         "line": {
          "color": "#D81B60",
          "width": 2
         },
         "mode": "lines+markers",
         "name": "Ireland",
         "type": "scatter",
         "visible": false,
         "x": [
          "Education expenditure Rank",
          "Happiness Rank"
         ],
         "y": [
          87,
          16
         ]
        },
        {
         "hoverinfo": "text",
         "hovertext": "Rwanda<br>Education expenditure Rank: 88<br>Happiness Rank: 116<br>Mismatch: 28",
         "line": {
          "color": "#1E88E5",
          "width": 2
         },
         "mode": "lines+markers",
         "name": "Rwanda",
         "type": "scatter",
         "visible": false,
         "x": [
          "Education expenditure Rank",
          "Happiness Rank"
         ],
         "y": [
          88,
          116
         ]
        },
        {
         "hoverinfo": "text",
         "hovertext": "Guatemala<br>Education expenditure Rank: 89<br>Happiness Rank: 24<br>Mismatch: 65",
         "line": {
          "color": "#D81B60",
          "width": 2
         },
         "mode": "lines+markers",
         "name": "Guatemala",
         "type": "scatter",
         "visible": false,
         "x": [
          "Education expenditure Rank",
          "Happiness Rank"
         ],
         "y": [
          89,
          24
         ]
        },
        {
         "hoverinfo": "text",
         "hovertext": "Azerbaijan<br>Education expenditure Rank: 90<br>Happiness Rank: 72<br>Mismatch: 18",
         "line": {
          "color": "#1E88E5",
          "width": 2
         },
         "mode": "lines+markers",
         "name": "Azerbaijan",
         "type": "scatter",
         "visible": false,
         "x": [
          "Education expenditure Rank",
          "Happiness Rank"
         ],
         "y": [
          90,
          72
         ]
        },
        {
         "hoverinfo": "text",
         "hovertext": "Japan<br>Education expenditure Rank: 91<br>Happiness Rank: 49<br>Mismatch: 42",
         "line": {
          "color": "#D81B60",
          "width": 2
         },
         "mode": "lines+markers",
         "name": "Japan",
         "type": "scatter",
         "visible": false,
         "x": [
          "Education expenditure Rank",
          "Happiness Rank"
         ],
         "y": [
          91,
          49
         ]
        },
        {
         "hoverinfo": "text",
         "hovertext": "Ghana<br>Education expenditure Rank: 92<br>Happiness Rank: 80<br>Mismatch: 12",
         "line": {
          "color": "#1E88E5",
          "width": 2
         },
         "mode": "lines+markers",
         "name": "Ghana",
         "type": "scatter",
         "visible": false,
         "x": [
          "Education expenditure Rank",
          "Happiness Rank"
         ],
         "y": [
          92,
          80
         ]
        },
        {
         "hoverinfo": "text",
         "hovertext": "Turkmenistan<br>Education expenditure Rank: 93<br>Happiness Rank: 70<br>Mismatch: 23",
         "line": {
          "color": "#1E88E5",
          "width": 2
         },
         "mode": "lines+markers",
         "name": "Turkmenistan",
         "type": "scatter",
         "visible": false,
         "x": [
          "Education expenditure Rank",
          "Happiness Rank"
         ],
         "y": [
          93,
          70
         ]
        },
        {
         "hoverinfo": "text",
         "hovertext": "Panama<br>Education expenditure Rank: 94<br>Happiness Rank: 27<br>Mismatch: 67",
         "line": {
          "color": "#D81B60",
          "width": 2
         },
         "mode": "lines+markers",
         "name": "Panama",
         "type": "scatter",
         "visible": false,
         "x": [
          "Education expenditure Rank",
          "Happiness Rank"
         ],
         "y": [
          94,
          27
         ]
        },
        {
         "hoverinfo": "text",
         "hovertext": "Cameroon<br>Education expenditure Rank: 95<br>Happiness Rank: 78<br>Mismatch: 17",
         "line": {
          "color": "#1E88E5",
          "width": 2
         },
         "mode": "lines+markers",
         "name": "Cameroon",
         "type": "scatter",
         "visible": false,
         "x": [
          "Education expenditure Rank",
          "Happiness Rank"
         ],
         "y": [
          95,
          78
         ]
        },
        {
         "hoverinfo": "text",
         "hovertext": "Thailand<br>Education expenditure Rank: 96<br>Happiness Rank: 44<br>Mismatch: 52",
         "line": {
          "color": "#D81B60",
          "width": 2
         },
         "mode": "lines+markers",
         "name": "Thailand",
         "type": "scatter",
         "visible": false,
         "x": [
          "Education expenditure Rank",
          "Happiness Rank"
         ],
         "y": [
          96,
          44
         ]
        },
        {
         "hoverinfo": "text",
         "hovertext": "Madagascar<br>Education expenditure Rank: 97<br>Happiness Rank: 111<br>Mismatch: 14",
         "line": {
          "color": "#1E88E5",
          "width": 2
         },
         "mode": "lines+markers",
         "name": "Madagascar",
         "type": "scatter",
         "visible": false,
         "x": [
          "Education expenditure Rank",
          "Happiness Rank"
         ],
         "y": [
          97,
          111
         ]
        },
        {
         "hoverinfo": "text",
         "hovertext": "Jordan<br>Education expenditure Rank: 98<br>Happiness Rank: 82<br>Mismatch: 16",
         "line": {
          "color": "#1E88E5",
          "width": 2
         },
         "mode": "lines+markers",
         "name": "Jordan",
         "type": "scatter",
         "visible": false,
         "x": [
          "Education expenditure Rank",
          "Happiness Rank"
         ],
         "y": [
          98,
          82
         ]
        },
        {
         "hoverinfo": "text",
         "hovertext": "Benin<br>Education expenditure Rank: 99<br>Happiness Rank: 83<br>Mismatch: 16",
         "line": {
          "color": "#1E88E5",
          "width": 2
         },
         "mode": "lines+markers",
         "name": "Benin",
         "type": "scatter",
         "visible": false,
         "x": [
          "Education expenditure Rank",
          "Happiness Rank"
         ],
         "y": [
          99,
          83
         ]
        },
        {
         "hoverinfo": "text",
         "hovertext": "Gabon<br>Education expenditure Rank: 100<br>Happiness Rank: 84<br>Mismatch: 16",
         "line": {
          "color": "#1E88E5",
          "width": 2
         },
         "mode": "lines+markers",
         "name": "Gabon",
         "type": "scatter",
         "visible": false,
         "x": [
          "Education expenditure Rank",
          "Happiness Rank"
         ],
         "y": [
          100,
          84
         ]
        },
        {
         "hoverinfo": "text",
         "hovertext": "Cambodia<br>Education expenditure Rank: 101<br>Happiness Rank: 87<br>Mismatch: 14",
         "line": {
          "color": "#1E88E5",
          "width": 2
         },
         "mode": "lines+markers",
         "name": "Cambodia",
         "type": "scatter",
         "visible": false,
         "x": [
          "Education expenditure Rank",
          "Happiness Rank"
         ],
         "y": [
          101,
          87
         ]
        },
        {
         "hoverinfo": "text",
         "hovertext": "Qatar<br>Education expenditure Rank: 102<br>Happiness Rank: 25<br>Mismatch: 77",
         "line": {
          "color": "#D81B60",
          "width": 2
         },
         "mode": "lines+markers",
         "name": "Qatar",
         "type": "scatter",
         "visible": false,
         "x": [
          "Education expenditure Rank",
          "Happiness Rank"
         ],
         "y": [
          102,
          25
         ]
        },
        {
         "hoverinfo": "text",
         "hovertext": "Singapore<br>Education expenditure Rank: 103<br>Happiness Rank: 30<br>Mismatch: 73",
         "line": {
          "color": "#D81B60",
          "width": 2
         },
         "mode": "lines+markers",
         "name": "Singapore",
         "type": "scatter",
         "visible": false,
         "x": [
          "Education expenditure Rank",
          "Happiness Rank"
         ],
         "y": [
          103,
          30
         ]
        },
        {
         "hoverinfo": "text",
         "hovertext": "Lebanon<br>Education expenditure Rank: 104<br>Happiness Rank: 74<br>Mismatch: 30",
         "line": {
          "color": "#1E88E5",
          "width": 2
         },
         "mode": "lines+markers",
         "name": "Lebanon",
         "type": "scatter",
         "visible": false,
         "x": [
          "Education expenditure Rank",
          "Happiness Rank"
         ],
         "y": [
          104,
          74
         ]
        },
        {
         "hoverinfo": "text",
         "hovertext": "Armenia<br>Education expenditure Rank: 105<br>Happiness Rank: 92<br>Mismatch: 13",
         "line": {
          "color": "#1E88E5",
          "width": 2
         },
         "mode": "lines+markers",
         "name": "Armenia",
         "type": "scatter",
         "visible": false,
         "x": [
          "Education expenditure Rank",
          "Happiness Rank"
         ],
         "y": [
          105,
          92
         ]
        },
        {
         "hoverinfo": "text",
         "hovertext": "Bahrain<br>Education expenditure Rank: 106<br>Happiness Rank: 33<br>Mismatch: 73",
         "line": {
          "color": "#D81B60",
          "width": 2
         },
         "mode": "lines+markers",
         "name": "Bahrain",
         "type": "scatter",
         "visible": false,
         "x": [
          "Education expenditure Rank",
          "Happiness Rank"
         ],
         "y": [
          106,
          33
         ]
        },
        {
         "hoverinfo": "text",
         "hovertext": "Chad<br>Education expenditure Rank: 107<br>Happiness Rank: 103<br>Mismatch: 4",
         "line": {
          "color": "#1E88E5",
          "width": 2
         },
         "mode": "lines+markers",
         "name": "Chad",
         "type": "scatter",
         "visible": false,
         "x": [
          "Education expenditure Rank",
          "Happiness Rank"
         ],
         "y": [
          107,
          103
         ]
        },
        {
         "hoverinfo": "text",
         "hovertext": "Uganda<br>Education expenditure Rank: 108<br>Happiness Rank: 106<br>Mismatch: 2",
         "line": {
          "color": "#1E88E5",
          "width": 2
         },
         "mode": "lines+markers",
         "name": "Uganda",
         "type": "scatter",
         "visible": false,
         "x": [
          "Education expenditure Rank",
          "Happiness Rank"
         ],
         "y": [
          108,
          106
         ]
        },
        {
         "hoverinfo": "text",
         "hovertext": "Pakistan<br>Education expenditure Rank: 109<br>Happiness Rank: 57<br>Mismatch: 52",
         "line": {
          "color": "#D81B60",
          "width": 2
         },
         "mode": "lines+markers",
         "name": "Pakistan",
         "type": "scatter",
         "visible": false,
         "x": [
          "Education expenditure Rank",
          "Happiness Rank"
         ],
         "y": [
          109,
          57
         ]
        },
        {
         "hoverinfo": "text",
         "hovertext": "Liberia<br>Education expenditure Rank: 110<br>Happiness Rank: 110<br>Mismatch: 0",
         "line": {
          "color": "#1E88E5",
          "width": 2
         },
         "mode": "lines+markers",
         "name": "Liberia",
         "type": "scatter",
         "visible": false,
         "x": [
          "Education expenditure Rank",
          "Happiness Rank"
         ],
         "y": [
          110,
          110
         ]
        },
        {
         "hoverinfo": "text",
         "hovertext": "Myanmar<br>Education expenditure Rank: 111<br>Happiness Rank: 102<br>Mismatch: 9",
         "line": {
          "color": "#1E88E5",
          "width": 2
         },
         "mode": "lines+markers",
         "name": "Myanmar",
         "type": "scatter",
         "visible": false,
         "x": [
          "Education expenditure Rank",
          "Happiness Rank"
         ],
         "y": [
          111,
          102
         ]
        },
        {
         "hoverinfo": "text",
         "hovertext": "Guinea<br>Education expenditure Rank: 112<br>Happiness Rank: 93<br>Mismatch: 19",
         "line": {
          "color": "#1E88E5",
          "width": 2
         },
         "mode": "lines+markers",
         "name": "Guinea",
         "type": "scatter",
         "visible": false,
         "x": [
          "Education expenditure Rank",
          "Happiness Rank"
         ],
         "y": [
          112,
          93
         ]
        },
        {
         "hoverinfo": "text",
         "hovertext": "Mauritania<br>Education expenditure Rank: 113<br>Happiness Rank: 96<br>Mismatch: 17",
         "line": {
          "color": "#1E88E5",
          "width": 2
         },
         "mode": "lines+markers",
         "name": "Mauritania",
         "type": "scatter",
         "visible": false,
         "x": [
          "Education expenditure Rank",
          "Happiness Rank"
         ],
         "y": [
          113,
          96
         ]
        },
        {
         "hoverinfo": "text",
         "hovertext": "Central African Republic<br>Education expenditure Rank: 114<br>Happiness Rank: 118<br>Mismatch: 4",
         "line": {
          "color": "#1E88E5",
          "width": 2
         },
         "mode": "lines+markers",
         "name": "Central African Republic",
         "type": "scatter",
         "visible": false,
         "x": [
          "Education expenditure Rank",
          "Happiness Rank"
         ],
         "y": [
          114,
          118
         ]
        },
        {
         "hoverinfo": "text",
         "hovertext": "Haiti<br>Education expenditure Rank: 115<br>Happiness Rank: 114<br>Mismatch: 1",
         "line": {
          "color": "#1E88E5",
          "width": 2
         },
         "mode": "lines+markers",
         "name": "Haiti",
         "type": "scatter",
         "visible": false,
         "x": [
          "Education expenditure Rank",
          "Happiness Rank"
         ],
         "y": [
          115,
          114
         ]
        },
        {
         "hoverinfo": "text",
         "hovertext": "Bangladesh<br>Education expenditure Rank: 116<br>Happiness Rank: 99<br>Mismatch: 17",
         "line": {
          "color": "#1E88E5",
          "width": 2
         },
         "mode": "lines+markers",
         "name": "Bangladesh",
         "type": "scatter",
         "visible": false,
         "x": [
          "Education expenditure Rank",
          "Happiness Rank"
         ],
         "y": [
          116,
          99
         ]
        },
        {
         "hoverinfo": "text",
         "hovertext": "Indonesia<br>Education expenditure Rank: 117<br>Happiness Rank: 75<br>Mismatch: 42",
         "line": {
          "color": "#D81B60",
          "width": 2
         },
         "mode": "lines+markers",
         "name": "Indonesia",
         "type": "scatter",
         "visible": false,
         "x": [
          "Education expenditure Rank",
          "Happiness Rank"
         ],
         "y": [
          117,
          75
         ]
        },
        {
         "hoverinfo": "text",
         "hovertext": "Nigeria<br>Education expenditure Rank: 118<br>Happiness Rank: 69<br>Mismatch: 49",
         "line": {
          "color": "#D81B60",
          "width": 2
         },
         "mode": "lines+markers",
         "name": "Nigeria",
         "type": "scatter",
         "visible": false,
         "x": [
          "Education expenditure Rank",
          "Happiness Rank"
         ],
         "y": [
          118,
          69
         ]
        }
       ],
       "layout": {
        "annotations": [
         {
          "align": "left",
          "bgcolor": "#D81B60",
          "bordercolor": "black",
          "borderwidth": 1,
          "font": {
           "color": "white",
           "size": 12
          },
          "showarrow": false,
          "text": "Mismatch > 30:<br><b>25</b>",
          "x": 1.05,
          "xref": "paper",
          "y": 1.05,
          "yref": "paper"
         }
        ],
        "height": 800,
        "margin": {
         "b": 80,
         "l": 80,
         "r": 100,
         "t": 80
        },
        "paper_bgcolor": "#EDF1EC",
        "plot_bgcolor": "#EDF1EC",
        "showlegend": false,
        "sliders": [
         {
          "active": 0,
          "currentvalue": {
           "prefix": "Metric: "
          },
          "len": 0.9,
          "pad": {
           "t": 50
          },
          "steps": [
           {
            "args": [
             {
              "visible": [
               true,
               true,
               true,
               true,
               true,
               true,
               true,
               true,
               true,
               true,
               true,
               true,
               true,
               true,
               true,
               true,
               true,
               true,
               true,
               true,
               true,
               true,
               true,
               true,
               true,
               true,
               true,
               true,
               true,
               true,
               true,
               true,
               true,
               true,
               true,
               true,
               true,
               true,
               true,
               true,
               true,
               true,
               true,
               true,
               true,
               true,
               true,
               true,
               true,
               true,
               true,
               true,
               true,
               true,
               true,
               true,
               true,
               true,
               true,
               true,
               true,
               true,
               true,
               true,
               true,
               true,
               true,
               true,
               true,
               true,
               true,
               true,
               true,
               true,
               true,
               true,
               true,
               true,
               true,
               true,
               true,
               true,
               true,
               true,
               true,
               true,
               true,
               true,
               true,
               true,
               true,
               true,
               true,
               true,
               true,
               true,
               true,
               true,
               true,
               true,
               true,
               true,
               true,
               true,
               true,
               true,
               true,
               true,
               true,
               true,
               true,
               true,
               true,
               true,
               true,
               true,
               true,
               true,
               true,
               true,
               true,
               true,
               true,
               true,
               true,
               true,
               true,
               true,
               true,
               true,
               true,
               true,
               true,
               false,
               false,
               false,
               false,
               false,
               false,
               false,
               false,
               false,
               false,
               false,
               false,
               false,
               false,
               false,
               false,
               false,
               false,
               false,
               false,
               false,
               false,
               false,
               false,
               false,
               false,
               false,
               false,
               false,
               false,
               false,
               false,
               false,
               false,
               false,
               false,
               false,
               false,
               false,
               false,
               false,
               false,
               false,
               false,
               false,
               false,
               false,
               false,
               false,
               false,
               false,
               false,
               false,
               false,
               false,
               false,
               false,
               false,
               false,
               false,
               false,
               false,
               false,
               false,
               false,
               false,
               false,
               false,
               false,
               false,
               false,
               false,
               false,
               false,
               false,
               false,
               false,
               false,
               false,
               false,
               false,
               false,
               false,
               false,
               false,
               false,
               false,
               false,
               false,
               false,
               false,
               false,
               false,
               false,
               false,
               false,
               false,
               false,
               false,
               false,
               false,
               false,
               false,
               false,
               false,
               false,
               false,
               false,
               false,
               false,
               false,
               false,
               false,
               false,
               false,
               false,
               false,
               false,
               false,
               false,
               false,
               false,
               false,
               false,
               false,
               false,
               false,
               false,
               false,
               false,
               false,
               false,
               false,
               false,
               false,
               false,
               false,
               false,
               false,
               false,
               false,
               false,
               false,
               false,
               false,
               false,
               false,
               false,
               false,
               false,
               false,
               false,
               false,
               false,
               false,
               false,
               false,
               false,
               false,
               false,
               false,
               false,
               false,
               false,
               false,
               false,
               false,
               false,
               false,
               false,
               false,
               false,
               false,
               false,
               false,
               false,
               false,
               false,
               false,
               false,
               false,
               false,
               false,
               false,
               false,
               false,
               false,
               false,
               false,
               false,
               false,
               false,
               false,
               false,
               false,
               false,
               false,
               false,
               false,
               false,
               false,
               false,
               false,
               false,
               false,
               false,
               false,
               false,
               false,
               false,
               false,
               false,
               false,
               false,
               false,
               false,
               false,
               false,
               false,
               false,
               false,
               false
              ]
             },
             {
              "annotations": [
               {
                "align": "left",
                "bgcolor": "#D81B60",
                "bordercolor": "black",
                "borderwidth": 1,
                "font": {
                 "color": "white",
                 "size": 12
                },
                "showarrow": false,
                "text": "Mismatch > 30:<br><b>25</b>",
                "x": 1.05,
                "xref": "paper",
                "y": 1.05,
                "yref": "paper"
               }
              ],
              "title": "Life expectancy vs Happiness Rankings",
              "xaxis": {
               "tickvals": [
                "Life expectancy Rank",
                "Happiness Rank"
               ],
               "title": ""
              },
              "yaxis": {
               "autorange": "reversed",
               "title": "Rank (1 = Best)"
              }
             }
            ],
            "label": "Life expectancy",
            "method": "update"
           },
           {
            "args": [
             {
              "visible": [
               false,
               false,
               false,
               false,
               false,
               false,
               false,
               false,
               false,
               false,
               false,
               false,
               false,
               false,
               false,
               false,
               false,
               false,
               false,
               false,
               false,
               false,
               false,
               false,
               false,
               false,
               false,
               false,
               false,
               false,
               false,
               false,
               false,
               false,
               false,
               false,
               false,
               false,
               false,
               false,
               false,
               false,
               false,
               false,
               false,
               false,
               false,
               false,
               false,
               false,
               false,
               false,
               false,
               false,
               false,
               false,
               false,
               false,
               false,
               false,
               false,
               false,
               false,
               false,
               false,
               false,
               false,
               false,
               false,
               false,
               false,
               false,
               false,
               false,
               false,
               false,
               false,
               false,
               false,
               false,
               false,
               false,
               false,
               false,
               false,
               false,
               false,
               false,
               false,
               false,
               false,
               false,
               false,
               false,
               false,
               false,
               false,
               false,
               false,
               false,
               false,
               false,
               false,
               false,
               false,
               false,
               false,
               false,
               false,
               false,
               false,
               false,
               false,
               false,
               false,
               false,
               false,
               false,
               false,
               false,
               false,
               false,
               false,
               false,
               false,
               false,
               false,
               false,
               false,
               false,
               false,
               false,
               false,
               true,
               true,
               true,
               true,
               true,
               true,
               true,
               true,
               true,
               true,
               true,
               true,
               true,
               true,
               true,
               true,
               true,
               true,
               true,
               true,
               true,
               true,
               true,
               true,
               true,
               true,
               true,
               true,
               true,
               true,
               true,
               true,
               true,
               true,
               true,
               true,
               true,
               true,
               true,
               true,
               true,
               true,
               true,
               true,
               true,
               true,
               true,
               true,
               true,
               true,
               true,
               true,
               true,
               true,
               true,
               true,
               true,
               true,
               true,
               true,
               true,
               true,
               true,
               true,
               true,
               true,
               true,
               true,
               true,
               true,
               true,
               true,
               true,
               true,
               true,
               true,
               true,
               true,
               true,
               true,
               true,
               true,
               true,
               true,
               true,
               true,
               true,
               true,
               true,
               true,
               true,
               true,
               true,
               true,
               true,
               true,
               true,
               true,
               true,
               true,
               true,
               true,
               true,
               true,
               false,
               false,
               false,
               false,
               false,
               false,
               false,
               false,
               false,
               false,
               false,
               false,
               false,
               false,
               false,
               false,
               false,
               false,
               false,
               false,
               false,
               false,
               false,
               false,
               false,
               false,
               false,
               false,
               false,
               false,
               false,
               false,
               false,
               false,
               false,
               false,
               false,
               false,
               false,
               false,
               false,
               false,
               false,
               false,
               false,
               false,
               false,
               false,
               false,
               false,
               false,
               false,
               false,
               false,
               false,
               false,
               false,
               false,
               false,
               false,
               false,
               false,
               false,
               false,
               false,
               false,
               false,
               false,
               false,
               false,
               false,
               false,
               false,
               false,
               false,
               false,
               false,
               false,
               false,
               false,
               false,
               false,
               false,
               false,
               false,
               false,
               false,
               false,
               false,
               false,
               false,
               false,
               false,
               false,
               false,
               false,
               false,
               false,
               false,
               false,
               false,
               false,
               false,
               false,
               false,
               false,
               false,
               false,
               false,
               false,
               false,
               false,
               false,
               false,
               false,
               false,
               false,
               false
              ]
             },
             {
              "annotations": [
               {
                "align": "left",
                "bgcolor": "#D81B60",
                "bordercolor": "black",
                "borderwidth": 1,
                "font": {
                 "color": "white",
                 "size": 12
                },
                "showarrow": false,
                "text": "Mismatch > 30:<br><b>47</b>",
                "x": 1.05,
                "xref": "paper",
                "y": 1.05,
                "yref": "paper"
               }
              ],
              "title": "Unemployment rate vs Happiness Rankings",
              "xaxis": {
               "tickvals": [
                "Unemployment rate Rank",
                "Happiness Rank"
               ],
               "title": ""
              },
              "yaxis": {
               "autorange": "reversed",
               "title": "Rank (1 = Best)"
              }
             }
            ],
            "label": "Unemployment rate",
            "method": "update"
           },
           {
            "args": [
             {
              "visible": [
               false,
               false,
               false,
               false,
               false,
               false,
               false,
               false,
               false,
               false,
               false,
               false,
               false,
               false,
               false,
               false,
               false,
               false,
               false,
               false,
               false,
               false,
               false,
               false,
               false,
               false,
               false,
               false,
               false,
               false,
               false,
               false,
               false,
               false,
               false,
               false,
               false,
               false,
               false,
               false,
               false,
               false,
               false,
               false,
               false,
               false,
               false,
               false,
               false,
               false,
               false,
               false,
               false,
               false,
               false,
               false,
               false,
               false,
               false,
               false,
               false,
               false,
               false,
               false,
               false,
               false,
               false,
               false,
               false,
               false,
               false,
               false,
               false,
               false,
               false,
               false,
               false,
               false,
               false,
               false,
               false,
               false,
               false,
               false,
               false,
               false,
               false,
               false,
               false,
               false,
               false,
               false,
               false,
               false,
               false,
               false,
               false,
               false,
               false,
               false,
               false,
               false,
               false,
               false,
               false,
               false,
               false,
               false,
               false,
               false,
               false,
               false,
               false,
               false,
               false,
               false,
               false,
               false,
               false,
               false,
               false,
               false,
               false,
               false,
               false,
               false,
               false,
               false,
               false,
               false,
               false,
               false,
               false,
               false,
               false,
               false,
               false,
               false,
               false,
               false,
               false,
               false,
               false,
               false,
               false,
               false,
               false,
               false,
               false,
               false,
               false,
               false,
               false,
               false,
               false,
               false,
               false,
               false,
               false,
               false,
               false,
               false,
               false,
               false,
               false,
               false,
               false,
               false,
               false,
               false,
               false,
               false,
               false,
               false,
               false,
               false,
               false,
               false,
               false,
               false,
               false,
               false,
               false,
               false,
               false,
               false,
               false,
               false,
               false,
               false,
               false,
               false,
               false,
               false,
               false,
               false,
               false,
               false,
               false,
               false,
               false,
               false,
               false,
               false,
               false,
               false,
               false,
               false,
               false,
               false,
               false,
               false,
               false,
               false,
               false,
               false,
               false,
               false,
               false,
               false,
               false,
               false,
               false,
               false,
               false,
               false,
               false,
               false,
               false,
               false,
               false,
               false,
               false,
               false,
               false,
               false,
               false,
               true,
               true,
               true,
               true,
               true,
               true,
               true,
               true,
               true,
               true,
               true,
               true,
               true,
               true,
               true,
               true,
               true,
               true,
               true,
               true,
               true,
               true,
               true,
               true,
               true,
               true,
               true,
               true,
               true,
               true,
               true,
               true,
               true,
               true,
               true,
               true,
               true,
               true,
               true,
               true,
               true,
               true,
               true,
               true,
               true,
               true,
               true,
               true,
               true,
               true,
               true,
               true,
               true,
               true,
               true,
               true,
               true,
               true,
               true,
               true,
               true,
               true,
               true,
               true,
               true,
               true,
               true,
               true,
               true,
               true,
               true,
               true,
               true,
               true,
               true,
               true,
               true,
               true,
               true,
               true,
               true,
               true,
               true,
               true,
               true,
               true,
               true,
               true,
               true,
               true,
               true,
               true,
               true,
               true,
               true,
               true,
               true,
               true,
               true,
               true,
               true,
               true,
               true,
               true,
               true,
               true,
               true,
               true,
               true,
               true,
               true,
               true,
               true,
               true,
               true,
               true,
               true,
               true
              ]
             },
             {
              "annotations": [
               {
                "align": "left",
                "bgcolor": "#D81B60",
                "bordercolor": "black",
                "borderwidth": 1,
                "font": {
                 "color": "white",
                 "size": 12
                },
                "showarrow": false,
                "text": "Mismatch > 30:<br><b>44</b>",
                "x": 1.05,
                "xref": "paper",
                "y": 1.05,
                "yref": "paper"
               }
              ],
              "title": "Education expenditure vs Happiness Rankings",
              "xaxis": {
               "tickvals": [
                "Education expenditure Rank",
                "Happiness Rank"
               ],
               "title": ""
              },
              "yaxis": {
               "autorange": "reversed",
               "title": "Rank (1 = Best)"
              }
             }
            ],
            "label": "Education expenditure",
            "method": "update"
           }
          ],
          "x": 0.1,
          "xanchor": "left"
         }
        ],
        "template": {
         "data": {
          "bar": [
           {
            "error_x": {
             "color": "#2a3f5f"
            },
            "error_y": {
             "color": "#2a3f5f"
            },
            "marker": {
             "line": {
              "color": "#E5ECF6",
              "width": 0.5
             },
             "pattern": {
              "fillmode": "overlay",
              "size": 10,
              "solidity": 0.2
             }
            },
            "type": "bar"
           }
          ],
          "barpolar": [
           {
            "marker": {
             "line": {
              "color": "#E5ECF6",
              "width": 0.5
             },
             "pattern": {
              "fillmode": "overlay",
              "size": 10,
              "solidity": 0.2
             }
            },
            "type": "barpolar"
           }
          ],
          "carpet": [
           {
            "aaxis": {
             "endlinecolor": "#2a3f5f",
             "gridcolor": "white",
             "linecolor": "white",
             "minorgridcolor": "white",
             "startlinecolor": "#2a3f5f"
            },
            "baxis": {
             "endlinecolor": "#2a3f5f",
             "gridcolor": "white",
             "linecolor": "white",
             "minorgridcolor": "white",
             "startlinecolor": "#2a3f5f"
            },
            "type": "carpet"
           }
          ],
          "choropleth": [
           {
            "colorbar": {
             "outlinewidth": 0,
             "ticks": ""
            },
            "type": "choropleth"
           }
          ],
          "contour": [
           {
            "colorbar": {
             "outlinewidth": 0,
             "ticks": ""
            },
            "colorscale": [
             [
              0,
              "#0d0887"
             ],
             [
              0.1111111111111111,
              "#46039f"
             ],
             [
              0.2222222222222222,
              "#7201a8"
             ],
             [
              0.3333333333333333,
              "#9c179e"
             ],
             [
              0.4444444444444444,
              "#bd3786"
             ],
             [
              0.5555555555555556,
              "#d8576b"
             ],
             [
              0.6666666666666666,
              "#ed7953"
             ],
             [
              0.7777777777777778,
              "#fb9f3a"
             ],
             [
              0.8888888888888888,
              "#fdca26"
             ],
             [
              1,
              "#f0f921"
             ]
            ],
            "type": "contour"
           }
          ],
          "contourcarpet": [
           {
            "colorbar": {
             "outlinewidth": 0,
             "ticks": ""
            },
            "type": "contourcarpet"
           }
          ],
          "heatmap": [
           {
            "colorbar": {
             "outlinewidth": 0,
             "ticks": ""
            },
            "colorscale": [
             [
              0,
              "#0d0887"
             ],
             [
              0.1111111111111111,
              "#46039f"
             ],
             [
              0.2222222222222222,
              "#7201a8"
             ],
             [
              0.3333333333333333,
              "#9c179e"
             ],
             [
              0.4444444444444444,
              "#bd3786"
             ],
             [
              0.5555555555555556,
              "#d8576b"
             ],
             [
              0.6666666666666666,
              "#ed7953"
             ],
             [
              0.7777777777777778,
              "#fb9f3a"
             ],
             [
              0.8888888888888888,
              "#fdca26"
             ],
             [
              1,
              "#f0f921"
             ]
            ],
            "type": "heatmap"
           }
          ],
          "histogram": [
           {
            "marker": {
             "pattern": {
              "fillmode": "overlay",
              "size": 10,
              "solidity": 0.2
             }
            },
            "type": "histogram"
           }
          ],
          "histogram2d": [
           {
            "colorbar": {
             "outlinewidth": 0,
             "ticks": ""
            },
            "colorscale": [
             [
              0,
              "#0d0887"
             ],
             [
              0.1111111111111111,
              "#46039f"
             ],
             [
              0.2222222222222222,
              "#7201a8"
             ],
             [
              0.3333333333333333,
              "#9c179e"
             ],
             [
              0.4444444444444444,
              "#bd3786"
             ],
             [
              0.5555555555555556,
              "#d8576b"
             ],
             [
              0.6666666666666666,
              "#ed7953"
             ],
             [
              0.7777777777777778,
              "#fb9f3a"
             ],
             [
              0.8888888888888888,
              "#fdca26"
             ],
             [
              1,
              "#f0f921"
             ]
            ],
            "type": "histogram2d"
           }
          ],
          "histogram2dcontour": [
           {
            "colorbar": {
             "outlinewidth": 0,
             "ticks": ""
            },
            "colorscale": [
             [
              0,
              "#0d0887"
             ],
             [
              0.1111111111111111,
              "#46039f"
             ],
             [
              0.2222222222222222,
              "#7201a8"
             ],
             [
              0.3333333333333333,
              "#9c179e"
             ],
             [
              0.4444444444444444,
              "#bd3786"
             ],
             [
              0.5555555555555556,
              "#d8576b"
             ],
             [
              0.6666666666666666,
              "#ed7953"
             ],
             [
              0.7777777777777778,
              "#fb9f3a"
             ],
             [
              0.8888888888888888,
              "#fdca26"
             ],
             [
              1,
              "#f0f921"
             ]
            ],
            "type": "histogram2dcontour"
           }
          ],
          "mesh3d": [
           {
            "colorbar": {
             "outlinewidth": 0,
             "ticks": ""
            },
            "type": "mesh3d"
           }
          ],
          "parcoords": [
           {
            "line": {
             "colorbar": {
              "outlinewidth": 0,
              "ticks": ""
             }
            },
            "type": "parcoords"
           }
          ],
          "pie": [
           {
            "automargin": true,
            "type": "pie"
           }
          ],
          "scatter": [
           {
            "fillpattern": {
             "fillmode": "overlay",
             "size": 10,
             "solidity": 0.2
            },
            "type": "scatter"
           }
          ],
          "scatter3d": [
           {
            "line": {
             "colorbar": {
              "outlinewidth": 0,
              "ticks": ""
             }
            },
            "marker": {
             "colorbar": {
              "outlinewidth": 0,
              "ticks": ""
             }
            },
            "type": "scatter3d"
           }
          ],
          "scattercarpet": [
           {
            "marker": {
             "colorbar": {
              "outlinewidth": 0,
              "ticks": ""
             }
            },
            "type": "scattercarpet"
           }
          ],
          "scattergeo": [
           {
            "marker": {
             "colorbar": {
              "outlinewidth": 0,
              "ticks": ""
             }
            },
            "type": "scattergeo"
           }
          ],
          "scattergl": [
           {
            "marker": {
             "colorbar": {
              "outlinewidth": 0,
              "ticks": ""
             }
            },
            "type": "scattergl"
           }
          ],
          "scattermap": [
           {
            "marker": {
             "colorbar": {
              "outlinewidth": 0,
              "ticks": ""
             }
            },
            "type": "scattermap"
           }
          ],
          "scattermapbox": [
           {
            "marker": {
             "colorbar": {
              "outlinewidth": 0,
              "ticks": ""
             }
            },
            "type": "scattermapbox"
           }
          ],
          "scatterpolar": [
           {
            "marker": {
             "colorbar": {
              "outlinewidth": 0,
              "ticks": ""
             }
            },
            "type": "scatterpolar"
           }
          ],
          "scatterpolargl": [
           {
            "marker": {
             "colorbar": {
              "outlinewidth": 0,
              "ticks": ""
             }
            },
            "type": "scatterpolargl"
           }
          ],
          "scatterternary": [
           {
            "marker": {
             "colorbar": {
              "outlinewidth": 0,
              "ticks": ""
             }
            },
            "type": "scatterternary"
           }
          ],
          "surface": [
           {
            "colorbar": {
             "outlinewidth": 0,
             "ticks": ""
            },
            "colorscale": [
             [
              0,
              "#0d0887"
             ],
             [
              0.1111111111111111,
              "#46039f"
             ],
             [
              0.2222222222222222,
              "#7201a8"
             ],
             [
              0.3333333333333333,
              "#9c179e"
             ],
             [
              0.4444444444444444,
              "#bd3786"
             ],
             [
              0.5555555555555556,
              "#d8576b"
             ],
             [
              0.6666666666666666,
              "#ed7953"
             ],
             [
              0.7777777777777778,
              "#fb9f3a"
             ],
             [
              0.8888888888888888,
              "#fdca26"
             ],
             [
              1,
              "#f0f921"
             ]
            ],
            "type": "surface"
           }
          ],
          "table": [
           {
            "cells": {
             "fill": {
              "color": "#EBF0F8"
             },
             "line": {
              "color": "white"
             }
            },
            "header": {
             "fill": {
              "color": "#C8D4E3"
             },
             "line": {
              "color": "white"
             }
            },
            "type": "table"
           }
          ]
         },
         "layout": {
          "annotationdefaults": {
           "arrowcolor": "#2a3f5f",
           "arrowhead": 0,
           "arrowwidth": 1
          },
          "autotypenumbers": "strict",
          "coloraxis": {
           "colorbar": {
            "outlinewidth": 0,
            "ticks": ""
           }
          },
          "colorscale": {
           "diverging": [
            [
             0,
             "#8e0152"
            ],
            [
             0.1,
             "#c51b7d"
            ],
            [
             0.2,
             "#de77ae"
            ],
            [
             0.3,
             "#f1b6da"
            ],
            [
             0.4,
             "#fde0ef"
            ],
            [
             0.5,
             "#f7f7f7"
            ],
            [
             0.6,
             "#e6f5d0"
            ],
            [
             0.7,
             "#b8e186"
            ],
            [
             0.8,
             "#7fbc41"
            ],
            [
             0.9,
             "#4d9221"
            ],
            [
             1,
             "#276419"
            ]
           ],
           "sequential": [
            [
             0,
             "#0d0887"
            ],
            [
             0.1111111111111111,
             "#46039f"
            ],
            [
             0.2222222222222222,
             "#7201a8"
            ],
            [
             0.3333333333333333,
             "#9c179e"
            ],
            [
             0.4444444444444444,
             "#bd3786"
            ],
            [
             0.5555555555555556,
             "#d8576b"
            ],
            [
             0.6666666666666666,
             "#ed7953"
            ],
            [
             0.7777777777777778,
             "#fb9f3a"
            ],
            [
             0.8888888888888888,
             "#fdca26"
            ],
            [
             1,
             "#f0f921"
            ]
           ],
           "sequentialminus": [
            [
             0,
             "#0d0887"
            ],
            [
             0.1111111111111111,
             "#46039f"
            ],
            [
             0.2222222222222222,
             "#7201a8"
            ],
            [
             0.3333333333333333,
             "#9c179e"
            ],
            [
             0.4444444444444444,
             "#bd3786"
            ],
            [
             0.5555555555555556,
             "#d8576b"
            ],
            [
             0.6666666666666666,
             "#ed7953"
            ],
            [
             0.7777777777777778,
             "#fb9f3a"
            ],
            [
             0.8888888888888888,
             "#fdca26"
            ],
            [
             1,
             "#f0f921"
            ]
           ]
          },
          "colorway": [
           "#636efa",
           "#EF553B",
           "#00cc96",
           "#ab63fa",
           "#FFA15A",
           "#19d3f3",
           "#FF6692",
           "#B6E880",
           "#FF97FF",
           "#FECB52"
          ],
          "font": {
           "color": "#2a3f5f"
          },
          "geo": {
           "bgcolor": "white",
           "lakecolor": "white",
           "landcolor": "#E5ECF6",
           "showlakes": true,
           "showland": true,
           "subunitcolor": "white"
          },
          "hoverlabel": {
           "align": "left"
          },
          "hovermode": "closest",
          "mapbox": {
           "style": "light"
          },
          "paper_bgcolor": "white",
          "plot_bgcolor": "#E5ECF6",
          "polar": {
           "angularaxis": {
            "gridcolor": "white",
            "linecolor": "white",
            "ticks": ""
           },
           "bgcolor": "#E5ECF6",
           "radialaxis": {
            "gridcolor": "white",
            "linecolor": "white",
            "ticks": ""
           }
          },
          "scene": {
           "xaxis": {
            "backgroundcolor": "#E5ECF6",
            "gridcolor": "white",
            "gridwidth": 2,
            "linecolor": "white",
            "showbackground": true,
            "ticks": "",
            "zerolinecolor": "white"
           },
           "yaxis": {
            "backgroundcolor": "#E5ECF6",
            "gridcolor": "white",
            "gridwidth": 2,
            "linecolor": "white",
            "showbackground": true,
            "ticks": "",
            "zerolinecolor": "white"
           },
           "zaxis": {
            "backgroundcolor": "#E5ECF6",
            "gridcolor": "white",
            "gridwidth": 2,
            "linecolor": "white",
            "showbackground": true,
            "ticks": "",
            "zerolinecolor": "white"
           }
          },
          "shapedefaults": {
           "line": {
            "color": "#2a3f5f"
           }
          },
          "ternary": {
           "aaxis": {
            "gridcolor": "white",
            "linecolor": "white",
            "ticks": ""
           },
           "baxis": {
            "gridcolor": "white",
            "linecolor": "white",
            "ticks": ""
           },
           "bgcolor": "#E5ECF6",
           "caxis": {
            "gridcolor": "white",
            "linecolor": "white",
            "ticks": ""
           }
          },
          "title": {
           "x": 0.05
          },
          "xaxis": {
           "automargin": true,
           "gridcolor": "white",
           "linecolor": "white",
           "ticks": "",
           "title": {
            "standoff": 15
           },
           "zerolinecolor": "white",
           "zerolinewidth": 2
          },
          "yaxis": {
           "automargin": true,
           "gridcolor": "white",
           "linecolor": "white",
           "ticks": "",
           "title": {
            "standoff": 15
           },
           "zerolinecolor": "white",
           "zerolinewidth": 2
          }
         }
        },
        "title": {
         "text": "Life expectancy vs Happiness Rankings"
        },
        "width": 750,
        "xaxis": {
         "tickvals": [
          "Life expectancy Rank",
          "Happiness Rank"
         ],
         "title": {
          "text": ""
         }
        },
        "yaxis": {
         "autorange": "reversed"
        }
       }
      },
      "text/html": [
       "<div>            <script src=\"https://cdnjs.cloudflare.com/ajax/libs/mathjax/2.7.5/MathJax.js?config=TeX-AMS-MML_SVG\"></script><script type=\"text/javascript\">if (window.MathJax && window.MathJax.Hub && window.MathJax.Hub.Config) {window.MathJax.Hub.Config({SVG: {font: \"STIX-Web\"}});}</script>                <script type=\"text/javascript\">window.PlotlyConfig = {MathJaxConfig: 'local'};</script>\n",
       "        <script charset=\"utf-8\" src=\"https://cdn.plot.ly/plotly-3.0.1.min.js\"></script>                <div id=\"2dbc6c4d-25eb-468f-a8b3-e250b558cf81\" class=\"plotly-graph-div\" style=\"height:800px; width:750px;\"></div>            <script type=\"text/javascript\">                window.PLOTLYENV=window.PLOTLYENV || {};                                if (document.getElementById(\"2dbc6c4d-25eb-468f-a8b3-e250b558cf81\")) {                    Plotly.newPlot(                        \"2dbc6c4d-25eb-468f-a8b3-e250b558cf81\",                        [{\"hoverinfo\":\"text\",\"hovertext\":\"Japan\\u003cbr\\u003eLife expectancy Rank: 1\\u003cbr\\u003eHappiness Rank: 53\\u003cbr\\u003eMismatch: 52\",\"line\":{\"color\":\"#D81B60\",\"width\":2},\"mode\":\"lines+markers\",\"name\":\"Japan\",\"x\":[\"Life expectancy Rank\",\"Happiness Rank\"],\"y\":[1,53],\"type\":\"scatter\"},{\"hoverinfo\":\"text\",\"hovertext\":\"Switzerland\\u003cbr\\u003eLife expectancy Rank: 2\\u003cbr\\u003eHappiness Rank: 6\\u003cbr\\u003eMismatch: 4\",\"line\":{\"color\":\"#1E88E5\",\"width\":2},\"mode\":\"lines+markers\",\"name\":\"Switzerland\",\"x\":[\"Life expectancy Rank\",\"Happiness Rank\"],\"y\":[2,6],\"type\":\"scatter\"},{\"hoverinfo\":\"text\",\"hovertext\":\"Spain\\u003cbr\\u003eLife expectancy Rank: 3\\u003cbr\\u003eHappiness Rank: 28\\u003cbr\\u003eMismatch: 25\",\"line\":{\"color\":\"#D81B60\",\"width\":2},\"mode\":\"lines+markers\",\"name\":\"Spain\",\"x\":[\"Life expectancy Rank\",\"Happiness Rank\"],\"y\":[3,28],\"type\":\"scatter\"},{\"hoverinfo\":\"text\",\"hovertext\":\"Singapore\\u003cbr\\u003eLife expectancy Rank: 4\\u003cbr\\u003eHappiness Rank: 32\\u003cbr\\u003eMismatch: 28\",\"line\":{\"color\":\"#D81B60\",\"width\":2},\"mode\":\"lines+markers\",\"name\":\"Singapore\",\"x\":[\"Life expectancy Rank\",\"Happiness Rank\"],\"y\":[4,32],\"type\":\"scatter\"},{\"hoverinfo\":\"text\",\"hovertext\":\"Italy\\u003cbr\\u003eLife expectancy Rank: 5\\u003cbr\\u003eHappiness Rank: 34\\u003cbr\\u003eMismatch: 29\",\"line\":{\"color\":\"#D81B60\",\"width\":2},\"mode\":\"lines+markers\",\"name\":\"Italy\",\"x\":[\"Life expectancy Rank\",\"Happiness Rank\"],\"y\":[5,34],\"type\":\"scatter\"},{\"hoverinfo\":\"text\",\"hovertext\":\"Iceland\\u003cbr\\u003eLife expectancy Rank: 6\\u003cbr\\u003eHappiness Rank: 4\\u003cbr\\u003eMismatch: 2\",\"line\":{\"color\":\"#1E88E5\",\"width\":2},\"mode\":\"lines+markers\",\"name\":\"Iceland\",\"x\":[\"Life expectancy Rank\",\"Happiness Rank\"],\"y\":[6,4],\"type\":\"scatter\"},{\"hoverinfo\":\"text\",\"hovertext\":\"Sweden\\u003cbr\\u003eLife expectancy Rank: 7\\u003cbr\\u003eHappiness Rank: 7\\u003cbr\\u003eMismatch: 0\",\"line\":{\"color\":\"#1E88E5\",\"width\":2},\"mode\":\"lines+markers\",\"name\":\"Sweden\",\"x\":[\"Life expectancy Rank\",\"Happiness Rank\"],\"y\":[7,7],\"type\":\"scatter\"},{\"hoverinfo\":\"text\",\"hovertext\":\"Norway\\u003cbr\\u003eLife expectancy Rank: 8\\u003cbr\\u003eHappiness Rank: 3\\u003cbr\\u003eMismatch: 5\",\"line\":{\"color\":\"#1E88E5\",\"width\":2},\"mode\":\"lines+markers\",\"name\":\"Norway\",\"x\":[\"Life expectancy Rank\",\"Happiness Rank\"],\"y\":[8,3],\"type\":\"scatter\"},{\"hoverinfo\":\"text\",\"hovertext\":\"Qatar\\u003cbr\\u003eLife expectancy Rank: 9\\u003cbr\\u003eHappiness Rank: 27\\u003cbr\\u003eMismatch: 18\",\"line\":{\"color\":\"#D81B60\",\"width\":2},\"mode\":\"lines+markers\",\"name\":\"Qatar\",\"x\":[\"Life expectancy Rank\",\"Happiness Rank\"],\"y\":[9,27],\"type\":\"scatter\"},{\"hoverinfo\":\"text\",\"hovertext\":\"Australia\\u003cbr\\u003eLife expectancy Rank: 10\\u003cbr\\u003eHappiness Rank: 11\\u003cbr\\u003eMismatch: 1\",\"line\":{\"color\":\"#1E88E5\",\"width\":2},\"mode\":\"lines+markers\",\"name\":\"Australia\",\"x\":[\"Life expectancy Rank\",\"Happiness Rank\"],\"y\":[10,11],\"type\":\"scatter\"},{\"hoverinfo\":\"text\",\"hovertext\":\"France\\u003cbr\\u003eLife expectancy Rank: 11\\u003cbr\\u003eHappiness Rank: 23\\u003cbr\\u003eMismatch: 12\",\"line\":{\"color\":\"#1E88E5\",\"width\":2},\"mode\":\"lines+markers\",\"name\":\"France\",\"x\":[\"Life expectancy Rank\",\"Happiness Rank\"],\"y\":[11,23],\"type\":\"scatter\"},{\"hoverinfo\":\"text\",\"hovertext\":\"Israel\\u003cbr\\u003eLife expectancy Rank: 12\\u003cbr\\u003eHappiness Rank: 13\\u003cbr\\u003eMismatch: 1\",\"line\":{\"color\":\"#1E88E5\",\"width\":2},\"mode\":\"lines+markers\",\"name\":\"Israel\",\"x\":[\"Life expectancy Rank\",\"Happiness Rank\"],\"y\":[12,13],\"type\":\"scatter\"},{\"hoverinfo\":\"text\",\"hovertext\":\"Ireland\\u003cbr\\u003eLife expectancy Rank: 13\\u003cbr\\u003eHappiness Rank: 16\\u003cbr\\u003eMismatch: 3\",\"line\":{\"color\":\"#1E88E5\",\"width\":2},\"mode\":\"lines+markers\",\"name\":\"Ireland\",\"x\":[\"Life expectancy Rank\",\"Happiness Rank\"],\"y\":[13,16],\"type\":\"scatter\"},{\"hoverinfo\":\"text\",\"hovertext\":\"Malta\\u003cbr\\u003eLife expectancy Rank: 14\\u003cbr\\u003eHappiness Rank: 21\\u003cbr\\u003eMismatch: 7\",\"line\":{\"color\":\"#1E88E5\",\"width\":2},\"mode\":\"lines+markers\",\"name\":\"Malta\",\"x\":[\"Life expectancy Rank\",\"Happiness Rank\"],\"y\":[14,21],\"type\":\"scatter\"},{\"hoverinfo\":\"text\",\"hovertext\":\"Luxembourg\\u003cbr\\u003eLife expectancy Rank: 15\\u003cbr\\u003eHappiness Rank: 14\\u003cbr\\u003eMismatch: 1\",\"line\":{\"color\":\"#1E88E5\",\"width\":2},\"mode\":\"lines+markers\",\"name\":\"Luxembourg\",\"x\":[\"Life expectancy Rank\",\"Happiness Rank\"],\"y\":[15,14],\"type\":\"scatter\"},{\"hoverinfo\":\"text\",\"hovertext\":\"United Arab Emirates\\u003cbr\\u003eLife expectancy Rank: 16\\u003cbr\\u003eHappiness Rank: 20\\u003cbr\\u003eMismatch: 4\",\"line\":{\"color\":\"#1E88E5\",\"width\":2},\"mode\":\"lines+markers\",\"name\":\"United Arab Emirates\",\"x\":[\"Life expectancy Rank\",\"Happiness Rank\"],\"y\":[16,20],\"type\":\"scatter\"},{\"hoverinfo\":\"text\",\"hovertext\":\"Canada\\u003cbr\\u003eLife expectancy Rank: 17\\u003cbr\\u003eHappiness Rank: 9\\u003cbr\\u003eMismatch: 8\",\"line\":{\"color\":\"#1E88E5\",\"width\":2},\"mode\":\"lines+markers\",\"name\":\"Canada\",\"x\":[\"Life expectancy Rank\",\"Happiness Rank\"],\"y\":[17,9],\"type\":\"scatter\"},{\"hoverinfo\":\"text\",\"hovertext\":\"Netherlands\\u003cbr\\u003eLife expectancy Rank: 18\\u003cbr\\u003eHappiness Rank: 5\\u003cbr\\u003eMismatch: 13\",\"line\":{\"color\":\"#1E88E5\",\"width\":2},\"mode\":\"lines+markers\",\"name\":\"Netherlands\",\"x\":[\"Life expectancy Rank\",\"Happiness Rank\"],\"y\":[18,5],\"type\":\"scatter\"},{\"hoverinfo\":\"text\",\"hovertext\":\"New Zealand\\u003cbr\\u003eLife expectancy Rank: 19\\u003cbr\\u003eHappiness Rank: 8\\u003cbr\\u003eMismatch: 11\",\"line\":{\"color\":\"#1E88E5\",\"width\":2},\"mode\":\"lines+markers\",\"name\":\"New Zealand\",\"x\":[\"Life expectancy Rank\",\"Happiness Rank\"],\"y\":[19,8],\"type\":\"scatter\"},{\"hoverinfo\":\"text\",\"hovertext\":\"Belgium\\u003cbr\\u003eLife expectancy Rank: 20\\u003cbr\\u003eHappiness Rank: 18\\u003cbr\\u003eMismatch: 2\",\"line\":{\"color\":\"#1E88E5\",\"width\":2},\"mode\":\"lines+markers\",\"name\":\"Belgium\",\"x\":[\"Life expectancy Rank\",\"Happiness Rank\"],\"y\":[20,18],\"type\":\"scatter\"},{\"hoverinfo\":\"text\",\"hovertext\":\"Finland\\u003cbr\\u003eLife expectancy Rank: 21\\u003cbr\\u003eHappiness Rank: 1\\u003cbr\\u003eMismatch: 20\",\"line\":{\"color\":\"#D81B60\",\"width\":2},\"mode\":\"lines+markers\",\"name\":\"Finland\",\"x\":[\"Life expectancy Rank\",\"Happiness Rank\"],\"y\":[21,1],\"type\":\"scatter\"},{\"hoverinfo\":\"text\",\"hovertext\":\"Kuwait\\u003cbr\\u003eLife expectancy Rank: 22\\u003cbr\\u003eHappiness Rank: 47\\u003cbr\\u003eMismatch: 25\",\"line\":{\"color\":\"#D81B60\",\"width\":2},\"mode\":\"lines+markers\",\"name\":\"Kuwait\",\"x\":[\"Life expectancy Rank\",\"Happiness Rank\"],\"y\":[22,47],\"type\":\"scatter\"},{\"hoverinfo\":\"text\",\"hovertext\":\"Austria\\u003cbr\\u003eLife expectancy Rank: 23\\u003cbr\\u003eHappiness Rank: 10\\u003cbr\\u003eMismatch: 13\",\"line\":{\"color\":\"#1E88E5\",\"width\":2},\"mode\":\"lines+markers\",\"name\":\"Austria\",\"x\":[\"Life expectancy Rank\",\"Happiness Rank\"],\"y\":[23,10],\"type\":\"scatter\"},{\"hoverinfo\":\"text\",\"hovertext\":\"Portugal\\u003cbr\\u003eLife expectancy Rank: 24\\u003cbr\\u003eHappiness Rank: 60\\u003cbr\\u003eMismatch: 36\",\"line\":{\"color\":\"#D81B60\",\"width\":2},\"mode\":\"lines+markers\",\"name\":\"Portugal\",\"x\":[\"Life expectancy Rank\",\"Happiness Rank\"],\"y\":[24,60],\"type\":\"scatter\"},{\"hoverinfo\":\"text\",\"hovertext\":\"Greece\\u003cbr\\u003eLife expectancy Rank: 25\\u003cbr\\u003eHappiness Rank: 73\\u003cbr\\u003eMismatch: 48\",\"line\":{\"color\":\"#D81B60\",\"width\":2},\"mode\":\"lines+markers\",\"name\":\"Greece\",\"x\":[\"Life expectancy Rank\",\"Happiness Rank\"],\"y\":[25,73],\"type\":\"scatter\"},{\"hoverinfo\":\"text\",\"hovertext\":\"Slovenia\\u003cbr\\u003eLife expectancy Rank: 26\\u003cbr\\u003eHappiness Rank: 40\\u003cbr\\u003eMismatch: 14\",\"line\":{\"color\":\"#1E88E5\",\"width\":2},\"mode\":\"lines+markers\",\"name\":\"Slovenia\",\"x\":[\"Life expectancy Rank\",\"Happiness Rank\"],\"y\":[26,40],\"type\":\"scatter\"},{\"hoverinfo\":\"text\",\"hovertext\":\"Cyprus\\u003cbr\\u003eLife expectancy Rank: 27\\u003cbr\\u003eHappiness Rank: 45\\u003cbr\\u003eMismatch: 18\",\"line\":{\"color\":\"#D81B60\",\"width\":2},\"mode\":\"lines+markers\",\"name\":\"Cyprus\",\"x\":[\"Life expectancy Rank\",\"Happiness Rank\"],\"y\":[27,45],\"type\":\"scatter\"},{\"hoverinfo\":\"text\",\"hovertext\":\"Denmark\\u003cbr\\u003eLife expectancy Rank: 28\\u003cbr\\u003eHappiness Rank: 2\\u003cbr\\u003eMismatch: 26\",\"line\":{\"color\":\"#D81B60\",\"width\":2},\"mode\":\"lines+markers\",\"name\":\"Denmark\",\"x\":[\"Life expectancy Rank\",\"Happiness Rank\"],\"y\":[28,2],\"type\":\"scatter\"},{\"hoverinfo\":\"text\",\"hovertext\":\"United Kingdom\\u003cbr\\u003eLife expectancy Rank: 29\\u003cbr\\u003eHappiness Rank: 15\\u003cbr\\u003eMismatch: 14\",\"line\":{\"color\":\"#1E88E5\",\"width\":2},\"mode\":\"lines+markers\",\"name\":\"United Kingdom\",\"x\":[\"Life expectancy Rank\",\"Happiness Rank\"],\"y\":[29,15],\"type\":\"scatter\"},{\"hoverinfo\":\"text\",\"hovertext\":\"Germany\\u003cbr\\u003eLife expectancy Rank: 30\\u003cbr\\u003eHappiness Rank: 17\\u003cbr\\u003eMismatch: 13\",\"line\":{\"color\":\"#1E88E5\",\"width\":2},\"mode\":\"lines+markers\",\"name\":\"Germany\",\"x\":[\"Life expectancy Rank\",\"Happiness Rank\"],\"y\":[30,17],\"type\":\"scatter\"},{\"hoverinfo\":\"text\",\"hovertext\":\"Bahrain\\u003cbr\\u003eLife expectancy Rank: 31\\u003cbr\\u003eHappiness Rank: 35\\u003cbr\\u003eMismatch: 4\",\"line\":{\"color\":\"#1E88E5\",\"width\":2},\"mode\":\"lines+markers\",\"name\":\"Bahrain\",\"x\":[\"Life expectancy Rank\",\"Happiness Rank\"],\"y\":[31,35],\"type\":\"scatter\"},{\"hoverinfo\":\"text\",\"hovertext\":\"Chile\\u003cbr\\u003eLife expectancy Rank: 32\\u003cbr\\u003eHappiness Rank: 24\\u003cbr\\u003eMismatch: 8\",\"line\":{\"color\":\"#1E88E5\",\"width\":2},\"mode\":\"lines+markers\",\"name\":\"Chile\",\"x\":[\"Life expectancy Rank\",\"Happiness Rank\"],\"y\":[32,24],\"type\":\"scatter\"},{\"hoverinfo\":\"text\",\"hovertext\":\"Costa Rica\\u003cbr\\u003eLife expectancy Rank: 33\\u003cbr\\u003eHappiness Rank: 12\\u003cbr\\u003eMismatch: 21\",\"line\":{\"color\":\"#D81B60\",\"width\":2},\"mode\":\"lines+markers\",\"name\":\"Costa Rica\",\"x\":[\"Life expectancy Rank\",\"Happiness Rank\"],\"y\":[33,12],\"type\":\"scatter\"},{\"hoverinfo\":\"text\",\"hovertext\":\"Albania\\u003cbr\\u003eLife expectancy Rank: 34\\u003cbr\\u003eHappiness Rank: 93\\u003cbr\\u003eMismatch: 59\",\"line\":{\"color\":\"#D81B60\",\"width\":2},\"mode\":\"lines+markers\",\"name\":\"Albania\",\"x\":[\"Life expectancy Rank\",\"Happiness Rank\"],\"y\":[34,93],\"type\":\"scatter\"},{\"hoverinfo\":\"text\",\"hovertext\":\"United States\\u003cbr\\u003eLife expectancy Rank: 35\\u003cbr\\u003eHappiness Rank: 19\\u003cbr\\u003eMismatch: 16\",\"line\":{\"color\":\"#D81B60\",\"width\":2},\"mode\":\"lines+markers\",\"name\":\"United States\",\"x\":[\"Life expectancy Rank\",\"Happiness Rank\"],\"y\":[35,19],\"type\":\"scatter\"},{\"hoverinfo\":\"text\",\"hovertext\":\"Estonia\\u003cbr\\u003eLife expectancy Rank: 36\\u003cbr\\u003eHappiness Rank: 50\\u003cbr\\u003eMismatch: 14\",\"line\":{\"color\":\"#1E88E5\",\"width\":2},\"mode\":\"lines+markers\",\"name\":\"Estonia\",\"x\":[\"Life expectancy Rank\",\"Happiness Rank\"],\"y\":[36,50],\"type\":\"scatter\"},{\"hoverinfo\":\"text\",\"hovertext\":\"Panama\\u003cbr\\u003eLife expectancy Rank: 37\\u003cbr\\u003eHappiness Rank: 29\\u003cbr\\u003eMismatch: 8\",\"line\":{\"color\":\"#1E88E5\",\"width\":2},\"mode\":\"lines+markers\",\"name\":\"Panama\",\"x\":[\"Life expectancy Rank\",\"Happiness Rank\"],\"y\":[37,29],\"type\":\"scatter\"},{\"hoverinfo\":\"text\",\"hovertext\":\"Saudi Arabia\\u003cbr\\u003eLife expectancy Rank: 38\\u003cbr\\u003eHappiness Rank: 26\\u003cbr\\u003eMismatch: 12\",\"line\":{\"color\":\"#1E88E5\",\"width\":2},\"mode\":\"lines+markers\",\"name\":\"Saudi Arabia\",\"x\":[\"Life expectancy Rank\",\"Happiness Rank\"],\"y\":[38,26],\"type\":\"scatter\"},{\"hoverinfo\":\"text\",\"hovertext\":\"Croatia\\u003cbr\\u003eLife expectancy Rank: 39\\u003cbr\\u003eHappiness Rank: 68\\u003cbr\\u003eMismatch: 29\",\"line\":{\"color\":\"#D81B60\",\"width\":2},\"mode\":\"lines+markers\",\"name\":\"Croatia\",\"x\":[\"Life expectancy Rank\",\"Happiness Rank\"],\"y\":[39,68],\"type\":\"scatter\"},{\"hoverinfo\":\"text\",\"hovertext\":\"Lebanon\\u003cbr\\u003eLife expectancy Rank: 40\\u003cbr\\u003eHappiness Rank: 81\\u003cbr\\u003eMismatch: 41\",\"line\":{\"color\":\"#D81B60\",\"width\":2},\"mode\":\"lines+markers\",\"name\":\"Lebanon\",\"x\":[\"Life expectancy Rank\",\"Happiness Rank\"],\"y\":[40,81],\"type\":\"scatter\"},{\"hoverinfo\":\"text\",\"hovertext\":\"China\\u003cbr\\u003eLife expectancy Rank: 41\\u003cbr\\u003eHappiness Rank: 83\\u003cbr\\u003eMismatch: 42\",\"line\":{\"color\":\"#D81B60\",\"width\":2},\"mode\":\"lines+markers\",\"name\":\"China\",\"x\":[\"Life expectancy Rank\",\"Happiness Rank\"],\"y\":[41,83],\"type\":\"scatter\"},{\"hoverinfo\":\"text\",\"hovertext\":\"Poland\\u003cbr\\u003eLife expectancy Rank: 42\\u003cbr\\u003eHappiness Rank: 36\\u003cbr\\u003eMismatch: 6\",\"line\":{\"color\":\"#1E88E5\",\"width\":2},\"mode\":\"lines+markers\",\"name\":\"Poland\",\"x\":[\"Life expectancy Rank\",\"Happiness Rank\"],\"y\":[42,36],\"type\":\"scatter\"},{\"hoverinfo\":\"text\",\"hovertext\":\"Uruguay\\u003cbr\\u003eLife expectancy Rank: 43\\u003cbr\\u003eHappiness Rank: 31\\u003cbr\\u003eMismatch: 12\",\"line\":{\"color\":\"#1E88E5\",\"width\":2},\"mode\":\"lines+markers\",\"name\":\"Uruguay\",\"x\":[\"Life expectancy Rank\",\"Happiness Rank\"],\"y\":[43,31],\"type\":\"scatter\"},{\"hoverinfo\":\"text\",\"hovertext\":\"Bosnia and Herzegovina\\u003cbr\\u003eLife expectancy Rank: 44\\u003cbr\\u003eHappiness Rank: 70\\u003cbr\\u003eMismatch: 26\",\"line\":{\"color\":\"#D81B60\",\"width\":2},\"mode\":\"lines+markers\",\"name\":\"Bosnia and Herzegovina\",\"x\":[\"Life expectancy Rank\",\"Happiness Rank\"],\"y\":[44,70],\"type\":\"scatter\"},{\"hoverinfo\":\"text\",\"hovertext\":\"Ecuador\\u003cbr\\u003eLife expectancy Rank: 45\\u003cbr\\u003eHappiness Rank: 46\\u003cbr\\u003eMismatch: 1\",\"line\":{\"color\":\"#1E88E5\",\"width\":2},\"mode\":\"lines+markers\",\"name\":\"Ecuador\",\"x\":[\"Life expectancy Rank\",\"Happiness Rank\"],\"y\":[45,46],\"type\":\"scatter\"},{\"hoverinfo\":\"text\",\"hovertext\":\"Kosovo\\u003cbr\\u003eLife expectancy Rank: 46\\u003cbr\\u003eHappiness Rank: 42\\u003cbr\\u003eMismatch: 4\",\"line\":{\"color\":\"#1E88E5\",\"width\":2},\"mode\":\"lines+markers\",\"name\":\"Kosovo\",\"x\":[\"Life expectancy Rank\",\"Happiness Rank\"],\"y\":[46,42],\"type\":\"scatter\"},{\"hoverinfo\":\"text\",\"hovertext\":\"Thailand\\u003cbr\\u003eLife expectancy Rank: 47\\u003cbr\\u003eHappiness Rank: 48\\u003cbr\\u003eMismatch: 1\",\"line\":{\"color\":\"#1E88E5\",\"width\":2},\"mode\":\"lines+markers\",\"name\":\"Thailand\",\"x\":[\"Life expectancy Rank\",\"Happiness Rank\"],\"y\":[47,48],\"type\":\"scatter\"},{\"hoverinfo\":\"text\",\"hovertext\":\"Jordan\\u003cbr\\u003eLife expectancy Rank: 48\\u003cbr\\u003eHappiness Rank: 89\\u003cbr\\u003eMismatch: 41\",\"line\":{\"color\":\"#D81B60\",\"width\":2},\"mode\":\"lines+markers\",\"name\":\"Jordan\",\"x\":[\"Life expectancy Rank\",\"Happiness Rank\"],\"y\":[48,89],\"type\":\"scatter\"},{\"hoverinfo\":\"text\",\"hovertext\":\"Argentina\\u003cbr\\u003eLife expectancy Rank: 49\\u003cbr\\u003eHappiness Rank: 43\\u003cbr\\u003eMismatch: 6\",\"line\":{\"color\":\"#1E88E5\",\"width\":2},\"mode\":\"lines+markers\",\"name\":\"Argentina\",\"x\":[\"Life expectancy Rank\",\"Happiness Rank\"],\"y\":[49,43],\"type\":\"scatter\"},{\"hoverinfo\":\"text\",\"hovertext\":\"Colombia\\u003cbr\\u003eLife expectancy Rank: 50\\u003cbr\\u003eHappiness Rank: 39\\u003cbr\\u003eMismatch: 11\",\"line\":{\"color\":\"#1E88E5\",\"width\":2},\"mode\":\"lines+markers\",\"name\":\"Colombia\",\"x\":[\"Life expectancy Rank\",\"Happiness Rank\"],\"y\":[50,39],\"type\":\"scatter\"},{\"hoverinfo\":\"text\",\"hovertext\":\"Sri Lanka\\u003cbr\\u003eLife expectancy Rank: 51\\u003cbr\\u003eHappiness Rank: 111\\u003cbr\\u003eMismatch: 60\",\"line\":{\"color\":\"#D81B60\",\"width\":2},\"mode\":\"lines+markers\",\"name\":\"Sri Lanka\",\"x\":[\"Life expectancy Rank\",\"Happiness Rank\"],\"y\":[51,111],\"type\":\"scatter\"},{\"hoverinfo\":\"text\",\"hovertext\":\"Montenegro\\u003cbr\\u003eLife expectancy Rank: 52\\u003cbr\\u003eHappiness Rank: 66\\u003cbr\\u003eMismatch: 14\",\"line\":{\"color\":\"#1E88E5\",\"width\":2},\"mode\":\"lines+markers\",\"name\":\"Montenegro\",\"x\":[\"Life expectancy Rank\",\"Happiness Rank\"],\"y\":[52,66],\"type\":\"scatter\"},{\"hoverinfo\":\"text\",\"hovertext\":\"North Macedonia\\u003cbr\\u003eLife expectancy Rank: 53\\u003cbr\\u003eHappiness Rank: 75\\u003cbr\\u003eMismatch: 22\",\"line\":{\"color\":\"#D81B60\",\"width\":2},\"mode\":\"lines+markers\",\"name\":\"North Macedonia\",\"x\":[\"Life expectancy Rank\",\"Happiness Rank\"],\"y\":[53,75],\"type\":\"scatter\"},{\"hoverinfo\":\"text\",\"hovertext\":\"Hungary\\u003cbr\\u003eLife expectancy Rank: 54\\u003cbr\\u003eHappiness Rank: 57\\u003cbr\\u003eMismatch: 3\",\"line\":{\"color\":\"#1E88E5\",\"width\":2},\"mode\":\"lines+markers\",\"name\":\"Hungary\",\"x\":[\"Life expectancy Rank\",\"Happiness Rank\"],\"y\":[54,57],\"type\":\"scatter\"},{\"hoverinfo\":\"text\",\"hovertext\":\"Lithuania\\u003cbr\\u003eLife expectancy Rank: 55\\u003cbr\\u003eHappiness Rank: 38\\u003cbr\\u003eMismatch: 17\",\"line\":{\"color\":\"#D81B60\",\"width\":2},\"mode\":\"lines+markers\",\"name\":\"Lithuania\",\"x\":[\"Life expectancy Rank\",\"Happiness Rank\"],\"y\":[55,38],\"type\":\"scatter\"},{\"hoverinfo\":\"text\",\"hovertext\":\"Peru\\u003cbr\\u003eLife expectancy Rank: 56\\u003cbr\\u003eHappiness Rank: 59\\u003cbr\\u003eMismatch: 3\",\"line\":{\"color\":\"#1E88E5\",\"width\":2},\"mode\":\"lines+markers\",\"name\":\"Peru\",\"x\":[\"Life expectancy Rank\",\"Happiness Rank\"],\"y\":[56,59],\"type\":\"scatter\"},{\"hoverinfo\":\"text\",\"hovertext\":\"Armenia\\u003cbr\\u003eLife expectancy Rank: 57\\u003cbr\\u003eHappiness Rank: 100\\u003cbr\\u003eMismatch: 43\",\"line\":{\"color\":\"#D81B60\",\"width\":2},\"mode\":\"lines+markers\",\"name\":\"Armenia\",\"x\":[\"Life expectancy Rank\",\"Happiness Rank\"],\"y\":[57,100],\"type\":\"scatter\"},{\"hoverinfo\":\"text\",\"hovertext\":\"Serbia\\u003cbr\\u003eLife expectancy Rank: 58\\u003cbr\\u003eHappiness Rank: 63\\u003cbr\\u003eMismatch: 5\",\"line\":{\"color\":\"#1E88E5\",\"width\":2},\"mode\":\"lines+markers\",\"name\":\"Serbia\",\"x\":[\"Life expectancy Rank\",\"Happiness Rank\"],\"y\":[58,63],\"type\":\"scatter\"},{\"hoverinfo\":\"text\",\"hovertext\":\"Malaysia\\u003cbr\\u003eLife expectancy Rank: 59\\u003cbr\\u003eHappiness Rank: 71\\u003cbr\\u003eMismatch: 12\",\"line\":{\"color\":\"#1E88E5\",\"width\":2},\"mode\":\"lines+markers\",\"name\":\"Malaysia\",\"x\":[\"Life expectancy Rank\",\"Happiness Rank\"],\"y\":[59,71],\"type\":\"scatter\"},{\"hoverinfo\":\"text\",\"hovertext\":\"Brazil\\u003cbr\\u003eLife expectancy Rank: 60\\u003cbr\\u003eHappiness Rank: 30\\u003cbr\\u003eMismatch: 30\",\"line\":{\"color\":\"#D81B60\",\"width\":2},\"mode\":\"lines+markers\",\"name\":\"Brazil\",\"x\":[\"Life expectancy Rank\",\"Happiness Rank\"],\"y\":[60,30],\"type\":\"scatter\"},{\"hoverinfo\":\"text\",\"hovertext\":\"Algeria\\u003cbr\\u003eLife expectancy Rank: 61\\u003cbr\\u003eHappiness Rank: 78\\u003cbr\\u003eMismatch: 17\",\"line\":{\"color\":\"#D81B60\",\"width\":2},\"mode\":\"lines+markers\",\"name\":\"Algeria\",\"x\":[\"Life expectancy Rank\",\"Happiness Rank\"],\"y\":[61,78],\"type\":\"scatter\"},{\"hoverinfo\":\"text\",\"hovertext\":\"Romania\\u003cbr\\u003eLife expectancy Rank: 62\\u003cbr\\u003eHappiness Rank: 44\\u003cbr\\u003eMismatch: 18\",\"line\":{\"color\":\"#D81B60\",\"width\":2},\"mode\":\"lines+markers\",\"name\":\"Romania\",\"x\":[\"Life expectancy Rank\",\"Happiness Rank\"],\"y\":[62,44],\"type\":\"scatter\"},{\"hoverinfo\":\"text\",\"hovertext\":\"Tunisia\\u003cbr\\u003eLife expectancy Rank: 63\\u003cbr\\u003eHappiness Rank: 106\\u003cbr\\u003eMismatch: 43\",\"line\":{\"color\":\"#D81B60\",\"width\":2},\"mode\":\"lines+markers\",\"name\":\"Tunisia\",\"x\":[\"Life expectancy Rank\",\"Happiness Rank\"],\"y\":[63,106],\"type\":\"scatter\"},{\"hoverinfo\":\"text\",\"hovertext\":\"Latvia\\u003cbr\\u003eLife expectancy Rank: 64\\u003cbr\\u003eHappiness Rank: 49\\u003cbr\\u003eMismatch: 15\",\"line\":{\"color\":\"#1E88E5\",\"width\":2},\"mode\":\"lines+markers\",\"name\":\"Latvia\",\"x\":[\"Life expectancy Rank\",\"Happiness Rank\"],\"y\":[64,49],\"type\":\"scatter\"},{\"hoverinfo\":\"text\",\"hovertext\":\"Bulgaria\\u003cbr\\u003eLife expectancy Rank: 65\\u003cbr\\u003eHappiness Rank: 86\\u003cbr\\u003eMismatch: 21\",\"line\":{\"color\":\"#D81B60\",\"width\":2},\"mode\":\"lines+markers\",\"name\":\"Bulgaria\",\"x\":[\"Life expectancy Rank\",\"Happiness Rank\"],\"y\":[65,86],\"type\":\"scatter\"},{\"hoverinfo\":\"text\",\"hovertext\":\"Mexico\\u003cbr\\u003eLife expectancy Rank: 66\\u003cbr\\u003eHappiness Rank: 22\\u003cbr\\u003eMismatch: 44\",\"line\":{\"color\":\"#D81B60\",\"width\":2},\"mode\":\"lines+markers\",\"name\":\"Mexico\",\"x\":[\"Life expectancy Rank\",\"Happiness Rank\"],\"y\":[66,22],\"type\":\"scatter\"},{\"hoverinfo\":\"text\",\"hovertext\":\"Morocco\\u003cbr\\u003eLife expectancy Rank: 67\\u003cbr\\u003eHappiness Rank: 79\\u003cbr\\u003eMismatch: 12\",\"line\":{\"color\":\"#1E88E5\",\"width\":2},\"mode\":\"lines+markers\",\"name\":\"Morocco\",\"x\":[\"Life expectancy Rank\",\"Happiness Rank\"],\"y\":[67,79],\"type\":\"scatter\"},{\"hoverinfo\":\"text\",\"hovertext\":\"Mauritius\\u003cbr\\u003eLife expectancy Rank: 68\\u003cbr\\u003eHappiness Rank: 52\\u003cbr\\u003eMismatch: 16\",\"line\":{\"color\":\"#D81B60\",\"width\":2},\"mode\":\"lines+markers\",\"name\":\"Mauritius\",\"x\":[\"Life expectancy Rank\",\"Happiness Rank\"],\"y\":[68,52],\"type\":\"scatter\"},{\"hoverinfo\":\"text\",\"hovertext\":\"Belarus\\u003cbr\\u003eLife expectancy Rank: 69\\u003cbr\\u003eHappiness Rank: 72\\u003cbr\\u003eMismatch: 3\",\"line\":{\"color\":\"#1E88E5\",\"width\":2},\"mode\":\"lines+markers\",\"name\":\"Belarus\",\"x\":[\"Life expectancy Rank\",\"Happiness Rank\"],\"y\":[69,72],\"type\":\"scatter\"},{\"hoverinfo\":\"text\",\"hovertext\":\"Georgia\\u003cbr\\u003eLife expectancy Rank: 70\\u003cbr\\u003eHappiness Rank: 102\\u003cbr\\u003eMismatch: 32\",\"line\":{\"color\":\"#D81B60\",\"width\":2},\"mode\":\"lines+markers\",\"name\":\"Georgia\",\"x\":[\"Life expectancy Rank\",\"Happiness Rank\"],\"y\":[70,102],\"type\":\"scatter\"},{\"hoverinfo\":\"text\",\"hovertext\":\"Ukraine\\u003cbr\\u003eLife expectancy Rank: 71\\u003cbr\\u003eHappiness Rank: 114\\u003cbr\\u003eMismatch: 43\",\"line\":{\"color\":\"#D81B60\",\"width\":2},\"mode\":\"lines+markers\",\"name\":\"Ukraine\",\"x\":[\"Life expectancy Rank\",\"Happiness Rank\"],\"y\":[71,114],\"type\":\"scatter\"},{\"hoverinfo\":\"text\",\"hovertext\":\"Nicaragua\\u003cbr\\u003eLife expectancy Rank: 72\\u003cbr\\u003eHappiness Rank: 41\\u003cbr\\u003eMismatch: 31\",\"line\":{\"color\":\"#D81B60\",\"width\":2},\"mode\":\"lines+markers\",\"name\":\"Nicaragua\",\"x\":[\"Life expectancy Rank\",\"Happiness Rank\"],\"y\":[72,41],\"type\":\"scatter\"},{\"hoverinfo\":\"text\",\"hovertext\":\"Paraguay\\u003cbr\\u003eLife expectancy Rank: 73\\u003cbr\\u003eHappiness Rank: 58\\u003cbr\\u003eMismatch: 15\",\"line\":{\"color\":\"#1E88E5\",\"width\":2},\"mode\":\"lines+markers\",\"name\":\"Paraguay\",\"x\":[\"Life expectancy Rank\",\"Happiness Rank\"],\"y\":[73,58],\"type\":\"scatter\"},{\"hoverinfo\":\"text\",\"hovertext\":\"Kazakhstan\\u003cbr\\u003eLife expectancy Rank: 74\\u003cbr\\u003eHappiness Rank: 55\\u003cbr\\u003eMismatch: 19\",\"line\":{\"color\":\"#D81B60\",\"width\":2},\"mode\":\"lines+markers\",\"name\":\"Kazakhstan\",\"x\":[\"Life expectancy Rank\",\"Happiness Rank\"],\"y\":[74,55],\"type\":\"scatter\"},{\"hoverinfo\":\"text\",\"hovertext\":\"Azerbaijan\\u003cbr\\u003eLife expectancy Rank: 75\\u003cbr\\u003eHappiness Rank: 79\\u003cbr\\u003eMismatch: 4\",\"line\":{\"color\":\"#1E88E5\",\"width\":2},\"mode\":\"lines+markers\",\"name\":\"Azerbaijan\",\"x\":[\"Life expectancy Rank\",\"Happiness Rank\"],\"y\":[75,79],\"type\":\"scatter\"},{\"hoverinfo\":\"text\",\"hovertext\":\"Dominican Republic\\u003cbr\\u003eLife expectancy Rank: 76\\u003cbr\\u003eHappiness Rank: 69\\u003cbr\\u003eMismatch: 7\",\"line\":{\"color\":\"#1E88E5\",\"width\":2},\"mode\":\"lines+markers\",\"name\":\"Dominican Republic\",\"x\":[\"Life expectancy Rank\",\"Happiness Rank\"],\"y\":[76,69],\"type\":\"scatter\"},{\"hoverinfo\":\"text\",\"hovertext\":\"Libya\\u003cbr\\u003eLife expectancy Rank: 77\\u003cbr\\u003eHappiness Rank: 65\\u003cbr\\u003eMismatch: 12\",\"line\":{\"color\":\"#1E88E5\",\"width\":2},\"mode\":\"lines+markers\",\"name\":\"Libya\",\"x\":[\"Life expectancy Rank\",\"Happiness Rank\"],\"y\":[77,65],\"type\":\"scatter\"},{\"hoverinfo\":\"text\",\"hovertext\":\"Bangladesh\\u003cbr\\u003eLife expectancy Rank: 78\\u003cbr\\u003eHappiness Rank: 107\\u003cbr\\u003eMismatch: 29\",\"line\":{\"color\":\"#D81B60\",\"width\":2},\"mode\":\"lines+markers\",\"name\":\"Bangladesh\",\"x\":[\"Life expectancy Rank\",\"Happiness Rank\"],\"y\":[78,107],\"type\":\"scatter\"},{\"hoverinfo\":\"text\",\"hovertext\":\"Honduras\\u003cbr\\u003eLife expectancy Rank: 79\\u003cbr\\u003eHappiness Rank: 54\\u003cbr\\u003eMismatch: 25\",\"line\":{\"color\":\"#D81B60\",\"width\":2},\"mode\":\"lines+markers\",\"name\":\"Honduras\",\"x\":[\"Life expectancy Rank\",\"Happiness Rank\"],\"y\":[79,54],\"type\":\"scatter\"},{\"hoverinfo\":\"text\",\"hovertext\":\"Uzbekistan\\u003cbr\\u003eLife expectancy Rank: 80\\u003cbr\\u003eHappiness Rank: 37\\u003cbr\\u003eMismatch: 43\",\"line\":{\"color\":\"#D81B60\",\"width\":2},\"mode\":\"lines+markers\",\"name\":\"Uzbekistan\",\"x\":[\"Life expectancy Rank\",\"Happiness Rank\"],\"y\":[80,37],\"type\":\"scatter\"},{\"hoverinfo\":\"text\",\"hovertext\":\"Bhutan\\u003cbr\\u003eLife expectancy Rank: 81\\u003cbr\\u003eHappiness Rank: 84\\u003cbr\\u003eMismatch: 3\",\"line\":{\"color\":\"#1E88E5\",\"width\":2},\"mode\":\"lines+markers\",\"name\":\"Bhutan\",\"x\":[\"Life expectancy Rank\",\"Happiness Rank\"],\"y\":[81,84],\"type\":\"scatter\"},{\"hoverinfo\":\"text\",\"hovertext\":\"El Salvador\\u003cbr\\u003eLife expectancy Rank: 82\\u003cbr\\u003eHappiness Rank: 33\\u003cbr\\u003eMismatch: 49\",\"line\":{\"color\":\"#D81B60\",\"width\":2},\"mode\":\"lines+markers\",\"name\":\"El Salvador\",\"x\":[\"Life expectancy Rank\",\"Happiness Rank\"],\"y\":[82,33],\"type\":\"scatter\"},{\"hoverinfo\":\"text\",\"hovertext\":\"Guatemala\\u003cbr\\u003eLife expectancy Rank: 83\\u003cbr\\u003eHappiness Rank: 25\\u003cbr\\u003eMismatch: 58\",\"line\":{\"color\":\"#D81B60\",\"width\":2},\"mode\":\"lines+markers\",\"name\":\"Guatemala\",\"x\":[\"Life expectancy Rank\",\"Happiness Rank\"],\"y\":[83,25],\"type\":\"scatter\"},{\"hoverinfo\":\"text\",\"hovertext\":\"Jamaica\\u003cbr\\u003eLife expectancy Rank: 84\\u003cbr\\u003eHappiness Rank: 51\\u003cbr\\u003eMismatch: 33\",\"line\":{\"color\":\"#D81B60\",\"width\":2},\"mode\":\"lines+markers\",\"name\":\"Jamaica\",\"x\":[\"Life expectancy Rank\",\"Happiness Rank\"],\"y\":[84,51],\"type\":\"scatter\"},{\"hoverinfo\":\"text\",\"hovertext\":\"Iraq\\u003cbr\\u003eLife expectancy Rank: 85\\u003cbr\\u003eHappiness Rank: 108\\u003cbr\\u003eMismatch: 23\",\"line\":{\"color\":\"#D81B60\",\"width\":2},\"mode\":\"lines+markers\",\"name\":\"Iraq\",\"x\":[\"Life expectancy Rank\",\"Happiness Rank\"],\"y\":[85,108],\"type\":\"scatter\"},{\"hoverinfo\":\"text\",\"hovertext\":\"Mongolia\\u003cbr\\u003eLife expectancy Rank: 86\\u003cbr\\u003eHappiness Rank: 74\\u003cbr\\u003eMismatch: 12\",\"line\":{\"color\":\"#1E88E5\",\"width\":2},\"mode\":\"lines+markers\",\"name\":\"Mongolia\",\"x\":[\"Life expectancy Rank\",\"Happiness Rank\"],\"y\":[86,74],\"type\":\"scatter\"},{\"hoverinfo\":\"text\",\"hovertext\":\"Tajikistan\\u003cbr\\u003eLife expectancy Rank: 87\\u003cbr\\u003eHappiness Rank: 67\\u003cbr\\u003eMismatch: 20\",\"line\":{\"color\":\"#D81B60\",\"width\":2},\"mode\":\"lines+markers\",\"name\":\"Tajikistan\",\"x\":[\"Life expectancy Rank\",\"Happiness Rank\"],\"y\":[87,67],\"type\":\"scatter\"},{\"hoverinfo\":\"text\",\"hovertext\":\"India\\u003cbr\\u003eLife expectancy Rank: 88\\u003cbr\\u003eHappiness Rank: 119\\u003cbr\\u003eMismatch: 31\",\"line\":{\"color\":\"#D81B60\",\"width\":2},\"mode\":\"lines+markers\",\"name\":\"India\",\"x\":[\"Life expectancy Rank\",\"Happiness Rank\"],\"y\":[88,119],\"type\":\"scatter\"},{\"hoverinfo\":\"text\",\"hovertext\":\"Indonesia\\u003cbr\\u003eLife expectancy Rank: 89\\u003cbr\\u003eHappiness Rank: 82\\u003cbr\\u003eMismatch: 7\",\"line\":{\"color\":\"#1E88E5\",\"width\":2},\"mode\":\"lines+markers\",\"name\":\"Indonesia\",\"x\":[\"Life expectancy Rank\",\"Happiness Rank\"],\"y\":[89,82],\"type\":\"scatter\"},{\"hoverinfo\":\"text\",\"hovertext\":\"Moldova\\u003cbr\\u003eLife expectancy Rank: 90\\u003cbr\\u003eHappiness Rank: 64\\u003cbr\\u003eMismatch: 26\",\"line\":{\"color\":\"#D81B60\",\"width\":2},\"mode\":\"lines+markers\",\"name\":\"Moldova\",\"x\":[\"Life expectancy Rank\",\"Happiness Rank\"],\"y\":[90,64],\"type\":\"scatter\"},{\"hoverinfo\":\"text\",\"hovertext\":\"Cambodia\\u003cbr\\u003eLife expectancy Rank: 91\\u003cbr\\u003eHappiness Rank: 94\\u003cbr\\u003eMismatch: 3\",\"line\":{\"color\":\"#1E88E5\",\"width\":2},\"mode\":\"lines+markers\",\"name\":\"Cambodia\",\"x\":[\"Life expectancy Rank\",\"Happiness Rank\"],\"y\":[91,94],\"type\":\"scatter\"},{\"hoverinfo\":\"text\",\"hovertext\":\"Philippines\\u003cbr\\u003eLife expectancy Rank: 92\\u003cbr\\u003eHappiness Rank: 62\\u003cbr\\u003eMismatch: 30\",\"line\":{\"color\":\"#D81B60\",\"width\":2},\"mode\":\"lines+markers\",\"name\":\"Philippines\",\"x\":[\"Life expectancy Rank\",\"Happiness Rank\"],\"y\":[92,62],\"type\":\"scatter\"},{\"hoverinfo\":\"text\",\"hovertext\":\"Turkmenistan\\u003cbr\\u003eLife expectancy Rank: 93\\u003cbr\\u003eHappiness Rank: 77\\u003cbr\\u003eMismatch: 16\",\"line\":{\"color\":\"#D81B60\",\"width\":2},\"mode\":\"lines+markers\",\"name\":\"Turkmenistan\",\"x\":[\"Life expectancy Rank\",\"Happiness Rank\"],\"y\":[93,77],\"type\":\"scatter\"},{\"hoverinfo\":\"text\",\"hovertext\":\"Nepal\\u003cbr\\u003eLife expectancy Rank: 94\\u003cbr\\u003eHappiness Rank: 88\\u003cbr\\u003eMismatch: 6\",\"line\":{\"color\":\"#1E88E5\",\"width\":2},\"mode\":\"lines+markers\",\"name\":\"Nepal\",\"x\":[\"Life expectancy Rank\",\"Happiness Rank\"],\"y\":[94,88],\"type\":\"scatter\"},{\"hoverinfo\":\"text\",\"hovertext\":\"Bolivia\\u003cbr\\u003eLife expectancy Rank: 95\\u003cbr\\u003eHappiness Rank: 56\\u003cbr\\u003eMismatch: 39\",\"line\":{\"color\":\"#D81B60\",\"width\":2},\"mode\":\"lines+markers\",\"name\":\"Bolivia\",\"x\":[\"Life expectancy Rank\",\"Happiness Rank\"],\"y\":[95,56],\"type\":\"scatter\"},{\"hoverinfo\":\"text\",\"hovertext\":\"Senegal\\u003cbr\\u003eLife expectancy Rank: 96\\u003cbr\\u003eHappiness Rank: 95\\u003cbr\\u003eMismatch: 1\",\"line\":{\"color\":\"#1E88E5\",\"width\":2},\"mode\":\"lines+markers\",\"name\":\"Senegal\",\"x\":[\"Life expectancy Rank\",\"Happiness Rank\"],\"y\":[96,95],\"type\":\"scatter\"},{\"hoverinfo\":\"text\",\"hovertext\":\"Mauritania\\u003cbr\\u003eLife expectancy Rank: 97\\u003cbr\\u003eHappiness Rank: 104\\u003cbr\\u003eMismatch: 7\",\"line\":{\"color\":\"#1E88E5\",\"width\":2},\"mode\":\"lines+markers\",\"name\":\"Mauritania\",\"x\":[\"Life expectancy Rank\",\"Happiness Rank\"],\"y\":[97,104],\"type\":\"scatter\"},{\"hoverinfo\":\"text\",\"hovertext\":\"Gabon\\u003cbr\\u003eLife expectancy Rank: 98\\u003cbr\\u003eHappiness Rank: 91\\u003cbr\\u003eMismatch: 7\",\"line\":{\"color\":\"#1E88E5\",\"width\":2},\"mode\":\"lines+markers\",\"name\":\"Gabon\",\"x\":[\"Life expectancy Rank\",\"Happiness Rank\"],\"y\":[98,91],\"type\":\"scatter\"},{\"hoverinfo\":\"text\",\"hovertext\":\"Botswana\\u003cbr\\u003eLife expectancy Rank: 99\\u003cbr\\u003eHappiness Rank: 127\\u003cbr\\u003eMismatch: 28\",\"line\":{\"color\":\"#D81B60\",\"width\":2},\"mode\":\"lines+markers\",\"name\":\"Botswana\",\"x\":[\"Life expectancy Rank\",\"Happiness Rank\"],\"y\":[99,127],\"type\":\"scatter\"},{\"hoverinfo\":\"text\",\"hovertext\":\"Pakistan\\u003cbr\\u003eLife expectancy Rank: 100\\u003cbr\\u003eHappiness Rank: 61\\u003cbr\\u003eMismatch: 39\",\"line\":{\"color\":\"#D81B60\",\"width\":2},\"mode\":\"lines+markers\",\"name\":\"Pakistan\",\"x\":[\"Life expectancy Rank\",\"Happiness Rank\"],\"y\":[100,61],\"type\":\"scatter\"},{\"hoverinfo\":\"text\",\"hovertext\":\"Rwanda\\u003cbr\\u003eLife expectancy Rank: 101\\u003cbr\\u003eHappiness Rank: 129\\u003cbr\\u003eMismatch: 28\",\"line\":{\"color\":\"#D81B60\",\"width\":2},\"mode\":\"lines+markers\",\"name\":\"Rwanda\",\"x\":[\"Life expectancy Rank\",\"Happiness Rank\"],\"y\":[101,129],\"type\":\"scatter\"},{\"hoverinfo\":\"text\",\"hovertext\":\"Myanmar\\u003cbr\\u003eLife expectancy Rank: 102\\u003cbr\\u003eHappiness Rank: 112\\u003cbr\\u003eMismatch: 10\",\"line\":{\"color\":\"#1E88E5\",\"width\":2},\"mode\":\"lines+markers\",\"name\":\"Myanmar\",\"x\":[\"Life expectancy Rank\",\"Happiness Rank\"],\"y\":[102,112],\"type\":\"scatter\"},{\"hoverinfo\":\"text\",\"hovertext\":\"Uganda\\u003cbr\\u003eLife expectancy Rank: 103\\u003cbr\\u003eHappiness Rank: 116\\u003cbr\\u003eMismatch: 13\",\"line\":{\"color\":\"#1E88E5\",\"width\":2},\"mode\":\"lines+markers\",\"name\":\"Uganda\",\"x\":[\"Life expectancy Rank\",\"Happiness Rank\"],\"y\":[103,116],\"type\":\"scatter\"},{\"hoverinfo\":\"text\",\"hovertext\":\"South Africa\\u003cbr\\u003eLife expectancy Rank: 104\\u003cbr\\u003eHappiness Rank: 92\\u003cbr\\u003eMismatch: 12\",\"line\":{\"color\":\"#1E88E5\",\"width\":2},\"mode\":\"lines+markers\",\"name\":\"South Africa\",\"x\":[\"Life expectancy Rank\",\"Happiness Rank\"],\"y\":[104,92],\"type\":\"scatter\"},{\"hoverinfo\":\"text\",\"hovertext\":\"Tanzania\\u003cbr\\u003eLife expectancy Rank: 105\\u003cbr\\u003eHappiness Rank: 130\\u003cbr\\u003eMismatch: 25\",\"line\":{\"color\":\"#D81B60\",\"width\":2},\"mode\":\"lines+markers\",\"name\":\"Tanzania\",\"x\":[\"Life expectancy Rank\",\"Happiness Rank\"],\"y\":[105,130],\"type\":\"scatter\"},{\"hoverinfo\":\"text\",\"hovertext\":\"Ethiopia\\u003cbr\\u003eLife expectancy Rank: 106\\u003cbr\\u003eHappiness Rank: 115\\u003cbr\\u003eMismatch: 9\",\"line\":{\"color\":\"#1E88E5\",\"width\":2},\"mode\":\"lines+markers\",\"name\":\"Ethiopia\",\"x\":[\"Life expectancy Rank\",\"Happiness Rank\"],\"y\":[106,115],\"type\":\"scatter\"},{\"hoverinfo\":\"text\",\"hovertext\":\"Comoros\\u003cbr\\u003eLife expectancy Rank: 107\\u003cbr\\u003eHappiness Rank: 121\\u003cbr\\u003eMismatch: 14\",\"line\":{\"color\":\"#1E88E5\",\"width\":2},\"mode\":\"lines+markers\",\"name\":\"Comoros\",\"x\":[\"Life expectancy Rank\",\"Happiness Rank\"],\"y\":[107,121],\"type\":\"scatter\"},{\"hoverinfo\":\"text\",\"hovertext\":\"Malawi\\u003cbr\\u003eLife expectancy Rank: 108\\u003cbr\\u003eHappiness Rank: 128\\u003cbr\\u003eMismatch: 20\",\"line\":{\"color\":\"#D81B60\",\"width\":2},\"mode\":\"lines+markers\",\"name\":\"Malawi\",\"x\":[\"Life expectancy Rank\",\"Happiness Rank\"],\"y\":[108,128],\"type\":\"scatter\"},{\"hoverinfo\":\"text\",\"hovertext\":\"Ghana\\u003cbr\\u003eLife expectancy Rank: 109\\u003cbr\\u003eHappiness Rank: 87\\u003cbr\\u003eMismatch: 22\",\"line\":{\"color\":\"#D81B60\",\"width\":2},\"mode\":\"lines+markers\",\"name\":\"Ghana\",\"x\":[\"Life expectancy Rank\",\"Happiness Rank\"],\"y\":[109,87],\"type\":\"scatter\"},{\"hoverinfo\":\"text\",\"hovertext\":\"Haiti\\u003cbr\\u003eLife expectancy Rank: 110\\u003cbr\\u003eHappiness Rank: 126\\u003cbr\\u003eMismatch: 16\",\"line\":{\"color\":\"#D81B60\",\"width\":2},\"mode\":\"lines+markers\",\"name\":\"Haiti\",\"x\":[\"Life expectancy Rank\",\"Happiness Rank\"],\"y\":[110,126],\"type\":\"scatter\"},{\"hoverinfo\":\"text\",\"hovertext\":\"Namibia\\u003cbr\\u003eLife expectancy Rank: 111\\u003cbr\\u003eHappiness Rank: 97\\u003cbr\\u003eMismatch: 14\",\"line\":{\"color\":\"#1E88E5\",\"width\":2},\"mode\":\"lines+markers\",\"name\":\"Namibia\",\"x\":[\"Life expectancy Rank\",\"Happiness Rank\"],\"y\":[111,97],\"type\":\"scatter\"},{\"hoverinfo\":\"text\",\"hovertext\":\"Madagascar\\u003cbr\\u003eLife expectancy Rank: 112\\u003cbr\\u003eHappiness Rank: 122\\u003cbr\\u003eMismatch: 10\",\"line\":{\"color\":\"#1E88E5\",\"width\":2},\"mode\":\"lines+markers\",\"name\":\"Madagascar\",\"x\":[\"Life expectancy Rank\",\"Happiness Rank\"],\"y\":[112,122],\"type\":\"scatter\"},{\"hoverinfo\":\"text\",\"hovertext\":\"Afghanistan\\u003cbr\\u003eLife expectancy Rank: 113\\u003cbr\\u003eHappiness Rank: 131\\u003cbr\\u003eMismatch: 18\",\"line\":{\"color\":\"#D81B60\",\"width\":2},\"mode\":\"lines+markers\",\"name\":\"Afghanistan\",\"x\":[\"Life expectancy Rank\",\"Happiness Rank\"],\"y\":[113,131],\"type\":\"scatter\"},{\"hoverinfo\":\"text\",\"hovertext\":\"Kenya\\u003cbr\\u003eLife expectancy Rank: 114\\u003cbr\\u003eHappiness Rank: 103\\u003cbr\\u003eMismatch: 11\",\"line\":{\"color\":\"#1E88E5\",\"width\":2},\"mode\":\"lines+markers\",\"name\":\"Kenya\",\"x\":[\"Life expectancy Rank\",\"Happiness Rank\"],\"y\":[114,103],\"type\":\"scatter\"},{\"hoverinfo\":\"text\",\"hovertext\":\"Zambia\\u003cbr\\u003eLife expectancy Rank: 115\\u003cbr\\u003eHappiness Rank: 117\\u003cbr\\u003eMismatch: 2\",\"line\":{\"color\":\"#1E88E5\",\"width\":2},\"mode\":\"lines+markers\",\"name\":\"Zambia\",\"x\":[\"Life expectancy Rank\",\"Happiness Rank\"],\"y\":[115,117],\"type\":\"scatter\"},{\"hoverinfo\":\"text\",\"hovertext\":\"Burundi\\u003cbr\\u003eLife expectancy Rank: 116\\u003cbr\\u003eHappiness Rank: 124\\u003cbr\\u003eMismatch: 8\",\"line\":{\"color\":\"#1E88E5\",\"width\":2},\"mode\":\"lines+markers\",\"name\":\"Burundi\",\"x\":[\"Life expectancy Rank\",\"Happiness Rank\"],\"y\":[116,124],\"type\":\"scatter\"},{\"hoverinfo\":\"text\",\"hovertext\":\"Cameroon\\u003cbr\\u003eLife expectancy Rank: 117\\u003cbr\\u003eHappiness Rank: 85\\u003cbr\\u003eMismatch: 32\",\"line\":{\"color\":\"#D81B60\",\"width\":2},\"mode\":\"lines+markers\",\"name\":\"Cameroon\",\"x\":[\"Life expectancy Rank\",\"Happiness Rank\"],\"y\":[117,85],\"type\":\"scatter\"},{\"hoverinfo\":\"text\",\"hovertext\":\"Mozambique\\u003cbr\\u003eLife expectancy Rank: 118\\u003cbr\\u003eHappiness Rank: 105\\u003cbr\\u003eMismatch: 13\",\"line\":{\"color\":\"#1E88E5\",\"width\":2},\"mode\":\"lines+markers\",\"name\":\"Mozambique\",\"x\":[\"Life expectancy Rank\",\"Happiness Rank\"],\"y\":[118,105],\"type\":\"scatter\"},{\"hoverinfo\":\"text\",\"hovertext\":\"Liberia\\u003cbr\\u003eLife expectancy Rank: 119\\u003cbr\\u003eHappiness Rank: 120\\u003cbr\\u003eMismatch: 1\",\"line\":{\"color\":\"#1E88E5\",\"width\":2},\"mode\":\"lines+markers\",\"name\":\"Liberia\",\"x\":[\"Life expectancy Rank\",\"Happiness Rank\"],\"y\":[119,120],\"type\":\"scatter\"},{\"hoverinfo\":\"text\",\"hovertext\":\"Zimbabwe\\u003cbr\\u003eLife expectancy Rank: 120\\u003cbr\\u003eHappiness Rank: 125\\u003cbr\\u003eMismatch: 5\",\"line\":{\"color\":\"#1E88E5\",\"width\":2},\"mode\":\"lines+markers\",\"name\":\"Zimbabwe\",\"x\":[\"Life expectancy Rank\",\"Happiness Rank\"],\"y\":[120,125],\"type\":\"scatter\"},{\"hoverinfo\":\"text\",\"hovertext\":\"Togo\\u003cbr\\u003eLife expectancy Rank: 121\\u003cbr\\u003eHappiness Rank: 118\\u003cbr\\u003eMismatch: 3\",\"line\":{\"color\":\"#1E88E5\",\"width\":2},\"mode\":\"lines+markers\",\"name\":\"Togo\",\"x\":[\"Life expectancy Rank\",\"Happiness Rank\"],\"y\":[121,118],\"type\":\"scatter\"},{\"hoverinfo\":\"text\",\"hovertext\":\"Burkina Faso\\u003cbr\\u003eLife expectancy Rank: 122\\u003cbr\\u003eHappiness Rank: 99\\u003cbr\\u003eMismatch: 23\",\"line\":{\"color\":\"#D81B60\",\"width\":2},\"mode\":\"lines+markers\",\"name\":\"Burkina Faso\",\"x\":[\"Life expectancy Rank\",\"Happiness Rank\"],\"y\":[122,99],\"type\":\"scatter\"},{\"hoverinfo\":\"text\",\"hovertext\":\"Niger\\u003cbr\\u003eLife expectancy Rank: 123\\u003cbr\\u003eHappiness Rank: 98\\u003cbr\\u003eMismatch: 25\",\"line\":{\"color\":\"#D81B60\",\"width\":2},\"mode\":\"lines+markers\",\"name\":\"Niger\",\"x\":[\"Life expectancy Rank\",\"Happiness Rank\"],\"y\":[123,98],\"type\":\"scatter\"},{\"hoverinfo\":\"text\",\"hovertext\":\"Benin\\u003cbr\\u003eLife expectancy Rank: 124\\u003cbr\\u003eHappiness Rank: 90\\u003cbr\\u003eMismatch: 34\",\"line\":{\"color\":\"#D81B60\",\"width\":2},\"mode\":\"lines+markers\",\"name\":\"Benin\",\"x\":[\"Life expectancy Rank\",\"Happiness Rank\"],\"y\":[124,90],\"type\":\"scatter\"},{\"hoverinfo\":\"text\",\"hovertext\":\"Sierra Leone\\u003cbr\\u003eLife expectancy Rank: 125\\u003cbr\\u003eHappiness Rank: 110\\u003cbr\\u003eMismatch: 15\",\"line\":{\"color\":\"#1E88E5\",\"width\":2},\"mode\":\"lines+markers\",\"name\":\"Sierra Leone\",\"x\":[\"Life expectancy Rank\",\"Happiness Rank\"],\"y\":[125,110],\"type\":\"scatter\"},{\"hoverinfo\":\"text\",\"hovertext\":\"Guinea\\u003cbr\\u003eLife expectancy Rank: 126\\u003cbr\\u003eHappiness Rank: 101\\u003cbr\\u003eMismatch: 25\",\"line\":{\"color\":\"#D81B60\",\"width\":2},\"mode\":\"lines+markers\",\"name\":\"Guinea\",\"x\":[\"Life expectancy Rank\",\"Happiness Rank\"],\"y\":[126,101],\"type\":\"scatter\"},{\"hoverinfo\":\"text\",\"hovertext\":\"Mali\\u003cbr\\u003eLife expectancy Rank: 127\\u003cbr\\u003eHappiness Rank: 109\\u003cbr\\u003eMismatch: 18\",\"line\":{\"color\":\"#D81B60\",\"width\":2},\"mode\":\"lines+markers\",\"name\":\"Mali\",\"x\":[\"Life expectancy Rank\",\"Happiness Rank\"],\"y\":[127,109],\"type\":\"scatter\"},{\"hoverinfo\":\"text\",\"hovertext\":\"South Sudan\\u003cbr\\u003eLife expectancy Rank: 128\\u003cbr\\u003eHappiness Rank: 133\\u003cbr\\u003eMismatch: 5\",\"line\":{\"color\":\"#1E88E5\",\"width\":2},\"mode\":\"lines+markers\",\"name\":\"South Sudan\",\"x\":[\"Life expectancy Rank\",\"Happiness Rank\"],\"y\":[128,133],\"type\":\"scatter\"},{\"hoverinfo\":\"text\",\"hovertext\":\"Somalia\\u003cbr\\u003eLife expectancy Rank: 129\\u003cbr\\u003eHappiness Rank: 96\\u003cbr\\u003eMismatch: 33\",\"line\":{\"color\":\"#D81B60\",\"width\":2},\"mode\":\"lines+markers\",\"name\":\"Somalia\",\"x\":[\"Life expectancy Rank\",\"Happiness Rank\"],\"y\":[129,96],\"type\":\"scatter\"},{\"hoverinfo\":\"text\",\"hovertext\":\"Lesotho\\u003cbr\\u003eLife expectancy Rank: 130\\u003cbr\\u003eHappiness Rank: 123\\u003cbr\\u003eMismatch: 7\",\"line\":{\"color\":\"#1E88E5\",\"width\":2},\"mode\":\"lines+markers\",\"name\":\"Lesotho\",\"x\":[\"Life expectancy Rank\",\"Happiness Rank\"],\"y\":[130,123],\"type\":\"scatter\"},{\"hoverinfo\":\"text\",\"hovertext\":\"Nigeria\\u003cbr\\u003eLife expectancy Rank: 131\\u003cbr\\u003eHappiness Rank: 76\\u003cbr\\u003eMismatch: 55\",\"line\":{\"color\":\"#D81B60\",\"width\":2},\"mode\":\"lines+markers\",\"name\":\"Nigeria\",\"x\":[\"Life expectancy Rank\",\"Happiness Rank\"],\"y\":[131,76],\"type\":\"scatter\"},{\"hoverinfo\":\"text\",\"hovertext\":\"Chad\\u003cbr\\u003eLife expectancy Rank: 132\\u003cbr\\u003eHappiness Rank: 113\\u003cbr\\u003eMismatch: 19\",\"line\":{\"color\":\"#D81B60\",\"width\":2},\"mode\":\"lines+markers\",\"name\":\"Chad\",\"x\":[\"Life expectancy Rank\",\"Happiness Rank\"],\"y\":[132,113],\"type\":\"scatter\"},{\"hoverinfo\":\"text\",\"hovertext\":\"Central African Republic\\u003cbr\\u003eLife expectancy Rank: 133\\u003cbr\\u003eHappiness Rank: 132\\u003cbr\\u003eMismatch: 1\",\"line\":{\"color\":\"#1E88E5\",\"width\":2},\"mode\":\"lines+markers\",\"name\":\"Central African Republic\",\"x\":[\"Life expectancy Rank\",\"Happiness Rank\"],\"y\":[133,132],\"type\":\"scatter\"},{\"hoverinfo\":\"text\",\"hovertext\":\"Qatar\\u003cbr\\u003eUnemployment rate Rank: 1\\u003cbr\\u003eHappiness Rank: 27\\u003cbr\\u003eMismatch: 26\",\"line\":{\"color\":\"#1E88E5\",\"width\":2},\"mode\":\"lines+markers\",\"name\":\"Qatar\",\"visible\":false,\"x\":[\"Unemployment rate Rank\",\"Happiness Rank\"],\"y\":[1,27],\"type\":\"scatter\"},{\"hoverinfo\":\"text\",\"hovertext\":\"Myanmar\\u003cbr\\u003eUnemployment rate Rank: 2\\u003cbr\\u003eHappiness Rank: 95\\u003cbr\\u003eMismatch: 93\",\"line\":{\"color\":\"#D81B60\",\"width\":2},\"mode\":\"lines+markers\",\"name\":\"Myanmar\",\"visible\":false,\"x\":[\"Unemployment rate Rank\",\"Happiness Rank\"],\"y\":[2,95],\"type\":\"scatter\"},{\"hoverinfo\":\"text\",\"hovertext\":\"Cambodia\\u003cbr\\u003eUnemployment rate Rank: 3\\u003cbr\\u003eHappiness Rank: 82\\u003cbr\\u003eMismatch: 79\",\"line\":{\"color\":\"#D81B60\",\"width\":2},\"mode\":\"lines+markers\",\"name\":\"Cambodia\",\"visible\":false,\"x\":[\"Unemployment rate Rank\",\"Happiness Rank\"],\"y\":[3,82],\"type\":\"scatter\"},{\"hoverinfo\":\"text\",\"hovertext\":\"Niger\\u003cbr\\u003eUnemployment rate Rank: 4\\u003cbr\\u003eHappiness Rank: 85\\u003cbr\\u003eMismatch: 81\",\"line\":{\"color\":\"#D81B60\",\"width\":2},\"mode\":\"lines+markers\",\"name\":\"Niger\",\"visible\":false,\"x\":[\"Unemployment rate Rank\",\"Happiness Rank\"],\"y\":[4,85],\"type\":\"scatter\"},{\"hoverinfo\":\"text\",\"hovertext\":\"Thailand\\u003cbr\\u003eUnemployment rate Rank: 5\\u003cbr\\u003eHappiness Rank: 45\\u003cbr\\u003eMismatch: 40\",\"line\":{\"color\":\"#D81B60\",\"width\":2},\"mode\":\"lines+markers\",\"name\":\"Thailand\",\"visible\":false,\"x\":[\"Unemployment rate Rank\",\"Happiness Rank\"],\"y\":[5,45],\"type\":\"scatter\"},{\"hoverinfo\":\"text\",\"hovertext\":\"Benin\\u003cbr\\u003eUnemployment rate Rank: 6\\u003cbr\\u003eHappiness Rank: 79\\u003cbr\\u003eMismatch: 73\",\"line\":{\"color\":\"#D81B60\",\"width\":2},\"mode\":\"lines+markers\",\"name\":\"Benin\",\"visible\":false,\"x\":[\"Unemployment rate Rank\",\"Happiness Rank\"],\"y\":[6,79],\"type\":\"scatter\"},{\"hoverinfo\":\"text\",\"hovertext\":\"Moldova\\u003cbr\\u003eUnemployment rate Rank: 7\\u003cbr\\u003eHappiness Rank: 61\\u003cbr\\u003eMismatch: 54\",\"line\":{\"color\":\"#D81B60\",\"width\":2},\"mode\":\"lines+markers\",\"name\":\"Moldova\",\"visible\":false,\"x\":[\"Unemployment rate Rank\",\"Happiness Rank\"],\"y\":[7,61],\"type\":\"scatter\"},{\"hoverinfo\":\"text\",\"hovertext\":\"Burkina Faso\\u003cbr\\u003eUnemployment rate Rank: 8\\u003cbr\\u003eHappiness Rank: 86\\u003cbr\\u003eMismatch: 78\",\"line\":{\"color\":\"#D81B60\",\"width\":2},\"mode\":\"lines+markers\",\"name\":\"Burkina Faso\",\"visible\":false,\"x\":[\"Unemployment rate Rank\",\"Happiness Rank\"],\"y\":[8,86],\"type\":\"scatter\"},{\"hoverinfo\":\"text\",\"hovertext\":\"Togo\\u003cbr\\u003eUnemployment rate Rank: 9\\u003cbr\\u003eHappiness Rank: 99\\u003cbr\\u003eMismatch: 90\",\"line\":{\"color\":\"#D81B60\",\"width\":2},\"mode\":\"lines+markers\",\"name\":\"Togo\",\"visible\":false,\"x\":[\"Unemployment rate Rank\",\"Happiness Rank\"],\"y\":[9,99],\"type\":\"scatter\"},{\"hoverinfo\":\"text\",\"hovertext\":\"Guatemala\\u003cbr\\u003eUnemployment rate Rank: 10\\u003cbr\\u003eHappiness Rank: 25\\u003cbr\\u003eMismatch: 15\",\"line\":{\"color\":\"#1E88E5\",\"width\":2},\"mode\":\"lines+markers\",\"name\":\"Guatemala\",\"visible\":false,\"x\":[\"Unemployment rate Rank\",\"Happiness Rank\"],\"y\":[10,25],\"type\":\"scatter\"},{\"hoverinfo\":\"text\",\"hovertext\":\"Philippines\\u003cbr\\u003eUnemployment rate Rank: 11\\u003cbr\\u003eHappiness Rank: 59\\u003cbr\\u003eMismatch: 48\",\"line\":{\"color\":\"#D81B60\",\"width\":2},\"mode\":\"lines+markers\",\"name\":\"Philippines\",\"visible\":false,\"x\":[\"Unemployment rate Rank\",\"Happiness Rank\"],\"y\":[11,59],\"type\":\"scatter\"},{\"hoverinfo\":\"text\",\"hovertext\":\"United Arab Emirates\\u003cbr\\u003eUnemployment rate Rank: 12\\u003cbr\\u003eHappiness Rank: 20\\u003cbr\\u003eMismatch: 8\",\"line\":{\"color\":\"#1E88E5\",\"width\":2},\"mode\":\"lines+markers\",\"name\":\"United Arab Emirates\",\"visible\":false,\"x\":[\"Unemployment rate Rank\",\"Happiness Rank\"],\"y\":[12,20],\"type\":\"scatter\"},{\"hoverinfo\":\"text\",\"hovertext\":\"Japan\\u003cbr\\u003eUnemployment rate Rank: 13\\u003cbr\\u003eHappiness Rank: 50\\u003cbr\\u003eMismatch: 37\",\"line\":{\"color\":\"#D81B60\",\"width\":2},\"mode\":\"lines+markers\",\"name\":\"Japan\",\"visible\":false,\"x\":[\"Unemployment rate Rank\",\"Happiness Rank\"],\"y\":[13,50],\"type\":\"scatter\"},{\"hoverinfo\":\"text\",\"hovertext\":\"Uganda\\u003cbr\\u003eUnemployment rate Rank: 14\\u003cbr\\u003eHappiness Rank: 97\\u003cbr\\u003eMismatch: 83\",\"line\":{\"color\":\"#D81B60\",\"width\":2},\"mode\":\"lines+markers\",\"name\":\"Uganda\",\"visible\":false,\"x\":[\"Unemployment rate Rank\",\"Happiness Rank\"],\"y\":[14,97],\"type\":\"scatter\"},{\"hoverinfo\":\"text\",\"hovertext\":\"Bhutan\\u003cbr\\u003eUnemployment rate Rank: 15\\u003cbr\\u003eHappiness Rank: 76\\u003cbr\\u003eMismatch: 61\",\"line\":{\"color\":\"#D81B60\",\"width\":2},\"mode\":\"lines+markers\",\"name\":\"Bhutan\",\"visible\":false,\"x\":[\"Unemployment rate Rank\",\"Happiness Rank\"],\"y\":[15,76],\"type\":\"scatter\"},{\"hoverinfo\":\"text\",\"hovertext\":\"Senegal\\u003cbr\\u003eUnemployment rate Rank: 16\\u003cbr\\u003eHappiness Rank: 83\\u003cbr\\u003eMismatch: 67\",\"line\":{\"color\":\"#D81B60\",\"width\":2},\"mode\":\"lines+markers\",\"name\":\"Senegal\",\"visible\":false,\"x\":[\"Unemployment rate Rank\",\"Happiness Rank\"],\"y\":[16,83],\"type\":\"scatter\"},{\"hoverinfo\":\"text\",\"hovertext\":\"Singapore\\u003cbr\\u003eUnemployment rate Rank: 17\\u003cbr\\u003eHappiness Rank: 32\\u003cbr\\u003eMismatch: 15\",\"line\":{\"color\":\"#1E88E5\",\"width\":2},\"mode\":\"lines+markers\",\"name\":\"Singapore\",\"visible\":false,\"x\":[\"Unemployment rate Rank\",\"Happiness Rank\"],\"y\":[17,32],\"type\":\"scatter\"},{\"hoverinfo\":\"text\",\"hovertext\":\"Germany\\u003cbr\\u003eUnemployment rate Rank: 18\\u003cbr\\u003eHappiness Rank: 17\\u003cbr\\u003eMismatch: 1\",\"line\":{\"color\":\"#1E88E5\",\"width\":2},\"mode\":\"lines+markers\",\"name\":\"Germany\",\"visible\":false,\"x\":[\"Unemployment rate Rank\",\"Happiness Rank\"],\"y\":[18,17],\"type\":\"scatter\"},{\"hoverinfo\":\"text\",\"hovertext\":\"Malaysia\\u003cbr\\u003eUnemployment rate Rank: 19\\u003cbr\\u003eHappiness Rank: 66\\u003cbr\\u003eMismatch: 47\",\"line\":{\"color\":\"#D81B60\",\"width\":2},\"mode\":\"lines+markers\",\"name\":\"Malaysia\",\"visible\":false,\"x\":[\"Unemployment rate Rank\",\"Happiness Rank\"],\"y\":[19,66],\"type\":\"scatter\"},{\"hoverinfo\":\"text\",\"hovertext\":\"Poland\\u003cbr\\u003eUnemployment rate Rank: 20\\u003cbr\\u003eHappiness Rank: 35\\u003cbr\\u003eMismatch: 15\",\"line\":{\"color\":\"#1E88E5\",\"width\":2},\"mode\":\"lines+markers\",\"name\":\"Poland\",\"visible\":false,\"x\":[\"Unemployment rate Rank\",\"Happiness Rank\"],\"y\":[20,35],\"type\":\"scatter\"},{\"hoverinfo\":\"text\",\"hovertext\":\"Mali\\u003cbr\\u003eUnemployment rate Rank: 21\\u003cbr\\u003eHappiness Rank: 93\\u003cbr\\u003eMismatch: 72\",\"line\":{\"color\":\"#D81B60\",\"width\":2},\"mode\":\"lines+markers\",\"name\":\"Mali\",\"visible\":false,\"x\":[\"Unemployment rate Rank\",\"Happiness Rank\"],\"y\":[21,93],\"type\":\"scatter\"},{\"hoverinfo\":\"text\",\"hovertext\":\"Netherlands\\u003cbr\\u003eUnemployment rate Rank: 22\\u003cbr\\u003eHappiness Rank: 5\\u003cbr\\u003eMismatch: 17\",\"line\":{\"color\":\"#1E88E5\",\"width\":2},\"mode\":\"lines+markers\",\"name\":\"Netherlands\",\"visible\":false,\"x\":[\"Unemployment rate Rank\",\"Happiness Rank\"],\"y\":[22,5],\"type\":\"scatter\"},{\"hoverinfo\":\"text\",\"hovertext\":\"Peru\\u003cbr\\u003eUnemployment rate Rank: 23\\u003cbr\\u003eHappiness Rank: 56\\u003cbr\\u003eMismatch: 33\",\"line\":{\"color\":\"#D81B60\",\"width\":2},\"mode\":\"lines+markers\",\"name\":\"Peru\",\"visible\":false,\"x\":[\"Unemployment rate Rank\",\"Happiness Rank\"],\"y\":[23,56],\"type\":\"scatter\"},{\"hoverinfo\":\"text\",\"hovertext\":\"Hungary\\u003cbr\\u003eUnemployment rate Rank: 24\\u003cbr\\u003eHappiness Rank: 54\\u003cbr\\u003eMismatch: 30\",\"line\":{\"color\":\"#1E88E5\",\"width\":2},\"mode\":\"lines+markers\",\"name\":\"Hungary\",\"visible\":false,\"x\":[\"Unemployment rate Rank\",\"Happiness Rank\"],\"y\":[24,54],\"type\":\"scatter\"},{\"hoverinfo\":\"text\",\"hovertext\":\"Mexico\\u003cbr\\u003eUnemployment rate Rank: 25\\u003cbr\\u003eHappiness Rank: 22\\u003cbr\\u003eMismatch: 3\",\"line\":{\"color\":\"#1E88E5\",\"width\":2},\"mode\":\"lines+markers\",\"name\":\"Mexico\",\"visible\":false,\"x\":[\"Unemployment rate Rank\",\"Happiness Rank\"],\"y\":[25,22],\"type\":\"scatter\"},{\"hoverinfo\":\"text\",\"hovertext\":\"Iceland\\u003cbr\\u003eUnemployment rate Rank: 26\\u003cbr\\u003eHappiness Rank: 4\\u003cbr\\u003eMismatch: 22\",\"line\":{\"color\":\"#1E88E5\",\"width\":2},\"mode\":\"lines+markers\",\"name\":\"Iceland\",\"visible\":false,\"x\":[\"Unemployment rate Rank\",\"Happiness Rank\"],\"y\":[26,4],\"type\":\"scatter\"},{\"hoverinfo\":\"text\",\"hovertext\":\"Indonesia\\u003cbr\\u003eUnemployment rate Rank: 27\\u003cbr\\u003eHappiness Rank: 74\\u003cbr\\u003eMismatch: 47\",\"line\":{\"color\":\"#D81B60\",\"width\":2},\"mode\":\"lines+markers\",\"name\":\"Indonesia\",\"visible\":false,\"x\":[\"Unemployment rate Rank\",\"Happiness Rank\"],\"y\":[27,74],\"type\":\"scatter\"},{\"hoverinfo\":\"text\",\"hovertext\":\"Malta\\u003cbr\\u003eUnemployment rate Rank: 28\\u003cbr\\u003eHappiness Rank: 21\\u003cbr\\u003eMismatch: 7\",\"line\":{\"color\":\"#1E88E5\",\"width\":2},\"mode\":\"lines+markers\",\"name\":\"Malta\",\"visible\":false,\"x\":[\"Unemployment rate Rank\",\"Happiness Rank\"],\"y\":[28,21],\"type\":\"scatter\"},{\"hoverinfo\":\"text\",\"hovertext\":\"United Kingdom\\u003cbr\\u003eUnemployment rate Rank: 29\\u003cbr\\u003eHappiness Rank: 15\\u003cbr\\u003eMismatch: 14\",\"line\":{\"color\":\"#1E88E5\",\"width\":2},\"mode\":\"lines+markers\",\"name\":\"United Kingdom\",\"visible\":false,\"x\":[\"Unemployment rate Rank\",\"Happiness Rank\"],\"y\":[29,15],\"type\":\"scatter\"},{\"hoverinfo\":\"text\",\"hovertext\":\"United States\\u003cbr\\u003eUnemployment rate Rank: 30\\u003cbr\\u003eHappiness Rank: 19\\u003cbr\\u003eMismatch: 11\",\"line\":{\"color\":\"#1E88E5\",\"width\":2},\"mode\":\"lines+markers\",\"name\":\"United States\",\"visible\":false,\"x\":[\"Unemployment rate Rank\",\"Happiness Rank\"],\"y\":[30,19],\"type\":\"scatter\"},{\"hoverinfo\":\"text\",\"hovertext\":\"Bolivia\\u003cbr\\u003eUnemployment rate Rank: 31\\u003cbr\\u003eHappiness Rank: 53\\u003cbr\\u003eMismatch: 22\",\"line\":{\"color\":\"#1E88E5\",\"width\":2},\"mode\":\"lines+markers\",\"name\":\"Bolivia\",\"visible\":false,\"x\":[\"Unemployment rate Rank\",\"Happiness Rank\"],\"y\":[31,53],\"type\":\"scatter\"},{\"hoverinfo\":\"text\",\"hovertext\":\"Norway\\u003cbr\\u003eUnemployment rate Rank: 32\\u003cbr\\u003eHappiness Rank: 3\\u003cbr\\u003eMismatch: 29\",\"line\":{\"color\":\"#1E88E5\",\"width\":2},\"mode\":\"lines+markers\",\"name\":\"Norway\",\"visible\":false,\"x\":[\"Unemployment rate Rank\",\"Happiness Rank\"],\"y\":[32,3],\"type\":\"scatter\"},{\"hoverinfo\":\"text\",\"hovertext\":\"Israel\\u003cbr\\u003eUnemployment rate Rank: 33\\u003cbr\\u003eHappiness Rank: 13\\u003cbr\\u003eMismatch: 20\",\"line\":{\"color\":\"#1E88E5\",\"width\":2},\"mode\":\"lines+markers\",\"name\":\"Israel\",\"visible\":false,\"x\":[\"Unemployment rate Rank\",\"Happiness Rank\"],\"y\":[33,13],\"type\":\"scatter\"},{\"hoverinfo\":\"text\",\"hovertext\":\"Ecuador\\u003cbr\\u003eUnemployment rate Rank: 34\\u003cbr\\u003eHappiness Rank: 44\\u003cbr\\u003eMismatch: 10\",\"line\":{\"color\":\"#1E88E5\",\"width\":2},\"mode\":\"lines+markers\",\"name\":\"Ecuador\",\"visible\":false,\"x\":[\"Unemployment rate Rank\",\"Happiness Rank\"],\"y\":[34,44],\"type\":\"scatter\"},{\"hoverinfo\":\"text\",\"hovertext\":\"Romania\\u003cbr\\u003eUnemployment rate Rank: 35\\u003cbr\\u003eHappiness Rank: 42\\u003cbr\\u003eMismatch: 7\",\"line\":{\"color\":\"#1E88E5\",\"width\":2},\"mode\":\"lines+markers\",\"name\":\"Romania\",\"visible\":false,\"x\":[\"Unemployment rate Rank\",\"Happiness Rank\"],\"y\":[35,42],\"type\":\"scatter\"},{\"hoverinfo\":\"text\",\"hovertext\":\"New Zealand\\u003cbr\\u003eUnemployment rate Rank: 36\\u003cbr\\u003eHappiness Rank: 8\\u003cbr\\u003eMismatch: 28\",\"line\":{\"color\":\"#1E88E5\",\"width\":2},\"mode\":\"lines+markers\",\"name\":\"New Zealand\",\"visible\":false,\"x\":[\"Unemployment rate Rank\",\"Happiness Rank\"],\"y\":[36,8],\"type\":\"scatter\"},{\"hoverinfo\":\"text\",\"hovertext\":\"Belarus\\u003cbr\\u003eUnemployment rate Rank: 37\\u003cbr\\u003eHappiness Rank: 67\\u003cbr\\u003eMismatch: 30\",\"line\":{\"color\":\"#1E88E5\",\"width\":2},\"mode\":\"lines+markers\",\"name\":\"Belarus\",\"visible\":false,\"x\":[\"Unemployment rate Rank\",\"Happiness Rank\"],\"y\":[37,67],\"type\":\"scatter\"},{\"hoverinfo\":\"text\",\"hovertext\":\"El Salvador\\u003cbr\\u003eUnemployment rate Rank: 38\\u003cbr\\u003eHappiness Rank: 33\\u003cbr\\u003eMismatch: 5\",\"line\":{\"color\":\"#1E88E5\",\"width\":2},\"mode\":\"lines+markers\",\"name\":\"El Salvador\",\"visible\":false,\"x\":[\"Unemployment rate Rank\",\"Happiness Rank\"],\"y\":[38,33],\"type\":\"scatter\"},{\"hoverinfo\":\"text\",\"hovertext\":\"Bulgaria\\u003cbr\\u003eUnemployment rate Rank: 39\\u003cbr\\u003eHappiness Rank: 77\\u003cbr\\u003eMismatch: 38\",\"line\":{\"color\":\"#D81B60\",\"width\":2},\"mode\":\"lines+markers\",\"name\":\"Bulgaria\",\"visible\":false,\"x\":[\"Unemployment rate Rank\",\"Happiness Rank\"],\"y\":[39,77],\"type\":\"scatter\"},{\"hoverinfo\":\"text\",\"hovertext\":\"Switzerland\\u003cbr\\u003eUnemployment rate Rank: 40\\u003cbr\\u003eHappiness Rank: 6\\u003cbr\\u003eMismatch: 34\",\"line\":{\"color\":\"#D81B60\",\"width\":2},\"mode\":\"lines+markers\",\"name\":\"Switzerland\",\"visible\":false,\"x\":[\"Unemployment rate Rank\",\"Happiness Rank\"],\"y\":[40,6],\"type\":\"scatter\"},{\"hoverinfo\":\"text\",\"hovertext\":\"Slovenia\\u003cbr\\u003eUnemployment rate Rank: 41\\u003cbr\\u003eHappiness Rank: 39\\u003cbr\\u003eMismatch: 2\",\"line\":{\"color\":\"#1E88E5\",\"width\":2},\"mode\":\"lines+markers\",\"name\":\"Slovenia\",\"visible\":false,\"x\":[\"Unemployment rate Rank\",\"Happiness Rank\"],\"y\":[41,39],\"type\":\"scatter\"},{\"hoverinfo\":\"text\",\"hovertext\":\"Estonia\\u003cbr\\u003eUnemployment rate Rank: 42\\u003cbr\\u003eHappiness Rank: 47\\u003cbr\\u003eMismatch: 5\",\"line\":{\"color\":\"#1E88E5\",\"width\":2},\"mode\":\"lines+markers\",\"name\":\"Estonia\",\"visible\":false,\"x\":[\"Unemployment rate Rank\",\"Happiness Rank\"],\"y\":[42,47],\"type\":\"scatter\"},{\"hoverinfo\":\"text\",\"hovertext\":\"Austria\\u003cbr\\u003eUnemployment rate Rank: 43\\u003cbr\\u003eHappiness Rank: 10\\u003cbr\\u003eMismatch: 33\",\"line\":{\"color\":\"#D81B60\",\"width\":2},\"mode\":\"lines+markers\",\"name\":\"Austria\",\"visible\":false,\"x\":[\"Unemployment rate Rank\",\"Happiness Rank\"],\"y\":[43,10],\"type\":\"scatter\"},{\"hoverinfo\":\"text\",\"hovertext\":\"Sri Lanka\\u003cbr\\u003eUnemployment rate Rank: 44\\u003cbr\\u003eHappiness Rank: 94\\u003cbr\\u003eMismatch: 50\",\"line\":{\"color\":\"#D81B60\",\"width\":2},\"mode\":\"lines+markers\",\"name\":\"Sri Lanka\",\"visible\":false,\"x\":[\"Unemployment rate Rank\",\"Happiness Rank\"],\"y\":[44,94],\"type\":\"scatter\"},{\"hoverinfo\":\"text\",\"hovertext\":\"Kazakhstan\\u003cbr\\u003eUnemployment rate Rank: 45\\u003cbr\\u003eHappiness Rank: 52\\u003cbr\\u003eMismatch: 7\",\"line\":{\"color\":\"#1E88E5\",\"width\":2},\"mode\":\"lines+markers\",\"name\":\"Kazakhstan\",\"visible\":false,\"x\":[\"Unemployment rate Rank\",\"Happiness Rank\"],\"y\":[45,52],\"type\":\"scatter\"},{\"hoverinfo\":\"text\",\"hovertext\":\"Pakistan\\u003cbr\\u003eUnemployment rate Rank: 46\\u003cbr\\u003eHappiness Rank: 58\\u003cbr\\u003eMismatch: 12\",\"line\":{\"color\":\"#1E88E5\",\"width\":2},\"mode\":\"lines+markers\",\"name\":\"Pakistan\",\"visible\":false,\"x\":[\"Unemployment rate Rank\",\"Happiness Rank\"],\"y\":[46,58],\"type\":\"scatter\"},{\"hoverinfo\":\"text\",\"hovertext\":\"Ireland\\u003cbr\\u003eUnemployment rate Rank: 47\\u003cbr\\u003eHappiness Rank: 16\\u003cbr\\u003eMismatch: 31\",\"line\":{\"color\":\"#D81B60\",\"width\":2},\"mode\":\"lines+markers\",\"name\":\"Ireland\",\"visible\":false,\"x\":[\"Unemployment rate Rank\",\"Happiness Rank\"],\"y\":[47,16],\"type\":\"scatter\"},{\"hoverinfo\":\"text\",\"hovertext\":\"Jamaica\\u003cbr\\u003eUnemployment rate Rank: 48\\u003cbr\\u003eHappiness Rank: 48\\u003cbr\\u003eMismatch: 0\",\"line\":{\"color\":\"#1E88E5\",\"width\":2},\"mode\":\"lines+markers\",\"name\":\"Jamaica\",\"visible\":false,\"x\":[\"Unemployment rate Rank\",\"Happiness Rank\"],\"y\":[48,48],\"type\":\"scatter\"},{\"hoverinfo\":\"text\",\"hovertext\":\"Azerbaijan\\u003cbr\\u003eUnemployment rate Rank: 49\\u003cbr\\u003eHappiness Rank: 72\\u003cbr\\u003eMismatch: 23\",\"line\":{\"color\":\"#1E88E5\",\"width\":2},\"mode\":\"lines+markers\",\"name\":\"Azerbaijan\",\"visible\":false,\"x\":[\"Unemployment rate Rank\",\"Happiness Rank\"],\"y\":[49,72],\"type\":\"scatter\"},{\"hoverinfo\":\"text\",\"hovertext\":\"Kenya\\u003cbr\\u003eUnemployment rate Rank: 50\\u003cbr\\u003eHappiness Rank: 90\\u003cbr\\u003eMismatch: 40\",\"line\":{\"color\":\"#D81B60\",\"width\":2},\"mode\":\"lines+markers\",\"name\":\"Kenya\",\"visible\":false,\"x\":[\"Unemployment rate Rank\",\"Happiness Rank\"],\"y\":[50,90],\"type\":\"scatter\"},{\"hoverinfo\":\"text\",\"hovertext\":\"Denmark\\u003cbr\\u003eUnemployment rate Rank: 51\\u003cbr\\u003eHappiness Rank: 2\\u003cbr\\u003eMismatch: 49\",\"line\":{\"color\":\"#D81B60\",\"width\":2},\"mode\":\"lines+markers\",\"name\":\"Denmark\",\"visible\":false,\"x\":[\"Unemployment rate Rank\",\"Happiness Rank\"],\"y\":[51,2],\"type\":\"scatter\"},{\"hoverinfo\":\"text\",\"hovertext\":\"Guinea\\u003cbr\\u003eUnemployment rate Rank: 52\\u003cbr\\u003eHappiness Rank: 88\\u003cbr\\u003eMismatch: 36\",\"line\":{\"color\":\"#D81B60\",\"width\":2},\"mode\":\"lines+markers\",\"name\":\"Guinea\",\"visible\":false,\"x\":[\"Unemployment rate Rank\",\"Happiness Rank\"],\"y\":[52,88],\"type\":\"scatter\"},{\"hoverinfo\":\"text\",\"hovertext\":\"Australia\\u003cbr\\u003eUnemployment rate Rank: 53\\u003cbr\\u003eHappiness Rank: 11\\u003cbr\\u003eMismatch: 42\",\"line\":{\"color\":\"#D81B60\",\"width\":2},\"mode\":\"lines+markers\",\"name\":\"Australia\",\"visible\":false,\"x\":[\"Unemployment rate Rank\",\"Happiness Rank\"],\"y\":[53,11],\"type\":\"scatter\"},{\"hoverinfo\":\"text\",\"hovertext\":\"China\\u003cbr\\u003eUnemployment rate Rank: 54\\u003cbr\\u003eHappiness Rank: 75\\u003cbr\\u003eMismatch: 21\",\"line\":{\"color\":\"#1E88E5\",\"width\":2},\"mode\":\"lines+markers\",\"name\":\"China\",\"visible\":false,\"x\":[\"Unemployment rate Rank\",\"Happiness Rank\"],\"y\":[54,75],\"type\":\"scatter\"},{\"hoverinfo\":\"text\",\"hovertext\":\"Belgium\\u003cbr\\u003eUnemployment rate Rank: 55\\u003cbr\\u003eHappiness Rank: 18\\u003cbr\\u003eMismatch: 37\",\"line\":{\"color\":\"#D81B60\",\"width\":2},\"mode\":\"lines+markers\",\"name\":\"Belgium\",\"visible\":false,\"x\":[\"Unemployment rate Rank\",\"Happiness Rank\"],\"y\":[55,18],\"type\":\"scatter\"},{\"hoverinfo\":\"text\",\"hovertext\":\"Zambia\\u003cbr\\u003eUnemployment rate Rank: 56\\u003cbr\\u003eHappiness Rank: 98\\u003cbr\\u003eMismatch: 42\",\"line\":{\"color\":\"#D81B60\",\"width\":2},\"mode\":\"lines+markers\",\"name\":\"Zambia\",\"visible\":false,\"x\":[\"Unemployment rate Rank\",\"Happiness Rank\"],\"y\":[56,98],\"type\":\"scatter\"},{\"hoverinfo\":\"text\",\"hovertext\":\"Luxembourg\\u003cbr\\u003eUnemployment rate Rank: 57\\u003cbr\\u003eHappiness Rank: 14\\u003cbr\\u003eMismatch: 43\",\"line\":{\"color\":\"#D81B60\",\"width\":2},\"mode\":\"lines+markers\",\"name\":\"Luxembourg\",\"visible\":false,\"x\":[\"Unemployment rate Rank\",\"Happiness Rank\"],\"y\":[57,14],\"type\":\"scatter\"},{\"hoverinfo\":\"text\",\"hovertext\":\"Saudi Arabia\\u003cbr\\u003eUnemployment rate Rank: 58\\u003cbr\\u003eHappiness Rank: 26\\u003cbr\\u003eMismatch: 32\",\"line\":{\"color\":\"#D81B60\",\"width\":2},\"mode\":\"lines+markers\",\"name\":\"Saudi Arabia\",\"visible\":false,\"x\":[\"Unemployment rate Rank\",\"Happiness Rank\"],\"y\":[58,26],\"type\":\"scatter\"},{\"hoverinfo\":\"text\",\"hovertext\":\"Canada\\u003cbr\\u003eUnemployment rate Rank: 59\\u003cbr\\u003eHappiness Rank: 9\\u003cbr\\u003eMismatch: 50\",\"line\":{\"color\":\"#D81B60\",\"width\":2},\"mode\":\"lines+markers\",\"name\":\"Canada\",\"visible\":false,\"x\":[\"Unemployment rate Rank\",\"Happiness Rank\"],\"y\":[59,9],\"type\":\"scatter\"},{\"hoverinfo\":\"text\",\"hovertext\":\"Honduras\\u003cbr\\u003eUnemployment rate Rank: 60\\u003cbr\\u003eHappiness Rank: 51\\u003cbr\\u003eMismatch: 9\",\"line\":{\"color\":\"#1E88E5\",\"width\":2},\"mode\":\"lines+markers\",\"name\":\"Honduras\",\"visible\":false,\"x\":[\"Unemployment rate Rank\",\"Happiness Rank\"],\"y\":[60,51],\"type\":\"scatter\"},{\"hoverinfo\":\"text\",\"hovertext\":\"Lithuania\\u003cbr\\u003eUnemployment rate Rank: 61\\u003cbr\\u003eHappiness Rank: 37\\u003cbr\\u003eMismatch: 24\",\"line\":{\"color\":\"#1E88E5\",\"width\":2},\"mode\":\"lines+markers\",\"name\":\"Lithuania\",\"visible\":false,\"x\":[\"Unemployment rate Rank\",\"Happiness Rank\"],\"y\":[61,37],\"type\":\"scatter\"},{\"hoverinfo\":\"text\",\"hovertext\":\"Latvia\\u003cbr\\u003eUnemployment rate Rank: 62\\u003cbr\\u003eHappiness Rank: 46\\u003cbr\\u003eMismatch: 16\",\"line\":{\"color\":\"#1E88E5\",\"width\":2},\"mode\":\"lines+markers\",\"name\":\"Latvia\",\"visible\":false,\"x\":[\"Unemployment rate Rank\",\"Happiness Rank\"],\"y\":[62,46],\"type\":\"scatter\"},{\"hoverinfo\":\"text\",\"hovertext\":\"Mauritius\\u003cbr\\u003eUnemployment rate Rank: 63\\u003cbr\\u003eHappiness Rank: 49\\u003cbr\\u003eMismatch: 14\",\"line\":{\"color\":\"#1E88E5\",\"width\":2},\"mode\":\"lines+markers\",\"name\":\"Mauritius\",\"visible\":false,\"x\":[\"Unemployment rate Rank\",\"Happiness Rank\"],\"y\":[63,49],\"type\":\"scatter\"},{\"hoverinfo\":\"text\",\"hovertext\":\"Dominican Republic\\u003cbr\\u003eUnemployment rate Rank: 64\\u003cbr\\u003eHappiness Rank: 64\\u003cbr\\u003eMismatch: 0\",\"line\":{\"color\":\"#1E88E5\",\"width\":2},\"mode\":\"lines+markers\",\"name\":\"Dominican Republic\",\"visible\":false,\"x\":[\"Unemployment rate Rank\",\"Happiness Rank\"],\"y\":[64,64],\"type\":\"scatter\"},{\"hoverinfo\":\"text\",\"hovertext\":\"Panama\\u003cbr\\u003eUnemployment rate Rank: 65\\u003cbr\\u003eHappiness Rank: 29\\u003cbr\\u003eMismatch: 36\",\"line\":{\"color\":\"#D81B60\",\"width\":2},\"mode\":\"lines+markers\",\"name\":\"Panama\",\"visible\":false,\"x\":[\"Unemployment rate Rank\",\"Happiness Rank\"],\"y\":[65,29],\"type\":\"scatter\"},{\"hoverinfo\":\"text\",\"hovertext\":\"Portugal\\u003cbr\\u003eUnemployment rate Rank: 66\\u003cbr\\u003eHappiness Rank: 57\\u003cbr\\u003eMismatch: 9\",\"line\":{\"color\":\"#1E88E5\",\"width\":2},\"mode\":\"lines+markers\",\"name\":\"Portugal\",\"visible\":false,\"x\":[\"Unemployment rate Rank\",\"Happiness Rank\"],\"y\":[66,57],\"type\":\"scatter\"},{\"hoverinfo\":\"text\",\"hovertext\":\"India\\u003cbr\\u003eUnemployment rate Rank: 67\\u003cbr\\u003eHappiness Rank: 100\\u003cbr\\u003eMismatch: 33\",\"line\":{\"color\":\"#D81B60\",\"width\":2},\"mode\":\"lines+markers\",\"name\":\"India\",\"visible\":false,\"x\":[\"Unemployment rate Rank\",\"Happiness Rank\"],\"y\":[67,100],\"type\":\"scatter\"},{\"hoverinfo\":\"text\",\"hovertext\":\"Paraguay\\u003cbr\\u003eUnemployment rate Rank: 68\\u003cbr\\u003eHappiness Rank: 55\\u003cbr\\u003eMismatch: 13\",\"line\":{\"color\":\"#1E88E5\",\"width\":2},\"mode\":\"lines+markers\",\"name\":\"Paraguay\",\"visible\":false,\"x\":[\"Unemployment rate Rank\",\"Happiness Rank\"],\"y\":[68,55],\"type\":\"scatter\"},{\"hoverinfo\":\"text\",\"hovertext\":\"Croatia\\u003cbr\\u003eUnemployment rate Rank: 69\\u003cbr\\u003eHappiness Rank: 63\\u003cbr\\u003eMismatch: 6\",\"line\":{\"color\":\"#1E88E5\",\"width\":2},\"mode\":\"lines+markers\",\"name\":\"Croatia\",\"visible\":false,\"x\":[\"Unemployment rate Rank\",\"Happiness Rank\"],\"y\":[69,63],\"type\":\"scatter\"},{\"hoverinfo\":\"text\",\"hovertext\":\"Finland\\u003cbr\\u003eUnemployment rate Rank: 70\\u003cbr\\u003eHappiness Rank: 1\\u003cbr\\u003eMismatch: 69\",\"line\":{\"color\":\"#D81B60\",\"width\":2},\"mode\":\"lines+markers\",\"name\":\"Finland\",\"visible\":false,\"x\":[\"Unemployment rate Rank\",\"Happiness Rank\"],\"y\":[70,1],\"type\":\"scatter\"},{\"hoverinfo\":\"text\",\"hovertext\":\"Sweden\\u003cbr\\u003eUnemployment rate Rank: 71\\u003cbr\\u003eHappiness Rank: 7\\u003cbr\\u003eMismatch: 64\",\"line\":{\"color\":\"#D81B60\",\"width\":2},\"mode\":\"lines+markers\",\"name\":\"Sweden\",\"visible\":false,\"x\":[\"Unemployment rate Rank\",\"Happiness Rank\"],\"y\":[71,7],\"type\":\"scatter\"},{\"hoverinfo\":\"text\",\"hovertext\":\"Cyprus\\u003cbr\\u003eUnemployment rate Rank: 72\\u003cbr\\u003eHappiness Rank: 43\\u003cbr\\u003eMismatch: 29\",\"line\":{\"color\":\"#1E88E5\",\"width\":2},\"mode\":\"lines+markers\",\"name\":\"Cyprus\",\"visible\":false,\"x\":[\"Unemployment rate Rank\",\"Happiness Rank\"],\"y\":[72,43],\"type\":\"scatter\"},{\"hoverinfo\":\"text\",\"hovertext\":\"Zimbabwe\\u003cbr\\u003eUnemployment rate Rank: 73\\u003cbr\\u003eHappiness Rank: 102\\u003cbr\\u003eMismatch: 29\",\"line\":{\"color\":\"#1E88E5\",\"width\":2},\"mode\":\"lines+markers\",\"name\":\"Zimbabwe\",\"visible\":false,\"x\":[\"Unemployment rate Rank\",\"Happiness Rank\"],\"y\":[73,102],\"type\":\"scatter\"},{\"hoverinfo\":\"text\",\"hovertext\":\"Chile\\u003cbr\\u003eUnemployment rate Rank: 74\\u003cbr\\u003eHappiness Rank: 24\\u003cbr\\u003eMismatch: 50\",\"line\":{\"color\":\"#D81B60\",\"width\":2},\"mode\":\"lines+markers\",\"name\":\"Chile\",\"visible\":false,\"x\":[\"Unemployment rate Rank\",\"Happiness Rank\"],\"y\":[74,24],\"type\":\"scatter\"},{\"hoverinfo\":\"text\",\"hovertext\":\"Ukraine\\u003cbr\\u003eUnemployment rate Rank: 75\\u003cbr\\u003eHappiness Rank: 96\\u003cbr\\u003eMismatch: 21\",\"line\":{\"color\":\"#1E88E5\",\"width\":2},\"mode\":\"lines+markers\",\"name\":\"Ukraine\",\"visible\":false,\"x\":[\"Unemployment rate Rank\",\"Happiness Rank\"],\"y\":[75,96],\"type\":\"scatter\"},{\"hoverinfo\":\"text\",\"hovertext\":\"France\\u003cbr\\u003eUnemployment rate Rank: 76\\u003cbr\\u003eHappiness Rank: 23\\u003cbr\\u003eMismatch: 53\",\"line\":{\"color\":\"#D81B60\",\"width\":2},\"mode\":\"lines+markers\",\"name\":\"France\",\"visible\":false,\"x\":[\"Unemployment rate Rank\",\"Happiness Rank\"],\"y\":[76,23],\"type\":\"scatter\"},{\"hoverinfo\":\"text\",\"hovertext\":\"Uruguay\\u003cbr\\u003eUnemployment rate Rank: 77\\u003cbr\\u003eHappiness Rank: 31\\u003cbr\\u003eMismatch: 46\",\"line\":{\"color\":\"#D81B60\",\"width\":2},\"mode\":\"lines+markers\",\"name\":\"Uruguay\",\"visible\":false,\"x\":[\"Unemployment rate Rank\",\"Happiness Rank\"],\"y\":[77,31],\"type\":\"scatter\"},{\"hoverinfo\":\"text\",\"hovertext\":\"Uzbekistan\\u003cbr\\u003eUnemployment rate Rank: 78\\u003cbr\\u003eHappiness Rank: 36\\u003cbr\\u003eMismatch: 42\",\"line\":{\"color\":\"#D81B60\",\"width\":2},\"mode\":\"lines+markers\",\"name\":\"Uzbekistan\",\"visible\":false,\"x\":[\"Unemployment rate Rank\",\"Happiness Rank\"],\"y\":[78,36],\"type\":\"scatter\"},{\"hoverinfo\":\"text\",\"hovertext\":\"Mongolia\\u003cbr\\u003eUnemployment rate Rank: 79\\u003cbr\\u003eHappiness Rank: 69\\u003cbr\\u003eMismatch: 10\",\"line\":{\"color\":\"#1E88E5\",\"width\":2},\"mode\":\"lines+markers\",\"name\":\"Mongolia\",\"visible\":false,\"x\":[\"Unemployment rate Rank\",\"Happiness Rank\"],\"y\":[79,69],\"type\":\"scatter\"},{\"hoverinfo\":\"text\",\"hovertext\":\"Armenia\\u003cbr\\u003eUnemployment rate Rank: 80\\u003cbr\\u003eHappiness Rank: 87\\u003cbr\\u003eMismatch: 7\",\"line\":{\"color\":\"#1E88E5\",\"width\":2},\"mode\":\"lines+markers\",\"name\":\"Armenia\",\"visible\":false,\"x\":[\"Unemployment rate Rank\",\"Happiness Rank\"],\"y\":[80,87],\"type\":\"scatter\"},{\"hoverinfo\":\"text\",\"hovertext\":\"Argentina\\u003cbr\\u003eUnemployment rate Rank: 81\\u003cbr\\u003eHappiness Rank: 41\\u003cbr\\u003eMismatch: 40\",\"line\":{\"color\":\"#D81B60\",\"width\":2},\"mode\":\"lines+markers\",\"name\":\"Argentina\",\"visible\":false,\"x\":[\"Unemployment rate Rank\",\"Happiness Rank\"],\"y\":[81,41],\"type\":\"scatter\"},{\"hoverinfo\":\"text\",\"hovertext\":\"Italy\\u003cbr\\u003eUnemployment rate Rank: 82\\u003cbr\\u003eHappiness Rank: 34\\u003cbr\\u003eMismatch: 48\",\"line\":{\"color\":\"#D81B60\",\"width\":2},\"mode\":\"lines+markers\",\"name\":\"Italy\",\"visible\":false,\"x\":[\"Unemployment rate Rank\",\"Happiness Rank\"],\"y\":[82,34],\"type\":\"scatter\"},{\"hoverinfo\":\"text\",\"hovertext\":\"Colombia\\u003cbr\\u003eUnemployment rate Rank: 83\\u003cbr\\u003eHappiness Rank: 38\\u003cbr\\u003eMismatch: 45\",\"line\":{\"color\":\"#D81B60\",\"width\":2},\"mode\":\"lines+markers\",\"name\":\"Colombia\",\"visible\":false,\"x\":[\"Unemployment rate Rank\",\"Happiness Rank\"],\"y\":[83,38],\"type\":\"scatter\"},{\"hoverinfo\":\"text\",\"hovertext\":\"Serbia\\u003cbr\\u003eUnemployment rate Rank: 84\\u003cbr\\u003eHappiness Rank: 60\\u003cbr\\u003eMismatch: 24\",\"line\":{\"color\":\"#1E88E5\",\"width\":2},\"mode\":\"lines+markers\",\"name\":\"Serbia\",\"visible\":false,\"x\":[\"Unemployment rate Rank\",\"Happiness Rank\"],\"y\":[84,60],\"type\":\"scatter\"},{\"hoverinfo\":\"text\",\"hovertext\":\"Mauritania\\u003cbr\\u003eUnemployment rate Rank: 85\\u003cbr\\u003eHappiness Rank: 91\\u003cbr\\u003eMismatch: 6\",\"line\":{\"color\":\"#1E88E5\",\"width\":2},\"mode\":\"lines+markers\",\"name\":\"Mauritania\",\"visible\":false,\"x\":[\"Unemployment rate Rank\",\"Happiness Rank\"],\"y\":[85,91],\"type\":\"scatter\"},{\"hoverinfo\":\"text\",\"hovertext\":\"Nigeria\\u003cbr\\u003eUnemployment rate Rank: 86\\u003cbr\\u003eHappiness Rank: 71\\u003cbr\\u003eMismatch: 15\",\"line\":{\"color\":\"#1E88E5\",\"width\":2},\"mode\":\"lines+markers\",\"name\":\"Nigeria\",\"visible\":false,\"x\":[\"Unemployment rate Rank\",\"Happiness Rank\"],\"y\":[86,71],\"type\":\"scatter\"},{\"hoverinfo\":\"text\",\"hovertext\":\"Costa Rica\\u003cbr\\u003eUnemployment rate Rank: 87\\u003cbr\\u003eHappiness Rank: 12\\u003cbr\\u003eMismatch: 75\",\"line\":{\"color\":\"#D81B60\",\"width\":2},\"mode\":\"lines+markers\",\"name\":\"Costa Rica\",\"visible\":false,\"x\":[\"Unemployment rate Rank\",\"Happiness Rank\"],\"y\":[87,12],\"type\":\"scatter\"},{\"hoverinfo\":\"text\",\"hovertext\":\"Rwanda\\u003cbr\\u003eUnemployment rate Rank: 88\\u003cbr\\u003eHappiness Rank: 104\\u003cbr\\u003eMismatch: 16\",\"line\":{\"color\":\"#1E88E5\",\"width\":2},\"mode\":\"lines+markers\",\"name\":\"Rwanda\",\"visible\":false,\"x\":[\"Unemployment rate Rank\",\"Happiness Rank\"],\"y\":[88,104],\"type\":\"scatter\"},{\"hoverinfo\":\"text\",\"hovertext\":\"Lebanon\\u003cbr\\u003eUnemployment rate Rank: 89\\u003cbr\\u003eHappiness Rank: 73\\u003cbr\\u003eMismatch: 16\",\"line\":{\"color\":\"#1E88E5\",\"width\":2},\"mode\":\"lines+markers\",\"name\":\"Lebanon\",\"visible\":false,\"x\":[\"Unemployment rate Rank\",\"Happiness Rank\"],\"y\":[89,73],\"type\":\"scatter\"},{\"hoverinfo\":\"text\",\"hovertext\":\"Albania\\u003cbr\\u003eUnemployment rate Rank: 90\\u003cbr\\u003eHappiness Rank: 81\\u003cbr\\u003eMismatch: 9\",\"line\":{\"color\":\"#1E88E5\",\"width\":2},\"mode\":\"lines+markers\",\"name\":\"Albania\",\"visible\":false,\"x\":[\"Unemployment rate Rank\",\"Happiness Rank\"],\"y\":[90,81],\"type\":\"scatter\"},{\"hoverinfo\":\"text\",\"hovertext\":\"Georgia\\u003cbr\\u003eUnemployment rate Rank: 91\\u003cbr\\u003eHappiness Rank: 89\\u003cbr\\u003eMismatch: 2\",\"line\":{\"color\":\"#1E88E5\",\"width\":2},\"mode\":\"lines+markers\",\"name\":\"Georgia\",\"visible\":false,\"x\":[\"Unemployment rate Rank\",\"Happiness Rank\"],\"y\":[91,89],\"type\":\"scatter\"},{\"hoverinfo\":\"text\",\"hovertext\":\"Brazil\\u003cbr\\u003eUnemployment rate Rank: 92\\u003cbr\\u003eHappiness Rank: 30\\u003cbr\\u003eMismatch: 62\",\"line\":{\"color\":\"#D81B60\",\"width\":2},\"mode\":\"lines+markers\",\"name\":\"Brazil\",\"visible\":false,\"x\":[\"Unemployment rate Rank\",\"Happiness Rank\"],\"y\":[92,30],\"type\":\"scatter\"},{\"hoverinfo\":\"text\",\"hovertext\":\"Spain\\u003cbr\\u003eUnemployment rate Rank: 93\\u003cbr\\u003eHappiness Rank: 28\\u003cbr\\u003eMismatch: 65\",\"line\":{\"color\":\"#D81B60\",\"width\":2},\"mode\":\"lines+markers\",\"name\":\"Spain\",\"visible\":false,\"x\":[\"Unemployment rate Rank\",\"Happiness Rank\"],\"y\":[93,28],\"type\":\"scatter\"},{\"hoverinfo\":\"text\",\"hovertext\":\"Montenegro\\u003cbr\\u003eUnemployment rate Rank: 94\\u003cbr\\u003eHappiness Rank: 62\\u003cbr\\u003eMismatch: 32\",\"line\":{\"color\":\"#D81B60\",\"width\":2},\"mode\":\"lines+markers\",\"name\":\"Montenegro\",\"visible\":false,\"x\":[\"Unemployment rate Rank\",\"Happiness Rank\"],\"y\":[94,62],\"type\":\"scatter\"},{\"hoverinfo\":\"text\",\"hovertext\":\"Bosnia and Herzegovina\\u003cbr\\u003eUnemployment rate Rank: 95\\u003cbr\\u003eHappiness Rank: 65\\u003cbr\\u003eMismatch: 30\",\"line\":{\"color\":\"#1E88E5\",\"width\":2},\"mode\":\"lines+markers\",\"name\":\"Bosnia and Herzegovina\",\"visible\":false,\"x\":[\"Unemployment rate Rank\",\"Happiness Rank\"],\"y\":[95,65],\"type\":\"scatter\"},{\"hoverinfo\":\"text\",\"hovertext\":\"Jordan\\u003cbr\\u003eUnemployment rate Rank: 96\\u003cbr\\u003eHappiness Rank: 78\\u003cbr\\u003eMismatch: 18\",\"line\":{\"color\":\"#1E88E5\",\"width\":2},\"mode\":\"lines+markers\",\"name\":\"Jordan\",\"visible\":false,\"x\":[\"Unemployment rate Rank\",\"Happiness Rank\"],\"y\":[96,78],\"type\":\"scatter\"},{\"hoverinfo\":\"text\",\"hovertext\":\"Lesotho\\u003cbr\\u003eUnemployment rate Rank: 97\\u003cbr\\u003eHappiness Rank: 101\\u003cbr\\u003eMismatch: 4\",\"line\":{\"color\":\"#1E88E5\",\"width\":2},\"mode\":\"lines+markers\",\"name\":\"Lesotho\",\"visible\":false,\"x\":[\"Unemployment rate Rank\",\"Happiness Rank\"],\"y\":[97,101],\"type\":\"scatter\"},{\"hoverinfo\":\"text\",\"hovertext\":\"Greece\\u003cbr\\u003eUnemployment rate Rank: 98\\u003cbr\\u003eHappiness Rank: 68\\u003cbr\\u003eMismatch: 30\",\"line\":{\"color\":\"#1E88E5\",\"width\":2},\"mode\":\"lines+markers\",\"name\":\"Greece\",\"visible\":false,\"x\":[\"Unemployment rate Rank\",\"Happiness Rank\"],\"y\":[98,68],\"type\":\"scatter\"},{\"hoverinfo\":\"text\",\"hovertext\":\"Tunisia\\u003cbr\\u003eUnemployment rate Rank: 99\\u003cbr\\u003eHappiness Rank: 92\\u003cbr\\u003eMismatch: 7\",\"line\":{\"color\":\"#1E88E5\",\"width\":2},\"mode\":\"lines+markers\",\"name\":\"Tunisia\",\"visible\":false,\"x\":[\"Unemployment rate Rank\",\"Happiness Rank\"],\"y\":[99,92],\"type\":\"scatter\"},{\"hoverinfo\":\"text\",\"hovertext\":\"North Macedonia\\u003cbr\\u003eUnemployment rate Rank: 100\\u003cbr\\u003eHappiness Rank: 70\\u003cbr\\u003eMismatch: 30\",\"line\":{\"color\":\"#1E88E5\",\"width\":2},\"mode\":\"lines+markers\",\"name\":\"North Macedonia\",\"visible\":false,\"x\":[\"Unemployment rate Rank\",\"Happiness Rank\"],\"y\":[100,70],\"type\":\"scatter\"},{\"hoverinfo\":\"text\",\"hovertext\":\"Somalia\\u003cbr\\u003eUnemployment rate Rank: 101\\u003cbr\\u003eHappiness Rank: 84\\u003cbr\\u003eMismatch: 17\",\"line\":{\"color\":\"#1E88E5\",\"width\":2},\"mode\":\"lines+markers\",\"name\":\"Somalia\",\"visible\":false,\"x\":[\"Unemployment rate Rank\",\"Happiness Rank\"],\"y\":[101,84],\"type\":\"scatter\"},{\"hoverinfo\":\"text\",\"hovertext\":\"Botswana\\u003cbr\\u003eUnemployment rate Rank: 102\\u003cbr\\u003eHappiness Rank: 103\\u003cbr\\u003eMismatch: 1\",\"line\":{\"color\":\"#1E88E5\",\"width\":2},\"mode\":\"lines+markers\",\"name\":\"Botswana\",\"visible\":false,\"x\":[\"Unemployment rate Rank\",\"Happiness Rank\"],\"y\":[102,103],\"type\":\"scatter\"},{\"hoverinfo\":\"text\",\"hovertext\":\"Kosovo\\u003cbr\\u003eUnemployment rate Rank: 103\\u003cbr\\u003eHappiness Rank: 40\\u003cbr\\u003eMismatch: 63\",\"line\":{\"color\":\"#D81B60\",\"width\":2},\"mode\":\"lines+markers\",\"name\":\"Kosovo\",\"visible\":false,\"x\":[\"Unemployment rate Rank\",\"Happiness Rank\"],\"y\":[103,40],\"type\":\"scatter\"},{\"hoverinfo\":\"text\",\"hovertext\":\"South Africa\\u003cbr\\u003eUnemployment rate Rank: 104\\u003cbr\\u003eHappiness Rank: 80\\u003cbr\\u003eMismatch: 24\",\"line\":{\"color\":\"#1E88E5\",\"width\":2},\"mode\":\"lines+markers\",\"name\":\"South Africa\",\"visible\":false,\"x\":[\"Unemployment rate Rank\",\"Happiness Rank\"],\"y\":[104,80],\"type\":\"scatter\"},{\"hoverinfo\":\"text\",\"hovertext\":\"Namibia\\u003cbr\\u003eEducation expenditure Rank: 1\\u003cbr\\u003eHappiness Rank: 89\\u003cbr\\u003eMismatch: 88\",\"line\":{\"color\":\"#D81B60\",\"width\":2},\"mode\":\"lines+markers\",\"name\":\"Namibia\",\"visible\":false,\"x\":[\"Education expenditure Rank\",\"Happiness Rank\"],\"y\":[1,89],\"type\":\"scatter\"},{\"hoverinfo\":\"text\",\"hovertext\":\"Botswana\\u003cbr\\u003eEducation expenditure Rank: 2\\u003cbr\\u003eHappiness Rank: 115\\u003cbr\\u003eMismatch: 113\",\"line\":{\"color\":\"#D81B60\",\"width\":2},\"mode\":\"lines+markers\",\"name\":\"Botswana\",\"visible\":false,\"x\":[\"Education expenditure Rank\",\"Happiness Rank\"],\"y\":[2,115],\"type\":\"scatter\"},{\"hoverinfo\":\"text\",\"hovertext\":\"Bolivia\\u003cbr\\u003eEducation expenditure Rank: 3\\u003cbr\\u003eHappiness Rank: 52\\u003cbr\\u003eMismatch: 49\",\"line\":{\"color\":\"#D81B60\",\"width\":2},\"mode\":\"lines+markers\",\"name\":\"Bolivia\",\"visible\":false,\"x\":[\"Education expenditure Rank\",\"Happiness Rank\"],\"y\":[3,52],\"type\":\"scatter\"},{\"hoverinfo\":\"text\",\"hovertext\":\"Norway\\u003cbr\\u003eEducation expenditure Rank: 4\\u003cbr\\u003eHappiness Rank: 3\\u003cbr\\u003eMismatch: 1\",\"line\":{\"color\":\"#1E88E5\",\"width\":2},\"mode\":\"lines+markers\",\"name\":\"Norway\",\"visible\":false,\"x\":[\"Education expenditure Rank\",\"Happiness Rank\"],\"y\":[4,3],\"type\":\"scatter\"},{\"hoverinfo\":\"text\",\"hovertext\":\"Sweden\\u003cbr\\u003eEducation expenditure Rank: 5\\u003cbr\\u003eHappiness Rank: 7\\u003cbr\\u003eMismatch: 2\",\"line\":{\"color\":\"#1E88E5\",\"width\":2},\"mode\":\"lines+markers\",\"name\":\"Sweden\",\"visible\":false,\"x\":[\"Education expenditure Rank\",\"Happiness Rank\"],\"y\":[5,7],\"type\":\"scatter\"},{\"hoverinfo\":\"text\",\"hovertext\":\"Iceland\\u003cbr\\u003eEducation expenditure Rank: 6\\u003cbr\\u003eHappiness Rank: 4\\u003cbr\\u003eMismatch: 2\",\"line\":{\"color\":\"#1E88E5\",\"width\":2},\"mode\":\"lines+markers\",\"name\":\"Iceland\",\"visible\":false,\"x\":[\"Education expenditure Rank\",\"Happiness Rank\"],\"y\":[6,4],\"type\":\"scatter\"},{\"hoverinfo\":\"text\",\"hovertext\":\"Sierra Leone\\u003cbr\\u003eEducation expenditure Rank: 7\\u003cbr\\u003eHappiness Rank: 101\\u003cbr\\u003eMismatch: 94\",\"line\":{\"color\":\"#D81B60\",\"width\":2},\"mode\":\"lines+markers\",\"name\":\"Sierra Leone\",\"visible\":false,\"x\":[\"Education expenditure Rank\",\"Happiness Rank\"],\"y\":[7,101],\"type\":\"scatter\"},{\"hoverinfo\":\"text\",\"hovertext\":\"Denmark\\u003cbr\\u003eEducation expenditure Rank: 8\\u003cbr\\u003eHappiness Rank: 2\\u003cbr\\u003eMismatch: 6\",\"line\":{\"color\":\"#1E88E5\",\"width\":2},\"mode\":\"lines+markers\",\"name\":\"Denmark\",\"visible\":false,\"x\":[\"Education expenditure Rank\",\"Happiness Rank\"],\"y\":[8,2],\"type\":\"scatter\"},{\"hoverinfo\":\"text\",\"hovertext\":\"Lesotho\\u003cbr\\u003eEducation expenditure Rank: 9\\u003cbr\\u003eHappiness Rank: 112\\u003cbr\\u003eMismatch: 103\",\"line\":{\"color\":\"#D81B60\",\"width\":2},\"mode\":\"lines+markers\",\"name\":\"Lesotho\",\"visible\":false,\"x\":[\"Education expenditure Rank\",\"Happiness Rank\"],\"y\":[9,112],\"type\":\"scatter\"},{\"hoverinfo\":\"text\",\"hovertext\":\"Costa Rica\\u003cbr\\u003eEducation expenditure Rank: 10\\u003cbr\\u003eHappiness Rank: 12\\u003cbr\\u003eMismatch: 2\",\"line\":{\"color\":\"#1E88E5\",\"width\":2},\"mode\":\"lines+markers\",\"name\":\"Costa Rica\",\"visible\":false,\"x\":[\"Education expenditure Rank\",\"Happiness Rank\"],\"y\":[10,12],\"type\":\"scatter\"},{\"hoverinfo\":\"text\",\"hovertext\":\"Kuwait\\u003cbr\\u003eEducation expenditure Rank: 11\\u003cbr\\u003eHappiness Rank: 43\\u003cbr\\u003eMismatch: 32\",\"line\":{\"color\":\"#D81B60\",\"width\":2},\"mode\":\"lines+markers\",\"name\":\"Kuwait\",\"visible\":false,\"x\":[\"Education expenditure Rank\",\"Happiness Rank\"],\"y\":[11,43],\"type\":\"scatter\"},{\"hoverinfo\":\"text\",\"hovertext\":\"Finland\\u003cbr\\u003eEducation expenditure Rank: 12\\u003cbr\\u003eHappiness Rank: 1\\u003cbr\\u003eMismatch: 11\",\"line\":{\"color\":\"#1E88E5\",\"width\":2},\"mode\":\"lines+markers\",\"name\":\"Finland\",\"visible\":false,\"x\":[\"Education expenditure Rank\",\"Happiness Rank\"],\"y\":[12,1],\"type\":\"scatter\"},{\"hoverinfo\":\"text\",\"hovertext\":\"Belgium\\u003cbr\\u003eEducation expenditure Rank: 13\\u003cbr\\u003eHappiness Rank: 18\\u003cbr\\u003eMismatch: 5\",\"line\":{\"color\":\"#1E88E5\",\"width\":2},\"mode\":\"lines+markers\",\"name\":\"Belgium\",\"visible\":false,\"x\":[\"Education expenditure Rank\",\"Happiness Rank\"],\"y\":[13,18],\"type\":\"scatter\"},{\"hoverinfo\":\"text\",\"hovertext\":\"Uzbekistan\\u003cbr\\u003eEducation expenditure Rank: 14\\u003cbr\\u003eHappiness Rank: 35\\u003cbr\\u003eMismatch: 21\",\"line\":{\"color\":\"#1E88E5\",\"width\":2},\"mode\":\"lines+markers\",\"name\":\"Uzbekistan\",\"visible\":false,\"x\":[\"Education expenditure Rank\",\"Happiness Rank\"],\"y\":[14,35],\"type\":\"scatter\"},{\"hoverinfo\":\"text\",\"hovertext\":\"Mozambique\\u003cbr\\u003eEducation expenditure Rank: 15\\u003cbr\\u003eHappiness Rank: 97\\u003cbr\\u003eMismatch: 82\",\"line\":{\"color\":\"#D81B60\",\"width\":2},\"mode\":\"lines+markers\",\"name\":\"Mozambique\",\"visible\":false,\"x\":[\"Education expenditure Rank\",\"Happiness Rank\"],\"y\":[15,97],\"type\":\"scatter\"},{\"hoverinfo\":\"text\",\"hovertext\":\"Moldova\\u003cbr\\u003eEducation expenditure Rank: 16\\u003cbr\\u003eHappiness Rank: 60\\u003cbr\\u003eMismatch: 44\",\"line\":{\"color\":\"#D81B60\",\"width\":2},\"mode\":\"lines+markers\",\"name\":\"Moldova\",\"visible\":false,\"x\":[\"Education expenditure Rank\",\"Happiness Rank\"],\"y\":[16,60],\"type\":\"scatter\"},{\"hoverinfo\":\"text\",\"hovertext\":\"Tunisia\\u003cbr\\u003eEducation expenditure Rank: 17\\u003cbr\\u003eHappiness Rank: 98\\u003cbr\\u003eMismatch: 81\",\"line\":{\"color\":\"#D81B60\",\"width\":2},\"mode\":\"lines+markers\",\"name\":\"Tunisia\",\"visible\":false,\"x\":[\"Education expenditure Rank\",\"Happiness Rank\"],\"y\":[17,98],\"type\":\"scatter\"},{\"hoverinfo\":\"text\",\"hovertext\":\"Israel\\u003cbr\\u003eEducation expenditure Rank: 18\\u003cbr\\u003eHappiness Rank: 13\\u003cbr\\u003eMismatch: 5\",\"line\":{\"color\":\"#1E88E5\",\"width\":2},\"mode\":\"lines+markers\",\"name\":\"Israel\",\"visible\":false,\"x\":[\"Education expenditure Rank\",\"Happiness Rank\"],\"y\":[18,13],\"type\":\"scatter\"},{\"hoverinfo\":\"text\",\"hovertext\":\"Brazil\\u003cbr\\u003eEducation expenditure Rank: 19\\u003cbr\\u003eHappiness Rank: 28\\u003cbr\\u003eMismatch: 9\",\"line\":{\"color\":\"#1E88E5\",\"width\":2},\"mode\":\"lines+markers\",\"name\":\"Brazil\",\"visible\":false,\"x\":[\"Education expenditure Rank\",\"Happiness Rank\"],\"y\":[19,28],\"type\":\"scatter\"},{\"hoverinfo\":\"text\",\"hovertext\":\"Honduras\\u003cbr\\u003eEducation expenditure Rank: 20\\u003cbr\\u003eHappiness Rank: 50\\u003cbr\\u003eMismatch: 30\",\"line\":{\"color\":\"#1E88E5\",\"width\":2},\"mode\":\"lines+markers\",\"name\":\"Honduras\",\"visible\":false,\"x\":[\"Education expenditure Rank\",\"Happiness Rank\"],\"y\":[20,50],\"type\":\"scatter\"},{\"hoverinfo\":\"text\",\"hovertext\":\"South Africa\\u003cbr\\u003eEducation expenditure Rank: 21\\u003cbr\\u003eHappiness Rank: 85\\u003cbr\\u003eMismatch: 64\",\"line\":{\"color\":\"#D81B60\",\"width\":2},\"mode\":\"lines+markers\",\"name\":\"South Africa\",\"visible\":false,\"x\":[\"Education expenditure Rank\",\"Happiness Rank\"],\"y\":[21,85],\"type\":\"scatter\"},{\"hoverinfo\":\"text\",\"hovertext\":\"Chile\\u003cbr\\u003eEducation expenditure Rank: 22\\u003cbr\\u003eHappiness Rank: 23\\u003cbr\\u003eMismatch: 1\",\"line\":{\"color\":\"#1E88E5\",\"width\":2},\"mode\":\"lines+markers\",\"name\":\"Chile\",\"visible\":false,\"x\":[\"Education expenditure Rank\",\"Happiness Rank\"],\"y\":[22,23],\"type\":\"scatter\"},{\"hoverinfo\":\"text\",\"hovertext\":\"Algeria\\u003cbr\\u003eEducation expenditure Rank: 23\\u003cbr\\u003eHappiness Rank: 71\\u003cbr\\u003eMismatch: 48\",\"line\":{\"color\":\"#D81B60\",\"width\":2},\"mode\":\"lines+markers\",\"name\":\"Algeria\",\"visible\":false,\"x\":[\"Education expenditure Rank\",\"Happiness Rank\"],\"y\":[23,71],\"type\":\"scatter\"},{\"hoverinfo\":\"text\",\"hovertext\":\"Australia\\u003cbr\\u003eEducation expenditure Rank: 24\\u003cbr\\u003eHappiness Rank: 11\\u003cbr\\u003eMismatch: 13\",\"line\":{\"color\":\"#1E88E5\",\"width\":2},\"mode\":\"lines+markers\",\"name\":\"Australia\",\"visible\":false,\"x\":[\"Education expenditure Rank\",\"Happiness Rank\"],\"y\":[24,11],\"type\":\"scatter\"},{\"hoverinfo\":\"text\",\"hovertext\":\"Tajikistan\\u003cbr\\u003eEducation expenditure Rank: 25\\u003cbr\\u003eHappiness Rank: 61\\u003cbr\\u003eMismatch: 36\",\"line\":{\"color\":\"#D81B60\",\"width\":2},\"mode\":\"lines+markers\",\"name\":\"Tajikistan\",\"visible\":false,\"x\":[\"Education expenditure Rank\",\"Happiness Rank\"],\"y\":[25,61],\"type\":\"scatter\"},{\"hoverinfo\":\"text\",\"hovertext\":\"Ukraine\\u003cbr\\u003eEducation expenditure Rank: 26\\u003cbr\\u003eHappiness Rank: 104\\u003cbr\\u003eMismatch: 78\",\"line\":{\"color\":\"#D81B60\",\"width\":2},\"mode\":\"lines+markers\",\"name\":\"Ukraine\",\"visible\":false,\"x\":[\"Education expenditure Rank\",\"Happiness Rank\"],\"y\":[26,104],\"type\":\"scatter\"},{\"hoverinfo\":\"text\",\"hovertext\":\"Burkina Faso\\u003cbr\\u003eEducation expenditure Rank: 27\\u003cbr\\u003eHappiness Rank: 91\\u003cbr\\u003eMismatch: 64\",\"line\":{\"color\":\"#D81B60\",\"width\":2},\"mode\":\"lines+markers\",\"name\":\"Burkina Faso\",\"visible\":false,\"x\":[\"Education expenditure Rank\",\"Happiness Rank\"],\"y\":[27,91],\"type\":\"scatter\"},{\"hoverinfo\":\"text\",\"hovertext\":\"Kenya\\u003cbr\\u003eEducation expenditure Rank: 28\\u003cbr\\u003eHappiness Rank: 95\\u003cbr\\u003eMismatch: 67\",\"line\":{\"color\":\"#D81B60\",\"width\":2},\"mode\":\"lines+markers\",\"name\":\"Kenya\",\"visible\":false,\"x\":[\"Education expenditure Rank\",\"Happiness Rank\"],\"y\":[28,95],\"type\":\"scatter\"},{\"hoverinfo\":\"text\",\"hovertext\":\"France\\u003cbr\\u003eEducation expenditure Rank: 29\\u003cbr\\u003eHappiness Rank: 22\\u003cbr\\u003eMismatch: 7\",\"line\":{\"color\":\"#1E88E5\",\"width\":2},\"mode\":\"lines+markers\",\"name\":\"France\",\"visible\":false,\"x\":[\"Education expenditure Rank\",\"Happiness Rank\"],\"y\":[29,22],\"type\":\"scatter\"},{\"hoverinfo\":\"text\",\"hovertext\":\"Burundi\\u003cbr\\u003eEducation expenditure Rank: 30\\u003cbr\\u003eHappiness Rank: 113\\u003cbr\\u003eMismatch: 83\",\"line\":{\"color\":\"#D81B60\",\"width\":2},\"mode\":\"lines+markers\",\"name\":\"Burundi\",\"visible\":false,\"x\":[\"Education expenditure Rank\",\"Happiness Rank\"],\"y\":[30,113],\"type\":\"scatter\"},{\"hoverinfo\":\"text\",\"hovertext\":\"United Kingdom\\u003cbr\\u003eEducation expenditure Rank: 31\\u003cbr\\u003eHappiness Rank: 15\\u003cbr\\u003eMismatch: 16\",\"line\":{\"color\":\"#1E88E5\",\"width\":2},\"mode\":\"lines+markers\",\"name\":\"United Kingdom\",\"visible\":false,\"x\":[\"Education expenditure Rank\",\"Happiness Rank\"],\"y\":[31,15],\"type\":\"scatter\"},{\"hoverinfo\":\"text\",\"hovertext\":\"Estonia\\u003cbr\\u003eEducation expenditure Rank: 32\\u003cbr\\u003eHappiness Rank: 46\\u003cbr\\u003eMismatch: 14\",\"line\":{\"color\":\"#1E88E5\",\"width\":2},\"mode\":\"lines+markers\",\"name\":\"Estonia\",\"visible\":false,\"x\":[\"Education expenditure Rank\",\"Happiness Rank\"],\"y\":[32,46],\"type\":\"scatter\"},{\"hoverinfo\":\"text\",\"hovertext\":\"Austria\\u003cbr\\u003eEducation expenditure Rank: 33\\u003cbr\\u003eHappiness Rank: 10\\u003cbr\\u003eMismatch: 23\",\"line\":{\"color\":\"#1E88E5\",\"width\":2},\"mode\":\"lines+markers\",\"name\":\"Austria\",\"visible\":false,\"x\":[\"Education expenditure Rank\",\"Happiness Rank\"],\"y\":[33,10],\"type\":\"scatter\"},{\"hoverinfo\":\"text\",\"hovertext\":\"Cyprus\\u003cbr\\u003eEducation expenditure Rank: 34\\u003cbr\\u003eHappiness Rank: 41\\u003cbr\\u003eMismatch: 7\",\"line\":{\"color\":\"#1E88E5\",\"width\":2},\"mode\":\"lines+markers\",\"name\":\"Cyprus\",\"visible\":false,\"x\":[\"Education expenditure Rank\",\"Happiness Rank\"],\"y\":[34,41],\"type\":\"scatter\"},{\"hoverinfo\":\"text\",\"hovertext\":\"New Zealand\\u003cbr\\u003eEducation expenditure Rank: 35\\u003cbr\\u003eHappiness Rank: 8\\u003cbr\\u003eMismatch: 27\",\"line\":{\"color\":\"#1E88E5\",\"width\":2},\"mode\":\"lines+markers\",\"name\":\"New Zealand\",\"visible\":false,\"x\":[\"Education expenditure Rank\",\"Happiness Rank\"],\"y\":[35,8],\"type\":\"scatter\"},{\"hoverinfo\":\"text\",\"hovertext\":\"Jamaica\\u003cbr\\u003eEducation expenditure Rank: 36\\u003cbr\\u003eHappiness Rank: 47\\u003cbr\\u003eMismatch: 11\",\"line\":{\"color\":\"#1E88E5\",\"width\":2},\"mode\":\"lines+markers\",\"name\":\"Jamaica\",\"visible\":false,\"x\":[\"Education expenditure Rank\",\"Happiness Rank\"],\"y\":[36,47],\"type\":\"scatter\"},{\"hoverinfo\":\"text\",\"hovertext\":\"Netherlands\\u003cbr\\u003eEducation expenditure Rank: 37\\u003cbr\\u003eHappiness Rank: 5\\u003cbr\\u003eMismatch: 32\",\"line\":{\"color\":\"#D81B60\",\"width\":2},\"mode\":\"lines+markers\",\"name\":\"Netherlands\",\"visible\":false,\"x\":[\"Education expenditure Rank\",\"Happiness Rank\"],\"y\":[37,5],\"type\":\"scatter\"},{\"hoverinfo\":\"text\",\"hovertext\":\"Germany\\u003cbr\\u003eEducation expenditure Rank: 38\\u003cbr\\u003eHappiness Rank: 17\\u003cbr\\u003eMismatch: 21\",\"line\":{\"color\":\"#1E88E5\",\"width\":2},\"mode\":\"lines+markers\",\"name\":\"Germany\",\"visible\":false,\"x\":[\"Education expenditure Rank\",\"Happiness Rank\"],\"y\":[38,17],\"type\":\"scatter\"},{\"hoverinfo\":\"text\",\"hovertext\":\"Senegal\\u003cbr\\u003eEducation expenditure Rank: 39\\u003cbr\\u003eHappiness Rank: 88\\u003cbr\\u003eMismatch: 49\",\"line\":{\"color\":\"#D81B60\",\"width\":2},\"mode\":\"lines+markers\",\"name\":\"Senegal\",\"visible\":false,\"x\":[\"Education expenditure Rank\",\"Happiness Rank\"],\"y\":[39,88],\"type\":\"scatter\"},{\"hoverinfo\":\"text\",\"hovertext\":\"Switzerland\\u003cbr\\u003eEducation expenditure Rank: 40\\u003cbr\\u003eHappiness Rank: 6\\u003cbr\\u003eMismatch: 34\",\"line\":{\"color\":\"#D81B60\",\"width\":2},\"mode\":\"lines+markers\",\"name\":\"Switzerland\",\"visible\":false,\"x\":[\"Education expenditure Rank\",\"Happiness Rank\"],\"y\":[40,6],\"type\":\"scatter\"},{\"hoverinfo\":\"text\",\"hovertext\":\"Morocco\\u003cbr\\u003eEducation expenditure Rank: 41\\u003cbr\\u003eHappiness Rank: 72\\u003cbr\\u003eMismatch: 31\",\"line\":{\"color\":\"#D81B60\",\"width\":2},\"mode\":\"lines+markers\",\"name\":\"Morocco\",\"visible\":false,\"x\":[\"Education expenditure Rank\",\"Happiness Rank\"],\"y\":[41,72],\"type\":\"scatter\"},{\"hoverinfo\":\"text\",\"hovertext\":\"Belarus\\u003cbr\\u003eEducation expenditure Rank: 42\\u003cbr\\u003eHappiness Rank: 66\\u003cbr\\u003eMismatch: 24\",\"line\":{\"color\":\"#1E88E5\",\"width\":2},\"mode\":\"lines+markers\",\"name\":\"Belarus\",\"visible\":false,\"x\":[\"Education expenditure Rank\",\"Happiness Rank\"],\"y\":[42,66],\"type\":\"scatter\"},{\"hoverinfo\":\"text\",\"hovertext\":\"United States\\u003cbr\\u003eEducation expenditure Rank: 43\\u003cbr\\u003eHappiness Rank: 19\\u003cbr\\u003eMismatch: 24\",\"line\":{\"color\":\"#1E88E5\",\"width\":2},\"mode\":\"lines+markers\",\"name\":\"United States\",\"visible\":false,\"x\":[\"Education expenditure Rank\",\"Happiness Rank\"],\"y\":[43,19],\"type\":\"scatter\"},{\"hoverinfo\":\"text\",\"hovertext\":\"Malta\\u003cbr\\u003eEducation expenditure Rank: 44\\u003cbr\\u003eHappiness Rank: 21\\u003cbr\\u003eMismatch: 23\",\"line\":{\"color\":\"#1E88E5\",\"width\":2},\"mode\":\"lines+markers\",\"name\":\"Malta\",\"visible\":false,\"x\":[\"Education expenditure Rank\",\"Happiness Rank\"],\"y\":[44,21],\"type\":\"scatter\"},{\"hoverinfo\":\"text\",\"hovertext\":\"Slovenia\\u003cbr\\u003eEducation expenditure Rank: 45\\u003cbr\\u003eHappiness Rank: 37\\u003cbr\\u003eMismatch: 8\",\"line\":{\"color\":\"#1E88E5\",\"width\":2},\"mode\":\"lines+markers\",\"name\":\"Slovenia\",\"visible\":false,\"x\":[\"Education expenditure Rank\",\"Happiness Rank\"],\"y\":[45,37],\"type\":\"scatter\"},{\"hoverinfo\":\"text\",\"hovertext\":\"Canada\\u003cbr\\u003eEducation expenditure Rank: 46\\u003cbr\\u003eHappiness Rank: 9\\u003cbr\\u003eMismatch: 37\",\"line\":{\"color\":\"#D81B60\",\"width\":2},\"mode\":\"lines+markers\",\"name\":\"Canada\",\"visible\":false,\"x\":[\"Education expenditure Rank\",\"Happiness Rank\"],\"y\":[46,9],\"type\":\"scatter\"},{\"hoverinfo\":\"text\",\"hovertext\":\"Argentina\\u003cbr\\u003eEducation expenditure Rank: 47\\u003cbr\\u003eHappiness Rank: 39\\u003cbr\\u003eMismatch: 8\",\"line\":{\"color\":\"#1E88E5\",\"width\":2},\"mode\":\"lines+markers\",\"name\":\"Argentina\",\"visible\":false,\"x\":[\"Education expenditure Rank\",\"Happiness Rank\"],\"y\":[47,39],\"type\":\"scatter\"},{\"hoverinfo\":\"text\",\"hovertext\":\"Poland\\u003cbr\\u003eEducation expenditure Rank: 48\\u003cbr\\u003eHappiness Rank: 34\\u003cbr\\u003eMismatch: 14\",\"line\":{\"color\":\"#1E88E5\",\"width\":2},\"mode\":\"lines+markers\",\"name\":\"Poland\",\"visible\":false,\"x\":[\"Education expenditure Rank\",\"Happiness Rank\"],\"y\":[48,34],\"type\":\"scatter\"},{\"hoverinfo\":\"text\",\"hovertext\":\"Portugal\\u003cbr\\u003eEducation expenditure Rank: 49\\u003cbr\\u003eHappiness Rank: 56\\u003cbr\\u003eMismatch: 7\",\"line\":{\"color\":\"#1E88E5\",\"width\":2},\"mode\":\"lines+markers\",\"name\":\"Portugal\",\"visible\":false,\"x\":[\"Education expenditure Rank\",\"Happiness Rank\"],\"y\":[49,56],\"type\":\"scatter\"},{\"hoverinfo\":\"text\",\"hovertext\":\"Uruguay\\u003cbr\\u003eEducation expenditure Rank: 50\\u003cbr\\u003eHappiness Rank: 29\\u003cbr\\u003eMismatch: 21\",\"line\":{\"color\":\"#1E88E5\",\"width\":2},\"mode\":\"lines+markers\",\"name\":\"Uruguay\",\"visible\":false,\"x\":[\"Education expenditure Rank\",\"Happiness Rank\"],\"y\":[50,29],\"type\":\"scatter\"},{\"hoverinfo\":\"text\",\"hovertext\":\"Nicaragua\\u003cbr\\u003eEducation expenditure Rank: 51\\u003cbr\\u003eHappiness Rank: 38\\u003cbr\\u003eMismatch: 13\",\"line\":{\"color\":\"#1E88E5\",\"width\":2},\"mode\":\"lines+markers\",\"name\":\"Nicaragua\",\"visible\":false,\"x\":[\"Education expenditure Rank\",\"Happiness Rank\"],\"y\":[51,38],\"type\":\"scatter\"},{\"hoverinfo\":\"text\",\"hovertext\":\"Mauritius\\u003cbr\\u003eEducation expenditure Rank: 52\\u003cbr\\u003eHappiness Rank: 48\\u003cbr\\u003eMismatch: 4\",\"line\":{\"color\":\"#1E88E5\",\"width\":2},\"mode\":\"lines+markers\",\"name\":\"Mauritius\",\"visible\":false,\"x\":[\"Education expenditure Rank\",\"Happiness Rank\"],\"y\":[52,48],\"type\":\"scatter\"},{\"hoverinfo\":\"text\",\"hovertext\":\"Bhutan\\u003cbr\\u003eEducation expenditure Rank: 53\\u003cbr\\u003eHappiness Rank: 77\\u003cbr\\u003eMismatch: 24\",\"line\":{\"color\":\"#1E88E5\",\"width\":2},\"mode\":\"lines+markers\",\"name\":\"Bhutan\",\"visible\":false,\"x\":[\"Education expenditure Rank\",\"Happiness Rank\"],\"y\":[53,77],\"type\":\"scatter\"},{\"hoverinfo\":\"text\",\"hovertext\":\"Ethiopia\\u003cbr\\u003eEducation expenditure Rank: 54\\u003cbr\\u003eHappiness Rank: 105\\u003cbr\\u003eMismatch: 51\",\"line\":{\"color\":\"#D81B60\",\"width\":2},\"mode\":\"lines+markers\",\"name\":\"Ethiopia\",\"visible\":false,\"x\":[\"Education expenditure Rank\",\"Happiness Rank\"],\"y\":[54,105],\"type\":\"scatter\"},{\"hoverinfo\":\"text\",\"hovertext\":\"Latvia\\u003cbr\\u003eEducation expenditure Rank: 55\\u003cbr\\u003eHappiness Rank: 45\\u003cbr\\u003eMismatch: 10\",\"line\":{\"color\":\"#1E88E5\",\"width\":2},\"mode\":\"lines+markers\",\"name\":\"Latvia\",\"visible\":false,\"x\":[\"Education expenditure Rank\",\"Happiness Rank\"],\"y\":[55,45],\"type\":\"scatter\"},{\"hoverinfo\":\"text\",\"hovertext\":\"Zambia\\u003cbr\\u003eEducation expenditure Rank: 56\\u003cbr\\u003eHappiness Rank: 107\\u003cbr\\u003eMismatch: 51\",\"line\":{\"color\":\"#D81B60\",\"width\":2},\"mode\":\"lines+markers\",\"name\":\"Zambia\",\"visible\":false,\"x\":[\"Education expenditure Rank\",\"Happiness Rank\"],\"y\":[56,107],\"type\":\"scatter\"},{\"hoverinfo\":\"text\",\"hovertext\":\"Ecuador\\u003cbr\\u003eEducation expenditure Rank: 57\\u003cbr\\u003eHappiness Rank: 42\\u003cbr\\u003eMismatch: 15\",\"line\":{\"color\":\"#1E88E5\",\"width\":2},\"mode\":\"lines+markers\",\"name\":\"Ecuador\",\"visible\":false,\"x\":[\"Education expenditure Rank\",\"Happiness Rank\"],\"y\":[57,42],\"type\":\"scatter\"},{\"hoverinfo\":\"text\",\"hovertext\":\"Spain\\u003cbr\\u003eEducation expenditure Rank: 58\\u003cbr\\u003eHappiness Rank: 26\\u003cbr\\u003eMismatch: 32\",\"line\":{\"color\":\"#D81B60\",\"width\":2},\"mode\":\"lines+markers\",\"name\":\"Spain\",\"visible\":false,\"x\":[\"Education expenditure Rank\",\"Happiness Rank\"],\"y\":[58,26],\"type\":\"scatter\"},{\"hoverinfo\":\"text\",\"hovertext\":\"Hungary\\u003cbr\\u003eEducation expenditure Rank: 59\\u003cbr\\u003eHappiness Rank: 53\\u003cbr\\u003eMismatch: 6\",\"line\":{\"color\":\"#1E88E5\",\"width\":2},\"mode\":\"lines+markers\",\"name\":\"Hungary\",\"visible\":false,\"x\":[\"Education expenditure Rank\",\"Happiness Rank\"],\"y\":[59,53],\"type\":\"scatter\"},{\"hoverinfo\":\"text\",\"hovertext\":\"Togo\\u003cbr\\u003eEducation expenditure Rank: 60\\u003cbr\\u003eHappiness Rank: 108\\u003cbr\\u003eMismatch: 48\",\"line\":{\"color\":\"#D81B60\",\"width\":2},\"mode\":\"lines+markers\",\"name\":\"Togo\",\"visible\":false,\"x\":[\"Education expenditure Rank\",\"Happiness Rank\"],\"y\":[60,108],\"type\":\"scatter\"},{\"hoverinfo\":\"text\",\"hovertext\":\"Bulgaria\\u003cbr\\u003eEducation expenditure Rank: 61\\u003cbr\\u003eHappiness Rank: 79\\u003cbr\\u003eMismatch: 18\",\"line\":{\"color\":\"#1E88E5\",\"width\":2},\"mode\":\"lines+markers\",\"name\":\"Bulgaria\",\"visible\":false,\"x\":[\"Education expenditure Rank\",\"Happiness Rank\"],\"y\":[61,79],\"type\":\"scatter\"},{\"hoverinfo\":\"text\",\"hovertext\":\"Italy\\u003cbr\\u003eEducation expenditure Rank: 62\\u003cbr\\u003eHappiness Rank: 32\\u003cbr\\u003eMismatch: 30\",\"line\":{\"color\":\"#1E88E5\",\"width\":2},\"mode\":\"lines+markers\",\"name\":\"Italy\",\"visible\":false,\"x\":[\"Education expenditure Rank\",\"Happiness Rank\"],\"y\":[62,32],\"type\":\"scatter\"},{\"hoverinfo\":\"text\",\"hovertext\":\"China\\u003cbr\\u003eEducation expenditure Rank: 63\\u003cbr\\u003eHappiness Rank: 76\\u003cbr\\u003eMismatch: 13\",\"line\":{\"color\":\"#1E88E5\",\"width\":2},\"mode\":\"lines+markers\",\"name\":\"China\",\"visible\":false,\"x\":[\"Education expenditure Rank\",\"Happiness Rank\"],\"y\":[63,76],\"type\":\"scatter\"},{\"hoverinfo\":\"text\",\"hovertext\":\"Bosnia and Herzegovina\\u003cbr\\u003eEducation expenditure Rank: 64\\u003cbr\\u003eHappiness Rank: 64\\u003cbr\\u003eMismatch: 0\",\"line\":{\"color\":\"#1E88E5\",\"width\":2},\"mode\":\"lines+markers\",\"name\":\"Bosnia and Herzegovina\",\"visible\":false,\"x\":[\"Education expenditure Rank\",\"Happiness Rank\"],\"y\":[64,64],\"type\":\"scatter\"},{\"hoverinfo\":\"text\",\"hovertext\":\"Dominican Republic\\u003cbr\\u003eEducation expenditure Rank: 65\\u003cbr\\u003eHappiness Rank: 63\\u003cbr\\u003eMismatch: 2\",\"line\":{\"color\":\"#1E88E5\",\"width\":2},\"mode\":\"lines+markers\",\"name\":\"Dominican Republic\",\"visible\":false,\"x\":[\"Education expenditure Rank\",\"Happiness Rank\"],\"y\":[65,63],\"type\":\"scatter\"},{\"hoverinfo\":\"text\",\"hovertext\":\"Malaysia\\u003cbr\\u003eEducation expenditure Rank: 66\\u003cbr\\u003eHappiness Rank: 65\\u003cbr\\u003eMismatch: 1\",\"line\":{\"color\":\"#1E88E5\",\"width\":2},\"mode\":\"lines+markers\",\"name\":\"Malaysia\",\"visible\":false,\"x\":[\"Education expenditure Rank\",\"Happiness Rank\"],\"y\":[66,65],\"type\":\"scatter\"},{\"hoverinfo\":\"text\",\"hovertext\":\"Lithuania\\u003cbr\\u003eEducation expenditure Rank: 67\\u003cbr\\u003eHappiness Rank: 36\\u003cbr\\u003eMismatch: 31\",\"line\":{\"color\":\"#D81B60\",\"width\":2},\"mode\":\"lines+markers\",\"name\":\"Lithuania\",\"visible\":false,\"x\":[\"Education expenditure Rank\",\"Happiness Rank\"],\"y\":[67,36],\"type\":\"scatter\"},{\"hoverinfo\":\"text\",\"hovertext\":\"Croatia\\u003cbr\\u003eEducation expenditure Rank: 68\\u003cbr\\u003eHappiness Rank: 62\\u003cbr\\u003eMismatch: 6\",\"line\":{\"color\":\"#1E88E5\",\"width\":2},\"mode\":\"lines+markers\",\"name\":\"Croatia\",\"visible\":false,\"x\":[\"Education expenditure Rank\",\"Happiness Rank\"],\"y\":[68,62],\"type\":\"scatter\"},{\"hoverinfo\":\"text\",\"hovertext\":\"Albania\\u003cbr\\u003eEducation expenditure Rank: 69\\u003cbr\\u003eHappiness Rank: 86\\u003cbr\\u003eMismatch: 17\",\"line\":{\"color\":\"#1E88E5\",\"width\":2},\"mode\":\"lines+markers\",\"name\":\"Albania\",\"visible\":false,\"x\":[\"Education expenditure Rank\",\"Happiness Rank\"],\"y\":[69,86],\"type\":\"scatter\"},{\"hoverinfo\":\"text\",\"hovertext\":\"India\\u003cbr\\u003eEducation expenditure Rank: 70\\u003cbr\\u003eHappiness Rank: 109\\u003cbr\\u003eMismatch: 39\",\"line\":{\"color\":\"#D81B60\",\"width\":2},\"mode\":\"lines+markers\",\"name\":\"India\",\"visible\":false,\"x\":[\"Education expenditure Rank\",\"Happiness Rank\"],\"y\":[70,109],\"type\":\"scatter\"},{\"hoverinfo\":\"text\",\"hovertext\":\"United Arab Emirates\\u003cbr\\u003eEducation expenditure Rank: 71\\u003cbr\\u003eHappiness Rank: 20\\u003cbr\\u003eMismatch: 51\",\"line\":{\"color\":\"#D81B60\",\"width\":2},\"mode\":\"lines+markers\",\"name\":\"United Arab Emirates\",\"visible\":false,\"x\":[\"Education expenditure Rank\",\"Happiness Rank\"],\"y\":[71,20],\"type\":\"scatter\"},{\"hoverinfo\":\"text\",\"hovertext\":\"Georgia\\u003cbr\\u003eEducation expenditure Rank: 72\\u003cbr\\u003eHappiness Rank: 94\\u003cbr\\u003eMismatch: 22\",\"line\":{\"color\":\"#1E88E5\",\"width\":2},\"mode\":\"lines+markers\",\"name\":\"Georgia\",\"visible\":false,\"x\":[\"Education expenditure Rank\",\"Happiness Rank\"],\"y\":[72,94],\"type\":\"scatter\"},{\"hoverinfo\":\"text\",\"hovertext\":\"Peru\\u003cbr\\u003eEducation expenditure Rank: 73\\u003cbr\\u003eHappiness Rank: 55\\u003cbr\\u003eMismatch: 18\",\"line\":{\"color\":\"#1E88E5\",\"width\":2},\"mode\":\"lines+markers\",\"name\":\"Peru\",\"visible\":false,\"x\":[\"Education expenditure Rank\",\"Happiness Rank\"],\"y\":[73,55],\"type\":\"scatter\"},{\"hoverinfo\":\"text\",\"hovertext\":\"Luxembourg\\u003cbr\\u003eEducation expenditure Rank: 74\\u003cbr\\u003eHappiness Rank: 14\\u003cbr\\u003eMismatch: 60\",\"line\":{\"color\":\"#D81B60\",\"width\":2},\"mode\":\"lines+markers\",\"name\":\"Luxembourg\",\"visible\":false,\"x\":[\"Education expenditure Rank\",\"Happiness Rank\"],\"y\":[74,14],\"type\":\"scatter\"},{\"hoverinfo\":\"text\",\"hovertext\":\"Mongolia\\u003cbr\\u003eEducation expenditure Rank: 75\\u003cbr\\u003eHappiness Rank: 68\\u003cbr\\u003eMismatch: 7\",\"line\":{\"color\":\"#1E88E5\",\"width\":2},\"mode\":\"lines+markers\",\"name\":\"Mongolia\",\"visible\":false,\"x\":[\"Education expenditure Rank\",\"Happiness Rank\"],\"y\":[75,68],\"type\":\"scatter\"},{\"hoverinfo\":\"text\",\"hovertext\":\"Serbia\\u003cbr\\u003eEducation expenditure Rank: 76\\u003cbr\\u003eHappiness Rank: 59\\u003cbr\\u003eMismatch: 17\",\"line\":{\"color\":\"#1E88E5\",\"width\":2},\"mode\":\"lines+markers\",\"name\":\"Serbia\",\"visible\":false,\"x\":[\"Education expenditure Rank\",\"Happiness Rank\"],\"y\":[76,59],\"type\":\"scatter\"},{\"hoverinfo\":\"text\",\"hovertext\":\"Tanzania\\u003cbr\\u003eEducation expenditure Rank: 77\\u003cbr\\u003eHappiness Rank: 117\\u003cbr\\u003eMismatch: 40\",\"line\":{\"color\":\"#D81B60\",\"width\":2},\"mode\":\"lines+markers\",\"name\":\"Tanzania\",\"visible\":false,\"x\":[\"Education expenditure Rank\",\"Happiness Rank\"],\"y\":[77,117],\"type\":\"scatter\"},{\"hoverinfo\":\"text\",\"hovertext\":\"Greece\\u003cbr\\u003eEducation expenditure Rank: 78\\u003cbr\\u003eHappiness Rank: 67\\u003cbr\\u003eMismatch: 11\",\"line\":{\"color\":\"#1E88E5\",\"width\":2},\"mode\":\"lines+markers\",\"name\":\"Greece\",\"visible\":false,\"x\":[\"Education expenditure Rank\",\"Happiness Rank\"],\"y\":[78,67],\"type\":\"scatter\"},{\"hoverinfo\":\"text\",\"hovertext\":\"Romania\\u003cbr\\u003eEducation expenditure Rank: 79\\u003cbr\\u003eHappiness Rank: 40\\u003cbr\\u003eMismatch: 39\",\"line\":{\"color\":\"#D81B60\",\"width\":2},\"mode\":\"lines+markers\",\"name\":\"Romania\",\"visible\":false,\"x\":[\"Education expenditure Rank\",\"Happiness Rank\"],\"y\":[79,40],\"type\":\"scatter\"},{\"hoverinfo\":\"text\",\"hovertext\":\"Mali\\u003cbr\\u003eEducation expenditure Rank: 80\\u003cbr\\u003eHappiness Rank: 100\\u003cbr\\u003eMismatch: 20\",\"line\":{\"color\":\"#1E88E5\",\"width\":2},\"mode\":\"lines+markers\",\"name\":\"Mali\",\"visible\":false,\"x\":[\"Education expenditure Rank\",\"Happiness Rank\"],\"y\":[80,100],\"type\":\"scatter\"},{\"hoverinfo\":\"text\",\"hovertext\":\"Niger\\u003cbr\\u003eEducation expenditure Rank: 81\\u003cbr\\u003eHappiness Rank: 90\\u003cbr\\u003eMismatch: 9\",\"line\":{\"color\":\"#1E88E5\",\"width\":2},\"mode\":\"lines+markers\",\"name\":\"Niger\",\"visible\":false,\"x\":[\"Education expenditure Rank\",\"Happiness Rank\"],\"y\":[81,90],\"type\":\"scatter\"},{\"hoverinfo\":\"text\",\"hovertext\":\"Paraguay\\u003cbr\\u003eEducation expenditure Rank: 82\\u003cbr\\u003eHappiness Rank: 54\\u003cbr\\u003eMismatch: 28\",\"line\":{\"color\":\"#1E88E5\",\"width\":2},\"mode\":\"lines+markers\",\"name\":\"Paraguay\",\"visible\":false,\"x\":[\"Education expenditure Rank\",\"Happiness Rank\"],\"y\":[82,54],\"type\":\"scatter\"},{\"hoverinfo\":\"text\",\"hovertext\":\"Nepal\\u003cbr\\u003eEducation expenditure Rank: 83\\u003cbr\\u003eHappiness Rank: 81\\u003cbr\\u003eMismatch: 2\",\"line\":{\"color\":\"#1E88E5\",\"width\":2},\"mode\":\"lines+markers\",\"name\":\"Nepal\",\"visible\":false,\"x\":[\"Education expenditure Rank\",\"Happiness Rank\"],\"y\":[83,81],\"type\":\"scatter\"},{\"hoverinfo\":\"text\",\"hovertext\":\"Philippines\\u003cbr\\u003eEducation expenditure Rank: 84\\u003cbr\\u003eHappiness Rank: 58\\u003cbr\\u003eMismatch: 26\",\"line\":{\"color\":\"#1E88E5\",\"width\":2},\"mode\":\"lines+markers\",\"name\":\"Philippines\",\"visible\":false,\"x\":[\"Education expenditure Rank\",\"Happiness Rank\"],\"y\":[84,58],\"type\":\"scatter\"},{\"hoverinfo\":\"text\",\"hovertext\":\"El Salvador\\u003cbr\\u003eEducation expenditure Rank: 85\\u003cbr\\u003eHappiness Rank: 31\\u003cbr\\u003eMismatch: 54\",\"line\":{\"color\":\"#D81B60\",\"width\":2},\"mode\":\"lines+markers\",\"name\":\"El Salvador\",\"visible\":false,\"x\":[\"Education expenditure Rank\",\"Happiness Rank\"],\"y\":[85,31],\"type\":\"scatter\"},{\"hoverinfo\":\"text\",\"hovertext\":\"Kazakhstan\\u003cbr\\u003eEducation expenditure Rank: 86\\u003cbr\\u003eHappiness Rank: 51\\u003cbr\\u003eMismatch: 35\",\"line\":{\"color\":\"#D81B60\",\"width\":2},\"mode\":\"lines+markers\",\"name\":\"Kazakhstan\",\"visible\":false,\"x\":[\"Education expenditure Rank\",\"Happiness Rank\"],\"y\":[86,51],\"type\":\"scatter\"},{\"hoverinfo\":\"text\",\"hovertext\":\"Ireland\\u003cbr\\u003eEducation expenditure Rank: 87\\u003cbr\\u003eHappiness Rank: 16\\u003cbr\\u003eMismatch: 71\",\"line\":{\"color\":\"#D81B60\",\"width\":2},\"mode\":\"lines+markers\",\"name\":\"Ireland\",\"visible\":false,\"x\":[\"Education expenditure Rank\",\"Happiness Rank\"],\"y\":[87,16],\"type\":\"scatter\"},{\"hoverinfo\":\"text\",\"hovertext\":\"Rwanda\\u003cbr\\u003eEducation expenditure Rank: 88\\u003cbr\\u003eHappiness Rank: 116\\u003cbr\\u003eMismatch: 28\",\"line\":{\"color\":\"#1E88E5\",\"width\":2},\"mode\":\"lines+markers\",\"name\":\"Rwanda\",\"visible\":false,\"x\":[\"Education expenditure Rank\",\"Happiness Rank\"],\"y\":[88,116],\"type\":\"scatter\"},{\"hoverinfo\":\"text\",\"hovertext\":\"Guatemala\\u003cbr\\u003eEducation expenditure Rank: 89\\u003cbr\\u003eHappiness Rank: 24\\u003cbr\\u003eMismatch: 65\",\"line\":{\"color\":\"#D81B60\",\"width\":2},\"mode\":\"lines+markers\",\"name\":\"Guatemala\",\"visible\":false,\"x\":[\"Education expenditure Rank\",\"Happiness Rank\"],\"y\":[89,24],\"type\":\"scatter\"},{\"hoverinfo\":\"text\",\"hovertext\":\"Azerbaijan\\u003cbr\\u003eEducation expenditure Rank: 90\\u003cbr\\u003eHappiness Rank: 72\\u003cbr\\u003eMismatch: 18\",\"line\":{\"color\":\"#1E88E5\",\"width\":2},\"mode\":\"lines+markers\",\"name\":\"Azerbaijan\",\"visible\":false,\"x\":[\"Education expenditure Rank\",\"Happiness Rank\"],\"y\":[90,72],\"type\":\"scatter\"},{\"hoverinfo\":\"text\",\"hovertext\":\"Japan\\u003cbr\\u003eEducation expenditure Rank: 91\\u003cbr\\u003eHappiness Rank: 49\\u003cbr\\u003eMismatch: 42\",\"line\":{\"color\":\"#D81B60\",\"width\":2},\"mode\":\"lines+markers\",\"name\":\"Japan\",\"visible\":false,\"x\":[\"Education expenditure Rank\",\"Happiness Rank\"],\"y\":[91,49],\"type\":\"scatter\"},{\"hoverinfo\":\"text\",\"hovertext\":\"Ghana\\u003cbr\\u003eEducation expenditure Rank: 92\\u003cbr\\u003eHappiness Rank: 80\\u003cbr\\u003eMismatch: 12\",\"line\":{\"color\":\"#1E88E5\",\"width\":2},\"mode\":\"lines+markers\",\"name\":\"Ghana\",\"visible\":false,\"x\":[\"Education expenditure Rank\",\"Happiness Rank\"],\"y\":[92,80],\"type\":\"scatter\"},{\"hoverinfo\":\"text\",\"hovertext\":\"Turkmenistan\\u003cbr\\u003eEducation expenditure Rank: 93\\u003cbr\\u003eHappiness Rank: 70\\u003cbr\\u003eMismatch: 23\",\"line\":{\"color\":\"#1E88E5\",\"width\":2},\"mode\":\"lines+markers\",\"name\":\"Turkmenistan\",\"visible\":false,\"x\":[\"Education expenditure Rank\",\"Happiness Rank\"],\"y\":[93,70],\"type\":\"scatter\"},{\"hoverinfo\":\"text\",\"hovertext\":\"Panama\\u003cbr\\u003eEducation expenditure Rank: 94\\u003cbr\\u003eHappiness Rank: 27\\u003cbr\\u003eMismatch: 67\",\"line\":{\"color\":\"#D81B60\",\"width\":2},\"mode\":\"lines+markers\",\"name\":\"Panama\",\"visible\":false,\"x\":[\"Education expenditure Rank\",\"Happiness Rank\"],\"y\":[94,27],\"type\":\"scatter\"},{\"hoverinfo\":\"text\",\"hovertext\":\"Cameroon\\u003cbr\\u003eEducation expenditure Rank: 95\\u003cbr\\u003eHappiness Rank: 78\\u003cbr\\u003eMismatch: 17\",\"line\":{\"color\":\"#1E88E5\",\"width\":2},\"mode\":\"lines+markers\",\"name\":\"Cameroon\",\"visible\":false,\"x\":[\"Education expenditure Rank\",\"Happiness Rank\"],\"y\":[95,78],\"type\":\"scatter\"},{\"hoverinfo\":\"text\",\"hovertext\":\"Thailand\\u003cbr\\u003eEducation expenditure Rank: 96\\u003cbr\\u003eHappiness Rank: 44\\u003cbr\\u003eMismatch: 52\",\"line\":{\"color\":\"#D81B60\",\"width\":2},\"mode\":\"lines+markers\",\"name\":\"Thailand\",\"visible\":false,\"x\":[\"Education expenditure Rank\",\"Happiness Rank\"],\"y\":[96,44],\"type\":\"scatter\"},{\"hoverinfo\":\"text\",\"hovertext\":\"Madagascar\\u003cbr\\u003eEducation expenditure Rank: 97\\u003cbr\\u003eHappiness Rank: 111\\u003cbr\\u003eMismatch: 14\",\"line\":{\"color\":\"#1E88E5\",\"width\":2},\"mode\":\"lines+markers\",\"name\":\"Madagascar\",\"visible\":false,\"x\":[\"Education expenditure Rank\",\"Happiness Rank\"],\"y\":[97,111],\"type\":\"scatter\"},{\"hoverinfo\":\"text\",\"hovertext\":\"Jordan\\u003cbr\\u003eEducation expenditure Rank: 98\\u003cbr\\u003eHappiness Rank: 82\\u003cbr\\u003eMismatch: 16\",\"line\":{\"color\":\"#1E88E5\",\"width\":2},\"mode\":\"lines+markers\",\"name\":\"Jordan\",\"visible\":false,\"x\":[\"Education expenditure Rank\",\"Happiness Rank\"],\"y\":[98,82],\"type\":\"scatter\"},{\"hoverinfo\":\"text\",\"hovertext\":\"Benin\\u003cbr\\u003eEducation expenditure Rank: 99\\u003cbr\\u003eHappiness Rank: 83\\u003cbr\\u003eMismatch: 16\",\"line\":{\"color\":\"#1E88E5\",\"width\":2},\"mode\":\"lines+markers\",\"name\":\"Benin\",\"visible\":false,\"x\":[\"Education expenditure Rank\",\"Happiness Rank\"],\"y\":[99,83],\"type\":\"scatter\"},{\"hoverinfo\":\"text\",\"hovertext\":\"Gabon\\u003cbr\\u003eEducation expenditure Rank: 100\\u003cbr\\u003eHappiness Rank: 84\\u003cbr\\u003eMismatch: 16\",\"line\":{\"color\":\"#1E88E5\",\"width\":2},\"mode\":\"lines+markers\",\"name\":\"Gabon\",\"visible\":false,\"x\":[\"Education expenditure Rank\",\"Happiness Rank\"],\"y\":[100,84],\"type\":\"scatter\"},{\"hoverinfo\":\"text\",\"hovertext\":\"Cambodia\\u003cbr\\u003eEducation expenditure Rank: 101\\u003cbr\\u003eHappiness Rank: 87\\u003cbr\\u003eMismatch: 14\",\"line\":{\"color\":\"#1E88E5\",\"width\":2},\"mode\":\"lines+markers\",\"name\":\"Cambodia\",\"visible\":false,\"x\":[\"Education expenditure Rank\",\"Happiness Rank\"],\"y\":[101,87],\"type\":\"scatter\"},{\"hoverinfo\":\"text\",\"hovertext\":\"Qatar\\u003cbr\\u003eEducation expenditure Rank: 102\\u003cbr\\u003eHappiness Rank: 25\\u003cbr\\u003eMismatch: 77\",\"line\":{\"color\":\"#D81B60\",\"width\":2},\"mode\":\"lines+markers\",\"name\":\"Qatar\",\"visible\":false,\"x\":[\"Education expenditure Rank\",\"Happiness Rank\"],\"y\":[102,25],\"type\":\"scatter\"},{\"hoverinfo\":\"text\",\"hovertext\":\"Singapore\\u003cbr\\u003eEducation expenditure Rank: 103\\u003cbr\\u003eHappiness Rank: 30\\u003cbr\\u003eMismatch: 73\",\"line\":{\"color\":\"#D81B60\",\"width\":2},\"mode\":\"lines+markers\",\"name\":\"Singapore\",\"visible\":false,\"x\":[\"Education expenditure Rank\",\"Happiness Rank\"],\"y\":[103,30],\"type\":\"scatter\"},{\"hoverinfo\":\"text\",\"hovertext\":\"Lebanon\\u003cbr\\u003eEducation expenditure Rank: 104\\u003cbr\\u003eHappiness Rank: 74\\u003cbr\\u003eMismatch: 30\",\"line\":{\"color\":\"#1E88E5\",\"width\":2},\"mode\":\"lines+markers\",\"name\":\"Lebanon\",\"visible\":false,\"x\":[\"Education expenditure Rank\",\"Happiness Rank\"],\"y\":[104,74],\"type\":\"scatter\"},{\"hoverinfo\":\"text\",\"hovertext\":\"Armenia\\u003cbr\\u003eEducation expenditure Rank: 105\\u003cbr\\u003eHappiness Rank: 92\\u003cbr\\u003eMismatch: 13\",\"line\":{\"color\":\"#1E88E5\",\"width\":2},\"mode\":\"lines+markers\",\"name\":\"Armenia\",\"visible\":false,\"x\":[\"Education expenditure Rank\",\"Happiness Rank\"],\"y\":[105,92],\"type\":\"scatter\"},{\"hoverinfo\":\"text\",\"hovertext\":\"Bahrain\\u003cbr\\u003eEducation expenditure Rank: 106\\u003cbr\\u003eHappiness Rank: 33\\u003cbr\\u003eMismatch: 73\",\"line\":{\"color\":\"#D81B60\",\"width\":2},\"mode\":\"lines+markers\",\"name\":\"Bahrain\",\"visible\":false,\"x\":[\"Education expenditure Rank\",\"Happiness Rank\"],\"y\":[106,33],\"type\":\"scatter\"},{\"hoverinfo\":\"text\",\"hovertext\":\"Chad\\u003cbr\\u003eEducation expenditure Rank: 107\\u003cbr\\u003eHappiness Rank: 103\\u003cbr\\u003eMismatch: 4\",\"line\":{\"color\":\"#1E88E5\",\"width\":2},\"mode\":\"lines+markers\",\"name\":\"Chad\",\"visible\":false,\"x\":[\"Education expenditure Rank\",\"Happiness Rank\"],\"y\":[107,103],\"type\":\"scatter\"},{\"hoverinfo\":\"text\",\"hovertext\":\"Uganda\\u003cbr\\u003eEducation expenditure Rank: 108\\u003cbr\\u003eHappiness Rank: 106\\u003cbr\\u003eMismatch: 2\",\"line\":{\"color\":\"#1E88E5\",\"width\":2},\"mode\":\"lines+markers\",\"name\":\"Uganda\",\"visible\":false,\"x\":[\"Education expenditure Rank\",\"Happiness Rank\"],\"y\":[108,106],\"type\":\"scatter\"},{\"hoverinfo\":\"text\",\"hovertext\":\"Pakistan\\u003cbr\\u003eEducation expenditure Rank: 109\\u003cbr\\u003eHappiness Rank: 57\\u003cbr\\u003eMismatch: 52\",\"line\":{\"color\":\"#D81B60\",\"width\":2},\"mode\":\"lines+markers\",\"name\":\"Pakistan\",\"visible\":false,\"x\":[\"Education expenditure Rank\",\"Happiness Rank\"],\"y\":[109,57],\"type\":\"scatter\"},{\"hoverinfo\":\"text\",\"hovertext\":\"Liberia\\u003cbr\\u003eEducation expenditure Rank: 110\\u003cbr\\u003eHappiness Rank: 110\\u003cbr\\u003eMismatch: 0\",\"line\":{\"color\":\"#1E88E5\",\"width\":2},\"mode\":\"lines+markers\",\"name\":\"Liberia\",\"visible\":false,\"x\":[\"Education expenditure Rank\",\"Happiness Rank\"],\"y\":[110,110],\"type\":\"scatter\"},{\"hoverinfo\":\"text\",\"hovertext\":\"Myanmar\\u003cbr\\u003eEducation expenditure Rank: 111\\u003cbr\\u003eHappiness Rank: 102\\u003cbr\\u003eMismatch: 9\",\"line\":{\"color\":\"#1E88E5\",\"width\":2},\"mode\":\"lines+markers\",\"name\":\"Myanmar\",\"visible\":false,\"x\":[\"Education expenditure Rank\",\"Happiness Rank\"],\"y\":[111,102],\"type\":\"scatter\"},{\"hoverinfo\":\"text\",\"hovertext\":\"Guinea\\u003cbr\\u003eEducation expenditure Rank: 112\\u003cbr\\u003eHappiness Rank: 93\\u003cbr\\u003eMismatch: 19\",\"line\":{\"color\":\"#1E88E5\",\"width\":2},\"mode\":\"lines+markers\",\"name\":\"Guinea\",\"visible\":false,\"x\":[\"Education expenditure Rank\",\"Happiness Rank\"],\"y\":[112,93],\"type\":\"scatter\"},{\"hoverinfo\":\"text\",\"hovertext\":\"Mauritania\\u003cbr\\u003eEducation expenditure Rank: 113\\u003cbr\\u003eHappiness Rank: 96\\u003cbr\\u003eMismatch: 17\",\"line\":{\"color\":\"#1E88E5\",\"width\":2},\"mode\":\"lines+markers\",\"name\":\"Mauritania\",\"visible\":false,\"x\":[\"Education expenditure Rank\",\"Happiness Rank\"],\"y\":[113,96],\"type\":\"scatter\"},{\"hoverinfo\":\"text\",\"hovertext\":\"Central African Republic\\u003cbr\\u003eEducation expenditure Rank: 114\\u003cbr\\u003eHappiness Rank: 118\\u003cbr\\u003eMismatch: 4\",\"line\":{\"color\":\"#1E88E5\",\"width\":2},\"mode\":\"lines+markers\",\"name\":\"Central African Republic\",\"visible\":false,\"x\":[\"Education expenditure Rank\",\"Happiness Rank\"],\"y\":[114,118],\"type\":\"scatter\"},{\"hoverinfo\":\"text\",\"hovertext\":\"Haiti\\u003cbr\\u003eEducation expenditure Rank: 115\\u003cbr\\u003eHappiness Rank: 114\\u003cbr\\u003eMismatch: 1\",\"line\":{\"color\":\"#1E88E5\",\"width\":2},\"mode\":\"lines+markers\",\"name\":\"Haiti\",\"visible\":false,\"x\":[\"Education expenditure Rank\",\"Happiness Rank\"],\"y\":[115,114],\"type\":\"scatter\"},{\"hoverinfo\":\"text\",\"hovertext\":\"Bangladesh\\u003cbr\\u003eEducation expenditure Rank: 116\\u003cbr\\u003eHappiness Rank: 99\\u003cbr\\u003eMismatch: 17\",\"line\":{\"color\":\"#1E88E5\",\"width\":2},\"mode\":\"lines+markers\",\"name\":\"Bangladesh\",\"visible\":false,\"x\":[\"Education expenditure Rank\",\"Happiness Rank\"],\"y\":[116,99],\"type\":\"scatter\"},{\"hoverinfo\":\"text\",\"hovertext\":\"Indonesia\\u003cbr\\u003eEducation expenditure Rank: 117\\u003cbr\\u003eHappiness Rank: 75\\u003cbr\\u003eMismatch: 42\",\"line\":{\"color\":\"#D81B60\",\"width\":2},\"mode\":\"lines+markers\",\"name\":\"Indonesia\",\"visible\":false,\"x\":[\"Education expenditure Rank\",\"Happiness Rank\"],\"y\":[117,75],\"type\":\"scatter\"},{\"hoverinfo\":\"text\",\"hovertext\":\"Nigeria\\u003cbr\\u003eEducation expenditure Rank: 118\\u003cbr\\u003eHappiness Rank: 69\\u003cbr\\u003eMismatch: 49\",\"line\":{\"color\":\"#D81B60\",\"width\":2},\"mode\":\"lines+markers\",\"name\":\"Nigeria\",\"visible\":false,\"x\":[\"Education expenditure Rank\",\"Happiness Rank\"],\"y\":[118,69],\"type\":\"scatter\"}],                        {\"template\":{\"data\":{\"histogram2dcontour\":[{\"type\":\"histogram2dcontour\",\"colorbar\":{\"outlinewidth\":0,\"ticks\":\"\"},\"colorscale\":[[0.0,\"#0d0887\"],[0.1111111111111111,\"#46039f\"],[0.2222222222222222,\"#7201a8\"],[0.3333333333333333,\"#9c179e\"],[0.4444444444444444,\"#bd3786\"],[0.5555555555555556,\"#d8576b\"],[0.6666666666666666,\"#ed7953\"],[0.7777777777777778,\"#fb9f3a\"],[0.8888888888888888,\"#fdca26\"],[1.0,\"#f0f921\"]]}],\"choropleth\":[{\"type\":\"choropleth\",\"colorbar\":{\"outlinewidth\":0,\"ticks\":\"\"}}],\"histogram2d\":[{\"type\":\"histogram2d\",\"colorbar\":{\"outlinewidth\":0,\"ticks\":\"\"},\"colorscale\":[[0.0,\"#0d0887\"],[0.1111111111111111,\"#46039f\"],[0.2222222222222222,\"#7201a8\"],[0.3333333333333333,\"#9c179e\"],[0.4444444444444444,\"#bd3786\"],[0.5555555555555556,\"#d8576b\"],[0.6666666666666666,\"#ed7953\"],[0.7777777777777778,\"#fb9f3a\"],[0.8888888888888888,\"#fdca26\"],[1.0,\"#f0f921\"]]}],\"heatmap\":[{\"type\":\"heatmap\",\"colorbar\":{\"outlinewidth\":0,\"ticks\":\"\"},\"colorscale\":[[0.0,\"#0d0887\"],[0.1111111111111111,\"#46039f\"],[0.2222222222222222,\"#7201a8\"],[0.3333333333333333,\"#9c179e\"],[0.4444444444444444,\"#bd3786\"],[0.5555555555555556,\"#d8576b\"],[0.6666666666666666,\"#ed7953\"],[0.7777777777777778,\"#fb9f3a\"],[0.8888888888888888,\"#fdca26\"],[1.0,\"#f0f921\"]]}],\"contourcarpet\":[{\"type\":\"contourcarpet\",\"colorbar\":{\"outlinewidth\":0,\"ticks\":\"\"}}],\"contour\":[{\"type\":\"contour\",\"colorbar\":{\"outlinewidth\":0,\"ticks\":\"\"},\"colorscale\":[[0.0,\"#0d0887\"],[0.1111111111111111,\"#46039f\"],[0.2222222222222222,\"#7201a8\"],[0.3333333333333333,\"#9c179e\"],[0.4444444444444444,\"#bd3786\"],[0.5555555555555556,\"#d8576b\"],[0.6666666666666666,\"#ed7953\"],[0.7777777777777778,\"#fb9f3a\"],[0.8888888888888888,\"#fdca26\"],[1.0,\"#f0f921\"]]}],\"surface\":[{\"type\":\"surface\",\"colorbar\":{\"outlinewidth\":0,\"ticks\":\"\"},\"colorscale\":[[0.0,\"#0d0887\"],[0.1111111111111111,\"#46039f\"],[0.2222222222222222,\"#7201a8\"],[0.3333333333333333,\"#9c179e\"],[0.4444444444444444,\"#bd3786\"],[0.5555555555555556,\"#d8576b\"],[0.6666666666666666,\"#ed7953\"],[0.7777777777777778,\"#fb9f3a\"],[0.8888888888888888,\"#fdca26\"],[1.0,\"#f0f921\"]]}],\"mesh3d\":[{\"type\":\"mesh3d\",\"colorbar\":{\"outlinewidth\":0,\"ticks\":\"\"}}],\"scatter\":[{\"fillpattern\":{\"fillmode\":\"overlay\",\"size\":10,\"solidity\":0.2},\"type\":\"scatter\"}],\"parcoords\":[{\"type\":\"parcoords\",\"line\":{\"colorbar\":{\"outlinewidth\":0,\"ticks\":\"\"}}}],\"scatterpolargl\":[{\"type\":\"scatterpolargl\",\"marker\":{\"colorbar\":{\"outlinewidth\":0,\"ticks\":\"\"}}}],\"bar\":[{\"error_x\":{\"color\":\"#2a3f5f\"},\"error_y\":{\"color\":\"#2a3f5f\"},\"marker\":{\"line\":{\"color\":\"#E5ECF6\",\"width\":0.5},\"pattern\":{\"fillmode\":\"overlay\",\"size\":10,\"solidity\":0.2}},\"type\":\"bar\"}],\"scattergeo\":[{\"type\":\"scattergeo\",\"marker\":{\"colorbar\":{\"outlinewidth\":0,\"ticks\":\"\"}}}],\"scatterpolar\":[{\"type\":\"scatterpolar\",\"marker\":{\"colorbar\":{\"outlinewidth\":0,\"ticks\":\"\"}}}],\"histogram\":[{\"marker\":{\"pattern\":{\"fillmode\":\"overlay\",\"size\":10,\"solidity\":0.2}},\"type\":\"histogram\"}],\"scattergl\":[{\"type\":\"scattergl\",\"marker\":{\"colorbar\":{\"outlinewidth\":0,\"ticks\":\"\"}}}],\"scatter3d\":[{\"type\":\"scatter3d\",\"line\":{\"colorbar\":{\"outlinewidth\":0,\"ticks\":\"\"}},\"marker\":{\"colorbar\":{\"outlinewidth\":0,\"ticks\":\"\"}}}],\"scattermap\":[{\"type\":\"scattermap\",\"marker\":{\"colorbar\":{\"outlinewidth\":0,\"ticks\":\"\"}}}],\"scattermapbox\":[{\"type\":\"scattermapbox\",\"marker\":{\"colorbar\":{\"outlinewidth\":0,\"ticks\":\"\"}}}],\"scatterternary\":[{\"type\":\"scatterternary\",\"marker\":{\"colorbar\":{\"outlinewidth\":0,\"ticks\":\"\"}}}],\"scattercarpet\":[{\"type\":\"scattercarpet\",\"marker\":{\"colorbar\":{\"outlinewidth\":0,\"ticks\":\"\"}}}],\"carpet\":[{\"aaxis\":{\"endlinecolor\":\"#2a3f5f\",\"gridcolor\":\"white\",\"linecolor\":\"white\",\"minorgridcolor\":\"white\",\"startlinecolor\":\"#2a3f5f\"},\"baxis\":{\"endlinecolor\":\"#2a3f5f\",\"gridcolor\":\"white\",\"linecolor\":\"white\",\"minorgridcolor\":\"white\",\"startlinecolor\":\"#2a3f5f\"},\"type\":\"carpet\"}],\"table\":[{\"cells\":{\"fill\":{\"color\":\"#EBF0F8\"},\"line\":{\"color\":\"white\"}},\"header\":{\"fill\":{\"color\":\"#C8D4E3\"},\"line\":{\"color\":\"white\"}},\"type\":\"table\"}],\"barpolar\":[{\"marker\":{\"line\":{\"color\":\"#E5ECF6\",\"width\":0.5},\"pattern\":{\"fillmode\":\"overlay\",\"size\":10,\"solidity\":0.2}},\"type\":\"barpolar\"}],\"pie\":[{\"automargin\":true,\"type\":\"pie\"}]},\"layout\":{\"autotypenumbers\":\"strict\",\"colorway\":[\"#636efa\",\"#EF553B\",\"#00cc96\",\"#ab63fa\",\"#FFA15A\",\"#19d3f3\",\"#FF6692\",\"#B6E880\",\"#FF97FF\",\"#FECB52\"],\"font\":{\"color\":\"#2a3f5f\"},\"hovermode\":\"closest\",\"hoverlabel\":{\"align\":\"left\"},\"paper_bgcolor\":\"white\",\"plot_bgcolor\":\"#E5ECF6\",\"polar\":{\"bgcolor\":\"#E5ECF6\",\"angularaxis\":{\"gridcolor\":\"white\",\"linecolor\":\"white\",\"ticks\":\"\"},\"radialaxis\":{\"gridcolor\":\"white\",\"linecolor\":\"white\",\"ticks\":\"\"}},\"ternary\":{\"bgcolor\":\"#E5ECF6\",\"aaxis\":{\"gridcolor\":\"white\",\"linecolor\":\"white\",\"ticks\":\"\"},\"baxis\":{\"gridcolor\":\"white\",\"linecolor\":\"white\",\"ticks\":\"\"},\"caxis\":{\"gridcolor\":\"white\",\"linecolor\":\"white\",\"ticks\":\"\"}},\"coloraxis\":{\"colorbar\":{\"outlinewidth\":0,\"ticks\":\"\"}},\"colorscale\":{\"sequential\":[[0.0,\"#0d0887\"],[0.1111111111111111,\"#46039f\"],[0.2222222222222222,\"#7201a8\"],[0.3333333333333333,\"#9c179e\"],[0.4444444444444444,\"#bd3786\"],[0.5555555555555556,\"#d8576b\"],[0.6666666666666666,\"#ed7953\"],[0.7777777777777778,\"#fb9f3a\"],[0.8888888888888888,\"#fdca26\"],[1.0,\"#f0f921\"]],\"sequentialminus\":[[0.0,\"#0d0887\"],[0.1111111111111111,\"#46039f\"],[0.2222222222222222,\"#7201a8\"],[0.3333333333333333,\"#9c179e\"],[0.4444444444444444,\"#bd3786\"],[0.5555555555555556,\"#d8576b\"],[0.6666666666666666,\"#ed7953\"],[0.7777777777777778,\"#fb9f3a\"],[0.8888888888888888,\"#fdca26\"],[1.0,\"#f0f921\"]],\"diverging\":[[0,\"#8e0152\"],[0.1,\"#c51b7d\"],[0.2,\"#de77ae\"],[0.3,\"#f1b6da\"],[0.4,\"#fde0ef\"],[0.5,\"#f7f7f7\"],[0.6,\"#e6f5d0\"],[0.7,\"#b8e186\"],[0.8,\"#7fbc41\"],[0.9,\"#4d9221\"],[1,\"#276419\"]]},\"xaxis\":{\"gridcolor\":\"white\",\"linecolor\":\"white\",\"ticks\":\"\",\"title\":{\"standoff\":15},\"zerolinecolor\":\"white\",\"automargin\":true,\"zerolinewidth\":2},\"yaxis\":{\"gridcolor\":\"white\",\"linecolor\":\"white\",\"ticks\":\"\",\"title\":{\"standoff\":15},\"zerolinecolor\":\"white\",\"automargin\":true,\"zerolinewidth\":2},\"scene\":{\"xaxis\":{\"backgroundcolor\":\"#E5ECF6\",\"gridcolor\":\"white\",\"linecolor\":\"white\",\"showbackground\":true,\"ticks\":\"\",\"zerolinecolor\":\"white\",\"gridwidth\":2},\"yaxis\":{\"backgroundcolor\":\"#E5ECF6\",\"gridcolor\":\"white\",\"linecolor\":\"white\",\"showbackground\":true,\"ticks\":\"\",\"zerolinecolor\":\"white\",\"gridwidth\":2},\"zaxis\":{\"backgroundcolor\":\"#E5ECF6\",\"gridcolor\":\"white\",\"linecolor\":\"white\",\"showbackground\":true,\"ticks\":\"\",\"zerolinecolor\":\"white\",\"gridwidth\":2}},\"shapedefaults\":{\"line\":{\"color\":\"#2a3f5f\"}},\"annotationdefaults\":{\"arrowcolor\":\"#2a3f5f\",\"arrowhead\":0,\"arrowwidth\":1},\"geo\":{\"bgcolor\":\"white\",\"landcolor\":\"#E5ECF6\",\"subunitcolor\":\"white\",\"showland\":true,\"showlakes\":true,\"lakecolor\":\"white\"},\"title\":{\"x\":0.05},\"mapbox\":{\"style\":\"light\"}}},\"yaxis\":{\"autorange\":\"reversed\"},\"margin\":{\"t\":80,\"b\":80,\"l\":80,\"r\":100},\"xaxis\":{\"title\":{\"text\":\"\"},\"tickvals\":[\"Life expectancy Rank\",\"Happiness Rank\"]},\"sliders\":[{\"active\":0,\"currentvalue\":{\"prefix\":\"Metric: \"},\"len\":0.9,\"pad\":{\"t\":50},\"steps\":[{\"args\":[{\"visible\":[true,true,true,true,true,true,true,true,true,true,true,true,true,true,true,true,true,true,true,true,true,true,true,true,true,true,true,true,true,true,true,true,true,true,true,true,true,true,true,true,true,true,true,true,true,true,true,true,true,true,true,true,true,true,true,true,true,true,true,true,true,true,true,true,true,true,true,true,true,true,true,true,true,true,true,true,true,true,true,true,true,true,true,true,true,true,true,true,true,true,true,true,true,true,true,true,true,true,true,true,true,true,true,true,true,true,true,true,true,true,true,true,true,true,true,true,true,true,true,true,true,true,true,true,true,true,true,true,true,true,true,true,true,false,false,false,false,false,false,false,false,false,false,false,false,false,false,false,false,false,false,false,false,false,false,false,false,false,false,false,false,false,false,false,false,false,false,false,false,false,false,false,false,false,false,false,false,false,false,false,false,false,false,false,false,false,false,false,false,false,false,false,false,false,false,false,false,false,false,false,false,false,false,false,false,false,false,false,false,false,false,false,false,false,false,false,false,false,false,false,false,false,false,false,false,false,false,false,false,false,false,false,false,false,false,false,false,false,false,false,false,false,false,false,false,false,false,false,false,false,false,false,false,false,false,false,false,false,false,false,false,false,false,false,false,false,false,false,false,false,false,false,false,false,false,false,false,false,false,false,false,false,false,false,false,false,false,false,false,false,false,false,false,false,false,false,false,false,false,false,false,false,false,false,false,false,false,false,false,false,false,false,false,false,false,false,false,false,false,false,false,false,false,false,false,false,false,false,false,false,false,false,false,false,false,false,false,false,false,false,false,false,false,false,false,false,false,false,false,false,false,false,false,false,false]},{\"title\":\"Life expectancy vs Happiness Rankings\",\"xaxis\":{\"title\":\"\",\"tickvals\":[\"Life expectancy Rank\",\"Happiness Rank\"]},\"yaxis\":{\"title\":\"Rank (1 = Best)\",\"autorange\":\"reversed\"},\"annotations\":[{\"x\":1.05,\"y\":1.05,\"xref\":\"paper\",\"yref\":\"paper\",\"showarrow\":false,\"align\":\"left\",\"bgcolor\":\"#D81B60\",\"font\":{\"color\":\"white\",\"size\":12},\"text\":\"Mismatch \\u003e 30:\\u003cbr\\u003e\\u003cb\\u003e25\\u003c\\u002fb\\u003e\",\"bordercolor\":\"black\",\"borderwidth\":1}]}],\"label\":\"Life expectancy\",\"method\":\"update\"},{\"args\":[{\"visible\":[false,false,false,false,false,false,false,false,false,false,false,false,false,false,false,false,false,false,false,false,false,false,false,false,false,false,false,false,false,false,false,false,false,false,false,false,false,false,false,false,false,false,false,false,false,false,false,false,false,false,false,false,false,false,false,false,false,false,false,false,false,false,false,false,false,false,false,false,false,false,false,false,false,false,false,false,false,false,false,false,false,false,false,false,false,false,false,false,false,false,false,false,false,false,false,false,false,false,false,false,false,false,false,false,false,false,false,false,false,false,false,false,false,false,false,false,false,false,false,false,false,false,false,false,false,false,false,false,false,false,false,false,false,true,true,true,true,true,true,true,true,true,true,true,true,true,true,true,true,true,true,true,true,true,true,true,true,true,true,true,true,true,true,true,true,true,true,true,true,true,true,true,true,true,true,true,true,true,true,true,true,true,true,true,true,true,true,true,true,true,true,true,true,true,true,true,true,true,true,true,true,true,true,true,true,true,true,true,true,true,true,true,true,true,true,true,true,true,true,true,true,true,true,true,true,true,true,true,true,true,true,true,true,true,true,true,true,false,false,false,false,false,false,false,false,false,false,false,false,false,false,false,false,false,false,false,false,false,false,false,false,false,false,false,false,false,false,false,false,false,false,false,false,false,false,false,false,false,false,false,false,false,false,false,false,false,false,false,false,false,false,false,false,false,false,false,false,false,false,false,false,false,false,false,false,false,false,false,false,false,false,false,false,false,false,false,false,false,false,false,false,false,false,false,false,false,false,false,false,false,false,false,false,false,false,false,false,false,false,false,false,false,false,false,false,false,false,false,false,false,false,false,false,false,false]},{\"title\":\"Unemployment rate vs Happiness Rankings\",\"xaxis\":{\"title\":\"\",\"tickvals\":[\"Unemployment rate Rank\",\"Happiness Rank\"]},\"yaxis\":{\"title\":\"Rank (1 = Best)\",\"autorange\":\"reversed\"},\"annotations\":[{\"x\":1.05,\"y\":1.05,\"xref\":\"paper\",\"yref\":\"paper\",\"showarrow\":false,\"align\":\"left\",\"bgcolor\":\"#D81B60\",\"font\":{\"color\":\"white\",\"size\":12},\"text\":\"Mismatch \\u003e 30:\\u003cbr\\u003e\\u003cb\\u003e47\\u003c\\u002fb\\u003e\",\"bordercolor\":\"black\",\"borderwidth\":1}]}],\"label\":\"Unemployment rate\",\"method\":\"update\"},{\"args\":[{\"visible\":[false,false,false,false,false,false,false,false,false,false,false,false,false,false,false,false,false,false,false,false,false,false,false,false,false,false,false,false,false,false,false,false,false,false,false,false,false,false,false,false,false,false,false,false,false,false,false,false,false,false,false,false,false,false,false,false,false,false,false,false,false,false,false,false,false,false,false,false,false,false,false,false,false,false,false,false,false,false,false,false,false,false,false,false,false,false,false,false,false,false,false,false,false,false,false,false,false,false,false,false,false,false,false,false,false,false,false,false,false,false,false,false,false,false,false,false,false,false,false,false,false,false,false,false,false,false,false,false,false,false,false,false,false,false,false,false,false,false,false,false,false,false,false,false,false,false,false,false,false,false,false,false,false,false,false,false,false,false,false,false,false,false,false,false,false,false,false,false,false,false,false,false,false,false,false,false,false,false,false,false,false,false,false,false,false,false,false,false,false,false,false,false,false,false,false,false,false,false,false,false,false,false,false,false,false,false,false,false,false,false,false,false,false,false,false,false,false,false,false,false,false,false,false,false,false,false,false,false,false,false,false,false,false,false,false,false,false,true,true,true,true,true,true,true,true,true,true,true,true,true,true,true,true,true,true,true,true,true,true,true,true,true,true,true,true,true,true,true,true,true,true,true,true,true,true,true,true,true,true,true,true,true,true,true,true,true,true,true,true,true,true,true,true,true,true,true,true,true,true,true,true,true,true,true,true,true,true,true,true,true,true,true,true,true,true,true,true,true,true,true,true,true,true,true,true,true,true,true,true,true,true,true,true,true,true,true,true,true,true,true,true,true,true,true,true,true,true,true,true,true,true,true,true,true,true]},{\"title\":\"Education expenditure vs Happiness Rankings\",\"xaxis\":{\"title\":\"\",\"tickvals\":[\"Education expenditure Rank\",\"Happiness Rank\"]},\"yaxis\":{\"title\":\"Rank (1 = Best)\",\"autorange\":\"reversed\"},\"annotations\":[{\"x\":1.05,\"y\":1.05,\"xref\":\"paper\",\"yref\":\"paper\",\"showarrow\":false,\"align\":\"left\",\"bgcolor\":\"#D81B60\",\"font\":{\"color\":\"white\",\"size\":12},\"text\":\"Mismatch \\u003e 30:\\u003cbr\\u003e\\u003cb\\u003e44\\u003c\\u002fb\\u003e\",\"bordercolor\":\"black\",\"borderwidth\":1}]}],\"label\":\"Education expenditure\",\"method\":\"update\"}],\"x\":0.1,\"xanchor\":\"left\"}],\"showlegend\":false,\"height\":800,\"width\":750,\"title\":{\"text\":\"Life expectancy vs Happiness Rankings\"},\"annotations\":[{\"align\":\"left\",\"bgcolor\":\"#D81B60\",\"bordercolor\":\"black\",\"borderwidth\":1,\"font\":{\"color\":\"white\",\"size\":12},\"showarrow\":false,\"text\":\"Mismatch \\u003e 30:\\u003cbr\\u003e\\u003cb\\u003e25\\u003c\\u002fb\\u003e\",\"x\":1.05,\"xref\":\"paper\",\"y\":1.05,\"yref\":\"paper\"}],\"paper_bgcolor\":\"#EDF1EC\",\"plot_bgcolor\":\"#EDF1EC\"},                        {\"responsive\": true}                    ).then(function(){\n",
       "                            \n",
       "var gd = document.getElementById('2dbc6c4d-25eb-468f-a8b3-e250b558cf81');\n",
       "var x = new MutationObserver(function (mutations, observer) {{\n",
       "        var display = window.getComputedStyle(gd).display;\n",
       "        if (!display || display === 'none') {{\n",
       "            console.log([gd, 'removed!']);\n",
       "            Plotly.purge(gd);\n",
       "            observer.disconnect();\n",
       "        }}\n",
       "}});\n",
       "\n",
       "// Listen for the removal of the full notebook cells\n",
       "var notebookContainer = gd.closest('#notebook-container');\n",
       "if (notebookContainer) {{\n",
       "    x.observe(notebookContainer, {childList: true});\n",
       "}}\n",
       "\n",
       "// Listen for the clearing of the current output cell\n",
       "var outputEl = gd.closest('.output');\n",
       "if (outputEl) {{\n",
       "    x.observe(outputEl, {childList: true});\n",
       "}}\n",
       "\n",
       "                        })                };            </script>        </div>"
      ]
     },
     "metadata": {},
     "output_type": "display_data"
    }
   ],
   "source": [
    "import pandas as pd\n",
    "import plotly.graph_objects as go\n",
    "\n",
    "df = pd.read_csv('final.csv')\n",
    "df['Country'] = df['Country'].str.strip()\n",
    "\n",
    "def prepare_rankings(df, metric_col, ascending_rank):\n",
    "    df_filtered = df.dropna(subset=[metric_col, 'Happiness']).copy()\n",
    "    df_filtered = df_filtered.sort_values(by=[metric_col, 'Country'], ascending=[ascending_rank, True])\n",
    "    df_filtered[f'{metric_col} Rank'] = df_filtered[metric_col].rank(method='first', ascending=ascending_rank).astype(int)\n",
    "    df_filtered['Happiness Rank'] = df_filtered['Happiness'].rank(method='min', ascending=False).astype(int)\n",
    "    df_filtered['Mismatch'] = (df_filtered[f'{metric_col} Rank'] - df_filtered['Happiness Rank']).abs()\n",
    "    return df_filtered\n",
    "\n",
    "def create_slope_traces(df_metric, metric_col, display_name, mismatch_threshold):\n",
    "    traces = []\n",
    "    for _, row in df_metric.iterrows():\n",
    "        color = '#1E88E5' if row['Mismatch'] <= mismatch_threshold else '#D81B60'\n",
    "        hovertext = (\n",
    "            f\"{row['Country']}<br>\"\n",
    "            f\"{display_name} Rank: {row[f'{metric_col} Rank']}<br>\"\n",
    "            f\"Happiness Rank: {row['Happiness Rank']}<br>\"\n",
    "            f\"Mismatch: {row['Mismatch']}\"\n",
    "        )\n",
    "        traces.append(go.Scatter(\n",
    "            x=[f'{display_name} Rank', 'Happiness Rank'],\n",
    "            y=[row[f'{metric_col} Rank'], row['Happiness Rank']],\n",
    "            mode='lines+markers',\n",
    "            line=dict(color=color, width=2),\n",
    "            name=row['Country'],\n",
    "            hoverinfo='text',\n",
    "            hovertext=hovertext\n",
    "        ))\n",
    "    return traces\n",
    "\n",
    "df_life = prepare_rankings(df, 'Life_expectancy', ascending_rank=False)\n",
    "df_unemp = prepare_rankings(df, 'Unemployment_rate', ascending_rank=True)\n",
    "df_edu = prepare_rankings(df, 'Edu_expenditure_pct', ascending_rank=False)\n",
    "\n",
    "red_life = (df_life['Mismatch'] > 30).sum()\n",
    "red_unemp = (df_unemp['Mismatch'] > 30).sum()\n",
    "red_edu = (df_edu['Mismatch'] > 30).sum()\n",
    "\n",
    "traces_life = create_slope_traces(df_life, 'Life_expectancy', 'Life expectancy', mismatch_threshold=15)\n",
    "traces_unemp = create_slope_traces(df_unemp, 'Unemployment_rate', 'Unemployment rate', mismatch_threshold=30)\n",
    "traces_edu = create_slope_traces(df_edu, 'Edu_expenditure_pct', 'Education expenditure', mismatch_threshold=30)\n",
    "\n",
    "fig = go.Figure(data=traces_life)\n",
    "for trace in traces_unemp + traces_edu:\n",
    "    trace.visible = False\n",
    "    fig.add_trace(trace)\n",
    "\n",
    "steps = []\n",
    "total_traces = len(traces_life) + len(traces_unemp) + len(traces_edu)\n",
    "start_idx = 0\n",
    "metrics = [\n",
    "    ('Life expectancy', traces_life, 30, red_life),\n",
    "    ('Unemployment rate', traces_unemp, 30, red_unemp),\n",
    "    ('Education expenditure', traces_edu, 30, red_edu)\n",
    "]\n",
    "\n",
    "for metric_name, traces_metric, threshold, red_count in metrics:\n",
    "    visible = [False] * total_traces\n",
    "    for i in range(len(traces_metric)):\n",
    "        visible[start_idx + i] = True\n",
    "    step = dict(\n",
    "        method='update',\n",
    "        label=metric_name,\n",
    "        args=[\n",
    "            {'visible': visible},\n",
    "            {'title': f'{metric_name} vs Happiness Rankings',\n",
    "             'xaxis': {'title': '', 'tickvals': [f'{metric_name} Rank', 'Happiness Rank']},\n",
    "             'yaxis': {'title': 'Rank (1 = Best)', 'autorange': 'reversed'},\n",
    "             'annotations': [dict(\n",
    "                 x=1.05,\n",
    "                 y=1.05,\n",
    "                 xref='paper',\n",
    "                 yref='paper',\n",
    "                 showarrow=False,\n",
    "                 align='left',\n",
    "                 bgcolor='#D81B60',\n",
    "                 font=dict(color='white', size=12),\n",
    "                 text=f'Mismatch > {threshold}:<br><b>{red_count}</b>',\n",
    "                 bordercolor='black',\n",
    "                 borderwidth=1\n",
    "             )]\n",
    "            }\n",
    "        ]\n",
    "    )\n",
    "    steps.append(step)\n",
    "    start_idx += len(traces_metric)\n",
    "\n",
    "fig.update_layout(\n",
    "    sliders=[dict(\n",
    "        active=0,\n",
    "        currentvalue={\"prefix\": \"Metric: \"},\n",
    "        pad={\"t\": 50},\n",
    "        steps=steps,\n",
    "        len=0.9,\n",
    "        x=0.1,\n",
    "        xanchor='left'\n",
    "    )],\n",
    "    yaxis=dict(autorange='reversed'),\n",
    "    showlegend=False,\n",
    "    height=800,\n",
    "    width=750,\n",
    "    margin=dict(t=80, b=80, l=80, r=100),\n",
    "    title='Life expectancy vs Happiness Rankings',\n",
    "    xaxis={'title': '', 'tickvals': ['Life expectancy Rank', 'Happiness Rank']},\n",
    "    annotations=[dict(\n",
    "        x=1.05,\n",
    "        y=1.05,\n",
    "        xref='paper',\n",
    "        yref='paper',\n",
    "        showarrow=False,\n",
    "        align='left',\n",
    "        bgcolor='#D81B60',\n",
    "        font=dict(color='white', size=12),\n",
    "        text=f'Mismatch > 30:<br><b>{red_life}</b>',\n",
    "        bordercolor='black',\n",
    "        borderwidth=1\n",
    "    )],\n",
    "    paper_bgcolor='#EDF1EC',\n",
    "    plot_bgcolor='#EDF1EC'\n",
    ")\n",
    "\n",
    "fig.show()"
   ]
  },
  {
   "cell_type": "code",
   "execution_count": 13,
   "id": "934fee4f",
   "metadata": {
    "tags": [
     "remove-input"
    ]
   },
   "outputs": [
    {
     "data": {
      "application/vnd.plotly.v1+json": {
       "config": {
        "plotlyServerURL": "https://plot.ly"
       },
       "data": [
        {
         "colorbar": {
          "title": {
           "text": "Pearson r"
          }
         },
         "colorscale": [
          [
           0,
           "rgb(103,0,31)"
          ],
          [
           0.1,
           "rgb(178,24,43)"
          ],
          [
           0.2,
           "rgb(214,96,77)"
          ],
          [
           0.3,
           "rgb(244,165,130)"
          ],
          [
           0.4,
           "rgb(253,219,199)"
          ],
          [
           0.5,
           "rgb(247,247,247)"
          ],
          [
           0.6,
           "rgb(209,229,240)"
          ],
          [
           0.7,
           "rgb(146,197,222)"
          ],
          [
           0.8,
           "rgb(67,147,195)"
          ],
          [
           0.9,
           "rgb(33,102,172)"
          ],
          [
           1,
           "rgb(5,48,97)"
          ]
         ],
         "hoverongaps": false,
         "text": [
          [
           "0.78",
           "0.77",
           "0.74",
           "0.32",
           "-0.25",
           "-0.22"
          ]
         ],
         "textfont": {
          "size": 14
         },
         "texttemplate": "%{text}",
         "type": "heatmap",
         "x": [
          "GNI_current_usd",
          "Life_expectancy",
          "GDP_current_usd",
          "Edu_expenditure_pct",
          "Unemployment_rate",
          "Gini_index"
         ],
         "y": [
          "Happiness"
         ],
         "z": [
          [
           0.7780561975972948,
           0.7736481330646564,
           0.7447822855599852,
           0.31984041607700936,
           -0.24925055070300098,
           -0.22300973295355409
          ]
         ],
         "zmax": 1,
         "zmid": 0,
         "zmin": -1
        }
       ],
       "layout": {
        "height": 500,
        "margin": {
         "b": 100,
         "l": 80,
         "r": 80,
         "t": 60
        },
        "paper_bgcolor": "#EDF1EC",
        "plot_bgcolor": "#EDF1EC",
        "template": {
         "data": {
          "bar": [
           {
            "error_x": {
             "color": "#2a3f5f"
            },
            "error_y": {
             "color": "#2a3f5f"
            },
            "marker": {
             "line": {
              "color": "#E5ECF6",
              "width": 0.5
             },
             "pattern": {
              "fillmode": "overlay",
              "size": 10,
              "solidity": 0.2
             }
            },
            "type": "bar"
           }
          ],
          "barpolar": [
           {
            "marker": {
             "line": {
              "color": "#E5ECF6",
              "width": 0.5
             },
             "pattern": {
              "fillmode": "overlay",
              "size": 10,
              "solidity": 0.2
             }
            },
            "type": "barpolar"
           }
          ],
          "carpet": [
           {
            "aaxis": {
             "endlinecolor": "#2a3f5f",
             "gridcolor": "white",
             "linecolor": "white",
             "minorgridcolor": "white",
             "startlinecolor": "#2a3f5f"
            },
            "baxis": {
             "endlinecolor": "#2a3f5f",
             "gridcolor": "white",
             "linecolor": "white",
             "minorgridcolor": "white",
             "startlinecolor": "#2a3f5f"
            },
            "type": "carpet"
           }
          ],
          "choropleth": [
           {
            "colorbar": {
             "outlinewidth": 0,
             "ticks": ""
            },
            "type": "choropleth"
           }
          ],
          "contour": [
           {
            "colorbar": {
             "outlinewidth": 0,
             "ticks": ""
            },
            "colorscale": [
             [
              0,
              "#0d0887"
             ],
             [
              0.1111111111111111,
              "#46039f"
             ],
             [
              0.2222222222222222,
              "#7201a8"
             ],
             [
              0.3333333333333333,
              "#9c179e"
             ],
             [
              0.4444444444444444,
              "#bd3786"
             ],
             [
              0.5555555555555556,
              "#d8576b"
             ],
             [
              0.6666666666666666,
              "#ed7953"
             ],
             [
              0.7777777777777778,
              "#fb9f3a"
             ],
             [
              0.8888888888888888,
              "#fdca26"
             ],
             [
              1,
              "#f0f921"
             ]
            ],
            "type": "contour"
           }
          ],
          "contourcarpet": [
           {
            "colorbar": {
             "outlinewidth": 0,
             "ticks": ""
            },
            "type": "contourcarpet"
           }
          ],
          "heatmap": [
           {
            "colorbar": {
             "outlinewidth": 0,
             "ticks": ""
            },
            "colorscale": [
             [
              0,
              "#0d0887"
             ],
             [
              0.1111111111111111,
              "#46039f"
             ],
             [
              0.2222222222222222,
              "#7201a8"
             ],
             [
              0.3333333333333333,
              "#9c179e"
             ],
             [
              0.4444444444444444,
              "#bd3786"
             ],
             [
              0.5555555555555556,
              "#d8576b"
             ],
             [
              0.6666666666666666,
              "#ed7953"
             ],
             [
              0.7777777777777778,
              "#fb9f3a"
             ],
             [
              0.8888888888888888,
              "#fdca26"
             ],
             [
              1,
              "#f0f921"
             ]
            ],
            "type": "heatmap"
           }
          ],
          "histogram": [
           {
            "marker": {
             "pattern": {
              "fillmode": "overlay",
              "size": 10,
              "solidity": 0.2
             }
            },
            "type": "histogram"
           }
          ],
          "histogram2d": [
           {
            "colorbar": {
             "outlinewidth": 0,
             "ticks": ""
            },
            "colorscale": [
             [
              0,
              "#0d0887"
             ],
             [
              0.1111111111111111,
              "#46039f"
             ],
             [
              0.2222222222222222,
              "#7201a8"
             ],
             [
              0.3333333333333333,
              "#9c179e"
             ],
             [
              0.4444444444444444,
              "#bd3786"
             ],
             [
              0.5555555555555556,
              "#d8576b"
             ],
             [
              0.6666666666666666,
              "#ed7953"
             ],
             [
              0.7777777777777778,
              "#fb9f3a"
             ],
             [
              0.8888888888888888,
              "#fdca26"
             ],
             [
              1,
              "#f0f921"
             ]
            ],
            "type": "histogram2d"
           }
          ],
          "histogram2dcontour": [
           {
            "colorbar": {
             "outlinewidth": 0,
             "ticks": ""
            },
            "colorscale": [
             [
              0,
              "#0d0887"
             ],
             [
              0.1111111111111111,
              "#46039f"
             ],
             [
              0.2222222222222222,
              "#7201a8"
             ],
             [
              0.3333333333333333,
              "#9c179e"
             ],
             [
              0.4444444444444444,
              "#bd3786"
             ],
             [
              0.5555555555555556,
              "#d8576b"
             ],
             [
              0.6666666666666666,
              "#ed7953"
             ],
             [
              0.7777777777777778,
              "#fb9f3a"
             ],
             [
              0.8888888888888888,
              "#fdca26"
             ],
             [
              1,
              "#f0f921"
             ]
            ],
            "type": "histogram2dcontour"
           }
          ],
          "mesh3d": [
           {
            "colorbar": {
             "outlinewidth": 0,
             "ticks": ""
            },
            "type": "mesh3d"
           }
          ],
          "parcoords": [
           {
            "line": {
             "colorbar": {
              "outlinewidth": 0,
              "ticks": ""
             }
            },
            "type": "parcoords"
           }
          ],
          "pie": [
           {
            "automargin": true,
            "type": "pie"
           }
          ],
          "scatter": [
           {
            "fillpattern": {
             "fillmode": "overlay",
             "size": 10,
             "solidity": 0.2
            },
            "type": "scatter"
           }
          ],
          "scatter3d": [
           {
            "line": {
             "colorbar": {
              "outlinewidth": 0,
              "ticks": ""
             }
            },
            "marker": {
             "colorbar": {
              "outlinewidth": 0,
              "ticks": ""
             }
            },
            "type": "scatter3d"
           }
          ],
          "scattercarpet": [
           {
            "marker": {
             "colorbar": {
              "outlinewidth": 0,
              "ticks": ""
             }
            },
            "type": "scattercarpet"
           }
          ],
          "scattergeo": [
           {
            "marker": {
             "colorbar": {
              "outlinewidth": 0,
              "ticks": ""
             }
            },
            "type": "scattergeo"
           }
          ],
          "scattergl": [
           {
            "marker": {
             "colorbar": {
              "outlinewidth": 0,
              "ticks": ""
             }
            },
            "type": "scattergl"
           }
          ],
          "scattermap": [
           {
            "marker": {
             "colorbar": {
              "outlinewidth": 0,
              "ticks": ""
             }
            },
            "type": "scattermap"
           }
          ],
          "scattermapbox": [
           {
            "marker": {
             "colorbar": {
              "outlinewidth": 0,
              "ticks": ""
             }
            },
            "type": "scattermapbox"
           }
          ],
          "scatterpolar": [
           {
            "marker": {
             "colorbar": {
              "outlinewidth": 0,
              "ticks": ""
             }
            },
            "type": "scatterpolar"
           }
          ],
          "scatterpolargl": [
           {
            "marker": {
             "colorbar": {
              "outlinewidth": 0,
              "ticks": ""
             }
            },
            "type": "scatterpolargl"
           }
          ],
          "scatterternary": [
           {
            "marker": {
             "colorbar": {
              "outlinewidth": 0,
              "ticks": ""
             }
            },
            "type": "scatterternary"
           }
          ],
          "surface": [
           {
            "colorbar": {
             "outlinewidth": 0,
             "ticks": ""
            },
            "colorscale": [
             [
              0,
              "#0d0887"
             ],
             [
              0.1111111111111111,
              "#46039f"
             ],
             [
              0.2222222222222222,
              "#7201a8"
             ],
             [
              0.3333333333333333,
              "#9c179e"
             ],
             [
              0.4444444444444444,
              "#bd3786"
             ],
             [
              0.5555555555555556,
              "#d8576b"
             ],
             [
              0.6666666666666666,
              "#ed7953"
             ],
             [
              0.7777777777777778,
              "#fb9f3a"
             ],
             [
              0.8888888888888888,
              "#fdca26"
             ],
             [
              1,
              "#f0f921"
             ]
            ],
            "type": "surface"
           }
          ],
          "table": [
           {
            "cells": {
             "fill": {
              "color": "#EBF0F8"
             },
             "line": {
              "color": "white"
             }
            },
            "header": {
             "fill": {
              "color": "#C8D4E3"
             },
             "line": {
              "color": "white"
             }
            },
            "type": "table"
           }
          ]
         },
         "layout": {
          "annotationdefaults": {
           "arrowcolor": "#2a3f5f",
           "arrowhead": 0,
           "arrowwidth": 1
          },
          "autotypenumbers": "strict",
          "coloraxis": {
           "colorbar": {
            "outlinewidth": 0,
            "ticks": ""
           }
          },
          "colorscale": {
           "diverging": [
            [
             0,
             "#8e0152"
            ],
            [
             0.1,
             "#c51b7d"
            ],
            [
             0.2,
             "#de77ae"
            ],
            [
             0.3,
             "#f1b6da"
            ],
            [
             0.4,
             "#fde0ef"
            ],
            [
             0.5,
             "#f7f7f7"
            ],
            [
             0.6,
             "#e6f5d0"
            ],
            [
             0.7,
             "#b8e186"
            ],
            [
             0.8,
             "#7fbc41"
            ],
            [
             0.9,
             "#4d9221"
            ],
            [
             1,
             "#276419"
            ]
           ],
           "sequential": [
            [
             0,
             "#0d0887"
            ],
            [
             0.1111111111111111,
             "#46039f"
            ],
            [
             0.2222222222222222,
             "#7201a8"
            ],
            [
             0.3333333333333333,
             "#9c179e"
            ],
            [
             0.4444444444444444,
             "#bd3786"
            ],
            [
             0.5555555555555556,
             "#d8576b"
            ],
            [
             0.6666666666666666,
             "#ed7953"
            ],
            [
             0.7777777777777778,
             "#fb9f3a"
            ],
            [
             0.8888888888888888,
             "#fdca26"
            ],
            [
             1,
             "#f0f921"
            ]
           ],
           "sequentialminus": [
            [
             0,
             "#0d0887"
            ],
            [
             0.1111111111111111,
             "#46039f"
            ],
            [
             0.2222222222222222,
             "#7201a8"
            ],
            [
             0.3333333333333333,
             "#9c179e"
            ],
            [
             0.4444444444444444,
             "#bd3786"
            ],
            [
             0.5555555555555556,
             "#d8576b"
            ],
            [
             0.6666666666666666,
             "#ed7953"
            ],
            [
             0.7777777777777778,
             "#fb9f3a"
            ],
            [
             0.8888888888888888,
             "#fdca26"
            ],
            [
             1,
             "#f0f921"
            ]
           ]
          },
          "colorway": [
           "#636efa",
           "#EF553B",
           "#00cc96",
           "#ab63fa",
           "#FFA15A",
           "#19d3f3",
           "#FF6692",
           "#B6E880",
           "#FF97FF",
           "#FECB52"
          ],
          "font": {
           "color": "#2a3f5f"
          },
          "geo": {
           "bgcolor": "white",
           "lakecolor": "white",
           "landcolor": "#E5ECF6",
           "showlakes": true,
           "showland": true,
           "subunitcolor": "white"
          },
          "hoverlabel": {
           "align": "left"
          },
          "hovermode": "closest",
          "mapbox": {
           "style": "light"
          },
          "paper_bgcolor": "white",
          "plot_bgcolor": "#E5ECF6",
          "polar": {
           "angularaxis": {
            "gridcolor": "white",
            "linecolor": "white",
            "ticks": ""
           },
           "bgcolor": "#E5ECF6",
           "radialaxis": {
            "gridcolor": "white",
            "linecolor": "white",
            "ticks": ""
           }
          },
          "scene": {
           "xaxis": {
            "backgroundcolor": "#E5ECF6",
            "gridcolor": "white",
            "gridwidth": 2,
            "linecolor": "white",
            "showbackground": true,
            "ticks": "",
            "zerolinecolor": "white"
           },
           "yaxis": {
            "backgroundcolor": "#E5ECF6",
            "gridcolor": "white",
            "gridwidth": 2,
            "linecolor": "white",
            "showbackground": true,
            "ticks": "",
            "zerolinecolor": "white"
           },
           "zaxis": {
            "backgroundcolor": "#E5ECF6",
            "gridcolor": "white",
            "gridwidth": 2,
            "linecolor": "white",
            "showbackground": true,
            "ticks": "",
            "zerolinecolor": "white"
           }
          },
          "shapedefaults": {
           "line": {
            "color": "#2a3f5f"
           }
          },
          "ternary": {
           "aaxis": {
            "gridcolor": "white",
            "linecolor": "white",
            "ticks": ""
           },
           "baxis": {
            "gridcolor": "white",
            "linecolor": "white",
            "ticks": ""
           },
           "bgcolor": "#E5ECF6",
           "caxis": {
            "gridcolor": "white",
            "linecolor": "white",
            "ticks": ""
           }
          },
          "title": {
           "x": 0.05
          },
          "xaxis": {
           "automargin": true,
           "gridcolor": "white",
           "linecolor": "white",
           "ticks": "",
           "title": {
            "standoff": 15
           },
           "zerolinecolor": "white",
           "zerolinewidth": 2
          },
          "yaxis": {
           "automargin": true,
           "gridcolor": "white",
           "linecolor": "white",
           "ticks": "",
           "title": {
            "standoff": 15
           },
           "zerolinecolor": "white",
           "zerolinewidth": 2
          }
         }
        },
        "title": {
         "text": "Correlations: Happiness vs Other Indicators"
        },
        "xaxis": {
         "tickangle": -45
        },
        "yaxis": {
         "tickfont": {
          "size": 14
         }
        }
       }
      },
      "text/html": [
       "<div>            <script src=\"https://cdnjs.cloudflare.com/ajax/libs/mathjax/2.7.5/MathJax.js?config=TeX-AMS-MML_SVG\"></script><script type=\"text/javascript\">if (window.MathJax && window.MathJax.Hub && window.MathJax.Hub.Config) {window.MathJax.Hub.Config({SVG: {font: \"STIX-Web\"}});}</script>                <script type=\"text/javascript\">window.PlotlyConfig = {MathJaxConfig: 'local'};</script>\n",
       "        <script charset=\"utf-8\" src=\"https://cdn.plot.ly/plotly-3.0.1.min.js\"></script>                <div id=\"760530e7-73e6-4675-ab5f-b2e5bd0d8548\" class=\"plotly-graph-div\" style=\"height:500px; width:100%;\"></div>            <script type=\"text/javascript\">                window.PLOTLYENV=window.PLOTLYENV || {};                                if (document.getElementById(\"760530e7-73e6-4675-ab5f-b2e5bd0d8548\")) {                    Plotly.newPlot(                        \"760530e7-73e6-4675-ab5f-b2e5bd0d8548\",                        [{\"colorbar\":{\"title\":{\"text\":\"Pearson r\"}},\"colorscale\":[[0.0,\"rgb(103,0,31)\"],[0.1,\"rgb(178,24,43)\"],[0.2,\"rgb(214,96,77)\"],[0.3,\"rgb(244,165,130)\"],[0.4,\"rgb(253,219,199)\"],[0.5,\"rgb(247,247,247)\"],[0.6,\"rgb(209,229,240)\"],[0.7,\"rgb(146,197,222)\"],[0.8,\"rgb(67,147,195)\"],[0.9,\"rgb(33,102,172)\"],[1.0,\"rgb(5,48,97)\"]],\"hoverongaps\":false,\"text\":[[\"0.78\",\"0.77\",\"0.74\",\"0.32\",\"-0.25\",\"-0.22\"]],\"textfont\":{\"size\":14},\"texttemplate\":\"%{text}\",\"x\":[\"GNI_current_usd\",\"Life_expectancy\",\"GDP_current_usd\",\"Edu_expenditure_pct\",\"Unemployment_rate\",\"Gini_index\"],\"y\":[\"Happiness\"],\"z\":[[0.7780561975972948,0.7736481330646564,0.7447822855599852,0.31984041607700936,-0.24925055070300098,-0.22300973295355409]],\"zmax\":1,\"zmid\":0,\"zmin\":-1,\"type\":\"heatmap\"}],                        {\"template\":{\"data\":{\"histogram2dcontour\":[{\"type\":\"histogram2dcontour\",\"colorbar\":{\"outlinewidth\":0,\"ticks\":\"\"},\"colorscale\":[[0.0,\"#0d0887\"],[0.1111111111111111,\"#46039f\"],[0.2222222222222222,\"#7201a8\"],[0.3333333333333333,\"#9c179e\"],[0.4444444444444444,\"#bd3786\"],[0.5555555555555556,\"#d8576b\"],[0.6666666666666666,\"#ed7953\"],[0.7777777777777778,\"#fb9f3a\"],[0.8888888888888888,\"#fdca26\"],[1.0,\"#f0f921\"]]}],\"choropleth\":[{\"type\":\"choropleth\",\"colorbar\":{\"outlinewidth\":0,\"ticks\":\"\"}}],\"histogram2d\":[{\"type\":\"histogram2d\",\"colorbar\":{\"outlinewidth\":0,\"ticks\":\"\"},\"colorscale\":[[0.0,\"#0d0887\"],[0.1111111111111111,\"#46039f\"],[0.2222222222222222,\"#7201a8\"],[0.3333333333333333,\"#9c179e\"],[0.4444444444444444,\"#bd3786\"],[0.5555555555555556,\"#d8576b\"],[0.6666666666666666,\"#ed7953\"],[0.7777777777777778,\"#fb9f3a\"],[0.8888888888888888,\"#fdca26\"],[1.0,\"#f0f921\"]]}],\"heatmap\":[{\"type\":\"heatmap\",\"colorbar\":{\"outlinewidth\":0,\"ticks\":\"\"},\"colorscale\":[[0.0,\"#0d0887\"],[0.1111111111111111,\"#46039f\"],[0.2222222222222222,\"#7201a8\"],[0.3333333333333333,\"#9c179e\"],[0.4444444444444444,\"#bd3786\"],[0.5555555555555556,\"#d8576b\"],[0.6666666666666666,\"#ed7953\"],[0.7777777777777778,\"#fb9f3a\"],[0.8888888888888888,\"#fdca26\"],[1.0,\"#f0f921\"]]}],\"contourcarpet\":[{\"type\":\"contourcarpet\",\"colorbar\":{\"outlinewidth\":0,\"ticks\":\"\"}}],\"contour\":[{\"type\":\"contour\",\"colorbar\":{\"outlinewidth\":0,\"ticks\":\"\"},\"colorscale\":[[0.0,\"#0d0887\"],[0.1111111111111111,\"#46039f\"],[0.2222222222222222,\"#7201a8\"],[0.3333333333333333,\"#9c179e\"],[0.4444444444444444,\"#bd3786\"],[0.5555555555555556,\"#d8576b\"],[0.6666666666666666,\"#ed7953\"],[0.7777777777777778,\"#fb9f3a\"],[0.8888888888888888,\"#fdca26\"],[1.0,\"#f0f921\"]]}],\"surface\":[{\"type\":\"surface\",\"colorbar\":{\"outlinewidth\":0,\"ticks\":\"\"},\"colorscale\":[[0.0,\"#0d0887\"],[0.1111111111111111,\"#46039f\"],[0.2222222222222222,\"#7201a8\"],[0.3333333333333333,\"#9c179e\"],[0.4444444444444444,\"#bd3786\"],[0.5555555555555556,\"#d8576b\"],[0.6666666666666666,\"#ed7953\"],[0.7777777777777778,\"#fb9f3a\"],[0.8888888888888888,\"#fdca26\"],[1.0,\"#f0f921\"]]}],\"mesh3d\":[{\"type\":\"mesh3d\",\"colorbar\":{\"outlinewidth\":0,\"ticks\":\"\"}}],\"scatter\":[{\"fillpattern\":{\"fillmode\":\"overlay\",\"size\":10,\"solidity\":0.2},\"type\":\"scatter\"}],\"parcoords\":[{\"type\":\"parcoords\",\"line\":{\"colorbar\":{\"outlinewidth\":0,\"ticks\":\"\"}}}],\"scatterpolargl\":[{\"type\":\"scatterpolargl\",\"marker\":{\"colorbar\":{\"outlinewidth\":0,\"ticks\":\"\"}}}],\"bar\":[{\"error_x\":{\"color\":\"#2a3f5f\"},\"error_y\":{\"color\":\"#2a3f5f\"},\"marker\":{\"line\":{\"color\":\"#E5ECF6\",\"width\":0.5},\"pattern\":{\"fillmode\":\"overlay\",\"size\":10,\"solidity\":0.2}},\"type\":\"bar\"}],\"scattergeo\":[{\"type\":\"scattergeo\",\"marker\":{\"colorbar\":{\"outlinewidth\":0,\"ticks\":\"\"}}}],\"scatterpolar\":[{\"type\":\"scatterpolar\",\"marker\":{\"colorbar\":{\"outlinewidth\":0,\"ticks\":\"\"}}}],\"histogram\":[{\"marker\":{\"pattern\":{\"fillmode\":\"overlay\",\"size\":10,\"solidity\":0.2}},\"type\":\"histogram\"}],\"scattergl\":[{\"type\":\"scattergl\",\"marker\":{\"colorbar\":{\"outlinewidth\":0,\"ticks\":\"\"}}}],\"scatter3d\":[{\"type\":\"scatter3d\",\"line\":{\"colorbar\":{\"outlinewidth\":0,\"ticks\":\"\"}},\"marker\":{\"colorbar\":{\"outlinewidth\":0,\"ticks\":\"\"}}}],\"scattermap\":[{\"type\":\"scattermap\",\"marker\":{\"colorbar\":{\"outlinewidth\":0,\"ticks\":\"\"}}}],\"scattermapbox\":[{\"type\":\"scattermapbox\",\"marker\":{\"colorbar\":{\"outlinewidth\":0,\"ticks\":\"\"}}}],\"scatterternary\":[{\"type\":\"scatterternary\",\"marker\":{\"colorbar\":{\"outlinewidth\":0,\"ticks\":\"\"}}}],\"scattercarpet\":[{\"type\":\"scattercarpet\",\"marker\":{\"colorbar\":{\"outlinewidth\":0,\"ticks\":\"\"}}}],\"carpet\":[{\"aaxis\":{\"endlinecolor\":\"#2a3f5f\",\"gridcolor\":\"white\",\"linecolor\":\"white\",\"minorgridcolor\":\"white\",\"startlinecolor\":\"#2a3f5f\"},\"baxis\":{\"endlinecolor\":\"#2a3f5f\",\"gridcolor\":\"white\",\"linecolor\":\"white\",\"minorgridcolor\":\"white\",\"startlinecolor\":\"#2a3f5f\"},\"type\":\"carpet\"}],\"table\":[{\"cells\":{\"fill\":{\"color\":\"#EBF0F8\"},\"line\":{\"color\":\"white\"}},\"header\":{\"fill\":{\"color\":\"#C8D4E3\"},\"line\":{\"color\":\"white\"}},\"type\":\"table\"}],\"barpolar\":[{\"marker\":{\"line\":{\"color\":\"#E5ECF6\",\"width\":0.5},\"pattern\":{\"fillmode\":\"overlay\",\"size\":10,\"solidity\":0.2}},\"type\":\"barpolar\"}],\"pie\":[{\"automargin\":true,\"type\":\"pie\"}]},\"layout\":{\"autotypenumbers\":\"strict\",\"colorway\":[\"#636efa\",\"#EF553B\",\"#00cc96\",\"#ab63fa\",\"#FFA15A\",\"#19d3f3\",\"#FF6692\",\"#B6E880\",\"#FF97FF\",\"#FECB52\"],\"font\":{\"color\":\"#2a3f5f\"},\"hovermode\":\"closest\",\"hoverlabel\":{\"align\":\"left\"},\"paper_bgcolor\":\"white\",\"plot_bgcolor\":\"#E5ECF6\",\"polar\":{\"bgcolor\":\"#E5ECF6\",\"angularaxis\":{\"gridcolor\":\"white\",\"linecolor\":\"white\",\"ticks\":\"\"},\"radialaxis\":{\"gridcolor\":\"white\",\"linecolor\":\"white\",\"ticks\":\"\"}},\"ternary\":{\"bgcolor\":\"#E5ECF6\",\"aaxis\":{\"gridcolor\":\"white\",\"linecolor\":\"white\",\"ticks\":\"\"},\"baxis\":{\"gridcolor\":\"white\",\"linecolor\":\"white\",\"ticks\":\"\"},\"caxis\":{\"gridcolor\":\"white\",\"linecolor\":\"white\",\"ticks\":\"\"}},\"coloraxis\":{\"colorbar\":{\"outlinewidth\":0,\"ticks\":\"\"}},\"colorscale\":{\"sequential\":[[0.0,\"#0d0887\"],[0.1111111111111111,\"#46039f\"],[0.2222222222222222,\"#7201a8\"],[0.3333333333333333,\"#9c179e\"],[0.4444444444444444,\"#bd3786\"],[0.5555555555555556,\"#d8576b\"],[0.6666666666666666,\"#ed7953\"],[0.7777777777777778,\"#fb9f3a\"],[0.8888888888888888,\"#fdca26\"],[1.0,\"#f0f921\"]],\"sequentialminus\":[[0.0,\"#0d0887\"],[0.1111111111111111,\"#46039f\"],[0.2222222222222222,\"#7201a8\"],[0.3333333333333333,\"#9c179e\"],[0.4444444444444444,\"#bd3786\"],[0.5555555555555556,\"#d8576b\"],[0.6666666666666666,\"#ed7953\"],[0.7777777777777778,\"#fb9f3a\"],[0.8888888888888888,\"#fdca26\"],[1.0,\"#f0f921\"]],\"diverging\":[[0,\"#8e0152\"],[0.1,\"#c51b7d\"],[0.2,\"#de77ae\"],[0.3,\"#f1b6da\"],[0.4,\"#fde0ef\"],[0.5,\"#f7f7f7\"],[0.6,\"#e6f5d0\"],[0.7,\"#b8e186\"],[0.8,\"#7fbc41\"],[0.9,\"#4d9221\"],[1,\"#276419\"]]},\"xaxis\":{\"gridcolor\":\"white\",\"linecolor\":\"white\",\"ticks\":\"\",\"title\":{\"standoff\":15},\"zerolinecolor\":\"white\",\"automargin\":true,\"zerolinewidth\":2},\"yaxis\":{\"gridcolor\":\"white\",\"linecolor\":\"white\",\"ticks\":\"\",\"title\":{\"standoff\":15},\"zerolinecolor\":\"white\",\"automargin\":true,\"zerolinewidth\":2},\"scene\":{\"xaxis\":{\"backgroundcolor\":\"#E5ECF6\",\"gridcolor\":\"white\",\"linecolor\":\"white\",\"showbackground\":true,\"ticks\":\"\",\"zerolinecolor\":\"white\",\"gridwidth\":2},\"yaxis\":{\"backgroundcolor\":\"#E5ECF6\",\"gridcolor\":\"white\",\"linecolor\":\"white\",\"showbackground\":true,\"ticks\":\"\",\"zerolinecolor\":\"white\",\"gridwidth\":2},\"zaxis\":{\"backgroundcolor\":\"#E5ECF6\",\"gridcolor\":\"white\",\"linecolor\":\"white\",\"showbackground\":true,\"ticks\":\"\",\"zerolinecolor\":\"white\",\"gridwidth\":2}},\"shapedefaults\":{\"line\":{\"color\":\"#2a3f5f\"}},\"annotationdefaults\":{\"arrowcolor\":\"#2a3f5f\",\"arrowhead\":0,\"arrowwidth\":1},\"geo\":{\"bgcolor\":\"white\",\"landcolor\":\"#E5ECF6\",\"subunitcolor\":\"white\",\"showland\":true,\"showlakes\":true,\"lakecolor\":\"white\"},\"title\":{\"x\":0.05},\"mapbox\":{\"style\":\"light\"}}},\"xaxis\":{\"tickangle\":-45},\"yaxis\":{\"tickfont\":{\"size\":14}},\"margin\":{\"l\":80,\"r\":80,\"t\":60,\"b\":100},\"title\":{\"text\":\"Correlations: Happiness vs Other Indicators\"},\"height\":500,\"paper_bgcolor\":\"#EDF1EC\",\"plot_bgcolor\":\"#EDF1EC\"},                        {\"responsive\": true}                    ).then(function(){\n",
       "                            \n",
       "var gd = document.getElementById('760530e7-73e6-4675-ab5f-b2e5bd0d8548');\n",
       "var x = new MutationObserver(function (mutations, observer) {{\n",
       "        var display = window.getComputedStyle(gd).display;\n",
       "        if (!display || display === 'none') {{\n",
       "            console.log([gd, 'removed!']);\n",
       "            Plotly.purge(gd);\n",
       "            observer.disconnect();\n",
       "        }}\n",
       "}});\n",
       "\n",
       "// Listen for the removal of the full notebook cells\n",
       "var notebookContainer = gd.closest('#notebook-container');\n",
       "if (notebookContainer) {{\n",
       "    x.observe(notebookContainer, {childList: true});\n",
       "}}\n",
       "\n",
       "// Listen for the clearing of the current output cell\n",
       "var outputEl = gd.closest('.output');\n",
       "if (outputEl) {{\n",
       "    x.observe(outputEl, {childList: true});\n",
       "}}\n",
       "\n",
       "                        })                };            </script>        </div>"
      ]
     },
     "metadata": {},
     "output_type": "display_data"
    }
   ],
   "source": [
    "import pandas as pd\n",
    "import numpy as np\n",
    "import plotly.graph_objects as go\n",
    "\n",
    "df = pd.read_csv('final.csv')\n",
    "others = [\n",
    "    'GDP_current_usd',\n",
    "    'GNI_current_usd',\n",
    "    'Gini_index',\n",
    "    'Life_expectancy',\n",
    "    'Unemployment_rate',\n",
    "    'Edu_expenditure_pct'\n",
    "]\n",
    "\n",
    "corr_with_hap = df[others].corrwith(df['Happiness'])\n",
    "corr_with_hap = corr_with_hap.reindex(\n",
    "    corr_with_hap.abs().sort_values(ascending=False).index\n",
    ")\n",
    "\n",
    "fig = go.Figure(go.Heatmap(\n",
    "    z=[corr_with_hap.values],\n",
    "    x=corr_with_hap.index,\n",
    "    y=['Happiness'],\n",
    "    zmin=-1, zmid=0, zmax=1,\n",
    "    colorscale='RdBu',\n",
    "    colorbar=dict(title='Pearson r'),\n",
    "    text=[[f\"{v:.2f}\" for v in corr_with_hap.values]],\n",
    "    texttemplate='%{text}',\n",
    "    textfont=dict(size=14),\n",
    "    hoverongaps=False\n",
    "))\n",
    "\n",
    "fig.update_layout(\n",
    "    title=\"Correlations: Happiness vs Other Indicators\",\n",
    "    xaxis_tickangle=-45,\n",
    "    yaxis=dict(tickfont=dict(size=14)),\n",
    "    height=500,\n",
    "    margin=dict(l=80, r=80, t=60, b=100),\n",
    "    paper_bgcolor='#EDF1EC',\n",
    "    plot_bgcolor='#EDF1EC'\n",
    ")\n",
    "\n",
    "fig.show()"
   ]
  },
  {
   "cell_type": "markdown",
   "id": "0edca088",
   "metadata": {},
   "source": [
    "In the bar chart above (“Correlations: Happiness vs Other Indicators”), each horizontal bar shows the Pearson *r* between the national Happiness score and one of six factors: GDP per capita, GNI per capita, Gini Index (income inequality), healthy life expectancy, unemployment rate, and education expenditure (% of GDP). Bars on the right are positively associated with higher Happiness, while those on the left indicate an inverse relationship.\n",
    "\n",
    "We see that healthy life expectancy (r ≈ 0.78) and GDP per capita (r ≈ 0.77) have the strongest positive correlations, suggesting that longer, healthier lives and greater material prosperity tend to go hand-in-hand with subjective well-being across nations. By contrast, income inequality (Gini Index; r ≈ –0.25) and education spending (r ≈ –0.22) show modest negative correlations, hinting that higher inequality and larger education budgets alone do not guarantee a happier population.\n"
   ]
  },
  {
   "cell_type": "code",
   "execution_count": 14,
   "id": "cea1cc1f",
   "metadata": {
    "tags": [
     "remove-input"
    ]
   },
   "outputs": [
    {
     "data": {
      "application/vnd.plotly.v1+json": {
       "config": {
        "plotlyServerURL": "https://plot.ly"
       },
       "data": [
        {
         "base": [
          0
         ],
         "hovertemplate": "Life expectancy: 25.0%<extra></extra>",
         "marker": {
          "color": "#256caf"
         },
         "name": "Life expectancy",
         "orientation": "h",
         "showlegend": false,
         "type": "bar",
         "x": [
          24.999999999999996
         ],
         "y": [
          "Effect on Happiness (%)"
         ]
        },
        {
         "base": [
          24.999999999999996
         ],
         "hovertemplate": "Education expenditure: 10.4%<extra></extra>",
         "marker": {
          "color": "#abd2e5"
         },
         "name": "Education expenditure",
         "orientation": "h",
         "showlegend": false,
         "type": "bar",
         "x": [
          10.389610389610388
         ],
         "y": [
          "Effect on Happiness (%)"
         ]
        },
        {
         "base": [
          35.38961038961038
         ],
         "hovertemplate": "Unemployment rate: 8.1%<extra></extra>",
         "marker": {
          "color": "#fbceb6"
         },
         "name": "Unemployment rate",
         "orientation": "h",
         "showlegend": false,
         "type": "bar",
         "x": [
          8.116883116883116
         ],
         "y": [
          "Effect on Happiness (%)"
         ]
        },
        {
         "base": [
          43.5064935064935
         ],
         "hovertemplate": "GNI in current USD: 25.3%<extra></extra>",
         "marker": {
          "color": "#256baf"
         },
         "name": "GNI in current USD",
         "orientation": "h",
         "showlegend": false,
         "type": "bar",
         "x": [
          25.324675324675322
         ],
         "y": [
          "Effect on Happiness (%)"
         ]
        },
        {
         "base": [
          68.83116883116882
         ],
         "hovertemplate": "GDP in current USD: 24.0%<extra></extra>",
         "marker": {
          "color": "#2a72b2"
         },
         "name": "GDP in current USD",
         "orientation": "h",
         "showlegend": false,
         "type": "bar",
         "x": [
          24.025974025974023
         ],
         "y": [
          "Effect on Happiness (%)"
         ]
        },
        {
         "base": [
          92.85714285714285
         ],
         "hovertemplate": "Gini index: 7.1%<extra></extra>",
         "marker": {
          "color": "#fcd5bf"
         },
         "name": "Gini index",
         "orientation": "h",
         "showlegend": false,
         "type": "bar",
         "x": [
          7.1428571428571415
         ],
         "y": [
          "Effect on Happiness (%)"
         ]
        },
        {
         "marker": {
          "color": "#fcd5bf"
         },
         "name": "Gini index",
         "showlegend": true,
         "type": "bar",
         "x": [
          null
         ],
         "y": [
          null
         ]
        },
        {
         "marker": {
          "color": "#fbceb6"
         },
         "name": "Unemployment rate",
         "showlegend": true,
         "type": "bar",
         "x": [
          null
         ],
         "y": [
          null
         ]
        },
        {
         "marker": {
          "color": "#abd2e5"
         },
         "name": "Education expenditure",
         "showlegend": true,
         "type": "bar",
         "x": [
          null
         ],
         "y": [
          null
         ]
        },
        {
         "marker": {
          "color": "#2a72b2"
         },
         "name": "GDP in current USD",
         "showlegend": true,
         "type": "bar",
         "x": [
          null
         ],
         "y": [
          null
         ]
        },
        {
         "marker": {
          "color": "#256caf"
         },
         "name": "Life expectancy",
         "showlegend": true,
         "type": "bar",
         "x": [
          null
         ],
         "y": [
          null
         ]
        },
        {
         "marker": {
          "color": "#256baf"
         },
         "name": "GNI in current USD",
         "showlegend": true,
         "type": "bar",
         "x": [
          null
         ],
         "y": [
          null
         ]
        }
       ],
       "layout": {
        "annotations": [
         {
          "font": {
           "size": 12
          },
          "showarrow": false,
          "text": "Socioeconomic 44.6%",
          "x": 21.75324675324675,
          "y": 0.6
         },
         {
          "font": {
           "size": 12
          },
          "showarrow": false,
          "text": "Economic 55.4%",
          "x": 71.75324675324674,
          "y": 0.6
         }
        ],
        "barmode": "stack",
        "height": 350,
        "legend": {
         "title": {
          "text": "Factors"
         }
        },
        "margin": {
         "b": 20,
         "l": 20,
         "r": 20,
         "t": 60
        },
        "paper_bgcolor": "#EDF1EC",
        "plot_bgcolor": "#EDF1EC",
        "shapes": [
         {
          "fillcolor": "rgba(0,0,0,0)",
          "line": {
           "color": "black",
           "width": 2
          },
          "type": "rect",
          "x0": 0,
          "x1": 43.5064935064935,
          "xref": "x",
          "y0": -0.5,
          "y1": 0.5,
          "yref": "y"
         },
         {
          "fillcolor": "rgba(0,0,0,0)",
          "line": {
           "color": "black",
           "width": 2
          },
          "type": "rect",
          "x0": 43.5064935064935,
          "x1": 99.99999999999999,
          "xref": "x",
          "y0": -0.5,
          "y1": 0.5,
          "yref": "y"
         }
        ],
        "showlegend": true,
        "template": {
         "data": {
          "bar": [
           {
            "error_x": {
             "color": "rgb(36,36,36)"
            },
            "error_y": {
             "color": "rgb(36,36,36)"
            },
            "marker": {
             "line": {
              "color": "white",
              "width": 0.5
             },
             "pattern": {
              "fillmode": "overlay",
              "size": 10,
              "solidity": 0.2
             }
            },
            "type": "bar"
           }
          ],
          "barpolar": [
           {
            "marker": {
             "line": {
              "color": "white",
              "width": 0.5
             },
             "pattern": {
              "fillmode": "overlay",
              "size": 10,
              "solidity": 0.2
             }
            },
            "type": "barpolar"
           }
          ],
          "carpet": [
           {
            "aaxis": {
             "endlinecolor": "rgb(36,36,36)",
             "gridcolor": "white",
             "linecolor": "white",
             "minorgridcolor": "white",
             "startlinecolor": "rgb(36,36,36)"
            },
            "baxis": {
             "endlinecolor": "rgb(36,36,36)",
             "gridcolor": "white",
             "linecolor": "white",
             "minorgridcolor": "white",
             "startlinecolor": "rgb(36,36,36)"
            },
            "type": "carpet"
           }
          ],
          "choropleth": [
           {
            "colorbar": {
             "outlinewidth": 1,
             "tickcolor": "rgb(36,36,36)",
             "ticks": "outside"
            },
            "type": "choropleth"
           }
          ],
          "contour": [
           {
            "colorbar": {
             "outlinewidth": 1,
             "tickcolor": "rgb(36,36,36)",
             "ticks": "outside"
            },
            "colorscale": [
             [
              0,
              "#440154"
             ],
             [
              0.1111111111111111,
              "#482878"
             ],
             [
              0.2222222222222222,
              "#3e4989"
             ],
             [
              0.3333333333333333,
              "#31688e"
             ],
             [
              0.4444444444444444,
              "#26828e"
             ],
             [
              0.5555555555555556,
              "#1f9e89"
             ],
             [
              0.6666666666666666,
              "#35b779"
             ],
             [
              0.7777777777777778,
              "#6ece58"
             ],
             [
              0.8888888888888888,
              "#b5de2b"
             ],
             [
              1,
              "#fde725"
             ]
            ],
            "type": "contour"
           }
          ],
          "contourcarpet": [
           {
            "colorbar": {
             "outlinewidth": 1,
             "tickcolor": "rgb(36,36,36)",
             "ticks": "outside"
            },
            "type": "contourcarpet"
           }
          ],
          "heatmap": [
           {
            "colorbar": {
             "outlinewidth": 1,
             "tickcolor": "rgb(36,36,36)",
             "ticks": "outside"
            },
            "colorscale": [
             [
              0,
              "#440154"
             ],
             [
              0.1111111111111111,
              "#482878"
             ],
             [
              0.2222222222222222,
              "#3e4989"
             ],
             [
              0.3333333333333333,
              "#31688e"
             ],
             [
              0.4444444444444444,
              "#26828e"
             ],
             [
              0.5555555555555556,
              "#1f9e89"
             ],
             [
              0.6666666666666666,
              "#35b779"
             ],
             [
              0.7777777777777778,
              "#6ece58"
             ],
             [
              0.8888888888888888,
              "#b5de2b"
             ],
             [
              1,
              "#fde725"
             ]
            ],
            "type": "heatmap"
           }
          ],
          "histogram": [
           {
            "marker": {
             "line": {
              "color": "white",
              "width": 0.6
             }
            },
            "type": "histogram"
           }
          ],
          "histogram2d": [
           {
            "colorbar": {
             "outlinewidth": 1,
             "tickcolor": "rgb(36,36,36)",
             "ticks": "outside"
            },
            "colorscale": [
             [
              0,
              "#440154"
             ],
             [
              0.1111111111111111,
              "#482878"
             ],
             [
              0.2222222222222222,
              "#3e4989"
             ],
             [
              0.3333333333333333,
              "#31688e"
             ],
             [
              0.4444444444444444,
              "#26828e"
             ],
             [
              0.5555555555555556,
              "#1f9e89"
             ],
             [
              0.6666666666666666,
              "#35b779"
             ],
             [
              0.7777777777777778,
              "#6ece58"
             ],
             [
              0.8888888888888888,
              "#b5de2b"
             ],
             [
              1,
              "#fde725"
             ]
            ],
            "type": "histogram2d"
           }
          ],
          "histogram2dcontour": [
           {
            "colorbar": {
             "outlinewidth": 1,
             "tickcolor": "rgb(36,36,36)",
             "ticks": "outside"
            },
            "colorscale": [
             [
              0,
              "#440154"
             ],
             [
              0.1111111111111111,
              "#482878"
             ],
             [
              0.2222222222222222,
              "#3e4989"
             ],
             [
              0.3333333333333333,
              "#31688e"
             ],
             [
              0.4444444444444444,
              "#26828e"
             ],
             [
              0.5555555555555556,
              "#1f9e89"
             ],
             [
              0.6666666666666666,
              "#35b779"
             ],
             [
              0.7777777777777778,
              "#6ece58"
             ],
             [
              0.8888888888888888,
              "#b5de2b"
             ],
             [
              1,
              "#fde725"
             ]
            ],
            "type": "histogram2dcontour"
           }
          ],
          "mesh3d": [
           {
            "colorbar": {
             "outlinewidth": 1,
             "tickcolor": "rgb(36,36,36)",
             "ticks": "outside"
            },
            "type": "mesh3d"
           }
          ],
          "parcoords": [
           {
            "line": {
             "colorbar": {
              "outlinewidth": 1,
              "tickcolor": "rgb(36,36,36)",
              "ticks": "outside"
             }
            },
            "type": "parcoords"
           }
          ],
          "pie": [
           {
            "automargin": true,
            "type": "pie"
           }
          ],
          "scatter": [
           {
            "fillpattern": {
             "fillmode": "overlay",
             "size": 10,
             "solidity": 0.2
            },
            "type": "scatter"
           }
          ],
          "scatter3d": [
           {
            "line": {
             "colorbar": {
              "outlinewidth": 1,
              "tickcolor": "rgb(36,36,36)",
              "ticks": "outside"
             }
            },
            "marker": {
             "colorbar": {
              "outlinewidth": 1,
              "tickcolor": "rgb(36,36,36)",
              "ticks": "outside"
             }
            },
            "type": "scatter3d"
           }
          ],
          "scattercarpet": [
           {
            "marker": {
             "colorbar": {
              "outlinewidth": 1,
              "tickcolor": "rgb(36,36,36)",
              "ticks": "outside"
             }
            },
            "type": "scattercarpet"
           }
          ],
          "scattergeo": [
           {
            "marker": {
             "colorbar": {
              "outlinewidth": 1,
              "tickcolor": "rgb(36,36,36)",
              "ticks": "outside"
             }
            },
            "type": "scattergeo"
           }
          ],
          "scattergl": [
           {
            "marker": {
             "colorbar": {
              "outlinewidth": 1,
              "tickcolor": "rgb(36,36,36)",
              "ticks": "outside"
             }
            },
            "type": "scattergl"
           }
          ],
          "scattermap": [
           {
            "marker": {
             "colorbar": {
              "outlinewidth": 1,
              "tickcolor": "rgb(36,36,36)",
              "ticks": "outside"
             }
            },
            "type": "scattermap"
           }
          ],
          "scattermapbox": [
           {
            "marker": {
             "colorbar": {
              "outlinewidth": 1,
              "tickcolor": "rgb(36,36,36)",
              "ticks": "outside"
             }
            },
            "type": "scattermapbox"
           }
          ],
          "scatterpolar": [
           {
            "marker": {
             "colorbar": {
              "outlinewidth": 1,
              "tickcolor": "rgb(36,36,36)",
              "ticks": "outside"
             }
            },
            "type": "scatterpolar"
           }
          ],
          "scatterpolargl": [
           {
            "marker": {
             "colorbar": {
              "outlinewidth": 1,
              "tickcolor": "rgb(36,36,36)",
              "ticks": "outside"
             }
            },
            "type": "scatterpolargl"
           }
          ],
          "scatterternary": [
           {
            "marker": {
             "colorbar": {
              "outlinewidth": 1,
              "tickcolor": "rgb(36,36,36)",
              "ticks": "outside"
             }
            },
            "type": "scatterternary"
           }
          ],
          "surface": [
           {
            "colorbar": {
             "outlinewidth": 1,
             "tickcolor": "rgb(36,36,36)",
             "ticks": "outside"
            },
            "colorscale": [
             [
              0,
              "#440154"
             ],
             [
              0.1111111111111111,
              "#482878"
             ],
             [
              0.2222222222222222,
              "#3e4989"
             ],
             [
              0.3333333333333333,
              "#31688e"
             ],
             [
              0.4444444444444444,
              "#26828e"
             ],
             [
              0.5555555555555556,
              "#1f9e89"
             ],
             [
              0.6666666666666666,
              "#35b779"
             ],
             [
              0.7777777777777778,
              "#6ece58"
             ],
             [
              0.8888888888888888,
              "#b5de2b"
             ],
             [
              1,
              "#fde725"
             ]
            ],
            "type": "surface"
           }
          ],
          "table": [
           {
            "cells": {
             "fill": {
              "color": "rgb(237,237,237)"
             },
             "line": {
              "color": "white"
             }
            },
            "header": {
             "fill": {
              "color": "rgb(217,217,217)"
             },
             "line": {
              "color": "white"
             }
            },
            "type": "table"
           }
          ]
         },
         "layout": {
          "annotationdefaults": {
           "arrowhead": 0,
           "arrowwidth": 1
          },
          "autotypenumbers": "strict",
          "coloraxis": {
           "colorbar": {
            "outlinewidth": 1,
            "tickcolor": "rgb(36,36,36)",
            "ticks": "outside"
           }
          },
          "colorscale": {
           "diverging": [
            [
             0,
             "rgb(103,0,31)"
            ],
            [
             0.1,
             "rgb(178,24,43)"
            ],
            [
             0.2,
             "rgb(214,96,77)"
            ],
            [
             0.3,
             "rgb(244,165,130)"
            ],
            [
             0.4,
             "rgb(253,219,199)"
            ],
            [
             0.5,
             "rgb(247,247,247)"
            ],
            [
             0.6,
             "rgb(209,229,240)"
            ],
            [
             0.7,
             "rgb(146,197,222)"
            ],
            [
             0.8,
             "rgb(67,147,195)"
            ],
            [
             0.9,
             "rgb(33,102,172)"
            ],
            [
             1,
             "rgb(5,48,97)"
            ]
           ],
           "sequential": [
            [
             0,
             "#440154"
            ],
            [
             0.1111111111111111,
             "#482878"
            ],
            [
             0.2222222222222222,
             "#3e4989"
            ],
            [
             0.3333333333333333,
             "#31688e"
            ],
            [
             0.4444444444444444,
             "#26828e"
            ],
            [
             0.5555555555555556,
             "#1f9e89"
            ],
            [
             0.6666666666666666,
             "#35b779"
            ],
            [
             0.7777777777777778,
             "#6ece58"
            ],
            [
             0.8888888888888888,
             "#b5de2b"
            ],
            [
             1,
             "#fde725"
            ]
           ],
           "sequentialminus": [
            [
             0,
             "#440154"
            ],
            [
             0.1111111111111111,
             "#482878"
            ],
            [
             0.2222222222222222,
             "#3e4989"
            ],
            [
             0.3333333333333333,
             "#31688e"
            ],
            [
             0.4444444444444444,
             "#26828e"
            ],
            [
             0.5555555555555556,
             "#1f9e89"
            ],
            [
             0.6666666666666666,
             "#35b779"
            ],
            [
             0.7777777777777778,
             "#6ece58"
            ],
            [
             0.8888888888888888,
             "#b5de2b"
            ],
            [
             1,
             "#fde725"
            ]
           ]
          },
          "colorway": [
           "#1F77B4",
           "#FF7F0E",
           "#2CA02C",
           "#D62728",
           "#9467BD",
           "#8C564B",
           "#E377C2",
           "#7F7F7F",
           "#BCBD22",
           "#17BECF"
          ],
          "font": {
           "color": "rgb(36,36,36)"
          },
          "geo": {
           "bgcolor": "white",
           "lakecolor": "white",
           "landcolor": "white",
           "showlakes": true,
           "showland": true,
           "subunitcolor": "white"
          },
          "hoverlabel": {
           "align": "left"
          },
          "hovermode": "closest",
          "mapbox": {
           "style": "light"
          },
          "paper_bgcolor": "white",
          "plot_bgcolor": "white",
          "polar": {
           "angularaxis": {
            "gridcolor": "rgb(232,232,232)",
            "linecolor": "rgb(36,36,36)",
            "showgrid": false,
            "showline": true,
            "ticks": "outside"
           },
           "bgcolor": "white",
           "radialaxis": {
            "gridcolor": "rgb(232,232,232)",
            "linecolor": "rgb(36,36,36)",
            "showgrid": false,
            "showline": true,
            "ticks": "outside"
           }
          },
          "scene": {
           "xaxis": {
            "backgroundcolor": "white",
            "gridcolor": "rgb(232,232,232)",
            "gridwidth": 2,
            "linecolor": "rgb(36,36,36)",
            "showbackground": true,
            "showgrid": false,
            "showline": true,
            "ticks": "outside",
            "zeroline": false,
            "zerolinecolor": "rgb(36,36,36)"
           },
           "yaxis": {
            "backgroundcolor": "white",
            "gridcolor": "rgb(232,232,232)",
            "gridwidth": 2,
            "linecolor": "rgb(36,36,36)",
            "showbackground": true,
            "showgrid": false,
            "showline": true,
            "ticks": "outside",
            "zeroline": false,
            "zerolinecolor": "rgb(36,36,36)"
           },
           "zaxis": {
            "backgroundcolor": "white",
            "gridcolor": "rgb(232,232,232)",
            "gridwidth": 2,
            "linecolor": "rgb(36,36,36)",
            "showbackground": true,
            "showgrid": false,
            "showline": true,
            "ticks": "outside",
            "zeroline": false,
            "zerolinecolor": "rgb(36,36,36)"
           }
          },
          "shapedefaults": {
           "fillcolor": "black",
           "line": {
            "width": 0
           },
           "opacity": 0.3
          },
          "ternary": {
           "aaxis": {
            "gridcolor": "rgb(232,232,232)",
            "linecolor": "rgb(36,36,36)",
            "showgrid": false,
            "showline": true,
            "ticks": "outside"
           },
           "baxis": {
            "gridcolor": "rgb(232,232,232)",
            "linecolor": "rgb(36,36,36)",
            "showgrid": false,
            "showline": true,
            "ticks": "outside"
           },
           "bgcolor": "white",
           "caxis": {
            "gridcolor": "rgb(232,232,232)",
            "linecolor": "rgb(36,36,36)",
            "showgrid": false,
            "showline": true,
            "ticks": "outside"
           }
          },
          "title": {
           "x": 0.05
          },
          "xaxis": {
           "automargin": true,
           "gridcolor": "rgb(232,232,232)",
           "linecolor": "rgb(36,36,36)",
           "showgrid": false,
           "showline": true,
           "ticks": "outside",
           "title": {
            "standoff": 15
           },
           "zeroline": false,
           "zerolinecolor": "rgb(36,36,36)"
          },
          "yaxis": {
           "automargin": true,
           "gridcolor": "rgb(232,232,232)",
           "linecolor": "rgb(36,36,36)",
           "showgrid": false,
           "showline": true,
           "ticks": "outside",
           "title": {
            "standoff": 15
           },
           "zeroline": false,
           "zerolinecolor": "rgb(36,36,36)"
          }
         }
        },
        "title": {
         "text": "Tug-of-War: Relative Effect % on Happiness"
        },
        "xaxis": {
         "title": {
          "text": "Percent of Total Effect"
         }
        }
       }
      },
      "text/html": [
       "<div>            <script src=\"https://cdnjs.cloudflare.com/ajax/libs/mathjax/2.7.5/MathJax.js?config=TeX-AMS-MML_SVG\"></script><script type=\"text/javascript\">if (window.MathJax && window.MathJax.Hub && window.MathJax.Hub.Config) {window.MathJax.Hub.Config({SVG: {font: \"STIX-Web\"}});}</script>                <script type=\"text/javascript\">window.PlotlyConfig = {MathJaxConfig: 'local'};</script>\n",
       "        <script charset=\"utf-8\" src=\"https://cdn.plot.ly/plotly-3.0.1.min.js\"></script>                <div id=\"6367ce59-0638-466a-b0c0-0353146a6c1e\" class=\"plotly-graph-div\" style=\"height:350px; width:100%;\"></div>            <script type=\"text/javascript\">                window.PLOTLYENV=window.PLOTLYENV || {};                                if (document.getElementById(\"6367ce59-0638-466a-b0c0-0353146a6c1e\")) {                    Plotly.newPlot(                        \"6367ce59-0638-466a-b0c0-0353146a6c1e\",                        [{\"base\":[0],\"hovertemplate\":\"Life expectancy: 25.0%\\u003cextra\\u003e\\u003c\\u002fextra\\u003e\",\"marker\":{\"color\":\"#256caf\"},\"name\":\"Life expectancy\",\"orientation\":\"h\",\"showlegend\":false,\"x\":[24.999999999999996],\"y\":[\"Effect on Happiness (%)\"],\"type\":\"bar\"},{\"base\":[24.999999999999996],\"hovertemplate\":\"Education expenditure: 10.4%\\u003cextra\\u003e\\u003c\\u002fextra\\u003e\",\"marker\":{\"color\":\"#abd2e5\"},\"name\":\"Education expenditure\",\"orientation\":\"h\",\"showlegend\":false,\"x\":[10.389610389610388],\"y\":[\"Effect on Happiness (%)\"],\"type\":\"bar\"},{\"base\":[35.38961038961038],\"hovertemplate\":\"Unemployment rate: 8.1%\\u003cextra\\u003e\\u003c\\u002fextra\\u003e\",\"marker\":{\"color\":\"#fbceb6\"},\"name\":\"Unemployment rate\",\"orientation\":\"h\",\"showlegend\":false,\"x\":[8.116883116883116],\"y\":[\"Effect on Happiness (%)\"],\"type\":\"bar\"},{\"base\":[43.5064935064935],\"hovertemplate\":\"GNI in current USD: 25.3%\\u003cextra\\u003e\\u003c\\u002fextra\\u003e\",\"marker\":{\"color\":\"#256baf\"},\"name\":\"GNI in current USD\",\"orientation\":\"h\",\"showlegend\":false,\"x\":[25.324675324675322],\"y\":[\"Effect on Happiness (%)\"],\"type\":\"bar\"},{\"base\":[68.83116883116882],\"hovertemplate\":\"GDP in current USD: 24.0%\\u003cextra\\u003e\\u003c\\u002fextra\\u003e\",\"marker\":{\"color\":\"#2a72b2\"},\"name\":\"GDP in current USD\",\"orientation\":\"h\",\"showlegend\":false,\"x\":[24.025974025974023],\"y\":[\"Effect on Happiness (%)\"],\"type\":\"bar\"},{\"base\":[92.85714285714285],\"hovertemplate\":\"Gini index: 7.1%\\u003cextra\\u003e\\u003c\\u002fextra\\u003e\",\"marker\":{\"color\":\"#fcd5bf\"},\"name\":\"Gini index\",\"orientation\":\"h\",\"showlegend\":false,\"x\":[7.1428571428571415],\"y\":[\"Effect on Happiness (%)\"],\"type\":\"bar\"},{\"marker\":{\"color\":\"#fcd5bf\"},\"name\":\"Gini index\",\"showlegend\":true,\"x\":[null],\"y\":[null],\"type\":\"bar\"},{\"marker\":{\"color\":\"#fbceb6\"},\"name\":\"Unemployment rate\",\"showlegend\":true,\"x\":[null],\"y\":[null],\"type\":\"bar\"},{\"marker\":{\"color\":\"#abd2e5\"},\"name\":\"Education expenditure\",\"showlegend\":true,\"x\":[null],\"y\":[null],\"type\":\"bar\"},{\"marker\":{\"color\":\"#2a72b2\"},\"name\":\"GDP in current USD\",\"showlegend\":true,\"x\":[null],\"y\":[null],\"type\":\"bar\"},{\"marker\":{\"color\":\"#256caf\"},\"name\":\"Life expectancy\",\"showlegend\":true,\"x\":[null],\"y\":[null],\"type\":\"bar\"},{\"marker\":{\"color\":\"#256baf\"},\"name\":\"GNI in current USD\",\"showlegend\":true,\"x\":[null],\"y\":[null],\"type\":\"bar\"}],                        {\"template\":{\"data\":{\"barpolar\":[{\"marker\":{\"line\":{\"color\":\"white\",\"width\":0.5},\"pattern\":{\"fillmode\":\"overlay\",\"size\":10,\"solidity\":0.2}},\"type\":\"barpolar\"}],\"bar\":[{\"error_x\":{\"color\":\"rgb(36,36,36)\"},\"error_y\":{\"color\":\"rgb(36,36,36)\"},\"marker\":{\"line\":{\"color\":\"white\",\"width\":0.5},\"pattern\":{\"fillmode\":\"overlay\",\"size\":10,\"solidity\":0.2}},\"type\":\"bar\"}],\"carpet\":[{\"aaxis\":{\"endlinecolor\":\"rgb(36,36,36)\",\"gridcolor\":\"white\",\"linecolor\":\"white\",\"minorgridcolor\":\"white\",\"startlinecolor\":\"rgb(36,36,36)\"},\"baxis\":{\"endlinecolor\":\"rgb(36,36,36)\",\"gridcolor\":\"white\",\"linecolor\":\"white\",\"minorgridcolor\":\"white\",\"startlinecolor\":\"rgb(36,36,36)\"},\"type\":\"carpet\"}],\"choropleth\":[{\"colorbar\":{\"outlinewidth\":1,\"tickcolor\":\"rgb(36,36,36)\",\"ticks\":\"outside\"},\"type\":\"choropleth\"}],\"contourcarpet\":[{\"colorbar\":{\"outlinewidth\":1,\"tickcolor\":\"rgb(36,36,36)\",\"ticks\":\"outside\"},\"type\":\"contourcarpet\"}],\"contour\":[{\"colorbar\":{\"outlinewidth\":1,\"tickcolor\":\"rgb(36,36,36)\",\"ticks\":\"outside\"},\"colorscale\":[[0.0,\"#440154\"],[0.1111111111111111,\"#482878\"],[0.2222222222222222,\"#3e4989\"],[0.3333333333333333,\"#31688e\"],[0.4444444444444444,\"#26828e\"],[0.5555555555555556,\"#1f9e89\"],[0.6666666666666666,\"#35b779\"],[0.7777777777777778,\"#6ece58\"],[0.8888888888888888,\"#b5de2b\"],[1.0,\"#fde725\"]],\"type\":\"contour\"}],\"heatmap\":[{\"colorbar\":{\"outlinewidth\":1,\"tickcolor\":\"rgb(36,36,36)\",\"ticks\":\"outside\"},\"colorscale\":[[0.0,\"#440154\"],[0.1111111111111111,\"#482878\"],[0.2222222222222222,\"#3e4989\"],[0.3333333333333333,\"#31688e\"],[0.4444444444444444,\"#26828e\"],[0.5555555555555556,\"#1f9e89\"],[0.6666666666666666,\"#35b779\"],[0.7777777777777778,\"#6ece58\"],[0.8888888888888888,\"#b5de2b\"],[1.0,\"#fde725\"]],\"type\":\"heatmap\"}],\"histogram2dcontour\":[{\"colorbar\":{\"outlinewidth\":1,\"tickcolor\":\"rgb(36,36,36)\",\"ticks\":\"outside\"},\"colorscale\":[[0.0,\"#440154\"],[0.1111111111111111,\"#482878\"],[0.2222222222222222,\"#3e4989\"],[0.3333333333333333,\"#31688e\"],[0.4444444444444444,\"#26828e\"],[0.5555555555555556,\"#1f9e89\"],[0.6666666666666666,\"#35b779\"],[0.7777777777777778,\"#6ece58\"],[0.8888888888888888,\"#b5de2b\"],[1.0,\"#fde725\"]],\"type\":\"histogram2dcontour\"}],\"histogram2d\":[{\"colorbar\":{\"outlinewidth\":1,\"tickcolor\":\"rgb(36,36,36)\",\"ticks\":\"outside\"},\"colorscale\":[[0.0,\"#440154\"],[0.1111111111111111,\"#482878\"],[0.2222222222222222,\"#3e4989\"],[0.3333333333333333,\"#31688e\"],[0.4444444444444444,\"#26828e\"],[0.5555555555555556,\"#1f9e89\"],[0.6666666666666666,\"#35b779\"],[0.7777777777777778,\"#6ece58\"],[0.8888888888888888,\"#b5de2b\"],[1.0,\"#fde725\"]],\"type\":\"histogram2d\"}],\"histogram\":[{\"marker\":{\"line\":{\"color\":\"white\",\"width\":0.6}},\"type\":\"histogram\"}],\"mesh3d\":[{\"colorbar\":{\"outlinewidth\":1,\"tickcolor\":\"rgb(36,36,36)\",\"ticks\":\"outside\"},\"type\":\"mesh3d\"}],\"parcoords\":[{\"line\":{\"colorbar\":{\"outlinewidth\":1,\"tickcolor\":\"rgb(36,36,36)\",\"ticks\":\"outside\"}},\"type\":\"parcoords\"}],\"pie\":[{\"automargin\":true,\"type\":\"pie\"}],\"scatter3d\":[{\"line\":{\"colorbar\":{\"outlinewidth\":1,\"tickcolor\":\"rgb(36,36,36)\",\"ticks\":\"outside\"}},\"marker\":{\"colorbar\":{\"outlinewidth\":1,\"tickcolor\":\"rgb(36,36,36)\",\"ticks\":\"outside\"}},\"type\":\"scatter3d\"}],\"scattercarpet\":[{\"marker\":{\"colorbar\":{\"outlinewidth\":1,\"tickcolor\":\"rgb(36,36,36)\",\"ticks\":\"outside\"}},\"type\":\"scattercarpet\"}],\"scattergeo\":[{\"marker\":{\"colorbar\":{\"outlinewidth\":1,\"tickcolor\":\"rgb(36,36,36)\",\"ticks\":\"outside\"}},\"type\":\"scattergeo\"}],\"scattergl\":[{\"marker\":{\"colorbar\":{\"outlinewidth\":1,\"tickcolor\":\"rgb(36,36,36)\",\"ticks\":\"outside\"}},\"type\":\"scattergl\"}],\"scattermapbox\":[{\"marker\":{\"colorbar\":{\"outlinewidth\":1,\"tickcolor\":\"rgb(36,36,36)\",\"ticks\":\"outside\"}},\"type\":\"scattermapbox\"}],\"scattermap\":[{\"marker\":{\"colorbar\":{\"outlinewidth\":1,\"tickcolor\":\"rgb(36,36,36)\",\"ticks\":\"outside\"}},\"type\":\"scattermap\"}],\"scatterpolargl\":[{\"marker\":{\"colorbar\":{\"outlinewidth\":1,\"tickcolor\":\"rgb(36,36,36)\",\"ticks\":\"outside\"}},\"type\":\"scatterpolargl\"}],\"scatterpolar\":[{\"marker\":{\"colorbar\":{\"outlinewidth\":1,\"tickcolor\":\"rgb(36,36,36)\",\"ticks\":\"outside\"}},\"type\":\"scatterpolar\"}],\"scatter\":[{\"fillpattern\":{\"fillmode\":\"overlay\",\"size\":10,\"solidity\":0.2},\"type\":\"scatter\"}],\"scatterternary\":[{\"marker\":{\"colorbar\":{\"outlinewidth\":1,\"tickcolor\":\"rgb(36,36,36)\",\"ticks\":\"outside\"}},\"type\":\"scatterternary\"}],\"surface\":[{\"colorbar\":{\"outlinewidth\":1,\"tickcolor\":\"rgb(36,36,36)\",\"ticks\":\"outside\"},\"colorscale\":[[0.0,\"#440154\"],[0.1111111111111111,\"#482878\"],[0.2222222222222222,\"#3e4989\"],[0.3333333333333333,\"#31688e\"],[0.4444444444444444,\"#26828e\"],[0.5555555555555556,\"#1f9e89\"],[0.6666666666666666,\"#35b779\"],[0.7777777777777778,\"#6ece58\"],[0.8888888888888888,\"#b5de2b\"],[1.0,\"#fde725\"]],\"type\":\"surface\"}],\"table\":[{\"cells\":{\"fill\":{\"color\":\"rgb(237,237,237)\"},\"line\":{\"color\":\"white\"}},\"header\":{\"fill\":{\"color\":\"rgb(217,217,217)\"},\"line\":{\"color\":\"white\"}},\"type\":\"table\"}]},\"layout\":{\"annotationdefaults\":{\"arrowhead\":0,\"arrowwidth\":1},\"autotypenumbers\":\"strict\",\"coloraxis\":{\"colorbar\":{\"outlinewidth\":1,\"tickcolor\":\"rgb(36,36,36)\",\"ticks\":\"outside\"}},\"colorscale\":{\"diverging\":[[0.0,\"rgb(103,0,31)\"],[0.1,\"rgb(178,24,43)\"],[0.2,\"rgb(214,96,77)\"],[0.3,\"rgb(244,165,130)\"],[0.4,\"rgb(253,219,199)\"],[0.5,\"rgb(247,247,247)\"],[0.6,\"rgb(209,229,240)\"],[0.7,\"rgb(146,197,222)\"],[0.8,\"rgb(67,147,195)\"],[0.9,\"rgb(33,102,172)\"],[1.0,\"rgb(5,48,97)\"]],\"sequential\":[[0.0,\"#440154\"],[0.1111111111111111,\"#482878\"],[0.2222222222222222,\"#3e4989\"],[0.3333333333333333,\"#31688e\"],[0.4444444444444444,\"#26828e\"],[0.5555555555555556,\"#1f9e89\"],[0.6666666666666666,\"#35b779\"],[0.7777777777777778,\"#6ece58\"],[0.8888888888888888,\"#b5de2b\"],[1.0,\"#fde725\"]],\"sequentialminus\":[[0.0,\"#440154\"],[0.1111111111111111,\"#482878\"],[0.2222222222222222,\"#3e4989\"],[0.3333333333333333,\"#31688e\"],[0.4444444444444444,\"#26828e\"],[0.5555555555555556,\"#1f9e89\"],[0.6666666666666666,\"#35b779\"],[0.7777777777777778,\"#6ece58\"],[0.8888888888888888,\"#b5de2b\"],[1.0,\"#fde725\"]]},\"colorway\":[\"#1F77B4\",\"#FF7F0E\",\"#2CA02C\",\"#D62728\",\"#9467BD\",\"#8C564B\",\"#E377C2\",\"#7F7F7F\",\"#BCBD22\",\"#17BECF\"],\"font\":{\"color\":\"rgb(36,36,36)\"},\"geo\":{\"bgcolor\":\"white\",\"lakecolor\":\"white\",\"landcolor\":\"white\",\"showlakes\":true,\"showland\":true,\"subunitcolor\":\"white\"},\"hoverlabel\":{\"align\":\"left\"},\"hovermode\":\"closest\",\"mapbox\":{\"style\":\"light\"},\"paper_bgcolor\":\"white\",\"plot_bgcolor\":\"white\",\"polar\":{\"angularaxis\":{\"gridcolor\":\"rgb(232,232,232)\",\"linecolor\":\"rgb(36,36,36)\",\"showgrid\":false,\"showline\":true,\"ticks\":\"outside\"},\"bgcolor\":\"white\",\"radialaxis\":{\"gridcolor\":\"rgb(232,232,232)\",\"linecolor\":\"rgb(36,36,36)\",\"showgrid\":false,\"showline\":true,\"ticks\":\"outside\"}},\"scene\":{\"xaxis\":{\"backgroundcolor\":\"white\",\"gridcolor\":\"rgb(232,232,232)\",\"gridwidth\":2,\"linecolor\":\"rgb(36,36,36)\",\"showbackground\":true,\"showgrid\":false,\"showline\":true,\"ticks\":\"outside\",\"zeroline\":false,\"zerolinecolor\":\"rgb(36,36,36)\"},\"yaxis\":{\"backgroundcolor\":\"white\",\"gridcolor\":\"rgb(232,232,232)\",\"gridwidth\":2,\"linecolor\":\"rgb(36,36,36)\",\"showbackground\":true,\"showgrid\":false,\"showline\":true,\"ticks\":\"outside\",\"zeroline\":false,\"zerolinecolor\":\"rgb(36,36,36)\"},\"zaxis\":{\"backgroundcolor\":\"white\",\"gridcolor\":\"rgb(232,232,232)\",\"gridwidth\":2,\"linecolor\":\"rgb(36,36,36)\",\"showbackground\":true,\"showgrid\":false,\"showline\":true,\"ticks\":\"outside\",\"zeroline\":false,\"zerolinecolor\":\"rgb(36,36,36)\"}},\"shapedefaults\":{\"fillcolor\":\"black\",\"line\":{\"width\":0},\"opacity\":0.3},\"ternary\":{\"aaxis\":{\"gridcolor\":\"rgb(232,232,232)\",\"linecolor\":\"rgb(36,36,36)\",\"showgrid\":false,\"showline\":true,\"ticks\":\"outside\"},\"baxis\":{\"gridcolor\":\"rgb(232,232,232)\",\"linecolor\":\"rgb(36,36,36)\",\"showgrid\":false,\"showline\":true,\"ticks\":\"outside\"},\"bgcolor\":\"white\",\"caxis\":{\"gridcolor\":\"rgb(232,232,232)\",\"linecolor\":\"rgb(36,36,36)\",\"showgrid\":false,\"showline\":true,\"ticks\":\"outside\"}},\"title\":{\"x\":0.05},\"xaxis\":{\"automargin\":true,\"gridcolor\":\"rgb(232,232,232)\",\"linecolor\":\"rgb(36,36,36)\",\"showgrid\":false,\"showline\":true,\"ticks\":\"outside\",\"title\":{\"standoff\":15},\"zeroline\":false,\"zerolinecolor\":\"rgb(36,36,36)\"},\"yaxis\":{\"automargin\":true,\"gridcolor\":\"rgb(232,232,232)\",\"linecolor\":\"rgb(36,36,36)\",\"showgrid\":false,\"showline\":true,\"ticks\":\"outside\",\"title\":{\"standoff\":15},\"zeroline\":false,\"zerolinecolor\":\"rgb(36,36,36)\"}}},\"shapes\":[{\"fillcolor\":\"rgba(0,0,0,0)\",\"line\":{\"color\":\"black\",\"width\":2},\"type\":\"rect\",\"x0\":0,\"x1\":43.5064935064935,\"xref\":\"x\",\"y0\":-0.5,\"y1\":0.5,\"yref\":\"y\"},{\"fillcolor\":\"rgba(0,0,0,0)\",\"line\":{\"color\":\"black\",\"width\":2},\"type\":\"rect\",\"x0\":43.5064935064935,\"x1\":99.99999999999999,\"xref\":\"x\",\"y0\":-0.5,\"y1\":0.5,\"yref\":\"y\"}],\"annotations\":[{\"font\":{\"size\":12},\"showarrow\":false,\"text\":\"Socioeconomic 44.6%\",\"x\":21.75324675324675,\"y\":0.6},{\"font\":{\"size\":12},\"showarrow\":false,\"text\":\"Economic 55.4%\",\"x\":71.75324675324674,\"y\":0.6}],\"margin\":{\"l\":20,\"r\":20,\"t\":60,\"b\":20},\"barmode\":\"stack\",\"title\":{\"text\":\"Tug-of-War: Relative Effect % on Happiness\"},\"xaxis\":{\"title\":{\"text\":\"Percent of Total Effect\"}},\"showlegend\":true,\"legend\":{\"title\":{\"text\":\"Factors\"}},\"height\":350,\"paper_bgcolor\":\"#EDF1EC\",\"plot_bgcolor\":\"#EDF1EC\"},                        {\"responsive\": true}                    ).then(function(){\n",
       "                            \n",
       "var gd = document.getElementById('6367ce59-0638-466a-b0c0-0353146a6c1e');\n",
       "var x = new MutationObserver(function (mutations, observer) {{\n",
       "        var display = window.getComputedStyle(gd).display;\n",
       "        if (!display || display === 'none') {{\n",
       "            console.log([gd, 'removed!']);\n",
       "            Plotly.purge(gd);\n",
       "            observer.disconnect();\n",
       "        }}\n",
       "}});\n",
       "\n",
       "// Listen for the removal of the full notebook cells\n",
       "var notebookContainer = gd.closest('#notebook-container');\n",
       "if (notebookContainer) {{\n",
       "    x.observe(notebookContainer, {childList: true});\n",
       "}}\n",
       "\n",
       "// Listen for the clearing of the current output cell\n",
       "var outputEl = gd.closest('.output');\n",
       "if (outputEl) {{\n",
       "    x.observe(outputEl, {childList: true});\n",
       "}}\n",
       "\n",
       "                        })                };            </script>        </div>"
      ]
     },
     "metadata": {},
     "output_type": "display_data"
    }
   ],
   "source": [
    "import plotly.graph_objects as go\n",
    "\n",
    "factors = [\n",
    "    'Life expectancy',\n",
    "    'Education expenditure',\n",
    "    'Unemployment rate',\n",
    "    'GNI in current USD',\n",
    "    'GDP in current USD',\n",
    "    'Gini index'\n",
    "]\n",
    "correlations = [0.77, 0.32, -0.25, 0.78, 0.74, -0.22]\n",
    "\n",
    "abs_vals = [abs(r) for r in correlations]\n",
    "total = sum(abs_vals)\n",
    "percentages = [v / total * 100 for v in abs_vals]\n",
    "\n",
    "bases = [0]\n",
    "for pct in percentages[:-1]:\n",
    "    bases.append(bases[-1] + pct)\n",
    "\n",
    "colors = {\n",
    "    'Life expectancy': '#256caf',\n",
    "    'Education expenditure': '#abd2e5',\n",
    "    'Unemployment rate': '#fbceb6',\n",
    "    'GNI in current USD': '#256baf',\n",
    "    'GDP in current USD': '#2a72b2',\n",
    "    'Gini index': '#fcd5bf'\n",
    "}\n",
    "\n",
    "fig = go.Figure()\n",
    "\n",
    "for factor, pct, base in zip(factors, percentages, bases):\n",
    "    fig.add_trace(go.Bar(\n",
    "        x=[pct],\n",
    "        y=['Effect on Happiness (%)'],\n",
    "        name=factor,\n",
    "        orientation='h',\n",
    "        marker_color=colors[factor],\n",
    "        base=[base],\n",
    "        hovertemplate=f'{factor}: {pct:.1f}%<extra></extra>',\n",
    "        showlegend=False\n",
    "    ))\n",
    "\n",
    "legend_order = [\n",
    "    'Gini index',\n",
    "    'Unemployment rate',\n",
    "    'Education expenditure',\n",
    "    'GDP in current USD',\n",
    "    'Life expectancy',\n",
    "    'GNI in current USD'\n",
    "]\n",
    "\n",
    "for factor in legend_order:\n",
    "    fig.add_trace(go.Bar(\n",
    "        x=[None],\n",
    "        y=[None],\n",
    "        name=factor,\n",
    "        marker_color=colors[factor],\n",
    "        showlegend=True\n",
    "    ))\n",
    "\n",
    "socio_end = bases[3]\n",
    "econ_start = socio_end\n",
    "econ_end = bases[-1] + percentages[-1]\n",
    "\n",
    "fig.add_shape(type=\"rect\",\n",
    "    x0=0, x1=socio_end,\n",
    "    y0=-0.5, y1=0.5,\n",
    "    xref='x', yref='y',\n",
    "    line=dict(color='black', width=2),\n",
    "    fillcolor='rgba(0,0,0,0)'\n",
    ")\n",
    "fig.add_shape(type=\"rect\",\n",
    "    x0=econ_start, x1=econ_end,\n",
    "    y0=-0.5, y1=0.5,\n",
    "    xref='x', yref='y',\n",
    "    line=dict(color='black', width=2),\n",
    "    fillcolor='rgba(0,0,0,0)'\n",
    ")\n",
    "\n",
    "fig.add_annotation(\n",
    "    x=socio_end / 2,\n",
    "    y=0.6,\n",
    "    text=\"Socioeconomic 44.6%\",\n",
    "    showarrow=False,\n",
    "    font=dict(size=12)\n",
    ")\n",
    "fig.add_annotation(\n",
    "    x=(econ_start + econ_end) / 2,\n",
    "    y=0.6,\n",
    "    text=\"Economic 55.4%\",\n",
    "    showarrow=False,\n",
    "    font=dict(size=12)\n",
    ")\n",
    "\n",
    "fig.update_layout(\n",
    "    barmode='stack',\n",
    "    title=\"Tug-of-War: Relative Effect % on Happiness\",\n",
    "    xaxis_title=\"Percent of Total Effect\",\n",
    "    template=\"simple_white\",\n",
    "    showlegend=True,\n",
    "    legend_title=\"Factors\",\n",
    "    height=350,\n",
    "    margin=dict(l=20, r=20, t=60, b=20),\n",
    "    paper_bgcolor='#EDF1EC',\n",
    "    plot_bgcolor='#EDF1EC'\n",
    ")\n",
    "\n",
    "fig.show()"
   ]
  },
  {
   "cell_type": "markdown",
   "id": "e0a14491",
   "metadata": {},
   "source": [
    "The waterfall chart above (“Tug-of-War: Relative Effect % on Happiness”) breaks each factor’s absolute correlation into its share of the total explanatory “effect.” Healthy life expectancy and GNI per capita each account for roughly a quarter of the sum of |r| values, with GDP per capita close behind—together, these three explain over 70 % of the variance in national Happiness scores.\n",
    "\n",
    "The remaining factors—education expenditure (~10 %), unemployment rate (~8 %), and income inequality (~7 %)—split the rest of the pie. This view underscores that while health and economic output are the principal drivers of cross-country happiness differences, other social and policy levers also make meaningful contributions."
   ]
  }
 ],
 "metadata": {
  "kernelspec": {
   "display_name": "jupyterbook",
   "language": "python",
   "name": "python3"
  },
  "language_info": {
   "codemirror_mode": {
    "name": "ipython",
    "version": 3
   },
   "file_extension": ".py",
   "mimetype": "text/x-python",
   "name": "python",
   "nbconvert_exporter": "python",
   "pygments_lexer": "ipython3",
   "version": "3.10.16"
  }
 },
 "nbformat": 4,
 "nbformat_minor": 5
}
