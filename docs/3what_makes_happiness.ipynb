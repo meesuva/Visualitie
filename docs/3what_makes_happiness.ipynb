{
 "cells": [
  {
   "cell_type": "markdown",
   "id": "f45842d4",
   "metadata": {},
   "source": [
    "# What makes Happiness?"
   ]
  },
  {
   "cell_type": "markdown",
   "id": "f70591b2",
   "metadata": {},
   "source": [
    "For a long time, people have been interested in what makes us happy and how we can improve well-being in society. One big question is whether having more money or wealth actually makes people happier, or if there are other things that matter more. We often hear the saying “money can’t buy happiness,” but the real answer is a bit more complicated than that.\n",
    "\n",
    "In this data story, we will explore how happiness relates to different economic and social factors using information from the World Happiness Report 2019 and World Development Indicators. This report looks at how happy people are in different countries and compares that with demographic variables like GDP per capita, Gross National Income (GNI), the gini index, unemployment rates, education levels, and life expectancy.\n",
    "\n",
    "We want to find out if richer countries really have happier people, and if so, how strong this connection is. But we will also look beyond money to see how things like having a job, going to school, and living a long, healthy life affect happiness. For example, being unemployed might make people less happy even if their country is wealthy, and having a good education could improve well-being in ways that money alone can’t.\n",
    "\n",
    "First, we will compare happiness scores with income indicators like GDP per capita and GNI. Then, we will analyze how unemployment rates relate to happiness. After that, we will look at the gini index, education and life expectancy to see how these factors could affect happiness scores across countries.\n",
    "\n",
    "By comparing these different aspects, we hope to better understand what really contributes to happiness around the world. This will help us see whether the saying “money buys happiness” really holds. And if it doesn’t hold, we could find out what does make happiness."
   ]
  },
  {
   "cell_type": "code",
   "execution_count": 42,
   "id": "4d5f346a",
   "metadata": {},
   "outputs": [
    {
     "data": {
      "text/html": [
       "        <script type=\"text/javascript\">\n",
       "        window.PlotlyConfig = {MathJaxConfig: 'local'};\n",
       "        if (window.MathJax && window.MathJax.Hub && window.MathJax.Hub.Config) {window.MathJax.Hub.Config({SVG: {font: \"STIX-Web\"}});}\n",
       "        </script>\n",
       "        <script type=\"module\">import \"https://cdn.plot.ly/plotly-3.0.1.min\"</script>\n",
       "        "
      ]
     },
     "metadata": {},
     "output_type": "display_data"
    },
    {
     "data": {
      "application/vnd.plotly.v1+json": {
       "config": {
        "linkText": "Export to plot.ly",
        "plotlyServerURL": "https://plot.ly",
        "showLink": false
       },
       "data": [
        {
         "customdata": {
          "bdata": "AQACAAMABAAFAAYABwAIAAkACgALAAwADQAOAA8AEAARABIAEwAUABUAFgAXABgAGQAaABsAHAAdAB4AHwAgACEAIgAjACQAJQAmACcAKAApACoAKwAsAC0ALgAvADAAMQAyADMANAA1ADYANwA4ADkAOgA7ADwAPQA+AD8AQABBAEIAQwBEAEUARgBHAEgASQBKAEsATABNAE4ATwBPAFEAUgBTAFQAVQBWAFcAWABZAFoAWwBcAF0AXgBfAGAAYQBiAGMAZABlAGYAZwBoAGkAagBrAGwAbQBuAG8AcABxAHIAcwB0AHUAdgB3AHgAeQB6AHsAfAB9AH4AfwCAAIEAggCDAIQA",
          "dtype": "i2"
         },
         "hovertemplate": "Country: %{text}<br>Rank: %{customdata} out of 133<br>GDP (US$): %{x:$,.0f}<br>Happiness: %{y:.2f}<extra></extra>",
         "mode": "markers",
         "name": "GDP (US$)",
         "text": [
          "Finland",
          "Denmark",
          "Norway",
          "Iceland",
          "Netherlands",
          "Switzerland",
          "Sweden",
          "New Zealand",
          "Canada",
          "Austria",
          "Australia",
          "Costa Rica",
          "Israel",
          "Luxembourg",
          "United Kingdom",
          "Ireland",
          "Germany",
          "Belgium",
          "United States",
          "United Arab Emirates",
          "Malta",
          "Mexico",
          "France",
          "Chile",
          "Guatemala",
          "Saudi Arabia",
          "Qatar",
          "Spain",
          "Panama",
          "Brazil",
          "Uruguay",
          "Singapore",
          "El Salvador",
          "Italy",
          "Bahrain",
          "Poland",
          "Uzbekistan",
          "Lithuania",
          "Colombia",
          "Slovenia",
          "Nicaragua",
          "Kosovo",
          "Argentina",
          "Romania",
          "Cyprus",
          "Ecuador",
          "Kuwait",
          "Thailand",
          "Latvia",
          "Estonia",
          "Jamaica",
          "Mauritius",
          "Japan",
          "Honduras",
          "Kazakhstan",
          "Bolivia",
          "Hungary",
          "Paraguay",
          "Peru",
          "Portugal",
          "Pakistan",
          "Philippines",
          "Serbia",
          "Moldova",
          "Libya",
          "Montenegro",
          "Tajikistan",
          "Croatia",
          "Dominican Republic",
          "Bosnia and Herzegovina",
          "Malaysia",
          "Belarus",
          "Greece",
          "Mongolia",
          "North Macedonia",
          "Nigeria",
          "Turkmenistan",
          "Algeria",
          "Morocco",
          "Azerbaijan",
          "Lebanon",
          "Indonesia",
          "China",
          "Bhutan",
          "Cameroon",
          "Bulgaria",
          "Ghana",
          "Nepal",
          "Jordan",
          "Benin",
          "Gabon",
          "South Africa",
          "Albania",
          "Cambodia",
          "Senegal",
          "Somalia",
          "Namibia",
          "Niger",
          "Burkina Faso",
          "Armenia",
          "Guinea",
          "Georgia",
          "Kenya",
          "Mauritania",
          "Mozambique",
          "Tunisia",
          "Bangladesh",
          "Iraq",
          "Mali",
          "Sierra Leone",
          "Sri Lanka",
          "Myanmar",
          "Chad",
          "Ukraine",
          "Ethiopia",
          "Uganda",
          "Zambia",
          "Togo",
          "India",
          "Liberia",
          "Comoros",
          "Madagascar",
          "Lesotho",
          "Burundi",
          "Zimbabwe",
          "Haiti",
          "Botswana",
          "Malawi",
          "Rwanda",
          "Tanzania",
          "Afghanistan",
          "Central African Republic"
         ],
         "type": "scatter",
         "visible": true,
         "x": {
          "bdata": "nLSEaqkVT0JcJ/0N4hpUQtNFkzK+yldCSS6Fqn38FkICD7Hg3QhrQivXEmSe/mRCKXxVwPD5XkIxuJEIVcdIQlKIK+zhX3lC4/VAffjIWUI9KmzzTER0QoG18kov/y1Cvndb00NDV0KOlWt6zEUwQnter+Mov4RCrj8A9KGyV0Jxfe3X38qMQkxftYTYPV9CAIC/+SqXs0Ken6E/iFRYQvs61o93bg5C9uyilyz6ckIUHkUfmc+DQtPdp0DFMlBC1qVKHNT3MUIAAMBsy2doQn+KNPxFiERCUmRGdW5sdEIAAGDoJj8wQjMnONmKQntCmB1esHr5LELdnNGwRfBVQgAAgJT2CBlCe3iSIZ9jfULPRn2jotUiQikcpBBYimFCmMzs6AZWL0KNl2P2D6spQsM1siWMzVJCChdfR5AaKUL4U81sXqcHQtaQl97Gbf1BZs43kRAQWkJcP9PBj0xNQgcfbqvFZRhCAAAIDzYNOUKPAjsC2WVAQrR4FGbiqV9CVGM7ZYnTHkINIIg8S68dQhTQVZ+yfA1CgRUdY8njCkIKYoHSgJ6SQmM/N4liLBdCIUBroBomRUL5kbc1GgsjQlrUlc0wGENCfkyyeQ2pIULy0vnEPZVKQm+CB3gD9EtC0aoAfeytUkJkO8EzG+9VQhUdQf8rFSlCb5L1e4rcBUKdsdfA4x8wQsAEUpJQpfRBNe/00UXs/kFkXeO9gZ8sQl09jqRRtTRCGYTNOW8TE0IGYS90kkFVQpyzvvRI/i1Cb4JvlzAiSEJJHUyvHnYKQkJghKwrewdCgR0nk9yeW0LWtm1ALRAlQqhWhRaMhUZCP3WpJj8EPkI2PDz90G4mQleMtuPoByhCpJwJzvhIcEJmP4PmoPmpQnk7Sf7mYeRBy1Cv48N4IkIOj6IRivUvQtVpv1CF0i9CHRps4Z7WH0JwDgT5K7kkQpZDKKV9zgpCxSDL8lduD0I3EZg1eKlWQuSDWKeOBw1C8nDvOjwVIUKmimCN8ssVQhkEwHoJHwBCCtd7G3VcB0LW1kkTOAIIQjL3+o0K3Q1CW7FZDS9eCUIukMNNDgoJQoGmc6lObRBC+l5vYgVfN0KAK13VCGn9QUJgNVgP5QxCZqZlt4qDI0JK7LJuwnFUQkQrhPflMktC3yDozu4XEEKMIWZPXk34QfEjKMe0uTRCb7Aznzp6MUKP052dYxMFQtvJKnsS6kFCn03qP9ZUNkLP164V1HUgQjjnFC44tRVCOPNVLMIM+kGFcd1tuqGEQgAAgLqgu+hBn6v5QqPO0UHnDDTToEUKQhh9+hrnz+FBXFr621Ey40GmyskggvMXQpoZjOk6+AtCgmKk1YgnD0Iuf16v8JUEQtej4lTuRgNCtdcrD/RqLEKCcygII4IRQsMN7szLjOBB",
          "dtype": "f8"
         },
         "y": {
          "bdata": "+n5qvHQTH0BmZmZmZmYeQJ7vp8ZLNx5AYOXQItv5HUDByqFFtvMdQOxRuB6F6x1ArBxaZDtfHUDufD81XjodQOkmMQisHB1AlkOLbOf7HEC28/3UeOkcQF66SQwCqxxAdZMYBFaOHEBcj8L1KFwcQJ7vp8ZLNxxAL90kBoEVHEBxPQrXo/AbQP7UeOkmsRtAxSCwcmiRG0DNzMzMzEwbQIGVQ4ts5xpA4XoUrkdhGkCR7Xw/NV4aQC2yne+nxhlAWDm0yHa+GUAAAAAAAIAZQOXQItv5fhlA0SLb+X5qGUBiEFg5tEgZQDMzMzMzMxlAeekmMQgsGUA/NV66SQwZQFCNl24SAxlAMQisHFrkGECyne+nxssYQO58PzVeuhhAGQRWDi2yGEB/arx0k5gYQAAAAAAAgBhARrbz/dR4GEDsUbgehWsYQGZmZmZmZhhA8tJNYhBYGEBI4XoUrkcYQMl2vp8aLxhA6SYxCKwcGEAv3SQGgRUYQNV46SYxCBhAw/UoXI/CF0DfT42XbpIXQI/C9ShcjxdAWmQ730+NF0AlBoGVQ4sXQHE9CtejcBdAI9v5fmo8F0AEVg4tsh0XQNV46SYxCBdARrbz/dT4FkB9PzVeuskWQBKDwMqhxRZA6SYxCKycFkCgGi/dJIYWQLbz/dR4aRZABFYOLbIdFkCamZmZmRkWQGQ730+NFxZAke18PzXeFUDufD81XroVQDMzMzMzsxVAJQaBlUOLFUBCYOXQIlsVQJhuEoPAShVA2c73U+MlFUCkcD0K1yMVQH9qvHSTGBVAj8L1KFwPFUCwcmiR7fwUQPLSTWIQ2BRAokW28/3UFECiRbbz/dQUQH0/NV66yRRA+FPjpZvEFEDdJAaBlcMUQIcW2c73UxRAkxgEVg4tFEAlBoGVQwsUQJZDi2zn+xNA9P3UeOmmE0A5tMh2vp8TQNV46SYxiBNAGQRWDi0yE0AX2c73U+MSQMdLN4lB4BJAzczMzMzMEkDTTWIQWLkSQHnpJjEIrBJAdZMYBFaOEkBQjZduEoMSQAwCK4cWWRJAI9v5fmo8EkCJQWDl0CISQPp+arx0ExJA8KfGSzcJEkD2KFyPwvURQHe+nxov3RFA8tJNYhDYEUBt5/up8dIRQHNoke18vxFAj8L1KFyPEUDl0CLb+X4RQBBYObTIdhFAcT0K16NwEUBmZmZmZmYRQIcW2c73UxFAvp8aL90kEUCoxks3icEQQCGwcmiRbRBA16NwPQpXEECPwvUoXA8QQM3MzMzMzA9AYhBYObTID0AQWDm0yHYPQNEi2/l+ag5AMzMzMzMzDkDn+6nx0k0NQC2yne+nxgxAgZVDi2znC0BI4XoUrkcLQHnpJjEIrApADAIrhxbZCUA5tMh2vp8JQESLbOf7qQhA",
          "dtype": "f8"
         }
        },
        {
         "customdata": {
          "bdata": "AQACAAMABAAFAAYABwAIAAkACgALAAwADQAOAA8AEAARABIAEwAUABUAFgAXABgAGQAaABsAHAAdAB4AHwAgACEAIgAjACQAJQAmACcAKAApACoAKwAsAC0ALgAvADAAMQAyADMANAA1ADYANwA4ADkAOgA7ADwAPQA+AD8AQABBAEIAQwBEAEUARgBHAEgASQBKAEsATABNAE4ATwBPAFEAUgBTAFQAVQBWAFcAWABZAFoAWwBcAF0AXgBfAGAAYQBiAGMAZABlAGYAZwBoAGkAagBrAGwAbQBuAG8AcABxAHIAcwB0AHUAdgB3AHgAeQB6AHsAfAB9AH4AfwCAAIEAggCDAIQA",
          "dtype": "i2"
         },
         "hovertemplate": "Country: %{text}<br>Rank: %{customdata} out of 133<br>GNI (US$): %{x:$,.0f}<br>Happiness: %{y:.2f}<extra></extra>",
         "mode": "markers",
         "name": "GNI (US$)",
         "text": [
          "Finland",
          "Denmark",
          "Norway",
          "Iceland",
          "Netherlands",
          "Switzerland",
          "Sweden",
          "New Zealand",
          "Canada",
          "Austria",
          "Australia",
          "Costa Rica",
          "Israel",
          "Luxembourg",
          "United Kingdom",
          "Ireland",
          "Germany",
          "Belgium",
          "United States",
          "United Arab Emirates",
          "Malta",
          "Mexico",
          "France",
          "Chile",
          "Guatemala",
          "Saudi Arabia",
          "Qatar",
          "Spain",
          "Panama",
          "Brazil",
          "Uruguay",
          "Singapore",
          "El Salvador",
          "Italy",
          "Bahrain",
          "Poland",
          "Uzbekistan",
          "Lithuania",
          "Colombia",
          "Slovenia",
          "Nicaragua",
          "Kosovo",
          "Argentina",
          "Romania",
          "Cyprus",
          "Ecuador",
          "Kuwait",
          "Thailand",
          "Latvia",
          "Estonia",
          "Jamaica",
          "Mauritius",
          "Japan",
          "Honduras",
          "Kazakhstan",
          "Bolivia",
          "Hungary",
          "Paraguay",
          "Peru",
          "Portugal",
          "Pakistan",
          "Philippines",
          "Serbia",
          "Moldova",
          "Libya",
          "Montenegro",
          "Tajikistan",
          "Croatia",
          "Dominican Republic",
          "Bosnia and Herzegovina",
          "Malaysia",
          "Belarus",
          "Greece",
          "Mongolia",
          "North Macedonia",
          "Nigeria",
          "Turkmenistan",
          "Algeria",
          "Morocco",
          "Azerbaijan",
          "Lebanon",
          "Indonesia",
          "China",
          "Bhutan",
          "Cameroon",
          "Bulgaria",
          "Ghana",
          "Nepal",
          "Jordan",
          "Benin",
          "Gabon",
          "South Africa",
          "Albania",
          "Cambodia",
          "Senegal",
          "Somalia",
          "Namibia",
          "Niger",
          "Burkina Faso",
          "Armenia",
          "Guinea",
          "Georgia",
          "Kenya",
          "Mauritania",
          "Mozambique",
          "Tunisia",
          "Bangladesh",
          "Iraq",
          "Mali",
          "Sierra Leone",
          "Sri Lanka",
          "Myanmar",
          "Chad",
          "Ukraine",
          "Ethiopia",
          "Uganda",
          "Zambia",
          "Togo",
          "India",
          "Liberia",
          "Comoros",
          "Madagascar",
          "Lesotho",
          "Burundi",
          "Zimbabwe",
          "Haiti",
          "Botswana",
          "Malawi",
          "Rwanda",
          "Tanzania",
          "Afghanistan",
          "Central African Republic"
         ],
         "type": "scatter",
         "visible": false,
         "x": {
          "bdata": "h5YeWaNrT0LBKs+phbBUQtNF54jghFhChJ7gR8GhF0JUX9dnh/NpQr7DSkf5Q2RCI9t7xwvgX0Jz6BDKhyhIQo9a8h55EnlCzdx0awfOWULNxBNGspVzQi4Q0hYkNSxC3yfHMr0mV0LY4dHEbEsmQmbQ9wLNuYRCP80xowgIUkKPID1hRFuNQvD/W71Dfl9CAIAFcIXLs0JGvnFnQHNYQpkqq3+ikAtCUqAo24VxckLNXDrG90eEQqpRK92ALk9CTYTm6iOkMUJYVQUijaRoQpPYKUrbBERCKSjkLW9TdEIAAEgdYHsuQnvUN+8uh3pCrQlUcy+OK0KasUgdVGVTQgAAAFU4yRdCH5kQl0mAfUIxiMluJcghQjs7jaHt0GBChgk8gcqtL0JfaaXrYqIoQhdJX+B9ZFJCrLycm1jwKEIl9bfS+MgGQmnSmWNDGf5BKaThFfwJWUIncaxTJeJMQjrjNKI6FxdCAABoCNVWOEInwQpc9b9CQnFNpAPhf15CS1kBiCNpH0KHljYwDZMcQkjQVZQsqgxC5x0/++k5DEIfVAriO1mTQgbBblimUhVCXop2qM+BQkKE/jC+dKciQj+VrlIql0JCe9TGwwQfIUIb/z/YI59JQuP12+BgNktCiZmoCVRaUkIrt8d6TyFYQgQHlJdTyidCj8LJ18YBB0J2v8XU84wwQkgKpZ214PRB11JuN47wAUIT8hBAjIcsQjWO7ifLwjNCMKqqyzQLE0InUZG9f7NUQnvUunmPGi1CQlCYZQeuR0I8zl5YiIgHQnDOV9/OZQZCy1mQDloWW0IqSfKpWMMkQjdp5P/8EEZC/ImR6oOQPUKHhwdXmZElQleMtl07cydCSBmrR3eUb0JmNyNq/+apQmcKXh4TrOJBxHFMEE4UIkJGFKngB/UuQl6aNlqDgy5CmRsVynYVIEJtha3HD7okQuPHzzu7rApC/XaE9EjkDEL6ruOFqBhWQg7PPohvpwxCsTBUTixRIEJ65TFhbDoVQl1cCp0EDgBCLGWcY7XJBkKxYWnBZhsJQjlFx3I6jAxCL24U68K3CUKxUDvqp9MIQsiHvSnfXg9Cxe50Bl7/NkIl9cDlQw39Qa5YDHU9YQxC1QeBK1QBI0IMiodqJEhVQkQrJJEkEEtCNABrl0DkDkLqz7Wx2gr4QZ3wg6WEJjRCrzVE6cHpMEKJQWEmccAEQri++YoOI0JCidIxzrExNkIirrn9pAggQtlOmybCVBVCHUnUatoh+kEzsWIJ/m6EQgAAgHnhGOZBxM4UfSvk0UGWsh7l2loJQgtBNGkLQeVB4Sg/iHZA40F6BxMq1IYXQl1tj3LoDwxCulrHI7I/D0LXo/Jx5xYEQrkNHzv7oAJCA1gSPRvyK0LZ/eovL8URQh8Rl4X6xuFB",
          "dtype": "f8"
         },
         "y": {
          "bdata": "+n5qvHQTH0BmZmZmZmYeQJ7vp8ZLNx5AYOXQItv5HUDByqFFtvMdQOxRuB6F6x1ArBxaZDtfHUDufD81XjodQOkmMQisHB1AlkOLbOf7HEC28/3UeOkcQF66SQwCqxxAdZMYBFaOHEBcj8L1KFwcQJ7vp8ZLNxxAL90kBoEVHEBxPQrXo/AbQP7UeOkmsRtAxSCwcmiRG0DNzMzMzEwbQIGVQ4ts5xpA4XoUrkdhGkCR7Xw/NV4aQC2yne+nxhlAWDm0yHa+GUAAAAAAAIAZQOXQItv5fhlA0SLb+X5qGUBiEFg5tEgZQDMzMzMzMxlAeekmMQgsGUA/NV66SQwZQFCNl24SAxlAMQisHFrkGECyne+nxssYQO58PzVeuhhAGQRWDi2yGEB/arx0k5gYQAAAAAAAgBhARrbz/dR4GEDsUbgehWsYQGZmZmZmZhhA8tJNYhBYGEBI4XoUrkcYQMl2vp8aLxhA6SYxCKwcGEAv3SQGgRUYQNV46SYxCBhAw/UoXI/CF0DfT42XbpIXQI/C9ShcjxdAWmQ730+NF0AlBoGVQ4sXQHE9CtejcBdAI9v5fmo8F0AEVg4tsh0XQNV46SYxCBdARrbz/dT4FkB9PzVeuskWQBKDwMqhxRZA6SYxCKycFkCgGi/dJIYWQLbz/dR4aRZABFYOLbIdFkCamZmZmRkWQGQ730+NFxZAke18PzXeFUDufD81XroVQDMzMzMzsxVAJQaBlUOLFUBCYOXQIlsVQJhuEoPAShVA2c73U+MlFUCkcD0K1yMVQH9qvHSTGBVAj8L1KFwPFUCwcmiR7fwUQPLSTWIQ2BRAokW28/3UFECiRbbz/dQUQH0/NV66yRRA+FPjpZvEFEDdJAaBlcMUQIcW2c73UxRAkxgEVg4tFEAlBoGVQwsUQJZDi2zn+xNA9P3UeOmmE0A5tMh2vp8TQNV46SYxiBNAGQRWDi0yE0AX2c73U+MSQMdLN4lB4BJAzczMzMzMEkDTTWIQWLkSQHnpJjEIrBJAdZMYBFaOEkBQjZduEoMSQAwCK4cWWRJAI9v5fmo8EkCJQWDl0CISQPp+arx0ExJA8KfGSzcJEkD2KFyPwvURQHe+nxov3RFA8tJNYhDYEUBt5/up8dIRQHNoke18vxFAj8L1KFyPEUDl0CLb+X4RQBBYObTIdhFAcT0K16NwEUBmZmZmZmYRQIcW2c73UxFAvp8aL90kEUCoxks3icEQQCGwcmiRbRBA16NwPQpXEECPwvUoXA8QQM3MzMzMzA9AYhBYObTID0AQWDm0yHYPQNEi2/l+ag5AMzMzMzMzDkDn+6nx0k0NQC2yne+nxgxAgZVDi2znC0BI4XoUrkcLQHnpJjEIrApADAIrhxbZCUA5tMh2vp8JQESLbOf7qQhA",
          "dtype": "f8"
         }
        },
        {
         "customdata": {
          "bdata": "AQACAAMABQAGAAcACQAKAAwADQAOAA8AEAARABIAEwAVABcAHAAdAB4AHwAhACIAJAAmACcAKAAqACsALAAtAC4AMAAxADIANQA2ADcAOAA5ADoAOwA8AD8AQABCAEQARQBIAEkASwBSAFMAVgBdAGQAZgBoAGkAbwByAHQAfQCAAA==",
          "dtype": "i2"
         },
         "hovertemplate": "Country: %{text}<br>Rank: %{customdata} out of 133<br>Gini Index: %{x:.2f}<br>Happiness: %{y:.2f}<extra></extra>",
         "mode": "markers",
         "name": "Gini Index",
         "text": [
          "Finland",
          "Denmark",
          "Norway",
          "Netherlands",
          "Switzerland",
          "Sweden",
          "Canada",
          "Austria",
          "Costa Rica",
          "Israel",
          "Luxembourg",
          "United Kingdom",
          "Ireland",
          "Germany",
          "Belgium",
          "United States",
          "Malta",
          "France",
          "Spain",
          "Panama",
          "Brazil",
          "Uruguay",
          "El Salvador",
          "Italy",
          "Poland",
          "Lithuania",
          "Colombia",
          "Slovenia",
          "Kosovo",
          "Argentina",
          "Romania",
          "Cyprus",
          "Ecuador",
          "Thailand",
          "Latvia",
          "Estonia",
          "Japan",
          "Honduras",
          "Kazakhstan",
          "Bolivia",
          "Hungary",
          "Paraguay",
          "Peru",
          "Portugal",
          "Serbia",
          "Moldova",
          "Montenegro",
          "Croatia",
          "Dominican Republic",
          "Belarus",
          "Greece",
          "North Macedonia",
          "Indonesia",
          "China",
          "Bulgaria",
          "Albania",
          "Armenia",
          "Georgia",
          "Mauritania",
          "Mozambique",
          "Sri Lanka",
          "Ukraine",
          "Uganda",
          "Zimbabwe",
          "Malawi"
         ],
         "type": "scatter",
         "visible": false,
         "x": {
          "bdata": "MzMzMzOzO0AzMzMzM7M7QDMzMzMzsztAMzMzMzMzPUAAAAAAAABBQM3MzMzMTD1AMzMzMzOzP0AzMzMzMzM+QJqZmZmZGUhAZmZmZmYmQ0CamZmZmRlBQGZmZmZmZkBAzczMzMxMPkDNzMzMzMw/QDMzMzMzMztAMzMzMzPzREAAAAAAAAA/QDMzMzMzMz9AZmZmZmYmQUBmZmZmZuZIQAAAAAAAwEpAmpmZmZnZQ0BmZmZmZmZDQM3MzMzMTEFAzczMzMzMPEBmZmZmZqZBQGZmZmZmpklAZmZmZmZmOECamZmZmRlEQGZmZmZmpkVAZmZmZmZmQUAzMzMzMzM/QJqZmZmZ2UZAMzMzMzNzQUAAAAAAAEBBQM3MzMzMzD5AAAAAAACAQECamZmZmRlIQAAAAAAAADxAzczMzMzMREAAAAAAAAA+QJqZmZmZ2UZAAAAAAADAREBmZmZmZmZAQAAAAAAAQEFAAAAAAAAAOkCamZmZmdlBQGZmZmZm5jxAMzMzMzPzREDNzMzMzEw5QM3MzMzMjEBAAAAAAADAQEAzMzMzM7NBQJqZmZmZGUNAZmZmZmYmRECamZmZmRk+QAAAAAAAAD5AMzMzMzPzQUAAAAAAAABAQGZmZmZmJklAmpmZmZnZQkCamZmZmZk6QJqZmZmZWUVAZmZmZmYmSUAAAAAAAEBDQA==",
          "dtype": "f8"
         },
         "y": {
          "bdata": "+n5qvHQTH0BmZmZmZmYeQJ7vp8ZLNx5AwcqhRbbzHUDsUbgehesdQKwcWmQ7Xx1A6SYxCKwcHUCWQ4ts5/scQF66SQwCqxxAdZMYBFaOHEBcj8L1KFwcQJ7vp8ZLNxxAL90kBoEVHEBxPQrXo/AbQP7UeOkmsRtAxSCwcmiRG0CBlUOLbOcaQJHtfD81XhpA0SLb+X5qGUBiEFg5tEgZQDMzMzMzMxlAeekmMQgsGUBQjZduEgMZQDEIrBxa5BhA7nw/NV66GEB/arx0k5gYQAAAAAAAgBhARrbz/dR4GEBmZmZmZmYYQPLSTWIQWBhASOF6FK5HGEDJdr6fGi8YQOkmMQisHBhA1XjpJjEIGEDD9Shcj8IXQN9PjZdukhdAJQaBlUOLF0BxPQrXo3AXQCPb+X5qPBdABFYOLbIdF0DVeOkmMQgXQEa28/3U+BZAfT81XrrJFkASg8DKocUWQLbz/dR4aRZABFYOLbIdFkBkO99PjRcWQO58PzVeuhVAMzMzMzOzFUCYbhKDwEoVQNnO91PjJRVAf2q8dJMYFUD4U+Olm8QUQN0kBoGVwxRAJQaBlUMLFEDHSzeJQeASQCPb+X5qPBJA+n5qvHQTEkD2KFyPwvURQHe+nxov3RFAEFg5tMh2EUCHFtnO91MRQKjGSzeJwRBA5/up8dJNDUBI4XoUrkcLQA==",
          "dtype": "f8"
         }
        }
       ],
       "layout": {
        "height": 600,
        "margin": {
         "t": 80
        },
        "sliders": [
         {
          "active": 0,
          "currentvalue": {
           "prefix": "Metric: "
          },
          "pad": {
           "t": 50
          },
          "steps": [
           {
            "args": [
             {
              "visible": [
               true,
               false,
               false
              ]
             },
             {
              "title": "Happiness vs GDP (current US$)",
              "xaxis": {
               "title": "GDP (current US$)",
               "type": "log"
              },
              "yaxis": {
               "title": "Happiness"
              }
             }
            ],
            "label": "GDP (US$)",
            "method": "update"
           },
           {
            "args": [
             {
              "visible": [
               false,
               true,
               false
              ]
             },
             {
              "title": "Happiness vs GNI (current US$)",
              "xaxis": {
               "title": "GNI (current US$)",
               "type": "log"
              },
              "yaxis": {
               "title": "Happiness"
              }
             }
            ],
            "label": "GNI (US$)",
            "method": "update"
           },
           {
            "args": [
             {
              "visible": [
               false,
               false,
               true
              ]
             },
             {
              "title": "Happiness vs Gini Index",
              "xaxis": {
               "title": "Gini Index",
               "type": "linear"
              },
              "yaxis": {
               "title": "Happiness"
              }
             }
            ],
            "label": "Gini Index",
            "method": "update"
           }
          ]
         }
        ],
        "template": {
         "data": {
          "bar": [
           {
            "error_x": {
             "color": "#2a3f5f"
            },
            "error_y": {
             "color": "#2a3f5f"
            },
            "marker": {
             "line": {
              "color": "#E5ECF6",
              "width": 0.5
             },
             "pattern": {
              "fillmode": "overlay",
              "size": 10,
              "solidity": 0.2
             }
            },
            "type": "bar"
           }
          ],
          "barpolar": [
           {
            "marker": {
             "line": {
              "color": "#E5ECF6",
              "width": 0.5
             },
             "pattern": {
              "fillmode": "overlay",
              "size": 10,
              "solidity": 0.2
             }
            },
            "type": "barpolar"
           }
          ],
          "carpet": [
           {
            "aaxis": {
             "endlinecolor": "#2a3f5f",
             "gridcolor": "white",
             "linecolor": "white",
             "minorgridcolor": "white",
             "startlinecolor": "#2a3f5f"
            },
            "baxis": {
             "endlinecolor": "#2a3f5f",
             "gridcolor": "white",
             "linecolor": "white",
             "minorgridcolor": "white",
             "startlinecolor": "#2a3f5f"
            },
            "type": "carpet"
           }
          ],
          "choropleth": [
           {
            "colorbar": {
             "outlinewidth": 0,
             "ticks": ""
            },
            "type": "choropleth"
           }
          ],
          "contour": [
           {
            "colorbar": {
             "outlinewidth": 0,
             "ticks": ""
            },
            "colorscale": [
             [
              0,
              "#0d0887"
             ],
             [
              0.1111111111111111,
              "#46039f"
             ],
             [
              0.2222222222222222,
              "#7201a8"
             ],
             [
              0.3333333333333333,
              "#9c179e"
             ],
             [
              0.4444444444444444,
              "#bd3786"
             ],
             [
              0.5555555555555556,
              "#d8576b"
             ],
             [
              0.6666666666666666,
              "#ed7953"
             ],
             [
              0.7777777777777778,
              "#fb9f3a"
             ],
             [
              0.8888888888888888,
              "#fdca26"
             ],
             [
              1,
              "#f0f921"
             ]
            ],
            "type": "contour"
           }
          ],
          "contourcarpet": [
           {
            "colorbar": {
             "outlinewidth": 0,
             "ticks": ""
            },
            "type": "contourcarpet"
           }
          ],
          "heatmap": [
           {
            "colorbar": {
             "outlinewidth": 0,
             "ticks": ""
            },
            "colorscale": [
             [
              0,
              "#0d0887"
             ],
             [
              0.1111111111111111,
              "#46039f"
             ],
             [
              0.2222222222222222,
              "#7201a8"
             ],
             [
              0.3333333333333333,
              "#9c179e"
             ],
             [
              0.4444444444444444,
              "#bd3786"
             ],
             [
              0.5555555555555556,
              "#d8576b"
             ],
             [
              0.6666666666666666,
              "#ed7953"
             ],
             [
              0.7777777777777778,
              "#fb9f3a"
             ],
             [
              0.8888888888888888,
              "#fdca26"
             ],
             [
              1,
              "#f0f921"
             ]
            ],
            "type": "heatmap"
           }
          ],
          "histogram": [
           {
            "marker": {
             "pattern": {
              "fillmode": "overlay",
              "size": 10,
              "solidity": 0.2
             }
            },
            "type": "histogram"
           }
          ],
          "histogram2d": [
           {
            "colorbar": {
             "outlinewidth": 0,
             "ticks": ""
            },
            "colorscale": [
             [
              0,
              "#0d0887"
             ],
             [
              0.1111111111111111,
              "#46039f"
             ],
             [
              0.2222222222222222,
              "#7201a8"
             ],
             [
              0.3333333333333333,
              "#9c179e"
             ],
             [
              0.4444444444444444,
              "#bd3786"
             ],
             [
              0.5555555555555556,
              "#d8576b"
             ],
             [
              0.6666666666666666,
              "#ed7953"
             ],
             [
              0.7777777777777778,
              "#fb9f3a"
             ],
             [
              0.8888888888888888,
              "#fdca26"
             ],
             [
              1,
              "#f0f921"
             ]
            ],
            "type": "histogram2d"
           }
          ],
          "histogram2dcontour": [
           {
            "colorbar": {
             "outlinewidth": 0,
             "ticks": ""
            },
            "colorscale": [
             [
              0,
              "#0d0887"
             ],
             [
              0.1111111111111111,
              "#46039f"
             ],
             [
              0.2222222222222222,
              "#7201a8"
             ],
             [
              0.3333333333333333,
              "#9c179e"
             ],
             [
              0.4444444444444444,
              "#bd3786"
             ],
             [
              0.5555555555555556,
              "#d8576b"
             ],
             [
              0.6666666666666666,
              "#ed7953"
             ],
             [
              0.7777777777777778,
              "#fb9f3a"
             ],
             [
              0.8888888888888888,
              "#fdca26"
             ],
             [
              1,
              "#f0f921"
             ]
            ],
            "type": "histogram2dcontour"
           }
          ],
          "mesh3d": [
           {
            "colorbar": {
             "outlinewidth": 0,
             "ticks": ""
            },
            "type": "mesh3d"
           }
          ],
          "parcoords": [
           {
            "line": {
             "colorbar": {
              "outlinewidth": 0,
              "ticks": ""
             }
            },
            "type": "parcoords"
           }
          ],
          "pie": [
           {
            "automargin": true,
            "type": "pie"
           }
          ],
          "scatter": [
           {
            "fillpattern": {
             "fillmode": "overlay",
             "size": 10,
             "solidity": 0.2
            },
            "type": "scatter"
           }
          ],
          "scatter3d": [
           {
            "line": {
             "colorbar": {
              "outlinewidth": 0,
              "ticks": ""
             }
            },
            "marker": {
             "colorbar": {
              "outlinewidth": 0,
              "ticks": ""
             }
            },
            "type": "scatter3d"
           }
          ],
          "scattercarpet": [
           {
            "marker": {
             "colorbar": {
              "outlinewidth": 0,
              "ticks": ""
             }
            },
            "type": "scattercarpet"
           }
          ],
          "scattergeo": [
           {
            "marker": {
             "colorbar": {
              "outlinewidth": 0,
              "ticks": ""
             }
            },
            "type": "scattergeo"
           }
          ],
          "scattergl": [
           {
            "marker": {
             "colorbar": {
              "outlinewidth": 0,
              "ticks": ""
             }
            },
            "type": "scattergl"
           }
          ],
          "scattermap": [
           {
            "marker": {
             "colorbar": {
              "outlinewidth": 0,
              "ticks": ""
             }
            },
            "type": "scattermap"
           }
          ],
          "scattermapbox": [
           {
            "marker": {
             "colorbar": {
              "outlinewidth": 0,
              "ticks": ""
             }
            },
            "type": "scattermapbox"
           }
          ],
          "scatterpolar": [
           {
            "marker": {
             "colorbar": {
              "outlinewidth": 0,
              "ticks": ""
             }
            },
            "type": "scatterpolar"
           }
          ],
          "scatterpolargl": [
           {
            "marker": {
             "colorbar": {
              "outlinewidth": 0,
              "ticks": ""
             }
            },
            "type": "scatterpolargl"
           }
          ],
          "scatterternary": [
           {
            "marker": {
             "colorbar": {
              "outlinewidth": 0,
              "ticks": ""
             }
            },
            "type": "scatterternary"
           }
          ],
          "surface": [
           {
            "colorbar": {
             "outlinewidth": 0,
             "ticks": ""
            },
            "colorscale": [
             [
              0,
              "#0d0887"
             ],
             [
              0.1111111111111111,
              "#46039f"
             ],
             [
              0.2222222222222222,
              "#7201a8"
             ],
             [
              0.3333333333333333,
              "#9c179e"
             ],
             [
              0.4444444444444444,
              "#bd3786"
             ],
             [
              0.5555555555555556,
              "#d8576b"
             ],
             [
              0.6666666666666666,
              "#ed7953"
             ],
             [
              0.7777777777777778,
              "#fb9f3a"
             ],
             [
              0.8888888888888888,
              "#fdca26"
             ],
             [
              1,
              "#f0f921"
             ]
            ],
            "type": "surface"
           }
          ],
          "table": [
           {
            "cells": {
             "fill": {
              "color": "#EBF0F8"
             },
             "line": {
              "color": "white"
             }
            },
            "header": {
             "fill": {
              "color": "#C8D4E3"
             },
             "line": {
              "color": "white"
             }
            },
            "type": "table"
           }
          ]
         },
         "layout": {
          "annotationdefaults": {
           "arrowcolor": "#2a3f5f",
           "arrowhead": 0,
           "arrowwidth": 1
          },
          "autotypenumbers": "strict",
          "coloraxis": {
           "colorbar": {
            "outlinewidth": 0,
            "ticks": ""
           }
          },
          "colorscale": {
           "diverging": [
            [
             0,
             "#8e0152"
            ],
            [
             0.1,
             "#c51b7d"
            ],
            [
             0.2,
             "#de77ae"
            ],
            [
             0.3,
             "#f1b6da"
            ],
            [
             0.4,
             "#fde0ef"
            ],
            [
             0.5,
             "#f7f7f7"
            ],
            [
             0.6,
             "#e6f5d0"
            ],
            [
             0.7,
             "#b8e186"
            ],
            [
             0.8,
             "#7fbc41"
            ],
            [
             0.9,
             "#4d9221"
            ],
            [
             1,
             "#276419"
            ]
           ],
           "sequential": [
            [
             0,
             "#0d0887"
            ],
            [
             0.1111111111111111,
             "#46039f"
            ],
            [
             0.2222222222222222,
             "#7201a8"
            ],
            [
             0.3333333333333333,
             "#9c179e"
            ],
            [
             0.4444444444444444,
             "#bd3786"
            ],
            [
             0.5555555555555556,
             "#d8576b"
            ],
            [
             0.6666666666666666,
             "#ed7953"
            ],
            [
             0.7777777777777778,
             "#fb9f3a"
            ],
            [
             0.8888888888888888,
             "#fdca26"
            ],
            [
             1,
             "#f0f921"
            ]
           ],
           "sequentialminus": [
            [
             0,
             "#0d0887"
            ],
            [
             0.1111111111111111,
             "#46039f"
            ],
            [
             0.2222222222222222,
             "#7201a8"
            ],
            [
             0.3333333333333333,
             "#9c179e"
            ],
            [
             0.4444444444444444,
             "#bd3786"
            ],
            [
             0.5555555555555556,
             "#d8576b"
            ],
            [
             0.6666666666666666,
             "#ed7953"
            ],
            [
             0.7777777777777778,
             "#fb9f3a"
            ],
            [
             0.8888888888888888,
             "#fdca26"
            ],
            [
             1,
             "#f0f921"
            ]
           ]
          },
          "colorway": [
           "#636efa",
           "#EF553B",
           "#00cc96",
           "#ab63fa",
           "#FFA15A",
           "#19d3f3",
           "#FF6692",
           "#B6E880",
           "#FF97FF",
           "#FECB52"
          ],
          "font": {
           "color": "#2a3f5f"
          },
          "geo": {
           "bgcolor": "white",
           "lakecolor": "white",
           "landcolor": "#E5ECF6",
           "showlakes": true,
           "showland": true,
           "subunitcolor": "white"
          },
          "hoverlabel": {
           "align": "left"
          },
          "hovermode": "closest",
          "mapbox": {
           "style": "light"
          },
          "paper_bgcolor": "white",
          "plot_bgcolor": "#E5ECF6",
          "polar": {
           "angularaxis": {
            "gridcolor": "white",
            "linecolor": "white",
            "ticks": ""
           },
           "bgcolor": "#E5ECF6",
           "radialaxis": {
            "gridcolor": "white",
            "linecolor": "white",
            "ticks": ""
           }
          },
          "scene": {
           "xaxis": {
            "backgroundcolor": "#E5ECF6",
            "gridcolor": "white",
            "gridwidth": 2,
            "linecolor": "white",
            "showbackground": true,
            "ticks": "",
            "zerolinecolor": "white"
           },
           "yaxis": {
            "backgroundcolor": "#E5ECF6",
            "gridcolor": "white",
            "gridwidth": 2,
            "linecolor": "white",
            "showbackground": true,
            "ticks": "",
            "zerolinecolor": "white"
           },
           "zaxis": {
            "backgroundcolor": "#E5ECF6",
            "gridcolor": "white",
            "gridwidth": 2,
            "linecolor": "white",
            "showbackground": true,
            "ticks": "",
            "zerolinecolor": "white"
           }
          },
          "shapedefaults": {
           "line": {
            "color": "#2a3f5f"
           }
          },
          "ternary": {
           "aaxis": {
            "gridcolor": "white",
            "linecolor": "white",
            "ticks": ""
           },
           "baxis": {
            "gridcolor": "white",
            "linecolor": "white",
            "ticks": ""
           },
           "bgcolor": "#E5ECF6",
           "caxis": {
            "gridcolor": "white",
            "linecolor": "white",
            "ticks": ""
           }
          },
          "title": {
           "x": 0.05
          },
          "xaxis": {
           "automargin": true,
           "gridcolor": "white",
           "linecolor": "white",
           "ticks": "",
           "title": {
            "standoff": 15
           },
           "zerolinecolor": "white",
           "zerolinewidth": 2
          },
          "yaxis": {
           "automargin": true,
           "gridcolor": "white",
           "linecolor": "white",
           "ticks": "",
           "title": {
            "standoff": 15
           },
           "zerolinecolor": "white",
           "zerolinewidth": 2
          }
         }
        },
        "title": {
         "text": "Happiness vs GDP (current US$)"
        },
        "width": 900
       }
      },
      "text/html": [
       "<div>            <script src=\"https://cdnjs.cloudflare.com/ajax/libs/mathjax/2.7.5/MathJax.js?config=TeX-AMS-MML_SVG\"></script><script type=\"text/javascript\">if (window.MathJax && window.MathJax.Hub && window.MathJax.Hub.Config) {window.MathJax.Hub.Config({SVG: {font: \"STIX-Web\"}});}</script>                <script type=\"text/javascript\">window.PlotlyConfig = {MathJaxConfig: 'local'};</script>\n",
       "        <script charset=\"utf-8\" src=\"https://cdn.plot.ly/plotly-3.0.1.min.js\"></script>                <div id=\"05d488e0-f2bb-472a-96bf-a81f283e21b3\" class=\"plotly-graph-div\" style=\"height:600px; width:900px;\"></div>            <script type=\"text/javascript\">                window.PLOTLYENV=window.PLOTLYENV || {};                                if (document.getElementById(\"05d488e0-f2bb-472a-96bf-a81f283e21b3\")) {                    Plotly.newPlot(                        \"05d488e0-f2bb-472a-96bf-a81f283e21b3\",                        [{\"customdata\":{\"dtype\":\"i2\",\"bdata\":\"AQACAAMABAAFAAYABwAIAAkACgALAAwADQAOAA8AEAARABIAEwAUABUAFgAXABgAGQAaABsAHAAdAB4AHwAgACEAIgAjACQAJQAmACcAKAApACoAKwAsAC0ALgAvADAAMQAyADMANAA1ADYANwA4ADkAOgA7ADwAPQA+AD8AQABBAEIAQwBEAEUARgBHAEgASQBKAEsATABNAE4ATwBPAFEAUgBTAFQAVQBWAFcAWABZAFoAWwBcAF0AXgBfAGAAYQBiAGMAZABlAGYAZwBoAGkAagBrAGwAbQBuAG8AcABxAHIAcwB0AHUAdgB3AHgAeQB6AHsAfAB9AH4AfwCAAIEAggCDAIQA\"},\"hovertemplate\":\"Country: %{text}\\u003cbr\\u003eRank: %{customdata} out of 133\\u003cbr\\u003eGDP (US$): %{x:$,.0f}\\u003cbr\\u003eHappiness: %{y:.2f}\\u003cextra\\u003e\\u003c\\u002fextra\\u003e\",\"mode\":\"markers\",\"name\":\"GDP (US$)\",\"text\":[\"Finland\",\"Denmark\",\"Norway\",\"Iceland\",\"Netherlands\",\"Switzerland\",\"Sweden\",\"New Zealand\",\"Canada\",\"Austria\",\"Australia\",\"Costa Rica\",\"Israel\",\"Luxembourg\",\"United Kingdom\",\"Ireland\",\"Germany\",\"Belgium\",\"United States\",\"United Arab Emirates\",\"Malta\",\"Mexico\",\"France\",\"Chile\",\"Guatemala\",\"Saudi Arabia\",\"Qatar\",\"Spain\",\"Panama\",\"Brazil\",\"Uruguay\",\"Singapore\",\"El Salvador\",\"Italy\",\"Bahrain\",\"Poland\",\"Uzbekistan\",\"Lithuania\",\"Colombia\",\"Slovenia\",\"Nicaragua\",\"Kosovo\",\"Argentina\",\"Romania\",\"Cyprus\",\"Ecuador\",\"Kuwait\",\"Thailand\",\"Latvia\",\"Estonia\",\"Jamaica\",\"Mauritius\",\"Japan\",\"Honduras\",\"Kazakhstan\",\"Bolivia\",\"Hungary\",\"Paraguay\",\"Peru\",\"Portugal\",\"Pakistan\",\"Philippines\",\"Serbia\",\"Moldova\",\"Libya\",\"Montenegro\",\"Tajikistan\",\"Croatia\",\"Dominican Republic\",\"Bosnia and Herzegovina\",\"Malaysia\",\"Belarus\",\"Greece\",\"Mongolia\",\"North Macedonia\",\"Nigeria\",\"Turkmenistan\",\"Algeria\",\"Morocco\",\"Azerbaijan\",\"Lebanon\",\"Indonesia\",\"China\",\"Bhutan\",\"Cameroon\",\"Bulgaria\",\"Ghana\",\"Nepal\",\"Jordan\",\"Benin\",\"Gabon\",\"South Africa\",\"Albania\",\"Cambodia\",\"Senegal\",\"Somalia\",\"Namibia\",\"Niger\",\"Burkina Faso\",\"Armenia\",\"Guinea\",\"Georgia\",\"Kenya\",\"Mauritania\",\"Mozambique\",\"Tunisia\",\"Bangladesh\",\"Iraq\",\"Mali\",\"Sierra Leone\",\"Sri Lanka\",\"Myanmar\",\"Chad\",\"Ukraine\",\"Ethiopia\",\"Uganda\",\"Zambia\",\"Togo\",\"India\",\"Liberia\",\"Comoros\",\"Madagascar\",\"Lesotho\",\"Burundi\",\"Zimbabwe\",\"Haiti\",\"Botswana\",\"Malawi\",\"Rwanda\",\"Tanzania\",\"Afghanistan\",\"Central African Republic\"],\"visible\":true,\"x\":{\"dtype\":\"f8\",\"bdata\":\"nLSEaqkVT0JcJ\\u002f0N4hpUQtNFkzK+yldCSS6Fqn38FkICD7Hg3QhrQivXEmSe\\u002fmRCKXxVwPD5XkIxuJEIVcdIQlKIK+zhX3lC4\\u002fVAffjIWUI9KmzzTER0QoG18kov\\u002fy1Cvndb00NDV0KOlWt6zEUwQnter+Mov4RCrj8A9KGyV0Jxfe3X38qMQkxftYTYPV9CAIC\\u002f+SqXs0Ken6E\\u002fiFRYQvs61o93bg5C9uyilyz6ckIUHkUfmc+DQtPdp0DFMlBC1qVKHNT3MUIAAMBsy2doQn+KNPxFiERCUmRGdW5sdEIAAGDoJj8wQjMnONmKQntCmB1esHr5LELdnNGwRfBVQgAAgJT2CBlCe3iSIZ9jfULPRn2jotUiQikcpBBYimFCmMzs6AZWL0KNl2P2D6spQsM1siWMzVJCChdfR5AaKUL4U81sXqcHQtaQl97Gbf1BZs43kRAQWkJcP9PBj0xNQgcfbqvFZRhCAAAIDzYNOUKPAjsC2WVAQrR4FGbiqV9CVGM7ZYnTHkINIIg8S68dQhTQVZ+yfA1CgRUdY8njCkIKYoHSgJ6SQmM\\u002fN4liLBdCIUBroBomRUL5kbc1GgsjQlrUlc0wGENCfkyyeQ2pIULy0vnEPZVKQm+CB3gD9EtC0aoAfeytUkJkO8EzG+9VQhUdQf8rFSlCb5L1e4rcBUKdsdfA4x8wQsAEUpJQpfRBNe\\u002f00UXs\\u002fkFkXeO9gZ8sQl09jqRRtTRCGYTNOW8TE0IGYS90kkFVQpyzvvRI\\u002fi1Cb4JvlzAiSEJJHUyvHnYKQkJghKwrewdCgR0nk9yeW0LWtm1ALRAlQqhWhRaMhUZCP3WpJj8EPkI2PDz90G4mQleMtuPoByhCpJwJzvhIcEJmP4PmoPmpQnk7Sf7mYeRBy1Cv48N4IkIOj6IRivUvQtVpv1CF0i9CHRps4Z7WH0JwDgT5K7kkQpZDKKV9zgpCxSDL8lduD0I3EZg1eKlWQuSDWKeOBw1C8nDvOjwVIUKmimCN8ssVQhkEwHoJHwBCCtd7G3VcB0LW1kkTOAIIQjL3+o0K3Q1CW7FZDS9eCUIukMNNDgoJQoGmc6lObRBC+l5vYgVfN0KAK13VCGn9QUJgNVgP5QxCZqZlt4qDI0JK7LJuwnFUQkQrhPflMktC3yDozu4XEEKMIWZPXk34QfEjKMe0uTRCb7Aznzp6MUKP052dYxMFQtvJKnsS6kFCn03qP9ZUNkLP164V1HUgQjjnFC44tRVCOPNVLMIM+kGFcd1tuqGEQgAAgLqgu+hBn6v5QqPO0UHnDDTToEUKQhh9+hrnz+FBXFr621Ey40GmyskggvMXQpoZjOk6+AtCgmKk1YgnD0Iuf16v8JUEQtej4lTuRgNCtdcrD\\u002fRqLEKCcygII4IRQsMN7szLjOBB\"},\"y\":{\"dtype\":\"f8\",\"bdata\":\"+n5qvHQTH0BmZmZmZmYeQJ7vp8ZLNx5AYOXQItv5HUDByqFFtvMdQOxRuB6F6x1ArBxaZDtfHUDufD81XjodQOkmMQisHB1AlkOLbOf7HEC28\\u002f3UeOkcQF66SQwCqxxAdZMYBFaOHEBcj8L1KFwcQJ7vp8ZLNxxAL90kBoEVHEBxPQrXo\\u002fAbQP7UeOkmsRtAxSCwcmiRG0DNzMzMzEwbQIGVQ4ts5xpA4XoUrkdhGkCR7Xw\\u002fNV4aQC2yne+nxhlAWDm0yHa+GUAAAAAAAIAZQOXQItv5fhlA0SLb+X5qGUBiEFg5tEgZQDMzMzMzMxlAeekmMQgsGUA\\u002fNV66SQwZQFCNl24SAxlAMQisHFrkGECyne+nxssYQO58PzVeuhhAGQRWDi2yGEB\\u002farx0k5gYQAAAAAAAgBhARrbz\\u002fdR4GEDsUbgehWsYQGZmZmZmZhhA8tJNYhBYGEBI4XoUrkcYQMl2vp8aLxhA6SYxCKwcGEAv3SQGgRUYQNV46SYxCBhAw\\u002fUoXI\\u002fCF0DfT42XbpIXQI\\u002fC9ShcjxdAWmQ730+NF0AlBoGVQ4sXQHE9CtejcBdAI9v5fmo8F0AEVg4tsh0XQNV46SYxCBdARrbz\\u002fdT4FkB9PzVeuskWQBKDwMqhxRZA6SYxCKycFkCgGi\\u002fdJIYWQLbz\\u002fdR4aRZABFYOLbIdFkCamZmZmRkWQGQ730+NFxZAke18PzXeFUDufD81XroVQDMzMzMzsxVAJQaBlUOLFUBCYOXQIlsVQJhuEoPAShVA2c73U+MlFUCkcD0K1yMVQH9qvHSTGBVAj8L1KFwPFUCwcmiR7fwUQPLSTWIQ2BRAokW28\\u002f3UFECiRbbz\\u002fdQUQH0\\u002fNV66yRRA+FPjpZvEFEDdJAaBlcMUQIcW2c73UxRAkxgEVg4tFEAlBoGVQwsUQJZDi2zn+xNA9P3UeOmmE0A5tMh2vp8TQNV46SYxiBNAGQRWDi0yE0AX2c73U+MSQMdLN4lB4BJAzczMzMzMEkDTTWIQWLkSQHnpJjEIrBJAdZMYBFaOEkBQjZduEoMSQAwCK4cWWRJAI9v5fmo8EkCJQWDl0CISQPp+arx0ExJA8KfGSzcJEkD2KFyPwvURQHe+nxov3RFA8tJNYhDYEUBt5\\u002fup8dIRQHNoke18vxFAj8L1KFyPEUDl0CLb+X4RQBBYObTIdhFAcT0K16NwEUBmZmZmZmYRQIcW2c73UxFAvp8aL90kEUCoxks3icEQQCGwcmiRbRBA16NwPQpXEECPwvUoXA8QQM3MzMzMzA9AYhBYObTID0AQWDm0yHYPQNEi2\\u002fl+ag5AMzMzMzMzDkDn+6nx0k0NQC2yne+nxgxAgZVDi2znC0BI4XoUrkcLQHnpJjEIrApADAIrhxbZCUA5tMh2vp8JQESLbOf7qQhA\"},\"type\":\"scatter\"},{\"customdata\":{\"dtype\":\"i2\",\"bdata\":\"AQACAAMABAAFAAYABwAIAAkACgALAAwADQAOAA8AEAARABIAEwAUABUAFgAXABgAGQAaABsAHAAdAB4AHwAgACEAIgAjACQAJQAmACcAKAApACoAKwAsAC0ALgAvADAAMQAyADMANAA1ADYANwA4ADkAOgA7ADwAPQA+AD8AQABBAEIAQwBEAEUARgBHAEgASQBKAEsATABNAE4ATwBPAFEAUgBTAFQAVQBWAFcAWABZAFoAWwBcAF0AXgBfAGAAYQBiAGMAZABlAGYAZwBoAGkAagBrAGwAbQBuAG8AcABxAHIAcwB0AHUAdgB3AHgAeQB6AHsAfAB9AH4AfwCAAIEAggCDAIQA\"},\"hovertemplate\":\"Country: %{text}\\u003cbr\\u003eRank: %{customdata} out of 133\\u003cbr\\u003eGNI (US$): %{x:$,.0f}\\u003cbr\\u003eHappiness: %{y:.2f}\\u003cextra\\u003e\\u003c\\u002fextra\\u003e\",\"mode\":\"markers\",\"name\":\"GNI (US$)\",\"text\":[\"Finland\",\"Denmark\",\"Norway\",\"Iceland\",\"Netherlands\",\"Switzerland\",\"Sweden\",\"New Zealand\",\"Canada\",\"Austria\",\"Australia\",\"Costa Rica\",\"Israel\",\"Luxembourg\",\"United Kingdom\",\"Ireland\",\"Germany\",\"Belgium\",\"United States\",\"United Arab Emirates\",\"Malta\",\"Mexico\",\"France\",\"Chile\",\"Guatemala\",\"Saudi Arabia\",\"Qatar\",\"Spain\",\"Panama\",\"Brazil\",\"Uruguay\",\"Singapore\",\"El Salvador\",\"Italy\",\"Bahrain\",\"Poland\",\"Uzbekistan\",\"Lithuania\",\"Colombia\",\"Slovenia\",\"Nicaragua\",\"Kosovo\",\"Argentina\",\"Romania\",\"Cyprus\",\"Ecuador\",\"Kuwait\",\"Thailand\",\"Latvia\",\"Estonia\",\"Jamaica\",\"Mauritius\",\"Japan\",\"Honduras\",\"Kazakhstan\",\"Bolivia\",\"Hungary\",\"Paraguay\",\"Peru\",\"Portugal\",\"Pakistan\",\"Philippines\",\"Serbia\",\"Moldova\",\"Libya\",\"Montenegro\",\"Tajikistan\",\"Croatia\",\"Dominican Republic\",\"Bosnia and Herzegovina\",\"Malaysia\",\"Belarus\",\"Greece\",\"Mongolia\",\"North Macedonia\",\"Nigeria\",\"Turkmenistan\",\"Algeria\",\"Morocco\",\"Azerbaijan\",\"Lebanon\",\"Indonesia\",\"China\",\"Bhutan\",\"Cameroon\",\"Bulgaria\",\"Ghana\",\"Nepal\",\"Jordan\",\"Benin\",\"Gabon\",\"South Africa\",\"Albania\",\"Cambodia\",\"Senegal\",\"Somalia\",\"Namibia\",\"Niger\",\"Burkina Faso\",\"Armenia\",\"Guinea\",\"Georgia\",\"Kenya\",\"Mauritania\",\"Mozambique\",\"Tunisia\",\"Bangladesh\",\"Iraq\",\"Mali\",\"Sierra Leone\",\"Sri Lanka\",\"Myanmar\",\"Chad\",\"Ukraine\",\"Ethiopia\",\"Uganda\",\"Zambia\",\"Togo\",\"India\",\"Liberia\",\"Comoros\",\"Madagascar\",\"Lesotho\",\"Burundi\",\"Zimbabwe\",\"Haiti\",\"Botswana\",\"Malawi\",\"Rwanda\",\"Tanzania\",\"Afghanistan\",\"Central African Republic\"],\"visible\":false,\"x\":{\"dtype\":\"f8\",\"bdata\":\"h5YeWaNrT0LBKs+phbBUQtNF54jghFhChJ7gR8GhF0JUX9dnh\\u002fNpQr7DSkf5Q2RCI9t7xwvgX0Jz6BDKhyhIQo9a8h55EnlCzdx0awfOWULNxBNGspVzQi4Q0hYkNSxC3yfHMr0mV0LY4dHEbEsmQmbQ9wLNuYRCP80xowgIUkKPID1hRFuNQvD\\u002fW71Dfl9CAIAFcIXLs0JGvnFnQHNYQpkqq3+ikAtCUqAo24VxckLNXDrG90eEQqpRK92ALk9CTYTm6iOkMUJYVQUijaRoQpPYKUrbBERCKSjkLW9TdEIAAEgdYHsuQnvUN+8uh3pCrQlUcy+OK0KasUgdVGVTQgAAAFU4yRdCH5kQl0mAfUIxiMluJcghQjs7jaHt0GBChgk8gcqtL0JfaaXrYqIoQhdJX+B9ZFJCrLycm1jwKEIl9bfS+MgGQmnSmWNDGf5BKaThFfwJWUIncaxTJeJMQjrjNKI6FxdCAABoCNVWOEInwQpc9b9CQnFNpAPhf15CS1kBiCNpH0KHljYwDZMcQkjQVZQsqgxC5x0\\u002f++k5DEIfVAriO1mTQgbBblimUhVCXop2qM+BQkKE\\u002fjC+dKciQj+VrlIql0JCe9TGwwQfIUIb\\u002fz\\u002fYI59JQuP12+BgNktCiZmoCVRaUkIrt8d6TyFYQgQHlJdTyidCj8LJ18YBB0J2v8XU84wwQkgKpZ214PRB11JuN47wAUIT8hBAjIcsQjWO7ifLwjNCMKqqyzQLE0InUZG9f7NUQnvUunmPGi1CQlCYZQeuR0I8zl5YiIgHQnDOV9\\u002fOZQZCy1mQDloWW0IqSfKpWMMkQjdp5P\\u002f8EEZC\\u002fImR6oOQPUKHhwdXmZElQleMtl07cydCSBmrR3eUb0JmNyNq\\u002f+apQmcKXh4TrOJBxHFMEE4UIkJGFKngB\\u002fUuQl6aNlqDgy5CmRsVynYVIEJtha3HD7okQuPHzzu7rApC\\u002fXaE9EjkDEL6ruOFqBhWQg7PPohvpwxCsTBUTixRIEJ65TFhbDoVQl1cCp0EDgBCLGWcY7XJBkKxYWnBZhsJQjlFx3I6jAxCL24U68K3CUKxUDvqp9MIQsiHvSnfXg9Cxe50Bl7\\u002fNkIl9cDlQw39Qa5YDHU9YQxC1QeBK1QBI0IMiodqJEhVQkQrJJEkEEtCNABrl0DkDkLqz7Wx2gr4QZ3wg6WEJjRCrzVE6cHpMEKJQWEmccAEQri++YoOI0JCidIxzrExNkIirrn9pAggQtlOmybCVBVCHUnUatoh+kEzsWIJ\\u002fm6EQgAAgHnhGOZBxM4UfSvk0UGWsh7l2loJQgtBNGkLQeVB4Sg\\u002fiHZA40F6BxMq1IYXQl1tj3LoDwxCulrHI7I\\u002fD0LXo\\u002fJx5xYEQrkNHzv7oAJCA1gSPRvyK0LZ\\u002feovL8URQh8Rl4X6xuFB\"},\"y\":{\"dtype\":\"f8\",\"bdata\":\"+n5qvHQTH0BmZmZmZmYeQJ7vp8ZLNx5AYOXQItv5HUDByqFFtvMdQOxRuB6F6x1ArBxaZDtfHUDufD81XjodQOkmMQisHB1AlkOLbOf7HEC28\\u002f3UeOkcQF66SQwCqxxAdZMYBFaOHEBcj8L1KFwcQJ7vp8ZLNxxAL90kBoEVHEBxPQrXo\\u002fAbQP7UeOkmsRtAxSCwcmiRG0DNzMzMzEwbQIGVQ4ts5xpA4XoUrkdhGkCR7Xw\\u002fNV4aQC2yne+nxhlAWDm0yHa+GUAAAAAAAIAZQOXQItv5fhlA0SLb+X5qGUBiEFg5tEgZQDMzMzMzMxlAeekmMQgsGUA\\u002fNV66SQwZQFCNl24SAxlAMQisHFrkGECyne+nxssYQO58PzVeuhhAGQRWDi2yGEB\\u002farx0k5gYQAAAAAAAgBhARrbz\\u002fdR4GEDsUbgehWsYQGZmZmZmZhhA8tJNYhBYGEBI4XoUrkcYQMl2vp8aLxhA6SYxCKwcGEAv3SQGgRUYQNV46SYxCBhAw\\u002fUoXI\\u002fCF0DfT42XbpIXQI\\u002fC9ShcjxdAWmQ730+NF0AlBoGVQ4sXQHE9CtejcBdAI9v5fmo8F0AEVg4tsh0XQNV46SYxCBdARrbz\\u002fdT4FkB9PzVeuskWQBKDwMqhxRZA6SYxCKycFkCgGi\\u002fdJIYWQLbz\\u002fdR4aRZABFYOLbIdFkCamZmZmRkWQGQ730+NFxZAke18PzXeFUDufD81XroVQDMzMzMzsxVAJQaBlUOLFUBCYOXQIlsVQJhuEoPAShVA2c73U+MlFUCkcD0K1yMVQH9qvHSTGBVAj8L1KFwPFUCwcmiR7fwUQPLSTWIQ2BRAokW28\\u002f3UFECiRbbz\\u002fdQUQH0\\u002fNV66yRRA+FPjpZvEFEDdJAaBlcMUQIcW2c73UxRAkxgEVg4tFEAlBoGVQwsUQJZDi2zn+xNA9P3UeOmmE0A5tMh2vp8TQNV46SYxiBNAGQRWDi0yE0AX2c73U+MSQMdLN4lB4BJAzczMzMzMEkDTTWIQWLkSQHnpJjEIrBJAdZMYBFaOEkBQjZduEoMSQAwCK4cWWRJAI9v5fmo8EkCJQWDl0CISQPp+arx0ExJA8KfGSzcJEkD2KFyPwvURQHe+nxov3RFA8tJNYhDYEUBt5\\u002fup8dIRQHNoke18vxFAj8L1KFyPEUDl0CLb+X4RQBBYObTIdhFAcT0K16NwEUBmZmZmZmYRQIcW2c73UxFAvp8aL90kEUCoxks3icEQQCGwcmiRbRBA16NwPQpXEECPwvUoXA8QQM3MzMzMzA9AYhBYObTID0AQWDm0yHYPQNEi2\\u002fl+ag5AMzMzMzMzDkDn+6nx0k0NQC2yne+nxgxAgZVDi2znC0BI4XoUrkcLQHnpJjEIrApADAIrhxbZCUA5tMh2vp8JQESLbOf7qQhA\"},\"type\":\"scatter\"},{\"customdata\":{\"dtype\":\"i2\",\"bdata\":\"AQACAAMABQAGAAcACQAKAAwADQAOAA8AEAARABIAEwAVABcAHAAdAB4AHwAhACIAJAAmACcAKAAqACsALAAtAC4AMAAxADIANQA2ADcAOAA5ADoAOwA8AD8AQABCAEQARQBIAEkASwBSAFMAVgBdAGQAZgBoAGkAbwByAHQAfQCAAA==\"},\"hovertemplate\":\"Country: %{text}\\u003cbr\\u003eRank: %{customdata} out of 133\\u003cbr\\u003eGini Index: %{x:.2f}\\u003cbr\\u003eHappiness: %{y:.2f}\\u003cextra\\u003e\\u003c\\u002fextra\\u003e\",\"mode\":\"markers\",\"name\":\"Gini Index\",\"text\":[\"Finland\",\"Denmark\",\"Norway\",\"Netherlands\",\"Switzerland\",\"Sweden\",\"Canada\",\"Austria\",\"Costa Rica\",\"Israel\",\"Luxembourg\",\"United Kingdom\",\"Ireland\",\"Germany\",\"Belgium\",\"United States\",\"Malta\",\"France\",\"Spain\",\"Panama\",\"Brazil\",\"Uruguay\",\"El Salvador\",\"Italy\",\"Poland\",\"Lithuania\",\"Colombia\",\"Slovenia\",\"Kosovo\",\"Argentina\",\"Romania\",\"Cyprus\",\"Ecuador\",\"Thailand\",\"Latvia\",\"Estonia\",\"Japan\",\"Honduras\",\"Kazakhstan\",\"Bolivia\",\"Hungary\",\"Paraguay\",\"Peru\",\"Portugal\",\"Serbia\",\"Moldova\",\"Montenegro\",\"Croatia\",\"Dominican Republic\",\"Belarus\",\"Greece\",\"North Macedonia\",\"Indonesia\",\"China\",\"Bulgaria\",\"Albania\",\"Armenia\",\"Georgia\",\"Mauritania\",\"Mozambique\",\"Sri Lanka\",\"Ukraine\",\"Uganda\",\"Zimbabwe\",\"Malawi\"],\"visible\":false,\"x\":{\"dtype\":\"f8\",\"bdata\":\"MzMzMzOzO0AzMzMzM7M7QDMzMzMzsztAMzMzMzMzPUAAAAAAAABBQM3MzMzMTD1AMzMzMzOzP0AzMzMzMzM+QJqZmZmZGUhAZmZmZmYmQ0CamZmZmRlBQGZmZmZmZkBAzczMzMxMPkDNzMzMzMw\\u002fQDMzMzMzMztAMzMzMzPzREAAAAAAAAA\\u002fQDMzMzMzMz9AZmZmZmYmQUBmZmZmZuZIQAAAAAAAwEpAmpmZmZnZQ0BmZmZmZmZDQM3MzMzMTEFAzczMzMzMPEBmZmZmZqZBQGZmZmZmpklAZmZmZmZmOECamZmZmRlEQGZmZmZmpkVAZmZmZmZmQUAzMzMzMzM\\u002fQJqZmZmZ2UZAMzMzMzNzQUAAAAAAAEBBQM3MzMzMzD5AAAAAAACAQECamZmZmRlIQAAAAAAAADxAzczMzMzMREAAAAAAAAA+QJqZmZmZ2UZAAAAAAADAREBmZmZmZmZAQAAAAAAAQEFAAAAAAAAAOkCamZmZmdlBQGZmZmZm5jxAMzMzMzPzREDNzMzMzEw5QM3MzMzMjEBAAAAAAADAQEAzMzMzM7NBQJqZmZmZGUNAZmZmZmYmRECamZmZmRk+QAAAAAAAAD5AMzMzMzPzQUAAAAAAAABAQGZmZmZmJklAmpmZmZnZQkCamZmZmZk6QJqZmZmZWUVAZmZmZmYmSUAAAAAAAEBDQA==\"},\"y\":{\"dtype\":\"f8\",\"bdata\":\"+n5qvHQTH0BmZmZmZmYeQJ7vp8ZLNx5AwcqhRbbzHUDsUbgehesdQKwcWmQ7Xx1A6SYxCKwcHUCWQ4ts5\\u002fscQF66SQwCqxxAdZMYBFaOHEBcj8L1KFwcQJ7vp8ZLNxxAL90kBoEVHEBxPQrXo\\u002fAbQP7UeOkmsRtAxSCwcmiRG0CBlUOLbOcaQJHtfD81XhpA0SLb+X5qGUBiEFg5tEgZQDMzMzMzMxlAeekmMQgsGUBQjZduEgMZQDEIrBxa5BhA7nw\\u002fNV66GEB\\u002farx0k5gYQAAAAAAAgBhARrbz\\u002fdR4GEBmZmZmZmYYQPLSTWIQWBhASOF6FK5HGEDJdr6fGi8YQOkmMQisHBhA1XjpJjEIGEDD9Shcj8IXQN9PjZdukhdAJQaBlUOLF0BxPQrXo3AXQCPb+X5qPBdABFYOLbIdF0DVeOkmMQgXQEa28\\u002f3U+BZAfT81XrrJFkASg8DKocUWQLbz\\u002fdR4aRZABFYOLbIdFkBkO99PjRcWQO58PzVeuhVAMzMzMzOzFUCYbhKDwEoVQNnO91PjJRVAf2q8dJMYFUD4U+Olm8QUQN0kBoGVwxRAJQaBlUMLFEDHSzeJQeASQCPb+X5qPBJA+n5qvHQTEkD2KFyPwvURQHe+nxov3RFAEFg5tMh2EUCHFtnO91MRQKjGSzeJwRBA5\\u002fup8dJNDUBI4XoUrkcLQA==\"},\"type\":\"scatter\"}],                        {\"height\":600,\"margin\":{\"t\":80},\"sliders\":[{\"active\":0,\"currentvalue\":{\"prefix\":\"Metric: \"},\"pad\":{\"t\":50},\"steps\":[{\"args\":[{\"visible\":[true,false,false]},{\"title\":\"Happiness vs GDP (current US$)\",\"xaxis\":{\"title\":\"GDP (current US$)\",\"type\":\"log\"},\"yaxis\":{\"title\":\"Happiness\"}}],\"label\":\"GDP (US$)\",\"method\":\"update\"},{\"args\":[{\"visible\":[false,true,false]},{\"title\":\"Happiness vs GNI (current US$)\",\"xaxis\":{\"title\":\"GNI (current US$)\",\"type\":\"log\"},\"yaxis\":{\"title\":\"Happiness\"}}],\"label\":\"GNI (US$)\",\"method\":\"update\"},{\"args\":[{\"visible\":[false,false,true]},{\"title\":\"Happiness vs Gini Index\",\"xaxis\":{\"title\":\"Gini Index\",\"type\":\"linear\"},\"yaxis\":{\"title\":\"Happiness\"}}],\"label\":\"Gini Index\",\"method\":\"update\"}]}],\"template\":{\"data\":{\"barpolar\":[{\"marker\":{\"line\":{\"color\":\"#E5ECF6\",\"width\":0.5},\"pattern\":{\"fillmode\":\"overlay\",\"size\":10,\"solidity\":0.2}},\"type\":\"barpolar\"}],\"bar\":[{\"error_x\":{\"color\":\"#2a3f5f\"},\"error_y\":{\"color\":\"#2a3f5f\"},\"marker\":{\"line\":{\"color\":\"#E5ECF6\",\"width\":0.5},\"pattern\":{\"fillmode\":\"overlay\",\"size\":10,\"solidity\":0.2}},\"type\":\"bar\"}],\"carpet\":[{\"aaxis\":{\"endlinecolor\":\"#2a3f5f\",\"gridcolor\":\"white\",\"linecolor\":\"white\",\"minorgridcolor\":\"white\",\"startlinecolor\":\"#2a3f5f\"},\"baxis\":{\"endlinecolor\":\"#2a3f5f\",\"gridcolor\":\"white\",\"linecolor\":\"white\",\"minorgridcolor\":\"white\",\"startlinecolor\":\"#2a3f5f\"},\"type\":\"carpet\"}],\"choropleth\":[{\"colorbar\":{\"outlinewidth\":0,\"ticks\":\"\"},\"type\":\"choropleth\"}],\"contourcarpet\":[{\"colorbar\":{\"outlinewidth\":0,\"ticks\":\"\"},\"type\":\"contourcarpet\"}],\"contour\":[{\"colorbar\":{\"outlinewidth\":0,\"ticks\":\"\"},\"colorscale\":[[0.0,\"#0d0887\"],[0.1111111111111111,\"#46039f\"],[0.2222222222222222,\"#7201a8\"],[0.3333333333333333,\"#9c179e\"],[0.4444444444444444,\"#bd3786\"],[0.5555555555555556,\"#d8576b\"],[0.6666666666666666,\"#ed7953\"],[0.7777777777777778,\"#fb9f3a\"],[0.8888888888888888,\"#fdca26\"],[1.0,\"#f0f921\"]],\"type\":\"contour\"}],\"heatmap\":[{\"colorbar\":{\"outlinewidth\":0,\"ticks\":\"\"},\"colorscale\":[[0.0,\"#0d0887\"],[0.1111111111111111,\"#46039f\"],[0.2222222222222222,\"#7201a8\"],[0.3333333333333333,\"#9c179e\"],[0.4444444444444444,\"#bd3786\"],[0.5555555555555556,\"#d8576b\"],[0.6666666666666666,\"#ed7953\"],[0.7777777777777778,\"#fb9f3a\"],[0.8888888888888888,\"#fdca26\"],[1.0,\"#f0f921\"]],\"type\":\"heatmap\"}],\"histogram2dcontour\":[{\"colorbar\":{\"outlinewidth\":0,\"ticks\":\"\"},\"colorscale\":[[0.0,\"#0d0887\"],[0.1111111111111111,\"#46039f\"],[0.2222222222222222,\"#7201a8\"],[0.3333333333333333,\"#9c179e\"],[0.4444444444444444,\"#bd3786\"],[0.5555555555555556,\"#d8576b\"],[0.6666666666666666,\"#ed7953\"],[0.7777777777777778,\"#fb9f3a\"],[0.8888888888888888,\"#fdca26\"],[1.0,\"#f0f921\"]],\"type\":\"histogram2dcontour\"}],\"histogram2d\":[{\"colorbar\":{\"outlinewidth\":0,\"ticks\":\"\"},\"colorscale\":[[0.0,\"#0d0887\"],[0.1111111111111111,\"#46039f\"],[0.2222222222222222,\"#7201a8\"],[0.3333333333333333,\"#9c179e\"],[0.4444444444444444,\"#bd3786\"],[0.5555555555555556,\"#d8576b\"],[0.6666666666666666,\"#ed7953\"],[0.7777777777777778,\"#fb9f3a\"],[0.8888888888888888,\"#fdca26\"],[1.0,\"#f0f921\"]],\"type\":\"histogram2d\"}],\"histogram\":[{\"marker\":{\"pattern\":{\"fillmode\":\"overlay\",\"size\":10,\"solidity\":0.2}},\"type\":\"histogram\"}],\"mesh3d\":[{\"colorbar\":{\"outlinewidth\":0,\"ticks\":\"\"},\"type\":\"mesh3d\"}],\"parcoords\":[{\"line\":{\"colorbar\":{\"outlinewidth\":0,\"ticks\":\"\"}},\"type\":\"parcoords\"}],\"pie\":[{\"automargin\":true,\"type\":\"pie\"}],\"scatter3d\":[{\"line\":{\"colorbar\":{\"outlinewidth\":0,\"ticks\":\"\"}},\"marker\":{\"colorbar\":{\"outlinewidth\":0,\"ticks\":\"\"}},\"type\":\"scatter3d\"}],\"scattercarpet\":[{\"marker\":{\"colorbar\":{\"outlinewidth\":0,\"ticks\":\"\"}},\"type\":\"scattercarpet\"}],\"scattergeo\":[{\"marker\":{\"colorbar\":{\"outlinewidth\":0,\"ticks\":\"\"}},\"type\":\"scattergeo\"}],\"scattergl\":[{\"marker\":{\"colorbar\":{\"outlinewidth\":0,\"ticks\":\"\"}},\"type\":\"scattergl\"}],\"scattermapbox\":[{\"marker\":{\"colorbar\":{\"outlinewidth\":0,\"ticks\":\"\"}},\"type\":\"scattermapbox\"}],\"scattermap\":[{\"marker\":{\"colorbar\":{\"outlinewidth\":0,\"ticks\":\"\"}},\"type\":\"scattermap\"}],\"scatterpolargl\":[{\"marker\":{\"colorbar\":{\"outlinewidth\":0,\"ticks\":\"\"}},\"type\":\"scatterpolargl\"}],\"scatterpolar\":[{\"marker\":{\"colorbar\":{\"outlinewidth\":0,\"ticks\":\"\"}},\"type\":\"scatterpolar\"}],\"scatter\":[{\"fillpattern\":{\"fillmode\":\"overlay\",\"size\":10,\"solidity\":0.2},\"type\":\"scatter\"}],\"scatterternary\":[{\"marker\":{\"colorbar\":{\"outlinewidth\":0,\"ticks\":\"\"}},\"type\":\"scatterternary\"}],\"surface\":[{\"colorbar\":{\"outlinewidth\":0,\"ticks\":\"\"},\"colorscale\":[[0.0,\"#0d0887\"],[0.1111111111111111,\"#46039f\"],[0.2222222222222222,\"#7201a8\"],[0.3333333333333333,\"#9c179e\"],[0.4444444444444444,\"#bd3786\"],[0.5555555555555556,\"#d8576b\"],[0.6666666666666666,\"#ed7953\"],[0.7777777777777778,\"#fb9f3a\"],[0.8888888888888888,\"#fdca26\"],[1.0,\"#f0f921\"]],\"type\":\"surface\"}],\"table\":[{\"cells\":{\"fill\":{\"color\":\"#EBF0F8\"},\"line\":{\"color\":\"white\"}},\"header\":{\"fill\":{\"color\":\"#C8D4E3\"},\"line\":{\"color\":\"white\"}},\"type\":\"table\"}]},\"layout\":{\"annotationdefaults\":{\"arrowcolor\":\"#2a3f5f\",\"arrowhead\":0,\"arrowwidth\":1},\"autotypenumbers\":\"strict\",\"coloraxis\":{\"colorbar\":{\"outlinewidth\":0,\"ticks\":\"\"}},\"colorscale\":{\"diverging\":[[0,\"#8e0152\"],[0.1,\"#c51b7d\"],[0.2,\"#de77ae\"],[0.3,\"#f1b6da\"],[0.4,\"#fde0ef\"],[0.5,\"#f7f7f7\"],[0.6,\"#e6f5d0\"],[0.7,\"#b8e186\"],[0.8,\"#7fbc41\"],[0.9,\"#4d9221\"],[1,\"#276419\"]],\"sequential\":[[0.0,\"#0d0887\"],[0.1111111111111111,\"#46039f\"],[0.2222222222222222,\"#7201a8\"],[0.3333333333333333,\"#9c179e\"],[0.4444444444444444,\"#bd3786\"],[0.5555555555555556,\"#d8576b\"],[0.6666666666666666,\"#ed7953\"],[0.7777777777777778,\"#fb9f3a\"],[0.8888888888888888,\"#fdca26\"],[1.0,\"#f0f921\"]],\"sequentialminus\":[[0.0,\"#0d0887\"],[0.1111111111111111,\"#46039f\"],[0.2222222222222222,\"#7201a8\"],[0.3333333333333333,\"#9c179e\"],[0.4444444444444444,\"#bd3786\"],[0.5555555555555556,\"#d8576b\"],[0.6666666666666666,\"#ed7953\"],[0.7777777777777778,\"#fb9f3a\"],[0.8888888888888888,\"#fdca26\"],[1.0,\"#f0f921\"]]},\"colorway\":[\"#636efa\",\"#EF553B\",\"#00cc96\",\"#ab63fa\",\"#FFA15A\",\"#19d3f3\",\"#FF6692\",\"#B6E880\",\"#FF97FF\",\"#FECB52\"],\"font\":{\"color\":\"#2a3f5f\"},\"geo\":{\"bgcolor\":\"white\",\"lakecolor\":\"white\",\"landcolor\":\"#E5ECF6\",\"showlakes\":true,\"showland\":true,\"subunitcolor\":\"white\"},\"hoverlabel\":{\"align\":\"left\"},\"hovermode\":\"closest\",\"mapbox\":{\"style\":\"light\"},\"paper_bgcolor\":\"white\",\"plot_bgcolor\":\"#E5ECF6\",\"polar\":{\"angularaxis\":{\"gridcolor\":\"white\",\"linecolor\":\"white\",\"ticks\":\"\"},\"bgcolor\":\"#E5ECF6\",\"radialaxis\":{\"gridcolor\":\"white\",\"linecolor\":\"white\",\"ticks\":\"\"}},\"scene\":{\"xaxis\":{\"backgroundcolor\":\"#E5ECF6\",\"gridcolor\":\"white\",\"gridwidth\":2,\"linecolor\":\"white\",\"showbackground\":true,\"ticks\":\"\",\"zerolinecolor\":\"white\"},\"yaxis\":{\"backgroundcolor\":\"#E5ECF6\",\"gridcolor\":\"white\",\"gridwidth\":2,\"linecolor\":\"white\",\"showbackground\":true,\"ticks\":\"\",\"zerolinecolor\":\"white\"},\"zaxis\":{\"backgroundcolor\":\"#E5ECF6\",\"gridcolor\":\"white\",\"gridwidth\":2,\"linecolor\":\"white\",\"showbackground\":true,\"ticks\":\"\",\"zerolinecolor\":\"white\"}},\"shapedefaults\":{\"line\":{\"color\":\"#2a3f5f\"}},\"ternary\":{\"aaxis\":{\"gridcolor\":\"white\",\"linecolor\":\"white\",\"ticks\":\"\"},\"baxis\":{\"gridcolor\":\"white\",\"linecolor\":\"white\",\"ticks\":\"\"},\"bgcolor\":\"#E5ECF6\",\"caxis\":{\"gridcolor\":\"white\",\"linecolor\":\"white\",\"ticks\":\"\"}},\"title\":{\"x\":0.05},\"xaxis\":{\"automargin\":true,\"gridcolor\":\"white\",\"linecolor\":\"white\",\"ticks\":\"\",\"title\":{\"standoff\":15},\"zerolinecolor\":\"white\",\"zerolinewidth\":2},\"yaxis\":{\"automargin\":true,\"gridcolor\":\"white\",\"linecolor\":\"white\",\"ticks\":\"\",\"title\":{\"standoff\":15},\"zerolinecolor\":\"white\",\"zerolinewidth\":2}}},\"title\":{\"text\":\"Happiness vs GDP (current US$)\"},\"width\":900},                        {\"responsive\": true}                    ).then(function(){\n",
       "                            \n",
       "var gd = document.getElementById('05d488e0-f2bb-472a-96bf-a81f283e21b3');\n",
       "var x = new MutationObserver(function (mutations, observer) {{\n",
       "        var display = window.getComputedStyle(gd).display;\n",
       "        if (!display || display === 'none') {{\n",
       "            console.log([gd, 'removed!']);\n",
       "            Plotly.purge(gd);\n",
       "            observer.disconnect();\n",
       "        }}\n",
       "}});\n",
       "\n",
       "// Listen for the removal of the full notebook cells\n",
       "var notebookContainer = gd.closest('#notebook-container');\n",
       "if (notebookContainer) {{\n",
       "    x.observe(notebookContainer, {childList: true});\n",
       "}}\n",
       "\n",
       "// Listen for the clearing of the current output cell\n",
       "var outputEl = gd.closest('.output');\n",
       "if (outputEl) {{\n",
       "    x.observe(outputEl, {childList: true});\n",
       "}}\n",
       "\n",
       "                        })                };            </script>        </div>"
      ]
     },
     "metadata": {},
     "output_type": "display_data"
    }
   ],
   "source": [
    "import pandas as pd\n",
    "import plotly.graph_objects as go\n",
    "from plotly.offline import init_notebook_mode, iplot\n",
    "\n",
    "init_notebook_mode(connected=True)\n",
    "\n",
    "df = pd.read_csv('final.csv')\n",
    "\n",
    "df['Happiness_rank'] = df['Happiness'].rank(method='min', ascending=False).astype(int)\n",
    "total_countries = df['Country'].nunique()\n",
    "\n",
    "df_gdp  = df.dropna(subset=['GDP_current_usd', 'Happiness', 'Country', 'Happiness_rank'])\n",
    "df_gni  = df.dropna(subset=['GNI_current_usd', 'Happiness', 'Country', 'Happiness_rank'])\n",
    "df_gini = df.dropna(subset=['Gini_index',       'Happiness', 'Country', 'Happiness_rank'])\n",
    "\n",
    "trace_gdp = go.Scatter(\n",
    "    x=df_gdp['GDP_current_usd'],\n",
    "    y=df_gdp['Happiness'],\n",
    "    mode='markers',\n",
    "    name='GDP (US$)',\n",
    "    visible=True,\n",
    "    text=df_gdp['Country'],\n",
    "    customdata=df_gdp['Happiness_rank'],\n",
    "    hovertemplate=(\n",
    "        \"Country: %{text}<br>\"\n",
    "        f\"Rank: %{{customdata}} out of {total_countries}<br>\"\n",
    "        \"GDP (US$): %{x:$,.0f}<br>\"\n",
    "        \"Happiness: %{y:.2f}<extra></extra>\"\n",
    "    )\n",
    ")\n",
    "\n",
    "trace_gni = go.Scatter(\n",
    "    x=df_gni['GNI_current_usd'],\n",
    "    y=df_gni['Happiness'],\n",
    "    mode='markers',\n",
    "    name='GNI (US$)',\n",
    "    visible=False,\n",
    "    text=df_gni['Country'],\n",
    "    customdata=df_gni['Happiness_rank'],\n",
    "    hovertemplate=(\n",
    "        \"Country: %{text}<br>\"\n",
    "        f\"Rank: %{{customdata}} out of {total_countries}<br>\"\n",
    "        \"GNI (US$): %{x:$,.0f}<br>\"\n",
    "        \"Happiness: %{y:.2f}<extra></extra>\"\n",
    "    )\n",
    ")\n",
    "\n",
    "trace_gini = go.Scatter(\n",
    "    x=df_gini['Gini_index'],\n",
    "    y=df_gini['Happiness'],\n",
    "    mode='markers',\n",
    "    name='Gini Index',\n",
    "    visible=False,\n",
    "    text=df_gini['Country'],\n",
    "    customdata=df_gini['Happiness_rank'],\n",
    "    hovertemplate=(\n",
    "        \"Country: %{text}<br>\"\n",
    "        f\"Rank: %{{customdata}} out of {total_countries}<br>\"\n",
    "        \"Gini Index: %{x:.2f}<br>\"\n",
    "        \"Happiness: %{y:.2f}<extra></extra>\"\n",
    "    )\n",
    ")\n",
    "\n",
    "fig = go.Figure(data=[trace_gdp, trace_gni, trace_gini])\n",
    "\n",
    "steps = [\n",
    "    dict(\n",
    "        method='update',\n",
    "        label='GDP (US$)',\n",
    "        args=[\n",
    "            {'visible': [True, False, False]},\n",
    "            {\n",
    "                'title': 'Happiness vs GDP (current US$)',\n",
    "                'xaxis': {'title': 'GDP (current US$)', 'type': 'log'},\n",
    "                'yaxis': {'title': 'Happiness'}\n",
    "            }\n",
    "        ]\n",
    "    ),\n",
    "    dict(\n",
    "        method='update',\n",
    "        label='GNI (US$)',\n",
    "        args=[\n",
    "            {'visible': [False, True, False]},\n",
    "            {\n",
    "                'title': 'Happiness vs GNI (current US$)',\n",
    "                'xaxis': {'title': 'GNI (current US$)', 'type': 'log'},\n",
    "                'yaxis': {'title': 'Happiness'}\n",
    "            }\n",
    "        ]\n",
    "    ),\n",
    "    dict(\n",
    "        method='update',\n",
    "        label='Gini Index',\n",
    "        args=[\n",
    "            {'visible': [False, False, True]},\n",
    "            {\n",
    "                'title': 'Happiness vs Gini Index',\n",
    "                'xaxis': {'title': 'Gini Index', 'type': 'linear'},\n",
    "                'yaxis': {'title': 'Happiness'}\n",
    "            }\n",
    "        ]\n",
    "    )\n",
    "]\n",
    "\n",
    "fig.update_layout(\n",
    "    sliders=[dict(\n",
    "        active=0,\n",
    "        currentvalue={'prefix': 'Metric: '},\n",
    "        pad={'t': 50},\n",
    "        steps=steps\n",
    "    )],\n",
    "    title=\"Happiness vs GDP (current US$)\",\n",
    "    width=900,\n",
    "    height=600,\n",
    "    margin={'t':80}\n",
    ")\n",
    "\n",
    "iplot(fig)\n"
   ]
  },
  {
   "cell_type": "code",
   "execution_count": 43,
   "id": "1d91aaa7",
   "metadata": {},
   "outputs": [
    {
     "data": {
      "text/html": [
       "        <script type=\"text/javascript\">\n",
       "        window.PlotlyConfig = {MathJaxConfig: 'local'};\n",
       "        if (window.MathJax && window.MathJax.Hub && window.MathJax.Hub.Config) {window.MathJax.Hub.Config({SVG: {font: \"STIX-Web\"}});}\n",
       "        </script>\n",
       "        <script type=\"module\">import \"https://cdn.plot.ly/plotly-3.0.1.min\"</script>\n",
       "        "
      ]
     },
     "metadata": {},
     "output_type": "display_data"
    },
    {
     "data": {
      "application/vnd.plotly.v1+json": {
       "config": {
        "linkText": "Export to plot.ly",
        "plotlyServerURL": "https://plot.ly",
        "showLink": false
       },
       "data": [
        {
         "customdata": {
          "bdata": "AQACAAMABAAFAAYABwAIAAkACgALAAwADQAOAA8AEAARABIAEwAUABUAFwAYABkAGwAcAB0AHgAfACAAIQAiACMAJAAlACYAKAApACsALAAtAC4ALwAwADEAMgAzADQANQA2ADcAOAA5ADoAOwA8AD0APgA/AEAAQwBEAEUARgBHAEgASQBKAEwATQBOAE8ATwBRAFIAUwBUAFUAVgBXAFgAWQBaAFsAXABdAF4AXwBhAGIAYwBkAGUAZgBnAGgAaQBqAGsAbQBuAHAAcQByAHMAdAB1AHYAdwB4AHoAewB8AH4AfwCBAIIAhAA=",
          "dtype": "i2"
         },
         "hovertemplate": "Country: %{text}<br>Rank: %{customdata} out of 133<br>Education Expenditure: %{x:.1f}% of GDP<br>Happiness: %{y:.2f}<extra></extra>",
         "mode": "markers",
         "name": "Education Expenditure",
         "text": [
          "Finland",
          "Denmark",
          "Norway",
          "Iceland",
          "Netherlands",
          "Switzerland",
          "Sweden",
          "New Zealand",
          "Canada",
          "Austria",
          "Australia",
          "Costa Rica",
          "Israel",
          "Luxembourg",
          "United Kingdom",
          "Ireland",
          "Germany",
          "Belgium",
          "United States",
          "United Arab Emirates",
          "Malta",
          "France",
          "Chile",
          "Guatemala",
          "Qatar",
          "Spain",
          "Panama",
          "Brazil",
          "Uruguay",
          "Singapore",
          "El Salvador",
          "Italy",
          "Bahrain",
          "Poland",
          "Uzbekistan",
          "Lithuania",
          "Slovenia",
          "Nicaragua",
          "Argentina",
          "Romania",
          "Cyprus",
          "Ecuador",
          "Kuwait",
          "Thailand",
          "Latvia",
          "Estonia",
          "Jamaica",
          "Mauritius",
          "Japan",
          "Honduras",
          "Kazakhstan",
          "Bolivia",
          "Hungary",
          "Paraguay",
          "Peru",
          "Portugal",
          "Pakistan",
          "Philippines",
          "Serbia",
          "Moldova",
          "Tajikistan",
          "Croatia",
          "Dominican Republic",
          "Bosnia and Herzegovina",
          "Malaysia",
          "Belarus",
          "Greece",
          "Mongolia",
          "Nigeria",
          "Turkmenistan",
          "Algeria",
          "Morocco",
          "Azerbaijan",
          "Lebanon",
          "Indonesia",
          "China",
          "Bhutan",
          "Cameroon",
          "Bulgaria",
          "Ghana",
          "Nepal",
          "Jordan",
          "Benin",
          "Gabon",
          "South Africa",
          "Albania",
          "Cambodia",
          "Senegal",
          "Namibia",
          "Niger",
          "Burkina Faso",
          "Armenia",
          "Guinea",
          "Georgia",
          "Kenya",
          "Mauritania",
          "Mozambique",
          "Tunisia",
          "Bangladesh",
          "Mali",
          "Sierra Leone",
          "Myanmar",
          "Chad",
          "Ukraine",
          "Ethiopia",
          "Uganda",
          "Zambia",
          "Togo",
          "India",
          "Liberia",
          "Madagascar",
          "Lesotho",
          "Burundi",
          "Haiti",
          "Botswana",
          "Rwanda",
          "Tanzania",
          "Central African Republic"
         ],
         "type": "scatter",
         "visible": true,
         "x": {
          "bdata": "AgAAAPWqGUABAADgKwUdQP///z9PdR9AAAAAILtnHkAFAABgsqMUQPz//z+8DhRAAQAAoNWNHkD7//9fQLYUQP7///96FxNAAwAAYATfFED7//9/ywgWQAIAAEDL8xpAAwAAIHcqGED5//+feOMNQAUAAIBtCxVABwAAYI5eCkD8///fSnYUQPz//z/8VRlABAAAAHPUE0D4//+/teEOQP///z/vmBNA/P//v+9qFUD8//9fV4EWQAYAAOAziwlAAQAAQCRuBkACAADAvusQQAUAAAARvwhABAAA4JfaF0D7//9/a4MSQPr//18J1gVACgAAIM0YC0D+//9/jmEQQAYAAICrEwNABAAAABq3EkABAABgby4ZQPn///95tg9AAQAAQO2QE0AAAABgUWYSQAQAAGArFhNA////Hx2JDED7///fs9kUQP3//7+t+xBABQAAgF3pGkAAAACgfi0IQPr//99MvhFA+///f6sKFUD+//8/kacUQAIAAAD1KhJAAQAA4CI+CUD9//+/1roXQAQAAECg1ApA/v//v5wuIEABAAAAR+YQQPr//x8s6wtA/v//H1aUDkD9////I4USQP3//78muAFA/v//P4hCC0D4///fh+4MQAQAAEAw5xhA/v//H+bvFUD2///fUlwPQP3//5/LKxBAAAAAYJEtEED9///fGNYPQAEAAGD/6hNA9f//32SwDED7//+fDTgNQAEAAOBR8dY/AQAA4OL2CEACAACgLE0WQAMAAMBVAxRA+///32NpCUAGAAAAWM0EQAQAAIBb3O4//////9E8EEAEAABAEAoSQPj///8SYQhA/v//f87LEEADAABgfTkJQAIAAKCs4gtABAAAAGPoB0D5//9fu7gHQP7//x+W/gZA+///P3WlF0D2//+fdVQPQAMAAODwmgZA////3x0kFEABAADgIqUiQAYAAKC2NQxAAgAAgOigFUD9//+/RpMEQPn//3/muv0/+///n42jDkAEAADgjn4VQOz//7++K/0/BQAAgEQlGUD////f5rEYQPf//x/35vo/9v///71wDEAFAACAvckdQO3//18E//8/AgAAQMv6AkD///8f5MMVQP////9o7BFAAQAA4Ft3AkADAAAgR6wRQAEAACCCzhBABgAAALgtD0AEAACAFlIBQAsAAABpGwhABAAAALrGHED+//8/AWMVQAUAAECOJvw//v//P0nMIEALAABg0egJQAEAACBSxgxABQAAQGdJ/D8=",
          "dtype": "f8"
         },
         "y": {
          "bdata": "+n5qvHQTH0BmZmZmZmYeQJ7vp8ZLNx5AYOXQItv5HUDByqFFtvMdQOxRuB6F6x1ArBxaZDtfHUDufD81XjodQOkmMQisHB1AlkOLbOf7HEC28/3UeOkcQF66SQwCqxxAdZMYBFaOHEBcj8L1KFwcQJ7vp8ZLNxxAL90kBoEVHEBxPQrXo/AbQP7UeOkmsRtAxSCwcmiRG0DNzMzMzEwbQIGVQ4ts5xpAke18PzVeGkAtsp3vp8YZQFg5tMh2vhlA5dAi2/l+GUDRItv5fmoZQGIQWDm0SBlAMzMzMzMzGUB56SYxCCwZQD81XrpJDBlAUI2XbhIDGUAxCKwcWuQYQLKd76fGyxhA7nw/NV66GEAZBFYOLbIYQH9qvHSTmBhARrbz/dR4GEDsUbgehWsYQPLSTWIQWBhASOF6FK5HGEDJdr6fGi8YQOkmMQisHBhAL90kBoEVGEDVeOkmMQgYQMP1KFyPwhdA30+Nl26SF0CPwvUoXI8XQFpkO99PjRdAJQaBlUOLF0BxPQrXo3AXQCPb+X5qPBdABFYOLbIdF0DVeOkmMQgXQEa28/3U+BZAfT81XrrJFkASg8DKocUWQOkmMQisnBZAoBov3SSGFkC28/3UeGkWQARWDi2yHRZAke18PzXeFUDufD81XroVQDMzMzMzsxVAJQaBlUOLFUBCYOXQIlsVQJhuEoPAShVA2c73U+MlFUCkcD0K1yMVQI/C9ShcDxVAsHJoke38FEDy0k1iENgUQKJFtvP91BRAokW28/3UFEB9PzVeuskUQPhT46WbxBRA3SQGgZXDFECHFtnO91MUQJMYBFYOLRRAJQaBlUMLFECWQ4ts5/sTQPT91HjpphNAObTIdr6fE0DVeOkmMYgTQBkEVg4tMhNAF9nO91PjEkDHSzeJQeASQM3MzMzMzBJA001iEFi5EkB1kxgEVo4SQFCNl24SgxJADAIrhxZZEkAj2/l+ajwSQIlBYOXQIhJA+n5qvHQTEkDwp8ZLNwkSQPYoXI/C9RFAd76fGi/dEUDy0k1iENgRQG3n+6nx0hFAj8L1KFyPEUDl0CLb+X4RQHE9CtejcBFAZmZmZmZmEUCHFtnO91MRQL6fGi/dJBFAqMZLN4nBEEAhsHJokW0QQNejcD0KVxBAj8L1KFwPEEDNzMzMzMwPQBBYObTIdg9A0SLb+X5qDkAzMzMzMzMOQC2yne+nxgxAgZVDi2znC0B56SYxCKwKQAwCK4cW2QlARIts5/upCEA=",
          "dtype": "f8"
         }
        },
        {
         "customdata": {
          "bdata": "AQACAAMABAAFAAYABwAIAAkACgALAAwADQAOAA8AEAARABIAEwAUABUAFgAXABgAGQAaABsAHAAdAB4AHwAgACEAIgAkACUAJgAnACgAKgArACwALQAuADAAMQAyADMANAA1ADYANwA4ADkAOgA7ADwAPQA+AD8AQABCAEQARQBGAEcASABJAEoASwBMAE8AUQBSAFMAVABWAFkAWgBcAF0AXgBfAGAAYgBjAGQAZQBmAGcAaABqAG0AbwBwAHIAdAB1AHYAdwB7AH0AfwCBAA==",
          "dtype": "i2"
         },
         "hovertemplate": "Country: %{text}<br>Rank: %{customdata} out of 133<br>Unemployment Rate: %{x:.1f}%<br>Happiness: %{y:.2f}<extra></extra>",
         "mode": "markers",
         "name": "Unemployment Rate",
         "text": [
          "Finland",
          "Denmark",
          "Norway",
          "Iceland",
          "Netherlands",
          "Switzerland",
          "Sweden",
          "New Zealand",
          "Canada",
          "Austria",
          "Australia",
          "Costa Rica",
          "Israel",
          "Luxembourg",
          "United Kingdom",
          "Ireland",
          "Germany",
          "Belgium",
          "United States",
          "United Arab Emirates",
          "Malta",
          "Mexico",
          "France",
          "Chile",
          "Guatemala",
          "Saudi Arabia",
          "Qatar",
          "Spain",
          "Panama",
          "Brazil",
          "Uruguay",
          "Singapore",
          "El Salvador",
          "Italy",
          "Poland",
          "Uzbekistan",
          "Lithuania",
          "Colombia",
          "Slovenia",
          "Kosovo",
          "Argentina",
          "Romania",
          "Cyprus",
          "Ecuador",
          "Thailand",
          "Latvia",
          "Estonia",
          "Jamaica",
          "Mauritius",
          "Japan",
          "Honduras",
          "Kazakhstan",
          "Bolivia",
          "Hungary",
          "Paraguay",
          "Peru",
          "Portugal",
          "Pakistan",
          "Philippines",
          "Serbia",
          "Moldova",
          "Montenegro",
          "Croatia",
          "Dominican Republic",
          "Bosnia and Herzegovina",
          "Malaysia",
          "Belarus",
          "Greece",
          "Mongolia",
          "North Macedonia",
          "Nigeria",
          "Azerbaijan",
          "Lebanon",
          "Indonesia",
          "China",
          "Bhutan",
          "Bulgaria",
          "Jordan",
          "Benin",
          "South Africa",
          "Albania",
          "Cambodia",
          "Senegal",
          "Somalia",
          "Niger",
          "Burkina Faso",
          "Armenia",
          "Guinea",
          "Georgia",
          "Kenya",
          "Mauritania",
          "Tunisia",
          "Mali",
          "Sri Lanka",
          "Myanmar",
          "Ukraine",
          "Uganda",
          "Zambia",
          "Togo",
          "India",
          "Lesotho",
          "Zimbabwe",
          "Botswana",
          "Rwanda"
         ],
         "type": "scatter",
         "visible": false,
         "x": {
          "bdata": "SOF6FK7HGkDfT42XbhIUQEa28/3UeA1AdZMYBFYODEDVeOkmMQgLQPp+arx0kxFAokW28/1UG0BWDi2ynW8QQMP1KFyPwhZAPQrXo3A9EkDfT42XbpIUQHe+nxovnSVADAIrhxbZDUCR7Xw/NV4WQKjGSzeJQQ1AzczMzMzME0Dn+6nx0k0JQNv5fmq8dBVAJzEIrBxaDUDZzvdT46UCQGq8dJMYBA1AN4lBYOXQC0AUrkfhetQgQEa28/3U+B1AJQaBlUOLAUAlBoGVQ4sWQJqZmZmZmbk/9ihcj8I1LECJQWDl0KIZQKwcWmQ73ydAeekmMQisIUDNzMzMzMwIQK5H4XoUrhBAgZVDi2znI0CJQWDl0CIKQPYoXI/C9SFAhetRuB4FGUCPwvUoXI8kQGIQWDm0yBFAi2zn+6kROUBWDi2yna8jQLKd76fGSw9AH4XrUbieHEDl0CLb+X4OQLbz/dR46eY/c2iR7Xw/GUB1kxgEVg4SQKabxCCw8hNAbef7qfFSGUACK4cW2c4CQJhuEoPAyhZAMzMzMzMzE0Db+X5qvHQNQCcxCKwcWgtA4XoUrkdhGkDVeOkmMQgLQEJg5dAi2xlAUrgehetRE0BMN4lBYOUBQArXo3A9yiRA1XjpJjEI+D+oxks3iUEuQCuHFtnOdxpABoGVQ4tsGUD8qfHSTWIvQBSuR+F6FApAKVyPwvWoEEDsUbgehQsxQD81XrpJDCJARIts5/tpMUCkcD0K12MlQAAAAAAAABRAJzEIrByaJkC4HoXrUbgMQJqZmZmZmRRAw/UoXI/CBUDsUbgehesQQJMYBFYOzTBABoGVQ4ts8z8rhxbZznc8QDvfT42X7iZAVg4tsp3v3z+BlUOLbOcGQIcW2c730zJAoBov3SQG4T/2KFyPwvX4P0oMAiuHliNA30+Nl24SFEDhehSuRyEnQHWTGARWDhRAokW28/3UJEC6SQwCKycxQFK4HoXrUQpArkfhehSuEkA/NV66SQzaPxfZzvdTYyBAGy/dJAaBBED0/dR46SYWQH0/NV66SQBACtejcD0KGkDHSzeJQeAwQMuhRbbzfR1A8tJNYhAYNEBGtvP91HgmQA==",
          "dtype": "f8"
         },
         "y": {
          "bdata": "+n5qvHQTH0BmZmZmZmYeQJ7vp8ZLNx5AYOXQItv5HUDByqFFtvMdQOxRuB6F6x1ArBxaZDtfHUDufD81XjodQOkmMQisHB1AlkOLbOf7HEC28/3UeOkcQF66SQwCqxxAdZMYBFaOHEBcj8L1KFwcQJ7vp8ZLNxxAL90kBoEVHEBxPQrXo/AbQP7UeOkmsRtAxSCwcmiRG0DNzMzMzEwbQIGVQ4ts5xpA4XoUrkdhGkCR7Xw/NV4aQC2yne+nxhlAWDm0yHa+GUAAAAAAAIAZQOXQItv5fhlA0SLb+X5qGUBiEFg5tEgZQDMzMzMzMxlAeekmMQgsGUA/NV66SQwZQFCNl24SAxlAMQisHFrkGEDufD81XroYQBkEVg4tshhAf2q8dJOYGEAAAAAAAIAYQEa28/3UeBhAZmZmZmZmGEDy0k1iEFgYQEjhehSuRxhAyXa+nxovGEDpJjEIrBwYQNV46SYxCBhAw/UoXI/CF0DfT42XbpIXQI/C9ShcjxdAWmQ730+NF0AlBoGVQ4sXQHE9CtejcBdAI9v5fmo8F0AEVg4tsh0XQNV46SYxCBdARrbz/dT4FkB9PzVeuskWQBKDwMqhxRZA6SYxCKycFkCgGi/dJIYWQLbz/dR4aRZABFYOLbIdFkBkO99PjRcWQO58PzVeuhVAMzMzMzOzFUAlBoGVQ4sVQEJg5dAiWxVAmG4Sg8BKFUDZzvdT4yUVQKRwPQrXIxVAf2q8dJMYFUCPwvUoXA8VQKJFtvP91BRAfT81XrrJFED4U+Olm8QUQN0kBoGVwxRAhxbZzvdTFEAlBoGVQwsUQDm0yHa+nxNA1XjpJjGIE0AX2c73U+MSQMdLN4lB4BJAzczMzMzMEkDTTWIQWLkSQHnpJjEIrBJAUI2XbhKDEkAMAiuHFlkSQCPb+X5qPBJAiUFg5dAiEkD6fmq8dBMSQPCnxks3CRJA9ihcj8L1EUDy0k1iENgRQI/C9ShcjxFAEFg5tMh2EUBxPQrXo3ARQIcW2c73UxFAqMZLN4nBEEAhsHJokW0QQNejcD0KVxBAj8L1KFwPEEDRItv5fmoOQOf7qfHSTQ1AgZVDi2znC0B56SYxCKwKQA==",
          "dtype": "f8"
         }
        },
        {
         "customdata": {
          "bdata": "AQACAAMABAAFAAYABwAIAAkACgALAAwADQAOAA8AEAARABIAEwAUABUAFgAXABgAGQAaABsAHAAdAB4AHwAgACEAIgAjACQAJQAmACcAKAApACoAKwAsAC0ALgAvADAAMQAyADMANAA1ADYANwA4ADkAOgA7ADwAPQA+AD8AQABBAEIAQwBEAEUARgBHAEgASQBKAEsATABNAE4ATwBPAFEAUgBTAFQAVQBWAFcAWABZAFoAWwBcAF0AXgBfAGAAYQBiAGMAZABlAGYAZwBoAGkAagBrAGwAbQBuAG8AcABxAHIAcwB0AHUAdgB3AHgAeQB6AHsAfAB9AH4AfwCAAIEAggCDAIQAhQA=",
          "dtype": "i2"
         },
         "hovertemplate": "Country: %{text}<br>Rank: %{customdata} out of 133<br>Life Expectancy: %{x:.1f} years<br>Happiness: %{y:.2f}<extra></extra>",
         "mode": "markers",
         "name": "Life Expectancy",
         "text": [
          "Finland",
          "Denmark",
          "Norway",
          "Iceland",
          "Netherlands",
          "Switzerland",
          "Sweden",
          "New Zealand",
          "Canada",
          "Austria",
          "Australia",
          "Costa Rica",
          "Israel",
          "Luxembourg",
          "United Kingdom",
          "Ireland",
          "Germany",
          "Belgium",
          "United States",
          "United Arab Emirates",
          "Malta",
          "Mexico",
          "France",
          "Chile",
          "Guatemala",
          "Saudi Arabia",
          "Qatar",
          "Spain",
          "Panama",
          "Brazil",
          "Uruguay",
          "Singapore",
          "El Salvador",
          "Italy",
          "Bahrain",
          "Poland",
          "Uzbekistan",
          "Lithuania",
          "Colombia",
          "Slovenia",
          "Nicaragua",
          "Kosovo",
          "Argentina",
          "Romania",
          "Cyprus",
          "Ecuador",
          "Kuwait",
          "Thailand",
          "Latvia",
          "Estonia",
          "Jamaica",
          "Mauritius",
          "Japan",
          "Honduras",
          "Kazakhstan",
          "Bolivia",
          "Hungary",
          "Paraguay",
          "Peru",
          "Portugal",
          "Pakistan",
          "Philippines",
          "Serbia",
          "Moldova",
          "Libya",
          "Montenegro",
          "Tajikistan",
          "Croatia",
          "Dominican Republic",
          "Bosnia and Herzegovina",
          "Malaysia",
          "Belarus",
          "Greece",
          "Mongolia",
          "North Macedonia",
          "Nigeria",
          "Turkmenistan",
          "Algeria",
          "Morocco",
          "Azerbaijan",
          "Lebanon",
          "Indonesia",
          "China",
          "Bhutan",
          "Cameroon",
          "Bulgaria",
          "Ghana",
          "Nepal",
          "Jordan",
          "Benin",
          "Gabon",
          "South Africa",
          "Albania",
          "Cambodia",
          "Senegal",
          "Somalia",
          "Namibia",
          "Niger",
          "Burkina Faso",
          "Armenia",
          "Guinea",
          "Georgia",
          "Kenya",
          "Mauritania",
          "Mozambique",
          "Tunisia",
          "Bangladesh",
          "Iraq",
          "Mali",
          "Sierra Leone",
          "Sri Lanka",
          "Myanmar",
          "Chad",
          "Ukraine",
          "Ethiopia",
          "Uganda",
          "Zambia",
          "Togo",
          "India",
          "Liberia",
          "Comoros",
          "Madagascar",
          "Lesotho",
          "Burundi",
          "Zimbabwe",
          "Haiti",
          "Botswana",
          "Malawi",
          "Rwanda",
          "Tanzania",
          "Afghanistan",
          "Central African Republic",
          "South Sudan"
         ],
         "type": "scatter",
         "visible": false,
         "x": {
          "bdata": "X4TuReh+VEB7DM7H4FxUQKGK1alYvVRAKFanYnXKVEBG43I0LodUQFuYnoXp+VRA6WNwPgbHVECjcTkal4NUQB2Wp2F5ilRA2JqUrUl5VECamZmZmblUQG3n+6nxElRA9DE4H4OzVEBpXI7G5ahUQE0urbGfV1RAMUzPwvSsVEAVtStRu1JUQD8B+xOwf1RAVLYmZWuyU0CgGi/dJKZUQG1XonYlqlRAUrgeheuhUkBWrE7F6rRUQNv5fmq8FFRAN4lBYOXoUUB56SYxCJRTQBSuR+F6vFRAF6tTsTr1VEA3iUFg5aBTQLKd76fG81JA1XjpJjFgU0ClZ2F6FuZUQGZmZmZm7lFAo4D9CdjfVECgGi/dJB5UQFuYnoXpeVNAy6FFtvMFUkCTtyF5GxJTQJhuEoPAMlNAgPgdiN9hVEA3iUFg5XBSQA4tsp3vT1NAke18PzU2U0CF5G1I3uZSQJMYBFYOXVRA/Knx0k1SU0DAB+F7EH5UQPhT46WbTFNAuhyNy9HYUkCO2pWoXalTQDVeukkM4lFAoIPxORiPUkDE5GxMzhZVQA4tsp3vB1JAJzEIrBxqUkAUrkfhevRQQDEuR+NyFFNAmG4Sg8BqUkCamZmZmRFTQA7TszA9a1RALbKd76euUEDsUbgehWtRQD8QvwPx+1JA3SQGgZWLUUBOYhBYOTxSQCxRuxK1K1NAIbByaJG9UUCMxuVoXI5TQLpJDAIrR1JA8KfGSzdZU0CamZmZmflSQPBF6F6EjlJAaVyOxuVoVEBicjYmZ8NRQMvlaFyOJlNA/tR46SaBSkBSuB6F61lRQM/3U+Ol61JASOF6FK6PUkDD9Shcj1JSQFpkO99PjVNAdZMYBFaWUUBcj8L1KHxTQLgehetRAFJAKVyPwvXYTkBG43I0LsdSQIXrUbgeHVBAQmDl0CJTUUCPwvUoXDdTQIts5/up8U1AIbByaJHVUEAGgZVDi4RQQNnO91Pj3VNA46WbxCCIUUCYbhKDwOpQQB1aZDvfn0xA2c73U+PFT0CHFtnO9wNOQGQ730+NF05AL0fjcjQOU0CNl24Sg7BNQMP1KFyPilJA1XjpJjF4T0ApXI/C9ehQQLpJDAIrp05AdZMYBFbmUkAAAAAAAChSQEjhehSuz1FAsp3vp8abTUCWQ4ts58tNQOkmMQisLFNAaJHtfD+dUEDJdr6fGn9KQHsUrkfhelJAgZVDi2xvUEAtsp3vp5ZQQKJFtvP9dE9A16NwPQqHTkA5tMh2vq9RQARWDi2ynU5A7nw/NV5qUECNl24Sg8BPQB1aZDvfn0tA16NwPQoXT0BI4XoUrodOQKJFtvP9FFBAppvEILDKUEBI4XoUrj9QQE5iEFg5rFBAnMQgsHKAUECcxCCwcnhPQEjhehSuhz9AjZduEoMQTUA=",
          "dtype": "f8"
         },
         "y": {
          "bdata": "+n5qvHQTH0BmZmZmZmYeQJ7vp8ZLNx5AYOXQItv5HUDByqFFtvMdQOxRuB6F6x1ArBxaZDtfHUDufD81XjodQOkmMQisHB1AlkOLbOf7HEC28/3UeOkcQF66SQwCqxxAdZMYBFaOHEBcj8L1KFwcQJ7vp8ZLNxxAL90kBoEVHEBxPQrXo/AbQP7UeOkmsRtAxSCwcmiRG0DNzMzMzEwbQIGVQ4ts5xpA4XoUrkdhGkCR7Xw/NV4aQC2yne+nxhlAWDm0yHa+GUAAAAAAAIAZQOXQItv5fhlA0SLb+X5qGUBiEFg5tEgZQDMzMzMzMxlAeekmMQgsGUA/NV66SQwZQFCNl24SAxlAMQisHFrkGECyne+nxssYQO58PzVeuhhAGQRWDi2yGEB/arx0k5gYQAAAAAAAgBhARrbz/dR4GEDsUbgehWsYQGZmZmZmZhhA8tJNYhBYGEBI4XoUrkcYQMl2vp8aLxhA6SYxCKwcGEAv3SQGgRUYQNV46SYxCBhAw/UoXI/CF0DfT42XbpIXQI/C9ShcjxdAWmQ730+NF0AlBoGVQ4sXQHE9CtejcBdAI9v5fmo8F0AEVg4tsh0XQNV46SYxCBdARrbz/dT4FkB9PzVeuskWQBKDwMqhxRZA6SYxCKycFkCgGi/dJIYWQLbz/dR4aRZABFYOLbIdFkCamZmZmRkWQGQ730+NFxZAke18PzXeFUDufD81XroVQDMzMzMzsxVAJQaBlUOLFUBCYOXQIlsVQJhuEoPAShVA2c73U+MlFUCkcD0K1yMVQH9qvHSTGBVAj8L1KFwPFUCwcmiR7fwUQPLSTWIQ2BRAokW28/3UFECiRbbz/dQUQH0/NV66yRRA+FPjpZvEFEDdJAaBlcMUQIcW2c73UxRAkxgEVg4tFEAlBoGVQwsUQJZDi2zn+xNA9P3UeOmmE0A5tMh2vp8TQNV46SYxiBNAGQRWDi0yE0AX2c73U+MSQMdLN4lB4BJAzczMzMzMEkDTTWIQWLkSQHnpJjEIrBJAdZMYBFaOEkBQjZduEoMSQAwCK4cWWRJAI9v5fmo8EkCJQWDl0CISQPp+arx0ExJA8KfGSzcJEkD2KFyPwvURQHe+nxov3RFA8tJNYhDYEUBt5/up8dIRQHNoke18vxFAj8L1KFyPEUDl0CLb+X4RQBBYObTIdhFAcT0K16NwEUBmZmZmZmYRQIcW2c73UxFAvp8aL90kEUCoxks3icEQQCGwcmiRbRBA16NwPQpXEECPwvUoXA8QQM3MzMzMzA9AYhBYObTID0AQWDm0yHYPQNEi2/l+ag5AMzMzMzMzDkDn+6nx0k0NQC2yne+nxgxAgZVDi2znC0BI4XoUrkcLQHnpJjEIrApADAIrhxbZCUA5tMh2vp8JQESLbOf7qQhAbef7qfHSBkA=",
          "dtype": "f8"
         }
        }
       ],
       "layout": {
        "height": 600,
        "margin": {
         "t": 80
        },
        "sliders": [
         {
          "active": 0,
          "currentvalue": {
           "prefix": "Metric: "
          },
          "pad": {
           "t": 50
          },
          "steps": [
           {
            "args": [
             {
              "visible": [
               true,
               false,
               false
              ]
             },
             {
              "title": "Happiness vs Education Expenditure",
              "xaxis": {
               "title": "Education Expenditure (% of GDP)",
               "type": "linear"
              },
              "yaxis": {
               "title": "Happiness"
              }
             }
            ],
            "label": "Education Expenditure",
            "method": "update"
           },
           {
            "args": [
             {
              "visible": [
               false,
               true,
               false
              ]
             },
             {
              "title": "Happiness vs Unemployment Rate",
              "xaxis": {
               "title": "Unemployment Rate (%)",
               "type": "linear"
              },
              "yaxis": {
               "title": "Happiness"
              }
             }
            ],
            "label": "Unemployment Rate",
            "method": "update"
           },
           {
            "args": [
             {
              "visible": [
               false,
               false,
               true
              ]
             },
             {
              "title": "Happiness vs Life Expectancy",
              "xaxis": {
               "title": "Life Expectancy (years)",
               "type": "linear"
              },
              "yaxis": {
               "title": "Happiness"
              }
             }
            ],
            "label": "Life Expectancy",
            "method": "update"
           }
          ]
         }
        ],
        "template": {
         "data": {
          "bar": [
           {
            "error_x": {
             "color": "#2a3f5f"
            },
            "error_y": {
             "color": "#2a3f5f"
            },
            "marker": {
             "line": {
              "color": "#E5ECF6",
              "width": 0.5
             },
             "pattern": {
              "fillmode": "overlay",
              "size": 10,
              "solidity": 0.2
             }
            },
            "type": "bar"
           }
          ],
          "barpolar": [
           {
            "marker": {
             "line": {
              "color": "#E5ECF6",
              "width": 0.5
             },
             "pattern": {
              "fillmode": "overlay",
              "size": 10,
              "solidity": 0.2
             }
            },
            "type": "barpolar"
           }
          ],
          "carpet": [
           {
            "aaxis": {
             "endlinecolor": "#2a3f5f",
             "gridcolor": "white",
             "linecolor": "white",
             "minorgridcolor": "white",
             "startlinecolor": "#2a3f5f"
            },
            "baxis": {
             "endlinecolor": "#2a3f5f",
             "gridcolor": "white",
             "linecolor": "white",
             "minorgridcolor": "white",
             "startlinecolor": "#2a3f5f"
            },
            "type": "carpet"
           }
          ],
          "choropleth": [
           {
            "colorbar": {
             "outlinewidth": 0,
             "ticks": ""
            },
            "type": "choropleth"
           }
          ],
          "contour": [
           {
            "colorbar": {
             "outlinewidth": 0,
             "ticks": ""
            },
            "colorscale": [
             [
              0,
              "#0d0887"
             ],
             [
              0.1111111111111111,
              "#46039f"
             ],
             [
              0.2222222222222222,
              "#7201a8"
             ],
             [
              0.3333333333333333,
              "#9c179e"
             ],
             [
              0.4444444444444444,
              "#bd3786"
             ],
             [
              0.5555555555555556,
              "#d8576b"
             ],
             [
              0.6666666666666666,
              "#ed7953"
             ],
             [
              0.7777777777777778,
              "#fb9f3a"
             ],
             [
              0.8888888888888888,
              "#fdca26"
             ],
             [
              1,
              "#f0f921"
             ]
            ],
            "type": "contour"
           }
          ],
          "contourcarpet": [
           {
            "colorbar": {
             "outlinewidth": 0,
             "ticks": ""
            },
            "type": "contourcarpet"
           }
          ],
          "heatmap": [
           {
            "colorbar": {
             "outlinewidth": 0,
             "ticks": ""
            },
            "colorscale": [
             [
              0,
              "#0d0887"
             ],
             [
              0.1111111111111111,
              "#46039f"
             ],
             [
              0.2222222222222222,
              "#7201a8"
             ],
             [
              0.3333333333333333,
              "#9c179e"
             ],
             [
              0.4444444444444444,
              "#bd3786"
             ],
             [
              0.5555555555555556,
              "#d8576b"
             ],
             [
              0.6666666666666666,
              "#ed7953"
             ],
             [
              0.7777777777777778,
              "#fb9f3a"
             ],
             [
              0.8888888888888888,
              "#fdca26"
             ],
             [
              1,
              "#f0f921"
             ]
            ],
            "type": "heatmap"
           }
          ],
          "histogram": [
           {
            "marker": {
             "pattern": {
              "fillmode": "overlay",
              "size": 10,
              "solidity": 0.2
             }
            },
            "type": "histogram"
           }
          ],
          "histogram2d": [
           {
            "colorbar": {
             "outlinewidth": 0,
             "ticks": ""
            },
            "colorscale": [
             [
              0,
              "#0d0887"
             ],
             [
              0.1111111111111111,
              "#46039f"
             ],
             [
              0.2222222222222222,
              "#7201a8"
             ],
             [
              0.3333333333333333,
              "#9c179e"
             ],
             [
              0.4444444444444444,
              "#bd3786"
             ],
             [
              0.5555555555555556,
              "#d8576b"
             ],
             [
              0.6666666666666666,
              "#ed7953"
             ],
             [
              0.7777777777777778,
              "#fb9f3a"
             ],
             [
              0.8888888888888888,
              "#fdca26"
             ],
             [
              1,
              "#f0f921"
             ]
            ],
            "type": "histogram2d"
           }
          ],
          "histogram2dcontour": [
           {
            "colorbar": {
             "outlinewidth": 0,
             "ticks": ""
            },
            "colorscale": [
             [
              0,
              "#0d0887"
             ],
             [
              0.1111111111111111,
              "#46039f"
             ],
             [
              0.2222222222222222,
              "#7201a8"
             ],
             [
              0.3333333333333333,
              "#9c179e"
             ],
             [
              0.4444444444444444,
              "#bd3786"
             ],
             [
              0.5555555555555556,
              "#d8576b"
             ],
             [
              0.6666666666666666,
              "#ed7953"
             ],
             [
              0.7777777777777778,
              "#fb9f3a"
             ],
             [
              0.8888888888888888,
              "#fdca26"
             ],
             [
              1,
              "#f0f921"
             ]
            ],
            "type": "histogram2dcontour"
           }
          ],
          "mesh3d": [
           {
            "colorbar": {
             "outlinewidth": 0,
             "ticks": ""
            },
            "type": "mesh3d"
           }
          ],
          "parcoords": [
           {
            "line": {
             "colorbar": {
              "outlinewidth": 0,
              "ticks": ""
             }
            },
            "type": "parcoords"
           }
          ],
          "pie": [
           {
            "automargin": true,
            "type": "pie"
           }
          ],
          "scatter": [
           {
            "fillpattern": {
             "fillmode": "overlay",
             "size": 10,
             "solidity": 0.2
            },
            "type": "scatter"
           }
          ],
          "scatter3d": [
           {
            "line": {
             "colorbar": {
              "outlinewidth": 0,
              "ticks": ""
             }
            },
            "marker": {
             "colorbar": {
              "outlinewidth": 0,
              "ticks": ""
             }
            },
            "type": "scatter3d"
           }
          ],
          "scattercarpet": [
           {
            "marker": {
             "colorbar": {
              "outlinewidth": 0,
              "ticks": ""
             }
            },
            "type": "scattercarpet"
           }
          ],
          "scattergeo": [
           {
            "marker": {
             "colorbar": {
              "outlinewidth": 0,
              "ticks": ""
             }
            },
            "type": "scattergeo"
           }
          ],
          "scattergl": [
           {
            "marker": {
             "colorbar": {
              "outlinewidth": 0,
              "ticks": ""
             }
            },
            "type": "scattergl"
           }
          ],
          "scattermap": [
           {
            "marker": {
             "colorbar": {
              "outlinewidth": 0,
              "ticks": ""
             }
            },
            "type": "scattermap"
           }
          ],
          "scattermapbox": [
           {
            "marker": {
             "colorbar": {
              "outlinewidth": 0,
              "ticks": ""
             }
            },
            "type": "scattermapbox"
           }
          ],
          "scatterpolar": [
           {
            "marker": {
             "colorbar": {
              "outlinewidth": 0,
              "ticks": ""
             }
            },
            "type": "scatterpolar"
           }
          ],
          "scatterpolargl": [
           {
            "marker": {
             "colorbar": {
              "outlinewidth": 0,
              "ticks": ""
             }
            },
            "type": "scatterpolargl"
           }
          ],
          "scatterternary": [
           {
            "marker": {
             "colorbar": {
              "outlinewidth": 0,
              "ticks": ""
             }
            },
            "type": "scatterternary"
           }
          ],
          "surface": [
           {
            "colorbar": {
             "outlinewidth": 0,
             "ticks": ""
            },
            "colorscale": [
             [
              0,
              "#0d0887"
             ],
             [
              0.1111111111111111,
              "#46039f"
             ],
             [
              0.2222222222222222,
              "#7201a8"
             ],
             [
              0.3333333333333333,
              "#9c179e"
             ],
             [
              0.4444444444444444,
              "#bd3786"
             ],
             [
              0.5555555555555556,
              "#d8576b"
             ],
             [
              0.6666666666666666,
              "#ed7953"
             ],
             [
              0.7777777777777778,
              "#fb9f3a"
             ],
             [
              0.8888888888888888,
              "#fdca26"
             ],
             [
              1,
              "#f0f921"
             ]
            ],
            "type": "surface"
           }
          ],
          "table": [
           {
            "cells": {
             "fill": {
              "color": "#EBF0F8"
             },
             "line": {
              "color": "white"
             }
            },
            "header": {
             "fill": {
              "color": "#C8D4E3"
             },
             "line": {
              "color": "white"
             }
            },
            "type": "table"
           }
          ]
         },
         "layout": {
          "annotationdefaults": {
           "arrowcolor": "#2a3f5f",
           "arrowhead": 0,
           "arrowwidth": 1
          },
          "autotypenumbers": "strict",
          "coloraxis": {
           "colorbar": {
            "outlinewidth": 0,
            "ticks": ""
           }
          },
          "colorscale": {
           "diverging": [
            [
             0,
             "#8e0152"
            ],
            [
             0.1,
             "#c51b7d"
            ],
            [
             0.2,
             "#de77ae"
            ],
            [
             0.3,
             "#f1b6da"
            ],
            [
             0.4,
             "#fde0ef"
            ],
            [
             0.5,
             "#f7f7f7"
            ],
            [
             0.6,
             "#e6f5d0"
            ],
            [
             0.7,
             "#b8e186"
            ],
            [
             0.8,
             "#7fbc41"
            ],
            [
             0.9,
             "#4d9221"
            ],
            [
             1,
             "#276419"
            ]
           ],
           "sequential": [
            [
             0,
             "#0d0887"
            ],
            [
             0.1111111111111111,
             "#46039f"
            ],
            [
             0.2222222222222222,
             "#7201a8"
            ],
            [
             0.3333333333333333,
             "#9c179e"
            ],
            [
             0.4444444444444444,
             "#bd3786"
            ],
            [
             0.5555555555555556,
             "#d8576b"
            ],
            [
             0.6666666666666666,
             "#ed7953"
            ],
            [
             0.7777777777777778,
             "#fb9f3a"
            ],
            [
             0.8888888888888888,
             "#fdca26"
            ],
            [
             1,
             "#f0f921"
            ]
           ],
           "sequentialminus": [
            [
             0,
             "#0d0887"
            ],
            [
             0.1111111111111111,
             "#46039f"
            ],
            [
             0.2222222222222222,
             "#7201a8"
            ],
            [
             0.3333333333333333,
             "#9c179e"
            ],
            [
             0.4444444444444444,
             "#bd3786"
            ],
            [
             0.5555555555555556,
             "#d8576b"
            ],
            [
             0.6666666666666666,
             "#ed7953"
            ],
            [
             0.7777777777777778,
             "#fb9f3a"
            ],
            [
             0.8888888888888888,
             "#fdca26"
            ],
            [
             1,
             "#f0f921"
            ]
           ]
          },
          "colorway": [
           "#636efa",
           "#EF553B",
           "#00cc96",
           "#ab63fa",
           "#FFA15A",
           "#19d3f3",
           "#FF6692",
           "#B6E880",
           "#FF97FF",
           "#FECB52"
          ],
          "font": {
           "color": "#2a3f5f"
          },
          "geo": {
           "bgcolor": "white",
           "lakecolor": "white",
           "landcolor": "#E5ECF6",
           "showlakes": true,
           "showland": true,
           "subunitcolor": "white"
          },
          "hoverlabel": {
           "align": "left"
          },
          "hovermode": "closest",
          "mapbox": {
           "style": "light"
          },
          "paper_bgcolor": "white",
          "plot_bgcolor": "#E5ECF6",
          "polar": {
           "angularaxis": {
            "gridcolor": "white",
            "linecolor": "white",
            "ticks": ""
           },
           "bgcolor": "#E5ECF6",
           "radialaxis": {
            "gridcolor": "white",
            "linecolor": "white",
            "ticks": ""
           }
          },
          "scene": {
           "xaxis": {
            "backgroundcolor": "#E5ECF6",
            "gridcolor": "white",
            "gridwidth": 2,
            "linecolor": "white",
            "showbackground": true,
            "ticks": "",
            "zerolinecolor": "white"
           },
           "yaxis": {
            "backgroundcolor": "#E5ECF6",
            "gridcolor": "white",
            "gridwidth": 2,
            "linecolor": "white",
            "showbackground": true,
            "ticks": "",
            "zerolinecolor": "white"
           },
           "zaxis": {
            "backgroundcolor": "#E5ECF6",
            "gridcolor": "white",
            "gridwidth": 2,
            "linecolor": "white",
            "showbackground": true,
            "ticks": "",
            "zerolinecolor": "white"
           }
          },
          "shapedefaults": {
           "line": {
            "color": "#2a3f5f"
           }
          },
          "ternary": {
           "aaxis": {
            "gridcolor": "white",
            "linecolor": "white",
            "ticks": ""
           },
           "baxis": {
            "gridcolor": "white",
            "linecolor": "white",
            "ticks": ""
           },
           "bgcolor": "#E5ECF6",
           "caxis": {
            "gridcolor": "white",
            "linecolor": "white",
            "ticks": ""
           }
          },
          "title": {
           "x": 0.05
          },
          "xaxis": {
           "automargin": true,
           "gridcolor": "white",
           "linecolor": "white",
           "ticks": "",
           "title": {
            "standoff": 15
           },
           "zerolinecolor": "white",
           "zerolinewidth": 2
          },
          "yaxis": {
           "automargin": true,
           "gridcolor": "white",
           "linecolor": "white",
           "ticks": "",
           "title": {
            "standoff": 15
           },
           "zerolinecolor": "white",
           "zerolinewidth": 2
          }
         }
        },
        "title": {
         "text": "Happiness vs Education Expenditure"
        },
        "width": 900
       }
      },
      "text/html": [
       "<div>            <script src=\"https://cdnjs.cloudflare.com/ajax/libs/mathjax/2.7.5/MathJax.js?config=TeX-AMS-MML_SVG\"></script><script type=\"text/javascript\">if (window.MathJax && window.MathJax.Hub && window.MathJax.Hub.Config) {window.MathJax.Hub.Config({SVG: {font: \"STIX-Web\"}});}</script>                <script type=\"text/javascript\">window.PlotlyConfig = {MathJaxConfig: 'local'};</script>\n",
       "        <script charset=\"utf-8\" src=\"https://cdn.plot.ly/plotly-3.0.1.min.js\"></script>                <div id=\"136e30dd-5627-47e6-92ef-d501040b2f43\" class=\"plotly-graph-div\" style=\"height:600px; width:900px;\"></div>            <script type=\"text/javascript\">                window.PLOTLYENV=window.PLOTLYENV || {};                                if (document.getElementById(\"136e30dd-5627-47e6-92ef-d501040b2f43\")) {                    Plotly.newPlot(                        \"136e30dd-5627-47e6-92ef-d501040b2f43\",                        [{\"customdata\":{\"dtype\":\"i2\",\"bdata\":\"AQACAAMABAAFAAYABwAIAAkACgALAAwADQAOAA8AEAARABIAEwAUABUAFwAYABkAGwAcAB0AHgAfACAAIQAiACMAJAAlACYAKAApACsALAAtAC4ALwAwADEAMgAzADQANQA2ADcAOAA5ADoAOwA8AD0APgA\\u002fAEAAQwBEAEUARgBHAEgASQBKAEwATQBOAE8ATwBRAFIAUwBUAFUAVgBXAFgAWQBaAFsAXABdAF4AXwBhAGIAYwBkAGUAZgBnAGgAaQBqAGsAbQBuAHAAcQByAHMAdAB1AHYAdwB4AHoAewB8AH4AfwCBAIIAhAA=\"},\"hovertemplate\":\"Country: %{text}\\u003cbr\\u003eRank: %{customdata} out of 133\\u003cbr\\u003eEducation Expenditure: %{x:.1f}% of GDP\\u003cbr\\u003eHappiness: %{y:.2f}\\u003cextra\\u003e\\u003c\\u002fextra\\u003e\",\"mode\":\"markers\",\"name\":\"Education Expenditure\",\"text\":[\"Finland\",\"Denmark\",\"Norway\",\"Iceland\",\"Netherlands\",\"Switzerland\",\"Sweden\",\"New Zealand\",\"Canada\",\"Austria\",\"Australia\",\"Costa Rica\",\"Israel\",\"Luxembourg\",\"United Kingdom\",\"Ireland\",\"Germany\",\"Belgium\",\"United States\",\"United Arab Emirates\",\"Malta\",\"France\",\"Chile\",\"Guatemala\",\"Qatar\",\"Spain\",\"Panama\",\"Brazil\",\"Uruguay\",\"Singapore\",\"El Salvador\",\"Italy\",\"Bahrain\",\"Poland\",\"Uzbekistan\",\"Lithuania\",\"Slovenia\",\"Nicaragua\",\"Argentina\",\"Romania\",\"Cyprus\",\"Ecuador\",\"Kuwait\",\"Thailand\",\"Latvia\",\"Estonia\",\"Jamaica\",\"Mauritius\",\"Japan\",\"Honduras\",\"Kazakhstan\",\"Bolivia\",\"Hungary\",\"Paraguay\",\"Peru\",\"Portugal\",\"Pakistan\",\"Philippines\",\"Serbia\",\"Moldova\",\"Tajikistan\",\"Croatia\",\"Dominican Republic\",\"Bosnia and Herzegovina\",\"Malaysia\",\"Belarus\",\"Greece\",\"Mongolia\",\"Nigeria\",\"Turkmenistan\",\"Algeria\",\"Morocco\",\"Azerbaijan\",\"Lebanon\",\"Indonesia\",\"China\",\"Bhutan\",\"Cameroon\",\"Bulgaria\",\"Ghana\",\"Nepal\",\"Jordan\",\"Benin\",\"Gabon\",\"South Africa\",\"Albania\",\"Cambodia\",\"Senegal\",\"Namibia\",\"Niger\",\"Burkina Faso\",\"Armenia\",\"Guinea\",\"Georgia\",\"Kenya\",\"Mauritania\",\"Mozambique\",\"Tunisia\",\"Bangladesh\",\"Mali\",\"Sierra Leone\",\"Myanmar\",\"Chad\",\"Ukraine\",\"Ethiopia\",\"Uganda\",\"Zambia\",\"Togo\",\"India\",\"Liberia\",\"Madagascar\",\"Lesotho\",\"Burundi\",\"Haiti\",\"Botswana\",\"Rwanda\",\"Tanzania\",\"Central African Republic\"],\"visible\":true,\"x\":{\"dtype\":\"f8\",\"bdata\":\"AgAAAPWqGUABAADgKwUdQP\\u002f\\u002f\\u002fz9PdR9AAAAAILtnHkAFAABgsqMUQPz\\u002f\\u002fz+8DhRAAQAAoNWNHkD7\\u002f\\u002f9fQLYUQP7\\u002f\\u002f\\u002f96FxNAAwAAYATfFED7\\u002f\\u002f9\\u002fywgWQAIAAEDL8xpAAwAAIHcqGED5\\u002f\\u002f+feOMNQAUAAIBtCxVABwAAYI5eCkD8\\u002f\\u002f\\u002ffSnYUQPz\\u002f\\u002fz\\u002f8VRlABAAAAHPUE0D4\\u002f\\u002f+\\u002fteEOQP\\u002f\\u002f\\u002fz\\u002fvmBNA\\u002fP\\u002f\\u002fv+9qFUD8\\u002f\\u002f9fV4EWQAYAAOAziwlAAQAAQCRuBkACAADAvusQQAUAAAARvwhABAAA4JfaF0D7\\u002f\\u002f9\\u002fa4MSQPr\\u002f\\u002f18J1gVACgAAIM0YC0D+\\u002f\\u002f9\\u002fjmEQQAYAAICrEwNABAAAABq3EkABAABgby4ZQPn\\u002f\\u002f\\u002f95tg9AAQAAQO2QE0AAAABgUWYSQAQAAGArFhNA\\u002f\\u002f\\u002f\\u002fHx2JDED7\\u002f\\u002f\\u002ffs9kUQP3\\u002f\\u002f7+t+xBABQAAgF3pGkAAAACgfi0IQPr\\u002f\\u002f99MvhFA+\\u002f\\u002f\\u002ff6sKFUD+\\u002f\\u002f8\\u002fkacUQAIAAAD1KhJAAQAA4CI+CUD9\\u002f\\u002f+\\u002f1roXQAQAAECg1ApA\\u002fv\\u002f\\u002fv5wuIEABAAAAR+YQQPr\\u002f\\u002fx8s6wtA\\u002fv\\u002f\\u002fH1aUDkD9\\u002f\\u002f\\u002f\\u002fI4USQP3\\u002f\\u002f78muAFA\\u002fv\\u002f\\u002fP4hCC0D4\\u002f\\u002f\\u002ffh+4MQAQAAEAw5xhA\\u002fv\\u002f\\u002fH+bvFUD2\\u002f\\u002f\\u002ffUlwPQP3\\u002f\\u002f5\\u002fLKxBAAAAAYJEtEED9\\u002f\\u002f\\u002ffGNYPQAEAAGD\\u002f6hNA9f\\u002f\\u002f32SwDED7\\u002f\\u002f+fDTgNQAEAAOBR8dY\\u002fAQAA4OL2CEACAACgLE0WQAMAAMBVAxRA+\\u002f\\u002f\\u002f32NpCUAGAAAAWM0EQAQAAIBb3O4\\u002f\\u002f\\u002f\\u002f\\u002f\\u002f9E8EEAEAABAEAoSQPj\\u002f\\u002f\\u002f8SYQhA\\u002fv\\u002f\\u002ff87LEEADAABgfTkJQAIAAKCs4gtABAAAAGPoB0D5\\u002f\\u002f9fu7gHQP7\\u002f\\u002fx+W\\u002fgZA+\\u002f\\u002f\\u002fP3WlF0D2\\u002f\\u002f+fdVQPQAMAAODwmgZA\\u002f\\u002f\\u002f\\u002f3x0kFEABAADgIqUiQAYAAKC2NQxAAgAAgOigFUD9\\u002f\\u002f+\\u002fRpMEQPn\\u002f\\u002f3\\u002fmuv0\\u002f+\\u002f\\u002f\\u002fn42jDkAEAADgjn4VQOz\\u002f\\u002f7++K\\u002f0\\u002fBQAAgEQlGUD\\u002f\\u002f\\u002f\\u002ff5rEYQPf\\u002f\\u002fx\\u002f35vo\\u002f9v\\u002f\\u002f\\u002f71wDEAFAACAvckdQO3\\u002f\\u002f18E\\u002f\\u002f8\\u002fAgAAQMv6AkD\\u002f\\u002f\\u002f8f5MMVQP\\u002f\\u002f\\u002f\\u002f9o7BFAAQAA4Ft3AkADAAAgR6wRQAEAACCCzhBABgAAALgtD0AEAACAFlIBQAsAAABpGwhABAAAALrGHED+\\u002f\\u002f8\\u002fAWMVQAUAAECOJvw\\u002f\\u002fv\\u002f\\u002fP0nMIEALAABg0egJQAEAACBSxgxABQAAQGdJ\\u002fD8=\"},\"y\":{\"dtype\":\"f8\",\"bdata\":\"+n5qvHQTH0BmZmZmZmYeQJ7vp8ZLNx5AYOXQItv5HUDByqFFtvMdQOxRuB6F6x1ArBxaZDtfHUDufD81XjodQOkmMQisHB1AlkOLbOf7HEC28\\u002f3UeOkcQF66SQwCqxxAdZMYBFaOHEBcj8L1KFwcQJ7vp8ZLNxxAL90kBoEVHEBxPQrXo\\u002fAbQP7UeOkmsRtAxSCwcmiRG0DNzMzMzEwbQIGVQ4ts5xpAke18PzVeGkAtsp3vp8YZQFg5tMh2vhlA5dAi2\\u002fl+GUDRItv5fmoZQGIQWDm0SBlAMzMzMzMzGUB56SYxCCwZQD81XrpJDBlAUI2XbhIDGUAxCKwcWuQYQLKd76fGyxhA7nw\\u002fNV66GEAZBFYOLbIYQH9qvHSTmBhARrbz\\u002fdR4GEDsUbgehWsYQPLSTWIQWBhASOF6FK5HGEDJdr6fGi8YQOkmMQisHBhAL90kBoEVGEDVeOkmMQgYQMP1KFyPwhdA30+Nl26SF0CPwvUoXI8XQFpkO99PjRdAJQaBlUOLF0BxPQrXo3AXQCPb+X5qPBdABFYOLbIdF0DVeOkmMQgXQEa28\\u002f3U+BZAfT81XrrJFkASg8DKocUWQOkmMQisnBZAoBov3SSGFkC28\\u002f3UeGkWQARWDi2yHRZAke18PzXeFUDufD81XroVQDMzMzMzsxVAJQaBlUOLFUBCYOXQIlsVQJhuEoPAShVA2c73U+MlFUCkcD0K1yMVQI\\u002fC9ShcDxVAsHJoke38FEDy0k1iENgUQKJFtvP91BRAokW28\\u002f3UFEB9PzVeuskUQPhT46WbxBRA3SQGgZXDFECHFtnO91MUQJMYBFYOLRRAJQaBlUMLFECWQ4ts5\\u002fsTQPT91HjpphNAObTIdr6fE0DVeOkmMYgTQBkEVg4tMhNAF9nO91PjEkDHSzeJQeASQM3MzMzMzBJA001iEFi5EkB1kxgEVo4SQFCNl24SgxJADAIrhxZZEkAj2\\u002fl+ajwSQIlBYOXQIhJA+n5qvHQTEkDwp8ZLNwkSQPYoXI\\u002fC9RFAd76fGi\\u002fdEUDy0k1iENgRQG3n+6nx0hFAj8L1KFyPEUDl0CLb+X4RQHE9CtejcBFAZmZmZmZmEUCHFtnO91MRQL6fGi\\u002fdJBFAqMZLN4nBEEAhsHJokW0QQNejcD0KVxBAj8L1KFwPEEDNzMzMzMwPQBBYObTIdg9A0SLb+X5qDkAzMzMzMzMOQC2yne+nxgxAgZVDi2znC0B56SYxCKwKQAwCK4cW2QlARIts5\\u002fupCEA=\"},\"type\":\"scatter\"},{\"customdata\":{\"dtype\":\"i2\",\"bdata\":\"AQACAAMABAAFAAYABwAIAAkACgALAAwADQAOAA8AEAARABIAEwAUABUAFgAXABgAGQAaABsAHAAdAB4AHwAgACEAIgAkACUAJgAnACgAKgArACwALQAuADAAMQAyADMANAA1ADYANwA4ADkAOgA7ADwAPQA+AD8AQABCAEQARQBGAEcASABJAEoASwBMAE8AUQBSAFMAVABWAFkAWgBcAF0AXgBfAGAAYgBjAGQAZQBmAGcAaABqAG0AbwBwAHIAdAB1AHYAdwB7AH0AfwCBAA==\"},\"hovertemplate\":\"Country: %{text}\\u003cbr\\u003eRank: %{customdata} out of 133\\u003cbr\\u003eUnemployment Rate: %{x:.1f}%\\u003cbr\\u003eHappiness: %{y:.2f}\\u003cextra\\u003e\\u003c\\u002fextra\\u003e\",\"mode\":\"markers\",\"name\":\"Unemployment Rate\",\"text\":[\"Finland\",\"Denmark\",\"Norway\",\"Iceland\",\"Netherlands\",\"Switzerland\",\"Sweden\",\"New Zealand\",\"Canada\",\"Austria\",\"Australia\",\"Costa Rica\",\"Israel\",\"Luxembourg\",\"United Kingdom\",\"Ireland\",\"Germany\",\"Belgium\",\"United States\",\"United Arab Emirates\",\"Malta\",\"Mexico\",\"France\",\"Chile\",\"Guatemala\",\"Saudi Arabia\",\"Qatar\",\"Spain\",\"Panama\",\"Brazil\",\"Uruguay\",\"Singapore\",\"El Salvador\",\"Italy\",\"Poland\",\"Uzbekistan\",\"Lithuania\",\"Colombia\",\"Slovenia\",\"Kosovo\",\"Argentina\",\"Romania\",\"Cyprus\",\"Ecuador\",\"Thailand\",\"Latvia\",\"Estonia\",\"Jamaica\",\"Mauritius\",\"Japan\",\"Honduras\",\"Kazakhstan\",\"Bolivia\",\"Hungary\",\"Paraguay\",\"Peru\",\"Portugal\",\"Pakistan\",\"Philippines\",\"Serbia\",\"Moldova\",\"Montenegro\",\"Croatia\",\"Dominican Republic\",\"Bosnia and Herzegovina\",\"Malaysia\",\"Belarus\",\"Greece\",\"Mongolia\",\"North Macedonia\",\"Nigeria\",\"Azerbaijan\",\"Lebanon\",\"Indonesia\",\"China\",\"Bhutan\",\"Bulgaria\",\"Jordan\",\"Benin\",\"South Africa\",\"Albania\",\"Cambodia\",\"Senegal\",\"Somalia\",\"Niger\",\"Burkina Faso\",\"Armenia\",\"Guinea\",\"Georgia\",\"Kenya\",\"Mauritania\",\"Tunisia\",\"Mali\",\"Sri Lanka\",\"Myanmar\",\"Ukraine\",\"Uganda\",\"Zambia\",\"Togo\",\"India\",\"Lesotho\",\"Zimbabwe\",\"Botswana\",\"Rwanda\"],\"visible\":false,\"x\":{\"dtype\":\"f8\",\"bdata\":\"SOF6FK7HGkDfT42XbhIUQEa28\\u002f3UeA1AdZMYBFYODEDVeOkmMQgLQPp+arx0kxFAokW28\\u002f1UG0BWDi2ynW8QQMP1KFyPwhZAPQrXo3A9EkDfT42XbpIUQHe+nxovnSVADAIrhxbZDUCR7Xw\\u002fNV4WQKjGSzeJQQ1AzczMzMzME0Dn+6nx0k0JQNv5fmq8dBVAJzEIrBxaDUDZzvdT46UCQGq8dJMYBA1AN4lBYOXQC0AUrkfhetQgQEa28\\u002f3U+B1AJQaBlUOLAUAlBoGVQ4sWQJqZmZmZmbk\\u002f9ihcj8I1LECJQWDl0KIZQKwcWmQ73ydAeekmMQisIUDNzMzMzMwIQK5H4XoUrhBAgZVDi2znI0CJQWDl0CIKQPYoXI\\u002fC9SFAhetRuB4FGUCPwvUoXI8kQGIQWDm0yBFAi2zn+6kROUBWDi2yna8jQLKd76fGSw9AH4XrUbieHEDl0CLb+X4OQLbz\\u002fdR46eY\\u002fc2iR7Xw\\u002fGUB1kxgEVg4SQKabxCCw8hNAbef7qfFSGUACK4cW2c4CQJhuEoPAyhZAMzMzMzMzE0Db+X5qvHQNQCcxCKwcWgtA4XoUrkdhGkDVeOkmMQgLQEJg5dAi2xlAUrgehetRE0BMN4lBYOUBQArXo3A9yiRA1XjpJjEI+D+oxks3iUEuQCuHFtnOdxpABoGVQ4tsGUD8qfHSTWIvQBSuR+F6FApAKVyPwvWoEEDsUbgehQsxQD81XrpJDCJARIts5\\u002ftpMUCkcD0K12MlQAAAAAAAABRAJzEIrByaJkC4HoXrUbgMQJqZmZmZmRRAw\\u002fUoXI\\u002fCBUDsUbgehesQQJMYBFYOzTBABoGVQ4ts8z8rhxbZznc8QDvfT42X7iZAVg4tsp3v3z+BlUOLbOcGQIcW2c730zJAoBov3SQG4T\\u002f2KFyPwvX4P0oMAiuHliNA30+Nl24SFEDhehSuRyEnQHWTGARWDhRAokW28\\u002f3UJEC6SQwCKycxQFK4HoXrUQpArkfhehSuEkA\\u002fNV66SQzaPxfZzvdTYyBAGy\\u002fdJAaBBED0\\u002fdR46SYWQH0\\u002fNV66SQBACtejcD0KGkDHSzeJQeAwQMuhRbbzfR1A8tJNYhAYNEBGtvP91HgmQA==\"},\"y\":{\"dtype\":\"f8\",\"bdata\":\"+n5qvHQTH0BmZmZmZmYeQJ7vp8ZLNx5AYOXQItv5HUDByqFFtvMdQOxRuB6F6x1ArBxaZDtfHUDufD81XjodQOkmMQisHB1AlkOLbOf7HEC28\\u002f3UeOkcQF66SQwCqxxAdZMYBFaOHEBcj8L1KFwcQJ7vp8ZLNxxAL90kBoEVHEBxPQrXo\\u002fAbQP7UeOkmsRtAxSCwcmiRG0DNzMzMzEwbQIGVQ4ts5xpA4XoUrkdhGkCR7Xw\\u002fNV4aQC2yne+nxhlAWDm0yHa+GUAAAAAAAIAZQOXQItv5fhlA0SLb+X5qGUBiEFg5tEgZQDMzMzMzMxlAeekmMQgsGUA\\u002fNV66SQwZQFCNl24SAxlAMQisHFrkGEDufD81XroYQBkEVg4tshhAf2q8dJOYGEAAAAAAAIAYQEa28\\u002f3UeBhAZmZmZmZmGEDy0k1iEFgYQEjhehSuRxhAyXa+nxovGEDpJjEIrBwYQNV46SYxCBhAw\\u002fUoXI\\u002fCF0DfT42XbpIXQI\\u002fC9ShcjxdAWmQ730+NF0AlBoGVQ4sXQHE9CtejcBdAI9v5fmo8F0AEVg4tsh0XQNV46SYxCBdARrbz\\u002fdT4FkB9PzVeuskWQBKDwMqhxRZA6SYxCKycFkCgGi\\u002fdJIYWQLbz\\u002fdR4aRZABFYOLbIdFkBkO99PjRcWQO58PzVeuhVAMzMzMzOzFUAlBoGVQ4sVQEJg5dAiWxVAmG4Sg8BKFUDZzvdT4yUVQKRwPQrXIxVAf2q8dJMYFUCPwvUoXA8VQKJFtvP91BRAfT81XrrJFED4U+Olm8QUQN0kBoGVwxRAhxbZzvdTFEAlBoGVQwsUQDm0yHa+nxNA1XjpJjGIE0AX2c73U+MSQMdLN4lB4BJAzczMzMzMEkDTTWIQWLkSQHnpJjEIrBJAUI2XbhKDEkAMAiuHFlkSQCPb+X5qPBJAiUFg5dAiEkD6fmq8dBMSQPCnxks3CRJA9ihcj8L1EUDy0k1iENgRQI\\u002fC9ShcjxFAEFg5tMh2EUBxPQrXo3ARQIcW2c73UxFAqMZLN4nBEEAhsHJokW0QQNejcD0KVxBAj8L1KFwPEEDRItv5fmoOQOf7qfHSTQ1AgZVDi2znC0B56SYxCKwKQA==\"},\"type\":\"scatter\"},{\"customdata\":{\"dtype\":\"i2\",\"bdata\":\"AQACAAMABAAFAAYABwAIAAkACgALAAwADQAOAA8AEAARABIAEwAUABUAFgAXABgAGQAaABsAHAAdAB4AHwAgACEAIgAjACQAJQAmACcAKAApACoAKwAsAC0ALgAvADAAMQAyADMANAA1ADYANwA4ADkAOgA7ADwAPQA+AD8AQABBAEIAQwBEAEUARgBHAEgASQBKAEsATABNAE4ATwBPAFEAUgBTAFQAVQBWAFcAWABZAFoAWwBcAF0AXgBfAGAAYQBiAGMAZABlAGYAZwBoAGkAagBrAGwAbQBuAG8AcABxAHIAcwB0AHUAdgB3AHgAeQB6AHsAfAB9AH4AfwCAAIEAggCDAIQAhQA=\"},\"hovertemplate\":\"Country: %{text}\\u003cbr\\u003eRank: %{customdata} out of 133\\u003cbr\\u003eLife Expectancy: %{x:.1f} years\\u003cbr\\u003eHappiness: %{y:.2f}\\u003cextra\\u003e\\u003c\\u002fextra\\u003e\",\"mode\":\"markers\",\"name\":\"Life Expectancy\",\"text\":[\"Finland\",\"Denmark\",\"Norway\",\"Iceland\",\"Netherlands\",\"Switzerland\",\"Sweden\",\"New Zealand\",\"Canada\",\"Austria\",\"Australia\",\"Costa Rica\",\"Israel\",\"Luxembourg\",\"United Kingdom\",\"Ireland\",\"Germany\",\"Belgium\",\"United States\",\"United Arab Emirates\",\"Malta\",\"Mexico\",\"France\",\"Chile\",\"Guatemala\",\"Saudi Arabia\",\"Qatar\",\"Spain\",\"Panama\",\"Brazil\",\"Uruguay\",\"Singapore\",\"El Salvador\",\"Italy\",\"Bahrain\",\"Poland\",\"Uzbekistan\",\"Lithuania\",\"Colombia\",\"Slovenia\",\"Nicaragua\",\"Kosovo\",\"Argentina\",\"Romania\",\"Cyprus\",\"Ecuador\",\"Kuwait\",\"Thailand\",\"Latvia\",\"Estonia\",\"Jamaica\",\"Mauritius\",\"Japan\",\"Honduras\",\"Kazakhstan\",\"Bolivia\",\"Hungary\",\"Paraguay\",\"Peru\",\"Portugal\",\"Pakistan\",\"Philippines\",\"Serbia\",\"Moldova\",\"Libya\",\"Montenegro\",\"Tajikistan\",\"Croatia\",\"Dominican Republic\",\"Bosnia and Herzegovina\",\"Malaysia\",\"Belarus\",\"Greece\",\"Mongolia\",\"North Macedonia\",\"Nigeria\",\"Turkmenistan\",\"Algeria\",\"Morocco\",\"Azerbaijan\",\"Lebanon\",\"Indonesia\",\"China\",\"Bhutan\",\"Cameroon\",\"Bulgaria\",\"Ghana\",\"Nepal\",\"Jordan\",\"Benin\",\"Gabon\",\"South Africa\",\"Albania\",\"Cambodia\",\"Senegal\",\"Somalia\",\"Namibia\",\"Niger\",\"Burkina Faso\",\"Armenia\",\"Guinea\",\"Georgia\",\"Kenya\",\"Mauritania\",\"Mozambique\",\"Tunisia\",\"Bangladesh\",\"Iraq\",\"Mali\",\"Sierra Leone\",\"Sri Lanka\",\"Myanmar\",\"Chad\",\"Ukraine\",\"Ethiopia\",\"Uganda\",\"Zambia\",\"Togo\",\"India\",\"Liberia\",\"Comoros\",\"Madagascar\",\"Lesotho\",\"Burundi\",\"Zimbabwe\",\"Haiti\",\"Botswana\",\"Malawi\",\"Rwanda\",\"Tanzania\",\"Afghanistan\",\"Central African Republic\",\"South Sudan\"],\"visible\":false,\"x\":{\"dtype\":\"f8\",\"bdata\":\"X4TuReh+VEB7DM7H4FxUQKGK1alYvVRAKFanYnXKVEBG43I0LodUQFuYnoXp+VRA6WNwPgbHVECjcTkal4NUQB2Wp2F5ilRA2JqUrUl5VECamZmZmblUQG3n+6nxElRA9DE4H4OzVEBpXI7G5ahUQE0urbGfV1RAMUzPwvSsVEAVtStRu1JUQD8B+xOwf1RAVLYmZWuyU0CgGi\\u002fdJKZUQG1XonYlqlRAUrgeheuhUkBWrE7F6rRUQNv5fmq8FFRAN4lBYOXoUUB56SYxCJRTQBSuR+F6vFRAF6tTsTr1VEA3iUFg5aBTQLKd76fG81JA1XjpJjFgU0ClZ2F6FuZUQGZmZmZm7lFAo4D9CdjfVECgGi\\u002fdJB5UQFuYnoXpeVNAy6FFtvMFUkCTtyF5GxJTQJhuEoPAMlNAgPgdiN9hVEA3iUFg5XBSQA4tsp3vT1NAke18PzU2U0CF5G1I3uZSQJMYBFYOXVRA\\u002fKnx0k1SU0DAB+F7EH5UQPhT46WbTFNAuhyNy9HYUkCO2pWoXalTQDVeukkM4lFAoIPxORiPUkDE5GxMzhZVQA4tsp3vB1JAJzEIrBxqUkAUrkfhevRQQDEuR+NyFFNAmG4Sg8BqUkCamZmZmRFTQA7TszA9a1RALbKd76euUEDsUbgehWtRQD8QvwPx+1JA3SQGgZWLUUBOYhBYOTxSQCxRuxK1K1NAIbByaJG9UUCMxuVoXI5TQLpJDAIrR1JA8KfGSzdZU0CamZmZmflSQPBF6F6EjlJAaVyOxuVoVEBicjYmZ8NRQMvlaFyOJlNA\\u002ftR46SaBSkBSuB6F61lRQM\\u002f3U+Ol61JASOF6FK6PUkDD9Shcj1JSQFpkO99PjVNAdZMYBFaWUUBcj8L1KHxTQLgehetRAFJAKVyPwvXYTkBG43I0LsdSQIXrUbgeHVBAQmDl0CJTUUCPwvUoXDdTQIts5\\u002fup8U1AIbByaJHVUEAGgZVDi4RQQNnO91Pj3VNA46WbxCCIUUCYbhKDwOpQQB1aZDvfn0xA2c73U+PFT0CHFtnO9wNOQGQ730+NF05AL0fjcjQOU0CNl24Sg7BNQMP1KFyPilJA1XjpJjF4T0ApXI\\u002fC9ehQQLpJDAIrp05AdZMYBFbmUkAAAAAAAChSQEjhehSuz1FAsp3vp8abTUCWQ4ts58tNQOkmMQisLFNAaJHtfD+dUEDJdr6fGn9KQHsUrkfhelJAgZVDi2xvUEAtsp3vp5ZQQKJFtvP9dE9A16NwPQqHTkA5tMh2vq9RQARWDi2ynU5A7nw\\u002fNV5qUECNl24Sg8BPQB1aZDvfn0tA16NwPQoXT0BI4XoUrodOQKJFtvP9FFBAppvEILDKUEBI4XoUrj9QQE5iEFg5rFBAnMQgsHKAUECcxCCwcnhPQEjhehSuhz9AjZduEoMQTUA=\"},\"y\":{\"dtype\":\"f8\",\"bdata\":\"+n5qvHQTH0BmZmZmZmYeQJ7vp8ZLNx5AYOXQItv5HUDByqFFtvMdQOxRuB6F6x1ArBxaZDtfHUDufD81XjodQOkmMQisHB1AlkOLbOf7HEC28\\u002f3UeOkcQF66SQwCqxxAdZMYBFaOHEBcj8L1KFwcQJ7vp8ZLNxxAL90kBoEVHEBxPQrXo\\u002fAbQP7UeOkmsRtAxSCwcmiRG0DNzMzMzEwbQIGVQ4ts5xpA4XoUrkdhGkCR7Xw\\u002fNV4aQC2yne+nxhlAWDm0yHa+GUAAAAAAAIAZQOXQItv5fhlA0SLb+X5qGUBiEFg5tEgZQDMzMzMzMxlAeekmMQgsGUA\\u002fNV66SQwZQFCNl24SAxlAMQisHFrkGECyne+nxssYQO58PzVeuhhAGQRWDi2yGEB\\u002farx0k5gYQAAAAAAAgBhARrbz\\u002fdR4GEDsUbgehWsYQGZmZmZmZhhA8tJNYhBYGEBI4XoUrkcYQMl2vp8aLxhA6SYxCKwcGEAv3SQGgRUYQNV46SYxCBhAw\\u002fUoXI\\u002fCF0DfT42XbpIXQI\\u002fC9ShcjxdAWmQ730+NF0AlBoGVQ4sXQHE9CtejcBdAI9v5fmo8F0AEVg4tsh0XQNV46SYxCBdARrbz\\u002fdT4FkB9PzVeuskWQBKDwMqhxRZA6SYxCKycFkCgGi\\u002fdJIYWQLbz\\u002fdR4aRZABFYOLbIdFkCamZmZmRkWQGQ730+NFxZAke18PzXeFUDufD81XroVQDMzMzMzsxVAJQaBlUOLFUBCYOXQIlsVQJhuEoPAShVA2c73U+MlFUCkcD0K1yMVQH9qvHSTGBVAj8L1KFwPFUCwcmiR7fwUQPLSTWIQ2BRAokW28\\u002f3UFECiRbbz\\u002fdQUQH0\\u002fNV66yRRA+FPjpZvEFEDdJAaBlcMUQIcW2c73UxRAkxgEVg4tFEAlBoGVQwsUQJZDi2zn+xNA9P3UeOmmE0A5tMh2vp8TQNV46SYxiBNAGQRWDi0yE0AX2c73U+MSQMdLN4lB4BJAzczMzMzMEkDTTWIQWLkSQHnpJjEIrBJAdZMYBFaOEkBQjZduEoMSQAwCK4cWWRJAI9v5fmo8EkCJQWDl0CISQPp+arx0ExJA8KfGSzcJEkD2KFyPwvURQHe+nxov3RFA8tJNYhDYEUBt5\\u002fup8dIRQHNoke18vxFAj8L1KFyPEUDl0CLb+X4RQBBYObTIdhFAcT0K16NwEUBmZmZmZmYRQIcW2c73UxFAvp8aL90kEUCoxks3icEQQCGwcmiRbRBA16NwPQpXEECPwvUoXA8QQM3MzMzMzA9AYhBYObTID0AQWDm0yHYPQNEi2\\u002fl+ag5AMzMzMzMzDkDn+6nx0k0NQC2yne+nxgxAgZVDi2znC0BI4XoUrkcLQHnpJjEIrApADAIrhxbZCUA5tMh2vp8JQESLbOf7qQhAbef7qfHSBkA=\"},\"type\":\"scatter\"}],                        {\"height\":600,\"margin\":{\"t\":80},\"sliders\":[{\"active\":0,\"currentvalue\":{\"prefix\":\"Metric: \"},\"pad\":{\"t\":50},\"steps\":[{\"args\":[{\"visible\":[true,false,false]},{\"title\":\"Happiness vs Education Expenditure\",\"xaxis\":{\"title\":\"Education Expenditure (% of GDP)\",\"type\":\"linear\"},\"yaxis\":{\"title\":\"Happiness\"}}],\"label\":\"Education Expenditure\",\"method\":\"update\"},{\"args\":[{\"visible\":[false,true,false]},{\"title\":\"Happiness vs Unemployment Rate\",\"xaxis\":{\"title\":\"Unemployment Rate (%)\",\"type\":\"linear\"},\"yaxis\":{\"title\":\"Happiness\"}}],\"label\":\"Unemployment Rate\",\"method\":\"update\"},{\"args\":[{\"visible\":[false,false,true]},{\"title\":\"Happiness vs Life Expectancy\",\"xaxis\":{\"title\":\"Life Expectancy (years)\",\"type\":\"linear\"},\"yaxis\":{\"title\":\"Happiness\"}}],\"label\":\"Life Expectancy\",\"method\":\"update\"}]}],\"template\":{\"data\":{\"barpolar\":[{\"marker\":{\"line\":{\"color\":\"#E5ECF6\",\"width\":0.5},\"pattern\":{\"fillmode\":\"overlay\",\"size\":10,\"solidity\":0.2}},\"type\":\"barpolar\"}],\"bar\":[{\"error_x\":{\"color\":\"#2a3f5f\"},\"error_y\":{\"color\":\"#2a3f5f\"},\"marker\":{\"line\":{\"color\":\"#E5ECF6\",\"width\":0.5},\"pattern\":{\"fillmode\":\"overlay\",\"size\":10,\"solidity\":0.2}},\"type\":\"bar\"}],\"carpet\":[{\"aaxis\":{\"endlinecolor\":\"#2a3f5f\",\"gridcolor\":\"white\",\"linecolor\":\"white\",\"minorgridcolor\":\"white\",\"startlinecolor\":\"#2a3f5f\"},\"baxis\":{\"endlinecolor\":\"#2a3f5f\",\"gridcolor\":\"white\",\"linecolor\":\"white\",\"minorgridcolor\":\"white\",\"startlinecolor\":\"#2a3f5f\"},\"type\":\"carpet\"}],\"choropleth\":[{\"colorbar\":{\"outlinewidth\":0,\"ticks\":\"\"},\"type\":\"choropleth\"}],\"contourcarpet\":[{\"colorbar\":{\"outlinewidth\":0,\"ticks\":\"\"},\"type\":\"contourcarpet\"}],\"contour\":[{\"colorbar\":{\"outlinewidth\":0,\"ticks\":\"\"},\"colorscale\":[[0.0,\"#0d0887\"],[0.1111111111111111,\"#46039f\"],[0.2222222222222222,\"#7201a8\"],[0.3333333333333333,\"#9c179e\"],[0.4444444444444444,\"#bd3786\"],[0.5555555555555556,\"#d8576b\"],[0.6666666666666666,\"#ed7953\"],[0.7777777777777778,\"#fb9f3a\"],[0.8888888888888888,\"#fdca26\"],[1.0,\"#f0f921\"]],\"type\":\"contour\"}],\"heatmap\":[{\"colorbar\":{\"outlinewidth\":0,\"ticks\":\"\"},\"colorscale\":[[0.0,\"#0d0887\"],[0.1111111111111111,\"#46039f\"],[0.2222222222222222,\"#7201a8\"],[0.3333333333333333,\"#9c179e\"],[0.4444444444444444,\"#bd3786\"],[0.5555555555555556,\"#d8576b\"],[0.6666666666666666,\"#ed7953\"],[0.7777777777777778,\"#fb9f3a\"],[0.8888888888888888,\"#fdca26\"],[1.0,\"#f0f921\"]],\"type\":\"heatmap\"}],\"histogram2dcontour\":[{\"colorbar\":{\"outlinewidth\":0,\"ticks\":\"\"},\"colorscale\":[[0.0,\"#0d0887\"],[0.1111111111111111,\"#46039f\"],[0.2222222222222222,\"#7201a8\"],[0.3333333333333333,\"#9c179e\"],[0.4444444444444444,\"#bd3786\"],[0.5555555555555556,\"#d8576b\"],[0.6666666666666666,\"#ed7953\"],[0.7777777777777778,\"#fb9f3a\"],[0.8888888888888888,\"#fdca26\"],[1.0,\"#f0f921\"]],\"type\":\"histogram2dcontour\"}],\"histogram2d\":[{\"colorbar\":{\"outlinewidth\":0,\"ticks\":\"\"},\"colorscale\":[[0.0,\"#0d0887\"],[0.1111111111111111,\"#46039f\"],[0.2222222222222222,\"#7201a8\"],[0.3333333333333333,\"#9c179e\"],[0.4444444444444444,\"#bd3786\"],[0.5555555555555556,\"#d8576b\"],[0.6666666666666666,\"#ed7953\"],[0.7777777777777778,\"#fb9f3a\"],[0.8888888888888888,\"#fdca26\"],[1.0,\"#f0f921\"]],\"type\":\"histogram2d\"}],\"histogram\":[{\"marker\":{\"pattern\":{\"fillmode\":\"overlay\",\"size\":10,\"solidity\":0.2}},\"type\":\"histogram\"}],\"mesh3d\":[{\"colorbar\":{\"outlinewidth\":0,\"ticks\":\"\"},\"type\":\"mesh3d\"}],\"parcoords\":[{\"line\":{\"colorbar\":{\"outlinewidth\":0,\"ticks\":\"\"}},\"type\":\"parcoords\"}],\"pie\":[{\"automargin\":true,\"type\":\"pie\"}],\"scatter3d\":[{\"line\":{\"colorbar\":{\"outlinewidth\":0,\"ticks\":\"\"}},\"marker\":{\"colorbar\":{\"outlinewidth\":0,\"ticks\":\"\"}},\"type\":\"scatter3d\"}],\"scattercarpet\":[{\"marker\":{\"colorbar\":{\"outlinewidth\":0,\"ticks\":\"\"}},\"type\":\"scattercarpet\"}],\"scattergeo\":[{\"marker\":{\"colorbar\":{\"outlinewidth\":0,\"ticks\":\"\"}},\"type\":\"scattergeo\"}],\"scattergl\":[{\"marker\":{\"colorbar\":{\"outlinewidth\":0,\"ticks\":\"\"}},\"type\":\"scattergl\"}],\"scattermapbox\":[{\"marker\":{\"colorbar\":{\"outlinewidth\":0,\"ticks\":\"\"}},\"type\":\"scattermapbox\"}],\"scattermap\":[{\"marker\":{\"colorbar\":{\"outlinewidth\":0,\"ticks\":\"\"}},\"type\":\"scattermap\"}],\"scatterpolargl\":[{\"marker\":{\"colorbar\":{\"outlinewidth\":0,\"ticks\":\"\"}},\"type\":\"scatterpolargl\"}],\"scatterpolar\":[{\"marker\":{\"colorbar\":{\"outlinewidth\":0,\"ticks\":\"\"}},\"type\":\"scatterpolar\"}],\"scatter\":[{\"fillpattern\":{\"fillmode\":\"overlay\",\"size\":10,\"solidity\":0.2},\"type\":\"scatter\"}],\"scatterternary\":[{\"marker\":{\"colorbar\":{\"outlinewidth\":0,\"ticks\":\"\"}},\"type\":\"scatterternary\"}],\"surface\":[{\"colorbar\":{\"outlinewidth\":0,\"ticks\":\"\"},\"colorscale\":[[0.0,\"#0d0887\"],[0.1111111111111111,\"#46039f\"],[0.2222222222222222,\"#7201a8\"],[0.3333333333333333,\"#9c179e\"],[0.4444444444444444,\"#bd3786\"],[0.5555555555555556,\"#d8576b\"],[0.6666666666666666,\"#ed7953\"],[0.7777777777777778,\"#fb9f3a\"],[0.8888888888888888,\"#fdca26\"],[1.0,\"#f0f921\"]],\"type\":\"surface\"}],\"table\":[{\"cells\":{\"fill\":{\"color\":\"#EBF0F8\"},\"line\":{\"color\":\"white\"}},\"header\":{\"fill\":{\"color\":\"#C8D4E3\"},\"line\":{\"color\":\"white\"}},\"type\":\"table\"}]},\"layout\":{\"annotationdefaults\":{\"arrowcolor\":\"#2a3f5f\",\"arrowhead\":0,\"arrowwidth\":1},\"autotypenumbers\":\"strict\",\"coloraxis\":{\"colorbar\":{\"outlinewidth\":0,\"ticks\":\"\"}},\"colorscale\":{\"diverging\":[[0,\"#8e0152\"],[0.1,\"#c51b7d\"],[0.2,\"#de77ae\"],[0.3,\"#f1b6da\"],[0.4,\"#fde0ef\"],[0.5,\"#f7f7f7\"],[0.6,\"#e6f5d0\"],[0.7,\"#b8e186\"],[0.8,\"#7fbc41\"],[0.9,\"#4d9221\"],[1,\"#276419\"]],\"sequential\":[[0.0,\"#0d0887\"],[0.1111111111111111,\"#46039f\"],[0.2222222222222222,\"#7201a8\"],[0.3333333333333333,\"#9c179e\"],[0.4444444444444444,\"#bd3786\"],[0.5555555555555556,\"#d8576b\"],[0.6666666666666666,\"#ed7953\"],[0.7777777777777778,\"#fb9f3a\"],[0.8888888888888888,\"#fdca26\"],[1.0,\"#f0f921\"]],\"sequentialminus\":[[0.0,\"#0d0887\"],[0.1111111111111111,\"#46039f\"],[0.2222222222222222,\"#7201a8\"],[0.3333333333333333,\"#9c179e\"],[0.4444444444444444,\"#bd3786\"],[0.5555555555555556,\"#d8576b\"],[0.6666666666666666,\"#ed7953\"],[0.7777777777777778,\"#fb9f3a\"],[0.8888888888888888,\"#fdca26\"],[1.0,\"#f0f921\"]]},\"colorway\":[\"#636efa\",\"#EF553B\",\"#00cc96\",\"#ab63fa\",\"#FFA15A\",\"#19d3f3\",\"#FF6692\",\"#B6E880\",\"#FF97FF\",\"#FECB52\"],\"font\":{\"color\":\"#2a3f5f\"},\"geo\":{\"bgcolor\":\"white\",\"lakecolor\":\"white\",\"landcolor\":\"#E5ECF6\",\"showlakes\":true,\"showland\":true,\"subunitcolor\":\"white\"},\"hoverlabel\":{\"align\":\"left\"},\"hovermode\":\"closest\",\"mapbox\":{\"style\":\"light\"},\"paper_bgcolor\":\"white\",\"plot_bgcolor\":\"#E5ECF6\",\"polar\":{\"angularaxis\":{\"gridcolor\":\"white\",\"linecolor\":\"white\",\"ticks\":\"\"},\"bgcolor\":\"#E5ECF6\",\"radialaxis\":{\"gridcolor\":\"white\",\"linecolor\":\"white\",\"ticks\":\"\"}},\"scene\":{\"xaxis\":{\"backgroundcolor\":\"#E5ECF6\",\"gridcolor\":\"white\",\"gridwidth\":2,\"linecolor\":\"white\",\"showbackground\":true,\"ticks\":\"\",\"zerolinecolor\":\"white\"},\"yaxis\":{\"backgroundcolor\":\"#E5ECF6\",\"gridcolor\":\"white\",\"gridwidth\":2,\"linecolor\":\"white\",\"showbackground\":true,\"ticks\":\"\",\"zerolinecolor\":\"white\"},\"zaxis\":{\"backgroundcolor\":\"#E5ECF6\",\"gridcolor\":\"white\",\"gridwidth\":2,\"linecolor\":\"white\",\"showbackground\":true,\"ticks\":\"\",\"zerolinecolor\":\"white\"}},\"shapedefaults\":{\"line\":{\"color\":\"#2a3f5f\"}},\"ternary\":{\"aaxis\":{\"gridcolor\":\"white\",\"linecolor\":\"white\",\"ticks\":\"\"},\"baxis\":{\"gridcolor\":\"white\",\"linecolor\":\"white\",\"ticks\":\"\"},\"bgcolor\":\"#E5ECF6\",\"caxis\":{\"gridcolor\":\"white\",\"linecolor\":\"white\",\"ticks\":\"\"}},\"title\":{\"x\":0.05},\"xaxis\":{\"automargin\":true,\"gridcolor\":\"white\",\"linecolor\":\"white\",\"ticks\":\"\",\"title\":{\"standoff\":15},\"zerolinecolor\":\"white\",\"zerolinewidth\":2},\"yaxis\":{\"automargin\":true,\"gridcolor\":\"white\",\"linecolor\":\"white\",\"ticks\":\"\",\"title\":{\"standoff\":15},\"zerolinecolor\":\"white\",\"zerolinewidth\":2}}},\"title\":{\"text\":\"Happiness vs Education Expenditure\"},\"width\":900},                        {\"responsive\": true}                    ).then(function(){\n",
       "                            \n",
       "var gd = document.getElementById('136e30dd-5627-47e6-92ef-d501040b2f43');\n",
       "var x = new MutationObserver(function (mutations, observer) {{\n",
       "        var display = window.getComputedStyle(gd).display;\n",
       "        if (!display || display === 'none') {{\n",
       "            console.log([gd, 'removed!']);\n",
       "            Plotly.purge(gd);\n",
       "            observer.disconnect();\n",
       "        }}\n",
       "}});\n",
       "\n",
       "// Listen for the removal of the full notebook cells\n",
       "var notebookContainer = gd.closest('#notebook-container');\n",
       "if (notebookContainer) {{\n",
       "    x.observe(notebookContainer, {childList: true});\n",
       "}}\n",
       "\n",
       "// Listen for the clearing of the current output cell\n",
       "var outputEl = gd.closest('.output');\n",
       "if (outputEl) {{\n",
       "    x.observe(outputEl, {childList: true});\n",
       "}}\n",
       "\n",
       "                        })                };            </script>        </div>"
      ]
     },
     "metadata": {},
     "output_type": "display_data"
    }
   ],
   "source": [
    "import pandas as pd\n",
    "import plotly.graph_objects as go\n",
    "from plotly.offline import init_notebook_mode, iplot\n",
    "\n",
    "# 1) Enable Plotly in the notebook\n",
    "init_notebook_mode(connected=True)\n",
    "\n",
    "# 2) Load your data\n",
    "df = pd.read_csv('final.csv')\n",
    "\n",
    "# 3) Compute happiness rank (1 = happiest) and total countries\n",
    "df['Happiness_rank'] = df['Happiness'].rank(method='min', ascending=False).astype(int)\n",
    "total_countries = df['Country'].nunique()\n",
    "\n",
    "# 4) Prepare subsets (drop rows missing each metric or rank)\n",
    "df_edu   = df.dropna(subset=['Edu_expenditure_pct', 'Happiness', 'Country', 'Happiness_rank'])\n",
    "df_unemp = df.dropna(subset=['Unemployment_rate',    'Happiness', 'Country', 'Happiness_rank'])\n",
    "df_le    = df.dropna(subset=['Life_expectancy',      'Happiness', 'Country', 'Happiness_rank'])\n",
    "\n",
    "# 5) Create the three scatter traces\n",
    "trace_edu = go.Scatter(\n",
    "    x=df_edu['Edu_expenditure_pct'],\n",
    "    y=df_edu['Happiness'],\n",
    "    mode='markers',\n",
    "    name='Education Expenditure',\n",
    "    visible=True,\n",
    "    text=df_edu['Country'],\n",
    "    customdata=df_edu['Happiness_rank'],\n",
    "    hovertemplate=(\n",
    "        \"Country: %{text}<br>\"\n",
    "        f\"Rank: %{{customdata}} out of {total_countries}<br>\"\n",
    "        \"Education Expenditure: %{x:.1f}% of GDP<br>\"\n",
    "        \"Happiness: %{y:.2f}<extra></extra>\"\n",
    "    )\n",
    ")\n",
    "\n",
    "trace_unemp = go.Scatter(\n",
    "    x=df_unemp['Unemployment_rate'],\n",
    "    y=df_unemp['Happiness'],\n",
    "    mode='markers',\n",
    "    name='Unemployment Rate',\n",
    "    visible=False,\n",
    "    text=df_unemp['Country'],\n",
    "    customdata=df_unemp['Happiness_rank'],\n",
    "    hovertemplate=(\n",
    "        \"Country: %{text}<br>\"\n",
    "        f\"Rank: %{{customdata}} out of {total_countries}<br>\"\n",
    "        \"Unemployment Rate: %{x:.1f}%<br>\"\n",
    "        \"Happiness: %{y:.2f}<extra></extra>\"\n",
    "    )\n",
    ")\n",
    "\n",
    "trace_le = go.Scatter(\n",
    "    x=df_le['Life_expectancy'],\n",
    "    y=df_le['Happiness'],\n",
    "    mode='markers',\n",
    "    name='Life Expectancy',\n",
    "    visible=False,\n",
    "    text=df_le['Country'],\n",
    "    customdata=df_le['Happiness_rank'],\n",
    "    hovertemplate=(\n",
    "        \"Country: %{text}<br>\"\n",
    "        f\"Rank: %{{customdata}} out of {total_countries}<br>\"\n",
    "        \"Life Expectancy: %{x:.1f} years<br>\"\n",
    "        \"Happiness: %{y:.2f}<extra></extra>\"\n",
    "    )\n",
    ")\n",
    "\n",
    "# 6) Assemble figure\n",
    "fig = go.Figure(data=[trace_edu, trace_unemp, trace_le])\n",
    "\n",
    "# 7) Define slider steps\n",
    "steps = [\n",
    "    dict(\n",
    "        method='update',\n",
    "        label='Education Expenditure',\n",
    "        args=[\n",
    "            {'visible': [True, False, False]},\n",
    "            {\n",
    "                'title': 'Happiness vs Education Expenditure',\n",
    "                'xaxis': {'title': 'Education Expenditure (% of GDP)', 'type': 'linear'},\n",
    "                'yaxis': {'title': 'Happiness'}\n",
    "            }\n",
    "        ]\n",
    "    ),\n",
    "    dict(\n",
    "        method='update',\n",
    "        label='Unemployment Rate',\n",
    "        args=[\n",
    "            {'visible': [False, True, False]},\n",
    "            {\n",
    "                'title': 'Happiness vs Unemployment Rate',\n",
    "                'xaxis': {'title': 'Unemployment Rate (%)', 'type': 'linear'},\n",
    "                'yaxis': {'title': 'Happiness'}\n",
    "            }\n",
    "        ]\n",
    "    ),\n",
    "    dict(\n",
    "        method='update',\n",
    "        label='Life Expectancy',\n",
    "        args=[\n",
    "            {'visible': [False, False, True]},\n",
    "            {\n",
    "                'title': 'Happiness vs Life Expectancy',\n",
    "                'xaxis': {'title': 'Life Expectancy (years)', 'type': 'linear'},\n",
    "                'yaxis': {'title': 'Happiness'}\n",
    "            }\n",
    "        ]\n",
    "    )\n",
    "]\n",
    "\n",
    "# 8) Add the slider to layout\n",
    "fig.update_layout(\n",
    "    sliders=[dict(\n",
    "        active=0,\n",
    "        currentvalue={'prefix': 'Metric: '},\n",
    "        pad={'t': 50},\n",
    "        steps=steps\n",
    "    )],\n",
    "    title=\"Happiness vs Education Expenditure\",\n",
    "    width=900,\n",
    "    height=600,\n",
    "    margin={'t':80}\n",
    ")\n",
    "\n",
    "# 9) Display inline\n",
    "iplot(fig)\n"
   ]
  },
  {
   "cell_type": "code",
   "execution_count": 44,
   "id": "22749a1f",
   "metadata": {},
   "outputs": [
    {
     "data": {
      "application/vnd.plotly.v1+json": {
       "config": {
        "plotlyServerURL": "https://plot.ly"
       },
       "data": [
        {
         "coloraxis": "coloraxis",
         "geo": "geo",
         "hovertemplate": "<b>%{hovertext}</b><br><br>Country=%{location}<br>Happiness=%{z}<extra></extra>",
         "hovertext": [
          "Finland",
          "Denmark",
          "Norway",
          "Iceland",
          "Netherlands",
          "Switzerland",
          "Sweden",
          "New Zealand",
          "Canada",
          "Austria",
          "Australia",
          "Costa Rica",
          "Israel",
          "Luxembourg",
          "United Kingdom",
          "Ireland",
          "Germany",
          "Belgium",
          "United States",
          "United Arab Emirates",
          "Malta",
          "Mexico",
          "France",
          "Chile",
          "Guatemala",
          "Saudi Arabia",
          "Qatar",
          "Spain",
          "Panama",
          "Brazil",
          "Uruguay",
          "Singapore",
          "El Salvador",
          "Italy",
          "Bahrain",
          "Poland",
          "Uzbekistan",
          "Lithuania",
          "Colombia",
          "Slovenia",
          "Nicaragua",
          "Kosovo",
          "Argentina",
          "Romania",
          "Cyprus",
          "Ecuador",
          "Kuwait",
          "Thailand",
          "Latvia",
          "Estonia",
          "Jamaica",
          "Mauritius",
          "Japan",
          "Honduras",
          "Kazakhstan",
          "Bolivia",
          "Hungary",
          "Paraguay",
          "Peru",
          "Portugal",
          "Pakistan",
          "Philippines",
          "Serbia",
          "Moldova",
          "Libya",
          "Montenegro",
          "Tajikistan",
          "Croatia",
          "Dominican Republic",
          "Bosnia and Herzegovina",
          "Malaysia",
          "Belarus",
          "Greece",
          "Mongolia",
          "North Macedonia",
          "Nigeria",
          "Turkmenistan",
          "Algeria",
          "Morocco",
          "Azerbaijan",
          "Lebanon",
          "Indonesia",
          "China",
          "Bhutan",
          "Cameroon",
          "Bulgaria",
          "Ghana",
          "Nepal",
          "Jordan",
          "Benin",
          "Gabon",
          "South Africa",
          "Albania",
          "Cambodia",
          "Senegal",
          "Somalia",
          "Namibia",
          "Niger",
          "Burkina Faso",
          "Armenia",
          "Guinea",
          "Georgia",
          "Kenya",
          "Mauritania",
          "Mozambique",
          "Tunisia",
          "Bangladesh",
          "Iraq",
          "Mali",
          "Sierra Leone",
          "Sri Lanka",
          "Myanmar",
          "Chad",
          "Ukraine",
          "Ethiopia",
          "Uganda",
          "Zambia",
          "Togo",
          "India",
          "Liberia",
          "Comoros",
          "Madagascar",
          "Lesotho",
          "Burundi",
          "Zimbabwe",
          "Haiti",
          "Botswana",
          "Malawi",
          "Rwanda",
          "Tanzania",
          "Afghanistan",
          "Central African Republic",
          "South Sudan"
         ],
         "locationmode": "country names",
         "locations": [
          "Finland",
          "Denmark",
          "Norway",
          "Iceland",
          "Netherlands",
          "Switzerland",
          "Sweden",
          "New Zealand",
          "Canada",
          "Austria",
          "Australia",
          "Costa Rica",
          "Israel",
          "Luxembourg",
          "United Kingdom",
          "Ireland",
          "Germany",
          "Belgium",
          "United States",
          "United Arab Emirates",
          "Malta",
          "Mexico",
          "France",
          "Chile",
          "Guatemala",
          "Saudi Arabia",
          "Qatar",
          "Spain",
          "Panama",
          "Brazil",
          "Uruguay",
          "Singapore",
          "El Salvador",
          "Italy",
          "Bahrain",
          "Poland",
          "Uzbekistan",
          "Lithuania",
          "Colombia",
          "Slovenia",
          "Nicaragua",
          "Kosovo",
          "Argentina",
          "Romania",
          "Cyprus",
          "Ecuador",
          "Kuwait",
          "Thailand",
          "Latvia",
          "Estonia",
          "Jamaica",
          "Mauritius",
          "Japan",
          "Honduras",
          "Kazakhstan",
          "Bolivia",
          "Hungary",
          "Paraguay",
          "Peru",
          "Portugal",
          "Pakistan",
          "Philippines",
          "Serbia",
          "Moldova",
          "Libya",
          "Montenegro",
          "Tajikistan",
          "Croatia",
          "Dominican Republic",
          "Bosnia and Herzegovina",
          "Malaysia",
          "Belarus",
          "Greece",
          "Mongolia",
          "North Macedonia",
          "Nigeria",
          "Turkmenistan",
          "Algeria",
          "Morocco",
          "Azerbaijan",
          "Lebanon",
          "Indonesia",
          "China",
          "Bhutan",
          "Cameroon",
          "Bulgaria",
          "Ghana",
          "Nepal",
          "Jordan",
          "Benin",
          "Gabon",
          "South Africa",
          "Albania",
          "Cambodia",
          "Senegal",
          "Somalia",
          "Namibia",
          "Niger",
          "Burkina Faso",
          "Armenia",
          "Guinea",
          "Georgia",
          "Kenya",
          "Mauritania",
          "Mozambique",
          "Tunisia",
          "Bangladesh",
          "Iraq",
          "Mali",
          "Sierra Leone",
          "Sri Lanka",
          "Myanmar",
          "Chad",
          "Ukraine",
          "Ethiopia",
          "Uganda",
          "Zambia",
          "Togo",
          "India",
          "Liberia",
          "Comoros",
          "Madagascar",
          "Lesotho",
          "Burundi",
          "Zimbabwe",
          "Haiti",
          "Botswana",
          "Malawi",
          "Rwanda",
          "Tanzania",
          "Afghanistan",
          "Central African Republic",
          "South Sudan"
         ],
         "name": "",
         "type": "choropleth",
         "z": {
          "bdata": "+n5qvHQTH0BmZmZmZmYeQJ7vp8ZLNx5AYOXQItv5HUDByqFFtvMdQOxRuB6F6x1ArBxaZDtfHUDufD81XjodQOkmMQisHB1AlkOLbOf7HEC28/3UeOkcQF66SQwCqxxAdZMYBFaOHEBcj8L1KFwcQJ7vp8ZLNxxAL90kBoEVHEBxPQrXo/AbQP7UeOkmsRtAxSCwcmiRG0DNzMzMzEwbQIGVQ4ts5xpA4XoUrkdhGkCR7Xw/NV4aQC2yne+nxhlAWDm0yHa+GUAAAAAAAIAZQOXQItv5fhlA0SLb+X5qGUBiEFg5tEgZQDMzMzMzMxlAeekmMQgsGUA/NV66SQwZQFCNl24SAxlAMQisHFrkGECyne+nxssYQO58PzVeuhhAGQRWDi2yGEB/arx0k5gYQAAAAAAAgBhARrbz/dR4GEDsUbgehWsYQGZmZmZmZhhA8tJNYhBYGEBI4XoUrkcYQMl2vp8aLxhA6SYxCKwcGEAv3SQGgRUYQNV46SYxCBhAw/UoXI/CF0DfT42XbpIXQI/C9ShcjxdAWmQ730+NF0AlBoGVQ4sXQHE9CtejcBdAI9v5fmo8F0AEVg4tsh0XQNV46SYxCBdARrbz/dT4FkB9PzVeuskWQBKDwMqhxRZA6SYxCKycFkCgGi/dJIYWQLbz/dR4aRZABFYOLbIdFkCamZmZmRkWQGQ730+NFxZAke18PzXeFUDufD81XroVQDMzMzMzsxVAJQaBlUOLFUBCYOXQIlsVQJhuEoPAShVA2c73U+MlFUCkcD0K1yMVQH9qvHSTGBVAj8L1KFwPFUCwcmiR7fwUQPLSTWIQ2BRAokW28/3UFECiRbbz/dQUQH0/NV66yRRA+FPjpZvEFEDdJAaBlcMUQIcW2c73UxRAkxgEVg4tFEAlBoGVQwsUQJZDi2zn+xNA9P3UeOmmE0A5tMh2vp8TQNV46SYxiBNAGQRWDi0yE0AX2c73U+MSQMdLN4lB4BJAzczMzMzMEkDTTWIQWLkSQHnpJjEIrBJAdZMYBFaOEkBQjZduEoMSQAwCK4cWWRJAI9v5fmo8EkCJQWDl0CISQPp+arx0ExJA8KfGSzcJEkD2KFyPwvURQHe+nxov3RFA8tJNYhDYEUBt5/up8dIRQHNoke18vxFAj8L1KFyPEUDl0CLb+X4RQBBYObTIdhFAcT0K16NwEUBmZmZmZmYRQIcW2c73UxFAvp8aL90kEUCoxks3icEQQCGwcmiRbRBA16NwPQpXEECPwvUoXA8QQM3MzMzMzA9AYhBYObTID0AQWDm0yHYPQNEi2/l+ag5AMzMzMzMzDkDn+6nx0k0NQC2yne+nxgxAgZVDi2znC0BI4XoUrkcLQHnpJjEIrApADAIrhxbZCUA5tMh2vp8JQESLbOf7qQhAbef7qfHSBkA=",
          "dtype": "f8"
         }
        }
       ],
       "layout": {
        "coloraxis": {
         "colorbar": {
          "title": {
           "text": "Happiness"
          }
         },
         "colorscale": [
          [
           0,
           "#0d0887"
          ],
          [
           0.1111111111111111,
           "#46039f"
          ],
          [
           0.2222222222222222,
           "#7201a8"
          ],
          [
           0.3333333333333333,
           "#9c179e"
          ],
          [
           0.4444444444444444,
           "#bd3786"
          ],
          [
           0.5555555555555556,
           "#d8576b"
          ],
          [
           0.6666666666666666,
           "#ed7953"
          ],
          [
           0.7777777777777778,
           "#fb9f3a"
          ],
          [
           0.8888888888888888,
           "#fdca26"
          ],
          [
           1,
           "#f0f921"
          ]
         ]
        },
        "geo": {
         "center": {},
         "domain": {
          "x": [
           0,
           1
          ],
          "y": [
           0,
           1
          ]
         },
         "projection": {
          "type": "natural earth"
         },
         "showcoastlines": true,
         "showframe": false
        },
        "height": 600,
        "legend": {
         "tracegroupgap": 0
        },
        "margin": {
         "b": 0,
         "l": 0,
         "r": 0,
         "t": 60
        },
        "template": {
         "data": {
          "bar": [
           {
            "error_x": {
             "color": "#2a3f5f"
            },
            "error_y": {
             "color": "#2a3f5f"
            },
            "marker": {
             "line": {
              "color": "#E5ECF6",
              "width": 0.5
             },
             "pattern": {
              "fillmode": "overlay",
              "size": 10,
              "solidity": 0.2
             }
            },
            "type": "bar"
           }
          ],
          "barpolar": [
           {
            "marker": {
             "line": {
              "color": "#E5ECF6",
              "width": 0.5
             },
             "pattern": {
              "fillmode": "overlay",
              "size": 10,
              "solidity": 0.2
             }
            },
            "type": "barpolar"
           }
          ],
          "carpet": [
           {
            "aaxis": {
             "endlinecolor": "#2a3f5f",
             "gridcolor": "white",
             "linecolor": "white",
             "minorgridcolor": "white",
             "startlinecolor": "#2a3f5f"
            },
            "baxis": {
             "endlinecolor": "#2a3f5f",
             "gridcolor": "white",
             "linecolor": "white",
             "minorgridcolor": "white",
             "startlinecolor": "#2a3f5f"
            },
            "type": "carpet"
           }
          ],
          "choropleth": [
           {
            "colorbar": {
             "outlinewidth": 0,
             "ticks": ""
            },
            "type": "choropleth"
           }
          ],
          "contour": [
           {
            "colorbar": {
             "outlinewidth": 0,
             "ticks": ""
            },
            "colorscale": [
             [
              0,
              "#0d0887"
             ],
             [
              0.1111111111111111,
              "#46039f"
             ],
             [
              0.2222222222222222,
              "#7201a8"
             ],
             [
              0.3333333333333333,
              "#9c179e"
             ],
             [
              0.4444444444444444,
              "#bd3786"
             ],
             [
              0.5555555555555556,
              "#d8576b"
             ],
             [
              0.6666666666666666,
              "#ed7953"
             ],
             [
              0.7777777777777778,
              "#fb9f3a"
             ],
             [
              0.8888888888888888,
              "#fdca26"
             ],
             [
              1,
              "#f0f921"
             ]
            ],
            "type": "contour"
           }
          ],
          "contourcarpet": [
           {
            "colorbar": {
             "outlinewidth": 0,
             "ticks": ""
            },
            "type": "contourcarpet"
           }
          ],
          "heatmap": [
           {
            "colorbar": {
             "outlinewidth": 0,
             "ticks": ""
            },
            "colorscale": [
             [
              0,
              "#0d0887"
             ],
             [
              0.1111111111111111,
              "#46039f"
             ],
             [
              0.2222222222222222,
              "#7201a8"
             ],
             [
              0.3333333333333333,
              "#9c179e"
             ],
             [
              0.4444444444444444,
              "#bd3786"
             ],
             [
              0.5555555555555556,
              "#d8576b"
             ],
             [
              0.6666666666666666,
              "#ed7953"
             ],
             [
              0.7777777777777778,
              "#fb9f3a"
             ],
             [
              0.8888888888888888,
              "#fdca26"
             ],
             [
              1,
              "#f0f921"
             ]
            ],
            "type": "heatmap"
           }
          ],
          "histogram": [
           {
            "marker": {
             "pattern": {
              "fillmode": "overlay",
              "size": 10,
              "solidity": 0.2
             }
            },
            "type": "histogram"
           }
          ],
          "histogram2d": [
           {
            "colorbar": {
             "outlinewidth": 0,
             "ticks": ""
            },
            "colorscale": [
             [
              0,
              "#0d0887"
             ],
             [
              0.1111111111111111,
              "#46039f"
             ],
             [
              0.2222222222222222,
              "#7201a8"
             ],
             [
              0.3333333333333333,
              "#9c179e"
             ],
             [
              0.4444444444444444,
              "#bd3786"
             ],
             [
              0.5555555555555556,
              "#d8576b"
             ],
             [
              0.6666666666666666,
              "#ed7953"
             ],
             [
              0.7777777777777778,
              "#fb9f3a"
             ],
             [
              0.8888888888888888,
              "#fdca26"
             ],
             [
              1,
              "#f0f921"
             ]
            ],
            "type": "histogram2d"
           }
          ],
          "histogram2dcontour": [
           {
            "colorbar": {
             "outlinewidth": 0,
             "ticks": ""
            },
            "colorscale": [
             [
              0,
              "#0d0887"
             ],
             [
              0.1111111111111111,
              "#46039f"
             ],
             [
              0.2222222222222222,
              "#7201a8"
             ],
             [
              0.3333333333333333,
              "#9c179e"
             ],
             [
              0.4444444444444444,
              "#bd3786"
             ],
             [
              0.5555555555555556,
              "#d8576b"
             ],
             [
              0.6666666666666666,
              "#ed7953"
             ],
             [
              0.7777777777777778,
              "#fb9f3a"
             ],
             [
              0.8888888888888888,
              "#fdca26"
             ],
             [
              1,
              "#f0f921"
             ]
            ],
            "type": "histogram2dcontour"
           }
          ],
          "mesh3d": [
           {
            "colorbar": {
             "outlinewidth": 0,
             "ticks": ""
            },
            "type": "mesh3d"
           }
          ],
          "parcoords": [
           {
            "line": {
             "colorbar": {
              "outlinewidth": 0,
              "ticks": ""
             }
            },
            "type": "parcoords"
           }
          ],
          "pie": [
           {
            "automargin": true,
            "type": "pie"
           }
          ],
          "scatter": [
           {
            "fillpattern": {
             "fillmode": "overlay",
             "size": 10,
             "solidity": 0.2
            },
            "type": "scatter"
           }
          ],
          "scatter3d": [
           {
            "line": {
             "colorbar": {
              "outlinewidth": 0,
              "ticks": ""
             }
            },
            "marker": {
             "colorbar": {
              "outlinewidth": 0,
              "ticks": ""
             }
            },
            "type": "scatter3d"
           }
          ],
          "scattercarpet": [
           {
            "marker": {
             "colorbar": {
              "outlinewidth": 0,
              "ticks": ""
             }
            },
            "type": "scattercarpet"
           }
          ],
          "scattergeo": [
           {
            "marker": {
             "colorbar": {
              "outlinewidth": 0,
              "ticks": ""
             }
            },
            "type": "scattergeo"
           }
          ],
          "scattergl": [
           {
            "marker": {
             "colorbar": {
              "outlinewidth": 0,
              "ticks": ""
             }
            },
            "type": "scattergl"
           }
          ],
          "scattermap": [
           {
            "marker": {
             "colorbar": {
              "outlinewidth": 0,
              "ticks": ""
             }
            },
            "type": "scattermap"
           }
          ],
          "scattermapbox": [
           {
            "marker": {
             "colorbar": {
              "outlinewidth": 0,
              "ticks": ""
             }
            },
            "type": "scattermapbox"
           }
          ],
          "scatterpolar": [
           {
            "marker": {
             "colorbar": {
              "outlinewidth": 0,
              "ticks": ""
             }
            },
            "type": "scatterpolar"
           }
          ],
          "scatterpolargl": [
           {
            "marker": {
             "colorbar": {
              "outlinewidth": 0,
              "ticks": ""
             }
            },
            "type": "scatterpolargl"
           }
          ],
          "scatterternary": [
           {
            "marker": {
             "colorbar": {
              "outlinewidth": 0,
              "ticks": ""
             }
            },
            "type": "scatterternary"
           }
          ],
          "surface": [
           {
            "colorbar": {
             "outlinewidth": 0,
             "ticks": ""
            },
            "colorscale": [
             [
              0,
              "#0d0887"
             ],
             [
              0.1111111111111111,
              "#46039f"
             ],
             [
              0.2222222222222222,
              "#7201a8"
             ],
             [
              0.3333333333333333,
              "#9c179e"
             ],
             [
              0.4444444444444444,
              "#bd3786"
             ],
             [
              0.5555555555555556,
              "#d8576b"
             ],
             [
              0.6666666666666666,
              "#ed7953"
             ],
             [
              0.7777777777777778,
              "#fb9f3a"
             ],
             [
              0.8888888888888888,
              "#fdca26"
             ],
             [
              1,
              "#f0f921"
             ]
            ],
            "type": "surface"
           }
          ],
          "table": [
           {
            "cells": {
             "fill": {
              "color": "#EBF0F8"
             },
             "line": {
              "color": "white"
             }
            },
            "header": {
             "fill": {
              "color": "#C8D4E3"
             },
             "line": {
              "color": "white"
             }
            },
            "type": "table"
           }
          ]
         },
         "layout": {
          "annotationdefaults": {
           "arrowcolor": "#2a3f5f",
           "arrowhead": 0,
           "arrowwidth": 1
          },
          "autotypenumbers": "strict",
          "coloraxis": {
           "colorbar": {
            "outlinewidth": 0,
            "ticks": ""
           }
          },
          "colorscale": {
           "diverging": [
            [
             0,
             "#8e0152"
            ],
            [
             0.1,
             "#c51b7d"
            ],
            [
             0.2,
             "#de77ae"
            ],
            [
             0.3,
             "#f1b6da"
            ],
            [
             0.4,
             "#fde0ef"
            ],
            [
             0.5,
             "#f7f7f7"
            ],
            [
             0.6,
             "#e6f5d0"
            ],
            [
             0.7,
             "#b8e186"
            ],
            [
             0.8,
             "#7fbc41"
            ],
            [
             0.9,
             "#4d9221"
            ],
            [
             1,
             "#276419"
            ]
           ],
           "sequential": [
            [
             0,
             "#0d0887"
            ],
            [
             0.1111111111111111,
             "#46039f"
            ],
            [
             0.2222222222222222,
             "#7201a8"
            ],
            [
             0.3333333333333333,
             "#9c179e"
            ],
            [
             0.4444444444444444,
             "#bd3786"
            ],
            [
             0.5555555555555556,
             "#d8576b"
            ],
            [
             0.6666666666666666,
             "#ed7953"
            ],
            [
             0.7777777777777778,
             "#fb9f3a"
            ],
            [
             0.8888888888888888,
             "#fdca26"
            ],
            [
             1,
             "#f0f921"
            ]
           ],
           "sequentialminus": [
            [
             0,
             "#0d0887"
            ],
            [
             0.1111111111111111,
             "#46039f"
            ],
            [
             0.2222222222222222,
             "#7201a8"
            ],
            [
             0.3333333333333333,
             "#9c179e"
            ],
            [
             0.4444444444444444,
             "#bd3786"
            ],
            [
             0.5555555555555556,
             "#d8576b"
            ],
            [
             0.6666666666666666,
             "#ed7953"
            ],
            [
             0.7777777777777778,
             "#fb9f3a"
            ],
            [
             0.8888888888888888,
             "#fdca26"
            ],
            [
             1,
             "#f0f921"
            ]
           ]
          },
          "colorway": [
           "#636efa",
           "#EF553B",
           "#00cc96",
           "#ab63fa",
           "#FFA15A",
           "#19d3f3",
           "#FF6692",
           "#B6E880",
           "#FF97FF",
           "#FECB52"
          ],
          "font": {
           "color": "#2a3f5f"
          },
          "geo": {
           "bgcolor": "white",
           "lakecolor": "white",
           "landcolor": "#E5ECF6",
           "showlakes": true,
           "showland": true,
           "subunitcolor": "white"
          },
          "hoverlabel": {
           "align": "left"
          },
          "hovermode": "closest",
          "mapbox": {
           "style": "light"
          },
          "paper_bgcolor": "white",
          "plot_bgcolor": "#E5ECF6",
          "polar": {
           "angularaxis": {
            "gridcolor": "white",
            "linecolor": "white",
            "ticks": ""
           },
           "bgcolor": "#E5ECF6",
           "radialaxis": {
            "gridcolor": "white",
            "linecolor": "white",
            "ticks": ""
           }
          },
          "scene": {
           "xaxis": {
            "backgroundcolor": "#E5ECF6",
            "gridcolor": "white",
            "gridwidth": 2,
            "linecolor": "white",
            "showbackground": true,
            "ticks": "",
            "zerolinecolor": "white"
           },
           "yaxis": {
            "backgroundcolor": "#E5ECF6",
            "gridcolor": "white",
            "gridwidth": 2,
            "linecolor": "white",
            "showbackground": true,
            "ticks": "",
            "zerolinecolor": "white"
           },
           "zaxis": {
            "backgroundcolor": "#E5ECF6",
            "gridcolor": "white",
            "gridwidth": 2,
            "linecolor": "white",
            "showbackground": true,
            "ticks": "",
            "zerolinecolor": "white"
           }
          },
          "shapedefaults": {
           "line": {
            "color": "#2a3f5f"
           }
          },
          "ternary": {
           "aaxis": {
            "gridcolor": "white",
            "linecolor": "white",
            "ticks": ""
           },
           "baxis": {
            "gridcolor": "white",
            "linecolor": "white",
            "ticks": ""
           },
           "bgcolor": "#E5ECF6",
           "caxis": {
            "gridcolor": "white",
            "linecolor": "white",
            "ticks": ""
           }
          },
          "title": {
           "x": 0.05
          },
          "xaxis": {
           "automargin": true,
           "gridcolor": "white",
           "linecolor": "white",
           "ticks": "",
           "title": {
            "standoff": 15
           },
           "zerolinecolor": "white",
           "zerolinewidth": 2
          },
          "yaxis": {
           "automargin": true,
           "gridcolor": "white",
           "linecolor": "white",
           "ticks": "",
           "title": {
            "standoff": 15
           },
           "zerolinecolor": "white",
           "zerolinewidth": 2
          }
         }
        },
        "title": {
         "text": "World Happiness Score by Country"
        },
        "width": 1200
       }
      },
      "text/html": [
       "<div>            <script src=\"https://cdnjs.cloudflare.com/ajax/libs/mathjax/2.7.5/MathJax.js?config=TeX-AMS-MML_SVG\"></script><script type=\"text/javascript\">if (window.MathJax && window.MathJax.Hub && window.MathJax.Hub.Config) {window.MathJax.Hub.Config({SVG: {font: \"STIX-Web\"}});}</script>                <script type=\"text/javascript\">window.PlotlyConfig = {MathJaxConfig: 'local'};</script>\n",
       "        <script charset=\"utf-8\" src=\"https://cdn.plot.ly/plotly-3.0.1.min.js\"></script>                <div id=\"cc098cb4-e931-44a9-889b-40529039e94d\" class=\"plotly-graph-div\" style=\"height:600px; width:1200px;\"></div>            <script type=\"text/javascript\">                window.PLOTLYENV=window.PLOTLYENV || {};                                if (document.getElementById(\"cc098cb4-e931-44a9-889b-40529039e94d\")) {                    Plotly.newPlot(                        \"cc098cb4-e931-44a9-889b-40529039e94d\",                        [{\"coloraxis\":\"coloraxis\",\"geo\":\"geo\",\"hovertemplate\":\"\\u003cb\\u003e%{hovertext}\\u003c\\u002fb\\u003e\\u003cbr\\u003e\\u003cbr\\u003eCountry=%{location}\\u003cbr\\u003eHappiness=%{z}\\u003cextra\\u003e\\u003c\\u002fextra\\u003e\",\"hovertext\":[\"Finland\",\"Denmark\",\"Norway\",\"Iceland\",\"Netherlands\",\"Switzerland\",\"Sweden\",\"New Zealand\",\"Canada\",\"Austria\",\"Australia\",\"Costa Rica\",\"Israel\",\"Luxembourg\",\"United Kingdom\",\"Ireland\",\"Germany\",\"Belgium\",\"United States\",\"United Arab Emirates\",\"Malta\",\"Mexico\",\"France\",\"Chile\",\"Guatemala\",\"Saudi Arabia\",\"Qatar\",\"Spain\",\"Panama\",\"Brazil\",\"Uruguay\",\"Singapore\",\"El Salvador\",\"Italy\",\"Bahrain\",\"Poland\",\"Uzbekistan\",\"Lithuania\",\"Colombia\",\"Slovenia\",\"Nicaragua\",\"Kosovo\",\"Argentina\",\"Romania\",\"Cyprus\",\"Ecuador\",\"Kuwait\",\"Thailand\",\"Latvia\",\"Estonia\",\"Jamaica\",\"Mauritius\",\"Japan\",\"Honduras\",\"Kazakhstan\",\"Bolivia\",\"Hungary\",\"Paraguay\",\"Peru\",\"Portugal\",\"Pakistan\",\"Philippines\",\"Serbia\",\"Moldova\",\"Libya\",\"Montenegro\",\"Tajikistan\",\"Croatia\",\"Dominican Republic\",\"Bosnia and Herzegovina\",\"Malaysia\",\"Belarus\",\"Greece\",\"Mongolia\",\"North Macedonia\",\"Nigeria\",\"Turkmenistan\",\"Algeria\",\"Morocco\",\"Azerbaijan\",\"Lebanon\",\"Indonesia\",\"China\",\"Bhutan\",\"Cameroon\",\"Bulgaria\",\"Ghana\",\"Nepal\",\"Jordan\",\"Benin\",\"Gabon\",\"South Africa\",\"Albania\",\"Cambodia\",\"Senegal\",\"Somalia\",\"Namibia\",\"Niger\",\"Burkina Faso\",\"Armenia\",\"Guinea\",\"Georgia\",\"Kenya\",\"Mauritania\",\"Mozambique\",\"Tunisia\",\"Bangladesh\",\"Iraq\",\"Mali\",\"Sierra Leone\",\"Sri Lanka\",\"Myanmar\",\"Chad\",\"Ukraine\",\"Ethiopia\",\"Uganda\",\"Zambia\",\"Togo\",\"India\",\"Liberia\",\"Comoros\",\"Madagascar\",\"Lesotho\",\"Burundi\",\"Zimbabwe\",\"Haiti\",\"Botswana\",\"Malawi\",\"Rwanda\",\"Tanzania\",\"Afghanistan\",\"Central African Republic\",\"South Sudan\"],\"locationmode\":\"country names\",\"locations\":[\"Finland\",\"Denmark\",\"Norway\",\"Iceland\",\"Netherlands\",\"Switzerland\",\"Sweden\",\"New Zealand\",\"Canada\",\"Austria\",\"Australia\",\"Costa Rica\",\"Israel\",\"Luxembourg\",\"United Kingdom\",\"Ireland\",\"Germany\",\"Belgium\",\"United States\",\"United Arab Emirates\",\"Malta\",\"Mexico\",\"France\",\"Chile\",\"Guatemala\",\"Saudi Arabia\",\"Qatar\",\"Spain\",\"Panama\",\"Brazil\",\"Uruguay\",\"Singapore\",\"El Salvador\",\"Italy\",\"Bahrain\",\"Poland\",\"Uzbekistan\",\"Lithuania\",\"Colombia\",\"Slovenia\",\"Nicaragua\",\"Kosovo\",\"Argentina\",\"Romania\",\"Cyprus\",\"Ecuador\",\"Kuwait\",\"Thailand\",\"Latvia\",\"Estonia\",\"Jamaica\",\"Mauritius\",\"Japan\",\"Honduras\",\"Kazakhstan\",\"Bolivia\",\"Hungary\",\"Paraguay\",\"Peru\",\"Portugal\",\"Pakistan\",\"Philippines\",\"Serbia\",\"Moldova\",\"Libya\",\"Montenegro\",\"Tajikistan\",\"Croatia\",\"Dominican Republic\",\"Bosnia and Herzegovina\",\"Malaysia\",\"Belarus\",\"Greece\",\"Mongolia\",\"North Macedonia\",\"Nigeria\",\"Turkmenistan\",\"Algeria\",\"Morocco\",\"Azerbaijan\",\"Lebanon\",\"Indonesia\",\"China\",\"Bhutan\",\"Cameroon\",\"Bulgaria\",\"Ghana\",\"Nepal\",\"Jordan\",\"Benin\",\"Gabon\",\"South Africa\",\"Albania\",\"Cambodia\",\"Senegal\",\"Somalia\",\"Namibia\",\"Niger\",\"Burkina Faso\",\"Armenia\",\"Guinea\",\"Georgia\",\"Kenya\",\"Mauritania\",\"Mozambique\",\"Tunisia\",\"Bangladesh\",\"Iraq\",\"Mali\",\"Sierra Leone\",\"Sri Lanka\",\"Myanmar\",\"Chad\",\"Ukraine\",\"Ethiopia\",\"Uganda\",\"Zambia\",\"Togo\",\"India\",\"Liberia\",\"Comoros\",\"Madagascar\",\"Lesotho\",\"Burundi\",\"Zimbabwe\",\"Haiti\",\"Botswana\",\"Malawi\",\"Rwanda\",\"Tanzania\",\"Afghanistan\",\"Central African Republic\",\"South Sudan\"],\"name\":\"\",\"z\":{\"dtype\":\"f8\",\"bdata\":\"+n5qvHQTH0BmZmZmZmYeQJ7vp8ZLNx5AYOXQItv5HUDByqFFtvMdQOxRuB6F6x1ArBxaZDtfHUDufD81XjodQOkmMQisHB1AlkOLbOf7HEC28\\u002f3UeOkcQF66SQwCqxxAdZMYBFaOHEBcj8L1KFwcQJ7vp8ZLNxxAL90kBoEVHEBxPQrXo\\u002fAbQP7UeOkmsRtAxSCwcmiRG0DNzMzMzEwbQIGVQ4ts5xpA4XoUrkdhGkCR7Xw\\u002fNV4aQC2yne+nxhlAWDm0yHa+GUAAAAAAAIAZQOXQItv5fhlA0SLb+X5qGUBiEFg5tEgZQDMzMzMzMxlAeekmMQgsGUA\\u002fNV66SQwZQFCNl24SAxlAMQisHFrkGECyne+nxssYQO58PzVeuhhAGQRWDi2yGEB\\u002farx0k5gYQAAAAAAAgBhARrbz\\u002fdR4GEDsUbgehWsYQGZmZmZmZhhA8tJNYhBYGEBI4XoUrkcYQMl2vp8aLxhA6SYxCKwcGEAv3SQGgRUYQNV46SYxCBhAw\\u002fUoXI\\u002fCF0DfT42XbpIXQI\\u002fC9ShcjxdAWmQ730+NF0AlBoGVQ4sXQHE9CtejcBdAI9v5fmo8F0AEVg4tsh0XQNV46SYxCBdARrbz\\u002fdT4FkB9PzVeuskWQBKDwMqhxRZA6SYxCKycFkCgGi\\u002fdJIYWQLbz\\u002fdR4aRZABFYOLbIdFkCamZmZmRkWQGQ730+NFxZAke18PzXeFUDufD81XroVQDMzMzMzsxVAJQaBlUOLFUBCYOXQIlsVQJhuEoPAShVA2c73U+MlFUCkcD0K1yMVQH9qvHSTGBVAj8L1KFwPFUCwcmiR7fwUQPLSTWIQ2BRAokW28\\u002f3UFECiRbbz\\u002fdQUQH0\\u002fNV66yRRA+FPjpZvEFEDdJAaBlcMUQIcW2c73UxRAkxgEVg4tFEAlBoGVQwsUQJZDi2zn+xNA9P3UeOmmE0A5tMh2vp8TQNV46SYxiBNAGQRWDi0yE0AX2c73U+MSQMdLN4lB4BJAzczMzMzMEkDTTWIQWLkSQHnpJjEIrBJAdZMYBFaOEkBQjZduEoMSQAwCK4cWWRJAI9v5fmo8EkCJQWDl0CISQPp+arx0ExJA8KfGSzcJEkD2KFyPwvURQHe+nxov3RFA8tJNYhDYEUBt5\\u002fup8dIRQHNoke18vxFAj8L1KFyPEUDl0CLb+X4RQBBYObTIdhFAcT0K16NwEUBmZmZmZmYRQIcW2c73UxFAvp8aL90kEUCoxks3icEQQCGwcmiRbRBA16NwPQpXEECPwvUoXA8QQM3MzMzMzA9AYhBYObTID0AQWDm0yHYPQNEi2\\u002fl+ag5AMzMzMzMzDkDn+6nx0k0NQC2yne+nxgxAgZVDi2znC0BI4XoUrkcLQHnpJjEIrApADAIrhxbZCUA5tMh2vp8JQESLbOf7qQhAbef7qfHSBkA=\"},\"type\":\"choropleth\"}],                        {\"template\":{\"data\":{\"histogram2dcontour\":[{\"type\":\"histogram2dcontour\",\"colorbar\":{\"outlinewidth\":0,\"ticks\":\"\"},\"colorscale\":[[0.0,\"#0d0887\"],[0.1111111111111111,\"#46039f\"],[0.2222222222222222,\"#7201a8\"],[0.3333333333333333,\"#9c179e\"],[0.4444444444444444,\"#bd3786\"],[0.5555555555555556,\"#d8576b\"],[0.6666666666666666,\"#ed7953\"],[0.7777777777777778,\"#fb9f3a\"],[0.8888888888888888,\"#fdca26\"],[1.0,\"#f0f921\"]]}],\"choropleth\":[{\"type\":\"choropleth\",\"colorbar\":{\"outlinewidth\":0,\"ticks\":\"\"}}],\"histogram2d\":[{\"type\":\"histogram2d\",\"colorbar\":{\"outlinewidth\":0,\"ticks\":\"\"},\"colorscale\":[[0.0,\"#0d0887\"],[0.1111111111111111,\"#46039f\"],[0.2222222222222222,\"#7201a8\"],[0.3333333333333333,\"#9c179e\"],[0.4444444444444444,\"#bd3786\"],[0.5555555555555556,\"#d8576b\"],[0.6666666666666666,\"#ed7953\"],[0.7777777777777778,\"#fb9f3a\"],[0.8888888888888888,\"#fdca26\"],[1.0,\"#f0f921\"]]}],\"heatmap\":[{\"type\":\"heatmap\",\"colorbar\":{\"outlinewidth\":0,\"ticks\":\"\"},\"colorscale\":[[0.0,\"#0d0887\"],[0.1111111111111111,\"#46039f\"],[0.2222222222222222,\"#7201a8\"],[0.3333333333333333,\"#9c179e\"],[0.4444444444444444,\"#bd3786\"],[0.5555555555555556,\"#d8576b\"],[0.6666666666666666,\"#ed7953\"],[0.7777777777777778,\"#fb9f3a\"],[0.8888888888888888,\"#fdca26\"],[1.0,\"#f0f921\"]]}],\"contourcarpet\":[{\"type\":\"contourcarpet\",\"colorbar\":{\"outlinewidth\":0,\"ticks\":\"\"}}],\"contour\":[{\"type\":\"contour\",\"colorbar\":{\"outlinewidth\":0,\"ticks\":\"\"},\"colorscale\":[[0.0,\"#0d0887\"],[0.1111111111111111,\"#46039f\"],[0.2222222222222222,\"#7201a8\"],[0.3333333333333333,\"#9c179e\"],[0.4444444444444444,\"#bd3786\"],[0.5555555555555556,\"#d8576b\"],[0.6666666666666666,\"#ed7953\"],[0.7777777777777778,\"#fb9f3a\"],[0.8888888888888888,\"#fdca26\"],[1.0,\"#f0f921\"]]}],\"surface\":[{\"type\":\"surface\",\"colorbar\":{\"outlinewidth\":0,\"ticks\":\"\"},\"colorscale\":[[0.0,\"#0d0887\"],[0.1111111111111111,\"#46039f\"],[0.2222222222222222,\"#7201a8\"],[0.3333333333333333,\"#9c179e\"],[0.4444444444444444,\"#bd3786\"],[0.5555555555555556,\"#d8576b\"],[0.6666666666666666,\"#ed7953\"],[0.7777777777777778,\"#fb9f3a\"],[0.8888888888888888,\"#fdca26\"],[1.0,\"#f0f921\"]]}],\"mesh3d\":[{\"type\":\"mesh3d\",\"colorbar\":{\"outlinewidth\":0,\"ticks\":\"\"}}],\"scatter\":[{\"fillpattern\":{\"fillmode\":\"overlay\",\"size\":10,\"solidity\":0.2},\"type\":\"scatter\"}],\"parcoords\":[{\"type\":\"parcoords\",\"line\":{\"colorbar\":{\"outlinewidth\":0,\"ticks\":\"\"}}}],\"scatterpolargl\":[{\"type\":\"scatterpolargl\",\"marker\":{\"colorbar\":{\"outlinewidth\":0,\"ticks\":\"\"}}}],\"bar\":[{\"error_x\":{\"color\":\"#2a3f5f\"},\"error_y\":{\"color\":\"#2a3f5f\"},\"marker\":{\"line\":{\"color\":\"#E5ECF6\",\"width\":0.5},\"pattern\":{\"fillmode\":\"overlay\",\"size\":10,\"solidity\":0.2}},\"type\":\"bar\"}],\"scattergeo\":[{\"type\":\"scattergeo\",\"marker\":{\"colorbar\":{\"outlinewidth\":0,\"ticks\":\"\"}}}],\"scatterpolar\":[{\"type\":\"scatterpolar\",\"marker\":{\"colorbar\":{\"outlinewidth\":0,\"ticks\":\"\"}}}],\"histogram\":[{\"marker\":{\"pattern\":{\"fillmode\":\"overlay\",\"size\":10,\"solidity\":0.2}},\"type\":\"histogram\"}],\"scattergl\":[{\"type\":\"scattergl\",\"marker\":{\"colorbar\":{\"outlinewidth\":0,\"ticks\":\"\"}}}],\"scatter3d\":[{\"type\":\"scatter3d\",\"line\":{\"colorbar\":{\"outlinewidth\":0,\"ticks\":\"\"}},\"marker\":{\"colorbar\":{\"outlinewidth\":0,\"ticks\":\"\"}}}],\"scattermap\":[{\"type\":\"scattermap\",\"marker\":{\"colorbar\":{\"outlinewidth\":0,\"ticks\":\"\"}}}],\"scattermapbox\":[{\"type\":\"scattermapbox\",\"marker\":{\"colorbar\":{\"outlinewidth\":0,\"ticks\":\"\"}}}],\"scatterternary\":[{\"type\":\"scatterternary\",\"marker\":{\"colorbar\":{\"outlinewidth\":0,\"ticks\":\"\"}}}],\"scattercarpet\":[{\"type\":\"scattercarpet\",\"marker\":{\"colorbar\":{\"outlinewidth\":0,\"ticks\":\"\"}}}],\"carpet\":[{\"aaxis\":{\"endlinecolor\":\"#2a3f5f\",\"gridcolor\":\"white\",\"linecolor\":\"white\",\"minorgridcolor\":\"white\",\"startlinecolor\":\"#2a3f5f\"},\"baxis\":{\"endlinecolor\":\"#2a3f5f\",\"gridcolor\":\"white\",\"linecolor\":\"white\",\"minorgridcolor\":\"white\",\"startlinecolor\":\"#2a3f5f\"},\"type\":\"carpet\"}],\"table\":[{\"cells\":{\"fill\":{\"color\":\"#EBF0F8\"},\"line\":{\"color\":\"white\"}},\"header\":{\"fill\":{\"color\":\"#C8D4E3\"},\"line\":{\"color\":\"white\"}},\"type\":\"table\"}],\"barpolar\":[{\"marker\":{\"line\":{\"color\":\"#E5ECF6\",\"width\":0.5},\"pattern\":{\"fillmode\":\"overlay\",\"size\":10,\"solidity\":0.2}},\"type\":\"barpolar\"}],\"pie\":[{\"automargin\":true,\"type\":\"pie\"}]},\"layout\":{\"autotypenumbers\":\"strict\",\"colorway\":[\"#636efa\",\"#EF553B\",\"#00cc96\",\"#ab63fa\",\"#FFA15A\",\"#19d3f3\",\"#FF6692\",\"#B6E880\",\"#FF97FF\",\"#FECB52\"],\"font\":{\"color\":\"#2a3f5f\"},\"hovermode\":\"closest\",\"hoverlabel\":{\"align\":\"left\"},\"paper_bgcolor\":\"white\",\"plot_bgcolor\":\"#E5ECF6\",\"polar\":{\"bgcolor\":\"#E5ECF6\",\"angularaxis\":{\"gridcolor\":\"white\",\"linecolor\":\"white\",\"ticks\":\"\"},\"radialaxis\":{\"gridcolor\":\"white\",\"linecolor\":\"white\",\"ticks\":\"\"}},\"ternary\":{\"bgcolor\":\"#E5ECF6\",\"aaxis\":{\"gridcolor\":\"white\",\"linecolor\":\"white\",\"ticks\":\"\"},\"baxis\":{\"gridcolor\":\"white\",\"linecolor\":\"white\",\"ticks\":\"\"},\"caxis\":{\"gridcolor\":\"white\",\"linecolor\":\"white\",\"ticks\":\"\"}},\"coloraxis\":{\"colorbar\":{\"outlinewidth\":0,\"ticks\":\"\"}},\"colorscale\":{\"sequential\":[[0.0,\"#0d0887\"],[0.1111111111111111,\"#46039f\"],[0.2222222222222222,\"#7201a8\"],[0.3333333333333333,\"#9c179e\"],[0.4444444444444444,\"#bd3786\"],[0.5555555555555556,\"#d8576b\"],[0.6666666666666666,\"#ed7953\"],[0.7777777777777778,\"#fb9f3a\"],[0.8888888888888888,\"#fdca26\"],[1.0,\"#f0f921\"]],\"sequentialminus\":[[0.0,\"#0d0887\"],[0.1111111111111111,\"#46039f\"],[0.2222222222222222,\"#7201a8\"],[0.3333333333333333,\"#9c179e\"],[0.4444444444444444,\"#bd3786\"],[0.5555555555555556,\"#d8576b\"],[0.6666666666666666,\"#ed7953\"],[0.7777777777777778,\"#fb9f3a\"],[0.8888888888888888,\"#fdca26\"],[1.0,\"#f0f921\"]],\"diverging\":[[0,\"#8e0152\"],[0.1,\"#c51b7d\"],[0.2,\"#de77ae\"],[0.3,\"#f1b6da\"],[0.4,\"#fde0ef\"],[0.5,\"#f7f7f7\"],[0.6,\"#e6f5d0\"],[0.7,\"#b8e186\"],[0.8,\"#7fbc41\"],[0.9,\"#4d9221\"],[1,\"#276419\"]]},\"xaxis\":{\"gridcolor\":\"white\",\"linecolor\":\"white\",\"ticks\":\"\",\"title\":{\"standoff\":15},\"zerolinecolor\":\"white\",\"automargin\":true,\"zerolinewidth\":2},\"yaxis\":{\"gridcolor\":\"white\",\"linecolor\":\"white\",\"ticks\":\"\",\"title\":{\"standoff\":15},\"zerolinecolor\":\"white\",\"automargin\":true,\"zerolinewidth\":2},\"scene\":{\"xaxis\":{\"backgroundcolor\":\"#E5ECF6\",\"gridcolor\":\"white\",\"linecolor\":\"white\",\"showbackground\":true,\"ticks\":\"\",\"zerolinecolor\":\"white\",\"gridwidth\":2},\"yaxis\":{\"backgroundcolor\":\"#E5ECF6\",\"gridcolor\":\"white\",\"linecolor\":\"white\",\"showbackground\":true,\"ticks\":\"\",\"zerolinecolor\":\"white\",\"gridwidth\":2},\"zaxis\":{\"backgroundcolor\":\"#E5ECF6\",\"gridcolor\":\"white\",\"linecolor\":\"white\",\"showbackground\":true,\"ticks\":\"\",\"zerolinecolor\":\"white\",\"gridwidth\":2}},\"shapedefaults\":{\"line\":{\"color\":\"#2a3f5f\"}},\"annotationdefaults\":{\"arrowcolor\":\"#2a3f5f\",\"arrowhead\":0,\"arrowwidth\":1},\"geo\":{\"bgcolor\":\"white\",\"landcolor\":\"#E5ECF6\",\"subunitcolor\":\"white\",\"showland\":true,\"showlakes\":true,\"lakecolor\":\"white\"},\"title\":{\"x\":0.05},\"mapbox\":{\"style\":\"light\"}}},\"geo\":{\"domain\":{\"x\":[0.0,1.0],\"y\":[0.0,1.0]},\"center\":{},\"projection\":{\"type\":\"natural earth\"},\"showframe\":false,\"showcoastlines\":true},\"coloraxis\":{\"colorbar\":{\"title\":{\"text\":\"Happiness\"}},\"colorscale\":[[0.0,\"#0d0887\"],[0.1111111111111111,\"#46039f\"],[0.2222222222222222,\"#7201a8\"],[0.3333333333333333,\"#9c179e\"],[0.4444444444444444,\"#bd3786\"],[0.5555555555555556,\"#d8576b\"],[0.6666666666666666,\"#ed7953\"],[0.7777777777777778,\"#fb9f3a\"],[0.8888888888888888,\"#fdca26\"],[1.0,\"#f0f921\"]]},\"legend\":{\"tracegroupgap\":0},\"title\":{\"text\":\"World Happiness Score by Country\"},\"height\":600,\"width\":1200,\"margin\":{\"r\":0,\"t\":60,\"l\":0,\"b\":0}},                        {\"responsive\": true}                    ).then(function(){\n",
       "                            \n",
       "var gd = document.getElementById('cc098cb4-e931-44a9-889b-40529039e94d');\n",
       "var x = new MutationObserver(function (mutations, observer) {{\n",
       "        var display = window.getComputedStyle(gd).display;\n",
       "        if (!display || display === 'none') {{\n",
       "            console.log([gd, 'removed!']);\n",
       "            Plotly.purge(gd);\n",
       "            observer.disconnect();\n",
       "        }}\n",
       "}});\n",
       "\n",
       "// Listen for the removal of the full notebook cells\n",
       "var notebookContainer = gd.closest('#notebook-container');\n",
       "if (notebookContainer) {{\n",
       "    x.observe(notebookContainer, {childList: true});\n",
       "}}\n",
       "\n",
       "// Listen for the clearing of the current output cell\n",
       "var outputEl = gd.closest('.output');\n",
       "if (outputEl) {{\n",
       "    x.observe(outputEl, {childList: true});\n",
       "}}\n",
       "\n",
       "                        })                };            </script>        </div>"
      ]
     },
     "metadata": {},
     "output_type": "display_data"
    }
   ],
   "source": [
    "import pandas as pd\n",
    "import plotly.express as px\n",
    "\n",
    "df = pd.read_csv('final.csv')\n",
    "\n",
    "fig = px.choropleth(\n",
    "    df,\n",
    "    locations='Country',\n",
    "    locationmode='country names',\n",
    "    color='Happiness',\n",
    "    hover_name='Country',\n",
    "    color_continuous_scale='Plasma',\n",
    "    title='World Happiness Score by Country',\n",
    "    width=1200,\n",
    "    height=600\n",
    ")\n",
    "\n",
    "fig.update_layout(\n",
    "    geo=dict(\n",
    "        showframe=False,\n",
    "        showcoastlines=True,\n",
    "        projection_type='natural earth'\n",
    "    ),\n",
    "    margin={\"r\":0,\"t\":60,\"l\":0,\"b\":0}\n",
    ")\n",
    "\n",
    "fig.show()\n"
   ]
  }
 ],
 "metadata": {
  "kernelspec": {
   "display_name": "jupyterbook",
   "language": "python",
   "name": "python3"
  },
  "language_info": {
   "codemirror_mode": {
    "name": "ipython",
    "version": 3
   },
   "file_extension": ".py",
   "mimetype": "text/x-python",
   "name": "python",
   "nbconvert_exporter": "python",
   "pygments_lexer": "ipython3",
   "version": "3.10.16"
  }
 },
 "nbformat": 4,
 "nbformat_minor": 5
}
