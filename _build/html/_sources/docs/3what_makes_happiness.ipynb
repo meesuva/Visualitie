{
 "cells": [
  {
   "cell_type": "markdown",
   "id": "f45842d4",
   "metadata": {},
   "source": [
    "# What makes Happiness?"
   ]
  },
  {
   "cell_type": "markdown",
   "id": "f70591b2",
   "metadata": {},
   "source": [
    "For a long time, people have been interested in what makes us happy and how we can improve well-being in society. One big question is whether having more money or wealth actually makes people happier, or if there are other things that matter more. We often hear the saying “money can’t buy happiness,” but the real answer is a bit more complicated than that.\n",
    "\n",
    "In this data story, we will explore how happiness relates to different economic and social factors using information from the World Happiness Report 2019 and World Development Indicators. This report looks at how happy people are in different countries and compares that with demographic variables like GDP per capita, Gross National Income (GNI), the gini index, unemployment rates, education levels, and life expectancy.\n",
    "\n",
    "We want to find out if richer countries really have happier people, and if so, how strong this connection is. But we will also look beyond money to see how things like having a job, going to school, and living a long, healthy life affect happiness. For example, being unemployed might make people less happy even if their country is wealthy, and having a good education could improve well-being in ways that money alone can’t.\n",
    "\n",
    "First, we will compare happiness scores with income indicators like GDP per capita and GNI. Then, we will analyze how unemployment rates relate to happiness. After that, we will look at the gini index, education and life expectancy to see how these factors could affect happiness scores across countries.\n",
    "\n",
    "By comparing these different aspects, we hope to better understand what really contributes to happiness around the world. This will help us see whether the saying “money buys happiness” really holds. And if it doesn’t hold, we could find out what does make happiness.\n"
   ]
  },
  {
   "cell_type": "markdown",
   "id": "623446df",
   "metadata": {},
   "source": [
    "**Money does buy happiness**\n",
    "\n",
    "It is often proposed that greater national wealth leads to higher levels of happiness among citizens. To see wether they are correlated, we analysed how average happiness scores relate to three key economic indicators: Gross Domestic Product (GDP), Gross National Income (GNI), and the Gini Index (Income inequality).\n",
    "\n",
    "\n",
    "\n",
    "The trendlines suggest that countries with higher GDP and GNI often report higher happiness levels. This supports the general belief that wealth leads to happiness due to the fact that wealth increases access to basic needs, and social stability, factors that are positively associated with well-being and happiness. However, the relationship is not linear, and several wealthy countries show only moderate happiness scores, this suggests other factors are still extremely relevant and happiness cannot be predicted by looking at wealth alone. Correlation does not imply causation, and the observed pattern may be influenced by unmeasured factors.\n",
    "\n",
    "The third plot, Happiness vs Gini Index, presents a different insight. Within this dataset, a negative correlation is visible, with happiness tending to decline as income inequality (measured by the Gini Index) increases. . In other words, even among wealthier nations, greater inequality is associated with lower average happiness. This aligns with findings by researchers such as Oishi et al., (2011), who in their research found that americans reported being happier on average in years where the national income inequality was less. This suggests income inequality might be a factor which has impact on the happiness . However income inequality may be acting as a substitute for how people perceive the fairness in society and the level of social mobility people have. Happiness is also a subjective measurement, and cultural differences in how inequality is perceived can vary widely, potentially affecting how people respond in surveys.\n",
    "\n",
    "The plots suggest that while wealth does matter, its distribution may be even more of a factor. Factors such as income equality are likely important to how people will respond to questions about their happiness. "
   ]
  },
  {
   "cell_type": "code",
   "execution_count": null,
   "id": "4d5f346a",
   "metadata": {
    "tags": [
     "remove-input"
    ]
   },
   "outputs": [
    {
     "data": {
      "text/html": [
       "        <script type=\"text/javascript\">\n",
       "        window.PlotlyConfig = {MathJaxConfig: 'local'};\n",
       "        if (window.MathJax && window.MathJax.Hub && window.MathJax.Hub.Config) {window.MathJax.Hub.Config({SVG: {font: \"STIX-Web\"}});}\n",
       "        </script>\n",
       "        <script type=\"module\">import \"https://cdn.plot.ly/plotly-3.0.1.min\"</script>\n",
       "        "
      ]
     },
     "metadata": {},
     "output_type": "display_data"
    },
    {
     "data": {
      "application/vnd.plotly.v1+json": {
       "config": {
        "linkText": "Export to plot.ly",
        "plotlyServerURL": "https://plot.ly",
        "showLink": false
       },
       "data": [
        {
         "customdata": {
          "bdata": "AQACAAMABQAGAAcACQAKAAwADQAOAA8AEAARABIAEwAVABcAHAAdAB4AHwAhACIAJAAmACcAKAAqACsALAAtAC4AMAAxADIANQA2ADcAOAA5ADoAOwA8AD8AQABCAEQARQBIAEkASwBSAFMAVgBdAGQAZgBoAGkAbwByAHQAfQCAAA==",
          "dtype": "i2"
         },
         "hovertemplate": "Country: %{text}<br>Rank: %{customdata} out of 133<br>Gini Index: %{x:.1f}<br>Happiness: %{y:.2f}<extra></extra>",
         "mode": "markers",
         "name": "Gini Index",
         "text": [
          "Finland",
          "Denmark",
          "Norway",
          "Netherlands",
          "Switzerland",
          "Sweden",
          "Canada",
          "Austria",
          "Costa Rica",
          "Israel",
          "Luxembourg",
          "United Kingdom",
          "Ireland",
          "Germany",
          "Belgium",
          "United States",
          "Malta",
          "France",
          "Spain",
          "Panama",
          "Brazil",
          "Uruguay",
          "El Salvador",
          "Italy",
          "Poland",
          "Lithuania",
          "Colombia",
          "Slovenia",
          "Kosovo",
          "Argentina",
          "Romania",
          "Cyprus",
          "Ecuador",
          "Thailand",
          "Latvia",
          "Estonia",
          "Japan",
          "Honduras",
          "Kazakhstan",
          "Bolivia",
          "Hungary",
          "Paraguay",
          "Peru",
          "Portugal",
          "Serbia",
          "Moldova",
          "Montenegro",
          "Croatia",
          "Dominican Republic",
          "Belarus",
          "Greece",
          "North Macedonia",
          "Indonesia",
          "China",
          "Bulgaria",
          "Albania",
          "Armenia",
          "Georgia",
          "Mauritania",
          "Mozambique",
          "Sri Lanka",
          "Ukraine",
          "Uganda",
          "Zimbabwe",
          "Malawi"
         ],
         "type": "scatter",
         "visible": true,
         "x": {
          "bdata": "MzMzMzOzO0AzMzMzM7M7QDMzMzMzsztAMzMzMzMzPUAAAAAAAABBQM3MzMzMTD1AMzMzMzOzP0AzMzMzMzM+QJqZmZmZGUhAZmZmZmYmQ0CamZmZmRlBQGZmZmZmZkBAzczMzMxMPkDNzMzMzMw/QDMzMzMzMztAMzMzMzPzREAAAAAAAAA/QDMzMzMzMz9AZmZmZmYmQUBmZmZmZuZIQAAAAAAAwEpAmpmZmZnZQ0BmZmZmZmZDQM3MzMzMTEFAzczMzMzMPEBmZmZmZqZBQGZmZmZmpklAZmZmZmZmOECamZmZmRlEQGZmZmZmpkVAZmZmZmZmQUAzMzMzMzM/QJqZmZmZ2UZAMzMzMzNzQUAAAAAAAEBBQM3MzMzMzD5AAAAAAACAQECamZmZmRlIQAAAAAAAADxAzczMzMzMREAAAAAAAAA+QJqZmZmZ2UZAAAAAAADAREBmZmZmZmZAQAAAAAAAQEFAAAAAAAAAOkCamZmZmdlBQGZmZmZm5jxAMzMzMzPzREDNzMzMzEw5QM3MzMzMjEBAAAAAAADAQEAzMzMzM7NBQJqZmZmZGUNAZmZmZmYmRECamZmZmRk+QAAAAAAAAD5AMzMzMzPzQUAAAAAAAABAQGZmZmZmJklAmpmZmZnZQkCamZmZmZk6QJqZmZmZWUVAZmZmZmYmSUAAAAAAAEBDQA==",
          "dtype": "f8"
         },
         "y": {
          "bdata": "+n5qvHQTH0BmZmZmZmYeQJ7vp8ZLNx5AwcqhRbbzHUDsUbgehesdQKwcWmQ7Xx1A6SYxCKwcHUCWQ4ts5/scQF66SQwCqxxAdZMYBFaOHEBcj8L1KFwcQJ7vp8ZLNxxAL90kBoEVHEBxPQrXo/AbQP7UeOkmsRtAxSCwcmiRG0CBlUOLbOcaQJHtfD81XhpA0SLb+X5qGUBiEFg5tEgZQDMzMzMzMxlAeekmMQgsGUBQjZduEgMZQDEIrBxa5BhA7nw/NV66GEB/arx0k5gYQAAAAAAAgBhARrbz/dR4GEBmZmZmZmYYQPLSTWIQWBhASOF6FK5HGEDJdr6fGi8YQOkmMQisHBhA1XjpJjEIGEDD9Shcj8IXQN9PjZdukhdAJQaBlUOLF0BxPQrXo3AXQCPb+X5qPBdABFYOLbIdF0DVeOkmMQgXQEa28/3U+BZAfT81XrrJFkASg8DKocUWQLbz/dR4aRZABFYOLbIdFkBkO99PjRcWQO58PzVeuhVAMzMzMzOzFUCYbhKDwEoVQNnO91PjJRVAf2q8dJMYFUD4U+Olm8QUQN0kBoGVwxRAJQaBlUMLFEDHSzeJQeASQCPb+X5qPBJA+n5qvHQTEkD2KFyPwvURQHe+nxov3RFAEFg5tMh2EUCHFtnO91MRQKjGSzeJwRBA5/up8dJNDUBI4XoUrkcLQA==",
          "dtype": "f8"
         }
        },
        {
         "customdata": {
          "bdata": "AQACAAMABAAFAAYABwAIAAkACgALAAwADQAOAA8AEAARABIAEwAUABUAFgAXABgAGQAaABsAHAAdAB4AHwAgACEAIgAjACQAJQAmACcAKAApACoAKwAsAC0ALgAvADAAMQAyADMANAA1ADYANwA4ADkAOgA7ADwAPQA+AD8AQABBAEIAQwBEAEUARgBHAEgASQBKAEsATABNAE4ATwBPAFEAUgBTAFQAVQBWAFcAWABZAFoAWwBcAF0AXgBfAGAAYQBiAGMAZABlAGYAZwBoAGkAagBrAGwAbQBuAG8AcABxAHIAcwB0AHUAdgB3AHgAeQB6AHsAfAB9AH4AfwCAAIEAggCDAIQA",
          "dtype": "i2"
         },
         "hovertemplate": "Country: %{text}<br>Rank: %{customdata} out of 133<br>GDP per Capita: $%{x:,.0f}<br>Happiness: %{y:.2f}<extra></extra>",
         "mode": "markers",
         "name": "GDP per Capita",
         "text": [
          "Finland",
          "Denmark",
          "Norway",
          "Iceland",
          "Netherlands",
          "Switzerland",
          "Sweden",
          "New Zealand",
          "Canada",
          "Austria",
          "Australia",
          "Costa Rica",
          "Israel",
          "Luxembourg",
          "United Kingdom",
          "Ireland",
          "Germany",
          "Belgium",
          "United States",
          "United Arab Emirates",
          "Malta",
          "Mexico",
          "France",
          "Chile",
          "Guatemala",
          "Saudi Arabia",
          "Qatar",
          "Spain",
          "Panama",
          "Brazil",
          "Uruguay",
          "Singapore",
          "El Salvador",
          "Italy",
          "Bahrain",
          "Poland",
          "Uzbekistan",
          "Lithuania",
          "Colombia",
          "Slovenia",
          "Nicaragua",
          "Kosovo",
          "Argentina",
          "Romania",
          "Cyprus",
          "Ecuador",
          "Kuwait",
          "Thailand",
          "Latvia",
          "Estonia",
          "Jamaica",
          "Mauritius",
          "Japan",
          "Honduras",
          "Kazakhstan",
          "Bolivia",
          "Hungary",
          "Paraguay",
          "Peru",
          "Portugal",
          "Pakistan",
          "Philippines",
          "Serbia",
          "Moldova",
          "Libya",
          "Montenegro",
          "Tajikistan",
          "Croatia",
          "Dominican Republic",
          "Bosnia and Herzegovina",
          "Malaysia",
          "Belarus",
          "Greece",
          "Mongolia",
          "North Macedonia",
          "Nigeria",
          "Turkmenistan",
          "Algeria",
          "Morocco",
          "Azerbaijan",
          "Lebanon",
          "Indonesia",
          "China",
          "Bhutan",
          "Cameroon",
          "Bulgaria",
          "Ghana",
          "Nepal",
          "Jordan",
          "Benin",
          "Gabon",
          "South Africa",
          "Albania",
          "Cambodia",
          "Senegal",
          "Somalia",
          "Namibia",
          "Niger",
          "Burkina Faso",
          "Armenia",
          "Guinea",
          "Georgia",
          "Kenya",
          "Mauritania",
          "Mozambique",
          "Tunisia",
          "Bangladesh",
          "Iraq",
          "Mali",
          "Sierra Leone",
          "Sri Lanka",
          "Myanmar",
          "Chad",
          "Ukraine",
          "Ethiopia",
          "Uganda",
          "Zambia",
          "Togo",
          "India",
          "Liberia",
          "Comoros",
          "Madagascar",
          "Lesotho",
          "Burundi",
          "Zimbabwe",
          "Haiti",
          "Botswana",
          "Malawi",
          "Rwanda",
          "Tanzania",
          "Afghanistan",
          "Central African Republic"
         ],
         "type": "scatter",
         "visible": false,
         "x": {
          "bdata": "nLSEaqkVT0JcJ/0N4hpUQtNFkzK+yldCSS6Fqn38FkICD7Hg3QhrQivXEmSe/mRCKXxVwPD5XkIxuJEIVcdIQlKIK+zhX3lC4/VAffjIWUI9KmzzTER0QoG18kov/y1Cvndb00NDV0KOlWt6zEUwQnter+Mov4RCrj8A9KGyV0Jxfe3X38qMQkxftYTYPV9CAIC/+SqXs0Ken6E/iFRYQvs61o93bg5C9uyilyz6ckIUHkUfmc+DQtPdp0DFMlBC1qVKHNT3MUIAAMBsy2doQn+KNPxFiERCUmRGdW5sdEIAAGDoJj8wQjMnONmKQntCmB1esHr5LELdnNGwRfBVQgAAgJT2CBlCe3iSIZ9jfULPRn2jotUiQikcpBBYimFCmMzs6AZWL0KNl2P2D6spQsM1siWMzVJCChdfR5AaKUL4U81sXqcHQtaQl97Gbf1BZs43kRAQWkJcP9PBj0xNQgcfbqvFZRhCAAAIDzYNOUKPAjsC2WVAQrR4FGbiqV9CVGM7ZYnTHkINIIg8S68dQhTQVZ+yfA1CgRUdY8njCkIKYoHSgJ6SQmM/N4liLBdCIUBroBomRUL5kbc1GgsjQlrUlc0wGENCfkyyeQ2pIULy0vnEPZVKQm+CB3gD9EtC0aoAfeytUkJkO8EzG+9VQhUdQf8rFSlCb5L1e4rcBUKdsdfA4x8wQsAEUpJQpfRBNe/00UXs/kFkXeO9gZ8sQl09jqRRtTRCGYTNOW8TE0IGYS90kkFVQpyzvvRI/i1Cb4JvlzAiSEJJHUyvHnYKQkJghKwrewdCgR0nk9yeW0LWtm1ALRAlQqhWhRaMhUZCP3WpJj8EPkI2PDz90G4mQleMtuPoByhCpJwJzvhIcEJmP4PmoPmpQnk7Sf7mYeRBy1Cv48N4IkIOj6IRivUvQtVpv1CF0i9CHRps4Z7WH0JwDgT5K7kkQpZDKKV9zgpCxSDL8lduD0I3EZg1eKlWQuSDWKeOBw1C8nDvOjwVIUKmimCN8ssVQhkEwHoJHwBCCtd7G3VcB0LW1kkTOAIIQjL3+o0K3Q1CW7FZDS9eCUIukMNNDgoJQoGmc6lObRBC+l5vYgVfN0KAK13VCGn9QUJgNVgP5QxCZqZlt4qDI0JK7LJuwnFUQkQrhPflMktC3yDozu4XEEKMIWZPXk34QfEjKMe0uTRCb7Aznzp6MUKP052dYxMFQtvJKnsS6kFCn03qP9ZUNkLP164V1HUgQjjnFC44tRVCOPNVLMIM+kGFcd1tuqGEQgAAgLqgu+hBn6v5QqPO0UHnDDTToEUKQhh9+hrnz+FBXFr621Ey40GmyskggvMXQpoZjOk6+AtCgmKk1YgnD0Iuf16v8JUEQtej4lTuRgNCtdcrD/RqLEKCcygII4IRQsMN7szLjOBB",
          "dtype": "f8"
         },
         "y": {
          "bdata": "+n5qvHQTH0BmZmZmZmYeQJ7vp8ZLNx5AYOXQItv5HUDByqFFtvMdQOxRuB6F6x1ArBxaZDtfHUDufD81XjodQOkmMQisHB1AlkOLbOf7HEC28/3UeOkcQF66SQwCqxxAdZMYBFaOHEBcj8L1KFwcQJ7vp8ZLNxxAL90kBoEVHEBxPQrXo/AbQP7UeOkmsRtAxSCwcmiRG0DNzMzMzEwbQIGVQ4ts5xpA4XoUrkdhGkCR7Xw/NV4aQC2yne+nxhlAWDm0yHa+GUAAAAAAAIAZQOXQItv5fhlA0SLb+X5qGUBiEFg5tEgZQDMzMzMzMxlAeekmMQgsGUA/NV66SQwZQFCNl24SAxlAMQisHFrkGECyne+nxssYQO58PzVeuhhAGQRWDi2yGEB/arx0k5gYQAAAAAAAgBhARrbz/dR4GEDsUbgehWsYQGZmZmZmZhhA8tJNYhBYGEBI4XoUrkcYQMl2vp8aLxhA6SYxCKwcGEAv3SQGgRUYQNV46SYxCBhAw/UoXI/CF0DfT42XbpIXQI/C9ShcjxdAWmQ730+NF0AlBoGVQ4sXQHE9CtejcBdAI9v5fmo8F0AEVg4tsh0XQNV46SYxCBdARrbz/dT4FkB9PzVeuskWQBKDwMqhxRZA6SYxCKycFkCgGi/dJIYWQLbz/dR4aRZABFYOLbIdFkCamZmZmRkWQGQ730+NFxZAke18PzXeFUDufD81XroVQDMzMzMzsxVAJQaBlUOLFUBCYOXQIlsVQJhuEoPAShVA2c73U+MlFUCkcD0K1yMVQH9qvHSTGBVAj8L1KFwPFUCwcmiR7fwUQPLSTWIQ2BRAokW28/3UFECiRbbz/dQUQH0/NV66yRRA+FPjpZvEFEDdJAaBlcMUQIcW2c73UxRAkxgEVg4tFEAlBoGVQwsUQJZDi2zn+xNA9P3UeOmmE0A5tMh2vp8TQNV46SYxiBNAGQRWDi0yE0AX2c73U+MSQMdLN4lB4BJAzczMzMzMEkDTTWIQWLkSQHnpJjEIrBJAdZMYBFaOEkBQjZduEoMSQAwCK4cWWRJAI9v5fmo8EkCJQWDl0CISQPp+arx0ExJA8KfGSzcJEkD2KFyPwvURQHe+nxov3RFA8tJNYhDYEUBt5/up8dIRQHNoke18vxFAj8L1KFyPEUDl0CLb+X4RQBBYObTIdhFAcT0K16NwEUBmZmZmZmYRQIcW2c73UxFAvp8aL90kEUCoxks3icEQQCGwcmiRbRBA16NwPQpXEECPwvUoXA8QQM3MzMzMzA9AYhBYObTID0AQWDm0yHYPQNEi2/l+ag5AMzMzMzMzDkDn+6nx0k0NQC2yne+nxgxAgZVDi2znC0BI4XoUrkcLQHnpJjEIrApADAIrhxbZCUA5tMh2vp8JQESLbOf7qQhA",
          "dtype": "f8"
         }
        },
        {
         "customdata": {
          "bdata": "AQACAAMABAAFAAYABwAIAAkACgALAAwADQAOAA8AEAARABIAEwAUABUAFgAXABgAGQAaABsAHAAdAB4AHwAgACEAIgAjACQAJQAmACcAKAApACoAKwAsAC0ALgAvADAAMQAyADMANAA1ADYANwA4ADkAOgA7ADwAPQA+AD8AQABBAEIAQwBEAEUARgBHAEgASQBKAEsATABNAE4ATwBPAFEAUgBTAFQAVQBWAFcAWABZAFoAWwBcAF0AXgBfAGAAYQBiAGMAZABlAGYAZwBoAGkAagBrAGwAbQBuAG8AcABxAHIAcwB0AHUAdgB3AHgAeQB6AHsAfAB9AH4AfwCAAIEAggCDAIQA",
          "dtype": "i2"
         },
         "hovertemplate": "Country: %{text}<br>Rank: %{customdata} out of 133<br>GNI per Capita: $%{x:,.0f}<br>Happiness: %{y:.2f}<extra></extra>",
         "mode": "markers",
         "name": "GNI per Capita",
         "text": [
          "Finland",
          "Denmark",
          "Norway",
          "Iceland",
          "Netherlands",
          "Switzerland",
          "Sweden",
          "New Zealand",
          "Canada",
          "Austria",
          "Australia",
          "Costa Rica",
          "Israel",
          "Luxembourg",
          "United Kingdom",
          "Ireland",
          "Germany",
          "Belgium",
          "United States",
          "United Arab Emirates",
          "Malta",
          "Mexico",
          "France",
          "Chile",
          "Guatemala",
          "Saudi Arabia",
          "Qatar",
          "Spain",
          "Panama",
          "Brazil",
          "Uruguay",
          "Singapore",
          "El Salvador",
          "Italy",
          "Bahrain",
          "Poland",
          "Uzbekistan",
          "Lithuania",
          "Colombia",
          "Slovenia",
          "Nicaragua",
          "Kosovo",
          "Argentina",
          "Romania",
          "Cyprus",
          "Ecuador",
          "Kuwait",
          "Thailand",
          "Latvia",
          "Estonia",
          "Jamaica",
          "Mauritius",
          "Japan",
          "Honduras",
          "Kazakhstan",
          "Bolivia",
          "Hungary",
          "Paraguay",
          "Peru",
          "Portugal",
          "Pakistan",
          "Philippines",
          "Serbia",
          "Moldova",
          "Libya",
          "Montenegro",
          "Tajikistan",
          "Croatia",
          "Dominican Republic",
          "Bosnia and Herzegovina",
          "Malaysia",
          "Belarus",
          "Greece",
          "Mongolia",
          "North Macedonia",
          "Nigeria",
          "Turkmenistan",
          "Algeria",
          "Morocco",
          "Azerbaijan",
          "Lebanon",
          "Indonesia",
          "China",
          "Bhutan",
          "Cameroon",
          "Bulgaria",
          "Ghana",
          "Nepal",
          "Jordan",
          "Benin",
          "Gabon",
          "South Africa",
          "Albania",
          "Cambodia",
          "Senegal",
          "Somalia",
          "Namibia",
          "Niger",
          "Burkina Faso",
          "Armenia",
          "Guinea",
          "Georgia",
          "Kenya",
          "Mauritania",
          "Mozambique",
          "Tunisia",
          "Bangladesh",
          "Iraq",
          "Mali",
          "Sierra Leone",
          "Sri Lanka",
          "Myanmar",
          "Chad",
          "Ukraine",
          "Ethiopia",
          "Uganda",
          "Zambia",
          "Togo",
          "India",
          "Liberia",
          "Comoros",
          "Madagascar",
          "Lesotho",
          "Burundi",
          "Zimbabwe",
          "Haiti",
          "Botswana",
          "Malawi",
          "Rwanda",
          "Tanzania",
          "Afghanistan",
          "Central African Republic"
         ],
         "type": "scatter",
         "visible": false,
         "x": {
          "bdata": "h5YeWaNrT0LBKs+phbBUQtNF54jghFhChJ7gR8GhF0JUX9dnh/NpQr7DSkf5Q2RCI9t7xwvgX0Jz6BDKhyhIQo9a8h55EnlCzdx0awfOWULNxBNGspVzQi4Q0hYkNSxC3yfHMr0mV0LY4dHEbEsmQmbQ9wLNuYRCP80xowgIUkKPID1hRFuNQvD/W71Dfl9CAIAFcIXLs0JGvnFnQHNYQpkqq3+ikAtCUqAo24VxckLNXDrG90eEQqpRK92ALk9CTYTm6iOkMUJYVQUijaRoQpPYKUrbBERCKSjkLW9TdEIAAEgdYHsuQnvUN+8uh3pCrQlUcy+OK0KasUgdVGVTQgAAAFU4yRdCH5kQl0mAfUIxiMluJcghQjs7jaHt0GBChgk8gcqtL0JfaaXrYqIoQhdJX+B9ZFJCrLycm1jwKEIl9bfS+MgGQmnSmWNDGf5BKaThFfwJWUIncaxTJeJMQjrjNKI6FxdCAABoCNVWOEInwQpc9b9CQnFNpAPhf15CS1kBiCNpH0KHljYwDZMcQkjQVZQsqgxC5x0/++k5DEIfVAriO1mTQgbBblimUhVCXop2qM+BQkKE/jC+dKciQj+VrlIql0JCe9TGwwQfIUIb/z/YI59JQuP12+BgNktCiZmoCVRaUkIrt8d6TyFYQgQHlJdTyidCj8LJ18YBB0J2v8XU84wwQkgKpZ214PRB11JuN47wAUIT8hBAjIcsQjWO7ifLwjNCMKqqyzQLE0InUZG9f7NUQnvUunmPGi1CQlCYZQeuR0I8zl5YiIgHQnDOV9/OZQZCy1mQDloWW0IqSfKpWMMkQjdp5P/8EEZC/ImR6oOQPUKHhwdXmZElQleMtl07cydCSBmrR3eUb0JmNyNq/+apQmcKXh4TrOJBxHFMEE4UIkJGFKngB/UuQl6aNlqDgy5CmRsVynYVIEJtha3HD7okQuPHzzu7rApC/XaE9EjkDEL6ruOFqBhWQg7PPohvpwxCsTBUTixRIEJ65TFhbDoVQl1cCp0EDgBCLGWcY7XJBkKxYWnBZhsJQjlFx3I6jAxCL24U68K3CUKxUDvqp9MIQsiHvSnfXg9Cxe50Bl7/NkIl9cDlQw39Qa5YDHU9YQxC1QeBK1QBI0IMiodqJEhVQkQrJJEkEEtCNABrl0DkDkLqz7Wx2gr4QZ3wg6WEJjRCrzVE6cHpMEKJQWEmccAEQri++YoOI0JCidIxzrExNkIirrn9pAggQtlOmybCVBVCHUnUatoh+kEzsWIJ/m6EQgAAgHnhGOZBxM4UfSvk0UGWsh7l2loJQgtBNGkLQeVB4Sg/iHZA40F6BxMq1IYXQl1tj3LoDwxCulrHI7I/D0LXo/Jx5xYEQrkNHzv7oAJCA1gSPRvyK0LZ/eovL8URQh8Rl4X6xuFB",
          "dtype": "f8"
         },
         "y": {
          "bdata": "+n5qvHQTH0BmZmZmZmYeQJ7vp8ZLNx5AYOXQItv5HUDByqFFtvMdQOxRuB6F6x1ArBxaZDtfHUDufD81XjodQOkmMQisHB1AlkOLbOf7HEC28/3UeOkcQF66SQwCqxxAdZMYBFaOHEBcj8L1KFwcQJ7vp8ZLNxxAL90kBoEVHEBxPQrXo/AbQP7UeOkmsRtAxSCwcmiRG0DNzMzMzEwbQIGVQ4ts5xpA4XoUrkdhGkCR7Xw/NV4aQC2yne+nxhlAWDm0yHa+GUAAAAAAAIAZQOXQItv5fhlA0SLb+X5qGUBiEFg5tEgZQDMzMzMzMxlAeekmMQgsGUA/NV66SQwZQFCNl24SAxlAMQisHFrkGECyne+nxssYQO58PzVeuhhAGQRWDi2yGEB/arx0k5gYQAAAAAAAgBhARrbz/dR4GEDsUbgehWsYQGZmZmZmZhhA8tJNYhBYGEBI4XoUrkcYQMl2vp8aLxhA6SYxCKwcGEAv3SQGgRUYQNV46SYxCBhAw/UoXI/CF0DfT42XbpIXQI/C9ShcjxdAWmQ730+NF0AlBoGVQ4sXQHE9CtejcBdAI9v5fmo8F0AEVg4tsh0XQNV46SYxCBdARrbz/dT4FkB9PzVeuskWQBKDwMqhxRZA6SYxCKycFkCgGi/dJIYWQLbz/dR4aRZABFYOLbIdFkCamZmZmRkWQGQ730+NFxZAke18PzXeFUDufD81XroVQDMzMzMzsxVAJQaBlUOLFUBCYOXQIlsVQJhuEoPAShVA2c73U+MlFUCkcD0K1yMVQH9qvHSTGBVAj8L1KFwPFUCwcmiR7fwUQPLSTWIQ2BRAokW28/3UFECiRbbz/dQUQH0/NV66yRRA+FPjpZvEFEDdJAaBlcMUQIcW2c73UxRAkxgEVg4tFEAlBoGVQwsUQJZDi2zn+xNA9P3UeOmmE0A5tMh2vp8TQNV46SYxiBNAGQRWDi0yE0AX2c73U+MSQMdLN4lB4BJAzczMzMzMEkDTTWIQWLkSQHnpJjEIrBJAdZMYBFaOEkBQjZduEoMSQAwCK4cWWRJAI9v5fmo8EkCJQWDl0CISQPp+arx0ExJA8KfGSzcJEkD2KFyPwvURQHe+nxov3RFA8tJNYhDYEUBt5/up8dIRQHNoke18vxFAj8L1KFyPEUDl0CLb+X4RQBBYObTIdhFAcT0K16NwEUBmZmZmZmYRQIcW2c73UxFAvp8aL90kEUCoxks3icEQQCGwcmiRbRBA16NwPQpXEECPwvUoXA8QQM3MzMzMzA9AYhBYObTID0AQWDm0yHYPQNEi2/l+ag5AMzMzMzMzDkDn+6nx0k0NQC2yne+nxgxAgZVDi2znC0BI4XoUrkcLQHnpJjEIrApADAIrhxbZCUA5tMh2vp8JQESLbOf7qQhA",
          "dtype": "f8"
         }
        },
        {
         "hoverinfo": "skip",
         "line": {
          "color": "blue",
          "dash": "dash"
         },
         "mode": "lines",
         "name": "Trend Line",
         "type": "scatter",
         "visible": true,
         "x": {
          "bdata": "ZmZmZmZmOEAxYBoDprE4QPxZzp/l/DhAyFOCPCVIOUCTTTbZZJM5QF5H6nWk3jlAKkGeEuQpOkD1OlKvI3U6QMA0BkxjwDpAiy666KILO0BWKG6F4lY7QCIiIiIiojtA7RvWvmHtO0C4FYpboTg8QIQPPvjggzxATwnylCDPPEAaA6YxYBo9QOX8Wc6fZT1AsPYNa9+wPUB88MEHH/w9QEfqdaReRz5AEuQpQZ6SPkDe3d3d3d0+QKnXkXodKT9AdNFFF110P0A/y/mznL8/QIXiVihuBUBAa9+w9g0rQEBQ3ArFrVBAQDbZZJNNdkBAHNa+Ye2bQEAC0xgwjcFAQOfPcv4s50BAzMzMzMwMQUCyySabbDJBQJjGgGkMWEFAfsPaN6x9QUBjwDQGTKNBQEm9jtTryEFALrrooovuQUAUt0JxKxRCQPqznD/LOUJA37D2DWtfQkDFrVDcCoVCQKqqqqqqqkJAkKcEeUrQQkB2pF5H6vVCQFyhuBWKG0NAQZ4S5ClBQ0Amm2yyyWZDQAyYxoBpjENA8pQgTwmyQ0DYkXodqddDQL2O1OtI/UNAo4suuugiRECIiIiIiEhEQG6F4lYobkRAVII8JciTREA5f5bzZ7lEQB988MEH30RABHlKkKcERUDqdaReRypFQNBy/iznT0VAtm9Y+4Z1RUCbbLLJJptFQIBpDJjGwEVAZmZmZmbmRUBMY8A0BgxGQDJgGgOmMUZAF1100UVXRkD9Wc6f5XxGQOJWKG6FokZAyFOCPCXIRkCuUNwKxe1GQJNNNtlkE0dAeUqQpwQ5R0BeR+p1pF5HQEREREREhEdAKkGeEuSpR0AQPvjgg89HQPU6Uq8j9UdA2jesfcMaSEDANAZMY0BIQKYxYBoDZkhAjC666KKLSEBxKxS3QrFIQFcoboXi1khAPCXIU4L8SEAiIiIiIiJJQAgffPDBR0lA7RvWvmFtSUDTGDCNAZNJQLgViluhuElAnhLkKUHeSUCEDz744ANKQGoMmMaAKUpATwnylCBPSkA0BkxjwHRKQBoDpjFgmkpAAAAAAADASkA=",
          "dtype": "f8"
         },
         "y": {
          "bdata": "zRbCRItBGUCLfPJQJjgZQEniIl3BLhlAB0hTaVwlGUDFrYN19xsZQIMTtIGSEhlAQHnkjS0JGUD+3hSayP8YQLxERaZj9hhAeqp1sv7sGEA4EKa+meMYQPZ11so02hhAtNsG18/QGEByQTfjascYQDCnZ+8FvhhA7gyY+6C0GECscsgHPKsYQGrY+BPXoRhAKD4pIHKYGEDmo1ksDY8YQKQJijiohRhAYm+6REN8GEAg1epQ3nIYQN46G115aRhAnKBLaRRgGEBaBnx1r1YYQBhsrIFKTRhA1tHcjeVDGECUNw2agDoYQFKdPaYbMRhAEANusrYnGEDOaJ6+UR4YQIzOzsrsFBhASjT/1ocLGEAImi/jIgIYQMb/X++9+BdAg2WQ+1jvF0BCy8AH9OUXQP8w8ROP3BdAvpYhICrTF0B7/FEsxckXQDligjhgwBdA98eyRPu2F0C1LeNQlq0XQHOTE10xpBdAMflDacyaF0DvXnR1Z5EXQK3EpIECiBdAayrVjZ1+F0ApkAWaOHUXQOf1NabTaxdApVtmsm5iF0BjwZa+CVkXQCEnx8qkTxdA34z31j9GF0Cd8ifj2jwXQFtYWO91MxdAGL6I+xAqF0DXI7kHrCAXQJSJ6RNHFxdAU+8ZIOINF0AQVUosfQQXQM66ejgY+xZAjCCrRLPxFkBKhttQTugWQAjsC13p3hZAxlE8aYTVFkCEt2x1H8wWQEIdnYG6whZAAIPNjVW5FkC+6P2Z8K8WQHxOLqaLphZAOrResiadFkD4GY++wZMWQLZ/v8pcihZAdOXv1veAFkAySyDjkncWQPCwUO8tbhZArhaB+8hkFkBsfLEHZFsWQCri4RP/URZA6EcSIJpIFkCmrUIsNT8WQGQTczjQNRZAInmjRGssFkDg3tNQBiMWQJ5EBF2hGRZAXKo0aTwQFkAaEGV11wYWQNd1lYFy/RVAltvFjQ30FUBTQfaZqOoVQBKnJqZD4RVAzwxXst7XFUCNcoe+ec4VQEvYt8oUxRVACT7o1q+7FUDHoxjjSrIVQIUJSe/lqBVAQ295+4CfFUA=",
          "dtype": "f8"
         }
        },
        {
         "hoverinfo": "skip",
         "line": {
          "color": "blue",
          "dash": "dash"
         },
         "mode": "lines",
         "name": "Trend Line",
         "type": "scatter",
         "visible": false,
         "x": {
          "bdata": "n6v5QqPO0UGejvAWg3dJQvOUrXO0ZVlCS3HxrdMHY0IdGAwizVxpQu++JpbGsW9C4LIgBWADc0JJBi6/3C12QrJZO3lZWHlCG61IM9aCfEKEAFbtUq1/QvapsdPna4FCqlO4MCYBg0Jf/b6NZJaEQhOnxeqiK4ZCyFDMR+HAh0J8+tKkH1aJQjCk2QFe64pC5U3gXpyAjEKZ9+a72hWOQk6h7RgZq49CgiX6uiugkEJcen3pymqRQjbPABhqNZJCECSERgkAk0LqeAd1qMqTQsXNiqNHlZRCnyIO0uZflUJ5d5EAhiqWQlPMFC8l9ZZCLiGYXcS/l0IIdhuMY4qYQuLKnroCVZlCvB8i6aEfmkKWdKUXQeqaQnHJKEbgtJtCSx6sdH9/nEIlcy+jHkqdQv/HstG9FJ5C2hw2AF3fnkK0cbku/KmfQkZjnq5NOqBCtA3gRZ2foEIhuCHd7AShQo5iY3Q8aqFC+wylC4zPoUJot+ai2zSiQtVhKDormqJCQgxq0Xr/okKvtqtoymSjQhxh7f8ZyqNCigsvl2kvpEL3tXAuuZSkQmRgssUI+qRC0Qr0XFhfpUI+tTX0p8SlQqtfd4v3KaZCGAq5IkePpkKFtPq5lvSmQvJePFHmWadCYAl+6DW/p0LNs79/hSSoQjpeARfViahCpwhDriTvqEIUs4RFdFSpQoFdxtzDualC7gcIdBMfqkJbskkLY4SqQshci6Ky6apCNgfNOQJPq0KjsQ7RUbSrQhBcUGihGaxCfQaS//B+rELqsNOWQOSsQldbFS6QSa1CxAVXxd+urUIxsJhcLxSuQp5a2vN+ea5CDAUci87erkJ5r10iHkSvQuZZn7ltqa9CKoJwqF4HsEJgVxF0BjqwQpcssj+ubLBCzgFTC1afsEIE1/PW/dGwQjuslKKlBLFCcYE1bk03sUKoVtY59WmxQt4rdwWdnLFCFQEY0UTPsUJL1ric7AGyQoKrWWiUNLJCuYD6MzxnskLvVZv/45myQiYrPMuLzLJCXADdljP/skKT1X1i2zGzQsmqHi6DZLNCAIC/+SqXs0I=",
          "dtype": "f8"
         },
         "y": {
          "bdata": "gml0XjW6FUC29Gm0Fc0VQOp/Xwr23xVAHwtVYNbyFUBTlkq2tgUWQIchQAyXGBZAu6w1YncrFkDvNyu4Vz4WQCPDIA44URZAV04WZBhkFkCM2Qu6+HYWQMBkARDZiRZA9O/2ZbmcFkAoe+y7ma8WQFwG4hF6whZAkJHXZ1rVFkDFHM29OugWQPmnwhMb+xZALTO4afsNF0Bhvq2/2yAXQJVJoxW8MxdAydSYa5xGF0D+X47BfFkXQDLrgxddbBdAZnZ5bT1/F0CaAW/DHZIXQM6MZBn+pBdAAhhab963F0A2o0/FvsoXQGsuRRuf3RdAn7k6cX/wF0DTRDDHXwMYQAfQJR1AFhhAO1sbcyApGEBv5hDJADwYQKRxBh/hThhA2Pz7dMFhGEAMiPHKoXQYQEAT5yCChxhAdJ7cdmKaGECoKdLMQq0YQNy0xyIjwBhAEUC9eAPTGEBFy7LO4+UYQHlWqCTE+BhAreGdeqQLGUDhbJPQhB4ZQBX4iCZlMRlASoN+fEVEGUB+DnTSJVcZQLKZaSgGahlA5iRffuZ8GUAasFTUxo8ZQE47SiqnohlAgsY/gIe1GUC3UTXWZ8gZQOvcKixI2xlAH2gggijuGUBT8xXYCAEaQId+Cy7pExpAvAkBhMkmGkDwlPbZqTkaQCQg7C+KTBpAWKvhhWpfGkCMNtfbSnIaQMDBzDErhRpA9EzChwuYGkAo2Lfd66oaQF1jrTPMvRpAke6iiazQGkDFeZjfjOMaQPkEjjVt9hpALpCDi00JG0BiG3nhLRwbQJambjcOLxtAyjFkje5BG0D+vFnjzlQbQDJITzmvZxtAZtNEj496G0CaXjrlb40bQM/pLztQoBtAA3UlkTCzG0A3ABvnEMYbQGuLED3x2BtAoBYGk9HrG0DUofvosf4bQAgt8T6SERxAPLjmlHIkHEBwQ9zqUjccQKTO0UAzShxA2FnHlhNdHEAM5bzs828cQEFwskLUghxAdfunmLSVHECphp3ulKgcQN0Rk0R1uxxAEZ2ImlXOHEBGKH7wNeEcQHqzc0YW9BxArj5pnPYGHUA=",
          "dtype": "f8"
         }
        },
        {
         "hoverinfo": "skip",
         "line": {
          "color": "blue",
          "dash": "dash"
         },
         "mode": "lines",
         "name": "Trend Line",
         "type": "scatter",
         "visible": false,
         "x": {
          "bdata": "xM4UfSvk0UECupQnXrtJQjOlF/x5qVlCsnYycqI6Y0LLGlnmh6BpQnLfP602A3BCfzFTZyk2c0KMg2YhHGl2QpjVedsOnHlCpCeNlQHPfELYPNAn+gCAQt/l2YRzmoFC5Y7j4ewzg0LrN+0+Zs2EQvLg9pvfZoZC+IkA+VgAiEL+MgpW0pmJQgTcE7NLM4tCCoUdEMXMjEIRLidtPmaOQhfXMMq3/49CD0Cdk5jMkEKSFCJCVZmRQhXppvARZpJCmL0rn84yk0IbkrBNi/+TQp5mNfxHzJRCITu6qgSZlUKlDz9ZwWWWQijkwwd+MpdCq7hItjr/l0Iujc1k98uYQrFhUhO0mJlCNDbXwXBlmkK3ClxwLTKbQjrf4B7q/ptCvbNlzabLnEJBiOp7Y5idQsRcbyogZZ5CRzH02Nwxn0LKBXmHmf6fQibt/hqrZaBCaFdBcgnMoEKpwYPJZzKhQusrxiDGmKFCLJYIeCT/oUJuAEvPgmWiQq9qjSbhy6JC8dTPfT8yo0IzPxLVnZijQnSpVCz8/qNCthOXg1plpEL3fdnauMukQjnoGzIXMqVCelJeiXWYpUK8vKDg0/6lQv4m4zcyZaZCP5Elj5DLpkKB+2fm7jGnQsJlqj1NmKdCBNDslKv+p0JFOi/sCWWoQoekcUNoy6hCyA60msYxqUIKefbxJJipQkzjOEmD/qlCjU17oOFkqkLPt733P8uqQhAiAE+eMatCUoxCpvyXq0KT9oT9Wv6rQtVgx1S5ZKxCFssJrBfLrEJYNUwDdjGtQpqfjlrUl61C2wnRsTL+rUIddBMJkWSuQl7eVWDvyq5CoEiYt00xr0LhstoOrJevQiMdHWYK/q9CssOvXjQysELT+FCKY2WwQvQt8rWSmLBCFWOT4cHLsEI1mDQN8f6wQlbN1TggMrFCdwJ3ZE9lsUKYNxiQfpixQrlsubuty7FC2aFa59z+sUL61vsSDDKyQhsMnT47ZbJCPEE+amqYskJcdt+VmcuyQn2rgMHI/rJCnuAh7fcxs0K/FcMYJ2WzQuBKZERWmLNCAIAFcIXLs0I=",
          "dtype": "f8"
         },
         "y": {
          "bdata": "4B7hB+i6FUCMxuEZvM0VQDhu4iuQ4BVA4xXjPWTzFUCPveNPOAYWQDtl5GEMGRZA5gzlc+ArFkCStOWFtD4WQD5c5peIURZA6QPnqVxkFkCVq+e7MHcWQEFT6M0EihZA7Pro39icFkCYounxrK8WQERK6gOBwhZA7/HqFVXVFkCbmesnKegWQEZB7Dn9+hZA8ujsS9ENF0CekO1dpSAXQEk47m95MxdA9d/ugU1GF0Chh++TIVkXQEwv8KX1axdA+Nbwt8l+F0CkfvHJnZEXQE8m8ttxpBdA+83y7UW3F0CndfP/GcoXQFId9BHu3BdA/sT0I8LvF0CqbPU1lgIYQFUU9kdqFRhAAbz2WT4oGECsY/drEjsYQFgL+H3mTRhABLP4j7pgGECwWvmhjnMYQFsC+rNihhhAB6r6xTaZGECyUfvXCqwYQF75++nevhhACqH8+7LRGEC1SP0Nh+QYQGHw/R9b9xhADZj+MS8KGUC4P/9DAx0ZQGTn/1XXLxlAEI8AaKtCGUC7NgF6f1UZQGfeAYxTaBlAE4YCnid7GUC+LQOw+40ZQGrVA8LPoBlAFX0E1KOzGUDBJAXmd8YZQG3MBfhL2RlAGHQGCiDsGUDEGwcc9P4ZQHDDBy7IERpAHGsIQJwkGkDHEglScDcaQHO6CWREShpAHmIKdhhdGkDKCQuI7G8aQHaxC5rAghpAIVkMrJSVGkDNAA2+aKgaQHioDdA8uxpAJFAO4hDOGkDQ9w705OAaQHyfDwa58xpAJ0cQGI0GG0DT7hAqYRkbQH6WETw1LBtAKj4STgk/G0DW5RJg3VEbQIKNE3KxZBtALTUUhIV3G0DZ3BSWWYobQISEFagtnRtAMCwWugGwG0Dc0xbM1cIbQIh7F96p1RtAMyMY8H3oG0DeyhgCUvsbQIpyGRQmDhxANhoaJvogHEDiwRo4zjMcQI5pG0qiRhxAOREcXHZZHEDkuBxuSmwcQJBgHYAefxxAPAgekvKRHEDnrx6kxqQcQJNXH7aatxxAP/8fyG7KHEDqpiDaQt0cQJZOIewW8BxAQvYh/uoCHUA=",
          "dtype": "f8"
         }
        }
       ],
       "layout": {
        "autosize": false,
        "height": 600,
        "hoverlabel": {
         "font": {
          "size": 12
         }
        },
        "legend": {
         "borderwidth": 0,
         "font": {
          "size": 12
         },
         "x": 0.01,
         "y": 0.99
        },
        "margin": {
         "b": 80,
         "l": 80,
         "r": 80,
         "t": 80
        },
        "showlegend": true,
        "sliders": [
         {
          "active": 0,
          "currentvalue": {
           "prefix": "Metric: "
          },
          "len": 0.9,
          "pad": {
           "t": 50
          },
          "steps": [
           {
            "args": [
             {
              "visible": [
               true,
               false,
               false,
               true,
               false,
               false
              ]
             },
             {
              "title": "Happiness vs Gini Index",
              "xaxis": {
               "fixedrange": true,
               "range": [
                24.4,
                53.5
               ],
               "title": "Gini Index"
              },
              "yaxis": {
               "fixedrange": true,
               "range": [
                2.853,
                7.769
               ],
               "title": "Happiness"
              }
             }
            ],
            "label": "Gini Index",
            "method": "update"
           },
           {
            "args": [
             {
              "visible": [
               false,
               true,
               false,
               false,
               true,
               false
              ]
             },
             {
              "title": "Happiness vs GDP per Capita",
              "xaxis": {
               "fixedrange": true,
               "range": [
                1195019531.9011,
                500000000000
               ],
               "title": "GDP per Capita (USD)"
              },
              "yaxis": {
               "fixedrange": true,
               "range": [
                2.853,
                7.769
               ],
               "title": "Happiness"
              }
             }
            ],
            "label": "GDP per Capita",
            "method": "update"
           },
           {
            "args": [
             {
              "visible": [
               false,
               false,
               true,
               false,
               false,
               true
              ]
             },
             {
              "title": "Happiness vs GNI per Capita",
              "xaxis": {
               "fixedrange": true,
               "range": [
                1200664052.32512,
                500000000000
               ],
               "title": "GNI per Capita (USD)"
              },
              "yaxis": {
               "fixedrange": true,
               "range": [
                2.853,
                7.769
               ],
               "title": "Happiness"
              }
             }
            ],
            "label": "GNI per Capita",
            "method": "update"
           }
          ],
          "x": 0.1,
          "xanchor": "left"
         }
        ],
        "template": {
         "data": {
          "bar": [
           {
            "error_x": {
             "color": "#2a3f5f"
            },
            "error_y": {
             "color": "#2a3f5f"
            },
            "marker": {
             "line": {
              "color": "#E5ECF6",
              "width": 0.5
             },
             "pattern": {
              "fillmode": "overlay",
              "size": 10,
              "solidity": 0.2
             }
            },
            "type": "bar"
           }
          ],
          "barpolar": [
           {
            "marker": {
             "line": {
              "color": "#E5ECF6",
              "width": 0.5
             },
             "pattern": {
              "fillmode": "overlay",
              "size": 10,
              "solidity": 0.2
             }
            },
            "type": "barpolar"
           }
          ],
          "carpet": [
           {
            "aaxis": {
             "endlinecolor": "#2a3f5f",
             "gridcolor": "white",
             "linecolor": "white",
             "minorgridcolor": "white",
             "startlinecolor": "#2a3f5f"
            },
            "baxis": {
             "endlinecolor": "#2a3f5f",
             "gridcolor": "white",
             "linecolor": "white",
             "minorgridcolor": "white",
             "startlinecolor": "#2a3f5f"
            },
            "type": "carpet"
           }
          ],
          "choropleth": [
           {
            "colorbar": {
             "outlinewidth": 0,
             "ticks": ""
            },
            "type": "choropleth"
           }
          ],
          "contour": [
           {
            "colorbar": {
             "outlinewidth": 0,
             "ticks": ""
            },
            "colorscale": [
             [
              0,
              "#0d0887"
             ],
             [
              0.1111111111111111,
              "#46039f"
             ],
             [
              0.2222222222222222,
              "#7201a8"
             ],
             [
              0.3333333333333333,
              "#9c179e"
             ],
             [
              0.4444444444444444,
              "#bd3786"
             ],
             [
              0.5555555555555556,
              "#d8576b"
             ],
             [
              0.6666666666666666,
              "#ed7953"
             ],
             [
              0.7777777777777778,
              "#fb9f3a"
             ],
             [
              0.8888888888888888,
              "#fdca26"
             ],
             [
              1,
              "#f0f921"
             ]
            ],
            "type": "contour"
           }
          ],
          "contourcarpet": [
           {
            "colorbar": {
             "outlinewidth": 0,
             "ticks": ""
            },
            "type": "contourcarpet"
           }
          ],
          "heatmap": [
           {
            "colorbar": {
             "outlinewidth": 0,
             "ticks": ""
            },
            "colorscale": [
             [
              0,
              "#0d0887"
             ],
             [
              0.1111111111111111,
              "#46039f"
             ],
             [
              0.2222222222222222,
              "#7201a8"
             ],
             [
              0.3333333333333333,
              "#9c179e"
             ],
             [
              0.4444444444444444,
              "#bd3786"
             ],
             [
              0.5555555555555556,
              "#d8576b"
             ],
             [
              0.6666666666666666,
              "#ed7953"
             ],
             [
              0.7777777777777778,
              "#fb9f3a"
             ],
             [
              0.8888888888888888,
              "#fdca26"
             ],
             [
              1,
              "#f0f921"
             ]
            ],
            "type": "heatmap"
           }
          ],
          "histogram": [
           {
            "marker": {
             "pattern": {
              "fillmode": "overlay",
              "size": 10,
              "solidity": 0.2
             }
            },
            "type": "histogram"
           }
          ],
          "histogram2d": [
           {
            "colorbar": {
             "outlinewidth": 0,
             "ticks": ""
            },
            "colorscale": [
             [
              0,
              "#0d0887"
             ],
             [
              0.1111111111111111,
              "#46039f"
             ],
             [
              0.2222222222222222,
              "#7201a8"
             ],
             [
              0.3333333333333333,
              "#9c179e"
             ],
             [
              0.4444444444444444,
              "#bd3786"
             ],
             [
              0.5555555555555556,
              "#d8576b"
             ],
             [
              0.6666666666666666,
              "#ed7953"
             ],
             [
              0.7777777777777778,
              "#fb9f3a"
             ],
             [
              0.8888888888888888,
              "#fdca26"
             ],
             [
              1,
              "#f0f921"
             ]
            ],
            "type": "histogram2d"
           }
          ],
          "histogram2dcontour": [
           {
            "colorbar": {
             "outlinewidth": 0,
             "ticks": ""
            },
            "colorscale": [
             [
              0,
              "#0d0887"
             ],
             [
              0.1111111111111111,
              "#46039f"
             ],
             [
              0.2222222222222222,
              "#7201a8"
             ],
             [
              0.3333333333333333,
              "#9c179e"
             ],
             [
              0.4444444444444444,
              "#bd3786"
             ],
             [
              0.5555555555555556,
              "#d8576b"
             ],
             [
              0.6666666666666666,
              "#ed7953"
             ],
             [
              0.7777777777777778,
              "#fb9f3a"
             ],
             [
              0.8888888888888888,
              "#fdca26"
             ],
             [
              1,
              "#f0f921"
             ]
            ],
            "type": "histogram2dcontour"
           }
          ],
          "mesh3d": [
           {
            "colorbar": {
             "outlinewidth": 0,
             "ticks": ""
            },
            "type": "mesh3d"
           }
          ],
          "parcoords": [
           {
            "line": {
             "colorbar": {
              "outlinewidth": 0,
              "ticks": ""
             }
            },
            "type": "parcoords"
           }
          ],
          "pie": [
           {
            "automargin": true,
            "type": "pie"
           }
          ],
          "scatter": [
           {
            "fillpattern": {
             "fillmode": "overlay",
             "size": 10,
             "solidity": 0.2
            },
            "type": "scatter"
           }
          ],
          "scatter3d": [
           {
            "line": {
             "colorbar": {
              "outlinewidth": 0,
              "ticks": ""
             }
            },
            "marker": {
             "colorbar": {
              "outlinewidth": 0,
              "ticks": ""
             }
            },
            "type": "scatter3d"
           }
          ],
          "scattercarpet": [
           {
            "marker": {
             "colorbar": {
              "outlinewidth": 0,
              "ticks": ""
             }
            },
            "type": "scattercarpet"
           }
          ],
          "scattergeo": [
           {
            "marker": {
             "colorbar": {
              "outlinewidth": 0,
              "ticks": ""
             }
            },
            "type": "scattergeo"
           }
          ],
          "scattergl": [
           {
            "marker": {
             "colorbar": {
              "outlinewidth": 0,
              "ticks": ""
             }
            },
            "type": "scattergl"
           }
          ],
          "scattermap": [
           {
            "marker": {
             "colorbar": {
              "outlinewidth": 0,
              "ticks": ""
             }
            },
            "type": "scattermap"
           }
          ],
          "scattermapbox": [
           {
            "marker": {
             "colorbar": {
              "outlinewidth": 0,
              "ticks": ""
             }
            },
            "type": "scattermapbox"
           }
          ],
          "scatterpolar": [
           {
            "marker": {
             "colorbar": {
              "outlinewidth": 0,
              "ticks": ""
             }
            },
            "type": "scatterpolar"
           }
          ],
          "scatterpolargl": [
           {
            "marker": {
             "colorbar": {
              "outlinewidth": 0,
              "ticks": ""
             }
            },
            "type": "scatterpolargl"
           }
          ],
          "scatterternary": [
           {
            "marker": {
             "colorbar": {
              "outlinewidth": 0,
              "ticks": ""
             }
            },
            "type": "scatterternary"
           }
          ],
          "surface": [
           {
            "colorbar": {
             "outlinewidth": 0,
             "ticks": ""
            },
            "colorscale": [
             [
              0,
              "#0d0887"
             ],
             [
              0.1111111111111111,
              "#46039f"
             ],
             [
              0.2222222222222222,
              "#7201a8"
             ],
             [
              0.3333333333333333,
              "#9c179e"
             ],
             [
              0.4444444444444444,
              "#bd3786"
             ],
             [
              0.5555555555555556,
              "#d8576b"
             ],
             [
              0.6666666666666666,
              "#ed7953"
             ],
             [
              0.7777777777777778,
              "#fb9f3a"
             ],
             [
              0.8888888888888888,
              "#fdca26"
             ],
             [
              1,
              "#f0f921"
             ]
            ],
            "type": "surface"
           }
          ],
          "table": [
           {
            "cells": {
             "fill": {
              "color": "#EBF0F8"
             },
             "line": {
              "color": "white"
             }
            },
            "header": {
             "fill": {
              "color": "#C8D4E3"
             },
             "line": {
              "color": "white"
             }
            },
            "type": "table"
           }
          ]
         },
         "layout": {
          "annotationdefaults": {
           "arrowcolor": "#2a3f5f",
           "arrowhead": 0,
           "arrowwidth": 1
          },
          "autotypenumbers": "strict",
          "coloraxis": {
           "colorbar": {
            "outlinewidth": 0,
            "ticks": ""
           }
          },
          "colorscale": {
           "diverging": [
            [
             0,
             "#8e0152"
            ],
            [
             0.1,
             "#c51b7d"
            ],
            [
             0.2,
             "#de77ae"
            ],
            [
             0.3,
             "#f1b6da"
            ],
            [
             0.4,
             "#fde0ef"
            ],
            [
             0.5,
             "#f7f7f7"
            ],
            [
             0.6,
             "#e6f5d0"
            ],
            [
             0.7,
             "#b8e186"
            ],
            [
             0.8,
             "#7fbc41"
            ],
            [
             0.9,
             "#4d9221"
            ],
            [
             1,
             "#276419"
            ]
           ],
           "sequential": [
            [
             0,
             "#0d0887"
            ],
            [
             0.1111111111111111,
             "#46039f"
            ],
            [
             0.2222222222222222,
             "#7201a8"
            ],
            [
             0.3333333333333333,
             "#9c179e"
            ],
            [
             0.4444444444444444,
             "#bd3786"
            ],
            [
             0.5555555555555556,
             "#d8576b"
            ],
            [
             0.6666666666666666,
             "#ed7953"
            ],
            [
             0.7777777777777778,
             "#fb9f3a"
            ],
            [
             0.8888888888888888,
             "#fdca26"
            ],
            [
             1,
             "#f0f921"
            ]
           ],
           "sequentialminus": [
            [
             0,
             "#0d0887"
            ],
            [
             0.1111111111111111,
             "#46039f"
            ],
            [
             0.2222222222222222,
             "#7201a8"
            ],
            [
             0.3333333333333333,
             "#9c179e"
            ],
            [
             0.4444444444444444,
             "#bd3786"
            ],
            [
             0.5555555555555556,
             "#d8576b"
            ],
            [
             0.6666666666666666,
             "#ed7953"
            ],
            [
             0.7777777777777778,
             "#fb9f3a"
            ],
            [
             0.8888888888888888,
             "#fdca26"
            ],
            [
             1,
             "#f0f921"
            ]
           ]
          },
          "colorway": [
           "#636efa",
           "#EF553B",
           "#00cc96",
           "#ab63fa",
           "#FFA15A",
           "#19d3f3",
           "#FF6692",
           "#B6E880",
           "#FF97FF",
           "#FECB52"
          ],
          "font": {
           "color": "#2a3f5f"
          },
          "geo": {
           "bgcolor": "white",
           "lakecolor": "white",
           "landcolor": "#E5ECF6",
           "showlakes": true,
           "showland": true,
           "subunitcolor": "white"
          },
          "hoverlabel": {
           "align": "left"
          },
          "hovermode": "closest",
          "mapbox": {
           "style": "light"
          },
          "paper_bgcolor": "white",
          "plot_bgcolor": "#E5ECF6",
          "polar": {
           "angularaxis": {
            "gridcolor": "white",
            "linecolor": "white",
            "ticks": ""
           },
           "bgcolor": "#E5ECF6",
           "radialaxis": {
            "gridcolor": "white",
            "linecolor": "white",
            "ticks": ""
           }
          },
          "scene": {
           "xaxis": {
            "backgroundcolor": "#E5ECF6",
            "gridcolor": "white",
            "gridwidth": 2,
            "linecolor": "white",
            "showbackground": true,
            "ticks": "",
            "zerolinecolor": "white"
           },
           "yaxis": {
            "backgroundcolor": "#E5ECF6",
            "gridcolor": "white",
            "gridwidth": 2,
            "linecolor": "white",
            "showbackground": true,
            "ticks": "",
            "zerolinecolor": "white"
           },
           "zaxis": {
            "backgroundcolor": "#E5ECF6",
            "gridcolor": "white",
            "gridwidth": 2,
            "linecolor": "white",
            "showbackground": true,
            "ticks": "",
            "zerolinecolor": "white"
           }
          },
          "shapedefaults": {
           "line": {
            "color": "#2a3f5f"
           }
          },
          "ternary": {
           "aaxis": {
            "gridcolor": "white",
            "linecolor": "white",
            "ticks": ""
           },
           "baxis": {
            "gridcolor": "white",
            "linecolor": "white",
            "ticks": ""
           },
           "bgcolor": "#E5ECF6",
           "caxis": {
            "gridcolor": "white",
            "linecolor": "white",
            "ticks": ""
           }
          },
          "title": {
           "x": 0.05
          },
          "xaxis": {
           "automargin": true,
           "gridcolor": "white",
           "linecolor": "white",
           "ticks": "",
           "title": {
            "standoff": 15
           },
           "zerolinecolor": "white",
           "zerolinewidth": 2
          },
          "yaxis": {
           "automargin": true,
           "gridcolor": "white",
           "linecolor": "white",
           "ticks": "",
           "title": {
            "standoff": 15
           },
           "zerolinecolor": "white",
           "zerolinewidth": 2
          }
         }
        },
        "title": {
         "text": "Happiness vs Gini Index"
        },
        "width": 900,
        "xaxis": {
         "automargin": false,
         "fixedrange": true,
         "range": [
          24.4,
          53.5
         ],
         "tickfont": {
          "size": 12
         },
         "title": {
          "font": {
           "size": 14
          },
          "text": "Gini Index"
         }
        },
        "yaxis": {
         "automargin": false,
         "autorange": "reversed",
         "dtick": 1,
         "fixedrange": true,
         "range": [
          2.853,
          7.769
         ],
         "tickfont": {
          "size": 12
         },
         "tickmode": "linear",
         "title": {
          "font": {
           "size": 14
          },
          "text": "Happiness"
         }
        }
       }
      },
      "text/html": [
       "<div>            <script src=\"https://cdnjs.cloudflare.com/ajax/libs/mathjax/2.7.5/MathJax.js?config=TeX-AMS-MML_SVG\"></script><script type=\"text/javascript\">if (window.MathJax && window.MathJax.Hub && window.MathJax.Hub.Config) {window.MathJax.Hub.Config({SVG: {font: \"STIX-Web\"}});}</script>                <script type=\"text/javascript\">window.PlotlyConfig = {MathJaxConfig: 'local'};</script>\n",
       "        <script charset=\"utf-8\" src=\"https://cdn.plot.ly/plotly-3.0.1.min.js\"></script>                <div id=\"4f809390-08cd-4b9f-bd6f-693d9581f129\" class=\"plotly-graph-div\" style=\"height:600px; width:900px;\"></div>            <script type=\"text/javascript\">                window.PLOTLYENV=window.PLOTLYENV || {};                                if (document.getElementById(\"4f809390-08cd-4b9f-bd6f-693d9581f129\")) {                    Plotly.newPlot(                        \"4f809390-08cd-4b9f-bd6f-693d9581f129\",                        [{\"customdata\":{\"dtype\":\"i2\",\"bdata\":\"AQACAAMABQAGAAcACQAKAAwADQAOAA8AEAARABIAEwAVABcAHAAdAB4AHwAhACIAJAAmACcAKAAqACsALAAtAC4AMAAxADIANQA2ADcAOAA5ADoAOwA8AD8AQABCAEQARQBIAEkASwBSAFMAVgBdAGQAZgBoAGkAbwByAHQAfQCAAA==\"},\"hovertemplate\":\"Country: %{text}\\u003cbr\\u003eRank: %{customdata} out of 133\\u003cbr\\u003eGini Index: %{x:.1f}\\u003cbr\\u003eHappiness: %{y:.2f}\\u003cextra\\u003e\\u003c\\u002fextra\\u003e\",\"mode\":\"markers\",\"name\":\"Gini Index\",\"text\":[\"Finland\",\"Denmark\",\"Norway\",\"Netherlands\",\"Switzerland\",\"Sweden\",\"Canada\",\"Austria\",\"Costa Rica\",\"Israel\",\"Luxembourg\",\"United Kingdom\",\"Ireland\",\"Germany\",\"Belgium\",\"United States\",\"Malta\",\"France\",\"Spain\",\"Panama\",\"Brazil\",\"Uruguay\",\"El Salvador\",\"Italy\",\"Poland\",\"Lithuania\",\"Colombia\",\"Slovenia\",\"Kosovo\",\"Argentina\",\"Romania\",\"Cyprus\",\"Ecuador\",\"Thailand\",\"Latvia\",\"Estonia\",\"Japan\",\"Honduras\",\"Kazakhstan\",\"Bolivia\",\"Hungary\",\"Paraguay\",\"Peru\",\"Portugal\",\"Serbia\",\"Moldova\",\"Montenegro\",\"Croatia\",\"Dominican Republic\",\"Belarus\",\"Greece\",\"North Macedonia\",\"Indonesia\",\"China\",\"Bulgaria\",\"Albania\",\"Armenia\",\"Georgia\",\"Mauritania\",\"Mozambique\",\"Sri Lanka\",\"Ukraine\",\"Uganda\",\"Zimbabwe\",\"Malawi\"],\"visible\":true,\"x\":{\"dtype\":\"f8\",\"bdata\":\"MzMzMzOzO0AzMzMzM7M7QDMzMzMzsztAMzMzMzMzPUAAAAAAAABBQM3MzMzMTD1AMzMzMzOzP0AzMzMzMzM+QJqZmZmZGUhAZmZmZmYmQ0CamZmZmRlBQGZmZmZmZkBAzczMzMxMPkDNzMzMzMw\\u002fQDMzMzMzMztAMzMzMzPzREAAAAAAAAA\\u002fQDMzMzMzMz9AZmZmZmYmQUBmZmZmZuZIQAAAAAAAwEpAmpmZmZnZQ0BmZmZmZmZDQM3MzMzMTEFAzczMzMzMPEBmZmZmZqZBQGZmZmZmpklAZmZmZmZmOECamZmZmRlEQGZmZmZmpkVAZmZmZmZmQUAzMzMzMzM\\u002fQJqZmZmZ2UZAMzMzMzNzQUAAAAAAAEBBQM3MzMzMzD5AAAAAAACAQECamZmZmRlIQAAAAAAAADxAzczMzMzMREAAAAAAAAA+QJqZmZmZ2UZAAAAAAADAREBmZmZmZmZAQAAAAAAAQEFAAAAAAAAAOkCamZmZmdlBQGZmZmZm5jxAMzMzMzPzREDNzMzMzEw5QM3MzMzMjEBAAAAAAADAQEAzMzMzM7NBQJqZmZmZGUNAZmZmZmYmRECamZmZmRk+QAAAAAAAAD5AMzMzMzPzQUAAAAAAAABAQGZmZmZmJklAmpmZmZnZQkCamZmZmZk6QJqZmZmZWUVAZmZmZmYmSUAAAAAAAEBDQA==\"},\"y\":{\"dtype\":\"f8\",\"bdata\":\"+n5qvHQTH0BmZmZmZmYeQJ7vp8ZLNx5AwcqhRbbzHUDsUbgehesdQKwcWmQ7Xx1A6SYxCKwcHUCWQ4ts5\\u002fscQF66SQwCqxxAdZMYBFaOHEBcj8L1KFwcQJ7vp8ZLNxxAL90kBoEVHEBxPQrXo\\u002fAbQP7UeOkmsRtAxSCwcmiRG0CBlUOLbOcaQJHtfD81XhpA0SLb+X5qGUBiEFg5tEgZQDMzMzMzMxlAeekmMQgsGUBQjZduEgMZQDEIrBxa5BhA7nw\\u002fNV66GEB\\u002farx0k5gYQAAAAAAAgBhARrbz\\u002fdR4GEBmZmZmZmYYQPLSTWIQWBhASOF6FK5HGEDJdr6fGi8YQOkmMQisHBhA1XjpJjEIGEDD9Shcj8IXQN9PjZdukhdAJQaBlUOLF0BxPQrXo3AXQCPb+X5qPBdABFYOLbIdF0DVeOkmMQgXQEa28\\u002f3U+BZAfT81XrrJFkASg8DKocUWQLbz\\u002fdR4aRZABFYOLbIdFkBkO99PjRcWQO58PzVeuhVAMzMzMzOzFUCYbhKDwEoVQNnO91PjJRVAf2q8dJMYFUD4U+Olm8QUQN0kBoGVwxRAJQaBlUMLFEDHSzeJQeASQCPb+X5qPBJA+n5qvHQTEkD2KFyPwvURQHe+nxov3RFAEFg5tMh2EUCHFtnO91MRQKjGSzeJwRBA5\\u002fup8dJNDUBI4XoUrkcLQA==\"},\"type\":\"scatter\"},{\"customdata\":{\"dtype\":\"i2\",\"bdata\":\"AQACAAMABAAFAAYABwAIAAkACgALAAwADQAOAA8AEAARABIAEwAUABUAFgAXABgAGQAaABsAHAAdAB4AHwAgACEAIgAjACQAJQAmACcAKAApACoAKwAsAC0ALgAvADAAMQAyADMANAA1ADYANwA4ADkAOgA7ADwAPQA+AD8AQABBAEIAQwBEAEUARgBHAEgASQBKAEsATABNAE4ATwBPAFEAUgBTAFQAVQBWAFcAWABZAFoAWwBcAF0AXgBfAGAAYQBiAGMAZABlAGYAZwBoAGkAagBrAGwAbQBuAG8AcABxAHIAcwB0AHUAdgB3AHgAeQB6AHsAfAB9AH4AfwCAAIEAggCDAIQA\"},\"hovertemplate\":\"Country: %{text}\\u003cbr\\u003eRank: %{customdata} out of 133\\u003cbr\\u003eGDP per Capita: $%{x:,.0f}\\u003cbr\\u003eHappiness: %{y:.2f}\\u003cextra\\u003e\\u003c\\u002fextra\\u003e\",\"mode\":\"markers\",\"name\":\"GDP per Capita\",\"text\":[\"Finland\",\"Denmark\",\"Norway\",\"Iceland\",\"Netherlands\",\"Switzerland\",\"Sweden\",\"New Zealand\",\"Canada\",\"Austria\",\"Australia\",\"Costa Rica\",\"Israel\",\"Luxembourg\",\"United Kingdom\",\"Ireland\",\"Germany\",\"Belgium\",\"United States\",\"United Arab Emirates\",\"Malta\",\"Mexico\",\"France\",\"Chile\",\"Guatemala\",\"Saudi Arabia\",\"Qatar\",\"Spain\",\"Panama\",\"Brazil\",\"Uruguay\",\"Singapore\",\"El Salvador\",\"Italy\",\"Bahrain\",\"Poland\",\"Uzbekistan\",\"Lithuania\",\"Colombia\",\"Slovenia\",\"Nicaragua\",\"Kosovo\",\"Argentina\",\"Romania\",\"Cyprus\",\"Ecuador\",\"Kuwait\",\"Thailand\",\"Latvia\",\"Estonia\",\"Jamaica\",\"Mauritius\",\"Japan\",\"Honduras\",\"Kazakhstan\",\"Bolivia\",\"Hungary\",\"Paraguay\",\"Peru\",\"Portugal\",\"Pakistan\",\"Philippines\",\"Serbia\",\"Moldova\",\"Libya\",\"Montenegro\",\"Tajikistan\",\"Croatia\",\"Dominican Republic\",\"Bosnia and Herzegovina\",\"Malaysia\",\"Belarus\",\"Greece\",\"Mongolia\",\"North Macedonia\",\"Nigeria\",\"Turkmenistan\",\"Algeria\",\"Morocco\",\"Azerbaijan\",\"Lebanon\",\"Indonesia\",\"China\",\"Bhutan\",\"Cameroon\",\"Bulgaria\",\"Ghana\",\"Nepal\",\"Jordan\",\"Benin\",\"Gabon\",\"South Africa\",\"Albania\",\"Cambodia\",\"Senegal\",\"Somalia\",\"Namibia\",\"Niger\",\"Burkina Faso\",\"Armenia\",\"Guinea\",\"Georgia\",\"Kenya\",\"Mauritania\",\"Mozambique\",\"Tunisia\",\"Bangladesh\",\"Iraq\",\"Mali\",\"Sierra Leone\",\"Sri Lanka\",\"Myanmar\",\"Chad\",\"Ukraine\",\"Ethiopia\",\"Uganda\",\"Zambia\",\"Togo\",\"India\",\"Liberia\",\"Comoros\",\"Madagascar\",\"Lesotho\",\"Burundi\",\"Zimbabwe\",\"Haiti\",\"Botswana\",\"Malawi\",\"Rwanda\",\"Tanzania\",\"Afghanistan\",\"Central African Republic\"],\"visible\":false,\"x\":{\"dtype\":\"f8\",\"bdata\":\"nLSEaqkVT0JcJ\\u002f0N4hpUQtNFkzK+yldCSS6Fqn38FkICD7Hg3QhrQivXEmSe\\u002fmRCKXxVwPD5XkIxuJEIVcdIQlKIK+zhX3lC4\\u002fVAffjIWUI9KmzzTER0QoG18kov\\u002fy1Cvndb00NDV0KOlWt6zEUwQnter+Mov4RCrj8A9KGyV0Jxfe3X38qMQkxftYTYPV9CAIC\\u002f+SqXs0Ken6E\\u002fiFRYQvs61o93bg5C9uyilyz6ckIUHkUfmc+DQtPdp0DFMlBC1qVKHNT3MUIAAMBsy2doQn+KNPxFiERCUmRGdW5sdEIAAGDoJj8wQjMnONmKQntCmB1esHr5LELdnNGwRfBVQgAAgJT2CBlCe3iSIZ9jfULPRn2jotUiQikcpBBYimFCmMzs6AZWL0KNl2P2D6spQsM1siWMzVJCChdfR5AaKUL4U81sXqcHQtaQl97Gbf1BZs43kRAQWkJcP9PBj0xNQgcfbqvFZRhCAAAIDzYNOUKPAjsC2WVAQrR4FGbiqV9CVGM7ZYnTHkINIIg8S68dQhTQVZ+yfA1CgRUdY8njCkIKYoHSgJ6SQmM\\u002fN4liLBdCIUBroBomRUL5kbc1GgsjQlrUlc0wGENCfkyyeQ2pIULy0vnEPZVKQm+CB3gD9EtC0aoAfeytUkJkO8EzG+9VQhUdQf8rFSlCb5L1e4rcBUKdsdfA4x8wQsAEUpJQpfRBNe\\u002f00UXs\\u002fkFkXeO9gZ8sQl09jqRRtTRCGYTNOW8TE0IGYS90kkFVQpyzvvRI\\u002fi1Cb4JvlzAiSEJJHUyvHnYKQkJghKwrewdCgR0nk9yeW0LWtm1ALRAlQqhWhRaMhUZCP3WpJj8EPkI2PDz90G4mQleMtuPoByhCpJwJzvhIcEJmP4PmoPmpQnk7Sf7mYeRBy1Cv48N4IkIOj6IRivUvQtVpv1CF0i9CHRps4Z7WH0JwDgT5K7kkQpZDKKV9zgpCxSDL8lduD0I3EZg1eKlWQuSDWKeOBw1C8nDvOjwVIUKmimCN8ssVQhkEwHoJHwBCCtd7G3VcB0LW1kkTOAIIQjL3+o0K3Q1CW7FZDS9eCUIukMNNDgoJQoGmc6lObRBC+l5vYgVfN0KAK13VCGn9QUJgNVgP5QxCZqZlt4qDI0JK7LJuwnFUQkQrhPflMktC3yDozu4XEEKMIWZPXk34QfEjKMe0uTRCb7Aznzp6MUKP052dYxMFQtvJKnsS6kFCn03qP9ZUNkLP164V1HUgQjjnFC44tRVCOPNVLMIM+kGFcd1tuqGEQgAAgLqgu+hBn6v5QqPO0UHnDDTToEUKQhh9+hrnz+FBXFr621Ey40GmyskggvMXQpoZjOk6+AtCgmKk1YgnD0Iuf16v8JUEQtej4lTuRgNCtdcrD\\u002fRqLEKCcygII4IRQsMN7szLjOBB\"},\"y\":{\"dtype\":\"f8\",\"bdata\":\"+n5qvHQTH0BmZmZmZmYeQJ7vp8ZLNx5AYOXQItv5HUDByqFFtvMdQOxRuB6F6x1ArBxaZDtfHUDufD81XjodQOkmMQisHB1AlkOLbOf7HEC28\\u002f3UeOkcQF66SQwCqxxAdZMYBFaOHEBcj8L1KFwcQJ7vp8ZLNxxAL90kBoEVHEBxPQrXo\\u002fAbQP7UeOkmsRtAxSCwcmiRG0DNzMzMzEwbQIGVQ4ts5xpA4XoUrkdhGkCR7Xw\\u002fNV4aQC2yne+nxhlAWDm0yHa+GUAAAAAAAIAZQOXQItv5fhlA0SLb+X5qGUBiEFg5tEgZQDMzMzMzMxlAeekmMQgsGUA\\u002fNV66SQwZQFCNl24SAxlAMQisHFrkGECyne+nxssYQO58PzVeuhhAGQRWDi2yGEB\\u002farx0k5gYQAAAAAAAgBhARrbz\\u002fdR4GEDsUbgehWsYQGZmZmZmZhhA8tJNYhBYGEBI4XoUrkcYQMl2vp8aLxhA6SYxCKwcGEAv3SQGgRUYQNV46SYxCBhAw\\u002fUoXI\\u002fCF0DfT42XbpIXQI\\u002fC9ShcjxdAWmQ730+NF0AlBoGVQ4sXQHE9CtejcBdAI9v5fmo8F0AEVg4tsh0XQNV46SYxCBdARrbz\\u002fdT4FkB9PzVeuskWQBKDwMqhxRZA6SYxCKycFkCgGi\\u002fdJIYWQLbz\\u002fdR4aRZABFYOLbIdFkCamZmZmRkWQGQ730+NFxZAke18PzXeFUDufD81XroVQDMzMzMzsxVAJQaBlUOLFUBCYOXQIlsVQJhuEoPAShVA2c73U+MlFUCkcD0K1yMVQH9qvHSTGBVAj8L1KFwPFUCwcmiR7fwUQPLSTWIQ2BRAokW28\\u002f3UFECiRbbz\\u002fdQUQH0\\u002fNV66yRRA+FPjpZvEFEDdJAaBlcMUQIcW2c73UxRAkxgEVg4tFEAlBoGVQwsUQJZDi2zn+xNA9P3UeOmmE0A5tMh2vp8TQNV46SYxiBNAGQRWDi0yE0AX2c73U+MSQMdLN4lB4BJAzczMzMzMEkDTTWIQWLkSQHnpJjEIrBJAdZMYBFaOEkBQjZduEoMSQAwCK4cWWRJAI9v5fmo8EkCJQWDl0CISQPp+arx0ExJA8KfGSzcJEkD2KFyPwvURQHe+nxov3RFA8tJNYhDYEUBt5\\u002fup8dIRQHNoke18vxFAj8L1KFyPEUDl0CLb+X4RQBBYObTIdhFAcT0K16NwEUBmZmZmZmYRQIcW2c73UxFAvp8aL90kEUCoxks3icEQQCGwcmiRbRBA16NwPQpXEECPwvUoXA8QQM3MzMzMzA9AYhBYObTID0AQWDm0yHYPQNEi2\\u002fl+ag5AMzMzMzMzDkDn+6nx0k0NQC2yne+nxgxAgZVDi2znC0BI4XoUrkcLQHnpJjEIrApADAIrhxbZCUA5tMh2vp8JQESLbOf7qQhA\"},\"type\":\"scatter\"},{\"customdata\":{\"dtype\":\"i2\",\"bdata\":\"AQACAAMABAAFAAYABwAIAAkACgALAAwADQAOAA8AEAARABIAEwAUABUAFgAXABgAGQAaABsAHAAdAB4AHwAgACEAIgAjACQAJQAmACcAKAApACoAKwAsAC0ALgAvADAAMQAyADMANAA1ADYANwA4ADkAOgA7ADwAPQA+AD8AQABBAEIAQwBEAEUARgBHAEgASQBKAEsATABNAE4ATwBPAFEAUgBTAFQAVQBWAFcAWABZAFoAWwBcAF0AXgBfAGAAYQBiAGMAZABlAGYAZwBoAGkAagBrAGwAbQBuAG8AcABxAHIAcwB0AHUAdgB3AHgAeQB6AHsAfAB9AH4AfwCAAIEAggCDAIQA\"},\"hovertemplate\":\"Country: %{text}\\u003cbr\\u003eRank: %{customdata} out of 133\\u003cbr\\u003eGNI per Capita: $%{x:,.0f}\\u003cbr\\u003eHappiness: %{y:.2f}\\u003cextra\\u003e\\u003c\\u002fextra\\u003e\",\"mode\":\"markers\",\"name\":\"GNI per Capita\",\"text\":[\"Finland\",\"Denmark\",\"Norway\",\"Iceland\",\"Netherlands\",\"Switzerland\",\"Sweden\",\"New Zealand\",\"Canada\",\"Austria\",\"Australia\",\"Costa Rica\",\"Israel\",\"Luxembourg\",\"United Kingdom\",\"Ireland\",\"Germany\",\"Belgium\",\"United States\",\"United Arab Emirates\",\"Malta\",\"Mexico\",\"France\",\"Chile\",\"Guatemala\",\"Saudi Arabia\",\"Qatar\",\"Spain\",\"Panama\",\"Brazil\",\"Uruguay\",\"Singapore\",\"El Salvador\",\"Italy\",\"Bahrain\",\"Poland\",\"Uzbekistan\",\"Lithuania\",\"Colombia\",\"Slovenia\",\"Nicaragua\",\"Kosovo\",\"Argentina\",\"Romania\",\"Cyprus\",\"Ecuador\",\"Kuwait\",\"Thailand\",\"Latvia\",\"Estonia\",\"Jamaica\",\"Mauritius\",\"Japan\",\"Honduras\",\"Kazakhstan\",\"Bolivia\",\"Hungary\",\"Paraguay\",\"Peru\",\"Portugal\",\"Pakistan\",\"Philippines\",\"Serbia\",\"Moldova\",\"Libya\",\"Montenegro\",\"Tajikistan\",\"Croatia\",\"Dominican Republic\",\"Bosnia and Herzegovina\",\"Malaysia\",\"Belarus\",\"Greece\",\"Mongolia\",\"North Macedonia\",\"Nigeria\",\"Turkmenistan\",\"Algeria\",\"Morocco\",\"Azerbaijan\",\"Lebanon\",\"Indonesia\",\"China\",\"Bhutan\",\"Cameroon\",\"Bulgaria\",\"Ghana\",\"Nepal\",\"Jordan\",\"Benin\",\"Gabon\",\"South Africa\",\"Albania\",\"Cambodia\",\"Senegal\",\"Somalia\",\"Namibia\",\"Niger\",\"Burkina Faso\",\"Armenia\",\"Guinea\",\"Georgia\",\"Kenya\",\"Mauritania\",\"Mozambique\",\"Tunisia\",\"Bangladesh\",\"Iraq\",\"Mali\",\"Sierra Leone\",\"Sri Lanka\",\"Myanmar\",\"Chad\",\"Ukraine\",\"Ethiopia\",\"Uganda\",\"Zambia\",\"Togo\",\"India\",\"Liberia\",\"Comoros\",\"Madagascar\",\"Lesotho\",\"Burundi\",\"Zimbabwe\",\"Haiti\",\"Botswana\",\"Malawi\",\"Rwanda\",\"Tanzania\",\"Afghanistan\",\"Central African Republic\"],\"visible\":false,\"x\":{\"dtype\":\"f8\",\"bdata\":\"h5YeWaNrT0LBKs+phbBUQtNF54jghFhChJ7gR8GhF0JUX9dnh\\u002fNpQr7DSkf5Q2RCI9t7xwvgX0Jz6BDKhyhIQo9a8h55EnlCzdx0awfOWULNxBNGspVzQi4Q0hYkNSxC3yfHMr0mV0LY4dHEbEsmQmbQ9wLNuYRCP80xowgIUkKPID1hRFuNQvD\\u002fW71Dfl9CAIAFcIXLs0JGvnFnQHNYQpkqq3+ikAtCUqAo24VxckLNXDrG90eEQqpRK92ALk9CTYTm6iOkMUJYVQUijaRoQpPYKUrbBERCKSjkLW9TdEIAAEgdYHsuQnvUN+8uh3pCrQlUcy+OK0KasUgdVGVTQgAAAFU4yRdCH5kQl0mAfUIxiMluJcghQjs7jaHt0GBChgk8gcqtL0JfaaXrYqIoQhdJX+B9ZFJCrLycm1jwKEIl9bfS+MgGQmnSmWNDGf5BKaThFfwJWUIncaxTJeJMQjrjNKI6FxdCAABoCNVWOEInwQpc9b9CQnFNpAPhf15CS1kBiCNpH0KHljYwDZMcQkjQVZQsqgxC5x0\\u002f++k5DEIfVAriO1mTQgbBblimUhVCXop2qM+BQkKE\\u002fjC+dKciQj+VrlIql0JCe9TGwwQfIUIb\\u002fz\\u002fYI59JQuP12+BgNktCiZmoCVRaUkIrt8d6TyFYQgQHlJdTyidCj8LJ18YBB0J2v8XU84wwQkgKpZ214PRB11JuN47wAUIT8hBAjIcsQjWO7ifLwjNCMKqqyzQLE0InUZG9f7NUQnvUunmPGi1CQlCYZQeuR0I8zl5YiIgHQnDOV9\\u002fOZQZCy1mQDloWW0IqSfKpWMMkQjdp5P\\u002f8EEZC\\u002fImR6oOQPUKHhwdXmZElQleMtl07cydCSBmrR3eUb0JmNyNq\\u002f+apQmcKXh4TrOJBxHFMEE4UIkJGFKngB\\u002fUuQl6aNlqDgy5CmRsVynYVIEJtha3HD7okQuPHzzu7rApC\\u002fXaE9EjkDEL6ruOFqBhWQg7PPohvpwxCsTBUTixRIEJ65TFhbDoVQl1cCp0EDgBCLGWcY7XJBkKxYWnBZhsJQjlFx3I6jAxCL24U68K3CUKxUDvqp9MIQsiHvSnfXg9Cxe50Bl7\\u002fNkIl9cDlQw39Qa5YDHU9YQxC1QeBK1QBI0IMiodqJEhVQkQrJJEkEEtCNABrl0DkDkLqz7Wx2gr4QZ3wg6WEJjRCrzVE6cHpMEKJQWEmccAEQri++YoOI0JCidIxzrExNkIirrn9pAggQtlOmybCVBVCHUnUatoh+kEzsWIJ\\u002fm6EQgAAgHnhGOZBxM4UfSvk0UGWsh7l2loJQgtBNGkLQeVB4Sg\\u002fiHZA40F6BxMq1IYXQl1tj3LoDwxCulrHI7I\\u002fD0LXo\\u002fJx5xYEQrkNHzv7oAJCA1gSPRvyK0LZ\\u002feovL8URQh8Rl4X6xuFB\"},\"y\":{\"dtype\":\"f8\",\"bdata\":\"+n5qvHQTH0BmZmZmZmYeQJ7vp8ZLNx5AYOXQItv5HUDByqFFtvMdQOxRuB6F6x1ArBxaZDtfHUDufD81XjodQOkmMQisHB1AlkOLbOf7HEC28\\u002f3UeOkcQF66SQwCqxxAdZMYBFaOHEBcj8L1KFwcQJ7vp8ZLNxxAL90kBoEVHEBxPQrXo\\u002fAbQP7UeOkmsRtAxSCwcmiRG0DNzMzMzEwbQIGVQ4ts5xpA4XoUrkdhGkCR7Xw\\u002fNV4aQC2yne+nxhlAWDm0yHa+GUAAAAAAAIAZQOXQItv5fhlA0SLb+X5qGUBiEFg5tEgZQDMzMzMzMxlAeekmMQgsGUA\\u002fNV66SQwZQFCNl24SAxlAMQisHFrkGECyne+nxssYQO58PzVeuhhAGQRWDi2yGEB\\u002farx0k5gYQAAAAAAAgBhARrbz\\u002fdR4GEDsUbgehWsYQGZmZmZmZhhA8tJNYhBYGEBI4XoUrkcYQMl2vp8aLxhA6SYxCKwcGEAv3SQGgRUYQNV46SYxCBhAw\\u002fUoXI\\u002fCF0DfT42XbpIXQI\\u002fC9ShcjxdAWmQ730+NF0AlBoGVQ4sXQHE9CtejcBdAI9v5fmo8F0AEVg4tsh0XQNV46SYxCBdARrbz\\u002fdT4FkB9PzVeuskWQBKDwMqhxRZA6SYxCKycFkCgGi\\u002fdJIYWQLbz\\u002fdR4aRZABFYOLbIdFkCamZmZmRkWQGQ730+NFxZAke18PzXeFUDufD81XroVQDMzMzMzsxVAJQaBlUOLFUBCYOXQIlsVQJhuEoPAShVA2c73U+MlFUCkcD0K1yMVQH9qvHSTGBVAj8L1KFwPFUCwcmiR7fwUQPLSTWIQ2BRAokW28\\u002f3UFECiRbbz\\u002fdQUQH0\\u002fNV66yRRA+FPjpZvEFEDdJAaBlcMUQIcW2c73UxRAkxgEVg4tFEAlBoGVQwsUQJZDi2zn+xNA9P3UeOmmE0A5tMh2vp8TQNV46SYxiBNAGQRWDi0yE0AX2c73U+MSQMdLN4lB4BJAzczMzMzMEkDTTWIQWLkSQHnpJjEIrBJAdZMYBFaOEkBQjZduEoMSQAwCK4cWWRJAI9v5fmo8EkCJQWDl0CISQPp+arx0ExJA8KfGSzcJEkD2KFyPwvURQHe+nxov3RFA8tJNYhDYEUBt5\\u002fup8dIRQHNoke18vxFAj8L1KFyPEUDl0CLb+X4RQBBYObTIdhFAcT0K16NwEUBmZmZmZmYRQIcW2c73UxFAvp8aL90kEUCoxks3icEQQCGwcmiRbRBA16NwPQpXEECPwvUoXA8QQM3MzMzMzA9AYhBYObTID0AQWDm0yHYPQNEi2\\u002fl+ag5AMzMzMzMzDkDn+6nx0k0NQC2yne+nxgxAgZVDi2znC0BI4XoUrkcLQHnpJjEIrApADAIrhxbZCUA5tMh2vp8JQESLbOf7qQhA\"},\"type\":\"scatter\"},{\"hoverinfo\":\"skip\",\"line\":{\"color\":\"blue\",\"dash\":\"dash\"},\"mode\":\"lines\",\"name\":\"Trend Line\",\"visible\":true,\"x\":{\"dtype\":\"f8\",\"bdata\":\"ZmZmZmZmOEAxYBoDprE4QPxZzp\\u002fl\\u002fDhAyFOCPCVIOUCTTTbZZJM5QF5H6nWk3jlAKkGeEuQpOkD1OlKvI3U6QMA0BkxjwDpAiy666KILO0BWKG6F4lY7QCIiIiIiojtA7RvWvmHtO0C4FYpboTg8QIQPPvjggzxATwnylCDPPEAaA6YxYBo9QOX8Wc6fZT1AsPYNa9+wPUB88MEHH\\u002fw9QEfqdaReRz5AEuQpQZ6SPkDe3d3d3d0+QKnXkXodKT9AdNFFF110P0A\\u002fy\\u002fmznL8\\u002fQIXiVihuBUBAa9+w9g0rQEBQ3ArFrVBAQDbZZJNNdkBAHNa+Ye2bQEAC0xgwjcFAQOfPcv4s50BAzMzMzMwMQUCyySabbDJBQJjGgGkMWEFAfsPaN6x9QUBjwDQGTKNBQEm9jtTryEFALrrooovuQUAUt0JxKxRCQPqznD\\u002fLOUJA37D2DWtfQkDFrVDcCoVCQKqqqqqqqkJAkKcEeUrQQkB2pF5H6vVCQFyhuBWKG0NAQZ4S5ClBQ0Amm2yyyWZDQAyYxoBpjENA8pQgTwmyQ0DYkXodqddDQL2O1OtI\\u002fUNAo4suuugiRECIiIiIiEhEQG6F4lYobkRAVII8JciTREA5f5bzZ7lEQB988MEH30RABHlKkKcERUDqdaReRypFQNBy\\u002fiznT0VAtm9Y+4Z1RUCbbLLJJptFQIBpDJjGwEVAZmZmZmbmRUBMY8A0BgxGQDJgGgOmMUZAF1100UVXRkD9Wc6f5XxGQOJWKG6FokZAyFOCPCXIRkCuUNwKxe1GQJNNNtlkE0dAeUqQpwQ5R0BeR+p1pF5HQEREREREhEdAKkGeEuSpR0AQPvjgg89HQPU6Uq8j9UdA2jesfcMaSEDANAZMY0BIQKYxYBoDZkhAjC666KKLSEBxKxS3QrFIQFcoboXi1khAPCXIU4L8SEAiIiIiIiJJQAgffPDBR0lA7RvWvmFtSUDTGDCNAZNJQLgViluhuElAnhLkKUHeSUCEDz744ANKQGoMmMaAKUpATwnylCBPSkA0BkxjwHRKQBoDpjFgmkpAAAAAAADASkA=\"},\"y\":{\"dtype\":\"f8\",\"bdata\":\"zRbCRItBGUCLfPJQJjgZQEniIl3BLhlAB0hTaVwlGUDFrYN19xsZQIMTtIGSEhlAQHnkjS0JGUD+3hSayP8YQLxERaZj9hhAeqp1sv7sGEA4EKa+meMYQPZ11so02hhAtNsG18\\u002fQGEByQTfjascYQDCnZ+8FvhhA7gyY+6C0GECscsgHPKsYQGrY+BPXoRhAKD4pIHKYGEDmo1ksDY8YQKQJijiohRhAYm+6REN8GEAg1epQ3nIYQN46G115aRhAnKBLaRRgGEBaBnx1r1YYQBhsrIFKTRhA1tHcjeVDGECUNw2agDoYQFKdPaYbMRhAEANusrYnGEDOaJ6+UR4YQIzOzsrsFBhASjT\\u002f1ocLGEAImi\\u002fjIgIYQMb\\u002fX++9+BdAg2WQ+1jvF0BCy8AH9OUXQP8w8ROP3BdAvpYhICrTF0B7\\u002fFEsxckXQDligjhgwBdA98eyRPu2F0C1LeNQlq0XQHOTE10xpBdAMflDacyaF0DvXnR1Z5EXQK3EpIECiBdAayrVjZ1+F0ApkAWaOHUXQOf1NabTaxdApVtmsm5iF0BjwZa+CVkXQCEnx8qkTxdA34z31j9GF0Cd8ifj2jwXQFtYWO91MxdAGL6I+xAqF0DXI7kHrCAXQJSJ6RNHFxdAU+8ZIOINF0AQVUosfQQXQM66ejgY+xZAjCCrRLPxFkBKhttQTugWQAjsC13p3hZAxlE8aYTVFkCEt2x1H8wWQEIdnYG6whZAAIPNjVW5FkC+6P2Z8K8WQHxOLqaLphZAOrResiadFkD4GY++wZMWQLZ\\u002fv8pcihZAdOXv1veAFkAySyDjkncWQPCwUO8tbhZArhaB+8hkFkBsfLEHZFsWQCri4RP\\u002fURZA6EcSIJpIFkCmrUIsNT8WQGQTczjQNRZAInmjRGssFkDg3tNQBiMWQJ5EBF2hGRZAXKo0aTwQFkAaEGV11wYWQNd1lYFy\\u002fRVAltvFjQ30FUBTQfaZqOoVQBKnJqZD4RVAzwxXst7XFUCNcoe+ec4VQEvYt8oUxRVACT7o1q+7FUDHoxjjSrIVQIUJSe\\u002flqBVAQ295+4CfFUA=\"},\"type\":\"scatter\"},{\"hoverinfo\":\"skip\",\"line\":{\"color\":\"blue\",\"dash\":\"dash\"},\"mode\":\"lines\",\"name\":\"Trend Line\",\"visible\":false,\"x\":{\"dtype\":\"f8\",\"bdata\":\"n6v5QqPO0UGejvAWg3dJQvOUrXO0ZVlCS3HxrdMHY0IdGAwizVxpQu++JpbGsW9C4LIgBWADc0JJBi6\\u002f3C12QrJZO3lZWHlCG61IM9aCfEKEAFbtUq1\\u002fQvapsdPna4FCqlO4MCYBg0Jf\\u002fb6NZJaEQhOnxeqiK4ZCyFDMR+HAh0J8+tKkH1aJQjCk2QFe64pC5U3gXpyAjEKZ9+a72hWOQk6h7RgZq49CgiX6uiugkEJcen3pymqRQjbPABhqNZJCECSERgkAk0LqeAd1qMqTQsXNiqNHlZRCnyIO0uZflUJ5d5EAhiqWQlPMFC8l9ZZCLiGYXcS\\u002fl0IIdhuMY4qYQuLKnroCVZlCvB8i6aEfmkKWdKUXQeqaQnHJKEbgtJtCSx6sdH9\\u002fnEIlcy+jHkqdQv\\u002fHstG9FJ5C2hw2AF3fnkK0cbku\\u002fKmfQkZjnq5NOqBCtA3gRZ2foEIhuCHd7AShQo5iY3Q8aqFC+wylC4zPoUJot+ai2zSiQtVhKDormqJCQgxq0Xr\\u002fokKvtqtoymSjQhxh7f8ZyqNCigsvl2kvpEL3tXAuuZSkQmRgssUI+qRC0Qr0XFhfpUI+tTX0p8SlQqtfd4v3KaZCGAq5IkePpkKFtPq5lvSmQvJePFHmWadCYAl+6DW\\u002fp0LNs79\\u002fhSSoQjpeARfViahCpwhDriTvqEIUs4RFdFSpQoFdxtzDualC7gcIdBMfqkJbskkLY4SqQshci6Ky6apCNgfNOQJPq0KjsQ7RUbSrQhBcUGihGaxCfQaS\\u002f\\u002fB+rELqsNOWQOSsQldbFS6QSa1CxAVXxd+urUIxsJhcLxSuQp5a2vN+ea5CDAUci87erkJ5r10iHkSvQuZZn7ltqa9CKoJwqF4HsEJgVxF0BjqwQpcssj+ubLBCzgFTC1afsEIE1\\u002fPW\\u002fdGwQjuslKKlBLFCcYE1bk03sUKoVtY59WmxQt4rdwWdnLFCFQEY0UTPsUJL1ric7AGyQoKrWWiUNLJCuYD6MzxnskLvVZv\\u002f45myQiYrPMuLzLJCXADdljP\\u002fskKT1X1i2zGzQsmqHi6DZLNCAIC\\u002f+SqXs0I=\"},\"y\":{\"dtype\":\"f8\",\"bdata\":\"gml0XjW6FUC29Gm0Fc0VQOp\\u002fXwr23xVAHwtVYNbyFUBTlkq2tgUWQIchQAyXGBZAu6w1YncrFkDvNyu4Vz4WQCPDIA44URZAV04WZBhkFkCM2Qu6+HYWQMBkARDZiRZA9O\\u002f2ZbmcFkAoe+y7ma8WQFwG4hF6whZAkJHXZ1rVFkDFHM29OugWQPmnwhMb+xZALTO4afsNF0Bhvq2\\u002f2yAXQJVJoxW8MxdAydSYa5xGF0D+X47BfFkXQDLrgxddbBdAZnZ5bT1\\u002fF0CaAW\\u002fDHZIXQM6MZBn+pBdAAhhab963F0A2o0\\u002fFvsoXQGsuRRuf3RdAn7k6cX\\u002fwF0DTRDDHXwMYQAfQJR1AFhhAO1sbcyApGEBv5hDJADwYQKRxBh\\u002fhThhA2Pz7dMFhGEAMiPHKoXQYQEAT5yCChxhAdJ7cdmKaGECoKdLMQq0YQNy0xyIjwBhAEUC9eAPTGEBFy7LO4+UYQHlWqCTE+BhAreGdeqQLGUDhbJPQhB4ZQBX4iCZlMRlASoN+fEVEGUB+DnTSJVcZQLKZaSgGahlA5iRffuZ8GUAasFTUxo8ZQE47SiqnohlAgsY\\u002fgIe1GUC3UTXWZ8gZQOvcKixI2xlAH2gggijuGUBT8xXYCAEaQId+Cy7pExpAvAkBhMkmGkDwlPbZqTkaQCQg7C+KTBpAWKvhhWpfGkCMNtfbSnIaQMDBzDErhRpA9EzChwuYGkAo2Lfd66oaQF1jrTPMvRpAke6iiazQGkDFeZjfjOMaQPkEjjVt9hpALpCDi00JG0BiG3nhLRwbQJambjcOLxtAyjFkje5BG0D+vFnjzlQbQDJITzmvZxtAZtNEj496G0CaXjrlb40bQM\\u002fpLztQoBtAA3UlkTCzG0A3ABvnEMYbQGuLED3x2BtAoBYGk9HrG0DUofvosf4bQAgt8T6SERxAPLjmlHIkHEBwQ9zqUjccQKTO0UAzShxA2FnHlhNdHEAM5bzs828cQEFwskLUghxAdfunmLSVHECphp3ulKgcQN0Rk0R1uxxAEZ2ImlXOHEBGKH7wNeEcQHqzc0YW9BxArj5pnPYGHUA=\"},\"type\":\"scatter\"},{\"hoverinfo\":\"skip\",\"line\":{\"color\":\"blue\",\"dash\":\"dash\"},\"mode\":\"lines\",\"name\":\"Trend Line\",\"visible\":false,\"x\":{\"dtype\":\"f8\",\"bdata\":\"xM4UfSvk0UECupQnXrtJQjOlF\\u002fx5qVlCsnYycqI6Y0LLGlnmh6BpQnLfP602A3BCfzFTZyk2c0KMg2YhHGl2QpjVedsOnHlCpCeNlQHPfELYPNAn+gCAQt\\u002fl2YRzmoFC5Y7j4ewzg0LrN+0+Zs2EQvLg9pvfZoZC+IkA+VgAiEL+MgpW0pmJQgTcE7NLM4tCCoUdEMXMjEIRLidtPmaOQhfXMMq3\\u002f49CD0Cdk5jMkEKSFCJCVZmRQhXppvARZpJCmL0rn84yk0IbkrBNi\\u002f+TQp5mNfxHzJRCITu6qgSZlUKlDz9ZwWWWQijkwwd+MpdCq7hItjr\\u002fl0Iujc1k98uYQrFhUhO0mJlCNDbXwXBlmkK3ClxwLTKbQjrf4B7q\\u002fptCvbNlzabLnEJBiOp7Y5idQsRcbyogZZ5CRzH02Nwxn0LKBXmHmf6fQibt\\u002fhqrZaBCaFdBcgnMoEKpwYPJZzKhQusrxiDGmKFCLJYIeCT\\u002foUJuAEvPgmWiQq9qjSbhy6JC8dTPfT8yo0IzPxLVnZijQnSpVCz8\\u002fqNCthOXg1plpEL3fdnauMukQjnoGzIXMqVCelJeiXWYpUK8vKDg0\\u002f6lQv4m4zcyZaZCP5Elj5DLpkKB+2fm7jGnQsJlqj1NmKdCBNDslKv+p0JFOi\\u002fsCWWoQoekcUNoy6hCyA60msYxqUIKefbxJJipQkzjOEmD\\u002fqlCjU17oOFkqkLPt733P8uqQhAiAE+eMatCUoxCpvyXq0KT9oT9Wv6rQtVgx1S5ZKxCFssJrBfLrEJYNUwDdjGtQpqfjlrUl61C2wnRsTL+rUIddBMJkWSuQl7eVWDvyq5CoEiYt00xr0LhstoOrJevQiMdHWYK\\u002fq9CssOvXjQysELT+FCKY2WwQvQt8rWSmLBCFWOT4cHLsEI1mDQN8f6wQlbN1TggMrFCdwJ3ZE9lsUKYNxiQfpixQrlsubuty7FC2aFa59z+sUL61vsSDDKyQhsMnT47ZbJCPEE+amqYskJcdt+VmcuyQn2rgMHI\\u002frJCnuAh7fcxs0K\\u002fFcMYJ2WzQuBKZERWmLNCAIAFcIXLs0I=\"},\"y\":{\"dtype\":\"f8\",\"bdata\":\"4B7hB+i6FUCMxuEZvM0VQDhu4iuQ4BVA4xXjPWTzFUCPveNPOAYWQDtl5GEMGRZA5gzlc+ArFkCStOWFtD4WQD5c5peIURZA6QPnqVxkFkCVq+e7MHcWQEFT6M0EihZA7Pro39icFkCYounxrK8WQERK6gOBwhZA7\\u002fHqFVXVFkCbmesnKegWQEZB7Dn9+hZA8ujsS9ENF0CekO1dpSAXQEk47m95MxdA9d\\u002fugU1GF0Chh++TIVkXQEwv8KX1axdA+Nbwt8l+F0CkfvHJnZEXQE8m8ttxpBdA+83y7UW3F0CndfP\\u002fGcoXQFId9BHu3BdA\\u002fsT0I8LvF0CqbPU1lgIYQFUU9kdqFRhAAbz2WT4oGECsY\\u002fdrEjsYQFgL+H3mTRhABLP4j7pgGECwWvmhjnMYQFsC+rNihhhAB6r6xTaZGECyUfvXCqwYQF75++nevhhACqH8+7LRGEC1SP0Nh+QYQGHw\\u002fR9b9xhADZj+MS8KGUC4P\\u002f9DAx0ZQGTn\\u002f1XXLxlAEI8AaKtCGUC7NgF6f1UZQGfeAYxTaBlAE4YCnid7GUC+LQOw+40ZQGrVA8LPoBlAFX0E1KOzGUDBJAXmd8YZQG3MBfhL2RlAGHQGCiDsGUDEGwcc9P4ZQHDDBy7IERpAHGsIQJwkGkDHEglScDcaQHO6CWREShpAHmIKdhhdGkDKCQuI7G8aQHaxC5rAghpAIVkMrJSVGkDNAA2+aKgaQHioDdA8uxpAJFAO4hDOGkDQ9w705OAaQHyfDwa58xpAJ0cQGI0GG0DT7hAqYRkbQH6WETw1LBtAKj4STgk\\u002fG0DW5RJg3VEbQIKNE3KxZBtALTUUhIV3G0DZ3BSWWYobQISEFagtnRtAMCwWugGwG0Dc0xbM1cIbQIh7F96p1RtAMyMY8H3oG0DeyhgCUvsbQIpyGRQmDhxANhoaJvogHEDiwRo4zjMcQI5pG0qiRhxAOREcXHZZHEDkuBxuSmwcQJBgHYAefxxAPAgekvKRHEDnrx6kxqQcQJNXH7aatxxAP\\u002f8fyG7KHEDqpiDaQt0cQJZOIewW8BxAQvYh\\u002fuoCHUA=\"},\"type\":\"scatter\"}],                        {\"autosize\":false,\"height\":600,\"hoverlabel\":{\"font\":{\"size\":12}},\"legend\":{\"borderwidth\":0,\"font\":{\"size\":12},\"x\":0.01,\"y\":0.99},\"margin\":{\"b\":80,\"l\":80,\"r\":80,\"t\":80},\"showlegend\":true,\"sliders\":[{\"active\":0,\"currentvalue\":{\"prefix\":\"Metric: \"},\"len\":0.9,\"pad\":{\"t\":50},\"steps\":[{\"args\":[{\"visible\":[true,false,false,true,false,false]},{\"title\":\"Happiness vs Gini Index\",\"xaxis\":{\"title\":\"Gini Index\",\"range\":[24.4,53.5],\"fixedrange\":true},\"yaxis\":{\"title\":\"Happiness\",\"range\":[2.853,7.769],\"fixedrange\":true}}],\"label\":\"Gini Index\",\"method\":\"update\"},{\"args\":[{\"visible\":[false,true,false,false,true,false]},{\"title\":\"Happiness vs GDP per Capita\",\"xaxis\":{\"title\":\"GDP per Capita (USD)\",\"range\":[1195019531.9011,500000000000.0],\"fixedrange\":true},\"yaxis\":{\"title\":\"Happiness\",\"range\":[2.853,7.769],\"fixedrange\":true}}],\"label\":\"GDP per Capita\",\"method\":\"update\"},{\"args\":[{\"visible\":[false,false,true,false,false,true]},{\"title\":\"Happiness vs GNI per Capita\",\"xaxis\":{\"title\":\"GNI per Capita (USD)\",\"range\":[1200664052.32512,500000000000.0],\"fixedrange\":true},\"yaxis\":{\"title\":\"Happiness\",\"range\":[2.853,7.769],\"fixedrange\":true}}],\"label\":\"GNI per Capita\",\"method\":\"update\"}],\"x\":0.1,\"xanchor\":\"left\"}],\"template\":{\"data\":{\"barpolar\":[{\"marker\":{\"line\":{\"color\":\"#E5ECF6\",\"width\":0.5},\"pattern\":{\"fillmode\":\"overlay\",\"size\":10,\"solidity\":0.2}},\"type\":\"barpolar\"}],\"bar\":[{\"error_x\":{\"color\":\"#2a3f5f\"},\"error_y\":{\"color\":\"#2a3f5f\"},\"marker\":{\"line\":{\"color\":\"#E5ECF6\",\"width\":0.5},\"pattern\":{\"fillmode\":\"overlay\",\"size\":10,\"solidity\":0.2}},\"type\":\"bar\"}],\"carpet\":[{\"aaxis\":{\"endlinecolor\":\"#2a3f5f\",\"gridcolor\":\"white\",\"linecolor\":\"white\",\"minorgridcolor\":\"white\",\"startlinecolor\":\"#2a3f5f\"},\"baxis\":{\"endlinecolor\":\"#2a3f5f\",\"gridcolor\":\"white\",\"linecolor\":\"white\",\"minorgridcolor\":\"white\",\"startlinecolor\":\"#2a3f5f\"},\"type\":\"carpet\"}],\"choropleth\":[{\"colorbar\":{\"outlinewidth\":0,\"ticks\":\"\"},\"type\":\"choropleth\"}],\"contourcarpet\":[{\"colorbar\":{\"outlinewidth\":0,\"ticks\":\"\"},\"type\":\"contourcarpet\"}],\"contour\":[{\"colorbar\":{\"outlinewidth\":0,\"ticks\":\"\"},\"colorscale\":[[0.0,\"#0d0887\"],[0.1111111111111111,\"#46039f\"],[0.2222222222222222,\"#7201a8\"],[0.3333333333333333,\"#9c179e\"],[0.4444444444444444,\"#bd3786\"],[0.5555555555555556,\"#d8576b\"],[0.6666666666666666,\"#ed7953\"],[0.7777777777777778,\"#fb9f3a\"],[0.8888888888888888,\"#fdca26\"],[1.0,\"#f0f921\"]],\"type\":\"contour\"}],\"heatmap\":[{\"colorbar\":{\"outlinewidth\":0,\"ticks\":\"\"},\"colorscale\":[[0.0,\"#0d0887\"],[0.1111111111111111,\"#46039f\"],[0.2222222222222222,\"#7201a8\"],[0.3333333333333333,\"#9c179e\"],[0.4444444444444444,\"#bd3786\"],[0.5555555555555556,\"#d8576b\"],[0.6666666666666666,\"#ed7953\"],[0.7777777777777778,\"#fb9f3a\"],[0.8888888888888888,\"#fdca26\"],[1.0,\"#f0f921\"]],\"type\":\"heatmap\"}],\"histogram2dcontour\":[{\"colorbar\":{\"outlinewidth\":0,\"ticks\":\"\"},\"colorscale\":[[0.0,\"#0d0887\"],[0.1111111111111111,\"#46039f\"],[0.2222222222222222,\"#7201a8\"],[0.3333333333333333,\"#9c179e\"],[0.4444444444444444,\"#bd3786\"],[0.5555555555555556,\"#d8576b\"],[0.6666666666666666,\"#ed7953\"],[0.7777777777777778,\"#fb9f3a\"],[0.8888888888888888,\"#fdca26\"],[1.0,\"#f0f921\"]],\"type\":\"histogram2dcontour\"}],\"histogram2d\":[{\"colorbar\":{\"outlinewidth\":0,\"ticks\":\"\"},\"colorscale\":[[0.0,\"#0d0887\"],[0.1111111111111111,\"#46039f\"],[0.2222222222222222,\"#7201a8\"],[0.3333333333333333,\"#9c179e\"],[0.4444444444444444,\"#bd3786\"],[0.5555555555555556,\"#d8576b\"],[0.6666666666666666,\"#ed7953\"],[0.7777777777777778,\"#fb9f3a\"],[0.8888888888888888,\"#fdca26\"],[1.0,\"#f0f921\"]],\"type\":\"histogram2d\"}],\"histogram\":[{\"marker\":{\"pattern\":{\"fillmode\":\"overlay\",\"size\":10,\"solidity\":0.2}},\"type\":\"histogram\"}],\"mesh3d\":[{\"colorbar\":{\"outlinewidth\":0,\"ticks\":\"\"},\"type\":\"mesh3d\"}],\"parcoords\":[{\"line\":{\"colorbar\":{\"outlinewidth\":0,\"ticks\":\"\"}},\"type\":\"parcoords\"}],\"pie\":[{\"automargin\":true,\"type\":\"pie\"}],\"scatter3d\":[{\"line\":{\"colorbar\":{\"outlinewidth\":0,\"ticks\":\"\"}},\"marker\":{\"colorbar\":{\"outlinewidth\":0,\"ticks\":\"\"}},\"type\":\"scatter3d\"}],\"scattercarpet\":[{\"marker\":{\"colorbar\":{\"outlinewidth\":0,\"ticks\":\"\"}},\"type\":\"scattercarpet\"}],\"scattergeo\":[{\"marker\":{\"colorbar\":{\"outlinewidth\":0,\"ticks\":\"\"}},\"type\":\"scattergeo\"}],\"scattergl\":[{\"marker\":{\"colorbar\":{\"outlinewidth\":0,\"ticks\":\"\"}},\"type\":\"scattergl\"}],\"scattermapbox\":[{\"marker\":{\"colorbar\":{\"outlinewidth\":0,\"ticks\":\"\"}},\"type\":\"scattermapbox\"}],\"scattermap\":[{\"marker\":{\"colorbar\":{\"outlinewidth\":0,\"ticks\":\"\"}},\"type\":\"scattermap\"}],\"scatterpolargl\":[{\"marker\":{\"colorbar\":{\"outlinewidth\":0,\"ticks\":\"\"}},\"type\":\"scatterpolargl\"}],\"scatterpolar\":[{\"marker\":{\"colorbar\":{\"outlinewidth\":0,\"ticks\":\"\"}},\"type\":\"scatterpolar\"}],\"scatter\":[{\"fillpattern\":{\"fillmode\":\"overlay\",\"size\":10,\"solidity\":0.2},\"type\":\"scatter\"}],\"scatterternary\":[{\"marker\":{\"colorbar\":{\"outlinewidth\":0,\"ticks\":\"\"}},\"type\":\"scatterternary\"}],\"surface\":[{\"colorbar\":{\"outlinewidth\":0,\"ticks\":\"\"},\"colorscale\":[[0.0,\"#0d0887\"],[0.1111111111111111,\"#46039f\"],[0.2222222222222222,\"#7201a8\"],[0.3333333333333333,\"#9c179e\"],[0.4444444444444444,\"#bd3786\"],[0.5555555555555556,\"#d8576b\"],[0.6666666666666666,\"#ed7953\"],[0.7777777777777778,\"#fb9f3a\"],[0.8888888888888888,\"#fdca26\"],[1.0,\"#f0f921\"]],\"type\":\"surface\"}],\"table\":[{\"cells\":{\"fill\":{\"color\":\"#EBF0F8\"},\"line\":{\"color\":\"white\"}},\"header\":{\"fill\":{\"color\":\"#C8D4E3\"},\"line\":{\"color\":\"white\"}},\"type\":\"table\"}]},\"layout\":{\"annotationdefaults\":{\"arrowcolor\":\"#2a3f5f\",\"arrowhead\":0,\"arrowwidth\":1},\"autotypenumbers\":\"strict\",\"coloraxis\":{\"colorbar\":{\"outlinewidth\":0,\"ticks\":\"\"}},\"colorscale\":{\"diverging\":[[0,\"#8e0152\"],[0.1,\"#c51b7d\"],[0.2,\"#de77ae\"],[0.3,\"#f1b6da\"],[0.4,\"#fde0ef\"],[0.5,\"#f7f7f7\"],[0.6,\"#e6f5d0\"],[0.7,\"#b8e186\"],[0.8,\"#7fbc41\"],[0.9,\"#4d9221\"],[1,\"#276419\"]],\"sequential\":[[0.0,\"#0d0887\"],[0.1111111111111111,\"#46039f\"],[0.2222222222222222,\"#7201a8\"],[0.3333333333333333,\"#9c179e\"],[0.4444444444444444,\"#bd3786\"],[0.5555555555555556,\"#d8576b\"],[0.6666666666666666,\"#ed7953\"],[0.7777777777777778,\"#fb9f3a\"],[0.8888888888888888,\"#fdca26\"],[1.0,\"#f0f921\"]],\"sequentialminus\":[[0.0,\"#0d0887\"],[0.1111111111111111,\"#46039f\"],[0.2222222222222222,\"#7201a8\"],[0.3333333333333333,\"#9c179e\"],[0.4444444444444444,\"#bd3786\"],[0.5555555555555556,\"#d8576b\"],[0.6666666666666666,\"#ed7953\"],[0.7777777777777778,\"#fb9f3a\"],[0.8888888888888888,\"#fdca26\"],[1.0,\"#f0f921\"]]},\"colorway\":[\"#636efa\",\"#EF553B\",\"#00cc96\",\"#ab63fa\",\"#FFA15A\",\"#19d3f3\",\"#FF6692\",\"#B6E880\",\"#FF97FF\",\"#FECB52\"],\"font\":{\"color\":\"#2a3f5f\"},\"geo\":{\"bgcolor\":\"white\",\"lakecolor\":\"white\",\"landcolor\":\"#E5ECF6\",\"showlakes\":true,\"showland\":true,\"subunitcolor\":\"white\"},\"hoverlabel\":{\"align\":\"left\"},\"hovermode\":\"closest\",\"mapbox\":{\"style\":\"light\"},\"paper_bgcolor\":\"white\",\"plot_bgcolor\":\"#E5ECF6\",\"polar\":{\"angularaxis\":{\"gridcolor\":\"white\",\"linecolor\":\"white\",\"ticks\":\"\"},\"bgcolor\":\"#E5ECF6\",\"radialaxis\":{\"gridcolor\":\"white\",\"linecolor\":\"white\",\"ticks\":\"\"}},\"scene\":{\"xaxis\":{\"backgroundcolor\":\"#E5ECF6\",\"gridcolor\":\"white\",\"gridwidth\":2,\"linecolor\":\"white\",\"showbackground\":true,\"ticks\":\"\",\"zerolinecolor\":\"white\"},\"yaxis\":{\"backgroundcolor\":\"#E5ECF6\",\"gridcolor\":\"white\",\"gridwidth\":2,\"linecolor\":\"white\",\"showbackground\":true,\"ticks\":\"\",\"zerolinecolor\":\"white\"},\"zaxis\":{\"backgroundcolor\":\"#E5ECF6\",\"gridcolor\":\"white\",\"gridwidth\":2,\"linecolor\":\"white\",\"showbackground\":true,\"ticks\":\"\",\"zerolinecolor\":\"white\"}},\"shapedefaults\":{\"line\":{\"color\":\"#2a3f5f\"}},\"ternary\":{\"aaxis\":{\"gridcolor\":\"white\",\"linecolor\":\"white\",\"ticks\":\"\"},\"baxis\":{\"gridcolor\":\"white\",\"linecolor\":\"white\",\"ticks\":\"\"},\"bgcolor\":\"#E5ECF6\",\"caxis\":{\"gridcolor\":\"white\",\"linecolor\":\"white\",\"ticks\":\"\"}},\"title\":{\"x\":0.05},\"xaxis\":{\"automargin\":true,\"gridcolor\":\"white\",\"linecolor\":\"white\",\"ticks\":\"\",\"title\":{\"standoff\":15},\"zerolinecolor\":\"white\",\"zerolinewidth\":2},\"yaxis\":{\"automargin\":true,\"gridcolor\":\"white\",\"linecolor\":\"white\",\"ticks\":\"\",\"title\":{\"standoff\":15},\"zerolinecolor\":\"white\",\"zerolinewidth\":2}}},\"title\":{\"text\":\"Happiness vs Gini Index\"},\"width\":900,\"xaxis\":{\"automargin\":false,\"fixedrange\":true,\"range\":[24.4,53.5],\"tickfont\":{\"size\":12},\"title\":{\"font\":{\"size\":14},\"text\":\"Gini Index\"}},\"yaxis\":{\"automargin\":false,\"autorange\":\"reversed\",\"dtick\":1,\"fixedrange\":true,\"range\":[2.853,7.769],\"tickfont\":{\"size\":12},\"tickmode\":\"linear\",\"title\":{\"font\":{\"size\":14},\"text\":\"Happiness\"}}},                        {\"responsive\": true}                    ).then(function(){\n",
       "                            \n",
       "var gd = document.getElementById('4f809390-08cd-4b9f-bd6f-693d9581f129');\n",
       "var x = new MutationObserver(function (mutations, observer) {{\n",
       "        var display = window.getComputedStyle(gd).display;\n",
       "        if (!display || display === 'none') {{\n",
       "            console.log([gd, 'removed!']);\n",
       "            Plotly.purge(gd);\n",
       "            observer.disconnect();\n",
       "        }}\n",
       "}});\n",
       "\n",
       "// Listen for the removal of the full notebook cells\n",
       "var notebookContainer = gd.closest('#notebook-container');\n",
       "if (notebookContainer) {{\n",
       "    x.observe(notebookContainer, {childList: true});\n",
       "}}\n",
       "\n",
       "// Listen for the clearing of the current output cell\n",
       "var outputEl = gd.closest('.output');\n",
       "if (outputEl) {{\n",
       "    x.observe(outputEl, {childList: true});\n",
       "}}\n",
       "\n",
       "                        })                };            </script>        </div>"
      ]
     },
     "metadata": {},
     "output_type": "display_data"
    }
   ],
   "source": [
    "import pandas as pd\n",
    "import numpy as np\n",
    "import plotly.graph_objects as go\n",
    "from plotly.offline import init_notebook_mode, iplot\n",
    "\n",
    "init_notebook_mode(connected=True)\n",
    "\n",
    "df = pd.read_csv('final.csv')\n",
    "\n",
    "df['Happiness_rank'] = df['Happiness'].rank(method='min', ascending=False).astype(int)\n",
    "total_countries = df['Country'].nunique()\n",
    "\n",
    "df_gini = df.dropna(subset=['Gini_index', 'Happiness', 'Country', 'Happiness_rank'])\n",
    "df_gdp  = df.dropna(subset=['GDP_current_usd', 'Happiness', 'Country', 'Happiness_rank'])\n",
    "df_gni  = df.dropna(subset=['GNI_current_usd', 'Happiness', 'Country', 'Happiness_rank'])\n",
    "\n",
    "# Zoomed-in x-axis ranges (but full data still used for trendlines)\n",
    "x_range_gini = [df_gini['Gini_index'].min(), df_gini['Gini_index'].max()]\n",
    "x_range_gdp  = [df_gdp['GDP_current_usd'].min(), 5e11]  # 0.5 trillion\n",
    "x_range_gni  = [df_gni['GNI_current_usd'].min(), 5e11]  # 0.5 trillion\n",
    "y_range      = [df['Happiness'].min(), df['Happiness'].max()]\n",
    "\n",
    "def add_trend_trace(x, y, color, visible=True):\n",
    "    x_vals = x.values\n",
    "    y_vals = y.values\n",
    "    slope, intercept = np.polyfit(x_vals, y_vals, 1)\n",
    "    x_trend = np.linspace(min(x_vals), max(x_vals), 100)\n",
    "    y_trend = slope * x_trend + intercept\n",
    "    \n",
    "    return go.Scatter(\n",
    "        x=x_trend,\n",
    "        y=y_trend,\n",
    "        mode='lines',\n",
    "        line=dict(color=color, dash='dash'),\n",
    "        name='Trend Line',\n",
    "        visible=visible,\n",
    "        hoverinfo='skip'\n",
    "    )\n",
    "\n",
    "trace_gini = go.Scatter(\n",
    "    x=df_gini['Gini_index'],\n",
    "    y=df_gini['Happiness'],\n",
    "    mode='markers',\n",
    "    name='Gini Index',\n",
    "    visible=True,\n",
    "    text=df_gini['Country'],\n",
    "    customdata=df_gini['Happiness_rank'],\n",
    "    hovertemplate=(\n",
    "        \"Country: %{text}<br>\"\n",
    "        f\"Rank: %{{customdata}} out of {total_countries}<br>\"\n",
    "        \"Gini Index: %{x:.1f}<br>\"\n",
    "        \"Happiness: %{y:.2f}<extra></extra>\"\n",
    "    )\n",
    ")\n",
    "\n",
    "trace_gdp = go.Scatter(\n",
    "    x=df_gdp['GDP_current_usd'],\n",
    "    y=df_gdp['Happiness'],\n",
    "    mode='markers',\n",
    "    name='GDP per Capita',\n",
    "    visible=False,\n",
    "    text=df_gdp['Country'],\n",
    "    customdata=df_gdp['Happiness_rank'],\n",
    "    hovertemplate=(\n",
    "        \"Country: %{text}<br>\"\n",
    "        f\"Rank: %{{customdata}} out of {total_countries}<br>\"\n",
    "        \"GDP per Capita: $%{x:,.0f}<br>\"\n",
    "        \"Happiness: %{y:.2f}<extra></extra>\"\n",
    "    )\n",
    ")\n",
    "\n",
    "trace_gni = go.Scatter(\n",
    "    x=df_gni['GNI_current_usd'],\n",
    "    y=df_gni['Happiness'],\n",
    "    mode='markers',\n",
    "    name='GNI per Capita',\n",
    "    visible=False,\n",
    "    text=df_gni['Country'],\n",
    "    customdata=df_gni['Happiness_rank'],\n",
    "    hovertemplate=(\n",
    "        \"Country: %{text}<br>\"\n",
    "        f\"Rank: %{{customdata}} out of {total_countries}<br>\"\n",
    "        \"GNI per Capita: $%{x:,.0f}<br>\"\n",
    "        \"Happiness: %{y:.2f}<extra></extra>\"\n",
    "    )\n",
    ")\n",
    "\n",
    "trend_gini = add_trend_trace(df_gini['Gini_index'], df_gini['Happiness'], 'blue', True)\n",
    "trend_gdp  = add_trend_trace(df_gdp['GDP_current_usd'], df_gdp['Happiness'], 'blue', False)\n",
    "trend_gni  = add_trend_trace(df_gni['GNI_current_usd'], df_gni['Happiness'], 'blue', False)\n",
    "\n",
    "fig = go.Figure(data=[trace_gini, trace_gdp, trace_gni, trend_gini, trend_gdp, trend_gni])\n",
    "\n",
    "steps = [\n",
    "    dict(method='update', label='Gini Index',\n",
    "         args=[{'visible': [True, False, False, True, False, False]},\n",
    "               {'title': 'Happiness vs Gini Index',\n",
    "                'xaxis': {'title': 'Gini Index', 'range': x_range_gini, 'fixedrange': True},\n",
    "                'yaxis': {'title': 'Happiness', 'range': y_range, 'fixedrange': True}}]),\n",
    "    dict(method='update', label='GDP per Capita',\n",
    "         args=[{'visible': [False, True, False, False, True, False]},\n",
    "               {'title': 'Happiness vs GDP per Capita',\n",
    "                'xaxis': {'title': 'GDP per Capita (USD)', 'range': x_range_gdp, 'fixedrange': True},\n",
    "                'yaxis': {'title': 'Happiness', 'range': y_range, 'fixedrange': True}}]),\n",
    "    dict(method='update', label='GNI per Capita',\n",
    "         args=[{'visible': [False, False, True, False, False, True]},\n",
    "               {'title': 'Happiness vs GNI per Capita',\n",
    "                'xaxis': {'title': 'GNI per Capita (USD)', 'range': x_range_gni, 'fixedrange': True},\n",
    "                'yaxis': {'title': 'Happiness', 'range': y_range, 'fixedrange': True}}])\n",
    "]\n",
    "\n",
    "fig.update_layout(\n",
    "    sliders=[dict(\n",
    "        active=0,\n",
    "        currentvalue={'prefix': 'Metric: '},\n",
    "        pad={'t': 50},\n",
    "        steps=steps,\n",
    "        len=0.9,\n",
    "        x=0.1,\n",
    "        xanchor='left'\n",
    "    )],\n",
    "    title=\"Happiness vs Gini Index\",\n",
    "    width=800,\n",
    "    height=600,\n",
    "    autosize=False,\n",
    "    margin=dict(t=80, b=80, l=80, r=80),\n",
    "    xaxis=dict(\n",
    "        title=dict(text='Gini Index', font=dict(size=14)),\n",
    "        range=x_range_gini,\n",
    "        fixedrange=True,\n",
    "        tickfont=dict(size=12),\n",
    "        automargin=False\n",
    "    ),\n",
    "    yaxis=dict(\n",
    "        title=dict(text='Happiness', font=dict(size=14)),\n",
    "        range=y_range,\n",
    "        fixedrange=True,\n",
    "        tickmode='linear',\n",
    "        dtick=1,\n",
    "        tickfont=dict(size=12),\n",
    "        automargin=False,\n",
    "        autorange='reversed'\n",
    "    ),\n",
    "    hoverlabel=dict(font=dict(size=12)),\n",
    "    showlegend=True,\n",
    "    legend=dict(\n",
    "        font=dict(size=12),\n",
    "        x=0.01, y=0.99,\n",
    "        borderwidth=0\n",
    "    )\n",
    ")\n",
    "\n",
    "iplot(fig)\n"
   ]
  },
  {
   "cell_type": "markdown",
   "id": "ec017c70",
   "metadata": {},
   "source": [
    "**Money does not buy happiness**\n",
    "\n",
    "Economic wealth could explain some of the variation in national happiness. However, other societal indicators may offer different insights. To further investigate the what influences the way people perceive their happiness, we examined its relationship with education expenditure, unemployment rate, and life expectancy.\n",
    "\n",
    "In the plot about Happiness vs Education Expenditure, there is a slight positive trend. Countries that allocate a higher percentage of their GDP to education generally report higher happiness levels according to the dataset. It suggests that investment in quality education contributes to societal well-being and happiness.\n",
    "\n",
    "The plot about Happiness vs Unemployment Rate has a slight negative trendline: as unemployment increases, average happiness declines according to the dataset. This is a result in line with previous research like Winkelmann (2014), which found that unemployment consistently and significantly reduces life satisfaction and caused a reduction in the happiness score recorded, both due to economic insecurity and the psychological toll of uncertainty.\n",
    "\n",
    "In the plot about Happiness vs Life Expectancy, a positive correlation can be read from the regression line. Countries where people live longer also tend to report higher happiness scores. This relationship is likely tied to broader indicators of public health and quality of life. As with education, longer life expectancy reflects better healthcare systems, better nutrition, and a better environments, all of this tends to go hand-in-hand with happiness.\n"
   ]
  },
  {
   "cell_type": "code",
   "execution_count": null,
   "id": "1d91aaa7",
   "metadata": {
    "tags": [
     "remove-input"
    ]
   },
   "outputs": [
    {
     "data": {
      "text/html": [
       "        <script type=\"text/javascript\">\n",
       "        window.PlotlyConfig = {MathJaxConfig: 'local'};\n",
       "        if (window.MathJax && window.MathJax.Hub && window.MathJax.Hub.Config) {window.MathJax.Hub.Config({SVG: {font: \"STIX-Web\"}});}\n",
       "        </script>\n",
       "        <script type=\"module\">import \"https://cdn.plot.ly/plotly-3.0.1.min\"</script>\n",
       "        "
      ]
     },
     "metadata": {},
     "output_type": "display_data"
    },
    {
     "data": {
      "application/vnd.plotly.v1+json": {
       "config": {
        "linkText": "Export to plot.ly",
        "plotlyServerURL": "https://plot.ly",
        "showLink": false
       },
       "data": [
        {
         "customdata": {
          "bdata": "AQACAAMABAAFAAYABwAIAAkACgALAAwADQAOAA8AEAARABIAEwAUABUAFgAXABgAGQAaABsAHAAdAB4AHwAgACEAIgAjACQAJQAmACcAKAApACoAKwAsAC0ALgAvADAAMQAyADMANAA1ADYANwA4ADkAOgA7ADwAPQA+AD8AQABBAEIAQwBEAEUARgBHAEgASQBKAEsATABNAE4ATwBPAFEAUgBTAFQAVQBWAFcAWABZAFoAWwBcAF0AXgBfAGAAYQBiAGMAZABlAGYAZwBoAGkAagBrAGwAbQBuAG8AcABxAHIAcwB0AHUAdgB3AHgAeQB6AHsAfAB9AH4AfwCAAIEAggCDAIQAhQA=",
          "dtype": "i2"
         },
         "hovertemplate": "Country: %{text}<br>Rank: %{customdata} out of 133<br>Life Expectancy: %{x:.1f} years<br>Happiness: %{y:.2f}<extra></extra>",
         "mode": "markers",
         "name": "Life Expectancy",
         "text": [
          "Finland",
          "Denmark",
          "Norway",
          "Iceland",
          "Netherlands",
          "Switzerland",
          "Sweden",
          "New Zealand",
          "Canada",
          "Austria",
          "Australia",
          "Costa Rica",
          "Israel",
          "Luxembourg",
          "United Kingdom",
          "Ireland",
          "Germany",
          "Belgium",
          "United States",
          "United Arab Emirates",
          "Malta",
          "Mexico",
          "France",
          "Chile",
          "Guatemala",
          "Saudi Arabia",
          "Qatar",
          "Spain",
          "Panama",
          "Brazil",
          "Uruguay",
          "Singapore",
          "El Salvador",
          "Italy",
          "Bahrain",
          "Poland",
          "Uzbekistan",
          "Lithuania",
          "Colombia",
          "Slovenia",
          "Nicaragua",
          "Kosovo",
          "Argentina",
          "Romania",
          "Cyprus",
          "Ecuador",
          "Kuwait",
          "Thailand",
          "Latvia",
          "Estonia",
          "Jamaica",
          "Mauritius",
          "Japan",
          "Honduras",
          "Kazakhstan",
          "Bolivia",
          "Hungary",
          "Paraguay",
          "Peru",
          "Portugal",
          "Pakistan",
          "Philippines",
          "Serbia",
          "Moldova",
          "Libya",
          "Montenegro",
          "Tajikistan",
          "Croatia",
          "Dominican Republic",
          "Bosnia and Herzegovina",
          "Malaysia",
          "Belarus",
          "Greece",
          "Mongolia",
          "North Macedonia",
          "Nigeria",
          "Turkmenistan",
          "Algeria",
          "Morocco",
          "Azerbaijan",
          "Lebanon",
          "Indonesia",
          "China",
          "Bhutan",
          "Cameroon",
          "Bulgaria",
          "Ghana",
          "Nepal",
          "Jordan",
          "Benin",
          "Gabon",
          "South Africa",
          "Albania",
          "Cambodia",
          "Senegal",
          "Somalia",
          "Namibia",
          "Niger",
          "Burkina Faso",
          "Armenia",
          "Guinea",
          "Georgia",
          "Kenya",
          "Mauritania",
          "Mozambique",
          "Tunisia",
          "Bangladesh",
          "Iraq",
          "Mali",
          "Sierra Leone",
          "Sri Lanka",
          "Myanmar",
          "Chad",
          "Ukraine",
          "Ethiopia",
          "Uganda",
          "Zambia",
          "Togo",
          "India",
          "Liberia",
          "Comoros",
          "Madagascar",
          "Lesotho",
          "Burundi",
          "Zimbabwe",
          "Haiti",
          "Botswana",
          "Malawi",
          "Rwanda",
          "Tanzania",
          "Afghanistan",
          "Central African Republic",
          "South Sudan"
         ],
         "type": "scatter",
         "visible": true,
         "x": {
          "bdata": "X4TuReh+VEB7DM7H4FxUQKGK1alYvVRAKFanYnXKVEBG43I0LodUQFuYnoXp+VRA6WNwPgbHVECjcTkal4NUQB2Wp2F5ilRA2JqUrUl5VECamZmZmblUQG3n+6nxElRA9DE4H4OzVEBpXI7G5ahUQE0urbGfV1RAMUzPwvSsVEAVtStRu1JUQD8B+xOwf1RAVLYmZWuyU0CgGi/dJKZUQG1XonYlqlRAUrgeheuhUkBWrE7F6rRUQNv5fmq8FFRAN4lBYOXoUUB56SYxCJRTQBSuR+F6vFRAF6tTsTr1VEA3iUFg5aBTQLKd76fG81JA1XjpJjFgU0ClZ2F6FuZUQGZmZmZm7lFAo4D9CdjfVECgGi/dJB5UQFuYnoXpeVNAy6FFtvMFUkCTtyF5GxJTQJhuEoPAMlNAgPgdiN9hVEA3iUFg5XBSQA4tsp3vT1NAke18PzU2U0CF5G1I3uZSQJMYBFYOXVRA/Knx0k1SU0DAB+F7EH5UQPhT46WbTFNAuhyNy9HYUkCO2pWoXalTQDVeukkM4lFAoIPxORiPUkDE5GxMzhZVQA4tsp3vB1JAJzEIrBxqUkAUrkfhevRQQDEuR+NyFFNAmG4Sg8BqUkCamZmZmRFTQA7TszA9a1RALbKd76euUEDsUbgehWtRQD8QvwPx+1JA3SQGgZWLUUBOYhBYOTxSQCxRuxK1K1NAIbByaJG9UUCMxuVoXI5TQLpJDAIrR1JA8KfGSzdZU0CamZmZmflSQPBF6F6EjlJAaVyOxuVoVEBicjYmZ8NRQMvlaFyOJlNA/tR46SaBSkBSuB6F61lRQM/3U+Ol61JASOF6FK6PUkDD9Shcj1JSQFpkO99PjVNAdZMYBFaWUUBcj8L1KHxTQLgehetRAFJAKVyPwvXYTkBG43I0LsdSQIXrUbgeHVBAQmDl0CJTUUCPwvUoXDdTQIts5/up8U1AIbByaJHVUEAGgZVDi4RQQNnO91Pj3VNA46WbxCCIUUCYbhKDwOpQQB1aZDvfn0xA2c73U+PFT0CHFtnO9wNOQGQ730+NF05AL0fjcjQOU0CNl24Sg7BNQMP1KFyPilJA1XjpJjF4T0ApXI/C9ehQQLpJDAIrp05AdZMYBFbmUkAAAAAAAChSQEjhehSuz1FAsp3vp8abTUCWQ4ts58tNQOkmMQisLFNAaJHtfD+dUEDJdr6fGn9KQHsUrkfhelJAgZVDi2xvUEAtsp3vp5ZQQKJFtvP9dE9A16NwPQqHTkA5tMh2vq9RQARWDi2ynU5A7nw/NV5qUECNl24Sg8BPQB1aZDvfn0tA16NwPQoXT0BI4XoUrodOQKJFtvP9FFBAppvEILDKUEBI4XoUrj9QQE5iEFg5rFBAnMQgsHKAUECcxCCwcnhPQEjhehSuhz9AjZduEoMQTUA=",
          "dtype": "f8"
         },
         "y": {
          "bdata": "+n5qvHQTH0BmZmZmZmYeQJ7vp8ZLNx5AYOXQItv5HUDByqFFtvMdQOxRuB6F6x1ArBxaZDtfHUDufD81XjodQOkmMQisHB1AlkOLbOf7HEC28/3UeOkcQF66SQwCqxxAdZMYBFaOHEBcj8L1KFwcQJ7vp8ZLNxxAL90kBoEVHEBxPQrXo/AbQP7UeOkmsRtAxSCwcmiRG0DNzMzMzEwbQIGVQ4ts5xpA4XoUrkdhGkCR7Xw/NV4aQC2yne+nxhlAWDm0yHa+GUAAAAAAAIAZQOXQItv5fhlA0SLb+X5qGUBiEFg5tEgZQDMzMzMzMxlAeekmMQgsGUA/NV66SQwZQFCNl24SAxlAMQisHFrkGECyne+nxssYQO58PzVeuhhAGQRWDi2yGEB/arx0k5gYQAAAAAAAgBhARrbz/dR4GEDsUbgehWsYQGZmZmZmZhhA8tJNYhBYGEBI4XoUrkcYQMl2vp8aLxhA6SYxCKwcGEAv3SQGgRUYQNV46SYxCBhAw/UoXI/CF0DfT42XbpIXQI/C9ShcjxdAWmQ730+NF0AlBoGVQ4sXQHE9CtejcBdAI9v5fmo8F0AEVg4tsh0XQNV46SYxCBdARrbz/dT4FkB9PzVeuskWQBKDwMqhxRZA6SYxCKycFkCgGi/dJIYWQLbz/dR4aRZABFYOLbIdFkCamZmZmRkWQGQ730+NFxZAke18PzXeFUDufD81XroVQDMzMzMzsxVAJQaBlUOLFUBCYOXQIlsVQJhuEoPAShVA2c73U+MlFUCkcD0K1yMVQH9qvHSTGBVAj8L1KFwPFUCwcmiR7fwUQPLSTWIQ2BRAokW28/3UFECiRbbz/dQUQH0/NV66yRRA+FPjpZvEFEDdJAaBlcMUQIcW2c73UxRAkxgEVg4tFEAlBoGVQwsUQJZDi2zn+xNA9P3UeOmmE0A5tMh2vp8TQNV46SYxiBNAGQRWDi0yE0AX2c73U+MSQMdLN4lB4BJAzczMzMzMEkDTTWIQWLkSQHnpJjEIrBJAdZMYBFaOEkBQjZduEoMSQAwCK4cWWRJAI9v5fmo8EkCJQWDl0CISQPp+arx0ExJA8KfGSzcJEkD2KFyPwvURQHe+nxov3RFA8tJNYhDYEUBt5/up8dIRQHNoke18vxFAj8L1KFyPEUDl0CLb+X4RQBBYObTIdhFAcT0K16NwEUBmZmZmZmYRQIcW2c73UxFAvp8aL90kEUCoxks3icEQQCGwcmiRbRBA16NwPQpXEECPwvUoXA8QQM3MzMzMzA9AYhBYObTID0AQWDm0yHYPQNEi2/l+ag5AMzMzMzMzDkDn+6nx0k0NQC2yne+nxgxAgZVDi2znC0BI4XoUrkcLQHnpJjEIrApADAIrhxbZCUA5tMh2vp8JQESLbOf7qQhAbef7qfHSBkA=",
          "dtype": "f8"
         }
        },
        {
         "customdata": {
          "bdata": "AQACAAMABAAFAAYABwAIAAkACgALAAwADQAOAA8AEAARABIAEwAUABUAFgAXABgAGQAaABsAHAAdAB4AHwAgACEAIgAkACUAJgAnACgAKgArACwALQAuADAAMQAyADMANAA1ADYANwA4ADkAOgA7ADwAPQA+AD8AQABCAEQARQBGAEcASABJAEoASwBMAE8AUQBSAFMAVABWAFkAWgBcAF0AXgBfAGAAYgBjAGQAZQBmAGcAaABqAG0AbwBwAHIAdAB1AHYAdwB7AH0AfwCBAA==",
          "dtype": "i2"
         },
         "hovertemplate": "Country: %{text}<br>Rank: %{customdata} out of 133<br>Unemployment Rate: %{x:.1f}%<br>Happiness: %{y:.2f}<extra></extra>",
         "mode": "markers",
         "name": "Unemployment Rate",
         "text": [
          "Finland",
          "Denmark",
          "Norway",
          "Iceland",
          "Netherlands",
          "Switzerland",
          "Sweden",
          "New Zealand",
          "Canada",
          "Austria",
          "Australia",
          "Costa Rica",
          "Israel",
          "Luxembourg",
          "United Kingdom",
          "Ireland",
          "Germany",
          "Belgium",
          "United States",
          "United Arab Emirates",
          "Malta",
          "Mexico",
          "France",
          "Chile",
          "Guatemala",
          "Saudi Arabia",
          "Qatar",
          "Spain",
          "Panama",
          "Brazil",
          "Uruguay",
          "Singapore",
          "El Salvador",
          "Italy",
          "Poland",
          "Uzbekistan",
          "Lithuania",
          "Colombia",
          "Slovenia",
          "Kosovo",
          "Argentina",
          "Romania",
          "Cyprus",
          "Ecuador",
          "Thailand",
          "Latvia",
          "Estonia",
          "Jamaica",
          "Mauritius",
          "Japan",
          "Honduras",
          "Kazakhstan",
          "Bolivia",
          "Hungary",
          "Paraguay",
          "Peru",
          "Portugal",
          "Pakistan",
          "Philippines",
          "Serbia",
          "Moldova",
          "Montenegro",
          "Croatia",
          "Dominican Republic",
          "Bosnia and Herzegovina",
          "Malaysia",
          "Belarus",
          "Greece",
          "Mongolia",
          "North Macedonia",
          "Nigeria",
          "Azerbaijan",
          "Lebanon",
          "Indonesia",
          "China",
          "Bhutan",
          "Bulgaria",
          "Jordan",
          "Benin",
          "South Africa",
          "Albania",
          "Cambodia",
          "Senegal",
          "Somalia",
          "Niger",
          "Burkina Faso",
          "Armenia",
          "Guinea",
          "Georgia",
          "Kenya",
          "Mauritania",
          "Tunisia",
          "Mali",
          "Sri Lanka",
          "Myanmar",
          "Ukraine",
          "Uganda",
          "Zambia",
          "Togo",
          "India",
          "Lesotho",
          "Zimbabwe",
          "Botswana",
          "Rwanda"
         ],
         "type": "scatter",
         "visible": false,
         "x": {
          "bdata": "SOF6FK7HGkDfT42XbhIUQEa28/3UeA1AdZMYBFYODEDVeOkmMQgLQPp+arx0kxFAokW28/1UG0BWDi2ynW8QQMP1KFyPwhZAPQrXo3A9EkDfT42XbpIUQHe+nxovnSVADAIrhxbZDUCR7Xw/NV4WQKjGSzeJQQ1AzczMzMzME0Dn+6nx0k0JQNv5fmq8dBVAJzEIrBxaDUDZzvdT46UCQGq8dJMYBA1AN4lBYOXQC0AUrkfhetQgQEa28/3U+B1AJQaBlUOLAUAlBoGVQ4sWQJqZmZmZmbk/9ihcj8I1LECJQWDl0KIZQKwcWmQ73ydAeekmMQisIUDNzMzMzMwIQK5H4XoUrhBAgZVDi2znI0CJQWDl0CIKQPYoXI/C9SFAhetRuB4FGUCPwvUoXI8kQGIQWDm0yBFAi2zn+6kROUBWDi2yna8jQLKd76fGSw9AH4XrUbieHEDl0CLb+X4OQLbz/dR46eY/c2iR7Xw/GUB1kxgEVg4SQKabxCCw8hNAbef7qfFSGUACK4cW2c4CQJhuEoPAyhZAMzMzMzMzE0Db+X5qvHQNQCcxCKwcWgtA4XoUrkdhGkDVeOkmMQgLQEJg5dAi2xlAUrgehetRE0BMN4lBYOUBQArXo3A9yiRA1XjpJjEI+D+oxks3iUEuQCuHFtnOdxpABoGVQ4tsGUD8qfHSTWIvQBSuR+F6FApAKVyPwvWoEEDsUbgehQsxQD81XrpJDCJARIts5/tpMUCkcD0K12MlQAAAAAAAABRAJzEIrByaJkC4HoXrUbgMQJqZmZmZmRRAw/UoXI/CBUDsUbgehesQQJMYBFYOzTBABoGVQ4ts8z8rhxbZznc8QDvfT42X7iZAVg4tsp3v3z+BlUOLbOcGQIcW2c730zJAoBov3SQG4T/2KFyPwvX4P0oMAiuHliNA30+Nl24SFEDhehSuRyEnQHWTGARWDhRAokW28/3UJEC6SQwCKycxQFK4HoXrUQpArkfhehSuEkA/NV66SQzaPxfZzvdTYyBAGy/dJAaBBED0/dR46SYWQH0/NV66SQBACtejcD0KGkDHSzeJQeAwQMuhRbbzfR1A8tJNYhAYNEBGtvP91HgmQA==",
          "dtype": "f8"
         },
         "y": {
          "bdata": "+n5qvHQTH0BmZmZmZmYeQJ7vp8ZLNx5AYOXQItv5HUDByqFFtvMdQOxRuB6F6x1ArBxaZDtfHUDufD81XjodQOkmMQisHB1AlkOLbOf7HEC28/3UeOkcQF66SQwCqxxAdZMYBFaOHEBcj8L1KFwcQJ7vp8ZLNxxAL90kBoEVHEBxPQrXo/AbQP7UeOkmsRtAxSCwcmiRG0DNzMzMzEwbQIGVQ4ts5xpA4XoUrkdhGkCR7Xw/NV4aQC2yne+nxhlAWDm0yHa+GUAAAAAAAIAZQOXQItv5fhlA0SLb+X5qGUBiEFg5tEgZQDMzMzMzMxlAeekmMQgsGUA/NV66SQwZQFCNl24SAxlAMQisHFrkGEDufD81XroYQBkEVg4tshhAf2q8dJOYGEAAAAAAAIAYQEa28/3UeBhAZmZmZmZmGEDy0k1iEFgYQEjhehSuRxhAyXa+nxovGEDpJjEIrBwYQNV46SYxCBhAw/UoXI/CF0DfT42XbpIXQI/C9ShcjxdAWmQ730+NF0AlBoGVQ4sXQHE9CtejcBdAI9v5fmo8F0AEVg4tsh0XQNV46SYxCBdARrbz/dT4FkB9PzVeuskWQBKDwMqhxRZA6SYxCKycFkCgGi/dJIYWQLbz/dR4aRZABFYOLbIdFkBkO99PjRcWQO58PzVeuhVAMzMzMzOzFUAlBoGVQ4sVQEJg5dAiWxVAmG4Sg8BKFUDZzvdT4yUVQKRwPQrXIxVAf2q8dJMYFUCPwvUoXA8VQKJFtvP91BRAfT81XrrJFED4U+Olm8QUQN0kBoGVwxRAhxbZzvdTFEAlBoGVQwsUQDm0yHa+nxNA1XjpJjGIE0AX2c73U+MSQMdLN4lB4BJAzczMzMzMEkDTTWIQWLkSQHnpJjEIrBJAUI2XbhKDEkAMAiuHFlkSQCPb+X5qPBJAiUFg5dAiEkD6fmq8dBMSQPCnxks3CRJA9ihcj8L1EUDy0k1iENgRQI/C9ShcjxFAEFg5tMh2EUBxPQrXo3ARQIcW2c73UxFAqMZLN4nBEEAhsHJokW0QQNejcD0KVxBAj8L1KFwPEEDRItv5fmoOQOf7qfHSTQ1AgZVDi2znC0B56SYxCKwKQA==",
          "dtype": "f8"
         }
        },
        {
         "customdata": {
          "bdata": "AQACAAMABAAFAAYABwAIAAkACgALAAwADQAOAA8AEAARABIAEwAUABUAFwAYABkAGwAcAB0AHgAfACAAIQAiACMAJAAlACYAKAApACsALAAtAC4ALwAwADEAMgAzADQANQA2ADcAOAA5ADoAOwA8AD0APgA/AEAAQwBEAEUARgBHAEgASQBKAEwATQBOAE8ATwBRAFIAUwBUAFUAVgBXAFgAWQBaAFsAXABdAF4AXwBhAGIAYwBkAGUAZgBnAGgAaQBqAGsAbQBuAHAAcQByAHMAdAB1AHYAdwB4AHoAewB8AH4AfwCBAIIAhAA=",
          "dtype": "i2"
         },
         "hovertemplate": "Country: %{text}<br>Rank: %{customdata} out of 133<br>Education Expenditure: %{x:.2f}% of GDP<br>Happiness: %{y:.2f}<extra></extra>",
         "mode": "markers",
         "name": "Education Expenditure",
         "text": [
          "Finland",
          "Denmark",
          "Norway",
          "Iceland",
          "Netherlands",
          "Switzerland",
          "Sweden",
          "New Zealand",
          "Canada",
          "Austria",
          "Australia",
          "Costa Rica",
          "Israel",
          "Luxembourg",
          "United Kingdom",
          "Ireland",
          "Germany",
          "Belgium",
          "United States",
          "United Arab Emirates",
          "Malta",
          "France",
          "Chile",
          "Guatemala",
          "Qatar",
          "Spain",
          "Panama",
          "Brazil",
          "Uruguay",
          "Singapore",
          "El Salvador",
          "Italy",
          "Bahrain",
          "Poland",
          "Uzbekistan",
          "Lithuania",
          "Slovenia",
          "Nicaragua",
          "Argentina",
          "Romania",
          "Cyprus",
          "Ecuador",
          "Kuwait",
          "Thailand",
          "Latvia",
          "Estonia",
          "Jamaica",
          "Mauritius",
          "Japan",
          "Honduras",
          "Kazakhstan",
          "Bolivia",
          "Hungary",
          "Paraguay",
          "Peru",
          "Portugal",
          "Pakistan",
          "Philippines",
          "Serbia",
          "Moldova",
          "Tajikistan",
          "Croatia",
          "Dominican Republic",
          "Bosnia and Herzegovina",
          "Malaysia",
          "Belarus",
          "Greece",
          "Mongolia",
          "Nigeria",
          "Turkmenistan",
          "Algeria",
          "Morocco",
          "Azerbaijan",
          "Lebanon",
          "Indonesia",
          "China",
          "Bhutan",
          "Cameroon",
          "Bulgaria",
          "Ghana",
          "Nepal",
          "Jordan",
          "Benin",
          "Gabon",
          "South Africa",
          "Albania",
          "Cambodia",
          "Senegal",
          "Namibia",
          "Niger",
          "Burkina Faso",
          "Armenia",
          "Guinea",
          "Georgia",
          "Kenya",
          "Mauritania",
          "Mozambique",
          "Tunisia",
          "Bangladesh",
          "Mali",
          "Sierra Leone",
          "Myanmar",
          "Chad",
          "Ukraine",
          "Ethiopia",
          "Uganda",
          "Zambia",
          "Togo",
          "India",
          "Liberia",
          "Madagascar",
          "Lesotho",
          "Burundi",
          "Haiti",
          "Botswana",
          "Rwanda",
          "Tanzania",
          "Central African Republic"
         ],
         "type": "scatter",
         "visible": false,
         "x": {
          "bdata": "AgAAAPWqGUABAADgKwUdQP///z9PdR9AAAAAILtnHkAFAABgsqMUQPz//z+8DhRAAQAAoNWNHkD7//9fQLYUQP7///96FxNAAwAAYATfFED7//9/ywgWQAIAAEDL8xpAAwAAIHcqGED5//+feOMNQAUAAIBtCxVABwAAYI5eCkD8///fSnYUQPz//z/8VRlABAAAAHPUE0D4//+/teEOQP///z/vmBNA/P//v+9qFUD8//9fV4EWQAYAAOAziwlAAQAAQCRuBkACAADAvusQQAUAAAARvwhABAAA4JfaF0D7//9/a4MSQPr//18J1gVACgAAIM0YC0D+//9/jmEQQAYAAICrEwNABAAAABq3EkABAABgby4ZQPn///95tg9AAQAAQO2QE0AAAABgUWYSQAQAAGArFhNA////Hx2JDED7///fs9kUQP3//7+t+xBABQAAgF3pGkAAAACgfi0IQPr//99MvhFA+///f6sKFUD+//8/kacUQAIAAAD1KhJAAQAA4CI+CUD9//+/1roXQAQAAECg1ApA/v//v5wuIEABAAAAR+YQQPr//x8s6wtA/v//H1aUDkD9////I4USQP3//78muAFA/v//P4hCC0D4///fh+4MQAQAAEAw5xhA/v//H+bvFUD2///fUlwPQP3//5/LKxBAAAAAYJEtEED9///fGNYPQAEAAGD/6hNA9f//32SwDED7//+fDTgNQAEAAOBR8dY/AQAA4OL2CEACAACgLE0WQAMAAMBVAxRA+///32NpCUAGAAAAWM0EQAQAAIBb3O4//////9E8EEAEAABAEAoSQPj///8SYQhA/v//f87LEEADAABgfTkJQAIAAKCs4gtABAAAAGPoB0D5//9fu7gHQP7//x+W/gZA+///P3WlF0D2//+fdVQPQAMAAODwmgZA////3x0kFEABAADgIqUiQAYAAKC2NQxAAgAAgOigFUD9//+/RpMEQPn//3/muv0/+///n42jDkAEAADgjn4VQOz//7++K/0/BQAAgEQlGUD////f5rEYQPf//x/35vo/9v///71wDEAFAACAvckdQO3//18E//8/AgAAQMv6AkD///8f5MMVQP////9o7BFAAQAA4Ft3AkADAAAgR6wRQAEAACCCzhBABgAAALgtD0AEAACAFlIBQAsAAABpGwhABAAAALrGHED+//8/AWMVQAUAAECOJvw//v//P0nMIEALAABg0egJQAEAACBSxgxABQAAQGdJ/D8=",
          "dtype": "f8"
         },
         "y": {
          "bdata": "+n5qvHQTH0BmZmZmZmYeQJ7vp8ZLNx5AYOXQItv5HUDByqFFtvMdQOxRuB6F6x1ArBxaZDtfHUDufD81XjodQOkmMQisHB1AlkOLbOf7HEC28/3UeOkcQF66SQwCqxxAdZMYBFaOHEBcj8L1KFwcQJ7vp8ZLNxxAL90kBoEVHEBxPQrXo/AbQP7UeOkmsRtAxSCwcmiRG0DNzMzMzEwbQIGVQ4ts5xpAke18PzVeGkAtsp3vp8YZQFg5tMh2vhlA5dAi2/l+GUDRItv5fmoZQGIQWDm0SBlAMzMzMzMzGUB56SYxCCwZQD81XrpJDBlAUI2XbhIDGUAxCKwcWuQYQLKd76fGyxhA7nw/NV66GEAZBFYOLbIYQH9qvHSTmBhARrbz/dR4GEDsUbgehWsYQPLSTWIQWBhASOF6FK5HGEDJdr6fGi8YQOkmMQisHBhAL90kBoEVGEDVeOkmMQgYQMP1KFyPwhdA30+Nl26SF0CPwvUoXI8XQFpkO99PjRdAJQaBlUOLF0BxPQrXo3AXQCPb+X5qPBdABFYOLbIdF0DVeOkmMQgXQEa28/3U+BZAfT81XrrJFkASg8DKocUWQOkmMQisnBZAoBov3SSGFkC28/3UeGkWQARWDi2yHRZAke18PzXeFUDufD81XroVQDMzMzMzsxVAJQaBlUOLFUBCYOXQIlsVQJhuEoPAShVA2c73U+MlFUCkcD0K1yMVQI/C9ShcDxVAsHJoke38FEDy0k1iENgUQKJFtvP91BRAokW28/3UFEB9PzVeuskUQPhT46WbxBRA3SQGgZXDFECHFtnO91MUQJMYBFYOLRRAJQaBlUMLFECWQ4ts5/sTQPT91HjpphNAObTIdr6fE0DVeOkmMYgTQBkEVg4tMhNAF9nO91PjEkDHSzeJQeASQM3MzMzMzBJA001iEFi5EkB1kxgEVo4SQFCNl24SgxJADAIrhxZZEkAj2/l+ajwSQIlBYOXQIhJA+n5qvHQTEkDwp8ZLNwkSQPYoXI/C9RFAd76fGi/dEUDy0k1iENgRQG3n+6nx0hFAj8L1KFyPEUDl0CLb+X4RQHE9CtejcBFAZmZmZmZmEUCHFtnO91MRQL6fGi/dJBFAqMZLN4nBEEAhsHJokW0QQNejcD0KVxBAj8L1KFwPEEDNzMzMzMwPQBBYObTIdg9A0SLb+X5qDkAzMzMzMzMOQC2yne+nxgxAgZVDi2znC0B56SYxCKwKQAwCK4cW2QlARIts5/upCEA=",
          "dtype": "f8"
         }
        },
        {
         "hoverinfo": "skip",
         "line": {
          "color": "blue",
          "dash": "dash"
         },
         "mode": "lines",
         "name": "Trend Line",
         "type": "scatter",
         "visible": true,
         "x": {
          "bdata": "SOF6FK6HP0BoQIIGJAhAQCwQxwJxTEBA8d8L/72QQEC1r1D7CtVAQHl/lfdXGUFAPk/a86RdQUACHx/w8aFBQMbuY+w+5kFAir6o6IsqQkBOju3k2G5CQBNeMuEls0JA1y133XL3QkCb/bvZvztDQGDNANYMgENAJJ1F0lnEQ0DobIrOpghEQKw8z8rzTERAcAwUx0CRREA13FjDjdVEQPmrnb/aGUVAvXviuydeRUCCSye4dKJFQEYbbLTB5kVACuuwsA4rRkDOuvWsW29GQJKKOqmos0ZAV1p/pfX3RkAbKsShQjxHQN/5CJ6PgEdApMlNmtzER0BomZKWKQlIQCxp15J2TUhA8Dgcj8ORSEC0CGGLENZIQHnYpYddGklAPajqg6peSUABeC+A96JJQMZHdHxE50lAihe5eJErSkBO5/103m9KQBK3QnErtEpA1oaHbXj4SkCbVsxpxTxLQF8mEWYSgUtAI/ZVYl/FS0DoxZperAlMQKyV31r5TUxAcGUkV0aSTEA0NWlTk9ZMQPgErk/gGk1AvdTySy1fTUCBpDdIeqNNQEV0fETH501ACkTBQBQsTkDOEwY9YXBOQJLjSjmutE5AVrOPNfv4TkAag9QxSD1PQN9SGS6VgU9AoyJeKuLFT0A0eVGTFwVQQBbhcxE+J1BA+EiWj2RJUEDasLgNi2tQQLwY24uxjVBAnoD9CdivUECA6B+I/tFQQGJQQgYl9FBARLhkhEsWUUAnIIcCcjhRQAmIqYCYWlFA6+/L/r58UUDNV+585Z5RQK+/EPsLwVFAkiczeTLjUUB0j1X3WAVSQFb3d3V/J1JAOF+a86VJUkAax7xxzGtSQPwu3+/yjVJA3pYBbhmwUkDA/iPsP9JSQKJmRmpm9FJAhM5o6IwWU0BmNotmszhTQEmereTZWlNAKwbQYgB9U0ANbvLgJp9TQO/VFF9NwVNA0T033XPjU0C0pVlbmgVUQJYNfNnAJ1RAeHWeV+dJVEBa3cDVDWxUQDxF41M0jlRAHq0F0lqwVEAAFShQgdJUQOJ8Ss6n9FRAxORsTM4WVUA=",
          "dtype": "f8"
         },
         "y": {
          "bdata": "+4cieck39D87f/F7Jxb1P3t2wH6F9PU/v22PgePS9j//ZF6EQbH3Pz9cLYefj/g/g1P8if1t+T/DSsuMW0z6PwNCmo+5Kvs/QzlpkhcJ/D+DMDiVdef8P8cnB5jTxf0/Bx/WmjGk/j9HFqWdj4L/P8QGOtB2MABAZIKh0aWfAEAE/gjT1A4BQKR5cNQDfgFARPXX1TLtAUDmcD/XYVwCQIbsptiQywJAJmgO2r86A0DI43Xb7qkDQGhf3dwdGQRACNtE3kyIBECoVqzfe/cEQEjSE+GqZgVA6k174tnVBUCKyeLjCEUGQCpFSuU3tAZAysCx5mYjB0BqPBnolZIHQAq4gOnEAQhAqjPo6vNwCEBKr0/sIuAIQOwqt+1RTwlAjKYe74C+CUAsIobwry0KQM6d7fHenApAbhlV8w0MC0AOlbz0PHsLQK4QJPZr6gtAToyL95pZDEDwB/P4ycgMQJCDWvr4Nw1AMP/B+yenDUDSein9VhYOQHL2kP6FhQ5AEnL4/7T0DkCy7V8B5GMPQFJpxwIT0w9AenIXAiEhEEBKMMuCuFgQQBrufgNQkBBA66syhOfHEEC7aeYEf/8QQIsnmoUWNxFAW+VNBq5uEUArowGHRaYRQPtgtQfd3RFAyx5piHQVEkCc3BwJDE0SQGya0ImjhBJAPFiECju8EkAMFjiL0vMSQNzT6wtqKxNArJGfjAFjE0B8T1MNmZoTQEwNB44w0hNAHMu6DsgJFEDuiG6PX0EUQL5GIhD3eBRAjgTWkI6wFEBewokRJugUQC6APZK9HxVAAD7xElVXFUDQ+6ST7I4VQKC5WBSExhVAcHcMlRv+FUBANcAVszUWQBDzc5ZKbRZA4LAnF+KkFkCwbtuXedwWQIAsjxgRFBdAUOpCmahLF0AgqPYZQIMXQPFlqprXuhdAwSNeG2/yF0CR4RGcBioYQGKfxRyeYRhAMl15nTWZGEACGy0ezdAYQNLY4J5kCBlAopaUH/w/GUByVEigk3cZQEIS/CArrxlAEtCvocLmGUDijWMiWh4aQLJLF6PxVRpAhAnLI4mNGkA=",
          "dtype": "f8"
         }
        },
        {
         "hoverinfo": "skip",
         "line": {
          "color": "blue",
          "dash": "dash"
         },
         "mode": "lines",
         "name": "Trend Line",
         "type": "scatter",
         "visible": false,
         "x": {
          "bdata": "mpmZmZmZuT/wK2wlKb3YP734OPL1ieU/gtu7UVe17j8kX59YXPDzP4bQYAgNhvg/6UEiuL0b/T+m2fEzt9gAQFeS0ouPIwNACEuz42duBUC5A5Q7QLkHQGu8dJMYBApAHHVV6/BODEDNLTZDyZkOQD9zi81QchBAl897+byXEUDwK2wlKb0SQEmIXFGV4hNAoeRMfQEIFUD6QD2pbS0WQFKdLdXZUhdAq/kdAUZ4GEAEVg4tsp0ZQFyy/lgewxpAtQ7vhIroG0AOa9+w9g0dQGbHz9xiMx5AvyPACM9YH0AMQFiaHT8gQDhuULDT0SBAZJxIxolkIUCRykDcP/chQL34OPL1iSJA6SYxCKwcI0AWVSkeYq8jQEKDITQYQiRAbrEZSs7UJECb3xFghGclQMcNCnY6+iVA8zsCjPCMJkAfavqhph8nQEyY8rdcsidAeMbqzRJFKECk9OLjyNcoQNEi2/l+ailA/VDTDzX9KUApf8sl648qQFatwzuhIitAgtu7UVe1K0CuCbRnDUgsQNs3rH3D2ixAB2akk3ltLUAzlJypLwAuQGDClL/lki5AjPCM1ZslL0C4HoXrUbgvQHOmvgCEJTBAib26C99uMECf1LYWOrgwQLXrsiGVATFAywKvLPBKMUDiGas3S5QxQPgwp0Km3TFADkijTQEnMkAkX59YXHAyQDp2m2O3uTJAUI2XbhIDM0BmpJN5bUwzQH27j4TIlTNAk9KLjyPfM0Cp6Yeafig0QL8AhKXZcTRA1ReAsDS7NEDrLny7jwQ1QAJGeMbqTTVAGF100UWXNUAudHDcoOA1QESLbOf7KTZAWqJo8lZzNkBwuWT9sbw2QIbQYAgNBjdAnedcE2hPN0Cz/lgew5g3QMkVVSke4jdA3yxRNHkrOED1Q00/1HQ4QAtbSUovvjhAInJFVYoHOUA4iUFg5VA5QE6gPWtAmjlAZLc5dpvjOUB6zjWB9iw6QJDlMYxRdjpAp/wtl6y/OkC9EyqiBwk7QNMqJq1iUjtA6UEiuL2bO0D/WB7DGOU7QBVwGs5zLjxAK4cW2c53PEA=",
          "dtype": "f8"
         },
         "y": {
          "bdata": "h0JFZB9GGEB9D5dWbzcYQHPc6Ei/KBhAaak6Ow8aGEBfdowtXwsYQFVD3h+v/BdASxAwEv/tF0BB3YEET98XQDeq0/ae0BdALXcl6e7BF0AjRHfbPrMXQBoRyc2OpBdAEN4awN6VF0AGq2yyLocXQPx3vqR+eBdA8kQQl85pF0DoEWKJHlsXQN7es3tuTBdA1KsFbr49F0DKeFdgDi8XQMBFqVJeIBdAthL7RK4RF0Cs30w3/gIXQKKsnilO9BZAmHnwG57lFkCORkIO7tYWQIQTlAA+yBZAeuDl8o25FkBwrTfl3aoWQGZ6idctnBZAXEfbyX2NFkBSFC28zX4WQEjhfq4dcBZAP67QoG1hFkA0eyKTvVIWQCtIdIUNRBZAIRXGd101FkAX4hdqrSYWQA2vaVz9FxZAA3y7Tk0JFkD5SA1BnfoVQO8VXzPt6xVA5eKwJT3dFUDbrwIYjc4VQNF8VArdvxVAx0mm/CyxFUC9FvjufKIVQLPjSeHMkxVAqbCb0xyFFUCffe3FbHYVQJVKP7i8ZxVAixeRqgxZFUCB5OKcXEoVQHexNI+sOxVAbn6GgfwsFUBkS9hzTB4VQFkYKmacDxVAUOV7WOwAFUBGss1KPPIUQDx/Hz2M4xRAMkxxL9zUFEAoGcMhLMYUQB7mFBR8txRAFLNmBsyoFEAKgLj4G5oUQABNCutrixRA9hlc3bt8FEDs5q3PC24UQOKz/8FbXxRA2IBRtKtQFEDOTaOm+0EUQMQa9ZhLMxRAuudGi5skFECwtJh96xUUQKaB6m87BxRAnE48Yov4E0CSG45U2+kTQIjo30Yr2xNAfrUxOXvME0B0goMry70TQGtP1R0brxNAYBwnEGugE0BW6XgCu5ETQE22yvQKgxNAQ4Mc51p0E0A5UG7ZqmUTQC8dwMv6VhNAJeoRvkpIE0Abt2OwmjkTQBGEtaLqKhNAB1EHlTocE0D9HVmHig0TQPPqqnna/hJA6bf8ayrwEkDfhE5eeuESQNVRoFDK0hJAyx7yQhrEEkDB60M1arUSQLi4lSe6phJAroXnGQqYEkA=",
          "dtype": "f8"
         }
        },
        {
         "hoverinfo": "skip",
         "line": {
          "color": "blue",
          "dash": "dash"
         },
         "mode": "lines",
         "name": "Trend Line",
         "type": "scatter",
         "visible": false,
         "x": {
          "bdata": "AQAA4FHx1j+q9StF07zcP6n1K1UqROE/fvDBB+sp5D9S61e6qw/nPybm7Wxs9ek/+uCDHy3b7D/O2xnS7cDvP1HrV0JXU/E/u+iimzfG8j8l5u30Fzn0P5DjOE74q/U/+uCDp9ge9z9k3s4AuZH4P87bGVqZBPo/ONlks3l3+z+i1q8MWur8PwzU+mU6Xf4/dtFFvxrQ/z9wZ0iMfaEAQCXm7bjtWgFA22ST5V0UAkCQ4zgSzs0CQERi3j4+hwNA+uCDa65ABECvXymYHvoEQGTezsSOswVAGV108f5sBkDO2xkebyYHQINav0rf3wdAONlkd0+ZCEDtVwqkv1IJQKLWr9AvDApAV1VV/Z/FCkAM1PopEH8LQMFSoFaAOAxAdtFFg/DxDEArUOuvYKsNQODOkNzQZA5AlU02CUEeD0BKzNs1sdcPQIClQLGQSBBA22STx0ilEEA1JObdAAIRQJDjOPS4XhFA6qKLCnG7EUBEYt4gKRgSQJ8hMTfhdBJA+uCDTZnREkBUoNZjUS4TQK9fKXoJixNACR98kMHnE0Bk3s6meUQUQL6dIb0xoRRAGV100+n9FEBzHMfpoVoVQM7bGQBatxVAKJtsFhIUFkCDWr8synAWQN0ZEkOCzRZAONlkWToqF0CSmLdv8oYXQO1XCoaq4xdARxddnGJAGECi1q+yGp0YQP2VAsnS+RhAV1VV34pWGUCyFKj1QrMZQAzU+gv7DxpAZ5NNIrNsGkDBUqA4a8kaQBwS804jJhtAdtFFZduCG0DRkJh7k98bQCtQ65FLPBxAhg8+qAOZHEDgzpC+u/UcQDuO49RzUh1AlU026yuvHUDwDIkB5AseQErM2xecaB5ApYsuLlTFHkAAS4FEDCIfQFoK1FrEfh9AtckmcXzbH0CIxLxDGhwgQDUk5k52SiBA4oMPWtJ4IECQ4zhlLqcgQD1DYnCK1SBA6qKLe+YDIUCXArWGQjIhQERi3pGeYCFA8sEHnfqOIUCfITGoVr0hQEyBWrOy6yFA+uCDvg4aIkCnQK3JakgiQFSg1tTGdiJAAQAA4CKlIkA=",
          "dtype": "f8"
         },
         "y": {
          "bdata": "iahlf2u2EkDr7UpGdcoSQE4zMA1/3hJAsHgV1IjyEkATvvqakgYTQHYD4GGcGhNA2EjFKKYuE0A7jqrvr0ITQJ3Tj7a5VhNAABl1fcNqE0BiXlpEzX4TQMWjPwvXkhNAKOkk0uCmE0CKLgqZ6roTQO1z71/0zhNAT7nUJv7iE0Cy/rntB/cTQBREn7QRCxRAd4mEexsfFEDazmlCJTMUQDwUTwkvRxRAn1k00DhbFEABnxmXQm8UQGTk/l1MgxRAxinkJFaXFEApb8nrX6sUQIy0rrJpvxRA7vmTeXPTFEBRP3lAfecUQLOEXgeH+xRAFspDzpAPFUB4DymVmiMVQNtUDlykNxVAPZrzIq5LFUCg39jpt18VQAIlvrDBcxVAZWqjd8uHFUDIr4g+1ZsVQCr1bQXfrxVAjTpTzOjDFUDvfziT8tcVQFLFHVr86xVAtQoDIQYAFkAXUOjnDxQWQHqVza4ZKBZA3NqydSM8FkA/IJg8LVAWQKFlfQM3ZBZABKtiykB4FkBm8EeRSowWQMk1LVhUoBZALHsSH160FkCOwPflZ8gWQPEF3axx3BZAU0vCc3vwFkC2kKc6hQQXQBjWjAGPGBdAextyyJgsF0DeYFePokAXQECmPFasVBdAo+shHbZoF0AFMQfkv3wXQGh27KrJkBdAyrvRcdOkF0AtAbc43bgXQJBGnP/mzBdA8ouBxvDgF0BV0WaN+vQXQLcWTFQECRhAGlwxGw4dGEB8oRbiFzEYQN/m+6ghRRhAQSzhbytZGECkccY2NW0YQAa3q/0+gRhAafyQxEiVGEDMQXaLUqkYQC6HW1JcvRhAkcxAGWbRGEDzESbgb+UYQFZXC6d5+RhAuJzwbYMNGUAb4tU0jSEZQH4nu/uWNRlA4GygwqBJGUBDsoWJql0ZQKb3alC0cRlACD1QF76FGUBrgjXex5kZQM3HGqXRrRlAMA0AbNvBGUCSUuUy5dUZQPSXyvnu6RlAWN2vwPj9GUC6IpWHAhIaQBxoek4MJhpAf61fFRY6GkDi8kTcH04aQEQ4KqMpYhpApn0PajN2GkA=",
          "dtype": "f8"
         }
        }
       ],
       "layout": {
        "autosize": false,
        "height": 600,
        "hoverlabel": {
         "font": {
          "size": 12
         }
        },
        "legend": {
         "borderwidth": 0,
         "font": {
          "size": 12
         },
         "x": 0.01,
         "y": 0.99
        },
        "margin": {
         "b": 80,
         "l": 80,
         "r": 80,
         "t": 80
        },
        "showlegend": true,
        "sliders": [
         {
          "active": 0,
          "currentvalue": {
           "prefix": "Metric: "
          },
          "len": 0.9,
          "pad": {
           "t": 50
          },
          "steps": [
           {
            "args": [
             {
              "visible": [
               true,
               false,
               false,
               true,
               false,
               false
              ]
             },
             {
              "title": "Happiness vs Life Expectancy",
              "xaxis": {
               "fixedrange": true,
               "range": [
                31.53,
                84.3563414634146
               ],
               "title": "Life Expectancy (years)"
              },
              "yaxis": {
               "fixedrange": true,
               "range": [
                2.853,
                7.769
               ],
               "title": "Happiness"
              }
             }
            ],
            "label": "Life Expectancy",
            "method": "update"
           },
           {
            "args": [
             {
              "visible": [
               false,
               true,
               false,
               false,
               true,
               false
              ]
             },
             {
              "title": "Happiness vs Unemployment Rate",
              "xaxis": {
               "fixedrange": true,
               "range": [
                0.1,
                28.468
               ],
               "title": "Unemployment Rate (%)"
              },
              "yaxis": {
               "fixedrange": true,
               "range": [
                2.853,
                7.769
               ],
               "title": "Happiness"
              }
             }
            ],
            "label": "Unemployment Rate",
            "method": "update"
           },
           {
            "args": [
             {
              "visible": [
               false,
               false,
               true,
               false,
               false,
               true
              ]
             },
             {
              "title": "Happiness vs Education Expenditure",
              "xaxis": {
               "fixedrange": true,
               "range": [
                0.358478993177414,
                9.32253170013428
               ],
               "title": "Education Expenditure (% of GDP)"
              },
              "yaxis": {
               "fixedrange": true,
               "range": [
                2.853,
                7.769
               ],
               "title": "Happiness"
              }
             }
            ],
            "label": "Education Expenditure",
            "method": "update"
           }
          ],
          "x": 0.1,
          "xanchor": "left"
         }
        ],
        "template": {
         "data": {
          "bar": [
           {
            "error_x": {
             "color": "#2a3f5f"
            },
            "error_y": {
             "color": "#2a3f5f"
            },
            "marker": {
             "line": {
              "color": "#E5ECF6",
              "width": 0.5
             },
             "pattern": {
              "fillmode": "overlay",
              "size": 10,
              "solidity": 0.2
             }
            },
            "type": "bar"
           }
          ],
          "barpolar": [
           {
            "marker": {
             "line": {
              "color": "#E5ECF6",
              "width": 0.5
             },
             "pattern": {
              "fillmode": "overlay",
              "size": 10,
              "solidity": 0.2
             }
            },
            "type": "barpolar"
           }
          ],
          "carpet": [
           {
            "aaxis": {
             "endlinecolor": "#2a3f5f",
             "gridcolor": "white",
             "linecolor": "white",
             "minorgridcolor": "white",
             "startlinecolor": "#2a3f5f"
            },
            "baxis": {
             "endlinecolor": "#2a3f5f",
             "gridcolor": "white",
             "linecolor": "white",
             "minorgridcolor": "white",
             "startlinecolor": "#2a3f5f"
            },
            "type": "carpet"
           }
          ],
          "choropleth": [
           {
            "colorbar": {
             "outlinewidth": 0,
             "ticks": ""
            },
            "type": "choropleth"
           }
          ],
          "contour": [
           {
            "colorbar": {
             "outlinewidth": 0,
             "ticks": ""
            },
            "colorscale": [
             [
              0,
              "#0d0887"
             ],
             [
              0.1111111111111111,
              "#46039f"
             ],
             [
              0.2222222222222222,
              "#7201a8"
             ],
             [
              0.3333333333333333,
              "#9c179e"
             ],
             [
              0.4444444444444444,
              "#bd3786"
             ],
             [
              0.5555555555555556,
              "#d8576b"
             ],
             [
              0.6666666666666666,
              "#ed7953"
             ],
             [
              0.7777777777777778,
              "#fb9f3a"
             ],
             [
              0.8888888888888888,
              "#fdca26"
             ],
             [
              1,
              "#f0f921"
             ]
            ],
            "type": "contour"
           }
          ],
          "contourcarpet": [
           {
            "colorbar": {
             "outlinewidth": 0,
             "ticks": ""
            },
            "type": "contourcarpet"
           }
          ],
          "heatmap": [
           {
            "colorbar": {
             "outlinewidth": 0,
             "ticks": ""
            },
            "colorscale": [
             [
              0,
              "#0d0887"
             ],
             [
              0.1111111111111111,
              "#46039f"
             ],
             [
              0.2222222222222222,
              "#7201a8"
             ],
             [
              0.3333333333333333,
              "#9c179e"
             ],
             [
              0.4444444444444444,
              "#bd3786"
             ],
             [
              0.5555555555555556,
              "#d8576b"
             ],
             [
              0.6666666666666666,
              "#ed7953"
             ],
             [
              0.7777777777777778,
              "#fb9f3a"
             ],
             [
              0.8888888888888888,
              "#fdca26"
             ],
             [
              1,
              "#f0f921"
             ]
            ],
            "type": "heatmap"
           }
          ],
          "histogram": [
           {
            "marker": {
             "pattern": {
              "fillmode": "overlay",
              "size": 10,
              "solidity": 0.2
             }
            },
            "type": "histogram"
           }
          ],
          "histogram2d": [
           {
            "colorbar": {
             "outlinewidth": 0,
             "ticks": ""
            },
            "colorscale": [
             [
              0,
              "#0d0887"
             ],
             [
              0.1111111111111111,
              "#46039f"
             ],
             [
              0.2222222222222222,
              "#7201a8"
             ],
             [
              0.3333333333333333,
              "#9c179e"
             ],
             [
              0.4444444444444444,
              "#bd3786"
             ],
             [
              0.5555555555555556,
              "#d8576b"
             ],
             [
              0.6666666666666666,
              "#ed7953"
             ],
             [
              0.7777777777777778,
              "#fb9f3a"
             ],
             [
              0.8888888888888888,
              "#fdca26"
             ],
             [
              1,
              "#f0f921"
             ]
            ],
            "type": "histogram2d"
           }
          ],
          "histogram2dcontour": [
           {
            "colorbar": {
             "outlinewidth": 0,
             "ticks": ""
            },
            "colorscale": [
             [
              0,
              "#0d0887"
             ],
             [
              0.1111111111111111,
              "#46039f"
             ],
             [
              0.2222222222222222,
              "#7201a8"
             ],
             [
              0.3333333333333333,
              "#9c179e"
             ],
             [
              0.4444444444444444,
              "#bd3786"
             ],
             [
              0.5555555555555556,
              "#d8576b"
             ],
             [
              0.6666666666666666,
              "#ed7953"
             ],
             [
              0.7777777777777778,
              "#fb9f3a"
             ],
             [
              0.8888888888888888,
              "#fdca26"
             ],
             [
              1,
              "#f0f921"
             ]
            ],
            "type": "histogram2dcontour"
           }
          ],
          "mesh3d": [
           {
            "colorbar": {
             "outlinewidth": 0,
             "ticks": ""
            },
            "type": "mesh3d"
           }
          ],
          "parcoords": [
           {
            "line": {
             "colorbar": {
              "outlinewidth": 0,
              "ticks": ""
             }
            },
            "type": "parcoords"
           }
          ],
          "pie": [
           {
            "automargin": true,
            "type": "pie"
           }
          ],
          "scatter": [
           {
            "fillpattern": {
             "fillmode": "overlay",
             "size": 10,
             "solidity": 0.2
            },
            "type": "scatter"
           }
          ],
          "scatter3d": [
           {
            "line": {
             "colorbar": {
              "outlinewidth": 0,
              "ticks": ""
             }
            },
            "marker": {
             "colorbar": {
              "outlinewidth": 0,
              "ticks": ""
             }
            },
            "type": "scatter3d"
           }
          ],
          "scattercarpet": [
           {
            "marker": {
             "colorbar": {
              "outlinewidth": 0,
              "ticks": ""
             }
            },
            "type": "scattercarpet"
           }
          ],
          "scattergeo": [
           {
            "marker": {
             "colorbar": {
              "outlinewidth": 0,
              "ticks": ""
             }
            },
            "type": "scattergeo"
           }
          ],
          "scattergl": [
           {
            "marker": {
             "colorbar": {
              "outlinewidth": 0,
              "ticks": ""
             }
            },
            "type": "scattergl"
           }
          ],
          "scattermap": [
           {
            "marker": {
             "colorbar": {
              "outlinewidth": 0,
              "ticks": ""
             }
            },
            "type": "scattermap"
           }
          ],
          "scattermapbox": [
           {
            "marker": {
             "colorbar": {
              "outlinewidth": 0,
              "ticks": ""
             }
            },
            "type": "scattermapbox"
           }
          ],
          "scatterpolar": [
           {
            "marker": {
             "colorbar": {
              "outlinewidth": 0,
              "ticks": ""
             }
            },
            "type": "scatterpolar"
           }
          ],
          "scatterpolargl": [
           {
            "marker": {
             "colorbar": {
              "outlinewidth": 0,
              "ticks": ""
             }
            },
            "type": "scatterpolargl"
           }
          ],
          "scatterternary": [
           {
            "marker": {
             "colorbar": {
              "outlinewidth": 0,
              "ticks": ""
             }
            },
            "type": "scatterternary"
           }
          ],
          "surface": [
           {
            "colorbar": {
             "outlinewidth": 0,
             "ticks": ""
            },
            "colorscale": [
             [
              0,
              "#0d0887"
             ],
             [
              0.1111111111111111,
              "#46039f"
             ],
             [
              0.2222222222222222,
              "#7201a8"
             ],
             [
              0.3333333333333333,
              "#9c179e"
             ],
             [
              0.4444444444444444,
              "#bd3786"
             ],
             [
              0.5555555555555556,
              "#d8576b"
             ],
             [
              0.6666666666666666,
              "#ed7953"
             ],
             [
              0.7777777777777778,
              "#fb9f3a"
             ],
             [
              0.8888888888888888,
              "#fdca26"
             ],
             [
              1,
              "#f0f921"
             ]
            ],
            "type": "surface"
           }
          ],
          "table": [
           {
            "cells": {
             "fill": {
              "color": "#EBF0F8"
             },
             "line": {
              "color": "white"
             }
            },
            "header": {
             "fill": {
              "color": "#C8D4E3"
             },
             "line": {
              "color": "white"
             }
            },
            "type": "table"
           }
          ]
         },
         "layout": {
          "annotationdefaults": {
           "arrowcolor": "#2a3f5f",
           "arrowhead": 0,
           "arrowwidth": 1
          },
          "autotypenumbers": "strict",
          "coloraxis": {
           "colorbar": {
            "outlinewidth": 0,
            "ticks": ""
           }
          },
          "colorscale": {
           "diverging": [
            [
             0,
             "#8e0152"
            ],
            [
             0.1,
             "#c51b7d"
            ],
            [
             0.2,
             "#de77ae"
            ],
            [
             0.3,
             "#f1b6da"
            ],
            [
             0.4,
             "#fde0ef"
            ],
            [
             0.5,
             "#f7f7f7"
            ],
            [
             0.6,
             "#e6f5d0"
            ],
            [
             0.7,
             "#b8e186"
            ],
            [
             0.8,
             "#7fbc41"
            ],
            [
             0.9,
             "#4d9221"
            ],
            [
             1,
             "#276419"
            ]
           ],
           "sequential": [
            [
             0,
             "#0d0887"
            ],
            [
             0.1111111111111111,
             "#46039f"
            ],
            [
             0.2222222222222222,
             "#7201a8"
            ],
            [
             0.3333333333333333,
             "#9c179e"
            ],
            [
             0.4444444444444444,
             "#bd3786"
            ],
            [
             0.5555555555555556,
             "#d8576b"
            ],
            [
             0.6666666666666666,
             "#ed7953"
            ],
            [
             0.7777777777777778,
             "#fb9f3a"
            ],
            [
             0.8888888888888888,
             "#fdca26"
            ],
            [
             1,
             "#f0f921"
            ]
           ],
           "sequentialminus": [
            [
             0,
             "#0d0887"
            ],
            [
             0.1111111111111111,
             "#46039f"
            ],
            [
             0.2222222222222222,
             "#7201a8"
            ],
            [
             0.3333333333333333,
             "#9c179e"
            ],
            [
             0.4444444444444444,
             "#bd3786"
            ],
            [
             0.5555555555555556,
             "#d8576b"
            ],
            [
             0.6666666666666666,
             "#ed7953"
            ],
            [
             0.7777777777777778,
             "#fb9f3a"
            ],
            [
             0.8888888888888888,
             "#fdca26"
            ],
            [
             1,
             "#f0f921"
            ]
           ]
          },
          "colorway": [
           "#636efa",
           "#EF553B",
           "#00cc96",
           "#ab63fa",
           "#FFA15A",
           "#19d3f3",
           "#FF6692",
           "#B6E880",
           "#FF97FF",
           "#FECB52"
          ],
          "font": {
           "color": "#2a3f5f"
          },
          "geo": {
           "bgcolor": "white",
           "lakecolor": "white",
           "landcolor": "#E5ECF6",
           "showlakes": true,
           "showland": true,
           "subunitcolor": "white"
          },
          "hoverlabel": {
           "align": "left"
          },
          "hovermode": "closest",
          "mapbox": {
           "style": "light"
          },
          "paper_bgcolor": "white",
          "plot_bgcolor": "#E5ECF6",
          "polar": {
           "angularaxis": {
            "gridcolor": "white",
            "linecolor": "white",
            "ticks": ""
           },
           "bgcolor": "#E5ECF6",
           "radialaxis": {
            "gridcolor": "white",
            "linecolor": "white",
            "ticks": ""
           }
          },
          "scene": {
           "xaxis": {
            "backgroundcolor": "#E5ECF6",
            "gridcolor": "white",
            "gridwidth": 2,
            "linecolor": "white",
            "showbackground": true,
            "ticks": "",
            "zerolinecolor": "white"
           },
           "yaxis": {
            "backgroundcolor": "#E5ECF6",
            "gridcolor": "white",
            "gridwidth": 2,
            "linecolor": "white",
            "showbackground": true,
            "ticks": "",
            "zerolinecolor": "white"
           },
           "zaxis": {
            "backgroundcolor": "#E5ECF6",
            "gridcolor": "white",
            "gridwidth": 2,
            "linecolor": "white",
            "showbackground": true,
            "ticks": "",
            "zerolinecolor": "white"
           }
          },
          "shapedefaults": {
           "line": {
            "color": "#2a3f5f"
           }
          },
          "ternary": {
           "aaxis": {
            "gridcolor": "white",
            "linecolor": "white",
            "ticks": ""
           },
           "baxis": {
            "gridcolor": "white",
            "linecolor": "white",
            "ticks": ""
           },
           "bgcolor": "#E5ECF6",
           "caxis": {
            "gridcolor": "white",
            "linecolor": "white",
            "ticks": ""
           }
          },
          "title": {
           "x": 0.05
          },
          "xaxis": {
           "automargin": true,
           "gridcolor": "white",
           "linecolor": "white",
           "ticks": "",
           "title": {
            "standoff": 15
           },
           "zerolinecolor": "white",
           "zerolinewidth": 2
          },
          "yaxis": {
           "automargin": true,
           "gridcolor": "white",
           "linecolor": "white",
           "ticks": "",
           "title": {
            "standoff": 15
           },
           "zerolinecolor": "white",
           "zerolinewidth": 2
          }
         }
        },
        "title": {
         "text": "Happiness vs Life Expectancy"
        },
        "width": 900,
        "xaxis": {
         "fixedrange": true,
         "range": [
          31.53,
          84.3563414634146
         ],
         "tickfont": {
          "size": 12
         },
         "title": {
          "font": {
           "size": 14
          },
          "text": "Life Expectancy (years)"
         }
        },
        "yaxis": {
         "dtick": 1,
         "fixedrange": true,
         "range": [
          2.853,
          7.769
         ],
         "tickfont": {
          "size": 12
         },
         "tickmode": "linear",
         "title": {
          "font": {
           "size": 14
          },
          "text": "Happiness"
         }
        }
       }
      },
      "text/html": [
       "<div>            <script src=\"https://cdnjs.cloudflare.com/ajax/libs/mathjax/2.7.5/MathJax.js?config=TeX-AMS-MML_SVG\"></script><script type=\"text/javascript\">if (window.MathJax && window.MathJax.Hub && window.MathJax.Hub.Config) {window.MathJax.Hub.Config({SVG: {font: \"STIX-Web\"}});}</script>                <script type=\"text/javascript\">window.PlotlyConfig = {MathJaxConfig: 'local'};</script>\n",
       "        <script charset=\"utf-8\" src=\"https://cdn.plot.ly/plotly-3.0.1.min.js\"></script>                <div id=\"3d7b9cf8-e314-4461-9d93-5518d704ee01\" class=\"plotly-graph-div\" style=\"height:600px; width:900px;\"></div>            <script type=\"text/javascript\">                window.PLOTLYENV=window.PLOTLYENV || {};                                if (document.getElementById(\"3d7b9cf8-e314-4461-9d93-5518d704ee01\")) {                    Plotly.newPlot(                        \"3d7b9cf8-e314-4461-9d93-5518d704ee01\",                        [{\"customdata\":{\"dtype\":\"i2\",\"bdata\":\"AQACAAMABAAFAAYABwAIAAkACgALAAwADQAOAA8AEAARABIAEwAUABUAFgAXABgAGQAaABsAHAAdAB4AHwAgACEAIgAjACQAJQAmACcAKAApACoAKwAsAC0ALgAvADAAMQAyADMANAA1ADYANwA4ADkAOgA7ADwAPQA+AD8AQABBAEIAQwBEAEUARgBHAEgASQBKAEsATABNAE4ATwBPAFEAUgBTAFQAVQBWAFcAWABZAFoAWwBcAF0AXgBfAGAAYQBiAGMAZABlAGYAZwBoAGkAagBrAGwAbQBuAG8AcABxAHIAcwB0AHUAdgB3AHgAeQB6AHsAfAB9AH4AfwCAAIEAggCDAIQAhQA=\"},\"hovertemplate\":\"Country: %{text}\\u003cbr\\u003eRank: %{customdata} out of 133\\u003cbr\\u003eLife Expectancy: %{x:.1f} years\\u003cbr\\u003eHappiness: %{y:.2f}\\u003cextra\\u003e\\u003c\\u002fextra\\u003e\",\"mode\":\"markers\",\"name\":\"Life Expectancy\",\"text\":[\"Finland\",\"Denmark\",\"Norway\",\"Iceland\",\"Netherlands\",\"Switzerland\",\"Sweden\",\"New Zealand\",\"Canada\",\"Austria\",\"Australia\",\"Costa Rica\",\"Israel\",\"Luxembourg\",\"United Kingdom\",\"Ireland\",\"Germany\",\"Belgium\",\"United States\",\"United Arab Emirates\",\"Malta\",\"Mexico\",\"France\",\"Chile\",\"Guatemala\",\"Saudi Arabia\",\"Qatar\",\"Spain\",\"Panama\",\"Brazil\",\"Uruguay\",\"Singapore\",\"El Salvador\",\"Italy\",\"Bahrain\",\"Poland\",\"Uzbekistan\",\"Lithuania\",\"Colombia\",\"Slovenia\",\"Nicaragua\",\"Kosovo\",\"Argentina\",\"Romania\",\"Cyprus\",\"Ecuador\",\"Kuwait\",\"Thailand\",\"Latvia\",\"Estonia\",\"Jamaica\",\"Mauritius\",\"Japan\",\"Honduras\",\"Kazakhstan\",\"Bolivia\",\"Hungary\",\"Paraguay\",\"Peru\",\"Portugal\",\"Pakistan\",\"Philippines\",\"Serbia\",\"Moldova\",\"Libya\",\"Montenegro\",\"Tajikistan\",\"Croatia\",\"Dominican Republic\",\"Bosnia and Herzegovina\",\"Malaysia\",\"Belarus\",\"Greece\",\"Mongolia\",\"North Macedonia\",\"Nigeria\",\"Turkmenistan\",\"Algeria\",\"Morocco\",\"Azerbaijan\",\"Lebanon\",\"Indonesia\",\"China\",\"Bhutan\",\"Cameroon\",\"Bulgaria\",\"Ghana\",\"Nepal\",\"Jordan\",\"Benin\",\"Gabon\",\"South Africa\",\"Albania\",\"Cambodia\",\"Senegal\",\"Somalia\",\"Namibia\",\"Niger\",\"Burkina Faso\",\"Armenia\",\"Guinea\",\"Georgia\",\"Kenya\",\"Mauritania\",\"Mozambique\",\"Tunisia\",\"Bangladesh\",\"Iraq\",\"Mali\",\"Sierra Leone\",\"Sri Lanka\",\"Myanmar\",\"Chad\",\"Ukraine\",\"Ethiopia\",\"Uganda\",\"Zambia\",\"Togo\",\"India\",\"Liberia\",\"Comoros\",\"Madagascar\",\"Lesotho\",\"Burundi\",\"Zimbabwe\",\"Haiti\",\"Botswana\",\"Malawi\",\"Rwanda\",\"Tanzania\",\"Afghanistan\",\"Central African Republic\",\"South Sudan\"],\"visible\":true,\"x\":{\"dtype\":\"f8\",\"bdata\":\"X4TuReh+VEB7DM7H4FxUQKGK1alYvVRAKFanYnXKVEBG43I0LodUQFuYnoXp+VRA6WNwPgbHVECjcTkal4NUQB2Wp2F5ilRA2JqUrUl5VECamZmZmblUQG3n+6nxElRA9DE4H4OzVEBpXI7G5ahUQE0urbGfV1RAMUzPwvSsVEAVtStRu1JUQD8B+xOwf1RAVLYmZWuyU0CgGi\\u002fdJKZUQG1XonYlqlRAUrgeheuhUkBWrE7F6rRUQNv5fmq8FFRAN4lBYOXoUUB56SYxCJRTQBSuR+F6vFRAF6tTsTr1VEA3iUFg5aBTQLKd76fG81JA1XjpJjFgU0ClZ2F6FuZUQGZmZmZm7lFAo4D9CdjfVECgGi\\u002fdJB5UQFuYnoXpeVNAy6FFtvMFUkCTtyF5GxJTQJhuEoPAMlNAgPgdiN9hVEA3iUFg5XBSQA4tsp3vT1NAke18PzU2U0CF5G1I3uZSQJMYBFYOXVRA\\u002fKnx0k1SU0DAB+F7EH5UQPhT46WbTFNAuhyNy9HYUkCO2pWoXalTQDVeukkM4lFAoIPxORiPUkDE5GxMzhZVQA4tsp3vB1JAJzEIrBxqUkAUrkfhevRQQDEuR+NyFFNAmG4Sg8BqUkCamZmZmRFTQA7TszA9a1RALbKd76euUEDsUbgehWtRQD8QvwPx+1JA3SQGgZWLUUBOYhBYOTxSQCxRuxK1K1NAIbByaJG9UUCMxuVoXI5TQLpJDAIrR1JA8KfGSzdZU0CamZmZmflSQPBF6F6EjlJAaVyOxuVoVEBicjYmZ8NRQMvlaFyOJlNA\\u002ftR46SaBSkBSuB6F61lRQM\\u002f3U+Ol61JASOF6FK6PUkDD9Shcj1JSQFpkO99PjVNAdZMYBFaWUUBcj8L1KHxTQLgehetRAFJAKVyPwvXYTkBG43I0LsdSQIXrUbgeHVBAQmDl0CJTUUCPwvUoXDdTQIts5\\u002fup8U1AIbByaJHVUEAGgZVDi4RQQNnO91Pj3VNA46WbxCCIUUCYbhKDwOpQQB1aZDvfn0xA2c73U+PFT0CHFtnO9wNOQGQ730+NF05AL0fjcjQOU0CNl24Sg7BNQMP1KFyPilJA1XjpJjF4T0ApXI\\u002fC9ehQQLpJDAIrp05AdZMYBFbmUkAAAAAAAChSQEjhehSuz1FAsp3vp8abTUCWQ4ts58tNQOkmMQisLFNAaJHtfD+dUEDJdr6fGn9KQHsUrkfhelJAgZVDi2xvUEAtsp3vp5ZQQKJFtvP9dE9A16NwPQqHTkA5tMh2vq9RQARWDi2ynU5A7nw\\u002fNV5qUECNl24Sg8BPQB1aZDvfn0tA16NwPQoXT0BI4XoUrodOQKJFtvP9FFBAppvEILDKUEBI4XoUrj9QQE5iEFg5rFBAnMQgsHKAUECcxCCwcnhPQEjhehSuhz9AjZduEoMQTUA=\"},\"y\":{\"dtype\":\"f8\",\"bdata\":\"+n5qvHQTH0BmZmZmZmYeQJ7vp8ZLNx5AYOXQItv5HUDByqFFtvMdQOxRuB6F6x1ArBxaZDtfHUDufD81XjodQOkmMQisHB1AlkOLbOf7HEC28\\u002f3UeOkcQF66SQwCqxxAdZMYBFaOHEBcj8L1KFwcQJ7vp8ZLNxxAL90kBoEVHEBxPQrXo\\u002fAbQP7UeOkmsRtAxSCwcmiRG0DNzMzMzEwbQIGVQ4ts5xpA4XoUrkdhGkCR7Xw\\u002fNV4aQC2yne+nxhlAWDm0yHa+GUAAAAAAAIAZQOXQItv5fhlA0SLb+X5qGUBiEFg5tEgZQDMzMzMzMxlAeekmMQgsGUA\\u002fNV66SQwZQFCNl24SAxlAMQisHFrkGECyne+nxssYQO58PzVeuhhAGQRWDi2yGEB\\u002farx0k5gYQAAAAAAAgBhARrbz\\u002fdR4GEDsUbgehWsYQGZmZmZmZhhA8tJNYhBYGEBI4XoUrkcYQMl2vp8aLxhA6SYxCKwcGEAv3SQGgRUYQNV46SYxCBhAw\\u002fUoXI\\u002fCF0DfT42XbpIXQI\\u002fC9ShcjxdAWmQ730+NF0AlBoGVQ4sXQHE9CtejcBdAI9v5fmo8F0AEVg4tsh0XQNV46SYxCBdARrbz\\u002fdT4FkB9PzVeuskWQBKDwMqhxRZA6SYxCKycFkCgGi\\u002fdJIYWQLbz\\u002fdR4aRZABFYOLbIdFkCamZmZmRkWQGQ730+NFxZAke18PzXeFUDufD81XroVQDMzMzMzsxVAJQaBlUOLFUBCYOXQIlsVQJhuEoPAShVA2c73U+MlFUCkcD0K1yMVQH9qvHSTGBVAj8L1KFwPFUCwcmiR7fwUQPLSTWIQ2BRAokW28\\u002f3UFECiRbbz\\u002fdQUQH0\\u002fNV66yRRA+FPjpZvEFEDdJAaBlcMUQIcW2c73UxRAkxgEVg4tFEAlBoGVQwsUQJZDi2zn+xNA9P3UeOmmE0A5tMh2vp8TQNV46SYxiBNAGQRWDi0yE0AX2c73U+MSQMdLN4lB4BJAzczMzMzMEkDTTWIQWLkSQHnpJjEIrBJAdZMYBFaOEkBQjZduEoMSQAwCK4cWWRJAI9v5fmo8EkCJQWDl0CISQPp+arx0ExJA8KfGSzcJEkD2KFyPwvURQHe+nxov3RFA8tJNYhDYEUBt5\\u002fup8dIRQHNoke18vxFAj8L1KFyPEUDl0CLb+X4RQBBYObTIdhFAcT0K16NwEUBmZmZmZmYRQIcW2c73UxFAvp8aL90kEUCoxks3icEQQCGwcmiRbRBA16NwPQpXEECPwvUoXA8QQM3MzMzMzA9AYhBYObTID0AQWDm0yHYPQNEi2\\u002fl+ag5AMzMzMzMzDkDn+6nx0k0NQC2yne+nxgxAgZVDi2znC0BI4XoUrkcLQHnpJjEIrApADAIrhxbZCUA5tMh2vp8JQESLbOf7qQhAbef7qfHSBkA=\"},\"type\":\"scatter\"},{\"customdata\":{\"dtype\":\"i2\",\"bdata\":\"AQACAAMABAAFAAYABwAIAAkACgALAAwADQAOAA8AEAARABIAEwAUABUAFgAXABgAGQAaABsAHAAdAB4AHwAgACEAIgAkACUAJgAnACgAKgArACwALQAuADAAMQAyADMANAA1ADYANwA4ADkAOgA7ADwAPQA+AD8AQABCAEQARQBGAEcASABJAEoASwBMAE8AUQBSAFMAVABWAFkAWgBcAF0AXgBfAGAAYgBjAGQAZQBmAGcAaABqAG0AbwBwAHIAdAB1AHYAdwB7AH0AfwCBAA==\"},\"hovertemplate\":\"Country: %{text}\\u003cbr\\u003eRank: %{customdata} out of 133\\u003cbr\\u003eUnemployment Rate: %{x:.1f}%\\u003cbr\\u003eHappiness: %{y:.2f}\\u003cextra\\u003e\\u003c\\u002fextra\\u003e\",\"mode\":\"markers\",\"name\":\"Unemployment Rate\",\"text\":[\"Finland\",\"Denmark\",\"Norway\",\"Iceland\",\"Netherlands\",\"Switzerland\",\"Sweden\",\"New Zealand\",\"Canada\",\"Austria\",\"Australia\",\"Costa Rica\",\"Israel\",\"Luxembourg\",\"United Kingdom\",\"Ireland\",\"Germany\",\"Belgium\",\"United States\",\"United Arab Emirates\",\"Malta\",\"Mexico\",\"France\",\"Chile\",\"Guatemala\",\"Saudi Arabia\",\"Qatar\",\"Spain\",\"Panama\",\"Brazil\",\"Uruguay\",\"Singapore\",\"El Salvador\",\"Italy\",\"Poland\",\"Uzbekistan\",\"Lithuania\",\"Colombia\",\"Slovenia\",\"Kosovo\",\"Argentina\",\"Romania\",\"Cyprus\",\"Ecuador\",\"Thailand\",\"Latvia\",\"Estonia\",\"Jamaica\",\"Mauritius\",\"Japan\",\"Honduras\",\"Kazakhstan\",\"Bolivia\",\"Hungary\",\"Paraguay\",\"Peru\",\"Portugal\",\"Pakistan\",\"Philippines\",\"Serbia\",\"Moldova\",\"Montenegro\",\"Croatia\",\"Dominican Republic\",\"Bosnia and Herzegovina\",\"Malaysia\",\"Belarus\",\"Greece\",\"Mongolia\",\"North Macedonia\",\"Nigeria\",\"Azerbaijan\",\"Lebanon\",\"Indonesia\",\"China\",\"Bhutan\",\"Bulgaria\",\"Jordan\",\"Benin\",\"South Africa\",\"Albania\",\"Cambodia\",\"Senegal\",\"Somalia\",\"Niger\",\"Burkina Faso\",\"Armenia\",\"Guinea\",\"Georgia\",\"Kenya\",\"Mauritania\",\"Tunisia\",\"Mali\",\"Sri Lanka\",\"Myanmar\",\"Ukraine\",\"Uganda\",\"Zambia\",\"Togo\",\"India\",\"Lesotho\",\"Zimbabwe\",\"Botswana\",\"Rwanda\"],\"visible\":false,\"x\":{\"dtype\":\"f8\",\"bdata\":\"SOF6FK7HGkDfT42XbhIUQEa28\\u002f3UeA1AdZMYBFYODEDVeOkmMQgLQPp+arx0kxFAokW28\\u002f1UG0BWDi2ynW8QQMP1KFyPwhZAPQrXo3A9EkDfT42XbpIUQHe+nxovnSVADAIrhxbZDUCR7Xw\\u002fNV4WQKjGSzeJQQ1AzczMzMzME0Dn+6nx0k0JQNv5fmq8dBVAJzEIrBxaDUDZzvdT46UCQGq8dJMYBA1AN4lBYOXQC0AUrkfhetQgQEa28\\u002f3U+B1AJQaBlUOLAUAlBoGVQ4sWQJqZmZmZmbk\\u002f9ihcj8I1LECJQWDl0KIZQKwcWmQ73ydAeekmMQisIUDNzMzMzMwIQK5H4XoUrhBAgZVDi2znI0CJQWDl0CIKQPYoXI\\u002fC9SFAhetRuB4FGUCPwvUoXI8kQGIQWDm0yBFAi2zn+6kROUBWDi2yna8jQLKd76fGSw9AH4XrUbieHEDl0CLb+X4OQLbz\\u002fdR46eY\\u002fc2iR7Xw\\u002fGUB1kxgEVg4SQKabxCCw8hNAbef7qfFSGUACK4cW2c4CQJhuEoPAyhZAMzMzMzMzE0Db+X5qvHQNQCcxCKwcWgtA4XoUrkdhGkDVeOkmMQgLQEJg5dAi2xlAUrgehetRE0BMN4lBYOUBQArXo3A9yiRA1XjpJjEI+D+oxks3iUEuQCuHFtnOdxpABoGVQ4tsGUD8qfHSTWIvQBSuR+F6FApAKVyPwvWoEEDsUbgehQsxQD81XrpJDCJARIts5\\u002ftpMUCkcD0K12MlQAAAAAAAABRAJzEIrByaJkC4HoXrUbgMQJqZmZmZmRRAw\\u002fUoXI\\u002fCBUDsUbgehesQQJMYBFYOzTBABoGVQ4ts8z8rhxbZznc8QDvfT42X7iZAVg4tsp3v3z+BlUOLbOcGQIcW2c730zJAoBov3SQG4T\\u002f2KFyPwvX4P0oMAiuHliNA30+Nl24SFEDhehSuRyEnQHWTGARWDhRAokW28\\u002f3UJEC6SQwCKycxQFK4HoXrUQpArkfhehSuEkA\\u002fNV66SQzaPxfZzvdTYyBAGy\\u002fdJAaBBED0\\u002fdR46SYWQH0\\u002fNV66SQBACtejcD0KGkDHSzeJQeAwQMuhRbbzfR1A8tJNYhAYNEBGtvP91HgmQA==\"},\"y\":{\"dtype\":\"f8\",\"bdata\":\"+n5qvHQTH0BmZmZmZmYeQJ7vp8ZLNx5AYOXQItv5HUDByqFFtvMdQOxRuB6F6x1ArBxaZDtfHUDufD81XjodQOkmMQisHB1AlkOLbOf7HEC28\\u002f3UeOkcQF66SQwCqxxAdZMYBFaOHEBcj8L1KFwcQJ7vp8ZLNxxAL90kBoEVHEBxPQrXo\\u002fAbQP7UeOkmsRtAxSCwcmiRG0DNzMzMzEwbQIGVQ4ts5xpA4XoUrkdhGkCR7Xw\\u002fNV4aQC2yne+nxhlAWDm0yHa+GUAAAAAAAIAZQOXQItv5fhlA0SLb+X5qGUBiEFg5tEgZQDMzMzMzMxlAeekmMQgsGUA\\u002fNV66SQwZQFCNl24SAxlAMQisHFrkGEDufD81XroYQBkEVg4tshhAf2q8dJOYGEAAAAAAAIAYQEa28\\u002f3UeBhAZmZmZmZmGEDy0k1iEFgYQEjhehSuRxhAyXa+nxovGEDpJjEIrBwYQNV46SYxCBhAw\\u002fUoXI\\u002fCF0DfT42XbpIXQI\\u002fC9ShcjxdAWmQ730+NF0AlBoGVQ4sXQHE9CtejcBdAI9v5fmo8F0AEVg4tsh0XQNV46SYxCBdARrbz\\u002fdT4FkB9PzVeuskWQBKDwMqhxRZA6SYxCKycFkCgGi\\u002fdJIYWQLbz\\u002fdR4aRZABFYOLbIdFkBkO99PjRcWQO58PzVeuhVAMzMzMzOzFUAlBoGVQ4sVQEJg5dAiWxVAmG4Sg8BKFUDZzvdT4yUVQKRwPQrXIxVAf2q8dJMYFUCPwvUoXA8VQKJFtvP91BRAfT81XrrJFED4U+Olm8QUQN0kBoGVwxRAhxbZzvdTFEAlBoGVQwsUQDm0yHa+nxNA1XjpJjGIE0AX2c73U+MSQMdLN4lB4BJAzczMzMzMEkDTTWIQWLkSQHnpJjEIrBJAUI2XbhKDEkAMAiuHFlkSQCPb+X5qPBJAiUFg5dAiEkD6fmq8dBMSQPCnxks3CRJA9ihcj8L1EUDy0k1iENgRQI\\u002fC9ShcjxFAEFg5tMh2EUBxPQrXo3ARQIcW2c73UxFAqMZLN4nBEEAhsHJokW0QQNejcD0KVxBAj8L1KFwPEEDRItv5fmoOQOf7qfHSTQ1AgZVDi2znC0B56SYxCKwKQA==\"},\"type\":\"scatter\"},{\"customdata\":{\"dtype\":\"i2\",\"bdata\":\"AQACAAMABAAFAAYABwAIAAkACgALAAwADQAOAA8AEAARABIAEwAUABUAFwAYABkAGwAcAB0AHgAfACAAIQAiACMAJAAlACYAKAApACsALAAtAC4ALwAwADEAMgAzADQANQA2ADcAOAA5ADoAOwA8AD0APgA\\u002fAEAAQwBEAEUARgBHAEgASQBKAEwATQBOAE8ATwBRAFIAUwBUAFUAVgBXAFgAWQBaAFsAXABdAF4AXwBhAGIAYwBkAGUAZgBnAGgAaQBqAGsAbQBuAHAAcQByAHMAdAB1AHYAdwB4AHoAewB8AH4AfwCBAIIAhAA=\"},\"hovertemplate\":\"Country: %{text}\\u003cbr\\u003eRank: %{customdata} out of 133\\u003cbr\\u003eEducation Expenditure: %{x:.2f}% of GDP\\u003cbr\\u003eHappiness: %{y:.2f}\\u003cextra\\u003e\\u003c\\u002fextra\\u003e\",\"mode\":\"markers\",\"name\":\"Education Expenditure\",\"text\":[\"Finland\",\"Denmark\",\"Norway\",\"Iceland\",\"Netherlands\",\"Switzerland\",\"Sweden\",\"New Zealand\",\"Canada\",\"Austria\",\"Australia\",\"Costa Rica\",\"Israel\",\"Luxembourg\",\"United Kingdom\",\"Ireland\",\"Germany\",\"Belgium\",\"United States\",\"United Arab Emirates\",\"Malta\",\"France\",\"Chile\",\"Guatemala\",\"Qatar\",\"Spain\",\"Panama\",\"Brazil\",\"Uruguay\",\"Singapore\",\"El Salvador\",\"Italy\",\"Bahrain\",\"Poland\",\"Uzbekistan\",\"Lithuania\",\"Slovenia\",\"Nicaragua\",\"Argentina\",\"Romania\",\"Cyprus\",\"Ecuador\",\"Kuwait\",\"Thailand\",\"Latvia\",\"Estonia\",\"Jamaica\",\"Mauritius\",\"Japan\",\"Honduras\",\"Kazakhstan\",\"Bolivia\",\"Hungary\",\"Paraguay\",\"Peru\",\"Portugal\",\"Pakistan\",\"Philippines\",\"Serbia\",\"Moldova\",\"Tajikistan\",\"Croatia\",\"Dominican Republic\",\"Bosnia and Herzegovina\",\"Malaysia\",\"Belarus\",\"Greece\",\"Mongolia\",\"Nigeria\",\"Turkmenistan\",\"Algeria\",\"Morocco\",\"Azerbaijan\",\"Lebanon\",\"Indonesia\",\"China\",\"Bhutan\",\"Cameroon\",\"Bulgaria\",\"Ghana\",\"Nepal\",\"Jordan\",\"Benin\",\"Gabon\",\"South Africa\",\"Albania\",\"Cambodia\",\"Senegal\",\"Namibia\",\"Niger\",\"Burkina Faso\",\"Armenia\",\"Guinea\",\"Georgia\",\"Kenya\",\"Mauritania\",\"Mozambique\",\"Tunisia\",\"Bangladesh\",\"Mali\",\"Sierra Leone\",\"Myanmar\",\"Chad\",\"Ukraine\",\"Ethiopia\",\"Uganda\",\"Zambia\",\"Togo\",\"India\",\"Liberia\",\"Madagascar\",\"Lesotho\",\"Burundi\",\"Haiti\",\"Botswana\",\"Rwanda\",\"Tanzania\",\"Central African Republic\"],\"visible\":false,\"x\":{\"dtype\":\"f8\",\"bdata\":\"AgAAAPWqGUABAADgKwUdQP\\u002f\\u002f\\u002fz9PdR9AAAAAILtnHkAFAABgsqMUQPz\\u002f\\u002fz+8DhRAAQAAoNWNHkD7\\u002f\\u002f9fQLYUQP7\\u002f\\u002f\\u002f96FxNAAwAAYATfFED7\\u002f\\u002f9\\u002fywgWQAIAAEDL8xpAAwAAIHcqGED5\\u002f\\u002f+feOMNQAUAAIBtCxVABwAAYI5eCkD8\\u002f\\u002f\\u002ffSnYUQPz\\u002f\\u002fz\\u002f8VRlABAAAAHPUE0D4\\u002f\\u002f+\\u002fteEOQP\\u002f\\u002f\\u002fz\\u002fvmBNA\\u002fP\\u002f\\u002fv+9qFUD8\\u002f\\u002f9fV4EWQAYAAOAziwlAAQAAQCRuBkACAADAvusQQAUAAAARvwhABAAA4JfaF0D7\\u002f\\u002f9\\u002fa4MSQPr\\u002f\\u002f18J1gVACgAAIM0YC0D+\\u002f\\u002f9\\u002fjmEQQAYAAICrEwNABAAAABq3EkABAABgby4ZQPn\\u002f\\u002f\\u002f95tg9AAQAAQO2QE0AAAABgUWYSQAQAAGArFhNA\\u002f\\u002f\\u002f\\u002fHx2JDED7\\u002f\\u002f\\u002ffs9kUQP3\\u002f\\u002f7+t+xBABQAAgF3pGkAAAACgfi0IQPr\\u002f\\u002f99MvhFA+\\u002f\\u002f\\u002ff6sKFUD+\\u002f\\u002f8\\u002fkacUQAIAAAD1KhJAAQAA4CI+CUD9\\u002f\\u002f+\\u002f1roXQAQAAECg1ApA\\u002fv\\u002f\\u002fv5wuIEABAAAAR+YQQPr\\u002f\\u002fx8s6wtA\\u002fv\\u002f\\u002fH1aUDkD9\\u002f\\u002f\\u002f\\u002fI4USQP3\\u002f\\u002f78muAFA\\u002fv\\u002f\\u002fP4hCC0D4\\u002f\\u002f\\u002ffh+4MQAQAAEAw5xhA\\u002fv\\u002f\\u002fH+bvFUD2\\u002f\\u002f\\u002ffUlwPQP3\\u002f\\u002f5\\u002fLKxBAAAAAYJEtEED9\\u002f\\u002f\\u002ffGNYPQAEAAGD\\u002f6hNA9f\\u002f\\u002f32SwDED7\\u002f\\u002f+fDTgNQAEAAOBR8dY\\u002fAQAA4OL2CEACAACgLE0WQAMAAMBVAxRA+\\u002f\\u002f\\u002f32NpCUAGAAAAWM0EQAQAAIBb3O4\\u002f\\u002f\\u002f\\u002f\\u002f\\u002f9E8EEAEAABAEAoSQPj\\u002f\\u002f\\u002f8SYQhA\\u002fv\\u002f\\u002ff87LEEADAABgfTkJQAIAAKCs4gtABAAAAGPoB0D5\\u002f\\u002f9fu7gHQP7\\u002f\\u002fx+W\\u002fgZA+\\u002f\\u002f\\u002fP3WlF0D2\\u002f\\u002f+fdVQPQAMAAODwmgZA\\u002f\\u002f\\u002f\\u002f3x0kFEABAADgIqUiQAYAAKC2NQxAAgAAgOigFUD9\\u002f\\u002f+\\u002fRpMEQPn\\u002f\\u002f3\\u002fmuv0\\u002f+\\u002f\\u002f\\u002fn42jDkAEAADgjn4VQOz\\u002f\\u002f7++K\\u002f0\\u002fBQAAgEQlGUD\\u002f\\u002f\\u002f\\u002ff5rEYQPf\\u002f\\u002fx\\u002f35vo\\u002f9v\\u002f\\u002f\\u002f71wDEAFAACAvckdQO3\\u002f\\u002f18E\\u002f\\u002f8\\u002fAgAAQMv6AkD\\u002f\\u002f\\u002f8f5MMVQP\\u002f\\u002f\\u002f\\u002f9o7BFAAQAA4Ft3AkADAAAgR6wRQAEAACCCzhBABgAAALgtD0AEAACAFlIBQAsAAABpGwhABAAAALrGHED+\\u002f\\u002f8\\u002fAWMVQAUAAECOJvw\\u002f\\u002fv\\u002f\\u002fP0nMIEALAABg0egJQAEAACBSxgxABQAAQGdJ\\u002fD8=\"},\"y\":{\"dtype\":\"f8\",\"bdata\":\"+n5qvHQTH0BmZmZmZmYeQJ7vp8ZLNx5AYOXQItv5HUDByqFFtvMdQOxRuB6F6x1ArBxaZDtfHUDufD81XjodQOkmMQisHB1AlkOLbOf7HEC28\\u002f3UeOkcQF66SQwCqxxAdZMYBFaOHEBcj8L1KFwcQJ7vp8ZLNxxAL90kBoEVHEBxPQrXo\\u002fAbQP7UeOkmsRtAxSCwcmiRG0DNzMzMzEwbQIGVQ4ts5xpAke18PzVeGkAtsp3vp8YZQFg5tMh2vhlA5dAi2\\u002fl+GUDRItv5fmoZQGIQWDm0SBlAMzMzMzMzGUB56SYxCCwZQD81XrpJDBlAUI2XbhIDGUAxCKwcWuQYQLKd76fGyxhA7nw\\u002fNV66GEAZBFYOLbIYQH9qvHSTmBhARrbz\\u002fdR4GEDsUbgehWsYQPLSTWIQWBhASOF6FK5HGEDJdr6fGi8YQOkmMQisHBhAL90kBoEVGEDVeOkmMQgYQMP1KFyPwhdA30+Nl26SF0CPwvUoXI8XQFpkO99PjRdAJQaBlUOLF0BxPQrXo3AXQCPb+X5qPBdABFYOLbIdF0DVeOkmMQgXQEa28\\u002f3U+BZAfT81XrrJFkASg8DKocUWQOkmMQisnBZAoBov3SSGFkC28\\u002f3UeGkWQARWDi2yHRZAke18PzXeFUDufD81XroVQDMzMzMzsxVAJQaBlUOLFUBCYOXQIlsVQJhuEoPAShVA2c73U+MlFUCkcD0K1yMVQI\\u002fC9ShcDxVAsHJoke38FEDy0k1iENgUQKJFtvP91BRAokW28\\u002f3UFEB9PzVeuskUQPhT46WbxBRA3SQGgZXDFECHFtnO91MUQJMYBFYOLRRAJQaBlUMLFECWQ4ts5\\u002fsTQPT91HjpphNAObTIdr6fE0DVeOkmMYgTQBkEVg4tMhNAF9nO91PjEkDHSzeJQeASQM3MzMzMzBJA001iEFi5EkB1kxgEVo4SQFCNl24SgxJADAIrhxZZEkAj2\\u002fl+ajwSQIlBYOXQIhJA+n5qvHQTEkDwp8ZLNwkSQPYoXI\\u002fC9RFAd76fGi\\u002fdEUDy0k1iENgRQG3n+6nx0hFAj8L1KFyPEUDl0CLb+X4RQHE9CtejcBFAZmZmZmZmEUCHFtnO91MRQL6fGi\\u002fdJBFAqMZLN4nBEEAhsHJokW0QQNejcD0KVxBAj8L1KFwPEEDNzMzMzMwPQBBYObTIdg9A0SLb+X5qDkAzMzMzMzMOQC2yne+nxgxAgZVDi2znC0B56SYxCKwKQAwCK4cW2QlARIts5\\u002fupCEA=\"},\"type\":\"scatter\"},{\"hoverinfo\":\"skip\",\"line\":{\"color\":\"blue\",\"dash\":\"dash\"},\"mode\":\"lines\",\"name\":\"Trend Line\",\"visible\":true,\"x\":{\"dtype\":\"f8\",\"bdata\":\"SOF6FK6HP0BoQIIGJAhAQCwQxwJxTEBA8d8L\\u002f72QQEC1r1D7CtVAQHl\\u002flfdXGUFAPk\\u002fa86RdQUACHx\\u002fw8aFBQMbuY+w+5kFAir6o6IsqQkBOju3k2G5CQBNeMuEls0JA1y133XL3QkCb\\u002fbvZvztDQGDNANYMgENAJJ1F0lnEQ0DobIrOpghEQKw8z8rzTERAcAwUx0CRREA13FjDjdVEQPmrnb\\u002faGUVAvXviuydeRUCCSye4dKJFQEYbbLTB5kVACuuwsA4rRkDOuvWsW29GQJKKOqmos0ZAV1p\\u002fpfX3RkAbKsShQjxHQN\\u002f5CJ6PgEdApMlNmtzER0BomZKWKQlIQCxp15J2TUhA8Dgcj8ORSEC0CGGLENZIQHnYpYddGklAPajqg6peSUABeC+A96JJQMZHdHxE50lAihe5eJErSkBO5\\u002f103m9KQBK3QnErtEpA1oaHbXj4SkCbVsxpxTxLQF8mEWYSgUtAI\\u002fZVYl\\u002fFS0DoxZperAlMQKyV31r5TUxAcGUkV0aSTEA0NWlTk9ZMQPgErk\\u002fgGk1AvdTySy1fTUCBpDdIeqNNQEV0fETH501ACkTBQBQsTkDOEwY9YXBOQJLjSjmutE5AVrOPNfv4TkAag9QxSD1PQN9SGS6VgU9AoyJeKuLFT0A0eVGTFwVQQBbhcxE+J1BA+EiWj2RJUEDasLgNi2tQQLwY24uxjVBAnoD9CdivUECA6B+I\\u002ftFQQGJQQgYl9FBARLhkhEsWUUAnIIcCcjhRQAmIqYCYWlFA6+\\u002fL\\u002fr58UUDNV+585Z5RQK+\\u002fEPsLwVFAkiczeTLjUUB0j1X3WAVSQFb3d3V\\u002fJ1JAOF+a86VJUkAax7xxzGtSQPwu3+\\u002fyjVJA3pYBbhmwUkDA\\u002fiPsP9JSQKJmRmpm9FJAhM5o6IwWU0BmNotmszhTQEmereTZWlNAKwbQYgB9U0ANbvLgJp9TQO\\u002fVFF9NwVNA0T033XPjU0C0pVlbmgVUQJYNfNnAJ1RAeHWeV+dJVEBa3cDVDWxUQDxF41M0jlRAHq0F0lqwVEAAFShQgdJUQOJ8Ss6n9FRAxORsTM4WVUA=\"},\"y\":{\"dtype\":\"f8\",\"bdata\":\"+4cieck39D87f\\u002fF7Jxb1P3t2wH6F9PU\\u002fv22PgePS9j\\u002f\\u002fZF6EQbH3Pz9cLYefj\\u002fg\\u002fg1P8if1t+T\\u002fDSsuMW0z6PwNCmo+5Kvs\\u002fQzlpkhcJ\\u002fD+DMDiVdef8P8cnB5jTxf0\\u002fBx\\u002fWmjGk\\u002fj9HFqWdj4L\\u002fP8QGOtB2MABAZIKh0aWfAEAE\\u002fgjT1A4BQKR5cNQDfgFARPXX1TLtAUDmcD\\u002fXYVwCQIbsptiQywJAJmgO2r86A0DI43Xb7qkDQGhf3dwdGQRACNtE3kyIBECoVqzfe\\u002fcEQEjSE+GqZgVA6k174tnVBUCKyeLjCEUGQCpFSuU3tAZAysCx5mYjB0BqPBnolZIHQAq4gOnEAQhAqjPo6vNwCEBKr0\\u002fsIuAIQOwqt+1RTwlAjKYe74C+CUAsIobwry0KQM6d7fHenApAbhlV8w0MC0AOlbz0PHsLQK4QJPZr6gtAToyL95pZDEDwB\\u002fP4ycgMQJCDWvr4Nw1AMP\\u002fB+yenDUDSein9VhYOQHL2kP6FhQ5AEnL4\\u002f7T0DkCy7V8B5GMPQFJpxwIT0w9AenIXAiEhEEBKMMuCuFgQQBrufgNQkBBA66syhOfHEEC7aeYEf\\u002f8QQIsnmoUWNxFAW+VNBq5uEUArowGHRaYRQPtgtQfd3RFAyx5piHQVEkCc3BwJDE0SQGya0ImjhBJAPFiECju8EkAMFjiL0vMSQNzT6wtqKxNArJGfjAFjE0B8T1MNmZoTQEwNB44w0hNAHMu6DsgJFEDuiG6PX0EUQL5GIhD3eBRAjgTWkI6wFEBewokRJugUQC6APZK9HxVAAD7xElVXFUDQ+6ST7I4VQKC5WBSExhVAcHcMlRv+FUBANcAVszUWQBDzc5ZKbRZA4LAnF+KkFkCwbtuXedwWQIAsjxgRFBdAUOpCmahLF0AgqPYZQIMXQPFlqprXuhdAwSNeG2\\u002fyF0CR4RGcBioYQGKfxRyeYRhAMl15nTWZGEACGy0ezdAYQNLY4J5kCBlAopaUH\\u002fw\\u002fGUByVEigk3cZQEIS\\u002fCArrxlAEtCvocLmGUDijWMiWh4aQLJLF6PxVRpAhAnLI4mNGkA=\"},\"type\":\"scatter\"},{\"hoverinfo\":\"skip\",\"line\":{\"color\":\"blue\",\"dash\":\"dash\"},\"mode\":\"lines\",\"name\":\"Trend Line\",\"visible\":false,\"x\":{\"dtype\":\"f8\",\"bdata\":\"mpmZmZmZuT\\u002fwK2wlKb3YP734OPL1ieU\\u002fgtu7UVe17j8kX59YXPDzP4bQYAgNhvg\\u002f6UEiuL0b\\u002fT+m2fEzt9gAQFeS0ouPIwNACEuz42duBUC5A5Q7QLkHQGu8dJMYBApAHHVV6\\u002fBODEDNLTZDyZkOQD9zi81QchBAl897+byXEUDwK2wlKb0SQEmIXFGV4hNAoeRMfQEIFUD6QD2pbS0WQFKdLdXZUhdAq\\u002fkdAUZ4GEAEVg4tsp0ZQFyy\\u002flgewxpAtQ7vhIroG0AOa9+w9g0dQGbHz9xiMx5AvyPACM9YH0AMQFiaHT8gQDhuULDT0SBAZJxIxolkIUCRykDcP\\u002fchQL34OPL1iSJA6SYxCKwcI0AWVSkeYq8jQEKDITQYQiRAbrEZSs7UJECb3xFghGclQMcNCnY6+iVA8zsCjPCMJkAfavqhph8nQEyY8rdcsidAeMbqzRJFKECk9OLjyNcoQNEi2\\u002fl+ailA\\u002fVDTDzX9KUApf8sl648qQFatwzuhIitAgtu7UVe1K0CuCbRnDUgsQNs3rH3D2ixAB2akk3ltLUAzlJypLwAuQGDClL\\u002flki5AjPCM1ZslL0C4HoXrUbgvQHOmvgCEJTBAib26C99uMECf1LYWOrgwQLXrsiGVATFAywKvLPBKMUDiGas3S5QxQPgwp0Km3TFADkijTQEnMkAkX59YXHAyQDp2m2O3uTJAUI2XbhIDM0BmpJN5bUwzQH27j4TIlTNAk9KLjyPfM0Cp6Yeafig0QL8AhKXZcTRA1ReAsDS7NEDrLny7jwQ1QAJGeMbqTTVAGF100UWXNUAudHDcoOA1QESLbOf7KTZAWqJo8lZzNkBwuWT9sbw2QIbQYAgNBjdAnedcE2hPN0Cz\\u002flgew5g3QMkVVSke4jdA3yxRNHkrOED1Q00\\u002f1HQ4QAtbSUovvjhAInJFVYoHOUA4iUFg5VA5QE6gPWtAmjlAZLc5dpvjOUB6zjWB9iw6QJDlMYxRdjpAp\\u002fwtl6y\\u002fOkC9EyqiBwk7QNMqJq1iUjtA6UEiuL2bO0D\\u002fWB7DGOU7QBVwGs5zLjxAK4cW2c53PEA=\"},\"y\":{\"dtype\":\"f8\",\"bdata\":\"h0JFZB9GGEB9D5dWbzcYQHPc6Ei\\u002fKBhAaak6Ow8aGEBfdowtXwsYQFVD3h+v\\u002fBdASxAwEv\\u002ftF0BB3YEET98XQDeq0\\u002fae0BdALXcl6e7BF0AjRHfbPrMXQBoRyc2OpBdAEN4awN6VF0AGq2yyLocXQPx3vqR+eBdA8kQQl85pF0DoEWKJHlsXQN7es3tuTBdA1KsFbr49F0DKeFdgDi8XQMBFqVJeIBdAthL7RK4RF0Cs30w3\\u002fgIXQKKsnilO9BZAmHnwG57lFkCORkIO7tYWQIQTlAA+yBZAeuDl8o25FkBwrTfl3aoWQGZ6idctnBZAXEfbyX2NFkBSFC28zX4WQEjhfq4dcBZAP67QoG1hFkA0eyKTvVIWQCtIdIUNRBZAIRXGd101FkAX4hdqrSYWQA2vaVz9FxZAA3y7Tk0JFkD5SA1BnfoVQO8VXzPt6xVA5eKwJT3dFUDbrwIYjc4VQNF8VArdvxVAx0mm\\u002fCyxFUC9FvjufKIVQLPjSeHMkxVAqbCb0xyFFUCffe3FbHYVQJVKP7i8ZxVAixeRqgxZFUCB5OKcXEoVQHexNI+sOxVAbn6GgfwsFUBkS9hzTB4VQFkYKmacDxVAUOV7WOwAFUBGss1KPPIUQDx\\u002fHz2M4xRAMkxxL9zUFEAoGcMhLMYUQB7mFBR8txRAFLNmBsyoFEAKgLj4G5oUQABNCutrixRA9hlc3bt8FEDs5q3PC24UQOKz\\u002f8FbXxRA2IBRtKtQFEDOTaOm+0EUQMQa9ZhLMxRAuudGi5skFECwtJh96xUUQKaB6m87BxRAnE48Yov4E0CSG45U2+kTQIjo30Yr2xNAfrUxOXvME0B0goMry70TQGtP1R0brxNAYBwnEGugE0BW6XgCu5ETQE22yvQKgxNAQ4Mc51p0E0A5UG7ZqmUTQC8dwMv6VhNAJeoRvkpIE0Abt2OwmjkTQBGEtaLqKhNAB1EHlTocE0D9HVmHig0TQPPqqnna\\u002fhJA6bf8ayrwEkDfhE5eeuESQNVRoFDK0hJAyx7yQhrEEkDB60M1arUSQLi4lSe6phJAroXnGQqYEkA=\"},\"type\":\"scatter\"},{\"hoverinfo\":\"skip\",\"line\":{\"color\":\"blue\",\"dash\":\"dash\"},\"mode\":\"lines\",\"name\":\"Trend Line\",\"visible\":false,\"x\":{\"dtype\":\"f8\",\"bdata\":\"AQAA4FHx1j+q9StF07zcP6n1K1UqROE\\u002ffvDBB+sp5D9S61e6qw\\u002fnPybm7Wxs9ek\\u002f+uCDHy3b7D\\u002fO2xnS7cDvP1HrV0JXU\\u002fE\\u002fu+iimzfG8j8l5u30Fzn0P5DjOE74q\\u002fU\\u002f+uCDp9ge9z9k3s4AuZH4P87bGVqZBPo\\u002fONlks3l3+z+i1q8MWur8PwzU+mU6Xf4\\u002fdtFFvxrQ\\u002fz9wZ0iMfaEAQCXm7bjtWgFA22ST5V0UAkCQ4zgSzs0CQERi3j4+hwNA+uCDa65ABECvXymYHvoEQGTezsSOswVAGV108f5sBkDO2xkebyYHQINav0rf3wdAONlkd0+ZCEDtVwqkv1IJQKLWr9AvDApAV1VV\\u002fZ\\u002fFCkAM1PopEH8LQMFSoFaAOAxAdtFFg\\u002fDxDEArUOuvYKsNQODOkNzQZA5AlU02CUEeD0BKzNs1sdcPQIClQLGQSBBA22STx0ilEEA1JObdAAIRQJDjOPS4XhFA6qKLCnG7EUBEYt4gKRgSQJ8hMTfhdBJA+uCDTZnREkBUoNZjUS4TQK9fKXoJixNACR98kMHnE0Bk3s6meUQUQL6dIb0xoRRAGV100+n9FEBzHMfpoVoVQM7bGQBatxVAKJtsFhIUFkCDWr8synAWQN0ZEkOCzRZAONlkWToqF0CSmLdv8oYXQO1XCoaq4xdARxddnGJAGECi1q+yGp0YQP2VAsnS+RhAV1VV34pWGUCyFKj1QrMZQAzU+gv7DxpAZ5NNIrNsGkDBUqA4a8kaQBwS804jJhtAdtFFZduCG0DRkJh7k98bQCtQ65FLPBxAhg8+qAOZHEDgzpC+u\\u002fUcQDuO49RzUh1AlU026yuvHUDwDIkB5AseQErM2xecaB5ApYsuLlTFHkAAS4FEDCIfQFoK1FrEfh9AtckmcXzbH0CIxLxDGhwgQDUk5k52SiBA4oMPWtJ4IECQ4zhlLqcgQD1DYnCK1SBA6qKLe+YDIUCXArWGQjIhQERi3pGeYCFA8sEHnfqOIUCfITGoVr0hQEyBWrOy6yFA+uCDvg4aIkCnQK3JakgiQFSg1tTGdiJAAQAA4CKlIkA=\"},\"y\":{\"dtype\":\"f8\",\"bdata\":\"iahlf2u2EkDr7UpGdcoSQE4zMA1\\u002f3hJAsHgV1IjyEkATvvqakgYTQHYD4GGcGhNA2EjFKKYuE0A7jqrvr0ITQJ3Tj7a5VhNAABl1fcNqE0BiXlpEzX4TQMWjPwvXkhNAKOkk0uCmE0CKLgqZ6roTQO1z71\\u002f0zhNAT7nUJv7iE0Cy\\u002frntB\\u002fcTQBREn7QRCxRAd4mEexsfFEDazmlCJTMUQDwUTwkvRxRAn1k00DhbFEABnxmXQm8UQGTk\\u002fl1MgxRAxinkJFaXFEApb8nrX6sUQIy0rrJpvxRA7vmTeXPTFEBRP3lAfecUQLOEXgeH+xRAFspDzpAPFUB4DymVmiMVQNtUDlykNxVAPZrzIq5LFUCg39jpt18VQAIlvrDBcxVAZWqjd8uHFUDIr4g+1ZsVQCr1bQXfrxVAjTpTzOjDFUDvfziT8tcVQFLFHVr86xVAtQoDIQYAFkAXUOjnDxQWQHqVza4ZKBZA3NqydSM8FkA\\u002fIJg8LVAWQKFlfQM3ZBZABKtiykB4FkBm8EeRSowWQMk1LVhUoBZALHsSH160FkCOwPflZ8gWQPEF3axx3BZAU0vCc3vwFkC2kKc6hQQXQBjWjAGPGBdAextyyJgsF0DeYFePokAXQECmPFasVBdAo+shHbZoF0AFMQfkv3wXQGh27KrJkBdAyrvRcdOkF0AtAbc43bgXQJBGnP\\u002fmzBdA8ouBxvDgF0BV0WaN+vQXQLcWTFQECRhAGlwxGw4dGEB8oRbiFzEYQN\\u002fm+6ghRRhAQSzhbytZGECkccY2NW0YQAa3q\\u002f0+gRhAafyQxEiVGEDMQXaLUqkYQC6HW1JcvRhAkcxAGWbRGEDzESbgb+UYQFZXC6d5+RhAuJzwbYMNGUAb4tU0jSEZQH4nu\\u002fuWNRlA4GygwqBJGUBDsoWJql0ZQKb3alC0cRlACD1QF76FGUBrgjXex5kZQM3HGqXRrRlAMA0AbNvBGUCSUuUy5dUZQPSXyvnu6RlAWN2vwPj9GUC6IpWHAhIaQBxoek4MJhpAf61fFRY6GkDi8kTcH04aQEQ4KqMpYhpApn0PajN2GkA=\"},\"type\":\"scatter\"}],                        {\"autosize\":false,\"height\":600,\"hoverlabel\":{\"font\":{\"size\":12}},\"legend\":{\"borderwidth\":0,\"font\":{\"size\":12},\"x\":0.01,\"y\":0.99},\"margin\":{\"b\":80,\"l\":80,\"r\":80,\"t\":80},\"showlegend\":true,\"sliders\":[{\"active\":0,\"currentvalue\":{\"prefix\":\"Metric: \"},\"len\":0.9,\"pad\":{\"t\":50},\"steps\":[{\"args\":[{\"visible\":[true,false,false,true,false,false]},{\"title\":\"Happiness vs Life Expectancy\",\"xaxis\":{\"title\":\"Life Expectancy (years)\",\"range\":[31.53,84.3563414634146],\"fixedrange\":true},\"yaxis\":{\"title\":\"Happiness\",\"range\":[2.853,7.769],\"fixedrange\":true}}],\"label\":\"Life Expectancy\",\"method\":\"update\"},{\"args\":[{\"visible\":[false,true,false,false,true,false]},{\"title\":\"Happiness vs Unemployment Rate\",\"xaxis\":{\"title\":\"Unemployment Rate (%)\",\"range\":[0.1,28.468],\"fixedrange\":true},\"yaxis\":{\"title\":\"Happiness\",\"range\":[2.853,7.769],\"fixedrange\":true}}],\"label\":\"Unemployment Rate\",\"method\":\"update\"},{\"args\":[{\"visible\":[false,false,true,false,false,true]},{\"title\":\"Happiness vs Education Expenditure\",\"xaxis\":{\"title\":\"Education Expenditure (% of GDP)\",\"range\":[0.358478993177414,9.32253170013428],\"fixedrange\":true},\"yaxis\":{\"title\":\"Happiness\",\"range\":[2.853,7.769],\"fixedrange\":true}}],\"label\":\"Education Expenditure\",\"method\":\"update\"}],\"x\":0.1,\"xanchor\":\"left\"}],\"template\":{\"data\":{\"barpolar\":[{\"marker\":{\"line\":{\"color\":\"#E5ECF6\",\"width\":0.5},\"pattern\":{\"fillmode\":\"overlay\",\"size\":10,\"solidity\":0.2}},\"type\":\"barpolar\"}],\"bar\":[{\"error_x\":{\"color\":\"#2a3f5f\"},\"error_y\":{\"color\":\"#2a3f5f\"},\"marker\":{\"line\":{\"color\":\"#E5ECF6\",\"width\":0.5},\"pattern\":{\"fillmode\":\"overlay\",\"size\":10,\"solidity\":0.2}},\"type\":\"bar\"}],\"carpet\":[{\"aaxis\":{\"endlinecolor\":\"#2a3f5f\",\"gridcolor\":\"white\",\"linecolor\":\"white\",\"minorgridcolor\":\"white\",\"startlinecolor\":\"#2a3f5f\"},\"baxis\":{\"endlinecolor\":\"#2a3f5f\",\"gridcolor\":\"white\",\"linecolor\":\"white\",\"minorgridcolor\":\"white\",\"startlinecolor\":\"#2a3f5f\"},\"type\":\"carpet\"}],\"choropleth\":[{\"colorbar\":{\"outlinewidth\":0,\"ticks\":\"\"},\"type\":\"choropleth\"}],\"contourcarpet\":[{\"colorbar\":{\"outlinewidth\":0,\"ticks\":\"\"},\"type\":\"contourcarpet\"}],\"contour\":[{\"colorbar\":{\"outlinewidth\":0,\"ticks\":\"\"},\"colorscale\":[[0.0,\"#0d0887\"],[0.1111111111111111,\"#46039f\"],[0.2222222222222222,\"#7201a8\"],[0.3333333333333333,\"#9c179e\"],[0.4444444444444444,\"#bd3786\"],[0.5555555555555556,\"#d8576b\"],[0.6666666666666666,\"#ed7953\"],[0.7777777777777778,\"#fb9f3a\"],[0.8888888888888888,\"#fdca26\"],[1.0,\"#f0f921\"]],\"type\":\"contour\"}],\"heatmap\":[{\"colorbar\":{\"outlinewidth\":0,\"ticks\":\"\"},\"colorscale\":[[0.0,\"#0d0887\"],[0.1111111111111111,\"#46039f\"],[0.2222222222222222,\"#7201a8\"],[0.3333333333333333,\"#9c179e\"],[0.4444444444444444,\"#bd3786\"],[0.5555555555555556,\"#d8576b\"],[0.6666666666666666,\"#ed7953\"],[0.7777777777777778,\"#fb9f3a\"],[0.8888888888888888,\"#fdca26\"],[1.0,\"#f0f921\"]],\"type\":\"heatmap\"}],\"histogram2dcontour\":[{\"colorbar\":{\"outlinewidth\":0,\"ticks\":\"\"},\"colorscale\":[[0.0,\"#0d0887\"],[0.1111111111111111,\"#46039f\"],[0.2222222222222222,\"#7201a8\"],[0.3333333333333333,\"#9c179e\"],[0.4444444444444444,\"#bd3786\"],[0.5555555555555556,\"#d8576b\"],[0.6666666666666666,\"#ed7953\"],[0.7777777777777778,\"#fb9f3a\"],[0.8888888888888888,\"#fdca26\"],[1.0,\"#f0f921\"]],\"type\":\"histogram2dcontour\"}],\"histogram2d\":[{\"colorbar\":{\"outlinewidth\":0,\"ticks\":\"\"},\"colorscale\":[[0.0,\"#0d0887\"],[0.1111111111111111,\"#46039f\"],[0.2222222222222222,\"#7201a8\"],[0.3333333333333333,\"#9c179e\"],[0.4444444444444444,\"#bd3786\"],[0.5555555555555556,\"#d8576b\"],[0.6666666666666666,\"#ed7953\"],[0.7777777777777778,\"#fb9f3a\"],[0.8888888888888888,\"#fdca26\"],[1.0,\"#f0f921\"]],\"type\":\"histogram2d\"}],\"histogram\":[{\"marker\":{\"pattern\":{\"fillmode\":\"overlay\",\"size\":10,\"solidity\":0.2}},\"type\":\"histogram\"}],\"mesh3d\":[{\"colorbar\":{\"outlinewidth\":0,\"ticks\":\"\"},\"type\":\"mesh3d\"}],\"parcoords\":[{\"line\":{\"colorbar\":{\"outlinewidth\":0,\"ticks\":\"\"}},\"type\":\"parcoords\"}],\"pie\":[{\"automargin\":true,\"type\":\"pie\"}],\"scatter3d\":[{\"line\":{\"colorbar\":{\"outlinewidth\":0,\"ticks\":\"\"}},\"marker\":{\"colorbar\":{\"outlinewidth\":0,\"ticks\":\"\"}},\"type\":\"scatter3d\"}],\"scattercarpet\":[{\"marker\":{\"colorbar\":{\"outlinewidth\":0,\"ticks\":\"\"}},\"type\":\"scattercarpet\"}],\"scattergeo\":[{\"marker\":{\"colorbar\":{\"outlinewidth\":0,\"ticks\":\"\"}},\"type\":\"scattergeo\"}],\"scattergl\":[{\"marker\":{\"colorbar\":{\"outlinewidth\":0,\"ticks\":\"\"}},\"type\":\"scattergl\"}],\"scattermapbox\":[{\"marker\":{\"colorbar\":{\"outlinewidth\":0,\"ticks\":\"\"}},\"type\":\"scattermapbox\"}],\"scattermap\":[{\"marker\":{\"colorbar\":{\"outlinewidth\":0,\"ticks\":\"\"}},\"type\":\"scattermap\"}],\"scatterpolargl\":[{\"marker\":{\"colorbar\":{\"outlinewidth\":0,\"ticks\":\"\"}},\"type\":\"scatterpolargl\"}],\"scatterpolar\":[{\"marker\":{\"colorbar\":{\"outlinewidth\":0,\"ticks\":\"\"}},\"type\":\"scatterpolar\"}],\"scatter\":[{\"fillpattern\":{\"fillmode\":\"overlay\",\"size\":10,\"solidity\":0.2},\"type\":\"scatter\"}],\"scatterternary\":[{\"marker\":{\"colorbar\":{\"outlinewidth\":0,\"ticks\":\"\"}},\"type\":\"scatterternary\"}],\"surface\":[{\"colorbar\":{\"outlinewidth\":0,\"ticks\":\"\"},\"colorscale\":[[0.0,\"#0d0887\"],[0.1111111111111111,\"#46039f\"],[0.2222222222222222,\"#7201a8\"],[0.3333333333333333,\"#9c179e\"],[0.4444444444444444,\"#bd3786\"],[0.5555555555555556,\"#d8576b\"],[0.6666666666666666,\"#ed7953\"],[0.7777777777777778,\"#fb9f3a\"],[0.8888888888888888,\"#fdca26\"],[1.0,\"#f0f921\"]],\"type\":\"surface\"}],\"table\":[{\"cells\":{\"fill\":{\"color\":\"#EBF0F8\"},\"line\":{\"color\":\"white\"}},\"header\":{\"fill\":{\"color\":\"#C8D4E3\"},\"line\":{\"color\":\"white\"}},\"type\":\"table\"}]},\"layout\":{\"annotationdefaults\":{\"arrowcolor\":\"#2a3f5f\",\"arrowhead\":0,\"arrowwidth\":1},\"autotypenumbers\":\"strict\",\"coloraxis\":{\"colorbar\":{\"outlinewidth\":0,\"ticks\":\"\"}},\"colorscale\":{\"diverging\":[[0,\"#8e0152\"],[0.1,\"#c51b7d\"],[0.2,\"#de77ae\"],[0.3,\"#f1b6da\"],[0.4,\"#fde0ef\"],[0.5,\"#f7f7f7\"],[0.6,\"#e6f5d0\"],[0.7,\"#b8e186\"],[0.8,\"#7fbc41\"],[0.9,\"#4d9221\"],[1,\"#276419\"]],\"sequential\":[[0.0,\"#0d0887\"],[0.1111111111111111,\"#46039f\"],[0.2222222222222222,\"#7201a8\"],[0.3333333333333333,\"#9c179e\"],[0.4444444444444444,\"#bd3786\"],[0.5555555555555556,\"#d8576b\"],[0.6666666666666666,\"#ed7953\"],[0.7777777777777778,\"#fb9f3a\"],[0.8888888888888888,\"#fdca26\"],[1.0,\"#f0f921\"]],\"sequentialminus\":[[0.0,\"#0d0887\"],[0.1111111111111111,\"#46039f\"],[0.2222222222222222,\"#7201a8\"],[0.3333333333333333,\"#9c179e\"],[0.4444444444444444,\"#bd3786\"],[0.5555555555555556,\"#d8576b\"],[0.6666666666666666,\"#ed7953\"],[0.7777777777777778,\"#fb9f3a\"],[0.8888888888888888,\"#fdca26\"],[1.0,\"#f0f921\"]]},\"colorway\":[\"#636efa\",\"#EF553B\",\"#00cc96\",\"#ab63fa\",\"#FFA15A\",\"#19d3f3\",\"#FF6692\",\"#B6E880\",\"#FF97FF\",\"#FECB52\"],\"font\":{\"color\":\"#2a3f5f\"},\"geo\":{\"bgcolor\":\"white\",\"lakecolor\":\"white\",\"landcolor\":\"#E5ECF6\",\"showlakes\":true,\"showland\":true,\"subunitcolor\":\"white\"},\"hoverlabel\":{\"align\":\"left\"},\"hovermode\":\"closest\",\"mapbox\":{\"style\":\"light\"},\"paper_bgcolor\":\"white\",\"plot_bgcolor\":\"#E5ECF6\",\"polar\":{\"angularaxis\":{\"gridcolor\":\"white\",\"linecolor\":\"white\",\"ticks\":\"\"},\"bgcolor\":\"#E5ECF6\",\"radialaxis\":{\"gridcolor\":\"white\",\"linecolor\":\"white\",\"ticks\":\"\"}},\"scene\":{\"xaxis\":{\"backgroundcolor\":\"#E5ECF6\",\"gridcolor\":\"white\",\"gridwidth\":2,\"linecolor\":\"white\",\"showbackground\":true,\"ticks\":\"\",\"zerolinecolor\":\"white\"},\"yaxis\":{\"backgroundcolor\":\"#E5ECF6\",\"gridcolor\":\"white\",\"gridwidth\":2,\"linecolor\":\"white\",\"showbackground\":true,\"ticks\":\"\",\"zerolinecolor\":\"white\"},\"zaxis\":{\"backgroundcolor\":\"#E5ECF6\",\"gridcolor\":\"white\",\"gridwidth\":2,\"linecolor\":\"white\",\"showbackground\":true,\"ticks\":\"\",\"zerolinecolor\":\"white\"}},\"shapedefaults\":{\"line\":{\"color\":\"#2a3f5f\"}},\"ternary\":{\"aaxis\":{\"gridcolor\":\"white\",\"linecolor\":\"white\",\"ticks\":\"\"},\"baxis\":{\"gridcolor\":\"white\",\"linecolor\":\"white\",\"ticks\":\"\"},\"bgcolor\":\"#E5ECF6\",\"caxis\":{\"gridcolor\":\"white\",\"linecolor\":\"white\",\"ticks\":\"\"}},\"title\":{\"x\":0.05},\"xaxis\":{\"automargin\":true,\"gridcolor\":\"white\",\"linecolor\":\"white\",\"ticks\":\"\",\"title\":{\"standoff\":15},\"zerolinecolor\":\"white\",\"zerolinewidth\":2},\"yaxis\":{\"automargin\":true,\"gridcolor\":\"white\",\"linecolor\":\"white\",\"ticks\":\"\",\"title\":{\"standoff\":15},\"zerolinecolor\":\"white\",\"zerolinewidth\":2}}},\"title\":{\"text\":\"Happiness vs Life Expectancy\"},\"width\":900,\"xaxis\":{\"fixedrange\":true,\"range\":[31.53,84.3563414634146],\"tickfont\":{\"size\":12},\"title\":{\"font\":{\"size\":14},\"text\":\"Life Expectancy (years)\"}},\"yaxis\":{\"dtick\":1,\"fixedrange\":true,\"range\":[2.853,7.769],\"tickfont\":{\"size\":12},\"tickmode\":\"linear\",\"title\":{\"font\":{\"size\":14},\"text\":\"Happiness\"}}},                        {\"responsive\": true}                    ).then(function(){\n",
       "                            \n",
       "var gd = document.getElementById('3d7b9cf8-e314-4461-9d93-5518d704ee01');\n",
       "var x = new MutationObserver(function (mutations, observer) {{\n",
       "        var display = window.getComputedStyle(gd).display;\n",
       "        if (!display || display === 'none') {{\n",
       "            console.log([gd, 'removed!']);\n",
       "            Plotly.purge(gd);\n",
       "            observer.disconnect();\n",
       "        }}\n",
       "}});\n",
       "\n",
       "// Listen for the removal of the full notebook cells\n",
       "var notebookContainer = gd.closest('#notebook-container');\n",
       "if (notebookContainer) {{\n",
       "    x.observe(notebookContainer, {childList: true});\n",
       "}}\n",
       "\n",
       "// Listen for the clearing of the current output cell\n",
       "var outputEl = gd.closest('.output');\n",
       "if (outputEl) {{\n",
       "    x.observe(outputEl, {childList: true});\n",
       "}}\n",
       "\n",
       "                        })                };            </script>        </div>"
      ]
     },
     "metadata": {},
     "output_type": "display_data"
    }
   ],
   "source": [
    "import pandas as pd\n",
    "import numpy as np\n",
    "import plotly.graph_objects as go\n",
    "from plotly.offline import init_notebook_mode, iplot\n",
    "\n",
    "init_notebook_mode(connected=True)\n",
    "\n",
    "df = pd.read_csv('final.csv')\n",
    "\n",
    "df['Happiness_rank'] = df['Happiness'].rank(method='min', ascending=False).astype(int)\n",
    "total_countries = df['Country'].nunique()\n",
    "\n",
    "df_life = df.dropna(subset=['Life_expectancy', 'Happiness', 'Country', 'Happiness_rank'])\n",
    "df_unemp = df.dropna(subset=['Unemployment_rate', 'Happiness', 'Country', 'Happiness_rank'])\n",
    "df_edu = df.dropna(subset=['Edu_expenditure_pct', 'Happiness', 'Country', 'Happiness_rank'])\n",
    "\n",
    "x_range_life = [df_life['Life_expectancy'].min(), df_life['Life_expectancy'].max()]\n",
    "x_range_unemp = [df_unemp['Unemployment_rate'].min(), df_unemp['Unemployment_rate'].max()]\n",
    "x_range_edu = [df_edu['Edu_expenditure_pct'].min(), df_edu['Edu_expenditure_pct'].max()]\n",
    "y_range = [df['Happiness'].min(), df['Happiness'].max()]\n",
    "\n",
    "def add_trend_trace(x, y, color, visible=True):\n",
    "    x_vals = x.values\n",
    "    y_vals = y.values\n",
    "    slope, intercept = np.polyfit(x_vals, y_vals, 1)\n",
    "    x_trend = np.linspace(min(x_vals), max(x_vals), 100)\n",
    "    y_trend = slope * x_trend + intercept\n",
    "    return go.Scatter(\n",
    "        x=x_trend,\n",
    "        y=y_trend,\n",
    "        mode='lines',\n",
    "        line=dict(color=color, dash='dash'),\n",
    "        name='Trend Line',\n",
    "        visible=visible,\n",
    "        hoverinfo='skip'\n",
    "    )\n",
    "\n",
    "trace_life = go.Scatter(\n",
    "    x=df_life['Life_expectancy'],\n",
    "    y=df_life['Happiness'],\n",
    "    mode='markers',\n",
    "    name='Life Expectancy',\n",
    "    visible=True,\n",
    "    text=df_life['Country'],\n",
    "    customdata=df_life['Happiness_rank'],\n",
    "    hovertemplate=(\n",
    "        \"Country: %{text}<br>\"\n",
    "        f\"Rank: %{{customdata}} out of {total_countries}<br>\"\n",
    "        \"Life Expectancy: %{x:.1f} years<br>\"\n",
    "        \"Happiness: %{y:.2f}<extra></extra>\"\n",
    "    )\n",
    ")\n",
    "\n",
    "trace_unemp = go.Scatter(\n",
    "    x=df_unemp['Unemployment_rate'],\n",
    "    y=df_unemp['Happiness'],\n",
    "    mode='markers',\n",
    "    name='Unemployment Rate',\n",
    "    visible=False,\n",
    "    text=df_unemp['Country'],\n",
    "    customdata=df_unemp['Happiness_rank'],\n",
    "    hovertemplate=(\n",
    "        \"Country: %{text}<br>\"\n",
    "        f\"Rank: %{{customdata}} out of {total_countries}<br>\"\n",
    "        \"Unemployment Rate: %{x:.1f}%<br>\"\n",
    "        \"Happiness: %{y:.2f}<extra></extra>\"\n",
    "    )\n",
    ")\n",
    "\n",
    "trace_edu = go.Scatter(\n",
    "    x=df_edu['Edu_expenditure_pct'],\n",
    "    y=df_edu['Happiness'],\n",
    "    mode='markers',\n",
    "    name='Education Expenditure',\n",
    "    visible=False,\n",
    "    text=df_edu['Country'],\n",
    "    customdata=df_edu['Happiness_rank'],\n",
    "    hovertemplate=(\n",
    "        \"Country: %{text}<br>\"\n",
    "        f\"Rank: %{{customdata}} out of {total_countries}<br>\"\n",
    "        \"Education Expenditure: %{x:.2f}% of GDP<br>\"\n",
    "        \"Happiness: %{y:.2f}<extra></extra>\"\n",
    "    )\n",
    ")\n",
    "\n",
    "trend_life = add_trend_trace(df_life['Life_expectancy'], df_life['Happiness'], 'blue', True)\n",
    "trend_unemp = add_trend_trace(df_unemp['Unemployment_rate'], df_unemp['Happiness'], 'blue', False)\n",
    "trend_edu = add_trend_trace(df_edu['Edu_expenditure_pct'], df_edu['Happiness'], 'blue', False)\n",
    "\n",
    "fig = go.Figure(data=[\n",
    "    trace_life, trace_unemp, trace_edu,\n",
    "    trend_life, trend_unemp, trend_edu\n",
    "])\n",
    "\n",
    "steps = [\n",
    "    dict(method='update', label='Life Expectancy',\n",
    "         args=[{'visible': [True, False, False, True, False, False]},\n",
    "               {'title': 'Happiness vs Life Expectancy',\n",
    "                'xaxis': {'title': 'Life Expectancy (years)', 'range': x_range_life, 'fixedrange': True},\n",
    "                'yaxis': {'title': 'Happiness', 'range': y_range, 'fixedrange': True}}]),\n",
    "    dict(method='update', label='Unemployment Rate',\n",
    "         args=[{'visible': [False, True, False, False, True, False]},\n",
    "               {'title': 'Happiness vs Unemployment Rate',\n",
    "                'xaxis': {'title': 'Unemployment Rate (%)', 'range': x_range_unemp, 'fixedrange': True},\n",
    "                'yaxis': {'title': 'Happiness', 'range': y_range, 'fixedrange': True}}]),\n",
    "    dict(method='update', label='Education Expenditure',\n",
    "         args=[{'visible': [False, False, True, False, False, True]},\n",
    "               {'title': 'Happiness vs Education Expenditure',\n",
    "                'xaxis': {'title': 'Education Expenditure (% of GDP)', 'range': x_range_edu, 'fixedrange': True},\n",
    "                'yaxis': {'title': 'Happiness', 'range': y_range, 'fixedrange': True}}])\n",
    "]\n",
    "\n",
    "fig.update_layout(\n",
    "    sliders=[dict(\n",
    "        active=0,\n",
    "        currentvalue={'prefix': 'Metric: '},\n",
    "        pad={'t': 50},\n",
    "        steps=steps,\n",
    "        len=0.9,\n",
    "        x=0.1,\n",
    "        xanchor='left'\n",
    "    )],\n",
    "    title=\"Happiness vs Life Expectancy\",\n",
    "    width=800,\n",
    "    height=600,\n",
    "    autosize=False,\n",
    "    margin=dict(t=80, b=80, l=80, r=80),\n",
    "    xaxis=dict(\n",
    "        title=dict(text='Life Expectancy (years)', font=dict(size=14)),\n",
    "        range=x_range_life,\n",
    "        fixedrange=True,\n",
    "        tickfont=dict(size=12)\n",
    "    ),\n",
    "    yaxis=dict(\n",
    "        title=dict(text='Happiness', font=dict(size=14)),\n",
    "        range=y_range,\n",
    "        fixedrange=True,\n",
    "        tickmode='linear',\n",
    "        dtick=1,\n",
    "        tickfont=dict(size=12),\n",
    "    ),\n",
    "    hoverlabel=dict(font=dict(size=12)),\n",
    "    showlegend=True,\n",
    "    legend=dict(\n",
    "        font=dict(size=12),\n",
    "        x=0.01, y=0.99,\n",
    "        borderwidth=0\n",
    "    )\n",
    ")\n",
    "\n",
    "iplot(fig)\n"
   ]
  },
  {
   "cell_type": "markdown",
   "id": "353272be",
   "metadata": {},
   "source": []
  },
  {
   "cell_type": "code",
   "execution_count": null,
   "id": "22749a1f",
   "metadata": {
    "tags": [
     "remove-input"
    ]
   },
   "outputs": [
    {
     "data": {
      "application/vnd.plotly.v1+json": {
       "config": {
        "plotlyServerURL": "https://plot.ly"
       },
       "data": [
        {
         "coloraxis": "coloraxis",
         "geo": "geo",
         "hovertemplate": "<b>%{hovertext}</b><br><br>Country=%{location}<br>Happiness=%{z}<extra></extra>",
         "hovertext": [
          "Finland",
          "Denmark",
          "Norway",
          "Iceland",
          "Netherlands",
          "Switzerland",
          "Sweden",
          "New Zealand",
          "Canada",
          "Austria",
          "Australia",
          "Costa Rica",
          "Israel",
          "Luxembourg",
          "United Kingdom",
          "Ireland",
          "Germany",
          "Belgium",
          "United States",
          "United Arab Emirates",
          "Malta",
          "Mexico",
          "France",
          "Chile",
          "Guatemala",
          "Saudi Arabia",
          "Qatar",
          "Spain",
          "Panama",
          "Brazil",
          "Uruguay",
          "Singapore",
          "El Salvador",
          "Italy",
          "Bahrain",
          "Poland",
          "Uzbekistan",
          "Lithuania",
          "Colombia",
          "Slovenia",
          "Nicaragua",
          "Kosovo",
          "Argentina",
          "Romania",
          "Cyprus",
          "Ecuador",
          "Kuwait",
          "Thailand",
          "Latvia",
          "Estonia",
          "Jamaica",
          "Mauritius",
          "Japan",
          "Honduras",
          "Kazakhstan",
          "Bolivia",
          "Hungary",
          "Paraguay",
          "Peru",
          "Portugal",
          "Pakistan",
          "Philippines",
          "Serbia",
          "Moldova",
          "Libya",
          "Montenegro",
          "Tajikistan",
          "Croatia",
          "Dominican Republic",
          "Bosnia and Herzegovina",
          "Malaysia",
          "Belarus",
          "Greece",
          "Mongolia",
          "North Macedonia",
          "Nigeria",
          "Turkmenistan",
          "Algeria",
          "Morocco",
          "Azerbaijan",
          "Lebanon",
          "Indonesia",
          "China",
          "Bhutan",
          "Cameroon",
          "Bulgaria",
          "Ghana",
          "Nepal",
          "Jordan",
          "Benin",
          "Gabon",
          "South Africa",
          "Albania",
          "Cambodia",
          "Senegal",
          "Somalia",
          "Namibia",
          "Niger",
          "Burkina Faso",
          "Armenia",
          "Guinea",
          "Georgia",
          "Kenya",
          "Mauritania",
          "Mozambique",
          "Tunisia",
          "Bangladesh",
          "Iraq",
          "Mali",
          "Sierra Leone",
          "Sri Lanka",
          "Myanmar",
          "Chad",
          "Ukraine",
          "Ethiopia",
          "Uganda",
          "Zambia",
          "Togo",
          "India",
          "Liberia",
          "Comoros",
          "Madagascar",
          "Lesotho",
          "Burundi",
          "Zimbabwe",
          "Haiti",
          "Botswana",
          "Malawi",
          "Rwanda",
          "Tanzania",
          "Afghanistan",
          "Central African Republic",
          "South Sudan"
         ],
         "locationmode": "country names",
         "locations": [
          "Finland",
          "Denmark",
          "Norway",
          "Iceland",
          "Netherlands",
          "Switzerland",
          "Sweden",
          "New Zealand",
          "Canada",
          "Austria",
          "Australia",
          "Costa Rica",
          "Israel",
          "Luxembourg",
          "United Kingdom",
          "Ireland",
          "Germany",
          "Belgium",
          "United States",
          "United Arab Emirates",
          "Malta",
          "Mexico",
          "France",
          "Chile",
          "Guatemala",
          "Saudi Arabia",
          "Qatar",
          "Spain",
          "Panama",
          "Brazil",
          "Uruguay",
          "Singapore",
          "El Salvador",
          "Italy",
          "Bahrain",
          "Poland",
          "Uzbekistan",
          "Lithuania",
          "Colombia",
          "Slovenia",
          "Nicaragua",
          "Kosovo",
          "Argentina",
          "Romania",
          "Cyprus",
          "Ecuador",
          "Kuwait",
          "Thailand",
          "Latvia",
          "Estonia",
          "Jamaica",
          "Mauritius",
          "Japan",
          "Honduras",
          "Kazakhstan",
          "Bolivia",
          "Hungary",
          "Paraguay",
          "Peru",
          "Portugal",
          "Pakistan",
          "Philippines",
          "Serbia",
          "Moldova",
          "Libya",
          "Montenegro",
          "Tajikistan",
          "Croatia",
          "Dominican Republic",
          "Bosnia and Herzegovina",
          "Malaysia",
          "Belarus",
          "Greece",
          "Mongolia",
          "North Macedonia",
          "Nigeria",
          "Turkmenistan",
          "Algeria",
          "Morocco",
          "Azerbaijan",
          "Lebanon",
          "Indonesia",
          "China",
          "Bhutan",
          "Cameroon",
          "Bulgaria",
          "Ghana",
          "Nepal",
          "Jordan",
          "Benin",
          "Gabon",
          "South Africa",
          "Albania",
          "Cambodia",
          "Senegal",
          "Somalia",
          "Namibia",
          "Niger",
          "Burkina Faso",
          "Armenia",
          "Guinea",
          "Georgia",
          "Kenya",
          "Mauritania",
          "Mozambique",
          "Tunisia",
          "Bangladesh",
          "Iraq",
          "Mali",
          "Sierra Leone",
          "Sri Lanka",
          "Myanmar",
          "Chad",
          "Ukraine",
          "Ethiopia",
          "Uganda",
          "Zambia",
          "Togo",
          "India",
          "Liberia",
          "Comoros",
          "Madagascar",
          "Lesotho",
          "Burundi",
          "Zimbabwe",
          "Haiti",
          "Botswana",
          "Malawi",
          "Rwanda",
          "Tanzania",
          "Afghanistan",
          "Central African Republic",
          "South Sudan"
         ],
         "name": "",
         "type": "choropleth",
         "z": {
          "bdata": "+n5qvHQTH0BmZmZmZmYeQJ7vp8ZLNx5AYOXQItv5HUDByqFFtvMdQOxRuB6F6x1ArBxaZDtfHUDufD81XjodQOkmMQisHB1AlkOLbOf7HEC28/3UeOkcQF66SQwCqxxAdZMYBFaOHEBcj8L1KFwcQJ7vp8ZLNxxAL90kBoEVHEBxPQrXo/AbQP7UeOkmsRtAxSCwcmiRG0DNzMzMzEwbQIGVQ4ts5xpA4XoUrkdhGkCR7Xw/NV4aQC2yne+nxhlAWDm0yHa+GUAAAAAAAIAZQOXQItv5fhlA0SLb+X5qGUBiEFg5tEgZQDMzMzMzMxlAeekmMQgsGUA/NV66SQwZQFCNl24SAxlAMQisHFrkGECyne+nxssYQO58PzVeuhhAGQRWDi2yGEB/arx0k5gYQAAAAAAAgBhARrbz/dR4GEDsUbgehWsYQGZmZmZmZhhA8tJNYhBYGEBI4XoUrkcYQMl2vp8aLxhA6SYxCKwcGEAv3SQGgRUYQNV46SYxCBhAw/UoXI/CF0DfT42XbpIXQI/C9ShcjxdAWmQ730+NF0AlBoGVQ4sXQHE9CtejcBdAI9v5fmo8F0AEVg4tsh0XQNV46SYxCBdARrbz/dT4FkB9PzVeuskWQBKDwMqhxRZA6SYxCKycFkCgGi/dJIYWQLbz/dR4aRZABFYOLbIdFkCamZmZmRkWQGQ730+NFxZAke18PzXeFUDufD81XroVQDMzMzMzsxVAJQaBlUOLFUBCYOXQIlsVQJhuEoPAShVA2c73U+MlFUCkcD0K1yMVQH9qvHSTGBVAj8L1KFwPFUCwcmiR7fwUQPLSTWIQ2BRAokW28/3UFECiRbbz/dQUQH0/NV66yRRA+FPjpZvEFEDdJAaBlcMUQIcW2c73UxRAkxgEVg4tFEAlBoGVQwsUQJZDi2zn+xNA9P3UeOmmE0A5tMh2vp8TQNV46SYxiBNAGQRWDi0yE0AX2c73U+MSQMdLN4lB4BJAzczMzMzMEkDTTWIQWLkSQHnpJjEIrBJAdZMYBFaOEkBQjZduEoMSQAwCK4cWWRJAI9v5fmo8EkCJQWDl0CISQPp+arx0ExJA8KfGSzcJEkD2KFyPwvURQHe+nxov3RFA8tJNYhDYEUBt5/up8dIRQHNoke18vxFAj8L1KFyPEUDl0CLb+X4RQBBYObTIdhFAcT0K16NwEUBmZmZmZmYRQIcW2c73UxFAvp8aL90kEUCoxks3icEQQCGwcmiRbRBA16NwPQpXEECPwvUoXA8QQM3MzMzMzA9AYhBYObTID0AQWDm0yHYPQNEi2/l+ag5AMzMzMzMzDkDn+6nx0k0NQC2yne+nxgxAgZVDi2znC0BI4XoUrkcLQHnpJjEIrApADAIrhxbZCUA5tMh2vp8JQESLbOf7qQhAbef7qfHSBkA=",
          "dtype": "f8"
         }
        }
       ],
       "layout": {
        "coloraxis": {
         "cmax": 10,
         "cmin": 1,
         "colorbar": {
          "ticks": "outside",
          "tickvals": [
           1,
           4,
           7,
           10
          ],
          "title": {
           "text": "Happiness (1–10)"
          }
         },
         "colorscale": [
          [
           0,
           "#440154"
          ],
          [
           0.1111111111111111,
           "#482878"
          ],
          [
           0.2222222222222222,
           "#3e4989"
          ],
          [
           0.3333333333333333,
           "#31688e"
          ],
          [
           0.4444444444444444,
           "#26828e"
          ],
          [
           0.5555555555555556,
           "#1f9e89"
          ],
          [
           0.6666666666666666,
           "#35b779"
          ],
          [
           0.7777777777777778,
           "#6ece58"
          ],
          [
           0.8888888888888888,
           "#b5de2b"
          ],
          [
           1,
           "#fde725"
          ]
         ]
        },
        "geo": {
         "center": {},
         "domain": {
          "x": [
           0,
           1
          ],
          "y": [
           0,
           1
          ]
         },
         "projection": {
          "type": "natural earth"
         },
         "showcoastlines": true,
         "showframe": false
        },
        "height": 600,
        "legend": {
         "tracegroupgap": 0
        },
        "margin": {
         "b": 0,
         "l": 0,
         "r": 0,
         "t": 60
        },
        "template": {
         "data": {
          "bar": [
           {
            "error_x": {
             "color": "#2a3f5f"
            },
            "error_y": {
             "color": "#2a3f5f"
            },
            "marker": {
             "line": {
              "color": "#E5ECF6",
              "width": 0.5
             },
             "pattern": {
              "fillmode": "overlay",
              "size": 10,
              "solidity": 0.2
             }
            },
            "type": "bar"
           }
          ],
          "barpolar": [
           {
            "marker": {
             "line": {
              "color": "#E5ECF6",
              "width": 0.5
             },
             "pattern": {
              "fillmode": "overlay",
              "size": 10,
              "solidity": 0.2
             }
            },
            "type": "barpolar"
           }
          ],
          "carpet": [
           {
            "aaxis": {
             "endlinecolor": "#2a3f5f",
             "gridcolor": "white",
             "linecolor": "white",
             "minorgridcolor": "white",
             "startlinecolor": "#2a3f5f"
            },
            "baxis": {
             "endlinecolor": "#2a3f5f",
             "gridcolor": "white",
             "linecolor": "white",
             "minorgridcolor": "white",
             "startlinecolor": "#2a3f5f"
            },
            "type": "carpet"
           }
          ],
          "choropleth": [
           {
            "colorbar": {
             "outlinewidth": 0,
             "ticks": ""
            },
            "type": "choropleth"
           }
          ],
          "contour": [
           {
            "colorbar": {
             "outlinewidth": 0,
             "ticks": ""
            },
            "colorscale": [
             [
              0,
              "#0d0887"
             ],
             [
              0.1111111111111111,
              "#46039f"
             ],
             [
              0.2222222222222222,
              "#7201a8"
             ],
             [
              0.3333333333333333,
              "#9c179e"
             ],
             [
              0.4444444444444444,
              "#bd3786"
             ],
             [
              0.5555555555555556,
              "#d8576b"
             ],
             [
              0.6666666666666666,
              "#ed7953"
             ],
             [
              0.7777777777777778,
              "#fb9f3a"
             ],
             [
              0.8888888888888888,
              "#fdca26"
             ],
             [
              1,
              "#f0f921"
             ]
            ],
            "type": "contour"
           }
          ],
          "contourcarpet": [
           {
            "colorbar": {
             "outlinewidth": 0,
             "ticks": ""
            },
            "type": "contourcarpet"
           }
          ],
          "heatmap": [
           {
            "colorbar": {
             "outlinewidth": 0,
             "ticks": ""
            },
            "colorscale": [
             [
              0,
              "#0d0887"
             ],
             [
              0.1111111111111111,
              "#46039f"
             ],
             [
              0.2222222222222222,
              "#7201a8"
             ],
             [
              0.3333333333333333,
              "#9c179e"
             ],
             [
              0.4444444444444444,
              "#bd3786"
             ],
             [
              0.5555555555555556,
              "#d8576b"
             ],
             [
              0.6666666666666666,
              "#ed7953"
             ],
             [
              0.7777777777777778,
              "#fb9f3a"
             ],
             [
              0.8888888888888888,
              "#fdca26"
             ],
             [
              1,
              "#f0f921"
             ]
            ],
            "type": "heatmap"
           }
          ],
          "histogram": [
           {
            "marker": {
             "pattern": {
              "fillmode": "overlay",
              "size": 10,
              "solidity": 0.2
             }
            },
            "type": "histogram"
           }
          ],
          "histogram2d": [
           {
            "colorbar": {
             "outlinewidth": 0,
             "ticks": ""
            },
            "colorscale": [
             [
              0,
              "#0d0887"
             ],
             [
              0.1111111111111111,
              "#46039f"
             ],
             [
              0.2222222222222222,
              "#7201a8"
             ],
             [
              0.3333333333333333,
              "#9c179e"
             ],
             [
              0.4444444444444444,
              "#bd3786"
             ],
             [
              0.5555555555555556,
              "#d8576b"
             ],
             [
              0.6666666666666666,
              "#ed7953"
             ],
             [
              0.7777777777777778,
              "#fb9f3a"
             ],
             [
              0.8888888888888888,
              "#fdca26"
             ],
             [
              1,
              "#f0f921"
             ]
            ],
            "type": "histogram2d"
           }
          ],
          "histogram2dcontour": [
           {
            "colorbar": {
             "outlinewidth": 0,
             "ticks": ""
            },
            "colorscale": [
             [
              0,
              "#0d0887"
             ],
             [
              0.1111111111111111,
              "#46039f"
             ],
             [
              0.2222222222222222,
              "#7201a8"
             ],
             [
              0.3333333333333333,
              "#9c179e"
             ],
             [
              0.4444444444444444,
              "#bd3786"
             ],
             [
              0.5555555555555556,
              "#d8576b"
             ],
             [
              0.6666666666666666,
              "#ed7953"
             ],
             [
              0.7777777777777778,
              "#fb9f3a"
             ],
             [
              0.8888888888888888,
              "#fdca26"
             ],
             [
              1,
              "#f0f921"
             ]
            ],
            "type": "histogram2dcontour"
           }
          ],
          "mesh3d": [
           {
            "colorbar": {
             "outlinewidth": 0,
             "ticks": ""
            },
            "type": "mesh3d"
           }
          ],
          "parcoords": [
           {
            "line": {
             "colorbar": {
              "outlinewidth": 0,
              "ticks": ""
             }
            },
            "type": "parcoords"
           }
          ],
          "pie": [
           {
            "automargin": true,
            "type": "pie"
           }
          ],
          "scatter": [
           {
            "fillpattern": {
             "fillmode": "overlay",
             "size": 10,
             "solidity": 0.2
            },
            "type": "scatter"
           }
          ],
          "scatter3d": [
           {
            "line": {
             "colorbar": {
              "outlinewidth": 0,
              "ticks": ""
             }
            },
            "marker": {
             "colorbar": {
              "outlinewidth": 0,
              "ticks": ""
             }
            },
            "type": "scatter3d"
           }
          ],
          "scattercarpet": [
           {
            "marker": {
             "colorbar": {
              "outlinewidth": 0,
              "ticks": ""
             }
            },
            "type": "scattercarpet"
           }
          ],
          "scattergeo": [
           {
            "marker": {
             "colorbar": {
              "outlinewidth": 0,
              "ticks": ""
             }
            },
            "type": "scattergeo"
           }
          ],
          "scattergl": [
           {
            "marker": {
             "colorbar": {
              "outlinewidth": 0,
              "ticks": ""
             }
            },
            "type": "scattergl"
           }
          ],
          "scattermap": [
           {
            "marker": {
             "colorbar": {
              "outlinewidth": 0,
              "ticks": ""
             }
            },
            "type": "scattermap"
           }
          ],
          "scattermapbox": [
           {
            "marker": {
             "colorbar": {
              "outlinewidth": 0,
              "ticks": ""
             }
            },
            "type": "scattermapbox"
           }
          ],
          "scatterpolar": [
           {
            "marker": {
             "colorbar": {
              "outlinewidth": 0,
              "ticks": ""
             }
            },
            "type": "scatterpolar"
           }
          ],
          "scatterpolargl": [
           {
            "marker": {
             "colorbar": {
              "outlinewidth": 0,
              "ticks": ""
             }
            },
            "type": "scatterpolargl"
           }
          ],
          "scatterternary": [
           {
            "marker": {
             "colorbar": {
              "outlinewidth": 0,
              "ticks": ""
             }
            },
            "type": "scatterternary"
           }
          ],
          "surface": [
           {
            "colorbar": {
             "outlinewidth": 0,
             "ticks": ""
            },
            "colorscale": [
             [
              0,
              "#0d0887"
             ],
             [
              0.1111111111111111,
              "#46039f"
             ],
             [
              0.2222222222222222,
              "#7201a8"
             ],
             [
              0.3333333333333333,
              "#9c179e"
             ],
             [
              0.4444444444444444,
              "#bd3786"
             ],
             [
              0.5555555555555556,
              "#d8576b"
             ],
             [
              0.6666666666666666,
              "#ed7953"
             ],
             [
              0.7777777777777778,
              "#fb9f3a"
             ],
             [
              0.8888888888888888,
              "#fdca26"
             ],
             [
              1,
              "#f0f921"
             ]
            ],
            "type": "surface"
           }
          ],
          "table": [
           {
            "cells": {
             "fill": {
              "color": "#EBF0F8"
             },
             "line": {
              "color": "white"
             }
            },
            "header": {
             "fill": {
              "color": "#C8D4E3"
             },
             "line": {
              "color": "white"
             }
            },
            "type": "table"
           }
          ]
         },
         "layout": {
          "annotationdefaults": {
           "arrowcolor": "#2a3f5f",
           "arrowhead": 0,
           "arrowwidth": 1
          },
          "autotypenumbers": "strict",
          "coloraxis": {
           "colorbar": {
            "outlinewidth": 0,
            "ticks": ""
           }
          },
          "colorscale": {
           "diverging": [
            [
             0,
             "#8e0152"
            ],
            [
             0.1,
             "#c51b7d"
            ],
            [
             0.2,
             "#de77ae"
            ],
            [
             0.3,
             "#f1b6da"
            ],
            [
             0.4,
             "#fde0ef"
            ],
            [
             0.5,
             "#f7f7f7"
            ],
            [
             0.6,
             "#e6f5d0"
            ],
            [
             0.7,
             "#b8e186"
            ],
            [
             0.8,
             "#7fbc41"
            ],
            [
             0.9,
             "#4d9221"
            ],
            [
             1,
             "#276419"
            ]
           ],
           "sequential": [
            [
             0,
             "#0d0887"
            ],
            [
             0.1111111111111111,
             "#46039f"
            ],
            [
             0.2222222222222222,
             "#7201a8"
            ],
            [
             0.3333333333333333,
             "#9c179e"
            ],
            [
             0.4444444444444444,
             "#bd3786"
            ],
            [
             0.5555555555555556,
             "#d8576b"
            ],
            [
             0.6666666666666666,
             "#ed7953"
            ],
            [
             0.7777777777777778,
             "#fb9f3a"
            ],
            [
             0.8888888888888888,
             "#fdca26"
            ],
            [
             1,
             "#f0f921"
            ]
           ],
           "sequentialminus": [
            [
             0,
             "#0d0887"
            ],
            [
             0.1111111111111111,
             "#46039f"
            ],
            [
             0.2222222222222222,
             "#7201a8"
            ],
            [
             0.3333333333333333,
             "#9c179e"
            ],
            [
             0.4444444444444444,
             "#bd3786"
            ],
            [
             0.5555555555555556,
             "#d8576b"
            ],
            [
             0.6666666666666666,
             "#ed7953"
            ],
            [
             0.7777777777777778,
             "#fb9f3a"
            ],
            [
             0.8888888888888888,
             "#fdca26"
            ],
            [
             1,
             "#f0f921"
            ]
           ]
          },
          "colorway": [
           "#636efa",
           "#EF553B",
           "#00cc96",
           "#ab63fa",
           "#FFA15A",
           "#19d3f3",
           "#FF6692",
           "#B6E880",
           "#FF97FF",
           "#FECB52"
          ],
          "font": {
           "color": "#2a3f5f"
          },
          "geo": {
           "bgcolor": "white",
           "lakecolor": "white",
           "landcolor": "#E5ECF6",
           "showlakes": true,
           "showland": true,
           "subunitcolor": "white"
          },
          "hoverlabel": {
           "align": "left"
          },
          "hovermode": "closest",
          "mapbox": {
           "style": "light"
          },
          "paper_bgcolor": "white",
          "plot_bgcolor": "#E5ECF6",
          "polar": {
           "angularaxis": {
            "gridcolor": "white",
            "linecolor": "white",
            "ticks": ""
           },
           "bgcolor": "#E5ECF6",
           "radialaxis": {
            "gridcolor": "white",
            "linecolor": "white",
            "ticks": ""
           }
          },
          "scene": {
           "xaxis": {
            "backgroundcolor": "#E5ECF6",
            "gridcolor": "white",
            "gridwidth": 2,
            "linecolor": "white",
            "showbackground": true,
            "ticks": "",
            "zerolinecolor": "white"
           },
           "yaxis": {
            "backgroundcolor": "#E5ECF6",
            "gridcolor": "white",
            "gridwidth": 2,
            "linecolor": "white",
            "showbackground": true,
            "ticks": "",
            "zerolinecolor": "white"
           },
           "zaxis": {
            "backgroundcolor": "#E5ECF6",
            "gridcolor": "white",
            "gridwidth": 2,
            "linecolor": "white",
            "showbackground": true,
            "ticks": "",
            "zerolinecolor": "white"
           }
          },
          "shapedefaults": {
           "line": {
            "color": "#2a3f5f"
           }
          },
          "ternary": {
           "aaxis": {
            "gridcolor": "white",
            "linecolor": "white",
            "ticks": ""
           },
           "baxis": {
            "gridcolor": "white",
            "linecolor": "white",
            "ticks": ""
           },
           "bgcolor": "#E5ECF6",
           "caxis": {
            "gridcolor": "white",
            "linecolor": "white",
            "ticks": ""
           }
          },
          "title": {
           "x": 0.05
          },
          "xaxis": {
           "automargin": true,
           "gridcolor": "white",
           "linecolor": "white",
           "ticks": "",
           "title": {
            "standoff": 15
           },
           "zerolinecolor": "white",
           "zerolinewidth": 2
          },
          "yaxis": {
           "automargin": true,
           "gridcolor": "white",
           "linecolor": "white",
           "ticks": "",
           "title": {
            "standoff": 15
           },
           "zerolinecolor": "white",
           "zerolinewidth": 2
          }
         }
        },
        "title": {
         "text": "World Happiness Score by Country"
        },
        "width": 800
       }
      }
     },
     "metadata": {},
     "output_type": "display_data"
    }
   ],
   "source": [
    "import pandas as pd\n",
    "import plotly.express as px\n",
    "\n",
    "df = pd.read_csv('final.csv')\n",
    "\n",
    "fig = px.choropleth(\n",
    "    df,\n",
    "    locations='Country',\n",
    "    locationmode='country names',\n",
    "    color='Happiness',\n",
    "    hover_name='Country',\n",
    "    color_continuous_scale='Viridis',\n",
    "    range_color=(1, 10),\n",
    "    title='World Happiness Score by Country',\n",
    "    width=800,\n",
    "    height=600\n",
    ")\n",
    "\n",
    "fig.update_layout(\n",
    "    geo=dict(\n",
    "        showframe=False,\n",
    "        showcoastlines=True,\n",
    "        projection_type='natural earth'\n",
    "    ),\n",
    "    coloraxis_colorbar=dict(\n",
    "        title='Happiness (1–10)',\n",
    "        tickvals=[1, 4, 7, 10],\n",
    "        ticks=\"outside\"\n",
    "    ),\n",
    "    margin={\"r\":0,\"t\":60,\"l\":0,\"b\":0}\n",
    ")\n",
    "\n",
    "fig.show()\n"
   ]
  },
  {
   "cell_type": "code",
   "execution_count": 6,
   "id": "934fee4f",
   "metadata": {},
   "outputs": [
    {
     "data": {
      "application/vnd.plotly.v1+json": {
       "config": {
        "plotlyServerURL": "https://plot.ly"
       },
       "data": [
        {
         "colorbar": {
          "title": {
           "text": "Pearson r"
          }
         },
         "colorscale": [
          [
           0,
           "rgb(103,0,31)"
          ],
          [
           0.1,
           "rgb(178,24,43)"
          ],
          [
           0.2,
           "rgb(214,96,77)"
          ],
          [
           0.3,
           "rgb(244,165,130)"
          ],
          [
           0.4,
           "rgb(253,219,199)"
          ],
          [
           0.5,
           "rgb(247,247,247)"
          ],
          [
           0.6,
           "rgb(209,229,240)"
          ],
          [
           0.7,
           "rgb(146,197,222)"
          ],
          [
           0.8,
           "rgb(67,147,195)"
          ],
          [
           0.9,
           "rgb(33,102,172)"
          ],
          [
           1,
           "rgb(5,48,97)"
          ]
         ],
         "hoverongaps": false,
         "text": [
          [
           "0.77",
           "0.32",
           "-0.25",
           "-0.22",
           "0.18",
           "0.17"
          ]
         ],
         "textfont": {
          "size": 14
         },
         "texttemplate": "%{text}",
         "type": "heatmap",
         "x": [
          "Life_expectancy",
          "Edu_expenditure_pct",
          "Unemployment_rate",
          "Gini_index",
          "GDP_current_usd",
          "GNI_current_usd"
         ],
         "y": [
          "Happiness"
         ],
         "z": [
          [
           0.7736481330602923,
           0.3198404160698538,
           -0.24925055070300098,
           -0.22300973295355409,
           0.1757621951460249,
           0.1748163178965347
          ]
         ],
         "zmax": 1,
         "zmid": 0,
         "zmin": -1
        }
       ],
       "layout": {
        "height": 500,
        "margin": {
         "b": 100,
         "l": 80,
         "r": 80,
         "t": 60
        },
        "template": {
         "data": {
          "bar": [
           {
            "error_x": {
             "color": "#2a3f5f"
            },
            "error_y": {
             "color": "#2a3f5f"
            },
            "marker": {
             "line": {
              "color": "#E5ECF6",
              "width": 0.5
             },
             "pattern": {
              "fillmode": "overlay",
              "size": 10,
              "solidity": 0.2
             }
            },
            "type": "bar"
           }
          ],
          "barpolar": [
           {
            "marker": {
             "line": {
              "color": "#E5ECF6",
              "width": 0.5
             },
             "pattern": {
              "fillmode": "overlay",
              "size": 10,
              "solidity": 0.2
             }
            },
            "type": "barpolar"
           }
          ],
          "carpet": [
           {
            "aaxis": {
             "endlinecolor": "#2a3f5f",
             "gridcolor": "white",
             "linecolor": "white",
             "minorgridcolor": "white",
             "startlinecolor": "#2a3f5f"
            },
            "baxis": {
             "endlinecolor": "#2a3f5f",
             "gridcolor": "white",
             "linecolor": "white",
             "minorgridcolor": "white",
             "startlinecolor": "#2a3f5f"
            },
            "type": "carpet"
           }
          ],
          "choropleth": [
           {
            "colorbar": {
             "outlinewidth": 0,
             "ticks": ""
            },
            "type": "choropleth"
           }
          ],
          "contour": [
           {
            "colorbar": {
             "outlinewidth": 0,
             "ticks": ""
            },
            "colorscale": [
             [
              0,
              "#0d0887"
             ],
             [
              0.1111111111111111,
              "#46039f"
             ],
             [
              0.2222222222222222,
              "#7201a8"
             ],
             [
              0.3333333333333333,
              "#9c179e"
             ],
             [
              0.4444444444444444,
              "#bd3786"
             ],
             [
              0.5555555555555556,
              "#d8576b"
             ],
             [
              0.6666666666666666,
              "#ed7953"
             ],
             [
              0.7777777777777778,
              "#fb9f3a"
             ],
             [
              0.8888888888888888,
              "#fdca26"
             ],
             [
              1,
              "#f0f921"
             ]
            ],
            "type": "contour"
           }
          ],
          "contourcarpet": [
           {
            "colorbar": {
             "outlinewidth": 0,
             "ticks": ""
            },
            "type": "contourcarpet"
           }
          ],
          "heatmap": [
           {
            "colorbar": {
             "outlinewidth": 0,
             "ticks": ""
            },
            "colorscale": [
             [
              0,
              "#0d0887"
             ],
             [
              0.1111111111111111,
              "#46039f"
             ],
             [
              0.2222222222222222,
              "#7201a8"
             ],
             [
              0.3333333333333333,
              "#9c179e"
             ],
             [
              0.4444444444444444,
              "#bd3786"
             ],
             [
              0.5555555555555556,
              "#d8576b"
             ],
             [
              0.6666666666666666,
              "#ed7953"
             ],
             [
              0.7777777777777778,
              "#fb9f3a"
             ],
             [
              0.8888888888888888,
              "#fdca26"
             ],
             [
              1,
              "#f0f921"
             ]
            ],
            "type": "heatmap"
           }
          ],
          "histogram": [
           {
            "marker": {
             "pattern": {
              "fillmode": "overlay",
              "size": 10,
              "solidity": 0.2
             }
            },
            "type": "histogram"
           }
          ],
          "histogram2d": [
           {
            "colorbar": {
             "outlinewidth": 0,
             "ticks": ""
            },
            "colorscale": [
             [
              0,
              "#0d0887"
             ],
             [
              0.1111111111111111,
              "#46039f"
             ],
             [
              0.2222222222222222,
              "#7201a8"
             ],
             [
              0.3333333333333333,
              "#9c179e"
             ],
             [
              0.4444444444444444,
              "#bd3786"
             ],
             [
              0.5555555555555556,
              "#d8576b"
             ],
             [
              0.6666666666666666,
              "#ed7953"
             ],
             [
              0.7777777777777778,
              "#fb9f3a"
             ],
             [
              0.8888888888888888,
              "#fdca26"
             ],
             [
              1,
              "#f0f921"
             ]
            ],
            "type": "histogram2d"
           }
          ],
          "histogram2dcontour": [
           {
            "colorbar": {
             "outlinewidth": 0,
             "ticks": ""
            },
            "colorscale": [
             [
              0,
              "#0d0887"
             ],
             [
              0.1111111111111111,
              "#46039f"
             ],
             [
              0.2222222222222222,
              "#7201a8"
             ],
             [
              0.3333333333333333,
              "#9c179e"
             ],
             [
              0.4444444444444444,
              "#bd3786"
             ],
             [
              0.5555555555555556,
              "#d8576b"
             ],
             [
              0.6666666666666666,
              "#ed7953"
             ],
             [
              0.7777777777777778,
              "#fb9f3a"
             ],
             [
              0.8888888888888888,
              "#fdca26"
             ],
             [
              1,
              "#f0f921"
             ]
            ],
            "type": "histogram2dcontour"
           }
          ],
          "mesh3d": [
           {
            "colorbar": {
             "outlinewidth": 0,
             "ticks": ""
            },
            "type": "mesh3d"
           }
          ],
          "parcoords": [
           {
            "line": {
             "colorbar": {
              "outlinewidth": 0,
              "ticks": ""
             }
            },
            "type": "parcoords"
           }
          ],
          "pie": [
           {
            "automargin": true,
            "type": "pie"
           }
          ],
          "scatter": [
           {
            "fillpattern": {
             "fillmode": "overlay",
             "size": 10,
             "solidity": 0.2
            },
            "type": "scatter"
           }
          ],
          "scatter3d": [
           {
            "line": {
             "colorbar": {
              "outlinewidth": 0,
              "ticks": ""
             }
            },
            "marker": {
             "colorbar": {
              "outlinewidth": 0,
              "ticks": ""
             }
            },
            "type": "scatter3d"
           }
          ],
          "scattercarpet": [
           {
            "marker": {
             "colorbar": {
              "outlinewidth": 0,
              "ticks": ""
             }
            },
            "type": "scattercarpet"
           }
          ],
          "scattergeo": [
           {
            "marker": {
             "colorbar": {
              "outlinewidth": 0,
              "ticks": ""
             }
            },
            "type": "scattergeo"
           }
          ],
          "scattergl": [
           {
            "marker": {
             "colorbar": {
              "outlinewidth": 0,
              "ticks": ""
             }
            },
            "type": "scattergl"
           }
          ],
          "scattermap": [
           {
            "marker": {
             "colorbar": {
              "outlinewidth": 0,
              "ticks": ""
             }
            },
            "type": "scattermap"
           }
          ],
          "scattermapbox": [
           {
            "marker": {
             "colorbar": {
              "outlinewidth": 0,
              "ticks": ""
             }
            },
            "type": "scattermapbox"
           }
          ],
          "scatterpolar": [
           {
            "marker": {
             "colorbar": {
              "outlinewidth": 0,
              "ticks": ""
             }
            },
            "type": "scatterpolar"
           }
          ],
          "scatterpolargl": [
           {
            "marker": {
             "colorbar": {
              "outlinewidth": 0,
              "ticks": ""
             }
            },
            "type": "scatterpolargl"
           }
          ],
          "scatterternary": [
           {
            "marker": {
             "colorbar": {
              "outlinewidth": 0,
              "ticks": ""
             }
            },
            "type": "scatterternary"
           }
          ],
          "surface": [
           {
            "colorbar": {
             "outlinewidth": 0,
             "ticks": ""
            },
            "colorscale": [
             [
              0,
              "#0d0887"
             ],
             [
              0.1111111111111111,
              "#46039f"
             ],
             [
              0.2222222222222222,
              "#7201a8"
             ],
             [
              0.3333333333333333,
              "#9c179e"
             ],
             [
              0.4444444444444444,
              "#bd3786"
             ],
             [
              0.5555555555555556,
              "#d8576b"
             ],
             [
              0.6666666666666666,
              "#ed7953"
             ],
             [
              0.7777777777777778,
              "#fb9f3a"
             ],
             [
              0.8888888888888888,
              "#fdca26"
             ],
             [
              1,
              "#f0f921"
             ]
            ],
            "type": "surface"
           }
          ],
          "table": [
           {
            "cells": {
             "fill": {
              "color": "#EBF0F8"
             },
             "line": {
              "color": "white"
             }
            },
            "header": {
             "fill": {
              "color": "#C8D4E3"
             },
             "line": {
              "color": "white"
             }
            },
            "type": "table"
           }
          ]
         },
         "layout": {
          "annotationdefaults": {
           "arrowcolor": "#2a3f5f",
           "arrowhead": 0,
           "arrowwidth": 1
          },
          "autotypenumbers": "strict",
          "coloraxis": {
           "colorbar": {
            "outlinewidth": 0,
            "ticks": ""
           }
          },
          "colorscale": {
           "diverging": [
            [
             0,
             "#8e0152"
            ],
            [
             0.1,
             "#c51b7d"
            ],
            [
             0.2,
             "#de77ae"
            ],
            [
             0.3,
             "#f1b6da"
            ],
            [
             0.4,
             "#fde0ef"
            ],
            [
             0.5,
             "#f7f7f7"
            ],
            [
             0.6,
             "#e6f5d0"
            ],
            [
             0.7,
             "#b8e186"
            ],
            [
             0.8,
             "#7fbc41"
            ],
            [
             0.9,
             "#4d9221"
            ],
            [
             1,
             "#276419"
            ]
           ],
           "sequential": [
            [
             0,
             "#0d0887"
            ],
            [
             0.1111111111111111,
             "#46039f"
            ],
            [
             0.2222222222222222,
             "#7201a8"
            ],
            [
             0.3333333333333333,
             "#9c179e"
            ],
            [
             0.4444444444444444,
             "#bd3786"
            ],
            [
             0.5555555555555556,
             "#d8576b"
            ],
            [
             0.6666666666666666,
             "#ed7953"
            ],
            [
             0.7777777777777778,
             "#fb9f3a"
            ],
            [
             0.8888888888888888,
             "#fdca26"
            ],
            [
             1,
             "#f0f921"
            ]
           ],
           "sequentialminus": [
            [
             0,
             "#0d0887"
            ],
            [
             0.1111111111111111,
             "#46039f"
            ],
            [
             0.2222222222222222,
             "#7201a8"
            ],
            [
             0.3333333333333333,
             "#9c179e"
            ],
            [
             0.4444444444444444,
             "#bd3786"
            ],
            [
             0.5555555555555556,
             "#d8576b"
            ],
            [
             0.6666666666666666,
             "#ed7953"
            ],
            [
             0.7777777777777778,
             "#fb9f3a"
            ],
            [
             0.8888888888888888,
             "#fdca26"
            ],
            [
             1,
             "#f0f921"
            ]
           ]
          },
          "colorway": [
           "#636efa",
           "#EF553B",
           "#00cc96",
           "#ab63fa",
           "#FFA15A",
           "#19d3f3",
           "#FF6692",
           "#B6E880",
           "#FF97FF",
           "#FECB52"
          ],
          "font": {
           "color": "#2a3f5f"
          },
          "geo": {
           "bgcolor": "white",
           "lakecolor": "white",
           "landcolor": "#E5ECF6",
           "showlakes": true,
           "showland": true,
           "subunitcolor": "white"
          },
          "hoverlabel": {
           "align": "left"
          },
          "hovermode": "closest",
          "mapbox": {
           "style": "light"
          },
          "paper_bgcolor": "white",
          "plot_bgcolor": "#E5ECF6",
          "polar": {
           "angularaxis": {
            "gridcolor": "white",
            "linecolor": "white",
            "ticks": ""
           },
           "bgcolor": "#E5ECF6",
           "radialaxis": {
            "gridcolor": "white",
            "linecolor": "white",
            "ticks": ""
           }
          },
          "scene": {
           "xaxis": {
            "backgroundcolor": "#E5ECF6",
            "gridcolor": "white",
            "gridwidth": 2,
            "linecolor": "white",
            "showbackground": true,
            "ticks": "",
            "zerolinecolor": "white"
           },
           "yaxis": {
            "backgroundcolor": "#E5ECF6",
            "gridcolor": "white",
            "gridwidth": 2,
            "linecolor": "white",
            "showbackground": true,
            "ticks": "",
            "zerolinecolor": "white"
           },
           "zaxis": {
            "backgroundcolor": "#E5ECF6",
            "gridcolor": "white",
            "gridwidth": 2,
            "linecolor": "white",
            "showbackground": true,
            "ticks": "",
            "zerolinecolor": "white"
           }
          },
          "shapedefaults": {
           "line": {
            "color": "#2a3f5f"
           }
          },
          "ternary": {
           "aaxis": {
            "gridcolor": "white",
            "linecolor": "white",
            "ticks": ""
           },
           "baxis": {
            "gridcolor": "white",
            "linecolor": "white",
            "ticks": ""
           },
           "bgcolor": "#E5ECF6",
           "caxis": {
            "gridcolor": "white",
            "linecolor": "white",
            "ticks": ""
           }
          },
          "title": {
           "x": 0.05
          },
          "xaxis": {
           "automargin": true,
           "gridcolor": "white",
           "linecolor": "white",
           "ticks": "",
           "title": {
            "standoff": 15
           },
           "zerolinecolor": "white",
           "zerolinewidth": 2
          },
          "yaxis": {
           "automargin": true,
           "gridcolor": "white",
           "linecolor": "white",
           "ticks": "",
           "title": {
            "standoff": 15
           },
           "zerolinecolor": "white",
           "zerolinewidth": 2
          }
         }
        },
        "title": {
         "text": "Correlations: Happiness vs Other Indicators"
        },
        "xaxis": {
         "tickangle": -45
        },
        "yaxis": {
         "tickfont": {
          "size": 14
         }
        }
       }
      }
     },
     "metadata": {},
     "output_type": "display_data"
    }
   ],
   "source": [
    "import pandas as pd\n",
    "import numpy as np\n",
    "import plotly.graph_objects as go\n",
    "\n",
    "df = pd.read_csv('final.csv')\n",
    "others = [\n",
    "    'GDP_current_usd',\n",
    "    'GNI_current_usd',\n",
    "    'Gini_index',\n",
    "    'Life_expectancy',\n",
    "    'Unemployment_rate',\n",
    "    'Edu_expenditure_pct'\n",
    "]\n",
    "\n",
    "corr_with_hap = df[others].corrwith(df['Happiness'])\n",
    "corr_with_hap = corr_with_hap.reindex(\n",
    "    corr_with_hap.abs().sort_values(ascending=False).index\n",
    ")\n",
    "\n",
    "fig = go.Figure(go.Heatmap(\n",
    "    z=[corr_with_hap.values],\n",
    "    x=corr_with_hap.index,\n",
    "    y=['Happiness'],\n",
    "    zmin=-1, zmid=0, zmax=1,\n",
    "    colorscale='RdBu',\n",
    "    colorbar=dict(title='Pearson r'),\n",
    "    text=[[f\"{v:.2f}\" for v in corr_with_hap.values]],\n",
    "    texttemplate='%{text}',\n",
    "    textfont=dict(size=14),\n",
    "    hoverongaps=False\n",
    "))\n",
    "\n",
    "fig.update_layout(\n",
    "    title=\"Correlations: Happiness vs Other Indicators\",\n",
    "    xaxis_tickangle=-45,\n",
    "    yaxis=dict(tickfont=dict(size=14)),\n",
    "    height=500,\n",
    "    margin=dict(l=80, r=80, t=60, b=100)\n",
    ")\n",
    "\n",
    "fig.show()\n"
   ]
  },
  {
   "cell_type": "code",
   "execution_count": null,
   "id": "cea1cc1f",
   "metadata": {},
   "outputs": [
    {
     "data": {
      "application/vnd.plotly.v1+json": {
       "config": {
        "plotlyServerURL": "https://plot.ly"
       },
       "data": [
        {
         "base": [
          0
         ],
         "hovertemplate": "Life expectancy: 40.3%<extra></extra>",
         "marker": {
          "color": "#256caf"
         },
         "name": "Life expectancy",
         "orientation": "h",
         "type": "bar",
         "x": [
          40.31413612565446
         ],
         "y": [
          "Effect on Happiness (%)"
         ]
        },
        {
         "base": [
          40.31413612565446
         ],
         "hovertemplate": "Education expenditure: 16.8%<extra></extra>",
         "marker": {
          "color": "#abd2e5"
         },
         "name": "Education expenditure",
         "orientation": "h",
         "type": "bar",
         "x": [
          16.75392670157068
         ],
         "y": [
          "Effect on Happiness (%)"
         ]
        },
        {
         "base": [
          57.068062827225134
         ],
         "hovertemplate": "Unemployment rate: 13.1%<extra></extra>",
         "marker": {
          "color": "#fbceb6"
         },
         "name": "Unemployment rate",
         "orientation": "h",
         "type": "bar",
         "x": [
          13.089005235602095
         ],
         "y": [
          "Effect on Happiness (%)"
         ]
        },
        {
         "base": [
          70.15706806282722
         ],
         "hovertemplate": "Gini index: 11.5%<extra></extra>",
         "marker": {
          "color": "#fcd5bf"
         },
         "name": "Gini index",
         "orientation": "h",
         "type": "bar",
         "x": [
          11.518324607329845
         ],
         "y": [
          "Effect on Happiness (%)"
         ]
        },
        {
         "base": [
          81.67539267015707
         ],
         "hovertemplate": "GDP in current USD: 9.4%<extra></extra>",
         "marker": {
          "color": "#d6e7f1"
         },
         "name": "GDP in current USD",
         "orientation": "h",
         "type": "bar",
         "x": [
          9.424083769633508
         ],
         "y": [
          "Effect on Happiness (%)"
         ]
        },
        {
         "base": [
          91.09947643979058
         ],
         "hovertemplate": "GNI in current USD: 8.9%<extra></extra>",
         "marker": {
          "color": "#d6e7f1"
         },
         "name": "GNI in current USD",
         "orientation": "h",
         "type": "bar",
         "x": [
          8.900523560209425
         ],
         "y": [
          "Effect on Happiness (%)"
         ]
        }
       ],
       "layout": {
        "annotations": [
         {
          "font": {
           "size": 12
          },
          "showarrow": false,
          "text": "Socioeconomic",
          "x": 35.07853403141361,
          "y": 0.6
         },
         {
          "font": {
           "size": 12
          },
          "showarrow": false,
          "text": "Economic",
          "x": 85.07853403141361,
          "y": 0.6
         }
        ],
        "barmode": "stack",
        "height": 350,
        "legend": {
         "title": {
          "text": "Factors"
         }
        },
        "margin": {
         "b": 20,
         "l": 20,
         "r": 20,
         "t": 60
        },
        "shapes": [
         {
          "fillcolor": "rgba(0,0,0,0)",
          "line": {
           "color": "black",
           "width": 2
          },
          "type": "rect",
          "x0": 0,
          "x1": 70.15706806282722,
          "xref": "x",
          "y0": -0.5,
          "y1": 0.5,
          "yref": "y"
         },
         {
          "fillcolor": "rgba(0,0,0,0)",
          "line": {
           "color": "black",
           "width": 2
          },
          "type": "rect",
          "x0": 70.15706806282722,
          "x1": 100,
          "xref": "x",
          "y0": -0.5,
          "y1": 0.5,
          "yref": "y"
         }
        ],
        "showlegend": true,
        "template": {
         "data": {
          "bar": [
           {
            "error_x": {
             "color": "rgb(36,36,36)"
            },
            "error_y": {
             "color": "rgb(36,36,36)"
            },
            "marker": {
             "line": {
              "color": "white",
              "width": 0.5
             },
             "pattern": {
              "fillmode": "overlay",
              "size": 10,
              "solidity": 0.2
             }
            },
            "type": "bar"
           }
          ],
          "barpolar": [
           {
            "marker": {
             "line": {
              "color": "white",
              "width": 0.5
             },
             "pattern": {
              "fillmode": "overlay",
              "size": 10,
              "solidity": 0.2
             }
            },
            "type": "barpolar"
           }
          ],
          "carpet": [
           {
            "aaxis": {
             "endlinecolor": "rgb(36,36,36)",
             "gridcolor": "white",
             "linecolor": "white",
             "minorgridcolor": "white",
             "startlinecolor": "rgb(36,36,36)"
            },
            "baxis": {
             "endlinecolor": "rgb(36,36,36)",
             "gridcolor": "white",
             "linecolor": "white",
             "minorgridcolor": "white",
             "startlinecolor": "rgb(36,36,36)"
            },
            "type": "carpet"
           }
          ],
          "choropleth": [
           {
            "colorbar": {
             "outlinewidth": 1,
             "tickcolor": "rgb(36,36,36)",
             "ticks": "outside"
            },
            "type": "choropleth"
           }
          ],
          "contour": [
           {
            "colorbar": {
             "outlinewidth": 1,
             "tickcolor": "rgb(36,36,36)",
             "ticks": "outside"
            },
            "colorscale": [
             [
              0,
              "#440154"
             ],
             [
              0.1111111111111111,
              "#482878"
             ],
             [
              0.2222222222222222,
              "#3e4989"
             ],
             [
              0.3333333333333333,
              "#31688e"
             ],
             [
              0.4444444444444444,
              "#26828e"
             ],
             [
              0.5555555555555556,
              "#1f9e89"
             ],
             [
              0.6666666666666666,
              "#35b779"
             ],
             [
              0.7777777777777778,
              "#6ece58"
             ],
             [
              0.8888888888888888,
              "#b5de2b"
             ],
             [
              1,
              "#fde725"
             ]
            ],
            "type": "contour"
           }
          ],
          "contourcarpet": [
           {
            "colorbar": {
             "outlinewidth": 1,
             "tickcolor": "rgb(36,36,36)",
             "ticks": "outside"
            },
            "type": "contourcarpet"
           }
          ],
          "heatmap": [
           {
            "colorbar": {
             "outlinewidth": 1,
             "tickcolor": "rgb(36,36,36)",
             "ticks": "outside"
            },
            "colorscale": [
             [
              0,
              "#440154"
             ],
             [
              0.1111111111111111,
              "#482878"
             ],
             [
              0.2222222222222222,
              "#3e4989"
             ],
             [
              0.3333333333333333,
              "#31688e"
             ],
             [
              0.4444444444444444,
              "#26828e"
             ],
             [
              0.5555555555555556,
              "#1f9e89"
             ],
             [
              0.6666666666666666,
              "#35b779"
             ],
             [
              0.7777777777777778,
              "#6ece58"
             ],
             [
              0.8888888888888888,
              "#b5de2b"
             ],
             [
              1,
              "#fde725"
             ]
            ],
            "type": "heatmap"
           }
          ],
          "histogram": [
           {
            "marker": {
             "line": {
              "color": "white",
              "width": 0.6
             }
            },
            "type": "histogram"
           }
          ],
          "histogram2d": [
           {
            "colorbar": {
             "outlinewidth": 1,
             "tickcolor": "rgb(36,36,36)",
             "ticks": "outside"
            },
            "colorscale": [
             [
              0,
              "#440154"
             ],
             [
              0.1111111111111111,
              "#482878"
             ],
             [
              0.2222222222222222,
              "#3e4989"
             ],
             [
              0.3333333333333333,
              "#31688e"
             ],
             [
              0.4444444444444444,
              "#26828e"
             ],
             [
              0.5555555555555556,
              "#1f9e89"
             ],
             [
              0.6666666666666666,
              "#35b779"
             ],
             [
              0.7777777777777778,
              "#6ece58"
             ],
             [
              0.8888888888888888,
              "#b5de2b"
             ],
             [
              1,
              "#fde725"
             ]
            ],
            "type": "histogram2d"
           }
          ],
          "histogram2dcontour": [
           {
            "colorbar": {
             "outlinewidth": 1,
             "tickcolor": "rgb(36,36,36)",
             "ticks": "outside"
            },
            "colorscale": [
             [
              0,
              "#440154"
             ],
             [
              0.1111111111111111,
              "#482878"
             ],
             [
              0.2222222222222222,
              "#3e4989"
             ],
             [
              0.3333333333333333,
              "#31688e"
             ],
             [
              0.4444444444444444,
              "#26828e"
             ],
             [
              0.5555555555555556,
              "#1f9e89"
             ],
             [
              0.6666666666666666,
              "#35b779"
             ],
             [
              0.7777777777777778,
              "#6ece58"
             ],
             [
              0.8888888888888888,
              "#b5de2b"
             ],
             [
              1,
              "#fde725"
             ]
            ],
            "type": "histogram2dcontour"
           }
          ],
          "mesh3d": [
           {
            "colorbar": {
             "outlinewidth": 1,
             "tickcolor": "rgb(36,36,36)",
             "ticks": "outside"
            },
            "type": "mesh3d"
           }
          ],
          "parcoords": [
           {
            "line": {
             "colorbar": {
              "outlinewidth": 1,
              "tickcolor": "rgb(36,36,36)",
              "ticks": "outside"
             }
            },
            "type": "parcoords"
           }
          ],
          "pie": [
           {
            "automargin": true,
            "type": "pie"
           }
          ],
          "scatter": [
           {
            "fillpattern": {
             "fillmode": "overlay",
             "size": 10,
             "solidity": 0.2
            },
            "type": "scatter"
           }
          ],
          "scatter3d": [
           {
            "line": {
             "colorbar": {
              "outlinewidth": 1,
              "tickcolor": "rgb(36,36,36)",
              "ticks": "outside"
             }
            },
            "marker": {
             "colorbar": {
              "outlinewidth": 1,
              "tickcolor": "rgb(36,36,36)",
              "ticks": "outside"
             }
            },
            "type": "scatter3d"
           }
          ],
          "scattercarpet": [
           {
            "marker": {
             "colorbar": {
              "outlinewidth": 1,
              "tickcolor": "rgb(36,36,36)",
              "ticks": "outside"
             }
            },
            "type": "scattercarpet"
           }
          ],
          "scattergeo": [
           {
            "marker": {
             "colorbar": {
              "outlinewidth": 1,
              "tickcolor": "rgb(36,36,36)",
              "ticks": "outside"
             }
            },
            "type": "scattergeo"
           }
          ],
          "scattergl": [
           {
            "marker": {
             "colorbar": {
              "outlinewidth": 1,
              "tickcolor": "rgb(36,36,36)",
              "ticks": "outside"
             }
            },
            "type": "scattergl"
           }
          ],
          "scattermap": [
           {
            "marker": {
             "colorbar": {
              "outlinewidth": 1,
              "tickcolor": "rgb(36,36,36)",
              "ticks": "outside"
             }
            },
            "type": "scattermap"
           }
          ],
          "scattermapbox": [
           {
            "marker": {
             "colorbar": {
              "outlinewidth": 1,
              "tickcolor": "rgb(36,36,36)",
              "ticks": "outside"
             }
            },
            "type": "scattermapbox"
           }
          ],
          "scatterpolar": [
           {
            "marker": {
             "colorbar": {
              "outlinewidth": 1,
              "tickcolor": "rgb(36,36,36)",
              "ticks": "outside"
             }
            },
            "type": "scatterpolar"
           }
          ],
          "scatterpolargl": [
           {
            "marker": {
             "colorbar": {
              "outlinewidth": 1,
              "tickcolor": "rgb(36,36,36)",
              "ticks": "outside"
             }
            },
            "type": "scatterpolargl"
           }
          ],
          "scatterternary": [
           {
            "marker": {
             "colorbar": {
              "outlinewidth": 1,
              "tickcolor": "rgb(36,36,36)",
              "ticks": "outside"
             }
            },
            "type": "scatterternary"
           }
          ],
          "surface": [
           {
            "colorbar": {
             "outlinewidth": 1,
             "tickcolor": "rgb(36,36,36)",
             "ticks": "outside"
            },
            "colorscale": [
             [
              0,
              "#440154"
             ],
             [
              0.1111111111111111,
              "#482878"
             ],
             [
              0.2222222222222222,
              "#3e4989"
             ],
             [
              0.3333333333333333,
              "#31688e"
             ],
             [
              0.4444444444444444,
              "#26828e"
             ],
             [
              0.5555555555555556,
              "#1f9e89"
             ],
             [
              0.6666666666666666,
              "#35b779"
             ],
             [
              0.7777777777777778,
              "#6ece58"
             ],
             [
              0.8888888888888888,
              "#b5de2b"
             ],
             [
              1,
              "#fde725"
             ]
            ],
            "type": "surface"
           }
          ],
          "table": [
           {
            "cells": {
             "fill": {
              "color": "rgb(237,237,237)"
             },
             "line": {
              "color": "white"
             }
            },
            "header": {
             "fill": {
              "color": "rgb(217,217,217)"
             },
             "line": {
              "color": "white"
             }
            },
            "type": "table"
           }
          ]
         },
         "layout": {
          "annotationdefaults": {
           "arrowhead": 0,
           "arrowwidth": 1
          },
          "autotypenumbers": "strict",
          "coloraxis": {
           "colorbar": {
            "outlinewidth": 1,
            "tickcolor": "rgb(36,36,36)",
            "ticks": "outside"
           }
          },
          "colorscale": {
           "diverging": [
            [
             0,
             "rgb(103,0,31)"
            ],
            [
             0.1,
             "rgb(178,24,43)"
            ],
            [
             0.2,
             "rgb(214,96,77)"
            ],
            [
             0.3,
             "rgb(244,165,130)"
            ],
            [
             0.4,
             "rgb(253,219,199)"
            ],
            [
             0.5,
             "rgb(247,247,247)"
            ],
            [
             0.6,
             "rgb(209,229,240)"
            ],
            [
             0.7,
             "rgb(146,197,222)"
            ],
            [
             0.8,
             "rgb(67,147,195)"
            ],
            [
             0.9,
             "rgb(33,102,172)"
            ],
            [
             1,
             "rgb(5,48,97)"
            ]
           ],
           "sequential": [
            [
             0,
             "#440154"
            ],
            [
             0.1111111111111111,
             "#482878"
            ],
            [
             0.2222222222222222,
             "#3e4989"
            ],
            [
             0.3333333333333333,
             "#31688e"
            ],
            [
             0.4444444444444444,
             "#26828e"
            ],
            [
             0.5555555555555556,
             "#1f9e89"
            ],
            [
             0.6666666666666666,
             "#35b779"
            ],
            [
             0.7777777777777778,
             "#6ece58"
            ],
            [
             0.8888888888888888,
             "#b5de2b"
            ],
            [
             1,
             "#fde725"
            ]
           ],
           "sequentialminus": [
            [
             0,
             "#440154"
            ],
            [
             0.1111111111111111,
             "#482878"
            ],
            [
             0.2222222222222222,
             "#3e4989"
            ],
            [
             0.3333333333333333,
             "#31688e"
            ],
            [
             0.4444444444444444,
             "#26828e"
            ],
            [
             0.5555555555555556,
             "#1f9e89"
            ],
            [
             0.6666666666666666,
             "#35b779"
            ],
            [
             0.7777777777777778,
             "#6ece58"
            ],
            [
             0.8888888888888888,
             "#b5de2b"
            ],
            [
             1,
             "#fde725"
            ]
           ]
          },
          "colorway": [
           "#1F77B4",
           "#FF7F0E",
           "#2CA02C",
           "#D62728",
           "#9467BD",
           "#8C564B",
           "#E377C2",
           "#7F7F7F",
           "#BCBD22",
           "#17BECF"
          ],
          "font": {
           "color": "rgb(36,36,36)"
          },
          "geo": {
           "bgcolor": "white",
           "lakecolor": "white",
           "landcolor": "white",
           "showlakes": true,
           "showland": true,
           "subunitcolor": "white"
          },
          "hoverlabel": {
           "align": "left"
          },
          "hovermode": "closest",
          "mapbox": {
           "style": "light"
          },
          "paper_bgcolor": "white",
          "plot_bgcolor": "white",
          "polar": {
           "angularaxis": {
            "gridcolor": "rgb(232,232,232)",
            "linecolor": "rgb(36,36,36)",
            "showgrid": false,
            "showline": true,
            "ticks": "outside"
           },
           "bgcolor": "white",
           "radialaxis": {
            "gridcolor": "rgb(232,232,232)",
            "linecolor": "rgb(36,36,36)",
            "showgrid": false,
            "showline": true,
            "ticks": "outside"
           }
          },
          "scene": {
           "xaxis": {
            "backgroundcolor": "white",
            "gridcolor": "rgb(232,232,232)",
            "gridwidth": 2,
            "linecolor": "rgb(36,36,36)",
            "showbackground": true,
            "showgrid": false,
            "showline": true,
            "ticks": "outside",
            "zeroline": false,
            "zerolinecolor": "rgb(36,36,36)"
           },
           "yaxis": {
            "backgroundcolor": "white",
            "gridcolor": "rgb(232,232,232)",
            "gridwidth": 2,
            "linecolor": "rgb(36,36,36)",
            "showbackground": true,
            "showgrid": false,
            "showline": true,
            "ticks": "outside",
            "zeroline": false,
            "zerolinecolor": "rgb(36,36,36)"
           },
           "zaxis": {
            "backgroundcolor": "white",
            "gridcolor": "rgb(232,232,232)",
            "gridwidth": 2,
            "linecolor": "rgb(36,36,36)",
            "showbackground": true,
            "showgrid": false,
            "showline": true,
            "ticks": "outside",
            "zeroline": false,
            "zerolinecolor": "rgb(36,36,36)"
           }
          },
          "shapedefaults": {
           "fillcolor": "black",
           "line": {
            "width": 0
           },
           "opacity": 0.3
          },
          "ternary": {
           "aaxis": {
            "gridcolor": "rgb(232,232,232)",
            "linecolor": "rgb(36,36,36)",
            "showgrid": false,
            "showline": true,
            "ticks": "outside"
           },
           "baxis": {
            "gridcolor": "rgb(232,232,232)",
            "linecolor": "rgb(36,36,36)",
            "showgrid": false,
            "showline": true,
            "ticks": "outside"
           },
           "bgcolor": "white",
           "caxis": {
            "gridcolor": "rgb(232,232,232)",
            "linecolor": "rgb(36,36,36)",
            "showgrid": false,
            "showline": true,
            "ticks": "outside"
           }
          },
          "title": {
           "x": 0.05
          },
          "xaxis": {
           "automargin": true,
           "gridcolor": "rgb(232,232,232)",
           "linecolor": "rgb(36,36,36)",
           "showgrid": false,
           "showline": true,
           "ticks": "outside",
           "title": {
            "standoff": 15
           },
           "zeroline": false,
           "zerolinecolor": "rgb(36,36,36)"
          },
          "yaxis": {
           "automargin": true,
           "gridcolor": "rgb(232,232,232)",
           "linecolor": "rgb(36,36,36)",
           "showgrid": false,
           "showline": true,
           "ticks": "outside",
           "title": {
            "standoff": 15
           },
           "zeroline": false,
           "zerolinecolor": "rgb(36,36,36)"
          }
         }
        },
        "title": {
         "text": "Tug-of-War: Relative Effect % on Happiness"
        },
        "xaxis": {
         "title": {
          "text": "Percent of Total Effect"
         }
        }
       }
      }
     },
     "metadata": {},
     "output_type": "display_data"
    }
   ],
   "source": [
    "import plotly.graph_objects as go\n",
    "\n",
    "factors = [\n",
    "    'Life expectancy',\n",
    "    'Education expenditure',\n",
    "    'Unemployment rate',\n",
    "    'Gini index',\n",
    "    'GDP in current USD',\n",
    "    'GNI in current USD'\n",
    "]\n",
    "correlations = [0.77, 0.32, -0.25, -0.22, 0.18, 0.17]\n",
    "\n",
    "abs_vals = [abs(r) for r in correlations]\n",
    "total = sum(abs_vals)\n",
    "percentages = [v / total * 100 for v in abs_vals]\n",
    "\n",
    "bases = [0]\n",
    "for pct in percentages[:-1]:\n",
    "    bases.append(bases[-1] + pct)\n",
    "\n",
    "colors = [\n",
    "    '#256caf',  \n",
    "    '#abd2e5',  \n",
    "    '#fbceb6',  \n",
    "    '#fcd5bf',  \n",
    "    '#d6e7f1',  \n",
    "    '#d6e7f1'   \n",
    "]\n",
    "\n",
    "fig = go.Figure()\n",
    "\n",
    "for factor, pct, base, color in zip(factors, percentages, bases, colors):\n",
    "    fig.add_trace(go.Bar(\n",
    "        x=[pct],\n",
    "        y=['Effect on Happiness (%)'],\n",
    "        name=factor,\n",
    "        orientation='h',\n",
    "        marker_color=color,\n",
    "        base=[base],\n",
    "        hovertemplate=f'{factor}: {pct:.1f}%<extra></extra>'\n",
    "    ))\n",
    "\n",
    "socio_end = bases[3]\n",
    "econ_start = socio_end\n",
    "econ_end = bases[-1] + percentages[-1]\n",
    "\n",
    "fig.add_shape(type=\"rect\",\n",
    "    x0=0, x1=socio_end,\n",
    "    y0=-0.5, y1=0.5,\n",
    "    xref='x', yref='y',\n",
    "    line=dict(color='black', width=2),\n",
    "    fillcolor='rgba(0,0,0,0)'\n",
    ")\n",
    "fig.add_shape(type=\"rect\",\n",
    "    x0=econ_start, x1=econ_end,\n",
    "    y0=-0.5, y1=0.5,\n",
    "    xref='x', yref='y',\n",
    "    line=dict(color='black', width=2),\n",
    "    fillcolor='rgba(0,0,0,0)'\n",
    ")\n",
    "\n",
    "fig.add_annotation(\n",
    "    x=socio_end / 2,\n",
    "    y=0.6,\n",
    "    text=\"Socioeconomic 70.2%\",\n",
    "    showarrow=False,\n",
    "    font=dict(size=12)\n",
    ")\n",
    "fig.add_annotation(\n",
    "    x=(econ_start + econ_end) / 2,\n",
    "    y=0.6,\n",
    "    text=\"Economic 29.8%\",\n",
    "    showarrow=False,\n",
    "    font=dict(size=12)\n",
    ")\n",
    "\n",
    "fig.update_layout(\n",
    "    barmode='stack',\n",
    "    title=\"Tug-of-War: Relative Effect % on Happiness\",\n",
    "    xaxis_title=\"Percent of Total Effect\",\n",
    "    template=\"simple_white\",\n",
    "    showlegend=True,\n",
    "    legend_title=\"Factors\",\n",
    "    height=350,\n",
    "    margin=dict(l=20, r=20, t=60, b=20)\n",
    ")\n",
    "\n",
    "fig.show()\n"
   ]
  },
  {
   "cell_type": "code",
   "execution_count": null,
   "id": "3d5c9d40",
   "metadata": {},
   "outputs": [],
   "source": []
  }
 ],
 "metadata": {
  "kernelspec": {
   "display_name": "jupyterbook",
   "language": "python",
   "name": "python3"
  },
  "language_info": {
   "codemirror_mode": {
    "name": "ipython",
    "version": 3
   },
   "file_extension": ".py",
   "mimetype": "text/x-python",
   "name": "python",
   "nbconvert_exporter": "python",
   "pygments_lexer": "ipython3",
   "version": "3.10.16"
  }
 },
 "nbformat": 4,
 "nbformat_minor": 5
}
