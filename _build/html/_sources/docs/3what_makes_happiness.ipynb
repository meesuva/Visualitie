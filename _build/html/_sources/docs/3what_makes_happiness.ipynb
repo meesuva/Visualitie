{
 "cells": [
  {
   "cell_type": "markdown",
   "id": "f45842d4",
   "metadata": {},
   "source": [
    "# What makes Happiness?"
   ]
  },
  {
   "cell_type": "markdown",
   "id": "f70591b2",
   "metadata": {},
   "source": [
    "For a long time, people have been interested in what makes us happy and how we can improve well-being in society. One big question is whether having more money or wealth actually makes people happier, or if there are other things that matter more. We often hear the saying “money can’t buy happiness,” but the real answer is a bit more complicated than that.\n",
    "\n",
    "In this data story, we will explore how happiness relates to different economic and social factors using information from the World Happiness Report 2019 and World Development Indicators. This report looks at how happy people are in different countries and compares that with demographic variables like GDP per capita, Gross National Income (GNI), the gini index, unemployment rates, education levels, and life expectancy.\n",
    "\n",
    "We want to find out if richer countries really have happier people, and if so, how strong this connection is. But we will also look beyond money to see how things like having a job, going to school, and living a long, healthy life affect happiness. For example, being unemployed might make people less happy even if their country is wealthy, and having a good education could improve well-being in ways that money alone can’t.\n",
    "\n",
    "First, we will compare happiness scores with income indicators like GDP per capita and GNI. Then, we will analyze how unemployment rates relate to happiness. After that, we will look at the gini index, education and life expectancy to see how these factors could affect happiness scores across countries.\n",
    "\n",
    "By comparing these different aspects, we hope to better understand what really contributes to happiness around the world. This will help us see whether the saying “money buys happiness” really holds. And if it doesn’t hold, we could find out what does make happiness.\n"
   ]
  },
  {
   "cell_type": "markdown",
   "id": "623446df",
   "metadata": {},
   "source": [
    "**Money does buy happiness**\n",
    "\n",
    "It is often proposed that greater national wealth leads to higher levels of happiness among citizens. To see wether they are correlated, we analysed how average happiness scores relate to three key economic indicators: Gross Domestic Product (GDP), Gross National Income (GNI), and the Gini Index (Income inequality).\n",
    "\n",
    "\n",
    "\n",
    "The trendlines suggest that countries with higher GDP and GNI often report higher happiness levels. This supports the general belief that wealth leads to happiness due to the fact that wealth increases access to basic needs, and social stability, factors that are positively associated with well-being and happiness. However, the relationship is not linear, and several wealthy countries show only moderate happiness scores, this suggests other factors are still extremely relevant and happiness cannot be predicted by looking at wealth alone. Correlation does not imply causation, and the observed pattern may be influenced by unmeasured factors.\n",
    "\n",
    "The third plot, Happiness vs Gini Index, presents a different insight. Within this dataset, a negative correlation is visible, with happiness tending to decline as income inequality (measured by the Gini Index) increases. . In other words, even among wealthier nations, greater inequality is associated with lower average happiness. This aligns with findings by researchers such as Oishi et al., (2011), who in their research found that americans reported being happier on average in years where the national income inequality was less. This suggests income inequality might be a factor which has impact on the happiness . However income inequality may be acting as a substitute for how people perceive the fairness in society and the level of social mobility people have. Happiness is also a subjective measurement, and cultural differences in how inequality is perceived can vary widely, potentially affecting how people respond in surveys.\n",
    "\n",
    "The plots suggest that while wealth does matter, its distribution may be even more of a factor. Factors such as income equality are likely important to how people will respond to questions about their happiness. "
   ]
  },
  {
   "cell_type": "code",
   "execution_count": 2,
   "id": "4d5f346a",
   "metadata": {
    "tags": [
     "remove-input"
    ]
   },
   "outputs": [
    {
     "data": {
      "text/html": [
       "        <script type=\"text/javascript\">\n",
       "        window.PlotlyConfig = {MathJaxConfig: 'local'};\n",
       "        if (window.MathJax && window.MathJax.Hub && window.MathJax.Hub.Config) {window.MathJax.Hub.Config({SVG: {font: \"STIX-Web\"}});}\n",
       "        </script>\n",
       "        <script type=\"module\">import \"https://cdn.plot.ly/plotly-3.0.1.min\"</script>\n",
       "        "
      ]
     },
     "metadata": {},
     "output_type": "display_data"
    },
    {
     "data": {
      "application/vnd.plotly.v1+json": {
       "config": {
        "plotlyServerURL": "https://plot.ly"
       },
       "data": [
        {
         "customdata": {
          "bdata": "AQACAAMABQAGAAcACQAKAAwADQAOAA8AEAARABIAEwAVABcAHAAdAB4AHwAhACIAJAAmACcAKAAqACsALAAtAC4AMAAxADIANQA2ADcAOAA5ADoAOwA8AD8AQABCAEQARQBIAEkASwBSAFMAVgBdAGQAZgBoAGkAbwByAHQAfQCAAA==",
          "dtype": "i2"
         },
         "hovertemplate": "Country: %{text}<br>Rank: %{customdata} out of 133<br>Gini Index: %{x:.1f}<br>Happiness: %{y:.2f}<extra></extra>",
         "mode": "markers",
         "name": "Gini Index",
         "text": [
          "Finland",
          "Denmark",
          "Norway",
          "Netherlands",
          "Switzerland",
          "Sweden",
          "Canada",
          "Austria",
          "Costa Rica",
          "Israel",
          "Luxembourg",
          "United Kingdom",
          "Ireland",
          "Germany",
          "Belgium",
          "United States",
          "Malta",
          "France",
          "Spain",
          "Panama",
          "Brazil",
          "Uruguay",
          "El Salvador",
          "Italy",
          "Poland",
          "Lithuania",
          "Colombia",
          "Slovenia",
          "Kosovo",
          "Argentina",
          "Romania",
          "Cyprus",
          "Ecuador",
          "Thailand",
          "Latvia",
          "Estonia",
          "Japan",
          "Honduras",
          "Kazakhstan",
          "Bolivia",
          "Hungary",
          "Paraguay",
          "Peru",
          "Portugal",
          "Serbia",
          "Moldova",
          "Montenegro",
          "Croatia",
          "Dominican Republic",
          "Belarus",
          "Greece",
          "North Macedonia",
          "Indonesia",
          "China",
          "Bulgaria",
          "Albania",
          "Armenia",
          "Georgia",
          "Mauritania",
          "Mozambique",
          "Sri Lanka",
          "Ukraine",
          "Uganda",
          "Zimbabwe",
          "Malawi"
         ],
         "type": "scatter",
         "visible": true,
         "x": {
          "bdata": "MzMzMzOzO0AzMzMzM7M7QDMzMzMzsztAMzMzMzMzPUAAAAAAAABBQM3MzMzMTD1AMzMzMzOzP0AzMzMzMzM+QJqZmZmZGUhAZmZmZmYmQ0CamZmZmRlBQGZmZmZmZkBAzczMzMxMPkDNzMzMzMw/QDMzMzMzMztAMzMzMzPzREAAAAAAAAA/QDMzMzMzMz9AZmZmZmYmQUBmZmZmZuZIQAAAAAAAwEpAmpmZmZnZQ0BmZmZmZmZDQM3MzMzMTEFAzczMzMzMPEBmZmZmZqZBQGZmZmZmpklAZmZmZmZmOECamZmZmRlEQGZmZmZmpkVAZmZmZmZmQUAzMzMzMzM/QJqZmZmZ2UZAMzMzMzNzQUAAAAAAAEBBQM3MzMzMzD5AAAAAAACAQECamZmZmRlIQAAAAAAAADxAzczMzMzMREAAAAAAAAA+QJqZmZmZ2UZAAAAAAADAREBmZmZmZmZAQAAAAAAAQEFAAAAAAAAAOkCamZmZmdlBQGZmZmZm5jxAMzMzMzPzREDNzMzMzEw5QM3MzMzMjEBAAAAAAADAQEAzMzMzM7NBQJqZmZmZGUNAZmZmZmYmRECamZmZmRk+QAAAAAAAAD5AMzMzMzPzQUAAAAAAAABAQGZmZmZmJklAmpmZmZnZQkCamZmZmZk6QJqZmZmZWUVAZmZmZmYmSUAAAAAAAEBDQA==",
          "dtype": "f8"
         },
         "y": {
          "bdata": "+n5qvHQTH0BmZmZmZmYeQJ7vp8ZLNx5AwcqhRbbzHUDsUbgehesdQKwcWmQ7Xx1A6SYxCKwcHUCWQ4ts5/scQF66SQwCqxxAdZMYBFaOHEBcj8L1KFwcQJ7vp8ZLNxxAL90kBoEVHEBxPQrXo/AbQP7UeOkmsRtAxSCwcmiRG0CBlUOLbOcaQJHtfD81XhpA0SLb+X5qGUBiEFg5tEgZQDMzMzMzMxlAeekmMQgsGUBQjZduEgMZQDEIrBxa5BhA7nw/NV66GEB/arx0k5gYQAAAAAAAgBhARrbz/dR4GEBmZmZmZmYYQPLSTWIQWBhASOF6FK5HGEDJdr6fGi8YQOkmMQisHBhA1XjpJjEIGEDD9Shcj8IXQN9PjZdukhdAJQaBlUOLF0BxPQrXo3AXQCPb+X5qPBdABFYOLbIdF0DVeOkmMQgXQEa28/3U+BZAfT81XrrJFkASg8DKocUWQLbz/dR4aRZABFYOLbIdFkBkO99PjRcWQO58PzVeuhVAMzMzMzOzFUCYbhKDwEoVQNnO91PjJRVAf2q8dJMYFUD4U+Olm8QUQN0kBoGVwxRAJQaBlUMLFEDHSzeJQeASQCPb+X5qPBJA+n5qvHQTEkD2KFyPwvURQHe+nxov3RFAEFg5tMh2EUCHFtnO91MRQKjGSzeJwRBA5/up8dJNDUBI4XoUrkcLQA==",
          "dtype": "f8"
         }
        },
        {
         "customdata": {
          "bdata": "AQACAAMABAAFAAYABwAIAAkACgALAAwADQAOAA8AEAARABIAEwAUABUAFgAXABgAGQAaABsAHAAdAB4AHwAgACEAIgAjACQAJQAmACcAKAApACoAKwAsAC0ALgAvADAAMQAyADMANAA1ADYANwA4ADkAOgA7ADwAPQA+AD8AQABBAEIAQwBEAEUARgBHAEgASQBKAEsATABNAE4ATwBPAFEAUgBTAFQAVQBWAFcAWABZAFoAWwBcAF0AXgBfAGAAYQBiAGMAZABlAGYAZwBoAGkAagBrAGwAbQBuAG8AcABxAHIAcwB0AHUAdgB3AHgAeQB6AHsAfAB9AH4AfwCAAIEAggCDAIQA",
          "dtype": "i2"
         },
         "hovertemplate": "Country: %{text}<br>Rank: %{customdata} out of 133<br>GDP per Capita: $%{x:,.0f}<br>Happiness: %{y:.2f}<extra></extra>",
         "mode": "markers",
         "name": "GDP per Capita",
         "text": [
          "Finland",
          "Denmark",
          "Norway",
          "Iceland",
          "Netherlands",
          "Switzerland",
          "Sweden",
          "New Zealand",
          "Canada",
          "Austria",
          "Australia",
          "Costa Rica",
          "Israel",
          "Luxembourg",
          "United Kingdom",
          "Ireland",
          "Germany",
          "Belgium",
          "United States",
          "United Arab Emirates",
          "Malta",
          "Mexico",
          "France",
          "Chile",
          "Guatemala",
          "Saudi Arabia",
          "Qatar",
          "Spain",
          "Panama",
          "Brazil",
          "Uruguay",
          "Singapore",
          "El Salvador",
          "Italy",
          "Bahrain",
          "Poland",
          "Uzbekistan",
          "Lithuania",
          "Colombia",
          "Slovenia",
          "Nicaragua",
          "Kosovo",
          "Argentina",
          "Romania",
          "Cyprus",
          "Ecuador",
          "Kuwait",
          "Thailand",
          "Latvia",
          "Estonia",
          "Jamaica",
          "Mauritius",
          "Japan",
          "Honduras",
          "Kazakhstan",
          "Bolivia",
          "Hungary",
          "Paraguay",
          "Peru",
          "Portugal",
          "Pakistan",
          "Philippines",
          "Serbia",
          "Moldova",
          "Libya",
          "Montenegro",
          "Tajikistan",
          "Croatia",
          "Dominican Republic",
          "Bosnia and Herzegovina",
          "Malaysia",
          "Belarus",
          "Greece",
          "Mongolia",
          "North Macedonia",
          "Nigeria",
          "Turkmenistan",
          "Algeria",
          "Morocco",
          "Azerbaijan",
          "Lebanon",
          "Indonesia",
          "China",
          "Bhutan",
          "Cameroon",
          "Bulgaria",
          "Ghana",
          "Nepal",
          "Jordan",
          "Benin",
          "Gabon",
          "South Africa",
          "Albania",
          "Cambodia",
          "Senegal",
          "Somalia",
          "Namibia",
          "Niger",
          "Burkina Faso",
          "Armenia",
          "Guinea",
          "Georgia",
          "Kenya",
          "Mauritania",
          "Mozambique",
          "Tunisia",
          "Bangladesh",
          "Iraq",
          "Mali",
          "Sierra Leone",
          "Sri Lanka",
          "Myanmar",
          "Chad",
          "Ukraine",
          "Ethiopia",
          "Uganda",
          "Zambia",
          "Togo",
          "India",
          "Liberia",
          "Comoros",
          "Madagascar",
          "Lesotho",
          "Burundi",
          "Zimbabwe",
          "Haiti",
          "Botswana",
          "Malawi",
          "Rwanda",
          "Tanzania",
          "Afghanistan",
          "Central African Republic"
         ],
         "type": "scatter",
         "visible": false,
         "x": {
          "bdata": "nLSEaqkVT0JcJ/0N4hpUQtNFkzK+yldCSS6Fqn38FkICD7Hg3QhrQivXEmSe/mRCKXxVwPD5XkIxuJEIVcdIQlKIK+zhX3lC4/VAffjIWUI9KmzzTER0QoG18kov/y1Cvndb00NDV0KOlWt6zEUwQnter+Mov4RCrj8A9KGyV0Jxfe3X38qMQkxftYTYPV9CAIC/+SqXs0Ken6E/iFRYQvs61o93bg5C9uyilyz6ckIUHkUfmc+DQtPdp0DFMlBC1qVKHNT3MUIAAMBsy2doQn+KNPxFiERCUmRGdW5sdEIAAGDoJj8wQjMnONmKQntCmB1esHr5LELdnNGwRfBVQgAAgJT2CBlCe3iSIZ9jfULPRn2jotUiQikcpBBYimFCmMzs6AZWL0KNl2P2D6spQsM1siWMzVJCChdfR5AaKUL4U81sXqcHQtaQl97Gbf1BZs43kRAQWkJcP9PBj0xNQgcfbqvFZRhCAAAIDzYNOUKPAjsC2WVAQrR4FGbiqV9CVGM7ZYnTHkINIIg8S68dQhTQVZ+yfA1CgRUdY8njCkIKYoHSgJ6SQmM/N4liLBdCIUBroBomRUL5kbc1GgsjQlrUlc0wGENCfkyyeQ2pIULy0vnEPZVKQm+CB3gD9EtC0aoAfeytUkJkO8EzG+9VQhUdQf8rFSlCb5L1e4rcBUKdsdfA4x8wQsAEUpJQpfRBNe/00UXs/kFkXeO9gZ8sQl09jqRRtTRCGYTNOW8TE0IGYS90kkFVQpyzvvRI/i1Cb4JvlzAiSEJJHUyvHnYKQkJghKwrewdCgR0nk9yeW0LWtm1ALRAlQqhWhRaMhUZCP3WpJj8EPkI2PDz90G4mQleMtuPoByhCpJwJzvhIcEJmP4PmoPmpQnk7Sf7mYeRBy1Cv48N4IkIOj6IRivUvQtVpv1CF0i9CHRps4Z7WH0JwDgT5K7kkQpZDKKV9zgpCxSDL8lduD0I3EZg1eKlWQuSDWKeOBw1C8nDvOjwVIUKmimCN8ssVQhkEwHoJHwBCCtd7G3VcB0LW1kkTOAIIQjL3+o0K3Q1CW7FZDS9eCUIukMNNDgoJQoGmc6lObRBC+l5vYgVfN0KAK13VCGn9QUJgNVgP5QxCZqZlt4qDI0JK7LJuwnFUQkQrhPflMktC3yDozu4XEEKMIWZPXk34QfEjKMe0uTRCb7Aznzp6MUKP052dYxMFQtvJKnsS6kFCn03qP9ZUNkLP164V1HUgQjjnFC44tRVCOPNVLMIM+kGFcd1tuqGEQgAAgLqgu+hBn6v5QqPO0UHnDDTToEUKQhh9+hrnz+FBXFr621Ey40GmyskggvMXQpoZjOk6+AtCgmKk1YgnD0Iuf16v8JUEQtej4lTuRgNCtdcrD/RqLEKCcygII4IRQsMN7szLjOBB",
          "dtype": "f8"
         },
         "y": {
          "bdata": "+n5qvHQTH0BmZmZmZmYeQJ7vp8ZLNx5AYOXQItv5HUDByqFFtvMdQOxRuB6F6x1ArBxaZDtfHUDufD81XjodQOkmMQisHB1AlkOLbOf7HEC28/3UeOkcQF66SQwCqxxAdZMYBFaOHEBcj8L1KFwcQJ7vp8ZLNxxAL90kBoEVHEBxPQrXo/AbQP7UeOkmsRtAxSCwcmiRG0DNzMzMzEwbQIGVQ4ts5xpA4XoUrkdhGkCR7Xw/NV4aQC2yne+nxhlAWDm0yHa+GUAAAAAAAIAZQOXQItv5fhlA0SLb+X5qGUBiEFg5tEgZQDMzMzMzMxlAeekmMQgsGUA/NV66SQwZQFCNl24SAxlAMQisHFrkGECyne+nxssYQO58PzVeuhhAGQRWDi2yGEB/arx0k5gYQAAAAAAAgBhARrbz/dR4GEDsUbgehWsYQGZmZmZmZhhA8tJNYhBYGEBI4XoUrkcYQMl2vp8aLxhA6SYxCKwcGEAv3SQGgRUYQNV46SYxCBhAw/UoXI/CF0DfT42XbpIXQI/C9ShcjxdAWmQ730+NF0AlBoGVQ4sXQHE9CtejcBdAI9v5fmo8F0AEVg4tsh0XQNV46SYxCBdARrbz/dT4FkB9PzVeuskWQBKDwMqhxRZA6SYxCKycFkCgGi/dJIYWQLbz/dR4aRZABFYOLbIdFkCamZmZmRkWQGQ730+NFxZAke18PzXeFUDufD81XroVQDMzMzMzsxVAJQaBlUOLFUBCYOXQIlsVQJhuEoPAShVA2c73U+MlFUCkcD0K1yMVQH9qvHSTGBVAj8L1KFwPFUCwcmiR7fwUQPLSTWIQ2BRAokW28/3UFECiRbbz/dQUQH0/NV66yRRA+FPjpZvEFEDdJAaBlcMUQIcW2c73UxRAkxgEVg4tFEAlBoGVQwsUQJZDi2zn+xNA9P3UeOmmE0A5tMh2vp8TQNV46SYxiBNAGQRWDi0yE0AX2c73U+MSQMdLN4lB4BJAzczMzMzMEkDTTWIQWLkSQHnpJjEIrBJAdZMYBFaOEkBQjZduEoMSQAwCK4cWWRJAI9v5fmo8EkCJQWDl0CISQPp+arx0ExJA8KfGSzcJEkD2KFyPwvURQHe+nxov3RFA8tJNYhDYEUBt5/up8dIRQHNoke18vxFAj8L1KFyPEUDl0CLb+X4RQBBYObTIdhFAcT0K16NwEUBmZmZmZmYRQIcW2c73UxFAvp8aL90kEUCoxks3icEQQCGwcmiRbRBA16NwPQpXEECPwvUoXA8QQM3MzMzMzA9AYhBYObTID0AQWDm0yHYPQNEi2/l+ag5AMzMzMzMzDkDn+6nx0k0NQC2yne+nxgxAgZVDi2znC0BI4XoUrkcLQHnpJjEIrApADAIrhxbZCUA5tMh2vp8JQESLbOf7qQhA",
          "dtype": "f8"
         }
        },
        {
         "customdata": {
          "bdata": "AQACAAMABAAFAAYABwAIAAkACgALAAwADQAOAA8AEAARABIAEwAUABUAFgAXABgAGQAaABsAHAAdAB4AHwAgACEAIgAjACQAJQAmACcAKAApACoAKwAsAC0ALgAvADAAMQAyADMANAA1ADYANwA4ADkAOgA7ADwAPQA+AD8AQABBAEIAQwBEAEUARgBHAEgASQBKAEsATABNAE4ATwBPAFEAUgBTAFQAVQBWAFcAWABZAFoAWwBcAF0AXgBfAGAAYQBiAGMAZABlAGYAZwBoAGkAagBrAGwAbQBuAG8AcABxAHIAcwB0AHUAdgB3AHgAeQB6AHsAfAB9AH4AfwCAAIEAggCDAIQA",
          "dtype": "i2"
         },
         "hovertemplate": "Country: %{text}<br>Rank: %{customdata} out of 133<br>GNI per Capita: $%{x:,.0f}<br>Happiness: %{y:.2f}<extra></extra>",
         "mode": "markers",
         "name": "GNI per Capita",
         "text": [
          "Finland",
          "Denmark",
          "Norway",
          "Iceland",
          "Netherlands",
          "Switzerland",
          "Sweden",
          "New Zealand",
          "Canada",
          "Austria",
          "Australia",
          "Costa Rica",
          "Israel",
          "Luxembourg",
          "United Kingdom",
          "Ireland",
          "Germany",
          "Belgium",
          "United States",
          "United Arab Emirates",
          "Malta",
          "Mexico",
          "France",
          "Chile",
          "Guatemala",
          "Saudi Arabia",
          "Qatar",
          "Spain",
          "Panama",
          "Brazil",
          "Uruguay",
          "Singapore",
          "El Salvador",
          "Italy",
          "Bahrain",
          "Poland",
          "Uzbekistan",
          "Lithuania",
          "Colombia",
          "Slovenia",
          "Nicaragua",
          "Kosovo",
          "Argentina",
          "Romania",
          "Cyprus",
          "Ecuador",
          "Kuwait",
          "Thailand",
          "Latvia",
          "Estonia",
          "Jamaica",
          "Mauritius",
          "Japan",
          "Honduras",
          "Kazakhstan",
          "Bolivia",
          "Hungary",
          "Paraguay",
          "Peru",
          "Portugal",
          "Pakistan",
          "Philippines",
          "Serbia",
          "Moldova",
          "Libya",
          "Montenegro",
          "Tajikistan",
          "Croatia",
          "Dominican Republic",
          "Bosnia and Herzegovina",
          "Malaysia",
          "Belarus",
          "Greece",
          "Mongolia",
          "North Macedonia",
          "Nigeria",
          "Turkmenistan",
          "Algeria",
          "Morocco",
          "Azerbaijan",
          "Lebanon",
          "Indonesia",
          "China",
          "Bhutan",
          "Cameroon",
          "Bulgaria",
          "Ghana",
          "Nepal",
          "Jordan",
          "Benin",
          "Gabon",
          "South Africa",
          "Albania",
          "Cambodia",
          "Senegal",
          "Somalia",
          "Namibia",
          "Niger",
          "Burkina Faso",
          "Armenia",
          "Guinea",
          "Georgia",
          "Kenya",
          "Mauritania",
          "Mozambique",
          "Tunisia",
          "Bangladesh",
          "Iraq",
          "Mali",
          "Sierra Leone",
          "Sri Lanka",
          "Myanmar",
          "Chad",
          "Ukraine",
          "Ethiopia",
          "Uganda",
          "Zambia",
          "Togo",
          "India",
          "Liberia",
          "Comoros",
          "Madagascar",
          "Lesotho",
          "Burundi",
          "Zimbabwe",
          "Haiti",
          "Botswana",
          "Malawi",
          "Rwanda",
          "Tanzania",
          "Afghanistan",
          "Central African Republic"
         ],
         "type": "scatter",
         "visible": false,
         "x": {
          "bdata": "h5YeWaNrT0LBKs+phbBUQtNF54jghFhChJ7gR8GhF0JUX9dnh/NpQr7DSkf5Q2RCI9t7xwvgX0Jz6BDKhyhIQo9a8h55EnlCzdx0awfOWULNxBNGspVzQi4Q0hYkNSxC3yfHMr0mV0LY4dHEbEsmQmbQ9wLNuYRCP80xowgIUkKPID1hRFuNQvD/W71Dfl9CAIAFcIXLs0JGvnFnQHNYQpkqq3+ikAtCUqAo24VxckLNXDrG90eEQqpRK92ALk9CTYTm6iOkMUJYVQUijaRoQpPYKUrbBERCKSjkLW9TdEIAAEgdYHsuQnvUN+8uh3pCrQlUcy+OK0KasUgdVGVTQgAAAFU4yRdCH5kQl0mAfUIxiMluJcghQjs7jaHt0GBChgk8gcqtL0JfaaXrYqIoQhdJX+B9ZFJCrLycm1jwKEIl9bfS+MgGQmnSmWNDGf5BKaThFfwJWUIncaxTJeJMQjrjNKI6FxdCAABoCNVWOEInwQpc9b9CQnFNpAPhf15CS1kBiCNpH0KHljYwDZMcQkjQVZQsqgxC5x0/++k5DEIfVAriO1mTQgbBblimUhVCXop2qM+BQkKE/jC+dKciQj+VrlIql0JCe9TGwwQfIUIb/z/YI59JQuP12+BgNktCiZmoCVRaUkIrt8d6TyFYQgQHlJdTyidCj8LJ18YBB0J2v8XU84wwQkgKpZ214PRB11JuN47wAUIT8hBAjIcsQjWO7ifLwjNCMKqqyzQLE0InUZG9f7NUQnvUunmPGi1CQlCYZQeuR0I8zl5YiIgHQnDOV9/OZQZCy1mQDloWW0IqSfKpWMMkQjdp5P/8EEZC/ImR6oOQPUKHhwdXmZElQleMtl07cydCSBmrR3eUb0JmNyNq/+apQmcKXh4TrOJBxHFMEE4UIkJGFKngB/UuQl6aNlqDgy5CmRsVynYVIEJtha3HD7okQuPHzzu7rApC/XaE9EjkDEL6ruOFqBhWQg7PPohvpwxCsTBUTixRIEJ65TFhbDoVQl1cCp0EDgBCLGWcY7XJBkKxYWnBZhsJQjlFx3I6jAxCL24U68K3CUKxUDvqp9MIQsiHvSnfXg9Cxe50Bl7/NkIl9cDlQw39Qa5YDHU9YQxC1QeBK1QBI0IMiodqJEhVQkQrJJEkEEtCNABrl0DkDkLqz7Wx2gr4QZ3wg6WEJjRCrzVE6cHpMEKJQWEmccAEQri++YoOI0JCidIxzrExNkIirrn9pAggQtlOmybCVBVCHUnUatoh+kEzsWIJ/m6EQgAAgHnhGOZBxM4UfSvk0UGWsh7l2loJQgtBNGkLQeVB4Sg/iHZA40F6BxMq1IYXQl1tj3LoDwxCulrHI7I/D0LXo/Jx5xYEQrkNHzv7oAJCA1gSPRvyK0LZ/eovL8URQh8Rl4X6xuFB",
          "dtype": "f8"
         },
         "y": {
          "bdata": "+n5qvHQTH0BmZmZmZmYeQJ7vp8ZLNx5AYOXQItv5HUDByqFFtvMdQOxRuB6F6x1ArBxaZDtfHUDufD81XjodQOkmMQisHB1AlkOLbOf7HEC28/3UeOkcQF66SQwCqxxAdZMYBFaOHEBcj8L1KFwcQJ7vp8ZLNxxAL90kBoEVHEBxPQrXo/AbQP7UeOkmsRtAxSCwcmiRG0DNzMzMzEwbQIGVQ4ts5xpA4XoUrkdhGkCR7Xw/NV4aQC2yne+nxhlAWDm0yHa+GUAAAAAAAIAZQOXQItv5fhlA0SLb+X5qGUBiEFg5tEgZQDMzMzMzMxlAeekmMQgsGUA/NV66SQwZQFCNl24SAxlAMQisHFrkGECyne+nxssYQO58PzVeuhhAGQRWDi2yGEB/arx0k5gYQAAAAAAAgBhARrbz/dR4GEDsUbgehWsYQGZmZmZmZhhA8tJNYhBYGEBI4XoUrkcYQMl2vp8aLxhA6SYxCKwcGEAv3SQGgRUYQNV46SYxCBhAw/UoXI/CF0DfT42XbpIXQI/C9ShcjxdAWmQ730+NF0AlBoGVQ4sXQHE9CtejcBdAI9v5fmo8F0AEVg4tsh0XQNV46SYxCBdARrbz/dT4FkB9PzVeuskWQBKDwMqhxRZA6SYxCKycFkCgGi/dJIYWQLbz/dR4aRZABFYOLbIdFkCamZmZmRkWQGQ730+NFxZAke18PzXeFUDufD81XroVQDMzMzMzsxVAJQaBlUOLFUBCYOXQIlsVQJhuEoPAShVA2c73U+MlFUCkcD0K1yMVQH9qvHSTGBVAj8L1KFwPFUCwcmiR7fwUQPLSTWIQ2BRAokW28/3UFECiRbbz/dQUQH0/NV66yRRA+FPjpZvEFEDdJAaBlcMUQIcW2c73UxRAkxgEVg4tFEAlBoGVQwsUQJZDi2zn+xNA9P3UeOmmE0A5tMh2vp8TQNV46SYxiBNAGQRWDi0yE0AX2c73U+MSQMdLN4lB4BJAzczMzMzMEkDTTWIQWLkSQHnpJjEIrBJAdZMYBFaOEkBQjZduEoMSQAwCK4cWWRJAI9v5fmo8EkCJQWDl0CISQPp+arx0ExJA8KfGSzcJEkD2KFyPwvURQHe+nxov3RFA8tJNYhDYEUBt5/up8dIRQHNoke18vxFAj8L1KFyPEUDl0CLb+X4RQBBYObTIdhFAcT0K16NwEUBmZmZmZmYRQIcW2c73UxFAvp8aL90kEUCoxks3icEQQCGwcmiRbRBA16NwPQpXEECPwvUoXA8QQM3MzMzMzA9AYhBYObTID0AQWDm0yHYPQNEi2/l+ag5AMzMzMzMzDkDn+6nx0k0NQC2yne+nxgxAgZVDi2znC0BI4XoUrkcLQHnpJjEIrApADAIrhxbZCUA5tMh2vp8JQESLbOf7qQhA",
          "dtype": "f8"
         }
        },
        {
         "hoverinfo": "skip",
         "line": {
          "color": "blue",
          "dash": "dash"
         },
         "mode": "lines",
         "name": "Trend Line",
         "type": "scatter",
         "visible": true,
         "x": {
          "bdata": "ZmZmZmZmOEAxYBoDprE4QPxZzp/l/DhAyFOCPCVIOUCTTTbZZJM5QF5H6nWk3jlAKkGeEuQpOkD1OlKvI3U6QMA0BkxjwDpAiy666KILO0BWKG6F4lY7QCIiIiIiojtA7RvWvmHtO0C4FYpboTg8QIQPPvjggzxATwnylCDPPEAaA6YxYBo9QOX8Wc6fZT1AsPYNa9+wPUB88MEHH/w9QEfqdaReRz5AEuQpQZ6SPkDe3d3d3d0+QKnXkXodKT9AdNFFF110P0A/y/mznL8/QIXiVihuBUBAa9+w9g0rQEBQ3ArFrVBAQDbZZJNNdkBAHNa+Ye2bQEAC0xgwjcFAQOfPcv4s50BAzMzMzMwMQUCyySabbDJBQJjGgGkMWEFAfsPaN6x9QUBjwDQGTKNBQEm9jtTryEFALrrooovuQUAUt0JxKxRCQPqznD/LOUJA37D2DWtfQkDFrVDcCoVCQKqqqqqqqkJAkKcEeUrQQkB2pF5H6vVCQFyhuBWKG0NAQZ4S5ClBQ0Amm2yyyWZDQAyYxoBpjENA8pQgTwmyQ0DYkXodqddDQL2O1OtI/UNAo4suuugiRECIiIiIiEhEQG6F4lYobkRAVII8JciTREA5f5bzZ7lEQB988MEH30RABHlKkKcERUDqdaReRypFQNBy/iznT0VAtm9Y+4Z1RUCbbLLJJptFQIBpDJjGwEVAZmZmZmbmRUBMY8A0BgxGQDJgGgOmMUZAF1100UVXRkD9Wc6f5XxGQOJWKG6FokZAyFOCPCXIRkCuUNwKxe1GQJNNNtlkE0dAeUqQpwQ5R0BeR+p1pF5HQEREREREhEdAKkGeEuSpR0AQPvjgg89HQPU6Uq8j9UdA2jesfcMaSEDANAZMY0BIQKYxYBoDZkhAjC666KKLSEBxKxS3QrFIQFcoboXi1khAPCXIU4L8SEAiIiIiIiJJQAgffPDBR0lA7RvWvmFtSUDTGDCNAZNJQLgViluhuElAnhLkKUHeSUCEDz744ANKQGoMmMaAKUpATwnylCBPSkA0BkxjwHRKQBoDpjFgmkpAAAAAAADASkA=",
          "dtype": "f8"
         },
         "y": {
          "bdata": "zRbCRItBGUCLfPJQJjgZQEniIl3BLhlAB0hTaVwlGUDFrYN19xsZQIMTtIGSEhlAQHnkjS0JGUD+3hSayP8YQLxERaZj9hhAeqp1sv7sGEA4EKa+meMYQPZ11so02hhAtNsG18/QGEByQTfjascYQDCnZ+8FvhhA7gyY+6C0GECscsgHPKsYQGrY+BPXoRhAKD4pIHKYGEDmo1ksDY8YQKQJijiohRhAYm+6REN8GEAg1epQ3nIYQN46G115aRhAnKBLaRRgGEBaBnx1r1YYQBhsrIFKTRhA1tHcjeVDGECUNw2agDoYQFKdPaYbMRhAEANusrYnGEDOaJ6+UR4YQIzOzsrsFBhASjT/1ocLGEAImi/jIgIYQMb/X++9+BdAg2WQ+1jvF0BCy8AH9OUXQP8w8ROP3BdAvpYhICrTF0B7/FEsxckXQDligjhgwBdA98eyRPu2F0C1LeNQlq0XQHOTE10xpBdAMflDacyaF0DvXnR1Z5EXQK3EpIECiBdAayrVjZ1+F0ApkAWaOHUXQOf1NabTaxdApVtmsm5iF0BjwZa+CVkXQCEnx8qkTxdA34z31j9GF0Cd8ifj2jwXQFtYWO91MxdAGL6I+xAqF0DXI7kHrCAXQJSJ6RNHFxdAU+8ZIOINF0AQVUosfQQXQM66ejgY+xZAjCCrRLPxFkBKhttQTugWQAjsC13p3hZAxlE8aYTVFkCEt2x1H8wWQEIdnYG6whZAAIPNjVW5FkC+6P2Z8K8WQHxOLqaLphZAOrResiadFkD4GY++wZMWQLZ/v8pcihZAdOXv1veAFkAySyDjkncWQPCwUO8tbhZArhaB+8hkFkBsfLEHZFsWQCri4RP/URZA6EcSIJpIFkCmrUIsNT8WQGQTczjQNRZAInmjRGssFkDg3tNQBiMWQJ5EBF2hGRZAXKo0aTwQFkAaEGV11wYWQNd1lYFy/RVAltvFjQ30FUBTQfaZqOoVQBKnJqZD4RVAzwxXst7XFUCNcoe+ec4VQEvYt8oUxRVACT7o1q+7FUDHoxjjSrIVQIUJSe/lqBVAQ295+4CfFUA=",
          "dtype": "f8"
         }
        },
        {
         "hoverinfo": "skip",
         "line": {
          "color": "blue",
          "dash": "dash"
         },
         "mode": "lines",
         "name": "Trend Line",
         "type": "scatter",
         "visible": false,
         "x": {
          "bdata": "n6v5QqPO0UGejvAWg3dJQvOUrXO0ZVlCS3HxrdMHY0IdGAwizVxpQu++JpbGsW9C4LIgBWADc0JJBi6/3C12QrJZO3lZWHlCG61IM9aCfEKEAFbtUq1/QvapsdPna4FCqlO4MCYBg0Jf/b6NZJaEQhOnxeqiK4ZCyFDMR+HAh0J8+tKkH1aJQjCk2QFe64pC5U3gXpyAjEKZ9+a72hWOQk6h7RgZq49CgiX6uiugkEJcen3pymqRQjbPABhqNZJCECSERgkAk0LqeAd1qMqTQsXNiqNHlZRCnyIO0uZflUJ5d5EAhiqWQlPMFC8l9ZZCLiGYXcS/l0IIdhuMY4qYQuLKnroCVZlCvB8i6aEfmkKWdKUXQeqaQnHJKEbgtJtCSx6sdH9/nEIlcy+jHkqdQv/HstG9FJ5C2hw2AF3fnkK0cbku/KmfQkZjnq5NOqBCtA3gRZ2foEIhuCHd7AShQo5iY3Q8aqFC+wylC4zPoUJot+ai2zSiQtVhKDormqJCQgxq0Xr/okKvtqtoymSjQhxh7f8ZyqNCigsvl2kvpEL3tXAuuZSkQmRgssUI+qRC0Qr0XFhfpUI+tTX0p8SlQqtfd4v3KaZCGAq5IkePpkKFtPq5lvSmQvJePFHmWadCYAl+6DW/p0LNs79/hSSoQjpeARfViahCpwhDriTvqEIUs4RFdFSpQoFdxtzDualC7gcIdBMfqkJbskkLY4SqQshci6Ky6apCNgfNOQJPq0KjsQ7RUbSrQhBcUGihGaxCfQaS//B+rELqsNOWQOSsQldbFS6QSa1CxAVXxd+urUIxsJhcLxSuQp5a2vN+ea5CDAUci87erkJ5r10iHkSvQuZZn7ltqa9CKoJwqF4HsEJgVxF0BjqwQpcssj+ubLBCzgFTC1afsEIE1/PW/dGwQjuslKKlBLFCcYE1bk03sUKoVtY59WmxQt4rdwWdnLFCFQEY0UTPsUJL1ric7AGyQoKrWWiUNLJCuYD6MzxnskLvVZv/45myQiYrPMuLzLJCXADdljP/skKT1X1i2zGzQsmqHi6DZLNCAIC/+SqXs0I=",
          "dtype": "f8"
         },
         "y": {
          "bdata": "gml0XjW6FUC29Gm0Fc0VQOp/Xwr23xVAHwtVYNbyFUBTlkq2tgUWQIchQAyXGBZAu6w1YncrFkDvNyu4Vz4WQCPDIA44URZAV04WZBhkFkCM2Qu6+HYWQMBkARDZiRZA9O/2ZbmcFkAoe+y7ma8WQFwG4hF6whZAkJHXZ1rVFkDFHM29OugWQPmnwhMb+xZALTO4afsNF0Bhvq2/2yAXQJVJoxW8MxdAydSYa5xGF0D+X47BfFkXQDLrgxddbBdAZnZ5bT1/F0CaAW/DHZIXQM6MZBn+pBdAAhhab963F0A2o0/FvsoXQGsuRRuf3RdAn7k6cX/wF0DTRDDHXwMYQAfQJR1AFhhAO1sbcyApGEBv5hDJADwYQKRxBh/hThhA2Pz7dMFhGEAMiPHKoXQYQEAT5yCChxhAdJ7cdmKaGECoKdLMQq0YQNy0xyIjwBhAEUC9eAPTGEBFy7LO4+UYQHlWqCTE+BhAreGdeqQLGUDhbJPQhB4ZQBX4iCZlMRlASoN+fEVEGUB+DnTSJVcZQLKZaSgGahlA5iRffuZ8GUAasFTUxo8ZQE47SiqnohlAgsY/gIe1GUC3UTXWZ8gZQOvcKixI2xlAH2gggijuGUBT8xXYCAEaQId+Cy7pExpAvAkBhMkmGkDwlPbZqTkaQCQg7C+KTBpAWKvhhWpfGkCMNtfbSnIaQMDBzDErhRpA9EzChwuYGkAo2Lfd66oaQF1jrTPMvRpAke6iiazQGkDFeZjfjOMaQPkEjjVt9hpALpCDi00JG0BiG3nhLRwbQJambjcOLxtAyjFkje5BG0D+vFnjzlQbQDJITzmvZxtAZtNEj496G0CaXjrlb40bQM/pLztQoBtAA3UlkTCzG0A3ABvnEMYbQGuLED3x2BtAoBYGk9HrG0DUofvosf4bQAgt8T6SERxAPLjmlHIkHEBwQ9zqUjccQKTO0UAzShxA2FnHlhNdHEAM5bzs828cQEFwskLUghxAdfunmLSVHECphp3ulKgcQN0Rk0R1uxxAEZ2ImlXOHEBGKH7wNeEcQHqzc0YW9BxArj5pnPYGHUA=",
          "dtype": "f8"
         }
        },
        {
         "hoverinfo": "skip",
         "line": {
          "color": "blue",
          "dash": "dash"
         },
         "mode": "lines",
         "name": "Trend Line",
         "type": "scatter",
         "visible": false,
         "x": {
          "bdata": "xM4UfSvk0UECupQnXrtJQjOlF/x5qVlCsnYycqI6Y0LLGlnmh6BpQnLfP602A3BCfzFTZyk2c0KMg2YhHGl2QpjVedsOnHlCpCeNlQHPfELYPNAn+gCAQt/l2YRzmoFC5Y7j4ewzg0LrN+0+Zs2EQvLg9pvfZoZC+IkA+VgAiEL+MgpW0pmJQgTcE7NLM4tCCoUdEMXMjEIRLidtPmaOQhfXMMq3/49CD0Cdk5jMkEKSFCJCVZmRQhXppvARZpJCmL0rn84yk0IbkrBNi/+TQp5mNfxHzJRCITu6qgSZlUKlDz9ZwWWWQijkwwd+MpdCq7hItjr/l0Iujc1k98uYQrFhUhO0mJlCNDbXwXBlmkK3ClxwLTKbQjrf4B7q/ptCvbNlzabLnEJBiOp7Y5idQsRcbyogZZ5CRzH02Nwxn0LKBXmHmf6fQibt/hqrZaBCaFdBcgnMoEKpwYPJZzKhQusrxiDGmKFCLJYIeCT/oUJuAEvPgmWiQq9qjSbhy6JC8dTPfT8yo0IzPxLVnZijQnSpVCz8/qNCthOXg1plpEL3fdnauMukQjnoGzIXMqVCelJeiXWYpUK8vKDg0/6lQv4m4zcyZaZCP5Elj5DLpkKB+2fm7jGnQsJlqj1NmKdCBNDslKv+p0JFOi/sCWWoQoekcUNoy6hCyA60msYxqUIKefbxJJipQkzjOEmD/qlCjU17oOFkqkLPt733P8uqQhAiAE+eMatCUoxCpvyXq0KT9oT9Wv6rQtVgx1S5ZKxCFssJrBfLrEJYNUwDdjGtQpqfjlrUl61C2wnRsTL+rUIddBMJkWSuQl7eVWDvyq5CoEiYt00xr0LhstoOrJevQiMdHWYK/q9CssOvXjQysELT+FCKY2WwQvQt8rWSmLBCFWOT4cHLsEI1mDQN8f6wQlbN1TggMrFCdwJ3ZE9lsUKYNxiQfpixQrlsubuty7FC2aFa59z+sUL61vsSDDKyQhsMnT47ZbJCPEE+amqYskJcdt+VmcuyQn2rgMHI/rJCnuAh7fcxs0K/FcMYJ2WzQuBKZERWmLNCAIAFcIXLs0I=",
          "dtype": "f8"
         },
         "y": {
          "bdata": "4B7hB+i6FUCMxuEZvM0VQDhu4iuQ4BVA4xXjPWTzFUCPveNPOAYWQDtl5GEMGRZA5gzlc+ArFkCStOWFtD4WQD5c5peIURZA6QPnqVxkFkCVq+e7MHcWQEFT6M0EihZA7Pro39icFkCYounxrK8WQERK6gOBwhZA7/HqFVXVFkCbmesnKegWQEZB7Dn9+hZA8ujsS9ENF0CekO1dpSAXQEk47m95MxdA9d/ugU1GF0Chh++TIVkXQEwv8KX1axdA+Nbwt8l+F0CkfvHJnZEXQE8m8ttxpBdA+83y7UW3F0CndfP/GcoXQFId9BHu3BdA/sT0I8LvF0CqbPU1lgIYQFUU9kdqFRhAAbz2WT4oGECsY/drEjsYQFgL+H3mTRhABLP4j7pgGECwWvmhjnMYQFsC+rNihhhAB6r6xTaZGECyUfvXCqwYQF75++nevhhACqH8+7LRGEC1SP0Nh+QYQGHw/R9b9xhADZj+MS8KGUC4P/9DAx0ZQGTn/1XXLxlAEI8AaKtCGUC7NgF6f1UZQGfeAYxTaBlAE4YCnid7GUC+LQOw+40ZQGrVA8LPoBlAFX0E1KOzGUDBJAXmd8YZQG3MBfhL2RlAGHQGCiDsGUDEGwcc9P4ZQHDDBy7IERpAHGsIQJwkGkDHEglScDcaQHO6CWREShpAHmIKdhhdGkDKCQuI7G8aQHaxC5rAghpAIVkMrJSVGkDNAA2+aKgaQHioDdA8uxpAJFAO4hDOGkDQ9w705OAaQHyfDwa58xpAJ0cQGI0GG0DT7hAqYRkbQH6WETw1LBtAKj4STgk/G0DW5RJg3VEbQIKNE3KxZBtALTUUhIV3G0DZ3BSWWYobQISEFagtnRtAMCwWugGwG0Dc0xbM1cIbQIh7F96p1RtAMyMY8H3oG0DeyhgCUvsbQIpyGRQmDhxANhoaJvogHEDiwRo4zjMcQI5pG0qiRhxAOREcXHZZHEDkuBxuSmwcQJBgHYAefxxAPAgekvKRHEDnrx6kxqQcQJNXH7aatxxAP/8fyG7KHEDqpiDaQt0cQJZOIewW8BxAQvYh/uoCHUA=",
          "dtype": "f8"
         }
        }
       ],
       "layout": {
        "autosize": false,
        "height": 600,
        "hoverlabel": {
         "font": {
          "color": "black",
          "size": 12
         }
        },
        "legend": {
         "borderwidth": 0,
         "font": {
          "color": "black",
          "size": 12
         },
         "x": 0.01,
         "y": 0.99
        },
        "margin": {
         "b": 80,
         "l": 80,
         "r": 80,
         "t": 80
        },
        "paper_bgcolor": "#EDF1EC",
        "plot_bgcolor": "#EDF1EC",
        "showlegend": true,
        "sliders": [
         {
          "active": 0,
          "currentvalue": {
           "prefix": "Metric: "
          },
          "len": 0.9,
          "pad": {
           "t": 50
          },
          "steps": [
           {
            "args": [
             {
              "visible": [
               true,
               false,
               false,
               true,
               false,
               false
              ]
             },
             {
              "title": "Happiness vs Gini Index",
              "xaxis": {
               "fixedrange": true,
               "range": [
                24.4,
                53.5
               ],
               "title": "Gini Index"
              },
              "yaxis": {
               "fixedrange": true,
               "range": [
                2.853,
                7.769
               ],
               "title": "Happiness"
              }
             }
            ],
            "label": "Gini Index",
            "method": "update"
           },
           {
            "args": [
             {
              "visible": [
               false,
               true,
               false,
               false,
               true,
               false
              ]
             },
             {
              "title": "Happiness vs GDP per Capita",
              "xaxis": {
               "fixedrange": true,
               "range": [
                1195019531.9011,
                500000000000
               ],
               "title": "GDP per Capita (USD)"
              },
              "yaxis": {
               "fixedrange": true,
               "range": [
                2.853,
                7.769
               ],
               "title": "Happiness"
              }
             }
            ],
            "label": "GDP per Capita",
            "method": "update"
           },
           {
            "args": [
             {
              "visible": [
               false,
               false,
               true,
               false,
               false,
               true
              ]
             },
             {
              "title": "Happiness vs GNI per Capita",
              "xaxis": {
               "fixedrange": true,
               "range": [
                1200664052.32512,
                500000000000
               ],
               "title": "GNI per Capita (USD)"
              },
              "yaxis": {
               "fixedrange": true,
               "range": [
                2.853,
                7.769
               ],
               "title": "Happiness"
              }
             }
            ],
            "label": "GNI per Capita",
            "method": "update"
           }
          ],
          "x": 0.1,
          "xanchor": "left"
         }
        ],
        "template": {
         "data": {
          "bar": [
           {
            "error_x": {
             "color": "#2a3f5f"
            },
            "error_y": {
             "color": "#2a3f5f"
            },
            "marker": {
             "line": {
              "color": "#E5ECF6",
              "width": 0.5
             },
             "pattern": {
              "fillmode": "overlay",
              "size": 10,
              "solidity": 0.2
             }
            },
            "type": "bar"
           }
          ],
          "barpolar": [
           {
            "marker": {
             "line": {
              "color": "#E5ECF6",
              "width": 0.5
             },
             "pattern": {
              "fillmode": "overlay",
              "size": 10,
              "solidity": 0.2
             }
            },
            "type": "barpolar"
           }
          ],
          "carpet": [
           {
            "aaxis": {
             "endlinecolor": "#2a3f5f",
             "gridcolor": "white",
             "linecolor": "white",
             "minorgridcolor": "white",
             "startlinecolor": "#2a3f5f"
            },
            "baxis": {
             "endlinecolor": "#2a3f5f",
             "gridcolor": "white",
             "linecolor": "white",
             "minorgridcolor": "white",
             "startlinecolor": "#2a3f5f"
            },
            "type": "carpet"
           }
          ],
          "choropleth": [
           {
            "colorbar": {
             "outlinewidth": 0,
             "ticks": ""
            },
            "type": "choropleth"
           }
          ],
          "contour": [
           {
            "colorbar": {
             "outlinewidth": 0,
             "ticks": ""
            },
            "colorscale": [
             [
              0,
              "#0d0887"
             ],
             [
              0.1111111111111111,
              "#46039f"
             ],
             [
              0.2222222222222222,
              "#7201a8"
             ],
             [
              0.3333333333333333,
              "#9c179e"
             ],
             [
              0.4444444444444444,
              "#bd3786"
             ],
             [
              0.5555555555555556,
              "#d8576b"
             ],
             [
              0.6666666666666666,
              "#ed7953"
             ],
             [
              0.7777777777777778,
              "#fb9f3a"
             ],
             [
              0.8888888888888888,
              "#fdca26"
             ],
             [
              1,
              "#f0f921"
             ]
            ],
            "type": "contour"
           }
          ],
          "contourcarpet": [
           {
            "colorbar": {
             "outlinewidth": 0,
             "ticks": ""
            },
            "type": "contourcarpet"
           }
          ],
          "heatmap": [
           {
            "colorbar": {
             "outlinewidth": 0,
             "ticks": ""
            },
            "colorscale": [
             [
              0,
              "#0d0887"
             ],
             [
              0.1111111111111111,
              "#46039f"
             ],
             [
              0.2222222222222222,
              "#7201a8"
             ],
             [
              0.3333333333333333,
              "#9c179e"
             ],
             [
              0.4444444444444444,
              "#bd3786"
             ],
             [
              0.5555555555555556,
              "#d8576b"
             ],
             [
              0.6666666666666666,
              "#ed7953"
             ],
             [
              0.7777777777777778,
              "#fb9f3a"
             ],
             [
              0.8888888888888888,
              "#fdca26"
             ],
             [
              1,
              "#f0f921"
             ]
            ],
            "type": "heatmap"
           }
          ],
          "histogram": [
           {
            "marker": {
             "pattern": {
              "fillmode": "overlay",
              "size": 10,
              "solidity": 0.2
             }
            },
            "type": "histogram"
           }
          ],
          "histogram2d": [
           {
            "colorbar": {
             "outlinewidth": 0,
             "ticks": ""
            },
            "colorscale": [
             [
              0,
              "#0d0887"
             ],
             [
              0.1111111111111111,
              "#46039f"
             ],
             [
              0.2222222222222222,
              "#7201a8"
             ],
             [
              0.3333333333333333,
              "#9c179e"
             ],
             [
              0.4444444444444444,
              "#bd3786"
             ],
             [
              0.5555555555555556,
              "#d8576b"
             ],
             [
              0.6666666666666666,
              "#ed7953"
             ],
             [
              0.7777777777777778,
              "#fb9f3a"
             ],
             [
              0.8888888888888888,
              "#fdca26"
             ],
             [
              1,
              "#f0f921"
             ]
            ],
            "type": "histogram2d"
           }
          ],
          "histogram2dcontour": [
           {
            "colorbar": {
             "outlinewidth": 0,
             "ticks": ""
            },
            "colorscale": [
             [
              0,
              "#0d0887"
             ],
             [
              0.1111111111111111,
              "#46039f"
             ],
             [
              0.2222222222222222,
              "#7201a8"
             ],
             [
              0.3333333333333333,
              "#9c179e"
             ],
             [
              0.4444444444444444,
              "#bd3786"
             ],
             [
              0.5555555555555556,
              "#d8576b"
             ],
             [
              0.6666666666666666,
              "#ed7953"
             ],
             [
              0.7777777777777778,
              "#fb9f3a"
             ],
             [
              0.8888888888888888,
              "#fdca26"
             ],
             [
              1,
              "#f0f921"
             ]
            ],
            "type": "histogram2dcontour"
           }
          ],
          "mesh3d": [
           {
            "colorbar": {
             "outlinewidth": 0,
             "ticks": ""
            },
            "type": "mesh3d"
           }
          ],
          "parcoords": [
           {
            "line": {
             "colorbar": {
              "outlinewidth": 0,
              "ticks": ""
             }
            },
            "type": "parcoords"
           }
          ],
          "pie": [
           {
            "automargin": true,
            "type": "pie"
           }
          ],
          "scatter": [
           {
            "fillpattern": {
             "fillmode": "overlay",
             "size": 10,
             "solidity": 0.2
            },
            "type": "scatter"
           }
          ],
          "scatter3d": [
           {
            "line": {
             "colorbar": {
              "outlinewidth": 0,
              "ticks": ""
             }
            },
            "marker": {
             "colorbar": {
              "outlinewidth": 0,
              "ticks": ""
             }
            },
            "type": "scatter3d"
           }
          ],
          "scattercarpet": [
           {
            "marker": {
             "colorbar": {
              "outlinewidth": 0,
              "ticks": ""
             }
            },
            "type": "scattercarpet"
           }
          ],
          "scattergeo": [
           {
            "marker": {
             "colorbar": {
              "outlinewidth": 0,
              "ticks": ""
             }
            },
            "type": "scattergeo"
           }
          ],
          "scattergl": [
           {
            "marker": {
             "colorbar": {
              "outlinewidth": 0,
              "ticks": ""
             }
            },
            "type": "scattergl"
           }
          ],
          "scattermap": [
           {
            "marker": {
             "colorbar": {
              "outlinewidth": 0,
              "ticks": ""
             }
            },
            "type": "scattermap"
           }
          ],
          "scattermapbox": [
           {
            "marker": {
             "colorbar": {
              "outlinewidth": 0,
              "ticks": ""
             }
            },
            "type": "scattermapbox"
           }
          ],
          "scatterpolar": [
           {
            "marker": {
             "colorbar": {
              "outlinewidth": 0,
              "ticks": ""
             }
            },
            "type": "scatterpolar"
           }
          ],
          "scatterpolargl": [
           {
            "marker": {
             "colorbar": {
              "outlinewidth": 0,
              "ticks": ""
             }
            },
            "type": "scatterpolargl"
           }
          ],
          "scatterternary": [
           {
            "marker": {
             "colorbar": {
              "outlinewidth": 0,
              "ticks": ""
             }
            },
            "type": "scatterternary"
           }
          ],
          "surface": [
           {
            "colorbar": {
             "outlinewidth": 0,
             "ticks": ""
            },
            "colorscale": [
             [
              0,
              "#0d0887"
             ],
             [
              0.1111111111111111,
              "#46039f"
             ],
             [
              0.2222222222222222,
              "#7201a8"
             ],
             [
              0.3333333333333333,
              "#9c179e"
             ],
             [
              0.4444444444444444,
              "#bd3786"
             ],
             [
              0.5555555555555556,
              "#d8576b"
             ],
             [
              0.6666666666666666,
              "#ed7953"
             ],
             [
              0.7777777777777778,
              "#fb9f3a"
             ],
             [
              0.8888888888888888,
              "#fdca26"
             ],
             [
              1,
              "#f0f921"
             ]
            ],
            "type": "surface"
           }
          ],
          "table": [
           {
            "cells": {
             "fill": {
              "color": "#EBF0F8"
             },
             "line": {
              "color": "white"
             }
            },
            "header": {
             "fill": {
              "color": "#C8D4E3"
             },
             "line": {
              "color": "white"
             }
            },
            "type": "table"
           }
          ]
         },
         "layout": {
          "annotationdefaults": {
           "arrowcolor": "#2a3f5f",
           "arrowhead": 0,
           "arrowwidth": 1
          },
          "autotypenumbers": "strict",
          "coloraxis": {
           "colorbar": {
            "outlinewidth": 0,
            "ticks": ""
           }
          },
          "colorscale": {
           "diverging": [
            [
             0,
             "#8e0152"
            ],
            [
             0.1,
             "#c51b7d"
            ],
            [
             0.2,
             "#de77ae"
            ],
            [
             0.3,
             "#f1b6da"
            ],
            [
             0.4,
             "#fde0ef"
            ],
            [
             0.5,
             "#f7f7f7"
            ],
            [
             0.6,
             "#e6f5d0"
            ],
            [
             0.7,
             "#b8e186"
            ],
            [
             0.8,
             "#7fbc41"
            ],
            [
             0.9,
             "#4d9221"
            ],
            [
             1,
             "#276419"
            ]
           ],
           "sequential": [
            [
             0,
             "#0d0887"
            ],
            [
             0.1111111111111111,
             "#46039f"
            ],
            [
             0.2222222222222222,
             "#7201a8"
            ],
            [
             0.3333333333333333,
             "#9c179e"
            ],
            [
             0.4444444444444444,
             "#bd3786"
            ],
            [
             0.5555555555555556,
             "#d8576b"
            ],
            [
             0.6666666666666666,
             "#ed7953"
            ],
            [
             0.7777777777777778,
             "#fb9f3a"
            ],
            [
             0.8888888888888888,
             "#fdca26"
            ],
            [
             1,
             "#f0f921"
            ]
           ],
           "sequentialminus": [
            [
             0,
             "#0d0887"
            ],
            [
             0.1111111111111111,
             "#46039f"
            ],
            [
             0.2222222222222222,
             "#7201a8"
            ],
            [
             0.3333333333333333,
             "#9c179e"
            ],
            [
             0.4444444444444444,
             "#bd3786"
            ],
            [
             0.5555555555555556,
             "#d8576b"
            ],
            [
             0.6666666666666666,
             "#ed7953"
            ],
            [
             0.7777777777777778,
             "#fb9f3a"
            ],
            [
             0.8888888888888888,
             "#fdca26"
            ],
            [
             1,
             "#f0f921"
            ]
           ]
          },
          "colorway": [
           "#636efa",
           "#EF553B",
           "#00cc96",
           "#ab63fa",
           "#FFA15A",
           "#19d3f3",
           "#FF6692",
           "#B6E880",
           "#FF97FF",
           "#FECB52"
          ],
          "font": {
           "color": "#2a3f5f"
          },
          "geo": {
           "bgcolor": "white",
           "lakecolor": "white",
           "landcolor": "#E5ECF6",
           "showlakes": true,
           "showland": true,
           "subunitcolor": "white"
          },
          "hoverlabel": {
           "align": "left"
          },
          "hovermode": "closest",
          "mapbox": {
           "style": "light"
          },
          "paper_bgcolor": "white",
          "plot_bgcolor": "#E5ECF6",
          "polar": {
           "angularaxis": {
            "gridcolor": "white",
            "linecolor": "white",
            "ticks": ""
           },
           "bgcolor": "#E5ECF6",
           "radialaxis": {
            "gridcolor": "white",
            "linecolor": "white",
            "ticks": ""
           }
          },
          "scene": {
           "xaxis": {
            "backgroundcolor": "#E5ECF6",
            "gridcolor": "white",
            "gridwidth": 2,
            "linecolor": "white",
            "showbackground": true,
            "ticks": "",
            "zerolinecolor": "white"
           },
           "yaxis": {
            "backgroundcolor": "#E5ECF6",
            "gridcolor": "white",
            "gridwidth": 2,
            "linecolor": "white",
            "showbackground": true,
            "ticks": "",
            "zerolinecolor": "white"
           },
           "zaxis": {
            "backgroundcolor": "#E5ECF6",
            "gridcolor": "white",
            "gridwidth": 2,
            "linecolor": "white",
            "showbackground": true,
            "ticks": "",
            "zerolinecolor": "white"
           }
          },
          "shapedefaults": {
           "line": {
            "color": "#2a3f5f"
           }
          },
          "ternary": {
           "aaxis": {
            "gridcolor": "white",
            "linecolor": "white",
            "ticks": ""
           },
           "baxis": {
            "gridcolor": "white",
            "linecolor": "white",
            "ticks": ""
           },
           "bgcolor": "#E5ECF6",
           "caxis": {
            "gridcolor": "white",
            "linecolor": "white",
            "ticks": ""
           }
          },
          "title": {
           "x": 0.05
          },
          "xaxis": {
           "automargin": true,
           "gridcolor": "white",
           "linecolor": "white",
           "ticks": "",
           "title": {
            "standoff": 15
           },
           "zerolinecolor": "white",
           "zerolinewidth": 2
          },
          "yaxis": {
           "automargin": true,
           "gridcolor": "white",
           "linecolor": "white",
           "ticks": "",
           "title": {
            "standoff": 15
           },
           "zerolinecolor": "white",
           "zerolinewidth": 2
          }
         }
        },
        "title": {
         "font": {
          "color": "black"
         },
         "text": "Happiness vs Gini Index"
        },
        "width": 800,
        "xaxis": {
         "automargin": false,
         "fixedrange": true,
         "range": [
          24.4,
          53.5
         ],
         "tickfont": {
          "color": "black",
          "size": 12
         },
         "title": {
          "font": {
           "color": "black",
           "size": 14
          },
          "text": "Gini Index"
         }
        },
        "yaxis": {
         "automargin": false,
         "autorange": "reversed",
         "dtick": 1,
         "fixedrange": true,
         "range": [
          2.853,
          7.769
         ],
         "tickfont": {
          "color": "black",
          "size": 12
         },
         "tickmode": "linear",
         "title": {
          "font": {
           "color": "black",
           "size": 14
          },
          "text": "Happiness"
         }
        }
       }
      },
      "text/html": [
       "<div>            <script src=\"https://cdnjs.cloudflare.com/ajax/libs/mathjax/2.7.5/MathJax.js?config=TeX-AMS-MML_SVG\"></script><script type=\"text/javascript\">if (window.MathJax && window.MathJax.Hub && window.MathJax.Hub.Config) {window.MathJax.Hub.Config({SVG: {font: \"STIX-Web\"}});}</script>                <script type=\"text/javascript\">window.PlotlyConfig = {MathJaxConfig: 'local'};</script>\n",
       "        <script charset=\"utf-8\" src=\"https://cdn.plot.ly/plotly-3.0.1.min.js\"></script>                <div id=\"3e3d00ad-85ca-47c3-863e-9d3b8387b0eb\" class=\"plotly-graph-div\" style=\"height:600px; width:800px;\"></div>            <script type=\"text/javascript\">                window.PLOTLYENV=window.PLOTLYENV || {};                                if (document.getElementById(\"3e3d00ad-85ca-47c3-863e-9d3b8387b0eb\")) {                    Plotly.newPlot(                        \"3e3d00ad-85ca-47c3-863e-9d3b8387b0eb\",                        [{\"customdata\":{\"dtype\":\"i2\",\"bdata\":\"AQACAAMABQAGAAcACQAKAAwADQAOAA8AEAARABIAEwAVABcAHAAdAB4AHwAhACIAJAAmACcAKAAqACsALAAtAC4AMAAxADIANQA2ADcAOAA5ADoAOwA8AD8AQABCAEQARQBIAEkASwBSAFMAVgBdAGQAZgBoAGkAbwByAHQAfQCAAA==\"},\"hovertemplate\":\"Country: %{text}\\u003cbr\\u003eRank: %{customdata} out of 133\\u003cbr\\u003eGini Index: %{x:.1f}\\u003cbr\\u003eHappiness: %{y:.2f}\\u003cextra\\u003e\\u003c\\u002fextra\\u003e\",\"mode\":\"markers\",\"name\":\"Gini Index\",\"text\":[\"Finland\",\"Denmark\",\"Norway\",\"Netherlands\",\"Switzerland\",\"Sweden\",\"Canada\",\"Austria\",\"Costa Rica\",\"Israel\",\"Luxembourg\",\"United Kingdom\",\"Ireland\",\"Germany\",\"Belgium\",\"United States\",\"Malta\",\"France\",\"Spain\",\"Panama\",\"Brazil\",\"Uruguay\",\"El Salvador\",\"Italy\",\"Poland\",\"Lithuania\",\"Colombia\",\"Slovenia\",\"Kosovo\",\"Argentina\",\"Romania\",\"Cyprus\",\"Ecuador\",\"Thailand\",\"Latvia\",\"Estonia\",\"Japan\",\"Honduras\",\"Kazakhstan\",\"Bolivia\",\"Hungary\",\"Paraguay\",\"Peru\",\"Portugal\",\"Serbia\",\"Moldova\",\"Montenegro\",\"Croatia\",\"Dominican Republic\",\"Belarus\",\"Greece\",\"North Macedonia\",\"Indonesia\",\"China\",\"Bulgaria\",\"Albania\",\"Armenia\",\"Georgia\",\"Mauritania\",\"Mozambique\",\"Sri Lanka\",\"Ukraine\",\"Uganda\",\"Zimbabwe\",\"Malawi\"],\"visible\":true,\"x\":{\"dtype\":\"f8\",\"bdata\":\"MzMzMzOzO0AzMzMzM7M7QDMzMzMzsztAMzMzMzMzPUAAAAAAAABBQM3MzMzMTD1AMzMzMzOzP0AzMzMzMzM+QJqZmZmZGUhAZmZmZmYmQ0CamZmZmRlBQGZmZmZmZkBAzczMzMxMPkDNzMzMzMw\\u002fQDMzMzMzMztAMzMzMzPzREAAAAAAAAA\\u002fQDMzMzMzMz9AZmZmZmYmQUBmZmZmZuZIQAAAAAAAwEpAmpmZmZnZQ0BmZmZmZmZDQM3MzMzMTEFAzczMzMzMPEBmZmZmZqZBQGZmZmZmpklAZmZmZmZmOECamZmZmRlEQGZmZmZmpkVAZmZmZmZmQUAzMzMzMzM\\u002fQJqZmZmZ2UZAMzMzMzNzQUAAAAAAAEBBQM3MzMzMzD5AAAAAAACAQECamZmZmRlIQAAAAAAAADxAzczMzMzMREAAAAAAAAA+QJqZmZmZ2UZAAAAAAADAREBmZmZmZmZAQAAAAAAAQEFAAAAAAAAAOkCamZmZmdlBQGZmZmZm5jxAMzMzMzPzREDNzMzMzEw5QM3MzMzMjEBAAAAAAADAQEAzMzMzM7NBQJqZmZmZGUNAZmZmZmYmRECamZmZmRk+QAAAAAAAAD5AMzMzMzPzQUAAAAAAAABAQGZmZmZmJklAmpmZmZnZQkCamZmZmZk6QJqZmZmZWUVAZmZmZmYmSUAAAAAAAEBDQA==\"},\"y\":{\"dtype\":\"f8\",\"bdata\":\"+n5qvHQTH0BmZmZmZmYeQJ7vp8ZLNx5AwcqhRbbzHUDsUbgehesdQKwcWmQ7Xx1A6SYxCKwcHUCWQ4ts5\\u002fscQF66SQwCqxxAdZMYBFaOHEBcj8L1KFwcQJ7vp8ZLNxxAL90kBoEVHEBxPQrXo\\u002fAbQP7UeOkmsRtAxSCwcmiRG0CBlUOLbOcaQJHtfD81XhpA0SLb+X5qGUBiEFg5tEgZQDMzMzMzMxlAeekmMQgsGUBQjZduEgMZQDEIrBxa5BhA7nw\\u002fNV66GEB\\u002farx0k5gYQAAAAAAAgBhARrbz\\u002fdR4GEBmZmZmZmYYQPLSTWIQWBhASOF6FK5HGEDJdr6fGi8YQOkmMQisHBhA1XjpJjEIGEDD9Shcj8IXQN9PjZdukhdAJQaBlUOLF0BxPQrXo3AXQCPb+X5qPBdABFYOLbIdF0DVeOkmMQgXQEa28\\u002f3U+BZAfT81XrrJFkASg8DKocUWQLbz\\u002fdR4aRZABFYOLbIdFkBkO99PjRcWQO58PzVeuhVAMzMzMzOzFUCYbhKDwEoVQNnO91PjJRVAf2q8dJMYFUD4U+Olm8QUQN0kBoGVwxRAJQaBlUMLFEDHSzeJQeASQCPb+X5qPBJA+n5qvHQTEkD2KFyPwvURQHe+nxov3RFAEFg5tMh2EUCHFtnO91MRQKjGSzeJwRBA5\\u002fup8dJNDUBI4XoUrkcLQA==\"},\"type\":\"scatter\"},{\"customdata\":{\"dtype\":\"i2\",\"bdata\":\"AQACAAMABAAFAAYABwAIAAkACgALAAwADQAOAA8AEAARABIAEwAUABUAFgAXABgAGQAaABsAHAAdAB4AHwAgACEAIgAjACQAJQAmACcAKAApACoAKwAsAC0ALgAvADAAMQAyADMANAA1ADYANwA4ADkAOgA7ADwAPQA+AD8AQABBAEIAQwBEAEUARgBHAEgASQBKAEsATABNAE4ATwBPAFEAUgBTAFQAVQBWAFcAWABZAFoAWwBcAF0AXgBfAGAAYQBiAGMAZABlAGYAZwBoAGkAagBrAGwAbQBuAG8AcABxAHIAcwB0AHUAdgB3AHgAeQB6AHsAfAB9AH4AfwCAAIEAggCDAIQA\"},\"hovertemplate\":\"Country: %{text}\\u003cbr\\u003eRank: %{customdata} out of 133\\u003cbr\\u003eGDP per Capita: $%{x:,.0f}\\u003cbr\\u003eHappiness: %{y:.2f}\\u003cextra\\u003e\\u003c\\u002fextra\\u003e\",\"mode\":\"markers\",\"name\":\"GDP per Capita\",\"text\":[\"Finland\",\"Denmark\",\"Norway\",\"Iceland\",\"Netherlands\",\"Switzerland\",\"Sweden\",\"New Zealand\",\"Canada\",\"Austria\",\"Australia\",\"Costa Rica\",\"Israel\",\"Luxembourg\",\"United Kingdom\",\"Ireland\",\"Germany\",\"Belgium\",\"United States\",\"United Arab Emirates\",\"Malta\",\"Mexico\",\"France\",\"Chile\",\"Guatemala\",\"Saudi Arabia\",\"Qatar\",\"Spain\",\"Panama\",\"Brazil\",\"Uruguay\",\"Singapore\",\"El Salvador\",\"Italy\",\"Bahrain\",\"Poland\",\"Uzbekistan\",\"Lithuania\",\"Colombia\",\"Slovenia\",\"Nicaragua\",\"Kosovo\",\"Argentina\",\"Romania\",\"Cyprus\",\"Ecuador\",\"Kuwait\",\"Thailand\",\"Latvia\",\"Estonia\",\"Jamaica\",\"Mauritius\",\"Japan\",\"Honduras\",\"Kazakhstan\",\"Bolivia\",\"Hungary\",\"Paraguay\",\"Peru\",\"Portugal\",\"Pakistan\",\"Philippines\",\"Serbia\",\"Moldova\",\"Libya\",\"Montenegro\",\"Tajikistan\",\"Croatia\",\"Dominican Republic\",\"Bosnia and Herzegovina\",\"Malaysia\",\"Belarus\",\"Greece\",\"Mongolia\",\"North Macedonia\",\"Nigeria\",\"Turkmenistan\",\"Algeria\",\"Morocco\",\"Azerbaijan\",\"Lebanon\",\"Indonesia\",\"China\",\"Bhutan\",\"Cameroon\",\"Bulgaria\",\"Ghana\",\"Nepal\",\"Jordan\",\"Benin\",\"Gabon\",\"South Africa\",\"Albania\",\"Cambodia\",\"Senegal\",\"Somalia\",\"Namibia\",\"Niger\",\"Burkina Faso\",\"Armenia\",\"Guinea\",\"Georgia\",\"Kenya\",\"Mauritania\",\"Mozambique\",\"Tunisia\",\"Bangladesh\",\"Iraq\",\"Mali\",\"Sierra Leone\",\"Sri Lanka\",\"Myanmar\",\"Chad\",\"Ukraine\",\"Ethiopia\",\"Uganda\",\"Zambia\",\"Togo\",\"India\",\"Liberia\",\"Comoros\",\"Madagascar\",\"Lesotho\",\"Burundi\",\"Zimbabwe\",\"Haiti\",\"Botswana\",\"Malawi\",\"Rwanda\",\"Tanzania\",\"Afghanistan\",\"Central African Republic\"],\"visible\":false,\"x\":{\"dtype\":\"f8\",\"bdata\":\"nLSEaqkVT0JcJ\\u002f0N4hpUQtNFkzK+yldCSS6Fqn38FkICD7Hg3QhrQivXEmSe\\u002fmRCKXxVwPD5XkIxuJEIVcdIQlKIK+zhX3lC4\\u002fVAffjIWUI9KmzzTER0QoG18kov\\u002fy1Cvndb00NDV0KOlWt6zEUwQnter+Mov4RCrj8A9KGyV0Jxfe3X38qMQkxftYTYPV9CAIC\\u002f+SqXs0Ken6E\\u002fiFRYQvs61o93bg5C9uyilyz6ckIUHkUfmc+DQtPdp0DFMlBC1qVKHNT3MUIAAMBsy2doQn+KNPxFiERCUmRGdW5sdEIAAGDoJj8wQjMnONmKQntCmB1esHr5LELdnNGwRfBVQgAAgJT2CBlCe3iSIZ9jfULPRn2jotUiQikcpBBYimFCmMzs6AZWL0KNl2P2D6spQsM1siWMzVJCChdfR5AaKUL4U81sXqcHQtaQl97Gbf1BZs43kRAQWkJcP9PBj0xNQgcfbqvFZRhCAAAIDzYNOUKPAjsC2WVAQrR4FGbiqV9CVGM7ZYnTHkINIIg8S68dQhTQVZ+yfA1CgRUdY8njCkIKYoHSgJ6SQmM\\u002fN4liLBdCIUBroBomRUL5kbc1GgsjQlrUlc0wGENCfkyyeQ2pIULy0vnEPZVKQm+CB3gD9EtC0aoAfeytUkJkO8EzG+9VQhUdQf8rFSlCb5L1e4rcBUKdsdfA4x8wQsAEUpJQpfRBNe\\u002f00UXs\\u002fkFkXeO9gZ8sQl09jqRRtTRCGYTNOW8TE0IGYS90kkFVQpyzvvRI\\u002fi1Cb4JvlzAiSEJJHUyvHnYKQkJghKwrewdCgR0nk9yeW0LWtm1ALRAlQqhWhRaMhUZCP3WpJj8EPkI2PDz90G4mQleMtuPoByhCpJwJzvhIcEJmP4PmoPmpQnk7Sf7mYeRBy1Cv48N4IkIOj6IRivUvQtVpv1CF0i9CHRps4Z7WH0JwDgT5K7kkQpZDKKV9zgpCxSDL8lduD0I3EZg1eKlWQuSDWKeOBw1C8nDvOjwVIUKmimCN8ssVQhkEwHoJHwBCCtd7G3VcB0LW1kkTOAIIQjL3+o0K3Q1CW7FZDS9eCUIukMNNDgoJQoGmc6lObRBC+l5vYgVfN0KAK13VCGn9QUJgNVgP5QxCZqZlt4qDI0JK7LJuwnFUQkQrhPflMktC3yDozu4XEEKMIWZPXk34QfEjKMe0uTRCb7Aznzp6MUKP052dYxMFQtvJKnsS6kFCn03qP9ZUNkLP164V1HUgQjjnFC44tRVCOPNVLMIM+kGFcd1tuqGEQgAAgLqgu+hBn6v5QqPO0UHnDDTToEUKQhh9+hrnz+FBXFr621Ey40GmyskggvMXQpoZjOk6+AtCgmKk1YgnD0Iuf16v8JUEQtej4lTuRgNCtdcrD\\u002fRqLEKCcygII4IRQsMN7szLjOBB\"},\"y\":{\"dtype\":\"f8\",\"bdata\":\"+n5qvHQTH0BmZmZmZmYeQJ7vp8ZLNx5AYOXQItv5HUDByqFFtvMdQOxRuB6F6x1ArBxaZDtfHUDufD81XjodQOkmMQisHB1AlkOLbOf7HEC28\\u002f3UeOkcQF66SQwCqxxAdZMYBFaOHEBcj8L1KFwcQJ7vp8ZLNxxAL90kBoEVHEBxPQrXo\\u002fAbQP7UeOkmsRtAxSCwcmiRG0DNzMzMzEwbQIGVQ4ts5xpA4XoUrkdhGkCR7Xw\\u002fNV4aQC2yne+nxhlAWDm0yHa+GUAAAAAAAIAZQOXQItv5fhlA0SLb+X5qGUBiEFg5tEgZQDMzMzMzMxlAeekmMQgsGUA\\u002fNV66SQwZQFCNl24SAxlAMQisHFrkGECyne+nxssYQO58PzVeuhhAGQRWDi2yGEB\\u002farx0k5gYQAAAAAAAgBhARrbz\\u002fdR4GEDsUbgehWsYQGZmZmZmZhhA8tJNYhBYGEBI4XoUrkcYQMl2vp8aLxhA6SYxCKwcGEAv3SQGgRUYQNV46SYxCBhAw\\u002fUoXI\\u002fCF0DfT42XbpIXQI\\u002fC9ShcjxdAWmQ730+NF0AlBoGVQ4sXQHE9CtejcBdAI9v5fmo8F0AEVg4tsh0XQNV46SYxCBdARrbz\\u002fdT4FkB9PzVeuskWQBKDwMqhxRZA6SYxCKycFkCgGi\\u002fdJIYWQLbz\\u002fdR4aRZABFYOLbIdFkCamZmZmRkWQGQ730+NFxZAke18PzXeFUDufD81XroVQDMzMzMzsxVAJQaBlUOLFUBCYOXQIlsVQJhuEoPAShVA2c73U+MlFUCkcD0K1yMVQH9qvHSTGBVAj8L1KFwPFUCwcmiR7fwUQPLSTWIQ2BRAokW28\\u002f3UFECiRbbz\\u002fdQUQH0\\u002fNV66yRRA+FPjpZvEFEDdJAaBlcMUQIcW2c73UxRAkxgEVg4tFEAlBoGVQwsUQJZDi2zn+xNA9P3UeOmmE0A5tMh2vp8TQNV46SYxiBNAGQRWDi0yE0AX2c73U+MSQMdLN4lB4BJAzczMzMzMEkDTTWIQWLkSQHnpJjEIrBJAdZMYBFaOEkBQjZduEoMSQAwCK4cWWRJAI9v5fmo8EkCJQWDl0CISQPp+arx0ExJA8KfGSzcJEkD2KFyPwvURQHe+nxov3RFA8tJNYhDYEUBt5\\u002fup8dIRQHNoke18vxFAj8L1KFyPEUDl0CLb+X4RQBBYObTIdhFAcT0K16NwEUBmZmZmZmYRQIcW2c73UxFAvp8aL90kEUCoxks3icEQQCGwcmiRbRBA16NwPQpXEECPwvUoXA8QQM3MzMzMzA9AYhBYObTID0AQWDm0yHYPQNEi2\\u002fl+ag5AMzMzMzMzDkDn+6nx0k0NQC2yne+nxgxAgZVDi2znC0BI4XoUrkcLQHnpJjEIrApADAIrhxbZCUA5tMh2vp8JQESLbOf7qQhA\"},\"type\":\"scatter\"},{\"customdata\":{\"dtype\":\"i2\",\"bdata\":\"AQACAAMABAAFAAYABwAIAAkACgALAAwADQAOAA8AEAARABIAEwAUABUAFgAXABgAGQAaABsAHAAdAB4AHwAgACEAIgAjACQAJQAmACcAKAApACoAKwAsAC0ALgAvADAAMQAyADMANAA1ADYANwA4ADkAOgA7ADwAPQA+AD8AQABBAEIAQwBEAEUARgBHAEgASQBKAEsATABNAE4ATwBPAFEAUgBTAFQAVQBWAFcAWABZAFoAWwBcAF0AXgBfAGAAYQBiAGMAZABlAGYAZwBoAGkAagBrAGwAbQBuAG8AcABxAHIAcwB0AHUAdgB3AHgAeQB6AHsAfAB9AH4AfwCAAIEAggCDAIQA\"},\"hovertemplate\":\"Country: %{text}\\u003cbr\\u003eRank: %{customdata} out of 133\\u003cbr\\u003eGNI per Capita: $%{x:,.0f}\\u003cbr\\u003eHappiness: %{y:.2f}\\u003cextra\\u003e\\u003c\\u002fextra\\u003e\",\"mode\":\"markers\",\"name\":\"GNI per Capita\",\"text\":[\"Finland\",\"Denmark\",\"Norway\",\"Iceland\",\"Netherlands\",\"Switzerland\",\"Sweden\",\"New Zealand\",\"Canada\",\"Austria\",\"Australia\",\"Costa Rica\",\"Israel\",\"Luxembourg\",\"United Kingdom\",\"Ireland\",\"Germany\",\"Belgium\",\"United States\",\"United Arab Emirates\",\"Malta\",\"Mexico\",\"France\",\"Chile\",\"Guatemala\",\"Saudi Arabia\",\"Qatar\",\"Spain\",\"Panama\",\"Brazil\",\"Uruguay\",\"Singapore\",\"El Salvador\",\"Italy\",\"Bahrain\",\"Poland\",\"Uzbekistan\",\"Lithuania\",\"Colombia\",\"Slovenia\",\"Nicaragua\",\"Kosovo\",\"Argentina\",\"Romania\",\"Cyprus\",\"Ecuador\",\"Kuwait\",\"Thailand\",\"Latvia\",\"Estonia\",\"Jamaica\",\"Mauritius\",\"Japan\",\"Honduras\",\"Kazakhstan\",\"Bolivia\",\"Hungary\",\"Paraguay\",\"Peru\",\"Portugal\",\"Pakistan\",\"Philippines\",\"Serbia\",\"Moldova\",\"Libya\",\"Montenegro\",\"Tajikistan\",\"Croatia\",\"Dominican Republic\",\"Bosnia and Herzegovina\",\"Malaysia\",\"Belarus\",\"Greece\",\"Mongolia\",\"North Macedonia\",\"Nigeria\",\"Turkmenistan\",\"Algeria\",\"Morocco\",\"Azerbaijan\",\"Lebanon\",\"Indonesia\",\"China\",\"Bhutan\",\"Cameroon\",\"Bulgaria\",\"Ghana\",\"Nepal\",\"Jordan\",\"Benin\",\"Gabon\",\"South Africa\",\"Albania\",\"Cambodia\",\"Senegal\",\"Somalia\",\"Namibia\",\"Niger\",\"Burkina Faso\",\"Armenia\",\"Guinea\",\"Georgia\",\"Kenya\",\"Mauritania\",\"Mozambique\",\"Tunisia\",\"Bangladesh\",\"Iraq\",\"Mali\",\"Sierra Leone\",\"Sri Lanka\",\"Myanmar\",\"Chad\",\"Ukraine\",\"Ethiopia\",\"Uganda\",\"Zambia\",\"Togo\",\"India\",\"Liberia\",\"Comoros\",\"Madagascar\",\"Lesotho\",\"Burundi\",\"Zimbabwe\",\"Haiti\",\"Botswana\",\"Malawi\",\"Rwanda\",\"Tanzania\",\"Afghanistan\",\"Central African Republic\"],\"visible\":false,\"x\":{\"dtype\":\"f8\",\"bdata\":\"h5YeWaNrT0LBKs+phbBUQtNF54jghFhChJ7gR8GhF0JUX9dnh\\u002fNpQr7DSkf5Q2RCI9t7xwvgX0Jz6BDKhyhIQo9a8h55EnlCzdx0awfOWULNxBNGspVzQi4Q0hYkNSxC3yfHMr0mV0LY4dHEbEsmQmbQ9wLNuYRCP80xowgIUkKPID1hRFuNQvD\\u002fW71Dfl9CAIAFcIXLs0JGvnFnQHNYQpkqq3+ikAtCUqAo24VxckLNXDrG90eEQqpRK92ALk9CTYTm6iOkMUJYVQUijaRoQpPYKUrbBERCKSjkLW9TdEIAAEgdYHsuQnvUN+8uh3pCrQlUcy+OK0KasUgdVGVTQgAAAFU4yRdCH5kQl0mAfUIxiMluJcghQjs7jaHt0GBChgk8gcqtL0JfaaXrYqIoQhdJX+B9ZFJCrLycm1jwKEIl9bfS+MgGQmnSmWNDGf5BKaThFfwJWUIncaxTJeJMQjrjNKI6FxdCAABoCNVWOEInwQpc9b9CQnFNpAPhf15CS1kBiCNpH0KHljYwDZMcQkjQVZQsqgxC5x0\\u002f++k5DEIfVAriO1mTQgbBblimUhVCXop2qM+BQkKE\\u002fjC+dKciQj+VrlIql0JCe9TGwwQfIUIb\\u002fz\\u002fYI59JQuP12+BgNktCiZmoCVRaUkIrt8d6TyFYQgQHlJdTyidCj8LJ18YBB0J2v8XU84wwQkgKpZ214PRB11JuN47wAUIT8hBAjIcsQjWO7ifLwjNCMKqqyzQLE0InUZG9f7NUQnvUunmPGi1CQlCYZQeuR0I8zl5YiIgHQnDOV9\\u002fOZQZCy1mQDloWW0IqSfKpWMMkQjdp5P\\u002f8EEZC\\u002fImR6oOQPUKHhwdXmZElQleMtl07cydCSBmrR3eUb0JmNyNq\\u002f+apQmcKXh4TrOJBxHFMEE4UIkJGFKngB\\u002fUuQl6aNlqDgy5CmRsVynYVIEJtha3HD7okQuPHzzu7rApC\\u002fXaE9EjkDEL6ruOFqBhWQg7PPohvpwxCsTBUTixRIEJ65TFhbDoVQl1cCp0EDgBCLGWcY7XJBkKxYWnBZhsJQjlFx3I6jAxCL24U68K3CUKxUDvqp9MIQsiHvSnfXg9Cxe50Bl7\\u002fNkIl9cDlQw39Qa5YDHU9YQxC1QeBK1QBI0IMiodqJEhVQkQrJJEkEEtCNABrl0DkDkLqz7Wx2gr4QZ3wg6WEJjRCrzVE6cHpMEKJQWEmccAEQri++YoOI0JCidIxzrExNkIirrn9pAggQtlOmybCVBVCHUnUatoh+kEzsWIJ\\u002fm6EQgAAgHnhGOZBxM4UfSvk0UGWsh7l2loJQgtBNGkLQeVB4Sg\\u002fiHZA40F6BxMq1IYXQl1tj3LoDwxCulrHI7I\\u002fD0LXo\\u002fJx5xYEQrkNHzv7oAJCA1gSPRvyK0LZ\\u002feovL8URQh8Rl4X6xuFB\"},\"y\":{\"dtype\":\"f8\",\"bdata\":\"+n5qvHQTH0BmZmZmZmYeQJ7vp8ZLNx5AYOXQItv5HUDByqFFtvMdQOxRuB6F6x1ArBxaZDtfHUDufD81XjodQOkmMQisHB1AlkOLbOf7HEC28\\u002f3UeOkcQF66SQwCqxxAdZMYBFaOHEBcj8L1KFwcQJ7vp8ZLNxxAL90kBoEVHEBxPQrXo\\u002fAbQP7UeOkmsRtAxSCwcmiRG0DNzMzMzEwbQIGVQ4ts5xpA4XoUrkdhGkCR7Xw\\u002fNV4aQC2yne+nxhlAWDm0yHa+GUAAAAAAAIAZQOXQItv5fhlA0SLb+X5qGUBiEFg5tEgZQDMzMzMzMxlAeekmMQgsGUA\\u002fNV66SQwZQFCNl24SAxlAMQisHFrkGECyne+nxssYQO58PzVeuhhAGQRWDi2yGEB\\u002farx0k5gYQAAAAAAAgBhARrbz\\u002fdR4GEDsUbgehWsYQGZmZmZmZhhA8tJNYhBYGEBI4XoUrkcYQMl2vp8aLxhA6SYxCKwcGEAv3SQGgRUYQNV46SYxCBhAw\\u002fUoXI\\u002fCF0DfT42XbpIXQI\\u002fC9ShcjxdAWmQ730+NF0AlBoGVQ4sXQHE9CtejcBdAI9v5fmo8F0AEVg4tsh0XQNV46SYxCBdARrbz\\u002fdT4FkB9PzVeuskWQBKDwMqhxRZA6SYxCKycFkCgGi\\u002fdJIYWQLbz\\u002fdR4aRZABFYOLbIdFkCamZmZmRkWQGQ730+NFxZAke18PzXeFUDufD81XroVQDMzMzMzsxVAJQaBlUOLFUBCYOXQIlsVQJhuEoPAShVA2c73U+MlFUCkcD0K1yMVQH9qvHSTGBVAj8L1KFwPFUCwcmiR7fwUQPLSTWIQ2BRAokW28\\u002f3UFECiRbbz\\u002fdQUQH0\\u002fNV66yRRA+FPjpZvEFEDdJAaBlcMUQIcW2c73UxRAkxgEVg4tFEAlBoGVQwsUQJZDi2zn+xNA9P3UeOmmE0A5tMh2vp8TQNV46SYxiBNAGQRWDi0yE0AX2c73U+MSQMdLN4lB4BJAzczMzMzMEkDTTWIQWLkSQHnpJjEIrBJAdZMYBFaOEkBQjZduEoMSQAwCK4cWWRJAI9v5fmo8EkCJQWDl0CISQPp+arx0ExJA8KfGSzcJEkD2KFyPwvURQHe+nxov3RFA8tJNYhDYEUBt5\\u002fup8dIRQHNoke18vxFAj8L1KFyPEUDl0CLb+X4RQBBYObTIdhFAcT0K16NwEUBmZmZmZmYRQIcW2c73UxFAvp8aL90kEUCoxks3icEQQCGwcmiRbRBA16NwPQpXEECPwvUoXA8QQM3MzMzMzA9AYhBYObTID0AQWDm0yHYPQNEi2\\u002fl+ag5AMzMzMzMzDkDn+6nx0k0NQC2yne+nxgxAgZVDi2znC0BI4XoUrkcLQHnpJjEIrApADAIrhxbZCUA5tMh2vp8JQESLbOf7qQhA\"},\"type\":\"scatter\"},{\"hoverinfo\":\"skip\",\"line\":{\"color\":\"blue\",\"dash\":\"dash\"},\"mode\":\"lines\",\"name\":\"Trend Line\",\"visible\":true,\"x\":{\"dtype\":\"f8\",\"bdata\":\"ZmZmZmZmOEAxYBoDprE4QPxZzp\\u002fl\\u002fDhAyFOCPCVIOUCTTTbZZJM5QF5H6nWk3jlAKkGeEuQpOkD1OlKvI3U6QMA0BkxjwDpAiy666KILO0BWKG6F4lY7QCIiIiIiojtA7RvWvmHtO0C4FYpboTg8QIQPPvjggzxATwnylCDPPEAaA6YxYBo9QOX8Wc6fZT1AsPYNa9+wPUB88MEHH\\u002fw9QEfqdaReRz5AEuQpQZ6SPkDe3d3d3d0+QKnXkXodKT9AdNFFF110P0A\\u002fy\\u002fmznL8\\u002fQIXiVihuBUBAa9+w9g0rQEBQ3ArFrVBAQDbZZJNNdkBAHNa+Ye2bQEAC0xgwjcFAQOfPcv4s50BAzMzMzMwMQUCyySabbDJBQJjGgGkMWEFAfsPaN6x9QUBjwDQGTKNBQEm9jtTryEFALrrooovuQUAUt0JxKxRCQPqznD\\u002fLOUJA37D2DWtfQkDFrVDcCoVCQKqqqqqqqkJAkKcEeUrQQkB2pF5H6vVCQFyhuBWKG0NAQZ4S5ClBQ0Amm2yyyWZDQAyYxoBpjENA8pQgTwmyQ0DYkXodqddDQL2O1OtI\\u002fUNAo4suuugiRECIiIiIiEhEQG6F4lYobkRAVII8JciTREA5f5bzZ7lEQB988MEH30RABHlKkKcERUDqdaReRypFQNBy\\u002fiznT0VAtm9Y+4Z1RUCbbLLJJptFQIBpDJjGwEVAZmZmZmbmRUBMY8A0BgxGQDJgGgOmMUZAF1100UVXRkD9Wc6f5XxGQOJWKG6FokZAyFOCPCXIRkCuUNwKxe1GQJNNNtlkE0dAeUqQpwQ5R0BeR+p1pF5HQEREREREhEdAKkGeEuSpR0AQPvjgg89HQPU6Uq8j9UdA2jesfcMaSEDANAZMY0BIQKYxYBoDZkhAjC666KKLSEBxKxS3QrFIQFcoboXi1khAPCXIU4L8SEAiIiIiIiJJQAgffPDBR0lA7RvWvmFtSUDTGDCNAZNJQLgViluhuElAnhLkKUHeSUCEDz744ANKQGoMmMaAKUpATwnylCBPSkA0BkxjwHRKQBoDpjFgmkpAAAAAAADASkA=\"},\"y\":{\"dtype\":\"f8\",\"bdata\":\"zRbCRItBGUCLfPJQJjgZQEniIl3BLhlAB0hTaVwlGUDFrYN19xsZQIMTtIGSEhlAQHnkjS0JGUD+3hSayP8YQLxERaZj9hhAeqp1sv7sGEA4EKa+meMYQPZ11so02hhAtNsG18\\u002fQGEByQTfjascYQDCnZ+8FvhhA7gyY+6C0GECscsgHPKsYQGrY+BPXoRhAKD4pIHKYGEDmo1ksDY8YQKQJijiohRhAYm+6REN8GEAg1epQ3nIYQN46G115aRhAnKBLaRRgGEBaBnx1r1YYQBhsrIFKTRhA1tHcjeVDGECUNw2agDoYQFKdPaYbMRhAEANusrYnGEDOaJ6+UR4YQIzOzsrsFBhASjT\\u002f1ocLGEAImi\\u002fjIgIYQMb\\u002fX++9+BdAg2WQ+1jvF0BCy8AH9OUXQP8w8ROP3BdAvpYhICrTF0B7\\u002fFEsxckXQDligjhgwBdA98eyRPu2F0C1LeNQlq0XQHOTE10xpBdAMflDacyaF0DvXnR1Z5EXQK3EpIECiBdAayrVjZ1+F0ApkAWaOHUXQOf1NabTaxdApVtmsm5iF0BjwZa+CVkXQCEnx8qkTxdA34z31j9GF0Cd8ifj2jwXQFtYWO91MxdAGL6I+xAqF0DXI7kHrCAXQJSJ6RNHFxdAU+8ZIOINF0AQVUosfQQXQM66ejgY+xZAjCCrRLPxFkBKhttQTugWQAjsC13p3hZAxlE8aYTVFkCEt2x1H8wWQEIdnYG6whZAAIPNjVW5FkC+6P2Z8K8WQHxOLqaLphZAOrResiadFkD4GY++wZMWQLZ\\u002fv8pcihZAdOXv1veAFkAySyDjkncWQPCwUO8tbhZArhaB+8hkFkBsfLEHZFsWQCri4RP\\u002fURZA6EcSIJpIFkCmrUIsNT8WQGQTczjQNRZAInmjRGssFkDg3tNQBiMWQJ5EBF2hGRZAXKo0aTwQFkAaEGV11wYWQNd1lYFy\\u002fRVAltvFjQ30FUBTQfaZqOoVQBKnJqZD4RVAzwxXst7XFUCNcoe+ec4VQEvYt8oUxRVACT7o1q+7FUDHoxjjSrIVQIUJSe\\u002flqBVAQ295+4CfFUA=\"},\"type\":\"scatter\"},{\"hoverinfo\":\"skip\",\"line\":{\"color\":\"blue\",\"dash\":\"dash\"},\"mode\":\"lines\",\"name\":\"Trend Line\",\"visible\":false,\"x\":{\"dtype\":\"f8\",\"bdata\":\"n6v5QqPO0UGejvAWg3dJQvOUrXO0ZVlCS3HxrdMHY0IdGAwizVxpQu++JpbGsW9C4LIgBWADc0JJBi6\\u002f3C12QrJZO3lZWHlCG61IM9aCfEKEAFbtUq1\\u002fQvapsdPna4FCqlO4MCYBg0Jf\\u002fb6NZJaEQhOnxeqiK4ZCyFDMR+HAh0J8+tKkH1aJQjCk2QFe64pC5U3gXpyAjEKZ9+a72hWOQk6h7RgZq49CgiX6uiugkEJcen3pymqRQjbPABhqNZJCECSERgkAk0LqeAd1qMqTQsXNiqNHlZRCnyIO0uZflUJ5d5EAhiqWQlPMFC8l9ZZCLiGYXcS\\u002fl0IIdhuMY4qYQuLKnroCVZlCvB8i6aEfmkKWdKUXQeqaQnHJKEbgtJtCSx6sdH9\\u002fnEIlcy+jHkqdQv\\u002fHstG9FJ5C2hw2AF3fnkK0cbku\\u002fKmfQkZjnq5NOqBCtA3gRZ2foEIhuCHd7AShQo5iY3Q8aqFC+wylC4zPoUJot+ai2zSiQtVhKDormqJCQgxq0Xr\\u002fokKvtqtoymSjQhxh7f8ZyqNCigsvl2kvpEL3tXAuuZSkQmRgssUI+qRC0Qr0XFhfpUI+tTX0p8SlQqtfd4v3KaZCGAq5IkePpkKFtPq5lvSmQvJePFHmWadCYAl+6DW\\u002fp0LNs79\\u002fhSSoQjpeARfViahCpwhDriTvqEIUs4RFdFSpQoFdxtzDualC7gcIdBMfqkJbskkLY4SqQshci6Ky6apCNgfNOQJPq0KjsQ7RUbSrQhBcUGihGaxCfQaS\\u002f\\u002fB+rELqsNOWQOSsQldbFS6QSa1CxAVXxd+urUIxsJhcLxSuQp5a2vN+ea5CDAUci87erkJ5r10iHkSvQuZZn7ltqa9CKoJwqF4HsEJgVxF0BjqwQpcssj+ubLBCzgFTC1afsEIE1\\u002fPW\\u002fdGwQjuslKKlBLFCcYE1bk03sUKoVtY59WmxQt4rdwWdnLFCFQEY0UTPsUJL1ric7AGyQoKrWWiUNLJCuYD6MzxnskLvVZv\\u002f45myQiYrPMuLzLJCXADdljP\\u002fskKT1X1i2zGzQsmqHi6DZLNCAIC\\u002f+SqXs0I=\"},\"y\":{\"dtype\":\"f8\",\"bdata\":\"gml0XjW6FUC29Gm0Fc0VQOp\\u002fXwr23xVAHwtVYNbyFUBTlkq2tgUWQIchQAyXGBZAu6w1YncrFkDvNyu4Vz4WQCPDIA44URZAV04WZBhkFkCM2Qu6+HYWQMBkARDZiRZA9O\\u002f2ZbmcFkAoe+y7ma8WQFwG4hF6whZAkJHXZ1rVFkDFHM29OugWQPmnwhMb+xZALTO4afsNF0Bhvq2\\u002f2yAXQJVJoxW8MxdAydSYa5xGF0D+X47BfFkXQDLrgxddbBdAZnZ5bT1\\u002fF0CaAW\\u002fDHZIXQM6MZBn+pBdAAhhab963F0A2o0\\u002fFvsoXQGsuRRuf3RdAn7k6cX\\u002fwF0DTRDDHXwMYQAfQJR1AFhhAO1sbcyApGEBv5hDJADwYQKRxBh\\u002fhThhA2Pz7dMFhGEAMiPHKoXQYQEAT5yCChxhAdJ7cdmKaGECoKdLMQq0YQNy0xyIjwBhAEUC9eAPTGEBFy7LO4+UYQHlWqCTE+BhAreGdeqQLGUDhbJPQhB4ZQBX4iCZlMRlASoN+fEVEGUB+DnTSJVcZQLKZaSgGahlA5iRffuZ8GUAasFTUxo8ZQE47SiqnohlAgsY\\u002fgIe1GUC3UTXWZ8gZQOvcKixI2xlAH2gggijuGUBT8xXYCAEaQId+Cy7pExpAvAkBhMkmGkDwlPbZqTkaQCQg7C+KTBpAWKvhhWpfGkCMNtfbSnIaQMDBzDErhRpA9EzChwuYGkAo2Lfd66oaQF1jrTPMvRpAke6iiazQGkDFeZjfjOMaQPkEjjVt9hpALpCDi00JG0BiG3nhLRwbQJambjcOLxtAyjFkje5BG0D+vFnjzlQbQDJITzmvZxtAZtNEj496G0CaXjrlb40bQM\\u002fpLztQoBtAA3UlkTCzG0A3ABvnEMYbQGuLED3x2BtAoBYGk9HrG0DUofvosf4bQAgt8T6SERxAPLjmlHIkHEBwQ9zqUjccQKTO0UAzShxA2FnHlhNdHEAM5bzs828cQEFwskLUghxAdfunmLSVHECphp3ulKgcQN0Rk0R1uxxAEZ2ImlXOHEBGKH7wNeEcQHqzc0YW9BxArj5pnPYGHUA=\"},\"type\":\"scatter\"},{\"hoverinfo\":\"skip\",\"line\":{\"color\":\"blue\",\"dash\":\"dash\"},\"mode\":\"lines\",\"name\":\"Trend Line\",\"visible\":false,\"x\":{\"dtype\":\"f8\",\"bdata\":\"xM4UfSvk0UECupQnXrtJQjOlF\\u002fx5qVlCsnYycqI6Y0LLGlnmh6BpQnLfP602A3BCfzFTZyk2c0KMg2YhHGl2QpjVedsOnHlCpCeNlQHPfELYPNAn+gCAQt\\u002fl2YRzmoFC5Y7j4ewzg0LrN+0+Zs2EQvLg9pvfZoZC+IkA+VgAiEL+MgpW0pmJQgTcE7NLM4tCCoUdEMXMjEIRLidtPmaOQhfXMMq3\\u002f49CD0Cdk5jMkEKSFCJCVZmRQhXppvARZpJCmL0rn84yk0IbkrBNi\\u002f+TQp5mNfxHzJRCITu6qgSZlUKlDz9ZwWWWQijkwwd+MpdCq7hItjr\\u002fl0Iujc1k98uYQrFhUhO0mJlCNDbXwXBlmkK3ClxwLTKbQjrf4B7q\\u002fptCvbNlzabLnEJBiOp7Y5idQsRcbyogZZ5CRzH02Nwxn0LKBXmHmf6fQibt\\u002fhqrZaBCaFdBcgnMoEKpwYPJZzKhQusrxiDGmKFCLJYIeCT\\u002foUJuAEvPgmWiQq9qjSbhy6JC8dTPfT8yo0IzPxLVnZijQnSpVCz8\\u002fqNCthOXg1plpEL3fdnauMukQjnoGzIXMqVCelJeiXWYpUK8vKDg0\\u002f6lQv4m4zcyZaZCP5Elj5DLpkKB+2fm7jGnQsJlqj1NmKdCBNDslKv+p0JFOi\\u002fsCWWoQoekcUNoy6hCyA60msYxqUIKefbxJJipQkzjOEmD\\u002fqlCjU17oOFkqkLPt733P8uqQhAiAE+eMatCUoxCpvyXq0KT9oT9Wv6rQtVgx1S5ZKxCFssJrBfLrEJYNUwDdjGtQpqfjlrUl61C2wnRsTL+rUIddBMJkWSuQl7eVWDvyq5CoEiYt00xr0LhstoOrJevQiMdHWYK\\u002fq9CssOvXjQysELT+FCKY2WwQvQt8rWSmLBCFWOT4cHLsEI1mDQN8f6wQlbN1TggMrFCdwJ3ZE9lsUKYNxiQfpixQrlsubuty7FC2aFa59z+sUL61vsSDDKyQhsMnT47ZbJCPEE+amqYskJcdt+VmcuyQn2rgMHI\\u002frJCnuAh7fcxs0K\\u002fFcMYJ2WzQuBKZERWmLNCAIAFcIXLs0I=\"},\"y\":{\"dtype\":\"f8\",\"bdata\":\"4B7hB+i6FUCMxuEZvM0VQDhu4iuQ4BVA4xXjPWTzFUCPveNPOAYWQDtl5GEMGRZA5gzlc+ArFkCStOWFtD4WQD5c5peIURZA6QPnqVxkFkCVq+e7MHcWQEFT6M0EihZA7Pro39icFkCYounxrK8WQERK6gOBwhZA7\\u002fHqFVXVFkCbmesnKegWQEZB7Dn9+hZA8ujsS9ENF0CekO1dpSAXQEk47m95MxdA9d\\u002fugU1GF0Chh++TIVkXQEwv8KX1axdA+Nbwt8l+F0CkfvHJnZEXQE8m8ttxpBdA+83y7UW3F0CndfP\\u002fGcoXQFId9BHu3BdA\\u002fsT0I8LvF0CqbPU1lgIYQFUU9kdqFRhAAbz2WT4oGECsY\\u002fdrEjsYQFgL+H3mTRhABLP4j7pgGECwWvmhjnMYQFsC+rNihhhAB6r6xTaZGECyUfvXCqwYQF75++nevhhACqH8+7LRGEC1SP0Nh+QYQGHw\\u002fR9b9xhADZj+MS8KGUC4P\\u002f9DAx0ZQGTn\\u002f1XXLxlAEI8AaKtCGUC7NgF6f1UZQGfeAYxTaBlAE4YCnid7GUC+LQOw+40ZQGrVA8LPoBlAFX0E1KOzGUDBJAXmd8YZQG3MBfhL2RlAGHQGCiDsGUDEGwcc9P4ZQHDDBy7IERpAHGsIQJwkGkDHEglScDcaQHO6CWREShpAHmIKdhhdGkDKCQuI7G8aQHaxC5rAghpAIVkMrJSVGkDNAA2+aKgaQHioDdA8uxpAJFAO4hDOGkDQ9w705OAaQHyfDwa58xpAJ0cQGI0GG0DT7hAqYRkbQH6WETw1LBtAKj4STgk\\u002fG0DW5RJg3VEbQIKNE3KxZBtALTUUhIV3G0DZ3BSWWYobQISEFagtnRtAMCwWugGwG0Dc0xbM1cIbQIh7F96p1RtAMyMY8H3oG0DeyhgCUvsbQIpyGRQmDhxANhoaJvogHEDiwRo4zjMcQI5pG0qiRhxAOREcXHZZHEDkuBxuSmwcQJBgHYAefxxAPAgekvKRHEDnrx6kxqQcQJNXH7aatxxAP\\u002f8fyG7KHEDqpiDaQt0cQJZOIewW8BxAQvYh\\u002fuoCHUA=\"},\"type\":\"scatter\"}],                        {\"template\":{\"data\":{\"histogram2dcontour\":[{\"type\":\"histogram2dcontour\",\"colorbar\":{\"outlinewidth\":0,\"ticks\":\"\"},\"colorscale\":[[0.0,\"#0d0887\"],[0.1111111111111111,\"#46039f\"],[0.2222222222222222,\"#7201a8\"],[0.3333333333333333,\"#9c179e\"],[0.4444444444444444,\"#bd3786\"],[0.5555555555555556,\"#d8576b\"],[0.6666666666666666,\"#ed7953\"],[0.7777777777777778,\"#fb9f3a\"],[0.8888888888888888,\"#fdca26\"],[1.0,\"#f0f921\"]]}],\"choropleth\":[{\"type\":\"choropleth\",\"colorbar\":{\"outlinewidth\":0,\"ticks\":\"\"}}],\"histogram2d\":[{\"type\":\"histogram2d\",\"colorbar\":{\"outlinewidth\":0,\"ticks\":\"\"},\"colorscale\":[[0.0,\"#0d0887\"],[0.1111111111111111,\"#46039f\"],[0.2222222222222222,\"#7201a8\"],[0.3333333333333333,\"#9c179e\"],[0.4444444444444444,\"#bd3786\"],[0.5555555555555556,\"#d8576b\"],[0.6666666666666666,\"#ed7953\"],[0.7777777777777778,\"#fb9f3a\"],[0.8888888888888888,\"#fdca26\"],[1.0,\"#f0f921\"]]}],\"heatmap\":[{\"type\":\"heatmap\",\"colorbar\":{\"outlinewidth\":0,\"ticks\":\"\"},\"colorscale\":[[0.0,\"#0d0887\"],[0.1111111111111111,\"#46039f\"],[0.2222222222222222,\"#7201a8\"],[0.3333333333333333,\"#9c179e\"],[0.4444444444444444,\"#bd3786\"],[0.5555555555555556,\"#d8576b\"],[0.6666666666666666,\"#ed7953\"],[0.7777777777777778,\"#fb9f3a\"],[0.8888888888888888,\"#fdca26\"],[1.0,\"#f0f921\"]]}],\"contourcarpet\":[{\"type\":\"contourcarpet\",\"colorbar\":{\"outlinewidth\":0,\"ticks\":\"\"}}],\"contour\":[{\"type\":\"contour\",\"colorbar\":{\"outlinewidth\":0,\"ticks\":\"\"},\"colorscale\":[[0.0,\"#0d0887\"],[0.1111111111111111,\"#46039f\"],[0.2222222222222222,\"#7201a8\"],[0.3333333333333333,\"#9c179e\"],[0.4444444444444444,\"#bd3786\"],[0.5555555555555556,\"#d8576b\"],[0.6666666666666666,\"#ed7953\"],[0.7777777777777778,\"#fb9f3a\"],[0.8888888888888888,\"#fdca26\"],[1.0,\"#f0f921\"]]}],\"surface\":[{\"type\":\"surface\",\"colorbar\":{\"outlinewidth\":0,\"ticks\":\"\"},\"colorscale\":[[0.0,\"#0d0887\"],[0.1111111111111111,\"#46039f\"],[0.2222222222222222,\"#7201a8\"],[0.3333333333333333,\"#9c179e\"],[0.4444444444444444,\"#bd3786\"],[0.5555555555555556,\"#d8576b\"],[0.6666666666666666,\"#ed7953\"],[0.7777777777777778,\"#fb9f3a\"],[0.8888888888888888,\"#fdca26\"],[1.0,\"#f0f921\"]]}],\"mesh3d\":[{\"type\":\"mesh3d\",\"colorbar\":{\"outlinewidth\":0,\"ticks\":\"\"}}],\"scatter\":[{\"fillpattern\":{\"fillmode\":\"overlay\",\"size\":10,\"solidity\":0.2},\"type\":\"scatter\"}],\"parcoords\":[{\"type\":\"parcoords\",\"line\":{\"colorbar\":{\"outlinewidth\":0,\"ticks\":\"\"}}}],\"scatterpolargl\":[{\"type\":\"scatterpolargl\",\"marker\":{\"colorbar\":{\"outlinewidth\":0,\"ticks\":\"\"}}}],\"bar\":[{\"error_x\":{\"color\":\"#2a3f5f\"},\"error_y\":{\"color\":\"#2a3f5f\"},\"marker\":{\"line\":{\"color\":\"#E5ECF6\",\"width\":0.5},\"pattern\":{\"fillmode\":\"overlay\",\"size\":10,\"solidity\":0.2}},\"type\":\"bar\"}],\"scattergeo\":[{\"type\":\"scattergeo\",\"marker\":{\"colorbar\":{\"outlinewidth\":0,\"ticks\":\"\"}}}],\"scatterpolar\":[{\"type\":\"scatterpolar\",\"marker\":{\"colorbar\":{\"outlinewidth\":0,\"ticks\":\"\"}}}],\"histogram\":[{\"marker\":{\"pattern\":{\"fillmode\":\"overlay\",\"size\":10,\"solidity\":0.2}},\"type\":\"histogram\"}],\"scattergl\":[{\"type\":\"scattergl\",\"marker\":{\"colorbar\":{\"outlinewidth\":0,\"ticks\":\"\"}}}],\"scatter3d\":[{\"type\":\"scatter3d\",\"line\":{\"colorbar\":{\"outlinewidth\":0,\"ticks\":\"\"}},\"marker\":{\"colorbar\":{\"outlinewidth\":0,\"ticks\":\"\"}}}],\"scattermap\":[{\"type\":\"scattermap\",\"marker\":{\"colorbar\":{\"outlinewidth\":0,\"ticks\":\"\"}}}],\"scattermapbox\":[{\"type\":\"scattermapbox\",\"marker\":{\"colorbar\":{\"outlinewidth\":0,\"ticks\":\"\"}}}],\"scatterternary\":[{\"type\":\"scatterternary\",\"marker\":{\"colorbar\":{\"outlinewidth\":0,\"ticks\":\"\"}}}],\"scattercarpet\":[{\"type\":\"scattercarpet\",\"marker\":{\"colorbar\":{\"outlinewidth\":0,\"ticks\":\"\"}}}],\"carpet\":[{\"aaxis\":{\"endlinecolor\":\"#2a3f5f\",\"gridcolor\":\"white\",\"linecolor\":\"white\",\"minorgridcolor\":\"white\",\"startlinecolor\":\"#2a3f5f\"},\"baxis\":{\"endlinecolor\":\"#2a3f5f\",\"gridcolor\":\"white\",\"linecolor\":\"white\",\"minorgridcolor\":\"white\",\"startlinecolor\":\"#2a3f5f\"},\"type\":\"carpet\"}],\"table\":[{\"cells\":{\"fill\":{\"color\":\"#EBF0F8\"},\"line\":{\"color\":\"white\"}},\"header\":{\"fill\":{\"color\":\"#C8D4E3\"},\"line\":{\"color\":\"white\"}},\"type\":\"table\"}],\"barpolar\":[{\"marker\":{\"line\":{\"color\":\"#E5ECF6\",\"width\":0.5},\"pattern\":{\"fillmode\":\"overlay\",\"size\":10,\"solidity\":0.2}},\"type\":\"barpolar\"}],\"pie\":[{\"automargin\":true,\"type\":\"pie\"}]},\"layout\":{\"autotypenumbers\":\"strict\",\"colorway\":[\"#636efa\",\"#EF553B\",\"#00cc96\",\"#ab63fa\",\"#FFA15A\",\"#19d3f3\",\"#FF6692\",\"#B6E880\",\"#FF97FF\",\"#FECB52\"],\"font\":{\"color\":\"#2a3f5f\"},\"hovermode\":\"closest\",\"hoverlabel\":{\"align\":\"left\"},\"paper_bgcolor\":\"white\",\"plot_bgcolor\":\"#E5ECF6\",\"polar\":{\"bgcolor\":\"#E5ECF6\",\"angularaxis\":{\"gridcolor\":\"white\",\"linecolor\":\"white\",\"ticks\":\"\"},\"radialaxis\":{\"gridcolor\":\"white\",\"linecolor\":\"white\",\"ticks\":\"\"}},\"ternary\":{\"bgcolor\":\"#E5ECF6\",\"aaxis\":{\"gridcolor\":\"white\",\"linecolor\":\"white\",\"ticks\":\"\"},\"baxis\":{\"gridcolor\":\"white\",\"linecolor\":\"white\",\"ticks\":\"\"},\"caxis\":{\"gridcolor\":\"white\",\"linecolor\":\"white\",\"ticks\":\"\"}},\"coloraxis\":{\"colorbar\":{\"outlinewidth\":0,\"ticks\":\"\"}},\"colorscale\":{\"sequential\":[[0.0,\"#0d0887\"],[0.1111111111111111,\"#46039f\"],[0.2222222222222222,\"#7201a8\"],[0.3333333333333333,\"#9c179e\"],[0.4444444444444444,\"#bd3786\"],[0.5555555555555556,\"#d8576b\"],[0.6666666666666666,\"#ed7953\"],[0.7777777777777778,\"#fb9f3a\"],[0.8888888888888888,\"#fdca26\"],[1.0,\"#f0f921\"]],\"sequentialminus\":[[0.0,\"#0d0887\"],[0.1111111111111111,\"#46039f\"],[0.2222222222222222,\"#7201a8\"],[0.3333333333333333,\"#9c179e\"],[0.4444444444444444,\"#bd3786\"],[0.5555555555555556,\"#d8576b\"],[0.6666666666666666,\"#ed7953\"],[0.7777777777777778,\"#fb9f3a\"],[0.8888888888888888,\"#fdca26\"],[1.0,\"#f0f921\"]],\"diverging\":[[0,\"#8e0152\"],[0.1,\"#c51b7d\"],[0.2,\"#de77ae\"],[0.3,\"#f1b6da\"],[0.4,\"#fde0ef\"],[0.5,\"#f7f7f7\"],[0.6,\"#e6f5d0\"],[0.7,\"#b8e186\"],[0.8,\"#7fbc41\"],[0.9,\"#4d9221\"],[1,\"#276419\"]]},\"xaxis\":{\"gridcolor\":\"white\",\"linecolor\":\"white\",\"ticks\":\"\",\"title\":{\"standoff\":15},\"zerolinecolor\":\"white\",\"automargin\":true,\"zerolinewidth\":2},\"yaxis\":{\"gridcolor\":\"white\",\"linecolor\":\"white\",\"ticks\":\"\",\"title\":{\"standoff\":15},\"zerolinecolor\":\"white\",\"automargin\":true,\"zerolinewidth\":2},\"scene\":{\"xaxis\":{\"backgroundcolor\":\"#E5ECF6\",\"gridcolor\":\"white\",\"linecolor\":\"white\",\"showbackground\":true,\"ticks\":\"\",\"zerolinecolor\":\"white\",\"gridwidth\":2},\"yaxis\":{\"backgroundcolor\":\"#E5ECF6\",\"gridcolor\":\"white\",\"linecolor\":\"white\",\"showbackground\":true,\"ticks\":\"\",\"zerolinecolor\":\"white\",\"gridwidth\":2},\"zaxis\":{\"backgroundcolor\":\"#E5ECF6\",\"gridcolor\":\"white\",\"linecolor\":\"white\",\"showbackground\":true,\"ticks\":\"\",\"zerolinecolor\":\"white\",\"gridwidth\":2}},\"shapedefaults\":{\"line\":{\"color\":\"#2a3f5f\"}},\"annotationdefaults\":{\"arrowcolor\":\"#2a3f5f\",\"arrowhead\":0,\"arrowwidth\":1},\"geo\":{\"bgcolor\":\"white\",\"landcolor\":\"#E5ECF6\",\"subunitcolor\":\"white\",\"showland\":true,\"showlakes\":true,\"lakecolor\":\"white\"},\"title\":{\"x\":0.05},\"mapbox\":{\"style\":\"light\"}}},\"title\":{\"text\":\"Happiness vs Gini Index\",\"font\":{\"color\":\"black\"}},\"margin\":{\"t\":80,\"b\":80,\"l\":80,\"r\":80},\"xaxis\":{\"title\":{\"font\":{\"size\":14,\"color\":\"black\"},\"text\":\"Gini Index\"},\"tickfont\":{\"size\":12,\"color\":\"black\"},\"range\":[24.4,53.5],\"fixedrange\":true,\"automargin\":false},\"yaxis\":{\"title\":{\"font\":{\"size\":14,\"color\":\"black\"},\"text\":\"Happiness\"},\"tickfont\":{\"size\":12,\"color\":\"black\"},\"range\":[2.853,7.769],\"fixedrange\":true,\"tickmode\":\"linear\",\"dtick\":1,\"automargin\":false,\"autorange\":\"reversed\"},\"hoverlabel\":{\"font\":{\"size\":12,\"color\":\"black\"}},\"legend\":{\"font\":{\"size\":12,\"color\":\"black\"},\"x\":0.01,\"y\":0.99,\"borderwidth\":0},\"paper_bgcolor\":\"#EDF1EC\",\"plot_bgcolor\":\"#EDF1EC\",\"sliders\":[{\"active\":0,\"currentvalue\":{\"prefix\":\"Metric: \"},\"len\":0.9,\"pad\":{\"t\":50},\"steps\":[{\"args\":[{\"visible\":[true,false,false,true,false,false]},{\"title\":\"Happiness vs Gini Index\",\"xaxis\":{\"title\":\"Gini Index\",\"range\":[24.4,53.5],\"fixedrange\":true},\"yaxis\":{\"title\":\"Happiness\",\"range\":[2.853,7.769],\"fixedrange\":true}}],\"label\":\"Gini Index\",\"method\":\"update\"},{\"args\":[{\"visible\":[false,true,false,false,true,false]},{\"title\":\"Happiness vs GDP per Capita\",\"xaxis\":{\"title\":\"GDP per Capita (USD)\",\"range\":[1195019531.9011,500000000000.0],\"fixedrange\":true},\"yaxis\":{\"title\":\"Happiness\",\"range\":[2.853,7.769],\"fixedrange\":true}}],\"label\":\"GDP per Capita\",\"method\":\"update\"},{\"args\":[{\"visible\":[false,false,true,false,false,true]},{\"title\":\"Happiness vs GNI per Capita\",\"xaxis\":{\"title\":\"GNI per Capita (USD)\",\"range\":[1200664052.32512,500000000000.0],\"fixedrange\":true},\"yaxis\":{\"title\":\"Happiness\",\"range\":[2.853,7.769],\"fixedrange\":true}}],\"label\":\"GNI per Capita\",\"method\":\"update\"}],\"x\":0.1,\"xanchor\":\"left\"}],\"width\":800,\"height\":600,\"autosize\":false,\"showlegend\":true},                        {\"responsive\": true}                    ).then(function(){\n",
       "                            \n",
       "var gd = document.getElementById('3e3d00ad-85ca-47c3-863e-9d3b8387b0eb');\n",
       "var x = new MutationObserver(function (mutations, observer) {{\n",
       "        var display = window.getComputedStyle(gd).display;\n",
       "        if (!display || display === 'none') {{\n",
       "            console.log([gd, 'removed!']);\n",
       "            Plotly.purge(gd);\n",
       "            observer.disconnect();\n",
       "        }}\n",
       "}});\n",
       "\n",
       "// Listen for the removal of the full notebook cells\n",
       "var notebookContainer = gd.closest('#notebook-container');\n",
       "if (notebookContainer) {{\n",
       "    x.observe(notebookContainer, {childList: true});\n",
       "}}\n",
       "\n",
       "// Listen for the clearing of the current output cell\n",
       "var outputEl = gd.closest('.output');\n",
       "if (outputEl) {{\n",
       "    x.observe(outputEl, {childList: true});\n",
       "}}\n",
       "\n",
       "                        })                };            </script>        </div>"
      ]
     },
     "metadata": {},
     "output_type": "display_data"
    }
   ],
   "source": [
    "import pandas as pd\n",
    "import numpy as np\n",
    "import plotly.graph_objects as go\n",
    "from plotly.offline import init_notebook_mode, iplot\n",
    "\n",
    "init_notebook_mode(connected=True)\n",
    "\n",
    "df = pd.read_csv('final.csv')\n",
    "\n",
    "df['Happiness_rank'] = df['Happiness'].rank(method='min', ascending=False).astype(int)\n",
    "total_countries = df['Country'].nunique()\n",
    "\n",
    "df_gini = df.dropna(subset=['Gini_index', 'Happiness', 'Country', 'Happiness_rank'])\n",
    "df_gdp  = df.dropna(subset=['GDP_current_usd', 'Happiness', 'Country', 'Happiness_rank'])\n",
    "df_gni  = df.dropna(subset=['GNI_current_usd', 'Happiness', 'Country', 'Happiness_rank'])\n",
    "\n",
    "x_range_gini = [df_gini['Gini_index'].min(), df_gini['Gini_index'].max()]\n",
    "x_range_gdp  = [df_gdp['GDP_current_usd'].min(), 5e11]\n",
    "x_range_gni  = [df_gni['GNI_current_usd'].min(), 5e11]\n",
    "y_range      = [df['Happiness'].min(), df['Happiness'].max()]\n",
    "\n",
    "def add_trend_trace(x, y, color, visible=True):\n",
    "    x_vals = x.values\n",
    "    y_vals = y.values\n",
    "    slope, intercept = np.polyfit(x_vals, y_vals, 1)\n",
    "    x_trend = np.linspace(min(x_vals), max(x_vals), 100)\n",
    "    y_trend = slope * x_trend + intercept\n",
    "    \n",
    "    return go.Scatter(\n",
    "        x=x_trend,\n",
    "        y=y_trend,\n",
    "        mode='lines',\n",
    "        line=dict(color=color, dash='dash'),\n",
    "        name='Trend Line',\n",
    "        visible=visible,\n",
    "        hoverinfo='skip'\n",
    "    )\n",
    "\n",
    "trace_gini = go.Scatter(\n",
    "    x=df_gini['Gini_index'],\n",
    "    y=df_gini['Happiness'],\n",
    "    mode='markers',\n",
    "    name='Gini Index',\n",
    "    visible=True,\n",
    "    text=df_gini['Country'],\n",
    "    customdata=df_gini['Happiness_rank'],\n",
    "    hovertemplate=(\n",
    "        \"Country: %{text}<br>\"\n",
    "        f\"Rank: %{{customdata}} out of {total_countries}<br>\"\n",
    "        \"Gini Index: %{x:.1f}<br>\"\n",
    "        \"Happiness: %{y:.2f}<extra></extra>\"\n",
    "    )\n",
    ")\n",
    "\n",
    "trace_gdp = go.Scatter(\n",
    "    x=df_gdp['GDP_current_usd'],\n",
    "    y=df_gdp['Happiness'],\n",
    "    mode='markers',\n",
    "    name='GDP per Capita',\n",
    "    visible=False,\n",
    "    text=df_gdp['Country'],\n",
    "    customdata=df_gdp['Happiness_rank'],\n",
    "    hovertemplate=(\n",
    "        \"Country: %{text}<br>\"\n",
    "        f\"Rank: %{{customdata}} out of {total_countries}<br>\"\n",
    "        \"GDP per Capita: $%{x:,.0f}<br>\"\n",
    "        \"Happiness: %{y:.2f}<extra></extra>\"\n",
    "    )\n",
    ")\n",
    "\n",
    "trace_gni = go.Scatter(\n",
    "    x=df_gni['GNI_current_usd'],\n",
    "    y=df_gni['Happiness'],\n",
    "    mode='markers',\n",
    "    name='GNI per Capita',\n",
    "    visible=False,\n",
    "    text=df_gni['Country'],\n",
    "    customdata=df_gni['Happiness_rank'],\n",
    "    hovertemplate=(\n",
    "        \"Country: %{text}<br>\"\n",
    "        f\"Rank: %{{customdata}} out of {total_countries}<br>\"\n",
    "        \"GNI per Capita: $%{x:,.0f}<br>\"\n",
    "        \"Happiness: %{y:.2f}<extra></extra>\"\n",
    "    )\n",
    ")\n",
    "\n",
    "trend_gini = add_trend_trace(df_gini['Gini_index'], df_gini['Happiness'], 'blue', True)\n",
    "trend_gdp  = add_trend_trace(df_gdp['GDP_current_usd'], df_gdp['Happiness'], 'blue', False)\n",
    "trend_gni  = add_trend_trace(df_gni['GNI_current_usd'], df_gni['Happiness'], 'blue', False)\n",
    "\n",
    "fig = go.Figure(data=[trace_gini, trace_gdp, trace_gni, trend_gini, trend_gdp, trend_gni])\n",
    "\n",
    "steps = [\n",
    "    dict(method='update', label='Gini Index',\n",
    "         args=[{'visible': [True, False, False, True, False, False]},\n",
    "               {'title': 'Happiness vs Gini Index',\n",
    "                'xaxis': {'title': 'Gini Index', 'range': x_range_gini, 'fixedrange': True},\n",
    "                'yaxis': {'title': 'Happiness', 'range': y_range, 'fixedrange': True}}]),\n",
    "    dict(method='update', label='GDP per Capita',\n",
    "         args=[{'visible': [False, True, False, False, True, False]},\n",
    "               {'title': 'Happiness vs GDP per Capita',\n",
    "                'xaxis': {'title': 'GDP per Capita (USD)', 'range': x_range_gdp, 'fixedrange': True},\n",
    "                'yaxis': {'title': 'Happiness', 'range': y_range, 'fixedrange': True}}]),\n",
    "    dict(method='update', label='GNI per Capita',\n",
    "         args=[{'visible': [False, False, True, False, False, True]},\n",
    "               {'title': 'Happiness vs GNI per Capita',\n",
    "                'xaxis': {'title': 'GNI per Capita (USD)', 'range': x_range_gni, 'fixedrange': True},\n",
    "                'yaxis': {'title': 'Happiness', 'range': y_range, 'fixedrange': True}}])\n",
    "]\n",
    "\n",
    "fig.update_layout(\n",
    "    paper_bgcolor='#EDF1EC',\n",
    "    plot_bgcolor='#EDF1EC',\n",
    "    sliders=[dict(\n",
    "        active=0,\n",
    "        currentvalue={'prefix': 'Metric: '},\n",
    "        pad={'t': 50},\n",
    "        steps=steps,\n",
    "        len=0.9,\n",
    "        x=0.1,\n",
    "        xanchor='left'\n",
    "    )],\n",
    "    title=\"Happiness vs Gini Index\",\n",
    "    title_font_color='black',\n",
    "    width=800,\n",
    "    height=600,\n",
    "    autosize=False,\n",
    "    margin=dict(t=80, b=80, l=80, r=80),\n",
    "    xaxis=dict(\n",
    "        title=dict(text='Gini Index', font=dict(size=14, color='black')),\n",
    "        range=x_range_gini,\n",
    "        fixedrange=True,\n",
    "        tickfont=dict(size=12, color='black'),\n",
    "        automargin=False\n",
    "    ),\n",
    "    yaxis=dict(\n",
    "        title=dict(text='Happiness', font=dict(size=14, color='black')),\n",
    "        range=y_range,\n",
    "        fixedrange=True,\n",
    "        tickmode='linear',\n",
    "        dtick=1,\n",
    "        tickfont=dict(size=12, color='black'),\n",
    "        automargin=False,\n",
    "        autorange='reversed'\n",
    "    ),\n",
    "    hoverlabel=dict(font=dict(size=12, color='black')),\n",
    "    showlegend=True,\n",
    "    legend=dict(\n",
    "        font=dict(size=12, color='black'),\n",
    "        x=0.01, y=0.99,\n",
    "        borderwidth=0,\n",
    "    )\n",
    ")\n",
    "\n",
    "fig.show()"
   ]
  },
  {
   "cell_type": "code",
   "execution_count": null,
   "id": "555c71a5",
   "metadata": {
    "tags": [
     "remove-input"
    ]
   },
   "outputs": [
    {
     "data": {
      "application/vnd.plotly.v1+json": {
       "config": {
        "plotlyServerURL": "https://plot.ly"
       },
       "data": [
        {
         "hoverinfo": "text",
         "hovertext": "Slovenia<br>Gini Index Rank: 1<br>Happiness Rank: 28<br>Mismatch: 27",
         "line": {
          "color": "#D81B60",
          "width": 2
         },
         "mode": "lines+markers",
         "name": "Slovenia",
         "type": "scatter",
         "x": [
          "Gini Index Rank",
          "Happiness Rank"
         ],
         "y": [
          1,
          28
         ]
        },
        {
         "hoverinfo": "text",
         "hovertext": "Belarus<br>Gini Index Rank: 2<br>Happiness Rank: 50<br>Mismatch: 48",
         "line": {
          "color": "#D81B60",
          "width": 2
         },
         "mode": "lines+markers",
         "name": "Belarus",
         "type": "scatter",
         "x": [
          "Gini Index Rank",
          "Happiness Rank"
         ],
         "y": [
          2,
          50
         ]
        },
        {
         "hoverinfo": "text",
         "hovertext": "Moldova<br>Gini Index Rank: 3<br>Happiness Rank: 46<br>Mismatch: 43",
         "line": {
          "color": "#D81B60",
          "width": 2
         },
         "mode": "lines+markers",
         "name": "Moldova",
         "type": "scatter",
         "x": [
          "Gini Index Rank",
          "Happiness Rank"
         ],
         "y": [
          3,
          46
         ]
        },
        {
         "hoverinfo": "text",
         "hovertext": "Ukraine<br>Gini Index Rank: 4<br>Happiness Rank: 62<br>Mismatch: 58",
         "line": {
          "color": "#D81B60",
          "width": 2
         },
         "mode": "lines+markers",
         "name": "Ukraine",
         "type": "scatter",
         "x": [
          "Gini Index Rank",
          "Happiness Rank"
         ],
         "y": [
          4,
          62
         ]
        },
        {
         "hoverinfo": "text",
         "hovertext": "Belgium<br>Gini Index Rank: 5<br>Happiness Rank: 15<br>Mismatch: 10",
         "line": {
          "color": "#1E88E5",
          "width": 2
         },
         "mode": "lines+markers",
         "name": "Belgium",
         "type": "scatter",
         "x": [
          "Gini Index Rank",
          "Happiness Rank"
         ],
         "y": [
          5,
          15
         ]
        },
        {
         "hoverinfo": "text",
         "hovertext": "Denmark<br>Gini Index Rank: 6<br>Happiness Rank: 2<br>Mismatch: 4",
         "line": {
          "color": "#1E88E5",
          "width": 2
         },
         "mode": "lines+markers",
         "name": "Denmark",
         "type": "scatter",
         "x": [
          "Gini Index Rank",
          "Happiness Rank"
         ],
         "y": [
          6,
          2
         ]
        },
        {
         "hoverinfo": "text",
         "hovertext": "Finland<br>Gini Index Rank: 7<br>Happiness Rank: 1<br>Mismatch: 6",
         "line": {
          "color": "#1E88E5",
          "width": 2
         },
         "mode": "lines+markers",
         "name": "Finland",
         "type": "scatter",
         "x": [
          "Gini Index Rank",
          "Happiness Rank"
         ],
         "y": [
          7,
          1
         ]
        },
        {
         "hoverinfo": "text",
         "hovertext": "Norway<br>Gini Index Rank: 8<br>Happiness Rank: 3<br>Mismatch: 5",
         "line": {
          "color": "#1E88E5",
          "width": 2
         },
         "mode": "lines+markers",
         "name": "Norway",
         "type": "scatter",
         "x": [
          "Gini Index Rank",
          "Happiness Rank"
         ],
         "y": [
          8,
          3
         ]
        },
        {
         "hoverinfo": "text",
         "hovertext": "Kazakhstan<br>Gini Index Rank: 9<br>Happiness Rank: 39<br>Mismatch: 30",
         "line": {
          "color": "#D81B60",
          "width": 2
         },
         "mode": "lines+markers",
         "name": "Kazakhstan",
         "type": "scatter",
         "x": [
          "Gini Index Rank",
          "Happiness Rank"
         ],
         "y": [
          9,
          39
         ]
        },
        {
         "hoverinfo": "text",
         "hovertext": "Poland<br>Gini Index Rank: 10<br>Happiness Rank: 25<br>Mismatch: 15",
         "line": {
          "color": "#1E88E5",
          "width": 2
         },
         "mode": "lines+markers",
         "name": "Poland",
         "type": "scatter",
         "x": [
          "Gini Index Rank",
          "Happiness Rank"
         ],
         "y": [
          10,
          25
         ]
        },
        {
         "hoverinfo": "text",
         "hovertext": "Croatia<br>Gini Index Rank: 11<br>Happiness Rank: 48<br>Mismatch: 37",
         "line": {
          "color": "#D81B60",
          "width": 2
         },
         "mode": "lines+markers",
         "name": "Croatia",
         "type": "scatter",
         "x": [
          "Gini Index Rank",
          "Happiness Rank"
         ],
         "y": [
          11,
          48
         ]
        },
        {
         "hoverinfo": "text",
         "hovertext": "Netherlands<br>Gini Index Rank: 12<br>Happiness Rank: 4<br>Mismatch: 8",
         "line": {
          "color": "#1E88E5",
          "width": 2
         },
         "mode": "lines+markers",
         "name": "Netherlands",
         "type": "scatter",
         "x": [
          "Gini Index Rank",
          "Happiness Rank"
         ],
         "y": [
          12,
          4
         ]
        },
        {
         "hoverinfo": "text",
         "hovertext": "Sweden<br>Gini Index Rank: 13<br>Happiness Rank: 6<br>Mismatch: 7",
         "line": {
          "color": "#1E88E5",
          "width": 2
         },
         "mode": "lines+markers",
         "name": "Sweden",
         "type": "scatter",
         "x": [
          "Gini Index Rank",
          "Happiness Rank"
         ],
         "y": [
          13,
          6
         ]
        },
        {
         "hoverinfo": "text",
         "hovertext": "Armenia<br>Gini Index Rank: 14<br>Happiness Rank: 57<br>Mismatch: 43",
         "line": {
          "color": "#D81B60",
          "width": 2
         },
         "mode": "lines+markers",
         "name": "Armenia",
         "type": "scatter",
         "x": [
          "Gini Index Rank",
          "Happiness Rank"
         ],
         "y": [
          14,
          57
         ]
        },
        {
         "hoverinfo": "text",
         "hovertext": "Hungary<br>Gini Index Rank: 15<br>Happiness Rank: 41<br>Mismatch: 26",
         "line": {
          "color": "#D81B60",
          "width": 2
         },
         "mode": "lines+markers",
         "name": "Hungary",
         "type": "scatter",
         "x": [
          "Gini Index Rank",
          "Happiness Rank"
         ],
         "y": [
          15,
          41
         ]
        },
        {
         "hoverinfo": "text",
         "hovertext": "Albania<br>Gini Index Rank: 16<br>Happiness Rank: 56<br>Mismatch: 40",
         "line": {
          "color": "#D81B60",
          "width": 2
         },
         "mode": "lines+markers",
         "name": "Albania",
         "type": "scatter",
         "x": [
          "Gini Index Rank",
          "Happiness Rank"
         ],
         "y": [
          16,
          56
         ]
        },
        {
         "hoverinfo": "text",
         "hovertext": "Austria<br>Gini Index Rank: 17<br>Happiness Rank: 8<br>Mismatch: 9",
         "line": {
          "color": "#1E88E5",
          "width": 2
         },
         "mode": "lines+markers",
         "name": "Austria",
         "type": "scatter",
         "x": [
          "Gini Index Rank",
          "Happiness Rank"
         ],
         "y": [
          17,
          8
         ]
        },
        {
         "hoverinfo": "text",
         "hovertext": "Ireland<br>Gini Index Rank: 18<br>Happiness Rank: 13<br>Mismatch: 5",
         "line": {
          "color": "#1E88E5",
          "width": 2
         },
         "mode": "lines+markers",
         "name": "Ireland",
         "type": "scatter",
         "x": [
          "Gini Index Rank",
          "Happiness Rank"
         ],
         "y": [
          18,
          13
         ]
        },
        {
         "hoverinfo": "text",
         "hovertext": "Estonia<br>Gini Index Rank: 19<br>Happiness Rank: 36<br>Mismatch: 17",
         "line": {
          "color": "#D81B60",
          "width": 2
         },
         "mode": "lines+markers",
         "name": "Estonia",
         "type": "scatter",
         "x": [
          "Gini Index Rank",
          "Happiness Rank"
         ],
         "y": [
          19,
          36
         ]
        },
        {
         "hoverinfo": "text",
         "hovertext": "Malta<br>Gini Index Rank: 20<br>Happiness Rank: 17<br>Mismatch: 3",
         "line": {
          "color": "#1E88E5",
          "width": 2
         },
         "mode": "lines+markers",
         "name": "Malta",
         "type": "scatter",
         "x": [
          "Gini Index Rank",
          "Happiness Rank"
         ],
         "y": [
          20,
          17
         ]
        },
        {
         "hoverinfo": "text",
         "hovertext": "Cyprus<br>Gini Index Rank: 21<br>Happiness Rank: 32<br>Mismatch: 11",
         "line": {
          "color": "#1E88E5",
          "width": 2
         },
         "mode": "lines+markers",
         "name": "Cyprus",
         "type": "scatter",
         "x": [
          "Gini Index Rank",
          "Happiness Rank"
         ],
         "y": [
          21,
          32
         ]
        },
        {
         "hoverinfo": "text",
         "hovertext": "France<br>Gini Index Rank: 22<br>Happiness Rank: 18<br>Mismatch: 4",
         "line": {
          "color": "#1E88E5",
          "width": 2
         },
         "mode": "lines+markers",
         "name": "France",
         "type": "scatter",
         "x": [
          "Gini Index Rank",
          "Happiness Rank"
         ],
         "y": [
          22,
          18
         ]
        },
        {
         "hoverinfo": "text",
         "hovertext": "Canada<br>Gini Index Rank: 23<br>Happiness Rank: 7<br>Mismatch: 16",
         "line": {
          "color": "#D81B60",
          "width": 2
         },
         "mode": "lines+markers",
         "name": "Canada",
         "type": "scatter",
         "x": [
          "Gini Index Rank",
          "Happiness Rank"
         ],
         "y": [
          23,
          7
         ]
        },
        {
         "hoverinfo": "text",
         "hovertext": "Germany<br>Gini Index Rank: 24<br>Happiness Rank: 14<br>Mismatch: 10",
         "line": {
          "color": "#1E88E5",
          "width": 2
         },
         "mode": "lines+markers",
         "name": "Germany",
         "type": "scatter",
         "x": [
          "Gini Index Rank",
          "Happiness Rank"
         ],
         "y": [
          24,
          14
         ]
        },
        {
         "hoverinfo": "text",
         "hovertext": "Mauritania<br>Gini Index Rank: 25<br>Happiness Rank: 59<br>Mismatch: 34",
         "line": {
          "color": "#D81B60",
          "width": 2
         },
         "mode": "lines+markers",
         "name": "Mauritania",
         "type": "scatter",
         "x": [
          "Gini Index Rank",
          "Happiness Rank"
         ],
         "y": [
          25,
          59
         ]
        },
        {
         "hoverinfo": "text",
         "hovertext": "Portugal<br>Gini Index Rank: 26<br>Happiness Rank: 44<br>Mismatch: 18",
         "line": {
          "color": "#D81B60",
          "width": 2
         },
         "mode": "lines+markers",
         "name": "Portugal",
         "type": "scatter",
         "x": [
          "Gini Index Rank",
          "Happiness Rank"
         ],
         "y": [
          26,
          44
         ]
        },
        {
         "hoverinfo": "text",
         "hovertext": "United Kingdom<br>Gini Index Rank: 27<br>Happiness Rank: 12<br>Mismatch: 15",
         "line": {
          "color": "#1E88E5",
          "width": 2
         },
         "mode": "lines+markers",
         "name": "United Kingdom",
         "type": "scatter",
         "x": [
          "Gini Index Rank",
          "Happiness Rank"
         ],
         "y": [
          27,
          12
         ]
        },
        {
         "hoverinfo": "text",
         "hovertext": "Japan<br>Gini Index Rank: 28<br>Happiness Rank: 37<br>Mismatch: 9",
         "line": {
          "color": "#1E88E5",
          "width": 2
         },
         "mode": "lines+markers",
         "name": "Japan",
         "type": "scatter",
         "x": [
          "Gini Index Rank",
          "Happiness Rank"
         ],
         "y": [
          28,
          37
         ]
        },
        {
         "hoverinfo": "text",
         "hovertext": "Greece<br>Gini Index Rank: 29<br>Happiness Rank: 51<br>Mismatch: 22",
         "line": {
          "color": "#D81B60",
          "width": 2
         },
         "mode": "lines+markers",
         "name": "Greece",
         "type": "scatter",
         "x": [
          "Gini Index Rank",
          "Happiness Rank"
         ],
         "y": [
          29,
          51
         ]
        },
        {
         "hoverinfo": "text",
         "hovertext": "North Macedonia<br>Gini Index Rank: 30<br>Happiness Rank: 52<br>Mismatch: 22",
         "line": {
          "color": "#D81B60",
          "width": 2
         },
         "mode": "lines+markers",
         "name": "North Macedonia",
         "type": "scatter",
         "x": [
          "Gini Index Rank",
          "Happiness Rank"
         ],
         "y": [
          30,
          52
         ]
        },
        {
         "hoverinfo": "text",
         "hovertext": "Switzerland<br>Gini Index Rank: 31<br>Happiness Rank: 5<br>Mismatch: 26",
         "line": {
          "color": "#D81B60",
          "width": 2
         },
         "mode": "lines+markers",
         "name": "Switzerland",
         "type": "scatter",
         "x": [
          "Gini Index Rank",
          "Happiness Rank"
         ],
         "y": [
          31,
          5
         ]
        },
        {
         "hoverinfo": "text",
         "hovertext": "Luxembourg<br>Gini Index Rank: 32<br>Happiness Rank: 11<br>Mismatch: 21",
         "line": {
          "color": "#D81B60",
          "width": 2
         },
         "mode": "lines+markers",
         "name": "Luxembourg",
         "type": "scatter",
         "x": [
          "Gini Index Rank",
          "Happiness Rank"
         ],
         "y": [
          32,
          11
         ]
        },
        {
         "hoverinfo": "text",
         "hovertext": "Spain<br>Gini Index Rank: 33<br>Happiness Rank: 19<br>Mismatch: 14",
         "line": {
          "color": "#1E88E5",
          "width": 2
         },
         "mode": "lines+markers",
         "name": "Spain",
         "type": "scatter",
         "x": [
          "Gini Index Rank",
          "Happiness Rank"
         ],
         "y": [
          33,
          19
         ]
        },
        {
         "hoverinfo": "text",
         "hovertext": "Latvia<br>Gini Index Rank: 34<br>Happiness Rank: 35<br>Mismatch: 1",
         "line": {
          "color": "#1E88E5",
          "width": 2
         },
         "mode": "lines+markers",
         "name": "Latvia",
         "type": "scatter",
         "x": [
          "Gini Index Rank",
          "Happiness Rank"
         ],
         "y": [
          34,
          35
         ]
        },
        {
         "hoverinfo": "text",
         "hovertext": "Serbia<br>Gini Index Rank: 35<br>Happiness Rank: 45<br>Mismatch: 10",
         "line": {
          "color": "#1E88E5",
          "width": 2
         },
         "mode": "lines+markers",
         "name": "Serbia",
         "type": "scatter",
         "x": [
          "Gini Index Rank",
          "Happiness Rank"
         ],
         "y": [
          35,
          45
         ]
        },
        {
         "hoverinfo": "text",
         "hovertext": "Italy<br>Gini Index Rank: 36<br>Happiness Rank: 24<br>Mismatch: 12",
         "line": {
          "color": "#1E88E5",
          "width": 2
         },
         "mode": "lines+markers",
         "name": "Italy",
         "type": "scatter",
         "x": [
          "Gini Index Rank",
          "Happiness Rank"
         ],
         "y": [
          36,
          24
         ]
        },
        {
         "hoverinfo": "text",
         "hovertext": "Romania<br>Gini Index Rank: 37<br>Happiness Rank: 31<br>Mismatch: 6",
         "line": {
          "color": "#1E88E5",
          "width": 2
         },
         "mode": "lines+markers",
         "name": "Romania",
         "type": "scatter",
         "x": [
          "Gini Index Rank",
          "Happiness Rank"
         ],
         "y": [
          37,
          31
         ]
        },
        {
         "hoverinfo": "text",
         "hovertext": "Thailand<br>Gini Index Rank: 38<br>Happiness Rank: 34<br>Mismatch: 4",
         "line": {
          "color": "#1E88E5",
          "width": 2
         },
         "mode": "lines+markers",
         "name": "Thailand",
         "type": "scatter",
         "x": [
          "Gini Index Rank",
          "Happiness Rank"
         ],
         "y": [
          38,
          34
         ]
        },
        {
         "hoverinfo": "text",
         "hovertext": "Lithuania<br>Gini Index Rank: 39<br>Happiness Rank: 26<br>Mismatch: 13",
         "line": {
          "color": "#1E88E5",
          "width": 2
         },
         "mode": "lines+markers",
         "name": "Lithuania",
         "type": "scatter",
         "x": [
          "Gini Index Rank",
          "Happiness Rank"
         ],
         "y": [
          39,
          26
         ]
        },
        {
         "hoverinfo": "text",
         "hovertext": "Indonesia<br>Gini Index Rank: 40<br>Happiness Rank: 53<br>Mismatch: 13",
         "line": {
          "color": "#1E88E5",
          "width": 2
         },
         "mode": "lines+markers",
         "name": "Indonesia",
         "type": "scatter",
         "x": [
          "Gini Index Rank",
          "Happiness Rank"
         ],
         "y": [
          40,
          53
         ]
        },
        {
         "hoverinfo": "text",
         "hovertext": "Montenegro<br>Gini Index Rank: 41<br>Happiness Rank: 47<br>Mismatch: 6",
         "line": {
          "color": "#1E88E5",
          "width": 2
         },
         "mode": "lines+markers",
         "name": "Montenegro",
         "type": "scatter",
         "x": [
          "Gini Index Rank",
          "Happiness Rank"
         ],
         "y": [
          41,
          47
         ]
        },
        {
         "hoverinfo": "text",
         "hovertext": "Georgia<br>Gini Index Rank: 42<br>Happiness Rank: 58<br>Mismatch: 16",
         "line": {
          "color": "#D81B60",
          "width": 2
         },
         "mode": "lines+markers",
         "name": "Georgia",
         "type": "scatter",
         "x": [
          "Gini Index Rank",
          "Happiness Rank"
         ],
         "y": [
          42,
          58
         ]
        },
        {
         "hoverinfo": "text",
         "hovertext": "Sri Lanka<br>Gini Index Rank: 43<br>Happiness Rank: 61<br>Mismatch: 18",
         "line": {
          "color": "#D81B60",
          "width": 2
         },
         "mode": "lines+markers",
         "name": "Sri Lanka",
         "type": "scatter",
         "x": [
          "Gini Index Rank",
          "Happiness Rank"
         ],
         "y": [
          43,
          61
         ]
        },
        {
         "hoverinfo": "text",
         "hovertext": "China<br>Gini Index Rank: 44<br>Happiness Rank: 54<br>Mismatch: 10",
         "line": {
          "color": "#1E88E5",
          "width": 2
         },
         "mode": "lines+markers",
         "name": "China",
         "type": "scatter",
         "x": [
          "Gini Index Rank",
          "Happiness Rank"
         ],
         "y": [
          44,
          54
         ]
        },
        {
         "hoverinfo": "text",
         "hovertext": "Israel<br>Gini Index Rank: 45<br>Happiness Rank: 10<br>Mismatch: 35",
         "line": {
          "color": "#D81B60",
          "width": 2
         },
         "mode": "lines+markers",
         "name": "Israel",
         "type": "scatter",
         "x": [
          "Gini Index Rank",
          "Happiness Rank"
         ],
         "y": [
          45,
          10
         ]
        },
        {
         "hoverinfo": "text",
         "hovertext": "Malawi<br>Gini Index Rank: 46<br>Happiness Rank: 65<br>Mismatch: 19",
         "line": {
          "color": "#D81B60",
          "width": 2
         },
         "mode": "lines+markers",
         "name": "Malawi",
         "type": "scatter",
         "x": [
          "Gini Index Rank",
          "Happiness Rank"
         ],
         "y": [
          46,
          65
         ]
        },
        {
         "hoverinfo": "text",
         "hovertext": "El Salvador<br>Gini Index Rank: 47<br>Happiness Rank: 23<br>Mismatch: 24",
         "line": {
          "color": "#D81B60",
          "width": 2
         },
         "mode": "lines+markers",
         "name": "El Salvador",
         "type": "scatter",
         "x": [
          "Gini Index Rank",
          "Happiness Rank"
         ],
         "y": [
          47,
          23
         ]
        },
        {
         "hoverinfo": "text",
         "hovertext": "Uruguay<br>Gini Index Rank: 48<br>Happiness Rank: 22<br>Mismatch: 26",
         "line": {
          "color": "#D81B60",
          "width": 2
         },
         "mode": "lines+markers",
         "name": "Uruguay",
         "type": "scatter",
         "x": [
          "Gini Index Rank",
          "Happiness Rank"
         ],
         "y": [
          48,
          22
         ]
        },
        {
         "hoverinfo": "text",
         "hovertext": "Kosovo<br>Gini Index Rank: 49<br>Happiness Rank: 29<br>Mismatch: 20",
         "line": {
          "color": "#D81B60",
          "width": 2
         },
         "mode": "lines+markers",
         "name": "Kosovo",
         "type": "scatter",
         "x": [
          "Gini Index Rank",
          "Happiness Rank"
         ],
         "y": [
          49,
          29
         ]
        },
        {
         "hoverinfo": "text",
         "hovertext": "Bulgaria<br>Gini Index Rank: 50<br>Happiness Rank: 55<br>Mismatch: 5",
         "line": {
          "color": "#1E88E5",
          "width": 2
         },
         "mode": "lines+markers",
         "name": "Bulgaria",
         "type": "scatter",
         "x": [
          "Gini Index Rank",
          "Happiness Rank"
         ],
         "y": [
          50,
          55
         ]
        },
        {
         "hoverinfo": "text",
         "hovertext": "Peru<br>Gini Index Rank: 51<br>Happiness Rank: 43<br>Mismatch: 8",
         "line": {
          "color": "#1E88E5",
          "width": 2
         },
         "mode": "lines+markers",
         "name": "Peru",
         "type": "scatter",
         "x": [
          "Gini Index Rank",
          "Happiness Rank"
         ],
         "y": [
          51,
          43
         ]
        },
        {
         "hoverinfo": "text",
         "hovertext": "Bolivia<br>Gini Index Rank: 52<br>Happiness Rank: 40<br>Mismatch: 12",
         "line": {
          "color": "#1E88E5",
          "width": 2
         },
         "mode": "lines+markers",
         "name": "Bolivia",
         "type": "scatter",
         "x": [
          "Gini Index Rank",
          "Happiness Rank"
         ],
         "y": [
          52,
          40
         ]
        },
        {
         "hoverinfo": "text",
         "hovertext": "Dominican Republic<br>Gini Index Rank: 53<br>Happiness Rank: 49<br>Mismatch: 4",
         "line": {
          "color": "#1E88E5",
          "width": 2
         },
         "mode": "lines+markers",
         "name": "Dominican Republic",
         "type": "scatter",
         "x": [
          "Gini Index Rank",
          "Happiness Rank"
         ],
         "y": [
          53,
          49
         ]
        },
        {
         "hoverinfo": "text",
         "hovertext": "United States<br>Gini Index Rank: 54<br>Happiness Rank: 16<br>Mismatch: 38",
         "line": {
          "color": "#D81B60",
          "width": 2
         },
         "mode": "lines+markers",
         "name": "United States",
         "type": "scatter",
         "x": [
          "Gini Index Rank",
          "Happiness Rank"
         ],
         "y": [
          54,
          16
         ]
        },
        {
         "hoverinfo": "text",
         "hovertext": "Uganda<br>Gini Index Rank: 55<br>Happiness Rank: 63<br>Mismatch: 8",
         "line": {
          "color": "#1E88E5",
          "width": 2
         },
         "mode": "lines+markers",
         "name": "Uganda",
         "type": "scatter",
         "x": [
          "Gini Index Rank",
          "Happiness Rank"
         ],
         "y": [
          55,
          63
         ]
        },
        {
         "hoverinfo": "text",
         "hovertext": "Argentina<br>Gini Index Rank: 56<br>Happiness Rank: 30<br>Mismatch: 26",
         "line": {
          "color": "#D81B60",
          "width": 2
         },
         "mode": "lines+markers",
         "name": "Argentina",
         "type": "scatter",
         "x": [
          "Gini Index Rank",
          "Happiness Rank"
         ],
         "y": [
          56,
          30
         ]
        },
        {
         "hoverinfo": "text",
         "hovertext": "Ecuador<br>Gini Index Rank: 57<br>Happiness Rank: 33<br>Mismatch: 24",
         "line": {
          "color": "#D81B60",
          "width": 2
         },
         "mode": "lines+markers",
         "name": "Ecuador",
         "type": "scatter",
         "x": [
          "Gini Index Rank",
          "Happiness Rank"
         ],
         "y": [
          57,
          33
         ]
        },
        {
         "hoverinfo": "text",
         "hovertext": "Paraguay<br>Gini Index Rank: 58<br>Happiness Rank: 42<br>Mismatch: 16",
         "line": {
          "color": "#D81B60",
          "width": 2
         },
         "mode": "lines+markers",
         "name": "Paraguay",
         "type": "scatter",
         "x": [
          "Gini Index Rank",
          "Happiness Rank"
         ],
         "y": [
          58,
          42
         ]
        },
        {
         "hoverinfo": "text",
         "hovertext": "Costa Rica<br>Gini Index Rank: 59<br>Happiness Rank: 9<br>Mismatch: 50",
         "line": {
          "color": "#D81B60",
          "width": 2
         },
         "mode": "lines+markers",
         "name": "Costa Rica",
         "type": "scatter",
         "x": [
          "Gini Index Rank",
          "Happiness Rank"
         ],
         "y": [
          59,
          9
         ]
        },
        {
         "hoverinfo": "text",
         "hovertext": "Honduras<br>Gini Index Rank: 60<br>Happiness Rank: 38<br>Mismatch: 22",
         "line": {
          "color": "#D81B60",
          "width": 2
         },
         "mode": "lines+markers",
         "name": "Honduras",
         "type": "scatter",
         "x": [
          "Gini Index Rank",
          "Happiness Rank"
         ],
         "y": [
          60,
          38
         ]
        },
        {
         "hoverinfo": "text",
         "hovertext": "Panama<br>Gini Index Rank: 61<br>Happiness Rank: 20<br>Mismatch: 41",
         "line": {
          "color": "#D81B60",
          "width": 2
         },
         "mode": "lines+markers",
         "name": "Panama",
         "type": "scatter",
         "x": [
          "Gini Index Rank",
          "Happiness Rank"
         ],
         "y": [
          61,
          20
         ]
        },
        {
         "hoverinfo": "text",
         "hovertext": "Mozambique<br>Gini Index Rank: 62<br>Happiness Rank: 60<br>Mismatch: 2",
         "line": {
          "color": "#1E88E5",
          "width": 2
         },
         "mode": "lines+markers",
         "name": "Mozambique",
         "type": "scatter",
         "x": [
          "Gini Index Rank",
          "Happiness Rank"
         ],
         "y": [
          62,
          60
         ]
        },
        {
         "hoverinfo": "text",
         "hovertext": "Zimbabwe<br>Gini Index Rank: 63<br>Happiness Rank: 64<br>Mismatch: 1",
         "line": {
          "color": "#1E88E5",
          "width": 2
         },
         "mode": "lines+markers",
         "name": "Zimbabwe",
         "type": "scatter",
         "x": [
          "Gini Index Rank",
          "Happiness Rank"
         ],
         "y": [
          63,
          64
         ]
        },
        {
         "hoverinfo": "text",
         "hovertext": "Colombia<br>Gini Index Rank: 64<br>Happiness Rank: 27<br>Mismatch: 37",
         "line": {
          "color": "#D81B60",
          "width": 2
         },
         "mode": "lines+markers",
         "name": "Colombia",
         "type": "scatter",
         "x": [
          "Gini Index Rank",
          "Happiness Rank"
         ],
         "y": [
          64,
          27
         ]
        },
        {
         "hoverinfo": "text",
         "hovertext": "Brazil<br>Gini Index Rank: 65<br>Happiness Rank: 21<br>Mismatch: 44",
         "line": {
          "color": "#D81B60",
          "width": 2
         },
         "mode": "lines+markers",
         "name": "Brazil",
         "type": "scatter",
         "x": [
          "Gini Index Rank",
          "Happiness Rank"
         ],
         "y": [
          65,
          21
         ]
        },
        {
         "hoverinfo": "text",
         "hovertext": "United States<br>GDP Rank: 1<br>Happiness Rank: 19<br>Mismatch: 18",
         "line": {
          "color": "#1E88E5",
          "width": 2
         },
         "mode": "lines+markers",
         "name": "United States",
         "type": "scatter",
         "visible": false,
         "x": [
          "GDP Rank",
          "Happiness Rank"
         ],
         "y": [
          1,
          19
         ]
        },
        {
         "hoverinfo": "text",
         "hovertext": "China<br>GDP Rank: 2<br>Happiness Rank: 83<br>Mismatch: 81",
         "line": {
          "color": "#D81B60",
          "width": 2
         },
         "mode": "lines+markers",
         "name": "China",
         "type": "scatter",
         "visible": false,
         "x": [
          "GDP Rank",
          "Happiness Rank"
         ],
         "y": [
          2,
          83
         ]
        },
        {
         "hoverinfo": "text",
         "hovertext": "Japan<br>GDP Rank: 3<br>Happiness Rank: 53<br>Mismatch: 50",
         "line": {
          "color": "#D81B60",
          "width": 2
         },
         "mode": "lines+markers",
         "name": "Japan",
         "type": "scatter",
         "visible": false,
         "x": [
          "GDP Rank",
          "Happiness Rank"
         ],
         "y": [
          3,
          53
         ]
        },
        {
         "hoverinfo": "text",
         "hovertext": "Germany<br>GDP Rank: 4<br>Happiness Rank: 17<br>Mismatch: 13",
         "line": {
          "color": "#1E88E5",
          "width": 2
         },
         "mode": "lines+markers",
         "name": "Germany",
         "type": "scatter",
         "visible": false,
         "x": [
          "GDP Rank",
          "Happiness Rank"
         ],
         "y": [
          4,
          17
         ]
        },
        {
         "hoverinfo": "text",
         "hovertext": "United Kingdom<br>GDP Rank: 5<br>Happiness Rank: 15<br>Mismatch: 10",
         "line": {
          "color": "#1E88E5",
          "width": 2
         },
         "mode": "lines+markers",
         "name": "United Kingdom",
         "type": "scatter",
         "visible": false,
         "x": [
          "GDP Rank",
          "Happiness Rank"
         ],
         "y": [
          5,
          15
         ]
        },
        {
         "hoverinfo": "text",
         "hovertext": "India<br>GDP Rank: 6<br>Happiness Rank: 119<br>Mismatch: 113",
         "line": {
          "color": "#D81B60",
          "width": 2
         },
         "mode": "lines+markers",
         "name": "India",
         "type": "scatter",
         "visible": false,
         "x": [
          "GDP Rank",
          "Happiness Rank"
         ],
         "y": [
          6,
          119
         ]
        },
        {
         "hoverinfo": "text",
         "hovertext": "France<br>GDP Rank: 7<br>Happiness Rank: 23<br>Mismatch: 16",
         "line": {
          "color": "#1E88E5",
          "width": 2
         },
         "mode": "lines+markers",
         "name": "France",
         "type": "scatter",
         "visible": false,
         "x": [
          "GDP Rank",
          "Happiness Rank"
         ],
         "y": [
          7,
          23
         ]
        },
        {
         "hoverinfo": "text",
         "hovertext": "Italy<br>GDP Rank: 8<br>Happiness Rank: 34<br>Mismatch: 26",
         "line": {
          "color": "#1E88E5",
          "width": 2
         },
         "mode": "lines+markers",
         "name": "Italy",
         "type": "scatter",
         "visible": false,
         "x": [
          "GDP Rank",
          "Happiness Rank"
         ],
         "y": [
          8,
          34
         ]
        },
        {
         "hoverinfo": "text",
         "hovertext": "Brazil<br>GDP Rank: 9<br>Happiness Rank: 30<br>Mismatch: 21",
         "line": {
          "color": "#1E88E5",
          "width": 2
         },
         "mode": "lines+markers",
         "name": "Brazil",
         "type": "scatter",
         "visible": false,
         "x": [
          "GDP Rank",
          "Happiness Rank"
         ],
         "y": [
          9,
          30
         ]
        },
        {
         "hoverinfo": "text",
         "hovertext": "Canada<br>GDP Rank: 10<br>Happiness Rank: 9<br>Mismatch: 1",
         "line": {
          "color": "#1E88E5",
          "width": 2
         },
         "mode": "lines+markers",
         "name": "Canada",
         "type": "scatter",
         "visible": false,
         "x": [
          "GDP Rank",
          "Happiness Rank"
         ],
         "y": [
          10,
          9
         ]
        },
        {
         "hoverinfo": "text",
         "hovertext": "Spain<br>GDP Rank: 11<br>Happiness Rank: 28<br>Mismatch: 17",
         "line": {
          "color": "#1E88E5",
          "width": 2
         },
         "mode": "lines+markers",
         "name": "Spain",
         "type": "scatter",
         "visible": false,
         "x": [
          "GDP Rank",
          "Happiness Rank"
         ],
         "y": [
          11,
          28
         ]
        },
        {
         "hoverinfo": "text",
         "hovertext": "Australia<br>GDP Rank: 12<br>Happiness Rank: 11<br>Mismatch: 1",
         "line": {
          "color": "#1E88E5",
          "width": 2
         },
         "mode": "lines+markers",
         "name": "Australia",
         "type": "scatter",
         "visible": false,
         "x": [
          "GDP Rank",
          "Happiness Rank"
         ],
         "y": [
          12,
          11
         ]
        },
        {
         "hoverinfo": "text",
         "hovertext": "Mexico<br>GDP Rank: 13<br>Happiness Rank: 22<br>Mismatch: 9",
         "line": {
          "color": "#1E88E5",
          "width": 2
         },
         "mode": "lines+markers",
         "name": "Mexico",
         "type": "scatter",
         "visible": false,
         "x": [
          "GDP Rank",
          "Happiness Rank"
         ],
         "y": [
          13,
          22
         ]
        },
        {
         "hoverinfo": "text",
         "hovertext": "Indonesia<br>GDP Rank: 14<br>Happiness Rank: 82<br>Mismatch: 68",
         "line": {
          "color": "#D81B60",
          "width": 2
         },
         "mode": "lines+markers",
         "name": "Indonesia",
         "type": "scatter",
         "visible": false,
         "x": [
          "GDP Rank",
          "Happiness Rank"
         ],
         "y": [
          14,
          82
         ]
        },
        {
         "hoverinfo": "text",
         "hovertext": "Netherlands<br>GDP Rank: 15<br>Happiness Rank: 5<br>Mismatch: 10",
         "line": {
          "color": "#1E88E5",
          "width": 2
         },
         "mode": "lines+markers",
         "name": "Netherlands",
         "type": "scatter",
         "visible": false,
         "x": [
          "GDP Rank",
          "Happiness Rank"
         ],
         "y": [
          15,
          5
         ]
        },
        {
         "hoverinfo": "text",
         "hovertext": "Saudi Arabia<br>GDP Rank: 16<br>Happiness Rank: 26<br>Mismatch: 10",
         "line": {
          "color": "#1E88E5",
          "width": 2
         },
         "mode": "lines+markers",
         "name": "Saudi Arabia",
         "type": "scatter",
         "visible": false,
         "x": [
          "GDP Rank",
          "Happiness Rank"
         ],
         "y": [
          16,
          26
         ]
        },
        {
         "hoverinfo": "text",
         "hovertext": "Switzerland<br>GDP Rank: 17<br>Happiness Rank: 6<br>Mismatch: 11",
         "line": {
          "color": "#1E88E5",
          "width": 2
         },
         "mode": "lines+markers",
         "name": "Switzerland",
         "type": "scatter",
         "visible": false,
         "x": [
          "GDP Rank",
          "Happiness Rank"
         ],
         "y": [
          17,
          6
         ]
        },
        {
         "hoverinfo": "text",
         "hovertext": "Poland<br>GDP Rank: 18<br>Happiness Rank: 36<br>Mismatch: 18",
         "line": {
          "color": "#1E88E5",
          "width": 2
         },
         "mode": "lines+markers",
         "name": "Poland",
         "type": "scatter",
         "visible": false,
         "x": [
          "GDP Rank",
          "Happiness Rank"
         ],
         "y": [
          18,
          36
         ]
        },
        {
         "hoverinfo": "text",
         "hovertext": "Thailand<br>GDP Rank: 19<br>Happiness Rank: 48<br>Mismatch: 29",
         "line": {
          "color": "#1E88E5",
          "width": 2
         },
         "mode": "lines+markers",
         "name": "Thailand",
         "type": "scatter",
         "visible": false,
         "x": [
          "GDP Rank",
          "Happiness Rank"
         ],
         "y": [
          19,
          48
         ]
        },
        {
         "hoverinfo": "text",
         "hovertext": "Belgium<br>GDP Rank: 20<br>Happiness Rank: 18<br>Mismatch: 2",
         "line": {
          "color": "#1E88E5",
          "width": 2
         },
         "mode": "lines+markers",
         "name": "Belgium",
         "type": "scatter",
         "visible": false,
         "x": [
          "GDP Rank",
          "Happiness Rank"
         ],
         "y": [
          20,
          18
         ]
        },
        {
         "hoverinfo": "text",
         "hovertext": "Sweden<br>GDP Rank: 21<br>Happiness Rank: 7<br>Mismatch: 14",
         "line": {
          "color": "#1E88E5",
          "width": 2
         },
         "mode": "lines+markers",
         "name": "Sweden",
         "type": "scatter",
         "visible": false,
         "x": [
          "GDP Rank",
          "Happiness Rank"
         ],
         "y": [
          21,
          7
         ]
        },
        {
         "hoverinfo": "text",
         "hovertext": "Nigeria<br>GDP Rank: 22<br>Happiness Rank: 76<br>Mismatch: 54",
         "line": {
          "color": "#D81B60",
          "width": 2
         },
         "mode": "lines+markers",
         "name": "Nigeria",
         "type": "scatter",
         "visible": false,
         "x": [
          "GDP Rank",
          "Happiness Rank"
         ],
         "y": [
          22,
          76
         ]
        },
        {
         "hoverinfo": "text",
         "hovertext": "Argentina<br>GDP Rank: 23<br>Happiness Rank: 43<br>Mismatch: 20",
         "line": {
          "color": "#1E88E5",
          "width": 2
         },
         "mode": "lines+markers",
         "name": "Argentina",
         "type": "scatter",
         "visible": false,
         "x": [
          "GDP Rank",
          "Happiness Rank"
         ],
         "y": [
          23,
          43
         ]
        },
        {
         "hoverinfo": "text",
         "hovertext": "Austria<br>GDP Rank: 24<br>Happiness Rank: 10<br>Mismatch: 14",
         "line": {
          "color": "#1E88E5",
          "width": 2
         },
         "mode": "lines+markers",
         "name": "Austria",
         "type": "scatter",
         "visible": false,
         "x": [
          "GDP Rank",
          "Happiness Rank"
         ],
         "y": [
          24,
          10
         ]
        },
        {
         "hoverinfo": "text",
         "hovertext": "United Arab Emirates<br>GDP Rank: 25<br>Happiness Rank: 20<br>Mismatch: 5",
         "line": {
          "color": "#1E88E5",
          "width": 2
         },
         "mode": "lines+markers",
         "name": "United Arab Emirates",
         "type": "scatter",
         "visible": false,
         "x": [
          "GDP Rank",
          "Happiness Rank"
         ],
         "y": [
          25,
          20
         ]
        },
        {
         "hoverinfo": "text",
         "hovertext": "Norway<br>GDP Rank: 26<br>Happiness Rank: 3<br>Mismatch: 23",
         "line": {
          "color": "#1E88E5",
          "width": 2
         },
         "mode": "lines+markers",
         "name": "Norway",
         "type": "scatter",
         "visible": false,
         "x": [
          "GDP Rank",
          "Happiness Rank"
         ],
         "y": [
          26,
          3
         ]
        },
        {
         "hoverinfo": "text",
         "hovertext": "Ireland<br>GDP Rank: 27<br>Happiness Rank: 16<br>Mismatch: 11",
         "line": {
          "color": "#1E88E5",
          "width": 2
         },
         "mode": "lines+markers",
         "name": "Ireland",
         "type": "scatter",
         "visible": false,
         "x": [
          "GDP Rank",
          "Happiness Rank"
         ],
         "y": [
          27,
          16
         ]
        },
        {
         "hoverinfo": "text",
         "hovertext": "Israel<br>GDP Rank: 28<br>Happiness Rank: 13<br>Mismatch: 15",
         "line": {
          "color": "#1E88E5",
          "width": 2
         },
         "mode": "lines+markers",
         "name": "Israel",
         "type": "scatter",
         "visible": false,
         "x": [
          "GDP Rank",
          "Happiness Rank"
         ],
         "y": [
          28,
          13
         ]
        },
        {
         "hoverinfo": "text",
         "hovertext": "South Africa<br>GDP Rank: 29<br>Happiness Rank: 92<br>Mismatch: 63",
         "line": {
          "color": "#D81B60",
          "width": 2
         },
         "mode": "lines+markers",
         "name": "South Africa",
         "type": "scatter",
         "visible": false,
         "x": [
          "GDP Rank",
          "Happiness Rank"
         ],
         "y": [
          29,
          92
         ]
        },
        {
         "hoverinfo": "text",
         "hovertext": "Singapore<br>GDP Rank: 30<br>Happiness Rank: 32<br>Mismatch: 2",
         "line": {
          "color": "#1E88E5",
          "width": 2
         },
         "mode": "lines+markers",
         "name": "Singapore",
         "type": "scatter",
         "visible": false,
         "x": [
          "GDP Rank",
          "Happiness Rank"
         ],
         "y": [
          30,
          32
         ]
        },
        {
         "hoverinfo": "text",
         "hovertext": "Philippines<br>GDP Rank: 31<br>Happiness Rank: 62<br>Mismatch: 31",
         "line": {
          "color": "#D81B60",
          "width": 2
         },
         "mode": "lines+markers",
         "name": "Philippines",
         "type": "scatter",
         "visible": false,
         "x": [
          "GDP Rank",
          "Happiness Rank"
         ],
         "y": [
          31,
          62
         ]
        },
        {
         "hoverinfo": "text",
         "hovertext": "Malaysia<br>GDP Rank: 32<br>Happiness Rank: 71<br>Mismatch: 39",
         "line": {
          "color": "#D81B60",
          "width": 2
         },
         "mode": "lines+markers",
         "name": "Malaysia",
         "type": "scatter",
         "visible": false,
         "x": [
          "GDP Rank",
          "Happiness Rank"
         ],
         "y": [
          32,
          71
         ]
        },
        {
         "hoverinfo": "text",
         "hovertext": "Bangladesh<br>GDP Rank: 33<br>Happiness Rank: 107<br>Mismatch: 74",
         "line": {
          "color": "#D81B60",
          "width": 2
         },
         "mode": "lines+markers",
         "name": "Bangladesh",
         "type": "scatter",
         "visible": false,
         "x": [
          "GDP Rank",
          "Happiness Rank"
         ],
         "y": [
          33,
          107
         ]
        },
        {
         "hoverinfo": "text",
         "hovertext": "Denmark<br>GDP Rank: 34<br>Happiness Rank: 2<br>Mismatch: 32",
         "line": {
          "color": "#D81B60",
          "width": 2
         },
         "mode": "lines+markers",
         "name": "Denmark",
         "type": "scatter",
         "visible": false,
         "x": [
          "GDP Rank",
          "Happiness Rank"
         ],
         "y": [
          34,
          2
         ]
        },
        {
         "hoverinfo": "text",
         "hovertext": "Colombia<br>GDP Rank: 35<br>Happiness Rank: 39<br>Mismatch: 4",
         "line": {
          "color": "#1E88E5",
          "width": 2
         },
         "mode": "lines+markers",
         "name": "Colombia",
         "type": "scatter",
         "visible": false,
         "x": [
          "GDP Rank",
          "Happiness Rank"
         ],
         "y": [
          35,
          39
         ]
        },
        {
         "hoverinfo": "text",
         "hovertext": "Pakistan<br>GDP Rank: 36<br>Happiness Rank: 61<br>Mismatch: 25",
         "line": {
          "color": "#1E88E5",
          "width": 2
         },
         "mode": "lines+markers",
         "name": "Pakistan",
         "type": "scatter",
         "visible": false,
         "x": [
          "GDP Rank",
          "Happiness Rank"
         ],
         "y": [
          36,
          61
         ]
        },
        {
         "hoverinfo": "text",
         "hovertext": "Chile<br>GDP Rank: 37<br>Happiness Rank: 24<br>Mismatch: 13",
         "line": {
          "color": "#1E88E5",
          "width": 2
         },
         "mode": "lines+markers",
         "name": "Chile",
         "type": "scatter",
         "visible": false,
         "x": [
          "GDP Rank",
          "Happiness Rank"
         ],
         "y": [
          37,
          24
         ]
        },
        {
         "hoverinfo": "text",
         "hovertext": "Finland<br>GDP Rank: 38<br>Happiness Rank: 1<br>Mismatch: 37",
         "line": {
          "color": "#D81B60",
          "width": 2
         },
         "mode": "lines+markers",
         "name": "Finland",
         "type": "scatter",
         "visible": false,
         "x": [
          "GDP Rank",
          "Happiness Rank"
         ],
         "y": [
          38,
          1
         ]
        },
        {
         "hoverinfo": "text",
         "hovertext": "Romania<br>GDP Rank: 39<br>Happiness Rank: 44<br>Mismatch: 5",
         "line": {
          "color": "#1E88E5",
          "width": 2
         },
         "mode": "lines+markers",
         "name": "Romania",
         "type": "scatter",
         "visible": false,
         "x": [
          "GDP Rank",
          "Happiness Rank"
         ],
         "y": [
          39,
          44
         ]
        },
        {
         "hoverinfo": "text",
         "hovertext": "Portugal<br>GDP Rank: 40<br>Happiness Rank: 60<br>Mismatch: 20",
         "line": {
          "color": "#1E88E5",
          "width": 2
         },
         "mode": "lines+markers",
         "name": "Portugal",
         "type": "scatter",
         "visible": false,
         "x": [
          "GDP Rank",
          "Happiness Rank"
         ],
         "y": [
          40,
          60
         ]
        },
        {
         "hoverinfo": "text",
         "hovertext": "Iraq<br>GDP Rank: 41<br>Happiness Rank: 108<br>Mismatch: 67",
         "line": {
          "color": "#D81B60",
          "width": 2
         },
         "mode": "lines+markers",
         "name": "Iraq",
         "type": "scatter",
         "visible": false,
         "x": [
          "GDP Rank",
          "Happiness Rank"
         ],
         "y": [
          41,
          108
         ]
        },
        {
         "hoverinfo": "text",
         "hovertext": "Peru<br>GDP Rank: 42<br>Happiness Rank: 59<br>Mismatch: 17",
         "line": {
          "color": "#1E88E5",
          "width": 2
         },
         "mode": "lines+markers",
         "name": "Peru",
         "type": "scatter",
         "visible": false,
         "x": [
          "GDP Rank",
          "Happiness Rank"
         ],
         "y": [
          42,
          59
         ]
        },
        {
         "hoverinfo": "text",
         "hovertext": "New Zealand<br>GDP Rank: 43<br>Happiness Rank: 8<br>Mismatch: 35",
         "line": {
          "color": "#D81B60",
          "width": 2
         },
         "mode": "lines+markers",
         "name": "New Zealand",
         "type": "scatter",
         "visible": false,
         "x": [
          "GDP Rank",
          "Happiness Rank"
         ],
         "y": [
          43,
          8
         ]
        },
        {
         "hoverinfo": "text",
         "hovertext": "Greece<br>GDP Rank: 44<br>Happiness Rank: 73<br>Mismatch: 29",
         "line": {
          "color": "#1E88E5",
          "width": 2
         },
         "mode": "lines+markers",
         "name": "Greece",
         "type": "scatter",
         "visible": false,
         "x": [
          "GDP Rank",
          "Happiness Rank"
         ],
         "y": [
          44,
          73
         ]
        },
        {
         "hoverinfo": "text",
         "hovertext": "Algeria<br>GDP Rank: 45<br>Happiness Rank: 78<br>Mismatch: 33",
         "line": {
          "color": "#D81B60",
          "width": 2
         },
         "mode": "lines+markers",
         "name": "Algeria",
         "type": "scatter",
         "visible": false,
         "x": [
          "GDP Rank",
          "Happiness Rank"
         ],
         "y": [
          45,
          78
         ]
        },
        {
         "hoverinfo": "text",
         "hovertext": "Kazakhstan<br>GDP Rank: 46<br>Happiness Rank: 55<br>Mismatch: 9",
         "line": {
          "color": "#1E88E5",
          "width": 2
         },
         "mode": "lines+markers",
         "name": "Kazakhstan",
         "type": "scatter",
         "visible": false,
         "x": [
          "GDP Rank",
          "Happiness Rank"
         ],
         "y": [
          46,
          55
         ]
        },
        {
         "hoverinfo": "text",
         "hovertext": "Qatar<br>GDP Rank: 47<br>Happiness Rank: 27<br>Mismatch: 20",
         "line": {
          "color": "#1E88E5",
          "width": 2
         },
         "mode": "lines+markers",
         "name": "Qatar",
         "type": "scatter",
         "visible": false,
         "x": [
          "GDP Rank",
          "Happiness Rank"
         ],
         "y": [
          47,
          27
         ]
        },
        {
         "hoverinfo": "text",
         "hovertext": "Hungary<br>GDP Rank: 48<br>Happiness Rank: 57<br>Mismatch: 9",
         "line": {
          "color": "#1E88E5",
          "width": 2
         },
         "mode": "lines+markers",
         "name": "Hungary",
         "type": "scatter",
         "visible": false,
         "x": [
          "GDP Rank",
          "Happiness Rank"
         ],
         "y": [
          48,
          57
         ]
        },
        {
         "hoverinfo": "text",
         "hovertext": "Ukraine<br>GDP Rank: 49<br>Happiness Rank: 114<br>Mismatch: 65",
         "line": {
          "color": "#D81B60",
          "width": 2
         },
         "mode": "lines+markers",
         "name": "Ukraine",
         "type": "scatter",
         "visible": false,
         "x": [
          "GDP Rank",
          "Happiness Rank"
         ],
         "y": [
          49,
          114
         ]
        },
        {
         "hoverinfo": "text",
         "hovertext": "Kuwait<br>GDP Rank: 50<br>Happiness Rank: 47<br>Mismatch: 3",
         "line": {
          "color": "#1E88E5",
          "width": 2
         },
         "mode": "lines+markers",
         "name": "Kuwait",
         "type": "scatter",
         "visible": false,
         "x": [
          "GDP Rank",
          "Happiness Rank"
         ],
         "y": [
          50,
          47
         ]
        },
        {
         "hoverinfo": "text",
         "hovertext": "Morocco<br>GDP Rank: 51<br>Happiness Rank: 79<br>Mismatch: 28",
         "line": {
          "color": "#1E88E5",
          "width": 2
         },
         "mode": "lines+markers",
         "name": "Morocco",
         "type": "scatter",
         "visible": false,
         "x": [
          "GDP Rank",
          "Happiness Rank"
         ],
         "y": [
          51,
          79
         ]
        },
        {
         "hoverinfo": "text",
         "hovertext": "Ecuador<br>GDP Rank: 52<br>Happiness Rank: 46<br>Mismatch: 6",
         "line": {
          "color": "#1E88E5",
          "width": 2
         },
         "mode": "lines+markers",
         "name": "Ecuador",
         "type": "scatter",
         "visible": false,
         "x": [
          "GDP Rank",
          "Happiness Rank"
         ],
         "y": [
          52,
          46
         ]
        },
        {
         "hoverinfo": "text",
         "hovertext": "Kenya<br>GDP Rank: 53<br>Happiness Rank: 103<br>Mismatch: 50",
         "line": {
          "color": "#D81B60",
          "width": 2
         },
         "mode": "lines+markers",
         "name": "Kenya",
         "type": "scatter",
         "visible": false,
         "x": [
          "GDP Rank",
          "Happiness Rank"
         ],
         "y": [
          53,
          103
         ]
        },
        {
         "hoverinfo": "text",
         "hovertext": "Ethiopia<br>GDP Rank: 54<br>Happiness Rank: 115<br>Mismatch: 61",
         "line": {
          "color": "#D81B60",
          "width": 2
         },
         "mode": "lines+markers",
         "name": "Ethiopia",
         "type": "scatter",
         "visible": false,
         "x": [
          "GDP Rank",
          "Happiness Rank"
         ],
         "y": [
          54,
          115
         ]
        },
        {
         "hoverinfo": "text",
         "hovertext": "Sri Lanka<br>GDP Rank: 55<br>Happiness Rank: 111<br>Mismatch: 56",
         "line": {
          "color": "#D81B60",
          "width": 2
         },
         "mode": "lines+markers",
         "name": "Sri Lanka",
         "type": "scatter",
         "visible": false,
         "x": [
          "GDP Rank",
          "Happiness Rank"
         ],
         "y": [
          55,
          111
         ]
        },
        {
         "hoverinfo": "text",
         "hovertext": "Dominican Republic<br>GDP Rank: 56<br>Happiness Rank: 69<br>Mismatch: 13",
         "line": {
          "color": "#1E88E5",
          "width": 2
         },
         "mode": "lines+markers",
         "name": "Dominican Republic",
         "type": "scatter",
         "visible": false,
         "x": [
          "GDP Rank",
          "Happiness Rank"
         ],
         "y": [
          56,
          69
         ]
        },
        {
         "hoverinfo": "text",
         "hovertext": "Guatemala<br>GDP Rank: 57<br>Happiness Rank: 25<br>Mismatch: 32",
         "line": {
          "color": "#D81B60",
          "width": 2
         },
         "mode": "lines+markers",
         "name": "Guatemala",
         "type": "scatter",
         "visible": false,
         "x": [
          "GDP Rank",
          "Happiness Rank"
         ],
         "y": [
          57,
          25
         ]
        },
        {
         "hoverinfo": "text",
         "hovertext": "Myanmar<br>GDP Rank: 58<br>Happiness Rank: 112<br>Mismatch: 54",
         "line": {
          "color": "#D81B60",
          "width": 2
         },
         "mode": "lines+markers",
         "name": "Myanmar",
         "type": "scatter",
         "visible": false,
         "x": [
          "GDP Rank",
          "Happiness Rank"
         ],
         "y": [
          58,
          112
         ]
        },
        {
         "hoverinfo": "text",
         "hovertext": "Luxembourg<br>GDP Rank: 59<br>Happiness Rank: 14<br>Mismatch: 45",
         "line": {
          "color": "#D81B60",
          "width": 2
         },
         "mode": "lines+markers",
         "name": "Luxembourg",
         "type": "scatter",
         "visible": false,
         "x": [
          "GDP Rank",
          "Happiness Rank"
         ],
         "y": [
          59,
          14
         ]
        },
        {
         "hoverinfo": "text",
         "hovertext": "Panama<br>GDP Rank: 60<br>Happiness Rank: 29<br>Mismatch: 31",
         "line": {
          "color": "#D81B60",
          "width": 2
         },
         "mode": "lines+markers",
         "name": "Panama",
         "type": "scatter",
         "visible": false,
         "x": [
          "GDP Rank",
          "Happiness Rank"
         ],
         "y": [
          60,
          29
         ]
        },
        {
         "hoverinfo": "text",
         "hovertext": "Libya<br>GDP Rank: 61<br>Happiness Rank: 65<br>Mismatch: 4",
         "line": {
          "color": "#1E88E5",
          "width": 2
         },
         "mode": "lines+markers",
         "name": "Libya",
         "type": "scatter",
         "visible": false,
         "x": [
          "GDP Rank",
          "Happiness Rank"
         ],
         "y": [
          61,
          65
         ]
        },
        {
         "hoverinfo": "text",
         "hovertext": "Bulgaria<br>GDP Rank: 62<br>Happiness Rank: 86<br>Mismatch: 24",
         "line": {
          "color": "#1E88E5",
          "width": 2
         },
         "mode": "lines+markers",
         "name": "Bulgaria",
         "type": "scatter",
         "visible": false,
         "x": [
          "GDP Rank",
          "Happiness Rank"
         ],
         "y": [
          62,
          86
         ]
        },
        {
         "hoverinfo": "text",
         "hovertext": "Ghana<br>GDP Rank: 63<br>Happiness Rank: 87<br>Mismatch: 24",
         "line": {
          "color": "#1E88E5",
          "width": 2
         },
         "mode": "lines+markers",
         "name": "Ghana",
         "type": "scatter",
         "visible": false,
         "x": [
          "GDP Rank",
          "Happiness Rank"
         ],
         "y": [
          63,
          87
         ]
        },
        {
         "hoverinfo": "text",
         "hovertext": "Uzbekistan<br>GDP Rank: 64<br>Happiness Rank: 37<br>Mismatch: 27",
         "line": {
          "color": "#1E88E5",
          "width": 2
         },
         "mode": "lines+markers",
         "name": "Uzbekistan",
         "type": "scatter",
         "visible": false,
         "x": [
          "GDP Rank",
          "Happiness Rank"
         ],
         "y": [
          64,
          37
         ]
        },
        {
         "hoverinfo": "text",
         "hovertext": "Costa Rica<br>GDP Rank: 65<br>Happiness Rank: 12<br>Mismatch: 53",
         "line": {
          "color": "#D81B60",
          "width": 2
         },
         "mode": "lines+markers",
         "name": "Costa Rica",
         "type": "scatter",
         "visible": false,
         "x": [
          "GDP Rank",
          "Happiness Rank"
         ],
         "y": [
          65,
          12
         ]
        },
        {
         "hoverinfo": "text",
         "hovertext": "Belarus<br>GDP Rank: 66<br>Happiness Rank: 72<br>Mismatch: 6",
         "line": {
          "color": "#1E88E5",
          "width": 2
         },
         "mode": "lines+markers",
         "name": "Belarus",
         "type": "scatter",
         "visible": false,
         "x": [
          "GDP Rank",
          "Happiness Rank"
         ],
         "y": [
          66,
          72
         ]
        },
        {
         "hoverinfo": "text",
         "hovertext": "Uruguay<br>GDP Rank: 67<br>Happiness Rank: 31<br>Mismatch: 36",
         "line": {
          "color": "#D81B60",
          "width": 2
         },
         "mode": "lines+markers",
         "name": "Uruguay",
         "type": "scatter",
         "visible": false,
         "x": [
          "GDP Rank",
          "Happiness Rank"
         ],
         "y": [
          67,
          31
         ]
        },
        {
         "hoverinfo": "text",
         "hovertext": "Croatia<br>GDP Rank: 68<br>Happiness Rank: 68<br>Mismatch: 0",
         "line": {
          "color": "#1E88E5",
          "width": 2
         },
         "mode": "lines+markers",
         "name": "Croatia",
         "type": "scatter",
         "visible": false,
         "x": [
          "GDP Rank",
          "Happiness Rank"
         ],
         "y": [
          68,
          68
         ]
        },
        {
         "hoverinfo": "text",
         "hovertext": "Tanzania<br>GDP Rank: 69<br>Happiness Rank: 130<br>Mismatch: 61",
         "line": {
          "color": "#D81B60",
          "width": 2
         },
         "mode": "lines+markers",
         "name": "Tanzania",
         "type": "scatter",
         "visible": false,
         "x": [
          "GDP Rank",
          "Happiness Rank"
         ],
         "y": [
          69,
          130
         ]
        },
        {
         "hoverinfo": "text",
         "hovertext": "Lithuania<br>GDP Rank: 70<br>Happiness Rank: 38<br>Mismatch: 32",
         "line": {
          "color": "#D81B60",
          "width": 2
         },
         "mode": "lines+markers",
         "name": "Lithuania",
         "type": "scatter",
         "visible": false,
         "x": [
          "GDP Rank",
          "Happiness Rank"
         ],
         "y": [
          70,
          38
         ]
        },
        {
         "hoverinfo": "text",
         "hovertext": "Slovenia<br>GDP Rank: 71<br>Happiness Rank: 40<br>Mismatch: 31",
         "line": {
          "color": "#D81B60",
          "width": 2
         },
         "mode": "lines+markers",
         "name": "Slovenia",
         "type": "scatter",
         "visible": false,
         "x": [
          "GDP Rank",
          "Happiness Rank"
         ],
         "y": [
          71,
          40
         ]
        },
        {
         "hoverinfo": "text",
         "hovertext": "Serbia<br>GDP Rank: 72<br>Happiness Rank: 63<br>Mismatch: 9",
         "line": {
          "color": "#1E88E5",
          "width": 2
         },
         "mode": "lines+markers",
         "name": "Serbia",
         "type": "scatter",
         "visible": false,
         "x": [
          "GDP Rank",
          "Happiness Rank"
         ],
         "y": [
          72,
          63
         ]
        },
        {
         "hoverinfo": "text",
         "hovertext": "Lebanon<br>GDP Rank: 73<br>Happiness Rank: 81<br>Mismatch: 8",
         "line": {
          "color": "#1E88E5",
          "width": 2
         },
         "mode": "lines+markers",
         "name": "Lebanon",
         "type": "scatter",
         "visible": false,
         "x": [
          "GDP Rank",
          "Happiness Rank"
         ],
         "y": [
          73,
          81
         ]
        },
        {
         "hoverinfo": "text",
         "hovertext": "Azerbaijan<br>GDP Rank: 74<br>Happiness Rank: 79<br>Mismatch: 5",
         "line": {
          "color": "#1E88E5",
          "width": 2
         },
         "mode": "lines+markers",
         "name": "Azerbaijan",
         "type": "scatter",
         "visible": false,
         "x": [
          "GDP Rank",
          "Happiness Rank"
         ],
         "y": [
          74,
          79
         ]
        },
        {
         "hoverinfo": "text",
         "hovertext": "Turkmenistan<br>GDP Rank: 75<br>Happiness Rank: 77<br>Mismatch: 2",
         "line": {
          "color": "#1E88E5",
          "width": 2
         },
         "mode": "lines+markers",
         "name": "Turkmenistan",
         "type": "scatter",
         "visible": false,
         "x": [
          "GDP Rank",
          "Happiness Rank"
         ],
         "y": [
          75,
          77
         ]
        },
        {
         "hoverinfo": "text",
         "hovertext": "Jordan<br>GDP Rank: 76<br>Happiness Rank: 89<br>Mismatch: 13",
         "line": {
          "color": "#1E88E5",
          "width": 2
         },
         "mode": "lines+markers",
         "name": "Jordan",
         "type": "scatter",
         "visible": false,
         "x": [
          "GDP Rank",
          "Happiness Rank"
         ],
         "y": [
          76,
          89
         ]
        },
        {
         "hoverinfo": "text",
         "hovertext": "Tunisia<br>GDP Rank: 77<br>Happiness Rank: 106<br>Mismatch: 29",
         "line": {
          "color": "#1E88E5",
          "width": 2
         },
         "mode": "lines+markers",
         "name": "Tunisia",
         "type": "scatter",
         "visible": false,
         "x": [
          "GDP Rank",
          "Happiness Rank"
         ],
         "y": [
          77,
          106
         ]
        },
        {
         "hoverinfo": "text",
         "hovertext": "Bolivia<br>GDP Rank: 78<br>Happiness Rank: 56<br>Mismatch: 22",
         "line": {
          "color": "#1E88E5",
          "width": 2
         },
         "mode": "lines+markers",
         "name": "Bolivia",
         "type": "scatter",
         "visible": false,
         "x": [
          "GDP Rank",
          "Happiness Rank"
         ],
         "y": [
          78,
          56
         ]
        },
        {
         "hoverinfo": "text",
         "hovertext": "Bahrain<br>GDP Rank: 79<br>Happiness Rank: 35<br>Mismatch: 44",
         "line": {
          "color": "#D81B60",
          "width": 2
         },
         "mode": "lines+markers",
         "name": "Bahrain",
         "type": "scatter",
         "visible": false,
         "x": [
          "GDP Rank",
          "Happiness Rank"
         ],
         "y": [
          79,
          35
         ]
        },
        {
         "hoverinfo": "text",
         "hovertext": "Cameroon<br>GDP Rank: 80<br>Happiness Rank: 85<br>Mismatch: 5",
         "line": {
          "color": "#1E88E5",
          "width": 2
         },
         "mode": "lines+markers",
         "name": "Cameroon",
         "type": "scatter",
         "visible": false,
         "x": [
          "GDP Rank",
          "Happiness Rank"
         ],
         "y": [
          80,
          85
         ]
        },
        {
         "hoverinfo": "text",
         "hovertext": "Paraguay<br>GDP Rank: 81<br>Happiness Rank: 58<br>Mismatch: 23",
         "line": {
          "color": "#1E88E5",
          "width": 2
         },
         "mode": "lines+markers",
         "name": "Paraguay",
         "type": "scatter",
         "visible": false,
         "x": [
          "GDP Rank",
          "Happiness Rank"
         ],
         "y": [
          81,
          58
         ]
        },
        {
         "hoverinfo": "text",
         "hovertext": "Cambodia<br>GDP Rank: 82<br>Happiness Rank: 94<br>Mismatch: 12",
         "line": {
          "color": "#1E88E5",
          "width": 2
         },
         "mode": "lines+markers",
         "name": "Cambodia",
         "type": "scatter",
         "visible": false,
         "x": [
          "GDP Rank",
          "Happiness Rank"
         ],
         "y": [
          82,
          94
         ]
        },
        {
         "hoverinfo": "text",
         "hovertext": "Uganda<br>GDP Rank: 83<br>Happiness Rank: 116<br>Mismatch: 33",
         "line": {
          "color": "#D81B60",
          "width": 2
         },
         "mode": "lines+markers",
         "name": "Uganda",
         "type": "scatter",
         "visible": false,
         "x": [
          "GDP Rank",
          "Happiness Rank"
         ],
         "y": [
          83,
          116
         ]
        },
        {
         "hoverinfo": "text",
         "hovertext": "Nepal<br>GDP Rank: 84<br>Happiness Rank: 88<br>Mismatch: 4",
         "line": {
          "color": "#1E88E5",
          "width": 2
         },
         "mode": "lines+markers",
         "name": "Nepal",
         "type": "scatter",
         "visible": false,
         "x": [
          "GDP Rank",
          "Happiness Rank"
         ],
         "y": [
          84,
          88
         ]
        },
        {
         "hoverinfo": "text",
         "hovertext": "Latvia<br>GDP Rank: 85<br>Happiness Rank: 49<br>Mismatch: 36",
         "line": {
          "color": "#D81B60",
          "width": 2
         },
         "mode": "lines+markers",
         "name": "Latvia",
         "type": "scatter",
         "visible": false,
         "x": [
          "GDP Rank",
          "Happiness Rank"
         ],
         "y": [
          85,
          49
         ]
        },
        {
         "hoverinfo": "text",
         "hovertext": "Estonia<br>GDP Rank: 86<br>Happiness Rank: 50<br>Mismatch: 36",
         "line": {
          "color": "#D81B60",
          "width": 2
         },
         "mode": "lines+markers",
         "name": "Estonia",
         "type": "scatter",
         "visible": false,
         "x": [
          "GDP Rank",
          "Happiness Rank"
         ],
         "y": [
          86,
          50
         ]
        },
        {
         "hoverinfo": "text",
         "hovertext": "El Salvador<br>GDP Rank: 87<br>Happiness Rank: 33<br>Mismatch: 54",
         "line": {
          "color": "#D81B60",
          "width": 2
         },
         "mode": "lines+markers",
         "name": "El Salvador",
         "type": "scatter",
         "visible": false,
         "x": [
          "GDP Rank",
          "Happiness Rank"
         ],
         "y": [
          87,
          33
         ]
        },
        {
         "hoverinfo": "text",
         "hovertext": "Cyprus<br>GDP Rank: 88<br>Happiness Rank: 45<br>Mismatch: 43",
         "line": {
          "color": "#D81B60",
          "width": 2
         },
         "mode": "lines+markers",
         "name": "Cyprus",
         "type": "scatter",
         "visible": false,
         "x": [
          "GDP Rank",
          "Happiness Rank"
         ],
         "y": [
          88,
          45
         ]
        },
        {
         "hoverinfo": "text",
         "hovertext": "Zimbabwe<br>GDP Rank: 89<br>Happiness Rank: 125<br>Mismatch: 36",
         "line": {
          "color": "#D81B60",
          "width": 2
         },
         "mode": "lines+markers",
         "name": "Zimbabwe",
         "type": "scatter",
         "visible": false,
         "x": [
          "GDP Rank",
          "Happiness Rank"
         ],
         "y": [
          89,
          125
         ]
        },
        {
         "hoverinfo": "text",
         "hovertext": "Honduras<br>GDP Rank: 90<br>Happiness Rank: 54<br>Mismatch: 36",
         "line": {
          "color": "#D81B60",
          "width": 2
         },
         "mode": "lines+markers",
         "name": "Honduras",
         "type": "scatter",
         "visible": false,
         "x": [
          "GDP Rank",
          "Happiness Rank"
         ],
         "y": [
          90,
          54
         ]
        },
        {
         "hoverinfo": "text",
         "hovertext": "Iceland<br>GDP Rank: 91<br>Happiness Rank: 4<br>Mismatch: 87",
         "line": {
          "color": "#D81B60",
          "width": 2
         },
         "mode": "lines+markers",
         "name": "Iceland",
         "type": "scatter",
         "visible": false,
         "x": [
          "GDP Rank",
          "Happiness Rank"
         ],
         "y": [
          91,
          4
         ]
        },
        {
         "hoverinfo": "text",
         "hovertext": "Senegal<br>GDP Rank: 92<br>Happiness Rank: 95<br>Mismatch: 3",
         "line": {
          "color": "#1E88E5",
          "width": 2
         },
         "mode": "lines+markers",
         "name": "Senegal",
         "type": "scatter",
         "visible": false,
         "x": [
          "GDP Rank",
          "Happiness Rank"
         ],
         "y": [
          92,
          95
         ]
        },
        {
         "hoverinfo": "text",
         "hovertext": "Zambia<br>GDP Rank: 93<br>Happiness Rank: 117<br>Mismatch: 24",
         "line": {
          "color": "#1E88E5",
          "width": 2
         },
         "mode": "lines+markers",
         "name": "Zambia",
         "type": "scatter",
         "visible": false,
         "x": [
          "GDP Rank",
          "Happiness Rank"
         ],
         "y": [
          93,
          117
         ]
        },
        {
         "hoverinfo": "text",
         "hovertext": "Bosnia and Herzegovina<br>GDP Rank: 94<br>Happiness Rank: 70<br>Mismatch: 24",
         "line": {
          "color": "#1E88E5",
          "width": 2
         },
         "mode": "lines+markers",
         "name": "Bosnia and Herzegovina",
         "type": "scatter",
         "visible": false,
         "x": [
          "GDP Rank",
          "Happiness Rank"
         ],
         "y": [
          94,
          70
         ]
        },
        {
         "hoverinfo": "text",
         "hovertext": "Afghanistan<br>GDP Rank: 95<br>Happiness Rank: 131<br>Mismatch: 36",
         "line": {
          "color": "#D81B60",
          "width": 2
         },
         "mode": "lines+markers",
         "name": "Afghanistan",
         "type": "scatter",
         "visible": false,
         "x": [
          "GDP Rank",
          "Happiness Rank"
         ],
         "y": [
          95,
          131
         ]
        },
        {
         "hoverinfo": "text",
         "hovertext": "Georgia<br>GDP Rank: 96<br>Happiness Rank: 102<br>Mismatch: 6",
         "line": {
          "color": "#1E88E5",
          "width": 2
         },
         "mode": "lines+markers",
         "name": "Georgia",
         "type": "scatter",
         "visible": false,
         "x": [
          "GDP Rank",
          "Happiness Rank"
         ],
         "y": [
          96,
          102
         ]
        },
        {
         "hoverinfo": "text",
         "hovertext": "Mali<br>GDP Rank: 97<br>Happiness Rank: 109<br>Mismatch: 12",
         "line": {
          "color": "#1E88E5",
          "width": 2
         },
         "mode": "lines+markers",
         "name": "Mali",
         "type": "scatter",
         "visible": false,
         "x": [
          "GDP Rank",
          "Happiness Rank"
         ],
         "y": [
          97,
          109
         ]
        },
        {
         "hoverinfo": "text",
         "hovertext": "Gabon<br>GDP Rank: 98<br>Happiness Rank: 91<br>Mismatch: 7",
         "line": {
          "color": "#1E88E5",
          "width": 2
         },
         "mode": "lines+markers",
         "name": "Gabon",
         "type": "scatter",
         "visible": false,
         "x": [
          "GDP Rank",
          "Happiness Rank"
         ],
         "y": [
          98,
          91
         ]
        },
        {
         "hoverinfo": "text",
         "hovertext": "Botswana<br>GDP Rank: 99<br>Happiness Rank: 127<br>Mismatch: 28",
         "line": {
          "color": "#1E88E5",
          "width": 2
         },
         "mode": "lines+markers",
         "name": "Botswana",
         "type": "scatter",
         "visible": false,
         "x": [
          "GDP Rank",
          "Happiness Rank"
         ],
         "y": [
          99,
          127
         ]
        },
        {
         "hoverinfo": "text",
         "hovertext": "Malta<br>GDP Rank: 100<br>Happiness Rank: 21<br>Mismatch: 79",
         "line": {
          "color": "#D81B60",
          "width": 2
         },
         "mode": "lines+markers",
         "name": "Malta",
         "type": "scatter",
         "visible": false,
         "x": [
          "GDP Rank",
          "Happiness Rank"
         ],
         "y": [
          100,
          21
         ]
        },
        {
         "hoverinfo": "text",
         "hovertext": "Burkina Faso<br>GDP Rank: 101<br>Happiness Rank: 99<br>Mismatch: 2",
         "line": {
          "color": "#1E88E5",
          "width": 2
         },
         "mode": "lines+markers",
         "name": "Burkina Faso",
         "type": "scatter",
         "visible": false,
         "x": [
          "GDP Rank",
          "Happiness Rank"
         ],
         "y": [
          101,
          99
         ]
        },
        {
         "hoverinfo": "text",
         "hovertext": "Jamaica<br>GDP Rank: 102<br>Happiness Rank: 51<br>Mismatch: 51",
         "line": {
          "color": "#D81B60",
          "width": 2
         },
         "mode": "lines+markers",
         "name": "Jamaica",
         "type": "scatter",
         "visible": false,
         "x": [
          "GDP Rank",
          "Happiness Rank"
         ],
         "y": [
          102,
          51
         ]
        },
        {
         "hoverinfo": "text",
         "hovertext": "Albania<br>GDP Rank: 103<br>Happiness Rank: 93<br>Mismatch: 10",
         "line": {
          "color": "#1E88E5",
          "width": 2
         },
         "mode": "lines+markers",
         "name": "Albania",
         "type": "scatter",
         "visible": false,
         "x": [
          "GDP Rank",
          "Happiness Rank"
         ],
         "y": [
          103,
          93
         ]
        },
        {
         "hoverinfo": "text",
         "hovertext": "Mozambique<br>GDP Rank: 104<br>Happiness Rank: 105<br>Mismatch: 1",
         "line": {
          "color": "#1E88E5",
          "width": 2
         },
         "mode": "lines+markers",
         "name": "Mozambique",
         "type": "scatter",
         "visible": false,
         "x": [
          "GDP Rank",
          "Happiness Rank"
         ],
         "y": [
          104,
          105
         ]
        },
        {
         "hoverinfo": "text",
         "hovertext": "Haiti<br>GDP Rank: 105<br>Happiness Rank: 126<br>Mismatch: 21",
         "line": {
          "color": "#1E88E5",
          "width": 2
         },
         "mode": "lines+markers",
         "name": "Haiti",
         "type": "scatter",
         "visible": false,
         "x": [
          "GDP Rank",
          "Happiness Rank"
         ],
         "y": [
          105,
          126
         ]
        },
        {
         "hoverinfo": "text",
         "hovertext": "Mauritius<br>GDP Rank: 106<br>Happiness Rank: 52<br>Mismatch: 54",
         "line": {
          "color": "#D81B60",
          "width": 2
         },
         "mode": "lines+markers",
         "name": "Mauritius",
         "type": "scatter",
         "visible": false,
         "x": [
          "GDP Rank",
          "Happiness Rank"
         ],
         "y": [
          106,
          52
         ]
        },
        {
         "hoverinfo": "text",
         "hovertext": "Benin<br>GDP Rank: 107<br>Happiness Rank: 90<br>Mismatch: 17",
         "line": {
          "color": "#1E88E5",
          "width": 2
         },
         "mode": "lines+markers",
         "name": "Benin",
         "type": "scatter",
         "visible": false,
         "x": [
          "GDP Rank",
          "Happiness Rank"
         ],
         "y": [
          107,
          90
         ]
        },
        {
         "hoverinfo": "text",
         "hovertext": "Mongolia<br>GDP Rank: 108<br>Happiness Rank: 74<br>Mismatch: 34",
         "line": {
          "color": "#D81B60",
          "width": 2
         },
         "mode": "lines+markers",
         "name": "Mongolia",
         "type": "scatter",
         "visible": false,
         "x": [
          "GDP Rank",
          "Happiness Rank"
         ],
         "y": [
          108,
          74
         ]
        },
        {
         "hoverinfo": "text",
         "hovertext": "Madagascar<br>GDP Rank: 109<br>Happiness Rank: 122<br>Mismatch: 13",
         "line": {
          "color": "#1E88E5",
          "width": 2
         },
         "mode": "lines+markers",
         "name": "Madagascar",
         "type": "scatter",
         "visible": false,
         "x": [
          "GDP Rank",
          "Happiness Rank"
         ],
         "y": [
          109,
          122
         ]
        },
        {
         "hoverinfo": "text",
         "hovertext": "Armenia<br>GDP Rank: 110<br>Happiness Rank: 100<br>Mismatch: 10",
         "line": {
          "color": "#1E88E5",
          "width": 2
         },
         "mode": "lines+markers",
         "name": "Armenia",
         "type": "scatter",
         "visible": false,
         "x": [
          "GDP Rank",
          "Happiness Rank"
         ],
         "y": [
          110,
          100
         ]
        },
        {
         "hoverinfo": "text",
         "hovertext": "Guinea<br>GDP Rank: 111<br>Happiness Rank: 101<br>Mismatch: 10",
         "line": {
          "color": "#1E88E5",
          "width": 2
         },
         "mode": "lines+markers",
         "name": "Guinea",
         "type": "scatter",
         "visible": false,
         "x": [
          "GDP Rank",
          "Happiness Rank"
         ],
         "y": [
          111,
          101
         ]
        },
        {
         "hoverinfo": "text",
         "hovertext": "Niger<br>GDP Rank: 112<br>Happiness Rank: 98<br>Mismatch: 14",
         "line": {
          "color": "#1E88E5",
          "width": 2
         },
         "mode": "lines+markers",
         "name": "Niger",
         "type": "scatter",
         "visible": false,
         "x": [
          "GDP Rank",
          "Happiness Rank"
         ],
         "y": [
          112,
          98
         ]
        },
        {
         "hoverinfo": "text",
         "hovertext": "Nicaragua<br>GDP Rank: 113<br>Happiness Rank: 41<br>Mismatch: 72",
         "line": {
          "color": "#D81B60",
          "width": 2
         },
         "mode": "lines+markers",
         "name": "Nicaragua",
         "type": "scatter",
         "visible": false,
         "x": [
          "GDP Rank",
          "Happiness Rank"
         ],
         "y": [
          113,
          41
         ]
        },
        {
         "hoverinfo": "text",
         "hovertext": "North Macedonia<br>GDP Rank: 114<br>Happiness Rank: 75<br>Mismatch: 39",
         "line": {
          "color": "#D81B60",
          "width": 2
         },
         "mode": "lines+markers",
         "name": "North Macedonia",
         "type": "scatter",
         "visible": false,
         "x": [
          "GDP Rank",
          "Happiness Rank"
         ],
         "y": [
          114,
          75
         ]
        },
        {
         "hoverinfo": "text",
         "hovertext": "Namibia<br>GDP Rank: 115<br>Happiness Rank: 97<br>Mismatch: 18",
         "line": {
          "color": "#1E88E5",
          "width": 2
         },
         "mode": "lines+markers",
         "name": "Namibia",
         "type": "scatter",
         "visible": false,
         "x": [
          "GDP Rank",
          "Happiness Rank"
         ],
         "y": [
          115,
          97
         ]
        },
        {
         "hoverinfo": "text",
         "hovertext": "Moldova<br>GDP Rank: 116<br>Happiness Rank: 64<br>Mismatch: 52",
         "line": {
          "color": "#D81B60",
          "width": 2
         },
         "mode": "lines+markers",
         "name": "Moldova",
         "type": "scatter",
         "visible": false,
         "x": [
          "GDP Rank",
          "Happiness Rank"
         ],
         "y": [
          116,
          64
         ]
        },
        {
         "hoverinfo": "text",
         "hovertext": "Chad<br>GDP Rank: 117<br>Happiness Rank: 113<br>Mismatch: 4",
         "line": {
          "color": "#1E88E5",
          "width": 2
         },
         "mode": "lines+markers",
         "name": "Chad",
         "type": "scatter",
         "visible": false,
         "x": [
          "GDP Rank",
          "Happiness Rank"
         ],
         "y": [
          117,
          113
         ]
        },
        {
         "hoverinfo": "text",
         "hovertext": "Malawi<br>GDP Rank: 118<br>Happiness Rank: 128<br>Mismatch: 10",
         "line": {
          "color": "#1E88E5",
          "width": 2
         },
         "mode": "lines+markers",
         "name": "Malawi",
         "type": "scatter",
         "visible": false,
         "x": [
          "GDP Rank",
          "Happiness Rank"
         ],
         "y": [
          118,
          128
         ]
        },
        {
         "hoverinfo": "text",
         "hovertext": "Rwanda<br>GDP Rank: 119<br>Happiness Rank: 129<br>Mismatch: 10",
         "line": {
          "color": "#1E88E5",
          "width": 2
         },
         "mode": "lines+markers",
         "name": "Rwanda",
         "type": "scatter",
         "visible": false,
         "x": [
          "GDP Rank",
          "Happiness Rank"
         ],
         "y": [
          119,
          129
         ]
        },
        {
         "hoverinfo": "text",
         "hovertext": "Somalia<br>GDP Rank: 120<br>Happiness Rank: 96<br>Mismatch: 24",
         "line": {
          "color": "#1E88E5",
          "width": 2
         },
         "mode": "lines+markers",
         "name": "Somalia",
         "type": "scatter",
         "visible": false,
         "x": [
          "GDP Rank",
          "Happiness Rank"
         ],
         "y": [
          120,
          96
         ]
        },
        {
         "hoverinfo": "text",
         "hovertext": "Tajikistan<br>GDP Rank: 121<br>Happiness Rank: 67<br>Mismatch: 54",
         "line": {
          "color": "#D81B60",
          "width": 2
         },
         "mode": "lines+markers",
         "name": "Tajikistan",
         "type": "scatter",
         "visible": false,
         "x": [
          "GDP Rank",
          "Happiness Rank"
         ],
         "y": [
          121,
          67
         ]
        },
        {
         "hoverinfo": "text",
         "hovertext": "Kosovo<br>GDP Rank: 122<br>Happiness Rank: 42<br>Mismatch: 80",
         "line": {
          "color": "#D81B60",
          "width": 2
         },
         "mode": "lines+markers",
         "name": "Kosovo",
         "type": "scatter",
         "visible": false,
         "x": [
          "GDP Rank",
          "Happiness Rank"
         ],
         "y": [
          122,
          42
         ]
        },
        {
         "hoverinfo": "text",
         "hovertext": "Mauritania<br>GDP Rank: 123<br>Happiness Rank: 104<br>Mismatch: 19",
         "line": {
          "color": "#1E88E5",
          "width": 2
         },
         "mode": "lines+markers",
         "name": "Mauritania",
         "type": "scatter",
         "visible": false,
         "x": [
          "GDP Rank",
          "Happiness Rank"
         ],
         "y": [
          123,
          104
         ]
        },
        {
         "hoverinfo": "text",
         "hovertext": "Togo<br>GDP Rank: 124<br>Happiness Rank: 118<br>Mismatch: 6",
         "line": {
          "color": "#1E88E5",
          "width": 2
         },
         "mode": "lines+markers",
         "name": "Togo",
         "type": "scatter",
         "visible": false,
         "x": [
          "GDP Rank",
          "Happiness Rank"
         ],
         "y": [
          124,
          118
         ]
        },
        {
         "hoverinfo": "text",
         "hovertext": "Sierra Leone<br>GDP Rank: 125<br>Happiness Rank: 110<br>Mismatch: 15",
         "line": {
          "color": "#1E88E5",
          "width": 2
         },
         "mode": "lines+markers",
         "name": "Sierra Leone",
         "type": "scatter",
         "visible": false,
         "x": [
          "GDP Rank",
          "Happiness Rank"
         ],
         "y": [
          125,
          110
         ]
        },
        {
         "hoverinfo": "text",
         "hovertext": "Montenegro<br>GDP Rank: 126<br>Happiness Rank: 66<br>Mismatch: 60",
         "line": {
          "color": "#D81B60",
          "width": 2
         },
         "mode": "lines+markers",
         "name": "Montenegro",
         "type": "scatter",
         "visible": false,
         "x": [
          "GDP Rank",
          "Happiness Rank"
         ],
         "y": [
          126,
          66
         ]
        },
        {
         "hoverinfo": "text",
         "hovertext": "Liberia<br>GDP Rank: 127<br>Happiness Rank: 120<br>Mismatch: 7",
         "line": {
          "color": "#1E88E5",
          "width": 2
         },
         "mode": "lines+markers",
         "name": "Liberia",
         "type": "scatter",
         "visible": false,
         "x": [
          "GDP Rank",
          "Happiness Rank"
         ],
         "y": [
          127,
          120
         ]
        },
        {
         "hoverinfo": "text",
         "hovertext": "Bhutan<br>GDP Rank: 128<br>Happiness Rank: 84<br>Mismatch: 44",
         "line": {
          "color": "#D81B60",
          "width": 2
         },
         "mode": "lines+markers",
         "name": "Bhutan",
         "type": "scatter",
         "visible": false,
         "x": [
          "GDP Rank",
          "Happiness Rank"
         ],
         "y": [
          128,
          84
         ]
        },
        {
         "hoverinfo": "text",
         "hovertext": "Burundi<br>GDP Rank: 129<br>Happiness Rank: 124<br>Mismatch: 5",
         "line": {
          "color": "#1E88E5",
          "width": 2
         },
         "mode": "lines+markers",
         "name": "Burundi",
         "type": "scatter",
         "visible": false,
         "x": [
          "GDP Rank",
          "Happiness Rank"
         ],
         "y": [
          129,
          124
         ]
        },
        {
         "hoverinfo": "text",
         "hovertext": "Lesotho<br>GDP Rank: 130<br>Happiness Rank: 123<br>Mismatch: 7",
         "line": {
          "color": "#1E88E5",
          "width": 2
         },
         "mode": "lines+markers",
         "name": "Lesotho",
         "type": "scatter",
         "visible": false,
         "x": [
          "GDP Rank",
          "Happiness Rank"
         ],
         "y": [
          130,
          123
         ]
        },
        {
         "hoverinfo": "text",
         "hovertext": "Central African Republic<br>GDP Rank: 131<br>Happiness Rank: 132<br>Mismatch: 1",
         "line": {
          "color": "#1E88E5",
          "width": 2
         },
         "mode": "lines+markers",
         "name": "Central African Republic",
         "type": "scatter",
         "visible": false,
         "x": [
          "GDP Rank",
          "Happiness Rank"
         ],
         "y": [
          131,
          132
         ]
        },
        {
         "hoverinfo": "text",
         "hovertext": "Comoros<br>GDP Rank: 132<br>Happiness Rank: 121<br>Mismatch: 11",
         "line": {
          "color": "#1E88E5",
          "width": 2
         },
         "mode": "lines+markers",
         "name": "Comoros",
         "type": "scatter",
         "visible": false,
         "x": [
          "GDP Rank",
          "Happiness Rank"
         ],
         "y": [
          132,
          121
         ]
        },
        {
         "hoverinfo": "text",
         "hovertext": "United States<br>GNI Rank: 1<br>Happiness Rank: 19<br>Mismatch: 18",
         "line": {
          "color": "#1E88E5",
          "width": 2
         },
         "mode": "lines+markers",
         "name": "United States",
         "type": "scatter",
         "visible": false,
         "x": [
          "GNI Rank",
          "Happiness Rank"
         ],
         "y": [
          1,
          19
         ]
        },
        {
         "hoverinfo": "text",
         "hovertext": "China<br>GNI Rank: 2<br>Happiness Rank: 83<br>Mismatch: 81",
         "line": {
          "color": "#D81B60",
          "width": 2
         },
         "mode": "lines+markers",
         "name": "China",
         "type": "scatter",
         "visible": false,
         "x": [
          "GNI Rank",
          "Happiness Rank"
         ],
         "y": [
          2,
          83
         ]
        },
        {
         "hoverinfo": "text",
         "hovertext": "Japan<br>GNI Rank: 3<br>Happiness Rank: 53<br>Mismatch: 50",
         "line": {
          "color": "#D81B60",
          "width": 2
         },
         "mode": "lines+markers",
         "name": "Japan",
         "type": "scatter",
         "visible": false,
         "x": [
          "GNI Rank",
          "Happiness Rank"
         ],
         "y": [
          3,
          53
         ]
        },
        {
         "hoverinfo": "text",
         "hovertext": "Germany<br>GNI Rank: 4<br>Happiness Rank: 17<br>Mismatch: 13",
         "line": {
          "color": "#1E88E5",
          "width": 2
         },
         "mode": "lines+markers",
         "name": "Germany",
         "type": "scatter",
         "visible": false,
         "x": [
          "GNI Rank",
          "Happiness Rank"
         ],
         "y": [
          4,
          17
         ]
        },
        {
         "hoverinfo": "text",
         "hovertext": "United Kingdom<br>GNI Rank: 5<br>Happiness Rank: 15<br>Mismatch: 10",
         "line": {
          "color": "#1E88E5",
          "width": 2
         },
         "mode": "lines+markers",
         "name": "United Kingdom",
         "type": "scatter",
         "visible": false,
         "x": [
          "GNI Rank",
          "Happiness Rank"
         ],
         "y": [
          5,
          15
         ]
        },
        {
         "hoverinfo": "text",
         "hovertext": "India<br>GNI Rank: 6<br>Happiness Rank: 119<br>Mismatch: 113",
         "line": {
          "color": "#D81B60",
          "width": 2
         },
         "mode": "lines+markers",
         "name": "India",
         "type": "scatter",
         "visible": false,
         "x": [
          "GNI Rank",
          "Happiness Rank"
         ],
         "y": [
          6,
          119
         ]
        },
        {
         "hoverinfo": "text",
         "hovertext": "France<br>GNI Rank: 7<br>Happiness Rank: 23<br>Mismatch: 16",
         "line": {
          "color": "#1E88E5",
          "width": 2
         },
         "mode": "lines+markers",
         "name": "France",
         "type": "scatter",
         "visible": false,
         "x": [
          "GNI Rank",
          "Happiness Rank"
         ],
         "y": [
          7,
          23
         ]
        },
        {
         "hoverinfo": "text",
         "hovertext": "Italy<br>GNI Rank: 8<br>Happiness Rank: 34<br>Mismatch: 26",
         "line": {
          "color": "#1E88E5",
          "width": 2
         },
         "mode": "lines+markers",
         "name": "Italy",
         "type": "scatter",
         "visible": false,
         "x": [
          "GNI Rank",
          "Happiness Rank"
         ],
         "y": [
          8,
          34
         ]
        },
        {
         "hoverinfo": "text",
         "hovertext": "Brazil<br>GNI Rank: 9<br>Happiness Rank: 30<br>Mismatch: 21",
         "line": {
          "color": "#1E88E5",
          "width": 2
         },
         "mode": "lines+markers",
         "name": "Brazil",
         "type": "scatter",
         "visible": false,
         "x": [
          "GNI Rank",
          "Happiness Rank"
         ],
         "y": [
          9,
          30
         ]
        },
        {
         "hoverinfo": "text",
         "hovertext": "Canada<br>GNI Rank: 10<br>Happiness Rank: 9<br>Mismatch: 1",
         "line": {
          "color": "#1E88E5",
          "width": 2
         },
         "mode": "lines+markers",
         "name": "Canada",
         "type": "scatter",
         "visible": false,
         "x": [
          "GNI Rank",
          "Happiness Rank"
         ],
         "y": [
          10,
          9
         ]
        },
        {
         "hoverinfo": "text",
         "hovertext": "Spain<br>GNI Rank: 11<br>Happiness Rank: 28<br>Mismatch: 17",
         "line": {
          "color": "#1E88E5",
          "width": 2
         },
         "mode": "lines+markers",
         "name": "Spain",
         "type": "scatter",
         "visible": false,
         "x": [
          "GNI Rank",
          "Happiness Rank"
         ],
         "y": [
          11,
          28
         ]
        },
        {
         "hoverinfo": "text",
         "hovertext": "Australia<br>GNI Rank: 12<br>Happiness Rank: 11<br>Mismatch: 1",
         "line": {
          "color": "#1E88E5",
          "width": 2
         },
         "mode": "lines+markers",
         "name": "Australia",
         "type": "scatter",
         "visible": false,
         "x": [
          "GNI Rank",
          "Happiness Rank"
         ],
         "y": [
          12,
          11
         ]
        },
        {
         "hoverinfo": "text",
         "hovertext": "Mexico<br>GNI Rank: 13<br>Happiness Rank: 22<br>Mismatch: 9",
         "line": {
          "color": "#1E88E5",
          "width": 2
         },
         "mode": "lines+markers",
         "name": "Mexico",
         "type": "scatter",
         "visible": false,
         "x": [
          "GNI Rank",
          "Happiness Rank"
         ],
         "y": [
          13,
          22
         ]
        },
        {
         "hoverinfo": "text",
         "hovertext": "Indonesia<br>GNI Rank: 14<br>Happiness Rank: 82<br>Mismatch: 68",
         "line": {
          "color": "#D81B60",
          "width": 2
         },
         "mode": "lines+markers",
         "name": "Indonesia",
         "type": "scatter",
         "visible": false,
         "x": [
          "GNI Rank",
          "Happiness Rank"
         ],
         "y": [
          14,
          82
         ]
        },
        {
         "hoverinfo": "text",
         "hovertext": "Netherlands<br>GNI Rank: 15<br>Happiness Rank: 5<br>Mismatch: 10",
         "line": {
          "color": "#1E88E5",
          "width": 2
         },
         "mode": "lines+markers",
         "name": "Netherlands",
         "type": "scatter",
         "visible": false,
         "x": [
          "GNI Rank",
          "Happiness Rank"
         ],
         "y": [
          15,
          5
         ]
        },
        {
         "hoverinfo": "text",
         "hovertext": "Saudi Arabia<br>GNI Rank: 16<br>Happiness Rank: 26<br>Mismatch: 10",
         "line": {
          "color": "#1E88E5",
          "width": 2
         },
         "mode": "lines+markers",
         "name": "Saudi Arabia",
         "type": "scatter",
         "visible": false,
         "x": [
          "GNI Rank",
          "Happiness Rank"
         ],
         "y": [
          16,
          26
         ]
        },
        {
         "hoverinfo": "text",
         "hovertext": "Switzerland<br>GNI Rank: 17<br>Happiness Rank: 6<br>Mismatch: 11",
         "line": {
          "color": "#1E88E5",
          "width": 2
         },
         "mode": "lines+markers",
         "name": "Switzerland",
         "type": "scatter",
         "visible": false,
         "x": [
          "GNI Rank",
          "Happiness Rank"
         ],
         "y": [
          17,
          6
         ]
        },
        {
         "hoverinfo": "text",
         "hovertext": "Poland<br>GNI Rank: 18<br>Happiness Rank: 36<br>Mismatch: 18",
         "line": {
          "color": "#1E88E5",
          "width": 2
         },
         "mode": "lines+markers",
         "name": "Poland",
         "type": "scatter",
         "visible": false,
         "x": [
          "GNI Rank",
          "Happiness Rank"
         ],
         "y": [
          18,
          36
         ]
        },
        {
         "hoverinfo": "text",
         "hovertext": "Sweden<br>GNI Rank: 19<br>Happiness Rank: 7<br>Mismatch: 12",
         "line": {
          "color": "#1E88E5",
          "width": 2
         },
         "mode": "lines+markers",
         "name": "Sweden",
         "type": "scatter",
         "visible": false,
         "x": [
          "GNI Rank",
          "Happiness Rank"
         ],
         "y": [
          19,
          7
         ]
        },
        {
         "hoverinfo": "text",
         "hovertext": "Belgium<br>GNI Rank: 20<br>Happiness Rank: 18<br>Mismatch: 2",
         "line": {
          "color": "#1E88E5",
          "width": 2
         },
         "mode": "lines+markers",
         "name": "Belgium",
         "type": "scatter",
         "visible": false,
         "x": [
          "GNI Rank",
          "Happiness Rank"
         ],
         "y": [
          20,
          18
         ]
        },
        {
         "hoverinfo": "text",
         "hovertext": "Thailand<br>GNI Rank: 21<br>Happiness Rank: 48<br>Mismatch: 27",
         "line": {
          "color": "#1E88E5",
          "width": 2
         },
         "mode": "lines+markers",
         "name": "Thailand",
         "type": "scatter",
         "visible": false,
         "x": [
          "GNI Rank",
          "Happiness Rank"
         ],
         "y": [
          21,
          48
         ]
        },
        {
         "hoverinfo": "text",
         "hovertext": "Nigeria<br>GNI Rank: 22<br>Happiness Rank: 76<br>Mismatch: 54",
         "line": {
          "color": "#D81B60",
          "width": 2
         },
         "mode": "lines+markers",
         "name": "Nigeria",
         "type": "scatter",
         "visible": false,
         "x": [
          "GNI Rank",
          "Happiness Rank"
         ],
         "y": [
          22,
          76
         ]
        },
        {
         "hoverinfo": "text",
         "hovertext": "Austria<br>GNI Rank: 23<br>Happiness Rank: 10<br>Mismatch: 13",
         "line": {
          "color": "#1E88E5",
          "width": 2
         },
         "mode": "lines+markers",
         "name": "Austria",
         "type": "scatter",
         "visible": false,
         "x": [
          "GNI Rank",
          "Happiness Rank"
         ],
         "y": [
          23,
          10
         ]
        },
        {
         "hoverinfo": "text",
         "hovertext": "Argentina<br>GNI Rank: 24<br>Happiness Rank: 43<br>Mismatch: 19",
         "line": {
          "color": "#1E88E5",
          "width": 2
         },
         "mode": "lines+markers",
         "name": "Argentina",
         "type": "scatter",
         "visible": false,
         "x": [
          "GNI Rank",
          "Happiness Rank"
         ],
         "y": [
          24,
          43
         ]
        },
        {
         "hoverinfo": "text",
         "hovertext": "Norway<br>GNI Rank: 25<br>Happiness Rank: 3<br>Mismatch: 22",
         "line": {
          "color": "#1E88E5",
          "width": 2
         },
         "mode": "lines+markers",
         "name": "Norway",
         "type": "scatter",
         "visible": false,
         "x": [
          "GNI Rank",
          "Happiness Rank"
         ],
         "y": [
          25,
          3
         ]
        },
        {
         "hoverinfo": "text",
         "hovertext": "United Arab Emirates<br>GNI Rank: 26<br>Happiness Rank: 20<br>Mismatch: 6",
         "line": {
          "color": "#1E88E5",
          "width": 2
         },
         "mode": "lines+markers",
         "name": "United Arab Emirates",
         "type": "scatter",
         "visible": false,
         "x": [
          "GNI Rank",
          "Happiness Rank"
         ],
         "y": [
          26,
          20
         ]
        },
        {
         "hoverinfo": "text",
         "hovertext": "Philippines<br>GNI Rank: 27<br>Happiness Rank: 62<br>Mismatch: 35",
         "line": {
          "color": "#D81B60",
          "width": 2
         },
         "mode": "lines+markers",
         "name": "Philippines",
         "type": "scatter",
         "visible": false,
         "x": [
          "GNI Rank",
          "Happiness Rank"
         ],
         "y": [
          27,
          62
         ]
        },
        {
         "hoverinfo": "text",
         "hovertext": "Israel<br>GNI Rank: 28<br>Happiness Rank: 13<br>Mismatch: 15",
         "line": {
          "color": "#1E88E5",
          "width": 2
         },
         "mode": "lines+markers",
         "name": "Israel",
         "type": "scatter",
         "visible": false,
         "x": [
          "GNI Rank",
          "Happiness Rank"
         ],
         "y": [
          28,
          13
         ]
        },
        {
         "hoverinfo": "text",
         "hovertext": "South Africa<br>GNI Rank: 29<br>Happiness Rank: 92<br>Mismatch: 63",
         "line": {
          "color": "#D81B60",
          "width": 2
         },
         "mode": "lines+markers",
         "name": "South Africa",
         "type": "scatter",
         "visible": false,
         "x": [
          "GNI Rank",
          "Happiness Rank"
         ],
         "y": [
          29,
          92
         ]
        },
        {
         "hoverinfo": "text",
         "hovertext": "Bangladesh<br>GNI Rank: 30<br>Happiness Rank: 107<br>Mismatch: 77",
         "line": {
          "color": "#D81B60",
          "width": 2
         },
         "mode": "lines+markers",
         "name": "Bangladesh",
         "type": "scatter",
         "visible": false,
         "x": [
          "GNI Rank",
          "Happiness Rank"
         ],
         "y": [
          30,
          107
         ]
        },
        {
         "hoverinfo": "text",
         "hovertext": "Malaysia<br>GNI Rank: 31<br>Happiness Rank: 71<br>Mismatch: 40",
         "line": {
          "color": "#D81B60",
          "width": 2
         },
         "mode": "lines+markers",
         "name": "Malaysia",
         "type": "scatter",
         "visible": false,
         "x": [
          "GNI Rank",
          "Happiness Rank"
         ],
         "y": [
          31,
          71
         ]
        },
        {
         "hoverinfo": "text",
         "hovertext": "Denmark<br>GNI Rank: 32<br>Happiness Rank: 2<br>Mismatch: 30",
         "line": {
          "color": "#1E88E5",
          "width": 2
         },
         "mode": "lines+markers",
         "name": "Denmark",
         "type": "scatter",
         "visible": false,
         "x": [
          "GNI Rank",
          "Happiness Rank"
         ],
         "y": [
          32,
          2
         ]
        },
        {
         "hoverinfo": "text",
         "hovertext": "Singapore<br>GNI Rank: 33<br>Happiness Rank: 32<br>Mismatch: 1",
         "line": {
          "color": "#1E88E5",
          "width": 2
         },
         "mode": "lines+markers",
         "name": "Singapore",
         "type": "scatter",
         "visible": false,
         "x": [
          "GNI Rank",
          "Happiness Rank"
         ],
         "y": [
          33,
          32
         ]
        },
        {
         "hoverinfo": "text",
         "hovertext": "Colombia<br>GNI Rank: 34<br>Happiness Rank: 39<br>Mismatch: 5",
         "line": {
          "color": "#1E88E5",
          "width": 2
         },
         "mode": "lines+markers",
         "name": "Colombia",
         "type": "scatter",
         "visible": false,
         "x": [
          "GNI Rank",
          "Happiness Rank"
         ],
         "y": [
          34,
          39
         ]
        },
        {
         "hoverinfo": "text",
         "hovertext": "Pakistan<br>GNI Rank: 35<br>Happiness Rank: 61<br>Mismatch: 26",
         "line": {
          "color": "#1E88E5",
          "width": 2
         },
         "mode": "lines+markers",
         "name": "Pakistan",
         "type": "scatter",
         "visible": false,
         "x": [
          "GNI Rank",
          "Happiness Rank"
         ],
         "y": [
          35,
          61
         ]
        },
        {
         "hoverinfo": "text",
         "hovertext": "Ireland<br>GNI Rank: 36<br>Happiness Rank: 16<br>Mismatch: 20",
         "line": {
          "color": "#1E88E5",
          "width": 2
         },
         "mode": "lines+markers",
         "name": "Ireland",
         "type": "scatter",
         "visible": false,
         "x": [
          "GNI Rank",
          "Happiness Rank"
         ],
         "y": [
          36,
          16
         ]
        },
        {
         "hoverinfo": "text",
         "hovertext": "Finland<br>GNI Rank: 37<br>Happiness Rank: 1<br>Mismatch: 36",
         "line": {
          "color": "#D81B60",
          "width": 2
         },
         "mode": "lines+markers",
         "name": "Finland",
         "type": "scatter",
         "visible": false,
         "x": [
          "GNI Rank",
          "Happiness Rank"
         ],
         "y": [
          37,
          1
         ]
        },
        {
         "hoverinfo": "text",
         "hovertext": "Chile<br>GNI Rank: 38<br>Happiness Rank: 24<br>Mismatch: 14",
         "line": {
          "color": "#1E88E5",
          "width": 2
         },
         "mode": "lines+markers",
         "name": "Chile",
         "type": "scatter",
         "visible": false,
         "x": [
          "GNI Rank",
          "Happiness Rank"
         ],
         "y": [
          38,
          24
         ]
        },
        {
         "hoverinfo": "text",
         "hovertext": "Romania<br>GNI Rank: 39<br>Happiness Rank: 44<br>Mismatch: 5",
         "line": {
          "color": "#1E88E5",
          "width": 2
         },
         "mode": "lines+markers",
         "name": "Romania",
         "type": "scatter",
         "visible": false,
         "x": [
          "GNI Rank",
          "Happiness Rank"
         ],
         "y": [
          39,
          44
         ]
        },
        {
         "hoverinfo": "text",
         "hovertext": "Portugal<br>GNI Rank: 40<br>Happiness Rank: 60<br>Mismatch: 20",
         "line": {
          "color": "#1E88E5",
          "width": 2
         },
         "mode": "lines+markers",
         "name": "Portugal",
         "type": "scatter",
         "visible": false,
         "x": [
          "GNI Rank",
          "Happiness Rank"
         ],
         "y": [
          40,
          60
         ]
        },
        {
         "hoverinfo": "text",
         "hovertext": "Iraq<br>GNI Rank: 41<br>Happiness Rank: 108<br>Mismatch: 67",
         "line": {
          "color": "#D81B60",
          "width": 2
         },
         "mode": "lines+markers",
         "name": "Iraq",
         "type": "scatter",
         "visible": false,
         "x": [
          "GNI Rank",
          "Happiness Rank"
         ],
         "y": [
          41,
          108
         ]
        },
        {
         "hoverinfo": "text",
         "hovertext": "Peru<br>GNI Rank: 42<br>Happiness Rank: 59<br>Mismatch: 17",
         "line": {
          "color": "#1E88E5",
          "width": 2
         },
         "mode": "lines+markers",
         "name": "Peru",
         "type": "scatter",
         "visible": false,
         "x": [
          "GNI Rank",
          "Happiness Rank"
         ],
         "y": [
          42,
          59
         ]
        },
        {
         "hoverinfo": "text",
         "hovertext": "New Zealand<br>GNI Rank: 43<br>Happiness Rank: 8<br>Mismatch: 35",
         "line": {
          "color": "#D81B60",
          "width": 2
         },
         "mode": "lines+markers",
         "name": "New Zealand",
         "type": "scatter",
         "visible": false,
         "x": [
          "GNI Rank",
          "Happiness Rank"
         ],
         "y": [
          43,
          8
         ]
        },
        {
         "hoverinfo": "text",
         "hovertext": "Greece<br>GNI Rank: 44<br>Happiness Rank: 73<br>Mismatch: 29",
         "line": {
          "color": "#1E88E5",
          "width": 2
         },
         "mode": "lines+markers",
         "name": "Greece",
         "type": "scatter",
         "visible": false,
         "x": [
          "GNI Rank",
          "Happiness Rank"
         ],
         "y": [
          44,
          73
         ]
        },
        {
         "hoverinfo": "text",
         "hovertext": "Algeria<br>GNI Rank: 45<br>Happiness Rank: 78<br>Mismatch: 33",
         "line": {
          "color": "#D81B60",
          "width": 2
         },
         "mode": "lines+markers",
         "name": "Algeria",
         "type": "scatter",
         "visible": false,
         "x": [
          "GNI Rank",
          "Happiness Rank"
         ],
         "y": [
          45,
          78
         ]
        },
        {
         "hoverinfo": "text",
         "hovertext": "Qatar<br>GNI Rank: 46<br>Happiness Rank: 27<br>Mismatch: 19",
         "line": {
          "color": "#1E88E5",
          "width": 2
         },
         "mode": "lines+markers",
         "name": "Qatar",
         "type": "scatter",
         "visible": false,
         "x": [
          "GNI Rank",
          "Happiness Rank"
         ],
         "y": [
          46,
          27
         ]
        },
        {
         "hoverinfo": "text",
         "hovertext": "Kuwait<br>GNI Rank: 47<br>Happiness Rank: 47<br>Mismatch: 0",
         "line": {
          "color": "#1E88E5",
          "width": 2
         },
         "mode": "lines+markers",
         "name": "Kuwait",
         "type": "scatter",
         "visible": false,
         "x": [
          "GNI Rank",
          "Happiness Rank"
         ],
         "y": [
          47,
          47
         ]
        },
        {
         "hoverinfo": "text",
         "hovertext": "Hungary<br>GNI Rank: 48<br>Happiness Rank: 57<br>Mismatch: 9",
         "line": {
          "color": "#1E88E5",
          "width": 2
         },
         "mode": "lines+markers",
         "name": "Hungary",
         "type": "scatter",
         "visible": false,
         "x": [
          "GNI Rank",
          "Happiness Rank"
         ],
         "y": [
          48,
          57
         ]
        },
        {
         "hoverinfo": "text",
         "hovertext": "Kazakhstan<br>GNI Rank: 49<br>Happiness Rank: 55<br>Mismatch: 6",
         "line": {
          "color": "#1E88E5",
          "width": 2
         },
         "mode": "lines+markers",
         "name": "Kazakhstan",
         "type": "scatter",
         "visible": false,
         "x": [
          "GNI Rank",
          "Happiness Rank"
         ],
         "y": [
          49,
          55
         ]
        },
        {
         "hoverinfo": "text",
         "hovertext": "Ukraine<br>GNI Rank: 50<br>Happiness Rank: 114<br>Mismatch: 64",
         "line": {
          "color": "#D81B60",
          "width": 2
         },
         "mode": "lines+markers",
         "name": "Ukraine",
         "type": "scatter",
         "visible": false,
         "x": [
          "GNI Rank",
          "Happiness Rank"
         ],
         "y": [
          50,
          114
         ]
        },
        {
         "hoverinfo": "text",
         "hovertext": "Morocco<br>GNI Rank: 51<br>Happiness Rank: 79<br>Mismatch: 28",
         "line": {
          "color": "#1E88E5",
          "width": 2
         },
         "mode": "lines+markers",
         "name": "Morocco",
         "type": "scatter",
         "visible": false,
         "x": [
          "GNI Rank",
          "Happiness Rank"
         ],
         "y": [
          51,
          79
         ]
        },
        {
         "hoverinfo": "text",
         "hovertext": "Ecuador<br>GNI Rank: 52<br>Happiness Rank: 46<br>Mismatch: 6",
         "line": {
          "color": "#1E88E5",
          "width": 2
         },
         "mode": "lines+markers",
         "name": "Ecuador",
         "type": "scatter",
         "visible": false,
         "x": [
          "GNI Rank",
          "Happiness Rank"
         ],
         "y": [
          52,
          46
         ]
        },
        {
         "hoverinfo": "text",
         "hovertext": "Kenya<br>GNI Rank: 53<br>Happiness Rank: 103<br>Mismatch: 50",
         "line": {
          "color": "#D81B60",
          "width": 2
         },
         "mode": "lines+markers",
         "name": "Kenya",
         "type": "scatter",
         "visible": false,
         "x": [
          "GNI Rank",
          "Happiness Rank"
         ],
         "y": [
          53,
          103
         ]
        },
        {
         "hoverinfo": "text",
         "hovertext": "Ethiopia<br>GNI Rank: 54<br>Happiness Rank: 115<br>Mismatch: 61",
         "line": {
          "color": "#D81B60",
          "width": 2
         },
         "mode": "lines+markers",
         "name": "Ethiopia",
         "type": "scatter",
         "visible": false,
         "x": [
          "GNI Rank",
          "Happiness Rank"
         ],
         "y": [
          54,
          115
         ]
        },
        {
         "hoverinfo": "text",
         "hovertext": "Sri Lanka<br>GNI Rank: 55<br>Happiness Rank: 111<br>Mismatch: 56",
         "line": {
          "color": "#D81B60",
          "width": 2
         },
         "mode": "lines+markers",
         "name": "Sri Lanka",
         "type": "scatter",
         "visible": false,
         "x": [
          "GNI Rank",
          "Happiness Rank"
         ],
         "y": [
          55,
          111
         ]
        },
        {
         "hoverinfo": "text",
         "hovertext": "Dominican Republic<br>GNI Rank: 56<br>Happiness Rank: 69<br>Mismatch: 13",
         "line": {
          "color": "#1E88E5",
          "width": 2
         },
         "mode": "lines+markers",
         "name": "Dominican Republic",
         "type": "scatter",
         "visible": false,
         "x": [
          "GNI Rank",
          "Happiness Rank"
         ],
         "y": [
          56,
          69
         ]
        },
        {
         "hoverinfo": "text",
         "hovertext": "Guatemala<br>GNI Rank: 57<br>Happiness Rank: 25<br>Mismatch: 32",
         "line": {
          "color": "#D81B60",
          "width": 2
         },
         "mode": "lines+markers",
         "name": "Guatemala",
         "type": "scatter",
         "visible": false,
         "x": [
          "GNI Rank",
          "Happiness Rank"
         ],
         "y": [
          57,
          25
         ]
        },
        {
         "hoverinfo": "text",
         "hovertext": "Myanmar<br>GNI Rank: 58<br>Happiness Rank: 112<br>Mismatch: 54",
         "line": {
          "color": "#D81B60",
          "width": 2
         },
         "mode": "lines+markers",
         "name": "Myanmar",
         "type": "scatter",
         "visible": false,
         "x": [
          "GNI Rank",
          "Happiness Rank"
         ],
         "y": [
          58,
          112
         ]
        },
        {
         "hoverinfo": "text",
         "hovertext": "Libya<br>GNI Rank: 59<br>Happiness Rank: 65<br>Mismatch: 6",
         "line": {
          "color": "#1E88E5",
          "width": 2
         },
         "mode": "lines+markers",
         "name": "Libya",
         "type": "scatter",
         "visible": false,
         "x": [
          "GNI Rank",
          "Happiness Rank"
         ],
         "y": [
          59,
          65
         ]
        },
        {
         "hoverinfo": "text",
         "hovertext": "Uzbekistan<br>GNI Rank: 60<br>Happiness Rank: 37<br>Mismatch: 23",
         "line": {
          "color": "#1E88E5",
          "width": 2
         },
         "mode": "lines+markers",
         "name": "Uzbekistan",
         "type": "scatter",
         "visible": false,
         "x": [
          "GNI Rank",
          "Happiness Rank"
         ],
         "y": [
          60,
          37
         ]
        },
        {
         "hoverinfo": "text",
         "hovertext": "Bulgaria<br>GNI Rank: 61<br>Happiness Rank: 86<br>Mismatch: 25",
         "line": {
          "color": "#1E88E5",
          "width": 2
         },
         "mode": "lines+markers",
         "name": "Bulgaria",
         "type": "scatter",
         "visible": false,
         "x": [
          "GNI Rank",
          "Happiness Rank"
         ],
         "y": [
          61,
          86
         ]
        },
        {
         "hoverinfo": "text",
         "hovertext": "Ghana<br>GNI Rank: 62<br>Happiness Rank: 87<br>Mismatch: 25",
         "line": {
          "color": "#1E88E5",
          "width": 2
         },
         "mode": "lines+markers",
         "name": "Ghana",
         "type": "scatter",
         "visible": false,
         "x": [
          "GNI Rank",
          "Happiness Rank"
         ],
         "y": [
          62,
          87
         ]
        },
        {
         "hoverinfo": "text",
         "hovertext": "Panama<br>GNI Rank: 63<br>Happiness Rank: 29<br>Mismatch: 34",
         "line": {
          "color": "#D81B60",
          "width": 2
         },
         "mode": "lines+markers",
         "name": "Panama",
         "type": "scatter",
         "visible": false,
         "x": [
          "GNI Rank",
          "Happiness Rank"
         ],
         "y": [
          63,
          29
         ]
        },
        {
         "hoverinfo": "text",
         "hovertext": "Belarus<br>GNI Rank: 64<br>Happiness Rank: 72<br>Mismatch: 8",
         "line": {
          "color": "#1E88E5",
          "width": 2
         },
         "mode": "lines+markers",
         "name": "Belarus",
         "type": "scatter",
         "visible": false,
         "x": [
          "GNI Rank",
          "Happiness Rank"
         ],
         "y": [
          64,
          72
         ]
        },
        {
         "hoverinfo": "text",
         "hovertext": "Croatia<br>GNI Rank: 65<br>Happiness Rank: 68<br>Mismatch: 3",
         "line": {
          "color": "#1E88E5",
          "width": 2
         },
         "mode": "lines+markers",
         "name": "Croatia",
         "type": "scatter",
         "visible": false,
         "x": [
          "GNI Rank",
          "Happiness Rank"
         ],
         "y": [
          65,
          68
         ]
        },
        {
         "hoverinfo": "text",
         "hovertext": "Costa Rica<br>GNI Rank: 66<br>Happiness Rank: 12<br>Mismatch: 54",
         "line": {
          "color": "#D81B60",
          "width": 2
         },
         "mode": "lines+markers",
         "name": "Costa Rica",
         "type": "scatter",
         "visible": false,
         "x": [
          "GNI Rank",
          "Happiness Rank"
         ],
         "y": [
          66,
          12
         ]
        },
        {
         "hoverinfo": "text",
         "hovertext": "Tanzania<br>GNI Rank: 67<br>Happiness Rank: 130<br>Mismatch: 63",
         "line": {
          "color": "#D81B60",
          "width": 2
         },
         "mode": "lines+markers",
         "name": "Tanzania",
         "type": "scatter",
         "visible": false,
         "x": [
          "GNI Rank",
          "Happiness Rank"
         ],
         "y": [
          67,
          130
         ]
        },
        {
         "hoverinfo": "text",
         "hovertext": "Uruguay<br>GNI Rank: 68<br>Happiness Rank: 31<br>Mismatch: 37",
         "line": {
          "color": "#D81B60",
          "width": 2
         },
         "mode": "lines+markers",
         "name": "Uruguay",
         "type": "scatter",
         "visible": false,
         "x": [
          "GNI Rank",
          "Happiness Rank"
         ],
         "y": [
          68,
          31
         ]
        },
        {
         "hoverinfo": "text",
         "hovertext": "Slovenia<br>GNI Rank: 69<br>Happiness Rank: 40<br>Mismatch: 29",
         "line": {
          "color": "#1E88E5",
          "width": 2
         },
         "mode": "lines+markers",
         "name": "Slovenia",
         "type": "scatter",
         "visible": false,
         "x": [
          "GNI Rank",
          "Happiness Rank"
         ],
         "y": [
          69,
          40
         ]
        },
        {
         "hoverinfo": "text",
         "hovertext": "Lithuania<br>GNI Rank: 70<br>Happiness Rank: 38<br>Mismatch: 32",
         "line": {
          "color": "#D81B60",
          "width": 2
         },
         "mode": "lines+markers",
         "name": "Lithuania",
         "type": "scatter",
         "visible": false,
         "x": [
          "GNI Rank",
          "Happiness Rank"
         ],
         "y": [
          70,
          38
         ]
        },
        {
         "hoverinfo": "text",
         "hovertext": "Serbia<br>GNI Rank: 71<br>Happiness Rank: 63<br>Mismatch: 8",
         "line": {
          "color": "#1E88E5",
          "width": 2
         },
         "mode": "lines+markers",
         "name": "Serbia",
         "type": "scatter",
         "visible": false,
         "x": [
          "GNI Rank",
          "Happiness Rank"
         ],
         "y": [
          71,
          63
         ]
        },
        {
         "hoverinfo": "text",
         "hovertext": "Lebanon<br>GNI Rank: 72<br>Happiness Rank: 81<br>Mismatch: 9",
         "line": {
          "color": "#1E88E5",
          "width": 2
         },
         "mode": "lines+markers",
         "name": "Lebanon",
         "type": "scatter",
         "visible": false,
         "x": [
          "GNI Rank",
          "Happiness Rank"
         ],
         "y": [
          72,
          81
         ]
        },
        {
         "hoverinfo": "text",
         "hovertext": "Luxembourg<br>GNI Rank: 73<br>Happiness Rank: 14<br>Mismatch: 59",
         "line": {
          "color": "#D81B60",
          "width": 2
         },
         "mode": "lines+markers",
         "name": "Luxembourg",
         "type": "scatter",
         "visible": false,
         "x": [
          "GNI Rank",
          "Happiness Rank"
         ],
         "y": [
          73,
          14
         ]
        },
        {
         "hoverinfo": "text",
         "hovertext": "Azerbaijan<br>GNI Rank: 74<br>Happiness Rank: 79<br>Mismatch: 5",
         "line": {
          "color": "#1E88E5",
          "width": 2
         },
         "mode": "lines+markers",
         "name": "Azerbaijan",
         "type": "scatter",
         "visible": false,
         "x": [
          "GNI Rank",
          "Happiness Rank"
         ],
         "y": [
          74,
          79
         ]
        },
        {
         "hoverinfo": "text",
         "hovertext": "Turkmenistan<br>GNI Rank: 75<br>Happiness Rank: 77<br>Mismatch: 2",
         "line": {
          "color": "#1E88E5",
          "width": 2
         },
         "mode": "lines+markers",
         "name": "Turkmenistan",
         "type": "scatter",
         "visible": false,
         "x": [
          "GNI Rank",
          "Happiness Rank"
         ],
         "y": [
          75,
          77
         ]
        },
        {
         "hoverinfo": "text",
         "hovertext": "Jordan<br>GNI Rank: 76<br>Happiness Rank: 89<br>Mismatch: 13",
         "line": {
          "color": "#1E88E5",
          "width": 2
         },
         "mode": "lines+markers",
         "name": "Jordan",
         "type": "scatter",
         "visible": false,
         "x": [
          "GNI Rank",
          "Happiness Rank"
         ],
         "y": [
          76,
          89
         ]
        },
        {
         "hoverinfo": "text",
         "hovertext": "Tunisia<br>GNI Rank: 77<br>Happiness Rank: 106<br>Mismatch: 29",
         "line": {
          "color": "#1E88E5",
          "width": 2
         },
         "mode": "lines+markers",
         "name": "Tunisia",
         "type": "scatter",
         "visible": false,
         "x": [
          "GNI Rank",
          "Happiness Rank"
         ],
         "y": [
          77,
          106
         ]
        },
        {
         "hoverinfo": "text",
         "hovertext": "Bolivia<br>GNI Rank: 78<br>Happiness Rank: 56<br>Mismatch: 22",
         "line": {
          "color": "#1E88E5",
          "width": 2
         },
         "mode": "lines+markers",
         "name": "Bolivia",
         "type": "scatter",
         "visible": false,
         "x": [
          "GNI Rank",
          "Happiness Rank"
         ],
         "y": [
          78,
          56
         ]
        },
        {
         "hoverinfo": "text",
         "hovertext": "Cameroon<br>GNI Rank: 79<br>Happiness Rank: 85<br>Mismatch: 6",
         "line": {
          "color": "#1E88E5",
          "width": 2
         },
         "mode": "lines+markers",
         "name": "Cameroon",
         "type": "scatter",
         "visible": false,
         "x": [
          "GNI Rank",
          "Happiness Rank"
         ],
         "y": [
          79,
          85
         ]
        },
        {
         "hoverinfo": "text",
         "hovertext": "Bahrain<br>GNI Rank: 80<br>Happiness Rank: 35<br>Mismatch: 45",
         "line": {
          "color": "#D81B60",
          "width": 2
         },
         "mode": "lines+markers",
         "name": "Bahrain",
         "type": "scatter",
         "visible": false,
         "x": [
          "GNI Rank",
          "Happiness Rank"
         ],
         "y": [
          80,
          35
         ]
        },
        {
         "hoverinfo": "text",
         "hovertext": "Paraguay<br>GNI Rank: 81<br>Happiness Rank: 58<br>Mismatch: 23",
         "line": {
          "color": "#1E88E5",
          "width": 2
         },
         "mode": "lines+markers",
         "name": "Paraguay",
         "type": "scatter",
         "visible": false,
         "x": [
          "GNI Rank",
          "Happiness Rank"
         ],
         "y": [
          81,
          58
         ]
        },
        {
         "hoverinfo": "text",
         "hovertext": "Cambodia<br>GNI Rank: 82<br>Happiness Rank: 94<br>Mismatch: 12",
         "line": {
          "color": "#1E88E5",
          "width": 2
         },
         "mode": "lines+markers",
         "name": "Cambodia",
         "type": "scatter",
         "visible": false,
         "x": [
          "GNI Rank",
          "Happiness Rank"
         ],
         "y": [
          82,
          94
         ]
        },
        {
         "hoverinfo": "text",
         "hovertext": "Nepal<br>GNI Rank: 83<br>Happiness Rank: 88<br>Mismatch: 5",
         "line": {
          "color": "#1E88E5",
          "width": 2
         },
         "mode": "lines+markers",
         "name": "Nepal",
         "type": "scatter",
         "visible": false,
         "x": [
          "GNI Rank",
          "Happiness Rank"
         ],
         "y": [
          83,
          88
         ]
        },
        {
         "hoverinfo": "text",
         "hovertext": "Uganda<br>GNI Rank: 84<br>Happiness Rank: 116<br>Mismatch: 32",
         "line": {
          "color": "#D81B60",
          "width": 2
         },
         "mode": "lines+markers",
         "name": "Uganda",
         "type": "scatter",
         "visible": false,
         "x": [
          "GNI Rank",
          "Happiness Rank"
         ],
         "y": [
          84,
          116
         ]
        },
        {
         "hoverinfo": "text",
         "hovertext": "Latvia<br>GNI Rank: 85<br>Happiness Rank: 49<br>Mismatch: 36",
         "line": {
          "color": "#D81B60",
          "width": 2
         },
         "mode": "lines+markers",
         "name": "Latvia",
         "type": "scatter",
         "visible": false,
         "x": [
          "GNI Rank",
          "Happiness Rank"
         ],
         "y": [
          85,
          49
         ]
        },
        {
         "hoverinfo": "text",
         "hovertext": "Estonia<br>GNI Rank: 86<br>Happiness Rank: 50<br>Mismatch: 36",
         "line": {
          "color": "#D81B60",
          "width": 2
         },
         "mode": "lines+markers",
         "name": "Estonia",
         "type": "scatter",
         "visible": false,
         "x": [
          "GNI Rank",
          "Happiness Rank"
         ],
         "y": [
          86,
          50
         ]
        },
        {
         "hoverinfo": "text",
         "hovertext": "El Salvador<br>GNI Rank: 87<br>Happiness Rank: 33<br>Mismatch: 54",
         "line": {
          "color": "#D81B60",
          "width": 2
         },
         "mode": "lines+markers",
         "name": "El Salvador",
         "type": "scatter",
         "visible": false,
         "x": [
          "GNI Rank",
          "Happiness Rank"
         ],
         "y": [
          87,
          33
         ]
        },
        {
         "hoverinfo": "text",
         "hovertext": "Iceland<br>GNI Rank: 88<br>Happiness Rank: 4<br>Mismatch: 84",
         "line": {
          "color": "#D81B60",
          "width": 2
         },
         "mode": "lines+markers",
         "name": "Iceland",
         "type": "scatter",
         "visible": false,
         "x": [
          "GNI Rank",
          "Happiness Rank"
         ],
         "y": [
          88,
          4
         ]
        },
        {
         "hoverinfo": "text",
         "hovertext": "Zimbabwe<br>GNI Rank: 89<br>Happiness Rank: 125<br>Mismatch: 36",
         "line": {
          "color": "#D81B60",
          "width": 2
         },
         "mode": "lines+markers",
         "name": "Zimbabwe",
         "type": "scatter",
         "visible": false,
         "x": [
          "GNI Rank",
          "Happiness Rank"
         ],
         "y": [
          89,
          125
         ]
        },
        {
         "hoverinfo": "text",
         "hovertext": "Cyprus<br>GNI Rank: 90<br>Happiness Rank: 45<br>Mismatch: 45",
         "line": {
          "color": "#D81B60",
          "width": 2
         },
         "mode": "lines+markers",
         "name": "Cyprus",
         "type": "scatter",
         "visible": false,
         "x": [
          "GNI Rank",
          "Happiness Rank"
         ],
         "y": [
          90,
          45
         ]
        },
        {
         "hoverinfo": "text",
         "hovertext": "Zambia<br>GNI Rank: 91<br>Happiness Rank: 117<br>Mismatch: 26",
         "line": {
          "color": "#1E88E5",
          "width": 2
         },
         "mode": "lines+markers",
         "name": "Zambia",
         "type": "scatter",
         "visible": false,
         "x": [
          "GNI Rank",
          "Happiness Rank"
         ],
         "y": [
          91,
          117
         ]
        },
        {
         "hoverinfo": "text",
         "hovertext": "Honduras<br>GNI Rank: 92<br>Happiness Rank: 54<br>Mismatch: 38",
         "line": {
          "color": "#D81B60",
          "width": 2
         },
         "mode": "lines+markers",
         "name": "Honduras",
         "type": "scatter",
         "visible": false,
         "x": [
          "GNI Rank",
          "Happiness Rank"
         ],
         "y": [
          92,
          54
         ]
        },
        {
         "hoverinfo": "text",
         "hovertext": "Senegal<br>GNI Rank: 93<br>Happiness Rank: 95<br>Mismatch: 2",
         "line": {
          "color": "#1E88E5",
          "width": 2
         },
         "mode": "lines+markers",
         "name": "Senegal",
         "type": "scatter",
         "visible": false,
         "x": [
          "GNI Rank",
          "Happiness Rank"
         ],
         "y": [
          93,
          95
         ]
        },
        {
         "hoverinfo": "text",
         "hovertext": "Bosnia and Herzegovina<br>GNI Rank: 94<br>Happiness Rank: 70<br>Mismatch: 24",
         "line": {
          "color": "#1E88E5",
          "width": 2
         },
         "mode": "lines+markers",
         "name": "Bosnia and Herzegovina",
         "type": "scatter",
         "visible": false,
         "x": [
          "GNI Rank",
          "Happiness Rank"
         ],
         "y": [
          94,
          70
         ]
        },
        {
         "hoverinfo": "text",
         "hovertext": "Afghanistan<br>GNI Rank: 95<br>Happiness Rank: 131<br>Mismatch: 36",
         "line": {
          "color": "#D81B60",
          "width": 2
         },
         "mode": "lines+markers",
         "name": "Afghanistan",
         "type": "scatter",
         "visible": false,
         "x": [
          "GNI Rank",
          "Happiness Rank"
         ],
         "y": [
          95,
          131
         ]
        },
        {
         "hoverinfo": "text",
         "hovertext": "Georgia<br>GNI Rank: 96<br>Happiness Rank: 102<br>Mismatch: 6",
         "line": {
          "color": "#1E88E5",
          "width": 2
         },
         "mode": "lines+markers",
         "name": "Georgia",
         "type": "scatter",
         "visible": false,
         "x": [
          "GNI Rank",
          "Happiness Rank"
         ],
         "y": [
          96,
          102
         ]
        },
        {
         "hoverinfo": "text",
         "hovertext": "Botswana<br>GNI Rank: 97<br>Happiness Rank: 127<br>Mismatch: 30",
         "line": {
          "color": "#1E88E5",
          "width": 2
         },
         "mode": "lines+markers",
         "name": "Botswana",
         "type": "scatter",
         "visible": false,
         "x": [
          "GNI Rank",
          "Happiness Rank"
         ],
         "y": [
          97,
          127
         ]
        },
        {
         "hoverinfo": "text",
         "hovertext": "Mali<br>GNI Rank: 98<br>Happiness Rank: 109<br>Mismatch: 11",
         "line": {
          "color": "#1E88E5",
          "width": 2
         },
         "mode": "lines+markers",
         "name": "Mali",
         "type": "scatter",
         "visible": false,
         "x": [
          "GNI Rank",
          "Happiness Rank"
         ],
         "y": [
          98,
          109
         ]
        },
        {
         "hoverinfo": "text",
         "hovertext": "Gabon<br>GNI Rank: 99<br>Happiness Rank: 91<br>Mismatch: 8",
         "line": {
          "color": "#1E88E5",
          "width": 2
         },
         "mode": "lines+markers",
         "name": "Gabon",
         "type": "scatter",
         "visible": false,
         "x": [
          "GNI Rank",
          "Happiness Rank"
         ],
         "y": [
          99,
          91
         ]
        },
        {
         "hoverinfo": "text",
         "hovertext": "Jamaica<br>GNI Rank: 100<br>Happiness Rank: 51<br>Mismatch: 49",
         "line": {
          "color": "#D81B60",
          "width": 2
         },
         "mode": "lines+markers",
         "name": "Jamaica",
         "type": "scatter",
         "visible": false,
         "x": [
          "GNI Rank",
          "Happiness Rank"
         ],
         "y": [
          100,
          51
         ]
        },
        {
         "hoverinfo": "text",
         "hovertext": "Albania<br>GNI Rank: 101<br>Happiness Rank: 93<br>Mismatch: 8",
         "line": {
          "color": "#1E88E5",
          "width": 2
         },
         "mode": "lines+markers",
         "name": "Albania",
         "type": "scatter",
         "visible": false,
         "x": [
          "GNI Rank",
          "Happiness Rank"
         ],
         "y": [
          101,
          93
         ]
        },
        {
         "hoverinfo": "text",
         "hovertext": "Burkina Faso<br>GNI Rank: 102<br>Happiness Rank: 99<br>Mismatch: 3",
         "line": {
          "color": "#1E88E5",
          "width": 2
         },
         "mode": "lines+markers",
         "name": "Burkina Faso",
         "type": "scatter",
         "visible": false,
         "x": [
          "GNI Rank",
          "Happiness Rank"
         ],
         "y": [
          102,
          99
         ]
        },
        {
         "hoverinfo": "text",
         "hovertext": "Mozambique<br>GNI Rank: 103<br>Happiness Rank: 105<br>Mismatch: 2",
         "line": {
          "color": "#1E88E5",
          "width": 2
         },
         "mode": "lines+markers",
         "name": "Mozambique",
         "type": "scatter",
         "visible": false,
         "x": [
          "GNI Rank",
          "Happiness Rank"
         ],
         "y": [
          103,
          105
         ]
        },
        {
         "hoverinfo": "text",
         "hovertext": "Mauritius<br>GNI Rank: 104<br>Happiness Rank: 52<br>Mismatch: 52",
         "line": {
          "color": "#D81B60",
          "width": 2
         },
         "mode": "lines+markers",
         "name": "Mauritius",
         "type": "scatter",
         "visible": false,
         "x": [
          "GNI Rank",
          "Happiness Rank"
         ],
         "y": [
          104,
          52
         ]
        },
        {
         "hoverinfo": "text",
         "hovertext": "Haiti<br>GNI Rank: 105<br>Happiness Rank: 126<br>Mismatch: 21",
         "line": {
          "color": "#1E88E5",
          "width": 2
         },
         "mode": "lines+markers",
         "name": "Haiti",
         "type": "scatter",
         "visible": false,
         "x": [
          "GNI Rank",
          "Happiness Rank"
         ],
         "y": [
          105,
          126
         ]
        },
        {
         "hoverinfo": "text",
         "hovertext": "Malta<br>GNI Rank: 106<br>Happiness Rank: 21<br>Mismatch: 85",
         "line": {
          "color": "#D81B60",
          "width": 2
         },
         "mode": "lines+markers",
         "name": "Malta",
         "type": "scatter",
         "visible": false,
         "x": [
          "GNI Rank",
          "Happiness Rank"
         ],
         "y": [
          106,
          21
         ]
        },
        {
         "hoverinfo": "text",
         "hovertext": "Benin<br>GNI Rank: 107<br>Happiness Rank: 90<br>Mismatch: 17",
         "line": {
          "color": "#1E88E5",
          "width": 2
         },
         "mode": "lines+markers",
         "name": "Benin",
         "type": "scatter",
         "visible": false,
         "x": [
          "GNI Rank",
          "Happiness Rank"
         ],
         "y": [
          107,
          90
         ]
        },
        {
         "hoverinfo": "text",
         "hovertext": "Armenia<br>GNI Rank: 108<br>Happiness Rank: 100<br>Mismatch: 8",
         "line": {
          "color": "#1E88E5",
          "width": 2
         },
         "mode": "lines+markers",
         "name": "Armenia",
         "type": "scatter",
         "visible": false,
         "x": [
          "GNI Rank",
          "Happiness Rank"
         ],
         "y": [
          108,
          100
         ]
        },
        {
         "hoverinfo": "text",
         "hovertext": "Madagascar<br>GNI Rank: 109<br>Happiness Rank: 122<br>Mismatch: 13",
         "line": {
          "color": "#1E88E5",
          "width": 2
         },
         "mode": "lines+markers",
         "name": "Madagascar",
         "type": "scatter",
         "visible": false,
         "x": [
          "GNI Rank",
          "Happiness Rank"
         ],
         "y": [
          109,
          122
         ]
        },
        {
         "hoverinfo": "text",
         "hovertext": "Niger<br>GNI Rank: 110<br>Happiness Rank: 98<br>Mismatch: 12",
         "line": {
          "color": "#1E88E5",
          "width": 2
         },
         "mode": "lines+markers",
         "name": "Niger",
         "type": "scatter",
         "visible": false,
         "x": [
          "GNI Rank",
          "Happiness Rank"
         ],
         "y": [
          110,
          98
         ]
        },
        {
         "hoverinfo": "text",
         "hovertext": "Guinea<br>GNI Rank: 111<br>Happiness Rank: 101<br>Mismatch: 10",
         "line": {
          "color": "#1E88E5",
          "width": 2
         },
         "mode": "lines+markers",
         "name": "Guinea",
         "type": "scatter",
         "visible": false,
         "x": [
          "GNI Rank",
          "Happiness Rank"
         ],
         "y": [
          111,
          101
         ]
        },
        {
         "hoverinfo": "text",
         "hovertext": "Mongolia<br>GNI Rank: 112<br>Happiness Rank: 74<br>Mismatch: 38",
         "line": {
          "color": "#D81B60",
          "width": 2
         },
         "mode": "lines+markers",
         "name": "Mongolia",
         "type": "scatter",
         "visible": false,
         "x": [
          "GNI Rank",
          "Happiness Rank"
         ],
         "y": [
          112,
          74
         ]
        },
        {
         "hoverinfo": "text",
         "hovertext": "Moldova<br>GNI Rank: 113<br>Happiness Rank: 64<br>Mismatch: 49",
         "line": {
          "color": "#D81B60",
          "width": 2
         },
         "mode": "lines+markers",
         "name": "Moldova",
         "type": "scatter",
         "visible": false,
         "x": [
          "GNI Rank",
          "Happiness Rank"
         ],
         "y": [
          113,
          64
         ]
        },
        {
         "hoverinfo": "text",
         "hovertext": "Namibia<br>GNI Rank: 114<br>Happiness Rank: 97<br>Mismatch: 17",
         "line": {
          "color": "#1E88E5",
          "width": 2
         },
         "mode": "lines+markers",
         "name": "Namibia",
         "type": "scatter",
         "visible": false,
         "x": [
          "GNI Rank",
          "Happiness Rank"
         ],
         "y": [
          114,
          97
         ]
        },
        {
         "hoverinfo": "text",
         "hovertext": "Nicaragua<br>GNI Rank: 115<br>Happiness Rank: 41<br>Mismatch: 74",
         "line": {
          "color": "#D81B60",
          "width": 2
         },
         "mode": "lines+markers",
         "name": "Nicaragua",
         "type": "scatter",
         "visible": false,
         "x": [
          "GNI Rank",
          "Happiness Rank"
         ],
         "y": [
          115,
          41
         ]
        },
        {
         "hoverinfo": "text",
         "hovertext": "North Macedonia<br>GNI Rank: 116<br>Happiness Rank: 75<br>Mismatch: 41",
         "line": {
          "color": "#D81B60",
          "width": 2
         },
         "mode": "lines+markers",
         "name": "North Macedonia",
         "type": "scatter",
         "visible": false,
         "x": [
          "GNI Rank",
          "Happiness Rank"
         ],
         "y": [
          116,
          75
         ]
        },
        {
         "hoverinfo": "text",
         "hovertext": "Chad<br>GNI Rank: 117<br>Happiness Rank: 113<br>Mismatch: 4",
         "line": {
          "color": "#1E88E5",
          "width": 2
         },
         "mode": "lines+markers",
         "name": "Chad",
         "type": "scatter",
         "visible": false,
         "x": [
          "GNI Rank",
          "Happiness Rank"
         ],
         "y": [
          117,
          113
         ]
        },
        {
         "hoverinfo": "text",
         "hovertext": "Malawi<br>GNI Rank: 118<br>Happiness Rank: 128<br>Mismatch: 10",
         "line": {
          "color": "#1E88E5",
          "width": 2
         },
         "mode": "lines+markers",
         "name": "Malawi",
         "type": "scatter",
         "visible": false,
         "x": [
          "GNI Rank",
          "Happiness Rank"
         ],
         "y": [
          118,
          128
         ]
        },
        {
         "hoverinfo": "text",
         "hovertext": "Rwanda<br>GNI Rank: 119<br>Happiness Rank: 129<br>Mismatch: 10",
         "line": {
          "color": "#1E88E5",
          "width": 2
         },
         "mode": "lines+markers",
         "name": "Rwanda",
         "type": "scatter",
         "visible": false,
         "x": [
          "GNI Rank",
          "Happiness Rank"
         ],
         "y": [
          119,
          129
         ]
        },
        {
         "hoverinfo": "text",
         "hovertext": "Tajikistan<br>GNI Rank: 120<br>Happiness Rank: 67<br>Mismatch: 53",
         "line": {
          "color": "#D81B60",
          "width": 2
         },
         "mode": "lines+markers",
         "name": "Tajikistan",
         "type": "scatter",
         "visible": false,
         "x": [
          "GNI Rank",
          "Happiness Rank"
         ],
         "y": [
          120,
          67
         ]
        },
        {
         "hoverinfo": "text",
         "hovertext": "Somalia<br>GNI Rank: 121<br>Happiness Rank: 96<br>Mismatch: 25",
         "line": {
          "color": "#1E88E5",
          "width": 2
         },
         "mode": "lines+markers",
         "name": "Somalia",
         "type": "scatter",
         "visible": false,
         "x": [
          "GNI Rank",
          "Happiness Rank"
         ],
         "y": [
          121,
          96
         ]
        },
        {
         "hoverinfo": "text",
         "hovertext": "Kosovo<br>GNI Rank: 122<br>Happiness Rank: 42<br>Mismatch: 80",
         "line": {
          "color": "#D81B60",
          "width": 2
         },
         "mode": "lines+markers",
         "name": "Kosovo",
         "type": "scatter",
         "visible": false,
         "x": [
          "GNI Rank",
          "Happiness Rank"
         ],
         "y": [
          122,
          42
         ]
        },
        {
         "hoverinfo": "text",
         "hovertext": "Mauritania<br>GNI Rank: 123<br>Happiness Rank: 104<br>Mismatch: 19",
         "line": {
          "color": "#1E88E5",
          "width": 2
         },
         "mode": "lines+markers",
         "name": "Mauritania",
         "type": "scatter",
         "visible": false,
         "x": [
          "GNI Rank",
          "Happiness Rank"
         ],
         "y": [
          123,
          104
         ]
        },
        {
         "hoverinfo": "text",
         "hovertext": "Togo<br>GNI Rank: 124<br>Happiness Rank: 118<br>Mismatch: 6",
         "line": {
          "color": "#1E88E5",
          "width": 2
         },
         "mode": "lines+markers",
         "name": "Togo",
         "type": "scatter",
         "visible": false,
         "x": [
          "GNI Rank",
          "Happiness Rank"
         ],
         "y": [
          124,
          118
         ]
        },
        {
         "hoverinfo": "text",
         "hovertext": "Sierra Leone<br>GNI Rank: 125<br>Happiness Rank: 110<br>Mismatch: 15",
         "line": {
          "color": "#1E88E5",
          "width": 2
         },
         "mode": "lines+markers",
         "name": "Sierra Leone",
         "type": "scatter",
         "visible": false,
         "x": [
          "GNI Rank",
          "Happiness Rank"
         ],
         "y": [
          125,
          110
         ]
        },
        {
         "hoverinfo": "text",
         "hovertext": "Montenegro<br>GNI Rank: 126<br>Happiness Rank: 66<br>Mismatch: 60",
         "line": {
          "color": "#D81B60",
          "width": 2
         },
         "mode": "lines+markers",
         "name": "Montenegro",
         "type": "scatter",
         "visible": false,
         "x": [
          "GNI Rank",
          "Happiness Rank"
         ],
         "y": [
          126,
          66
         ]
        },
        {
         "hoverinfo": "text",
         "hovertext": "Liberia<br>GNI Rank: 127<br>Happiness Rank: 120<br>Mismatch: 7",
         "line": {
          "color": "#1E88E5",
          "width": 2
         },
         "mode": "lines+markers",
         "name": "Liberia",
         "type": "scatter",
         "visible": false,
         "x": [
          "GNI Rank",
          "Happiness Rank"
         ],
         "y": [
          127,
          120
         ]
        },
        {
         "hoverinfo": "text",
         "hovertext": "Lesotho<br>GNI Rank: 128<br>Happiness Rank: 123<br>Mismatch: 5",
         "line": {
          "color": "#1E88E5",
          "width": 2
         },
         "mode": "lines+markers",
         "name": "Lesotho",
         "type": "scatter",
         "visible": false,
         "x": [
          "GNI Rank",
          "Happiness Rank"
         ],
         "y": [
          128,
          123
         ]
        },
        {
         "hoverinfo": "text",
         "hovertext": "Burundi<br>GNI Rank: 129<br>Happiness Rank: 124<br>Mismatch: 5",
         "line": {
          "color": "#1E88E5",
          "width": 2
         },
         "mode": "lines+markers",
         "name": "Burundi",
         "type": "scatter",
         "visible": false,
         "x": [
          "GNI Rank",
          "Happiness Rank"
         ],
         "y": [
          129,
          124
         ]
        },
        {
         "hoverinfo": "text",
         "hovertext": "Bhutan<br>GNI Rank: 130<br>Happiness Rank: 84<br>Mismatch: 46",
         "line": {
          "color": "#D81B60",
          "width": 2
         },
         "mode": "lines+markers",
         "name": "Bhutan",
         "type": "scatter",
         "visible": false,
         "x": [
          "GNI Rank",
          "Happiness Rank"
         ],
         "y": [
          130,
          84
         ]
        },
        {
         "hoverinfo": "text",
         "hovertext": "Central African Republic<br>GNI Rank: 131<br>Happiness Rank: 132<br>Mismatch: 1",
         "line": {
          "color": "#1E88E5",
          "width": 2
         },
         "mode": "lines+markers",
         "name": "Central African Republic",
         "type": "scatter",
         "visible": false,
         "x": [
          "GNI Rank",
          "Happiness Rank"
         ],
         "y": [
          131,
          132
         ]
        },
        {
         "hoverinfo": "text",
         "hovertext": "Comoros<br>GNI Rank: 132<br>Happiness Rank: 121<br>Mismatch: 11",
         "line": {
          "color": "#1E88E5",
          "width": 2
         },
         "mode": "lines+markers",
         "name": "Comoros",
         "type": "scatter",
         "visible": false,
         "x": [
          "GNI Rank",
          "Happiness Rank"
         ],
         "y": [
          132,
          121
         ]
        }
       ],
       "layout": {
        "annotations": [
         {
          "align": "left",
          "bgcolor": "#D81B60",
          "bordercolor": "black",
          "borderwidth": 1,
          "font": {
           "color": "white",
           "size": 12
          },
          "showarrow": false,
          "text": "Mismatch > 20:<br><b>33</b>",
          "x": 1.05,
          "xref": "paper",
          "y": 1.05,
          "yref": "paper"
         }
        ],
        "height": 800,
        "margin": {
         "b": 80,
         "l": 80,
         "r": 100,
         "t": 80
        },
        "showlegend": false,
        "sliders": [
         {
          "active": 0,
          "currentvalue": {
           "prefix": "Metric: "
          },
          "len": 0.9,
          "pad": {
           "t": 50
          },
          "steps": [
           {
            "args": [
             {
              "visible": [
               true,
               true,
               true,
               true,
               true,
               true,
               true,
               true,
               true,
               true,
               true,
               true,
               true,
               true,
               true,
               true,
               true,
               true,
               true,
               true,
               true,
               true,
               true,
               true,
               true,
               true,
               true,
               true,
               true,
               true,
               true,
               true,
               true,
               true,
               true,
               true,
               true,
               true,
               true,
               true,
               true,
               true,
               true,
               true,
               true,
               true,
               true,
               true,
               true,
               true,
               true,
               true,
               true,
               true,
               true,
               true,
               true,
               true,
               true,
               true,
               true,
               true,
               true,
               true,
               true,
               false,
               false,
               false,
               false,
               false,
               false,
               false,
               false,
               false,
               false,
               false,
               false,
               false,
               false,
               false,
               false,
               false,
               false,
               false,
               false,
               false,
               false,
               false,
               false,
               false,
               false,
               false,
               false,
               false,
               false,
               false,
               false,
               false,
               false,
               false,
               false,
               false,
               false,
               false,
               false,
               false,
               false,
               false,
               false,
               false,
               false,
               false,
               false,
               false,
               false,
               false,
               false,
               false,
               false,
               false,
               false,
               false,
               false,
               false,
               false,
               false,
               false,
               false,
               false,
               false,
               false,
               false,
               false,
               false,
               false,
               false,
               false,
               false,
               false,
               false,
               false,
               false,
               false,
               false,
               false,
               false,
               false,
               false,
               false,
               false,
               false,
               false,
               false,
               false,
               false,
               false,
               false,
               false,
               false,
               false,
               false,
               false,
               false,
               false,
               false,
               false,
               false,
               false,
               false,
               false,
               false,
               false,
               false,
               false,
               false,
               false,
               false,
               false,
               false,
               false,
               false,
               false,
               false,
               false,
               false,
               false,
               false,
               false,
               false,
               false,
               false,
               false,
               false,
               false,
               false,
               false,
               false,
               false,
               false,
               false,
               false,
               false,
               false,
               false,
               false,
               false,
               false,
               false,
               false,
               false,
               false,
               false,
               false,
               false,
               false,
               false,
               false,
               false,
               false,
               false,
               false,
               false,
               false,
               false,
               false,
               false,
               false,
               false,
               false,
               false,
               false,
               false,
               false,
               false,
               false,
               false,
               false,
               false,
               false,
               false,
               false,
               false,
               false,
               false,
               false,
               false,
               false,
               false,
               false,
               false,
               false,
               false,
               false,
               false,
               false,
               false,
               false,
               false,
               false,
               false,
               false,
               false,
               false,
               false,
               false,
               false,
               false,
               false,
               false,
               false,
               false,
               false,
               false,
               false,
               false,
               false,
               false,
               false,
               false,
               false,
               false,
               false,
               false,
               false,
               false,
               false,
               false,
               false,
               false,
               false,
               false,
               false,
               false,
               false,
               false,
               false,
               false,
               false,
               false,
               false,
               false,
               false,
               false,
               false,
               false,
               false,
               false,
               false,
               false,
               false,
               false,
               false,
               false,
               false,
               false,
               false,
               false,
               false,
               false,
               false,
               false,
               false,
               false,
               false,
               false,
               false,
               false,
               false,
               false
              ]
             },
             {
              "annotations": [
               {
                "align": "left",
                "bgcolor": "#D81B60",
                "bordercolor": "black",
                "borderwidth": 1,
                "font": {
                 "color": "white",
                 "size": 12
                },
                "showarrow": false,
                "text": "Mismatch > 20:<br><b>33</b>",
                "x": 1.05,
                "xref": "paper",
                "y": 1.05,
                "yref": "paper"
               }
              ],
              "title": "Gini Index vs Happiness Rankings",
              "xaxis": {
               "tickvals": [
                "Gini Index Rank",
                "Happiness Rank"
               ],
               "title": ""
              },
              "yaxis": {
               "autorange": "reversed",
               "title": "Rank (1 = Best)"
              }
             }
            ],
            "label": "Gini Index",
            "method": "update"
           },
           {
            "args": [
             {
              "visible": [
               false,
               false,
               false,
               false,
               false,
               false,
               false,
               false,
               false,
               false,
               false,
               false,
               false,
               false,
               false,
               false,
               false,
               false,
               false,
               false,
               false,
               false,
               false,
               false,
               false,
               false,
               false,
               false,
               false,
               false,
               false,
               false,
               false,
               false,
               false,
               false,
               false,
               false,
               false,
               false,
               false,
               false,
               false,
               false,
               false,
               false,
               false,
               false,
               false,
               false,
               false,
               false,
               false,
               false,
               false,
               false,
               false,
               false,
               false,
               false,
               false,
               false,
               false,
               false,
               false,
               true,
               true,
               true,
               true,
               true,
               true,
               true,
               true,
               true,
               true,
               true,
               true,
               true,
               true,
               true,
               true,
               true,
               true,
               true,
               true,
               true,
               true,
               true,
               true,
               true,
               true,
               true,
               true,
               true,
               true,
               true,
               true,
               true,
               true,
               true,
               true,
               true,
               true,
               true,
               true,
               true,
               true,
               true,
               true,
               true,
               true,
               true,
               true,
               true,
               true,
               true,
               true,
               true,
               true,
               true,
               true,
               true,
               true,
               true,
               true,
               true,
               true,
               true,
               true,
               true,
               true,
               true,
               true,
               true,
               true,
               true,
               true,
               true,
               true,
               true,
               true,
               true,
               true,
               true,
               true,
               true,
               true,
               true,
               true,
               true,
               true,
               true,
               true,
               true,
               true,
               true,
               true,
               true,
               true,
               true,
               true,
               true,
               true,
               true,
               true,
               true,
               true,
               true,
               true,
               true,
               true,
               true,
               true,
               true,
               true,
               true,
               true,
               true,
               true,
               true,
               true,
               true,
               true,
               true,
               true,
               true,
               true,
               true,
               true,
               true,
               true,
               true,
               true,
               true,
               true,
               true,
               true,
               false,
               false,
               false,
               false,
               false,
               false,
               false,
               false,
               false,
               false,
               false,
               false,
               false,
               false,
               false,
               false,
               false,
               false,
               false,
               false,
               false,
               false,
               false,
               false,
               false,
               false,
               false,
               false,
               false,
               false,
               false,
               false,
               false,
               false,
               false,
               false,
               false,
               false,
               false,
               false,
               false,
               false,
               false,
               false,
               false,
               false,
               false,
               false,
               false,
               false,
               false,
               false,
               false,
               false,
               false,
               false,
               false,
               false,
               false,
               false,
               false,
               false,
               false,
               false,
               false,
               false,
               false,
               false,
               false,
               false,
               false,
               false,
               false,
               false,
               false,
               false,
               false,
               false,
               false,
               false,
               false,
               false,
               false,
               false,
               false,
               false,
               false,
               false,
               false,
               false,
               false,
               false,
               false,
               false,
               false,
               false,
               false,
               false,
               false,
               false,
               false,
               false,
               false,
               false,
               false,
               false,
               false,
               false,
               false,
               false,
               false,
               false,
               false,
               false,
               false,
               false,
               false,
               false,
               false,
               false,
               false,
               false,
               false,
               false,
               false,
               false,
               false,
               false,
               false,
               false,
               false,
               false
              ]
             },
             {
              "annotations": [
               {
                "align": "left",
                "bgcolor": "#D81B60",
                "bordercolor": "black",
                "borderwidth": 1,
                "font": {
                 "color": "white",
                 "size": 12
                },
                "showarrow": false,
                "text": "Mismatch > 30:<br><b>48</b>",
                "x": 1.05,
                "xref": "paper",
                "y": 1.05,
                "yref": "paper"
               }
              ],
              "title": "GDP vs Happiness Rankings",
              "xaxis": {
               "tickvals": [
                "GDP Rank",
                "Happiness Rank"
               ],
               "title": ""
              },
              "yaxis": {
               "autorange": "reversed",
               "title": "Rank (1 = Best)"
              }
             }
            ],
            "label": "GDP",
            "method": "update"
           },
           {
            "args": [
             {
              "visible": [
               false,
               false,
               false,
               false,
               false,
               false,
               false,
               false,
               false,
               false,
               false,
               false,
               false,
               false,
               false,
               false,
               false,
               false,
               false,
               false,
               false,
               false,
               false,
               false,
               false,
               false,
               false,
               false,
               false,
               false,
               false,
               false,
               false,
               false,
               false,
               false,
               false,
               false,
               false,
               false,
               false,
               false,
               false,
               false,
               false,
               false,
               false,
               false,
               false,
               false,
               false,
               false,
               false,
               false,
               false,
               false,
               false,
               false,
               false,
               false,
               false,
               false,
               false,
               false,
               false,
               false,
               false,
               false,
               false,
               false,
               false,
               false,
               false,
               false,
               false,
               false,
               false,
               false,
               false,
               false,
               false,
               false,
               false,
               false,
               false,
               false,
               false,
               false,
               false,
               false,
               false,
               false,
               false,
               false,
               false,
               false,
               false,
               false,
               false,
               false,
               false,
               false,
               false,
               false,
               false,
               false,
               false,
               false,
               false,
               false,
               false,
               false,
               false,
               false,
               false,
               false,
               false,
               false,
               false,
               false,
               false,
               false,
               false,
               false,
               false,
               false,
               false,
               false,
               false,
               false,
               false,
               false,
               false,
               false,
               false,
               false,
               false,
               false,
               false,
               false,
               false,
               false,
               false,
               false,
               false,
               false,
               false,
               false,
               false,
               false,
               false,
               false,
               false,
               false,
               false,
               false,
               false,
               false,
               false,
               false,
               false,
               false,
               false,
               false,
               false,
               false,
               false,
               false,
               false,
               false,
               false,
               false,
               false,
               false,
               false,
               false,
               false,
               false,
               false,
               false,
               false,
               false,
               false,
               false,
               false,
               false,
               false,
               false,
               false,
               false,
               false,
               false,
               false,
               false,
               false,
               false,
               false,
               true,
               true,
               true,
               true,
               true,
               true,
               true,
               true,
               true,
               true,
               true,
               true,
               true,
               true,
               true,
               true,
               true,
               true,
               true,
               true,
               true,
               true,
               true,
               true,
               true,
               true,
               true,
               true,
               true,
               true,
               true,
               true,
               true,
               true,
               true,
               true,
               true,
               true,
               true,
               true,
               true,
               true,
               true,
               true,
               true,
               true,
               true,
               true,
               true,
               true,
               true,
               true,
               true,
               true,
               true,
               true,
               true,
               true,
               true,
               true,
               true,
               true,
               true,
               true,
               true,
               true,
               true,
               true,
               true,
               true,
               true,
               true,
               true,
               true,
               true,
               true,
               true,
               true,
               true,
               true,
               true,
               true,
               true,
               true,
               true,
               true,
               true,
               true,
               true,
               true,
               true,
               true,
               true,
               true,
               true,
               true,
               true,
               true,
               true,
               true,
               true,
               true,
               true,
               true,
               true,
               true,
               true,
               true,
               true,
               true,
               true,
               true,
               true,
               true,
               true,
               true,
               true,
               true,
               true,
               true,
               true,
               true,
               true,
               true,
               true,
               true,
               true,
               true,
               true,
               true,
               true,
               true
              ]
             },
             {
              "annotations": [
               {
                "align": "left",
                "bgcolor": "#D81B60",
                "bordercolor": "black",
                "borderwidth": 1,
                "font": {
                 "color": "white",
                 "size": 12
                },
                "showarrow": false,
                "text": "Mismatch > 30:<br><b>46</b>",
                "x": 1.05,
                "xref": "paper",
                "y": 1.05,
                "yref": "paper"
               }
              ],
              "title": "GNI vs Happiness Rankings",
              "xaxis": {
               "tickvals": [
                "GNI Rank",
                "Happiness Rank"
               ],
               "title": ""
              },
              "yaxis": {
               "autorange": "reversed",
               "title": "Rank (1 = Best)"
              }
             }
            ],
            "label": "GNI",
            "method": "update"
           }
          ],
          "x": 0.1,
          "xanchor": "left"
         }
        ],
        "template": {
         "data": {
          "bar": [
           {
            "error_x": {
             "color": "#2a3f5f"
            },
            "error_y": {
             "color": "#2a3f5f"
            },
            "marker": {
             "line": {
              "color": "#E5ECF6",
              "width": 0.5
             },
             "pattern": {
              "fillmode": "overlay",
              "size": 10,
              "solidity": 0.2
             }
            },
            "type": "bar"
           }
          ],
          "barpolar": [
           {
            "marker": {
             "line": {
              "color": "#E5ECF6",
              "width": 0.5
             },
             "pattern": {
              "fillmode": "overlay",
              "size": 10,
              "solidity": 0.2
             }
            },
            "type": "barpolar"
           }
          ],
          "carpet": [
           {
            "aaxis": {
             "endlinecolor": "#2a3f5f",
             "gridcolor": "white",
             "linecolor": "white",
             "minorgridcolor": "white",
             "startlinecolor": "#2a3f5f"
            },
            "baxis": {
             "endlinecolor": "#2a3f5f",
             "gridcolor": "white",
             "linecolor": "white",
             "minorgridcolor": "white",
             "startlinecolor": "#2a3f5f"
            },
            "type": "carpet"
           }
          ],
          "choropleth": [
           {
            "colorbar": {
             "outlinewidth": 0,
             "ticks": ""
            },
            "type": "choropleth"
           }
          ],
          "contour": [
           {
            "colorbar": {
             "outlinewidth": 0,
             "ticks": ""
            },
            "colorscale": [
             [
              0,
              "#0d0887"
             ],
             [
              0.1111111111111111,
              "#46039f"
             ],
             [
              0.2222222222222222,
              "#7201a8"
             ],
             [
              0.3333333333333333,
              "#9c179e"
             ],
             [
              0.4444444444444444,
              "#bd3786"
             ],
             [
              0.5555555555555556,
              "#d8576b"
             ],
             [
              0.6666666666666666,
              "#ed7953"
             ],
             [
              0.7777777777777778,
              "#fb9f3a"
             ],
             [
              0.8888888888888888,
              "#fdca26"
             ],
             [
              1,
              "#f0f921"
             ]
            ],
            "type": "contour"
           }
          ],
          "contourcarpet": [
           {
            "colorbar": {
             "outlinewidth": 0,
             "ticks": ""
            },
            "type": "contourcarpet"
           }
          ],
          "heatmap": [
           {
            "colorbar": {
             "outlinewidth": 0,
             "ticks": ""
            },
            "colorscale": [
             [
              0,
              "#0d0887"
             ],
             [
              0.1111111111111111,
              "#46039f"
             ],
             [
              0.2222222222222222,
              "#7201a8"
             ],
             [
              0.3333333333333333,
              "#9c179e"
             ],
             [
              0.4444444444444444,
              "#bd3786"
             ],
             [
              0.5555555555555556,
              "#d8576b"
             ],
             [
              0.6666666666666666,
              "#ed7953"
             ],
             [
              0.7777777777777778,
              "#fb9f3a"
             ],
             [
              0.8888888888888888,
              "#fdca26"
             ],
             [
              1,
              "#f0f921"
             ]
            ],
            "type": "heatmap"
           }
          ],
          "histogram": [
           {
            "marker": {
             "pattern": {
              "fillmode": "overlay",
              "size": 10,
              "solidity": 0.2
             }
            },
            "type": "histogram"
           }
          ],
          "histogram2d": [
           {
            "colorbar": {
             "outlinewidth": 0,
             "ticks": ""
            },
            "colorscale": [
             [
              0,
              "#0d0887"
             ],
             [
              0.1111111111111111,
              "#46039f"
             ],
             [
              0.2222222222222222,
              "#7201a8"
             ],
             [
              0.3333333333333333,
              "#9c179e"
             ],
             [
              0.4444444444444444,
              "#bd3786"
             ],
             [
              0.5555555555555556,
              "#d8576b"
             ],
             [
              0.6666666666666666,
              "#ed7953"
             ],
             [
              0.7777777777777778,
              "#fb9f3a"
             ],
             [
              0.8888888888888888,
              "#fdca26"
             ],
             [
              1,
              "#f0f921"
             ]
            ],
            "type": "histogram2d"
           }
          ],
          "histogram2dcontour": [
           {
            "colorbar": {
             "outlinewidth": 0,
             "ticks": ""
            },
            "colorscale": [
             [
              0,
              "#0d0887"
             ],
             [
              0.1111111111111111,
              "#46039f"
             ],
             [
              0.2222222222222222,
              "#7201a8"
             ],
             [
              0.3333333333333333,
              "#9c179e"
             ],
             [
              0.4444444444444444,
              "#bd3786"
             ],
             [
              0.5555555555555556,
              "#d8576b"
             ],
             [
              0.6666666666666666,
              "#ed7953"
             ],
             [
              0.7777777777777778,
              "#fb9f3a"
             ],
             [
              0.8888888888888888,
              "#fdca26"
             ],
             [
              1,
              "#f0f921"
             ]
            ],
            "type": "histogram2dcontour"
           }
          ],
          "mesh3d": [
           {
            "colorbar": {
             "outlinewidth": 0,
             "ticks": ""
            },
            "type": "mesh3d"
           }
          ],
          "parcoords": [
           {
            "line": {
             "colorbar": {
              "outlinewidth": 0,
              "ticks": ""
             }
            },
            "type": "parcoords"
           }
          ],
          "pie": [
           {
            "automargin": true,
            "type": "pie"
           }
          ],
          "scatter": [
           {
            "fillpattern": {
             "fillmode": "overlay",
             "size": 10,
             "solidity": 0.2
            },
            "type": "scatter"
           }
          ],
          "scatter3d": [
           {
            "line": {
             "colorbar": {
              "outlinewidth": 0,
              "ticks": ""
             }
            },
            "marker": {
             "colorbar": {
              "outlinewidth": 0,
              "ticks": ""
             }
            },
            "type": "scatter3d"
           }
          ],
          "scattercarpet": [
           {
            "marker": {
             "colorbar": {
              "outlinewidth": 0,
              "ticks": ""
             }
            },
            "type": "scattercarpet"
           }
          ],
          "scattergeo": [
           {
            "marker": {
             "colorbar": {
              "outlinewidth": 0,
              "ticks": ""
             }
            },
            "type": "scattergeo"
           }
          ],
          "scattergl": [
           {
            "marker": {
             "colorbar": {
              "outlinewidth": 0,
              "ticks": ""
             }
            },
            "type": "scattergl"
           }
          ],
          "scattermap": [
           {
            "marker": {
             "colorbar": {
              "outlinewidth": 0,
              "ticks": ""
             }
            },
            "type": "scattermap"
           }
          ],
          "scattermapbox": [
           {
            "marker": {
             "colorbar": {
              "outlinewidth": 0,
              "ticks": ""
             }
            },
            "type": "scattermapbox"
           }
          ],
          "scatterpolar": [
           {
            "marker": {
             "colorbar": {
              "outlinewidth": 0,
              "ticks": ""
             }
            },
            "type": "scatterpolar"
           }
          ],
          "scatterpolargl": [
           {
            "marker": {
             "colorbar": {
              "outlinewidth": 0,
              "ticks": ""
             }
            },
            "type": "scatterpolargl"
           }
          ],
          "scatterternary": [
           {
            "marker": {
             "colorbar": {
              "outlinewidth": 0,
              "ticks": ""
             }
            },
            "type": "scatterternary"
           }
          ],
          "surface": [
           {
            "colorbar": {
             "outlinewidth": 0,
             "ticks": ""
            },
            "colorscale": [
             [
              0,
              "#0d0887"
             ],
             [
              0.1111111111111111,
              "#46039f"
             ],
             [
              0.2222222222222222,
              "#7201a8"
             ],
             [
              0.3333333333333333,
              "#9c179e"
             ],
             [
              0.4444444444444444,
              "#bd3786"
             ],
             [
              0.5555555555555556,
              "#d8576b"
             ],
             [
              0.6666666666666666,
              "#ed7953"
             ],
             [
              0.7777777777777778,
              "#fb9f3a"
             ],
             [
              0.8888888888888888,
              "#fdca26"
             ],
             [
              1,
              "#f0f921"
             ]
            ],
            "type": "surface"
           }
          ],
          "table": [
           {
            "cells": {
             "fill": {
              "color": "#EBF0F8"
             },
             "line": {
              "color": "white"
             }
            },
            "header": {
             "fill": {
              "color": "#C8D4E3"
             },
             "line": {
              "color": "white"
             }
            },
            "type": "table"
           }
          ]
         },
         "layout": {
          "annotationdefaults": {
           "arrowcolor": "#2a3f5f",
           "arrowhead": 0,
           "arrowwidth": 1
          },
          "autotypenumbers": "strict",
          "coloraxis": {
           "colorbar": {
            "outlinewidth": 0,
            "ticks": ""
           }
          },
          "colorscale": {
           "diverging": [
            [
             0,
             "#8e0152"
            ],
            [
             0.1,
             "#c51b7d"
            ],
            [
             0.2,
             "#de77ae"
            ],
            [
             0.3,
             "#f1b6da"
            ],
            [
             0.4,
             "#fde0ef"
            ],
            [
             0.5,
             "#f7f7f7"
            ],
            [
             0.6,
             "#e6f5d0"
            ],
            [
             0.7,
             "#b8e186"
            ],
            [
             0.8,
             "#7fbc41"
            ],
            [
             0.9,
             "#4d9221"
            ],
            [
             1,
             "#276419"
            ]
           ],
           "sequential": [
            [
             0,
             "#0d0887"
            ],
            [
             0.1111111111111111,
             "#46039f"
            ],
            [
             0.2222222222222222,
             "#7201a8"
            ],
            [
             0.3333333333333333,
             "#9c179e"
            ],
            [
             0.4444444444444444,
             "#bd3786"
            ],
            [
             0.5555555555555556,
             "#d8576b"
            ],
            [
             0.6666666666666666,
             "#ed7953"
            ],
            [
             0.7777777777777778,
             "#fb9f3a"
            ],
            [
             0.8888888888888888,
             "#fdca26"
            ],
            [
             1,
             "#f0f921"
            ]
           ],
           "sequentialminus": [
            [
             0,
             "#0d0887"
            ],
            [
             0.1111111111111111,
             "#46039f"
            ],
            [
             0.2222222222222222,
             "#7201a8"
            ],
            [
             0.3333333333333333,
             "#9c179e"
            ],
            [
             0.4444444444444444,
             "#bd3786"
            ],
            [
             0.5555555555555556,
             "#d8576b"
            ],
            [
             0.6666666666666666,
             "#ed7953"
            ],
            [
             0.7777777777777778,
             "#fb9f3a"
            ],
            [
             0.8888888888888888,
             "#fdca26"
            ],
            [
             1,
             "#f0f921"
            ]
           ]
          },
          "colorway": [
           "#636efa",
           "#EF553B",
           "#00cc96",
           "#ab63fa",
           "#FFA15A",
           "#19d3f3",
           "#FF6692",
           "#B6E880",
           "#FF97FF",
           "#FECB52"
          ],
          "font": {
           "color": "#2a3f5f"
          },
          "geo": {
           "bgcolor": "white",
           "lakecolor": "white",
           "landcolor": "#E5ECF6",
           "showlakes": true,
           "showland": true,
           "subunitcolor": "white"
          },
          "hoverlabel": {
           "align": "left"
          },
          "hovermode": "closest",
          "mapbox": {
           "style": "light"
          },
          "paper_bgcolor": "white",
          "plot_bgcolor": "#E5ECF6",
          "polar": {
           "angularaxis": {
            "gridcolor": "white",
            "linecolor": "white",
            "ticks": ""
           },
           "bgcolor": "#E5ECF6",
           "radialaxis": {
            "gridcolor": "white",
            "linecolor": "white",
            "ticks": ""
           }
          },
          "scene": {
           "xaxis": {
            "backgroundcolor": "#E5ECF6",
            "gridcolor": "white",
            "gridwidth": 2,
            "linecolor": "white",
            "showbackground": true,
            "ticks": "",
            "zerolinecolor": "white"
           },
           "yaxis": {
            "backgroundcolor": "#E5ECF6",
            "gridcolor": "white",
            "gridwidth": 2,
            "linecolor": "white",
            "showbackground": true,
            "ticks": "",
            "zerolinecolor": "white"
           },
           "zaxis": {
            "backgroundcolor": "#E5ECF6",
            "gridcolor": "white",
            "gridwidth": 2,
            "linecolor": "white",
            "showbackground": true,
            "ticks": "",
            "zerolinecolor": "white"
           }
          },
          "shapedefaults": {
           "line": {
            "color": "#2a3f5f"
           }
          },
          "ternary": {
           "aaxis": {
            "gridcolor": "white",
            "linecolor": "white",
            "ticks": ""
           },
           "baxis": {
            "gridcolor": "white",
            "linecolor": "white",
            "ticks": ""
           },
           "bgcolor": "#E5ECF6",
           "caxis": {
            "gridcolor": "white",
            "linecolor": "white",
            "ticks": ""
           }
          },
          "title": {
           "x": 0.05
          },
          "xaxis": {
           "automargin": true,
           "gridcolor": "white",
           "linecolor": "white",
           "ticks": "",
           "title": {
            "standoff": 15
           },
           "zerolinecolor": "white",
           "zerolinewidth": 2
          },
          "yaxis": {
           "automargin": true,
           "gridcolor": "white",
           "linecolor": "white",
           "ticks": "",
           "title": {
            "standoff": 15
           },
           "zerolinecolor": "white",
           "zerolinewidth": 2
          }
         }
        },
        "title": {
         "text": "Gini Index vs Happiness Rankings"
        },
        "width": 950,
        "xaxis": {
         "tickvals": [
          "Gini Index Rank",
          "Happiness Rank"
         ],
         "title": {
          "text": ""
         }
        },
        "yaxis": {
         "autorange": "reversed"
        }
       }
      },
      "text/html": [
       "<div>            <script src=\"https://cdnjs.cloudflare.com/ajax/libs/mathjax/2.7.5/MathJax.js?config=TeX-AMS-MML_SVG\"></script><script type=\"text/javascript\">if (window.MathJax && window.MathJax.Hub && window.MathJax.Hub.Config) {window.MathJax.Hub.Config({SVG: {font: \"STIX-Web\"}});}</script>                <script type=\"text/javascript\">window.PlotlyConfig = {MathJaxConfig: 'local'};</script>\n",
       "        <script charset=\"utf-8\" src=\"https://cdn.plot.ly/plotly-3.0.1.min.js\"></script>                <div id=\"5190aa34-b33a-4190-b985-0649b5ea7cf1\" class=\"plotly-graph-div\" style=\"height:800px; width:950px;\"></div>            <script type=\"text/javascript\">                window.PLOTLYENV=window.PLOTLYENV || {};                                if (document.getElementById(\"5190aa34-b33a-4190-b985-0649b5ea7cf1\")) {                    Plotly.newPlot(                        \"5190aa34-b33a-4190-b985-0649b5ea7cf1\",                        [{\"hoverinfo\":\"text\",\"hovertext\":\"Slovenia\\u003cbr\\u003eGini Index Rank: 1\\u003cbr\\u003eHappiness Rank: 28\\u003cbr\\u003eMismatch: 27\",\"line\":{\"color\":\"#D81B60\",\"width\":2},\"mode\":\"lines+markers\",\"name\":\"Slovenia\",\"x\":[\"Gini Index Rank\",\"Happiness Rank\"],\"y\":[1,28],\"type\":\"scatter\"},{\"hoverinfo\":\"text\",\"hovertext\":\"Belarus\\u003cbr\\u003eGini Index Rank: 2\\u003cbr\\u003eHappiness Rank: 50\\u003cbr\\u003eMismatch: 48\",\"line\":{\"color\":\"#D81B60\",\"width\":2},\"mode\":\"lines+markers\",\"name\":\"Belarus\",\"x\":[\"Gini Index Rank\",\"Happiness Rank\"],\"y\":[2,50],\"type\":\"scatter\"},{\"hoverinfo\":\"text\",\"hovertext\":\"Moldova\\u003cbr\\u003eGini Index Rank: 3\\u003cbr\\u003eHappiness Rank: 46\\u003cbr\\u003eMismatch: 43\",\"line\":{\"color\":\"#D81B60\",\"width\":2},\"mode\":\"lines+markers\",\"name\":\"Moldova\",\"x\":[\"Gini Index Rank\",\"Happiness Rank\"],\"y\":[3,46],\"type\":\"scatter\"},{\"hoverinfo\":\"text\",\"hovertext\":\"Ukraine\\u003cbr\\u003eGini Index Rank: 4\\u003cbr\\u003eHappiness Rank: 62\\u003cbr\\u003eMismatch: 58\",\"line\":{\"color\":\"#D81B60\",\"width\":2},\"mode\":\"lines+markers\",\"name\":\"Ukraine\",\"x\":[\"Gini Index Rank\",\"Happiness Rank\"],\"y\":[4,62],\"type\":\"scatter\"},{\"hoverinfo\":\"text\",\"hovertext\":\"Belgium\\u003cbr\\u003eGini Index Rank: 5\\u003cbr\\u003eHappiness Rank: 15\\u003cbr\\u003eMismatch: 10\",\"line\":{\"color\":\"#1E88E5\",\"width\":2},\"mode\":\"lines+markers\",\"name\":\"Belgium\",\"x\":[\"Gini Index Rank\",\"Happiness Rank\"],\"y\":[5,15],\"type\":\"scatter\"},{\"hoverinfo\":\"text\",\"hovertext\":\"Denmark\\u003cbr\\u003eGini Index Rank: 6\\u003cbr\\u003eHappiness Rank: 2\\u003cbr\\u003eMismatch: 4\",\"line\":{\"color\":\"#1E88E5\",\"width\":2},\"mode\":\"lines+markers\",\"name\":\"Denmark\",\"x\":[\"Gini Index Rank\",\"Happiness Rank\"],\"y\":[6,2],\"type\":\"scatter\"},{\"hoverinfo\":\"text\",\"hovertext\":\"Finland\\u003cbr\\u003eGini Index Rank: 7\\u003cbr\\u003eHappiness Rank: 1\\u003cbr\\u003eMismatch: 6\",\"line\":{\"color\":\"#1E88E5\",\"width\":2},\"mode\":\"lines+markers\",\"name\":\"Finland\",\"x\":[\"Gini Index Rank\",\"Happiness Rank\"],\"y\":[7,1],\"type\":\"scatter\"},{\"hoverinfo\":\"text\",\"hovertext\":\"Norway\\u003cbr\\u003eGini Index Rank: 8\\u003cbr\\u003eHappiness Rank: 3\\u003cbr\\u003eMismatch: 5\",\"line\":{\"color\":\"#1E88E5\",\"width\":2},\"mode\":\"lines+markers\",\"name\":\"Norway\",\"x\":[\"Gini Index Rank\",\"Happiness Rank\"],\"y\":[8,3],\"type\":\"scatter\"},{\"hoverinfo\":\"text\",\"hovertext\":\"Kazakhstan\\u003cbr\\u003eGini Index Rank: 9\\u003cbr\\u003eHappiness Rank: 39\\u003cbr\\u003eMismatch: 30\",\"line\":{\"color\":\"#D81B60\",\"width\":2},\"mode\":\"lines+markers\",\"name\":\"Kazakhstan\",\"x\":[\"Gini Index Rank\",\"Happiness Rank\"],\"y\":[9,39],\"type\":\"scatter\"},{\"hoverinfo\":\"text\",\"hovertext\":\"Poland\\u003cbr\\u003eGini Index Rank: 10\\u003cbr\\u003eHappiness Rank: 25\\u003cbr\\u003eMismatch: 15\",\"line\":{\"color\":\"#1E88E5\",\"width\":2},\"mode\":\"lines+markers\",\"name\":\"Poland\",\"x\":[\"Gini Index Rank\",\"Happiness Rank\"],\"y\":[10,25],\"type\":\"scatter\"},{\"hoverinfo\":\"text\",\"hovertext\":\"Croatia\\u003cbr\\u003eGini Index Rank: 11\\u003cbr\\u003eHappiness Rank: 48\\u003cbr\\u003eMismatch: 37\",\"line\":{\"color\":\"#D81B60\",\"width\":2},\"mode\":\"lines+markers\",\"name\":\"Croatia\",\"x\":[\"Gini Index Rank\",\"Happiness Rank\"],\"y\":[11,48],\"type\":\"scatter\"},{\"hoverinfo\":\"text\",\"hovertext\":\"Netherlands\\u003cbr\\u003eGini Index Rank: 12\\u003cbr\\u003eHappiness Rank: 4\\u003cbr\\u003eMismatch: 8\",\"line\":{\"color\":\"#1E88E5\",\"width\":2},\"mode\":\"lines+markers\",\"name\":\"Netherlands\",\"x\":[\"Gini Index Rank\",\"Happiness Rank\"],\"y\":[12,4],\"type\":\"scatter\"},{\"hoverinfo\":\"text\",\"hovertext\":\"Sweden\\u003cbr\\u003eGini Index Rank: 13\\u003cbr\\u003eHappiness Rank: 6\\u003cbr\\u003eMismatch: 7\",\"line\":{\"color\":\"#1E88E5\",\"width\":2},\"mode\":\"lines+markers\",\"name\":\"Sweden\",\"x\":[\"Gini Index Rank\",\"Happiness Rank\"],\"y\":[13,6],\"type\":\"scatter\"},{\"hoverinfo\":\"text\",\"hovertext\":\"Armenia\\u003cbr\\u003eGini Index Rank: 14\\u003cbr\\u003eHappiness Rank: 57\\u003cbr\\u003eMismatch: 43\",\"line\":{\"color\":\"#D81B60\",\"width\":2},\"mode\":\"lines+markers\",\"name\":\"Armenia\",\"x\":[\"Gini Index Rank\",\"Happiness Rank\"],\"y\":[14,57],\"type\":\"scatter\"},{\"hoverinfo\":\"text\",\"hovertext\":\"Hungary\\u003cbr\\u003eGini Index Rank: 15\\u003cbr\\u003eHappiness Rank: 41\\u003cbr\\u003eMismatch: 26\",\"line\":{\"color\":\"#D81B60\",\"width\":2},\"mode\":\"lines+markers\",\"name\":\"Hungary\",\"x\":[\"Gini Index Rank\",\"Happiness Rank\"],\"y\":[15,41],\"type\":\"scatter\"},{\"hoverinfo\":\"text\",\"hovertext\":\"Albania\\u003cbr\\u003eGini Index Rank: 16\\u003cbr\\u003eHappiness Rank: 56\\u003cbr\\u003eMismatch: 40\",\"line\":{\"color\":\"#D81B60\",\"width\":2},\"mode\":\"lines+markers\",\"name\":\"Albania\",\"x\":[\"Gini Index Rank\",\"Happiness Rank\"],\"y\":[16,56],\"type\":\"scatter\"},{\"hoverinfo\":\"text\",\"hovertext\":\"Austria\\u003cbr\\u003eGini Index Rank: 17\\u003cbr\\u003eHappiness Rank: 8\\u003cbr\\u003eMismatch: 9\",\"line\":{\"color\":\"#1E88E5\",\"width\":2},\"mode\":\"lines+markers\",\"name\":\"Austria\",\"x\":[\"Gini Index Rank\",\"Happiness Rank\"],\"y\":[17,8],\"type\":\"scatter\"},{\"hoverinfo\":\"text\",\"hovertext\":\"Ireland\\u003cbr\\u003eGini Index Rank: 18\\u003cbr\\u003eHappiness Rank: 13\\u003cbr\\u003eMismatch: 5\",\"line\":{\"color\":\"#1E88E5\",\"width\":2},\"mode\":\"lines+markers\",\"name\":\"Ireland\",\"x\":[\"Gini Index Rank\",\"Happiness Rank\"],\"y\":[18,13],\"type\":\"scatter\"},{\"hoverinfo\":\"text\",\"hovertext\":\"Estonia\\u003cbr\\u003eGini Index Rank: 19\\u003cbr\\u003eHappiness Rank: 36\\u003cbr\\u003eMismatch: 17\",\"line\":{\"color\":\"#D81B60\",\"width\":2},\"mode\":\"lines+markers\",\"name\":\"Estonia\",\"x\":[\"Gini Index Rank\",\"Happiness Rank\"],\"y\":[19,36],\"type\":\"scatter\"},{\"hoverinfo\":\"text\",\"hovertext\":\"Malta\\u003cbr\\u003eGini Index Rank: 20\\u003cbr\\u003eHappiness Rank: 17\\u003cbr\\u003eMismatch: 3\",\"line\":{\"color\":\"#1E88E5\",\"width\":2},\"mode\":\"lines+markers\",\"name\":\"Malta\",\"x\":[\"Gini Index Rank\",\"Happiness Rank\"],\"y\":[20,17],\"type\":\"scatter\"},{\"hoverinfo\":\"text\",\"hovertext\":\"Cyprus\\u003cbr\\u003eGini Index Rank: 21\\u003cbr\\u003eHappiness Rank: 32\\u003cbr\\u003eMismatch: 11\",\"line\":{\"color\":\"#1E88E5\",\"width\":2},\"mode\":\"lines+markers\",\"name\":\"Cyprus\",\"x\":[\"Gini Index Rank\",\"Happiness Rank\"],\"y\":[21,32],\"type\":\"scatter\"},{\"hoverinfo\":\"text\",\"hovertext\":\"France\\u003cbr\\u003eGini Index Rank: 22\\u003cbr\\u003eHappiness Rank: 18\\u003cbr\\u003eMismatch: 4\",\"line\":{\"color\":\"#1E88E5\",\"width\":2},\"mode\":\"lines+markers\",\"name\":\"France\",\"x\":[\"Gini Index Rank\",\"Happiness Rank\"],\"y\":[22,18],\"type\":\"scatter\"},{\"hoverinfo\":\"text\",\"hovertext\":\"Canada\\u003cbr\\u003eGini Index Rank: 23\\u003cbr\\u003eHappiness Rank: 7\\u003cbr\\u003eMismatch: 16\",\"line\":{\"color\":\"#D81B60\",\"width\":2},\"mode\":\"lines+markers\",\"name\":\"Canada\",\"x\":[\"Gini Index Rank\",\"Happiness Rank\"],\"y\":[23,7],\"type\":\"scatter\"},{\"hoverinfo\":\"text\",\"hovertext\":\"Germany\\u003cbr\\u003eGini Index Rank: 24\\u003cbr\\u003eHappiness Rank: 14\\u003cbr\\u003eMismatch: 10\",\"line\":{\"color\":\"#1E88E5\",\"width\":2},\"mode\":\"lines+markers\",\"name\":\"Germany\",\"x\":[\"Gini Index Rank\",\"Happiness Rank\"],\"y\":[24,14],\"type\":\"scatter\"},{\"hoverinfo\":\"text\",\"hovertext\":\"Mauritania\\u003cbr\\u003eGini Index Rank: 25\\u003cbr\\u003eHappiness Rank: 59\\u003cbr\\u003eMismatch: 34\",\"line\":{\"color\":\"#D81B60\",\"width\":2},\"mode\":\"lines+markers\",\"name\":\"Mauritania\",\"x\":[\"Gini Index Rank\",\"Happiness Rank\"],\"y\":[25,59],\"type\":\"scatter\"},{\"hoverinfo\":\"text\",\"hovertext\":\"Portugal\\u003cbr\\u003eGini Index Rank: 26\\u003cbr\\u003eHappiness Rank: 44\\u003cbr\\u003eMismatch: 18\",\"line\":{\"color\":\"#D81B60\",\"width\":2},\"mode\":\"lines+markers\",\"name\":\"Portugal\",\"x\":[\"Gini Index Rank\",\"Happiness Rank\"],\"y\":[26,44],\"type\":\"scatter\"},{\"hoverinfo\":\"text\",\"hovertext\":\"United Kingdom\\u003cbr\\u003eGini Index Rank: 27\\u003cbr\\u003eHappiness Rank: 12\\u003cbr\\u003eMismatch: 15\",\"line\":{\"color\":\"#1E88E5\",\"width\":2},\"mode\":\"lines+markers\",\"name\":\"United Kingdom\",\"x\":[\"Gini Index Rank\",\"Happiness Rank\"],\"y\":[27,12],\"type\":\"scatter\"},{\"hoverinfo\":\"text\",\"hovertext\":\"Japan\\u003cbr\\u003eGini Index Rank: 28\\u003cbr\\u003eHappiness Rank: 37\\u003cbr\\u003eMismatch: 9\",\"line\":{\"color\":\"#1E88E5\",\"width\":2},\"mode\":\"lines+markers\",\"name\":\"Japan\",\"x\":[\"Gini Index Rank\",\"Happiness Rank\"],\"y\":[28,37],\"type\":\"scatter\"},{\"hoverinfo\":\"text\",\"hovertext\":\"Greece\\u003cbr\\u003eGini Index Rank: 29\\u003cbr\\u003eHappiness Rank: 51\\u003cbr\\u003eMismatch: 22\",\"line\":{\"color\":\"#D81B60\",\"width\":2},\"mode\":\"lines+markers\",\"name\":\"Greece\",\"x\":[\"Gini Index Rank\",\"Happiness Rank\"],\"y\":[29,51],\"type\":\"scatter\"},{\"hoverinfo\":\"text\",\"hovertext\":\"North Macedonia\\u003cbr\\u003eGini Index Rank: 30\\u003cbr\\u003eHappiness Rank: 52\\u003cbr\\u003eMismatch: 22\",\"line\":{\"color\":\"#D81B60\",\"width\":2},\"mode\":\"lines+markers\",\"name\":\"North Macedonia\",\"x\":[\"Gini Index Rank\",\"Happiness Rank\"],\"y\":[30,52],\"type\":\"scatter\"},{\"hoverinfo\":\"text\",\"hovertext\":\"Switzerland\\u003cbr\\u003eGini Index Rank: 31\\u003cbr\\u003eHappiness Rank: 5\\u003cbr\\u003eMismatch: 26\",\"line\":{\"color\":\"#D81B60\",\"width\":2},\"mode\":\"lines+markers\",\"name\":\"Switzerland\",\"x\":[\"Gini Index Rank\",\"Happiness Rank\"],\"y\":[31,5],\"type\":\"scatter\"},{\"hoverinfo\":\"text\",\"hovertext\":\"Luxembourg\\u003cbr\\u003eGini Index Rank: 32\\u003cbr\\u003eHappiness Rank: 11\\u003cbr\\u003eMismatch: 21\",\"line\":{\"color\":\"#D81B60\",\"width\":2},\"mode\":\"lines+markers\",\"name\":\"Luxembourg\",\"x\":[\"Gini Index Rank\",\"Happiness Rank\"],\"y\":[32,11],\"type\":\"scatter\"},{\"hoverinfo\":\"text\",\"hovertext\":\"Spain\\u003cbr\\u003eGini Index Rank: 33\\u003cbr\\u003eHappiness Rank: 19\\u003cbr\\u003eMismatch: 14\",\"line\":{\"color\":\"#1E88E5\",\"width\":2},\"mode\":\"lines+markers\",\"name\":\"Spain\",\"x\":[\"Gini Index Rank\",\"Happiness Rank\"],\"y\":[33,19],\"type\":\"scatter\"},{\"hoverinfo\":\"text\",\"hovertext\":\"Latvia\\u003cbr\\u003eGini Index Rank: 34\\u003cbr\\u003eHappiness Rank: 35\\u003cbr\\u003eMismatch: 1\",\"line\":{\"color\":\"#1E88E5\",\"width\":2},\"mode\":\"lines+markers\",\"name\":\"Latvia\",\"x\":[\"Gini Index Rank\",\"Happiness Rank\"],\"y\":[34,35],\"type\":\"scatter\"},{\"hoverinfo\":\"text\",\"hovertext\":\"Serbia\\u003cbr\\u003eGini Index Rank: 35\\u003cbr\\u003eHappiness Rank: 45\\u003cbr\\u003eMismatch: 10\",\"line\":{\"color\":\"#1E88E5\",\"width\":2},\"mode\":\"lines+markers\",\"name\":\"Serbia\",\"x\":[\"Gini Index Rank\",\"Happiness Rank\"],\"y\":[35,45],\"type\":\"scatter\"},{\"hoverinfo\":\"text\",\"hovertext\":\"Italy\\u003cbr\\u003eGini Index Rank: 36\\u003cbr\\u003eHappiness Rank: 24\\u003cbr\\u003eMismatch: 12\",\"line\":{\"color\":\"#1E88E5\",\"width\":2},\"mode\":\"lines+markers\",\"name\":\"Italy\",\"x\":[\"Gini Index Rank\",\"Happiness Rank\"],\"y\":[36,24],\"type\":\"scatter\"},{\"hoverinfo\":\"text\",\"hovertext\":\"Romania\\u003cbr\\u003eGini Index Rank: 37\\u003cbr\\u003eHappiness Rank: 31\\u003cbr\\u003eMismatch: 6\",\"line\":{\"color\":\"#1E88E5\",\"width\":2},\"mode\":\"lines+markers\",\"name\":\"Romania\",\"x\":[\"Gini Index Rank\",\"Happiness Rank\"],\"y\":[37,31],\"type\":\"scatter\"},{\"hoverinfo\":\"text\",\"hovertext\":\"Thailand\\u003cbr\\u003eGini Index Rank: 38\\u003cbr\\u003eHappiness Rank: 34\\u003cbr\\u003eMismatch: 4\",\"line\":{\"color\":\"#1E88E5\",\"width\":2},\"mode\":\"lines+markers\",\"name\":\"Thailand\",\"x\":[\"Gini Index Rank\",\"Happiness Rank\"],\"y\":[38,34],\"type\":\"scatter\"},{\"hoverinfo\":\"text\",\"hovertext\":\"Lithuania\\u003cbr\\u003eGini Index Rank: 39\\u003cbr\\u003eHappiness Rank: 26\\u003cbr\\u003eMismatch: 13\",\"line\":{\"color\":\"#1E88E5\",\"width\":2},\"mode\":\"lines+markers\",\"name\":\"Lithuania\",\"x\":[\"Gini Index Rank\",\"Happiness Rank\"],\"y\":[39,26],\"type\":\"scatter\"},{\"hoverinfo\":\"text\",\"hovertext\":\"Indonesia\\u003cbr\\u003eGini Index Rank: 40\\u003cbr\\u003eHappiness Rank: 53\\u003cbr\\u003eMismatch: 13\",\"line\":{\"color\":\"#1E88E5\",\"width\":2},\"mode\":\"lines+markers\",\"name\":\"Indonesia\",\"x\":[\"Gini Index Rank\",\"Happiness Rank\"],\"y\":[40,53],\"type\":\"scatter\"},{\"hoverinfo\":\"text\",\"hovertext\":\"Montenegro\\u003cbr\\u003eGini Index Rank: 41\\u003cbr\\u003eHappiness Rank: 47\\u003cbr\\u003eMismatch: 6\",\"line\":{\"color\":\"#1E88E5\",\"width\":2},\"mode\":\"lines+markers\",\"name\":\"Montenegro\",\"x\":[\"Gini Index Rank\",\"Happiness Rank\"],\"y\":[41,47],\"type\":\"scatter\"},{\"hoverinfo\":\"text\",\"hovertext\":\"Georgia\\u003cbr\\u003eGini Index Rank: 42\\u003cbr\\u003eHappiness Rank: 58\\u003cbr\\u003eMismatch: 16\",\"line\":{\"color\":\"#D81B60\",\"width\":2},\"mode\":\"lines+markers\",\"name\":\"Georgia\",\"x\":[\"Gini Index Rank\",\"Happiness Rank\"],\"y\":[42,58],\"type\":\"scatter\"},{\"hoverinfo\":\"text\",\"hovertext\":\"Sri Lanka\\u003cbr\\u003eGini Index Rank: 43\\u003cbr\\u003eHappiness Rank: 61\\u003cbr\\u003eMismatch: 18\",\"line\":{\"color\":\"#D81B60\",\"width\":2},\"mode\":\"lines+markers\",\"name\":\"Sri Lanka\",\"x\":[\"Gini Index Rank\",\"Happiness Rank\"],\"y\":[43,61],\"type\":\"scatter\"},{\"hoverinfo\":\"text\",\"hovertext\":\"China\\u003cbr\\u003eGini Index Rank: 44\\u003cbr\\u003eHappiness Rank: 54\\u003cbr\\u003eMismatch: 10\",\"line\":{\"color\":\"#1E88E5\",\"width\":2},\"mode\":\"lines+markers\",\"name\":\"China\",\"x\":[\"Gini Index Rank\",\"Happiness Rank\"],\"y\":[44,54],\"type\":\"scatter\"},{\"hoverinfo\":\"text\",\"hovertext\":\"Israel\\u003cbr\\u003eGini Index Rank: 45\\u003cbr\\u003eHappiness Rank: 10\\u003cbr\\u003eMismatch: 35\",\"line\":{\"color\":\"#D81B60\",\"width\":2},\"mode\":\"lines+markers\",\"name\":\"Israel\",\"x\":[\"Gini Index Rank\",\"Happiness Rank\"],\"y\":[45,10],\"type\":\"scatter\"},{\"hoverinfo\":\"text\",\"hovertext\":\"Malawi\\u003cbr\\u003eGini Index Rank: 46\\u003cbr\\u003eHappiness Rank: 65\\u003cbr\\u003eMismatch: 19\",\"line\":{\"color\":\"#D81B60\",\"width\":2},\"mode\":\"lines+markers\",\"name\":\"Malawi\",\"x\":[\"Gini Index Rank\",\"Happiness Rank\"],\"y\":[46,65],\"type\":\"scatter\"},{\"hoverinfo\":\"text\",\"hovertext\":\"El Salvador\\u003cbr\\u003eGini Index Rank: 47\\u003cbr\\u003eHappiness Rank: 23\\u003cbr\\u003eMismatch: 24\",\"line\":{\"color\":\"#D81B60\",\"width\":2},\"mode\":\"lines+markers\",\"name\":\"El Salvador\",\"x\":[\"Gini Index Rank\",\"Happiness Rank\"],\"y\":[47,23],\"type\":\"scatter\"},{\"hoverinfo\":\"text\",\"hovertext\":\"Uruguay\\u003cbr\\u003eGini Index Rank: 48\\u003cbr\\u003eHappiness Rank: 22\\u003cbr\\u003eMismatch: 26\",\"line\":{\"color\":\"#D81B60\",\"width\":2},\"mode\":\"lines+markers\",\"name\":\"Uruguay\",\"x\":[\"Gini Index Rank\",\"Happiness Rank\"],\"y\":[48,22],\"type\":\"scatter\"},{\"hoverinfo\":\"text\",\"hovertext\":\"Kosovo\\u003cbr\\u003eGini Index Rank: 49\\u003cbr\\u003eHappiness Rank: 29\\u003cbr\\u003eMismatch: 20\",\"line\":{\"color\":\"#D81B60\",\"width\":2},\"mode\":\"lines+markers\",\"name\":\"Kosovo\",\"x\":[\"Gini Index Rank\",\"Happiness Rank\"],\"y\":[49,29],\"type\":\"scatter\"},{\"hoverinfo\":\"text\",\"hovertext\":\"Bulgaria\\u003cbr\\u003eGini Index Rank: 50\\u003cbr\\u003eHappiness Rank: 55\\u003cbr\\u003eMismatch: 5\",\"line\":{\"color\":\"#1E88E5\",\"width\":2},\"mode\":\"lines+markers\",\"name\":\"Bulgaria\",\"x\":[\"Gini Index Rank\",\"Happiness Rank\"],\"y\":[50,55],\"type\":\"scatter\"},{\"hoverinfo\":\"text\",\"hovertext\":\"Peru\\u003cbr\\u003eGini Index Rank: 51\\u003cbr\\u003eHappiness Rank: 43\\u003cbr\\u003eMismatch: 8\",\"line\":{\"color\":\"#1E88E5\",\"width\":2},\"mode\":\"lines+markers\",\"name\":\"Peru\",\"x\":[\"Gini Index Rank\",\"Happiness Rank\"],\"y\":[51,43],\"type\":\"scatter\"},{\"hoverinfo\":\"text\",\"hovertext\":\"Bolivia\\u003cbr\\u003eGini Index Rank: 52\\u003cbr\\u003eHappiness Rank: 40\\u003cbr\\u003eMismatch: 12\",\"line\":{\"color\":\"#1E88E5\",\"width\":2},\"mode\":\"lines+markers\",\"name\":\"Bolivia\",\"x\":[\"Gini Index Rank\",\"Happiness Rank\"],\"y\":[52,40],\"type\":\"scatter\"},{\"hoverinfo\":\"text\",\"hovertext\":\"Dominican Republic\\u003cbr\\u003eGini Index Rank: 53\\u003cbr\\u003eHappiness Rank: 49\\u003cbr\\u003eMismatch: 4\",\"line\":{\"color\":\"#1E88E5\",\"width\":2},\"mode\":\"lines+markers\",\"name\":\"Dominican Republic\",\"x\":[\"Gini Index Rank\",\"Happiness Rank\"],\"y\":[53,49],\"type\":\"scatter\"},{\"hoverinfo\":\"text\",\"hovertext\":\"United States\\u003cbr\\u003eGini Index Rank: 54\\u003cbr\\u003eHappiness Rank: 16\\u003cbr\\u003eMismatch: 38\",\"line\":{\"color\":\"#D81B60\",\"width\":2},\"mode\":\"lines+markers\",\"name\":\"United States\",\"x\":[\"Gini Index Rank\",\"Happiness Rank\"],\"y\":[54,16],\"type\":\"scatter\"},{\"hoverinfo\":\"text\",\"hovertext\":\"Uganda\\u003cbr\\u003eGini Index Rank: 55\\u003cbr\\u003eHappiness Rank: 63\\u003cbr\\u003eMismatch: 8\",\"line\":{\"color\":\"#1E88E5\",\"width\":2},\"mode\":\"lines+markers\",\"name\":\"Uganda\",\"x\":[\"Gini Index Rank\",\"Happiness Rank\"],\"y\":[55,63],\"type\":\"scatter\"},{\"hoverinfo\":\"text\",\"hovertext\":\"Argentina\\u003cbr\\u003eGini Index Rank: 56\\u003cbr\\u003eHappiness Rank: 30\\u003cbr\\u003eMismatch: 26\",\"line\":{\"color\":\"#D81B60\",\"width\":2},\"mode\":\"lines+markers\",\"name\":\"Argentina\",\"x\":[\"Gini Index Rank\",\"Happiness Rank\"],\"y\":[56,30],\"type\":\"scatter\"},{\"hoverinfo\":\"text\",\"hovertext\":\"Ecuador\\u003cbr\\u003eGini Index Rank: 57\\u003cbr\\u003eHappiness Rank: 33\\u003cbr\\u003eMismatch: 24\",\"line\":{\"color\":\"#D81B60\",\"width\":2},\"mode\":\"lines+markers\",\"name\":\"Ecuador\",\"x\":[\"Gini Index Rank\",\"Happiness Rank\"],\"y\":[57,33],\"type\":\"scatter\"},{\"hoverinfo\":\"text\",\"hovertext\":\"Paraguay\\u003cbr\\u003eGini Index Rank: 58\\u003cbr\\u003eHappiness Rank: 42\\u003cbr\\u003eMismatch: 16\",\"line\":{\"color\":\"#D81B60\",\"width\":2},\"mode\":\"lines+markers\",\"name\":\"Paraguay\",\"x\":[\"Gini Index Rank\",\"Happiness Rank\"],\"y\":[58,42],\"type\":\"scatter\"},{\"hoverinfo\":\"text\",\"hovertext\":\"Costa Rica\\u003cbr\\u003eGini Index Rank: 59\\u003cbr\\u003eHappiness Rank: 9\\u003cbr\\u003eMismatch: 50\",\"line\":{\"color\":\"#D81B60\",\"width\":2},\"mode\":\"lines+markers\",\"name\":\"Costa Rica\",\"x\":[\"Gini Index Rank\",\"Happiness Rank\"],\"y\":[59,9],\"type\":\"scatter\"},{\"hoverinfo\":\"text\",\"hovertext\":\"Honduras\\u003cbr\\u003eGini Index Rank: 60\\u003cbr\\u003eHappiness Rank: 38\\u003cbr\\u003eMismatch: 22\",\"line\":{\"color\":\"#D81B60\",\"width\":2},\"mode\":\"lines+markers\",\"name\":\"Honduras\",\"x\":[\"Gini Index Rank\",\"Happiness Rank\"],\"y\":[60,38],\"type\":\"scatter\"},{\"hoverinfo\":\"text\",\"hovertext\":\"Panama\\u003cbr\\u003eGini Index Rank: 61\\u003cbr\\u003eHappiness Rank: 20\\u003cbr\\u003eMismatch: 41\",\"line\":{\"color\":\"#D81B60\",\"width\":2},\"mode\":\"lines+markers\",\"name\":\"Panama\",\"x\":[\"Gini Index Rank\",\"Happiness Rank\"],\"y\":[61,20],\"type\":\"scatter\"},{\"hoverinfo\":\"text\",\"hovertext\":\"Mozambique\\u003cbr\\u003eGini Index Rank: 62\\u003cbr\\u003eHappiness Rank: 60\\u003cbr\\u003eMismatch: 2\",\"line\":{\"color\":\"#1E88E5\",\"width\":2},\"mode\":\"lines+markers\",\"name\":\"Mozambique\",\"x\":[\"Gini Index Rank\",\"Happiness Rank\"],\"y\":[62,60],\"type\":\"scatter\"},{\"hoverinfo\":\"text\",\"hovertext\":\"Zimbabwe\\u003cbr\\u003eGini Index Rank: 63\\u003cbr\\u003eHappiness Rank: 64\\u003cbr\\u003eMismatch: 1\",\"line\":{\"color\":\"#1E88E5\",\"width\":2},\"mode\":\"lines+markers\",\"name\":\"Zimbabwe\",\"x\":[\"Gini Index Rank\",\"Happiness Rank\"],\"y\":[63,64],\"type\":\"scatter\"},{\"hoverinfo\":\"text\",\"hovertext\":\"Colombia\\u003cbr\\u003eGini Index Rank: 64\\u003cbr\\u003eHappiness Rank: 27\\u003cbr\\u003eMismatch: 37\",\"line\":{\"color\":\"#D81B60\",\"width\":2},\"mode\":\"lines+markers\",\"name\":\"Colombia\",\"x\":[\"Gini Index Rank\",\"Happiness Rank\"],\"y\":[64,27],\"type\":\"scatter\"},{\"hoverinfo\":\"text\",\"hovertext\":\"Brazil\\u003cbr\\u003eGini Index Rank: 65\\u003cbr\\u003eHappiness Rank: 21\\u003cbr\\u003eMismatch: 44\",\"line\":{\"color\":\"#D81B60\",\"width\":2},\"mode\":\"lines+markers\",\"name\":\"Brazil\",\"x\":[\"Gini Index Rank\",\"Happiness Rank\"],\"y\":[65,21],\"type\":\"scatter\"},{\"hoverinfo\":\"text\",\"hovertext\":\"United States\\u003cbr\\u003eGDP Rank: 1\\u003cbr\\u003eHappiness Rank: 19\\u003cbr\\u003eMismatch: 18\",\"line\":{\"color\":\"#1E88E5\",\"width\":2},\"mode\":\"lines+markers\",\"name\":\"United States\",\"visible\":false,\"x\":[\"GDP Rank\",\"Happiness Rank\"],\"y\":[1,19],\"type\":\"scatter\"},{\"hoverinfo\":\"text\",\"hovertext\":\"China\\u003cbr\\u003eGDP Rank: 2\\u003cbr\\u003eHappiness Rank: 83\\u003cbr\\u003eMismatch: 81\",\"line\":{\"color\":\"#D81B60\",\"width\":2},\"mode\":\"lines+markers\",\"name\":\"China\",\"visible\":false,\"x\":[\"GDP Rank\",\"Happiness Rank\"],\"y\":[2,83],\"type\":\"scatter\"},{\"hoverinfo\":\"text\",\"hovertext\":\"Japan\\u003cbr\\u003eGDP Rank: 3\\u003cbr\\u003eHappiness Rank: 53\\u003cbr\\u003eMismatch: 50\",\"line\":{\"color\":\"#D81B60\",\"width\":2},\"mode\":\"lines+markers\",\"name\":\"Japan\",\"visible\":false,\"x\":[\"GDP Rank\",\"Happiness Rank\"],\"y\":[3,53],\"type\":\"scatter\"},{\"hoverinfo\":\"text\",\"hovertext\":\"Germany\\u003cbr\\u003eGDP Rank: 4\\u003cbr\\u003eHappiness Rank: 17\\u003cbr\\u003eMismatch: 13\",\"line\":{\"color\":\"#1E88E5\",\"width\":2},\"mode\":\"lines+markers\",\"name\":\"Germany\",\"visible\":false,\"x\":[\"GDP Rank\",\"Happiness Rank\"],\"y\":[4,17],\"type\":\"scatter\"},{\"hoverinfo\":\"text\",\"hovertext\":\"United Kingdom\\u003cbr\\u003eGDP Rank: 5\\u003cbr\\u003eHappiness Rank: 15\\u003cbr\\u003eMismatch: 10\",\"line\":{\"color\":\"#1E88E5\",\"width\":2},\"mode\":\"lines+markers\",\"name\":\"United Kingdom\",\"visible\":false,\"x\":[\"GDP Rank\",\"Happiness Rank\"],\"y\":[5,15],\"type\":\"scatter\"},{\"hoverinfo\":\"text\",\"hovertext\":\"India\\u003cbr\\u003eGDP Rank: 6\\u003cbr\\u003eHappiness Rank: 119\\u003cbr\\u003eMismatch: 113\",\"line\":{\"color\":\"#D81B60\",\"width\":2},\"mode\":\"lines+markers\",\"name\":\"India\",\"visible\":false,\"x\":[\"GDP Rank\",\"Happiness Rank\"],\"y\":[6,119],\"type\":\"scatter\"},{\"hoverinfo\":\"text\",\"hovertext\":\"France\\u003cbr\\u003eGDP Rank: 7\\u003cbr\\u003eHappiness Rank: 23\\u003cbr\\u003eMismatch: 16\",\"line\":{\"color\":\"#1E88E5\",\"width\":2},\"mode\":\"lines+markers\",\"name\":\"France\",\"visible\":false,\"x\":[\"GDP Rank\",\"Happiness Rank\"],\"y\":[7,23],\"type\":\"scatter\"},{\"hoverinfo\":\"text\",\"hovertext\":\"Italy\\u003cbr\\u003eGDP Rank: 8\\u003cbr\\u003eHappiness Rank: 34\\u003cbr\\u003eMismatch: 26\",\"line\":{\"color\":\"#1E88E5\",\"width\":2},\"mode\":\"lines+markers\",\"name\":\"Italy\",\"visible\":false,\"x\":[\"GDP Rank\",\"Happiness Rank\"],\"y\":[8,34],\"type\":\"scatter\"},{\"hoverinfo\":\"text\",\"hovertext\":\"Brazil\\u003cbr\\u003eGDP Rank: 9\\u003cbr\\u003eHappiness Rank: 30\\u003cbr\\u003eMismatch: 21\",\"line\":{\"color\":\"#1E88E5\",\"width\":2},\"mode\":\"lines+markers\",\"name\":\"Brazil\",\"visible\":false,\"x\":[\"GDP Rank\",\"Happiness Rank\"],\"y\":[9,30],\"type\":\"scatter\"},{\"hoverinfo\":\"text\",\"hovertext\":\"Canada\\u003cbr\\u003eGDP Rank: 10\\u003cbr\\u003eHappiness Rank: 9\\u003cbr\\u003eMismatch: 1\",\"line\":{\"color\":\"#1E88E5\",\"width\":2},\"mode\":\"lines+markers\",\"name\":\"Canada\",\"visible\":false,\"x\":[\"GDP Rank\",\"Happiness Rank\"],\"y\":[10,9],\"type\":\"scatter\"},{\"hoverinfo\":\"text\",\"hovertext\":\"Spain\\u003cbr\\u003eGDP Rank: 11\\u003cbr\\u003eHappiness Rank: 28\\u003cbr\\u003eMismatch: 17\",\"line\":{\"color\":\"#1E88E5\",\"width\":2},\"mode\":\"lines+markers\",\"name\":\"Spain\",\"visible\":false,\"x\":[\"GDP Rank\",\"Happiness Rank\"],\"y\":[11,28],\"type\":\"scatter\"},{\"hoverinfo\":\"text\",\"hovertext\":\"Australia\\u003cbr\\u003eGDP Rank: 12\\u003cbr\\u003eHappiness Rank: 11\\u003cbr\\u003eMismatch: 1\",\"line\":{\"color\":\"#1E88E5\",\"width\":2},\"mode\":\"lines+markers\",\"name\":\"Australia\",\"visible\":false,\"x\":[\"GDP Rank\",\"Happiness Rank\"],\"y\":[12,11],\"type\":\"scatter\"},{\"hoverinfo\":\"text\",\"hovertext\":\"Mexico\\u003cbr\\u003eGDP Rank: 13\\u003cbr\\u003eHappiness Rank: 22\\u003cbr\\u003eMismatch: 9\",\"line\":{\"color\":\"#1E88E5\",\"width\":2},\"mode\":\"lines+markers\",\"name\":\"Mexico\",\"visible\":false,\"x\":[\"GDP Rank\",\"Happiness Rank\"],\"y\":[13,22],\"type\":\"scatter\"},{\"hoverinfo\":\"text\",\"hovertext\":\"Indonesia\\u003cbr\\u003eGDP Rank: 14\\u003cbr\\u003eHappiness Rank: 82\\u003cbr\\u003eMismatch: 68\",\"line\":{\"color\":\"#D81B60\",\"width\":2},\"mode\":\"lines+markers\",\"name\":\"Indonesia\",\"visible\":false,\"x\":[\"GDP Rank\",\"Happiness Rank\"],\"y\":[14,82],\"type\":\"scatter\"},{\"hoverinfo\":\"text\",\"hovertext\":\"Netherlands\\u003cbr\\u003eGDP Rank: 15\\u003cbr\\u003eHappiness Rank: 5\\u003cbr\\u003eMismatch: 10\",\"line\":{\"color\":\"#1E88E5\",\"width\":2},\"mode\":\"lines+markers\",\"name\":\"Netherlands\",\"visible\":false,\"x\":[\"GDP Rank\",\"Happiness Rank\"],\"y\":[15,5],\"type\":\"scatter\"},{\"hoverinfo\":\"text\",\"hovertext\":\"Saudi Arabia\\u003cbr\\u003eGDP Rank: 16\\u003cbr\\u003eHappiness Rank: 26\\u003cbr\\u003eMismatch: 10\",\"line\":{\"color\":\"#1E88E5\",\"width\":2},\"mode\":\"lines+markers\",\"name\":\"Saudi Arabia\",\"visible\":false,\"x\":[\"GDP Rank\",\"Happiness Rank\"],\"y\":[16,26],\"type\":\"scatter\"},{\"hoverinfo\":\"text\",\"hovertext\":\"Switzerland\\u003cbr\\u003eGDP Rank: 17\\u003cbr\\u003eHappiness Rank: 6\\u003cbr\\u003eMismatch: 11\",\"line\":{\"color\":\"#1E88E5\",\"width\":2},\"mode\":\"lines+markers\",\"name\":\"Switzerland\",\"visible\":false,\"x\":[\"GDP Rank\",\"Happiness Rank\"],\"y\":[17,6],\"type\":\"scatter\"},{\"hoverinfo\":\"text\",\"hovertext\":\"Poland\\u003cbr\\u003eGDP Rank: 18\\u003cbr\\u003eHappiness Rank: 36\\u003cbr\\u003eMismatch: 18\",\"line\":{\"color\":\"#1E88E5\",\"width\":2},\"mode\":\"lines+markers\",\"name\":\"Poland\",\"visible\":false,\"x\":[\"GDP Rank\",\"Happiness Rank\"],\"y\":[18,36],\"type\":\"scatter\"},{\"hoverinfo\":\"text\",\"hovertext\":\"Thailand\\u003cbr\\u003eGDP Rank: 19\\u003cbr\\u003eHappiness Rank: 48\\u003cbr\\u003eMismatch: 29\",\"line\":{\"color\":\"#1E88E5\",\"width\":2},\"mode\":\"lines+markers\",\"name\":\"Thailand\",\"visible\":false,\"x\":[\"GDP Rank\",\"Happiness Rank\"],\"y\":[19,48],\"type\":\"scatter\"},{\"hoverinfo\":\"text\",\"hovertext\":\"Belgium\\u003cbr\\u003eGDP Rank: 20\\u003cbr\\u003eHappiness Rank: 18\\u003cbr\\u003eMismatch: 2\",\"line\":{\"color\":\"#1E88E5\",\"width\":2},\"mode\":\"lines+markers\",\"name\":\"Belgium\",\"visible\":false,\"x\":[\"GDP Rank\",\"Happiness Rank\"],\"y\":[20,18],\"type\":\"scatter\"},{\"hoverinfo\":\"text\",\"hovertext\":\"Sweden\\u003cbr\\u003eGDP Rank: 21\\u003cbr\\u003eHappiness Rank: 7\\u003cbr\\u003eMismatch: 14\",\"line\":{\"color\":\"#1E88E5\",\"width\":2},\"mode\":\"lines+markers\",\"name\":\"Sweden\",\"visible\":false,\"x\":[\"GDP Rank\",\"Happiness Rank\"],\"y\":[21,7],\"type\":\"scatter\"},{\"hoverinfo\":\"text\",\"hovertext\":\"Nigeria\\u003cbr\\u003eGDP Rank: 22\\u003cbr\\u003eHappiness Rank: 76\\u003cbr\\u003eMismatch: 54\",\"line\":{\"color\":\"#D81B60\",\"width\":2},\"mode\":\"lines+markers\",\"name\":\"Nigeria\",\"visible\":false,\"x\":[\"GDP Rank\",\"Happiness Rank\"],\"y\":[22,76],\"type\":\"scatter\"},{\"hoverinfo\":\"text\",\"hovertext\":\"Argentina\\u003cbr\\u003eGDP Rank: 23\\u003cbr\\u003eHappiness Rank: 43\\u003cbr\\u003eMismatch: 20\",\"line\":{\"color\":\"#1E88E5\",\"width\":2},\"mode\":\"lines+markers\",\"name\":\"Argentina\",\"visible\":false,\"x\":[\"GDP Rank\",\"Happiness Rank\"],\"y\":[23,43],\"type\":\"scatter\"},{\"hoverinfo\":\"text\",\"hovertext\":\"Austria\\u003cbr\\u003eGDP Rank: 24\\u003cbr\\u003eHappiness Rank: 10\\u003cbr\\u003eMismatch: 14\",\"line\":{\"color\":\"#1E88E5\",\"width\":2},\"mode\":\"lines+markers\",\"name\":\"Austria\",\"visible\":false,\"x\":[\"GDP Rank\",\"Happiness Rank\"],\"y\":[24,10],\"type\":\"scatter\"},{\"hoverinfo\":\"text\",\"hovertext\":\"United Arab Emirates\\u003cbr\\u003eGDP Rank: 25\\u003cbr\\u003eHappiness Rank: 20\\u003cbr\\u003eMismatch: 5\",\"line\":{\"color\":\"#1E88E5\",\"width\":2},\"mode\":\"lines+markers\",\"name\":\"United Arab Emirates\",\"visible\":false,\"x\":[\"GDP Rank\",\"Happiness Rank\"],\"y\":[25,20],\"type\":\"scatter\"},{\"hoverinfo\":\"text\",\"hovertext\":\"Norway\\u003cbr\\u003eGDP Rank: 26\\u003cbr\\u003eHappiness Rank: 3\\u003cbr\\u003eMismatch: 23\",\"line\":{\"color\":\"#1E88E5\",\"width\":2},\"mode\":\"lines+markers\",\"name\":\"Norway\",\"visible\":false,\"x\":[\"GDP Rank\",\"Happiness Rank\"],\"y\":[26,3],\"type\":\"scatter\"},{\"hoverinfo\":\"text\",\"hovertext\":\"Ireland\\u003cbr\\u003eGDP Rank: 27\\u003cbr\\u003eHappiness Rank: 16\\u003cbr\\u003eMismatch: 11\",\"line\":{\"color\":\"#1E88E5\",\"width\":2},\"mode\":\"lines+markers\",\"name\":\"Ireland\",\"visible\":false,\"x\":[\"GDP Rank\",\"Happiness Rank\"],\"y\":[27,16],\"type\":\"scatter\"},{\"hoverinfo\":\"text\",\"hovertext\":\"Israel\\u003cbr\\u003eGDP Rank: 28\\u003cbr\\u003eHappiness Rank: 13\\u003cbr\\u003eMismatch: 15\",\"line\":{\"color\":\"#1E88E5\",\"width\":2},\"mode\":\"lines+markers\",\"name\":\"Israel\",\"visible\":false,\"x\":[\"GDP Rank\",\"Happiness Rank\"],\"y\":[28,13],\"type\":\"scatter\"},{\"hoverinfo\":\"text\",\"hovertext\":\"South Africa\\u003cbr\\u003eGDP Rank: 29\\u003cbr\\u003eHappiness Rank: 92\\u003cbr\\u003eMismatch: 63\",\"line\":{\"color\":\"#D81B60\",\"width\":2},\"mode\":\"lines+markers\",\"name\":\"South Africa\",\"visible\":false,\"x\":[\"GDP Rank\",\"Happiness Rank\"],\"y\":[29,92],\"type\":\"scatter\"},{\"hoverinfo\":\"text\",\"hovertext\":\"Singapore\\u003cbr\\u003eGDP Rank: 30\\u003cbr\\u003eHappiness Rank: 32\\u003cbr\\u003eMismatch: 2\",\"line\":{\"color\":\"#1E88E5\",\"width\":2},\"mode\":\"lines+markers\",\"name\":\"Singapore\",\"visible\":false,\"x\":[\"GDP Rank\",\"Happiness Rank\"],\"y\":[30,32],\"type\":\"scatter\"},{\"hoverinfo\":\"text\",\"hovertext\":\"Philippines\\u003cbr\\u003eGDP Rank: 31\\u003cbr\\u003eHappiness Rank: 62\\u003cbr\\u003eMismatch: 31\",\"line\":{\"color\":\"#D81B60\",\"width\":2},\"mode\":\"lines+markers\",\"name\":\"Philippines\",\"visible\":false,\"x\":[\"GDP Rank\",\"Happiness Rank\"],\"y\":[31,62],\"type\":\"scatter\"},{\"hoverinfo\":\"text\",\"hovertext\":\"Malaysia\\u003cbr\\u003eGDP Rank: 32\\u003cbr\\u003eHappiness Rank: 71\\u003cbr\\u003eMismatch: 39\",\"line\":{\"color\":\"#D81B60\",\"width\":2},\"mode\":\"lines+markers\",\"name\":\"Malaysia\",\"visible\":false,\"x\":[\"GDP Rank\",\"Happiness Rank\"],\"y\":[32,71],\"type\":\"scatter\"},{\"hoverinfo\":\"text\",\"hovertext\":\"Bangladesh\\u003cbr\\u003eGDP Rank: 33\\u003cbr\\u003eHappiness Rank: 107\\u003cbr\\u003eMismatch: 74\",\"line\":{\"color\":\"#D81B60\",\"width\":2},\"mode\":\"lines+markers\",\"name\":\"Bangladesh\",\"visible\":false,\"x\":[\"GDP Rank\",\"Happiness Rank\"],\"y\":[33,107],\"type\":\"scatter\"},{\"hoverinfo\":\"text\",\"hovertext\":\"Denmark\\u003cbr\\u003eGDP Rank: 34\\u003cbr\\u003eHappiness Rank: 2\\u003cbr\\u003eMismatch: 32\",\"line\":{\"color\":\"#D81B60\",\"width\":2},\"mode\":\"lines+markers\",\"name\":\"Denmark\",\"visible\":false,\"x\":[\"GDP Rank\",\"Happiness Rank\"],\"y\":[34,2],\"type\":\"scatter\"},{\"hoverinfo\":\"text\",\"hovertext\":\"Colombia\\u003cbr\\u003eGDP Rank: 35\\u003cbr\\u003eHappiness Rank: 39\\u003cbr\\u003eMismatch: 4\",\"line\":{\"color\":\"#1E88E5\",\"width\":2},\"mode\":\"lines+markers\",\"name\":\"Colombia\",\"visible\":false,\"x\":[\"GDP Rank\",\"Happiness Rank\"],\"y\":[35,39],\"type\":\"scatter\"},{\"hoverinfo\":\"text\",\"hovertext\":\"Pakistan\\u003cbr\\u003eGDP Rank: 36\\u003cbr\\u003eHappiness Rank: 61\\u003cbr\\u003eMismatch: 25\",\"line\":{\"color\":\"#1E88E5\",\"width\":2},\"mode\":\"lines+markers\",\"name\":\"Pakistan\",\"visible\":false,\"x\":[\"GDP Rank\",\"Happiness Rank\"],\"y\":[36,61],\"type\":\"scatter\"},{\"hoverinfo\":\"text\",\"hovertext\":\"Chile\\u003cbr\\u003eGDP Rank: 37\\u003cbr\\u003eHappiness Rank: 24\\u003cbr\\u003eMismatch: 13\",\"line\":{\"color\":\"#1E88E5\",\"width\":2},\"mode\":\"lines+markers\",\"name\":\"Chile\",\"visible\":false,\"x\":[\"GDP Rank\",\"Happiness Rank\"],\"y\":[37,24],\"type\":\"scatter\"},{\"hoverinfo\":\"text\",\"hovertext\":\"Finland\\u003cbr\\u003eGDP Rank: 38\\u003cbr\\u003eHappiness Rank: 1\\u003cbr\\u003eMismatch: 37\",\"line\":{\"color\":\"#D81B60\",\"width\":2},\"mode\":\"lines+markers\",\"name\":\"Finland\",\"visible\":false,\"x\":[\"GDP Rank\",\"Happiness Rank\"],\"y\":[38,1],\"type\":\"scatter\"},{\"hoverinfo\":\"text\",\"hovertext\":\"Romania\\u003cbr\\u003eGDP Rank: 39\\u003cbr\\u003eHappiness Rank: 44\\u003cbr\\u003eMismatch: 5\",\"line\":{\"color\":\"#1E88E5\",\"width\":2},\"mode\":\"lines+markers\",\"name\":\"Romania\",\"visible\":false,\"x\":[\"GDP Rank\",\"Happiness Rank\"],\"y\":[39,44],\"type\":\"scatter\"},{\"hoverinfo\":\"text\",\"hovertext\":\"Portugal\\u003cbr\\u003eGDP Rank: 40\\u003cbr\\u003eHappiness Rank: 60\\u003cbr\\u003eMismatch: 20\",\"line\":{\"color\":\"#1E88E5\",\"width\":2},\"mode\":\"lines+markers\",\"name\":\"Portugal\",\"visible\":false,\"x\":[\"GDP Rank\",\"Happiness Rank\"],\"y\":[40,60],\"type\":\"scatter\"},{\"hoverinfo\":\"text\",\"hovertext\":\"Iraq\\u003cbr\\u003eGDP Rank: 41\\u003cbr\\u003eHappiness Rank: 108\\u003cbr\\u003eMismatch: 67\",\"line\":{\"color\":\"#D81B60\",\"width\":2},\"mode\":\"lines+markers\",\"name\":\"Iraq\",\"visible\":false,\"x\":[\"GDP Rank\",\"Happiness Rank\"],\"y\":[41,108],\"type\":\"scatter\"},{\"hoverinfo\":\"text\",\"hovertext\":\"Peru\\u003cbr\\u003eGDP Rank: 42\\u003cbr\\u003eHappiness Rank: 59\\u003cbr\\u003eMismatch: 17\",\"line\":{\"color\":\"#1E88E5\",\"width\":2},\"mode\":\"lines+markers\",\"name\":\"Peru\",\"visible\":false,\"x\":[\"GDP Rank\",\"Happiness Rank\"],\"y\":[42,59],\"type\":\"scatter\"},{\"hoverinfo\":\"text\",\"hovertext\":\"New Zealand\\u003cbr\\u003eGDP Rank: 43\\u003cbr\\u003eHappiness Rank: 8\\u003cbr\\u003eMismatch: 35\",\"line\":{\"color\":\"#D81B60\",\"width\":2},\"mode\":\"lines+markers\",\"name\":\"New Zealand\",\"visible\":false,\"x\":[\"GDP Rank\",\"Happiness Rank\"],\"y\":[43,8],\"type\":\"scatter\"},{\"hoverinfo\":\"text\",\"hovertext\":\"Greece\\u003cbr\\u003eGDP Rank: 44\\u003cbr\\u003eHappiness Rank: 73\\u003cbr\\u003eMismatch: 29\",\"line\":{\"color\":\"#1E88E5\",\"width\":2},\"mode\":\"lines+markers\",\"name\":\"Greece\",\"visible\":false,\"x\":[\"GDP Rank\",\"Happiness Rank\"],\"y\":[44,73],\"type\":\"scatter\"},{\"hoverinfo\":\"text\",\"hovertext\":\"Algeria\\u003cbr\\u003eGDP Rank: 45\\u003cbr\\u003eHappiness Rank: 78\\u003cbr\\u003eMismatch: 33\",\"line\":{\"color\":\"#D81B60\",\"width\":2},\"mode\":\"lines+markers\",\"name\":\"Algeria\",\"visible\":false,\"x\":[\"GDP Rank\",\"Happiness Rank\"],\"y\":[45,78],\"type\":\"scatter\"},{\"hoverinfo\":\"text\",\"hovertext\":\"Kazakhstan\\u003cbr\\u003eGDP Rank: 46\\u003cbr\\u003eHappiness Rank: 55\\u003cbr\\u003eMismatch: 9\",\"line\":{\"color\":\"#1E88E5\",\"width\":2},\"mode\":\"lines+markers\",\"name\":\"Kazakhstan\",\"visible\":false,\"x\":[\"GDP Rank\",\"Happiness Rank\"],\"y\":[46,55],\"type\":\"scatter\"},{\"hoverinfo\":\"text\",\"hovertext\":\"Qatar\\u003cbr\\u003eGDP Rank: 47\\u003cbr\\u003eHappiness Rank: 27\\u003cbr\\u003eMismatch: 20\",\"line\":{\"color\":\"#1E88E5\",\"width\":2},\"mode\":\"lines+markers\",\"name\":\"Qatar\",\"visible\":false,\"x\":[\"GDP Rank\",\"Happiness Rank\"],\"y\":[47,27],\"type\":\"scatter\"},{\"hoverinfo\":\"text\",\"hovertext\":\"Hungary\\u003cbr\\u003eGDP Rank: 48\\u003cbr\\u003eHappiness Rank: 57\\u003cbr\\u003eMismatch: 9\",\"line\":{\"color\":\"#1E88E5\",\"width\":2},\"mode\":\"lines+markers\",\"name\":\"Hungary\",\"visible\":false,\"x\":[\"GDP Rank\",\"Happiness Rank\"],\"y\":[48,57],\"type\":\"scatter\"},{\"hoverinfo\":\"text\",\"hovertext\":\"Ukraine\\u003cbr\\u003eGDP Rank: 49\\u003cbr\\u003eHappiness Rank: 114\\u003cbr\\u003eMismatch: 65\",\"line\":{\"color\":\"#D81B60\",\"width\":2},\"mode\":\"lines+markers\",\"name\":\"Ukraine\",\"visible\":false,\"x\":[\"GDP Rank\",\"Happiness Rank\"],\"y\":[49,114],\"type\":\"scatter\"},{\"hoverinfo\":\"text\",\"hovertext\":\"Kuwait\\u003cbr\\u003eGDP Rank: 50\\u003cbr\\u003eHappiness Rank: 47\\u003cbr\\u003eMismatch: 3\",\"line\":{\"color\":\"#1E88E5\",\"width\":2},\"mode\":\"lines+markers\",\"name\":\"Kuwait\",\"visible\":false,\"x\":[\"GDP Rank\",\"Happiness Rank\"],\"y\":[50,47],\"type\":\"scatter\"},{\"hoverinfo\":\"text\",\"hovertext\":\"Morocco\\u003cbr\\u003eGDP Rank: 51\\u003cbr\\u003eHappiness Rank: 79\\u003cbr\\u003eMismatch: 28\",\"line\":{\"color\":\"#1E88E5\",\"width\":2},\"mode\":\"lines+markers\",\"name\":\"Morocco\",\"visible\":false,\"x\":[\"GDP Rank\",\"Happiness Rank\"],\"y\":[51,79],\"type\":\"scatter\"},{\"hoverinfo\":\"text\",\"hovertext\":\"Ecuador\\u003cbr\\u003eGDP Rank: 52\\u003cbr\\u003eHappiness Rank: 46\\u003cbr\\u003eMismatch: 6\",\"line\":{\"color\":\"#1E88E5\",\"width\":2},\"mode\":\"lines+markers\",\"name\":\"Ecuador\",\"visible\":false,\"x\":[\"GDP Rank\",\"Happiness Rank\"],\"y\":[52,46],\"type\":\"scatter\"},{\"hoverinfo\":\"text\",\"hovertext\":\"Kenya\\u003cbr\\u003eGDP Rank: 53\\u003cbr\\u003eHappiness Rank: 103\\u003cbr\\u003eMismatch: 50\",\"line\":{\"color\":\"#D81B60\",\"width\":2},\"mode\":\"lines+markers\",\"name\":\"Kenya\",\"visible\":false,\"x\":[\"GDP Rank\",\"Happiness Rank\"],\"y\":[53,103],\"type\":\"scatter\"},{\"hoverinfo\":\"text\",\"hovertext\":\"Ethiopia\\u003cbr\\u003eGDP Rank: 54\\u003cbr\\u003eHappiness Rank: 115\\u003cbr\\u003eMismatch: 61\",\"line\":{\"color\":\"#D81B60\",\"width\":2},\"mode\":\"lines+markers\",\"name\":\"Ethiopia\",\"visible\":false,\"x\":[\"GDP Rank\",\"Happiness Rank\"],\"y\":[54,115],\"type\":\"scatter\"},{\"hoverinfo\":\"text\",\"hovertext\":\"Sri Lanka\\u003cbr\\u003eGDP Rank: 55\\u003cbr\\u003eHappiness Rank: 111\\u003cbr\\u003eMismatch: 56\",\"line\":{\"color\":\"#D81B60\",\"width\":2},\"mode\":\"lines+markers\",\"name\":\"Sri Lanka\",\"visible\":false,\"x\":[\"GDP Rank\",\"Happiness Rank\"],\"y\":[55,111],\"type\":\"scatter\"},{\"hoverinfo\":\"text\",\"hovertext\":\"Dominican Republic\\u003cbr\\u003eGDP Rank: 56\\u003cbr\\u003eHappiness Rank: 69\\u003cbr\\u003eMismatch: 13\",\"line\":{\"color\":\"#1E88E5\",\"width\":2},\"mode\":\"lines+markers\",\"name\":\"Dominican Republic\",\"visible\":false,\"x\":[\"GDP Rank\",\"Happiness Rank\"],\"y\":[56,69],\"type\":\"scatter\"},{\"hoverinfo\":\"text\",\"hovertext\":\"Guatemala\\u003cbr\\u003eGDP Rank: 57\\u003cbr\\u003eHappiness Rank: 25\\u003cbr\\u003eMismatch: 32\",\"line\":{\"color\":\"#D81B60\",\"width\":2},\"mode\":\"lines+markers\",\"name\":\"Guatemala\",\"visible\":false,\"x\":[\"GDP Rank\",\"Happiness Rank\"],\"y\":[57,25],\"type\":\"scatter\"},{\"hoverinfo\":\"text\",\"hovertext\":\"Myanmar\\u003cbr\\u003eGDP Rank: 58\\u003cbr\\u003eHappiness Rank: 112\\u003cbr\\u003eMismatch: 54\",\"line\":{\"color\":\"#D81B60\",\"width\":2},\"mode\":\"lines+markers\",\"name\":\"Myanmar\",\"visible\":false,\"x\":[\"GDP Rank\",\"Happiness Rank\"],\"y\":[58,112],\"type\":\"scatter\"},{\"hoverinfo\":\"text\",\"hovertext\":\"Luxembourg\\u003cbr\\u003eGDP Rank: 59\\u003cbr\\u003eHappiness Rank: 14\\u003cbr\\u003eMismatch: 45\",\"line\":{\"color\":\"#D81B60\",\"width\":2},\"mode\":\"lines+markers\",\"name\":\"Luxembourg\",\"visible\":false,\"x\":[\"GDP Rank\",\"Happiness Rank\"],\"y\":[59,14],\"type\":\"scatter\"},{\"hoverinfo\":\"text\",\"hovertext\":\"Panama\\u003cbr\\u003eGDP Rank: 60\\u003cbr\\u003eHappiness Rank: 29\\u003cbr\\u003eMismatch: 31\",\"line\":{\"color\":\"#D81B60\",\"width\":2},\"mode\":\"lines+markers\",\"name\":\"Panama\",\"visible\":false,\"x\":[\"GDP Rank\",\"Happiness Rank\"],\"y\":[60,29],\"type\":\"scatter\"},{\"hoverinfo\":\"text\",\"hovertext\":\"Libya\\u003cbr\\u003eGDP Rank: 61\\u003cbr\\u003eHappiness Rank: 65\\u003cbr\\u003eMismatch: 4\",\"line\":{\"color\":\"#1E88E5\",\"width\":2},\"mode\":\"lines+markers\",\"name\":\"Libya\",\"visible\":false,\"x\":[\"GDP Rank\",\"Happiness Rank\"],\"y\":[61,65],\"type\":\"scatter\"},{\"hoverinfo\":\"text\",\"hovertext\":\"Bulgaria\\u003cbr\\u003eGDP Rank: 62\\u003cbr\\u003eHappiness Rank: 86\\u003cbr\\u003eMismatch: 24\",\"line\":{\"color\":\"#1E88E5\",\"width\":2},\"mode\":\"lines+markers\",\"name\":\"Bulgaria\",\"visible\":false,\"x\":[\"GDP Rank\",\"Happiness Rank\"],\"y\":[62,86],\"type\":\"scatter\"},{\"hoverinfo\":\"text\",\"hovertext\":\"Ghana\\u003cbr\\u003eGDP Rank: 63\\u003cbr\\u003eHappiness Rank: 87\\u003cbr\\u003eMismatch: 24\",\"line\":{\"color\":\"#1E88E5\",\"width\":2},\"mode\":\"lines+markers\",\"name\":\"Ghana\",\"visible\":false,\"x\":[\"GDP Rank\",\"Happiness Rank\"],\"y\":[63,87],\"type\":\"scatter\"},{\"hoverinfo\":\"text\",\"hovertext\":\"Uzbekistan\\u003cbr\\u003eGDP Rank: 64\\u003cbr\\u003eHappiness Rank: 37\\u003cbr\\u003eMismatch: 27\",\"line\":{\"color\":\"#1E88E5\",\"width\":2},\"mode\":\"lines+markers\",\"name\":\"Uzbekistan\",\"visible\":false,\"x\":[\"GDP Rank\",\"Happiness Rank\"],\"y\":[64,37],\"type\":\"scatter\"},{\"hoverinfo\":\"text\",\"hovertext\":\"Costa Rica\\u003cbr\\u003eGDP Rank: 65\\u003cbr\\u003eHappiness Rank: 12\\u003cbr\\u003eMismatch: 53\",\"line\":{\"color\":\"#D81B60\",\"width\":2},\"mode\":\"lines+markers\",\"name\":\"Costa Rica\",\"visible\":false,\"x\":[\"GDP Rank\",\"Happiness Rank\"],\"y\":[65,12],\"type\":\"scatter\"},{\"hoverinfo\":\"text\",\"hovertext\":\"Belarus\\u003cbr\\u003eGDP Rank: 66\\u003cbr\\u003eHappiness Rank: 72\\u003cbr\\u003eMismatch: 6\",\"line\":{\"color\":\"#1E88E5\",\"width\":2},\"mode\":\"lines+markers\",\"name\":\"Belarus\",\"visible\":false,\"x\":[\"GDP Rank\",\"Happiness Rank\"],\"y\":[66,72],\"type\":\"scatter\"},{\"hoverinfo\":\"text\",\"hovertext\":\"Uruguay\\u003cbr\\u003eGDP Rank: 67\\u003cbr\\u003eHappiness Rank: 31\\u003cbr\\u003eMismatch: 36\",\"line\":{\"color\":\"#D81B60\",\"width\":2},\"mode\":\"lines+markers\",\"name\":\"Uruguay\",\"visible\":false,\"x\":[\"GDP Rank\",\"Happiness Rank\"],\"y\":[67,31],\"type\":\"scatter\"},{\"hoverinfo\":\"text\",\"hovertext\":\"Croatia\\u003cbr\\u003eGDP Rank: 68\\u003cbr\\u003eHappiness Rank: 68\\u003cbr\\u003eMismatch: 0\",\"line\":{\"color\":\"#1E88E5\",\"width\":2},\"mode\":\"lines+markers\",\"name\":\"Croatia\",\"visible\":false,\"x\":[\"GDP Rank\",\"Happiness Rank\"],\"y\":[68,68],\"type\":\"scatter\"},{\"hoverinfo\":\"text\",\"hovertext\":\"Tanzania\\u003cbr\\u003eGDP Rank: 69\\u003cbr\\u003eHappiness Rank: 130\\u003cbr\\u003eMismatch: 61\",\"line\":{\"color\":\"#D81B60\",\"width\":2},\"mode\":\"lines+markers\",\"name\":\"Tanzania\",\"visible\":false,\"x\":[\"GDP Rank\",\"Happiness Rank\"],\"y\":[69,130],\"type\":\"scatter\"},{\"hoverinfo\":\"text\",\"hovertext\":\"Lithuania\\u003cbr\\u003eGDP Rank: 70\\u003cbr\\u003eHappiness Rank: 38\\u003cbr\\u003eMismatch: 32\",\"line\":{\"color\":\"#D81B60\",\"width\":2},\"mode\":\"lines+markers\",\"name\":\"Lithuania\",\"visible\":false,\"x\":[\"GDP Rank\",\"Happiness Rank\"],\"y\":[70,38],\"type\":\"scatter\"},{\"hoverinfo\":\"text\",\"hovertext\":\"Slovenia\\u003cbr\\u003eGDP Rank: 71\\u003cbr\\u003eHappiness Rank: 40\\u003cbr\\u003eMismatch: 31\",\"line\":{\"color\":\"#D81B60\",\"width\":2},\"mode\":\"lines+markers\",\"name\":\"Slovenia\",\"visible\":false,\"x\":[\"GDP Rank\",\"Happiness Rank\"],\"y\":[71,40],\"type\":\"scatter\"},{\"hoverinfo\":\"text\",\"hovertext\":\"Serbia\\u003cbr\\u003eGDP Rank: 72\\u003cbr\\u003eHappiness Rank: 63\\u003cbr\\u003eMismatch: 9\",\"line\":{\"color\":\"#1E88E5\",\"width\":2},\"mode\":\"lines+markers\",\"name\":\"Serbia\",\"visible\":false,\"x\":[\"GDP Rank\",\"Happiness Rank\"],\"y\":[72,63],\"type\":\"scatter\"},{\"hoverinfo\":\"text\",\"hovertext\":\"Lebanon\\u003cbr\\u003eGDP Rank: 73\\u003cbr\\u003eHappiness Rank: 81\\u003cbr\\u003eMismatch: 8\",\"line\":{\"color\":\"#1E88E5\",\"width\":2},\"mode\":\"lines+markers\",\"name\":\"Lebanon\",\"visible\":false,\"x\":[\"GDP Rank\",\"Happiness Rank\"],\"y\":[73,81],\"type\":\"scatter\"},{\"hoverinfo\":\"text\",\"hovertext\":\"Azerbaijan\\u003cbr\\u003eGDP Rank: 74\\u003cbr\\u003eHappiness Rank: 79\\u003cbr\\u003eMismatch: 5\",\"line\":{\"color\":\"#1E88E5\",\"width\":2},\"mode\":\"lines+markers\",\"name\":\"Azerbaijan\",\"visible\":false,\"x\":[\"GDP Rank\",\"Happiness Rank\"],\"y\":[74,79],\"type\":\"scatter\"},{\"hoverinfo\":\"text\",\"hovertext\":\"Turkmenistan\\u003cbr\\u003eGDP Rank: 75\\u003cbr\\u003eHappiness Rank: 77\\u003cbr\\u003eMismatch: 2\",\"line\":{\"color\":\"#1E88E5\",\"width\":2},\"mode\":\"lines+markers\",\"name\":\"Turkmenistan\",\"visible\":false,\"x\":[\"GDP Rank\",\"Happiness Rank\"],\"y\":[75,77],\"type\":\"scatter\"},{\"hoverinfo\":\"text\",\"hovertext\":\"Jordan\\u003cbr\\u003eGDP Rank: 76\\u003cbr\\u003eHappiness Rank: 89\\u003cbr\\u003eMismatch: 13\",\"line\":{\"color\":\"#1E88E5\",\"width\":2},\"mode\":\"lines+markers\",\"name\":\"Jordan\",\"visible\":false,\"x\":[\"GDP Rank\",\"Happiness Rank\"],\"y\":[76,89],\"type\":\"scatter\"},{\"hoverinfo\":\"text\",\"hovertext\":\"Tunisia\\u003cbr\\u003eGDP Rank: 77\\u003cbr\\u003eHappiness Rank: 106\\u003cbr\\u003eMismatch: 29\",\"line\":{\"color\":\"#1E88E5\",\"width\":2},\"mode\":\"lines+markers\",\"name\":\"Tunisia\",\"visible\":false,\"x\":[\"GDP Rank\",\"Happiness Rank\"],\"y\":[77,106],\"type\":\"scatter\"},{\"hoverinfo\":\"text\",\"hovertext\":\"Bolivia\\u003cbr\\u003eGDP Rank: 78\\u003cbr\\u003eHappiness Rank: 56\\u003cbr\\u003eMismatch: 22\",\"line\":{\"color\":\"#1E88E5\",\"width\":2},\"mode\":\"lines+markers\",\"name\":\"Bolivia\",\"visible\":false,\"x\":[\"GDP Rank\",\"Happiness Rank\"],\"y\":[78,56],\"type\":\"scatter\"},{\"hoverinfo\":\"text\",\"hovertext\":\"Bahrain\\u003cbr\\u003eGDP Rank: 79\\u003cbr\\u003eHappiness Rank: 35\\u003cbr\\u003eMismatch: 44\",\"line\":{\"color\":\"#D81B60\",\"width\":2},\"mode\":\"lines+markers\",\"name\":\"Bahrain\",\"visible\":false,\"x\":[\"GDP Rank\",\"Happiness Rank\"],\"y\":[79,35],\"type\":\"scatter\"},{\"hoverinfo\":\"text\",\"hovertext\":\"Cameroon\\u003cbr\\u003eGDP Rank: 80\\u003cbr\\u003eHappiness Rank: 85\\u003cbr\\u003eMismatch: 5\",\"line\":{\"color\":\"#1E88E5\",\"width\":2},\"mode\":\"lines+markers\",\"name\":\"Cameroon\",\"visible\":false,\"x\":[\"GDP Rank\",\"Happiness Rank\"],\"y\":[80,85],\"type\":\"scatter\"},{\"hoverinfo\":\"text\",\"hovertext\":\"Paraguay\\u003cbr\\u003eGDP Rank: 81\\u003cbr\\u003eHappiness Rank: 58\\u003cbr\\u003eMismatch: 23\",\"line\":{\"color\":\"#1E88E5\",\"width\":2},\"mode\":\"lines+markers\",\"name\":\"Paraguay\",\"visible\":false,\"x\":[\"GDP Rank\",\"Happiness Rank\"],\"y\":[81,58],\"type\":\"scatter\"},{\"hoverinfo\":\"text\",\"hovertext\":\"Cambodia\\u003cbr\\u003eGDP Rank: 82\\u003cbr\\u003eHappiness Rank: 94\\u003cbr\\u003eMismatch: 12\",\"line\":{\"color\":\"#1E88E5\",\"width\":2},\"mode\":\"lines+markers\",\"name\":\"Cambodia\",\"visible\":false,\"x\":[\"GDP Rank\",\"Happiness Rank\"],\"y\":[82,94],\"type\":\"scatter\"},{\"hoverinfo\":\"text\",\"hovertext\":\"Uganda\\u003cbr\\u003eGDP Rank: 83\\u003cbr\\u003eHappiness Rank: 116\\u003cbr\\u003eMismatch: 33\",\"line\":{\"color\":\"#D81B60\",\"width\":2},\"mode\":\"lines+markers\",\"name\":\"Uganda\",\"visible\":false,\"x\":[\"GDP Rank\",\"Happiness Rank\"],\"y\":[83,116],\"type\":\"scatter\"},{\"hoverinfo\":\"text\",\"hovertext\":\"Nepal\\u003cbr\\u003eGDP Rank: 84\\u003cbr\\u003eHappiness Rank: 88\\u003cbr\\u003eMismatch: 4\",\"line\":{\"color\":\"#1E88E5\",\"width\":2},\"mode\":\"lines+markers\",\"name\":\"Nepal\",\"visible\":false,\"x\":[\"GDP Rank\",\"Happiness Rank\"],\"y\":[84,88],\"type\":\"scatter\"},{\"hoverinfo\":\"text\",\"hovertext\":\"Latvia\\u003cbr\\u003eGDP Rank: 85\\u003cbr\\u003eHappiness Rank: 49\\u003cbr\\u003eMismatch: 36\",\"line\":{\"color\":\"#D81B60\",\"width\":2},\"mode\":\"lines+markers\",\"name\":\"Latvia\",\"visible\":false,\"x\":[\"GDP Rank\",\"Happiness Rank\"],\"y\":[85,49],\"type\":\"scatter\"},{\"hoverinfo\":\"text\",\"hovertext\":\"Estonia\\u003cbr\\u003eGDP Rank: 86\\u003cbr\\u003eHappiness Rank: 50\\u003cbr\\u003eMismatch: 36\",\"line\":{\"color\":\"#D81B60\",\"width\":2},\"mode\":\"lines+markers\",\"name\":\"Estonia\",\"visible\":false,\"x\":[\"GDP Rank\",\"Happiness Rank\"],\"y\":[86,50],\"type\":\"scatter\"},{\"hoverinfo\":\"text\",\"hovertext\":\"El Salvador\\u003cbr\\u003eGDP Rank: 87\\u003cbr\\u003eHappiness Rank: 33\\u003cbr\\u003eMismatch: 54\",\"line\":{\"color\":\"#D81B60\",\"width\":2},\"mode\":\"lines+markers\",\"name\":\"El Salvador\",\"visible\":false,\"x\":[\"GDP Rank\",\"Happiness Rank\"],\"y\":[87,33],\"type\":\"scatter\"},{\"hoverinfo\":\"text\",\"hovertext\":\"Cyprus\\u003cbr\\u003eGDP Rank: 88\\u003cbr\\u003eHappiness Rank: 45\\u003cbr\\u003eMismatch: 43\",\"line\":{\"color\":\"#D81B60\",\"width\":2},\"mode\":\"lines+markers\",\"name\":\"Cyprus\",\"visible\":false,\"x\":[\"GDP Rank\",\"Happiness Rank\"],\"y\":[88,45],\"type\":\"scatter\"},{\"hoverinfo\":\"text\",\"hovertext\":\"Zimbabwe\\u003cbr\\u003eGDP Rank: 89\\u003cbr\\u003eHappiness Rank: 125\\u003cbr\\u003eMismatch: 36\",\"line\":{\"color\":\"#D81B60\",\"width\":2},\"mode\":\"lines+markers\",\"name\":\"Zimbabwe\",\"visible\":false,\"x\":[\"GDP Rank\",\"Happiness Rank\"],\"y\":[89,125],\"type\":\"scatter\"},{\"hoverinfo\":\"text\",\"hovertext\":\"Honduras\\u003cbr\\u003eGDP Rank: 90\\u003cbr\\u003eHappiness Rank: 54\\u003cbr\\u003eMismatch: 36\",\"line\":{\"color\":\"#D81B60\",\"width\":2},\"mode\":\"lines+markers\",\"name\":\"Honduras\",\"visible\":false,\"x\":[\"GDP Rank\",\"Happiness Rank\"],\"y\":[90,54],\"type\":\"scatter\"},{\"hoverinfo\":\"text\",\"hovertext\":\"Iceland\\u003cbr\\u003eGDP Rank: 91\\u003cbr\\u003eHappiness Rank: 4\\u003cbr\\u003eMismatch: 87\",\"line\":{\"color\":\"#D81B60\",\"width\":2},\"mode\":\"lines+markers\",\"name\":\"Iceland\",\"visible\":false,\"x\":[\"GDP Rank\",\"Happiness Rank\"],\"y\":[91,4],\"type\":\"scatter\"},{\"hoverinfo\":\"text\",\"hovertext\":\"Senegal\\u003cbr\\u003eGDP Rank: 92\\u003cbr\\u003eHappiness Rank: 95\\u003cbr\\u003eMismatch: 3\",\"line\":{\"color\":\"#1E88E5\",\"width\":2},\"mode\":\"lines+markers\",\"name\":\"Senegal\",\"visible\":false,\"x\":[\"GDP Rank\",\"Happiness Rank\"],\"y\":[92,95],\"type\":\"scatter\"},{\"hoverinfo\":\"text\",\"hovertext\":\"Zambia\\u003cbr\\u003eGDP Rank: 93\\u003cbr\\u003eHappiness Rank: 117\\u003cbr\\u003eMismatch: 24\",\"line\":{\"color\":\"#1E88E5\",\"width\":2},\"mode\":\"lines+markers\",\"name\":\"Zambia\",\"visible\":false,\"x\":[\"GDP Rank\",\"Happiness Rank\"],\"y\":[93,117],\"type\":\"scatter\"},{\"hoverinfo\":\"text\",\"hovertext\":\"Bosnia and Herzegovina\\u003cbr\\u003eGDP Rank: 94\\u003cbr\\u003eHappiness Rank: 70\\u003cbr\\u003eMismatch: 24\",\"line\":{\"color\":\"#1E88E5\",\"width\":2},\"mode\":\"lines+markers\",\"name\":\"Bosnia and Herzegovina\",\"visible\":false,\"x\":[\"GDP Rank\",\"Happiness Rank\"],\"y\":[94,70],\"type\":\"scatter\"},{\"hoverinfo\":\"text\",\"hovertext\":\"Afghanistan\\u003cbr\\u003eGDP Rank: 95\\u003cbr\\u003eHappiness Rank: 131\\u003cbr\\u003eMismatch: 36\",\"line\":{\"color\":\"#D81B60\",\"width\":2},\"mode\":\"lines+markers\",\"name\":\"Afghanistan\",\"visible\":false,\"x\":[\"GDP Rank\",\"Happiness Rank\"],\"y\":[95,131],\"type\":\"scatter\"},{\"hoverinfo\":\"text\",\"hovertext\":\"Georgia\\u003cbr\\u003eGDP Rank: 96\\u003cbr\\u003eHappiness Rank: 102\\u003cbr\\u003eMismatch: 6\",\"line\":{\"color\":\"#1E88E5\",\"width\":2},\"mode\":\"lines+markers\",\"name\":\"Georgia\",\"visible\":false,\"x\":[\"GDP Rank\",\"Happiness Rank\"],\"y\":[96,102],\"type\":\"scatter\"},{\"hoverinfo\":\"text\",\"hovertext\":\"Mali\\u003cbr\\u003eGDP Rank: 97\\u003cbr\\u003eHappiness Rank: 109\\u003cbr\\u003eMismatch: 12\",\"line\":{\"color\":\"#1E88E5\",\"width\":2},\"mode\":\"lines+markers\",\"name\":\"Mali\",\"visible\":false,\"x\":[\"GDP Rank\",\"Happiness Rank\"],\"y\":[97,109],\"type\":\"scatter\"},{\"hoverinfo\":\"text\",\"hovertext\":\"Gabon\\u003cbr\\u003eGDP Rank: 98\\u003cbr\\u003eHappiness Rank: 91\\u003cbr\\u003eMismatch: 7\",\"line\":{\"color\":\"#1E88E5\",\"width\":2},\"mode\":\"lines+markers\",\"name\":\"Gabon\",\"visible\":false,\"x\":[\"GDP Rank\",\"Happiness Rank\"],\"y\":[98,91],\"type\":\"scatter\"},{\"hoverinfo\":\"text\",\"hovertext\":\"Botswana\\u003cbr\\u003eGDP Rank: 99\\u003cbr\\u003eHappiness Rank: 127\\u003cbr\\u003eMismatch: 28\",\"line\":{\"color\":\"#1E88E5\",\"width\":2},\"mode\":\"lines+markers\",\"name\":\"Botswana\",\"visible\":false,\"x\":[\"GDP Rank\",\"Happiness Rank\"],\"y\":[99,127],\"type\":\"scatter\"},{\"hoverinfo\":\"text\",\"hovertext\":\"Malta\\u003cbr\\u003eGDP Rank: 100\\u003cbr\\u003eHappiness Rank: 21\\u003cbr\\u003eMismatch: 79\",\"line\":{\"color\":\"#D81B60\",\"width\":2},\"mode\":\"lines+markers\",\"name\":\"Malta\",\"visible\":false,\"x\":[\"GDP Rank\",\"Happiness Rank\"],\"y\":[100,21],\"type\":\"scatter\"},{\"hoverinfo\":\"text\",\"hovertext\":\"Burkina Faso\\u003cbr\\u003eGDP Rank: 101\\u003cbr\\u003eHappiness Rank: 99\\u003cbr\\u003eMismatch: 2\",\"line\":{\"color\":\"#1E88E5\",\"width\":2},\"mode\":\"lines+markers\",\"name\":\"Burkina Faso\",\"visible\":false,\"x\":[\"GDP Rank\",\"Happiness Rank\"],\"y\":[101,99],\"type\":\"scatter\"},{\"hoverinfo\":\"text\",\"hovertext\":\"Jamaica\\u003cbr\\u003eGDP Rank: 102\\u003cbr\\u003eHappiness Rank: 51\\u003cbr\\u003eMismatch: 51\",\"line\":{\"color\":\"#D81B60\",\"width\":2},\"mode\":\"lines+markers\",\"name\":\"Jamaica\",\"visible\":false,\"x\":[\"GDP Rank\",\"Happiness Rank\"],\"y\":[102,51],\"type\":\"scatter\"},{\"hoverinfo\":\"text\",\"hovertext\":\"Albania\\u003cbr\\u003eGDP Rank: 103\\u003cbr\\u003eHappiness Rank: 93\\u003cbr\\u003eMismatch: 10\",\"line\":{\"color\":\"#1E88E5\",\"width\":2},\"mode\":\"lines+markers\",\"name\":\"Albania\",\"visible\":false,\"x\":[\"GDP Rank\",\"Happiness Rank\"],\"y\":[103,93],\"type\":\"scatter\"},{\"hoverinfo\":\"text\",\"hovertext\":\"Mozambique\\u003cbr\\u003eGDP Rank: 104\\u003cbr\\u003eHappiness Rank: 105\\u003cbr\\u003eMismatch: 1\",\"line\":{\"color\":\"#1E88E5\",\"width\":2},\"mode\":\"lines+markers\",\"name\":\"Mozambique\",\"visible\":false,\"x\":[\"GDP Rank\",\"Happiness Rank\"],\"y\":[104,105],\"type\":\"scatter\"},{\"hoverinfo\":\"text\",\"hovertext\":\"Haiti\\u003cbr\\u003eGDP Rank: 105\\u003cbr\\u003eHappiness Rank: 126\\u003cbr\\u003eMismatch: 21\",\"line\":{\"color\":\"#1E88E5\",\"width\":2},\"mode\":\"lines+markers\",\"name\":\"Haiti\",\"visible\":false,\"x\":[\"GDP Rank\",\"Happiness Rank\"],\"y\":[105,126],\"type\":\"scatter\"},{\"hoverinfo\":\"text\",\"hovertext\":\"Mauritius\\u003cbr\\u003eGDP Rank: 106\\u003cbr\\u003eHappiness Rank: 52\\u003cbr\\u003eMismatch: 54\",\"line\":{\"color\":\"#D81B60\",\"width\":2},\"mode\":\"lines+markers\",\"name\":\"Mauritius\",\"visible\":false,\"x\":[\"GDP Rank\",\"Happiness Rank\"],\"y\":[106,52],\"type\":\"scatter\"},{\"hoverinfo\":\"text\",\"hovertext\":\"Benin\\u003cbr\\u003eGDP Rank: 107\\u003cbr\\u003eHappiness Rank: 90\\u003cbr\\u003eMismatch: 17\",\"line\":{\"color\":\"#1E88E5\",\"width\":2},\"mode\":\"lines+markers\",\"name\":\"Benin\",\"visible\":false,\"x\":[\"GDP Rank\",\"Happiness Rank\"],\"y\":[107,90],\"type\":\"scatter\"},{\"hoverinfo\":\"text\",\"hovertext\":\"Mongolia\\u003cbr\\u003eGDP Rank: 108\\u003cbr\\u003eHappiness Rank: 74\\u003cbr\\u003eMismatch: 34\",\"line\":{\"color\":\"#D81B60\",\"width\":2},\"mode\":\"lines+markers\",\"name\":\"Mongolia\",\"visible\":false,\"x\":[\"GDP Rank\",\"Happiness Rank\"],\"y\":[108,74],\"type\":\"scatter\"},{\"hoverinfo\":\"text\",\"hovertext\":\"Madagascar\\u003cbr\\u003eGDP Rank: 109\\u003cbr\\u003eHappiness Rank: 122\\u003cbr\\u003eMismatch: 13\",\"line\":{\"color\":\"#1E88E5\",\"width\":2},\"mode\":\"lines+markers\",\"name\":\"Madagascar\",\"visible\":false,\"x\":[\"GDP Rank\",\"Happiness Rank\"],\"y\":[109,122],\"type\":\"scatter\"},{\"hoverinfo\":\"text\",\"hovertext\":\"Armenia\\u003cbr\\u003eGDP Rank: 110\\u003cbr\\u003eHappiness Rank: 100\\u003cbr\\u003eMismatch: 10\",\"line\":{\"color\":\"#1E88E5\",\"width\":2},\"mode\":\"lines+markers\",\"name\":\"Armenia\",\"visible\":false,\"x\":[\"GDP Rank\",\"Happiness Rank\"],\"y\":[110,100],\"type\":\"scatter\"},{\"hoverinfo\":\"text\",\"hovertext\":\"Guinea\\u003cbr\\u003eGDP Rank: 111\\u003cbr\\u003eHappiness Rank: 101\\u003cbr\\u003eMismatch: 10\",\"line\":{\"color\":\"#1E88E5\",\"width\":2},\"mode\":\"lines+markers\",\"name\":\"Guinea\",\"visible\":false,\"x\":[\"GDP Rank\",\"Happiness Rank\"],\"y\":[111,101],\"type\":\"scatter\"},{\"hoverinfo\":\"text\",\"hovertext\":\"Niger\\u003cbr\\u003eGDP Rank: 112\\u003cbr\\u003eHappiness Rank: 98\\u003cbr\\u003eMismatch: 14\",\"line\":{\"color\":\"#1E88E5\",\"width\":2},\"mode\":\"lines+markers\",\"name\":\"Niger\",\"visible\":false,\"x\":[\"GDP Rank\",\"Happiness Rank\"],\"y\":[112,98],\"type\":\"scatter\"},{\"hoverinfo\":\"text\",\"hovertext\":\"Nicaragua\\u003cbr\\u003eGDP Rank: 113\\u003cbr\\u003eHappiness Rank: 41\\u003cbr\\u003eMismatch: 72\",\"line\":{\"color\":\"#D81B60\",\"width\":2},\"mode\":\"lines+markers\",\"name\":\"Nicaragua\",\"visible\":false,\"x\":[\"GDP Rank\",\"Happiness Rank\"],\"y\":[113,41],\"type\":\"scatter\"},{\"hoverinfo\":\"text\",\"hovertext\":\"North Macedonia\\u003cbr\\u003eGDP Rank: 114\\u003cbr\\u003eHappiness Rank: 75\\u003cbr\\u003eMismatch: 39\",\"line\":{\"color\":\"#D81B60\",\"width\":2},\"mode\":\"lines+markers\",\"name\":\"North Macedonia\",\"visible\":false,\"x\":[\"GDP Rank\",\"Happiness Rank\"],\"y\":[114,75],\"type\":\"scatter\"},{\"hoverinfo\":\"text\",\"hovertext\":\"Namibia\\u003cbr\\u003eGDP Rank: 115\\u003cbr\\u003eHappiness Rank: 97\\u003cbr\\u003eMismatch: 18\",\"line\":{\"color\":\"#1E88E5\",\"width\":2},\"mode\":\"lines+markers\",\"name\":\"Namibia\",\"visible\":false,\"x\":[\"GDP Rank\",\"Happiness Rank\"],\"y\":[115,97],\"type\":\"scatter\"},{\"hoverinfo\":\"text\",\"hovertext\":\"Moldova\\u003cbr\\u003eGDP Rank: 116\\u003cbr\\u003eHappiness Rank: 64\\u003cbr\\u003eMismatch: 52\",\"line\":{\"color\":\"#D81B60\",\"width\":2},\"mode\":\"lines+markers\",\"name\":\"Moldova\",\"visible\":false,\"x\":[\"GDP Rank\",\"Happiness Rank\"],\"y\":[116,64],\"type\":\"scatter\"},{\"hoverinfo\":\"text\",\"hovertext\":\"Chad\\u003cbr\\u003eGDP Rank: 117\\u003cbr\\u003eHappiness Rank: 113\\u003cbr\\u003eMismatch: 4\",\"line\":{\"color\":\"#1E88E5\",\"width\":2},\"mode\":\"lines+markers\",\"name\":\"Chad\",\"visible\":false,\"x\":[\"GDP Rank\",\"Happiness Rank\"],\"y\":[117,113],\"type\":\"scatter\"},{\"hoverinfo\":\"text\",\"hovertext\":\"Malawi\\u003cbr\\u003eGDP Rank: 118\\u003cbr\\u003eHappiness Rank: 128\\u003cbr\\u003eMismatch: 10\",\"line\":{\"color\":\"#1E88E5\",\"width\":2},\"mode\":\"lines+markers\",\"name\":\"Malawi\",\"visible\":false,\"x\":[\"GDP Rank\",\"Happiness Rank\"],\"y\":[118,128],\"type\":\"scatter\"},{\"hoverinfo\":\"text\",\"hovertext\":\"Rwanda\\u003cbr\\u003eGDP Rank: 119\\u003cbr\\u003eHappiness Rank: 129\\u003cbr\\u003eMismatch: 10\",\"line\":{\"color\":\"#1E88E5\",\"width\":2},\"mode\":\"lines+markers\",\"name\":\"Rwanda\",\"visible\":false,\"x\":[\"GDP Rank\",\"Happiness Rank\"],\"y\":[119,129],\"type\":\"scatter\"},{\"hoverinfo\":\"text\",\"hovertext\":\"Somalia\\u003cbr\\u003eGDP Rank: 120\\u003cbr\\u003eHappiness Rank: 96\\u003cbr\\u003eMismatch: 24\",\"line\":{\"color\":\"#1E88E5\",\"width\":2},\"mode\":\"lines+markers\",\"name\":\"Somalia\",\"visible\":false,\"x\":[\"GDP Rank\",\"Happiness Rank\"],\"y\":[120,96],\"type\":\"scatter\"},{\"hoverinfo\":\"text\",\"hovertext\":\"Tajikistan\\u003cbr\\u003eGDP Rank: 121\\u003cbr\\u003eHappiness Rank: 67\\u003cbr\\u003eMismatch: 54\",\"line\":{\"color\":\"#D81B60\",\"width\":2},\"mode\":\"lines+markers\",\"name\":\"Tajikistan\",\"visible\":false,\"x\":[\"GDP Rank\",\"Happiness Rank\"],\"y\":[121,67],\"type\":\"scatter\"},{\"hoverinfo\":\"text\",\"hovertext\":\"Kosovo\\u003cbr\\u003eGDP Rank: 122\\u003cbr\\u003eHappiness Rank: 42\\u003cbr\\u003eMismatch: 80\",\"line\":{\"color\":\"#D81B60\",\"width\":2},\"mode\":\"lines+markers\",\"name\":\"Kosovo\",\"visible\":false,\"x\":[\"GDP Rank\",\"Happiness Rank\"],\"y\":[122,42],\"type\":\"scatter\"},{\"hoverinfo\":\"text\",\"hovertext\":\"Mauritania\\u003cbr\\u003eGDP Rank: 123\\u003cbr\\u003eHappiness Rank: 104\\u003cbr\\u003eMismatch: 19\",\"line\":{\"color\":\"#1E88E5\",\"width\":2},\"mode\":\"lines+markers\",\"name\":\"Mauritania\",\"visible\":false,\"x\":[\"GDP Rank\",\"Happiness Rank\"],\"y\":[123,104],\"type\":\"scatter\"},{\"hoverinfo\":\"text\",\"hovertext\":\"Togo\\u003cbr\\u003eGDP Rank: 124\\u003cbr\\u003eHappiness Rank: 118\\u003cbr\\u003eMismatch: 6\",\"line\":{\"color\":\"#1E88E5\",\"width\":2},\"mode\":\"lines+markers\",\"name\":\"Togo\",\"visible\":false,\"x\":[\"GDP Rank\",\"Happiness Rank\"],\"y\":[124,118],\"type\":\"scatter\"},{\"hoverinfo\":\"text\",\"hovertext\":\"Sierra Leone\\u003cbr\\u003eGDP Rank: 125\\u003cbr\\u003eHappiness Rank: 110\\u003cbr\\u003eMismatch: 15\",\"line\":{\"color\":\"#1E88E5\",\"width\":2},\"mode\":\"lines+markers\",\"name\":\"Sierra Leone\",\"visible\":false,\"x\":[\"GDP Rank\",\"Happiness Rank\"],\"y\":[125,110],\"type\":\"scatter\"},{\"hoverinfo\":\"text\",\"hovertext\":\"Montenegro\\u003cbr\\u003eGDP Rank: 126\\u003cbr\\u003eHappiness Rank: 66\\u003cbr\\u003eMismatch: 60\",\"line\":{\"color\":\"#D81B60\",\"width\":2},\"mode\":\"lines+markers\",\"name\":\"Montenegro\",\"visible\":false,\"x\":[\"GDP Rank\",\"Happiness Rank\"],\"y\":[126,66],\"type\":\"scatter\"},{\"hoverinfo\":\"text\",\"hovertext\":\"Liberia\\u003cbr\\u003eGDP Rank: 127\\u003cbr\\u003eHappiness Rank: 120\\u003cbr\\u003eMismatch: 7\",\"line\":{\"color\":\"#1E88E5\",\"width\":2},\"mode\":\"lines+markers\",\"name\":\"Liberia\",\"visible\":false,\"x\":[\"GDP Rank\",\"Happiness Rank\"],\"y\":[127,120],\"type\":\"scatter\"},{\"hoverinfo\":\"text\",\"hovertext\":\"Bhutan\\u003cbr\\u003eGDP Rank: 128\\u003cbr\\u003eHappiness Rank: 84\\u003cbr\\u003eMismatch: 44\",\"line\":{\"color\":\"#D81B60\",\"width\":2},\"mode\":\"lines+markers\",\"name\":\"Bhutan\",\"visible\":false,\"x\":[\"GDP Rank\",\"Happiness Rank\"],\"y\":[128,84],\"type\":\"scatter\"},{\"hoverinfo\":\"text\",\"hovertext\":\"Burundi\\u003cbr\\u003eGDP Rank: 129\\u003cbr\\u003eHappiness Rank: 124\\u003cbr\\u003eMismatch: 5\",\"line\":{\"color\":\"#1E88E5\",\"width\":2},\"mode\":\"lines+markers\",\"name\":\"Burundi\",\"visible\":false,\"x\":[\"GDP Rank\",\"Happiness Rank\"],\"y\":[129,124],\"type\":\"scatter\"},{\"hoverinfo\":\"text\",\"hovertext\":\"Lesotho\\u003cbr\\u003eGDP Rank: 130\\u003cbr\\u003eHappiness Rank: 123\\u003cbr\\u003eMismatch: 7\",\"line\":{\"color\":\"#1E88E5\",\"width\":2},\"mode\":\"lines+markers\",\"name\":\"Lesotho\",\"visible\":false,\"x\":[\"GDP Rank\",\"Happiness Rank\"],\"y\":[130,123],\"type\":\"scatter\"},{\"hoverinfo\":\"text\",\"hovertext\":\"Central African Republic\\u003cbr\\u003eGDP Rank: 131\\u003cbr\\u003eHappiness Rank: 132\\u003cbr\\u003eMismatch: 1\",\"line\":{\"color\":\"#1E88E5\",\"width\":2},\"mode\":\"lines+markers\",\"name\":\"Central African Republic\",\"visible\":false,\"x\":[\"GDP Rank\",\"Happiness Rank\"],\"y\":[131,132],\"type\":\"scatter\"},{\"hoverinfo\":\"text\",\"hovertext\":\"Comoros\\u003cbr\\u003eGDP Rank: 132\\u003cbr\\u003eHappiness Rank: 121\\u003cbr\\u003eMismatch: 11\",\"line\":{\"color\":\"#1E88E5\",\"width\":2},\"mode\":\"lines+markers\",\"name\":\"Comoros\",\"visible\":false,\"x\":[\"GDP Rank\",\"Happiness Rank\"],\"y\":[132,121],\"type\":\"scatter\"},{\"hoverinfo\":\"text\",\"hovertext\":\"United States\\u003cbr\\u003eGNI Rank: 1\\u003cbr\\u003eHappiness Rank: 19\\u003cbr\\u003eMismatch: 18\",\"line\":{\"color\":\"#1E88E5\",\"width\":2},\"mode\":\"lines+markers\",\"name\":\"United States\",\"visible\":false,\"x\":[\"GNI Rank\",\"Happiness Rank\"],\"y\":[1,19],\"type\":\"scatter\"},{\"hoverinfo\":\"text\",\"hovertext\":\"China\\u003cbr\\u003eGNI Rank: 2\\u003cbr\\u003eHappiness Rank: 83\\u003cbr\\u003eMismatch: 81\",\"line\":{\"color\":\"#D81B60\",\"width\":2},\"mode\":\"lines+markers\",\"name\":\"China\",\"visible\":false,\"x\":[\"GNI Rank\",\"Happiness Rank\"],\"y\":[2,83],\"type\":\"scatter\"},{\"hoverinfo\":\"text\",\"hovertext\":\"Japan\\u003cbr\\u003eGNI Rank: 3\\u003cbr\\u003eHappiness Rank: 53\\u003cbr\\u003eMismatch: 50\",\"line\":{\"color\":\"#D81B60\",\"width\":2},\"mode\":\"lines+markers\",\"name\":\"Japan\",\"visible\":false,\"x\":[\"GNI Rank\",\"Happiness Rank\"],\"y\":[3,53],\"type\":\"scatter\"},{\"hoverinfo\":\"text\",\"hovertext\":\"Germany\\u003cbr\\u003eGNI Rank: 4\\u003cbr\\u003eHappiness Rank: 17\\u003cbr\\u003eMismatch: 13\",\"line\":{\"color\":\"#1E88E5\",\"width\":2},\"mode\":\"lines+markers\",\"name\":\"Germany\",\"visible\":false,\"x\":[\"GNI Rank\",\"Happiness Rank\"],\"y\":[4,17],\"type\":\"scatter\"},{\"hoverinfo\":\"text\",\"hovertext\":\"United Kingdom\\u003cbr\\u003eGNI Rank: 5\\u003cbr\\u003eHappiness Rank: 15\\u003cbr\\u003eMismatch: 10\",\"line\":{\"color\":\"#1E88E5\",\"width\":2},\"mode\":\"lines+markers\",\"name\":\"United Kingdom\",\"visible\":false,\"x\":[\"GNI Rank\",\"Happiness Rank\"],\"y\":[5,15],\"type\":\"scatter\"},{\"hoverinfo\":\"text\",\"hovertext\":\"India\\u003cbr\\u003eGNI Rank: 6\\u003cbr\\u003eHappiness Rank: 119\\u003cbr\\u003eMismatch: 113\",\"line\":{\"color\":\"#D81B60\",\"width\":2},\"mode\":\"lines+markers\",\"name\":\"India\",\"visible\":false,\"x\":[\"GNI Rank\",\"Happiness Rank\"],\"y\":[6,119],\"type\":\"scatter\"},{\"hoverinfo\":\"text\",\"hovertext\":\"France\\u003cbr\\u003eGNI Rank: 7\\u003cbr\\u003eHappiness Rank: 23\\u003cbr\\u003eMismatch: 16\",\"line\":{\"color\":\"#1E88E5\",\"width\":2},\"mode\":\"lines+markers\",\"name\":\"France\",\"visible\":false,\"x\":[\"GNI Rank\",\"Happiness Rank\"],\"y\":[7,23],\"type\":\"scatter\"},{\"hoverinfo\":\"text\",\"hovertext\":\"Italy\\u003cbr\\u003eGNI Rank: 8\\u003cbr\\u003eHappiness Rank: 34\\u003cbr\\u003eMismatch: 26\",\"line\":{\"color\":\"#1E88E5\",\"width\":2},\"mode\":\"lines+markers\",\"name\":\"Italy\",\"visible\":false,\"x\":[\"GNI Rank\",\"Happiness Rank\"],\"y\":[8,34],\"type\":\"scatter\"},{\"hoverinfo\":\"text\",\"hovertext\":\"Brazil\\u003cbr\\u003eGNI Rank: 9\\u003cbr\\u003eHappiness Rank: 30\\u003cbr\\u003eMismatch: 21\",\"line\":{\"color\":\"#1E88E5\",\"width\":2},\"mode\":\"lines+markers\",\"name\":\"Brazil\",\"visible\":false,\"x\":[\"GNI Rank\",\"Happiness Rank\"],\"y\":[9,30],\"type\":\"scatter\"},{\"hoverinfo\":\"text\",\"hovertext\":\"Canada\\u003cbr\\u003eGNI Rank: 10\\u003cbr\\u003eHappiness Rank: 9\\u003cbr\\u003eMismatch: 1\",\"line\":{\"color\":\"#1E88E5\",\"width\":2},\"mode\":\"lines+markers\",\"name\":\"Canada\",\"visible\":false,\"x\":[\"GNI Rank\",\"Happiness Rank\"],\"y\":[10,9],\"type\":\"scatter\"},{\"hoverinfo\":\"text\",\"hovertext\":\"Spain\\u003cbr\\u003eGNI Rank: 11\\u003cbr\\u003eHappiness Rank: 28\\u003cbr\\u003eMismatch: 17\",\"line\":{\"color\":\"#1E88E5\",\"width\":2},\"mode\":\"lines+markers\",\"name\":\"Spain\",\"visible\":false,\"x\":[\"GNI Rank\",\"Happiness Rank\"],\"y\":[11,28],\"type\":\"scatter\"},{\"hoverinfo\":\"text\",\"hovertext\":\"Australia\\u003cbr\\u003eGNI Rank: 12\\u003cbr\\u003eHappiness Rank: 11\\u003cbr\\u003eMismatch: 1\",\"line\":{\"color\":\"#1E88E5\",\"width\":2},\"mode\":\"lines+markers\",\"name\":\"Australia\",\"visible\":false,\"x\":[\"GNI Rank\",\"Happiness Rank\"],\"y\":[12,11],\"type\":\"scatter\"},{\"hoverinfo\":\"text\",\"hovertext\":\"Mexico\\u003cbr\\u003eGNI Rank: 13\\u003cbr\\u003eHappiness Rank: 22\\u003cbr\\u003eMismatch: 9\",\"line\":{\"color\":\"#1E88E5\",\"width\":2},\"mode\":\"lines+markers\",\"name\":\"Mexico\",\"visible\":false,\"x\":[\"GNI Rank\",\"Happiness Rank\"],\"y\":[13,22],\"type\":\"scatter\"},{\"hoverinfo\":\"text\",\"hovertext\":\"Indonesia\\u003cbr\\u003eGNI Rank: 14\\u003cbr\\u003eHappiness Rank: 82\\u003cbr\\u003eMismatch: 68\",\"line\":{\"color\":\"#D81B60\",\"width\":2},\"mode\":\"lines+markers\",\"name\":\"Indonesia\",\"visible\":false,\"x\":[\"GNI Rank\",\"Happiness Rank\"],\"y\":[14,82],\"type\":\"scatter\"},{\"hoverinfo\":\"text\",\"hovertext\":\"Netherlands\\u003cbr\\u003eGNI Rank: 15\\u003cbr\\u003eHappiness Rank: 5\\u003cbr\\u003eMismatch: 10\",\"line\":{\"color\":\"#1E88E5\",\"width\":2},\"mode\":\"lines+markers\",\"name\":\"Netherlands\",\"visible\":false,\"x\":[\"GNI Rank\",\"Happiness Rank\"],\"y\":[15,5],\"type\":\"scatter\"},{\"hoverinfo\":\"text\",\"hovertext\":\"Saudi Arabia\\u003cbr\\u003eGNI Rank: 16\\u003cbr\\u003eHappiness Rank: 26\\u003cbr\\u003eMismatch: 10\",\"line\":{\"color\":\"#1E88E5\",\"width\":2},\"mode\":\"lines+markers\",\"name\":\"Saudi Arabia\",\"visible\":false,\"x\":[\"GNI Rank\",\"Happiness Rank\"],\"y\":[16,26],\"type\":\"scatter\"},{\"hoverinfo\":\"text\",\"hovertext\":\"Switzerland\\u003cbr\\u003eGNI Rank: 17\\u003cbr\\u003eHappiness Rank: 6\\u003cbr\\u003eMismatch: 11\",\"line\":{\"color\":\"#1E88E5\",\"width\":2},\"mode\":\"lines+markers\",\"name\":\"Switzerland\",\"visible\":false,\"x\":[\"GNI Rank\",\"Happiness Rank\"],\"y\":[17,6],\"type\":\"scatter\"},{\"hoverinfo\":\"text\",\"hovertext\":\"Poland\\u003cbr\\u003eGNI Rank: 18\\u003cbr\\u003eHappiness Rank: 36\\u003cbr\\u003eMismatch: 18\",\"line\":{\"color\":\"#1E88E5\",\"width\":2},\"mode\":\"lines+markers\",\"name\":\"Poland\",\"visible\":false,\"x\":[\"GNI Rank\",\"Happiness Rank\"],\"y\":[18,36],\"type\":\"scatter\"},{\"hoverinfo\":\"text\",\"hovertext\":\"Sweden\\u003cbr\\u003eGNI Rank: 19\\u003cbr\\u003eHappiness Rank: 7\\u003cbr\\u003eMismatch: 12\",\"line\":{\"color\":\"#1E88E5\",\"width\":2},\"mode\":\"lines+markers\",\"name\":\"Sweden\",\"visible\":false,\"x\":[\"GNI Rank\",\"Happiness Rank\"],\"y\":[19,7],\"type\":\"scatter\"},{\"hoverinfo\":\"text\",\"hovertext\":\"Belgium\\u003cbr\\u003eGNI Rank: 20\\u003cbr\\u003eHappiness Rank: 18\\u003cbr\\u003eMismatch: 2\",\"line\":{\"color\":\"#1E88E5\",\"width\":2},\"mode\":\"lines+markers\",\"name\":\"Belgium\",\"visible\":false,\"x\":[\"GNI Rank\",\"Happiness Rank\"],\"y\":[20,18],\"type\":\"scatter\"},{\"hoverinfo\":\"text\",\"hovertext\":\"Thailand\\u003cbr\\u003eGNI Rank: 21\\u003cbr\\u003eHappiness Rank: 48\\u003cbr\\u003eMismatch: 27\",\"line\":{\"color\":\"#1E88E5\",\"width\":2},\"mode\":\"lines+markers\",\"name\":\"Thailand\",\"visible\":false,\"x\":[\"GNI Rank\",\"Happiness Rank\"],\"y\":[21,48],\"type\":\"scatter\"},{\"hoverinfo\":\"text\",\"hovertext\":\"Nigeria\\u003cbr\\u003eGNI Rank: 22\\u003cbr\\u003eHappiness Rank: 76\\u003cbr\\u003eMismatch: 54\",\"line\":{\"color\":\"#D81B60\",\"width\":2},\"mode\":\"lines+markers\",\"name\":\"Nigeria\",\"visible\":false,\"x\":[\"GNI Rank\",\"Happiness Rank\"],\"y\":[22,76],\"type\":\"scatter\"},{\"hoverinfo\":\"text\",\"hovertext\":\"Austria\\u003cbr\\u003eGNI Rank: 23\\u003cbr\\u003eHappiness Rank: 10\\u003cbr\\u003eMismatch: 13\",\"line\":{\"color\":\"#1E88E5\",\"width\":2},\"mode\":\"lines+markers\",\"name\":\"Austria\",\"visible\":false,\"x\":[\"GNI Rank\",\"Happiness Rank\"],\"y\":[23,10],\"type\":\"scatter\"},{\"hoverinfo\":\"text\",\"hovertext\":\"Argentina\\u003cbr\\u003eGNI Rank: 24\\u003cbr\\u003eHappiness Rank: 43\\u003cbr\\u003eMismatch: 19\",\"line\":{\"color\":\"#1E88E5\",\"width\":2},\"mode\":\"lines+markers\",\"name\":\"Argentina\",\"visible\":false,\"x\":[\"GNI Rank\",\"Happiness Rank\"],\"y\":[24,43],\"type\":\"scatter\"},{\"hoverinfo\":\"text\",\"hovertext\":\"Norway\\u003cbr\\u003eGNI Rank: 25\\u003cbr\\u003eHappiness Rank: 3\\u003cbr\\u003eMismatch: 22\",\"line\":{\"color\":\"#1E88E5\",\"width\":2},\"mode\":\"lines+markers\",\"name\":\"Norway\",\"visible\":false,\"x\":[\"GNI Rank\",\"Happiness Rank\"],\"y\":[25,3],\"type\":\"scatter\"},{\"hoverinfo\":\"text\",\"hovertext\":\"United Arab Emirates\\u003cbr\\u003eGNI Rank: 26\\u003cbr\\u003eHappiness Rank: 20\\u003cbr\\u003eMismatch: 6\",\"line\":{\"color\":\"#1E88E5\",\"width\":2},\"mode\":\"lines+markers\",\"name\":\"United Arab Emirates\",\"visible\":false,\"x\":[\"GNI Rank\",\"Happiness Rank\"],\"y\":[26,20],\"type\":\"scatter\"},{\"hoverinfo\":\"text\",\"hovertext\":\"Philippines\\u003cbr\\u003eGNI Rank: 27\\u003cbr\\u003eHappiness Rank: 62\\u003cbr\\u003eMismatch: 35\",\"line\":{\"color\":\"#D81B60\",\"width\":2},\"mode\":\"lines+markers\",\"name\":\"Philippines\",\"visible\":false,\"x\":[\"GNI Rank\",\"Happiness Rank\"],\"y\":[27,62],\"type\":\"scatter\"},{\"hoverinfo\":\"text\",\"hovertext\":\"Israel\\u003cbr\\u003eGNI Rank: 28\\u003cbr\\u003eHappiness Rank: 13\\u003cbr\\u003eMismatch: 15\",\"line\":{\"color\":\"#1E88E5\",\"width\":2},\"mode\":\"lines+markers\",\"name\":\"Israel\",\"visible\":false,\"x\":[\"GNI Rank\",\"Happiness Rank\"],\"y\":[28,13],\"type\":\"scatter\"},{\"hoverinfo\":\"text\",\"hovertext\":\"South Africa\\u003cbr\\u003eGNI Rank: 29\\u003cbr\\u003eHappiness Rank: 92\\u003cbr\\u003eMismatch: 63\",\"line\":{\"color\":\"#D81B60\",\"width\":2},\"mode\":\"lines+markers\",\"name\":\"South Africa\",\"visible\":false,\"x\":[\"GNI Rank\",\"Happiness Rank\"],\"y\":[29,92],\"type\":\"scatter\"},{\"hoverinfo\":\"text\",\"hovertext\":\"Bangladesh\\u003cbr\\u003eGNI Rank: 30\\u003cbr\\u003eHappiness Rank: 107\\u003cbr\\u003eMismatch: 77\",\"line\":{\"color\":\"#D81B60\",\"width\":2},\"mode\":\"lines+markers\",\"name\":\"Bangladesh\",\"visible\":false,\"x\":[\"GNI Rank\",\"Happiness Rank\"],\"y\":[30,107],\"type\":\"scatter\"},{\"hoverinfo\":\"text\",\"hovertext\":\"Malaysia\\u003cbr\\u003eGNI Rank: 31\\u003cbr\\u003eHappiness Rank: 71\\u003cbr\\u003eMismatch: 40\",\"line\":{\"color\":\"#D81B60\",\"width\":2},\"mode\":\"lines+markers\",\"name\":\"Malaysia\",\"visible\":false,\"x\":[\"GNI Rank\",\"Happiness Rank\"],\"y\":[31,71],\"type\":\"scatter\"},{\"hoverinfo\":\"text\",\"hovertext\":\"Denmark\\u003cbr\\u003eGNI Rank: 32\\u003cbr\\u003eHappiness Rank: 2\\u003cbr\\u003eMismatch: 30\",\"line\":{\"color\":\"#1E88E5\",\"width\":2},\"mode\":\"lines+markers\",\"name\":\"Denmark\",\"visible\":false,\"x\":[\"GNI Rank\",\"Happiness Rank\"],\"y\":[32,2],\"type\":\"scatter\"},{\"hoverinfo\":\"text\",\"hovertext\":\"Singapore\\u003cbr\\u003eGNI Rank: 33\\u003cbr\\u003eHappiness Rank: 32\\u003cbr\\u003eMismatch: 1\",\"line\":{\"color\":\"#1E88E5\",\"width\":2},\"mode\":\"lines+markers\",\"name\":\"Singapore\",\"visible\":false,\"x\":[\"GNI Rank\",\"Happiness Rank\"],\"y\":[33,32],\"type\":\"scatter\"},{\"hoverinfo\":\"text\",\"hovertext\":\"Colombia\\u003cbr\\u003eGNI Rank: 34\\u003cbr\\u003eHappiness Rank: 39\\u003cbr\\u003eMismatch: 5\",\"line\":{\"color\":\"#1E88E5\",\"width\":2},\"mode\":\"lines+markers\",\"name\":\"Colombia\",\"visible\":false,\"x\":[\"GNI Rank\",\"Happiness Rank\"],\"y\":[34,39],\"type\":\"scatter\"},{\"hoverinfo\":\"text\",\"hovertext\":\"Pakistan\\u003cbr\\u003eGNI Rank: 35\\u003cbr\\u003eHappiness Rank: 61\\u003cbr\\u003eMismatch: 26\",\"line\":{\"color\":\"#1E88E5\",\"width\":2},\"mode\":\"lines+markers\",\"name\":\"Pakistan\",\"visible\":false,\"x\":[\"GNI Rank\",\"Happiness Rank\"],\"y\":[35,61],\"type\":\"scatter\"},{\"hoverinfo\":\"text\",\"hovertext\":\"Ireland\\u003cbr\\u003eGNI Rank: 36\\u003cbr\\u003eHappiness Rank: 16\\u003cbr\\u003eMismatch: 20\",\"line\":{\"color\":\"#1E88E5\",\"width\":2},\"mode\":\"lines+markers\",\"name\":\"Ireland\",\"visible\":false,\"x\":[\"GNI Rank\",\"Happiness Rank\"],\"y\":[36,16],\"type\":\"scatter\"},{\"hoverinfo\":\"text\",\"hovertext\":\"Finland\\u003cbr\\u003eGNI Rank: 37\\u003cbr\\u003eHappiness Rank: 1\\u003cbr\\u003eMismatch: 36\",\"line\":{\"color\":\"#D81B60\",\"width\":2},\"mode\":\"lines+markers\",\"name\":\"Finland\",\"visible\":false,\"x\":[\"GNI Rank\",\"Happiness Rank\"],\"y\":[37,1],\"type\":\"scatter\"},{\"hoverinfo\":\"text\",\"hovertext\":\"Chile\\u003cbr\\u003eGNI Rank: 38\\u003cbr\\u003eHappiness Rank: 24\\u003cbr\\u003eMismatch: 14\",\"line\":{\"color\":\"#1E88E5\",\"width\":2},\"mode\":\"lines+markers\",\"name\":\"Chile\",\"visible\":false,\"x\":[\"GNI Rank\",\"Happiness Rank\"],\"y\":[38,24],\"type\":\"scatter\"},{\"hoverinfo\":\"text\",\"hovertext\":\"Romania\\u003cbr\\u003eGNI Rank: 39\\u003cbr\\u003eHappiness Rank: 44\\u003cbr\\u003eMismatch: 5\",\"line\":{\"color\":\"#1E88E5\",\"width\":2},\"mode\":\"lines+markers\",\"name\":\"Romania\",\"visible\":false,\"x\":[\"GNI Rank\",\"Happiness Rank\"],\"y\":[39,44],\"type\":\"scatter\"},{\"hoverinfo\":\"text\",\"hovertext\":\"Portugal\\u003cbr\\u003eGNI Rank: 40\\u003cbr\\u003eHappiness Rank: 60\\u003cbr\\u003eMismatch: 20\",\"line\":{\"color\":\"#1E88E5\",\"width\":2},\"mode\":\"lines+markers\",\"name\":\"Portugal\",\"visible\":false,\"x\":[\"GNI Rank\",\"Happiness Rank\"],\"y\":[40,60],\"type\":\"scatter\"},{\"hoverinfo\":\"text\",\"hovertext\":\"Iraq\\u003cbr\\u003eGNI Rank: 41\\u003cbr\\u003eHappiness Rank: 108\\u003cbr\\u003eMismatch: 67\",\"line\":{\"color\":\"#D81B60\",\"width\":2},\"mode\":\"lines+markers\",\"name\":\"Iraq\",\"visible\":false,\"x\":[\"GNI Rank\",\"Happiness Rank\"],\"y\":[41,108],\"type\":\"scatter\"},{\"hoverinfo\":\"text\",\"hovertext\":\"Peru\\u003cbr\\u003eGNI Rank: 42\\u003cbr\\u003eHappiness Rank: 59\\u003cbr\\u003eMismatch: 17\",\"line\":{\"color\":\"#1E88E5\",\"width\":2},\"mode\":\"lines+markers\",\"name\":\"Peru\",\"visible\":false,\"x\":[\"GNI Rank\",\"Happiness Rank\"],\"y\":[42,59],\"type\":\"scatter\"},{\"hoverinfo\":\"text\",\"hovertext\":\"New Zealand\\u003cbr\\u003eGNI Rank: 43\\u003cbr\\u003eHappiness Rank: 8\\u003cbr\\u003eMismatch: 35\",\"line\":{\"color\":\"#D81B60\",\"width\":2},\"mode\":\"lines+markers\",\"name\":\"New Zealand\",\"visible\":false,\"x\":[\"GNI Rank\",\"Happiness Rank\"],\"y\":[43,8],\"type\":\"scatter\"},{\"hoverinfo\":\"text\",\"hovertext\":\"Greece\\u003cbr\\u003eGNI Rank: 44\\u003cbr\\u003eHappiness Rank: 73\\u003cbr\\u003eMismatch: 29\",\"line\":{\"color\":\"#1E88E5\",\"width\":2},\"mode\":\"lines+markers\",\"name\":\"Greece\",\"visible\":false,\"x\":[\"GNI Rank\",\"Happiness Rank\"],\"y\":[44,73],\"type\":\"scatter\"},{\"hoverinfo\":\"text\",\"hovertext\":\"Algeria\\u003cbr\\u003eGNI Rank: 45\\u003cbr\\u003eHappiness Rank: 78\\u003cbr\\u003eMismatch: 33\",\"line\":{\"color\":\"#D81B60\",\"width\":2},\"mode\":\"lines+markers\",\"name\":\"Algeria\",\"visible\":false,\"x\":[\"GNI Rank\",\"Happiness Rank\"],\"y\":[45,78],\"type\":\"scatter\"},{\"hoverinfo\":\"text\",\"hovertext\":\"Qatar\\u003cbr\\u003eGNI Rank: 46\\u003cbr\\u003eHappiness Rank: 27\\u003cbr\\u003eMismatch: 19\",\"line\":{\"color\":\"#1E88E5\",\"width\":2},\"mode\":\"lines+markers\",\"name\":\"Qatar\",\"visible\":false,\"x\":[\"GNI Rank\",\"Happiness Rank\"],\"y\":[46,27],\"type\":\"scatter\"},{\"hoverinfo\":\"text\",\"hovertext\":\"Kuwait\\u003cbr\\u003eGNI Rank: 47\\u003cbr\\u003eHappiness Rank: 47\\u003cbr\\u003eMismatch: 0\",\"line\":{\"color\":\"#1E88E5\",\"width\":2},\"mode\":\"lines+markers\",\"name\":\"Kuwait\",\"visible\":false,\"x\":[\"GNI Rank\",\"Happiness Rank\"],\"y\":[47,47],\"type\":\"scatter\"},{\"hoverinfo\":\"text\",\"hovertext\":\"Hungary\\u003cbr\\u003eGNI Rank: 48\\u003cbr\\u003eHappiness Rank: 57\\u003cbr\\u003eMismatch: 9\",\"line\":{\"color\":\"#1E88E5\",\"width\":2},\"mode\":\"lines+markers\",\"name\":\"Hungary\",\"visible\":false,\"x\":[\"GNI Rank\",\"Happiness Rank\"],\"y\":[48,57],\"type\":\"scatter\"},{\"hoverinfo\":\"text\",\"hovertext\":\"Kazakhstan\\u003cbr\\u003eGNI Rank: 49\\u003cbr\\u003eHappiness Rank: 55\\u003cbr\\u003eMismatch: 6\",\"line\":{\"color\":\"#1E88E5\",\"width\":2},\"mode\":\"lines+markers\",\"name\":\"Kazakhstan\",\"visible\":false,\"x\":[\"GNI Rank\",\"Happiness Rank\"],\"y\":[49,55],\"type\":\"scatter\"},{\"hoverinfo\":\"text\",\"hovertext\":\"Ukraine\\u003cbr\\u003eGNI Rank: 50\\u003cbr\\u003eHappiness Rank: 114\\u003cbr\\u003eMismatch: 64\",\"line\":{\"color\":\"#D81B60\",\"width\":2},\"mode\":\"lines+markers\",\"name\":\"Ukraine\",\"visible\":false,\"x\":[\"GNI Rank\",\"Happiness Rank\"],\"y\":[50,114],\"type\":\"scatter\"},{\"hoverinfo\":\"text\",\"hovertext\":\"Morocco\\u003cbr\\u003eGNI Rank: 51\\u003cbr\\u003eHappiness Rank: 79\\u003cbr\\u003eMismatch: 28\",\"line\":{\"color\":\"#1E88E5\",\"width\":2},\"mode\":\"lines+markers\",\"name\":\"Morocco\",\"visible\":false,\"x\":[\"GNI Rank\",\"Happiness Rank\"],\"y\":[51,79],\"type\":\"scatter\"},{\"hoverinfo\":\"text\",\"hovertext\":\"Ecuador\\u003cbr\\u003eGNI Rank: 52\\u003cbr\\u003eHappiness Rank: 46\\u003cbr\\u003eMismatch: 6\",\"line\":{\"color\":\"#1E88E5\",\"width\":2},\"mode\":\"lines+markers\",\"name\":\"Ecuador\",\"visible\":false,\"x\":[\"GNI Rank\",\"Happiness Rank\"],\"y\":[52,46],\"type\":\"scatter\"},{\"hoverinfo\":\"text\",\"hovertext\":\"Kenya\\u003cbr\\u003eGNI Rank: 53\\u003cbr\\u003eHappiness Rank: 103\\u003cbr\\u003eMismatch: 50\",\"line\":{\"color\":\"#D81B60\",\"width\":2},\"mode\":\"lines+markers\",\"name\":\"Kenya\",\"visible\":false,\"x\":[\"GNI Rank\",\"Happiness Rank\"],\"y\":[53,103],\"type\":\"scatter\"},{\"hoverinfo\":\"text\",\"hovertext\":\"Ethiopia\\u003cbr\\u003eGNI Rank: 54\\u003cbr\\u003eHappiness Rank: 115\\u003cbr\\u003eMismatch: 61\",\"line\":{\"color\":\"#D81B60\",\"width\":2},\"mode\":\"lines+markers\",\"name\":\"Ethiopia\",\"visible\":false,\"x\":[\"GNI Rank\",\"Happiness Rank\"],\"y\":[54,115],\"type\":\"scatter\"},{\"hoverinfo\":\"text\",\"hovertext\":\"Sri Lanka\\u003cbr\\u003eGNI Rank: 55\\u003cbr\\u003eHappiness Rank: 111\\u003cbr\\u003eMismatch: 56\",\"line\":{\"color\":\"#D81B60\",\"width\":2},\"mode\":\"lines+markers\",\"name\":\"Sri Lanka\",\"visible\":false,\"x\":[\"GNI Rank\",\"Happiness Rank\"],\"y\":[55,111],\"type\":\"scatter\"},{\"hoverinfo\":\"text\",\"hovertext\":\"Dominican Republic\\u003cbr\\u003eGNI Rank: 56\\u003cbr\\u003eHappiness Rank: 69\\u003cbr\\u003eMismatch: 13\",\"line\":{\"color\":\"#1E88E5\",\"width\":2},\"mode\":\"lines+markers\",\"name\":\"Dominican Republic\",\"visible\":false,\"x\":[\"GNI Rank\",\"Happiness Rank\"],\"y\":[56,69],\"type\":\"scatter\"},{\"hoverinfo\":\"text\",\"hovertext\":\"Guatemala\\u003cbr\\u003eGNI Rank: 57\\u003cbr\\u003eHappiness Rank: 25\\u003cbr\\u003eMismatch: 32\",\"line\":{\"color\":\"#D81B60\",\"width\":2},\"mode\":\"lines+markers\",\"name\":\"Guatemala\",\"visible\":false,\"x\":[\"GNI Rank\",\"Happiness Rank\"],\"y\":[57,25],\"type\":\"scatter\"},{\"hoverinfo\":\"text\",\"hovertext\":\"Myanmar\\u003cbr\\u003eGNI Rank: 58\\u003cbr\\u003eHappiness Rank: 112\\u003cbr\\u003eMismatch: 54\",\"line\":{\"color\":\"#D81B60\",\"width\":2},\"mode\":\"lines+markers\",\"name\":\"Myanmar\",\"visible\":false,\"x\":[\"GNI Rank\",\"Happiness Rank\"],\"y\":[58,112],\"type\":\"scatter\"},{\"hoverinfo\":\"text\",\"hovertext\":\"Libya\\u003cbr\\u003eGNI Rank: 59\\u003cbr\\u003eHappiness Rank: 65\\u003cbr\\u003eMismatch: 6\",\"line\":{\"color\":\"#1E88E5\",\"width\":2},\"mode\":\"lines+markers\",\"name\":\"Libya\",\"visible\":false,\"x\":[\"GNI Rank\",\"Happiness Rank\"],\"y\":[59,65],\"type\":\"scatter\"},{\"hoverinfo\":\"text\",\"hovertext\":\"Uzbekistan\\u003cbr\\u003eGNI Rank: 60\\u003cbr\\u003eHappiness Rank: 37\\u003cbr\\u003eMismatch: 23\",\"line\":{\"color\":\"#1E88E5\",\"width\":2},\"mode\":\"lines+markers\",\"name\":\"Uzbekistan\",\"visible\":false,\"x\":[\"GNI Rank\",\"Happiness Rank\"],\"y\":[60,37],\"type\":\"scatter\"},{\"hoverinfo\":\"text\",\"hovertext\":\"Bulgaria\\u003cbr\\u003eGNI Rank: 61\\u003cbr\\u003eHappiness Rank: 86\\u003cbr\\u003eMismatch: 25\",\"line\":{\"color\":\"#1E88E5\",\"width\":2},\"mode\":\"lines+markers\",\"name\":\"Bulgaria\",\"visible\":false,\"x\":[\"GNI Rank\",\"Happiness Rank\"],\"y\":[61,86],\"type\":\"scatter\"},{\"hoverinfo\":\"text\",\"hovertext\":\"Ghana\\u003cbr\\u003eGNI Rank: 62\\u003cbr\\u003eHappiness Rank: 87\\u003cbr\\u003eMismatch: 25\",\"line\":{\"color\":\"#1E88E5\",\"width\":2},\"mode\":\"lines+markers\",\"name\":\"Ghana\",\"visible\":false,\"x\":[\"GNI Rank\",\"Happiness Rank\"],\"y\":[62,87],\"type\":\"scatter\"},{\"hoverinfo\":\"text\",\"hovertext\":\"Panama\\u003cbr\\u003eGNI Rank: 63\\u003cbr\\u003eHappiness Rank: 29\\u003cbr\\u003eMismatch: 34\",\"line\":{\"color\":\"#D81B60\",\"width\":2},\"mode\":\"lines+markers\",\"name\":\"Panama\",\"visible\":false,\"x\":[\"GNI Rank\",\"Happiness Rank\"],\"y\":[63,29],\"type\":\"scatter\"},{\"hoverinfo\":\"text\",\"hovertext\":\"Belarus\\u003cbr\\u003eGNI Rank: 64\\u003cbr\\u003eHappiness Rank: 72\\u003cbr\\u003eMismatch: 8\",\"line\":{\"color\":\"#1E88E5\",\"width\":2},\"mode\":\"lines+markers\",\"name\":\"Belarus\",\"visible\":false,\"x\":[\"GNI Rank\",\"Happiness Rank\"],\"y\":[64,72],\"type\":\"scatter\"},{\"hoverinfo\":\"text\",\"hovertext\":\"Croatia\\u003cbr\\u003eGNI Rank: 65\\u003cbr\\u003eHappiness Rank: 68\\u003cbr\\u003eMismatch: 3\",\"line\":{\"color\":\"#1E88E5\",\"width\":2},\"mode\":\"lines+markers\",\"name\":\"Croatia\",\"visible\":false,\"x\":[\"GNI Rank\",\"Happiness Rank\"],\"y\":[65,68],\"type\":\"scatter\"},{\"hoverinfo\":\"text\",\"hovertext\":\"Costa Rica\\u003cbr\\u003eGNI Rank: 66\\u003cbr\\u003eHappiness Rank: 12\\u003cbr\\u003eMismatch: 54\",\"line\":{\"color\":\"#D81B60\",\"width\":2},\"mode\":\"lines+markers\",\"name\":\"Costa Rica\",\"visible\":false,\"x\":[\"GNI Rank\",\"Happiness Rank\"],\"y\":[66,12],\"type\":\"scatter\"},{\"hoverinfo\":\"text\",\"hovertext\":\"Tanzania\\u003cbr\\u003eGNI Rank: 67\\u003cbr\\u003eHappiness Rank: 130\\u003cbr\\u003eMismatch: 63\",\"line\":{\"color\":\"#D81B60\",\"width\":2},\"mode\":\"lines+markers\",\"name\":\"Tanzania\",\"visible\":false,\"x\":[\"GNI Rank\",\"Happiness Rank\"],\"y\":[67,130],\"type\":\"scatter\"},{\"hoverinfo\":\"text\",\"hovertext\":\"Uruguay\\u003cbr\\u003eGNI Rank: 68\\u003cbr\\u003eHappiness Rank: 31\\u003cbr\\u003eMismatch: 37\",\"line\":{\"color\":\"#D81B60\",\"width\":2},\"mode\":\"lines+markers\",\"name\":\"Uruguay\",\"visible\":false,\"x\":[\"GNI Rank\",\"Happiness Rank\"],\"y\":[68,31],\"type\":\"scatter\"},{\"hoverinfo\":\"text\",\"hovertext\":\"Slovenia\\u003cbr\\u003eGNI Rank: 69\\u003cbr\\u003eHappiness Rank: 40\\u003cbr\\u003eMismatch: 29\",\"line\":{\"color\":\"#1E88E5\",\"width\":2},\"mode\":\"lines+markers\",\"name\":\"Slovenia\",\"visible\":false,\"x\":[\"GNI Rank\",\"Happiness Rank\"],\"y\":[69,40],\"type\":\"scatter\"},{\"hoverinfo\":\"text\",\"hovertext\":\"Lithuania\\u003cbr\\u003eGNI Rank: 70\\u003cbr\\u003eHappiness Rank: 38\\u003cbr\\u003eMismatch: 32\",\"line\":{\"color\":\"#D81B60\",\"width\":2},\"mode\":\"lines+markers\",\"name\":\"Lithuania\",\"visible\":false,\"x\":[\"GNI Rank\",\"Happiness Rank\"],\"y\":[70,38],\"type\":\"scatter\"},{\"hoverinfo\":\"text\",\"hovertext\":\"Serbia\\u003cbr\\u003eGNI Rank: 71\\u003cbr\\u003eHappiness Rank: 63\\u003cbr\\u003eMismatch: 8\",\"line\":{\"color\":\"#1E88E5\",\"width\":2},\"mode\":\"lines+markers\",\"name\":\"Serbia\",\"visible\":false,\"x\":[\"GNI Rank\",\"Happiness Rank\"],\"y\":[71,63],\"type\":\"scatter\"},{\"hoverinfo\":\"text\",\"hovertext\":\"Lebanon\\u003cbr\\u003eGNI Rank: 72\\u003cbr\\u003eHappiness Rank: 81\\u003cbr\\u003eMismatch: 9\",\"line\":{\"color\":\"#1E88E5\",\"width\":2},\"mode\":\"lines+markers\",\"name\":\"Lebanon\",\"visible\":false,\"x\":[\"GNI Rank\",\"Happiness Rank\"],\"y\":[72,81],\"type\":\"scatter\"},{\"hoverinfo\":\"text\",\"hovertext\":\"Luxembourg\\u003cbr\\u003eGNI Rank: 73\\u003cbr\\u003eHappiness Rank: 14\\u003cbr\\u003eMismatch: 59\",\"line\":{\"color\":\"#D81B60\",\"width\":2},\"mode\":\"lines+markers\",\"name\":\"Luxembourg\",\"visible\":false,\"x\":[\"GNI Rank\",\"Happiness Rank\"],\"y\":[73,14],\"type\":\"scatter\"},{\"hoverinfo\":\"text\",\"hovertext\":\"Azerbaijan\\u003cbr\\u003eGNI Rank: 74\\u003cbr\\u003eHappiness Rank: 79\\u003cbr\\u003eMismatch: 5\",\"line\":{\"color\":\"#1E88E5\",\"width\":2},\"mode\":\"lines+markers\",\"name\":\"Azerbaijan\",\"visible\":false,\"x\":[\"GNI Rank\",\"Happiness Rank\"],\"y\":[74,79],\"type\":\"scatter\"},{\"hoverinfo\":\"text\",\"hovertext\":\"Turkmenistan\\u003cbr\\u003eGNI Rank: 75\\u003cbr\\u003eHappiness Rank: 77\\u003cbr\\u003eMismatch: 2\",\"line\":{\"color\":\"#1E88E5\",\"width\":2},\"mode\":\"lines+markers\",\"name\":\"Turkmenistan\",\"visible\":false,\"x\":[\"GNI Rank\",\"Happiness Rank\"],\"y\":[75,77],\"type\":\"scatter\"},{\"hoverinfo\":\"text\",\"hovertext\":\"Jordan\\u003cbr\\u003eGNI Rank: 76\\u003cbr\\u003eHappiness Rank: 89\\u003cbr\\u003eMismatch: 13\",\"line\":{\"color\":\"#1E88E5\",\"width\":2},\"mode\":\"lines+markers\",\"name\":\"Jordan\",\"visible\":false,\"x\":[\"GNI Rank\",\"Happiness Rank\"],\"y\":[76,89],\"type\":\"scatter\"},{\"hoverinfo\":\"text\",\"hovertext\":\"Tunisia\\u003cbr\\u003eGNI Rank: 77\\u003cbr\\u003eHappiness Rank: 106\\u003cbr\\u003eMismatch: 29\",\"line\":{\"color\":\"#1E88E5\",\"width\":2},\"mode\":\"lines+markers\",\"name\":\"Tunisia\",\"visible\":false,\"x\":[\"GNI Rank\",\"Happiness Rank\"],\"y\":[77,106],\"type\":\"scatter\"},{\"hoverinfo\":\"text\",\"hovertext\":\"Bolivia\\u003cbr\\u003eGNI Rank: 78\\u003cbr\\u003eHappiness Rank: 56\\u003cbr\\u003eMismatch: 22\",\"line\":{\"color\":\"#1E88E5\",\"width\":2},\"mode\":\"lines+markers\",\"name\":\"Bolivia\",\"visible\":false,\"x\":[\"GNI Rank\",\"Happiness Rank\"],\"y\":[78,56],\"type\":\"scatter\"},{\"hoverinfo\":\"text\",\"hovertext\":\"Cameroon\\u003cbr\\u003eGNI Rank: 79\\u003cbr\\u003eHappiness Rank: 85\\u003cbr\\u003eMismatch: 6\",\"line\":{\"color\":\"#1E88E5\",\"width\":2},\"mode\":\"lines+markers\",\"name\":\"Cameroon\",\"visible\":false,\"x\":[\"GNI Rank\",\"Happiness Rank\"],\"y\":[79,85],\"type\":\"scatter\"},{\"hoverinfo\":\"text\",\"hovertext\":\"Bahrain\\u003cbr\\u003eGNI Rank: 80\\u003cbr\\u003eHappiness Rank: 35\\u003cbr\\u003eMismatch: 45\",\"line\":{\"color\":\"#D81B60\",\"width\":2},\"mode\":\"lines+markers\",\"name\":\"Bahrain\",\"visible\":false,\"x\":[\"GNI Rank\",\"Happiness Rank\"],\"y\":[80,35],\"type\":\"scatter\"},{\"hoverinfo\":\"text\",\"hovertext\":\"Paraguay\\u003cbr\\u003eGNI Rank: 81\\u003cbr\\u003eHappiness Rank: 58\\u003cbr\\u003eMismatch: 23\",\"line\":{\"color\":\"#1E88E5\",\"width\":2},\"mode\":\"lines+markers\",\"name\":\"Paraguay\",\"visible\":false,\"x\":[\"GNI Rank\",\"Happiness Rank\"],\"y\":[81,58],\"type\":\"scatter\"},{\"hoverinfo\":\"text\",\"hovertext\":\"Cambodia\\u003cbr\\u003eGNI Rank: 82\\u003cbr\\u003eHappiness Rank: 94\\u003cbr\\u003eMismatch: 12\",\"line\":{\"color\":\"#1E88E5\",\"width\":2},\"mode\":\"lines+markers\",\"name\":\"Cambodia\",\"visible\":false,\"x\":[\"GNI Rank\",\"Happiness Rank\"],\"y\":[82,94],\"type\":\"scatter\"},{\"hoverinfo\":\"text\",\"hovertext\":\"Nepal\\u003cbr\\u003eGNI Rank: 83\\u003cbr\\u003eHappiness Rank: 88\\u003cbr\\u003eMismatch: 5\",\"line\":{\"color\":\"#1E88E5\",\"width\":2},\"mode\":\"lines+markers\",\"name\":\"Nepal\",\"visible\":false,\"x\":[\"GNI Rank\",\"Happiness Rank\"],\"y\":[83,88],\"type\":\"scatter\"},{\"hoverinfo\":\"text\",\"hovertext\":\"Uganda\\u003cbr\\u003eGNI Rank: 84\\u003cbr\\u003eHappiness Rank: 116\\u003cbr\\u003eMismatch: 32\",\"line\":{\"color\":\"#D81B60\",\"width\":2},\"mode\":\"lines+markers\",\"name\":\"Uganda\",\"visible\":false,\"x\":[\"GNI Rank\",\"Happiness Rank\"],\"y\":[84,116],\"type\":\"scatter\"},{\"hoverinfo\":\"text\",\"hovertext\":\"Latvia\\u003cbr\\u003eGNI Rank: 85\\u003cbr\\u003eHappiness Rank: 49\\u003cbr\\u003eMismatch: 36\",\"line\":{\"color\":\"#D81B60\",\"width\":2},\"mode\":\"lines+markers\",\"name\":\"Latvia\",\"visible\":false,\"x\":[\"GNI Rank\",\"Happiness Rank\"],\"y\":[85,49],\"type\":\"scatter\"},{\"hoverinfo\":\"text\",\"hovertext\":\"Estonia\\u003cbr\\u003eGNI Rank: 86\\u003cbr\\u003eHappiness Rank: 50\\u003cbr\\u003eMismatch: 36\",\"line\":{\"color\":\"#D81B60\",\"width\":2},\"mode\":\"lines+markers\",\"name\":\"Estonia\",\"visible\":false,\"x\":[\"GNI Rank\",\"Happiness Rank\"],\"y\":[86,50],\"type\":\"scatter\"},{\"hoverinfo\":\"text\",\"hovertext\":\"El Salvador\\u003cbr\\u003eGNI Rank: 87\\u003cbr\\u003eHappiness Rank: 33\\u003cbr\\u003eMismatch: 54\",\"line\":{\"color\":\"#D81B60\",\"width\":2},\"mode\":\"lines+markers\",\"name\":\"El Salvador\",\"visible\":false,\"x\":[\"GNI Rank\",\"Happiness Rank\"],\"y\":[87,33],\"type\":\"scatter\"},{\"hoverinfo\":\"text\",\"hovertext\":\"Iceland\\u003cbr\\u003eGNI Rank: 88\\u003cbr\\u003eHappiness Rank: 4\\u003cbr\\u003eMismatch: 84\",\"line\":{\"color\":\"#D81B60\",\"width\":2},\"mode\":\"lines+markers\",\"name\":\"Iceland\",\"visible\":false,\"x\":[\"GNI Rank\",\"Happiness Rank\"],\"y\":[88,4],\"type\":\"scatter\"},{\"hoverinfo\":\"text\",\"hovertext\":\"Zimbabwe\\u003cbr\\u003eGNI Rank: 89\\u003cbr\\u003eHappiness Rank: 125\\u003cbr\\u003eMismatch: 36\",\"line\":{\"color\":\"#D81B60\",\"width\":2},\"mode\":\"lines+markers\",\"name\":\"Zimbabwe\",\"visible\":false,\"x\":[\"GNI Rank\",\"Happiness Rank\"],\"y\":[89,125],\"type\":\"scatter\"},{\"hoverinfo\":\"text\",\"hovertext\":\"Cyprus\\u003cbr\\u003eGNI Rank: 90\\u003cbr\\u003eHappiness Rank: 45\\u003cbr\\u003eMismatch: 45\",\"line\":{\"color\":\"#D81B60\",\"width\":2},\"mode\":\"lines+markers\",\"name\":\"Cyprus\",\"visible\":false,\"x\":[\"GNI Rank\",\"Happiness Rank\"],\"y\":[90,45],\"type\":\"scatter\"},{\"hoverinfo\":\"text\",\"hovertext\":\"Zambia\\u003cbr\\u003eGNI Rank: 91\\u003cbr\\u003eHappiness Rank: 117\\u003cbr\\u003eMismatch: 26\",\"line\":{\"color\":\"#1E88E5\",\"width\":2},\"mode\":\"lines+markers\",\"name\":\"Zambia\",\"visible\":false,\"x\":[\"GNI Rank\",\"Happiness Rank\"],\"y\":[91,117],\"type\":\"scatter\"},{\"hoverinfo\":\"text\",\"hovertext\":\"Honduras\\u003cbr\\u003eGNI Rank: 92\\u003cbr\\u003eHappiness Rank: 54\\u003cbr\\u003eMismatch: 38\",\"line\":{\"color\":\"#D81B60\",\"width\":2},\"mode\":\"lines+markers\",\"name\":\"Honduras\",\"visible\":false,\"x\":[\"GNI Rank\",\"Happiness Rank\"],\"y\":[92,54],\"type\":\"scatter\"},{\"hoverinfo\":\"text\",\"hovertext\":\"Senegal\\u003cbr\\u003eGNI Rank: 93\\u003cbr\\u003eHappiness Rank: 95\\u003cbr\\u003eMismatch: 2\",\"line\":{\"color\":\"#1E88E5\",\"width\":2},\"mode\":\"lines+markers\",\"name\":\"Senegal\",\"visible\":false,\"x\":[\"GNI Rank\",\"Happiness Rank\"],\"y\":[93,95],\"type\":\"scatter\"},{\"hoverinfo\":\"text\",\"hovertext\":\"Bosnia and Herzegovina\\u003cbr\\u003eGNI Rank: 94\\u003cbr\\u003eHappiness Rank: 70\\u003cbr\\u003eMismatch: 24\",\"line\":{\"color\":\"#1E88E5\",\"width\":2},\"mode\":\"lines+markers\",\"name\":\"Bosnia and Herzegovina\",\"visible\":false,\"x\":[\"GNI Rank\",\"Happiness Rank\"],\"y\":[94,70],\"type\":\"scatter\"},{\"hoverinfo\":\"text\",\"hovertext\":\"Afghanistan\\u003cbr\\u003eGNI Rank: 95\\u003cbr\\u003eHappiness Rank: 131\\u003cbr\\u003eMismatch: 36\",\"line\":{\"color\":\"#D81B60\",\"width\":2},\"mode\":\"lines+markers\",\"name\":\"Afghanistan\",\"visible\":false,\"x\":[\"GNI Rank\",\"Happiness Rank\"],\"y\":[95,131],\"type\":\"scatter\"},{\"hoverinfo\":\"text\",\"hovertext\":\"Georgia\\u003cbr\\u003eGNI Rank: 96\\u003cbr\\u003eHappiness Rank: 102\\u003cbr\\u003eMismatch: 6\",\"line\":{\"color\":\"#1E88E5\",\"width\":2},\"mode\":\"lines+markers\",\"name\":\"Georgia\",\"visible\":false,\"x\":[\"GNI Rank\",\"Happiness Rank\"],\"y\":[96,102],\"type\":\"scatter\"},{\"hoverinfo\":\"text\",\"hovertext\":\"Botswana\\u003cbr\\u003eGNI Rank: 97\\u003cbr\\u003eHappiness Rank: 127\\u003cbr\\u003eMismatch: 30\",\"line\":{\"color\":\"#1E88E5\",\"width\":2},\"mode\":\"lines+markers\",\"name\":\"Botswana\",\"visible\":false,\"x\":[\"GNI Rank\",\"Happiness Rank\"],\"y\":[97,127],\"type\":\"scatter\"},{\"hoverinfo\":\"text\",\"hovertext\":\"Mali\\u003cbr\\u003eGNI Rank: 98\\u003cbr\\u003eHappiness Rank: 109\\u003cbr\\u003eMismatch: 11\",\"line\":{\"color\":\"#1E88E5\",\"width\":2},\"mode\":\"lines+markers\",\"name\":\"Mali\",\"visible\":false,\"x\":[\"GNI Rank\",\"Happiness Rank\"],\"y\":[98,109],\"type\":\"scatter\"},{\"hoverinfo\":\"text\",\"hovertext\":\"Gabon\\u003cbr\\u003eGNI Rank: 99\\u003cbr\\u003eHappiness Rank: 91\\u003cbr\\u003eMismatch: 8\",\"line\":{\"color\":\"#1E88E5\",\"width\":2},\"mode\":\"lines+markers\",\"name\":\"Gabon\",\"visible\":false,\"x\":[\"GNI Rank\",\"Happiness Rank\"],\"y\":[99,91],\"type\":\"scatter\"},{\"hoverinfo\":\"text\",\"hovertext\":\"Jamaica\\u003cbr\\u003eGNI Rank: 100\\u003cbr\\u003eHappiness Rank: 51\\u003cbr\\u003eMismatch: 49\",\"line\":{\"color\":\"#D81B60\",\"width\":2},\"mode\":\"lines+markers\",\"name\":\"Jamaica\",\"visible\":false,\"x\":[\"GNI Rank\",\"Happiness Rank\"],\"y\":[100,51],\"type\":\"scatter\"},{\"hoverinfo\":\"text\",\"hovertext\":\"Albania\\u003cbr\\u003eGNI Rank: 101\\u003cbr\\u003eHappiness Rank: 93\\u003cbr\\u003eMismatch: 8\",\"line\":{\"color\":\"#1E88E5\",\"width\":2},\"mode\":\"lines+markers\",\"name\":\"Albania\",\"visible\":false,\"x\":[\"GNI Rank\",\"Happiness Rank\"],\"y\":[101,93],\"type\":\"scatter\"},{\"hoverinfo\":\"text\",\"hovertext\":\"Burkina Faso\\u003cbr\\u003eGNI Rank: 102\\u003cbr\\u003eHappiness Rank: 99\\u003cbr\\u003eMismatch: 3\",\"line\":{\"color\":\"#1E88E5\",\"width\":2},\"mode\":\"lines+markers\",\"name\":\"Burkina Faso\",\"visible\":false,\"x\":[\"GNI Rank\",\"Happiness Rank\"],\"y\":[102,99],\"type\":\"scatter\"},{\"hoverinfo\":\"text\",\"hovertext\":\"Mozambique\\u003cbr\\u003eGNI Rank: 103\\u003cbr\\u003eHappiness Rank: 105\\u003cbr\\u003eMismatch: 2\",\"line\":{\"color\":\"#1E88E5\",\"width\":2},\"mode\":\"lines+markers\",\"name\":\"Mozambique\",\"visible\":false,\"x\":[\"GNI Rank\",\"Happiness Rank\"],\"y\":[103,105],\"type\":\"scatter\"},{\"hoverinfo\":\"text\",\"hovertext\":\"Mauritius\\u003cbr\\u003eGNI Rank: 104\\u003cbr\\u003eHappiness Rank: 52\\u003cbr\\u003eMismatch: 52\",\"line\":{\"color\":\"#D81B60\",\"width\":2},\"mode\":\"lines+markers\",\"name\":\"Mauritius\",\"visible\":false,\"x\":[\"GNI Rank\",\"Happiness Rank\"],\"y\":[104,52],\"type\":\"scatter\"},{\"hoverinfo\":\"text\",\"hovertext\":\"Haiti\\u003cbr\\u003eGNI Rank: 105\\u003cbr\\u003eHappiness Rank: 126\\u003cbr\\u003eMismatch: 21\",\"line\":{\"color\":\"#1E88E5\",\"width\":2},\"mode\":\"lines+markers\",\"name\":\"Haiti\",\"visible\":false,\"x\":[\"GNI Rank\",\"Happiness Rank\"],\"y\":[105,126],\"type\":\"scatter\"},{\"hoverinfo\":\"text\",\"hovertext\":\"Malta\\u003cbr\\u003eGNI Rank: 106\\u003cbr\\u003eHappiness Rank: 21\\u003cbr\\u003eMismatch: 85\",\"line\":{\"color\":\"#D81B60\",\"width\":2},\"mode\":\"lines+markers\",\"name\":\"Malta\",\"visible\":false,\"x\":[\"GNI Rank\",\"Happiness Rank\"],\"y\":[106,21],\"type\":\"scatter\"},{\"hoverinfo\":\"text\",\"hovertext\":\"Benin\\u003cbr\\u003eGNI Rank: 107\\u003cbr\\u003eHappiness Rank: 90\\u003cbr\\u003eMismatch: 17\",\"line\":{\"color\":\"#1E88E5\",\"width\":2},\"mode\":\"lines+markers\",\"name\":\"Benin\",\"visible\":false,\"x\":[\"GNI Rank\",\"Happiness Rank\"],\"y\":[107,90],\"type\":\"scatter\"},{\"hoverinfo\":\"text\",\"hovertext\":\"Armenia\\u003cbr\\u003eGNI Rank: 108\\u003cbr\\u003eHappiness Rank: 100\\u003cbr\\u003eMismatch: 8\",\"line\":{\"color\":\"#1E88E5\",\"width\":2},\"mode\":\"lines+markers\",\"name\":\"Armenia\",\"visible\":false,\"x\":[\"GNI Rank\",\"Happiness Rank\"],\"y\":[108,100],\"type\":\"scatter\"},{\"hoverinfo\":\"text\",\"hovertext\":\"Madagascar\\u003cbr\\u003eGNI Rank: 109\\u003cbr\\u003eHappiness Rank: 122\\u003cbr\\u003eMismatch: 13\",\"line\":{\"color\":\"#1E88E5\",\"width\":2},\"mode\":\"lines+markers\",\"name\":\"Madagascar\",\"visible\":false,\"x\":[\"GNI Rank\",\"Happiness Rank\"],\"y\":[109,122],\"type\":\"scatter\"},{\"hoverinfo\":\"text\",\"hovertext\":\"Niger\\u003cbr\\u003eGNI Rank: 110\\u003cbr\\u003eHappiness Rank: 98\\u003cbr\\u003eMismatch: 12\",\"line\":{\"color\":\"#1E88E5\",\"width\":2},\"mode\":\"lines+markers\",\"name\":\"Niger\",\"visible\":false,\"x\":[\"GNI Rank\",\"Happiness Rank\"],\"y\":[110,98],\"type\":\"scatter\"},{\"hoverinfo\":\"text\",\"hovertext\":\"Guinea\\u003cbr\\u003eGNI Rank: 111\\u003cbr\\u003eHappiness Rank: 101\\u003cbr\\u003eMismatch: 10\",\"line\":{\"color\":\"#1E88E5\",\"width\":2},\"mode\":\"lines+markers\",\"name\":\"Guinea\",\"visible\":false,\"x\":[\"GNI Rank\",\"Happiness Rank\"],\"y\":[111,101],\"type\":\"scatter\"},{\"hoverinfo\":\"text\",\"hovertext\":\"Mongolia\\u003cbr\\u003eGNI Rank: 112\\u003cbr\\u003eHappiness Rank: 74\\u003cbr\\u003eMismatch: 38\",\"line\":{\"color\":\"#D81B60\",\"width\":2},\"mode\":\"lines+markers\",\"name\":\"Mongolia\",\"visible\":false,\"x\":[\"GNI Rank\",\"Happiness Rank\"],\"y\":[112,74],\"type\":\"scatter\"},{\"hoverinfo\":\"text\",\"hovertext\":\"Moldova\\u003cbr\\u003eGNI Rank: 113\\u003cbr\\u003eHappiness Rank: 64\\u003cbr\\u003eMismatch: 49\",\"line\":{\"color\":\"#D81B60\",\"width\":2},\"mode\":\"lines+markers\",\"name\":\"Moldova\",\"visible\":false,\"x\":[\"GNI Rank\",\"Happiness Rank\"],\"y\":[113,64],\"type\":\"scatter\"},{\"hoverinfo\":\"text\",\"hovertext\":\"Namibia\\u003cbr\\u003eGNI Rank: 114\\u003cbr\\u003eHappiness Rank: 97\\u003cbr\\u003eMismatch: 17\",\"line\":{\"color\":\"#1E88E5\",\"width\":2},\"mode\":\"lines+markers\",\"name\":\"Namibia\",\"visible\":false,\"x\":[\"GNI Rank\",\"Happiness Rank\"],\"y\":[114,97],\"type\":\"scatter\"},{\"hoverinfo\":\"text\",\"hovertext\":\"Nicaragua\\u003cbr\\u003eGNI Rank: 115\\u003cbr\\u003eHappiness Rank: 41\\u003cbr\\u003eMismatch: 74\",\"line\":{\"color\":\"#D81B60\",\"width\":2},\"mode\":\"lines+markers\",\"name\":\"Nicaragua\",\"visible\":false,\"x\":[\"GNI Rank\",\"Happiness Rank\"],\"y\":[115,41],\"type\":\"scatter\"},{\"hoverinfo\":\"text\",\"hovertext\":\"North Macedonia\\u003cbr\\u003eGNI Rank: 116\\u003cbr\\u003eHappiness Rank: 75\\u003cbr\\u003eMismatch: 41\",\"line\":{\"color\":\"#D81B60\",\"width\":2},\"mode\":\"lines+markers\",\"name\":\"North Macedonia\",\"visible\":false,\"x\":[\"GNI Rank\",\"Happiness Rank\"],\"y\":[116,75],\"type\":\"scatter\"},{\"hoverinfo\":\"text\",\"hovertext\":\"Chad\\u003cbr\\u003eGNI Rank: 117\\u003cbr\\u003eHappiness Rank: 113\\u003cbr\\u003eMismatch: 4\",\"line\":{\"color\":\"#1E88E5\",\"width\":2},\"mode\":\"lines+markers\",\"name\":\"Chad\",\"visible\":false,\"x\":[\"GNI Rank\",\"Happiness Rank\"],\"y\":[117,113],\"type\":\"scatter\"},{\"hoverinfo\":\"text\",\"hovertext\":\"Malawi\\u003cbr\\u003eGNI Rank: 118\\u003cbr\\u003eHappiness Rank: 128\\u003cbr\\u003eMismatch: 10\",\"line\":{\"color\":\"#1E88E5\",\"width\":2},\"mode\":\"lines+markers\",\"name\":\"Malawi\",\"visible\":false,\"x\":[\"GNI Rank\",\"Happiness Rank\"],\"y\":[118,128],\"type\":\"scatter\"},{\"hoverinfo\":\"text\",\"hovertext\":\"Rwanda\\u003cbr\\u003eGNI Rank: 119\\u003cbr\\u003eHappiness Rank: 129\\u003cbr\\u003eMismatch: 10\",\"line\":{\"color\":\"#1E88E5\",\"width\":2},\"mode\":\"lines+markers\",\"name\":\"Rwanda\",\"visible\":false,\"x\":[\"GNI Rank\",\"Happiness Rank\"],\"y\":[119,129],\"type\":\"scatter\"},{\"hoverinfo\":\"text\",\"hovertext\":\"Tajikistan\\u003cbr\\u003eGNI Rank: 120\\u003cbr\\u003eHappiness Rank: 67\\u003cbr\\u003eMismatch: 53\",\"line\":{\"color\":\"#D81B60\",\"width\":2},\"mode\":\"lines+markers\",\"name\":\"Tajikistan\",\"visible\":false,\"x\":[\"GNI Rank\",\"Happiness Rank\"],\"y\":[120,67],\"type\":\"scatter\"},{\"hoverinfo\":\"text\",\"hovertext\":\"Somalia\\u003cbr\\u003eGNI Rank: 121\\u003cbr\\u003eHappiness Rank: 96\\u003cbr\\u003eMismatch: 25\",\"line\":{\"color\":\"#1E88E5\",\"width\":2},\"mode\":\"lines+markers\",\"name\":\"Somalia\",\"visible\":false,\"x\":[\"GNI Rank\",\"Happiness Rank\"],\"y\":[121,96],\"type\":\"scatter\"},{\"hoverinfo\":\"text\",\"hovertext\":\"Kosovo\\u003cbr\\u003eGNI Rank: 122\\u003cbr\\u003eHappiness Rank: 42\\u003cbr\\u003eMismatch: 80\",\"line\":{\"color\":\"#D81B60\",\"width\":2},\"mode\":\"lines+markers\",\"name\":\"Kosovo\",\"visible\":false,\"x\":[\"GNI Rank\",\"Happiness Rank\"],\"y\":[122,42],\"type\":\"scatter\"},{\"hoverinfo\":\"text\",\"hovertext\":\"Mauritania\\u003cbr\\u003eGNI Rank: 123\\u003cbr\\u003eHappiness Rank: 104\\u003cbr\\u003eMismatch: 19\",\"line\":{\"color\":\"#1E88E5\",\"width\":2},\"mode\":\"lines+markers\",\"name\":\"Mauritania\",\"visible\":false,\"x\":[\"GNI Rank\",\"Happiness Rank\"],\"y\":[123,104],\"type\":\"scatter\"},{\"hoverinfo\":\"text\",\"hovertext\":\"Togo\\u003cbr\\u003eGNI Rank: 124\\u003cbr\\u003eHappiness Rank: 118\\u003cbr\\u003eMismatch: 6\",\"line\":{\"color\":\"#1E88E5\",\"width\":2},\"mode\":\"lines+markers\",\"name\":\"Togo\",\"visible\":false,\"x\":[\"GNI Rank\",\"Happiness Rank\"],\"y\":[124,118],\"type\":\"scatter\"},{\"hoverinfo\":\"text\",\"hovertext\":\"Sierra Leone\\u003cbr\\u003eGNI Rank: 125\\u003cbr\\u003eHappiness Rank: 110\\u003cbr\\u003eMismatch: 15\",\"line\":{\"color\":\"#1E88E5\",\"width\":2},\"mode\":\"lines+markers\",\"name\":\"Sierra Leone\",\"visible\":false,\"x\":[\"GNI Rank\",\"Happiness Rank\"],\"y\":[125,110],\"type\":\"scatter\"},{\"hoverinfo\":\"text\",\"hovertext\":\"Montenegro\\u003cbr\\u003eGNI Rank: 126\\u003cbr\\u003eHappiness Rank: 66\\u003cbr\\u003eMismatch: 60\",\"line\":{\"color\":\"#D81B60\",\"width\":2},\"mode\":\"lines+markers\",\"name\":\"Montenegro\",\"visible\":false,\"x\":[\"GNI Rank\",\"Happiness Rank\"],\"y\":[126,66],\"type\":\"scatter\"},{\"hoverinfo\":\"text\",\"hovertext\":\"Liberia\\u003cbr\\u003eGNI Rank: 127\\u003cbr\\u003eHappiness Rank: 120\\u003cbr\\u003eMismatch: 7\",\"line\":{\"color\":\"#1E88E5\",\"width\":2},\"mode\":\"lines+markers\",\"name\":\"Liberia\",\"visible\":false,\"x\":[\"GNI Rank\",\"Happiness Rank\"],\"y\":[127,120],\"type\":\"scatter\"},{\"hoverinfo\":\"text\",\"hovertext\":\"Lesotho\\u003cbr\\u003eGNI Rank: 128\\u003cbr\\u003eHappiness Rank: 123\\u003cbr\\u003eMismatch: 5\",\"line\":{\"color\":\"#1E88E5\",\"width\":2},\"mode\":\"lines+markers\",\"name\":\"Lesotho\",\"visible\":false,\"x\":[\"GNI Rank\",\"Happiness Rank\"],\"y\":[128,123],\"type\":\"scatter\"},{\"hoverinfo\":\"text\",\"hovertext\":\"Burundi\\u003cbr\\u003eGNI Rank: 129\\u003cbr\\u003eHappiness Rank: 124\\u003cbr\\u003eMismatch: 5\",\"line\":{\"color\":\"#1E88E5\",\"width\":2},\"mode\":\"lines+markers\",\"name\":\"Burundi\",\"visible\":false,\"x\":[\"GNI Rank\",\"Happiness Rank\"],\"y\":[129,124],\"type\":\"scatter\"},{\"hoverinfo\":\"text\",\"hovertext\":\"Bhutan\\u003cbr\\u003eGNI Rank: 130\\u003cbr\\u003eHappiness Rank: 84\\u003cbr\\u003eMismatch: 46\",\"line\":{\"color\":\"#D81B60\",\"width\":2},\"mode\":\"lines+markers\",\"name\":\"Bhutan\",\"visible\":false,\"x\":[\"GNI Rank\",\"Happiness Rank\"],\"y\":[130,84],\"type\":\"scatter\"},{\"hoverinfo\":\"text\",\"hovertext\":\"Central African Republic\\u003cbr\\u003eGNI Rank: 131\\u003cbr\\u003eHappiness Rank: 132\\u003cbr\\u003eMismatch: 1\",\"line\":{\"color\":\"#1E88E5\",\"width\":2},\"mode\":\"lines+markers\",\"name\":\"Central African Republic\",\"visible\":false,\"x\":[\"GNI Rank\",\"Happiness Rank\"],\"y\":[131,132],\"type\":\"scatter\"},{\"hoverinfo\":\"text\",\"hovertext\":\"Comoros\\u003cbr\\u003eGNI Rank: 132\\u003cbr\\u003eHappiness Rank: 121\\u003cbr\\u003eMismatch: 11\",\"line\":{\"color\":\"#1E88E5\",\"width\":2},\"mode\":\"lines+markers\",\"name\":\"Comoros\",\"visible\":false,\"x\":[\"GNI Rank\",\"Happiness Rank\"],\"y\":[132,121],\"type\":\"scatter\"}],                        {\"template\":{\"data\":{\"histogram2dcontour\":[{\"type\":\"histogram2dcontour\",\"colorbar\":{\"outlinewidth\":0,\"ticks\":\"\"},\"colorscale\":[[0.0,\"#0d0887\"],[0.1111111111111111,\"#46039f\"],[0.2222222222222222,\"#7201a8\"],[0.3333333333333333,\"#9c179e\"],[0.4444444444444444,\"#bd3786\"],[0.5555555555555556,\"#d8576b\"],[0.6666666666666666,\"#ed7953\"],[0.7777777777777778,\"#fb9f3a\"],[0.8888888888888888,\"#fdca26\"],[1.0,\"#f0f921\"]]}],\"choropleth\":[{\"type\":\"choropleth\",\"colorbar\":{\"outlinewidth\":0,\"ticks\":\"\"}}],\"histogram2d\":[{\"type\":\"histogram2d\",\"colorbar\":{\"outlinewidth\":0,\"ticks\":\"\"},\"colorscale\":[[0.0,\"#0d0887\"],[0.1111111111111111,\"#46039f\"],[0.2222222222222222,\"#7201a8\"],[0.3333333333333333,\"#9c179e\"],[0.4444444444444444,\"#bd3786\"],[0.5555555555555556,\"#d8576b\"],[0.6666666666666666,\"#ed7953\"],[0.7777777777777778,\"#fb9f3a\"],[0.8888888888888888,\"#fdca26\"],[1.0,\"#f0f921\"]]}],\"heatmap\":[{\"type\":\"heatmap\",\"colorbar\":{\"outlinewidth\":0,\"ticks\":\"\"},\"colorscale\":[[0.0,\"#0d0887\"],[0.1111111111111111,\"#46039f\"],[0.2222222222222222,\"#7201a8\"],[0.3333333333333333,\"#9c179e\"],[0.4444444444444444,\"#bd3786\"],[0.5555555555555556,\"#d8576b\"],[0.6666666666666666,\"#ed7953\"],[0.7777777777777778,\"#fb9f3a\"],[0.8888888888888888,\"#fdca26\"],[1.0,\"#f0f921\"]]}],\"contourcarpet\":[{\"type\":\"contourcarpet\",\"colorbar\":{\"outlinewidth\":0,\"ticks\":\"\"}}],\"contour\":[{\"type\":\"contour\",\"colorbar\":{\"outlinewidth\":0,\"ticks\":\"\"},\"colorscale\":[[0.0,\"#0d0887\"],[0.1111111111111111,\"#46039f\"],[0.2222222222222222,\"#7201a8\"],[0.3333333333333333,\"#9c179e\"],[0.4444444444444444,\"#bd3786\"],[0.5555555555555556,\"#d8576b\"],[0.6666666666666666,\"#ed7953\"],[0.7777777777777778,\"#fb9f3a\"],[0.8888888888888888,\"#fdca26\"],[1.0,\"#f0f921\"]]}],\"surface\":[{\"type\":\"surface\",\"colorbar\":{\"outlinewidth\":0,\"ticks\":\"\"},\"colorscale\":[[0.0,\"#0d0887\"],[0.1111111111111111,\"#46039f\"],[0.2222222222222222,\"#7201a8\"],[0.3333333333333333,\"#9c179e\"],[0.4444444444444444,\"#bd3786\"],[0.5555555555555556,\"#d8576b\"],[0.6666666666666666,\"#ed7953\"],[0.7777777777777778,\"#fb9f3a\"],[0.8888888888888888,\"#fdca26\"],[1.0,\"#f0f921\"]]}],\"mesh3d\":[{\"type\":\"mesh3d\",\"colorbar\":{\"outlinewidth\":0,\"ticks\":\"\"}}],\"scatter\":[{\"fillpattern\":{\"fillmode\":\"overlay\",\"size\":10,\"solidity\":0.2},\"type\":\"scatter\"}],\"parcoords\":[{\"type\":\"parcoords\",\"line\":{\"colorbar\":{\"outlinewidth\":0,\"ticks\":\"\"}}}],\"scatterpolargl\":[{\"type\":\"scatterpolargl\",\"marker\":{\"colorbar\":{\"outlinewidth\":0,\"ticks\":\"\"}}}],\"bar\":[{\"error_x\":{\"color\":\"#2a3f5f\"},\"error_y\":{\"color\":\"#2a3f5f\"},\"marker\":{\"line\":{\"color\":\"#E5ECF6\",\"width\":0.5},\"pattern\":{\"fillmode\":\"overlay\",\"size\":10,\"solidity\":0.2}},\"type\":\"bar\"}],\"scattergeo\":[{\"type\":\"scattergeo\",\"marker\":{\"colorbar\":{\"outlinewidth\":0,\"ticks\":\"\"}}}],\"scatterpolar\":[{\"type\":\"scatterpolar\",\"marker\":{\"colorbar\":{\"outlinewidth\":0,\"ticks\":\"\"}}}],\"histogram\":[{\"marker\":{\"pattern\":{\"fillmode\":\"overlay\",\"size\":10,\"solidity\":0.2}},\"type\":\"histogram\"}],\"scattergl\":[{\"type\":\"scattergl\",\"marker\":{\"colorbar\":{\"outlinewidth\":0,\"ticks\":\"\"}}}],\"scatter3d\":[{\"type\":\"scatter3d\",\"line\":{\"colorbar\":{\"outlinewidth\":0,\"ticks\":\"\"}},\"marker\":{\"colorbar\":{\"outlinewidth\":0,\"ticks\":\"\"}}}],\"scattermap\":[{\"type\":\"scattermap\",\"marker\":{\"colorbar\":{\"outlinewidth\":0,\"ticks\":\"\"}}}],\"scattermapbox\":[{\"type\":\"scattermapbox\",\"marker\":{\"colorbar\":{\"outlinewidth\":0,\"ticks\":\"\"}}}],\"scatterternary\":[{\"type\":\"scatterternary\",\"marker\":{\"colorbar\":{\"outlinewidth\":0,\"ticks\":\"\"}}}],\"scattercarpet\":[{\"type\":\"scattercarpet\",\"marker\":{\"colorbar\":{\"outlinewidth\":0,\"ticks\":\"\"}}}],\"carpet\":[{\"aaxis\":{\"endlinecolor\":\"#2a3f5f\",\"gridcolor\":\"white\",\"linecolor\":\"white\",\"minorgridcolor\":\"white\",\"startlinecolor\":\"#2a3f5f\"},\"baxis\":{\"endlinecolor\":\"#2a3f5f\",\"gridcolor\":\"white\",\"linecolor\":\"white\",\"minorgridcolor\":\"white\",\"startlinecolor\":\"#2a3f5f\"},\"type\":\"carpet\"}],\"table\":[{\"cells\":{\"fill\":{\"color\":\"#EBF0F8\"},\"line\":{\"color\":\"white\"}},\"header\":{\"fill\":{\"color\":\"#C8D4E3\"},\"line\":{\"color\":\"white\"}},\"type\":\"table\"}],\"barpolar\":[{\"marker\":{\"line\":{\"color\":\"#E5ECF6\",\"width\":0.5},\"pattern\":{\"fillmode\":\"overlay\",\"size\":10,\"solidity\":0.2}},\"type\":\"barpolar\"}],\"pie\":[{\"automargin\":true,\"type\":\"pie\"}]},\"layout\":{\"autotypenumbers\":\"strict\",\"colorway\":[\"#636efa\",\"#EF553B\",\"#00cc96\",\"#ab63fa\",\"#FFA15A\",\"#19d3f3\",\"#FF6692\",\"#B6E880\",\"#FF97FF\",\"#FECB52\"],\"font\":{\"color\":\"#2a3f5f\"},\"hovermode\":\"closest\",\"hoverlabel\":{\"align\":\"left\"},\"paper_bgcolor\":\"white\",\"plot_bgcolor\":\"#E5ECF6\",\"polar\":{\"bgcolor\":\"#E5ECF6\",\"angularaxis\":{\"gridcolor\":\"white\",\"linecolor\":\"white\",\"ticks\":\"\"},\"radialaxis\":{\"gridcolor\":\"white\",\"linecolor\":\"white\",\"ticks\":\"\"}},\"ternary\":{\"bgcolor\":\"#E5ECF6\",\"aaxis\":{\"gridcolor\":\"white\",\"linecolor\":\"white\",\"ticks\":\"\"},\"baxis\":{\"gridcolor\":\"white\",\"linecolor\":\"white\",\"ticks\":\"\"},\"caxis\":{\"gridcolor\":\"white\",\"linecolor\":\"white\",\"ticks\":\"\"}},\"coloraxis\":{\"colorbar\":{\"outlinewidth\":0,\"ticks\":\"\"}},\"colorscale\":{\"sequential\":[[0.0,\"#0d0887\"],[0.1111111111111111,\"#46039f\"],[0.2222222222222222,\"#7201a8\"],[0.3333333333333333,\"#9c179e\"],[0.4444444444444444,\"#bd3786\"],[0.5555555555555556,\"#d8576b\"],[0.6666666666666666,\"#ed7953\"],[0.7777777777777778,\"#fb9f3a\"],[0.8888888888888888,\"#fdca26\"],[1.0,\"#f0f921\"]],\"sequentialminus\":[[0.0,\"#0d0887\"],[0.1111111111111111,\"#46039f\"],[0.2222222222222222,\"#7201a8\"],[0.3333333333333333,\"#9c179e\"],[0.4444444444444444,\"#bd3786\"],[0.5555555555555556,\"#d8576b\"],[0.6666666666666666,\"#ed7953\"],[0.7777777777777778,\"#fb9f3a\"],[0.8888888888888888,\"#fdca26\"],[1.0,\"#f0f921\"]],\"diverging\":[[0,\"#8e0152\"],[0.1,\"#c51b7d\"],[0.2,\"#de77ae\"],[0.3,\"#f1b6da\"],[0.4,\"#fde0ef\"],[0.5,\"#f7f7f7\"],[0.6,\"#e6f5d0\"],[0.7,\"#b8e186\"],[0.8,\"#7fbc41\"],[0.9,\"#4d9221\"],[1,\"#276419\"]]},\"xaxis\":{\"gridcolor\":\"white\",\"linecolor\":\"white\",\"ticks\":\"\",\"title\":{\"standoff\":15},\"zerolinecolor\":\"white\",\"automargin\":true,\"zerolinewidth\":2},\"yaxis\":{\"gridcolor\":\"white\",\"linecolor\":\"white\",\"ticks\":\"\",\"title\":{\"standoff\":15},\"zerolinecolor\":\"white\",\"automargin\":true,\"zerolinewidth\":2},\"scene\":{\"xaxis\":{\"backgroundcolor\":\"#E5ECF6\",\"gridcolor\":\"white\",\"linecolor\":\"white\",\"showbackground\":true,\"ticks\":\"\",\"zerolinecolor\":\"white\",\"gridwidth\":2},\"yaxis\":{\"backgroundcolor\":\"#E5ECF6\",\"gridcolor\":\"white\",\"linecolor\":\"white\",\"showbackground\":true,\"ticks\":\"\",\"zerolinecolor\":\"white\",\"gridwidth\":2},\"zaxis\":{\"backgroundcolor\":\"#E5ECF6\",\"gridcolor\":\"white\",\"linecolor\":\"white\",\"showbackground\":true,\"ticks\":\"\",\"zerolinecolor\":\"white\",\"gridwidth\":2}},\"shapedefaults\":{\"line\":{\"color\":\"#2a3f5f\"}},\"annotationdefaults\":{\"arrowcolor\":\"#2a3f5f\",\"arrowhead\":0,\"arrowwidth\":1},\"geo\":{\"bgcolor\":\"white\",\"landcolor\":\"#E5ECF6\",\"subunitcolor\":\"white\",\"showland\":true,\"showlakes\":true,\"lakecolor\":\"white\"},\"title\":{\"x\":0.05},\"mapbox\":{\"style\":\"light\"}}},\"yaxis\":{\"autorange\":\"reversed\"},\"margin\":{\"t\":80,\"b\":80,\"l\":80,\"r\":100},\"xaxis\":{\"title\":{\"text\":\"\"},\"tickvals\":[\"Gini Index Rank\",\"Happiness Rank\"]},\"sliders\":[{\"active\":0,\"currentvalue\":{\"prefix\":\"Metric: \"},\"len\":0.9,\"pad\":{\"t\":50},\"steps\":[{\"args\":[{\"visible\":[true,true,true,true,true,true,true,true,true,true,true,true,true,true,true,true,true,true,true,true,true,true,true,true,true,true,true,true,true,true,true,true,true,true,true,true,true,true,true,true,true,true,true,true,true,true,true,true,true,true,true,true,true,true,true,true,true,true,true,true,true,true,true,true,true,false,false,false,false,false,false,false,false,false,false,false,false,false,false,false,false,false,false,false,false,false,false,false,false,false,false,false,false,false,false,false,false,false,false,false,false,false,false,false,false,false,false,false,false,false,false,false,false,false,false,false,false,false,false,false,false,false,false,false,false,false,false,false,false,false,false,false,false,false,false,false,false,false,false,false,false,false,false,false,false,false,false,false,false,false,false,false,false,false,false,false,false,false,false,false,false,false,false,false,false,false,false,false,false,false,false,false,false,false,false,false,false,false,false,false,false,false,false,false,false,false,false,false,false,false,false,false,false,false,false,false,false,false,false,false,false,false,false,false,false,false,false,false,false,false,false,false,false,false,false,false,false,false,false,false,false,false,false,false,false,false,false,false,false,false,false,false,false,false,false,false,false,false,false,false,false,false,false,false,false,false,false,false,false,false,false,false,false,false,false,false,false,false,false,false,false,false,false,false,false,false,false,false,false,false,false,false,false,false,false,false,false,false,false,false,false,false,false,false,false,false,false,false,false,false,false,false,false,false,false,false,false,false,false,false,false,false,false,false,false,false,false,false,false,false,false,false,false,false,false,false,false,false,false,false,false,false,false,false,false,false,false,false,false]},{\"title\":\"Gini Index vs Happiness Rankings\",\"xaxis\":{\"title\":\"\",\"tickvals\":[\"Gini Index Rank\",\"Happiness Rank\"]},\"yaxis\":{\"title\":\"Rank (1 = Best)\",\"autorange\":\"reversed\"},\"annotations\":[{\"x\":1.05,\"y\":1.05,\"xref\":\"paper\",\"yref\":\"paper\",\"showarrow\":false,\"align\":\"left\",\"bgcolor\":\"#D81B60\",\"font\":{\"color\":\"white\",\"size\":12},\"text\":\"Mismatch \\u003e 20:\\u003cbr\\u003e\\u003cb\\u003e33\\u003c\\u002fb\\u003e\",\"bordercolor\":\"black\",\"borderwidth\":1}]}],\"label\":\"Gini Index\",\"method\":\"update\"},{\"args\":[{\"visible\":[false,false,false,false,false,false,false,false,false,false,false,false,false,false,false,false,false,false,false,false,false,false,false,false,false,false,false,false,false,false,false,false,false,false,false,false,false,false,false,false,false,false,false,false,false,false,false,false,false,false,false,false,false,false,false,false,false,false,false,false,false,false,false,false,false,true,true,true,true,true,true,true,true,true,true,true,true,true,true,true,true,true,true,true,true,true,true,true,true,true,true,true,true,true,true,true,true,true,true,true,true,true,true,true,true,true,true,true,true,true,true,true,true,true,true,true,true,true,true,true,true,true,true,true,true,true,true,true,true,true,true,true,true,true,true,true,true,true,true,true,true,true,true,true,true,true,true,true,true,true,true,true,true,true,true,true,true,true,true,true,true,true,true,true,true,true,true,true,true,true,true,true,true,true,true,true,true,true,true,true,true,true,true,true,true,true,true,true,true,true,true,true,true,true,true,true,true,false,false,false,false,false,false,false,false,false,false,false,false,false,false,false,false,false,false,false,false,false,false,false,false,false,false,false,false,false,false,false,false,false,false,false,false,false,false,false,false,false,false,false,false,false,false,false,false,false,false,false,false,false,false,false,false,false,false,false,false,false,false,false,false,false,false,false,false,false,false,false,false,false,false,false,false,false,false,false,false,false,false,false,false,false,false,false,false,false,false,false,false,false,false,false,false,false,false,false,false,false,false,false,false,false,false,false,false,false,false,false,false,false,false,false,false,false,false,false,false,false,false,false,false,false,false,false,false,false,false,false,false]},{\"title\":\"GDP vs Happiness Rankings\",\"xaxis\":{\"title\":\"\",\"tickvals\":[\"GDP Rank\",\"Happiness Rank\"]},\"yaxis\":{\"title\":\"Rank (1 = Best)\",\"autorange\":\"reversed\"},\"annotations\":[{\"x\":1.05,\"y\":1.05,\"xref\":\"paper\",\"yref\":\"paper\",\"showarrow\":false,\"align\":\"left\",\"bgcolor\":\"#D81B60\",\"font\":{\"color\":\"white\",\"size\":12},\"text\":\"Mismatch \\u003e 30:\\u003cbr\\u003e\\u003cb\\u003e48\\u003c\\u002fb\\u003e\",\"bordercolor\":\"black\",\"borderwidth\":1}]}],\"label\":\"GDP\",\"method\":\"update\"},{\"args\":[{\"visible\":[false,false,false,false,false,false,false,false,false,false,false,false,false,false,false,false,false,false,false,false,false,false,false,false,false,false,false,false,false,false,false,false,false,false,false,false,false,false,false,false,false,false,false,false,false,false,false,false,false,false,false,false,false,false,false,false,false,false,false,false,false,false,false,false,false,false,false,false,false,false,false,false,false,false,false,false,false,false,false,false,false,false,false,false,false,false,false,false,false,false,false,false,false,false,false,false,false,false,false,false,false,false,false,false,false,false,false,false,false,false,false,false,false,false,false,false,false,false,false,false,false,false,false,false,false,false,false,false,false,false,false,false,false,false,false,false,false,false,false,false,false,false,false,false,false,false,false,false,false,false,false,false,false,false,false,false,false,false,false,false,false,false,false,false,false,false,false,false,false,false,false,false,false,false,false,false,false,false,false,false,false,false,false,false,false,false,false,false,false,false,false,false,false,false,false,false,false,true,true,true,true,true,true,true,true,true,true,true,true,true,true,true,true,true,true,true,true,true,true,true,true,true,true,true,true,true,true,true,true,true,true,true,true,true,true,true,true,true,true,true,true,true,true,true,true,true,true,true,true,true,true,true,true,true,true,true,true,true,true,true,true,true,true,true,true,true,true,true,true,true,true,true,true,true,true,true,true,true,true,true,true,true,true,true,true,true,true,true,true,true,true,true,true,true,true,true,true,true,true,true,true,true,true,true,true,true,true,true,true,true,true,true,true,true,true,true,true,true,true,true,true,true,true,true,true,true,true,true,true]},{\"title\":\"GNI vs Happiness Rankings\",\"xaxis\":{\"title\":\"\",\"tickvals\":[\"GNI Rank\",\"Happiness Rank\"]},\"yaxis\":{\"title\":\"Rank (1 = Best)\",\"autorange\":\"reversed\"},\"annotations\":[{\"x\":1.05,\"y\":1.05,\"xref\":\"paper\",\"yref\":\"paper\",\"showarrow\":false,\"align\":\"left\",\"bgcolor\":\"#D81B60\",\"font\":{\"color\":\"white\",\"size\":12},\"text\":\"Mismatch \\u003e 30:\\u003cbr\\u003e\\u003cb\\u003e46\\u003c\\u002fb\\u003e\",\"bordercolor\":\"black\",\"borderwidth\":1}]}],\"label\":\"GNI\",\"method\":\"update\"}],\"x\":0.1,\"xanchor\":\"left\"}],\"showlegend\":false,\"height\":800,\"width\":950,\"title\":{\"text\":\"Gini Index vs Happiness Rankings\"},\"annotations\":[{\"align\":\"left\",\"bgcolor\":\"#D81B60\",\"bordercolor\":\"black\",\"borderwidth\":1,\"font\":{\"color\":\"white\",\"size\":12},\"showarrow\":false,\"text\":\"Mismatch \\u003e 20:\\u003cbr\\u003e\\u003cb\\u003e33\\u003c\\u002fb\\u003e\",\"x\":1.05,\"xref\":\"paper\",\"y\":1.05,\"yref\":\"paper\"}]},                        {\"responsive\": true}                    ).then(function(){\n",
       "                            \n",
       "var gd = document.getElementById('5190aa34-b33a-4190-b985-0649b5ea7cf1');\n",
       "var x = new MutationObserver(function (mutations, observer) {{\n",
       "        var display = window.getComputedStyle(gd).display;\n",
       "        if (!display || display === 'none') {{\n",
       "            console.log([gd, 'removed!']);\n",
       "            Plotly.purge(gd);\n",
       "            observer.disconnect();\n",
       "        }}\n",
       "}});\n",
       "\n",
       "// Listen for the removal of the full notebook cells\n",
       "var notebookContainer = gd.closest('#notebook-container');\n",
       "if (notebookContainer) {{\n",
       "    x.observe(notebookContainer, {childList: true});\n",
       "}}\n",
       "\n",
       "// Listen for the clearing of the current output cell\n",
       "var outputEl = gd.closest('.output');\n",
       "if (outputEl) {{\n",
       "    x.observe(outputEl, {childList: true});\n",
       "}}\n",
       "\n",
       "                        })                };            </script>        </div>"
      ]
     },
     "metadata": {},
     "output_type": "display_data"
    }
   ],
   "source": [
    "import pandas as pd\n",
    "import plotly.graph_objects as go\n",
    "\n",
    "df = pd.read_csv('final.csv')\n",
    "df['Country'] = df['Country'].str.strip()\n",
    "\n",
    "def prepare_rankings(df, metric_col, ascending_rank):\n",
    "    df_filtered = df.dropna(subset=[metric_col, 'Happiness']).copy()\n",
    "    df_filtered = df_filtered.sort_values(by=[metric_col, 'Country'], ascending=[ascending_rank, True])\n",
    "    df_filtered[f'{metric_col} Rank'] = df_filtered[metric_col].rank(method='first', ascending=ascending_rank).astype(int)\n",
    "    df_filtered['Happiness Rank'] = df_filtered['Happiness'].rank(method='min', ascending=False).astype(int)\n",
    "    df_filtered['Mismatch'] = (df_filtered[f'{metric_col} Rank'] - df_filtered['Happiness Rank']).abs()\n",
    "    return df_filtered\n",
    "\n",
    "def create_slope_traces(df_metric, metric_col, display_name, mismatch_threshold):\n",
    "    traces = []\n",
    "    for _, row in df_metric.iterrows():\n",
    "        color = '#1E88E5' if row['Mismatch'] <= mismatch_threshold else '#D81B60'\n",
    "        hovertext = (\n",
    "            f\"{row['Country']}<br>\"\n",
    "            f\"{display_name} Rank: {row[f'{metric_col} Rank']}<br>\"\n",
    "            f\"Happiness Rank: {row['Happiness Rank']}<br>\"\n",
    "            f\"Mismatch: {row['Mismatch']}\"\n",
    "        )\n",
    "        traces.append(go.Scatter(\n",
    "            x=[f'{display_name} Rank', 'Happiness Rank'],\n",
    "            y=[row[f'{metric_col} Rank'], row['Happiness Rank']],\n",
    "            mode='lines+markers',\n",
    "            line=dict(color=color, width=2),\n",
    "            name=row['Country'],\n",
    "            hoverinfo='text',\n",
    "            hovertext=hovertext\n",
    "        ))\n",
    "    return traces\n",
    "\n",
    "df_gini = prepare_rankings(df, 'Gini_index', ascending_rank=True)\n",
    "df_gdp = prepare_rankings(df, 'GDP_current_usd', ascending_rank=False)\n",
    "df_gni = prepare_rankings(df, 'GNI_current_usd', ascending_rank=False)\n",
    "\n",
    "red_gini = (df_gini['Mismatch'] > 15).sum()\n",
    "red_gdp = (df_gdp['Mismatch'] > 30).sum()\n",
    "red_gni = (df_gni['Mismatch'] > 30).sum()\n",
    "\n",
    "traces_gini = create_slope_traces(df_gini, 'Gini_index', 'Gini Index', mismatch_threshold=15)\n",
    "traces_gdp = create_slope_traces(df_gdp, 'GDP_current_usd', 'GDP', mismatch_threshold=30)\n",
    "traces_gni = create_slope_traces(df_gni, 'GNI_current_usd', 'GNI', mismatch_threshold=30)\n",
    "\n",
    "fig = go.Figure(data=traces_gini)\n",
    "for trace in traces_gdp + traces_gni:\n",
    "    trace.visible = False\n",
    "    fig.add_trace(trace)\n",
    "\n",
    "steps = []\n",
    "total_traces = len(traces_gini) + len(traces_gdp) + len(traces_gni)\n",
    "start_idx = 0\n",
    "metrics = [\n",
    "    ('Gini Index', traces_gini, 20, red_gini),\n",
    "    ('GDP', traces_gdp, 30, red_gdp),\n",
    "    ('GNI', traces_gni, 30, red_gni)\n",
    "]\n",
    "\n",
    "for metric_name, traces_metric, threshold, red_count in metrics:\n",
    "    visible = [False] * total_traces\n",
    "    for i in range(len(traces_metric)):\n",
    "        visible[start_idx + i] = True\n",
    "    step = dict(\n",
    "        method='update',\n",
    "        label=metric_name,\n",
    "        args=[\n",
    "            {'visible': visible},\n",
    "            {'title': f'{metric_name} vs Happiness Rankings',\n",
    "             'xaxis': {'title': '', 'tickvals': [f'{metric_name} Rank', 'Happiness Rank']},\n",
    "             'yaxis': {'title': 'Rank (1 = Best)', 'autorange': 'reversed'},\n",
    "             'annotations': [dict(\n",
    "                 x=1.05,\n",
    "                 y=1.05,\n",
    "                 xref='paper',\n",
    "                 yref='paper',\n",
    "                 showarrow=False,\n",
    "                 align='left',\n",
    "                 bgcolor='#D81B60',\n",
    "                 font=dict(color='white', size=12),\n",
    "                 text=f'Mismatch > {threshold}:<br><b>{red_count}</b>',\n",
    "                 bordercolor='black',\n",
    "                 borderwidth=1\n",
    "             )]\n",
    "            }\n",
    "        ]\n",
    "    )\n",
    "    steps.append(step)\n",
    "    start_idx += len(traces_metric)\n",
    "\n",
    "fig.update_layout(\n",
    "    sliders=[dict(\n",
    "        active=0,\n",
    "        currentvalue={\"prefix\": \"Metric: \"},\n",
    "        pad={\"t\": 50},\n",
    "        steps=steps,\n",
    "        len=0.9,\n",
    "        x=0.1,\n",
    "        xanchor='left'\n",
    "    )],\n",
    "    yaxis=dict(autorange='reversed'),\n",
    "    showlegend=False,\n",
    "    height=800,\n",
    "    width=950,\n",
    "    margin=dict(t=80, b=80, l=80, r=100),\n",
    "    title='Gini Index vs Happiness Rankings',\n",
    "    xaxis={'title': '', 'tickvals': ['Gini Index Rank', 'Happiness Rank']},\n",
    "    annotations=[dict(\n",
    "        x=1.05,\n",
    "        y=1.05,\n",
    "        xref='paper',\n",
    "        yref='paper',\n",
    "        showarrow=False,\n",
    "        align='left',\n",
    "        bgcolor='#D81B60',\n",
    "        font=dict(color='white', size=12),\n",
    "        text=f'Mismatch > 20:<br><b>{red_gini}</b>',\n",
    "        bordercolor='black',\n",
    "        borderwidth=1\n",
    "    )]\n",
    ")\n",
    "\n",
    "fig.show()"
   ]
  },
  {
   "cell_type": "markdown",
   "id": "253f1ea8",
   "metadata": {},
   "source": [
    "This figure shows a graph with the ranking of Gini index, GDP and GNI compared to the happiness. This way a mismatch can be seen and the amount of extreme cases is visible. When the mismatch is >30, the line turns red. For the gini index this is slightly difference, the line is red when the mismatch is >20. This is because there is a lot of missing data for gini index, so the sample rate is smaller. Therefore a mismatch of >30 has a way bigger impact than it has for GDP or GNI."
   ]
  },
  {
   "cell_type": "markdown",
   "id": "ec017c70",
   "metadata": {},
   "source": [
    "**Money does not buy happiness**\n",
    "\n",
    "Economic wealth could explain some of the variation in national happiness. However, other societal indicators may offer different insights. To further investigate the what influences the way people perceive their happiness, we examined its relationship with education expenditure, unemployment rate, and life expectancy.\n",
    "\n",
    "In the plot about Happiness vs Education Expenditure, there is a slight positive trend. Countries that allocate a higher percentage of their GDP to education generally report higher happiness levels according to the dataset. It suggests that investment in quality education contributes to societal well-being and happiness.\n",
    "\n",
    "The plot about Happiness vs Unemployment Rate has a slight negative trendline: as unemployment increases, average happiness declines according to the dataset. This is a result in line with previous research like Winkelmann (2014), which found that unemployment consistently and significantly reduces life satisfaction and caused a reduction in the happiness score recorded, both due to economic insecurity and the psychological toll of uncertainty.\n",
    "\n",
    "In the plot about Happiness vs Life Expectancy, a positive correlation can be read from the regression line. Countries where people live longer also tend to report higher happiness scores. This relationship is likely tied to broader indicators of public health and quality of life. As with education, longer life expectancy reflects better healthcare systems, better nutrition, and a better environments, all of this tends to go hand-in-hand with happiness.\n"
   ]
  },
  {
   "cell_type": "code",
   "execution_count": 4,
   "id": "1d91aaa7",
   "metadata": {
    "tags": [
     "remove-input"
    ]
   },
   "outputs": [
    {
     "data": {
      "text/html": [
       "        <script type=\"text/javascript\">\n",
       "        window.PlotlyConfig = {MathJaxConfig: 'local'};\n",
       "        if (window.MathJax && window.MathJax.Hub && window.MathJax.Hub.Config) {window.MathJax.Hub.Config({SVG: {font: \"STIX-Web\"}});}\n",
       "        </script>\n",
       "        <script type=\"module\">import \"https://cdn.plot.ly/plotly-3.0.1.min\"</script>\n",
       "        "
      ]
     },
     "metadata": {},
     "output_type": "display_data"
    },
    {
     "data": {
      "application/vnd.plotly.v1+json": {
       "config": {
        "linkText": "Export to plot.ly",
        "plotlyServerURL": "https://plot.ly",
        "showLink": false
       },
       "data": [
        {
         "customdata": {
          "bdata": "AQACAAMABAAFAAYABwAIAAkACgALAAwADQAOAA8AEAARABIAEwAUABUAFgAXABgAGQAaABsAHAAdAB4AHwAgACEAIgAjACQAJQAmACcAKAApACoAKwAsAC0ALgAvADAAMQAyADMANAA1ADYANwA4ADkAOgA7ADwAPQA+AD8AQABBAEIAQwBEAEUARgBHAEgASQBKAEsATABNAE4ATwBPAFEAUgBTAFQAVQBWAFcAWABZAFoAWwBcAF0AXgBfAGAAYQBiAGMAZABlAGYAZwBoAGkAagBrAGwAbQBuAG8AcABxAHIAcwB0AHUAdgB3AHgAeQB6AHsAfAB9AH4AfwCAAIEAggCDAIQAhQA=",
          "dtype": "i2"
         },
         "hovertemplate": "Country: %{text}<br>Rank: %{customdata} out of 133<br>Life Expectancy: %{x:.1f} years<br>Happiness: %{y:.2f}<extra></extra>",
         "mode": "markers",
         "name": "Life Expectancy",
         "text": [
          "Finland",
          "Denmark",
          "Norway",
          "Iceland",
          "Netherlands",
          "Switzerland",
          "Sweden",
          "New Zealand",
          "Canada",
          "Austria",
          "Australia",
          "Costa Rica",
          "Israel",
          "Luxembourg",
          "United Kingdom",
          "Ireland",
          "Germany",
          "Belgium",
          "United States",
          "United Arab Emirates",
          "Malta",
          "Mexico",
          "France",
          "Chile",
          "Guatemala",
          "Saudi Arabia",
          "Qatar",
          "Spain",
          "Panama",
          "Brazil",
          "Uruguay",
          "Singapore",
          "El Salvador",
          "Italy",
          "Bahrain",
          "Poland",
          "Uzbekistan",
          "Lithuania",
          "Colombia",
          "Slovenia",
          "Nicaragua",
          "Kosovo",
          "Argentina",
          "Romania",
          "Cyprus",
          "Ecuador",
          "Kuwait",
          "Thailand",
          "Latvia",
          "Estonia",
          "Jamaica",
          "Mauritius",
          "Japan",
          "Honduras",
          "Kazakhstan",
          "Bolivia",
          "Hungary",
          "Paraguay",
          "Peru",
          "Portugal",
          "Pakistan",
          "Philippines",
          "Serbia",
          "Moldova",
          "Libya",
          "Montenegro",
          "Tajikistan",
          "Croatia",
          "Dominican Republic",
          "Bosnia and Herzegovina",
          "Malaysia",
          "Belarus",
          "Greece",
          "Mongolia",
          "North Macedonia",
          "Nigeria",
          "Turkmenistan",
          "Algeria",
          "Morocco",
          "Azerbaijan",
          "Lebanon",
          "Indonesia",
          "China",
          "Bhutan",
          "Cameroon",
          "Bulgaria",
          "Ghana",
          "Nepal",
          "Jordan",
          "Benin",
          "Gabon",
          "South Africa",
          "Albania",
          "Cambodia",
          "Senegal",
          "Somalia",
          "Namibia",
          "Niger",
          "Burkina Faso",
          "Armenia",
          "Guinea",
          "Georgia",
          "Kenya",
          "Mauritania",
          "Mozambique",
          "Tunisia",
          "Bangladesh",
          "Iraq",
          "Mali",
          "Sierra Leone",
          "Sri Lanka",
          "Myanmar",
          "Chad",
          "Ukraine",
          "Ethiopia",
          "Uganda",
          "Zambia",
          "Togo",
          "India",
          "Liberia",
          "Comoros",
          "Madagascar",
          "Lesotho",
          "Burundi",
          "Zimbabwe",
          "Haiti",
          "Botswana",
          "Malawi",
          "Rwanda",
          "Tanzania",
          "Afghanistan",
          "Central African Republic",
          "South Sudan"
         ],
         "type": "scatter",
         "visible": true,
         "x": {
          "bdata": "X4TuReh+VEB7DM7H4FxUQKGK1alYvVRAKFanYnXKVEBG43I0LodUQFuYnoXp+VRA6WNwPgbHVECjcTkal4NUQB2Wp2F5ilRA2JqUrUl5VECamZmZmblUQG3n+6nxElRA9DE4H4OzVEBpXI7G5ahUQE0urbGfV1RAMUzPwvSsVEAVtStRu1JUQD8B+xOwf1RAVLYmZWuyU0CgGi/dJKZUQG1XonYlqlRAUrgeheuhUkBWrE7F6rRUQNv5fmq8FFRAN4lBYOXoUUB56SYxCJRTQBSuR+F6vFRAF6tTsTr1VEA3iUFg5aBTQLKd76fG81JA1XjpJjFgU0ClZ2F6FuZUQGZmZmZm7lFAo4D9CdjfVECgGi/dJB5UQFuYnoXpeVNAy6FFtvMFUkCTtyF5GxJTQJhuEoPAMlNAgPgdiN9hVEA3iUFg5XBSQA4tsp3vT1NAke18PzU2U0CF5G1I3uZSQJMYBFYOXVRA/Knx0k1SU0DAB+F7EH5UQPhT46WbTFNAuhyNy9HYUkCO2pWoXalTQDVeukkM4lFAoIPxORiPUkDE5GxMzhZVQA4tsp3vB1JAJzEIrBxqUkAUrkfhevRQQDEuR+NyFFNAmG4Sg8BqUkCamZmZmRFTQA7TszA9a1RALbKd76euUEDsUbgehWtRQD8QvwPx+1JA3SQGgZWLUUBOYhBYOTxSQCxRuxK1K1NAIbByaJG9UUCMxuVoXI5TQLpJDAIrR1JA8KfGSzdZU0CamZmZmflSQPBF6F6EjlJAaVyOxuVoVEBicjYmZ8NRQMvlaFyOJlNA/tR46SaBSkBSuB6F61lRQM/3U+Ol61JASOF6FK6PUkDD9Shcj1JSQFpkO99PjVNAdZMYBFaWUUBcj8L1KHxTQLgehetRAFJAKVyPwvXYTkBG43I0LsdSQIXrUbgeHVBAQmDl0CJTUUCPwvUoXDdTQIts5/up8U1AIbByaJHVUEAGgZVDi4RQQNnO91Pj3VNA46WbxCCIUUCYbhKDwOpQQB1aZDvfn0xA2c73U+PFT0CHFtnO9wNOQGQ730+NF05AL0fjcjQOU0CNl24Sg7BNQMP1KFyPilJA1XjpJjF4T0ApXI/C9ehQQLpJDAIrp05AdZMYBFbmUkAAAAAAAChSQEjhehSuz1FAsp3vp8abTUCWQ4ts58tNQOkmMQisLFNAaJHtfD+dUEDJdr6fGn9KQHsUrkfhelJAgZVDi2xvUEAtsp3vp5ZQQKJFtvP9dE9A16NwPQqHTkA5tMh2vq9RQARWDi2ynU5A7nw/NV5qUECNl24Sg8BPQB1aZDvfn0tA16NwPQoXT0BI4XoUrodOQKJFtvP9FFBAppvEILDKUEBI4XoUrj9QQE5iEFg5rFBAnMQgsHKAUECcxCCwcnhPQEjhehSuhz9AjZduEoMQTUA=",
          "dtype": "f8"
         },
         "y": {
          "bdata": "+n5qvHQTH0BmZmZmZmYeQJ7vp8ZLNx5AYOXQItv5HUDByqFFtvMdQOxRuB6F6x1ArBxaZDtfHUDufD81XjodQOkmMQisHB1AlkOLbOf7HEC28/3UeOkcQF66SQwCqxxAdZMYBFaOHEBcj8L1KFwcQJ7vp8ZLNxxAL90kBoEVHEBxPQrXo/AbQP7UeOkmsRtAxSCwcmiRG0DNzMzMzEwbQIGVQ4ts5xpA4XoUrkdhGkCR7Xw/NV4aQC2yne+nxhlAWDm0yHa+GUAAAAAAAIAZQOXQItv5fhlA0SLb+X5qGUBiEFg5tEgZQDMzMzMzMxlAeekmMQgsGUA/NV66SQwZQFCNl24SAxlAMQisHFrkGECyne+nxssYQO58PzVeuhhAGQRWDi2yGEB/arx0k5gYQAAAAAAAgBhARrbz/dR4GEDsUbgehWsYQGZmZmZmZhhA8tJNYhBYGEBI4XoUrkcYQMl2vp8aLxhA6SYxCKwcGEAv3SQGgRUYQNV46SYxCBhAw/UoXI/CF0DfT42XbpIXQI/C9ShcjxdAWmQ730+NF0AlBoGVQ4sXQHE9CtejcBdAI9v5fmo8F0AEVg4tsh0XQNV46SYxCBdARrbz/dT4FkB9PzVeuskWQBKDwMqhxRZA6SYxCKycFkCgGi/dJIYWQLbz/dR4aRZABFYOLbIdFkCamZmZmRkWQGQ730+NFxZAke18PzXeFUDufD81XroVQDMzMzMzsxVAJQaBlUOLFUBCYOXQIlsVQJhuEoPAShVA2c73U+MlFUCkcD0K1yMVQH9qvHSTGBVAj8L1KFwPFUCwcmiR7fwUQPLSTWIQ2BRAokW28/3UFECiRbbz/dQUQH0/NV66yRRA+FPjpZvEFEDdJAaBlcMUQIcW2c73UxRAkxgEVg4tFEAlBoGVQwsUQJZDi2zn+xNA9P3UeOmmE0A5tMh2vp8TQNV46SYxiBNAGQRWDi0yE0AX2c73U+MSQMdLN4lB4BJAzczMzMzMEkDTTWIQWLkSQHnpJjEIrBJAdZMYBFaOEkBQjZduEoMSQAwCK4cWWRJAI9v5fmo8EkCJQWDl0CISQPp+arx0ExJA8KfGSzcJEkD2KFyPwvURQHe+nxov3RFA8tJNYhDYEUBt5/up8dIRQHNoke18vxFAj8L1KFyPEUDl0CLb+X4RQBBYObTIdhFAcT0K16NwEUBmZmZmZmYRQIcW2c73UxFAvp8aL90kEUCoxks3icEQQCGwcmiRbRBA16NwPQpXEECPwvUoXA8QQM3MzMzMzA9AYhBYObTID0AQWDm0yHYPQNEi2/l+ag5AMzMzMzMzDkDn+6nx0k0NQC2yne+nxgxAgZVDi2znC0BI4XoUrkcLQHnpJjEIrApADAIrhxbZCUA5tMh2vp8JQESLbOf7qQhAbef7qfHSBkA=",
          "dtype": "f8"
         }
        },
        {
         "customdata": {
          "bdata": "AQACAAMABAAFAAYABwAIAAkACgALAAwADQAOAA8AEAARABIAEwAUABUAFgAXABgAGQAaABsAHAAdAB4AHwAgACEAIgAkACUAJgAnACgAKgArACwALQAuADAAMQAyADMANAA1ADYANwA4ADkAOgA7ADwAPQA+AD8AQABCAEQARQBGAEcASABJAEoASwBMAE8AUQBSAFMAVABWAFkAWgBcAF0AXgBfAGAAYgBjAGQAZQBmAGcAaABqAG0AbwBwAHIAdAB1AHYAdwB7AH0AfwCBAA==",
          "dtype": "i2"
         },
         "hovertemplate": "Country: %{text}<br>Rank: %{customdata} out of 133<br>Unemployment Rate: %{x:.1f}%<br>Happiness: %{y:.2f}<extra></extra>",
         "mode": "markers",
         "name": "Unemployment Rate",
         "text": [
          "Finland",
          "Denmark",
          "Norway",
          "Iceland",
          "Netherlands",
          "Switzerland",
          "Sweden",
          "New Zealand",
          "Canada",
          "Austria",
          "Australia",
          "Costa Rica",
          "Israel",
          "Luxembourg",
          "United Kingdom",
          "Ireland",
          "Germany",
          "Belgium",
          "United States",
          "United Arab Emirates",
          "Malta",
          "Mexico",
          "France",
          "Chile",
          "Guatemala",
          "Saudi Arabia",
          "Qatar",
          "Spain",
          "Panama",
          "Brazil",
          "Uruguay",
          "Singapore",
          "El Salvador",
          "Italy",
          "Poland",
          "Uzbekistan",
          "Lithuania",
          "Colombia",
          "Slovenia",
          "Kosovo",
          "Argentina",
          "Romania",
          "Cyprus",
          "Ecuador",
          "Thailand",
          "Latvia",
          "Estonia",
          "Jamaica",
          "Mauritius",
          "Japan",
          "Honduras",
          "Kazakhstan",
          "Bolivia",
          "Hungary",
          "Paraguay",
          "Peru",
          "Portugal",
          "Pakistan",
          "Philippines",
          "Serbia",
          "Moldova",
          "Montenegro",
          "Croatia",
          "Dominican Republic",
          "Bosnia and Herzegovina",
          "Malaysia",
          "Belarus",
          "Greece",
          "Mongolia",
          "North Macedonia",
          "Nigeria",
          "Azerbaijan",
          "Lebanon",
          "Indonesia",
          "China",
          "Bhutan",
          "Bulgaria",
          "Jordan",
          "Benin",
          "South Africa",
          "Albania",
          "Cambodia",
          "Senegal",
          "Somalia",
          "Niger",
          "Burkina Faso",
          "Armenia",
          "Guinea",
          "Georgia",
          "Kenya",
          "Mauritania",
          "Tunisia",
          "Mali",
          "Sri Lanka",
          "Myanmar",
          "Ukraine",
          "Uganda",
          "Zambia",
          "Togo",
          "India",
          "Lesotho",
          "Zimbabwe",
          "Botswana",
          "Rwanda"
         ],
         "type": "scatter",
         "visible": false,
         "x": {
          "bdata": "SOF6FK7HGkDfT42XbhIUQEa28/3UeA1AdZMYBFYODEDVeOkmMQgLQPp+arx0kxFAokW28/1UG0BWDi2ynW8QQMP1KFyPwhZAPQrXo3A9EkDfT42XbpIUQHe+nxovnSVADAIrhxbZDUCR7Xw/NV4WQKjGSzeJQQ1AzczMzMzME0Dn+6nx0k0JQNv5fmq8dBVAJzEIrBxaDUDZzvdT46UCQGq8dJMYBA1AN4lBYOXQC0AUrkfhetQgQEa28/3U+B1AJQaBlUOLAUAlBoGVQ4sWQJqZmZmZmbk/9ihcj8I1LECJQWDl0KIZQKwcWmQ73ydAeekmMQisIUDNzMzMzMwIQK5H4XoUrhBAgZVDi2znI0CJQWDl0CIKQPYoXI/C9SFAhetRuB4FGUCPwvUoXI8kQGIQWDm0yBFAi2zn+6kROUBWDi2yna8jQLKd76fGSw9AH4XrUbieHEDl0CLb+X4OQLbz/dR46eY/c2iR7Xw/GUB1kxgEVg4SQKabxCCw8hNAbef7qfFSGUACK4cW2c4CQJhuEoPAyhZAMzMzMzMzE0Db+X5qvHQNQCcxCKwcWgtA4XoUrkdhGkDVeOkmMQgLQEJg5dAi2xlAUrgehetRE0BMN4lBYOUBQArXo3A9yiRA1XjpJjEI+D+oxks3iUEuQCuHFtnOdxpABoGVQ4tsGUD8qfHSTWIvQBSuR+F6FApAKVyPwvWoEEDsUbgehQsxQD81XrpJDCJARIts5/tpMUCkcD0K12MlQAAAAAAAABRAJzEIrByaJkC4HoXrUbgMQJqZmZmZmRRAw/UoXI/CBUDsUbgehesQQJMYBFYOzTBABoGVQ4ts8z8rhxbZznc8QDvfT42X7iZAVg4tsp3v3z+BlUOLbOcGQIcW2c730zJAoBov3SQG4T/2KFyPwvX4P0oMAiuHliNA30+Nl24SFEDhehSuRyEnQHWTGARWDhRAokW28/3UJEC6SQwCKycxQFK4HoXrUQpArkfhehSuEkA/NV66SQzaPxfZzvdTYyBAGy/dJAaBBED0/dR46SYWQH0/NV66SQBACtejcD0KGkDHSzeJQeAwQMuhRbbzfR1A8tJNYhAYNEBGtvP91HgmQA==",
          "dtype": "f8"
         },
         "y": {
          "bdata": "+n5qvHQTH0BmZmZmZmYeQJ7vp8ZLNx5AYOXQItv5HUDByqFFtvMdQOxRuB6F6x1ArBxaZDtfHUDufD81XjodQOkmMQisHB1AlkOLbOf7HEC28/3UeOkcQF66SQwCqxxAdZMYBFaOHEBcj8L1KFwcQJ7vp8ZLNxxAL90kBoEVHEBxPQrXo/AbQP7UeOkmsRtAxSCwcmiRG0DNzMzMzEwbQIGVQ4ts5xpA4XoUrkdhGkCR7Xw/NV4aQC2yne+nxhlAWDm0yHa+GUAAAAAAAIAZQOXQItv5fhlA0SLb+X5qGUBiEFg5tEgZQDMzMzMzMxlAeekmMQgsGUA/NV66SQwZQFCNl24SAxlAMQisHFrkGEDufD81XroYQBkEVg4tshhAf2q8dJOYGEAAAAAAAIAYQEa28/3UeBhAZmZmZmZmGEDy0k1iEFgYQEjhehSuRxhAyXa+nxovGEDpJjEIrBwYQNV46SYxCBhAw/UoXI/CF0DfT42XbpIXQI/C9ShcjxdAWmQ730+NF0AlBoGVQ4sXQHE9CtejcBdAI9v5fmo8F0AEVg4tsh0XQNV46SYxCBdARrbz/dT4FkB9PzVeuskWQBKDwMqhxRZA6SYxCKycFkCgGi/dJIYWQLbz/dR4aRZABFYOLbIdFkBkO99PjRcWQO58PzVeuhVAMzMzMzOzFUAlBoGVQ4sVQEJg5dAiWxVAmG4Sg8BKFUDZzvdT4yUVQKRwPQrXIxVAf2q8dJMYFUCPwvUoXA8VQKJFtvP91BRAfT81XrrJFED4U+Olm8QUQN0kBoGVwxRAhxbZzvdTFEAlBoGVQwsUQDm0yHa+nxNA1XjpJjGIE0AX2c73U+MSQMdLN4lB4BJAzczMzMzMEkDTTWIQWLkSQHnpJjEIrBJAUI2XbhKDEkAMAiuHFlkSQCPb+X5qPBJAiUFg5dAiEkD6fmq8dBMSQPCnxks3CRJA9ihcj8L1EUDy0k1iENgRQI/C9ShcjxFAEFg5tMh2EUBxPQrXo3ARQIcW2c73UxFAqMZLN4nBEEAhsHJokW0QQNejcD0KVxBAj8L1KFwPEEDRItv5fmoOQOf7qfHSTQ1AgZVDi2znC0B56SYxCKwKQA==",
          "dtype": "f8"
         }
        },
        {
         "customdata": {
          "bdata": "AQACAAMABAAFAAYABwAIAAkACgALAAwADQAOAA8AEAARABIAEwAUABUAFwAYABkAGwAcAB0AHgAfACAAIQAiACMAJAAlACYAKAApACsALAAtAC4ALwAwADEAMgAzADQANQA2ADcAOAA5ADoAOwA8AD0APgA/AEAAQwBEAEUARgBHAEgASQBKAEwATQBOAE8ATwBRAFIAUwBUAFUAVgBXAFgAWQBaAFsAXABdAF4AXwBhAGIAYwBkAGUAZgBnAGgAaQBqAGsAbQBuAHAAcQByAHMAdAB1AHYAdwB4AHoAewB8AH4AfwCBAIIAhAA=",
          "dtype": "i2"
         },
         "hovertemplate": "Country: %{text}<br>Rank: %{customdata} out of 133<br>Education Expenditure: %{x:.2f}% of GDP<br>Happiness: %{y:.2f}<extra></extra>",
         "mode": "markers",
         "name": "Education Expenditure",
         "text": [
          "Finland",
          "Denmark",
          "Norway",
          "Iceland",
          "Netherlands",
          "Switzerland",
          "Sweden",
          "New Zealand",
          "Canada",
          "Austria",
          "Australia",
          "Costa Rica",
          "Israel",
          "Luxembourg",
          "United Kingdom",
          "Ireland",
          "Germany",
          "Belgium",
          "United States",
          "United Arab Emirates",
          "Malta",
          "France",
          "Chile",
          "Guatemala",
          "Qatar",
          "Spain",
          "Panama",
          "Brazil",
          "Uruguay",
          "Singapore",
          "El Salvador",
          "Italy",
          "Bahrain",
          "Poland",
          "Uzbekistan",
          "Lithuania",
          "Slovenia",
          "Nicaragua",
          "Argentina",
          "Romania",
          "Cyprus",
          "Ecuador",
          "Kuwait",
          "Thailand",
          "Latvia",
          "Estonia",
          "Jamaica",
          "Mauritius",
          "Japan",
          "Honduras",
          "Kazakhstan",
          "Bolivia",
          "Hungary",
          "Paraguay",
          "Peru",
          "Portugal",
          "Pakistan",
          "Philippines",
          "Serbia",
          "Moldova",
          "Tajikistan",
          "Croatia",
          "Dominican Republic",
          "Bosnia and Herzegovina",
          "Malaysia",
          "Belarus",
          "Greece",
          "Mongolia",
          "Nigeria",
          "Turkmenistan",
          "Algeria",
          "Morocco",
          "Azerbaijan",
          "Lebanon",
          "Indonesia",
          "China",
          "Bhutan",
          "Cameroon",
          "Bulgaria",
          "Ghana",
          "Nepal",
          "Jordan",
          "Benin",
          "Gabon",
          "South Africa",
          "Albania",
          "Cambodia",
          "Senegal",
          "Namibia",
          "Niger",
          "Burkina Faso",
          "Armenia",
          "Guinea",
          "Georgia",
          "Kenya",
          "Mauritania",
          "Mozambique",
          "Tunisia",
          "Bangladesh",
          "Mali",
          "Sierra Leone",
          "Myanmar",
          "Chad",
          "Ukraine",
          "Ethiopia",
          "Uganda",
          "Zambia",
          "Togo",
          "India",
          "Liberia",
          "Madagascar",
          "Lesotho",
          "Burundi",
          "Haiti",
          "Botswana",
          "Rwanda",
          "Tanzania",
          "Central African Republic"
         ],
         "type": "scatter",
         "visible": false,
         "x": {
          "bdata": "AgAAAPWqGUABAADgKwUdQP///z9PdR9AAAAAILtnHkAFAABgsqMUQPz//z+8DhRAAQAAoNWNHkD7//9fQLYUQP7///96FxNAAwAAYATfFED7//9/ywgWQAIAAEDL8xpAAwAAIHcqGED5//+feOMNQAUAAIBtCxVABwAAYI5eCkD8///fSnYUQPz//z/8VRlABAAAAHPUE0D4//+/teEOQP///z/vmBNA/P//v+9qFUD8//9fV4EWQAYAAOAziwlAAQAAQCRuBkACAADAvusQQAUAAAARvwhABAAA4JfaF0D7//9/a4MSQPr//18J1gVACgAAIM0YC0D+//9/jmEQQAYAAICrEwNABAAAABq3EkABAABgby4ZQPn///95tg9AAQAAQO2QE0AAAABgUWYSQAQAAGArFhNA////Hx2JDED7///fs9kUQP3//7+t+xBABQAAgF3pGkAAAACgfi0IQPr//99MvhFA+///f6sKFUD+//8/kacUQAIAAAD1KhJAAQAA4CI+CUD9//+/1roXQAQAAECg1ApA/v//v5wuIEABAAAAR+YQQPr//x8s6wtA/v//H1aUDkD9////I4USQP3//78muAFA/v//P4hCC0D4///fh+4MQAQAAEAw5xhA/v//H+bvFUD2///fUlwPQP3//5/LKxBAAAAAYJEtEED9///fGNYPQAEAAGD/6hNA9f//32SwDED7//+fDTgNQAEAAOBR8dY/AQAA4OL2CEACAACgLE0WQAMAAMBVAxRA+///32NpCUAGAAAAWM0EQAQAAIBb3O4//////9E8EEAEAABAEAoSQPj///8SYQhA/v//f87LEEADAABgfTkJQAIAAKCs4gtABAAAAGPoB0D5//9fu7gHQP7//x+W/gZA+///P3WlF0D2//+fdVQPQAMAAODwmgZA////3x0kFEABAADgIqUiQAYAAKC2NQxAAgAAgOigFUD9//+/RpMEQPn//3/muv0/+///n42jDkAEAADgjn4VQOz//7++K/0/BQAAgEQlGUD////f5rEYQPf//x/35vo/9v///71wDEAFAACAvckdQO3//18E//8/AgAAQMv6AkD///8f5MMVQP////9o7BFAAQAA4Ft3AkADAAAgR6wRQAEAACCCzhBABgAAALgtD0AEAACAFlIBQAsAAABpGwhABAAAALrGHED+//8/AWMVQAUAAECOJvw//v//P0nMIEALAABg0egJQAEAACBSxgxABQAAQGdJ/D8=",
          "dtype": "f8"
         },
         "y": {
          "bdata": "+n5qvHQTH0BmZmZmZmYeQJ7vp8ZLNx5AYOXQItv5HUDByqFFtvMdQOxRuB6F6x1ArBxaZDtfHUDufD81XjodQOkmMQisHB1AlkOLbOf7HEC28/3UeOkcQF66SQwCqxxAdZMYBFaOHEBcj8L1KFwcQJ7vp8ZLNxxAL90kBoEVHEBxPQrXo/AbQP7UeOkmsRtAxSCwcmiRG0DNzMzMzEwbQIGVQ4ts5xpAke18PzVeGkAtsp3vp8YZQFg5tMh2vhlA5dAi2/l+GUDRItv5fmoZQGIQWDm0SBlAMzMzMzMzGUB56SYxCCwZQD81XrpJDBlAUI2XbhIDGUAxCKwcWuQYQLKd76fGyxhA7nw/NV66GEAZBFYOLbIYQH9qvHSTmBhARrbz/dR4GEDsUbgehWsYQPLSTWIQWBhASOF6FK5HGEDJdr6fGi8YQOkmMQisHBhAL90kBoEVGEDVeOkmMQgYQMP1KFyPwhdA30+Nl26SF0CPwvUoXI8XQFpkO99PjRdAJQaBlUOLF0BxPQrXo3AXQCPb+X5qPBdABFYOLbIdF0DVeOkmMQgXQEa28/3U+BZAfT81XrrJFkASg8DKocUWQOkmMQisnBZAoBov3SSGFkC28/3UeGkWQARWDi2yHRZAke18PzXeFUDufD81XroVQDMzMzMzsxVAJQaBlUOLFUBCYOXQIlsVQJhuEoPAShVA2c73U+MlFUCkcD0K1yMVQI/C9ShcDxVAsHJoke38FEDy0k1iENgUQKJFtvP91BRAokW28/3UFEB9PzVeuskUQPhT46WbxBRA3SQGgZXDFECHFtnO91MUQJMYBFYOLRRAJQaBlUMLFECWQ4ts5/sTQPT91HjpphNAObTIdr6fE0DVeOkmMYgTQBkEVg4tMhNAF9nO91PjEkDHSzeJQeASQM3MzMzMzBJA001iEFi5EkB1kxgEVo4SQFCNl24SgxJADAIrhxZZEkAj2/l+ajwSQIlBYOXQIhJA+n5qvHQTEkDwp8ZLNwkSQPYoXI/C9RFAd76fGi/dEUDy0k1iENgRQG3n+6nx0hFAj8L1KFyPEUDl0CLb+X4RQHE9CtejcBFAZmZmZmZmEUCHFtnO91MRQL6fGi/dJBFAqMZLN4nBEEAhsHJokW0QQNejcD0KVxBAj8L1KFwPEEDNzMzMzMwPQBBYObTIdg9A0SLb+X5qDkAzMzMzMzMOQC2yne+nxgxAgZVDi2znC0B56SYxCKwKQAwCK4cW2QlARIts5/upCEA=",
          "dtype": "f8"
         }
        },
        {
         "hoverinfo": "skip",
         "line": {
          "color": "blue",
          "dash": "dash"
         },
         "mode": "lines",
         "name": "Trend Line",
         "type": "scatter",
         "visible": true,
         "x": {
          "bdata": "SOF6FK6HP0BoQIIGJAhAQCwQxwJxTEBA8d8L/72QQEC1r1D7CtVAQHl/lfdXGUFAPk/a86RdQUACHx/w8aFBQMbuY+w+5kFAir6o6IsqQkBOju3k2G5CQBNeMuEls0JA1y133XL3QkCb/bvZvztDQGDNANYMgENAJJ1F0lnEQ0DobIrOpghEQKw8z8rzTERAcAwUx0CRREA13FjDjdVEQPmrnb/aGUVAvXviuydeRUCCSye4dKJFQEYbbLTB5kVACuuwsA4rRkDOuvWsW29GQJKKOqmos0ZAV1p/pfX3RkAbKsShQjxHQN/5CJ6PgEdApMlNmtzER0BomZKWKQlIQCxp15J2TUhA8Dgcj8ORSEC0CGGLENZIQHnYpYddGklAPajqg6peSUABeC+A96JJQMZHdHxE50lAihe5eJErSkBO5/103m9KQBK3QnErtEpA1oaHbXj4SkCbVsxpxTxLQF8mEWYSgUtAI/ZVYl/FS0DoxZperAlMQKyV31r5TUxAcGUkV0aSTEA0NWlTk9ZMQPgErk/gGk1AvdTySy1fTUCBpDdIeqNNQEV0fETH501ACkTBQBQsTkDOEwY9YXBOQJLjSjmutE5AVrOPNfv4TkAag9QxSD1PQN9SGS6VgU9AoyJeKuLFT0A0eVGTFwVQQBbhcxE+J1BA+EiWj2RJUEDasLgNi2tQQLwY24uxjVBAnoD9CdivUECA6B+I/tFQQGJQQgYl9FBARLhkhEsWUUAnIIcCcjhRQAmIqYCYWlFA6+/L/r58UUDNV+585Z5RQK+/EPsLwVFAkiczeTLjUUB0j1X3WAVSQFb3d3V/J1JAOF+a86VJUkAax7xxzGtSQPwu3+/yjVJA3pYBbhmwUkDA/iPsP9JSQKJmRmpm9FJAhM5o6IwWU0BmNotmszhTQEmereTZWlNAKwbQYgB9U0ANbvLgJp9TQO/VFF9NwVNA0T033XPjU0C0pVlbmgVUQJYNfNnAJ1RAeHWeV+dJVEBa3cDVDWxUQDxF41M0jlRAHq0F0lqwVEAAFShQgdJUQOJ8Ss6n9FRAxORsTM4WVUA=",
          "dtype": "f8"
         },
         "y": {
          "bdata": "+4cieck39D87f/F7Jxb1P3t2wH6F9PU/v22PgePS9j//ZF6EQbH3Pz9cLYefj/g/g1P8if1t+T/DSsuMW0z6PwNCmo+5Kvs/QzlpkhcJ/D+DMDiVdef8P8cnB5jTxf0/Bx/WmjGk/j9HFqWdj4L/P8QGOtB2MABAZIKh0aWfAEAE/gjT1A4BQKR5cNQDfgFARPXX1TLtAUDmcD/XYVwCQIbsptiQywJAJmgO2r86A0DI43Xb7qkDQGhf3dwdGQRACNtE3kyIBECoVqzfe/cEQEjSE+GqZgVA6k174tnVBUCKyeLjCEUGQCpFSuU3tAZAysCx5mYjB0BqPBnolZIHQAq4gOnEAQhAqjPo6vNwCEBKr0/sIuAIQOwqt+1RTwlAjKYe74C+CUAsIobwry0KQM6d7fHenApAbhlV8w0MC0AOlbz0PHsLQK4QJPZr6gtAToyL95pZDEDwB/P4ycgMQJCDWvr4Nw1AMP/B+yenDUDSein9VhYOQHL2kP6FhQ5AEnL4/7T0DkCy7V8B5GMPQFJpxwIT0w9AenIXAiEhEEBKMMuCuFgQQBrufgNQkBBA66syhOfHEEC7aeYEf/8QQIsnmoUWNxFAW+VNBq5uEUArowGHRaYRQPtgtQfd3RFAyx5piHQVEkCc3BwJDE0SQGya0ImjhBJAPFiECju8EkAMFjiL0vMSQNzT6wtqKxNArJGfjAFjE0B8T1MNmZoTQEwNB44w0hNAHMu6DsgJFEDuiG6PX0EUQL5GIhD3eBRAjgTWkI6wFEBewokRJugUQC6APZK9HxVAAD7xElVXFUDQ+6ST7I4VQKC5WBSExhVAcHcMlRv+FUBANcAVszUWQBDzc5ZKbRZA4LAnF+KkFkCwbtuXedwWQIAsjxgRFBdAUOpCmahLF0AgqPYZQIMXQPFlqprXuhdAwSNeG2/yF0CR4RGcBioYQGKfxRyeYRhAMl15nTWZGEACGy0ezdAYQNLY4J5kCBlAopaUH/w/GUByVEigk3cZQEIS/CArrxlAEtCvocLmGUDijWMiWh4aQLJLF6PxVRpAhAnLI4mNGkA=",
          "dtype": "f8"
         }
        },
        {
         "hoverinfo": "skip",
         "line": {
          "color": "blue",
          "dash": "dash"
         },
         "mode": "lines",
         "name": "Trend Line",
         "type": "scatter",
         "visible": false,
         "x": {
          "bdata": "mpmZmZmZuT/wK2wlKb3YP734OPL1ieU/gtu7UVe17j8kX59YXPDzP4bQYAgNhvg/6UEiuL0b/T+m2fEzt9gAQFeS0ouPIwNACEuz42duBUC5A5Q7QLkHQGu8dJMYBApAHHVV6/BODEDNLTZDyZkOQD9zi81QchBAl897+byXEUDwK2wlKb0SQEmIXFGV4hNAoeRMfQEIFUD6QD2pbS0WQFKdLdXZUhdAq/kdAUZ4GEAEVg4tsp0ZQFyy/lgewxpAtQ7vhIroG0AOa9+w9g0dQGbHz9xiMx5AvyPACM9YH0AMQFiaHT8gQDhuULDT0SBAZJxIxolkIUCRykDcP/chQL34OPL1iSJA6SYxCKwcI0AWVSkeYq8jQEKDITQYQiRAbrEZSs7UJECb3xFghGclQMcNCnY6+iVA8zsCjPCMJkAfavqhph8nQEyY8rdcsidAeMbqzRJFKECk9OLjyNcoQNEi2/l+ailA/VDTDzX9KUApf8sl648qQFatwzuhIitAgtu7UVe1K0CuCbRnDUgsQNs3rH3D2ixAB2akk3ltLUAzlJypLwAuQGDClL/lki5AjPCM1ZslL0C4HoXrUbgvQHOmvgCEJTBAib26C99uMECf1LYWOrgwQLXrsiGVATFAywKvLPBKMUDiGas3S5QxQPgwp0Km3TFADkijTQEnMkAkX59YXHAyQDp2m2O3uTJAUI2XbhIDM0BmpJN5bUwzQH27j4TIlTNAk9KLjyPfM0Cp6Yeafig0QL8AhKXZcTRA1ReAsDS7NEDrLny7jwQ1QAJGeMbqTTVAGF100UWXNUAudHDcoOA1QESLbOf7KTZAWqJo8lZzNkBwuWT9sbw2QIbQYAgNBjdAnedcE2hPN0Cz/lgew5g3QMkVVSke4jdA3yxRNHkrOED1Q00/1HQ4QAtbSUovvjhAInJFVYoHOUA4iUFg5VA5QE6gPWtAmjlAZLc5dpvjOUB6zjWB9iw6QJDlMYxRdjpAp/wtl6y/OkC9EyqiBwk7QNMqJq1iUjtA6UEiuL2bO0D/WB7DGOU7QBVwGs5zLjxAK4cW2c53PEA=",
          "dtype": "f8"
         },
         "y": {
          "bdata": "h0JFZB9GGEB9D5dWbzcYQHPc6Ei/KBhAaak6Ow8aGEBfdowtXwsYQFVD3h+v/BdASxAwEv/tF0BB3YEET98XQDeq0/ae0BdALXcl6e7BF0AjRHfbPrMXQBoRyc2OpBdAEN4awN6VF0AGq2yyLocXQPx3vqR+eBdA8kQQl85pF0DoEWKJHlsXQN7es3tuTBdA1KsFbr49F0DKeFdgDi8XQMBFqVJeIBdAthL7RK4RF0Cs30w3/gIXQKKsnilO9BZAmHnwG57lFkCORkIO7tYWQIQTlAA+yBZAeuDl8o25FkBwrTfl3aoWQGZ6idctnBZAXEfbyX2NFkBSFC28zX4WQEjhfq4dcBZAP67QoG1hFkA0eyKTvVIWQCtIdIUNRBZAIRXGd101FkAX4hdqrSYWQA2vaVz9FxZAA3y7Tk0JFkD5SA1BnfoVQO8VXzPt6xVA5eKwJT3dFUDbrwIYjc4VQNF8VArdvxVAx0mm/CyxFUC9FvjufKIVQLPjSeHMkxVAqbCb0xyFFUCffe3FbHYVQJVKP7i8ZxVAixeRqgxZFUCB5OKcXEoVQHexNI+sOxVAbn6GgfwsFUBkS9hzTB4VQFkYKmacDxVAUOV7WOwAFUBGss1KPPIUQDx/Hz2M4xRAMkxxL9zUFEAoGcMhLMYUQB7mFBR8txRAFLNmBsyoFEAKgLj4G5oUQABNCutrixRA9hlc3bt8FEDs5q3PC24UQOKz/8FbXxRA2IBRtKtQFEDOTaOm+0EUQMQa9ZhLMxRAuudGi5skFECwtJh96xUUQKaB6m87BxRAnE48Yov4E0CSG45U2+kTQIjo30Yr2xNAfrUxOXvME0B0goMry70TQGtP1R0brxNAYBwnEGugE0BW6XgCu5ETQE22yvQKgxNAQ4Mc51p0E0A5UG7ZqmUTQC8dwMv6VhNAJeoRvkpIE0Abt2OwmjkTQBGEtaLqKhNAB1EHlTocE0D9HVmHig0TQPPqqnna/hJA6bf8ayrwEkDfhE5eeuESQNVRoFDK0hJAyx7yQhrEEkDB60M1arUSQLi4lSe6phJAroXnGQqYEkA=",
          "dtype": "f8"
         }
        },
        {
         "hoverinfo": "skip",
         "line": {
          "color": "blue",
          "dash": "dash"
         },
         "mode": "lines",
         "name": "Trend Line",
         "type": "scatter",
         "visible": false,
         "x": {
          "bdata": "AQAA4FHx1j+q9StF07zcP6n1K1UqROE/fvDBB+sp5D9S61e6qw/nPybm7Wxs9ek/+uCDHy3b7D/O2xnS7cDvP1HrV0JXU/E/u+iimzfG8j8l5u30Fzn0P5DjOE74q/U/+uCDp9ge9z9k3s4AuZH4P87bGVqZBPo/ONlks3l3+z+i1q8MWur8PwzU+mU6Xf4/dtFFvxrQ/z9wZ0iMfaEAQCXm7bjtWgFA22ST5V0UAkCQ4zgSzs0CQERi3j4+hwNA+uCDa65ABECvXymYHvoEQGTezsSOswVAGV108f5sBkDO2xkebyYHQINav0rf3wdAONlkd0+ZCEDtVwqkv1IJQKLWr9AvDApAV1VV/Z/FCkAM1PopEH8LQMFSoFaAOAxAdtFFg/DxDEArUOuvYKsNQODOkNzQZA5AlU02CUEeD0BKzNs1sdcPQIClQLGQSBBA22STx0ilEEA1JObdAAIRQJDjOPS4XhFA6qKLCnG7EUBEYt4gKRgSQJ8hMTfhdBJA+uCDTZnREkBUoNZjUS4TQK9fKXoJixNACR98kMHnE0Bk3s6meUQUQL6dIb0xoRRAGV100+n9FEBzHMfpoVoVQM7bGQBatxVAKJtsFhIUFkCDWr8synAWQN0ZEkOCzRZAONlkWToqF0CSmLdv8oYXQO1XCoaq4xdARxddnGJAGECi1q+yGp0YQP2VAsnS+RhAV1VV34pWGUCyFKj1QrMZQAzU+gv7DxpAZ5NNIrNsGkDBUqA4a8kaQBwS804jJhtAdtFFZduCG0DRkJh7k98bQCtQ65FLPBxAhg8+qAOZHEDgzpC+u/UcQDuO49RzUh1AlU026yuvHUDwDIkB5AseQErM2xecaB5ApYsuLlTFHkAAS4FEDCIfQFoK1FrEfh9AtckmcXzbH0CIxLxDGhwgQDUk5k52SiBA4oMPWtJ4IECQ4zhlLqcgQD1DYnCK1SBA6qKLe+YDIUCXArWGQjIhQERi3pGeYCFA8sEHnfqOIUCfITGoVr0hQEyBWrOy6yFA+uCDvg4aIkCnQK3JakgiQFSg1tTGdiJAAQAA4CKlIkA=",
          "dtype": "f8"
         },
         "y": {
          "bdata": "iahlf2u2EkDr7UpGdcoSQE4zMA1/3hJAsHgV1IjyEkATvvqakgYTQHYD4GGcGhNA2EjFKKYuE0A7jqrvr0ITQJ3Tj7a5VhNAABl1fcNqE0BiXlpEzX4TQMWjPwvXkhNAKOkk0uCmE0CKLgqZ6roTQO1z71/0zhNAT7nUJv7iE0Cy/rntB/cTQBREn7QRCxRAd4mEexsfFEDazmlCJTMUQDwUTwkvRxRAn1k00DhbFEABnxmXQm8UQGTk/l1MgxRAxinkJFaXFEApb8nrX6sUQIy0rrJpvxRA7vmTeXPTFEBRP3lAfecUQLOEXgeH+xRAFspDzpAPFUB4DymVmiMVQNtUDlykNxVAPZrzIq5LFUCg39jpt18VQAIlvrDBcxVAZWqjd8uHFUDIr4g+1ZsVQCr1bQXfrxVAjTpTzOjDFUDvfziT8tcVQFLFHVr86xVAtQoDIQYAFkAXUOjnDxQWQHqVza4ZKBZA3NqydSM8FkA/IJg8LVAWQKFlfQM3ZBZABKtiykB4FkBm8EeRSowWQMk1LVhUoBZALHsSH160FkCOwPflZ8gWQPEF3axx3BZAU0vCc3vwFkC2kKc6hQQXQBjWjAGPGBdAextyyJgsF0DeYFePokAXQECmPFasVBdAo+shHbZoF0AFMQfkv3wXQGh27KrJkBdAyrvRcdOkF0AtAbc43bgXQJBGnP/mzBdA8ouBxvDgF0BV0WaN+vQXQLcWTFQECRhAGlwxGw4dGEB8oRbiFzEYQN/m+6ghRRhAQSzhbytZGECkccY2NW0YQAa3q/0+gRhAafyQxEiVGEDMQXaLUqkYQC6HW1JcvRhAkcxAGWbRGEDzESbgb+UYQFZXC6d5+RhAuJzwbYMNGUAb4tU0jSEZQH4nu/uWNRlA4GygwqBJGUBDsoWJql0ZQKb3alC0cRlACD1QF76FGUBrgjXex5kZQM3HGqXRrRlAMA0AbNvBGUCSUuUy5dUZQPSXyvnu6RlAWN2vwPj9GUC6IpWHAhIaQBxoek4MJhpAf61fFRY6GkDi8kTcH04aQEQ4KqMpYhpApn0PajN2GkA=",
          "dtype": "f8"
         }
        }
       ],
       "layout": {
        "autosize": false,
        "height": 600,
        "hoverlabel": {
         "font": {
          "size": 12
         }
        },
        "legend": {
         "borderwidth": 0,
         "font": {
          "size": 12
         },
         "x": 0.01,
         "y": 0.99
        },
        "margin": {
         "b": 80,
         "l": 80,
         "r": 80,
         "t": 80
        },
        "showlegend": true,
        "sliders": [
         {
          "active": 0,
          "currentvalue": {
           "prefix": "Metric: "
          },
          "len": 0.9,
          "pad": {
           "t": 50
          },
          "steps": [
           {
            "args": [
             {
              "visible": [
               true,
               false,
               false,
               true,
               false,
               false
              ]
             },
             {
              "title": "Happiness vs Life Expectancy",
              "xaxis": {
               "fixedrange": true,
               "range": [
                31.53,
                84.3563414634146
               ],
               "title": "Life Expectancy (years)"
              },
              "yaxis": {
               "fixedrange": true,
               "range": [
                2.853,
                7.769
               ],
               "title": "Happiness"
              }
             }
            ],
            "label": "Life Expectancy",
            "method": "update"
           },
           {
            "args": [
             {
              "visible": [
               false,
               true,
               false,
               false,
               true,
               false
              ]
             },
             {
              "title": "Happiness vs Unemployment Rate",
              "xaxis": {
               "fixedrange": true,
               "range": [
                0.1,
                28.468
               ],
               "title": "Unemployment Rate (%)"
              },
              "yaxis": {
               "fixedrange": true,
               "range": [
                2.853,
                7.769
               ],
               "title": "Happiness"
              }
             }
            ],
            "label": "Unemployment Rate",
            "method": "update"
           },
           {
            "args": [
             {
              "visible": [
               false,
               false,
               true,
               false,
               false,
               true
              ]
             },
             {
              "title": "Happiness vs Education Expenditure",
              "xaxis": {
               "fixedrange": true,
               "range": [
                0.358478993177414,
                9.32253170013428
               ],
               "title": "Education Expenditure (% of GDP)"
              },
              "yaxis": {
               "fixedrange": true,
               "range": [
                2.853,
                7.769
               ],
               "title": "Happiness"
              }
             }
            ],
            "label": "Education Expenditure",
            "method": "update"
           }
          ],
          "x": 0.1,
          "xanchor": "left"
         }
        ],
        "template": {
         "data": {
          "bar": [
           {
            "error_x": {
             "color": "#2a3f5f"
            },
            "error_y": {
             "color": "#2a3f5f"
            },
            "marker": {
             "line": {
              "color": "#E5ECF6",
              "width": 0.5
             },
             "pattern": {
              "fillmode": "overlay",
              "size": 10,
              "solidity": 0.2
             }
            },
            "type": "bar"
           }
          ],
          "barpolar": [
           {
            "marker": {
             "line": {
              "color": "#E5ECF6",
              "width": 0.5
             },
             "pattern": {
              "fillmode": "overlay",
              "size": 10,
              "solidity": 0.2
             }
            },
            "type": "barpolar"
           }
          ],
          "carpet": [
           {
            "aaxis": {
             "endlinecolor": "#2a3f5f",
             "gridcolor": "white",
             "linecolor": "white",
             "minorgridcolor": "white",
             "startlinecolor": "#2a3f5f"
            },
            "baxis": {
             "endlinecolor": "#2a3f5f",
             "gridcolor": "white",
             "linecolor": "white",
             "minorgridcolor": "white",
             "startlinecolor": "#2a3f5f"
            },
            "type": "carpet"
           }
          ],
          "choropleth": [
           {
            "colorbar": {
             "outlinewidth": 0,
             "ticks": ""
            },
            "type": "choropleth"
           }
          ],
          "contour": [
           {
            "colorbar": {
             "outlinewidth": 0,
             "ticks": ""
            },
            "colorscale": [
             [
              0,
              "#0d0887"
             ],
             [
              0.1111111111111111,
              "#46039f"
             ],
             [
              0.2222222222222222,
              "#7201a8"
             ],
             [
              0.3333333333333333,
              "#9c179e"
             ],
             [
              0.4444444444444444,
              "#bd3786"
             ],
             [
              0.5555555555555556,
              "#d8576b"
             ],
             [
              0.6666666666666666,
              "#ed7953"
             ],
             [
              0.7777777777777778,
              "#fb9f3a"
             ],
             [
              0.8888888888888888,
              "#fdca26"
             ],
             [
              1,
              "#f0f921"
             ]
            ],
            "type": "contour"
           }
          ],
          "contourcarpet": [
           {
            "colorbar": {
             "outlinewidth": 0,
             "ticks": ""
            },
            "type": "contourcarpet"
           }
          ],
          "heatmap": [
           {
            "colorbar": {
             "outlinewidth": 0,
             "ticks": ""
            },
            "colorscale": [
             [
              0,
              "#0d0887"
             ],
             [
              0.1111111111111111,
              "#46039f"
             ],
             [
              0.2222222222222222,
              "#7201a8"
             ],
             [
              0.3333333333333333,
              "#9c179e"
             ],
             [
              0.4444444444444444,
              "#bd3786"
             ],
             [
              0.5555555555555556,
              "#d8576b"
             ],
             [
              0.6666666666666666,
              "#ed7953"
             ],
             [
              0.7777777777777778,
              "#fb9f3a"
             ],
             [
              0.8888888888888888,
              "#fdca26"
             ],
             [
              1,
              "#f0f921"
             ]
            ],
            "type": "heatmap"
           }
          ],
          "histogram": [
           {
            "marker": {
             "pattern": {
              "fillmode": "overlay",
              "size": 10,
              "solidity": 0.2
             }
            },
            "type": "histogram"
           }
          ],
          "histogram2d": [
           {
            "colorbar": {
             "outlinewidth": 0,
             "ticks": ""
            },
            "colorscale": [
             [
              0,
              "#0d0887"
             ],
             [
              0.1111111111111111,
              "#46039f"
             ],
             [
              0.2222222222222222,
              "#7201a8"
             ],
             [
              0.3333333333333333,
              "#9c179e"
             ],
             [
              0.4444444444444444,
              "#bd3786"
             ],
             [
              0.5555555555555556,
              "#d8576b"
             ],
             [
              0.6666666666666666,
              "#ed7953"
             ],
             [
              0.7777777777777778,
              "#fb9f3a"
             ],
             [
              0.8888888888888888,
              "#fdca26"
             ],
             [
              1,
              "#f0f921"
             ]
            ],
            "type": "histogram2d"
           }
          ],
          "histogram2dcontour": [
           {
            "colorbar": {
             "outlinewidth": 0,
             "ticks": ""
            },
            "colorscale": [
             [
              0,
              "#0d0887"
             ],
             [
              0.1111111111111111,
              "#46039f"
             ],
             [
              0.2222222222222222,
              "#7201a8"
             ],
             [
              0.3333333333333333,
              "#9c179e"
             ],
             [
              0.4444444444444444,
              "#bd3786"
             ],
             [
              0.5555555555555556,
              "#d8576b"
             ],
             [
              0.6666666666666666,
              "#ed7953"
             ],
             [
              0.7777777777777778,
              "#fb9f3a"
             ],
             [
              0.8888888888888888,
              "#fdca26"
             ],
             [
              1,
              "#f0f921"
             ]
            ],
            "type": "histogram2dcontour"
           }
          ],
          "mesh3d": [
           {
            "colorbar": {
             "outlinewidth": 0,
             "ticks": ""
            },
            "type": "mesh3d"
           }
          ],
          "parcoords": [
           {
            "line": {
             "colorbar": {
              "outlinewidth": 0,
              "ticks": ""
             }
            },
            "type": "parcoords"
           }
          ],
          "pie": [
           {
            "automargin": true,
            "type": "pie"
           }
          ],
          "scatter": [
           {
            "fillpattern": {
             "fillmode": "overlay",
             "size": 10,
             "solidity": 0.2
            },
            "type": "scatter"
           }
          ],
          "scatter3d": [
           {
            "line": {
             "colorbar": {
              "outlinewidth": 0,
              "ticks": ""
             }
            },
            "marker": {
             "colorbar": {
              "outlinewidth": 0,
              "ticks": ""
             }
            },
            "type": "scatter3d"
           }
          ],
          "scattercarpet": [
           {
            "marker": {
             "colorbar": {
              "outlinewidth": 0,
              "ticks": ""
             }
            },
            "type": "scattercarpet"
           }
          ],
          "scattergeo": [
           {
            "marker": {
             "colorbar": {
              "outlinewidth": 0,
              "ticks": ""
             }
            },
            "type": "scattergeo"
           }
          ],
          "scattergl": [
           {
            "marker": {
             "colorbar": {
              "outlinewidth": 0,
              "ticks": ""
             }
            },
            "type": "scattergl"
           }
          ],
          "scattermap": [
           {
            "marker": {
             "colorbar": {
              "outlinewidth": 0,
              "ticks": ""
             }
            },
            "type": "scattermap"
           }
          ],
          "scattermapbox": [
           {
            "marker": {
             "colorbar": {
              "outlinewidth": 0,
              "ticks": ""
             }
            },
            "type": "scattermapbox"
           }
          ],
          "scatterpolar": [
           {
            "marker": {
             "colorbar": {
              "outlinewidth": 0,
              "ticks": ""
             }
            },
            "type": "scatterpolar"
           }
          ],
          "scatterpolargl": [
           {
            "marker": {
             "colorbar": {
              "outlinewidth": 0,
              "ticks": ""
             }
            },
            "type": "scatterpolargl"
           }
          ],
          "scatterternary": [
           {
            "marker": {
             "colorbar": {
              "outlinewidth": 0,
              "ticks": ""
             }
            },
            "type": "scatterternary"
           }
          ],
          "surface": [
           {
            "colorbar": {
             "outlinewidth": 0,
             "ticks": ""
            },
            "colorscale": [
             [
              0,
              "#0d0887"
             ],
             [
              0.1111111111111111,
              "#46039f"
             ],
             [
              0.2222222222222222,
              "#7201a8"
             ],
             [
              0.3333333333333333,
              "#9c179e"
             ],
             [
              0.4444444444444444,
              "#bd3786"
             ],
             [
              0.5555555555555556,
              "#d8576b"
             ],
             [
              0.6666666666666666,
              "#ed7953"
             ],
             [
              0.7777777777777778,
              "#fb9f3a"
             ],
             [
              0.8888888888888888,
              "#fdca26"
             ],
             [
              1,
              "#f0f921"
             ]
            ],
            "type": "surface"
           }
          ],
          "table": [
           {
            "cells": {
             "fill": {
              "color": "#EBF0F8"
             },
             "line": {
              "color": "white"
             }
            },
            "header": {
             "fill": {
              "color": "#C8D4E3"
             },
             "line": {
              "color": "white"
             }
            },
            "type": "table"
           }
          ]
         },
         "layout": {
          "annotationdefaults": {
           "arrowcolor": "#2a3f5f",
           "arrowhead": 0,
           "arrowwidth": 1
          },
          "autotypenumbers": "strict",
          "coloraxis": {
           "colorbar": {
            "outlinewidth": 0,
            "ticks": ""
           }
          },
          "colorscale": {
           "diverging": [
            [
             0,
             "#8e0152"
            ],
            [
             0.1,
             "#c51b7d"
            ],
            [
             0.2,
             "#de77ae"
            ],
            [
             0.3,
             "#f1b6da"
            ],
            [
             0.4,
             "#fde0ef"
            ],
            [
             0.5,
             "#f7f7f7"
            ],
            [
             0.6,
             "#e6f5d0"
            ],
            [
             0.7,
             "#b8e186"
            ],
            [
             0.8,
             "#7fbc41"
            ],
            [
             0.9,
             "#4d9221"
            ],
            [
             1,
             "#276419"
            ]
           ],
           "sequential": [
            [
             0,
             "#0d0887"
            ],
            [
             0.1111111111111111,
             "#46039f"
            ],
            [
             0.2222222222222222,
             "#7201a8"
            ],
            [
             0.3333333333333333,
             "#9c179e"
            ],
            [
             0.4444444444444444,
             "#bd3786"
            ],
            [
             0.5555555555555556,
             "#d8576b"
            ],
            [
             0.6666666666666666,
             "#ed7953"
            ],
            [
             0.7777777777777778,
             "#fb9f3a"
            ],
            [
             0.8888888888888888,
             "#fdca26"
            ],
            [
             1,
             "#f0f921"
            ]
           ],
           "sequentialminus": [
            [
             0,
             "#0d0887"
            ],
            [
             0.1111111111111111,
             "#46039f"
            ],
            [
             0.2222222222222222,
             "#7201a8"
            ],
            [
             0.3333333333333333,
             "#9c179e"
            ],
            [
             0.4444444444444444,
             "#bd3786"
            ],
            [
             0.5555555555555556,
             "#d8576b"
            ],
            [
             0.6666666666666666,
             "#ed7953"
            ],
            [
             0.7777777777777778,
             "#fb9f3a"
            ],
            [
             0.8888888888888888,
             "#fdca26"
            ],
            [
             1,
             "#f0f921"
            ]
           ]
          },
          "colorway": [
           "#636efa",
           "#EF553B",
           "#00cc96",
           "#ab63fa",
           "#FFA15A",
           "#19d3f3",
           "#FF6692",
           "#B6E880",
           "#FF97FF",
           "#FECB52"
          ],
          "font": {
           "color": "#2a3f5f"
          },
          "geo": {
           "bgcolor": "white",
           "lakecolor": "white",
           "landcolor": "#E5ECF6",
           "showlakes": true,
           "showland": true,
           "subunitcolor": "white"
          },
          "hoverlabel": {
           "align": "left"
          },
          "hovermode": "closest",
          "mapbox": {
           "style": "light"
          },
          "paper_bgcolor": "white",
          "plot_bgcolor": "#E5ECF6",
          "polar": {
           "angularaxis": {
            "gridcolor": "white",
            "linecolor": "white",
            "ticks": ""
           },
           "bgcolor": "#E5ECF6",
           "radialaxis": {
            "gridcolor": "white",
            "linecolor": "white",
            "ticks": ""
           }
          },
          "scene": {
           "xaxis": {
            "backgroundcolor": "#E5ECF6",
            "gridcolor": "white",
            "gridwidth": 2,
            "linecolor": "white",
            "showbackground": true,
            "ticks": "",
            "zerolinecolor": "white"
           },
           "yaxis": {
            "backgroundcolor": "#E5ECF6",
            "gridcolor": "white",
            "gridwidth": 2,
            "linecolor": "white",
            "showbackground": true,
            "ticks": "",
            "zerolinecolor": "white"
           },
           "zaxis": {
            "backgroundcolor": "#E5ECF6",
            "gridcolor": "white",
            "gridwidth": 2,
            "linecolor": "white",
            "showbackground": true,
            "ticks": "",
            "zerolinecolor": "white"
           }
          },
          "shapedefaults": {
           "line": {
            "color": "#2a3f5f"
           }
          },
          "ternary": {
           "aaxis": {
            "gridcolor": "white",
            "linecolor": "white",
            "ticks": ""
           },
           "baxis": {
            "gridcolor": "white",
            "linecolor": "white",
            "ticks": ""
           },
           "bgcolor": "#E5ECF6",
           "caxis": {
            "gridcolor": "white",
            "linecolor": "white",
            "ticks": ""
           }
          },
          "title": {
           "x": 0.05
          },
          "xaxis": {
           "automargin": true,
           "gridcolor": "white",
           "linecolor": "white",
           "ticks": "",
           "title": {
            "standoff": 15
           },
           "zerolinecolor": "white",
           "zerolinewidth": 2
          },
          "yaxis": {
           "automargin": true,
           "gridcolor": "white",
           "linecolor": "white",
           "ticks": "",
           "title": {
            "standoff": 15
           },
           "zerolinecolor": "white",
           "zerolinewidth": 2
          }
         }
        },
        "title": {
         "text": "Happiness vs Life Expectancy"
        },
        "width": 800,
        "xaxis": {
         "fixedrange": true,
         "range": [
          31.53,
          84.3563414634146
         ],
         "tickfont": {
          "size": 12
         },
         "title": {
          "font": {
           "size": 14
          },
          "text": "Life Expectancy (years)"
         }
        },
        "yaxis": {
         "dtick": 1,
         "fixedrange": true,
         "range": [
          2.853,
          7.769
         ],
         "tickfont": {
          "size": 12
         },
         "tickmode": "linear",
         "title": {
          "font": {
           "size": 14
          },
          "text": "Happiness"
         }
        }
       }
      },
      "text/html": [
       "<div>            <script src=\"https://cdnjs.cloudflare.com/ajax/libs/mathjax/2.7.5/MathJax.js?config=TeX-AMS-MML_SVG\"></script><script type=\"text/javascript\">if (window.MathJax && window.MathJax.Hub && window.MathJax.Hub.Config) {window.MathJax.Hub.Config({SVG: {font: \"STIX-Web\"}});}</script>                <script type=\"text/javascript\">window.PlotlyConfig = {MathJaxConfig: 'local'};</script>\n",
       "        <script charset=\"utf-8\" src=\"https://cdn.plot.ly/plotly-3.0.1.min.js\"></script>                <div id=\"71e1fdf5-b404-456c-acef-65d196b2ed61\" class=\"plotly-graph-div\" style=\"height:600px; width:800px;\"></div>            <script type=\"text/javascript\">                window.PLOTLYENV=window.PLOTLYENV || {};                                if (document.getElementById(\"71e1fdf5-b404-456c-acef-65d196b2ed61\")) {                    Plotly.newPlot(                        \"71e1fdf5-b404-456c-acef-65d196b2ed61\",                        [{\"customdata\":{\"dtype\":\"i2\",\"bdata\":\"AQACAAMABAAFAAYABwAIAAkACgALAAwADQAOAA8AEAARABIAEwAUABUAFgAXABgAGQAaABsAHAAdAB4AHwAgACEAIgAjACQAJQAmACcAKAApACoAKwAsAC0ALgAvADAAMQAyADMANAA1ADYANwA4ADkAOgA7ADwAPQA+AD8AQABBAEIAQwBEAEUARgBHAEgASQBKAEsATABNAE4ATwBPAFEAUgBTAFQAVQBWAFcAWABZAFoAWwBcAF0AXgBfAGAAYQBiAGMAZABlAGYAZwBoAGkAagBrAGwAbQBuAG8AcABxAHIAcwB0AHUAdgB3AHgAeQB6AHsAfAB9AH4AfwCAAIEAggCDAIQAhQA=\"},\"hovertemplate\":\"Country: %{text}\\u003cbr\\u003eRank: %{customdata} out of 133\\u003cbr\\u003eLife Expectancy: %{x:.1f} years\\u003cbr\\u003eHappiness: %{y:.2f}\\u003cextra\\u003e\\u003c\\u002fextra\\u003e\",\"mode\":\"markers\",\"name\":\"Life Expectancy\",\"text\":[\"Finland\",\"Denmark\",\"Norway\",\"Iceland\",\"Netherlands\",\"Switzerland\",\"Sweden\",\"New Zealand\",\"Canada\",\"Austria\",\"Australia\",\"Costa Rica\",\"Israel\",\"Luxembourg\",\"United Kingdom\",\"Ireland\",\"Germany\",\"Belgium\",\"United States\",\"United Arab Emirates\",\"Malta\",\"Mexico\",\"France\",\"Chile\",\"Guatemala\",\"Saudi Arabia\",\"Qatar\",\"Spain\",\"Panama\",\"Brazil\",\"Uruguay\",\"Singapore\",\"El Salvador\",\"Italy\",\"Bahrain\",\"Poland\",\"Uzbekistan\",\"Lithuania\",\"Colombia\",\"Slovenia\",\"Nicaragua\",\"Kosovo\",\"Argentina\",\"Romania\",\"Cyprus\",\"Ecuador\",\"Kuwait\",\"Thailand\",\"Latvia\",\"Estonia\",\"Jamaica\",\"Mauritius\",\"Japan\",\"Honduras\",\"Kazakhstan\",\"Bolivia\",\"Hungary\",\"Paraguay\",\"Peru\",\"Portugal\",\"Pakistan\",\"Philippines\",\"Serbia\",\"Moldova\",\"Libya\",\"Montenegro\",\"Tajikistan\",\"Croatia\",\"Dominican Republic\",\"Bosnia and Herzegovina\",\"Malaysia\",\"Belarus\",\"Greece\",\"Mongolia\",\"North Macedonia\",\"Nigeria\",\"Turkmenistan\",\"Algeria\",\"Morocco\",\"Azerbaijan\",\"Lebanon\",\"Indonesia\",\"China\",\"Bhutan\",\"Cameroon\",\"Bulgaria\",\"Ghana\",\"Nepal\",\"Jordan\",\"Benin\",\"Gabon\",\"South Africa\",\"Albania\",\"Cambodia\",\"Senegal\",\"Somalia\",\"Namibia\",\"Niger\",\"Burkina Faso\",\"Armenia\",\"Guinea\",\"Georgia\",\"Kenya\",\"Mauritania\",\"Mozambique\",\"Tunisia\",\"Bangladesh\",\"Iraq\",\"Mali\",\"Sierra Leone\",\"Sri Lanka\",\"Myanmar\",\"Chad\",\"Ukraine\",\"Ethiopia\",\"Uganda\",\"Zambia\",\"Togo\",\"India\",\"Liberia\",\"Comoros\",\"Madagascar\",\"Lesotho\",\"Burundi\",\"Zimbabwe\",\"Haiti\",\"Botswana\",\"Malawi\",\"Rwanda\",\"Tanzania\",\"Afghanistan\",\"Central African Republic\",\"South Sudan\"],\"visible\":true,\"x\":{\"dtype\":\"f8\",\"bdata\":\"X4TuReh+VEB7DM7H4FxUQKGK1alYvVRAKFanYnXKVEBG43I0LodUQFuYnoXp+VRA6WNwPgbHVECjcTkal4NUQB2Wp2F5ilRA2JqUrUl5VECamZmZmblUQG3n+6nxElRA9DE4H4OzVEBpXI7G5ahUQE0urbGfV1RAMUzPwvSsVEAVtStRu1JUQD8B+xOwf1RAVLYmZWuyU0CgGi\\u002fdJKZUQG1XonYlqlRAUrgeheuhUkBWrE7F6rRUQNv5fmq8FFRAN4lBYOXoUUB56SYxCJRTQBSuR+F6vFRAF6tTsTr1VEA3iUFg5aBTQLKd76fG81JA1XjpJjFgU0ClZ2F6FuZUQGZmZmZm7lFAo4D9CdjfVECgGi\\u002fdJB5UQFuYnoXpeVNAy6FFtvMFUkCTtyF5GxJTQJhuEoPAMlNAgPgdiN9hVEA3iUFg5XBSQA4tsp3vT1NAke18PzU2U0CF5G1I3uZSQJMYBFYOXVRA\\u002fKnx0k1SU0DAB+F7EH5UQPhT46WbTFNAuhyNy9HYUkCO2pWoXalTQDVeukkM4lFAoIPxORiPUkDE5GxMzhZVQA4tsp3vB1JAJzEIrBxqUkAUrkfhevRQQDEuR+NyFFNAmG4Sg8BqUkCamZmZmRFTQA7TszA9a1RALbKd76euUEDsUbgehWtRQD8QvwPx+1JA3SQGgZWLUUBOYhBYOTxSQCxRuxK1K1NAIbByaJG9UUCMxuVoXI5TQLpJDAIrR1JA8KfGSzdZU0CamZmZmflSQPBF6F6EjlJAaVyOxuVoVEBicjYmZ8NRQMvlaFyOJlNA\\u002ftR46SaBSkBSuB6F61lRQM\\u002f3U+Ol61JASOF6FK6PUkDD9Shcj1JSQFpkO99PjVNAdZMYBFaWUUBcj8L1KHxTQLgehetRAFJAKVyPwvXYTkBG43I0LsdSQIXrUbgeHVBAQmDl0CJTUUCPwvUoXDdTQIts5\\u002fup8U1AIbByaJHVUEAGgZVDi4RQQNnO91Pj3VNA46WbxCCIUUCYbhKDwOpQQB1aZDvfn0xA2c73U+PFT0CHFtnO9wNOQGQ730+NF05AL0fjcjQOU0CNl24Sg7BNQMP1KFyPilJA1XjpJjF4T0ApXI\\u002fC9ehQQLpJDAIrp05AdZMYBFbmUkAAAAAAAChSQEjhehSuz1FAsp3vp8abTUCWQ4ts58tNQOkmMQisLFNAaJHtfD+dUEDJdr6fGn9KQHsUrkfhelJAgZVDi2xvUEAtsp3vp5ZQQKJFtvP9dE9A16NwPQqHTkA5tMh2vq9RQARWDi2ynU5A7nw\\u002fNV5qUECNl24Sg8BPQB1aZDvfn0tA16NwPQoXT0BI4XoUrodOQKJFtvP9FFBAppvEILDKUEBI4XoUrj9QQE5iEFg5rFBAnMQgsHKAUECcxCCwcnhPQEjhehSuhz9AjZduEoMQTUA=\"},\"y\":{\"dtype\":\"f8\",\"bdata\":\"+n5qvHQTH0BmZmZmZmYeQJ7vp8ZLNx5AYOXQItv5HUDByqFFtvMdQOxRuB6F6x1ArBxaZDtfHUDufD81XjodQOkmMQisHB1AlkOLbOf7HEC28\\u002f3UeOkcQF66SQwCqxxAdZMYBFaOHEBcj8L1KFwcQJ7vp8ZLNxxAL90kBoEVHEBxPQrXo\\u002fAbQP7UeOkmsRtAxSCwcmiRG0DNzMzMzEwbQIGVQ4ts5xpA4XoUrkdhGkCR7Xw\\u002fNV4aQC2yne+nxhlAWDm0yHa+GUAAAAAAAIAZQOXQItv5fhlA0SLb+X5qGUBiEFg5tEgZQDMzMzMzMxlAeekmMQgsGUA\\u002fNV66SQwZQFCNl24SAxlAMQisHFrkGECyne+nxssYQO58PzVeuhhAGQRWDi2yGEB\\u002farx0k5gYQAAAAAAAgBhARrbz\\u002fdR4GEDsUbgehWsYQGZmZmZmZhhA8tJNYhBYGEBI4XoUrkcYQMl2vp8aLxhA6SYxCKwcGEAv3SQGgRUYQNV46SYxCBhAw\\u002fUoXI\\u002fCF0DfT42XbpIXQI\\u002fC9ShcjxdAWmQ730+NF0AlBoGVQ4sXQHE9CtejcBdAI9v5fmo8F0AEVg4tsh0XQNV46SYxCBdARrbz\\u002fdT4FkB9PzVeuskWQBKDwMqhxRZA6SYxCKycFkCgGi\\u002fdJIYWQLbz\\u002fdR4aRZABFYOLbIdFkCamZmZmRkWQGQ730+NFxZAke18PzXeFUDufD81XroVQDMzMzMzsxVAJQaBlUOLFUBCYOXQIlsVQJhuEoPAShVA2c73U+MlFUCkcD0K1yMVQH9qvHSTGBVAj8L1KFwPFUCwcmiR7fwUQPLSTWIQ2BRAokW28\\u002f3UFECiRbbz\\u002fdQUQH0\\u002fNV66yRRA+FPjpZvEFEDdJAaBlcMUQIcW2c73UxRAkxgEVg4tFEAlBoGVQwsUQJZDi2zn+xNA9P3UeOmmE0A5tMh2vp8TQNV46SYxiBNAGQRWDi0yE0AX2c73U+MSQMdLN4lB4BJAzczMzMzMEkDTTWIQWLkSQHnpJjEIrBJAdZMYBFaOEkBQjZduEoMSQAwCK4cWWRJAI9v5fmo8EkCJQWDl0CISQPp+arx0ExJA8KfGSzcJEkD2KFyPwvURQHe+nxov3RFA8tJNYhDYEUBt5\\u002fup8dIRQHNoke18vxFAj8L1KFyPEUDl0CLb+X4RQBBYObTIdhFAcT0K16NwEUBmZmZmZmYRQIcW2c73UxFAvp8aL90kEUCoxks3icEQQCGwcmiRbRBA16NwPQpXEECPwvUoXA8QQM3MzMzMzA9AYhBYObTID0AQWDm0yHYPQNEi2\\u002fl+ag5AMzMzMzMzDkDn+6nx0k0NQC2yne+nxgxAgZVDi2znC0BI4XoUrkcLQHnpJjEIrApADAIrhxbZCUA5tMh2vp8JQESLbOf7qQhAbef7qfHSBkA=\"},\"type\":\"scatter\"},{\"customdata\":{\"dtype\":\"i2\",\"bdata\":\"AQACAAMABAAFAAYABwAIAAkACgALAAwADQAOAA8AEAARABIAEwAUABUAFgAXABgAGQAaABsAHAAdAB4AHwAgACEAIgAkACUAJgAnACgAKgArACwALQAuADAAMQAyADMANAA1ADYANwA4ADkAOgA7ADwAPQA+AD8AQABCAEQARQBGAEcASABJAEoASwBMAE8AUQBSAFMAVABWAFkAWgBcAF0AXgBfAGAAYgBjAGQAZQBmAGcAaABqAG0AbwBwAHIAdAB1AHYAdwB7AH0AfwCBAA==\"},\"hovertemplate\":\"Country: %{text}\\u003cbr\\u003eRank: %{customdata} out of 133\\u003cbr\\u003eUnemployment Rate: %{x:.1f}%\\u003cbr\\u003eHappiness: %{y:.2f}\\u003cextra\\u003e\\u003c\\u002fextra\\u003e\",\"mode\":\"markers\",\"name\":\"Unemployment Rate\",\"text\":[\"Finland\",\"Denmark\",\"Norway\",\"Iceland\",\"Netherlands\",\"Switzerland\",\"Sweden\",\"New Zealand\",\"Canada\",\"Austria\",\"Australia\",\"Costa Rica\",\"Israel\",\"Luxembourg\",\"United Kingdom\",\"Ireland\",\"Germany\",\"Belgium\",\"United States\",\"United Arab Emirates\",\"Malta\",\"Mexico\",\"France\",\"Chile\",\"Guatemala\",\"Saudi Arabia\",\"Qatar\",\"Spain\",\"Panama\",\"Brazil\",\"Uruguay\",\"Singapore\",\"El Salvador\",\"Italy\",\"Poland\",\"Uzbekistan\",\"Lithuania\",\"Colombia\",\"Slovenia\",\"Kosovo\",\"Argentina\",\"Romania\",\"Cyprus\",\"Ecuador\",\"Thailand\",\"Latvia\",\"Estonia\",\"Jamaica\",\"Mauritius\",\"Japan\",\"Honduras\",\"Kazakhstan\",\"Bolivia\",\"Hungary\",\"Paraguay\",\"Peru\",\"Portugal\",\"Pakistan\",\"Philippines\",\"Serbia\",\"Moldova\",\"Montenegro\",\"Croatia\",\"Dominican Republic\",\"Bosnia and Herzegovina\",\"Malaysia\",\"Belarus\",\"Greece\",\"Mongolia\",\"North Macedonia\",\"Nigeria\",\"Azerbaijan\",\"Lebanon\",\"Indonesia\",\"China\",\"Bhutan\",\"Bulgaria\",\"Jordan\",\"Benin\",\"South Africa\",\"Albania\",\"Cambodia\",\"Senegal\",\"Somalia\",\"Niger\",\"Burkina Faso\",\"Armenia\",\"Guinea\",\"Georgia\",\"Kenya\",\"Mauritania\",\"Tunisia\",\"Mali\",\"Sri Lanka\",\"Myanmar\",\"Ukraine\",\"Uganda\",\"Zambia\",\"Togo\",\"India\",\"Lesotho\",\"Zimbabwe\",\"Botswana\",\"Rwanda\"],\"visible\":false,\"x\":{\"dtype\":\"f8\",\"bdata\":\"SOF6FK7HGkDfT42XbhIUQEa28\\u002f3UeA1AdZMYBFYODEDVeOkmMQgLQPp+arx0kxFAokW28\\u002f1UG0BWDi2ynW8QQMP1KFyPwhZAPQrXo3A9EkDfT42XbpIUQHe+nxovnSVADAIrhxbZDUCR7Xw\\u002fNV4WQKjGSzeJQQ1AzczMzMzME0Dn+6nx0k0JQNv5fmq8dBVAJzEIrBxaDUDZzvdT46UCQGq8dJMYBA1AN4lBYOXQC0AUrkfhetQgQEa28\\u002f3U+B1AJQaBlUOLAUAlBoGVQ4sWQJqZmZmZmbk\\u002f9ihcj8I1LECJQWDl0KIZQKwcWmQ73ydAeekmMQisIUDNzMzMzMwIQK5H4XoUrhBAgZVDi2znI0CJQWDl0CIKQPYoXI\\u002fC9SFAhetRuB4FGUCPwvUoXI8kQGIQWDm0yBFAi2zn+6kROUBWDi2yna8jQLKd76fGSw9AH4XrUbieHEDl0CLb+X4OQLbz\\u002fdR46eY\\u002fc2iR7Xw\\u002fGUB1kxgEVg4SQKabxCCw8hNAbef7qfFSGUACK4cW2c4CQJhuEoPAyhZAMzMzMzMzE0Db+X5qvHQNQCcxCKwcWgtA4XoUrkdhGkDVeOkmMQgLQEJg5dAi2xlAUrgehetRE0BMN4lBYOUBQArXo3A9yiRA1XjpJjEI+D+oxks3iUEuQCuHFtnOdxpABoGVQ4tsGUD8qfHSTWIvQBSuR+F6FApAKVyPwvWoEEDsUbgehQsxQD81XrpJDCJARIts5\\u002ftpMUCkcD0K12MlQAAAAAAAABRAJzEIrByaJkC4HoXrUbgMQJqZmZmZmRRAw\\u002fUoXI\\u002fCBUDsUbgehesQQJMYBFYOzTBABoGVQ4ts8z8rhxbZznc8QDvfT42X7iZAVg4tsp3v3z+BlUOLbOcGQIcW2c730zJAoBov3SQG4T\\u002f2KFyPwvX4P0oMAiuHliNA30+Nl24SFEDhehSuRyEnQHWTGARWDhRAokW28\\u002f3UJEC6SQwCKycxQFK4HoXrUQpArkfhehSuEkA\\u002fNV66SQzaPxfZzvdTYyBAGy\\u002fdJAaBBED0\\u002fdR46SYWQH0\\u002fNV66SQBACtejcD0KGkDHSzeJQeAwQMuhRbbzfR1A8tJNYhAYNEBGtvP91HgmQA==\"},\"y\":{\"dtype\":\"f8\",\"bdata\":\"+n5qvHQTH0BmZmZmZmYeQJ7vp8ZLNx5AYOXQItv5HUDByqFFtvMdQOxRuB6F6x1ArBxaZDtfHUDufD81XjodQOkmMQisHB1AlkOLbOf7HEC28\\u002f3UeOkcQF66SQwCqxxAdZMYBFaOHEBcj8L1KFwcQJ7vp8ZLNxxAL90kBoEVHEBxPQrXo\\u002fAbQP7UeOkmsRtAxSCwcmiRG0DNzMzMzEwbQIGVQ4ts5xpA4XoUrkdhGkCR7Xw\\u002fNV4aQC2yne+nxhlAWDm0yHa+GUAAAAAAAIAZQOXQItv5fhlA0SLb+X5qGUBiEFg5tEgZQDMzMzMzMxlAeekmMQgsGUA\\u002fNV66SQwZQFCNl24SAxlAMQisHFrkGEDufD81XroYQBkEVg4tshhAf2q8dJOYGEAAAAAAAIAYQEa28\\u002f3UeBhAZmZmZmZmGEDy0k1iEFgYQEjhehSuRxhAyXa+nxovGEDpJjEIrBwYQNV46SYxCBhAw\\u002fUoXI\\u002fCF0DfT42XbpIXQI\\u002fC9ShcjxdAWmQ730+NF0AlBoGVQ4sXQHE9CtejcBdAI9v5fmo8F0AEVg4tsh0XQNV46SYxCBdARrbz\\u002fdT4FkB9PzVeuskWQBKDwMqhxRZA6SYxCKycFkCgGi\\u002fdJIYWQLbz\\u002fdR4aRZABFYOLbIdFkBkO99PjRcWQO58PzVeuhVAMzMzMzOzFUAlBoGVQ4sVQEJg5dAiWxVAmG4Sg8BKFUDZzvdT4yUVQKRwPQrXIxVAf2q8dJMYFUCPwvUoXA8VQKJFtvP91BRAfT81XrrJFED4U+Olm8QUQN0kBoGVwxRAhxbZzvdTFEAlBoGVQwsUQDm0yHa+nxNA1XjpJjGIE0AX2c73U+MSQMdLN4lB4BJAzczMzMzMEkDTTWIQWLkSQHnpJjEIrBJAUI2XbhKDEkAMAiuHFlkSQCPb+X5qPBJAiUFg5dAiEkD6fmq8dBMSQPCnxks3CRJA9ihcj8L1EUDy0k1iENgRQI\\u002fC9ShcjxFAEFg5tMh2EUBxPQrXo3ARQIcW2c73UxFAqMZLN4nBEEAhsHJokW0QQNejcD0KVxBAj8L1KFwPEEDRItv5fmoOQOf7qfHSTQ1AgZVDi2znC0B56SYxCKwKQA==\"},\"type\":\"scatter\"},{\"customdata\":{\"dtype\":\"i2\",\"bdata\":\"AQACAAMABAAFAAYABwAIAAkACgALAAwADQAOAA8AEAARABIAEwAUABUAFwAYABkAGwAcAB0AHgAfACAAIQAiACMAJAAlACYAKAApACsALAAtAC4ALwAwADEAMgAzADQANQA2ADcAOAA5ADoAOwA8AD0APgA\\u002fAEAAQwBEAEUARgBHAEgASQBKAEwATQBOAE8ATwBRAFIAUwBUAFUAVgBXAFgAWQBaAFsAXABdAF4AXwBhAGIAYwBkAGUAZgBnAGgAaQBqAGsAbQBuAHAAcQByAHMAdAB1AHYAdwB4AHoAewB8AH4AfwCBAIIAhAA=\"},\"hovertemplate\":\"Country: %{text}\\u003cbr\\u003eRank: %{customdata} out of 133\\u003cbr\\u003eEducation Expenditure: %{x:.2f}% of GDP\\u003cbr\\u003eHappiness: %{y:.2f}\\u003cextra\\u003e\\u003c\\u002fextra\\u003e\",\"mode\":\"markers\",\"name\":\"Education Expenditure\",\"text\":[\"Finland\",\"Denmark\",\"Norway\",\"Iceland\",\"Netherlands\",\"Switzerland\",\"Sweden\",\"New Zealand\",\"Canada\",\"Austria\",\"Australia\",\"Costa Rica\",\"Israel\",\"Luxembourg\",\"United Kingdom\",\"Ireland\",\"Germany\",\"Belgium\",\"United States\",\"United Arab Emirates\",\"Malta\",\"France\",\"Chile\",\"Guatemala\",\"Qatar\",\"Spain\",\"Panama\",\"Brazil\",\"Uruguay\",\"Singapore\",\"El Salvador\",\"Italy\",\"Bahrain\",\"Poland\",\"Uzbekistan\",\"Lithuania\",\"Slovenia\",\"Nicaragua\",\"Argentina\",\"Romania\",\"Cyprus\",\"Ecuador\",\"Kuwait\",\"Thailand\",\"Latvia\",\"Estonia\",\"Jamaica\",\"Mauritius\",\"Japan\",\"Honduras\",\"Kazakhstan\",\"Bolivia\",\"Hungary\",\"Paraguay\",\"Peru\",\"Portugal\",\"Pakistan\",\"Philippines\",\"Serbia\",\"Moldova\",\"Tajikistan\",\"Croatia\",\"Dominican Republic\",\"Bosnia and Herzegovina\",\"Malaysia\",\"Belarus\",\"Greece\",\"Mongolia\",\"Nigeria\",\"Turkmenistan\",\"Algeria\",\"Morocco\",\"Azerbaijan\",\"Lebanon\",\"Indonesia\",\"China\",\"Bhutan\",\"Cameroon\",\"Bulgaria\",\"Ghana\",\"Nepal\",\"Jordan\",\"Benin\",\"Gabon\",\"South Africa\",\"Albania\",\"Cambodia\",\"Senegal\",\"Namibia\",\"Niger\",\"Burkina Faso\",\"Armenia\",\"Guinea\",\"Georgia\",\"Kenya\",\"Mauritania\",\"Mozambique\",\"Tunisia\",\"Bangladesh\",\"Mali\",\"Sierra Leone\",\"Myanmar\",\"Chad\",\"Ukraine\",\"Ethiopia\",\"Uganda\",\"Zambia\",\"Togo\",\"India\",\"Liberia\",\"Madagascar\",\"Lesotho\",\"Burundi\",\"Haiti\",\"Botswana\",\"Rwanda\",\"Tanzania\",\"Central African Republic\"],\"visible\":false,\"x\":{\"dtype\":\"f8\",\"bdata\":\"AgAAAPWqGUABAADgKwUdQP\\u002f\\u002f\\u002fz9PdR9AAAAAILtnHkAFAABgsqMUQPz\\u002f\\u002fz+8DhRAAQAAoNWNHkD7\\u002f\\u002f9fQLYUQP7\\u002f\\u002f\\u002f96FxNAAwAAYATfFED7\\u002f\\u002f9\\u002fywgWQAIAAEDL8xpAAwAAIHcqGED5\\u002f\\u002f+feOMNQAUAAIBtCxVABwAAYI5eCkD8\\u002f\\u002f\\u002ffSnYUQPz\\u002f\\u002fz\\u002f8VRlABAAAAHPUE0D4\\u002f\\u002f+\\u002fteEOQP\\u002f\\u002f\\u002fz\\u002fvmBNA\\u002fP\\u002f\\u002fv+9qFUD8\\u002f\\u002f9fV4EWQAYAAOAziwlAAQAAQCRuBkACAADAvusQQAUAAAARvwhABAAA4JfaF0D7\\u002f\\u002f9\\u002fa4MSQPr\\u002f\\u002f18J1gVACgAAIM0YC0D+\\u002f\\u002f9\\u002fjmEQQAYAAICrEwNABAAAABq3EkABAABgby4ZQPn\\u002f\\u002f\\u002f95tg9AAQAAQO2QE0AAAABgUWYSQAQAAGArFhNA\\u002f\\u002f\\u002f\\u002fHx2JDED7\\u002f\\u002f\\u002ffs9kUQP3\\u002f\\u002f7+t+xBABQAAgF3pGkAAAACgfi0IQPr\\u002f\\u002f99MvhFA+\\u002f\\u002f\\u002ff6sKFUD+\\u002f\\u002f8\\u002fkacUQAIAAAD1KhJAAQAA4CI+CUD9\\u002f\\u002f+\\u002f1roXQAQAAECg1ApA\\u002fv\\u002f\\u002fv5wuIEABAAAAR+YQQPr\\u002f\\u002fx8s6wtA\\u002fv\\u002f\\u002fH1aUDkD9\\u002f\\u002f\\u002f\\u002fI4USQP3\\u002f\\u002f78muAFA\\u002fv\\u002f\\u002fP4hCC0D4\\u002f\\u002f\\u002ffh+4MQAQAAEAw5xhA\\u002fv\\u002f\\u002fH+bvFUD2\\u002f\\u002f\\u002ffUlwPQP3\\u002f\\u002f5\\u002fLKxBAAAAAYJEtEED9\\u002f\\u002f\\u002ffGNYPQAEAAGD\\u002f6hNA9f\\u002f\\u002f32SwDED7\\u002f\\u002f+fDTgNQAEAAOBR8dY\\u002fAQAA4OL2CEACAACgLE0WQAMAAMBVAxRA+\\u002f\\u002f\\u002f32NpCUAGAAAAWM0EQAQAAIBb3O4\\u002f\\u002f\\u002f\\u002f\\u002f\\u002f9E8EEAEAABAEAoSQPj\\u002f\\u002f\\u002f8SYQhA\\u002fv\\u002f\\u002ff87LEEADAABgfTkJQAIAAKCs4gtABAAAAGPoB0D5\\u002f\\u002f9fu7gHQP7\\u002f\\u002fx+W\\u002fgZA+\\u002f\\u002f\\u002fP3WlF0D2\\u002f\\u002f+fdVQPQAMAAODwmgZA\\u002f\\u002f\\u002f\\u002f3x0kFEABAADgIqUiQAYAAKC2NQxAAgAAgOigFUD9\\u002f\\u002f+\\u002fRpMEQPn\\u002f\\u002f3\\u002fmuv0\\u002f+\\u002f\\u002f\\u002fn42jDkAEAADgjn4VQOz\\u002f\\u002f7++K\\u002f0\\u002fBQAAgEQlGUD\\u002f\\u002f\\u002f\\u002ff5rEYQPf\\u002f\\u002fx\\u002f35vo\\u002f9v\\u002f\\u002f\\u002f71wDEAFAACAvckdQO3\\u002f\\u002f18E\\u002f\\u002f8\\u002fAgAAQMv6AkD\\u002f\\u002f\\u002f8f5MMVQP\\u002f\\u002f\\u002f\\u002f9o7BFAAQAA4Ft3AkADAAAgR6wRQAEAACCCzhBABgAAALgtD0AEAACAFlIBQAsAAABpGwhABAAAALrGHED+\\u002f\\u002f8\\u002fAWMVQAUAAECOJvw\\u002f\\u002fv\\u002f\\u002fP0nMIEALAABg0egJQAEAACBSxgxABQAAQGdJ\\u002fD8=\"},\"y\":{\"dtype\":\"f8\",\"bdata\":\"+n5qvHQTH0BmZmZmZmYeQJ7vp8ZLNx5AYOXQItv5HUDByqFFtvMdQOxRuB6F6x1ArBxaZDtfHUDufD81XjodQOkmMQisHB1AlkOLbOf7HEC28\\u002f3UeOkcQF66SQwCqxxAdZMYBFaOHEBcj8L1KFwcQJ7vp8ZLNxxAL90kBoEVHEBxPQrXo\\u002fAbQP7UeOkmsRtAxSCwcmiRG0DNzMzMzEwbQIGVQ4ts5xpAke18PzVeGkAtsp3vp8YZQFg5tMh2vhlA5dAi2\\u002fl+GUDRItv5fmoZQGIQWDm0SBlAMzMzMzMzGUB56SYxCCwZQD81XrpJDBlAUI2XbhIDGUAxCKwcWuQYQLKd76fGyxhA7nw\\u002fNV66GEAZBFYOLbIYQH9qvHSTmBhARrbz\\u002fdR4GEDsUbgehWsYQPLSTWIQWBhASOF6FK5HGEDJdr6fGi8YQOkmMQisHBhAL90kBoEVGEDVeOkmMQgYQMP1KFyPwhdA30+Nl26SF0CPwvUoXI8XQFpkO99PjRdAJQaBlUOLF0BxPQrXo3AXQCPb+X5qPBdABFYOLbIdF0DVeOkmMQgXQEa28\\u002f3U+BZAfT81XrrJFkASg8DKocUWQOkmMQisnBZAoBov3SSGFkC28\\u002f3UeGkWQARWDi2yHRZAke18PzXeFUDufD81XroVQDMzMzMzsxVAJQaBlUOLFUBCYOXQIlsVQJhuEoPAShVA2c73U+MlFUCkcD0K1yMVQI\\u002fC9ShcDxVAsHJoke38FEDy0k1iENgUQKJFtvP91BRAokW28\\u002f3UFEB9PzVeuskUQPhT46WbxBRA3SQGgZXDFECHFtnO91MUQJMYBFYOLRRAJQaBlUMLFECWQ4ts5\\u002fsTQPT91HjpphNAObTIdr6fE0DVeOkmMYgTQBkEVg4tMhNAF9nO91PjEkDHSzeJQeASQM3MzMzMzBJA001iEFi5EkB1kxgEVo4SQFCNl24SgxJADAIrhxZZEkAj2\\u002fl+ajwSQIlBYOXQIhJA+n5qvHQTEkDwp8ZLNwkSQPYoXI\\u002fC9RFAd76fGi\\u002fdEUDy0k1iENgRQG3n+6nx0hFAj8L1KFyPEUDl0CLb+X4RQHE9CtejcBFAZmZmZmZmEUCHFtnO91MRQL6fGi\\u002fdJBFAqMZLN4nBEEAhsHJokW0QQNejcD0KVxBAj8L1KFwPEEDNzMzMzMwPQBBYObTIdg9A0SLb+X5qDkAzMzMzMzMOQC2yne+nxgxAgZVDi2znC0B56SYxCKwKQAwCK4cW2QlARIts5\\u002fupCEA=\"},\"type\":\"scatter\"},{\"hoverinfo\":\"skip\",\"line\":{\"color\":\"blue\",\"dash\":\"dash\"},\"mode\":\"lines\",\"name\":\"Trend Line\",\"visible\":true,\"x\":{\"dtype\":\"f8\",\"bdata\":\"SOF6FK6HP0BoQIIGJAhAQCwQxwJxTEBA8d8L\\u002f72QQEC1r1D7CtVAQHl\\u002flfdXGUFAPk\\u002fa86RdQUACHx\\u002fw8aFBQMbuY+w+5kFAir6o6IsqQkBOju3k2G5CQBNeMuEls0JA1y133XL3QkCb\\u002fbvZvztDQGDNANYMgENAJJ1F0lnEQ0DobIrOpghEQKw8z8rzTERAcAwUx0CRREA13FjDjdVEQPmrnb\\u002faGUVAvXviuydeRUCCSye4dKJFQEYbbLTB5kVACuuwsA4rRkDOuvWsW29GQJKKOqmos0ZAV1p\\u002fpfX3RkAbKsShQjxHQN\\u002f5CJ6PgEdApMlNmtzER0BomZKWKQlIQCxp15J2TUhA8Dgcj8ORSEC0CGGLENZIQHnYpYddGklAPajqg6peSUABeC+A96JJQMZHdHxE50lAihe5eJErSkBO5\\u002f103m9KQBK3QnErtEpA1oaHbXj4SkCbVsxpxTxLQF8mEWYSgUtAI\\u002fZVYl\\u002fFS0DoxZperAlMQKyV31r5TUxAcGUkV0aSTEA0NWlTk9ZMQPgErk\\u002fgGk1AvdTySy1fTUCBpDdIeqNNQEV0fETH501ACkTBQBQsTkDOEwY9YXBOQJLjSjmutE5AVrOPNfv4TkAag9QxSD1PQN9SGS6VgU9AoyJeKuLFT0A0eVGTFwVQQBbhcxE+J1BA+EiWj2RJUEDasLgNi2tQQLwY24uxjVBAnoD9CdivUECA6B+I\\u002ftFQQGJQQgYl9FBARLhkhEsWUUAnIIcCcjhRQAmIqYCYWlFA6+\\u002fL\\u002fr58UUDNV+585Z5RQK+\\u002fEPsLwVFAkiczeTLjUUB0j1X3WAVSQFb3d3V\\u002fJ1JAOF+a86VJUkAax7xxzGtSQPwu3+\\u002fyjVJA3pYBbhmwUkDA\\u002fiPsP9JSQKJmRmpm9FJAhM5o6IwWU0BmNotmszhTQEmereTZWlNAKwbQYgB9U0ANbvLgJp9TQO\\u002fVFF9NwVNA0T033XPjU0C0pVlbmgVUQJYNfNnAJ1RAeHWeV+dJVEBa3cDVDWxUQDxF41M0jlRAHq0F0lqwVEAAFShQgdJUQOJ8Ss6n9FRAxORsTM4WVUA=\"},\"y\":{\"dtype\":\"f8\",\"bdata\":\"+4cieck39D87f\\u002fF7Jxb1P3t2wH6F9PU\\u002fv22PgePS9j\\u002f\\u002fZF6EQbH3Pz9cLYefj\\u002fg\\u002fg1P8if1t+T\\u002fDSsuMW0z6PwNCmo+5Kvs\\u002fQzlpkhcJ\\u002fD+DMDiVdef8P8cnB5jTxf0\\u002fBx\\u002fWmjGk\\u002fj9HFqWdj4L\\u002fP8QGOtB2MABAZIKh0aWfAEAE\\u002fgjT1A4BQKR5cNQDfgFARPXX1TLtAUDmcD\\u002fXYVwCQIbsptiQywJAJmgO2r86A0DI43Xb7qkDQGhf3dwdGQRACNtE3kyIBECoVqzfe\\u002fcEQEjSE+GqZgVA6k174tnVBUCKyeLjCEUGQCpFSuU3tAZAysCx5mYjB0BqPBnolZIHQAq4gOnEAQhAqjPo6vNwCEBKr0\\u002fsIuAIQOwqt+1RTwlAjKYe74C+CUAsIobwry0KQM6d7fHenApAbhlV8w0MC0AOlbz0PHsLQK4QJPZr6gtAToyL95pZDEDwB\\u002fP4ycgMQJCDWvr4Nw1AMP\\u002fB+yenDUDSein9VhYOQHL2kP6FhQ5AEnL4\\u002f7T0DkCy7V8B5GMPQFJpxwIT0w9AenIXAiEhEEBKMMuCuFgQQBrufgNQkBBA66syhOfHEEC7aeYEf\\u002f8QQIsnmoUWNxFAW+VNBq5uEUArowGHRaYRQPtgtQfd3RFAyx5piHQVEkCc3BwJDE0SQGya0ImjhBJAPFiECju8EkAMFjiL0vMSQNzT6wtqKxNArJGfjAFjE0B8T1MNmZoTQEwNB44w0hNAHMu6DsgJFEDuiG6PX0EUQL5GIhD3eBRAjgTWkI6wFEBewokRJugUQC6APZK9HxVAAD7xElVXFUDQ+6ST7I4VQKC5WBSExhVAcHcMlRv+FUBANcAVszUWQBDzc5ZKbRZA4LAnF+KkFkCwbtuXedwWQIAsjxgRFBdAUOpCmahLF0AgqPYZQIMXQPFlqprXuhdAwSNeG2\\u002fyF0CR4RGcBioYQGKfxRyeYRhAMl15nTWZGEACGy0ezdAYQNLY4J5kCBlAopaUH\\u002fw\\u002fGUByVEigk3cZQEIS\\u002fCArrxlAEtCvocLmGUDijWMiWh4aQLJLF6PxVRpAhAnLI4mNGkA=\"},\"type\":\"scatter\"},{\"hoverinfo\":\"skip\",\"line\":{\"color\":\"blue\",\"dash\":\"dash\"},\"mode\":\"lines\",\"name\":\"Trend Line\",\"visible\":false,\"x\":{\"dtype\":\"f8\",\"bdata\":\"mpmZmZmZuT\\u002fwK2wlKb3YP734OPL1ieU\\u002fgtu7UVe17j8kX59YXPDzP4bQYAgNhvg\\u002f6UEiuL0b\\u002fT+m2fEzt9gAQFeS0ouPIwNACEuz42duBUC5A5Q7QLkHQGu8dJMYBApAHHVV6\\u002fBODEDNLTZDyZkOQD9zi81QchBAl897+byXEUDwK2wlKb0SQEmIXFGV4hNAoeRMfQEIFUD6QD2pbS0WQFKdLdXZUhdAq\\u002fkdAUZ4GEAEVg4tsp0ZQFyy\\u002flgewxpAtQ7vhIroG0AOa9+w9g0dQGbHz9xiMx5AvyPACM9YH0AMQFiaHT8gQDhuULDT0SBAZJxIxolkIUCRykDcP\\u002fchQL34OPL1iSJA6SYxCKwcI0AWVSkeYq8jQEKDITQYQiRAbrEZSs7UJECb3xFghGclQMcNCnY6+iVA8zsCjPCMJkAfavqhph8nQEyY8rdcsidAeMbqzRJFKECk9OLjyNcoQNEi2\\u002fl+ailA\\u002fVDTDzX9KUApf8sl648qQFatwzuhIitAgtu7UVe1K0CuCbRnDUgsQNs3rH3D2ixAB2akk3ltLUAzlJypLwAuQGDClL\\u002flki5AjPCM1ZslL0C4HoXrUbgvQHOmvgCEJTBAib26C99uMECf1LYWOrgwQLXrsiGVATFAywKvLPBKMUDiGas3S5QxQPgwp0Km3TFADkijTQEnMkAkX59YXHAyQDp2m2O3uTJAUI2XbhIDM0BmpJN5bUwzQH27j4TIlTNAk9KLjyPfM0Cp6Yeafig0QL8AhKXZcTRA1ReAsDS7NEDrLny7jwQ1QAJGeMbqTTVAGF100UWXNUAudHDcoOA1QESLbOf7KTZAWqJo8lZzNkBwuWT9sbw2QIbQYAgNBjdAnedcE2hPN0Cz\\u002flgew5g3QMkVVSke4jdA3yxRNHkrOED1Q00\\u002f1HQ4QAtbSUovvjhAInJFVYoHOUA4iUFg5VA5QE6gPWtAmjlAZLc5dpvjOUB6zjWB9iw6QJDlMYxRdjpAp\\u002fwtl6y\\u002fOkC9EyqiBwk7QNMqJq1iUjtA6UEiuL2bO0D\\u002fWB7DGOU7QBVwGs5zLjxAK4cW2c53PEA=\"},\"y\":{\"dtype\":\"f8\",\"bdata\":\"h0JFZB9GGEB9D5dWbzcYQHPc6Ei\\u002fKBhAaak6Ow8aGEBfdowtXwsYQFVD3h+v\\u002fBdASxAwEv\\u002ftF0BB3YEET98XQDeq0\\u002fae0BdALXcl6e7BF0AjRHfbPrMXQBoRyc2OpBdAEN4awN6VF0AGq2yyLocXQPx3vqR+eBdA8kQQl85pF0DoEWKJHlsXQN7es3tuTBdA1KsFbr49F0DKeFdgDi8XQMBFqVJeIBdAthL7RK4RF0Cs30w3\\u002fgIXQKKsnilO9BZAmHnwG57lFkCORkIO7tYWQIQTlAA+yBZAeuDl8o25FkBwrTfl3aoWQGZ6idctnBZAXEfbyX2NFkBSFC28zX4WQEjhfq4dcBZAP67QoG1hFkA0eyKTvVIWQCtIdIUNRBZAIRXGd101FkAX4hdqrSYWQA2vaVz9FxZAA3y7Tk0JFkD5SA1BnfoVQO8VXzPt6xVA5eKwJT3dFUDbrwIYjc4VQNF8VArdvxVAx0mm\\u002fCyxFUC9FvjufKIVQLPjSeHMkxVAqbCb0xyFFUCffe3FbHYVQJVKP7i8ZxVAixeRqgxZFUCB5OKcXEoVQHexNI+sOxVAbn6GgfwsFUBkS9hzTB4VQFkYKmacDxVAUOV7WOwAFUBGss1KPPIUQDx\\u002fHz2M4xRAMkxxL9zUFEAoGcMhLMYUQB7mFBR8txRAFLNmBsyoFEAKgLj4G5oUQABNCutrixRA9hlc3bt8FEDs5q3PC24UQOKz\\u002f8FbXxRA2IBRtKtQFEDOTaOm+0EUQMQa9ZhLMxRAuudGi5skFECwtJh96xUUQKaB6m87BxRAnE48Yov4E0CSG45U2+kTQIjo30Yr2xNAfrUxOXvME0B0goMry70TQGtP1R0brxNAYBwnEGugE0BW6XgCu5ETQE22yvQKgxNAQ4Mc51p0E0A5UG7ZqmUTQC8dwMv6VhNAJeoRvkpIE0Abt2OwmjkTQBGEtaLqKhNAB1EHlTocE0D9HVmHig0TQPPqqnna\\u002fhJA6bf8ayrwEkDfhE5eeuESQNVRoFDK0hJAyx7yQhrEEkDB60M1arUSQLi4lSe6phJAroXnGQqYEkA=\"},\"type\":\"scatter\"},{\"hoverinfo\":\"skip\",\"line\":{\"color\":\"blue\",\"dash\":\"dash\"},\"mode\":\"lines\",\"name\":\"Trend Line\",\"visible\":false,\"x\":{\"dtype\":\"f8\",\"bdata\":\"AQAA4FHx1j+q9StF07zcP6n1K1UqROE\\u002ffvDBB+sp5D9S61e6qw\\u002fnPybm7Wxs9ek\\u002f+uCDHy3b7D\\u002fO2xnS7cDvP1HrV0JXU\\u002fE\\u002fu+iimzfG8j8l5u30Fzn0P5DjOE74q\\u002fU\\u002f+uCDp9ge9z9k3s4AuZH4P87bGVqZBPo\\u002fONlks3l3+z+i1q8MWur8PwzU+mU6Xf4\\u002fdtFFvxrQ\\u002fz9wZ0iMfaEAQCXm7bjtWgFA22ST5V0UAkCQ4zgSzs0CQERi3j4+hwNA+uCDa65ABECvXymYHvoEQGTezsSOswVAGV108f5sBkDO2xkebyYHQINav0rf3wdAONlkd0+ZCEDtVwqkv1IJQKLWr9AvDApAV1VV\\u002fZ\\u002fFCkAM1PopEH8LQMFSoFaAOAxAdtFFg\\u002fDxDEArUOuvYKsNQODOkNzQZA5AlU02CUEeD0BKzNs1sdcPQIClQLGQSBBA22STx0ilEEA1JObdAAIRQJDjOPS4XhFA6qKLCnG7EUBEYt4gKRgSQJ8hMTfhdBJA+uCDTZnREkBUoNZjUS4TQK9fKXoJixNACR98kMHnE0Bk3s6meUQUQL6dIb0xoRRAGV100+n9FEBzHMfpoVoVQM7bGQBatxVAKJtsFhIUFkCDWr8synAWQN0ZEkOCzRZAONlkWToqF0CSmLdv8oYXQO1XCoaq4xdARxddnGJAGECi1q+yGp0YQP2VAsnS+RhAV1VV34pWGUCyFKj1QrMZQAzU+gv7DxpAZ5NNIrNsGkDBUqA4a8kaQBwS804jJhtAdtFFZduCG0DRkJh7k98bQCtQ65FLPBxAhg8+qAOZHEDgzpC+u\\u002fUcQDuO49RzUh1AlU026yuvHUDwDIkB5AseQErM2xecaB5ApYsuLlTFHkAAS4FEDCIfQFoK1FrEfh9AtckmcXzbH0CIxLxDGhwgQDUk5k52SiBA4oMPWtJ4IECQ4zhlLqcgQD1DYnCK1SBA6qKLe+YDIUCXArWGQjIhQERi3pGeYCFA8sEHnfqOIUCfITGoVr0hQEyBWrOy6yFA+uCDvg4aIkCnQK3JakgiQFSg1tTGdiJAAQAA4CKlIkA=\"},\"y\":{\"dtype\":\"f8\",\"bdata\":\"iahlf2u2EkDr7UpGdcoSQE4zMA1\\u002f3hJAsHgV1IjyEkATvvqakgYTQHYD4GGcGhNA2EjFKKYuE0A7jqrvr0ITQJ3Tj7a5VhNAABl1fcNqE0BiXlpEzX4TQMWjPwvXkhNAKOkk0uCmE0CKLgqZ6roTQO1z71\\u002f0zhNAT7nUJv7iE0Cy\\u002frntB\\u002fcTQBREn7QRCxRAd4mEexsfFEDazmlCJTMUQDwUTwkvRxRAn1k00DhbFEABnxmXQm8UQGTk\\u002fl1MgxRAxinkJFaXFEApb8nrX6sUQIy0rrJpvxRA7vmTeXPTFEBRP3lAfecUQLOEXgeH+xRAFspDzpAPFUB4DymVmiMVQNtUDlykNxVAPZrzIq5LFUCg39jpt18VQAIlvrDBcxVAZWqjd8uHFUDIr4g+1ZsVQCr1bQXfrxVAjTpTzOjDFUDvfziT8tcVQFLFHVr86xVAtQoDIQYAFkAXUOjnDxQWQHqVza4ZKBZA3NqydSM8FkA\\u002fIJg8LVAWQKFlfQM3ZBZABKtiykB4FkBm8EeRSowWQMk1LVhUoBZALHsSH160FkCOwPflZ8gWQPEF3axx3BZAU0vCc3vwFkC2kKc6hQQXQBjWjAGPGBdAextyyJgsF0DeYFePokAXQECmPFasVBdAo+shHbZoF0AFMQfkv3wXQGh27KrJkBdAyrvRcdOkF0AtAbc43bgXQJBGnP\\u002fmzBdA8ouBxvDgF0BV0WaN+vQXQLcWTFQECRhAGlwxGw4dGEB8oRbiFzEYQN\\u002fm+6ghRRhAQSzhbytZGECkccY2NW0YQAa3q\\u002f0+gRhAafyQxEiVGEDMQXaLUqkYQC6HW1JcvRhAkcxAGWbRGEDzESbgb+UYQFZXC6d5+RhAuJzwbYMNGUAb4tU0jSEZQH4nu\\u002fuWNRlA4GygwqBJGUBDsoWJql0ZQKb3alC0cRlACD1QF76FGUBrgjXex5kZQM3HGqXRrRlAMA0AbNvBGUCSUuUy5dUZQPSXyvnu6RlAWN2vwPj9GUC6IpWHAhIaQBxoek4MJhpAf61fFRY6GkDi8kTcH04aQEQ4KqMpYhpApn0PajN2GkA=\"},\"type\":\"scatter\"}],                        {\"autosize\":false,\"height\":600,\"hoverlabel\":{\"font\":{\"size\":12}},\"legend\":{\"borderwidth\":0,\"font\":{\"size\":12},\"x\":0.01,\"y\":0.99},\"margin\":{\"b\":80,\"l\":80,\"r\":80,\"t\":80},\"showlegend\":true,\"sliders\":[{\"active\":0,\"currentvalue\":{\"prefix\":\"Metric: \"},\"len\":0.9,\"pad\":{\"t\":50},\"steps\":[{\"args\":[{\"visible\":[true,false,false,true,false,false]},{\"title\":\"Happiness vs Life Expectancy\",\"xaxis\":{\"title\":\"Life Expectancy (years)\",\"range\":[31.53,84.3563414634146],\"fixedrange\":true},\"yaxis\":{\"title\":\"Happiness\",\"range\":[2.853,7.769],\"fixedrange\":true}}],\"label\":\"Life Expectancy\",\"method\":\"update\"},{\"args\":[{\"visible\":[false,true,false,false,true,false]},{\"title\":\"Happiness vs Unemployment Rate\",\"xaxis\":{\"title\":\"Unemployment Rate (%)\",\"range\":[0.1,28.468],\"fixedrange\":true},\"yaxis\":{\"title\":\"Happiness\",\"range\":[2.853,7.769],\"fixedrange\":true}}],\"label\":\"Unemployment Rate\",\"method\":\"update\"},{\"args\":[{\"visible\":[false,false,true,false,false,true]},{\"title\":\"Happiness vs Education Expenditure\",\"xaxis\":{\"title\":\"Education Expenditure (% of GDP)\",\"range\":[0.358478993177414,9.32253170013428],\"fixedrange\":true},\"yaxis\":{\"title\":\"Happiness\",\"range\":[2.853,7.769],\"fixedrange\":true}}],\"label\":\"Education Expenditure\",\"method\":\"update\"}],\"x\":0.1,\"xanchor\":\"left\"}],\"template\":{\"data\":{\"barpolar\":[{\"marker\":{\"line\":{\"color\":\"#E5ECF6\",\"width\":0.5},\"pattern\":{\"fillmode\":\"overlay\",\"size\":10,\"solidity\":0.2}},\"type\":\"barpolar\"}],\"bar\":[{\"error_x\":{\"color\":\"#2a3f5f\"},\"error_y\":{\"color\":\"#2a3f5f\"},\"marker\":{\"line\":{\"color\":\"#E5ECF6\",\"width\":0.5},\"pattern\":{\"fillmode\":\"overlay\",\"size\":10,\"solidity\":0.2}},\"type\":\"bar\"}],\"carpet\":[{\"aaxis\":{\"endlinecolor\":\"#2a3f5f\",\"gridcolor\":\"white\",\"linecolor\":\"white\",\"minorgridcolor\":\"white\",\"startlinecolor\":\"#2a3f5f\"},\"baxis\":{\"endlinecolor\":\"#2a3f5f\",\"gridcolor\":\"white\",\"linecolor\":\"white\",\"minorgridcolor\":\"white\",\"startlinecolor\":\"#2a3f5f\"},\"type\":\"carpet\"}],\"choropleth\":[{\"colorbar\":{\"outlinewidth\":0,\"ticks\":\"\"},\"type\":\"choropleth\"}],\"contourcarpet\":[{\"colorbar\":{\"outlinewidth\":0,\"ticks\":\"\"},\"type\":\"contourcarpet\"}],\"contour\":[{\"colorbar\":{\"outlinewidth\":0,\"ticks\":\"\"},\"colorscale\":[[0.0,\"#0d0887\"],[0.1111111111111111,\"#46039f\"],[0.2222222222222222,\"#7201a8\"],[0.3333333333333333,\"#9c179e\"],[0.4444444444444444,\"#bd3786\"],[0.5555555555555556,\"#d8576b\"],[0.6666666666666666,\"#ed7953\"],[0.7777777777777778,\"#fb9f3a\"],[0.8888888888888888,\"#fdca26\"],[1.0,\"#f0f921\"]],\"type\":\"contour\"}],\"heatmap\":[{\"colorbar\":{\"outlinewidth\":0,\"ticks\":\"\"},\"colorscale\":[[0.0,\"#0d0887\"],[0.1111111111111111,\"#46039f\"],[0.2222222222222222,\"#7201a8\"],[0.3333333333333333,\"#9c179e\"],[0.4444444444444444,\"#bd3786\"],[0.5555555555555556,\"#d8576b\"],[0.6666666666666666,\"#ed7953\"],[0.7777777777777778,\"#fb9f3a\"],[0.8888888888888888,\"#fdca26\"],[1.0,\"#f0f921\"]],\"type\":\"heatmap\"}],\"histogram2dcontour\":[{\"colorbar\":{\"outlinewidth\":0,\"ticks\":\"\"},\"colorscale\":[[0.0,\"#0d0887\"],[0.1111111111111111,\"#46039f\"],[0.2222222222222222,\"#7201a8\"],[0.3333333333333333,\"#9c179e\"],[0.4444444444444444,\"#bd3786\"],[0.5555555555555556,\"#d8576b\"],[0.6666666666666666,\"#ed7953\"],[0.7777777777777778,\"#fb9f3a\"],[0.8888888888888888,\"#fdca26\"],[1.0,\"#f0f921\"]],\"type\":\"histogram2dcontour\"}],\"histogram2d\":[{\"colorbar\":{\"outlinewidth\":0,\"ticks\":\"\"},\"colorscale\":[[0.0,\"#0d0887\"],[0.1111111111111111,\"#46039f\"],[0.2222222222222222,\"#7201a8\"],[0.3333333333333333,\"#9c179e\"],[0.4444444444444444,\"#bd3786\"],[0.5555555555555556,\"#d8576b\"],[0.6666666666666666,\"#ed7953\"],[0.7777777777777778,\"#fb9f3a\"],[0.8888888888888888,\"#fdca26\"],[1.0,\"#f0f921\"]],\"type\":\"histogram2d\"}],\"histogram\":[{\"marker\":{\"pattern\":{\"fillmode\":\"overlay\",\"size\":10,\"solidity\":0.2}},\"type\":\"histogram\"}],\"mesh3d\":[{\"colorbar\":{\"outlinewidth\":0,\"ticks\":\"\"},\"type\":\"mesh3d\"}],\"parcoords\":[{\"line\":{\"colorbar\":{\"outlinewidth\":0,\"ticks\":\"\"}},\"type\":\"parcoords\"}],\"pie\":[{\"automargin\":true,\"type\":\"pie\"}],\"scatter3d\":[{\"line\":{\"colorbar\":{\"outlinewidth\":0,\"ticks\":\"\"}},\"marker\":{\"colorbar\":{\"outlinewidth\":0,\"ticks\":\"\"}},\"type\":\"scatter3d\"}],\"scattercarpet\":[{\"marker\":{\"colorbar\":{\"outlinewidth\":0,\"ticks\":\"\"}},\"type\":\"scattercarpet\"}],\"scattergeo\":[{\"marker\":{\"colorbar\":{\"outlinewidth\":0,\"ticks\":\"\"}},\"type\":\"scattergeo\"}],\"scattergl\":[{\"marker\":{\"colorbar\":{\"outlinewidth\":0,\"ticks\":\"\"}},\"type\":\"scattergl\"}],\"scattermapbox\":[{\"marker\":{\"colorbar\":{\"outlinewidth\":0,\"ticks\":\"\"}},\"type\":\"scattermapbox\"}],\"scattermap\":[{\"marker\":{\"colorbar\":{\"outlinewidth\":0,\"ticks\":\"\"}},\"type\":\"scattermap\"}],\"scatterpolargl\":[{\"marker\":{\"colorbar\":{\"outlinewidth\":0,\"ticks\":\"\"}},\"type\":\"scatterpolargl\"}],\"scatterpolar\":[{\"marker\":{\"colorbar\":{\"outlinewidth\":0,\"ticks\":\"\"}},\"type\":\"scatterpolar\"}],\"scatter\":[{\"fillpattern\":{\"fillmode\":\"overlay\",\"size\":10,\"solidity\":0.2},\"type\":\"scatter\"}],\"scatterternary\":[{\"marker\":{\"colorbar\":{\"outlinewidth\":0,\"ticks\":\"\"}},\"type\":\"scatterternary\"}],\"surface\":[{\"colorbar\":{\"outlinewidth\":0,\"ticks\":\"\"},\"colorscale\":[[0.0,\"#0d0887\"],[0.1111111111111111,\"#46039f\"],[0.2222222222222222,\"#7201a8\"],[0.3333333333333333,\"#9c179e\"],[0.4444444444444444,\"#bd3786\"],[0.5555555555555556,\"#d8576b\"],[0.6666666666666666,\"#ed7953\"],[0.7777777777777778,\"#fb9f3a\"],[0.8888888888888888,\"#fdca26\"],[1.0,\"#f0f921\"]],\"type\":\"surface\"}],\"table\":[{\"cells\":{\"fill\":{\"color\":\"#EBF0F8\"},\"line\":{\"color\":\"white\"}},\"header\":{\"fill\":{\"color\":\"#C8D4E3\"},\"line\":{\"color\":\"white\"}},\"type\":\"table\"}]},\"layout\":{\"annotationdefaults\":{\"arrowcolor\":\"#2a3f5f\",\"arrowhead\":0,\"arrowwidth\":1},\"autotypenumbers\":\"strict\",\"coloraxis\":{\"colorbar\":{\"outlinewidth\":0,\"ticks\":\"\"}},\"colorscale\":{\"diverging\":[[0,\"#8e0152\"],[0.1,\"#c51b7d\"],[0.2,\"#de77ae\"],[0.3,\"#f1b6da\"],[0.4,\"#fde0ef\"],[0.5,\"#f7f7f7\"],[0.6,\"#e6f5d0\"],[0.7,\"#b8e186\"],[0.8,\"#7fbc41\"],[0.9,\"#4d9221\"],[1,\"#276419\"]],\"sequential\":[[0.0,\"#0d0887\"],[0.1111111111111111,\"#46039f\"],[0.2222222222222222,\"#7201a8\"],[0.3333333333333333,\"#9c179e\"],[0.4444444444444444,\"#bd3786\"],[0.5555555555555556,\"#d8576b\"],[0.6666666666666666,\"#ed7953\"],[0.7777777777777778,\"#fb9f3a\"],[0.8888888888888888,\"#fdca26\"],[1.0,\"#f0f921\"]],\"sequentialminus\":[[0.0,\"#0d0887\"],[0.1111111111111111,\"#46039f\"],[0.2222222222222222,\"#7201a8\"],[0.3333333333333333,\"#9c179e\"],[0.4444444444444444,\"#bd3786\"],[0.5555555555555556,\"#d8576b\"],[0.6666666666666666,\"#ed7953\"],[0.7777777777777778,\"#fb9f3a\"],[0.8888888888888888,\"#fdca26\"],[1.0,\"#f0f921\"]]},\"colorway\":[\"#636efa\",\"#EF553B\",\"#00cc96\",\"#ab63fa\",\"#FFA15A\",\"#19d3f3\",\"#FF6692\",\"#B6E880\",\"#FF97FF\",\"#FECB52\"],\"font\":{\"color\":\"#2a3f5f\"},\"geo\":{\"bgcolor\":\"white\",\"lakecolor\":\"white\",\"landcolor\":\"#E5ECF6\",\"showlakes\":true,\"showland\":true,\"subunitcolor\":\"white\"},\"hoverlabel\":{\"align\":\"left\"},\"hovermode\":\"closest\",\"mapbox\":{\"style\":\"light\"},\"paper_bgcolor\":\"white\",\"plot_bgcolor\":\"#E5ECF6\",\"polar\":{\"angularaxis\":{\"gridcolor\":\"white\",\"linecolor\":\"white\",\"ticks\":\"\"},\"bgcolor\":\"#E5ECF6\",\"radialaxis\":{\"gridcolor\":\"white\",\"linecolor\":\"white\",\"ticks\":\"\"}},\"scene\":{\"xaxis\":{\"backgroundcolor\":\"#E5ECF6\",\"gridcolor\":\"white\",\"gridwidth\":2,\"linecolor\":\"white\",\"showbackground\":true,\"ticks\":\"\",\"zerolinecolor\":\"white\"},\"yaxis\":{\"backgroundcolor\":\"#E5ECF6\",\"gridcolor\":\"white\",\"gridwidth\":2,\"linecolor\":\"white\",\"showbackground\":true,\"ticks\":\"\",\"zerolinecolor\":\"white\"},\"zaxis\":{\"backgroundcolor\":\"#E5ECF6\",\"gridcolor\":\"white\",\"gridwidth\":2,\"linecolor\":\"white\",\"showbackground\":true,\"ticks\":\"\",\"zerolinecolor\":\"white\"}},\"shapedefaults\":{\"line\":{\"color\":\"#2a3f5f\"}},\"ternary\":{\"aaxis\":{\"gridcolor\":\"white\",\"linecolor\":\"white\",\"ticks\":\"\"},\"baxis\":{\"gridcolor\":\"white\",\"linecolor\":\"white\",\"ticks\":\"\"},\"bgcolor\":\"#E5ECF6\",\"caxis\":{\"gridcolor\":\"white\",\"linecolor\":\"white\",\"ticks\":\"\"}},\"title\":{\"x\":0.05},\"xaxis\":{\"automargin\":true,\"gridcolor\":\"white\",\"linecolor\":\"white\",\"ticks\":\"\",\"title\":{\"standoff\":15},\"zerolinecolor\":\"white\",\"zerolinewidth\":2},\"yaxis\":{\"automargin\":true,\"gridcolor\":\"white\",\"linecolor\":\"white\",\"ticks\":\"\",\"title\":{\"standoff\":15},\"zerolinecolor\":\"white\",\"zerolinewidth\":2}}},\"title\":{\"text\":\"Happiness vs Life Expectancy\"},\"width\":800,\"xaxis\":{\"fixedrange\":true,\"range\":[31.53,84.3563414634146],\"tickfont\":{\"size\":12},\"title\":{\"font\":{\"size\":14},\"text\":\"Life Expectancy (years)\"}},\"yaxis\":{\"dtick\":1,\"fixedrange\":true,\"range\":[2.853,7.769],\"tickfont\":{\"size\":12},\"tickmode\":\"linear\",\"title\":{\"font\":{\"size\":14},\"text\":\"Happiness\"}}},                        {\"responsive\": true}                    ).then(function(){\n",
       "                            \n",
       "var gd = document.getElementById('71e1fdf5-b404-456c-acef-65d196b2ed61');\n",
       "var x = new MutationObserver(function (mutations, observer) {{\n",
       "        var display = window.getComputedStyle(gd).display;\n",
       "        if (!display || display === 'none') {{\n",
       "            console.log([gd, 'removed!']);\n",
       "            Plotly.purge(gd);\n",
       "            observer.disconnect();\n",
       "        }}\n",
       "}});\n",
       "\n",
       "// Listen for the removal of the full notebook cells\n",
       "var notebookContainer = gd.closest('#notebook-container');\n",
       "if (notebookContainer) {{\n",
       "    x.observe(notebookContainer, {childList: true});\n",
       "}}\n",
       "\n",
       "// Listen for the clearing of the current output cell\n",
       "var outputEl = gd.closest('.output');\n",
       "if (outputEl) {{\n",
       "    x.observe(outputEl, {childList: true});\n",
       "}}\n",
       "\n",
       "                        })                };            </script>        </div>"
      ]
     },
     "metadata": {},
     "output_type": "display_data"
    }
   ],
   "source": [
    "import pandas as pd\n",
    "import numpy as np\n",
    "import plotly.graph_objects as go\n",
    "from plotly.offline import init_notebook_mode, iplot\n",
    "\n",
    "init_notebook_mode(connected=True)\n",
    "\n",
    "df = pd.read_csv('final.csv')\n",
    "\n",
    "df['Happiness_rank'] = df['Happiness'].rank(method='min', ascending=False).astype(int)\n",
    "total_countries = df['Country'].nunique()\n",
    "\n",
    "df_life = df.dropna(subset=['Life_expectancy', 'Happiness', 'Country', 'Happiness_rank'])\n",
    "df_unemp = df.dropna(subset=['Unemployment_rate', 'Happiness', 'Country', 'Happiness_rank'])\n",
    "df_edu = df.dropna(subset=['Edu_expenditure_pct', 'Happiness', 'Country', 'Happiness_rank'])\n",
    "\n",
    "x_range_life = [df_life['Life_expectancy'].min(), df_life['Life_expectancy'].max()]\n",
    "x_range_unemp = [df_unemp['Unemployment_rate'].min(), df_unemp['Unemployment_rate'].max()]\n",
    "x_range_edu = [df_edu['Edu_expenditure_pct'].min(), df_edu['Edu_expenditure_pct'].max()]\n",
    "y_range = [df['Happiness'].min(), df['Happiness'].max()]\n",
    "\n",
    "def add_trend_trace(x, y, color, visible=True):\n",
    "    x_vals = x.values\n",
    "    y_vals = y.values\n",
    "    slope, intercept = np.polyfit(x_vals, y_vals, 1)\n",
    "    x_trend = np.linspace(min(x_vals), max(x_vals), 100)\n",
    "    y_trend = slope * x_trend + intercept\n",
    "    return go.Scatter(\n",
    "        x=x_trend,\n",
    "        y=y_trend,\n",
    "        mode='lines',\n",
    "        line=dict(color=color, dash='dash'),\n",
    "        name='Trend Line',\n",
    "        visible=visible,\n",
    "        hoverinfo='skip'\n",
    "    )\n",
    "\n",
    "trace_life = go.Scatter(\n",
    "    x=df_life['Life_expectancy'],\n",
    "    y=df_life['Happiness'],\n",
    "    mode='markers',\n",
    "    name='Life Expectancy',\n",
    "    visible=True,\n",
    "    text=df_life['Country'],\n",
    "    customdata=df_life['Happiness_rank'],\n",
    "    hovertemplate=(\n",
    "        \"Country: %{text}<br>\"\n",
    "        f\"Rank: %{{customdata}} out of {total_countries}<br>\"\n",
    "        \"Life Expectancy: %{x:.1f} years<br>\"\n",
    "        \"Happiness: %{y:.2f}<extra></extra>\"\n",
    "    )\n",
    ")\n",
    "\n",
    "trace_unemp = go.Scatter(\n",
    "    x=df_unemp['Unemployment_rate'],\n",
    "    y=df_unemp['Happiness'],\n",
    "    mode='markers',\n",
    "    name='Unemployment Rate',\n",
    "    visible=False,\n",
    "    text=df_unemp['Country'],\n",
    "    customdata=df_unemp['Happiness_rank'],\n",
    "    hovertemplate=(\n",
    "        \"Country: %{text}<br>\"\n",
    "        f\"Rank: %{{customdata}} out of {total_countries}<br>\"\n",
    "        \"Unemployment Rate: %{x:.1f}%<br>\"\n",
    "        \"Happiness: %{y:.2f}<extra></extra>\"\n",
    "    )\n",
    ")\n",
    "\n",
    "trace_edu = go.Scatter(\n",
    "    x=df_edu['Edu_expenditure_pct'],\n",
    "    y=df_edu['Happiness'],\n",
    "    mode='markers',\n",
    "    name='Education Expenditure',\n",
    "    visible=False,\n",
    "    text=df_edu['Country'],\n",
    "    customdata=df_edu['Happiness_rank'],\n",
    "    hovertemplate=(\n",
    "        \"Country: %{text}<br>\"\n",
    "        f\"Rank: %{{customdata}} out of {total_countries}<br>\"\n",
    "        \"Education Expenditure: %{x:.2f}% of GDP<br>\"\n",
    "        \"Happiness: %{y:.2f}<extra></extra>\"\n",
    "    )\n",
    ")\n",
    "\n",
    "trend_life = add_trend_trace(df_life['Life_expectancy'], df_life['Happiness'], 'blue', True)\n",
    "trend_unemp = add_trend_trace(df_unemp['Unemployment_rate'], df_unemp['Happiness'], 'blue', False)\n",
    "trend_edu = add_trend_trace(df_edu['Edu_expenditure_pct'], df_edu['Happiness'], 'blue', False)\n",
    "\n",
    "fig = go.Figure(data=[\n",
    "    trace_life, trace_unemp, trace_edu,\n",
    "    trend_life, trend_unemp, trend_edu\n",
    "])\n",
    "\n",
    "steps = [\n",
    "    dict(method='update', label='Life Expectancy',\n",
    "         args=[{'visible': [True, False, False, True, False, False]},\n",
    "               {'title': 'Happiness vs Life Expectancy',\n",
    "                'xaxis': {'title': 'Life Expectancy (years)', 'range': x_range_life, 'fixedrange': True},\n",
    "                'yaxis': {'title': 'Happiness', 'range': y_range, 'fixedrange': True}}]),\n",
    "    dict(method='update', label='Unemployment Rate',\n",
    "         args=[{'visible': [False, True, False, False, True, False]},\n",
    "               {'title': 'Happiness vs Unemployment Rate',\n",
    "                'xaxis': {'title': 'Unemployment Rate (%)', 'range': x_range_unemp, 'fixedrange': True},\n",
    "                'yaxis': {'title': 'Happiness', 'range': y_range, 'fixedrange': True}}]),\n",
    "    dict(method='update', label='Education Expenditure',\n",
    "         args=[{'visible': [False, False, True, False, False, True]},\n",
    "               {'title': 'Happiness vs Education Expenditure',\n",
    "                'xaxis': {'title': 'Education Expenditure (% of GDP)', 'range': x_range_edu, 'fixedrange': True},\n",
    "                'yaxis': {'title': 'Happiness', 'range': y_range, 'fixedrange': True}}])\n",
    "]\n",
    "\n",
    "fig.update_layout(\n",
    "    sliders=[dict(\n",
    "        active=0,\n",
    "        currentvalue={'prefix': 'Metric: '},\n",
    "        pad={'t': 50},\n",
    "        steps=steps,\n",
    "        len=0.9,\n",
    "        x=0.1,\n",
    "        xanchor='left'\n",
    "    )],\n",
    "    title=\"Happiness vs Life Expectancy\",\n",
    "    width=800,\n",
    "    height=600,\n",
    "    autosize=False,\n",
    "    margin=dict(t=80, b=80, l=80, r=80),\n",
    "    xaxis=dict(\n",
    "        title=dict(text='Life Expectancy (years)', font=dict(size=14)),\n",
    "        range=x_range_life,\n",
    "        fixedrange=True,\n",
    "        tickfont=dict(size=12)\n",
    "    ),\n",
    "    yaxis=dict(\n",
    "        title=dict(text='Happiness', font=dict(size=14)),\n",
    "        range=y_range,\n",
    "        fixedrange=True,\n",
    "        tickmode='linear',\n",
    "        dtick=1,\n",
    "        tickfont=dict(size=12),\n",
    "    ),\n",
    "    hoverlabel=dict(font=dict(size=12)),\n",
    "    showlegend=True,\n",
    "    legend=dict(\n",
    "        font=dict(size=12),\n",
    "        x=0.01, y=0.99,\n",
    "        borderwidth=0\n",
    "    )\n",
    ")\n",
    "\n",
    "iplot(fig)\n"
   ]
  },
  {
   "cell_type": "code",
   "execution_count": null,
   "id": "49849b85",
   "metadata": {
    "tags": [
     "remove-input"
    ]
   },
   "outputs": [
    {
     "data": {
      "application/vnd.plotly.v1+json": {
       "config": {
        "plotlyServerURL": "https://plot.ly"
       },
       "data": [
        {
         "hoverinfo": "text",
         "hovertext": "Japan<br>Life expectancy Rank: 1<br>Happiness Rank: 53<br>Mismatch: 52",
         "line": {
          "color": "#D81B60",
          "width": 2
         },
         "mode": "lines+markers",
         "name": "Japan",
         "type": "scatter",
         "x": [
          "Life expectancy Rank",
          "Happiness Rank"
         ],
         "y": [
          1,
          53
         ]
        },
        {
         "hoverinfo": "text",
         "hovertext": "Switzerland<br>Life expectancy Rank: 2<br>Happiness Rank: 6<br>Mismatch: 4",
         "line": {
          "color": "#1E88E5",
          "width": 2
         },
         "mode": "lines+markers",
         "name": "Switzerland",
         "type": "scatter",
         "x": [
          "Life expectancy Rank",
          "Happiness Rank"
         ],
         "y": [
          2,
          6
         ]
        },
        {
         "hoverinfo": "text",
         "hovertext": "Spain<br>Life expectancy Rank: 3<br>Happiness Rank: 28<br>Mismatch: 25",
         "line": {
          "color": "#D81B60",
          "width": 2
         },
         "mode": "lines+markers",
         "name": "Spain",
         "type": "scatter",
         "x": [
          "Life expectancy Rank",
          "Happiness Rank"
         ],
         "y": [
          3,
          28
         ]
        },
        {
         "hoverinfo": "text",
         "hovertext": "Singapore<br>Life expectancy Rank: 4<br>Happiness Rank: 32<br>Mismatch: 28",
         "line": {
          "color": "#D81B60",
          "width": 2
         },
         "mode": "lines+markers",
         "name": "Singapore",
         "type": "scatter",
         "x": [
          "Life expectancy Rank",
          "Happiness Rank"
         ],
         "y": [
          4,
          32
         ]
        },
        {
         "hoverinfo": "text",
         "hovertext": "Italy<br>Life expectancy Rank: 5<br>Happiness Rank: 34<br>Mismatch: 29",
         "line": {
          "color": "#D81B60",
          "width": 2
         },
         "mode": "lines+markers",
         "name": "Italy",
         "type": "scatter",
         "x": [
          "Life expectancy Rank",
          "Happiness Rank"
         ],
         "y": [
          5,
          34
         ]
        },
        {
         "hoverinfo": "text",
         "hovertext": "Iceland<br>Life expectancy Rank: 6<br>Happiness Rank: 4<br>Mismatch: 2",
         "line": {
          "color": "#1E88E5",
          "width": 2
         },
         "mode": "lines+markers",
         "name": "Iceland",
         "type": "scatter",
         "x": [
          "Life expectancy Rank",
          "Happiness Rank"
         ],
         "y": [
          6,
          4
         ]
        },
        {
         "hoverinfo": "text",
         "hovertext": "Sweden<br>Life expectancy Rank: 7<br>Happiness Rank: 7<br>Mismatch: 0",
         "line": {
          "color": "#1E88E5",
          "width": 2
         },
         "mode": "lines+markers",
         "name": "Sweden",
         "type": "scatter",
         "x": [
          "Life expectancy Rank",
          "Happiness Rank"
         ],
         "y": [
          7,
          7
         ]
        },
        {
         "hoverinfo": "text",
         "hovertext": "Norway<br>Life expectancy Rank: 8<br>Happiness Rank: 3<br>Mismatch: 5",
         "line": {
          "color": "#1E88E5",
          "width": 2
         },
         "mode": "lines+markers",
         "name": "Norway",
         "type": "scatter",
         "x": [
          "Life expectancy Rank",
          "Happiness Rank"
         ],
         "y": [
          8,
          3
         ]
        },
        {
         "hoverinfo": "text",
         "hovertext": "Qatar<br>Life expectancy Rank: 9<br>Happiness Rank: 27<br>Mismatch: 18",
         "line": {
          "color": "#D81B60",
          "width": 2
         },
         "mode": "lines+markers",
         "name": "Qatar",
         "type": "scatter",
         "x": [
          "Life expectancy Rank",
          "Happiness Rank"
         ],
         "y": [
          9,
          27
         ]
        },
        {
         "hoverinfo": "text",
         "hovertext": "Australia<br>Life expectancy Rank: 10<br>Happiness Rank: 11<br>Mismatch: 1",
         "line": {
          "color": "#1E88E5",
          "width": 2
         },
         "mode": "lines+markers",
         "name": "Australia",
         "type": "scatter",
         "x": [
          "Life expectancy Rank",
          "Happiness Rank"
         ],
         "y": [
          10,
          11
         ]
        },
        {
         "hoverinfo": "text",
         "hovertext": "France<br>Life expectancy Rank: 11<br>Happiness Rank: 23<br>Mismatch: 12",
         "line": {
          "color": "#1E88E5",
          "width": 2
         },
         "mode": "lines+markers",
         "name": "France",
         "type": "scatter",
         "x": [
          "Life expectancy Rank",
          "Happiness Rank"
         ],
         "y": [
          11,
          23
         ]
        },
        {
         "hoverinfo": "text",
         "hovertext": "Israel<br>Life expectancy Rank: 12<br>Happiness Rank: 13<br>Mismatch: 1",
         "line": {
          "color": "#1E88E5",
          "width": 2
         },
         "mode": "lines+markers",
         "name": "Israel",
         "type": "scatter",
         "x": [
          "Life expectancy Rank",
          "Happiness Rank"
         ],
         "y": [
          12,
          13
         ]
        },
        {
         "hoverinfo": "text",
         "hovertext": "Ireland<br>Life expectancy Rank: 13<br>Happiness Rank: 16<br>Mismatch: 3",
         "line": {
          "color": "#1E88E5",
          "width": 2
         },
         "mode": "lines+markers",
         "name": "Ireland",
         "type": "scatter",
         "x": [
          "Life expectancy Rank",
          "Happiness Rank"
         ],
         "y": [
          13,
          16
         ]
        },
        {
         "hoverinfo": "text",
         "hovertext": "Malta<br>Life expectancy Rank: 14<br>Happiness Rank: 21<br>Mismatch: 7",
         "line": {
          "color": "#1E88E5",
          "width": 2
         },
         "mode": "lines+markers",
         "name": "Malta",
         "type": "scatter",
         "x": [
          "Life expectancy Rank",
          "Happiness Rank"
         ],
         "y": [
          14,
          21
         ]
        },
        {
         "hoverinfo": "text",
         "hovertext": "Luxembourg<br>Life expectancy Rank: 15<br>Happiness Rank: 14<br>Mismatch: 1",
         "line": {
          "color": "#1E88E5",
          "width": 2
         },
         "mode": "lines+markers",
         "name": "Luxembourg",
         "type": "scatter",
         "x": [
          "Life expectancy Rank",
          "Happiness Rank"
         ],
         "y": [
          15,
          14
         ]
        },
        {
         "hoverinfo": "text",
         "hovertext": "United Arab Emirates<br>Life expectancy Rank: 16<br>Happiness Rank: 20<br>Mismatch: 4",
         "line": {
          "color": "#1E88E5",
          "width": 2
         },
         "mode": "lines+markers",
         "name": "United Arab Emirates",
         "type": "scatter",
         "x": [
          "Life expectancy Rank",
          "Happiness Rank"
         ],
         "y": [
          16,
          20
         ]
        },
        {
         "hoverinfo": "text",
         "hovertext": "Canada<br>Life expectancy Rank: 17<br>Happiness Rank: 9<br>Mismatch: 8",
         "line": {
          "color": "#1E88E5",
          "width": 2
         },
         "mode": "lines+markers",
         "name": "Canada",
         "type": "scatter",
         "x": [
          "Life expectancy Rank",
          "Happiness Rank"
         ],
         "y": [
          17,
          9
         ]
        },
        {
         "hoverinfo": "text",
         "hovertext": "Netherlands<br>Life expectancy Rank: 18<br>Happiness Rank: 5<br>Mismatch: 13",
         "line": {
          "color": "#1E88E5",
          "width": 2
         },
         "mode": "lines+markers",
         "name": "Netherlands",
         "type": "scatter",
         "x": [
          "Life expectancy Rank",
          "Happiness Rank"
         ],
         "y": [
          18,
          5
         ]
        },
        {
         "hoverinfo": "text",
         "hovertext": "New Zealand<br>Life expectancy Rank: 19<br>Happiness Rank: 8<br>Mismatch: 11",
         "line": {
          "color": "#1E88E5",
          "width": 2
         },
         "mode": "lines+markers",
         "name": "New Zealand",
         "type": "scatter",
         "x": [
          "Life expectancy Rank",
          "Happiness Rank"
         ],
         "y": [
          19,
          8
         ]
        },
        {
         "hoverinfo": "text",
         "hovertext": "Belgium<br>Life expectancy Rank: 20<br>Happiness Rank: 18<br>Mismatch: 2",
         "line": {
          "color": "#1E88E5",
          "width": 2
         },
         "mode": "lines+markers",
         "name": "Belgium",
         "type": "scatter",
         "x": [
          "Life expectancy Rank",
          "Happiness Rank"
         ],
         "y": [
          20,
          18
         ]
        },
        {
         "hoverinfo": "text",
         "hovertext": "Finland<br>Life expectancy Rank: 21<br>Happiness Rank: 1<br>Mismatch: 20",
         "line": {
          "color": "#D81B60",
          "width": 2
         },
         "mode": "lines+markers",
         "name": "Finland",
         "type": "scatter",
         "x": [
          "Life expectancy Rank",
          "Happiness Rank"
         ],
         "y": [
          21,
          1
         ]
        },
        {
         "hoverinfo": "text",
         "hovertext": "Kuwait<br>Life expectancy Rank: 22<br>Happiness Rank: 47<br>Mismatch: 25",
         "line": {
          "color": "#D81B60",
          "width": 2
         },
         "mode": "lines+markers",
         "name": "Kuwait",
         "type": "scatter",
         "x": [
          "Life expectancy Rank",
          "Happiness Rank"
         ],
         "y": [
          22,
          47
         ]
        },
        {
         "hoverinfo": "text",
         "hovertext": "Austria<br>Life expectancy Rank: 23<br>Happiness Rank: 10<br>Mismatch: 13",
         "line": {
          "color": "#1E88E5",
          "width": 2
         },
         "mode": "lines+markers",
         "name": "Austria",
         "type": "scatter",
         "x": [
          "Life expectancy Rank",
          "Happiness Rank"
         ],
         "y": [
          23,
          10
         ]
        },
        {
         "hoverinfo": "text",
         "hovertext": "Portugal<br>Life expectancy Rank: 24<br>Happiness Rank: 60<br>Mismatch: 36",
         "line": {
          "color": "#D81B60",
          "width": 2
         },
         "mode": "lines+markers",
         "name": "Portugal",
         "type": "scatter",
         "x": [
          "Life expectancy Rank",
          "Happiness Rank"
         ],
         "y": [
          24,
          60
         ]
        },
        {
         "hoverinfo": "text",
         "hovertext": "Greece<br>Life expectancy Rank: 25<br>Happiness Rank: 73<br>Mismatch: 48",
         "line": {
          "color": "#D81B60",
          "width": 2
         },
         "mode": "lines+markers",
         "name": "Greece",
         "type": "scatter",
         "x": [
          "Life expectancy Rank",
          "Happiness Rank"
         ],
         "y": [
          25,
          73
         ]
        },
        {
         "hoverinfo": "text",
         "hovertext": "Slovenia<br>Life expectancy Rank: 26<br>Happiness Rank: 40<br>Mismatch: 14",
         "line": {
          "color": "#1E88E5",
          "width": 2
         },
         "mode": "lines+markers",
         "name": "Slovenia",
         "type": "scatter",
         "x": [
          "Life expectancy Rank",
          "Happiness Rank"
         ],
         "y": [
          26,
          40
         ]
        },
        {
         "hoverinfo": "text",
         "hovertext": "Cyprus<br>Life expectancy Rank: 27<br>Happiness Rank: 45<br>Mismatch: 18",
         "line": {
          "color": "#D81B60",
          "width": 2
         },
         "mode": "lines+markers",
         "name": "Cyprus",
         "type": "scatter",
         "x": [
          "Life expectancy Rank",
          "Happiness Rank"
         ],
         "y": [
          27,
          45
         ]
        },
        {
         "hoverinfo": "text",
         "hovertext": "Denmark<br>Life expectancy Rank: 28<br>Happiness Rank: 2<br>Mismatch: 26",
         "line": {
          "color": "#D81B60",
          "width": 2
         },
         "mode": "lines+markers",
         "name": "Denmark",
         "type": "scatter",
         "x": [
          "Life expectancy Rank",
          "Happiness Rank"
         ],
         "y": [
          28,
          2
         ]
        },
        {
         "hoverinfo": "text",
         "hovertext": "United Kingdom<br>Life expectancy Rank: 29<br>Happiness Rank: 15<br>Mismatch: 14",
         "line": {
          "color": "#1E88E5",
          "width": 2
         },
         "mode": "lines+markers",
         "name": "United Kingdom",
         "type": "scatter",
         "x": [
          "Life expectancy Rank",
          "Happiness Rank"
         ],
         "y": [
          29,
          15
         ]
        },
        {
         "hoverinfo": "text",
         "hovertext": "Germany<br>Life expectancy Rank: 30<br>Happiness Rank: 17<br>Mismatch: 13",
         "line": {
          "color": "#1E88E5",
          "width": 2
         },
         "mode": "lines+markers",
         "name": "Germany",
         "type": "scatter",
         "x": [
          "Life expectancy Rank",
          "Happiness Rank"
         ],
         "y": [
          30,
          17
         ]
        },
        {
         "hoverinfo": "text",
         "hovertext": "Bahrain<br>Life expectancy Rank: 31<br>Happiness Rank: 35<br>Mismatch: 4",
         "line": {
          "color": "#1E88E5",
          "width": 2
         },
         "mode": "lines+markers",
         "name": "Bahrain",
         "type": "scatter",
         "x": [
          "Life expectancy Rank",
          "Happiness Rank"
         ],
         "y": [
          31,
          35
         ]
        },
        {
         "hoverinfo": "text",
         "hovertext": "Chile<br>Life expectancy Rank: 32<br>Happiness Rank: 24<br>Mismatch: 8",
         "line": {
          "color": "#1E88E5",
          "width": 2
         },
         "mode": "lines+markers",
         "name": "Chile",
         "type": "scatter",
         "x": [
          "Life expectancy Rank",
          "Happiness Rank"
         ],
         "y": [
          32,
          24
         ]
        },
        {
         "hoverinfo": "text",
         "hovertext": "Costa Rica<br>Life expectancy Rank: 33<br>Happiness Rank: 12<br>Mismatch: 21",
         "line": {
          "color": "#D81B60",
          "width": 2
         },
         "mode": "lines+markers",
         "name": "Costa Rica",
         "type": "scatter",
         "x": [
          "Life expectancy Rank",
          "Happiness Rank"
         ],
         "y": [
          33,
          12
         ]
        },
        {
         "hoverinfo": "text",
         "hovertext": "Albania<br>Life expectancy Rank: 34<br>Happiness Rank: 93<br>Mismatch: 59",
         "line": {
          "color": "#D81B60",
          "width": 2
         },
         "mode": "lines+markers",
         "name": "Albania",
         "type": "scatter",
         "x": [
          "Life expectancy Rank",
          "Happiness Rank"
         ],
         "y": [
          34,
          93
         ]
        },
        {
         "hoverinfo": "text",
         "hovertext": "United States<br>Life expectancy Rank: 35<br>Happiness Rank: 19<br>Mismatch: 16",
         "line": {
          "color": "#D81B60",
          "width": 2
         },
         "mode": "lines+markers",
         "name": "United States",
         "type": "scatter",
         "x": [
          "Life expectancy Rank",
          "Happiness Rank"
         ],
         "y": [
          35,
          19
         ]
        },
        {
         "hoverinfo": "text",
         "hovertext": "Estonia<br>Life expectancy Rank: 36<br>Happiness Rank: 50<br>Mismatch: 14",
         "line": {
          "color": "#1E88E5",
          "width": 2
         },
         "mode": "lines+markers",
         "name": "Estonia",
         "type": "scatter",
         "x": [
          "Life expectancy Rank",
          "Happiness Rank"
         ],
         "y": [
          36,
          50
         ]
        },
        {
         "hoverinfo": "text",
         "hovertext": "Panama<br>Life expectancy Rank: 37<br>Happiness Rank: 29<br>Mismatch: 8",
         "line": {
          "color": "#1E88E5",
          "width": 2
         },
         "mode": "lines+markers",
         "name": "Panama",
         "type": "scatter",
         "x": [
          "Life expectancy Rank",
          "Happiness Rank"
         ],
         "y": [
          37,
          29
         ]
        },
        {
         "hoverinfo": "text",
         "hovertext": "Saudi Arabia<br>Life expectancy Rank: 38<br>Happiness Rank: 26<br>Mismatch: 12",
         "line": {
          "color": "#1E88E5",
          "width": 2
         },
         "mode": "lines+markers",
         "name": "Saudi Arabia",
         "type": "scatter",
         "x": [
          "Life expectancy Rank",
          "Happiness Rank"
         ],
         "y": [
          38,
          26
         ]
        },
        {
         "hoverinfo": "text",
         "hovertext": "Croatia<br>Life expectancy Rank: 39<br>Happiness Rank: 68<br>Mismatch: 29",
         "line": {
          "color": "#D81B60",
          "width": 2
         },
         "mode": "lines+markers",
         "name": "Croatia",
         "type": "scatter",
         "x": [
          "Life expectancy Rank",
          "Happiness Rank"
         ],
         "y": [
          39,
          68
         ]
        },
        {
         "hoverinfo": "text",
         "hovertext": "Lebanon<br>Life expectancy Rank: 40<br>Happiness Rank: 81<br>Mismatch: 41",
         "line": {
          "color": "#D81B60",
          "width": 2
         },
         "mode": "lines+markers",
         "name": "Lebanon",
         "type": "scatter",
         "x": [
          "Life expectancy Rank",
          "Happiness Rank"
         ],
         "y": [
          40,
          81
         ]
        },
        {
         "hoverinfo": "text",
         "hovertext": "China<br>Life expectancy Rank: 41<br>Happiness Rank: 83<br>Mismatch: 42",
         "line": {
          "color": "#D81B60",
          "width": 2
         },
         "mode": "lines+markers",
         "name": "China",
         "type": "scatter",
         "x": [
          "Life expectancy Rank",
          "Happiness Rank"
         ],
         "y": [
          41,
          83
         ]
        },
        {
         "hoverinfo": "text",
         "hovertext": "Poland<br>Life expectancy Rank: 42<br>Happiness Rank: 36<br>Mismatch: 6",
         "line": {
          "color": "#1E88E5",
          "width": 2
         },
         "mode": "lines+markers",
         "name": "Poland",
         "type": "scatter",
         "x": [
          "Life expectancy Rank",
          "Happiness Rank"
         ],
         "y": [
          42,
          36
         ]
        },
        {
         "hoverinfo": "text",
         "hovertext": "Uruguay<br>Life expectancy Rank: 43<br>Happiness Rank: 31<br>Mismatch: 12",
         "line": {
          "color": "#1E88E5",
          "width": 2
         },
         "mode": "lines+markers",
         "name": "Uruguay",
         "type": "scatter",
         "x": [
          "Life expectancy Rank",
          "Happiness Rank"
         ],
         "y": [
          43,
          31
         ]
        },
        {
         "hoverinfo": "text",
         "hovertext": "Bosnia and Herzegovina<br>Life expectancy Rank: 44<br>Happiness Rank: 70<br>Mismatch: 26",
         "line": {
          "color": "#D81B60",
          "width": 2
         },
         "mode": "lines+markers",
         "name": "Bosnia and Herzegovina",
         "type": "scatter",
         "x": [
          "Life expectancy Rank",
          "Happiness Rank"
         ],
         "y": [
          44,
          70
         ]
        },
        {
         "hoverinfo": "text",
         "hovertext": "Ecuador<br>Life expectancy Rank: 45<br>Happiness Rank: 46<br>Mismatch: 1",
         "line": {
          "color": "#1E88E5",
          "width": 2
         },
         "mode": "lines+markers",
         "name": "Ecuador",
         "type": "scatter",
         "x": [
          "Life expectancy Rank",
          "Happiness Rank"
         ],
         "y": [
          45,
          46
         ]
        },
        {
         "hoverinfo": "text",
         "hovertext": "Kosovo<br>Life expectancy Rank: 46<br>Happiness Rank: 42<br>Mismatch: 4",
         "line": {
          "color": "#1E88E5",
          "width": 2
         },
         "mode": "lines+markers",
         "name": "Kosovo",
         "type": "scatter",
         "x": [
          "Life expectancy Rank",
          "Happiness Rank"
         ],
         "y": [
          46,
          42
         ]
        },
        {
         "hoverinfo": "text",
         "hovertext": "Thailand<br>Life expectancy Rank: 47<br>Happiness Rank: 48<br>Mismatch: 1",
         "line": {
          "color": "#1E88E5",
          "width": 2
         },
         "mode": "lines+markers",
         "name": "Thailand",
         "type": "scatter",
         "x": [
          "Life expectancy Rank",
          "Happiness Rank"
         ],
         "y": [
          47,
          48
         ]
        },
        {
         "hoverinfo": "text",
         "hovertext": "Jordan<br>Life expectancy Rank: 48<br>Happiness Rank: 89<br>Mismatch: 41",
         "line": {
          "color": "#D81B60",
          "width": 2
         },
         "mode": "lines+markers",
         "name": "Jordan",
         "type": "scatter",
         "x": [
          "Life expectancy Rank",
          "Happiness Rank"
         ],
         "y": [
          48,
          89
         ]
        },
        {
         "hoverinfo": "text",
         "hovertext": "Argentina<br>Life expectancy Rank: 49<br>Happiness Rank: 43<br>Mismatch: 6",
         "line": {
          "color": "#1E88E5",
          "width": 2
         },
         "mode": "lines+markers",
         "name": "Argentina",
         "type": "scatter",
         "x": [
          "Life expectancy Rank",
          "Happiness Rank"
         ],
         "y": [
          49,
          43
         ]
        },
        {
         "hoverinfo": "text",
         "hovertext": "Colombia<br>Life expectancy Rank: 50<br>Happiness Rank: 39<br>Mismatch: 11",
         "line": {
          "color": "#1E88E5",
          "width": 2
         },
         "mode": "lines+markers",
         "name": "Colombia",
         "type": "scatter",
         "x": [
          "Life expectancy Rank",
          "Happiness Rank"
         ],
         "y": [
          50,
          39
         ]
        },
        {
         "hoverinfo": "text",
         "hovertext": "Sri Lanka<br>Life expectancy Rank: 51<br>Happiness Rank: 111<br>Mismatch: 60",
         "line": {
          "color": "#D81B60",
          "width": 2
         },
         "mode": "lines+markers",
         "name": "Sri Lanka",
         "type": "scatter",
         "x": [
          "Life expectancy Rank",
          "Happiness Rank"
         ],
         "y": [
          51,
          111
         ]
        },
        {
         "hoverinfo": "text",
         "hovertext": "Montenegro<br>Life expectancy Rank: 52<br>Happiness Rank: 66<br>Mismatch: 14",
         "line": {
          "color": "#1E88E5",
          "width": 2
         },
         "mode": "lines+markers",
         "name": "Montenegro",
         "type": "scatter",
         "x": [
          "Life expectancy Rank",
          "Happiness Rank"
         ],
         "y": [
          52,
          66
         ]
        },
        {
         "hoverinfo": "text",
         "hovertext": "North Macedonia<br>Life expectancy Rank: 53<br>Happiness Rank: 75<br>Mismatch: 22",
         "line": {
          "color": "#D81B60",
          "width": 2
         },
         "mode": "lines+markers",
         "name": "North Macedonia",
         "type": "scatter",
         "x": [
          "Life expectancy Rank",
          "Happiness Rank"
         ],
         "y": [
          53,
          75
         ]
        },
        {
         "hoverinfo": "text",
         "hovertext": "Hungary<br>Life expectancy Rank: 54<br>Happiness Rank: 57<br>Mismatch: 3",
         "line": {
          "color": "#1E88E5",
          "width": 2
         },
         "mode": "lines+markers",
         "name": "Hungary",
         "type": "scatter",
         "x": [
          "Life expectancy Rank",
          "Happiness Rank"
         ],
         "y": [
          54,
          57
         ]
        },
        {
         "hoverinfo": "text",
         "hovertext": "Lithuania<br>Life expectancy Rank: 55<br>Happiness Rank: 38<br>Mismatch: 17",
         "line": {
          "color": "#D81B60",
          "width": 2
         },
         "mode": "lines+markers",
         "name": "Lithuania",
         "type": "scatter",
         "x": [
          "Life expectancy Rank",
          "Happiness Rank"
         ],
         "y": [
          55,
          38
         ]
        },
        {
         "hoverinfo": "text",
         "hovertext": "Peru<br>Life expectancy Rank: 56<br>Happiness Rank: 59<br>Mismatch: 3",
         "line": {
          "color": "#1E88E5",
          "width": 2
         },
         "mode": "lines+markers",
         "name": "Peru",
         "type": "scatter",
         "x": [
          "Life expectancy Rank",
          "Happiness Rank"
         ],
         "y": [
          56,
          59
         ]
        },
        {
         "hoverinfo": "text",
         "hovertext": "Armenia<br>Life expectancy Rank: 57<br>Happiness Rank: 100<br>Mismatch: 43",
         "line": {
          "color": "#D81B60",
          "width": 2
         },
         "mode": "lines+markers",
         "name": "Armenia",
         "type": "scatter",
         "x": [
          "Life expectancy Rank",
          "Happiness Rank"
         ],
         "y": [
          57,
          100
         ]
        },
        {
         "hoverinfo": "text",
         "hovertext": "Serbia<br>Life expectancy Rank: 58<br>Happiness Rank: 63<br>Mismatch: 5",
         "line": {
          "color": "#1E88E5",
          "width": 2
         },
         "mode": "lines+markers",
         "name": "Serbia",
         "type": "scatter",
         "x": [
          "Life expectancy Rank",
          "Happiness Rank"
         ],
         "y": [
          58,
          63
         ]
        },
        {
         "hoverinfo": "text",
         "hovertext": "Malaysia<br>Life expectancy Rank: 59<br>Happiness Rank: 71<br>Mismatch: 12",
         "line": {
          "color": "#1E88E5",
          "width": 2
         },
         "mode": "lines+markers",
         "name": "Malaysia",
         "type": "scatter",
         "x": [
          "Life expectancy Rank",
          "Happiness Rank"
         ],
         "y": [
          59,
          71
         ]
        },
        {
         "hoverinfo": "text",
         "hovertext": "Brazil<br>Life expectancy Rank: 60<br>Happiness Rank: 30<br>Mismatch: 30",
         "line": {
          "color": "#D81B60",
          "width": 2
         },
         "mode": "lines+markers",
         "name": "Brazil",
         "type": "scatter",
         "x": [
          "Life expectancy Rank",
          "Happiness Rank"
         ],
         "y": [
          60,
          30
         ]
        },
        {
         "hoverinfo": "text",
         "hovertext": "Algeria<br>Life expectancy Rank: 61<br>Happiness Rank: 78<br>Mismatch: 17",
         "line": {
          "color": "#D81B60",
          "width": 2
         },
         "mode": "lines+markers",
         "name": "Algeria",
         "type": "scatter",
         "x": [
          "Life expectancy Rank",
          "Happiness Rank"
         ],
         "y": [
          61,
          78
         ]
        },
        {
         "hoverinfo": "text",
         "hovertext": "Romania<br>Life expectancy Rank: 62<br>Happiness Rank: 44<br>Mismatch: 18",
         "line": {
          "color": "#D81B60",
          "width": 2
         },
         "mode": "lines+markers",
         "name": "Romania",
         "type": "scatter",
         "x": [
          "Life expectancy Rank",
          "Happiness Rank"
         ],
         "y": [
          62,
          44
         ]
        },
        {
         "hoverinfo": "text",
         "hovertext": "Tunisia<br>Life expectancy Rank: 63<br>Happiness Rank: 106<br>Mismatch: 43",
         "line": {
          "color": "#D81B60",
          "width": 2
         },
         "mode": "lines+markers",
         "name": "Tunisia",
         "type": "scatter",
         "x": [
          "Life expectancy Rank",
          "Happiness Rank"
         ],
         "y": [
          63,
          106
         ]
        },
        {
         "hoverinfo": "text",
         "hovertext": "Latvia<br>Life expectancy Rank: 64<br>Happiness Rank: 49<br>Mismatch: 15",
         "line": {
          "color": "#1E88E5",
          "width": 2
         },
         "mode": "lines+markers",
         "name": "Latvia",
         "type": "scatter",
         "x": [
          "Life expectancy Rank",
          "Happiness Rank"
         ],
         "y": [
          64,
          49
         ]
        },
        {
         "hoverinfo": "text",
         "hovertext": "Bulgaria<br>Life expectancy Rank: 65<br>Happiness Rank: 86<br>Mismatch: 21",
         "line": {
          "color": "#D81B60",
          "width": 2
         },
         "mode": "lines+markers",
         "name": "Bulgaria",
         "type": "scatter",
         "x": [
          "Life expectancy Rank",
          "Happiness Rank"
         ],
         "y": [
          65,
          86
         ]
        },
        {
         "hoverinfo": "text",
         "hovertext": "Mexico<br>Life expectancy Rank: 66<br>Happiness Rank: 22<br>Mismatch: 44",
         "line": {
          "color": "#D81B60",
          "width": 2
         },
         "mode": "lines+markers",
         "name": "Mexico",
         "type": "scatter",
         "x": [
          "Life expectancy Rank",
          "Happiness Rank"
         ],
         "y": [
          66,
          22
         ]
        },
        {
         "hoverinfo": "text",
         "hovertext": "Morocco<br>Life expectancy Rank: 67<br>Happiness Rank: 79<br>Mismatch: 12",
         "line": {
          "color": "#1E88E5",
          "width": 2
         },
         "mode": "lines+markers",
         "name": "Morocco",
         "type": "scatter",
         "x": [
          "Life expectancy Rank",
          "Happiness Rank"
         ],
         "y": [
          67,
          79
         ]
        },
        {
         "hoverinfo": "text",
         "hovertext": "Mauritius<br>Life expectancy Rank: 68<br>Happiness Rank: 52<br>Mismatch: 16",
         "line": {
          "color": "#D81B60",
          "width": 2
         },
         "mode": "lines+markers",
         "name": "Mauritius",
         "type": "scatter",
         "x": [
          "Life expectancy Rank",
          "Happiness Rank"
         ],
         "y": [
          68,
          52
         ]
        },
        {
         "hoverinfo": "text",
         "hovertext": "Belarus<br>Life expectancy Rank: 69<br>Happiness Rank: 72<br>Mismatch: 3",
         "line": {
          "color": "#1E88E5",
          "width": 2
         },
         "mode": "lines+markers",
         "name": "Belarus",
         "type": "scatter",
         "x": [
          "Life expectancy Rank",
          "Happiness Rank"
         ],
         "y": [
          69,
          72
         ]
        },
        {
         "hoverinfo": "text",
         "hovertext": "Georgia<br>Life expectancy Rank: 70<br>Happiness Rank: 102<br>Mismatch: 32",
         "line": {
          "color": "#D81B60",
          "width": 2
         },
         "mode": "lines+markers",
         "name": "Georgia",
         "type": "scatter",
         "x": [
          "Life expectancy Rank",
          "Happiness Rank"
         ],
         "y": [
          70,
          102
         ]
        },
        {
         "hoverinfo": "text",
         "hovertext": "Ukraine<br>Life expectancy Rank: 71<br>Happiness Rank: 114<br>Mismatch: 43",
         "line": {
          "color": "#D81B60",
          "width": 2
         },
         "mode": "lines+markers",
         "name": "Ukraine",
         "type": "scatter",
         "x": [
          "Life expectancy Rank",
          "Happiness Rank"
         ],
         "y": [
          71,
          114
         ]
        },
        {
         "hoverinfo": "text",
         "hovertext": "Nicaragua<br>Life expectancy Rank: 72<br>Happiness Rank: 41<br>Mismatch: 31",
         "line": {
          "color": "#D81B60",
          "width": 2
         },
         "mode": "lines+markers",
         "name": "Nicaragua",
         "type": "scatter",
         "x": [
          "Life expectancy Rank",
          "Happiness Rank"
         ],
         "y": [
          72,
          41
         ]
        },
        {
         "hoverinfo": "text",
         "hovertext": "Paraguay<br>Life expectancy Rank: 73<br>Happiness Rank: 58<br>Mismatch: 15",
         "line": {
          "color": "#1E88E5",
          "width": 2
         },
         "mode": "lines+markers",
         "name": "Paraguay",
         "type": "scatter",
         "x": [
          "Life expectancy Rank",
          "Happiness Rank"
         ],
         "y": [
          73,
          58
         ]
        },
        {
         "hoverinfo": "text",
         "hovertext": "Kazakhstan<br>Life expectancy Rank: 74<br>Happiness Rank: 55<br>Mismatch: 19",
         "line": {
          "color": "#D81B60",
          "width": 2
         },
         "mode": "lines+markers",
         "name": "Kazakhstan",
         "type": "scatter",
         "x": [
          "Life expectancy Rank",
          "Happiness Rank"
         ],
         "y": [
          74,
          55
         ]
        },
        {
         "hoverinfo": "text",
         "hovertext": "Azerbaijan<br>Life expectancy Rank: 75<br>Happiness Rank: 79<br>Mismatch: 4",
         "line": {
          "color": "#1E88E5",
          "width": 2
         },
         "mode": "lines+markers",
         "name": "Azerbaijan",
         "type": "scatter",
         "x": [
          "Life expectancy Rank",
          "Happiness Rank"
         ],
         "y": [
          75,
          79
         ]
        },
        {
         "hoverinfo": "text",
         "hovertext": "Dominican Republic<br>Life expectancy Rank: 76<br>Happiness Rank: 69<br>Mismatch: 7",
         "line": {
          "color": "#1E88E5",
          "width": 2
         },
         "mode": "lines+markers",
         "name": "Dominican Republic",
         "type": "scatter",
         "x": [
          "Life expectancy Rank",
          "Happiness Rank"
         ],
         "y": [
          76,
          69
         ]
        },
        {
         "hoverinfo": "text",
         "hovertext": "Libya<br>Life expectancy Rank: 77<br>Happiness Rank: 65<br>Mismatch: 12",
         "line": {
          "color": "#1E88E5",
          "width": 2
         },
         "mode": "lines+markers",
         "name": "Libya",
         "type": "scatter",
         "x": [
          "Life expectancy Rank",
          "Happiness Rank"
         ],
         "y": [
          77,
          65
         ]
        },
        {
         "hoverinfo": "text",
         "hovertext": "Bangladesh<br>Life expectancy Rank: 78<br>Happiness Rank: 107<br>Mismatch: 29",
         "line": {
          "color": "#D81B60",
          "width": 2
         },
         "mode": "lines+markers",
         "name": "Bangladesh",
         "type": "scatter",
         "x": [
          "Life expectancy Rank",
          "Happiness Rank"
         ],
         "y": [
          78,
          107
         ]
        },
        {
         "hoverinfo": "text",
         "hovertext": "Honduras<br>Life expectancy Rank: 79<br>Happiness Rank: 54<br>Mismatch: 25",
         "line": {
          "color": "#D81B60",
          "width": 2
         },
         "mode": "lines+markers",
         "name": "Honduras",
         "type": "scatter",
         "x": [
          "Life expectancy Rank",
          "Happiness Rank"
         ],
         "y": [
          79,
          54
         ]
        },
        {
         "hoverinfo": "text",
         "hovertext": "Uzbekistan<br>Life expectancy Rank: 80<br>Happiness Rank: 37<br>Mismatch: 43",
         "line": {
          "color": "#D81B60",
          "width": 2
         },
         "mode": "lines+markers",
         "name": "Uzbekistan",
         "type": "scatter",
         "x": [
          "Life expectancy Rank",
          "Happiness Rank"
         ],
         "y": [
          80,
          37
         ]
        },
        {
         "hoverinfo": "text",
         "hovertext": "Bhutan<br>Life expectancy Rank: 81<br>Happiness Rank: 84<br>Mismatch: 3",
         "line": {
          "color": "#1E88E5",
          "width": 2
         },
         "mode": "lines+markers",
         "name": "Bhutan",
         "type": "scatter",
         "x": [
          "Life expectancy Rank",
          "Happiness Rank"
         ],
         "y": [
          81,
          84
         ]
        },
        {
         "hoverinfo": "text",
         "hovertext": "El Salvador<br>Life expectancy Rank: 82<br>Happiness Rank: 33<br>Mismatch: 49",
         "line": {
          "color": "#D81B60",
          "width": 2
         },
         "mode": "lines+markers",
         "name": "El Salvador",
         "type": "scatter",
         "x": [
          "Life expectancy Rank",
          "Happiness Rank"
         ],
         "y": [
          82,
          33
         ]
        },
        {
         "hoverinfo": "text",
         "hovertext": "Guatemala<br>Life expectancy Rank: 83<br>Happiness Rank: 25<br>Mismatch: 58",
         "line": {
          "color": "#D81B60",
          "width": 2
         },
         "mode": "lines+markers",
         "name": "Guatemala",
         "type": "scatter",
         "x": [
          "Life expectancy Rank",
          "Happiness Rank"
         ],
         "y": [
          83,
          25
         ]
        },
        {
         "hoverinfo": "text",
         "hovertext": "Jamaica<br>Life expectancy Rank: 84<br>Happiness Rank: 51<br>Mismatch: 33",
         "line": {
          "color": "#D81B60",
          "width": 2
         },
         "mode": "lines+markers",
         "name": "Jamaica",
         "type": "scatter",
         "x": [
          "Life expectancy Rank",
          "Happiness Rank"
         ],
         "y": [
          84,
          51
         ]
        },
        {
         "hoverinfo": "text",
         "hovertext": "Iraq<br>Life expectancy Rank: 85<br>Happiness Rank: 108<br>Mismatch: 23",
         "line": {
          "color": "#D81B60",
          "width": 2
         },
         "mode": "lines+markers",
         "name": "Iraq",
         "type": "scatter",
         "x": [
          "Life expectancy Rank",
          "Happiness Rank"
         ],
         "y": [
          85,
          108
         ]
        },
        {
         "hoverinfo": "text",
         "hovertext": "Mongolia<br>Life expectancy Rank: 86<br>Happiness Rank: 74<br>Mismatch: 12",
         "line": {
          "color": "#1E88E5",
          "width": 2
         },
         "mode": "lines+markers",
         "name": "Mongolia",
         "type": "scatter",
         "x": [
          "Life expectancy Rank",
          "Happiness Rank"
         ],
         "y": [
          86,
          74
         ]
        },
        {
         "hoverinfo": "text",
         "hovertext": "Tajikistan<br>Life expectancy Rank: 87<br>Happiness Rank: 67<br>Mismatch: 20",
         "line": {
          "color": "#D81B60",
          "width": 2
         },
         "mode": "lines+markers",
         "name": "Tajikistan",
         "type": "scatter",
         "x": [
          "Life expectancy Rank",
          "Happiness Rank"
         ],
         "y": [
          87,
          67
         ]
        },
        {
         "hoverinfo": "text",
         "hovertext": "India<br>Life expectancy Rank: 88<br>Happiness Rank: 119<br>Mismatch: 31",
         "line": {
          "color": "#D81B60",
          "width": 2
         },
         "mode": "lines+markers",
         "name": "India",
         "type": "scatter",
         "x": [
          "Life expectancy Rank",
          "Happiness Rank"
         ],
         "y": [
          88,
          119
         ]
        },
        {
         "hoverinfo": "text",
         "hovertext": "Indonesia<br>Life expectancy Rank: 89<br>Happiness Rank: 82<br>Mismatch: 7",
         "line": {
          "color": "#1E88E5",
          "width": 2
         },
         "mode": "lines+markers",
         "name": "Indonesia",
         "type": "scatter",
         "x": [
          "Life expectancy Rank",
          "Happiness Rank"
         ],
         "y": [
          89,
          82
         ]
        },
        {
         "hoverinfo": "text",
         "hovertext": "Moldova<br>Life expectancy Rank: 90<br>Happiness Rank: 64<br>Mismatch: 26",
         "line": {
          "color": "#D81B60",
          "width": 2
         },
         "mode": "lines+markers",
         "name": "Moldova",
         "type": "scatter",
         "x": [
          "Life expectancy Rank",
          "Happiness Rank"
         ],
         "y": [
          90,
          64
         ]
        },
        {
         "hoverinfo": "text",
         "hovertext": "Cambodia<br>Life expectancy Rank: 91<br>Happiness Rank: 94<br>Mismatch: 3",
         "line": {
          "color": "#1E88E5",
          "width": 2
         },
         "mode": "lines+markers",
         "name": "Cambodia",
         "type": "scatter",
         "x": [
          "Life expectancy Rank",
          "Happiness Rank"
         ],
         "y": [
          91,
          94
         ]
        },
        {
         "hoverinfo": "text",
         "hovertext": "Philippines<br>Life expectancy Rank: 92<br>Happiness Rank: 62<br>Mismatch: 30",
         "line": {
          "color": "#D81B60",
          "width": 2
         },
         "mode": "lines+markers",
         "name": "Philippines",
         "type": "scatter",
         "x": [
          "Life expectancy Rank",
          "Happiness Rank"
         ],
         "y": [
          92,
          62
         ]
        },
        {
         "hoverinfo": "text",
         "hovertext": "Turkmenistan<br>Life expectancy Rank: 93<br>Happiness Rank: 77<br>Mismatch: 16",
         "line": {
          "color": "#D81B60",
          "width": 2
         },
         "mode": "lines+markers",
         "name": "Turkmenistan",
         "type": "scatter",
         "x": [
          "Life expectancy Rank",
          "Happiness Rank"
         ],
         "y": [
          93,
          77
         ]
        },
        {
         "hoverinfo": "text",
         "hovertext": "Nepal<br>Life expectancy Rank: 94<br>Happiness Rank: 88<br>Mismatch: 6",
         "line": {
          "color": "#1E88E5",
          "width": 2
         },
         "mode": "lines+markers",
         "name": "Nepal",
         "type": "scatter",
         "x": [
          "Life expectancy Rank",
          "Happiness Rank"
         ],
         "y": [
          94,
          88
         ]
        },
        {
         "hoverinfo": "text",
         "hovertext": "Bolivia<br>Life expectancy Rank: 95<br>Happiness Rank: 56<br>Mismatch: 39",
         "line": {
          "color": "#D81B60",
          "width": 2
         },
         "mode": "lines+markers",
         "name": "Bolivia",
         "type": "scatter",
         "x": [
          "Life expectancy Rank",
          "Happiness Rank"
         ],
         "y": [
          95,
          56
         ]
        },
        {
         "hoverinfo": "text",
         "hovertext": "Senegal<br>Life expectancy Rank: 96<br>Happiness Rank: 95<br>Mismatch: 1",
         "line": {
          "color": "#1E88E5",
          "width": 2
         },
         "mode": "lines+markers",
         "name": "Senegal",
         "type": "scatter",
         "x": [
          "Life expectancy Rank",
          "Happiness Rank"
         ],
         "y": [
          96,
          95
         ]
        },
        {
         "hoverinfo": "text",
         "hovertext": "Mauritania<br>Life expectancy Rank: 97<br>Happiness Rank: 104<br>Mismatch: 7",
         "line": {
          "color": "#1E88E5",
          "width": 2
         },
         "mode": "lines+markers",
         "name": "Mauritania",
         "type": "scatter",
         "x": [
          "Life expectancy Rank",
          "Happiness Rank"
         ],
         "y": [
          97,
          104
         ]
        },
        {
         "hoverinfo": "text",
         "hovertext": "Gabon<br>Life expectancy Rank: 98<br>Happiness Rank: 91<br>Mismatch: 7",
         "line": {
          "color": "#1E88E5",
          "width": 2
         },
         "mode": "lines+markers",
         "name": "Gabon",
         "type": "scatter",
         "x": [
          "Life expectancy Rank",
          "Happiness Rank"
         ],
         "y": [
          98,
          91
         ]
        },
        {
         "hoverinfo": "text",
         "hovertext": "Botswana<br>Life expectancy Rank: 99<br>Happiness Rank: 127<br>Mismatch: 28",
         "line": {
          "color": "#D81B60",
          "width": 2
         },
         "mode": "lines+markers",
         "name": "Botswana",
         "type": "scatter",
         "x": [
          "Life expectancy Rank",
          "Happiness Rank"
         ],
         "y": [
          99,
          127
         ]
        },
        {
         "hoverinfo": "text",
         "hovertext": "Pakistan<br>Life expectancy Rank: 100<br>Happiness Rank: 61<br>Mismatch: 39",
         "line": {
          "color": "#D81B60",
          "width": 2
         },
         "mode": "lines+markers",
         "name": "Pakistan",
         "type": "scatter",
         "x": [
          "Life expectancy Rank",
          "Happiness Rank"
         ],
         "y": [
          100,
          61
         ]
        },
        {
         "hoverinfo": "text",
         "hovertext": "Rwanda<br>Life expectancy Rank: 101<br>Happiness Rank: 129<br>Mismatch: 28",
         "line": {
          "color": "#D81B60",
          "width": 2
         },
         "mode": "lines+markers",
         "name": "Rwanda",
         "type": "scatter",
         "x": [
          "Life expectancy Rank",
          "Happiness Rank"
         ],
         "y": [
          101,
          129
         ]
        },
        {
         "hoverinfo": "text",
         "hovertext": "Myanmar<br>Life expectancy Rank: 102<br>Happiness Rank: 112<br>Mismatch: 10",
         "line": {
          "color": "#1E88E5",
          "width": 2
         },
         "mode": "lines+markers",
         "name": "Myanmar",
         "type": "scatter",
         "x": [
          "Life expectancy Rank",
          "Happiness Rank"
         ],
         "y": [
          102,
          112
         ]
        },
        {
         "hoverinfo": "text",
         "hovertext": "Uganda<br>Life expectancy Rank: 103<br>Happiness Rank: 116<br>Mismatch: 13",
         "line": {
          "color": "#1E88E5",
          "width": 2
         },
         "mode": "lines+markers",
         "name": "Uganda",
         "type": "scatter",
         "x": [
          "Life expectancy Rank",
          "Happiness Rank"
         ],
         "y": [
          103,
          116
         ]
        },
        {
         "hoverinfo": "text",
         "hovertext": "South Africa<br>Life expectancy Rank: 104<br>Happiness Rank: 92<br>Mismatch: 12",
         "line": {
          "color": "#1E88E5",
          "width": 2
         },
         "mode": "lines+markers",
         "name": "South Africa",
         "type": "scatter",
         "x": [
          "Life expectancy Rank",
          "Happiness Rank"
         ],
         "y": [
          104,
          92
         ]
        },
        {
         "hoverinfo": "text",
         "hovertext": "Tanzania<br>Life expectancy Rank: 105<br>Happiness Rank: 130<br>Mismatch: 25",
         "line": {
          "color": "#D81B60",
          "width": 2
         },
         "mode": "lines+markers",
         "name": "Tanzania",
         "type": "scatter",
         "x": [
          "Life expectancy Rank",
          "Happiness Rank"
         ],
         "y": [
          105,
          130
         ]
        },
        {
         "hoverinfo": "text",
         "hovertext": "Ethiopia<br>Life expectancy Rank: 106<br>Happiness Rank: 115<br>Mismatch: 9",
         "line": {
          "color": "#1E88E5",
          "width": 2
         },
         "mode": "lines+markers",
         "name": "Ethiopia",
         "type": "scatter",
         "x": [
          "Life expectancy Rank",
          "Happiness Rank"
         ],
         "y": [
          106,
          115
         ]
        },
        {
         "hoverinfo": "text",
         "hovertext": "Comoros<br>Life expectancy Rank: 107<br>Happiness Rank: 121<br>Mismatch: 14",
         "line": {
          "color": "#1E88E5",
          "width": 2
         },
         "mode": "lines+markers",
         "name": "Comoros",
         "type": "scatter",
         "x": [
          "Life expectancy Rank",
          "Happiness Rank"
         ],
         "y": [
          107,
          121
         ]
        },
        {
         "hoverinfo": "text",
         "hovertext": "Malawi<br>Life expectancy Rank: 108<br>Happiness Rank: 128<br>Mismatch: 20",
         "line": {
          "color": "#D81B60",
          "width": 2
         },
         "mode": "lines+markers",
         "name": "Malawi",
         "type": "scatter",
         "x": [
          "Life expectancy Rank",
          "Happiness Rank"
         ],
         "y": [
          108,
          128
         ]
        },
        {
         "hoverinfo": "text",
         "hovertext": "Ghana<br>Life expectancy Rank: 109<br>Happiness Rank: 87<br>Mismatch: 22",
         "line": {
          "color": "#D81B60",
          "width": 2
         },
         "mode": "lines+markers",
         "name": "Ghana",
         "type": "scatter",
         "x": [
          "Life expectancy Rank",
          "Happiness Rank"
         ],
         "y": [
          109,
          87
         ]
        },
        {
         "hoverinfo": "text",
         "hovertext": "Haiti<br>Life expectancy Rank: 110<br>Happiness Rank: 126<br>Mismatch: 16",
         "line": {
          "color": "#D81B60",
          "width": 2
         },
         "mode": "lines+markers",
         "name": "Haiti",
         "type": "scatter",
         "x": [
          "Life expectancy Rank",
          "Happiness Rank"
         ],
         "y": [
          110,
          126
         ]
        },
        {
         "hoverinfo": "text",
         "hovertext": "Namibia<br>Life expectancy Rank: 111<br>Happiness Rank: 97<br>Mismatch: 14",
         "line": {
          "color": "#1E88E5",
          "width": 2
         },
         "mode": "lines+markers",
         "name": "Namibia",
         "type": "scatter",
         "x": [
          "Life expectancy Rank",
          "Happiness Rank"
         ],
         "y": [
          111,
          97
         ]
        },
        {
         "hoverinfo": "text",
         "hovertext": "Madagascar<br>Life expectancy Rank: 112<br>Happiness Rank: 122<br>Mismatch: 10",
         "line": {
          "color": "#1E88E5",
          "width": 2
         },
         "mode": "lines+markers",
         "name": "Madagascar",
         "type": "scatter",
         "x": [
          "Life expectancy Rank",
          "Happiness Rank"
         ],
         "y": [
          112,
          122
         ]
        },
        {
         "hoverinfo": "text",
         "hovertext": "Afghanistan<br>Life expectancy Rank: 113<br>Happiness Rank: 131<br>Mismatch: 18",
         "line": {
          "color": "#D81B60",
          "width": 2
         },
         "mode": "lines+markers",
         "name": "Afghanistan",
         "type": "scatter",
         "x": [
          "Life expectancy Rank",
          "Happiness Rank"
         ],
         "y": [
          113,
          131
         ]
        },
        {
         "hoverinfo": "text",
         "hovertext": "Kenya<br>Life expectancy Rank: 114<br>Happiness Rank: 103<br>Mismatch: 11",
         "line": {
          "color": "#1E88E5",
          "width": 2
         },
         "mode": "lines+markers",
         "name": "Kenya",
         "type": "scatter",
         "x": [
          "Life expectancy Rank",
          "Happiness Rank"
         ],
         "y": [
          114,
          103
         ]
        },
        {
         "hoverinfo": "text",
         "hovertext": "Zambia<br>Life expectancy Rank: 115<br>Happiness Rank: 117<br>Mismatch: 2",
         "line": {
          "color": "#1E88E5",
          "width": 2
         },
         "mode": "lines+markers",
         "name": "Zambia",
         "type": "scatter",
         "x": [
          "Life expectancy Rank",
          "Happiness Rank"
         ],
         "y": [
          115,
          117
         ]
        },
        {
         "hoverinfo": "text",
         "hovertext": "Burundi<br>Life expectancy Rank: 116<br>Happiness Rank: 124<br>Mismatch: 8",
         "line": {
          "color": "#1E88E5",
          "width": 2
         },
         "mode": "lines+markers",
         "name": "Burundi",
         "type": "scatter",
         "x": [
          "Life expectancy Rank",
          "Happiness Rank"
         ],
         "y": [
          116,
          124
         ]
        },
        {
         "hoverinfo": "text",
         "hovertext": "Cameroon<br>Life expectancy Rank: 117<br>Happiness Rank: 85<br>Mismatch: 32",
         "line": {
          "color": "#D81B60",
          "width": 2
         },
         "mode": "lines+markers",
         "name": "Cameroon",
         "type": "scatter",
         "x": [
          "Life expectancy Rank",
          "Happiness Rank"
         ],
         "y": [
          117,
          85
         ]
        },
        {
         "hoverinfo": "text",
         "hovertext": "Mozambique<br>Life expectancy Rank: 118<br>Happiness Rank: 105<br>Mismatch: 13",
         "line": {
          "color": "#1E88E5",
          "width": 2
         },
         "mode": "lines+markers",
         "name": "Mozambique",
         "type": "scatter",
         "x": [
          "Life expectancy Rank",
          "Happiness Rank"
         ],
         "y": [
          118,
          105
         ]
        },
        {
         "hoverinfo": "text",
         "hovertext": "Liberia<br>Life expectancy Rank: 119<br>Happiness Rank: 120<br>Mismatch: 1",
         "line": {
          "color": "#1E88E5",
          "width": 2
         },
         "mode": "lines+markers",
         "name": "Liberia",
         "type": "scatter",
         "x": [
          "Life expectancy Rank",
          "Happiness Rank"
         ],
         "y": [
          119,
          120
         ]
        },
        {
         "hoverinfo": "text",
         "hovertext": "Zimbabwe<br>Life expectancy Rank: 120<br>Happiness Rank: 125<br>Mismatch: 5",
         "line": {
          "color": "#1E88E5",
          "width": 2
         },
         "mode": "lines+markers",
         "name": "Zimbabwe",
         "type": "scatter",
         "x": [
          "Life expectancy Rank",
          "Happiness Rank"
         ],
         "y": [
          120,
          125
         ]
        },
        {
         "hoverinfo": "text",
         "hovertext": "Togo<br>Life expectancy Rank: 121<br>Happiness Rank: 118<br>Mismatch: 3",
         "line": {
          "color": "#1E88E5",
          "width": 2
         },
         "mode": "lines+markers",
         "name": "Togo",
         "type": "scatter",
         "x": [
          "Life expectancy Rank",
          "Happiness Rank"
         ],
         "y": [
          121,
          118
         ]
        },
        {
         "hoverinfo": "text",
         "hovertext": "Burkina Faso<br>Life expectancy Rank: 122<br>Happiness Rank: 99<br>Mismatch: 23",
         "line": {
          "color": "#D81B60",
          "width": 2
         },
         "mode": "lines+markers",
         "name": "Burkina Faso",
         "type": "scatter",
         "x": [
          "Life expectancy Rank",
          "Happiness Rank"
         ],
         "y": [
          122,
          99
         ]
        },
        {
         "hoverinfo": "text",
         "hovertext": "Niger<br>Life expectancy Rank: 123<br>Happiness Rank: 98<br>Mismatch: 25",
         "line": {
          "color": "#D81B60",
          "width": 2
         },
         "mode": "lines+markers",
         "name": "Niger",
         "type": "scatter",
         "x": [
          "Life expectancy Rank",
          "Happiness Rank"
         ],
         "y": [
          123,
          98
         ]
        },
        {
         "hoverinfo": "text",
         "hovertext": "Benin<br>Life expectancy Rank: 124<br>Happiness Rank: 90<br>Mismatch: 34",
         "line": {
          "color": "#D81B60",
          "width": 2
         },
         "mode": "lines+markers",
         "name": "Benin",
         "type": "scatter",
         "x": [
          "Life expectancy Rank",
          "Happiness Rank"
         ],
         "y": [
          124,
          90
         ]
        },
        {
         "hoverinfo": "text",
         "hovertext": "Sierra Leone<br>Life expectancy Rank: 125<br>Happiness Rank: 110<br>Mismatch: 15",
         "line": {
          "color": "#1E88E5",
          "width": 2
         },
         "mode": "lines+markers",
         "name": "Sierra Leone",
         "type": "scatter",
         "x": [
          "Life expectancy Rank",
          "Happiness Rank"
         ],
         "y": [
          125,
          110
         ]
        },
        {
         "hoverinfo": "text",
         "hovertext": "Guinea<br>Life expectancy Rank: 126<br>Happiness Rank: 101<br>Mismatch: 25",
         "line": {
          "color": "#D81B60",
          "width": 2
         },
         "mode": "lines+markers",
         "name": "Guinea",
         "type": "scatter",
         "x": [
          "Life expectancy Rank",
          "Happiness Rank"
         ],
         "y": [
          126,
          101
         ]
        },
        {
         "hoverinfo": "text",
         "hovertext": "Mali<br>Life expectancy Rank: 127<br>Happiness Rank: 109<br>Mismatch: 18",
         "line": {
          "color": "#D81B60",
          "width": 2
         },
         "mode": "lines+markers",
         "name": "Mali",
         "type": "scatter",
         "x": [
          "Life expectancy Rank",
          "Happiness Rank"
         ],
         "y": [
          127,
          109
         ]
        },
        {
         "hoverinfo": "text",
         "hovertext": "South Sudan<br>Life expectancy Rank: 128<br>Happiness Rank: 133<br>Mismatch: 5",
         "line": {
          "color": "#1E88E5",
          "width": 2
         },
         "mode": "lines+markers",
         "name": "South Sudan",
         "type": "scatter",
         "x": [
          "Life expectancy Rank",
          "Happiness Rank"
         ],
         "y": [
          128,
          133
         ]
        },
        {
         "hoverinfo": "text",
         "hovertext": "Somalia<br>Life expectancy Rank: 129<br>Happiness Rank: 96<br>Mismatch: 33",
         "line": {
          "color": "#D81B60",
          "width": 2
         },
         "mode": "lines+markers",
         "name": "Somalia",
         "type": "scatter",
         "x": [
          "Life expectancy Rank",
          "Happiness Rank"
         ],
         "y": [
          129,
          96
         ]
        },
        {
         "hoverinfo": "text",
         "hovertext": "Lesotho<br>Life expectancy Rank: 130<br>Happiness Rank: 123<br>Mismatch: 7",
         "line": {
          "color": "#1E88E5",
          "width": 2
         },
         "mode": "lines+markers",
         "name": "Lesotho",
         "type": "scatter",
         "x": [
          "Life expectancy Rank",
          "Happiness Rank"
         ],
         "y": [
          130,
          123
         ]
        },
        {
         "hoverinfo": "text",
         "hovertext": "Nigeria<br>Life expectancy Rank: 131<br>Happiness Rank: 76<br>Mismatch: 55",
         "line": {
          "color": "#D81B60",
          "width": 2
         },
         "mode": "lines+markers",
         "name": "Nigeria",
         "type": "scatter",
         "x": [
          "Life expectancy Rank",
          "Happiness Rank"
         ],
         "y": [
          131,
          76
         ]
        },
        {
         "hoverinfo": "text",
         "hovertext": "Chad<br>Life expectancy Rank: 132<br>Happiness Rank: 113<br>Mismatch: 19",
         "line": {
          "color": "#D81B60",
          "width": 2
         },
         "mode": "lines+markers",
         "name": "Chad",
         "type": "scatter",
         "x": [
          "Life expectancy Rank",
          "Happiness Rank"
         ],
         "y": [
          132,
          113
         ]
        },
        {
         "hoverinfo": "text",
         "hovertext": "Central African Republic<br>Life expectancy Rank: 133<br>Happiness Rank: 132<br>Mismatch: 1",
         "line": {
          "color": "#1E88E5",
          "width": 2
         },
         "mode": "lines+markers",
         "name": "Central African Republic",
         "type": "scatter",
         "x": [
          "Life expectancy Rank",
          "Happiness Rank"
         ],
         "y": [
          133,
          132
         ]
        },
        {
         "hoverinfo": "text",
         "hovertext": "Qatar<br>Unemployment rate Rank: 1<br>Happiness Rank: 27<br>Mismatch: 26",
         "line": {
          "color": "#1E88E5",
          "width": 2
         },
         "mode": "lines+markers",
         "name": "Qatar",
         "type": "scatter",
         "visible": false,
         "x": [
          "Unemployment rate Rank",
          "Happiness Rank"
         ],
         "y": [
          1,
          27
         ]
        },
        {
         "hoverinfo": "text",
         "hovertext": "Myanmar<br>Unemployment rate Rank: 2<br>Happiness Rank: 95<br>Mismatch: 93",
         "line": {
          "color": "#D81B60",
          "width": 2
         },
         "mode": "lines+markers",
         "name": "Myanmar",
         "type": "scatter",
         "visible": false,
         "x": [
          "Unemployment rate Rank",
          "Happiness Rank"
         ],
         "y": [
          2,
          95
         ]
        },
        {
         "hoverinfo": "text",
         "hovertext": "Cambodia<br>Unemployment rate Rank: 3<br>Happiness Rank: 82<br>Mismatch: 79",
         "line": {
          "color": "#D81B60",
          "width": 2
         },
         "mode": "lines+markers",
         "name": "Cambodia",
         "type": "scatter",
         "visible": false,
         "x": [
          "Unemployment rate Rank",
          "Happiness Rank"
         ],
         "y": [
          3,
          82
         ]
        },
        {
         "hoverinfo": "text",
         "hovertext": "Niger<br>Unemployment rate Rank: 4<br>Happiness Rank: 85<br>Mismatch: 81",
         "line": {
          "color": "#D81B60",
          "width": 2
         },
         "mode": "lines+markers",
         "name": "Niger",
         "type": "scatter",
         "visible": false,
         "x": [
          "Unemployment rate Rank",
          "Happiness Rank"
         ],
         "y": [
          4,
          85
         ]
        },
        {
         "hoverinfo": "text",
         "hovertext": "Thailand<br>Unemployment rate Rank: 5<br>Happiness Rank: 45<br>Mismatch: 40",
         "line": {
          "color": "#D81B60",
          "width": 2
         },
         "mode": "lines+markers",
         "name": "Thailand",
         "type": "scatter",
         "visible": false,
         "x": [
          "Unemployment rate Rank",
          "Happiness Rank"
         ],
         "y": [
          5,
          45
         ]
        },
        {
         "hoverinfo": "text",
         "hovertext": "Benin<br>Unemployment rate Rank: 6<br>Happiness Rank: 79<br>Mismatch: 73",
         "line": {
          "color": "#D81B60",
          "width": 2
         },
         "mode": "lines+markers",
         "name": "Benin",
         "type": "scatter",
         "visible": false,
         "x": [
          "Unemployment rate Rank",
          "Happiness Rank"
         ],
         "y": [
          6,
          79
         ]
        },
        {
         "hoverinfo": "text",
         "hovertext": "Moldova<br>Unemployment rate Rank: 7<br>Happiness Rank: 61<br>Mismatch: 54",
         "line": {
          "color": "#D81B60",
          "width": 2
         },
         "mode": "lines+markers",
         "name": "Moldova",
         "type": "scatter",
         "visible": false,
         "x": [
          "Unemployment rate Rank",
          "Happiness Rank"
         ],
         "y": [
          7,
          61
         ]
        },
        {
         "hoverinfo": "text",
         "hovertext": "Burkina Faso<br>Unemployment rate Rank: 8<br>Happiness Rank: 86<br>Mismatch: 78",
         "line": {
          "color": "#D81B60",
          "width": 2
         },
         "mode": "lines+markers",
         "name": "Burkina Faso",
         "type": "scatter",
         "visible": false,
         "x": [
          "Unemployment rate Rank",
          "Happiness Rank"
         ],
         "y": [
          8,
          86
         ]
        },
        {
         "hoverinfo": "text",
         "hovertext": "Togo<br>Unemployment rate Rank: 9<br>Happiness Rank: 99<br>Mismatch: 90",
         "line": {
          "color": "#D81B60",
          "width": 2
         },
         "mode": "lines+markers",
         "name": "Togo",
         "type": "scatter",
         "visible": false,
         "x": [
          "Unemployment rate Rank",
          "Happiness Rank"
         ],
         "y": [
          9,
          99
         ]
        },
        {
         "hoverinfo": "text",
         "hovertext": "Guatemala<br>Unemployment rate Rank: 10<br>Happiness Rank: 25<br>Mismatch: 15",
         "line": {
          "color": "#1E88E5",
          "width": 2
         },
         "mode": "lines+markers",
         "name": "Guatemala",
         "type": "scatter",
         "visible": false,
         "x": [
          "Unemployment rate Rank",
          "Happiness Rank"
         ],
         "y": [
          10,
          25
         ]
        },
        {
         "hoverinfo": "text",
         "hovertext": "Philippines<br>Unemployment rate Rank: 11<br>Happiness Rank: 59<br>Mismatch: 48",
         "line": {
          "color": "#D81B60",
          "width": 2
         },
         "mode": "lines+markers",
         "name": "Philippines",
         "type": "scatter",
         "visible": false,
         "x": [
          "Unemployment rate Rank",
          "Happiness Rank"
         ],
         "y": [
          11,
          59
         ]
        },
        {
         "hoverinfo": "text",
         "hovertext": "United Arab Emirates<br>Unemployment rate Rank: 12<br>Happiness Rank: 20<br>Mismatch: 8",
         "line": {
          "color": "#1E88E5",
          "width": 2
         },
         "mode": "lines+markers",
         "name": "United Arab Emirates",
         "type": "scatter",
         "visible": false,
         "x": [
          "Unemployment rate Rank",
          "Happiness Rank"
         ],
         "y": [
          12,
          20
         ]
        },
        {
         "hoverinfo": "text",
         "hovertext": "Japan<br>Unemployment rate Rank: 13<br>Happiness Rank: 50<br>Mismatch: 37",
         "line": {
          "color": "#D81B60",
          "width": 2
         },
         "mode": "lines+markers",
         "name": "Japan",
         "type": "scatter",
         "visible": false,
         "x": [
          "Unemployment rate Rank",
          "Happiness Rank"
         ],
         "y": [
          13,
          50
         ]
        },
        {
         "hoverinfo": "text",
         "hovertext": "Uganda<br>Unemployment rate Rank: 14<br>Happiness Rank: 97<br>Mismatch: 83",
         "line": {
          "color": "#D81B60",
          "width": 2
         },
         "mode": "lines+markers",
         "name": "Uganda",
         "type": "scatter",
         "visible": false,
         "x": [
          "Unemployment rate Rank",
          "Happiness Rank"
         ],
         "y": [
          14,
          97
         ]
        },
        {
         "hoverinfo": "text",
         "hovertext": "Bhutan<br>Unemployment rate Rank: 15<br>Happiness Rank: 76<br>Mismatch: 61",
         "line": {
          "color": "#D81B60",
          "width": 2
         },
         "mode": "lines+markers",
         "name": "Bhutan",
         "type": "scatter",
         "visible": false,
         "x": [
          "Unemployment rate Rank",
          "Happiness Rank"
         ],
         "y": [
          15,
          76
         ]
        },
        {
         "hoverinfo": "text",
         "hovertext": "Senegal<br>Unemployment rate Rank: 16<br>Happiness Rank: 83<br>Mismatch: 67",
         "line": {
          "color": "#D81B60",
          "width": 2
         },
         "mode": "lines+markers",
         "name": "Senegal",
         "type": "scatter",
         "visible": false,
         "x": [
          "Unemployment rate Rank",
          "Happiness Rank"
         ],
         "y": [
          16,
          83
         ]
        },
        {
         "hoverinfo": "text",
         "hovertext": "Singapore<br>Unemployment rate Rank: 17<br>Happiness Rank: 32<br>Mismatch: 15",
         "line": {
          "color": "#1E88E5",
          "width": 2
         },
         "mode": "lines+markers",
         "name": "Singapore",
         "type": "scatter",
         "visible": false,
         "x": [
          "Unemployment rate Rank",
          "Happiness Rank"
         ],
         "y": [
          17,
          32
         ]
        },
        {
         "hoverinfo": "text",
         "hovertext": "Germany<br>Unemployment rate Rank: 18<br>Happiness Rank: 17<br>Mismatch: 1",
         "line": {
          "color": "#1E88E5",
          "width": 2
         },
         "mode": "lines+markers",
         "name": "Germany",
         "type": "scatter",
         "visible": false,
         "x": [
          "Unemployment rate Rank",
          "Happiness Rank"
         ],
         "y": [
          18,
          17
         ]
        },
        {
         "hoverinfo": "text",
         "hovertext": "Malaysia<br>Unemployment rate Rank: 19<br>Happiness Rank: 66<br>Mismatch: 47",
         "line": {
          "color": "#D81B60",
          "width": 2
         },
         "mode": "lines+markers",
         "name": "Malaysia",
         "type": "scatter",
         "visible": false,
         "x": [
          "Unemployment rate Rank",
          "Happiness Rank"
         ],
         "y": [
          19,
          66
         ]
        },
        {
         "hoverinfo": "text",
         "hovertext": "Poland<br>Unemployment rate Rank: 20<br>Happiness Rank: 35<br>Mismatch: 15",
         "line": {
          "color": "#1E88E5",
          "width": 2
         },
         "mode": "lines+markers",
         "name": "Poland",
         "type": "scatter",
         "visible": false,
         "x": [
          "Unemployment rate Rank",
          "Happiness Rank"
         ],
         "y": [
          20,
          35
         ]
        },
        {
         "hoverinfo": "text",
         "hovertext": "Mali<br>Unemployment rate Rank: 21<br>Happiness Rank: 93<br>Mismatch: 72",
         "line": {
          "color": "#D81B60",
          "width": 2
         },
         "mode": "lines+markers",
         "name": "Mali",
         "type": "scatter",
         "visible": false,
         "x": [
          "Unemployment rate Rank",
          "Happiness Rank"
         ],
         "y": [
          21,
          93
         ]
        },
        {
         "hoverinfo": "text",
         "hovertext": "Netherlands<br>Unemployment rate Rank: 22<br>Happiness Rank: 5<br>Mismatch: 17",
         "line": {
          "color": "#1E88E5",
          "width": 2
         },
         "mode": "lines+markers",
         "name": "Netherlands",
         "type": "scatter",
         "visible": false,
         "x": [
          "Unemployment rate Rank",
          "Happiness Rank"
         ],
         "y": [
          22,
          5
         ]
        },
        {
         "hoverinfo": "text",
         "hovertext": "Peru<br>Unemployment rate Rank: 23<br>Happiness Rank: 56<br>Mismatch: 33",
         "line": {
          "color": "#D81B60",
          "width": 2
         },
         "mode": "lines+markers",
         "name": "Peru",
         "type": "scatter",
         "visible": false,
         "x": [
          "Unemployment rate Rank",
          "Happiness Rank"
         ],
         "y": [
          23,
          56
         ]
        },
        {
         "hoverinfo": "text",
         "hovertext": "Hungary<br>Unemployment rate Rank: 24<br>Happiness Rank: 54<br>Mismatch: 30",
         "line": {
          "color": "#1E88E5",
          "width": 2
         },
         "mode": "lines+markers",
         "name": "Hungary",
         "type": "scatter",
         "visible": false,
         "x": [
          "Unemployment rate Rank",
          "Happiness Rank"
         ],
         "y": [
          24,
          54
         ]
        },
        {
         "hoverinfo": "text",
         "hovertext": "Mexico<br>Unemployment rate Rank: 25<br>Happiness Rank: 22<br>Mismatch: 3",
         "line": {
          "color": "#1E88E5",
          "width": 2
         },
         "mode": "lines+markers",
         "name": "Mexico",
         "type": "scatter",
         "visible": false,
         "x": [
          "Unemployment rate Rank",
          "Happiness Rank"
         ],
         "y": [
          25,
          22
         ]
        },
        {
         "hoverinfo": "text",
         "hovertext": "Iceland<br>Unemployment rate Rank: 26<br>Happiness Rank: 4<br>Mismatch: 22",
         "line": {
          "color": "#1E88E5",
          "width": 2
         },
         "mode": "lines+markers",
         "name": "Iceland",
         "type": "scatter",
         "visible": false,
         "x": [
          "Unemployment rate Rank",
          "Happiness Rank"
         ],
         "y": [
          26,
          4
         ]
        },
        {
         "hoverinfo": "text",
         "hovertext": "Indonesia<br>Unemployment rate Rank: 27<br>Happiness Rank: 74<br>Mismatch: 47",
         "line": {
          "color": "#D81B60",
          "width": 2
         },
         "mode": "lines+markers",
         "name": "Indonesia",
         "type": "scatter",
         "visible": false,
         "x": [
          "Unemployment rate Rank",
          "Happiness Rank"
         ],
         "y": [
          27,
          74
         ]
        },
        {
         "hoverinfo": "text",
         "hovertext": "Malta<br>Unemployment rate Rank: 28<br>Happiness Rank: 21<br>Mismatch: 7",
         "line": {
          "color": "#1E88E5",
          "width": 2
         },
         "mode": "lines+markers",
         "name": "Malta",
         "type": "scatter",
         "visible": false,
         "x": [
          "Unemployment rate Rank",
          "Happiness Rank"
         ],
         "y": [
          28,
          21
         ]
        },
        {
         "hoverinfo": "text",
         "hovertext": "United Kingdom<br>Unemployment rate Rank: 29<br>Happiness Rank: 15<br>Mismatch: 14",
         "line": {
          "color": "#1E88E5",
          "width": 2
         },
         "mode": "lines+markers",
         "name": "United Kingdom",
         "type": "scatter",
         "visible": false,
         "x": [
          "Unemployment rate Rank",
          "Happiness Rank"
         ],
         "y": [
          29,
          15
         ]
        },
        {
         "hoverinfo": "text",
         "hovertext": "United States<br>Unemployment rate Rank: 30<br>Happiness Rank: 19<br>Mismatch: 11",
         "line": {
          "color": "#1E88E5",
          "width": 2
         },
         "mode": "lines+markers",
         "name": "United States",
         "type": "scatter",
         "visible": false,
         "x": [
          "Unemployment rate Rank",
          "Happiness Rank"
         ],
         "y": [
          30,
          19
         ]
        },
        {
         "hoverinfo": "text",
         "hovertext": "Bolivia<br>Unemployment rate Rank: 31<br>Happiness Rank: 53<br>Mismatch: 22",
         "line": {
          "color": "#1E88E5",
          "width": 2
         },
         "mode": "lines+markers",
         "name": "Bolivia",
         "type": "scatter",
         "visible": false,
         "x": [
          "Unemployment rate Rank",
          "Happiness Rank"
         ],
         "y": [
          31,
          53
         ]
        },
        {
         "hoverinfo": "text",
         "hovertext": "Norway<br>Unemployment rate Rank: 32<br>Happiness Rank: 3<br>Mismatch: 29",
         "line": {
          "color": "#1E88E5",
          "width": 2
         },
         "mode": "lines+markers",
         "name": "Norway",
         "type": "scatter",
         "visible": false,
         "x": [
          "Unemployment rate Rank",
          "Happiness Rank"
         ],
         "y": [
          32,
          3
         ]
        },
        {
         "hoverinfo": "text",
         "hovertext": "Israel<br>Unemployment rate Rank: 33<br>Happiness Rank: 13<br>Mismatch: 20",
         "line": {
          "color": "#1E88E5",
          "width": 2
         },
         "mode": "lines+markers",
         "name": "Israel",
         "type": "scatter",
         "visible": false,
         "x": [
          "Unemployment rate Rank",
          "Happiness Rank"
         ],
         "y": [
          33,
          13
         ]
        },
        {
         "hoverinfo": "text",
         "hovertext": "Ecuador<br>Unemployment rate Rank: 34<br>Happiness Rank: 44<br>Mismatch: 10",
         "line": {
          "color": "#1E88E5",
          "width": 2
         },
         "mode": "lines+markers",
         "name": "Ecuador",
         "type": "scatter",
         "visible": false,
         "x": [
          "Unemployment rate Rank",
          "Happiness Rank"
         ],
         "y": [
          34,
          44
         ]
        },
        {
         "hoverinfo": "text",
         "hovertext": "Romania<br>Unemployment rate Rank: 35<br>Happiness Rank: 42<br>Mismatch: 7",
         "line": {
          "color": "#1E88E5",
          "width": 2
         },
         "mode": "lines+markers",
         "name": "Romania",
         "type": "scatter",
         "visible": false,
         "x": [
          "Unemployment rate Rank",
          "Happiness Rank"
         ],
         "y": [
          35,
          42
         ]
        },
        {
         "hoverinfo": "text",
         "hovertext": "New Zealand<br>Unemployment rate Rank: 36<br>Happiness Rank: 8<br>Mismatch: 28",
         "line": {
          "color": "#1E88E5",
          "width": 2
         },
         "mode": "lines+markers",
         "name": "New Zealand",
         "type": "scatter",
         "visible": false,
         "x": [
          "Unemployment rate Rank",
          "Happiness Rank"
         ],
         "y": [
          36,
          8
         ]
        },
        {
         "hoverinfo": "text",
         "hovertext": "Belarus<br>Unemployment rate Rank: 37<br>Happiness Rank: 67<br>Mismatch: 30",
         "line": {
          "color": "#1E88E5",
          "width": 2
         },
         "mode": "lines+markers",
         "name": "Belarus",
         "type": "scatter",
         "visible": false,
         "x": [
          "Unemployment rate Rank",
          "Happiness Rank"
         ],
         "y": [
          37,
          67
         ]
        },
        {
         "hoverinfo": "text",
         "hovertext": "El Salvador<br>Unemployment rate Rank: 38<br>Happiness Rank: 33<br>Mismatch: 5",
         "line": {
          "color": "#1E88E5",
          "width": 2
         },
         "mode": "lines+markers",
         "name": "El Salvador",
         "type": "scatter",
         "visible": false,
         "x": [
          "Unemployment rate Rank",
          "Happiness Rank"
         ],
         "y": [
          38,
          33
         ]
        },
        {
         "hoverinfo": "text",
         "hovertext": "Bulgaria<br>Unemployment rate Rank: 39<br>Happiness Rank: 77<br>Mismatch: 38",
         "line": {
          "color": "#D81B60",
          "width": 2
         },
         "mode": "lines+markers",
         "name": "Bulgaria",
         "type": "scatter",
         "visible": false,
         "x": [
          "Unemployment rate Rank",
          "Happiness Rank"
         ],
         "y": [
          39,
          77
         ]
        },
        {
         "hoverinfo": "text",
         "hovertext": "Switzerland<br>Unemployment rate Rank: 40<br>Happiness Rank: 6<br>Mismatch: 34",
         "line": {
          "color": "#D81B60",
          "width": 2
         },
         "mode": "lines+markers",
         "name": "Switzerland",
         "type": "scatter",
         "visible": false,
         "x": [
          "Unemployment rate Rank",
          "Happiness Rank"
         ],
         "y": [
          40,
          6
         ]
        },
        {
         "hoverinfo": "text",
         "hovertext": "Slovenia<br>Unemployment rate Rank: 41<br>Happiness Rank: 39<br>Mismatch: 2",
         "line": {
          "color": "#1E88E5",
          "width": 2
         },
         "mode": "lines+markers",
         "name": "Slovenia",
         "type": "scatter",
         "visible": false,
         "x": [
          "Unemployment rate Rank",
          "Happiness Rank"
         ],
         "y": [
          41,
          39
         ]
        },
        {
         "hoverinfo": "text",
         "hovertext": "Estonia<br>Unemployment rate Rank: 42<br>Happiness Rank: 47<br>Mismatch: 5",
         "line": {
          "color": "#1E88E5",
          "width": 2
         },
         "mode": "lines+markers",
         "name": "Estonia",
         "type": "scatter",
         "visible": false,
         "x": [
          "Unemployment rate Rank",
          "Happiness Rank"
         ],
         "y": [
          42,
          47
         ]
        },
        {
         "hoverinfo": "text",
         "hovertext": "Austria<br>Unemployment rate Rank: 43<br>Happiness Rank: 10<br>Mismatch: 33",
         "line": {
          "color": "#D81B60",
          "width": 2
         },
         "mode": "lines+markers",
         "name": "Austria",
         "type": "scatter",
         "visible": false,
         "x": [
          "Unemployment rate Rank",
          "Happiness Rank"
         ],
         "y": [
          43,
          10
         ]
        },
        {
         "hoverinfo": "text",
         "hovertext": "Sri Lanka<br>Unemployment rate Rank: 44<br>Happiness Rank: 94<br>Mismatch: 50",
         "line": {
          "color": "#D81B60",
          "width": 2
         },
         "mode": "lines+markers",
         "name": "Sri Lanka",
         "type": "scatter",
         "visible": false,
         "x": [
          "Unemployment rate Rank",
          "Happiness Rank"
         ],
         "y": [
          44,
          94
         ]
        },
        {
         "hoverinfo": "text",
         "hovertext": "Kazakhstan<br>Unemployment rate Rank: 45<br>Happiness Rank: 52<br>Mismatch: 7",
         "line": {
          "color": "#1E88E5",
          "width": 2
         },
         "mode": "lines+markers",
         "name": "Kazakhstan",
         "type": "scatter",
         "visible": false,
         "x": [
          "Unemployment rate Rank",
          "Happiness Rank"
         ],
         "y": [
          45,
          52
         ]
        },
        {
         "hoverinfo": "text",
         "hovertext": "Pakistan<br>Unemployment rate Rank: 46<br>Happiness Rank: 58<br>Mismatch: 12",
         "line": {
          "color": "#1E88E5",
          "width": 2
         },
         "mode": "lines+markers",
         "name": "Pakistan",
         "type": "scatter",
         "visible": false,
         "x": [
          "Unemployment rate Rank",
          "Happiness Rank"
         ],
         "y": [
          46,
          58
         ]
        },
        {
         "hoverinfo": "text",
         "hovertext": "Ireland<br>Unemployment rate Rank: 47<br>Happiness Rank: 16<br>Mismatch: 31",
         "line": {
          "color": "#D81B60",
          "width": 2
         },
         "mode": "lines+markers",
         "name": "Ireland",
         "type": "scatter",
         "visible": false,
         "x": [
          "Unemployment rate Rank",
          "Happiness Rank"
         ],
         "y": [
          47,
          16
         ]
        },
        {
         "hoverinfo": "text",
         "hovertext": "Jamaica<br>Unemployment rate Rank: 48<br>Happiness Rank: 48<br>Mismatch: 0",
         "line": {
          "color": "#1E88E5",
          "width": 2
         },
         "mode": "lines+markers",
         "name": "Jamaica",
         "type": "scatter",
         "visible": false,
         "x": [
          "Unemployment rate Rank",
          "Happiness Rank"
         ],
         "y": [
          48,
          48
         ]
        },
        {
         "hoverinfo": "text",
         "hovertext": "Azerbaijan<br>Unemployment rate Rank: 49<br>Happiness Rank: 72<br>Mismatch: 23",
         "line": {
          "color": "#1E88E5",
          "width": 2
         },
         "mode": "lines+markers",
         "name": "Azerbaijan",
         "type": "scatter",
         "visible": false,
         "x": [
          "Unemployment rate Rank",
          "Happiness Rank"
         ],
         "y": [
          49,
          72
         ]
        },
        {
         "hoverinfo": "text",
         "hovertext": "Kenya<br>Unemployment rate Rank: 50<br>Happiness Rank: 90<br>Mismatch: 40",
         "line": {
          "color": "#D81B60",
          "width": 2
         },
         "mode": "lines+markers",
         "name": "Kenya",
         "type": "scatter",
         "visible": false,
         "x": [
          "Unemployment rate Rank",
          "Happiness Rank"
         ],
         "y": [
          50,
          90
         ]
        },
        {
         "hoverinfo": "text",
         "hovertext": "Denmark<br>Unemployment rate Rank: 51<br>Happiness Rank: 2<br>Mismatch: 49",
         "line": {
          "color": "#D81B60",
          "width": 2
         },
         "mode": "lines+markers",
         "name": "Denmark",
         "type": "scatter",
         "visible": false,
         "x": [
          "Unemployment rate Rank",
          "Happiness Rank"
         ],
         "y": [
          51,
          2
         ]
        },
        {
         "hoverinfo": "text",
         "hovertext": "Guinea<br>Unemployment rate Rank: 52<br>Happiness Rank: 88<br>Mismatch: 36",
         "line": {
          "color": "#D81B60",
          "width": 2
         },
         "mode": "lines+markers",
         "name": "Guinea",
         "type": "scatter",
         "visible": false,
         "x": [
          "Unemployment rate Rank",
          "Happiness Rank"
         ],
         "y": [
          52,
          88
         ]
        },
        {
         "hoverinfo": "text",
         "hovertext": "Australia<br>Unemployment rate Rank: 53<br>Happiness Rank: 11<br>Mismatch: 42",
         "line": {
          "color": "#D81B60",
          "width": 2
         },
         "mode": "lines+markers",
         "name": "Australia",
         "type": "scatter",
         "visible": false,
         "x": [
          "Unemployment rate Rank",
          "Happiness Rank"
         ],
         "y": [
          53,
          11
         ]
        },
        {
         "hoverinfo": "text",
         "hovertext": "China<br>Unemployment rate Rank: 54<br>Happiness Rank: 75<br>Mismatch: 21",
         "line": {
          "color": "#1E88E5",
          "width": 2
         },
         "mode": "lines+markers",
         "name": "China",
         "type": "scatter",
         "visible": false,
         "x": [
          "Unemployment rate Rank",
          "Happiness Rank"
         ],
         "y": [
          54,
          75
         ]
        },
        {
         "hoverinfo": "text",
         "hovertext": "Belgium<br>Unemployment rate Rank: 55<br>Happiness Rank: 18<br>Mismatch: 37",
         "line": {
          "color": "#D81B60",
          "width": 2
         },
         "mode": "lines+markers",
         "name": "Belgium",
         "type": "scatter",
         "visible": false,
         "x": [
          "Unemployment rate Rank",
          "Happiness Rank"
         ],
         "y": [
          55,
          18
         ]
        },
        {
         "hoverinfo": "text",
         "hovertext": "Zambia<br>Unemployment rate Rank: 56<br>Happiness Rank: 98<br>Mismatch: 42",
         "line": {
          "color": "#D81B60",
          "width": 2
         },
         "mode": "lines+markers",
         "name": "Zambia",
         "type": "scatter",
         "visible": false,
         "x": [
          "Unemployment rate Rank",
          "Happiness Rank"
         ],
         "y": [
          56,
          98
         ]
        },
        {
         "hoverinfo": "text",
         "hovertext": "Luxembourg<br>Unemployment rate Rank: 57<br>Happiness Rank: 14<br>Mismatch: 43",
         "line": {
          "color": "#D81B60",
          "width": 2
         },
         "mode": "lines+markers",
         "name": "Luxembourg",
         "type": "scatter",
         "visible": false,
         "x": [
          "Unemployment rate Rank",
          "Happiness Rank"
         ],
         "y": [
          57,
          14
         ]
        },
        {
         "hoverinfo": "text",
         "hovertext": "Saudi Arabia<br>Unemployment rate Rank: 58<br>Happiness Rank: 26<br>Mismatch: 32",
         "line": {
          "color": "#D81B60",
          "width": 2
         },
         "mode": "lines+markers",
         "name": "Saudi Arabia",
         "type": "scatter",
         "visible": false,
         "x": [
          "Unemployment rate Rank",
          "Happiness Rank"
         ],
         "y": [
          58,
          26
         ]
        },
        {
         "hoverinfo": "text",
         "hovertext": "Canada<br>Unemployment rate Rank: 59<br>Happiness Rank: 9<br>Mismatch: 50",
         "line": {
          "color": "#D81B60",
          "width": 2
         },
         "mode": "lines+markers",
         "name": "Canada",
         "type": "scatter",
         "visible": false,
         "x": [
          "Unemployment rate Rank",
          "Happiness Rank"
         ],
         "y": [
          59,
          9
         ]
        },
        {
         "hoverinfo": "text",
         "hovertext": "Honduras<br>Unemployment rate Rank: 60<br>Happiness Rank: 51<br>Mismatch: 9",
         "line": {
          "color": "#1E88E5",
          "width": 2
         },
         "mode": "lines+markers",
         "name": "Honduras",
         "type": "scatter",
         "visible": false,
         "x": [
          "Unemployment rate Rank",
          "Happiness Rank"
         ],
         "y": [
          60,
          51
         ]
        },
        {
         "hoverinfo": "text",
         "hovertext": "Lithuania<br>Unemployment rate Rank: 61<br>Happiness Rank: 37<br>Mismatch: 24",
         "line": {
          "color": "#1E88E5",
          "width": 2
         },
         "mode": "lines+markers",
         "name": "Lithuania",
         "type": "scatter",
         "visible": false,
         "x": [
          "Unemployment rate Rank",
          "Happiness Rank"
         ],
         "y": [
          61,
          37
         ]
        },
        {
         "hoverinfo": "text",
         "hovertext": "Latvia<br>Unemployment rate Rank: 62<br>Happiness Rank: 46<br>Mismatch: 16",
         "line": {
          "color": "#1E88E5",
          "width": 2
         },
         "mode": "lines+markers",
         "name": "Latvia",
         "type": "scatter",
         "visible": false,
         "x": [
          "Unemployment rate Rank",
          "Happiness Rank"
         ],
         "y": [
          62,
          46
         ]
        },
        {
         "hoverinfo": "text",
         "hovertext": "Mauritius<br>Unemployment rate Rank: 63<br>Happiness Rank: 49<br>Mismatch: 14",
         "line": {
          "color": "#1E88E5",
          "width": 2
         },
         "mode": "lines+markers",
         "name": "Mauritius",
         "type": "scatter",
         "visible": false,
         "x": [
          "Unemployment rate Rank",
          "Happiness Rank"
         ],
         "y": [
          63,
          49
         ]
        },
        {
         "hoverinfo": "text",
         "hovertext": "Dominican Republic<br>Unemployment rate Rank: 64<br>Happiness Rank: 64<br>Mismatch: 0",
         "line": {
          "color": "#1E88E5",
          "width": 2
         },
         "mode": "lines+markers",
         "name": "Dominican Republic",
         "type": "scatter",
         "visible": false,
         "x": [
          "Unemployment rate Rank",
          "Happiness Rank"
         ],
         "y": [
          64,
          64
         ]
        },
        {
         "hoverinfo": "text",
         "hovertext": "Panama<br>Unemployment rate Rank: 65<br>Happiness Rank: 29<br>Mismatch: 36",
         "line": {
          "color": "#D81B60",
          "width": 2
         },
         "mode": "lines+markers",
         "name": "Panama",
         "type": "scatter",
         "visible": false,
         "x": [
          "Unemployment rate Rank",
          "Happiness Rank"
         ],
         "y": [
          65,
          29
         ]
        },
        {
         "hoverinfo": "text",
         "hovertext": "Portugal<br>Unemployment rate Rank: 66<br>Happiness Rank: 57<br>Mismatch: 9",
         "line": {
          "color": "#1E88E5",
          "width": 2
         },
         "mode": "lines+markers",
         "name": "Portugal",
         "type": "scatter",
         "visible": false,
         "x": [
          "Unemployment rate Rank",
          "Happiness Rank"
         ],
         "y": [
          66,
          57
         ]
        },
        {
         "hoverinfo": "text",
         "hovertext": "India<br>Unemployment rate Rank: 67<br>Happiness Rank: 100<br>Mismatch: 33",
         "line": {
          "color": "#D81B60",
          "width": 2
         },
         "mode": "lines+markers",
         "name": "India",
         "type": "scatter",
         "visible": false,
         "x": [
          "Unemployment rate Rank",
          "Happiness Rank"
         ],
         "y": [
          67,
          100
         ]
        },
        {
         "hoverinfo": "text",
         "hovertext": "Paraguay<br>Unemployment rate Rank: 68<br>Happiness Rank: 55<br>Mismatch: 13",
         "line": {
          "color": "#1E88E5",
          "width": 2
         },
         "mode": "lines+markers",
         "name": "Paraguay",
         "type": "scatter",
         "visible": false,
         "x": [
          "Unemployment rate Rank",
          "Happiness Rank"
         ],
         "y": [
          68,
          55
         ]
        },
        {
         "hoverinfo": "text",
         "hovertext": "Croatia<br>Unemployment rate Rank: 69<br>Happiness Rank: 63<br>Mismatch: 6",
         "line": {
          "color": "#1E88E5",
          "width": 2
         },
         "mode": "lines+markers",
         "name": "Croatia",
         "type": "scatter",
         "visible": false,
         "x": [
          "Unemployment rate Rank",
          "Happiness Rank"
         ],
         "y": [
          69,
          63
         ]
        },
        {
         "hoverinfo": "text",
         "hovertext": "Finland<br>Unemployment rate Rank: 70<br>Happiness Rank: 1<br>Mismatch: 69",
         "line": {
          "color": "#D81B60",
          "width": 2
         },
         "mode": "lines+markers",
         "name": "Finland",
         "type": "scatter",
         "visible": false,
         "x": [
          "Unemployment rate Rank",
          "Happiness Rank"
         ],
         "y": [
          70,
          1
         ]
        },
        {
         "hoverinfo": "text",
         "hovertext": "Sweden<br>Unemployment rate Rank: 71<br>Happiness Rank: 7<br>Mismatch: 64",
         "line": {
          "color": "#D81B60",
          "width": 2
         },
         "mode": "lines+markers",
         "name": "Sweden",
         "type": "scatter",
         "visible": false,
         "x": [
          "Unemployment rate Rank",
          "Happiness Rank"
         ],
         "y": [
          71,
          7
         ]
        },
        {
         "hoverinfo": "text",
         "hovertext": "Cyprus<br>Unemployment rate Rank: 72<br>Happiness Rank: 43<br>Mismatch: 29",
         "line": {
          "color": "#1E88E5",
          "width": 2
         },
         "mode": "lines+markers",
         "name": "Cyprus",
         "type": "scatter",
         "visible": false,
         "x": [
          "Unemployment rate Rank",
          "Happiness Rank"
         ],
         "y": [
          72,
          43
         ]
        },
        {
         "hoverinfo": "text",
         "hovertext": "Zimbabwe<br>Unemployment rate Rank: 73<br>Happiness Rank: 102<br>Mismatch: 29",
         "line": {
          "color": "#1E88E5",
          "width": 2
         },
         "mode": "lines+markers",
         "name": "Zimbabwe",
         "type": "scatter",
         "visible": false,
         "x": [
          "Unemployment rate Rank",
          "Happiness Rank"
         ],
         "y": [
          73,
          102
         ]
        },
        {
         "hoverinfo": "text",
         "hovertext": "Chile<br>Unemployment rate Rank: 74<br>Happiness Rank: 24<br>Mismatch: 50",
         "line": {
          "color": "#D81B60",
          "width": 2
         },
         "mode": "lines+markers",
         "name": "Chile",
         "type": "scatter",
         "visible": false,
         "x": [
          "Unemployment rate Rank",
          "Happiness Rank"
         ],
         "y": [
          74,
          24
         ]
        },
        {
         "hoverinfo": "text",
         "hovertext": "Ukraine<br>Unemployment rate Rank: 75<br>Happiness Rank: 96<br>Mismatch: 21",
         "line": {
          "color": "#1E88E5",
          "width": 2
         },
         "mode": "lines+markers",
         "name": "Ukraine",
         "type": "scatter",
         "visible": false,
         "x": [
          "Unemployment rate Rank",
          "Happiness Rank"
         ],
         "y": [
          75,
          96
         ]
        },
        {
         "hoverinfo": "text",
         "hovertext": "France<br>Unemployment rate Rank: 76<br>Happiness Rank: 23<br>Mismatch: 53",
         "line": {
          "color": "#D81B60",
          "width": 2
         },
         "mode": "lines+markers",
         "name": "France",
         "type": "scatter",
         "visible": false,
         "x": [
          "Unemployment rate Rank",
          "Happiness Rank"
         ],
         "y": [
          76,
          23
         ]
        },
        {
         "hoverinfo": "text",
         "hovertext": "Uruguay<br>Unemployment rate Rank: 77<br>Happiness Rank: 31<br>Mismatch: 46",
         "line": {
          "color": "#D81B60",
          "width": 2
         },
         "mode": "lines+markers",
         "name": "Uruguay",
         "type": "scatter",
         "visible": false,
         "x": [
          "Unemployment rate Rank",
          "Happiness Rank"
         ],
         "y": [
          77,
          31
         ]
        },
        {
         "hoverinfo": "text",
         "hovertext": "Uzbekistan<br>Unemployment rate Rank: 78<br>Happiness Rank: 36<br>Mismatch: 42",
         "line": {
          "color": "#D81B60",
          "width": 2
         },
         "mode": "lines+markers",
         "name": "Uzbekistan",
         "type": "scatter",
         "visible": false,
         "x": [
          "Unemployment rate Rank",
          "Happiness Rank"
         ],
         "y": [
          78,
          36
         ]
        },
        {
         "hoverinfo": "text",
         "hovertext": "Mongolia<br>Unemployment rate Rank: 79<br>Happiness Rank: 69<br>Mismatch: 10",
         "line": {
          "color": "#1E88E5",
          "width": 2
         },
         "mode": "lines+markers",
         "name": "Mongolia",
         "type": "scatter",
         "visible": false,
         "x": [
          "Unemployment rate Rank",
          "Happiness Rank"
         ],
         "y": [
          79,
          69
         ]
        },
        {
         "hoverinfo": "text",
         "hovertext": "Armenia<br>Unemployment rate Rank: 80<br>Happiness Rank: 87<br>Mismatch: 7",
         "line": {
          "color": "#1E88E5",
          "width": 2
         },
         "mode": "lines+markers",
         "name": "Armenia",
         "type": "scatter",
         "visible": false,
         "x": [
          "Unemployment rate Rank",
          "Happiness Rank"
         ],
         "y": [
          80,
          87
         ]
        },
        {
         "hoverinfo": "text",
         "hovertext": "Argentina<br>Unemployment rate Rank: 81<br>Happiness Rank: 41<br>Mismatch: 40",
         "line": {
          "color": "#D81B60",
          "width": 2
         },
         "mode": "lines+markers",
         "name": "Argentina",
         "type": "scatter",
         "visible": false,
         "x": [
          "Unemployment rate Rank",
          "Happiness Rank"
         ],
         "y": [
          81,
          41
         ]
        },
        {
         "hoverinfo": "text",
         "hovertext": "Italy<br>Unemployment rate Rank: 82<br>Happiness Rank: 34<br>Mismatch: 48",
         "line": {
          "color": "#D81B60",
          "width": 2
         },
         "mode": "lines+markers",
         "name": "Italy",
         "type": "scatter",
         "visible": false,
         "x": [
          "Unemployment rate Rank",
          "Happiness Rank"
         ],
         "y": [
          82,
          34
         ]
        },
        {
         "hoverinfo": "text",
         "hovertext": "Colombia<br>Unemployment rate Rank: 83<br>Happiness Rank: 38<br>Mismatch: 45",
         "line": {
          "color": "#D81B60",
          "width": 2
         },
         "mode": "lines+markers",
         "name": "Colombia",
         "type": "scatter",
         "visible": false,
         "x": [
          "Unemployment rate Rank",
          "Happiness Rank"
         ],
         "y": [
          83,
          38
         ]
        },
        {
         "hoverinfo": "text",
         "hovertext": "Serbia<br>Unemployment rate Rank: 84<br>Happiness Rank: 60<br>Mismatch: 24",
         "line": {
          "color": "#1E88E5",
          "width": 2
         },
         "mode": "lines+markers",
         "name": "Serbia",
         "type": "scatter",
         "visible": false,
         "x": [
          "Unemployment rate Rank",
          "Happiness Rank"
         ],
         "y": [
          84,
          60
         ]
        },
        {
         "hoverinfo": "text",
         "hovertext": "Mauritania<br>Unemployment rate Rank: 85<br>Happiness Rank: 91<br>Mismatch: 6",
         "line": {
          "color": "#1E88E5",
          "width": 2
         },
         "mode": "lines+markers",
         "name": "Mauritania",
         "type": "scatter",
         "visible": false,
         "x": [
          "Unemployment rate Rank",
          "Happiness Rank"
         ],
         "y": [
          85,
          91
         ]
        },
        {
         "hoverinfo": "text",
         "hovertext": "Nigeria<br>Unemployment rate Rank: 86<br>Happiness Rank: 71<br>Mismatch: 15",
         "line": {
          "color": "#1E88E5",
          "width": 2
         },
         "mode": "lines+markers",
         "name": "Nigeria",
         "type": "scatter",
         "visible": false,
         "x": [
          "Unemployment rate Rank",
          "Happiness Rank"
         ],
         "y": [
          86,
          71
         ]
        },
        {
         "hoverinfo": "text",
         "hovertext": "Costa Rica<br>Unemployment rate Rank: 87<br>Happiness Rank: 12<br>Mismatch: 75",
         "line": {
          "color": "#D81B60",
          "width": 2
         },
         "mode": "lines+markers",
         "name": "Costa Rica",
         "type": "scatter",
         "visible": false,
         "x": [
          "Unemployment rate Rank",
          "Happiness Rank"
         ],
         "y": [
          87,
          12
         ]
        },
        {
         "hoverinfo": "text",
         "hovertext": "Rwanda<br>Unemployment rate Rank: 88<br>Happiness Rank: 104<br>Mismatch: 16",
         "line": {
          "color": "#1E88E5",
          "width": 2
         },
         "mode": "lines+markers",
         "name": "Rwanda",
         "type": "scatter",
         "visible": false,
         "x": [
          "Unemployment rate Rank",
          "Happiness Rank"
         ],
         "y": [
          88,
          104
         ]
        },
        {
         "hoverinfo": "text",
         "hovertext": "Lebanon<br>Unemployment rate Rank: 89<br>Happiness Rank: 73<br>Mismatch: 16",
         "line": {
          "color": "#1E88E5",
          "width": 2
         },
         "mode": "lines+markers",
         "name": "Lebanon",
         "type": "scatter",
         "visible": false,
         "x": [
          "Unemployment rate Rank",
          "Happiness Rank"
         ],
         "y": [
          89,
          73
         ]
        },
        {
         "hoverinfo": "text",
         "hovertext": "Albania<br>Unemployment rate Rank: 90<br>Happiness Rank: 81<br>Mismatch: 9",
         "line": {
          "color": "#1E88E5",
          "width": 2
         },
         "mode": "lines+markers",
         "name": "Albania",
         "type": "scatter",
         "visible": false,
         "x": [
          "Unemployment rate Rank",
          "Happiness Rank"
         ],
         "y": [
          90,
          81
         ]
        },
        {
         "hoverinfo": "text",
         "hovertext": "Georgia<br>Unemployment rate Rank: 91<br>Happiness Rank: 89<br>Mismatch: 2",
         "line": {
          "color": "#1E88E5",
          "width": 2
         },
         "mode": "lines+markers",
         "name": "Georgia",
         "type": "scatter",
         "visible": false,
         "x": [
          "Unemployment rate Rank",
          "Happiness Rank"
         ],
         "y": [
          91,
          89
         ]
        },
        {
         "hoverinfo": "text",
         "hovertext": "Brazil<br>Unemployment rate Rank: 92<br>Happiness Rank: 30<br>Mismatch: 62",
         "line": {
          "color": "#D81B60",
          "width": 2
         },
         "mode": "lines+markers",
         "name": "Brazil",
         "type": "scatter",
         "visible": false,
         "x": [
          "Unemployment rate Rank",
          "Happiness Rank"
         ],
         "y": [
          92,
          30
         ]
        },
        {
         "hoverinfo": "text",
         "hovertext": "Spain<br>Unemployment rate Rank: 93<br>Happiness Rank: 28<br>Mismatch: 65",
         "line": {
          "color": "#D81B60",
          "width": 2
         },
         "mode": "lines+markers",
         "name": "Spain",
         "type": "scatter",
         "visible": false,
         "x": [
          "Unemployment rate Rank",
          "Happiness Rank"
         ],
         "y": [
          93,
          28
         ]
        },
        {
         "hoverinfo": "text",
         "hovertext": "Montenegro<br>Unemployment rate Rank: 94<br>Happiness Rank: 62<br>Mismatch: 32",
         "line": {
          "color": "#D81B60",
          "width": 2
         },
         "mode": "lines+markers",
         "name": "Montenegro",
         "type": "scatter",
         "visible": false,
         "x": [
          "Unemployment rate Rank",
          "Happiness Rank"
         ],
         "y": [
          94,
          62
         ]
        },
        {
         "hoverinfo": "text",
         "hovertext": "Bosnia and Herzegovina<br>Unemployment rate Rank: 95<br>Happiness Rank: 65<br>Mismatch: 30",
         "line": {
          "color": "#1E88E5",
          "width": 2
         },
         "mode": "lines+markers",
         "name": "Bosnia and Herzegovina",
         "type": "scatter",
         "visible": false,
         "x": [
          "Unemployment rate Rank",
          "Happiness Rank"
         ],
         "y": [
          95,
          65
         ]
        },
        {
         "hoverinfo": "text",
         "hovertext": "Jordan<br>Unemployment rate Rank: 96<br>Happiness Rank: 78<br>Mismatch: 18",
         "line": {
          "color": "#1E88E5",
          "width": 2
         },
         "mode": "lines+markers",
         "name": "Jordan",
         "type": "scatter",
         "visible": false,
         "x": [
          "Unemployment rate Rank",
          "Happiness Rank"
         ],
         "y": [
          96,
          78
         ]
        },
        {
         "hoverinfo": "text",
         "hovertext": "Lesotho<br>Unemployment rate Rank: 97<br>Happiness Rank: 101<br>Mismatch: 4",
         "line": {
          "color": "#1E88E5",
          "width": 2
         },
         "mode": "lines+markers",
         "name": "Lesotho",
         "type": "scatter",
         "visible": false,
         "x": [
          "Unemployment rate Rank",
          "Happiness Rank"
         ],
         "y": [
          97,
          101
         ]
        },
        {
         "hoverinfo": "text",
         "hovertext": "Greece<br>Unemployment rate Rank: 98<br>Happiness Rank: 68<br>Mismatch: 30",
         "line": {
          "color": "#1E88E5",
          "width": 2
         },
         "mode": "lines+markers",
         "name": "Greece",
         "type": "scatter",
         "visible": false,
         "x": [
          "Unemployment rate Rank",
          "Happiness Rank"
         ],
         "y": [
          98,
          68
         ]
        },
        {
         "hoverinfo": "text",
         "hovertext": "Tunisia<br>Unemployment rate Rank: 99<br>Happiness Rank: 92<br>Mismatch: 7",
         "line": {
          "color": "#1E88E5",
          "width": 2
         },
         "mode": "lines+markers",
         "name": "Tunisia",
         "type": "scatter",
         "visible": false,
         "x": [
          "Unemployment rate Rank",
          "Happiness Rank"
         ],
         "y": [
          99,
          92
         ]
        },
        {
         "hoverinfo": "text",
         "hovertext": "North Macedonia<br>Unemployment rate Rank: 100<br>Happiness Rank: 70<br>Mismatch: 30",
         "line": {
          "color": "#1E88E5",
          "width": 2
         },
         "mode": "lines+markers",
         "name": "North Macedonia",
         "type": "scatter",
         "visible": false,
         "x": [
          "Unemployment rate Rank",
          "Happiness Rank"
         ],
         "y": [
          100,
          70
         ]
        },
        {
         "hoverinfo": "text",
         "hovertext": "Somalia<br>Unemployment rate Rank: 101<br>Happiness Rank: 84<br>Mismatch: 17",
         "line": {
          "color": "#1E88E5",
          "width": 2
         },
         "mode": "lines+markers",
         "name": "Somalia",
         "type": "scatter",
         "visible": false,
         "x": [
          "Unemployment rate Rank",
          "Happiness Rank"
         ],
         "y": [
          101,
          84
         ]
        },
        {
         "hoverinfo": "text",
         "hovertext": "Botswana<br>Unemployment rate Rank: 102<br>Happiness Rank: 103<br>Mismatch: 1",
         "line": {
          "color": "#1E88E5",
          "width": 2
         },
         "mode": "lines+markers",
         "name": "Botswana",
         "type": "scatter",
         "visible": false,
         "x": [
          "Unemployment rate Rank",
          "Happiness Rank"
         ],
         "y": [
          102,
          103
         ]
        },
        {
         "hoverinfo": "text",
         "hovertext": "Kosovo<br>Unemployment rate Rank: 103<br>Happiness Rank: 40<br>Mismatch: 63",
         "line": {
          "color": "#D81B60",
          "width": 2
         },
         "mode": "lines+markers",
         "name": "Kosovo",
         "type": "scatter",
         "visible": false,
         "x": [
          "Unemployment rate Rank",
          "Happiness Rank"
         ],
         "y": [
          103,
          40
         ]
        },
        {
         "hoverinfo": "text",
         "hovertext": "South Africa<br>Unemployment rate Rank: 104<br>Happiness Rank: 80<br>Mismatch: 24",
         "line": {
          "color": "#1E88E5",
          "width": 2
         },
         "mode": "lines+markers",
         "name": "South Africa",
         "type": "scatter",
         "visible": false,
         "x": [
          "Unemployment rate Rank",
          "Happiness Rank"
         ],
         "y": [
          104,
          80
         ]
        },
        {
         "hoverinfo": "text",
         "hovertext": "Namibia<br>Education expenditure Rank: 1<br>Happiness Rank: 89<br>Mismatch: 88",
         "line": {
          "color": "#D81B60",
          "width": 2
         },
         "mode": "lines+markers",
         "name": "Namibia",
         "type": "scatter",
         "visible": false,
         "x": [
          "Education expenditure Rank",
          "Happiness Rank"
         ],
         "y": [
          1,
          89
         ]
        },
        {
         "hoverinfo": "text",
         "hovertext": "Botswana<br>Education expenditure Rank: 2<br>Happiness Rank: 115<br>Mismatch: 113",
         "line": {
          "color": "#D81B60",
          "width": 2
         },
         "mode": "lines+markers",
         "name": "Botswana",
         "type": "scatter",
         "visible": false,
         "x": [
          "Education expenditure Rank",
          "Happiness Rank"
         ],
         "y": [
          2,
          115
         ]
        },
        {
         "hoverinfo": "text",
         "hovertext": "Bolivia<br>Education expenditure Rank: 3<br>Happiness Rank: 52<br>Mismatch: 49",
         "line": {
          "color": "#D81B60",
          "width": 2
         },
         "mode": "lines+markers",
         "name": "Bolivia",
         "type": "scatter",
         "visible": false,
         "x": [
          "Education expenditure Rank",
          "Happiness Rank"
         ],
         "y": [
          3,
          52
         ]
        },
        {
         "hoverinfo": "text",
         "hovertext": "Norway<br>Education expenditure Rank: 4<br>Happiness Rank: 3<br>Mismatch: 1",
         "line": {
          "color": "#1E88E5",
          "width": 2
         },
         "mode": "lines+markers",
         "name": "Norway",
         "type": "scatter",
         "visible": false,
         "x": [
          "Education expenditure Rank",
          "Happiness Rank"
         ],
         "y": [
          4,
          3
         ]
        },
        {
         "hoverinfo": "text",
         "hovertext": "Sweden<br>Education expenditure Rank: 5<br>Happiness Rank: 7<br>Mismatch: 2",
         "line": {
          "color": "#1E88E5",
          "width": 2
         },
         "mode": "lines+markers",
         "name": "Sweden",
         "type": "scatter",
         "visible": false,
         "x": [
          "Education expenditure Rank",
          "Happiness Rank"
         ],
         "y": [
          5,
          7
         ]
        },
        {
         "hoverinfo": "text",
         "hovertext": "Iceland<br>Education expenditure Rank: 6<br>Happiness Rank: 4<br>Mismatch: 2",
         "line": {
          "color": "#1E88E5",
          "width": 2
         },
         "mode": "lines+markers",
         "name": "Iceland",
         "type": "scatter",
         "visible": false,
         "x": [
          "Education expenditure Rank",
          "Happiness Rank"
         ],
         "y": [
          6,
          4
         ]
        },
        {
         "hoverinfo": "text",
         "hovertext": "Sierra Leone<br>Education expenditure Rank: 7<br>Happiness Rank: 101<br>Mismatch: 94",
         "line": {
          "color": "#D81B60",
          "width": 2
         },
         "mode": "lines+markers",
         "name": "Sierra Leone",
         "type": "scatter",
         "visible": false,
         "x": [
          "Education expenditure Rank",
          "Happiness Rank"
         ],
         "y": [
          7,
          101
         ]
        },
        {
         "hoverinfo": "text",
         "hovertext": "Denmark<br>Education expenditure Rank: 8<br>Happiness Rank: 2<br>Mismatch: 6",
         "line": {
          "color": "#1E88E5",
          "width": 2
         },
         "mode": "lines+markers",
         "name": "Denmark",
         "type": "scatter",
         "visible": false,
         "x": [
          "Education expenditure Rank",
          "Happiness Rank"
         ],
         "y": [
          8,
          2
         ]
        },
        {
         "hoverinfo": "text",
         "hovertext": "Lesotho<br>Education expenditure Rank: 9<br>Happiness Rank: 112<br>Mismatch: 103",
         "line": {
          "color": "#D81B60",
          "width": 2
         },
         "mode": "lines+markers",
         "name": "Lesotho",
         "type": "scatter",
         "visible": false,
         "x": [
          "Education expenditure Rank",
          "Happiness Rank"
         ],
         "y": [
          9,
          112
         ]
        },
        {
         "hoverinfo": "text",
         "hovertext": "Costa Rica<br>Education expenditure Rank: 10<br>Happiness Rank: 12<br>Mismatch: 2",
         "line": {
          "color": "#1E88E5",
          "width": 2
         },
         "mode": "lines+markers",
         "name": "Costa Rica",
         "type": "scatter",
         "visible": false,
         "x": [
          "Education expenditure Rank",
          "Happiness Rank"
         ],
         "y": [
          10,
          12
         ]
        },
        {
         "hoverinfo": "text",
         "hovertext": "Kuwait<br>Education expenditure Rank: 11<br>Happiness Rank: 43<br>Mismatch: 32",
         "line": {
          "color": "#D81B60",
          "width": 2
         },
         "mode": "lines+markers",
         "name": "Kuwait",
         "type": "scatter",
         "visible": false,
         "x": [
          "Education expenditure Rank",
          "Happiness Rank"
         ],
         "y": [
          11,
          43
         ]
        },
        {
         "hoverinfo": "text",
         "hovertext": "Finland<br>Education expenditure Rank: 12<br>Happiness Rank: 1<br>Mismatch: 11",
         "line": {
          "color": "#1E88E5",
          "width": 2
         },
         "mode": "lines+markers",
         "name": "Finland",
         "type": "scatter",
         "visible": false,
         "x": [
          "Education expenditure Rank",
          "Happiness Rank"
         ],
         "y": [
          12,
          1
         ]
        },
        {
         "hoverinfo": "text",
         "hovertext": "Belgium<br>Education expenditure Rank: 13<br>Happiness Rank: 18<br>Mismatch: 5",
         "line": {
          "color": "#1E88E5",
          "width": 2
         },
         "mode": "lines+markers",
         "name": "Belgium",
         "type": "scatter",
         "visible": false,
         "x": [
          "Education expenditure Rank",
          "Happiness Rank"
         ],
         "y": [
          13,
          18
         ]
        },
        {
         "hoverinfo": "text",
         "hovertext": "Uzbekistan<br>Education expenditure Rank: 14<br>Happiness Rank: 35<br>Mismatch: 21",
         "line": {
          "color": "#1E88E5",
          "width": 2
         },
         "mode": "lines+markers",
         "name": "Uzbekistan",
         "type": "scatter",
         "visible": false,
         "x": [
          "Education expenditure Rank",
          "Happiness Rank"
         ],
         "y": [
          14,
          35
         ]
        },
        {
         "hoverinfo": "text",
         "hovertext": "Mozambique<br>Education expenditure Rank: 15<br>Happiness Rank: 97<br>Mismatch: 82",
         "line": {
          "color": "#D81B60",
          "width": 2
         },
         "mode": "lines+markers",
         "name": "Mozambique",
         "type": "scatter",
         "visible": false,
         "x": [
          "Education expenditure Rank",
          "Happiness Rank"
         ],
         "y": [
          15,
          97
         ]
        },
        {
         "hoverinfo": "text",
         "hovertext": "Moldova<br>Education expenditure Rank: 16<br>Happiness Rank: 60<br>Mismatch: 44",
         "line": {
          "color": "#D81B60",
          "width": 2
         },
         "mode": "lines+markers",
         "name": "Moldova",
         "type": "scatter",
         "visible": false,
         "x": [
          "Education expenditure Rank",
          "Happiness Rank"
         ],
         "y": [
          16,
          60
         ]
        },
        {
         "hoverinfo": "text",
         "hovertext": "Tunisia<br>Education expenditure Rank: 17<br>Happiness Rank: 98<br>Mismatch: 81",
         "line": {
          "color": "#D81B60",
          "width": 2
         },
         "mode": "lines+markers",
         "name": "Tunisia",
         "type": "scatter",
         "visible": false,
         "x": [
          "Education expenditure Rank",
          "Happiness Rank"
         ],
         "y": [
          17,
          98
         ]
        },
        {
         "hoverinfo": "text",
         "hovertext": "Israel<br>Education expenditure Rank: 18<br>Happiness Rank: 13<br>Mismatch: 5",
         "line": {
          "color": "#1E88E5",
          "width": 2
         },
         "mode": "lines+markers",
         "name": "Israel",
         "type": "scatter",
         "visible": false,
         "x": [
          "Education expenditure Rank",
          "Happiness Rank"
         ],
         "y": [
          18,
          13
         ]
        },
        {
         "hoverinfo": "text",
         "hovertext": "Brazil<br>Education expenditure Rank: 19<br>Happiness Rank: 28<br>Mismatch: 9",
         "line": {
          "color": "#1E88E5",
          "width": 2
         },
         "mode": "lines+markers",
         "name": "Brazil",
         "type": "scatter",
         "visible": false,
         "x": [
          "Education expenditure Rank",
          "Happiness Rank"
         ],
         "y": [
          19,
          28
         ]
        },
        {
         "hoverinfo": "text",
         "hovertext": "Honduras<br>Education expenditure Rank: 20<br>Happiness Rank: 50<br>Mismatch: 30",
         "line": {
          "color": "#1E88E5",
          "width": 2
         },
         "mode": "lines+markers",
         "name": "Honduras",
         "type": "scatter",
         "visible": false,
         "x": [
          "Education expenditure Rank",
          "Happiness Rank"
         ],
         "y": [
          20,
          50
         ]
        },
        {
         "hoverinfo": "text",
         "hovertext": "South Africa<br>Education expenditure Rank: 21<br>Happiness Rank: 85<br>Mismatch: 64",
         "line": {
          "color": "#D81B60",
          "width": 2
         },
         "mode": "lines+markers",
         "name": "South Africa",
         "type": "scatter",
         "visible": false,
         "x": [
          "Education expenditure Rank",
          "Happiness Rank"
         ],
         "y": [
          21,
          85
         ]
        },
        {
         "hoverinfo": "text",
         "hovertext": "Chile<br>Education expenditure Rank: 22<br>Happiness Rank: 23<br>Mismatch: 1",
         "line": {
          "color": "#1E88E5",
          "width": 2
         },
         "mode": "lines+markers",
         "name": "Chile",
         "type": "scatter",
         "visible": false,
         "x": [
          "Education expenditure Rank",
          "Happiness Rank"
         ],
         "y": [
          22,
          23
         ]
        },
        {
         "hoverinfo": "text",
         "hovertext": "Algeria<br>Education expenditure Rank: 23<br>Happiness Rank: 71<br>Mismatch: 48",
         "line": {
          "color": "#D81B60",
          "width": 2
         },
         "mode": "lines+markers",
         "name": "Algeria",
         "type": "scatter",
         "visible": false,
         "x": [
          "Education expenditure Rank",
          "Happiness Rank"
         ],
         "y": [
          23,
          71
         ]
        },
        {
         "hoverinfo": "text",
         "hovertext": "Australia<br>Education expenditure Rank: 24<br>Happiness Rank: 11<br>Mismatch: 13",
         "line": {
          "color": "#1E88E5",
          "width": 2
         },
         "mode": "lines+markers",
         "name": "Australia",
         "type": "scatter",
         "visible": false,
         "x": [
          "Education expenditure Rank",
          "Happiness Rank"
         ],
         "y": [
          24,
          11
         ]
        },
        {
         "hoverinfo": "text",
         "hovertext": "Tajikistan<br>Education expenditure Rank: 25<br>Happiness Rank: 61<br>Mismatch: 36",
         "line": {
          "color": "#D81B60",
          "width": 2
         },
         "mode": "lines+markers",
         "name": "Tajikistan",
         "type": "scatter",
         "visible": false,
         "x": [
          "Education expenditure Rank",
          "Happiness Rank"
         ],
         "y": [
          25,
          61
         ]
        },
        {
         "hoverinfo": "text",
         "hovertext": "Ukraine<br>Education expenditure Rank: 26<br>Happiness Rank: 104<br>Mismatch: 78",
         "line": {
          "color": "#D81B60",
          "width": 2
         },
         "mode": "lines+markers",
         "name": "Ukraine",
         "type": "scatter",
         "visible": false,
         "x": [
          "Education expenditure Rank",
          "Happiness Rank"
         ],
         "y": [
          26,
          104
         ]
        },
        {
         "hoverinfo": "text",
         "hovertext": "Burkina Faso<br>Education expenditure Rank: 27<br>Happiness Rank: 91<br>Mismatch: 64",
         "line": {
          "color": "#D81B60",
          "width": 2
         },
         "mode": "lines+markers",
         "name": "Burkina Faso",
         "type": "scatter",
         "visible": false,
         "x": [
          "Education expenditure Rank",
          "Happiness Rank"
         ],
         "y": [
          27,
          91
         ]
        },
        {
         "hoverinfo": "text",
         "hovertext": "Kenya<br>Education expenditure Rank: 28<br>Happiness Rank: 95<br>Mismatch: 67",
         "line": {
          "color": "#D81B60",
          "width": 2
         },
         "mode": "lines+markers",
         "name": "Kenya",
         "type": "scatter",
         "visible": false,
         "x": [
          "Education expenditure Rank",
          "Happiness Rank"
         ],
         "y": [
          28,
          95
         ]
        },
        {
         "hoverinfo": "text",
         "hovertext": "France<br>Education expenditure Rank: 29<br>Happiness Rank: 22<br>Mismatch: 7",
         "line": {
          "color": "#1E88E5",
          "width": 2
         },
         "mode": "lines+markers",
         "name": "France",
         "type": "scatter",
         "visible": false,
         "x": [
          "Education expenditure Rank",
          "Happiness Rank"
         ],
         "y": [
          29,
          22
         ]
        },
        {
         "hoverinfo": "text",
         "hovertext": "Burundi<br>Education expenditure Rank: 30<br>Happiness Rank: 113<br>Mismatch: 83",
         "line": {
          "color": "#D81B60",
          "width": 2
         },
         "mode": "lines+markers",
         "name": "Burundi",
         "type": "scatter",
         "visible": false,
         "x": [
          "Education expenditure Rank",
          "Happiness Rank"
         ],
         "y": [
          30,
          113
         ]
        },
        {
         "hoverinfo": "text",
         "hovertext": "United Kingdom<br>Education expenditure Rank: 31<br>Happiness Rank: 15<br>Mismatch: 16",
         "line": {
          "color": "#1E88E5",
          "width": 2
         },
         "mode": "lines+markers",
         "name": "United Kingdom",
         "type": "scatter",
         "visible": false,
         "x": [
          "Education expenditure Rank",
          "Happiness Rank"
         ],
         "y": [
          31,
          15
         ]
        },
        {
         "hoverinfo": "text",
         "hovertext": "Estonia<br>Education expenditure Rank: 32<br>Happiness Rank: 46<br>Mismatch: 14",
         "line": {
          "color": "#1E88E5",
          "width": 2
         },
         "mode": "lines+markers",
         "name": "Estonia",
         "type": "scatter",
         "visible": false,
         "x": [
          "Education expenditure Rank",
          "Happiness Rank"
         ],
         "y": [
          32,
          46
         ]
        },
        {
         "hoverinfo": "text",
         "hovertext": "Austria<br>Education expenditure Rank: 33<br>Happiness Rank: 10<br>Mismatch: 23",
         "line": {
          "color": "#1E88E5",
          "width": 2
         },
         "mode": "lines+markers",
         "name": "Austria",
         "type": "scatter",
         "visible": false,
         "x": [
          "Education expenditure Rank",
          "Happiness Rank"
         ],
         "y": [
          33,
          10
         ]
        },
        {
         "hoverinfo": "text",
         "hovertext": "Cyprus<br>Education expenditure Rank: 34<br>Happiness Rank: 41<br>Mismatch: 7",
         "line": {
          "color": "#1E88E5",
          "width": 2
         },
         "mode": "lines+markers",
         "name": "Cyprus",
         "type": "scatter",
         "visible": false,
         "x": [
          "Education expenditure Rank",
          "Happiness Rank"
         ],
         "y": [
          34,
          41
         ]
        },
        {
         "hoverinfo": "text",
         "hovertext": "New Zealand<br>Education expenditure Rank: 35<br>Happiness Rank: 8<br>Mismatch: 27",
         "line": {
          "color": "#1E88E5",
          "width": 2
         },
         "mode": "lines+markers",
         "name": "New Zealand",
         "type": "scatter",
         "visible": false,
         "x": [
          "Education expenditure Rank",
          "Happiness Rank"
         ],
         "y": [
          35,
          8
         ]
        },
        {
         "hoverinfo": "text",
         "hovertext": "Jamaica<br>Education expenditure Rank: 36<br>Happiness Rank: 47<br>Mismatch: 11",
         "line": {
          "color": "#1E88E5",
          "width": 2
         },
         "mode": "lines+markers",
         "name": "Jamaica",
         "type": "scatter",
         "visible": false,
         "x": [
          "Education expenditure Rank",
          "Happiness Rank"
         ],
         "y": [
          36,
          47
         ]
        },
        {
         "hoverinfo": "text",
         "hovertext": "Netherlands<br>Education expenditure Rank: 37<br>Happiness Rank: 5<br>Mismatch: 32",
         "line": {
          "color": "#D81B60",
          "width": 2
         },
         "mode": "lines+markers",
         "name": "Netherlands",
         "type": "scatter",
         "visible": false,
         "x": [
          "Education expenditure Rank",
          "Happiness Rank"
         ],
         "y": [
          37,
          5
         ]
        },
        {
         "hoverinfo": "text",
         "hovertext": "Germany<br>Education expenditure Rank: 38<br>Happiness Rank: 17<br>Mismatch: 21",
         "line": {
          "color": "#1E88E5",
          "width": 2
         },
         "mode": "lines+markers",
         "name": "Germany",
         "type": "scatter",
         "visible": false,
         "x": [
          "Education expenditure Rank",
          "Happiness Rank"
         ],
         "y": [
          38,
          17
         ]
        },
        {
         "hoverinfo": "text",
         "hovertext": "Senegal<br>Education expenditure Rank: 39<br>Happiness Rank: 88<br>Mismatch: 49",
         "line": {
          "color": "#D81B60",
          "width": 2
         },
         "mode": "lines+markers",
         "name": "Senegal",
         "type": "scatter",
         "visible": false,
         "x": [
          "Education expenditure Rank",
          "Happiness Rank"
         ],
         "y": [
          39,
          88
         ]
        },
        {
         "hoverinfo": "text",
         "hovertext": "Switzerland<br>Education expenditure Rank: 40<br>Happiness Rank: 6<br>Mismatch: 34",
         "line": {
          "color": "#D81B60",
          "width": 2
         },
         "mode": "lines+markers",
         "name": "Switzerland",
         "type": "scatter",
         "visible": false,
         "x": [
          "Education expenditure Rank",
          "Happiness Rank"
         ],
         "y": [
          40,
          6
         ]
        },
        {
         "hoverinfo": "text",
         "hovertext": "Morocco<br>Education expenditure Rank: 41<br>Happiness Rank: 72<br>Mismatch: 31",
         "line": {
          "color": "#D81B60",
          "width": 2
         },
         "mode": "lines+markers",
         "name": "Morocco",
         "type": "scatter",
         "visible": false,
         "x": [
          "Education expenditure Rank",
          "Happiness Rank"
         ],
         "y": [
          41,
          72
         ]
        },
        {
         "hoverinfo": "text",
         "hovertext": "Belarus<br>Education expenditure Rank: 42<br>Happiness Rank: 66<br>Mismatch: 24",
         "line": {
          "color": "#1E88E5",
          "width": 2
         },
         "mode": "lines+markers",
         "name": "Belarus",
         "type": "scatter",
         "visible": false,
         "x": [
          "Education expenditure Rank",
          "Happiness Rank"
         ],
         "y": [
          42,
          66
         ]
        },
        {
         "hoverinfo": "text",
         "hovertext": "United States<br>Education expenditure Rank: 43<br>Happiness Rank: 19<br>Mismatch: 24",
         "line": {
          "color": "#1E88E5",
          "width": 2
         },
         "mode": "lines+markers",
         "name": "United States",
         "type": "scatter",
         "visible": false,
         "x": [
          "Education expenditure Rank",
          "Happiness Rank"
         ],
         "y": [
          43,
          19
         ]
        },
        {
         "hoverinfo": "text",
         "hovertext": "Malta<br>Education expenditure Rank: 44<br>Happiness Rank: 21<br>Mismatch: 23",
         "line": {
          "color": "#1E88E5",
          "width": 2
         },
         "mode": "lines+markers",
         "name": "Malta",
         "type": "scatter",
         "visible": false,
         "x": [
          "Education expenditure Rank",
          "Happiness Rank"
         ],
         "y": [
          44,
          21
         ]
        },
        {
         "hoverinfo": "text",
         "hovertext": "Slovenia<br>Education expenditure Rank: 45<br>Happiness Rank: 37<br>Mismatch: 8",
         "line": {
          "color": "#1E88E5",
          "width": 2
         },
         "mode": "lines+markers",
         "name": "Slovenia",
         "type": "scatter",
         "visible": false,
         "x": [
          "Education expenditure Rank",
          "Happiness Rank"
         ],
         "y": [
          45,
          37
         ]
        },
        {
         "hoverinfo": "text",
         "hovertext": "Canada<br>Education expenditure Rank: 46<br>Happiness Rank: 9<br>Mismatch: 37",
         "line": {
          "color": "#D81B60",
          "width": 2
         },
         "mode": "lines+markers",
         "name": "Canada",
         "type": "scatter",
         "visible": false,
         "x": [
          "Education expenditure Rank",
          "Happiness Rank"
         ],
         "y": [
          46,
          9
         ]
        },
        {
         "hoverinfo": "text",
         "hovertext": "Argentina<br>Education expenditure Rank: 47<br>Happiness Rank: 39<br>Mismatch: 8",
         "line": {
          "color": "#1E88E5",
          "width": 2
         },
         "mode": "lines+markers",
         "name": "Argentina",
         "type": "scatter",
         "visible": false,
         "x": [
          "Education expenditure Rank",
          "Happiness Rank"
         ],
         "y": [
          47,
          39
         ]
        },
        {
         "hoverinfo": "text",
         "hovertext": "Poland<br>Education expenditure Rank: 48<br>Happiness Rank: 34<br>Mismatch: 14",
         "line": {
          "color": "#1E88E5",
          "width": 2
         },
         "mode": "lines+markers",
         "name": "Poland",
         "type": "scatter",
         "visible": false,
         "x": [
          "Education expenditure Rank",
          "Happiness Rank"
         ],
         "y": [
          48,
          34
         ]
        },
        {
         "hoverinfo": "text",
         "hovertext": "Portugal<br>Education expenditure Rank: 49<br>Happiness Rank: 56<br>Mismatch: 7",
         "line": {
          "color": "#1E88E5",
          "width": 2
         },
         "mode": "lines+markers",
         "name": "Portugal",
         "type": "scatter",
         "visible": false,
         "x": [
          "Education expenditure Rank",
          "Happiness Rank"
         ],
         "y": [
          49,
          56
         ]
        },
        {
         "hoverinfo": "text",
         "hovertext": "Uruguay<br>Education expenditure Rank: 50<br>Happiness Rank: 29<br>Mismatch: 21",
         "line": {
          "color": "#1E88E5",
          "width": 2
         },
         "mode": "lines+markers",
         "name": "Uruguay",
         "type": "scatter",
         "visible": false,
         "x": [
          "Education expenditure Rank",
          "Happiness Rank"
         ],
         "y": [
          50,
          29
         ]
        },
        {
         "hoverinfo": "text",
         "hovertext": "Nicaragua<br>Education expenditure Rank: 51<br>Happiness Rank: 38<br>Mismatch: 13",
         "line": {
          "color": "#1E88E5",
          "width": 2
         },
         "mode": "lines+markers",
         "name": "Nicaragua",
         "type": "scatter",
         "visible": false,
         "x": [
          "Education expenditure Rank",
          "Happiness Rank"
         ],
         "y": [
          51,
          38
         ]
        },
        {
         "hoverinfo": "text",
         "hovertext": "Mauritius<br>Education expenditure Rank: 52<br>Happiness Rank: 48<br>Mismatch: 4",
         "line": {
          "color": "#1E88E5",
          "width": 2
         },
         "mode": "lines+markers",
         "name": "Mauritius",
         "type": "scatter",
         "visible": false,
         "x": [
          "Education expenditure Rank",
          "Happiness Rank"
         ],
         "y": [
          52,
          48
         ]
        },
        {
         "hoverinfo": "text",
         "hovertext": "Bhutan<br>Education expenditure Rank: 53<br>Happiness Rank: 77<br>Mismatch: 24",
         "line": {
          "color": "#1E88E5",
          "width": 2
         },
         "mode": "lines+markers",
         "name": "Bhutan",
         "type": "scatter",
         "visible": false,
         "x": [
          "Education expenditure Rank",
          "Happiness Rank"
         ],
         "y": [
          53,
          77
         ]
        },
        {
         "hoverinfo": "text",
         "hovertext": "Ethiopia<br>Education expenditure Rank: 54<br>Happiness Rank: 105<br>Mismatch: 51",
         "line": {
          "color": "#D81B60",
          "width": 2
         },
         "mode": "lines+markers",
         "name": "Ethiopia",
         "type": "scatter",
         "visible": false,
         "x": [
          "Education expenditure Rank",
          "Happiness Rank"
         ],
         "y": [
          54,
          105
         ]
        },
        {
         "hoverinfo": "text",
         "hovertext": "Latvia<br>Education expenditure Rank: 55<br>Happiness Rank: 45<br>Mismatch: 10",
         "line": {
          "color": "#1E88E5",
          "width": 2
         },
         "mode": "lines+markers",
         "name": "Latvia",
         "type": "scatter",
         "visible": false,
         "x": [
          "Education expenditure Rank",
          "Happiness Rank"
         ],
         "y": [
          55,
          45
         ]
        },
        {
         "hoverinfo": "text",
         "hovertext": "Zambia<br>Education expenditure Rank: 56<br>Happiness Rank: 107<br>Mismatch: 51",
         "line": {
          "color": "#D81B60",
          "width": 2
         },
         "mode": "lines+markers",
         "name": "Zambia",
         "type": "scatter",
         "visible": false,
         "x": [
          "Education expenditure Rank",
          "Happiness Rank"
         ],
         "y": [
          56,
          107
         ]
        },
        {
         "hoverinfo": "text",
         "hovertext": "Ecuador<br>Education expenditure Rank: 57<br>Happiness Rank: 42<br>Mismatch: 15",
         "line": {
          "color": "#1E88E5",
          "width": 2
         },
         "mode": "lines+markers",
         "name": "Ecuador",
         "type": "scatter",
         "visible": false,
         "x": [
          "Education expenditure Rank",
          "Happiness Rank"
         ],
         "y": [
          57,
          42
         ]
        },
        {
         "hoverinfo": "text",
         "hovertext": "Spain<br>Education expenditure Rank: 58<br>Happiness Rank: 26<br>Mismatch: 32",
         "line": {
          "color": "#D81B60",
          "width": 2
         },
         "mode": "lines+markers",
         "name": "Spain",
         "type": "scatter",
         "visible": false,
         "x": [
          "Education expenditure Rank",
          "Happiness Rank"
         ],
         "y": [
          58,
          26
         ]
        },
        {
         "hoverinfo": "text",
         "hovertext": "Hungary<br>Education expenditure Rank: 59<br>Happiness Rank: 53<br>Mismatch: 6",
         "line": {
          "color": "#1E88E5",
          "width": 2
         },
         "mode": "lines+markers",
         "name": "Hungary",
         "type": "scatter",
         "visible": false,
         "x": [
          "Education expenditure Rank",
          "Happiness Rank"
         ],
         "y": [
          59,
          53
         ]
        },
        {
         "hoverinfo": "text",
         "hovertext": "Togo<br>Education expenditure Rank: 60<br>Happiness Rank: 108<br>Mismatch: 48",
         "line": {
          "color": "#D81B60",
          "width": 2
         },
         "mode": "lines+markers",
         "name": "Togo",
         "type": "scatter",
         "visible": false,
         "x": [
          "Education expenditure Rank",
          "Happiness Rank"
         ],
         "y": [
          60,
          108
         ]
        },
        {
         "hoverinfo": "text",
         "hovertext": "Bulgaria<br>Education expenditure Rank: 61<br>Happiness Rank: 79<br>Mismatch: 18",
         "line": {
          "color": "#1E88E5",
          "width": 2
         },
         "mode": "lines+markers",
         "name": "Bulgaria",
         "type": "scatter",
         "visible": false,
         "x": [
          "Education expenditure Rank",
          "Happiness Rank"
         ],
         "y": [
          61,
          79
         ]
        },
        {
         "hoverinfo": "text",
         "hovertext": "Italy<br>Education expenditure Rank: 62<br>Happiness Rank: 32<br>Mismatch: 30",
         "line": {
          "color": "#1E88E5",
          "width": 2
         },
         "mode": "lines+markers",
         "name": "Italy",
         "type": "scatter",
         "visible": false,
         "x": [
          "Education expenditure Rank",
          "Happiness Rank"
         ],
         "y": [
          62,
          32
         ]
        },
        {
         "hoverinfo": "text",
         "hovertext": "China<br>Education expenditure Rank: 63<br>Happiness Rank: 76<br>Mismatch: 13",
         "line": {
          "color": "#1E88E5",
          "width": 2
         },
         "mode": "lines+markers",
         "name": "China",
         "type": "scatter",
         "visible": false,
         "x": [
          "Education expenditure Rank",
          "Happiness Rank"
         ],
         "y": [
          63,
          76
         ]
        },
        {
         "hoverinfo": "text",
         "hovertext": "Bosnia and Herzegovina<br>Education expenditure Rank: 64<br>Happiness Rank: 64<br>Mismatch: 0",
         "line": {
          "color": "#1E88E5",
          "width": 2
         },
         "mode": "lines+markers",
         "name": "Bosnia and Herzegovina",
         "type": "scatter",
         "visible": false,
         "x": [
          "Education expenditure Rank",
          "Happiness Rank"
         ],
         "y": [
          64,
          64
         ]
        },
        {
         "hoverinfo": "text",
         "hovertext": "Dominican Republic<br>Education expenditure Rank: 65<br>Happiness Rank: 63<br>Mismatch: 2",
         "line": {
          "color": "#1E88E5",
          "width": 2
         },
         "mode": "lines+markers",
         "name": "Dominican Republic",
         "type": "scatter",
         "visible": false,
         "x": [
          "Education expenditure Rank",
          "Happiness Rank"
         ],
         "y": [
          65,
          63
         ]
        },
        {
         "hoverinfo": "text",
         "hovertext": "Malaysia<br>Education expenditure Rank: 66<br>Happiness Rank: 65<br>Mismatch: 1",
         "line": {
          "color": "#1E88E5",
          "width": 2
         },
         "mode": "lines+markers",
         "name": "Malaysia",
         "type": "scatter",
         "visible": false,
         "x": [
          "Education expenditure Rank",
          "Happiness Rank"
         ],
         "y": [
          66,
          65
         ]
        },
        {
         "hoverinfo": "text",
         "hovertext": "Lithuania<br>Education expenditure Rank: 67<br>Happiness Rank: 36<br>Mismatch: 31",
         "line": {
          "color": "#D81B60",
          "width": 2
         },
         "mode": "lines+markers",
         "name": "Lithuania",
         "type": "scatter",
         "visible": false,
         "x": [
          "Education expenditure Rank",
          "Happiness Rank"
         ],
         "y": [
          67,
          36
         ]
        },
        {
         "hoverinfo": "text",
         "hovertext": "Croatia<br>Education expenditure Rank: 68<br>Happiness Rank: 62<br>Mismatch: 6",
         "line": {
          "color": "#1E88E5",
          "width": 2
         },
         "mode": "lines+markers",
         "name": "Croatia",
         "type": "scatter",
         "visible": false,
         "x": [
          "Education expenditure Rank",
          "Happiness Rank"
         ],
         "y": [
          68,
          62
         ]
        },
        {
         "hoverinfo": "text",
         "hovertext": "Albania<br>Education expenditure Rank: 69<br>Happiness Rank: 86<br>Mismatch: 17",
         "line": {
          "color": "#1E88E5",
          "width": 2
         },
         "mode": "lines+markers",
         "name": "Albania",
         "type": "scatter",
         "visible": false,
         "x": [
          "Education expenditure Rank",
          "Happiness Rank"
         ],
         "y": [
          69,
          86
         ]
        },
        {
         "hoverinfo": "text",
         "hovertext": "India<br>Education expenditure Rank: 70<br>Happiness Rank: 109<br>Mismatch: 39",
         "line": {
          "color": "#D81B60",
          "width": 2
         },
         "mode": "lines+markers",
         "name": "India",
         "type": "scatter",
         "visible": false,
         "x": [
          "Education expenditure Rank",
          "Happiness Rank"
         ],
         "y": [
          70,
          109
         ]
        },
        {
         "hoverinfo": "text",
         "hovertext": "United Arab Emirates<br>Education expenditure Rank: 71<br>Happiness Rank: 20<br>Mismatch: 51",
         "line": {
          "color": "#D81B60",
          "width": 2
         },
         "mode": "lines+markers",
         "name": "United Arab Emirates",
         "type": "scatter",
         "visible": false,
         "x": [
          "Education expenditure Rank",
          "Happiness Rank"
         ],
         "y": [
          71,
          20
         ]
        },
        {
         "hoverinfo": "text",
         "hovertext": "Georgia<br>Education expenditure Rank: 72<br>Happiness Rank: 94<br>Mismatch: 22",
         "line": {
          "color": "#1E88E5",
          "width": 2
         },
         "mode": "lines+markers",
         "name": "Georgia",
         "type": "scatter",
         "visible": false,
         "x": [
          "Education expenditure Rank",
          "Happiness Rank"
         ],
         "y": [
          72,
          94
         ]
        },
        {
         "hoverinfo": "text",
         "hovertext": "Peru<br>Education expenditure Rank: 73<br>Happiness Rank: 55<br>Mismatch: 18",
         "line": {
          "color": "#1E88E5",
          "width": 2
         },
         "mode": "lines+markers",
         "name": "Peru",
         "type": "scatter",
         "visible": false,
         "x": [
          "Education expenditure Rank",
          "Happiness Rank"
         ],
         "y": [
          73,
          55
         ]
        },
        {
         "hoverinfo": "text",
         "hovertext": "Luxembourg<br>Education expenditure Rank: 74<br>Happiness Rank: 14<br>Mismatch: 60",
         "line": {
          "color": "#D81B60",
          "width": 2
         },
         "mode": "lines+markers",
         "name": "Luxembourg",
         "type": "scatter",
         "visible": false,
         "x": [
          "Education expenditure Rank",
          "Happiness Rank"
         ],
         "y": [
          74,
          14
         ]
        },
        {
         "hoverinfo": "text",
         "hovertext": "Mongolia<br>Education expenditure Rank: 75<br>Happiness Rank: 68<br>Mismatch: 7",
         "line": {
          "color": "#1E88E5",
          "width": 2
         },
         "mode": "lines+markers",
         "name": "Mongolia",
         "type": "scatter",
         "visible": false,
         "x": [
          "Education expenditure Rank",
          "Happiness Rank"
         ],
         "y": [
          75,
          68
         ]
        },
        {
         "hoverinfo": "text",
         "hovertext": "Serbia<br>Education expenditure Rank: 76<br>Happiness Rank: 59<br>Mismatch: 17",
         "line": {
          "color": "#1E88E5",
          "width": 2
         },
         "mode": "lines+markers",
         "name": "Serbia",
         "type": "scatter",
         "visible": false,
         "x": [
          "Education expenditure Rank",
          "Happiness Rank"
         ],
         "y": [
          76,
          59
         ]
        },
        {
         "hoverinfo": "text",
         "hovertext": "Tanzania<br>Education expenditure Rank: 77<br>Happiness Rank: 117<br>Mismatch: 40",
         "line": {
          "color": "#D81B60",
          "width": 2
         },
         "mode": "lines+markers",
         "name": "Tanzania",
         "type": "scatter",
         "visible": false,
         "x": [
          "Education expenditure Rank",
          "Happiness Rank"
         ],
         "y": [
          77,
          117
         ]
        },
        {
         "hoverinfo": "text",
         "hovertext": "Greece<br>Education expenditure Rank: 78<br>Happiness Rank: 67<br>Mismatch: 11",
         "line": {
          "color": "#1E88E5",
          "width": 2
         },
         "mode": "lines+markers",
         "name": "Greece",
         "type": "scatter",
         "visible": false,
         "x": [
          "Education expenditure Rank",
          "Happiness Rank"
         ],
         "y": [
          78,
          67
         ]
        },
        {
         "hoverinfo": "text",
         "hovertext": "Romania<br>Education expenditure Rank: 79<br>Happiness Rank: 40<br>Mismatch: 39",
         "line": {
          "color": "#D81B60",
          "width": 2
         },
         "mode": "lines+markers",
         "name": "Romania",
         "type": "scatter",
         "visible": false,
         "x": [
          "Education expenditure Rank",
          "Happiness Rank"
         ],
         "y": [
          79,
          40
         ]
        },
        {
         "hoverinfo": "text",
         "hovertext": "Mali<br>Education expenditure Rank: 80<br>Happiness Rank: 100<br>Mismatch: 20",
         "line": {
          "color": "#1E88E5",
          "width": 2
         },
         "mode": "lines+markers",
         "name": "Mali",
         "type": "scatter",
         "visible": false,
         "x": [
          "Education expenditure Rank",
          "Happiness Rank"
         ],
         "y": [
          80,
          100
         ]
        },
        {
         "hoverinfo": "text",
         "hovertext": "Niger<br>Education expenditure Rank: 81<br>Happiness Rank: 90<br>Mismatch: 9",
         "line": {
          "color": "#1E88E5",
          "width": 2
         },
         "mode": "lines+markers",
         "name": "Niger",
         "type": "scatter",
         "visible": false,
         "x": [
          "Education expenditure Rank",
          "Happiness Rank"
         ],
         "y": [
          81,
          90
         ]
        },
        {
         "hoverinfo": "text",
         "hovertext": "Paraguay<br>Education expenditure Rank: 82<br>Happiness Rank: 54<br>Mismatch: 28",
         "line": {
          "color": "#1E88E5",
          "width": 2
         },
         "mode": "lines+markers",
         "name": "Paraguay",
         "type": "scatter",
         "visible": false,
         "x": [
          "Education expenditure Rank",
          "Happiness Rank"
         ],
         "y": [
          82,
          54
         ]
        },
        {
         "hoverinfo": "text",
         "hovertext": "Nepal<br>Education expenditure Rank: 83<br>Happiness Rank: 81<br>Mismatch: 2",
         "line": {
          "color": "#1E88E5",
          "width": 2
         },
         "mode": "lines+markers",
         "name": "Nepal",
         "type": "scatter",
         "visible": false,
         "x": [
          "Education expenditure Rank",
          "Happiness Rank"
         ],
         "y": [
          83,
          81
         ]
        },
        {
         "hoverinfo": "text",
         "hovertext": "Philippines<br>Education expenditure Rank: 84<br>Happiness Rank: 58<br>Mismatch: 26",
         "line": {
          "color": "#1E88E5",
          "width": 2
         },
         "mode": "lines+markers",
         "name": "Philippines",
         "type": "scatter",
         "visible": false,
         "x": [
          "Education expenditure Rank",
          "Happiness Rank"
         ],
         "y": [
          84,
          58
         ]
        },
        {
         "hoverinfo": "text",
         "hovertext": "El Salvador<br>Education expenditure Rank: 85<br>Happiness Rank: 31<br>Mismatch: 54",
         "line": {
          "color": "#D81B60",
          "width": 2
         },
         "mode": "lines+markers",
         "name": "El Salvador",
         "type": "scatter",
         "visible": false,
         "x": [
          "Education expenditure Rank",
          "Happiness Rank"
         ],
         "y": [
          85,
          31
         ]
        },
        {
         "hoverinfo": "text",
         "hovertext": "Kazakhstan<br>Education expenditure Rank: 86<br>Happiness Rank: 51<br>Mismatch: 35",
         "line": {
          "color": "#D81B60",
          "width": 2
         },
         "mode": "lines+markers",
         "name": "Kazakhstan",
         "type": "scatter",
         "visible": false,
         "x": [
          "Education expenditure Rank",
          "Happiness Rank"
         ],
         "y": [
          86,
          51
         ]
        },
        {
         "hoverinfo": "text",
         "hovertext": "Ireland<br>Education expenditure Rank: 87<br>Happiness Rank: 16<br>Mismatch: 71",
         "line": {
          "color": "#D81B60",
          "width": 2
         },
         "mode": "lines+markers",
         "name": "Ireland",
         "type": "scatter",
         "visible": false,
         "x": [
          "Education expenditure Rank",
          "Happiness Rank"
         ],
         "y": [
          87,
          16
         ]
        },
        {
         "hoverinfo": "text",
         "hovertext": "Rwanda<br>Education expenditure Rank: 88<br>Happiness Rank: 116<br>Mismatch: 28",
         "line": {
          "color": "#1E88E5",
          "width": 2
         },
         "mode": "lines+markers",
         "name": "Rwanda",
         "type": "scatter",
         "visible": false,
         "x": [
          "Education expenditure Rank",
          "Happiness Rank"
         ],
         "y": [
          88,
          116
         ]
        },
        {
         "hoverinfo": "text",
         "hovertext": "Guatemala<br>Education expenditure Rank: 89<br>Happiness Rank: 24<br>Mismatch: 65",
         "line": {
          "color": "#D81B60",
          "width": 2
         },
         "mode": "lines+markers",
         "name": "Guatemala",
         "type": "scatter",
         "visible": false,
         "x": [
          "Education expenditure Rank",
          "Happiness Rank"
         ],
         "y": [
          89,
          24
         ]
        },
        {
         "hoverinfo": "text",
         "hovertext": "Azerbaijan<br>Education expenditure Rank: 90<br>Happiness Rank: 72<br>Mismatch: 18",
         "line": {
          "color": "#1E88E5",
          "width": 2
         },
         "mode": "lines+markers",
         "name": "Azerbaijan",
         "type": "scatter",
         "visible": false,
         "x": [
          "Education expenditure Rank",
          "Happiness Rank"
         ],
         "y": [
          90,
          72
         ]
        },
        {
         "hoverinfo": "text",
         "hovertext": "Japan<br>Education expenditure Rank: 91<br>Happiness Rank: 49<br>Mismatch: 42",
         "line": {
          "color": "#D81B60",
          "width": 2
         },
         "mode": "lines+markers",
         "name": "Japan",
         "type": "scatter",
         "visible": false,
         "x": [
          "Education expenditure Rank",
          "Happiness Rank"
         ],
         "y": [
          91,
          49
         ]
        },
        {
         "hoverinfo": "text",
         "hovertext": "Ghana<br>Education expenditure Rank: 92<br>Happiness Rank: 80<br>Mismatch: 12",
         "line": {
          "color": "#1E88E5",
          "width": 2
         },
         "mode": "lines+markers",
         "name": "Ghana",
         "type": "scatter",
         "visible": false,
         "x": [
          "Education expenditure Rank",
          "Happiness Rank"
         ],
         "y": [
          92,
          80
         ]
        },
        {
         "hoverinfo": "text",
         "hovertext": "Turkmenistan<br>Education expenditure Rank: 93<br>Happiness Rank: 70<br>Mismatch: 23",
         "line": {
          "color": "#1E88E5",
          "width": 2
         },
         "mode": "lines+markers",
         "name": "Turkmenistan",
         "type": "scatter",
         "visible": false,
         "x": [
          "Education expenditure Rank",
          "Happiness Rank"
         ],
         "y": [
          93,
          70
         ]
        },
        {
         "hoverinfo": "text",
         "hovertext": "Panama<br>Education expenditure Rank: 94<br>Happiness Rank: 27<br>Mismatch: 67",
         "line": {
          "color": "#D81B60",
          "width": 2
         },
         "mode": "lines+markers",
         "name": "Panama",
         "type": "scatter",
         "visible": false,
         "x": [
          "Education expenditure Rank",
          "Happiness Rank"
         ],
         "y": [
          94,
          27
         ]
        },
        {
         "hoverinfo": "text",
         "hovertext": "Cameroon<br>Education expenditure Rank: 95<br>Happiness Rank: 78<br>Mismatch: 17",
         "line": {
          "color": "#1E88E5",
          "width": 2
         },
         "mode": "lines+markers",
         "name": "Cameroon",
         "type": "scatter",
         "visible": false,
         "x": [
          "Education expenditure Rank",
          "Happiness Rank"
         ],
         "y": [
          95,
          78
         ]
        },
        {
         "hoverinfo": "text",
         "hovertext": "Thailand<br>Education expenditure Rank: 96<br>Happiness Rank: 44<br>Mismatch: 52",
         "line": {
          "color": "#D81B60",
          "width": 2
         },
         "mode": "lines+markers",
         "name": "Thailand",
         "type": "scatter",
         "visible": false,
         "x": [
          "Education expenditure Rank",
          "Happiness Rank"
         ],
         "y": [
          96,
          44
         ]
        },
        {
         "hoverinfo": "text",
         "hovertext": "Madagascar<br>Education expenditure Rank: 97<br>Happiness Rank: 111<br>Mismatch: 14",
         "line": {
          "color": "#1E88E5",
          "width": 2
         },
         "mode": "lines+markers",
         "name": "Madagascar",
         "type": "scatter",
         "visible": false,
         "x": [
          "Education expenditure Rank",
          "Happiness Rank"
         ],
         "y": [
          97,
          111
         ]
        },
        {
         "hoverinfo": "text",
         "hovertext": "Jordan<br>Education expenditure Rank: 98<br>Happiness Rank: 82<br>Mismatch: 16",
         "line": {
          "color": "#1E88E5",
          "width": 2
         },
         "mode": "lines+markers",
         "name": "Jordan",
         "type": "scatter",
         "visible": false,
         "x": [
          "Education expenditure Rank",
          "Happiness Rank"
         ],
         "y": [
          98,
          82
         ]
        },
        {
         "hoverinfo": "text",
         "hovertext": "Benin<br>Education expenditure Rank: 99<br>Happiness Rank: 83<br>Mismatch: 16",
         "line": {
          "color": "#1E88E5",
          "width": 2
         },
         "mode": "lines+markers",
         "name": "Benin",
         "type": "scatter",
         "visible": false,
         "x": [
          "Education expenditure Rank",
          "Happiness Rank"
         ],
         "y": [
          99,
          83
         ]
        },
        {
         "hoverinfo": "text",
         "hovertext": "Gabon<br>Education expenditure Rank: 100<br>Happiness Rank: 84<br>Mismatch: 16",
         "line": {
          "color": "#1E88E5",
          "width": 2
         },
         "mode": "lines+markers",
         "name": "Gabon",
         "type": "scatter",
         "visible": false,
         "x": [
          "Education expenditure Rank",
          "Happiness Rank"
         ],
         "y": [
          100,
          84
         ]
        },
        {
         "hoverinfo": "text",
         "hovertext": "Cambodia<br>Education expenditure Rank: 101<br>Happiness Rank: 87<br>Mismatch: 14",
         "line": {
          "color": "#1E88E5",
          "width": 2
         },
         "mode": "lines+markers",
         "name": "Cambodia",
         "type": "scatter",
         "visible": false,
         "x": [
          "Education expenditure Rank",
          "Happiness Rank"
         ],
         "y": [
          101,
          87
         ]
        },
        {
         "hoverinfo": "text",
         "hovertext": "Qatar<br>Education expenditure Rank: 102<br>Happiness Rank: 25<br>Mismatch: 77",
         "line": {
          "color": "#D81B60",
          "width": 2
         },
         "mode": "lines+markers",
         "name": "Qatar",
         "type": "scatter",
         "visible": false,
         "x": [
          "Education expenditure Rank",
          "Happiness Rank"
         ],
         "y": [
          102,
          25
         ]
        },
        {
         "hoverinfo": "text",
         "hovertext": "Singapore<br>Education expenditure Rank: 103<br>Happiness Rank: 30<br>Mismatch: 73",
         "line": {
          "color": "#D81B60",
          "width": 2
         },
         "mode": "lines+markers",
         "name": "Singapore",
         "type": "scatter",
         "visible": false,
         "x": [
          "Education expenditure Rank",
          "Happiness Rank"
         ],
         "y": [
          103,
          30
         ]
        },
        {
         "hoverinfo": "text",
         "hovertext": "Lebanon<br>Education expenditure Rank: 104<br>Happiness Rank: 74<br>Mismatch: 30",
         "line": {
          "color": "#1E88E5",
          "width": 2
         },
         "mode": "lines+markers",
         "name": "Lebanon",
         "type": "scatter",
         "visible": false,
         "x": [
          "Education expenditure Rank",
          "Happiness Rank"
         ],
         "y": [
          104,
          74
         ]
        },
        {
         "hoverinfo": "text",
         "hovertext": "Armenia<br>Education expenditure Rank: 105<br>Happiness Rank: 92<br>Mismatch: 13",
         "line": {
          "color": "#1E88E5",
          "width": 2
         },
         "mode": "lines+markers",
         "name": "Armenia",
         "type": "scatter",
         "visible": false,
         "x": [
          "Education expenditure Rank",
          "Happiness Rank"
         ],
         "y": [
          105,
          92
         ]
        },
        {
         "hoverinfo": "text",
         "hovertext": "Bahrain<br>Education expenditure Rank: 106<br>Happiness Rank: 33<br>Mismatch: 73",
         "line": {
          "color": "#D81B60",
          "width": 2
         },
         "mode": "lines+markers",
         "name": "Bahrain",
         "type": "scatter",
         "visible": false,
         "x": [
          "Education expenditure Rank",
          "Happiness Rank"
         ],
         "y": [
          106,
          33
         ]
        },
        {
         "hoverinfo": "text",
         "hovertext": "Chad<br>Education expenditure Rank: 107<br>Happiness Rank: 103<br>Mismatch: 4",
         "line": {
          "color": "#1E88E5",
          "width": 2
         },
         "mode": "lines+markers",
         "name": "Chad",
         "type": "scatter",
         "visible": false,
         "x": [
          "Education expenditure Rank",
          "Happiness Rank"
         ],
         "y": [
          107,
          103
         ]
        },
        {
         "hoverinfo": "text",
         "hovertext": "Uganda<br>Education expenditure Rank: 108<br>Happiness Rank: 106<br>Mismatch: 2",
         "line": {
          "color": "#1E88E5",
          "width": 2
         },
         "mode": "lines+markers",
         "name": "Uganda",
         "type": "scatter",
         "visible": false,
         "x": [
          "Education expenditure Rank",
          "Happiness Rank"
         ],
         "y": [
          108,
          106
         ]
        },
        {
         "hoverinfo": "text",
         "hovertext": "Pakistan<br>Education expenditure Rank: 109<br>Happiness Rank: 57<br>Mismatch: 52",
         "line": {
          "color": "#D81B60",
          "width": 2
         },
         "mode": "lines+markers",
         "name": "Pakistan",
         "type": "scatter",
         "visible": false,
         "x": [
          "Education expenditure Rank",
          "Happiness Rank"
         ],
         "y": [
          109,
          57
         ]
        },
        {
         "hoverinfo": "text",
         "hovertext": "Liberia<br>Education expenditure Rank: 110<br>Happiness Rank: 110<br>Mismatch: 0",
         "line": {
          "color": "#1E88E5",
          "width": 2
         },
         "mode": "lines+markers",
         "name": "Liberia",
         "type": "scatter",
         "visible": false,
         "x": [
          "Education expenditure Rank",
          "Happiness Rank"
         ],
         "y": [
          110,
          110
         ]
        },
        {
         "hoverinfo": "text",
         "hovertext": "Myanmar<br>Education expenditure Rank: 111<br>Happiness Rank: 102<br>Mismatch: 9",
         "line": {
          "color": "#1E88E5",
          "width": 2
         },
         "mode": "lines+markers",
         "name": "Myanmar",
         "type": "scatter",
         "visible": false,
         "x": [
          "Education expenditure Rank",
          "Happiness Rank"
         ],
         "y": [
          111,
          102
         ]
        },
        {
         "hoverinfo": "text",
         "hovertext": "Guinea<br>Education expenditure Rank: 112<br>Happiness Rank: 93<br>Mismatch: 19",
         "line": {
          "color": "#1E88E5",
          "width": 2
         },
         "mode": "lines+markers",
         "name": "Guinea",
         "type": "scatter",
         "visible": false,
         "x": [
          "Education expenditure Rank",
          "Happiness Rank"
         ],
         "y": [
          112,
          93
         ]
        },
        {
         "hoverinfo": "text",
         "hovertext": "Mauritania<br>Education expenditure Rank: 113<br>Happiness Rank: 96<br>Mismatch: 17",
         "line": {
          "color": "#1E88E5",
          "width": 2
         },
         "mode": "lines+markers",
         "name": "Mauritania",
         "type": "scatter",
         "visible": false,
         "x": [
          "Education expenditure Rank",
          "Happiness Rank"
         ],
         "y": [
          113,
          96
         ]
        },
        {
         "hoverinfo": "text",
         "hovertext": "Central African Republic<br>Education expenditure Rank: 114<br>Happiness Rank: 118<br>Mismatch: 4",
         "line": {
          "color": "#1E88E5",
          "width": 2
         },
         "mode": "lines+markers",
         "name": "Central African Republic",
         "type": "scatter",
         "visible": false,
         "x": [
          "Education expenditure Rank",
          "Happiness Rank"
         ],
         "y": [
          114,
          118
         ]
        },
        {
         "hoverinfo": "text",
         "hovertext": "Haiti<br>Education expenditure Rank: 115<br>Happiness Rank: 114<br>Mismatch: 1",
         "line": {
          "color": "#1E88E5",
          "width": 2
         },
         "mode": "lines+markers",
         "name": "Haiti",
         "type": "scatter",
         "visible": false,
         "x": [
          "Education expenditure Rank",
          "Happiness Rank"
         ],
         "y": [
          115,
          114
         ]
        },
        {
         "hoverinfo": "text",
         "hovertext": "Bangladesh<br>Education expenditure Rank: 116<br>Happiness Rank: 99<br>Mismatch: 17",
         "line": {
          "color": "#1E88E5",
          "width": 2
         },
         "mode": "lines+markers",
         "name": "Bangladesh",
         "type": "scatter",
         "visible": false,
         "x": [
          "Education expenditure Rank",
          "Happiness Rank"
         ],
         "y": [
          116,
          99
         ]
        },
        {
         "hoverinfo": "text",
         "hovertext": "Indonesia<br>Education expenditure Rank: 117<br>Happiness Rank: 75<br>Mismatch: 42",
         "line": {
          "color": "#D81B60",
          "width": 2
         },
         "mode": "lines+markers",
         "name": "Indonesia",
         "type": "scatter",
         "visible": false,
         "x": [
          "Education expenditure Rank",
          "Happiness Rank"
         ],
         "y": [
          117,
          75
         ]
        },
        {
         "hoverinfo": "text",
         "hovertext": "Nigeria<br>Education expenditure Rank: 118<br>Happiness Rank: 69<br>Mismatch: 49",
         "line": {
          "color": "#D81B60",
          "width": 2
         },
         "mode": "lines+markers",
         "name": "Nigeria",
         "type": "scatter",
         "visible": false,
         "x": [
          "Education expenditure Rank",
          "Happiness Rank"
         ],
         "y": [
          118,
          69
         ]
        }
       ],
       "layout": {
        "annotations": [
         {
          "align": "left",
          "bgcolor": "#D81B60",
          "bordercolor": "black",
          "borderwidth": 1,
          "font": {
           "color": "white",
           "size": 12
          },
          "showarrow": false,
          "text": "Mismatch > 30:<br><b>25</b>",
          "x": 1.05,
          "xref": "paper",
          "y": 1.05,
          "yref": "paper"
         }
        ],
        "height": 800,
        "margin": {
         "b": 80,
         "l": 80,
         "r": 100,
         "t": 80
        },
        "showlegend": false,
        "sliders": [
         {
          "active": 0,
          "currentvalue": {
           "prefix": "Metric: "
          },
          "len": 0.9,
          "pad": {
           "t": 50
          },
          "steps": [
           {
            "args": [
             {
              "visible": [
               true,
               true,
               true,
               true,
               true,
               true,
               true,
               true,
               true,
               true,
               true,
               true,
               true,
               true,
               true,
               true,
               true,
               true,
               true,
               true,
               true,
               true,
               true,
               true,
               true,
               true,
               true,
               true,
               true,
               true,
               true,
               true,
               true,
               true,
               true,
               true,
               true,
               true,
               true,
               true,
               true,
               true,
               true,
               true,
               true,
               true,
               true,
               true,
               true,
               true,
               true,
               true,
               true,
               true,
               true,
               true,
               true,
               true,
               true,
               true,
               true,
               true,
               true,
               true,
               true,
               true,
               true,
               true,
               true,
               true,
               true,
               true,
               true,
               true,
               true,
               true,
               true,
               true,
               true,
               true,
               true,
               true,
               true,
               true,
               true,
               true,
               true,
               true,
               true,
               true,
               true,
               true,
               true,
               true,
               true,
               true,
               true,
               true,
               true,
               true,
               true,
               true,
               true,
               true,
               true,
               true,
               true,
               true,
               true,
               true,
               true,
               true,
               true,
               true,
               true,
               true,
               true,
               true,
               true,
               true,
               true,
               true,
               true,
               true,
               true,
               true,
               true,
               true,
               true,
               true,
               true,
               true,
               true,
               false,
               false,
               false,
               false,
               false,
               false,
               false,
               false,
               false,
               false,
               false,
               false,
               false,
               false,
               false,
               false,
               false,
               false,
               false,
               false,
               false,
               false,
               false,
               false,
               false,
               false,
               false,
               false,
               false,
               false,
               false,
               false,
               false,
               false,
               false,
               false,
               false,
               false,
               false,
               false,
               false,
               false,
               false,
               false,
               false,
               false,
               false,
               false,
               false,
               false,
               false,
               false,
               false,
               false,
               false,
               false,
               false,
               false,
               false,
               false,
               false,
               false,
               false,
               false,
               false,
               false,
               false,
               false,
               false,
               false,
               false,
               false,
               false,
               false,
               false,
               false,
               false,
               false,
               false,
               false,
               false,
               false,
               false,
               false,
               false,
               false,
               false,
               false,
               false,
               false,
               false,
               false,
               false,
               false,
               false,
               false,
               false,
               false,
               false,
               false,
               false,
               false,
               false,
               false,
               false,
               false,
               false,
               false,
               false,
               false,
               false,
               false,
               false,
               false,
               false,
               false,
               false,
               false,
               false,
               false,
               false,
               false,
               false,
               false,
               false,
               false,
               false,
               false,
               false,
               false,
               false,
               false,
               false,
               false,
               false,
               false,
               false,
               false,
               false,
               false,
               false,
               false,
               false,
               false,
               false,
               false,
               false,
               false,
               false,
               false,
               false,
               false,
               false,
               false,
               false,
               false,
               false,
               false,
               false,
               false,
               false,
               false,
               false,
               false,
               false,
               false,
               false,
               false,
               false,
               false,
               false,
               false,
               false,
               false,
               false,
               false,
               false,
               false,
               false,
               false,
               false,
               false,
               false,
               false,
               false,
               false,
               false,
               false,
               false,
               false,
               false,
               false,
               false,
               false,
               false,
               false,
               false,
               false,
               false,
               false,
               false,
               false,
               false,
               false,
               false,
               false,
               false,
               false,
               false,
               false,
               false,
               false,
               false,
               false,
               false,
               false,
               false,
               false,
               false,
               false,
               false,
               false
              ]
             },
             {
              "annotations": [
               {
                "align": "left",
                "bgcolor": "#D81B60",
                "bordercolor": "black",
                "borderwidth": 1,
                "font": {
                 "color": "white",
                 "size": 12
                },
                "showarrow": false,
                "text": "Mismatch > 30:<br><b>25</b>",
                "x": 1.05,
                "xref": "paper",
                "y": 1.05,
                "yref": "paper"
               }
              ],
              "title": "Life expectancy vs Happiness Rankings",
              "xaxis": {
               "tickvals": [
                "Life expectancy Rank",
                "Happiness Rank"
               ],
               "title": ""
              },
              "yaxis": {
               "autorange": "reversed",
               "title": "Rank (1 = Best)"
              }
             }
            ],
            "label": "Life expectancy",
            "method": "update"
           },
           {
            "args": [
             {
              "visible": [
               false,
               false,
               false,
               false,
               false,
               false,
               false,
               false,
               false,
               false,
               false,
               false,
               false,
               false,
               false,
               false,
               false,
               false,
               false,
               false,
               false,
               false,
               false,
               false,
               false,
               false,
               false,
               false,
               false,
               false,
               false,
               false,
               false,
               false,
               false,
               false,
               false,
               false,
               false,
               false,
               false,
               false,
               false,
               false,
               false,
               false,
               false,
               false,
               false,
               false,
               false,
               false,
               false,
               false,
               false,
               false,
               false,
               false,
               false,
               false,
               false,
               false,
               false,
               false,
               false,
               false,
               false,
               false,
               false,
               false,
               false,
               false,
               false,
               false,
               false,
               false,
               false,
               false,
               false,
               false,
               false,
               false,
               false,
               false,
               false,
               false,
               false,
               false,
               false,
               false,
               false,
               false,
               false,
               false,
               false,
               false,
               false,
               false,
               false,
               false,
               false,
               false,
               false,
               false,
               false,
               false,
               false,
               false,
               false,
               false,
               false,
               false,
               false,
               false,
               false,
               false,
               false,
               false,
               false,
               false,
               false,
               false,
               false,
               false,
               false,
               false,
               false,
               false,
               false,
               false,
               false,
               false,
               false,
               true,
               true,
               true,
               true,
               true,
               true,
               true,
               true,
               true,
               true,
               true,
               true,
               true,
               true,
               true,
               true,
               true,
               true,
               true,
               true,
               true,
               true,
               true,
               true,
               true,
               true,
               true,
               true,
               true,
               true,
               true,
               true,
               true,
               true,
               true,
               true,
               true,
               true,
               true,
               true,
               true,
               true,
               true,
               true,
               true,
               true,
               true,
               true,
               true,
               true,
               true,
               true,
               true,
               true,
               true,
               true,
               true,
               true,
               true,
               true,
               true,
               true,
               true,
               true,
               true,
               true,
               true,
               true,
               true,
               true,
               true,
               true,
               true,
               true,
               true,
               true,
               true,
               true,
               true,
               true,
               true,
               true,
               true,
               true,
               true,
               true,
               true,
               true,
               true,
               true,
               true,
               true,
               true,
               true,
               true,
               true,
               true,
               true,
               true,
               true,
               true,
               true,
               true,
               true,
               false,
               false,
               false,
               false,
               false,
               false,
               false,
               false,
               false,
               false,
               false,
               false,
               false,
               false,
               false,
               false,
               false,
               false,
               false,
               false,
               false,
               false,
               false,
               false,
               false,
               false,
               false,
               false,
               false,
               false,
               false,
               false,
               false,
               false,
               false,
               false,
               false,
               false,
               false,
               false,
               false,
               false,
               false,
               false,
               false,
               false,
               false,
               false,
               false,
               false,
               false,
               false,
               false,
               false,
               false,
               false,
               false,
               false,
               false,
               false,
               false,
               false,
               false,
               false,
               false,
               false,
               false,
               false,
               false,
               false,
               false,
               false,
               false,
               false,
               false,
               false,
               false,
               false,
               false,
               false,
               false,
               false,
               false,
               false,
               false,
               false,
               false,
               false,
               false,
               false,
               false,
               false,
               false,
               false,
               false,
               false,
               false,
               false,
               false,
               false,
               false,
               false,
               false,
               false,
               false,
               false,
               false,
               false,
               false,
               false,
               false,
               false,
               false,
               false,
               false,
               false,
               false,
               false
              ]
             },
             {
              "annotations": [
               {
                "align": "left",
                "bgcolor": "#D81B60",
                "bordercolor": "black",
                "borderwidth": 1,
                "font": {
                 "color": "white",
                 "size": 12
                },
                "showarrow": false,
                "text": "Mismatch > 30:<br><b>47</b>",
                "x": 1.05,
                "xref": "paper",
                "y": 1.05,
                "yref": "paper"
               }
              ],
              "title": "Unemployment rate vs Happiness Rankings",
              "xaxis": {
               "tickvals": [
                "Unemployment rate Rank",
                "Happiness Rank"
               ],
               "title": ""
              },
              "yaxis": {
               "autorange": "reversed",
               "title": "Rank (1 = Best)"
              }
             }
            ],
            "label": "Unemployment rate",
            "method": "update"
           },
           {
            "args": [
             {
              "visible": [
               false,
               false,
               false,
               false,
               false,
               false,
               false,
               false,
               false,
               false,
               false,
               false,
               false,
               false,
               false,
               false,
               false,
               false,
               false,
               false,
               false,
               false,
               false,
               false,
               false,
               false,
               false,
               false,
               false,
               false,
               false,
               false,
               false,
               false,
               false,
               false,
               false,
               false,
               false,
               false,
               false,
               false,
               false,
               false,
               false,
               false,
               false,
               false,
               false,
               false,
               false,
               false,
               false,
               false,
               false,
               false,
               false,
               false,
               false,
               false,
               false,
               false,
               false,
               false,
               false,
               false,
               false,
               false,
               false,
               false,
               false,
               false,
               false,
               false,
               false,
               false,
               false,
               false,
               false,
               false,
               false,
               false,
               false,
               false,
               false,
               false,
               false,
               false,
               false,
               false,
               false,
               false,
               false,
               false,
               false,
               false,
               false,
               false,
               false,
               false,
               false,
               false,
               false,
               false,
               false,
               false,
               false,
               false,
               false,
               false,
               false,
               false,
               false,
               false,
               false,
               false,
               false,
               false,
               false,
               false,
               false,
               false,
               false,
               false,
               false,
               false,
               false,
               false,
               false,
               false,
               false,
               false,
               false,
               false,
               false,
               false,
               false,
               false,
               false,
               false,
               false,
               false,
               false,
               false,
               false,
               false,
               false,
               false,
               false,
               false,
               false,
               false,
               false,
               false,
               false,
               false,
               false,
               false,
               false,
               false,
               false,
               false,
               false,
               false,
               false,
               false,
               false,
               false,
               false,
               false,
               false,
               false,
               false,
               false,
               false,
               false,
               false,
               false,
               false,
               false,
               false,
               false,
               false,
               false,
               false,
               false,
               false,
               false,
               false,
               false,
               false,
               false,
               false,
               false,
               false,
               false,
               false,
               false,
               false,
               false,
               false,
               false,
               false,
               false,
               false,
               false,
               false,
               false,
               false,
               false,
               false,
               false,
               false,
               false,
               false,
               false,
               false,
               false,
               false,
               false,
               false,
               false,
               false,
               false,
               false,
               false,
               false,
               false,
               false,
               false,
               false,
               false,
               false,
               false,
               false,
               false,
               false,
               true,
               true,
               true,
               true,
               true,
               true,
               true,
               true,
               true,
               true,
               true,
               true,
               true,
               true,
               true,
               true,
               true,
               true,
               true,
               true,
               true,
               true,
               true,
               true,
               true,
               true,
               true,
               true,
               true,
               true,
               true,
               true,
               true,
               true,
               true,
               true,
               true,
               true,
               true,
               true,
               true,
               true,
               true,
               true,
               true,
               true,
               true,
               true,
               true,
               true,
               true,
               true,
               true,
               true,
               true,
               true,
               true,
               true,
               true,
               true,
               true,
               true,
               true,
               true,
               true,
               true,
               true,
               true,
               true,
               true,
               true,
               true,
               true,
               true,
               true,
               true,
               true,
               true,
               true,
               true,
               true,
               true,
               true,
               true,
               true,
               true,
               true,
               true,
               true,
               true,
               true,
               true,
               true,
               true,
               true,
               true,
               true,
               true,
               true,
               true,
               true,
               true,
               true,
               true,
               true,
               true,
               true,
               true,
               true,
               true,
               true,
               true,
               true,
               true,
               true,
               true,
               true,
               true
              ]
             },
             {
              "annotations": [
               {
                "align": "left",
                "bgcolor": "#D81B60",
                "bordercolor": "black",
                "borderwidth": 1,
                "font": {
                 "color": "white",
                 "size": 12
                },
                "showarrow": false,
                "text": "Mismatch > 30:<br><b>44</b>",
                "x": 1.05,
                "xref": "paper",
                "y": 1.05,
                "yref": "paper"
               }
              ],
              "title": "Education expenditure vs Happiness Rankings",
              "xaxis": {
               "tickvals": [
                "Education expenditure Rank",
                "Happiness Rank"
               ],
               "title": ""
              },
              "yaxis": {
               "autorange": "reversed",
               "title": "Rank (1 = Best)"
              }
             }
            ],
            "label": "Education expenditure",
            "method": "update"
           }
          ],
          "x": 0.1,
          "xanchor": "left"
         }
        ],
        "template": {
         "data": {
          "bar": [
           {
            "error_x": {
             "color": "#2a3f5f"
            },
            "error_y": {
             "color": "#2a3f5f"
            },
            "marker": {
             "line": {
              "color": "#E5ECF6",
              "width": 0.5
             },
             "pattern": {
              "fillmode": "overlay",
              "size": 10,
              "solidity": 0.2
             }
            },
            "type": "bar"
           }
          ],
          "barpolar": [
           {
            "marker": {
             "line": {
              "color": "#E5ECF6",
              "width": 0.5
             },
             "pattern": {
              "fillmode": "overlay",
              "size": 10,
              "solidity": 0.2
             }
            },
            "type": "barpolar"
           }
          ],
          "carpet": [
           {
            "aaxis": {
             "endlinecolor": "#2a3f5f",
             "gridcolor": "white",
             "linecolor": "white",
             "minorgridcolor": "white",
             "startlinecolor": "#2a3f5f"
            },
            "baxis": {
             "endlinecolor": "#2a3f5f",
             "gridcolor": "white",
             "linecolor": "white",
             "minorgridcolor": "white",
             "startlinecolor": "#2a3f5f"
            },
            "type": "carpet"
           }
          ],
          "choropleth": [
           {
            "colorbar": {
             "outlinewidth": 0,
             "ticks": ""
            },
            "type": "choropleth"
           }
          ],
          "contour": [
           {
            "colorbar": {
             "outlinewidth": 0,
             "ticks": ""
            },
            "colorscale": [
             [
              0,
              "#0d0887"
             ],
             [
              0.1111111111111111,
              "#46039f"
             ],
             [
              0.2222222222222222,
              "#7201a8"
             ],
             [
              0.3333333333333333,
              "#9c179e"
             ],
             [
              0.4444444444444444,
              "#bd3786"
             ],
             [
              0.5555555555555556,
              "#d8576b"
             ],
             [
              0.6666666666666666,
              "#ed7953"
             ],
             [
              0.7777777777777778,
              "#fb9f3a"
             ],
             [
              0.8888888888888888,
              "#fdca26"
             ],
             [
              1,
              "#f0f921"
             ]
            ],
            "type": "contour"
           }
          ],
          "contourcarpet": [
           {
            "colorbar": {
             "outlinewidth": 0,
             "ticks": ""
            },
            "type": "contourcarpet"
           }
          ],
          "heatmap": [
           {
            "colorbar": {
             "outlinewidth": 0,
             "ticks": ""
            },
            "colorscale": [
             [
              0,
              "#0d0887"
             ],
             [
              0.1111111111111111,
              "#46039f"
             ],
             [
              0.2222222222222222,
              "#7201a8"
             ],
             [
              0.3333333333333333,
              "#9c179e"
             ],
             [
              0.4444444444444444,
              "#bd3786"
             ],
             [
              0.5555555555555556,
              "#d8576b"
             ],
             [
              0.6666666666666666,
              "#ed7953"
             ],
             [
              0.7777777777777778,
              "#fb9f3a"
             ],
             [
              0.8888888888888888,
              "#fdca26"
             ],
             [
              1,
              "#f0f921"
             ]
            ],
            "type": "heatmap"
           }
          ],
          "histogram": [
           {
            "marker": {
             "pattern": {
              "fillmode": "overlay",
              "size": 10,
              "solidity": 0.2
             }
            },
            "type": "histogram"
           }
          ],
          "histogram2d": [
           {
            "colorbar": {
             "outlinewidth": 0,
             "ticks": ""
            },
            "colorscale": [
             [
              0,
              "#0d0887"
             ],
             [
              0.1111111111111111,
              "#46039f"
             ],
             [
              0.2222222222222222,
              "#7201a8"
             ],
             [
              0.3333333333333333,
              "#9c179e"
             ],
             [
              0.4444444444444444,
              "#bd3786"
             ],
             [
              0.5555555555555556,
              "#d8576b"
             ],
             [
              0.6666666666666666,
              "#ed7953"
             ],
             [
              0.7777777777777778,
              "#fb9f3a"
             ],
             [
              0.8888888888888888,
              "#fdca26"
             ],
             [
              1,
              "#f0f921"
             ]
            ],
            "type": "histogram2d"
           }
          ],
          "histogram2dcontour": [
           {
            "colorbar": {
             "outlinewidth": 0,
             "ticks": ""
            },
            "colorscale": [
             [
              0,
              "#0d0887"
             ],
             [
              0.1111111111111111,
              "#46039f"
             ],
             [
              0.2222222222222222,
              "#7201a8"
             ],
             [
              0.3333333333333333,
              "#9c179e"
             ],
             [
              0.4444444444444444,
              "#bd3786"
             ],
             [
              0.5555555555555556,
              "#d8576b"
             ],
             [
              0.6666666666666666,
              "#ed7953"
             ],
             [
              0.7777777777777778,
              "#fb9f3a"
             ],
             [
              0.8888888888888888,
              "#fdca26"
             ],
             [
              1,
              "#f0f921"
             ]
            ],
            "type": "histogram2dcontour"
           }
          ],
          "mesh3d": [
           {
            "colorbar": {
             "outlinewidth": 0,
             "ticks": ""
            },
            "type": "mesh3d"
           }
          ],
          "parcoords": [
           {
            "line": {
             "colorbar": {
              "outlinewidth": 0,
              "ticks": ""
             }
            },
            "type": "parcoords"
           }
          ],
          "pie": [
           {
            "automargin": true,
            "type": "pie"
           }
          ],
          "scatter": [
           {
            "fillpattern": {
             "fillmode": "overlay",
             "size": 10,
             "solidity": 0.2
            },
            "type": "scatter"
           }
          ],
          "scatter3d": [
           {
            "line": {
             "colorbar": {
              "outlinewidth": 0,
              "ticks": ""
             }
            },
            "marker": {
             "colorbar": {
              "outlinewidth": 0,
              "ticks": ""
             }
            },
            "type": "scatter3d"
           }
          ],
          "scattercarpet": [
           {
            "marker": {
             "colorbar": {
              "outlinewidth": 0,
              "ticks": ""
             }
            },
            "type": "scattercarpet"
           }
          ],
          "scattergeo": [
           {
            "marker": {
             "colorbar": {
              "outlinewidth": 0,
              "ticks": ""
             }
            },
            "type": "scattergeo"
           }
          ],
          "scattergl": [
           {
            "marker": {
             "colorbar": {
              "outlinewidth": 0,
              "ticks": ""
             }
            },
            "type": "scattergl"
           }
          ],
          "scattermap": [
           {
            "marker": {
             "colorbar": {
              "outlinewidth": 0,
              "ticks": ""
             }
            },
            "type": "scattermap"
           }
          ],
          "scattermapbox": [
           {
            "marker": {
             "colorbar": {
              "outlinewidth": 0,
              "ticks": ""
             }
            },
            "type": "scattermapbox"
           }
          ],
          "scatterpolar": [
           {
            "marker": {
             "colorbar": {
              "outlinewidth": 0,
              "ticks": ""
             }
            },
            "type": "scatterpolar"
           }
          ],
          "scatterpolargl": [
           {
            "marker": {
             "colorbar": {
              "outlinewidth": 0,
              "ticks": ""
             }
            },
            "type": "scatterpolargl"
           }
          ],
          "scatterternary": [
           {
            "marker": {
             "colorbar": {
              "outlinewidth": 0,
              "ticks": ""
             }
            },
            "type": "scatterternary"
           }
          ],
          "surface": [
           {
            "colorbar": {
             "outlinewidth": 0,
             "ticks": ""
            },
            "colorscale": [
             [
              0,
              "#0d0887"
             ],
             [
              0.1111111111111111,
              "#46039f"
             ],
             [
              0.2222222222222222,
              "#7201a8"
             ],
             [
              0.3333333333333333,
              "#9c179e"
             ],
             [
              0.4444444444444444,
              "#bd3786"
             ],
             [
              0.5555555555555556,
              "#d8576b"
             ],
             [
              0.6666666666666666,
              "#ed7953"
             ],
             [
              0.7777777777777778,
              "#fb9f3a"
             ],
             [
              0.8888888888888888,
              "#fdca26"
             ],
             [
              1,
              "#f0f921"
             ]
            ],
            "type": "surface"
           }
          ],
          "table": [
           {
            "cells": {
             "fill": {
              "color": "#EBF0F8"
             },
             "line": {
              "color": "white"
             }
            },
            "header": {
             "fill": {
              "color": "#C8D4E3"
             },
             "line": {
              "color": "white"
             }
            },
            "type": "table"
           }
          ]
         },
         "layout": {
          "annotationdefaults": {
           "arrowcolor": "#2a3f5f",
           "arrowhead": 0,
           "arrowwidth": 1
          },
          "autotypenumbers": "strict",
          "coloraxis": {
           "colorbar": {
            "outlinewidth": 0,
            "ticks": ""
           }
          },
          "colorscale": {
           "diverging": [
            [
             0,
             "#8e0152"
            ],
            [
             0.1,
             "#c51b7d"
            ],
            [
             0.2,
             "#de77ae"
            ],
            [
             0.3,
             "#f1b6da"
            ],
            [
             0.4,
             "#fde0ef"
            ],
            [
             0.5,
             "#f7f7f7"
            ],
            [
             0.6,
             "#e6f5d0"
            ],
            [
             0.7,
             "#b8e186"
            ],
            [
             0.8,
             "#7fbc41"
            ],
            [
             0.9,
             "#4d9221"
            ],
            [
             1,
             "#276419"
            ]
           ],
           "sequential": [
            [
             0,
             "#0d0887"
            ],
            [
             0.1111111111111111,
             "#46039f"
            ],
            [
             0.2222222222222222,
             "#7201a8"
            ],
            [
             0.3333333333333333,
             "#9c179e"
            ],
            [
             0.4444444444444444,
             "#bd3786"
            ],
            [
             0.5555555555555556,
             "#d8576b"
            ],
            [
             0.6666666666666666,
             "#ed7953"
            ],
            [
             0.7777777777777778,
             "#fb9f3a"
            ],
            [
             0.8888888888888888,
             "#fdca26"
            ],
            [
             1,
             "#f0f921"
            ]
           ],
           "sequentialminus": [
            [
             0,
             "#0d0887"
            ],
            [
             0.1111111111111111,
             "#46039f"
            ],
            [
             0.2222222222222222,
             "#7201a8"
            ],
            [
             0.3333333333333333,
             "#9c179e"
            ],
            [
             0.4444444444444444,
             "#bd3786"
            ],
            [
             0.5555555555555556,
             "#d8576b"
            ],
            [
             0.6666666666666666,
             "#ed7953"
            ],
            [
             0.7777777777777778,
             "#fb9f3a"
            ],
            [
             0.8888888888888888,
             "#fdca26"
            ],
            [
             1,
             "#f0f921"
            ]
           ]
          },
          "colorway": [
           "#636efa",
           "#EF553B",
           "#00cc96",
           "#ab63fa",
           "#FFA15A",
           "#19d3f3",
           "#FF6692",
           "#B6E880",
           "#FF97FF",
           "#FECB52"
          ],
          "font": {
           "color": "#2a3f5f"
          },
          "geo": {
           "bgcolor": "white",
           "lakecolor": "white",
           "landcolor": "#E5ECF6",
           "showlakes": true,
           "showland": true,
           "subunitcolor": "white"
          },
          "hoverlabel": {
           "align": "left"
          },
          "hovermode": "closest",
          "mapbox": {
           "style": "light"
          },
          "paper_bgcolor": "white",
          "plot_bgcolor": "#E5ECF6",
          "polar": {
           "angularaxis": {
            "gridcolor": "white",
            "linecolor": "white",
            "ticks": ""
           },
           "bgcolor": "#E5ECF6",
           "radialaxis": {
            "gridcolor": "white",
            "linecolor": "white",
            "ticks": ""
           }
          },
          "scene": {
           "xaxis": {
            "backgroundcolor": "#E5ECF6",
            "gridcolor": "white",
            "gridwidth": 2,
            "linecolor": "white",
            "showbackground": true,
            "ticks": "",
            "zerolinecolor": "white"
           },
           "yaxis": {
            "backgroundcolor": "#E5ECF6",
            "gridcolor": "white",
            "gridwidth": 2,
            "linecolor": "white",
            "showbackground": true,
            "ticks": "",
            "zerolinecolor": "white"
           },
           "zaxis": {
            "backgroundcolor": "#E5ECF6",
            "gridcolor": "white",
            "gridwidth": 2,
            "linecolor": "white",
            "showbackground": true,
            "ticks": "",
            "zerolinecolor": "white"
           }
          },
          "shapedefaults": {
           "line": {
            "color": "#2a3f5f"
           }
          },
          "ternary": {
           "aaxis": {
            "gridcolor": "white",
            "linecolor": "white",
            "ticks": ""
           },
           "baxis": {
            "gridcolor": "white",
            "linecolor": "white",
            "ticks": ""
           },
           "bgcolor": "#E5ECF6",
           "caxis": {
            "gridcolor": "white",
            "linecolor": "white",
            "ticks": ""
           }
          },
          "title": {
           "x": 0.05
          },
          "xaxis": {
           "automargin": true,
           "gridcolor": "white",
           "linecolor": "white",
           "ticks": "",
           "title": {
            "standoff": 15
           },
           "zerolinecolor": "white",
           "zerolinewidth": 2
          },
          "yaxis": {
           "automargin": true,
           "gridcolor": "white",
           "linecolor": "white",
           "ticks": "",
           "title": {
            "standoff": 15
           },
           "zerolinecolor": "white",
           "zerolinewidth": 2
          }
         }
        },
        "title": {
         "text": "Life expectancy vs Happiness Rankings"
        },
        "width": 950,
        "xaxis": {
         "tickvals": [
          "Life expectancy Rank",
          "Happiness Rank"
         ],
         "title": {
          "text": ""
         }
        },
        "yaxis": {
         "autorange": "reversed"
        }
       }
      },
      "text/html": [
       "<div>            <script src=\"https://cdnjs.cloudflare.com/ajax/libs/mathjax/2.7.5/MathJax.js?config=TeX-AMS-MML_SVG\"></script><script type=\"text/javascript\">if (window.MathJax && window.MathJax.Hub && window.MathJax.Hub.Config) {window.MathJax.Hub.Config({SVG: {font: \"STIX-Web\"}});}</script>                <script type=\"text/javascript\">window.PlotlyConfig = {MathJaxConfig: 'local'};</script>\n",
       "        <script charset=\"utf-8\" src=\"https://cdn.plot.ly/plotly-3.0.1.min.js\"></script>                <div id=\"ae8e9a6a-0932-47ed-a835-f843ec07a05d\" class=\"plotly-graph-div\" style=\"height:800px; width:950px;\"></div>            <script type=\"text/javascript\">                window.PLOTLYENV=window.PLOTLYENV || {};                                if (document.getElementById(\"ae8e9a6a-0932-47ed-a835-f843ec07a05d\")) {                    Plotly.newPlot(                        \"ae8e9a6a-0932-47ed-a835-f843ec07a05d\",                        [{\"hoverinfo\":\"text\",\"hovertext\":\"Japan\\u003cbr\\u003eLife expectancy Rank: 1\\u003cbr\\u003eHappiness Rank: 53\\u003cbr\\u003eMismatch: 52\",\"line\":{\"color\":\"#D81B60\",\"width\":2},\"mode\":\"lines+markers\",\"name\":\"Japan\",\"x\":[\"Life expectancy Rank\",\"Happiness Rank\"],\"y\":[1,53],\"type\":\"scatter\"},{\"hoverinfo\":\"text\",\"hovertext\":\"Switzerland\\u003cbr\\u003eLife expectancy Rank: 2\\u003cbr\\u003eHappiness Rank: 6\\u003cbr\\u003eMismatch: 4\",\"line\":{\"color\":\"#1E88E5\",\"width\":2},\"mode\":\"lines+markers\",\"name\":\"Switzerland\",\"x\":[\"Life expectancy Rank\",\"Happiness Rank\"],\"y\":[2,6],\"type\":\"scatter\"},{\"hoverinfo\":\"text\",\"hovertext\":\"Spain\\u003cbr\\u003eLife expectancy Rank: 3\\u003cbr\\u003eHappiness Rank: 28\\u003cbr\\u003eMismatch: 25\",\"line\":{\"color\":\"#D81B60\",\"width\":2},\"mode\":\"lines+markers\",\"name\":\"Spain\",\"x\":[\"Life expectancy Rank\",\"Happiness Rank\"],\"y\":[3,28],\"type\":\"scatter\"},{\"hoverinfo\":\"text\",\"hovertext\":\"Singapore\\u003cbr\\u003eLife expectancy Rank: 4\\u003cbr\\u003eHappiness Rank: 32\\u003cbr\\u003eMismatch: 28\",\"line\":{\"color\":\"#D81B60\",\"width\":2},\"mode\":\"lines+markers\",\"name\":\"Singapore\",\"x\":[\"Life expectancy Rank\",\"Happiness Rank\"],\"y\":[4,32],\"type\":\"scatter\"},{\"hoverinfo\":\"text\",\"hovertext\":\"Italy\\u003cbr\\u003eLife expectancy Rank: 5\\u003cbr\\u003eHappiness Rank: 34\\u003cbr\\u003eMismatch: 29\",\"line\":{\"color\":\"#D81B60\",\"width\":2},\"mode\":\"lines+markers\",\"name\":\"Italy\",\"x\":[\"Life expectancy Rank\",\"Happiness Rank\"],\"y\":[5,34],\"type\":\"scatter\"},{\"hoverinfo\":\"text\",\"hovertext\":\"Iceland\\u003cbr\\u003eLife expectancy Rank: 6\\u003cbr\\u003eHappiness Rank: 4\\u003cbr\\u003eMismatch: 2\",\"line\":{\"color\":\"#1E88E5\",\"width\":2},\"mode\":\"lines+markers\",\"name\":\"Iceland\",\"x\":[\"Life expectancy Rank\",\"Happiness Rank\"],\"y\":[6,4],\"type\":\"scatter\"},{\"hoverinfo\":\"text\",\"hovertext\":\"Sweden\\u003cbr\\u003eLife expectancy Rank: 7\\u003cbr\\u003eHappiness Rank: 7\\u003cbr\\u003eMismatch: 0\",\"line\":{\"color\":\"#1E88E5\",\"width\":2},\"mode\":\"lines+markers\",\"name\":\"Sweden\",\"x\":[\"Life expectancy Rank\",\"Happiness Rank\"],\"y\":[7,7],\"type\":\"scatter\"},{\"hoverinfo\":\"text\",\"hovertext\":\"Norway\\u003cbr\\u003eLife expectancy Rank: 8\\u003cbr\\u003eHappiness Rank: 3\\u003cbr\\u003eMismatch: 5\",\"line\":{\"color\":\"#1E88E5\",\"width\":2},\"mode\":\"lines+markers\",\"name\":\"Norway\",\"x\":[\"Life expectancy Rank\",\"Happiness Rank\"],\"y\":[8,3],\"type\":\"scatter\"},{\"hoverinfo\":\"text\",\"hovertext\":\"Qatar\\u003cbr\\u003eLife expectancy Rank: 9\\u003cbr\\u003eHappiness Rank: 27\\u003cbr\\u003eMismatch: 18\",\"line\":{\"color\":\"#D81B60\",\"width\":2},\"mode\":\"lines+markers\",\"name\":\"Qatar\",\"x\":[\"Life expectancy Rank\",\"Happiness Rank\"],\"y\":[9,27],\"type\":\"scatter\"},{\"hoverinfo\":\"text\",\"hovertext\":\"Australia\\u003cbr\\u003eLife expectancy Rank: 10\\u003cbr\\u003eHappiness Rank: 11\\u003cbr\\u003eMismatch: 1\",\"line\":{\"color\":\"#1E88E5\",\"width\":2},\"mode\":\"lines+markers\",\"name\":\"Australia\",\"x\":[\"Life expectancy Rank\",\"Happiness Rank\"],\"y\":[10,11],\"type\":\"scatter\"},{\"hoverinfo\":\"text\",\"hovertext\":\"France\\u003cbr\\u003eLife expectancy Rank: 11\\u003cbr\\u003eHappiness Rank: 23\\u003cbr\\u003eMismatch: 12\",\"line\":{\"color\":\"#1E88E5\",\"width\":2},\"mode\":\"lines+markers\",\"name\":\"France\",\"x\":[\"Life expectancy Rank\",\"Happiness Rank\"],\"y\":[11,23],\"type\":\"scatter\"},{\"hoverinfo\":\"text\",\"hovertext\":\"Israel\\u003cbr\\u003eLife expectancy Rank: 12\\u003cbr\\u003eHappiness Rank: 13\\u003cbr\\u003eMismatch: 1\",\"line\":{\"color\":\"#1E88E5\",\"width\":2},\"mode\":\"lines+markers\",\"name\":\"Israel\",\"x\":[\"Life expectancy Rank\",\"Happiness Rank\"],\"y\":[12,13],\"type\":\"scatter\"},{\"hoverinfo\":\"text\",\"hovertext\":\"Ireland\\u003cbr\\u003eLife expectancy Rank: 13\\u003cbr\\u003eHappiness Rank: 16\\u003cbr\\u003eMismatch: 3\",\"line\":{\"color\":\"#1E88E5\",\"width\":2},\"mode\":\"lines+markers\",\"name\":\"Ireland\",\"x\":[\"Life expectancy Rank\",\"Happiness Rank\"],\"y\":[13,16],\"type\":\"scatter\"},{\"hoverinfo\":\"text\",\"hovertext\":\"Malta\\u003cbr\\u003eLife expectancy Rank: 14\\u003cbr\\u003eHappiness Rank: 21\\u003cbr\\u003eMismatch: 7\",\"line\":{\"color\":\"#1E88E5\",\"width\":2},\"mode\":\"lines+markers\",\"name\":\"Malta\",\"x\":[\"Life expectancy Rank\",\"Happiness Rank\"],\"y\":[14,21],\"type\":\"scatter\"},{\"hoverinfo\":\"text\",\"hovertext\":\"Luxembourg\\u003cbr\\u003eLife expectancy Rank: 15\\u003cbr\\u003eHappiness Rank: 14\\u003cbr\\u003eMismatch: 1\",\"line\":{\"color\":\"#1E88E5\",\"width\":2},\"mode\":\"lines+markers\",\"name\":\"Luxembourg\",\"x\":[\"Life expectancy Rank\",\"Happiness Rank\"],\"y\":[15,14],\"type\":\"scatter\"},{\"hoverinfo\":\"text\",\"hovertext\":\"United Arab Emirates\\u003cbr\\u003eLife expectancy Rank: 16\\u003cbr\\u003eHappiness Rank: 20\\u003cbr\\u003eMismatch: 4\",\"line\":{\"color\":\"#1E88E5\",\"width\":2},\"mode\":\"lines+markers\",\"name\":\"United Arab Emirates\",\"x\":[\"Life expectancy Rank\",\"Happiness Rank\"],\"y\":[16,20],\"type\":\"scatter\"},{\"hoverinfo\":\"text\",\"hovertext\":\"Canada\\u003cbr\\u003eLife expectancy Rank: 17\\u003cbr\\u003eHappiness Rank: 9\\u003cbr\\u003eMismatch: 8\",\"line\":{\"color\":\"#1E88E5\",\"width\":2},\"mode\":\"lines+markers\",\"name\":\"Canada\",\"x\":[\"Life expectancy Rank\",\"Happiness Rank\"],\"y\":[17,9],\"type\":\"scatter\"},{\"hoverinfo\":\"text\",\"hovertext\":\"Netherlands\\u003cbr\\u003eLife expectancy Rank: 18\\u003cbr\\u003eHappiness Rank: 5\\u003cbr\\u003eMismatch: 13\",\"line\":{\"color\":\"#1E88E5\",\"width\":2},\"mode\":\"lines+markers\",\"name\":\"Netherlands\",\"x\":[\"Life expectancy Rank\",\"Happiness Rank\"],\"y\":[18,5],\"type\":\"scatter\"},{\"hoverinfo\":\"text\",\"hovertext\":\"New Zealand\\u003cbr\\u003eLife expectancy Rank: 19\\u003cbr\\u003eHappiness Rank: 8\\u003cbr\\u003eMismatch: 11\",\"line\":{\"color\":\"#1E88E5\",\"width\":2},\"mode\":\"lines+markers\",\"name\":\"New Zealand\",\"x\":[\"Life expectancy Rank\",\"Happiness Rank\"],\"y\":[19,8],\"type\":\"scatter\"},{\"hoverinfo\":\"text\",\"hovertext\":\"Belgium\\u003cbr\\u003eLife expectancy Rank: 20\\u003cbr\\u003eHappiness Rank: 18\\u003cbr\\u003eMismatch: 2\",\"line\":{\"color\":\"#1E88E5\",\"width\":2},\"mode\":\"lines+markers\",\"name\":\"Belgium\",\"x\":[\"Life expectancy Rank\",\"Happiness Rank\"],\"y\":[20,18],\"type\":\"scatter\"},{\"hoverinfo\":\"text\",\"hovertext\":\"Finland\\u003cbr\\u003eLife expectancy Rank: 21\\u003cbr\\u003eHappiness Rank: 1\\u003cbr\\u003eMismatch: 20\",\"line\":{\"color\":\"#D81B60\",\"width\":2},\"mode\":\"lines+markers\",\"name\":\"Finland\",\"x\":[\"Life expectancy Rank\",\"Happiness Rank\"],\"y\":[21,1],\"type\":\"scatter\"},{\"hoverinfo\":\"text\",\"hovertext\":\"Kuwait\\u003cbr\\u003eLife expectancy Rank: 22\\u003cbr\\u003eHappiness Rank: 47\\u003cbr\\u003eMismatch: 25\",\"line\":{\"color\":\"#D81B60\",\"width\":2},\"mode\":\"lines+markers\",\"name\":\"Kuwait\",\"x\":[\"Life expectancy Rank\",\"Happiness Rank\"],\"y\":[22,47],\"type\":\"scatter\"},{\"hoverinfo\":\"text\",\"hovertext\":\"Austria\\u003cbr\\u003eLife expectancy Rank: 23\\u003cbr\\u003eHappiness Rank: 10\\u003cbr\\u003eMismatch: 13\",\"line\":{\"color\":\"#1E88E5\",\"width\":2},\"mode\":\"lines+markers\",\"name\":\"Austria\",\"x\":[\"Life expectancy Rank\",\"Happiness Rank\"],\"y\":[23,10],\"type\":\"scatter\"},{\"hoverinfo\":\"text\",\"hovertext\":\"Portugal\\u003cbr\\u003eLife expectancy Rank: 24\\u003cbr\\u003eHappiness Rank: 60\\u003cbr\\u003eMismatch: 36\",\"line\":{\"color\":\"#D81B60\",\"width\":2},\"mode\":\"lines+markers\",\"name\":\"Portugal\",\"x\":[\"Life expectancy Rank\",\"Happiness Rank\"],\"y\":[24,60],\"type\":\"scatter\"},{\"hoverinfo\":\"text\",\"hovertext\":\"Greece\\u003cbr\\u003eLife expectancy Rank: 25\\u003cbr\\u003eHappiness Rank: 73\\u003cbr\\u003eMismatch: 48\",\"line\":{\"color\":\"#D81B60\",\"width\":2},\"mode\":\"lines+markers\",\"name\":\"Greece\",\"x\":[\"Life expectancy Rank\",\"Happiness Rank\"],\"y\":[25,73],\"type\":\"scatter\"},{\"hoverinfo\":\"text\",\"hovertext\":\"Slovenia\\u003cbr\\u003eLife expectancy Rank: 26\\u003cbr\\u003eHappiness Rank: 40\\u003cbr\\u003eMismatch: 14\",\"line\":{\"color\":\"#1E88E5\",\"width\":2},\"mode\":\"lines+markers\",\"name\":\"Slovenia\",\"x\":[\"Life expectancy Rank\",\"Happiness Rank\"],\"y\":[26,40],\"type\":\"scatter\"},{\"hoverinfo\":\"text\",\"hovertext\":\"Cyprus\\u003cbr\\u003eLife expectancy Rank: 27\\u003cbr\\u003eHappiness Rank: 45\\u003cbr\\u003eMismatch: 18\",\"line\":{\"color\":\"#D81B60\",\"width\":2},\"mode\":\"lines+markers\",\"name\":\"Cyprus\",\"x\":[\"Life expectancy Rank\",\"Happiness Rank\"],\"y\":[27,45],\"type\":\"scatter\"},{\"hoverinfo\":\"text\",\"hovertext\":\"Denmark\\u003cbr\\u003eLife expectancy Rank: 28\\u003cbr\\u003eHappiness Rank: 2\\u003cbr\\u003eMismatch: 26\",\"line\":{\"color\":\"#D81B60\",\"width\":2},\"mode\":\"lines+markers\",\"name\":\"Denmark\",\"x\":[\"Life expectancy Rank\",\"Happiness Rank\"],\"y\":[28,2],\"type\":\"scatter\"},{\"hoverinfo\":\"text\",\"hovertext\":\"United Kingdom\\u003cbr\\u003eLife expectancy Rank: 29\\u003cbr\\u003eHappiness Rank: 15\\u003cbr\\u003eMismatch: 14\",\"line\":{\"color\":\"#1E88E5\",\"width\":2},\"mode\":\"lines+markers\",\"name\":\"United Kingdom\",\"x\":[\"Life expectancy Rank\",\"Happiness Rank\"],\"y\":[29,15],\"type\":\"scatter\"},{\"hoverinfo\":\"text\",\"hovertext\":\"Germany\\u003cbr\\u003eLife expectancy Rank: 30\\u003cbr\\u003eHappiness Rank: 17\\u003cbr\\u003eMismatch: 13\",\"line\":{\"color\":\"#1E88E5\",\"width\":2},\"mode\":\"lines+markers\",\"name\":\"Germany\",\"x\":[\"Life expectancy Rank\",\"Happiness Rank\"],\"y\":[30,17],\"type\":\"scatter\"},{\"hoverinfo\":\"text\",\"hovertext\":\"Bahrain\\u003cbr\\u003eLife expectancy Rank: 31\\u003cbr\\u003eHappiness Rank: 35\\u003cbr\\u003eMismatch: 4\",\"line\":{\"color\":\"#1E88E5\",\"width\":2},\"mode\":\"lines+markers\",\"name\":\"Bahrain\",\"x\":[\"Life expectancy Rank\",\"Happiness Rank\"],\"y\":[31,35],\"type\":\"scatter\"},{\"hoverinfo\":\"text\",\"hovertext\":\"Chile\\u003cbr\\u003eLife expectancy Rank: 32\\u003cbr\\u003eHappiness Rank: 24\\u003cbr\\u003eMismatch: 8\",\"line\":{\"color\":\"#1E88E5\",\"width\":2},\"mode\":\"lines+markers\",\"name\":\"Chile\",\"x\":[\"Life expectancy Rank\",\"Happiness Rank\"],\"y\":[32,24],\"type\":\"scatter\"},{\"hoverinfo\":\"text\",\"hovertext\":\"Costa Rica\\u003cbr\\u003eLife expectancy Rank: 33\\u003cbr\\u003eHappiness Rank: 12\\u003cbr\\u003eMismatch: 21\",\"line\":{\"color\":\"#D81B60\",\"width\":2},\"mode\":\"lines+markers\",\"name\":\"Costa Rica\",\"x\":[\"Life expectancy Rank\",\"Happiness Rank\"],\"y\":[33,12],\"type\":\"scatter\"},{\"hoverinfo\":\"text\",\"hovertext\":\"Albania\\u003cbr\\u003eLife expectancy Rank: 34\\u003cbr\\u003eHappiness Rank: 93\\u003cbr\\u003eMismatch: 59\",\"line\":{\"color\":\"#D81B60\",\"width\":2},\"mode\":\"lines+markers\",\"name\":\"Albania\",\"x\":[\"Life expectancy Rank\",\"Happiness Rank\"],\"y\":[34,93],\"type\":\"scatter\"},{\"hoverinfo\":\"text\",\"hovertext\":\"United States\\u003cbr\\u003eLife expectancy Rank: 35\\u003cbr\\u003eHappiness Rank: 19\\u003cbr\\u003eMismatch: 16\",\"line\":{\"color\":\"#D81B60\",\"width\":2},\"mode\":\"lines+markers\",\"name\":\"United States\",\"x\":[\"Life expectancy Rank\",\"Happiness Rank\"],\"y\":[35,19],\"type\":\"scatter\"},{\"hoverinfo\":\"text\",\"hovertext\":\"Estonia\\u003cbr\\u003eLife expectancy Rank: 36\\u003cbr\\u003eHappiness Rank: 50\\u003cbr\\u003eMismatch: 14\",\"line\":{\"color\":\"#1E88E5\",\"width\":2},\"mode\":\"lines+markers\",\"name\":\"Estonia\",\"x\":[\"Life expectancy Rank\",\"Happiness Rank\"],\"y\":[36,50],\"type\":\"scatter\"},{\"hoverinfo\":\"text\",\"hovertext\":\"Panama\\u003cbr\\u003eLife expectancy Rank: 37\\u003cbr\\u003eHappiness Rank: 29\\u003cbr\\u003eMismatch: 8\",\"line\":{\"color\":\"#1E88E5\",\"width\":2},\"mode\":\"lines+markers\",\"name\":\"Panama\",\"x\":[\"Life expectancy Rank\",\"Happiness Rank\"],\"y\":[37,29],\"type\":\"scatter\"},{\"hoverinfo\":\"text\",\"hovertext\":\"Saudi Arabia\\u003cbr\\u003eLife expectancy Rank: 38\\u003cbr\\u003eHappiness Rank: 26\\u003cbr\\u003eMismatch: 12\",\"line\":{\"color\":\"#1E88E5\",\"width\":2},\"mode\":\"lines+markers\",\"name\":\"Saudi Arabia\",\"x\":[\"Life expectancy Rank\",\"Happiness Rank\"],\"y\":[38,26],\"type\":\"scatter\"},{\"hoverinfo\":\"text\",\"hovertext\":\"Croatia\\u003cbr\\u003eLife expectancy Rank: 39\\u003cbr\\u003eHappiness Rank: 68\\u003cbr\\u003eMismatch: 29\",\"line\":{\"color\":\"#D81B60\",\"width\":2},\"mode\":\"lines+markers\",\"name\":\"Croatia\",\"x\":[\"Life expectancy Rank\",\"Happiness Rank\"],\"y\":[39,68],\"type\":\"scatter\"},{\"hoverinfo\":\"text\",\"hovertext\":\"Lebanon\\u003cbr\\u003eLife expectancy Rank: 40\\u003cbr\\u003eHappiness Rank: 81\\u003cbr\\u003eMismatch: 41\",\"line\":{\"color\":\"#D81B60\",\"width\":2},\"mode\":\"lines+markers\",\"name\":\"Lebanon\",\"x\":[\"Life expectancy Rank\",\"Happiness Rank\"],\"y\":[40,81],\"type\":\"scatter\"},{\"hoverinfo\":\"text\",\"hovertext\":\"China\\u003cbr\\u003eLife expectancy Rank: 41\\u003cbr\\u003eHappiness Rank: 83\\u003cbr\\u003eMismatch: 42\",\"line\":{\"color\":\"#D81B60\",\"width\":2},\"mode\":\"lines+markers\",\"name\":\"China\",\"x\":[\"Life expectancy Rank\",\"Happiness Rank\"],\"y\":[41,83],\"type\":\"scatter\"},{\"hoverinfo\":\"text\",\"hovertext\":\"Poland\\u003cbr\\u003eLife expectancy Rank: 42\\u003cbr\\u003eHappiness Rank: 36\\u003cbr\\u003eMismatch: 6\",\"line\":{\"color\":\"#1E88E5\",\"width\":2},\"mode\":\"lines+markers\",\"name\":\"Poland\",\"x\":[\"Life expectancy Rank\",\"Happiness Rank\"],\"y\":[42,36],\"type\":\"scatter\"},{\"hoverinfo\":\"text\",\"hovertext\":\"Uruguay\\u003cbr\\u003eLife expectancy Rank: 43\\u003cbr\\u003eHappiness Rank: 31\\u003cbr\\u003eMismatch: 12\",\"line\":{\"color\":\"#1E88E5\",\"width\":2},\"mode\":\"lines+markers\",\"name\":\"Uruguay\",\"x\":[\"Life expectancy Rank\",\"Happiness Rank\"],\"y\":[43,31],\"type\":\"scatter\"},{\"hoverinfo\":\"text\",\"hovertext\":\"Bosnia and Herzegovina\\u003cbr\\u003eLife expectancy Rank: 44\\u003cbr\\u003eHappiness Rank: 70\\u003cbr\\u003eMismatch: 26\",\"line\":{\"color\":\"#D81B60\",\"width\":2},\"mode\":\"lines+markers\",\"name\":\"Bosnia and Herzegovina\",\"x\":[\"Life expectancy Rank\",\"Happiness Rank\"],\"y\":[44,70],\"type\":\"scatter\"},{\"hoverinfo\":\"text\",\"hovertext\":\"Ecuador\\u003cbr\\u003eLife expectancy Rank: 45\\u003cbr\\u003eHappiness Rank: 46\\u003cbr\\u003eMismatch: 1\",\"line\":{\"color\":\"#1E88E5\",\"width\":2},\"mode\":\"lines+markers\",\"name\":\"Ecuador\",\"x\":[\"Life expectancy Rank\",\"Happiness Rank\"],\"y\":[45,46],\"type\":\"scatter\"},{\"hoverinfo\":\"text\",\"hovertext\":\"Kosovo\\u003cbr\\u003eLife expectancy Rank: 46\\u003cbr\\u003eHappiness Rank: 42\\u003cbr\\u003eMismatch: 4\",\"line\":{\"color\":\"#1E88E5\",\"width\":2},\"mode\":\"lines+markers\",\"name\":\"Kosovo\",\"x\":[\"Life expectancy Rank\",\"Happiness Rank\"],\"y\":[46,42],\"type\":\"scatter\"},{\"hoverinfo\":\"text\",\"hovertext\":\"Thailand\\u003cbr\\u003eLife expectancy Rank: 47\\u003cbr\\u003eHappiness Rank: 48\\u003cbr\\u003eMismatch: 1\",\"line\":{\"color\":\"#1E88E5\",\"width\":2},\"mode\":\"lines+markers\",\"name\":\"Thailand\",\"x\":[\"Life expectancy Rank\",\"Happiness Rank\"],\"y\":[47,48],\"type\":\"scatter\"},{\"hoverinfo\":\"text\",\"hovertext\":\"Jordan\\u003cbr\\u003eLife expectancy Rank: 48\\u003cbr\\u003eHappiness Rank: 89\\u003cbr\\u003eMismatch: 41\",\"line\":{\"color\":\"#D81B60\",\"width\":2},\"mode\":\"lines+markers\",\"name\":\"Jordan\",\"x\":[\"Life expectancy Rank\",\"Happiness Rank\"],\"y\":[48,89],\"type\":\"scatter\"},{\"hoverinfo\":\"text\",\"hovertext\":\"Argentina\\u003cbr\\u003eLife expectancy Rank: 49\\u003cbr\\u003eHappiness Rank: 43\\u003cbr\\u003eMismatch: 6\",\"line\":{\"color\":\"#1E88E5\",\"width\":2},\"mode\":\"lines+markers\",\"name\":\"Argentina\",\"x\":[\"Life expectancy Rank\",\"Happiness Rank\"],\"y\":[49,43],\"type\":\"scatter\"},{\"hoverinfo\":\"text\",\"hovertext\":\"Colombia\\u003cbr\\u003eLife expectancy Rank: 50\\u003cbr\\u003eHappiness Rank: 39\\u003cbr\\u003eMismatch: 11\",\"line\":{\"color\":\"#1E88E5\",\"width\":2},\"mode\":\"lines+markers\",\"name\":\"Colombia\",\"x\":[\"Life expectancy Rank\",\"Happiness Rank\"],\"y\":[50,39],\"type\":\"scatter\"},{\"hoverinfo\":\"text\",\"hovertext\":\"Sri Lanka\\u003cbr\\u003eLife expectancy Rank: 51\\u003cbr\\u003eHappiness Rank: 111\\u003cbr\\u003eMismatch: 60\",\"line\":{\"color\":\"#D81B60\",\"width\":2},\"mode\":\"lines+markers\",\"name\":\"Sri Lanka\",\"x\":[\"Life expectancy Rank\",\"Happiness Rank\"],\"y\":[51,111],\"type\":\"scatter\"},{\"hoverinfo\":\"text\",\"hovertext\":\"Montenegro\\u003cbr\\u003eLife expectancy Rank: 52\\u003cbr\\u003eHappiness Rank: 66\\u003cbr\\u003eMismatch: 14\",\"line\":{\"color\":\"#1E88E5\",\"width\":2},\"mode\":\"lines+markers\",\"name\":\"Montenegro\",\"x\":[\"Life expectancy Rank\",\"Happiness Rank\"],\"y\":[52,66],\"type\":\"scatter\"},{\"hoverinfo\":\"text\",\"hovertext\":\"North Macedonia\\u003cbr\\u003eLife expectancy Rank: 53\\u003cbr\\u003eHappiness Rank: 75\\u003cbr\\u003eMismatch: 22\",\"line\":{\"color\":\"#D81B60\",\"width\":2},\"mode\":\"lines+markers\",\"name\":\"North Macedonia\",\"x\":[\"Life expectancy Rank\",\"Happiness Rank\"],\"y\":[53,75],\"type\":\"scatter\"},{\"hoverinfo\":\"text\",\"hovertext\":\"Hungary\\u003cbr\\u003eLife expectancy Rank: 54\\u003cbr\\u003eHappiness Rank: 57\\u003cbr\\u003eMismatch: 3\",\"line\":{\"color\":\"#1E88E5\",\"width\":2},\"mode\":\"lines+markers\",\"name\":\"Hungary\",\"x\":[\"Life expectancy Rank\",\"Happiness Rank\"],\"y\":[54,57],\"type\":\"scatter\"},{\"hoverinfo\":\"text\",\"hovertext\":\"Lithuania\\u003cbr\\u003eLife expectancy Rank: 55\\u003cbr\\u003eHappiness Rank: 38\\u003cbr\\u003eMismatch: 17\",\"line\":{\"color\":\"#D81B60\",\"width\":2},\"mode\":\"lines+markers\",\"name\":\"Lithuania\",\"x\":[\"Life expectancy Rank\",\"Happiness Rank\"],\"y\":[55,38],\"type\":\"scatter\"},{\"hoverinfo\":\"text\",\"hovertext\":\"Peru\\u003cbr\\u003eLife expectancy Rank: 56\\u003cbr\\u003eHappiness Rank: 59\\u003cbr\\u003eMismatch: 3\",\"line\":{\"color\":\"#1E88E5\",\"width\":2},\"mode\":\"lines+markers\",\"name\":\"Peru\",\"x\":[\"Life expectancy Rank\",\"Happiness Rank\"],\"y\":[56,59],\"type\":\"scatter\"},{\"hoverinfo\":\"text\",\"hovertext\":\"Armenia\\u003cbr\\u003eLife expectancy Rank: 57\\u003cbr\\u003eHappiness Rank: 100\\u003cbr\\u003eMismatch: 43\",\"line\":{\"color\":\"#D81B60\",\"width\":2},\"mode\":\"lines+markers\",\"name\":\"Armenia\",\"x\":[\"Life expectancy Rank\",\"Happiness Rank\"],\"y\":[57,100],\"type\":\"scatter\"},{\"hoverinfo\":\"text\",\"hovertext\":\"Serbia\\u003cbr\\u003eLife expectancy Rank: 58\\u003cbr\\u003eHappiness Rank: 63\\u003cbr\\u003eMismatch: 5\",\"line\":{\"color\":\"#1E88E5\",\"width\":2},\"mode\":\"lines+markers\",\"name\":\"Serbia\",\"x\":[\"Life expectancy Rank\",\"Happiness Rank\"],\"y\":[58,63],\"type\":\"scatter\"},{\"hoverinfo\":\"text\",\"hovertext\":\"Malaysia\\u003cbr\\u003eLife expectancy Rank: 59\\u003cbr\\u003eHappiness Rank: 71\\u003cbr\\u003eMismatch: 12\",\"line\":{\"color\":\"#1E88E5\",\"width\":2},\"mode\":\"lines+markers\",\"name\":\"Malaysia\",\"x\":[\"Life expectancy Rank\",\"Happiness Rank\"],\"y\":[59,71],\"type\":\"scatter\"},{\"hoverinfo\":\"text\",\"hovertext\":\"Brazil\\u003cbr\\u003eLife expectancy Rank: 60\\u003cbr\\u003eHappiness Rank: 30\\u003cbr\\u003eMismatch: 30\",\"line\":{\"color\":\"#D81B60\",\"width\":2},\"mode\":\"lines+markers\",\"name\":\"Brazil\",\"x\":[\"Life expectancy Rank\",\"Happiness Rank\"],\"y\":[60,30],\"type\":\"scatter\"},{\"hoverinfo\":\"text\",\"hovertext\":\"Algeria\\u003cbr\\u003eLife expectancy Rank: 61\\u003cbr\\u003eHappiness Rank: 78\\u003cbr\\u003eMismatch: 17\",\"line\":{\"color\":\"#D81B60\",\"width\":2},\"mode\":\"lines+markers\",\"name\":\"Algeria\",\"x\":[\"Life expectancy Rank\",\"Happiness Rank\"],\"y\":[61,78],\"type\":\"scatter\"},{\"hoverinfo\":\"text\",\"hovertext\":\"Romania\\u003cbr\\u003eLife expectancy Rank: 62\\u003cbr\\u003eHappiness Rank: 44\\u003cbr\\u003eMismatch: 18\",\"line\":{\"color\":\"#D81B60\",\"width\":2},\"mode\":\"lines+markers\",\"name\":\"Romania\",\"x\":[\"Life expectancy Rank\",\"Happiness Rank\"],\"y\":[62,44],\"type\":\"scatter\"},{\"hoverinfo\":\"text\",\"hovertext\":\"Tunisia\\u003cbr\\u003eLife expectancy Rank: 63\\u003cbr\\u003eHappiness Rank: 106\\u003cbr\\u003eMismatch: 43\",\"line\":{\"color\":\"#D81B60\",\"width\":2},\"mode\":\"lines+markers\",\"name\":\"Tunisia\",\"x\":[\"Life expectancy Rank\",\"Happiness Rank\"],\"y\":[63,106],\"type\":\"scatter\"},{\"hoverinfo\":\"text\",\"hovertext\":\"Latvia\\u003cbr\\u003eLife expectancy Rank: 64\\u003cbr\\u003eHappiness Rank: 49\\u003cbr\\u003eMismatch: 15\",\"line\":{\"color\":\"#1E88E5\",\"width\":2},\"mode\":\"lines+markers\",\"name\":\"Latvia\",\"x\":[\"Life expectancy Rank\",\"Happiness Rank\"],\"y\":[64,49],\"type\":\"scatter\"},{\"hoverinfo\":\"text\",\"hovertext\":\"Bulgaria\\u003cbr\\u003eLife expectancy Rank: 65\\u003cbr\\u003eHappiness Rank: 86\\u003cbr\\u003eMismatch: 21\",\"line\":{\"color\":\"#D81B60\",\"width\":2},\"mode\":\"lines+markers\",\"name\":\"Bulgaria\",\"x\":[\"Life expectancy Rank\",\"Happiness Rank\"],\"y\":[65,86],\"type\":\"scatter\"},{\"hoverinfo\":\"text\",\"hovertext\":\"Mexico\\u003cbr\\u003eLife expectancy Rank: 66\\u003cbr\\u003eHappiness Rank: 22\\u003cbr\\u003eMismatch: 44\",\"line\":{\"color\":\"#D81B60\",\"width\":2},\"mode\":\"lines+markers\",\"name\":\"Mexico\",\"x\":[\"Life expectancy Rank\",\"Happiness Rank\"],\"y\":[66,22],\"type\":\"scatter\"},{\"hoverinfo\":\"text\",\"hovertext\":\"Morocco\\u003cbr\\u003eLife expectancy Rank: 67\\u003cbr\\u003eHappiness Rank: 79\\u003cbr\\u003eMismatch: 12\",\"line\":{\"color\":\"#1E88E5\",\"width\":2},\"mode\":\"lines+markers\",\"name\":\"Morocco\",\"x\":[\"Life expectancy Rank\",\"Happiness Rank\"],\"y\":[67,79],\"type\":\"scatter\"},{\"hoverinfo\":\"text\",\"hovertext\":\"Mauritius\\u003cbr\\u003eLife expectancy Rank: 68\\u003cbr\\u003eHappiness Rank: 52\\u003cbr\\u003eMismatch: 16\",\"line\":{\"color\":\"#D81B60\",\"width\":2},\"mode\":\"lines+markers\",\"name\":\"Mauritius\",\"x\":[\"Life expectancy Rank\",\"Happiness Rank\"],\"y\":[68,52],\"type\":\"scatter\"},{\"hoverinfo\":\"text\",\"hovertext\":\"Belarus\\u003cbr\\u003eLife expectancy Rank: 69\\u003cbr\\u003eHappiness Rank: 72\\u003cbr\\u003eMismatch: 3\",\"line\":{\"color\":\"#1E88E5\",\"width\":2},\"mode\":\"lines+markers\",\"name\":\"Belarus\",\"x\":[\"Life expectancy Rank\",\"Happiness Rank\"],\"y\":[69,72],\"type\":\"scatter\"},{\"hoverinfo\":\"text\",\"hovertext\":\"Georgia\\u003cbr\\u003eLife expectancy Rank: 70\\u003cbr\\u003eHappiness Rank: 102\\u003cbr\\u003eMismatch: 32\",\"line\":{\"color\":\"#D81B60\",\"width\":2},\"mode\":\"lines+markers\",\"name\":\"Georgia\",\"x\":[\"Life expectancy Rank\",\"Happiness Rank\"],\"y\":[70,102],\"type\":\"scatter\"},{\"hoverinfo\":\"text\",\"hovertext\":\"Ukraine\\u003cbr\\u003eLife expectancy Rank: 71\\u003cbr\\u003eHappiness Rank: 114\\u003cbr\\u003eMismatch: 43\",\"line\":{\"color\":\"#D81B60\",\"width\":2},\"mode\":\"lines+markers\",\"name\":\"Ukraine\",\"x\":[\"Life expectancy Rank\",\"Happiness Rank\"],\"y\":[71,114],\"type\":\"scatter\"},{\"hoverinfo\":\"text\",\"hovertext\":\"Nicaragua\\u003cbr\\u003eLife expectancy Rank: 72\\u003cbr\\u003eHappiness Rank: 41\\u003cbr\\u003eMismatch: 31\",\"line\":{\"color\":\"#D81B60\",\"width\":2},\"mode\":\"lines+markers\",\"name\":\"Nicaragua\",\"x\":[\"Life expectancy Rank\",\"Happiness Rank\"],\"y\":[72,41],\"type\":\"scatter\"},{\"hoverinfo\":\"text\",\"hovertext\":\"Paraguay\\u003cbr\\u003eLife expectancy Rank: 73\\u003cbr\\u003eHappiness Rank: 58\\u003cbr\\u003eMismatch: 15\",\"line\":{\"color\":\"#1E88E5\",\"width\":2},\"mode\":\"lines+markers\",\"name\":\"Paraguay\",\"x\":[\"Life expectancy Rank\",\"Happiness Rank\"],\"y\":[73,58],\"type\":\"scatter\"},{\"hoverinfo\":\"text\",\"hovertext\":\"Kazakhstan\\u003cbr\\u003eLife expectancy Rank: 74\\u003cbr\\u003eHappiness Rank: 55\\u003cbr\\u003eMismatch: 19\",\"line\":{\"color\":\"#D81B60\",\"width\":2},\"mode\":\"lines+markers\",\"name\":\"Kazakhstan\",\"x\":[\"Life expectancy Rank\",\"Happiness Rank\"],\"y\":[74,55],\"type\":\"scatter\"},{\"hoverinfo\":\"text\",\"hovertext\":\"Azerbaijan\\u003cbr\\u003eLife expectancy Rank: 75\\u003cbr\\u003eHappiness Rank: 79\\u003cbr\\u003eMismatch: 4\",\"line\":{\"color\":\"#1E88E5\",\"width\":2},\"mode\":\"lines+markers\",\"name\":\"Azerbaijan\",\"x\":[\"Life expectancy Rank\",\"Happiness Rank\"],\"y\":[75,79],\"type\":\"scatter\"},{\"hoverinfo\":\"text\",\"hovertext\":\"Dominican Republic\\u003cbr\\u003eLife expectancy Rank: 76\\u003cbr\\u003eHappiness Rank: 69\\u003cbr\\u003eMismatch: 7\",\"line\":{\"color\":\"#1E88E5\",\"width\":2},\"mode\":\"lines+markers\",\"name\":\"Dominican Republic\",\"x\":[\"Life expectancy Rank\",\"Happiness Rank\"],\"y\":[76,69],\"type\":\"scatter\"},{\"hoverinfo\":\"text\",\"hovertext\":\"Libya\\u003cbr\\u003eLife expectancy Rank: 77\\u003cbr\\u003eHappiness Rank: 65\\u003cbr\\u003eMismatch: 12\",\"line\":{\"color\":\"#1E88E5\",\"width\":2},\"mode\":\"lines+markers\",\"name\":\"Libya\",\"x\":[\"Life expectancy Rank\",\"Happiness Rank\"],\"y\":[77,65],\"type\":\"scatter\"},{\"hoverinfo\":\"text\",\"hovertext\":\"Bangladesh\\u003cbr\\u003eLife expectancy Rank: 78\\u003cbr\\u003eHappiness Rank: 107\\u003cbr\\u003eMismatch: 29\",\"line\":{\"color\":\"#D81B60\",\"width\":2},\"mode\":\"lines+markers\",\"name\":\"Bangladesh\",\"x\":[\"Life expectancy Rank\",\"Happiness Rank\"],\"y\":[78,107],\"type\":\"scatter\"},{\"hoverinfo\":\"text\",\"hovertext\":\"Honduras\\u003cbr\\u003eLife expectancy Rank: 79\\u003cbr\\u003eHappiness Rank: 54\\u003cbr\\u003eMismatch: 25\",\"line\":{\"color\":\"#D81B60\",\"width\":2},\"mode\":\"lines+markers\",\"name\":\"Honduras\",\"x\":[\"Life expectancy Rank\",\"Happiness Rank\"],\"y\":[79,54],\"type\":\"scatter\"},{\"hoverinfo\":\"text\",\"hovertext\":\"Uzbekistan\\u003cbr\\u003eLife expectancy Rank: 80\\u003cbr\\u003eHappiness Rank: 37\\u003cbr\\u003eMismatch: 43\",\"line\":{\"color\":\"#D81B60\",\"width\":2},\"mode\":\"lines+markers\",\"name\":\"Uzbekistan\",\"x\":[\"Life expectancy Rank\",\"Happiness Rank\"],\"y\":[80,37],\"type\":\"scatter\"},{\"hoverinfo\":\"text\",\"hovertext\":\"Bhutan\\u003cbr\\u003eLife expectancy Rank: 81\\u003cbr\\u003eHappiness Rank: 84\\u003cbr\\u003eMismatch: 3\",\"line\":{\"color\":\"#1E88E5\",\"width\":2},\"mode\":\"lines+markers\",\"name\":\"Bhutan\",\"x\":[\"Life expectancy Rank\",\"Happiness Rank\"],\"y\":[81,84],\"type\":\"scatter\"},{\"hoverinfo\":\"text\",\"hovertext\":\"El Salvador\\u003cbr\\u003eLife expectancy Rank: 82\\u003cbr\\u003eHappiness Rank: 33\\u003cbr\\u003eMismatch: 49\",\"line\":{\"color\":\"#D81B60\",\"width\":2},\"mode\":\"lines+markers\",\"name\":\"El Salvador\",\"x\":[\"Life expectancy Rank\",\"Happiness Rank\"],\"y\":[82,33],\"type\":\"scatter\"},{\"hoverinfo\":\"text\",\"hovertext\":\"Guatemala\\u003cbr\\u003eLife expectancy Rank: 83\\u003cbr\\u003eHappiness Rank: 25\\u003cbr\\u003eMismatch: 58\",\"line\":{\"color\":\"#D81B60\",\"width\":2},\"mode\":\"lines+markers\",\"name\":\"Guatemala\",\"x\":[\"Life expectancy Rank\",\"Happiness Rank\"],\"y\":[83,25],\"type\":\"scatter\"},{\"hoverinfo\":\"text\",\"hovertext\":\"Jamaica\\u003cbr\\u003eLife expectancy Rank: 84\\u003cbr\\u003eHappiness Rank: 51\\u003cbr\\u003eMismatch: 33\",\"line\":{\"color\":\"#D81B60\",\"width\":2},\"mode\":\"lines+markers\",\"name\":\"Jamaica\",\"x\":[\"Life expectancy Rank\",\"Happiness Rank\"],\"y\":[84,51],\"type\":\"scatter\"},{\"hoverinfo\":\"text\",\"hovertext\":\"Iraq\\u003cbr\\u003eLife expectancy Rank: 85\\u003cbr\\u003eHappiness Rank: 108\\u003cbr\\u003eMismatch: 23\",\"line\":{\"color\":\"#D81B60\",\"width\":2},\"mode\":\"lines+markers\",\"name\":\"Iraq\",\"x\":[\"Life expectancy Rank\",\"Happiness Rank\"],\"y\":[85,108],\"type\":\"scatter\"},{\"hoverinfo\":\"text\",\"hovertext\":\"Mongolia\\u003cbr\\u003eLife expectancy Rank: 86\\u003cbr\\u003eHappiness Rank: 74\\u003cbr\\u003eMismatch: 12\",\"line\":{\"color\":\"#1E88E5\",\"width\":2},\"mode\":\"lines+markers\",\"name\":\"Mongolia\",\"x\":[\"Life expectancy Rank\",\"Happiness Rank\"],\"y\":[86,74],\"type\":\"scatter\"},{\"hoverinfo\":\"text\",\"hovertext\":\"Tajikistan\\u003cbr\\u003eLife expectancy Rank: 87\\u003cbr\\u003eHappiness Rank: 67\\u003cbr\\u003eMismatch: 20\",\"line\":{\"color\":\"#D81B60\",\"width\":2},\"mode\":\"lines+markers\",\"name\":\"Tajikistan\",\"x\":[\"Life expectancy Rank\",\"Happiness Rank\"],\"y\":[87,67],\"type\":\"scatter\"},{\"hoverinfo\":\"text\",\"hovertext\":\"India\\u003cbr\\u003eLife expectancy Rank: 88\\u003cbr\\u003eHappiness Rank: 119\\u003cbr\\u003eMismatch: 31\",\"line\":{\"color\":\"#D81B60\",\"width\":2},\"mode\":\"lines+markers\",\"name\":\"India\",\"x\":[\"Life expectancy Rank\",\"Happiness Rank\"],\"y\":[88,119],\"type\":\"scatter\"},{\"hoverinfo\":\"text\",\"hovertext\":\"Indonesia\\u003cbr\\u003eLife expectancy Rank: 89\\u003cbr\\u003eHappiness Rank: 82\\u003cbr\\u003eMismatch: 7\",\"line\":{\"color\":\"#1E88E5\",\"width\":2},\"mode\":\"lines+markers\",\"name\":\"Indonesia\",\"x\":[\"Life expectancy Rank\",\"Happiness Rank\"],\"y\":[89,82],\"type\":\"scatter\"},{\"hoverinfo\":\"text\",\"hovertext\":\"Moldova\\u003cbr\\u003eLife expectancy Rank: 90\\u003cbr\\u003eHappiness Rank: 64\\u003cbr\\u003eMismatch: 26\",\"line\":{\"color\":\"#D81B60\",\"width\":2},\"mode\":\"lines+markers\",\"name\":\"Moldova\",\"x\":[\"Life expectancy Rank\",\"Happiness Rank\"],\"y\":[90,64],\"type\":\"scatter\"},{\"hoverinfo\":\"text\",\"hovertext\":\"Cambodia\\u003cbr\\u003eLife expectancy Rank: 91\\u003cbr\\u003eHappiness Rank: 94\\u003cbr\\u003eMismatch: 3\",\"line\":{\"color\":\"#1E88E5\",\"width\":2},\"mode\":\"lines+markers\",\"name\":\"Cambodia\",\"x\":[\"Life expectancy Rank\",\"Happiness Rank\"],\"y\":[91,94],\"type\":\"scatter\"},{\"hoverinfo\":\"text\",\"hovertext\":\"Philippines\\u003cbr\\u003eLife expectancy Rank: 92\\u003cbr\\u003eHappiness Rank: 62\\u003cbr\\u003eMismatch: 30\",\"line\":{\"color\":\"#D81B60\",\"width\":2},\"mode\":\"lines+markers\",\"name\":\"Philippines\",\"x\":[\"Life expectancy Rank\",\"Happiness Rank\"],\"y\":[92,62],\"type\":\"scatter\"},{\"hoverinfo\":\"text\",\"hovertext\":\"Turkmenistan\\u003cbr\\u003eLife expectancy Rank: 93\\u003cbr\\u003eHappiness Rank: 77\\u003cbr\\u003eMismatch: 16\",\"line\":{\"color\":\"#D81B60\",\"width\":2},\"mode\":\"lines+markers\",\"name\":\"Turkmenistan\",\"x\":[\"Life expectancy Rank\",\"Happiness Rank\"],\"y\":[93,77],\"type\":\"scatter\"},{\"hoverinfo\":\"text\",\"hovertext\":\"Nepal\\u003cbr\\u003eLife expectancy Rank: 94\\u003cbr\\u003eHappiness Rank: 88\\u003cbr\\u003eMismatch: 6\",\"line\":{\"color\":\"#1E88E5\",\"width\":2},\"mode\":\"lines+markers\",\"name\":\"Nepal\",\"x\":[\"Life expectancy Rank\",\"Happiness Rank\"],\"y\":[94,88],\"type\":\"scatter\"},{\"hoverinfo\":\"text\",\"hovertext\":\"Bolivia\\u003cbr\\u003eLife expectancy Rank: 95\\u003cbr\\u003eHappiness Rank: 56\\u003cbr\\u003eMismatch: 39\",\"line\":{\"color\":\"#D81B60\",\"width\":2},\"mode\":\"lines+markers\",\"name\":\"Bolivia\",\"x\":[\"Life expectancy Rank\",\"Happiness Rank\"],\"y\":[95,56],\"type\":\"scatter\"},{\"hoverinfo\":\"text\",\"hovertext\":\"Senegal\\u003cbr\\u003eLife expectancy Rank: 96\\u003cbr\\u003eHappiness Rank: 95\\u003cbr\\u003eMismatch: 1\",\"line\":{\"color\":\"#1E88E5\",\"width\":2},\"mode\":\"lines+markers\",\"name\":\"Senegal\",\"x\":[\"Life expectancy Rank\",\"Happiness Rank\"],\"y\":[96,95],\"type\":\"scatter\"},{\"hoverinfo\":\"text\",\"hovertext\":\"Mauritania\\u003cbr\\u003eLife expectancy Rank: 97\\u003cbr\\u003eHappiness Rank: 104\\u003cbr\\u003eMismatch: 7\",\"line\":{\"color\":\"#1E88E5\",\"width\":2},\"mode\":\"lines+markers\",\"name\":\"Mauritania\",\"x\":[\"Life expectancy Rank\",\"Happiness Rank\"],\"y\":[97,104],\"type\":\"scatter\"},{\"hoverinfo\":\"text\",\"hovertext\":\"Gabon\\u003cbr\\u003eLife expectancy Rank: 98\\u003cbr\\u003eHappiness Rank: 91\\u003cbr\\u003eMismatch: 7\",\"line\":{\"color\":\"#1E88E5\",\"width\":2},\"mode\":\"lines+markers\",\"name\":\"Gabon\",\"x\":[\"Life expectancy Rank\",\"Happiness Rank\"],\"y\":[98,91],\"type\":\"scatter\"},{\"hoverinfo\":\"text\",\"hovertext\":\"Botswana\\u003cbr\\u003eLife expectancy Rank: 99\\u003cbr\\u003eHappiness Rank: 127\\u003cbr\\u003eMismatch: 28\",\"line\":{\"color\":\"#D81B60\",\"width\":2},\"mode\":\"lines+markers\",\"name\":\"Botswana\",\"x\":[\"Life expectancy Rank\",\"Happiness Rank\"],\"y\":[99,127],\"type\":\"scatter\"},{\"hoverinfo\":\"text\",\"hovertext\":\"Pakistan\\u003cbr\\u003eLife expectancy Rank: 100\\u003cbr\\u003eHappiness Rank: 61\\u003cbr\\u003eMismatch: 39\",\"line\":{\"color\":\"#D81B60\",\"width\":2},\"mode\":\"lines+markers\",\"name\":\"Pakistan\",\"x\":[\"Life expectancy Rank\",\"Happiness Rank\"],\"y\":[100,61],\"type\":\"scatter\"},{\"hoverinfo\":\"text\",\"hovertext\":\"Rwanda\\u003cbr\\u003eLife expectancy Rank: 101\\u003cbr\\u003eHappiness Rank: 129\\u003cbr\\u003eMismatch: 28\",\"line\":{\"color\":\"#D81B60\",\"width\":2},\"mode\":\"lines+markers\",\"name\":\"Rwanda\",\"x\":[\"Life expectancy Rank\",\"Happiness Rank\"],\"y\":[101,129],\"type\":\"scatter\"},{\"hoverinfo\":\"text\",\"hovertext\":\"Myanmar\\u003cbr\\u003eLife expectancy Rank: 102\\u003cbr\\u003eHappiness Rank: 112\\u003cbr\\u003eMismatch: 10\",\"line\":{\"color\":\"#1E88E5\",\"width\":2},\"mode\":\"lines+markers\",\"name\":\"Myanmar\",\"x\":[\"Life expectancy Rank\",\"Happiness Rank\"],\"y\":[102,112],\"type\":\"scatter\"},{\"hoverinfo\":\"text\",\"hovertext\":\"Uganda\\u003cbr\\u003eLife expectancy Rank: 103\\u003cbr\\u003eHappiness Rank: 116\\u003cbr\\u003eMismatch: 13\",\"line\":{\"color\":\"#1E88E5\",\"width\":2},\"mode\":\"lines+markers\",\"name\":\"Uganda\",\"x\":[\"Life expectancy Rank\",\"Happiness Rank\"],\"y\":[103,116],\"type\":\"scatter\"},{\"hoverinfo\":\"text\",\"hovertext\":\"South Africa\\u003cbr\\u003eLife expectancy Rank: 104\\u003cbr\\u003eHappiness Rank: 92\\u003cbr\\u003eMismatch: 12\",\"line\":{\"color\":\"#1E88E5\",\"width\":2},\"mode\":\"lines+markers\",\"name\":\"South Africa\",\"x\":[\"Life expectancy Rank\",\"Happiness Rank\"],\"y\":[104,92],\"type\":\"scatter\"},{\"hoverinfo\":\"text\",\"hovertext\":\"Tanzania\\u003cbr\\u003eLife expectancy Rank: 105\\u003cbr\\u003eHappiness Rank: 130\\u003cbr\\u003eMismatch: 25\",\"line\":{\"color\":\"#D81B60\",\"width\":2},\"mode\":\"lines+markers\",\"name\":\"Tanzania\",\"x\":[\"Life expectancy Rank\",\"Happiness Rank\"],\"y\":[105,130],\"type\":\"scatter\"},{\"hoverinfo\":\"text\",\"hovertext\":\"Ethiopia\\u003cbr\\u003eLife expectancy Rank: 106\\u003cbr\\u003eHappiness Rank: 115\\u003cbr\\u003eMismatch: 9\",\"line\":{\"color\":\"#1E88E5\",\"width\":2},\"mode\":\"lines+markers\",\"name\":\"Ethiopia\",\"x\":[\"Life expectancy Rank\",\"Happiness Rank\"],\"y\":[106,115],\"type\":\"scatter\"},{\"hoverinfo\":\"text\",\"hovertext\":\"Comoros\\u003cbr\\u003eLife expectancy Rank: 107\\u003cbr\\u003eHappiness Rank: 121\\u003cbr\\u003eMismatch: 14\",\"line\":{\"color\":\"#1E88E5\",\"width\":2},\"mode\":\"lines+markers\",\"name\":\"Comoros\",\"x\":[\"Life expectancy Rank\",\"Happiness Rank\"],\"y\":[107,121],\"type\":\"scatter\"},{\"hoverinfo\":\"text\",\"hovertext\":\"Malawi\\u003cbr\\u003eLife expectancy Rank: 108\\u003cbr\\u003eHappiness Rank: 128\\u003cbr\\u003eMismatch: 20\",\"line\":{\"color\":\"#D81B60\",\"width\":2},\"mode\":\"lines+markers\",\"name\":\"Malawi\",\"x\":[\"Life expectancy Rank\",\"Happiness Rank\"],\"y\":[108,128],\"type\":\"scatter\"},{\"hoverinfo\":\"text\",\"hovertext\":\"Ghana\\u003cbr\\u003eLife expectancy Rank: 109\\u003cbr\\u003eHappiness Rank: 87\\u003cbr\\u003eMismatch: 22\",\"line\":{\"color\":\"#D81B60\",\"width\":2},\"mode\":\"lines+markers\",\"name\":\"Ghana\",\"x\":[\"Life expectancy Rank\",\"Happiness Rank\"],\"y\":[109,87],\"type\":\"scatter\"},{\"hoverinfo\":\"text\",\"hovertext\":\"Haiti\\u003cbr\\u003eLife expectancy Rank: 110\\u003cbr\\u003eHappiness Rank: 126\\u003cbr\\u003eMismatch: 16\",\"line\":{\"color\":\"#D81B60\",\"width\":2},\"mode\":\"lines+markers\",\"name\":\"Haiti\",\"x\":[\"Life expectancy Rank\",\"Happiness Rank\"],\"y\":[110,126],\"type\":\"scatter\"},{\"hoverinfo\":\"text\",\"hovertext\":\"Namibia\\u003cbr\\u003eLife expectancy Rank: 111\\u003cbr\\u003eHappiness Rank: 97\\u003cbr\\u003eMismatch: 14\",\"line\":{\"color\":\"#1E88E5\",\"width\":2},\"mode\":\"lines+markers\",\"name\":\"Namibia\",\"x\":[\"Life expectancy Rank\",\"Happiness Rank\"],\"y\":[111,97],\"type\":\"scatter\"},{\"hoverinfo\":\"text\",\"hovertext\":\"Madagascar\\u003cbr\\u003eLife expectancy Rank: 112\\u003cbr\\u003eHappiness Rank: 122\\u003cbr\\u003eMismatch: 10\",\"line\":{\"color\":\"#1E88E5\",\"width\":2},\"mode\":\"lines+markers\",\"name\":\"Madagascar\",\"x\":[\"Life expectancy Rank\",\"Happiness Rank\"],\"y\":[112,122],\"type\":\"scatter\"},{\"hoverinfo\":\"text\",\"hovertext\":\"Afghanistan\\u003cbr\\u003eLife expectancy Rank: 113\\u003cbr\\u003eHappiness Rank: 131\\u003cbr\\u003eMismatch: 18\",\"line\":{\"color\":\"#D81B60\",\"width\":2},\"mode\":\"lines+markers\",\"name\":\"Afghanistan\",\"x\":[\"Life expectancy Rank\",\"Happiness Rank\"],\"y\":[113,131],\"type\":\"scatter\"},{\"hoverinfo\":\"text\",\"hovertext\":\"Kenya\\u003cbr\\u003eLife expectancy Rank: 114\\u003cbr\\u003eHappiness Rank: 103\\u003cbr\\u003eMismatch: 11\",\"line\":{\"color\":\"#1E88E5\",\"width\":2},\"mode\":\"lines+markers\",\"name\":\"Kenya\",\"x\":[\"Life expectancy Rank\",\"Happiness Rank\"],\"y\":[114,103],\"type\":\"scatter\"},{\"hoverinfo\":\"text\",\"hovertext\":\"Zambia\\u003cbr\\u003eLife expectancy Rank: 115\\u003cbr\\u003eHappiness Rank: 117\\u003cbr\\u003eMismatch: 2\",\"line\":{\"color\":\"#1E88E5\",\"width\":2},\"mode\":\"lines+markers\",\"name\":\"Zambia\",\"x\":[\"Life expectancy Rank\",\"Happiness Rank\"],\"y\":[115,117],\"type\":\"scatter\"},{\"hoverinfo\":\"text\",\"hovertext\":\"Burundi\\u003cbr\\u003eLife expectancy Rank: 116\\u003cbr\\u003eHappiness Rank: 124\\u003cbr\\u003eMismatch: 8\",\"line\":{\"color\":\"#1E88E5\",\"width\":2},\"mode\":\"lines+markers\",\"name\":\"Burundi\",\"x\":[\"Life expectancy Rank\",\"Happiness Rank\"],\"y\":[116,124],\"type\":\"scatter\"},{\"hoverinfo\":\"text\",\"hovertext\":\"Cameroon\\u003cbr\\u003eLife expectancy Rank: 117\\u003cbr\\u003eHappiness Rank: 85\\u003cbr\\u003eMismatch: 32\",\"line\":{\"color\":\"#D81B60\",\"width\":2},\"mode\":\"lines+markers\",\"name\":\"Cameroon\",\"x\":[\"Life expectancy Rank\",\"Happiness Rank\"],\"y\":[117,85],\"type\":\"scatter\"},{\"hoverinfo\":\"text\",\"hovertext\":\"Mozambique\\u003cbr\\u003eLife expectancy Rank: 118\\u003cbr\\u003eHappiness Rank: 105\\u003cbr\\u003eMismatch: 13\",\"line\":{\"color\":\"#1E88E5\",\"width\":2},\"mode\":\"lines+markers\",\"name\":\"Mozambique\",\"x\":[\"Life expectancy Rank\",\"Happiness Rank\"],\"y\":[118,105],\"type\":\"scatter\"},{\"hoverinfo\":\"text\",\"hovertext\":\"Liberia\\u003cbr\\u003eLife expectancy Rank: 119\\u003cbr\\u003eHappiness Rank: 120\\u003cbr\\u003eMismatch: 1\",\"line\":{\"color\":\"#1E88E5\",\"width\":2},\"mode\":\"lines+markers\",\"name\":\"Liberia\",\"x\":[\"Life expectancy Rank\",\"Happiness Rank\"],\"y\":[119,120],\"type\":\"scatter\"},{\"hoverinfo\":\"text\",\"hovertext\":\"Zimbabwe\\u003cbr\\u003eLife expectancy Rank: 120\\u003cbr\\u003eHappiness Rank: 125\\u003cbr\\u003eMismatch: 5\",\"line\":{\"color\":\"#1E88E5\",\"width\":2},\"mode\":\"lines+markers\",\"name\":\"Zimbabwe\",\"x\":[\"Life expectancy Rank\",\"Happiness Rank\"],\"y\":[120,125],\"type\":\"scatter\"},{\"hoverinfo\":\"text\",\"hovertext\":\"Togo\\u003cbr\\u003eLife expectancy Rank: 121\\u003cbr\\u003eHappiness Rank: 118\\u003cbr\\u003eMismatch: 3\",\"line\":{\"color\":\"#1E88E5\",\"width\":2},\"mode\":\"lines+markers\",\"name\":\"Togo\",\"x\":[\"Life expectancy Rank\",\"Happiness Rank\"],\"y\":[121,118],\"type\":\"scatter\"},{\"hoverinfo\":\"text\",\"hovertext\":\"Burkina Faso\\u003cbr\\u003eLife expectancy Rank: 122\\u003cbr\\u003eHappiness Rank: 99\\u003cbr\\u003eMismatch: 23\",\"line\":{\"color\":\"#D81B60\",\"width\":2},\"mode\":\"lines+markers\",\"name\":\"Burkina Faso\",\"x\":[\"Life expectancy Rank\",\"Happiness Rank\"],\"y\":[122,99],\"type\":\"scatter\"},{\"hoverinfo\":\"text\",\"hovertext\":\"Niger\\u003cbr\\u003eLife expectancy Rank: 123\\u003cbr\\u003eHappiness Rank: 98\\u003cbr\\u003eMismatch: 25\",\"line\":{\"color\":\"#D81B60\",\"width\":2},\"mode\":\"lines+markers\",\"name\":\"Niger\",\"x\":[\"Life expectancy Rank\",\"Happiness Rank\"],\"y\":[123,98],\"type\":\"scatter\"},{\"hoverinfo\":\"text\",\"hovertext\":\"Benin\\u003cbr\\u003eLife expectancy Rank: 124\\u003cbr\\u003eHappiness Rank: 90\\u003cbr\\u003eMismatch: 34\",\"line\":{\"color\":\"#D81B60\",\"width\":2},\"mode\":\"lines+markers\",\"name\":\"Benin\",\"x\":[\"Life expectancy Rank\",\"Happiness Rank\"],\"y\":[124,90],\"type\":\"scatter\"},{\"hoverinfo\":\"text\",\"hovertext\":\"Sierra Leone\\u003cbr\\u003eLife expectancy Rank: 125\\u003cbr\\u003eHappiness Rank: 110\\u003cbr\\u003eMismatch: 15\",\"line\":{\"color\":\"#1E88E5\",\"width\":2},\"mode\":\"lines+markers\",\"name\":\"Sierra Leone\",\"x\":[\"Life expectancy Rank\",\"Happiness Rank\"],\"y\":[125,110],\"type\":\"scatter\"},{\"hoverinfo\":\"text\",\"hovertext\":\"Guinea\\u003cbr\\u003eLife expectancy Rank: 126\\u003cbr\\u003eHappiness Rank: 101\\u003cbr\\u003eMismatch: 25\",\"line\":{\"color\":\"#D81B60\",\"width\":2},\"mode\":\"lines+markers\",\"name\":\"Guinea\",\"x\":[\"Life expectancy Rank\",\"Happiness Rank\"],\"y\":[126,101],\"type\":\"scatter\"},{\"hoverinfo\":\"text\",\"hovertext\":\"Mali\\u003cbr\\u003eLife expectancy Rank: 127\\u003cbr\\u003eHappiness Rank: 109\\u003cbr\\u003eMismatch: 18\",\"line\":{\"color\":\"#D81B60\",\"width\":2},\"mode\":\"lines+markers\",\"name\":\"Mali\",\"x\":[\"Life expectancy Rank\",\"Happiness Rank\"],\"y\":[127,109],\"type\":\"scatter\"},{\"hoverinfo\":\"text\",\"hovertext\":\"South Sudan\\u003cbr\\u003eLife expectancy Rank: 128\\u003cbr\\u003eHappiness Rank: 133\\u003cbr\\u003eMismatch: 5\",\"line\":{\"color\":\"#1E88E5\",\"width\":2},\"mode\":\"lines+markers\",\"name\":\"South Sudan\",\"x\":[\"Life expectancy Rank\",\"Happiness Rank\"],\"y\":[128,133],\"type\":\"scatter\"},{\"hoverinfo\":\"text\",\"hovertext\":\"Somalia\\u003cbr\\u003eLife expectancy Rank: 129\\u003cbr\\u003eHappiness Rank: 96\\u003cbr\\u003eMismatch: 33\",\"line\":{\"color\":\"#D81B60\",\"width\":2},\"mode\":\"lines+markers\",\"name\":\"Somalia\",\"x\":[\"Life expectancy Rank\",\"Happiness Rank\"],\"y\":[129,96],\"type\":\"scatter\"},{\"hoverinfo\":\"text\",\"hovertext\":\"Lesotho\\u003cbr\\u003eLife expectancy Rank: 130\\u003cbr\\u003eHappiness Rank: 123\\u003cbr\\u003eMismatch: 7\",\"line\":{\"color\":\"#1E88E5\",\"width\":2},\"mode\":\"lines+markers\",\"name\":\"Lesotho\",\"x\":[\"Life expectancy Rank\",\"Happiness Rank\"],\"y\":[130,123],\"type\":\"scatter\"},{\"hoverinfo\":\"text\",\"hovertext\":\"Nigeria\\u003cbr\\u003eLife expectancy Rank: 131\\u003cbr\\u003eHappiness Rank: 76\\u003cbr\\u003eMismatch: 55\",\"line\":{\"color\":\"#D81B60\",\"width\":2},\"mode\":\"lines+markers\",\"name\":\"Nigeria\",\"x\":[\"Life expectancy Rank\",\"Happiness Rank\"],\"y\":[131,76],\"type\":\"scatter\"},{\"hoverinfo\":\"text\",\"hovertext\":\"Chad\\u003cbr\\u003eLife expectancy Rank: 132\\u003cbr\\u003eHappiness Rank: 113\\u003cbr\\u003eMismatch: 19\",\"line\":{\"color\":\"#D81B60\",\"width\":2},\"mode\":\"lines+markers\",\"name\":\"Chad\",\"x\":[\"Life expectancy Rank\",\"Happiness Rank\"],\"y\":[132,113],\"type\":\"scatter\"},{\"hoverinfo\":\"text\",\"hovertext\":\"Central African Republic\\u003cbr\\u003eLife expectancy Rank: 133\\u003cbr\\u003eHappiness Rank: 132\\u003cbr\\u003eMismatch: 1\",\"line\":{\"color\":\"#1E88E5\",\"width\":2},\"mode\":\"lines+markers\",\"name\":\"Central African Republic\",\"x\":[\"Life expectancy Rank\",\"Happiness Rank\"],\"y\":[133,132],\"type\":\"scatter\"},{\"hoverinfo\":\"text\",\"hovertext\":\"Qatar\\u003cbr\\u003eUnemployment rate Rank: 1\\u003cbr\\u003eHappiness Rank: 27\\u003cbr\\u003eMismatch: 26\",\"line\":{\"color\":\"#1E88E5\",\"width\":2},\"mode\":\"lines+markers\",\"name\":\"Qatar\",\"visible\":false,\"x\":[\"Unemployment rate Rank\",\"Happiness Rank\"],\"y\":[1,27],\"type\":\"scatter\"},{\"hoverinfo\":\"text\",\"hovertext\":\"Myanmar\\u003cbr\\u003eUnemployment rate Rank: 2\\u003cbr\\u003eHappiness Rank: 95\\u003cbr\\u003eMismatch: 93\",\"line\":{\"color\":\"#D81B60\",\"width\":2},\"mode\":\"lines+markers\",\"name\":\"Myanmar\",\"visible\":false,\"x\":[\"Unemployment rate Rank\",\"Happiness Rank\"],\"y\":[2,95],\"type\":\"scatter\"},{\"hoverinfo\":\"text\",\"hovertext\":\"Cambodia\\u003cbr\\u003eUnemployment rate Rank: 3\\u003cbr\\u003eHappiness Rank: 82\\u003cbr\\u003eMismatch: 79\",\"line\":{\"color\":\"#D81B60\",\"width\":2},\"mode\":\"lines+markers\",\"name\":\"Cambodia\",\"visible\":false,\"x\":[\"Unemployment rate Rank\",\"Happiness Rank\"],\"y\":[3,82],\"type\":\"scatter\"},{\"hoverinfo\":\"text\",\"hovertext\":\"Niger\\u003cbr\\u003eUnemployment rate Rank: 4\\u003cbr\\u003eHappiness Rank: 85\\u003cbr\\u003eMismatch: 81\",\"line\":{\"color\":\"#D81B60\",\"width\":2},\"mode\":\"lines+markers\",\"name\":\"Niger\",\"visible\":false,\"x\":[\"Unemployment rate Rank\",\"Happiness Rank\"],\"y\":[4,85],\"type\":\"scatter\"},{\"hoverinfo\":\"text\",\"hovertext\":\"Thailand\\u003cbr\\u003eUnemployment rate Rank: 5\\u003cbr\\u003eHappiness Rank: 45\\u003cbr\\u003eMismatch: 40\",\"line\":{\"color\":\"#D81B60\",\"width\":2},\"mode\":\"lines+markers\",\"name\":\"Thailand\",\"visible\":false,\"x\":[\"Unemployment rate Rank\",\"Happiness Rank\"],\"y\":[5,45],\"type\":\"scatter\"},{\"hoverinfo\":\"text\",\"hovertext\":\"Benin\\u003cbr\\u003eUnemployment rate Rank: 6\\u003cbr\\u003eHappiness Rank: 79\\u003cbr\\u003eMismatch: 73\",\"line\":{\"color\":\"#D81B60\",\"width\":2},\"mode\":\"lines+markers\",\"name\":\"Benin\",\"visible\":false,\"x\":[\"Unemployment rate Rank\",\"Happiness Rank\"],\"y\":[6,79],\"type\":\"scatter\"},{\"hoverinfo\":\"text\",\"hovertext\":\"Moldova\\u003cbr\\u003eUnemployment rate Rank: 7\\u003cbr\\u003eHappiness Rank: 61\\u003cbr\\u003eMismatch: 54\",\"line\":{\"color\":\"#D81B60\",\"width\":2},\"mode\":\"lines+markers\",\"name\":\"Moldova\",\"visible\":false,\"x\":[\"Unemployment rate Rank\",\"Happiness Rank\"],\"y\":[7,61],\"type\":\"scatter\"},{\"hoverinfo\":\"text\",\"hovertext\":\"Burkina Faso\\u003cbr\\u003eUnemployment rate Rank: 8\\u003cbr\\u003eHappiness Rank: 86\\u003cbr\\u003eMismatch: 78\",\"line\":{\"color\":\"#D81B60\",\"width\":2},\"mode\":\"lines+markers\",\"name\":\"Burkina Faso\",\"visible\":false,\"x\":[\"Unemployment rate Rank\",\"Happiness Rank\"],\"y\":[8,86],\"type\":\"scatter\"},{\"hoverinfo\":\"text\",\"hovertext\":\"Togo\\u003cbr\\u003eUnemployment rate Rank: 9\\u003cbr\\u003eHappiness Rank: 99\\u003cbr\\u003eMismatch: 90\",\"line\":{\"color\":\"#D81B60\",\"width\":2},\"mode\":\"lines+markers\",\"name\":\"Togo\",\"visible\":false,\"x\":[\"Unemployment rate Rank\",\"Happiness Rank\"],\"y\":[9,99],\"type\":\"scatter\"},{\"hoverinfo\":\"text\",\"hovertext\":\"Guatemala\\u003cbr\\u003eUnemployment rate Rank: 10\\u003cbr\\u003eHappiness Rank: 25\\u003cbr\\u003eMismatch: 15\",\"line\":{\"color\":\"#1E88E5\",\"width\":2},\"mode\":\"lines+markers\",\"name\":\"Guatemala\",\"visible\":false,\"x\":[\"Unemployment rate Rank\",\"Happiness Rank\"],\"y\":[10,25],\"type\":\"scatter\"},{\"hoverinfo\":\"text\",\"hovertext\":\"Philippines\\u003cbr\\u003eUnemployment rate Rank: 11\\u003cbr\\u003eHappiness Rank: 59\\u003cbr\\u003eMismatch: 48\",\"line\":{\"color\":\"#D81B60\",\"width\":2},\"mode\":\"lines+markers\",\"name\":\"Philippines\",\"visible\":false,\"x\":[\"Unemployment rate Rank\",\"Happiness Rank\"],\"y\":[11,59],\"type\":\"scatter\"},{\"hoverinfo\":\"text\",\"hovertext\":\"United Arab Emirates\\u003cbr\\u003eUnemployment rate Rank: 12\\u003cbr\\u003eHappiness Rank: 20\\u003cbr\\u003eMismatch: 8\",\"line\":{\"color\":\"#1E88E5\",\"width\":2},\"mode\":\"lines+markers\",\"name\":\"United Arab Emirates\",\"visible\":false,\"x\":[\"Unemployment rate Rank\",\"Happiness Rank\"],\"y\":[12,20],\"type\":\"scatter\"},{\"hoverinfo\":\"text\",\"hovertext\":\"Japan\\u003cbr\\u003eUnemployment rate Rank: 13\\u003cbr\\u003eHappiness Rank: 50\\u003cbr\\u003eMismatch: 37\",\"line\":{\"color\":\"#D81B60\",\"width\":2},\"mode\":\"lines+markers\",\"name\":\"Japan\",\"visible\":false,\"x\":[\"Unemployment rate Rank\",\"Happiness Rank\"],\"y\":[13,50],\"type\":\"scatter\"},{\"hoverinfo\":\"text\",\"hovertext\":\"Uganda\\u003cbr\\u003eUnemployment rate Rank: 14\\u003cbr\\u003eHappiness Rank: 97\\u003cbr\\u003eMismatch: 83\",\"line\":{\"color\":\"#D81B60\",\"width\":2},\"mode\":\"lines+markers\",\"name\":\"Uganda\",\"visible\":false,\"x\":[\"Unemployment rate Rank\",\"Happiness Rank\"],\"y\":[14,97],\"type\":\"scatter\"},{\"hoverinfo\":\"text\",\"hovertext\":\"Bhutan\\u003cbr\\u003eUnemployment rate Rank: 15\\u003cbr\\u003eHappiness Rank: 76\\u003cbr\\u003eMismatch: 61\",\"line\":{\"color\":\"#D81B60\",\"width\":2},\"mode\":\"lines+markers\",\"name\":\"Bhutan\",\"visible\":false,\"x\":[\"Unemployment rate Rank\",\"Happiness Rank\"],\"y\":[15,76],\"type\":\"scatter\"},{\"hoverinfo\":\"text\",\"hovertext\":\"Senegal\\u003cbr\\u003eUnemployment rate Rank: 16\\u003cbr\\u003eHappiness Rank: 83\\u003cbr\\u003eMismatch: 67\",\"line\":{\"color\":\"#D81B60\",\"width\":2},\"mode\":\"lines+markers\",\"name\":\"Senegal\",\"visible\":false,\"x\":[\"Unemployment rate Rank\",\"Happiness Rank\"],\"y\":[16,83],\"type\":\"scatter\"},{\"hoverinfo\":\"text\",\"hovertext\":\"Singapore\\u003cbr\\u003eUnemployment rate Rank: 17\\u003cbr\\u003eHappiness Rank: 32\\u003cbr\\u003eMismatch: 15\",\"line\":{\"color\":\"#1E88E5\",\"width\":2},\"mode\":\"lines+markers\",\"name\":\"Singapore\",\"visible\":false,\"x\":[\"Unemployment rate Rank\",\"Happiness Rank\"],\"y\":[17,32],\"type\":\"scatter\"},{\"hoverinfo\":\"text\",\"hovertext\":\"Germany\\u003cbr\\u003eUnemployment rate Rank: 18\\u003cbr\\u003eHappiness Rank: 17\\u003cbr\\u003eMismatch: 1\",\"line\":{\"color\":\"#1E88E5\",\"width\":2},\"mode\":\"lines+markers\",\"name\":\"Germany\",\"visible\":false,\"x\":[\"Unemployment rate Rank\",\"Happiness Rank\"],\"y\":[18,17],\"type\":\"scatter\"},{\"hoverinfo\":\"text\",\"hovertext\":\"Malaysia\\u003cbr\\u003eUnemployment rate Rank: 19\\u003cbr\\u003eHappiness Rank: 66\\u003cbr\\u003eMismatch: 47\",\"line\":{\"color\":\"#D81B60\",\"width\":2},\"mode\":\"lines+markers\",\"name\":\"Malaysia\",\"visible\":false,\"x\":[\"Unemployment rate Rank\",\"Happiness Rank\"],\"y\":[19,66],\"type\":\"scatter\"},{\"hoverinfo\":\"text\",\"hovertext\":\"Poland\\u003cbr\\u003eUnemployment rate Rank: 20\\u003cbr\\u003eHappiness Rank: 35\\u003cbr\\u003eMismatch: 15\",\"line\":{\"color\":\"#1E88E5\",\"width\":2},\"mode\":\"lines+markers\",\"name\":\"Poland\",\"visible\":false,\"x\":[\"Unemployment rate Rank\",\"Happiness Rank\"],\"y\":[20,35],\"type\":\"scatter\"},{\"hoverinfo\":\"text\",\"hovertext\":\"Mali\\u003cbr\\u003eUnemployment rate Rank: 21\\u003cbr\\u003eHappiness Rank: 93\\u003cbr\\u003eMismatch: 72\",\"line\":{\"color\":\"#D81B60\",\"width\":2},\"mode\":\"lines+markers\",\"name\":\"Mali\",\"visible\":false,\"x\":[\"Unemployment rate Rank\",\"Happiness Rank\"],\"y\":[21,93],\"type\":\"scatter\"},{\"hoverinfo\":\"text\",\"hovertext\":\"Netherlands\\u003cbr\\u003eUnemployment rate Rank: 22\\u003cbr\\u003eHappiness Rank: 5\\u003cbr\\u003eMismatch: 17\",\"line\":{\"color\":\"#1E88E5\",\"width\":2},\"mode\":\"lines+markers\",\"name\":\"Netherlands\",\"visible\":false,\"x\":[\"Unemployment rate Rank\",\"Happiness Rank\"],\"y\":[22,5],\"type\":\"scatter\"},{\"hoverinfo\":\"text\",\"hovertext\":\"Peru\\u003cbr\\u003eUnemployment rate Rank: 23\\u003cbr\\u003eHappiness Rank: 56\\u003cbr\\u003eMismatch: 33\",\"line\":{\"color\":\"#D81B60\",\"width\":2},\"mode\":\"lines+markers\",\"name\":\"Peru\",\"visible\":false,\"x\":[\"Unemployment rate Rank\",\"Happiness Rank\"],\"y\":[23,56],\"type\":\"scatter\"},{\"hoverinfo\":\"text\",\"hovertext\":\"Hungary\\u003cbr\\u003eUnemployment rate Rank: 24\\u003cbr\\u003eHappiness Rank: 54\\u003cbr\\u003eMismatch: 30\",\"line\":{\"color\":\"#1E88E5\",\"width\":2},\"mode\":\"lines+markers\",\"name\":\"Hungary\",\"visible\":false,\"x\":[\"Unemployment rate Rank\",\"Happiness Rank\"],\"y\":[24,54],\"type\":\"scatter\"},{\"hoverinfo\":\"text\",\"hovertext\":\"Mexico\\u003cbr\\u003eUnemployment rate Rank: 25\\u003cbr\\u003eHappiness Rank: 22\\u003cbr\\u003eMismatch: 3\",\"line\":{\"color\":\"#1E88E5\",\"width\":2},\"mode\":\"lines+markers\",\"name\":\"Mexico\",\"visible\":false,\"x\":[\"Unemployment rate Rank\",\"Happiness Rank\"],\"y\":[25,22],\"type\":\"scatter\"},{\"hoverinfo\":\"text\",\"hovertext\":\"Iceland\\u003cbr\\u003eUnemployment rate Rank: 26\\u003cbr\\u003eHappiness Rank: 4\\u003cbr\\u003eMismatch: 22\",\"line\":{\"color\":\"#1E88E5\",\"width\":2},\"mode\":\"lines+markers\",\"name\":\"Iceland\",\"visible\":false,\"x\":[\"Unemployment rate Rank\",\"Happiness Rank\"],\"y\":[26,4],\"type\":\"scatter\"},{\"hoverinfo\":\"text\",\"hovertext\":\"Indonesia\\u003cbr\\u003eUnemployment rate Rank: 27\\u003cbr\\u003eHappiness Rank: 74\\u003cbr\\u003eMismatch: 47\",\"line\":{\"color\":\"#D81B60\",\"width\":2},\"mode\":\"lines+markers\",\"name\":\"Indonesia\",\"visible\":false,\"x\":[\"Unemployment rate Rank\",\"Happiness Rank\"],\"y\":[27,74],\"type\":\"scatter\"},{\"hoverinfo\":\"text\",\"hovertext\":\"Malta\\u003cbr\\u003eUnemployment rate Rank: 28\\u003cbr\\u003eHappiness Rank: 21\\u003cbr\\u003eMismatch: 7\",\"line\":{\"color\":\"#1E88E5\",\"width\":2},\"mode\":\"lines+markers\",\"name\":\"Malta\",\"visible\":false,\"x\":[\"Unemployment rate Rank\",\"Happiness Rank\"],\"y\":[28,21],\"type\":\"scatter\"},{\"hoverinfo\":\"text\",\"hovertext\":\"United Kingdom\\u003cbr\\u003eUnemployment rate Rank: 29\\u003cbr\\u003eHappiness Rank: 15\\u003cbr\\u003eMismatch: 14\",\"line\":{\"color\":\"#1E88E5\",\"width\":2},\"mode\":\"lines+markers\",\"name\":\"United Kingdom\",\"visible\":false,\"x\":[\"Unemployment rate Rank\",\"Happiness Rank\"],\"y\":[29,15],\"type\":\"scatter\"},{\"hoverinfo\":\"text\",\"hovertext\":\"United States\\u003cbr\\u003eUnemployment rate Rank: 30\\u003cbr\\u003eHappiness Rank: 19\\u003cbr\\u003eMismatch: 11\",\"line\":{\"color\":\"#1E88E5\",\"width\":2},\"mode\":\"lines+markers\",\"name\":\"United States\",\"visible\":false,\"x\":[\"Unemployment rate Rank\",\"Happiness Rank\"],\"y\":[30,19],\"type\":\"scatter\"},{\"hoverinfo\":\"text\",\"hovertext\":\"Bolivia\\u003cbr\\u003eUnemployment rate Rank: 31\\u003cbr\\u003eHappiness Rank: 53\\u003cbr\\u003eMismatch: 22\",\"line\":{\"color\":\"#1E88E5\",\"width\":2},\"mode\":\"lines+markers\",\"name\":\"Bolivia\",\"visible\":false,\"x\":[\"Unemployment rate Rank\",\"Happiness Rank\"],\"y\":[31,53],\"type\":\"scatter\"},{\"hoverinfo\":\"text\",\"hovertext\":\"Norway\\u003cbr\\u003eUnemployment rate Rank: 32\\u003cbr\\u003eHappiness Rank: 3\\u003cbr\\u003eMismatch: 29\",\"line\":{\"color\":\"#1E88E5\",\"width\":2},\"mode\":\"lines+markers\",\"name\":\"Norway\",\"visible\":false,\"x\":[\"Unemployment rate Rank\",\"Happiness Rank\"],\"y\":[32,3],\"type\":\"scatter\"},{\"hoverinfo\":\"text\",\"hovertext\":\"Israel\\u003cbr\\u003eUnemployment rate Rank: 33\\u003cbr\\u003eHappiness Rank: 13\\u003cbr\\u003eMismatch: 20\",\"line\":{\"color\":\"#1E88E5\",\"width\":2},\"mode\":\"lines+markers\",\"name\":\"Israel\",\"visible\":false,\"x\":[\"Unemployment rate Rank\",\"Happiness Rank\"],\"y\":[33,13],\"type\":\"scatter\"},{\"hoverinfo\":\"text\",\"hovertext\":\"Ecuador\\u003cbr\\u003eUnemployment rate Rank: 34\\u003cbr\\u003eHappiness Rank: 44\\u003cbr\\u003eMismatch: 10\",\"line\":{\"color\":\"#1E88E5\",\"width\":2},\"mode\":\"lines+markers\",\"name\":\"Ecuador\",\"visible\":false,\"x\":[\"Unemployment rate Rank\",\"Happiness Rank\"],\"y\":[34,44],\"type\":\"scatter\"},{\"hoverinfo\":\"text\",\"hovertext\":\"Romania\\u003cbr\\u003eUnemployment rate Rank: 35\\u003cbr\\u003eHappiness Rank: 42\\u003cbr\\u003eMismatch: 7\",\"line\":{\"color\":\"#1E88E5\",\"width\":2},\"mode\":\"lines+markers\",\"name\":\"Romania\",\"visible\":false,\"x\":[\"Unemployment rate Rank\",\"Happiness Rank\"],\"y\":[35,42],\"type\":\"scatter\"},{\"hoverinfo\":\"text\",\"hovertext\":\"New Zealand\\u003cbr\\u003eUnemployment rate Rank: 36\\u003cbr\\u003eHappiness Rank: 8\\u003cbr\\u003eMismatch: 28\",\"line\":{\"color\":\"#1E88E5\",\"width\":2},\"mode\":\"lines+markers\",\"name\":\"New Zealand\",\"visible\":false,\"x\":[\"Unemployment rate Rank\",\"Happiness Rank\"],\"y\":[36,8],\"type\":\"scatter\"},{\"hoverinfo\":\"text\",\"hovertext\":\"Belarus\\u003cbr\\u003eUnemployment rate Rank: 37\\u003cbr\\u003eHappiness Rank: 67\\u003cbr\\u003eMismatch: 30\",\"line\":{\"color\":\"#1E88E5\",\"width\":2},\"mode\":\"lines+markers\",\"name\":\"Belarus\",\"visible\":false,\"x\":[\"Unemployment rate Rank\",\"Happiness Rank\"],\"y\":[37,67],\"type\":\"scatter\"},{\"hoverinfo\":\"text\",\"hovertext\":\"El Salvador\\u003cbr\\u003eUnemployment rate Rank: 38\\u003cbr\\u003eHappiness Rank: 33\\u003cbr\\u003eMismatch: 5\",\"line\":{\"color\":\"#1E88E5\",\"width\":2},\"mode\":\"lines+markers\",\"name\":\"El Salvador\",\"visible\":false,\"x\":[\"Unemployment rate Rank\",\"Happiness Rank\"],\"y\":[38,33],\"type\":\"scatter\"},{\"hoverinfo\":\"text\",\"hovertext\":\"Bulgaria\\u003cbr\\u003eUnemployment rate Rank: 39\\u003cbr\\u003eHappiness Rank: 77\\u003cbr\\u003eMismatch: 38\",\"line\":{\"color\":\"#D81B60\",\"width\":2},\"mode\":\"lines+markers\",\"name\":\"Bulgaria\",\"visible\":false,\"x\":[\"Unemployment rate Rank\",\"Happiness Rank\"],\"y\":[39,77],\"type\":\"scatter\"},{\"hoverinfo\":\"text\",\"hovertext\":\"Switzerland\\u003cbr\\u003eUnemployment rate Rank: 40\\u003cbr\\u003eHappiness Rank: 6\\u003cbr\\u003eMismatch: 34\",\"line\":{\"color\":\"#D81B60\",\"width\":2},\"mode\":\"lines+markers\",\"name\":\"Switzerland\",\"visible\":false,\"x\":[\"Unemployment rate Rank\",\"Happiness Rank\"],\"y\":[40,6],\"type\":\"scatter\"},{\"hoverinfo\":\"text\",\"hovertext\":\"Slovenia\\u003cbr\\u003eUnemployment rate Rank: 41\\u003cbr\\u003eHappiness Rank: 39\\u003cbr\\u003eMismatch: 2\",\"line\":{\"color\":\"#1E88E5\",\"width\":2},\"mode\":\"lines+markers\",\"name\":\"Slovenia\",\"visible\":false,\"x\":[\"Unemployment rate Rank\",\"Happiness Rank\"],\"y\":[41,39],\"type\":\"scatter\"},{\"hoverinfo\":\"text\",\"hovertext\":\"Estonia\\u003cbr\\u003eUnemployment rate Rank: 42\\u003cbr\\u003eHappiness Rank: 47\\u003cbr\\u003eMismatch: 5\",\"line\":{\"color\":\"#1E88E5\",\"width\":2},\"mode\":\"lines+markers\",\"name\":\"Estonia\",\"visible\":false,\"x\":[\"Unemployment rate Rank\",\"Happiness Rank\"],\"y\":[42,47],\"type\":\"scatter\"},{\"hoverinfo\":\"text\",\"hovertext\":\"Austria\\u003cbr\\u003eUnemployment rate Rank: 43\\u003cbr\\u003eHappiness Rank: 10\\u003cbr\\u003eMismatch: 33\",\"line\":{\"color\":\"#D81B60\",\"width\":2},\"mode\":\"lines+markers\",\"name\":\"Austria\",\"visible\":false,\"x\":[\"Unemployment rate Rank\",\"Happiness Rank\"],\"y\":[43,10],\"type\":\"scatter\"},{\"hoverinfo\":\"text\",\"hovertext\":\"Sri Lanka\\u003cbr\\u003eUnemployment rate Rank: 44\\u003cbr\\u003eHappiness Rank: 94\\u003cbr\\u003eMismatch: 50\",\"line\":{\"color\":\"#D81B60\",\"width\":2},\"mode\":\"lines+markers\",\"name\":\"Sri Lanka\",\"visible\":false,\"x\":[\"Unemployment rate Rank\",\"Happiness Rank\"],\"y\":[44,94],\"type\":\"scatter\"},{\"hoverinfo\":\"text\",\"hovertext\":\"Kazakhstan\\u003cbr\\u003eUnemployment rate Rank: 45\\u003cbr\\u003eHappiness Rank: 52\\u003cbr\\u003eMismatch: 7\",\"line\":{\"color\":\"#1E88E5\",\"width\":2},\"mode\":\"lines+markers\",\"name\":\"Kazakhstan\",\"visible\":false,\"x\":[\"Unemployment rate Rank\",\"Happiness Rank\"],\"y\":[45,52],\"type\":\"scatter\"},{\"hoverinfo\":\"text\",\"hovertext\":\"Pakistan\\u003cbr\\u003eUnemployment rate Rank: 46\\u003cbr\\u003eHappiness Rank: 58\\u003cbr\\u003eMismatch: 12\",\"line\":{\"color\":\"#1E88E5\",\"width\":2},\"mode\":\"lines+markers\",\"name\":\"Pakistan\",\"visible\":false,\"x\":[\"Unemployment rate Rank\",\"Happiness Rank\"],\"y\":[46,58],\"type\":\"scatter\"},{\"hoverinfo\":\"text\",\"hovertext\":\"Ireland\\u003cbr\\u003eUnemployment rate Rank: 47\\u003cbr\\u003eHappiness Rank: 16\\u003cbr\\u003eMismatch: 31\",\"line\":{\"color\":\"#D81B60\",\"width\":2},\"mode\":\"lines+markers\",\"name\":\"Ireland\",\"visible\":false,\"x\":[\"Unemployment rate Rank\",\"Happiness Rank\"],\"y\":[47,16],\"type\":\"scatter\"},{\"hoverinfo\":\"text\",\"hovertext\":\"Jamaica\\u003cbr\\u003eUnemployment rate Rank: 48\\u003cbr\\u003eHappiness Rank: 48\\u003cbr\\u003eMismatch: 0\",\"line\":{\"color\":\"#1E88E5\",\"width\":2},\"mode\":\"lines+markers\",\"name\":\"Jamaica\",\"visible\":false,\"x\":[\"Unemployment rate Rank\",\"Happiness Rank\"],\"y\":[48,48],\"type\":\"scatter\"},{\"hoverinfo\":\"text\",\"hovertext\":\"Azerbaijan\\u003cbr\\u003eUnemployment rate Rank: 49\\u003cbr\\u003eHappiness Rank: 72\\u003cbr\\u003eMismatch: 23\",\"line\":{\"color\":\"#1E88E5\",\"width\":2},\"mode\":\"lines+markers\",\"name\":\"Azerbaijan\",\"visible\":false,\"x\":[\"Unemployment rate Rank\",\"Happiness Rank\"],\"y\":[49,72],\"type\":\"scatter\"},{\"hoverinfo\":\"text\",\"hovertext\":\"Kenya\\u003cbr\\u003eUnemployment rate Rank: 50\\u003cbr\\u003eHappiness Rank: 90\\u003cbr\\u003eMismatch: 40\",\"line\":{\"color\":\"#D81B60\",\"width\":2},\"mode\":\"lines+markers\",\"name\":\"Kenya\",\"visible\":false,\"x\":[\"Unemployment rate Rank\",\"Happiness Rank\"],\"y\":[50,90],\"type\":\"scatter\"},{\"hoverinfo\":\"text\",\"hovertext\":\"Denmark\\u003cbr\\u003eUnemployment rate Rank: 51\\u003cbr\\u003eHappiness Rank: 2\\u003cbr\\u003eMismatch: 49\",\"line\":{\"color\":\"#D81B60\",\"width\":2},\"mode\":\"lines+markers\",\"name\":\"Denmark\",\"visible\":false,\"x\":[\"Unemployment rate Rank\",\"Happiness Rank\"],\"y\":[51,2],\"type\":\"scatter\"},{\"hoverinfo\":\"text\",\"hovertext\":\"Guinea\\u003cbr\\u003eUnemployment rate Rank: 52\\u003cbr\\u003eHappiness Rank: 88\\u003cbr\\u003eMismatch: 36\",\"line\":{\"color\":\"#D81B60\",\"width\":2},\"mode\":\"lines+markers\",\"name\":\"Guinea\",\"visible\":false,\"x\":[\"Unemployment rate Rank\",\"Happiness Rank\"],\"y\":[52,88],\"type\":\"scatter\"},{\"hoverinfo\":\"text\",\"hovertext\":\"Australia\\u003cbr\\u003eUnemployment rate Rank: 53\\u003cbr\\u003eHappiness Rank: 11\\u003cbr\\u003eMismatch: 42\",\"line\":{\"color\":\"#D81B60\",\"width\":2},\"mode\":\"lines+markers\",\"name\":\"Australia\",\"visible\":false,\"x\":[\"Unemployment rate Rank\",\"Happiness Rank\"],\"y\":[53,11],\"type\":\"scatter\"},{\"hoverinfo\":\"text\",\"hovertext\":\"China\\u003cbr\\u003eUnemployment rate Rank: 54\\u003cbr\\u003eHappiness Rank: 75\\u003cbr\\u003eMismatch: 21\",\"line\":{\"color\":\"#1E88E5\",\"width\":2},\"mode\":\"lines+markers\",\"name\":\"China\",\"visible\":false,\"x\":[\"Unemployment rate Rank\",\"Happiness Rank\"],\"y\":[54,75],\"type\":\"scatter\"},{\"hoverinfo\":\"text\",\"hovertext\":\"Belgium\\u003cbr\\u003eUnemployment rate Rank: 55\\u003cbr\\u003eHappiness Rank: 18\\u003cbr\\u003eMismatch: 37\",\"line\":{\"color\":\"#D81B60\",\"width\":2},\"mode\":\"lines+markers\",\"name\":\"Belgium\",\"visible\":false,\"x\":[\"Unemployment rate Rank\",\"Happiness Rank\"],\"y\":[55,18],\"type\":\"scatter\"},{\"hoverinfo\":\"text\",\"hovertext\":\"Zambia\\u003cbr\\u003eUnemployment rate Rank: 56\\u003cbr\\u003eHappiness Rank: 98\\u003cbr\\u003eMismatch: 42\",\"line\":{\"color\":\"#D81B60\",\"width\":2},\"mode\":\"lines+markers\",\"name\":\"Zambia\",\"visible\":false,\"x\":[\"Unemployment rate Rank\",\"Happiness Rank\"],\"y\":[56,98],\"type\":\"scatter\"},{\"hoverinfo\":\"text\",\"hovertext\":\"Luxembourg\\u003cbr\\u003eUnemployment rate Rank: 57\\u003cbr\\u003eHappiness Rank: 14\\u003cbr\\u003eMismatch: 43\",\"line\":{\"color\":\"#D81B60\",\"width\":2},\"mode\":\"lines+markers\",\"name\":\"Luxembourg\",\"visible\":false,\"x\":[\"Unemployment rate Rank\",\"Happiness Rank\"],\"y\":[57,14],\"type\":\"scatter\"},{\"hoverinfo\":\"text\",\"hovertext\":\"Saudi Arabia\\u003cbr\\u003eUnemployment rate Rank: 58\\u003cbr\\u003eHappiness Rank: 26\\u003cbr\\u003eMismatch: 32\",\"line\":{\"color\":\"#D81B60\",\"width\":2},\"mode\":\"lines+markers\",\"name\":\"Saudi Arabia\",\"visible\":false,\"x\":[\"Unemployment rate Rank\",\"Happiness Rank\"],\"y\":[58,26],\"type\":\"scatter\"},{\"hoverinfo\":\"text\",\"hovertext\":\"Canada\\u003cbr\\u003eUnemployment rate Rank: 59\\u003cbr\\u003eHappiness Rank: 9\\u003cbr\\u003eMismatch: 50\",\"line\":{\"color\":\"#D81B60\",\"width\":2},\"mode\":\"lines+markers\",\"name\":\"Canada\",\"visible\":false,\"x\":[\"Unemployment rate Rank\",\"Happiness Rank\"],\"y\":[59,9],\"type\":\"scatter\"},{\"hoverinfo\":\"text\",\"hovertext\":\"Honduras\\u003cbr\\u003eUnemployment rate Rank: 60\\u003cbr\\u003eHappiness Rank: 51\\u003cbr\\u003eMismatch: 9\",\"line\":{\"color\":\"#1E88E5\",\"width\":2},\"mode\":\"lines+markers\",\"name\":\"Honduras\",\"visible\":false,\"x\":[\"Unemployment rate Rank\",\"Happiness Rank\"],\"y\":[60,51],\"type\":\"scatter\"},{\"hoverinfo\":\"text\",\"hovertext\":\"Lithuania\\u003cbr\\u003eUnemployment rate Rank: 61\\u003cbr\\u003eHappiness Rank: 37\\u003cbr\\u003eMismatch: 24\",\"line\":{\"color\":\"#1E88E5\",\"width\":2},\"mode\":\"lines+markers\",\"name\":\"Lithuania\",\"visible\":false,\"x\":[\"Unemployment rate Rank\",\"Happiness Rank\"],\"y\":[61,37],\"type\":\"scatter\"},{\"hoverinfo\":\"text\",\"hovertext\":\"Latvia\\u003cbr\\u003eUnemployment rate Rank: 62\\u003cbr\\u003eHappiness Rank: 46\\u003cbr\\u003eMismatch: 16\",\"line\":{\"color\":\"#1E88E5\",\"width\":2},\"mode\":\"lines+markers\",\"name\":\"Latvia\",\"visible\":false,\"x\":[\"Unemployment rate Rank\",\"Happiness Rank\"],\"y\":[62,46],\"type\":\"scatter\"},{\"hoverinfo\":\"text\",\"hovertext\":\"Mauritius\\u003cbr\\u003eUnemployment rate Rank: 63\\u003cbr\\u003eHappiness Rank: 49\\u003cbr\\u003eMismatch: 14\",\"line\":{\"color\":\"#1E88E5\",\"width\":2},\"mode\":\"lines+markers\",\"name\":\"Mauritius\",\"visible\":false,\"x\":[\"Unemployment rate Rank\",\"Happiness Rank\"],\"y\":[63,49],\"type\":\"scatter\"},{\"hoverinfo\":\"text\",\"hovertext\":\"Dominican Republic\\u003cbr\\u003eUnemployment rate Rank: 64\\u003cbr\\u003eHappiness Rank: 64\\u003cbr\\u003eMismatch: 0\",\"line\":{\"color\":\"#1E88E5\",\"width\":2},\"mode\":\"lines+markers\",\"name\":\"Dominican Republic\",\"visible\":false,\"x\":[\"Unemployment rate Rank\",\"Happiness Rank\"],\"y\":[64,64],\"type\":\"scatter\"},{\"hoverinfo\":\"text\",\"hovertext\":\"Panama\\u003cbr\\u003eUnemployment rate Rank: 65\\u003cbr\\u003eHappiness Rank: 29\\u003cbr\\u003eMismatch: 36\",\"line\":{\"color\":\"#D81B60\",\"width\":2},\"mode\":\"lines+markers\",\"name\":\"Panama\",\"visible\":false,\"x\":[\"Unemployment rate Rank\",\"Happiness Rank\"],\"y\":[65,29],\"type\":\"scatter\"},{\"hoverinfo\":\"text\",\"hovertext\":\"Portugal\\u003cbr\\u003eUnemployment rate Rank: 66\\u003cbr\\u003eHappiness Rank: 57\\u003cbr\\u003eMismatch: 9\",\"line\":{\"color\":\"#1E88E5\",\"width\":2},\"mode\":\"lines+markers\",\"name\":\"Portugal\",\"visible\":false,\"x\":[\"Unemployment rate Rank\",\"Happiness Rank\"],\"y\":[66,57],\"type\":\"scatter\"},{\"hoverinfo\":\"text\",\"hovertext\":\"India\\u003cbr\\u003eUnemployment rate Rank: 67\\u003cbr\\u003eHappiness Rank: 100\\u003cbr\\u003eMismatch: 33\",\"line\":{\"color\":\"#D81B60\",\"width\":2},\"mode\":\"lines+markers\",\"name\":\"India\",\"visible\":false,\"x\":[\"Unemployment rate Rank\",\"Happiness Rank\"],\"y\":[67,100],\"type\":\"scatter\"},{\"hoverinfo\":\"text\",\"hovertext\":\"Paraguay\\u003cbr\\u003eUnemployment rate Rank: 68\\u003cbr\\u003eHappiness Rank: 55\\u003cbr\\u003eMismatch: 13\",\"line\":{\"color\":\"#1E88E5\",\"width\":2},\"mode\":\"lines+markers\",\"name\":\"Paraguay\",\"visible\":false,\"x\":[\"Unemployment rate Rank\",\"Happiness Rank\"],\"y\":[68,55],\"type\":\"scatter\"},{\"hoverinfo\":\"text\",\"hovertext\":\"Croatia\\u003cbr\\u003eUnemployment rate Rank: 69\\u003cbr\\u003eHappiness Rank: 63\\u003cbr\\u003eMismatch: 6\",\"line\":{\"color\":\"#1E88E5\",\"width\":2},\"mode\":\"lines+markers\",\"name\":\"Croatia\",\"visible\":false,\"x\":[\"Unemployment rate Rank\",\"Happiness Rank\"],\"y\":[69,63],\"type\":\"scatter\"},{\"hoverinfo\":\"text\",\"hovertext\":\"Finland\\u003cbr\\u003eUnemployment rate Rank: 70\\u003cbr\\u003eHappiness Rank: 1\\u003cbr\\u003eMismatch: 69\",\"line\":{\"color\":\"#D81B60\",\"width\":2},\"mode\":\"lines+markers\",\"name\":\"Finland\",\"visible\":false,\"x\":[\"Unemployment rate Rank\",\"Happiness Rank\"],\"y\":[70,1],\"type\":\"scatter\"},{\"hoverinfo\":\"text\",\"hovertext\":\"Sweden\\u003cbr\\u003eUnemployment rate Rank: 71\\u003cbr\\u003eHappiness Rank: 7\\u003cbr\\u003eMismatch: 64\",\"line\":{\"color\":\"#D81B60\",\"width\":2},\"mode\":\"lines+markers\",\"name\":\"Sweden\",\"visible\":false,\"x\":[\"Unemployment rate Rank\",\"Happiness Rank\"],\"y\":[71,7],\"type\":\"scatter\"},{\"hoverinfo\":\"text\",\"hovertext\":\"Cyprus\\u003cbr\\u003eUnemployment rate Rank: 72\\u003cbr\\u003eHappiness Rank: 43\\u003cbr\\u003eMismatch: 29\",\"line\":{\"color\":\"#1E88E5\",\"width\":2},\"mode\":\"lines+markers\",\"name\":\"Cyprus\",\"visible\":false,\"x\":[\"Unemployment rate Rank\",\"Happiness Rank\"],\"y\":[72,43],\"type\":\"scatter\"},{\"hoverinfo\":\"text\",\"hovertext\":\"Zimbabwe\\u003cbr\\u003eUnemployment rate Rank: 73\\u003cbr\\u003eHappiness Rank: 102\\u003cbr\\u003eMismatch: 29\",\"line\":{\"color\":\"#1E88E5\",\"width\":2},\"mode\":\"lines+markers\",\"name\":\"Zimbabwe\",\"visible\":false,\"x\":[\"Unemployment rate Rank\",\"Happiness Rank\"],\"y\":[73,102],\"type\":\"scatter\"},{\"hoverinfo\":\"text\",\"hovertext\":\"Chile\\u003cbr\\u003eUnemployment rate Rank: 74\\u003cbr\\u003eHappiness Rank: 24\\u003cbr\\u003eMismatch: 50\",\"line\":{\"color\":\"#D81B60\",\"width\":2},\"mode\":\"lines+markers\",\"name\":\"Chile\",\"visible\":false,\"x\":[\"Unemployment rate Rank\",\"Happiness Rank\"],\"y\":[74,24],\"type\":\"scatter\"},{\"hoverinfo\":\"text\",\"hovertext\":\"Ukraine\\u003cbr\\u003eUnemployment rate Rank: 75\\u003cbr\\u003eHappiness Rank: 96\\u003cbr\\u003eMismatch: 21\",\"line\":{\"color\":\"#1E88E5\",\"width\":2},\"mode\":\"lines+markers\",\"name\":\"Ukraine\",\"visible\":false,\"x\":[\"Unemployment rate Rank\",\"Happiness Rank\"],\"y\":[75,96],\"type\":\"scatter\"},{\"hoverinfo\":\"text\",\"hovertext\":\"France\\u003cbr\\u003eUnemployment rate Rank: 76\\u003cbr\\u003eHappiness Rank: 23\\u003cbr\\u003eMismatch: 53\",\"line\":{\"color\":\"#D81B60\",\"width\":2},\"mode\":\"lines+markers\",\"name\":\"France\",\"visible\":false,\"x\":[\"Unemployment rate Rank\",\"Happiness Rank\"],\"y\":[76,23],\"type\":\"scatter\"},{\"hoverinfo\":\"text\",\"hovertext\":\"Uruguay\\u003cbr\\u003eUnemployment rate Rank: 77\\u003cbr\\u003eHappiness Rank: 31\\u003cbr\\u003eMismatch: 46\",\"line\":{\"color\":\"#D81B60\",\"width\":2},\"mode\":\"lines+markers\",\"name\":\"Uruguay\",\"visible\":false,\"x\":[\"Unemployment rate Rank\",\"Happiness Rank\"],\"y\":[77,31],\"type\":\"scatter\"},{\"hoverinfo\":\"text\",\"hovertext\":\"Uzbekistan\\u003cbr\\u003eUnemployment rate Rank: 78\\u003cbr\\u003eHappiness Rank: 36\\u003cbr\\u003eMismatch: 42\",\"line\":{\"color\":\"#D81B60\",\"width\":2},\"mode\":\"lines+markers\",\"name\":\"Uzbekistan\",\"visible\":false,\"x\":[\"Unemployment rate Rank\",\"Happiness Rank\"],\"y\":[78,36],\"type\":\"scatter\"},{\"hoverinfo\":\"text\",\"hovertext\":\"Mongolia\\u003cbr\\u003eUnemployment rate Rank: 79\\u003cbr\\u003eHappiness Rank: 69\\u003cbr\\u003eMismatch: 10\",\"line\":{\"color\":\"#1E88E5\",\"width\":2},\"mode\":\"lines+markers\",\"name\":\"Mongolia\",\"visible\":false,\"x\":[\"Unemployment rate Rank\",\"Happiness Rank\"],\"y\":[79,69],\"type\":\"scatter\"},{\"hoverinfo\":\"text\",\"hovertext\":\"Armenia\\u003cbr\\u003eUnemployment rate Rank: 80\\u003cbr\\u003eHappiness Rank: 87\\u003cbr\\u003eMismatch: 7\",\"line\":{\"color\":\"#1E88E5\",\"width\":2},\"mode\":\"lines+markers\",\"name\":\"Armenia\",\"visible\":false,\"x\":[\"Unemployment rate Rank\",\"Happiness Rank\"],\"y\":[80,87],\"type\":\"scatter\"},{\"hoverinfo\":\"text\",\"hovertext\":\"Argentina\\u003cbr\\u003eUnemployment rate Rank: 81\\u003cbr\\u003eHappiness Rank: 41\\u003cbr\\u003eMismatch: 40\",\"line\":{\"color\":\"#D81B60\",\"width\":2},\"mode\":\"lines+markers\",\"name\":\"Argentina\",\"visible\":false,\"x\":[\"Unemployment rate Rank\",\"Happiness Rank\"],\"y\":[81,41],\"type\":\"scatter\"},{\"hoverinfo\":\"text\",\"hovertext\":\"Italy\\u003cbr\\u003eUnemployment rate Rank: 82\\u003cbr\\u003eHappiness Rank: 34\\u003cbr\\u003eMismatch: 48\",\"line\":{\"color\":\"#D81B60\",\"width\":2},\"mode\":\"lines+markers\",\"name\":\"Italy\",\"visible\":false,\"x\":[\"Unemployment rate Rank\",\"Happiness Rank\"],\"y\":[82,34],\"type\":\"scatter\"},{\"hoverinfo\":\"text\",\"hovertext\":\"Colombia\\u003cbr\\u003eUnemployment rate Rank: 83\\u003cbr\\u003eHappiness Rank: 38\\u003cbr\\u003eMismatch: 45\",\"line\":{\"color\":\"#D81B60\",\"width\":2},\"mode\":\"lines+markers\",\"name\":\"Colombia\",\"visible\":false,\"x\":[\"Unemployment rate Rank\",\"Happiness Rank\"],\"y\":[83,38],\"type\":\"scatter\"},{\"hoverinfo\":\"text\",\"hovertext\":\"Serbia\\u003cbr\\u003eUnemployment rate Rank: 84\\u003cbr\\u003eHappiness Rank: 60\\u003cbr\\u003eMismatch: 24\",\"line\":{\"color\":\"#1E88E5\",\"width\":2},\"mode\":\"lines+markers\",\"name\":\"Serbia\",\"visible\":false,\"x\":[\"Unemployment rate Rank\",\"Happiness Rank\"],\"y\":[84,60],\"type\":\"scatter\"},{\"hoverinfo\":\"text\",\"hovertext\":\"Mauritania\\u003cbr\\u003eUnemployment rate Rank: 85\\u003cbr\\u003eHappiness Rank: 91\\u003cbr\\u003eMismatch: 6\",\"line\":{\"color\":\"#1E88E5\",\"width\":2},\"mode\":\"lines+markers\",\"name\":\"Mauritania\",\"visible\":false,\"x\":[\"Unemployment rate Rank\",\"Happiness Rank\"],\"y\":[85,91],\"type\":\"scatter\"},{\"hoverinfo\":\"text\",\"hovertext\":\"Nigeria\\u003cbr\\u003eUnemployment rate Rank: 86\\u003cbr\\u003eHappiness Rank: 71\\u003cbr\\u003eMismatch: 15\",\"line\":{\"color\":\"#1E88E5\",\"width\":2},\"mode\":\"lines+markers\",\"name\":\"Nigeria\",\"visible\":false,\"x\":[\"Unemployment rate Rank\",\"Happiness Rank\"],\"y\":[86,71],\"type\":\"scatter\"},{\"hoverinfo\":\"text\",\"hovertext\":\"Costa Rica\\u003cbr\\u003eUnemployment rate Rank: 87\\u003cbr\\u003eHappiness Rank: 12\\u003cbr\\u003eMismatch: 75\",\"line\":{\"color\":\"#D81B60\",\"width\":2},\"mode\":\"lines+markers\",\"name\":\"Costa Rica\",\"visible\":false,\"x\":[\"Unemployment rate Rank\",\"Happiness Rank\"],\"y\":[87,12],\"type\":\"scatter\"},{\"hoverinfo\":\"text\",\"hovertext\":\"Rwanda\\u003cbr\\u003eUnemployment rate Rank: 88\\u003cbr\\u003eHappiness Rank: 104\\u003cbr\\u003eMismatch: 16\",\"line\":{\"color\":\"#1E88E5\",\"width\":2},\"mode\":\"lines+markers\",\"name\":\"Rwanda\",\"visible\":false,\"x\":[\"Unemployment rate Rank\",\"Happiness Rank\"],\"y\":[88,104],\"type\":\"scatter\"},{\"hoverinfo\":\"text\",\"hovertext\":\"Lebanon\\u003cbr\\u003eUnemployment rate Rank: 89\\u003cbr\\u003eHappiness Rank: 73\\u003cbr\\u003eMismatch: 16\",\"line\":{\"color\":\"#1E88E5\",\"width\":2},\"mode\":\"lines+markers\",\"name\":\"Lebanon\",\"visible\":false,\"x\":[\"Unemployment rate Rank\",\"Happiness Rank\"],\"y\":[89,73],\"type\":\"scatter\"},{\"hoverinfo\":\"text\",\"hovertext\":\"Albania\\u003cbr\\u003eUnemployment rate Rank: 90\\u003cbr\\u003eHappiness Rank: 81\\u003cbr\\u003eMismatch: 9\",\"line\":{\"color\":\"#1E88E5\",\"width\":2},\"mode\":\"lines+markers\",\"name\":\"Albania\",\"visible\":false,\"x\":[\"Unemployment rate Rank\",\"Happiness Rank\"],\"y\":[90,81],\"type\":\"scatter\"},{\"hoverinfo\":\"text\",\"hovertext\":\"Georgia\\u003cbr\\u003eUnemployment rate Rank: 91\\u003cbr\\u003eHappiness Rank: 89\\u003cbr\\u003eMismatch: 2\",\"line\":{\"color\":\"#1E88E5\",\"width\":2},\"mode\":\"lines+markers\",\"name\":\"Georgia\",\"visible\":false,\"x\":[\"Unemployment rate Rank\",\"Happiness Rank\"],\"y\":[91,89],\"type\":\"scatter\"},{\"hoverinfo\":\"text\",\"hovertext\":\"Brazil\\u003cbr\\u003eUnemployment rate Rank: 92\\u003cbr\\u003eHappiness Rank: 30\\u003cbr\\u003eMismatch: 62\",\"line\":{\"color\":\"#D81B60\",\"width\":2},\"mode\":\"lines+markers\",\"name\":\"Brazil\",\"visible\":false,\"x\":[\"Unemployment rate Rank\",\"Happiness Rank\"],\"y\":[92,30],\"type\":\"scatter\"},{\"hoverinfo\":\"text\",\"hovertext\":\"Spain\\u003cbr\\u003eUnemployment rate Rank: 93\\u003cbr\\u003eHappiness Rank: 28\\u003cbr\\u003eMismatch: 65\",\"line\":{\"color\":\"#D81B60\",\"width\":2},\"mode\":\"lines+markers\",\"name\":\"Spain\",\"visible\":false,\"x\":[\"Unemployment rate Rank\",\"Happiness Rank\"],\"y\":[93,28],\"type\":\"scatter\"},{\"hoverinfo\":\"text\",\"hovertext\":\"Montenegro\\u003cbr\\u003eUnemployment rate Rank: 94\\u003cbr\\u003eHappiness Rank: 62\\u003cbr\\u003eMismatch: 32\",\"line\":{\"color\":\"#D81B60\",\"width\":2},\"mode\":\"lines+markers\",\"name\":\"Montenegro\",\"visible\":false,\"x\":[\"Unemployment rate Rank\",\"Happiness Rank\"],\"y\":[94,62],\"type\":\"scatter\"},{\"hoverinfo\":\"text\",\"hovertext\":\"Bosnia and Herzegovina\\u003cbr\\u003eUnemployment rate Rank: 95\\u003cbr\\u003eHappiness Rank: 65\\u003cbr\\u003eMismatch: 30\",\"line\":{\"color\":\"#1E88E5\",\"width\":2},\"mode\":\"lines+markers\",\"name\":\"Bosnia and Herzegovina\",\"visible\":false,\"x\":[\"Unemployment rate Rank\",\"Happiness Rank\"],\"y\":[95,65],\"type\":\"scatter\"},{\"hoverinfo\":\"text\",\"hovertext\":\"Jordan\\u003cbr\\u003eUnemployment rate Rank: 96\\u003cbr\\u003eHappiness Rank: 78\\u003cbr\\u003eMismatch: 18\",\"line\":{\"color\":\"#1E88E5\",\"width\":2},\"mode\":\"lines+markers\",\"name\":\"Jordan\",\"visible\":false,\"x\":[\"Unemployment rate Rank\",\"Happiness Rank\"],\"y\":[96,78],\"type\":\"scatter\"},{\"hoverinfo\":\"text\",\"hovertext\":\"Lesotho\\u003cbr\\u003eUnemployment rate Rank: 97\\u003cbr\\u003eHappiness Rank: 101\\u003cbr\\u003eMismatch: 4\",\"line\":{\"color\":\"#1E88E5\",\"width\":2},\"mode\":\"lines+markers\",\"name\":\"Lesotho\",\"visible\":false,\"x\":[\"Unemployment rate Rank\",\"Happiness Rank\"],\"y\":[97,101],\"type\":\"scatter\"},{\"hoverinfo\":\"text\",\"hovertext\":\"Greece\\u003cbr\\u003eUnemployment rate Rank: 98\\u003cbr\\u003eHappiness Rank: 68\\u003cbr\\u003eMismatch: 30\",\"line\":{\"color\":\"#1E88E5\",\"width\":2},\"mode\":\"lines+markers\",\"name\":\"Greece\",\"visible\":false,\"x\":[\"Unemployment rate Rank\",\"Happiness Rank\"],\"y\":[98,68],\"type\":\"scatter\"},{\"hoverinfo\":\"text\",\"hovertext\":\"Tunisia\\u003cbr\\u003eUnemployment rate Rank: 99\\u003cbr\\u003eHappiness Rank: 92\\u003cbr\\u003eMismatch: 7\",\"line\":{\"color\":\"#1E88E5\",\"width\":2},\"mode\":\"lines+markers\",\"name\":\"Tunisia\",\"visible\":false,\"x\":[\"Unemployment rate Rank\",\"Happiness Rank\"],\"y\":[99,92],\"type\":\"scatter\"},{\"hoverinfo\":\"text\",\"hovertext\":\"North Macedonia\\u003cbr\\u003eUnemployment rate Rank: 100\\u003cbr\\u003eHappiness Rank: 70\\u003cbr\\u003eMismatch: 30\",\"line\":{\"color\":\"#1E88E5\",\"width\":2},\"mode\":\"lines+markers\",\"name\":\"North Macedonia\",\"visible\":false,\"x\":[\"Unemployment rate Rank\",\"Happiness Rank\"],\"y\":[100,70],\"type\":\"scatter\"},{\"hoverinfo\":\"text\",\"hovertext\":\"Somalia\\u003cbr\\u003eUnemployment rate Rank: 101\\u003cbr\\u003eHappiness Rank: 84\\u003cbr\\u003eMismatch: 17\",\"line\":{\"color\":\"#1E88E5\",\"width\":2},\"mode\":\"lines+markers\",\"name\":\"Somalia\",\"visible\":false,\"x\":[\"Unemployment rate Rank\",\"Happiness Rank\"],\"y\":[101,84],\"type\":\"scatter\"},{\"hoverinfo\":\"text\",\"hovertext\":\"Botswana\\u003cbr\\u003eUnemployment rate Rank: 102\\u003cbr\\u003eHappiness Rank: 103\\u003cbr\\u003eMismatch: 1\",\"line\":{\"color\":\"#1E88E5\",\"width\":2},\"mode\":\"lines+markers\",\"name\":\"Botswana\",\"visible\":false,\"x\":[\"Unemployment rate Rank\",\"Happiness Rank\"],\"y\":[102,103],\"type\":\"scatter\"},{\"hoverinfo\":\"text\",\"hovertext\":\"Kosovo\\u003cbr\\u003eUnemployment rate Rank: 103\\u003cbr\\u003eHappiness Rank: 40\\u003cbr\\u003eMismatch: 63\",\"line\":{\"color\":\"#D81B60\",\"width\":2},\"mode\":\"lines+markers\",\"name\":\"Kosovo\",\"visible\":false,\"x\":[\"Unemployment rate Rank\",\"Happiness Rank\"],\"y\":[103,40],\"type\":\"scatter\"},{\"hoverinfo\":\"text\",\"hovertext\":\"South Africa\\u003cbr\\u003eUnemployment rate Rank: 104\\u003cbr\\u003eHappiness Rank: 80\\u003cbr\\u003eMismatch: 24\",\"line\":{\"color\":\"#1E88E5\",\"width\":2},\"mode\":\"lines+markers\",\"name\":\"South Africa\",\"visible\":false,\"x\":[\"Unemployment rate Rank\",\"Happiness Rank\"],\"y\":[104,80],\"type\":\"scatter\"},{\"hoverinfo\":\"text\",\"hovertext\":\"Namibia\\u003cbr\\u003eEducation expenditure Rank: 1\\u003cbr\\u003eHappiness Rank: 89\\u003cbr\\u003eMismatch: 88\",\"line\":{\"color\":\"#D81B60\",\"width\":2},\"mode\":\"lines+markers\",\"name\":\"Namibia\",\"visible\":false,\"x\":[\"Education expenditure Rank\",\"Happiness Rank\"],\"y\":[1,89],\"type\":\"scatter\"},{\"hoverinfo\":\"text\",\"hovertext\":\"Botswana\\u003cbr\\u003eEducation expenditure Rank: 2\\u003cbr\\u003eHappiness Rank: 115\\u003cbr\\u003eMismatch: 113\",\"line\":{\"color\":\"#D81B60\",\"width\":2},\"mode\":\"lines+markers\",\"name\":\"Botswana\",\"visible\":false,\"x\":[\"Education expenditure Rank\",\"Happiness Rank\"],\"y\":[2,115],\"type\":\"scatter\"},{\"hoverinfo\":\"text\",\"hovertext\":\"Bolivia\\u003cbr\\u003eEducation expenditure Rank: 3\\u003cbr\\u003eHappiness Rank: 52\\u003cbr\\u003eMismatch: 49\",\"line\":{\"color\":\"#D81B60\",\"width\":2},\"mode\":\"lines+markers\",\"name\":\"Bolivia\",\"visible\":false,\"x\":[\"Education expenditure Rank\",\"Happiness Rank\"],\"y\":[3,52],\"type\":\"scatter\"},{\"hoverinfo\":\"text\",\"hovertext\":\"Norway\\u003cbr\\u003eEducation expenditure Rank: 4\\u003cbr\\u003eHappiness Rank: 3\\u003cbr\\u003eMismatch: 1\",\"line\":{\"color\":\"#1E88E5\",\"width\":2},\"mode\":\"lines+markers\",\"name\":\"Norway\",\"visible\":false,\"x\":[\"Education expenditure Rank\",\"Happiness Rank\"],\"y\":[4,3],\"type\":\"scatter\"},{\"hoverinfo\":\"text\",\"hovertext\":\"Sweden\\u003cbr\\u003eEducation expenditure Rank: 5\\u003cbr\\u003eHappiness Rank: 7\\u003cbr\\u003eMismatch: 2\",\"line\":{\"color\":\"#1E88E5\",\"width\":2},\"mode\":\"lines+markers\",\"name\":\"Sweden\",\"visible\":false,\"x\":[\"Education expenditure Rank\",\"Happiness Rank\"],\"y\":[5,7],\"type\":\"scatter\"},{\"hoverinfo\":\"text\",\"hovertext\":\"Iceland\\u003cbr\\u003eEducation expenditure Rank: 6\\u003cbr\\u003eHappiness Rank: 4\\u003cbr\\u003eMismatch: 2\",\"line\":{\"color\":\"#1E88E5\",\"width\":2},\"mode\":\"lines+markers\",\"name\":\"Iceland\",\"visible\":false,\"x\":[\"Education expenditure Rank\",\"Happiness Rank\"],\"y\":[6,4],\"type\":\"scatter\"},{\"hoverinfo\":\"text\",\"hovertext\":\"Sierra Leone\\u003cbr\\u003eEducation expenditure Rank: 7\\u003cbr\\u003eHappiness Rank: 101\\u003cbr\\u003eMismatch: 94\",\"line\":{\"color\":\"#D81B60\",\"width\":2},\"mode\":\"lines+markers\",\"name\":\"Sierra Leone\",\"visible\":false,\"x\":[\"Education expenditure Rank\",\"Happiness Rank\"],\"y\":[7,101],\"type\":\"scatter\"},{\"hoverinfo\":\"text\",\"hovertext\":\"Denmark\\u003cbr\\u003eEducation expenditure Rank: 8\\u003cbr\\u003eHappiness Rank: 2\\u003cbr\\u003eMismatch: 6\",\"line\":{\"color\":\"#1E88E5\",\"width\":2},\"mode\":\"lines+markers\",\"name\":\"Denmark\",\"visible\":false,\"x\":[\"Education expenditure Rank\",\"Happiness Rank\"],\"y\":[8,2],\"type\":\"scatter\"},{\"hoverinfo\":\"text\",\"hovertext\":\"Lesotho\\u003cbr\\u003eEducation expenditure Rank: 9\\u003cbr\\u003eHappiness Rank: 112\\u003cbr\\u003eMismatch: 103\",\"line\":{\"color\":\"#D81B60\",\"width\":2},\"mode\":\"lines+markers\",\"name\":\"Lesotho\",\"visible\":false,\"x\":[\"Education expenditure Rank\",\"Happiness Rank\"],\"y\":[9,112],\"type\":\"scatter\"},{\"hoverinfo\":\"text\",\"hovertext\":\"Costa Rica\\u003cbr\\u003eEducation expenditure Rank: 10\\u003cbr\\u003eHappiness Rank: 12\\u003cbr\\u003eMismatch: 2\",\"line\":{\"color\":\"#1E88E5\",\"width\":2},\"mode\":\"lines+markers\",\"name\":\"Costa Rica\",\"visible\":false,\"x\":[\"Education expenditure Rank\",\"Happiness Rank\"],\"y\":[10,12],\"type\":\"scatter\"},{\"hoverinfo\":\"text\",\"hovertext\":\"Kuwait\\u003cbr\\u003eEducation expenditure Rank: 11\\u003cbr\\u003eHappiness Rank: 43\\u003cbr\\u003eMismatch: 32\",\"line\":{\"color\":\"#D81B60\",\"width\":2},\"mode\":\"lines+markers\",\"name\":\"Kuwait\",\"visible\":false,\"x\":[\"Education expenditure Rank\",\"Happiness Rank\"],\"y\":[11,43],\"type\":\"scatter\"},{\"hoverinfo\":\"text\",\"hovertext\":\"Finland\\u003cbr\\u003eEducation expenditure Rank: 12\\u003cbr\\u003eHappiness Rank: 1\\u003cbr\\u003eMismatch: 11\",\"line\":{\"color\":\"#1E88E5\",\"width\":2},\"mode\":\"lines+markers\",\"name\":\"Finland\",\"visible\":false,\"x\":[\"Education expenditure Rank\",\"Happiness Rank\"],\"y\":[12,1],\"type\":\"scatter\"},{\"hoverinfo\":\"text\",\"hovertext\":\"Belgium\\u003cbr\\u003eEducation expenditure Rank: 13\\u003cbr\\u003eHappiness Rank: 18\\u003cbr\\u003eMismatch: 5\",\"line\":{\"color\":\"#1E88E5\",\"width\":2},\"mode\":\"lines+markers\",\"name\":\"Belgium\",\"visible\":false,\"x\":[\"Education expenditure Rank\",\"Happiness Rank\"],\"y\":[13,18],\"type\":\"scatter\"},{\"hoverinfo\":\"text\",\"hovertext\":\"Uzbekistan\\u003cbr\\u003eEducation expenditure Rank: 14\\u003cbr\\u003eHappiness Rank: 35\\u003cbr\\u003eMismatch: 21\",\"line\":{\"color\":\"#1E88E5\",\"width\":2},\"mode\":\"lines+markers\",\"name\":\"Uzbekistan\",\"visible\":false,\"x\":[\"Education expenditure Rank\",\"Happiness Rank\"],\"y\":[14,35],\"type\":\"scatter\"},{\"hoverinfo\":\"text\",\"hovertext\":\"Mozambique\\u003cbr\\u003eEducation expenditure Rank: 15\\u003cbr\\u003eHappiness Rank: 97\\u003cbr\\u003eMismatch: 82\",\"line\":{\"color\":\"#D81B60\",\"width\":2},\"mode\":\"lines+markers\",\"name\":\"Mozambique\",\"visible\":false,\"x\":[\"Education expenditure Rank\",\"Happiness Rank\"],\"y\":[15,97],\"type\":\"scatter\"},{\"hoverinfo\":\"text\",\"hovertext\":\"Moldova\\u003cbr\\u003eEducation expenditure Rank: 16\\u003cbr\\u003eHappiness Rank: 60\\u003cbr\\u003eMismatch: 44\",\"line\":{\"color\":\"#D81B60\",\"width\":2},\"mode\":\"lines+markers\",\"name\":\"Moldova\",\"visible\":false,\"x\":[\"Education expenditure Rank\",\"Happiness Rank\"],\"y\":[16,60],\"type\":\"scatter\"},{\"hoverinfo\":\"text\",\"hovertext\":\"Tunisia\\u003cbr\\u003eEducation expenditure Rank: 17\\u003cbr\\u003eHappiness Rank: 98\\u003cbr\\u003eMismatch: 81\",\"line\":{\"color\":\"#D81B60\",\"width\":2},\"mode\":\"lines+markers\",\"name\":\"Tunisia\",\"visible\":false,\"x\":[\"Education expenditure Rank\",\"Happiness Rank\"],\"y\":[17,98],\"type\":\"scatter\"},{\"hoverinfo\":\"text\",\"hovertext\":\"Israel\\u003cbr\\u003eEducation expenditure Rank: 18\\u003cbr\\u003eHappiness Rank: 13\\u003cbr\\u003eMismatch: 5\",\"line\":{\"color\":\"#1E88E5\",\"width\":2},\"mode\":\"lines+markers\",\"name\":\"Israel\",\"visible\":false,\"x\":[\"Education expenditure Rank\",\"Happiness Rank\"],\"y\":[18,13],\"type\":\"scatter\"},{\"hoverinfo\":\"text\",\"hovertext\":\"Brazil\\u003cbr\\u003eEducation expenditure Rank: 19\\u003cbr\\u003eHappiness Rank: 28\\u003cbr\\u003eMismatch: 9\",\"line\":{\"color\":\"#1E88E5\",\"width\":2},\"mode\":\"lines+markers\",\"name\":\"Brazil\",\"visible\":false,\"x\":[\"Education expenditure Rank\",\"Happiness Rank\"],\"y\":[19,28],\"type\":\"scatter\"},{\"hoverinfo\":\"text\",\"hovertext\":\"Honduras\\u003cbr\\u003eEducation expenditure Rank: 20\\u003cbr\\u003eHappiness Rank: 50\\u003cbr\\u003eMismatch: 30\",\"line\":{\"color\":\"#1E88E5\",\"width\":2},\"mode\":\"lines+markers\",\"name\":\"Honduras\",\"visible\":false,\"x\":[\"Education expenditure Rank\",\"Happiness Rank\"],\"y\":[20,50],\"type\":\"scatter\"},{\"hoverinfo\":\"text\",\"hovertext\":\"South Africa\\u003cbr\\u003eEducation expenditure Rank: 21\\u003cbr\\u003eHappiness Rank: 85\\u003cbr\\u003eMismatch: 64\",\"line\":{\"color\":\"#D81B60\",\"width\":2},\"mode\":\"lines+markers\",\"name\":\"South Africa\",\"visible\":false,\"x\":[\"Education expenditure Rank\",\"Happiness Rank\"],\"y\":[21,85],\"type\":\"scatter\"},{\"hoverinfo\":\"text\",\"hovertext\":\"Chile\\u003cbr\\u003eEducation expenditure Rank: 22\\u003cbr\\u003eHappiness Rank: 23\\u003cbr\\u003eMismatch: 1\",\"line\":{\"color\":\"#1E88E5\",\"width\":2},\"mode\":\"lines+markers\",\"name\":\"Chile\",\"visible\":false,\"x\":[\"Education expenditure Rank\",\"Happiness Rank\"],\"y\":[22,23],\"type\":\"scatter\"},{\"hoverinfo\":\"text\",\"hovertext\":\"Algeria\\u003cbr\\u003eEducation expenditure Rank: 23\\u003cbr\\u003eHappiness Rank: 71\\u003cbr\\u003eMismatch: 48\",\"line\":{\"color\":\"#D81B60\",\"width\":2},\"mode\":\"lines+markers\",\"name\":\"Algeria\",\"visible\":false,\"x\":[\"Education expenditure Rank\",\"Happiness Rank\"],\"y\":[23,71],\"type\":\"scatter\"},{\"hoverinfo\":\"text\",\"hovertext\":\"Australia\\u003cbr\\u003eEducation expenditure Rank: 24\\u003cbr\\u003eHappiness Rank: 11\\u003cbr\\u003eMismatch: 13\",\"line\":{\"color\":\"#1E88E5\",\"width\":2},\"mode\":\"lines+markers\",\"name\":\"Australia\",\"visible\":false,\"x\":[\"Education expenditure Rank\",\"Happiness Rank\"],\"y\":[24,11],\"type\":\"scatter\"},{\"hoverinfo\":\"text\",\"hovertext\":\"Tajikistan\\u003cbr\\u003eEducation expenditure Rank: 25\\u003cbr\\u003eHappiness Rank: 61\\u003cbr\\u003eMismatch: 36\",\"line\":{\"color\":\"#D81B60\",\"width\":2},\"mode\":\"lines+markers\",\"name\":\"Tajikistan\",\"visible\":false,\"x\":[\"Education expenditure Rank\",\"Happiness Rank\"],\"y\":[25,61],\"type\":\"scatter\"},{\"hoverinfo\":\"text\",\"hovertext\":\"Ukraine\\u003cbr\\u003eEducation expenditure Rank: 26\\u003cbr\\u003eHappiness Rank: 104\\u003cbr\\u003eMismatch: 78\",\"line\":{\"color\":\"#D81B60\",\"width\":2},\"mode\":\"lines+markers\",\"name\":\"Ukraine\",\"visible\":false,\"x\":[\"Education expenditure Rank\",\"Happiness Rank\"],\"y\":[26,104],\"type\":\"scatter\"},{\"hoverinfo\":\"text\",\"hovertext\":\"Burkina Faso\\u003cbr\\u003eEducation expenditure Rank: 27\\u003cbr\\u003eHappiness Rank: 91\\u003cbr\\u003eMismatch: 64\",\"line\":{\"color\":\"#D81B60\",\"width\":2},\"mode\":\"lines+markers\",\"name\":\"Burkina Faso\",\"visible\":false,\"x\":[\"Education expenditure Rank\",\"Happiness Rank\"],\"y\":[27,91],\"type\":\"scatter\"},{\"hoverinfo\":\"text\",\"hovertext\":\"Kenya\\u003cbr\\u003eEducation expenditure Rank: 28\\u003cbr\\u003eHappiness Rank: 95\\u003cbr\\u003eMismatch: 67\",\"line\":{\"color\":\"#D81B60\",\"width\":2},\"mode\":\"lines+markers\",\"name\":\"Kenya\",\"visible\":false,\"x\":[\"Education expenditure Rank\",\"Happiness Rank\"],\"y\":[28,95],\"type\":\"scatter\"},{\"hoverinfo\":\"text\",\"hovertext\":\"France\\u003cbr\\u003eEducation expenditure Rank: 29\\u003cbr\\u003eHappiness Rank: 22\\u003cbr\\u003eMismatch: 7\",\"line\":{\"color\":\"#1E88E5\",\"width\":2},\"mode\":\"lines+markers\",\"name\":\"France\",\"visible\":false,\"x\":[\"Education expenditure Rank\",\"Happiness Rank\"],\"y\":[29,22],\"type\":\"scatter\"},{\"hoverinfo\":\"text\",\"hovertext\":\"Burundi\\u003cbr\\u003eEducation expenditure Rank: 30\\u003cbr\\u003eHappiness Rank: 113\\u003cbr\\u003eMismatch: 83\",\"line\":{\"color\":\"#D81B60\",\"width\":2},\"mode\":\"lines+markers\",\"name\":\"Burundi\",\"visible\":false,\"x\":[\"Education expenditure Rank\",\"Happiness Rank\"],\"y\":[30,113],\"type\":\"scatter\"},{\"hoverinfo\":\"text\",\"hovertext\":\"United Kingdom\\u003cbr\\u003eEducation expenditure Rank: 31\\u003cbr\\u003eHappiness Rank: 15\\u003cbr\\u003eMismatch: 16\",\"line\":{\"color\":\"#1E88E5\",\"width\":2},\"mode\":\"lines+markers\",\"name\":\"United Kingdom\",\"visible\":false,\"x\":[\"Education expenditure Rank\",\"Happiness Rank\"],\"y\":[31,15],\"type\":\"scatter\"},{\"hoverinfo\":\"text\",\"hovertext\":\"Estonia\\u003cbr\\u003eEducation expenditure Rank: 32\\u003cbr\\u003eHappiness Rank: 46\\u003cbr\\u003eMismatch: 14\",\"line\":{\"color\":\"#1E88E5\",\"width\":2},\"mode\":\"lines+markers\",\"name\":\"Estonia\",\"visible\":false,\"x\":[\"Education expenditure Rank\",\"Happiness Rank\"],\"y\":[32,46],\"type\":\"scatter\"},{\"hoverinfo\":\"text\",\"hovertext\":\"Austria\\u003cbr\\u003eEducation expenditure Rank: 33\\u003cbr\\u003eHappiness Rank: 10\\u003cbr\\u003eMismatch: 23\",\"line\":{\"color\":\"#1E88E5\",\"width\":2},\"mode\":\"lines+markers\",\"name\":\"Austria\",\"visible\":false,\"x\":[\"Education expenditure Rank\",\"Happiness Rank\"],\"y\":[33,10],\"type\":\"scatter\"},{\"hoverinfo\":\"text\",\"hovertext\":\"Cyprus\\u003cbr\\u003eEducation expenditure Rank: 34\\u003cbr\\u003eHappiness Rank: 41\\u003cbr\\u003eMismatch: 7\",\"line\":{\"color\":\"#1E88E5\",\"width\":2},\"mode\":\"lines+markers\",\"name\":\"Cyprus\",\"visible\":false,\"x\":[\"Education expenditure Rank\",\"Happiness Rank\"],\"y\":[34,41],\"type\":\"scatter\"},{\"hoverinfo\":\"text\",\"hovertext\":\"New Zealand\\u003cbr\\u003eEducation expenditure Rank: 35\\u003cbr\\u003eHappiness Rank: 8\\u003cbr\\u003eMismatch: 27\",\"line\":{\"color\":\"#1E88E5\",\"width\":2},\"mode\":\"lines+markers\",\"name\":\"New Zealand\",\"visible\":false,\"x\":[\"Education expenditure Rank\",\"Happiness Rank\"],\"y\":[35,8],\"type\":\"scatter\"},{\"hoverinfo\":\"text\",\"hovertext\":\"Jamaica\\u003cbr\\u003eEducation expenditure Rank: 36\\u003cbr\\u003eHappiness Rank: 47\\u003cbr\\u003eMismatch: 11\",\"line\":{\"color\":\"#1E88E5\",\"width\":2},\"mode\":\"lines+markers\",\"name\":\"Jamaica\",\"visible\":false,\"x\":[\"Education expenditure Rank\",\"Happiness Rank\"],\"y\":[36,47],\"type\":\"scatter\"},{\"hoverinfo\":\"text\",\"hovertext\":\"Netherlands\\u003cbr\\u003eEducation expenditure Rank: 37\\u003cbr\\u003eHappiness Rank: 5\\u003cbr\\u003eMismatch: 32\",\"line\":{\"color\":\"#D81B60\",\"width\":2},\"mode\":\"lines+markers\",\"name\":\"Netherlands\",\"visible\":false,\"x\":[\"Education expenditure Rank\",\"Happiness Rank\"],\"y\":[37,5],\"type\":\"scatter\"},{\"hoverinfo\":\"text\",\"hovertext\":\"Germany\\u003cbr\\u003eEducation expenditure Rank: 38\\u003cbr\\u003eHappiness Rank: 17\\u003cbr\\u003eMismatch: 21\",\"line\":{\"color\":\"#1E88E5\",\"width\":2},\"mode\":\"lines+markers\",\"name\":\"Germany\",\"visible\":false,\"x\":[\"Education expenditure Rank\",\"Happiness Rank\"],\"y\":[38,17],\"type\":\"scatter\"},{\"hoverinfo\":\"text\",\"hovertext\":\"Senegal\\u003cbr\\u003eEducation expenditure Rank: 39\\u003cbr\\u003eHappiness Rank: 88\\u003cbr\\u003eMismatch: 49\",\"line\":{\"color\":\"#D81B60\",\"width\":2},\"mode\":\"lines+markers\",\"name\":\"Senegal\",\"visible\":false,\"x\":[\"Education expenditure Rank\",\"Happiness Rank\"],\"y\":[39,88],\"type\":\"scatter\"},{\"hoverinfo\":\"text\",\"hovertext\":\"Switzerland\\u003cbr\\u003eEducation expenditure Rank: 40\\u003cbr\\u003eHappiness Rank: 6\\u003cbr\\u003eMismatch: 34\",\"line\":{\"color\":\"#D81B60\",\"width\":2},\"mode\":\"lines+markers\",\"name\":\"Switzerland\",\"visible\":false,\"x\":[\"Education expenditure Rank\",\"Happiness Rank\"],\"y\":[40,6],\"type\":\"scatter\"},{\"hoverinfo\":\"text\",\"hovertext\":\"Morocco\\u003cbr\\u003eEducation expenditure Rank: 41\\u003cbr\\u003eHappiness Rank: 72\\u003cbr\\u003eMismatch: 31\",\"line\":{\"color\":\"#D81B60\",\"width\":2},\"mode\":\"lines+markers\",\"name\":\"Morocco\",\"visible\":false,\"x\":[\"Education expenditure Rank\",\"Happiness Rank\"],\"y\":[41,72],\"type\":\"scatter\"},{\"hoverinfo\":\"text\",\"hovertext\":\"Belarus\\u003cbr\\u003eEducation expenditure Rank: 42\\u003cbr\\u003eHappiness Rank: 66\\u003cbr\\u003eMismatch: 24\",\"line\":{\"color\":\"#1E88E5\",\"width\":2},\"mode\":\"lines+markers\",\"name\":\"Belarus\",\"visible\":false,\"x\":[\"Education expenditure Rank\",\"Happiness Rank\"],\"y\":[42,66],\"type\":\"scatter\"},{\"hoverinfo\":\"text\",\"hovertext\":\"United States\\u003cbr\\u003eEducation expenditure Rank: 43\\u003cbr\\u003eHappiness Rank: 19\\u003cbr\\u003eMismatch: 24\",\"line\":{\"color\":\"#1E88E5\",\"width\":2},\"mode\":\"lines+markers\",\"name\":\"United States\",\"visible\":false,\"x\":[\"Education expenditure Rank\",\"Happiness Rank\"],\"y\":[43,19],\"type\":\"scatter\"},{\"hoverinfo\":\"text\",\"hovertext\":\"Malta\\u003cbr\\u003eEducation expenditure Rank: 44\\u003cbr\\u003eHappiness Rank: 21\\u003cbr\\u003eMismatch: 23\",\"line\":{\"color\":\"#1E88E5\",\"width\":2},\"mode\":\"lines+markers\",\"name\":\"Malta\",\"visible\":false,\"x\":[\"Education expenditure Rank\",\"Happiness Rank\"],\"y\":[44,21],\"type\":\"scatter\"},{\"hoverinfo\":\"text\",\"hovertext\":\"Slovenia\\u003cbr\\u003eEducation expenditure Rank: 45\\u003cbr\\u003eHappiness Rank: 37\\u003cbr\\u003eMismatch: 8\",\"line\":{\"color\":\"#1E88E5\",\"width\":2},\"mode\":\"lines+markers\",\"name\":\"Slovenia\",\"visible\":false,\"x\":[\"Education expenditure Rank\",\"Happiness Rank\"],\"y\":[45,37],\"type\":\"scatter\"},{\"hoverinfo\":\"text\",\"hovertext\":\"Canada\\u003cbr\\u003eEducation expenditure Rank: 46\\u003cbr\\u003eHappiness Rank: 9\\u003cbr\\u003eMismatch: 37\",\"line\":{\"color\":\"#D81B60\",\"width\":2},\"mode\":\"lines+markers\",\"name\":\"Canada\",\"visible\":false,\"x\":[\"Education expenditure Rank\",\"Happiness Rank\"],\"y\":[46,9],\"type\":\"scatter\"},{\"hoverinfo\":\"text\",\"hovertext\":\"Argentina\\u003cbr\\u003eEducation expenditure Rank: 47\\u003cbr\\u003eHappiness Rank: 39\\u003cbr\\u003eMismatch: 8\",\"line\":{\"color\":\"#1E88E5\",\"width\":2},\"mode\":\"lines+markers\",\"name\":\"Argentina\",\"visible\":false,\"x\":[\"Education expenditure Rank\",\"Happiness Rank\"],\"y\":[47,39],\"type\":\"scatter\"},{\"hoverinfo\":\"text\",\"hovertext\":\"Poland\\u003cbr\\u003eEducation expenditure Rank: 48\\u003cbr\\u003eHappiness Rank: 34\\u003cbr\\u003eMismatch: 14\",\"line\":{\"color\":\"#1E88E5\",\"width\":2},\"mode\":\"lines+markers\",\"name\":\"Poland\",\"visible\":false,\"x\":[\"Education expenditure Rank\",\"Happiness Rank\"],\"y\":[48,34],\"type\":\"scatter\"},{\"hoverinfo\":\"text\",\"hovertext\":\"Portugal\\u003cbr\\u003eEducation expenditure Rank: 49\\u003cbr\\u003eHappiness Rank: 56\\u003cbr\\u003eMismatch: 7\",\"line\":{\"color\":\"#1E88E5\",\"width\":2},\"mode\":\"lines+markers\",\"name\":\"Portugal\",\"visible\":false,\"x\":[\"Education expenditure Rank\",\"Happiness Rank\"],\"y\":[49,56],\"type\":\"scatter\"},{\"hoverinfo\":\"text\",\"hovertext\":\"Uruguay\\u003cbr\\u003eEducation expenditure Rank: 50\\u003cbr\\u003eHappiness Rank: 29\\u003cbr\\u003eMismatch: 21\",\"line\":{\"color\":\"#1E88E5\",\"width\":2},\"mode\":\"lines+markers\",\"name\":\"Uruguay\",\"visible\":false,\"x\":[\"Education expenditure Rank\",\"Happiness Rank\"],\"y\":[50,29],\"type\":\"scatter\"},{\"hoverinfo\":\"text\",\"hovertext\":\"Nicaragua\\u003cbr\\u003eEducation expenditure Rank: 51\\u003cbr\\u003eHappiness Rank: 38\\u003cbr\\u003eMismatch: 13\",\"line\":{\"color\":\"#1E88E5\",\"width\":2},\"mode\":\"lines+markers\",\"name\":\"Nicaragua\",\"visible\":false,\"x\":[\"Education expenditure Rank\",\"Happiness Rank\"],\"y\":[51,38],\"type\":\"scatter\"},{\"hoverinfo\":\"text\",\"hovertext\":\"Mauritius\\u003cbr\\u003eEducation expenditure Rank: 52\\u003cbr\\u003eHappiness Rank: 48\\u003cbr\\u003eMismatch: 4\",\"line\":{\"color\":\"#1E88E5\",\"width\":2},\"mode\":\"lines+markers\",\"name\":\"Mauritius\",\"visible\":false,\"x\":[\"Education expenditure Rank\",\"Happiness Rank\"],\"y\":[52,48],\"type\":\"scatter\"},{\"hoverinfo\":\"text\",\"hovertext\":\"Bhutan\\u003cbr\\u003eEducation expenditure Rank: 53\\u003cbr\\u003eHappiness Rank: 77\\u003cbr\\u003eMismatch: 24\",\"line\":{\"color\":\"#1E88E5\",\"width\":2},\"mode\":\"lines+markers\",\"name\":\"Bhutan\",\"visible\":false,\"x\":[\"Education expenditure Rank\",\"Happiness Rank\"],\"y\":[53,77],\"type\":\"scatter\"},{\"hoverinfo\":\"text\",\"hovertext\":\"Ethiopia\\u003cbr\\u003eEducation expenditure Rank: 54\\u003cbr\\u003eHappiness Rank: 105\\u003cbr\\u003eMismatch: 51\",\"line\":{\"color\":\"#D81B60\",\"width\":2},\"mode\":\"lines+markers\",\"name\":\"Ethiopia\",\"visible\":false,\"x\":[\"Education expenditure Rank\",\"Happiness Rank\"],\"y\":[54,105],\"type\":\"scatter\"},{\"hoverinfo\":\"text\",\"hovertext\":\"Latvia\\u003cbr\\u003eEducation expenditure Rank: 55\\u003cbr\\u003eHappiness Rank: 45\\u003cbr\\u003eMismatch: 10\",\"line\":{\"color\":\"#1E88E5\",\"width\":2},\"mode\":\"lines+markers\",\"name\":\"Latvia\",\"visible\":false,\"x\":[\"Education expenditure Rank\",\"Happiness Rank\"],\"y\":[55,45],\"type\":\"scatter\"},{\"hoverinfo\":\"text\",\"hovertext\":\"Zambia\\u003cbr\\u003eEducation expenditure Rank: 56\\u003cbr\\u003eHappiness Rank: 107\\u003cbr\\u003eMismatch: 51\",\"line\":{\"color\":\"#D81B60\",\"width\":2},\"mode\":\"lines+markers\",\"name\":\"Zambia\",\"visible\":false,\"x\":[\"Education expenditure Rank\",\"Happiness Rank\"],\"y\":[56,107],\"type\":\"scatter\"},{\"hoverinfo\":\"text\",\"hovertext\":\"Ecuador\\u003cbr\\u003eEducation expenditure Rank: 57\\u003cbr\\u003eHappiness Rank: 42\\u003cbr\\u003eMismatch: 15\",\"line\":{\"color\":\"#1E88E5\",\"width\":2},\"mode\":\"lines+markers\",\"name\":\"Ecuador\",\"visible\":false,\"x\":[\"Education expenditure Rank\",\"Happiness Rank\"],\"y\":[57,42],\"type\":\"scatter\"},{\"hoverinfo\":\"text\",\"hovertext\":\"Spain\\u003cbr\\u003eEducation expenditure Rank: 58\\u003cbr\\u003eHappiness Rank: 26\\u003cbr\\u003eMismatch: 32\",\"line\":{\"color\":\"#D81B60\",\"width\":2},\"mode\":\"lines+markers\",\"name\":\"Spain\",\"visible\":false,\"x\":[\"Education expenditure Rank\",\"Happiness Rank\"],\"y\":[58,26],\"type\":\"scatter\"},{\"hoverinfo\":\"text\",\"hovertext\":\"Hungary\\u003cbr\\u003eEducation expenditure Rank: 59\\u003cbr\\u003eHappiness Rank: 53\\u003cbr\\u003eMismatch: 6\",\"line\":{\"color\":\"#1E88E5\",\"width\":2},\"mode\":\"lines+markers\",\"name\":\"Hungary\",\"visible\":false,\"x\":[\"Education expenditure Rank\",\"Happiness Rank\"],\"y\":[59,53],\"type\":\"scatter\"},{\"hoverinfo\":\"text\",\"hovertext\":\"Togo\\u003cbr\\u003eEducation expenditure Rank: 60\\u003cbr\\u003eHappiness Rank: 108\\u003cbr\\u003eMismatch: 48\",\"line\":{\"color\":\"#D81B60\",\"width\":2},\"mode\":\"lines+markers\",\"name\":\"Togo\",\"visible\":false,\"x\":[\"Education expenditure Rank\",\"Happiness Rank\"],\"y\":[60,108],\"type\":\"scatter\"},{\"hoverinfo\":\"text\",\"hovertext\":\"Bulgaria\\u003cbr\\u003eEducation expenditure Rank: 61\\u003cbr\\u003eHappiness Rank: 79\\u003cbr\\u003eMismatch: 18\",\"line\":{\"color\":\"#1E88E5\",\"width\":2},\"mode\":\"lines+markers\",\"name\":\"Bulgaria\",\"visible\":false,\"x\":[\"Education expenditure Rank\",\"Happiness Rank\"],\"y\":[61,79],\"type\":\"scatter\"},{\"hoverinfo\":\"text\",\"hovertext\":\"Italy\\u003cbr\\u003eEducation expenditure Rank: 62\\u003cbr\\u003eHappiness Rank: 32\\u003cbr\\u003eMismatch: 30\",\"line\":{\"color\":\"#1E88E5\",\"width\":2},\"mode\":\"lines+markers\",\"name\":\"Italy\",\"visible\":false,\"x\":[\"Education expenditure Rank\",\"Happiness Rank\"],\"y\":[62,32],\"type\":\"scatter\"},{\"hoverinfo\":\"text\",\"hovertext\":\"China\\u003cbr\\u003eEducation expenditure Rank: 63\\u003cbr\\u003eHappiness Rank: 76\\u003cbr\\u003eMismatch: 13\",\"line\":{\"color\":\"#1E88E5\",\"width\":2},\"mode\":\"lines+markers\",\"name\":\"China\",\"visible\":false,\"x\":[\"Education expenditure Rank\",\"Happiness Rank\"],\"y\":[63,76],\"type\":\"scatter\"},{\"hoverinfo\":\"text\",\"hovertext\":\"Bosnia and Herzegovina\\u003cbr\\u003eEducation expenditure Rank: 64\\u003cbr\\u003eHappiness Rank: 64\\u003cbr\\u003eMismatch: 0\",\"line\":{\"color\":\"#1E88E5\",\"width\":2},\"mode\":\"lines+markers\",\"name\":\"Bosnia and Herzegovina\",\"visible\":false,\"x\":[\"Education expenditure Rank\",\"Happiness Rank\"],\"y\":[64,64],\"type\":\"scatter\"},{\"hoverinfo\":\"text\",\"hovertext\":\"Dominican Republic\\u003cbr\\u003eEducation expenditure Rank: 65\\u003cbr\\u003eHappiness Rank: 63\\u003cbr\\u003eMismatch: 2\",\"line\":{\"color\":\"#1E88E5\",\"width\":2},\"mode\":\"lines+markers\",\"name\":\"Dominican Republic\",\"visible\":false,\"x\":[\"Education expenditure Rank\",\"Happiness Rank\"],\"y\":[65,63],\"type\":\"scatter\"},{\"hoverinfo\":\"text\",\"hovertext\":\"Malaysia\\u003cbr\\u003eEducation expenditure Rank: 66\\u003cbr\\u003eHappiness Rank: 65\\u003cbr\\u003eMismatch: 1\",\"line\":{\"color\":\"#1E88E5\",\"width\":2},\"mode\":\"lines+markers\",\"name\":\"Malaysia\",\"visible\":false,\"x\":[\"Education expenditure Rank\",\"Happiness Rank\"],\"y\":[66,65],\"type\":\"scatter\"},{\"hoverinfo\":\"text\",\"hovertext\":\"Lithuania\\u003cbr\\u003eEducation expenditure Rank: 67\\u003cbr\\u003eHappiness Rank: 36\\u003cbr\\u003eMismatch: 31\",\"line\":{\"color\":\"#D81B60\",\"width\":2},\"mode\":\"lines+markers\",\"name\":\"Lithuania\",\"visible\":false,\"x\":[\"Education expenditure Rank\",\"Happiness Rank\"],\"y\":[67,36],\"type\":\"scatter\"},{\"hoverinfo\":\"text\",\"hovertext\":\"Croatia\\u003cbr\\u003eEducation expenditure Rank: 68\\u003cbr\\u003eHappiness Rank: 62\\u003cbr\\u003eMismatch: 6\",\"line\":{\"color\":\"#1E88E5\",\"width\":2},\"mode\":\"lines+markers\",\"name\":\"Croatia\",\"visible\":false,\"x\":[\"Education expenditure Rank\",\"Happiness Rank\"],\"y\":[68,62],\"type\":\"scatter\"},{\"hoverinfo\":\"text\",\"hovertext\":\"Albania\\u003cbr\\u003eEducation expenditure Rank: 69\\u003cbr\\u003eHappiness Rank: 86\\u003cbr\\u003eMismatch: 17\",\"line\":{\"color\":\"#1E88E5\",\"width\":2},\"mode\":\"lines+markers\",\"name\":\"Albania\",\"visible\":false,\"x\":[\"Education expenditure Rank\",\"Happiness Rank\"],\"y\":[69,86],\"type\":\"scatter\"},{\"hoverinfo\":\"text\",\"hovertext\":\"India\\u003cbr\\u003eEducation expenditure Rank: 70\\u003cbr\\u003eHappiness Rank: 109\\u003cbr\\u003eMismatch: 39\",\"line\":{\"color\":\"#D81B60\",\"width\":2},\"mode\":\"lines+markers\",\"name\":\"India\",\"visible\":false,\"x\":[\"Education expenditure Rank\",\"Happiness Rank\"],\"y\":[70,109],\"type\":\"scatter\"},{\"hoverinfo\":\"text\",\"hovertext\":\"United Arab Emirates\\u003cbr\\u003eEducation expenditure Rank: 71\\u003cbr\\u003eHappiness Rank: 20\\u003cbr\\u003eMismatch: 51\",\"line\":{\"color\":\"#D81B60\",\"width\":2},\"mode\":\"lines+markers\",\"name\":\"United Arab Emirates\",\"visible\":false,\"x\":[\"Education expenditure Rank\",\"Happiness Rank\"],\"y\":[71,20],\"type\":\"scatter\"},{\"hoverinfo\":\"text\",\"hovertext\":\"Georgia\\u003cbr\\u003eEducation expenditure Rank: 72\\u003cbr\\u003eHappiness Rank: 94\\u003cbr\\u003eMismatch: 22\",\"line\":{\"color\":\"#1E88E5\",\"width\":2},\"mode\":\"lines+markers\",\"name\":\"Georgia\",\"visible\":false,\"x\":[\"Education expenditure Rank\",\"Happiness Rank\"],\"y\":[72,94],\"type\":\"scatter\"},{\"hoverinfo\":\"text\",\"hovertext\":\"Peru\\u003cbr\\u003eEducation expenditure Rank: 73\\u003cbr\\u003eHappiness Rank: 55\\u003cbr\\u003eMismatch: 18\",\"line\":{\"color\":\"#1E88E5\",\"width\":2},\"mode\":\"lines+markers\",\"name\":\"Peru\",\"visible\":false,\"x\":[\"Education expenditure Rank\",\"Happiness Rank\"],\"y\":[73,55],\"type\":\"scatter\"},{\"hoverinfo\":\"text\",\"hovertext\":\"Luxembourg\\u003cbr\\u003eEducation expenditure Rank: 74\\u003cbr\\u003eHappiness Rank: 14\\u003cbr\\u003eMismatch: 60\",\"line\":{\"color\":\"#D81B60\",\"width\":2},\"mode\":\"lines+markers\",\"name\":\"Luxembourg\",\"visible\":false,\"x\":[\"Education expenditure Rank\",\"Happiness Rank\"],\"y\":[74,14],\"type\":\"scatter\"},{\"hoverinfo\":\"text\",\"hovertext\":\"Mongolia\\u003cbr\\u003eEducation expenditure Rank: 75\\u003cbr\\u003eHappiness Rank: 68\\u003cbr\\u003eMismatch: 7\",\"line\":{\"color\":\"#1E88E5\",\"width\":2},\"mode\":\"lines+markers\",\"name\":\"Mongolia\",\"visible\":false,\"x\":[\"Education expenditure Rank\",\"Happiness Rank\"],\"y\":[75,68],\"type\":\"scatter\"},{\"hoverinfo\":\"text\",\"hovertext\":\"Serbia\\u003cbr\\u003eEducation expenditure Rank: 76\\u003cbr\\u003eHappiness Rank: 59\\u003cbr\\u003eMismatch: 17\",\"line\":{\"color\":\"#1E88E5\",\"width\":2},\"mode\":\"lines+markers\",\"name\":\"Serbia\",\"visible\":false,\"x\":[\"Education expenditure Rank\",\"Happiness Rank\"],\"y\":[76,59],\"type\":\"scatter\"},{\"hoverinfo\":\"text\",\"hovertext\":\"Tanzania\\u003cbr\\u003eEducation expenditure Rank: 77\\u003cbr\\u003eHappiness Rank: 117\\u003cbr\\u003eMismatch: 40\",\"line\":{\"color\":\"#D81B60\",\"width\":2},\"mode\":\"lines+markers\",\"name\":\"Tanzania\",\"visible\":false,\"x\":[\"Education expenditure Rank\",\"Happiness Rank\"],\"y\":[77,117],\"type\":\"scatter\"},{\"hoverinfo\":\"text\",\"hovertext\":\"Greece\\u003cbr\\u003eEducation expenditure Rank: 78\\u003cbr\\u003eHappiness Rank: 67\\u003cbr\\u003eMismatch: 11\",\"line\":{\"color\":\"#1E88E5\",\"width\":2},\"mode\":\"lines+markers\",\"name\":\"Greece\",\"visible\":false,\"x\":[\"Education expenditure Rank\",\"Happiness Rank\"],\"y\":[78,67],\"type\":\"scatter\"},{\"hoverinfo\":\"text\",\"hovertext\":\"Romania\\u003cbr\\u003eEducation expenditure Rank: 79\\u003cbr\\u003eHappiness Rank: 40\\u003cbr\\u003eMismatch: 39\",\"line\":{\"color\":\"#D81B60\",\"width\":2},\"mode\":\"lines+markers\",\"name\":\"Romania\",\"visible\":false,\"x\":[\"Education expenditure Rank\",\"Happiness Rank\"],\"y\":[79,40],\"type\":\"scatter\"},{\"hoverinfo\":\"text\",\"hovertext\":\"Mali\\u003cbr\\u003eEducation expenditure Rank: 80\\u003cbr\\u003eHappiness Rank: 100\\u003cbr\\u003eMismatch: 20\",\"line\":{\"color\":\"#1E88E5\",\"width\":2},\"mode\":\"lines+markers\",\"name\":\"Mali\",\"visible\":false,\"x\":[\"Education expenditure Rank\",\"Happiness Rank\"],\"y\":[80,100],\"type\":\"scatter\"},{\"hoverinfo\":\"text\",\"hovertext\":\"Niger\\u003cbr\\u003eEducation expenditure Rank: 81\\u003cbr\\u003eHappiness Rank: 90\\u003cbr\\u003eMismatch: 9\",\"line\":{\"color\":\"#1E88E5\",\"width\":2},\"mode\":\"lines+markers\",\"name\":\"Niger\",\"visible\":false,\"x\":[\"Education expenditure Rank\",\"Happiness Rank\"],\"y\":[81,90],\"type\":\"scatter\"},{\"hoverinfo\":\"text\",\"hovertext\":\"Paraguay\\u003cbr\\u003eEducation expenditure Rank: 82\\u003cbr\\u003eHappiness Rank: 54\\u003cbr\\u003eMismatch: 28\",\"line\":{\"color\":\"#1E88E5\",\"width\":2},\"mode\":\"lines+markers\",\"name\":\"Paraguay\",\"visible\":false,\"x\":[\"Education expenditure Rank\",\"Happiness Rank\"],\"y\":[82,54],\"type\":\"scatter\"},{\"hoverinfo\":\"text\",\"hovertext\":\"Nepal\\u003cbr\\u003eEducation expenditure Rank: 83\\u003cbr\\u003eHappiness Rank: 81\\u003cbr\\u003eMismatch: 2\",\"line\":{\"color\":\"#1E88E5\",\"width\":2},\"mode\":\"lines+markers\",\"name\":\"Nepal\",\"visible\":false,\"x\":[\"Education expenditure Rank\",\"Happiness Rank\"],\"y\":[83,81],\"type\":\"scatter\"},{\"hoverinfo\":\"text\",\"hovertext\":\"Philippines\\u003cbr\\u003eEducation expenditure Rank: 84\\u003cbr\\u003eHappiness Rank: 58\\u003cbr\\u003eMismatch: 26\",\"line\":{\"color\":\"#1E88E5\",\"width\":2},\"mode\":\"lines+markers\",\"name\":\"Philippines\",\"visible\":false,\"x\":[\"Education expenditure Rank\",\"Happiness Rank\"],\"y\":[84,58],\"type\":\"scatter\"},{\"hoverinfo\":\"text\",\"hovertext\":\"El Salvador\\u003cbr\\u003eEducation expenditure Rank: 85\\u003cbr\\u003eHappiness Rank: 31\\u003cbr\\u003eMismatch: 54\",\"line\":{\"color\":\"#D81B60\",\"width\":2},\"mode\":\"lines+markers\",\"name\":\"El Salvador\",\"visible\":false,\"x\":[\"Education expenditure Rank\",\"Happiness Rank\"],\"y\":[85,31],\"type\":\"scatter\"},{\"hoverinfo\":\"text\",\"hovertext\":\"Kazakhstan\\u003cbr\\u003eEducation expenditure Rank: 86\\u003cbr\\u003eHappiness Rank: 51\\u003cbr\\u003eMismatch: 35\",\"line\":{\"color\":\"#D81B60\",\"width\":2},\"mode\":\"lines+markers\",\"name\":\"Kazakhstan\",\"visible\":false,\"x\":[\"Education expenditure Rank\",\"Happiness Rank\"],\"y\":[86,51],\"type\":\"scatter\"},{\"hoverinfo\":\"text\",\"hovertext\":\"Ireland\\u003cbr\\u003eEducation expenditure Rank: 87\\u003cbr\\u003eHappiness Rank: 16\\u003cbr\\u003eMismatch: 71\",\"line\":{\"color\":\"#D81B60\",\"width\":2},\"mode\":\"lines+markers\",\"name\":\"Ireland\",\"visible\":false,\"x\":[\"Education expenditure Rank\",\"Happiness Rank\"],\"y\":[87,16],\"type\":\"scatter\"},{\"hoverinfo\":\"text\",\"hovertext\":\"Rwanda\\u003cbr\\u003eEducation expenditure Rank: 88\\u003cbr\\u003eHappiness Rank: 116\\u003cbr\\u003eMismatch: 28\",\"line\":{\"color\":\"#1E88E5\",\"width\":2},\"mode\":\"lines+markers\",\"name\":\"Rwanda\",\"visible\":false,\"x\":[\"Education expenditure Rank\",\"Happiness Rank\"],\"y\":[88,116],\"type\":\"scatter\"},{\"hoverinfo\":\"text\",\"hovertext\":\"Guatemala\\u003cbr\\u003eEducation expenditure Rank: 89\\u003cbr\\u003eHappiness Rank: 24\\u003cbr\\u003eMismatch: 65\",\"line\":{\"color\":\"#D81B60\",\"width\":2},\"mode\":\"lines+markers\",\"name\":\"Guatemala\",\"visible\":false,\"x\":[\"Education expenditure Rank\",\"Happiness Rank\"],\"y\":[89,24],\"type\":\"scatter\"},{\"hoverinfo\":\"text\",\"hovertext\":\"Azerbaijan\\u003cbr\\u003eEducation expenditure Rank: 90\\u003cbr\\u003eHappiness Rank: 72\\u003cbr\\u003eMismatch: 18\",\"line\":{\"color\":\"#1E88E5\",\"width\":2},\"mode\":\"lines+markers\",\"name\":\"Azerbaijan\",\"visible\":false,\"x\":[\"Education expenditure Rank\",\"Happiness Rank\"],\"y\":[90,72],\"type\":\"scatter\"},{\"hoverinfo\":\"text\",\"hovertext\":\"Japan\\u003cbr\\u003eEducation expenditure Rank: 91\\u003cbr\\u003eHappiness Rank: 49\\u003cbr\\u003eMismatch: 42\",\"line\":{\"color\":\"#D81B60\",\"width\":2},\"mode\":\"lines+markers\",\"name\":\"Japan\",\"visible\":false,\"x\":[\"Education expenditure Rank\",\"Happiness Rank\"],\"y\":[91,49],\"type\":\"scatter\"},{\"hoverinfo\":\"text\",\"hovertext\":\"Ghana\\u003cbr\\u003eEducation expenditure Rank: 92\\u003cbr\\u003eHappiness Rank: 80\\u003cbr\\u003eMismatch: 12\",\"line\":{\"color\":\"#1E88E5\",\"width\":2},\"mode\":\"lines+markers\",\"name\":\"Ghana\",\"visible\":false,\"x\":[\"Education expenditure Rank\",\"Happiness Rank\"],\"y\":[92,80],\"type\":\"scatter\"},{\"hoverinfo\":\"text\",\"hovertext\":\"Turkmenistan\\u003cbr\\u003eEducation expenditure Rank: 93\\u003cbr\\u003eHappiness Rank: 70\\u003cbr\\u003eMismatch: 23\",\"line\":{\"color\":\"#1E88E5\",\"width\":2},\"mode\":\"lines+markers\",\"name\":\"Turkmenistan\",\"visible\":false,\"x\":[\"Education expenditure Rank\",\"Happiness Rank\"],\"y\":[93,70],\"type\":\"scatter\"},{\"hoverinfo\":\"text\",\"hovertext\":\"Panama\\u003cbr\\u003eEducation expenditure Rank: 94\\u003cbr\\u003eHappiness Rank: 27\\u003cbr\\u003eMismatch: 67\",\"line\":{\"color\":\"#D81B60\",\"width\":2},\"mode\":\"lines+markers\",\"name\":\"Panama\",\"visible\":false,\"x\":[\"Education expenditure Rank\",\"Happiness Rank\"],\"y\":[94,27],\"type\":\"scatter\"},{\"hoverinfo\":\"text\",\"hovertext\":\"Cameroon\\u003cbr\\u003eEducation expenditure Rank: 95\\u003cbr\\u003eHappiness Rank: 78\\u003cbr\\u003eMismatch: 17\",\"line\":{\"color\":\"#1E88E5\",\"width\":2},\"mode\":\"lines+markers\",\"name\":\"Cameroon\",\"visible\":false,\"x\":[\"Education expenditure Rank\",\"Happiness Rank\"],\"y\":[95,78],\"type\":\"scatter\"},{\"hoverinfo\":\"text\",\"hovertext\":\"Thailand\\u003cbr\\u003eEducation expenditure Rank: 96\\u003cbr\\u003eHappiness Rank: 44\\u003cbr\\u003eMismatch: 52\",\"line\":{\"color\":\"#D81B60\",\"width\":2},\"mode\":\"lines+markers\",\"name\":\"Thailand\",\"visible\":false,\"x\":[\"Education expenditure Rank\",\"Happiness Rank\"],\"y\":[96,44],\"type\":\"scatter\"},{\"hoverinfo\":\"text\",\"hovertext\":\"Madagascar\\u003cbr\\u003eEducation expenditure Rank: 97\\u003cbr\\u003eHappiness Rank: 111\\u003cbr\\u003eMismatch: 14\",\"line\":{\"color\":\"#1E88E5\",\"width\":2},\"mode\":\"lines+markers\",\"name\":\"Madagascar\",\"visible\":false,\"x\":[\"Education expenditure Rank\",\"Happiness Rank\"],\"y\":[97,111],\"type\":\"scatter\"},{\"hoverinfo\":\"text\",\"hovertext\":\"Jordan\\u003cbr\\u003eEducation expenditure Rank: 98\\u003cbr\\u003eHappiness Rank: 82\\u003cbr\\u003eMismatch: 16\",\"line\":{\"color\":\"#1E88E5\",\"width\":2},\"mode\":\"lines+markers\",\"name\":\"Jordan\",\"visible\":false,\"x\":[\"Education expenditure Rank\",\"Happiness Rank\"],\"y\":[98,82],\"type\":\"scatter\"},{\"hoverinfo\":\"text\",\"hovertext\":\"Benin\\u003cbr\\u003eEducation expenditure Rank: 99\\u003cbr\\u003eHappiness Rank: 83\\u003cbr\\u003eMismatch: 16\",\"line\":{\"color\":\"#1E88E5\",\"width\":2},\"mode\":\"lines+markers\",\"name\":\"Benin\",\"visible\":false,\"x\":[\"Education expenditure Rank\",\"Happiness Rank\"],\"y\":[99,83],\"type\":\"scatter\"},{\"hoverinfo\":\"text\",\"hovertext\":\"Gabon\\u003cbr\\u003eEducation expenditure Rank: 100\\u003cbr\\u003eHappiness Rank: 84\\u003cbr\\u003eMismatch: 16\",\"line\":{\"color\":\"#1E88E5\",\"width\":2},\"mode\":\"lines+markers\",\"name\":\"Gabon\",\"visible\":false,\"x\":[\"Education expenditure Rank\",\"Happiness Rank\"],\"y\":[100,84],\"type\":\"scatter\"},{\"hoverinfo\":\"text\",\"hovertext\":\"Cambodia\\u003cbr\\u003eEducation expenditure Rank: 101\\u003cbr\\u003eHappiness Rank: 87\\u003cbr\\u003eMismatch: 14\",\"line\":{\"color\":\"#1E88E5\",\"width\":2},\"mode\":\"lines+markers\",\"name\":\"Cambodia\",\"visible\":false,\"x\":[\"Education expenditure Rank\",\"Happiness Rank\"],\"y\":[101,87],\"type\":\"scatter\"},{\"hoverinfo\":\"text\",\"hovertext\":\"Qatar\\u003cbr\\u003eEducation expenditure Rank: 102\\u003cbr\\u003eHappiness Rank: 25\\u003cbr\\u003eMismatch: 77\",\"line\":{\"color\":\"#D81B60\",\"width\":2},\"mode\":\"lines+markers\",\"name\":\"Qatar\",\"visible\":false,\"x\":[\"Education expenditure Rank\",\"Happiness Rank\"],\"y\":[102,25],\"type\":\"scatter\"},{\"hoverinfo\":\"text\",\"hovertext\":\"Singapore\\u003cbr\\u003eEducation expenditure Rank: 103\\u003cbr\\u003eHappiness Rank: 30\\u003cbr\\u003eMismatch: 73\",\"line\":{\"color\":\"#D81B60\",\"width\":2},\"mode\":\"lines+markers\",\"name\":\"Singapore\",\"visible\":false,\"x\":[\"Education expenditure Rank\",\"Happiness Rank\"],\"y\":[103,30],\"type\":\"scatter\"},{\"hoverinfo\":\"text\",\"hovertext\":\"Lebanon\\u003cbr\\u003eEducation expenditure Rank: 104\\u003cbr\\u003eHappiness Rank: 74\\u003cbr\\u003eMismatch: 30\",\"line\":{\"color\":\"#1E88E5\",\"width\":2},\"mode\":\"lines+markers\",\"name\":\"Lebanon\",\"visible\":false,\"x\":[\"Education expenditure Rank\",\"Happiness Rank\"],\"y\":[104,74],\"type\":\"scatter\"},{\"hoverinfo\":\"text\",\"hovertext\":\"Armenia\\u003cbr\\u003eEducation expenditure Rank: 105\\u003cbr\\u003eHappiness Rank: 92\\u003cbr\\u003eMismatch: 13\",\"line\":{\"color\":\"#1E88E5\",\"width\":2},\"mode\":\"lines+markers\",\"name\":\"Armenia\",\"visible\":false,\"x\":[\"Education expenditure Rank\",\"Happiness Rank\"],\"y\":[105,92],\"type\":\"scatter\"},{\"hoverinfo\":\"text\",\"hovertext\":\"Bahrain\\u003cbr\\u003eEducation expenditure Rank: 106\\u003cbr\\u003eHappiness Rank: 33\\u003cbr\\u003eMismatch: 73\",\"line\":{\"color\":\"#D81B60\",\"width\":2},\"mode\":\"lines+markers\",\"name\":\"Bahrain\",\"visible\":false,\"x\":[\"Education expenditure Rank\",\"Happiness Rank\"],\"y\":[106,33],\"type\":\"scatter\"},{\"hoverinfo\":\"text\",\"hovertext\":\"Chad\\u003cbr\\u003eEducation expenditure Rank: 107\\u003cbr\\u003eHappiness Rank: 103\\u003cbr\\u003eMismatch: 4\",\"line\":{\"color\":\"#1E88E5\",\"width\":2},\"mode\":\"lines+markers\",\"name\":\"Chad\",\"visible\":false,\"x\":[\"Education expenditure Rank\",\"Happiness Rank\"],\"y\":[107,103],\"type\":\"scatter\"},{\"hoverinfo\":\"text\",\"hovertext\":\"Uganda\\u003cbr\\u003eEducation expenditure Rank: 108\\u003cbr\\u003eHappiness Rank: 106\\u003cbr\\u003eMismatch: 2\",\"line\":{\"color\":\"#1E88E5\",\"width\":2},\"mode\":\"lines+markers\",\"name\":\"Uganda\",\"visible\":false,\"x\":[\"Education expenditure Rank\",\"Happiness Rank\"],\"y\":[108,106],\"type\":\"scatter\"},{\"hoverinfo\":\"text\",\"hovertext\":\"Pakistan\\u003cbr\\u003eEducation expenditure Rank: 109\\u003cbr\\u003eHappiness Rank: 57\\u003cbr\\u003eMismatch: 52\",\"line\":{\"color\":\"#D81B60\",\"width\":2},\"mode\":\"lines+markers\",\"name\":\"Pakistan\",\"visible\":false,\"x\":[\"Education expenditure Rank\",\"Happiness Rank\"],\"y\":[109,57],\"type\":\"scatter\"},{\"hoverinfo\":\"text\",\"hovertext\":\"Liberia\\u003cbr\\u003eEducation expenditure Rank: 110\\u003cbr\\u003eHappiness Rank: 110\\u003cbr\\u003eMismatch: 0\",\"line\":{\"color\":\"#1E88E5\",\"width\":2},\"mode\":\"lines+markers\",\"name\":\"Liberia\",\"visible\":false,\"x\":[\"Education expenditure Rank\",\"Happiness Rank\"],\"y\":[110,110],\"type\":\"scatter\"},{\"hoverinfo\":\"text\",\"hovertext\":\"Myanmar\\u003cbr\\u003eEducation expenditure Rank: 111\\u003cbr\\u003eHappiness Rank: 102\\u003cbr\\u003eMismatch: 9\",\"line\":{\"color\":\"#1E88E5\",\"width\":2},\"mode\":\"lines+markers\",\"name\":\"Myanmar\",\"visible\":false,\"x\":[\"Education expenditure Rank\",\"Happiness Rank\"],\"y\":[111,102],\"type\":\"scatter\"},{\"hoverinfo\":\"text\",\"hovertext\":\"Guinea\\u003cbr\\u003eEducation expenditure Rank: 112\\u003cbr\\u003eHappiness Rank: 93\\u003cbr\\u003eMismatch: 19\",\"line\":{\"color\":\"#1E88E5\",\"width\":2},\"mode\":\"lines+markers\",\"name\":\"Guinea\",\"visible\":false,\"x\":[\"Education expenditure Rank\",\"Happiness Rank\"],\"y\":[112,93],\"type\":\"scatter\"},{\"hoverinfo\":\"text\",\"hovertext\":\"Mauritania\\u003cbr\\u003eEducation expenditure Rank: 113\\u003cbr\\u003eHappiness Rank: 96\\u003cbr\\u003eMismatch: 17\",\"line\":{\"color\":\"#1E88E5\",\"width\":2},\"mode\":\"lines+markers\",\"name\":\"Mauritania\",\"visible\":false,\"x\":[\"Education expenditure Rank\",\"Happiness Rank\"],\"y\":[113,96],\"type\":\"scatter\"},{\"hoverinfo\":\"text\",\"hovertext\":\"Central African Republic\\u003cbr\\u003eEducation expenditure Rank: 114\\u003cbr\\u003eHappiness Rank: 118\\u003cbr\\u003eMismatch: 4\",\"line\":{\"color\":\"#1E88E5\",\"width\":2},\"mode\":\"lines+markers\",\"name\":\"Central African Republic\",\"visible\":false,\"x\":[\"Education expenditure Rank\",\"Happiness Rank\"],\"y\":[114,118],\"type\":\"scatter\"},{\"hoverinfo\":\"text\",\"hovertext\":\"Haiti\\u003cbr\\u003eEducation expenditure Rank: 115\\u003cbr\\u003eHappiness Rank: 114\\u003cbr\\u003eMismatch: 1\",\"line\":{\"color\":\"#1E88E5\",\"width\":2},\"mode\":\"lines+markers\",\"name\":\"Haiti\",\"visible\":false,\"x\":[\"Education expenditure Rank\",\"Happiness Rank\"],\"y\":[115,114],\"type\":\"scatter\"},{\"hoverinfo\":\"text\",\"hovertext\":\"Bangladesh\\u003cbr\\u003eEducation expenditure Rank: 116\\u003cbr\\u003eHappiness Rank: 99\\u003cbr\\u003eMismatch: 17\",\"line\":{\"color\":\"#1E88E5\",\"width\":2},\"mode\":\"lines+markers\",\"name\":\"Bangladesh\",\"visible\":false,\"x\":[\"Education expenditure Rank\",\"Happiness Rank\"],\"y\":[116,99],\"type\":\"scatter\"},{\"hoverinfo\":\"text\",\"hovertext\":\"Indonesia\\u003cbr\\u003eEducation expenditure Rank: 117\\u003cbr\\u003eHappiness Rank: 75\\u003cbr\\u003eMismatch: 42\",\"line\":{\"color\":\"#D81B60\",\"width\":2},\"mode\":\"lines+markers\",\"name\":\"Indonesia\",\"visible\":false,\"x\":[\"Education expenditure Rank\",\"Happiness Rank\"],\"y\":[117,75],\"type\":\"scatter\"},{\"hoverinfo\":\"text\",\"hovertext\":\"Nigeria\\u003cbr\\u003eEducation expenditure Rank: 118\\u003cbr\\u003eHappiness Rank: 69\\u003cbr\\u003eMismatch: 49\",\"line\":{\"color\":\"#D81B60\",\"width\":2},\"mode\":\"lines+markers\",\"name\":\"Nigeria\",\"visible\":false,\"x\":[\"Education expenditure Rank\",\"Happiness Rank\"],\"y\":[118,69],\"type\":\"scatter\"}],                        {\"template\":{\"data\":{\"histogram2dcontour\":[{\"type\":\"histogram2dcontour\",\"colorbar\":{\"outlinewidth\":0,\"ticks\":\"\"},\"colorscale\":[[0.0,\"#0d0887\"],[0.1111111111111111,\"#46039f\"],[0.2222222222222222,\"#7201a8\"],[0.3333333333333333,\"#9c179e\"],[0.4444444444444444,\"#bd3786\"],[0.5555555555555556,\"#d8576b\"],[0.6666666666666666,\"#ed7953\"],[0.7777777777777778,\"#fb9f3a\"],[0.8888888888888888,\"#fdca26\"],[1.0,\"#f0f921\"]]}],\"choropleth\":[{\"type\":\"choropleth\",\"colorbar\":{\"outlinewidth\":0,\"ticks\":\"\"}}],\"histogram2d\":[{\"type\":\"histogram2d\",\"colorbar\":{\"outlinewidth\":0,\"ticks\":\"\"},\"colorscale\":[[0.0,\"#0d0887\"],[0.1111111111111111,\"#46039f\"],[0.2222222222222222,\"#7201a8\"],[0.3333333333333333,\"#9c179e\"],[0.4444444444444444,\"#bd3786\"],[0.5555555555555556,\"#d8576b\"],[0.6666666666666666,\"#ed7953\"],[0.7777777777777778,\"#fb9f3a\"],[0.8888888888888888,\"#fdca26\"],[1.0,\"#f0f921\"]]}],\"heatmap\":[{\"type\":\"heatmap\",\"colorbar\":{\"outlinewidth\":0,\"ticks\":\"\"},\"colorscale\":[[0.0,\"#0d0887\"],[0.1111111111111111,\"#46039f\"],[0.2222222222222222,\"#7201a8\"],[0.3333333333333333,\"#9c179e\"],[0.4444444444444444,\"#bd3786\"],[0.5555555555555556,\"#d8576b\"],[0.6666666666666666,\"#ed7953\"],[0.7777777777777778,\"#fb9f3a\"],[0.8888888888888888,\"#fdca26\"],[1.0,\"#f0f921\"]]}],\"contourcarpet\":[{\"type\":\"contourcarpet\",\"colorbar\":{\"outlinewidth\":0,\"ticks\":\"\"}}],\"contour\":[{\"type\":\"contour\",\"colorbar\":{\"outlinewidth\":0,\"ticks\":\"\"},\"colorscale\":[[0.0,\"#0d0887\"],[0.1111111111111111,\"#46039f\"],[0.2222222222222222,\"#7201a8\"],[0.3333333333333333,\"#9c179e\"],[0.4444444444444444,\"#bd3786\"],[0.5555555555555556,\"#d8576b\"],[0.6666666666666666,\"#ed7953\"],[0.7777777777777778,\"#fb9f3a\"],[0.8888888888888888,\"#fdca26\"],[1.0,\"#f0f921\"]]}],\"surface\":[{\"type\":\"surface\",\"colorbar\":{\"outlinewidth\":0,\"ticks\":\"\"},\"colorscale\":[[0.0,\"#0d0887\"],[0.1111111111111111,\"#46039f\"],[0.2222222222222222,\"#7201a8\"],[0.3333333333333333,\"#9c179e\"],[0.4444444444444444,\"#bd3786\"],[0.5555555555555556,\"#d8576b\"],[0.6666666666666666,\"#ed7953\"],[0.7777777777777778,\"#fb9f3a\"],[0.8888888888888888,\"#fdca26\"],[1.0,\"#f0f921\"]]}],\"mesh3d\":[{\"type\":\"mesh3d\",\"colorbar\":{\"outlinewidth\":0,\"ticks\":\"\"}}],\"scatter\":[{\"fillpattern\":{\"fillmode\":\"overlay\",\"size\":10,\"solidity\":0.2},\"type\":\"scatter\"}],\"parcoords\":[{\"type\":\"parcoords\",\"line\":{\"colorbar\":{\"outlinewidth\":0,\"ticks\":\"\"}}}],\"scatterpolargl\":[{\"type\":\"scatterpolargl\",\"marker\":{\"colorbar\":{\"outlinewidth\":0,\"ticks\":\"\"}}}],\"bar\":[{\"error_x\":{\"color\":\"#2a3f5f\"},\"error_y\":{\"color\":\"#2a3f5f\"},\"marker\":{\"line\":{\"color\":\"#E5ECF6\",\"width\":0.5},\"pattern\":{\"fillmode\":\"overlay\",\"size\":10,\"solidity\":0.2}},\"type\":\"bar\"}],\"scattergeo\":[{\"type\":\"scattergeo\",\"marker\":{\"colorbar\":{\"outlinewidth\":0,\"ticks\":\"\"}}}],\"scatterpolar\":[{\"type\":\"scatterpolar\",\"marker\":{\"colorbar\":{\"outlinewidth\":0,\"ticks\":\"\"}}}],\"histogram\":[{\"marker\":{\"pattern\":{\"fillmode\":\"overlay\",\"size\":10,\"solidity\":0.2}},\"type\":\"histogram\"}],\"scattergl\":[{\"type\":\"scattergl\",\"marker\":{\"colorbar\":{\"outlinewidth\":0,\"ticks\":\"\"}}}],\"scatter3d\":[{\"type\":\"scatter3d\",\"line\":{\"colorbar\":{\"outlinewidth\":0,\"ticks\":\"\"}},\"marker\":{\"colorbar\":{\"outlinewidth\":0,\"ticks\":\"\"}}}],\"scattermap\":[{\"type\":\"scattermap\",\"marker\":{\"colorbar\":{\"outlinewidth\":0,\"ticks\":\"\"}}}],\"scattermapbox\":[{\"type\":\"scattermapbox\",\"marker\":{\"colorbar\":{\"outlinewidth\":0,\"ticks\":\"\"}}}],\"scatterternary\":[{\"type\":\"scatterternary\",\"marker\":{\"colorbar\":{\"outlinewidth\":0,\"ticks\":\"\"}}}],\"scattercarpet\":[{\"type\":\"scattercarpet\",\"marker\":{\"colorbar\":{\"outlinewidth\":0,\"ticks\":\"\"}}}],\"carpet\":[{\"aaxis\":{\"endlinecolor\":\"#2a3f5f\",\"gridcolor\":\"white\",\"linecolor\":\"white\",\"minorgridcolor\":\"white\",\"startlinecolor\":\"#2a3f5f\"},\"baxis\":{\"endlinecolor\":\"#2a3f5f\",\"gridcolor\":\"white\",\"linecolor\":\"white\",\"minorgridcolor\":\"white\",\"startlinecolor\":\"#2a3f5f\"},\"type\":\"carpet\"}],\"table\":[{\"cells\":{\"fill\":{\"color\":\"#EBF0F8\"},\"line\":{\"color\":\"white\"}},\"header\":{\"fill\":{\"color\":\"#C8D4E3\"},\"line\":{\"color\":\"white\"}},\"type\":\"table\"}],\"barpolar\":[{\"marker\":{\"line\":{\"color\":\"#E5ECF6\",\"width\":0.5},\"pattern\":{\"fillmode\":\"overlay\",\"size\":10,\"solidity\":0.2}},\"type\":\"barpolar\"}],\"pie\":[{\"automargin\":true,\"type\":\"pie\"}]},\"layout\":{\"autotypenumbers\":\"strict\",\"colorway\":[\"#636efa\",\"#EF553B\",\"#00cc96\",\"#ab63fa\",\"#FFA15A\",\"#19d3f3\",\"#FF6692\",\"#B6E880\",\"#FF97FF\",\"#FECB52\"],\"font\":{\"color\":\"#2a3f5f\"},\"hovermode\":\"closest\",\"hoverlabel\":{\"align\":\"left\"},\"paper_bgcolor\":\"white\",\"plot_bgcolor\":\"#E5ECF6\",\"polar\":{\"bgcolor\":\"#E5ECF6\",\"angularaxis\":{\"gridcolor\":\"white\",\"linecolor\":\"white\",\"ticks\":\"\"},\"radialaxis\":{\"gridcolor\":\"white\",\"linecolor\":\"white\",\"ticks\":\"\"}},\"ternary\":{\"bgcolor\":\"#E5ECF6\",\"aaxis\":{\"gridcolor\":\"white\",\"linecolor\":\"white\",\"ticks\":\"\"},\"baxis\":{\"gridcolor\":\"white\",\"linecolor\":\"white\",\"ticks\":\"\"},\"caxis\":{\"gridcolor\":\"white\",\"linecolor\":\"white\",\"ticks\":\"\"}},\"coloraxis\":{\"colorbar\":{\"outlinewidth\":0,\"ticks\":\"\"}},\"colorscale\":{\"sequential\":[[0.0,\"#0d0887\"],[0.1111111111111111,\"#46039f\"],[0.2222222222222222,\"#7201a8\"],[0.3333333333333333,\"#9c179e\"],[0.4444444444444444,\"#bd3786\"],[0.5555555555555556,\"#d8576b\"],[0.6666666666666666,\"#ed7953\"],[0.7777777777777778,\"#fb9f3a\"],[0.8888888888888888,\"#fdca26\"],[1.0,\"#f0f921\"]],\"sequentialminus\":[[0.0,\"#0d0887\"],[0.1111111111111111,\"#46039f\"],[0.2222222222222222,\"#7201a8\"],[0.3333333333333333,\"#9c179e\"],[0.4444444444444444,\"#bd3786\"],[0.5555555555555556,\"#d8576b\"],[0.6666666666666666,\"#ed7953\"],[0.7777777777777778,\"#fb9f3a\"],[0.8888888888888888,\"#fdca26\"],[1.0,\"#f0f921\"]],\"diverging\":[[0,\"#8e0152\"],[0.1,\"#c51b7d\"],[0.2,\"#de77ae\"],[0.3,\"#f1b6da\"],[0.4,\"#fde0ef\"],[0.5,\"#f7f7f7\"],[0.6,\"#e6f5d0\"],[0.7,\"#b8e186\"],[0.8,\"#7fbc41\"],[0.9,\"#4d9221\"],[1,\"#276419\"]]},\"xaxis\":{\"gridcolor\":\"white\",\"linecolor\":\"white\",\"ticks\":\"\",\"title\":{\"standoff\":15},\"zerolinecolor\":\"white\",\"automargin\":true,\"zerolinewidth\":2},\"yaxis\":{\"gridcolor\":\"white\",\"linecolor\":\"white\",\"ticks\":\"\",\"title\":{\"standoff\":15},\"zerolinecolor\":\"white\",\"automargin\":true,\"zerolinewidth\":2},\"scene\":{\"xaxis\":{\"backgroundcolor\":\"#E5ECF6\",\"gridcolor\":\"white\",\"linecolor\":\"white\",\"showbackground\":true,\"ticks\":\"\",\"zerolinecolor\":\"white\",\"gridwidth\":2},\"yaxis\":{\"backgroundcolor\":\"#E5ECF6\",\"gridcolor\":\"white\",\"linecolor\":\"white\",\"showbackground\":true,\"ticks\":\"\",\"zerolinecolor\":\"white\",\"gridwidth\":2},\"zaxis\":{\"backgroundcolor\":\"#E5ECF6\",\"gridcolor\":\"white\",\"linecolor\":\"white\",\"showbackground\":true,\"ticks\":\"\",\"zerolinecolor\":\"white\",\"gridwidth\":2}},\"shapedefaults\":{\"line\":{\"color\":\"#2a3f5f\"}},\"annotationdefaults\":{\"arrowcolor\":\"#2a3f5f\",\"arrowhead\":0,\"arrowwidth\":1},\"geo\":{\"bgcolor\":\"white\",\"landcolor\":\"#E5ECF6\",\"subunitcolor\":\"white\",\"showland\":true,\"showlakes\":true,\"lakecolor\":\"white\"},\"title\":{\"x\":0.05},\"mapbox\":{\"style\":\"light\"}}},\"yaxis\":{\"autorange\":\"reversed\"},\"margin\":{\"t\":80,\"b\":80,\"l\":80,\"r\":100},\"xaxis\":{\"title\":{\"text\":\"\"},\"tickvals\":[\"Life expectancy Rank\",\"Happiness Rank\"]},\"sliders\":[{\"active\":0,\"currentvalue\":{\"prefix\":\"Metric: \"},\"len\":0.9,\"pad\":{\"t\":50},\"steps\":[{\"args\":[{\"visible\":[true,true,true,true,true,true,true,true,true,true,true,true,true,true,true,true,true,true,true,true,true,true,true,true,true,true,true,true,true,true,true,true,true,true,true,true,true,true,true,true,true,true,true,true,true,true,true,true,true,true,true,true,true,true,true,true,true,true,true,true,true,true,true,true,true,true,true,true,true,true,true,true,true,true,true,true,true,true,true,true,true,true,true,true,true,true,true,true,true,true,true,true,true,true,true,true,true,true,true,true,true,true,true,true,true,true,true,true,true,true,true,true,true,true,true,true,true,true,true,true,true,true,true,true,true,true,true,true,true,true,true,true,true,false,false,false,false,false,false,false,false,false,false,false,false,false,false,false,false,false,false,false,false,false,false,false,false,false,false,false,false,false,false,false,false,false,false,false,false,false,false,false,false,false,false,false,false,false,false,false,false,false,false,false,false,false,false,false,false,false,false,false,false,false,false,false,false,false,false,false,false,false,false,false,false,false,false,false,false,false,false,false,false,false,false,false,false,false,false,false,false,false,false,false,false,false,false,false,false,false,false,false,false,false,false,false,false,false,false,false,false,false,false,false,false,false,false,false,false,false,false,false,false,false,false,false,false,false,false,false,false,false,false,false,false,false,false,false,false,false,false,false,false,false,false,false,false,false,false,false,false,false,false,false,false,false,false,false,false,false,false,false,false,false,false,false,false,false,false,false,false,false,false,false,false,false,false,false,false,false,false,false,false,false,false,false,false,false,false,false,false,false,false,false,false,false,false,false,false,false,false,false,false,false,false,false,false,false,false,false,false,false,false,false,false,false,false,false,false,false,false,false,false,false,false]},{\"title\":\"Life expectancy vs Happiness Rankings\",\"xaxis\":{\"title\":\"\",\"tickvals\":[\"Life expectancy Rank\",\"Happiness Rank\"]},\"yaxis\":{\"title\":\"Rank (1 = Best)\",\"autorange\":\"reversed\"},\"annotations\":[{\"x\":1.05,\"y\":1.05,\"xref\":\"paper\",\"yref\":\"paper\",\"showarrow\":false,\"align\":\"left\",\"bgcolor\":\"#D81B60\",\"font\":{\"color\":\"white\",\"size\":12},\"text\":\"Mismatch \\u003e 30:\\u003cbr\\u003e\\u003cb\\u003e25\\u003c\\u002fb\\u003e\",\"bordercolor\":\"black\",\"borderwidth\":1}]}],\"label\":\"Life expectancy\",\"method\":\"update\"},{\"args\":[{\"visible\":[false,false,false,false,false,false,false,false,false,false,false,false,false,false,false,false,false,false,false,false,false,false,false,false,false,false,false,false,false,false,false,false,false,false,false,false,false,false,false,false,false,false,false,false,false,false,false,false,false,false,false,false,false,false,false,false,false,false,false,false,false,false,false,false,false,false,false,false,false,false,false,false,false,false,false,false,false,false,false,false,false,false,false,false,false,false,false,false,false,false,false,false,false,false,false,false,false,false,false,false,false,false,false,false,false,false,false,false,false,false,false,false,false,false,false,false,false,false,false,false,false,false,false,false,false,false,false,false,false,false,false,false,false,true,true,true,true,true,true,true,true,true,true,true,true,true,true,true,true,true,true,true,true,true,true,true,true,true,true,true,true,true,true,true,true,true,true,true,true,true,true,true,true,true,true,true,true,true,true,true,true,true,true,true,true,true,true,true,true,true,true,true,true,true,true,true,true,true,true,true,true,true,true,true,true,true,true,true,true,true,true,true,true,true,true,true,true,true,true,true,true,true,true,true,true,true,true,true,true,true,true,true,true,true,true,true,true,false,false,false,false,false,false,false,false,false,false,false,false,false,false,false,false,false,false,false,false,false,false,false,false,false,false,false,false,false,false,false,false,false,false,false,false,false,false,false,false,false,false,false,false,false,false,false,false,false,false,false,false,false,false,false,false,false,false,false,false,false,false,false,false,false,false,false,false,false,false,false,false,false,false,false,false,false,false,false,false,false,false,false,false,false,false,false,false,false,false,false,false,false,false,false,false,false,false,false,false,false,false,false,false,false,false,false,false,false,false,false,false,false,false,false,false,false,false]},{\"title\":\"Unemployment rate vs Happiness Rankings\",\"xaxis\":{\"title\":\"\",\"tickvals\":[\"Unemployment rate Rank\",\"Happiness Rank\"]},\"yaxis\":{\"title\":\"Rank (1 = Best)\",\"autorange\":\"reversed\"},\"annotations\":[{\"x\":1.05,\"y\":1.05,\"xref\":\"paper\",\"yref\":\"paper\",\"showarrow\":false,\"align\":\"left\",\"bgcolor\":\"#D81B60\",\"font\":{\"color\":\"white\",\"size\":12},\"text\":\"Mismatch \\u003e 30:\\u003cbr\\u003e\\u003cb\\u003e47\\u003c\\u002fb\\u003e\",\"bordercolor\":\"black\",\"borderwidth\":1}]}],\"label\":\"Unemployment rate\",\"method\":\"update\"},{\"args\":[{\"visible\":[false,false,false,false,false,false,false,false,false,false,false,false,false,false,false,false,false,false,false,false,false,false,false,false,false,false,false,false,false,false,false,false,false,false,false,false,false,false,false,false,false,false,false,false,false,false,false,false,false,false,false,false,false,false,false,false,false,false,false,false,false,false,false,false,false,false,false,false,false,false,false,false,false,false,false,false,false,false,false,false,false,false,false,false,false,false,false,false,false,false,false,false,false,false,false,false,false,false,false,false,false,false,false,false,false,false,false,false,false,false,false,false,false,false,false,false,false,false,false,false,false,false,false,false,false,false,false,false,false,false,false,false,false,false,false,false,false,false,false,false,false,false,false,false,false,false,false,false,false,false,false,false,false,false,false,false,false,false,false,false,false,false,false,false,false,false,false,false,false,false,false,false,false,false,false,false,false,false,false,false,false,false,false,false,false,false,false,false,false,false,false,false,false,false,false,false,false,false,false,false,false,false,false,false,false,false,false,false,false,false,false,false,false,false,false,false,false,false,false,false,false,false,false,false,false,false,false,false,false,false,false,false,false,false,false,false,false,true,true,true,true,true,true,true,true,true,true,true,true,true,true,true,true,true,true,true,true,true,true,true,true,true,true,true,true,true,true,true,true,true,true,true,true,true,true,true,true,true,true,true,true,true,true,true,true,true,true,true,true,true,true,true,true,true,true,true,true,true,true,true,true,true,true,true,true,true,true,true,true,true,true,true,true,true,true,true,true,true,true,true,true,true,true,true,true,true,true,true,true,true,true,true,true,true,true,true,true,true,true,true,true,true,true,true,true,true,true,true,true,true,true,true,true,true,true]},{\"title\":\"Education expenditure vs Happiness Rankings\",\"xaxis\":{\"title\":\"\",\"tickvals\":[\"Education expenditure Rank\",\"Happiness Rank\"]},\"yaxis\":{\"title\":\"Rank (1 = Best)\",\"autorange\":\"reversed\"},\"annotations\":[{\"x\":1.05,\"y\":1.05,\"xref\":\"paper\",\"yref\":\"paper\",\"showarrow\":false,\"align\":\"left\",\"bgcolor\":\"#D81B60\",\"font\":{\"color\":\"white\",\"size\":12},\"text\":\"Mismatch \\u003e 30:\\u003cbr\\u003e\\u003cb\\u003e44\\u003c\\u002fb\\u003e\",\"bordercolor\":\"black\",\"borderwidth\":1}]}],\"label\":\"Education expenditure\",\"method\":\"update\"}],\"x\":0.1,\"xanchor\":\"left\"}],\"showlegend\":false,\"height\":800,\"width\":950,\"title\":{\"text\":\"Life expectancy vs Happiness Rankings\"},\"annotations\":[{\"align\":\"left\",\"bgcolor\":\"#D81B60\",\"bordercolor\":\"black\",\"borderwidth\":1,\"font\":{\"color\":\"white\",\"size\":12},\"showarrow\":false,\"text\":\"Mismatch \\u003e 30:\\u003cbr\\u003e\\u003cb\\u003e25\\u003c\\u002fb\\u003e\",\"x\":1.05,\"xref\":\"paper\",\"y\":1.05,\"yref\":\"paper\"}]},                        {\"responsive\": true}                    ).then(function(){\n",
       "                            \n",
       "var gd = document.getElementById('ae8e9a6a-0932-47ed-a835-f843ec07a05d');\n",
       "var x = new MutationObserver(function (mutations, observer) {{\n",
       "        var display = window.getComputedStyle(gd).display;\n",
       "        if (!display || display === 'none') {{\n",
       "            console.log([gd, 'removed!']);\n",
       "            Plotly.purge(gd);\n",
       "            observer.disconnect();\n",
       "        }}\n",
       "}});\n",
       "\n",
       "// Listen for the removal of the full notebook cells\n",
       "var notebookContainer = gd.closest('#notebook-container');\n",
       "if (notebookContainer) {{\n",
       "    x.observe(notebookContainer, {childList: true});\n",
       "}}\n",
       "\n",
       "// Listen for the clearing of the current output cell\n",
       "var outputEl = gd.closest('.output');\n",
       "if (outputEl) {{\n",
       "    x.observe(outputEl, {childList: true});\n",
       "}}\n",
       "\n",
       "                        })                };            </script>        </div>"
      ]
     },
     "metadata": {},
     "output_type": "display_data"
    }
   ],
   "source": [
    "import pandas as pd\n",
    "import plotly.graph_objects as go\n",
    "\n",
    "df = pd.read_csv('final.csv')\n",
    "df['Country'] = df['Country'].str.strip()\n",
    "\n",
    "def prepare_rankings(df, metric_col, ascending_rank):\n",
    "    df_filtered = df.dropna(subset=[metric_col, 'Happiness']).copy()\n",
    "    df_filtered = df_filtered.sort_values(by=[metric_col, 'Country'], ascending=[ascending_rank, True])\n",
    "    df_filtered[f'{metric_col} Rank'] = df_filtered[metric_col].rank(method='first', ascending=ascending_rank).astype(int)\n",
    "    df_filtered['Happiness Rank'] = df_filtered['Happiness'].rank(method='min', ascending=False).astype(int)\n",
    "    df_filtered['Mismatch'] = (df_filtered[f'{metric_col} Rank'] - df_filtered['Happiness Rank']).abs()\n",
    "    return df_filtered\n",
    "\n",
    "def create_slope_traces(df_metric, metric_col, display_name, mismatch_threshold):\n",
    "    traces = []\n",
    "    for _, row in df_metric.iterrows():\n",
    "        color = '#1E88E5' if row['Mismatch'] <= mismatch_threshold else '#D81B60'\n",
    "        hovertext = (\n",
    "            f\"{row['Country']}<br>\"\n",
    "            f\"{display_name} Rank: {row[f'{metric_col} Rank']}<br>\"\n",
    "            f\"Happiness Rank: {row['Happiness Rank']}<br>\"\n",
    "            f\"Mismatch: {row['Mismatch']}\"\n",
    "        )\n",
    "        traces.append(go.Scatter(\n",
    "            x=[f'{display_name} Rank', 'Happiness Rank'],\n",
    "            y=[row[f'{metric_col} Rank'], row['Happiness Rank']],\n",
    "            mode='lines+markers',\n",
    "            line=dict(color=color, width=2),\n",
    "            name=row['Country'],\n",
    "            hoverinfo='text',\n",
    "            hovertext=hovertext\n",
    "        ))\n",
    "    return traces\n",
    "\n",
    "df_life = prepare_rankings(df, 'Life_expectancy', ascending_rank=False)\n",
    "df_unemp = prepare_rankings(df, 'Unemployment_rate', ascending_rank=True)\n",
    "df_edu = prepare_rankings(df, 'Edu_expenditure_pct', ascending_rank=False)\n",
    "\n",
    "red_life = (df_life['Mismatch'] > 30).sum()\n",
    "red_unemp = (df_unemp['Mismatch'] > 30).sum()\n",
    "red_edu = (df_edu['Mismatch'] > 30).sum()\n",
    "\n",
    "traces_life = create_slope_traces(df_life, 'Life_expectancy', 'Life expectancy', mismatch_threshold=15)\n",
    "traces_unemp = create_slope_traces(df_unemp, 'Unemployment_rate', 'Unemployment rate', mismatch_threshold=30)\n",
    "traces_edu = create_slope_traces(df_edu, 'Edu_expenditure_pct', 'Education expenditure', mismatch_threshold=30)\n",
    "\n",
    "fig = go.Figure(data=traces_life)\n",
    "for trace in traces_unemp + traces_edu:\n",
    "    trace.visible = False\n",
    "    fig.add_trace(trace)\n",
    "\n",
    "steps = []\n",
    "total_traces = len(traces_life) + len(traces_unemp) + len(traces_edu)\n",
    "start_idx = 0\n",
    "metrics = [\n",
    "    ('Life expectancy', traces_life, 30, red_life),\n",
    "    ('Unemployment rate', traces_unemp, 30, red_unemp),\n",
    "    ('Education expenditure', traces_edu, 30, red_edu)\n",
    "]\n",
    "\n",
    "for metric_name, traces_metric, threshold, red_count in metrics:\n",
    "    visible = [False] * total_traces\n",
    "    for i in range(len(traces_metric)):\n",
    "        visible[start_idx + i] = True\n",
    "    step = dict(\n",
    "        method='update',\n",
    "        label=metric_name,\n",
    "        args=[\n",
    "            {'visible': visible},\n",
    "            {'title': f'{metric_name} vs Happiness Rankings',\n",
    "             'xaxis': {'title': '', 'tickvals': [f'{metric_name} Rank', 'Happiness Rank']},\n",
    "             'yaxis': {'title': 'Rank (1 = Best)', 'autorange': 'reversed'},\n",
    "             'annotations': [dict(\n",
    "                 x=1.05,\n",
    "                 y=1.05,\n",
    "                 xref='paper',\n",
    "                 yref='paper',\n",
    "                 showarrow=False,\n",
    "                 align='left',\n",
    "                 bgcolor='#D81B60',\n",
    "                 font=dict(color='white', size=12),\n",
    "                 text=f'Mismatch > {threshold}:<br><b>{red_count}</b>',\n",
    "                 bordercolor='black',\n",
    "                 borderwidth=1\n",
    "             )]\n",
    "            }\n",
    "        ]\n",
    "    )\n",
    "    steps.append(step)\n",
    "    start_idx += len(traces_metric)\n",
    "\n",
    "fig.update_layout(\n",
    "    sliders=[dict(\n",
    "        active=0,\n",
    "        currentvalue={\"prefix\": \"Metric: \"},\n",
    "        pad={\"t\": 50},\n",
    "        steps=steps,\n",
    "        len=0.9,\n",
    "        x=0.1,\n",
    "        xanchor='left'\n",
    "    )],\n",
    "    yaxis=dict(autorange='reversed'),\n",
    "    showlegend=False,\n",
    "    height=800,\n",
    "    width=950,\n",
    "    margin=dict(t=80, b=80, l=80, r=100),\n",
    "    title='Life expectancy vs Happiness Rankings',\n",
    "    xaxis={'title': '', 'tickvals': ['Life expectancy Rank', 'Happiness Rank']},\n",
    "    annotations=[dict(\n",
    "        x=1.05,\n",
    "        y=1.05,\n",
    "        xref='paper',\n",
    "        yref='paper',\n",
    "        showarrow=False,\n",
    "        align='left',\n",
    "        bgcolor='#D81B60',\n",
    "        font=dict(color='white', size=12),\n",
    "        text=f'Mismatch > 30:<br><b>{red_life}</b>',\n",
    "        bordercolor='black',\n",
    "        borderwidth=1\n",
    "    )]\n",
    ")\n",
    "\n",
    "fig.show()"
   ]
  },
  {
   "cell_type": "code",
   "execution_count": 5,
   "id": "22749a1f",
   "metadata": {
    "tags": [
     "remove-input"
    ]
   },
   "outputs": [
    {
     "data": {
      "application/vnd.plotly.v1+json": {
       "config": {
        "plotlyServerURL": "https://plot.ly"
       },
       "data": [
        {
         "coloraxis": "coloraxis",
         "geo": "geo",
         "hovertemplate": "<b>%{hovertext}</b><br><br>Country=%{location}<br>Happiness=%{z}<extra></extra>",
         "hovertext": [
          "Finland",
          "Denmark",
          "Norway",
          "Iceland",
          "Netherlands",
          "Switzerland",
          "Sweden",
          "New Zealand",
          "Canada",
          "Austria",
          "Australia",
          "Costa Rica",
          "Israel",
          "Luxembourg",
          "United Kingdom",
          "Ireland",
          "Germany",
          "Belgium",
          "United States",
          "United Arab Emirates",
          "Malta",
          "Mexico",
          "France",
          "Chile",
          "Guatemala",
          "Saudi Arabia",
          "Qatar",
          "Spain",
          "Panama",
          "Brazil",
          "Uruguay",
          "Singapore",
          "El Salvador",
          "Italy",
          "Bahrain",
          "Poland",
          "Uzbekistan",
          "Lithuania",
          "Colombia",
          "Slovenia",
          "Nicaragua",
          "Kosovo",
          "Argentina",
          "Romania",
          "Cyprus",
          "Ecuador",
          "Kuwait",
          "Thailand",
          "Latvia",
          "Estonia",
          "Jamaica",
          "Mauritius",
          "Japan",
          "Honduras",
          "Kazakhstan",
          "Bolivia",
          "Hungary",
          "Paraguay",
          "Peru",
          "Portugal",
          "Pakistan",
          "Philippines",
          "Serbia",
          "Moldova",
          "Libya",
          "Montenegro",
          "Tajikistan",
          "Croatia",
          "Dominican Republic",
          "Bosnia and Herzegovina",
          "Malaysia",
          "Belarus",
          "Greece",
          "Mongolia",
          "North Macedonia",
          "Nigeria",
          "Turkmenistan",
          "Algeria",
          "Morocco",
          "Azerbaijan",
          "Lebanon",
          "Indonesia",
          "China",
          "Bhutan",
          "Cameroon",
          "Bulgaria",
          "Ghana",
          "Nepal",
          "Jordan",
          "Benin",
          "Gabon",
          "South Africa",
          "Albania",
          "Cambodia",
          "Senegal",
          "Somalia",
          "Namibia",
          "Niger",
          "Burkina Faso",
          "Armenia",
          "Guinea",
          "Georgia",
          "Kenya",
          "Mauritania",
          "Mozambique",
          "Tunisia",
          "Bangladesh",
          "Iraq",
          "Mali",
          "Sierra Leone",
          "Sri Lanka",
          "Myanmar",
          "Chad",
          "Ukraine",
          "Ethiopia",
          "Uganda",
          "Zambia",
          "Togo",
          "India",
          "Liberia",
          "Comoros",
          "Madagascar",
          "Lesotho",
          "Burundi",
          "Zimbabwe",
          "Haiti",
          "Botswana",
          "Malawi",
          "Rwanda",
          "Tanzania",
          "Afghanistan",
          "Central African Republic",
          "South Sudan"
         ],
         "locationmode": "country names",
         "locations": [
          "Finland",
          "Denmark",
          "Norway",
          "Iceland",
          "Netherlands",
          "Switzerland",
          "Sweden",
          "New Zealand",
          "Canada",
          "Austria",
          "Australia",
          "Costa Rica",
          "Israel",
          "Luxembourg",
          "United Kingdom",
          "Ireland",
          "Germany",
          "Belgium",
          "United States",
          "United Arab Emirates",
          "Malta",
          "Mexico",
          "France",
          "Chile",
          "Guatemala",
          "Saudi Arabia",
          "Qatar",
          "Spain",
          "Panama",
          "Brazil",
          "Uruguay",
          "Singapore",
          "El Salvador",
          "Italy",
          "Bahrain",
          "Poland",
          "Uzbekistan",
          "Lithuania",
          "Colombia",
          "Slovenia",
          "Nicaragua",
          "Kosovo",
          "Argentina",
          "Romania",
          "Cyprus",
          "Ecuador",
          "Kuwait",
          "Thailand",
          "Latvia",
          "Estonia",
          "Jamaica",
          "Mauritius",
          "Japan",
          "Honduras",
          "Kazakhstan",
          "Bolivia",
          "Hungary",
          "Paraguay",
          "Peru",
          "Portugal",
          "Pakistan",
          "Philippines",
          "Serbia",
          "Moldova",
          "Libya",
          "Montenegro",
          "Tajikistan",
          "Croatia",
          "Dominican Republic",
          "Bosnia and Herzegovina",
          "Malaysia",
          "Belarus",
          "Greece",
          "Mongolia",
          "North Macedonia",
          "Nigeria",
          "Turkmenistan",
          "Algeria",
          "Morocco",
          "Azerbaijan",
          "Lebanon",
          "Indonesia",
          "China",
          "Bhutan",
          "Cameroon",
          "Bulgaria",
          "Ghana",
          "Nepal",
          "Jordan",
          "Benin",
          "Gabon",
          "South Africa",
          "Albania",
          "Cambodia",
          "Senegal",
          "Somalia",
          "Namibia",
          "Niger",
          "Burkina Faso",
          "Armenia",
          "Guinea",
          "Georgia",
          "Kenya",
          "Mauritania",
          "Mozambique",
          "Tunisia",
          "Bangladesh",
          "Iraq",
          "Mali",
          "Sierra Leone",
          "Sri Lanka",
          "Myanmar",
          "Chad",
          "Ukraine",
          "Ethiopia",
          "Uganda",
          "Zambia",
          "Togo",
          "India",
          "Liberia",
          "Comoros",
          "Madagascar",
          "Lesotho",
          "Burundi",
          "Zimbabwe",
          "Haiti",
          "Botswana",
          "Malawi",
          "Rwanda",
          "Tanzania",
          "Afghanistan",
          "Central African Republic",
          "South Sudan"
         ],
         "name": "",
         "type": "choropleth",
         "z": {
          "bdata": "+n5qvHQTH0BmZmZmZmYeQJ7vp8ZLNx5AYOXQItv5HUDByqFFtvMdQOxRuB6F6x1ArBxaZDtfHUDufD81XjodQOkmMQisHB1AlkOLbOf7HEC28/3UeOkcQF66SQwCqxxAdZMYBFaOHEBcj8L1KFwcQJ7vp8ZLNxxAL90kBoEVHEBxPQrXo/AbQP7UeOkmsRtAxSCwcmiRG0DNzMzMzEwbQIGVQ4ts5xpA4XoUrkdhGkCR7Xw/NV4aQC2yne+nxhlAWDm0yHa+GUAAAAAAAIAZQOXQItv5fhlA0SLb+X5qGUBiEFg5tEgZQDMzMzMzMxlAeekmMQgsGUA/NV66SQwZQFCNl24SAxlAMQisHFrkGECyne+nxssYQO58PzVeuhhAGQRWDi2yGEB/arx0k5gYQAAAAAAAgBhARrbz/dR4GEDsUbgehWsYQGZmZmZmZhhA8tJNYhBYGEBI4XoUrkcYQMl2vp8aLxhA6SYxCKwcGEAv3SQGgRUYQNV46SYxCBhAw/UoXI/CF0DfT42XbpIXQI/C9ShcjxdAWmQ730+NF0AlBoGVQ4sXQHE9CtejcBdAI9v5fmo8F0AEVg4tsh0XQNV46SYxCBdARrbz/dT4FkB9PzVeuskWQBKDwMqhxRZA6SYxCKycFkCgGi/dJIYWQLbz/dR4aRZABFYOLbIdFkCamZmZmRkWQGQ730+NFxZAke18PzXeFUDufD81XroVQDMzMzMzsxVAJQaBlUOLFUBCYOXQIlsVQJhuEoPAShVA2c73U+MlFUCkcD0K1yMVQH9qvHSTGBVAj8L1KFwPFUCwcmiR7fwUQPLSTWIQ2BRAokW28/3UFECiRbbz/dQUQH0/NV66yRRA+FPjpZvEFEDdJAaBlcMUQIcW2c73UxRAkxgEVg4tFEAlBoGVQwsUQJZDi2zn+xNA9P3UeOmmE0A5tMh2vp8TQNV46SYxiBNAGQRWDi0yE0AX2c73U+MSQMdLN4lB4BJAzczMzMzMEkDTTWIQWLkSQHnpJjEIrBJAdZMYBFaOEkBQjZduEoMSQAwCK4cWWRJAI9v5fmo8EkCJQWDl0CISQPp+arx0ExJA8KfGSzcJEkD2KFyPwvURQHe+nxov3RFA8tJNYhDYEUBt5/up8dIRQHNoke18vxFAj8L1KFyPEUDl0CLb+X4RQBBYObTIdhFAcT0K16NwEUBmZmZmZmYRQIcW2c73UxFAvp8aL90kEUCoxks3icEQQCGwcmiRbRBA16NwPQpXEECPwvUoXA8QQM3MzMzMzA9AYhBYObTID0AQWDm0yHYPQNEi2/l+ag5AMzMzMzMzDkDn+6nx0k0NQC2yne+nxgxAgZVDi2znC0BI4XoUrkcLQHnpJjEIrApADAIrhxbZCUA5tMh2vp8JQESLbOf7qQhAbef7qfHSBkA=",
          "dtype": "f8"
         }
        }
       ],
       "layout": {
        "coloraxis": {
         "cmax": 10,
         "cmin": 1,
         "colorbar": {
          "bgcolor": "#EAF4F4",
          "orientation": "h",
          "outlinecolor": "black",
          "outlinewidth": 1,
          "thickness": 15,
          "ticklen": 0,
          "tickvals": [
           1,
           4,
           7,
           10
          ],
          "title": {
           "text": "Happiness"
          },
          "x": 0.5,
          "xanchor": "center",
          "y": 1.02,
          "yanchor": "bottom"
         },
         "colorscale": [
          [
           0,
           "#440154"
          ],
          [
           0.1111111111111111,
           "#482878"
          ],
          [
           0.2222222222222222,
           "#3e4989"
          ],
          [
           0.3333333333333333,
           "#31688e"
          ],
          [
           0.4444444444444444,
           "#26828e"
          ],
          [
           0.5555555555555556,
           "#1f9e89"
          ],
          [
           0.6666666666666666,
           "#35b779"
          ],
          [
           0.7777777777777778,
           "#6ece58"
          ],
          [
           0.8888888888888888,
           "#b5de2b"
          ],
          [
           1,
           "#fde725"
          ]
         ]
        },
        "geo": {
         "bgcolor": "#EAF4F4",
         "center": {},
         "domain": {
          "x": [
           0,
           1
          ],
          "y": [
           0,
           1
          ]
         },
         "oceancolor": "lightblue",
         "projection": {
          "type": "natural earth"
         },
         "showcoastlines": true,
         "showframe": false,
         "showocean": true
        },
        "height": 500,
        "legend": {
         "tracegroupgap": 0
        },
        "margin": {
         "b": 0,
         "l": 0,
         "r": 0,
         "t": 60
        },
        "paper_bgcolor": "#EAF4F4",
        "plot_bgcolor": "#EAF4F4",
        "template": {
         "data": {
          "bar": [
           {
            "error_x": {
             "color": "#2a3f5f"
            },
            "error_y": {
             "color": "#2a3f5f"
            },
            "marker": {
             "line": {
              "color": "#E5ECF6",
              "width": 0.5
             },
             "pattern": {
              "fillmode": "overlay",
              "size": 10,
              "solidity": 0.2
             }
            },
            "type": "bar"
           }
          ],
          "barpolar": [
           {
            "marker": {
             "line": {
              "color": "#E5ECF6",
              "width": 0.5
             },
             "pattern": {
              "fillmode": "overlay",
              "size": 10,
              "solidity": 0.2
             }
            },
            "type": "barpolar"
           }
          ],
          "carpet": [
           {
            "aaxis": {
             "endlinecolor": "#2a3f5f",
             "gridcolor": "white",
             "linecolor": "white",
             "minorgridcolor": "white",
             "startlinecolor": "#2a3f5f"
            },
            "baxis": {
             "endlinecolor": "#2a3f5f",
             "gridcolor": "white",
             "linecolor": "white",
             "minorgridcolor": "white",
             "startlinecolor": "#2a3f5f"
            },
            "type": "carpet"
           }
          ],
          "choropleth": [
           {
            "colorbar": {
             "outlinewidth": 0,
             "ticks": ""
            },
            "type": "choropleth"
           }
          ],
          "contour": [
           {
            "colorbar": {
             "outlinewidth": 0,
             "ticks": ""
            },
            "colorscale": [
             [
              0,
              "#0d0887"
             ],
             [
              0.1111111111111111,
              "#46039f"
             ],
             [
              0.2222222222222222,
              "#7201a8"
             ],
             [
              0.3333333333333333,
              "#9c179e"
             ],
             [
              0.4444444444444444,
              "#bd3786"
             ],
             [
              0.5555555555555556,
              "#d8576b"
             ],
             [
              0.6666666666666666,
              "#ed7953"
             ],
             [
              0.7777777777777778,
              "#fb9f3a"
             ],
             [
              0.8888888888888888,
              "#fdca26"
             ],
             [
              1,
              "#f0f921"
             ]
            ],
            "type": "contour"
           }
          ],
          "contourcarpet": [
           {
            "colorbar": {
             "outlinewidth": 0,
             "ticks": ""
            },
            "type": "contourcarpet"
           }
          ],
          "heatmap": [
           {
            "colorbar": {
             "outlinewidth": 0,
             "ticks": ""
            },
            "colorscale": [
             [
              0,
              "#0d0887"
             ],
             [
              0.1111111111111111,
              "#46039f"
             ],
             [
              0.2222222222222222,
              "#7201a8"
             ],
             [
              0.3333333333333333,
              "#9c179e"
             ],
             [
              0.4444444444444444,
              "#bd3786"
             ],
             [
              0.5555555555555556,
              "#d8576b"
             ],
             [
              0.6666666666666666,
              "#ed7953"
             ],
             [
              0.7777777777777778,
              "#fb9f3a"
             ],
             [
              0.8888888888888888,
              "#fdca26"
             ],
             [
              1,
              "#f0f921"
             ]
            ],
            "type": "heatmap"
           }
          ],
          "histogram": [
           {
            "marker": {
             "pattern": {
              "fillmode": "overlay",
              "size": 10,
              "solidity": 0.2
             }
            },
            "type": "histogram"
           }
          ],
          "histogram2d": [
           {
            "colorbar": {
             "outlinewidth": 0,
             "ticks": ""
            },
            "colorscale": [
             [
              0,
              "#0d0887"
             ],
             [
              0.1111111111111111,
              "#46039f"
             ],
             [
              0.2222222222222222,
              "#7201a8"
             ],
             [
              0.3333333333333333,
              "#9c179e"
             ],
             [
              0.4444444444444444,
              "#bd3786"
             ],
             [
              0.5555555555555556,
              "#d8576b"
             ],
             [
              0.6666666666666666,
              "#ed7953"
             ],
             [
              0.7777777777777778,
              "#fb9f3a"
             ],
             [
              0.8888888888888888,
              "#fdca26"
             ],
             [
              1,
              "#f0f921"
             ]
            ],
            "type": "histogram2d"
           }
          ],
          "histogram2dcontour": [
           {
            "colorbar": {
             "outlinewidth": 0,
             "ticks": ""
            },
            "colorscale": [
             [
              0,
              "#0d0887"
             ],
             [
              0.1111111111111111,
              "#46039f"
             ],
             [
              0.2222222222222222,
              "#7201a8"
             ],
             [
              0.3333333333333333,
              "#9c179e"
             ],
             [
              0.4444444444444444,
              "#bd3786"
             ],
             [
              0.5555555555555556,
              "#d8576b"
             ],
             [
              0.6666666666666666,
              "#ed7953"
             ],
             [
              0.7777777777777778,
              "#fb9f3a"
             ],
             [
              0.8888888888888888,
              "#fdca26"
             ],
             [
              1,
              "#f0f921"
             ]
            ],
            "type": "histogram2dcontour"
           }
          ],
          "mesh3d": [
           {
            "colorbar": {
             "outlinewidth": 0,
             "ticks": ""
            },
            "type": "mesh3d"
           }
          ],
          "parcoords": [
           {
            "line": {
             "colorbar": {
              "outlinewidth": 0,
              "ticks": ""
             }
            },
            "type": "parcoords"
           }
          ],
          "pie": [
           {
            "automargin": true,
            "type": "pie"
           }
          ],
          "scatter": [
           {
            "fillpattern": {
             "fillmode": "overlay",
             "size": 10,
             "solidity": 0.2
            },
            "type": "scatter"
           }
          ],
          "scatter3d": [
           {
            "line": {
             "colorbar": {
              "outlinewidth": 0,
              "ticks": ""
             }
            },
            "marker": {
             "colorbar": {
              "outlinewidth": 0,
              "ticks": ""
             }
            },
            "type": "scatter3d"
           }
          ],
          "scattercarpet": [
           {
            "marker": {
             "colorbar": {
              "outlinewidth": 0,
              "ticks": ""
             }
            },
            "type": "scattercarpet"
           }
          ],
          "scattergeo": [
           {
            "marker": {
             "colorbar": {
              "outlinewidth": 0,
              "ticks": ""
             }
            },
            "type": "scattergeo"
           }
          ],
          "scattergl": [
           {
            "marker": {
             "colorbar": {
              "outlinewidth": 0,
              "ticks": ""
             }
            },
            "type": "scattergl"
           }
          ],
          "scattermap": [
           {
            "marker": {
             "colorbar": {
              "outlinewidth": 0,
              "ticks": ""
             }
            },
            "type": "scattermap"
           }
          ],
          "scattermapbox": [
           {
            "marker": {
             "colorbar": {
              "outlinewidth": 0,
              "ticks": ""
             }
            },
            "type": "scattermapbox"
           }
          ],
          "scatterpolar": [
           {
            "marker": {
             "colorbar": {
              "outlinewidth": 0,
              "ticks": ""
             }
            },
            "type": "scatterpolar"
           }
          ],
          "scatterpolargl": [
           {
            "marker": {
             "colorbar": {
              "outlinewidth": 0,
              "ticks": ""
             }
            },
            "type": "scatterpolargl"
           }
          ],
          "scatterternary": [
           {
            "marker": {
             "colorbar": {
              "outlinewidth": 0,
              "ticks": ""
             }
            },
            "type": "scatterternary"
           }
          ],
          "surface": [
           {
            "colorbar": {
             "outlinewidth": 0,
             "ticks": ""
            },
            "colorscale": [
             [
              0,
              "#0d0887"
             ],
             [
              0.1111111111111111,
              "#46039f"
             ],
             [
              0.2222222222222222,
              "#7201a8"
             ],
             [
              0.3333333333333333,
              "#9c179e"
             ],
             [
              0.4444444444444444,
              "#bd3786"
             ],
             [
              0.5555555555555556,
              "#d8576b"
             ],
             [
              0.6666666666666666,
              "#ed7953"
             ],
             [
              0.7777777777777778,
              "#fb9f3a"
             ],
             [
              0.8888888888888888,
              "#fdca26"
             ],
             [
              1,
              "#f0f921"
             ]
            ],
            "type": "surface"
           }
          ],
          "table": [
           {
            "cells": {
             "fill": {
              "color": "#EBF0F8"
             },
             "line": {
              "color": "white"
             }
            },
            "header": {
             "fill": {
              "color": "#C8D4E3"
             },
             "line": {
              "color": "white"
             }
            },
            "type": "table"
           }
          ]
         },
         "layout": {
          "annotationdefaults": {
           "arrowcolor": "#2a3f5f",
           "arrowhead": 0,
           "arrowwidth": 1
          },
          "autotypenumbers": "strict",
          "coloraxis": {
           "colorbar": {
            "outlinewidth": 0,
            "ticks": ""
           }
          },
          "colorscale": {
           "diverging": [
            [
             0,
             "#8e0152"
            ],
            [
             0.1,
             "#c51b7d"
            ],
            [
             0.2,
             "#de77ae"
            ],
            [
             0.3,
             "#f1b6da"
            ],
            [
             0.4,
             "#fde0ef"
            ],
            [
             0.5,
             "#f7f7f7"
            ],
            [
             0.6,
             "#e6f5d0"
            ],
            [
             0.7,
             "#b8e186"
            ],
            [
             0.8,
             "#7fbc41"
            ],
            [
             0.9,
             "#4d9221"
            ],
            [
             1,
             "#276419"
            ]
           ],
           "sequential": [
            [
             0,
             "#0d0887"
            ],
            [
             0.1111111111111111,
             "#46039f"
            ],
            [
             0.2222222222222222,
             "#7201a8"
            ],
            [
             0.3333333333333333,
             "#9c179e"
            ],
            [
             0.4444444444444444,
             "#bd3786"
            ],
            [
             0.5555555555555556,
             "#d8576b"
            ],
            [
             0.6666666666666666,
             "#ed7953"
            ],
            [
             0.7777777777777778,
             "#fb9f3a"
            ],
            [
             0.8888888888888888,
             "#fdca26"
            ],
            [
             1,
             "#f0f921"
            ]
           ],
           "sequentialminus": [
            [
             0,
             "#0d0887"
            ],
            [
             0.1111111111111111,
             "#46039f"
            ],
            [
             0.2222222222222222,
             "#7201a8"
            ],
            [
             0.3333333333333333,
             "#9c179e"
            ],
            [
             0.4444444444444444,
             "#bd3786"
            ],
            [
             0.5555555555555556,
             "#d8576b"
            ],
            [
             0.6666666666666666,
             "#ed7953"
            ],
            [
             0.7777777777777778,
             "#fb9f3a"
            ],
            [
             0.8888888888888888,
             "#fdca26"
            ],
            [
             1,
             "#f0f921"
            ]
           ]
          },
          "colorway": [
           "#636efa",
           "#EF553B",
           "#00cc96",
           "#ab63fa",
           "#FFA15A",
           "#19d3f3",
           "#FF6692",
           "#B6E880",
           "#FF97FF",
           "#FECB52"
          ],
          "font": {
           "color": "#2a3f5f"
          },
          "geo": {
           "bgcolor": "white",
           "lakecolor": "white",
           "landcolor": "#E5ECF6",
           "showlakes": true,
           "showland": true,
           "subunitcolor": "white"
          },
          "hoverlabel": {
           "align": "left"
          },
          "hovermode": "closest",
          "mapbox": {
           "style": "light"
          },
          "paper_bgcolor": "white",
          "plot_bgcolor": "#E5ECF6",
          "polar": {
           "angularaxis": {
            "gridcolor": "white",
            "linecolor": "white",
            "ticks": ""
           },
           "bgcolor": "#E5ECF6",
           "radialaxis": {
            "gridcolor": "white",
            "linecolor": "white",
            "ticks": ""
           }
          },
          "scene": {
           "xaxis": {
            "backgroundcolor": "#E5ECF6",
            "gridcolor": "white",
            "gridwidth": 2,
            "linecolor": "white",
            "showbackground": true,
            "ticks": "",
            "zerolinecolor": "white"
           },
           "yaxis": {
            "backgroundcolor": "#E5ECF6",
            "gridcolor": "white",
            "gridwidth": 2,
            "linecolor": "white",
            "showbackground": true,
            "ticks": "",
            "zerolinecolor": "white"
           },
           "zaxis": {
            "backgroundcolor": "#E5ECF6",
            "gridcolor": "white",
            "gridwidth": 2,
            "linecolor": "white",
            "showbackground": true,
            "ticks": "",
            "zerolinecolor": "white"
           }
          },
          "shapedefaults": {
           "line": {
            "color": "#2a3f5f"
           }
          },
          "ternary": {
           "aaxis": {
            "gridcolor": "white",
            "linecolor": "white",
            "ticks": ""
           },
           "baxis": {
            "gridcolor": "white",
            "linecolor": "white",
            "ticks": ""
           },
           "bgcolor": "#E5ECF6",
           "caxis": {
            "gridcolor": "white",
            "linecolor": "white",
            "ticks": ""
           }
          },
          "title": {
           "x": 0.05
          },
          "xaxis": {
           "automargin": true,
           "gridcolor": "white",
           "linecolor": "white",
           "ticks": "",
           "title": {
            "standoff": 15
           },
           "zerolinecolor": "white",
           "zerolinewidth": 2
          },
          "yaxis": {
           "automargin": true,
           "gridcolor": "white",
           "linecolor": "white",
           "ticks": "",
           "title": {
            "standoff": 15
           },
           "zerolinecolor": "white",
           "zerolinewidth": 2
          }
         }
        },
        "title": {
         "text": "World Happiness Score by Country",
         "x": 0.5
        },
        "width": 750
       }
      },
      "text/html": [
       "<div>            <script src=\"https://cdnjs.cloudflare.com/ajax/libs/mathjax/2.7.5/MathJax.js?config=TeX-AMS-MML_SVG\"></script><script type=\"text/javascript\">if (window.MathJax && window.MathJax.Hub && window.MathJax.Hub.Config) {window.MathJax.Hub.Config({SVG: {font: \"STIX-Web\"}});}</script>                <script type=\"text/javascript\">window.PlotlyConfig = {MathJaxConfig: 'local'};</script>\n",
       "        <script charset=\"utf-8\" src=\"https://cdn.plot.ly/plotly-3.0.1.min.js\"></script>                <div id=\"0bd0a677-8b40-49d9-8e37-14810791b665\" class=\"plotly-graph-div\" style=\"height:500px; width:750px;\"></div>            <script type=\"text/javascript\">                window.PLOTLYENV=window.PLOTLYENV || {};                                if (document.getElementById(\"0bd0a677-8b40-49d9-8e37-14810791b665\")) {                    Plotly.newPlot(                        \"0bd0a677-8b40-49d9-8e37-14810791b665\",                        [{\"coloraxis\":\"coloraxis\",\"geo\":\"geo\",\"hovertemplate\":\"\\u003cb\\u003e%{hovertext}\\u003c\\u002fb\\u003e\\u003cbr\\u003e\\u003cbr\\u003eCountry=%{location}\\u003cbr\\u003eHappiness=%{z}\\u003cextra\\u003e\\u003c\\u002fextra\\u003e\",\"hovertext\":[\"Finland\",\"Denmark\",\"Norway\",\"Iceland\",\"Netherlands\",\"Switzerland\",\"Sweden\",\"New Zealand\",\"Canada\",\"Austria\",\"Australia\",\"Costa Rica\",\"Israel\",\"Luxembourg\",\"United Kingdom\",\"Ireland\",\"Germany\",\"Belgium\",\"United States\",\"United Arab Emirates\",\"Malta\",\"Mexico\",\"France\",\"Chile\",\"Guatemala\",\"Saudi Arabia\",\"Qatar\",\"Spain\",\"Panama\",\"Brazil\",\"Uruguay\",\"Singapore\",\"El Salvador\",\"Italy\",\"Bahrain\",\"Poland\",\"Uzbekistan\",\"Lithuania\",\"Colombia\",\"Slovenia\",\"Nicaragua\",\"Kosovo\",\"Argentina\",\"Romania\",\"Cyprus\",\"Ecuador\",\"Kuwait\",\"Thailand\",\"Latvia\",\"Estonia\",\"Jamaica\",\"Mauritius\",\"Japan\",\"Honduras\",\"Kazakhstan\",\"Bolivia\",\"Hungary\",\"Paraguay\",\"Peru\",\"Portugal\",\"Pakistan\",\"Philippines\",\"Serbia\",\"Moldova\",\"Libya\",\"Montenegro\",\"Tajikistan\",\"Croatia\",\"Dominican Republic\",\"Bosnia and Herzegovina\",\"Malaysia\",\"Belarus\",\"Greece\",\"Mongolia\",\"North Macedonia\",\"Nigeria\",\"Turkmenistan\",\"Algeria\",\"Morocco\",\"Azerbaijan\",\"Lebanon\",\"Indonesia\",\"China\",\"Bhutan\",\"Cameroon\",\"Bulgaria\",\"Ghana\",\"Nepal\",\"Jordan\",\"Benin\",\"Gabon\",\"South Africa\",\"Albania\",\"Cambodia\",\"Senegal\",\"Somalia\",\"Namibia\",\"Niger\",\"Burkina Faso\",\"Armenia\",\"Guinea\",\"Georgia\",\"Kenya\",\"Mauritania\",\"Mozambique\",\"Tunisia\",\"Bangladesh\",\"Iraq\",\"Mali\",\"Sierra Leone\",\"Sri Lanka\",\"Myanmar\",\"Chad\",\"Ukraine\",\"Ethiopia\",\"Uganda\",\"Zambia\",\"Togo\",\"India\",\"Liberia\",\"Comoros\",\"Madagascar\",\"Lesotho\",\"Burundi\",\"Zimbabwe\",\"Haiti\",\"Botswana\",\"Malawi\",\"Rwanda\",\"Tanzania\",\"Afghanistan\",\"Central African Republic\",\"South Sudan\"],\"locationmode\":\"country names\",\"locations\":[\"Finland\",\"Denmark\",\"Norway\",\"Iceland\",\"Netherlands\",\"Switzerland\",\"Sweden\",\"New Zealand\",\"Canada\",\"Austria\",\"Australia\",\"Costa Rica\",\"Israel\",\"Luxembourg\",\"United Kingdom\",\"Ireland\",\"Germany\",\"Belgium\",\"United States\",\"United Arab Emirates\",\"Malta\",\"Mexico\",\"France\",\"Chile\",\"Guatemala\",\"Saudi Arabia\",\"Qatar\",\"Spain\",\"Panama\",\"Brazil\",\"Uruguay\",\"Singapore\",\"El Salvador\",\"Italy\",\"Bahrain\",\"Poland\",\"Uzbekistan\",\"Lithuania\",\"Colombia\",\"Slovenia\",\"Nicaragua\",\"Kosovo\",\"Argentina\",\"Romania\",\"Cyprus\",\"Ecuador\",\"Kuwait\",\"Thailand\",\"Latvia\",\"Estonia\",\"Jamaica\",\"Mauritius\",\"Japan\",\"Honduras\",\"Kazakhstan\",\"Bolivia\",\"Hungary\",\"Paraguay\",\"Peru\",\"Portugal\",\"Pakistan\",\"Philippines\",\"Serbia\",\"Moldova\",\"Libya\",\"Montenegro\",\"Tajikistan\",\"Croatia\",\"Dominican Republic\",\"Bosnia and Herzegovina\",\"Malaysia\",\"Belarus\",\"Greece\",\"Mongolia\",\"North Macedonia\",\"Nigeria\",\"Turkmenistan\",\"Algeria\",\"Morocco\",\"Azerbaijan\",\"Lebanon\",\"Indonesia\",\"China\",\"Bhutan\",\"Cameroon\",\"Bulgaria\",\"Ghana\",\"Nepal\",\"Jordan\",\"Benin\",\"Gabon\",\"South Africa\",\"Albania\",\"Cambodia\",\"Senegal\",\"Somalia\",\"Namibia\",\"Niger\",\"Burkina Faso\",\"Armenia\",\"Guinea\",\"Georgia\",\"Kenya\",\"Mauritania\",\"Mozambique\",\"Tunisia\",\"Bangladesh\",\"Iraq\",\"Mali\",\"Sierra Leone\",\"Sri Lanka\",\"Myanmar\",\"Chad\",\"Ukraine\",\"Ethiopia\",\"Uganda\",\"Zambia\",\"Togo\",\"India\",\"Liberia\",\"Comoros\",\"Madagascar\",\"Lesotho\",\"Burundi\",\"Zimbabwe\",\"Haiti\",\"Botswana\",\"Malawi\",\"Rwanda\",\"Tanzania\",\"Afghanistan\",\"Central African Republic\",\"South Sudan\"],\"name\":\"\",\"z\":{\"dtype\":\"f8\",\"bdata\":\"+n5qvHQTH0BmZmZmZmYeQJ7vp8ZLNx5AYOXQItv5HUDByqFFtvMdQOxRuB6F6x1ArBxaZDtfHUDufD81XjodQOkmMQisHB1AlkOLbOf7HEC28\\u002f3UeOkcQF66SQwCqxxAdZMYBFaOHEBcj8L1KFwcQJ7vp8ZLNxxAL90kBoEVHEBxPQrXo\\u002fAbQP7UeOkmsRtAxSCwcmiRG0DNzMzMzEwbQIGVQ4ts5xpA4XoUrkdhGkCR7Xw\\u002fNV4aQC2yne+nxhlAWDm0yHa+GUAAAAAAAIAZQOXQItv5fhlA0SLb+X5qGUBiEFg5tEgZQDMzMzMzMxlAeekmMQgsGUA\\u002fNV66SQwZQFCNl24SAxlAMQisHFrkGECyne+nxssYQO58PzVeuhhAGQRWDi2yGEB\\u002farx0k5gYQAAAAAAAgBhARrbz\\u002fdR4GEDsUbgehWsYQGZmZmZmZhhA8tJNYhBYGEBI4XoUrkcYQMl2vp8aLxhA6SYxCKwcGEAv3SQGgRUYQNV46SYxCBhAw\\u002fUoXI\\u002fCF0DfT42XbpIXQI\\u002fC9ShcjxdAWmQ730+NF0AlBoGVQ4sXQHE9CtejcBdAI9v5fmo8F0AEVg4tsh0XQNV46SYxCBdARrbz\\u002fdT4FkB9PzVeuskWQBKDwMqhxRZA6SYxCKycFkCgGi\\u002fdJIYWQLbz\\u002fdR4aRZABFYOLbIdFkCamZmZmRkWQGQ730+NFxZAke18PzXeFUDufD81XroVQDMzMzMzsxVAJQaBlUOLFUBCYOXQIlsVQJhuEoPAShVA2c73U+MlFUCkcD0K1yMVQH9qvHSTGBVAj8L1KFwPFUCwcmiR7fwUQPLSTWIQ2BRAokW28\\u002f3UFECiRbbz\\u002fdQUQH0\\u002fNV66yRRA+FPjpZvEFEDdJAaBlcMUQIcW2c73UxRAkxgEVg4tFEAlBoGVQwsUQJZDi2zn+xNA9P3UeOmmE0A5tMh2vp8TQNV46SYxiBNAGQRWDi0yE0AX2c73U+MSQMdLN4lB4BJAzczMzMzMEkDTTWIQWLkSQHnpJjEIrBJAdZMYBFaOEkBQjZduEoMSQAwCK4cWWRJAI9v5fmo8EkCJQWDl0CISQPp+arx0ExJA8KfGSzcJEkD2KFyPwvURQHe+nxov3RFA8tJNYhDYEUBt5\\u002fup8dIRQHNoke18vxFAj8L1KFyPEUDl0CLb+X4RQBBYObTIdhFAcT0K16NwEUBmZmZmZmYRQIcW2c73UxFAvp8aL90kEUCoxks3icEQQCGwcmiRbRBA16NwPQpXEECPwvUoXA8QQM3MzMzMzA9AYhBYObTID0AQWDm0yHYPQNEi2\\u002fl+ag5AMzMzMzMzDkDn+6nx0k0NQC2yne+nxgxAgZVDi2znC0BI4XoUrkcLQHnpJjEIrApADAIrhxbZCUA5tMh2vp8JQESLbOf7qQhAbef7qfHSBkA=\"},\"type\":\"choropleth\"}],                        {\"template\":{\"data\":{\"histogram2dcontour\":[{\"type\":\"histogram2dcontour\",\"colorbar\":{\"outlinewidth\":0,\"ticks\":\"\"},\"colorscale\":[[0.0,\"#0d0887\"],[0.1111111111111111,\"#46039f\"],[0.2222222222222222,\"#7201a8\"],[0.3333333333333333,\"#9c179e\"],[0.4444444444444444,\"#bd3786\"],[0.5555555555555556,\"#d8576b\"],[0.6666666666666666,\"#ed7953\"],[0.7777777777777778,\"#fb9f3a\"],[0.8888888888888888,\"#fdca26\"],[1.0,\"#f0f921\"]]}],\"choropleth\":[{\"type\":\"choropleth\",\"colorbar\":{\"outlinewidth\":0,\"ticks\":\"\"}}],\"histogram2d\":[{\"type\":\"histogram2d\",\"colorbar\":{\"outlinewidth\":0,\"ticks\":\"\"},\"colorscale\":[[0.0,\"#0d0887\"],[0.1111111111111111,\"#46039f\"],[0.2222222222222222,\"#7201a8\"],[0.3333333333333333,\"#9c179e\"],[0.4444444444444444,\"#bd3786\"],[0.5555555555555556,\"#d8576b\"],[0.6666666666666666,\"#ed7953\"],[0.7777777777777778,\"#fb9f3a\"],[0.8888888888888888,\"#fdca26\"],[1.0,\"#f0f921\"]]}],\"heatmap\":[{\"type\":\"heatmap\",\"colorbar\":{\"outlinewidth\":0,\"ticks\":\"\"},\"colorscale\":[[0.0,\"#0d0887\"],[0.1111111111111111,\"#46039f\"],[0.2222222222222222,\"#7201a8\"],[0.3333333333333333,\"#9c179e\"],[0.4444444444444444,\"#bd3786\"],[0.5555555555555556,\"#d8576b\"],[0.6666666666666666,\"#ed7953\"],[0.7777777777777778,\"#fb9f3a\"],[0.8888888888888888,\"#fdca26\"],[1.0,\"#f0f921\"]]}],\"contourcarpet\":[{\"type\":\"contourcarpet\",\"colorbar\":{\"outlinewidth\":0,\"ticks\":\"\"}}],\"contour\":[{\"type\":\"contour\",\"colorbar\":{\"outlinewidth\":0,\"ticks\":\"\"},\"colorscale\":[[0.0,\"#0d0887\"],[0.1111111111111111,\"#46039f\"],[0.2222222222222222,\"#7201a8\"],[0.3333333333333333,\"#9c179e\"],[0.4444444444444444,\"#bd3786\"],[0.5555555555555556,\"#d8576b\"],[0.6666666666666666,\"#ed7953\"],[0.7777777777777778,\"#fb9f3a\"],[0.8888888888888888,\"#fdca26\"],[1.0,\"#f0f921\"]]}],\"surface\":[{\"type\":\"surface\",\"colorbar\":{\"outlinewidth\":0,\"ticks\":\"\"},\"colorscale\":[[0.0,\"#0d0887\"],[0.1111111111111111,\"#46039f\"],[0.2222222222222222,\"#7201a8\"],[0.3333333333333333,\"#9c179e\"],[0.4444444444444444,\"#bd3786\"],[0.5555555555555556,\"#d8576b\"],[0.6666666666666666,\"#ed7953\"],[0.7777777777777778,\"#fb9f3a\"],[0.8888888888888888,\"#fdca26\"],[1.0,\"#f0f921\"]]}],\"mesh3d\":[{\"type\":\"mesh3d\",\"colorbar\":{\"outlinewidth\":0,\"ticks\":\"\"}}],\"scatter\":[{\"fillpattern\":{\"fillmode\":\"overlay\",\"size\":10,\"solidity\":0.2},\"type\":\"scatter\"}],\"parcoords\":[{\"type\":\"parcoords\",\"line\":{\"colorbar\":{\"outlinewidth\":0,\"ticks\":\"\"}}}],\"scatterpolargl\":[{\"type\":\"scatterpolargl\",\"marker\":{\"colorbar\":{\"outlinewidth\":0,\"ticks\":\"\"}}}],\"bar\":[{\"error_x\":{\"color\":\"#2a3f5f\"},\"error_y\":{\"color\":\"#2a3f5f\"},\"marker\":{\"line\":{\"color\":\"#E5ECF6\",\"width\":0.5},\"pattern\":{\"fillmode\":\"overlay\",\"size\":10,\"solidity\":0.2}},\"type\":\"bar\"}],\"scattergeo\":[{\"type\":\"scattergeo\",\"marker\":{\"colorbar\":{\"outlinewidth\":0,\"ticks\":\"\"}}}],\"scatterpolar\":[{\"type\":\"scatterpolar\",\"marker\":{\"colorbar\":{\"outlinewidth\":0,\"ticks\":\"\"}}}],\"histogram\":[{\"marker\":{\"pattern\":{\"fillmode\":\"overlay\",\"size\":10,\"solidity\":0.2}},\"type\":\"histogram\"}],\"scattergl\":[{\"type\":\"scattergl\",\"marker\":{\"colorbar\":{\"outlinewidth\":0,\"ticks\":\"\"}}}],\"scatter3d\":[{\"type\":\"scatter3d\",\"line\":{\"colorbar\":{\"outlinewidth\":0,\"ticks\":\"\"}},\"marker\":{\"colorbar\":{\"outlinewidth\":0,\"ticks\":\"\"}}}],\"scattermap\":[{\"type\":\"scattermap\",\"marker\":{\"colorbar\":{\"outlinewidth\":0,\"ticks\":\"\"}}}],\"scattermapbox\":[{\"type\":\"scattermapbox\",\"marker\":{\"colorbar\":{\"outlinewidth\":0,\"ticks\":\"\"}}}],\"scatterternary\":[{\"type\":\"scatterternary\",\"marker\":{\"colorbar\":{\"outlinewidth\":0,\"ticks\":\"\"}}}],\"scattercarpet\":[{\"type\":\"scattercarpet\",\"marker\":{\"colorbar\":{\"outlinewidth\":0,\"ticks\":\"\"}}}],\"carpet\":[{\"aaxis\":{\"endlinecolor\":\"#2a3f5f\",\"gridcolor\":\"white\",\"linecolor\":\"white\",\"minorgridcolor\":\"white\",\"startlinecolor\":\"#2a3f5f\"},\"baxis\":{\"endlinecolor\":\"#2a3f5f\",\"gridcolor\":\"white\",\"linecolor\":\"white\",\"minorgridcolor\":\"white\",\"startlinecolor\":\"#2a3f5f\"},\"type\":\"carpet\"}],\"table\":[{\"cells\":{\"fill\":{\"color\":\"#EBF0F8\"},\"line\":{\"color\":\"white\"}},\"header\":{\"fill\":{\"color\":\"#C8D4E3\"},\"line\":{\"color\":\"white\"}},\"type\":\"table\"}],\"barpolar\":[{\"marker\":{\"line\":{\"color\":\"#E5ECF6\",\"width\":0.5},\"pattern\":{\"fillmode\":\"overlay\",\"size\":10,\"solidity\":0.2}},\"type\":\"barpolar\"}],\"pie\":[{\"automargin\":true,\"type\":\"pie\"}]},\"layout\":{\"autotypenumbers\":\"strict\",\"colorway\":[\"#636efa\",\"#EF553B\",\"#00cc96\",\"#ab63fa\",\"#FFA15A\",\"#19d3f3\",\"#FF6692\",\"#B6E880\",\"#FF97FF\",\"#FECB52\"],\"font\":{\"color\":\"#2a3f5f\"},\"hovermode\":\"closest\",\"hoverlabel\":{\"align\":\"left\"},\"paper_bgcolor\":\"white\",\"plot_bgcolor\":\"#E5ECF6\",\"polar\":{\"bgcolor\":\"#E5ECF6\",\"angularaxis\":{\"gridcolor\":\"white\",\"linecolor\":\"white\",\"ticks\":\"\"},\"radialaxis\":{\"gridcolor\":\"white\",\"linecolor\":\"white\",\"ticks\":\"\"}},\"ternary\":{\"bgcolor\":\"#E5ECF6\",\"aaxis\":{\"gridcolor\":\"white\",\"linecolor\":\"white\",\"ticks\":\"\"},\"baxis\":{\"gridcolor\":\"white\",\"linecolor\":\"white\",\"ticks\":\"\"},\"caxis\":{\"gridcolor\":\"white\",\"linecolor\":\"white\",\"ticks\":\"\"}},\"coloraxis\":{\"colorbar\":{\"outlinewidth\":0,\"ticks\":\"\"}},\"colorscale\":{\"sequential\":[[0.0,\"#0d0887\"],[0.1111111111111111,\"#46039f\"],[0.2222222222222222,\"#7201a8\"],[0.3333333333333333,\"#9c179e\"],[0.4444444444444444,\"#bd3786\"],[0.5555555555555556,\"#d8576b\"],[0.6666666666666666,\"#ed7953\"],[0.7777777777777778,\"#fb9f3a\"],[0.8888888888888888,\"#fdca26\"],[1.0,\"#f0f921\"]],\"sequentialminus\":[[0.0,\"#0d0887\"],[0.1111111111111111,\"#46039f\"],[0.2222222222222222,\"#7201a8\"],[0.3333333333333333,\"#9c179e\"],[0.4444444444444444,\"#bd3786\"],[0.5555555555555556,\"#d8576b\"],[0.6666666666666666,\"#ed7953\"],[0.7777777777777778,\"#fb9f3a\"],[0.8888888888888888,\"#fdca26\"],[1.0,\"#f0f921\"]],\"diverging\":[[0,\"#8e0152\"],[0.1,\"#c51b7d\"],[0.2,\"#de77ae\"],[0.3,\"#f1b6da\"],[0.4,\"#fde0ef\"],[0.5,\"#f7f7f7\"],[0.6,\"#e6f5d0\"],[0.7,\"#b8e186\"],[0.8,\"#7fbc41\"],[0.9,\"#4d9221\"],[1,\"#276419\"]]},\"xaxis\":{\"gridcolor\":\"white\",\"linecolor\":\"white\",\"ticks\":\"\",\"title\":{\"standoff\":15},\"zerolinecolor\":\"white\",\"automargin\":true,\"zerolinewidth\":2},\"yaxis\":{\"gridcolor\":\"white\",\"linecolor\":\"white\",\"ticks\":\"\",\"title\":{\"standoff\":15},\"zerolinecolor\":\"white\",\"automargin\":true,\"zerolinewidth\":2},\"scene\":{\"xaxis\":{\"backgroundcolor\":\"#E5ECF6\",\"gridcolor\":\"white\",\"linecolor\":\"white\",\"showbackground\":true,\"ticks\":\"\",\"zerolinecolor\":\"white\",\"gridwidth\":2},\"yaxis\":{\"backgroundcolor\":\"#E5ECF6\",\"gridcolor\":\"white\",\"linecolor\":\"white\",\"showbackground\":true,\"ticks\":\"\",\"zerolinecolor\":\"white\",\"gridwidth\":2},\"zaxis\":{\"backgroundcolor\":\"#E5ECF6\",\"gridcolor\":\"white\",\"linecolor\":\"white\",\"showbackground\":true,\"ticks\":\"\",\"zerolinecolor\":\"white\",\"gridwidth\":2}},\"shapedefaults\":{\"line\":{\"color\":\"#2a3f5f\"}},\"annotationdefaults\":{\"arrowcolor\":\"#2a3f5f\",\"arrowhead\":0,\"arrowwidth\":1},\"geo\":{\"bgcolor\":\"white\",\"landcolor\":\"#E5ECF6\",\"subunitcolor\":\"white\",\"showland\":true,\"showlakes\":true,\"lakecolor\":\"white\"},\"title\":{\"x\":0.05},\"mapbox\":{\"style\":\"light\"}}},\"geo\":{\"domain\":{\"x\":[0.0,1.0],\"y\":[0.0,1.0]},\"center\":{},\"projection\":{\"type\":\"natural earth\"},\"showframe\":false,\"showcoastlines\":true,\"showocean\":true,\"oceancolor\":\"lightblue\",\"bgcolor\":\"#EAF4F4\"},\"coloraxis\":{\"colorbar\":{\"title\":{\"text\":\"Happiness\"},\"tickvals\":[1,4,7,10],\"orientation\":\"h\",\"yanchor\":\"bottom\",\"y\":1.02,\"xanchor\":\"center\",\"x\":0.5,\"thickness\":15,\"ticklen\":0,\"outlinewidth\":1,\"outlinecolor\":\"black\",\"bgcolor\":\"#EAF4F4\"},\"colorscale\":[[0.0,\"#440154\"],[0.1111111111111111,\"#482878\"],[0.2222222222222222,\"#3e4989\"],[0.3333333333333333,\"#31688e\"],[0.4444444444444444,\"#26828e\"],[0.5555555555555556,\"#1f9e89\"],[0.6666666666666666,\"#35b779\"],[0.7777777777777778,\"#6ece58\"],[0.8888888888888888,\"#b5de2b\"],[1.0,\"#fde725\"]],\"cmin\":1,\"cmax\":10},\"legend\":{\"tracegroupgap\":0},\"title\":{\"text\":\"World Happiness Score by Country\",\"x\":0.5},\"height\":500,\"width\":750,\"margin\":{\"r\":0,\"t\":60,\"l\":0,\"b\":0},\"paper_bgcolor\":\"#EAF4F4\",\"plot_bgcolor\":\"#EAF4F4\"},                        {\"responsive\": true}                    ).then(function(){\n",
       "                            \n",
       "var gd = document.getElementById('0bd0a677-8b40-49d9-8e37-14810791b665');\n",
       "var x = new MutationObserver(function (mutations, observer) {{\n",
       "        var display = window.getComputedStyle(gd).display;\n",
       "        if (!display || display === 'none') {{\n",
       "            console.log([gd, 'removed!']);\n",
       "            Plotly.purge(gd);\n",
       "            observer.disconnect();\n",
       "        }}\n",
       "}});\n",
       "\n",
       "// Listen for the removal of the full notebook cells\n",
       "var notebookContainer = gd.closest('#notebook-container');\n",
       "if (notebookContainer) {{\n",
       "    x.observe(notebookContainer, {childList: true});\n",
       "}}\n",
       "\n",
       "// Listen for the clearing of the current output cell\n",
       "var outputEl = gd.closest('.output');\n",
       "if (outputEl) {{\n",
       "    x.observe(outputEl, {childList: true});\n",
       "}}\n",
       "\n",
       "                        })                };            </script>        </div>"
      ]
     },
     "metadata": {},
     "output_type": "display_data"
    }
   ],
   "source": [
    "import pandas as pd\n",
    "import plotly.express as px\n",
    "\n",
    "df = pd.read_csv('final.csv')\n",
    "\n",
    "fig = px.choropleth(\n",
    "    df,\n",
    "    locations='Country',\n",
    "    locationmode='country names',\n",
    "    color='Happiness',\n",
    "    hover_name='Country',\n",
    "    color_continuous_scale='Viridis',\n",
    "    range_color=(1, 10),\n",
    "    title='World Happiness Score by Country',\n",
    "    width=750,\n",
    "    height=500\n",
    ")\n",
    "\n",
    "fig.update_layout(\n",
    "    geo=dict(\n",
    "        showframe=False,\n",
    "        showcoastlines=True,\n",
    "        projection_type='natural earth',\n",
    "        showocean=True,\n",
    "        oceancolor='lightblue',\n",
    "        bgcolor='#EAF4F4'              \n",
    "    ),\n",
    "    coloraxis_colorbar=dict(\n",
    "        tickvals=[1, 4, 7, 10],\n",
    "        orientation='h',\n",
    "        yanchor='bottom',\n",
    "        y=1.02,\n",
    "        xanchor='center',\n",
    "        x=0.5,\n",
    "        thickness=15,\n",
    "        ticklen=0,\n",
    "        outlinewidth=1,\n",
    "        outlinecolor='black',\n",
    "        bgcolor='#EAF4F4'\n",
    "    ),\n",
    "    title_x=0.5,\n",
    "    paper_bgcolor='#EAF4F4',\n",
    "    plot_bgcolor='#EAF4F4',\n",
    "    margin={\"r\":0,\"t\":60,\"l\":0,\"b\":0}\n",
    ")\n",
    "\n",
    "fig.show()\n"
   ]
  },
  {
   "cell_type": "code",
   "execution_count": 6,
   "id": "934fee4f",
   "metadata": {
    "tags": [
     "remove-input"
    ]
   },
   "outputs": [
    {
     "data": {
      "application/vnd.plotly.v1+json": {
       "config": {
        "plotlyServerURL": "https://plot.ly"
       },
       "data": [
        {
         "colorbar": {
          "title": {
           "text": "Pearson r"
          }
         },
         "colorscale": [
          [
           0,
           "rgb(103,0,31)"
          ],
          [
           0.1,
           "rgb(178,24,43)"
          ],
          [
           0.2,
           "rgb(214,96,77)"
          ],
          [
           0.3,
           "rgb(244,165,130)"
          ],
          [
           0.4,
           "rgb(253,219,199)"
          ],
          [
           0.5,
           "rgb(247,247,247)"
          ],
          [
           0.6,
           "rgb(209,229,240)"
          ],
          [
           0.7,
           "rgb(146,197,222)"
          ],
          [
           0.8,
           "rgb(67,147,195)"
          ],
          [
           0.9,
           "rgb(33,102,172)"
          ],
          [
           1,
           "rgb(5,48,97)"
          ]
         ],
         "hoverongaps": false,
         "text": [
          [
           "0.77",
           "0.32",
           "-0.25",
           "-0.22",
           "0.18",
           "0.17"
          ]
         ],
         "textfont": {
          "size": 14
         },
         "texttemplate": "%{text}",
         "type": "heatmap",
         "x": [
          "Life_expectancy",
          "Edu_expenditure_pct",
          "Unemployment_rate",
          "Gini_index",
          "GDP_current_usd",
          "GNI_current_usd"
         ],
         "y": [
          "Happiness"
         ],
         "z": [
          [
           0.7736481330602923,
           0.3198404160698537,
           -0.2492505507030011,
           -0.2230097329535542,
           0.17576219514602484,
           0.17481631789653462
          ]
         ],
         "zmax": 1,
         "zmid": 0,
         "zmin": -1
        }
       ],
       "layout": {
        "height": 500,
        "margin": {
         "b": 100,
         "l": 80,
         "r": 80,
         "t": 60
        },
        "paper_bgcolor": "#EDF1EC",
        "plot_bgcolor": "#EDF1EC",
        "template": {
         "data": {
          "bar": [
           {
            "error_x": {
             "color": "#2a3f5f"
            },
            "error_y": {
             "color": "#2a3f5f"
            },
            "marker": {
             "line": {
              "color": "#E5ECF6",
              "width": 0.5
             },
             "pattern": {
              "fillmode": "overlay",
              "size": 10,
              "solidity": 0.2
             }
            },
            "type": "bar"
           }
          ],
          "barpolar": [
           {
            "marker": {
             "line": {
              "color": "#E5ECF6",
              "width": 0.5
             },
             "pattern": {
              "fillmode": "overlay",
              "size": 10,
              "solidity": 0.2
             }
            },
            "type": "barpolar"
           }
          ],
          "carpet": [
           {
            "aaxis": {
             "endlinecolor": "#2a3f5f",
             "gridcolor": "white",
             "linecolor": "white",
             "minorgridcolor": "white",
             "startlinecolor": "#2a3f5f"
            },
            "baxis": {
             "endlinecolor": "#2a3f5f",
             "gridcolor": "white",
             "linecolor": "white",
             "minorgridcolor": "white",
             "startlinecolor": "#2a3f5f"
            },
            "type": "carpet"
           }
          ],
          "choropleth": [
           {
            "colorbar": {
             "outlinewidth": 0,
             "ticks": ""
            },
            "type": "choropleth"
           }
          ],
          "contour": [
           {
            "colorbar": {
             "outlinewidth": 0,
             "ticks": ""
            },
            "colorscale": [
             [
              0,
              "#0d0887"
             ],
             [
              0.1111111111111111,
              "#46039f"
             ],
             [
              0.2222222222222222,
              "#7201a8"
             ],
             [
              0.3333333333333333,
              "#9c179e"
             ],
             [
              0.4444444444444444,
              "#bd3786"
             ],
             [
              0.5555555555555556,
              "#d8576b"
             ],
             [
              0.6666666666666666,
              "#ed7953"
             ],
             [
              0.7777777777777778,
              "#fb9f3a"
             ],
             [
              0.8888888888888888,
              "#fdca26"
             ],
             [
              1,
              "#f0f921"
             ]
            ],
            "type": "contour"
           }
          ],
          "contourcarpet": [
           {
            "colorbar": {
             "outlinewidth": 0,
             "ticks": ""
            },
            "type": "contourcarpet"
           }
          ],
          "heatmap": [
           {
            "colorbar": {
             "outlinewidth": 0,
             "ticks": ""
            },
            "colorscale": [
             [
              0,
              "#0d0887"
             ],
             [
              0.1111111111111111,
              "#46039f"
             ],
             [
              0.2222222222222222,
              "#7201a8"
             ],
             [
              0.3333333333333333,
              "#9c179e"
             ],
             [
              0.4444444444444444,
              "#bd3786"
             ],
             [
              0.5555555555555556,
              "#d8576b"
             ],
             [
              0.6666666666666666,
              "#ed7953"
             ],
             [
              0.7777777777777778,
              "#fb9f3a"
             ],
             [
              0.8888888888888888,
              "#fdca26"
             ],
             [
              1,
              "#f0f921"
             ]
            ],
            "type": "heatmap"
           }
          ],
          "histogram": [
           {
            "marker": {
             "pattern": {
              "fillmode": "overlay",
              "size": 10,
              "solidity": 0.2
             }
            },
            "type": "histogram"
           }
          ],
          "histogram2d": [
           {
            "colorbar": {
             "outlinewidth": 0,
             "ticks": ""
            },
            "colorscale": [
             [
              0,
              "#0d0887"
             ],
             [
              0.1111111111111111,
              "#46039f"
             ],
             [
              0.2222222222222222,
              "#7201a8"
             ],
             [
              0.3333333333333333,
              "#9c179e"
             ],
             [
              0.4444444444444444,
              "#bd3786"
             ],
             [
              0.5555555555555556,
              "#d8576b"
             ],
             [
              0.6666666666666666,
              "#ed7953"
             ],
             [
              0.7777777777777778,
              "#fb9f3a"
             ],
             [
              0.8888888888888888,
              "#fdca26"
             ],
             [
              1,
              "#f0f921"
             ]
            ],
            "type": "histogram2d"
           }
          ],
          "histogram2dcontour": [
           {
            "colorbar": {
             "outlinewidth": 0,
             "ticks": ""
            },
            "colorscale": [
             [
              0,
              "#0d0887"
             ],
             [
              0.1111111111111111,
              "#46039f"
             ],
             [
              0.2222222222222222,
              "#7201a8"
             ],
             [
              0.3333333333333333,
              "#9c179e"
             ],
             [
              0.4444444444444444,
              "#bd3786"
             ],
             [
              0.5555555555555556,
              "#d8576b"
             ],
             [
              0.6666666666666666,
              "#ed7953"
             ],
             [
              0.7777777777777778,
              "#fb9f3a"
             ],
             [
              0.8888888888888888,
              "#fdca26"
             ],
             [
              1,
              "#f0f921"
             ]
            ],
            "type": "histogram2dcontour"
           }
          ],
          "mesh3d": [
           {
            "colorbar": {
             "outlinewidth": 0,
             "ticks": ""
            },
            "type": "mesh3d"
           }
          ],
          "parcoords": [
           {
            "line": {
             "colorbar": {
              "outlinewidth": 0,
              "ticks": ""
             }
            },
            "type": "parcoords"
           }
          ],
          "pie": [
           {
            "automargin": true,
            "type": "pie"
           }
          ],
          "scatter": [
           {
            "fillpattern": {
             "fillmode": "overlay",
             "size": 10,
             "solidity": 0.2
            },
            "type": "scatter"
           }
          ],
          "scatter3d": [
           {
            "line": {
             "colorbar": {
              "outlinewidth": 0,
              "ticks": ""
             }
            },
            "marker": {
             "colorbar": {
              "outlinewidth": 0,
              "ticks": ""
             }
            },
            "type": "scatter3d"
           }
          ],
          "scattercarpet": [
           {
            "marker": {
             "colorbar": {
              "outlinewidth": 0,
              "ticks": ""
             }
            },
            "type": "scattercarpet"
           }
          ],
          "scattergeo": [
           {
            "marker": {
             "colorbar": {
              "outlinewidth": 0,
              "ticks": ""
             }
            },
            "type": "scattergeo"
           }
          ],
          "scattergl": [
           {
            "marker": {
             "colorbar": {
              "outlinewidth": 0,
              "ticks": ""
             }
            },
            "type": "scattergl"
           }
          ],
          "scattermap": [
           {
            "marker": {
             "colorbar": {
              "outlinewidth": 0,
              "ticks": ""
             }
            },
            "type": "scattermap"
           }
          ],
          "scattermapbox": [
           {
            "marker": {
             "colorbar": {
              "outlinewidth": 0,
              "ticks": ""
             }
            },
            "type": "scattermapbox"
           }
          ],
          "scatterpolar": [
           {
            "marker": {
             "colorbar": {
              "outlinewidth": 0,
              "ticks": ""
             }
            },
            "type": "scatterpolar"
           }
          ],
          "scatterpolargl": [
           {
            "marker": {
             "colorbar": {
              "outlinewidth": 0,
              "ticks": ""
             }
            },
            "type": "scatterpolargl"
           }
          ],
          "scatterternary": [
           {
            "marker": {
             "colorbar": {
              "outlinewidth": 0,
              "ticks": ""
             }
            },
            "type": "scatterternary"
           }
          ],
          "surface": [
           {
            "colorbar": {
             "outlinewidth": 0,
             "ticks": ""
            },
            "colorscale": [
             [
              0,
              "#0d0887"
             ],
             [
              0.1111111111111111,
              "#46039f"
             ],
             [
              0.2222222222222222,
              "#7201a8"
             ],
             [
              0.3333333333333333,
              "#9c179e"
             ],
             [
              0.4444444444444444,
              "#bd3786"
             ],
             [
              0.5555555555555556,
              "#d8576b"
             ],
             [
              0.6666666666666666,
              "#ed7953"
             ],
             [
              0.7777777777777778,
              "#fb9f3a"
             ],
             [
              0.8888888888888888,
              "#fdca26"
             ],
             [
              1,
              "#f0f921"
             ]
            ],
            "type": "surface"
           }
          ],
          "table": [
           {
            "cells": {
             "fill": {
              "color": "#EBF0F8"
             },
             "line": {
              "color": "white"
             }
            },
            "header": {
             "fill": {
              "color": "#C8D4E3"
             },
             "line": {
              "color": "white"
             }
            },
            "type": "table"
           }
          ]
         },
         "layout": {
          "annotationdefaults": {
           "arrowcolor": "#2a3f5f",
           "arrowhead": 0,
           "arrowwidth": 1
          },
          "autotypenumbers": "strict",
          "coloraxis": {
           "colorbar": {
            "outlinewidth": 0,
            "ticks": ""
           }
          },
          "colorscale": {
           "diverging": [
            [
             0,
             "#8e0152"
            ],
            [
             0.1,
             "#c51b7d"
            ],
            [
             0.2,
             "#de77ae"
            ],
            [
             0.3,
             "#f1b6da"
            ],
            [
             0.4,
             "#fde0ef"
            ],
            [
             0.5,
             "#f7f7f7"
            ],
            [
             0.6,
             "#e6f5d0"
            ],
            [
             0.7,
             "#b8e186"
            ],
            [
             0.8,
             "#7fbc41"
            ],
            [
             0.9,
             "#4d9221"
            ],
            [
             1,
             "#276419"
            ]
           ],
           "sequential": [
            [
             0,
             "#0d0887"
            ],
            [
             0.1111111111111111,
             "#46039f"
            ],
            [
             0.2222222222222222,
             "#7201a8"
            ],
            [
             0.3333333333333333,
             "#9c179e"
            ],
            [
             0.4444444444444444,
             "#bd3786"
            ],
            [
             0.5555555555555556,
             "#d8576b"
            ],
            [
             0.6666666666666666,
             "#ed7953"
            ],
            [
             0.7777777777777778,
             "#fb9f3a"
            ],
            [
             0.8888888888888888,
             "#fdca26"
            ],
            [
             1,
             "#f0f921"
            ]
           ],
           "sequentialminus": [
            [
             0,
             "#0d0887"
            ],
            [
             0.1111111111111111,
             "#46039f"
            ],
            [
             0.2222222222222222,
             "#7201a8"
            ],
            [
             0.3333333333333333,
             "#9c179e"
            ],
            [
             0.4444444444444444,
             "#bd3786"
            ],
            [
             0.5555555555555556,
             "#d8576b"
            ],
            [
             0.6666666666666666,
             "#ed7953"
            ],
            [
             0.7777777777777778,
             "#fb9f3a"
            ],
            [
             0.8888888888888888,
             "#fdca26"
            ],
            [
             1,
             "#f0f921"
            ]
           ]
          },
          "colorway": [
           "#636efa",
           "#EF553B",
           "#00cc96",
           "#ab63fa",
           "#FFA15A",
           "#19d3f3",
           "#FF6692",
           "#B6E880",
           "#FF97FF",
           "#FECB52"
          ],
          "font": {
           "color": "#2a3f5f"
          },
          "geo": {
           "bgcolor": "white",
           "lakecolor": "white",
           "landcolor": "#E5ECF6",
           "showlakes": true,
           "showland": true,
           "subunitcolor": "white"
          },
          "hoverlabel": {
           "align": "left"
          },
          "hovermode": "closest",
          "mapbox": {
           "style": "light"
          },
          "paper_bgcolor": "white",
          "plot_bgcolor": "#E5ECF6",
          "polar": {
           "angularaxis": {
            "gridcolor": "white",
            "linecolor": "white",
            "ticks": ""
           },
           "bgcolor": "#E5ECF6",
           "radialaxis": {
            "gridcolor": "white",
            "linecolor": "white",
            "ticks": ""
           }
          },
          "scene": {
           "xaxis": {
            "backgroundcolor": "#E5ECF6",
            "gridcolor": "white",
            "gridwidth": 2,
            "linecolor": "white",
            "showbackground": true,
            "ticks": "",
            "zerolinecolor": "white"
           },
           "yaxis": {
            "backgroundcolor": "#E5ECF6",
            "gridcolor": "white",
            "gridwidth": 2,
            "linecolor": "white",
            "showbackground": true,
            "ticks": "",
            "zerolinecolor": "white"
           },
           "zaxis": {
            "backgroundcolor": "#E5ECF6",
            "gridcolor": "white",
            "gridwidth": 2,
            "linecolor": "white",
            "showbackground": true,
            "ticks": "",
            "zerolinecolor": "white"
           }
          },
          "shapedefaults": {
           "line": {
            "color": "#2a3f5f"
           }
          },
          "ternary": {
           "aaxis": {
            "gridcolor": "white",
            "linecolor": "white",
            "ticks": ""
           },
           "baxis": {
            "gridcolor": "white",
            "linecolor": "white",
            "ticks": ""
           },
           "bgcolor": "#E5ECF6",
           "caxis": {
            "gridcolor": "white",
            "linecolor": "white",
            "ticks": ""
           }
          },
          "title": {
           "x": 0.05
          },
          "xaxis": {
           "automargin": true,
           "gridcolor": "white",
           "linecolor": "white",
           "ticks": "",
           "title": {
            "standoff": 15
           },
           "zerolinecolor": "white",
           "zerolinewidth": 2
          },
          "yaxis": {
           "automargin": true,
           "gridcolor": "white",
           "linecolor": "white",
           "ticks": "",
           "title": {
            "standoff": 15
           },
           "zerolinecolor": "white",
           "zerolinewidth": 2
          }
         }
        },
        "title": {
         "text": "Correlations: Happiness vs Other Indicators"
        },
        "xaxis": {
         "tickangle": -45
        },
        "yaxis": {
         "tickfont": {
          "size": 14
         }
        }
       }
      },
      "text/html": [
       "<div>            <script src=\"https://cdnjs.cloudflare.com/ajax/libs/mathjax/2.7.5/MathJax.js?config=TeX-AMS-MML_SVG\"></script><script type=\"text/javascript\">if (window.MathJax && window.MathJax.Hub && window.MathJax.Hub.Config) {window.MathJax.Hub.Config({SVG: {font: \"STIX-Web\"}});}</script>                <script type=\"text/javascript\">window.PlotlyConfig = {MathJaxConfig: 'local'};</script>\n",
       "        <script charset=\"utf-8\" src=\"https://cdn.plot.ly/plotly-3.0.1.min.js\"></script>                <div id=\"0a7f02be-43fc-4c4d-8d0c-6a771295f387\" class=\"plotly-graph-div\" style=\"height:500px; width:100%;\"></div>            <script type=\"text/javascript\">                window.PLOTLYENV=window.PLOTLYENV || {};                                if (document.getElementById(\"0a7f02be-43fc-4c4d-8d0c-6a771295f387\")) {                    Plotly.newPlot(                        \"0a7f02be-43fc-4c4d-8d0c-6a771295f387\",                        [{\"colorbar\":{\"title\":{\"text\":\"Pearson r\"}},\"colorscale\":[[0.0,\"rgb(103,0,31)\"],[0.1,\"rgb(178,24,43)\"],[0.2,\"rgb(214,96,77)\"],[0.3,\"rgb(244,165,130)\"],[0.4,\"rgb(253,219,199)\"],[0.5,\"rgb(247,247,247)\"],[0.6,\"rgb(209,229,240)\"],[0.7,\"rgb(146,197,222)\"],[0.8,\"rgb(67,147,195)\"],[0.9,\"rgb(33,102,172)\"],[1.0,\"rgb(5,48,97)\"]],\"hoverongaps\":false,\"text\":[[\"0.77\",\"0.32\",\"-0.25\",\"-0.22\",\"0.18\",\"0.17\"]],\"textfont\":{\"size\":14},\"texttemplate\":\"%{text}\",\"x\":[\"Life_expectancy\",\"Edu_expenditure_pct\",\"Unemployment_rate\",\"Gini_index\",\"GDP_current_usd\",\"GNI_current_usd\"],\"y\":[\"Happiness\"],\"z\":[[0.7736481330602923,0.3198404160698537,-0.2492505507030011,-0.2230097329535542,0.17576219514602484,0.17481631789653462]],\"zmax\":1,\"zmid\":0,\"zmin\":-1,\"type\":\"heatmap\"}],                        {\"template\":{\"data\":{\"histogram2dcontour\":[{\"type\":\"histogram2dcontour\",\"colorbar\":{\"outlinewidth\":0,\"ticks\":\"\"},\"colorscale\":[[0.0,\"#0d0887\"],[0.1111111111111111,\"#46039f\"],[0.2222222222222222,\"#7201a8\"],[0.3333333333333333,\"#9c179e\"],[0.4444444444444444,\"#bd3786\"],[0.5555555555555556,\"#d8576b\"],[0.6666666666666666,\"#ed7953\"],[0.7777777777777778,\"#fb9f3a\"],[0.8888888888888888,\"#fdca26\"],[1.0,\"#f0f921\"]]}],\"choropleth\":[{\"type\":\"choropleth\",\"colorbar\":{\"outlinewidth\":0,\"ticks\":\"\"}}],\"histogram2d\":[{\"type\":\"histogram2d\",\"colorbar\":{\"outlinewidth\":0,\"ticks\":\"\"},\"colorscale\":[[0.0,\"#0d0887\"],[0.1111111111111111,\"#46039f\"],[0.2222222222222222,\"#7201a8\"],[0.3333333333333333,\"#9c179e\"],[0.4444444444444444,\"#bd3786\"],[0.5555555555555556,\"#d8576b\"],[0.6666666666666666,\"#ed7953\"],[0.7777777777777778,\"#fb9f3a\"],[0.8888888888888888,\"#fdca26\"],[1.0,\"#f0f921\"]]}],\"heatmap\":[{\"type\":\"heatmap\",\"colorbar\":{\"outlinewidth\":0,\"ticks\":\"\"},\"colorscale\":[[0.0,\"#0d0887\"],[0.1111111111111111,\"#46039f\"],[0.2222222222222222,\"#7201a8\"],[0.3333333333333333,\"#9c179e\"],[0.4444444444444444,\"#bd3786\"],[0.5555555555555556,\"#d8576b\"],[0.6666666666666666,\"#ed7953\"],[0.7777777777777778,\"#fb9f3a\"],[0.8888888888888888,\"#fdca26\"],[1.0,\"#f0f921\"]]}],\"contourcarpet\":[{\"type\":\"contourcarpet\",\"colorbar\":{\"outlinewidth\":0,\"ticks\":\"\"}}],\"contour\":[{\"type\":\"contour\",\"colorbar\":{\"outlinewidth\":0,\"ticks\":\"\"},\"colorscale\":[[0.0,\"#0d0887\"],[0.1111111111111111,\"#46039f\"],[0.2222222222222222,\"#7201a8\"],[0.3333333333333333,\"#9c179e\"],[0.4444444444444444,\"#bd3786\"],[0.5555555555555556,\"#d8576b\"],[0.6666666666666666,\"#ed7953\"],[0.7777777777777778,\"#fb9f3a\"],[0.8888888888888888,\"#fdca26\"],[1.0,\"#f0f921\"]]}],\"surface\":[{\"type\":\"surface\",\"colorbar\":{\"outlinewidth\":0,\"ticks\":\"\"},\"colorscale\":[[0.0,\"#0d0887\"],[0.1111111111111111,\"#46039f\"],[0.2222222222222222,\"#7201a8\"],[0.3333333333333333,\"#9c179e\"],[0.4444444444444444,\"#bd3786\"],[0.5555555555555556,\"#d8576b\"],[0.6666666666666666,\"#ed7953\"],[0.7777777777777778,\"#fb9f3a\"],[0.8888888888888888,\"#fdca26\"],[1.0,\"#f0f921\"]]}],\"mesh3d\":[{\"type\":\"mesh3d\",\"colorbar\":{\"outlinewidth\":0,\"ticks\":\"\"}}],\"scatter\":[{\"fillpattern\":{\"fillmode\":\"overlay\",\"size\":10,\"solidity\":0.2},\"type\":\"scatter\"}],\"parcoords\":[{\"type\":\"parcoords\",\"line\":{\"colorbar\":{\"outlinewidth\":0,\"ticks\":\"\"}}}],\"scatterpolargl\":[{\"type\":\"scatterpolargl\",\"marker\":{\"colorbar\":{\"outlinewidth\":0,\"ticks\":\"\"}}}],\"bar\":[{\"error_x\":{\"color\":\"#2a3f5f\"},\"error_y\":{\"color\":\"#2a3f5f\"},\"marker\":{\"line\":{\"color\":\"#E5ECF6\",\"width\":0.5},\"pattern\":{\"fillmode\":\"overlay\",\"size\":10,\"solidity\":0.2}},\"type\":\"bar\"}],\"scattergeo\":[{\"type\":\"scattergeo\",\"marker\":{\"colorbar\":{\"outlinewidth\":0,\"ticks\":\"\"}}}],\"scatterpolar\":[{\"type\":\"scatterpolar\",\"marker\":{\"colorbar\":{\"outlinewidth\":0,\"ticks\":\"\"}}}],\"histogram\":[{\"marker\":{\"pattern\":{\"fillmode\":\"overlay\",\"size\":10,\"solidity\":0.2}},\"type\":\"histogram\"}],\"scattergl\":[{\"type\":\"scattergl\",\"marker\":{\"colorbar\":{\"outlinewidth\":0,\"ticks\":\"\"}}}],\"scatter3d\":[{\"type\":\"scatter3d\",\"line\":{\"colorbar\":{\"outlinewidth\":0,\"ticks\":\"\"}},\"marker\":{\"colorbar\":{\"outlinewidth\":0,\"ticks\":\"\"}}}],\"scattermap\":[{\"type\":\"scattermap\",\"marker\":{\"colorbar\":{\"outlinewidth\":0,\"ticks\":\"\"}}}],\"scattermapbox\":[{\"type\":\"scattermapbox\",\"marker\":{\"colorbar\":{\"outlinewidth\":0,\"ticks\":\"\"}}}],\"scatterternary\":[{\"type\":\"scatterternary\",\"marker\":{\"colorbar\":{\"outlinewidth\":0,\"ticks\":\"\"}}}],\"scattercarpet\":[{\"type\":\"scattercarpet\",\"marker\":{\"colorbar\":{\"outlinewidth\":0,\"ticks\":\"\"}}}],\"carpet\":[{\"aaxis\":{\"endlinecolor\":\"#2a3f5f\",\"gridcolor\":\"white\",\"linecolor\":\"white\",\"minorgridcolor\":\"white\",\"startlinecolor\":\"#2a3f5f\"},\"baxis\":{\"endlinecolor\":\"#2a3f5f\",\"gridcolor\":\"white\",\"linecolor\":\"white\",\"minorgridcolor\":\"white\",\"startlinecolor\":\"#2a3f5f\"},\"type\":\"carpet\"}],\"table\":[{\"cells\":{\"fill\":{\"color\":\"#EBF0F8\"},\"line\":{\"color\":\"white\"}},\"header\":{\"fill\":{\"color\":\"#C8D4E3\"},\"line\":{\"color\":\"white\"}},\"type\":\"table\"}],\"barpolar\":[{\"marker\":{\"line\":{\"color\":\"#E5ECF6\",\"width\":0.5},\"pattern\":{\"fillmode\":\"overlay\",\"size\":10,\"solidity\":0.2}},\"type\":\"barpolar\"}],\"pie\":[{\"automargin\":true,\"type\":\"pie\"}]},\"layout\":{\"autotypenumbers\":\"strict\",\"colorway\":[\"#636efa\",\"#EF553B\",\"#00cc96\",\"#ab63fa\",\"#FFA15A\",\"#19d3f3\",\"#FF6692\",\"#B6E880\",\"#FF97FF\",\"#FECB52\"],\"font\":{\"color\":\"#2a3f5f\"},\"hovermode\":\"closest\",\"hoverlabel\":{\"align\":\"left\"},\"paper_bgcolor\":\"white\",\"plot_bgcolor\":\"#E5ECF6\",\"polar\":{\"bgcolor\":\"#E5ECF6\",\"angularaxis\":{\"gridcolor\":\"white\",\"linecolor\":\"white\",\"ticks\":\"\"},\"radialaxis\":{\"gridcolor\":\"white\",\"linecolor\":\"white\",\"ticks\":\"\"}},\"ternary\":{\"bgcolor\":\"#E5ECF6\",\"aaxis\":{\"gridcolor\":\"white\",\"linecolor\":\"white\",\"ticks\":\"\"},\"baxis\":{\"gridcolor\":\"white\",\"linecolor\":\"white\",\"ticks\":\"\"},\"caxis\":{\"gridcolor\":\"white\",\"linecolor\":\"white\",\"ticks\":\"\"}},\"coloraxis\":{\"colorbar\":{\"outlinewidth\":0,\"ticks\":\"\"}},\"colorscale\":{\"sequential\":[[0.0,\"#0d0887\"],[0.1111111111111111,\"#46039f\"],[0.2222222222222222,\"#7201a8\"],[0.3333333333333333,\"#9c179e\"],[0.4444444444444444,\"#bd3786\"],[0.5555555555555556,\"#d8576b\"],[0.6666666666666666,\"#ed7953\"],[0.7777777777777778,\"#fb9f3a\"],[0.8888888888888888,\"#fdca26\"],[1.0,\"#f0f921\"]],\"sequentialminus\":[[0.0,\"#0d0887\"],[0.1111111111111111,\"#46039f\"],[0.2222222222222222,\"#7201a8\"],[0.3333333333333333,\"#9c179e\"],[0.4444444444444444,\"#bd3786\"],[0.5555555555555556,\"#d8576b\"],[0.6666666666666666,\"#ed7953\"],[0.7777777777777778,\"#fb9f3a\"],[0.8888888888888888,\"#fdca26\"],[1.0,\"#f0f921\"]],\"diverging\":[[0,\"#8e0152\"],[0.1,\"#c51b7d\"],[0.2,\"#de77ae\"],[0.3,\"#f1b6da\"],[0.4,\"#fde0ef\"],[0.5,\"#f7f7f7\"],[0.6,\"#e6f5d0\"],[0.7,\"#b8e186\"],[0.8,\"#7fbc41\"],[0.9,\"#4d9221\"],[1,\"#276419\"]]},\"xaxis\":{\"gridcolor\":\"white\",\"linecolor\":\"white\",\"ticks\":\"\",\"title\":{\"standoff\":15},\"zerolinecolor\":\"white\",\"automargin\":true,\"zerolinewidth\":2},\"yaxis\":{\"gridcolor\":\"white\",\"linecolor\":\"white\",\"ticks\":\"\",\"title\":{\"standoff\":15},\"zerolinecolor\":\"white\",\"automargin\":true,\"zerolinewidth\":2},\"scene\":{\"xaxis\":{\"backgroundcolor\":\"#E5ECF6\",\"gridcolor\":\"white\",\"linecolor\":\"white\",\"showbackground\":true,\"ticks\":\"\",\"zerolinecolor\":\"white\",\"gridwidth\":2},\"yaxis\":{\"backgroundcolor\":\"#E5ECF6\",\"gridcolor\":\"white\",\"linecolor\":\"white\",\"showbackground\":true,\"ticks\":\"\",\"zerolinecolor\":\"white\",\"gridwidth\":2},\"zaxis\":{\"backgroundcolor\":\"#E5ECF6\",\"gridcolor\":\"white\",\"linecolor\":\"white\",\"showbackground\":true,\"ticks\":\"\",\"zerolinecolor\":\"white\",\"gridwidth\":2}},\"shapedefaults\":{\"line\":{\"color\":\"#2a3f5f\"}},\"annotationdefaults\":{\"arrowcolor\":\"#2a3f5f\",\"arrowhead\":0,\"arrowwidth\":1},\"geo\":{\"bgcolor\":\"white\",\"landcolor\":\"#E5ECF6\",\"subunitcolor\":\"white\",\"showland\":true,\"showlakes\":true,\"lakecolor\":\"white\"},\"title\":{\"x\":0.05},\"mapbox\":{\"style\":\"light\"}}},\"xaxis\":{\"tickangle\":-45},\"yaxis\":{\"tickfont\":{\"size\":14}},\"margin\":{\"l\":80,\"r\":80,\"t\":60,\"b\":100},\"title\":{\"text\":\"Correlations: Happiness vs Other Indicators\"},\"height\":500,\"paper_bgcolor\":\"#EDF1EC\",\"plot_bgcolor\":\"#EDF1EC\"},                        {\"responsive\": true}                    ).then(function(){\n",
       "                            \n",
       "var gd = document.getElementById('0a7f02be-43fc-4c4d-8d0c-6a771295f387');\n",
       "var x = new MutationObserver(function (mutations, observer) {{\n",
       "        var display = window.getComputedStyle(gd).display;\n",
       "        if (!display || display === 'none') {{\n",
       "            console.log([gd, 'removed!']);\n",
       "            Plotly.purge(gd);\n",
       "            observer.disconnect();\n",
       "        }}\n",
       "}});\n",
       "\n",
       "// Listen for the removal of the full notebook cells\n",
       "var notebookContainer = gd.closest('#notebook-container');\n",
       "if (notebookContainer) {{\n",
       "    x.observe(notebookContainer, {childList: true});\n",
       "}}\n",
       "\n",
       "// Listen for the clearing of the current output cell\n",
       "var outputEl = gd.closest('.output');\n",
       "if (outputEl) {{\n",
       "    x.observe(outputEl, {childList: true});\n",
       "}}\n",
       "\n",
       "                        })                };            </script>        </div>"
      ]
     },
     "metadata": {},
     "output_type": "display_data"
    }
   ],
   "source": [
    "import pandas as pd\n",
    "import numpy as np\n",
    "import plotly.graph_objects as go\n",
    "\n",
    "df = pd.read_csv('final.csv')\n",
    "others = [\n",
    "    'GDP_current_usd',\n",
    "    'GNI_current_usd',\n",
    "    'Gini_index',\n",
    "    'Life_expectancy',\n",
    "    'Unemployment_rate',\n",
    "    'Edu_expenditure_pct'\n",
    "]\n",
    "\n",
    "corr_with_hap = df[others].corrwith(df['Happiness'])\n",
    "corr_with_hap = corr_with_hap.reindex(\n",
    "    corr_with_hap.abs().sort_values(ascending=False).index\n",
    ")\n",
    "\n",
    "fig = go.Figure(go.Heatmap(\n",
    "    z=[corr_with_hap.values],\n",
    "    x=corr_with_hap.index,\n",
    "    y=['Happiness'],\n",
    "    zmin=-1, zmid=0, zmax=1,\n",
    "    colorscale='RdBu',\n",
    "    colorbar=dict(title='Pearson r'),\n",
    "    text=[[f\"{v:.2f}\" for v in corr_with_hap.values]],\n",
    "    texttemplate='%{text}',\n",
    "    textfont=dict(size=14),\n",
    "    hoverongaps=False\n",
    "))\n",
    "\n",
    "fig.update_layout(\n",
    "    title=\"Correlations: Happiness vs Other Indicators\",\n",
    "    xaxis_tickangle=-45,\n",
    "    yaxis=dict(tickfont=dict(size=14)),\n",
    "    height=500,\n",
    "    margin=dict(l=80, r=80, t=60, b=100),\n",
    "    paper_bgcolor='#EDF1EC',\n",
    "    plot_bgcolor='#EDF1EC'\n",
    ")\n",
    "\n",
    "fig.show()\n"
   ]
  },
  {
   "cell_type": "code",
   "execution_count": 7,
   "id": "cea1cc1f",
   "metadata": {
    "tags": [
     "remove-input"
    ]
   },
   "outputs": [
    {
     "data": {
      "application/vnd.plotly.v1+json": {
       "config": {
        "plotlyServerURL": "https://plot.ly"
       },
       "data": [
        {
         "base": [
          0
         ],
         "hovertemplate": "Life expectancy: 40.3%<extra></extra>",
         "marker": {
          "color": "#256caf"
         },
         "name": "Life expectancy",
         "orientation": "h",
         "type": "bar",
         "x": [
          40.31413612565446
         ],
         "y": [
          "Effect on Happiness (%)"
         ]
        },
        {
         "base": [
          40.31413612565446
         ],
         "hovertemplate": "Education expenditure: 16.8%<extra></extra>",
         "marker": {
          "color": "#abd2e5"
         },
         "name": "Education expenditure",
         "orientation": "h",
         "type": "bar",
         "x": [
          16.75392670157068
         ],
         "y": [
          "Effect on Happiness (%)"
         ]
        },
        {
         "base": [
          57.068062827225134
         ],
         "hovertemplate": "Unemployment rate: 13.1%<extra></extra>",
         "marker": {
          "color": "#fbceb6"
         },
         "name": "Unemployment rate",
         "orientation": "h",
         "type": "bar",
         "x": [
          13.089005235602095
         ],
         "y": [
          "Effect on Happiness (%)"
         ]
        },
        {
         "base": [
          70.15706806282722
         ],
         "hovertemplate": "Gini index: 11.5%<extra></extra>",
         "marker": {
          "color": "#fcd5bf"
         },
         "name": "Gini index",
         "orientation": "h",
         "type": "bar",
         "x": [
          11.518324607329845
         ],
         "y": [
          "Effect on Happiness (%)"
         ]
        },
        {
         "base": [
          81.67539267015707
         ],
         "hovertemplate": "GDP in current USD: 9.4%<extra></extra>",
         "marker": {
          "color": "#d6e7f1"
         },
         "name": "GDP in current USD",
         "orientation": "h",
         "type": "bar",
         "x": [
          9.424083769633508
         ],
         "y": [
          "Effect on Happiness (%)"
         ]
        },
        {
         "base": [
          91.09947643979058
         ],
         "hovertemplate": "GNI in current USD: 8.9%<extra></extra>",
         "marker": {
          "color": "#d6e7f1"
         },
         "name": "GNI in current USD",
         "orientation": "h",
         "type": "bar",
         "x": [
          8.900523560209425
         ],
         "y": [
          "Effect on Happiness (%)"
         ]
        }
       ],
       "layout": {
        "annotations": [
         {
          "font": {
           "size": 12
          },
          "showarrow": false,
          "text": "Socioeconomic 70.2%",
          "x": 35.07853403141361,
          "y": 0.6
         },
         {
          "font": {
           "size": 12
          },
          "showarrow": false,
          "text": "Economic 29.8%",
          "x": 85.07853403141361,
          "y": 0.6
         }
        ],
        "barmode": "stack",
        "height": 350,
        "legend": {
         "title": {
          "text": "Factors"
         }
        },
        "margin": {
         "b": 20,
         "l": 20,
         "r": 20,
         "t": 60
        },
        "paper_bgcolor": "#EDF1EC",
        "plot_bgcolor": "#EDF1EC",
        "shapes": [
         {
          "fillcolor": "rgba(0,0,0,0)",
          "line": {
           "color": "black",
           "width": 2
          },
          "type": "rect",
          "x0": 0,
          "x1": 70.15706806282722,
          "xref": "x",
          "y0": -0.5,
          "y1": 0.5,
          "yref": "y"
         },
         {
          "fillcolor": "rgba(0,0,0,0)",
          "line": {
           "color": "black",
           "width": 2
          },
          "type": "rect",
          "x0": 70.15706806282722,
          "x1": 100,
          "xref": "x",
          "y0": -0.5,
          "y1": 0.5,
          "yref": "y"
         }
        ],
        "showlegend": true,
        "template": {
         "data": {
          "bar": [
           {
            "error_x": {
             "color": "rgb(36,36,36)"
            },
            "error_y": {
             "color": "rgb(36,36,36)"
            },
            "marker": {
             "line": {
              "color": "white",
              "width": 0.5
             },
             "pattern": {
              "fillmode": "overlay",
              "size": 10,
              "solidity": 0.2
             }
            },
            "type": "bar"
           }
          ],
          "barpolar": [
           {
            "marker": {
             "line": {
              "color": "white",
              "width": 0.5
             },
             "pattern": {
              "fillmode": "overlay",
              "size": 10,
              "solidity": 0.2
             }
            },
            "type": "barpolar"
           }
          ],
          "carpet": [
           {
            "aaxis": {
             "endlinecolor": "rgb(36,36,36)",
             "gridcolor": "white",
             "linecolor": "white",
             "minorgridcolor": "white",
             "startlinecolor": "rgb(36,36,36)"
            },
            "baxis": {
             "endlinecolor": "rgb(36,36,36)",
             "gridcolor": "white",
             "linecolor": "white",
             "minorgridcolor": "white",
             "startlinecolor": "rgb(36,36,36)"
            },
            "type": "carpet"
           }
          ],
          "choropleth": [
           {
            "colorbar": {
             "outlinewidth": 1,
             "tickcolor": "rgb(36,36,36)",
             "ticks": "outside"
            },
            "type": "choropleth"
           }
          ],
          "contour": [
           {
            "colorbar": {
             "outlinewidth": 1,
             "tickcolor": "rgb(36,36,36)",
             "ticks": "outside"
            },
            "colorscale": [
             [
              0,
              "#440154"
             ],
             [
              0.1111111111111111,
              "#482878"
             ],
             [
              0.2222222222222222,
              "#3e4989"
             ],
             [
              0.3333333333333333,
              "#31688e"
             ],
             [
              0.4444444444444444,
              "#26828e"
             ],
             [
              0.5555555555555556,
              "#1f9e89"
             ],
             [
              0.6666666666666666,
              "#35b779"
             ],
             [
              0.7777777777777778,
              "#6ece58"
             ],
             [
              0.8888888888888888,
              "#b5de2b"
             ],
             [
              1,
              "#fde725"
             ]
            ],
            "type": "contour"
           }
          ],
          "contourcarpet": [
           {
            "colorbar": {
             "outlinewidth": 1,
             "tickcolor": "rgb(36,36,36)",
             "ticks": "outside"
            },
            "type": "contourcarpet"
           }
          ],
          "heatmap": [
           {
            "colorbar": {
             "outlinewidth": 1,
             "tickcolor": "rgb(36,36,36)",
             "ticks": "outside"
            },
            "colorscale": [
             [
              0,
              "#440154"
             ],
             [
              0.1111111111111111,
              "#482878"
             ],
             [
              0.2222222222222222,
              "#3e4989"
             ],
             [
              0.3333333333333333,
              "#31688e"
             ],
             [
              0.4444444444444444,
              "#26828e"
             ],
             [
              0.5555555555555556,
              "#1f9e89"
             ],
             [
              0.6666666666666666,
              "#35b779"
             ],
             [
              0.7777777777777778,
              "#6ece58"
             ],
             [
              0.8888888888888888,
              "#b5de2b"
             ],
             [
              1,
              "#fde725"
             ]
            ],
            "type": "heatmap"
           }
          ],
          "histogram": [
           {
            "marker": {
             "line": {
              "color": "white",
              "width": 0.6
             }
            },
            "type": "histogram"
           }
          ],
          "histogram2d": [
           {
            "colorbar": {
             "outlinewidth": 1,
             "tickcolor": "rgb(36,36,36)",
             "ticks": "outside"
            },
            "colorscale": [
             [
              0,
              "#440154"
             ],
             [
              0.1111111111111111,
              "#482878"
             ],
             [
              0.2222222222222222,
              "#3e4989"
             ],
             [
              0.3333333333333333,
              "#31688e"
             ],
             [
              0.4444444444444444,
              "#26828e"
             ],
             [
              0.5555555555555556,
              "#1f9e89"
             ],
             [
              0.6666666666666666,
              "#35b779"
             ],
             [
              0.7777777777777778,
              "#6ece58"
             ],
             [
              0.8888888888888888,
              "#b5de2b"
             ],
             [
              1,
              "#fde725"
             ]
            ],
            "type": "histogram2d"
           }
          ],
          "histogram2dcontour": [
           {
            "colorbar": {
             "outlinewidth": 1,
             "tickcolor": "rgb(36,36,36)",
             "ticks": "outside"
            },
            "colorscale": [
             [
              0,
              "#440154"
             ],
             [
              0.1111111111111111,
              "#482878"
             ],
             [
              0.2222222222222222,
              "#3e4989"
             ],
             [
              0.3333333333333333,
              "#31688e"
             ],
             [
              0.4444444444444444,
              "#26828e"
             ],
             [
              0.5555555555555556,
              "#1f9e89"
             ],
             [
              0.6666666666666666,
              "#35b779"
             ],
             [
              0.7777777777777778,
              "#6ece58"
             ],
             [
              0.8888888888888888,
              "#b5de2b"
             ],
             [
              1,
              "#fde725"
             ]
            ],
            "type": "histogram2dcontour"
           }
          ],
          "mesh3d": [
           {
            "colorbar": {
             "outlinewidth": 1,
             "tickcolor": "rgb(36,36,36)",
             "ticks": "outside"
            },
            "type": "mesh3d"
           }
          ],
          "parcoords": [
           {
            "line": {
             "colorbar": {
              "outlinewidth": 1,
              "tickcolor": "rgb(36,36,36)",
              "ticks": "outside"
             }
            },
            "type": "parcoords"
           }
          ],
          "pie": [
           {
            "automargin": true,
            "type": "pie"
           }
          ],
          "scatter": [
           {
            "fillpattern": {
             "fillmode": "overlay",
             "size": 10,
             "solidity": 0.2
            },
            "type": "scatter"
           }
          ],
          "scatter3d": [
           {
            "line": {
             "colorbar": {
              "outlinewidth": 1,
              "tickcolor": "rgb(36,36,36)",
              "ticks": "outside"
             }
            },
            "marker": {
             "colorbar": {
              "outlinewidth": 1,
              "tickcolor": "rgb(36,36,36)",
              "ticks": "outside"
             }
            },
            "type": "scatter3d"
           }
          ],
          "scattercarpet": [
           {
            "marker": {
             "colorbar": {
              "outlinewidth": 1,
              "tickcolor": "rgb(36,36,36)",
              "ticks": "outside"
             }
            },
            "type": "scattercarpet"
           }
          ],
          "scattergeo": [
           {
            "marker": {
             "colorbar": {
              "outlinewidth": 1,
              "tickcolor": "rgb(36,36,36)",
              "ticks": "outside"
             }
            },
            "type": "scattergeo"
           }
          ],
          "scattergl": [
           {
            "marker": {
             "colorbar": {
              "outlinewidth": 1,
              "tickcolor": "rgb(36,36,36)",
              "ticks": "outside"
             }
            },
            "type": "scattergl"
           }
          ],
          "scattermap": [
           {
            "marker": {
             "colorbar": {
              "outlinewidth": 1,
              "tickcolor": "rgb(36,36,36)",
              "ticks": "outside"
             }
            },
            "type": "scattermap"
           }
          ],
          "scattermapbox": [
           {
            "marker": {
             "colorbar": {
              "outlinewidth": 1,
              "tickcolor": "rgb(36,36,36)",
              "ticks": "outside"
             }
            },
            "type": "scattermapbox"
           }
          ],
          "scatterpolar": [
           {
            "marker": {
             "colorbar": {
              "outlinewidth": 1,
              "tickcolor": "rgb(36,36,36)",
              "ticks": "outside"
             }
            },
            "type": "scatterpolar"
           }
          ],
          "scatterpolargl": [
           {
            "marker": {
             "colorbar": {
              "outlinewidth": 1,
              "tickcolor": "rgb(36,36,36)",
              "ticks": "outside"
             }
            },
            "type": "scatterpolargl"
           }
          ],
          "scatterternary": [
           {
            "marker": {
             "colorbar": {
              "outlinewidth": 1,
              "tickcolor": "rgb(36,36,36)",
              "ticks": "outside"
             }
            },
            "type": "scatterternary"
           }
          ],
          "surface": [
           {
            "colorbar": {
             "outlinewidth": 1,
             "tickcolor": "rgb(36,36,36)",
             "ticks": "outside"
            },
            "colorscale": [
             [
              0,
              "#440154"
             ],
             [
              0.1111111111111111,
              "#482878"
             ],
             [
              0.2222222222222222,
              "#3e4989"
             ],
             [
              0.3333333333333333,
              "#31688e"
             ],
             [
              0.4444444444444444,
              "#26828e"
             ],
             [
              0.5555555555555556,
              "#1f9e89"
             ],
             [
              0.6666666666666666,
              "#35b779"
             ],
             [
              0.7777777777777778,
              "#6ece58"
             ],
             [
              0.8888888888888888,
              "#b5de2b"
             ],
             [
              1,
              "#fde725"
             ]
            ],
            "type": "surface"
           }
          ],
          "table": [
           {
            "cells": {
             "fill": {
              "color": "rgb(237,237,237)"
             },
             "line": {
              "color": "white"
             }
            },
            "header": {
             "fill": {
              "color": "rgb(217,217,217)"
             },
             "line": {
              "color": "white"
             }
            },
            "type": "table"
           }
          ]
         },
         "layout": {
          "annotationdefaults": {
           "arrowhead": 0,
           "arrowwidth": 1
          },
          "autotypenumbers": "strict",
          "coloraxis": {
           "colorbar": {
            "outlinewidth": 1,
            "tickcolor": "rgb(36,36,36)",
            "ticks": "outside"
           }
          },
          "colorscale": {
           "diverging": [
            [
             0,
             "rgb(103,0,31)"
            ],
            [
             0.1,
             "rgb(178,24,43)"
            ],
            [
             0.2,
             "rgb(214,96,77)"
            ],
            [
             0.3,
             "rgb(244,165,130)"
            ],
            [
             0.4,
             "rgb(253,219,199)"
            ],
            [
             0.5,
             "rgb(247,247,247)"
            ],
            [
             0.6,
             "rgb(209,229,240)"
            ],
            [
             0.7,
             "rgb(146,197,222)"
            ],
            [
             0.8,
             "rgb(67,147,195)"
            ],
            [
             0.9,
             "rgb(33,102,172)"
            ],
            [
             1,
             "rgb(5,48,97)"
            ]
           ],
           "sequential": [
            [
             0,
             "#440154"
            ],
            [
             0.1111111111111111,
             "#482878"
            ],
            [
             0.2222222222222222,
             "#3e4989"
            ],
            [
             0.3333333333333333,
             "#31688e"
            ],
            [
             0.4444444444444444,
             "#26828e"
            ],
            [
             0.5555555555555556,
             "#1f9e89"
            ],
            [
             0.6666666666666666,
             "#35b779"
            ],
            [
             0.7777777777777778,
             "#6ece58"
            ],
            [
             0.8888888888888888,
             "#b5de2b"
            ],
            [
             1,
             "#fde725"
            ]
           ],
           "sequentialminus": [
            [
             0,
             "#440154"
            ],
            [
             0.1111111111111111,
             "#482878"
            ],
            [
             0.2222222222222222,
             "#3e4989"
            ],
            [
             0.3333333333333333,
             "#31688e"
            ],
            [
             0.4444444444444444,
             "#26828e"
            ],
            [
             0.5555555555555556,
             "#1f9e89"
            ],
            [
             0.6666666666666666,
             "#35b779"
            ],
            [
             0.7777777777777778,
             "#6ece58"
            ],
            [
             0.8888888888888888,
             "#b5de2b"
            ],
            [
             1,
             "#fde725"
            ]
           ]
          },
          "colorway": [
           "#1F77B4",
           "#FF7F0E",
           "#2CA02C",
           "#D62728",
           "#9467BD",
           "#8C564B",
           "#E377C2",
           "#7F7F7F",
           "#BCBD22",
           "#17BECF"
          ],
          "font": {
           "color": "rgb(36,36,36)"
          },
          "geo": {
           "bgcolor": "white",
           "lakecolor": "white",
           "landcolor": "white",
           "showlakes": true,
           "showland": true,
           "subunitcolor": "white"
          },
          "hoverlabel": {
           "align": "left"
          },
          "hovermode": "closest",
          "mapbox": {
           "style": "light"
          },
          "paper_bgcolor": "white",
          "plot_bgcolor": "white",
          "polar": {
           "angularaxis": {
            "gridcolor": "rgb(232,232,232)",
            "linecolor": "rgb(36,36,36)",
            "showgrid": false,
            "showline": true,
            "ticks": "outside"
           },
           "bgcolor": "white",
           "radialaxis": {
            "gridcolor": "rgb(232,232,232)",
            "linecolor": "rgb(36,36,36)",
            "showgrid": false,
            "showline": true,
            "ticks": "outside"
           }
          },
          "scene": {
           "xaxis": {
            "backgroundcolor": "white",
            "gridcolor": "rgb(232,232,232)",
            "gridwidth": 2,
            "linecolor": "rgb(36,36,36)",
            "showbackground": true,
            "showgrid": false,
            "showline": true,
            "ticks": "outside",
            "zeroline": false,
            "zerolinecolor": "rgb(36,36,36)"
           },
           "yaxis": {
            "backgroundcolor": "white",
            "gridcolor": "rgb(232,232,232)",
            "gridwidth": 2,
            "linecolor": "rgb(36,36,36)",
            "showbackground": true,
            "showgrid": false,
            "showline": true,
            "ticks": "outside",
            "zeroline": false,
            "zerolinecolor": "rgb(36,36,36)"
           },
           "zaxis": {
            "backgroundcolor": "white",
            "gridcolor": "rgb(232,232,232)",
            "gridwidth": 2,
            "linecolor": "rgb(36,36,36)",
            "showbackground": true,
            "showgrid": false,
            "showline": true,
            "ticks": "outside",
            "zeroline": false,
            "zerolinecolor": "rgb(36,36,36)"
           }
          },
          "shapedefaults": {
           "fillcolor": "black",
           "line": {
            "width": 0
           },
           "opacity": 0.3
          },
          "ternary": {
           "aaxis": {
            "gridcolor": "rgb(232,232,232)",
            "linecolor": "rgb(36,36,36)",
            "showgrid": false,
            "showline": true,
            "ticks": "outside"
           },
           "baxis": {
            "gridcolor": "rgb(232,232,232)",
            "linecolor": "rgb(36,36,36)",
            "showgrid": false,
            "showline": true,
            "ticks": "outside"
           },
           "bgcolor": "white",
           "caxis": {
            "gridcolor": "rgb(232,232,232)",
            "linecolor": "rgb(36,36,36)",
            "showgrid": false,
            "showline": true,
            "ticks": "outside"
           }
          },
          "title": {
           "x": 0.05
          },
          "xaxis": {
           "automargin": true,
           "gridcolor": "rgb(232,232,232)",
           "linecolor": "rgb(36,36,36)",
           "showgrid": false,
           "showline": true,
           "ticks": "outside",
           "title": {
            "standoff": 15
           },
           "zeroline": false,
           "zerolinecolor": "rgb(36,36,36)"
          },
          "yaxis": {
           "automargin": true,
           "gridcolor": "rgb(232,232,232)",
           "linecolor": "rgb(36,36,36)",
           "showgrid": false,
           "showline": true,
           "ticks": "outside",
           "title": {
            "standoff": 15
           },
           "zeroline": false,
           "zerolinecolor": "rgb(36,36,36)"
          }
         }
        },
        "title": {
         "text": "Tug-of-War: Relative Effect % on Happiness"
        },
        "xaxis": {
         "title": {
          "text": "Percent of Total Effect"
         }
        }
       }
      },
      "text/html": [
       "<div>            <script src=\"https://cdnjs.cloudflare.com/ajax/libs/mathjax/2.7.5/MathJax.js?config=TeX-AMS-MML_SVG\"></script><script type=\"text/javascript\">if (window.MathJax && window.MathJax.Hub && window.MathJax.Hub.Config) {window.MathJax.Hub.Config({SVG: {font: \"STIX-Web\"}});}</script>                <script type=\"text/javascript\">window.PlotlyConfig = {MathJaxConfig: 'local'};</script>\n",
       "        <script charset=\"utf-8\" src=\"https://cdn.plot.ly/plotly-3.0.1.min.js\"></script>                <div id=\"734c3e64-81df-4dcc-88e2-bc7629829bd2\" class=\"plotly-graph-div\" style=\"height:350px; width:100%;\"></div>            <script type=\"text/javascript\">                window.PLOTLYENV=window.PLOTLYENV || {};                                if (document.getElementById(\"734c3e64-81df-4dcc-88e2-bc7629829bd2\")) {                    Plotly.newPlot(                        \"734c3e64-81df-4dcc-88e2-bc7629829bd2\",                        [{\"base\":[0],\"hovertemplate\":\"Life expectancy: 40.3%\\u003cextra\\u003e\\u003c\\u002fextra\\u003e\",\"marker\":{\"color\":\"#256caf\"},\"name\":\"Life expectancy\",\"orientation\":\"h\",\"x\":[40.31413612565446],\"y\":[\"Effect on Happiness (%)\"],\"type\":\"bar\"},{\"base\":[40.31413612565446],\"hovertemplate\":\"Education expenditure: 16.8%\\u003cextra\\u003e\\u003c\\u002fextra\\u003e\",\"marker\":{\"color\":\"#abd2e5\"},\"name\":\"Education expenditure\",\"orientation\":\"h\",\"x\":[16.75392670157068],\"y\":[\"Effect on Happiness (%)\"],\"type\":\"bar\"},{\"base\":[57.068062827225134],\"hovertemplate\":\"Unemployment rate: 13.1%\\u003cextra\\u003e\\u003c\\u002fextra\\u003e\",\"marker\":{\"color\":\"#fbceb6\"},\"name\":\"Unemployment rate\",\"orientation\":\"h\",\"x\":[13.089005235602095],\"y\":[\"Effect on Happiness (%)\"],\"type\":\"bar\"},{\"base\":[70.15706806282722],\"hovertemplate\":\"Gini index: 11.5%\\u003cextra\\u003e\\u003c\\u002fextra\\u003e\",\"marker\":{\"color\":\"#fcd5bf\"},\"name\":\"Gini index\",\"orientation\":\"h\",\"x\":[11.518324607329845],\"y\":[\"Effect on Happiness (%)\"],\"type\":\"bar\"},{\"base\":[81.67539267015707],\"hovertemplate\":\"GDP in current USD: 9.4%\\u003cextra\\u003e\\u003c\\u002fextra\\u003e\",\"marker\":{\"color\":\"#d6e7f1\"},\"name\":\"GDP in current USD\",\"orientation\":\"h\",\"x\":[9.424083769633508],\"y\":[\"Effect on Happiness (%)\"],\"type\":\"bar\"},{\"base\":[91.09947643979058],\"hovertemplate\":\"GNI in current USD: 8.9%\\u003cextra\\u003e\\u003c\\u002fextra\\u003e\",\"marker\":{\"color\":\"#d6e7f1\"},\"name\":\"GNI in current USD\",\"orientation\":\"h\",\"x\":[8.900523560209425],\"y\":[\"Effect on Happiness (%)\"],\"type\":\"bar\"}],                        {\"template\":{\"data\":{\"barpolar\":[{\"marker\":{\"line\":{\"color\":\"white\",\"width\":0.5},\"pattern\":{\"fillmode\":\"overlay\",\"size\":10,\"solidity\":0.2}},\"type\":\"barpolar\"}],\"bar\":[{\"error_x\":{\"color\":\"rgb(36,36,36)\"},\"error_y\":{\"color\":\"rgb(36,36,36)\"},\"marker\":{\"line\":{\"color\":\"white\",\"width\":0.5},\"pattern\":{\"fillmode\":\"overlay\",\"size\":10,\"solidity\":0.2}},\"type\":\"bar\"}],\"carpet\":[{\"aaxis\":{\"endlinecolor\":\"rgb(36,36,36)\",\"gridcolor\":\"white\",\"linecolor\":\"white\",\"minorgridcolor\":\"white\",\"startlinecolor\":\"rgb(36,36,36)\"},\"baxis\":{\"endlinecolor\":\"rgb(36,36,36)\",\"gridcolor\":\"white\",\"linecolor\":\"white\",\"minorgridcolor\":\"white\",\"startlinecolor\":\"rgb(36,36,36)\"},\"type\":\"carpet\"}],\"choropleth\":[{\"colorbar\":{\"outlinewidth\":1,\"tickcolor\":\"rgb(36,36,36)\",\"ticks\":\"outside\"},\"type\":\"choropleth\"}],\"contourcarpet\":[{\"colorbar\":{\"outlinewidth\":1,\"tickcolor\":\"rgb(36,36,36)\",\"ticks\":\"outside\"},\"type\":\"contourcarpet\"}],\"contour\":[{\"colorbar\":{\"outlinewidth\":1,\"tickcolor\":\"rgb(36,36,36)\",\"ticks\":\"outside\"},\"colorscale\":[[0.0,\"#440154\"],[0.1111111111111111,\"#482878\"],[0.2222222222222222,\"#3e4989\"],[0.3333333333333333,\"#31688e\"],[0.4444444444444444,\"#26828e\"],[0.5555555555555556,\"#1f9e89\"],[0.6666666666666666,\"#35b779\"],[0.7777777777777778,\"#6ece58\"],[0.8888888888888888,\"#b5de2b\"],[1.0,\"#fde725\"]],\"type\":\"contour\"}],\"heatmap\":[{\"colorbar\":{\"outlinewidth\":1,\"tickcolor\":\"rgb(36,36,36)\",\"ticks\":\"outside\"},\"colorscale\":[[0.0,\"#440154\"],[0.1111111111111111,\"#482878\"],[0.2222222222222222,\"#3e4989\"],[0.3333333333333333,\"#31688e\"],[0.4444444444444444,\"#26828e\"],[0.5555555555555556,\"#1f9e89\"],[0.6666666666666666,\"#35b779\"],[0.7777777777777778,\"#6ece58\"],[0.8888888888888888,\"#b5de2b\"],[1.0,\"#fde725\"]],\"type\":\"heatmap\"}],\"histogram2dcontour\":[{\"colorbar\":{\"outlinewidth\":1,\"tickcolor\":\"rgb(36,36,36)\",\"ticks\":\"outside\"},\"colorscale\":[[0.0,\"#440154\"],[0.1111111111111111,\"#482878\"],[0.2222222222222222,\"#3e4989\"],[0.3333333333333333,\"#31688e\"],[0.4444444444444444,\"#26828e\"],[0.5555555555555556,\"#1f9e89\"],[0.6666666666666666,\"#35b779\"],[0.7777777777777778,\"#6ece58\"],[0.8888888888888888,\"#b5de2b\"],[1.0,\"#fde725\"]],\"type\":\"histogram2dcontour\"}],\"histogram2d\":[{\"colorbar\":{\"outlinewidth\":1,\"tickcolor\":\"rgb(36,36,36)\",\"ticks\":\"outside\"},\"colorscale\":[[0.0,\"#440154\"],[0.1111111111111111,\"#482878\"],[0.2222222222222222,\"#3e4989\"],[0.3333333333333333,\"#31688e\"],[0.4444444444444444,\"#26828e\"],[0.5555555555555556,\"#1f9e89\"],[0.6666666666666666,\"#35b779\"],[0.7777777777777778,\"#6ece58\"],[0.8888888888888888,\"#b5de2b\"],[1.0,\"#fde725\"]],\"type\":\"histogram2d\"}],\"histogram\":[{\"marker\":{\"line\":{\"color\":\"white\",\"width\":0.6}},\"type\":\"histogram\"}],\"mesh3d\":[{\"colorbar\":{\"outlinewidth\":1,\"tickcolor\":\"rgb(36,36,36)\",\"ticks\":\"outside\"},\"type\":\"mesh3d\"}],\"parcoords\":[{\"line\":{\"colorbar\":{\"outlinewidth\":1,\"tickcolor\":\"rgb(36,36,36)\",\"ticks\":\"outside\"}},\"type\":\"parcoords\"}],\"pie\":[{\"automargin\":true,\"type\":\"pie\"}],\"scatter3d\":[{\"line\":{\"colorbar\":{\"outlinewidth\":1,\"tickcolor\":\"rgb(36,36,36)\",\"ticks\":\"outside\"}},\"marker\":{\"colorbar\":{\"outlinewidth\":1,\"tickcolor\":\"rgb(36,36,36)\",\"ticks\":\"outside\"}},\"type\":\"scatter3d\"}],\"scattercarpet\":[{\"marker\":{\"colorbar\":{\"outlinewidth\":1,\"tickcolor\":\"rgb(36,36,36)\",\"ticks\":\"outside\"}},\"type\":\"scattercarpet\"}],\"scattergeo\":[{\"marker\":{\"colorbar\":{\"outlinewidth\":1,\"tickcolor\":\"rgb(36,36,36)\",\"ticks\":\"outside\"}},\"type\":\"scattergeo\"}],\"scattergl\":[{\"marker\":{\"colorbar\":{\"outlinewidth\":1,\"tickcolor\":\"rgb(36,36,36)\",\"ticks\":\"outside\"}},\"type\":\"scattergl\"}],\"scattermapbox\":[{\"marker\":{\"colorbar\":{\"outlinewidth\":1,\"tickcolor\":\"rgb(36,36,36)\",\"ticks\":\"outside\"}},\"type\":\"scattermapbox\"}],\"scattermap\":[{\"marker\":{\"colorbar\":{\"outlinewidth\":1,\"tickcolor\":\"rgb(36,36,36)\",\"ticks\":\"outside\"}},\"type\":\"scattermap\"}],\"scatterpolargl\":[{\"marker\":{\"colorbar\":{\"outlinewidth\":1,\"tickcolor\":\"rgb(36,36,36)\",\"ticks\":\"outside\"}},\"type\":\"scatterpolargl\"}],\"scatterpolar\":[{\"marker\":{\"colorbar\":{\"outlinewidth\":1,\"tickcolor\":\"rgb(36,36,36)\",\"ticks\":\"outside\"}},\"type\":\"scatterpolar\"}],\"scatter\":[{\"fillpattern\":{\"fillmode\":\"overlay\",\"size\":10,\"solidity\":0.2},\"type\":\"scatter\"}],\"scatterternary\":[{\"marker\":{\"colorbar\":{\"outlinewidth\":1,\"tickcolor\":\"rgb(36,36,36)\",\"ticks\":\"outside\"}},\"type\":\"scatterternary\"}],\"surface\":[{\"colorbar\":{\"outlinewidth\":1,\"tickcolor\":\"rgb(36,36,36)\",\"ticks\":\"outside\"},\"colorscale\":[[0.0,\"#440154\"],[0.1111111111111111,\"#482878\"],[0.2222222222222222,\"#3e4989\"],[0.3333333333333333,\"#31688e\"],[0.4444444444444444,\"#26828e\"],[0.5555555555555556,\"#1f9e89\"],[0.6666666666666666,\"#35b779\"],[0.7777777777777778,\"#6ece58\"],[0.8888888888888888,\"#b5de2b\"],[1.0,\"#fde725\"]],\"type\":\"surface\"}],\"table\":[{\"cells\":{\"fill\":{\"color\":\"rgb(237,237,237)\"},\"line\":{\"color\":\"white\"}},\"header\":{\"fill\":{\"color\":\"rgb(217,217,217)\"},\"line\":{\"color\":\"white\"}},\"type\":\"table\"}]},\"layout\":{\"annotationdefaults\":{\"arrowhead\":0,\"arrowwidth\":1},\"autotypenumbers\":\"strict\",\"coloraxis\":{\"colorbar\":{\"outlinewidth\":1,\"tickcolor\":\"rgb(36,36,36)\",\"ticks\":\"outside\"}},\"colorscale\":{\"diverging\":[[0.0,\"rgb(103,0,31)\"],[0.1,\"rgb(178,24,43)\"],[0.2,\"rgb(214,96,77)\"],[0.3,\"rgb(244,165,130)\"],[0.4,\"rgb(253,219,199)\"],[0.5,\"rgb(247,247,247)\"],[0.6,\"rgb(209,229,240)\"],[0.7,\"rgb(146,197,222)\"],[0.8,\"rgb(67,147,195)\"],[0.9,\"rgb(33,102,172)\"],[1.0,\"rgb(5,48,97)\"]],\"sequential\":[[0.0,\"#440154\"],[0.1111111111111111,\"#482878\"],[0.2222222222222222,\"#3e4989\"],[0.3333333333333333,\"#31688e\"],[0.4444444444444444,\"#26828e\"],[0.5555555555555556,\"#1f9e89\"],[0.6666666666666666,\"#35b779\"],[0.7777777777777778,\"#6ece58\"],[0.8888888888888888,\"#b5de2b\"],[1.0,\"#fde725\"]],\"sequentialminus\":[[0.0,\"#440154\"],[0.1111111111111111,\"#482878\"],[0.2222222222222222,\"#3e4989\"],[0.3333333333333333,\"#31688e\"],[0.4444444444444444,\"#26828e\"],[0.5555555555555556,\"#1f9e89\"],[0.6666666666666666,\"#35b779\"],[0.7777777777777778,\"#6ece58\"],[0.8888888888888888,\"#b5de2b\"],[1.0,\"#fde725\"]]},\"colorway\":[\"#1F77B4\",\"#FF7F0E\",\"#2CA02C\",\"#D62728\",\"#9467BD\",\"#8C564B\",\"#E377C2\",\"#7F7F7F\",\"#BCBD22\",\"#17BECF\"],\"font\":{\"color\":\"rgb(36,36,36)\"},\"geo\":{\"bgcolor\":\"white\",\"lakecolor\":\"white\",\"landcolor\":\"white\",\"showlakes\":true,\"showland\":true,\"subunitcolor\":\"white\"},\"hoverlabel\":{\"align\":\"left\"},\"hovermode\":\"closest\",\"mapbox\":{\"style\":\"light\"},\"paper_bgcolor\":\"white\",\"plot_bgcolor\":\"white\",\"polar\":{\"angularaxis\":{\"gridcolor\":\"rgb(232,232,232)\",\"linecolor\":\"rgb(36,36,36)\",\"showgrid\":false,\"showline\":true,\"ticks\":\"outside\"},\"bgcolor\":\"white\",\"radialaxis\":{\"gridcolor\":\"rgb(232,232,232)\",\"linecolor\":\"rgb(36,36,36)\",\"showgrid\":false,\"showline\":true,\"ticks\":\"outside\"}},\"scene\":{\"xaxis\":{\"backgroundcolor\":\"white\",\"gridcolor\":\"rgb(232,232,232)\",\"gridwidth\":2,\"linecolor\":\"rgb(36,36,36)\",\"showbackground\":true,\"showgrid\":false,\"showline\":true,\"ticks\":\"outside\",\"zeroline\":false,\"zerolinecolor\":\"rgb(36,36,36)\"},\"yaxis\":{\"backgroundcolor\":\"white\",\"gridcolor\":\"rgb(232,232,232)\",\"gridwidth\":2,\"linecolor\":\"rgb(36,36,36)\",\"showbackground\":true,\"showgrid\":false,\"showline\":true,\"ticks\":\"outside\",\"zeroline\":false,\"zerolinecolor\":\"rgb(36,36,36)\"},\"zaxis\":{\"backgroundcolor\":\"white\",\"gridcolor\":\"rgb(232,232,232)\",\"gridwidth\":2,\"linecolor\":\"rgb(36,36,36)\",\"showbackground\":true,\"showgrid\":false,\"showline\":true,\"ticks\":\"outside\",\"zeroline\":false,\"zerolinecolor\":\"rgb(36,36,36)\"}},\"shapedefaults\":{\"fillcolor\":\"black\",\"line\":{\"width\":0},\"opacity\":0.3},\"ternary\":{\"aaxis\":{\"gridcolor\":\"rgb(232,232,232)\",\"linecolor\":\"rgb(36,36,36)\",\"showgrid\":false,\"showline\":true,\"ticks\":\"outside\"},\"baxis\":{\"gridcolor\":\"rgb(232,232,232)\",\"linecolor\":\"rgb(36,36,36)\",\"showgrid\":false,\"showline\":true,\"ticks\":\"outside\"},\"bgcolor\":\"white\",\"caxis\":{\"gridcolor\":\"rgb(232,232,232)\",\"linecolor\":\"rgb(36,36,36)\",\"showgrid\":false,\"showline\":true,\"ticks\":\"outside\"}},\"title\":{\"x\":0.05},\"xaxis\":{\"automargin\":true,\"gridcolor\":\"rgb(232,232,232)\",\"linecolor\":\"rgb(36,36,36)\",\"showgrid\":false,\"showline\":true,\"ticks\":\"outside\",\"title\":{\"standoff\":15},\"zeroline\":false,\"zerolinecolor\":\"rgb(36,36,36)\"},\"yaxis\":{\"automargin\":true,\"gridcolor\":\"rgb(232,232,232)\",\"linecolor\":\"rgb(36,36,36)\",\"showgrid\":false,\"showline\":true,\"ticks\":\"outside\",\"title\":{\"standoff\":15},\"zeroline\":false,\"zerolinecolor\":\"rgb(36,36,36)\"}}},\"shapes\":[{\"fillcolor\":\"rgba(0,0,0,0)\",\"line\":{\"color\":\"black\",\"width\":2},\"type\":\"rect\",\"x0\":0,\"x1\":70.15706806282722,\"xref\":\"x\",\"y0\":-0.5,\"y1\":0.5,\"yref\":\"y\"},{\"fillcolor\":\"rgba(0,0,0,0)\",\"line\":{\"color\":\"black\",\"width\":2},\"type\":\"rect\",\"x0\":70.15706806282722,\"x1\":100.0,\"xref\":\"x\",\"y0\":-0.5,\"y1\":0.5,\"yref\":\"y\"}],\"annotations\":[{\"font\":{\"size\":12},\"showarrow\":false,\"text\":\"Socioeconomic 70.2%\",\"x\":35.07853403141361,\"y\":0.6},{\"font\":{\"size\":12},\"showarrow\":false,\"text\":\"Economic 29.8%\",\"x\":85.07853403141361,\"y\":0.6}],\"margin\":{\"l\":20,\"r\":20,\"t\":60,\"b\":20},\"barmode\":\"stack\",\"title\":{\"text\":\"Tug-of-War: Relative Effect % on Happiness\"},\"xaxis\":{\"title\":{\"text\":\"Percent of Total Effect\"}},\"showlegend\":true,\"legend\":{\"title\":{\"text\":\"Factors\"}},\"height\":350,\"paper_bgcolor\":\"#EDF1EC\",\"plot_bgcolor\":\"#EDF1EC\"},                        {\"responsive\": true}                    ).then(function(){\n",
       "                            \n",
       "var gd = document.getElementById('734c3e64-81df-4dcc-88e2-bc7629829bd2');\n",
       "var x = new MutationObserver(function (mutations, observer) {{\n",
       "        var display = window.getComputedStyle(gd).display;\n",
       "        if (!display || display === 'none') {{\n",
       "            console.log([gd, 'removed!']);\n",
       "            Plotly.purge(gd);\n",
       "            observer.disconnect();\n",
       "        }}\n",
       "}});\n",
       "\n",
       "// Listen for the removal of the full notebook cells\n",
       "var notebookContainer = gd.closest('#notebook-container');\n",
       "if (notebookContainer) {{\n",
       "    x.observe(notebookContainer, {childList: true});\n",
       "}}\n",
       "\n",
       "// Listen for the clearing of the current output cell\n",
       "var outputEl = gd.closest('.output');\n",
       "if (outputEl) {{\n",
       "    x.observe(outputEl, {childList: true});\n",
       "}}\n",
       "\n",
       "                        })                };            </script>        </div>"
      ]
     },
     "metadata": {},
     "output_type": "display_data"
    }
   ],
   "source": [
    "import plotly.graph_objects as go\n",
    "\n",
    "factors = [\n",
    "    'Life expectancy',\n",
    "    'Education expenditure',\n",
    "    'Unemployment rate',\n",
    "    'Gini index',\n",
    "    'GDP in current USD',\n",
    "    'GNI in current USD'\n",
    "]\n",
    "correlations = [0.77, 0.32, -0.25, -0.22, 0.18, 0.17]\n",
    "\n",
    "abs_vals = [abs(r) for r in correlations]\n",
    "total = sum(abs_vals)\n",
    "percentages = [v / total * 100 for v in abs_vals]\n",
    "\n",
    "bases = [0]\n",
    "for pct in percentages[:-1]:\n",
    "    bases.append(bases[-1] + pct)\n",
    "\n",
    "colors = [\n",
    "    '#256caf',\n",
    "    '#abd2e5',\n",
    "    '#fbceb6',\n",
    "    '#fcd5bf',\n",
    "    '#d6e7f1',\n",
    "    '#d6e7f1'\n",
    "]\n",
    "\n",
    "fig = go.Figure()\n",
    "\n",
    "for factor, pct, base, color in zip(factors, percentages, bases, colors):\n",
    "    fig.add_trace(go.Bar(\n",
    "        x=[pct],\n",
    "        y=['Effect on Happiness (%)'],\n",
    "        name=factor,\n",
    "        orientation='h',\n",
    "        marker_color=color,\n",
    "        base=[base],\n",
    "        hovertemplate=f'{factor}: {pct:.1f}%<extra></extra>'\n",
    "    ))\n",
    "\n",
    "socio_end = bases[3]\n",
    "econ_start = socio_end\n",
    "econ_end = bases[-1] + percentages[-1]\n",
    "\n",
    "fig.add_shape(type=\"rect\",\n",
    "    x0=0, x1=socio_end,\n",
    "    y0=-0.5, y1=0.5,\n",
    "    xref='x', yref='y',\n",
    "    line=dict(color='black', width=2),\n",
    "    fillcolor='rgba(0,0,0,0)'\n",
    ")\n",
    "fig.add_shape(type=\"rect\",\n",
    "    x0=econ_start, x1=econ_end,\n",
    "    y0=-0.5, y1=0.5,\n",
    "    xref='x', yref='y',\n",
    "    line=dict(color='black', width=2),\n",
    "    fillcolor='rgba(0,0,0,0)'\n",
    ")\n",
    "\n",
    "fig.add_annotation(\n",
    "    x=socio_end / 2,\n",
    "    y=0.6,\n",
    "    text=\"Socioeconomic 70.2%\",\n",
    "    showarrow=False,\n",
    "    font=dict(size=12)\n",
    ")\n",
    "fig.add_annotation(\n",
    "    x=(econ_start + econ_end) / 2,\n",
    "    y=0.6,\n",
    "    text=\"Economic 29.8%\",\n",
    "    showarrow=False,\n",
    "    font=dict(size=12)\n",
    ")\n",
    "\n",
    "fig.update_layout(\n",
    "    barmode='stack',\n",
    "    title=\"Tug-of-War: Relative Effect % on Happiness\",\n",
    "    xaxis_title=\"Percent of Total Effect\",\n",
    "    template=\"simple_white\",\n",
    "    showlegend=True,\n",
    "    legend_title=\"Factors\",\n",
    "    height=350,\n",
    "    margin=dict(l=20, r=20, t=60, b=20),\n",
    "    paper_bgcolor='#EDF1EC',\n",
    "    plot_bgcolor='#EDF1EC'\n",
    ")\n",
    "\n",
    "fig.show()\n"
   ]
  },
  {
   "cell_type": "code",
   "execution_count": null,
   "id": "3d5c9d40",
   "metadata": {},
   "outputs": [],
   "source": []
  }
 ],
 "metadata": {
  "kernelspec": {
   "display_name": "jupyterbook",
   "language": "python",
   "name": "python3"
  },
  "language_info": {
   "codemirror_mode": {
    "name": "ipython",
    "version": 3
   },
   "file_extension": ".py",
   "mimetype": "text/x-python",
   "name": "python",
   "nbconvert_exporter": "python",
   "pygments_lexer": "ipython3",
   "version": "3.10.16"
  }
 },
 "nbformat": 4,
 "nbformat_minor": 5
}
