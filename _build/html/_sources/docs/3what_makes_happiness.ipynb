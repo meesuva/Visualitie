{
 "cells": [
  {
   "cell_type": "markdown",
   "id": "f45842d4",
   "metadata": {},
   "source": [
    "# What makes Happiness?"
   ]
  },
  {
   "cell_type": "markdown",
   "id": "f70591b2",
   "metadata": {},
   "source": [
    "Hallo"
   ]
  },
  {
   "cell_type": "code",
   "execution_count": null,
   "id": "792aab53",
   "metadata": {},
   "outputs": [
    {
     "name": "stdout",
     "output_type": "stream",
     "text": [
      "DP YN BBS MH\n",
      "DP YN BBS MH\n",
      "DP YN BBS MH\n",
      "DP YN BBS MH\n",
      "DP YN BBS MH\n",
      "DP YN BBS MH\n",
      "DP YN BBS MH\n",
      "DP YN BBS MH\n",
      "DP YN BBS MH\n",
      "DP YN BBS MH\n"
     ]
    }
   ],
   "source": [
    "for i in range(10):\n",
    "    print(\"DP YN BBS MH\")"
   ]
  },
  {
   "cell_type": "code",
   "execution_count": null,
   "id": "768fe1cc",
   "metadata": {},
   "outputs": [],
   "source": []
  }
 ],
 "metadata": {
  "kernelspec": {
   "display_name": "Python 3",
   "language": "python",
   "name": "python3"
  },
  "language_info": {
   "codemirror_mode": {
    "name": "ipython",
    "version": 3
   },
   "file_extension": ".py",
   "mimetype": "text/x-python",
   "name": "python",
   "nbconvert_exporter": "python",
   "pygments_lexer": "ipython3",
   "version": "3.11.13"
  }
 },
 "nbformat": 4,
 "nbformat_minor": 5
}
