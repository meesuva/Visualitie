{
 "cells": [
  {
   "cell_type": "markdown",
   "id": "f45842d4",
   "metadata": {},
   "source": [
    "# What makes Happiness?"
   ]
  },
  {
   "cell_type": "markdown",
   "id": "f70591b2",
   "metadata": {},
   "source": [
    "For a long time, people have been interested in what makes us happy and how we can improve well-being in society. One big question is whether having more money or wealth actually makes people happier, or if there are other things that matter more. We often hear the saying “money can’t buy happiness,” but the real answer is a bit more complicated than that.\n",
    "\n",
    "In this data story, we will explore how happiness relates to different economic and social factors using information from the World Happiness Report 2019 and World Development Indicators. This report looks at how happy people are in different countries and compares that with demographic variables like GDP per capita, Gross National Income (GNI), the gini index, unemployment rates, education levels, and life expectancy.\n",
    "\n",
    "We want to find out if richer countries really have happier people, and if so, how strong this connection is. But we will also look beyond money to see how things like having a job, going to school, and living a long, healthy life affect happiness. For example, being unemployed might make people less happy even if their country is wealthy, and having a good education could improve well-being in ways that money alone can’t.\n",
    "\n",
    "First, we will compare happiness scores with income indicators like GDP per capita and GNI. Then, we will analyze how unemployment rates relate to happiness. After that, we will look at the gini index, education and life expectancy to see how these factors could affect happiness scores across countries.\n",
    "\n",
    "By comparing these different aspects, we hope to better understand what really contributes to happiness around the world. This will help us see whether the saying “money buys happiness” really holds. And if it doesn’t hold, we could find out what does make happiness.\n"
   ]
  },
  {
   "cell_type": "markdown",
   "id": "623446df",
   "metadata": {},
   "source": [
    "**Money does buy happiness**\n",
    "\n",
    "It is often proposed that greater national wealth leads to higher levels of happiness among citizens. To see wether they are correlated, we analysed how average happiness scores relate to three key economic indicators: Gross Domestic Product (GDP), Gross National Income (GNI), and the Gini Index (Income inequality).\n",
    "\n",
    "\n",
    "\n",
    "The trendlines suggest that countries with higher GDP and GNI often report higher happiness levels. This supports the general belief that wealth leads to happiness due to the fact that wealth increases access to basic needs, and social stability, factors that are positively associated with well-being and happiness. However, the relationship is not linear, and several wealthy countries show only moderate happiness scores, this suggests other factors are still extremely relevant and happiness cannot be predicted by looking at wealth alone. Correlation does not imply causation, and the observed pattern may be influenced by unmeasured factors.\n",
    "\n",
    "The third plot, Happiness vs Gini Index, presents a different insight. Within this dataset, a negative correlation is visible, with happiness tending to decline as income inequality (measured by the Gini Index) increases. . In other words, even among wealthier nations, greater inequality is associated with lower average happiness. This aligns with findings by researchers such as Oishi et al., (2011), who in their research found that americans reported being happier on average in years where the national income inequality was less. This suggests income inequality might be a factor which has impact on the happiness . However income inequality may be acting as a substitute for how people perceive the fairness in society and the level of social mobility people have. Happiness is also a subjective measurement, and cultural differences in how inequality is perceived can vary widely, potentially affecting how people respond in surveys.\n",
    "\n",
    "The plots suggest that while wealth does matter, its distribution may be even more of a factor. Factors such as income equality are likely important to how people will respond to questions about their happiness. "
   ]
  },
  {
   "cell_type": "code",
   "execution_count": 1,
   "id": "4d5f346a",
   "metadata": {
    "tags": [
     "remove-input"
    ]
   },
   "outputs": [
    {
     "data": {
      "text/html": [
       "        <script type=\"text/javascript\">\n",
       "        window.PlotlyConfig = {MathJaxConfig: 'local'};\n",
       "        if (window.MathJax && window.MathJax.Hub && window.MathJax.Hub.Config) {window.MathJax.Hub.Config({SVG: {font: \"STIX-Web\"}});}\n",
       "        </script>\n",
       "        <script type=\"module\">import \"https://cdn.plot.ly/plotly-3.0.1.min\"</script>\n",
       "        "
      ]
     },
     "metadata": {},
     "output_type": "display_data"
    },
    {
     "data": {
      "application/vnd.plotly.v1+json": {
       "config": {
        "linkText": "Export to plot.ly",
        "plotlyServerURL": "https://plot.ly",
        "showLink": false
       },
       "data": [
        {
         "customdata": {
          "bdata": "AQACAAMABQAGAAcACQAKAAwADQAOAA8AEAARABIAEwAVABcAHAAdAB4AHwAhACIAJAAmACcAKAAqACsALAAtAC4AMAAxADIANQA2ADcAOAA5ADoAOwA8AD8AQABCAEQARQBIAEkASwBSAFMAVgBdAGQAZgBoAGkAbwByAHQAfQCAAA==",
          "dtype": "i2"
         },
         "hovertemplate": "Country: %{text}<br>Rank: %{customdata} out of 133<br>Gini Index: %{x:.1f}<br>Happiness: %{y:.2f}<extra></extra>",
         "mode": "markers",
         "name": "Gini Index",
         "text": [
          "Finland",
          "Denmark",
          "Norway",
          "Netherlands",
          "Switzerland",
          "Sweden",
          "Canada",
          "Austria",
          "Costa Rica",
          "Israel",
          "Luxembourg",
          "United Kingdom",
          "Ireland",
          "Germany",
          "Belgium",
          "United States",
          "Malta",
          "France",
          "Spain",
          "Panama",
          "Brazil",
          "Uruguay",
          "El Salvador",
          "Italy",
          "Poland",
          "Lithuania",
          "Colombia",
          "Slovenia",
          "Kosovo",
          "Argentina",
          "Romania",
          "Cyprus",
          "Ecuador",
          "Thailand",
          "Latvia",
          "Estonia",
          "Japan",
          "Honduras",
          "Kazakhstan",
          "Bolivia",
          "Hungary",
          "Paraguay",
          "Peru",
          "Portugal",
          "Serbia",
          "Moldova",
          "Montenegro",
          "Croatia",
          "Dominican Republic",
          "Belarus",
          "Greece",
          "North Macedonia",
          "Indonesia",
          "China",
          "Bulgaria",
          "Albania",
          "Armenia",
          "Georgia",
          "Mauritania",
          "Mozambique",
          "Sri Lanka",
          "Ukraine",
          "Uganda",
          "Zimbabwe",
          "Malawi"
         ],
         "type": "scatter",
         "visible": true,
         "x": {
          "bdata": "MzMzMzOzO0AzMzMzM7M7QDMzMzMzsztAMzMzMzMzPUAAAAAAAABBQM3MzMzMTD1AMzMzMzOzP0AzMzMzMzM+QJqZmZmZGUhAZmZmZmYmQ0CamZmZmRlBQGZmZmZmZkBAzczMzMxMPkDNzMzMzMw/QDMzMzMzMztAMzMzMzPzREAAAAAAAAA/QDMzMzMzMz9AZmZmZmYmQUBmZmZmZuZIQAAAAAAAwEpAmpmZmZnZQ0BmZmZmZmZDQM3MzMzMTEFAzczMzMzMPEBmZmZmZqZBQGZmZmZmpklAZmZmZmZmOECamZmZmRlEQGZmZmZmpkVAZmZmZmZmQUAzMzMzMzM/QJqZmZmZ2UZAMzMzMzNzQUAAAAAAAEBBQM3MzMzMzD5AAAAAAACAQECamZmZmRlIQAAAAAAAADxAzczMzMzMREAAAAAAAAA+QJqZmZmZ2UZAAAAAAADAREBmZmZmZmZAQAAAAAAAQEFAAAAAAAAAOkCamZmZmdlBQGZmZmZm5jxAMzMzMzPzREDNzMzMzEw5QM3MzMzMjEBAAAAAAADAQEAzMzMzM7NBQJqZmZmZGUNAZmZmZmYmRECamZmZmRk+QAAAAAAAAD5AMzMzMzPzQUAAAAAAAABAQGZmZmZmJklAmpmZmZnZQkCamZmZmZk6QJqZmZmZWUVAZmZmZmYmSUAAAAAAAEBDQA==",
          "dtype": "f8"
         },
         "y": {
          "bdata": "+n5qvHQTH0BmZmZmZmYeQJ7vp8ZLNx5AwcqhRbbzHUDsUbgehesdQKwcWmQ7Xx1A6SYxCKwcHUCWQ4ts5/scQF66SQwCqxxAdZMYBFaOHEBcj8L1KFwcQJ7vp8ZLNxxAL90kBoEVHEBxPQrXo/AbQP7UeOkmsRtAxSCwcmiRG0CBlUOLbOcaQJHtfD81XhpA0SLb+X5qGUBiEFg5tEgZQDMzMzMzMxlAeekmMQgsGUBQjZduEgMZQDEIrBxa5BhA7nw/NV66GEB/arx0k5gYQAAAAAAAgBhARrbz/dR4GEBmZmZmZmYYQPLSTWIQWBhASOF6FK5HGEDJdr6fGi8YQOkmMQisHBhA1XjpJjEIGEDD9Shcj8IXQN9PjZdukhdAJQaBlUOLF0BxPQrXo3AXQCPb+X5qPBdABFYOLbIdF0DVeOkmMQgXQEa28/3U+BZAfT81XrrJFkASg8DKocUWQLbz/dR4aRZABFYOLbIdFkBkO99PjRcWQO58PzVeuhVAMzMzMzOzFUCYbhKDwEoVQNnO91PjJRVAf2q8dJMYFUD4U+Olm8QUQN0kBoGVwxRAJQaBlUMLFEDHSzeJQeASQCPb+X5qPBJA+n5qvHQTEkD2KFyPwvURQHe+nxov3RFAEFg5tMh2EUCHFtnO91MRQKjGSzeJwRBA5/up8dJNDUBI4XoUrkcLQA==",
          "dtype": "f8"
         }
        },
        {
         "customdata": {
          "bdata": "AQACAAMABAAFAAYABwAIAAkACgALAAwADQAOAA8AEAARABIAEwAUABUAFgAXABgAGQAaABsAHAAdAB4AHwAgACEAIgAjACQAJQAmACcAKAApACoAKwAsAC0ALgAvADAAMQAyADMANAA1ADYANwA4ADkAOgA7ADwAPQA+AD8AQABBAEIAQwBEAEUARgBHAEgASQBKAEsATABNAE4ATwBPAFEAUgBTAFQAVQBWAFcAWABZAFoAWwBcAF0AXgBfAGAAYQBiAGMAZABlAGYAZwBoAGkAagBrAGwAbQBuAG8AcABxAHIAcwB0AHUAdgB3AHgAeQB6AHsAfAB9AH4AfwCAAIEAggCDAIQA",
          "dtype": "i2"
         },
         "hovertemplate": "Country: %{text}<br>Rank: %{customdata} out of 133<br>GDP per Capita: $%{x:,.0f}<br>Happiness: %{y:.2f}<extra></extra>",
         "mode": "markers",
         "name": "GDP per Capita",
         "text": [
          "Finland",
          "Denmark",
          "Norway",
          "Iceland",
          "Netherlands",
          "Switzerland",
          "Sweden",
          "New Zealand",
          "Canada",
          "Austria",
          "Australia",
          "Costa Rica",
          "Israel",
          "Luxembourg",
          "United Kingdom",
          "Ireland",
          "Germany",
          "Belgium",
          "United States",
          "United Arab Emirates",
          "Malta",
          "Mexico",
          "France",
          "Chile",
          "Guatemala",
          "Saudi Arabia",
          "Qatar",
          "Spain",
          "Panama",
          "Brazil",
          "Uruguay",
          "Singapore",
          "El Salvador",
          "Italy",
          "Bahrain",
          "Poland",
          "Uzbekistan",
          "Lithuania",
          "Colombia",
          "Slovenia",
          "Nicaragua",
          "Kosovo",
          "Argentina",
          "Romania",
          "Cyprus",
          "Ecuador",
          "Kuwait",
          "Thailand",
          "Latvia",
          "Estonia",
          "Jamaica",
          "Mauritius",
          "Japan",
          "Honduras",
          "Kazakhstan",
          "Bolivia",
          "Hungary",
          "Paraguay",
          "Peru",
          "Portugal",
          "Pakistan",
          "Philippines",
          "Serbia",
          "Moldova",
          "Libya",
          "Montenegro",
          "Tajikistan",
          "Croatia",
          "Dominican Republic",
          "Bosnia and Herzegovina",
          "Malaysia",
          "Belarus",
          "Greece",
          "Mongolia",
          "North Macedonia",
          "Nigeria",
          "Turkmenistan",
          "Algeria",
          "Morocco",
          "Azerbaijan",
          "Lebanon",
          "Indonesia",
          "China",
          "Bhutan",
          "Cameroon",
          "Bulgaria",
          "Ghana",
          "Nepal",
          "Jordan",
          "Benin",
          "Gabon",
          "South Africa",
          "Albania",
          "Cambodia",
          "Senegal",
          "Somalia",
          "Namibia",
          "Niger",
          "Burkina Faso",
          "Armenia",
          "Guinea",
          "Georgia",
          "Kenya",
          "Mauritania",
          "Mozambique",
          "Tunisia",
          "Bangladesh",
          "Iraq",
          "Mali",
          "Sierra Leone",
          "Sri Lanka",
          "Myanmar",
          "Chad",
          "Ukraine",
          "Ethiopia",
          "Uganda",
          "Zambia",
          "Togo",
          "India",
          "Liberia",
          "Comoros",
          "Madagascar",
          "Lesotho",
          "Burundi",
          "Zimbabwe",
          "Haiti",
          "Botswana",
          "Malawi",
          "Rwanda",
          "Tanzania",
          "Afghanistan",
          "Central African Republic"
         ],
         "type": "scatter",
         "visible": false,
         "x": {
          "bdata": "nLSEaqkVT0JcJ/0N4hpUQtNFkzK+yldCSS6Fqn38FkICD7Hg3QhrQivXEmSe/mRCKXxVwPD5XkIxuJEIVcdIQlKIK+zhX3lC4/VAffjIWUI9KmzzTER0QoG18kov/y1Cvndb00NDV0KOlWt6zEUwQnter+Mov4RCrj8A9KGyV0Jxfe3X38qMQkxftYTYPV9CAIC/+SqXs0Ken6E/iFRYQvs61o93bg5C9uyilyz6ckIUHkUfmc+DQtPdp0DFMlBC1qVKHNT3MUIAAMBsy2doQn+KNPxFiERCUmRGdW5sdEIAAGDoJj8wQjMnONmKQntCmB1esHr5LELdnNGwRfBVQgAAgJT2CBlCe3iSIZ9jfULPRn2jotUiQikcpBBYimFCmMzs6AZWL0KNl2P2D6spQsM1siWMzVJCChdfR5AaKUL4U81sXqcHQtaQl97Gbf1BZs43kRAQWkJcP9PBj0xNQgcfbqvFZRhCAAAIDzYNOUKPAjsC2WVAQrR4FGbiqV9CVGM7ZYnTHkINIIg8S68dQhTQVZ+yfA1CgRUdY8njCkIKYoHSgJ6SQmM/N4liLBdCIUBroBomRUL5kbc1GgsjQlrUlc0wGENCfkyyeQ2pIULy0vnEPZVKQm+CB3gD9EtC0aoAfeytUkJkO8EzG+9VQhUdQf8rFSlCb5L1e4rcBUKdsdfA4x8wQsAEUpJQpfRBNe/00UXs/kFkXeO9gZ8sQl09jqRRtTRCGYTNOW8TE0IGYS90kkFVQpyzvvRI/i1Cb4JvlzAiSEJJHUyvHnYKQkJghKwrewdCgR0nk9yeW0LWtm1ALRAlQqhWhRaMhUZCP3WpJj8EPkI2PDz90G4mQleMtuPoByhCpJwJzvhIcEJmP4PmoPmpQnk7Sf7mYeRBy1Cv48N4IkIOj6IRivUvQtVpv1CF0i9CHRps4Z7WH0JwDgT5K7kkQpZDKKV9zgpCxSDL8lduD0I3EZg1eKlWQuSDWKeOBw1C8nDvOjwVIUKmimCN8ssVQhkEwHoJHwBCCtd7G3VcB0LW1kkTOAIIQjL3+o0K3Q1CW7FZDS9eCUIukMNNDgoJQoGmc6lObRBC+l5vYgVfN0KAK13VCGn9QUJgNVgP5QxCZqZlt4qDI0JK7LJuwnFUQkQrhPflMktC3yDozu4XEEKMIWZPXk34QfEjKMe0uTRCb7Aznzp6MUKP052dYxMFQtvJKnsS6kFCn03qP9ZUNkLP164V1HUgQjjnFC44tRVCOPNVLMIM+kGFcd1tuqGEQgAAgLqgu+hBn6v5QqPO0UHnDDTToEUKQhh9+hrnz+FBXFr621Ey40GmyskggvMXQpoZjOk6+AtCgmKk1YgnD0Iuf16v8JUEQtej4lTuRgNCtdcrD/RqLEKCcygII4IRQsMN7szLjOBB",
          "dtype": "f8"
         },
         "y": {
          "bdata": "+n5qvHQTH0BmZmZmZmYeQJ7vp8ZLNx5AYOXQItv5HUDByqFFtvMdQOxRuB6F6x1ArBxaZDtfHUDufD81XjodQOkmMQisHB1AlkOLbOf7HEC28/3UeOkcQF66SQwCqxxAdZMYBFaOHEBcj8L1KFwcQJ7vp8ZLNxxAL90kBoEVHEBxPQrXo/AbQP7UeOkmsRtAxSCwcmiRG0DNzMzMzEwbQIGVQ4ts5xpA4XoUrkdhGkCR7Xw/NV4aQC2yne+nxhlAWDm0yHa+GUAAAAAAAIAZQOXQItv5fhlA0SLb+X5qGUBiEFg5tEgZQDMzMzMzMxlAeekmMQgsGUA/NV66SQwZQFCNl24SAxlAMQisHFrkGECyne+nxssYQO58PzVeuhhAGQRWDi2yGEB/arx0k5gYQAAAAAAAgBhARrbz/dR4GEDsUbgehWsYQGZmZmZmZhhA8tJNYhBYGEBI4XoUrkcYQMl2vp8aLxhA6SYxCKwcGEAv3SQGgRUYQNV46SYxCBhAw/UoXI/CF0DfT42XbpIXQI/C9ShcjxdAWmQ730+NF0AlBoGVQ4sXQHE9CtejcBdAI9v5fmo8F0AEVg4tsh0XQNV46SYxCBdARrbz/dT4FkB9PzVeuskWQBKDwMqhxRZA6SYxCKycFkCgGi/dJIYWQLbz/dR4aRZABFYOLbIdFkCamZmZmRkWQGQ730+NFxZAke18PzXeFUDufD81XroVQDMzMzMzsxVAJQaBlUOLFUBCYOXQIlsVQJhuEoPAShVA2c73U+MlFUCkcD0K1yMVQH9qvHSTGBVAj8L1KFwPFUCwcmiR7fwUQPLSTWIQ2BRAokW28/3UFECiRbbz/dQUQH0/NV66yRRA+FPjpZvEFEDdJAaBlcMUQIcW2c73UxRAkxgEVg4tFEAlBoGVQwsUQJZDi2zn+xNA9P3UeOmmE0A5tMh2vp8TQNV46SYxiBNAGQRWDi0yE0AX2c73U+MSQMdLN4lB4BJAzczMzMzMEkDTTWIQWLkSQHnpJjEIrBJAdZMYBFaOEkBQjZduEoMSQAwCK4cWWRJAI9v5fmo8EkCJQWDl0CISQPp+arx0ExJA8KfGSzcJEkD2KFyPwvURQHe+nxov3RFA8tJNYhDYEUBt5/up8dIRQHNoke18vxFAj8L1KFyPEUDl0CLb+X4RQBBYObTIdhFAcT0K16NwEUBmZmZmZmYRQIcW2c73UxFAvp8aL90kEUCoxks3icEQQCGwcmiRbRBA16NwPQpXEECPwvUoXA8QQM3MzMzMzA9AYhBYObTID0AQWDm0yHYPQNEi2/l+ag5AMzMzMzMzDkDn+6nx0k0NQC2yne+nxgxAgZVDi2znC0BI4XoUrkcLQHnpJjEIrApADAIrhxbZCUA5tMh2vp8JQESLbOf7qQhA",
          "dtype": "f8"
         }
        },
        {
         "customdata": {
          "bdata": "AQACAAMABAAFAAYABwAIAAkACgALAAwADQAOAA8AEAARABIAEwAUABUAFgAXABgAGQAaABsAHAAdAB4AHwAgACEAIgAjACQAJQAmACcAKAApACoAKwAsAC0ALgAvADAAMQAyADMANAA1ADYANwA4ADkAOgA7ADwAPQA+AD8AQABBAEIAQwBEAEUARgBHAEgASQBKAEsATABNAE4ATwBPAFEAUgBTAFQAVQBWAFcAWABZAFoAWwBcAF0AXgBfAGAAYQBiAGMAZABlAGYAZwBoAGkAagBrAGwAbQBuAG8AcABxAHIAcwB0AHUAdgB3AHgAeQB6AHsAfAB9AH4AfwCAAIEAggCDAIQA",
          "dtype": "i2"
         },
         "hovertemplate": "Country: %{text}<br>Rank: %{customdata} out of 133<br>GNI per Capita: $%{x:,.0f}<br>Happiness: %{y:.2f}<extra></extra>",
         "mode": "markers",
         "name": "GNI per Capita",
         "text": [
          "Finland",
          "Denmark",
          "Norway",
          "Iceland",
          "Netherlands",
          "Switzerland",
          "Sweden",
          "New Zealand",
          "Canada",
          "Austria",
          "Australia",
          "Costa Rica",
          "Israel",
          "Luxembourg",
          "United Kingdom",
          "Ireland",
          "Germany",
          "Belgium",
          "United States",
          "United Arab Emirates",
          "Malta",
          "Mexico",
          "France",
          "Chile",
          "Guatemala",
          "Saudi Arabia",
          "Qatar",
          "Spain",
          "Panama",
          "Brazil",
          "Uruguay",
          "Singapore",
          "El Salvador",
          "Italy",
          "Bahrain",
          "Poland",
          "Uzbekistan",
          "Lithuania",
          "Colombia",
          "Slovenia",
          "Nicaragua",
          "Kosovo",
          "Argentina",
          "Romania",
          "Cyprus",
          "Ecuador",
          "Kuwait",
          "Thailand",
          "Latvia",
          "Estonia",
          "Jamaica",
          "Mauritius",
          "Japan",
          "Honduras",
          "Kazakhstan",
          "Bolivia",
          "Hungary",
          "Paraguay",
          "Peru",
          "Portugal",
          "Pakistan",
          "Philippines",
          "Serbia",
          "Moldova",
          "Libya",
          "Montenegro",
          "Tajikistan",
          "Croatia",
          "Dominican Republic",
          "Bosnia and Herzegovina",
          "Malaysia",
          "Belarus",
          "Greece",
          "Mongolia",
          "North Macedonia",
          "Nigeria",
          "Turkmenistan",
          "Algeria",
          "Morocco",
          "Azerbaijan",
          "Lebanon",
          "Indonesia",
          "China",
          "Bhutan",
          "Cameroon",
          "Bulgaria",
          "Ghana",
          "Nepal",
          "Jordan",
          "Benin",
          "Gabon",
          "South Africa",
          "Albania",
          "Cambodia",
          "Senegal",
          "Somalia",
          "Namibia",
          "Niger",
          "Burkina Faso",
          "Armenia",
          "Guinea",
          "Georgia",
          "Kenya",
          "Mauritania",
          "Mozambique",
          "Tunisia",
          "Bangladesh",
          "Iraq",
          "Mali",
          "Sierra Leone",
          "Sri Lanka",
          "Myanmar",
          "Chad",
          "Ukraine",
          "Ethiopia",
          "Uganda",
          "Zambia",
          "Togo",
          "India",
          "Liberia",
          "Comoros",
          "Madagascar",
          "Lesotho",
          "Burundi",
          "Zimbabwe",
          "Haiti",
          "Botswana",
          "Malawi",
          "Rwanda",
          "Tanzania",
          "Afghanistan",
          "Central African Republic"
         ],
         "type": "scatter",
         "visible": false,
         "x": {
          "bdata": "h5YeWaNrT0LBKs+phbBUQtNF54jghFhChJ7gR8GhF0JUX9dnh/NpQr7DSkf5Q2RCI9t7xwvgX0Jz6BDKhyhIQo9a8h55EnlCzdx0awfOWULNxBNGspVzQi4Q0hYkNSxC3yfHMr0mV0LY4dHEbEsmQmbQ9wLNuYRCP80xowgIUkKPID1hRFuNQvD/W71Dfl9CAIAFcIXLs0JGvnFnQHNYQpkqq3+ikAtCUqAo24VxckLNXDrG90eEQqpRK92ALk9CTYTm6iOkMUJYVQUijaRoQpPYKUrbBERCKSjkLW9TdEIAAEgdYHsuQnvUN+8uh3pCrQlUcy+OK0KasUgdVGVTQgAAAFU4yRdCH5kQl0mAfUIxiMluJcghQjs7jaHt0GBChgk8gcqtL0JfaaXrYqIoQhdJX+B9ZFJCrLycm1jwKEIl9bfS+MgGQmnSmWNDGf5BKaThFfwJWUIncaxTJeJMQjrjNKI6FxdCAABoCNVWOEInwQpc9b9CQnFNpAPhf15CS1kBiCNpH0KHljYwDZMcQkjQVZQsqgxC5x0/++k5DEIfVAriO1mTQgbBblimUhVCXop2qM+BQkKE/jC+dKciQj+VrlIql0JCe9TGwwQfIUIb/z/YI59JQuP12+BgNktCiZmoCVRaUkIrt8d6TyFYQgQHlJdTyidCj8LJ18YBB0J2v8XU84wwQkgKpZ214PRB11JuN47wAUIT8hBAjIcsQjWO7ifLwjNCMKqqyzQLE0InUZG9f7NUQnvUunmPGi1CQlCYZQeuR0I8zl5YiIgHQnDOV9/OZQZCy1mQDloWW0IqSfKpWMMkQjdp5P/8EEZC/ImR6oOQPUKHhwdXmZElQleMtl07cydCSBmrR3eUb0JmNyNq/+apQmcKXh4TrOJBxHFMEE4UIkJGFKngB/UuQl6aNlqDgy5CmRsVynYVIEJtha3HD7okQuPHzzu7rApC/XaE9EjkDEL6ruOFqBhWQg7PPohvpwxCsTBUTixRIEJ65TFhbDoVQl1cCp0EDgBCLGWcY7XJBkKxYWnBZhsJQjlFx3I6jAxCL24U68K3CUKxUDvqp9MIQsiHvSnfXg9Cxe50Bl7/NkIl9cDlQw39Qa5YDHU9YQxC1QeBK1QBI0IMiodqJEhVQkQrJJEkEEtCNABrl0DkDkLqz7Wx2gr4QZ3wg6WEJjRCrzVE6cHpMEKJQWEmccAEQri++YoOI0JCidIxzrExNkIirrn9pAggQtlOmybCVBVCHUnUatoh+kEzsWIJ/m6EQgAAgHnhGOZBxM4UfSvk0UGWsh7l2loJQgtBNGkLQeVB4Sg/iHZA40F6BxMq1IYXQl1tj3LoDwxCulrHI7I/D0LXo/Jx5xYEQrkNHzv7oAJCA1gSPRvyK0LZ/eovL8URQh8Rl4X6xuFB",
          "dtype": "f8"
         },
         "y": {
          "bdata": "+n5qvHQTH0BmZmZmZmYeQJ7vp8ZLNx5AYOXQItv5HUDByqFFtvMdQOxRuB6F6x1ArBxaZDtfHUDufD81XjodQOkmMQisHB1AlkOLbOf7HEC28/3UeOkcQF66SQwCqxxAdZMYBFaOHEBcj8L1KFwcQJ7vp8ZLNxxAL90kBoEVHEBxPQrXo/AbQP7UeOkmsRtAxSCwcmiRG0DNzMzMzEwbQIGVQ4ts5xpA4XoUrkdhGkCR7Xw/NV4aQC2yne+nxhlAWDm0yHa+GUAAAAAAAIAZQOXQItv5fhlA0SLb+X5qGUBiEFg5tEgZQDMzMzMzMxlAeekmMQgsGUA/NV66SQwZQFCNl24SAxlAMQisHFrkGECyne+nxssYQO58PzVeuhhAGQRWDi2yGEB/arx0k5gYQAAAAAAAgBhARrbz/dR4GEDsUbgehWsYQGZmZmZmZhhA8tJNYhBYGEBI4XoUrkcYQMl2vp8aLxhA6SYxCKwcGEAv3SQGgRUYQNV46SYxCBhAw/UoXI/CF0DfT42XbpIXQI/C9ShcjxdAWmQ730+NF0AlBoGVQ4sXQHE9CtejcBdAI9v5fmo8F0AEVg4tsh0XQNV46SYxCBdARrbz/dT4FkB9PzVeuskWQBKDwMqhxRZA6SYxCKycFkCgGi/dJIYWQLbz/dR4aRZABFYOLbIdFkCamZmZmRkWQGQ730+NFxZAke18PzXeFUDufD81XroVQDMzMzMzsxVAJQaBlUOLFUBCYOXQIlsVQJhuEoPAShVA2c73U+MlFUCkcD0K1yMVQH9qvHSTGBVAj8L1KFwPFUCwcmiR7fwUQPLSTWIQ2BRAokW28/3UFECiRbbz/dQUQH0/NV66yRRA+FPjpZvEFEDdJAaBlcMUQIcW2c73UxRAkxgEVg4tFEAlBoGVQwsUQJZDi2zn+xNA9P3UeOmmE0A5tMh2vp8TQNV46SYxiBNAGQRWDi0yE0AX2c73U+MSQMdLN4lB4BJAzczMzMzMEkDTTWIQWLkSQHnpJjEIrBJAdZMYBFaOEkBQjZduEoMSQAwCK4cWWRJAI9v5fmo8EkCJQWDl0CISQPp+arx0ExJA8KfGSzcJEkD2KFyPwvURQHe+nxov3RFA8tJNYhDYEUBt5/up8dIRQHNoke18vxFAj8L1KFyPEUDl0CLb+X4RQBBYObTIdhFAcT0K16NwEUBmZmZmZmYRQIcW2c73UxFAvp8aL90kEUCoxks3icEQQCGwcmiRbRBA16NwPQpXEECPwvUoXA8QQM3MzMzMzA9AYhBYObTID0AQWDm0yHYPQNEi2/l+ag5AMzMzMzMzDkDn+6nx0k0NQC2yne+nxgxAgZVDi2znC0BI4XoUrkcLQHnpJjEIrApADAIrhxbZCUA5tMh2vp8JQESLbOf7qQhA",
          "dtype": "f8"
         }
        },
        {
         "hoverinfo": "skip",
         "line": {
          "color": "blue",
          "dash": "dash"
         },
         "mode": "lines",
         "name": "Trend Line",
         "type": "scatter",
         "visible": true,
         "x": {
          "bdata": "ZmZmZmZmOEAxYBoDprE4QPxZzp/l/DhAyFOCPCVIOUCTTTbZZJM5QF5H6nWk3jlAKkGeEuQpOkD1OlKvI3U6QMA0BkxjwDpAiy666KILO0BWKG6F4lY7QCIiIiIiojtA7RvWvmHtO0C4FYpboTg8QIQPPvjggzxATwnylCDPPEAaA6YxYBo9QOX8Wc6fZT1AsPYNa9+wPUB88MEHH/w9QEfqdaReRz5AEuQpQZ6SPkDe3d3d3d0+QKnXkXodKT9AdNFFF110P0A/y/mznL8/QIXiVihuBUBAa9+w9g0rQEBQ3ArFrVBAQDbZZJNNdkBAHNa+Ye2bQEAC0xgwjcFAQOfPcv4s50BAzMzMzMwMQUCyySabbDJBQJjGgGkMWEFAfsPaN6x9QUBjwDQGTKNBQEm9jtTryEFALrrooovuQUAUt0JxKxRCQPqznD/LOUJA37D2DWtfQkDFrVDcCoVCQKqqqqqqqkJAkKcEeUrQQkB2pF5H6vVCQFyhuBWKG0NAQZ4S5ClBQ0Amm2yyyWZDQAyYxoBpjENA8pQgTwmyQ0DYkXodqddDQL2O1OtI/UNAo4suuugiRECIiIiIiEhEQG6F4lYobkRAVII8JciTREA5f5bzZ7lEQB988MEH30RABHlKkKcERUDqdaReRypFQNBy/iznT0VAtm9Y+4Z1RUCbbLLJJptFQIBpDJjGwEVAZmZmZmbmRUBMY8A0BgxGQDJgGgOmMUZAF1100UVXRkD9Wc6f5XxGQOJWKG6FokZAyFOCPCXIRkCuUNwKxe1GQJNNNtlkE0dAeUqQpwQ5R0BeR+p1pF5HQEREREREhEdAKkGeEuSpR0AQPvjgg89HQPU6Uq8j9UdA2jesfcMaSEDANAZMY0BIQKYxYBoDZkhAjC666KKLSEBxKxS3QrFIQFcoboXi1khAPCXIU4L8SEAiIiIiIiJJQAgffPDBR0lA7RvWvmFtSUDTGDCNAZNJQLgViluhuElAnhLkKUHeSUCEDz744ANKQGoMmMaAKUpATwnylCBPSkA0BkxjwHRKQBoDpjFgmkpAAAAAAADASkA=",
          "dtype": "f8"
         },
         "y": {
          "bdata": "zRbCRItBGUCLfPJQJjgZQEniIl3BLhlAB0hTaVwlGUDFrYN19xsZQIMTtIGSEhlAQHnkjS0JGUD+3hSayP8YQLxERaZj9hhAeqp1sv7sGEA4EKa+meMYQPZ11so02hhAtNsG18/QGEByQTfjascYQDCnZ+8FvhhA7gyY+6C0GECscsgHPKsYQGrY+BPXoRhAKD4pIHKYGEDmo1ksDY8YQKQJijiohRhAYm+6REN8GEAg1epQ3nIYQN46G115aRhAnKBLaRRgGEBaBnx1r1YYQBhsrIFKTRhA1tHcjeVDGECUNw2agDoYQFKdPaYbMRhAEANusrYnGEDOaJ6+UR4YQIzOzsrsFBhASjT/1ocLGEAImi/jIgIYQMb/X++9+BdAg2WQ+1jvF0BCy8AH9OUXQP8w8ROP3BdAvpYhICrTF0B7/FEsxckXQDligjhgwBdA98eyRPu2F0C1LeNQlq0XQHOTE10xpBdAMflDacyaF0DvXnR1Z5EXQK3EpIECiBdAayrVjZ1+F0ApkAWaOHUXQOf1NabTaxdApVtmsm5iF0BjwZa+CVkXQCEnx8qkTxdA34z31j9GF0Cd8ifj2jwXQFtYWO91MxdAGL6I+xAqF0DXI7kHrCAXQJSJ6RNHFxdAU+8ZIOINF0AQVUosfQQXQM66ejgY+xZAjCCrRLPxFkBKhttQTugWQAjsC13p3hZAxlE8aYTVFkCEt2x1H8wWQEIdnYG6whZAAIPNjVW5FkC+6P2Z8K8WQHxOLqaLphZAOrResiadFkD4GY++wZMWQLZ/v8pcihZAdOXv1veAFkAySyDjkncWQPCwUO8tbhZArhaB+8hkFkBsfLEHZFsWQCri4RP/URZA6EcSIJpIFkCmrUIsNT8WQGQTczjQNRZAInmjRGssFkDg3tNQBiMWQJ5EBF2hGRZAXKo0aTwQFkAaEGV11wYWQNd1lYFy/RVAltvFjQ30FUBTQfaZqOoVQBKnJqZD4RVAzwxXst7XFUCNcoe+ec4VQEvYt8oUxRVACT7o1q+7FUDHoxjjSrIVQIUJSe/lqBVAQ295+4CfFUA=",
          "dtype": "f8"
         }
        },
        {
         "hoverinfo": "skip",
         "line": {
          "color": "blue",
          "dash": "dash"
         },
         "mode": "lines",
         "name": "Trend Line",
         "type": "scatter",
         "visible": false,
         "x": {
          "bdata": "n6v5QqPO0UGejvAWg3dJQvOUrXO0ZVlCS3HxrdMHY0IdGAwizVxpQu++JpbGsW9C4LIgBWADc0JJBi6/3C12QrJZO3lZWHlCG61IM9aCfEKEAFbtUq1/QvapsdPna4FCqlO4MCYBg0Jf/b6NZJaEQhOnxeqiK4ZCyFDMR+HAh0J8+tKkH1aJQjCk2QFe64pC5U3gXpyAjEKZ9+a72hWOQk6h7RgZq49CgiX6uiugkEJcen3pymqRQjbPABhqNZJCECSERgkAk0LqeAd1qMqTQsXNiqNHlZRCnyIO0uZflUJ5d5EAhiqWQlPMFC8l9ZZCLiGYXcS/l0IIdhuMY4qYQuLKnroCVZlCvB8i6aEfmkKWdKUXQeqaQnHJKEbgtJtCSx6sdH9/nEIlcy+jHkqdQv/HstG9FJ5C2hw2AF3fnkK0cbku/KmfQkZjnq5NOqBCtA3gRZ2foEIhuCHd7AShQo5iY3Q8aqFC+wylC4zPoUJot+ai2zSiQtVhKDormqJCQgxq0Xr/okKvtqtoymSjQhxh7f8ZyqNCigsvl2kvpEL3tXAuuZSkQmRgssUI+qRC0Qr0XFhfpUI+tTX0p8SlQqtfd4v3KaZCGAq5IkePpkKFtPq5lvSmQvJePFHmWadCYAl+6DW/p0LNs79/hSSoQjpeARfViahCpwhDriTvqEIUs4RFdFSpQoFdxtzDualC7gcIdBMfqkJbskkLY4SqQshci6Ky6apCNgfNOQJPq0KjsQ7RUbSrQhBcUGihGaxCfQaS//B+rELqsNOWQOSsQldbFS6QSa1CxAVXxd+urUIxsJhcLxSuQp5a2vN+ea5CDAUci87erkJ5r10iHkSvQuZZn7ltqa9CKoJwqF4HsEJgVxF0BjqwQpcssj+ubLBCzgFTC1afsEIE1/PW/dGwQjuslKKlBLFCcYE1bk03sUKoVtY59WmxQt4rdwWdnLFCFQEY0UTPsUJL1ric7AGyQoKrWWiUNLJCuYD6MzxnskLvVZv/45myQiYrPMuLzLJCXADdljP/skKT1X1i2zGzQsmqHi6DZLNCAIC/+SqXs0I=",
          "dtype": "f8"
         },
         "y": {
          "bdata": "gml0XjW6FUC29Gm0Fc0VQOp/Xwr23xVAHwtVYNbyFUBTlkq2tgUWQIchQAyXGBZAu6w1YncrFkDvNyu4Vz4WQCPDIA44URZAV04WZBhkFkCM2Qu6+HYWQMBkARDZiRZA9O/2ZbmcFkAoe+y7ma8WQFwG4hF6whZAkJHXZ1rVFkDFHM29OugWQPmnwhMb+xZALTO4afsNF0Bhvq2/2yAXQJVJoxW8MxdAydSYa5xGF0D+X47BfFkXQDLrgxddbBdAZnZ5bT1/F0CaAW/DHZIXQM6MZBn+pBdAAhhab963F0A2o0/FvsoXQGsuRRuf3RdAn7k6cX/wF0DTRDDHXwMYQAfQJR1AFhhAO1sbcyApGEBv5hDJADwYQKRxBh/hThhA2Pz7dMFhGEAMiPHKoXQYQEAT5yCChxhAdJ7cdmKaGECoKdLMQq0YQNy0xyIjwBhAEUC9eAPTGEBFy7LO4+UYQHlWqCTE+BhAreGdeqQLGUDhbJPQhB4ZQBX4iCZlMRlASoN+fEVEGUB+DnTSJVcZQLKZaSgGahlA5iRffuZ8GUAasFTUxo8ZQE47SiqnohlAgsY/gIe1GUC3UTXWZ8gZQOvcKixI2xlAH2gggijuGUBT8xXYCAEaQId+Cy7pExpAvAkBhMkmGkDwlPbZqTkaQCQg7C+KTBpAWKvhhWpfGkCMNtfbSnIaQMDBzDErhRpA9EzChwuYGkAo2Lfd66oaQF1jrTPMvRpAke6iiazQGkDFeZjfjOMaQPkEjjVt9hpALpCDi00JG0BiG3nhLRwbQJambjcOLxtAyjFkje5BG0D+vFnjzlQbQDJITzmvZxtAZtNEj496G0CaXjrlb40bQM/pLztQoBtAA3UlkTCzG0A3ABvnEMYbQGuLED3x2BtAoBYGk9HrG0DUofvosf4bQAgt8T6SERxAPLjmlHIkHEBwQ9zqUjccQKTO0UAzShxA2FnHlhNdHEAM5bzs828cQEFwskLUghxAdfunmLSVHECphp3ulKgcQN0Rk0R1uxxAEZ2ImlXOHEBGKH7wNeEcQHqzc0YW9BxArj5pnPYGHUA=",
          "dtype": "f8"
         }
        },
        {
         "hoverinfo": "skip",
         "line": {
          "color": "blue",
          "dash": "dash"
         },
         "mode": "lines",
         "name": "Trend Line",
         "type": "scatter",
         "visible": false,
         "x": {
          "bdata": "xM4UfSvk0UECupQnXrtJQjOlF/x5qVlCsnYycqI6Y0LLGlnmh6BpQnLfP602A3BCfzFTZyk2c0KMg2YhHGl2QpjVedsOnHlCpCeNlQHPfELYPNAn+gCAQt/l2YRzmoFC5Y7j4ewzg0LrN+0+Zs2EQvLg9pvfZoZC+IkA+VgAiEL+MgpW0pmJQgTcE7NLM4tCCoUdEMXMjEIRLidtPmaOQhfXMMq3/49CD0Cdk5jMkEKSFCJCVZmRQhXppvARZpJCmL0rn84yk0IbkrBNi/+TQp5mNfxHzJRCITu6qgSZlUKlDz9ZwWWWQijkwwd+MpdCq7hItjr/l0Iujc1k98uYQrFhUhO0mJlCNDbXwXBlmkK3ClxwLTKbQjrf4B7q/ptCvbNlzabLnEJBiOp7Y5idQsRcbyogZZ5CRzH02Nwxn0LKBXmHmf6fQibt/hqrZaBCaFdBcgnMoEKpwYPJZzKhQusrxiDGmKFCLJYIeCT/oUJuAEvPgmWiQq9qjSbhy6JC8dTPfT8yo0IzPxLVnZijQnSpVCz8/qNCthOXg1plpEL3fdnauMukQjnoGzIXMqVCelJeiXWYpUK8vKDg0/6lQv4m4zcyZaZCP5Elj5DLpkKB+2fm7jGnQsJlqj1NmKdCBNDslKv+p0JFOi/sCWWoQoekcUNoy6hCyA60msYxqUIKefbxJJipQkzjOEmD/qlCjU17oOFkqkLPt733P8uqQhAiAE+eMatCUoxCpvyXq0KT9oT9Wv6rQtVgx1S5ZKxCFssJrBfLrEJYNUwDdjGtQpqfjlrUl61C2wnRsTL+rUIddBMJkWSuQl7eVWDvyq5CoEiYt00xr0LhstoOrJevQiMdHWYK/q9CssOvXjQysELT+FCKY2WwQvQt8rWSmLBCFWOT4cHLsEI1mDQN8f6wQlbN1TggMrFCdwJ3ZE9lsUKYNxiQfpixQrlsubuty7FC2aFa59z+sUL61vsSDDKyQhsMnT47ZbJCPEE+amqYskJcdt+VmcuyQn2rgMHI/rJCnuAh7fcxs0K/FcMYJ2WzQuBKZERWmLNCAIAFcIXLs0I=",
          "dtype": "f8"
         },
         "y": {
          "bdata": "4B7hB+i6FUCMxuEZvM0VQDhu4iuQ4BVA4xXjPWTzFUCPveNPOAYWQDtl5GEMGRZA5gzlc+ArFkCStOWFtD4WQD5c5peIURZA6QPnqVxkFkCVq+e7MHcWQEFT6M0EihZA7Pro39icFkCYounxrK8WQERK6gOBwhZA7/HqFVXVFkCbmesnKegWQEZB7Dn9+hZA8ujsS9ENF0CekO1dpSAXQEk47m95MxdA9d/ugU1GF0Chh++TIVkXQEwv8KX1axdA+Nbwt8l+F0CkfvHJnZEXQE8m8ttxpBdA+83y7UW3F0CndfP/GcoXQFId9BHu3BdA/sT0I8LvF0CqbPU1lgIYQFUU9kdqFRhAAbz2WT4oGECsY/drEjsYQFgL+H3mTRhABLP4j7pgGECwWvmhjnMYQFsC+rNihhhAB6r6xTaZGECyUfvXCqwYQF75++nevhhACqH8+7LRGEC1SP0Nh+QYQGHw/R9b9xhADZj+MS8KGUC4P/9DAx0ZQGTn/1XXLxlAEI8AaKtCGUC7NgF6f1UZQGfeAYxTaBlAE4YCnid7GUC+LQOw+40ZQGrVA8LPoBlAFX0E1KOzGUDBJAXmd8YZQG3MBfhL2RlAGHQGCiDsGUDEGwcc9P4ZQHDDBy7IERpAHGsIQJwkGkDHEglScDcaQHO6CWREShpAHmIKdhhdGkDKCQuI7G8aQHaxC5rAghpAIVkMrJSVGkDNAA2+aKgaQHioDdA8uxpAJFAO4hDOGkDQ9w705OAaQHyfDwa58xpAJ0cQGI0GG0DT7hAqYRkbQH6WETw1LBtAKj4STgk/G0DW5RJg3VEbQIKNE3KxZBtALTUUhIV3G0DZ3BSWWYobQISEFagtnRtAMCwWugGwG0Dc0xbM1cIbQIh7F96p1RtAMyMY8H3oG0DeyhgCUvsbQIpyGRQmDhxANhoaJvogHEDiwRo4zjMcQI5pG0qiRhxAOREcXHZZHEDkuBxuSmwcQJBgHYAefxxAPAgekvKRHEDnrx6kxqQcQJNXH7aatxxAP/8fyG7KHEDqpiDaQt0cQJZOIewW8BxAQvYh/uoCHUA=",
          "dtype": "f8"
         }
        }
       ],
       "layout": {
        "autosize": false,
        "height": 600,
        "hoverlabel": {
         "font": {
          "size": 12
         }
        },
        "legend": {
         "borderwidth": 0,
         "font": {
          "size": 12
         },
         "x": 0.01,
         "y": 0.99
        },
        "margin": {
         "b": 80,
         "l": 80,
         "r": 80,
         "t": 80
        },
        "showlegend": true,
        "sliders": [
         {
          "active": 0,
          "currentvalue": {
           "prefix": "Metric: "
          },
          "len": 0.9,
          "pad": {
           "t": 50
          },
          "steps": [
           {
            "args": [
             {
              "visible": [
               true,
               false,
               false,
               true,
               false,
               false
              ]
             },
             {
              "title": "Happiness vs Gini Index",
              "xaxis": {
               "fixedrange": true,
               "range": [
                24.4,
                53.5
               ],
               "title": "Gini Index"
              },
              "yaxis": {
               "fixedrange": true,
               "range": [
                2.853,
                7.769
               ],
               "title": "Happiness"
              }
             }
            ],
            "label": "Gini Index",
            "method": "update"
           },
           {
            "args": [
             {
              "visible": [
               false,
               true,
               false,
               false,
               true,
               false
              ]
             },
             {
              "title": "Happiness vs GDP per Capita",
              "xaxis": {
               "fixedrange": true,
               "range": [
                1195019531.9011,
                500000000000.0
               ],
               "title": "GDP per Capita (USD)"
              },
              "yaxis": {
               "fixedrange": true,
               "range": [
                2.853,
                7.769
               ],
               "title": "Happiness"
              }
             }
            ],
            "label": "GDP per Capita",
            "method": "update"
           },
           {
            "args": [
             {
              "visible": [
               false,
               false,
               true,
               false,
               false,
               true
              ]
             },
             {
              "title": "Happiness vs GNI per Capita",
              "xaxis": {
               "fixedrange": true,
               "range": [
                1200664052.32512,
                500000000000.0
               ],
               "title": "GNI per Capita (USD)"
              },
              "yaxis": {
               "fixedrange": true,
               "range": [
                2.853,
                7.769
               ],
               "title": "Happiness"
              }
             }
            ],
            "label": "GNI per Capita",
            "method": "update"
           }
          ],
          "x": 0.1,
          "xanchor": "left"
         }
        ],
        "template": {
         "data": {
          "bar": [
           {
            "error_x": {
             "color": "#2a3f5f"
            },
            "error_y": {
             "color": "#2a3f5f"
            },
            "marker": {
             "line": {
              "color": "#E5ECF6",
              "width": 0.5
             },
             "pattern": {
              "fillmode": "overlay",
              "size": 10,
              "solidity": 0.2
             }
            },
            "type": "bar"
           }
          ],
          "barpolar": [
           {
            "marker": {
             "line": {
              "color": "#E5ECF6",
              "width": 0.5
             },
             "pattern": {
              "fillmode": "overlay",
              "size": 10,
              "solidity": 0.2
             }
            },
            "type": "barpolar"
           }
          ],
          "carpet": [
           {
            "aaxis": {
             "endlinecolor": "#2a3f5f",
             "gridcolor": "white",
             "linecolor": "white",
             "minorgridcolor": "white",
             "startlinecolor": "#2a3f5f"
            },
            "baxis": {
             "endlinecolor": "#2a3f5f",
             "gridcolor": "white",
             "linecolor": "white",
             "minorgridcolor": "white",
             "startlinecolor": "#2a3f5f"
            },
            "type": "carpet"
           }
          ],
          "choropleth": [
           {
            "colorbar": {
             "outlinewidth": 0,
             "ticks": ""
            },
            "type": "choropleth"
           }
          ],
          "contour": [
           {
            "colorbar": {
             "outlinewidth": 0,
             "ticks": ""
            },
            "colorscale": [
             [
              0.0,
              "#0d0887"
             ],
             [
              0.1111111111111111,
              "#46039f"
             ],
             [
              0.2222222222222222,
              "#7201a8"
             ],
             [
              0.3333333333333333,
              "#9c179e"
             ],
             [
              0.4444444444444444,
              "#bd3786"
             ],
             [
              0.5555555555555556,
              "#d8576b"
             ],
             [
              0.6666666666666666,
              "#ed7953"
             ],
             [
              0.7777777777777778,
              "#fb9f3a"
             ],
             [
              0.8888888888888888,
              "#fdca26"
             ],
             [
              1.0,
              "#f0f921"
             ]
            ],
            "type": "contour"
           }
          ],
          "contourcarpet": [
           {
            "colorbar": {
             "outlinewidth": 0,
             "ticks": ""
            },
            "type": "contourcarpet"
           }
          ],
          "heatmap": [
           {
            "colorbar": {
             "outlinewidth": 0,
             "ticks": ""
            },
            "colorscale": [
             [
              0.0,
              "#0d0887"
             ],
             [
              0.1111111111111111,
              "#46039f"
             ],
             [
              0.2222222222222222,
              "#7201a8"
             ],
             [
              0.3333333333333333,
              "#9c179e"
             ],
             [
              0.4444444444444444,
              "#bd3786"
             ],
             [
              0.5555555555555556,
              "#d8576b"
             ],
             [
              0.6666666666666666,
              "#ed7953"
             ],
             [
              0.7777777777777778,
              "#fb9f3a"
             ],
             [
              0.8888888888888888,
              "#fdca26"
             ],
             [
              1.0,
              "#f0f921"
             ]
            ],
            "type": "heatmap"
           }
          ],
          "histogram": [
           {
            "marker": {
             "pattern": {
              "fillmode": "overlay",
              "size": 10,
              "solidity": 0.2
             }
            },
            "type": "histogram"
           }
          ],
          "histogram2d": [
           {
            "colorbar": {
             "outlinewidth": 0,
             "ticks": ""
            },
            "colorscale": [
             [
              0.0,
              "#0d0887"
             ],
             [
              0.1111111111111111,
              "#46039f"
             ],
             [
              0.2222222222222222,
              "#7201a8"
             ],
             [
              0.3333333333333333,
              "#9c179e"
             ],
             [
              0.4444444444444444,
              "#bd3786"
             ],
             [
              0.5555555555555556,
              "#d8576b"
             ],
             [
              0.6666666666666666,
              "#ed7953"
             ],
             [
              0.7777777777777778,
              "#fb9f3a"
             ],
             [
              0.8888888888888888,
              "#fdca26"
             ],
             [
              1.0,
              "#f0f921"
             ]
            ],
            "type": "histogram2d"
           }
          ],
          "histogram2dcontour": [
           {
            "colorbar": {
             "outlinewidth": 0,
             "ticks": ""
            },
            "colorscale": [
             [
              0.0,
              "#0d0887"
             ],
             [
              0.1111111111111111,
              "#46039f"
             ],
             [
              0.2222222222222222,
              "#7201a8"
             ],
             [
              0.3333333333333333,
              "#9c179e"
             ],
             [
              0.4444444444444444,
              "#bd3786"
             ],
             [
              0.5555555555555556,
              "#d8576b"
             ],
             [
              0.6666666666666666,
              "#ed7953"
             ],
             [
              0.7777777777777778,
              "#fb9f3a"
             ],
             [
              0.8888888888888888,
              "#fdca26"
             ],
             [
              1.0,
              "#f0f921"
             ]
            ],
            "type": "histogram2dcontour"
           }
          ],
          "mesh3d": [
           {
            "colorbar": {
             "outlinewidth": 0,
             "ticks": ""
            },
            "type": "mesh3d"
           }
          ],
          "parcoords": [
           {
            "line": {
             "colorbar": {
              "outlinewidth": 0,
              "ticks": ""
             }
            },
            "type": "parcoords"
           }
          ],
          "pie": [
           {
            "automargin": true,
            "type": "pie"
           }
          ],
          "scatter": [
           {
            "fillpattern": {
             "fillmode": "overlay",
             "size": 10,
             "solidity": 0.2
            },
            "type": "scatter"
           }
          ],
          "scatter3d": [
           {
            "line": {
             "colorbar": {
              "outlinewidth": 0,
              "ticks": ""
             }
            },
            "marker": {
             "colorbar": {
              "outlinewidth": 0,
              "ticks": ""
             }
            },
            "type": "scatter3d"
           }
          ],
          "scattercarpet": [
           {
            "marker": {
             "colorbar": {
              "outlinewidth": 0,
              "ticks": ""
             }
            },
            "type": "scattercarpet"
           }
          ],
          "scattergeo": [
           {
            "marker": {
             "colorbar": {
              "outlinewidth": 0,
              "ticks": ""
             }
            },
            "type": "scattergeo"
           }
          ],
          "scattergl": [
           {
            "marker": {
             "colorbar": {
              "outlinewidth": 0,
              "ticks": ""
             }
            },
            "type": "scattergl"
           }
          ],
          "scattermap": [
           {
            "marker": {
             "colorbar": {
              "outlinewidth": 0,
              "ticks": ""
             }
            },
            "type": "scattermap"
           }
          ],
          "scattermapbox": [
           {
            "marker": {
             "colorbar": {
              "outlinewidth": 0,
              "ticks": ""
             }
            },
            "type": "scattermapbox"
           }
          ],
          "scatterpolar": [
           {
            "marker": {
             "colorbar": {
              "outlinewidth": 0,
              "ticks": ""
             }
            },
            "type": "scatterpolar"
           }
          ],
          "scatterpolargl": [
           {
            "marker": {
             "colorbar": {
              "outlinewidth": 0,
              "ticks": ""
             }
            },
            "type": "scatterpolargl"
           }
          ],
          "scatterternary": [
           {
            "marker": {
             "colorbar": {
              "outlinewidth": 0,
              "ticks": ""
             }
            },
            "type": "scatterternary"
           }
          ],
          "surface": [
           {
            "colorbar": {
             "outlinewidth": 0,
             "ticks": ""
            },
            "colorscale": [
             [
              0.0,
              "#0d0887"
             ],
             [
              0.1111111111111111,
              "#46039f"
             ],
             [
              0.2222222222222222,
              "#7201a8"
             ],
             [
              0.3333333333333333,
              "#9c179e"
             ],
             [
              0.4444444444444444,
              "#bd3786"
             ],
             [
              0.5555555555555556,
              "#d8576b"
             ],
             [
              0.6666666666666666,
              "#ed7953"
             ],
             [
              0.7777777777777778,
              "#fb9f3a"
             ],
             [
              0.8888888888888888,
              "#fdca26"
             ],
             [
              1.0,
              "#f0f921"
             ]
            ],
            "type": "surface"
           }
          ],
          "table": [
           {
            "cells": {
             "fill": {
              "color": "#EBF0F8"
             },
             "line": {
              "color": "white"
             }
            },
            "header": {
             "fill": {
              "color": "#C8D4E3"
             },
             "line": {
              "color": "white"
             }
            },
            "type": "table"
           }
          ]
         },
         "layout": {
          "annotationdefaults": {
           "arrowcolor": "#2a3f5f",
           "arrowhead": 0,
           "arrowwidth": 1
          },
          "autotypenumbers": "strict",
          "coloraxis": {
           "colorbar": {
            "outlinewidth": 0,
            "ticks": ""
           }
          },
          "colorscale": {
           "diverging": [
            [
             0,
             "#8e0152"
            ],
            [
             0.1,
             "#c51b7d"
            ],
            [
             0.2,
             "#de77ae"
            ],
            [
             0.3,
             "#f1b6da"
            ],
            [
             0.4,
             "#fde0ef"
            ],
            [
             0.5,
             "#f7f7f7"
            ],
            [
             0.6,
             "#e6f5d0"
            ],
            [
             0.7,
             "#b8e186"
            ],
            [
             0.8,
             "#7fbc41"
            ],
            [
             0.9,
             "#4d9221"
            ],
            [
             1,
             "#276419"
            ]
           ],
           "sequential": [
            [
             0.0,
             "#0d0887"
            ],
            [
             0.1111111111111111,
             "#46039f"
            ],
            [
             0.2222222222222222,
             "#7201a8"
            ],
            [
             0.3333333333333333,
             "#9c179e"
            ],
            [
             0.4444444444444444,
             "#bd3786"
            ],
            [
             0.5555555555555556,
             "#d8576b"
            ],
            [
             0.6666666666666666,
             "#ed7953"
            ],
            [
             0.7777777777777778,
             "#fb9f3a"
            ],
            [
             0.8888888888888888,
             "#fdca26"
            ],
            [
             1.0,
             "#f0f921"
            ]
           ],
           "sequentialminus": [
            [
             0.0,
             "#0d0887"
            ],
            [
             0.1111111111111111,
             "#46039f"
            ],
            [
             0.2222222222222222,
             "#7201a8"
            ],
            [
             0.3333333333333333,
             "#9c179e"
            ],
            [
             0.4444444444444444,
             "#bd3786"
            ],
            [
             0.5555555555555556,
             "#d8576b"
            ],
            [
             0.6666666666666666,
             "#ed7953"
            ],
            [
             0.7777777777777778,
             "#fb9f3a"
            ],
            [
             0.8888888888888888,
             "#fdca26"
            ],
            [
             1.0,
             "#f0f921"
            ]
           ]
          },
          "colorway": [
           "#636efa",
           "#EF553B",
           "#00cc96",
           "#ab63fa",
           "#FFA15A",
           "#19d3f3",
           "#FF6692",
           "#B6E880",
           "#FF97FF",
           "#FECB52"
          ],
          "font": {
           "color": "#2a3f5f"
          },
          "geo": {
           "bgcolor": "white",
           "lakecolor": "white",
           "landcolor": "#E5ECF6",
           "showlakes": true,
           "showland": true,
           "subunitcolor": "white"
          },
          "hoverlabel": {
           "align": "left"
          },
          "hovermode": "closest",
          "mapbox": {
           "style": "light"
          },
          "paper_bgcolor": "white",
          "plot_bgcolor": "#E5ECF6",
          "polar": {
           "angularaxis": {
            "gridcolor": "white",
            "linecolor": "white",
            "ticks": ""
           },
           "bgcolor": "#E5ECF6",
           "radialaxis": {
            "gridcolor": "white",
            "linecolor": "white",
            "ticks": ""
           }
          },
          "scene": {
           "xaxis": {
            "backgroundcolor": "#E5ECF6",
            "gridcolor": "white",
            "gridwidth": 2,
            "linecolor": "white",
            "showbackground": true,
            "ticks": "",
            "zerolinecolor": "white"
           },
           "yaxis": {
            "backgroundcolor": "#E5ECF6",
            "gridcolor": "white",
            "gridwidth": 2,
            "linecolor": "white",
            "showbackground": true,
            "ticks": "",
            "zerolinecolor": "white"
           },
           "zaxis": {
            "backgroundcolor": "#E5ECF6",
            "gridcolor": "white",
            "gridwidth": 2,
            "linecolor": "white",
            "showbackground": true,
            "ticks": "",
            "zerolinecolor": "white"
           }
          },
          "shapedefaults": {
           "line": {
            "color": "#2a3f5f"
           }
          },
          "ternary": {
           "aaxis": {
            "gridcolor": "white",
            "linecolor": "white",
            "ticks": ""
           },
           "baxis": {
            "gridcolor": "white",
            "linecolor": "white",
            "ticks": ""
           },
           "bgcolor": "#E5ECF6",
           "caxis": {
            "gridcolor": "white",
            "linecolor": "white",
            "ticks": ""
           }
          },
          "title": {
           "x": 0.05
          },
          "xaxis": {
           "automargin": true,
           "gridcolor": "white",
           "linecolor": "white",
           "ticks": "",
           "title": {
            "standoff": 15
           },
           "zerolinecolor": "white",
           "zerolinewidth": 2
          },
          "yaxis": {
           "automargin": true,
           "gridcolor": "white",
           "linecolor": "white",
           "ticks": "",
           "title": {
            "standoff": 15
           },
           "zerolinecolor": "white",
           "zerolinewidth": 2
          }
         }
        },
        "title": {
         "text": "Happiness vs Gini Index"
        },
        "width": 900,
        "xaxis": {
         "automargin": false,
         "fixedrange": true,
         "range": [
          24.4,
          53.5
         ],
         "tickfont": {
          "size": 12
         },
         "title": {
          "font": {
           "size": 14
          },
          "text": "Gini Index"
         }
        },
        "yaxis": {
         "automargin": false,
         "autorange": "reversed",
         "dtick": 1,
         "fixedrange": true,
         "range": [
          2.853,
          7.769
         ],
         "tickfont": {
          "size": 12
         },
         "tickmode": "linear",
         "title": {
          "font": {
           "size": 14
          },
          "text": "Happiness"
         }
        }
       }
      },
      "text/html": [
       "<div>            <script src=\"https://cdnjs.cloudflare.com/ajax/libs/mathjax/2.7.5/MathJax.js?config=TeX-AMS-MML_SVG\"></script><script type=\"text/javascript\">if (window.MathJax && window.MathJax.Hub && window.MathJax.Hub.Config) {window.MathJax.Hub.Config({SVG: {font: \"STIX-Web\"}});}</script>                <script type=\"text/javascript\">window.PlotlyConfig = {MathJaxConfig: 'local'};</script>\n",
       "        <script charset=\"utf-8\" src=\"https://cdn.plot.ly/plotly-3.0.1.min.js\"></script>                <div id=\"9d3e4c4f-d57a-4b91-b83e-36f098f6ac99\" class=\"plotly-graph-div\" style=\"height:600px; width:900px;\"></div>            <script type=\"text/javascript\">                window.PLOTLYENV=window.PLOTLYENV || {};                                if (document.getElementById(\"9d3e4c4f-d57a-4b91-b83e-36f098f6ac99\")) {                    Plotly.newPlot(                        \"9d3e4c4f-d57a-4b91-b83e-36f098f6ac99\",                        [{\"customdata\":{\"dtype\":\"i2\",\"bdata\":\"AQACAAMABQAGAAcACQAKAAwADQAOAA8AEAARABIAEwAVABcAHAAdAB4AHwAhACIAJAAmACcAKAAqACsALAAtAC4AMAAxADIANQA2ADcAOAA5ADoAOwA8AD8AQABCAEQARQBIAEkASwBSAFMAVgBdAGQAZgBoAGkAbwByAHQAfQCAAA==\"},\"hovertemplate\":\"Country: %{text}\\u003cbr\\u003eRank: %{customdata} out of 133\\u003cbr\\u003eGini Index: %{x:.1f}\\u003cbr\\u003eHappiness: %{y:.2f}\\u003cextra\\u003e\\u003c\\u002fextra\\u003e\",\"mode\":\"markers\",\"name\":\"Gini Index\",\"text\":[\"Finland\",\"Denmark\",\"Norway\",\"Netherlands\",\"Switzerland\",\"Sweden\",\"Canada\",\"Austria\",\"Costa Rica\",\"Israel\",\"Luxembourg\",\"United Kingdom\",\"Ireland\",\"Germany\",\"Belgium\",\"United States\",\"Malta\",\"France\",\"Spain\",\"Panama\",\"Brazil\",\"Uruguay\",\"El Salvador\",\"Italy\",\"Poland\",\"Lithuania\",\"Colombia\",\"Slovenia\",\"Kosovo\",\"Argentina\",\"Romania\",\"Cyprus\",\"Ecuador\",\"Thailand\",\"Latvia\",\"Estonia\",\"Japan\",\"Honduras\",\"Kazakhstan\",\"Bolivia\",\"Hungary\",\"Paraguay\",\"Peru\",\"Portugal\",\"Serbia\",\"Moldova\",\"Montenegro\",\"Croatia\",\"Dominican Republic\",\"Belarus\",\"Greece\",\"North Macedonia\",\"Indonesia\",\"China\",\"Bulgaria\",\"Albania\",\"Armenia\",\"Georgia\",\"Mauritania\",\"Mozambique\",\"Sri Lanka\",\"Ukraine\",\"Uganda\",\"Zimbabwe\",\"Malawi\"],\"visible\":true,\"x\":{\"dtype\":\"f8\",\"bdata\":\"MzMzMzOzO0AzMzMzM7M7QDMzMzMzsztAMzMzMzMzPUAAAAAAAABBQM3MzMzMTD1AMzMzMzOzP0AzMzMzMzM+QJqZmZmZGUhAZmZmZmYmQ0CamZmZmRlBQGZmZmZmZkBAzczMzMxMPkDNzMzMzMw\\u002fQDMzMzMzMztAMzMzMzPzREAAAAAAAAA\\u002fQDMzMzMzMz9AZmZmZmYmQUBmZmZmZuZIQAAAAAAAwEpAmpmZmZnZQ0BmZmZmZmZDQM3MzMzMTEFAzczMzMzMPEBmZmZmZqZBQGZmZmZmpklAZmZmZmZmOECamZmZmRlEQGZmZmZmpkVAZmZmZmZmQUAzMzMzMzM\\u002fQJqZmZmZ2UZAMzMzMzNzQUAAAAAAAEBBQM3MzMzMzD5AAAAAAACAQECamZmZmRlIQAAAAAAAADxAzczMzMzMREAAAAAAAAA+QJqZmZmZ2UZAAAAAAADAREBmZmZmZmZAQAAAAAAAQEFAAAAAAAAAOkCamZmZmdlBQGZmZmZm5jxAMzMzMzPzREDNzMzMzEw5QM3MzMzMjEBAAAAAAADAQEAzMzMzM7NBQJqZmZmZGUNAZmZmZmYmRECamZmZmRk+QAAAAAAAAD5AMzMzMzPzQUAAAAAAAABAQGZmZmZmJklAmpmZmZnZQkCamZmZmZk6QJqZmZmZWUVAZmZmZmYmSUAAAAAAAEBDQA==\"},\"y\":{\"dtype\":\"f8\",\"bdata\":\"+n5qvHQTH0BmZmZmZmYeQJ7vp8ZLNx5AwcqhRbbzHUDsUbgehesdQKwcWmQ7Xx1A6SYxCKwcHUCWQ4ts5\\u002fscQF66SQwCqxxAdZMYBFaOHEBcj8L1KFwcQJ7vp8ZLNxxAL90kBoEVHEBxPQrXo\\u002fAbQP7UeOkmsRtAxSCwcmiRG0CBlUOLbOcaQJHtfD81XhpA0SLb+X5qGUBiEFg5tEgZQDMzMzMzMxlAeekmMQgsGUBQjZduEgMZQDEIrBxa5BhA7nw\\u002fNV66GEB\\u002farx0k5gYQAAAAAAAgBhARrbz\\u002fdR4GEBmZmZmZmYYQPLSTWIQWBhASOF6FK5HGEDJdr6fGi8YQOkmMQisHBhA1XjpJjEIGEDD9Shcj8IXQN9PjZdukhdAJQaBlUOLF0BxPQrXo3AXQCPb+X5qPBdABFYOLbIdF0DVeOkmMQgXQEa28\\u002f3U+BZAfT81XrrJFkASg8DKocUWQLbz\\u002fdR4aRZABFYOLbIdFkBkO99PjRcWQO58PzVeuhVAMzMzMzOzFUCYbhKDwEoVQNnO91PjJRVAf2q8dJMYFUD4U+Olm8QUQN0kBoGVwxRAJQaBlUMLFEDHSzeJQeASQCPb+X5qPBJA+n5qvHQTEkD2KFyPwvURQHe+nxov3RFAEFg5tMh2EUCHFtnO91MRQKjGSzeJwRBA5\\u002fup8dJNDUBI4XoUrkcLQA==\"},\"type\":\"scatter\"},{\"customdata\":{\"dtype\":\"i2\",\"bdata\":\"AQACAAMABAAFAAYABwAIAAkACgALAAwADQAOAA8AEAARABIAEwAUABUAFgAXABgAGQAaABsAHAAdAB4AHwAgACEAIgAjACQAJQAmACcAKAApACoAKwAsAC0ALgAvADAAMQAyADMANAA1ADYANwA4ADkAOgA7ADwAPQA+AD8AQABBAEIAQwBEAEUARgBHAEgASQBKAEsATABNAE4ATwBPAFEAUgBTAFQAVQBWAFcAWABZAFoAWwBcAF0AXgBfAGAAYQBiAGMAZABlAGYAZwBoAGkAagBrAGwAbQBuAG8AcABxAHIAcwB0AHUAdgB3AHgAeQB6AHsAfAB9AH4AfwCAAIEAggCDAIQA\"},\"hovertemplate\":\"Country: %{text}\\u003cbr\\u003eRank: %{customdata} out of 133\\u003cbr\\u003eGDP per Capita: $%{x:,.0f}\\u003cbr\\u003eHappiness: %{y:.2f}\\u003cextra\\u003e\\u003c\\u002fextra\\u003e\",\"mode\":\"markers\",\"name\":\"GDP per Capita\",\"text\":[\"Finland\",\"Denmark\",\"Norway\",\"Iceland\",\"Netherlands\",\"Switzerland\",\"Sweden\",\"New Zealand\",\"Canada\",\"Austria\",\"Australia\",\"Costa Rica\",\"Israel\",\"Luxembourg\",\"United Kingdom\",\"Ireland\",\"Germany\",\"Belgium\",\"United States\",\"United Arab Emirates\",\"Malta\",\"Mexico\",\"France\",\"Chile\",\"Guatemala\",\"Saudi Arabia\",\"Qatar\",\"Spain\",\"Panama\",\"Brazil\",\"Uruguay\",\"Singapore\",\"El Salvador\",\"Italy\",\"Bahrain\",\"Poland\",\"Uzbekistan\",\"Lithuania\",\"Colombia\",\"Slovenia\",\"Nicaragua\",\"Kosovo\",\"Argentina\",\"Romania\",\"Cyprus\",\"Ecuador\",\"Kuwait\",\"Thailand\",\"Latvia\",\"Estonia\",\"Jamaica\",\"Mauritius\",\"Japan\",\"Honduras\",\"Kazakhstan\",\"Bolivia\",\"Hungary\",\"Paraguay\",\"Peru\",\"Portugal\",\"Pakistan\",\"Philippines\",\"Serbia\",\"Moldova\",\"Libya\",\"Montenegro\",\"Tajikistan\",\"Croatia\",\"Dominican Republic\",\"Bosnia and Herzegovina\",\"Malaysia\",\"Belarus\",\"Greece\",\"Mongolia\",\"North Macedonia\",\"Nigeria\",\"Turkmenistan\",\"Algeria\",\"Morocco\",\"Azerbaijan\",\"Lebanon\",\"Indonesia\",\"China\",\"Bhutan\",\"Cameroon\",\"Bulgaria\",\"Ghana\",\"Nepal\",\"Jordan\",\"Benin\",\"Gabon\",\"South Africa\",\"Albania\",\"Cambodia\",\"Senegal\",\"Somalia\",\"Namibia\",\"Niger\",\"Burkina Faso\",\"Armenia\",\"Guinea\",\"Georgia\",\"Kenya\",\"Mauritania\",\"Mozambique\",\"Tunisia\",\"Bangladesh\",\"Iraq\",\"Mali\",\"Sierra Leone\",\"Sri Lanka\",\"Myanmar\",\"Chad\",\"Ukraine\",\"Ethiopia\",\"Uganda\",\"Zambia\",\"Togo\",\"India\",\"Liberia\",\"Comoros\",\"Madagascar\",\"Lesotho\",\"Burundi\",\"Zimbabwe\",\"Haiti\",\"Botswana\",\"Malawi\",\"Rwanda\",\"Tanzania\",\"Afghanistan\",\"Central African Republic\"],\"visible\":false,\"x\":{\"dtype\":\"f8\",\"bdata\":\"nLSEaqkVT0JcJ\\u002f0N4hpUQtNFkzK+yldCSS6Fqn38FkICD7Hg3QhrQivXEmSe\\u002fmRCKXxVwPD5XkIxuJEIVcdIQlKIK+zhX3lC4\\u002fVAffjIWUI9KmzzTER0QoG18kov\\u002fy1Cvndb00NDV0KOlWt6zEUwQnter+Mov4RCrj8A9KGyV0Jxfe3X38qMQkxftYTYPV9CAIC\\u002f+SqXs0Ken6E\\u002fiFRYQvs61o93bg5C9uyilyz6ckIUHkUfmc+DQtPdp0DFMlBC1qVKHNT3MUIAAMBsy2doQn+KNPxFiERCUmRGdW5sdEIAAGDoJj8wQjMnONmKQntCmB1esHr5LELdnNGwRfBVQgAAgJT2CBlCe3iSIZ9jfULPRn2jotUiQikcpBBYimFCmMzs6AZWL0KNl2P2D6spQsM1siWMzVJCChdfR5AaKUL4U81sXqcHQtaQl97Gbf1BZs43kRAQWkJcP9PBj0xNQgcfbqvFZRhCAAAIDzYNOUKPAjsC2WVAQrR4FGbiqV9CVGM7ZYnTHkINIIg8S68dQhTQVZ+yfA1CgRUdY8njCkIKYoHSgJ6SQmM\\u002fN4liLBdCIUBroBomRUL5kbc1GgsjQlrUlc0wGENCfkyyeQ2pIULy0vnEPZVKQm+CB3gD9EtC0aoAfeytUkJkO8EzG+9VQhUdQf8rFSlCb5L1e4rcBUKdsdfA4x8wQsAEUpJQpfRBNe\\u002f00UXs\\u002fkFkXeO9gZ8sQl09jqRRtTRCGYTNOW8TE0IGYS90kkFVQpyzvvRI\\u002fi1Cb4JvlzAiSEJJHUyvHnYKQkJghKwrewdCgR0nk9yeW0LWtm1ALRAlQqhWhRaMhUZCP3WpJj8EPkI2PDz90G4mQleMtuPoByhCpJwJzvhIcEJmP4PmoPmpQnk7Sf7mYeRBy1Cv48N4IkIOj6IRivUvQtVpv1CF0i9CHRps4Z7WH0JwDgT5K7kkQpZDKKV9zgpCxSDL8lduD0I3EZg1eKlWQuSDWKeOBw1C8nDvOjwVIUKmimCN8ssVQhkEwHoJHwBCCtd7G3VcB0LW1kkTOAIIQjL3+o0K3Q1CW7FZDS9eCUIukMNNDgoJQoGmc6lObRBC+l5vYgVfN0KAK13VCGn9QUJgNVgP5QxCZqZlt4qDI0JK7LJuwnFUQkQrhPflMktC3yDozu4XEEKMIWZPXk34QfEjKMe0uTRCb7Aznzp6MUKP052dYxMFQtvJKnsS6kFCn03qP9ZUNkLP164V1HUgQjjnFC44tRVCOPNVLMIM+kGFcd1tuqGEQgAAgLqgu+hBn6v5QqPO0UHnDDTToEUKQhh9+hrnz+FBXFr621Ey40GmyskggvMXQpoZjOk6+AtCgmKk1YgnD0Iuf16v8JUEQtej4lTuRgNCtdcrD\\u002fRqLEKCcygII4IRQsMN7szLjOBB\"},\"y\":{\"dtype\":\"f8\",\"bdata\":\"+n5qvHQTH0BmZmZmZmYeQJ7vp8ZLNx5AYOXQItv5HUDByqFFtvMdQOxRuB6F6x1ArBxaZDtfHUDufD81XjodQOkmMQisHB1AlkOLbOf7HEC28\\u002f3UeOkcQF66SQwCqxxAdZMYBFaOHEBcj8L1KFwcQJ7vp8ZLNxxAL90kBoEVHEBxPQrXo\\u002fAbQP7UeOkmsRtAxSCwcmiRG0DNzMzMzEwbQIGVQ4ts5xpA4XoUrkdhGkCR7Xw\\u002fNV4aQC2yne+nxhlAWDm0yHa+GUAAAAAAAIAZQOXQItv5fhlA0SLb+X5qGUBiEFg5tEgZQDMzMzMzMxlAeekmMQgsGUA\\u002fNV66SQwZQFCNl24SAxlAMQisHFrkGECyne+nxssYQO58PzVeuhhAGQRWDi2yGEB\\u002farx0k5gYQAAAAAAAgBhARrbz\\u002fdR4GEDsUbgehWsYQGZmZmZmZhhA8tJNYhBYGEBI4XoUrkcYQMl2vp8aLxhA6SYxCKwcGEAv3SQGgRUYQNV46SYxCBhAw\\u002fUoXI\\u002fCF0DfT42XbpIXQI\\u002fC9ShcjxdAWmQ730+NF0AlBoGVQ4sXQHE9CtejcBdAI9v5fmo8F0AEVg4tsh0XQNV46SYxCBdARrbz\\u002fdT4FkB9PzVeuskWQBKDwMqhxRZA6SYxCKycFkCgGi\\u002fdJIYWQLbz\\u002fdR4aRZABFYOLbIdFkCamZmZmRkWQGQ730+NFxZAke18PzXeFUDufD81XroVQDMzMzMzsxVAJQaBlUOLFUBCYOXQIlsVQJhuEoPAShVA2c73U+MlFUCkcD0K1yMVQH9qvHSTGBVAj8L1KFwPFUCwcmiR7fwUQPLSTWIQ2BRAokW28\\u002f3UFECiRbbz\\u002fdQUQH0\\u002fNV66yRRA+FPjpZvEFEDdJAaBlcMUQIcW2c73UxRAkxgEVg4tFEAlBoGVQwsUQJZDi2zn+xNA9P3UeOmmE0A5tMh2vp8TQNV46SYxiBNAGQRWDi0yE0AX2c73U+MSQMdLN4lB4BJAzczMzMzMEkDTTWIQWLkSQHnpJjEIrBJAdZMYBFaOEkBQjZduEoMSQAwCK4cWWRJAI9v5fmo8EkCJQWDl0CISQPp+arx0ExJA8KfGSzcJEkD2KFyPwvURQHe+nxov3RFA8tJNYhDYEUBt5\\u002fup8dIRQHNoke18vxFAj8L1KFyPEUDl0CLb+X4RQBBYObTIdhFAcT0K16NwEUBmZmZmZmYRQIcW2c73UxFAvp8aL90kEUCoxks3icEQQCGwcmiRbRBA16NwPQpXEECPwvUoXA8QQM3MzMzMzA9AYhBYObTID0AQWDm0yHYPQNEi2\\u002fl+ag5AMzMzMzMzDkDn+6nx0k0NQC2yne+nxgxAgZVDi2znC0BI4XoUrkcLQHnpJjEIrApADAIrhxbZCUA5tMh2vp8JQESLbOf7qQhA\"},\"type\":\"scatter\"},{\"customdata\":{\"dtype\":\"i2\",\"bdata\":\"AQACAAMABAAFAAYABwAIAAkACgALAAwADQAOAA8AEAARABIAEwAUABUAFgAXABgAGQAaABsAHAAdAB4AHwAgACEAIgAjACQAJQAmACcAKAApACoAKwAsAC0ALgAvADAAMQAyADMANAA1ADYANwA4ADkAOgA7ADwAPQA+AD8AQABBAEIAQwBEAEUARgBHAEgASQBKAEsATABNAE4ATwBPAFEAUgBTAFQAVQBWAFcAWABZAFoAWwBcAF0AXgBfAGAAYQBiAGMAZABlAGYAZwBoAGkAagBrAGwAbQBuAG8AcABxAHIAcwB0AHUAdgB3AHgAeQB6AHsAfAB9AH4AfwCAAIEAggCDAIQA\"},\"hovertemplate\":\"Country: %{text}\\u003cbr\\u003eRank: %{customdata} out of 133\\u003cbr\\u003eGNI per Capita: $%{x:,.0f}\\u003cbr\\u003eHappiness: %{y:.2f}\\u003cextra\\u003e\\u003c\\u002fextra\\u003e\",\"mode\":\"markers\",\"name\":\"GNI per Capita\",\"text\":[\"Finland\",\"Denmark\",\"Norway\",\"Iceland\",\"Netherlands\",\"Switzerland\",\"Sweden\",\"New Zealand\",\"Canada\",\"Austria\",\"Australia\",\"Costa Rica\",\"Israel\",\"Luxembourg\",\"United Kingdom\",\"Ireland\",\"Germany\",\"Belgium\",\"United States\",\"United Arab Emirates\",\"Malta\",\"Mexico\",\"France\",\"Chile\",\"Guatemala\",\"Saudi Arabia\",\"Qatar\",\"Spain\",\"Panama\",\"Brazil\",\"Uruguay\",\"Singapore\",\"El Salvador\",\"Italy\",\"Bahrain\",\"Poland\",\"Uzbekistan\",\"Lithuania\",\"Colombia\",\"Slovenia\",\"Nicaragua\",\"Kosovo\",\"Argentina\",\"Romania\",\"Cyprus\",\"Ecuador\",\"Kuwait\",\"Thailand\",\"Latvia\",\"Estonia\",\"Jamaica\",\"Mauritius\",\"Japan\",\"Honduras\",\"Kazakhstan\",\"Bolivia\",\"Hungary\",\"Paraguay\",\"Peru\",\"Portugal\",\"Pakistan\",\"Philippines\",\"Serbia\",\"Moldova\",\"Libya\",\"Montenegro\",\"Tajikistan\",\"Croatia\",\"Dominican Republic\",\"Bosnia and Herzegovina\",\"Malaysia\",\"Belarus\",\"Greece\",\"Mongolia\",\"North Macedonia\",\"Nigeria\",\"Turkmenistan\",\"Algeria\",\"Morocco\",\"Azerbaijan\",\"Lebanon\",\"Indonesia\",\"China\",\"Bhutan\",\"Cameroon\",\"Bulgaria\",\"Ghana\",\"Nepal\",\"Jordan\",\"Benin\",\"Gabon\",\"South Africa\",\"Albania\",\"Cambodia\",\"Senegal\",\"Somalia\",\"Namibia\",\"Niger\",\"Burkina Faso\",\"Armenia\",\"Guinea\",\"Georgia\",\"Kenya\",\"Mauritania\",\"Mozambique\",\"Tunisia\",\"Bangladesh\",\"Iraq\",\"Mali\",\"Sierra Leone\",\"Sri Lanka\",\"Myanmar\",\"Chad\",\"Ukraine\",\"Ethiopia\",\"Uganda\",\"Zambia\",\"Togo\",\"India\",\"Liberia\",\"Comoros\",\"Madagascar\",\"Lesotho\",\"Burundi\",\"Zimbabwe\",\"Haiti\",\"Botswana\",\"Malawi\",\"Rwanda\",\"Tanzania\",\"Afghanistan\",\"Central African Republic\"],\"visible\":false,\"x\":{\"dtype\":\"f8\",\"bdata\":\"h5YeWaNrT0LBKs+phbBUQtNF54jghFhChJ7gR8GhF0JUX9dnh\\u002fNpQr7DSkf5Q2RCI9t7xwvgX0Jz6BDKhyhIQo9a8h55EnlCzdx0awfOWULNxBNGspVzQi4Q0hYkNSxC3yfHMr0mV0LY4dHEbEsmQmbQ9wLNuYRCP80xowgIUkKPID1hRFuNQvD\\u002fW71Dfl9CAIAFcIXLs0JGvnFnQHNYQpkqq3+ikAtCUqAo24VxckLNXDrG90eEQqpRK92ALk9CTYTm6iOkMUJYVQUijaRoQpPYKUrbBERCKSjkLW9TdEIAAEgdYHsuQnvUN+8uh3pCrQlUcy+OK0KasUgdVGVTQgAAAFU4yRdCH5kQl0mAfUIxiMluJcghQjs7jaHt0GBChgk8gcqtL0JfaaXrYqIoQhdJX+B9ZFJCrLycm1jwKEIl9bfS+MgGQmnSmWNDGf5BKaThFfwJWUIncaxTJeJMQjrjNKI6FxdCAABoCNVWOEInwQpc9b9CQnFNpAPhf15CS1kBiCNpH0KHljYwDZMcQkjQVZQsqgxC5x0\\u002f++k5DEIfVAriO1mTQgbBblimUhVCXop2qM+BQkKE\\u002fjC+dKciQj+VrlIql0JCe9TGwwQfIUIb\\u002fz\\u002fYI59JQuP12+BgNktCiZmoCVRaUkIrt8d6TyFYQgQHlJdTyidCj8LJ18YBB0J2v8XU84wwQkgKpZ214PRB11JuN47wAUIT8hBAjIcsQjWO7ifLwjNCMKqqyzQLE0InUZG9f7NUQnvUunmPGi1CQlCYZQeuR0I8zl5YiIgHQnDOV9\\u002fOZQZCy1mQDloWW0IqSfKpWMMkQjdp5P\\u002f8EEZC\\u002fImR6oOQPUKHhwdXmZElQleMtl07cydCSBmrR3eUb0JmNyNq\\u002f+apQmcKXh4TrOJBxHFMEE4UIkJGFKngB\\u002fUuQl6aNlqDgy5CmRsVynYVIEJtha3HD7okQuPHzzu7rApC\\u002fXaE9EjkDEL6ruOFqBhWQg7PPohvpwxCsTBUTixRIEJ65TFhbDoVQl1cCp0EDgBCLGWcY7XJBkKxYWnBZhsJQjlFx3I6jAxCL24U68K3CUKxUDvqp9MIQsiHvSnfXg9Cxe50Bl7\\u002fNkIl9cDlQw39Qa5YDHU9YQxC1QeBK1QBI0IMiodqJEhVQkQrJJEkEEtCNABrl0DkDkLqz7Wx2gr4QZ3wg6WEJjRCrzVE6cHpMEKJQWEmccAEQri++YoOI0JCidIxzrExNkIirrn9pAggQtlOmybCVBVCHUnUatoh+kEzsWIJ\\u002fm6EQgAAgHnhGOZBxM4UfSvk0UGWsh7l2loJQgtBNGkLQeVB4Sg\\u002fiHZA40F6BxMq1IYXQl1tj3LoDwxCulrHI7I\\u002fD0LXo\\u002fJx5xYEQrkNHzv7oAJCA1gSPRvyK0LZ\\u002feovL8URQh8Rl4X6xuFB\"},\"y\":{\"dtype\":\"f8\",\"bdata\":\"+n5qvHQTH0BmZmZmZmYeQJ7vp8ZLNx5AYOXQItv5HUDByqFFtvMdQOxRuB6F6x1ArBxaZDtfHUDufD81XjodQOkmMQisHB1AlkOLbOf7HEC28\\u002f3UeOkcQF66SQwCqxxAdZMYBFaOHEBcj8L1KFwcQJ7vp8ZLNxxAL90kBoEVHEBxPQrXo\\u002fAbQP7UeOkmsRtAxSCwcmiRG0DNzMzMzEwbQIGVQ4ts5xpA4XoUrkdhGkCR7Xw\\u002fNV4aQC2yne+nxhlAWDm0yHa+GUAAAAAAAIAZQOXQItv5fhlA0SLb+X5qGUBiEFg5tEgZQDMzMzMzMxlAeekmMQgsGUA\\u002fNV66SQwZQFCNl24SAxlAMQisHFrkGECyne+nxssYQO58PzVeuhhAGQRWDi2yGEB\\u002farx0k5gYQAAAAAAAgBhARrbz\\u002fdR4GEDsUbgehWsYQGZmZmZmZhhA8tJNYhBYGEBI4XoUrkcYQMl2vp8aLxhA6SYxCKwcGEAv3SQGgRUYQNV46SYxCBhAw\\u002fUoXI\\u002fCF0DfT42XbpIXQI\\u002fC9ShcjxdAWmQ730+NF0AlBoGVQ4sXQHE9CtejcBdAI9v5fmo8F0AEVg4tsh0XQNV46SYxCBdARrbz\\u002fdT4FkB9PzVeuskWQBKDwMqhxRZA6SYxCKycFkCgGi\\u002fdJIYWQLbz\\u002fdR4aRZABFYOLbIdFkCamZmZmRkWQGQ730+NFxZAke18PzXeFUDufD81XroVQDMzMzMzsxVAJQaBlUOLFUBCYOXQIlsVQJhuEoPAShVA2c73U+MlFUCkcD0K1yMVQH9qvHSTGBVAj8L1KFwPFUCwcmiR7fwUQPLSTWIQ2BRAokW28\\u002f3UFECiRbbz\\u002fdQUQH0\\u002fNV66yRRA+FPjpZvEFEDdJAaBlcMUQIcW2c73UxRAkxgEVg4tFEAlBoGVQwsUQJZDi2zn+xNA9P3UeOmmE0A5tMh2vp8TQNV46SYxiBNAGQRWDi0yE0AX2c73U+MSQMdLN4lB4BJAzczMzMzMEkDTTWIQWLkSQHnpJjEIrBJAdZMYBFaOEkBQjZduEoMSQAwCK4cWWRJAI9v5fmo8EkCJQWDl0CISQPp+arx0ExJA8KfGSzcJEkD2KFyPwvURQHe+nxov3RFA8tJNYhDYEUBt5\\u002fup8dIRQHNoke18vxFAj8L1KFyPEUDl0CLb+X4RQBBYObTIdhFAcT0K16NwEUBmZmZmZmYRQIcW2c73UxFAvp8aL90kEUCoxks3icEQQCGwcmiRbRBA16NwPQpXEECPwvUoXA8QQM3MzMzMzA9AYhBYObTID0AQWDm0yHYPQNEi2\\u002fl+ag5AMzMzMzMzDkDn+6nx0k0NQC2yne+nxgxAgZVDi2znC0BI4XoUrkcLQHnpJjEIrApADAIrhxbZCUA5tMh2vp8JQESLbOf7qQhA\"},\"type\":\"scatter\"},{\"hoverinfo\":\"skip\",\"line\":{\"color\":\"blue\",\"dash\":\"dash\"},\"mode\":\"lines\",\"name\":\"Trend Line\",\"visible\":true,\"x\":{\"dtype\":\"f8\",\"bdata\":\"ZmZmZmZmOEAxYBoDprE4QPxZzp\\u002fl\\u002fDhAyFOCPCVIOUCTTTbZZJM5QF5H6nWk3jlAKkGeEuQpOkD1OlKvI3U6QMA0BkxjwDpAiy666KILO0BWKG6F4lY7QCIiIiIiojtA7RvWvmHtO0C4FYpboTg8QIQPPvjggzxATwnylCDPPEAaA6YxYBo9QOX8Wc6fZT1AsPYNa9+wPUB88MEHH\\u002fw9QEfqdaReRz5AEuQpQZ6SPkDe3d3d3d0+QKnXkXodKT9AdNFFF110P0A\\u002fy\\u002fmznL8\\u002fQIXiVihuBUBAa9+w9g0rQEBQ3ArFrVBAQDbZZJNNdkBAHNa+Ye2bQEAC0xgwjcFAQOfPcv4s50BAzMzMzMwMQUCyySabbDJBQJjGgGkMWEFAfsPaN6x9QUBjwDQGTKNBQEm9jtTryEFALrrooovuQUAUt0JxKxRCQPqznD\\u002fLOUJA37D2DWtfQkDFrVDcCoVCQKqqqqqqqkJAkKcEeUrQQkB2pF5H6vVCQFyhuBWKG0NAQZ4S5ClBQ0Amm2yyyWZDQAyYxoBpjENA8pQgTwmyQ0DYkXodqddDQL2O1OtI\\u002fUNAo4suuugiRECIiIiIiEhEQG6F4lYobkRAVII8JciTREA5f5bzZ7lEQB988MEH30RABHlKkKcERUDqdaReRypFQNBy\\u002fiznT0VAtm9Y+4Z1RUCbbLLJJptFQIBpDJjGwEVAZmZmZmbmRUBMY8A0BgxGQDJgGgOmMUZAF1100UVXRkD9Wc6f5XxGQOJWKG6FokZAyFOCPCXIRkCuUNwKxe1GQJNNNtlkE0dAeUqQpwQ5R0BeR+p1pF5HQEREREREhEdAKkGeEuSpR0AQPvjgg89HQPU6Uq8j9UdA2jesfcMaSEDANAZMY0BIQKYxYBoDZkhAjC666KKLSEBxKxS3QrFIQFcoboXi1khAPCXIU4L8SEAiIiIiIiJJQAgffPDBR0lA7RvWvmFtSUDTGDCNAZNJQLgViluhuElAnhLkKUHeSUCEDz744ANKQGoMmMaAKUpATwnylCBPSkA0BkxjwHRKQBoDpjFgmkpAAAAAAADASkA=\"},\"y\":{\"dtype\":\"f8\",\"bdata\":\"zRbCRItBGUCLfPJQJjgZQEniIl3BLhlAB0hTaVwlGUDFrYN19xsZQIMTtIGSEhlAQHnkjS0JGUD+3hSayP8YQLxERaZj9hhAeqp1sv7sGEA4EKa+meMYQPZ11so02hhAtNsG18\\u002fQGEByQTfjascYQDCnZ+8FvhhA7gyY+6C0GECscsgHPKsYQGrY+BPXoRhAKD4pIHKYGEDmo1ksDY8YQKQJijiohRhAYm+6REN8GEAg1epQ3nIYQN46G115aRhAnKBLaRRgGEBaBnx1r1YYQBhsrIFKTRhA1tHcjeVDGECUNw2agDoYQFKdPaYbMRhAEANusrYnGEDOaJ6+UR4YQIzOzsrsFBhASjT\\u002f1ocLGEAImi\\u002fjIgIYQMb\\u002fX++9+BdAg2WQ+1jvF0BCy8AH9OUXQP8w8ROP3BdAvpYhICrTF0B7\\u002fFEsxckXQDligjhgwBdA98eyRPu2F0C1LeNQlq0XQHOTE10xpBdAMflDacyaF0DvXnR1Z5EXQK3EpIECiBdAayrVjZ1+F0ApkAWaOHUXQOf1NabTaxdApVtmsm5iF0BjwZa+CVkXQCEnx8qkTxdA34z31j9GF0Cd8ifj2jwXQFtYWO91MxdAGL6I+xAqF0DXI7kHrCAXQJSJ6RNHFxdAU+8ZIOINF0AQVUosfQQXQM66ejgY+xZAjCCrRLPxFkBKhttQTugWQAjsC13p3hZAxlE8aYTVFkCEt2x1H8wWQEIdnYG6whZAAIPNjVW5FkC+6P2Z8K8WQHxOLqaLphZAOrResiadFkD4GY++wZMWQLZ\\u002fv8pcihZAdOXv1veAFkAySyDjkncWQPCwUO8tbhZArhaB+8hkFkBsfLEHZFsWQCri4RP\\u002fURZA6EcSIJpIFkCmrUIsNT8WQGQTczjQNRZAInmjRGssFkDg3tNQBiMWQJ5EBF2hGRZAXKo0aTwQFkAaEGV11wYWQNd1lYFy\\u002fRVAltvFjQ30FUBTQfaZqOoVQBKnJqZD4RVAzwxXst7XFUCNcoe+ec4VQEvYt8oUxRVACT7o1q+7FUDHoxjjSrIVQIUJSe\\u002flqBVAQ295+4CfFUA=\"},\"type\":\"scatter\"},{\"hoverinfo\":\"skip\",\"line\":{\"color\":\"blue\",\"dash\":\"dash\"},\"mode\":\"lines\",\"name\":\"Trend Line\",\"visible\":false,\"x\":{\"dtype\":\"f8\",\"bdata\":\"n6v5QqPO0UGejvAWg3dJQvOUrXO0ZVlCS3HxrdMHY0IdGAwizVxpQu++JpbGsW9C4LIgBWADc0JJBi6\\u002f3C12QrJZO3lZWHlCG61IM9aCfEKEAFbtUq1\\u002fQvapsdPna4FCqlO4MCYBg0Jf\\u002fb6NZJaEQhOnxeqiK4ZCyFDMR+HAh0J8+tKkH1aJQjCk2QFe64pC5U3gXpyAjEKZ9+a72hWOQk6h7RgZq49CgiX6uiugkEJcen3pymqRQjbPABhqNZJCECSERgkAk0LqeAd1qMqTQsXNiqNHlZRCnyIO0uZflUJ5d5EAhiqWQlPMFC8l9ZZCLiGYXcS\\u002fl0IIdhuMY4qYQuLKnroCVZlCvB8i6aEfmkKWdKUXQeqaQnHJKEbgtJtCSx6sdH9\\u002fnEIlcy+jHkqdQv\\u002fHstG9FJ5C2hw2AF3fnkK0cbku\\u002fKmfQkZjnq5NOqBCtA3gRZ2foEIhuCHd7AShQo5iY3Q8aqFC+wylC4zPoUJot+ai2zSiQtVhKDormqJCQgxq0Xr\\u002fokKvtqtoymSjQhxh7f8ZyqNCigsvl2kvpEL3tXAuuZSkQmRgssUI+qRC0Qr0XFhfpUI+tTX0p8SlQqtfd4v3KaZCGAq5IkePpkKFtPq5lvSmQvJePFHmWadCYAl+6DW\\u002fp0LNs79\\u002fhSSoQjpeARfViahCpwhDriTvqEIUs4RFdFSpQoFdxtzDualC7gcIdBMfqkJbskkLY4SqQshci6Ky6apCNgfNOQJPq0KjsQ7RUbSrQhBcUGihGaxCfQaS\\u002f\\u002fB+rELqsNOWQOSsQldbFS6QSa1CxAVXxd+urUIxsJhcLxSuQp5a2vN+ea5CDAUci87erkJ5r10iHkSvQuZZn7ltqa9CKoJwqF4HsEJgVxF0BjqwQpcssj+ubLBCzgFTC1afsEIE1\\u002fPW\\u002fdGwQjuslKKlBLFCcYE1bk03sUKoVtY59WmxQt4rdwWdnLFCFQEY0UTPsUJL1ric7AGyQoKrWWiUNLJCuYD6MzxnskLvVZv\\u002f45myQiYrPMuLzLJCXADdljP\\u002fskKT1X1i2zGzQsmqHi6DZLNCAIC\\u002f+SqXs0I=\"},\"y\":{\"dtype\":\"f8\",\"bdata\":\"gml0XjW6FUC29Gm0Fc0VQOp\\u002fXwr23xVAHwtVYNbyFUBTlkq2tgUWQIchQAyXGBZAu6w1YncrFkDvNyu4Vz4WQCPDIA44URZAV04WZBhkFkCM2Qu6+HYWQMBkARDZiRZA9O\\u002f2ZbmcFkAoe+y7ma8WQFwG4hF6whZAkJHXZ1rVFkDFHM29OugWQPmnwhMb+xZALTO4afsNF0Bhvq2\\u002f2yAXQJVJoxW8MxdAydSYa5xGF0D+X47BfFkXQDLrgxddbBdAZnZ5bT1\\u002fF0CaAW\\u002fDHZIXQM6MZBn+pBdAAhhab963F0A2o0\\u002fFvsoXQGsuRRuf3RdAn7k6cX\\u002fwF0DTRDDHXwMYQAfQJR1AFhhAO1sbcyApGEBv5hDJADwYQKRxBh\\u002fhThhA2Pz7dMFhGEAMiPHKoXQYQEAT5yCChxhAdJ7cdmKaGECoKdLMQq0YQNy0xyIjwBhAEUC9eAPTGEBFy7LO4+UYQHlWqCTE+BhAreGdeqQLGUDhbJPQhB4ZQBX4iCZlMRlASoN+fEVEGUB+DnTSJVcZQLKZaSgGahlA5iRffuZ8GUAasFTUxo8ZQE47SiqnohlAgsY\\u002fgIe1GUC3UTXWZ8gZQOvcKixI2xlAH2gggijuGUBT8xXYCAEaQId+Cy7pExpAvAkBhMkmGkDwlPbZqTkaQCQg7C+KTBpAWKvhhWpfGkCMNtfbSnIaQMDBzDErhRpA9EzChwuYGkAo2Lfd66oaQF1jrTPMvRpAke6iiazQGkDFeZjfjOMaQPkEjjVt9hpALpCDi00JG0BiG3nhLRwbQJambjcOLxtAyjFkje5BG0D+vFnjzlQbQDJITzmvZxtAZtNEj496G0CaXjrlb40bQM\\u002fpLztQoBtAA3UlkTCzG0A3ABvnEMYbQGuLED3x2BtAoBYGk9HrG0DUofvosf4bQAgt8T6SERxAPLjmlHIkHEBwQ9zqUjccQKTO0UAzShxA2FnHlhNdHEAM5bzs828cQEFwskLUghxAdfunmLSVHECphp3ulKgcQN0Rk0R1uxxAEZ2ImlXOHEBGKH7wNeEcQHqzc0YW9BxArj5pnPYGHUA=\"},\"type\":\"scatter\"},{\"hoverinfo\":\"skip\",\"line\":{\"color\":\"blue\",\"dash\":\"dash\"},\"mode\":\"lines\",\"name\":\"Trend Line\",\"visible\":false,\"x\":{\"dtype\":\"f8\",\"bdata\":\"xM4UfSvk0UECupQnXrtJQjOlF\\u002fx5qVlCsnYycqI6Y0LLGlnmh6BpQnLfP602A3BCfzFTZyk2c0KMg2YhHGl2QpjVedsOnHlCpCeNlQHPfELYPNAn+gCAQt\\u002fl2YRzmoFC5Y7j4ewzg0LrN+0+Zs2EQvLg9pvfZoZC+IkA+VgAiEL+MgpW0pmJQgTcE7NLM4tCCoUdEMXMjEIRLidtPmaOQhfXMMq3\\u002f49CD0Cdk5jMkEKSFCJCVZmRQhXppvARZpJCmL0rn84yk0IbkrBNi\\u002f+TQp5mNfxHzJRCITu6qgSZlUKlDz9ZwWWWQijkwwd+MpdCq7hItjr\\u002fl0Iujc1k98uYQrFhUhO0mJlCNDbXwXBlmkK3ClxwLTKbQjrf4B7q\\u002fptCvbNlzabLnEJBiOp7Y5idQsRcbyogZZ5CRzH02Nwxn0LKBXmHmf6fQibt\\u002fhqrZaBCaFdBcgnMoEKpwYPJZzKhQusrxiDGmKFCLJYIeCT\\u002foUJuAEvPgmWiQq9qjSbhy6JC8dTPfT8yo0IzPxLVnZijQnSpVCz8\\u002fqNCthOXg1plpEL3fdnauMukQjnoGzIXMqVCelJeiXWYpUK8vKDg0\\u002f6lQv4m4zcyZaZCP5Elj5DLpkKB+2fm7jGnQsJlqj1NmKdCBNDslKv+p0JFOi\\u002fsCWWoQoekcUNoy6hCyA60msYxqUIKefbxJJipQkzjOEmD\\u002fqlCjU17oOFkqkLPt733P8uqQhAiAE+eMatCUoxCpvyXq0KT9oT9Wv6rQtVgx1S5ZKxCFssJrBfLrEJYNUwDdjGtQpqfjlrUl61C2wnRsTL+rUIddBMJkWSuQl7eVWDvyq5CoEiYt00xr0LhstoOrJevQiMdHWYK\\u002fq9CssOvXjQysELT+FCKY2WwQvQt8rWSmLBCFWOT4cHLsEI1mDQN8f6wQlbN1TggMrFCdwJ3ZE9lsUKYNxiQfpixQrlsubuty7FC2aFa59z+sUL61vsSDDKyQhsMnT47ZbJCPEE+amqYskJcdt+VmcuyQn2rgMHI\\u002frJCnuAh7fcxs0K\\u002fFcMYJ2WzQuBKZERWmLNCAIAFcIXLs0I=\"},\"y\":{\"dtype\":\"f8\",\"bdata\":\"4B7hB+i6FUCMxuEZvM0VQDhu4iuQ4BVA4xXjPWTzFUCPveNPOAYWQDtl5GEMGRZA5gzlc+ArFkCStOWFtD4WQD5c5peIURZA6QPnqVxkFkCVq+e7MHcWQEFT6M0EihZA7Pro39icFkCYounxrK8WQERK6gOBwhZA7\\u002fHqFVXVFkCbmesnKegWQEZB7Dn9+hZA8ujsS9ENF0CekO1dpSAXQEk47m95MxdA9d\\u002fugU1GF0Chh++TIVkXQEwv8KX1axdA+Nbwt8l+F0CkfvHJnZEXQE8m8ttxpBdA+83y7UW3F0CndfP\\u002fGcoXQFId9BHu3BdA\\u002fsT0I8LvF0CqbPU1lgIYQFUU9kdqFRhAAbz2WT4oGECsY\\u002fdrEjsYQFgL+H3mTRhABLP4j7pgGECwWvmhjnMYQFsC+rNihhhAB6r6xTaZGECyUfvXCqwYQF75++nevhhACqH8+7LRGEC1SP0Nh+QYQGHw\\u002fR9b9xhADZj+MS8KGUC4P\\u002f9DAx0ZQGTn\\u002f1XXLxlAEI8AaKtCGUC7NgF6f1UZQGfeAYxTaBlAE4YCnid7GUC+LQOw+40ZQGrVA8LPoBlAFX0E1KOzGUDBJAXmd8YZQG3MBfhL2RlAGHQGCiDsGUDEGwcc9P4ZQHDDBy7IERpAHGsIQJwkGkDHEglScDcaQHO6CWREShpAHmIKdhhdGkDKCQuI7G8aQHaxC5rAghpAIVkMrJSVGkDNAA2+aKgaQHioDdA8uxpAJFAO4hDOGkDQ9w705OAaQHyfDwa58xpAJ0cQGI0GG0DT7hAqYRkbQH6WETw1LBtAKj4STgk\\u002fG0DW5RJg3VEbQIKNE3KxZBtALTUUhIV3G0DZ3BSWWYobQISEFagtnRtAMCwWugGwG0Dc0xbM1cIbQIh7F96p1RtAMyMY8H3oG0DeyhgCUvsbQIpyGRQmDhxANhoaJvogHEDiwRo4zjMcQI5pG0qiRhxAOREcXHZZHEDkuBxuSmwcQJBgHYAefxxAPAgekvKRHEDnrx6kxqQcQJNXH7aatxxAP\\u002f8fyG7KHEDqpiDaQt0cQJZOIewW8BxAQvYh\\u002fuoCHUA=\"},\"type\":\"scatter\"}],                        {\"autosize\":false,\"height\":600,\"hoverlabel\":{\"font\":{\"size\":12}},\"legend\":{\"borderwidth\":0,\"font\":{\"size\":12},\"x\":0.01,\"y\":0.99},\"margin\":{\"b\":80,\"l\":80,\"r\":80,\"t\":80},\"showlegend\":true,\"sliders\":[{\"active\":0,\"currentvalue\":{\"prefix\":\"Metric: \"},\"len\":0.9,\"pad\":{\"t\":50},\"steps\":[{\"args\":[{\"visible\":[true,false,false,true,false,false]},{\"title\":\"Happiness vs Gini Index\",\"xaxis\":{\"title\":\"Gini Index\",\"range\":[24.4,53.5],\"fixedrange\":true},\"yaxis\":{\"title\":\"Happiness\",\"range\":[2.853,7.769],\"fixedrange\":true}}],\"label\":\"Gini Index\",\"method\":\"update\"},{\"args\":[{\"visible\":[false,true,false,false,true,false]},{\"title\":\"Happiness vs GDP per Capita\",\"xaxis\":{\"title\":\"GDP per Capita (USD)\",\"range\":[1195019531.9011,500000000000.0],\"fixedrange\":true},\"yaxis\":{\"title\":\"Happiness\",\"range\":[2.853,7.769],\"fixedrange\":true}}],\"label\":\"GDP per Capita\",\"method\":\"update\"},{\"args\":[{\"visible\":[false,false,true,false,false,true]},{\"title\":\"Happiness vs GNI per Capita\",\"xaxis\":{\"title\":\"GNI per Capita (USD)\",\"range\":[1200664052.32512,500000000000.0],\"fixedrange\":true},\"yaxis\":{\"title\":\"Happiness\",\"range\":[2.853,7.769],\"fixedrange\":true}}],\"label\":\"GNI per Capita\",\"method\":\"update\"}],\"x\":0.1,\"xanchor\":\"left\"}],\"template\":{\"data\":{\"barpolar\":[{\"marker\":{\"line\":{\"color\":\"#E5ECF6\",\"width\":0.5},\"pattern\":{\"fillmode\":\"overlay\",\"size\":10,\"solidity\":0.2}},\"type\":\"barpolar\"}],\"bar\":[{\"error_x\":{\"color\":\"#2a3f5f\"},\"error_y\":{\"color\":\"#2a3f5f\"},\"marker\":{\"line\":{\"color\":\"#E5ECF6\",\"width\":0.5},\"pattern\":{\"fillmode\":\"overlay\",\"size\":10,\"solidity\":0.2}},\"type\":\"bar\"}],\"carpet\":[{\"aaxis\":{\"endlinecolor\":\"#2a3f5f\",\"gridcolor\":\"white\",\"linecolor\":\"white\",\"minorgridcolor\":\"white\",\"startlinecolor\":\"#2a3f5f\"},\"baxis\":{\"endlinecolor\":\"#2a3f5f\",\"gridcolor\":\"white\",\"linecolor\":\"white\",\"minorgridcolor\":\"white\",\"startlinecolor\":\"#2a3f5f\"},\"type\":\"carpet\"}],\"choropleth\":[{\"colorbar\":{\"outlinewidth\":0,\"ticks\":\"\"},\"type\":\"choropleth\"}],\"contourcarpet\":[{\"colorbar\":{\"outlinewidth\":0,\"ticks\":\"\"},\"type\":\"contourcarpet\"}],\"contour\":[{\"colorbar\":{\"outlinewidth\":0,\"ticks\":\"\"},\"colorscale\":[[0.0,\"#0d0887\"],[0.1111111111111111,\"#46039f\"],[0.2222222222222222,\"#7201a8\"],[0.3333333333333333,\"#9c179e\"],[0.4444444444444444,\"#bd3786\"],[0.5555555555555556,\"#d8576b\"],[0.6666666666666666,\"#ed7953\"],[0.7777777777777778,\"#fb9f3a\"],[0.8888888888888888,\"#fdca26\"],[1.0,\"#f0f921\"]],\"type\":\"contour\"}],\"heatmap\":[{\"colorbar\":{\"outlinewidth\":0,\"ticks\":\"\"},\"colorscale\":[[0.0,\"#0d0887\"],[0.1111111111111111,\"#46039f\"],[0.2222222222222222,\"#7201a8\"],[0.3333333333333333,\"#9c179e\"],[0.4444444444444444,\"#bd3786\"],[0.5555555555555556,\"#d8576b\"],[0.6666666666666666,\"#ed7953\"],[0.7777777777777778,\"#fb9f3a\"],[0.8888888888888888,\"#fdca26\"],[1.0,\"#f0f921\"]],\"type\":\"heatmap\"}],\"histogram2dcontour\":[{\"colorbar\":{\"outlinewidth\":0,\"ticks\":\"\"},\"colorscale\":[[0.0,\"#0d0887\"],[0.1111111111111111,\"#46039f\"],[0.2222222222222222,\"#7201a8\"],[0.3333333333333333,\"#9c179e\"],[0.4444444444444444,\"#bd3786\"],[0.5555555555555556,\"#d8576b\"],[0.6666666666666666,\"#ed7953\"],[0.7777777777777778,\"#fb9f3a\"],[0.8888888888888888,\"#fdca26\"],[1.0,\"#f0f921\"]],\"type\":\"histogram2dcontour\"}],\"histogram2d\":[{\"colorbar\":{\"outlinewidth\":0,\"ticks\":\"\"},\"colorscale\":[[0.0,\"#0d0887\"],[0.1111111111111111,\"#46039f\"],[0.2222222222222222,\"#7201a8\"],[0.3333333333333333,\"#9c179e\"],[0.4444444444444444,\"#bd3786\"],[0.5555555555555556,\"#d8576b\"],[0.6666666666666666,\"#ed7953\"],[0.7777777777777778,\"#fb9f3a\"],[0.8888888888888888,\"#fdca26\"],[1.0,\"#f0f921\"]],\"type\":\"histogram2d\"}],\"histogram\":[{\"marker\":{\"pattern\":{\"fillmode\":\"overlay\",\"size\":10,\"solidity\":0.2}},\"type\":\"histogram\"}],\"mesh3d\":[{\"colorbar\":{\"outlinewidth\":0,\"ticks\":\"\"},\"type\":\"mesh3d\"}],\"parcoords\":[{\"line\":{\"colorbar\":{\"outlinewidth\":0,\"ticks\":\"\"}},\"type\":\"parcoords\"}],\"pie\":[{\"automargin\":true,\"type\":\"pie\"}],\"scatter3d\":[{\"line\":{\"colorbar\":{\"outlinewidth\":0,\"ticks\":\"\"}},\"marker\":{\"colorbar\":{\"outlinewidth\":0,\"ticks\":\"\"}},\"type\":\"scatter3d\"}],\"scattercarpet\":[{\"marker\":{\"colorbar\":{\"outlinewidth\":0,\"ticks\":\"\"}},\"type\":\"scattercarpet\"}],\"scattergeo\":[{\"marker\":{\"colorbar\":{\"outlinewidth\":0,\"ticks\":\"\"}},\"type\":\"scattergeo\"}],\"scattergl\":[{\"marker\":{\"colorbar\":{\"outlinewidth\":0,\"ticks\":\"\"}},\"type\":\"scattergl\"}],\"scattermapbox\":[{\"marker\":{\"colorbar\":{\"outlinewidth\":0,\"ticks\":\"\"}},\"type\":\"scattermapbox\"}],\"scattermap\":[{\"marker\":{\"colorbar\":{\"outlinewidth\":0,\"ticks\":\"\"}},\"type\":\"scattermap\"}],\"scatterpolargl\":[{\"marker\":{\"colorbar\":{\"outlinewidth\":0,\"ticks\":\"\"}},\"type\":\"scatterpolargl\"}],\"scatterpolar\":[{\"marker\":{\"colorbar\":{\"outlinewidth\":0,\"ticks\":\"\"}},\"type\":\"scatterpolar\"}],\"scatter\":[{\"fillpattern\":{\"fillmode\":\"overlay\",\"size\":10,\"solidity\":0.2},\"type\":\"scatter\"}],\"scatterternary\":[{\"marker\":{\"colorbar\":{\"outlinewidth\":0,\"ticks\":\"\"}},\"type\":\"scatterternary\"}],\"surface\":[{\"colorbar\":{\"outlinewidth\":0,\"ticks\":\"\"},\"colorscale\":[[0.0,\"#0d0887\"],[0.1111111111111111,\"#46039f\"],[0.2222222222222222,\"#7201a8\"],[0.3333333333333333,\"#9c179e\"],[0.4444444444444444,\"#bd3786\"],[0.5555555555555556,\"#d8576b\"],[0.6666666666666666,\"#ed7953\"],[0.7777777777777778,\"#fb9f3a\"],[0.8888888888888888,\"#fdca26\"],[1.0,\"#f0f921\"]],\"type\":\"surface\"}],\"table\":[{\"cells\":{\"fill\":{\"color\":\"#EBF0F8\"},\"line\":{\"color\":\"white\"}},\"header\":{\"fill\":{\"color\":\"#C8D4E3\"},\"line\":{\"color\":\"white\"}},\"type\":\"table\"}]},\"layout\":{\"annotationdefaults\":{\"arrowcolor\":\"#2a3f5f\",\"arrowhead\":0,\"arrowwidth\":1},\"autotypenumbers\":\"strict\",\"coloraxis\":{\"colorbar\":{\"outlinewidth\":0,\"ticks\":\"\"}},\"colorscale\":{\"diverging\":[[0,\"#8e0152\"],[0.1,\"#c51b7d\"],[0.2,\"#de77ae\"],[0.3,\"#f1b6da\"],[0.4,\"#fde0ef\"],[0.5,\"#f7f7f7\"],[0.6,\"#e6f5d0\"],[0.7,\"#b8e186\"],[0.8,\"#7fbc41\"],[0.9,\"#4d9221\"],[1,\"#276419\"]],\"sequential\":[[0.0,\"#0d0887\"],[0.1111111111111111,\"#46039f\"],[0.2222222222222222,\"#7201a8\"],[0.3333333333333333,\"#9c179e\"],[0.4444444444444444,\"#bd3786\"],[0.5555555555555556,\"#d8576b\"],[0.6666666666666666,\"#ed7953\"],[0.7777777777777778,\"#fb9f3a\"],[0.8888888888888888,\"#fdca26\"],[1.0,\"#f0f921\"]],\"sequentialminus\":[[0.0,\"#0d0887\"],[0.1111111111111111,\"#46039f\"],[0.2222222222222222,\"#7201a8\"],[0.3333333333333333,\"#9c179e\"],[0.4444444444444444,\"#bd3786\"],[0.5555555555555556,\"#d8576b\"],[0.6666666666666666,\"#ed7953\"],[0.7777777777777778,\"#fb9f3a\"],[0.8888888888888888,\"#fdca26\"],[1.0,\"#f0f921\"]]},\"colorway\":[\"#636efa\",\"#EF553B\",\"#00cc96\",\"#ab63fa\",\"#FFA15A\",\"#19d3f3\",\"#FF6692\",\"#B6E880\",\"#FF97FF\",\"#FECB52\"],\"font\":{\"color\":\"#2a3f5f\"},\"geo\":{\"bgcolor\":\"white\",\"lakecolor\":\"white\",\"landcolor\":\"#E5ECF6\",\"showlakes\":true,\"showland\":true,\"subunitcolor\":\"white\"},\"hoverlabel\":{\"align\":\"left\"},\"hovermode\":\"closest\",\"mapbox\":{\"style\":\"light\"},\"paper_bgcolor\":\"white\",\"plot_bgcolor\":\"#E5ECF6\",\"polar\":{\"angularaxis\":{\"gridcolor\":\"white\",\"linecolor\":\"white\",\"ticks\":\"\"},\"bgcolor\":\"#E5ECF6\",\"radialaxis\":{\"gridcolor\":\"white\",\"linecolor\":\"white\",\"ticks\":\"\"}},\"scene\":{\"xaxis\":{\"backgroundcolor\":\"#E5ECF6\",\"gridcolor\":\"white\",\"gridwidth\":2,\"linecolor\":\"white\",\"showbackground\":true,\"ticks\":\"\",\"zerolinecolor\":\"white\"},\"yaxis\":{\"backgroundcolor\":\"#E5ECF6\",\"gridcolor\":\"white\",\"gridwidth\":2,\"linecolor\":\"white\",\"showbackground\":true,\"ticks\":\"\",\"zerolinecolor\":\"white\"},\"zaxis\":{\"backgroundcolor\":\"#E5ECF6\",\"gridcolor\":\"white\",\"gridwidth\":2,\"linecolor\":\"white\",\"showbackground\":true,\"ticks\":\"\",\"zerolinecolor\":\"white\"}},\"shapedefaults\":{\"line\":{\"color\":\"#2a3f5f\"}},\"ternary\":{\"aaxis\":{\"gridcolor\":\"white\",\"linecolor\":\"white\",\"ticks\":\"\"},\"baxis\":{\"gridcolor\":\"white\",\"linecolor\":\"white\",\"ticks\":\"\"},\"bgcolor\":\"#E5ECF6\",\"caxis\":{\"gridcolor\":\"white\",\"linecolor\":\"white\",\"ticks\":\"\"}},\"title\":{\"x\":0.05},\"xaxis\":{\"automargin\":true,\"gridcolor\":\"white\",\"linecolor\":\"white\",\"ticks\":\"\",\"title\":{\"standoff\":15},\"zerolinecolor\":\"white\",\"zerolinewidth\":2},\"yaxis\":{\"automargin\":true,\"gridcolor\":\"white\",\"linecolor\":\"white\",\"ticks\":\"\",\"title\":{\"standoff\":15},\"zerolinecolor\":\"white\",\"zerolinewidth\":2}}},\"title\":{\"text\":\"Happiness vs Gini Index\"},\"width\":900,\"xaxis\":{\"automargin\":false,\"fixedrange\":true,\"range\":[24.4,53.5],\"tickfont\":{\"size\":12},\"title\":{\"font\":{\"size\":14},\"text\":\"Gini Index\"}},\"yaxis\":{\"automargin\":false,\"autorange\":\"reversed\",\"dtick\":1,\"fixedrange\":true,\"range\":[2.853,7.769],\"tickfont\":{\"size\":12},\"tickmode\":\"linear\",\"title\":{\"font\":{\"size\":14},\"text\":\"Happiness\"}}},                        {\"responsive\": true}                    ).then(function(){\n",
       "                            \n",
       "var gd = document.getElementById('9d3e4c4f-d57a-4b91-b83e-36f098f6ac99');\n",
       "var x = new MutationObserver(function (mutations, observer) {{\n",
       "        var display = window.getComputedStyle(gd).display;\n",
       "        if (!display || display === 'none') {{\n",
       "            console.log([gd, 'removed!']);\n",
       "            Plotly.purge(gd);\n",
       "            observer.disconnect();\n",
       "        }}\n",
       "}});\n",
       "\n",
       "// Listen for the removal of the full notebook cells\n",
       "var notebookContainer = gd.closest('#notebook-container');\n",
       "if (notebookContainer) {{\n",
       "    x.observe(notebookContainer, {childList: true});\n",
       "}}\n",
       "\n",
       "// Listen for the clearing of the current output cell\n",
       "var outputEl = gd.closest('.output');\n",
       "if (outputEl) {{\n",
       "    x.observe(outputEl, {childList: true});\n",
       "}}\n",
       "\n",
       "                        })                };            </script>        </div>"
      ]
     },
     "metadata": {},
     "output_type": "display_data"
    }
   ],
   "source": [
    "import pandas as pd\n",
    "import numpy as np\n",
    "import plotly.graph_objects as go\n",
    "from plotly.offline import init_notebook_mode, iplot\n",
    "\n",
    "init_notebook_mode(connected=True)\n",
    "\n",
    "df = pd.read_csv('final.csv')\n",
    "\n",
    "df['Happiness_rank'] = df['Happiness'].rank(method='min', ascending=False).astype(int)\n",
    "total_countries = df['Country'].nunique()\n",
    "\n",
    "df_gini = df.dropna(subset=['Gini_index', 'Happiness', 'Country', 'Happiness_rank'])\n",
    "df_gdp  = df.dropna(subset=['GDP_current_usd', 'Happiness', 'Country', 'Happiness_rank'])\n",
    "df_gni  = df.dropna(subset=['GNI_current_usd', 'Happiness', 'Country', 'Happiness_rank'])\n",
    "\n",
    "# Zoomed-in x-axis ranges (but full data still used for trendlines)\n",
    "x_range_gini = [df_gini['Gini_index'].min(), df_gini['Gini_index'].max()]\n",
    "x_range_gdp  = [df_gdp['GDP_current_usd'].min(), 5e11]  # 0.5 trillion\n",
    "x_range_gni  = [df_gni['GNI_current_usd'].min(), 5e11]  # 0.5 trillion\n",
    "y_range      = [df['Happiness'].min(), df['Happiness'].max()]\n",
    "\n",
    "def add_trend_trace(x, y, color, visible=True):\n",
    "    x_vals = x.values\n",
    "    y_vals = y.values\n",
    "    slope, intercept = np.polyfit(x_vals, y_vals, 1)\n",
    "    x_trend = np.linspace(min(x_vals), max(x_vals), 100)\n",
    "    y_trend = slope * x_trend + intercept\n",
    "    \n",
    "    return go.Scatter(\n",
    "        x=x_trend,\n",
    "        y=y_trend,\n",
    "        mode='lines',\n",
    "        line=dict(color=color, dash='dash'),\n",
    "        name='Trend Line',\n",
    "        visible=visible,\n",
    "        hoverinfo='skip'\n",
    "    )\n",
    "\n",
    "trace_gini = go.Scatter(\n",
    "    x=df_gini['Gini_index'],\n",
    "    y=df_gini['Happiness'],\n",
    "    mode='markers',\n",
    "    name='Gini Index',\n",
    "    visible=True,\n",
    "    text=df_gini['Country'],\n",
    "    customdata=df_gini['Happiness_rank'],\n",
    "    hovertemplate=(\n",
    "        \"Country: %{text}<br>\"\n",
    "        f\"Rank: %{{customdata}} out of {total_countries}<br>\"\n",
    "        \"Gini Index: %{x:.1f}<br>\"\n",
    "        \"Happiness: %{y:.2f}<extra></extra>\"\n",
    "    )\n",
    ")\n",
    "\n",
    "trace_gdp = go.Scatter(\n",
    "    x=df_gdp['GDP_current_usd'],\n",
    "    y=df_gdp['Happiness'],\n",
    "    mode='markers',\n",
    "    name='GDP per Capita',\n",
    "    visible=False,\n",
    "    text=df_gdp['Country'],\n",
    "    customdata=df_gdp['Happiness_rank'],\n",
    "    hovertemplate=(\n",
    "        \"Country: %{text}<br>\"\n",
    "        f\"Rank: %{{customdata}} out of {total_countries}<br>\"\n",
    "        \"GDP per Capita: $%{x:,.0f}<br>\"\n",
    "        \"Happiness: %{y:.2f}<extra></extra>\"\n",
    "    )\n",
    ")\n",
    "\n",
    "trace_gni = go.Scatter(\n",
    "    x=df_gni['GNI_current_usd'],\n",
    "    y=df_gni['Happiness'],\n",
    "    mode='markers',\n",
    "    name='GNI per Capita',\n",
    "    visible=False,\n",
    "    text=df_gni['Country'],\n",
    "    customdata=df_gni['Happiness_rank'],\n",
    "    hovertemplate=(\n",
    "        \"Country: %{text}<br>\"\n",
    "        f\"Rank: %{{customdata}} out of {total_countries}<br>\"\n",
    "        \"GNI per Capita: $%{x:,.0f}<br>\"\n",
    "        \"Happiness: %{y:.2f}<extra></extra>\"\n",
    "    )\n",
    ")\n",
    "\n",
    "trend_gini = add_trend_trace(df_gini['Gini_index'], df_gini['Happiness'], 'blue', True)\n",
    "trend_gdp  = add_trend_trace(df_gdp['GDP_current_usd'], df_gdp['Happiness'], 'blue', False)\n",
    "trend_gni  = add_trend_trace(df_gni['GNI_current_usd'], df_gni['Happiness'], 'blue', False)\n",
    "\n",
    "fig = go.Figure(data=[trace_gini, trace_gdp, trace_gni, trend_gini, trend_gdp, trend_gni])\n",
    "\n",
    "steps = [\n",
    "    dict(method='update', label='Gini Index',\n",
    "         args=[{'visible': [True, False, False, True, False, False]},\n",
    "               {'title': 'Happiness vs Gini Index',\n",
    "                'xaxis': {'title': 'Gini Index', 'range': x_range_gini, 'fixedrange': True},\n",
    "                'yaxis': {'title': 'Happiness', 'range': y_range, 'fixedrange': True}}]),\n",
    "    dict(method='update', label='GDP per Capita',\n",
    "         args=[{'visible': [False, True, False, False, True, False]},\n",
    "               {'title': 'Happiness vs GDP per Capita',\n",
    "                'xaxis': {'title': 'GDP per Capita (USD)', 'range': x_range_gdp, 'fixedrange': True},\n",
    "                'yaxis': {'title': 'Happiness', 'range': y_range, 'fixedrange': True}}]),\n",
    "    dict(method='update', label='GNI per Capita',\n",
    "         args=[{'visible': [False, False, True, False, False, True]},\n",
    "               {'title': 'Happiness vs GNI per Capita',\n",
    "                'xaxis': {'title': 'GNI per Capita (USD)', 'range': x_range_gni, 'fixedrange': True},\n",
    "                'yaxis': {'title': 'Happiness', 'range': y_range, 'fixedrange': True}}])\n",
    "]\n",
    "\n",
    "fig.update_layout(\n",
    "    sliders=[dict(\n",
    "        active=0,\n",
    "        currentvalue={'prefix': 'Metric: '},\n",
    "        pad={'t': 50},\n",
    "        steps=steps,\n",
    "        len=0.9,\n",
    "        x=0.1,\n",
    "        xanchor='left'\n",
    "    )],\n",
    "    title=\"Happiness vs Gini Index\",\n",
    "    width=900,\n",
    "    height=600,\n",
    "    autosize=False,\n",
    "    margin=dict(t=80, b=80, l=80, r=80),\n",
    "    xaxis=dict(\n",
    "        title=dict(text='Gini Index', font=dict(size=14)),\n",
    "        range=x_range_gini,\n",
    "        fixedrange=True,\n",
    "        tickfont=dict(size=12),\n",
    "        automargin=False\n",
    "    ),\n",
    "    yaxis=dict(\n",
    "        title=dict(text='Happiness', font=dict(size=14)),\n",
    "        range=y_range,\n",
    "        fixedrange=True,\n",
    "        tickmode='linear',\n",
    "        dtick=1,\n",
    "        tickfont=dict(size=12),\n",
    "        automargin=False,\n",
    "        autorange='reversed'\n",
    "    ),\n",
    "    hoverlabel=dict(font=dict(size=12)),\n",
    "    showlegend=True,\n",
    "    legend=dict(\n",
    "        font=dict(size=12),\n",
    "        x=0.01, y=0.99,\n",
    "        borderwidth=0\n",
    "    )\n",
    ")\n",
    "\n",
    "iplot(fig)\n"
   ]
  },
  {
   "cell_type": "markdown",
   "id": "ec017c70",
   "metadata": {},
   "source": [
    "**Money does not buy happiness**\n",
    "\n",
    "Economic wealth could explain some of the variation in national happiness. However, other societal indicators may offer different insights. To further investigate the what influences the way people perceive their happiness, we examined its relationship with education expenditure, unemployment rate, and life expectancy.\n",
    "\n",
    "In the plot about Happiness vs Education Expenditure, there is a slight positive trend. Countries that allocate a higher percentage of their GDP to education generally report higher happiness levels according to the dataset. It suggests that investment in quality education contributes to societal well-being and happiness.\n",
    "\n",
    "The plot about Happiness vs Unemployment Rate has a slight negative trendline: as unemployment increases, average happiness declines according to the dataset. This is a result in line with previous research like Winkelmann (2014), which found that unemployment consistently and significantly reduces life satisfaction and caused a reduction in the happiness score recorded, both due to economic insecurity and the psychological toll of uncertainty.\n",
    "\n",
    "In the plot about Happiness vs Life Expectancy, a positive correlation can be read from the regression line. Countries where people live longer also tend to report higher happiness scores. This relationship is likely tied to broader indicators of public health and quality of life. As with education, longer life expectancy reflects better healthcare systems, better nutrition, and a better environments, all of this tends to go hand-in-hand with happiness.\n"
   ]
  },
  {
   "cell_type": "code",
   "execution_count": 2,
   "id": "1d91aaa7",
   "metadata": {
    "tags": [
     "remove-input"
    ]
   },
   "outputs": [
    {
     "data": {
      "text/html": [
       "        <script type=\"text/javascript\">\n",
       "        window.PlotlyConfig = {MathJaxConfig: 'local'};\n",
       "        if (window.MathJax && window.MathJax.Hub && window.MathJax.Hub.Config) {window.MathJax.Hub.Config({SVG: {font: \"STIX-Web\"}});}\n",
       "        </script>\n",
       "        <script type=\"module\">import \"https://cdn.plot.ly/plotly-3.0.1.min\"</script>\n",
       "        "
      ]
     },
     "metadata": {},
     "output_type": "display_data"
    },
    {
     "ename": "NameError",
     "evalue": "name 'LinearRegression' is not defined",
     "output_type": "error",
     "traceback": [
      "\u001b[1;31m---------------------------------------------------------------------------\u001b[0m",
      "\u001b[1;31mNameError\u001b[0m                                 Traceback (most recent call last)",
      "Cell \u001b[1;32mIn[2], line 90\u001b[0m\n\u001b[0;32m     58\u001b[0m trace_unemp \u001b[38;5;241m=\u001b[39m go\u001b[38;5;241m.\u001b[39mScatter(\n\u001b[0;32m     59\u001b[0m     x\u001b[38;5;241m=\u001b[39mdf_unemp[\u001b[38;5;124m'\u001b[39m\u001b[38;5;124mUnemployment_rate\u001b[39m\u001b[38;5;124m'\u001b[39m],\n\u001b[0;32m     60\u001b[0m     y\u001b[38;5;241m=\u001b[39mdf_unemp[\u001b[38;5;124m'\u001b[39m\u001b[38;5;124mHappiness\u001b[39m\u001b[38;5;124m'\u001b[39m],\n\u001b[1;32m   (...)\u001b[0m\n\u001b[0;32m     71\u001b[0m     )\n\u001b[0;32m     72\u001b[0m )\n\u001b[0;32m     74\u001b[0m trace_le \u001b[38;5;241m=\u001b[39m go\u001b[38;5;241m.\u001b[39mScatter(\n\u001b[0;32m     75\u001b[0m     x\u001b[38;5;241m=\u001b[39mdf_le[\u001b[38;5;124m'\u001b[39m\u001b[38;5;124mLife_expectancy\u001b[39m\u001b[38;5;124m'\u001b[39m],\n\u001b[0;32m     76\u001b[0m     y\u001b[38;5;241m=\u001b[39mdf_le[\u001b[38;5;124m'\u001b[39m\u001b[38;5;124mHappiness\u001b[39m\u001b[38;5;124m'\u001b[39m],\n\u001b[1;32m   (...)\u001b[0m\n\u001b[0;32m     87\u001b[0m     )\n\u001b[0;32m     88\u001b[0m )\n\u001b[1;32m---> 90\u001b[0m trend_edu \u001b[38;5;241m=\u001b[39m \u001b[43madd_trend_trace\u001b[49m\u001b[43m(\u001b[49m\u001b[43mdf_edu\u001b[49m\u001b[43m[\u001b[49m\u001b[38;5;124;43m'\u001b[39;49m\u001b[38;5;124;43mEdu_expenditure_pct\u001b[39;49m\u001b[38;5;124;43m'\u001b[39;49m\u001b[43m]\u001b[49m\u001b[43m,\u001b[49m\u001b[43m \u001b[49m\u001b[43mdf_edu\u001b[49m\u001b[43m[\u001b[49m\u001b[38;5;124;43m'\u001b[39;49m\u001b[38;5;124;43mHappiness\u001b[39;49m\u001b[38;5;124;43m'\u001b[39;49m\u001b[43m]\u001b[49m\u001b[43m,\u001b[49m\u001b[43m \u001b[49m\u001b[38;5;124;43m'\u001b[39;49m\u001b[38;5;124;43mblue\u001b[39;49m\u001b[38;5;124;43m'\u001b[39;49m\u001b[43m,\u001b[49m\u001b[43m \u001b[49m\u001b[38;5;28;43;01mTrue\u001b[39;49;00m\u001b[43m)\u001b[49m\n\u001b[0;32m     91\u001b[0m trend_unemp \u001b[38;5;241m=\u001b[39m add_trend_trace(df_unemp[\u001b[38;5;124m'\u001b[39m\u001b[38;5;124mUnemployment_rate\u001b[39m\u001b[38;5;124m'\u001b[39m], df_unemp[\u001b[38;5;124m'\u001b[39m\u001b[38;5;124mHappiness\u001b[39m\u001b[38;5;124m'\u001b[39m], \u001b[38;5;124m'\u001b[39m\u001b[38;5;124mblue\u001b[39m\u001b[38;5;124m'\u001b[39m, \u001b[38;5;28;01mFalse\u001b[39;00m)\n\u001b[0;32m     92\u001b[0m trend_le \u001b[38;5;241m=\u001b[39m add_trend_trace(df_le[\u001b[38;5;124m'\u001b[39m\u001b[38;5;124mLife_expectancy\u001b[39m\u001b[38;5;124m'\u001b[39m], df_le[\u001b[38;5;124m'\u001b[39m\u001b[38;5;124mHappiness\u001b[39m\u001b[38;5;124m'\u001b[39m], \u001b[38;5;124m'\u001b[39m\u001b[38;5;124mblue\u001b[39m\u001b[38;5;124m'\u001b[39m, \u001b[38;5;28;01mFalse\u001b[39;00m)\n",
      "Cell \u001b[1;32mIn[2], line 26\u001b[0m, in \u001b[0;36madd_trend_trace\u001b[1;34m(x, y, color, visible)\u001b[0m\n\u001b[0;32m     23\u001b[0m x_vals \u001b[38;5;241m=\u001b[39m x\u001b[38;5;241m.\u001b[39mvalues\u001b[38;5;241m.\u001b[39mreshape(\u001b[38;5;241m-\u001b[39m\u001b[38;5;241m1\u001b[39m, \u001b[38;5;241m1\u001b[39m)\n\u001b[0;32m     24\u001b[0m y_vals \u001b[38;5;241m=\u001b[39m y\u001b[38;5;241m.\u001b[39mvalues\u001b[38;5;241m.\u001b[39mreshape(\u001b[38;5;241m-\u001b[39m\u001b[38;5;241m1\u001b[39m, \u001b[38;5;241m1\u001b[39m)\n\u001b[1;32m---> 26\u001b[0m model \u001b[38;5;241m=\u001b[39m \u001b[43mLinearRegression\u001b[49m()\n\u001b[0;32m     27\u001b[0m model\u001b[38;5;241m.\u001b[39mfit(x_vals, y_vals)\n\u001b[0;32m     29\u001b[0m x_trend \u001b[38;5;241m=\u001b[39m np\u001b[38;5;241m.\u001b[39mlinspace(\u001b[38;5;28mmin\u001b[39m(x), \u001b[38;5;28mmax\u001b[39m(x), \u001b[38;5;241m100\u001b[39m)\n",
      "\u001b[1;31mNameError\u001b[0m: name 'LinearRegression' is not defined"
     ]
    }
   ],
   "source": [
    "import pandas as pd\n",
    "import plotly.graph_objects as go\n",
    "from plotly.offline import init_notebook_mode, iplot\n",
    "\n",
    "init_notebook_mode(connected=True)\n",
    "\n",
    "df = pd.read_csv('final.csv')\n",
    "\n",
    "df['Happiness_rank'] = df['Happiness'].rank(method='min', ascending=False).astype(int)\n",
    "total_countries = df['Country'].nunique()\n",
    "\n",
    "df_edu   = df.dropna(subset=['Edu_expenditure_pct', 'Happiness', 'Country', 'Happiness_rank'])\n",
    "df_unemp = df.dropna(subset=['Unemployment_rate',    'Happiness', 'Country', 'Happiness_rank'])\n",
    "df_le    = df.dropna(subset=['Life_expectancy',      'Happiness', 'Country', 'Happiness_rank'])\n",
    "\n",
    "x_range_edu   = [df_edu['Edu_expenditure_pct'].min(), df_edu['Edu_expenditure_pct'].max()]\n",
    "x_range_unemp = [df_unemp['Unemployment_rate'].min(), df_unemp['Unemployment_rate'].max()]\n",
    "x_range_le    = [df_le['Life_expectancy'].min(), df_le['Life_expectancy'].max()]\n",
    "y_range       = [df['Happiness'].min(), df['Happiness'].max()]\n",
    "\n",
    "def add_trend_trace(x, y, color, visible=True):\n",
    "\n",
    "    x_vals = x.values.reshape(-1, 1)\n",
    "    y_vals = y.values.reshape(-1, 1)\n",
    "    \n",
    "    model = LinearRegression()\n",
    "    model.fit(x_vals, y_vals)\n",
    "\n",
    "    x_trend = np.linspace(min(x), max(x), 100)\n",
    "    y_trend = model.predict(x_trend.reshape(-1, 1)).flatten()\n",
    "    \n",
    "    return go.Scatter(\n",
    "        x=x_trend,\n",
    "        y=y_trend,\n",
    "        mode='lines',\n",
    "        line=dict(color=color, dash='dash'),\n",
    "        name='Trend Line',\n",
    "        visible=visible,\n",
    "        hoverinfo='skip'\n",
    "    )\n",
    "\n",
    "trace_edu = go.Scatter(\n",
    "    x=df_edu['Edu_expenditure_pct'],\n",
    "    y=df_edu['Happiness'],\n",
    "    mode='markers',\n",
    "    name='Education Expenditure',\n",
    "    visible=True,\n",
    "    text=df_edu['Country'],\n",
    "    customdata=df_edu['Happiness_rank'],\n",
    "    hovertemplate=(\n",
    "        \"Country: %{text}<br>\"\n",
    "        f\"Rank: %{{customdata}} out of {total_countries}<br>\"\n",
    "        \"Education Expenditure: %{x:.1f}% of GDP<br>\"\n",
    "        \"Happiness: %{y:.2f}<extra></extra>\"\n",
    "    )\n",
    ")\n",
    "\n",
    "trace_unemp = go.Scatter(\n",
    "    x=df_unemp['Unemployment_rate'],\n",
    "    y=df_unemp['Happiness'],\n",
    "    mode='markers',\n",
    "    name='Unemployment Rate',\n",
    "    visible=False,\n",
    "    text=df_unemp['Country'],\n",
    "    customdata=df_unemp['Happiness_rank'],\n",
    "    hovertemplate=(\n",
    "        \"Country: %{text}<br>\"\n",
    "        f\"Rank: %{{customdata}} out of {total_countries}<br>\"\n",
    "        \"Unemployment Rate: %{x:.1f}%<br>\"\n",
    "        \"Happiness: %{y:.2f}<extra></extra>\"\n",
    "    )\n",
    ")\n",
    "\n",
    "trace_le = go.Scatter(\n",
    "    x=df_le['Life_expectancy'],\n",
    "    y=df_le['Happiness'],\n",
    "    mode='markers',\n",
    "    name='Life Expectancy',\n",
    "    visible=False,\n",
    "    text=df_le['Country'],\n",
    "    customdata=df_le['Happiness_rank'],\n",
    "    hovertemplate=(\n",
    "        \"Country: %{text}<br>\"\n",
    "        f\"Rank: %{{customdata}} out of {total_countries}<br>\"\n",
    "        \"Life Expectancy: %{x:.1f} years<br>\"\n",
    "        \"Happiness: %{y:.2f}<extra></extra>\"\n",
    "    )\n",
    ")\n",
    "\n",
    "trend_edu = add_trend_trace(df_edu['Edu_expenditure_pct'], df_edu['Happiness'], 'blue', True)\n",
    "trend_unemp = add_trend_trace(df_unemp['Unemployment_rate'], df_unemp['Happiness'], 'blue', False)\n",
    "trend_le = add_trend_trace(df_le['Life_expectancy'], df_le['Happiness'], 'blue', False)\n",
    "\n",
    "fig = go.Figure(data=[trace_edu, trace_unemp, trace_le, trend_edu, trend_unemp, trend_le])\n",
    "\n",
    "steps = [\n",
    "    dict(method='update', label='Education Expenditure',\n",
    "         args=[{'visible': [True, False, False, True, False, False]},\n",
    "               {'title': 'Happiness vs Education Expenditure',\n",
    "                'xaxis': {'title': 'Education Expenditure (% of GDP)', 'range': x_range_edu, 'fixedrange': True},\n",
    "                'yaxis': {'title': 'Happiness', 'range': y_range, 'fixedrange': True}}]),\n",
    "    dict(method='update', label='Unemployment Rate',\n",
    "         args=[{'visible': [False, True, False, False, True, False]},\n",
    "               {'title': 'Happiness vs Unemployment Rate',\n",
    "                'xaxis': {'title': 'Unemployment Rate (%)', 'range': x_range_unemp, 'fixedrange': True},\n",
    "                'yaxis': {'title': 'Happiness', 'range': y_range, 'fixedrange': True}}]),\n",
    "    dict(method='update', label='Life Expectancy',\n",
    "         args=[{'visible': [False, False, True, False, False, True]},\n",
    "               {'title': 'Happiness vs Life Expectancy',\n",
    "                'xaxis': {'title': 'Life Expectancy (years)', 'range': x_range_le, 'fixedrange': True},\n",
    "                'yaxis': {'title': 'Happiness', 'range': y_range, 'fixedrange': True}}])\n",
    "]\n",
    "\n",
    "fig.update_layout(\n",
    "    sliders=[dict(\n",
    "        active=0,\n",
    "        currentvalue={'prefix': 'Metric: '},\n",
    "        pad={'t': 50},\n",
    "        steps=steps,\n",
    "        len=0.9,\n",
    "        x=0.1,\n",
    "        xanchor='left'\n",
    "    )],\n",
    "    title=\"Happiness vs Education Expenditure\",\n",
    "    width=900,\n",
    "    height=600,\n",
    "    autosize=False,\n",
    "    margin=dict(t=80, b=80, l=80, r=80),\n",
    "    xaxis=dict(\n",
    "        title=dict(text='Education Expenditure (% of GDP)', font=dict(size=14)),\n",
    "        range=x_range_edu,\n",
    "        fixedrange=True,\n",
    "        tickmode='linear',\n",
    "        dtick=1,\n",
    "        tickfont=dict(size=12),\n",
    "        automargin=False\n",
    "    ),\n",
    "    yaxis=dict(\n",
    "        title=dict(text='Happiness', font=dict(size=14)),\n",
    "        range=y_range,\n",
    "        fixedrange=True,\n",
    "        tickmode='linear',\n",
    "        dtick=1,\n",
    "        tickfont=dict(size=12),\n",
    "        automargin=False,\n",
    "        autorange='reversed'\n",
    "    ),\n",
    "    hoverlabel=dict(font=dict(size=12)),\n",
    "    showlegend=True,\n",
    "    legend=dict(\n",
    "        font=dict(size=12),\n",
    "        x=0.01, y=0.99,\n",
    "        borderwidth=0\n",
    "    )\n",
    ")\n",
    "\n",
    "\n",
    "iplot(fig)\n"
   ]
  },
  {
   "cell_type": "markdown",
   "id": "353272be",
   "metadata": {},
   "source": []
  },
  {
   "cell_type": "code",
   "execution_count": null,
   "id": "22749a1f",
   "metadata": {
    "tags": [
     "remove-input"
    ]
   },
   "outputs": [
    {
     "data": {
      "application/vnd.plotly.v1+json": {
       "config": {
        "plotlyServerURL": "https://plot.ly"
       },
       "data": [
        {
         "coloraxis": "coloraxis",
         "geo": "geo",
         "hovertemplate": "<b>%{hovertext}</b><br><br>Country=%{location}<br>Happiness=%{z}<extra></extra>",
         "hovertext": [
          "Finland",
          "Denmark",
          "Norway",
          "Iceland",
          "Netherlands",
          "Switzerland",
          "Sweden",
          "New Zealand",
          "Canada",
          "Austria",
          "Australia",
          "Costa Rica",
          "Israel",
          "Luxembourg",
          "United Kingdom",
          "Ireland",
          "Germany",
          "Belgium",
          "United States",
          "United Arab Emirates",
          "Malta",
          "Mexico",
          "France",
          "Chile",
          "Guatemala",
          "Saudi Arabia",
          "Qatar",
          "Spain",
          "Panama",
          "Brazil",
          "Uruguay",
          "Singapore",
          "El Salvador",
          "Italy",
          "Bahrain",
          "Poland",
          "Uzbekistan",
          "Lithuania",
          "Colombia",
          "Slovenia",
          "Nicaragua",
          "Kosovo",
          "Argentina",
          "Romania",
          "Cyprus",
          "Ecuador",
          "Kuwait",
          "Thailand",
          "Latvia",
          "Estonia",
          "Jamaica",
          "Mauritius",
          "Japan",
          "Honduras",
          "Kazakhstan",
          "Bolivia",
          "Hungary",
          "Paraguay",
          "Peru",
          "Portugal",
          "Pakistan",
          "Philippines",
          "Serbia",
          "Moldova",
          "Libya",
          "Montenegro",
          "Tajikistan",
          "Croatia",
          "Dominican Republic",
          "Bosnia and Herzegovina",
          "Malaysia",
          "Belarus",
          "Greece",
          "Mongolia",
          "North Macedonia",
          "Nigeria",
          "Turkmenistan",
          "Algeria",
          "Morocco",
          "Azerbaijan",
          "Lebanon",
          "Indonesia",
          "China",
          "Bhutan",
          "Cameroon",
          "Bulgaria",
          "Ghana",
          "Nepal",
          "Jordan",
          "Benin",
          "Gabon",
          "South Africa",
          "Albania",
          "Cambodia",
          "Senegal",
          "Somalia",
          "Namibia",
          "Niger",
          "Burkina Faso",
          "Armenia",
          "Guinea",
          "Georgia",
          "Kenya",
          "Mauritania",
          "Mozambique",
          "Tunisia",
          "Bangladesh",
          "Iraq",
          "Mali",
          "Sierra Leone",
          "Sri Lanka",
          "Myanmar",
          "Chad",
          "Ukraine",
          "Ethiopia",
          "Uganda",
          "Zambia",
          "Togo",
          "India",
          "Liberia",
          "Comoros",
          "Madagascar",
          "Lesotho",
          "Burundi",
          "Zimbabwe",
          "Haiti",
          "Botswana",
          "Malawi",
          "Rwanda",
          "Tanzania",
          "Afghanistan",
          "Central African Republic",
          "South Sudan"
         ],
         "locationmode": "country names",
         "locations": [
          "Finland",
          "Denmark",
          "Norway",
          "Iceland",
          "Netherlands",
          "Switzerland",
          "Sweden",
          "New Zealand",
          "Canada",
          "Austria",
          "Australia",
          "Costa Rica",
          "Israel",
          "Luxembourg",
          "United Kingdom",
          "Ireland",
          "Germany",
          "Belgium",
          "United States",
          "United Arab Emirates",
          "Malta",
          "Mexico",
          "France",
          "Chile",
          "Guatemala",
          "Saudi Arabia",
          "Qatar",
          "Spain",
          "Panama",
          "Brazil",
          "Uruguay",
          "Singapore",
          "El Salvador",
          "Italy",
          "Bahrain",
          "Poland",
          "Uzbekistan",
          "Lithuania",
          "Colombia",
          "Slovenia",
          "Nicaragua",
          "Kosovo",
          "Argentina",
          "Romania",
          "Cyprus",
          "Ecuador",
          "Kuwait",
          "Thailand",
          "Latvia",
          "Estonia",
          "Jamaica",
          "Mauritius",
          "Japan",
          "Honduras",
          "Kazakhstan",
          "Bolivia",
          "Hungary",
          "Paraguay",
          "Peru",
          "Portugal",
          "Pakistan",
          "Philippines",
          "Serbia",
          "Moldova",
          "Libya",
          "Montenegro",
          "Tajikistan",
          "Croatia",
          "Dominican Republic",
          "Bosnia and Herzegovina",
          "Malaysia",
          "Belarus",
          "Greece",
          "Mongolia",
          "North Macedonia",
          "Nigeria",
          "Turkmenistan",
          "Algeria",
          "Morocco",
          "Azerbaijan",
          "Lebanon",
          "Indonesia",
          "China",
          "Bhutan",
          "Cameroon",
          "Bulgaria",
          "Ghana",
          "Nepal",
          "Jordan",
          "Benin",
          "Gabon",
          "South Africa",
          "Albania",
          "Cambodia",
          "Senegal",
          "Somalia",
          "Namibia",
          "Niger",
          "Burkina Faso",
          "Armenia",
          "Guinea",
          "Georgia",
          "Kenya",
          "Mauritania",
          "Mozambique",
          "Tunisia",
          "Bangladesh",
          "Iraq",
          "Mali",
          "Sierra Leone",
          "Sri Lanka",
          "Myanmar",
          "Chad",
          "Ukraine",
          "Ethiopia",
          "Uganda",
          "Zambia",
          "Togo",
          "India",
          "Liberia",
          "Comoros",
          "Madagascar",
          "Lesotho",
          "Burundi",
          "Zimbabwe",
          "Haiti",
          "Botswana",
          "Malawi",
          "Rwanda",
          "Tanzania",
          "Afghanistan",
          "Central African Republic",
          "South Sudan"
         ],
         "name": "",
         "type": "choropleth",
         "z": {
          "bdata": "+n5qvHQTH0BmZmZmZmYeQJ7vp8ZLNx5AYOXQItv5HUDByqFFtvMdQOxRuB6F6x1ArBxaZDtfHUDufD81XjodQOkmMQisHB1AlkOLbOf7HEC28/3UeOkcQF66SQwCqxxAdZMYBFaOHEBcj8L1KFwcQJ7vp8ZLNxxAL90kBoEVHEBxPQrXo/AbQP7UeOkmsRtAxSCwcmiRG0DNzMzMzEwbQIGVQ4ts5xpA4XoUrkdhGkCR7Xw/NV4aQC2yne+nxhlAWDm0yHa+GUAAAAAAAIAZQOXQItv5fhlA0SLb+X5qGUBiEFg5tEgZQDMzMzMzMxlAeekmMQgsGUA/NV66SQwZQFCNl24SAxlAMQisHFrkGECyne+nxssYQO58PzVeuhhAGQRWDi2yGEB/arx0k5gYQAAAAAAAgBhARrbz/dR4GEDsUbgehWsYQGZmZmZmZhhA8tJNYhBYGEBI4XoUrkcYQMl2vp8aLxhA6SYxCKwcGEAv3SQGgRUYQNV46SYxCBhAw/UoXI/CF0DfT42XbpIXQI/C9ShcjxdAWmQ730+NF0AlBoGVQ4sXQHE9CtejcBdAI9v5fmo8F0AEVg4tsh0XQNV46SYxCBdARrbz/dT4FkB9PzVeuskWQBKDwMqhxRZA6SYxCKycFkCgGi/dJIYWQLbz/dR4aRZABFYOLbIdFkCamZmZmRkWQGQ730+NFxZAke18PzXeFUDufD81XroVQDMzMzMzsxVAJQaBlUOLFUBCYOXQIlsVQJhuEoPAShVA2c73U+MlFUCkcD0K1yMVQH9qvHSTGBVAj8L1KFwPFUCwcmiR7fwUQPLSTWIQ2BRAokW28/3UFECiRbbz/dQUQH0/NV66yRRA+FPjpZvEFEDdJAaBlcMUQIcW2c73UxRAkxgEVg4tFEAlBoGVQwsUQJZDi2zn+xNA9P3UeOmmE0A5tMh2vp8TQNV46SYxiBNAGQRWDi0yE0AX2c73U+MSQMdLN4lB4BJAzczMzMzMEkDTTWIQWLkSQHnpJjEIrBJAdZMYBFaOEkBQjZduEoMSQAwCK4cWWRJAI9v5fmo8EkCJQWDl0CISQPp+arx0ExJA8KfGSzcJEkD2KFyPwvURQHe+nxov3RFA8tJNYhDYEUBt5/up8dIRQHNoke18vxFAj8L1KFyPEUDl0CLb+X4RQBBYObTIdhFAcT0K16NwEUBmZmZmZmYRQIcW2c73UxFAvp8aL90kEUCoxks3icEQQCGwcmiRbRBA16NwPQpXEECPwvUoXA8QQM3MzMzMzA9AYhBYObTID0AQWDm0yHYPQNEi2/l+ag5AMzMzMzMzDkDn+6nx0k0NQC2yne+nxgxAgZVDi2znC0BI4XoUrkcLQHnpJjEIrApADAIrhxbZCUA5tMh2vp8JQESLbOf7qQhAbef7qfHSBkA=",
          "dtype": "f8"
         }
        }
       ],
       "layout": {
        "coloraxis": {
         "colorbar": {
          "title": {
           "text": "Happiness"
          }
         },
         "colorscale": [
          [
           0,
           "#0d0887"
          ],
          [
           0.1111111111111111,
           "#46039f"
          ],
          [
           0.2222222222222222,
           "#7201a8"
          ],
          [
           0.3333333333333333,
           "#9c179e"
          ],
          [
           0.4444444444444444,
           "#bd3786"
          ],
          [
           0.5555555555555556,
           "#d8576b"
          ],
          [
           0.6666666666666666,
           "#ed7953"
          ],
          [
           0.7777777777777778,
           "#fb9f3a"
          ],
          [
           0.8888888888888888,
           "#fdca26"
          ],
          [
           1,
           "#f0f921"
          ]
         ]
        },
        "geo": {
         "center": {},
         "domain": {
          "x": [
           0,
           1
          ],
          "y": [
           0,
           1
          ]
         },
         "projection": {
          "type": "natural earth"
         },
         "showcoastlines": true,
         "showframe": false
        },
        "height": 600,
        "legend": {
         "tracegroupgap": 0
        },
        "margin": {
         "b": 0,
         "l": 0,
         "r": 0,
         "t": 60
        },
        "template": {
         "data": {
          "bar": [
           {
            "error_x": {
             "color": "#2a3f5f"
            },
            "error_y": {
             "color": "#2a3f5f"
            },
            "marker": {
             "line": {
              "color": "#E5ECF6",
              "width": 0.5
             },
             "pattern": {
              "fillmode": "overlay",
              "size": 10,
              "solidity": 0.2
             }
            },
            "type": "bar"
           }
          ],
          "barpolar": [
           {
            "marker": {
             "line": {
              "color": "#E5ECF6",
              "width": 0.5
             },
             "pattern": {
              "fillmode": "overlay",
              "size": 10,
              "solidity": 0.2
             }
            },
            "type": "barpolar"
           }
          ],
          "carpet": [
           {
            "aaxis": {
             "endlinecolor": "#2a3f5f",
             "gridcolor": "white",
             "linecolor": "white",
             "minorgridcolor": "white",
             "startlinecolor": "#2a3f5f"
            },
            "baxis": {
             "endlinecolor": "#2a3f5f",
             "gridcolor": "white",
             "linecolor": "white",
             "minorgridcolor": "white",
             "startlinecolor": "#2a3f5f"
            },
            "type": "carpet"
           }
          ],
          "choropleth": [
           {
            "colorbar": {
             "outlinewidth": 0,
             "ticks": ""
            },
            "type": "choropleth"
           }
          ],
          "contour": [
           {
            "colorbar": {
             "outlinewidth": 0,
             "ticks": ""
            },
            "colorscale": [
             [
              0,
              "#0d0887"
             ],
             [
              0.1111111111111111,
              "#46039f"
             ],
             [
              0.2222222222222222,
              "#7201a8"
             ],
             [
              0.3333333333333333,
              "#9c179e"
             ],
             [
              0.4444444444444444,
              "#bd3786"
             ],
             [
              0.5555555555555556,
              "#d8576b"
             ],
             [
              0.6666666666666666,
              "#ed7953"
             ],
             [
              0.7777777777777778,
              "#fb9f3a"
             ],
             [
              0.8888888888888888,
              "#fdca26"
             ],
             [
              1,
              "#f0f921"
             ]
            ],
            "type": "contour"
           }
          ],
          "contourcarpet": [
           {
            "colorbar": {
             "outlinewidth": 0,
             "ticks": ""
            },
            "type": "contourcarpet"
           }
          ],
          "heatmap": [
           {
            "colorbar": {
             "outlinewidth": 0,
             "ticks": ""
            },
            "colorscale": [
             [
              0,
              "#0d0887"
             ],
             [
              0.1111111111111111,
              "#46039f"
             ],
             [
              0.2222222222222222,
              "#7201a8"
             ],
             [
              0.3333333333333333,
              "#9c179e"
             ],
             [
              0.4444444444444444,
              "#bd3786"
             ],
             [
              0.5555555555555556,
              "#d8576b"
             ],
             [
              0.6666666666666666,
              "#ed7953"
             ],
             [
              0.7777777777777778,
              "#fb9f3a"
             ],
             [
              0.8888888888888888,
              "#fdca26"
             ],
             [
              1,
              "#f0f921"
             ]
            ],
            "type": "heatmap"
           }
          ],
          "histogram": [
           {
            "marker": {
             "pattern": {
              "fillmode": "overlay",
              "size": 10,
              "solidity": 0.2
             }
            },
            "type": "histogram"
           }
          ],
          "histogram2d": [
           {
            "colorbar": {
             "outlinewidth": 0,
             "ticks": ""
            },
            "colorscale": [
             [
              0,
              "#0d0887"
             ],
             [
              0.1111111111111111,
              "#46039f"
             ],
             [
              0.2222222222222222,
              "#7201a8"
             ],
             [
              0.3333333333333333,
              "#9c179e"
             ],
             [
              0.4444444444444444,
              "#bd3786"
             ],
             [
              0.5555555555555556,
              "#d8576b"
             ],
             [
              0.6666666666666666,
              "#ed7953"
             ],
             [
              0.7777777777777778,
              "#fb9f3a"
             ],
             [
              0.8888888888888888,
              "#fdca26"
             ],
             [
              1,
              "#f0f921"
             ]
            ],
            "type": "histogram2d"
           }
          ],
          "histogram2dcontour": [
           {
            "colorbar": {
             "outlinewidth": 0,
             "ticks": ""
            },
            "colorscale": [
             [
              0,
              "#0d0887"
             ],
             [
              0.1111111111111111,
              "#46039f"
             ],
             [
              0.2222222222222222,
              "#7201a8"
             ],
             [
              0.3333333333333333,
              "#9c179e"
             ],
             [
              0.4444444444444444,
              "#bd3786"
             ],
             [
              0.5555555555555556,
              "#d8576b"
             ],
             [
              0.6666666666666666,
              "#ed7953"
             ],
             [
              0.7777777777777778,
              "#fb9f3a"
             ],
             [
              0.8888888888888888,
              "#fdca26"
             ],
             [
              1,
              "#f0f921"
             ]
            ],
            "type": "histogram2dcontour"
           }
          ],
          "mesh3d": [
           {
            "colorbar": {
             "outlinewidth": 0,
             "ticks": ""
            },
            "type": "mesh3d"
           }
          ],
          "parcoords": [
           {
            "line": {
             "colorbar": {
              "outlinewidth": 0,
              "ticks": ""
             }
            },
            "type": "parcoords"
           }
          ],
          "pie": [
           {
            "automargin": true,
            "type": "pie"
           }
          ],
          "scatter": [
           {
            "fillpattern": {
             "fillmode": "overlay",
             "size": 10,
             "solidity": 0.2
            },
            "type": "scatter"
           }
          ],
          "scatter3d": [
           {
            "line": {
             "colorbar": {
              "outlinewidth": 0,
              "ticks": ""
             }
            },
            "marker": {
             "colorbar": {
              "outlinewidth": 0,
              "ticks": ""
             }
            },
            "type": "scatter3d"
           }
          ],
          "scattercarpet": [
           {
            "marker": {
             "colorbar": {
              "outlinewidth": 0,
              "ticks": ""
             }
            },
            "type": "scattercarpet"
           }
          ],
          "scattergeo": [
           {
            "marker": {
             "colorbar": {
              "outlinewidth": 0,
              "ticks": ""
             }
            },
            "type": "scattergeo"
           }
          ],
          "scattergl": [
           {
            "marker": {
             "colorbar": {
              "outlinewidth": 0,
              "ticks": ""
             }
            },
            "type": "scattergl"
           }
          ],
          "scattermap": [
           {
            "marker": {
             "colorbar": {
              "outlinewidth": 0,
              "ticks": ""
             }
            },
            "type": "scattermap"
           }
          ],
          "scattermapbox": [
           {
            "marker": {
             "colorbar": {
              "outlinewidth": 0,
              "ticks": ""
             }
            },
            "type": "scattermapbox"
           }
          ],
          "scatterpolar": [
           {
            "marker": {
             "colorbar": {
              "outlinewidth": 0,
              "ticks": ""
             }
            },
            "type": "scatterpolar"
           }
          ],
          "scatterpolargl": [
           {
            "marker": {
             "colorbar": {
              "outlinewidth": 0,
              "ticks": ""
             }
            },
            "type": "scatterpolargl"
           }
          ],
          "scatterternary": [
           {
            "marker": {
             "colorbar": {
              "outlinewidth": 0,
              "ticks": ""
             }
            },
            "type": "scatterternary"
           }
          ],
          "surface": [
           {
            "colorbar": {
             "outlinewidth": 0,
             "ticks": ""
            },
            "colorscale": [
             [
              0,
              "#0d0887"
             ],
             [
              0.1111111111111111,
              "#46039f"
             ],
             [
              0.2222222222222222,
              "#7201a8"
             ],
             [
              0.3333333333333333,
              "#9c179e"
             ],
             [
              0.4444444444444444,
              "#bd3786"
             ],
             [
              0.5555555555555556,
              "#d8576b"
             ],
             [
              0.6666666666666666,
              "#ed7953"
             ],
             [
              0.7777777777777778,
              "#fb9f3a"
             ],
             [
              0.8888888888888888,
              "#fdca26"
             ],
             [
              1,
              "#f0f921"
             ]
            ],
            "type": "surface"
           }
          ],
          "table": [
           {
            "cells": {
             "fill": {
              "color": "#EBF0F8"
             },
             "line": {
              "color": "white"
             }
            },
            "header": {
             "fill": {
              "color": "#C8D4E3"
             },
             "line": {
              "color": "white"
             }
            },
            "type": "table"
           }
          ]
         },
         "layout": {
          "annotationdefaults": {
           "arrowcolor": "#2a3f5f",
           "arrowhead": 0,
           "arrowwidth": 1
          },
          "autotypenumbers": "strict",
          "coloraxis": {
           "colorbar": {
            "outlinewidth": 0,
            "ticks": ""
           }
          },
          "colorscale": {
           "diverging": [
            [
             0,
             "#8e0152"
            ],
            [
             0.1,
             "#c51b7d"
            ],
            [
             0.2,
             "#de77ae"
            ],
            [
             0.3,
             "#f1b6da"
            ],
            [
             0.4,
             "#fde0ef"
            ],
            [
             0.5,
             "#f7f7f7"
            ],
            [
             0.6,
             "#e6f5d0"
            ],
            [
             0.7,
             "#b8e186"
            ],
            [
             0.8,
             "#7fbc41"
            ],
            [
             0.9,
             "#4d9221"
            ],
            [
             1,
             "#276419"
            ]
           ],
           "sequential": [
            [
             0,
             "#0d0887"
            ],
            [
             0.1111111111111111,
             "#46039f"
            ],
            [
             0.2222222222222222,
             "#7201a8"
            ],
            [
             0.3333333333333333,
             "#9c179e"
            ],
            [
             0.4444444444444444,
             "#bd3786"
            ],
            [
             0.5555555555555556,
             "#d8576b"
            ],
            [
             0.6666666666666666,
             "#ed7953"
            ],
            [
             0.7777777777777778,
             "#fb9f3a"
            ],
            [
             0.8888888888888888,
             "#fdca26"
            ],
            [
             1,
             "#f0f921"
            ]
           ],
           "sequentialminus": [
            [
             0,
             "#0d0887"
            ],
            [
             0.1111111111111111,
             "#46039f"
            ],
            [
             0.2222222222222222,
             "#7201a8"
            ],
            [
             0.3333333333333333,
             "#9c179e"
            ],
            [
             0.4444444444444444,
             "#bd3786"
            ],
            [
             0.5555555555555556,
             "#d8576b"
            ],
            [
             0.6666666666666666,
             "#ed7953"
            ],
            [
             0.7777777777777778,
             "#fb9f3a"
            ],
            [
             0.8888888888888888,
             "#fdca26"
            ],
            [
             1,
             "#f0f921"
            ]
           ]
          },
          "colorway": [
           "#636efa",
           "#EF553B",
           "#00cc96",
           "#ab63fa",
           "#FFA15A",
           "#19d3f3",
           "#FF6692",
           "#B6E880",
           "#FF97FF",
           "#FECB52"
          ],
          "font": {
           "color": "#2a3f5f"
          },
          "geo": {
           "bgcolor": "white",
           "lakecolor": "white",
           "landcolor": "#E5ECF6",
           "showlakes": true,
           "showland": true,
           "subunitcolor": "white"
          },
          "hoverlabel": {
           "align": "left"
          },
          "hovermode": "closest",
          "mapbox": {
           "style": "light"
          },
          "paper_bgcolor": "white",
          "plot_bgcolor": "#E5ECF6",
          "polar": {
           "angularaxis": {
            "gridcolor": "white",
            "linecolor": "white",
            "ticks": ""
           },
           "bgcolor": "#E5ECF6",
           "radialaxis": {
            "gridcolor": "white",
            "linecolor": "white",
            "ticks": ""
           }
          },
          "scene": {
           "xaxis": {
            "backgroundcolor": "#E5ECF6",
            "gridcolor": "white",
            "gridwidth": 2,
            "linecolor": "white",
            "showbackground": true,
            "ticks": "",
            "zerolinecolor": "white"
           },
           "yaxis": {
            "backgroundcolor": "#E5ECF6",
            "gridcolor": "white",
            "gridwidth": 2,
            "linecolor": "white",
            "showbackground": true,
            "ticks": "",
            "zerolinecolor": "white"
           },
           "zaxis": {
            "backgroundcolor": "#E5ECF6",
            "gridcolor": "white",
            "gridwidth": 2,
            "linecolor": "white",
            "showbackground": true,
            "ticks": "",
            "zerolinecolor": "white"
           }
          },
          "shapedefaults": {
           "line": {
            "color": "#2a3f5f"
           }
          },
          "ternary": {
           "aaxis": {
            "gridcolor": "white",
            "linecolor": "white",
            "ticks": ""
           },
           "baxis": {
            "gridcolor": "white",
            "linecolor": "white",
            "ticks": ""
           },
           "bgcolor": "#E5ECF6",
           "caxis": {
            "gridcolor": "white",
            "linecolor": "white",
            "ticks": ""
           }
          },
          "title": {
           "x": 0.05
          },
          "xaxis": {
           "automargin": true,
           "gridcolor": "white",
           "linecolor": "white",
           "ticks": "",
           "title": {
            "standoff": 15
           },
           "zerolinecolor": "white",
           "zerolinewidth": 2
          },
          "yaxis": {
           "automargin": true,
           "gridcolor": "white",
           "linecolor": "white",
           "ticks": "",
           "title": {
            "standoff": 15
           },
           "zerolinecolor": "white",
           "zerolinewidth": 2
          }
         }
        },
        "title": {
         "text": "World Happiness Score by Country"
        },
        "width": 1200
       }
      },
      "text/html": [
       "<div>            <script src=\"https://cdnjs.cloudflare.com/ajax/libs/mathjax/2.7.5/MathJax.js?config=TeX-AMS-MML_SVG\"></script><script type=\"text/javascript\">if (window.MathJax && window.MathJax.Hub && window.MathJax.Hub.Config) {window.MathJax.Hub.Config({SVG: {font: \"STIX-Web\"}});}</script>                <script type=\"text/javascript\">window.PlotlyConfig = {MathJaxConfig: 'local'};</script>\n",
       "        <script charset=\"utf-8\" src=\"https://cdn.plot.ly/plotly-3.0.1.min.js\"></script>                <div id=\"a9eb6425-92c2-441b-84f7-c941e6d80529\" class=\"plotly-graph-div\" style=\"height:600px; width:1200px;\"></div>            <script type=\"text/javascript\">                window.PLOTLYENV=window.PLOTLYENV || {};                                if (document.getElementById(\"a9eb6425-92c2-441b-84f7-c941e6d80529\")) {                    Plotly.newPlot(                        \"a9eb6425-92c2-441b-84f7-c941e6d80529\",                        [{\"coloraxis\":\"coloraxis\",\"geo\":\"geo\",\"hovertemplate\":\"\\u003cb\\u003e%{hovertext}\\u003c\\u002fb\\u003e\\u003cbr\\u003e\\u003cbr\\u003eCountry=%{location}\\u003cbr\\u003eHappiness=%{z}\\u003cextra\\u003e\\u003c\\u002fextra\\u003e\",\"hovertext\":[\"Finland\",\"Denmark\",\"Norway\",\"Iceland\",\"Netherlands\",\"Switzerland\",\"Sweden\",\"New Zealand\",\"Canada\",\"Austria\",\"Australia\",\"Costa Rica\",\"Israel\",\"Luxembourg\",\"United Kingdom\",\"Ireland\",\"Germany\",\"Belgium\",\"United States\",\"United Arab Emirates\",\"Malta\",\"Mexico\",\"France\",\"Chile\",\"Guatemala\",\"Saudi Arabia\",\"Qatar\",\"Spain\",\"Panama\",\"Brazil\",\"Uruguay\",\"Singapore\",\"El Salvador\",\"Italy\",\"Bahrain\",\"Poland\",\"Uzbekistan\",\"Lithuania\",\"Colombia\",\"Slovenia\",\"Nicaragua\",\"Kosovo\",\"Argentina\",\"Romania\",\"Cyprus\",\"Ecuador\",\"Kuwait\",\"Thailand\",\"Latvia\",\"Estonia\",\"Jamaica\",\"Mauritius\",\"Japan\",\"Honduras\",\"Kazakhstan\",\"Bolivia\",\"Hungary\",\"Paraguay\",\"Peru\",\"Portugal\",\"Pakistan\",\"Philippines\",\"Serbia\",\"Moldova\",\"Libya\",\"Montenegro\",\"Tajikistan\",\"Croatia\",\"Dominican Republic\",\"Bosnia and Herzegovina\",\"Malaysia\",\"Belarus\",\"Greece\",\"Mongolia\",\"North Macedonia\",\"Nigeria\",\"Turkmenistan\",\"Algeria\",\"Morocco\",\"Azerbaijan\",\"Lebanon\",\"Indonesia\",\"China\",\"Bhutan\",\"Cameroon\",\"Bulgaria\",\"Ghana\",\"Nepal\",\"Jordan\",\"Benin\",\"Gabon\",\"South Africa\",\"Albania\",\"Cambodia\",\"Senegal\",\"Somalia\",\"Namibia\",\"Niger\",\"Burkina Faso\",\"Armenia\",\"Guinea\",\"Georgia\",\"Kenya\",\"Mauritania\",\"Mozambique\",\"Tunisia\",\"Bangladesh\",\"Iraq\",\"Mali\",\"Sierra Leone\",\"Sri Lanka\",\"Myanmar\",\"Chad\",\"Ukraine\",\"Ethiopia\",\"Uganda\",\"Zambia\",\"Togo\",\"India\",\"Liberia\",\"Comoros\",\"Madagascar\",\"Lesotho\",\"Burundi\",\"Zimbabwe\",\"Haiti\",\"Botswana\",\"Malawi\",\"Rwanda\",\"Tanzania\",\"Afghanistan\",\"Central African Republic\",\"South Sudan\"],\"locationmode\":\"country names\",\"locations\":[\"Finland\",\"Denmark\",\"Norway\",\"Iceland\",\"Netherlands\",\"Switzerland\",\"Sweden\",\"New Zealand\",\"Canada\",\"Austria\",\"Australia\",\"Costa Rica\",\"Israel\",\"Luxembourg\",\"United Kingdom\",\"Ireland\",\"Germany\",\"Belgium\",\"United States\",\"United Arab Emirates\",\"Malta\",\"Mexico\",\"France\",\"Chile\",\"Guatemala\",\"Saudi Arabia\",\"Qatar\",\"Spain\",\"Panama\",\"Brazil\",\"Uruguay\",\"Singapore\",\"El Salvador\",\"Italy\",\"Bahrain\",\"Poland\",\"Uzbekistan\",\"Lithuania\",\"Colombia\",\"Slovenia\",\"Nicaragua\",\"Kosovo\",\"Argentina\",\"Romania\",\"Cyprus\",\"Ecuador\",\"Kuwait\",\"Thailand\",\"Latvia\",\"Estonia\",\"Jamaica\",\"Mauritius\",\"Japan\",\"Honduras\",\"Kazakhstan\",\"Bolivia\",\"Hungary\",\"Paraguay\",\"Peru\",\"Portugal\",\"Pakistan\",\"Philippines\",\"Serbia\",\"Moldova\",\"Libya\",\"Montenegro\",\"Tajikistan\",\"Croatia\",\"Dominican Republic\",\"Bosnia and Herzegovina\",\"Malaysia\",\"Belarus\",\"Greece\",\"Mongolia\",\"North Macedonia\",\"Nigeria\",\"Turkmenistan\",\"Algeria\",\"Morocco\",\"Azerbaijan\",\"Lebanon\",\"Indonesia\",\"China\",\"Bhutan\",\"Cameroon\",\"Bulgaria\",\"Ghana\",\"Nepal\",\"Jordan\",\"Benin\",\"Gabon\",\"South Africa\",\"Albania\",\"Cambodia\",\"Senegal\",\"Somalia\",\"Namibia\",\"Niger\",\"Burkina Faso\",\"Armenia\",\"Guinea\",\"Georgia\",\"Kenya\",\"Mauritania\",\"Mozambique\",\"Tunisia\",\"Bangladesh\",\"Iraq\",\"Mali\",\"Sierra Leone\",\"Sri Lanka\",\"Myanmar\",\"Chad\",\"Ukraine\",\"Ethiopia\",\"Uganda\",\"Zambia\",\"Togo\",\"India\",\"Liberia\",\"Comoros\",\"Madagascar\",\"Lesotho\",\"Burundi\",\"Zimbabwe\",\"Haiti\",\"Botswana\",\"Malawi\",\"Rwanda\",\"Tanzania\",\"Afghanistan\",\"Central African Republic\",\"South Sudan\"],\"name\":\"\",\"z\":{\"dtype\":\"f8\",\"bdata\":\"+n5qvHQTH0BmZmZmZmYeQJ7vp8ZLNx5AYOXQItv5HUDByqFFtvMdQOxRuB6F6x1ArBxaZDtfHUDufD81XjodQOkmMQisHB1AlkOLbOf7HEC28\\u002f3UeOkcQF66SQwCqxxAdZMYBFaOHEBcj8L1KFwcQJ7vp8ZLNxxAL90kBoEVHEBxPQrXo\\u002fAbQP7UeOkmsRtAxSCwcmiRG0DNzMzMzEwbQIGVQ4ts5xpA4XoUrkdhGkCR7Xw\\u002fNV4aQC2yne+nxhlAWDm0yHa+GUAAAAAAAIAZQOXQItv5fhlA0SLb+X5qGUBiEFg5tEgZQDMzMzMzMxlAeekmMQgsGUA\\u002fNV66SQwZQFCNl24SAxlAMQisHFrkGECyne+nxssYQO58PzVeuhhAGQRWDi2yGEB\\u002farx0k5gYQAAAAAAAgBhARrbz\\u002fdR4GEDsUbgehWsYQGZmZmZmZhhA8tJNYhBYGEBI4XoUrkcYQMl2vp8aLxhA6SYxCKwcGEAv3SQGgRUYQNV46SYxCBhAw\\u002fUoXI\\u002fCF0DfT42XbpIXQI\\u002fC9ShcjxdAWmQ730+NF0AlBoGVQ4sXQHE9CtejcBdAI9v5fmo8F0AEVg4tsh0XQNV46SYxCBdARrbz\\u002fdT4FkB9PzVeuskWQBKDwMqhxRZA6SYxCKycFkCgGi\\u002fdJIYWQLbz\\u002fdR4aRZABFYOLbIdFkCamZmZmRkWQGQ730+NFxZAke18PzXeFUDufD81XroVQDMzMzMzsxVAJQaBlUOLFUBCYOXQIlsVQJhuEoPAShVA2c73U+MlFUCkcD0K1yMVQH9qvHSTGBVAj8L1KFwPFUCwcmiR7fwUQPLSTWIQ2BRAokW28\\u002f3UFECiRbbz\\u002fdQUQH0\\u002fNV66yRRA+FPjpZvEFEDdJAaBlcMUQIcW2c73UxRAkxgEVg4tFEAlBoGVQwsUQJZDi2zn+xNA9P3UeOmmE0A5tMh2vp8TQNV46SYxiBNAGQRWDi0yE0AX2c73U+MSQMdLN4lB4BJAzczMzMzMEkDTTWIQWLkSQHnpJjEIrBJAdZMYBFaOEkBQjZduEoMSQAwCK4cWWRJAI9v5fmo8EkCJQWDl0CISQPp+arx0ExJA8KfGSzcJEkD2KFyPwvURQHe+nxov3RFA8tJNYhDYEUBt5\\u002fup8dIRQHNoke18vxFAj8L1KFyPEUDl0CLb+X4RQBBYObTIdhFAcT0K16NwEUBmZmZmZmYRQIcW2c73UxFAvp8aL90kEUCoxks3icEQQCGwcmiRbRBA16NwPQpXEECPwvUoXA8QQM3MzMzMzA9AYhBYObTID0AQWDm0yHYPQNEi2\\u002fl+ag5AMzMzMzMzDkDn+6nx0k0NQC2yne+nxgxAgZVDi2znC0BI4XoUrkcLQHnpJjEIrApADAIrhxbZCUA5tMh2vp8JQESLbOf7qQhAbef7qfHSBkA=\"},\"type\":\"choropleth\"}],                        {\"template\":{\"data\":{\"histogram2dcontour\":[{\"type\":\"histogram2dcontour\",\"colorbar\":{\"outlinewidth\":0,\"ticks\":\"\"},\"colorscale\":[[0.0,\"#0d0887\"],[0.1111111111111111,\"#46039f\"],[0.2222222222222222,\"#7201a8\"],[0.3333333333333333,\"#9c179e\"],[0.4444444444444444,\"#bd3786\"],[0.5555555555555556,\"#d8576b\"],[0.6666666666666666,\"#ed7953\"],[0.7777777777777778,\"#fb9f3a\"],[0.8888888888888888,\"#fdca26\"],[1.0,\"#f0f921\"]]}],\"choropleth\":[{\"type\":\"choropleth\",\"colorbar\":{\"outlinewidth\":0,\"ticks\":\"\"}}],\"histogram2d\":[{\"type\":\"histogram2d\",\"colorbar\":{\"outlinewidth\":0,\"ticks\":\"\"},\"colorscale\":[[0.0,\"#0d0887\"],[0.1111111111111111,\"#46039f\"],[0.2222222222222222,\"#7201a8\"],[0.3333333333333333,\"#9c179e\"],[0.4444444444444444,\"#bd3786\"],[0.5555555555555556,\"#d8576b\"],[0.6666666666666666,\"#ed7953\"],[0.7777777777777778,\"#fb9f3a\"],[0.8888888888888888,\"#fdca26\"],[1.0,\"#f0f921\"]]}],\"heatmap\":[{\"type\":\"heatmap\",\"colorbar\":{\"outlinewidth\":0,\"ticks\":\"\"},\"colorscale\":[[0.0,\"#0d0887\"],[0.1111111111111111,\"#46039f\"],[0.2222222222222222,\"#7201a8\"],[0.3333333333333333,\"#9c179e\"],[0.4444444444444444,\"#bd3786\"],[0.5555555555555556,\"#d8576b\"],[0.6666666666666666,\"#ed7953\"],[0.7777777777777778,\"#fb9f3a\"],[0.8888888888888888,\"#fdca26\"],[1.0,\"#f0f921\"]]}],\"contourcarpet\":[{\"type\":\"contourcarpet\",\"colorbar\":{\"outlinewidth\":0,\"ticks\":\"\"}}],\"contour\":[{\"type\":\"contour\",\"colorbar\":{\"outlinewidth\":0,\"ticks\":\"\"},\"colorscale\":[[0.0,\"#0d0887\"],[0.1111111111111111,\"#46039f\"],[0.2222222222222222,\"#7201a8\"],[0.3333333333333333,\"#9c179e\"],[0.4444444444444444,\"#bd3786\"],[0.5555555555555556,\"#d8576b\"],[0.6666666666666666,\"#ed7953\"],[0.7777777777777778,\"#fb9f3a\"],[0.8888888888888888,\"#fdca26\"],[1.0,\"#f0f921\"]]}],\"surface\":[{\"type\":\"surface\",\"colorbar\":{\"outlinewidth\":0,\"ticks\":\"\"},\"colorscale\":[[0.0,\"#0d0887\"],[0.1111111111111111,\"#46039f\"],[0.2222222222222222,\"#7201a8\"],[0.3333333333333333,\"#9c179e\"],[0.4444444444444444,\"#bd3786\"],[0.5555555555555556,\"#d8576b\"],[0.6666666666666666,\"#ed7953\"],[0.7777777777777778,\"#fb9f3a\"],[0.8888888888888888,\"#fdca26\"],[1.0,\"#f0f921\"]]}],\"mesh3d\":[{\"type\":\"mesh3d\",\"colorbar\":{\"outlinewidth\":0,\"ticks\":\"\"}}],\"scatter\":[{\"fillpattern\":{\"fillmode\":\"overlay\",\"size\":10,\"solidity\":0.2},\"type\":\"scatter\"}],\"parcoords\":[{\"type\":\"parcoords\",\"line\":{\"colorbar\":{\"outlinewidth\":0,\"ticks\":\"\"}}}],\"scatterpolargl\":[{\"type\":\"scatterpolargl\",\"marker\":{\"colorbar\":{\"outlinewidth\":0,\"ticks\":\"\"}}}],\"bar\":[{\"error_x\":{\"color\":\"#2a3f5f\"},\"error_y\":{\"color\":\"#2a3f5f\"},\"marker\":{\"line\":{\"color\":\"#E5ECF6\",\"width\":0.5},\"pattern\":{\"fillmode\":\"overlay\",\"size\":10,\"solidity\":0.2}},\"type\":\"bar\"}],\"scattergeo\":[{\"type\":\"scattergeo\",\"marker\":{\"colorbar\":{\"outlinewidth\":0,\"ticks\":\"\"}}}],\"scatterpolar\":[{\"type\":\"scatterpolar\",\"marker\":{\"colorbar\":{\"outlinewidth\":0,\"ticks\":\"\"}}}],\"histogram\":[{\"marker\":{\"pattern\":{\"fillmode\":\"overlay\",\"size\":10,\"solidity\":0.2}},\"type\":\"histogram\"}],\"scattergl\":[{\"type\":\"scattergl\",\"marker\":{\"colorbar\":{\"outlinewidth\":0,\"ticks\":\"\"}}}],\"scatter3d\":[{\"type\":\"scatter3d\",\"line\":{\"colorbar\":{\"outlinewidth\":0,\"ticks\":\"\"}},\"marker\":{\"colorbar\":{\"outlinewidth\":0,\"ticks\":\"\"}}}],\"scattermap\":[{\"type\":\"scattermap\",\"marker\":{\"colorbar\":{\"outlinewidth\":0,\"ticks\":\"\"}}}],\"scattermapbox\":[{\"type\":\"scattermapbox\",\"marker\":{\"colorbar\":{\"outlinewidth\":0,\"ticks\":\"\"}}}],\"scatterternary\":[{\"type\":\"scatterternary\",\"marker\":{\"colorbar\":{\"outlinewidth\":0,\"ticks\":\"\"}}}],\"scattercarpet\":[{\"type\":\"scattercarpet\",\"marker\":{\"colorbar\":{\"outlinewidth\":0,\"ticks\":\"\"}}}],\"carpet\":[{\"aaxis\":{\"endlinecolor\":\"#2a3f5f\",\"gridcolor\":\"white\",\"linecolor\":\"white\",\"minorgridcolor\":\"white\",\"startlinecolor\":\"#2a3f5f\"},\"baxis\":{\"endlinecolor\":\"#2a3f5f\",\"gridcolor\":\"white\",\"linecolor\":\"white\",\"minorgridcolor\":\"white\",\"startlinecolor\":\"#2a3f5f\"},\"type\":\"carpet\"}],\"table\":[{\"cells\":{\"fill\":{\"color\":\"#EBF0F8\"},\"line\":{\"color\":\"white\"}},\"header\":{\"fill\":{\"color\":\"#C8D4E3\"},\"line\":{\"color\":\"white\"}},\"type\":\"table\"}],\"barpolar\":[{\"marker\":{\"line\":{\"color\":\"#E5ECF6\",\"width\":0.5},\"pattern\":{\"fillmode\":\"overlay\",\"size\":10,\"solidity\":0.2}},\"type\":\"barpolar\"}],\"pie\":[{\"automargin\":true,\"type\":\"pie\"}]},\"layout\":{\"autotypenumbers\":\"strict\",\"colorway\":[\"#636efa\",\"#EF553B\",\"#00cc96\",\"#ab63fa\",\"#FFA15A\",\"#19d3f3\",\"#FF6692\",\"#B6E880\",\"#FF97FF\",\"#FECB52\"],\"font\":{\"color\":\"#2a3f5f\"},\"hovermode\":\"closest\",\"hoverlabel\":{\"align\":\"left\"},\"paper_bgcolor\":\"white\",\"plot_bgcolor\":\"#E5ECF6\",\"polar\":{\"bgcolor\":\"#E5ECF6\",\"angularaxis\":{\"gridcolor\":\"white\",\"linecolor\":\"white\",\"ticks\":\"\"},\"radialaxis\":{\"gridcolor\":\"white\",\"linecolor\":\"white\",\"ticks\":\"\"}},\"ternary\":{\"bgcolor\":\"#E5ECF6\",\"aaxis\":{\"gridcolor\":\"white\",\"linecolor\":\"white\",\"ticks\":\"\"},\"baxis\":{\"gridcolor\":\"white\",\"linecolor\":\"white\",\"ticks\":\"\"},\"caxis\":{\"gridcolor\":\"white\",\"linecolor\":\"white\",\"ticks\":\"\"}},\"coloraxis\":{\"colorbar\":{\"outlinewidth\":0,\"ticks\":\"\"}},\"colorscale\":{\"sequential\":[[0.0,\"#0d0887\"],[0.1111111111111111,\"#46039f\"],[0.2222222222222222,\"#7201a8\"],[0.3333333333333333,\"#9c179e\"],[0.4444444444444444,\"#bd3786\"],[0.5555555555555556,\"#d8576b\"],[0.6666666666666666,\"#ed7953\"],[0.7777777777777778,\"#fb9f3a\"],[0.8888888888888888,\"#fdca26\"],[1.0,\"#f0f921\"]],\"sequentialminus\":[[0.0,\"#0d0887\"],[0.1111111111111111,\"#46039f\"],[0.2222222222222222,\"#7201a8\"],[0.3333333333333333,\"#9c179e\"],[0.4444444444444444,\"#bd3786\"],[0.5555555555555556,\"#d8576b\"],[0.6666666666666666,\"#ed7953\"],[0.7777777777777778,\"#fb9f3a\"],[0.8888888888888888,\"#fdca26\"],[1.0,\"#f0f921\"]],\"diverging\":[[0,\"#8e0152\"],[0.1,\"#c51b7d\"],[0.2,\"#de77ae\"],[0.3,\"#f1b6da\"],[0.4,\"#fde0ef\"],[0.5,\"#f7f7f7\"],[0.6,\"#e6f5d0\"],[0.7,\"#b8e186\"],[0.8,\"#7fbc41\"],[0.9,\"#4d9221\"],[1,\"#276419\"]]},\"xaxis\":{\"gridcolor\":\"white\",\"linecolor\":\"white\",\"ticks\":\"\",\"title\":{\"standoff\":15},\"zerolinecolor\":\"white\",\"automargin\":true,\"zerolinewidth\":2},\"yaxis\":{\"gridcolor\":\"white\",\"linecolor\":\"white\",\"ticks\":\"\",\"title\":{\"standoff\":15},\"zerolinecolor\":\"white\",\"automargin\":true,\"zerolinewidth\":2},\"scene\":{\"xaxis\":{\"backgroundcolor\":\"#E5ECF6\",\"gridcolor\":\"white\",\"linecolor\":\"white\",\"showbackground\":true,\"ticks\":\"\",\"zerolinecolor\":\"white\",\"gridwidth\":2},\"yaxis\":{\"backgroundcolor\":\"#E5ECF6\",\"gridcolor\":\"white\",\"linecolor\":\"white\",\"showbackground\":true,\"ticks\":\"\",\"zerolinecolor\":\"white\",\"gridwidth\":2},\"zaxis\":{\"backgroundcolor\":\"#E5ECF6\",\"gridcolor\":\"white\",\"linecolor\":\"white\",\"showbackground\":true,\"ticks\":\"\",\"zerolinecolor\":\"white\",\"gridwidth\":2}},\"shapedefaults\":{\"line\":{\"color\":\"#2a3f5f\"}},\"annotationdefaults\":{\"arrowcolor\":\"#2a3f5f\",\"arrowhead\":0,\"arrowwidth\":1},\"geo\":{\"bgcolor\":\"white\",\"landcolor\":\"#E5ECF6\",\"subunitcolor\":\"white\",\"showland\":true,\"showlakes\":true,\"lakecolor\":\"white\"},\"title\":{\"x\":0.05},\"mapbox\":{\"style\":\"light\"}}},\"geo\":{\"domain\":{\"x\":[0.0,1.0],\"y\":[0.0,1.0]},\"center\":{},\"projection\":{\"type\":\"natural earth\"},\"showframe\":false,\"showcoastlines\":true},\"coloraxis\":{\"colorbar\":{\"title\":{\"text\":\"Happiness\"}},\"colorscale\":[[0.0,\"#0d0887\"],[0.1111111111111111,\"#46039f\"],[0.2222222222222222,\"#7201a8\"],[0.3333333333333333,\"#9c179e\"],[0.4444444444444444,\"#bd3786\"],[0.5555555555555556,\"#d8576b\"],[0.6666666666666666,\"#ed7953\"],[0.7777777777777778,\"#fb9f3a\"],[0.8888888888888888,\"#fdca26\"],[1.0,\"#f0f921\"]]},\"legend\":{\"tracegroupgap\":0},\"title\":{\"text\":\"World Happiness Score by Country\"},\"height\":600,\"width\":1200,\"margin\":{\"r\":0,\"t\":60,\"l\":0,\"b\":0}},                        {\"responsive\": true}                    ).then(function(){\n",
       "                            \n",
       "var gd = document.getElementById('a9eb6425-92c2-441b-84f7-c941e6d80529');\n",
       "var x = new MutationObserver(function (mutations, observer) {{\n",
       "        var display = window.getComputedStyle(gd).display;\n",
       "        if (!display || display === 'none') {{\n",
       "            console.log([gd, 'removed!']);\n",
       "            Plotly.purge(gd);\n",
       "            observer.disconnect();\n",
       "        }}\n",
       "}});\n",
       "\n",
       "// Listen for the removal of the full notebook cells\n",
       "var notebookContainer = gd.closest('#notebook-container');\n",
       "if (notebookContainer) {{\n",
       "    x.observe(notebookContainer, {childList: true});\n",
       "}}\n",
       "\n",
       "// Listen for the clearing of the current output cell\n",
       "var outputEl = gd.closest('.output');\n",
       "if (outputEl) {{\n",
       "    x.observe(outputEl, {childList: true});\n",
       "}}\n",
       "\n",
       "                        })                };            </script>        </div>"
      ]
     },
     "metadata": {},
     "output_type": "display_data"
    }
   ],
   "source": [
    "import pandas as pd\n",
    "import plotly.express as px\n",
    "\n",
    "df = pd.read_csv('final.csv')\n",
    "\n",
    "fig = px.choropleth(\n",
    "    df,\n",
    "    locations='Country',\n",
    "    locationmode='country names',\n",
    "    color='Happiness',\n",
    "    hover_name='Country',\n",
    "    color_continuous_scale='Plasma',\n",
    "    title='World Happiness Score by Country',\n",
    "    width=1200,\n",
    "    height=600\n",
    ")\n",
    "\n",
    "fig.update_layout(\n",
    "    geo=dict(\n",
    "        showframe=False,\n",
    "        showcoastlines=True,\n",
    "        projection_type='natural earth'\n",
    "    ),\n",
    "    margin={\"r\":0,\"t\":60,\"l\":0,\"b\":0}\n",
    ")\n",
    "\n",
    "fig.show()\n"
   ]
  },
  {
   "cell_type": "code",
   "execution_count": null,
   "id": "934fee4f",
   "metadata": {},
   "outputs": [
    {
     "data": {
      "application/vnd.plotly.v1+json": {
       "config": {
        "plotlyServerURL": "https://plot.ly"
       },
       "data": [
        {
         "colorbar": {
          "title": {
           "text": "Pearson r"
          }
         },
         "colorscale": [
          [
           0,
           "rgb(103,0,31)"
          ],
          [
           0.1,
           "rgb(178,24,43)"
          ],
          [
           0.2,
           "rgb(214,96,77)"
          ],
          [
           0.3,
           "rgb(244,165,130)"
          ],
          [
           0.4,
           "rgb(253,219,199)"
          ],
          [
           0.5,
           "rgb(247,247,247)"
          ],
          [
           0.6,
           "rgb(209,229,240)"
          ],
          [
           0.7,
           "rgb(146,197,222)"
          ],
          [
           0.8,
           "rgb(67,147,195)"
          ],
          [
           0.9,
           "rgb(33,102,172)"
          ],
          [
           1,
           "rgb(5,48,97)"
          ]
         ],
         "hoverongaps": false,
         "text": [
          [
           "0.77",
           "0.32",
           "-0.25",
           "-0.22",
           "0.18",
           "0.17"
          ]
         ],
         "textfont": {
          "size": 14
         },
         "texttemplate": "%{text}",
         "type": "heatmap",
         "x": [
          "Life_expectancy",
          "Edu_expenditure_pct",
          "Unemployment_rate",
          "Gini_index",
          "GDP_current_usd",
          "GNI_current_usd"
         ],
         "y": [
          "Happiness"
         ],
         "z": [
          [
           0.7736481330602926,
           0.3198404160698538,
           -0.24925055070300098,
           -0.22300973295355409,
           0.17576219514602495,
           0.17481631789653462
          ]
         ],
         "zmax": 1,
         "zmid": 0,
         "zmin": -1
        }
       ],
       "layout": {
        "height": 500,
        "margin": {
         "b": 100,
         "l": 80,
         "r": 80,
         "t": 60
        },
        "template": {
         "data": {
          "bar": [
           {
            "error_x": {
             "color": "#2a3f5f"
            },
            "error_y": {
             "color": "#2a3f5f"
            },
            "marker": {
             "line": {
              "color": "#E5ECF6",
              "width": 0.5
             },
             "pattern": {
              "fillmode": "overlay",
              "size": 10,
              "solidity": 0.2
             }
            },
            "type": "bar"
           }
          ],
          "barpolar": [
           {
            "marker": {
             "line": {
              "color": "#E5ECF6",
              "width": 0.5
             },
             "pattern": {
              "fillmode": "overlay",
              "size": 10,
              "solidity": 0.2
             }
            },
            "type": "barpolar"
           }
          ],
          "carpet": [
           {
            "aaxis": {
             "endlinecolor": "#2a3f5f",
             "gridcolor": "white",
             "linecolor": "white",
             "minorgridcolor": "white",
             "startlinecolor": "#2a3f5f"
            },
            "baxis": {
             "endlinecolor": "#2a3f5f",
             "gridcolor": "white",
             "linecolor": "white",
             "minorgridcolor": "white",
             "startlinecolor": "#2a3f5f"
            },
            "type": "carpet"
           }
          ],
          "choropleth": [
           {
            "colorbar": {
             "outlinewidth": 0,
             "ticks": ""
            },
            "type": "choropleth"
           }
          ],
          "contour": [
           {
            "colorbar": {
             "outlinewidth": 0,
             "ticks": ""
            },
            "colorscale": [
             [
              0,
              "#0d0887"
             ],
             [
              0.1111111111111111,
              "#46039f"
             ],
             [
              0.2222222222222222,
              "#7201a8"
             ],
             [
              0.3333333333333333,
              "#9c179e"
             ],
             [
              0.4444444444444444,
              "#bd3786"
             ],
             [
              0.5555555555555556,
              "#d8576b"
             ],
             [
              0.6666666666666666,
              "#ed7953"
             ],
             [
              0.7777777777777778,
              "#fb9f3a"
             ],
             [
              0.8888888888888888,
              "#fdca26"
             ],
             [
              1,
              "#f0f921"
             ]
            ],
            "type": "contour"
           }
          ],
          "contourcarpet": [
           {
            "colorbar": {
             "outlinewidth": 0,
             "ticks": ""
            },
            "type": "contourcarpet"
           }
          ],
          "heatmap": [
           {
            "colorbar": {
             "outlinewidth": 0,
             "ticks": ""
            },
            "colorscale": [
             [
              0,
              "#0d0887"
             ],
             [
              0.1111111111111111,
              "#46039f"
             ],
             [
              0.2222222222222222,
              "#7201a8"
             ],
             [
              0.3333333333333333,
              "#9c179e"
             ],
             [
              0.4444444444444444,
              "#bd3786"
             ],
             [
              0.5555555555555556,
              "#d8576b"
             ],
             [
              0.6666666666666666,
              "#ed7953"
             ],
             [
              0.7777777777777778,
              "#fb9f3a"
             ],
             [
              0.8888888888888888,
              "#fdca26"
             ],
             [
              1,
              "#f0f921"
             ]
            ],
            "type": "heatmap"
           }
          ],
          "histogram": [
           {
            "marker": {
             "pattern": {
              "fillmode": "overlay",
              "size": 10,
              "solidity": 0.2
             }
            },
            "type": "histogram"
           }
          ],
          "histogram2d": [
           {
            "colorbar": {
             "outlinewidth": 0,
             "ticks": ""
            },
            "colorscale": [
             [
              0,
              "#0d0887"
             ],
             [
              0.1111111111111111,
              "#46039f"
             ],
             [
              0.2222222222222222,
              "#7201a8"
             ],
             [
              0.3333333333333333,
              "#9c179e"
             ],
             [
              0.4444444444444444,
              "#bd3786"
             ],
             [
              0.5555555555555556,
              "#d8576b"
             ],
             [
              0.6666666666666666,
              "#ed7953"
             ],
             [
              0.7777777777777778,
              "#fb9f3a"
             ],
             [
              0.8888888888888888,
              "#fdca26"
             ],
             [
              1,
              "#f0f921"
             ]
            ],
            "type": "histogram2d"
           }
          ],
          "histogram2dcontour": [
           {
            "colorbar": {
             "outlinewidth": 0,
             "ticks": ""
            },
            "colorscale": [
             [
              0,
              "#0d0887"
             ],
             [
              0.1111111111111111,
              "#46039f"
             ],
             [
              0.2222222222222222,
              "#7201a8"
             ],
             [
              0.3333333333333333,
              "#9c179e"
             ],
             [
              0.4444444444444444,
              "#bd3786"
             ],
             [
              0.5555555555555556,
              "#d8576b"
             ],
             [
              0.6666666666666666,
              "#ed7953"
             ],
             [
              0.7777777777777778,
              "#fb9f3a"
             ],
             [
              0.8888888888888888,
              "#fdca26"
             ],
             [
              1,
              "#f0f921"
             ]
            ],
            "type": "histogram2dcontour"
           }
          ],
          "mesh3d": [
           {
            "colorbar": {
             "outlinewidth": 0,
             "ticks": ""
            },
            "type": "mesh3d"
           }
          ],
          "parcoords": [
           {
            "line": {
             "colorbar": {
              "outlinewidth": 0,
              "ticks": ""
             }
            },
            "type": "parcoords"
           }
          ],
          "pie": [
           {
            "automargin": true,
            "type": "pie"
           }
          ],
          "scatter": [
           {
            "fillpattern": {
             "fillmode": "overlay",
             "size": 10,
             "solidity": 0.2
            },
            "type": "scatter"
           }
          ],
          "scatter3d": [
           {
            "line": {
             "colorbar": {
              "outlinewidth": 0,
              "ticks": ""
             }
            },
            "marker": {
             "colorbar": {
              "outlinewidth": 0,
              "ticks": ""
             }
            },
            "type": "scatter3d"
           }
          ],
          "scattercarpet": [
           {
            "marker": {
             "colorbar": {
              "outlinewidth": 0,
              "ticks": ""
             }
            },
            "type": "scattercarpet"
           }
          ],
          "scattergeo": [
           {
            "marker": {
             "colorbar": {
              "outlinewidth": 0,
              "ticks": ""
             }
            },
            "type": "scattergeo"
           }
          ],
          "scattergl": [
           {
            "marker": {
             "colorbar": {
              "outlinewidth": 0,
              "ticks": ""
             }
            },
            "type": "scattergl"
           }
          ],
          "scattermap": [
           {
            "marker": {
             "colorbar": {
              "outlinewidth": 0,
              "ticks": ""
             }
            },
            "type": "scattermap"
           }
          ],
          "scattermapbox": [
           {
            "marker": {
             "colorbar": {
              "outlinewidth": 0,
              "ticks": ""
             }
            },
            "type": "scattermapbox"
           }
          ],
          "scatterpolar": [
           {
            "marker": {
             "colorbar": {
              "outlinewidth": 0,
              "ticks": ""
             }
            },
            "type": "scatterpolar"
           }
          ],
          "scatterpolargl": [
           {
            "marker": {
             "colorbar": {
              "outlinewidth": 0,
              "ticks": ""
             }
            },
            "type": "scatterpolargl"
           }
          ],
          "scatterternary": [
           {
            "marker": {
             "colorbar": {
              "outlinewidth": 0,
              "ticks": ""
             }
            },
            "type": "scatterternary"
           }
          ],
          "surface": [
           {
            "colorbar": {
             "outlinewidth": 0,
             "ticks": ""
            },
            "colorscale": [
             [
              0,
              "#0d0887"
             ],
             [
              0.1111111111111111,
              "#46039f"
             ],
             [
              0.2222222222222222,
              "#7201a8"
             ],
             [
              0.3333333333333333,
              "#9c179e"
             ],
             [
              0.4444444444444444,
              "#bd3786"
             ],
             [
              0.5555555555555556,
              "#d8576b"
             ],
             [
              0.6666666666666666,
              "#ed7953"
             ],
             [
              0.7777777777777778,
              "#fb9f3a"
             ],
             [
              0.8888888888888888,
              "#fdca26"
             ],
             [
              1,
              "#f0f921"
             ]
            ],
            "type": "surface"
           }
          ],
          "table": [
           {
            "cells": {
             "fill": {
              "color": "#EBF0F8"
             },
             "line": {
              "color": "white"
             }
            },
            "header": {
             "fill": {
              "color": "#C8D4E3"
             },
             "line": {
              "color": "white"
             }
            },
            "type": "table"
           }
          ]
         },
         "layout": {
          "annotationdefaults": {
           "arrowcolor": "#2a3f5f",
           "arrowhead": 0,
           "arrowwidth": 1
          },
          "autotypenumbers": "strict",
          "coloraxis": {
           "colorbar": {
            "outlinewidth": 0,
            "ticks": ""
           }
          },
          "colorscale": {
           "diverging": [
            [
             0,
             "#8e0152"
            ],
            [
             0.1,
             "#c51b7d"
            ],
            [
             0.2,
             "#de77ae"
            ],
            [
             0.3,
             "#f1b6da"
            ],
            [
             0.4,
             "#fde0ef"
            ],
            [
             0.5,
             "#f7f7f7"
            ],
            [
             0.6,
             "#e6f5d0"
            ],
            [
             0.7,
             "#b8e186"
            ],
            [
             0.8,
             "#7fbc41"
            ],
            [
             0.9,
             "#4d9221"
            ],
            [
             1,
             "#276419"
            ]
           ],
           "sequential": [
            [
             0,
             "#0d0887"
            ],
            [
             0.1111111111111111,
             "#46039f"
            ],
            [
             0.2222222222222222,
             "#7201a8"
            ],
            [
             0.3333333333333333,
             "#9c179e"
            ],
            [
             0.4444444444444444,
             "#bd3786"
            ],
            [
             0.5555555555555556,
             "#d8576b"
            ],
            [
             0.6666666666666666,
             "#ed7953"
            ],
            [
             0.7777777777777778,
             "#fb9f3a"
            ],
            [
             0.8888888888888888,
             "#fdca26"
            ],
            [
             1,
             "#f0f921"
            ]
           ],
           "sequentialminus": [
            [
             0,
             "#0d0887"
            ],
            [
             0.1111111111111111,
             "#46039f"
            ],
            [
             0.2222222222222222,
             "#7201a8"
            ],
            [
             0.3333333333333333,
             "#9c179e"
            ],
            [
             0.4444444444444444,
             "#bd3786"
            ],
            [
             0.5555555555555556,
             "#d8576b"
            ],
            [
             0.6666666666666666,
             "#ed7953"
            ],
            [
             0.7777777777777778,
             "#fb9f3a"
            ],
            [
             0.8888888888888888,
             "#fdca26"
            ],
            [
             1,
             "#f0f921"
            ]
           ]
          },
          "colorway": [
           "#636efa",
           "#EF553B",
           "#00cc96",
           "#ab63fa",
           "#FFA15A",
           "#19d3f3",
           "#FF6692",
           "#B6E880",
           "#FF97FF",
           "#FECB52"
          ],
          "font": {
           "color": "#2a3f5f"
          },
          "geo": {
           "bgcolor": "white",
           "lakecolor": "white",
           "landcolor": "#E5ECF6",
           "showlakes": true,
           "showland": true,
           "subunitcolor": "white"
          },
          "hoverlabel": {
           "align": "left"
          },
          "hovermode": "closest",
          "mapbox": {
           "style": "light"
          },
          "paper_bgcolor": "white",
          "plot_bgcolor": "#E5ECF6",
          "polar": {
           "angularaxis": {
            "gridcolor": "white",
            "linecolor": "white",
            "ticks": ""
           },
           "bgcolor": "#E5ECF6",
           "radialaxis": {
            "gridcolor": "white",
            "linecolor": "white",
            "ticks": ""
           }
          },
          "scene": {
           "xaxis": {
            "backgroundcolor": "#E5ECF6",
            "gridcolor": "white",
            "gridwidth": 2,
            "linecolor": "white",
            "showbackground": true,
            "ticks": "",
            "zerolinecolor": "white"
           },
           "yaxis": {
            "backgroundcolor": "#E5ECF6",
            "gridcolor": "white",
            "gridwidth": 2,
            "linecolor": "white",
            "showbackground": true,
            "ticks": "",
            "zerolinecolor": "white"
           },
           "zaxis": {
            "backgroundcolor": "#E5ECF6",
            "gridcolor": "white",
            "gridwidth": 2,
            "linecolor": "white",
            "showbackground": true,
            "ticks": "",
            "zerolinecolor": "white"
           }
          },
          "shapedefaults": {
           "line": {
            "color": "#2a3f5f"
           }
          },
          "ternary": {
           "aaxis": {
            "gridcolor": "white",
            "linecolor": "white",
            "ticks": ""
           },
           "baxis": {
            "gridcolor": "white",
            "linecolor": "white",
            "ticks": ""
           },
           "bgcolor": "#E5ECF6",
           "caxis": {
            "gridcolor": "white",
            "linecolor": "white",
            "ticks": ""
           }
          },
          "title": {
           "x": 0.05
          },
          "xaxis": {
           "automargin": true,
           "gridcolor": "white",
           "linecolor": "white",
           "ticks": "",
           "title": {
            "standoff": 15
           },
           "zerolinecolor": "white",
           "zerolinewidth": 2
          },
          "yaxis": {
           "automargin": true,
           "gridcolor": "white",
           "linecolor": "white",
           "ticks": "",
           "title": {
            "standoff": 15
           },
           "zerolinecolor": "white",
           "zerolinewidth": 2
          }
         }
        },
        "title": {
         "text": "Correlations: Happiness vs Other Indicators"
        },
        "xaxis": {
         "tickangle": -45
        },
        "yaxis": {
         "tickfont": {
          "size": 14
         }
        }
       }
      },
      "text/html": [
       "<div>            <script src=\"https://cdnjs.cloudflare.com/ajax/libs/mathjax/2.7.5/MathJax.js?config=TeX-AMS-MML_SVG\"></script><script type=\"text/javascript\">if (window.MathJax && window.MathJax.Hub && window.MathJax.Hub.Config) {window.MathJax.Hub.Config({SVG: {font: \"STIX-Web\"}});}</script>                <script type=\"text/javascript\">window.PlotlyConfig = {MathJaxConfig: 'local'};</script>\n",
       "        <script charset=\"utf-8\" src=\"https://cdn.plot.ly/plotly-3.0.1.min.js\"></script>                <div id=\"e1008d2e-2818-44c0-b39d-4eb0ff960e37\" class=\"plotly-graph-div\" style=\"height:500px; width:100%;\"></div>            <script type=\"text/javascript\">                window.PLOTLYENV=window.PLOTLYENV || {};                                if (document.getElementById(\"e1008d2e-2818-44c0-b39d-4eb0ff960e37\")) {                    Plotly.newPlot(                        \"e1008d2e-2818-44c0-b39d-4eb0ff960e37\",                        [{\"colorbar\":{\"title\":{\"text\":\"Pearson r\"}},\"colorscale\":[[0.0,\"rgb(103,0,31)\"],[0.1,\"rgb(178,24,43)\"],[0.2,\"rgb(214,96,77)\"],[0.3,\"rgb(244,165,130)\"],[0.4,\"rgb(253,219,199)\"],[0.5,\"rgb(247,247,247)\"],[0.6,\"rgb(209,229,240)\"],[0.7,\"rgb(146,197,222)\"],[0.8,\"rgb(67,147,195)\"],[0.9,\"rgb(33,102,172)\"],[1.0,\"rgb(5,48,97)\"]],\"hoverongaps\":false,\"text\":[[\"0.77\",\"0.32\",\"-0.25\",\"-0.22\",\"0.18\",\"0.17\"]],\"textfont\":{\"size\":14},\"texttemplate\":\"%{text}\",\"x\":[\"Life_expectancy\",\"Edu_expenditure_pct\",\"Unemployment_rate\",\"Gini_index\",\"GDP_current_usd\",\"GNI_current_usd\"],\"y\":[\"Happiness\"],\"z\":[[0.7736481330602926,0.3198404160698538,-0.24925055070300098,-0.22300973295355409,0.17576219514602495,0.17481631789653462]],\"zmax\":1,\"zmid\":0,\"zmin\":-1,\"type\":\"heatmap\"}],                        {\"template\":{\"data\":{\"histogram2dcontour\":[{\"type\":\"histogram2dcontour\",\"colorbar\":{\"outlinewidth\":0,\"ticks\":\"\"},\"colorscale\":[[0.0,\"#0d0887\"],[0.1111111111111111,\"#46039f\"],[0.2222222222222222,\"#7201a8\"],[0.3333333333333333,\"#9c179e\"],[0.4444444444444444,\"#bd3786\"],[0.5555555555555556,\"#d8576b\"],[0.6666666666666666,\"#ed7953\"],[0.7777777777777778,\"#fb9f3a\"],[0.8888888888888888,\"#fdca26\"],[1.0,\"#f0f921\"]]}],\"choropleth\":[{\"type\":\"choropleth\",\"colorbar\":{\"outlinewidth\":0,\"ticks\":\"\"}}],\"histogram2d\":[{\"type\":\"histogram2d\",\"colorbar\":{\"outlinewidth\":0,\"ticks\":\"\"},\"colorscale\":[[0.0,\"#0d0887\"],[0.1111111111111111,\"#46039f\"],[0.2222222222222222,\"#7201a8\"],[0.3333333333333333,\"#9c179e\"],[0.4444444444444444,\"#bd3786\"],[0.5555555555555556,\"#d8576b\"],[0.6666666666666666,\"#ed7953\"],[0.7777777777777778,\"#fb9f3a\"],[0.8888888888888888,\"#fdca26\"],[1.0,\"#f0f921\"]]}],\"heatmap\":[{\"type\":\"heatmap\",\"colorbar\":{\"outlinewidth\":0,\"ticks\":\"\"},\"colorscale\":[[0.0,\"#0d0887\"],[0.1111111111111111,\"#46039f\"],[0.2222222222222222,\"#7201a8\"],[0.3333333333333333,\"#9c179e\"],[0.4444444444444444,\"#bd3786\"],[0.5555555555555556,\"#d8576b\"],[0.6666666666666666,\"#ed7953\"],[0.7777777777777778,\"#fb9f3a\"],[0.8888888888888888,\"#fdca26\"],[1.0,\"#f0f921\"]]}],\"contourcarpet\":[{\"type\":\"contourcarpet\",\"colorbar\":{\"outlinewidth\":0,\"ticks\":\"\"}}],\"contour\":[{\"type\":\"contour\",\"colorbar\":{\"outlinewidth\":0,\"ticks\":\"\"},\"colorscale\":[[0.0,\"#0d0887\"],[0.1111111111111111,\"#46039f\"],[0.2222222222222222,\"#7201a8\"],[0.3333333333333333,\"#9c179e\"],[0.4444444444444444,\"#bd3786\"],[0.5555555555555556,\"#d8576b\"],[0.6666666666666666,\"#ed7953\"],[0.7777777777777778,\"#fb9f3a\"],[0.8888888888888888,\"#fdca26\"],[1.0,\"#f0f921\"]]}],\"surface\":[{\"type\":\"surface\",\"colorbar\":{\"outlinewidth\":0,\"ticks\":\"\"},\"colorscale\":[[0.0,\"#0d0887\"],[0.1111111111111111,\"#46039f\"],[0.2222222222222222,\"#7201a8\"],[0.3333333333333333,\"#9c179e\"],[0.4444444444444444,\"#bd3786\"],[0.5555555555555556,\"#d8576b\"],[0.6666666666666666,\"#ed7953\"],[0.7777777777777778,\"#fb9f3a\"],[0.8888888888888888,\"#fdca26\"],[1.0,\"#f0f921\"]]}],\"mesh3d\":[{\"type\":\"mesh3d\",\"colorbar\":{\"outlinewidth\":0,\"ticks\":\"\"}}],\"scatter\":[{\"fillpattern\":{\"fillmode\":\"overlay\",\"size\":10,\"solidity\":0.2},\"type\":\"scatter\"}],\"parcoords\":[{\"type\":\"parcoords\",\"line\":{\"colorbar\":{\"outlinewidth\":0,\"ticks\":\"\"}}}],\"scatterpolargl\":[{\"type\":\"scatterpolargl\",\"marker\":{\"colorbar\":{\"outlinewidth\":0,\"ticks\":\"\"}}}],\"bar\":[{\"error_x\":{\"color\":\"#2a3f5f\"},\"error_y\":{\"color\":\"#2a3f5f\"},\"marker\":{\"line\":{\"color\":\"#E5ECF6\",\"width\":0.5},\"pattern\":{\"fillmode\":\"overlay\",\"size\":10,\"solidity\":0.2}},\"type\":\"bar\"}],\"scattergeo\":[{\"type\":\"scattergeo\",\"marker\":{\"colorbar\":{\"outlinewidth\":0,\"ticks\":\"\"}}}],\"scatterpolar\":[{\"type\":\"scatterpolar\",\"marker\":{\"colorbar\":{\"outlinewidth\":0,\"ticks\":\"\"}}}],\"histogram\":[{\"marker\":{\"pattern\":{\"fillmode\":\"overlay\",\"size\":10,\"solidity\":0.2}},\"type\":\"histogram\"}],\"scattergl\":[{\"type\":\"scattergl\",\"marker\":{\"colorbar\":{\"outlinewidth\":0,\"ticks\":\"\"}}}],\"scatter3d\":[{\"type\":\"scatter3d\",\"line\":{\"colorbar\":{\"outlinewidth\":0,\"ticks\":\"\"}},\"marker\":{\"colorbar\":{\"outlinewidth\":0,\"ticks\":\"\"}}}],\"scattermap\":[{\"type\":\"scattermap\",\"marker\":{\"colorbar\":{\"outlinewidth\":0,\"ticks\":\"\"}}}],\"scattermapbox\":[{\"type\":\"scattermapbox\",\"marker\":{\"colorbar\":{\"outlinewidth\":0,\"ticks\":\"\"}}}],\"scatterternary\":[{\"type\":\"scatterternary\",\"marker\":{\"colorbar\":{\"outlinewidth\":0,\"ticks\":\"\"}}}],\"scattercarpet\":[{\"type\":\"scattercarpet\",\"marker\":{\"colorbar\":{\"outlinewidth\":0,\"ticks\":\"\"}}}],\"carpet\":[{\"aaxis\":{\"endlinecolor\":\"#2a3f5f\",\"gridcolor\":\"white\",\"linecolor\":\"white\",\"minorgridcolor\":\"white\",\"startlinecolor\":\"#2a3f5f\"},\"baxis\":{\"endlinecolor\":\"#2a3f5f\",\"gridcolor\":\"white\",\"linecolor\":\"white\",\"minorgridcolor\":\"white\",\"startlinecolor\":\"#2a3f5f\"},\"type\":\"carpet\"}],\"table\":[{\"cells\":{\"fill\":{\"color\":\"#EBF0F8\"},\"line\":{\"color\":\"white\"}},\"header\":{\"fill\":{\"color\":\"#C8D4E3\"},\"line\":{\"color\":\"white\"}},\"type\":\"table\"}],\"barpolar\":[{\"marker\":{\"line\":{\"color\":\"#E5ECF6\",\"width\":0.5},\"pattern\":{\"fillmode\":\"overlay\",\"size\":10,\"solidity\":0.2}},\"type\":\"barpolar\"}],\"pie\":[{\"automargin\":true,\"type\":\"pie\"}]},\"layout\":{\"autotypenumbers\":\"strict\",\"colorway\":[\"#636efa\",\"#EF553B\",\"#00cc96\",\"#ab63fa\",\"#FFA15A\",\"#19d3f3\",\"#FF6692\",\"#B6E880\",\"#FF97FF\",\"#FECB52\"],\"font\":{\"color\":\"#2a3f5f\"},\"hovermode\":\"closest\",\"hoverlabel\":{\"align\":\"left\"},\"paper_bgcolor\":\"white\",\"plot_bgcolor\":\"#E5ECF6\",\"polar\":{\"bgcolor\":\"#E5ECF6\",\"angularaxis\":{\"gridcolor\":\"white\",\"linecolor\":\"white\",\"ticks\":\"\"},\"radialaxis\":{\"gridcolor\":\"white\",\"linecolor\":\"white\",\"ticks\":\"\"}},\"ternary\":{\"bgcolor\":\"#E5ECF6\",\"aaxis\":{\"gridcolor\":\"white\",\"linecolor\":\"white\",\"ticks\":\"\"},\"baxis\":{\"gridcolor\":\"white\",\"linecolor\":\"white\",\"ticks\":\"\"},\"caxis\":{\"gridcolor\":\"white\",\"linecolor\":\"white\",\"ticks\":\"\"}},\"coloraxis\":{\"colorbar\":{\"outlinewidth\":0,\"ticks\":\"\"}},\"colorscale\":{\"sequential\":[[0.0,\"#0d0887\"],[0.1111111111111111,\"#46039f\"],[0.2222222222222222,\"#7201a8\"],[0.3333333333333333,\"#9c179e\"],[0.4444444444444444,\"#bd3786\"],[0.5555555555555556,\"#d8576b\"],[0.6666666666666666,\"#ed7953\"],[0.7777777777777778,\"#fb9f3a\"],[0.8888888888888888,\"#fdca26\"],[1.0,\"#f0f921\"]],\"sequentialminus\":[[0.0,\"#0d0887\"],[0.1111111111111111,\"#46039f\"],[0.2222222222222222,\"#7201a8\"],[0.3333333333333333,\"#9c179e\"],[0.4444444444444444,\"#bd3786\"],[0.5555555555555556,\"#d8576b\"],[0.6666666666666666,\"#ed7953\"],[0.7777777777777778,\"#fb9f3a\"],[0.8888888888888888,\"#fdca26\"],[1.0,\"#f0f921\"]],\"diverging\":[[0,\"#8e0152\"],[0.1,\"#c51b7d\"],[0.2,\"#de77ae\"],[0.3,\"#f1b6da\"],[0.4,\"#fde0ef\"],[0.5,\"#f7f7f7\"],[0.6,\"#e6f5d0\"],[0.7,\"#b8e186\"],[0.8,\"#7fbc41\"],[0.9,\"#4d9221\"],[1,\"#276419\"]]},\"xaxis\":{\"gridcolor\":\"white\",\"linecolor\":\"white\",\"ticks\":\"\",\"title\":{\"standoff\":15},\"zerolinecolor\":\"white\",\"automargin\":true,\"zerolinewidth\":2},\"yaxis\":{\"gridcolor\":\"white\",\"linecolor\":\"white\",\"ticks\":\"\",\"title\":{\"standoff\":15},\"zerolinecolor\":\"white\",\"automargin\":true,\"zerolinewidth\":2},\"scene\":{\"xaxis\":{\"backgroundcolor\":\"#E5ECF6\",\"gridcolor\":\"white\",\"linecolor\":\"white\",\"showbackground\":true,\"ticks\":\"\",\"zerolinecolor\":\"white\",\"gridwidth\":2},\"yaxis\":{\"backgroundcolor\":\"#E5ECF6\",\"gridcolor\":\"white\",\"linecolor\":\"white\",\"showbackground\":true,\"ticks\":\"\",\"zerolinecolor\":\"white\",\"gridwidth\":2},\"zaxis\":{\"backgroundcolor\":\"#E5ECF6\",\"gridcolor\":\"white\",\"linecolor\":\"white\",\"showbackground\":true,\"ticks\":\"\",\"zerolinecolor\":\"white\",\"gridwidth\":2}},\"shapedefaults\":{\"line\":{\"color\":\"#2a3f5f\"}},\"annotationdefaults\":{\"arrowcolor\":\"#2a3f5f\",\"arrowhead\":0,\"arrowwidth\":1},\"geo\":{\"bgcolor\":\"white\",\"landcolor\":\"#E5ECF6\",\"subunitcolor\":\"white\",\"showland\":true,\"showlakes\":true,\"lakecolor\":\"white\"},\"title\":{\"x\":0.05},\"mapbox\":{\"style\":\"light\"}}},\"xaxis\":{\"tickangle\":-45},\"yaxis\":{\"tickfont\":{\"size\":14}},\"margin\":{\"l\":80,\"r\":80,\"t\":60,\"b\":100},\"title\":{\"text\":\"Correlations: Happiness vs Other Indicators\"},\"height\":500},                        {\"responsive\": true}                    ).then(function(){\n",
       "                            \n",
       "var gd = document.getElementById('e1008d2e-2818-44c0-b39d-4eb0ff960e37');\n",
       "var x = new MutationObserver(function (mutations, observer) {{\n",
       "        var display = window.getComputedStyle(gd).display;\n",
       "        if (!display || display === 'none') {{\n",
       "            console.log([gd, 'removed!']);\n",
       "            Plotly.purge(gd);\n",
       "            observer.disconnect();\n",
       "        }}\n",
       "}});\n",
       "\n",
       "// Listen for the removal of the full notebook cells\n",
       "var notebookContainer = gd.closest('#notebook-container');\n",
       "if (notebookContainer) {{\n",
       "    x.observe(notebookContainer, {childList: true});\n",
       "}}\n",
       "\n",
       "// Listen for the clearing of the current output cell\n",
       "var outputEl = gd.closest('.output');\n",
       "if (outputEl) {{\n",
       "    x.observe(outputEl, {childList: true});\n",
       "}}\n",
       "\n",
       "                        })                };            </script>        </div>"
      ]
     },
     "metadata": {},
     "output_type": "display_data"
    }
   ],
   "source": [
    "import pandas as pd\n",
    "import numpy as np\n",
    "import plotly.graph_objects as go\n",
    "\n",
    "df = pd.read_csv('final.csv')\n",
    "others = [\n",
    "    'GDP_current_usd',\n",
    "    'GNI_current_usd',\n",
    "    'Gini_index',\n",
    "    'Life_expectancy',\n",
    "    'Unemployment_rate',\n",
    "    'Edu_expenditure_pct'\n",
    "]\n",
    "\n",
    "corr_with_hap = df[others].corrwith(df['Happiness'])\n",
    "corr_with_hap = corr_with_hap.reindex(\n",
    "    corr_with_hap.abs().sort_values(ascending=False).index\n",
    ")\n",
    "\n",
    "fig = go.Figure(go.Heatmap(\n",
    "    z=[corr_with_hap.values],\n",
    "    x=corr_with_hap.index,\n",
    "    y=['Happiness'],\n",
    "    zmin=-1, zmid=0, zmax=1,\n",
    "    colorscale='RdBu',\n",
    "    colorbar=dict(title='Pearson r'),\n",
    "    text=[[f\"{v:.2f}\" for v in corr_with_hap.values]],\n",
    "    texttemplate='%{text}',\n",
    "    textfont=dict(size=14),\n",
    "    hoverongaps=False\n",
    "))\n",
    "\n",
    "fig.update_layout(\n",
    "    title=\"Correlations: Happiness vs Other Indicators\",\n",
    "    xaxis_tickangle=-45,\n",
    "    yaxis=dict(tickfont=dict(size=14)),\n",
    "    height=500,\n",
    "    margin=dict(l=80, r=80, t=60, b=100)\n",
    ")\n",
    "\n",
    "fig.show()\n"
   ]
  }
 ],
 "metadata": {
  "kernelspec": {
   "display_name": "jupyterbook",
   "language": "python",
   "name": "python3"
  },
  "language_info": {
   "codemirror_mode": {
    "name": "ipython",
    "version": 3
   },
   "file_extension": ".py",
   "mimetype": "text/x-python",
   "name": "python",
   "nbconvert_exporter": "python",
   "pygments_lexer": "ipython3",
   "version": "3.10.16"
  }
 },
 "nbformat": 4,
 "nbformat_minor": 5
}