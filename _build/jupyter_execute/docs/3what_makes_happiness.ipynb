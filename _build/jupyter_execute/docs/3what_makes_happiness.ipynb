{
 "cells": [
  {
   "cell_type": "markdown",
   "id": "f45842d4",
   "metadata": {},
   "source": [
    "# What makes Happiness?"
   ]
  },
  {
   "cell_type": "markdown",
   "id": "f70591b2",
   "metadata": {},
   "source": [
    "For a long time, people have been interested in what makes us happy and how we can improve well-being in society. One big question is whether having more money or wealth actually makes people happier, or if there are other things that matter more. We often hear the saying “money can’t buy happiness,” but the real answer is a bit more complicated than that.\n",
    "\n",
    "In this data story, we will explore how happiness relates to different economic and social factors using information from the World Happiness Report 2019 and World Development Indicators. This report looks at how happy people are in different countries and compares that with demographic variables like GDP per capita, Gross National Income (GNI), the gini index, unemployment rates, education levels, and life expectancy.\n",
    "\n",
    "We want to find out if richer countries really have happier people, and if so, how strong this connection is. But we will also look beyond money to see how things like having a job, going to school, and living a long, healthy life affect happiness. For example, being unemployed might make people less happy even if their country is wealthy, and having a good education could improve well-being in ways that money alone can’t.\n",
    "\n",
    "First, we will compare happiness scores with income indicators like GDP per capita and GNI. Then, we will analyze how unemployment rates relate to happiness. After that, we will look at the gini index, education and life expectancy to see how these factors could affect happiness scores across countries.\n",
    "\n",
    "By comparing these different aspects, we hope to better understand what really contributes to happiness around the world. This will help us see whether the saying “money buys happiness” really holds. And if it doesn’t hold, we could find out what does make happiness.\n"
   ]
  },
  {
   "cell_type": "markdown",
   "id": "623446df",
   "metadata": {},
   "source": [
    "**Money does buy happiness**\n",
    "\n",
    "It is often proposed that greater national wealth leads to higher levels of happiness among citizens. To see wether they are correlated, we analysed how average happiness scores relate to three key economic indicators: Gross Domestic Product (GDP), Gross National Income (GNI), and the Gini Index (Income inequality).\n",
    "\n",
    "\n",
    "\n",
    "The trendlines suggest that countries with higher GDP and GNI often report higher happiness levels. This supports the general belief that wealth leads to happiness due to the fact that wealth increases access to basic needs, and social stability, factors that are positively associated with well-being and happiness. However, the relationship is not linear, and several wealthy countries show only moderate happiness scores, this suggests other factors are still extremely relevant and happiness cannot be predicted by looking at wealth alone. Correlation does not imply causation, and the observed pattern may be influenced by unmeasured factors.\n",
    "\n",
    "The third plot, Happiness vs Gini Index, presents a different insight. Within this dataset, a negative correlation is visible, with happiness tending to decline as income inequality (measured by the Gini Index) increases. . In other words, even among wealthier nations, greater inequality is associated with lower average happiness. This aligns with findings by researchers such as Oishi et al., (2011), who in their research found that americans reported being happier on average in years where the national income inequality was less. This suggests income inequality might be a factor which has impact on the happiness . However income inequality may be acting as a substitute for how people perceive the fairness in society and the level of social mobility people have. Happiness is also a subjective measurement, and cultural differences in how inequality is perceived can vary widely, potentially affecting how people respond in surveys.\n",
    "\n",
    "The plots suggest that while wealth does matter, its distribution may be even more of a factor. Factors such as income equality are likely important to how people will respond to questions about their happiness. "
   ]
  },
  {
   "cell_type": "code",
   "execution_count": 1,
   "id": "4d5f346a",
   "metadata": {},
   "outputs": [
    {
     "ename": "ModuleNotFoundError",
     "evalue": "No module named 'sklearn'",
     "output_type": "error",
     "traceback": [
      "\u001b[31m---------------------------------------------------------------------------\u001b[39m",
      "\u001b[31mModuleNotFoundError\u001b[39m                       Traceback (most recent call last)",
      "\u001b[36mCell\u001b[39m\u001b[36m \u001b[39m\u001b[32mIn[1]\u001b[39m\u001b[32m, line 5\u001b[39m\n\u001b[32m      3\u001b[39m \u001b[38;5;28;01mimport\u001b[39;00m\u001b[38;5;250m \u001b[39m\u001b[34;01mplotly\u001b[39;00m\u001b[34;01m.\u001b[39;00m\u001b[34;01mgraph_objects\u001b[39;00m\u001b[38;5;250m \u001b[39m\u001b[38;5;28;01mas\u001b[39;00m\u001b[38;5;250m \u001b[39m\u001b[34;01mgo\u001b[39;00m\n\u001b[32m      4\u001b[39m \u001b[38;5;28;01mfrom\u001b[39;00m\u001b[38;5;250m \u001b[39m\u001b[34;01mplotly\u001b[39;00m\u001b[34;01m.\u001b[39;00m\u001b[34;01moffline\u001b[39;00m\u001b[38;5;250m \u001b[39m\u001b[38;5;28;01mimport\u001b[39;00m init_notebook_mode, iplot\n\u001b[32m----> \u001b[39m\u001b[32m5\u001b[39m \u001b[38;5;28;01mfrom\u001b[39;00m\u001b[38;5;250m \u001b[39m\u001b[34;01msklearn\u001b[39;00m\u001b[34;01m.\u001b[39;00m\u001b[34;01mlinear_model\u001b[39;00m\u001b[38;5;250m \u001b[39m\u001b[38;5;28;01mimport\u001b[39;00m LinearRegression\n\u001b[32m      7\u001b[39m init_notebook_mode(connected=\u001b[38;5;28;01mTrue\u001b[39;00m)\n\u001b[32m      9\u001b[39m df = pd.read_csv(\u001b[33m'\u001b[39m\u001b[33mfinal.csv\u001b[39m\u001b[33m'\u001b[39m)\n",
      "\u001b[31mModuleNotFoundError\u001b[39m: No module named 'sklearn'"
     ]
    }
   ],
   "source": [
    "import pandas as pd\n",
    "import numpy as np\n",
    "import plotly.graph_objects as go\n",
    "from plotly.offline import init_notebook_mode, iplot\n",
    "from sklearn.linear_model import LinearRegression\n",
    "\n",
    "init_notebook_mode(connected=True)\n",
    "\n",
    "df = pd.read_csv('final.csv')\n",
    "\n",
    "df['Happiness_rank'] = df['Happiness'].rank(method='min', ascending=False).astype(int)\n",
    "total_countries = df['Country'].nunique()\n",
    "\n",
    "df_gdp  = df.dropna(subset=['GDP_current_usd', 'Happiness', 'Country', 'Happiness_rank'])\n",
    "df_gni  = df.dropna(subset=['GNI_current_usd', 'Happiness', 'Country', 'Happiness_rank'])\n",
    "df_gini = df.dropna(subset=['Gini_index',       'Happiness', 'Country', 'Happiness_rank'])\n",
    "\n",
    "def add_trend_line(fig, x, y, name, color, visible=True):\n",
    "    \n",
    "    x_vals = np.log(x) if name in ['GDP', 'GNI'] else x\n",
    "    x_vals = x_vals.values.reshape(-1, 1)\n",
    "    y_vals = y.values.reshape(-1, 1)\n",
    "    \n",
    "    model = LinearRegression()\n",
    "    model.fit(x_vals, y_vals)\n",
    "    \n",
    "    \n",
    "    x_trend = np.linspace(min(x), max(x), 100)\n",
    "    x_trend_input = np.log(x_trend) if name in ['GDP', 'GNI'] else x_trend\n",
    "    \n",
    "    y_trend = model.predict(x_trend_input.reshape(-1, 1)).flatten()\n",
    "    \n",
    "    fig.add_trace(\n",
    "        go.Scatter(\n",
    "            x=x_trend,\n",
    "            y=y_trend,\n",
    "            mode='lines',\n",
    "            name=f'{name} Trend',\n",
    "            line=dict(color=color, dash='dash'),\n",
    "            visible=visible,\n",
    "            hoverinfo='skip'\n",
    "        )\n",
    "    )\n",
    "\n",
    "trace_gdp = go.Scatter(\n",
    "    x=df_gdp['GDP_current_usd'],\n",
    "    y=df_gdp['Happiness'],\n",
    "    mode='markers',\n",
    "    name='GDP (US$)',\n",
    "    visible=True,\n",
    "    text=df_gdp['Country'],\n",
    "    customdata=df_gdp['Happiness_rank'],\n",
    "    hovertemplate=(\n",
    "        \"Country: %{text}<br>\"\n",
    "        f\"Rank: %{{customdata}} out of {total_countries}<br>\"\n",
    "        \"GDP (US$): %{x:$,.0f}<br>\"\n",
    "        \"Happiness: %{y:.2f}<extra></extra>\"\n",
    "    )\n",
    ")\n",
    "\n",
    "trace_gni = go.Scatter(\n",
    "    x=df_gni['GNI_current_usd'],\n",
    "    y=df_gni['Happiness'],\n",
    "    mode='markers',\n",
    "    name='GNI (US$)',\n",
    "    visible=False,\n",
    "    text=df_gni['Country'],\n",
    "    customdata=df_gni['Happiness_rank'],\n",
    "    hovertemplate=(\n",
    "        \"Country: %{text}<br>\"\n",
    "        f\"Rank: %{{customdata}} out of {total_countries}<br>\"\n",
    "        \"GNI (US$): %{x:$,.0f}<br>\"\n",
    "        \"Happiness: %{y:.2f}<extra></extra>\"\n",
    "    )\n",
    ")\n",
    "\n",
    "trace_gini = go.Scatter(\n",
    "    x=df_gini['Gini_index'],\n",
    "    y=df_gini['Happiness'],\n",
    "    mode='markers',\n",
    "    name='Gini Index',\n",
    "    visible=False,\n",
    "    text=df_gini['Country'],\n",
    "    customdata=df_gini['Happiness_rank'],\n",
    "    hovertemplate=(\n",
    "        \"Country: %{text}<br>\"\n",
    "        f\"Rank: %{{customdata}} out of {total_countries}<br>\"\n",
    "        \"Gini Index: %{x:.2f}<br>\"\n",
    "        \"Happiness: %{y:.2f}<extra></extra>\"\n",
    "    )\n",
    ")\n",
    "\n",
    "fig = go.Figure(data=[trace_gdp, trace_gni, trace_gini])\n",
    "\n",
    "add_trend_line(fig, df_gdp['GDP_current_usd'], df_gdp['Happiness'], 'GDP', 'blue', True)\n",
    "add_trend_line(fig, df_gni['GNI_current_usd'], df_gni['Happiness'], 'GNI', 'blue', False)\n",
    "add_trend_line(fig, df_gini['Gini_index'], df_gini['Happiness'], 'Gini', 'blue', False)\n",
    "\n",
    "steps = [\n",
    "    dict(\n",
    "        method='update',\n",
    "        label='GDP (US$)',\n",
    "        args=[\n",
    "            {'visible': [True, False, False]},\n",
    "            {\n",
    "                'title': 'Happiness vs GDP (current US$)',\n",
    "                'xaxis': {'title': 'GDP (current US$)', 'type': 'log'},\n",
    "                'yaxis': {'title': 'Happiness'}\n",
    "            }\n",
    "        ]\n",
    "    ),\n",
    "    dict(\n",
    "        method='update',\n",
    "        label='GNI (US$)',\n",
    "        args=[\n",
    "            {'visible': [False, True, False]},\n",
    "            {\n",
    "                'title': 'Happiness vs GNI (current US$)',\n",
    "                'xaxis': {'title': 'GNI (current US$)', 'type': 'log'},\n",
    "                'yaxis': {'title': 'Happiness'}\n",
    "            }\n",
    "        ]\n",
    "    ),\n",
    "    dict(\n",
    "        method='update',\n",
    "        label='Gini Index',\n",
    "        args=[\n",
    "            {'visible': [False, False, True]},\n",
    "            {\n",
    "                'title': 'Happiness vs Gini Index',\n",
    "                'xaxis': {'title': 'Gini Index', 'type': 'linear'},\n",
    "                'yaxis': {'title': 'Happiness'}\n",
    "            }\n",
    "        ]\n",
    "    )\n",
    "]\n",
    "\n",
    "fig.update_layout(\n",
    "    sliders=[dict(\n",
    "        active=0,\n",
    "        currentvalue={'prefix': 'Metric: '},\n",
    "        pad={'t': 50},\n",
    "        steps=steps\n",
    "    )],\n",
    "    title=\"Happiness vs GDP (current US$)\",\n",
    "    width=900,\n",
    "    height=600,\n",
    "    margin={'t':80},\n",
    "    xaxis=dict(\n",
    "        title='GDP (current US$)',\n",
    "        type='log'\n",
    "    ),\n",
    "    yaxis=dict(\n",
    "        title='Happiness'\n",
    "    )\n",
    ")\n",
    "\n",
    "iplot(fig)\n"
   ]
  },
  {
   "cell_type": "markdown",
   "id": "ec017c70",
   "metadata": {},
   "source": [
    "**Money does not buy happiness**\n",
    "\n",
    "Economic wealth could explain some of the variation in national happiness. However, other societal indicators may offer different insights. To further investigate the what influences the way people perceive their happiness, we examined its relationship with education expenditure, unemployment rate, and life expectancy.\n",
    "\n",
    "In the plot about Happiness vs Education Expenditure, there is a slight positive trend. Countries that allocate a higher percentage of their GDP to education generally report higher happiness levels according to the dataset. It suggests that investment in quality education contributes to societal well-being and happiness.\n",
    "\n",
    "The plot about Happiness vs Unemployment Rate has a slight negative trendline: as unemployment increases, average happiness declines according to the dataset. This is a result in line with previous research like Winkelmann (2014), which found that unemployment consistently and significantly reduces life satisfaction and caused a reduction in the happiness score recorded, both due to economic insecurity and the psychological toll of uncertainty.\n",
    "\n",
    "In the plot about Happiness vs Life Expectancy, a positive correlation can be read from the regression line. Countries where people live longer also tend to report higher happiness scores. This relationship is likely tied to broader indicators of public health and quality of life. As with education, longer life expectancy reflects better healthcare systems, better nutrition, and a better environments, all of this tends to go hand-in-hand with happiness.\n"
   ]
  },
  {
   "cell_type": "code",
   "execution_count": 6,
   "id": "1d91aaa7",
   "metadata": {},
   "outputs": [
    {
     "data": {
      "text/html": [
       "        <script type=\"text/javascript\">\n",
       "        window.PlotlyConfig = {MathJaxConfig: 'local'};\n",
       "        if (window.MathJax && window.MathJax.Hub && window.MathJax.Hub.Config) {window.MathJax.Hub.Config({SVG: {font: \"STIX-Web\"}});}\n",
       "        </script>\n",
       "        <script type=\"module\">import \"https://cdn.plot.ly/plotly-3.0.1.min\"</script>\n",
       "        "
      ]
     },
     "metadata": {},
     "output_type": "display_data"
    },
    {
     "data": {
      "application/vnd.plotly.v1+json": {
       "config": {
        "linkText": "Export to plot.ly",
        "plotlyServerURL": "https://plot.ly",
        "showLink": false
       },
       "data": [
        {
         "customdata": {
          "bdata": "AQACAAMABAAFAAYABwAIAAkACgALAAwADQAOAA8AEAARABIAEwAUABUAFwAYABkAGwAcAB0AHgAfACAAIQAiACMAJAAlACYAKAApACsALAAtAC4ALwAwADEAMgAzADQANQA2ADcAOAA5ADoAOwA8AD0APgA/AEAAQwBEAEUARgBHAEgASQBKAEwATQBOAE8ATwBRAFIAUwBUAFUAVgBXAFgAWQBaAFsAXABdAF4AXwBhAGIAYwBkAGUAZgBnAGgAaQBqAGsAbQBuAHAAcQByAHMAdAB1AHYAdwB4AHoAewB8AH4AfwCBAIIAhAA=",
          "dtype": "i2"
         },
         "hovertemplate": "Country: %{text}<br>Rank: %{customdata} out of 133<br>Education Expenditure: %{x:.1f}% of GDP<br>Happiness: %{y:.2f}<extra></extra>",
         "mode": "markers",
         "name": "Education Expenditure",
         "text": [
          "Finland",
          "Denmark",
          "Norway",
          "Iceland",
          "Netherlands",
          "Switzerland",
          "Sweden",
          "New Zealand",
          "Canada",
          "Austria",
          "Australia",
          "Costa Rica",
          "Israel",
          "Luxembourg",
          "United Kingdom",
          "Ireland",
          "Germany",
          "Belgium",
          "United States",
          "United Arab Emirates",
          "Malta",
          "France",
          "Chile",
          "Guatemala",
          "Qatar",
          "Spain",
          "Panama",
          "Brazil",
          "Uruguay",
          "Singapore",
          "El Salvador",
          "Italy",
          "Bahrain",
          "Poland",
          "Uzbekistan",
          "Lithuania",
          "Slovenia",
          "Nicaragua",
          "Argentina",
          "Romania",
          "Cyprus",
          "Ecuador",
          "Kuwait",
          "Thailand",
          "Latvia",
          "Estonia",
          "Jamaica",
          "Mauritius",
          "Japan",
          "Honduras",
          "Kazakhstan",
          "Bolivia",
          "Hungary",
          "Paraguay",
          "Peru",
          "Portugal",
          "Pakistan",
          "Philippines",
          "Serbia",
          "Moldova",
          "Tajikistan",
          "Croatia",
          "Dominican Republic",
          "Bosnia and Herzegovina",
          "Malaysia",
          "Belarus",
          "Greece",
          "Mongolia",
          "Nigeria",
          "Turkmenistan",
          "Algeria",
          "Morocco",
          "Azerbaijan",
          "Lebanon",
          "Indonesia",
          "China",
          "Bhutan",
          "Cameroon",
          "Bulgaria",
          "Ghana",
          "Nepal",
          "Jordan",
          "Benin",
          "Gabon",
          "South Africa",
          "Albania",
          "Cambodia",
          "Senegal",
          "Namibia",
          "Niger",
          "Burkina Faso",
          "Armenia",
          "Guinea",
          "Georgia",
          "Kenya",
          "Mauritania",
          "Mozambique",
          "Tunisia",
          "Bangladesh",
          "Mali",
          "Sierra Leone",
          "Myanmar",
          "Chad",
          "Ukraine",
          "Ethiopia",
          "Uganda",
          "Zambia",
          "Togo",
          "India",
          "Liberia",
          "Madagascar",
          "Lesotho",
          "Burundi",
          "Haiti",
          "Botswana",
          "Rwanda",
          "Tanzania",
          "Central African Republic"
         ],
         "type": "scatter",
         "visible": true,
         "x": {
          "bdata": "AgAAAPWqGUABAADgKwUdQP///z9PdR9AAAAAILtnHkAFAABgsqMUQPz//z+8DhRAAQAAoNWNHkD7//9fQLYUQP7///96FxNAAwAAYATfFED7//9/ywgWQAIAAEDL8xpAAwAAIHcqGED5//+feOMNQAUAAIBtCxVABwAAYI5eCkD8///fSnYUQPz//z/8VRlABAAAAHPUE0D4//+/teEOQP///z/vmBNA/P//v+9qFUD8//9fV4EWQAYAAOAziwlAAQAAQCRuBkACAADAvusQQAUAAAARvwhABAAA4JfaF0D7//9/a4MSQPr//18J1gVACgAAIM0YC0D+//9/jmEQQAYAAICrEwNABAAAABq3EkABAABgby4ZQPn///95tg9AAQAAQO2QE0AAAABgUWYSQAQAAGArFhNA////Hx2JDED7///fs9kUQP3//7+t+xBABQAAgF3pGkAAAACgfi0IQPr//99MvhFA+///f6sKFUD+//8/kacUQAIAAAD1KhJAAQAA4CI+CUD9//+/1roXQAQAAECg1ApA/v//v5wuIEABAAAAR+YQQPr//x8s6wtA/v//H1aUDkD9////I4USQP3//78muAFA/v//P4hCC0D4///fh+4MQAQAAEAw5xhA/v//H+bvFUD2///fUlwPQP3//5/LKxBAAAAAYJEtEED9///fGNYPQAEAAGD/6hNA9f//32SwDED7//+fDTgNQAEAAOBR8dY/AQAA4OL2CEACAACgLE0WQAMAAMBVAxRA+///32NpCUAGAAAAWM0EQAQAAIBb3O4//////9E8EEAEAABAEAoSQPj///8SYQhA/v//f87LEEADAABgfTkJQAIAAKCs4gtABAAAAGPoB0D5//9fu7gHQP7//x+W/gZA+///P3WlF0D2//+fdVQPQAMAAODwmgZA////3x0kFEABAADgIqUiQAYAAKC2NQxAAgAAgOigFUD9//+/RpMEQPn//3/muv0/+///n42jDkAEAADgjn4VQOz//7++K/0/BQAAgEQlGUD////f5rEYQPf//x/35vo/9v///71wDEAFAACAvckdQO3//18E//8/AgAAQMv6AkD///8f5MMVQP////9o7BFAAQAA4Ft3AkADAAAgR6wRQAEAACCCzhBABgAAALgtD0AEAACAFlIBQAsAAABpGwhABAAAALrGHED+//8/AWMVQAUAAECOJvw//v//P0nMIEALAABg0egJQAEAACBSxgxABQAAQGdJ/D8=",
          "dtype": "f8"
         },
         "y": {
          "bdata": "+n5qvHQTH0BmZmZmZmYeQJ7vp8ZLNx5AYOXQItv5HUDByqFFtvMdQOxRuB6F6x1ArBxaZDtfHUDufD81XjodQOkmMQisHB1AlkOLbOf7HEC28/3UeOkcQF66SQwCqxxAdZMYBFaOHEBcj8L1KFwcQJ7vp8ZLNxxAL90kBoEVHEBxPQrXo/AbQP7UeOkmsRtAxSCwcmiRG0DNzMzMzEwbQIGVQ4ts5xpAke18PzVeGkAtsp3vp8YZQFg5tMh2vhlA5dAi2/l+GUDRItv5fmoZQGIQWDm0SBlAMzMzMzMzGUB56SYxCCwZQD81XrpJDBlAUI2XbhIDGUAxCKwcWuQYQLKd76fGyxhA7nw/NV66GEAZBFYOLbIYQH9qvHSTmBhARrbz/dR4GEDsUbgehWsYQPLSTWIQWBhASOF6FK5HGEDJdr6fGi8YQOkmMQisHBhAL90kBoEVGEDVeOkmMQgYQMP1KFyPwhdA30+Nl26SF0CPwvUoXI8XQFpkO99PjRdAJQaBlUOLF0BxPQrXo3AXQCPb+X5qPBdABFYOLbIdF0DVeOkmMQgXQEa28/3U+BZAfT81XrrJFkASg8DKocUWQOkmMQisnBZAoBov3SSGFkC28/3UeGkWQARWDi2yHRZAke18PzXeFUDufD81XroVQDMzMzMzsxVAJQaBlUOLFUBCYOXQIlsVQJhuEoPAShVA2c73U+MlFUCkcD0K1yMVQI/C9ShcDxVAsHJoke38FEDy0k1iENgUQKJFtvP91BRAokW28/3UFEB9PzVeuskUQPhT46WbxBRA3SQGgZXDFECHFtnO91MUQJMYBFYOLRRAJQaBlUMLFECWQ4ts5/sTQPT91HjpphNAObTIdr6fE0DVeOkmMYgTQBkEVg4tMhNAF9nO91PjEkDHSzeJQeASQM3MzMzMzBJA001iEFi5EkB1kxgEVo4SQFCNl24SgxJADAIrhxZZEkAj2/l+ajwSQIlBYOXQIhJA+n5qvHQTEkDwp8ZLNwkSQPYoXI/C9RFAd76fGi/dEUDy0k1iENgRQG3n+6nx0hFAj8L1KFyPEUDl0CLb+X4RQHE9CtejcBFAZmZmZmZmEUCHFtnO91MRQL6fGi/dJBFAqMZLN4nBEEAhsHJokW0QQNejcD0KVxBAj8L1KFwPEEDNzMzMzMwPQBBYObTIdg9A0SLb+X5qDkAzMzMzMzMOQC2yne+nxgxAgZVDi2znC0B56SYxCKwKQAwCK4cW2QlARIts5/upCEA=",
          "dtype": "f8"
         }
        },
        {
         "customdata": {
          "bdata": "AQACAAMABAAFAAYABwAIAAkACgALAAwADQAOAA8AEAARABIAEwAUABUAFgAXABgAGQAaABsAHAAdAB4AHwAgACEAIgAkACUAJgAnACgAKgArACwALQAuADAAMQAyADMANAA1ADYANwA4ADkAOgA7ADwAPQA+AD8AQABCAEQARQBGAEcASABJAEoASwBMAE8AUQBSAFMAVABWAFkAWgBcAF0AXgBfAGAAYgBjAGQAZQBmAGcAaABqAG0AbwBwAHIAdAB1AHYAdwB7AH0AfwCBAA==",
          "dtype": "i2"
         },
         "hovertemplate": "Country: %{text}<br>Rank: %{customdata} out of 133<br>Unemployment Rate: %{x:.1f}%<br>Happiness: %{y:.2f}<extra></extra>",
         "mode": "markers",
         "name": "Unemployment Rate",
         "text": [
          "Finland",
          "Denmark",
          "Norway",
          "Iceland",
          "Netherlands",
          "Switzerland",
          "Sweden",
          "New Zealand",
          "Canada",
          "Austria",
          "Australia",
          "Costa Rica",
          "Israel",
          "Luxembourg",
          "United Kingdom",
          "Ireland",
          "Germany",
          "Belgium",
          "United States",
          "United Arab Emirates",
          "Malta",
          "Mexico",
          "France",
          "Chile",
          "Guatemala",
          "Saudi Arabia",
          "Qatar",
          "Spain",
          "Panama",
          "Brazil",
          "Uruguay",
          "Singapore",
          "El Salvador",
          "Italy",
          "Poland",
          "Uzbekistan",
          "Lithuania",
          "Colombia",
          "Slovenia",
          "Kosovo",
          "Argentina",
          "Romania",
          "Cyprus",
          "Ecuador",
          "Thailand",
          "Latvia",
          "Estonia",
          "Jamaica",
          "Mauritius",
          "Japan",
          "Honduras",
          "Kazakhstan",
          "Bolivia",
          "Hungary",
          "Paraguay",
          "Peru",
          "Portugal",
          "Pakistan",
          "Philippines",
          "Serbia",
          "Moldova",
          "Montenegro",
          "Croatia",
          "Dominican Republic",
          "Bosnia and Herzegovina",
          "Malaysia",
          "Belarus",
          "Greece",
          "Mongolia",
          "North Macedonia",
          "Nigeria",
          "Azerbaijan",
          "Lebanon",
          "Indonesia",
          "China",
          "Bhutan",
          "Bulgaria",
          "Jordan",
          "Benin",
          "South Africa",
          "Albania",
          "Cambodia",
          "Senegal",
          "Somalia",
          "Niger",
          "Burkina Faso",
          "Armenia",
          "Guinea",
          "Georgia",
          "Kenya",
          "Mauritania",
          "Tunisia",
          "Mali",
          "Sri Lanka",
          "Myanmar",
          "Ukraine",
          "Uganda",
          "Zambia",
          "Togo",
          "India",
          "Lesotho",
          "Zimbabwe",
          "Botswana",
          "Rwanda"
         ],
         "type": "scatter",
         "visible": false,
         "x": {
          "bdata": "SOF6FK7HGkDfT42XbhIUQEa28/3UeA1AdZMYBFYODEDVeOkmMQgLQPp+arx0kxFAokW28/1UG0BWDi2ynW8QQMP1KFyPwhZAPQrXo3A9EkDfT42XbpIUQHe+nxovnSVADAIrhxbZDUCR7Xw/NV4WQKjGSzeJQQ1AzczMzMzME0Dn+6nx0k0JQNv5fmq8dBVAJzEIrBxaDUDZzvdT46UCQGq8dJMYBA1AN4lBYOXQC0AUrkfhetQgQEa28/3U+B1AJQaBlUOLAUAlBoGVQ4sWQJqZmZmZmbk/9ihcj8I1LECJQWDl0KIZQKwcWmQ73ydAeekmMQisIUDNzMzMzMwIQK5H4XoUrhBAgZVDi2znI0CJQWDl0CIKQPYoXI/C9SFAhetRuB4FGUCPwvUoXI8kQGIQWDm0yBFAi2zn+6kROUBWDi2yna8jQLKd76fGSw9AH4XrUbieHEDl0CLb+X4OQLbz/dR46eY/c2iR7Xw/GUB1kxgEVg4SQKabxCCw8hNAbef7qfFSGUACK4cW2c4CQJhuEoPAyhZAMzMzMzMzE0Db+X5qvHQNQCcxCKwcWgtA4XoUrkdhGkDVeOkmMQgLQEJg5dAi2xlAUrgehetRE0BMN4lBYOUBQArXo3A9yiRA1XjpJjEI+D+oxks3iUEuQCuHFtnOdxpABoGVQ4tsGUD8qfHSTWIvQBSuR+F6FApAKVyPwvWoEEDsUbgehQsxQD81XrpJDCJARIts5/tpMUCkcD0K12MlQAAAAAAAABRAJzEIrByaJkC4HoXrUbgMQJqZmZmZmRRAw/UoXI/CBUDsUbgehesQQJMYBFYOzTBABoGVQ4ts8z8rhxbZznc8QDvfT42X7iZAVg4tsp3v3z+BlUOLbOcGQIcW2c730zJAoBov3SQG4T/2KFyPwvX4P0oMAiuHliNA30+Nl24SFEDhehSuRyEnQHWTGARWDhRAokW28/3UJEC6SQwCKycxQFK4HoXrUQpArkfhehSuEkA/NV66SQzaPxfZzvdTYyBAGy/dJAaBBED0/dR46SYWQH0/NV66SQBACtejcD0KGkDHSzeJQeAwQMuhRbbzfR1A8tJNYhAYNEBGtvP91HgmQA==",
          "dtype": "f8"
         },
         "y": {
          "bdata": "+n5qvHQTH0BmZmZmZmYeQJ7vp8ZLNx5AYOXQItv5HUDByqFFtvMdQOxRuB6F6x1ArBxaZDtfHUDufD81XjodQOkmMQisHB1AlkOLbOf7HEC28/3UeOkcQF66SQwCqxxAdZMYBFaOHEBcj8L1KFwcQJ7vp8ZLNxxAL90kBoEVHEBxPQrXo/AbQP7UeOkmsRtAxSCwcmiRG0DNzMzMzEwbQIGVQ4ts5xpA4XoUrkdhGkCR7Xw/NV4aQC2yne+nxhlAWDm0yHa+GUAAAAAAAIAZQOXQItv5fhlA0SLb+X5qGUBiEFg5tEgZQDMzMzMzMxlAeekmMQgsGUA/NV66SQwZQFCNl24SAxlAMQisHFrkGEDufD81XroYQBkEVg4tshhAf2q8dJOYGEAAAAAAAIAYQEa28/3UeBhAZmZmZmZmGEDy0k1iEFgYQEjhehSuRxhAyXa+nxovGEDpJjEIrBwYQNV46SYxCBhAw/UoXI/CF0DfT42XbpIXQI/C9ShcjxdAWmQ730+NF0AlBoGVQ4sXQHE9CtejcBdAI9v5fmo8F0AEVg4tsh0XQNV46SYxCBdARrbz/dT4FkB9PzVeuskWQBKDwMqhxRZA6SYxCKycFkCgGi/dJIYWQLbz/dR4aRZABFYOLbIdFkBkO99PjRcWQO58PzVeuhVAMzMzMzOzFUAlBoGVQ4sVQEJg5dAiWxVAmG4Sg8BKFUDZzvdT4yUVQKRwPQrXIxVAf2q8dJMYFUCPwvUoXA8VQKJFtvP91BRAfT81XrrJFED4U+Olm8QUQN0kBoGVwxRAhxbZzvdTFEAlBoGVQwsUQDm0yHa+nxNA1XjpJjGIE0AX2c73U+MSQMdLN4lB4BJAzczMzMzMEkDTTWIQWLkSQHnpJjEIrBJAUI2XbhKDEkAMAiuHFlkSQCPb+X5qPBJAiUFg5dAiEkD6fmq8dBMSQPCnxks3CRJA9ihcj8L1EUDy0k1iENgRQI/C9ShcjxFAEFg5tMh2EUBxPQrXo3ARQIcW2c73UxFAqMZLN4nBEEAhsHJokW0QQNejcD0KVxBAj8L1KFwPEEDRItv5fmoOQOf7qfHSTQ1AgZVDi2znC0B56SYxCKwKQA==",
          "dtype": "f8"
         }
        },
        {
         "customdata": {
          "bdata": "AQACAAMABAAFAAYABwAIAAkACgALAAwADQAOAA8AEAARABIAEwAUABUAFgAXABgAGQAaABsAHAAdAB4AHwAgACEAIgAjACQAJQAmACcAKAApACoAKwAsAC0ALgAvADAAMQAyADMANAA1ADYANwA4ADkAOgA7ADwAPQA+AD8AQABBAEIAQwBEAEUARgBHAEgASQBKAEsATABNAE4ATwBPAFEAUgBTAFQAVQBWAFcAWABZAFoAWwBcAF0AXgBfAGAAYQBiAGMAZABlAGYAZwBoAGkAagBrAGwAbQBuAG8AcABxAHIAcwB0AHUAdgB3AHgAeQB6AHsAfAB9AH4AfwCAAIEAggCDAIQAhQA=",
          "dtype": "i2"
         },
         "hovertemplate": "Country: %{text}<br>Rank: %{customdata} out of 133<br>Life Expectancy: %{x:.1f} years<br>Happiness: %{y:.2f}<extra></extra>",
         "mode": "markers",
         "name": "Life Expectancy",
         "text": [
          "Finland",
          "Denmark",
          "Norway",
          "Iceland",
          "Netherlands",
          "Switzerland",
          "Sweden",
          "New Zealand",
          "Canada",
          "Austria",
          "Australia",
          "Costa Rica",
          "Israel",
          "Luxembourg",
          "United Kingdom",
          "Ireland",
          "Germany",
          "Belgium",
          "United States",
          "United Arab Emirates",
          "Malta",
          "Mexico",
          "France",
          "Chile",
          "Guatemala",
          "Saudi Arabia",
          "Qatar",
          "Spain",
          "Panama",
          "Brazil",
          "Uruguay",
          "Singapore",
          "El Salvador",
          "Italy",
          "Bahrain",
          "Poland",
          "Uzbekistan",
          "Lithuania",
          "Colombia",
          "Slovenia",
          "Nicaragua",
          "Kosovo",
          "Argentina",
          "Romania",
          "Cyprus",
          "Ecuador",
          "Kuwait",
          "Thailand",
          "Latvia",
          "Estonia",
          "Jamaica",
          "Mauritius",
          "Japan",
          "Honduras",
          "Kazakhstan",
          "Bolivia",
          "Hungary",
          "Paraguay",
          "Peru",
          "Portugal",
          "Pakistan",
          "Philippines",
          "Serbia",
          "Moldova",
          "Libya",
          "Montenegro",
          "Tajikistan",
          "Croatia",
          "Dominican Republic",
          "Bosnia and Herzegovina",
          "Malaysia",
          "Belarus",
          "Greece",
          "Mongolia",
          "North Macedonia",
          "Nigeria",
          "Turkmenistan",
          "Algeria",
          "Morocco",
          "Azerbaijan",
          "Lebanon",
          "Indonesia",
          "China",
          "Bhutan",
          "Cameroon",
          "Bulgaria",
          "Ghana",
          "Nepal",
          "Jordan",
          "Benin",
          "Gabon",
          "South Africa",
          "Albania",
          "Cambodia",
          "Senegal",
          "Somalia",
          "Namibia",
          "Niger",
          "Burkina Faso",
          "Armenia",
          "Guinea",
          "Georgia",
          "Kenya",
          "Mauritania",
          "Mozambique",
          "Tunisia",
          "Bangladesh",
          "Iraq",
          "Mali",
          "Sierra Leone",
          "Sri Lanka",
          "Myanmar",
          "Chad",
          "Ukraine",
          "Ethiopia",
          "Uganda",
          "Zambia",
          "Togo",
          "India",
          "Liberia",
          "Comoros",
          "Madagascar",
          "Lesotho",
          "Burundi",
          "Zimbabwe",
          "Haiti",
          "Botswana",
          "Malawi",
          "Rwanda",
          "Tanzania",
          "Afghanistan",
          "Central African Republic",
          "South Sudan"
         ],
         "type": "scatter",
         "visible": false,
         "x": {
          "bdata": "X4TuReh+VEB7DM7H4FxUQKGK1alYvVRAKFanYnXKVEBG43I0LodUQFuYnoXp+VRA6WNwPgbHVECjcTkal4NUQB2Wp2F5ilRA2JqUrUl5VECamZmZmblUQG3n+6nxElRA9DE4H4OzVEBpXI7G5ahUQE0urbGfV1RAMUzPwvSsVEAVtStRu1JUQD8B+xOwf1RAVLYmZWuyU0CgGi/dJKZUQG1XonYlqlRAUrgeheuhUkBWrE7F6rRUQNv5fmq8FFRAN4lBYOXoUUB56SYxCJRTQBSuR+F6vFRAF6tTsTr1VEA3iUFg5aBTQLKd76fG81JA1XjpJjFgU0ClZ2F6FuZUQGZmZmZm7lFAo4D9CdjfVECgGi/dJB5UQFuYnoXpeVNAy6FFtvMFUkCTtyF5GxJTQJhuEoPAMlNAgPgdiN9hVEA3iUFg5XBSQA4tsp3vT1NAke18PzU2U0CF5G1I3uZSQJMYBFYOXVRA/Knx0k1SU0DAB+F7EH5UQPhT46WbTFNAuhyNy9HYUkCO2pWoXalTQDVeukkM4lFAoIPxORiPUkDE5GxMzhZVQA4tsp3vB1JAJzEIrBxqUkAUrkfhevRQQDEuR+NyFFNAmG4Sg8BqUkCamZmZmRFTQA7TszA9a1RALbKd76euUEDsUbgehWtRQD8QvwPx+1JA3SQGgZWLUUBOYhBYOTxSQCxRuxK1K1NAIbByaJG9UUCMxuVoXI5TQLpJDAIrR1JA8KfGSzdZU0CamZmZmflSQPBF6F6EjlJAaVyOxuVoVEBicjYmZ8NRQMvlaFyOJlNA/tR46SaBSkBSuB6F61lRQM/3U+Ol61JASOF6FK6PUkDD9Shcj1JSQFpkO99PjVNAdZMYBFaWUUBcj8L1KHxTQLgehetRAFJAKVyPwvXYTkBG43I0LsdSQIXrUbgeHVBAQmDl0CJTUUCPwvUoXDdTQIts5/up8U1AIbByaJHVUEAGgZVDi4RQQNnO91Pj3VNA46WbxCCIUUCYbhKDwOpQQB1aZDvfn0xA2c73U+PFT0CHFtnO9wNOQGQ730+NF05AL0fjcjQOU0CNl24Sg7BNQMP1KFyPilJA1XjpJjF4T0ApXI/C9ehQQLpJDAIrp05AdZMYBFbmUkAAAAAAAChSQEjhehSuz1FAsp3vp8abTUCWQ4ts58tNQOkmMQisLFNAaJHtfD+dUEDJdr6fGn9KQHsUrkfhelJAgZVDi2xvUEAtsp3vp5ZQQKJFtvP9dE9A16NwPQqHTkA5tMh2vq9RQARWDi2ynU5A7nw/NV5qUECNl24Sg8BPQB1aZDvfn0tA16NwPQoXT0BI4XoUrodOQKJFtvP9FFBAppvEILDKUEBI4XoUrj9QQE5iEFg5rFBAnMQgsHKAUECcxCCwcnhPQEjhehSuhz9AjZduEoMQTUA=",
          "dtype": "f8"
         },
         "y": {
          "bdata": "+n5qvHQTH0BmZmZmZmYeQJ7vp8ZLNx5AYOXQItv5HUDByqFFtvMdQOxRuB6F6x1ArBxaZDtfHUDufD81XjodQOkmMQisHB1AlkOLbOf7HEC28/3UeOkcQF66SQwCqxxAdZMYBFaOHEBcj8L1KFwcQJ7vp8ZLNxxAL90kBoEVHEBxPQrXo/AbQP7UeOkmsRtAxSCwcmiRG0DNzMzMzEwbQIGVQ4ts5xpA4XoUrkdhGkCR7Xw/NV4aQC2yne+nxhlAWDm0yHa+GUAAAAAAAIAZQOXQItv5fhlA0SLb+X5qGUBiEFg5tEgZQDMzMzMzMxlAeekmMQgsGUA/NV66SQwZQFCNl24SAxlAMQisHFrkGECyne+nxssYQO58PzVeuhhAGQRWDi2yGEB/arx0k5gYQAAAAAAAgBhARrbz/dR4GEDsUbgehWsYQGZmZmZmZhhA8tJNYhBYGEBI4XoUrkcYQMl2vp8aLxhA6SYxCKwcGEAv3SQGgRUYQNV46SYxCBhAw/UoXI/CF0DfT42XbpIXQI/C9ShcjxdAWmQ730+NF0AlBoGVQ4sXQHE9CtejcBdAI9v5fmo8F0AEVg4tsh0XQNV46SYxCBdARrbz/dT4FkB9PzVeuskWQBKDwMqhxRZA6SYxCKycFkCgGi/dJIYWQLbz/dR4aRZABFYOLbIdFkCamZmZmRkWQGQ730+NFxZAke18PzXeFUDufD81XroVQDMzMzMzsxVAJQaBlUOLFUBCYOXQIlsVQJhuEoPAShVA2c73U+MlFUCkcD0K1yMVQH9qvHSTGBVAj8L1KFwPFUCwcmiR7fwUQPLSTWIQ2BRAokW28/3UFECiRbbz/dQUQH0/NV66yRRA+FPjpZvEFEDdJAaBlcMUQIcW2c73UxRAkxgEVg4tFEAlBoGVQwsUQJZDi2zn+xNA9P3UeOmmE0A5tMh2vp8TQNV46SYxiBNAGQRWDi0yE0AX2c73U+MSQMdLN4lB4BJAzczMzMzMEkDTTWIQWLkSQHnpJjEIrBJAdZMYBFaOEkBQjZduEoMSQAwCK4cWWRJAI9v5fmo8EkCJQWDl0CISQPp+arx0ExJA8KfGSzcJEkD2KFyPwvURQHe+nxov3RFA8tJNYhDYEUBt5/up8dIRQHNoke18vxFAj8L1KFyPEUDl0CLb+X4RQBBYObTIdhFAcT0K16NwEUBmZmZmZmYRQIcW2c73UxFAvp8aL90kEUCoxks3icEQQCGwcmiRbRBA16NwPQpXEECPwvUoXA8QQM3MzMzMzA9AYhBYObTID0AQWDm0yHYPQNEi2/l+ag5AMzMzMzMzDkDn+6nx0k0NQC2yne+nxgxAgZVDi2znC0BI4XoUrkcLQHnpJjEIrApADAIrhxbZCUA5tMh2vp8JQESLbOf7qQhAbef7qfHSBkA=",
          "dtype": "f8"
         }
        },
        {
         "hoverinfo": "skip",
         "line": {
          "color": "blue",
          "dash": "dash"
         },
         "mode": "lines",
         "name": "Trend Line",
         "type": "scatter",
         "visible": true,
         "x": {
          "bdata": "AQAA4FHx1j+q9StF07zcP6n1K1UqROE/fvDBB+sp5D9S61e6qw/nPybm7Wxs9ek/+uCDHy3b7D/O2xnS7cDvP1HrV0JXU/E/u+iimzfG8j8l5u30Fzn0P5DjOE74q/U/+uCDp9ge9z9k3s4AuZH4P87bGVqZBPo/ONlks3l3+z+i1q8MWur8PwzU+mU6Xf4/dtFFvxrQ/z9wZ0iMfaEAQCXm7bjtWgFA22ST5V0UAkCQ4zgSzs0CQERi3j4+hwNA+uCDa65ABECvXymYHvoEQGTezsSOswVAGV108f5sBkDO2xkebyYHQINav0rf3wdAONlkd0+ZCEDtVwqkv1IJQKLWr9AvDApAV1VV/Z/FCkAM1PopEH8LQMFSoFaAOAxAdtFFg/DxDEArUOuvYKsNQODOkNzQZA5AlU02CUEeD0BKzNs1sdcPQIClQLGQSBBA22STx0ilEEA1JObdAAIRQJDjOPS4XhFA6qKLCnG7EUBEYt4gKRgSQJ8hMTfhdBJA+uCDTZnREkBUoNZjUS4TQK9fKXoJixNACR98kMHnE0Bk3s6meUQUQL6dIb0xoRRAGV100+n9FEBzHMfpoVoVQM7bGQBatxVAKJtsFhIUFkCDWr8synAWQN0ZEkOCzRZAONlkWToqF0CSmLdv8oYXQO1XCoaq4xdARxddnGJAGECi1q+yGp0YQP2VAsnS+RhAV1VV34pWGUCyFKj1QrMZQAzU+gv7DxpAZ5NNIrNsGkDBUqA4a8kaQBwS804jJhtAdtFFZduCG0DRkJh7k98bQCtQ65FLPBxAhg8+qAOZHEDgzpC+u/UcQDuO49RzUh1AlU026yuvHUDwDIkB5AseQErM2xecaB5ApYsuLlTFHkAAS4FEDCIfQFoK1FrEfh9AtckmcXzbH0CIxLxDGhwgQDUk5k52SiBA4oMPWtJ4IECQ4zhlLqcgQD1DYnCK1SBA6qKLe+YDIUCXArWGQjIhQERi3pGeYCFA8sEHnfqOIUCfITGoVr0hQEyBWrOy6yFA+uCDvg4aIkCnQK3JakgiQFSg1tTGdiJAAQAA4CKlIkA=",
          "dtype": "f8"
         },
         "y": {
          "bdata": "hqhlf2u2EkDp7UpGdcoSQEszMA1/3hJArngV1IjyEkAQvvqakgYTQHMD4GGcGhNA1kjFKKYuE0A4jqrvr0ITQJvTj7a5VhNA/Rh1fcNqE0BgXlpEzX4TQMKjPwvXkhNAJekk0uCmE0CILgqZ6roTQOpz71/0zhNATbnUJv7iE0Cw/rntB/cTQBJEn7QRCxRAdYmEexsfFEDXzmlCJTMUQDoUTwkvRxRAnVk00DhbFED/nhmXQm8UQGLk/l1MgxRAxCnkJFaXFEAnb8nrX6sUQIq0rrJpvxRA7PmTeXPTFEBPP3lAfecUQLGEXgeH+xRAFMpDzpAPFUB2DymVmiMVQNlUDlykNxVAPJrzIq5LFUCe39jpt18VQAElvrDBcxVAY2qjd8uHFUDGr4g+1ZsVQCn1bQXfrxVAizpTzOjDFUDufziT8tcVQFDFHVr86xVAswoDIQYAFkAWUOjnDxQWQHiVza4ZKBZA29qydSM8FkA9IJg8LVAWQKBlfQM3ZBZAA6tiykB4FkBl8EeRSowWQMg1LVhUoBZAKnsSH160FkCNwPflZ8gWQPAF3axx3BZAUkvCc3vwFkC1kKc6hQQXQBjWjAGPGBdAehtyyJgsF0DdYFePokAXQD+mPFasVBdAoushHbZoF0AEMQfkv3wXQGd27KrJkBdAyrvRcdOkF0AsAbc43bgXQI9GnP/mzBdA8ouBxvDgF0BU0WaN+vQXQLYWTFQECRhAGVwxGw4dGEB8oRbiFzEYQN7m+6ghRRhAQSzhbytZGECkccY2NW0YQAa3q/0+gRhAafyQxEiVGEDLQXaLUqkYQC6HW1JcvRhAkMxAGWbRGEDzESbgb+UYQFZXC6d5+RhAuJzwbYMNGUAb4tU0jSEZQH4nu/uWNRlA4GygwqBJGUBDsoWJql0ZQKb3alC0cRlACD1QF76FGUBrgjXex5kZQM3HGqXRrRlAMA0AbNvBGUCSUuUy5dUZQPWXyvnu6RlAWN2vwPj9GUC6IpWHAhIaQB1oek4MJhpAgK1fFRY6GkDi8kTcH04aQEQ4KqMpYhpAp30PajN2GkA=",
          "dtype": "f8"
         }
        },
        {
         "hoverinfo": "skip",
         "line": {
          "color": "blue",
          "dash": "dash"
         },
         "mode": "lines",
         "name": "Trend Line",
         "type": "scatter",
         "visible": false,
         "x": {
          "bdata": "mpmZmZmZuT/wK2wlKb3YP734OPL1ieU/gtu7UVe17j8kX59YXPDzP4bQYAgNhvg/6UEiuL0b/T+m2fEzt9gAQFeS0ouPIwNACEuz42duBUC5A5Q7QLkHQGu8dJMYBApAHHVV6/BODEDNLTZDyZkOQD9zi81QchBAl897+byXEUDwK2wlKb0SQEmIXFGV4hNAoeRMfQEIFUD6QD2pbS0WQFKdLdXZUhdAq/kdAUZ4GEAEVg4tsp0ZQFyy/lgewxpAtQ7vhIroG0AOa9+w9g0dQGbHz9xiMx5AvyPACM9YH0AMQFiaHT8gQDhuULDT0SBAZJxIxolkIUCRykDcP/chQL34OPL1iSJA6SYxCKwcI0AWVSkeYq8jQEKDITQYQiRAbrEZSs7UJECb3xFghGclQMcNCnY6+iVA8zsCjPCMJkAfavqhph8nQEyY8rdcsidAeMbqzRJFKECk9OLjyNcoQNEi2/l+ailA/VDTDzX9KUApf8sl648qQFatwzuhIitAgtu7UVe1K0CuCbRnDUgsQNs3rH3D2ixAB2akk3ltLUAzlJypLwAuQGDClL/lki5AjPCM1ZslL0C4HoXrUbgvQHOmvgCEJTBAib26C99uMECf1LYWOrgwQLXrsiGVATFAywKvLPBKMUDiGas3S5QxQPgwp0Km3TFADkijTQEnMkAkX59YXHAyQDp2m2O3uTJAUI2XbhIDM0BmpJN5bUwzQH27j4TIlTNAk9KLjyPfM0Cp6Yeafig0QL8AhKXZcTRA1ReAsDS7NEDrLny7jwQ1QAJGeMbqTTVAGF100UWXNUAudHDcoOA1QESLbOf7KTZAWqJo8lZzNkBwuWT9sbw2QIbQYAgNBjdAnedcE2hPN0Cz/lgew5g3QMkVVSke4jdA3yxRNHkrOED1Q00/1HQ4QAtbSUovvjhAInJFVYoHOUA4iUFg5VA5QE6gPWtAmjlAZLc5dpvjOUB6zjWB9iw6QJDlMYxRdjpAp/wtl6y/OkC9EyqiBwk7QNMqJq1iUjtA6UEiuL2bO0D/WB7DGOU7QBVwGs5zLjxAK4cW2c53PEA=",
          "dtype": "f8"
         },
         "y": {
          "bdata": "hkJFZB9GGEB8D5dWbzcYQHLc6Ei/KBhAaKk6Ow8aGEBedowtXwsYQFRD3h+v/BdAShAwEv/tF0BA3YEET98XQDaq0/ae0BdALHcl6e7BF0AjRHfbPrMXQBkRyc2OpBdAD94awN6VF0AFq2yyLocXQPt3vqR+eBdA8UQQl85pF0DnEWKJHlsXQN3es3tuTBdA06sFbr49F0DJeFdgDi8XQL9FqVJeIBdAtRL7RK4RF0Cr30w3/gIXQKGsnilO9BZAl3nwG57lFkCNRkIO7tYWQIMTlAA+yBZAeeDl8o25FkBvrTfl3aoWQGZ6idctnBZAXEfbyX2NFkBSFC28zX4WQEjhfq4dcBZAPq7QoG1hFkA0eyKTvVIWQCpIdIUNRBZAIBXGd101FkAW4hdqrSYWQAyvaVz9FxZAAny7Tk0JFkD4SA1BnfoVQO4VXzPt6xVA5OKwJT3dFUDarwIYjc4VQNB8VArdvxVAxkmm/CyxFUC8FvjufKIVQLLjSeHMkxVAqLCb0xyFFUCffe3FbHYVQJVKP7i8ZxVAixeRqgxZFUCB5OKcXEoVQHexNI+sOxVAbX6GgfwsFUBjS9hzTB4VQFkYKmacDxVAT+V7WOwAFUBFss1KPPIUQDt/Hz2M4xRAMUxxL9zUFEAnGcMhLMYUQB3mFBR8txRAE7NmBsyoFEAJgLj4G5oUQP9MCutrixRA9Rlc3bt8FEDs5q3PC24UQOGz/8FbXxRA2IBRtKtQFEDOTaOm+0EUQMQa9ZhLMxRAuudGi5skFECwtJh96xUUQKaB6m87BxRAnE48Yov4E0CSG45U2+kTQIjo30Yr2xNAfrUxOXvME0B0goMry70TQGpP1R0brxNAYBwnEGugE0BW6XgCu5ETQEy2yvQKgxNAQoMc51p0E0A4UG7ZqmUTQC4dwMv6VhNAJOoRvkpIE0Aat2OwmjkTQBCEtaLqKhNABlEHlTocE0D9HVmHig0TQPPqqnna/hJA6bf8ayrwEkDfhE5eeuESQNVRoFDK0hJAyx7yQhrEEkDB60M1arUSQLe4lSe6phJArYXnGQqYEkA=",
          "dtype": "f8"
         }
        },
        {
         "hoverinfo": "skip",
         "line": {
          "color": "blue",
          "dash": "dash"
         },
         "mode": "lines",
         "name": "Trend Line",
         "type": "scatter",
         "visible": false,
         "x": {
          "bdata": "SOF6FK6HP0BoQIIGJAhAQCwQxwJxTEBA8d8L/72QQEC1r1D7CtVAQHl/lfdXGUFAPk/a86RdQUACHx/w8aFBQMbuY+w+5kFAir6o6IsqQkBOju3k2G5CQBNeMuEls0JA1y133XL3QkCb/bvZvztDQGDNANYMgENAJJ1F0lnEQ0DobIrOpghEQKw8z8rzTERAcAwUx0CRREA13FjDjdVEQPmrnb/aGUVAvXviuydeRUCCSye4dKJFQEYbbLTB5kVACuuwsA4rRkDOuvWsW29GQJKKOqmos0ZAV1p/pfX3RkAbKsShQjxHQN/5CJ6PgEdApMlNmtzER0BomZKWKQlIQCxp15J2TUhA8Dgcj8ORSEC0CGGLENZIQHnYpYddGklAPajqg6peSUABeC+A96JJQMZHdHxE50lAihe5eJErSkBO5/103m9KQBK3QnErtEpA1oaHbXj4SkCbVsxpxTxLQF8mEWYSgUtAI/ZVYl/FS0DoxZperAlMQKyV31r5TUxAcGUkV0aSTEA0NWlTk9ZMQPgErk/gGk1AvdTySy1fTUCBpDdIeqNNQEV0fETH501ACkTBQBQsTkDOEwY9YXBOQJLjSjmutE5AVrOPNfv4TkAag9QxSD1PQN9SGS6VgU9AoyJeKuLFT0A0eVGTFwVQQBbhcxE+J1BA+EiWj2RJUEDasLgNi2tQQLwY24uxjVBAnoD9CdivUECA6B+I/tFQQGJQQgYl9FBARLhkhEsWUUAnIIcCcjhRQAmIqYCYWlFA6+/L/r58UUDNV+585Z5RQK+/EPsLwVFAkiczeTLjUUB0j1X3WAVSQFb3d3V/J1JAOF+a86VJUkAax7xxzGtSQPwu3+/yjVJA3pYBbhmwUkDA/iPsP9JSQKJmRmpm9FJAhM5o6IwWU0BmNotmszhTQEmereTZWlNAKwbQYgB9U0ANbvLgJp9TQO/VFF9NwVNA0T033XPjU0C0pVlbmgVUQJYNfNnAJ1RAeHWeV+dJVEBa3cDVDWxUQDxF41M0jlRAHq0F0lqwVEAAFShQgdJUQOJ8Ss6n9FRAxORsTM4WVUA=",
          "dtype": "f8"
         },
         "y": {
          "bdata": "CIgieck39D9Gf/F7Jxb1P4Z2wH6F9PU/ym2PgePS9j8KZV6EQbH3P0pcLYefj/g/jFP8if1t+T/MSsuMW0z6PwxCmo+5Kvs/TDlpkhcJ/D+MMDiVdef8P84nB5jTxf0/Dh/WmjGk/j9OFqWdj4L/P8gGOtB2MABAaIKh0aWfAEAI/gjT1A4BQKh5cNQDfgFASPXX1TLtAUDqcD/XYVwCQIrsptiQywJAKmgO2r86A0DK43Xb7qkDQGpf3dwdGQRACttE3kyIBECqVqzfe/cEQErSE+GqZgVA7E174tnVBUCMyeLjCEUGQCxFSuU3tAZAzsCx5mYjB0BsPBnolZIHQAy4gOnEAQhArDPo6vNwCEBMr0/sIuAIQO4qt+1RTwlAjqYe74C+CUAuIobwry0KQNCd7fHenApAcBlV8w0MC0AQlbz0PHsLQLAQJPZr6gtAToyL95pZDEDwB/P4ycgMQJCDWvr4Nw1AMP/B+yenDUDSein9VhYOQHL2kP6FhQ5AEnL4/7T0DkCy7V8B5GMPQFJpxwIT0w9AeXIXAiEhEEBJMMuCuFgQQBnufgNQkBBA6qsyhOfHEEC6aeYEf/8QQIonmoUWNxFAWuVNBq5uEUAqowGHRaYRQPtgtQfd3RFAyh5piHQVEkCb3BwJDE0SQGua0ImjhBJAO1iECju8EkALFjiL0vMSQNvT6wtqKxNAq5GfjAFjE0B7T1MNmZoTQEsNB44w0hNAG8u6DsgJFEDsiG6PX0EUQLxGIhD3eBRAjATWkI6wFEBcwokRJugUQCyAPZK9HxVA/j3xElVXFUDO+6ST7I4VQJ65WBSExhVAbXcMlRv+FUA9NcAVszUWQA3zc5ZKbRZA3bAnF+KkFkCtbtuXedwWQH0sjxgRFBdATepCmahLF0AdqPYZQIMXQO9lqprXuhdAvyNeG2/yF0CO4RGcBioYQF+fxRyeYRhAL115nTWZGED/Gi0ezdAYQM/Y4J5kCBlAn5aUH/w/GUBvVEigk3cZQD8S/CArrxlAD9CvocLmGUDfjWMiWh4aQK9LF6PxVRpAfwnLI4mNGkA=",
          "dtype": "f8"
         }
        }
       ],
       "layout": {
        "autosize": false,
        "height": 600,
        "hoverlabel": {
         "font": {
          "size": 12
         }
        },
        "legend": {
         "borderwidth": 0,
         "font": {
          "size": 12
         },
         "x": 0.01,
         "y": 0.99
        },
        "margin": {
         "b": 80,
         "l": 80,
         "r": 80,
         "t": 80
        },
        "showlegend": true,
        "sliders": [
         {
          "active": 0,
          "currentvalue": {
           "prefix": "Metric: "
          },
          "len": 0.9,
          "pad": {
           "t": 50
          },
          "steps": [
           {
            "args": [
             {
              "visible": [
               true,
               false,
               false,
               true,
               false,
               false
              ]
             },
             {
              "title": "Happiness vs Education Expenditure",
              "xaxis": {
               "fixedrange": true,
               "range": [
                0.358478993177414,
                9.32253170013428
               ],
               "title": "Education Expenditure (% of GDP)"
              },
              "yaxis": {
               "fixedrange": true,
               "range": [
                2.853,
                7.769
               ],
               "title": "Happiness"
              }
             }
            ],
            "label": "Education Expenditure",
            "method": "update"
           },
           {
            "args": [
             {
              "visible": [
               false,
               true,
               false,
               false,
               true,
               false
              ]
             },
             {
              "title": "Happiness vs Unemployment Rate",
              "xaxis": {
               "fixedrange": true,
               "range": [
                0.1,
                28.468
               ],
               "title": "Unemployment Rate (%)"
              },
              "yaxis": {
               "fixedrange": true,
               "range": [
                2.853,
                7.769
               ],
               "title": "Happiness"
              }
             }
            ],
            "label": "Unemployment Rate",
            "method": "update"
           },
           {
            "args": [
             {
              "visible": [
               false,
               false,
               true,
               false,
               false,
               true
              ]
             },
             {
              "title": "Happiness vs Life Expectancy",
              "xaxis": {
               "fixedrange": true,
               "range": [
                31.53,
                84.3563414634146
               ],
               "title": "Life Expectancy (years)"
              },
              "yaxis": {
               "fixedrange": true,
               "range": [
                2.853,
                7.769
               ],
               "title": "Happiness"
              }
             }
            ],
            "label": "Life Expectancy",
            "method": "update"
           }
          ],
          "x": 0.1,
          "xanchor": "left"
         }
        ],
        "template": {
         "data": {
          "bar": [
           {
            "error_x": {
             "color": "#2a3f5f"
            },
            "error_y": {
             "color": "#2a3f5f"
            },
            "marker": {
             "line": {
              "color": "#E5ECF6",
              "width": 0.5
             },
             "pattern": {
              "fillmode": "overlay",
              "size": 10,
              "solidity": 0.2
             }
            },
            "type": "bar"
           }
          ],
          "barpolar": [
           {
            "marker": {
             "line": {
              "color": "#E5ECF6",
              "width": 0.5
             },
             "pattern": {
              "fillmode": "overlay",
              "size": 10,
              "solidity": 0.2
             }
            },
            "type": "barpolar"
           }
          ],
          "carpet": [
           {
            "aaxis": {
             "endlinecolor": "#2a3f5f",
             "gridcolor": "white",
             "linecolor": "white",
             "minorgridcolor": "white",
             "startlinecolor": "#2a3f5f"
            },
            "baxis": {
             "endlinecolor": "#2a3f5f",
             "gridcolor": "white",
             "linecolor": "white",
             "minorgridcolor": "white",
             "startlinecolor": "#2a3f5f"
            },
            "type": "carpet"
           }
          ],
          "choropleth": [
           {
            "colorbar": {
             "outlinewidth": 0,
             "ticks": ""
            },
            "type": "choropleth"
           }
          ],
          "contour": [
           {
            "colorbar": {
             "outlinewidth": 0,
             "ticks": ""
            },
            "colorscale": [
             [
              0,
              "#0d0887"
             ],
             [
              0.1111111111111111,
              "#46039f"
             ],
             [
              0.2222222222222222,
              "#7201a8"
             ],
             [
              0.3333333333333333,
              "#9c179e"
             ],
             [
              0.4444444444444444,
              "#bd3786"
             ],
             [
              0.5555555555555556,
              "#d8576b"
             ],
             [
              0.6666666666666666,
              "#ed7953"
             ],
             [
              0.7777777777777778,
              "#fb9f3a"
             ],
             [
              0.8888888888888888,
              "#fdca26"
             ],
             [
              1,
              "#f0f921"
             ]
            ],
            "type": "contour"
           }
          ],
          "contourcarpet": [
           {
            "colorbar": {
             "outlinewidth": 0,
             "ticks": ""
            },
            "type": "contourcarpet"
           }
          ],
          "heatmap": [
           {
            "colorbar": {
             "outlinewidth": 0,
             "ticks": ""
            },
            "colorscale": [
             [
              0,
              "#0d0887"
             ],
             [
              0.1111111111111111,
              "#46039f"
             ],
             [
              0.2222222222222222,
              "#7201a8"
             ],
             [
              0.3333333333333333,
              "#9c179e"
             ],
             [
              0.4444444444444444,
              "#bd3786"
             ],
             [
              0.5555555555555556,
              "#d8576b"
             ],
             [
              0.6666666666666666,
              "#ed7953"
             ],
             [
              0.7777777777777778,
              "#fb9f3a"
             ],
             [
              0.8888888888888888,
              "#fdca26"
             ],
             [
              1,
              "#f0f921"
             ]
            ],
            "type": "heatmap"
           }
          ],
          "histogram": [
           {
            "marker": {
             "pattern": {
              "fillmode": "overlay",
              "size": 10,
              "solidity": 0.2
             }
            },
            "type": "histogram"
           }
          ],
          "histogram2d": [
           {
            "colorbar": {
             "outlinewidth": 0,
             "ticks": ""
            },
            "colorscale": [
             [
              0,
              "#0d0887"
             ],
             [
              0.1111111111111111,
              "#46039f"
             ],
             [
              0.2222222222222222,
              "#7201a8"
             ],
             [
              0.3333333333333333,
              "#9c179e"
             ],
             [
              0.4444444444444444,
              "#bd3786"
             ],
             [
              0.5555555555555556,
              "#d8576b"
             ],
             [
              0.6666666666666666,
              "#ed7953"
             ],
             [
              0.7777777777777778,
              "#fb9f3a"
             ],
             [
              0.8888888888888888,
              "#fdca26"
             ],
             [
              1,
              "#f0f921"
             ]
            ],
            "type": "histogram2d"
           }
          ],
          "histogram2dcontour": [
           {
            "colorbar": {
             "outlinewidth": 0,
             "ticks": ""
            },
            "colorscale": [
             [
              0,
              "#0d0887"
             ],
             [
              0.1111111111111111,
              "#46039f"
             ],
             [
              0.2222222222222222,
              "#7201a8"
             ],
             [
              0.3333333333333333,
              "#9c179e"
             ],
             [
              0.4444444444444444,
              "#bd3786"
             ],
             [
              0.5555555555555556,
              "#d8576b"
             ],
             [
              0.6666666666666666,
              "#ed7953"
             ],
             [
              0.7777777777777778,
              "#fb9f3a"
             ],
             [
              0.8888888888888888,
              "#fdca26"
             ],
             [
              1,
              "#f0f921"
             ]
            ],
            "type": "histogram2dcontour"
           }
          ],
          "mesh3d": [
           {
            "colorbar": {
             "outlinewidth": 0,
             "ticks": ""
            },
            "type": "mesh3d"
           }
          ],
          "parcoords": [
           {
            "line": {
             "colorbar": {
              "outlinewidth": 0,
              "ticks": ""
             }
            },
            "type": "parcoords"
           }
          ],
          "pie": [
           {
            "automargin": true,
            "type": "pie"
           }
          ],
          "scatter": [
           {
            "fillpattern": {
             "fillmode": "overlay",
             "size": 10,
             "solidity": 0.2
            },
            "type": "scatter"
           }
          ],
          "scatter3d": [
           {
            "line": {
             "colorbar": {
              "outlinewidth": 0,
              "ticks": ""
             }
            },
            "marker": {
             "colorbar": {
              "outlinewidth": 0,
              "ticks": ""
             }
            },
            "type": "scatter3d"
           }
          ],
          "scattercarpet": [
           {
            "marker": {
             "colorbar": {
              "outlinewidth": 0,
              "ticks": ""
             }
            },
            "type": "scattercarpet"
           }
          ],
          "scattergeo": [
           {
            "marker": {
             "colorbar": {
              "outlinewidth": 0,
              "ticks": ""
             }
            },
            "type": "scattergeo"
           }
          ],
          "scattergl": [
           {
            "marker": {
             "colorbar": {
              "outlinewidth": 0,
              "ticks": ""
             }
            },
            "type": "scattergl"
           }
          ],
          "scattermap": [
           {
            "marker": {
             "colorbar": {
              "outlinewidth": 0,
              "ticks": ""
             }
            },
            "type": "scattermap"
           }
          ],
          "scattermapbox": [
           {
            "marker": {
             "colorbar": {
              "outlinewidth": 0,
              "ticks": ""
             }
            },
            "type": "scattermapbox"
           }
          ],
          "scatterpolar": [
           {
            "marker": {
             "colorbar": {
              "outlinewidth": 0,
              "ticks": ""
             }
            },
            "type": "scatterpolar"
           }
          ],
          "scatterpolargl": [
           {
            "marker": {
             "colorbar": {
              "outlinewidth": 0,
              "ticks": ""
             }
            },
            "type": "scatterpolargl"
           }
          ],
          "scatterternary": [
           {
            "marker": {
             "colorbar": {
              "outlinewidth": 0,
              "ticks": ""
             }
            },
            "type": "scatterternary"
           }
          ],
          "surface": [
           {
            "colorbar": {
             "outlinewidth": 0,
             "ticks": ""
            },
            "colorscale": [
             [
              0,
              "#0d0887"
             ],
             [
              0.1111111111111111,
              "#46039f"
             ],
             [
              0.2222222222222222,
              "#7201a8"
             ],
             [
              0.3333333333333333,
              "#9c179e"
             ],
             [
              0.4444444444444444,
              "#bd3786"
             ],
             [
              0.5555555555555556,
              "#d8576b"
             ],
             [
              0.6666666666666666,
              "#ed7953"
             ],
             [
              0.7777777777777778,
              "#fb9f3a"
             ],
             [
              0.8888888888888888,
              "#fdca26"
             ],
             [
              1,
              "#f0f921"
             ]
            ],
            "type": "surface"
           }
          ],
          "table": [
           {
            "cells": {
             "fill": {
              "color": "#EBF0F8"
             },
             "line": {
              "color": "white"
             }
            },
            "header": {
             "fill": {
              "color": "#C8D4E3"
             },
             "line": {
              "color": "white"
             }
            },
            "type": "table"
           }
          ]
         },
         "layout": {
          "annotationdefaults": {
           "arrowcolor": "#2a3f5f",
           "arrowhead": 0,
           "arrowwidth": 1
          },
          "autotypenumbers": "strict",
          "coloraxis": {
           "colorbar": {
            "outlinewidth": 0,
            "ticks": ""
           }
          },
          "colorscale": {
           "diverging": [
            [
             0,
             "#8e0152"
            ],
            [
             0.1,
             "#c51b7d"
            ],
            [
             0.2,
             "#de77ae"
            ],
            [
             0.3,
             "#f1b6da"
            ],
            [
             0.4,
             "#fde0ef"
            ],
            [
             0.5,
             "#f7f7f7"
            ],
            [
             0.6,
             "#e6f5d0"
            ],
            [
             0.7,
             "#b8e186"
            ],
            [
             0.8,
             "#7fbc41"
            ],
            [
             0.9,
             "#4d9221"
            ],
            [
             1,
             "#276419"
            ]
           ],
           "sequential": [
            [
             0,
             "#0d0887"
            ],
            [
             0.1111111111111111,
             "#46039f"
            ],
            [
             0.2222222222222222,
             "#7201a8"
            ],
            [
             0.3333333333333333,
             "#9c179e"
            ],
            [
             0.4444444444444444,
             "#bd3786"
            ],
            [
             0.5555555555555556,
             "#d8576b"
            ],
            [
             0.6666666666666666,
             "#ed7953"
            ],
            [
             0.7777777777777778,
             "#fb9f3a"
            ],
            [
             0.8888888888888888,
             "#fdca26"
            ],
            [
             1,
             "#f0f921"
            ]
           ],
           "sequentialminus": [
            [
             0,
             "#0d0887"
            ],
            [
             0.1111111111111111,
             "#46039f"
            ],
            [
             0.2222222222222222,
             "#7201a8"
            ],
            [
             0.3333333333333333,
             "#9c179e"
            ],
            [
             0.4444444444444444,
             "#bd3786"
            ],
            [
             0.5555555555555556,
             "#d8576b"
            ],
            [
             0.6666666666666666,
             "#ed7953"
            ],
            [
             0.7777777777777778,
             "#fb9f3a"
            ],
            [
             0.8888888888888888,
             "#fdca26"
            ],
            [
             1,
             "#f0f921"
            ]
           ]
          },
          "colorway": [
           "#636efa",
           "#EF553B",
           "#00cc96",
           "#ab63fa",
           "#FFA15A",
           "#19d3f3",
           "#FF6692",
           "#B6E880",
           "#FF97FF",
           "#FECB52"
          ],
          "font": {
           "color": "#2a3f5f"
          },
          "geo": {
           "bgcolor": "white",
           "lakecolor": "white",
           "landcolor": "#E5ECF6",
           "showlakes": true,
           "showland": true,
           "subunitcolor": "white"
          },
          "hoverlabel": {
           "align": "left"
          },
          "hovermode": "closest",
          "mapbox": {
           "style": "light"
          },
          "paper_bgcolor": "white",
          "plot_bgcolor": "#E5ECF6",
          "polar": {
           "angularaxis": {
            "gridcolor": "white",
            "linecolor": "white",
            "ticks": ""
           },
           "bgcolor": "#E5ECF6",
           "radialaxis": {
            "gridcolor": "white",
            "linecolor": "white",
            "ticks": ""
           }
          },
          "scene": {
           "xaxis": {
            "backgroundcolor": "#E5ECF6",
            "gridcolor": "white",
            "gridwidth": 2,
            "linecolor": "white",
            "showbackground": true,
            "ticks": "",
            "zerolinecolor": "white"
           },
           "yaxis": {
            "backgroundcolor": "#E5ECF6",
            "gridcolor": "white",
            "gridwidth": 2,
            "linecolor": "white",
            "showbackground": true,
            "ticks": "",
            "zerolinecolor": "white"
           },
           "zaxis": {
            "backgroundcolor": "#E5ECF6",
            "gridcolor": "white",
            "gridwidth": 2,
            "linecolor": "white",
            "showbackground": true,
            "ticks": "",
            "zerolinecolor": "white"
           }
          },
          "shapedefaults": {
           "line": {
            "color": "#2a3f5f"
           }
          },
          "ternary": {
           "aaxis": {
            "gridcolor": "white",
            "linecolor": "white",
            "ticks": ""
           },
           "baxis": {
            "gridcolor": "white",
            "linecolor": "white",
            "ticks": ""
           },
           "bgcolor": "#E5ECF6",
           "caxis": {
            "gridcolor": "white",
            "linecolor": "white",
            "ticks": ""
           }
          },
          "title": {
           "x": 0.05
          },
          "xaxis": {
           "automargin": true,
           "gridcolor": "white",
           "linecolor": "white",
           "ticks": "",
           "title": {
            "standoff": 15
           },
           "zerolinecolor": "white",
           "zerolinewidth": 2
          },
          "yaxis": {
           "automargin": true,
           "gridcolor": "white",
           "linecolor": "white",
           "ticks": "",
           "title": {
            "standoff": 15
           },
           "zerolinecolor": "white",
           "zerolinewidth": 2
          }
         }
        },
        "title": {
         "text": "Happiness vs Education Expenditure"
        },
        "width": 900,
        "xaxis": {
         "automargin": false,
         "dtick": 1,
         "fixedrange": true,
         "range": [
          0.358478993177414,
          9.32253170013428
         ],
         "tickfont": {
          "size": 12
         },
         "tickmode": "linear",
         "title": {
          "font": {
           "size": 14
          },
          "text": "Education Expenditure (% of GDP)"
         }
        },
        "yaxis": {
         "automargin": false,
         "autorange": "reversed",
         "dtick": 1,
         "fixedrange": true,
         "range": [
          2.853,
          7.769
         ],
         "tickfont": {
          "size": 12
         },
         "tickmode": "linear",
         "title": {
          "font": {
           "size": 14
          },
          "text": "Happiness"
         }
        }
       }
      },
      "text/html": [
       "<div>            <script src=\"https://cdnjs.cloudflare.com/ajax/libs/mathjax/2.7.5/MathJax.js?config=TeX-AMS-MML_SVG\"></script><script type=\"text/javascript\">if (window.MathJax && window.MathJax.Hub && window.MathJax.Hub.Config) {window.MathJax.Hub.Config({SVG: {font: \"STIX-Web\"}});}</script>                <script type=\"text/javascript\">window.PlotlyConfig = {MathJaxConfig: 'local'};</script>\n",
       "        <script charset=\"utf-8\" src=\"https://cdn.plot.ly/plotly-3.0.1.min.js\"></script>                <div id=\"3a919d70-a967-43b9-8021-66d30c92052b\" class=\"plotly-graph-div\" style=\"height:600px; width:900px;\"></div>            <script type=\"text/javascript\">                window.PLOTLYENV=window.PLOTLYENV || {};                                if (document.getElementById(\"3a919d70-a967-43b9-8021-66d30c92052b\")) {                    Plotly.newPlot(                        \"3a919d70-a967-43b9-8021-66d30c92052b\",                        [{\"customdata\":{\"dtype\":\"i2\",\"bdata\":\"AQACAAMABAAFAAYABwAIAAkACgALAAwADQAOAA8AEAARABIAEwAUABUAFwAYABkAGwAcAB0AHgAfACAAIQAiACMAJAAlACYAKAApACsALAAtAC4ALwAwADEAMgAzADQANQA2ADcAOAA5ADoAOwA8AD0APgA\\u002fAEAAQwBEAEUARgBHAEgASQBKAEwATQBOAE8ATwBRAFIAUwBUAFUAVgBXAFgAWQBaAFsAXABdAF4AXwBhAGIAYwBkAGUAZgBnAGgAaQBqAGsAbQBuAHAAcQByAHMAdAB1AHYAdwB4AHoAewB8AH4AfwCBAIIAhAA=\"},\"hovertemplate\":\"Country: %{text}\\u003cbr\\u003eRank: %{customdata} out of 133\\u003cbr\\u003eEducation Expenditure: %{x:.1f}% of GDP\\u003cbr\\u003eHappiness: %{y:.2f}\\u003cextra\\u003e\\u003c\\u002fextra\\u003e\",\"mode\":\"markers\",\"name\":\"Education Expenditure\",\"text\":[\"Finland\",\"Denmark\",\"Norway\",\"Iceland\",\"Netherlands\",\"Switzerland\",\"Sweden\",\"New Zealand\",\"Canada\",\"Austria\",\"Australia\",\"Costa Rica\",\"Israel\",\"Luxembourg\",\"United Kingdom\",\"Ireland\",\"Germany\",\"Belgium\",\"United States\",\"United Arab Emirates\",\"Malta\",\"France\",\"Chile\",\"Guatemala\",\"Qatar\",\"Spain\",\"Panama\",\"Brazil\",\"Uruguay\",\"Singapore\",\"El Salvador\",\"Italy\",\"Bahrain\",\"Poland\",\"Uzbekistan\",\"Lithuania\",\"Slovenia\",\"Nicaragua\",\"Argentina\",\"Romania\",\"Cyprus\",\"Ecuador\",\"Kuwait\",\"Thailand\",\"Latvia\",\"Estonia\",\"Jamaica\",\"Mauritius\",\"Japan\",\"Honduras\",\"Kazakhstan\",\"Bolivia\",\"Hungary\",\"Paraguay\",\"Peru\",\"Portugal\",\"Pakistan\",\"Philippines\",\"Serbia\",\"Moldova\",\"Tajikistan\",\"Croatia\",\"Dominican Republic\",\"Bosnia and Herzegovina\",\"Malaysia\",\"Belarus\",\"Greece\",\"Mongolia\",\"Nigeria\",\"Turkmenistan\",\"Algeria\",\"Morocco\",\"Azerbaijan\",\"Lebanon\",\"Indonesia\",\"China\",\"Bhutan\",\"Cameroon\",\"Bulgaria\",\"Ghana\",\"Nepal\",\"Jordan\",\"Benin\",\"Gabon\",\"South Africa\",\"Albania\",\"Cambodia\",\"Senegal\",\"Namibia\",\"Niger\",\"Burkina Faso\",\"Armenia\",\"Guinea\",\"Georgia\",\"Kenya\",\"Mauritania\",\"Mozambique\",\"Tunisia\",\"Bangladesh\",\"Mali\",\"Sierra Leone\",\"Myanmar\",\"Chad\",\"Ukraine\",\"Ethiopia\",\"Uganda\",\"Zambia\",\"Togo\",\"India\",\"Liberia\",\"Madagascar\",\"Lesotho\",\"Burundi\",\"Haiti\",\"Botswana\",\"Rwanda\",\"Tanzania\",\"Central African Republic\"],\"visible\":true,\"x\":{\"dtype\":\"f8\",\"bdata\":\"AgAAAPWqGUABAADgKwUdQP\\u002f\\u002f\\u002fz9PdR9AAAAAILtnHkAFAABgsqMUQPz\\u002f\\u002fz+8DhRAAQAAoNWNHkD7\\u002f\\u002f9fQLYUQP7\\u002f\\u002f\\u002f96FxNAAwAAYATfFED7\\u002f\\u002f9\\u002fywgWQAIAAEDL8xpAAwAAIHcqGED5\\u002f\\u002f+feOMNQAUAAIBtCxVABwAAYI5eCkD8\\u002f\\u002f\\u002ffSnYUQPz\\u002f\\u002fz\\u002f8VRlABAAAAHPUE0D4\\u002f\\u002f+\\u002fteEOQP\\u002f\\u002f\\u002fz\\u002fvmBNA\\u002fP\\u002f\\u002fv+9qFUD8\\u002f\\u002f9fV4EWQAYAAOAziwlAAQAAQCRuBkACAADAvusQQAUAAAARvwhABAAA4JfaF0D7\\u002f\\u002f9\\u002fa4MSQPr\\u002f\\u002f18J1gVACgAAIM0YC0D+\\u002f\\u002f9\\u002fjmEQQAYAAICrEwNABAAAABq3EkABAABgby4ZQPn\\u002f\\u002f\\u002f95tg9AAQAAQO2QE0AAAABgUWYSQAQAAGArFhNA\\u002f\\u002f\\u002f\\u002fHx2JDED7\\u002f\\u002f\\u002ffs9kUQP3\\u002f\\u002f7+t+xBABQAAgF3pGkAAAACgfi0IQPr\\u002f\\u002f99MvhFA+\\u002f\\u002f\\u002ff6sKFUD+\\u002f\\u002f8\\u002fkacUQAIAAAD1KhJAAQAA4CI+CUD9\\u002f\\u002f+\\u002f1roXQAQAAECg1ApA\\u002fv\\u002f\\u002fv5wuIEABAAAAR+YQQPr\\u002f\\u002fx8s6wtA\\u002fv\\u002f\\u002fH1aUDkD9\\u002f\\u002f\\u002f\\u002fI4USQP3\\u002f\\u002f78muAFA\\u002fv\\u002f\\u002fP4hCC0D4\\u002f\\u002f\\u002ffh+4MQAQAAEAw5xhA\\u002fv\\u002f\\u002fH+bvFUD2\\u002f\\u002f\\u002ffUlwPQP3\\u002f\\u002f5\\u002fLKxBAAAAAYJEtEED9\\u002f\\u002f\\u002ffGNYPQAEAAGD\\u002f6hNA9f\\u002f\\u002f32SwDED7\\u002f\\u002f+fDTgNQAEAAOBR8dY\\u002fAQAA4OL2CEACAACgLE0WQAMAAMBVAxRA+\\u002f\\u002f\\u002f32NpCUAGAAAAWM0EQAQAAIBb3O4\\u002f\\u002f\\u002f\\u002f\\u002f\\u002f9E8EEAEAABAEAoSQPj\\u002f\\u002f\\u002f8SYQhA\\u002fv\\u002f\\u002ff87LEEADAABgfTkJQAIAAKCs4gtABAAAAGPoB0D5\\u002f\\u002f9fu7gHQP7\\u002f\\u002fx+W\\u002fgZA+\\u002f\\u002f\\u002fP3WlF0D2\\u002f\\u002f+fdVQPQAMAAODwmgZA\\u002f\\u002f\\u002f\\u002f3x0kFEABAADgIqUiQAYAAKC2NQxAAgAAgOigFUD9\\u002f\\u002f+\\u002fRpMEQPn\\u002f\\u002f3\\u002fmuv0\\u002f+\\u002f\\u002f\\u002fn42jDkAEAADgjn4VQOz\\u002f\\u002f7++K\\u002f0\\u002fBQAAgEQlGUD\\u002f\\u002f\\u002f\\u002ff5rEYQPf\\u002f\\u002fx\\u002f35vo\\u002f9v\\u002f\\u002f\\u002f71wDEAFAACAvckdQO3\\u002f\\u002f18E\\u002f\\u002f8\\u002fAgAAQMv6AkD\\u002f\\u002f\\u002f8f5MMVQP\\u002f\\u002f\\u002f\\u002f9o7BFAAQAA4Ft3AkADAAAgR6wRQAEAACCCzhBABgAAALgtD0AEAACAFlIBQAsAAABpGwhABAAAALrGHED+\\u002f\\u002f8\\u002fAWMVQAUAAECOJvw\\u002f\\u002fv\\u002f\\u002fP0nMIEALAABg0egJQAEAACBSxgxABQAAQGdJ\\u002fD8=\"},\"y\":{\"dtype\":\"f8\",\"bdata\":\"+n5qvHQTH0BmZmZmZmYeQJ7vp8ZLNx5AYOXQItv5HUDByqFFtvMdQOxRuB6F6x1ArBxaZDtfHUDufD81XjodQOkmMQisHB1AlkOLbOf7HEC28\\u002f3UeOkcQF66SQwCqxxAdZMYBFaOHEBcj8L1KFwcQJ7vp8ZLNxxAL90kBoEVHEBxPQrXo\\u002fAbQP7UeOkmsRtAxSCwcmiRG0DNzMzMzEwbQIGVQ4ts5xpAke18PzVeGkAtsp3vp8YZQFg5tMh2vhlA5dAi2\\u002fl+GUDRItv5fmoZQGIQWDm0SBlAMzMzMzMzGUB56SYxCCwZQD81XrpJDBlAUI2XbhIDGUAxCKwcWuQYQLKd76fGyxhA7nw\\u002fNV66GEAZBFYOLbIYQH9qvHSTmBhARrbz\\u002fdR4GEDsUbgehWsYQPLSTWIQWBhASOF6FK5HGEDJdr6fGi8YQOkmMQisHBhAL90kBoEVGEDVeOkmMQgYQMP1KFyPwhdA30+Nl26SF0CPwvUoXI8XQFpkO99PjRdAJQaBlUOLF0BxPQrXo3AXQCPb+X5qPBdABFYOLbIdF0DVeOkmMQgXQEa28\\u002f3U+BZAfT81XrrJFkASg8DKocUWQOkmMQisnBZAoBov3SSGFkC28\\u002f3UeGkWQARWDi2yHRZAke18PzXeFUDufD81XroVQDMzMzMzsxVAJQaBlUOLFUBCYOXQIlsVQJhuEoPAShVA2c73U+MlFUCkcD0K1yMVQI\\u002fC9ShcDxVAsHJoke38FEDy0k1iENgUQKJFtvP91BRAokW28\\u002f3UFEB9PzVeuskUQPhT46WbxBRA3SQGgZXDFECHFtnO91MUQJMYBFYOLRRAJQaBlUMLFECWQ4ts5\\u002fsTQPT91HjpphNAObTIdr6fE0DVeOkmMYgTQBkEVg4tMhNAF9nO91PjEkDHSzeJQeASQM3MzMzMzBJA001iEFi5EkB1kxgEVo4SQFCNl24SgxJADAIrhxZZEkAj2\\u002fl+ajwSQIlBYOXQIhJA+n5qvHQTEkDwp8ZLNwkSQPYoXI\\u002fC9RFAd76fGi\\u002fdEUDy0k1iENgRQG3n+6nx0hFAj8L1KFyPEUDl0CLb+X4RQHE9CtejcBFAZmZmZmZmEUCHFtnO91MRQL6fGi\\u002fdJBFAqMZLN4nBEEAhsHJokW0QQNejcD0KVxBAj8L1KFwPEEDNzMzMzMwPQBBYObTIdg9A0SLb+X5qDkAzMzMzMzMOQC2yne+nxgxAgZVDi2znC0B56SYxCKwKQAwCK4cW2QlARIts5\\u002fupCEA=\"},\"type\":\"scatter\"},{\"customdata\":{\"dtype\":\"i2\",\"bdata\":\"AQACAAMABAAFAAYABwAIAAkACgALAAwADQAOAA8AEAARABIAEwAUABUAFgAXABgAGQAaABsAHAAdAB4AHwAgACEAIgAkACUAJgAnACgAKgArACwALQAuADAAMQAyADMANAA1ADYANwA4ADkAOgA7ADwAPQA+AD8AQABCAEQARQBGAEcASABJAEoASwBMAE8AUQBSAFMAVABWAFkAWgBcAF0AXgBfAGAAYgBjAGQAZQBmAGcAaABqAG0AbwBwAHIAdAB1AHYAdwB7AH0AfwCBAA==\"},\"hovertemplate\":\"Country: %{text}\\u003cbr\\u003eRank: %{customdata} out of 133\\u003cbr\\u003eUnemployment Rate: %{x:.1f}%\\u003cbr\\u003eHappiness: %{y:.2f}\\u003cextra\\u003e\\u003c\\u002fextra\\u003e\",\"mode\":\"markers\",\"name\":\"Unemployment Rate\",\"text\":[\"Finland\",\"Denmark\",\"Norway\",\"Iceland\",\"Netherlands\",\"Switzerland\",\"Sweden\",\"New Zealand\",\"Canada\",\"Austria\",\"Australia\",\"Costa Rica\",\"Israel\",\"Luxembourg\",\"United Kingdom\",\"Ireland\",\"Germany\",\"Belgium\",\"United States\",\"United Arab Emirates\",\"Malta\",\"Mexico\",\"France\",\"Chile\",\"Guatemala\",\"Saudi Arabia\",\"Qatar\",\"Spain\",\"Panama\",\"Brazil\",\"Uruguay\",\"Singapore\",\"El Salvador\",\"Italy\",\"Poland\",\"Uzbekistan\",\"Lithuania\",\"Colombia\",\"Slovenia\",\"Kosovo\",\"Argentina\",\"Romania\",\"Cyprus\",\"Ecuador\",\"Thailand\",\"Latvia\",\"Estonia\",\"Jamaica\",\"Mauritius\",\"Japan\",\"Honduras\",\"Kazakhstan\",\"Bolivia\",\"Hungary\",\"Paraguay\",\"Peru\",\"Portugal\",\"Pakistan\",\"Philippines\",\"Serbia\",\"Moldova\",\"Montenegro\",\"Croatia\",\"Dominican Republic\",\"Bosnia and Herzegovina\",\"Malaysia\",\"Belarus\",\"Greece\",\"Mongolia\",\"North Macedonia\",\"Nigeria\",\"Azerbaijan\",\"Lebanon\",\"Indonesia\",\"China\",\"Bhutan\",\"Bulgaria\",\"Jordan\",\"Benin\",\"South Africa\",\"Albania\",\"Cambodia\",\"Senegal\",\"Somalia\",\"Niger\",\"Burkina Faso\",\"Armenia\",\"Guinea\",\"Georgia\",\"Kenya\",\"Mauritania\",\"Tunisia\",\"Mali\",\"Sri Lanka\",\"Myanmar\",\"Ukraine\",\"Uganda\",\"Zambia\",\"Togo\",\"India\",\"Lesotho\",\"Zimbabwe\",\"Botswana\",\"Rwanda\"],\"visible\":false,\"x\":{\"dtype\":\"f8\",\"bdata\":\"SOF6FK7HGkDfT42XbhIUQEa28\\u002f3UeA1AdZMYBFYODEDVeOkmMQgLQPp+arx0kxFAokW28\\u002f1UG0BWDi2ynW8QQMP1KFyPwhZAPQrXo3A9EkDfT42XbpIUQHe+nxovnSVADAIrhxbZDUCR7Xw\\u002fNV4WQKjGSzeJQQ1AzczMzMzME0Dn+6nx0k0JQNv5fmq8dBVAJzEIrBxaDUDZzvdT46UCQGq8dJMYBA1AN4lBYOXQC0AUrkfhetQgQEa28\\u002f3U+B1AJQaBlUOLAUAlBoGVQ4sWQJqZmZmZmbk\\u002f9ihcj8I1LECJQWDl0KIZQKwcWmQ73ydAeekmMQisIUDNzMzMzMwIQK5H4XoUrhBAgZVDi2znI0CJQWDl0CIKQPYoXI\\u002fC9SFAhetRuB4FGUCPwvUoXI8kQGIQWDm0yBFAi2zn+6kROUBWDi2yna8jQLKd76fGSw9AH4XrUbieHEDl0CLb+X4OQLbz\\u002fdR46eY\\u002fc2iR7Xw\\u002fGUB1kxgEVg4SQKabxCCw8hNAbef7qfFSGUACK4cW2c4CQJhuEoPAyhZAMzMzMzMzE0Db+X5qvHQNQCcxCKwcWgtA4XoUrkdhGkDVeOkmMQgLQEJg5dAi2xlAUrgehetRE0BMN4lBYOUBQArXo3A9yiRA1XjpJjEI+D+oxks3iUEuQCuHFtnOdxpABoGVQ4tsGUD8qfHSTWIvQBSuR+F6FApAKVyPwvWoEEDsUbgehQsxQD81XrpJDCJARIts5\\u002ftpMUCkcD0K12MlQAAAAAAAABRAJzEIrByaJkC4HoXrUbgMQJqZmZmZmRRAw\\u002fUoXI\\u002fCBUDsUbgehesQQJMYBFYOzTBABoGVQ4ts8z8rhxbZznc8QDvfT42X7iZAVg4tsp3v3z+BlUOLbOcGQIcW2c730zJAoBov3SQG4T\\u002f2KFyPwvX4P0oMAiuHliNA30+Nl24SFEDhehSuRyEnQHWTGARWDhRAokW28\\u002f3UJEC6SQwCKycxQFK4HoXrUQpArkfhehSuEkA\\u002fNV66SQzaPxfZzvdTYyBAGy\\u002fdJAaBBED0\\u002fdR46SYWQH0\\u002fNV66SQBACtejcD0KGkDHSzeJQeAwQMuhRbbzfR1A8tJNYhAYNEBGtvP91HgmQA==\"},\"y\":{\"dtype\":\"f8\",\"bdata\":\"+n5qvHQTH0BmZmZmZmYeQJ7vp8ZLNx5AYOXQItv5HUDByqFFtvMdQOxRuB6F6x1ArBxaZDtfHUDufD81XjodQOkmMQisHB1AlkOLbOf7HEC28\\u002f3UeOkcQF66SQwCqxxAdZMYBFaOHEBcj8L1KFwcQJ7vp8ZLNxxAL90kBoEVHEBxPQrXo\\u002fAbQP7UeOkmsRtAxSCwcmiRG0DNzMzMzEwbQIGVQ4ts5xpA4XoUrkdhGkCR7Xw\\u002fNV4aQC2yne+nxhlAWDm0yHa+GUAAAAAAAIAZQOXQItv5fhlA0SLb+X5qGUBiEFg5tEgZQDMzMzMzMxlAeekmMQgsGUA\\u002fNV66SQwZQFCNl24SAxlAMQisHFrkGEDufD81XroYQBkEVg4tshhAf2q8dJOYGEAAAAAAAIAYQEa28\\u002f3UeBhAZmZmZmZmGEDy0k1iEFgYQEjhehSuRxhAyXa+nxovGEDpJjEIrBwYQNV46SYxCBhAw\\u002fUoXI\\u002fCF0DfT42XbpIXQI\\u002fC9ShcjxdAWmQ730+NF0AlBoGVQ4sXQHE9CtejcBdAI9v5fmo8F0AEVg4tsh0XQNV46SYxCBdARrbz\\u002fdT4FkB9PzVeuskWQBKDwMqhxRZA6SYxCKycFkCgGi\\u002fdJIYWQLbz\\u002fdR4aRZABFYOLbIdFkBkO99PjRcWQO58PzVeuhVAMzMzMzOzFUAlBoGVQ4sVQEJg5dAiWxVAmG4Sg8BKFUDZzvdT4yUVQKRwPQrXIxVAf2q8dJMYFUCPwvUoXA8VQKJFtvP91BRAfT81XrrJFED4U+Olm8QUQN0kBoGVwxRAhxbZzvdTFEAlBoGVQwsUQDm0yHa+nxNA1XjpJjGIE0AX2c73U+MSQMdLN4lB4BJAzczMzMzMEkDTTWIQWLkSQHnpJjEIrBJAUI2XbhKDEkAMAiuHFlkSQCPb+X5qPBJAiUFg5dAiEkD6fmq8dBMSQPCnxks3CRJA9ihcj8L1EUDy0k1iENgRQI\\u002fC9ShcjxFAEFg5tMh2EUBxPQrXo3ARQIcW2c73UxFAqMZLN4nBEEAhsHJokW0QQNejcD0KVxBAj8L1KFwPEEDRItv5fmoOQOf7qfHSTQ1AgZVDi2znC0B56SYxCKwKQA==\"},\"type\":\"scatter\"},{\"customdata\":{\"dtype\":\"i2\",\"bdata\":\"AQACAAMABAAFAAYABwAIAAkACgALAAwADQAOAA8AEAARABIAEwAUABUAFgAXABgAGQAaABsAHAAdAB4AHwAgACEAIgAjACQAJQAmACcAKAApACoAKwAsAC0ALgAvADAAMQAyADMANAA1ADYANwA4ADkAOgA7ADwAPQA+AD8AQABBAEIAQwBEAEUARgBHAEgASQBKAEsATABNAE4ATwBPAFEAUgBTAFQAVQBWAFcAWABZAFoAWwBcAF0AXgBfAGAAYQBiAGMAZABlAGYAZwBoAGkAagBrAGwAbQBuAG8AcABxAHIAcwB0AHUAdgB3AHgAeQB6AHsAfAB9AH4AfwCAAIEAggCDAIQAhQA=\"},\"hovertemplate\":\"Country: %{text}\\u003cbr\\u003eRank: %{customdata} out of 133\\u003cbr\\u003eLife Expectancy: %{x:.1f} years\\u003cbr\\u003eHappiness: %{y:.2f}\\u003cextra\\u003e\\u003c\\u002fextra\\u003e\",\"mode\":\"markers\",\"name\":\"Life Expectancy\",\"text\":[\"Finland\",\"Denmark\",\"Norway\",\"Iceland\",\"Netherlands\",\"Switzerland\",\"Sweden\",\"New Zealand\",\"Canada\",\"Austria\",\"Australia\",\"Costa Rica\",\"Israel\",\"Luxembourg\",\"United Kingdom\",\"Ireland\",\"Germany\",\"Belgium\",\"United States\",\"United Arab Emirates\",\"Malta\",\"Mexico\",\"France\",\"Chile\",\"Guatemala\",\"Saudi Arabia\",\"Qatar\",\"Spain\",\"Panama\",\"Brazil\",\"Uruguay\",\"Singapore\",\"El Salvador\",\"Italy\",\"Bahrain\",\"Poland\",\"Uzbekistan\",\"Lithuania\",\"Colombia\",\"Slovenia\",\"Nicaragua\",\"Kosovo\",\"Argentina\",\"Romania\",\"Cyprus\",\"Ecuador\",\"Kuwait\",\"Thailand\",\"Latvia\",\"Estonia\",\"Jamaica\",\"Mauritius\",\"Japan\",\"Honduras\",\"Kazakhstan\",\"Bolivia\",\"Hungary\",\"Paraguay\",\"Peru\",\"Portugal\",\"Pakistan\",\"Philippines\",\"Serbia\",\"Moldova\",\"Libya\",\"Montenegro\",\"Tajikistan\",\"Croatia\",\"Dominican Republic\",\"Bosnia and Herzegovina\",\"Malaysia\",\"Belarus\",\"Greece\",\"Mongolia\",\"North Macedonia\",\"Nigeria\",\"Turkmenistan\",\"Algeria\",\"Morocco\",\"Azerbaijan\",\"Lebanon\",\"Indonesia\",\"China\",\"Bhutan\",\"Cameroon\",\"Bulgaria\",\"Ghana\",\"Nepal\",\"Jordan\",\"Benin\",\"Gabon\",\"South Africa\",\"Albania\",\"Cambodia\",\"Senegal\",\"Somalia\",\"Namibia\",\"Niger\",\"Burkina Faso\",\"Armenia\",\"Guinea\",\"Georgia\",\"Kenya\",\"Mauritania\",\"Mozambique\",\"Tunisia\",\"Bangladesh\",\"Iraq\",\"Mali\",\"Sierra Leone\",\"Sri Lanka\",\"Myanmar\",\"Chad\",\"Ukraine\",\"Ethiopia\",\"Uganda\",\"Zambia\",\"Togo\",\"India\",\"Liberia\",\"Comoros\",\"Madagascar\",\"Lesotho\",\"Burundi\",\"Zimbabwe\",\"Haiti\",\"Botswana\",\"Malawi\",\"Rwanda\",\"Tanzania\",\"Afghanistan\",\"Central African Republic\",\"South Sudan\"],\"visible\":false,\"x\":{\"dtype\":\"f8\",\"bdata\":\"X4TuReh+VEB7DM7H4FxUQKGK1alYvVRAKFanYnXKVEBG43I0LodUQFuYnoXp+VRA6WNwPgbHVECjcTkal4NUQB2Wp2F5ilRA2JqUrUl5VECamZmZmblUQG3n+6nxElRA9DE4H4OzVEBpXI7G5ahUQE0urbGfV1RAMUzPwvSsVEAVtStRu1JUQD8B+xOwf1RAVLYmZWuyU0CgGi\\u002fdJKZUQG1XonYlqlRAUrgeheuhUkBWrE7F6rRUQNv5fmq8FFRAN4lBYOXoUUB56SYxCJRTQBSuR+F6vFRAF6tTsTr1VEA3iUFg5aBTQLKd76fG81JA1XjpJjFgU0ClZ2F6FuZUQGZmZmZm7lFAo4D9CdjfVECgGi\\u002fdJB5UQFuYnoXpeVNAy6FFtvMFUkCTtyF5GxJTQJhuEoPAMlNAgPgdiN9hVEA3iUFg5XBSQA4tsp3vT1NAke18PzU2U0CF5G1I3uZSQJMYBFYOXVRA\\u002fKnx0k1SU0DAB+F7EH5UQPhT46WbTFNAuhyNy9HYUkCO2pWoXalTQDVeukkM4lFAoIPxORiPUkDE5GxMzhZVQA4tsp3vB1JAJzEIrBxqUkAUrkfhevRQQDEuR+NyFFNAmG4Sg8BqUkCamZmZmRFTQA7TszA9a1RALbKd76euUEDsUbgehWtRQD8QvwPx+1JA3SQGgZWLUUBOYhBYOTxSQCxRuxK1K1NAIbByaJG9UUCMxuVoXI5TQLpJDAIrR1JA8KfGSzdZU0CamZmZmflSQPBF6F6EjlJAaVyOxuVoVEBicjYmZ8NRQMvlaFyOJlNA\\u002ftR46SaBSkBSuB6F61lRQM\\u002f3U+Ol61JASOF6FK6PUkDD9Shcj1JSQFpkO99PjVNAdZMYBFaWUUBcj8L1KHxTQLgehetRAFJAKVyPwvXYTkBG43I0LsdSQIXrUbgeHVBAQmDl0CJTUUCPwvUoXDdTQIts5\\u002fup8U1AIbByaJHVUEAGgZVDi4RQQNnO91Pj3VNA46WbxCCIUUCYbhKDwOpQQB1aZDvfn0xA2c73U+PFT0CHFtnO9wNOQGQ730+NF05AL0fjcjQOU0CNl24Sg7BNQMP1KFyPilJA1XjpJjF4T0ApXI\\u002fC9ehQQLpJDAIrp05AdZMYBFbmUkAAAAAAAChSQEjhehSuz1FAsp3vp8abTUCWQ4ts58tNQOkmMQisLFNAaJHtfD+dUEDJdr6fGn9KQHsUrkfhelJAgZVDi2xvUEAtsp3vp5ZQQKJFtvP9dE9A16NwPQqHTkA5tMh2vq9RQARWDi2ynU5A7nw\\u002fNV5qUECNl24Sg8BPQB1aZDvfn0tA16NwPQoXT0BI4XoUrodOQKJFtvP9FFBAppvEILDKUEBI4XoUrj9QQE5iEFg5rFBAnMQgsHKAUECcxCCwcnhPQEjhehSuhz9AjZduEoMQTUA=\"},\"y\":{\"dtype\":\"f8\",\"bdata\":\"+n5qvHQTH0BmZmZmZmYeQJ7vp8ZLNx5AYOXQItv5HUDByqFFtvMdQOxRuB6F6x1ArBxaZDtfHUDufD81XjodQOkmMQisHB1AlkOLbOf7HEC28\\u002f3UeOkcQF66SQwCqxxAdZMYBFaOHEBcj8L1KFwcQJ7vp8ZLNxxAL90kBoEVHEBxPQrXo\\u002fAbQP7UeOkmsRtAxSCwcmiRG0DNzMzMzEwbQIGVQ4ts5xpA4XoUrkdhGkCR7Xw\\u002fNV4aQC2yne+nxhlAWDm0yHa+GUAAAAAAAIAZQOXQItv5fhlA0SLb+X5qGUBiEFg5tEgZQDMzMzMzMxlAeekmMQgsGUA\\u002fNV66SQwZQFCNl24SAxlAMQisHFrkGECyne+nxssYQO58PzVeuhhAGQRWDi2yGEB\\u002farx0k5gYQAAAAAAAgBhARrbz\\u002fdR4GEDsUbgehWsYQGZmZmZmZhhA8tJNYhBYGEBI4XoUrkcYQMl2vp8aLxhA6SYxCKwcGEAv3SQGgRUYQNV46SYxCBhAw\\u002fUoXI\\u002fCF0DfT42XbpIXQI\\u002fC9ShcjxdAWmQ730+NF0AlBoGVQ4sXQHE9CtejcBdAI9v5fmo8F0AEVg4tsh0XQNV46SYxCBdARrbz\\u002fdT4FkB9PzVeuskWQBKDwMqhxRZA6SYxCKycFkCgGi\\u002fdJIYWQLbz\\u002fdR4aRZABFYOLbIdFkCamZmZmRkWQGQ730+NFxZAke18PzXeFUDufD81XroVQDMzMzMzsxVAJQaBlUOLFUBCYOXQIlsVQJhuEoPAShVA2c73U+MlFUCkcD0K1yMVQH9qvHSTGBVAj8L1KFwPFUCwcmiR7fwUQPLSTWIQ2BRAokW28\\u002f3UFECiRbbz\\u002fdQUQH0\\u002fNV66yRRA+FPjpZvEFEDdJAaBlcMUQIcW2c73UxRAkxgEVg4tFEAlBoGVQwsUQJZDi2zn+xNA9P3UeOmmE0A5tMh2vp8TQNV46SYxiBNAGQRWDi0yE0AX2c73U+MSQMdLN4lB4BJAzczMzMzMEkDTTWIQWLkSQHnpJjEIrBJAdZMYBFaOEkBQjZduEoMSQAwCK4cWWRJAI9v5fmo8EkCJQWDl0CISQPp+arx0ExJA8KfGSzcJEkD2KFyPwvURQHe+nxov3RFA8tJNYhDYEUBt5\\u002fup8dIRQHNoke18vxFAj8L1KFyPEUDl0CLb+X4RQBBYObTIdhFAcT0K16NwEUBmZmZmZmYRQIcW2c73UxFAvp8aL90kEUCoxks3icEQQCGwcmiRbRBA16NwPQpXEECPwvUoXA8QQM3MzMzMzA9AYhBYObTID0AQWDm0yHYPQNEi2\\u002fl+ag5AMzMzMzMzDkDn+6nx0k0NQC2yne+nxgxAgZVDi2znC0BI4XoUrkcLQHnpJjEIrApADAIrhxbZCUA5tMh2vp8JQESLbOf7qQhAbef7qfHSBkA=\"},\"type\":\"scatter\"},{\"hoverinfo\":\"skip\",\"line\":{\"color\":\"blue\",\"dash\":\"dash\"},\"mode\":\"lines\",\"name\":\"Trend Line\",\"visible\":true,\"x\":{\"dtype\":\"f8\",\"bdata\":\"AQAA4FHx1j+q9StF07zcP6n1K1UqROE\\u002ffvDBB+sp5D9S61e6qw\\u002fnPybm7Wxs9ek\\u002f+uCDHy3b7D\\u002fO2xnS7cDvP1HrV0JXU\\u002fE\\u002fu+iimzfG8j8l5u30Fzn0P5DjOE74q\\u002fU\\u002f+uCDp9ge9z9k3s4AuZH4P87bGVqZBPo\\u002fONlks3l3+z+i1q8MWur8PwzU+mU6Xf4\\u002fdtFFvxrQ\\u002fz9wZ0iMfaEAQCXm7bjtWgFA22ST5V0UAkCQ4zgSzs0CQERi3j4+hwNA+uCDa65ABECvXymYHvoEQGTezsSOswVAGV108f5sBkDO2xkebyYHQINav0rf3wdAONlkd0+ZCEDtVwqkv1IJQKLWr9AvDApAV1VV\\u002fZ\\u002fFCkAM1PopEH8LQMFSoFaAOAxAdtFFg\\u002fDxDEArUOuvYKsNQODOkNzQZA5AlU02CUEeD0BKzNs1sdcPQIClQLGQSBBA22STx0ilEEA1JObdAAIRQJDjOPS4XhFA6qKLCnG7EUBEYt4gKRgSQJ8hMTfhdBJA+uCDTZnREkBUoNZjUS4TQK9fKXoJixNACR98kMHnE0Bk3s6meUQUQL6dIb0xoRRAGV100+n9FEBzHMfpoVoVQM7bGQBatxVAKJtsFhIUFkCDWr8synAWQN0ZEkOCzRZAONlkWToqF0CSmLdv8oYXQO1XCoaq4xdARxddnGJAGECi1q+yGp0YQP2VAsnS+RhAV1VV34pWGUCyFKj1QrMZQAzU+gv7DxpAZ5NNIrNsGkDBUqA4a8kaQBwS804jJhtAdtFFZduCG0DRkJh7k98bQCtQ65FLPBxAhg8+qAOZHEDgzpC+u\\u002fUcQDuO49RzUh1AlU026yuvHUDwDIkB5AseQErM2xecaB5ApYsuLlTFHkAAS4FEDCIfQFoK1FrEfh9AtckmcXzbH0CIxLxDGhwgQDUk5k52SiBA4oMPWtJ4IECQ4zhlLqcgQD1DYnCK1SBA6qKLe+YDIUCXArWGQjIhQERi3pGeYCFA8sEHnfqOIUCfITGoVr0hQEyBWrOy6yFA+uCDvg4aIkCnQK3JakgiQFSg1tTGdiJAAQAA4CKlIkA=\"},\"y\":{\"dtype\":\"f8\",\"bdata\":\"hqhlf2u2EkDp7UpGdcoSQEszMA1\\u002f3hJArngV1IjyEkAQvvqakgYTQHMD4GGcGhNA1kjFKKYuE0A4jqrvr0ITQJvTj7a5VhNA\\u002fRh1fcNqE0BgXlpEzX4TQMKjPwvXkhNAJekk0uCmE0CILgqZ6roTQOpz71\\u002f0zhNATbnUJv7iE0Cw\\u002frntB\\u002fcTQBJEn7QRCxRAdYmEexsfFEDXzmlCJTMUQDoUTwkvRxRAnVk00DhbFED\\u002fnhmXQm8UQGLk\\u002fl1MgxRAxCnkJFaXFEAnb8nrX6sUQIq0rrJpvxRA7PmTeXPTFEBPP3lAfecUQLGEXgeH+xRAFMpDzpAPFUB2DymVmiMVQNlUDlykNxVAPJrzIq5LFUCe39jpt18VQAElvrDBcxVAY2qjd8uHFUDGr4g+1ZsVQCn1bQXfrxVAizpTzOjDFUDufziT8tcVQFDFHVr86xVAswoDIQYAFkAWUOjnDxQWQHiVza4ZKBZA29qydSM8FkA9IJg8LVAWQKBlfQM3ZBZAA6tiykB4FkBl8EeRSowWQMg1LVhUoBZAKnsSH160FkCNwPflZ8gWQPAF3axx3BZAUkvCc3vwFkC1kKc6hQQXQBjWjAGPGBdAehtyyJgsF0DdYFePokAXQD+mPFasVBdAoushHbZoF0AEMQfkv3wXQGd27KrJkBdAyrvRcdOkF0AsAbc43bgXQI9GnP\\u002fmzBdA8ouBxvDgF0BU0WaN+vQXQLYWTFQECRhAGVwxGw4dGEB8oRbiFzEYQN7m+6ghRRhAQSzhbytZGECkccY2NW0YQAa3q\\u002f0+gRhAafyQxEiVGEDLQXaLUqkYQC6HW1JcvRhAkMxAGWbRGEDzESbgb+UYQFZXC6d5+RhAuJzwbYMNGUAb4tU0jSEZQH4nu\\u002fuWNRlA4GygwqBJGUBDsoWJql0ZQKb3alC0cRlACD1QF76FGUBrgjXex5kZQM3HGqXRrRlAMA0AbNvBGUCSUuUy5dUZQPWXyvnu6RlAWN2vwPj9GUC6IpWHAhIaQB1oek4MJhpAgK1fFRY6GkDi8kTcH04aQEQ4KqMpYhpAp30PajN2GkA=\"},\"type\":\"scatter\"},{\"hoverinfo\":\"skip\",\"line\":{\"color\":\"blue\",\"dash\":\"dash\"},\"mode\":\"lines\",\"name\":\"Trend Line\",\"visible\":false,\"x\":{\"dtype\":\"f8\",\"bdata\":\"mpmZmZmZuT\\u002fwK2wlKb3YP734OPL1ieU\\u002fgtu7UVe17j8kX59YXPDzP4bQYAgNhvg\\u002f6UEiuL0b\\u002fT+m2fEzt9gAQFeS0ouPIwNACEuz42duBUC5A5Q7QLkHQGu8dJMYBApAHHVV6\\u002fBODEDNLTZDyZkOQD9zi81QchBAl897+byXEUDwK2wlKb0SQEmIXFGV4hNAoeRMfQEIFUD6QD2pbS0WQFKdLdXZUhdAq\\u002fkdAUZ4GEAEVg4tsp0ZQFyy\\u002flgewxpAtQ7vhIroG0AOa9+w9g0dQGbHz9xiMx5AvyPACM9YH0AMQFiaHT8gQDhuULDT0SBAZJxIxolkIUCRykDcP\\u002fchQL34OPL1iSJA6SYxCKwcI0AWVSkeYq8jQEKDITQYQiRAbrEZSs7UJECb3xFghGclQMcNCnY6+iVA8zsCjPCMJkAfavqhph8nQEyY8rdcsidAeMbqzRJFKECk9OLjyNcoQNEi2\\u002fl+ailA\\u002fVDTDzX9KUApf8sl648qQFatwzuhIitAgtu7UVe1K0CuCbRnDUgsQNs3rH3D2ixAB2akk3ltLUAzlJypLwAuQGDClL\\u002flki5AjPCM1ZslL0C4HoXrUbgvQHOmvgCEJTBAib26C99uMECf1LYWOrgwQLXrsiGVATFAywKvLPBKMUDiGas3S5QxQPgwp0Km3TFADkijTQEnMkAkX59YXHAyQDp2m2O3uTJAUI2XbhIDM0BmpJN5bUwzQH27j4TIlTNAk9KLjyPfM0Cp6Yeafig0QL8AhKXZcTRA1ReAsDS7NEDrLny7jwQ1QAJGeMbqTTVAGF100UWXNUAudHDcoOA1QESLbOf7KTZAWqJo8lZzNkBwuWT9sbw2QIbQYAgNBjdAnedcE2hPN0Cz\\u002flgew5g3QMkVVSke4jdA3yxRNHkrOED1Q00\\u002f1HQ4QAtbSUovvjhAInJFVYoHOUA4iUFg5VA5QE6gPWtAmjlAZLc5dpvjOUB6zjWB9iw6QJDlMYxRdjpAp\\u002fwtl6y\\u002fOkC9EyqiBwk7QNMqJq1iUjtA6UEiuL2bO0D\\u002fWB7DGOU7QBVwGs5zLjxAK4cW2c53PEA=\"},\"y\":{\"dtype\":\"f8\",\"bdata\":\"hkJFZB9GGEB8D5dWbzcYQHLc6Ei\\u002fKBhAaKk6Ow8aGEBedowtXwsYQFRD3h+v\\u002fBdAShAwEv\\u002ftF0BA3YEET98XQDaq0\\u002fae0BdALHcl6e7BF0AjRHfbPrMXQBkRyc2OpBdAD94awN6VF0AFq2yyLocXQPt3vqR+eBdA8UQQl85pF0DnEWKJHlsXQN3es3tuTBdA06sFbr49F0DJeFdgDi8XQL9FqVJeIBdAtRL7RK4RF0Cr30w3\\u002fgIXQKGsnilO9BZAl3nwG57lFkCNRkIO7tYWQIMTlAA+yBZAeeDl8o25FkBvrTfl3aoWQGZ6idctnBZAXEfbyX2NFkBSFC28zX4WQEjhfq4dcBZAPq7QoG1hFkA0eyKTvVIWQCpIdIUNRBZAIBXGd101FkAW4hdqrSYWQAyvaVz9FxZAAny7Tk0JFkD4SA1BnfoVQO4VXzPt6xVA5OKwJT3dFUDarwIYjc4VQNB8VArdvxVAxkmm\\u002fCyxFUC8FvjufKIVQLLjSeHMkxVAqLCb0xyFFUCffe3FbHYVQJVKP7i8ZxVAixeRqgxZFUCB5OKcXEoVQHexNI+sOxVAbX6GgfwsFUBjS9hzTB4VQFkYKmacDxVAT+V7WOwAFUBFss1KPPIUQDt\\u002fHz2M4xRAMUxxL9zUFEAnGcMhLMYUQB3mFBR8txRAE7NmBsyoFEAJgLj4G5oUQP9MCutrixRA9Rlc3bt8FEDs5q3PC24UQOGz\\u002f8FbXxRA2IBRtKtQFEDOTaOm+0EUQMQa9ZhLMxRAuudGi5skFECwtJh96xUUQKaB6m87BxRAnE48Yov4E0CSG45U2+kTQIjo30Yr2xNAfrUxOXvME0B0goMry70TQGpP1R0brxNAYBwnEGugE0BW6XgCu5ETQEy2yvQKgxNAQoMc51p0E0A4UG7ZqmUTQC4dwMv6VhNAJOoRvkpIE0Aat2OwmjkTQBCEtaLqKhNABlEHlTocE0D9HVmHig0TQPPqqnna\\u002fhJA6bf8ayrwEkDfhE5eeuESQNVRoFDK0hJAyx7yQhrEEkDB60M1arUSQLe4lSe6phJArYXnGQqYEkA=\"},\"type\":\"scatter\"},{\"hoverinfo\":\"skip\",\"line\":{\"color\":\"blue\",\"dash\":\"dash\"},\"mode\":\"lines\",\"name\":\"Trend Line\",\"visible\":false,\"x\":{\"dtype\":\"f8\",\"bdata\":\"SOF6FK6HP0BoQIIGJAhAQCwQxwJxTEBA8d8L\\u002f72QQEC1r1D7CtVAQHl\\u002flfdXGUFAPk\\u002fa86RdQUACHx\\u002fw8aFBQMbuY+w+5kFAir6o6IsqQkBOju3k2G5CQBNeMuEls0JA1y133XL3QkCb\\u002fbvZvztDQGDNANYMgENAJJ1F0lnEQ0DobIrOpghEQKw8z8rzTERAcAwUx0CRREA13FjDjdVEQPmrnb\\u002faGUVAvXviuydeRUCCSye4dKJFQEYbbLTB5kVACuuwsA4rRkDOuvWsW29GQJKKOqmos0ZAV1p\\u002fpfX3RkAbKsShQjxHQN\\u002f5CJ6PgEdApMlNmtzER0BomZKWKQlIQCxp15J2TUhA8Dgcj8ORSEC0CGGLENZIQHnYpYddGklAPajqg6peSUABeC+A96JJQMZHdHxE50lAihe5eJErSkBO5\\u002f103m9KQBK3QnErtEpA1oaHbXj4SkCbVsxpxTxLQF8mEWYSgUtAI\\u002fZVYl\\u002fFS0DoxZperAlMQKyV31r5TUxAcGUkV0aSTEA0NWlTk9ZMQPgErk\\u002fgGk1AvdTySy1fTUCBpDdIeqNNQEV0fETH501ACkTBQBQsTkDOEwY9YXBOQJLjSjmutE5AVrOPNfv4TkAag9QxSD1PQN9SGS6VgU9AoyJeKuLFT0A0eVGTFwVQQBbhcxE+J1BA+EiWj2RJUEDasLgNi2tQQLwY24uxjVBAnoD9CdivUECA6B+I\\u002ftFQQGJQQgYl9FBARLhkhEsWUUAnIIcCcjhRQAmIqYCYWlFA6+\\u002fL\\u002fr58UUDNV+585Z5RQK+\\u002fEPsLwVFAkiczeTLjUUB0j1X3WAVSQFb3d3V\\u002fJ1JAOF+a86VJUkAax7xxzGtSQPwu3+\\u002fyjVJA3pYBbhmwUkDA\\u002fiPsP9JSQKJmRmpm9FJAhM5o6IwWU0BmNotmszhTQEmereTZWlNAKwbQYgB9U0ANbvLgJp9TQO\\u002fVFF9NwVNA0T033XPjU0C0pVlbmgVUQJYNfNnAJ1RAeHWeV+dJVEBa3cDVDWxUQDxF41M0jlRAHq0F0lqwVEAAFShQgdJUQOJ8Ss6n9FRAxORsTM4WVUA=\"},\"y\":{\"dtype\":\"f8\",\"bdata\":\"CIgieck39D9Gf\\u002fF7Jxb1P4Z2wH6F9PU\\u002fym2PgePS9j8KZV6EQbH3P0pcLYefj\\u002fg\\u002fjFP8if1t+T\\u002fMSsuMW0z6PwxCmo+5Kvs\\u002fTDlpkhcJ\\u002fD+MMDiVdef8P84nB5jTxf0\\u002fDh\\u002fWmjGk\\u002fj9OFqWdj4L\\u002fP8gGOtB2MABAaIKh0aWfAEAI\\u002fgjT1A4BQKh5cNQDfgFASPXX1TLtAUDqcD\\u002fXYVwCQIrsptiQywJAKmgO2r86A0DK43Xb7qkDQGpf3dwdGQRACttE3kyIBECqVqzfe\\u002fcEQErSE+GqZgVA7E174tnVBUCMyeLjCEUGQCxFSuU3tAZAzsCx5mYjB0BsPBnolZIHQAy4gOnEAQhArDPo6vNwCEBMr0\\u002fsIuAIQO4qt+1RTwlAjqYe74C+CUAuIobwry0KQNCd7fHenApAcBlV8w0MC0AQlbz0PHsLQLAQJPZr6gtAToyL95pZDEDwB\\u002fP4ycgMQJCDWvr4Nw1AMP\\u002fB+yenDUDSein9VhYOQHL2kP6FhQ5AEnL4\\u002f7T0DkCy7V8B5GMPQFJpxwIT0w9AeXIXAiEhEEBJMMuCuFgQQBnufgNQkBBA6qsyhOfHEEC6aeYEf\\u002f8QQIonmoUWNxFAWuVNBq5uEUAqowGHRaYRQPtgtQfd3RFAyh5piHQVEkCb3BwJDE0SQGua0ImjhBJAO1iECju8EkALFjiL0vMSQNvT6wtqKxNAq5GfjAFjE0B7T1MNmZoTQEsNB44w0hNAG8u6DsgJFEDsiG6PX0EUQLxGIhD3eBRAjATWkI6wFEBcwokRJugUQCyAPZK9HxVA\\u002fj3xElVXFUDO+6ST7I4VQJ65WBSExhVAbXcMlRv+FUA9NcAVszUWQA3zc5ZKbRZA3bAnF+KkFkCtbtuXedwWQH0sjxgRFBdATepCmahLF0AdqPYZQIMXQO9lqprXuhdAvyNeG2\\u002fyF0CO4RGcBioYQF+fxRyeYRhAL115nTWZGED\\u002fGi0ezdAYQM\\u002fY4J5kCBlAn5aUH\\u002fw\\u002fGUBvVEigk3cZQD8S\\u002fCArrxlAD9CvocLmGUDfjWMiWh4aQK9LF6PxVRpAfwnLI4mNGkA=\"},\"type\":\"scatter\"}],                        {\"autosize\":false,\"height\":600,\"hoverlabel\":{\"font\":{\"size\":12}},\"legend\":{\"borderwidth\":0,\"font\":{\"size\":12},\"x\":0.01,\"y\":0.99},\"margin\":{\"b\":80,\"l\":80,\"r\":80,\"t\":80},\"showlegend\":true,\"sliders\":[{\"active\":0,\"currentvalue\":{\"prefix\":\"Metric: \"},\"len\":0.9,\"pad\":{\"t\":50},\"steps\":[{\"args\":[{\"visible\":[true,false,false,true,false,false]},{\"title\":\"Happiness vs Education Expenditure\",\"xaxis\":{\"title\":\"Education Expenditure (% of GDP)\",\"range\":[0.358478993177414,9.32253170013428],\"fixedrange\":true},\"yaxis\":{\"title\":\"Happiness\",\"range\":[2.853,7.769],\"fixedrange\":true}}],\"label\":\"Education Expenditure\",\"method\":\"update\"},{\"args\":[{\"visible\":[false,true,false,false,true,false]},{\"title\":\"Happiness vs Unemployment Rate\",\"xaxis\":{\"title\":\"Unemployment Rate (%)\",\"range\":[0.1,28.468],\"fixedrange\":true},\"yaxis\":{\"title\":\"Happiness\",\"range\":[2.853,7.769],\"fixedrange\":true}}],\"label\":\"Unemployment Rate\",\"method\":\"update\"},{\"args\":[{\"visible\":[false,false,true,false,false,true]},{\"title\":\"Happiness vs Life Expectancy\",\"xaxis\":{\"title\":\"Life Expectancy (years)\",\"range\":[31.53,84.3563414634146],\"fixedrange\":true},\"yaxis\":{\"title\":\"Happiness\",\"range\":[2.853,7.769],\"fixedrange\":true}}],\"label\":\"Life Expectancy\",\"method\":\"update\"}],\"x\":0.1,\"xanchor\":\"left\"}],\"template\":{\"data\":{\"barpolar\":[{\"marker\":{\"line\":{\"color\":\"#E5ECF6\",\"width\":0.5},\"pattern\":{\"fillmode\":\"overlay\",\"size\":10,\"solidity\":0.2}},\"type\":\"barpolar\"}],\"bar\":[{\"error_x\":{\"color\":\"#2a3f5f\"},\"error_y\":{\"color\":\"#2a3f5f\"},\"marker\":{\"line\":{\"color\":\"#E5ECF6\",\"width\":0.5},\"pattern\":{\"fillmode\":\"overlay\",\"size\":10,\"solidity\":0.2}},\"type\":\"bar\"}],\"carpet\":[{\"aaxis\":{\"endlinecolor\":\"#2a3f5f\",\"gridcolor\":\"white\",\"linecolor\":\"white\",\"minorgridcolor\":\"white\",\"startlinecolor\":\"#2a3f5f\"},\"baxis\":{\"endlinecolor\":\"#2a3f5f\",\"gridcolor\":\"white\",\"linecolor\":\"white\",\"minorgridcolor\":\"white\",\"startlinecolor\":\"#2a3f5f\"},\"type\":\"carpet\"}],\"choropleth\":[{\"colorbar\":{\"outlinewidth\":0,\"ticks\":\"\"},\"type\":\"choropleth\"}],\"contourcarpet\":[{\"colorbar\":{\"outlinewidth\":0,\"ticks\":\"\"},\"type\":\"contourcarpet\"}],\"contour\":[{\"colorbar\":{\"outlinewidth\":0,\"ticks\":\"\"},\"colorscale\":[[0.0,\"#0d0887\"],[0.1111111111111111,\"#46039f\"],[0.2222222222222222,\"#7201a8\"],[0.3333333333333333,\"#9c179e\"],[0.4444444444444444,\"#bd3786\"],[0.5555555555555556,\"#d8576b\"],[0.6666666666666666,\"#ed7953\"],[0.7777777777777778,\"#fb9f3a\"],[0.8888888888888888,\"#fdca26\"],[1.0,\"#f0f921\"]],\"type\":\"contour\"}],\"heatmap\":[{\"colorbar\":{\"outlinewidth\":0,\"ticks\":\"\"},\"colorscale\":[[0.0,\"#0d0887\"],[0.1111111111111111,\"#46039f\"],[0.2222222222222222,\"#7201a8\"],[0.3333333333333333,\"#9c179e\"],[0.4444444444444444,\"#bd3786\"],[0.5555555555555556,\"#d8576b\"],[0.6666666666666666,\"#ed7953\"],[0.7777777777777778,\"#fb9f3a\"],[0.8888888888888888,\"#fdca26\"],[1.0,\"#f0f921\"]],\"type\":\"heatmap\"}],\"histogram2dcontour\":[{\"colorbar\":{\"outlinewidth\":0,\"ticks\":\"\"},\"colorscale\":[[0.0,\"#0d0887\"],[0.1111111111111111,\"#46039f\"],[0.2222222222222222,\"#7201a8\"],[0.3333333333333333,\"#9c179e\"],[0.4444444444444444,\"#bd3786\"],[0.5555555555555556,\"#d8576b\"],[0.6666666666666666,\"#ed7953\"],[0.7777777777777778,\"#fb9f3a\"],[0.8888888888888888,\"#fdca26\"],[1.0,\"#f0f921\"]],\"type\":\"histogram2dcontour\"}],\"histogram2d\":[{\"colorbar\":{\"outlinewidth\":0,\"ticks\":\"\"},\"colorscale\":[[0.0,\"#0d0887\"],[0.1111111111111111,\"#46039f\"],[0.2222222222222222,\"#7201a8\"],[0.3333333333333333,\"#9c179e\"],[0.4444444444444444,\"#bd3786\"],[0.5555555555555556,\"#d8576b\"],[0.6666666666666666,\"#ed7953\"],[0.7777777777777778,\"#fb9f3a\"],[0.8888888888888888,\"#fdca26\"],[1.0,\"#f0f921\"]],\"type\":\"histogram2d\"}],\"histogram\":[{\"marker\":{\"pattern\":{\"fillmode\":\"overlay\",\"size\":10,\"solidity\":0.2}},\"type\":\"histogram\"}],\"mesh3d\":[{\"colorbar\":{\"outlinewidth\":0,\"ticks\":\"\"},\"type\":\"mesh3d\"}],\"parcoords\":[{\"line\":{\"colorbar\":{\"outlinewidth\":0,\"ticks\":\"\"}},\"type\":\"parcoords\"}],\"pie\":[{\"automargin\":true,\"type\":\"pie\"}],\"scatter3d\":[{\"line\":{\"colorbar\":{\"outlinewidth\":0,\"ticks\":\"\"}},\"marker\":{\"colorbar\":{\"outlinewidth\":0,\"ticks\":\"\"}},\"type\":\"scatter3d\"}],\"scattercarpet\":[{\"marker\":{\"colorbar\":{\"outlinewidth\":0,\"ticks\":\"\"}},\"type\":\"scattercarpet\"}],\"scattergeo\":[{\"marker\":{\"colorbar\":{\"outlinewidth\":0,\"ticks\":\"\"}},\"type\":\"scattergeo\"}],\"scattergl\":[{\"marker\":{\"colorbar\":{\"outlinewidth\":0,\"ticks\":\"\"}},\"type\":\"scattergl\"}],\"scattermapbox\":[{\"marker\":{\"colorbar\":{\"outlinewidth\":0,\"ticks\":\"\"}},\"type\":\"scattermapbox\"}],\"scattermap\":[{\"marker\":{\"colorbar\":{\"outlinewidth\":0,\"ticks\":\"\"}},\"type\":\"scattermap\"}],\"scatterpolargl\":[{\"marker\":{\"colorbar\":{\"outlinewidth\":0,\"ticks\":\"\"}},\"type\":\"scatterpolargl\"}],\"scatterpolar\":[{\"marker\":{\"colorbar\":{\"outlinewidth\":0,\"ticks\":\"\"}},\"type\":\"scatterpolar\"}],\"scatter\":[{\"fillpattern\":{\"fillmode\":\"overlay\",\"size\":10,\"solidity\":0.2},\"type\":\"scatter\"}],\"scatterternary\":[{\"marker\":{\"colorbar\":{\"outlinewidth\":0,\"ticks\":\"\"}},\"type\":\"scatterternary\"}],\"surface\":[{\"colorbar\":{\"outlinewidth\":0,\"ticks\":\"\"},\"colorscale\":[[0.0,\"#0d0887\"],[0.1111111111111111,\"#46039f\"],[0.2222222222222222,\"#7201a8\"],[0.3333333333333333,\"#9c179e\"],[0.4444444444444444,\"#bd3786\"],[0.5555555555555556,\"#d8576b\"],[0.6666666666666666,\"#ed7953\"],[0.7777777777777778,\"#fb9f3a\"],[0.8888888888888888,\"#fdca26\"],[1.0,\"#f0f921\"]],\"type\":\"surface\"}],\"table\":[{\"cells\":{\"fill\":{\"color\":\"#EBF0F8\"},\"line\":{\"color\":\"white\"}},\"header\":{\"fill\":{\"color\":\"#C8D4E3\"},\"line\":{\"color\":\"white\"}},\"type\":\"table\"}]},\"layout\":{\"annotationdefaults\":{\"arrowcolor\":\"#2a3f5f\",\"arrowhead\":0,\"arrowwidth\":1},\"autotypenumbers\":\"strict\",\"coloraxis\":{\"colorbar\":{\"outlinewidth\":0,\"ticks\":\"\"}},\"colorscale\":{\"diverging\":[[0,\"#8e0152\"],[0.1,\"#c51b7d\"],[0.2,\"#de77ae\"],[0.3,\"#f1b6da\"],[0.4,\"#fde0ef\"],[0.5,\"#f7f7f7\"],[0.6,\"#e6f5d0\"],[0.7,\"#b8e186\"],[0.8,\"#7fbc41\"],[0.9,\"#4d9221\"],[1,\"#276419\"]],\"sequential\":[[0.0,\"#0d0887\"],[0.1111111111111111,\"#46039f\"],[0.2222222222222222,\"#7201a8\"],[0.3333333333333333,\"#9c179e\"],[0.4444444444444444,\"#bd3786\"],[0.5555555555555556,\"#d8576b\"],[0.6666666666666666,\"#ed7953\"],[0.7777777777777778,\"#fb9f3a\"],[0.8888888888888888,\"#fdca26\"],[1.0,\"#f0f921\"]],\"sequentialminus\":[[0.0,\"#0d0887\"],[0.1111111111111111,\"#46039f\"],[0.2222222222222222,\"#7201a8\"],[0.3333333333333333,\"#9c179e\"],[0.4444444444444444,\"#bd3786\"],[0.5555555555555556,\"#d8576b\"],[0.6666666666666666,\"#ed7953\"],[0.7777777777777778,\"#fb9f3a\"],[0.8888888888888888,\"#fdca26\"],[1.0,\"#f0f921\"]]},\"colorway\":[\"#636efa\",\"#EF553B\",\"#00cc96\",\"#ab63fa\",\"#FFA15A\",\"#19d3f3\",\"#FF6692\",\"#B6E880\",\"#FF97FF\",\"#FECB52\"],\"font\":{\"color\":\"#2a3f5f\"},\"geo\":{\"bgcolor\":\"white\",\"lakecolor\":\"white\",\"landcolor\":\"#E5ECF6\",\"showlakes\":true,\"showland\":true,\"subunitcolor\":\"white\"},\"hoverlabel\":{\"align\":\"left\"},\"hovermode\":\"closest\",\"mapbox\":{\"style\":\"light\"},\"paper_bgcolor\":\"white\",\"plot_bgcolor\":\"#E5ECF6\",\"polar\":{\"angularaxis\":{\"gridcolor\":\"white\",\"linecolor\":\"white\",\"ticks\":\"\"},\"bgcolor\":\"#E5ECF6\",\"radialaxis\":{\"gridcolor\":\"white\",\"linecolor\":\"white\",\"ticks\":\"\"}},\"scene\":{\"xaxis\":{\"backgroundcolor\":\"#E5ECF6\",\"gridcolor\":\"white\",\"gridwidth\":2,\"linecolor\":\"white\",\"showbackground\":true,\"ticks\":\"\",\"zerolinecolor\":\"white\"},\"yaxis\":{\"backgroundcolor\":\"#E5ECF6\",\"gridcolor\":\"white\",\"gridwidth\":2,\"linecolor\":\"white\",\"showbackground\":true,\"ticks\":\"\",\"zerolinecolor\":\"white\"},\"zaxis\":{\"backgroundcolor\":\"#E5ECF6\",\"gridcolor\":\"white\",\"gridwidth\":2,\"linecolor\":\"white\",\"showbackground\":true,\"ticks\":\"\",\"zerolinecolor\":\"white\"}},\"shapedefaults\":{\"line\":{\"color\":\"#2a3f5f\"}},\"ternary\":{\"aaxis\":{\"gridcolor\":\"white\",\"linecolor\":\"white\",\"ticks\":\"\"},\"baxis\":{\"gridcolor\":\"white\",\"linecolor\":\"white\",\"ticks\":\"\"},\"bgcolor\":\"#E5ECF6\",\"caxis\":{\"gridcolor\":\"white\",\"linecolor\":\"white\",\"ticks\":\"\"}},\"title\":{\"x\":0.05},\"xaxis\":{\"automargin\":true,\"gridcolor\":\"white\",\"linecolor\":\"white\",\"ticks\":\"\",\"title\":{\"standoff\":15},\"zerolinecolor\":\"white\",\"zerolinewidth\":2},\"yaxis\":{\"automargin\":true,\"gridcolor\":\"white\",\"linecolor\":\"white\",\"ticks\":\"\",\"title\":{\"standoff\":15},\"zerolinecolor\":\"white\",\"zerolinewidth\":2}}},\"title\":{\"text\":\"Happiness vs Education Expenditure\"},\"width\":900,\"xaxis\":{\"automargin\":false,\"dtick\":1,\"fixedrange\":true,\"range\":[0.358478993177414,9.32253170013428],\"tickfont\":{\"size\":12},\"tickmode\":\"linear\",\"title\":{\"font\":{\"size\":14},\"text\":\"Education Expenditure (% of GDP)\"}},\"yaxis\":{\"automargin\":false,\"autorange\":\"reversed\",\"dtick\":1,\"fixedrange\":true,\"range\":[2.853,7.769],\"tickfont\":{\"size\":12},\"tickmode\":\"linear\",\"title\":{\"font\":{\"size\":14},\"text\":\"Happiness\"}}},                        {\"responsive\": true}                    ).then(function(){\n",
       "                            \n",
       "var gd = document.getElementById('3a919d70-a967-43b9-8021-66d30c92052b');\n",
       "var x = new MutationObserver(function (mutations, observer) {{\n",
       "        var display = window.getComputedStyle(gd).display;\n",
       "        if (!display || display === 'none') {{\n",
       "            console.log([gd, 'removed!']);\n",
       "            Plotly.purge(gd);\n",
       "            observer.disconnect();\n",
       "        }}\n",
       "}});\n",
       "\n",
       "// Listen for the removal of the full notebook cells\n",
       "var notebookContainer = gd.closest('#notebook-container');\n",
       "if (notebookContainer) {{\n",
       "    x.observe(notebookContainer, {childList: true});\n",
       "}}\n",
       "\n",
       "// Listen for the clearing of the current output cell\n",
       "var outputEl = gd.closest('.output');\n",
       "if (outputEl) {{\n",
       "    x.observe(outputEl, {childList: true});\n",
       "}}\n",
       "\n",
       "                        })                };            </script>        </div>"
      ]
     },
     "metadata": {},
     "output_type": "display_data"
    }
   ],
   "source": [
    "import pandas as pd\n",
    "import plotly.graph_objects as go\n",
    "from plotly.offline import init_notebook_mode, iplot\n",
    "\n",
    "init_notebook_mode(connected=True)\n",
    "\n",
    "df = pd.read_csv('final.csv')\n",
    "\n",
    "df['Happiness_rank'] = df['Happiness'].rank(method='min', ascending=False).astype(int)\n",
    "total_countries = df['Country'].nunique()\n",
    "\n",
    "df_edu   = df.dropna(subset=['Edu_expenditure_pct', 'Happiness', 'Country', 'Happiness_rank'])\n",
    "df_unemp = df.dropna(subset=['Unemployment_rate',    'Happiness', 'Country', 'Happiness_rank'])\n",
    "df_le    = df.dropna(subset=['Life_expectancy',      'Happiness', 'Country', 'Happiness_rank'])\n",
    "\n",
    "x_range_edu   = [df_edu['Edu_expenditure_pct'].min(), df_edu['Edu_expenditure_pct'].max()]\n",
    "x_range_unemp = [df_unemp['Unemployment_rate'].min(), df_unemp['Unemployment_rate'].max()]\n",
    "x_range_le    = [df_le['Life_expectancy'].min(), df_le['Life_expectancy'].max()]\n",
    "y_range       = [df['Happiness'].min(), df['Happiness'].max()]\n",
    "\n",
    "def add_trend_trace(x, y, color, visible=True):\n",
    "\n",
    "    x_vals = x.values.reshape(-1, 1)\n",
    "    y_vals = y.values.reshape(-1, 1)\n",
    "    \n",
    "    model = LinearRegression()\n",
    "    model.fit(x_vals, y_vals)\n",
    "\n",
    "    x_trend = np.linspace(min(x), max(x), 100)\n",
    "    y_trend = model.predict(x_trend.reshape(-1, 1)).flatten()\n",
    "    \n",
    "    return go.Scatter(\n",
    "        x=x_trend,\n",
    "        y=y_trend,\n",
    "        mode='lines',\n",
    "        line=dict(color=color, dash='dash'),\n",
    "        name='Trend Line',\n",
    "        visible=visible,\n",
    "        hoverinfo='skip'\n",
    "    )\n",
    "\n",
    "trace_edu = go.Scatter(\n",
    "    x=df_edu['Edu_expenditure_pct'],\n",
    "    y=df_edu['Happiness'],\n",
    "    mode='markers',\n",
    "    name='Education Expenditure',\n",
    "    visible=True,\n",
    "    text=df_edu['Country'],\n",
    "    customdata=df_edu['Happiness_rank'],\n",
    "    hovertemplate=(\n",
    "        \"Country: %{text}<br>\"\n",
    "        f\"Rank: %{{customdata}} out of {total_countries}<br>\"\n",
    "        \"Education Expenditure: %{x:.1f}% of GDP<br>\"\n",
    "        \"Happiness: %{y:.2f}<extra></extra>\"\n",
    "    )\n",
    ")\n",
    "\n",
    "trace_unemp = go.Scatter(\n",
    "    x=df_unemp['Unemployment_rate'],\n",
    "    y=df_unemp['Happiness'],\n",
    "    mode='markers',\n",
    "    name='Unemployment Rate',\n",
    "    visible=False,\n",
    "    text=df_unemp['Country'],\n",
    "    customdata=df_unemp['Happiness_rank'],\n",
    "    hovertemplate=(\n",
    "        \"Country: %{text}<br>\"\n",
    "        f\"Rank: %{{customdata}} out of {total_countries}<br>\"\n",
    "        \"Unemployment Rate: %{x:.1f}%<br>\"\n",
    "        \"Happiness: %{y:.2f}<extra></extra>\"\n",
    "    )\n",
    ")\n",
    "\n",
    "trace_le = go.Scatter(\n",
    "    x=df_le['Life_expectancy'],\n",
    "    y=df_le['Happiness'],\n",
    "    mode='markers',\n",
    "    name='Life Expectancy',\n",
    "    visible=False,\n",
    "    text=df_le['Country'],\n",
    "    customdata=df_le['Happiness_rank'],\n",
    "    hovertemplate=(\n",
    "        \"Country: %{text}<br>\"\n",
    "        f\"Rank: %{{customdata}} out of {total_countries}<br>\"\n",
    "        \"Life Expectancy: %{x:.1f} years<br>\"\n",
    "        \"Happiness: %{y:.2f}<extra></extra>\"\n",
    "    )\n",
    ")\n",
    "\n",
    "trend_edu = add_trend_trace(df_edu['Edu_expenditure_pct'], df_edu['Happiness'], 'blue', True)\n",
    "trend_unemp = add_trend_trace(df_unemp['Unemployment_rate'], df_unemp['Happiness'], 'blue', False)\n",
    "trend_le = add_trend_trace(df_le['Life_expectancy'], df_le['Happiness'], 'blue', False)\n",
    "\n",
    "fig = go.Figure(data=[trace_edu, trace_unemp, trace_le, trend_edu, trend_unemp, trend_le])\n",
    "\n",
    "steps = [\n",
    "    dict(method='update', label='Education Expenditure',\n",
    "         args=[{'visible': [True, False, False, True, False, False]},\n",
    "               {'title': 'Happiness vs Education Expenditure',\n",
    "                'xaxis': {'title': 'Education Expenditure (% of GDP)', 'range': x_range_edu, 'fixedrange': True},\n",
    "                'yaxis': {'title': 'Happiness', 'range': y_range, 'fixedrange': True}}]),\n",
    "    dict(method='update', label='Unemployment Rate',\n",
    "         args=[{'visible': [False, True, False, False, True, False]},\n",
    "               {'title': 'Happiness vs Unemployment Rate',\n",
    "                'xaxis': {'title': 'Unemployment Rate (%)', 'range': x_range_unemp, 'fixedrange': True},\n",
    "                'yaxis': {'title': 'Happiness', 'range': y_range, 'fixedrange': True}}]),\n",
    "    dict(method='update', label='Life Expectancy',\n",
    "         args=[{'visible': [False, False, True, False, False, True]},\n",
    "               {'title': 'Happiness vs Life Expectancy',\n",
    "                'xaxis': {'title': 'Life Expectancy (years)', 'range': x_range_le, 'fixedrange': True},\n",
    "                'yaxis': {'title': 'Happiness', 'range': y_range, 'fixedrange': True}}])\n",
    "]\n",
    "\n",
    "fig.update_layout(\n",
    "    sliders=[dict(\n",
    "        active=0,\n",
    "        currentvalue={'prefix': 'Metric: '},\n",
    "        pad={'t': 50},\n",
    "        steps=steps,\n",
    "        len=0.9,\n",
    "        x=0.1,\n",
    "        xanchor='left'\n",
    "    )],\n",
    "    title=\"Happiness vs Education Expenditure\",\n",
    "    width=900,\n",
    "    height=600,\n",
    "    autosize=False,\n",
    "    margin=dict(t=80, b=80, l=80, r=80),\n",
    "    xaxis=dict(\n",
    "        title=dict(text='Education Expenditure (% of GDP)', font=dict(size=14)),\n",
    "        range=x_range_edu,\n",
    "        fixedrange=True,\n",
    "        tickmode='linear',\n",
    "        dtick=1,\n",
    "        tickfont=dict(size=12),\n",
    "        automargin=False\n",
    "    ),\n",
    "    yaxis=dict(\n",
    "        title=dict(text='Happiness', font=dict(size=14)),\n",
    "        range=y_range,\n",
    "        fixedrange=True,\n",
    "        tickmode='linear',\n",
    "        dtick=1,\n",
    "        tickfont=dict(size=12),\n",
    "        automargin=False,\n",
    "        autorange='reversed'\n",
    "    ),\n",
    "    hoverlabel=dict(font=dict(size=12)),\n",
    "    showlegend=True,\n",
    "    legend=dict(\n",
    "        font=dict(size=12),\n",
    "        x=0.01, y=0.99,\n",
    "        borderwidth=0\n",
    "    )\n",
    ")\n",
    "\n",
    "\n",
    "iplot(fig)\n"
   ]
  },
  {
   "cell_type": "markdown",
   "id": "353272be",
   "metadata": {},
   "source": []
  },
  {
   "cell_type": "code",
   "execution_count": 5,
   "id": "22749a1f",
   "metadata": {},
   "outputs": [
    {
     "data": {
      "application/vnd.plotly.v1+json": {
       "config": {
        "plotlyServerURL": "https://plot.ly"
       },
       "data": [
        {
         "coloraxis": "coloraxis",
         "geo": "geo",
         "hovertemplate": "<b>%{hovertext}</b><br><br>Country=%{location}<br>Happiness=%{z}<extra></extra>",
         "hovertext": [
          "Finland",
          "Denmark",
          "Norway",
          "Iceland",
          "Netherlands",
          "Switzerland",
          "Sweden",
          "New Zealand",
          "Canada",
          "Austria",
          "Australia",
          "Costa Rica",
          "Israel",
          "Luxembourg",
          "United Kingdom",
          "Ireland",
          "Germany",
          "Belgium",
          "United States",
          "United Arab Emirates",
          "Malta",
          "Mexico",
          "France",
          "Chile",
          "Guatemala",
          "Saudi Arabia",
          "Qatar",
          "Spain",
          "Panama",
          "Brazil",
          "Uruguay",
          "Singapore",
          "El Salvador",
          "Italy",
          "Bahrain",
          "Poland",
          "Uzbekistan",
          "Lithuania",
          "Colombia",
          "Slovenia",
          "Nicaragua",
          "Kosovo",
          "Argentina",
          "Romania",
          "Cyprus",
          "Ecuador",
          "Kuwait",
          "Thailand",
          "Latvia",
          "Estonia",
          "Jamaica",
          "Mauritius",
          "Japan",
          "Honduras",
          "Kazakhstan",
          "Bolivia",
          "Hungary",
          "Paraguay",
          "Peru",
          "Portugal",
          "Pakistan",
          "Philippines",
          "Serbia",
          "Moldova",
          "Libya",
          "Montenegro",
          "Tajikistan",
          "Croatia",
          "Dominican Republic",
          "Bosnia and Herzegovina",
          "Malaysia",
          "Belarus",
          "Greece",
          "Mongolia",
          "North Macedonia",
          "Nigeria",
          "Turkmenistan",
          "Algeria",
          "Morocco",
          "Azerbaijan",
          "Lebanon",
          "Indonesia",
          "China",
          "Bhutan",
          "Cameroon",
          "Bulgaria",
          "Ghana",
          "Nepal",
          "Jordan",
          "Benin",
          "Gabon",
          "South Africa",
          "Albania",
          "Cambodia",
          "Senegal",
          "Somalia",
          "Namibia",
          "Niger",
          "Burkina Faso",
          "Armenia",
          "Guinea",
          "Georgia",
          "Kenya",
          "Mauritania",
          "Mozambique",
          "Tunisia",
          "Bangladesh",
          "Iraq",
          "Mali",
          "Sierra Leone",
          "Sri Lanka",
          "Myanmar",
          "Chad",
          "Ukraine",
          "Ethiopia",
          "Uganda",
          "Zambia",
          "Togo",
          "India",
          "Liberia",
          "Comoros",
          "Madagascar",
          "Lesotho",
          "Burundi",
          "Zimbabwe",
          "Haiti",
          "Botswana",
          "Malawi",
          "Rwanda",
          "Tanzania",
          "Afghanistan",
          "Central African Republic",
          "South Sudan"
         ],
         "locationmode": "country names",
         "locations": [
          "Finland",
          "Denmark",
          "Norway",
          "Iceland",
          "Netherlands",
          "Switzerland",
          "Sweden",
          "New Zealand",
          "Canada",
          "Austria",
          "Australia",
          "Costa Rica",
          "Israel",
          "Luxembourg",
          "United Kingdom",
          "Ireland",
          "Germany",
          "Belgium",
          "United States",
          "United Arab Emirates",
          "Malta",
          "Mexico",
          "France",
          "Chile",
          "Guatemala",
          "Saudi Arabia",
          "Qatar",
          "Spain",
          "Panama",
          "Brazil",
          "Uruguay",
          "Singapore",
          "El Salvador",
          "Italy",
          "Bahrain",
          "Poland",
          "Uzbekistan",
          "Lithuania",
          "Colombia",
          "Slovenia",
          "Nicaragua",
          "Kosovo",
          "Argentina",
          "Romania",
          "Cyprus",
          "Ecuador",
          "Kuwait",
          "Thailand",
          "Latvia",
          "Estonia",
          "Jamaica",
          "Mauritius",
          "Japan",
          "Honduras",
          "Kazakhstan",
          "Bolivia",
          "Hungary",
          "Paraguay",
          "Peru",
          "Portugal",
          "Pakistan",
          "Philippines",
          "Serbia",
          "Moldova",
          "Libya",
          "Montenegro",
          "Tajikistan",
          "Croatia",
          "Dominican Republic",
          "Bosnia and Herzegovina",
          "Malaysia",
          "Belarus",
          "Greece",
          "Mongolia",
          "North Macedonia",
          "Nigeria",
          "Turkmenistan",
          "Algeria",
          "Morocco",
          "Azerbaijan",
          "Lebanon",
          "Indonesia",
          "China",
          "Bhutan",
          "Cameroon",
          "Bulgaria",
          "Ghana",
          "Nepal",
          "Jordan",
          "Benin",
          "Gabon",
          "South Africa",
          "Albania",
          "Cambodia",
          "Senegal",
          "Somalia",
          "Namibia",
          "Niger",
          "Burkina Faso",
          "Armenia",
          "Guinea",
          "Georgia",
          "Kenya",
          "Mauritania",
          "Mozambique",
          "Tunisia",
          "Bangladesh",
          "Iraq",
          "Mali",
          "Sierra Leone",
          "Sri Lanka",
          "Myanmar",
          "Chad",
          "Ukraine",
          "Ethiopia",
          "Uganda",
          "Zambia",
          "Togo",
          "India",
          "Liberia",
          "Comoros",
          "Madagascar",
          "Lesotho",
          "Burundi",
          "Zimbabwe",
          "Haiti",
          "Botswana",
          "Malawi",
          "Rwanda",
          "Tanzania",
          "Afghanistan",
          "Central African Republic",
          "South Sudan"
         ],
         "name": "",
         "type": "choropleth",
         "z": {
          "bdata": "+n5qvHQTH0BmZmZmZmYeQJ7vp8ZLNx5AYOXQItv5HUDByqFFtvMdQOxRuB6F6x1ArBxaZDtfHUDufD81XjodQOkmMQisHB1AlkOLbOf7HEC28/3UeOkcQF66SQwCqxxAdZMYBFaOHEBcj8L1KFwcQJ7vp8ZLNxxAL90kBoEVHEBxPQrXo/AbQP7UeOkmsRtAxSCwcmiRG0DNzMzMzEwbQIGVQ4ts5xpA4XoUrkdhGkCR7Xw/NV4aQC2yne+nxhlAWDm0yHa+GUAAAAAAAIAZQOXQItv5fhlA0SLb+X5qGUBiEFg5tEgZQDMzMzMzMxlAeekmMQgsGUA/NV66SQwZQFCNl24SAxlAMQisHFrkGECyne+nxssYQO58PzVeuhhAGQRWDi2yGEB/arx0k5gYQAAAAAAAgBhARrbz/dR4GEDsUbgehWsYQGZmZmZmZhhA8tJNYhBYGEBI4XoUrkcYQMl2vp8aLxhA6SYxCKwcGEAv3SQGgRUYQNV46SYxCBhAw/UoXI/CF0DfT42XbpIXQI/C9ShcjxdAWmQ730+NF0AlBoGVQ4sXQHE9CtejcBdAI9v5fmo8F0AEVg4tsh0XQNV46SYxCBdARrbz/dT4FkB9PzVeuskWQBKDwMqhxRZA6SYxCKycFkCgGi/dJIYWQLbz/dR4aRZABFYOLbIdFkCamZmZmRkWQGQ730+NFxZAke18PzXeFUDufD81XroVQDMzMzMzsxVAJQaBlUOLFUBCYOXQIlsVQJhuEoPAShVA2c73U+MlFUCkcD0K1yMVQH9qvHSTGBVAj8L1KFwPFUCwcmiR7fwUQPLSTWIQ2BRAokW28/3UFECiRbbz/dQUQH0/NV66yRRA+FPjpZvEFEDdJAaBlcMUQIcW2c73UxRAkxgEVg4tFEAlBoGVQwsUQJZDi2zn+xNA9P3UeOmmE0A5tMh2vp8TQNV46SYxiBNAGQRWDi0yE0AX2c73U+MSQMdLN4lB4BJAzczMzMzMEkDTTWIQWLkSQHnpJjEIrBJAdZMYBFaOEkBQjZduEoMSQAwCK4cWWRJAI9v5fmo8EkCJQWDl0CISQPp+arx0ExJA8KfGSzcJEkD2KFyPwvURQHe+nxov3RFA8tJNYhDYEUBt5/up8dIRQHNoke18vxFAj8L1KFyPEUDl0CLb+X4RQBBYObTIdhFAcT0K16NwEUBmZmZmZmYRQIcW2c73UxFAvp8aL90kEUCoxks3icEQQCGwcmiRbRBA16NwPQpXEECPwvUoXA8QQM3MzMzMzA9AYhBYObTID0AQWDm0yHYPQNEi2/l+ag5AMzMzMzMzDkDn+6nx0k0NQC2yne+nxgxAgZVDi2znC0BI4XoUrkcLQHnpJjEIrApADAIrhxbZCUA5tMh2vp8JQESLbOf7qQhAbef7qfHSBkA=",
          "dtype": "f8"
         }
        }
       ],
       "layout": {
        "coloraxis": {
         "colorbar": {
          "title": {
           "text": "Happiness"
          }
         },
         "colorscale": [
          [
           0,
           "#0d0887"
          ],
          [
           0.1111111111111111,
           "#46039f"
          ],
          [
           0.2222222222222222,
           "#7201a8"
          ],
          [
           0.3333333333333333,
           "#9c179e"
          ],
          [
           0.4444444444444444,
           "#bd3786"
          ],
          [
           0.5555555555555556,
           "#d8576b"
          ],
          [
           0.6666666666666666,
           "#ed7953"
          ],
          [
           0.7777777777777778,
           "#fb9f3a"
          ],
          [
           0.8888888888888888,
           "#fdca26"
          ],
          [
           1,
           "#f0f921"
          ]
         ]
        },
        "geo": {
         "center": {},
         "domain": {
          "x": [
           0,
           1
          ],
          "y": [
           0,
           1
          ]
         },
         "projection": {
          "type": "natural earth"
         },
         "showcoastlines": true,
         "showframe": false
        },
        "height": 600,
        "legend": {
         "tracegroupgap": 0
        },
        "margin": {
         "b": 0,
         "l": 0,
         "r": 0,
         "t": 60
        },
        "template": {
         "data": {
          "bar": [
           {
            "error_x": {
             "color": "#2a3f5f"
            },
            "error_y": {
             "color": "#2a3f5f"
            },
            "marker": {
             "line": {
              "color": "#E5ECF6",
              "width": 0.5
             },
             "pattern": {
              "fillmode": "overlay",
              "size": 10,
              "solidity": 0.2
             }
            },
            "type": "bar"
           }
          ],
          "barpolar": [
           {
            "marker": {
             "line": {
              "color": "#E5ECF6",
              "width": 0.5
             },
             "pattern": {
              "fillmode": "overlay",
              "size": 10,
              "solidity": 0.2
             }
            },
            "type": "barpolar"
           }
          ],
          "carpet": [
           {
            "aaxis": {
             "endlinecolor": "#2a3f5f",
             "gridcolor": "white",
             "linecolor": "white",
             "minorgridcolor": "white",
             "startlinecolor": "#2a3f5f"
            },
            "baxis": {
             "endlinecolor": "#2a3f5f",
             "gridcolor": "white",
             "linecolor": "white",
             "minorgridcolor": "white",
             "startlinecolor": "#2a3f5f"
            },
            "type": "carpet"
           }
          ],
          "choropleth": [
           {
            "colorbar": {
             "outlinewidth": 0,
             "ticks": ""
            },
            "type": "choropleth"
           }
          ],
          "contour": [
           {
            "colorbar": {
             "outlinewidth": 0,
             "ticks": ""
            },
            "colorscale": [
             [
              0,
              "#0d0887"
             ],
             [
              0.1111111111111111,
              "#46039f"
             ],
             [
              0.2222222222222222,
              "#7201a8"
             ],
             [
              0.3333333333333333,
              "#9c179e"
             ],
             [
              0.4444444444444444,
              "#bd3786"
             ],
             [
              0.5555555555555556,
              "#d8576b"
             ],
             [
              0.6666666666666666,
              "#ed7953"
             ],
             [
              0.7777777777777778,
              "#fb9f3a"
             ],
             [
              0.8888888888888888,
              "#fdca26"
             ],
             [
              1,
              "#f0f921"
             ]
            ],
            "type": "contour"
           }
          ],
          "contourcarpet": [
           {
            "colorbar": {
             "outlinewidth": 0,
             "ticks": ""
            },
            "type": "contourcarpet"
           }
          ],
          "heatmap": [
           {
            "colorbar": {
             "outlinewidth": 0,
             "ticks": ""
            },
            "colorscale": [
             [
              0,
              "#0d0887"
             ],
             [
              0.1111111111111111,
              "#46039f"
             ],
             [
              0.2222222222222222,
              "#7201a8"
             ],
             [
              0.3333333333333333,
              "#9c179e"
             ],
             [
              0.4444444444444444,
              "#bd3786"
             ],
             [
              0.5555555555555556,
              "#d8576b"
             ],
             [
              0.6666666666666666,
              "#ed7953"
             ],
             [
              0.7777777777777778,
              "#fb9f3a"
             ],
             [
              0.8888888888888888,
              "#fdca26"
             ],
             [
              1,
              "#f0f921"
             ]
            ],
            "type": "heatmap"
           }
          ],
          "histogram": [
           {
            "marker": {
             "pattern": {
              "fillmode": "overlay",
              "size": 10,
              "solidity": 0.2
             }
            },
            "type": "histogram"
           }
          ],
          "histogram2d": [
           {
            "colorbar": {
             "outlinewidth": 0,
             "ticks": ""
            },
            "colorscale": [
             [
              0,
              "#0d0887"
             ],
             [
              0.1111111111111111,
              "#46039f"
             ],
             [
              0.2222222222222222,
              "#7201a8"
             ],
             [
              0.3333333333333333,
              "#9c179e"
             ],
             [
              0.4444444444444444,
              "#bd3786"
             ],
             [
              0.5555555555555556,
              "#d8576b"
             ],
             [
              0.6666666666666666,
              "#ed7953"
             ],
             [
              0.7777777777777778,
              "#fb9f3a"
             ],
             [
              0.8888888888888888,
              "#fdca26"
             ],
             [
              1,
              "#f0f921"
             ]
            ],
            "type": "histogram2d"
           }
          ],
          "histogram2dcontour": [
           {
            "colorbar": {
             "outlinewidth": 0,
             "ticks": ""
            },
            "colorscale": [
             [
              0,
              "#0d0887"
             ],
             [
              0.1111111111111111,
              "#46039f"
             ],
             [
              0.2222222222222222,
              "#7201a8"
             ],
             [
              0.3333333333333333,
              "#9c179e"
             ],
             [
              0.4444444444444444,
              "#bd3786"
             ],
             [
              0.5555555555555556,
              "#d8576b"
             ],
             [
              0.6666666666666666,
              "#ed7953"
             ],
             [
              0.7777777777777778,
              "#fb9f3a"
             ],
             [
              0.8888888888888888,
              "#fdca26"
             ],
             [
              1,
              "#f0f921"
             ]
            ],
            "type": "histogram2dcontour"
           }
          ],
          "mesh3d": [
           {
            "colorbar": {
             "outlinewidth": 0,
             "ticks": ""
            },
            "type": "mesh3d"
           }
          ],
          "parcoords": [
           {
            "line": {
             "colorbar": {
              "outlinewidth": 0,
              "ticks": ""
             }
            },
            "type": "parcoords"
           }
          ],
          "pie": [
           {
            "automargin": true,
            "type": "pie"
           }
          ],
          "scatter": [
           {
            "fillpattern": {
             "fillmode": "overlay",
             "size": 10,
             "solidity": 0.2
            },
            "type": "scatter"
           }
          ],
          "scatter3d": [
           {
            "line": {
             "colorbar": {
              "outlinewidth": 0,
              "ticks": ""
             }
            },
            "marker": {
             "colorbar": {
              "outlinewidth": 0,
              "ticks": ""
             }
            },
            "type": "scatter3d"
           }
          ],
          "scattercarpet": [
           {
            "marker": {
             "colorbar": {
              "outlinewidth": 0,
              "ticks": ""
             }
            },
            "type": "scattercarpet"
           }
          ],
          "scattergeo": [
           {
            "marker": {
             "colorbar": {
              "outlinewidth": 0,
              "ticks": ""
             }
            },
            "type": "scattergeo"
           }
          ],
          "scattergl": [
           {
            "marker": {
             "colorbar": {
              "outlinewidth": 0,
              "ticks": ""
             }
            },
            "type": "scattergl"
           }
          ],
          "scattermap": [
           {
            "marker": {
             "colorbar": {
              "outlinewidth": 0,
              "ticks": ""
             }
            },
            "type": "scattermap"
           }
          ],
          "scattermapbox": [
           {
            "marker": {
             "colorbar": {
              "outlinewidth": 0,
              "ticks": ""
             }
            },
            "type": "scattermapbox"
           }
          ],
          "scatterpolar": [
           {
            "marker": {
             "colorbar": {
              "outlinewidth": 0,
              "ticks": ""
             }
            },
            "type": "scatterpolar"
           }
          ],
          "scatterpolargl": [
           {
            "marker": {
             "colorbar": {
              "outlinewidth": 0,
              "ticks": ""
             }
            },
            "type": "scatterpolargl"
           }
          ],
          "scatterternary": [
           {
            "marker": {
             "colorbar": {
              "outlinewidth": 0,
              "ticks": ""
             }
            },
            "type": "scatterternary"
           }
          ],
          "surface": [
           {
            "colorbar": {
             "outlinewidth": 0,
             "ticks": ""
            },
            "colorscale": [
             [
              0,
              "#0d0887"
             ],
             [
              0.1111111111111111,
              "#46039f"
             ],
             [
              0.2222222222222222,
              "#7201a8"
             ],
             [
              0.3333333333333333,
              "#9c179e"
             ],
             [
              0.4444444444444444,
              "#bd3786"
             ],
             [
              0.5555555555555556,
              "#d8576b"
             ],
             [
              0.6666666666666666,
              "#ed7953"
             ],
             [
              0.7777777777777778,
              "#fb9f3a"
             ],
             [
              0.8888888888888888,
              "#fdca26"
             ],
             [
              1,
              "#f0f921"
             ]
            ],
            "type": "surface"
           }
          ],
          "table": [
           {
            "cells": {
             "fill": {
              "color": "#EBF0F8"
             },
             "line": {
              "color": "white"
             }
            },
            "header": {
             "fill": {
              "color": "#C8D4E3"
             },
             "line": {
              "color": "white"
             }
            },
            "type": "table"
           }
          ]
         },
         "layout": {
          "annotationdefaults": {
           "arrowcolor": "#2a3f5f",
           "arrowhead": 0,
           "arrowwidth": 1
          },
          "autotypenumbers": "strict",
          "coloraxis": {
           "colorbar": {
            "outlinewidth": 0,
            "ticks": ""
           }
          },
          "colorscale": {
           "diverging": [
            [
             0,
             "#8e0152"
            ],
            [
             0.1,
             "#c51b7d"
            ],
            [
             0.2,
             "#de77ae"
            ],
            [
             0.3,
             "#f1b6da"
            ],
            [
             0.4,
             "#fde0ef"
            ],
            [
             0.5,
             "#f7f7f7"
            ],
            [
             0.6,
             "#e6f5d0"
            ],
            [
             0.7,
             "#b8e186"
            ],
            [
             0.8,
             "#7fbc41"
            ],
            [
             0.9,
             "#4d9221"
            ],
            [
             1,
             "#276419"
            ]
           ],
           "sequential": [
            [
             0,
             "#0d0887"
            ],
            [
             0.1111111111111111,
             "#46039f"
            ],
            [
             0.2222222222222222,
             "#7201a8"
            ],
            [
             0.3333333333333333,
             "#9c179e"
            ],
            [
             0.4444444444444444,
             "#bd3786"
            ],
            [
             0.5555555555555556,
             "#d8576b"
            ],
            [
             0.6666666666666666,
             "#ed7953"
            ],
            [
             0.7777777777777778,
             "#fb9f3a"
            ],
            [
             0.8888888888888888,
             "#fdca26"
            ],
            [
             1,
             "#f0f921"
            ]
           ],
           "sequentialminus": [
            [
             0,
             "#0d0887"
            ],
            [
             0.1111111111111111,
             "#46039f"
            ],
            [
             0.2222222222222222,
             "#7201a8"
            ],
            [
             0.3333333333333333,
             "#9c179e"
            ],
            [
             0.4444444444444444,
             "#bd3786"
            ],
            [
             0.5555555555555556,
             "#d8576b"
            ],
            [
             0.6666666666666666,
             "#ed7953"
            ],
            [
             0.7777777777777778,
             "#fb9f3a"
            ],
            [
             0.8888888888888888,
             "#fdca26"
            ],
            [
             1,
             "#f0f921"
            ]
           ]
          },
          "colorway": [
           "#636efa",
           "#EF553B",
           "#00cc96",
           "#ab63fa",
           "#FFA15A",
           "#19d3f3",
           "#FF6692",
           "#B6E880",
           "#FF97FF",
           "#FECB52"
          ],
          "font": {
           "color": "#2a3f5f"
          },
          "geo": {
           "bgcolor": "white",
           "lakecolor": "white",
           "landcolor": "#E5ECF6",
           "showlakes": true,
           "showland": true,
           "subunitcolor": "white"
          },
          "hoverlabel": {
           "align": "left"
          },
          "hovermode": "closest",
          "mapbox": {
           "style": "light"
          },
          "paper_bgcolor": "white",
          "plot_bgcolor": "#E5ECF6",
          "polar": {
           "angularaxis": {
            "gridcolor": "white",
            "linecolor": "white",
            "ticks": ""
           },
           "bgcolor": "#E5ECF6",
           "radialaxis": {
            "gridcolor": "white",
            "linecolor": "white",
            "ticks": ""
           }
          },
          "scene": {
           "xaxis": {
            "backgroundcolor": "#E5ECF6",
            "gridcolor": "white",
            "gridwidth": 2,
            "linecolor": "white",
            "showbackground": true,
            "ticks": "",
            "zerolinecolor": "white"
           },
           "yaxis": {
            "backgroundcolor": "#E5ECF6",
            "gridcolor": "white",
            "gridwidth": 2,
            "linecolor": "white",
            "showbackground": true,
            "ticks": "",
            "zerolinecolor": "white"
           },
           "zaxis": {
            "backgroundcolor": "#E5ECF6",
            "gridcolor": "white",
            "gridwidth": 2,
            "linecolor": "white",
            "showbackground": true,
            "ticks": "",
            "zerolinecolor": "white"
           }
          },
          "shapedefaults": {
           "line": {
            "color": "#2a3f5f"
           }
          },
          "ternary": {
           "aaxis": {
            "gridcolor": "white",
            "linecolor": "white",
            "ticks": ""
           },
           "baxis": {
            "gridcolor": "white",
            "linecolor": "white",
            "ticks": ""
           },
           "bgcolor": "#E5ECF6",
           "caxis": {
            "gridcolor": "white",
            "linecolor": "white",
            "ticks": ""
           }
          },
          "title": {
           "x": 0.05
          },
          "xaxis": {
           "automargin": true,
           "gridcolor": "white",
           "linecolor": "white",
           "ticks": "",
           "title": {
            "standoff": 15
           },
           "zerolinecolor": "white",
           "zerolinewidth": 2
          },
          "yaxis": {
           "automargin": true,
           "gridcolor": "white",
           "linecolor": "white",
           "ticks": "",
           "title": {
            "standoff": 15
           },
           "zerolinecolor": "white",
           "zerolinewidth": 2
          }
         }
        },
        "title": {
         "text": "World Happiness Score by Country"
        },
        "width": 1200
       }
      },
      "text/html": [
       "<div>            <script src=\"https://cdnjs.cloudflare.com/ajax/libs/mathjax/2.7.5/MathJax.js?config=TeX-AMS-MML_SVG\"></script><script type=\"text/javascript\">if (window.MathJax && window.MathJax.Hub && window.MathJax.Hub.Config) {window.MathJax.Hub.Config({SVG: {font: \"STIX-Web\"}});}</script>                <script type=\"text/javascript\">window.PlotlyConfig = {MathJaxConfig: 'local'};</script>\n",
       "        <script charset=\"utf-8\" src=\"https://cdn.plot.ly/plotly-3.0.1.min.js\"></script>                <div id=\"a9eb6425-92c2-441b-84f7-c941e6d80529\" class=\"plotly-graph-div\" style=\"height:600px; width:1200px;\"></div>            <script type=\"text/javascript\">                window.PLOTLYENV=window.PLOTLYENV || {};                                if (document.getElementById(\"a9eb6425-92c2-441b-84f7-c941e6d80529\")) {                    Plotly.newPlot(                        \"a9eb6425-92c2-441b-84f7-c941e6d80529\",                        [{\"coloraxis\":\"coloraxis\",\"geo\":\"geo\",\"hovertemplate\":\"\\u003cb\\u003e%{hovertext}\\u003c\\u002fb\\u003e\\u003cbr\\u003e\\u003cbr\\u003eCountry=%{location}\\u003cbr\\u003eHappiness=%{z}\\u003cextra\\u003e\\u003c\\u002fextra\\u003e\",\"hovertext\":[\"Finland\",\"Denmark\",\"Norway\",\"Iceland\",\"Netherlands\",\"Switzerland\",\"Sweden\",\"New Zealand\",\"Canada\",\"Austria\",\"Australia\",\"Costa Rica\",\"Israel\",\"Luxembourg\",\"United Kingdom\",\"Ireland\",\"Germany\",\"Belgium\",\"United States\",\"United Arab Emirates\",\"Malta\",\"Mexico\",\"France\",\"Chile\",\"Guatemala\",\"Saudi Arabia\",\"Qatar\",\"Spain\",\"Panama\",\"Brazil\",\"Uruguay\",\"Singapore\",\"El Salvador\",\"Italy\",\"Bahrain\",\"Poland\",\"Uzbekistan\",\"Lithuania\",\"Colombia\",\"Slovenia\",\"Nicaragua\",\"Kosovo\",\"Argentina\",\"Romania\",\"Cyprus\",\"Ecuador\",\"Kuwait\",\"Thailand\",\"Latvia\",\"Estonia\",\"Jamaica\",\"Mauritius\",\"Japan\",\"Honduras\",\"Kazakhstan\",\"Bolivia\",\"Hungary\",\"Paraguay\",\"Peru\",\"Portugal\",\"Pakistan\",\"Philippines\",\"Serbia\",\"Moldova\",\"Libya\",\"Montenegro\",\"Tajikistan\",\"Croatia\",\"Dominican Republic\",\"Bosnia and Herzegovina\",\"Malaysia\",\"Belarus\",\"Greece\",\"Mongolia\",\"North Macedonia\",\"Nigeria\",\"Turkmenistan\",\"Algeria\",\"Morocco\",\"Azerbaijan\",\"Lebanon\",\"Indonesia\",\"China\",\"Bhutan\",\"Cameroon\",\"Bulgaria\",\"Ghana\",\"Nepal\",\"Jordan\",\"Benin\",\"Gabon\",\"South Africa\",\"Albania\",\"Cambodia\",\"Senegal\",\"Somalia\",\"Namibia\",\"Niger\",\"Burkina Faso\",\"Armenia\",\"Guinea\",\"Georgia\",\"Kenya\",\"Mauritania\",\"Mozambique\",\"Tunisia\",\"Bangladesh\",\"Iraq\",\"Mali\",\"Sierra Leone\",\"Sri Lanka\",\"Myanmar\",\"Chad\",\"Ukraine\",\"Ethiopia\",\"Uganda\",\"Zambia\",\"Togo\",\"India\",\"Liberia\",\"Comoros\",\"Madagascar\",\"Lesotho\",\"Burundi\",\"Zimbabwe\",\"Haiti\",\"Botswana\",\"Malawi\",\"Rwanda\",\"Tanzania\",\"Afghanistan\",\"Central African Republic\",\"South Sudan\"],\"locationmode\":\"country names\",\"locations\":[\"Finland\",\"Denmark\",\"Norway\",\"Iceland\",\"Netherlands\",\"Switzerland\",\"Sweden\",\"New Zealand\",\"Canada\",\"Austria\",\"Australia\",\"Costa Rica\",\"Israel\",\"Luxembourg\",\"United Kingdom\",\"Ireland\",\"Germany\",\"Belgium\",\"United States\",\"United Arab Emirates\",\"Malta\",\"Mexico\",\"France\",\"Chile\",\"Guatemala\",\"Saudi Arabia\",\"Qatar\",\"Spain\",\"Panama\",\"Brazil\",\"Uruguay\",\"Singapore\",\"El Salvador\",\"Italy\",\"Bahrain\",\"Poland\",\"Uzbekistan\",\"Lithuania\",\"Colombia\",\"Slovenia\",\"Nicaragua\",\"Kosovo\",\"Argentina\",\"Romania\",\"Cyprus\",\"Ecuador\",\"Kuwait\",\"Thailand\",\"Latvia\",\"Estonia\",\"Jamaica\",\"Mauritius\",\"Japan\",\"Honduras\",\"Kazakhstan\",\"Bolivia\",\"Hungary\",\"Paraguay\",\"Peru\",\"Portugal\",\"Pakistan\",\"Philippines\",\"Serbia\",\"Moldova\",\"Libya\",\"Montenegro\",\"Tajikistan\",\"Croatia\",\"Dominican Republic\",\"Bosnia and Herzegovina\",\"Malaysia\",\"Belarus\",\"Greece\",\"Mongolia\",\"North Macedonia\",\"Nigeria\",\"Turkmenistan\",\"Algeria\",\"Morocco\",\"Azerbaijan\",\"Lebanon\",\"Indonesia\",\"China\",\"Bhutan\",\"Cameroon\",\"Bulgaria\",\"Ghana\",\"Nepal\",\"Jordan\",\"Benin\",\"Gabon\",\"South Africa\",\"Albania\",\"Cambodia\",\"Senegal\",\"Somalia\",\"Namibia\",\"Niger\",\"Burkina Faso\",\"Armenia\",\"Guinea\",\"Georgia\",\"Kenya\",\"Mauritania\",\"Mozambique\",\"Tunisia\",\"Bangladesh\",\"Iraq\",\"Mali\",\"Sierra Leone\",\"Sri Lanka\",\"Myanmar\",\"Chad\",\"Ukraine\",\"Ethiopia\",\"Uganda\",\"Zambia\",\"Togo\",\"India\",\"Liberia\",\"Comoros\",\"Madagascar\",\"Lesotho\",\"Burundi\",\"Zimbabwe\",\"Haiti\",\"Botswana\",\"Malawi\",\"Rwanda\",\"Tanzania\",\"Afghanistan\",\"Central African Republic\",\"South Sudan\"],\"name\":\"\",\"z\":{\"dtype\":\"f8\",\"bdata\":\"+n5qvHQTH0BmZmZmZmYeQJ7vp8ZLNx5AYOXQItv5HUDByqFFtvMdQOxRuB6F6x1ArBxaZDtfHUDufD81XjodQOkmMQisHB1AlkOLbOf7HEC28\\u002f3UeOkcQF66SQwCqxxAdZMYBFaOHEBcj8L1KFwcQJ7vp8ZLNxxAL90kBoEVHEBxPQrXo\\u002fAbQP7UeOkmsRtAxSCwcmiRG0DNzMzMzEwbQIGVQ4ts5xpA4XoUrkdhGkCR7Xw\\u002fNV4aQC2yne+nxhlAWDm0yHa+GUAAAAAAAIAZQOXQItv5fhlA0SLb+X5qGUBiEFg5tEgZQDMzMzMzMxlAeekmMQgsGUA\\u002fNV66SQwZQFCNl24SAxlAMQisHFrkGECyne+nxssYQO58PzVeuhhAGQRWDi2yGEB\\u002farx0k5gYQAAAAAAAgBhARrbz\\u002fdR4GEDsUbgehWsYQGZmZmZmZhhA8tJNYhBYGEBI4XoUrkcYQMl2vp8aLxhA6SYxCKwcGEAv3SQGgRUYQNV46SYxCBhAw\\u002fUoXI\\u002fCF0DfT42XbpIXQI\\u002fC9ShcjxdAWmQ730+NF0AlBoGVQ4sXQHE9CtejcBdAI9v5fmo8F0AEVg4tsh0XQNV46SYxCBdARrbz\\u002fdT4FkB9PzVeuskWQBKDwMqhxRZA6SYxCKycFkCgGi\\u002fdJIYWQLbz\\u002fdR4aRZABFYOLbIdFkCamZmZmRkWQGQ730+NFxZAke18PzXeFUDufD81XroVQDMzMzMzsxVAJQaBlUOLFUBCYOXQIlsVQJhuEoPAShVA2c73U+MlFUCkcD0K1yMVQH9qvHSTGBVAj8L1KFwPFUCwcmiR7fwUQPLSTWIQ2BRAokW28\\u002f3UFECiRbbz\\u002fdQUQH0\\u002fNV66yRRA+FPjpZvEFEDdJAaBlcMUQIcW2c73UxRAkxgEVg4tFEAlBoGVQwsUQJZDi2zn+xNA9P3UeOmmE0A5tMh2vp8TQNV46SYxiBNAGQRWDi0yE0AX2c73U+MSQMdLN4lB4BJAzczMzMzMEkDTTWIQWLkSQHnpJjEIrBJAdZMYBFaOEkBQjZduEoMSQAwCK4cWWRJAI9v5fmo8EkCJQWDl0CISQPp+arx0ExJA8KfGSzcJEkD2KFyPwvURQHe+nxov3RFA8tJNYhDYEUBt5\\u002fup8dIRQHNoke18vxFAj8L1KFyPEUDl0CLb+X4RQBBYObTIdhFAcT0K16NwEUBmZmZmZmYRQIcW2c73UxFAvp8aL90kEUCoxks3icEQQCGwcmiRbRBA16NwPQpXEECPwvUoXA8QQM3MzMzMzA9AYhBYObTID0AQWDm0yHYPQNEi2\\u002fl+ag5AMzMzMzMzDkDn+6nx0k0NQC2yne+nxgxAgZVDi2znC0BI4XoUrkcLQHnpJjEIrApADAIrhxbZCUA5tMh2vp8JQESLbOf7qQhAbef7qfHSBkA=\"},\"type\":\"choropleth\"}],                        {\"template\":{\"data\":{\"histogram2dcontour\":[{\"type\":\"histogram2dcontour\",\"colorbar\":{\"outlinewidth\":0,\"ticks\":\"\"},\"colorscale\":[[0.0,\"#0d0887\"],[0.1111111111111111,\"#46039f\"],[0.2222222222222222,\"#7201a8\"],[0.3333333333333333,\"#9c179e\"],[0.4444444444444444,\"#bd3786\"],[0.5555555555555556,\"#d8576b\"],[0.6666666666666666,\"#ed7953\"],[0.7777777777777778,\"#fb9f3a\"],[0.8888888888888888,\"#fdca26\"],[1.0,\"#f0f921\"]]}],\"choropleth\":[{\"type\":\"choropleth\",\"colorbar\":{\"outlinewidth\":0,\"ticks\":\"\"}}],\"histogram2d\":[{\"type\":\"histogram2d\",\"colorbar\":{\"outlinewidth\":0,\"ticks\":\"\"},\"colorscale\":[[0.0,\"#0d0887\"],[0.1111111111111111,\"#46039f\"],[0.2222222222222222,\"#7201a8\"],[0.3333333333333333,\"#9c179e\"],[0.4444444444444444,\"#bd3786\"],[0.5555555555555556,\"#d8576b\"],[0.6666666666666666,\"#ed7953\"],[0.7777777777777778,\"#fb9f3a\"],[0.8888888888888888,\"#fdca26\"],[1.0,\"#f0f921\"]]}],\"heatmap\":[{\"type\":\"heatmap\",\"colorbar\":{\"outlinewidth\":0,\"ticks\":\"\"},\"colorscale\":[[0.0,\"#0d0887\"],[0.1111111111111111,\"#46039f\"],[0.2222222222222222,\"#7201a8\"],[0.3333333333333333,\"#9c179e\"],[0.4444444444444444,\"#bd3786\"],[0.5555555555555556,\"#d8576b\"],[0.6666666666666666,\"#ed7953\"],[0.7777777777777778,\"#fb9f3a\"],[0.8888888888888888,\"#fdca26\"],[1.0,\"#f0f921\"]]}],\"contourcarpet\":[{\"type\":\"contourcarpet\",\"colorbar\":{\"outlinewidth\":0,\"ticks\":\"\"}}],\"contour\":[{\"type\":\"contour\",\"colorbar\":{\"outlinewidth\":0,\"ticks\":\"\"},\"colorscale\":[[0.0,\"#0d0887\"],[0.1111111111111111,\"#46039f\"],[0.2222222222222222,\"#7201a8\"],[0.3333333333333333,\"#9c179e\"],[0.4444444444444444,\"#bd3786\"],[0.5555555555555556,\"#d8576b\"],[0.6666666666666666,\"#ed7953\"],[0.7777777777777778,\"#fb9f3a\"],[0.8888888888888888,\"#fdca26\"],[1.0,\"#f0f921\"]]}],\"surface\":[{\"type\":\"surface\",\"colorbar\":{\"outlinewidth\":0,\"ticks\":\"\"},\"colorscale\":[[0.0,\"#0d0887\"],[0.1111111111111111,\"#46039f\"],[0.2222222222222222,\"#7201a8\"],[0.3333333333333333,\"#9c179e\"],[0.4444444444444444,\"#bd3786\"],[0.5555555555555556,\"#d8576b\"],[0.6666666666666666,\"#ed7953\"],[0.7777777777777778,\"#fb9f3a\"],[0.8888888888888888,\"#fdca26\"],[1.0,\"#f0f921\"]]}],\"mesh3d\":[{\"type\":\"mesh3d\",\"colorbar\":{\"outlinewidth\":0,\"ticks\":\"\"}}],\"scatter\":[{\"fillpattern\":{\"fillmode\":\"overlay\",\"size\":10,\"solidity\":0.2},\"type\":\"scatter\"}],\"parcoords\":[{\"type\":\"parcoords\",\"line\":{\"colorbar\":{\"outlinewidth\":0,\"ticks\":\"\"}}}],\"scatterpolargl\":[{\"type\":\"scatterpolargl\",\"marker\":{\"colorbar\":{\"outlinewidth\":0,\"ticks\":\"\"}}}],\"bar\":[{\"error_x\":{\"color\":\"#2a3f5f\"},\"error_y\":{\"color\":\"#2a3f5f\"},\"marker\":{\"line\":{\"color\":\"#E5ECF6\",\"width\":0.5},\"pattern\":{\"fillmode\":\"overlay\",\"size\":10,\"solidity\":0.2}},\"type\":\"bar\"}],\"scattergeo\":[{\"type\":\"scattergeo\",\"marker\":{\"colorbar\":{\"outlinewidth\":0,\"ticks\":\"\"}}}],\"scatterpolar\":[{\"type\":\"scatterpolar\",\"marker\":{\"colorbar\":{\"outlinewidth\":0,\"ticks\":\"\"}}}],\"histogram\":[{\"marker\":{\"pattern\":{\"fillmode\":\"overlay\",\"size\":10,\"solidity\":0.2}},\"type\":\"histogram\"}],\"scattergl\":[{\"type\":\"scattergl\",\"marker\":{\"colorbar\":{\"outlinewidth\":0,\"ticks\":\"\"}}}],\"scatter3d\":[{\"type\":\"scatter3d\",\"line\":{\"colorbar\":{\"outlinewidth\":0,\"ticks\":\"\"}},\"marker\":{\"colorbar\":{\"outlinewidth\":0,\"ticks\":\"\"}}}],\"scattermap\":[{\"type\":\"scattermap\",\"marker\":{\"colorbar\":{\"outlinewidth\":0,\"ticks\":\"\"}}}],\"scattermapbox\":[{\"type\":\"scattermapbox\",\"marker\":{\"colorbar\":{\"outlinewidth\":0,\"ticks\":\"\"}}}],\"scatterternary\":[{\"type\":\"scatterternary\",\"marker\":{\"colorbar\":{\"outlinewidth\":0,\"ticks\":\"\"}}}],\"scattercarpet\":[{\"type\":\"scattercarpet\",\"marker\":{\"colorbar\":{\"outlinewidth\":0,\"ticks\":\"\"}}}],\"carpet\":[{\"aaxis\":{\"endlinecolor\":\"#2a3f5f\",\"gridcolor\":\"white\",\"linecolor\":\"white\",\"minorgridcolor\":\"white\",\"startlinecolor\":\"#2a3f5f\"},\"baxis\":{\"endlinecolor\":\"#2a3f5f\",\"gridcolor\":\"white\",\"linecolor\":\"white\",\"minorgridcolor\":\"white\",\"startlinecolor\":\"#2a3f5f\"},\"type\":\"carpet\"}],\"table\":[{\"cells\":{\"fill\":{\"color\":\"#EBF0F8\"},\"line\":{\"color\":\"white\"}},\"header\":{\"fill\":{\"color\":\"#C8D4E3\"},\"line\":{\"color\":\"white\"}},\"type\":\"table\"}],\"barpolar\":[{\"marker\":{\"line\":{\"color\":\"#E5ECF6\",\"width\":0.5},\"pattern\":{\"fillmode\":\"overlay\",\"size\":10,\"solidity\":0.2}},\"type\":\"barpolar\"}],\"pie\":[{\"automargin\":true,\"type\":\"pie\"}]},\"layout\":{\"autotypenumbers\":\"strict\",\"colorway\":[\"#636efa\",\"#EF553B\",\"#00cc96\",\"#ab63fa\",\"#FFA15A\",\"#19d3f3\",\"#FF6692\",\"#B6E880\",\"#FF97FF\",\"#FECB52\"],\"font\":{\"color\":\"#2a3f5f\"},\"hovermode\":\"closest\",\"hoverlabel\":{\"align\":\"left\"},\"paper_bgcolor\":\"white\",\"plot_bgcolor\":\"#E5ECF6\",\"polar\":{\"bgcolor\":\"#E5ECF6\",\"angularaxis\":{\"gridcolor\":\"white\",\"linecolor\":\"white\",\"ticks\":\"\"},\"radialaxis\":{\"gridcolor\":\"white\",\"linecolor\":\"white\",\"ticks\":\"\"}},\"ternary\":{\"bgcolor\":\"#E5ECF6\",\"aaxis\":{\"gridcolor\":\"white\",\"linecolor\":\"white\",\"ticks\":\"\"},\"baxis\":{\"gridcolor\":\"white\",\"linecolor\":\"white\",\"ticks\":\"\"},\"caxis\":{\"gridcolor\":\"white\",\"linecolor\":\"white\",\"ticks\":\"\"}},\"coloraxis\":{\"colorbar\":{\"outlinewidth\":0,\"ticks\":\"\"}},\"colorscale\":{\"sequential\":[[0.0,\"#0d0887\"],[0.1111111111111111,\"#46039f\"],[0.2222222222222222,\"#7201a8\"],[0.3333333333333333,\"#9c179e\"],[0.4444444444444444,\"#bd3786\"],[0.5555555555555556,\"#d8576b\"],[0.6666666666666666,\"#ed7953\"],[0.7777777777777778,\"#fb9f3a\"],[0.8888888888888888,\"#fdca26\"],[1.0,\"#f0f921\"]],\"sequentialminus\":[[0.0,\"#0d0887\"],[0.1111111111111111,\"#46039f\"],[0.2222222222222222,\"#7201a8\"],[0.3333333333333333,\"#9c179e\"],[0.4444444444444444,\"#bd3786\"],[0.5555555555555556,\"#d8576b\"],[0.6666666666666666,\"#ed7953\"],[0.7777777777777778,\"#fb9f3a\"],[0.8888888888888888,\"#fdca26\"],[1.0,\"#f0f921\"]],\"diverging\":[[0,\"#8e0152\"],[0.1,\"#c51b7d\"],[0.2,\"#de77ae\"],[0.3,\"#f1b6da\"],[0.4,\"#fde0ef\"],[0.5,\"#f7f7f7\"],[0.6,\"#e6f5d0\"],[0.7,\"#b8e186\"],[0.8,\"#7fbc41\"],[0.9,\"#4d9221\"],[1,\"#276419\"]]},\"xaxis\":{\"gridcolor\":\"white\",\"linecolor\":\"white\",\"ticks\":\"\",\"title\":{\"standoff\":15},\"zerolinecolor\":\"white\",\"automargin\":true,\"zerolinewidth\":2},\"yaxis\":{\"gridcolor\":\"white\",\"linecolor\":\"white\",\"ticks\":\"\",\"title\":{\"standoff\":15},\"zerolinecolor\":\"white\",\"automargin\":true,\"zerolinewidth\":2},\"scene\":{\"xaxis\":{\"backgroundcolor\":\"#E5ECF6\",\"gridcolor\":\"white\",\"linecolor\":\"white\",\"showbackground\":true,\"ticks\":\"\",\"zerolinecolor\":\"white\",\"gridwidth\":2},\"yaxis\":{\"backgroundcolor\":\"#E5ECF6\",\"gridcolor\":\"white\",\"linecolor\":\"white\",\"showbackground\":true,\"ticks\":\"\",\"zerolinecolor\":\"white\",\"gridwidth\":2},\"zaxis\":{\"backgroundcolor\":\"#E5ECF6\",\"gridcolor\":\"white\",\"linecolor\":\"white\",\"showbackground\":true,\"ticks\":\"\",\"zerolinecolor\":\"white\",\"gridwidth\":2}},\"shapedefaults\":{\"line\":{\"color\":\"#2a3f5f\"}},\"annotationdefaults\":{\"arrowcolor\":\"#2a3f5f\",\"arrowhead\":0,\"arrowwidth\":1},\"geo\":{\"bgcolor\":\"white\",\"landcolor\":\"#E5ECF6\",\"subunitcolor\":\"white\",\"showland\":true,\"showlakes\":true,\"lakecolor\":\"white\"},\"title\":{\"x\":0.05},\"mapbox\":{\"style\":\"light\"}}},\"geo\":{\"domain\":{\"x\":[0.0,1.0],\"y\":[0.0,1.0]},\"center\":{},\"projection\":{\"type\":\"natural earth\"},\"showframe\":false,\"showcoastlines\":true},\"coloraxis\":{\"colorbar\":{\"title\":{\"text\":\"Happiness\"}},\"colorscale\":[[0.0,\"#0d0887\"],[0.1111111111111111,\"#46039f\"],[0.2222222222222222,\"#7201a8\"],[0.3333333333333333,\"#9c179e\"],[0.4444444444444444,\"#bd3786\"],[0.5555555555555556,\"#d8576b\"],[0.6666666666666666,\"#ed7953\"],[0.7777777777777778,\"#fb9f3a\"],[0.8888888888888888,\"#fdca26\"],[1.0,\"#f0f921\"]]},\"legend\":{\"tracegroupgap\":0},\"title\":{\"text\":\"World Happiness Score by Country\"},\"height\":600,\"width\":1200,\"margin\":{\"r\":0,\"t\":60,\"l\":0,\"b\":0}},                        {\"responsive\": true}                    ).then(function(){\n",
       "                            \n",
       "var gd = document.getElementById('a9eb6425-92c2-441b-84f7-c941e6d80529');\n",
       "var x = new MutationObserver(function (mutations, observer) {{\n",
       "        var display = window.getComputedStyle(gd).display;\n",
       "        if (!display || display === 'none') {{\n",
       "            console.log([gd, 'removed!']);\n",
       "            Plotly.purge(gd);\n",
       "            observer.disconnect();\n",
       "        }}\n",
       "}});\n",
       "\n",
       "// Listen for the removal of the full notebook cells\n",
       "var notebookContainer = gd.closest('#notebook-container');\n",
       "if (notebookContainer) {{\n",
       "    x.observe(notebookContainer, {childList: true});\n",
       "}}\n",
       "\n",
       "// Listen for the clearing of the current output cell\n",
       "var outputEl = gd.closest('.output');\n",
       "if (outputEl) {{\n",
       "    x.observe(outputEl, {childList: true});\n",
       "}}\n",
       "\n",
       "                        })                };            </script>        </div>"
      ]
     },
     "metadata": {},
     "output_type": "display_data"
    }
   ],
   "source": [
    "import pandas as pd\n",
    "import plotly.express as px\n",
    "\n",
    "df = pd.read_csv('final.csv')\n",
    "\n",
    "fig = px.choropleth(\n",
    "    df,\n",
    "    locations='Country',\n",
    "    locationmode='country names',\n",
    "    color='Happiness',\n",
    "    hover_name='Country',\n",
    "    color_continuous_scale='Plasma',\n",
    "    title='World Happiness Score by Country',\n",
    "    width=1200,\n",
    "    height=600\n",
    ")\n",
    "\n",
    "fig.update_layout(\n",
    "    geo=dict(\n",
    "        showframe=False,\n",
    "        showcoastlines=True,\n",
    "        projection_type='natural earth'\n",
    "    ),\n",
    "    margin={\"r\":0,\"t\":60,\"l\":0,\"b\":0}\n",
    ")\n",
    "\n",
    "fig.show()\n"
   ]
  },
  {
   "cell_type": "code",
   "execution_count": 4,
   "id": "934fee4f",
   "metadata": {},
   "outputs": [
    {
     "data": {
      "application/vnd.plotly.v1+json": {
       "config": {
        "plotlyServerURL": "https://plot.ly"
       },
       "data": [
        {
         "colorbar": {
          "title": {
           "text": "Pearson r"
          }
         },
         "colorscale": [
          [
           0,
           "rgb(103,0,31)"
          ],
          [
           0.1,
           "rgb(178,24,43)"
          ],
          [
           0.2,
           "rgb(214,96,77)"
          ],
          [
           0.3,
           "rgb(244,165,130)"
          ],
          [
           0.4,
           "rgb(253,219,199)"
          ],
          [
           0.5,
           "rgb(247,247,247)"
          ],
          [
           0.6,
           "rgb(209,229,240)"
          ],
          [
           0.7,
           "rgb(146,197,222)"
          ],
          [
           0.8,
           "rgb(67,147,195)"
          ],
          [
           0.9,
           "rgb(33,102,172)"
          ],
          [
           1,
           "rgb(5,48,97)"
          ]
         ],
         "hoverongaps": false,
         "text": [
          [
           "0.77",
           "0.32",
           "-0.25",
           "-0.22",
           "0.18",
           "0.17"
          ]
         ],
         "textfont": {
          "size": 14
         },
         "texttemplate": "%{text}",
         "type": "heatmap",
         "x": [
          "Life_expectancy",
          "Edu_expenditure_pct",
          "Unemployment_rate",
          "Gini_index",
          "GDP_current_usd",
          "GNI_current_usd"
         ],
         "y": [
          "Happiness"
         ],
         "z": [
          [
           0.7736481330602926,
           0.3198404160698538,
           -0.24925055070300098,
           -0.22300973295355409,
           0.17576219514602495,
           0.17481631789653462
          ]
         ],
         "zmax": 1,
         "zmid": 0,
         "zmin": -1
        }
       ],
       "layout": {
        "height": 500,
        "margin": {
         "b": 100,
         "l": 80,
         "r": 80,
         "t": 60
        },
        "template": {
         "data": {
          "bar": [
           {
            "error_x": {
             "color": "#2a3f5f"
            },
            "error_y": {
             "color": "#2a3f5f"
            },
            "marker": {
             "line": {
              "color": "#E5ECF6",
              "width": 0.5
             },
             "pattern": {
              "fillmode": "overlay",
              "size": 10,
              "solidity": 0.2
             }
            },
            "type": "bar"
           }
          ],
          "barpolar": [
           {
            "marker": {
             "line": {
              "color": "#E5ECF6",
              "width": 0.5
             },
             "pattern": {
              "fillmode": "overlay",
              "size": 10,
              "solidity": 0.2
             }
            },
            "type": "barpolar"
           }
          ],
          "carpet": [
           {
            "aaxis": {
             "endlinecolor": "#2a3f5f",
             "gridcolor": "white",
             "linecolor": "white",
             "minorgridcolor": "white",
             "startlinecolor": "#2a3f5f"
            },
            "baxis": {
             "endlinecolor": "#2a3f5f",
             "gridcolor": "white",
             "linecolor": "white",
             "minorgridcolor": "white",
             "startlinecolor": "#2a3f5f"
            },
            "type": "carpet"
           }
          ],
          "choropleth": [
           {
            "colorbar": {
             "outlinewidth": 0,
             "ticks": ""
            },
            "type": "choropleth"
           }
          ],
          "contour": [
           {
            "colorbar": {
             "outlinewidth": 0,
             "ticks": ""
            },
            "colorscale": [
             [
              0,
              "#0d0887"
             ],
             [
              0.1111111111111111,
              "#46039f"
             ],
             [
              0.2222222222222222,
              "#7201a8"
             ],
             [
              0.3333333333333333,
              "#9c179e"
             ],
             [
              0.4444444444444444,
              "#bd3786"
             ],
             [
              0.5555555555555556,
              "#d8576b"
             ],
             [
              0.6666666666666666,
              "#ed7953"
             ],
             [
              0.7777777777777778,
              "#fb9f3a"
             ],
             [
              0.8888888888888888,
              "#fdca26"
             ],
             [
              1,
              "#f0f921"
             ]
            ],
            "type": "contour"
           }
          ],
          "contourcarpet": [
           {
            "colorbar": {
             "outlinewidth": 0,
             "ticks": ""
            },
            "type": "contourcarpet"
           }
          ],
          "heatmap": [
           {
            "colorbar": {
             "outlinewidth": 0,
             "ticks": ""
            },
            "colorscale": [
             [
              0,
              "#0d0887"
             ],
             [
              0.1111111111111111,
              "#46039f"
             ],
             [
              0.2222222222222222,
              "#7201a8"
             ],
             [
              0.3333333333333333,
              "#9c179e"
             ],
             [
              0.4444444444444444,
              "#bd3786"
             ],
             [
              0.5555555555555556,
              "#d8576b"
             ],
             [
              0.6666666666666666,
              "#ed7953"
             ],
             [
              0.7777777777777778,
              "#fb9f3a"
             ],
             [
              0.8888888888888888,
              "#fdca26"
             ],
             [
              1,
              "#f0f921"
             ]
            ],
            "type": "heatmap"
           }
          ],
          "histogram": [
           {
            "marker": {
             "pattern": {
              "fillmode": "overlay",
              "size": 10,
              "solidity": 0.2
             }
            },
            "type": "histogram"
           }
          ],
          "histogram2d": [
           {
            "colorbar": {
             "outlinewidth": 0,
             "ticks": ""
            },
            "colorscale": [
             [
              0,
              "#0d0887"
             ],
             [
              0.1111111111111111,
              "#46039f"
             ],
             [
              0.2222222222222222,
              "#7201a8"
             ],
             [
              0.3333333333333333,
              "#9c179e"
             ],
             [
              0.4444444444444444,
              "#bd3786"
             ],
             [
              0.5555555555555556,
              "#d8576b"
             ],
             [
              0.6666666666666666,
              "#ed7953"
             ],
             [
              0.7777777777777778,
              "#fb9f3a"
             ],
             [
              0.8888888888888888,
              "#fdca26"
             ],
             [
              1,
              "#f0f921"
             ]
            ],
            "type": "histogram2d"
           }
          ],
          "histogram2dcontour": [
           {
            "colorbar": {
             "outlinewidth": 0,
             "ticks": ""
            },
            "colorscale": [
             [
              0,
              "#0d0887"
             ],
             [
              0.1111111111111111,
              "#46039f"
             ],
             [
              0.2222222222222222,
              "#7201a8"
             ],
             [
              0.3333333333333333,
              "#9c179e"
             ],
             [
              0.4444444444444444,
              "#bd3786"
             ],
             [
              0.5555555555555556,
              "#d8576b"
             ],
             [
              0.6666666666666666,
              "#ed7953"
             ],
             [
              0.7777777777777778,
              "#fb9f3a"
             ],
             [
              0.8888888888888888,
              "#fdca26"
             ],
             [
              1,
              "#f0f921"
             ]
            ],
            "type": "histogram2dcontour"
           }
          ],
          "mesh3d": [
           {
            "colorbar": {
             "outlinewidth": 0,
             "ticks": ""
            },
            "type": "mesh3d"
           }
          ],
          "parcoords": [
           {
            "line": {
             "colorbar": {
              "outlinewidth": 0,
              "ticks": ""
             }
            },
            "type": "parcoords"
           }
          ],
          "pie": [
           {
            "automargin": true,
            "type": "pie"
           }
          ],
          "scatter": [
           {
            "fillpattern": {
             "fillmode": "overlay",
             "size": 10,
             "solidity": 0.2
            },
            "type": "scatter"
           }
          ],
          "scatter3d": [
           {
            "line": {
             "colorbar": {
              "outlinewidth": 0,
              "ticks": ""
             }
            },
            "marker": {
             "colorbar": {
              "outlinewidth": 0,
              "ticks": ""
             }
            },
            "type": "scatter3d"
           }
          ],
          "scattercarpet": [
           {
            "marker": {
             "colorbar": {
              "outlinewidth": 0,
              "ticks": ""
             }
            },
            "type": "scattercarpet"
           }
          ],
          "scattergeo": [
           {
            "marker": {
             "colorbar": {
              "outlinewidth": 0,
              "ticks": ""
             }
            },
            "type": "scattergeo"
           }
          ],
          "scattergl": [
           {
            "marker": {
             "colorbar": {
              "outlinewidth": 0,
              "ticks": ""
             }
            },
            "type": "scattergl"
           }
          ],
          "scattermap": [
           {
            "marker": {
             "colorbar": {
              "outlinewidth": 0,
              "ticks": ""
             }
            },
            "type": "scattermap"
           }
          ],
          "scattermapbox": [
           {
            "marker": {
             "colorbar": {
              "outlinewidth": 0,
              "ticks": ""
             }
            },
            "type": "scattermapbox"
           }
          ],
          "scatterpolar": [
           {
            "marker": {
             "colorbar": {
              "outlinewidth": 0,
              "ticks": ""
             }
            },
            "type": "scatterpolar"
           }
          ],
          "scatterpolargl": [
           {
            "marker": {
             "colorbar": {
              "outlinewidth": 0,
              "ticks": ""
             }
            },
            "type": "scatterpolargl"
           }
          ],
          "scatterternary": [
           {
            "marker": {
             "colorbar": {
              "outlinewidth": 0,
              "ticks": ""
             }
            },
            "type": "scatterternary"
           }
          ],
          "surface": [
           {
            "colorbar": {
             "outlinewidth": 0,
             "ticks": ""
            },
            "colorscale": [
             [
              0,
              "#0d0887"
             ],
             [
              0.1111111111111111,
              "#46039f"
             ],
             [
              0.2222222222222222,
              "#7201a8"
             ],
             [
              0.3333333333333333,
              "#9c179e"
             ],
             [
              0.4444444444444444,
              "#bd3786"
             ],
             [
              0.5555555555555556,
              "#d8576b"
             ],
             [
              0.6666666666666666,
              "#ed7953"
             ],
             [
              0.7777777777777778,
              "#fb9f3a"
             ],
             [
              0.8888888888888888,
              "#fdca26"
             ],
             [
              1,
              "#f0f921"
             ]
            ],
            "type": "surface"
           }
          ],
          "table": [
           {
            "cells": {
             "fill": {
              "color": "#EBF0F8"
             },
             "line": {
              "color": "white"
             }
            },
            "header": {
             "fill": {
              "color": "#C8D4E3"
             },
             "line": {
              "color": "white"
             }
            },
            "type": "table"
           }
          ]
         },
         "layout": {
          "annotationdefaults": {
           "arrowcolor": "#2a3f5f",
           "arrowhead": 0,
           "arrowwidth": 1
          },
          "autotypenumbers": "strict",
          "coloraxis": {
           "colorbar": {
            "outlinewidth": 0,
            "ticks": ""
           }
          },
          "colorscale": {
           "diverging": [
            [
             0,
             "#8e0152"
            ],
            [
             0.1,
             "#c51b7d"
            ],
            [
             0.2,
             "#de77ae"
            ],
            [
             0.3,
             "#f1b6da"
            ],
            [
             0.4,
             "#fde0ef"
            ],
            [
             0.5,
             "#f7f7f7"
            ],
            [
             0.6,
             "#e6f5d0"
            ],
            [
             0.7,
             "#b8e186"
            ],
            [
             0.8,
             "#7fbc41"
            ],
            [
             0.9,
             "#4d9221"
            ],
            [
             1,
             "#276419"
            ]
           ],
           "sequential": [
            [
             0,
             "#0d0887"
            ],
            [
             0.1111111111111111,
             "#46039f"
            ],
            [
             0.2222222222222222,
             "#7201a8"
            ],
            [
             0.3333333333333333,
             "#9c179e"
            ],
            [
             0.4444444444444444,
             "#bd3786"
            ],
            [
             0.5555555555555556,
             "#d8576b"
            ],
            [
             0.6666666666666666,
             "#ed7953"
            ],
            [
             0.7777777777777778,
             "#fb9f3a"
            ],
            [
             0.8888888888888888,
             "#fdca26"
            ],
            [
             1,
             "#f0f921"
            ]
           ],
           "sequentialminus": [
            [
             0,
             "#0d0887"
            ],
            [
             0.1111111111111111,
             "#46039f"
            ],
            [
             0.2222222222222222,
             "#7201a8"
            ],
            [
             0.3333333333333333,
             "#9c179e"
            ],
            [
             0.4444444444444444,
             "#bd3786"
            ],
            [
             0.5555555555555556,
             "#d8576b"
            ],
            [
             0.6666666666666666,
             "#ed7953"
            ],
            [
             0.7777777777777778,
             "#fb9f3a"
            ],
            [
             0.8888888888888888,
             "#fdca26"
            ],
            [
             1,
             "#f0f921"
            ]
           ]
          },
          "colorway": [
           "#636efa",
           "#EF553B",
           "#00cc96",
           "#ab63fa",
           "#FFA15A",
           "#19d3f3",
           "#FF6692",
           "#B6E880",
           "#FF97FF",
           "#FECB52"
          ],
          "font": {
           "color": "#2a3f5f"
          },
          "geo": {
           "bgcolor": "white",
           "lakecolor": "white",
           "landcolor": "#E5ECF6",
           "showlakes": true,
           "showland": true,
           "subunitcolor": "white"
          },
          "hoverlabel": {
           "align": "left"
          },
          "hovermode": "closest",
          "mapbox": {
           "style": "light"
          },
          "paper_bgcolor": "white",
          "plot_bgcolor": "#E5ECF6",
          "polar": {
           "angularaxis": {
            "gridcolor": "white",
            "linecolor": "white",
            "ticks": ""
           },
           "bgcolor": "#E5ECF6",
           "radialaxis": {
            "gridcolor": "white",
            "linecolor": "white",
            "ticks": ""
           }
          },
          "scene": {
           "xaxis": {
            "backgroundcolor": "#E5ECF6",
            "gridcolor": "white",
            "gridwidth": 2,
            "linecolor": "white",
            "showbackground": true,
            "ticks": "",
            "zerolinecolor": "white"
           },
           "yaxis": {
            "backgroundcolor": "#E5ECF6",
            "gridcolor": "white",
            "gridwidth": 2,
            "linecolor": "white",
            "showbackground": true,
            "ticks": "",
            "zerolinecolor": "white"
           },
           "zaxis": {
            "backgroundcolor": "#E5ECF6",
            "gridcolor": "white",
            "gridwidth": 2,
            "linecolor": "white",
            "showbackground": true,
            "ticks": "",
            "zerolinecolor": "white"
           }
          },
          "shapedefaults": {
           "line": {
            "color": "#2a3f5f"
           }
          },
          "ternary": {
           "aaxis": {
            "gridcolor": "white",
            "linecolor": "white",
            "ticks": ""
           },
           "baxis": {
            "gridcolor": "white",
            "linecolor": "white",
            "ticks": ""
           },
           "bgcolor": "#E5ECF6",
           "caxis": {
            "gridcolor": "white",
            "linecolor": "white",
            "ticks": ""
           }
          },
          "title": {
           "x": 0.05
          },
          "xaxis": {
           "automargin": true,
           "gridcolor": "white",
           "linecolor": "white",
           "ticks": "",
           "title": {
            "standoff": 15
           },
           "zerolinecolor": "white",
           "zerolinewidth": 2
          },
          "yaxis": {
           "automargin": true,
           "gridcolor": "white",
           "linecolor": "white",
           "ticks": "",
           "title": {
            "standoff": 15
           },
           "zerolinecolor": "white",
           "zerolinewidth": 2
          }
         }
        },
        "title": {
         "text": "Correlations: Happiness vs Other Indicators"
        },
        "xaxis": {
         "tickangle": -45
        },
        "yaxis": {
         "tickfont": {
          "size": 14
         }
        }
       }
      },
      "text/html": [
       "<div>            <script src=\"https://cdnjs.cloudflare.com/ajax/libs/mathjax/2.7.5/MathJax.js?config=TeX-AMS-MML_SVG\"></script><script type=\"text/javascript\">if (window.MathJax && window.MathJax.Hub && window.MathJax.Hub.Config) {window.MathJax.Hub.Config({SVG: {font: \"STIX-Web\"}});}</script>                <script type=\"text/javascript\">window.PlotlyConfig = {MathJaxConfig: 'local'};</script>\n",
       "        <script charset=\"utf-8\" src=\"https://cdn.plot.ly/plotly-3.0.1.min.js\"></script>                <div id=\"e1008d2e-2818-44c0-b39d-4eb0ff960e37\" class=\"plotly-graph-div\" style=\"height:500px; width:100%;\"></div>            <script type=\"text/javascript\">                window.PLOTLYENV=window.PLOTLYENV || {};                                if (document.getElementById(\"e1008d2e-2818-44c0-b39d-4eb0ff960e37\")) {                    Plotly.newPlot(                        \"e1008d2e-2818-44c0-b39d-4eb0ff960e37\",                        [{\"colorbar\":{\"title\":{\"text\":\"Pearson r\"}},\"colorscale\":[[0.0,\"rgb(103,0,31)\"],[0.1,\"rgb(178,24,43)\"],[0.2,\"rgb(214,96,77)\"],[0.3,\"rgb(244,165,130)\"],[0.4,\"rgb(253,219,199)\"],[0.5,\"rgb(247,247,247)\"],[0.6,\"rgb(209,229,240)\"],[0.7,\"rgb(146,197,222)\"],[0.8,\"rgb(67,147,195)\"],[0.9,\"rgb(33,102,172)\"],[1.0,\"rgb(5,48,97)\"]],\"hoverongaps\":false,\"text\":[[\"0.77\",\"0.32\",\"-0.25\",\"-0.22\",\"0.18\",\"0.17\"]],\"textfont\":{\"size\":14},\"texttemplate\":\"%{text}\",\"x\":[\"Life_expectancy\",\"Edu_expenditure_pct\",\"Unemployment_rate\",\"Gini_index\",\"GDP_current_usd\",\"GNI_current_usd\"],\"y\":[\"Happiness\"],\"z\":[[0.7736481330602926,0.3198404160698538,-0.24925055070300098,-0.22300973295355409,0.17576219514602495,0.17481631789653462]],\"zmax\":1,\"zmid\":0,\"zmin\":-1,\"type\":\"heatmap\"}],                        {\"template\":{\"data\":{\"histogram2dcontour\":[{\"type\":\"histogram2dcontour\",\"colorbar\":{\"outlinewidth\":0,\"ticks\":\"\"},\"colorscale\":[[0.0,\"#0d0887\"],[0.1111111111111111,\"#46039f\"],[0.2222222222222222,\"#7201a8\"],[0.3333333333333333,\"#9c179e\"],[0.4444444444444444,\"#bd3786\"],[0.5555555555555556,\"#d8576b\"],[0.6666666666666666,\"#ed7953\"],[0.7777777777777778,\"#fb9f3a\"],[0.8888888888888888,\"#fdca26\"],[1.0,\"#f0f921\"]]}],\"choropleth\":[{\"type\":\"choropleth\",\"colorbar\":{\"outlinewidth\":0,\"ticks\":\"\"}}],\"histogram2d\":[{\"type\":\"histogram2d\",\"colorbar\":{\"outlinewidth\":0,\"ticks\":\"\"},\"colorscale\":[[0.0,\"#0d0887\"],[0.1111111111111111,\"#46039f\"],[0.2222222222222222,\"#7201a8\"],[0.3333333333333333,\"#9c179e\"],[0.4444444444444444,\"#bd3786\"],[0.5555555555555556,\"#d8576b\"],[0.6666666666666666,\"#ed7953\"],[0.7777777777777778,\"#fb9f3a\"],[0.8888888888888888,\"#fdca26\"],[1.0,\"#f0f921\"]]}],\"heatmap\":[{\"type\":\"heatmap\",\"colorbar\":{\"outlinewidth\":0,\"ticks\":\"\"},\"colorscale\":[[0.0,\"#0d0887\"],[0.1111111111111111,\"#46039f\"],[0.2222222222222222,\"#7201a8\"],[0.3333333333333333,\"#9c179e\"],[0.4444444444444444,\"#bd3786\"],[0.5555555555555556,\"#d8576b\"],[0.6666666666666666,\"#ed7953\"],[0.7777777777777778,\"#fb9f3a\"],[0.8888888888888888,\"#fdca26\"],[1.0,\"#f0f921\"]]}],\"contourcarpet\":[{\"type\":\"contourcarpet\",\"colorbar\":{\"outlinewidth\":0,\"ticks\":\"\"}}],\"contour\":[{\"type\":\"contour\",\"colorbar\":{\"outlinewidth\":0,\"ticks\":\"\"},\"colorscale\":[[0.0,\"#0d0887\"],[0.1111111111111111,\"#46039f\"],[0.2222222222222222,\"#7201a8\"],[0.3333333333333333,\"#9c179e\"],[0.4444444444444444,\"#bd3786\"],[0.5555555555555556,\"#d8576b\"],[0.6666666666666666,\"#ed7953\"],[0.7777777777777778,\"#fb9f3a\"],[0.8888888888888888,\"#fdca26\"],[1.0,\"#f0f921\"]]}],\"surface\":[{\"type\":\"surface\",\"colorbar\":{\"outlinewidth\":0,\"ticks\":\"\"},\"colorscale\":[[0.0,\"#0d0887\"],[0.1111111111111111,\"#46039f\"],[0.2222222222222222,\"#7201a8\"],[0.3333333333333333,\"#9c179e\"],[0.4444444444444444,\"#bd3786\"],[0.5555555555555556,\"#d8576b\"],[0.6666666666666666,\"#ed7953\"],[0.7777777777777778,\"#fb9f3a\"],[0.8888888888888888,\"#fdca26\"],[1.0,\"#f0f921\"]]}],\"mesh3d\":[{\"type\":\"mesh3d\",\"colorbar\":{\"outlinewidth\":0,\"ticks\":\"\"}}],\"scatter\":[{\"fillpattern\":{\"fillmode\":\"overlay\",\"size\":10,\"solidity\":0.2},\"type\":\"scatter\"}],\"parcoords\":[{\"type\":\"parcoords\",\"line\":{\"colorbar\":{\"outlinewidth\":0,\"ticks\":\"\"}}}],\"scatterpolargl\":[{\"type\":\"scatterpolargl\",\"marker\":{\"colorbar\":{\"outlinewidth\":0,\"ticks\":\"\"}}}],\"bar\":[{\"error_x\":{\"color\":\"#2a3f5f\"},\"error_y\":{\"color\":\"#2a3f5f\"},\"marker\":{\"line\":{\"color\":\"#E5ECF6\",\"width\":0.5},\"pattern\":{\"fillmode\":\"overlay\",\"size\":10,\"solidity\":0.2}},\"type\":\"bar\"}],\"scattergeo\":[{\"type\":\"scattergeo\",\"marker\":{\"colorbar\":{\"outlinewidth\":0,\"ticks\":\"\"}}}],\"scatterpolar\":[{\"type\":\"scatterpolar\",\"marker\":{\"colorbar\":{\"outlinewidth\":0,\"ticks\":\"\"}}}],\"histogram\":[{\"marker\":{\"pattern\":{\"fillmode\":\"overlay\",\"size\":10,\"solidity\":0.2}},\"type\":\"histogram\"}],\"scattergl\":[{\"type\":\"scattergl\",\"marker\":{\"colorbar\":{\"outlinewidth\":0,\"ticks\":\"\"}}}],\"scatter3d\":[{\"type\":\"scatter3d\",\"line\":{\"colorbar\":{\"outlinewidth\":0,\"ticks\":\"\"}},\"marker\":{\"colorbar\":{\"outlinewidth\":0,\"ticks\":\"\"}}}],\"scattermap\":[{\"type\":\"scattermap\",\"marker\":{\"colorbar\":{\"outlinewidth\":0,\"ticks\":\"\"}}}],\"scattermapbox\":[{\"type\":\"scattermapbox\",\"marker\":{\"colorbar\":{\"outlinewidth\":0,\"ticks\":\"\"}}}],\"scatterternary\":[{\"type\":\"scatterternary\",\"marker\":{\"colorbar\":{\"outlinewidth\":0,\"ticks\":\"\"}}}],\"scattercarpet\":[{\"type\":\"scattercarpet\",\"marker\":{\"colorbar\":{\"outlinewidth\":0,\"ticks\":\"\"}}}],\"carpet\":[{\"aaxis\":{\"endlinecolor\":\"#2a3f5f\",\"gridcolor\":\"white\",\"linecolor\":\"white\",\"minorgridcolor\":\"white\",\"startlinecolor\":\"#2a3f5f\"},\"baxis\":{\"endlinecolor\":\"#2a3f5f\",\"gridcolor\":\"white\",\"linecolor\":\"white\",\"minorgridcolor\":\"white\",\"startlinecolor\":\"#2a3f5f\"},\"type\":\"carpet\"}],\"table\":[{\"cells\":{\"fill\":{\"color\":\"#EBF0F8\"},\"line\":{\"color\":\"white\"}},\"header\":{\"fill\":{\"color\":\"#C8D4E3\"},\"line\":{\"color\":\"white\"}},\"type\":\"table\"}],\"barpolar\":[{\"marker\":{\"line\":{\"color\":\"#E5ECF6\",\"width\":0.5},\"pattern\":{\"fillmode\":\"overlay\",\"size\":10,\"solidity\":0.2}},\"type\":\"barpolar\"}],\"pie\":[{\"automargin\":true,\"type\":\"pie\"}]},\"layout\":{\"autotypenumbers\":\"strict\",\"colorway\":[\"#636efa\",\"#EF553B\",\"#00cc96\",\"#ab63fa\",\"#FFA15A\",\"#19d3f3\",\"#FF6692\",\"#B6E880\",\"#FF97FF\",\"#FECB52\"],\"font\":{\"color\":\"#2a3f5f\"},\"hovermode\":\"closest\",\"hoverlabel\":{\"align\":\"left\"},\"paper_bgcolor\":\"white\",\"plot_bgcolor\":\"#E5ECF6\",\"polar\":{\"bgcolor\":\"#E5ECF6\",\"angularaxis\":{\"gridcolor\":\"white\",\"linecolor\":\"white\",\"ticks\":\"\"},\"radialaxis\":{\"gridcolor\":\"white\",\"linecolor\":\"white\",\"ticks\":\"\"}},\"ternary\":{\"bgcolor\":\"#E5ECF6\",\"aaxis\":{\"gridcolor\":\"white\",\"linecolor\":\"white\",\"ticks\":\"\"},\"baxis\":{\"gridcolor\":\"white\",\"linecolor\":\"white\",\"ticks\":\"\"},\"caxis\":{\"gridcolor\":\"white\",\"linecolor\":\"white\",\"ticks\":\"\"}},\"coloraxis\":{\"colorbar\":{\"outlinewidth\":0,\"ticks\":\"\"}},\"colorscale\":{\"sequential\":[[0.0,\"#0d0887\"],[0.1111111111111111,\"#46039f\"],[0.2222222222222222,\"#7201a8\"],[0.3333333333333333,\"#9c179e\"],[0.4444444444444444,\"#bd3786\"],[0.5555555555555556,\"#d8576b\"],[0.6666666666666666,\"#ed7953\"],[0.7777777777777778,\"#fb9f3a\"],[0.8888888888888888,\"#fdca26\"],[1.0,\"#f0f921\"]],\"sequentialminus\":[[0.0,\"#0d0887\"],[0.1111111111111111,\"#46039f\"],[0.2222222222222222,\"#7201a8\"],[0.3333333333333333,\"#9c179e\"],[0.4444444444444444,\"#bd3786\"],[0.5555555555555556,\"#d8576b\"],[0.6666666666666666,\"#ed7953\"],[0.7777777777777778,\"#fb9f3a\"],[0.8888888888888888,\"#fdca26\"],[1.0,\"#f0f921\"]],\"diverging\":[[0,\"#8e0152\"],[0.1,\"#c51b7d\"],[0.2,\"#de77ae\"],[0.3,\"#f1b6da\"],[0.4,\"#fde0ef\"],[0.5,\"#f7f7f7\"],[0.6,\"#e6f5d0\"],[0.7,\"#b8e186\"],[0.8,\"#7fbc41\"],[0.9,\"#4d9221\"],[1,\"#276419\"]]},\"xaxis\":{\"gridcolor\":\"white\",\"linecolor\":\"white\",\"ticks\":\"\",\"title\":{\"standoff\":15},\"zerolinecolor\":\"white\",\"automargin\":true,\"zerolinewidth\":2},\"yaxis\":{\"gridcolor\":\"white\",\"linecolor\":\"white\",\"ticks\":\"\",\"title\":{\"standoff\":15},\"zerolinecolor\":\"white\",\"automargin\":true,\"zerolinewidth\":2},\"scene\":{\"xaxis\":{\"backgroundcolor\":\"#E5ECF6\",\"gridcolor\":\"white\",\"linecolor\":\"white\",\"showbackground\":true,\"ticks\":\"\",\"zerolinecolor\":\"white\",\"gridwidth\":2},\"yaxis\":{\"backgroundcolor\":\"#E5ECF6\",\"gridcolor\":\"white\",\"linecolor\":\"white\",\"showbackground\":true,\"ticks\":\"\",\"zerolinecolor\":\"white\",\"gridwidth\":2},\"zaxis\":{\"backgroundcolor\":\"#E5ECF6\",\"gridcolor\":\"white\",\"linecolor\":\"white\",\"showbackground\":true,\"ticks\":\"\",\"zerolinecolor\":\"white\",\"gridwidth\":2}},\"shapedefaults\":{\"line\":{\"color\":\"#2a3f5f\"}},\"annotationdefaults\":{\"arrowcolor\":\"#2a3f5f\",\"arrowhead\":0,\"arrowwidth\":1},\"geo\":{\"bgcolor\":\"white\",\"landcolor\":\"#E5ECF6\",\"subunitcolor\":\"white\",\"showland\":true,\"showlakes\":true,\"lakecolor\":\"white\"},\"title\":{\"x\":0.05},\"mapbox\":{\"style\":\"light\"}}},\"xaxis\":{\"tickangle\":-45},\"yaxis\":{\"tickfont\":{\"size\":14}},\"margin\":{\"l\":80,\"r\":80,\"t\":60,\"b\":100},\"title\":{\"text\":\"Correlations: Happiness vs Other Indicators\"},\"height\":500},                        {\"responsive\": true}                    ).then(function(){\n",
       "                            \n",
       "var gd = document.getElementById('e1008d2e-2818-44c0-b39d-4eb0ff960e37');\n",
       "var x = new MutationObserver(function (mutations, observer) {{\n",
       "        var display = window.getComputedStyle(gd).display;\n",
       "        if (!display || display === 'none') {{\n",
       "            console.log([gd, 'removed!']);\n",
       "            Plotly.purge(gd);\n",
       "            observer.disconnect();\n",
       "        }}\n",
       "}});\n",
       "\n",
       "// Listen for the removal of the full notebook cells\n",
       "var notebookContainer = gd.closest('#notebook-container');\n",
       "if (notebookContainer) {{\n",
       "    x.observe(notebookContainer, {childList: true});\n",
       "}}\n",
       "\n",
       "// Listen for the clearing of the current output cell\n",
       "var outputEl = gd.closest('.output');\n",
       "if (outputEl) {{\n",
       "    x.observe(outputEl, {childList: true});\n",
       "}}\n",
       "\n",
       "                        })                };            </script>        </div>"
      ]
     },
     "metadata": {},
     "output_type": "display_data"
    }
   ],
   "source": [
    "import pandas as pd\n",
    "import numpy as np\n",
    "import plotly.graph_objects as go\n",
    "\n",
    "df = pd.read_csv('final.csv')\n",
    "others = [\n",
    "    'GDP_current_usd',\n",
    "    'GNI_current_usd',\n",
    "    'Gini_index',\n",
    "    'Life_expectancy',\n",
    "    'Unemployment_rate',\n",
    "    'Edu_expenditure_pct'\n",
    "]\n",
    "\n",
    "corr_with_hap = df[others].corrwith(df['Happiness'])\n",
    "corr_with_hap = corr_with_hap.reindex(\n",
    "    corr_with_hap.abs().sort_values(ascending=False).index\n",
    ")\n",
    "\n",
    "fig = go.Figure(go.Heatmap(\n",
    "    z=[corr_with_hap.values],\n",
    "    x=corr_with_hap.index,\n",
    "    y=['Happiness'],\n",
    "    zmin=-1, zmid=0, zmax=1,\n",
    "    colorscale='RdBu',\n",
    "    colorbar=dict(title='Pearson r'),\n",
    "    text=[[f\"{v:.2f}\" for v in corr_with_hap.values]],\n",
    "    texttemplate='%{text}',\n",
    "    textfont=dict(size=14),\n",
    "    hoverongaps=False\n",
    "))\n",
    "\n",
    "fig.update_layout(\n",
    "    title=\"Correlations: Happiness vs Other Indicators\",\n",
    "    xaxis_tickangle=-45,\n",
    "    yaxis=dict(tickfont=dict(size=14)),\n",
    "    height=500,\n",
    "    margin=dict(l=80, r=80, t=60, b=100)\n",
    ")\n",
    "\n",
    "fig.show()\n"
   ]
  }
 ],
 "metadata": {
  "kernelspec": {
   "display_name": "jupyterbook",
   "language": "python",
   "name": "python3"
  },
  "language_info": {
   "codemirror_mode": {
    "name": "ipython",
    "version": 3
   },
   "file_extension": ".py",
   "mimetype": "text/x-python",
   "name": "python",
   "nbconvert_exporter": "python",
   "pygments_lexer": "ipython3",
   "version": "3.13.2"
  }
 },
 "nbformat": 4,
 "nbformat_minor": 5
}